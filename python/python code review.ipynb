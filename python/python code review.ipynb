{
 "cells": [
  {
   "cell_type": "markdown",
   "id": "98c2d782",
   "metadata": {},
   "source": [
    "### String"
   ]
  },
  {
   "cell_type": "code",
   "execution_count": 2,
   "id": "01a68dab",
   "metadata": {},
   "outputs": [
    {
     "name": "stdout",
     "output_type": "stream",
     "text": [
      "tale\n"
     ]
    }
   ],
   "source": [
    "txt1 = '  A tale that was not right  '\n",
    "txt2 = '이 또한 지나가리라  '\n",
    "\n",
    "# ---------------------------------\n",
    "\n",
    "# tale을 출력하시오\n",
    "print(txt1[4:8])"
   ]
  },
  {
   "cell_type": "code",
   "execution_count": 3,
   "id": "610d1973",
   "metadata": {},
   "outputs": [
    {
     "name": "stdout",
     "output_type": "stream",
     "text": [
      "지\n"
     ]
    }
   ],
   "source": [
    "# '지'를 출력하시오\n",
    "print(txt2[5])"
   ]
  },
  {
   "cell_type": "code",
   "execution_count": 4,
   "id": "68f3f705",
   "metadata": {},
   "outputs": [
    {
     "data": {
      "text/plain": [
       "3"
      ]
     },
     "execution_count": 4,
     "metadata": {},
     "output_type": "execute_result"
    }
   ],
   "source": [
    "# 'a'는 몇 개가 존재하는가?\n",
    "txt1.count('a')"
   ]
  },
  {
   "cell_type": "code",
   "execution_count": 3,
   "id": "dcd25205",
   "metadata": {},
   "outputs": [
    {
     "name": "stdout",
     "output_type": "stream",
     "text": [
      "7\n"
     ]
    }
   ],
   "source": [
    "# txt1에서 모음의 갯수는 몇 개인가?\n",
    "c = 0\n",
    "for i in txt1:\n",
    "    if i in 'aeiouAEIOU':\n",
    "        c += 1\n",
    "print(c)\n",
    "\n",
    "\n",
    "#=================================\n",
    "# sum = 0\n",
    "# for c in txt1:\n",
    "#     if c in 'aeiouAEIOU' :\n",
    "#         sum += 1\n",
    "# sum"
   ]
  },
  {
   "cell_type": "code",
   "execution_count": 159,
   "id": "3fdaafaa",
   "metadata": {},
   "outputs": [
    {
     "data": {
      "text/plain": [
       "'이 것도 지나가리라  '"
      ]
     },
     "execution_count": 159,
     "metadata": {},
     "output_type": "execute_result"
    }
   ],
   "source": [
    "# '또한'을 '것도'로 수정하시오\n",
    "txt2.replace('또한','것도')\n",
    "\n",
    "\n",
    "#==============\n",
    "# txt2.replace('또한','것도')"
   ]
  },
  {
   "cell_type": "code",
   "execution_count": 6,
   "id": "a5c5b05b",
   "metadata": {},
   "outputs": [
    {
     "name": "stdout",
     "output_type": "stream",
     "text": [
      "  A TALE THAT WAS NOT RIGHT  \n"
     ]
    }
   ],
   "source": [
    "# txt1을 대문자로 출력하시오\n",
    "print(txt1.upper())"
   ]
  },
  {
   "cell_type": "code",
   "execution_count": 7,
   "id": "5bea1507",
   "metadata": {},
   "outputs": [
    {
     "data": {
      "text/plain": [
       "22"
      ]
     },
     "execution_count": 7,
     "metadata": {},
     "output_type": "execute_result"
    }
   ],
   "source": [
    "# txt1에서 right은 몇 번째 인덱스에 등장하는가?\n",
    "txt1.index('right')   # fine 과 차이는 없는 데이터의 인덱스를 찾을때 fine -1, index는 에러 뜸"
   ]
  },
  {
   "cell_type": "code",
   "execution_count": 160,
   "id": "880ed590",
   "metadata": {},
   "outputs": [
    {
     "data": {
      "text/plain": [
       "['', '', 'A', 'tale', 'that', 'was', 'not', 'right', '', '']"
      ]
     },
     "execution_count": 160,
     "metadata": {},
     "output_type": "execute_result"
    }
   ],
   "source": [
    "# txt1을 space를 기준으로 나누어서 리스트에 담으시오\n",
    "txt1.split(' ')\n",
    "\n",
    "# =========\n",
    "#txt1.split('')"
   ]
  },
  {
   "cell_type": "code",
   "execution_count": 12,
   "id": "f2e1b106",
   "metadata": {},
   "outputs": [
    {
     "data": {
      "text/plain": [
       "12"
      ]
     },
     "execution_count": 12,
     "metadata": {},
     "output_type": "execute_result"
    }
   ],
   "source": [
    "# txt2의 길이는 얼마인가?\n",
    "len(txt2)"
   ]
  },
  {
   "cell_type": "code",
   "execution_count": 24,
   "id": "964185ce",
   "metadata": {},
   "outputs": [
    {
     "data": {
      "text/plain": [
       "['이 또한 지나가리라  ']"
      ]
     },
     "execution_count": 24,
     "metadata": {},
     "output_type": "execute_result"
    }
   ],
   "source": [
    "# txt2를 character 단위로 나누어서 리스트에 담으시오\n",
    "txt2.split('character')\n",
    "\n",
    "# ====================\n",
    "# list(txt2)"
   ]
  },
  {
   "cell_type": "code",
   "execution_count": 161,
   "id": "21ffcad4",
   "metadata": {},
   "outputs": [
    {
     "data": {
      "text/plain": [
       "'A tale that was not right'"
      ]
     },
     "execution_count": 161,
     "metadata": {},
     "output_type": "execute_result"
    }
   ],
   "source": [
    "# txt1의 좌우 공백을 제거하시오\n",
    "txt1.strip()\n",
    "\n",
    "\n",
    "# ======================\n",
    "# txt1.strip()"
   ]
  },
  {
   "cell_type": "code",
   "execution_count": 162,
   "id": "002cc62f",
   "metadata": {},
   "outputs": [
    {
     "name": "stdout",
     "output_type": "stream",
     "text": [
      "  라리가나지 한또 이\n"
     ]
    }
   ],
   "source": [
    "# txt2를 역순으로 출력하시오\n",
    "print(txt2[::-1])\n",
    "\n",
    "# =========================\n",
    "# txt2[::-1]"
   ]
  },
  {
   "cell_type": "code",
   "execution_count": 163,
   "id": "aa6faf02",
   "metadata": {},
   "outputs": [
    {
     "data": {
      "text/plain": [
       "'  aeta a o'"
      ]
     },
     "execution_count": 163,
     "metadata": {},
     "output_type": "execute_result"
    }
   ],
   "source": [
    "# txt1에서 짝수 인덱스만 출력하시오\n",
    "txt1[1:20:2]\n",
    "\n",
    "#==================\n",
    "#txt1[1:30:2]"
   ]
  },
  {
   "cell_type": "code",
   "execution_count": 15,
   "id": "11bb5ab0",
   "metadata": {},
   "outputs": [
    {
     "data": {
      "text/plain": [
       "'이 또한 지나가리라  이 또한 지나가리라  '"
      ]
     },
     "execution_count": 15,
     "metadata": {},
     "output_type": "execute_result"
    }
   ],
   "source": [
    "# txt2를 두 번 반복하시오\n",
    "txt2 * 2"
   ]
  },
  {
   "cell_type": "code",
   "execution_count": 16,
   "id": "4d9fcda1",
   "metadata": {},
   "outputs": [
    {
     "data": {
      "text/plain": [
       "'  A tale that was not right  이 또한 지나가리라  '"
      ]
     },
     "execution_count": 16,
     "metadata": {},
     "output_type": "execute_result"
    }
   ],
   "source": [
    "# txt1과 txt2를 연결하여 하나의 문자열로 만드시오\n",
    "txt1 + txt2"
   ]
  },
  {
   "cell_type": "code",
   "execution_count": 18,
   "id": "5bf2160b",
   "metadata": {},
   "outputs": [
    {
     "data": {
      "text/plain": [
       "True"
      ]
     },
     "execution_count": 18,
     "metadata": {},
     "output_type": "execute_result"
    }
   ],
   "source": [
    "# txt1에서 'right'가 존재하는지 확인하시오\n",
    "'right' in txt1"
   ]
  },
  {
   "cell_type": "code",
   "execution_count": 19,
   "id": "0e7bf339",
   "metadata": {},
   "outputs": [
    {
     "data": {
      "text/plain": [
       "'g'"
      ]
     },
     "execution_count": 19,
     "metadata": {},
     "output_type": "execute_result"
    }
   ],
   "source": [
    "# txt1에서 뒤에서 5번째 문자를 출력하시오\n",
    "txt1[-5]"
   ]
  },
  {
   "cell_type": "code",
   "execution_count": 170,
   "id": "0736517d",
   "metadata": {},
   "outputs": [
    {
     "data": {
      "text/plain": [
       "[(0, ' '),\n",
       " (1, ' '),\n",
       " (2, 'A'),\n",
       " (3, ' '),\n",
       " (4, 't'),\n",
       " (5, 'a'),\n",
       " (6, 'l'),\n",
       " (7, 'e'),\n",
       " (8, ' '),\n",
       " (9, 't'),\n",
       " (10, 'h'),\n",
       " (11, 'a'),\n",
       " (12, 't'),\n",
       " (13, ' '),\n",
       " (14, 'w'),\n",
       " (15, 'a'),\n",
       " (16, 's'),\n",
       " (17, ' '),\n",
       " (18, 'n'),\n",
       " (19, 'o'),\n",
       " (20, 't'),\n",
       " (21, ' '),\n",
       " (22, 'r'),\n",
       " (23, 'i'),\n",
       " (24, 'g'),\n",
       " (25, 'h'),\n",
       " (26, 't'),\n",
       " (27, ' '),\n",
       " (28, ' ')]"
      ]
     },
     "execution_count": 170,
     "metadata": {},
     "output_type": "execute_result"
    }
   ],
   "source": [
    "# txt1의 문자를 index와 튜플로 묶어서 리스에 담으시오\n",
    "[(i, c) for i, c in enumerate(txt1)]\n",
    "\n",
    "\n",
    "# lst = []\n",
    "# for i,v in enumerate(txt1):\n",
    "#     lst.append((i,v))\n",
    "# lst\n",
    "\n",
    "\n",
    "# =====================\n",
    "# [(i, c) for i, j i enumerate(txt1)]"
   ]
  },
  {
   "cell_type": "code",
   "execution_count": 164,
   "id": "f295ada5",
   "metadata": {},
   "outputs": [
    {
     "name": "stdout",
     "output_type": "stream",
     "text": [
      "www.naver.com\n"
     ]
    }
   ],
   "source": [
    "url = 'http://www.naver.com/news/today=20221230'\n",
    "#url 중 도메인만 출력하시오\n",
    "print(url.split('/')[2])\n",
    "\n",
    "\n",
    "\n",
    "# =========================\n",
    "# url.split('/')[2]"
   ]
  },
  {
   "cell_type": "code",
   "execution_count": 4,
   "id": "8c54bcf8",
   "metadata": {},
   "outputs": [
    {
     "name": "stdout",
     "output_type": "stream",
     "text": [
      "name => 홍길동\n",
      "age => 17\n",
      "sex => 남성\n",
      "nation => 대한민국\n"
     ]
    }
   ],
   "source": [
    "log = 'name : 홍길동, age : 17, sex : 남성, nation : 대한민국'\n",
    "# 아래와 같이 출력하시오\n",
    "# name =>\n",
    "# age => 17\n",
    "# sex =>\n",
    "\n",
    "\n",
    "for i in log.split(','):\n",
    "    print(i.split(':')[0].strip(), '=>', i.split(':')[1].strip())\n",
    "\n",
    "\n",
    "#========================\n",
    "# for i in log.split(','):\n",
    "#     print(i.split(':')[0].strip(), '=>', i.split(':')[1].strip()\n"
   ]
  },
  {
   "cell_type": "code",
   "execution_count": null,
   "id": "a01b876e",
   "metadata": {},
   "outputs": [],
   "source": []
  },
  {
   "cell_type": "code",
   "execution_count": 32,
   "id": "f782927f",
   "metadata": {},
   "outputs": [
    {
     "data": {
      "text/plain": [
       "\"\\n북한 국방과학원이 11일 극초음속 미사일 시험발사를 진행해 '대성공'했다고 노동당 기관지 노동신문이 12일 보도했다. 김정은 당 총비서도 시험발사 현장에 참관했다. 뉴스1\\n\\n \\n합참은 이날 북한이 동쪽으로 미사일을 쐈다고 밝혔다. 익명을 요구하는 정부 소식통은 “발사지는 자강도며, 11일 미사일과 비슷한 비행을 한 것으로 파악된다”고 말했다.\\n\\n \\n북한은 5, 11일 극초음속 미사일을 발사했다고 밝혔다. 김정은 북한 국무위원장은 11일 발사 때 현장에서 지켜봤다. 북한의 관영매체는 “1000㎞ 수역의 설정 표적을 명중했다”며 “전반적인 기술적 특성들을 최종확증했다”고 당시 보도했다.\\n\\n \\n군 당국은 극초음속 미사일의 실전배치를 위한 마지막 점검 성격의 시험발사 가능성에 주목하고 있다.\\n\""
      ]
     },
     "execution_count": 32,
     "metadata": {},
     "output_type": "execute_result"
    }
   ],
   "source": [
    "text = \"\"\"\n",
    "북한 국방과학원이 11일 극초음속 미사일 시험발사를 진행해 '대성공'했다고 노동당 기관지 노동신문이 12일 보도했다. 김정은 당 총비서도 시험발사 현장에 참관했다. 뉴스1\n",
    "\n",
    " \n",
    "합참은 이날 북한이 동쪽으로 미사일을 쐈다고 밝혔다. 익명을 요구하는 정부 소식통은 “발사지는 자강도며, 11일 미사일과 비슷한 비행을 한 것으로 파악된다”고 말했다.\n",
    "\n",
    " \n",
    "북한은 5, 11일 극초음속 미사일을 발사했다고 밝혔다. 김정은 북한 국무위원장은 11일 발사 때 현장에서 지켜봤다. 북한의 관영매체는 “1000㎞ 수역의 설정 표적을 명중했다”며 “전반적인 기술적 특성들을 최종확증했다”고 당시 보도했다.\n",
    "\n",
    " \n",
    "군 당국은 극초음속 미사일의 실전배치를 위한 마지막 점검 성격의 시험발사 가능성에 주목하고 있다.\n",
    "\"\"\"\n",
    "\n",
    "text"
   ]
  },
  {
   "cell_type": "code",
   "execution_count": null,
   "id": "0d00d01d",
   "metadata": {},
   "outputs": [],
   "source": [
    "# 줄바꿈 \\"
   ]
  },
  {
   "cell_type": "code",
   "execution_count": null,
   "id": "0c7f3545",
   "metadata": {},
   "outputs": [],
   "source": []
  },
  {
   "cell_type": "markdown",
   "id": "0a76aa00",
   "metadata": {},
   "source": [
    "### datatype\n",
    "1. 기본형\n",
    "- int : 95\n",
    "- float : 95.8\n",
    "- bool : True, False\n",
    "2. 군집형 (여러 요소가 모여서 하나의 데이터 형식)\n",
    "- string : '', 요소의 수정, 삭제, 추가 안 됨  순서, 인덱스 존재\n",
    "- list : [], 요소의 수정, 삭제, 추가가 자유로움  순서,인덱스 존재\n",
    "- tuple : (), 요소의 수정, 삭제, 추가가 자유로움 수정하지 않을 값, 보조용 순서, 인덱스 존재\n",
    "- set : {}, 요소의 삭제, 추가가 안됨? 자유로움? 중복요소가 없다. 집합연산 순서,인덱스 없음\n",
    "- dictionary : {key:value}, 요소의 수정, 삭제, 추가가 자유로움, 데이터의 저장(json과 유사) 순서는 없고, 인덱스는 key 역할\n",
    "    "
   ]
  },
  {
   "cell_type": "code",
   "execution_count": null,
   "id": "c7272f9c",
   "metadata": {},
   "outputs": [],
   "source": []
  },
  {
   "cell_type": "markdown",
   "id": "1b4f5b9c",
   "metadata": {},
   "source": [
    "### List"
   ]
  },
  {
   "cell_type": "code",
   "execution_count": 6,
   "id": "da9345f0",
   "metadata": {},
   "outputs": [],
   "source": [
    "score = [81, 90, 78, 'python', 'hello', True, [78, 56, 32], (24,25,3)]"
   ]
  },
  {
   "cell_type": "code",
   "execution_count": 136,
   "id": "813ebcc4",
   "metadata": {},
   "outputs": [
    {
     "data": {
      "text/plain": [
       "'t'"
      ]
     },
     "execution_count": 136,
     "metadata": {},
     "output_type": "execute_result"
    }
   ],
   "source": [
    "# 't'를 출력하시오\n",
    "score[3][2]"
   ]
  },
  {
   "cell_type": "code",
   "execution_count": 81,
   "id": "03591540",
   "metadata": {},
   "outputs": [
    {
     "data": {
      "text/plain": [
       "56"
      ]
     },
     "execution_count": 81,
     "metadata": {},
     "output_type": "execute_result"
    }
   ],
   "source": [
    "# 56을 출력하시오\n",
    "score[6][1]"
   ]
  },
  {
   "cell_type": "code",
   "execution_count": 82,
   "id": "bc8c65a0",
   "metadata": {},
   "outputs": [
    {
     "data": {
      "text/plain": [
       "25"
      ]
     },
     "execution_count": 82,
     "metadata": {},
     "output_type": "execute_result"
    }
   ],
   "source": [
    "# 마지막 요소의 최대값을 출력하시오\n",
    "max(score[-1])"
   ]
  },
  {
   "cell_type": "code",
   "execution_count": 137,
   "id": "5965ca27",
   "metadata": {},
   "outputs": [
    {
     "data": {
      "text/plain": [
       "[81, 90, 78, 'world', 'hello', True, [78, 56, 32], (24, 25, 3)]"
      ]
     },
     "execution_count": 137,
     "metadata": {},
     "output_type": "execute_result"
    }
   ],
   "source": [
    "#'python'을 'world'로 수정하시오\n",
    "# score.replace('python', 'world')\n",
    "\n",
    "#-------------\n",
    "score[3] = 'world'\n",
    "score"
   ]
  },
  {
   "cell_type": "code",
   "execution_count": 138,
   "id": "67ae7dce",
   "metadata": {},
   "outputs": [
    {
     "data": {
      "text/plain": [
       "[81, 90, 78, 'world', 'hello', True, [78, 56, 32], (24, 25, 3), 'sum']"
      ]
     },
     "execution_count": 138,
     "metadata": {},
     "output_type": "execute_result"
    }
   ],
   "source": [
    "# 마지막에 'sun'을 추가하시오\n",
    "score.append('sum')\n",
    "score"
   ]
  },
  {
   "cell_type": "code",
   "execution_count": 139,
   "id": "87f74df2",
   "metadata": {},
   "outputs": [
    {
     "data": {
      "text/plain": [
       "True"
      ]
     },
     "execution_count": 139,
     "metadata": {},
     "output_type": "execute_result"
    }
   ],
   "source": [
    "#'world'가 있는지 확인하시오\n",
    "'world' in score"
   ]
  },
  {
   "cell_type": "code",
   "execution_count": 140,
   "id": "f5167d27",
   "metadata": {},
   "outputs": [
    {
     "data": {
      "text/plain": [
       "[25, 24, 3]"
      ]
     },
     "execution_count": 140,
     "metadata": {},
     "output_type": "execute_result"
    }
   ],
   "source": [
    "# 마지막에서 2번째 요소를 내림차순으로 정렬하시오\n",
    "sorted(score[-2], reverse =True)\n",
    "\n",
    "\n",
    "#------------------\n",
    "# sorted(score[-2], reverse=True)\n",
    "\n",
    "\n",
    "#sort 연습"
   ]
  },
  {
   "cell_type": "code",
   "execution_count": 141,
   "id": "8984df06",
   "metadata": {},
   "outputs": [
    {
     "data": {
      "text/plain": [
       "1"
      ]
     },
     "execution_count": 141,
     "metadata": {},
     "output_type": "execute_result"
    }
   ],
   "source": [
    "# 90은 몇 번째 인덱스에 있는지 확인하시오\n",
    "score.index(90)\n",
    "\n",
    "\n",
    "\n",
    "#------------------\n",
    "# score.index(90)"
   ]
  },
  {
   "cell_type": "code",
   "execution_count": 158,
   "id": "1aaeac68",
   "metadata": {},
   "outputs": [
    {
     "data": {
      "text/plain": [
       "['hello', False, 'sea', '78:56:32', (24, 25, 3), 'sum']"
      ]
     },
     "execution_count": 158,
     "metadata": {},
     "output_type": "execute_result"
    }
   ],
   "source": [
    "# 리스트를 역순으로 정렬하시오\n",
    "score.reverse()\n",
    "score\n",
    "\n",
    "\n",
    "\n",
    "#-------------------\n",
    "# score.reverse()\n",
    "# score"
   ]
  },
  {
   "cell_type": "code",
   "execution_count": 143,
   "id": "62c1921b",
   "metadata": {},
   "outputs": [
    {
     "data": {
      "text/plain": [
       "['sum', (24, 25, 3), [78, 56, 32], 'sea', True, 'hello', 'world', 78, 90, 81]"
      ]
     },
     "execution_count": 143,
     "metadata": {},
     "output_type": "execute_result"
    }
   ],
   "source": [
    "# 3번째 인덱스에 'sea'를 추가하시오\n",
    "score.insert(3,'sea')\n",
    "score\n",
    "\n",
    "\n",
    "#-------------------\n",
    "# score.insert(0. 'sea')"
   ]
  },
  {
   "cell_type": "code",
   "execution_count": 144,
   "id": "acb2cec4",
   "metadata": {},
   "outputs": [
    {
     "data": {
      "text/plain": [
       "['sum', (24, 25, 3), [78, 56, 32], 'sea', False, 'hello', 'world', 78, 90, 81]"
      ]
     },
     "execution_count": 144,
     "metadata": {},
     "output_type": "execute_result"
    }
   ],
   "source": [
    "# True를 False로 수정하시오\n",
    "# score[5] = 'False'\n",
    "# score\n",
    "\n",
    "\n",
    "#-----------------\n",
    "score[score.index(True)] = False\n",
    "score"
   ]
  },
  {
   "cell_type": "code",
   "execution_count": 145,
   "id": "e402fdcc",
   "metadata": {},
   "outputs": [
    {
     "data": {
      "text/plain": [
       "['sum', (24, 25, 3), [78, 56, 32], 'sea', False, 'hello', 78, 90, 81]"
      ]
     },
     "execution_count": 145,
     "metadata": {},
     "output_type": "execute_result"
    }
   ],
   "source": [
    "# 'world'를 제거하시오\n",
    "score.remove('world')\n",
    "score\n",
    "\n",
    "\n",
    "#--------------------------------\n",
    "# score.remove('world')\n",
    "# score"
   ]
  },
  {
   "cell_type": "code",
   "execution_count": 147,
   "id": "97c01f1e",
   "metadata": {},
   "outputs": [
    {
     "data": {
      "text/plain": [
       "90"
      ]
     },
     "execution_count": 147,
     "metadata": {},
     "output_type": "execute_result"
    }
   ],
   "source": [
    "# 7번째 요소를 제거하시오\n",
    "score.pop(7)\n",
    "\n",
    "\n",
    "\n",
    "#----------------------------------\n",
    "#score.pop(7)"
   ]
  },
  {
   "cell_type": "code",
   "execution_count": 153,
   "id": "e94736c2",
   "metadata": {},
   "outputs": [
    {
     "data": {
      "text/plain": [
       "['sum', (24, 25, 3), '78:56:32', 'sea', False, 'hello']"
      ]
     },
     "execution_count": 153,
     "metadata": {},
     "output_type": "execute_result"
    }
   ],
   "source": [
    "# 마지막 요소를 제거하시오\n",
    "score.pop()\n",
    "score\n",
    "\n",
    "\n",
    "\n",
    "#---------------------------------\n",
    "# socre.pop()"
   ]
  },
  {
   "cell_type": "code",
   "execution_count": 154,
   "id": "ffec13e8",
   "metadata": {},
   "outputs": [
    {
     "data": {
      "text/plain": [
       "6"
      ]
     },
     "execution_count": 154,
     "metadata": {},
     "output_type": "execute_result"
    }
   ],
   "source": [
    "# 리스트의 길이를 출력하시오\n",
    "len(score)"
   ]
  },
  {
   "cell_type": "code",
   "execution_count": 155,
   "id": "048c0696",
   "metadata": {},
   "outputs": [
    {
     "data": {
      "text/plain": [
       "tuple"
      ]
     },
     "execution_count": 155,
     "metadata": {},
     "output_type": "execute_result"
    }
   ],
   "source": [
    "# 두번째 요소의 데이터타입을 출력하시오\n",
    "type(score[1])\n",
    "\n",
    "\n",
    "#----------------------------\n",
    "type(score[1])"
   ]
  },
  {
   "cell_type": "code",
   "execution_count": 104,
   "id": "c975ac75",
   "metadata": {},
   "outputs": [
    {
     "data": {
      "text/plain": [
       "'78:56:32'"
      ]
     },
     "execution_count": 104,
     "metadata": {},
     "output_type": "execute_result"
    }
   ],
   "source": [
    "':'.join([str(s) for s in [78, 56, 32]])"
   ]
  },
  {
   "cell_type": "code",
   "execution_count": 7,
   "id": "a33c12e5",
   "metadata": {},
   "outputs": [
    {
     "ename": "ValueError",
     "evalue": "[78, 56, 32] is not in list",
     "output_type": "error",
     "traceback": [
      "\u001b[1;31m---------------------------------------------------------------------------\u001b[0m",
      "\u001b[1;31mValueError\u001b[0m                                Traceback (most recent call last)",
      "\u001b[1;32m~\\AppData\\Local\\Temp/ipykernel_10796/2656701629.py\u001b[0m in \u001b[0;36m<module>\u001b[1;34m\u001b[0m\n\u001b[0;32m      5\u001b[0m \u001b[1;33m\u001b[0m\u001b[0m\n\u001b[0;32m      6\u001b[0m \u001b[1;31m#------------------------\u001b[0m\u001b[1;33m\u001b[0m\u001b[1;33m\u001b[0m\u001b[0m\n\u001b[1;32m----> 7\u001b[1;33m \u001b[0mscore\u001b[0m\u001b[1;33m[\u001b[0m\u001b[0mscore\u001b[0m\u001b[1;33m.\u001b[0m\u001b[0mindex\u001b[0m\u001b[1;33m(\u001b[0m\u001b[1;33m[\u001b[0m\u001b[1;36m78\u001b[0m\u001b[1;33m,\u001b[0m \u001b[1;36m56\u001b[0m\u001b[1;33m,\u001b[0m \u001b[1;36m32\u001b[0m\u001b[1;33m]\u001b[0m\u001b[1;33m)\u001b[0m\u001b[1;33m]\u001b[0m \u001b[1;33m=\u001b[0m \u001b[1;34m':'\u001b[0m\u001b[1;33m.\u001b[0m\u001b[0mjoin\u001b[0m\u001b[1;33m(\u001b[0m\u001b[1;33m[\u001b[0m\u001b[0mstr\u001b[0m\u001b[1;33m(\u001b[0m\u001b[0ms\u001b[0m\u001b[1;33m)\u001b[0m \u001b[1;32mfor\u001b[0m \u001b[0ms\u001b[0m \u001b[1;32min\u001b[0m \u001b[1;33m[\u001b[0m\u001b[1;36m78\u001b[0m\u001b[1;33m,\u001b[0m \u001b[1;36m56\u001b[0m\u001b[1;33m,\u001b[0m \u001b[1;36m32\u001b[0m\u001b[1;33m]\u001b[0m\u001b[1;33m]\u001b[0m\u001b[1;33m)\u001b[0m\u001b[1;33m\u001b[0m\u001b[1;33m\u001b[0m\u001b[0m\n\u001b[0m",
      "\u001b[1;31mValueError\u001b[0m: [78, 56, 32] is not in list"
     ]
    }
   ],
   "source": [
    "#[78, 56, 32]를 '78:56:32'로 수정하시오\n",
    "score[score.index([78,56,32])] = ':'.join([str(s) for s in [78, 56, 32]])\n",
    "\n",
    "\n",
    "\n",
    "#------------------------\n",
    "score[score.index([78, 56, 32])] = ':'.join([str(s) for s in [78, 56, 32]])"
   ]
  },
  {
   "cell_type": "code",
   "execution_count": 157,
   "id": "01df3925",
   "metadata": {},
   "outputs": [
    {
     "ename": "AttributeError",
     "evalue": "'list' object has no attribute 'clrea'",
     "output_type": "error",
     "traceback": [
      "\u001b[1;31m---------------------------------------------------------------------------\u001b[0m",
      "\u001b[1;31mAttributeError\u001b[0m                            Traceback (most recent call last)",
      "\u001b[1;32m~\\AppData\\Local\\Temp/ipykernel_4500/1476042953.py\u001b[0m in \u001b[0;36m<module>\u001b[1;34m\u001b[0m\n\u001b[0;32m      1\u001b[0m \u001b[1;31m# 모든 원소를 제거하시오\u001b[0m\u001b[1;33m\u001b[0m\u001b[1;33m\u001b[0m\u001b[0m\n\u001b[1;32m----> 2\u001b[1;33m \u001b[0mscore\u001b[0m\u001b[1;33m.\u001b[0m\u001b[0mclrea\u001b[0m\u001b[1;33m(\u001b[0m\u001b[1;33m)\u001b[0m\u001b[1;33m\u001b[0m\u001b[1;33m\u001b[0m\u001b[0m\n\u001b[0m\u001b[0;32m      3\u001b[0m \u001b[1;33m\u001b[0m\u001b[0m\n\u001b[0;32m      4\u001b[0m \u001b[1;33m\u001b[0m\u001b[0m\n\u001b[0;32m      5\u001b[0m \u001b[1;33m\u001b[0m\u001b[0m\n",
      "\u001b[1;31mAttributeError\u001b[0m: 'list' object has no attribute 'clrea'"
     ]
    }
   ],
   "source": [
    "# 모든 원소를 제거하시오\n",
    "score.clear()\n",
    "\n",
    "\n",
    "\n",
    "\n",
    "#---------------\n",
    "# score.clear()"
   ]
  },
  {
   "cell_type": "code",
   "execution_count": null,
   "id": "c3412a6f",
   "metadata": {},
   "outputs": [],
   "source": [
    "# 리스트를 삭제하시오\n",
    "\n",
    "del score\n",
    "\n",
    "\n",
    "#---------------------\n",
    "del score"
   ]
  },
  {
   "cell_type": "code",
   "execution_count": null,
   "id": "70f19c6d",
   "metadata": {},
   "outputs": [],
   "source": []
  },
  {
   "cell_type": "code",
   "execution_count": null,
   "id": "d9a12216",
   "metadata": {},
   "outputs": [],
   "source": []
  },
  {
   "cell_type": "code",
   "execution_count": null,
   "id": "3d68f666",
   "metadata": {},
   "outputs": [],
   "source": []
  },
  {
   "cell_type": "code",
   "execution_count": null,
   "id": "1221f342",
   "metadata": {},
   "outputs": [],
   "source": []
  }
 ],
 "metadata": {
  "kernelspec": {
   "display_name": "Python 3 (ipykernel)",
   "language": "python",
   "name": "python3"
  },
  "language_info": {
   "codemirror_mode": {
    "name": "ipython",
    "version": 3
   },
   "file_extension": ".py",
   "mimetype": "text/x-python",
   "name": "python",
   "nbconvert_exporter": "python",
   "pygments_lexer": "ipython3",
   "version": "3.9.7"
  }
 },
 "nbformat": 4,
 "nbformat_minor": 5
}
