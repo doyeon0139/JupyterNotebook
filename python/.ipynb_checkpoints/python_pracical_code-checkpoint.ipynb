{
 "cells": [
  {
   "cell_type": "code",
   "execution_count": null,
   "id": "7aab6baa",
   "metadata": {},
   "outputs": [],
   "source": []
  },
  {
   "cell_type": "code",
   "execution_count": null,
   "id": "c6518cc4",
   "metadata": {},
   "outputs": [],
   "source": [
    "# quiz1"
   ]
  },
  {
   "cell_type": "code",
   "execution_count": null,
   "id": "d330d472",
   "metadata": {},
   "outputs": [],
   "source": [
    "# 7자리 이상의 임의의 정수를 입력받은 후, 1000단위 구별자를 추가하여 리턴하는 코드를 작성하시오   12346789 => 12,346,789"
   ]
  },
  {
   "cell_type": "markdown",
   "id": "cf9ec3d1",
   "metadata": {},
   "source": [
    "# num = input('7자리 이상의 정수를 입력하세요')\n",
    "\n",
    "num = num[::-1]\n",
    "ret = ''\n",
    "\n",
    "for i, c in enumerate(num):\n",
    "    \n",
    "    i= i+1\n",
    "    \n",
    "    if i%3 == 0: & (i != len(num)):\n",
    "        ret +=c + ','\n",
    "    else:\n",
    "        ret += c\n",
    "        \n",
    "ret = ret[::-1]\n",
    "        \n",
    "print(ret)\n",
    "\n",
    "# print(format(num, ','))"
   ]
  },
  {
   "cell_type": "code",
   "execution_count": 13,
   "id": "42b677dc",
   "metadata": {},
   "outputs": [
    {
     "ename": "SyntaxError",
     "evalue": "invalid syntax (Temp/ipykernel_3796/103068244.py, line 2)",
     "output_type": "error",
     "traceback": [
      "\u001b[1;36m  File \u001b[1;32m\"C:\\Users\\bitcamp\\AppData\\Local\\Temp/ipykernel_3796/103068244.py\"\u001b[1;36m, line \u001b[1;32m2\u001b[0m\n\u001b[1;33m    num = num[::-1] ret = ''\u001b[0m\n\u001b[1;37m                    ^\u001b[0m\n\u001b[1;31mSyntaxError\u001b[0m\u001b[1;31m:\u001b[0m invalid syntax\n"
     ]
    }
   ],
   "source": [
    "num = input('7자리 이상의 정수를 입력하세요')\n",
    "num = num[::-1] ret = ''\n",
    "\n",
    "for i, c in enumerate(num):\n",
    "\n",
    "i= i+1\n",
    "\n",
    "if i%3 == 0: & (i != len(num)):\n",
    "    ret +=c + ','\n",
    "else:\n",
    "    ret += c\n",
    "ret = ret[::-1]\n",
    "\n",
    "print(ret)\n",
    "\n",
    "print(format(num, ','))"
   ]
  },
  {
   "cell_type": "code",
   "execution_count": null,
   "id": "203b629f",
   "metadata": {},
   "outputs": [],
   "source": []
  },
  {
   "cell_type": "code",
   "execution_count": 8,
   "id": "696c8620",
   "metadata": {},
   "outputs": [
    {
     "name": "stdout",
     "output_type": "stream",
     "text": [
      "<_io.TextIOWrapper name='mydata.txt' mode='r' encoding='cp949'>\n"
     ]
    }
   ],
   "source": [
    "# text file을 열어서 어떤 문자가 몇 번 등자했는지를 출력\n",
    "#  등장 빈도순으로 출력\n",
    "# 가 -> 256회\n",
    "#'1'\n",
    "\n",
    "file  = open('mydata.txt', 'r')\n",
    "\n",
    "print(file)\n",
    "\n"
   ]
  },
  {
   "cell_type": "code",
   "execution_count": null,
   "id": "8ea54b6e",
   "metadata": {},
   "outputs": [],
   "source": []
  },
  {
   "cell_type": "code",
   "execution_count": 9,
   "id": "b8732ad2",
   "metadata": {},
   "outputs": [
    {
     "name": "stdout",
     "output_type": "stream",
     "text": [
      "' ' 등장횟수 : 3\n",
      "'나' 등장횟수 : 2\n",
      "'라' 등장횟수 : 2\n",
      "'\n",
      "' 등장횟수 : 2\n",
      "'우' 등장횟수 : 1\n",
      "'리' 등장횟수 : 1\n",
      "'좋' 등장횟수 : 1\n",
      "'은' 등장횟수 : 1\n",
      "'대' 등장횟수 : 1\n",
      "'한' 등장횟수 : 1\n",
      "'독' 등장횟수 : 1\n",
      "'립' 등장횟수 : 1\n",
      "'만' 등장횟수 : 1\n",
      "'세' 등장횟수 : 1\n"
     ]
    }
   ],
   "source": [
    "with open('mydata.txt', 'r') as f:\n",
    "    text = f.read()\n",
    "    \n",
    "char = {}\n",
    "\n",
    "for c in text:\n",
    "    \n",
    "    if c in char:\n",
    "        char[c] += 1\n",
    "    else:\n",
    "        char[c] = 1\n",
    "        \n",
    "char = sorted(char.items(), key=lambda x: x[1], reverse=True)\n",
    "\n",
    "for i,j in char[:20]:\n",
    "    print(\"'{}' 등장횟수 : {}\".format(i, j))"
   ]
  },
  {
   "cell_type": "code",
   "execution_count": null,
   "id": "6209be2f",
   "metadata": {},
   "outputs": [],
   "source": []
  },
  {
   "cell_type": "code",
   "execution_count": null,
   "id": "c7f5d60a",
   "metadata": {},
   "outputs": [],
   "source": []
  },
  {
   "cell_type": "code",
   "execution_count": null,
   "id": "e3c9f0cb",
   "metadata": {},
   "outputs": [],
   "source": []
  },
  {
   "cell_type": "code",
   "execution_count": null,
   "id": "cea7c573",
   "metadata": {},
   "outputs": [],
   "source": []
  },
  {
   "cell_type": "code",
   "execution_count": null,
   "id": "8e0d1f20",
   "metadata": {},
   "outputs": [],
   "source": []
  },
  {
   "cell_type": "code",
   "execution_count": null,
   "id": "5e44d73a",
   "metadata": {},
   "outputs": [],
   "source": []
  }
 ],
 "metadata": {
  "kernelspec": {
   "display_name": "Python 3 (ipykernel)",
   "language": "python",
   "name": "python3"
  },
  "language_info": {
   "codemirror_mode": {
    "name": "ipython",
    "version": 3
   },
   "file_extension": ".py",
   "mimetype": "text/x-python",
   "name": "python",
   "nbconvert_exporter": "python",
   "pygments_lexer": "ipython3",
   "version": "3.9.7"
  }
 },
 "nbformat": 4,
 "nbformat_minor": 5
}
