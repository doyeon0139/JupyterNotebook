{
 "cells": [
  {
   "cell_type": "code",
   "execution_count": null,
   "id": "9a6cd045",
   "metadata": {},
   "outputs": [],
   "source": [
    "#  class\n",
    "\n",
    "#  자주 함께 사용하는 함수들과 변수들을 하나의 덩어리로 묶어서 사용하자..\n",
    "# class -  함수와 변수들의 덩어리.. 원본.. 보존\n",
    "# class 사용 - class를 복사해서 사용.. => class를 복사한 것(instance)\n",
    "# class를 복사 => instance를 생성한다. 객체를 생성..\n",
    "\n",
    "# class 내에 있는 함수 - 메소드(method)\n",
    "# class 내에 있는 변수 - 속성(attribute)\n",
    "\n",
    "# class - 붕어빵 기계. instance - 붕어빵\n"
   ]
  },
  {
   "cell_type": "code",
   "execution_count": 1,
   "id": "b346c505",
   "metadata": {},
   "outputs": [
    {
     "name": "stdout",
     "output_type": "stream",
     "text": [
      "====================\n",
      "name : yona\n",
      "Email : yona@hanmail.net\n",
      "address : Seoul\n",
      "====================\n"
     ]
    }
   ],
   "source": [
    "#  명함을 찍는 코드\n",
    "\n",
    "print('='*20)\n",
    "print('name : {}'.format('yona'))\n",
    "print('Email : {}'.format('yona@hanmail.net'))\n",
    "print('address : {}'.format('Seoul'))\n",
    "print('='*20)"
   ]
  },
  {
   "cell_type": "code",
   "execution_count": 2,
   "id": "0b33db29",
   "metadata": {},
   "outputs": [],
   "source": [
    "def businessCard():\n",
    "    print('='*20)\n",
    "    print('name : {}'.format('yona'))\n",
    "    print('Email : {}'.format('yona@hanmail.net'))\n",
    "    print('address : {}'.format('Seoul'))\n",
    "    print('='*20)"
   ]
  },
  {
   "cell_type": "code",
   "execution_count": 6,
   "id": "470610c2",
   "metadata": {},
   "outputs": [
    {
     "name": "stdout",
     "output_type": "stream",
     "text": [
      "====================\n",
      "name : yona\n",
      "Email : yona@hanmail.net\n",
      "address : Seoul\n",
      "====================\n"
     ]
    }
   ],
   "source": [
    "businessCard()"
   ]
  },
  {
   "cell_type": "code",
   "execution_count": null,
   "id": "25915873",
   "metadata": {},
   "outputs": [],
   "source": [
    "# 매겨변수"
   ]
  },
  {
   "cell_type": "code",
   "execution_count": 9,
   "id": "d1ebcfb6",
   "metadata": {},
   "outputs": [],
   "source": [
    "def businessCard(name,email,address):\n",
    "    print('='*20)\n",
    "    print('name : {}'.format(name))\n",
    "    print('Email : {}'.format(email))\n",
    "    print('address : {}'.format(address))\n",
    "    print('='*20)"
   ]
  },
  {
   "cell_type": "code",
   "execution_count": 11,
   "id": "9ebdb0ea",
   "metadata": {},
   "outputs": [
    {
     "name": "stdout",
     "output_type": "stream",
     "text": [
      "====================\n",
      "name : yona\n",
      "Email : yona@hanmail.net\n",
      "address : Seoul\n",
      "====================\n"
     ]
    }
   ],
   "source": [
    "name = 'yona'\n",
    "email = 'yona@hanmail.net'\n",
    "address = 'Seoul'\n",
    "\n",
    "businessCard(name,email,address)"
   ]
  },
  {
   "cell_type": "code",
   "execution_count": null,
   "id": "fb6f2573",
   "metadata": {},
   "outputs": [],
   "source": []
  },
  {
   "cell_type": "code",
   "execution_count": 12,
   "id": "6eb6772b",
   "metadata": {},
   "outputs": [],
   "source": [
    "# class - 함께 사용하는 변수와 함수들을 묶자\n",
    "# 메소드 self 라는 매개변수를 받는다 - 인스턴스 메소드\n",
    "# 변수도 앞에 self를 붙인다 - 인스턴스 변수\n",
    "\n",
    "# self - 인스턴스의 주소값"
   ]
  },
  {
   "cell_type": "code",
   "execution_count": 23,
   "id": "66c495b8",
   "metadata": {},
   "outputs": [],
   "source": [
    "class BusinessCard:\n",
    "    name = 'yona'\n",
    "    email = 'yona@hanmail.net'\n",
    "    address = 'Seoul'\n",
    "    \n",
    "    def BusinessCard(self,name,email,address):\n",
    "        print('='*20)\n",
    "        print('name : {}'.format(name))\n",
    "        print('Email : {}'.format(email))\n",
    "        print('address : {}'.format(address))\n",
    "        print('='*20)"
   ]
  },
  {
   "cell_type": "code",
   "execution_count": 24,
   "id": "e27ff111",
   "metadata": {},
   "outputs": [
    {
     "name": "stdout",
     "output_type": "stream",
     "text": [
      "====================\n",
      "name : park\n",
      "Email : park@naver.com\n",
      "address : seoul\n",
      "====================\n"
     ]
    }
   ],
   "source": [
    "bc = BusinessCard()\n",
    "bc.BusinessCard('park', 'park@naver.com', 'seoul')"
   ]
  },
  {
   "cell_type": "code",
   "execution_count": 10,
   "id": "07f87266",
   "metadata": {},
   "outputs": [],
   "source": [
    "class BusinessCard:\n",
    "    def set_info(self, name, email, address):\n",
    "        self.name = name   #self.변수 - 인스턴스 변수(특정 인스턴스 내에서만 공유되는 변수)\n",
    "        self.email = email\n",
    "        self.address = address\n",
    "    \n",
    "    def BusinessCard(self):\n",
    "        print('='*20)\n",
    "        print('name : {}'.format(self.name))\n",
    "        print('Email : {}'.format(self.email))\n",
    "        print('address : {}'.format(self.address))\n",
    "        print('='*20)"
   ]
  },
  {
   "cell_type": "code",
   "execution_count": 16,
   "id": "a4160511",
   "metadata": {},
   "outputs": [],
   "source": [
    "bc = BusinessCard()"
   ]
  },
  {
   "cell_type": "code",
   "execution_count": 20,
   "id": "b94d365c",
   "metadata": {},
   "outputs": [],
   "source": [
    "# 인스턴스는 class를 복사한 것 - class 내의 모든 메소드, 속성들을 복사해 옴\n",
    "# 인스턴스에서 복사해 온 class의 메소드나 변수를 사용할 때 '.' => 접근자\n",
    "bc.set_info('yuna', 'yona@naver.com', 'seoul')"
   ]
  },
  {
   "cell_type": "code",
   "execution_count": 21,
   "id": "ad638ba5",
   "metadata": {},
   "outputs": [
    {
     "name": "stdout",
     "output_type": "stream",
     "text": [
      "====================\n",
      "name : yuna\n",
      "Email : yona@naver.com\n",
      "address : seoul\n",
      "====================\n"
     ]
    }
   ],
   "source": [
    "bc.BusinessCard()"
   ]
  },
  {
   "cell_type": "code",
   "execution_count": 22,
   "id": "41b6c12e",
   "metadata": {},
   "outputs": [],
   "source": [
    "bc1 = BusinessCard()"
   ]
  },
  {
   "cell_type": "code",
   "execution_count": 23,
   "id": "fc16ebe0",
   "metadata": {},
   "outputs": [
    {
     "name": "stdout",
     "output_type": "stream",
     "text": [
      "====================\n",
      "name : park\n",
      "Email : yona@naver.com\n",
      "address : seoul\n",
      "====================\n"
     ]
    }
   ],
   "source": [
    "bc1.set_info('park', 'yona@naver.com', 'seoul')\n",
    "bc1.BusinessCard()"
   ]
  },
  {
   "cell_type": "code",
   "execution_count": 24,
   "id": "94bea352",
   "metadata": {},
   "outputs": [
    {
     "name": "stdout",
     "output_type": "stream",
     "text": [
      "====================\n"
     ]
    },
    {
     "ename": "AttributeError",
     "evalue": "'BusinessCard' object has no attribute 'name'",
     "output_type": "error",
     "traceback": [
      "\u001b[1;31m---------------------------------------------------------------------------\u001b[0m",
      "\u001b[1;31mAttributeError\u001b[0m                            Traceback (most recent call last)",
      "\u001b[1;32m~\\AppData\\Local\\Temp/ipykernel_1112/2008738796.py\u001b[0m in \u001b[0;36m<module>\u001b[1;34m\u001b[0m\n\u001b[0;32m      1\u001b[0m \u001b[0mbc2\u001b[0m \u001b[1;33m=\u001b[0m \u001b[0mBusinessCard\u001b[0m\u001b[1;33m(\u001b[0m\u001b[1;33m)\u001b[0m\u001b[1;33m\u001b[0m\u001b[1;33m\u001b[0m\u001b[0m\n\u001b[1;32m----> 2\u001b[1;33m \u001b[0mbc2\u001b[0m\u001b[1;33m.\u001b[0m\u001b[0mBusinessCard\u001b[0m\u001b[1;33m(\u001b[0m\u001b[1;33m)\u001b[0m\u001b[1;33m\u001b[0m\u001b[1;33m\u001b[0m\u001b[0m\n\u001b[0m",
      "\u001b[1;32m~\\AppData\\Local\\Temp/ipykernel_1112/4021267286.py\u001b[0m in \u001b[0;36mBusinessCard\u001b[1;34m(self)\u001b[0m\n\u001b[0;32m      7\u001b[0m     \u001b[1;32mdef\u001b[0m \u001b[0mBusinessCard\u001b[0m\u001b[1;33m(\u001b[0m\u001b[0mself\u001b[0m\u001b[1;33m)\u001b[0m\u001b[1;33m:\u001b[0m\u001b[1;33m\u001b[0m\u001b[1;33m\u001b[0m\u001b[0m\n\u001b[0;32m      8\u001b[0m         \u001b[0mprint\u001b[0m\u001b[1;33m(\u001b[0m\u001b[1;34m'='\u001b[0m\u001b[1;33m*\u001b[0m\u001b[1;36m20\u001b[0m\u001b[1;33m)\u001b[0m\u001b[1;33m\u001b[0m\u001b[1;33m\u001b[0m\u001b[0m\n\u001b[1;32m----> 9\u001b[1;33m         \u001b[0mprint\u001b[0m\u001b[1;33m(\u001b[0m\u001b[1;34m'name : {}'\u001b[0m\u001b[1;33m.\u001b[0m\u001b[0mformat\u001b[0m\u001b[1;33m(\u001b[0m\u001b[0mself\u001b[0m\u001b[1;33m.\u001b[0m\u001b[0mname\u001b[0m\u001b[1;33m)\u001b[0m\u001b[1;33m)\u001b[0m\u001b[1;33m\u001b[0m\u001b[1;33m\u001b[0m\u001b[0m\n\u001b[0m\u001b[0;32m     10\u001b[0m         \u001b[0mprint\u001b[0m\u001b[1;33m(\u001b[0m\u001b[1;34m'Email : {}'\u001b[0m\u001b[1;33m.\u001b[0m\u001b[0mformat\u001b[0m\u001b[1;33m(\u001b[0m\u001b[0mself\u001b[0m\u001b[1;33m.\u001b[0m\u001b[0memail\u001b[0m\u001b[1;33m)\u001b[0m\u001b[1;33m)\u001b[0m\u001b[1;33m\u001b[0m\u001b[1;33m\u001b[0m\u001b[0m\n\u001b[0;32m     11\u001b[0m         \u001b[0mprint\u001b[0m\u001b[1;33m(\u001b[0m\u001b[1;34m'address : {}'\u001b[0m\u001b[1;33m.\u001b[0m\u001b[0mformat\u001b[0m\u001b[1;33m(\u001b[0m\u001b[0mself\u001b[0m\u001b[1;33m.\u001b[0m\u001b[0maddress\u001b[0m\u001b[1;33m)\u001b[0m\u001b[1;33m)\u001b[0m\u001b[1;33m\u001b[0m\u001b[1;33m\u001b[0m\u001b[0m\n",
      "\u001b[1;31mAttributeError\u001b[0m: 'BusinessCard' object has no attribute 'name'"
     ]
    }
   ],
   "source": [
    "bc2 = BusinessCard()    #에러\n",
    "bc2.BusinessCard()"
   ]
  },
  {
   "cell_type": "code",
   "execution_count": 25,
   "id": "ad9c6754",
   "metadata": {},
   "outputs": [
    {
     "name": "stdout",
     "output_type": "stream",
     "text": [
      "====================\n",
      "name : kim\n",
      "Email : yona@naver.com\n",
      "address : seoul\n",
      "====================\n"
     ]
    }
   ],
   "source": [
    "bc2 = BusinessCard()\n",
    "bc2.set_info('kim', 'yona@naver.com', 'seoul')\n",
    "bc2.BusinessCard()"
   ]
  },
  {
   "cell_type": "code",
   "execution_count": 90,
   "id": "a0a0125a",
   "metadata": {},
   "outputs": [],
   "source": [
    "# class를 사용하기 위해서 필요한 값들은 클래스로 복사하는 순간(인스턴스 생성)에 강제로 입력하도록 만들자\n",
    "\n",
    "# => 클래스가 복사되는 순간  set_info()함수가 강제로 실행되도록\n",
    "# => 생성자 함수 : 클래스가 복사되는 순간 강제로 실행되는 함수\n",
    "\n",
    "\n",
    "class BusinessCard:\n",
    "    def __init__(self, name, email, address):\n",
    "        self.name = name   #self.변수 - 인스턴스 변수(특정 인스턴스 내에서만 공유되는 변수)\n",
    "        self.email = email\n",
    "        self.address = address\n",
    "    \n",
    "    def BusinessCard(self,name,email,address):\n",
    "        print('='*20)\n",
    "        print('name : {}'.format(self.name))\n",
    "        print('Email : {}'.format(self.email))\n",
    "        print('address : {}'.format(self.address))\n",
    "        print('='*20)\n",
    "        \n",
    "        "
   ]
  },
  {
   "cell_type": "code",
   "execution_count": null,
   "id": "1ce272bf",
   "metadata": {},
   "outputs": [],
   "source": []
  },
  {
   "cell_type": "code",
   "execution_count": 91,
   "id": "ce5c8dfc",
   "metadata": {},
   "outputs": [
    {
     "ename": "TypeError",
     "evalue": "__init__() missing 3 required positional arguments: 'name', 'email', and 'address'",
     "output_type": "error",
     "traceback": [
      "\u001b[1;31m---------------------------------------------------------------------------\u001b[0m",
      "\u001b[1;31mTypeError\u001b[0m                                 Traceback (most recent call last)",
      "\u001b[1;32m~\\AppData\\Local\\Temp/ipykernel_9456/2066529231.py\u001b[0m in \u001b[0;36m<module>\u001b[1;34m\u001b[0m\n\u001b[0;32m      1\u001b[0m \u001b[1;31m# instance 생성 순간.. __init__함수 실행 => __init__함수가 필요로 하는 매개변수를 넘겨줘야 에러가 안남\u001b[0m\u001b[1;33m\u001b[0m\u001b[1;33m\u001b[0m\u001b[0m\n\u001b[0;32m      2\u001b[0m \u001b[1;33m\u001b[0m\u001b[0m\n\u001b[1;32m----> 3\u001b[1;33m \u001b[0mbc\u001b[0m \u001b[1;33m=\u001b[0m \u001b[0mBusinessCard\u001b[0m\u001b[1;33m(\u001b[0m\u001b[1;33m)\u001b[0m\u001b[1;33m\u001b[0m\u001b[1;33m\u001b[0m\u001b[0m\n\u001b[0m",
      "\u001b[1;31mTypeError\u001b[0m: __init__() missing 3 required positional arguments: 'name', 'email', and 'address'"
     ]
    }
   ],
   "source": [
    "# instance 생성 순간.. __init__함수 실행 => __init__함수가 필요로 하는 매개변수를 넘겨줘야 에러가 안남\n",
    "\n",
    "bc = BusinessCard()"
   ]
  },
  {
   "cell_type": "code",
   "execution_count": 99,
   "id": "9fb83532",
   "metadata": {},
   "outputs": [
    {
     "ename": "SyntaxError",
     "evalue": "EOL while scanning string literal (Temp/ipykernel_9456/2132737068.py, line 1)",
     "output_type": "error",
     "traceback": [
      "\u001b[1;36m  File \u001b[1;32m\"C:\\Users\\bitcamp\\AppData\\Local\\Temp/ipykernel_9456/2132737068.py\"\u001b[1;36m, line \u001b[1;32m1\u001b[0m\n\u001b[1;33m    bc = BusinessCard('kim', 'yona@naver.com', 'seoul)\u001b[0m\n\u001b[1;37m                                                      ^\u001b[0m\n\u001b[1;31mSyntaxError\u001b[0m\u001b[1;31m:\u001b[0m EOL while scanning string literal\n"
     ]
    }
   ],
   "source": [
    "bc = BusinessCard('kim', 'yona@naver.com', 'seoul)\n",
    "bc.name"
   ]
  },
  {
   "cell_type": "code",
   "execution_count": 56,
   "id": "33bd4e76",
   "metadata": {},
   "outputs": [
    {
     "ename": "TypeError",
     "evalue": "BusinessCard() missing 3 required positional arguments: 'name', 'email', and 'address'",
     "output_type": "error",
     "traceback": [
      "\u001b[1;31m---------------------------------------------------------------------------\u001b[0m",
      "\u001b[1;31mTypeError\u001b[0m                                 Traceback (most recent call last)",
      "\u001b[1;32m~\\AppData\\Local\\Temp/ipykernel_9456/3444357694.py\u001b[0m in \u001b[0;36m<module>\u001b[1;34m\u001b[0m\n\u001b[1;32m----> 1\u001b[1;33m \u001b[0mbc\u001b[0m\u001b[1;33m.\u001b[0m\u001b[0mBusinessCard\u001b[0m\u001b[1;33m(\u001b[0m\u001b[1;33m)\u001b[0m\u001b[1;33m\u001b[0m\u001b[1;33m\u001b[0m\u001b[0m\n\u001b[0m",
      "\u001b[1;31mTypeError\u001b[0m: BusinessCard() missing 3 required positional arguments: 'name', 'email', and 'address'"
     ]
    }
   ],
   "source": [
    "bc.BusinessCard()"
   ]
  },
  {
   "cell_type": "code",
   "execution_count": null,
   "id": "4b77d8f7",
   "metadata": {},
   "outputs": [],
   "source": [
    "# class 변수\n",
    "# 특정 인스턴스, 내부가 아닌, 모든 인스턴스에서 공유하는 변수\n",
    "# 클래스 변수의 정의 - 클래스 내에서 변수 앞에 self를 쓰지 않으면 class변수로 정의\n",
    "# 클래스 변수에 접근할 때는 클래스 병으로 접근\n",
    "# 인스턴스 변수로 클래스 변수에 접근하는 경우, 동일 이름의 인스턴스 변수가 없으면 가능\n",
    "\n",
    "# 인스턴스 변수 - 특정 인스턴스 내에서만 공유되는 변수"
   ]
  },
  {
   "cell_type": "code",
   "execution_count": null,
   "id": "e98c27e6",
   "metadata": {},
   "outputs": [],
   "source": [
    "# class 변수"
   ]
  },
  {
   "cell_type": "code",
   "execution_count": 86,
   "id": "2df49205",
   "metadata": {},
   "outputs": [],
   "source": [
    "class circle:\n",
    "    pi = 3.14 # 클래스 변수\n",
    "    \n",
    "    def __init__(self, radius):\n",
    "        self.radius = radius\n",
    "        \n",
    "    def area(self):\n",
    "        circle_area = circle.pi * pow(self.radius, 2) # 클래스명.클래스변수\n",
    "        return circle_area\n",
    "    \n",
    "    def perimeter(self):\n",
    "        circle_perimeter = circle.pi*2*self.radius\n",
    "        return circle_perimeter"
   ]
  },
  {
   "cell_type": "code",
   "execution_count": 87,
   "id": "06210d1d",
   "metadata": {},
   "outputs": [
    {
     "data": {
      "text/plain": [
       "12.56"
      ]
     },
     "execution_count": 87,
     "metadata": {},
     "output_type": "execute_result"
    }
   ],
   "source": [
    "cir = circle(2)\n",
    "cir.area()"
   ]
  },
  {
   "cell_type": "code",
   "execution_count": 88,
   "id": "db8d9d77",
   "metadata": {},
   "outputs": [
    {
     "data": {
      "text/plain": [
       "12.56"
      ]
     },
     "execution_count": 88,
     "metadata": {},
     "output_type": "execute_result"
    }
   ],
   "source": [
    "cir.area()"
   ]
  },
  {
   "cell_type": "code",
   "execution_count": 85,
   "id": "afcd5d65",
   "metadata": {},
   "outputs": [
    {
     "data": {
      "text/plain": [
       "12.56"
      ]
     },
     "execution_count": 85,
     "metadata": {},
     "output_type": "execute_result"
    }
   ],
   "source": [
    "cir.perimeter()"
   ]
  },
  {
   "cell_type": "code",
   "execution_count": 95,
   "id": "662f50ec",
   "metadata": {},
   "outputs": [],
   "source": [
    "cir1 = circle(3)"
   ]
  },
  {
   "cell_type": "code",
   "execution_count": 96,
   "id": "5abfe3b1",
   "metadata": {},
   "outputs": [
    {
     "data": {
      "text/plain": [
       "3"
      ]
     },
     "execution_count": 96,
     "metadata": {},
     "output_type": "execute_result"
    }
   ],
   "source": [
    "cir1.radius   #인스턴스 변수"
   ]
  },
  {
   "cell_type": "code",
   "execution_count": 97,
   "id": "c698d1ea",
   "metadata": {},
   "outputs": [
    {
     "data": {
      "text/plain": [
       "3.14"
      ]
     },
     "execution_count": 97,
     "metadata": {},
     "output_type": "execute_result"
    }
   ],
   "source": [
    "cir.pi   #"
   ]
  },
  {
   "cell_type": "code",
   "execution_count": 98,
   "id": "ddc1c419",
   "metadata": {},
   "outputs": [
    {
     "data": {
      "text/plain": [
       "3.14"
      ]
     },
     "execution_count": 98,
     "metadata": {},
     "output_type": "execute_result"
    }
   ],
   "source": [
    "circle.pi"
   ]
  },
  {
   "cell_type": "code",
   "execution_count": null,
   "id": "9244a513",
   "metadata": {},
   "outputs": [],
   "source": []
  },
  {
   "cell_type": "code",
   "execution_count": null,
   "id": "3157864f",
   "metadata": {},
   "outputs": [],
   "source": [
    "# 상속.."
   ]
  },
  {
   "cell_type": "code",
   "execution_count": 100,
   "id": "912758af",
   "metadata": {},
   "outputs": [],
   "source": [
    "class Parent:\n",
    "    def can_sing(self):\n",
    "        print('sing a song')"
   ]
  },
  {
   "cell_type": "code",
   "execution_count": 101,
   "id": "041621e5",
   "metadata": {},
   "outputs": [],
   "source": [
    "p = Parent()"
   ]
  },
  {
   "cell_type": "code",
   "execution_count": 102,
   "id": "ae88f769",
   "metadata": {},
   "outputs": [
    {
     "name": "stdout",
     "output_type": "stream",
     "text": [
      "sing a song\n"
     ]
    }
   ],
   "source": [
    "p.can_sing()"
   ]
  },
  {
   "cell_type": "code",
   "execution_count": null,
   "id": "303c848c",
   "metadata": {},
   "outputs": [],
   "source": []
  },
  {
   "cell_type": "code",
   "execution_count": 104,
   "id": "2c304a65",
   "metadata": {},
   "outputs": [],
   "source": [
    "# Parent class를 상속 => Parent class의 모든 요소를 가져옴\n",
    "\n",
    "class Child(Parent):  \n",
    "    pass"
   ]
  },
  {
   "cell_type": "code",
   "execution_count": 105,
   "id": "a78ae434",
   "metadata": {},
   "outputs": [],
   "source": [
    "c = Child()"
   ]
  },
  {
   "cell_type": "code",
   "execution_count": 106,
   "id": "a518b5f2",
   "metadata": {},
   "outputs": [
    {
     "name": "stdout",
     "output_type": "stream",
     "text": [
      "sing a song\n"
     ]
    }
   ],
   "source": [
    "c.can_sing()"
   ]
  },
  {
   "cell_type": "code",
   "execution_count": 107,
   "id": "a293746a",
   "metadata": {},
   "outputs": [],
   "source": [
    "class Child(Parent):  \n",
    "    def can_dance(self):\n",
    "        print('play dacing')"
   ]
  },
  {
   "cell_type": "code",
   "execution_count": 108,
   "id": "87fa6d3e",
   "metadata": {},
   "outputs": [],
   "source": [
    "c = Child()"
   ]
  },
  {
   "cell_type": "code",
   "execution_count": 109,
   "id": "312a083a",
   "metadata": {},
   "outputs": [
    {
     "name": "stdout",
     "output_type": "stream",
     "text": [
      "sing a song\n"
     ]
    }
   ],
   "source": [
    "c.can_sing()  # 부모 클래스로부터 상속 받은 메소드"
   ]
  },
  {
   "cell_type": "code",
   "execution_count": 111,
   "id": "2d1604ac",
   "metadata": {},
   "outputs": [
    {
     "name": "stdout",
     "output_type": "stream",
     "text": [
      "play dacing\n"
     ]
    }
   ],
   "source": [
    "c.can_dance() # 자신의 메소드"
   ]
  },
  {
   "cell_type": "code",
   "execution_count": null,
   "id": "53a1e73b",
   "metadata": {},
   "outputs": [],
   "source": [
    "# quiz\n",
    "# 임의 정수 2개를 인스턴스 변수로 받은 후\n",
    "# 사칙연산의 메소드를 가진 클래스를 정의하고\n",
    "# 객체를 만들어서 메소드를 실행하시오"
   ]
  },
  {
   "cell_type": "code",
   "execution_count": 186,
   "id": "4d4a05a3",
   "metadata": {},
   "outputs": [],
   "source": [
    "class sp:\n",
    "    \n",
    "    def __init__(self, num1, num2):\n",
    "        self.num1 = num1\n",
    "        self.num2 = num2\n",
    "        \n",
    "    def addf(self):\n",
    "        re = self.num1 + self.num2\n",
    "        return re\n",
    "    \n",
    "    def subf(self):\n",
    "        return self.num1 - self.num2\n",
    "    \n",
    "    def divf(self):\n",
    "        return self.num1 / self.num2\n",
    "    \n",
    "    def mulf(self):\n",
    "        return self.num1 * self.num2\n",
    "    "
   ]
  },
  {
   "cell_type": "code",
   "execution_count": 187,
   "id": "271578ba",
   "metadata": {},
   "outputs": [],
   "source": [
    "s = sp(2,3)"
   ]
  },
  {
   "cell_type": "code",
   "execution_count": 188,
   "id": "96a37cd2",
   "metadata": {},
   "outputs": [
    {
     "data": {
      "text/plain": [
       "5"
      ]
     },
     "execution_count": 188,
     "metadata": {},
     "output_type": "execute_result"
    }
   ],
   "source": [
    "s.addf()"
   ]
  },
  {
   "cell_type": "code",
   "execution_count": 189,
   "id": "8fecee6c",
   "metadata": {},
   "outputs": [
    {
     "data": {
      "text/plain": [
       "0.6666666666666666"
      ]
     },
     "execution_count": 189,
     "metadata": {},
     "output_type": "execute_result"
    }
   ],
   "source": [
    "s.divf()"
   ]
  },
  {
   "cell_type": "code",
   "execution_count": null,
   "id": "d0b09149",
   "metadata": {},
   "outputs": [],
   "source": []
  },
  {
   "cell_type": "code",
   "execution_count": 196,
   "id": "b38aafa6",
   "metadata": {},
   "outputs": [],
   "source": [
    "class FourCal1(sp) :\n",
    "    def powf(self):\n",
    "        result = self.num1**self.num2\n",
    "        return result"
   ]
  },
  {
   "cell_type": "code",
   "execution_count": 197,
   "id": "9de77c2c",
   "metadata": {},
   "outputs": [],
   "source": [
    "fc = sp(2,4)"
   ]
  },
  {
   "cell_type": "code",
   "execution_count": 194,
   "id": "07bed484",
   "metadata": {},
   "outputs": [
    {
     "data": {
      "text/plain": [
       "0.5"
      ]
     },
     "execution_count": 194,
     "metadata": {},
     "output_type": "execute_result"
    }
   ],
   "source": [
    "fc.divf()"
   ]
  },
  {
   "cell_type": "code",
   "execution_count": 198,
   "id": "76a5349c",
   "metadata": {},
   "outputs": [
    {
     "ename": "AttributeError",
     "evalue": "'sp' object has no attribute 'powf'",
     "output_type": "error",
     "traceback": [
      "\u001b[1;31m---------------------------------------------------------------------------\u001b[0m",
      "\u001b[1;31mAttributeError\u001b[0m                            Traceback (most recent call last)",
      "\u001b[1;32m~\\AppData\\Local\\Temp/ipykernel_9456/3813791365.py\u001b[0m in \u001b[0;36m<module>\u001b[1;34m\u001b[0m\n\u001b[1;32m----> 1\u001b[1;33m \u001b[0mfc\u001b[0m\u001b[1;33m.\u001b[0m\u001b[0mpowf\u001b[0m\u001b[1;33m(\u001b[0m\u001b[1;33m)\u001b[0m\u001b[1;33m\u001b[0m\u001b[1;33m\u001b[0m\u001b[0m\n\u001b[0m",
      "\u001b[1;31mAttributeError\u001b[0m: 'sp' object has no attribute 'powf'"
     ]
    }
   ],
   "source": [
    "fc.powf()"
   ]
  },
  {
   "cell_type": "code",
   "execution_count": 165,
   "id": "184325f0",
   "metadata": {},
   "outputs": [],
   "source": [
    "fc = sp(2,0)"
   ]
  },
  {
   "cell_type": "code",
   "execution_count": null,
   "id": "ee5d12ad",
   "metadata": {},
   "outputs": [],
   "source": [
    "fc.divf  #분모가 0이라 에러"
   ]
  },
  {
   "cell_type": "code",
   "execution_count": null,
   "id": "8d85e5f7",
   "metadata": {},
   "outputs": [],
   "source": []
  },
  {
   "cell_type": "code",
   "execution_count": 144,
   "id": "c4c9e65a",
   "metadata": {},
   "outputs": [],
   "source": [
    "class safecal(sp):\n",
    "    def divf(self):     # 부모 클래스의 메소드를 수정 => override\n",
    "        if self.num2 == 0:\n",
    "            return 0\n",
    "        else:\n",
    "            return self.num1/ self.num2"
   ]
  },
  {
   "cell_type": "code",
   "execution_count": 145,
   "id": "c0bf0b95",
   "metadata": {},
   "outputs": [],
   "source": [
    "sc = safecal(2,0)"
   ]
  },
  {
   "cell_type": "code",
   "execution_count": 163,
   "id": "115e8688",
   "metadata": {},
   "outputs": [
    {
     "data": {
      "text/plain": [
       "0"
      ]
     },
     "execution_count": 163,
     "metadata": {},
     "output_type": "execute_result"
    }
   ],
   "source": [
    "sc.divf()"
   ]
  },
  {
   "cell_type": "code",
   "execution_count": null,
   "id": "ebe687c3",
   "metadata": {},
   "outputs": [],
   "source": []
  },
  {
   "cell_type": "code",
   "execution_count": null,
   "id": "c923772c",
   "metadata": {},
   "outputs": [],
   "source": [
    "# 클래스 메소드\n",
    "# 스테틱 메소드"
   ]
  },
  {
   "cell_type": "code",
   "execution_count": 152,
   "id": "fbf3501d",
   "metadata": {},
   "outputs": [],
   "source": [
    "class Sam:\n",
    "    \n",
    "    data = 'python'  #클래스 변수\n",
    "    \n",
    "    def __init__(self):\n",
    "        self.data1 = 'korea' #  인스턴스 변수\n",
    "        \n",
    "    def instance_method(self):\n",
    "        print('instance method : ', self.data1)\n",
    "        \n",
    "    # 클래스 메소드, cls 키워드로 클래스 변수에 접근, 매개변수 cls를 받음    \n",
    "    @classmethod\n",
    "    def class_method(cls):    \n",
    "        print('class method : ', cls.data)\n",
    "#         print('class method : ', cls.data1)    #에러 - 클래스 변수는 인스턴스 변수 접근 불가\n",
    "        \n",
    "    # 스테틱 메소드, self, cls 매개변수를 받지 않음\n",
    "    def static_method():\n",
    "        print('static method : ', Sam.data)  \n",
    "      "
   ]
  },
  {
   "cell_type": "code",
   "execution_count": 153,
   "id": "48f1247f",
   "metadata": {},
   "outputs": [],
   "source": [
    "s = Sam()"
   ]
  },
  {
   "cell_type": "code",
   "execution_count": 154,
   "id": "ba374a37",
   "metadata": {},
   "outputs": [
    {
     "name": "stdout",
     "output_type": "stream",
     "text": [
      "instance method :  korea\n",
      "class method :  python\n",
      "static method :  python\n"
     ]
    }
   ],
   "source": [
    "s.instance_method()\n",
    "s.class_method()\n",
    "Sam.static_method()"
   ]
  },
  {
   "cell_type": "code",
   "execution_count": 155,
   "id": "4938c1d3",
   "metadata": {},
   "outputs": [
    {
     "name": "stdout",
     "output_type": "stream",
     "text": [
      "class method :  python\n"
     ]
    }
   ],
   "source": [
    "Sam.class_method()"
   ]
  },
  {
   "cell_type": "code",
   "execution_count": 156,
   "id": "b0c498c5",
   "metadata": {},
   "outputs": [
    {
     "name": "stdout",
     "output_type": "stream",
     "text": [
      "class method :  python\n"
     ]
    }
   ],
   "source": [
    "Sam.class_method()"
   ]
  },
  {
   "cell_type": "code",
   "execution_count": null,
   "id": "d7f35edc",
   "metadata": {},
   "outputs": [],
   "source": [
    "# 클래스 메소드나 스테틱 메소드는 객체를 생성하지 않고 클래스명으로 바로 호출 가능\n",
    "# 클래스 메소드와 스테틱 메소드는 클래스 변수에만 접근이 가능하다\n",
    "\n",
    "# 클래스 메소드 cls 키워드를 사용\n",
    "# 스테틱 메소드 cls를 사용하지 않고 클래스 명으로 호출한다"
   ]
  },
  {
   "cell_type": "code",
   "execution_count": null,
   "id": "cdf10d6a",
   "metadata": {},
   "outputs": [],
   "source": []
  },
  {
   "cell_type": "code",
   "execution_count": null,
   "id": "fa83b245",
   "metadata": {},
   "outputs": [],
   "source": [
    "# 학생리스트"
   ]
  },
  {
   "cell_type": "code",
   "execution_count": 204,
   "id": "c612e424",
   "metadata": {},
   "outputs": [
    {
     "ename": "SyntaxError",
     "evalue": "invalid syntax (Temp/ipykernel_9456/3350211716.py, line 3)",
     "output_type": "error",
     "traceback": [
      "\u001b[1;36m  File \u001b[1;32m\"C:\\Users\\bitcamp\\AppData\\Local\\Temp/ipykernel_9456/3350211716.py\"\u001b[1;36m, line \u001b[1;32m3\u001b[0m\n\u001b[1;33m    {'name' : '박민수', 'Korean' : 88, 'math':98, 'english':95, 'science':95}\u001b[0m\n\u001b[1;37m    ^\u001b[0m\n\u001b[1;31mSyntaxError\u001b[0m\u001b[1;31m:\u001b[0m invalid syntax\n"
     ]
    }
   ],
   "source": [
    "students = [\n",
    "    {'name' : '윤인성', 'Korean' : 87, 'math':98, 'english':95, 'science':95}\n",
    "    {'name' : '박민수', 'Korean' : 88, 'math':98, 'english':95, 'science':95}\n",
    "    {'name' : '박철호', 'Korean' : 95, 'math':98, 'english':95, 'science':95}\n",
    "    {'name' : '이호성', 'Korean' : 75, 'math':98, 'english':95, 'science':95}\n",
    "    {'name' : '최민수', 'Korean' : 62, 'math':98, 'english':95, 'science':95}\n",
    "    {'name' : '유인태', 'Korean' : 76, 'math':98, 'english':95, 'science':95}\n",
    "]"
   ]
  },
  {
   "cell_type": "code",
   "execution_count": 205,
   "id": "53d33a17",
   "metadata": {},
   "outputs": [],
   "source": [
    "# 출력\n",
    "# 이름     총점     평점\n",
    "# 윤인성   89        85\n",
    "# 박인수   87        98"
   ]
  },
  {
   "cell_type": "code",
   "execution_count": null,
   "id": "193b9b38",
   "metadata": {},
   "outputs": [],
   "source": [
    "\n",
    "for s in students:\n",
    "    sum_ = s['korean'] + s ['math'] + s['english'] + s['science']\n",
    "    avg_ = sum_/4\n",
    "    print(s['name'], sum_)"
   ]
  },
  {
   "cell_type": "code",
   "execution_count": null,
   "id": "50bf65cb",
   "metadata": {},
   "outputs": [],
   "source": []
  },
  {
   "cell_type": "code",
   "execution_count": 202,
   "id": "0a8e8760",
   "metadata": {},
   "outputs": [],
   "source": [
    "class Score : \n",
    "    def __init__(self, name, kor, math, eng, sci):\n",
    "        self.name = name\n",
    "        self.kor = kor\n",
    "        self.math = math\n",
    "        self.eng = eng\n",
    "        self.sci = sci\n",
    "        \n",
    "    def sum_(self):\n",
    "        sum_all = self.kor + self.math + self.eng + self.sci\n",
    "        return sum_all\n",
    "        \n",
    "    def avg_(self):\n",
    "        avg_all = (self.kor + self.math + self.eng + self.sci) / 4\n",
    "        return avg_all\n",
    "    \n",
    "        \n",
    "        "
   ]
  },
  {
   "cell_type": "code",
   "execution_count": 206,
   "id": "1db6a5c5",
   "metadata": {},
   "outputs": [
    {
     "data": {
      "text/plain": [
       "{'name': '유인성', 'korean': 87, 'math': 88, 'english': 96, 'sience': 78}"
      ]
     },
     "execution_count": 206,
     "metadata": {},
     "output_type": "execute_result"
    }
   ],
   "source": [
    "def create_student(name, kor, math, eng, sci):\n",
    "    return {'name' : name, 'korean': kor, 'math' : math, 'english' : eng, 'sience' : sci}\n",
    "\n",
    "create_student('유인성', 87, 88, 96, 78)"
   ]
  },
  {
   "cell_type": "code",
   "execution_count": null,
   "id": "7de4c452",
   "metadata": {},
   "outputs": [],
   "source": [
    "def student_get_sum(s):\n",
    "    return s['korean'] + s['math'] + s['english'] + s['scice']"
   ]
  },
  {
   "cell_type": "code",
   "execution_count": null,
   "id": "e7227633",
   "metadata": {},
   "outputs": [],
   "source": [
    "def student_get_average(s):\n",
    "    return student_get_sum(s)/4"
   ]
  },
  {
   "cell_type": "code",
   "execution_count": null,
   "id": "5d648b58",
   "metadata": {},
   "outputs": [],
   "source": [
    "def student_to_strin(s):\n",
    "    return \"{}\\t{}\\t{}\".format(s['name'], student_get_sum(s), student_get_average(s))"
   ]
  },
  {
   "cell_type": "code",
   "execution_count": 213,
   "id": "34c20014",
   "metadata": {},
   "outputs": [
    {
     "ename": "SyntaxError",
     "evalue": "invalid syntax (Temp/ipykernel_9456/2457224219.py, line 3)",
     "output_type": "error",
     "traceback": [
      "\u001b[1;36m  File \u001b[1;32m\"C:\\Users\\bitcamp\\AppData\\Local\\Temp/ipykernel_9456/2457224219.py\"\u001b[1;36m, line \u001b[1;32m3\u001b[0m\n\u001b[1;33m    create_student('박민수', 88, 98, 95, 95)\u001b[0m\n\u001b[1;37m    ^\u001b[0m\n\u001b[1;31mSyntaxError\u001b[0m\u001b[1;31m:\u001b[0m invalid syntax\n"
     ]
    }
   ],
   "source": [
    "s = [\n",
    "    create_student('윤인성', 87, 98, 95, 95)\n",
    "    create_student('박민수', 88, 98, 95, 95)\n",
    "    create_student('박철호', 95, 98, 95, 95)\n",
    "    create_student('이호성', 75, 98, 95, 95)\n",
    "    create_student('최민수', 62, 98, 95, 95)\n",
    "    create_student('유인태', 76, 98, 95, 95)\n",
    "]\n"
   ]
  },
  {
   "cell_type": "code",
   "execution_count": null,
   "id": "911ffebe",
   "metadata": {},
   "outputs": [],
   "source": []
  },
  {
   "cell_type": "code",
   "execution_count": 221,
   "id": "0434d902",
   "metadata": {},
   "outputs": [],
   "source": [
    "class Student:\n",
    "    def __init__(self, name, kor, math, eng, sci):\n",
    "        self.name = name\n",
    "        self.kor = kor\n",
    "        self.math = math\n",
    "        self.eng = eng\n",
    "        self.sci = sci\n",
    "        \n",
    "    def get_sum(self):\n",
    "        return self.kor + self.math + self.eng + self.sci\n",
    "    \n",
    "    def get_average(self):\n",
    "        return self.get_sum/4\n",
    "    \n",
    "    def to_string(self):\n",
    "        \"{}\\t{}\\t{}\".format(self.name, self.get_sum(), self.get_everage())"
   ]
  },
  {
   "cell_type": "code",
   "execution_count": 222,
   "id": "faafd51d",
   "metadata": {},
   "outputs": [
    {
     "ename": "SyntaxError",
     "evalue": "invalid syntax (Temp/ipykernel_9456/1955262731.py, line 3)",
     "output_type": "error",
     "traceback": [
      "\u001b[1;36m  File \u001b[1;32m\"C:\\Users\\bitcamp\\AppData\\Local\\Temp/ipykernel_9456/1955262731.py\"\u001b[1;36m, line \u001b[1;32m3\u001b[0m\n\u001b[1;33m    Student('박민수',87,98,95,95)\u001b[0m\n\u001b[1;37m    ^\u001b[0m\n\u001b[1;31mSyntaxError\u001b[0m\u001b[1;31m:\u001b[0m invalid syntax\n"
     ]
    }
   ],
   "source": [
    "students = [\n",
    "    Student('윤인성',87,98,95,95)\n",
    "    Student('박민수',87,98,95,95)\n",
    "    Student('박철호',87,98,95,95)\n",
    "    Student('이호성',87,98,95,95)\n",
    "    Student('최민수',87,98,95,95)\n",
    "    Student('유인태',87,98,95,95)\n",
    "]\n",
    "            \n",
    "for s in students:\n",
    "            print(s.to_string())"
   ]
  },
  {
   "cell_type": "code",
   "execution_count": null,
   "id": "b4025705",
   "metadata": {},
   "outputs": [],
   "source": []
  },
  {
   "cell_type": "code",
   "execution_count": null,
   "id": "ca54cedb",
   "metadata": {},
   "outputs": [],
   "source": [
    "# 은닉화\n",
    "# 클래스 내에서 변수의 값을 노출시키고 싶지 않을 때, 변수을 은닉화,"
   ]
  },
  {
   "cell_type": "code",
   "execution_count": 232,
   "id": "7a863513",
   "metadata": {},
   "outputs": [
    {
     "ename": "SyntaxError",
     "evalue": "invalid syntax (Temp/ipykernel_9456/702488785.py, line 21)",
     "output_type": "error",
     "traceback": [
      "\u001b[1;36m  File \u001b[1;32m\"C:\\Users\\bitcamp\\AppData\\Local\\Temp/ipykernel_9456/702488785.py\"\u001b[1;36m, line \u001b[1;32m21\u001b[0m\n\u001b[1;33m    if value <== 0:\u001b[0m\n\u001b[1;37m               ^\u001b[0m\n\u001b[1;31mSyntaxError\u001b[0m\u001b[1;31m:\u001b[0m invalid syntax\n"
     ]
    }
   ],
   "source": [
    "import math\n",
    "\n",
    "class Circle:\n",
    "    def __init__(self, radius):\n",
    "        #__변수명 : 외부에서 접근 금지, 클래스 내의 메소드에서만 접근 가능\n",
    "        self.__radius = radius   \n",
    "    def get_circumference(self):\n",
    "        return 2 * math.pi * self.__radius\n",
    "    def get_area(self):\n",
    "        return math.pi * (self.__radius **2)\n",
    "    \n",
    "    \n",
    "    # 게터와 세터\n",
    "    # 게터 : 은닉된 변수의 값을 얻어올 수 있는 메서드\n",
    "    # 세터 : 은닉된 변수의 값을 수정할 수 있도록 하는 메서드\n",
    "    @property\n",
    "    def get_radius(self):\n",
    "        return self.__radius\n",
    "    @get_radius.setter\n",
    "    def set_radius(self, value):\n",
    "        if value <== 0:\n",
    "            raise TypeError('길이는 양의 숫자이어야 합니다..')\n",
    "        self.__radius = value\n",
    "        \n",
    "    "
   ]
  },
  {
   "cell_type": "code",
   "execution_count": 225,
   "id": "86124034",
   "metadata": {},
   "outputs": [],
   "source": [
    "cir = Circle(2)"
   ]
  },
  {
   "cell_type": "code",
   "execution_count": 234,
   "id": "fcfa3fac",
   "metadata": {},
   "outputs": [
    {
     "data": {
      "text/plain": [
       "12.566370614359172"
      ]
     },
     "execution_count": 234,
     "metadata": {},
     "output_type": "execute_result"
    }
   ],
   "source": [
    "cir.get_circumference()"
   ]
  },
  {
   "cell_type": "code",
   "execution_count": 231,
   "id": "df3a1f41",
   "metadata": {},
   "outputs": [
    {
     "ename": "AttributeError",
     "evalue": "'Circle' object has no attribute '__radius'",
     "output_type": "error",
     "traceback": [
      "\u001b[1;31m---------------------------------------------------------------------------\u001b[0m",
      "\u001b[1;31mAttributeError\u001b[0m                            Traceback (most recent call last)",
      "\u001b[1;32m~\\AppData\\Local\\Temp/ipykernel_9456/602657549.py\u001b[0m in \u001b[0;36m<module>\u001b[1;34m\u001b[0m\n\u001b[1;32m----> 1\u001b[1;33m \u001b[0mcir\u001b[0m\u001b[1;33m.\u001b[0m\u001b[0m__radius\u001b[0m  \u001b[1;31m# 외부에서 접근이 안됨\u001b[0m\u001b[1;33m\u001b[0m\u001b[1;33m\u001b[0m\u001b[0m\n\u001b[0m",
      "\u001b[1;31mAttributeError\u001b[0m: 'Circle' object has no attribute '__radius'"
     ]
    }
   ],
   "source": [
    "cir.__radius  # 외부에서 접근이 안됨"
   ]
  },
  {
   "cell_type": "code",
   "execution_count": 235,
   "id": "a6cc78b8",
   "metadata": {},
   "outputs": [
    {
     "ename": "AttributeError",
     "evalue": "type object 'Circle' has no attribute '__radius'",
     "output_type": "error",
     "traceback": [
      "\u001b[1;31m---------------------------------------------------------------------------\u001b[0m",
      "\u001b[1;31mAttributeError\u001b[0m                            Traceback (most recent call last)",
      "\u001b[1;32m~\\AppData\\Local\\Temp/ipykernel_9456/1204164446.py\u001b[0m in \u001b[0;36m<module>\u001b[1;34m\u001b[0m\n\u001b[1;32m----> 1\u001b[1;33m \u001b[0mCircle\u001b[0m\u001b[1;33m.\u001b[0m\u001b[0m__radius\u001b[0m\u001b[1;33m\u001b[0m\u001b[1;33m\u001b[0m\u001b[0m\n\u001b[0m",
      "\u001b[1;31mAttributeError\u001b[0m: type object 'Circle' has no attribute '__radius'"
     ]
    }
   ],
   "source": [
    "Circle.__radius"
   ]
  },
  {
   "cell_type": "code",
   "execution_count": null,
   "id": "f3ed416f",
   "metadata": {},
   "outputs": [],
   "source": []
  },
  {
   "cell_type": "code",
   "execution_count": 236,
   "id": "5e311a8e",
   "metadata": {},
   "outputs": [
    {
     "ename": "AttributeError",
     "evalue": "'Circle' object has no attribute 'get_radius'",
     "output_type": "error",
     "traceback": [
      "\u001b[1;31m---------------------------------------------------------------------------\u001b[0m",
      "\u001b[1;31mAttributeError\u001b[0m                            Traceback (most recent call last)",
      "\u001b[1;32m~\\AppData\\Local\\Temp/ipykernel_9456/2706222413.py\u001b[0m in \u001b[0;36m<module>\u001b[1;34m\u001b[0m\n\u001b[1;32m----> 1\u001b[1;33m \u001b[0mcir\u001b[0m\u001b[1;33m.\u001b[0m\u001b[0mget_radius\u001b[0m\u001b[1;33m\u001b[0m\u001b[1;33m\u001b[0m\u001b[0m\n\u001b[0m",
      "\u001b[1;31mAttributeError\u001b[0m: 'Circle' object has no attribute 'get_radius'"
     ]
    }
   ],
   "source": [
    "cir.get_radius"
   ]
  },
  {
   "cell_type": "code",
   "execution_count": 238,
   "id": "e5fde433",
   "metadata": {},
   "outputs": [],
   "source": [
    "cir.set_radius = 10"
   ]
  },
  {
   "cell_type": "code",
   "execution_count": null,
   "id": "3baf1d4d",
   "metadata": {},
   "outputs": [],
   "source": []
  },
  {
   "cell_type": "code",
   "execution_count": null,
   "id": "1b3b95dc",
   "metadata": {},
   "outputs": [],
   "source": []
  },
  {
   "cell_type": "code",
   "execution_count": null,
   "id": "d236bac6",
   "metadata": {},
   "outputs": [],
   "source": []
  },
  {
   "cell_type": "code",
   "execution_count": null,
   "id": "2a812eee",
   "metadata": {},
   "outputs": [],
   "source": []
  },
  {
   "cell_type": "code",
   "execution_count": null,
   "id": "9cd32e70",
   "metadata": {},
   "outputs": [],
   "source": []
  },
  {
   "cell_type": "code",
   "execution_count": null,
   "id": "1c42fc84",
   "metadata": {},
   "outputs": [],
   "source": []
  },
  {
   "cell_type": "code",
   "execution_count": null,
   "id": "8329fc28",
   "metadata": {},
   "outputs": [],
   "source": []
  },
  {
   "cell_type": "code",
   "execution_count": null,
   "id": "68de4780",
   "metadata": {},
   "outputs": [],
   "source": []
  },
  {
   "cell_type": "code",
   "execution_count": null,
   "id": "9eb13d0e",
   "metadata": {},
   "outputs": [],
   "source": []
  },
  {
   "cell_type": "code",
   "execution_count": null,
   "id": "0d49333a",
   "metadata": {},
   "outputs": [],
   "source": []
  },
  {
   "cell_type": "code",
   "execution_count": null,
   "id": "98bc5611",
   "metadata": {},
   "outputs": [],
   "source": []
  }
 ],
 "metadata": {
  "kernelspec": {
   "display_name": "Python 3 (ipykernel)",
   "language": "python",
   "name": "python3"
  },
  "language_info": {
   "codemirror_mode": {
    "name": "ipython",
    "version": 3
   },
   "file_extension": ".py",
   "mimetype": "text/x-python",
   "name": "python",
   "nbconvert_exporter": "python",
   "pygments_lexer": "ipython3",
   "version": "3.9.7"
  }
 },
 "nbformat": 4,
 "nbformat_minor": 5
}
