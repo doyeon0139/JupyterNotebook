{
 "cells": [
  {
   "cell_type": "code",
   "execution_count": null,
   "id": "b75237d8",
   "metadata": {},
   "outputs": [],
   "source": [
    "# If"
   ]
  },
  {
   "cell_type": "code",
   "execution_count": 3,
   "id": "51493686",
   "metadata": {},
   "outputs": [
    {
     "name": "stdout",
     "output_type": "stream",
     "text": [
      "임의의 수를 입력하세요10\n"
     ]
    },
    {
     "ename": "NameError",
     "evalue": "name 'suma' is not defined",
     "output_type": "error",
     "traceback": [
      "\u001b[1;31m---------------------------------------------------------------------------\u001b[0m",
      "\u001b[1;31mNameError\u001b[0m                                 Traceback (most recent call last)",
      "\u001b[1;32m~\\AppData\\Local\\Temp/ipykernel_4020/2808344732.py\u001b[0m in \u001b[0;36m<module>\u001b[1;34m\u001b[0m\n\u001b[0;32m      4\u001b[0m \u001b[1;32mfor\u001b[0m \u001b[0mi\u001b[0m \u001b[1;32min\u001b[0m \u001b[0mrange\u001b[0m\u001b[1;33m(\u001b[0m\u001b[0mnum\u001b[0m\u001b[1;33m+\u001b[0m\u001b[1;36m1\u001b[0m\u001b[1;33m)\u001b[0m\u001b[1;33m:\u001b[0m\u001b[1;33m\u001b[0m\u001b[1;33m\u001b[0m\u001b[0m\n\u001b[0;32m      5\u001b[0m     \u001b[1;32mif\u001b[0m \u001b[0mi\u001b[0m\u001b[1;33m%\u001b[0m\u001b[1;36m2\u001b[0m \u001b[1;33m==\u001b[0m \u001b[1;36m0\u001b[0m\u001b[1;33m:\u001b[0m\u001b[1;33m\u001b[0m\u001b[1;33m\u001b[0m\u001b[0m\n\u001b[1;32m----> 6\u001b[1;33m         \u001b[0msuma\u001b[0m \u001b[1;33m+=\u001b[0m \u001b[0mi\u001b[0m\u001b[1;33m\u001b[0m\u001b[1;33m\u001b[0m\u001b[0m\n\u001b[0m\u001b[0;32m      7\u001b[0m \u001b[1;33m\u001b[0m\u001b[0m\n\u001b[0;32m      8\u001b[0m \u001b[0msuma\u001b[0m\u001b[1;33m\u001b[0m\u001b[1;33m\u001b[0m\u001b[0m\n",
      "\u001b[1;31mNameError\u001b[0m: name 'suma' is not defined"
     ]
    }
   ],
   "source": [
    "## 임의 정수(n)를 입력받은 후 0부터 n까지의 정수 중 짝수들의 합을 구하시오.\n",
    "num = int(input('임의의 수를 입력하세요'))\n",
    "\n",
    "for i in range(num+1):\n",
    "    if i%2 == 0:\n",
    "        suma += i\n",
    "        \n",
    "suma"
   ]
  },
  {
   "cell_type": "code",
   "execution_count": null,
   "id": "1b6aeacc",
   "metadata": {},
   "outputs": [],
   "source": []
  },
  {
   "cell_type": "code",
   "execution_count": 8,
   "id": "8369be8a",
   "metadata": {},
   "outputs": [
    {
     "name": "stdout",
     "output_type": "stream",
     "text": [
      "이름을 입력하세요lee\n"
     ]
    },
    {
     "data": {
      "text/plain": [
       "{'mary': 1520, 'tom': 5214, 'park': 5478, 'sams': 5478, 'lee': 2000}"
      ]
     },
     "execution_count": 8,
     "metadata": {},
     "output_type": "execute_result"
    }
   ],
   "source": [
    "# names = {'mary':1520, 'tom':5214, 'park':5478, 'sams':5478}\n",
    "# 이름을 입력받은 후 names dict에 이름이 있으면 값을 출력하고,\n",
    "# 없으면 새로운 값 2000과 함께 dict에 'key':'value'로 추가\n",
    "# setdefault를 사용하지 않음..\n",
    "\n",
    "names = {'mary':1520, 'tom':5214, 'park':5478, 'sams':5478}\n",
    "\n",
    "nam = input('이름을 입력하세요')\n",
    "\n",
    "if nam in names:\n",
    "    print(names[nam])\n",
    "else:\n",
    "    names[nam] = 2000\n",
    "    \n",
    "names"
   ]
  },
  {
   "cell_type": "code",
   "execution_count": null,
   "id": "a7579ad4",
   "metadata": {},
   "outputs": [],
   "source": [
    "# 학점 출력.. 점수를 입력받은 후..\n",
    "# 90점 이상이면 \"당신은 'A'학점입니다\"를 출력\n",
    "# 80점 이상이면서 90점 미만이면 \"당신은 'B'학점입니다\"를 출력\n",
    "# 70점 이상이면서 80점 미만이면 \"당신은 'C'학점입니다\"를 출력\n",
    "# 70점 미만이면 \"당신은 D학점입니다\"를 출력\n",
    "score = int(input('점수를 입력하세요'))\n",
    "\n",
    "if score >= 90:\n",
    "    print('A학점입니다')\n",
    "elif 90 > score >= 80:\n",
    "    print('B학점입니다')\n",
    "elif 80 > score >= 70:\n",
    "    print('c학점입니다')\n",
    "else:\n",
    "    print('D학점입니다')"
   ]
  },
  {
   "cell_type": "code",
   "execution_count": null,
   "id": "1ad8dd28",
   "metadata": {},
   "outputs": [],
   "source": [
    "# For"
   ]
  },
  {
   "cell_type": "code",
   "execution_count": 11,
   "id": "1540d27e",
   "metadata": {},
   "outputs": [
    {
     "name": "stdout",
     "output_type": "stream",
     "text": [
      "O I U "
     ]
    }
   ],
   "source": [
    "# text = 'python is fun' # text의 character를 모음만 대문자로 전환해서 출력하세요. 참고) 영어모음 = ‘aeiou’\n",
    "# 위의 text의 문자를 index와 함께 출력하시오.\n",
    "\n",
    "text = 'python is fun' \n",
    "\n",
    "for c in text:\n",
    "    if c in 'aeiou':\n",
    "        print(c.upper(), end=' ' )\n"
   ]
  },
  {
   "cell_type": "code",
   "execution_count": null,
   "id": "918efee8",
   "metadata": {},
   "outputs": [],
   "source": [
    "# 1~20까지 수에서 짝수만 리스트에 담으세요.\n",
    "# => for문과 while문, list comprehension을 각각 활용\n",
    "text = 'python is fun'\n",
    "\n",
    "for i in range(len(text)):\n",
    "    print(i, text[i])\n",
    "    \n",
    "    \n",
    "# for i, j in enumerate(text):\n",
    "# print(i,j)"
   ]
  },
  {
   "cell_type": "code",
   "execution_count": null,
   "id": "d8adaed0",
   "metadata": {},
   "outputs": [],
   "source": [
    "# 1~20까지 수에서 짝수만 리스트에 담으세요.\n",
    "# => for문과 while문, list comprehension을 각각 활용\n",
    "text = 'python is fun'\n",
    "\n",
    "for i in range(len(text)):\n",
    "    print(i, text[i])\n",
    "    "
   ]
  },
  {
   "cell_type": "code",
   "execution_count": 14,
   "id": "fda12875",
   "metadata": {
    "scrolled": true
   },
   "outputs": [
    {
     "name": "stdout",
     "output_type": "stream",
     "text": [
      "0 p\n",
      "1 y\n",
      "2 t\n",
      "3 h\n",
      "4 o\n",
      "5 n\n",
      "6  \n",
      "7 i\n",
      "8 s\n",
      "9  \n",
      "10 f\n",
      "11 u\n",
      "12 n\n"
     ]
    }
   ],
   "source": [
    "    \n",
    "for i, j in enumerate(text):\n",
    "    print(i, j)"
   ]
  },
  {
   "cell_type": "code",
   "execution_count": null,
   "id": "dab7d799",
   "metadata": {},
   "outputs": [],
   "source": [
    "\n",
    "even_list = []\n",
    "for i in range(1, 21):\n",
    "    if i%2 == 0:\n",
    "        even_list.append(i)\n",
    "even_list"
   ]
  },
  {
   "cell_type": "code",
   "execution_count": null,
   "id": "dc585670",
   "metadata": {},
   "outputs": [],
   "source": [
    "even_list = []\n",
    "count = 0\n",
    "while count < 21:\n",
    "    if count%2 == 0:\n",
    "        even_list.append(count)\n",
    "    count += 1\n",
    "even_list"
   ]
  },
  {
   "cell_type": "code",
   "execution_count": null,
   "id": "09cfa2ac",
   "metadata": {},
   "outputs": [],
   "source": [
    "[i for i in range(1, 21) if i%2==0]"
   ]
  },
  {
   "cell_type": "code",
   "execution_count": 17,
   "id": "a5980a00",
   "metadata": {},
   "outputs": [
    {
     "name": "stdout",
     "output_type": "stream",
     "text": [
      "3\n",
      "4\n",
      "5\n",
      "6\n",
      "7\n"
     ]
    }
   ],
   "source": [
    "# 1~10까지 정수를 출력하는 while문에서 continue와 break를 이용해서 3,4,5,6만 출력하도록 하시오.\n",
    "count = 0\n",
    "while count < 10:\n",
    "    count += 1\n",
    "    if count < 3:\n",
    "        continue\n",
    "    if count > 6:\n",
    "        break\n",
    "    print(count)\n",
    "    "
   ]
  },
  {
   "cell_type": "code",
   "execution_count": 30,
   "id": "910d21b7",
   "metadata": {},
   "outputs": [
    {
     "ename": "TypeError",
     "evalue": "list.append() takes exactly one argument (2 given)",
     "output_type": "error",
     "traceback": [
      "\u001b[1;31m---------------------------------------------------------------------------\u001b[0m",
      "\u001b[1;31mTypeError\u001b[0m                                 Traceback (most recent call last)",
      "\u001b[1;32m~\\AppData\\Local\\Temp/ipykernel_4020/2904260213.py\u001b[0m in \u001b[0;36m<module>\u001b[1;34m\u001b[0m\n\u001b[0;32m      7\u001b[0m \u001b[1;33m\u001b[0m\u001b[0m\n\u001b[0;32m      8\u001b[0m \u001b[1;32mfor\u001b[0m \u001b[0mi\u001b[0m \u001b[1;32min\u001b[0m \u001b[0mrange\u001b[0m\u001b[1;33m(\u001b[0m\u001b[0mlen\u001b[0m\u001b[1;33m(\u001b[0m\u001b[0mx\u001b[0m\u001b[1;33m)\u001b[0m\u001b[1;33m)\u001b[0m\u001b[1;33m:\u001b[0m\u001b[1;33m\u001b[0m\u001b[1;33m\u001b[0m\u001b[0m\n\u001b[1;32m----> 9\u001b[1;33m     \u001b[0ml\u001b[0m\u001b[1;33m.\u001b[0m\u001b[0mappend\u001b[0m\u001b[1;33m(\u001b[0m\u001b[0mx\u001b[0m\u001b[1;33m[\u001b[0m\u001b[0mi\u001b[0m\u001b[1;33m]\u001b[0m\u001b[1;33m,\u001b[0m \u001b[0my\u001b[0m\u001b[1;33m[\u001b[0m\u001b[0mi\u001b[0m\u001b[1;33m]\u001b[0m\u001b[1;33m)\u001b[0m\u001b[1;33m\u001b[0m\u001b[1;33m\u001b[0m\u001b[0m\n\u001b[0m",
      "\u001b[1;31mTypeError\u001b[0m: list.append() takes exactly one argument (2 given)"
     ]
    }
   ],
   "source": [
    "# x = ['a','b','c','d','e'], y = ['가','나','다','라','마'] 두 리스트의 원소들의 모든 조합을 아래와 같이 출력하시오. =>\n",
    "# [('a','가'), ('a','나'), ('a', '다') ... ('e','라'), ('e', '마')]\n",
    "\n",
    "x = ['a','b','c','d','e'] \n",
    "y = ['가','나','다','라','마'] \n",
    "l = []\n",
    "\n",
    "for i in range(len(x)):\n",
    "    l.append(x[i], y[i])"
   ]
  },
  {
   "cell_type": "code",
   "execution_count": 24,
   "id": "e5a558b5",
   "metadata": {},
   "outputs": [
    {
     "data": {
      "text/plain": [
       "[('a', '가'), ('b', '나'), ('c', '다'), ('d', '라'), ('e', '마')]"
      ]
     },
     "execution_count": 24,
     "metadata": {},
     "output_type": "execute_result"
    }
   ],
   "source": [
    "l = []\n",
    "for i in zip(x,y):\n",
    "    l.append(i)\n",
    "l"
   ]
  },
  {
   "cell_type": "code",
   "execution_count": 29,
   "id": "cb0ad388",
   "metadata": {},
   "outputs": [
    {
     "data": {
      "text/plain": [
       "['o', 'p', 't', 't', 'o', 'a', ' ', 'h', 'n', 'i', 'g']"
      ]
     },
     "execution_count": 29,
     "metadata": {},
     "output_type": "execute_result"
    }
   ],
   "source": [
    "# computational thinking에서 홀수인덱스만 리스트에 담으세요..\n",
    "\n",
    "text = 'computational thinking'\n",
    "L = []\n",
    "for i in range(1, len(text), 2):\n",
    "    L.append(text[i])\n",
    "    \n",
    "L\n"
   ]
  },
  {
   "cell_type": "code",
   "execution_count": 31,
   "id": "8f85c32b",
   "metadata": {},
   "outputs": [
    {
     "name": "stdout",
     "output_type": "stream",
     "text": [
      "점수를 입력하세요90\n",
      "점수를 입력하세요90\n",
      "점수를 입력하세요30\n",
      "점수를 입력하세요20\n",
      "점수를 입력하세요50\n"
     ]
    },
    {
     "data": {
      "text/plain": [
       "56.0"
      ]
     },
     "execution_count": 31,
     "metadata": {},
     "output_type": "execute_result"
    }
   ],
   "source": [
    "# 점수를 5회 입력받은 후 평균을 출력하세요.\n",
    "count = 0\n",
    "score_sum = 0\n",
    "while count < 5:\n",
    "    score = int(input('점수를 입력하세요'))\n",
    "    score_sum += score\n",
    "    count += 1\n",
    "    \n",
    "score_sum/5"
   ]
  },
  {
   "cell_type": "code",
   "execution_count": null,
   "id": "cbc63ae3",
   "metadata": {},
   "outputs": [],
   "source": [
    "# text = 'hello world'에서 각 문자를 인덱스와 함께 튜플로 묶어서 출력\n",
    "# (0, 'h'), (1, 'e') ...\n",
    "\n",
    "text = 'hello world'\n",
    "\n",
    "for i,j in enumerate(text):\n",
    "    print(i, j)\n",
    "    "
   ]
  },
  {
   "cell_type": "code",
   "execution_count": 60,
   "id": "34dc8d06",
   "metadata": {},
   "outputs": [
    {
     "name": "stdout",
     "output_type": "stream",
     "text": [
      "1 * 1 = 1  1 * 2 = 2  1 * 3 = 3  1 * 4 = 4  1 * 5 = 5  1 * 6 = 6  1 * 7 = 7  1 * 8 = 8  1 * 9 = 9  \n",
      "2 * 1 = 2  2 * 2 = 4  2 * 3 = 6  2 * 4 = 8  2 * 5 = 10 2 * 6 = 12 2 * 7 = 14 2 * 8 = 16 2 * 9 = 18 \n",
      "3 * 1 = 3  3 * 2 = 6  3 * 3 = 9  3 * 4 = 12 3 * 5 = 15 3 * 6 = 18 3 * 7 = 21 3 * 8 = 24 3 * 9 = 27 \n",
      "4 * 1 = 4  4 * 2 = 8  4 * 3 = 12 4 * 4 = 16 4 * 5 = 20 4 * 6 = 24 4 * 7 = 28 4 * 8 = 32 4 * 9 = 36 \n",
      "5 * 1 = 5  5 * 2 = 10 5 * 3 = 15 5 * 4 = 20 5 * 5 = 25 5 * 6 = 30 5 * 7 = 35 5 * 8 = 40 5 * 9 = 45 \n",
      "6 * 1 = 6  6 * 2 = 12 6 * 3 = 18 6 * 4 = 24 6 * 5 = 30 6 * 6 = 36 6 * 7 = 42 6 * 8 = 48 6 * 9 = 54 \n",
      "7 * 1 = 7  7 * 2 = 14 7 * 3 = 21 7 * 4 = 28 7 * 5 = 35 7 * 6 = 42 7 * 7 = 49 7 * 8 = 56 7 * 9 = 63 \n",
      "8 * 1 = 8  8 * 2 = 16 8 * 3 = 24 8 * 4 = 32 8 * 5 = 40 8 * 6 = 48 8 * 7 = 56 8 * 8 = 64 8 * 9 = 72 \n",
      "9 * 1 = 9  9 * 2 = 18 9 * 3 = 27 9 * 4 = 36 9 * 5 = 45 9 * 6 = 54 9 * 7 = 63 9 * 8 = 72 9 * 9 = 81 \n"
     ]
    }
   ],
   "source": [
    "# 구구단을 출력하시오...\n",
    "for i in range(1,10):\n",
    "    for j in range(1, 10):\n",
    "        print('{0} * {1} = {2:<2}'.format(i,j, i*j), end=' ')    #{2:<2} 이거 왜 에러 남?\n",
    "    print()"
   ]
  },
  {
   "cell_type": "code",
   "execution_count": null,
   "id": "60bcb9f0",
   "metadata": {},
   "outputs": [],
   "source": [
    "# Function\n",
    "\n",
    "# 매개변수 3개를 받고, 합계, 평균, 최대값을 각각 리턴하는 함수를 만들고 실행하시오.\n",
    "# 임의의 정수를 입력받은 후 절대값을 리턴하는 함수를 만들고 실행하시오.\n",
    "# 임의의 정수를 입력받은 후 0부터 임의의 정수까지의 홀수 합을 리턴하는 함수를 만들고 실행하시오.\n",
    "# 반지름을 입력받은 후 원의 면적을 리턴하는 함수를 구현하고 실행하시오. pi = 3.14, circle_area = (radius**2)*p"
   ]
  },
  {
   "cell_type": "code",
   "execution_count": null,
   "id": "1f6bfa78",
   "metadata": {},
   "outputs": [],
   "source": []
  }
 ],
 "metadata": {
  "kernelspec": {
   "display_name": "Python 3 (ipykernel)",
   "language": "python",
   "name": "python3"
  },
  "language_info": {
   "codemirror_mode": {
    "name": "ipython",
    "version": 3
   },
   "file_extension": ".py",
   "mimetype": "text/x-python",
   "name": "python",
   "nbconvert_exporter": "python",
   "pygments_lexer": "ipython3",
   "version": "3.9.7"
  }
 },
 "nbformat": 4,
 "nbformat_minor": 5
}
