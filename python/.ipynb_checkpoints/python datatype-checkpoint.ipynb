{
 "cells": [
  {
   "cell_type": "code",
   "execution_count": null,
   "id": "34702b3a",
   "metadata": {},
   "outputs": [],
   "source": [
    "# String\n",
    "# txt1 = 'A tale that was not right'\n",
    "# 'ale' 이 출력..\n",
    "# 'A tale' 출력\n",
    "# 'not' 출력\n",
    "# txt1을 소문자 전환\n",
    "# txt1을 대문자 전환\n",
    "# 'o'가 몇 개 존재하는가?\n",
    "# 'o'가 몇 번 인덱스에 존재하는가?\n",
    "# txt1의 길이는 어떻게 되는가?\n",
    "# space를 기준으로 나누어서 List에 담으세요..\n",
    "# 'tale'을 'story'로 바꾸세요..\n",
    "# txt1 안에 'right'가 존재하는지 확인\n",
    "\n"
   ]
  },
  {
   "cell_type": "code",
   "execution_count": 2,
   "id": "d84230f4",
   "metadata": {},
   "outputs": [
    {
     "data": {
      "text/plain": [
       "'ale'"
      ]
     },
     "execution_count": 2,
     "metadata": {},
     "output_type": "execute_result"
    }
   ],
   "source": [
    "txt1 = 'A tale that was not right'"
   ]
  },
  {
   "cell_type": "code",
   "execution_count": 3,
   "id": "515bfb85",
   "metadata": {},
   "outputs": [
    {
     "data": {
      "text/plain": [
       "'ale'"
      ]
     },
     "execution_count": 3,
     "metadata": {},
     "output_type": "execute_result"
    }
   ],
   "source": [
    "txt1[3:6]"
   ]
  },
  {
   "cell_type": "code",
   "execution_count": 4,
   "id": "1d03addd",
   "metadata": {},
   "outputs": [
    {
     "data": {
      "text/plain": [
       "'A tale'"
      ]
     },
     "execution_count": 4,
     "metadata": {},
     "output_type": "execute_result"
    }
   ],
   "source": [
    "txt1[:6]"
   ]
  },
  {
   "cell_type": "code",
   "execution_count": 6,
   "id": "8b8ad52d",
   "metadata": {},
   "outputs": [
    {
     "data": {
      "text/plain": [
       "'not'"
      ]
     },
     "execution_count": 6,
     "metadata": {},
     "output_type": "execute_result"
    }
   ],
   "source": [
    "txt1[-9:-6]"
   ]
  },
  {
   "cell_type": "code",
   "execution_count": 7,
   "id": "cd74dc1d",
   "metadata": {},
   "outputs": [
    {
     "data": {
      "text/plain": [
       "'a tale that was not right'"
      ]
     },
     "execution_count": 7,
     "metadata": {},
     "output_type": "execute_result"
    }
   ],
   "source": [
    "txt1.lower()"
   ]
  },
  {
   "cell_type": "code",
   "execution_count": 8,
   "id": "f494d610",
   "metadata": {},
   "outputs": [
    {
     "data": {
      "text/plain": [
       "'A TALE THAT WAS NOT RIGHT'"
      ]
     },
     "execution_count": 8,
     "metadata": {},
     "output_type": "execute_result"
    }
   ],
   "source": [
    "txt1.upper()"
   ]
  },
  {
   "cell_type": "code",
   "execution_count": 9,
   "id": "b0f03e44",
   "metadata": {},
   "outputs": [
    {
     "data": {
      "text/plain": [
       "1"
      ]
     },
     "execution_count": 9,
     "metadata": {},
     "output_type": "execute_result"
    }
   ],
   "source": [
    "txt1.count('o')"
   ]
  },
  {
   "cell_type": "code",
   "execution_count": 10,
   "id": "2010c046",
   "metadata": {},
   "outputs": [
    {
     "data": {
      "text/plain": [
       "17"
      ]
     },
     "execution_count": 10,
     "metadata": {},
     "output_type": "execute_result"
    }
   ],
   "source": [
    "txt1.find('o')"
   ]
  },
  {
   "cell_type": "code",
   "execution_count": 11,
   "id": "83e33eeb",
   "metadata": {},
   "outputs": [
    {
     "data": {
      "text/plain": [
       "17"
      ]
     },
     "execution_count": 11,
     "metadata": {},
     "output_type": "execute_result"
    }
   ],
   "source": [
    "txt1.index('o')"
   ]
  },
  {
   "cell_type": "code",
   "execution_count": 12,
   "id": "bd00c8d1",
   "metadata": {},
   "outputs": [
    {
     "data": {
      "text/plain": [
       "25"
      ]
     },
     "execution_count": 12,
     "metadata": {},
     "output_type": "execute_result"
    }
   ],
   "source": [
    "len(txt1)"
   ]
  },
  {
   "cell_type": "code",
   "execution_count": 13,
   "id": "f711637a",
   "metadata": {},
   "outputs": [
    {
     "data": {
      "text/plain": [
       "['A', 'tale', 'that', 'was', 'not', 'right']"
      ]
     },
     "execution_count": 13,
     "metadata": {},
     "output_type": "execute_result"
    }
   ],
   "source": [
    "txt1.split()"
   ]
  },
  {
   "cell_type": "code",
   "execution_count": 15,
   "id": "57a2dae3",
   "metadata": {},
   "outputs": [
    {
     "data": {
      "text/plain": [
       "'A story that was not right'"
      ]
     },
     "execution_count": 15,
     "metadata": {},
     "output_type": "execute_result"
    }
   ],
   "source": [
    "txt1.replace('tale','story')"
   ]
  },
  {
   "cell_type": "code",
   "execution_count": 16,
   "id": "9b0a33a5",
   "metadata": {},
   "outputs": [
    {
     "data": {
      "text/plain": [
       "True"
      ]
     },
     "execution_count": 16,
     "metadata": {},
     "output_type": "execute_result"
    }
   ],
   "source": [
    "'right' in txt1"
   ]
  },
  {
   "cell_type": "code",
   "execution_count": null,
   "id": "2cf5162f",
   "metadata": {},
   "outputs": [],
   "source": [
    "#  군집형 데이터타입 - index(주소(셋은제외))-[]\n",
    "# string - 문자열, 원소의 수정,삭제,추가가 안됨\n",
    "# list - 리스트. 원소의 수정,삭제,추가가 자유로움 모든객체를 담을 수 있음\n",
    "# set - 셋. 집합, 중복데이터를 허용하지 않는다  순서가 없음(index가 없음)\n",
    "# tuple - 튜플. 원소의 수정,삭제,추가가 안됨 , 고정된 값을 표현. 데이터를 묶는 보조적 용도\n",
    "# dictionary - 사전. 단어:뜻 => key:value => key가 인덱스 역할"
   ]
  },
  {
   "cell_type": "code",
   "execution_count": 17,
   "id": "d3a4ff00",
   "metadata": {},
   "outputs": [
    {
     "data": {
      "text/plain": [
       "['수성', '금성']"
      ]
     },
     "execution_count": 17,
     "metadata": {},
     "output_type": "execute_result"
    }
   ],
   "source": [
    "# List\n",
    "sol = ['태양','수성','금성','지구','화성','목성','지구']\n",
    "sol1 = ['토성','천황성','해왕성']\n",
    "planet = '지구'\n",
    "\n",
    "# 1. sol에서 ['수성','금성']을 출력\n",
    "sol[1:3]"
   ]
  },
  {
   "cell_type": "code",
   "execution_count": 18,
   "id": "e5315653",
   "metadata": {},
   "outputs": [
    {
     "data": {
      "text/plain": [
       "3"
      ]
     },
     "execution_count": 18,
     "metadata": {},
     "output_type": "execute_result"
    }
   ],
   "source": [
    "# 2. sol에서 '지구' 위치 인덱스 출력\n",
    "sol.index('지구')\n",
    "#리스트에서는 인덱스만 가능"
   ]
  },
  {
   "cell_type": "code",
   "execution_count": 20,
   "id": "c679d889",
   "metadata": {},
   "outputs": [
    {
     "data": {
      "text/plain": [
       "['태양', '수성', '금성', '지구', '해왕성', '목성', '지구']"
      ]
     },
     "execution_count": 20,
     "metadata": {},
     "output_type": "execute_result"
    }
   ],
   "source": [
    "# 3. sol에서 '화성'을 '해왕성'으로 수정\n",
    "sol[4] = '해왕성'\n",
    "sol"
   ]
  },
  {
   "cell_type": "code",
   "execution_count": 23,
   "id": "aa80ecbb",
   "metadata": {},
   "outputs": [
    {
     "data": {
      "text/plain": [
       "['태양', '명왕성', '명왕성', '수성', '금성', '지구', '해왕성', '목성', '지구', '토성']"
      ]
     },
     "execution_count": 23,
     "metadata": {},
     "output_type": "execute_result"
    }
   ],
   "source": [
    "# 4. '수성'자리에 '명왕성' 삽입\n",
    "sol.insert(1, '명왕성')\n",
    "sol"
   ]
  },
  {
   "cell_type": "code",
   "execution_count": 21,
   "id": "1b3c7002",
   "metadata": {},
   "outputs": [
    {
     "data": {
      "text/plain": [
       "['태양', '수성', '금성', '지구', '해왕성', '목성', '지구', '토성']"
      ]
     },
     "execution_count": 21,
     "metadata": {},
     "output_type": "execute_result"
    }
   ],
   "source": [
    "# 5. '토성'을 맨 끝에 삽입\n",
    "sol.append('토성')\n",
    "sol"
   ]
  },
  {
   "cell_type": "code",
   "execution_count": 24,
   "id": "40065147",
   "metadata": {},
   "outputs": [
    {
     "data": {
      "text/plain": [
       "['태양', '명왕성', '명왕성', '수성', '금성', '지구', '해왕성', '목성', '지구']"
      ]
     },
     "execution_count": 24,
     "metadata": {},
     "output_type": "execute_result"
    }
   ],
   "source": [
    "# 6. 맨 끝 요소를 삭제하고 리턴\n",
    "sol.pop()\n",
    "sol"
   ]
  },
  {
   "cell_type": "code",
   "execution_count": null,
   "id": "734e97f0",
   "metadata": {},
   "outputs": [],
   "source": [
    "# 7. '금성'을 제거\n",
    "sol.remove('금성')"
   ]
  },
  {
   "cell_type": "code",
   "execution_count": 30,
   "id": "883a167f",
   "metadata": {},
   "outputs": [
    {
     "data": {
      "text/plain": [
       "['태양']"
      ]
     },
     "execution_count": 30,
     "metadata": {},
     "output_type": "execute_result"
    }
   ],
   "source": [
    "# 8. 1번 인덱스에서 3번 인덱스까지 삭제\n",
    "del sol[1:4]\n",
    "sol"
   ]
  },
  {
   "cell_type": "code",
   "execution_count": 27,
   "id": "3190cfa3",
   "metadata": {},
   "outputs": [
    {
     "data": {
      "text/plain": [
       "['태양', '명왕성', '금성', '지구', '해왕성', '목성', '지구']"
      ]
     },
     "execution_count": 27,
     "metadata": {},
     "output_type": "execute_result"
    }
   ],
   "source": [
    "# 9. 인덱스 2번 요소 삭제\n",
    "sol.pop(2)\n",
    "sol"
   ]
  },
  {
   "cell_type": "code",
   "execution_count": 32,
   "id": "846eeaf5",
   "metadata": {},
   "outputs": [
    {
     "data": {
      "text/plain": [
       "['태양', '토성', '천황성', '해왕성']"
      ]
     },
     "execution_count": 32,
     "metadata": {},
     "output_type": "execute_result"
    }
   ],
   "source": [
    "# 10. sol과 sol1을 합치세요\n",
    "sol + sol1"
   ]
  },
  {
   "cell_type": "code",
   "execution_count": null,
   "id": "a702983e",
   "metadata": {},
   "outputs": [],
   "source": [
    "# 11. 내림차순 정렬\n",
    "sorted(sol. reverse=(True))"
   ]
  },
  {
   "cell_type": "code",
   "execution_count": 33,
   "id": "d5f028aa",
   "metadata": {},
   "outputs": [
    {
     "data": {
      "text/plain": [
       "['태양']"
      ]
     },
     "execution_count": 33,
     "metadata": {},
     "output_type": "execute_result"
    }
   ],
   "source": [
    "# 12. 오름차순 정렬\n",
    "sorted(sol)"
   ]
  },
  {
   "cell_type": "code",
   "execution_count": null,
   "id": "b4878801",
   "metadata": {},
   "outputs": [],
   "source": [
    "# 13. '만리장성'이 있는지 확인\n",
    "'만리장성' in sol"
   ]
  },
  {
   "cell_type": "code",
   "execution_count": 34,
   "id": "58f60e04",
   "metadata": {},
   "outputs": [
    {
     "data": {
      "text/plain": [
       "['태양', '태양', '태양']"
      ]
     },
     "execution_count": 34,
     "metadata": {},
     "output_type": "execute_result"
    }
   ],
   "source": [
    "# 14. so1을 3번 반복하세요\n",
    "sol *3"
   ]
  },
  {
   "cell_type": "code",
   "execution_count": 36,
   "id": "bc0e7c07",
   "metadata": {},
   "outputs": [
    {
     "data": {
      "text/plain": [
       "1"
      ]
     },
     "execution_count": 36,
     "metadata": {},
     "output_type": "execute_result"
    }
   ],
   "source": [
    "# 15. 길이를 출력하세요\n",
    "len(sol)"
   ]
  },
  {
   "cell_type": "code",
   "execution_count": null,
   "id": "a9721241",
   "metadata": {},
   "outputs": [],
   "source": [
    "# 16. '지구'가 몇 개 포함되어있는지 확인.\n",
    "sol.count('지구')"
   ]
  },
  {
   "cell_type": "code",
   "execution_count": null,
   "id": "c9b46d3b",
   "metadata": {},
   "outputs": [],
   "source": [
    "# 17. 모든 원소를 지우세요.\n",
    "sol.clear()\n",
    "sol"
   ]
  },
  {
   "cell_type": "code",
   "execution_count": 31,
   "id": "4f9f6845",
   "metadata": {},
   "outputs": [],
   "source": [
    "# 18. sol리스트를 삭제하세요.."
   ]
  },
  {
   "cell_type": "code",
   "execution_count": 47,
   "id": "ca1b1090",
   "metadata": {},
   "outputs": [
    {
     "data": {
      "text/plain": [
       "'tuple'"
      ]
     },
     "execution_count": 47,
     "metadata": {},
     "output_type": "execute_result"
    }
   ],
   "source": [
    "# Tuple\n",
    "myTuple = ('tuple', (1,2,3) , [4,5,6,7,8] ,'7', '8', '9')\n",
    "\n",
    "# 'tuple'을 출력하세요\n",
    "myTuple[0]"
   ]
  },
  {
   "cell_type": "code",
   "execution_count": null,
   "id": "420d82a5",
   "metadata": {},
   "outputs": [],
   "source": [
    "# 3을 출력하세요\n",
    "myTuple[1][2]"
   ]
  },
  {
   "cell_type": "code",
   "execution_count": 49,
   "id": "71dd5b33",
   "metadata": {},
   "outputs": [
    {
     "name": "stdout",
     "output_type": "stream",
     "text": [
      "[4, 5, 6, 7, 8]\n"
     ]
    }
   ],
   "source": [
    "# 4,5를 출력하세요\n",
    "print(myTuple[2])"
   ]
  },
  {
   "cell_type": "code",
   "execution_count": 48,
   "id": "26681169",
   "metadata": {},
   "outputs": [
    {
     "name": "stdout",
     "output_type": "stream",
     "text": [
      "[4, 5]\n"
     ]
    }
   ],
   "source": [
    "# [4,5,6]을 출력하세요\n",
    "print(myTuple[2][:2])"
   ]
  },
  {
   "cell_type": "code",
   "execution_count": null,
   "id": "ddd6e791",
   "metadata": {},
   "outputs": [],
   "source": [
    "# tuple의 길이를 리턴하세요 ( 요소의 갯수가 몇 개인지 )\n",
    "print(len(myTuple))"
   ]
  },
  {
   "cell_type": "code",
   "execution_count": null,
   "id": "29e22394",
   "metadata": {},
   "outputs": [],
   "source": [
    "# '7'이 있는지 확인하세요\n",
    "print('7' in myTuple)"
   ]
  },
  {
   "cell_type": "code",
   "execution_count": 50,
   "id": "0ce89893",
   "metadata": {},
   "outputs": [
    {
     "data": {
      "text/plain": [
       "3"
      ]
     },
     "execution_count": 50,
     "metadata": {},
     "output_type": "execute_result"
    }
   ],
   "source": [
    "# '7'의 인덱스를 출력하세요.\n",
    "myTuple.index('7')"
   ]
  },
  {
   "cell_type": "code",
   "execution_count": null,
   "id": "d894a9f5",
   "metadata": {},
   "outputs": [],
   "source": [
    "# '7'이 몇 개 있는지 확인하세요\n",
    "print(myTuple.count('7'))"
   ]
  },
  {
   "cell_type": "code",
   "execution_count": null,
   "id": "fa4f7916",
   "metadata": {},
   "outputs": [],
   "source": [
    "# 인데스 2번를 출력하세요\n",
    "print(myTuple[2])"
   ]
  },
  {
   "cell_type": "code",
   "execution_count": null,
   "id": "5ddbf680",
   "metadata": {},
   "outputs": [],
   "source": [
    "# 인데스 2번에서 최대값을 출력하세요\n",
    "print(max(myTuple[2]))"
   ]
  },
  {
   "cell_type": "code",
   "execution_count": null,
   "id": "1e8e6e68",
   "metadata": {},
   "outputs": [],
   "source": [
    "# 인데스 2번에서 최소값을 출력하세요\n",
    "print(min(myTuple[2]))"
   ]
  },
  {
   "cell_type": "code",
   "execution_count": null,
   "id": "442c1543",
   "metadata": {},
   "outputs": [],
   "source": [
    "# 인데스 2번에서 총합을 출력하세요\n",
    "print(sum(myTuple[2]))"
   ]
  },
  {
   "cell_type": "code",
   "execution_count": null,
   "id": "c243fbaa",
   "metadata": {},
   "outputs": [],
   "source": [
    "# 인데스 2번에서 평균을 출력하세요\n",
    "import numpy as np\n",
    "print(np.(myTuple[2]))"
   ]
  },
  {
   "cell_type": "code",
   "execution_count": 39,
   "id": "c49d7fae",
   "metadata": {},
   "outputs": [],
   "source": [
    "# 인데스 2번를 내림차순 정렬해서 출력하세요.\n",
    "print(sorted(myTuple[2], reverse=True))"
   ]
  },
  {
   "cell_type": "code",
   "execution_count": 2,
   "id": "940230da",
   "metadata": {},
   "outputs": [],
   "source": [
    "# Set - 중복데이터가 없다. 순서가 없으므로 인덱스가 없다 집합연산\n",
    "\n",
    "# 원소가 없는 set인 s를 만드세요\n",
    "s = set()   #{} 딕셔너리"
   ]
  },
  {
   "cell_type": "code",
   "execution_count": 3,
   "id": "f52c6791",
   "metadata": {},
   "outputs": [
    {
     "data": {
      "text/plain": [
       "{'earth', 'sky'}"
      ]
     },
     "execution_count": 3,
     "metadata": {},
     "output_type": "execute_result"
    }
   ],
   "source": [
    "# s에 원소 'sky'와 'earth'를 추가하세요\n",
    "s.add('sky')\n",
    "s.add('earth')\n",
    "s"
   ]
  },
  {
   "cell_type": "code",
   "execution_count": 7,
   "id": "d522c782",
   "metadata": {},
   "outputs": [
    {
     "data": {
      "text/plain": [
       "{1, 2, 'earth', 'sky'}"
      ]
     },
     "execution_count": 7,
     "metadata": {},
     "output_type": "execute_result"
    }
   ],
   "source": [
    "# s에 1,2 두 원소를 추가하세요\n",
    "s.update({1,2})\n",
    "s\n"
   ]
  },
  {
   "cell_type": "code",
   "execution_count": 59,
   "id": "97ec310f",
   "metadata": {},
   "outputs": [
    {
     "data": {
      "text/plain": [
       "{1, 2, 'earth'}"
      ]
     },
     "execution_count": 59,
     "metadata": {},
     "output_type": "execute_result"
    }
   ],
   "source": [
    "# s에서 'sky'를 삭제하세요\n",
    "s.remove('sky')\n",
    "s"
   ]
  },
  {
   "cell_type": "code",
   "execution_count": 9,
   "id": "683360dd",
   "metadata": {},
   "outputs": [
    {
     "data": {
      "text/plain": [
       "{1, 2, 3, 4, 5, 6, 7, 8, 9}"
      ]
     },
     "execution_count": 9,
     "metadata": {},
     "output_type": "execute_result"
    }
   ],
   "source": [
    "A = {1,2,3,4,5,6}\n",
    "B = {1,2,3,7,8,9}\n",
    "C = {1,2,3}\n",
    "# 두 집합의 합집합을 출력\n",
    "A.union(B)"
   ]
  },
  {
   "cell_type": "code",
   "execution_count": 60,
   "id": "398c5e42",
   "metadata": {},
   "outputs": [
    {
     "data": {
      "text/plain": [
       "{1, 2, 3}"
      ]
     },
     "execution_count": 60,
     "metadata": {},
     "output_type": "execute_result"
    }
   ],
   "source": [
    "# 두 집합의 교집합을 출력\n",
    "A.intersection(B)"
   ]
  },
  {
   "cell_type": "code",
   "execution_count": 61,
   "id": "06f36156",
   "metadata": {},
   "outputs": [
    {
     "data": {
      "text/plain": [
       "{4, 5, 6}"
      ]
     },
     "execution_count": 61,
     "metadata": {},
     "output_type": "execute_result"
    }
   ],
   "source": [
    "# A의 B에 대한 차집합\n",
    "A.difference(B)"
   ]
  },
  {
   "cell_type": "code",
   "execution_count": 10,
   "id": "42998a7a",
   "metadata": {},
   "outputs": [
    {
     "data": {
      "text/plain": [
       "{4, 5, 6, 7, 8, 9}"
      ]
     },
     "execution_count": 10,
     "metadata": {},
     "output_type": "execute_result"
    }
   ],
   "source": [
    "# 대칭차집합\n",
    "A.symmetric_difference(B)\n"
   ]
  },
  {
   "cell_type": "code",
   "execution_count": 63,
   "id": "6274269b",
   "metadata": {},
   "outputs": [
    {
     "data": {
      "text/plain": [
       "True"
      ]
     },
     "execution_count": 63,
     "metadata": {},
     "output_type": "execute_result"
    }
   ],
   "source": [
    "# C가 A의 부분집합인지 확인\n",
    "C.issubset(A)"
   ]
  },
  {
   "cell_type": "code",
   "execution_count": 64,
   "id": "c074cbe0",
   "metadata": {},
   "outputs": [
    {
     "data": {
      "text/plain": [
       "True"
      ]
     },
     "execution_count": 64,
     "metadata": {},
     "output_type": "execute_result"
    }
   ],
   "source": [
    "# A가 C를 포함하는지 확인\n",
    "A.issuperset(C)"
   ]
  },
  {
   "cell_type": "code",
   "execution_count": null,
   "id": "c13c72a3",
   "metadata": {},
   "outputs": [],
   "source": [
    "# 집합 B의 길이를 출력\n",
    "len(A)"
   ]
  },
  {
   "cell_type": "code",
   "execution_count": null,
   "id": "a7829882",
   "metadata": {},
   "outputs": [],
   "source": [
    "# 집합 B의 최대값 출력\n",
    "max(A)"
   ]
  },
  {
   "cell_type": "code",
   "execution_count": null,
   "id": "3e6cfd21",
   "metadata": {},
   "outputs": [],
   "source": [
    "# 집합 B의 최소값 출력\n",
    "min(A)"
   ]
  },
  {
   "cell_type": "code",
   "execution_count": null,
   "id": "1bc05d9f",
   "metadata": {},
   "outputs": [],
   "source": [
    "# 집합 B의 합을 출력\n",
    "sum(A)"
   ]
  },
  {
   "cell_type": "code",
   "execution_count": 69,
   "id": "a83746db",
   "metadata": {},
   "outputs": [
    {
     "data": {
      "text/plain": [
       "3.5"
      ]
     },
     "execution_count": 69,
     "metadata": {},
     "output_type": "execute_result"
    }
   ],
   "source": [
    "# 집합 B의 평균출력\n",
    "sum(A)/len(A)\n",
    "# np.mean(list(A))"
   ]
  },
  {
   "cell_type": "code",
   "execution_count": null,
   "id": "d6cde363",
   "metadata": {},
   "outputs": [],
   "source": [
    "# 집합 B의 내림차순 출력\n",
    "sorted(A, reverse=True)"
   ]
  },
  {
   "cell_type": "code",
   "execution_count": 70,
   "id": "e68de373",
   "metadata": {},
   "outputs": [
    {
     "data": {
      "text/plain": [
       "True"
      ]
     },
     "execution_count": 70,
     "metadata": {},
     "output_type": "execute_result"
    }
   ],
   "source": [
    "# 집합 B에 5가 포함되어 있는지 확인\n",
    "5 in A"
   ]
  },
  {
   "cell_type": "code",
   "execution_count": 15,
   "id": "b4f21339",
   "metadata": {},
   "outputs": [],
   "source": [
    "# Dictionary\n",
    "\n",
    "# 'mydict'라는 딕셔너리를 만드세요.\n",
    "d = {}"
   ]
  },
  {
   "cell_type": "code",
   "execution_count": 16,
   "id": "f5eb4c09",
   "metadata": {},
   "outputs": [
    {
     "data": {
      "text/plain": [
       "{'red': 4, 'blue': 3, 'green': 1}"
      ]
     },
     "execution_count": 16,
     "metadata": {},
     "output_type": "execute_result"
    }
   ],
   "source": [
    "# 'red':4, 'blue':3, 'green':1 세 요소를 추가하세요.\n",
    "d['red']=4   #없는  key에 값을 대입하면, 원소가 추가가 됨\n",
    "d['blue']=3\n",
    "d['green']=1\n",
    "d"
   ]
  },
  {
   "cell_type": "code",
   "execution_count": 77,
   "id": "2ea14411",
   "metadata": {},
   "outputs": [
    {
     "data": {
      "text/plain": [
       "{'red': 7, 'blue': 3, 'green': 1}"
      ]
     },
     "execution_count": 77,
     "metadata": {},
     "output_type": "execute_result"
    }
   ],
   "source": [
    "# key에 'blue'가 있는지 확인하세요.\n",
    "d['red'] = 7  #있는 key에 값을 대입하면, 기존의 값을 덮어 쓴다..\n",
    "d\n",
    "\n",
    "# 'blue' in d"
   ]
  },
  {
   "cell_type": "code",
   "execution_count": null,
   "id": "d570e569",
   "metadata": {},
   "outputs": [],
   "source": [
    "# mydict의 길이를 출력하세요.\n",
    "\n",
    "len(d)"
   ]
  },
  {
   "cell_type": "code",
   "execution_count": null,
   "id": "112bcecc",
   "metadata": {},
   "outputs": [],
   "source": [
    "# 'red'의 값을 출력하세요.\n",
    "d['red']"
   ]
  },
  {
   "cell_type": "code",
   "execution_count": null,
   "id": "18155bca",
   "metadata": {},
   "outputs": [],
   "source": [
    "# 'red'의 값을 10으로 수정하세요.\n",
    "d['red'] = 10\n",
    "d"
   ]
  },
  {
   "cell_type": "code",
   "execution_count": null,
   "id": "d7a5910e",
   "metadata": {},
   "outputs": [],
   "source": [
    "# key값만 출력하세요\n",
    "d.keys()"
   ]
  },
  {
   "cell_type": "code",
   "execution_count": null,
   "id": "763a8ac7",
   "metadata": {},
   "outputs": [],
   "source": [
    "# value값만 출력하세요\n",
    "d.values()"
   ]
  },
  {
   "cell_type": "code",
   "execution_count": 17,
   "id": "eb398cee",
   "metadata": {},
   "outputs": [
    {
     "data": {
      "text/plain": [
       "dict_items([('red', 4), ('blue', 3), ('green', 1)])"
      ]
     },
     "execution_count": 17,
     "metadata": {},
     "output_type": "execute_result"
    }
   ],
   "source": [
    "# key와 value를 튜플로 출력하세요.\n",
    "d.items()"
   ]
  },
  {
   "cell_type": "code",
   "execution_count": 78,
   "id": "996cce36",
   "metadata": {},
   "outputs": [
    {
     "data": {
      "text/plain": [
       "[('blue', 3), ('green', 1), ('red', 7)]"
      ]
     },
     "execution_count": 78,
     "metadata": {},
     "output_type": "execute_result"
    }
   ],
   "source": [
    "# (key기준으로 정렬하세요\n",
    "sorted(d.items(), key =lambda x:x[0])\n",
    "# sorted(d.items(), key =lambda x:x[1]) - value 기준 정렬"
   ]
  },
  {
   "cell_type": "code",
   "execution_count": null,
   "id": "8c4ac1e0",
   "metadata": {},
   "outputs": [],
   "source": [
    "# (value기준으로 정렬하세요)\n",
    "sorted(d.items(), key =lambda x:x[1])"
   ]
  },
  {
   "cell_type": "code",
   "execution_count": 18,
   "id": "124922e6",
   "metadata": {},
   "outputs": [
    {
     "data": {
      "text/plain": [
       "3"
      ]
     },
     "execution_count": 18,
     "metadata": {},
     "output_type": "execute_result"
    }
   ],
   "source": [
    "# key 'blue'요소를 삭제하세요\n",
    "d.pop('blue')"
   ]
  },
  {
   "cell_type": "code",
   "execution_count": null,
   "id": "2271566a",
   "metadata": {},
   "outputs": [],
   "source": [
    "# key 'pink'요소 값을 출력하되 오류가 없도록 하세요\n",
    "\n",
    "d.get('pink')\n",
    "\n",
    "# dict.get('key') - 없는 key를 요청 시 에러를 발생시키지 않는다\n",
    "# dict['key'] - 없는 key 를 요청시 에러발생\n",
    "# dict.setdefault('key', value) - key가 존재하면  value를 리턴, 없는 key라면 (key, value) 원소를 추가"
   ]
  },
  {
   "cell_type": "code",
   "execution_count": 20,
   "id": "80d9f9f3",
   "metadata": {},
   "outputs": [
    {
     "data": {
      "text/plain": [
       "{'red': 4, 'green': 1, 'pink': 20}"
      ]
     },
     "execution_count": 20,
     "metadata": {},
     "output_type": "execute_result"
    }
   ],
   "source": [
    "# key 'pink' 값을 출력하되 없으면, value 20으로 새로이 추가하세요\n",
    "d.setdefault('red', 100)\n",
    "d.setdefault('pink', 20)\n",
    "d"
   ]
  },
  {
   "cell_type": "code",
   "execution_count": 83,
   "id": "04435d64",
   "metadata": {},
   "outputs": [
    {
     "data": {
      "text/plain": [
       "True"
      ]
     },
     "execution_count": 83,
     "metadata": {},
     "output_type": "execute_result"
    }
   ],
   "source": [
    "# value에 20이 있는지 확인하세요.\n",
    "20 in d.values()"
   ]
  },
  {
   "cell_type": "code",
   "execution_count": null,
   "id": "c9a9417c",
   "metadata": {},
   "outputs": [],
   "source": [
    "# key는 'yellow'에 value는 30을 추가하세요.\n",
    "d['yellow'] = 30"
   ]
  },
  {
   "cell_type": "code",
   "execution_count": 86,
   "id": "8e21cfd4",
   "metadata": {},
   "outputs": [
    {
     "data": {
      "text/plain": [
       "{'red': 7, 'green': 1, 'pink': 20, '파랑': 50, '빨강': 70}"
      ]
     },
     "execution_count": 86,
     "metadata": {},
     "output_type": "execute_result"
    }
   ],
   "source": [
    "# yourdict = {'파랑':50, '빨강':70}을 합하세요..\n",
    "yourdict = {'파랑':50, '빨강':70}\n",
    "d.update(yourdict)\n",
    "d"
   ]
  },
  {
   "cell_type": "code",
   "execution_count": null,
   "id": "4772205d",
   "metadata": {},
   "outputs": [],
   "source": []
  },
  {
   "cell_type": "markdown",
   "id": "ab47deb4",
   "metadata": {},
   "source": [
    "### Tuple"
   ]
  },
  {
   "cell_type": "code",
   "execution_count": null,
   "id": "ad5c28a4",
   "metadata": {},
   "outputs": [],
   "source": []
  },
  {
   "cell_type": "markdown",
   "id": "a67f7a9f",
   "metadata": {},
   "source": [
    "### If"
   ]
  },
  {
   "cell_type": "code",
   "execution_count": null,
   "id": "ac2bdc77",
   "metadata": {},
   "outputs": [],
   "source": [
    "#  조건식 => True/False\n",
    "\n",
    "# if 조건식:\n",
    "#     실행코드\n",
    "# elif 조건식:\n",
    "#     실행코드\n",
    "# elif 조건식:\n",
    "#     실행코드\n",
    "# else:\n",
    "#     실행코드"
   ]
  },
  {
   "cell_type": "code",
   "execution_count": null,
   "id": "7338b17d",
   "metadata": {},
   "outputs": [],
   "source": [
    "#  정수를 입력받은 후 학점을 출력하시오\n",
    "\n",
    "score = int(input('점수를 입력하세요'))\n",
    "if score >= 90:\n",
    "    print('A학점 입니다')\n",
    "elif 90 > score >= 80:\n",
    "    print('B학점 입니다')\n",
    "elif 80 > score >= 70:\n",
    "    print('B학점 입니다')\n",
    "else:\n",
    "    print('B학점 입니다')"
   ]
  },
  {
   "cell_type": "code",
   "execution_count": null,
   "id": "be3a8102",
   "metadata": {},
   "outputs": [],
   "source": []
  },
  {
   "cell_type": "code",
   "execution_count": 2,
   "id": "228626a8",
   "metadata": {},
   "outputs": [
    {
     "name": "stdout",
     "output_type": "stream",
     "text": [
      "번호를 입력하세요2222\n",
      "비밀번호가 틀립니다\n"
     ]
    }
   ],
   "source": [
    "#  비밀번호 = 1234 인 경우 비밀번호를 입력받은 후 맞으면 '환영합니다.', 틀리면'비밀번호가 틀립니다'를 출력하시오\n",
    "\n",
    "pwd = 1234\n",
    "\n",
    "num = int(input('번호를 입력하세요'))\n",
    "\n",
    "if num == pwd:\n",
    "    print('환영합니다')\n",
    "else:\n",
    "    print('비밀번호가 틀립니다')"
   ]
  },
  {
   "cell_type": "code",
   "execution_count": null,
   "id": "146c0926",
   "metadata": {},
   "outputs": [],
   "source": [
    "# 임의의 정수를 입력받은 후 짝수면 '짝수입니다' 홀수면 '홀수입니다'\n",
    "\n",
    "num = int(input('정수를 입력하세요'))\n",
    "\n",
    "if num%2 == 0:\n",
    "    print('짝수입니다')\n",
    "    \n",
    "else:\n",
    "    print('홀수입니다')"
   ]
  },
  {
   "cell_type": "code",
   "execution_count": null,
   "id": "e6d03b43",
   "metadata": {},
   "outputs": [],
   "source": []
  },
  {
   "cell_type": "code",
   "execution_count": 1,
   "id": "001c136e",
   "metadata": {},
   "outputs": [
    {
     "name": "stdout",
     "output_type": "stream",
     "text": [
      "주민번호를 입력하세요851205-2222222\n",
      "당신의 나이는 37이고, 성별은 여자입니다\n"
     ]
    }
   ],
   "source": [
    "# 주민번호 '851205-2000000'\n",
    "# 주민번호를 입력받은 후 '당신의 나이는 _이고, 성별은 _입니다'\n",
    "\n",
    "j = input('주민번호를 입력하세요')\n",
    "\n",
    "a = str(19) + str(j[:2])\n",
    "\n",
    "age = 2022 - int(a)\n",
    "\n",
    "if j[7] == 1:\n",
    "    sex = '남자'\n",
    "else:\n",
    "    sex = '여자'\n",
    "    \n",
    "print('당신의 나이는 {}이고, 성별은 {}입니다'.format(age, sex))"
   ]
  },
  {
   "cell_type": "code",
   "execution_count": null,
   "id": "8259b945",
   "metadata": {},
   "outputs": [],
   "source": []
  },
  {
   "cell_type": "code",
   "execution_count": 57,
   "id": "39b14e6c",
   "metadata": {},
   "outputs": [
    {
     "name": "stdout",
     "output_type": "stream",
     "text": [
      "이름을 입력하시오Mary\n",
      "합격입니다.\n"
     ]
    }
   ],
   "source": [
    "scores = {'Mary':85, 'Sam':95, 'Bob': 87, 'Han':77 }\n",
    "# 이름을 입력받은 후 이름이 있으면 80점 이상이면 ' 햡격입니다'\n",
    "# 이하이면 '불합격입니다'를 출력하시오, 이름이 없으면 값을 0으로 하여 추가하시오\n",
    "\n",
    "nam = input('이름을 입력하시오')\n",
    "\n",
    "if nam in scores:\n",
    "    if scores[nam] > 80:\n",
    "        print('합격입니다.')\n",
    "    else:\n",
    "        print('불합격입니다')\n",
    "else:\n",
    "    scores[nam] = 0"
   ]
  },
  {
   "cell_type": "code",
   "execution_count": 4,
   "id": "dcfbaebf",
   "metadata": {},
   "outputs": [
    {
     "name": "stdout",
     "output_type": "stream",
     "text": [
      "{'Mary': 85, 'Sam': 95, 'Bob': 87, 'Han': 77, 'nam': 0}\n"
     ]
    }
   ],
   "source": [
    "print(scores)"
   ]
  },
  {
   "cell_type": "code",
   "execution_count": null,
   "id": "9961ad48",
   "metadata": {},
   "outputs": [],
   "source": []
  },
  {
   "cell_type": "code",
   "execution_count": 3,
   "id": "0995f927",
   "metadata": {},
   "outputs": [
    {
     "name": "stdout",
     "output_type": "stream",
     "text": [
      "mine <= 가위, 바위, 보 중에서 하나를 선택하세요보\n",
      "yours <= 가위, 바위, 보 중에서 하나를 선택하세요가위\n",
      "졌습니다\n"
     ]
    }
   ],
   "source": [
    "# 가위, 바위, 보 게임\n",
    "\n",
    "mine = input('mine <= 가위, 바위, 보 중에서 하나를 선택하세요')\n",
    "yours = input('yours <= 가위, 바위, 보 중에서 하나를 선택하세요')\n",
    "\n",
    "\n",
    "#  비겼습니다\n",
    "#  내가 이겼습니다\n",
    "#  당신이 이겼습니다\n",
    "\n",
    "if mine == '가위':\n",
    "    if yours == '가위':\n",
    "        print('비겼습니다')\n",
    "    elif yours == '바위':\n",
    "        print('졌습니다')\n",
    "    else:\n",
    "        print('이겼습니다')\n",
    "elif mine == '바위':\n",
    "    if yours == '가위':\n",
    "        print('이겼습니다')\n",
    "    elif yours == '바위':\n",
    "        print('비겼습니다')\n",
    "    else:\n",
    "        print('졌습니다')\n",
    "else:\n",
    "    if yours == '가위':\n",
    "        print('졌습니다')\n",
    "    elif yours == '바위':\n",
    "        print('이겼습니다')\n",
    "    else:\n",
    "        print('비겼습니다')\n",
    "        \n",
    "        "
   ]
  },
  {
   "cell_type": "code",
   "execution_count": 58,
   "id": "59fb2b8a",
   "metadata": {},
   "outputs": [
    {
     "name": "stdout",
     "output_type": "stream",
     "text": [
      "나이를 입력하세요30\n",
      "젊으시군요\n"
     ]
    }
   ],
   "source": [
    "#  나이를 입력받은 후, 50대 이상이면 '중년이시군요', 20~40대이면 '젊으시군요',\n",
    "#  20세 미만이면 '어리시군요'를 출력\n",
    "\n",
    "age = int(input('나이를 입력하세요'))\n",
    "\n",
    "if age >= 50:\n",
    "    print('중년이시군요')\n",
    "elif age >= 20:\n",
    "    print('젊으시군요')\n",
    "else:\n",
    "    print('어리시군요')"
   ]
  },
  {
   "cell_type": "code",
   "execution_count": null,
   "id": "75422311",
   "metadata": {},
   "outputs": [],
   "source": []
  },
  {
   "cell_type": "markdown",
   "id": "017913d0",
   "metadata": {},
   "source": [
    "### 반복문"
   ]
  },
  {
   "cell_type": "code",
   "execution_count": null,
   "id": "38e79c8f",
   "metadata": {},
   "outputs": [],
   "source": [
    "# for 임시변수 in 군집형데이터:\n",
    "#     실행코드\n",
    "#     실행코드\n",
    "#     ..."
   ]
  },
  {
   "cell_type": "code",
   "execution_count": null,
   "id": "f10595a1",
   "metadata": {},
   "outputs": [],
   "source": [
    "# while 조건문:\n",
    "#     실행코드\n",
    "#     실행코드\n",
    "#     ..."
   ]
  },
  {
   "cell_type": "code",
   "execution_count": 8,
   "id": "a3081a30",
   "metadata": {},
   "outputs": [
    {
     "data": {
      "text/plain": [
       "8"
      ]
     },
     "execution_count": 8,
     "metadata": {},
     "output_type": "execute_result"
    }
   ],
   "source": [
    "#  모음의 숫자를 계산하시오 단, 모음은 'aeiouAEIOU'\n",
    "\n",
    "text = 'computational thinking'\n",
    "vowel = 'aeiouAEIOU'\n",
    "\n",
    "suma = 0\n",
    "\n",
    "for c in text:\n",
    "    if c in vowel:\n",
    "        suma += 1\n",
    "suma"
   ]
  },
  {
   "cell_type": "code",
   "execution_count": 61,
   "id": "4cd19dbe",
   "metadata": {},
   "outputs": [
    {
     "ename": "TypeError",
     "evalue": "list indices must be integers or slices, not str",
     "output_type": "error",
     "traceback": [
      "\u001b[1;31m---------------------------------------------------------------------------\u001b[0m",
      "\u001b[1;31mTypeError\u001b[0m                                 Traceback (most recent call last)",
      "\u001b[1;32m~\\AppData\\Local\\Temp/ipykernel_604/3109577781.py\u001b[0m in \u001b[0;36m<module>\u001b[1;34m\u001b[0m\n\u001b[0;32m      6\u001b[0m \u001b[1;33m\u001b[0m\u001b[0m\n\u001b[0;32m      7\u001b[0m \u001b[1;32mfor\u001b[0m \u001b[0mi\u001b[0m \u001b[1;32min\u001b[0m \u001b[0mwords\u001b[0m\u001b[1;33m:\u001b[0m\u001b[1;33m\u001b[0m\u001b[1;33m\u001b[0m\u001b[0m\n\u001b[1;32m----> 8\u001b[1;33m     \u001b[0ma\u001b[0m \u001b[1;33m=\u001b[0m \u001b[0mlen\u001b[0m\u001b[1;33m(\u001b[0m\u001b[0mwords\u001b[0m\u001b[1;33m[\u001b[0m\u001b[0mi\u001b[0m\u001b[1;33m]\u001b[0m\u001b[1;33m)\u001b[0m\u001b[1;33m\u001b[0m\u001b[1;33m\u001b[0m\u001b[0m\n\u001b[0m\u001b[0;32m      9\u001b[0m \u001b[1;33m\u001b[0m\u001b[0m\n\u001b[0;32m     10\u001b[0m     \u001b[1;32mif\u001b[0m \u001b[0ma\u001b[0m \u001b[1;33m>\u001b[0m \u001b[1;36m4\u001b[0m\u001b[1;33m:\u001b[0m\u001b[1;33m\u001b[0m\u001b[1;33m\u001b[0m\u001b[0m\n",
      "\u001b[1;31mTypeError\u001b[0m: list indices must be integers or slices, not str"
     ]
    }
   ],
   "source": [
    "#  word의 길이가 4 이상인 단어의 단어길이 총합을 구하시오\n",
    "\n",
    "words = ['mountain', 'sea', 'sky', 'river', 'cloud', 'tree', 'lake']\n",
    "suma = 0\n",
    "a = 0\n",
    "\n",
    "for i in words:\n",
    "    a = len(words[i])\n",
    "\n",
    "    if a > 4:\n",
    "        suma += a\n",
    "        \n",
    "print(suma)\n",
    "\n",
    "\n",
    "\n",
    "# ========================================\n",
    "# suma=0\n",
    "\n",
    "# for w in words:\n",
    "#     if len(w) >= 4:\n",
    "#         print(w, len(w))\n",
    "#         suma += len(w)\n"
   ]
  },
  {
   "cell_type": "code",
   "execution_count": 20,
   "id": "c7641d01",
   "metadata": {},
   "outputs": [
    {
     "data": {
      "text/plain": [
       "[('a', '가'),\n",
       " ('a', '나'),\n",
       " ('a', '다'),\n",
       " ('a', '라'),\n",
       " ('b', '가'),\n",
       " ('b', '나'),\n",
       " ('b', '다'),\n",
       " ('b', '라'),\n",
       " ('c', '가'),\n",
       " ('c', '나'),\n",
       " ('c', '다'),\n",
       " ('c', '라'),\n",
       " ('d', '가'),\n",
       " ('d', '나'),\n",
       " ('d', '다'),\n",
       " ('d', '라')]"
      ]
     },
     "execution_count": 20,
     "metadata": {},
     "output_type": "execute_result"
    }
   ],
   "source": [
    "#  두 리스트 원소간의 모든 조합을 리스트에 담으시오\n",
    "L1 = ['a','b','c','d']\n",
    "L2 = ['가','나','다','라']\n",
    "\n",
    "# for i,j in len(L1):\n",
    "#         print(L1[i],L2[j])\n",
    "    \n",
    "    \n",
    "    \n",
    "# =============================\n",
    "\n",
    "L = []\n",
    "\n",
    "for i in L1:\n",
    "    for j in L2:\n",
    "        L.append((i,j))\n",
    "        \n",
    "L"
   ]
  },
  {
   "cell_type": "code",
   "execution_count": 4,
   "id": "6410411d",
   "metadata": {},
   "outputs": [
    {
     "name": "stdout",
     "output_type": "stream",
     "text": [
      "홀수합 : 110, 짝수합 : 100\n"
     ]
    }
   ],
   "source": [
    "#  for문과 while문을 이용해서 1부터 20까지의 정수에서 짝수의 합과 홀수의 합을 구하시오\n",
    "\n",
    "sum_a = 0\n",
    "sum_b = 0\n",
    "\n",
    "for i in range(21):\n",
    "    if i%2 == 0:\n",
    "        sum_a += i\n",
    "    else:\n",
    "        sum_b +=i\n",
    "        \n",
    "print('홀수합 : {}, 짝수합 : {}'.format(sum_a,sum_b))"
   ]
  },
  {
   "cell_type": "code",
   "execution_count": 2,
   "id": "7d6d7fc7",
   "metadata": {},
   "outputs": [
    {
     "name": "stdout",
     "output_type": "stream",
     "text": [
      "홀수합 : 110, 짝수합 : 100\n"
     ]
    }
   ],
   "source": [
    "sum_a = 0\n",
    "sum_b = 0\n",
    "i = 0\n",
    "\n",
    "while i < 21:\n",
    "    i += 1\n",
    "    if i%2 == 0:\n",
    "        sum_a += i\n",
    "    else:\n",
    "        sum_b +=i\n",
    "    \n",
    "        \n",
    "print('홀수합 : {}, 짝수합 : {}'.format(sum_a,sum_b))"
   ]
  },
  {
   "cell_type": "code",
   "execution_count": null,
   "id": "53ebf2a8",
   "metadata": {},
   "outputs": [],
   "source": []
  },
  {
   "cell_type": "code",
   "execution_count": 7,
   "id": "59ec1a96",
   "metadata": {},
   "outputs": [
    {
     "name": "stdout",
     "output_type": "stream",
     "text": [
      "4,5,6,7,"
     ]
    }
   ],
   "source": [
    "#  break 와 continue를 이용해서 1부터 10까지 정수 중에서 4,5,6,7만을 출력하시오\n",
    "\n",
    "for i in range(11):\n",
    "    if i < 4:\n",
    "        continue\n",
    "    if i > 7 :\n",
    "        break\n",
    "    print(i, end=',')\n",
    "    "
   ]
  },
  {
   "cell_type": "code",
   "execution_count": 8,
   "id": "c30373c9",
   "metadata": {},
   "outputs": [
    {
     "name": "stdout",
     "output_type": "stream",
     "text": [
      "4,5,6,7,"
     ]
    }
   ],
   "source": [
    "i = 0\n",
    "while True:\n",
    "    i += 1\n",
    "    if i < 4:\n",
    "        continue\n",
    "    if i > 7 :\n",
    "        break\n",
    "    print(i, end=',')"
   ]
  },
  {
   "cell_type": "code",
   "execution_count": 9,
   "id": "9abe41e6",
   "metadata": {},
   "outputs": [
    {
     "name": "stdout",
     "output_type": "stream",
     "text": [
      "점수를 입력하세요10\n",
      "점수를 입력하세요10\n",
      "점수를 입력하세요10\n",
      "점수를 입력하세요10\n",
      "점수를 입력하세요10\n",
      "2.0\n"
     ]
    }
   ],
   "source": [
    "#  점수를 5번 입력받은 후 평균점수를 출력하시오\n",
    "suma = 0\n",
    "\n",
    "for i in range(5):\n",
    "    score = int(input('점수를 입력하세요'))\n",
    "    suma += score\n",
    "print(suma/5)"
   ]
  },
  {
   "cell_type": "code",
   "execution_count": 12,
   "id": "b150e9ee",
   "metadata": {},
   "outputs": [
    {
     "name": "stdout",
     "output_type": "stream",
     "text": [
      "점수를 입력하세요10\n",
      "점수를 입력하세요10\n",
      "점수를 입력하세요10\n",
      "점수를 입력하세요10\n",
      "점수를 입력하세요10\n",
      "10.0\n"
     ]
    }
   ],
   "source": [
    "i = 0\n",
    "suma = 0\n",
    "\n",
    "while i < 5:\n",
    "    i += 1\n",
    "    score = int(input('점수를 입력하세요'))\n",
    "    suma += score\n",
    "\n",
    "print(suma/5)"
   ]
  },
  {
   "cell_type": "code",
   "execution_count": null,
   "id": "51405412",
   "metadata": {},
   "outputs": [],
   "source": [
    "# 임의의 수를 입력받은 후 팩토리얼을 게산하는 코드를 작성하시오\n",
    "#  5! = 5+4+3+2+1\n",
    "\n",
    "num = int(input('숫자를 입력하세요'))\n",
    "\n",
    "for i in num:\n",
    "    suma += i\n",
    "    i -= 1"
   ]
  },
  {
   "cell_type": "code",
   "execution_count": 15,
   "id": "2ce2eb7f",
   "metadata": {},
   "outputs": [
    {
     "name": "stdout",
     "output_type": "stream",
     "text": [
      "숫자를 입력하세요5\n"
     ]
    },
    {
     "data": {
      "text/plain": [
       "120"
      ]
     },
     "execution_count": 15,
     "metadata": {},
     "output_type": "execute_result"
    }
   ],
   "source": [
    "num = int(input('숫자를 입력하세요'))\n",
    "\n",
    "re = 1\n",
    "\n",
    "while num > 1:\n",
    "    re *= num\n",
    "    num -= 1\n",
    "    \n",
    "re"
   ]
  },
  {
   "cell_type": "code",
   "execution_count": null,
   "id": "b8a2c33c",
   "metadata": {},
   "outputs": [],
   "source": [
    "L = [70, 100, 80, 120, 130]\n",
    "\n",
    "#  반복문을 이용해서 최대값과 최소값을 구하시오\n",
    "\n",
    "max_n = L[0]\n",
    "max_n = L[0]\n",
    "\n",
    "for n in L:\n",
    "    if max_n < n:\n",
    "        max_n = n\n",
    "    if min_n < n:\n",
    "        min_n = n\n",
    "        \n",
    "print('최대값 {}, 최소값 {}'.format(max_n, min_n))"
   ]
  },
  {
   "cell_type": "code",
   "execution_count": null,
   "id": "3b75b1ee",
   "metadata": {},
   "outputs": [],
   "source": []
  },
  {
   "cell_type": "code",
   "execution_count": 17,
   "id": "e8c6282e",
   "metadata": {},
   "outputs": [
    {
     "name": "stdout",
     "output_type": "stream",
     "text": [
      "\n",
      "*\n",
      "**\n",
      "***\n",
      "****\n",
      "*****\n"
     ]
    }
   ],
   "source": [
    "for i in range(6):\n",
    "    print(i*'*')"
   ]
  },
  {
   "cell_type": "code",
   "execution_count": 28,
   "id": "c96194b2",
   "metadata": {},
   "outputs": [
    {
     "name": "stdout",
     "output_type": "stream",
     "text": [
      "*****\n",
      "****\n",
      "***\n",
      "**\n",
      "*\n"
     ]
    }
   ],
   "source": [
    "for i in range(5, 0, -1):\n",
    "    print(i*'*')"
   ]
  },
  {
   "cell_type": "code",
   "execution_count": 22,
   "id": "45f33c52",
   "metadata": {},
   "outputs": [
    {
     "name": "stdout",
     "output_type": "stream",
     "text": [
      "0 * 0 = 00 * 1 = 00 * 2 = 00 * 3 = 00 * 4 = 00 * 5 = 00 * 6 = 00 * 7 = 00 * 8 = 00 * 9 = 0\n",
      "1 * 0 = 01 * 1 = 11 * 2 = 21 * 3 = 31 * 4 = 41 * 5 = 51 * 6 = 61 * 7 = 71 * 8 = 81 * 9 = 9\n",
      "2 * 0 = 02 * 1 = 22 * 2 = 42 * 3 = 62 * 4 = 82 * 5 = 102 * 6 = 122 * 7 = 142 * 8 = 162 * 9 = 18\n",
      "3 * 0 = 03 * 1 = 33 * 2 = 63 * 3 = 93 * 4 = 123 * 5 = 153 * 6 = 183 * 7 = 213 * 8 = 243 * 9 = 27\n",
      "4 * 0 = 04 * 1 = 44 * 2 = 84 * 3 = 124 * 4 = 164 * 5 = 204 * 6 = 244 * 7 = 284 * 8 = 324 * 9 = 36\n",
      "5 * 0 = 05 * 1 = 55 * 2 = 105 * 3 = 155 * 4 = 205 * 5 = 255 * 6 = 305 * 7 = 355 * 8 = 405 * 9 = 45\n",
      "6 * 0 = 06 * 1 = 66 * 2 = 126 * 3 = 186 * 4 = 246 * 5 = 306 * 6 = 366 * 7 = 426 * 8 = 486 * 9 = 54\n",
      "7 * 0 = 07 * 1 = 77 * 2 = 147 * 3 = 217 * 4 = 287 * 5 = 357 * 6 = 427 * 7 = 497 * 8 = 567 * 9 = 63\n",
      "8 * 0 = 08 * 1 = 88 * 2 = 168 * 3 = 248 * 4 = 328 * 5 = 408 * 6 = 488 * 7 = 568 * 8 = 648 * 9 = 72\n",
      "9 * 0 = 09 * 1 = 99 * 2 = 189 * 3 = 279 * 4 = 369 * 5 = 459 * 6 = 549 * 7 = 639 * 8 = 729 * 9 = 81\n"
     ]
    }
   ],
   "source": [
    "for i in range(10):\n",
    "    for j in range(10):\n",
    "        print('{} * {} = {}'.format(i,j,i*j), end='')\n",
    "    print()\n",
    "    "
   ]
  },
  {
   "cell_type": "code",
   "execution_count": null,
   "id": "f921f004",
   "metadata": {},
   "outputs": [],
   "source": []
  },
  {
   "cell_type": "code",
   "execution_count": null,
   "id": "32bf25a1",
   "metadata": {},
   "outputs": [],
   "source": [
    "    *\n",
    "   **\n",
    "  ***\n",
    " ****\n",
    "*****"
   ]
  },
  {
   "cell_type": "code",
   "execution_count": 32,
   "id": "34197afc",
   "metadata": {},
   "outputs": [
    {
     "name": "stdout",
     "output_type": "stream",
     "text": [
      "     \n",
      "    *\n",
      "   **\n",
      "  ***\n",
      " ****\n",
      "*****\n"
     ]
    }
   ],
   "source": [
    "for i in range(6):\n",
    "    print('{:>5}'.format(i*'*'))"
   ]
  },
  {
   "cell_type": "code",
   "execution_count": 35,
   "id": "5f80b026",
   "metadata": {},
   "outputs": [
    {
     "name": "stdout",
     "output_type": "stream",
     "text": [
      "     *\n",
      "    **\n",
      "   ***\n",
      "  ****\n",
      " *****\n",
      " ******\n"
     ]
    }
   ],
   "source": [
    "for i in range(6):\n",
    "    print(' '*(4-i), '*'*(i+1))"
   ]
  },
  {
   "cell_type": "code",
   "execution_count": 39,
   "id": "6491aca2",
   "metadata": {},
   "outputs": [
    {
     "name": "stdout",
     "output_type": "stream",
     "text": [
      "*****\n",
      " ****\n",
      "  ***\n",
      "   **\n",
      "    *\n"
     ]
    }
   ],
   "source": [
    "for i in range(5,0,-1):\n",
    "    print('{:>5}'.format(i*'*'))"
   ]
  },
  {
   "cell_type": "code",
   "execution_count": 40,
   "id": "6f07f39b",
   "metadata": {},
   "outputs": [
    {
     "name": "stdout",
     "output_type": "stream",
     "text": [
      "*****\n",
      "****\n",
      "***\n",
      "**\n",
      "*\n"
     ]
    }
   ],
   "source": [
    "for i in range(5):\n",
    "    print('*'*(5-i))"
   ]
  },
  {
   "cell_type": "code",
   "execution_count": null,
   "id": "be49e9e3",
   "metadata": {},
   "outputs": [],
   "source": []
  },
  {
   "cell_type": "code",
   "execution_count": 43,
   "id": "070f9cd6",
   "metadata": {},
   "outputs": [
    {
     "ename": "TypeError",
     "evalue": "'int' object is not iterable",
     "output_type": "error",
     "traceback": [
      "\u001b[1;31m---------------------------------------------------------------------------\u001b[0m",
      "\u001b[1;31mTypeError\u001b[0m                                 Traceback (most recent call last)",
      "\u001b[1;32m~\\AppData\\Local\\Temp/ipykernel_604/4204522983.py\u001b[0m in \u001b[0;36m<module>\u001b[1;34m\u001b[0m\n\u001b[0;32m      3\u001b[0m \u001b[1;31m# 홀수번 인덱스만 출력\u001b[0m\u001b[1;33m\u001b[0m\u001b[1;33m\u001b[0m\u001b[0m\n\u001b[0;32m      4\u001b[0m \u001b[1;33m\u001b[0m\u001b[0m\n\u001b[1;32m----> 5\u001b[1;33m \u001b[1;32mfor\u001b[0m \u001b[0mi\u001b[0m \u001b[1;32min\u001b[0m \u001b[0mlen\u001b[0m\u001b[1;33m(\u001b[0m\u001b[0mtext\u001b[0m\u001b[1;33m)\u001b[0m\u001b[1;33m:\u001b[0m\u001b[1;33m\u001b[0m\u001b[1;33m\u001b[0m\u001b[0m\n\u001b[0m\u001b[0;32m      6\u001b[0m     \u001b[1;32mif\u001b[0m \u001b[0mtext\u001b[0m\u001b[1;33m.\u001b[0m\u001b[0mindex\u001b[0m\u001b[1;33m(\u001b[0m\u001b[0mi\u001b[0m\u001b[1;33m)\u001b[0m\u001b[1;33m%\u001b[0m\u001b[1;36m2\u001b[0m \u001b[1;33m==\u001b[0m \u001b[1;36m1\u001b[0m\u001b[1;33m:\u001b[0m\u001b[1;33m\u001b[0m\u001b[1;33m\u001b[0m\u001b[0m\n\u001b[0;32m      7\u001b[0m         \u001b[0mprint\u001b[0m\u001b[1;33m(\u001b[0m\u001b[0mtext\u001b[0m\u001b[1;33m[\u001b[0m\u001b[0mi\u001b[0m\u001b[1;33m]\u001b[0m\u001b[1;33m)\u001b[0m\u001b[1;33m\u001b[0m\u001b[1;33m\u001b[0m\u001b[0m\n",
      "\u001b[1;31mTypeError\u001b[0m: 'int' object is not iterable"
     ]
    }
   ],
   "source": [
    "text = 'computational thinking'\n",
    "\n",
    "# 홀수번 인덱스만 출력\n",
    "\n",
    "for i in len(text):\n",
    "    if text.index(i)%2 == 1:\n",
    "        print(text[i])"
   ]
  },
  {
   "cell_type": "code",
   "execution_count": 44,
   "id": "8faf6da6",
   "metadata": {},
   "outputs": [
    {
     "name": "stdout",
     "output_type": "stream",
     "text": [
      "o,p,t,t,o,a, ,h,n,i,g,"
     ]
    }
   ],
   "source": [
    "for i in range(1, len(text), 2):\n",
    "    print(text[i], end=',')"
   ]
  },
  {
   "cell_type": "code",
   "execution_count": 54,
   "id": "b3698524",
   "metadata": {},
   "outputs": [
    {
     "name": "stdout",
     "output_type": "stream",
     "text": [
      " 0 *  0 =  0 0 *  1 =  0 0 *  2 =  0 0 *  3 =  0 0 *  4 =  0 0 *  5 =  0 0 *  6 =  0 0 *  7 =  0 0 *  8 =  0 0 *  9 =  0\n",
      " 1 *  0 =  0 1 *  1 =  1 1 *  2 =  2 1 *  3 =  3 1 *  4 =  4 1 *  5 =  5 1 *  6 =  6 1 *  7 =  7 1 *  8 =  8 1 *  9 =  9\n",
      " 2 *  0 =  0 2 *  1 =  2 2 *  2 =  4 2 *  3 =  6 2 *  4 =  8 2 *  5 = 10 2 *  6 = 12 2 *  7 = 14 2 *  8 = 16 2 *  9 = 18\n",
      " 3 *  0 =  0 3 *  1 =  3 3 *  2 =  6 3 *  3 =  9 3 *  4 = 12 3 *  5 = 15 3 *  6 = 18 3 *  7 = 21 3 *  8 = 24 3 *  9 = 27\n",
      " 4 *  0 =  0 4 *  1 =  4 4 *  2 =  8 4 *  3 = 12 4 *  4 = 16 4 *  5 = 20 4 *  6 = 24 4 *  7 = 28 4 *  8 = 32 4 *  9 = 36\n",
      " 5 *  0 =  0 5 *  1 =  5 5 *  2 = 10 5 *  3 = 15 5 *  4 = 20 5 *  5 = 25 5 *  6 = 30 5 *  7 = 35 5 *  8 = 40 5 *  9 = 45\n",
      " 6 *  0 =  0 6 *  1 =  6 6 *  2 = 12 6 *  3 = 18 6 *  4 = 24 6 *  5 = 30 6 *  6 = 36 6 *  7 = 42 6 *  8 = 48 6 *  9 = 54\n",
      " 7 *  0 =  0 7 *  1 =  7 7 *  2 = 14 7 *  3 = 21 7 *  4 = 28 7 *  5 = 35 7 *  6 = 42 7 *  7 = 49 7 *  8 = 56 7 *  9 = 63\n",
      " 8 *  0 =  0 8 *  1 =  8 8 *  2 = 16 8 *  3 = 24 8 *  4 = 32 8 *  5 = 40 8 *  6 = 48 8 *  7 = 56 8 *  8 = 64 8 *  9 = 72\n",
      " 9 *  0 =  0 9 *  1 =  9 9 *  2 = 18 9 *  3 = 27 9 *  4 = 36 9 *  5 = 45 9 *  6 = 54 9 *  7 = 63 9 *  8 = 72 9 *  9 = 81\n"
     ]
    }
   ],
   "source": [
    "#  구구단 출력하기\n",
    "\n",
    "for i in range(10):\n",
    "    for j in range(10):\n",
    "        print('{:>2} * {:>2} = {:>2}'.format(i,j,i*j), end='')\n",
    "    print()\n",
    "    "
   ]
  },
  {
   "cell_type": "code",
   "execution_count": null,
   "id": "c95bb2ce",
   "metadata": {},
   "outputs": [],
   "source": []
  },
  {
   "cell_type": "markdown",
   "id": "015d4139",
   "metadata": {},
   "source": [
    "### File"
   ]
  },
  {
   "cell_type": "code",
   "execution_count": null,
   "id": "1d57908e",
   "metadata": {},
   "outputs": [],
   "source": [
    "# 1. 파일을 연다 - open(), 모드를 설정 : 'r', 'w'\n",
    "# 2. 파일을 읽거나 쓴다 - read(), write()\n",
    "# 3. 파일을 닫는다 - close()\n",
    "\n",
    "# f = open('filename', 'r')  # 'r'\n",
    "\n",
    "# text = f.read()\n",
    "# print(text)\n",
    "# f.close()\n",
    "\n",
    "# with open('filename'. 'r') as f:  # with 구문 : close()를 자동으로 수행\n",
    "#     text = f.read()\n",
    "\n",
    "# # f = open('filename', 'w')\n",
    "# # f.write(text)\n",
    "# # f.close()\n",
    "\n",
    "# with open('filename', 'w') as f:\n",
    "#     f.write(text)"
   ]
  },
  {
   "cell_type": "code",
   "execution_count": 92,
   "id": "7299c6f4",
   "metadata": {},
   "outputs": [],
   "source": [
    "# 뉴스 텍스트를 'news.txt'파일로 저장하시오\n",
    "\n",
    "news = \"\"\"\n",
    "16일 서울역 대합실에서 시민들이 윤석열 국민의힘 대선후보 부인 김건희씨의 '7시간 통화 녹음' 내용을 다룬 MBC 시사프로그램 \n",
    "'스트레이트'를 시청하고 있다. 뉴스1\n",
    "\n",
    "윤석열 국민의힘 대선후보 측이 전날 MBC가 보도한 윤 후보 배우자 김건희씨와 \n",
    "유튜브 채널 서울의소리 기자의 '7시간 통화' 녹취록 방송과 관련해 \"이런 방송을 왜 했는지 MBC에 묻고 싶다\"며 목소리를 높였다.\n",
    "\n",
    "\"정치적으로 문제 될 게 없다\"는 정면돌파 의지도 내비쳤다. 법원에 방송금지 가처분 신청까지 제기해 김씨의 육성이 전파를 타는 걸 \n",
    "필사적으로 막으려했던 수세적 대응 기조를 버리고 재빨리 태세 전환에 나선 것이다.\n",
    "\n",
    "다만 파장이 가라앉을지는 미지수다. 앞서 방송을 내보낸 MBC 스트레이트 팀은 녹취록 관련 추가 보도에 나설 가능성을 열어뒀고, \n",
    "녹취록 파일을 넘긴 서울의소리 측은 7시간 45분 원본 파일 전체를 공개하겠다는 뜻도 밝힌 상태다.\n",
    "\n",
    "윤희석 국민의힘 선대본부 상임공보특보는 17일 MBC 라디오 '김종배의 시선집중'과의 인터뷰에서 \"MBC는 공인인 김건희씨의 발언 중에 \n",
    "문제가 있다며 방송을 하겠다고 밝혔는데, 도대체 어떤 부분이 문제가 있었길래 공영방송이 일요일 황금시간에 20분 넘게 내보낼 만한 게 \n",
    "있었는가 싶다\"며 \"지켜보신 국민들 마음도 같은 공감대가 있었다고 믿는다\"고 주장했다.\n",
    "\n",
    "이준석 국민의힘 대표 역시 김씨를 옹호했다. 전날 방송 이후 사회관계망서비스(SNS) 페이스북에 \"정확히 어떤 부분이 문제되는지 \n",
    "(MBC가) 조금 더 명확하게 지적했으면 한다. 본인이 가진 관점을 드러내고, 선거를 위해 가족이 활동하는 건 전혀 문제될 일이 없다\"고 \n",
    "김씨의 녹취록 논란을 차단하는데 주력했다.\n",
    "\n",
    "필사적으로 막더니, \"김씨 발언 문제될 것 없다\"는 국민의힘\n",
    "\"\"\"\n",
    "f = open('news.txt', 'w')\n",
    "f.write(news)\n",
    "f.close()\n",
    "\n",
    "# with open('news.txt', 'w') as f:\n",
    "#     text = f.write(news)"
   ]
  },
  {
   "cell_type": "code",
   "execution_count": 97,
   "id": "cf59d57d",
   "metadata": {
    "collapsed": true
   },
   "outputs": [
    {
     "name": "stdout",
     "output_type": "stream",
     "text": [
      "\n",
      "16일 서울역 대합실에서 시민들이 윤석열 국민의힘 대선후보 부인 김건희씨의 '7시간 통화 녹음' 내용을 다룬 MBC 시사프로그램 \n",
      "'스트레이트'를 시청하고 있다. 뉴스1\n",
      "\n",
      "윤석열 국민의힘 대선후보 측이 전날 MBC가 보도한 윤 후보 배우자 김건희씨와 \n",
      "유튜브 채널 서울의소리 기자의 '7시간 통화' 녹취록 방송과 관련해 \"이런 방송을 왜 했는지 MBC에 묻고 싶다\"며 목소리를 높였다.\n",
      "\n",
      "\"정치적으로 문제 될 게 없다\"는 정면돌파 의지도 내비쳤다. 법원에 방송금지 가처분 신청까지 제기해 김씨의 육성이 전파를 타는 걸 \n",
      "필사적으로 막으려했던 수세적 대응 기조를 버리고 재빨리 태세 전환에 나선 것이다.\n",
      "\n",
      "다만 파장이 가라앉을지는 미지수다. 앞서 방송을 내보낸 MBC 스트레이트 팀은 녹취록 관련 추가 보도에 나설 가능성을 열어뒀고, \n",
      "녹취록 파일을 넘긴 서울의소리 측은 7시간 45분 원본 파일 전체를 공개하겠다는 뜻도 밝힌 상태다.\n",
      "\n",
      "윤희석 국민의힘 선대본부 상임공보특보는 17일 MBC 라디오 '김종배의 시선집중'과의 인터뷰에서 \"MBC는 공인인 김건희씨의 발언 중에 \n",
      "문제가 있다며 방송을 하겠다고 밝혔는데, 도대체 어떤 부분이 문제가 있었길래 공영방송이 일요일 황금시간에 20분 넘게 내보낼 만한 게 \n",
      "있었는가 싶다\"며 \"지켜보신 국민들 마음도 같은 공감대가 있었다고 믿는다\"고 주장했다.\n",
      "\n",
      "이준석 국민의힘 대표 역시 김씨를 옹호했다. 전날 방송 이후 사회관계망서비스(SNS) 페이스북에 \"정확히 어떤 부분이 문제되는지 \n",
      "(MBC가) 조금 더 명확하게 지적했으면 한다. 본인이 가진 관점을 드러내고, 선거를 위해 가족이 활동하는 건 전혀 문제될 일이 없다\"고 \n",
      "김씨의 녹취록 논란을 차단하는데 주력했다.\n",
      "\n",
      "필사적으로 막더니, \"김씨 발언 문제될 것 없다\"는 국민의힘\n",
      "\n"
     ]
    }
   ],
   "source": [
    "# 'news.txt' 파일을 4가지 다른 방식으로 열어서 출력하시오\n",
    "\n",
    "# 1\n",
    "f = open('news.txt', 'r')\n",
    "text = f.read()\n",
    "f.close()\n",
    "print(text)\n",
    "\n"
   ]
  },
  {
   "cell_type": "code",
   "execution_count": 98,
   "id": "d0ae3d9a",
   "metadata": {
    "collapsed": true
   },
   "outputs": [
    {
     "name": "stdout",
     "output_type": "stream",
     "text": [
      "\n",
      "16일 서울역 대합실에서 시민들이 윤석열 국민의힘 대선후보 부인 김건희씨의 '7시간 통화 녹음' 내용을 다룬 MBC 시사프로그램 \n",
      "'스트레이트'를 시청하고 있다. 뉴스1\n",
      "\n",
      "윤석열 국민의힘 대선후보 측이 전날 MBC가 보도한 윤 후보 배우자 김건희씨와 \n",
      "유튜브 채널 서울의소리 기자의 '7시간 통화' 녹취록 방송과 관련해 \"이런 방송을 왜 했는지 MBC에 묻고 싶다\"며 목소리를 높였다.\n",
      "\n",
      "\"정치적으로 문제 될 게 없다\"는 정면돌파 의지도 내비쳤다. 법원에 방송금지 가처분 신청까지 제기해 김씨의 육성이 전파를 타는 걸 \n",
      "필사적으로 막으려했던 수세적 대응 기조를 버리고 재빨리 태세 전환에 나선 것이다.\n",
      "\n",
      "다만 파장이 가라앉을지는 미지수다. 앞서 방송을 내보낸 MBC 스트레이트 팀은 녹취록 관련 추가 보도에 나설 가능성을 열어뒀고, \n",
      "녹취록 파일을 넘긴 서울의소리 측은 7시간 45분 원본 파일 전체를 공개하겠다는 뜻도 밝힌 상태다.\n",
      "\n",
      "윤희석 국민의힘 선대본부 상임공보특보는 17일 MBC 라디오 '김종배의 시선집중'과의 인터뷰에서 \"MBC는 공인인 김건희씨의 발언 중에 \n",
      "문제가 있다며 방송을 하겠다고 밝혔는데, 도대체 어떤 부분이 문제가 있었길래 공영방송이 일요일 황금시간에 20분 넘게 내보낼 만한 게 \n",
      "있었는가 싶다\"며 \"지켜보신 국민들 마음도 같은 공감대가 있었다고 믿는다\"고 주장했다.\n",
      "\n",
      "이준석 국민의힘 대표 역시 김씨를 옹호했다. 전날 방송 이후 사회관계망서비스(SNS) 페이스북에 \"정확히 어떤 부분이 문제되는지 \n",
      "(MBC가) 조금 더 명확하게 지적했으면 한다. 본인이 가진 관점을 드러내고, 선거를 위해 가족이 활동하는 건 전혀 문제될 일이 없다\"고 \n",
      "김씨의 녹취록 논란을 차단하는데 주력했다.\n",
      "\n",
      "필사적으로 막더니, \"김씨 발언 문제될 것 없다\"는 국민의힘\n",
      "\n"
     ]
    }
   ],
   "source": [
    "with open('news.txt', 'r') as f:  \n",
    "     text = f.read()           \n",
    "\n",
    "print(text)"
   ]
  },
  {
   "cell_type": "code",
   "execution_count": 99,
   "id": "109fe90d",
   "metadata": {
    "collapsed": true
   },
   "outputs": [
    {
     "name": "stdout",
     "output_type": "stream",
     "text": [
      "['\\n', \"16일 서울역 대합실에서 시민들이 윤석열 국민의힘 대선후보 부인 김건희씨의 '7시간 통화 녹음' 내용을 다룬 MBC 시사프로그램 \\n\", \"'스트레이트'를 시청하고 있다. 뉴스1\\n\", '\\n', '윤석열 국민의힘 대선후보 측이 전날 MBC가 보도한 윤 후보 배우자 김건희씨와 \\n', '유튜브 채널 서울의소리 기자의 \\'7시간 통화\\' 녹취록 방송과 관련해 \"이런 방송을 왜 했는지 MBC에 묻고 싶다\"며 목소리를 높였다.\\n', '\\n', '\"정치적으로 문제 될 게 없다\"는 정면돌파 의지도 내비쳤다. 법원에 방송금지 가처분 신청까지 제기해 김씨의 육성이 전파를 타는 걸 \\n', '필사적으로 막으려했던 수세적 대응 기조를 버리고 재빨리 태세 전환에 나선 것이다.\\n', '\\n', '다만 파장이 가라앉을지는 미지수다. 앞서 방송을 내보낸 MBC 스트레이트 팀은 녹취록 관련 추가 보도에 나설 가능성을 열어뒀고, \\n', '녹취록 파일을 넘긴 서울의소리 측은 7시간 45분 원본 파일 전체를 공개하겠다는 뜻도 밝힌 상태다.\\n', '\\n', '윤희석 국민의힘 선대본부 상임공보특보는 17일 MBC 라디오 \\'김종배의 시선집중\\'과의 인터뷰에서 \"MBC는 공인인 김건희씨의 발언 중에 \\n', '문제가 있다며 방송을 하겠다고 밝혔는데, 도대체 어떤 부분이 문제가 있었길래 공영방송이 일요일 황금시간에 20분 넘게 내보낼 만한 게 \\n', '있었는가 싶다\"며 \"지켜보신 국민들 마음도 같은 공감대가 있었다고 믿는다\"고 주장했다.\\n', '\\n', '이준석 국민의힘 대표 역시 김씨를 옹호했다. 전날 방송 이후 사회관계망서비스(SNS) 페이스북에 \"정확히 어떤 부분이 문제되는지 \\n', '(MBC가) 조금 더 명확하게 지적했으면 한다. 본인이 가진 관점을 드러내고, 선거를 위해 가족이 활동하는 건 전혀 문제될 일이 없다\"고 \\n', '김씨의 녹취록 논란을 차단하는데 주력했다.\\n', '\\n', '필사적으로 막더니, \"김씨 발언 문제될 것 없다\"는 국민의힘\\n']\n"
     ]
    }
   ],
   "source": [
    "# 2\n",
    "f = open('news.txt', 'r')\n",
    "text = f.readlines()\n",
    "f.close()\n",
    "print(text)"
   ]
  },
  {
   "cell_type": "code",
   "execution_count": 125,
   "id": "47a45654",
   "metadata": {},
   "outputs": [
    {
     "name": "stdout",
     "output_type": "stream",
     "text": [
      "16일 서울역 대합실에서 시민들이 윤석열 국민의힘 대선후보 부인 김건희씨의 '7시간 통화 녹음' 내용을 다룬 MBC 시사프로그램 \n",
      "\n"
     ]
    }
   ],
   "source": [
    "# 3\n",
    "\n",
    "f = open('news.txt', 'r')\n",
    "text = f.readline()\n",
    "text = f.readline()\n",
    "f.close()\n",
    "print(text)"
   ]
  },
  {
   "cell_type": "code",
   "execution_count": 146,
   "id": "b1879c9b",
   "metadata": {},
   "outputs": [
    {
     "name": "stdout",
     "output_type": "stream",
     "text": [
      "16일 서울역 대합실에서 시민들이 윤석열 국민의힘 대선후보 부인 김건희씨의 '7시간 통화 녹음' 내용을 다룬 MBC 시사프로그램 \n",
      "\n",
      "'스트레이트'를 시청하고 있다. 뉴스1\n",
      "\n",
      "\n",
      "\n",
      "윤석열 국민의힘 대선후보 측이 전날 MBC가 보도한 윤 후보 배우자 김건희씨와 \n",
      "\n",
      "유튜브 채널 서울의소리 기자의 '7시간 통화' 녹취록 방송과 관련해 \"이런 방송을 왜 했는지 MBC에 묻고 싶다\"며 목소리를 높였다.\n",
      "\n",
      "\n",
      "\n",
      "\"정치적으로 문제 될 게 없다\"는 정면돌파 의지도 내비쳤다. 법원에 방송금지 가처분 신청까지 제기해 김씨의 육성이 전파를 타는 걸 \n",
      "\n",
      "필사적으로 막으려했던 수세적 대응 기조를 버리고 재빨리 태세 전환에 나선 것이다.\n",
      "\n",
      "\n",
      "\n",
      "다만 파장이 가라앉을지는 미지수다. 앞서 방송을 내보낸 MBC 스트레이트 팀은 녹취록 관련 추가 보도에 나설 가능성을 열어뒀고, \n",
      "\n",
      "녹취록 파일을 넘긴 서울의소리 측은 7시간 45분 원본 파일 전체를 공개하겠다는 뜻도 밝힌 상태다.\n",
      "\n",
      "\n",
      "\n",
      "윤희석 국민의힘 선대본부 상임공보특보는 17일 MBC 라디오 '김종배의 시선집중'과의 인터뷰에서 \"MBC는 공인인 김건희씨의 발언 중에 \n",
      "\n",
      "문제가 있다며 방송을 하겠다고 밝혔는데, 도대체 어떤 부분이 문제가 있었길래 공영방송이 일요일 황금시간에 20분 넘게 내보낼 만한 게 \n",
      "\n",
      "있었는가 싶다\"며 \"지켜보신 국민들 마음도 같은 공감대가 있었다고 믿는다\"고 주장했다.\n",
      "\n",
      "\n",
      "\n",
      "이준석 국민의힘 대표 역시 김씨를 옹호했다. 전날 방송 이후 사회관계망서비스(SNS) 페이스북에 \"정확히 어떤 부분이 문제되는지 \n",
      "\n",
      "(MBC가) 조금 더 명확하게 지적했으면 한다. 본인이 가진 관점을 드러내고, 선거를 위해 가족이 활동하는 건 전혀 문제될 일이 없다\"고 \n",
      "\n",
      "김씨의 녹취록 논란을 차단하는데 주력했다.\n",
      "\n",
      "\n",
      "\n",
      "필사적으로 막더니, \"김씨 발언 문제될 것 없다\"는 국민의힘\n",
      "\n",
      "\n"
     ]
    }
   ],
   "source": [
    "f = open('news.txt','r')\n",
    "text = f.readline()\n",
    "\n",
    "while text:\n",
    "    \n",
    "    text = f.readline()\n",
    "    print(text)\n",
    "    \n",
    "f.close()\n",
    "\n"
   ]
  },
  {
   "cell_type": "code",
   "execution_count": 132,
   "id": "fedf428f",
   "metadata": {},
   "outputs": [
    {
     "name": "stdout",
     "output_type": "stream",
     "text": [
      "\n",
      "\n",
      "16일 서울역 대합실에서 시민들이 윤석열 국민의힘 대선후보 부인 김건희씨의 '7시간 통화 녹음' 내용을 다룬 MBC 시사프로그램 \n",
      "\n",
      "'스트레이트'를 시청하고 있다. 뉴스1\n",
      "\n",
      "\n",
      "\n",
      "윤석열 국민의힘 대선후보 측이 전날 MBC가 보도한 윤 후보 배우자 김건희씨와 \n",
      "\n",
      "유튜브 채널 서울의소리 기자의 '7시간 통화' 녹취록 방송과 관련해 \"이런 방송을 왜 했는지 MBC에 묻고 싶다\"며 목소리를 높였다.\n",
      "\n",
      "\n",
      "\n",
      "\"정치적으로 문제 될 게 없다\"는 정면돌파 의지도 내비쳤다. 법원에 방송금지 가처분 신청까지 제기해 김씨의 육성이 전파를 타는 걸 \n",
      "\n",
      "필사적으로 막으려했던 수세적 대응 기조를 버리고 재빨리 태세 전환에 나선 것이다.\n",
      "\n",
      "\n",
      "\n",
      "다만 파장이 가라앉을지는 미지수다. 앞서 방송을 내보낸 MBC 스트레이트 팀은 녹취록 관련 추가 보도에 나설 가능성을 열어뒀고, \n",
      "\n",
      "녹취록 파일을 넘긴 서울의소리 측은 7시간 45분 원본 파일 전체를 공개하겠다는 뜻도 밝힌 상태다.\n",
      "\n",
      "\n",
      "\n",
      "윤희석 국민의힘 선대본부 상임공보특보는 17일 MBC 라디오 '김종배의 시선집중'과의 인터뷰에서 \"MBC는 공인인 김건희씨의 발언 중에 \n",
      "\n",
      "문제가 있다며 방송을 하겠다고 밝혔는데, 도대체 어떤 부분이 문제가 있었길래 공영방송이 일요일 황금시간에 20분 넘게 내보낼 만한 게 \n",
      "\n",
      "있었는가 싶다\"며 \"지켜보신 국민들 마음도 같은 공감대가 있었다고 믿는다\"고 주장했다.\n",
      "\n",
      "\n",
      "\n",
      "이준석 국민의힘 대표 역시 김씨를 옹호했다. 전날 방송 이후 사회관계망서비스(SNS) 페이스북에 \"정확히 어떤 부분이 문제되는지 \n",
      "\n",
      "(MBC가) 조금 더 명확하게 지적했으면 한다. 본인이 가진 관점을 드러내고, 선거를 위해 가족이 활동하는 건 전혀 문제될 일이 없다\"고 \n",
      "\n",
      "김씨의 녹취록 논란을 차단하는데 주력했다.\n",
      "\n",
      "\n",
      "\n",
      "필사적으로 막더니, \"김씨 발언 문제될 것 없다\"는 국민의힘\n",
      "\n"
     ]
    }
   ],
   "source": [
    "f = open('news.txt', 'r')\n",
    "\n",
    "for line in f:\n",
    "    print(line)"
   ]
  },
  {
   "cell_type": "code",
   "execution_count": 103,
   "id": "7a7dde65",
   "metadata": {},
   "outputs": [],
   "source": [
    "# with open('filename', 'r') as f:\n",
    "#     text = f.read()          # - 전체 text를 한번에 읽는다\n",
    "#     text = f.readlines()     # - 한 문장씩 리스트에 담아서 출력\n",
    "#     text = f.readline()      # - 한 문장을 읽는다\n",
    "#     for line as f:          # - 파일 객체를 for을 이용해서 한 문장씩 출력\n",
    "#         pass"
   ]
  },
  {
   "cell_type": "code",
   "execution_count": 141,
   "id": "99df15f3",
   "metadata": {},
   "outputs": [],
   "source": [
    "news_1 = \"\"\"\n",
    "정부가 18일부터 대형마트, 보습학원, 독서실 등 약 13만5천곳에 적용되던 방역패스(접종증명·음성확인제)를 해제한다. \n",
    "그간 방역패스가 적용돼온 115만곳의 11.7%에 해당하는 규모다. 정부는 이번 방역패스 완화 조치가 법원의 판단과는 무관하며, \n",
    "방역 상황 변화에 따른 정책적 대응이라고 밝혔다.\n",
    "\n",
    "중앙재난안전대책본부(중대본)은 17일 백화점과 대형마트, 독서실·스터디카페 등 6종에 대한 방역패스를 해제하는 내용을 담은 \n",
    "방역패스 개선 방안을 발표했다. 권덕철 중대본 1차장(보건복지부 장관)은 “방역패스를 확대했던 12월에 비해 유행규모가 감소하고 \n",
    "의료 여력이 커져 있고, 방역원칙과 제도 수용성을 고려할 때 위험도가 낮은 시설의 방역패스를 완화할 필요가 있다”고 말했다. \n",
    "정부는 최근 코로나19 유행규모가 감소했음을 근거로 들었다. 주간 일평균 확진자는 12월 2주차 6086명에서 1월 2주차 3022명으로 줄었고, \n",
    "중환자 병상 가동률도 같은 기간 79.1%에서 41.5%로 낮아졌다.\n",
    "\n",
    "정부가 방역패스 해제 여부를 판단한 기준은 마스크 상시 착용과 비말 생성 활동 여부다. 먼저 독서실·스터디카페, \n",
    "도서관, 박물관·미술관·과학관 등은 방역패스 적용이 해제된다. 상시 마스크 착용을 위해 시설 내 취식제한은 유지된다. 백화점·대형마트 등\n",
    "대규모 점포 역시 방역패스가 해제되지만, 해당 시설 내 식당·카페 등은 방역패스 적용을 유지한다.\n",
    "\n",
    "학원도 방역패스 해제 시설에 포함된다. 다만, 마스크 상시 착용이 어렵고 비말 생성이 많은 노래, 연기, 관악기 학원은 방역패스를 \n",
    "유지할 필요성이 크다고 봤다. 전부는 지난 4일 법원의 학원·독서실·스터디카페 방역패스 효력 정지 결정에 대해 제기한 즉시항고 \n",
    "재판 과정에서 이를 적극 설명할 계획이라고 밝혔다. 영화관·공연장 역시 방역패스가 해제되지만 50명 이상의 비정규 공연장은 종전과 같이 \n",
    "방역패스가 적용된다. 유흥시설, 실내체육시설, 노래연습장, PC방 등 위험도가 높은 시설들은 방역패스를 유지한다.\n",
    "\n",
    "정부는 방역패스가 중요한 방역 수단임을 강조하며 이번 조치가 항구적 조치가 아닌 한시적 조치임을 밝혔다. \n",
    "방역 상황이 악화되면 다시 조정할 수 있다는 설명이다. 손영래 반장은 “오미크론 변이의 확산 등으로 방역 상황이 다시 악화되고 \n",
    "중증환자가 증가하고 의료체계의 여력이 부족하게 되면 다시 방역패스 확대를 검토하게 될 수도 있다”고 말했다.\n",
    "\n",
    "앞서 법원은 이달 4일과 14일 교육시설과 대형마트, 청소년에 적용되는 방역패스에 잇따라 제동을 건 바 있다. \n",
    "손영래 중앙사고수습본부 사회전략반장은 이날 브리핑에서 “법원 판결에 따라 취해진 조치라기보다 방역 상황의 변화에 \n",
    "따라서 정책 조정이 이뤄지는 것”이라고 설명했다. 다만 전국 대형마트·백화점을 방역패스 해제 대상에 포함한 것은 법원의 상반된 판결에 \n",
    "따라 지역 간 혼선이 발생한다는 점을 고려했다고 설명했다. 14일 서울행정법원의 서울 지역 대형마트·백화점 방역패스 효력정지 결정 이후 \n",
    "확진자 규모가 큰 서울에서만 미접종자도 음성확인서 없이 대형마트·백화점을 출입할 수 있게 된 모순과 혼란을 최소화하기 위한 조처라는 \n",
    "뜻이다.\n",
    "\"\"\"\n",
    "\n",
    "# f = open('news_1.txt', 'w')\n",
    "# f.write(news_1)\n",
    "# f.close()\n",
    "\n",
    "with open('news_1.txt', 'w') as f:\n",
    "    f.write(news_1)"
   ]
  },
  {
   "cell_type": "code",
   "execution_count": 142,
   "id": "40fe58ae",
   "metadata": {
    "collapsed": true
   },
   "outputs": [
    {
     "name": "stdout",
     "output_type": "stream",
     "text": [
      "\n",
      "정부가 18일부터 대형마트, 보습학원, 독서실 등 약 13만5천곳에 적용되던 방역패스(접종증명·음성확인제)를 해제한다. \n",
      "그간 방역패스가 적용돼온 115만곳의 11.7%에 해당하는 규모다. 정부는 이번 방역패스 완화 조치가 법원의 판단과는 무관하며, \n",
      "방역 상황 변화에 따른 정책적 대응이라고 밝혔다.\n",
      "\n",
      "중앙재난안전대책본부(중대본)은 17일 백화점과 대형마트, 독서실·스터디카페 등 6종에 대한 방역패스를 해제하는 내용을 담은 \n",
      "방역패스 개선 방안을 발표했다. 권덕철 중대본 1차장(보건복지부 장관)은 “방역패스를 확대했던 12월에 비해 유행규모가 감소하고 \n",
      "의료 여력이 커져 있고, 방역원칙과 제도 수용성을 고려할 때 위험도가 낮은 시설의 방역패스를 완화할 필요가 있다”고 말했다. \n",
      "정부는 최근 코로나19 유행규모가 감소했음을 근거로 들었다. 주간 일평균 확진자는 12월 2주차 6086명에서 1월 2주차 3022명으로 줄었고, \n",
      "중환자 병상 가동률도 같은 기간 79.1%에서 41.5%로 낮아졌다.\n",
      "\n",
      "정부가 방역패스 해제 여부를 판단한 기준은 마스크 상시 착용과 비말 생성 활동 여부다. 먼저 독서실·스터디카페, \n",
      "도서관, 박물관·미술관·과학관 등은 방역패스 적용이 해제된다. 상시 마스크 착용을 위해 시설 내 취식제한은 유지된다. 백화점·대형마트 등\n",
      "대규모 점포 역시 방역패스가 해제되지만, 해당 시설 내 식당·카페 등은 방역패스 적용을 유지한다.\n",
      "\n",
      "학원도 방역패스 해제 시설에 포함된다. 다만, 마스크 상시 착용이 어렵고 비말 생성이 많은 노래, 연기, 관악기 학원은 방역패스를 \n",
      "유지할 필요성이 크다고 봤다. 전부는 지난 4일 법원의 학원·독서실·스터디카페 방역패스 효력 정지 결정에 대해 제기한 즉시항고 \n",
      "재판 과정에서 이를 적극 설명할 계획이라고 밝혔다. 영화관·공연장 역시 방역패스가 해제되지만 50명 이상의 비정규 공연장은 종전과 같이 \n",
      "방역패스가 적용된다. 유흥시설, 실내체육시설, 노래연습장, PC방 등 위험도가 높은 시설들은 방역패스를 유지한다.\n",
      "\n",
      "정부는 방역패스가 중요한 방역 수단임을 강조하며 이번 조치가 항구적 조치가 아닌 한시적 조치임을 밝혔다. \n",
      "방역 상황이 악화되면 다시 조정할 수 있다는 설명이다. 손영래 반장은 “오미크론 변이의 확산 등으로 방역 상황이 다시 악화되고 \n",
      "중증환자가 증가하고 의료체계의 여력이 부족하게 되면 다시 방역패스 확대를 검토하게 될 수도 있다”고 말했다.\n",
      "\n",
      "앞서 법원은 이달 4일과 14일 교육시설과 대형마트, 청소년에 적용되는 방역패스에 잇따라 제동을 건 바 있다. \n",
      "손영래 중앙사고수습본부 사회전략반장은 이날 브리핑에서 “법원 판결에 따라 취해진 조치라기보다 방역 상황의 변화에 \n",
      "따라서 정책 조정이 이뤄지는 것”이라고 설명했다. 다만 전국 대형마트·백화점을 방역패스 해제 대상에 포함한 것은 법원의 상반된 판결에 \n",
      "따라 지역 간 혼선이 발생한다는 점을 고려했다고 설명했다. 14일 서울행정법원의 서울 지역 대형마트·백화점 방역패스 효력정지 결정 이후 \n",
      "확진자 규모가 큰 서울에서만 미접종자도 음성확인서 없이 대형마트·백화점을 출입할 수 있게 된 모순과 혼란을 최소화하기 위한 조처라는 \n",
      "뜻이다.\n",
      "\n"
     ]
    }
   ],
   "source": [
    "f = open('news_1.txt', 'r')\n",
    "txt_1 = f.read()\n",
    "f.close()\n",
    "\n",
    "print(txt_1)"
   ]
  },
  {
   "cell_type": "code",
   "execution_count": 143,
   "id": "1ec305a1",
   "metadata": {
    "collapsed": true
   },
   "outputs": [
    {
     "name": "stdout",
     "output_type": "stream",
     "text": [
      "\n",
      "정부가 18일부터 대형마트, 보습학원, 독서실 등 약 13만5천곳에 적용되던 방역패스(접종증명·음성확인제)를 해제한다. \n",
      "그간 방역패스가 적용돼온 115만곳의 11.7%에 해당하는 규모다. 정부는 이번 방역패스 완화 조치가 법원의 판단과는 무관하며, \n",
      "방역 상황 변화에 따른 정책적 대응이라고 밝혔다.\n",
      "\n",
      "중앙재난안전대책본부(중대본)은 17일 백화점과 대형마트, 독서실·스터디카페 등 6종에 대한 방역패스를 해제하는 내용을 담은 \n",
      "방역패스 개선 방안을 발표했다. 권덕철 중대본 1차장(보건복지부 장관)은 “방역패스를 확대했던 12월에 비해 유행규모가 감소하고 \n",
      "의료 여력이 커져 있고, 방역원칙과 제도 수용성을 고려할 때 위험도가 낮은 시설의 방역패스를 완화할 필요가 있다”고 말했다. \n",
      "정부는 최근 코로나19 유행규모가 감소했음을 근거로 들었다. 주간 일평균 확진자는 12월 2주차 6086명에서 1월 2주차 3022명으로 줄었고, \n",
      "중환자 병상 가동률도 같은 기간 79.1%에서 41.5%로 낮아졌다.\n",
      "\n",
      "정부가 방역패스 해제 여부를 판단한 기준은 마스크 상시 착용과 비말 생성 활동 여부다. 먼저 독서실·스터디카페, \n",
      "도서관, 박물관·미술관·과학관 등은 방역패스 적용이 해제된다. 상시 마스크 착용을 위해 시설 내 취식제한은 유지된다. 백화점·대형마트 등\n",
      "대규모 점포 역시 방역패스가 해제되지만, 해당 시설 내 식당·카페 등은 방역패스 적용을 유지한다.\n",
      "\n",
      "학원도 방역패스 해제 시설에 포함된다. 다만, 마스크 상시 착용이 어렵고 비말 생성이 많은 노래, 연기, 관악기 학원은 방역패스를 \n",
      "유지할 필요성이 크다고 봤다. 전부는 지난 4일 법원의 학원·독서실·스터디카페 방역패스 효력 정지 결정에 대해 제기한 즉시항고 \n",
      "재판 과정에서 이를 적극 설명할 계획이라고 밝혔다. 영화관·공연장 역시 방역패스가 해제되지만 50명 이상의 비정규 공연장은 종전과 같이 \n",
      "방역패스가 적용된다. 유흥시설, 실내체육시설, 노래연습장, PC방 등 위험도가 높은 시설들은 방역패스를 유지한다.\n",
      "\n",
      "정부는 방역패스가 중요한 방역 수단임을 강조하며 이번 조치가 항구적 조치가 아닌 한시적 조치임을 밝혔다. \n",
      "방역 상황이 악화되면 다시 조정할 수 있다는 설명이다. 손영래 반장은 “오미크론 변이의 확산 등으로 방역 상황이 다시 악화되고 \n",
      "중증환자가 증가하고 의료체계의 여력이 부족하게 되면 다시 방역패스 확대를 검토하게 될 수도 있다”고 말했다.\n",
      "\n",
      "앞서 법원은 이달 4일과 14일 교육시설과 대형마트, 청소년에 적용되는 방역패스에 잇따라 제동을 건 바 있다. \n",
      "손영래 중앙사고수습본부 사회전략반장은 이날 브리핑에서 “법원 판결에 따라 취해진 조치라기보다 방역 상황의 변화에 \n",
      "따라서 정책 조정이 이뤄지는 것”이라고 설명했다. 다만 전국 대형마트·백화점을 방역패스 해제 대상에 포함한 것은 법원의 상반된 판결에 \n",
      "따라 지역 간 혼선이 발생한다는 점을 고려했다고 설명했다. 14일 서울행정법원의 서울 지역 대형마트·백화점 방역패스 효력정지 결정 이후 \n",
      "확진자 규모가 큰 서울에서만 미접종자도 음성확인서 없이 대형마트·백화점을 출입할 수 있게 된 모순과 혼란을 최소화하기 위한 조처라는 \n",
      "뜻이다.\n",
      "\n"
     ]
    }
   ],
   "source": [
    "with open('news_1.txt', 'r') as f:\n",
    "    txt_1 = f.read()\n",
    "print(txt_1)"
   ]
  },
  {
   "cell_type": "code",
   "execution_count": 144,
   "id": "ed036cde",
   "metadata": {
    "collapsed": true
   },
   "outputs": [
    {
     "name": "stdout",
     "output_type": "stream",
     "text": [
      "['\\n', '정부가 18일부터 대형마트, 보습학원, 독서실 등 약 13만5천곳에 적용되던 방역패스(접종증명·음성확인제)를 해제한다. \\n', '그간 방역패스가 적용돼온 115만곳의 11.7%에 해당하는 규모다. 정부는 이번 방역패스 완화 조치가 법원의 판단과는 무관하며, \\n', '방역 상황 변화에 따른 정책적 대응이라고 밝혔다.\\n', '\\n', '중앙재난안전대책본부(중대본)은 17일 백화점과 대형마트, 독서실·스터디카페 등 6종에 대한 방역패스를 해제하는 내용을 담은 \\n', '방역패스 개선 방안을 발표했다. 권덕철 중대본 1차장(보건복지부 장관)은 “방역패스를 확대했던 12월에 비해 유행규모가 감소하고 \\n', '의료 여력이 커져 있고, 방역원칙과 제도 수용성을 고려할 때 위험도가 낮은 시설의 방역패스를 완화할 필요가 있다”고 말했다. \\n', '정부는 최근 코로나19 유행규모가 감소했음을 근거로 들었다. 주간 일평균 확진자는 12월 2주차 6086명에서 1월 2주차 3022명으로 줄었고, \\n', '중환자 병상 가동률도 같은 기간 79.1%에서 41.5%로 낮아졌다.\\n', '\\n', '정부가 방역패스 해제 여부를 판단한 기준은 마스크 상시 착용과 비말 생성 활동 여부다. 먼저 독서실·스터디카페, \\n', '도서관, 박물관·미술관·과학관 등은 방역패스 적용이 해제된다. 상시 마스크 착용을 위해 시설 내 취식제한은 유지된다. 백화점·대형마트 등\\n', '대규모 점포 역시 방역패스가 해제되지만, 해당 시설 내 식당·카페 등은 방역패스 적용을 유지한다.\\n', '\\n', '학원도 방역패스 해제 시설에 포함된다. 다만, 마스크 상시 착용이 어렵고 비말 생성이 많은 노래, 연기, 관악기 학원은 방역패스를 \\n', '유지할 필요성이 크다고 봤다. 전부는 지난 4일 법원의 학원·독서실·스터디카페 방역패스 효력 정지 결정에 대해 제기한 즉시항고 \\n', '재판 과정에서 이를 적극 설명할 계획이라고 밝혔다. 영화관·공연장 역시 방역패스가 해제되지만 50명 이상의 비정규 공연장은 종전과 같이 \\n', '방역패스가 적용된다. 유흥시설, 실내체육시설, 노래연습장, PC방 등 위험도가 높은 시설들은 방역패스를 유지한다.\\n', '\\n', '정부는 방역패스가 중요한 방역 수단임을 강조하며 이번 조치가 항구적 조치가 아닌 한시적 조치임을 밝혔다. \\n', '방역 상황이 악화되면 다시 조정할 수 있다는 설명이다. 손영래 반장은 “오미크론 변이의 확산 등으로 방역 상황이 다시 악화되고 \\n', '중증환자가 증가하고 의료체계의 여력이 부족하게 되면 다시 방역패스 확대를 검토하게 될 수도 있다”고 말했다.\\n', '\\n', '앞서 법원은 이달 4일과 14일 교육시설과 대형마트, 청소년에 적용되는 방역패스에 잇따라 제동을 건 바 있다. \\n', '손영래 중앙사고수습본부 사회전략반장은 이날 브리핑에서 “법원 판결에 따라 취해진 조치라기보다 방역 상황의 변화에 \\n', '따라서 정책 조정이 이뤄지는 것”이라고 설명했다. 다만 전국 대형마트·백화점을 방역패스 해제 대상에 포함한 것은 법원의 상반된 판결에 \\n', '따라 지역 간 혼선이 발생한다는 점을 고려했다고 설명했다. 14일 서울행정법원의 서울 지역 대형마트·백화점 방역패스 효력정지 결정 이후 \\n', '확진자 규모가 큰 서울에서만 미접종자도 음성확인서 없이 대형마트·백화점을 출입할 수 있게 된 모순과 혼란을 최소화하기 위한 조처라는 \\n', '뜻이다.\\n']\n"
     ]
    }
   ],
   "source": [
    "f = open('news_1.txt', 'r')\n",
    "txt_1 = f.readlines()\n",
    "f.close()\n",
    "\n",
    "print(txt_1)"
   ]
  },
  {
   "cell_type": "code",
   "execution_count": 145,
   "id": "034195b9",
   "metadata": {
    "collapsed": true
   },
   "outputs": [
    {
     "name": "stdout",
     "output_type": "stream",
     "text": [
      "['\\n', '정부가 18일부터 대형마트, 보습학원, 독서실 등 약 13만5천곳에 적용되던 방역패스(접종증명·음성확인제)를 해제한다. \\n', '그간 방역패스가 적용돼온 115만곳의 11.7%에 해당하는 규모다. 정부는 이번 방역패스 완화 조치가 법원의 판단과는 무관하며, \\n', '방역 상황 변화에 따른 정책적 대응이라고 밝혔다.\\n', '\\n', '중앙재난안전대책본부(중대본)은 17일 백화점과 대형마트, 독서실·스터디카페 등 6종에 대한 방역패스를 해제하는 내용을 담은 \\n', '방역패스 개선 방안을 발표했다. 권덕철 중대본 1차장(보건복지부 장관)은 “방역패스를 확대했던 12월에 비해 유행규모가 감소하고 \\n', '의료 여력이 커져 있고, 방역원칙과 제도 수용성을 고려할 때 위험도가 낮은 시설의 방역패스를 완화할 필요가 있다”고 말했다. \\n', '정부는 최근 코로나19 유행규모가 감소했음을 근거로 들었다. 주간 일평균 확진자는 12월 2주차 6086명에서 1월 2주차 3022명으로 줄었고, \\n', '중환자 병상 가동률도 같은 기간 79.1%에서 41.5%로 낮아졌다.\\n', '\\n', '정부가 방역패스 해제 여부를 판단한 기준은 마스크 상시 착용과 비말 생성 활동 여부다. 먼저 독서실·스터디카페, \\n', '도서관, 박물관·미술관·과학관 등은 방역패스 적용이 해제된다. 상시 마스크 착용을 위해 시설 내 취식제한은 유지된다. 백화점·대형마트 등\\n', '대규모 점포 역시 방역패스가 해제되지만, 해당 시설 내 식당·카페 등은 방역패스 적용을 유지한다.\\n', '\\n', '학원도 방역패스 해제 시설에 포함된다. 다만, 마스크 상시 착용이 어렵고 비말 생성이 많은 노래, 연기, 관악기 학원은 방역패스를 \\n', '유지할 필요성이 크다고 봤다. 전부는 지난 4일 법원의 학원·독서실·스터디카페 방역패스 효력 정지 결정에 대해 제기한 즉시항고 \\n', '재판 과정에서 이를 적극 설명할 계획이라고 밝혔다. 영화관·공연장 역시 방역패스가 해제되지만 50명 이상의 비정규 공연장은 종전과 같이 \\n', '방역패스가 적용된다. 유흥시설, 실내체육시설, 노래연습장, PC방 등 위험도가 높은 시설들은 방역패스를 유지한다.\\n', '\\n', '정부는 방역패스가 중요한 방역 수단임을 강조하며 이번 조치가 항구적 조치가 아닌 한시적 조치임을 밝혔다. \\n', '방역 상황이 악화되면 다시 조정할 수 있다는 설명이다. 손영래 반장은 “오미크론 변이의 확산 등으로 방역 상황이 다시 악화되고 \\n', '중증환자가 증가하고 의료체계의 여력이 부족하게 되면 다시 방역패스 확대를 검토하게 될 수도 있다”고 말했다.\\n', '\\n', '앞서 법원은 이달 4일과 14일 교육시설과 대형마트, 청소년에 적용되는 방역패스에 잇따라 제동을 건 바 있다. \\n', '손영래 중앙사고수습본부 사회전략반장은 이날 브리핑에서 “법원 판결에 따라 취해진 조치라기보다 방역 상황의 변화에 \\n', '따라서 정책 조정이 이뤄지는 것”이라고 설명했다. 다만 전국 대형마트·백화점을 방역패스 해제 대상에 포함한 것은 법원의 상반된 판결에 \\n', '따라 지역 간 혼선이 발생한다는 점을 고려했다고 설명했다. 14일 서울행정법원의 서울 지역 대형마트·백화점 방역패스 효력정지 결정 이후 \\n', '확진자 규모가 큰 서울에서만 미접종자도 음성확인서 없이 대형마트·백화점을 출입할 수 있게 된 모순과 혼란을 최소화하기 위한 조처라는 \\n', '뜻이다.\\n']\n"
     ]
    }
   ],
   "source": [
    "with open('news_1','r') as f:\n",
    "    txt_1 = f.readlines()\n",
    "    \n",
    "print(txt_1)"
   ]
  },
  {
   "cell_type": "code",
   "execution_count": 148,
   "id": "4ef54703",
   "metadata": {},
   "outputs": [
    {
     "name": "stdout",
     "output_type": "stream",
     "text": [
      "정부가 18일부터 대형마트, 보습학원, 독서실 등 약 13만5천곳에 적용되던 방역패스(접종증명·음성확인제)를 해제한다. \n",
      "\n"
     ]
    }
   ],
   "source": [
    "f = open('news_1.txt', 'r')\n",
    "txt_1 = f.readline()\n",
    "txt_1 = f.readline()\n",
    "f.close\n",
    "\n",
    "print(txt_1)"
   ]
  },
  {
   "cell_type": "code",
   "execution_count": 150,
   "id": "57d2633d",
   "metadata": {},
   "outputs": [
    {
     "name": "stdout",
     "output_type": "stream",
     "text": [
      "정부가 18일부터 대형마트, 보습학원, 독서실 등 약 13만5천곳에 적용되던 방역패스(접종증명·음성확인제)를 해제한다. \n",
      "\n"
     ]
    }
   ],
   "source": [
    "with open('news_1.txt', 'r') as f:\n",
    "    txt_1 = f.readline()\n",
    "    txt_1 = f.readline()\n",
    "    \n",
    "print(txt_1)"
   ]
  },
  {
   "cell_type": "code",
   "execution_count": 151,
   "id": "0290ad6a",
   "metadata": {
    "collapsed": true
   },
   "outputs": [
    {
     "name": "stdout",
     "output_type": "stream",
     "text": [
      "정부가 18일부터 대형마트, 보습학원, 독서실 등 약 13만5천곳에 적용되던 방역패스(접종증명·음성확인제)를 해제한다. \n",
      "\n",
      "방역 상황 변화에 따른 정책적 대응이라고 밝혔다.\n",
      "\n",
      "중앙재난안전대책본부(중대본)은 17일 백화점과 대형마트, 독서실·스터디카페 등 6종에 대한 방역패스를 해제하는 내용을 담은 \n",
      "\n",
      "의료 여력이 커져 있고, 방역원칙과 제도 수용성을 고려할 때 위험도가 낮은 시설의 방역패스를 완화할 필요가 있다”고 말했다. \n",
      "\n",
      "중환자 병상 가동률도 같은 기간 79.1%에서 41.5%로 낮아졌다.\n",
      "\n",
      "정부가 방역패스 해제 여부를 판단한 기준은 마스크 상시 착용과 비말 생성 활동 여부다. 먼저 독서실·스터디카페, \n",
      "\n",
      "대규모 점포 역시 방역패스가 해제되지만, 해당 시설 내 식당·카페 등은 방역패스 적용을 유지한다.\n",
      "\n",
      "학원도 방역패스 해제 시설에 포함된다. 다만, 마스크 상시 착용이 어렵고 비말 생성이 많은 노래, 연기, 관악기 학원은 방역패스를 \n",
      "\n",
      "재판 과정에서 이를 적극 설명할 계획이라고 밝혔다. 영화관·공연장 역시 방역패스가 해제되지만 50명 이상의 비정규 공연장은 종전과 같이 \n",
      "\n",
      "\n",
      "\n",
      "방역 상황이 악화되면 다시 조정할 수 있다는 설명이다. 손영래 반장은 “오미크론 변이의 확산 등으로 방역 상황이 다시 악화되고 \n",
      "\n",
      "\n",
      "\n",
      "손영래 중앙사고수습본부 사회전략반장은 이날 브리핑에서 “법원 판결에 따라 취해진 조치라기보다 방역 상황의 변화에 \n",
      "\n",
      "따라 지역 간 혼선이 발생한다는 점을 고려했다고 설명했다. 14일 서울행정법원의 서울 지역 대형마트·백화점 방역패스 효력정지 결정 이후 \n",
      "\n",
      "뜻이다.\n",
      "\n"
     ]
    },
    {
     "data": {
      "text/plain": [
       "<function TextIOWrapper.close()>"
      ]
     },
     "execution_count": 151,
     "metadata": {},
     "output_type": "execute_result"
    }
   ],
   "source": [
    "f = open('news_1.txt', 'r')\n",
    "\n",
    "for i in f:\n",
    "    txt_1 = f.readline()\n",
    "    print(txt_1)\n",
    "    \n",
    "f.close"
   ]
  },
  {
   "cell_type": "code",
   "execution_count": null,
   "id": "36d9d356",
   "metadata": {},
   "outputs": [],
   "source": [
    "f = open('news_1.txt', 'r')\n",
    "line = f.readline()\n",
    "\n",
    "while line:\n",
    "    txt_1 = f.readline()\n",
    "    print(txt_1)"
   ]
  }
 ],
 "metadata": {
  "kernelspec": {
   "display_name": "Python 3 (ipykernel)",
   "language": "python",
   "name": "python3"
  },
  "language_info": {
   "codemirror_mode": {
    "name": "ipython",
    "version": 3
   },
   "file_extension": ".py",
   "mimetype": "text/x-python",
   "name": "python",
   "nbconvert_exporter": "python",
   "pygments_lexer": "ipython3",
   "version": "3.9.7"
  }
 },
 "nbformat": 4,
 "nbformat_minor": 5
}
