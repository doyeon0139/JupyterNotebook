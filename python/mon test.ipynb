{
 "cells": [
  {
   "cell_type": "markdown",
   "id": "d7726a7a",
   "metadata": {},
   "source": [
    "### LIST"
   ]
  },
  {
   "cell_type": "code",
   "execution_count": null,
   "id": "0292b372",
   "metadata": {},
   "outputs": [],
   "source": [
    "score = [81, 90, 78, 'python', 'hello', True, [78, 56, 32], (24,25,3)]\n",
    "# 't'를 출력하시오\n",
    "# 56을 출력하시오\n",
    "# 마지막 요소의 최대값을 출력하시오\n",
    "#'python'을 'world'로 수정하시오\n",
    "# 마지막에 'sun'을 추가하시오\n",
    "#'world'가 있는지 확인하시오\n",
    "# 마지막에서 2번째 요소를 내림차순으로 정렬하시오\n",
    "# 90은 몇 번째 인덱스에 있는지 확인하시오\n",
    "# 리스트를 역순으로 정렬하시오\n",
    "# 3번째 인덱스에 'sea'를 추가하시오\n",
    "# True를 False로 수정하시오\n",
    "# 'world'를 제거하시오\n",
    "# 7번째 요소를 제거하시오\n",
    "# 마지막 요소를 제거하시오\n",
    "# 리스트의 길이를 출력하시오\n",
    "# 두번째 요소의 데이터타입을 출력하시오\n",
    "#[78, 56, 32]를 '78:56:32'로 수정하시오\n",
    "# 모든 원소를 제거하시오\n",
    "# 리스트를 삭제하시오"
   ]
  },
  {
   "cell_type": "code",
   "execution_count": 75,
   "id": "c2aee930",
   "metadata": {},
   "outputs": [],
   "source": [
    "score = [81, 90, 78, 'python', 'hello', True, [78, 56, 32], (24,25,3)]"
   ]
  },
  {
   "cell_type": "code",
   "execution_count": 53,
   "id": "8e75c796",
   "metadata": {},
   "outputs": [
    {
     "data": {
      "text/plain": [
       "'t'"
      ]
     },
     "execution_count": 53,
     "metadata": {},
     "output_type": "execute_result"
    }
   ],
   "source": [
    "# 't'를 출력하시오\n",
    "score[3][2]"
   ]
  },
  {
   "cell_type": "code",
   "execution_count": 55,
   "id": "034b4ea1",
   "metadata": {},
   "outputs": [
    {
     "data": {
      "text/plain": [
       "56"
      ]
     },
     "execution_count": 55,
     "metadata": {},
     "output_type": "execute_result"
    }
   ],
   "source": [
    "# 56을 출력하시오\n",
    "score[-2][1]"
   ]
  },
  {
   "cell_type": "code",
   "execution_count": 56,
   "id": "fadf2418",
   "metadata": {},
   "outputs": [
    {
     "data": {
      "text/plain": [
       "25"
      ]
     },
     "execution_count": 56,
     "metadata": {},
     "output_type": "execute_result"
    }
   ],
   "source": [
    "# 마지막 요소의 최대값을 출력하시오\n",
    "max(score[-1])"
   ]
  },
  {
   "cell_type": "code",
   "execution_count": 57,
   "id": "d17c2ad6",
   "metadata": {},
   "outputs": [
    {
     "data": {
      "text/plain": [
       "[81, 90, 78, 'world', 'hello', True, [78, 56, 32], (24, 25, 3)]"
      ]
     },
     "execution_count": 57,
     "metadata": {},
     "output_type": "execute_result"
    }
   ],
   "source": [
    "#'python'을 'world'로 수정하시오\n",
    "score[3] = 'world'\n",
    "score"
   ]
  },
  {
   "cell_type": "code",
   "execution_count": 58,
   "id": "5e33fdb9",
   "metadata": {},
   "outputs": [
    {
     "data": {
      "text/plain": [
       "[81, 90, 78, 'world', 'hello', True, [78, 56, 32], (24, 25, 3), 'sun']"
      ]
     },
     "execution_count": 58,
     "metadata": {},
     "output_type": "execute_result"
    }
   ],
   "source": [
    "# 마지막에 'sun'을 추가하시오\n",
    "score.append('sun')\n",
    "score"
   ]
  },
  {
   "cell_type": "code",
   "execution_count": 59,
   "id": "cdb672ec",
   "metadata": {},
   "outputs": [
    {
     "data": {
      "text/plain": [
       "True"
      ]
     },
     "execution_count": 59,
     "metadata": {},
     "output_type": "execute_result"
    }
   ],
   "source": [
    "#'world'가 있는지 확인하시오\n",
    "'world' in score"
   ]
  },
  {
   "cell_type": "code",
   "execution_count": 60,
   "id": "01a8d21b",
   "metadata": {},
   "outputs": [
    {
     "data": {
      "text/plain": [
       "[25, 24, 3]"
      ]
     },
     "execution_count": 60,
     "metadata": {},
     "output_type": "execute_result"
    }
   ],
   "source": [
    "# 마지막에서 2번째 요소를 내림차순으로 정렬하시오\n",
    "sorted(score[-2], reverse = True)"
   ]
  },
  {
   "cell_type": "code",
   "execution_count": 61,
   "id": "b7fe00ea",
   "metadata": {},
   "outputs": [
    {
     "data": {
      "text/plain": [
       "1"
      ]
     },
     "execution_count": 61,
     "metadata": {},
     "output_type": "execute_result"
    }
   ],
   "source": [
    "# 90은 몇 번째 인덱스에 있는지 확인하시오\n",
    "score.index(90)"
   ]
  },
  {
   "cell_type": "code",
   "execution_count": 62,
   "id": "a352db2d",
   "metadata": {},
   "outputs": [
    {
     "data": {
      "text/plain": [
       "['sun', (24, 25, 3), [78, 56, 32], True, 'hello', 'world', 78, 90, 81]"
      ]
     },
     "execution_count": 62,
     "metadata": {},
     "output_type": "execute_result"
    }
   ],
   "source": [
    "# 리스트를 역순으로 정렬하시오\n",
    "score.reverse()\n",
    "score"
   ]
  },
  {
   "cell_type": "code",
   "execution_count": 63,
   "id": "cde43cbc",
   "metadata": {},
   "outputs": [
    {
     "data": {
      "text/plain": [
       "['sun', (24, 25, 3), 'sea', [78, 56, 32], True, 'hello', 'world', 78, 90, 81]"
      ]
     },
     "execution_count": 63,
     "metadata": {},
     "output_type": "execute_result"
    }
   ],
   "source": [
    "# 3번째 인덱스에 'sea'를 추가하시오\n",
    "score.insert(2,'sea')\n",
    "score"
   ]
  },
  {
   "cell_type": "code",
   "execution_count": 77,
   "id": "e9519806",
   "metadata": {},
   "outputs": [
    {
     "ename": "TypeError",
     "evalue": "'builtin_function_or_method' object does not support item assignment",
     "output_type": "error",
     "traceback": [
      "\u001b[1;31m---------------------------------------------------------------------------\u001b[0m",
      "\u001b[1;31mTypeError\u001b[0m                                 Traceback (most recent call last)",
      "\u001b[1;32m~\\AppData\\Local\\Temp/ipykernel_8972/4086429779.py\u001b[0m in \u001b[0;36m<module>\u001b[1;34m\u001b[0m\n\u001b[0;32m      1\u001b[0m \u001b[1;31m# True를 False로 수정하시오\u001b[0m\u001b[1;33m\u001b[0m\u001b[1;33m\u001b[0m\u001b[0m\n\u001b[1;32m----> 2\u001b[1;33m \u001b[0mscore\u001b[0m\u001b[1;33m.\u001b[0m\u001b[0mindex\u001b[0m\u001b[1;33m[\u001b[0m\u001b[1;33m(\u001b[0m\u001b[1;32mTrue\u001b[0m\u001b[1;33m)\u001b[0m\u001b[1;33m]\u001b[0m \u001b[1;33m=\u001b[0m \u001b[1;32mFalse\u001b[0m\u001b[1;33m\u001b[0m\u001b[1;33m\u001b[0m\u001b[0m\n\u001b[0m\u001b[0;32m      3\u001b[0m \u001b[0mscore\u001b[0m\u001b[1;33m\u001b[0m\u001b[1;33m\u001b[0m\u001b[0m\n",
      "\u001b[1;31mTypeError\u001b[0m: 'builtin_function_or_method' object does not support item assignment"
     ]
    }
   ],
   "source": [
    "# True를 False로 수정하시오\n",
    "score.index[(True)] = False\n",
    "score"
   ]
  },
  {
   "cell_type": "code",
   "execution_count": 67,
   "id": "b6d63b25",
   "metadata": {},
   "outputs": [
    {
     "data": {
      "text/plain": [
       "['sun', (24, 25, 3), 'sea', [78, 56, 32], True, 'hello', 78, 90, 81]"
      ]
     },
     "execution_count": 67,
     "metadata": {},
     "output_type": "execute_result"
    }
   ],
   "source": [
    "# 'world'를 제거하시오\n",
    "score.remove('world')\n",
    "score"
   ]
  },
  {
   "cell_type": "code",
   "execution_count": 68,
   "id": "35466176",
   "metadata": {},
   "outputs": [
    {
     "data": {
      "text/plain": [
       "['sun', (24, 25, 3), 'sea', [78, 56, 32], True, 'hello', 78, 81]"
      ]
     },
     "execution_count": 68,
     "metadata": {},
     "output_type": "execute_result"
    }
   ],
   "source": [
    "# 7번째 요소를 제거하시오\n",
    "score.pop(7)\n",
    "score"
   ]
  },
  {
   "cell_type": "code",
   "execution_count": 69,
   "id": "01666147",
   "metadata": {},
   "outputs": [
    {
     "data": {
      "text/plain": [
       "['sun', (24, 25, 3), 'sea', [78, 56, 32], True, 'hello', 78]"
      ]
     },
     "execution_count": 69,
     "metadata": {},
     "output_type": "execute_result"
    }
   ],
   "source": [
    "# 마지막 요소를 제거하시오\n",
    "score.pop()\n",
    "score"
   ]
  },
  {
   "cell_type": "code",
   "execution_count": 70,
   "id": "4fc06143",
   "metadata": {},
   "outputs": [
    {
     "data": {
      "text/plain": [
       "7"
      ]
     },
     "execution_count": 70,
     "metadata": {},
     "output_type": "execute_result"
    }
   ],
   "source": [
    "# 리스트의 길이를 출력하시오\n",
    "len(score)"
   ]
  },
  {
   "cell_type": "code",
   "execution_count": 71,
   "id": "87ee1e41",
   "metadata": {},
   "outputs": [
    {
     "data": {
      "text/plain": [
       "tuple"
      ]
     },
     "execution_count": 71,
     "metadata": {},
     "output_type": "execute_result"
    }
   ],
   "source": [
    "# 두번째 요소의 데이터타입을 출력하시오\n",
    "type(score[1])"
   ]
  },
  {
   "cell_type": "code",
   "execution_count": 72,
   "id": "3d791370",
   "metadata": {},
   "outputs": [
    {
     "data": {
      "text/plain": [
       "['sun', (24, 25, 3), 'sea', '78:56:32', True, 'hello', 78]"
      ]
     },
     "execution_count": 72,
     "metadata": {},
     "output_type": "execute_result"
    }
   ],
   "source": [
    "#[78, 56, 32]를 '78:56:32'로 수정하시오\n",
    "score[score.index([78,56,32])] = ':'.join(str(s) for s in [78,56,32])\n",
    "score"
   ]
  },
  {
   "cell_type": "code",
   "execution_count": 73,
   "id": "0178453e",
   "metadata": {},
   "outputs": [
    {
     "data": {
      "text/plain": [
       "[]"
      ]
     },
     "execution_count": 73,
     "metadata": {},
     "output_type": "execute_result"
    }
   ],
   "source": [
    "# 모든 원소를 제거하시오\n",
    "score.clear()\n",
    "score"
   ]
  },
  {
   "cell_type": "code",
   "execution_count": 74,
   "id": "f8b3e52f",
   "metadata": {},
   "outputs": [
    {
     "ename": "NameError",
     "evalue": "name 'score' is not defined",
     "output_type": "error",
     "traceback": [
      "\u001b[1;31m---------------------------------------------------------------------------\u001b[0m",
      "\u001b[1;31mNameError\u001b[0m                                 Traceback (most recent call last)",
      "\u001b[1;32m~\\AppData\\Local\\Temp/ipykernel_8972/1354396426.py\u001b[0m in \u001b[0;36m<module>\u001b[1;34m\u001b[0m\n\u001b[0;32m      1\u001b[0m \u001b[1;31m# 리스트를 삭제하시오\u001b[0m\u001b[1;33m\u001b[0m\u001b[1;33m\u001b[0m\u001b[0m\n\u001b[0;32m      2\u001b[0m \u001b[1;32mdel\u001b[0m \u001b[0mscore\u001b[0m\u001b[1;33m\u001b[0m\u001b[1;33m\u001b[0m\u001b[0m\n\u001b[1;32m----> 3\u001b[1;33m \u001b[0mscore\u001b[0m\u001b[1;33m\u001b[0m\u001b[1;33m\u001b[0m\u001b[0m\n\u001b[0m",
      "\u001b[1;31mNameError\u001b[0m: name 'score' is not defined"
     ]
    }
   ],
   "source": [
    "# 리스트를 삭제하시오\n",
    "del score\n",
    "score"
   ]
  },
  {
   "cell_type": "markdown",
   "id": "22bcb9eb",
   "metadata": {},
   "source": [
    "### String"
   ]
  },
  {
   "cell_type": "code",
   "execution_count": null,
   "id": "efe451d7",
   "metadata": {},
   "outputs": [],
   "source": [
    "txt1 = '  A tale that was not right  '\n",
    "txt2 = '이 또한 지나가리라  '\n",
    "\n",
    "# ---------------------------------\n",
    "\n",
    "# tale을 출력하시오\n",
    "# '지'를 출력하시오\n",
    "# 'a'는 몇 개가 존재하는가?\n",
    "# txt1에서 모음의 갯수는 몇 개인가?\n",
    "# '또한'을 '것도'로 수정하시오\n",
    "# txt1을 대문자로 출력하시오\n",
    "# txt1에서 right은 몇 번째 인덱스에 등장하는가?\n",
    "# txt1을 space를 기준으로 나누어서 리스트에 담으시오\n",
    "# txt2의 길이는 얼마인가?\n",
    "# txt2를 character 단위로 나누어서 리스트에 담으시오\n",
    "# txt1의 좌우 공백을 제거하시오\n",
    "# txt2를 역순으로 출력하시오\n",
    "# txt1에서 짝수 인덱스만 출력하시오\n",
    "# txt2를 두 번 반복하시오\n",
    "# txt1과 txt2를 연결하여 하나의 문자열로 만드시오\n",
    "# txt1에서 'right'가 존재하는지 확인하시오\n",
    "# txt1에서 뒤에서 5번째 문자를 출력하시오\n",
    "# txt1의 문자를 index와 튜플로 묶어서 리스에 담으시오\n",
    "url = 'http://www.naver.com/news/today=20221230'\n",
    "#url 중 도메인만 출력하시오\n",
    "log = 'name : 홍길동, age : 17, sex : 남성, nation : 대한민국'\n",
    "# 아래와 같이 출력하시오\n",
    "# name =>\n",
    "# age => 17\n",
    "# sex =>"
   ]
  },
  {
   "cell_type": "code",
   "execution_count": 1,
   "id": "5e4bac89",
   "metadata": {},
   "outputs": [
    {
     "data": {
      "text/plain": [
       "'tale'"
      ]
     },
     "execution_count": 1,
     "metadata": {},
     "output_type": "execute_result"
    }
   ],
   "source": [
    "txt1 = '  A tale that was not right  '\n",
    "txt2 = '이 또한 지나가리라  '\n",
    "\n",
    "# ---------------------------------\n",
    "\n",
    "# tale을 출력하시오\n",
    "txt1[4:8]"
   ]
  },
  {
   "cell_type": "code",
   "execution_count": 80,
   "id": "f7b44d1c",
   "metadata": {},
   "outputs": [
    {
     "data": {
      "text/plain": [
       "'지'"
      ]
     },
     "execution_count": 80,
     "metadata": {},
     "output_type": "execute_result"
    }
   ],
   "source": [
    "# '지'를 출력하시오\n",
    "txt2[5]"
   ]
  },
  {
   "cell_type": "code",
   "execution_count": 81,
   "id": "41097898",
   "metadata": {},
   "outputs": [
    {
     "data": {
      "text/plain": [
       "3"
      ]
     },
     "execution_count": 81,
     "metadata": {},
     "output_type": "execute_result"
    }
   ],
   "source": [
    "# 'a'는 몇 개가 존재하는가?\n",
    "txt1.count('a')"
   ]
  },
  {
   "cell_type": "code",
   "execution_count": 82,
   "id": "24dd9f66",
   "metadata": {},
   "outputs": [
    {
     "data": {
      "text/plain": [
       "7"
      ]
     },
     "execution_count": 82,
     "metadata": {},
     "output_type": "execute_result"
    }
   ],
   "source": [
    "# txt1에서 모음의 갯수는 몇 개인가?\n",
    "c = 0\n",
    "for i in txt1:\n",
    "    if i in 'aeiouAEIOU':\n",
    "        c += 1\n",
    "c"
   ]
  },
  {
   "cell_type": "code",
   "execution_count": 85,
   "id": "bf113ab4",
   "metadata": {},
   "outputs": [
    {
     "data": {
      "text/plain": [
       "'이 것도 지나가리라  '"
      ]
     },
     "execution_count": 85,
     "metadata": {},
     "output_type": "execute_result"
    }
   ],
   "source": [
    "# '또한'을 '것도'로 수정하시오\n",
    "txt2.replace('또한','것도')"
   ]
  },
  {
   "cell_type": "code",
   "execution_count": 86,
   "id": "656c5388",
   "metadata": {},
   "outputs": [
    {
     "data": {
      "text/plain": [
       "'  A TALE THAT WAS NOT RIGHT  '"
      ]
     },
     "execution_count": 86,
     "metadata": {},
     "output_type": "execute_result"
    }
   ],
   "source": [
    "# txt1을 대문자로 출력하시오\n",
    "txt1.upper()"
   ]
  },
  {
   "cell_type": "code",
   "execution_count": 110,
   "id": "55b90d15",
   "metadata": {},
   "outputs": [
    {
     "data": {
      "text/plain": [
       "22"
      ]
     },
     "execution_count": 110,
     "metadata": {},
     "output_type": "execute_result"
    }
   ],
   "source": [
    "# txt1에서 right은 몇 번째 인덱스에 등장하는가?\n",
    "txt1.index('right')"
   ]
  },
  {
   "cell_type": "code",
   "execution_count": 90,
   "id": "dd442e19",
   "metadata": {},
   "outputs": [
    {
     "data": {
      "text/plain": [
       "['', '', 'A', 'tale', 'that', 'was', 'not', 'right', '', '']"
      ]
     },
     "execution_count": 90,
     "metadata": {},
     "output_type": "execute_result"
    }
   ],
   "source": [
    "# txt1을 space를 기준으로 나누어서 리스트에 담으시오\n",
    "txt1.split(' ')"
   ]
  },
  {
   "cell_type": "code",
   "execution_count": 91,
   "id": "47294bae",
   "metadata": {},
   "outputs": [
    {
     "data": {
      "text/plain": [
       "12"
      ]
     },
     "execution_count": 91,
     "metadata": {},
     "output_type": "execute_result"
    }
   ],
   "source": [
    "# txt2의 길이는 얼마인가?\n",
    "len(txt2)"
   ]
  },
  {
   "cell_type": "code",
   "execution_count": 92,
   "id": "86eb1aa8",
   "metadata": {},
   "outputs": [
    {
     "data": {
      "text/plain": [
       "['이 또한 지나가리라  ']"
      ]
     },
     "execution_count": 92,
     "metadata": {},
     "output_type": "execute_result"
    }
   ],
   "source": [
    "# txt2를 character 단위로 나누어서 리스트에 담으시오\n",
    "txt2.split('character')"
   ]
  },
  {
   "cell_type": "code",
   "execution_count": 100,
   "id": "3787f98b",
   "metadata": {},
   "outputs": [
    {
     "data": {
      "text/plain": [
       "'A tale that was not right'"
      ]
     },
     "execution_count": 100,
     "metadata": {},
     "output_type": "execute_result"
    }
   ],
   "source": [
    "# txt1의 좌우 공백을 제거하시오\n",
    "txt1.strip()"
   ]
  },
  {
   "cell_type": "code",
   "execution_count": 96,
   "id": "5313abce",
   "metadata": {},
   "outputs": [
    {
     "name": "stdout",
     "output_type": "stream",
     "text": [
      "  라리가나지 한또 이\n"
     ]
    }
   ],
   "source": [
    "# txt2를 역순으로 출력하시오\n",
    "print(txt2[::-1])"
   ]
  },
  {
   "cell_type": "code",
   "execution_count": 101,
   "id": "7adc1db4",
   "metadata": {},
   "outputs": [
    {
     "data": {
      "text/plain": [
       "'aeta a o'"
      ]
     },
     "execution_count": 101,
     "metadata": {},
     "output_type": "execute_result"
    }
   ],
   "source": [
    "# txt1에서 짝수 인덱스만 출력하시오\n",
    "txt1[1:20:2].strip()"
   ]
  },
  {
   "cell_type": "code",
   "execution_count": 102,
   "id": "405031b8",
   "metadata": {},
   "outputs": [
    {
     "data": {
      "text/plain": [
       "'이 또한 지나가리라  이 또한 지나가리라  '"
      ]
     },
     "execution_count": 102,
     "metadata": {},
     "output_type": "execute_result"
    }
   ],
   "source": [
    "# txt2를 두 번 반복하시오\n",
    "txt2 * 2"
   ]
  },
  {
   "cell_type": "code",
   "execution_count": 103,
   "id": "07e014e5",
   "metadata": {},
   "outputs": [
    {
     "data": {
      "text/plain": [
       "'  A tale that was not right  이 또한 지나가리라  '"
      ]
     },
     "execution_count": 103,
     "metadata": {},
     "output_type": "execute_result"
    }
   ],
   "source": [
    "# txt1과 txt2를 연결하여 하나의 문자열로 만드시오\n",
    "txt1+txt2"
   ]
  },
  {
   "cell_type": "code",
   "execution_count": 104,
   "id": "c3484542",
   "metadata": {},
   "outputs": [
    {
     "data": {
      "text/plain": [
       "True"
      ]
     },
     "execution_count": 104,
     "metadata": {},
     "output_type": "execute_result"
    }
   ],
   "source": [
    "# txt1에서 'right'가 존재하는지 확인하시오\n",
    "'right' in txt1"
   ]
  },
  {
   "cell_type": "code",
   "execution_count": 105,
   "id": "79975997",
   "metadata": {},
   "outputs": [
    {
     "name": "stdout",
     "output_type": "stream",
     "text": [
      "g\n"
     ]
    }
   ],
   "source": [
    "# txt1에서 뒤에서 5번째 문자를 출력하시오\n",
    "print(txt1[-5])"
   ]
  },
  {
   "cell_type": "code",
   "execution_count": 2,
   "id": "84b2edaf",
   "metadata": {},
   "outputs": [
    {
     "data": {
      "text/plain": [
       "[(0, ' '),\n",
       " (1, ' '),\n",
       " (2, 'A'),\n",
       " (3, ' '),\n",
       " (4, 't'),\n",
       " (5, 'a'),\n",
       " (6, 'l'),\n",
       " (7, 'e'),\n",
       " (8, ' '),\n",
       " (9, 't'),\n",
       " (10, 'h'),\n",
       " (11, 'a'),\n",
       " (12, 't'),\n",
       " (13, ' '),\n",
       " (14, 'w'),\n",
       " (15, 'a'),\n",
       " (16, 's'),\n",
       " (17, ' '),\n",
       " (18, 'n'),\n",
       " (19, 'o'),\n",
       " (20, 't'),\n",
       " (21, ' '),\n",
       " (22, 'r'),\n",
       " (23, 'i'),\n",
       " (24, 'g'),\n",
       " (25, 'h'),\n",
       " (26, 't'),\n",
       " (27, ' '),\n",
       " (28, ' ')]"
      ]
     },
     "execution_count": 2,
     "metadata": {},
     "output_type": "execute_result"
    }
   ],
   "source": [
    "# txt1의 문자를 index와 튜플로 묶어서 리스에 담으시오\n",
    "[(i,c) for i,c in enumerate(txt1)]"
   ]
  },
  {
   "cell_type": "code",
   "execution_count": 108,
   "id": "a48ea8ac",
   "metadata": {},
   "outputs": [
    {
     "name": "stdout",
     "output_type": "stream",
     "text": [
      "www.naver.com\n"
     ]
    }
   ],
   "source": [
    "url = 'http://www.naver.com/news/today=20221230'\n",
    "#url 중 도메인만 출력하시오\n",
    "print(url.split('/')[2])"
   ]
  },
  {
   "cell_type": "code",
   "execution_count": 109,
   "id": "91462134",
   "metadata": {},
   "outputs": [
    {
     "name": "stdout",
     "output_type": "stream",
     "text": [
      "name  =>  홍길동\n",
      " age  =>  17\n",
      " sex  =>  남성\n",
      " nation  =>  대한민국\n"
     ]
    }
   ],
   "source": [
    "log = 'name : 홍길동, age : 17, sex : 남성, nation : 대한민국'\n",
    "# 아래와 같이 출력하시오\n",
    "# name =>\n",
    "# age => 17\n",
    "# sex =>\n",
    "\n",
    "for i in log.split(','):\n",
    "    print(i.split(':')[0], '=>', i.split(':')[1])"
   ]
  },
  {
   "cell_type": "code",
   "execution_count": null,
   "id": "e47cd279",
   "metadata": {},
   "outputs": [],
   "source": []
  },
  {
   "cell_type": "code",
   "execution_count": null,
   "id": "2ec52692",
   "metadata": {},
   "outputs": [],
   "source": []
  },
  {
   "cell_type": "code",
   "execution_count": null,
   "id": "1bb6425a",
   "metadata": {},
   "outputs": [],
   "source": []
  },
  {
   "cell_type": "code",
   "execution_count": null,
   "id": "fabb8a30",
   "metadata": {},
   "outputs": [],
   "source": []
  },
  {
   "cell_type": "code",
   "execution_count": null,
   "id": "a297198e",
   "metadata": {},
   "outputs": [],
   "source": []
  },
  {
   "cell_type": "code",
   "execution_count": null,
   "id": "c7d9d87f",
   "metadata": {},
   "outputs": [],
   "source": []
  },
  {
   "cell_type": "code",
   "execution_count": null,
   "id": "8ff87207",
   "metadata": {},
   "outputs": [],
   "source": []
  },
  {
   "cell_type": "code",
   "execution_count": null,
   "id": "1966c85a",
   "metadata": {},
   "outputs": [],
   "source": []
  },
  {
   "cell_type": "code",
   "execution_count": null,
   "id": "b25730ab",
   "metadata": {},
   "outputs": [],
   "source": []
  }
 ],
 "metadata": {
  "kernelspec": {
   "display_name": "Python 3 (ipykernel)",
   "language": "python",
   "name": "python3"
  },
  "language_info": {
   "codemirror_mode": {
    "name": "ipython",
    "version": 3
   },
   "file_extension": ".py",
   "mimetype": "text/x-python",
   "name": "python",
   "nbconvert_exporter": "python",
   "pygments_lexer": "ipython3",
   "version": "3.9.7"
  }
 },
 "nbformat": 4,
 "nbformat_minor": 5
}
