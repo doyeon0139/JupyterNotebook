{
 "cells": [
  {
   "cell_type": "code",
   "execution_count": null,
   "id": "34702b3a",
   "metadata": {},
   "outputs": [],
   "source": [
    "# String\n",
    "# txt1 = 'A tale that was not right'\n",
    "# 'ale' 이 출력..\n",
    "# 'A tale' 출력\n",
    "# 'not' 출력\n",
    "# txt1을 소문자 전환\n",
    "# txt1을 대문자 전환\n",
    "# 'o'가 몇 개 존재하는가?\n",
    "# 'o'가 몇 번 인덱스에 존재하는가?\n",
    "# txt1의 길이는 어떻게 되는가?\n",
    "# space를 기준으로 나누어서 List에 담으세요..\n",
    "# 'tale'을 'story'로 바꾸세요..\n",
    "# txt1 안에 'right'가 존재하는지 확인\n",
    "\n"
   ]
  },
  {
   "cell_type": "code",
   "execution_count": 2,
   "id": "d84230f4",
   "metadata": {},
   "outputs": [
    {
     "data": {
      "text/plain": [
       "'ale'"
      ]
     },
     "execution_count": 2,
     "metadata": {},
     "output_type": "execute_result"
    }
   ],
   "source": [
    "txt1 = 'A tale that was not right'"
   ]
  },
  {
   "cell_type": "code",
   "execution_count": 3,
   "id": "515bfb85",
   "metadata": {},
   "outputs": [
    {
     "data": {
      "text/plain": [
       "'ale'"
      ]
     },
     "execution_count": 3,
     "metadata": {},
     "output_type": "execute_result"
    }
   ],
   "source": [
    "txt1[3:6]"
   ]
  },
  {
   "cell_type": "code",
   "execution_count": 4,
   "id": "1d03addd",
   "metadata": {},
   "outputs": [
    {
     "data": {
      "text/plain": [
       "'A tale'"
      ]
     },
     "execution_count": 4,
     "metadata": {},
     "output_type": "execute_result"
    }
   ],
   "source": [
    "txt1[:6]"
   ]
  },
  {
   "cell_type": "code",
   "execution_count": 6,
   "id": "8b8ad52d",
   "metadata": {},
   "outputs": [
    {
     "data": {
      "text/plain": [
       "'not'"
      ]
     },
     "execution_count": 6,
     "metadata": {},
     "output_type": "execute_result"
    }
   ],
   "source": [
    "txt1[-9:-6]"
   ]
  },
  {
   "cell_type": "code",
   "execution_count": 7,
   "id": "cd74dc1d",
   "metadata": {},
   "outputs": [
    {
     "data": {
      "text/plain": [
       "'a tale that was not right'"
      ]
     },
     "execution_count": 7,
     "metadata": {},
     "output_type": "execute_result"
    }
   ],
   "source": [
    "txt1.lower()"
   ]
  },
  {
   "cell_type": "code",
   "execution_count": 8,
   "id": "f494d610",
   "metadata": {},
   "outputs": [
    {
     "data": {
      "text/plain": [
       "'A TALE THAT WAS NOT RIGHT'"
      ]
     },
     "execution_count": 8,
     "metadata": {},
     "output_type": "execute_result"
    }
   ],
   "source": [
    "txt1.upper()"
   ]
  },
  {
   "cell_type": "code",
   "execution_count": 9,
   "id": "b0f03e44",
   "metadata": {},
   "outputs": [
    {
     "data": {
      "text/plain": [
       "1"
      ]
     },
     "execution_count": 9,
     "metadata": {},
     "output_type": "execute_result"
    }
   ],
   "source": [
    "txt1.count('o')"
   ]
  },
  {
   "cell_type": "code",
   "execution_count": 10,
   "id": "2010c046",
   "metadata": {},
   "outputs": [
    {
     "data": {
      "text/plain": [
       "17"
      ]
     },
     "execution_count": 10,
     "metadata": {},
     "output_type": "execute_result"
    }
   ],
   "source": [
    "txt1.find('o')"
   ]
  },
  {
   "cell_type": "code",
   "execution_count": 11,
   "id": "83e33eeb",
   "metadata": {},
   "outputs": [
    {
     "data": {
      "text/plain": [
       "17"
      ]
     },
     "execution_count": 11,
     "metadata": {},
     "output_type": "execute_result"
    }
   ],
   "source": [
    "txt1.index('o')"
   ]
  },
  {
   "cell_type": "code",
   "execution_count": 12,
   "id": "bd00c8d1",
   "metadata": {},
   "outputs": [
    {
     "data": {
      "text/plain": [
       "25"
      ]
     },
     "execution_count": 12,
     "metadata": {},
     "output_type": "execute_result"
    }
   ],
   "source": [
    "len(txt1)"
   ]
  },
  {
   "cell_type": "code",
   "execution_count": 13,
   "id": "f711637a",
   "metadata": {},
   "outputs": [
    {
     "data": {
      "text/plain": [
       "['A', 'tale', 'that', 'was', 'not', 'right']"
      ]
     },
     "execution_count": 13,
     "metadata": {},
     "output_type": "execute_result"
    }
   ],
   "source": [
    "txt1.split()"
   ]
  },
  {
   "cell_type": "code",
   "execution_count": 15,
   "id": "57a2dae3",
   "metadata": {},
   "outputs": [
    {
     "data": {
      "text/plain": [
       "'A story that was not right'"
      ]
     },
     "execution_count": 15,
     "metadata": {},
     "output_type": "execute_result"
    }
   ],
   "source": [
    "txt1.replace('tale','story')"
   ]
  },
  {
   "cell_type": "code",
   "execution_count": 16,
   "id": "9b0a33a5",
   "metadata": {},
   "outputs": [
    {
     "data": {
      "text/plain": [
       "True"
      ]
     },
     "execution_count": 16,
     "metadata": {},
     "output_type": "execute_result"
    }
   ],
   "source": [
    "'right' in txt1"
   ]
  },
  {
   "cell_type": "code",
   "execution_count": null,
   "id": "2cf5162f",
   "metadata": {},
   "outputs": [],
   "source": [
    "#  군집형 데이터타입 - index(주소(셋은제외))-[]\n",
    "# string - 문자열, 원소의 수정,삭제,추가가 안됨\n",
    "# list - 리스트. 원소의 수정,삭제,추가가 자유로움 모든객체를 담을 수 있음\n",
    "# set - 셋. 집합, 중복데이터를 허용하지 않는다  순서가 없음(index가 없음)\n",
    "# tuple - 튜플. 원소의 수정,삭제,추가가 안됨 , 고정된 값을 표현. 데이터를 묶는 보조적 용도\n",
    "# dictionary - 사전. 단어:뜻 => key:value => key가 인덱스 역할"
   ]
  },
  {
   "cell_type": "code",
   "execution_count": 17,
   "id": "d3a4ff00",
   "metadata": {},
   "outputs": [
    {
     "data": {
      "text/plain": [
       "['수성', '금성']"
      ]
     },
     "execution_count": 17,
     "metadata": {},
     "output_type": "execute_result"
    }
   ],
   "source": [
    "# List\n",
    "sol = ['태양','수성','금성','지구','화성','목성','지구']\n",
    "sol1 = ['토성','천황성','해왕성']\n",
    "planet = '지구'\n",
    "\n",
    "# 1. sol에서 ['수성','금성']을 출력\n",
    "sol[1:3]"
   ]
  },
  {
   "cell_type": "code",
   "execution_count": 18,
   "id": "e5315653",
   "metadata": {},
   "outputs": [
    {
     "data": {
      "text/plain": [
       "3"
      ]
     },
     "execution_count": 18,
     "metadata": {},
     "output_type": "execute_result"
    }
   ],
   "source": [
    "# 2. sol에서 '지구' 위치 인덱스 출력\n",
    "sol.index('지구')\n",
    "#리스트에서는 인덱스만 가능"
   ]
  },
  {
   "cell_type": "code",
   "execution_count": 20,
   "id": "c679d889",
   "metadata": {},
   "outputs": [
    {
     "data": {
      "text/plain": [
       "['태양', '수성', '금성', '지구', '해왕성', '목성', '지구']"
      ]
     },
     "execution_count": 20,
     "metadata": {},
     "output_type": "execute_result"
    }
   ],
   "source": [
    "# 3. sol에서 '화성'을 '해왕성'으로 수정\n",
    "sol[4] = '해왕성'\n",
    "sol"
   ]
  },
  {
   "cell_type": "code",
   "execution_count": 23,
   "id": "aa80ecbb",
   "metadata": {},
   "outputs": [
    {
     "data": {
      "text/plain": [
       "['태양', '명왕성', '명왕성', '수성', '금성', '지구', '해왕성', '목성', '지구', '토성']"
      ]
     },
     "execution_count": 23,
     "metadata": {},
     "output_type": "execute_result"
    }
   ],
   "source": [
    "# 4. '수성'자리에 '명왕성' 삽입\n",
    "sol.insert(1, '명왕성')\n",
    "sol"
   ]
  },
  {
   "cell_type": "code",
   "execution_count": 21,
   "id": "1b3c7002",
   "metadata": {},
   "outputs": [
    {
     "data": {
      "text/plain": [
       "['태양', '수성', '금성', '지구', '해왕성', '목성', '지구', '토성']"
      ]
     },
     "execution_count": 21,
     "metadata": {},
     "output_type": "execute_result"
    }
   ],
   "source": [
    "# 5. '토성'을 맨 끝에 삽입\n",
    "sol.append('토성')\n",
    "sol"
   ]
  },
  {
   "cell_type": "code",
   "execution_count": 24,
   "id": "40065147",
   "metadata": {},
   "outputs": [
    {
     "data": {
      "text/plain": [
       "['태양', '명왕성', '명왕성', '수성', '금성', '지구', '해왕성', '목성', '지구']"
      ]
     },
     "execution_count": 24,
     "metadata": {},
     "output_type": "execute_result"
    }
   ],
   "source": [
    "# 6. 맨 끝 요소를 삭제하고 리턴\n",
    "sol.pop()\n",
    "sol"
   ]
  },
  {
   "cell_type": "code",
   "execution_count": null,
   "id": "734e97f0",
   "metadata": {},
   "outputs": [],
   "source": [
    "# 7. '금성'을 제거\n",
    "sol.remove('금성')"
   ]
  },
  {
   "cell_type": "code",
   "execution_count": 30,
   "id": "883a167f",
   "metadata": {},
   "outputs": [
    {
     "data": {
      "text/plain": [
       "['태양']"
      ]
     },
     "execution_count": 30,
     "metadata": {},
     "output_type": "execute_result"
    }
   ],
   "source": [
    "# 8. 1번 인덱스에서 3번 인덱스까지 삭제\n",
    "del sol[1:4]\n",
    "sol"
   ]
  },
  {
   "cell_type": "code",
   "execution_count": 27,
   "id": "3190cfa3",
   "metadata": {},
   "outputs": [
    {
     "data": {
      "text/plain": [
       "['태양', '명왕성', '금성', '지구', '해왕성', '목성', '지구']"
      ]
     },
     "execution_count": 27,
     "metadata": {},
     "output_type": "execute_result"
    }
   ],
   "source": [
    "# 9. 인덱스 2번 요소 삭제\n",
    "sol.pop(2)\n",
    "sol"
   ]
  },
  {
   "cell_type": "code",
   "execution_count": 32,
   "id": "846eeaf5",
   "metadata": {},
   "outputs": [
    {
     "data": {
      "text/plain": [
       "['태양', '토성', '천황성', '해왕성']"
      ]
     },
     "execution_count": 32,
     "metadata": {},
     "output_type": "execute_result"
    }
   ],
   "source": [
    "# 10. sol과 sol1을 합치세요\n",
    "sol + sol1"
   ]
  },
  {
   "cell_type": "code",
   "execution_count": null,
   "id": "a702983e",
   "metadata": {},
   "outputs": [],
   "source": [
    "# 11. 내림차순 정렬\n",
    "sorted(sol. reverse=(True))"
   ]
  },
  {
   "cell_type": "code",
   "execution_count": 33,
   "id": "d5f028aa",
   "metadata": {},
   "outputs": [
    {
     "data": {
      "text/plain": [
       "['태양']"
      ]
     },
     "execution_count": 33,
     "metadata": {},
     "output_type": "execute_result"
    }
   ],
   "source": [
    "# 12. 오름차순 정렬\n",
    "sorted(sol)"
   ]
  },
  {
   "cell_type": "code",
   "execution_count": null,
   "id": "b4878801",
   "metadata": {},
   "outputs": [],
   "source": [
    "# 13. '만리장성'이 있는지 확인\n",
    "'만리장성' in sol"
   ]
  },
  {
   "cell_type": "code",
   "execution_count": 34,
   "id": "58f60e04",
   "metadata": {},
   "outputs": [
    {
     "data": {
      "text/plain": [
       "['태양', '태양', '태양']"
      ]
     },
     "execution_count": 34,
     "metadata": {},
     "output_type": "execute_result"
    }
   ],
   "source": [
    "# 14. so1을 3번 반복하세요\n",
    "sol *3"
   ]
  },
  {
   "cell_type": "code",
   "execution_count": 36,
   "id": "bc0e7c07",
   "metadata": {},
   "outputs": [
    {
     "data": {
      "text/plain": [
       "1"
      ]
     },
     "execution_count": 36,
     "metadata": {},
     "output_type": "execute_result"
    }
   ],
   "source": [
    "# 15. 길이를 출력하세요\n",
    "len(sol)"
   ]
  },
  {
   "cell_type": "code",
   "execution_count": null,
   "id": "a9721241",
   "metadata": {},
   "outputs": [],
   "source": [
    "# 16. '지구'가 몇 개 포함되어있는지 확인.\n",
    "sol.count('지구')"
   ]
  },
  {
   "cell_type": "code",
   "execution_count": null,
   "id": "c9b46d3b",
   "metadata": {},
   "outputs": [],
   "source": [
    "# 17. 모든 원소를 지우세요.\n",
    "sol.clear()\n",
    "sol"
   ]
  },
  {
   "cell_type": "code",
   "execution_count": 31,
   "id": "4f9f6845",
   "metadata": {},
   "outputs": [],
   "source": [
    "# 18. sol리스트를 삭제하세요.."
   ]
  },
  {
   "cell_type": "code",
   "execution_count": 47,
   "id": "ca1b1090",
   "metadata": {},
   "outputs": [
    {
     "data": {
      "text/plain": [
       "'tuple'"
      ]
     },
     "execution_count": 47,
     "metadata": {},
     "output_type": "execute_result"
    }
   ],
   "source": [
    "# Tuple\n",
    "myTuple = ('tuple', (1,2,3) , [4,5,6,7,8] ,'7', '8', '9')\n",
    "\n",
    "# 'tuple'을 출력하세요\n",
    "myTuple[0]"
   ]
  },
  {
   "cell_type": "code",
   "execution_count": null,
   "id": "420d82a5",
   "metadata": {},
   "outputs": [],
   "source": [
    "# 3을 출력하세요\n",
    "myTuple[1][2]"
   ]
  },
  {
   "cell_type": "code",
   "execution_count": 49,
   "id": "71dd5b33",
   "metadata": {},
   "outputs": [
    {
     "name": "stdout",
     "output_type": "stream",
     "text": [
      "[4, 5, 6, 7, 8]\n"
     ]
    }
   ],
   "source": [
    "# 4,5를 출력하세요\n",
    "print(myTuple[2])"
   ]
  },
  {
   "cell_type": "code",
   "execution_count": 48,
   "id": "26681169",
   "metadata": {},
   "outputs": [
    {
     "name": "stdout",
     "output_type": "stream",
     "text": [
      "[4, 5]\n"
     ]
    }
   ],
   "source": [
    "# [4,5,6]을 출력하세요\n",
    "print(myTuple[2][:2])"
   ]
  },
  {
   "cell_type": "code",
   "execution_count": null,
   "id": "ddd6e791",
   "metadata": {},
   "outputs": [],
   "source": [
    "# tuple의 길이를 리턴하세요 ( 요소의 갯수가 몇 개인지 )\n",
    "print(len(myTuple))"
   ]
  },
  {
   "cell_type": "code",
   "execution_count": null,
   "id": "29e22394",
   "metadata": {},
   "outputs": [],
   "source": [
    "# '7'이 있는지 확인하세요\n",
    "print('7' in myTuple)"
   ]
  },
  {
   "cell_type": "code",
   "execution_count": 50,
   "id": "0ce89893",
   "metadata": {},
   "outputs": [
    {
     "data": {
      "text/plain": [
       "3"
      ]
     },
     "execution_count": 50,
     "metadata": {},
     "output_type": "execute_result"
    }
   ],
   "source": [
    "# '7'의 인덱스를 출력하세요.\n",
    "myTuple.index('7')"
   ]
  },
  {
   "cell_type": "code",
   "execution_count": null,
   "id": "d894a9f5",
   "metadata": {},
   "outputs": [],
   "source": [
    "# '7'이 몇 개 있는지 확인하세요\n",
    "print(myTuple.count('7'))"
   ]
  },
  {
   "cell_type": "code",
   "execution_count": null,
   "id": "fa4f7916",
   "metadata": {},
   "outputs": [],
   "source": [
    "# 인데스 2번를 출력하세요\n",
    "print(myTuple[2])"
   ]
  },
  {
   "cell_type": "code",
   "execution_count": null,
   "id": "5ddbf680",
   "metadata": {},
   "outputs": [],
   "source": [
    "# 인데스 2번에서 최대값을 출력하세요\n",
    "print(max(myTuple[2]))"
   ]
  },
  {
   "cell_type": "code",
   "execution_count": null,
   "id": "1e8e6e68",
   "metadata": {},
   "outputs": [],
   "source": [
    "# 인데스 2번에서 최소값을 출력하세요\n",
    "print(min(myTuple[2]))"
   ]
  },
  {
   "cell_type": "code",
   "execution_count": null,
   "id": "442c1543",
   "metadata": {},
   "outputs": [],
   "source": [
    "# 인데스 2번에서 총합을 출력하세요\n",
    "print(sum(myTuple[2]))"
   ]
  },
  {
   "cell_type": "code",
   "execution_count": null,
   "id": "c243fbaa",
   "metadata": {},
   "outputs": [],
   "source": [
    "# 인데스 2번에서 평균을 출력하세요\n",
    "import numpy as np\n",
    "print(np.(myTuple[2]))"
   ]
  },
  {
   "cell_type": "code",
   "execution_count": 39,
   "id": "c49d7fae",
   "metadata": {},
   "outputs": [],
   "source": [
    "# 인데스 2번를 내림차순 정렬해서 출력하세요.\n",
    "print(sorted(myTuple[2], reverse=True))"
   ]
  },
  {
   "cell_type": "code",
   "execution_count": 2,
   "id": "940230da",
   "metadata": {},
   "outputs": [],
   "source": [
    "# Set - 중복데이터가 없다. 순서가 없으므로 인덱스가 없다 집합연산\n",
    "\n",
    "# 원소가 없는 set인 s를 만드세요\n",
    "s = set()   #{} 딕셔너리"
   ]
  },
  {
   "cell_type": "code",
   "execution_count": 3,
   "id": "f52c6791",
   "metadata": {},
   "outputs": [
    {
     "data": {
      "text/plain": [
       "{'earth', 'sky'}"
      ]
     },
     "execution_count": 3,
     "metadata": {},
     "output_type": "execute_result"
    }
   ],
   "source": [
    "# s에 원소 'sky'와 'earth'를 추가하세요\n",
    "s.add('sky')\n",
    "s.add('earth')\n",
    "s"
   ]
  },
  {
   "cell_type": "code",
   "execution_count": 4,
   "id": "d522c782",
   "metadata": {},
   "outputs": [
    {
     "data": {
      "text/plain": [
       "{1, 2, 'earth', 'sky'}"
      ]
     },
     "execution_count": 4,
     "metadata": {},
     "output_type": "execute_result"
    }
   ],
   "source": [
    "# s에 1,2 두 원소를 추가하세요\n",
    "s.update({1,2})\n",
    "s\n"
   ]
  },
  {
   "cell_type": "code",
   "execution_count": 59,
   "id": "97ec310f",
   "metadata": {},
   "outputs": [
    {
     "data": {
      "text/plain": [
       "{1, 2, 'earth'}"
      ]
     },
     "execution_count": 59,
     "metadata": {},
     "output_type": "execute_result"
    }
   ],
   "source": [
    "# s에서 'sky'를 삭제하세요\n",
    "s.remove('sky')\n",
    "s"
   ]
  },
  {
   "cell_type": "code",
   "execution_count": 9,
   "id": "683360dd",
   "metadata": {},
   "outputs": [
    {
     "data": {
      "text/plain": [
       "{1, 2, 3, 4, 5, 6, 7, 8, 9}"
      ]
     },
     "execution_count": 9,
     "metadata": {},
     "output_type": "execute_result"
    }
   ],
   "source": [
    "A = {1,2,3,4,5,6}\n",
    "B = {1,2,3,7,8,9}\n",
    "C = {1,2,3}\n",
    "# 두 집합의 합집합을 출력\n",
    "A.union(B)"
   ]
  },
  {
   "cell_type": "code",
   "execution_count": 60,
   "id": "398c5e42",
   "metadata": {},
   "outputs": [
    {
     "data": {
      "text/plain": [
       "{1, 2, 3}"
      ]
     },
     "execution_count": 60,
     "metadata": {},
     "output_type": "execute_result"
    }
   ],
   "source": [
    "# 두 집합의 교집합을 출력\n",
    "A.intersection(B)"
   ]
  },
  {
   "cell_type": "code",
   "execution_count": 61,
   "id": "06f36156",
   "metadata": {},
   "outputs": [
    {
     "data": {
      "text/plain": [
       "{4, 5, 6}"
      ]
     },
     "execution_count": 61,
     "metadata": {},
     "output_type": "execute_result"
    }
   ],
   "source": [
    "# A의 B에 대한 차집합\n",
    "A.difference(B)"
   ]
  },
  {
   "cell_type": "code",
   "execution_count": 10,
   "id": "42998a7a",
   "metadata": {},
   "outputs": [
    {
     "data": {
      "text/plain": [
       "{4, 5, 6, 7, 8, 9}"
      ]
     },
     "execution_count": 10,
     "metadata": {},
     "output_type": "execute_result"
    }
   ],
   "source": [
    "# 대칭차집합\n",
    "A.symmetric_difference(B)\n"
   ]
  },
  {
   "cell_type": "code",
   "execution_count": 63,
   "id": "6274269b",
   "metadata": {},
   "outputs": [
    {
     "data": {
      "text/plain": [
       "True"
      ]
     },
     "execution_count": 63,
     "metadata": {},
     "output_type": "execute_result"
    }
   ],
   "source": [
    "# C가 A의 부분집합인지 확인\n",
    "C.issubset(A)"
   ]
  },
  {
   "cell_type": "code",
   "execution_count": 64,
   "id": "c074cbe0",
   "metadata": {},
   "outputs": [
    {
     "data": {
      "text/plain": [
       "True"
      ]
     },
     "execution_count": 64,
     "metadata": {},
     "output_type": "execute_result"
    }
   ],
   "source": [
    "# A가 C를 포함하는지 확인\n",
    "A.issuperset(C)"
   ]
  },
  {
   "cell_type": "code",
   "execution_count": null,
   "id": "c13c72a3",
   "metadata": {},
   "outputs": [],
   "source": [
    "# 집합 B의 길이를 출력\n",
    "len(A)"
   ]
  },
  {
   "cell_type": "code",
   "execution_count": null,
   "id": "a7829882",
   "metadata": {},
   "outputs": [],
   "source": [
    "# 집합 B의 최대값 출력\n",
    "max(A)"
   ]
  },
  {
   "cell_type": "code",
   "execution_count": null,
   "id": "3e6cfd21",
   "metadata": {},
   "outputs": [],
   "source": [
    "# 집합 B의 최소값 출력\n",
    "min(A)"
   ]
  },
  {
   "cell_type": "code",
   "execution_count": null,
   "id": "1bc05d9f",
   "metadata": {},
   "outputs": [],
   "source": [
    "# 집합 B의 합을 출력\n",
    "sum(A)"
   ]
  },
  {
   "cell_type": "code",
   "execution_count": 69,
   "id": "a83746db",
   "metadata": {},
   "outputs": [
    {
     "data": {
      "text/plain": [
       "3.5"
      ]
     },
     "execution_count": 69,
     "metadata": {},
     "output_type": "execute_result"
    }
   ],
   "source": [
    "# 집합 B의 평균출력\n",
    "sum(A)/len(A)\n",
    "# np.mean(list(A))"
   ]
  },
  {
   "cell_type": "code",
   "execution_count": null,
   "id": "d6cde363",
   "metadata": {},
   "outputs": [],
   "source": [
    "# 집합 B의 내림차순 출력\n",
    "sorted(A, reverse=True)"
   ]
  },
  {
   "cell_type": "code",
   "execution_count": 70,
   "id": "e68de373",
   "metadata": {},
   "outputs": [
    {
     "data": {
      "text/plain": [
       "True"
      ]
     },
     "execution_count": 70,
     "metadata": {},
     "output_type": "execute_result"
    }
   ],
   "source": [
    "# 집합 B에 5가 포함되어 있는지 확인\n",
    "5 in A"
   ]
  },
  {
   "cell_type": "code",
   "execution_count": 6,
   "id": "b4f21339",
   "metadata": {},
   "outputs": [],
   "source": [
    "# Dictionary\n",
    "\n",
    "# 'mydict'라는 딕셔너리를 만드세요.\n",
    "d = {}"
   ]
  },
  {
   "cell_type": "code",
   "execution_count": 7,
   "id": "f5eb4c09",
   "metadata": {},
   "outputs": [
    {
     "data": {
      "text/plain": [
       "{'red': 4, 'blue': 3, 'green': 1}"
      ]
     },
     "execution_count": 7,
     "metadata": {},
     "output_type": "execute_result"
    }
   ],
   "source": [
    "# 'red':4, 'blue':3, 'green':1 세 요소를 추가하세요.\n",
    "d['red']=4   #없는  key에 값을 대입하면, 원소가 추가가 됨\n",
    "d['blue']=3\n",
    "d['green']=1\n",
    "d"
   ]
  },
  {
   "cell_type": "code",
   "execution_count": 77,
   "id": "2ea14411",
   "metadata": {},
   "outputs": [
    {
     "data": {
      "text/plain": [
       "{'red': 7, 'blue': 3, 'green': 1}"
      ]
     },
     "execution_count": 77,
     "metadata": {},
     "output_type": "execute_result"
    }
   ],
   "source": [
    "# key에 'blue'가 있는지 확인하세요.\n",
    "d['red'] = 7  #있는 key에 값을 대입하면, 기존의 값을 덮어 쓴다..\n",
    "d\n",
    "\n",
    "# 'blue' in d"
   ]
  },
  {
   "cell_type": "code",
   "execution_count": null,
   "id": "d570e569",
   "metadata": {},
   "outputs": [],
   "source": [
    "# mydict의 길이를 출력하세요.\n",
    "\n",
    "len(d)"
   ]
  },
  {
   "cell_type": "code",
   "execution_count": null,
   "id": "112bcecc",
   "metadata": {},
   "outputs": [],
   "source": [
    "# 'red'의 값을 출력하세요.\n",
    "d['red']"
   ]
  },
  {
   "cell_type": "code",
   "execution_count": null,
   "id": "18155bca",
   "metadata": {},
   "outputs": [],
   "source": [
    "# 'red'의 값을 10으로 수정하세요.\n",
    "d['red'] = 10\n",
    "d"
   ]
  },
  {
   "cell_type": "code",
   "execution_count": null,
   "id": "d7a5910e",
   "metadata": {},
   "outputs": [],
   "source": [
    "# key값만 출력하세요\n",
    "d.keys()"
   ]
  },
  {
   "cell_type": "code",
   "execution_count": null,
   "id": "763a8ac7",
   "metadata": {},
   "outputs": [],
   "source": [
    "# value값만 출력하세요\n",
    "d.values()"
   ]
  },
  {
   "cell_type": "code",
   "execution_count": 8,
   "id": "eb398cee",
   "metadata": {},
   "outputs": [
    {
     "data": {
      "text/plain": [
       "dict_items([('red', 4), ('blue', 3), ('green', 1)])"
      ]
     },
     "execution_count": 8,
     "metadata": {},
     "output_type": "execute_result"
    }
   ],
   "source": [
    "# key와 value를 튜플로 출력하세요.\n",
    "d.items()"
   ]
  },
  {
   "cell_type": "code",
   "execution_count": 78,
   "id": "996cce36",
   "metadata": {},
   "outputs": [
    {
     "data": {
      "text/plain": [
       "[('blue', 3), ('green', 1), ('red', 7)]"
      ]
     },
     "execution_count": 78,
     "metadata": {},
     "output_type": "execute_result"
    }
   ],
   "source": [
    "# (key기준으로 정렬하세요\n",
    "sorted(d.items(), key =lambda x:x[0])\n",
    "# sorted(d.items(), key =lambda x:x[1]) - value 기준 정렬"
   ]
  },
  {
   "cell_type": "code",
   "execution_count": null,
   "id": "8c4ac1e0",
   "metadata": {},
   "outputs": [],
   "source": [
    "# (value기준으로 정렬하세요)\n",
    "sorted(d.items(), key =lambda x:x[1])"
   ]
  },
  {
   "cell_type": "code",
   "execution_count": 18,
   "id": "124922e6",
   "metadata": {},
   "outputs": [
    {
     "data": {
      "text/plain": [
       "3"
      ]
     },
     "execution_count": 18,
     "metadata": {},
     "output_type": "execute_result"
    }
   ],
   "source": [
    "# key 'blue'요소를 삭제하세요\n",
    "d.pop('blue')"
   ]
  },
  {
   "cell_type": "code",
   "execution_count": null,
   "id": "2271566a",
   "metadata": {},
   "outputs": [],
   "source": [
    "# key 'pink'요소 값을 출력하되 오류가 없도록 하세요\n",
    "\n",
    "d.get('pink')\n",
    "\n",
    "# dict.get('key') - 없는 key를 요청 시 에러를 발생시키지 않는다\n",
    "# dict['key'] - 없는 key 를 요청시 에러발생\n",
    "# dict.setdefault('key', value) - key가 존재하면  value를 리턴, 없는 key라면 (key, value) 원소를 추가"
   ]
  },
  {
   "cell_type": "code",
   "execution_count": 20,
   "id": "80d9f9f3",
   "metadata": {},
   "outputs": [
    {
     "data": {
      "text/plain": [
       "{'red': 4, 'green': 1, 'pink': 20}"
      ]
     },
     "execution_count": 20,
     "metadata": {},
     "output_type": "execute_result"
    }
   ],
   "source": [
    "# key 'pink' 값을 출력하되 없으면, value 20으로 새로이 추가하세요\n",
    "d.setdefault('red', 100)\n",
    "d.setdefault('pink', 20)\n",
    "d"
   ]
  },
  {
   "cell_type": "code",
   "execution_count": 83,
   "id": "04435d64",
   "metadata": {},
   "outputs": [
    {
     "data": {
      "text/plain": [
       "True"
      ]
     },
     "execution_count": 83,
     "metadata": {},
     "output_type": "execute_result"
    }
   ],
   "source": [
    "# value에 20이 있는지 확인하세요.\n",
    "20 in d.values()"
   ]
  },
  {
   "cell_type": "code",
   "execution_count": null,
   "id": "c9a9417c",
   "metadata": {},
   "outputs": [],
   "source": [
    "# key는 'yellow'에 value는 30을 추가하세요.\n",
    "d['yellow'] = 30"
   ]
  },
  {
   "cell_type": "code",
   "execution_count": 86,
   "id": "8e21cfd4",
   "metadata": {},
   "outputs": [
    {
     "data": {
      "text/plain": [
       "{'red': 7, 'green': 1, 'pink': 20, '파랑': 50, '빨강': 70}"
      ]
     },
     "execution_count": 86,
     "metadata": {},
     "output_type": "execute_result"
    }
   ],
   "source": [
    "# yourdict = {'파랑':50, '빨강':70}을 합하세요..\n",
    "yourdict = {'파랑':50, '빨강':70}\n",
    "d.update(yourdict)\n",
    "d"
   ]
  },
  {
   "cell_type": "code",
   "execution_count": null,
   "id": "4772205d",
   "metadata": {},
   "outputs": [],
   "source": []
  },
  {
   "cell_type": "code",
   "execution_count": null,
   "id": "ab71cc2a",
   "metadata": {},
   "outputs": [],
   "source": []
  },
  {
   "cell_type": "code",
   "execution_count": null,
   "id": "ad5c28a4",
   "metadata": {},
   "outputs": [],
   "source": []
  },
  {
   "cell_type": "code",
   "execution_count": null,
   "id": "d6df3dd1",
   "metadata": {},
   "outputs": [],
   "source": []
  }
 ],
 "metadata": {
  "kernelspec": {
   "display_name": "Python 3 (ipykernel)",
   "language": "python",
   "name": "python3"
  },
  "language_info": {
   "codemirror_mode": {
    "name": "ipython",
    "version": 3
   },
   "file_extension": ".py",
   "mimetype": "text/x-python",
   "name": "python",
   "nbconvert_exporter": "python",
   "pygments_lexer": "ipython3",
   "version": "3.9.7"
  }
 },
 "nbformat": 4,
 "nbformat_minor": 5
}
