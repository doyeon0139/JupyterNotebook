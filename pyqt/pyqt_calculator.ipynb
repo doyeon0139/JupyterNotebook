{
 "cells": [
  {
   "cell_type": "code",
   "execution_count": 1,
   "metadata": {},
   "outputs": [
    {
     "name": "stdout",
     "output_type": "stream",
     "text": [
      "['C:\\\\Users\\\\User\\\\Anaconda3\\\\lib\\\\site-packages\\\\ipykernel_launcher.py', '-f', 'C:\\\\Users\\\\User\\\\AppData\\\\Roaming\\\\jupyter\\\\runtime\\\\kernel-cb8591ed-7053-4eb4-a63c-de1fcfe3586b.json']\n"
     ]
    },
    {
     "data": {
      "text/plain": [
       "'\\n이 문장을 주석처리(문장 앞에 #, PyCharm에서 ctrl + /)하고 코드를 실행시켜보면,\\n창이 0.1초만에 띄워졌다가 사라지는 모습을 볼 수 있습니다...\\n이벤트 루프는 프로그램을 무한루프 안에서 계속 실행시켜 줌과 동시에, 프로그램 안에서 벌어지는 \\n이벤트를 받아 처리 해 주는 고마운 녀석입니다.\\n우리가 클릭했을 때 그걸 받아 프로그램을 제어하게끔 호잇호잇 값을 받고 던지고 합니다\\n'"
      ]
     },
     "execution_count": 1,
     "metadata": {},
     "output_type": "execute_result"
    }
   ],
   "source": [
    "# -*- coding: utf-8 -*-\n",
    "\n",
    "import sys       # import sys는 말 그대로 sys 파일을 불러오겠다는 의미\n",
    "import PyQt5\n",
    "from PyQt5.QtGui import *   # from~ import~ 에서는 import 뒤에있는 값이 클래스, 변수가 됩니다.\n",
    "from PyQt5.QtCore import *\n",
    "from PyQt5.QtWidgets import * #  from PyQt5.QtGui import * 은 PyQt5 폴더의 QtGui 파일에서 모든 클래스와 함수를 불러오겠다는 의미\n",
    "\n",
    "class MainDialog(QDialog):   # QDialog를 상속받는 MainDialog 클래스를 새로 선언\n",
    "    def __init__(self):\n",
    "        QDialog.__init__(self, None)\n",
    "            \n",
    "app = QApplication(sys.argv)  # app이라는 변수를 QApplication의 클래스를 상속받는 애야 하고 선언\n",
    "\n",
    "print(sys.argv)  # 파일의 절대경로\n",
    "main_dialog = MainDialog()\n",
    "main_dialog.show()  # QDialog.show() 메서드(함수)는 QDialog 창을 직접 띄우는, 말그대로 show 하는 역할을 하는 함수\n",
    "\n"
   ]
  },
  {
   "cell_type": "code",
   "execution_count": 1,
   "metadata": {},
   "outputs": [],
   "source": [
    "import sys       # import sys는 말 그대로 sys 파일을 불러오겠다는 의미\n",
    "import PyQt5\n",
    "from PyQt5.QtGui import *   # from~ import~ 에서는 import 뒤에있는 값이 클래스, 변수가 됩니다.\n",
    "from PyQt5.QtCore import *\n",
    "from PyQt5.QtWidgets import * #  from PyQt5.QtGui import * 은 PyQt5 폴더의 QtGui 파일에서 모든 클래스와 함수를 불러오겠다는 의미\n",
    "\n",
    "class MainDialog(QDialog):   # QDialog를 상속받는 MainDialog 클래스를 새로 선언\n",
    "    def __init__(self):\n",
    "        QDialog.__init__(self, None)\n",
    "        self.setFixedSize(300, 200)\n",
    "        self.lineEdit = QLineEdit(self)\n",
    "        self.pushButton = QPushButton(self)\n",
    "        self.pushButton.move(0, 100)\n",
    "\n",
    "app = QApplication(sys.argv)  \n",
    "\n",
    "main_dialog = MainDialog()\n",
    "main_dialog.show()"
   ]
  },
  {
   "cell_type": "code",
   "execution_count": null,
   "metadata": {},
   "outputs": [],
   "source": []
  },
  {
   "cell_type": "code",
   "execution_count": null,
   "metadata": {},
   "outputs": [],
   "source": []
  },
  {
   "cell_type": "code",
   "execution_count": null,
   "metadata": {},
   "outputs": [],
   "source": []
  },
  {
   "cell_type": "code",
   "execution_count": null,
   "metadata": {},
   "outputs": [],
   "source": []
  },
  {
   "cell_type": "code",
   "execution_count": null,
   "metadata": {},
   "outputs": [],
   "source": []
  },
  {
   "cell_type": "code",
   "execution_count": null,
   "metadata": {},
   "outputs": [],
   "source": []
  },
  {
   "cell_type": "code",
   "execution_count": null,
   "metadata": {},
   "outputs": [],
   "source": []
  },
  {
   "cell_type": "code",
   "execution_count": null,
   "metadata": {},
   "outputs": [],
   "source": []
  }
 ],
 "metadata": {
  "kernelspec": {
   "display_name": "Python 3",
   "language": "python",
   "name": "python3"
  },
  "language_info": {
   "codemirror_mode": {
    "name": "ipython",
    "version": 3
   },
   "file_extension": ".py",
   "mimetype": "text/x-python",
   "name": "python",
   "nbconvert_exporter": "python",
   "pygments_lexer": "ipython3",
   "version": "3.8.5"
  }
 },
 "nbformat": 4,
 "nbformat_minor": 2
}
