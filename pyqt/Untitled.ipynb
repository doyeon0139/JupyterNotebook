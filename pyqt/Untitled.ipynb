{
 "cells": [
  {
   "cell_type": "code",
   "execution_count": null,
   "metadata": {},
   "outputs": [],
   "source": []
  },
  {
   "cell_type": "code",
   "execution_count": 1,
   "metadata": {},
   "outputs": [
    {
     "name": "stdout",
     "output_type": "stream",
     "text": [
      "['C:\\\\Users\\\\User\\\\anaconda3\\\\lib\\\\site-packages\\\\ipykernel_launcher.py', '-f', 'C:\\\\Users\\\\User\\\\AppData\\\\Roaming\\\\jupyter\\\\runtime\\\\kernel-e6576516-eb47-40aa-a7a5-37185fffc31c.json']\n"
     ]
    },
    {
     "data": {
      "text/plain": [
       "'\\n이 문장을 주석처리(문장 앞에 #, PyCharm에서 ctrl + /)하고 코드를 실행시켜보면,\\n창이 0.1초만에 띄워졌다가 사라지는 모습을 볼 수 있습니다...\\n이벤트 루프는 프로그램을 무한루프 안에서 계속 실행시켜 줌과 동시에, 프로그램 안에서 벌어지는 \\n이벤트를 받아 처리 해 주는 고마운 녀석입니다.\\n우리가 클릭했을 때 그걸 받아 프로그램을 제어하게끔 호잇호잇 값을 받고 던지고 합니다\\n'"
      ]
     },
     "execution_count": 1,
     "metadata": {},
     "output_type": "execute_result"
    }
   ],
   "source": [
    "# -*- coding: utf-8 -*-\n",
    "\n",
    "# pip install pyqt5\n",
    "# c:\\programdata\\anaconda3\\library\\bin\\design.exe\n",
    "\n",
    "import sys       # import sys는 말 그대로 sys 파일을 불러오겠다는 의미\n",
    "import PyQt5\n",
    "from PyQt5.QtGui import *   # from~ import~ 에서는 import 뒤에있는 값이 클래스, 변수가 됩니다.\n",
    "from PyQt5.QtCore import *\n",
    "from PyQt5.QtWidgets import * #  from PyQt5.QtGui import * 은 PyQt5 폴더의 QtGui 파일에서 모든 클래스와 함수를 불러오겠다는 의미\n",
    "\n",
    "class MainDialog(QDialog):   # QDialog를 상속받는 MainDialog 클래스를 새로 선언\n",
    "    def __init__(self):\n",
    "        QDialog.__init__(self, None)   # QDialog의 생성자 함수를 가져와서 생성자함수를 만든다\n",
    "            \n",
    "app = QApplication(sys.argv)  # app이라는 변수를 QApplication의 클래스를 상속받는 애야 하고 선언\n",
    "# QApplication은 기본적으로 이 코드를 우리 컴퓨터에 실제로 실행시키는 역할을 하는 클래스\n",
    "# QApplication 클래스의 __init__의 변수에 파일의 절대경로를 값으로 주어 지금 파일을 실제로 화면에 띄워주는거죠!\n",
    "print(sys.argv)  # 파일의 절대경로\n",
    "main_dialog = MainDialog()\n",
    "main_dialog.show()  # QDialog.show() 메서드(함수)는 QDialog 창을 직접 띄우는, 말그대로 show 하는 역할을 하는 함수\n",
    "app.exec_()  # 메서드는 프로그램을 이벤트 루프로 진입시키는 메서드\n",
    "\n",
    "# ctrl+shift+F10 => run\n",
    "'''\n",
    "이 문장을 주석처리(문장 앞에 #, PyCharm에서 ctrl + /)하고 코드를 실행시켜보면,\n",
    "창이 0.1초만에 띄워졌다가 사라지는 모습을 볼 수 있습니다...\n",
    "이벤트 루프는 프로그램을 무한루프 안에서 계속 실행시켜 줌과 동시에, 프로그램 안에서 벌어지는 \n",
    "이벤트를 받아 처리 해 주는 고마운 녀석입니다.\n",
    "우리가 클릭했을 때 그걸 받아 프로그램을 제어하게끔 호잇호잇 값을 받고 던지고 합니다\n",
    "'''"
   ]
  },
  {
   "cell_type": "code",
   "execution_count": null,
   "metadata": {},
   "outputs": [],
   "source": []
  },
  {
   "cell_type": "code",
   "execution_count": null,
   "metadata": {},
   "outputs": [],
   "source": []
  },
  {
   "cell_type": "code",
   "execution_count": null,
   "metadata": {},
   "outputs": [],
   "source": []
  },
  {
   "cell_type": "code",
   "execution_count": null,
   "metadata": {},
   "outputs": [],
   "source": []
  },
  {
   "cell_type": "code",
   "execution_count": null,
   "metadata": {},
   "outputs": [],
   "source": []
  },
  {
   "cell_type": "code",
   "execution_count": null,
   "metadata": {},
   "outputs": [],
   "source": []
  },
  {
   "cell_type": "code",
   "execution_count": null,
   "metadata": {},
   "outputs": [],
   "source": []
  },
  {
   "cell_type": "code",
   "execution_count": null,
   "metadata": {},
   "outputs": [],
   "source": []
  }
 ],
 "metadata": {
  "kernelspec": {
   "display_name": "Python 3",
   "language": "python",
   "name": "python3"
  },
  "language_info": {
   "codemirror_mode": {
    "name": "ipython",
    "version": 3
   },
   "file_extension": ".py",
   "mimetype": "text/x-python",
   "name": "python",
   "nbconvert_exporter": "python",
   "pygments_lexer": "ipython3",
   "version": "3.8.5"
  }
 },
 "nbformat": 4,
 "nbformat_minor": 4
}
