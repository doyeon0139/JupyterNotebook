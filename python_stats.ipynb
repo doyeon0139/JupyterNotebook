{
 "cells": [
  {
   "cell_type": "code",
   "execution_count": 1,
   "id": "f2b84cc9",
   "metadata": {},
   "outputs": [],
   "source": [
    "#C:/Users\\bitcamp/Desktop/deep_data/통계데이터"
   ]
  },
  {
   "cell_type": "code",
   "execution_count": 2,
   "id": "44131cc8",
   "metadata": {},
   "outputs": [],
   "source": [
    "import pandas as pd\n",
    "import numpy as np\n",
    "import matplotlib.pyplot as plt\n",
    "import seaborn as sns"
   ]
  },
  {
   "cell_type": "code",
   "execution_count": 3,
   "id": "93c14372",
   "metadata": {},
   "outputs": [],
   "source": [
    "import scipy as sp"
   ]
  },
  {
   "cell_type": "code",
   "execution_count": 4,
   "id": "31fbdbf9",
   "metadata": {
    "collapsed": true
   },
   "outputs": [
    {
     "ename": "ValueError",
     "evalue": "Precision must be int or format string, not '3 # 소수점 3자리까지 표현'",
     "output_type": "error",
     "traceback": [
      "\u001b[1;31m---------------------------------------------------------------------------\u001b[0m",
      "\u001b[1;31mValueError\u001b[0m                                Traceback (most recent call last)",
      "\u001b[1;32m~\\Anaconda3\\lib\\site-packages\\IPython\\core\\formatters.py\u001b[0m in \u001b[0;36m_float_precision_changed\u001b[1;34m(self, change)\u001b[0m\n\u001b[0;32m    650\u001b[0m             \u001b[1;32mtry\u001b[0m\u001b[1;33m:\u001b[0m\u001b[1;33m\u001b[0m\u001b[1;33m\u001b[0m\u001b[0m\n\u001b[1;32m--> 651\u001b[1;33m                 \u001b[0mi\u001b[0m \u001b[1;33m=\u001b[0m \u001b[0mint\u001b[0m\u001b[1;33m(\u001b[0m\u001b[0mnew\u001b[0m\u001b[1;33m)\u001b[0m\u001b[1;33m\u001b[0m\u001b[1;33m\u001b[0m\u001b[0m\n\u001b[0m\u001b[0;32m    652\u001b[0m                 \u001b[1;32massert\u001b[0m \u001b[0mi\u001b[0m \u001b[1;33m>=\u001b[0m \u001b[1;36m0\u001b[0m\u001b[1;33m\u001b[0m\u001b[1;33m\u001b[0m\u001b[0m\n",
      "\u001b[1;31mValueError\u001b[0m: invalid literal for int() with base 10: '3 # 소수점 3자리까지 표현'",
      "\nDuring handling of the above exception, another exception occurred:\n",
      "\u001b[1;31mValueError\u001b[0m                                Traceback (most recent call last)",
      "\u001b[1;32m~\\AppData\\Local\\Temp/ipykernel_15776/278410586.py\u001b[0m in \u001b[0;36m<module>\u001b[1;34m\u001b[0m\n\u001b[1;32m----> 1\u001b[1;33m \u001b[0mget_ipython\u001b[0m\u001b[1;33m(\u001b[0m\u001b[1;33m)\u001b[0m\u001b[1;33m.\u001b[0m\u001b[0mrun_line_magic\u001b[0m\u001b[1;33m(\u001b[0m\u001b[1;34m'precision'\u001b[0m\u001b[1;33m,\u001b[0m \u001b[1;34m'3 # 소수점 3자리까지 표현'\u001b[0m\u001b[1;33m)\u001b[0m\u001b[1;33m\u001b[0m\u001b[1;33m\u001b[0m\u001b[0m\n\u001b[0m",
      "\u001b[1;32m~\\Anaconda3\\lib\\site-packages\\IPython\\core\\interactiveshell.py\u001b[0m in \u001b[0;36mrun_line_magic\u001b[1;34m(self, magic_name, line, _stack_depth)\u001b[0m\n\u001b[0;32m   2349\u001b[0m                 \u001b[0mkwargs\u001b[0m\u001b[1;33m[\u001b[0m\u001b[1;34m'local_ns'\u001b[0m\u001b[1;33m]\u001b[0m \u001b[1;33m=\u001b[0m \u001b[0mself\u001b[0m\u001b[1;33m.\u001b[0m\u001b[0mget_local_scope\u001b[0m\u001b[1;33m(\u001b[0m\u001b[0mstack_depth\u001b[0m\u001b[1;33m)\u001b[0m\u001b[1;33m\u001b[0m\u001b[1;33m\u001b[0m\u001b[0m\n\u001b[0;32m   2350\u001b[0m             \u001b[1;32mwith\u001b[0m \u001b[0mself\u001b[0m\u001b[1;33m.\u001b[0m\u001b[0mbuiltin_trap\u001b[0m\u001b[1;33m:\u001b[0m\u001b[1;33m\u001b[0m\u001b[1;33m\u001b[0m\u001b[0m\n\u001b[1;32m-> 2351\u001b[1;33m                 \u001b[0mresult\u001b[0m \u001b[1;33m=\u001b[0m \u001b[0mfn\u001b[0m\u001b[1;33m(\u001b[0m\u001b[1;33m*\u001b[0m\u001b[0margs\u001b[0m\u001b[1;33m,\u001b[0m \u001b[1;33m**\u001b[0m\u001b[0mkwargs\u001b[0m\u001b[1;33m)\u001b[0m\u001b[1;33m\u001b[0m\u001b[1;33m\u001b[0m\u001b[0m\n\u001b[0m\u001b[0;32m   2352\u001b[0m             \u001b[1;32mreturn\u001b[0m \u001b[0mresult\u001b[0m\u001b[1;33m\u001b[0m\u001b[1;33m\u001b[0m\u001b[0m\n\u001b[0;32m   2353\u001b[0m \u001b[1;33m\u001b[0m\u001b[0m\n",
      "\u001b[1;32m~\\Anaconda3\\lib\\site-packages\\decorator.py\u001b[0m in \u001b[0;36mfun\u001b[1;34m(*args, **kw)\u001b[0m\n\u001b[0;32m    230\u001b[0m             \u001b[1;32mif\u001b[0m \u001b[1;32mnot\u001b[0m \u001b[0mkwsyntax\u001b[0m\u001b[1;33m:\u001b[0m\u001b[1;33m\u001b[0m\u001b[1;33m\u001b[0m\u001b[0m\n\u001b[0;32m    231\u001b[0m                 \u001b[0margs\u001b[0m\u001b[1;33m,\u001b[0m \u001b[0mkw\u001b[0m \u001b[1;33m=\u001b[0m \u001b[0mfix\u001b[0m\u001b[1;33m(\u001b[0m\u001b[0margs\u001b[0m\u001b[1;33m,\u001b[0m \u001b[0mkw\u001b[0m\u001b[1;33m,\u001b[0m \u001b[0msig\u001b[0m\u001b[1;33m)\u001b[0m\u001b[1;33m\u001b[0m\u001b[1;33m\u001b[0m\u001b[0m\n\u001b[1;32m--> 232\u001b[1;33m             \u001b[1;32mreturn\u001b[0m \u001b[0mcaller\u001b[0m\u001b[1;33m(\u001b[0m\u001b[0mfunc\u001b[0m\u001b[1;33m,\u001b[0m \u001b[1;33m*\u001b[0m\u001b[1;33m(\u001b[0m\u001b[0mextras\u001b[0m \u001b[1;33m+\u001b[0m \u001b[0margs\u001b[0m\u001b[1;33m)\u001b[0m\u001b[1;33m,\u001b[0m \u001b[1;33m**\u001b[0m\u001b[0mkw\u001b[0m\u001b[1;33m)\u001b[0m\u001b[1;33m\u001b[0m\u001b[1;33m\u001b[0m\u001b[0m\n\u001b[0m\u001b[0;32m    233\u001b[0m     \u001b[0mfun\u001b[0m\u001b[1;33m.\u001b[0m\u001b[0m__name__\u001b[0m \u001b[1;33m=\u001b[0m \u001b[0mfunc\u001b[0m\u001b[1;33m.\u001b[0m\u001b[0m__name__\u001b[0m\u001b[1;33m\u001b[0m\u001b[1;33m\u001b[0m\u001b[0m\n\u001b[0;32m    234\u001b[0m     \u001b[0mfun\u001b[0m\u001b[1;33m.\u001b[0m\u001b[0m__doc__\u001b[0m \u001b[1;33m=\u001b[0m \u001b[0mfunc\u001b[0m\u001b[1;33m.\u001b[0m\u001b[0m__doc__\u001b[0m\u001b[1;33m\u001b[0m\u001b[1;33m\u001b[0m\u001b[0m\n",
      "\u001b[1;32m~\\Anaconda3\\lib\\site-packages\\IPython\\core\\magic.py\u001b[0m in \u001b[0;36m<lambda>\u001b[1;34m(f, *a, **k)\u001b[0m\n\u001b[0;32m    185\u001b[0m     \u001b[1;31m# but it's overkill for just that one bit of state.\u001b[0m\u001b[1;33m\u001b[0m\u001b[1;33m\u001b[0m\u001b[0m\n\u001b[0;32m    186\u001b[0m     \u001b[1;32mdef\u001b[0m \u001b[0mmagic_deco\u001b[0m\u001b[1;33m(\u001b[0m\u001b[0marg\u001b[0m\u001b[1;33m)\u001b[0m\u001b[1;33m:\u001b[0m\u001b[1;33m\u001b[0m\u001b[1;33m\u001b[0m\u001b[0m\n\u001b[1;32m--> 187\u001b[1;33m         \u001b[0mcall\u001b[0m \u001b[1;33m=\u001b[0m \u001b[1;32mlambda\u001b[0m \u001b[0mf\u001b[0m\u001b[1;33m,\u001b[0m \u001b[1;33m*\u001b[0m\u001b[0ma\u001b[0m\u001b[1;33m,\u001b[0m \u001b[1;33m**\u001b[0m\u001b[0mk\u001b[0m\u001b[1;33m:\u001b[0m \u001b[0mf\u001b[0m\u001b[1;33m(\u001b[0m\u001b[1;33m*\u001b[0m\u001b[0ma\u001b[0m\u001b[1;33m,\u001b[0m \u001b[1;33m**\u001b[0m\u001b[0mk\u001b[0m\u001b[1;33m)\u001b[0m\u001b[1;33m\u001b[0m\u001b[1;33m\u001b[0m\u001b[0m\n\u001b[0m\u001b[0;32m    188\u001b[0m \u001b[1;33m\u001b[0m\u001b[0m\n\u001b[0;32m    189\u001b[0m         \u001b[1;32mif\u001b[0m \u001b[0mcallable\u001b[0m\u001b[1;33m(\u001b[0m\u001b[0marg\u001b[0m\u001b[1;33m)\u001b[0m\u001b[1;33m:\u001b[0m\u001b[1;33m\u001b[0m\u001b[1;33m\u001b[0m\u001b[0m\n",
      "\u001b[1;32m~\\Anaconda3\\lib\\site-packages\\IPython\\core\\magics\\basic.py\u001b[0m in \u001b[0;36mprecision\u001b[1;34m(self, s)\u001b[0m\n\u001b[0;32m    556\u001b[0m         \"\"\"\n\u001b[0;32m    557\u001b[0m         \u001b[0mptformatter\u001b[0m \u001b[1;33m=\u001b[0m \u001b[0mself\u001b[0m\u001b[1;33m.\u001b[0m\u001b[0mshell\u001b[0m\u001b[1;33m.\u001b[0m\u001b[0mdisplay_formatter\u001b[0m\u001b[1;33m.\u001b[0m\u001b[0mformatters\u001b[0m\u001b[1;33m[\u001b[0m\u001b[1;34m'text/plain'\u001b[0m\u001b[1;33m]\u001b[0m\u001b[1;33m\u001b[0m\u001b[1;33m\u001b[0m\u001b[0m\n\u001b[1;32m--> 558\u001b[1;33m         \u001b[0mptformatter\u001b[0m\u001b[1;33m.\u001b[0m\u001b[0mfloat_precision\u001b[0m \u001b[1;33m=\u001b[0m \u001b[0ms\u001b[0m\u001b[1;33m\u001b[0m\u001b[1;33m\u001b[0m\u001b[0m\n\u001b[0m\u001b[0;32m    559\u001b[0m         \u001b[1;32mreturn\u001b[0m \u001b[0mptformatter\u001b[0m\u001b[1;33m.\u001b[0m\u001b[0mfloat_format\u001b[0m\u001b[1;33m\u001b[0m\u001b[1;33m\u001b[0m\u001b[0m\n\u001b[0;32m    560\u001b[0m \u001b[1;33m\u001b[0m\u001b[0m\n",
      "\u001b[1;32m~\\Anaconda3\\lib\\site-packages\\traitlets\\traitlets.py\u001b[0m in \u001b[0;36m__set__\u001b[1;34m(self, obj, value)\u001b[0m\n\u001b[0;32m    604\u001b[0m             \u001b[1;32mraise\u001b[0m \u001b[0mTraitError\u001b[0m\u001b[1;33m(\u001b[0m\u001b[1;34m'The \"%s\" trait is read-only.'\u001b[0m \u001b[1;33m%\u001b[0m \u001b[0mself\u001b[0m\u001b[1;33m.\u001b[0m\u001b[0mname\u001b[0m\u001b[1;33m)\u001b[0m\u001b[1;33m\u001b[0m\u001b[1;33m\u001b[0m\u001b[0m\n\u001b[0;32m    605\u001b[0m         \u001b[1;32melse\u001b[0m\u001b[1;33m:\u001b[0m\u001b[1;33m\u001b[0m\u001b[1;33m\u001b[0m\u001b[0m\n\u001b[1;32m--> 606\u001b[1;33m             \u001b[0mself\u001b[0m\u001b[1;33m.\u001b[0m\u001b[0mset\u001b[0m\u001b[1;33m(\u001b[0m\u001b[0mobj\u001b[0m\u001b[1;33m,\u001b[0m \u001b[0mvalue\u001b[0m\u001b[1;33m)\u001b[0m\u001b[1;33m\u001b[0m\u001b[1;33m\u001b[0m\u001b[0m\n\u001b[0m\u001b[0;32m    607\u001b[0m \u001b[1;33m\u001b[0m\u001b[0m\n\u001b[0;32m    608\u001b[0m     \u001b[1;32mdef\u001b[0m \u001b[0m_validate\u001b[0m\u001b[1;33m(\u001b[0m\u001b[0mself\u001b[0m\u001b[1;33m,\u001b[0m \u001b[0mobj\u001b[0m\u001b[1;33m,\u001b[0m \u001b[0mvalue\u001b[0m\u001b[1;33m)\u001b[0m\u001b[1;33m:\u001b[0m\u001b[1;33m\u001b[0m\u001b[1;33m\u001b[0m\u001b[0m\n",
      "\u001b[1;32m~\\Anaconda3\\lib\\site-packages\\traitlets\\traitlets.py\u001b[0m in \u001b[0;36mset\u001b[1;34m(self, obj, value)\u001b[0m\n\u001b[0;32m    593\u001b[0m             \u001b[1;31m# we explicitly compare silent to True just in case the equality\u001b[0m\u001b[1;33m\u001b[0m\u001b[1;33m\u001b[0m\u001b[0m\n\u001b[0;32m    594\u001b[0m             \u001b[1;31m# comparison above returns something other than True/False\u001b[0m\u001b[1;33m\u001b[0m\u001b[1;33m\u001b[0m\u001b[0m\n\u001b[1;32m--> 595\u001b[1;33m             \u001b[0mobj\u001b[0m\u001b[1;33m.\u001b[0m\u001b[0m_notify_trait\u001b[0m\u001b[1;33m(\u001b[0m\u001b[0mself\u001b[0m\u001b[1;33m.\u001b[0m\u001b[0mname\u001b[0m\u001b[1;33m,\u001b[0m \u001b[0mold_value\u001b[0m\u001b[1;33m,\u001b[0m \u001b[0mnew_value\u001b[0m\u001b[1;33m)\u001b[0m\u001b[1;33m\u001b[0m\u001b[1;33m\u001b[0m\u001b[0m\n\u001b[0m\u001b[0;32m    596\u001b[0m \u001b[1;33m\u001b[0m\u001b[0m\n\u001b[0;32m    597\u001b[0m     \u001b[1;32mdef\u001b[0m \u001b[0m__set__\u001b[0m\u001b[1;33m(\u001b[0m\u001b[0mself\u001b[0m\u001b[1;33m,\u001b[0m \u001b[0mobj\u001b[0m\u001b[1;33m,\u001b[0m \u001b[0mvalue\u001b[0m\u001b[1;33m)\u001b[0m\u001b[1;33m:\u001b[0m\u001b[1;33m\u001b[0m\u001b[1;33m\u001b[0m\u001b[0m\n",
      "\u001b[1;32m~\\Anaconda3\\lib\\site-packages\\traitlets\\traitlets.py\u001b[0m in \u001b[0;36m_notify_trait\u001b[1;34m(self, name, old_value, new_value)\u001b[0m\n\u001b[0;32m   1217\u001b[0m \u001b[1;33m\u001b[0m\u001b[0m\n\u001b[0;32m   1218\u001b[0m     \u001b[1;32mdef\u001b[0m \u001b[0m_notify_trait\u001b[0m\u001b[1;33m(\u001b[0m\u001b[0mself\u001b[0m\u001b[1;33m,\u001b[0m \u001b[0mname\u001b[0m\u001b[1;33m,\u001b[0m \u001b[0mold_value\u001b[0m\u001b[1;33m,\u001b[0m \u001b[0mnew_value\u001b[0m\u001b[1;33m)\u001b[0m\u001b[1;33m:\u001b[0m\u001b[1;33m\u001b[0m\u001b[1;33m\u001b[0m\u001b[0m\n\u001b[1;32m-> 1219\u001b[1;33m         self.notify_change(Bunch(\n\u001b[0m\u001b[0;32m   1220\u001b[0m             \u001b[0mname\u001b[0m\u001b[1;33m=\u001b[0m\u001b[0mname\u001b[0m\u001b[1;33m,\u001b[0m\u001b[1;33m\u001b[0m\u001b[1;33m\u001b[0m\u001b[0m\n\u001b[0;32m   1221\u001b[0m             \u001b[0mold\u001b[0m\u001b[1;33m=\u001b[0m\u001b[0mold_value\u001b[0m\u001b[1;33m,\u001b[0m\u001b[1;33m\u001b[0m\u001b[1;33m\u001b[0m\u001b[0m\n",
      "\u001b[1;32m~\\Anaconda3\\lib\\site-packages\\traitlets\\traitlets.py\u001b[0m in \u001b[0;36mnotify_change\u001b[1;34m(self, change)\u001b[0m\n\u001b[0;32m   1227\u001b[0m     \u001b[1;32mdef\u001b[0m \u001b[0mnotify_change\u001b[0m\u001b[1;33m(\u001b[0m\u001b[0mself\u001b[0m\u001b[1;33m,\u001b[0m \u001b[0mchange\u001b[0m\u001b[1;33m)\u001b[0m\u001b[1;33m:\u001b[0m\u001b[1;33m\u001b[0m\u001b[1;33m\u001b[0m\u001b[0m\n\u001b[0;32m   1228\u001b[0m         \u001b[1;34m\"\"\"Notify observers of a change event\"\"\"\u001b[0m\u001b[1;33m\u001b[0m\u001b[1;33m\u001b[0m\u001b[0m\n\u001b[1;32m-> 1229\u001b[1;33m         \u001b[1;32mreturn\u001b[0m \u001b[0mself\u001b[0m\u001b[1;33m.\u001b[0m\u001b[0m_notify_observers\u001b[0m\u001b[1;33m(\u001b[0m\u001b[0mchange\u001b[0m\u001b[1;33m)\u001b[0m\u001b[1;33m\u001b[0m\u001b[1;33m\u001b[0m\u001b[0m\n\u001b[0m\u001b[0;32m   1230\u001b[0m \u001b[1;33m\u001b[0m\u001b[0m\n\u001b[0;32m   1231\u001b[0m     \u001b[1;32mdef\u001b[0m \u001b[0m_notify_observers\u001b[0m\u001b[1;33m(\u001b[0m\u001b[0mself\u001b[0m\u001b[1;33m,\u001b[0m \u001b[0mevent\u001b[0m\u001b[1;33m)\u001b[0m\u001b[1;33m:\u001b[0m\u001b[1;33m\u001b[0m\u001b[1;33m\u001b[0m\u001b[0m\n",
      "\u001b[1;32m~\\Anaconda3\\lib\\site-packages\\traitlets\\traitlets.py\u001b[0m in \u001b[0;36m_notify_observers\u001b[1;34m(self, event)\u001b[0m\n\u001b[0;32m   1264\u001b[0m                 \u001b[0mc\u001b[0m \u001b[1;33m=\u001b[0m \u001b[0mgetattr\u001b[0m\u001b[1;33m(\u001b[0m\u001b[0mself\u001b[0m\u001b[1;33m,\u001b[0m \u001b[0mc\u001b[0m\u001b[1;33m.\u001b[0m\u001b[0mname\u001b[0m\u001b[1;33m)\u001b[0m\u001b[1;33m\u001b[0m\u001b[1;33m\u001b[0m\u001b[0m\n\u001b[0;32m   1265\u001b[0m \u001b[1;33m\u001b[0m\u001b[0m\n\u001b[1;32m-> 1266\u001b[1;33m             \u001b[0mc\u001b[0m\u001b[1;33m(\u001b[0m\u001b[0mevent\u001b[0m\u001b[1;33m)\u001b[0m\u001b[1;33m\u001b[0m\u001b[1;33m\u001b[0m\u001b[0m\n\u001b[0m\u001b[0;32m   1267\u001b[0m \u001b[1;33m\u001b[0m\u001b[0m\n\u001b[0;32m   1268\u001b[0m     \u001b[1;32mdef\u001b[0m \u001b[0m_add_notifiers\u001b[0m\u001b[1;33m(\u001b[0m\u001b[0mself\u001b[0m\u001b[1;33m,\u001b[0m \u001b[0mhandler\u001b[0m\u001b[1;33m,\u001b[0m \u001b[0mname\u001b[0m\u001b[1;33m,\u001b[0m \u001b[0mtype\u001b[0m\u001b[1;33m)\u001b[0m\u001b[1;33m:\u001b[0m\u001b[1;33m\u001b[0m\u001b[1;33m\u001b[0m\u001b[0m\n",
      "\u001b[1;32m~\\Anaconda3\\lib\\site-packages\\IPython\\core\\formatters.py\u001b[0m in \u001b[0;36m_float_precision_changed\u001b[1;34m(self, change)\u001b[0m\n\u001b[0;32m    652\u001b[0m                 \u001b[1;32massert\u001b[0m \u001b[0mi\u001b[0m \u001b[1;33m>=\u001b[0m \u001b[1;36m0\u001b[0m\u001b[1;33m\u001b[0m\u001b[1;33m\u001b[0m\u001b[0m\n\u001b[0;32m    653\u001b[0m             \u001b[1;32mexcept\u001b[0m \u001b[0mValueError\u001b[0m\u001b[1;33m:\u001b[0m\u001b[1;33m\u001b[0m\u001b[1;33m\u001b[0m\u001b[0m\n\u001b[1;32m--> 654\u001b[1;33m                 \u001b[1;32mraise\u001b[0m \u001b[0mValueError\u001b[0m\u001b[1;33m(\u001b[0m\u001b[1;34m\"Precision must be int or format string, not %r\"\u001b[0m\u001b[1;33m%\u001b[0m\u001b[0mnew\u001b[0m\u001b[1;33m)\u001b[0m\u001b[1;33m\u001b[0m\u001b[1;33m\u001b[0m\u001b[0m\n\u001b[0m\u001b[0;32m    655\u001b[0m             \u001b[1;32mexcept\u001b[0m \u001b[0mAssertionError\u001b[0m\u001b[1;33m:\u001b[0m\u001b[1;33m\u001b[0m\u001b[1;33m\u001b[0m\u001b[0m\n\u001b[0;32m    656\u001b[0m                 \u001b[1;32mraise\u001b[0m \u001b[0mValueError\u001b[0m\u001b[1;33m(\u001b[0m\u001b[1;34m\"int precision must be non-negative, not %r\"\u001b[0m\u001b[1;33m%\u001b[0m\u001b[0mi\u001b[0m\u001b[1;33m)\u001b[0m\u001b[1;33m\u001b[0m\u001b[1;33m\u001b[0m\u001b[0m\n",
      "\u001b[1;31mValueError\u001b[0m: Precision must be int or format string, not '3 # 소수점 3자리까지 표현'"
     ]
    }
   ],
   "source": [
    "# %precision 3 # 소수점 3자리까지 표현"
   ]
  },
  {
   "cell_type": "code",
   "execution_count": 5,
   "id": "c05eaea1",
   "metadata": {},
   "outputs": [],
   "source": [
    "import warnings\n",
    "warnings.filterwarnings(action='ignore')"
   ]
  },
  {
   "cell_type": "code",
   "execution_count": 6,
   "id": "efe7a076",
   "metadata": {},
   "outputs": [],
   "source": [
    "fish_data = [2,3,4,5,3,2,2,3,6,8,6]"
   ]
  },
  {
   "cell_type": "code",
   "execution_count": null,
   "id": "c26fd74a",
   "metadata": {},
   "outputs": [],
   "source": []
  },
  {
   "cell_type": "code",
   "execution_count": 7,
   "id": "59f018d4",
   "metadata": {},
   "outputs": [
    {
     "data": {
      "text/plain": [
       "4.0"
      ]
     },
     "execution_count": 7,
     "metadata": {},
     "output_type": "execute_result"
    }
   ],
   "source": [
    "sp.mean(fish_data)"
   ]
  },
  {
   "cell_type": "code",
   "execution_count": 8,
   "id": "5a410a80",
   "metadata": {},
   "outputs": [
    {
     "data": {
      "text/plain": [
       "3.6363636363636362"
      ]
     },
     "execution_count": 8,
     "metadata": {},
     "output_type": "execute_result"
    }
   ],
   "source": [
    "sp.var(fish_data)"
   ]
  },
  {
   "cell_type": "code",
   "execution_count": null,
   "id": "b204ebd1",
   "metadata": {},
   "outputs": [],
   "source": [
    "# 분산, 표준편차 : 데이터가 얼마나 평균에서 흩어져 있는다. 변동성의 크기를 의미\n",
    "\n",
    "# 분산 : sum((x-x_mean)**)/n\n",
    "# 표준편차 : sp.sqrt(sum((x-x_mean)**)/n)"
   ]
  },
  {
   "cell_type": "code",
   "execution_count": 12,
   "id": "8d28065e",
   "metadata": {},
   "outputs": [
    {
     "data": {
      "text/plain": [
       "3.6363636363636362"
      ]
     },
     "execution_count": 12,
     "metadata": {},
     "output_type": "execute_result"
    }
   ],
   "source": [
    "sp.sum((fish_data - sp.mean(fish_data))**2)/len(fish_data)       # 편차"
   ]
  },
  {
   "cell_type": "code",
   "execution_count": 14,
   "id": "5ec400d2",
   "metadata": {},
   "outputs": [
    {
     "data": {
      "text/plain": [
       "4.0"
      ]
     },
     "execution_count": 14,
     "metadata": {},
     "output_type": "execute_result"
    }
   ],
   "source": [
    "sp.sum((fish_data - sp.mean(fish_data))**2)/(len(fish_data) -1 )   # 자유도 전체데이터에서 -1 => 자유도"
   ]
  },
  {
   "cell_type": "code",
   "execution_count": 15,
   "id": "fe68191c",
   "metadata": {},
   "outputs": [
    {
     "data": {
      "text/plain": [
       "1.9069251784911847"
      ]
     },
     "execution_count": 15,
     "metadata": {},
     "output_type": "execute_result"
    }
   ],
   "source": [
    "sp.sqrt(sp.sum((fish_data - sp.mean(fish_data))**2)/(len(fish_data)))"
   ]
  },
  {
   "cell_type": "code",
   "execution_count": 16,
   "id": "750a55d1",
   "metadata": {},
   "outputs": [
    {
     "data": {
      "text/plain": [
       "2.0"
      ]
     },
     "execution_count": 16,
     "metadata": {},
     "output_type": "execute_result"
    }
   ],
   "source": [
    "sp.sqrt(sp.sum((fish_data - sp.mean(fish_data))**2)/(len(fish_data)-1))"
   ]
  },
  {
   "cell_type": "code",
   "execution_count": 10,
   "id": "ddb9ca58",
   "metadata": {},
   "outputs": [
    {
     "data": {
      "text/plain": [
       "4.0"
      ]
     },
     "execution_count": 10,
     "metadata": {},
     "output_type": "execute_result"
    }
   ],
   "source": [
    "sp.var(fish_data, ddof=1)  \n",
    "\n",
    "# 불편분산\n",
    "# ddof : 자유도 (전제 데이터 수 - 변수의 수)\n",
    "\n",
    "# 표본의 통계량을 계산 시 사용\n",
    "# 자유로이 값을 가질 수 있는 값의 갯수\n",
    "# 표본의 분산이 모분산 보다 작게 값이 계산되는 것을 보정하는 값"
   ]
  },
  {
   "cell_type": "code",
   "execution_count": 17,
   "id": "fdad1018",
   "metadata": {},
   "outputs": [
    {
     "data": {
      "text/plain": [
       "1.9069251784911847"
      ]
     },
     "execution_count": 17,
     "metadata": {},
     "output_type": "execute_result"
    }
   ],
   "source": [
    "sp.std(fish_data)"
   ]
  },
  {
   "cell_type": "code",
   "execution_count": 18,
   "id": "e3910784",
   "metadata": {},
   "outputs": [
    {
     "data": {
      "text/plain": [
       "2.0"
      ]
     },
     "execution_count": 18,
     "metadata": {},
     "output_type": "execute_result"
    }
   ],
   "source": [
    "sp.std(fish_data, ddof=1)    # 불편표준편차"
   ]
  },
  {
   "cell_type": "code",
   "execution_count": null,
   "id": "68007c00",
   "metadata": {},
   "outputs": [],
   "source": [
    "# 정규화(z) : 평균을 0으로 표준편차를 1인 정규분포로 만드는 것\n",
    "# 정규화 된 z값 : 평균 0을 중심으로 몇 표준편차 떨어져 있는가를 나타내는 값"
   ]
  },
  {
   "cell_type": "code",
   "execution_count": 21,
   "id": "6dbc567b",
   "metadata": {},
   "outputs": [
    {
     "data": {
      "text/plain": [
       "array([-1.04880885, -0.52440442,  0.        ,  0.52440442, -0.52440442,\n",
       "       -1.04880885, -1.04880885, -0.52440442,  1.04880885,  2.0976177 ,\n",
       "        1.04880885])"
      ]
     },
     "execution_count": 21,
     "metadata": {},
     "output_type": "execute_result"
    }
   ],
   "source": [
    "(fish_data - sp.mean(fish_data)) / sp.std(fish_data)   # 표준정규분포"
   ]
  },
  {
   "cell_type": "code",
   "execution_count": 22,
   "id": "983d367e",
   "metadata": {},
   "outputs": [
    {
     "data": {
      "text/plain": [
       "-1.0092936587501423e-16"
      ]
     },
     "execution_count": 22,
     "metadata": {},
     "output_type": "execute_result"
    }
   ],
   "source": [
    "sp.mean((fish_data - sp.mean(fish_data)) / sp.std(fish_data))"
   ]
  },
  {
   "cell_type": "code",
   "execution_count": 23,
   "id": "7be52e8d",
   "metadata": {},
   "outputs": [
    {
     "data": {
      "text/plain": [
       "0.0"
      ]
     },
     "execution_count": 23,
     "metadata": {},
     "output_type": "execute_result"
    }
   ],
   "source": [
    "sp.std(sp.mean((fish_data - sp.mean(fish_data)) / sp.std(fish_data)))"
   ]
  },
  {
   "cell_type": "code",
   "execution_count": null,
   "id": "32abc3ab",
   "metadata": {},
   "outputs": [],
   "source": [
    "# 기본 통계함수"
   ]
  },
  {
   "cell_type": "code",
   "execution_count": 24,
   "id": "8b7c0c81",
   "metadata": {},
   "outputs": [
    {
     "data": {
      "text/plain": [
       "4.0"
      ]
     },
     "execution_count": 24,
     "metadata": {},
     "output_type": "execute_result"
    }
   ],
   "source": [
    "sp.mean(fish_data)"
   ]
  },
  {
   "cell_type": "code",
   "execution_count": 25,
   "id": "11aa97fd",
   "metadata": {},
   "outputs": [
    {
     "data": {
      "text/plain": [
       "3.6363636363636362"
      ]
     },
     "execution_count": 25,
     "metadata": {},
     "output_type": "execute_result"
    }
   ],
   "source": [
    "sp.var(fish_data)"
   ]
  },
  {
   "cell_type": "code",
   "execution_count": 26,
   "id": "56d41c71",
   "metadata": {},
   "outputs": [
    {
     "data": {
      "text/plain": [
       "1.9069251784911847"
      ]
     },
     "execution_count": 26,
     "metadata": {},
     "output_type": "execute_result"
    }
   ],
   "source": [
    "sp.std(fish_data)"
   ]
  },
  {
   "cell_type": "code",
   "execution_count": 28,
   "id": "ee8afd66",
   "metadata": {},
   "outputs": [
    {
     "data": {
      "text/plain": [
       "8"
      ]
     },
     "execution_count": 28,
     "metadata": {},
     "output_type": "execute_result"
    }
   ],
   "source": [
    "sp.amax(fish_data)   # 최대값"
   ]
  },
  {
   "cell_type": "code",
   "execution_count": 29,
   "id": "bb5abf7d",
   "metadata": {},
   "outputs": [
    {
     "data": {
      "text/plain": [
       "2"
      ]
     },
     "execution_count": 29,
     "metadata": {},
     "output_type": "execute_result"
    }
   ],
   "source": [
    "sp.amin(fish_data)"
   ]
  },
  {
   "cell_type": "code",
   "execution_count": 31,
   "id": "fcc19497",
   "metadata": {},
   "outputs": [
    {
     "data": {
      "text/plain": [
       "3.0"
      ]
     },
     "execution_count": 31,
     "metadata": {},
     "output_type": "execute_result"
    }
   ],
   "source": [
    "sp.median(fish_data)    # 중앙값"
   ]
  },
  {
   "cell_type": "code",
   "execution_count": null,
   "id": "af223f8c",
   "metadata": {},
   "outputs": [],
   "source": [
    "# 공분산\n",
    "# 두 데이터가 함께 움직이는 수준, 두 데이터의 관계성, 방향성"
   ]
  },
  {
   "cell_type": "code",
   "execution_count": 36,
   "id": "a5c97e8a",
   "metadata": {},
   "outputs": [
    {
     "data": {
      "text/html": [
       "<div>\n",
       "<style scoped>\n",
       "    .dataframe tbody tr th:only-of-type {\n",
       "        vertical-align: middle;\n",
       "    }\n",
       "\n",
       "    .dataframe tbody tr th {\n",
       "        vertical-align: top;\n",
       "    }\n",
       "\n",
       "    .dataframe thead th {\n",
       "        text-align: right;\n",
       "    }\n",
       "</style>\n",
       "<table border=\"1\" class=\"dataframe\">\n",
       "  <thead>\n",
       "    <tr style=\"text-align: right;\">\n",
       "      <th></th>\n",
       "      <th>x</th>\n",
       "      <th>y</th>\n",
       "    </tr>\n",
       "  </thead>\n",
       "  <tbody>\n",
       "    <tr>\n",
       "      <th>0</th>\n",
       "      <td>18.5</td>\n",
       "      <td>34</td>\n",
       "    </tr>\n",
       "    <tr>\n",
       "      <th>1</th>\n",
       "      <td>18.7</td>\n",
       "      <td>39</td>\n",
       "    </tr>\n",
       "    <tr>\n",
       "      <th>2</th>\n",
       "      <td>19.1</td>\n",
       "      <td>41</td>\n",
       "    </tr>\n",
       "    <tr>\n",
       "      <th>3</th>\n",
       "      <td>19.7</td>\n",
       "      <td>38</td>\n",
       "    </tr>\n",
       "    <tr>\n",
       "      <th>4</th>\n",
       "      <td>21.5</td>\n",
       "      <td>45</td>\n",
       "    </tr>\n",
       "    <tr>\n",
       "      <th>5</th>\n",
       "      <td>21.7</td>\n",
       "      <td>41</td>\n",
       "    </tr>\n",
       "    <tr>\n",
       "      <th>6</th>\n",
       "      <td>21.8</td>\n",
       "      <td>52</td>\n",
       "    </tr>\n",
       "    <tr>\n",
       "      <th>7</th>\n",
       "      <td>22.0</td>\n",
       "      <td>44</td>\n",
       "    </tr>\n",
       "    <tr>\n",
       "      <th>8</th>\n",
       "      <td>23.4</td>\n",
       "      <td>44</td>\n",
       "    </tr>\n",
       "    <tr>\n",
       "      <th>9</th>\n",
       "      <td>23.8</td>\n",
       "      <td>49</td>\n",
       "    </tr>\n",
       "  </tbody>\n",
       "</table>\n",
       "</div>"
      ],
      "text/plain": [
       "      x   y\n",
       "0  18.5  34\n",
       "1  18.7  39\n",
       "2  19.1  41\n",
       "3  19.7  38\n",
       "4  21.5  45\n",
       "5  21.7  41\n",
       "6  21.8  52\n",
       "7  22.0  44\n",
       "8  23.4  44\n",
       "9  23.8  49"
      ]
     },
     "execution_count": 36,
     "metadata": {},
     "output_type": "execute_result"
    }
   ],
   "source": [
    "cov_data = pd.read_csv('C:/Users/bitcamp/Desktop/deep_data/통계데이터/cov.csv')\n",
    "cov_data"
   ]
  },
  {
   "cell_type": "code",
   "execution_count": 41,
   "id": "58700a65",
   "metadata": {},
   "outputs": [],
   "source": [
    "x = cov_data.x\n",
    "y = cov_data.y"
   ]
  },
  {
   "cell_type": "code",
   "execution_count": 44,
   "id": "31e17de9",
   "metadata": {},
   "outputs": [
    {
     "data": {
      "text/plain": [
       "6.9060000000000015"
      ]
     },
     "execution_count": 44,
     "metadata": {},
     "output_type": "execute_result"
    }
   ],
   "source": [
    "np.sum((cov_data.x - sp.mean(cov_data.x))*(cov_data.y - sp.mean(cov_data.y)))/len(x)    # 공분산"
   ]
  },
  {
   "cell_type": "code",
   "execution_count": 45,
   "id": "6c8c594e",
   "metadata": {},
   "outputs": [
    {
     "data": {
      "text/plain": [
       "array([[ 3.2816,  6.906 ],\n",
       "       [ 6.906 , 25.21  ]])"
      ]
     },
     "execution_count": 45,
     "metadata": {},
     "output_type": "execute_result"
    }
   ],
   "source": [
    "sp.cov(x, y, ddof=0)"
   ]
  },
  {
   "cell_type": "code",
   "execution_count": null,
   "id": "3787a858",
   "metadata": {},
   "outputs": [],
   "source": [
    "# 상관계수 : 공분산/(x표준편차*y표준편차)"
   ]
  },
  {
   "cell_type": "code",
   "execution_count": 49,
   "id": "74c8aa25",
   "metadata": {},
   "outputs": [
    {
     "data": {
      "text/plain": [
       "0.7592719041137087"
      ]
     },
     "execution_count": 49,
     "metadata": {},
     "output_type": "execute_result"
    }
   ],
   "source": [
    "# 상관계수\n",
    "\n",
    "np.sum((cov_data.x - sp.mean(cov_data.x))*(cov_data.y - sp.mean(cov_data.y)))/len(cov_data.y)/(sp.std(x)*sp.std(y))"
   ]
  },
  {
   "cell_type": "code",
   "execution_count": 51,
   "id": "4d2540be",
   "metadata": {},
   "outputs": [
    {
     "data": {
      "text/plain": [
       "0.8436354490152319"
      ]
     },
     "execution_count": 51,
     "metadata": {},
     "output_type": "execute_result"
    }
   ],
   "source": [
    "# 불편상관계수 - 자유도 반영\n",
    "\n",
    "np.sum((cov_data.x - sp.mean(cov_data.x))*(cov_data.y - sp.mean(cov_data.y)))/(len(cov_data.x)-1)/(sp.std(x)*sp.std(y))"
   ]
  },
  {
   "cell_type": "code",
   "execution_count": 52,
   "id": "c7e085f6",
   "metadata": {},
   "outputs": [
    {
     "data": {
      "text/plain": [
       "array([[ 3.2816,  6.906 ],\n",
       "       [ 6.906 , 25.21  ]])"
      ]
     },
     "execution_count": 52,
     "metadata": {},
     "output_type": "execute_result"
    }
   ],
   "source": [
    "sp.cov(x,y, ddof=0)"
   ]
  },
  {
   "cell_type": "code",
   "execution_count": 53,
   "id": "ddcc201e",
   "metadata": {},
   "outputs": [
    {
     "data": {
      "text/plain": [
       "array([[ 3.64622222,  7.67333333],\n",
       "       [ 7.67333333, 28.01111111]])"
      ]
     },
     "execution_count": 53,
     "metadata": {},
     "output_type": "execute_result"
    }
   ],
   "source": [
    "sp.cov(x,y, ddof=1)"
   ]
  },
  {
   "cell_type": "code",
   "execution_count": 56,
   "id": "0c48928f",
   "metadata": {},
   "outputs": [
    {
     "data": {
      "text/plain": [
       "array([[0.36079158, 0.7592719 ],\n",
       "       [0.7592719 , 2.77168328]])"
      ]
     },
     "execution_count": 56,
     "metadata": {},
     "output_type": "execute_result"
    }
   ],
   "source": [
    "sp.cov(x,y, ddof=0)/(sp.std(x)*sp.std(y))"
   ]
  },
  {
   "cell_type": "code",
   "execution_count": 58,
   "id": "3e0ddf2d",
   "metadata": {},
   "outputs": [
    {
     "data": {
      "text/plain": [
       "array([[0.36079158, 0.7592719 ],\n",
       "       [0.7592719 , 2.77168328]])"
      ]
     },
     "execution_count": 58,
     "metadata": {},
     "output_type": "execute_result"
    }
   ],
   "source": [
    "sp.cov(x,y, ddof=0)/sp.sqrt((sp.var(x)*sp.var(y)))"
   ]
  },
  {
   "cell_type": "code",
   "execution_count": null,
   "id": "c9a58081",
   "metadata": {},
   "outputs": [],
   "source": [
    "# 표본추출"
   ]
  },
  {
   "cell_type": "code",
   "execution_count": 61,
   "id": "c4658daa",
   "metadata": {},
   "outputs": [],
   "source": [
    "fish_5 = np.array([2,3,4,5,6,7])"
   ]
  },
  {
   "cell_type": "code",
   "execution_count": 62,
   "id": "2466d8da",
   "metadata": {},
   "outputs": [
    {
     "data": {
      "text/plain": [
       "array([3])"
      ]
     },
     "execution_count": 62,
     "metadata": {},
     "output_type": "execute_result"
    }
   ],
   "source": [
    "np.random.choice(fish_5, size=1, replace=False)   # 비복원추출"
   ]
  },
  {
   "cell_type": "code",
   "execution_count": 63,
   "id": "1bd6d92c",
   "metadata": {},
   "outputs": [
    {
     "data": {
      "text/plain": [
       "array([6, 7, 2])"
      ]
     },
     "execution_count": 63,
     "metadata": {},
     "output_type": "execute_result"
    }
   ],
   "source": [
    "np.random.choice(fish_5, size=3, replace=True)    # 복원추출    (같은게 또 나올수 있음)"
   ]
  },
  {
   "cell_type": "code",
   "execution_count": 64,
   "id": "22eaa2b0",
   "metadata": {},
   "outputs": [
    {
     "data": {
      "text/html": [
       "<div>\n",
       "<style scoped>\n",
       "    .dataframe tbody tr th:only-of-type {\n",
       "        vertical-align: middle;\n",
       "    }\n",
       "\n",
       "    .dataframe tbody tr th {\n",
       "        vertical-align: top;\n",
       "    }\n",
       "\n",
       "    .dataframe thead th {\n",
       "        text-align: right;\n",
       "    }\n",
       "</style>\n",
       "<table border=\"1\" class=\"dataframe\">\n",
       "  <thead>\n",
       "    <tr style=\"text-align: right;\">\n",
       "      <th></th>\n",
       "      <th>length</th>\n",
       "    </tr>\n",
       "  </thead>\n",
       "  <tbody>\n",
       "    <tr>\n",
       "      <th>0</th>\n",
       "      <td>5.297442</td>\n",
       "    </tr>\n",
       "    <tr>\n",
       "      <th>1</th>\n",
       "      <td>3.505566</td>\n",
       "    </tr>\n",
       "    <tr>\n",
       "      <th>2</th>\n",
       "      <td>3.572546</td>\n",
       "    </tr>\n",
       "    <tr>\n",
       "      <th>3</th>\n",
       "      <td>3.135979</td>\n",
       "    </tr>\n",
       "    <tr>\n",
       "      <th>4</th>\n",
       "      <td>4.689275</td>\n",
       "    </tr>\n",
       "    <tr>\n",
       "      <th>...</th>\n",
       "      <td>...</td>\n",
       "    </tr>\n",
       "    <tr>\n",
       "      <th>99995</th>\n",
       "      <td>4.158780</td>\n",
       "    </tr>\n",
       "    <tr>\n",
       "      <th>99996</th>\n",
       "      <td>4.818718</td>\n",
       "    </tr>\n",
       "    <tr>\n",
       "      <th>99997</th>\n",
       "      <td>4.060880</td>\n",
       "    </tr>\n",
       "    <tr>\n",
       "      <th>99998</th>\n",
       "      <td>4.271488</td>\n",
       "    </tr>\n",
       "    <tr>\n",
       "      <th>99999</th>\n",
       "      <td>3.396745</td>\n",
       "    </tr>\n",
       "  </tbody>\n",
       "</table>\n",
       "<p>100000 rows × 1 columns</p>\n",
       "</div>"
      ],
      "text/plain": [
       "         length\n",
       "0      5.297442\n",
       "1      3.505566\n",
       "2      3.572546\n",
       "3      3.135979\n",
       "4      4.689275\n",
       "...         ...\n",
       "99995  4.158780\n",
       "99996  4.818718\n",
       "99997  4.060880\n",
       "99998  4.271488\n",
       "99999  3.396745\n",
       "\n",
       "[100000 rows x 1 columns]"
      ]
     },
     "execution_count": 64,
     "metadata": {},
     "output_type": "execute_result"
    }
   ],
   "source": [
    "fish_100000 = pd.read_csv('C:/Users/bitcamp/Desktop/deep_data/통계데이터/fish_length_100000.csv')\n",
    "fish_100000"
   ]
  },
  {
   "cell_type": "code",
   "execution_count": 65,
   "id": "fa40bd5e",
   "metadata": {},
   "outputs": [
    {
     "data": {
      "text/plain": [
       "100000"
      ]
     },
     "execution_count": 65,
     "metadata": {},
     "output_type": "execute_result"
    }
   ],
   "source": [
    "len(fish_100000)  # 모집단"
   ]
  },
  {
   "cell_type": "code",
   "execution_count": 85,
   "id": "74ad5253",
   "metadata": {},
   "outputs": [
    {
     "data": {
      "text/plain": [
       "array([5.81074494, 4.33325472, 2.87642474, 4.80843589, 4.93793784,\n",
       "       4.93569133, 3.74291343, 5.0550462 , 3.76961265, 6.22115091,\n",
       "       3.96534703, 3.56558276, 4.60153801, 4.21967181, 4.76777078,\n",
       "       3.25081529, 4.71630498, 3.31245342, 3.7707784 , 2.81269677,\n",
       "       5.84765742, 4.15041705, 3.48365771, 4.16991021, 5.28269089,\n",
       "       3.96918888, 3.35808976, 4.33581953, 5.44159975, 4.67659746,\n",
       "       3.49338537, 5.44308153, 5.83245101, 4.78840137, 3.59015373,\n",
       "       3.09262592, 4.07126395, 3.63023285, 2.98708416, 2.9446762 ,\n",
       "       4.83236667, 2.71592928, 4.99525309, 4.28207308, 3.71909947,\n",
       "       5.11892613, 3.95489885, 4.37281168, 4.43991603, 6.03376499,\n",
       "       4.33544844, 3.08182566, 4.30586868, 4.06324748, 3.51998856,\n",
       "       4.00856293, 5.002471  , 5.02597477, 4.64692663, 4.45685631,\n",
       "       3.62638747, 3.75359865, 2.47367703, 2.91141968, 3.39872504,\n",
       "       5.02510857, 4.05883581, 3.53935126, 4.1924924 , 4.09032838,\n",
       "       3.91325989, 3.45522564, 3.77415976, 4.34963742, 4.54476546,\n",
       "       2.61513617, 4.86641975, 4.27566407, 4.20979365, 3.59403229,\n",
       "       3.94479973, 4.33973831, 3.92798635, 6.00559179, 3.91957016,\n",
       "       3.68438232, 3.44667948, 4.92992636, 3.13599309, 3.59265072,\n",
       "       4.47153979, 3.8872349 , 4.24005685, 3.90177996, 3.09763845,\n",
       "       3.0081779 , 4.3899087 , 4.26826193, 4.51108603, 4.49521771,\n",
       "       4.21180662, 3.11149373, 4.83876054, 3.55577057, 3.88551975,\n",
       "       4.4962648 , 3.39653737, 2.97383037, 3.80018504, 5.05064921,\n",
       "       4.27695118, 3.17854156, 4.70510387, 2.57890632, 5.13032525,\n",
       "       3.38678578, 2.47965921, 4.88198908, 4.76270138, 4.238636  ,\n",
       "       3.35708228, 6.15232618, 4.81657221, 4.33705407, 5.49506645,\n",
       "       5.80594819, 3.85579412, 3.83595401, 5.41601327, 4.30889201,\n",
       "       3.16754239, 4.1387175 , 4.02778284, 3.86818732, 5.35438502,\n",
       "       4.47214274, 3.700583  , 6.50778564, 3.10391851, 3.76044639,\n",
       "       4.71257417, 5.47250848, 5.05411391, 4.41704483, 4.69365892,\n",
       "       3.85021355, 6.28401854, 5.47159548, 3.75839344, 4.06419785,\n",
       "       3.24039246, 3.87028352, 4.31793847, 3.04167549, 3.62707098,\n",
       "       3.96064159, 4.27698678, 3.2172757 , 3.65831591, 4.997554  ,\n",
       "       3.60402811, 4.14440866, 4.39553009, 4.62142999, 3.81651328,\n",
       "       4.74437753, 4.97200811, 4.07027915, 3.23655902, 4.03686238,\n",
       "       4.38755869, 4.59144333, 3.39186397, 4.4438885 , 3.9114634 ,\n",
       "       2.98382832, 3.66791364, 4.55940258, 3.38033306, 3.84882359,\n",
       "       4.71454577, 4.45223913, 4.20582518, 4.28892643, 4.00645576,\n",
       "       2.98530624, 3.32992704, 4.50598798, 3.69109443, 5.17023717,\n",
       "       4.0986587 , 4.49720362, 4.3984261 , 4.02105217, 4.04189911,\n",
       "       5.44542204, 3.59242364, 4.4572222 , 3.42916746, 3.54286598,\n",
       "       4.6994453 , 4.45928757, 4.46407795, 4.0719861 , 4.1827798 ,\n",
       "       4.29149478, 4.35831931, 4.39162448, 4.986834  , 4.89107787,\n",
       "       4.77278439, 3.16443549, 3.64474033, 5.17815985, 2.6180473 ,\n",
       "       4.45334915, 2.8751793 , 4.69568001, 4.42442912, 4.13338809,\n",
       "       5.05457645, 4.65839822, 5.29056293, 4.0048601 , 5.27549361,\n",
       "       5.09450675, 4.09478092, 3.01541833, 3.00127666, 3.98656211,\n",
       "       4.39412072, 3.85621549, 5.40217005, 4.72403547, 3.13505607,\n",
       "       3.58237799, 3.50184112, 3.39459344, 2.99448022, 3.69297058,\n",
       "       3.72819245, 2.31528586, 4.10297344, 5.10528952, 4.95729248,\n",
       "       5.23326882, 4.00857455, 2.3377014 , 3.14490873, 3.8951739 ,\n",
       "       4.28362993, 4.25403593, 3.66439602, 3.91764553, 2.75461325,\n",
       "       4.38887917, 5.15095799, 3.45345623, 3.50025213, 3.67164392,\n",
       "       5.34630129, 3.21398533, 3.15761941, 5.348863  , 3.27583929,\n",
       "       3.88364918, 4.65926644, 5.79268784, 4.19445928, 5.83773797,\n",
       "       4.42930239, 4.69632432, 2.36612089, 4.10348106, 3.0835004 ,\n",
       "       2.87194293, 2.35281535, 3.62615788, 4.53081871, 3.33253123,\n",
       "       3.04418378, 3.07284245, 5.20464827, 3.82261242, 4.99799618,\n",
       "       4.69404752, 3.27417411, 5.02278296, 2.11438951, 3.61954154,\n",
       "       3.3762399 , 3.47672996, 4.33667975, 3.85533251, 4.40118135,\n",
       "       5.04567199, 4.12110844, 4.75848748, 4.45777065, 4.48490383,\n",
       "       3.68905405, 4.55730073, 5.11484407, 3.79286961, 1.9444814 ,\n",
       "       3.4105637 , 3.15256951, 4.84443657, 4.56110843, 2.71033908,\n",
       "       3.57549161, 3.69752747, 4.58744283, 2.95200898, 3.80090135,\n",
       "       4.02159818, 3.32975884, 5.07194298, 4.0847083 , 4.1736733 ,\n",
       "       3.15025521, 3.06435563, 3.89269572, 4.63191555, 4.19426763,\n",
       "       3.72017612, 4.30923755, 4.02625279, 4.39875481, 4.20425019,\n",
       "       4.06854087, 2.98254791, 5.48972114, 4.03645881, 5.03286838,\n",
       "       3.93490566, 2.909489  , 4.25046245, 5.16022337, 3.49807466,\n",
       "       4.09239208, 4.2632774 , 3.27673309, 3.52382499, 3.85005051,\n",
       "       2.59282141, 4.06731903, 3.48520036, 4.0458406 , 3.40962409,\n",
       "       4.21908303, 4.49535147, 4.11169255, 3.38069353, 5.24231574,\n",
       "       3.55552257, 3.73359858, 2.73083621, 3.51114739, 3.67822004,\n",
       "       4.15989463, 5.21289208, 3.31200292, 4.59955756, 3.8195232 ,\n",
       "       3.73030976, 4.8732082 , 3.69059252, 4.59469096, 3.43252879,\n",
       "       3.78476314, 4.06198171, 4.16175834, 3.80788802, 4.41185184,\n",
       "       4.04556745, 3.42966138, 4.41411559, 3.51387702, 3.99827487,\n",
       "       3.6072942 , 2.77401906, 2.50571795, 3.6732223 , 3.9617747 ,\n",
       "       3.05419464, 4.67474297, 3.0335796 , 3.35183591, 4.48398164,\n",
       "       4.10418422, 4.25054472, 3.2099603 , 4.94481516, 3.01357042,\n",
       "       3.4906452 , 4.36360904, 5.08369466, 4.92359873, 4.29298344,\n",
       "       5.18485579, 4.30209648, 4.28844527, 4.43934069, 4.29235765,\n",
       "       4.31869276, 4.15586563, 3.94139407, 3.49366568, 4.01894489,\n",
       "       4.77847714, 3.52556829, 5.12724626, 3.44235676, 4.58767135,\n",
       "       3.14267867, 3.62509567, 4.26764963, 4.95676889, 3.87323993,\n",
       "       2.83343538, 3.0847838 , 3.73130536, 4.41789144, 3.55169907,\n",
       "       4.20625801, 4.16199423, 3.88919249, 3.5945649 , 4.88172442,\n",
       "       3.80059596, 4.22846391, 4.63713194, 2.34779766, 4.28011154,\n",
       "       4.49737624, 5.42771017, 3.59392827, 4.59363755, 4.67374778,\n",
       "       4.88718222, 3.72144217, 3.62083868, 3.05285496, 5.66964973,\n",
       "       3.89546026, 4.90925564, 4.1856543 , 3.58033392, 3.02135365,\n",
       "       3.52355134, 2.62341196, 4.13422532, 5.03046186, 5.42762802,\n",
       "       3.19130799, 1.89547218, 4.72556225, 4.48728331, 3.29233403,\n",
       "       3.43150983, 3.79366612, 4.31104268, 4.43036988, 4.56827733,\n",
       "       4.42844601, 3.45727006, 4.26601877, 3.81563001, 4.95750048,\n",
       "       6.04623379, 4.50086976, 4.17633201, 3.90010319, 4.42335781,\n",
       "       2.9304765 , 4.24175744, 3.43560851, 4.4486355 , 5.1663761 ,\n",
       "       4.27305795, 4.37578988, 3.93474622, 4.7150833 , 2.44629143,\n",
       "       3.39019674, 3.62074802, 3.8725052 , 3.83374269, 3.86772618,\n",
       "       4.26110241, 3.48447512, 4.39180411, 3.98552905, 3.13801232,\n",
       "       4.0485358 , 4.25090926, 3.70706031, 5.03631446, 4.1059879 ,\n",
       "       4.35350684, 3.06531899, 4.27902665, 5.44747157, 4.902317  ,\n",
       "       3.82045351, 4.4211355 , 3.74837029, 4.05288084, 4.89178995,\n",
       "       4.09066896, 3.1889986 , 3.86961693, 3.49120333, 4.66910022,\n",
       "       3.7127542 , 3.68021399, 4.10695763, 4.01694406, 4.84729999,\n",
       "       2.80502488, 4.59047161, 2.6910097 , 3.12451525, 4.3970864 ,\n",
       "       3.70923265, 4.5114025 , 4.03867327, 4.89981342, 4.97664497,\n",
       "       3.79939407, 4.61789816, 2.9617178 , 3.63588304, 5.12553449,\n",
       "       5.04489671, 3.80001548, 4.08992651, 4.09266116, 4.60440614,\n",
       "       4.67470941, 3.68321873, 2.87697474, 3.51942019, 4.55232871,\n",
       "       3.4379975 , 3.22023155, 4.68673774, 1.35054608, 4.42337086,\n",
       "       3.43507164, 3.7787926 , 5.22550883, 3.96263365, 2.97068517,\n",
       "       3.62380256, 3.37942052, 4.27715414, 5.32193233, 4.32365633,\n",
       "       3.67901637, 4.75071965, 5.08680118, 4.20878969, 3.92058636,\n",
       "       4.345587  , 5.32312281, 4.29445236, 3.52758269, 3.6118167 ,\n",
       "       4.29018026, 4.85913421, 4.11618857, 1.68257053, 4.99742986,\n",
       "       5.12882306, 3.23125209, 5.07924233, 3.30983513, 2.83893569,\n",
       "       5.01823837, 4.800299  , 3.96197785, 4.1639722 , 3.78587902,\n",
       "       4.5441507 , 3.42376891, 4.83260769, 4.11003509, 5.02078259,\n",
       "       2.68066037, 3.92227423, 3.85494677, 3.85990328, 2.15020922,\n",
       "       4.91156529, 4.44315239, 4.67617897, 6.11864758, 3.75093437,\n",
       "       2.71773824, 4.04165847, 2.82762231, 3.81940505, 4.46225065,\n",
       "       4.77066542, 4.91746395, 2.47319426, 3.97088681, 3.50278134,\n",
       "       3.39043027, 3.50539977, 4.48381313, 3.99881812, 2.88813774,\n",
       "       2.42982078, 4.62032718, 3.80644613, 2.30162893, 4.87665553,\n",
       "       4.19075515, 3.69141342, 4.61111862, 3.81614521, 2.71989827,\n",
       "       3.45776936, 3.27951101, 3.4984969 , 1.97673729, 3.10661569,\n",
       "       4.93466246, 2.61604916, 3.18255606, 4.42780695, 3.20900551,\n",
       "       4.09532235, 4.71726141, 3.75738863, 5.6649078 , 4.63345049,\n",
       "       3.23820252, 4.68988934, 4.9514712 , 3.81417014, 5.56027968,\n",
       "       4.04576198, 3.83228737, 3.51713672, 5.53951141, 3.56429708,\n",
       "       3.75680034, 5.00184584, 3.06270712, 4.91994273, 4.2358203 ,\n",
       "       4.71061034, 3.62221848, 5.1919325 , 2.38191157, 2.95066753,\n",
       "       3.98495479, 3.61468013, 4.62099348, 3.5192725 , 3.9712133 ,\n",
       "       3.94214272, 4.36674789, 5.07068248, 4.80425962, 4.44997881,\n",
       "       4.04680286, 4.50607084, 5.65766113, 4.51005975, 3.19644114,\n",
       "       3.15077268, 3.80046803, 4.85343292, 4.19424991, 4.43612373,\n",
       "       5.53550733, 3.17856072, 5.44424674, 3.44894287, 4.67702584,\n",
       "       2.0459459 , 4.23451142, 4.45471012, 4.65710647, 3.93968011,\n",
       "       3.13798153, 3.60688148, 4.31912406, 4.59217444, 3.90087404,\n",
       "       2.98961417, 3.99019066, 3.57003412, 4.7038938 , 3.85761713,\n",
       "       3.02941912, 4.11313336, 3.89469051, 4.14341473, 3.56552912,\n",
       "       4.38708378, 3.92794256, 4.82039855, 3.95707588, 4.75493574,\n",
       "       4.23920546, 4.46086317, 2.95892772, 2.49710023, 4.9013352 ,\n",
       "       3.17691367, 4.31107365, 3.69414444, 4.98537779, 3.70814573,\n",
       "       3.7883086 , 4.76868897, 3.80111323, 4.17426333, 3.45419796,\n",
       "       4.04824828, 3.94762394, 2.52599491, 3.38999489, 4.83318513,\n",
       "       3.20766524, 3.65907777, 5.43713926, 3.79449171, 3.6984013 ,\n",
       "       4.69784506, 3.48820146, 4.38073741, 3.54734587, 3.40202786,\n",
       "       3.69574183, 3.88690322, 4.69450835, 3.36399826, 4.78962182,\n",
       "       3.22543553, 4.01109986, 4.11155377, 5.50359414, 5.76567684,\n",
       "       3.04362238, 3.22406557, 4.6416554 , 3.52674588, 3.25073292,\n",
       "       3.47835538, 5.78154196, 4.41754858, 4.55509978, 3.87981954,\n",
       "       3.80616837, 5.55104528, 3.2445916 , 3.9544717 , 4.69888828,\n",
       "       4.14374137, 3.21031958, 3.32105652, 4.80584126, 4.45631614,\n",
       "       4.75225462, 2.9025624 , 4.833746  , 3.02920498, 4.65908127,\n",
       "       3.34116737, 3.77271259, 2.94780659, 5.31152823, 3.99895257,\n",
       "       3.53653687, 3.48042841, 4.91540731, 3.42194676, 4.7591095 ,\n",
       "       2.94093894, 4.39209533, 5.2292411 , 5.35362713, 3.64047973,\n",
       "       4.49861418, 2.85722583, 3.51775448, 3.72289365, 4.68937827,\n",
       "       4.05196351, 3.40854736, 3.57146635, 3.72567487, 2.53183721,\n",
       "       4.07758627, 5.61986538, 4.03661149, 5.41979192, 2.78960185,\n",
       "       4.40969041, 3.97273476, 4.45167128, 3.66504385, 5.07286633,\n",
       "       4.74032251, 5.07617659, 4.59447255, 4.08459382, 3.29224425,\n",
       "       4.27505856, 4.68463345, 4.55472035, 4.74485733, 4.37449883,\n",
       "       3.04862268, 2.81727424, 4.83607237, 3.39062767, 2.28839318,\n",
       "       4.74517477, 4.29918077, 4.68056427, 2.26080584, 4.25791246,\n",
       "       3.95578157, 4.53479962, 3.72268959, 4.86836874, 4.62676595,\n",
       "       3.69715052, 3.91485748, 3.55548203, 4.8230733 , 4.21702961,\n",
       "       3.97411661, 3.99005233, 3.53313978, 3.29277719, 4.01088602,\n",
       "       4.71417998, 3.41215399, 3.62677407, 3.02333791, 3.6880305 ,\n",
       "       3.99438433, 4.43836841, 5.45695145, 3.94340501, 2.15553636,\n",
       "       2.75978529, 3.16577936, 4.26808124, 4.25122707, 4.00965141,\n",
       "       4.58043654, 3.97491253, 2.34630679, 4.60759897, 4.59690787,\n",
       "       4.39500043, 5.26491256, 2.93962098, 4.05274212, 4.36603705,\n",
       "       3.2995684 , 4.24012326, 3.45913188, 4.4151206 , 3.69546443,\n",
       "       4.66978712, 2.3969019 , 2.91522774, 3.8938982 , 3.51844527,\n",
       "       3.55814841, 3.29695375, 4.92452919, 4.04161374, 4.23336142,\n",
       "       4.79800743, 4.6343485 , 3.5660752 , 3.54047721, 3.09798477,\n",
       "       5.31904162, 3.82084885, 4.05989442, 4.57227791, 3.1732916 ,\n",
       "       3.5705187 , 4.5953824 , 3.56124474, 5.00669323, 3.92522592,\n",
       "       3.90596278, 3.52285999, 3.90427378, 4.74049669, 3.31564584,\n",
       "       6.22089745, 4.44122661, 4.78931724, 2.32828995, 4.13789758,\n",
       "       3.98056469, 4.29399705, 3.25868572, 4.35729287, 3.79603599,\n",
       "       4.61701622, 4.55852232, 4.69812722, 4.48257314, 4.32424707,\n",
       "       3.54725193, 4.01455733, 4.39256351, 2.98675807, 3.73045281,\n",
       "       3.34894289, 2.88925503, 3.70215136, 2.61728547, 3.63358495,\n",
       "       3.95016393, 3.84227484, 3.6769376 , 3.76331991, 3.79287146,\n",
       "       3.2427173 , 4.98706118, 4.3722846 , 4.53723342, 2.49862599,\n",
       "       4.59107076, 3.16075287, 2.9267808 , 3.12599362, 3.55136175,\n",
       "       3.86099647, 3.81940602, 5.06775978, 4.88285081, 3.44401613,\n",
       "       1.60217398, 4.44713843, 3.93841965, 4.62524125, 2.33600846,\n",
       "       5.71390843, 3.79861889, 3.86137488, 3.97371271, 2.85710601,\n",
       "       3.03426414, 3.24210454, 3.63980066, 3.72353649, 3.94950685,\n",
       "       4.63155694, 4.27935029, 3.54883733, 3.52378298, 4.56063423,\n",
       "       3.27497811, 3.53467118, 4.91664673, 3.42947296, 5.31700464,\n",
       "       4.39636528, 4.38810704, 4.919277  , 4.49210474, 3.36041652,\n",
       "       4.50004736, 4.04301695, 4.03115463, 3.6003217 , 2.84417227,\n",
       "       3.19772099, 3.98131036, 4.0748909 , 3.11087725, 4.63522159,\n",
       "       4.32640237, 3.13881612, 3.71017775, 3.60178204, 3.90733506,\n",
       "       3.62386324, 3.67198289, 4.58102165, 3.61182147, 3.81554068])"
      ]
     },
     "execution_count": 85,
     "metadata": {},
     "output_type": "execute_result"
    }
   ],
   "source": [
    "fish_sample = np.random.choice(fish_100000.length, size=1000, replace=False)   # 샘플(표본), 샘플의 크기 n\n",
    "fish_sample"
   ]
  },
  {
   "cell_type": "code",
   "execution_count": 86,
   "id": "bef5d1fc",
   "metadata": {},
   "outputs": [
    {
     "data": {
      "text/plain": [
       "4.030325205083258"
      ]
     },
     "execution_count": 86,
     "metadata": {},
     "output_type": "execute_result"
    }
   ],
   "source": [
    "sp.mean(fish_sample)"
   ]
  },
  {
   "cell_type": "code",
   "execution_count": 87,
   "id": "0e1f21fb",
   "metadata": {},
   "outputs": [
    {
     "data": {
      "text/plain": [
       "0.6066475092105053"
      ]
     },
     "execution_count": 87,
     "metadata": {},
     "output_type": "execute_result"
    }
   ],
   "source": [
    "sp.var(fish_sample)   # 샘플의 분산"
   ]
  },
  {
   "cell_type": "code",
   "execution_count": 88,
   "id": "5310a5e3",
   "metadata": {},
   "outputs": [
    {
     "data": {
      "text/plain": [
       "1.9069251784911847"
      ]
     },
     "execution_count": 88,
     "metadata": {},
     "output_type": "execute_result"
    }
   ],
   "source": [
    "sp.std(fish_data)   # 샘플의 표준편차"
   ]
  },
  {
   "cell_type": "code",
   "execution_count": null,
   "id": "b81f55e4",
   "metadata": {},
   "outputs": [],
   "source": []
  },
  {
   "cell_type": "code",
   "execution_count": 109,
   "id": "3c69e5bd",
   "metadata": {},
   "outputs": [
    {
     "name": "stdout",
     "output_type": "stream",
     "text": [
      "length    4.0\n",
      "dtype: float64 length    0.64\n",
      "dtype: float64\n"
     ]
    }
   ],
   "source": [
    "# 모수\n",
    "\n",
    "mu = sp.mean(fish_100000)\n",
    "theta = sp.var(fish_100000)\n",
    "\n",
    "print(mu, theta)"
   ]
  },
  {
   "cell_type": "code",
   "execution_count": 96,
   "id": "7f755c2c",
   "metadata": {},
   "outputs": [],
   "source": [
    "# 중심극한정링\n",
    "\n",
    "# 모집단의 형태에 상관없이 사이즈가 큰 표본의 평균의 분포는 평균이 모평균, 분산이 모분산을 np.sqrt(n)으로\n",
    "# 나눈 정교분표를 따른다"
   ]
  },
  {
   "cell_type": "code",
   "execution_count": 116,
   "id": "ef893287",
   "metadata": {},
   "outputs": [],
   "source": [
    "sample_means = []\n",
    "\n",
    "for _ in range(1000):\n",
    "    sample = np.random.choice(fish_100000.length, size=10, replace=False)\n",
    "    sample_mean = sp.mean(sample)\n",
    "    sample_means.append(sample_mean)"
   ]
  },
  {
   "cell_type": "code",
   "execution_count": 117,
   "id": "28a9e1bb",
   "metadata": {},
   "outputs": [
    {
     "data": {
      "text/plain": [
       "[4.241859631392206,\n",
       " 3.9625792960182045,\n",
       " 4.274892782469669,\n",
       " 4.55280486389898,\n",
       " 3.782049507668181,\n",
       " 3.899020586829322,\n",
       " 3.9512156157283322,\n",
       " 3.520584161849758,\n",
       " 4.236468284152652,\n",
       " 4.036210130005612,\n",
       " 3.8898598669098687,\n",
       " 4.015241213381947,\n",
       " 4.160420101510527,\n",
       " 5.051386153734105,\n",
       " 3.6895717878314622,\n",
       " 3.8833843086727358,\n",
       " 4.543191223350627,\n",
       " 4.092569481561649,\n",
       " 3.90000832847417,\n",
       " 4.178805820420148,\n",
       " 4.15219616316602,\n",
       " 3.6917836953458796,\n",
       " 3.7932641122912343,\n",
       " 3.812692265716907,\n",
       " 4.182754301950883,\n",
       " 3.7406574648776187,\n",
       " 4.200308065350451,\n",
       " 4.151632653385674,\n",
       " 4.329830300661433,\n",
       " 3.927269646047344,\n",
       " 3.6801018598684756,\n",
       " 4.42368359966759,\n",
       " 3.8500822689921472,\n",
       " 3.7634979565242377,\n",
       " 4.17891783370124,\n",
       " 4.270757097253151,\n",
       " 3.9313419218624843,\n",
       " 3.4557664071044556,\n",
       " 4.08253590395788,\n",
       " 4.069442167352264,\n",
       " 3.649340569782705,\n",
       " 3.8295107313858097,\n",
       " 4.126153309339427,\n",
       " 3.873324824742427,\n",
       " 3.9653770736834284,\n",
       " 4.0672292593186095,\n",
       " 3.844922282972148,\n",
       " 4.136020580943379,\n",
       " 3.9260898307788805,\n",
       " 3.91633789250647,\n",
       " 3.906814648383944,\n",
       " 3.8304140326346117,\n",
       " 4.260703133437682,\n",
       " 4.153636065278533,\n",
       " 3.8404880200628035,\n",
       " 3.8796410180126983,\n",
       " 4.165763472696778,\n",
       " 4.096510579397454,\n",
       " 3.4979332844021194,\n",
       " 4.043616794524688,\n",
       " 4.009256935656741,\n",
       " 4.333833745513581,\n",
       " 4.260850922407612,\n",
       " 3.9216868796326687,\n",
       " 4.114276294858959,\n",
       " 4.30291118203205,\n",
       " 4.512020272860722,\n",
       " 3.778288078620304,\n",
       " 4.374859995103947,\n",
       " 4.199969233283504,\n",
       " 4.485075528747931,\n",
       " 3.985766041775997,\n",
       " 4.094967765216486,\n",
       " 3.842588352747806,\n",
       " 3.4801739522947273,\n",
       " 4.260890732481389,\n",
       " 3.7387624010434366,\n",
       " 3.9116259191773546,\n",
       " 4.026752717797564,\n",
       " 4.153300111107438,\n",
       " 3.5889354259425694,\n",
       " 3.859562753620513,\n",
       " 4.20352186980894,\n",
       " 4.253675633754186,\n",
       " 4.086824127392088,\n",
       " 3.89246278836355,\n",
       " 4.100990579564433,\n",
       " 4.483613805621028,\n",
       " 4.1501746688866366,\n",
       " 4.067619395013154,\n",
       " 4.104327236376089,\n",
       " 4.101157851201255,\n",
       " 4.016847188026265,\n",
       " 3.9684272483404377,\n",
       " 3.507253160693909,\n",
       " 4.361740358712656,\n",
       " 4.014469637080165,\n",
       " 4.012829051635877,\n",
       " 4.074798604001131,\n",
       " 4.386905563565866,\n",
       " 4.273072899644641,\n",
       " 3.9765584741790634,\n",
       " 4.5380005510855,\n",
       " 3.9983237475737177,\n",
       " 4.250651245408096,\n",
       " 3.777930077488005,\n",
       " 4.215332657566844,\n",
       " 3.915788816880698,\n",
       " 3.6887955698639177,\n",
       " 4.420321228868135,\n",
       " 3.8748919040749614,\n",
       " 3.8482025821758277,\n",
       " 3.958830735252829,\n",
       " 4.0650274610329955,\n",
       " 3.6181494253518407,\n",
       " 3.9665608037007503,\n",
       " 4.397633692111768,\n",
       " 4.086447396325275,\n",
       " 4.297780573601804,\n",
       " 3.9669188868967824,\n",
       " 4.360127279311445,\n",
       " 4.012826863705966,\n",
       " 4.158719892864635,\n",
       " 3.7996759339756823,\n",
       " 4.184599186676798,\n",
       " 4.179235449329222,\n",
       " 4.423471026485491,\n",
       " 4.226989082698782,\n",
       " 3.970318922084433,\n",
       " 4.130518288432145,\n",
       " 3.722934342067711,\n",
       " 3.9769639191619346,\n",
       " 4.2809721933754705,\n",
       " 3.8074601865342705,\n",
       " 4.138532804026301,\n",
       " 3.6724546749965596,\n",
       " 4.133840926020225,\n",
       " 4.403786001320018,\n",
       " 3.954145773674198,\n",
       " 4.328824337596545,\n",
       " 3.792370598558739,\n",
       " 3.707678171166563,\n",
       " 3.9796105380397955,\n",
       " 4.066588179353463,\n",
       " 4.022941043654493,\n",
       " 3.8283154342815715,\n",
       " 3.7041298322323604,\n",
       " 4.18409990160656,\n",
       " 3.8018979308568968,\n",
       " 4.304535278539319,\n",
       " 4.087401875455187,\n",
       " 4.016834356538615,\n",
       " 4.055519463061193,\n",
       " 3.72850295220841,\n",
       " 3.735863283987517,\n",
       " 4.211416946052394,\n",
       " 3.5057824492721243,\n",
       " 4.258388068211959,\n",
       " 4.227117029934638,\n",
       " 4.42173438329433,\n",
       " 4.304722776391253,\n",
       " 4.271896159235854,\n",
       " 3.966459996235971,\n",
       " 4.499384463820918,\n",
       " 3.865173526922902,\n",
       " 4.3080458604218475,\n",
       " 3.727526944941902,\n",
       " 3.7159625985700786,\n",
       " 4.060921791035138,\n",
       " 3.9397105842428006,\n",
       " 3.863616155222097,\n",
       " 3.937056879986302,\n",
       " 3.7764201426338246,\n",
       " 4.349129750384352,\n",
       " 4.1536395446908525,\n",
       " 4.119815525065496,\n",
       " 4.169184238554143,\n",
       " 4.192723363547137,\n",
       " 3.621122241479874,\n",
       " 3.9053138469897255,\n",
       " 3.9927924268127013,\n",
       " 3.8875945086041694,\n",
       " 3.7469674917984443,\n",
       " 4.291516107236321,\n",
       " 3.575624668804898,\n",
       " 3.8454374458454135,\n",
       " 3.779785224431941,\n",
       " 3.5240643610870572,\n",
       " 3.8560649194376255,\n",
       " 3.666278493020337,\n",
       " 4.120990398323251,\n",
       " 4.094121532406659,\n",
       " 4.209235671228326,\n",
       " 4.077778940739162,\n",
       " 4.077789887565269,\n",
       " 4.03898621694835,\n",
       " 4.25278284686586,\n",
       " 3.6086078210921806,\n",
       " 4.196713783609351,\n",
       " 4.231024468515986,\n",
       " 4.048419737716226,\n",
       " 4.096465721857823,\n",
       " 3.965675177428787,\n",
       " 3.891164202307614,\n",
       " 3.9281025022982368,\n",
       " 4.203661489953282,\n",
       " 4.0256744623217555,\n",
       " 4.392722089021195,\n",
       " 4.063823235969994,\n",
       " 3.8259189780659497,\n",
       " 4.157677702333283,\n",
       " 4.22533773600769,\n",
       " 4.071080782018928,\n",
       " 3.6285637056411657,\n",
       " 3.7007940006809372,\n",
       " 3.914176261842672,\n",
       " 4.126313822757602,\n",
       " 3.7968682370545848,\n",
       " 3.7090356205066337,\n",
       " 3.7618812366910035,\n",
       " 3.49910187854285,\n",
       " 4.097430268990193,\n",
       " 4.388455312629695,\n",
       " 4.046976396234119,\n",
       " 4.049169959490049,\n",
       " 3.9011228140740655,\n",
       " 4.306104273654165,\n",
       " 3.651296079317666,\n",
       " 4.415575399450455,\n",
       " 3.854003035065643,\n",
       " 3.7977971724240676,\n",
       " 4.406950282685904,\n",
       " 3.992637090311915,\n",
       " 4.0150411749655115,\n",
       " 4.091329355349929,\n",
       " 3.7536326811755325,\n",
       " 3.8984109525643085,\n",
       " 3.912571135363121,\n",
       " 3.9372566771395343,\n",
       " 4.133286126734562,\n",
       " 3.5149897900322236,\n",
       " 4.239509743454667,\n",
       " 4.497930899341872,\n",
       " 3.838014462515266,\n",
       " 4.0009884087348,\n",
       " 4.044550994298583,\n",
       " 3.738590133747999,\n",
       " 3.568089495424636,\n",
       " 4.05368184596312,\n",
       " 4.429737048899947,\n",
       " 3.9415330013415173,\n",
       " 4.347515293639101,\n",
       " 4.103798423884754,\n",
       " 4.324072423888599,\n",
       " 4.192514360638427,\n",
       " 3.9686929952995307,\n",
       " 3.94596002228606,\n",
       " 4.057236645094777,\n",
       " 3.9539933367555244,\n",
       " 4.0363714464471245,\n",
       " 3.7924498708490146,\n",
       " 4.147675747930646,\n",
       " 3.3795592414028817,\n",
       " 4.2502183376116704,\n",
       " 3.5978329184387206,\n",
       " 3.819874796942036,\n",
       " 4.06489893729591,\n",
       " 4.122781496224249,\n",
       " 4.253272692019751,\n",
       " 3.6114486129660563,\n",
       " 3.4833143392114225,\n",
       " 4.095724169796508,\n",
       " 3.912449167561147,\n",
       " 4.603415294625711,\n",
       " 4.239682731632765,\n",
       " 3.6557134769529447,\n",
       " 3.853374434554296,\n",
       " 4.119974608182994,\n",
       " 3.8834171324759454,\n",
       " 4.065192029686863,\n",
       " 3.80676415670208,\n",
       " 3.5715957561291347,\n",
       " 4.056966230084115,\n",
       " 4.050807915353604,\n",
       " 3.9290260894076936,\n",
       " 4.095552243775812,\n",
       " 3.816204713970241,\n",
       " 4.166694148028582,\n",
       " 4.186293685738339,\n",
       " 4.131570654609476,\n",
       " 3.845121892734889,\n",
       " 4.003680199624962,\n",
       " 3.7862850560034653,\n",
       " 4.0758433665193365,\n",
       " 4.029713121764547,\n",
       " 4.084331962148367,\n",
       " 3.4114535227713034,\n",
       " 3.7920449418167275,\n",
       " 3.9066893777459994,\n",
       " 3.8212365479273176,\n",
       " 3.854628196780021,\n",
       " 4.02719152953449,\n",
       " 3.9907380543520374,\n",
       " 4.031135875885857,\n",
       " 4.438140886510881,\n",
       " 3.892087827310776,\n",
       " 4.063310341307427,\n",
       " 3.425733792375241,\n",
       " 4.528211479468316,\n",
       " 3.611888045849861,\n",
       " 3.87410935587391,\n",
       " 3.608397583628315,\n",
       " 3.9729932406916837,\n",
       " 4.045060188685581,\n",
       " 4.30894038948739,\n",
       " 3.931482654652985,\n",
       " 4.6854846214677845,\n",
       " 4.050282246387533,\n",
       " 3.7348041972201687,\n",
       " 3.972937799750855,\n",
       " 4.380571104949301,\n",
       " 4.086498803795031,\n",
       " 3.6902300666499093,\n",
       " 3.821238081901027,\n",
       " 4.248383053616721,\n",
       " 3.5096601356993107,\n",
       " 3.937880875220009,\n",
       " 4.1087701214049925,\n",
       " 3.4723056518069946,\n",
       " 4.183187246596633,\n",
       " 3.792013016563306,\n",
       " 4.149310085765906,\n",
       " 4.121434215242867,\n",
       " 4.25474913497815,\n",
       " 4.177908518470159,\n",
       " 3.9641301131812376,\n",
       " 3.7372123298182642,\n",
       " 4.101465345814836,\n",
       " 4.3457896336018305,\n",
       " 4.295577333679697,\n",
       " 4.137378338591956,\n",
       " 3.9838601259031465,\n",
       " 3.8581836224417136,\n",
       " 3.8307445264982563,\n",
       " 4.196549114996078,\n",
       " 3.3110761910320163,\n",
       " 4.014044797629422,\n",
       " 3.631290548151525,\n",
       " 3.9918429715804984,\n",
       " 3.8925458610420938,\n",
       " 3.938889223454494,\n",
       " 3.915897415713713,\n",
       " 4.2136377438865145,\n",
       " 3.9219438624214127,\n",
       " 3.839381103472983,\n",
       " 3.969692682259685,\n",
       " 3.767907218705113,\n",
       " 4.290812081737362,\n",
       " 3.806125037533434,\n",
       " 4.012641150062352,\n",
       " 4.277572735741467,\n",
       " 4.156070860556708,\n",
       " 3.97162901722225,\n",
       " 4.093955531281226,\n",
       " 3.4339027513278793,\n",
       " 4.009169000806631,\n",
       " 3.7612395964345224,\n",
       " 4.153803762451571,\n",
       " 3.756192777635153,\n",
       " 3.5956961906427147,\n",
       " 3.5227019492405076,\n",
       " 4.123417138182794,\n",
       " 3.8881416533353645,\n",
       " 3.9196618621631103,\n",
       " 4.2948909865824145,\n",
       " 4.235417791262227,\n",
       " 3.4688062519800433,\n",
       " 4.608841638266397,\n",
       " 4.017813767919704,\n",
       " 4.5527414471906145,\n",
       " 4.086531745612712,\n",
       " 4.161330024834842,\n",
       " 3.700670393047956,\n",
       " 4.203201722483348,\n",
       " 4.124084197375536,\n",
       " 3.871247103150073,\n",
       " 3.696056172960037,\n",
       " 4.416959584489947,\n",
       " 3.66346589336396,\n",
       " 4.399253812048965,\n",
       " 4.208374670055066,\n",
       " 4.003489853437253,\n",
       " 3.916205501245288,\n",
       " 3.7155699409791794,\n",
       " 3.9268260188095,\n",
       " 3.691306014888834,\n",
       " 3.9431244117842703,\n",
       " 4.01726198275985,\n",
       " 3.665427148465902,\n",
       " 3.979350014075309,\n",
       " 3.557080183335551,\n",
       " 4.143997577014048,\n",
       " 3.8479468515303723,\n",
       " 4.289015104282755,\n",
       " 4.287925705447559,\n",
       " 4.141287162184253,\n",
       " 3.5916149778516884,\n",
       " 4.18933085045457,\n",
       " 3.8229093505601304,\n",
       " 3.802840869588233,\n",
       " 4.221930583388946,\n",
       " 3.7096261346914132,\n",
       " 4.348767519887981,\n",
       " 3.5753078295575653,\n",
       " 3.9174171408979084,\n",
       " 4.343134385974927,\n",
       " 3.8304644661508798,\n",
       " 3.737511090409748,\n",
       " 3.8183924894023002,\n",
       " 4.27146501295191,\n",
       " 3.836150108388354,\n",
       " 3.7564796282143837,\n",
       " 4.057852091576818,\n",
       " 4.1357155145891245,\n",
       " 4.423782835589145,\n",
       " 4.212473167973524,\n",
       " 4.0234616185035375,\n",
       " 3.8826865132691695,\n",
       " 3.918163233783693,\n",
       " 4.039009557381024,\n",
       " 3.930111930490439,\n",
       " 4.230778037351148,\n",
       " 4.1702208013186235,\n",
       " 3.94994595697505,\n",
       " 4.032506178998771,\n",
       " 4.138831691320666,\n",
       " 4.252867857340986,\n",
       " 4.016236064314913,\n",
       " 3.983544480094838,\n",
       " 4.027028481382813,\n",
       " 4.3186580112207515,\n",
       " 3.8565596704867224,\n",
       " 3.9264479363825395,\n",
       " 3.827933007034884,\n",
       " 3.370759695233011,\n",
       " 4.470300960117461,\n",
       " 3.7945830207191746,\n",
       " 4.14672817074936,\n",
       " 4.149194606262023,\n",
       " 3.9873097455993216,\n",
       " 4.4287960639945085,\n",
       " 4.309401503648876,\n",
       " 4.028656412815252,\n",
       " 4.130621098912515,\n",
       " 3.7239413439387645,\n",
       " 3.7363150173964677,\n",
       " 3.9397588862001953,\n",
       " 4.241403518422176,\n",
       " 3.9054958245343756,\n",
       " 3.9683407970243763,\n",
       " 4.40312191127361,\n",
       " 4.359684795671747,\n",
       " 3.9343696183937773,\n",
       " 3.6856073455097507,\n",
       " 3.883967232152944,\n",
       " 4.018383978056282,\n",
       " 3.922922186365247,\n",
       " 3.984914696382728,\n",
       " 3.9710461124203755,\n",
       " 4.07444768028561,\n",
       " 3.6788569021084747,\n",
       " 4.002176402367587,\n",
       " 3.740803359855687,\n",
       " 4.2033445826966105,\n",
       " 3.7940375600192895,\n",
       " 4.085271253511933,\n",
       " 4.333020596474,\n",
       " 4.236662976929105,\n",
       " 4.054553534864292,\n",
       " 3.9533569137221454,\n",
       " 4.168161443842451,\n",
       " 3.799527433967898,\n",
       " 4.153734128785189,\n",
       " 4.114608545794029,\n",
       " 3.9912144771964564,\n",
       " 3.9532050189055723,\n",
       " 3.881623110127181,\n",
       " 4.736972152198294,\n",
       " 4.130273105393135,\n",
       " 4.242016285571328,\n",
       " 4.104883439753868,\n",
       " 3.76869855671933,\n",
       " 4.057791841940938,\n",
       " 4.083787181624425,\n",
       " 3.8357843071501483,\n",
       " 3.8502170981946313,\n",
       " 3.834427064408832,\n",
       " 4.040843841224783,\n",
       " 3.8720267894666476,\n",
       " 4.016967314813052,\n",
       " 4.184303543678681,\n",
       " 4.361541505951602,\n",
       " 3.855168719783285,\n",
       " 4.412515070103131,\n",
       " 4.260256481200993,\n",
       " 4.014604767107587,\n",
       " 4.560794002955227,\n",
       " 3.928091714509369,\n",
       " 3.774972975758378,\n",
       " 4.036264283183765,\n",
       " 4.367059876410816,\n",
       " 3.8837079441264146,\n",
       " 3.7339632692689237,\n",
       " 3.628501724279501,\n",
       " 3.73550816473103,\n",
       " 3.747254651847552,\n",
       " 4.20490070260167,\n",
       " 4.273044217635198,\n",
       " 3.9653401162861295,\n",
       " 3.5020436110985877,\n",
       " 3.9719790592579884,\n",
       " 4.345687642501147,\n",
       " 4.218129599832556,\n",
       " 3.9316297261454745,\n",
       " 3.7886617610223765,\n",
       " 4.104953407064842,\n",
       " 4.289878018835095,\n",
       " 4.196667282714321,\n",
       " 3.795484192776933,\n",
       " 3.9046127797310106,\n",
       " 3.9098562140890833,\n",
       " 3.7424363560533154,\n",
       " 4.025023456537735,\n",
       " 4.124884115204959,\n",
       " 3.8472008339552355,\n",
       " 3.537550808319145,\n",
       " 4.198697605595591,\n",
       " 4.1817462490356165,\n",
       " 3.994371223103001,\n",
       " 3.3696242528940297,\n",
       " 4.527826822034796,\n",
       " 4.126035856252929,\n",
       " 3.967842220390468,\n",
       " 3.22957756531535,\n",
       " 4.027969319443942,\n",
       " 4.526511795252784,\n",
       " 3.3602965695156457,\n",
       " 3.569373270201146,\n",
       " 4.245197604686565,\n",
       " 3.800613021155045,\n",
       " 4.25465172587362,\n",
       " 4.146983288972592,\n",
       " 4.567384577511084,\n",
       " 4.010915035459762,\n",
       " 4.031228577076606,\n",
       " 4.2753144219207835,\n",
       " 3.8274129351044692,\n",
       " 3.991760906459936,\n",
       " 4.509402898905554,\n",
       " 4.091565780427306,\n",
       " 4.1003354835363535,\n",
       " 4.248612772002182,\n",
       " 3.8097276077423983,\n",
       " 3.949585515044299,\n",
       " 4.466095223774611,\n",
       " 4.247512518076433,\n",
       " 4.005621638245392,\n",
       " 4.470947803113585,\n",
       " 3.872589376710407,\n",
       " 4.312695769314416,\n",
       " 3.936474952046544,\n",
       " 3.851921178888449,\n",
       " 3.928383460236641,\n",
       " 3.913133717911838,\n",
       " 3.8130101842874766,\n",
       " 3.931927196557787,\n",
       " 4.018017260350161,\n",
       " 4.243110584454302,\n",
       " 4.120252104431213,\n",
       " 4.308444846566244,\n",
       " 4.19483582531156,\n",
       " 4.0357001154865335,\n",
       " 3.904821233286504,\n",
       " 3.6812689049468856,\n",
       " 4.487103651576994,\n",
       " 4.100162369485684,\n",
       " 4.133663221881154,\n",
       " 4.152097829071968,\n",
       " 3.986402260258013,\n",
       " 4.75920821952765,\n",
       " 3.725630028721384,\n",
       " 4.121434929348875,\n",
       " 3.754277775474743,\n",
       " 4.15281516838362,\n",
       " 4.077506253104452,\n",
       " 4.287004186372927,\n",
       " 3.929595701427691,\n",
       " 4.319516220388726,\n",
       " 4.172296233382153,\n",
       " 3.5333899163617546,\n",
       " 3.9178125295515023,\n",
       " 4.154811073206839,\n",
       " 4.326598336112293,\n",
       " 3.989772312727967,\n",
       " 4.2753793553794575,\n",
       " 3.4543146654581065,\n",
       " 4.188784720909846,\n",
       " 3.9343972116499693,\n",
       " 3.5517646170699706,\n",
       " 3.823944358561209,\n",
       " 3.9562150529694327,\n",
       " 3.895350070691009,\n",
       " 3.9343436611100557,\n",
       " 3.7830595028928586,\n",
       " 4.135136999802095,\n",
       " 4.13011464266616,\n",
       " 4.01293148913271,\n",
       " 4.129871050070763,\n",
       " 3.860152889184742,\n",
       " 4.499533306228665,\n",
       " 4.015372723685744,\n",
       " 4.114044746168861,\n",
       " 3.773332610822024,\n",
       " 3.971238522373701,\n",
       " 3.6739642603586447,\n",
       " 4.145707004207222,\n",
       " 4.220812190394549,\n",
       " 3.8168016740186004,\n",
       " 3.6663233801047945,\n",
       " 3.8081353827256366,\n",
       " 3.9597303191575586,\n",
       " 3.906536811983443,\n",
       " 3.6973387272538374,\n",
       " 4.275436964000535,\n",
       " 4.002271785728764,\n",
       " 3.893026130062588,\n",
       " 4.009812901842347,\n",
       " 3.743478940818941,\n",
       " 4.3917371674003975,\n",
       " 3.9420782691756764,\n",
       " 3.8533518124920088,\n",
       " 3.577503624701248,\n",
       " 3.8380201288814377,\n",
       " 3.6637980141516806,\n",
       " 4.418641835468385,\n",
       " 3.694733014488287,\n",
       " 4.003056903967532,\n",
       " 4.033422977794319,\n",
       " 4.206774581113864,\n",
       " 4.0729896422922565,\n",
       " 3.501977149028943,\n",
       " 3.979456696207137,\n",
       " 3.7153995103553314,\n",
       " 3.502811333622561,\n",
       " 4.067233478736457,\n",
       " 4.373131185296114,\n",
       " 4.130760769277535,\n",
       " 3.703731637287116,\n",
       " 3.904566062146233,\n",
       " 4.037180185855663,\n",
       " 3.7802125934371085,\n",
       " 4.3641188554103465,\n",
       " 3.8096277718924796,\n",
       " 4.314933496833627,\n",
       " 4.303050159340911,\n",
       " 3.807148138890254,\n",
       " 4.004745346714646,\n",
       " 3.7961036866596087,\n",
       " 4.21325951643397,\n",
       " 3.8240521527662272,\n",
       " 4.042383350401841,\n",
       " 3.7845615039223817,\n",
       " 4.251663556470558,\n",
       " 3.5330106388629665,\n",
       " 4.297047020670864,\n",
       " 4.47875259780311,\n",
       " 3.9267166840604846,\n",
       " 4.1068306020828516,\n",
       " 4.251517176269239,\n",
       " 4.1676894062317675,\n",
       " 3.9703447865396755,\n",
       " 4.087192510540585,\n",
       " 3.865056187229018,\n",
       " 4.224764491032601,\n",
       " 4.1065556532056995,\n",
       " 4.270028264316483,\n",
       " 3.6354105217147366,\n",
       " 3.779171379078923,\n",
       " 3.938371369513777,\n",
       " 4.039736490104781,\n",
       " 3.510878817473958,\n",
       " 3.812519176848582,\n",
       " 4.295139602240377,\n",
       " 4.011142712505662,\n",
       " 3.834169606169424,\n",
       " 3.7672553037824676,\n",
       " 3.477953565026818,\n",
       " 3.8671878400586124,\n",
       " 3.7703465097740954,\n",
       " 3.9193666739520205,\n",
       " 3.8195298120309515,\n",
       " 3.9907300761227225,\n",
       " 3.5947674102021026,\n",
       " 3.798256881619051,\n",
       " 4.399056230637003,\n",
       " 3.883570089027251,\n",
       " 4.467387545933228,\n",
       " 4.2804176090971096,\n",
       " 4.238930634717612,\n",
       " 3.6399381150427628,\n",
       " 3.9446911024441382,\n",
       " 4.225216942527365,\n",
       " 3.99492400171534,\n",
       " 4.182821468876961,\n",
       " 4.199738939689594,\n",
       " 4.095548916321105,\n",
       " 4.027562237415234,\n",
       " 4.0595803586341965,\n",
       " 4.239806955430774,\n",
       " 4.499113861205873,\n",
       " 3.873439038136392,\n",
       " 4.188651047936689,\n",
       " 3.633378007405722,\n",
       " 3.842052248082653,\n",
       " 3.9994428885801354,\n",
       " 4.166254877166758,\n",
       " 3.7341819626648984,\n",
       " 4.274212462623412,\n",
       " 3.6857183818410824,\n",
       " 3.861324175509955,\n",
       " 4.0609363476591245,\n",
       " 3.697794157850658,\n",
       " 4.020377932578772,\n",
       " 3.7680478172580374,\n",
       " 4.38161205591678,\n",
       " 4.0098387255076196,\n",
       " 4.028330577603568,\n",
       " 3.851312759899843,\n",
       " 4.554891337537564,\n",
       " 3.720898781284275,\n",
       " 3.7146410310322984,\n",
       " 4.1472610192008,\n",
       " 4.062814513590572,\n",
       " 3.975018470664473,\n",
       " 4.113621027493426,\n",
       " 3.877617879901128,\n",
       " 4.416143053647175,\n",
       " 4.265091033683925,\n",
       " 3.6147056604276377,\n",
       " 4.007567877825077,\n",
       " 4.093842254719915,\n",
       " 3.9370268141334264,\n",
       " 3.7448902347278556,\n",
       " 3.6931259250669433,\n",
       " 4.131185182818088,\n",
       " 4.072505976701029,\n",
       " 3.7612245056128444,\n",
       " 4.064569391424186,\n",
       " 3.7847142247584395,\n",
       " 4.254910044427505,\n",
       " 3.8490146759384865,\n",
       " 4.541882388926049,\n",
       " 4.172464211673974,\n",
       " 3.9623937793930972,\n",
       " 4.020554878040225,\n",
       " 4.277997975136809,\n",
       " 3.932184271801252,\n",
       " 4.117233818730749,\n",
       " 4.064837771054732,\n",
       " 3.980887405411792,\n",
       " 3.918342265315283,\n",
       " 3.6732819343089176,\n",
       " 3.817791469368925,\n",
       " 4.262423412541943,\n",
       " 3.9828594871685086,\n",
       " 4.1327051823973875,\n",
       " 4.340736613633583,\n",
       " 4.3655157571334895,\n",
       " 3.7784653949498894,\n",
       " 3.8936799197403738,\n",
       " 3.8233989516235143,\n",
       " 4.0825240016765045,\n",
       " 3.890446295303989,\n",
       " 4.436997531778943,\n",
       " 3.778697888730174,\n",
       " 4.076804918389159,\n",
       " 4.036962867099942,\n",
       " 3.8176348775225977,\n",
       " 4.203364617529593,\n",
       " 3.6727691451924707,\n",
       " 4.1366512165092555,\n",
       " 3.8958668860460657,\n",
       " 4.045734740360037,\n",
       " 3.6889270362076507,\n",
       " 3.8350717247196093,\n",
       " 3.5255113864731675,\n",
       " 3.9329694494134424,\n",
       " 4.05693177264331,\n",
       " 4.345259249250054,\n",
       " 3.860666582437717,\n",
       " 3.852494819456365,\n",
       " 4.040192908195889,\n",
       " 4.04333180970386,\n",
       " 3.815677539136113,\n",
       " 4.345127860590008,\n",
       " 3.660904719079718,\n",
       " 3.9678260309524767,\n",
       " 3.4384002276602836,\n",
       " 3.7070873586952997,\n",
       " 4.556051197746977,\n",
       " 3.5168775919150703,\n",
       " 4.107981893707609,\n",
       " 4.03256081489369,\n",
       " 3.8522879114638107,\n",
       " 4.328126192529545,\n",
       " 4.084601712904128,\n",
       " 4.436811949845337,\n",
       " 3.9292881079033237,\n",
       " 4.174551296897684,\n",
       " 4.0377304611141955,\n",
       " 3.99568267268113,\n",
       " 4.0430613834051154,\n",
       " 4.2310107625386,\n",
       " 4.322763179318411,\n",
       " 3.68902222073986,\n",
       " 4.403157795794738,\n",
       " 4.003499516302699,\n",
       " 3.9199045520229854,\n",
       " 3.8769509378502214,\n",
       " 3.9455020287348868,\n",
       " 3.8121425944446456,\n",
       " 3.8875719869660563,\n",
       " 4.420369207827551,\n",
       " 4.222085222672405,\n",
       " 3.831220195929504,\n",
       " 3.5594432028541783,\n",
       " 4.065146930704195,\n",
       " 4.175894894181457,\n",
       " 4.136807984876416,\n",
       " 3.4466533776404455,\n",
       " 4.043604858180428,\n",
       " 3.82560377205955,\n",
       " 3.8524006719868447,\n",
       " 3.7905352057170965,\n",
       " 3.9398057920255063,\n",
       " 3.983576250404031,\n",
       " 3.6200738826773113,\n",
       " 4.145034821014595,\n",
       " 3.940548870001553,\n",
       " 3.815732072872725,\n",
       " 3.696167840498448,\n",
       " 3.6077415549939147,\n",
       " 3.753403826580553,\n",
       " 4.347847029373616,\n",
       " 4.045174544311432,\n",
       " 3.77712280573263,\n",
       " 3.7738122077907525,\n",
       " 4.2937816600586585,\n",
       " 4.0363677860124225,\n",
       " 3.8703712432822983,\n",
       " 3.781461615111121,\n",
       " 3.927200439404377,\n",
       " 4.1862499564377895,\n",
       " 4.109813271940416,\n",
       " 3.9292802377184466,\n",
       " 3.7717302664791506,\n",
       " 3.940474518834283,\n",
       " 4.062076547013183,\n",
       " 4.081768373710323,\n",
       " 3.8962743859300013,\n",
       " 4.216894233604302,\n",
       " 3.8001018619913722,\n",
       " 4.189757912754508,\n",
       " 4.2782288529967705,\n",
       " 4.114050579175592,\n",
       " 4.422968392825263,\n",
       " 4.444318682838007,\n",
       " 3.900010030873941,\n",
       " 3.494707961902351,\n",
       " 3.858542827373962,\n",
       " 4.184578537078491,\n",
       " 4.13746637546725,\n",
       " 4.213884851303465,\n",
       " 4.0592641942314405,\n",
       " 4.125258638243585,\n",
       " 3.862691317590906,\n",
       " 3.935480115543399,\n",
       " 3.453995263109981,\n",
       " 3.9373016034622665,\n",
       " 4.2074360974585145,\n",
       " 4.235586892457726,\n",
       " 4.173100052058384,\n",
       " 4.106051142906293,\n",
       " 4.035411721617599,\n",
       " 3.9525721198746786,\n",
       " 3.531535362007238,\n",
       " 3.53451290875269,\n",
       " 3.8671863476648296,\n",
       " 3.877961267294731,\n",
       " 3.838810234798268,\n",
       " 3.9238566686778804,\n",
       " 4.69560666147583,\n",
       " 4.025494031955086,\n",
       " 4.1413084972494225,\n",
       " 3.7595234339044277,\n",
       " 4.536044750649941,\n",
       " 3.6660597935605472,\n",
       " 3.9908400703701,\n",
       " 3.804958807837653,\n",
       " 3.877285691936445,\n",
       " 3.885013808585243,\n",
       " 3.8403310468410234,\n",
       " 4.067961550628466,\n",
       " 3.6364176947512314,\n",
       " 4.299027955322612,\n",
       " 3.6431693327245354,\n",
       " 3.742319261868181,\n",
       " 4.254285067893728,\n",
       " 3.9952575614396215,\n",
       " 4.149248246988151,\n",
       " 4.079652631617763,\n",
       " 4.015531455383844,\n",
       " 4.015490121004558,\n",
       " 4.165843893989363,\n",
       " 4.0526237985184865,\n",
       " 3.6611385110087618,\n",
       " 4.202323806379888,\n",
       " 4.228375828486011,\n",
       " 3.589126659337847,\n",
       " 4.23662562536181,\n",
       " 4.355992475884145,\n",
       " 4.277462184267525,\n",
       " 3.757631094063263,\n",
       " 4.274690146811158,\n",
       " 3.92049903378469,\n",
       " 3.896466531227464,\n",
       " 3.884959581533797,\n",
       " 3.89442915819093,\n",
       " 3.993373846547572,\n",
       " 4.155303753704123,\n",
       " 3.8314424877654445,\n",
       " 3.719130099926608,\n",
       " 4.668042606891516,\n",
       " 4.262446462312518,\n",
       " 4.0010417183119396,\n",
       " 3.7419042841351846,\n",
       " 3.5739227705290366,\n",
       " 4.1341715972555155,\n",
       " 4.43658390945711,\n",
       " 3.9206124218193623,\n",
       " 3.781091268113896,\n",
       " 3.9032969630980174,\n",
       " 3.892620861820437,\n",
       " 3.6344655237115133,\n",
       " 3.8221864302639856,\n",
       " 4.31226166840118,\n",
       " 4.21482467892304,\n",
       " 4.220249234581876,\n",
       " 4.100649508892374,\n",
       " 4.0630469122932,\n",
       " 4.218710102678034,\n",
       " 3.9687279477968906,\n",
       " 4.331660871118287,\n",
       " 3.989088268688274,\n",
       " 4.448494262898876,\n",
       " 4.140247017660438,\n",
       " 4.108224788351599,\n",
       " 3.464824753993091,\n",
       " 3.702319002602664,\n",
       " 4.022107928858556,\n",
       " 3.4302482304313715,\n",
       " 3.718583755036879,\n",
       " 3.7023992747572216,\n",
       " 3.7213575772055174,\n",
       " 4.2041422765453165,\n",
       " 4.203517021701818,\n",
       " 4.13819870261519,\n",
       " 3.5537283874735124,\n",
       " 3.724968821271367,\n",
       " 4.537667470724496,\n",
       " 4.200473795248734,\n",
       " 4.184332056293799,\n",
       " 3.8241843043511516,\n",
       " 3.938839975788607,\n",
       " 4.2480049039768675,\n",
       " 3.698333764977952,\n",
       " 3.5374726798556617,\n",
       " 4.223106286317693,\n",
       " 4.271852404798586,\n",
       " 3.8348961469981275,\n",
       " 3.8815192145319424,\n",
       " 3.7536372209822035,\n",
       " 4.266375393760647,\n",
       " 3.9022183948520626,\n",
       " 4.029983554943569,\n",
       " 4.063493082840228,\n",
       " 4.162849684900441,\n",
       " 3.788982996446349,\n",
       " 4.174743579827261,\n",
       " 3.5748561030370203]"
      ]
     },
     "execution_count": 117,
     "metadata": {},
     "output_type": "execute_result"
    }
   ],
   "source": [
    "sample_means   # 샘플 평균들의 분포"
   ]
  },
  {
   "cell_type": "code",
   "execution_count": 118,
   "id": "d8277f11",
   "metadata": {},
   "outputs": [
    {
     "data": {
      "text/plain": [
       "4.002828811194817"
      ]
     },
     "execution_count": 118,
     "metadata": {},
     "output_type": "execute_result"
    }
   ],
   "source": [
    "sp.mean(sample_means )   # 샘플 평균들의 분포의 평균    => 모평균에 수령"
   ]
  },
  {
   "cell_type": "code",
   "execution_count": 119,
   "id": "615913e9",
   "metadata": {},
   "outputs": [
    {
     "data": {
      "text/plain": [
       "0.06372341219603908"
      ]
     },
     "execution_count": 119,
     "metadata": {},
     "output_type": "execute_result"
    }
   ],
   "source": [
    "sp.var(sample_means)    # 샘플 평균들의 분포의 분산    => 모분산에 수령"
   ]
  },
  {
   "cell_type": "code",
   "execution_count": 120,
   "id": "f957335b",
   "metadata": {},
   "outputs": [
    {
     "data": {
      "text/plain": [
       "6.372341219603908"
      ]
     },
     "execution_count": 120,
     "metadata": {},
     "output_type": "execute_result"
    }
   ],
   "source": [
    "# 모분산/n     0.64/30\n",
    "# 모분산\n",
    "\n",
    "sp.var(sample_means) * 100"
   ]
  },
  {
   "cell_type": "code",
   "execution_count": 122,
   "id": "239640e0",
   "metadata": {},
   "outputs": [
    {
     "data": {
      "text/plain": [
       "<AxesSubplot:ylabel='Density'>"
      ]
     },
     "execution_count": 122,
     "metadata": {},
     "output_type": "execute_result"
    },
    {
     "data": {
      "image/png": "[encoded data removed]",
      "text/plain": [
       "<Figure size 432x288 with 1 Axes>"
      ]
     },
     "metadata": {
      "needs_background": "light"
     },
     "output_type": "display_data"
    }
   ],
   "source": [
    "sns.distplot(sample_means, bins=100)   # 샘플 평균들의 분포 > 정규분포(mu, theta/n) > N(4, 0.61)"
   ]
  },
  {
   "cell_type": "code",
   "execution_count": null,
   "id": "32095107",
   "metadata": {},
   "outputs": [],
   "source": []
  },
  {
   "cell_type": "code",
   "execution_count": 123,
   "id": "9a883346",
   "metadata": {},
   "outputs": [],
   "source": [
    "from scipy import stats"
   ]
  },
  {
   "cell_type": "code",
   "execution_count": 125,
   "id": "20745d0a",
   "metadata": {},
   "outputs": [
    {
     "data": {
      "text/plain": [
       "array([1. , 1.1, 1.2, 1.3, 1.4, 1.5, 1.6, 1.7, 1.8, 1.9, 2. , 2.1, 2.2,\n",
       "       2.3, 2.4, 2.5, 2.6, 2.7, 2.8, 2.9, 3. , 3.1, 3.2, 3.3, 3.4, 3.5,\n",
       "       3.6, 3.7, 3.8, 3.9, 4. , 4.1, 4.2, 4.3, 4.4, 4.5, 4.6, 4.7, 4.8,\n",
       "       4.9, 5. , 5.1, 5.2, 5.3, 5.4, 5.5, 5.6, 5.7, 5.8, 5.9, 6. , 6.1,\n",
       "       6.2, 6.3, 6.4, 6.5, 6.6, 6.7, 6.8, 6.9])"
      ]
     },
     "execution_count": 125,
     "metadata": {},
     "output_type": "execute_result"
    }
   ],
   "source": [
    "x = np.arange(start=1, stop=7, step=0.1)\n",
    "x"
   ]
  },
  {
   "cell_type": "code",
   "execution_count": 126,
   "id": "f63a62d9",
   "metadata": {},
   "outputs": [
    {
     "data": {
      "text/plain": [
       "array([4.40744603e-04, 6.98826903e-04, 1.09085337e-03, 1.67639859e-03,\n",
       "       2.53631007e-03, 3.77782254e-03, 5.53981051e-03, 7.99765039e-03,\n",
       "       1.13669531e-02, 1.59052270e-02, 2.19103756e-02, 2.97148760e-02,\n",
       "       3.96745648e-02, 5.21512316e-02, 6.74887081e-02, 8.59828448e-02,\n",
       "       1.07846649e-01, 1.33172835e-01, 1.61896995e-01, 1.93765332e-01,\n",
       "       2.28311357e-01, 2.64845807e-01, 3.02463406e-01, 3.40068748e-01,\n",
       "       3.76421790e-01, 4.10201211e-01, 4.40081658e-01, 4.64818867e-01,\n",
       "       4.83335146e-01, 4.94797109e-01, 4.98677851e-01, 4.94797109e-01,\n",
       "       4.83335146e-01, 4.64818867e-01, 4.40081658e-01, 4.10201211e-01,\n",
       "       3.76421790e-01, 3.40068748e-01, 3.02463406e-01, 2.64845807e-01,\n",
       "       2.28311357e-01, 1.93765332e-01, 1.61896995e-01, 1.33172835e-01,\n",
       "       1.07846649e-01, 8.59828448e-02, 6.74887081e-02, 5.21512316e-02,\n",
       "       3.96745648e-02, 2.97148760e-02, 2.19103756e-02, 1.59052270e-02,\n",
       "       1.13669531e-02, 7.99765039e-03, 5.53981051e-03, 3.77782254e-03,\n",
       "       2.53631007e-03, 1.67639859e-03, 1.09085337e-03, 6.98826903e-04])"
      ]
     },
     "execution_count": 126,
     "metadata": {},
     "output_type": "execute_result"
    }
   ],
   "source": [
    "stats.norm.pdf(x=x, loc=4, scale=0.8)   # 평균 4, 표준편차 0.8인 정규분포에서 x값에 대한 확률값"
   ]
  },
  {
   "cell_type": "code",
   "execution_count": 127,
   "id": "4fbed495",
   "metadata": {},
   "outputs": [
    {
     "data": {
      "text/plain": [
       "[<matplotlib.lines.Line2D at 0x2448ff9c0a0>]"
      ]
     },
     "execution_count": 127,
     "metadata": {},
     "output_type": "execute_result"
    },
    {
     "data": {
      "image/png": "[encoded data removed]",
      "text/plain": [
       "<Figure size 432x288 with 1 Axes>"
      ]
     },
     "metadata": {
      "needs_background": "light"
     },
     "output_type": "display_data"
    }
   ],
   "source": [
    "plt.plot(stats.norm.pdf(x=x, loc=4, scale=0.8))"
   ]
  },
  {
   "cell_type": "code",
   "execution_count": 128,
   "id": "35143b55",
   "metadata": {},
   "outputs": [
    {
     "data": {
      "text/plain": [
       "0.021910375616960673"
      ]
     },
     "execution_count": 128,
     "metadata": {},
     "output_type": "execute_result"
    }
   ],
   "source": [
    "stats.norm.pdf(2, loc=4, scale=0.8)   # 2일때"
   ]
  },
  {
   "cell_type": "code",
   "execution_count": 129,
   "id": "a8ebf9c8",
   "metadata": {},
   "outputs": [
    {
     "data": {
      "text/plain": [
       "0.2283113567362774"
      ]
     },
     "execution_count": 129,
     "metadata": {},
     "output_type": "execute_result"
    }
   ],
   "source": [
    "stats.norm.pdf(3, loc=4, scale=0.8)"
   ]
  },
  {
   "cell_type": "code",
   "execution_count": 148,
   "id": "d9624a20",
   "metadata": {},
   "outputs": [
    {
     "data": {
      "text/plain": [
       "array([3.97547026, 3.38624598, 4.0558672 , 2.4520503 , 3.5534081 ,\n",
       "       3.64190795, 4.19126679, 2.42408302, 4.60745073, 3.21897881])"
      ]
     },
     "execution_count": 148,
     "metadata": {},
     "output_type": "execute_result"
    }
   ],
   "source": [
    "sample_norm = stats.norm.rvs(loc=4, scale=0.8, size=10)  # rvs - 특정 분포에서 샘플을 추출하는 함수\n",
    "sample_norm"
   ]
  },
  {
   "cell_type": "code",
   "execution_count": 132,
   "id": "973659a9",
   "metadata": {},
   "outputs": [
    {
     "data": {
      "text/plain": [
       "3.608065866820689"
      ]
     },
     "execution_count": 132,
     "metadata": {},
     "output_type": "execute_result"
    }
   ],
   "source": [
    "sp.mean(sample_norm)"
   ]
  },
  {
   "cell_type": "code",
   "execution_count": 133,
   "id": "8cc8337e",
   "metadata": {},
   "outputs": [
    {
     "data": {
      "text/plain": [
       "0.6447605710387012"
      ]
     },
     "execution_count": 133,
     "metadata": {},
     "output_type": "execute_result"
    }
   ],
   "source": [
    "sp.var(sample_norm)"
   ]
  },
  {
   "cell_type": "code",
   "execution_count": 157,
   "id": "d600bb6a",
   "metadata": {},
   "outputs": [],
   "source": [
    "population = stats.norm.rvs(loc=100, scale=0.8)  # 평균이 4이고 표준편차가 0.8인 정규분포 객체 생성"
   ]
  },
  {
   "cell_type": "code",
   "execution_count": 158,
   "id": "86443b54",
   "metadata": {},
   "outputs": [
    {
     "data": {
      "text/plain": [
       "98.21549959493868"
      ]
     },
     "execution_count": 158,
     "metadata": {},
     "output_type": "execute_result"
    }
   ],
   "source": [
    "population"
   ]
  },
  {
   "cell_type": "code",
   "execution_count": 159,
   "id": "0f4d057b",
   "metadata": {
    "collapsed": true
   },
   "outputs": [
    {
     "ename": "AttributeError",
     "evalue": "'numpy.float64' object has no attribute 'rvs'",
     "output_type": "error",
     "traceback": [
      "\u001b[1;31m---------------------------------------------------------------------------\u001b[0m",
      "\u001b[1;31mAttributeError\u001b[0m                            Traceback (most recent call last)",
      "\u001b[1;32m~\\AppData\\Local\\Temp/ipykernel_15776/1384347137.py\u001b[0m in \u001b[0;36m<module>\u001b[1;34m\u001b[0m\n\u001b[1;32m----> 1\u001b[1;33m \u001b[0mpopulation\u001b[0m\u001b[1;33m.\u001b[0m\u001b[0mrvs\u001b[0m\u001b[1;33m(\u001b[0m\u001b[0msize\u001b[0m\u001b[1;33m=\u001b[0m\u001b[1;36m10\u001b[0m\u001b[1;33m)\u001b[0m  \u001b[1;31m# 샘플 10개 추출\u001b[0m\u001b[1;33m\u001b[0m\u001b[1;33m\u001b[0m\u001b[0m\n\u001b[0m",
      "\u001b[1;31mAttributeError\u001b[0m: 'numpy.float64' object has no attribute 'rvs'"
     ]
    }
   ],
   "source": [
    "population.rvs(size=10)  # 샘플 10개 추출"
   ]
  },
  {
   "cell_type": "code",
   "execution_count": 141,
   "id": "633b115d",
   "metadata": {
    "collapsed": true
   },
   "outputs": [
    {
     "ename": "AttributeError",
     "evalue": "'numpy.float64' object has no attribute 'pdf'",
     "output_type": "error",
     "traceback": [
      "\u001b[1;31m---------------------------------------------------------------------------\u001b[0m",
      "\u001b[1;31mAttributeError\u001b[0m                            Traceback (most recent call last)",
      "\u001b[1;32m~\\AppData\\Local\\Temp/ipykernel_15776/1900997057.py\u001b[0m in \u001b[0;36m<module>\u001b[1;34m\u001b[0m\n\u001b[1;32m----> 1\u001b[1;33m \u001b[0mpopulation\u001b[0m\u001b[1;33m.\u001b[0m\u001b[0mpdf\u001b[0m\u001b[1;33m(\u001b[0m\u001b[1;36m5\u001b[0m\u001b[1;33m)\u001b[0m \u001b[1;31m# 5가 등장할 확률\u001b[0m\u001b[1;33m\u001b[0m\u001b[1;33m\u001b[0m\u001b[0m\n\u001b[0m",
      "\u001b[1;31mAttributeError\u001b[0m: 'numpy.float64' object has no attribute 'pdf'"
     ]
    }
   ],
   "source": [
    "population.pdf(5) # 5가 등장할 확률"
   ]
  },
  {
   "cell_type": "code",
   "execution_count": null,
   "id": "c07dce13",
   "metadata": {},
   "outputs": [],
   "source": [
    "# 중심극한정리"
   ]
  },
  {
   "cell_type": "code",
   "execution_count": 142,
   "id": "21dc2f9f",
   "metadata": {
    "collapsed": true
   },
   "outputs": [
    {
     "ename": "AttributeError",
     "evalue": "'numpy.float64' object has no attribute 'rvs'",
     "output_type": "error",
     "traceback": [
      "\u001b[1;31m---------------------------------------------------------------------------\u001b[0m",
      "\u001b[1;31mAttributeError\u001b[0m                            Traceback (most recent call last)",
      "\u001b[1;32m~\\AppData\\Local\\Temp/ipykernel_15776/929408145.py\u001b[0m in \u001b[0;36m<module>\u001b[1;34m\u001b[0m\n\u001b[0;32m      2\u001b[0m \u001b[1;33m\u001b[0m\u001b[0m\n\u001b[0;32m      3\u001b[0m \u001b[1;32mfor\u001b[0m \u001b[0m_\u001b[0m \u001b[1;32min\u001b[0m \u001b[0mrange\u001b[0m\u001b[1;33m(\u001b[0m\u001b[1;36m100\u001b[0m\u001b[1;33m)\u001b[0m\u001b[1;33m:\u001b[0m\u001b[1;33m\u001b[0m\u001b[1;33m\u001b[0m\u001b[0m\n\u001b[1;32m----> 4\u001b[1;33m     \u001b[0msample\u001b[0m \u001b[1;33m=\u001b[0m \u001b[0mpopulation\u001b[0m\u001b[1;33m.\u001b[0m\u001b[0mrvs\u001b[0m\u001b[1;33m(\u001b[0m\u001b[0msize\u001b[0m\u001b[1;33m=\u001b[0m\u001b[1;36m30\u001b[0m\u001b[1;33m)\u001b[0m   \u001b[1;31m# 이론적으로 30개 이상 추출해야 중심극한정리 성립\u001b[0m\u001b[1;33m\u001b[0m\u001b[1;33m\u001b[0m\u001b[0m\n\u001b[0m\u001b[0;32m      5\u001b[0m     \u001b[0msample_means\u001b[0m\u001b[1;33m.\u001b[0m\u001b[0mappend\u001b[0m\u001b[1;33m(\u001b[0m\u001b[0msp\u001b[0m\u001b[1;33m.\u001b[0m\u001b[0mmean\u001b[0m\u001b[1;33m(\u001b[0m\u001b[0msample\u001b[0m\u001b[1;33m)\u001b[0m\u001b[1;33m)\u001b[0m\u001b[1;33m\u001b[0m\u001b[1;33m\u001b[0m\u001b[0m\n",
      "\u001b[1;31mAttributeError\u001b[0m: 'numpy.float64' object has no attribute 'rvs'"
     ]
    }
   ],
   "source": [
    "sample_means = []\n",
    "\n",
    "for _ in range(100):\n",
    "    sample = population.rvs(size=30)   # 이론적으로 30개 이상 추출해야 중심극한정리 성립\n",
    "    sample_means.append(sp.mean(sample))"
   ]
  },
  {
   "cell_type": "code",
   "execution_count": 145,
   "id": "3f2f8c3c",
   "metadata": {},
   "outputs": [
    {
     "data": {
      "text/plain": [
       "nan"
      ]
     },
     "execution_count": 145,
     "metadata": {},
     "output_type": "execute_result"
    }
   ],
   "source": [
    "sp.mean(sample_means)"
   ]
  },
  {
   "cell_type": "code",
   "execution_count": 146,
   "id": "f72b3638",
   "metadata": {},
   "outputs": [
    {
     "data": {
      "text/plain": [
       "nan"
      ]
     },
     "execution_count": 146,
     "metadata": {},
     "output_type": "execute_result"
    }
   ],
   "source": [
    "sp.var(sample_means) * 30        # 표본평균분포의 분산 = thera/n"
   ]
  },
  {
   "cell_type": "code",
   "execution_count": 147,
   "id": "fa691bc3",
   "metadata": {},
   "outputs": [
    {
     "data": {
      "text/plain": [
       "<AxesSubplot:>"
      ]
     },
     "execution_count": 147,
     "metadata": {},
     "output_type": "execute_result"
    },
    {
     "data": {
      "image/png": "[encoded data removed]",
      "text/plain": [
       "<Figure size 432x288 with 1 Axes>"
      ]
     },
     "metadata": {
      "needs_background": "light"
     },
     "output_type": "display_data"
    }
   ],
   "source": [
    "sns.distplot(sample_means, bins=100)"
   ]
  },
  {
   "cell_type": "code",
   "execution_count": 160,
   "id": "fa8d13d7",
   "metadata": {},
   "outputs": [],
   "source": [
    "def calc_sample_mean(size=30, n_trial=10000):\n",
    "    \n",
    "    sample_means = []\n",
    "\n",
    "    for _ in range(n_trial):\n",
    "        sample = population.rvs(size=30)   # 이론적으로 30개 이상 추출해야 중심극한정리 성립\n",
    "        sample_means.append(sp.mean(sample))\n",
    "        \n",
    "    return sample_means"
   ]
  },
  {
   "cell_type": "code",
   "execution_count": 162,
   "id": "990c6fe1",
   "metadata": {
    "collapsed": true
   },
   "outputs": [
    {
     "ename": "AttributeError",
     "evalue": "'numpy.float64' object has no attribute 'rvs'",
     "output_type": "error",
     "traceback": [
      "\u001b[1;31m---------------------------------------------------------------------------\u001b[0m",
      "\u001b[1;31mAttributeError\u001b[0m                            Traceback (most recent call last)",
      "\u001b[1;32m~\\AppData\\Local\\Temp/ipykernel_15776/2639624482.py\u001b[0m in \u001b[0;36m<module>\u001b[1;34m\u001b[0m\n\u001b[1;32m----> 1\u001b[1;33m \u001b[0msam_arr1\u001b[0m \u001b[1;33m=\u001b[0m \u001b[0mcalc_sample_mean\u001b[0m\u001b[1;33m(\u001b[0m\u001b[0msize\u001b[0m\u001b[1;33m=\u001b[0m\u001b[1;36m30\u001b[0m\u001b[1;33m,\u001b[0m \u001b[0mn_trial\u001b[0m\u001b[1;33m=\u001b[0m\u001b[1;36m1000\u001b[0m\u001b[1;33m)\u001b[0m\u001b[1;33m\u001b[0m\u001b[1;33m\u001b[0m\u001b[0m\n\u001b[0m\u001b[0;32m      2\u001b[0m \u001b[0msam_arr2\u001b[0m \u001b[1;33m=\u001b[0m \u001b[0mcalc_sample_mean\u001b[0m\u001b[1;33m(\u001b[0m\u001b[0msize\u001b[0m\u001b[1;33m=\u001b[0m\u001b[1;36m100\u001b[0m\u001b[1;33m,\u001b[0m \u001b[0mn_trial\u001b[0m\u001b[1;33m=\u001b[0m\u001b[1;36m1000\u001b[0m\u001b[1;33m)\u001b[0m\u001b[1;33m\u001b[0m\u001b[1;33m\u001b[0m\u001b[0m\n\u001b[0;32m      3\u001b[0m \u001b[0msam_arr3\u001b[0m \u001b[1;33m=\u001b[0m \u001b[0mcalc_sample_mean\u001b[0m\u001b[1;33m(\u001b[0m\u001b[0msize\u001b[0m\u001b[1;33m=\u001b[0m\u001b[1;36m500\u001b[0m\u001b[1;33m,\u001b[0m \u001b[0mn_trial\u001b[0m\u001b[1;33m=\u001b[0m\u001b[1;36m1000\u001b[0m\u001b[1;33m)\u001b[0m\u001b[1;33m\u001b[0m\u001b[1;33m\u001b[0m\u001b[0m\n",
      "\u001b[1;32m~\\AppData\\Local\\Temp/ipykernel_15776/455027269.py\u001b[0m in \u001b[0;36mcalc_sample_mean\u001b[1;34m(size, n_trial)\u001b[0m\n\u001b[0;32m      4\u001b[0m \u001b[1;33m\u001b[0m\u001b[0m\n\u001b[0;32m      5\u001b[0m     \u001b[1;32mfor\u001b[0m \u001b[0m_\u001b[0m \u001b[1;32min\u001b[0m \u001b[0mrange\u001b[0m\u001b[1;33m(\u001b[0m\u001b[0mn_trial\u001b[0m\u001b[1;33m)\u001b[0m\u001b[1;33m:\u001b[0m\u001b[1;33m\u001b[0m\u001b[1;33m\u001b[0m\u001b[0m\n\u001b[1;32m----> 6\u001b[1;33m         \u001b[0msample\u001b[0m \u001b[1;33m=\u001b[0m \u001b[0mpopulation\u001b[0m\u001b[1;33m.\u001b[0m\u001b[0mrvs\u001b[0m\u001b[1;33m(\u001b[0m\u001b[0msize\u001b[0m\u001b[1;33m=\u001b[0m\u001b[1;36m30\u001b[0m\u001b[1;33m)\u001b[0m   \u001b[1;31m# 이론적으로 30개 이상 추출해야 중심극한정리 성립\u001b[0m\u001b[1;33m\u001b[0m\u001b[1;33m\u001b[0m\u001b[0m\n\u001b[0m\u001b[0;32m      7\u001b[0m         \u001b[0msample_means\u001b[0m\u001b[1;33m.\u001b[0m\u001b[0mappend\u001b[0m\u001b[1;33m(\u001b[0m\u001b[0msp\u001b[0m\u001b[1;33m.\u001b[0m\u001b[0mmean\u001b[0m\u001b[1;33m(\u001b[0m\u001b[0msample\u001b[0m\u001b[1;33m)\u001b[0m\u001b[1;33m)\u001b[0m\u001b[1;33m\u001b[0m\u001b[1;33m\u001b[0m\u001b[0m\n\u001b[0;32m      8\u001b[0m \u001b[1;33m\u001b[0m\u001b[0m\n",
      "\u001b[1;31mAttributeError\u001b[0m: 'numpy.float64' object has no attribute 'rvs'"
     ]
    }
   ],
   "source": [
    "sam_arr1 = calc_sample_mean(size=30, n_trial=1000)\n",
    "sam_arr2 = calc_sample_mean(size=100, n_trial=1000)\n",
    "sam_arr3 = calc_sample_mean(size=500, n_trial=1000)\n",
    "sam_arr4 = calc_sample_mean(size=1000, n_trial=1000)"
   ]
  },
  {
   "cell_type": "code",
   "execution_count": 163,
   "id": "22d6c810",
   "metadata": {
    "collapsed": true
   },
   "outputs": [
    {
     "ename": "NameError",
     "evalue": "name 'sam_arr1' is not defined",
     "output_type": "error",
     "traceback": [
      "\u001b[1;31m---------------------------------------------------------------------------\u001b[0m",
      "\u001b[1;31mNameError\u001b[0m                                 Traceback (most recent call last)",
      "\u001b[1;32m~\\AppData\\Local\\Temp/ipykernel_15776/2913214577.py\u001b[0m in \u001b[0;36m<module>\u001b[1;34m\u001b[0m\n\u001b[1;32m----> 1\u001b[1;33m \u001b[0mprint\u001b[0m\u001b[1;33m(\u001b[0m\u001b[0msp\u001b[0m\u001b[1;33m.\u001b[0m\u001b[0mmean\u001b[0m\u001b[1;33m(\u001b[0m\u001b[0msam_arr1\u001b[0m\u001b[1;33m)\u001b[0m\u001b[1;33m,\u001b[0m \u001b[0msp\u001b[0m\u001b[1;33m.\u001b[0m\u001b[0mmean\u001b[0m\u001b[1;33m(\u001b[0m\u001b[0msam_arr2\u001b[0m\u001b[1;33m)\u001b[0m\u001b[1;33m,\u001b[0m \u001b[0msp\u001b[0m\u001b[1;33m.\u001b[0m\u001b[0mmean\u001b[0m\u001b[1;33m(\u001b[0m\u001b[0msam_arr3\u001b[0m\u001b[1;33m)\u001b[0m\u001b[1;33m)\u001b[0m\u001b[1;33m\u001b[0m\u001b[1;33m\u001b[0m\u001b[0m\n\u001b[0m",
      "\u001b[1;31mNameError\u001b[0m: name 'sam_arr1' is not defined"
     ]
    }
   ],
   "source": [
    "print(sp.mean(sam_arr1), sp.mean(sam_arr2), sp.mean(sam_arr3))"
   ]
  },
  {
   "cell_type": "code",
   "execution_count": null,
   "id": "3e149722",
   "metadata": {},
   "outputs": [],
   "source": [
    "print(sp.std(sam_arr1), sp.std(sam_arr2), sp.std(sam_arr3))  # theta/n"
   ]
  },
  {
   "cell_type": "code",
   "execution_count": null,
   "id": "9a927d9a",
   "metadata": {},
   "outputs": [],
   "source": []
  },
  {
   "cell_type": "code",
   "execution_count": null,
   "id": "631e656c",
   "metadata": {},
   "outputs": [],
   "source": [
    "sns.distplot(sam_arr1, bins=100)"
   ]
  },
  {
   "cell_type": "code",
   "execution_count": 164,
   "id": "dff01cdf",
   "metadata": {
    "collapsed": true
   },
   "outputs": [
    {
     "ename": "NameError",
     "evalue": "name 'sam_arr2' is not defined",
     "output_type": "error",
     "traceback": [
      "\u001b[1;31m---------------------------------------------------------------------------\u001b[0m",
      "\u001b[1;31mNameError\u001b[0m                                 Traceback (most recent call last)",
      "\u001b[1;32m~\\AppData\\Local\\Temp/ipykernel_15776/4294246479.py\u001b[0m in \u001b[0;36m<module>\u001b[1;34m\u001b[0m\n\u001b[1;32m----> 1\u001b[1;33m \u001b[0msns\u001b[0m\u001b[1;33m.\u001b[0m\u001b[0mdistplot\u001b[0m\u001b[1;33m(\u001b[0m\u001b[0msam_arr2\u001b[0m\u001b[1;33m)\u001b[0m\u001b[1;33m\u001b[0m\u001b[1;33m\u001b[0m\u001b[0m\n\u001b[0m",
      "\u001b[1;31mNameError\u001b[0m: name 'sam_arr2' is not defined"
     ]
    }
   ],
   "source": [
    "sns.distplot(sam_arr2, bins=100)"
   ]
  },
  {
   "cell_type": "code",
   "execution_count": null,
   "id": "9c7c3fa9",
   "metadata": {},
   "outputs": [],
   "source": [
    "sns.distplot(sam_arr3, bins=100)"
   ]
  },
  {
   "cell_type": "code",
   "execution_count": null,
   "id": "79d29ee8",
   "metadata": {},
   "outputs": [],
   "source": [
    "sns.distplot(sam_arr4, bins=100)"
   ]
  },
  {
   "cell_type": "code",
   "execution_count": null,
   "id": "d338c940",
   "metadata": {},
   "outputs": [],
   "source": [
    "# 샘플의 사이즈가 클수록 샘플평균의 분포는 평균은 모평균에 더욱 수렴하고 분산은 줄어든다"
   ]
  },
  {
   "cell_type": "code",
   "execution_count": null,
   "id": "32877351",
   "metadata": {},
   "outputs": [],
   "source": [
    "# 확률밀도함수\n",
    "# PDF(Probability Density Function, 확률 밀도 함수)\n",
    "# CDF(Cumulative Distribution Function, 누적 분포 함수)"
   ]
  },
  {
   "cell_type": "code",
   "execution_count": 168,
   "id": "720b6338",
   "metadata": {},
   "outputs": [],
   "source": [
    "x = np.arange(start=1, stop=7, step=0.1)"
   ]
  },
  {
   "cell_type": "code",
   "execution_count": 166,
   "id": "7f0bb3c5",
   "metadata": {},
   "outputs": [
    {
     "data": {
      "text/plain": [
       "[<matplotlib.lines.Line2D at 0x244902d5e50>]"
      ]
     },
     "execution_count": 166,
     "metadata": {},
     "output_type": "execute_result"
    },
    {
     "data": {
      "image/png": "[encoded data removed]",
      "text/plain": [
       "<Figure size 432x288 with 1 Axes>"
      ]
     },
     "metadata": {
      "needs_background": "light"
     },
     "output_type": "display_data"
    }
   ],
   "source": [
    "plt.plot(stats.norm.pdf(x=x, loc=4, scale=0.8))  # 특정 값의 확률"
   ]
  },
  {
   "cell_type": "code",
   "execution_count": 167,
   "id": "ce70bd8e",
   "metadata": {},
   "outputs": [
    {
     "data": {
      "text/plain": [
       "[<matplotlib.lines.Line2D at 0x244903111f0>]"
      ]
     },
     "execution_count": 167,
     "metadata": {},
     "output_type": "execute_result"
    },
    {
     "data": {
      "image/png": "[encoded data removed]",
      "text/plain": [
       "<Figure size 432x288 with 1 Axes>"
      ]
     },
     "metadata": {
      "needs_background": "light"
     },
     "output_type": "display_data"
    }
   ],
   "source": [
    "plt.plot(stats.norm.cdf(x=x, loc=4, scale=0.8))  # 0부터 특정 값까지 누적확률"
   ]
  },
  {
   "cell_type": "code",
   "execution_count": 169,
   "id": "a9ff6b54",
   "metadata": {},
   "outputs": [],
   "source": [
    "norm_dist = stats.norm(loc=4, scale=0.8)"
   ]
  },
  {
   "cell_type": "code",
   "execution_count": 171,
   "id": "7d64378f",
   "metadata": {},
   "outputs": [
    {
     "data": {
      "text/plain": [
       "0.2283113567362774"
      ]
     },
     "execution_count": 171,
     "metadata": {},
     "output_type": "execute_result"
    }
   ],
   "source": [
    "norm_dist.pdf(x=3)"
   ]
  },
  {
   "cell_type": "code",
   "execution_count": 172,
   "id": "36675c36",
   "metadata": {},
   "outputs": [
    {
     "data": {
      "text/plain": [
       "0.10564977366685535"
      ]
     },
     "execution_count": 172,
     "metadata": {},
     "output_type": "execute_result"
    }
   ],
   "source": [
    "norm_dist.cdf(x=3)  # x값을 입력받은 후 x 까지의 누적밀도확률값"
   ]
  },
  {
   "cell_type": "code",
   "execution_count": 173,
   "id": "bba710c8",
   "metadata": {},
   "outputs": [
    {
     "data": {
      "text/plain": [
       "0.49867785050179086"
      ]
     },
     "execution_count": 173,
     "metadata": {},
     "output_type": "execute_result"
    }
   ],
   "source": [
    "norm_dist.pdf(x=4)"
   ]
  },
  {
   "cell_type": "code",
   "execution_count": 174,
   "id": "1d25099b",
   "metadata": {},
   "outputs": [
    {
     "data": {
      "text/plain": [
       "0.5"
      ]
     },
     "execution_count": 174,
     "metadata": {},
     "output_type": "execute_result"
    }
   ],
   "source": [
    "norm_dist.cdf(x=4)"
   ]
  },
  {
   "cell_type": "code",
   "execution_count": 177,
   "id": "05fcbd58",
   "metadata": {},
   "outputs": [
    {
     "data": {
      "text/plain": [
       "0.2283113567362774"
      ]
     },
     "execution_count": 177,
     "metadata": {},
     "output_type": "execute_result"
    }
   ],
   "source": [
    "norm_dist.pdf(x=5)"
   ]
  },
  {
   "cell_type": "code",
   "execution_count": 178,
   "id": "e02d12ed",
   "metadata": {},
   "outputs": [
    {
     "data": {
      "text/plain": [
       "0.8943502263331446"
      ]
     },
     "execution_count": 178,
     "metadata": {},
     "output_type": "execute_result"
    }
   ],
   "source": [
    "norm_dist.cdf(x=5)"
   ]
  },
  {
   "cell_type": "code",
   "execution_count": 179,
   "id": "c736f755",
   "metadata": {},
   "outputs": [],
   "source": [
    "# 퍼센트 포인트 : 누적확률값을 입력받은 후 x값을 리턴"
   ]
  },
  {
   "cell_type": "code",
   "execution_count": 181,
   "id": "1d49dd55",
   "metadata": {},
   "outputs": [
    {
     "data": {
      "text/plain": [
       "2.4320288123679563"
      ]
     },
     "execution_count": 181,
     "metadata": {},
     "output_type": "execute_result"
    }
   ],
   "source": [
    "norm_dist.ppf(q=0.025)"
   ]
  },
  {
   "cell_type": "code",
   "execution_count": 182,
   "id": "1aeb832c",
   "metadata": {},
   "outputs": [
    {
     "data": {
      "text/plain": [
       "4.0"
      ]
     },
     "execution_count": 182,
     "metadata": {},
     "output_type": "execute_result"
    }
   ],
   "source": [
    "norm_dist.ppf(q=0.5)"
   ]
  },
  {
   "cell_type": "code",
   "execution_count": 184,
   "id": "410f6ef4",
   "metadata": {},
   "outputs": [
    {
     "data": {
      "text/plain": [
       "4.673296986858332"
      ]
     },
     "execution_count": 184,
     "metadata": {},
     "output_type": "execute_result"
    }
   ],
   "source": [
    "norm_dist.ppf(q=0.8)"
   ]
  },
  {
   "cell_type": "code",
   "execution_count": 185,
   "id": "fed938ad",
   "metadata": {},
   "outputs": [
    {
     "data": {
      "text/plain": [
       "<scipy.stats._distn_infrastructure.rv_frozen at 0x24490307550>"
      ]
     },
     "execution_count": 185,
     "metadata": {},
     "output_type": "execute_result"
    }
   ],
   "source": [
    "norm_dist # 평균 5, 표준편차 0.8 정규분포"
   ]
  },
  {
   "cell_type": "code",
   "execution_count": null,
   "id": "f255722c",
   "metadata": {},
   "outputs": [],
   "source": [
    "# 5.5가 나올 확률"
   ]
  },
  {
   "cell_type": "code",
   "execution_count": 202,
   "id": "479ebc2d",
   "metadata": {},
   "outputs": [
    {
     "data": {
      "text/plain": [
       "0.08598284478336488"
      ]
     },
     "execution_count": 202,
     "metadata": {},
     "output_type": "execute_result"
    }
   ],
   "source": [
    "norm_dist.pdf(5.5)"
   ]
  },
  {
   "cell_type": "code",
   "execution_count": 186,
   "id": "88fd25a6",
   "metadata": {},
   "outputs": [],
   "source": [
    "# 3 이하가 나올 확률을 구하시오"
   ]
  },
  {
   "cell_type": "code",
   "execution_count": 201,
   "id": "0b5a90ee",
   "metadata": {},
   "outputs": [
    {
     "data": {
      "text/plain": [
       "0.10564977366685535"
      ]
     },
     "execution_count": 201,
     "metadata": {},
     "output_type": "execute_result"
    }
   ],
   "source": [
    "norm_dist.cdf(3)"
   ]
  },
  {
   "cell_type": "code",
   "execution_count": 187,
   "id": "b1a325c0",
   "metadata": {},
   "outputs": [],
   "source": [
    "# 5 이상 나올 확률"
   ]
  },
  {
   "cell_type": "code",
   "execution_count": 200,
   "id": "95bb44fd",
   "metadata": {},
   "outputs": [
    {
     "data": {
      "text/plain": [
       "0.10564977366685535"
      ]
     },
     "execution_count": 200,
     "metadata": {},
     "output_type": "execute_result"
    }
   ],
   "source": [
    "1 - norm_dist.cdf(5)"
   ]
  },
  {
   "cell_type": "code",
   "execution_count": 188,
   "id": "266f789c",
   "metadata": {},
   "outputs": [],
   "source": [
    "# 2 ~ 3이 나올 확률"
   ]
  },
  {
   "cell_type": "code",
   "execution_count": 203,
   "id": "a322b00a",
   "metadata": {},
   "outputs": [
    {
     "data": {
      "text/plain": [
       "0.09944010834107922"
      ]
     },
     "execution_count": 203,
     "metadata": {},
     "output_type": "execute_result"
    }
   ],
   "source": [
    "norm_dist.cdf(3) - norm_dist.cdf(2)"
   ]
  },
  {
   "cell_type": "code",
   "execution_count": 189,
   "id": "c91c23df",
   "metadata": {},
   "outputs": [],
   "source": [
    "# 2 ~ 3이외의 값이 나올 확률"
   ]
  },
  {
   "cell_type": "code",
   "execution_count": 204,
   "id": "0f109d6d",
   "metadata": {},
   "outputs": [
    {
     "data": {
      "text/plain": [
       "0.8881405610073685"
      ]
     },
     "execution_count": 204,
     "metadata": {},
     "output_type": "execute_result"
    }
   ],
   "source": [
    "1 - norm_dist.cdf(3) - norm_dist.cdf(2)"
   ]
  },
  {
   "cell_type": "code",
   "execution_count": null,
   "id": "c9e98266",
   "metadata": {},
   "outputs": [],
   "source": [
    "# 누적확률이 70%가 되는 x값은 "
   ]
  },
  {
   "cell_type": "code",
   "execution_count": 198,
   "id": "6471cf35",
   "metadata": {},
   "outputs": [
    {
     "data": {
      "text/plain": [
       "4.419520410166433"
      ]
     },
     "execution_count": 198,
     "metadata": {},
     "output_type": "execute_result"
    }
   ],
   "source": [
    "norm_dist.ppf(q=0.7)"
   ]
  },
  {
   "cell_type": "code",
   "execution_count": 205,
   "id": "f36a523e",
   "metadata": {},
   "outputs": [
    {
     "data": {
      "text/plain": [
       "0.2112995473337107"
      ]
     },
     "execution_count": 205,
     "metadata": {},
     "output_type": "execute_result"
    }
   ],
   "source": [
    "# 3 보다 작고 5보다 클 확률\n",
    "(1 - norm_dist.cdf(5))*2"
   ]
  },
  {
   "cell_type": "code",
   "execution_count": null,
   "id": "029d88f9",
   "metadata": {},
   "outputs": [],
   "source": []
  },
  {
   "cell_type": "code",
   "execution_count": 206,
   "id": "a04fff17",
   "metadata": {},
   "outputs": [],
   "source": [
    "# 정규분포 => 표준정규분포 N(0, 1) : z분포\n",
    "# 표준화 : z = (x - x_mean)/ x.std()"
   ]
  },
  {
   "cell_type": "code",
   "execution_count": 207,
   "id": "f1558663",
   "metadata": {},
   "outputs": [],
   "source": [
    "z_arr = (x - x.mean()) / x.std()"
   ]
  },
  {
   "cell_type": "code",
   "execution_count": 208,
   "id": "449aa3b6",
   "metadata": {},
   "outputs": [
    {
     "data": {
      "text/plain": [
       "-1.2212453270876723e-16"
      ]
     },
     "execution_count": 208,
     "metadata": {},
     "output_type": "execute_result"
    }
   ],
   "source": [
    "sp.mean(z_arr)"
   ]
  },
  {
   "cell_type": "code",
   "execution_count": 209,
   "id": "e2e154e3",
   "metadata": {},
   "outputs": [
    {
     "data": {
      "text/plain": [
       "1.0"
      ]
     },
     "execution_count": 209,
     "metadata": {},
     "output_type": "execute_result"
    }
   ],
   "source": [
    "sp.std(z_arr)"
   ]
  },
  {
   "cell_type": "code",
   "execution_count": 210,
   "id": "c6934e2e",
   "metadata": {},
   "outputs": [],
   "source": [
    "# 표준정규분포 객체\n",
    "z_dist = stats.norm(loc=0, scale=1)"
   ]
  },
  {
   "cell_type": "code",
   "execution_count": 212,
   "id": "c17be98e",
   "metadata": {},
   "outputs": [
    {
     "name": "stdout",
     "output_type": "stream",
     "text": [
      "3.998624224202955 0.8904763445429505\n"
     ]
    }
   ],
   "source": [
    "norm_temp = norm_dist.rvs(size=100)\n",
    "print(sp.mean(norm_temp), sp.std(norm_temp))"
   ]
  },
  {
   "cell_type": "code",
   "execution_count": 214,
   "id": "b5f280c2",
   "metadata": {},
   "outputs": [],
   "source": [
    "z_temp = (norm_temp - norm_temp.mean())/sp.std(norm_temp)"
   ]
  },
  {
   "cell_type": "code",
   "execution_count": 215,
   "id": "83303b26",
   "metadata": {},
   "outputs": [],
   "source": [
    "def to_standardization(x):\n",
    "    return (x - 4)/0.8"
   ]
  },
  {
   "cell_type": "code",
   "execution_count": 217,
   "id": "0658519c",
   "metadata": {},
   "outputs": [],
   "source": [
    "z3 = to_standardization(3)"
   ]
  },
  {
   "cell_type": "code",
   "execution_count": 218,
   "id": "23389ca3",
   "metadata": {},
   "outputs": [
    {
     "data": {
      "text/plain": [
       "0.10564977366685535"
      ]
     },
     "execution_count": 218,
     "metadata": {},
     "output_type": "execute_result"
    }
   ],
   "source": [
    "z_dist.cdf(z3)"
   ]
  },
  {
   "cell_type": "code",
   "execution_count": null,
   "id": "ded2abcb",
   "metadata": {},
   "outputs": [],
   "source": []
  },
  {
   "cell_type": "code",
   "execution_count": null,
   "id": "8f9e76e9",
   "metadata": {},
   "outputs": [],
   "source": []
  },
  {
   "cell_type": "code",
   "execution_count": null,
   "id": "966bc0d0",
   "metadata": {},
   "outputs": [],
   "source": []
  },
  {
   "cell_type": "code",
   "execution_count": null,
   "id": "a058d137",
   "metadata": {},
   "outputs": [],
   "source": []
  },
  {
   "cell_type": "code",
   "execution_count": null,
   "id": "ea7e7f99",
   "metadata": {},
   "outputs": [],
   "source": []
  },
  {
   "cell_type": "code",
   "execution_count": null,
   "id": "b5990621",
   "metadata": {},
   "outputs": [],
   "source": []
  },
  {
   "cell_type": "code",
   "execution_count": null,
   "id": "9ac245d3",
   "metadata": {},
   "outputs": [],
   "source": []
  }
 ],
 "metadata": {
  "kernelspec": {
   "display_name": "Python 3 (ipykernel)",
   "language": "python",
   "name": "python3"
  },
  "language_info": {
   "codemirror_mode": {
    "name": "ipython",
    "version": 3
   },
   "file_extension": ".py",
   "mimetype": "text/x-python",
   "name": "python",
   "nbconvert_exporter": "python",
   "pygments_lexer": "ipython3",
   "version": "3.9.7"
  },
  "varInspector": {
   "cols": {
    "lenName": 16,
    "lenType": 16,
    "lenVar": 40
   },
   "kernels_config": {
    "python": {
     "delete_cmd_postfix": "",
     "delete_cmd_prefix": "del ",
     "library": "var_list.py",
     "varRefreshCmd": "print(var_dic_list())"
    },
    "r": {
     "delete_cmd_postfix": ") ",
     "delete_cmd_prefix": "rm(",
     "library": "var_list.r",
     "varRefreshCmd": "cat(var_dic_list()) "
    }
   },
   "types_to_exclude": [
    "module",
    "function",
    "builtin_function_or_method",
    "instance",
    "_Feature"
   ],
   "window_display": false
  }
 },
 "nbformat": 4,
 "nbformat_minor": 5
}
