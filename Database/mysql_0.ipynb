{
 "cells": [
  {
   "cell_type": "code",
   "execution_count": null,
   "id": "0f7ec7d6",
   "metadata": {},
   "outputs": [],
   "source": [
    "# 데이터베이스\n",
    "# 대량의 데이터를 입력, 저장, 처리하는 시스템\n",
    "\n",
    "# sql\n",
    "# mysql(개인, 중소규모), oracle(대규모 데이터, 대기업), mssql - 동일한 언어(sql)\n",
    "# 정형화된 데이터(표형식으로 정리된 데이터)\n",
    "\n",
    "# nosql\n",
    "# mongodb, Redis, Riak, DynamoDB\n",
    "# 비정형 데이터(테스트, 파일, 이미지, 영상...)"
   ]
  },
  {
   "cell_type": "code",
   "execution_count": null,
   "id": "78d176e2",
   "metadata": {},
   "outputs": [],
   "source": [
    "# mysql\n",
    "# excel => excel file - excel sheet\n",
    "# pandas => pandas - dataframe \n",
    "# mysql => database - table\n",
    "\n",
    "# GUI 개발환경 - workbench\n",
    "# sckema\n",
    "\n",
    "#  cd directory_name\n",
    "#  cd ..\n",
    "#  mysql -u root -p"
   ]
  },
  {
   "cell_type": "code",
   "execution_count": null,
   "id": "2362cd9c",
   "metadata": {},
   "outputs": [],
   "source": [
    "# 설치\n",
    "# 구글 - mysql확인(제어판,프로그램파일,프로그램데이터) - MySQL Community Downloads - 환경변수 설정"
   ]
  },
  {
   "cell_type": "code",
   "execution_count": null,
   "id": "f27f0cbd",
   "metadata": {},
   "outputs": [],
   "source": []
  },
  {
   "cell_type": "code",
   "execution_count": null,
   "id": "c63ff5f6",
   "metadata": {},
   "outputs": [],
   "source": []
  },
  {
   "cell_type": "code",
   "execution_count": null,
   "id": "2ad6126d",
   "metadata": {},
   "outputs": [],
   "source": []
  },
  {
   "cell_type": "code",
   "execution_count": null,
   "id": "d17c005d",
   "metadata": {},
   "outputs": [],
   "source": []
  },
  {
   "cell_type": "code",
   "execution_count": null,
   "id": "5bf32d9f",
   "metadata": {},
   "outputs": [],
   "source": []
  },
  {
   "cell_type": "code",
   "execution_count": null,
   "id": "025eac83",
   "metadata": {},
   "outputs": [],
   "source": []
  },
  {
   "cell_type": "code",
   "execution_count": null,
   "id": "16720349",
   "metadata": {},
   "outputs": [],
   "source": []
  },
  {
   "cell_type": "code",
   "execution_count": null,
   "id": "490716da",
   "metadata": {},
   "outputs": [],
   "source": []
  },
  {
   "cell_type": "code",
   "execution_count": null,
   "id": "c1b886ec",
   "metadata": {},
   "outputs": [],
   "source": []
  },
  {
   "cell_type": "code",
   "execution_count": null,
   "id": "8357d246",
   "metadata": {},
   "outputs": [],
   "source": []
  },
  {
   "cell_type": "code",
   "execution_count": null,
   "id": "31eb020e",
   "metadata": {},
   "outputs": [],
   "source": []
  },
  {
   "cell_type": "code",
   "execution_count": null,
   "id": "fe96fe91",
   "metadata": {},
   "outputs": [],
   "source": []
  },
  {
   "cell_type": "code",
   "execution_count": null,
   "id": "5051576c",
   "metadata": {},
   "outputs": [],
   "source": []
  },
  {
   "cell_type": "code",
   "execution_count": null,
   "id": "373e71c0",
   "metadata": {},
   "outputs": [],
   "source": []
  },
  {
   "cell_type": "code",
   "execution_count": null,
   "id": "9a8414af",
   "metadata": {},
   "outputs": [],
   "source": []
  }
 ],
 "metadata": {
  "kernelspec": {
   "display_name": "Python 3 (ipykernel)",
   "language": "python",
   "name": "python3"
  },
  "language_info": {
   "codemirror_mode": {
    "name": "ipython",
    "version": 3
   },
   "file_extension": ".py",
   "mimetype": "text/x-python",
   "name": "python",
   "nbconvert_exporter": "python",
   "pygments_lexer": "ipython3",
   "version": "3.9.7"
  },
  "varInspector": {
   "cols": {
    "lenName": 16,
    "lenType": 16,
    "lenVar": 40
   },
   "kernels_config": {
    "python": {
     "delete_cmd_postfix": "",
     "delete_cmd_prefix": "del ",
     "library": "var_list.py",
     "varRefreshCmd": "print(var_dic_list())"
    },
    "r": {
     "delete_cmd_postfix": ") ",
     "delete_cmd_prefix": "rm(",
     "library": "var_list.r",
     "varRefreshCmd": "cat(var_dic_list()) "
    }
   },
   "types_to_exclude": [
    "module",
    "function",
    "builtin_function_or_method",
    "instance",
    "_Feature"
   ],
   "window_display": false
  }
 },
 "nbformat": 4,
 "nbformat_minor": 5
}
