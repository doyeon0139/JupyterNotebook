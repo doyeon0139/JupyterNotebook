{
 "cells": [
  {
   "cell_type": "code",
   "execution_count": 1,
   "id": "08190a3e",
   "metadata": {},
   "outputs": [],
   "source": [
    "import pandas as pd\n",
    "import numpy as np\n",
    "import matplotlib.pyplot as plt\n",
    "import seaborn as sns\n",
    "import warnings\n",
    "warnings.filterwarnings(action='ignore') "
   ]
  },
  {
   "cell_type": "code",
   "execution_count": null,
   "id": "bc750d5c",
   "metadata": {},
   "outputs": [],
   "source": [
    "# 로그 데이터를 기반으로 고객 이탈페이지 확인"
   ]
  },
  {
   "cell_type": "code",
   "execution_count": 5,
   "id": "6bbf957f",
   "metadata": {},
   "outputs": [],
   "source": [
    "logs = pd.read_csv('./eda_data/web.log',delimiter=' ',names=['ip','session_id' ,'userid' ,'datetime', 'request', 'url', 'status', 'bytesize'])"
   ]
  },
  {
   "cell_type": "code",
   "execution_count": 6,
   "id": "cd8f855d",
   "metadata": {},
   "outputs": [
    {
     "data": {
      "text/html": [
       "<div>\n",
       "<style scoped>\n",
       "    .dataframe tbody tr th:only-of-type {\n",
       "        vertical-align: middle;\n",
       "    }\n",
       "\n",
       "    .dataframe tbody tr th {\n",
       "        vertical-align: top;\n",
       "    }\n",
       "\n",
       "    .dataframe thead th {\n",
       "        text-align: right;\n",
       "    }\n",
       "</style>\n",
       "<table border=\"1\" class=\"dataframe\">\n",
       "  <thead>\n",
       "    <tr style=\"text-align: right;\">\n",
       "      <th></th>\n",
       "      <th>ip</th>\n",
       "      <th>session_id</th>\n",
       "      <th>userid</th>\n",
       "      <th>datetime</th>\n",
       "      <th>request</th>\n",
       "      <th>url</th>\n",
       "      <th>status</th>\n",
       "      <th>bytesize</th>\n",
       "    </tr>\n",
       "  </thead>\n",
       "  <tbody>\n",
       "    <tr>\n",
       "      <th>0</th>\n",
       "      <td>4.5.4.5</td>\n",
       "      <td>69de169f-6eed-4e4d-ae5b-ff997b8c889f</td>\n",
       "      <td>user89</td>\n",
       "      <td>[01/Dec/2019T00:47:11]</td>\n",
       "      <td>GET</td>\n",
       "      <td>/product_list</td>\n",
       "      <td>200</td>\n",
       "      <td>2107</td>\n",
       "    </tr>\n",
       "    <tr>\n",
       "      <th>1</th>\n",
       "      <td>4.5.4.5</td>\n",
       "      <td>69de169f-6eed-4e4d-ae5b-ff997b8c889f</td>\n",
       "      <td>user89</td>\n",
       "      <td>[01/Dec/2019T00:51:21]</td>\n",
       "      <td>GET</td>\n",
       "      <td>/product_detail</td>\n",
       "      <td>200</td>\n",
       "      <td>1323</td>\n",
       "    </tr>\n",
       "    <tr>\n",
       "      <th>2</th>\n",
       "      <td>3.3.3.3.</td>\n",
       "      <td>3d46aad9-17eb-4af1-bc54-6ca91d7f8f6c</td>\n",
       "      <td>user2</td>\n",
       "      <td>[01/Dec/2019T00:51:43]</td>\n",
       "      <td>GET</td>\n",
       "      <td>/product_list</td>\n",
       "      <td>200</td>\n",
       "      <td>2616</td>\n",
       "    </tr>\n",
       "    <tr>\n",
       "      <th>3</th>\n",
       "      <td>1.0.1.0</td>\n",
       "      <td>57623182-b78b-4bdc-b977-a2b34612c6d1</td>\n",
       "      <td>user45</td>\n",
       "      <td>[01/Dec/2019T01:04:02]</td>\n",
       "      <td>GET</td>\n",
       "      <td>/product_list</td>\n",
       "      <td>200</td>\n",
       "      <td>2303</td>\n",
       "    </tr>\n",
       "    <tr>\n",
       "      <th>4</th>\n",
       "      <td>3.3.3.3.</td>\n",
       "      <td>3d46aad9-17eb-4af1-bc54-6ca91d7f8f6c</td>\n",
       "      <td>user2</td>\n",
       "      <td>[01/Dec/2019T01:12:28]</td>\n",
       "      <td>GET</td>\n",
       "      <td>/product_detail</td>\n",
       "      <td>200</td>\n",
       "      <td>1830</td>\n",
       "    </tr>\n",
       "  </tbody>\n",
       "</table>\n",
       "</div>"
      ],
      "text/plain": [
       "         ip                            session_id  userid  \\\n",
       "0   4.5.4.5  69de169f-6eed-4e4d-ae5b-ff997b8c889f  user89   \n",
       "1   4.5.4.5  69de169f-6eed-4e4d-ae5b-ff997b8c889f  user89   \n",
       "2  3.3.3.3.  3d46aad9-17eb-4af1-bc54-6ca91d7f8f6c   user2   \n",
       "3   1.0.1.0  57623182-b78b-4bdc-b977-a2b34612c6d1  user45   \n",
       "4  3.3.3.3.  3d46aad9-17eb-4af1-bc54-6ca91d7f8f6c   user2   \n",
       "\n",
       "                 datetime request              url  status  bytesize  \n",
       "0  [01/Dec/2019T00:47:11]     GET    /product_list     200      2107  \n",
       "1  [01/Dec/2019T00:51:21]     GET  /product_detail     200      1323  \n",
       "2  [01/Dec/2019T00:51:43]     GET    /product_list     200      2616  \n",
       "3  [01/Dec/2019T01:04:02]     GET    /product_list     200      2303  \n",
       "4  [01/Dec/2019T01:12:28]     GET  /product_detail     200      1830  "
      ]
     },
     "execution_count": 6,
     "metadata": {},
     "output_type": "execute_result"
    }
   ],
   "source": [
    "logs.head()"
   ]
  },
  {
   "cell_type": "code",
   "execution_count": null,
   "id": "866f7d92",
   "metadata": {},
   "outputs": [],
   "source": []
  },
  {
   "cell_type": "code",
   "execution_count": null,
   "id": "dac94589",
   "metadata": {},
   "outputs": [],
   "source": []
  },
  {
   "cell_type": "code",
   "execution_count": null,
   "id": "174f4dcf",
   "metadata": {},
   "outputs": [],
   "source": []
  },
  {
   "cell_type": "code",
   "execution_count": null,
   "id": "6b916743",
   "metadata": {},
   "outputs": [],
   "source": []
  },
  {
   "cell_type": "code",
   "execution_count": null,
   "id": "90be570a",
   "metadata": {},
   "outputs": [],
   "source": []
  },
  {
   "cell_type": "code",
   "execution_count": null,
   "id": "f9b02acf",
   "metadata": {},
   "outputs": [],
   "source": []
  },
  {
   "cell_type": "code",
   "execution_count": null,
   "id": "97def941",
   "metadata": {},
   "outputs": [],
   "source": []
  }
 ],
 "metadata": {
  "kernelspec": {
   "display_name": "Python 3 (ipykernel)",
   "language": "python",
   "name": "python3"
  },
  "language_info": {
   "codemirror_mode": {
    "name": "ipython",
    "version": 3
   },
   "file_extension": ".py",
   "mimetype": "text/x-python",
   "name": "python",
   "nbconvert_exporter": "python",
   "pygments_lexer": "ipython3",
   "version": "3.9.7"
  }
 },
 "nbformat": 4,
 "nbformat_minor": 5
}
