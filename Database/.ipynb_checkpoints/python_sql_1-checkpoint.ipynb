{
 "cells": [
  {
   "cell_type": "code",
   "execution_count": 4,
   "id": "c2fc7e38",
   "metadata": {},
   "outputs": [
    {
     "name": "stdout",
     "output_type": "stream",
     "text": [
      "Requirement already satisfied: mysqlclient in c:\\users\\bitcamp\\anaconda3\\lib\\site-packages (2.1.0)\n"
     ]
    }
   ],
   "source": [
    "!pip install mysqlclient"
   ]
  },
  {
   "cell_type": "code",
   "execution_count": 5,
   "id": "8ec537da",
   "metadata": {},
   "outputs": [],
   "source": [
    "import MySQLdb"
   ]
  },
  {
   "cell_type": "code",
   "execution_count": 23,
   "id": "1fce2e4d",
   "metadata": {},
   "outputs": [],
   "source": [
    "# connect 객체\n",
    "db = MySQLdb.connect(host='localhost', port=3306, user='root', password='1234')"
   ]
  },
  {
   "cell_type": "code",
   "execution_count": 24,
   "id": "48f3d3cb",
   "metadata": {},
   "outputs": [],
   "source": [
    "# cursor 객체\n",
    "cursor = db.cursor()"
   ]
  },
  {
   "cell_type": "code",
   "execution_count": 25,
   "id": "f2cb085a",
   "metadata": {
    "collapsed": true
   },
   "outputs": [
    {
     "data": {
      "text/plain": [
       "11"
      ]
     },
     "execution_count": 25,
     "metadata": {},
     "output_type": "execute_result"
    }
   ],
   "source": [
    "cursor.execute('show databases;')             # 결과의 수"
   ]
  },
  {
   "cell_type": "code",
   "execution_count": 26,
   "id": "738efce7",
   "metadata": {
    "collapsed": true
   },
   "outputs": [
    {
     "data": {
      "text/plain": [
       "(('information_schema',),\n",
       " ('employees',),\n",
       " ('mysql',),\n",
       " ('performance_schema',),\n",
       " ('sakila',),\n",
       " ('shopdb',),\n",
       " ('sqlab',),\n",
       " ('sqldb',),\n",
       " ('sys',),\n",
       " ('tabledb',),\n",
       " ('world',))"
      ]
     },
     "execution_count": 26,
     "metadata": {},
     "output_type": "execute_result"
    }
   ],
   "source": [
    "cursor.fetchall()   # db server에서 출력을 리턴"
   ]
  },
  {
   "cell_type": "code",
   "execution_count": 28,
   "id": "7ac73a22",
   "metadata": {},
   "outputs": [
    {
     "data": {
      "text/plain": [
       "0"
      ]
     },
     "execution_count": 28,
     "metadata": {},
     "output_type": "execute_result"
    }
   ],
   "source": [
    "sql=\"\"\"\n",
    "use sqldb;\n",
    "\"\"\"\n",
    "\n",
    "cursor.execute(sql)\n",
    "#cusor.fetchall()                 안먹혀!!!!!!!!!!!!!!!!!!!!!"
   ]
  },
  {
   "cell_type": "code",
   "execution_count": 29,
   "id": "e3b6d034",
   "metadata": {},
   "outputs": [],
   "source": [
    "import pandas as pd"
   ]
  },
  {
   "cell_type": "code",
   "execution_count": 30,
   "id": "111ca8ae",
   "metadata": {},
   "outputs": [
    {
     "data": {
      "text/html": [
       "<div>\n",
       "<style scoped>\n",
       "    .dataframe tbody tr th:only-of-type {\n",
       "        vertical-align: middle;\n",
       "    }\n",
       "\n",
       "    .dataframe tbody tr th {\n",
       "        vertical-align: top;\n",
       "    }\n",
       "\n",
       "    .dataframe thead th {\n",
       "        text-align: right;\n",
       "    }\n",
       "</style>\n",
       "<table border=\"1\" class=\"dataframe\">\n",
       "  <thead>\n",
       "    <tr style=\"text-align: right;\">\n",
       "      <th></th>\n",
       "      <th>Tables_in_sqldb</th>\n",
       "    </tr>\n",
       "  </thead>\n",
       "  <tbody>\n",
       "    <tr>\n",
       "      <th>0</th>\n",
       "      <td>buytbl</td>\n",
       "    </tr>\n",
       "    <tr>\n",
       "      <th>1</th>\n",
       "      <td>buytbl1</td>\n",
       "    </tr>\n",
       "    <tr>\n",
       "      <th>2</th>\n",
       "      <td>buytbl2</td>\n",
       "    </tr>\n",
       "    <tr>\n",
       "      <th>3</th>\n",
       "      <td>clubtbl</td>\n",
       "    </tr>\n",
       "    <tr>\n",
       "      <th>4</th>\n",
       "      <td>stdclubtbl</td>\n",
       "    </tr>\n",
       "    <tr>\n",
       "      <th>5</th>\n",
       "      <td>stdtbl</td>\n",
       "    </tr>\n",
       "    <tr>\n",
       "      <th>6</th>\n",
       "      <td>usertbl</td>\n",
       "    </tr>\n",
       "    <tr>\n",
       "      <th>7</th>\n",
       "      <td>usertbl2</td>\n",
       "    </tr>\n",
       "  </tbody>\n",
       "</table>\n",
       "</div>"
      ],
      "text/plain": [
       "  Tables_in_sqldb\n",
       "0          buytbl\n",
       "1         buytbl1\n",
       "2         buytbl2\n",
       "3         clubtbl\n",
       "4      stdclubtbl\n",
       "5          stdtbl\n",
       "6         usertbl\n",
       "7        usertbl2"
      ]
     },
     "execution_count": 30,
     "metadata": {},
     "output_type": "execute_result"
    }
   ],
   "source": [
    "pd.read_sql('show tables;', db)"
   ]
  },
  {
   "cell_type": "code",
   "execution_count": 32,
   "id": "dd6453cd",
   "metadata": {},
   "outputs": [],
   "source": [
    "user_df = pd.read_sql('select * from usertbl;', db)\n",
    "buy_df = pd.read_sql('select * from buytbl;', db)"
   ]
  },
  {
   "cell_type": "code",
   "execution_count": 33,
   "id": "2df3e0c9",
   "metadata": {},
   "outputs": [
    {
     "data": {
      "text/html": [
       "<div>\n",
       "<style scoped>\n",
       "    .dataframe tbody tr th:only-of-type {\n",
       "        vertical-align: middle;\n",
       "    }\n",
       "\n",
       "    .dataframe tbody tr th {\n",
       "        vertical-align: top;\n",
       "    }\n",
       "\n",
       "    .dataframe thead th {\n",
       "        text-align: right;\n",
       "    }\n",
       "</style>\n",
       "<table border=\"1\" class=\"dataframe\">\n",
       "  <thead>\n",
       "    <tr style=\"text-align: right;\">\n",
       "      <th></th>\n",
       "      <th>userID</th>\n",
       "      <th>name</th>\n",
       "      <th>birthYear</th>\n",
       "      <th>addr</th>\n",
       "      <th>mobile1</th>\n",
       "      <th>mobile2</th>\n",
       "      <th>height</th>\n",
       "      <th>mDate</th>\n",
       "      <th>num</th>\n",
       "      <th>prodName</th>\n",
       "      <th>groupName</th>\n",
       "      <th>price</th>\n",
       "      <th>amount</th>\n",
       "    </tr>\n",
       "  </thead>\n",
       "  <tbody>\n",
       "    <tr>\n",
       "      <th>0</th>\n",
       "      <td>BBK</td>\n",
       "      <td>바비킴</td>\n",
       "      <td>1973</td>\n",
       "      <td>서울</td>\n",
       "      <td>010</td>\n",
       "      <td>0000000</td>\n",
       "      <td>176</td>\n",
       "      <td>2013-05-05</td>\n",
       "      <td>4</td>\n",
       "      <td>모니터</td>\n",
       "      <td>전자</td>\n",
       "      <td>300</td>\n",
       "      <td>5</td>\n",
       "    </tr>\n",
       "    <tr>\n",
       "      <th>1</th>\n",
       "      <td>BBK</td>\n",
       "      <td>바비킴</td>\n",
       "      <td>1973</td>\n",
       "      <td>서울</td>\n",
       "      <td>010</td>\n",
       "      <td>0000000</td>\n",
       "      <td>176</td>\n",
       "      <td>2013-05-05</td>\n",
       "      <td>6</td>\n",
       "      <td>메모리</td>\n",
       "      <td>전자</td>\n",
       "      <td>120</td>\n",
       "      <td>10</td>\n",
       "    </tr>\n",
       "    <tr>\n",
       "      <th>2</th>\n",
       "      <td>BBK</td>\n",
       "      <td>바비킴</td>\n",
       "      <td>1973</td>\n",
       "      <td>서울</td>\n",
       "      <td>010</td>\n",
       "      <td>0000000</td>\n",
       "      <td>176</td>\n",
       "      <td>2013-05-05</td>\n",
       "      <td>10</td>\n",
       "      <td>운동화</td>\n",
       "      <td>None</td>\n",
       "      <td>45</td>\n",
       "      <td>2</td>\n",
       "    </tr>\n",
       "    <tr>\n",
       "      <th>3</th>\n",
       "      <td>BBK</td>\n",
       "      <td>바비킴</td>\n",
       "      <td>1973</td>\n",
       "      <td>서울</td>\n",
       "      <td>010</td>\n",
       "      <td>0000000</td>\n",
       "      <td>176</td>\n",
       "      <td>2013-05-05</td>\n",
       "      <td>12</td>\n",
       "      <td>운동화</td>\n",
       "      <td>None</td>\n",
       "      <td>45</td>\n",
       "      <td>2</td>\n",
       "    </tr>\n",
       "    <tr>\n",
       "      <th>4</th>\n",
       "      <td>EJW</td>\n",
       "      <td>은지원</td>\n",
       "      <td>1972</td>\n",
       "      <td>경북</td>\n",
       "      <td>011</td>\n",
       "      <td>8888888</td>\n",
       "      <td>174</td>\n",
       "      <td>2014-03-03</td>\n",
       "      <td>8</td>\n",
       "      <td>책</td>\n",
       "      <td>서적</td>\n",
       "      <td>23</td>\n",
       "      <td>2</td>\n",
       "    </tr>\n",
       "    <tr>\n",
       "      <th>5</th>\n",
       "      <td>EJW</td>\n",
       "      <td>은지원</td>\n",
       "      <td>1972</td>\n",
       "      <td>경북</td>\n",
       "      <td>011</td>\n",
       "      <td>8888888</td>\n",
       "      <td>174</td>\n",
       "      <td>2014-03-03</td>\n",
       "      <td>9</td>\n",
       "      <td>청바지</td>\n",
       "      <td>의류</td>\n",
       "      <td>75</td>\n",
       "      <td>1</td>\n",
       "    </tr>\n",
       "    <tr>\n",
       "      <th>6</th>\n",
       "      <td>EJW</td>\n",
       "      <td>은지원</td>\n",
       "      <td>1972</td>\n",
       "      <td>경북</td>\n",
       "      <td>011</td>\n",
       "      <td>8888888</td>\n",
       "      <td>174</td>\n",
       "      <td>2014-03-03</td>\n",
       "      <td>11</td>\n",
       "      <td>책</td>\n",
       "      <td>서적</td>\n",
       "      <td>23</td>\n",
       "      <td>1</td>\n",
       "    </tr>\n",
       "    <tr>\n",
       "      <th>7</th>\n",
       "      <td>JYP</td>\n",
       "      <td>조용필</td>\n",
       "      <td>1950</td>\n",
       "      <td>경기</td>\n",
       "      <td>011</td>\n",
       "      <td>4444444</td>\n",
       "      <td>166</td>\n",
       "      <td>2009-04-04</td>\n",
       "      <td>3</td>\n",
       "      <td>모니터</td>\n",
       "      <td>전자</td>\n",
       "      <td>300</td>\n",
       "      <td>1</td>\n",
       "    </tr>\n",
       "    <tr>\n",
       "      <th>8</th>\n",
       "      <td>KBS</td>\n",
       "      <td>김범수</td>\n",
       "      <td>1979</td>\n",
       "      <td>경남</td>\n",
       "      <td>011</td>\n",
       "      <td>2222222</td>\n",
       "      <td>173</td>\n",
       "      <td>2012-04-04</td>\n",
       "      <td>1</td>\n",
       "      <td>운동화</td>\n",
       "      <td>None</td>\n",
       "      <td>45</td>\n",
       "      <td>2</td>\n",
       "    </tr>\n",
       "    <tr>\n",
       "      <th>9</th>\n",
       "      <td>KBS</td>\n",
       "      <td>김범수</td>\n",
       "      <td>1979</td>\n",
       "      <td>경남</td>\n",
       "      <td>011</td>\n",
       "      <td>2222222</td>\n",
       "      <td>173</td>\n",
       "      <td>2012-04-04</td>\n",
       "      <td>2</td>\n",
       "      <td>노트북</td>\n",
       "      <td>전자</td>\n",
       "      <td>1500</td>\n",
       "      <td>1</td>\n",
       "    </tr>\n",
       "    <tr>\n",
       "      <th>10</th>\n",
       "      <td>KBS</td>\n",
       "      <td>김범수</td>\n",
       "      <td>1979</td>\n",
       "      <td>경남</td>\n",
       "      <td>011</td>\n",
       "      <td>2222222</td>\n",
       "      <td>173</td>\n",
       "      <td>2012-04-04</td>\n",
       "      <td>5</td>\n",
       "      <td>청바지</td>\n",
       "      <td>의류</td>\n",
       "      <td>75</td>\n",
       "      <td>3</td>\n",
       "    </tr>\n",
       "    <tr>\n",
       "      <th>11</th>\n",
       "      <td>SSK</td>\n",
       "      <td>성시경</td>\n",
       "      <td>1979</td>\n",
       "      <td>서울</td>\n",
       "      <td>None</td>\n",
       "      <td>None</td>\n",
       "      <td>186</td>\n",
       "      <td>2013-12-12</td>\n",
       "      <td>7</td>\n",
       "      <td>책</td>\n",
       "      <td>서적</td>\n",
       "      <td>23</td>\n",
       "      <td>5</td>\n",
       "    </tr>\n",
       "  </tbody>\n",
       "</table>\n",
       "</div>"
      ],
      "text/plain": [
       "   userID name  birthYear addr mobile1  mobile2  height       mDate  num  \\\n",
       "0     BBK  바비킴       1973   서울     010  0000000     176  2013-05-05    4   \n",
       "1     BBK  바비킴       1973   서울     010  0000000     176  2013-05-05    6   \n",
       "2     BBK  바비킴       1973   서울     010  0000000     176  2013-05-05   10   \n",
       "3     BBK  바비킴       1973   서울     010  0000000     176  2013-05-05   12   \n",
       "4     EJW  은지원       1972   경북     011  8888888     174  2014-03-03    8   \n",
       "5     EJW  은지원       1972   경북     011  8888888     174  2014-03-03    9   \n",
       "6     EJW  은지원       1972   경북     011  8888888     174  2014-03-03   11   \n",
       "7     JYP  조용필       1950   경기     011  4444444     166  2009-04-04    3   \n",
       "8     KBS  김범수       1979   경남     011  2222222     173  2012-04-04    1   \n",
       "9     KBS  김범수       1979   경남     011  2222222     173  2012-04-04    2   \n",
       "10    KBS  김범수       1979   경남     011  2222222     173  2012-04-04    5   \n",
       "11    SSK  성시경       1979   서울    None     None     186  2013-12-12    7   \n",
       "\n",
       "   prodName groupName  price  amount  \n",
       "0       모니터        전자    300       5  \n",
       "1       메모리        전자    120      10  \n",
       "2       운동화      None     45       2  \n",
       "3       운동화      None     45       2  \n",
       "4         책        서적     23       2  \n",
       "5       청바지        의류     75       1  \n",
       "6         책        서적     23       1  \n",
       "7       모니터        전자    300       1  \n",
       "8       운동화      None     45       2  \n",
       "9       노트북        전자   1500       1  \n",
       "10      청바지        의류     75       3  \n",
       "11        책        서적     23       5  "
      ]
     },
     "execution_count": 33,
     "metadata": {},
     "output_type": "execute_result"
    }
   ],
   "source": [
    "pd.merge(user_df, buy_df, on='userID')"
   ]
  },
  {
   "cell_type": "code",
   "execution_count": null,
   "id": "fdea80b5",
   "metadata": {},
   "outputs": [],
   "source": []
  },
  {
   "cell_type": "code",
   "execution_count": 38,
   "id": "85992d91",
   "metadata": {
    "collapsed": true
   },
   "outputs": [
    {
     "ename": "DatabaseError",
     "evalue": "Execution failed on sql 'select * from usertbl inner join buytbl on userID = buytbl.userID': (1052, \"Column 'userID' in on clause is ambiguous\")",
     "output_type": "error",
     "traceback": [
      "\u001b[1;31m---------------------------------------------------------------------------\u001b[0m",
      "\u001b[1;31mOperationalError\u001b[0m                          Traceback (most recent call last)",
      "\u001b[1;32m~\\Anaconda3\\lib\\site-packages\\pandas\\io\\sql.py\u001b[0m in \u001b[0;36mexecute\u001b[1;34m(self, *args, **kwargs)\u001b[0m\n\u001b[0;32m   2055\u001b[0m         \u001b[1;32mtry\u001b[0m\u001b[1;33m:\u001b[0m\u001b[1;33m\u001b[0m\u001b[1;33m\u001b[0m\u001b[0m\n\u001b[1;32m-> 2056\u001b[1;33m             \u001b[0mcur\u001b[0m\u001b[1;33m.\u001b[0m\u001b[0mexecute\u001b[0m\u001b[1;33m(\u001b[0m\u001b[1;33m*\u001b[0m\u001b[0margs\u001b[0m\u001b[1;33m,\u001b[0m \u001b[1;33m**\u001b[0m\u001b[0mkwargs\u001b[0m\u001b[1;33m)\u001b[0m\u001b[1;33m\u001b[0m\u001b[1;33m\u001b[0m\u001b[0m\n\u001b[0m\u001b[0;32m   2057\u001b[0m             \u001b[1;32mreturn\u001b[0m \u001b[0mcur\u001b[0m\u001b[1;33m\u001b[0m\u001b[1;33m\u001b[0m\u001b[0m\n",
      "\u001b[1;32m~\\Anaconda3\\lib\\site-packages\\MySQLdb\\cursors.py\u001b[0m in \u001b[0;36mexecute\u001b[1;34m(self, query, args)\u001b[0m\n\u001b[0;32m    205\u001b[0m         \u001b[1;32massert\u001b[0m \u001b[0misinstance\u001b[0m\u001b[1;33m(\u001b[0m\u001b[0mquery\u001b[0m\u001b[1;33m,\u001b[0m \u001b[1;33m(\u001b[0m\u001b[0mbytes\u001b[0m\u001b[1;33m,\u001b[0m \u001b[0mbytearray\u001b[0m\u001b[1;33m)\u001b[0m\u001b[1;33m)\u001b[0m\u001b[1;33m\u001b[0m\u001b[1;33m\u001b[0m\u001b[0m\n\u001b[1;32m--> 206\u001b[1;33m         \u001b[0mres\u001b[0m \u001b[1;33m=\u001b[0m \u001b[0mself\u001b[0m\u001b[1;33m.\u001b[0m\u001b[0m_query\u001b[0m\u001b[1;33m(\u001b[0m\u001b[0mquery\u001b[0m\u001b[1;33m)\u001b[0m\u001b[1;33m\u001b[0m\u001b[1;33m\u001b[0m\u001b[0m\n\u001b[0m\u001b[0;32m    207\u001b[0m         \u001b[1;32mreturn\u001b[0m \u001b[0mres\u001b[0m\u001b[1;33m\u001b[0m\u001b[1;33m\u001b[0m\u001b[0m\n",
      "\u001b[1;32m~\\Anaconda3\\lib\\site-packages\\MySQLdb\\cursors.py\u001b[0m in \u001b[0;36m_query\u001b[1;34m(self, q)\u001b[0m\n\u001b[0;32m    318\u001b[0m         \u001b[0mself\u001b[0m\u001b[1;33m.\u001b[0m\u001b[0m_result\u001b[0m \u001b[1;33m=\u001b[0m \u001b[1;32mNone\u001b[0m\u001b[1;33m\u001b[0m\u001b[1;33m\u001b[0m\u001b[0m\n\u001b[1;32m--> 319\u001b[1;33m         \u001b[0mdb\u001b[0m\u001b[1;33m.\u001b[0m\u001b[0mquery\u001b[0m\u001b[1;33m(\u001b[0m\u001b[0mq\u001b[0m\u001b[1;33m)\u001b[0m\u001b[1;33m\u001b[0m\u001b[1;33m\u001b[0m\u001b[0m\n\u001b[0m\u001b[0;32m    320\u001b[0m         \u001b[0mself\u001b[0m\u001b[1;33m.\u001b[0m\u001b[0m_do_get_result\u001b[0m\u001b[1;33m(\u001b[0m\u001b[0mdb\u001b[0m\u001b[1;33m)\u001b[0m\u001b[1;33m\u001b[0m\u001b[1;33m\u001b[0m\u001b[0m\n",
      "\u001b[1;32m~\\Anaconda3\\lib\\site-packages\\MySQLdb\\connections.py\u001b[0m in \u001b[0;36mquery\u001b[1;34m(self, query)\u001b[0m\n\u001b[0;32m    253\u001b[0m             \u001b[0mquery\u001b[0m \u001b[1;33m=\u001b[0m \u001b[0mbytes\u001b[0m\u001b[1;33m(\u001b[0m\u001b[0mquery\u001b[0m\u001b[1;33m)\u001b[0m\u001b[1;33m\u001b[0m\u001b[1;33m\u001b[0m\u001b[0m\n\u001b[1;32m--> 254\u001b[1;33m         \u001b[0m_mysql\u001b[0m\u001b[1;33m.\u001b[0m\u001b[0mconnection\u001b[0m\u001b[1;33m.\u001b[0m\u001b[0mquery\u001b[0m\u001b[1;33m(\u001b[0m\u001b[0mself\u001b[0m\u001b[1;33m,\u001b[0m \u001b[0mquery\u001b[0m\u001b[1;33m)\u001b[0m\u001b[1;33m\u001b[0m\u001b[1;33m\u001b[0m\u001b[0m\n\u001b[0m\u001b[0;32m    255\u001b[0m \u001b[1;33m\u001b[0m\u001b[0m\n",
      "\u001b[1;31mOperationalError\u001b[0m: (1052, \"Column 'userID' in on clause is ambiguous\")",
      "\nThe above exception was the direct cause of the following exception:\n",
      "\u001b[1;31mDatabaseError\u001b[0m                             Traceback (most recent call last)",
      "\u001b[1;32m~\\AppData\\Local\\Temp/ipykernel_508/3720073102.py\u001b[0m in \u001b[0;36m<module>\u001b[1;34m\u001b[0m\n\u001b[0;32m      1\u001b[0m \u001b[0msql\u001b[0m \u001b[1;33m=\u001b[0m \u001b[1;34m'select * from usertbl inner join buytbl on userID = buytbl.userID'\u001b[0m\u001b[1;33m\u001b[0m\u001b[1;33m\u001b[0m\u001b[0m\n\u001b[1;32m----> 2\u001b[1;33m \u001b[0mpd\u001b[0m\u001b[1;33m.\u001b[0m\u001b[0mread_sql\u001b[0m\u001b[1;33m(\u001b[0m\u001b[0msql\u001b[0m\u001b[1;33m,\u001b[0m \u001b[0mdb\u001b[0m\u001b[1;33m)\u001b[0m\u001b[1;33m\u001b[0m\u001b[1;33m\u001b[0m\u001b[0m\n\u001b[0m",
      "\u001b[1;32m~\\Anaconda3\\lib\\site-packages\\pandas\\io\\sql.py\u001b[0m in \u001b[0;36mread_sql\u001b[1;34m(sql, con, index_col, coerce_float, params, parse_dates, columns, chunksize)\u001b[0m\n\u001b[0;32m    600\u001b[0m \u001b[1;33m\u001b[0m\u001b[0m\n\u001b[0;32m    601\u001b[0m     \u001b[1;32mif\u001b[0m \u001b[0misinstance\u001b[0m\u001b[1;33m(\u001b[0m\u001b[0mpandas_sql\u001b[0m\u001b[1;33m,\u001b[0m \u001b[0mSQLiteDatabase\u001b[0m\u001b[1;33m)\u001b[0m\u001b[1;33m:\u001b[0m\u001b[1;33m\u001b[0m\u001b[1;33m\u001b[0m\u001b[0m\n\u001b[1;32m--> 602\u001b[1;33m         return pandas_sql.read_query(\n\u001b[0m\u001b[0;32m    603\u001b[0m             \u001b[0msql\u001b[0m\u001b[1;33m,\u001b[0m\u001b[1;33m\u001b[0m\u001b[1;33m\u001b[0m\u001b[0m\n\u001b[0;32m    604\u001b[0m             \u001b[0mindex_col\u001b[0m\u001b[1;33m=\u001b[0m\u001b[0mindex_col\u001b[0m\u001b[1;33m,\u001b[0m\u001b[1;33m\u001b[0m\u001b[1;33m\u001b[0m\u001b[0m\n",
      "\u001b[1;32m~\\Anaconda3\\lib\\site-packages\\pandas\\io\\sql.py\u001b[0m in \u001b[0;36mread_query\u001b[1;34m(self, sql, index_col, coerce_float, params, parse_dates, chunksize, dtype)\u001b[0m\n\u001b[0;32m   2114\u001b[0m \u001b[1;33m\u001b[0m\u001b[0m\n\u001b[0;32m   2115\u001b[0m         \u001b[0margs\u001b[0m \u001b[1;33m=\u001b[0m \u001b[0m_convert_params\u001b[0m\u001b[1;33m(\u001b[0m\u001b[0msql\u001b[0m\u001b[1;33m,\u001b[0m \u001b[0mparams\u001b[0m\u001b[1;33m)\u001b[0m\u001b[1;33m\u001b[0m\u001b[1;33m\u001b[0m\u001b[0m\n\u001b[1;32m-> 2116\u001b[1;33m         \u001b[0mcursor\u001b[0m \u001b[1;33m=\u001b[0m \u001b[0mself\u001b[0m\u001b[1;33m.\u001b[0m\u001b[0mexecute\u001b[0m\u001b[1;33m(\u001b[0m\u001b[1;33m*\u001b[0m\u001b[0margs\u001b[0m\u001b[1;33m)\u001b[0m\u001b[1;33m\u001b[0m\u001b[1;33m\u001b[0m\u001b[0m\n\u001b[0m\u001b[0;32m   2117\u001b[0m         \u001b[0mcolumns\u001b[0m \u001b[1;33m=\u001b[0m \u001b[1;33m[\u001b[0m\u001b[0mcol_desc\u001b[0m\u001b[1;33m[\u001b[0m\u001b[1;36m0\u001b[0m\u001b[1;33m]\u001b[0m \u001b[1;32mfor\u001b[0m \u001b[0mcol_desc\u001b[0m \u001b[1;32min\u001b[0m \u001b[0mcursor\u001b[0m\u001b[1;33m.\u001b[0m\u001b[0mdescription\u001b[0m\u001b[1;33m]\u001b[0m\u001b[1;33m\u001b[0m\u001b[1;33m\u001b[0m\u001b[0m\n\u001b[0;32m   2118\u001b[0m \u001b[1;33m\u001b[0m\u001b[0m\n",
      "\u001b[1;32m~\\Anaconda3\\lib\\site-packages\\pandas\\io\\sql.py\u001b[0m in \u001b[0;36mexecute\u001b[1;34m(self, *args, **kwargs)\u001b[0m\n\u001b[0;32m   2066\u001b[0m \u001b[1;33m\u001b[0m\u001b[0m\n\u001b[0;32m   2067\u001b[0m             \u001b[0mex\u001b[0m \u001b[1;33m=\u001b[0m \u001b[0mDatabaseError\u001b[0m\u001b[1;33m(\u001b[0m\u001b[1;34mf\"Execution failed on sql '{args[0]}': {exc}\"\u001b[0m\u001b[1;33m)\u001b[0m\u001b[1;33m\u001b[0m\u001b[1;33m\u001b[0m\u001b[0m\n\u001b[1;32m-> 2068\u001b[1;33m             \u001b[1;32mraise\u001b[0m \u001b[0mex\u001b[0m \u001b[1;32mfrom\u001b[0m \u001b[0mexc\u001b[0m\u001b[1;33m\u001b[0m\u001b[1;33m\u001b[0m\u001b[0m\n\u001b[0m\u001b[0;32m   2069\u001b[0m \u001b[1;33m\u001b[0m\u001b[0m\n\u001b[0;32m   2070\u001b[0m     \u001b[1;33m@\u001b[0m\u001b[0mstaticmethod\u001b[0m\u001b[1;33m\u001b[0m\u001b[1;33m\u001b[0m\u001b[0m\n",
      "\u001b[1;31mDatabaseError\u001b[0m: Execution failed on sql 'select * from usertbl inner join buytbl on userID = buytbl.userID': (1052, \"Column 'userID' in on clause is ambiguous\")"
     ]
    }
   ],
   "source": [
    "sql = 'select * from usertbl inner join buytbl on userID = buytbl.userID'\n",
    "pd.read_sql(sql, db)"
   ]
  },
  {
   "cell_type": "code",
   "execution_count": 41,
   "id": "ff2bd0fb",
   "metadata": {
    "collapsed": true
   },
   "outputs": [
    {
     "ename": "OperationalError",
     "evalue": "(1052, \"Column 'userID' in on clause is ambiguous\")",
     "output_type": "error",
     "traceback": [
      "\u001b[1;31m---------------------------------------------------------------------------\u001b[0m",
      "\u001b[1;31mOperationalError\u001b[0m                          Traceback (most recent call last)",
      "\u001b[1;32m~\\AppData\\Local\\Temp/ipykernel_508/1288786716.py\u001b[0m in \u001b[0;36m<module>\u001b[1;34m\u001b[0m\n\u001b[1;32m----> 1\u001b[1;33m \u001b[0mcursor\u001b[0m\u001b[1;33m.\u001b[0m\u001b[0mexecute\u001b[0m\u001b[1;33m(\u001b[0m\u001b[0msql\u001b[0m\u001b[1;33m)\u001b[0m\u001b[1;33m\u001b[0m\u001b[1;33m\u001b[0m\u001b[0m\n\u001b[0m\u001b[0;32m      2\u001b[0m \u001b[1;33m\u001b[0m\u001b[0m\n\u001b[0;32m      3\u001b[0m \u001b[0mresults\u001b[0m \u001b[1;33m=\u001b[0m \u001b[0mcursor\u001b[0m\u001b[1;33m.\u001b[0m\u001b[0mfetchall\u001b[0m\u001b[1;33m(\u001b[0m\u001b[1;33m)\u001b[0m\u001b[1;33m\u001b[0m\u001b[1;33m\u001b[0m\u001b[0m\n\u001b[0;32m      4\u001b[0m \u001b[1;32mfor\u001b[0m \u001b[0mi\u001b[0m \u001b[1;32min\u001b[0m \u001b[0mresults\u001b[0m\u001b[1;33m:\u001b[0m\u001b[1;33m\u001b[0m\u001b[1;33m\u001b[0m\u001b[0m\n\u001b[0;32m      5\u001b[0m     \u001b[0mprint\u001b[0m\u001b[1;33m(\u001b[0m\u001b[1;33m)\u001b[0m\u001b[1;33m\u001b[0m\u001b[1;33m\u001b[0m\u001b[0m\n",
      "\u001b[1;32m~\\Anaconda3\\lib\\site-packages\\MySQLdb\\cursors.py\u001b[0m in \u001b[0;36mexecute\u001b[1;34m(self, query, args)\u001b[0m\n\u001b[0;32m    204\u001b[0m \u001b[1;33m\u001b[0m\u001b[0m\n\u001b[0;32m    205\u001b[0m         \u001b[1;32massert\u001b[0m \u001b[0misinstance\u001b[0m\u001b[1;33m(\u001b[0m\u001b[0mquery\u001b[0m\u001b[1;33m,\u001b[0m \u001b[1;33m(\u001b[0m\u001b[0mbytes\u001b[0m\u001b[1;33m,\u001b[0m \u001b[0mbytearray\u001b[0m\u001b[1;33m)\u001b[0m\u001b[1;33m)\u001b[0m\u001b[1;33m\u001b[0m\u001b[1;33m\u001b[0m\u001b[0m\n\u001b[1;32m--> 206\u001b[1;33m         \u001b[0mres\u001b[0m \u001b[1;33m=\u001b[0m \u001b[0mself\u001b[0m\u001b[1;33m.\u001b[0m\u001b[0m_query\u001b[0m\u001b[1;33m(\u001b[0m\u001b[0mquery\u001b[0m\u001b[1;33m)\u001b[0m\u001b[1;33m\u001b[0m\u001b[1;33m\u001b[0m\u001b[0m\n\u001b[0m\u001b[0;32m    207\u001b[0m         \u001b[1;32mreturn\u001b[0m \u001b[0mres\u001b[0m\u001b[1;33m\u001b[0m\u001b[1;33m\u001b[0m\u001b[0m\n\u001b[0;32m    208\u001b[0m \u001b[1;33m\u001b[0m\u001b[0m\n",
      "\u001b[1;32m~\\Anaconda3\\lib\\site-packages\\MySQLdb\\cursors.py\u001b[0m in \u001b[0;36m_query\u001b[1;34m(self, q)\u001b[0m\n\u001b[0;32m    317\u001b[0m         \u001b[0mdb\u001b[0m \u001b[1;33m=\u001b[0m \u001b[0mself\u001b[0m\u001b[1;33m.\u001b[0m\u001b[0m_get_db\u001b[0m\u001b[1;33m(\u001b[0m\u001b[1;33m)\u001b[0m\u001b[1;33m\u001b[0m\u001b[1;33m\u001b[0m\u001b[0m\n\u001b[0;32m    318\u001b[0m         \u001b[0mself\u001b[0m\u001b[1;33m.\u001b[0m\u001b[0m_result\u001b[0m \u001b[1;33m=\u001b[0m \u001b[1;32mNone\u001b[0m\u001b[1;33m\u001b[0m\u001b[1;33m\u001b[0m\u001b[0m\n\u001b[1;32m--> 319\u001b[1;33m         \u001b[0mdb\u001b[0m\u001b[1;33m.\u001b[0m\u001b[0mquery\u001b[0m\u001b[1;33m(\u001b[0m\u001b[0mq\u001b[0m\u001b[1;33m)\u001b[0m\u001b[1;33m\u001b[0m\u001b[1;33m\u001b[0m\u001b[0m\n\u001b[0m\u001b[0;32m    320\u001b[0m         \u001b[0mself\u001b[0m\u001b[1;33m.\u001b[0m\u001b[0m_do_get_result\u001b[0m\u001b[1;33m(\u001b[0m\u001b[0mdb\u001b[0m\u001b[1;33m)\u001b[0m\u001b[1;33m\u001b[0m\u001b[1;33m\u001b[0m\u001b[0m\n\u001b[0;32m    321\u001b[0m         \u001b[0mself\u001b[0m\u001b[1;33m.\u001b[0m\u001b[0m_post_get_result\u001b[0m\u001b[1;33m(\u001b[0m\u001b[1;33m)\u001b[0m\u001b[1;33m\u001b[0m\u001b[1;33m\u001b[0m\u001b[0m\n",
      "\u001b[1;32m~\\Anaconda3\\lib\\site-packages\\MySQLdb\\connections.py\u001b[0m in \u001b[0;36mquery\u001b[1;34m(self, query)\u001b[0m\n\u001b[0;32m    252\u001b[0m         \u001b[1;32mif\u001b[0m \u001b[0misinstance\u001b[0m\u001b[1;33m(\u001b[0m\u001b[0mquery\u001b[0m\u001b[1;33m,\u001b[0m \u001b[0mbytearray\u001b[0m\u001b[1;33m)\u001b[0m\u001b[1;33m:\u001b[0m\u001b[1;33m\u001b[0m\u001b[1;33m\u001b[0m\u001b[0m\n\u001b[0;32m    253\u001b[0m             \u001b[0mquery\u001b[0m \u001b[1;33m=\u001b[0m \u001b[0mbytes\u001b[0m\u001b[1;33m(\u001b[0m\u001b[0mquery\u001b[0m\u001b[1;33m)\u001b[0m\u001b[1;33m\u001b[0m\u001b[1;33m\u001b[0m\u001b[0m\n\u001b[1;32m--> 254\u001b[1;33m         \u001b[0m_mysql\u001b[0m\u001b[1;33m.\u001b[0m\u001b[0mconnection\u001b[0m\u001b[1;33m.\u001b[0m\u001b[0mquery\u001b[0m\u001b[1;33m(\u001b[0m\u001b[0mself\u001b[0m\u001b[1;33m,\u001b[0m \u001b[0mquery\u001b[0m\u001b[1;33m)\u001b[0m\u001b[1;33m\u001b[0m\u001b[1;33m\u001b[0m\u001b[0m\n\u001b[0m\u001b[0;32m    255\u001b[0m \u001b[1;33m\u001b[0m\u001b[0m\n\u001b[0;32m    256\u001b[0m     \u001b[1;32mdef\u001b[0m \u001b[0m_bytes_literal\u001b[0m\u001b[1;33m(\u001b[0m\u001b[0mself\u001b[0m\u001b[1;33m,\u001b[0m \u001b[0mbs\u001b[0m\u001b[1;33m)\u001b[0m\u001b[1;33m:\u001b[0m\u001b[1;33m\u001b[0m\u001b[1;33m\u001b[0m\u001b[0m\n",
      "\u001b[1;31mOperationalError\u001b[0m: (1052, \"Column 'userID' in on clause is ambiguous\")"
     ]
    }
   ],
   "source": [
    "cursor.execute(sql)\n",
    "\n",
    "results = cursor.fetchall()\n",
    "for i in results:\n",
    "    print()"
   ]
  },
  {
   "cell_type": "code",
   "execution_count": 42,
   "id": "c71bfa75",
   "metadata": {},
   "outputs": [],
   "source": [
    "sql = \"\"\"\n",
    "use sakila;\n",
    "\"\"\""
   ]
  },
  {
   "cell_type": "code",
   "execution_count": 43,
   "id": "865dd471",
   "metadata": {},
   "outputs": [
    {
     "data": {
      "text/plain": [
       "0"
      ]
     },
     "execution_count": 43,
     "metadata": {},
     "output_type": "execute_result"
    }
   ],
   "source": [
    "cursor.execute(sql)"
   ]
  },
  {
   "cell_type": "code",
   "execution_count": 45,
   "id": "6509d48a",
   "metadata": {
    "collapsed": true
   },
   "outputs": [
    {
     "data": {
      "text/plain": [
       "(('actor',),\n",
       " ('actor_info',),\n",
       " ('address',),\n",
       " ('category',),\n",
       " ('city',),\n",
       " ('country',),\n",
       " ('customer',),\n",
       " ('customer_list',),\n",
       " ('film',),\n",
       " ('film_actor',),\n",
       " ('film_category',),\n",
       " ('film_list',),\n",
       " ('film_text',),\n",
       " ('inventory',),\n",
       " ('language',),\n",
       " ('nicer_but_slower_film_list',),\n",
       " ('payment',),\n",
       " ('rental',),\n",
       " ('sales_by_film_category',),\n",
       " ('sales_by_store',),\n",
       " ('staff',),\n",
       " ('staff_list',),\n",
       " ('store',))"
      ]
     },
     "execution_count": 45,
     "metadata": {},
     "output_type": "execute_result"
    }
   ],
   "source": [
    "sql = \"\"\"\n",
    "show tables\n",
    "\"\"\"\n",
    "cursor.execute(sql)\n",
    "results = cursor.fetchall()\n",
    "results"
   ]
  },
  {
   "cell_type": "code",
   "execution_count": 46,
   "id": "81026378",
   "metadata": {
    "collapsed": true
   },
   "outputs": [
    {
     "data": {
      "text/html": [
       "<div>\n",
       "<style scoped>\n",
       "    .dataframe tbody tr th:only-of-type {\n",
       "        vertical-align: middle;\n",
       "    }\n",
       "\n",
       "    .dataframe tbody tr th {\n",
       "        vertical-align: top;\n",
       "    }\n",
       "\n",
       "    .dataframe thead th {\n",
       "        text-align: right;\n",
       "    }\n",
       "</style>\n",
       "<table border=\"1\" class=\"dataframe\">\n",
       "  <thead>\n",
       "    <tr style=\"text-align: right;\">\n",
       "      <th></th>\n",
       "      <th>FID</th>\n",
       "      <th>title</th>\n",
       "      <th>description</th>\n",
       "      <th>category</th>\n",
       "      <th>price</th>\n",
       "      <th>length</th>\n",
       "      <th>rating</th>\n",
       "      <th>actors</th>\n",
       "    </tr>\n",
       "  </thead>\n",
       "  <tbody>\n",
       "    <tr>\n",
       "      <th>0</th>\n",
       "      <td>1</td>\n",
       "      <td>ACADEMY DINOSAUR</td>\n",
       "      <td>A Epic Drama of a Feminist And a Mad Scientist...</td>\n",
       "      <td>Documentary</td>\n",
       "      <td>0.99</td>\n",
       "      <td>86</td>\n",
       "      <td>PG</td>\n",
       "      <td>PENELOPE GUINESS, CHRISTIAN GABLE, LUCILLE TRA...</td>\n",
       "    </tr>\n",
       "    <tr>\n",
       "      <th>1</th>\n",
       "      <td>2</td>\n",
       "      <td>ACE GOLDFINGER</td>\n",
       "      <td>A Astounding Epistle of a Database Administrat...</td>\n",
       "      <td>Horror</td>\n",
       "      <td>4.99</td>\n",
       "      <td>48</td>\n",
       "      <td>G</td>\n",
       "      <td>BOB FAWCETT, MINNIE ZELLWEGER, SEAN GUINESS, C...</td>\n",
       "    </tr>\n",
       "    <tr>\n",
       "      <th>2</th>\n",
       "      <td>3</td>\n",
       "      <td>ADAPTATION HOLES</td>\n",
       "      <td>A Astounding Reflection of a Lumberjack And a ...</td>\n",
       "      <td>Documentary</td>\n",
       "      <td>2.99</td>\n",
       "      <td>50</td>\n",
       "      <td>NC-17</td>\n",
       "      <td>NICK WAHLBERG, BOB FAWCETT, CAMERON STREEP, RA...</td>\n",
       "    </tr>\n",
       "    <tr>\n",
       "      <th>3</th>\n",
       "      <td>4</td>\n",
       "      <td>AFFAIR PREJUDICE</td>\n",
       "      <td>A Fanciful Documentary of a Frisbee And a Lumb...</td>\n",
       "      <td>Horror</td>\n",
       "      <td>2.99</td>\n",
       "      <td>117</td>\n",
       "      <td>G</td>\n",
       "      <td>JODIE DEGENERES, SCARLETT DAMON, KENNETH PESCI...</td>\n",
       "    </tr>\n",
       "    <tr>\n",
       "      <th>4</th>\n",
       "      <td>5</td>\n",
       "      <td>AFRICAN EGG</td>\n",
       "      <td>A Fast-Paced Documentary of a Pastry Chef And ...</td>\n",
       "      <td>Family</td>\n",
       "      <td>2.99</td>\n",
       "      <td>130</td>\n",
       "      <td>G</td>\n",
       "      <td>GARY PHOENIX, DUSTIN TAUTOU, MATTHEW LEIGH, MA...</td>\n",
       "    </tr>\n",
       "    <tr>\n",
       "      <th>...</th>\n",
       "      <td>...</td>\n",
       "      <td>...</td>\n",
       "      <td>...</td>\n",
       "      <td>...</td>\n",
       "      <td>...</td>\n",
       "      <td>...</td>\n",
       "      <td>...</td>\n",
       "      <td>...</td>\n",
       "    </tr>\n",
       "    <tr>\n",
       "      <th>992</th>\n",
       "      <td>996</td>\n",
       "      <td>YOUNG LANGUAGE</td>\n",
       "      <td>A Unbelieveable Yarn of a Boat And a Database ...</td>\n",
       "      <td>Documentary</td>\n",
       "      <td>0.99</td>\n",
       "      <td>183</td>\n",
       "      <td>G</td>\n",
       "      <td>ED CHASE, JULIA MCQUEEN, JAMES PITT, CHRISTOPH...</td>\n",
       "    </tr>\n",
       "    <tr>\n",
       "      <th>993</th>\n",
       "      <td>997</td>\n",
       "      <td>YOUTH KICK</td>\n",
       "      <td>A Touching Drama of a Teacher And a Cat who mu...</td>\n",
       "      <td>Music</td>\n",
       "      <td>0.99</td>\n",
       "      <td>179</td>\n",
       "      <td>NC-17</td>\n",
       "      <td>SANDRA KILMER, VAL BOLGER, SCARLETT BENING, IA...</td>\n",
       "    </tr>\n",
       "    <tr>\n",
       "      <th>994</th>\n",
       "      <td>998</td>\n",
       "      <td>ZHIVAGO CORE</td>\n",
       "      <td>A Fateful Yarn of a Composer And a Man who mus...</td>\n",
       "      <td>Horror</td>\n",
       "      <td>0.99</td>\n",
       "      <td>105</td>\n",
       "      <td>NC-17</td>\n",
       "      <td>UMA WOOD, NICK STALLONE, GARY PENN, SALMA NOLT...</td>\n",
       "    </tr>\n",
       "    <tr>\n",
       "      <th>995</th>\n",
       "      <td>999</td>\n",
       "      <td>ZOOLANDER FICTION</td>\n",
       "      <td>A Fateful Reflection of a Waitress And a Boat ...</td>\n",
       "      <td>Children</td>\n",
       "      <td>2.99</td>\n",
       "      <td>101</td>\n",
       "      <td>R</td>\n",
       "      <td>CARMEN HUNT, MARY TANDY, PENELOPE CRONYN, WHOO...</td>\n",
       "    </tr>\n",
       "    <tr>\n",
       "      <th>996</th>\n",
       "      <td>1000</td>\n",
       "      <td>ZORRO ARK</td>\n",
       "      <td>A Intrepid Panorama of a Mad Scientist And a B...</td>\n",
       "      <td>Comedy</td>\n",
       "      <td>4.99</td>\n",
       "      <td>50</td>\n",
       "      <td>NC-17</td>\n",
       "      <td>IAN TANDY, NICK DEGENERES, LISA MONROE</td>\n",
       "    </tr>\n",
       "  </tbody>\n",
       "</table>\n",
       "<p>997 rows × 8 columns</p>\n",
       "</div>"
      ],
      "text/plain": [
       "      FID              title  \\\n",
       "0       1   ACADEMY DINOSAUR   \n",
       "1       2     ACE GOLDFINGER   \n",
       "2       3   ADAPTATION HOLES   \n",
       "3       4   AFFAIR PREJUDICE   \n",
       "4       5        AFRICAN EGG   \n",
       "..    ...                ...   \n",
       "992   996     YOUNG LANGUAGE   \n",
       "993   997         YOUTH KICK   \n",
       "994   998       ZHIVAGO CORE   \n",
       "995   999  ZOOLANDER FICTION   \n",
       "996  1000          ZORRO ARK   \n",
       "\n",
       "                                           description     category  price  \\\n",
       "0    A Epic Drama of a Feminist And a Mad Scientist...  Documentary   0.99   \n",
       "1    A Astounding Epistle of a Database Administrat...       Horror   4.99   \n",
       "2    A Astounding Reflection of a Lumberjack And a ...  Documentary   2.99   \n",
       "3    A Fanciful Documentary of a Frisbee And a Lumb...       Horror   2.99   \n",
       "4    A Fast-Paced Documentary of a Pastry Chef And ...       Family   2.99   \n",
       "..                                                 ...          ...    ...   \n",
       "992  A Unbelieveable Yarn of a Boat And a Database ...  Documentary   0.99   \n",
       "993  A Touching Drama of a Teacher And a Cat who mu...        Music   0.99   \n",
       "994  A Fateful Yarn of a Composer And a Man who mus...       Horror   0.99   \n",
       "995  A Fateful Reflection of a Waitress And a Boat ...     Children   2.99   \n",
       "996  A Intrepid Panorama of a Mad Scientist And a B...       Comedy   4.99   \n",
       "\n",
       "     length rating                                             actors  \n",
       "0        86     PG  PENELOPE GUINESS, CHRISTIAN GABLE, LUCILLE TRA...  \n",
       "1        48      G  BOB FAWCETT, MINNIE ZELLWEGER, SEAN GUINESS, C...  \n",
       "2        50  NC-17  NICK WAHLBERG, BOB FAWCETT, CAMERON STREEP, RA...  \n",
       "3       117      G  JODIE DEGENERES, SCARLETT DAMON, KENNETH PESCI...  \n",
       "4       130      G  GARY PHOENIX, DUSTIN TAUTOU, MATTHEW LEIGH, MA...  \n",
       "..      ...    ...                                                ...  \n",
       "992     183      G  ED CHASE, JULIA MCQUEEN, JAMES PITT, CHRISTOPH...  \n",
       "993     179  NC-17  SANDRA KILMER, VAL BOLGER, SCARLETT BENING, IA...  \n",
       "994     105  NC-17  UMA WOOD, NICK STALLONE, GARY PENN, SALMA NOLT...  \n",
       "995     101      R  CARMEN HUNT, MARY TANDY, PENELOPE CRONYN, WHOO...  \n",
       "996      50  NC-17             IAN TANDY, NICK DEGENERES, LISA MONROE  \n",
       "\n",
       "[997 rows x 8 columns]"
      ]
     },
     "execution_count": 46,
     "metadata": {},
     "output_type": "execute_result"
    }
   ],
   "source": [
    "sql = 'select * from film_list;'\n",
    "\n",
    "pd.read_sql(sql, db)"
   ]
  },
  {
   "cell_type": "code",
   "execution_count": null,
   "id": "9d9d6bca",
   "metadata": {},
   "outputs": [],
   "source": []
  },
  {
   "cell_type": "code",
   "execution_count": null,
   "id": "6b4d1c16",
   "metadata": {},
   "outputs": [],
   "source": [
    "# sakila database의 모든 table을 \"테이블명.csv\" 형식으로 새로운 folder sakila에 파일형식으로 저장하시오"
   ]
  },
  {
   "cell_type": "code",
   "execution_count": null,
   "id": "9eaa88e5",
   "metadata": {},
   "outputs": [],
   "source": []
  },
  {
   "cell_type": "code",
   "execution_count": null,
   "id": "6bf1b71f",
   "metadata": {},
   "outputs": [],
   "source": []
  },
  {
   "cell_type": "code",
   "execution_count": null,
   "id": "43a5f817",
   "metadata": {},
   "outputs": [],
   "source": []
  },
  {
   "cell_type": "code",
   "execution_count": null,
   "id": "20585ded",
   "metadata": {},
   "outputs": [],
   "source": []
  },
  {
   "cell_type": "code",
   "execution_count": null,
   "id": "e60d53bf",
   "metadata": {},
   "outputs": [],
   "source": []
  },
  {
   "cell_type": "code",
   "execution_count": null,
   "id": "a34e9988",
   "metadata": {},
   "outputs": [],
   "source": []
  },
  {
   "cell_type": "code",
   "execution_count": null,
   "id": "8a0cb8ff",
   "metadata": {},
   "outputs": [],
   "source": []
  },
  {
   "cell_type": "code",
   "execution_count": null,
   "id": "d8577f86",
   "metadata": {},
   "outputs": [],
   "source": []
  },
  {
   "cell_type": "code",
   "execution_count": null,
   "id": "9b80501a",
   "metadata": {},
   "outputs": [],
   "source": []
  },
  {
   "cell_type": "code",
   "execution_count": null,
   "id": "8bbbdb2b",
   "metadata": {},
   "outputs": [],
   "source": []
  },
  {
   "cell_type": "code",
   "execution_count": null,
   "id": "0b386801",
   "metadata": {},
   "outputs": [],
   "source": []
  },
  {
   "cell_type": "code",
   "execution_count": null,
   "id": "d2229a78",
   "metadata": {},
   "outputs": [],
   "source": []
  },
  {
   "cell_type": "code",
   "execution_count": null,
   "id": "6b85f02e",
   "metadata": {},
   "outputs": [],
   "source": []
  }
 ],
 "metadata": {
  "kernelspec": {
   "display_name": "Python 3 (ipykernel)",
   "language": "python",
   "name": "python3"
  },
  "language_info": {
   "codemirror_mode": {
    "name": "ipython",
    "version": 3
   },
   "file_extension": ".py",
   "mimetype": "text/x-python",
   "name": "python",
   "nbconvert_exporter": "python",
   "pygments_lexer": "ipython3",
   "version": "3.9.7"
  },
  "varInspector": {
   "cols": {
    "lenName": 16,
    "lenType": 16,
    "lenVar": 40
   },
   "kernels_config": {
    "python": {
     "delete_cmd_postfix": "",
     "delete_cmd_prefix": "del ",
     "library": "var_list.py",
     "varRefreshCmd": "print(var_dic_list())"
    },
    "r": {
     "delete_cmd_postfix": ") ",
     "delete_cmd_prefix": "rm(",
     "library": "var_list.r",
     "varRefreshCmd": "cat(var_dic_list()) "
    }
   },
   "types_to_exclude": [
    "module",
    "function",
    "builtin_function_or_method",
    "instance",
    "_Feature"
   ],
   "window_display": false
  }
 },
 "nbformat": 4,
 "nbformat_minor": 5
}
