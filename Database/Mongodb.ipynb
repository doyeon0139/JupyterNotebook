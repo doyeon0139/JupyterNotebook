{
 "cells": [
  {
   "cell_type": "markdown",
   "id": "9439d6b8",
   "metadata": {},
   "source": [
    "# RDBMS (관계형 데이터베이스)\n",
    "- sql언어를 사용\n",
    "- 규격이 엄격하고, 다양한 규격이 있으면 매번 수정해주어야 한다\n",
    "- Mysql, Oracle, Postgresql, SQLlte ...\n",
    "\n",
    "# NoSQL\n",
    "- sql을 사용하지 않음\n",
    "- 고정된 스키마가 없다\n",
    "- 정해진 규격이 엄격하지 않다\n",
    "- Mongodb, redis, Hbase, cassandra...\n",
    "\n",
    "# Mongodb\n",
    "- json구조로 data(document)를 관리\n",
    "- sql : database > table > data(row, column)\n",
    "- mongodb : database > collection > document\n"
   ]
  },
  {
   "cell_type": "code",
   "execution_count": null,
   "id": "ee37216f",
   "metadata": {},
   "outputs": [],
   "source": [
    "# mongod --d\n",
    "\n",
    "# http://localhost:27017"
   ]
  },
  {
   "cell_type": "code",
   "execution_count": null,
   "id": "9f48dd54",
   "metadata": {},
   "outputs": [],
   "source": []
  },
  {
   "cell_type": "code",
   "execution_count": 1,
   "id": "edbaa203",
   "metadata": {},
   "outputs": [
    {
     "name": "stdout",
     "output_type": "stream",
     "text": [
      "Collecting pymongo\n",
      "  Downloading pymongo-4.0.1-cp39-cp39-win_amd64.whl (354 kB)\n",
      "Installing collected packages: pymongo\n",
      "Successfully installed pymongo-4.0.1\n"
     ]
    }
   ],
   "source": [
    "!pip install pymongo"
   ]
  },
  {
   "cell_type": "code",
   "execution_count": 5,
   "id": "ebc1e06f",
   "metadata": {},
   "outputs": [],
   "source": [
    "import pymongo"
   ]
  },
  {
   "cell_type": "code",
   "execution_count": 6,
   "id": "a2005ac9",
   "metadata": {},
   "outputs": [],
   "source": [
    "conn = pymongo.MongoClient()"
   ]
  },
  {
   "cell_type": "code",
   "execution_count": 16,
   "id": "8bd372bd",
   "metadata": {},
   "outputs": [],
   "source": [
    "tdb = conn['testdb']"
   ]
  },
  {
   "cell_type": "code",
   "execution_count": 17,
   "id": "f4644431",
   "metadata": {},
   "outputs": [],
   "source": [
    "col_it = tdb['it']"
   ]
  },
  {
   "cell_type": "code",
   "execution_count": 18,
   "id": "2bccdd1f",
   "metadata": {},
   "outputs": [
    {
     "data": {
      "text/plain": [
       "<pymongo.results.InsertOneResult at 0x226d5f65ac0>"
      ]
     },
     "execution_count": 18,
     "metadata": {},
     "output_type": "execute_result"
    }
   ],
   "source": [
    "post = {'author':'Mike', 'text':'my first blog post', 'tags':['mongodb','python','pymongo']}\n",
    "col_it.insert_one(post)"
   ]
  },
  {
   "cell_type": "code",
   "execution_count": 26,
   "id": "ec95ccda",
   "metadata": {},
   "outputs": [
    {
     "name": "stdout",
     "output_type": "stream",
     "text": [
      "{'_id': ObjectId('6203598fa2b361620b295440'), 'author': 'Mike', 'text': 'my first blog post', 'tags': ['mongodb', 'python', 'pymongo']}\n"
     ]
    }
   ],
   "source": [
    "results = col_it.find()\n",
    "for r in results:\n",
    "    print(r)"
   ]
  },
  {
   "cell_type": "code",
   "execution_count": 85,
   "id": "f39c7cb1",
   "metadata": {
    "collapsed": true
   },
   "outputs": [
    {
     "ename": "TypeError",
     "evalue": "'Collection' object is not callable. If you meant to call the 'insert_on' method on a 'Collection' object it is failing because no such method exists.",
     "output_type": "error",
     "traceback": [
      "\u001b[1;31m---------------------------------------------------------------------------\u001b[0m",
      "\u001b[1;31mTypeError\u001b[0m                                 Traceback (most recent call last)",
      "\u001b[1;32m~\\AppData\\Local\\Temp/ipykernel_14328/2090193549.py\u001b[0m in \u001b[0;36m<module>\u001b[1;34m\u001b[0m\n\u001b[1;32m----> 1\u001b[1;33m \u001b[0mcol_it\u001b[0m\u001b[1;33m.\u001b[0m\u001b[0minsert_on\u001b[0m\u001b[1;33m(\u001b[0m\u001b[1;33m{\u001b[0m\u001b[1;34m'author'\u001b[0m\u001b[1;33m:\u001b[0m\u001b[1;34m'Dave Lee'\u001b[0m\u001b[1;33m,\u001b[0m \u001b[1;34m'age'\u001b[0m\u001b[1;33m:\u001b[0m\u001b[1;36m45\u001b[0m\u001b[1;33m}\u001b[0m\u001b[1;33m)\u001b[0m\u001b[1;33m\u001b[0m\u001b[1;33m\u001b[0m\u001b[0m\n\u001b[0m",
      "\u001b[1;32m~\\Anaconda3\\lib\\site-packages\\pymongo\\collection.py\u001b[0m in \u001b[0;36m__call__\u001b[1;34m(self, *args, **kwargs)\u001b[0m\n\u001b[0;32m   2582\u001b[0m                             \u001b[1;34m\"exists.\"\u001b[0m \u001b[1;33m%\u001b[0m\u001b[1;33m\u001b[0m\u001b[1;33m\u001b[0m\u001b[0m\n\u001b[0;32m   2583\u001b[0m                             self.__name)\n\u001b[1;32m-> 2584\u001b[1;33m         raise TypeError(\"'Collection' object is not callable. If you meant to \"\n\u001b[0m\u001b[0;32m   2585\u001b[0m                         \u001b[1;34m\"call the '%s' method on a 'Collection' object it is \"\u001b[0m\u001b[1;33m\u001b[0m\u001b[1;33m\u001b[0m\u001b[0m\n\u001b[0;32m   2586\u001b[0m                         \u001b[1;34m\"failing because no such method exists.\"\u001b[0m \u001b[1;33m%\u001b[0m\u001b[1;33m\u001b[0m\u001b[1;33m\u001b[0m\u001b[0m\n",
      "\u001b[1;31mTypeError\u001b[0m: 'Collection' object is not callable. If you meant to call the 'insert_on' method on a 'Collection' object it is failing because no such method exists."
     ]
    }
   ],
   "source": [
    "col_it.insert_on({'author':'Dave Lee', 'age':45})"
   ]
  },
  {
   "cell_type": "code",
   "execution_count": 30,
   "id": "044a2776",
   "metadata": {},
   "outputs": [
    {
     "name": "stdout",
     "output_type": "stream",
     "text": [
      "{'_id': ObjectId('6203598fa2b361620b295440'), 'author': 'Mike', 'text': 'my first blog post', 'tags': ['mongodb', 'python', 'pymongo']}\n",
      "{'_id': ObjectId('62035a83a2b361620b295441'), 'author': 'Dave Ahn', 'age': 25}\n",
      "{'_id': ObjectId('62035a83a2b361620b295442'), 'author': 'Dave', 'age': 35}\n"
     ]
    }
   ],
   "source": [
    "results = col_it.find()\n",
    "for r in results:\n",
    "    print(r)"
   ]
  },
  {
   "cell_type": "code",
   "execution_count": 28,
   "id": "4b9633d9",
   "metadata": {},
   "outputs": [
    {
     "data": {
      "text/plain": [
       "<pymongo.results.InsertManyResult at 0x226c64abd40>"
      ]
     },
     "execution_count": 28,
     "metadata": {},
     "output_type": "execute_result"
    }
   ],
   "source": [
    "col_it.insert_many(\n",
    "    [\n",
    "        {'author':'Dave Ahn', 'age':25},\n",
    "        {'author':'Dave', 'age':35}\n",
    "        \n",
    "    ]\n",
    ")"
   ]
  },
  {
   "cell_type": "code",
   "execution_count": 31,
   "id": "151c344b",
   "metadata": {},
   "outputs": [
    {
     "name": "stdout",
     "output_type": "stream",
     "text": [
      "{'_id': ObjectId('6203598fa2b361620b295440'), 'author': 'Mike', 'text': 'my first blog post', 'tags': ['mongodb', 'python', 'pymongo']}\n",
      "{'_id': ObjectId('62035a83a2b361620b295441'), 'author': 'Dave Ahn', 'age': 25}\n",
      "{'_id': ObjectId('62035a83a2b361620b295442'), 'author': 'Dave', 'age': 35}\n"
     ]
    }
   ],
   "source": [
    "results = col_it.find()\n",
    "for r in results:\n",
    "    print(r)"
   ]
  },
  {
   "cell_type": "code",
   "execution_count": null,
   "id": "6df983e9",
   "metadata": {},
   "outputs": [],
   "source": [
    "* document insert하면서, _id(primary key)를 확인하는 법"
   ]
  },
  {
   "cell_type": "code",
   "execution_count": 33,
   "id": "4f55cb16",
   "metadata": {},
   "outputs": [
    {
     "data": {
      "text/plain": [
       "<pymongo.results.InsertOneResult at 0x226d6083c80>"
      ]
     },
     "execution_count": 33,
     "metadata": {},
     "output_type": "execute_result"
    }
   ],
   "source": [
    "post = {'author':'Dave', 'text':'my first blog post'}\n",
    "\n",
    "post_id = col_it.insert_one(post)\n",
    "post_id"
   ]
  },
  {
   "cell_type": "code",
   "execution_count": 34,
   "id": "fa1789b7",
   "metadata": {},
   "outputs": [
    {
     "data": {
      "text/plain": [
       "ObjectId('62035abda2b361620b295443')"
      ]
     },
     "execution_count": 34,
     "metadata": {},
     "output_type": "execute_result"
    }
   ],
   "source": [
    "post_id.inserted_id"
   ]
  },
  {
   "cell_type": "code",
   "execution_count": 35,
   "id": "018c48b5",
   "metadata": {},
   "outputs": [
    {
     "data": {
      "text/plain": [
       "4"
      ]
     },
     "execution_count": 35,
     "metadata": {},
     "output_type": "execute_result"
    }
   ],
   "source": [
    "col_it.count_documents({})"
   ]
  },
  {
   "cell_type": "code",
   "execution_count": 36,
   "id": "d94783ea",
   "metadata": {},
   "outputs": [],
   "source": [
    "# col_it.count()"
   ]
  },
  {
   "cell_type": "code",
   "execution_count": 37,
   "id": "ecc3d370",
   "metadata": {
    "collapsed": true
   },
   "outputs": [
    {
     "ename": "SyntaxError",
     "evalue": "invalid syntax (Temp/ipykernel_14328/4054086869.py, line 1)",
     "output_type": "error",
     "traceback": [
      "\u001b[1;36m  File \u001b[1;32m\"C:\\Users\\bitcamp\\AppData\\Local\\Temp/ipykernel_14328/4054086869.py\"\u001b[1;36m, line \u001b[1;32m1\u001b[0m\n\u001b[1;33m    * 입력 : {}, 리스트, 중첩 딕셔너리\u001b[0m\n\u001b[1;37m         ^\u001b[0m\n\u001b[1;31mSyntaxError\u001b[0m\u001b[1;31m:\u001b[0m invalid syntax\n"
     ]
    }
   ],
   "source": [
    "* 입력 : {}, 리스트, 중첩 딕셔너리"
   ]
  },
  {
   "cell_type": "code",
   "execution_count": 86,
   "id": "a84ec515",
   "metadata": {},
   "outputs": [
    {
     "data": {
      "text/plain": [
       "<pymongo.results.InsertOneResult at 0x226d5e79280>"
      ]
     },
     "execution_count": 86,
     "metadata": {},
     "output_type": "execute_result"
    }
   ],
   "source": [
    "col_it.insert_one({'title':'암살', 'castings':['이정재','전지현','하정우']})"
   ]
  },
  {
   "cell_type": "code",
   "execution_count": 87,
   "id": "361eb319",
   "metadata": {},
   "outputs": [
    {
     "data": {
      "text/plain": [
       "<pymongo.results.InsertOneResult at 0x226db84fe80>"
      ]
     },
     "execution_count": 87,
     "metadata": {},
     "output_type": "execute_result"
    }
   ],
   "source": [
    "col_it.insert_one(\n",
    "    {\n",
    "        'title':'실미도',\n",
    "        'castings':['설경구','안성기'],\n",
    "        'datetime':\n",
    "        {\n",
    "            'year': '2003',\n",
    "            'month': 3,\n",
    "            'val':\n",
    "            {\n",
    "                'a':\n",
    "                {\n",
    "                    'b':1\n",
    "                }\n",
    "            }\n",
    "        }\n",
    "    }\n",
    ")"
   ]
  },
  {
   "cell_type": "code",
   "execution_count": 90,
   "id": "b694e8e6",
   "metadata": {},
   "outputs": [
    {
     "data": {
      "text/plain": [
       "<pymongo.results.InsertManyResult at 0x226dab58f80>"
      ]
     },
     "execution_count": 90,
     "metadata": {},
     "output_type": "execute_result"
    }
   ],
   "source": [
    "data = list()\n",
    "data.append({'name':'aaron','age':20})\n",
    "data.append({'name':'bob','age':22})\n",
    "data.append({'name':'cathy','age':25})\n",
    "data.append({'name':'erick','age':30})\n",
    "data.append({'name':'aaron','age':20})\n",
    "data.append({'name':'hnm'})\n",
    "\n",
    "col_it.insert_many(data)"
   ]
  },
  {
   "cell_type": "code",
   "execution_count": 91,
   "id": "5c9bc349",
   "metadata": {},
   "outputs": [
    {
     "data": {
      "text/plain": [
       "14"
      ]
     },
     "execution_count": 91,
     "metadata": {},
     "output_type": "execute_result"
    }
   ],
   "source": [
    "col_it.count_documents({})"
   ]
  },
  {
   "cell_type": "code",
   "execution_count": null,
   "id": "55c85f75",
   "metadata": {},
   "outputs": [],
   "source": []
  },
  {
   "cell_type": "markdown",
   "id": "639993d2",
   "metadata": {},
   "source": [
    "## document 검색하기"
   ]
  },
  {
   "cell_type": "markdown",
   "id": "635fbaa2",
   "metadata": {},
   "source": [
    "* find_one()"
   ]
  },
  {
   "cell_type": "code",
   "execution_count": 92,
   "id": "290a02db",
   "metadata": {},
   "outputs": [
    {
     "data": {
      "text/plain": [
       "{'_id': ObjectId('6203598fa2b361620b295440'),\n",
       " 'author': 'Mike',\n",
       " 'text': 'my first blog post',\n",
       " 'tags': ['mongodb', 'python', 'pymongo']}"
      ]
     },
     "execution_count": 92,
     "metadata": {},
     "output_type": "execute_result"
    }
   ],
   "source": [
    "col_it.find_one()"
   ]
  },
  {
   "cell_type": "code",
   "execution_count": 94,
   "id": "7a0a7111",
   "metadata": {},
   "outputs": [
    {
     "name": "stdout",
     "output_type": "stream",
     "text": [
      "{'_id': ObjectId('6203598fa2b361620b295440'), 'author': 'Mike', 'text': 'my first blog post', 'tags': ['mongodb', 'python', 'pymongo']}\n",
      "{'_id': ObjectId('62035a83a2b361620b295441'), 'author': 'Dave Ahn', 'age': 25}\n",
      "{'_id': ObjectId('62035a83a2b361620b295442'), 'author': 'Dave', 'age': 35}\n",
      "{'_id': ObjectId('62035abda2b361620b295443'), 'author': 'Dave', 'text': 'my first blog post'}\n",
      "{'_id': ObjectId('62035ac9a2b361620b295444'), 'title': '암살', 'castings': ['이정재', '전지현', '하정우']}\n",
      "{'_id': ObjectId('62035af3a2b361620b295445'), 'title': '실미도', 'castings': ['설경구', '안성기'], 'datetime': {'year': '2003', 'month': 3, 'val': {'a': {'b': 1}}}}\n",
      "{'_id': ObjectId('62038fd4a2b361620b2954d3'), 'title': '암살', 'castings': ['이정재', '전지현', '하정우']}\n",
      "{'_id': ObjectId('62038fd5a2b361620b2954d4'), 'title': '실미도', 'castings': ['설경구', '안성기'], 'datetime': {'year': '2003', 'month': 3, 'val': {'a': {'b': 1}}}}\n",
      "{'_id': ObjectId('620390fea2b361620b2954d5'), 'name': 'aaron', 'age': 20}\n",
      "{'_id': ObjectId('620390fea2b361620b2954d6'), 'name': 'bob', 'age': 22}\n",
      "{'_id': ObjectId('620390fea2b361620b2954d7'), 'name': 'cathy', 'age': 25}\n",
      "{'_id': ObjectId('620390fea2b361620b2954d8'), 'name': 'erick', 'age': 30}\n",
      "{'_id': ObjectId('620390fea2b361620b2954d9'), 'name': 'aaron', 'age': 20}\n",
      "{'_id': ObjectId('620390fea2b361620b2954da'), 'name': 'hnm'}\n"
     ]
    }
   ],
   "source": [
    "results = col_it.find()\n",
    "for r in results:\n",
    "    print(r)"
   ]
  },
  {
   "cell_type": "code",
   "execution_count": 98,
   "id": "6dd586c1",
   "metadata": {},
   "outputs": [
    {
     "name": "stdout",
     "output_type": "stream",
     "text": [
      "{'_id': ObjectId('62035a83a2b361620b295442'), 'author': 'Dave', 'age': 35}\n",
      "{'_id': ObjectId('62035abda2b361620b295443'), 'author': 'Dave', 'text': 'my first blog post'}\n"
     ]
    }
   ],
   "source": [
    "results = col_it.find({'author':'Dave'})\n",
    "for r in results:\n",
    "    print(r)"
   ]
  },
  {
   "cell_type": "code",
   "execution_count": 99,
   "id": "bf79e771",
   "metadata": {},
   "outputs": [
    {
     "data": {
      "text/plain": [
       "{'_id': ObjectId('62035a83a2b361620b295442'), 'author': 'Dave', 'age': 35}"
      ]
     },
     "execution_count": 99,
     "metadata": {},
     "output_type": "execute_result"
    }
   ],
   "source": [
    "col_it.find_one({'author':'Dave'})"
   ]
  },
  {
   "cell_type": "code",
   "execution_count": 100,
   "id": "0d4351bc",
   "metadata": {},
   "outputs": [
    {
     "data": {
      "text/plain": [
       "2"
      ]
     },
     "execution_count": 100,
     "metadata": {},
     "output_type": "execute_result"
    }
   ],
   "source": [
    "col_it.count_documents({'author':'Dave'})"
   ]
  },
  {
   "cell_type": "code",
   "execution_count": 102,
   "id": "2f8327ed",
   "metadata": {},
   "outputs": [
    {
     "name": "stdout",
     "output_type": "stream",
     "text": [
      "{'_id': ObjectId('6203598fa2b361620b295440'), 'author': 'Mike', 'text': 'my first blog post', 'tags': ['mongodb', 'python', 'pymongo']}\n",
      "{'_id': ObjectId('62035abda2b361620b295443'), 'author': 'Dave', 'text': 'my first blog post'}\n",
      "{'_id': ObjectId('62035ac9a2b361620b295444'), 'title': '암살', 'castings': ['이정재', '전지현', '하정우']}\n",
      "{'_id': ObjectId('62035af3a2b361620b295445'), 'title': '실미도', 'castings': ['설경구', '안성기'], 'datetime': {'year': '2003', 'month': 3, 'val': {'a': {'b': 1}}}}\n",
      "{'_id': ObjectId('62038fd4a2b361620b2954d3'), 'title': '암살', 'castings': ['이정재', '전지현', '하정우']}\n",
      "{'_id': ObjectId('62038fd5a2b361620b2954d4'), 'title': '실미도', 'castings': ['설경구', '안성기'], 'datetime': {'year': '2003', 'month': 3, 'val': {'a': {'b': 1}}}}\n",
      "{'_id': ObjectId('620390fea2b361620b2954da'), 'name': 'hnm'}\n",
      "{'_id': ObjectId('620390fea2b361620b2954d5'), 'name': 'aaron', 'age': 20}\n",
      "{'_id': ObjectId('620390fea2b361620b2954d9'), 'name': 'aaron', 'age': 20}\n",
      "{'_id': ObjectId('620390fea2b361620b2954d6'), 'name': 'bob', 'age': 22}\n",
      "{'_id': ObjectId('62035a83a2b361620b295441'), 'author': 'Dave Ahn', 'age': 25}\n",
      "{'_id': ObjectId('620390fea2b361620b2954d7'), 'name': 'cathy', 'age': 25}\n",
      "{'_id': ObjectId('620390fea2b361620b2954d8'), 'name': 'erick', 'age': 30}\n",
      "{'_id': ObjectId('62035a83a2b361620b295442'), 'author': 'Dave', 'age': 35}\n"
     ]
    }
   ],
   "source": [
    "for r in col_it.find().sort('age'):\n",
    "    print(r)           ###????"
   ]
  },
  {
   "cell_type": "code",
   "execution_count": null,
   "id": "74439238",
   "metadata": {},
   "outputs": [],
   "source": []
  },
  {
   "cell_type": "markdown",
   "id": "f977f59e",
   "metadata": {},
   "source": [
    "### document update: update_one(),update_many()"
   ]
  },
  {
   "cell_type": "code",
   "execution_count": 103,
   "id": "71b93c52",
   "metadata": {},
   "outputs": [
    {
     "data": {
      "text/plain": [
       "{'_id': ObjectId('62035a83a2b361620b295442'), 'author': 'Dave', 'age': 35}"
      ]
     },
     "execution_count": 103,
     "metadata": {},
     "output_type": "execute_result"
    }
   ],
   "source": [
    "col_it.find_one({'author':'Dave'})\n"
   ]
  },
  {
   "cell_type": "code",
   "execution_count": 104,
   "id": "81191b39",
   "metadata": {},
   "outputs": [
    {
     "data": {
      "text/plain": [
       "<pymongo.results.UpdateResult at 0x226db7a5d40>"
      ]
     },
     "execution_count": 104,
     "metadata": {},
     "output_type": "execute_result"
    }
   ],
   "source": [
    "col_it.update_one({\"author\":'Dave'},\n",
    "                 {\"$set\": {'text': 'Hi Dave'}})"
   ]
  },
  {
   "cell_type": "code",
   "execution_count": 107,
   "id": "eafe6223",
   "metadata": {},
   "outputs": [
    {
     "data": {
      "text/plain": [
       "Collection(Database(MongoClient(host=['localhost:27017'], document_class=dict, tz_aware=False, connect=True), 'testdb'), 'it')"
      ]
     },
     "execution_count": 107,
     "metadata": {},
     "output_type": "execute_result"
    }
   ],
   "source": [
    "col_it"
   ]
  },
  {
   "cell_type": "code",
   "execution_count": 108,
   "id": "0d154c60",
   "metadata": {},
   "outputs": [
    {
     "name": "stdout",
     "output_type": "stream",
     "text": [
      "{'_id': ObjectId('62035a83a2b361620b295442'), 'author': 'Dave', 'age': 35, 'text': 'Hi Dave'}\n",
      "{'_id': ObjectId('62035abda2b361620b295443'), 'author': 'Dave', 'text': 'my first blog post'}\n"
     ]
    }
   ],
   "source": [
    "for d in col_it.find({'author':'Dave'}):\n",
    "    print(d)"
   ]
  },
  {
   "cell_type": "code",
   "execution_count": null,
   "id": "af5e1a51",
   "metadata": {},
   "outputs": [],
   "source": []
  },
  {
   "cell_type": "code",
   "execution_count": null,
   "id": "52191c65",
   "metadata": {},
   "outputs": [],
   "source": []
  },
  {
   "cell_type": "code",
   "execution_count": null,
   "id": "142f4ef5",
   "metadata": {},
   "outputs": [],
   "source": []
  },
  {
   "cell_type": "code",
   "execution_count": 109,
   "id": "6bbf0bc4",
   "metadata": {},
   "outputs": [
    {
     "data": {
      "text/plain": [
       "<pymongo.results.UpdateResult at 0x226d5ebad00>"
      ]
     },
     "execution_count": 109,
     "metadata": {},
     "output_type": "execute_result"
    }
   ],
   "source": [
    "col_it.update_many({'author':'Dave'},\n",
    "                  {\"$set\": {'text':'hi dave'}})"
   ]
  },
  {
   "cell_type": "code",
   "execution_count": 110,
   "id": "178cd3e3",
   "metadata": {},
   "outputs": [
    {
     "name": "stdout",
     "output_type": "stream",
     "text": [
      "{'_id': ObjectId('62035a83a2b361620b295442'), 'author': 'Dave', 'age': 35, 'text': 'hi dave'}\n",
      "{'_id': ObjectId('62035abda2b361620b295443'), 'author': 'Dave', 'text': 'hi dave'}\n"
     ]
    }
   ],
   "source": [
    "for d in col_it.find({'author':'Dave'}):\n",
    "    print(d)"
   ]
  },
  {
   "cell_type": "code",
   "execution_count": null,
   "id": "762227a4",
   "metadata": {},
   "outputs": [],
   "source": []
  },
  {
   "cell_type": "markdown",
   "id": "bb3f6067",
   "metadata": {},
   "source": [
    "## document delete:delete_one(), delete_many()"
   ]
  },
  {
   "cell_type": "code",
   "execution_count": 111,
   "id": "48df7ba5",
   "metadata": {},
   "outputs": [
    {
     "name": "stdout",
     "output_type": "stream",
     "text": [
      "{'_id': ObjectId('62035a83a2b361620b295442'), 'author': 'Dave', 'age': 35, 'text': 'hi dave'}\n",
      "{'_id': ObjectId('62035abda2b361620b295443'), 'author': 'Dave', 'text': 'hi dave'}\n"
     ]
    }
   ],
   "source": [
    "for d in col_it.find({'author':'Dave'}):\n",
    "    print(d)"
   ]
  },
  {
   "cell_type": "code",
   "execution_count": 112,
   "id": "99243e29",
   "metadata": {},
   "outputs": [
    {
     "data": {
      "text/plain": [
       "<pymongo.results.DeleteResult at 0x226db8ef800>"
      ]
     },
     "execution_count": 112,
     "metadata": {},
     "output_type": "execute_result"
    }
   ],
   "source": [
    "col_it.delete_one({'author':'Dave Lee'})"
   ]
  },
  {
   "cell_type": "code",
   "execution_count": 115,
   "id": "35bf243d",
   "metadata": {},
   "outputs": [],
   "source": [
    "for d in col_it.find({'author':'Dave Lee'}):\n",
    "    print(d)"
   ]
  },
  {
   "cell_type": "code",
   "execution_count": null,
   "id": "8c43f68f",
   "metadata": {},
   "outputs": [],
   "source": []
  },
  {
   "cell_type": "code",
   "execution_count": 116,
   "id": "6bb7cf01",
   "metadata": {},
   "outputs": [
    {
     "name": "stdout",
     "output_type": "stream",
     "text": [
      "{'_id': ObjectId('62035a83a2b361620b295442'), 'author': 'Dave', 'age': 35, 'text': 'hi dave'}\n",
      "{'_id': ObjectId('62035abda2b361620b295443'), 'author': 'Dave', 'text': 'hi dave'}\n"
     ]
    }
   ],
   "source": [
    "for d in col_it.find({'author':'Dave'}):\n",
    "    print(d)"
   ]
  },
  {
   "cell_type": "code",
   "execution_count": 118,
   "id": "9a5d9548",
   "metadata": {},
   "outputs": [
    {
     "data": {
      "text/plain": [
       "<pymongo.results.DeleteResult at 0x226db8354c0>"
      ]
     },
     "execution_count": 118,
     "metadata": {},
     "output_type": "execute_result"
    }
   ],
   "source": [
    "col_it.delete_many({'author':'Dave'})"
   ]
  },
  {
   "cell_type": "code",
   "execution_count": 119,
   "id": "38842c76",
   "metadata": {},
   "outputs": [],
   "source": [
    "for d in col_it.find({'author':'Dave'}):\n",
    "    print(d)"
   ]
  },
  {
   "cell_type": "code",
   "execution_count": null,
   "id": "3560ee78",
   "metadata": {},
   "outputs": [],
   "source": []
  },
  {
   "cell_type": "code",
   "execution_count": 120,
   "id": "7baf0d2a",
   "metadata": {},
   "outputs": [],
   "source": [
    "boos = conn.books\n"
   ]
  },
  {
   "cell_type": "code",
   "execution_count": 121,
   "id": "49a0d1b8",
   "metadata": {},
   "outputs": [],
   "source": [
    "it_book = boos.it_books"
   ]
  },
  {
   "cell_type": "code",
   "execution_count": 122,
   "id": "0b4ce894",
   "metadata": {},
   "outputs": [],
   "source": [
    "data = list()\n",
    "for index in range(100):\n",
    "    data.append({'author':'Dave Lee','publisher':'bit_company','number': index})"
   ]
  },
  {
   "cell_type": "code",
   "execution_count": 123,
   "id": "6d19ca82",
   "metadata": {
    "collapsed": true
   },
   "outputs": [
    {
     "data": {
      "text/plain": [
       "[{'author': 'Dave Lee', 'publisher': 'bit_company', 'number': 0},\n",
       " {'author': 'Dave Lee', 'publisher': 'bit_company', 'number': 1},\n",
       " {'author': 'Dave Lee', 'publisher': 'bit_company', 'number': 2},\n",
       " {'author': 'Dave Lee', 'publisher': 'bit_company', 'number': 3},\n",
       " {'author': 'Dave Lee', 'publisher': 'bit_company', 'number': 4},\n",
       " {'author': 'Dave Lee', 'publisher': 'bit_company', 'number': 5},\n",
       " {'author': 'Dave Lee', 'publisher': 'bit_company', 'number': 6},\n",
       " {'author': 'Dave Lee', 'publisher': 'bit_company', 'number': 7},\n",
       " {'author': 'Dave Lee', 'publisher': 'bit_company', 'number': 8},\n",
       " {'author': 'Dave Lee', 'publisher': 'bit_company', 'number': 9},\n",
       " {'author': 'Dave Lee', 'publisher': 'bit_company', 'number': 10},\n",
       " {'author': 'Dave Lee', 'publisher': 'bit_company', 'number': 11},\n",
       " {'author': 'Dave Lee', 'publisher': 'bit_company', 'number': 12},\n",
       " {'author': 'Dave Lee', 'publisher': 'bit_company', 'number': 13},\n",
       " {'author': 'Dave Lee', 'publisher': 'bit_company', 'number': 14},\n",
       " {'author': 'Dave Lee', 'publisher': 'bit_company', 'number': 15},\n",
       " {'author': 'Dave Lee', 'publisher': 'bit_company', 'number': 16},\n",
       " {'author': 'Dave Lee', 'publisher': 'bit_company', 'number': 17},\n",
       " {'author': 'Dave Lee', 'publisher': 'bit_company', 'number': 18},\n",
       " {'author': 'Dave Lee', 'publisher': 'bit_company', 'number': 19},\n",
       " {'author': 'Dave Lee', 'publisher': 'bit_company', 'number': 20},\n",
       " {'author': 'Dave Lee', 'publisher': 'bit_company', 'number': 21},\n",
       " {'author': 'Dave Lee', 'publisher': 'bit_company', 'number': 22},\n",
       " {'author': 'Dave Lee', 'publisher': 'bit_company', 'number': 23},\n",
       " {'author': 'Dave Lee', 'publisher': 'bit_company', 'number': 24},\n",
       " {'author': 'Dave Lee', 'publisher': 'bit_company', 'number': 25},\n",
       " {'author': 'Dave Lee', 'publisher': 'bit_company', 'number': 26},\n",
       " {'author': 'Dave Lee', 'publisher': 'bit_company', 'number': 27},\n",
       " {'author': 'Dave Lee', 'publisher': 'bit_company', 'number': 28},\n",
       " {'author': 'Dave Lee', 'publisher': 'bit_company', 'number': 29},\n",
       " {'author': 'Dave Lee', 'publisher': 'bit_company', 'number': 30},\n",
       " {'author': 'Dave Lee', 'publisher': 'bit_company', 'number': 31},\n",
       " {'author': 'Dave Lee', 'publisher': 'bit_company', 'number': 32},\n",
       " {'author': 'Dave Lee', 'publisher': 'bit_company', 'number': 33},\n",
       " {'author': 'Dave Lee', 'publisher': 'bit_company', 'number': 34},\n",
       " {'author': 'Dave Lee', 'publisher': 'bit_company', 'number': 35},\n",
       " {'author': 'Dave Lee', 'publisher': 'bit_company', 'number': 36},\n",
       " {'author': 'Dave Lee', 'publisher': 'bit_company', 'number': 37},\n",
       " {'author': 'Dave Lee', 'publisher': 'bit_company', 'number': 38},\n",
       " {'author': 'Dave Lee', 'publisher': 'bit_company', 'number': 39},\n",
       " {'author': 'Dave Lee', 'publisher': 'bit_company', 'number': 40},\n",
       " {'author': 'Dave Lee', 'publisher': 'bit_company', 'number': 41},\n",
       " {'author': 'Dave Lee', 'publisher': 'bit_company', 'number': 42},\n",
       " {'author': 'Dave Lee', 'publisher': 'bit_company', 'number': 43},\n",
       " {'author': 'Dave Lee', 'publisher': 'bit_company', 'number': 44},\n",
       " {'author': 'Dave Lee', 'publisher': 'bit_company', 'number': 45},\n",
       " {'author': 'Dave Lee', 'publisher': 'bit_company', 'number': 46},\n",
       " {'author': 'Dave Lee', 'publisher': 'bit_company', 'number': 47},\n",
       " {'author': 'Dave Lee', 'publisher': 'bit_company', 'number': 48},\n",
       " {'author': 'Dave Lee', 'publisher': 'bit_company', 'number': 49},\n",
       " {'author': 'Dave Lee', 'publisher': 'bit_company', 'number': 50},\n",
       " {'author': 'Dave Lee', 'publisher': 'bit_company', 'number': 51},\n",
       " {'author': 'Dave Lee', 'publisher': 'bit_company', 'number': 52},\n",
       " {'author': 'Dave Lee', 'publisher': 'bit_company', 'number': 53},\n",
       " {'author': 'Dave Lee', 'publisher': 'bit_company', 'number': 54},\n",
       " {'author': 'Dave Lee', 'publisher': 'bit_company', 'number': 55},\n",
       " {'author': 'Dave Lee', 'publisher': 'bit_company', 'number': 56},\n",
       " {'author': 'Dave Lee', 'publisher': 'bit_company', 'number': 57},\n",
       " {'author': 'Dave Lee', 'publisher': 'bit_company', 'number': 58},\n",
       " {'author': 'Dave Lee', 'publisher': 'bit_company', 'number': 59},\n",
       " {'author': 'Dave Lee', 'publisher': 'bit_company', 'number': 60},\n",
       " {'author': 'Dave Lee', 'publisher': 'bit_company', 'number': 61},\n",
       " {'author': 'Dave Lee', 'publisher': 'bit_company', 'number': 62},\n",
       " {'author': 'Dave Lee', 'publisher': 'bit_company', 'number': 63},\n",
       " {'author': 'Dave Lee', 'publisher': 'bit_company', 'number': 64},\n",
       " {'author': 'Dave Lee', 'publisher': 'bit_company', 'number': 65},\n",
       " {'author': 'Dave Lee', 'publisher': 'bit_company', 'number': 66},\n",
       " {'author': 'Dave Lee', 'publisher': 'bit_company', 'number': 67},\n",
       " {'author': 'Dave Lee', 'publisher': 'bit_company', 'number': 68},\n",
       " {'author': 'Dave Lee', 'publisher': 'bit_company', 'number': 69},\n",
       " {'author': 'Dave Lee', 'publisher': 'bit_company', 'number': 70},\n",
       " {'author': 'Dave Lee', 'publisher': 'bit_company', 'number': 71},\n",
       " {'author': 'Dave Lee', 'publisher': 'bit_company', 'number': 72},\n",
       " {'author': 'Dave Lee', 'publisher': 'bit_company', 'number': 73},\n",
       " {'author': 'Dave Lee', 'publisher': 'bit_company', 'number': 74},\n",
       " {'author': 'Dave Lee', 'publisher': 'bit_company', 'number': 75},\n",
       " {'author': 'Dave Lee', 'publisher': 'bit_company', 'number': 76},\n",
       " {'author': 'Dave Lee', 'publisher': 'bit_company', 'number': 77},\n",
       " {'author': 'Dave Lee', 'publisher': 'bit_company', 'number': 78},\n",
       " {'author': 'Dave Lee', 'publisher': 'bit_company', 'number': 79},\n",
       " {'author': 'Dave Lee', 'publisher': 'bit_company', 'number': 80},\n",
       " {'author': 'Dave Lee', 'publisher': 'bit_company', 'number': 81},\n",
       " {'author': 'Dave Lee', 'publisher': 'bit_company', 'number': 82},\n",
       " {'author': 'Dave Lee', 'publisher': 'bit_company', 'number': 83},\n",
       " {'author': 'Dave Lee', 'publisher': 'bit_company', 'number': 84},\n",
       " {'author': 'Dave Lee', 'publisher': 'bit_company', 'number': 85},\n",
       " {'author': 'Dave Lee', 'publisher': 'bit_company', 'number': 86},\n",
       " {'author': 'Dave Lee', 'publisher': 'bit_company', 'number': 87},\n",
       " {'author': 'Dave Lee', 'publisher': 'bit_company', 'number': 88},\n",
       " {'author': 'Dave Lee', 'publisher': 'bit_company', 'number': 89},\n",
       " {'author': 'Dave Lee', 'publisher': 'bit_company', 'number': 90},\n",
       " {'author': 'Dave Lee', 'publisher': 'bit_company', 'number': 91},\n",
       " {'author': 'Dave Lee', 'publisher': 'bit_company', 'number': 92},\n",
       " {'author': 'Dave Lee', 'publisher': 'bit_company', 'number': 93},\n",
       " {'author': 'Dave Lee', 'publisher': 'bit_company', 'number': 94},\n",
       " {'author': 'Dave Lee', 'publisher': 'bit_company', 'number': 95},\n",
       " {'author': 'Dave Lee', 'publisher': 'bit_company', 'number': 96},\n",
       " {'author': 'Dave Lee', 'publisher': 'bit_company', 'number': 97},\n",
       " {'author': 'Dave Lee', 'publisher': 'bit_company', 'number': 98},\n",
       " {'author': 'Dave Lee', 'publisher': 'bit_company', 'number': 99}]"
      ]
     },
     "execution_count": 123,
     "metadata": {},
     "output_type": "execute_result"
    }
   ],
   "source": [
    "data"
   ]
  },
  {
   "cell_type": "code",
   "execution_count": 124,
   "id": "ca01c3e8",
   "metadata": {},
   "outputs": [
    {
     "data": {
      "text/plain": [
       "<pymongo.results.InsertManyResult at 0x226d5d68900>"
      ]
     },
     "execution_count": 124,
     "metadata": {},
     "output_type": "execute_result"
    }
   ],
   "source": [
    "it_book.insert_many(data)"
   ]
  },
  {
   "cell_type": "code",
   "execution_count": 125,
   "id": "daf08625",
   "metadata": {
    "collapsed": true
   },
   "outputs": [
    {
     "name": "stdout",
     "output_type": "stream",
     "text": [
      "{'_id': ObjectId('620356dca2b361620b2953dc'), 'author': 'Dave Lee', 'publisher': 'bit_camp_pub', 'number': 0}\n",
      "{'_id': ObjectId('620356dca2b361620b2953dd'), 'author': 'Dave Lee', 'publisher': 'bit_camp_pub', 'number': 1}\n",
      "{'_id': ObjectId('620356dca2b361620b2953de'), 'author': 'Dave Lee', 'publisher': 'bit_camp_pub', 'number': 2}\n",
      "{'_id': ObjectId('620356dca2b361620b2953df'), 'author': 'Dave Lee', 'publisher': 'bit_camp_pub', 'number': 3}\n",
      "{'_id': ObjectId('620356dca2b361620b2953e0'), 'author': 'Dave Lee', 'publisher': 'bit_camp_pub', 'number': 4}\n",
      "{'_id': ObjectId('620356dca2b361620b2953e1'), 'author': 'Dave Lee', 'publisher': 'bit_camp_pub', 'number': 5}\n",
      "{'_id': ObjectId('62039270a2b361620b2954db'), 'author': 'Dave Lee', 'publisher': 'bit_company', 'number': 0}\n",
      "{'_id': ObjectId('62039270a2b361620b2954dc'), 'author': 'Dave Lee', 'publisher': 'bit_company', 'number': 1}\n",
      "{'_id': ObjectId('62039270a2b361620b2954dd'), 'author': 'Dave Lee', 'publisher': 'bit_company', 'number': 2}\n",
      "{'_id': ObjectId('62039270a2b361620b2954de'), 'author': 'Dave Lee', 'publisher': 'bit_company', 'number': 3}\n",
      "{'_id': ObjectId('62039270a2b361620b2954df'), 'author': 'Dave Lee', 'publisher': 'bit_company', 'number': 4}\n",
      "{'_id': ObjectId('62039270a2b361620b2954e0'), 'author': 'Dave Lee', 'publisher': 'bit_company', 'number': 5}\n",
      "{'_id': ObjectId('62039270a2b361620b2954e1'), 'author': 'Dave Lee', 'publisher': 'bit_company', 'number': 6}\n",
      "{'_id': ObjectId('62039270a2b361620b2954e2'), 'author': 'Dave Lee', 'publisher': 'bit_company', 'number': 7}\n",
      "{'_id': ObjectId('62039270a2b361620b2954e3'), 'author': 'Dave Lee', 'publisher': 'bit_company', 'number': 8}\n",
      "{'_id': ObjectId('62039270a2b361620b2954e4'), 'author': 'Dave Lee', 'publisher': 'bit_company', 'number': 9}\n",
      "{'_id': ObjectId('62039270a2b361620b2954e5'), 'author': 'Dave Lee', 'publisher': 'bit_company', 'number': 10}\n",
      "{'_id': ObjectId('62039270a2b361620b2954e6'), 'author': 'Dave Lee', 'publisher': 'bit_company', 'number': 11}\n",
      "{'_id': ObjectId('62039270a2b361620b2954e7'), 'author': 'Dave Lee', 'publisher': 'bit_company', 'number': 12}\n",
      "{'_id': ObjectId('62039270a2b361620b2954e8'), 'author': 'Dave Lee', 'publisher': 'bit_company', 'number': 13}\n",
      "{'_id': ObjectId('62039270a2b361620b2954e9'), 'author': 'Dave Lee', 'publisher': 'bit_company', 'number': 14}\n",
      "{'_id': ObjectId('62039270a2b361620b2954ea'), 'author': 'Dave Lee', 'publisher': 'bit_company', 'number': 15}\n",
      "{'_id': ObjectId('62039270a2b361620b2954eb'), 'author': 'Dave Lee', 'publisher': 'bit_company', 'number': 16}\n",
      "{'_id': ObjectId('62039270a2b361620b2954ec'), 'author': 'Dave Lee', 'publisher': 'bit_company', 'number': 17}\n",
      "{'_id': ObjectId('62039270a2b361620b2954ed'), 'author': 'Dave Lee', 'publisher': 'bit_company', 'number': 18}\n",
      "{'_id': ObjectId('62039270a2b361620b2954ee'), 'author': 'Dave Lee', 'publisher': 'bit_company', 'number': 19}\n",
      "{'_id': ObjectId('62039270a2b361620b2954ef'), 'author': 'Dave Lee', 'publisher': 'bit_company', 'number': 20}\n",
      "{'_id': ObjectId('62039270a2b361620b2954f0'), 'author': 'Dave Lee', 'publisher': 'bit_company', 'number': 21}\n",
      "{'_id': ObjectId('62039270a2b361620b2954f1'), 'author': 'Dave Lee', 'publisher': 'bit_company', 'number': 22}\n",
      "{'_id': ObjectId('62039270a2b361620b2954f2'), 'author': 'Dave Lee', 'publisher': 'bit_company', 'number': 23}\n",
      "{'_id': ObjectId('62039270a2b361620b2954f3'), 'author': 'Dave Lee', 'publisher': 'bit_company', 'number': 24}\n",
      "{'_id': ObjectId('62039270a2b361620b2954f4'), 'author': 'Dave Lee', 'publisher': 'bit_company', 'number': 25}\n",
      "{'_id': ObjectId('62039270a2b361620b2954f5'), 'author': 'Dave Lee', 'publisher': 'bit_company', 'number': 26}\n",
      "{'_id': ObjectId('62039270a2b361620b2954f6'), 'author': 'Dave Lee', 'publisher': 'bit_company', 'number': 27}\n",
      "{'_id': ObjectId('62039270a2b361620b2954f7'), 'author': 'Dave Lee', 'publisher': 'bit_company', 'number': 28}\n",
      "{'_id': ObjectId('62039270a2b361620b2954f8'), 'author': 'Dave Lee', 'publisher': 'bit_company', 'number': 29}\n",
      "{'_id': ObjectId('62039270a2b361620b2954f9'), 'author': 'Dave Lee', 'publisher': 'bit_company', 'number': 30}\n",
      "{'_id': ObjectId('62039270a2b361620b2954fa'), 'author': 'Dave Lee', 'publisher': 'bit_company', 'number': 31}\n",
      "{'_id': ObjectId('62039270a2b361620b2954fb'), 'author': 'Dave Lee', 'publisher': 'bit_company', 'number': 32}\n",
      "{'_id': ObjectId('62039270a2b361620b2954fc'), 'author': 'Dave Lee', 'publisher': 'bit_company', 'number': 33}\n",
      "{'_id': ObjectId('62039270a2b361620b2954fd'), 'author': 'Dave Lee', 'publisher': 'bit_company', 'number': 34}\n",
      "{'_id': ObjectId('62039270a2b361620b2954fe'), 'author': 'Dave Lee', 'publisher': 'bit_company', 'number': 35}\n",
      "{'_id': ObjectId('62039270a2b361620b2954ff'), 'author': 'Dave Lee', 'publisher': 'bit_company', 'number': 36}\n",
      "{'_id': ObjectId('62039270a2b361620b295500'), 'author': 'Dave Lee', 'publisher': 'bit_company', 'number': 37}\n",
      "{'_id': ObjectId('62039270a2b361620b295501'), 'author': 'Dave Lee', 'publisher': 'bit_company', 'number': 38}\n",
      "{'_id': ObjectId('62039270a2b361620b295502'), 'author': 'Dave Lee', 'publisher': 'bit_company', 'number': 39}\n",
      "{'_id': ObjectId('62039270a2b361620b295503'), 'author': 'Dave Lee', 'publisher': 'bit_company', 'number': 40}\n",
      "{'_id': ObjectId('62039270a2b361620b295504'), 'author': 'Dave Lee', 'publisher': 'bit_company', 'number': 41}\n",
      "{'_id': ObjectId('62039270a2b361620b295505'), 'author': 'Dave Lee', 'publisher': 'bit_company', 'number': 42}\n",
      "{'_id': ObjectId('62039270a2b361620b295506'), 'author': 'Dave Lee', 'publisher': 'bit_company', 'number': 43}\n",
      "{'_id': ObjectId('62039270a2b361620b295507'), 'author': 'Dave Lee', 'publisher': 'bit_company', 'number': 44}\n",
      "{'_id': ObjectId('62039270a2b361620b295508'), 'author': 'Dave Lee', 'publisher': 'bit_company', 'number': 45}\n",
      "{'_id': ObjectId('62039270a2b361620b295509'), 'author': 'Dave Lee', 'publisher': 'bit_company', 'number': 46}\n",
      "{'_id': ObjectId('62039270a2b361620b29550a'), 'author': 'Dave Lee', 'publisher': 'bit_company', 'number': 47}\n",
      "{'_id': ObjectId('62039270a2b361620b29550b'), 'author': 'Dave Lee', 'publisher': 'bit_company', 'number': 48}\n",
      "{'_id': ObjectId('62039270a2b361620b29550c'), 'author': 'Dave Lee', 'publisher': 'bit_company', 'number': 49}\n",
      "{'_id': ObjectId('62039270a2b361620b29550d'), 'author': 'Dave Lee', 'publisher': 'bit_company', 'number': 50}\n",
      "{'_id': ObjectId('62039270a2b361620b29550e'), 'author': 'Dave Lee', 'publisher': 'bit_company', 'number': 51}\n",
      "{'_id': ObjectId('62039270a2b361620b29550f'), 'author': 'Dave Lee', 'publisher': 'bit_company', 'number': 52}\n",
      "{'_id': ObjectId('62039270a2b361620b295510'), 'author': 'Dave Lee', 'publisher': 'bit_company', 'number': 53}\n",
      "{'_id': ObjectId('62039270a2b361620b295511'), 'author': 'Dave Lee', 'publisher': 'bit_company', 'number': 54}\n",
      "{'_id': ObjectId('62039270a2b361620b295512'), 'author': 'Dave Lee', 'publisher': 'bit_company', 'number': 55}\n",
      "{'_id': ObjectId('62039270a2b361620b295513'), 'author': 'Dave Lee', 'publisher': 'bit_company', 'number': 56}\n",
      "{'_id': ObjectId('62039270a2b361620b295514'), 'author': 'Dave Lee', 'publisher': 'bit_company', 'number': 57}\n",
      "{'_id': ObjectId('62039270a2b361620b295515'), 'author': 'Dave Lee', 'publisher': 'bit_company', 'number': 58}\n",
      "{'_id': ObjectId('62039270a2b361620b295516'), 'author': 'Dave Lee', 'publisher': 'bit_company', 'number': 59}\n",
      "{'_id': ObjectId('62039270a2b361620b295517'), 'author': 'Dave Lee', 'publisher': 'bit_company', 'number': 60}\n",
      "{'_id': ObjectId('62039270a2b361620b295518'), 'author': 'Dave Lee', 'publisher': 'bit_company', 'number': 61}\n",
      "{'_id': ObjectId('62039270a2b361620b295519'), 'author': 'Dave Lee', 'publisher': 'bit_company', 'number': 62}\n",
      "{'_id': ObjectId('62039270a2b361620b29551a'), 'author': 'Dave Lee', 'publisher': 'bit_company', 'number': 63}\n",
      "{'_id': ObjectId('62039270a2b361620b29551b'), 'author': 'Dave Lee', 'publisher': 'bit_company', 'number': 64}\n",
      "{'_id': ObjectId('62039270a2b361620b29551c'), 'author': 'Dave Lee', 'publisher': 'bit_company', 'number': 65}\n",
      "{'_id': ObjectId('62039270a2b361620b29551d'), 'author': 'Dave Lee', 'publisher': 'bit_company', 'number': 66}\n",
      "{'_id': ObjectId('62039270a2b361620b29551e'), 'author': 'Dave Lee', 'publisher': 'bit_company', 'number': 67}\n",
      "{'_id': ObjectId('62039270a2b361620b29551f'), 'author': 'Dave Lee', 'publisher': 'bit_company', 'number': 68}\n",
      "{'_id': ObjectId('62039270a2b361620b295520'), 'author': 'Dave Lee', 'publisher': 'bit_company', 'number': 69}\n",
      "{'_id': ObjectId('62039270a2b361620b295521'), 'author': 'Dave Lee', 'publisher': 'bit_company', 'number': 70}\n",
      "{'_id': ObjectId('62039270a2b361620b295522'), 'author': 'Dave Lee', 'publisher': 'bit_company', 'number': 71}\n",
      "{'_id': ObjectId('62039270a2b361620b295523'), 'author': 'Dave Lee', 'publisher': 'bit_company', 'number': 72}\n",
      "{'_id': ObjectId('62039270a2b361620b295524'), 'author': 'Dave Lee', 'publisher': 'bit_company', 'number': 73}\n",
      "{'_id': ObjectId('62039270a2b361620b295525'), 'author': 'Dave Lee', 'publisher': 'bit_company', 'number': 74}\n",
      "{'_id': ObjectId('62039270a2b361620b295526'), 'author': 'Dave Lee', 'publisher': 'bit_company', 'number': 75}\n",
      "{'_id': ObjectId('62039270a2b361620b295527'), 'author': 'Dave Lee', 'publisher': 'bit_company', 'number': 76}\n",
      "{'_id': ObjectId('62039270a2b361620b295528'), 'author': 'Dave Lee', 'publisher': 'bit_company', 'number': 77}\n",
      "{'_id': ObjectId('62039270a2b361620b295529'), 'author': 'Dave Lee', 'publisher': 'bit_company', 'number': 78}\n",
      "{'_id': ObjectId('62039270a2b361620b29552a'), 'author': 'Dave Lee', 'publisher': 'bit_company', 'number': 79}\n",
      "{'_id': ObjectId('62039270a2b361620b29552b'), 'author': 'Dave Lee', 'publisher': 'bit_company', 'number': 80}\n",
      "{'_id': ObjectId('62039270a2b361620b29552c'), 'author': 'Dave Lee', 'publisher': 'bit_company', 'number': 81}\n",
      "{'_id': ObjectId('62039270a2b361620b29552d'), 'author': 'Dave Lee', 'publisher': 'bit_company', 'number': 82}\n",
      "{'_id': ObjectId('62039270a2b361620b29552e'), 'author': 'Dave Lee', 'publisher': 'bit_company', 'number': 83}\n",
      "{'_id': ObjectId('62039270a2b361620b29552f'), 'author': 'Dave Lee', 'publisher': 'bit_company', 'number': 84}\n",
      "{'_id': ObjectId('62039270a2b361620b295530'), 'author': 'Dave Lee', 'publisher': 'bit_company', 'number': 85}\n",
      "{'_id': ObjectId('62039270a2b361620b295531'), 'author': 'Dave Lee', 'publisher': 'bit_company', 'number': 86}\n",
      "{'_id': ObjectId('62039270a2b361620b295532'), 'author': 'Dave Lee', 'publisher': 'bit_company', 'number': 87}\n",
      "{'_id': ObjectId('62039270a2b361620b295533'), 'author': 'Dave Lee', 'publisher': 'bit_company', 'number': 88}\n",
      "{'_id': ObjectId('62039270a2b361620b295534'), 'author': 'Dave Lee', 'publisher': 'bit_company', 'number': 89}\n",
      "{'_id': ObjectId('62039270a2b361620b295535'), 'author': 'Dave Lee', 'publisher': 'bit_company', 'number': 90}\n",
      "{'_id': ObjectId('62039270a2b361620b295536'), 'author': 'Dave Lee', 'publisher': 'bit_company', 'number': 91}\n",
      "{'_id': ObjectId('62039270a2b361620b295537'), 'author': 'Dave Lee', 'publisher': 'bit_company', 'number': 92}\n",
      "{'_id': ObjectId('62039270a2b361620b295538'), 'author': 'Dave Lee', 'publisher': 'bit_company', 'number': 93}\n",
      "{'_id': ObjectId('62039270a2b361620b295539'), 'author': 'Dave Lee', 'publisher': 'bit_company', 'number': 94}\n",
      "{'_id': ObjectId('62039270a2b361620b29553a'), 'author': 'Dave Lee', 'publisher': 'bit_company', 'number': 95}\n",
      "{'_id': ObjectId('62039270a2b361620b29553b'), 'author': 'Dave Lee', 'publisher': 'bit_company', 'number': 96}\n",
      "{'_id': ObjectId('62039270a2b361620b29553c'), 'author': 'Dave Lee', 'publisher': 'bit_company', 'number': 97}\n",
      "{'_id': ObjectId('62039270a2b361620b29553d'), 'author': 'Dave Lee', 'publisher': 'bit_company', 'number': 98}\n",
      "{'_id': ObjectId('62039270a2b361620b29553e'), 'author': 'Dave Lee', 'publisher': 'bit_company', 'number': 99}\n"
     ]
    }
   ],
   "source": [
    "docs = it_book.find()\n",
    "for doc in docs:\n",
    "    print(doc)"
   ]
  },
  {
   "cell_type": "code",
   "execution_count": null,
   "id": "ec04f779",
   "metadata": {},
   "outputs": [],
   "source": []
  },
  {
   "cell_type": "code",
   "execution_count": 126,
   "id": "84f655da",
   "metadata": {},
   "outputs": [
    {
     "data": {
      "text/plain": [
       "<pymongo.results.UpdateResult at 0x226db42f140>"
      ]
     },
     "execution_count": 126,
     "metadata": {},
     "output_type": "execute_result"
    }
   ],
   "source": [
    "it_book.update_many({}, {'$set': {'publisher':'bit_camp_pub'}})"
   ]
  },
  {
   "cell_type": "code",
   "execution_count": 127,
   "id": "c88839c1",
   "metadata": {},
   "outputs": [
    {
     "name": "stdout",
     "output_type": "stream",
     "text": [
      "{'_id': ObjectId('620356dca2b361620b2953dc'), 'author': 'Dave Lee', 'publisher': 'bit_camp_pub', 'number': 0}\n",
      "{'_id': ObjectId('620356dca2b361620b2953dd'), 'author': 'Dave Lee', 'publisher': 'bit_camp_pub', 'number': 1}\n",
      "{'_id': ObjectId('620356dca2b361620b2953de'), 'author': 'Dave Lee', 'publisher': 'bit_camp_pub', 'number': 2}\n",
      "{'_id': ObjectId('620356dca2b361620b2953df'), 'author': 'Dave Lee', 'publisher': 'bit_camp_pub', 'number': 3}\n",
      "{'_id': ObjectId('620356dca2b361620b2953e0'), 'author': 'Dave Lee', 'publisher': 'bit_camp_pub', 'number': 4}\n",
      "{'_id': ObjectId('620356dca2b361620b2953e1'), 'author': 'Dave Lee', 'publisher': 'bit_camp_pub', 'number': 5}\n",
      "{'_id': ObjectId('62039270a2b361620b2954db'), 'author': 'Dave Lee', 'publisher': 'bit_camp_pub', 'number': 0}\n",
      "{'_id': ObjectId('62039270a2b361620b2954dc'), 'author': 'Dave Lee', 'publisher': 'bit_camp_pub', 'number': 1}\n",
      "{'_id': ObjectId('62039270a2b361620b2954dd'), 'author': 'Dave Lee', 'publisher': 'bit_camp_pub', 'number': 2}\n",
      "{'_id': ObjectId('62039270a2b361620b2954de'), 'author': 'Dave Lee', 'publisher': 'bit_camp_pub', 'number': 3}\n",
      "{'_id': ObjectId('62039270a2b361620b2954df'), 'author': 'Dave Lee', 'publisher': 'bit_camp_pub', 'number': 4}\n",
      "{'_id': ObjectId('62039270a2b361620b2954e0'), 'author': 'Dave Lee', 'publisher': 'bit_camp_pub', 'number': 5}\n",
      "{'_id': ObjectId('62039270a2b361620b2954e1'), 'author': 'Dave Lee', 'publisher': 'bit_camp_pub', 'number': 6}\n",
      "{'_id': ObjectId('62039270a2b361620b2954e2'), 'author': 'Dave Lee', 'publisher': 'bit_camp_pub', 'number': 7}\n",
      "{'_id': ObjectId('62039270a2b361620b2954e3'), 'author': 'Dave Lee', 'publisher': 'bit_camp_pub', 'number': 8}\n",
      "{'_id': ObjectId('62039270a2b361620b2954e4'), 'author': 'Dave Lee', 'publisher': 'bit_camp_pub', 'number': 9}\n",
      "{'_id': ObjectId('62039270a2b361620b2954e5'), 'author': 'Dave Lee', 'publisher': 'bit_camp_pub', 'number': 10}\n",
      "{'_id': ObjectId('62039270a2b361620b2954e6'), 'author': 'Dave Lee', 'publisher': 'bit_camp_pub', 'number': 11}\n",
      "{'_id': ObjectId('62039270a2b361620b2954e7'), 'author': 'Dave Lee', 'publisher': 'bit_camp_pub', 'number': 12}\n",
      "{'_id': ObjectId('62039270a2b361620b2954e8'), 'author': 'Dave Lee', 'publisher': 'bit_camp_pub', 'number': 13}\n",
      "{'_id': ObjectId('62039270a2b361620b2954e9'), 'author': 'Dave Lee', 'publisher': 'bit_camp_pub', 'number': 14}\n",
      "{'_id': ObjectId('62039270a2b361620b2954ea'), 'author': 'Dave Lee', 'publisher': 'bit_camp_pub', 'number': 15}\n",
      "{'_id': ObjectId('62039270a2b361620b2954eb'), 'author': 'Dave Lee', 'publisher': 'bit_camp_pub', 'number': 16}\n",
      "{'_id': ObjectId('62039270a2b361620b2954ec'), 'author': 'Dave Lee', 'publisher': 'bit_camp_pub', 'number': 17}\n",
      "{'_id': ObjectId('62039270a2b361620b2954ed'), 'author': 'Dave Lee', 'publisher': 'bit_camp_pub', 'number': 18}\n",
      "{'_id': ObjectId('62039270a2b361620b2954ee'), 'author': 'Dave Lee', 'publisher': 'bit_camp_pub', 'number': 19}\n",
      "{'_id': ObjectId('62039270a2b361620b2954ef'), 'author': 'Dave Lee', 'publisher': 'bit_camp_pub', 'number': 20}\n",
      "{'_id': ObjectId('62039270a2b361620b2954f0'), 'author': 'Dave Lee', 'publisher': 'bit_camp_pub', 'number': 21}\n",
      "{'_id': ObjectId('62039270a2b361620b2954f1'), 'author': 'Dave Lee', 'publisher': 'bit_camp_pub', 'number': 22}\n",
      "{'_id': ObjectId('62039270a2b361620b2954f2'), 'author': 'Dave Lee', 'publisher': 'bit_camp_pub', 'number': 23}\n",
      "{'_id': ObjectId('62039270a2b361620b2954f3'), 'author': 'Dave Lee', 'publisher': 'bit_camp_pub', 'number': 24}\n",
      "{'_id': ObjectId('62039270a2b361620b2954f4'), 'author': 'Dave Lee', 'publisher': 'bit_camp_pub', 'number': 25}\n",
      "{'_id': ObjectId('62039270a2b361620b2954f5'), 'author': 'Dave Lee', 'publisher': 'bit_camp_pub', 'number': 26}\n",
      "{'_id': ObjectId('62039270a2b361620b2954f6'), 'author': 'Dave Lee', 'publisher': 'bit_camp_pub', 'number': 27}\n",
      "{'_id': ObjectId('62039270a2b361620b2954f7'), 'author': 'Dave Lee', 'publisher': 'bit_camp_pub', 'number': 28}\n",
      "{'_id': ObjectId('62039270a2b361620b2954f8'), 'author': 'Dave Lee', 'publisher': 'bit_camp_pub', 'number': 29}\n",
      "{'_id': ObjectId('62039270a2b361620b2954f9'), 'author': 'Dave Lee', 'publisher': 'bit_camp_pub', 'number': 30}\n",
      "{'_id': ObjectId('62039270a2b361620b2954fa'), 'author': 'Dave Lee', 'publisher': 'bit_camp_pub', 'number': 31}\n",
      "{'_id': ObjectId('62039270a2b361620b2954fb'), 'author': 'Dave Lee', 'publisher': 'bit_camp_pub', 'number': 32}\n",
      "{'_id': ObjectId('62039270a2b361620b2954fc'), 'author': 'Dave Lee', 'publisher': 'bit_camp_pub', 'number': 33}\n",
      "{'_id': ObjectId('62039270a2b361620b2954fd'), 'author': 'Dave Lee', 'publisher': 'bit_camp_pub', 'number': 34}\n",
      "{'_id': ObjectId('62039270a2b361620b2954fe'), 'author': 'Dave Lee', 'publisher': 'bit_camp_pub', 'number': 35}\n",
      "{'_id': ObjectId('62039270a2b361620b2954ff'), 'author': 'Dave Lee', 'publisher': 'bit_camp_pub', 'number': 36}\n",
      "{'_id': ObjectId('62039270a2b361620b295500'), 'author': 'Dave Lee', 'publisher': 'bit_camp_pub', 'number': 37}\n",
      "{'_id': ObjectId('62039270a2b361620b295501'), 'author': 'Dave Lee', 'publisher': 'bit_camp_pub', 'number': 38}\n",
      "{'_id': ObjectId('62039270a2b361620b295502'), 'author': 'Dave Lee', 'publisher': 'bit_camp_pub', 'number': 39}\n",
      "{'_id': ObjectId('62039270a2b361620b295503'), 'author': 'Dave Lee', 'publisher': 'bit_camp_pub', 'number': 40}\n",
      "{'_id': ObjectId('62039270a2b361620b295504'), 'author': 'Dave Lee', 'publisher': 'bit_camp_pub', 'number': 41}\n",
      "{'_id': ObjectId('62039270a2b361620b295505'), 'author': 'Dave Lee', 'publisher': 'bit_camp_pub', 'number': 42}\n",
      "{'_id': ObjectId('62039270a2b361620b295506'), 'author': 'Dave Lee', 'publisher': 'bit_camp_pub', 'number': 43}\n",
      "{'_id': ObjectId('62039270a2b361620b295507'), 'author': 'Dave Lee', 'publisher': 'bit_camp_pub', 'number': 44}\n",
      "{'_id': ObjectId('62039270a2b361620b295508'), 'author': 'Dave Lee', 'publisher': 'bit_camp_pub', 'number': 45}\n",
      "{'_id': ObjectId('62039270a2b361620b295509'), 'author': 'Dave Lee', 'publisher': 'bit_camp_pub', 'number': 46}\n",
      "{'_id': ObjectId('62039270a2b361620b29550a'), 'author': 'Dave Lee', 'publisher': 'bit_camp_pub', 'number': 47}\n",
      "{'_id': ObjectId('62039270a2b361620b29550b'), 'author': 'Dave Lee', 'publisher': 'bit_camp_pub', 'number': 48}\n",
      "{'_id': ObjectId('62039270a2b361620b29550c'), 'author': 'Dave Lee', 'publisher': 'bit_camp_pub', 'number': 49}\n",
      "{'_id': ObjectId('62039270a2b361620b29550d'), 'author': 'Dave Lee', 'publisher': 'bit_camp_pub', 'number': 50}\n",
      "{'_id': ObjectId('62039270a2b361620b29550e'), 'author': 'Dave Lee', 'publisher': 'bit_camp_pub', 'number': 51}\n",
      "{'_id': ObjectId('62039270a2b361620b29550f'), 'author': 'Dave Lee', 'publisher': 'bit_camp_pub', 'number': 52}\n",
      "{'_id': ObjectId('62039270a2b361620b295510'), 'author': 'Dave Lee', 'publisher': 'bit_camp_pub', 'number': 53}\n",
      "{'_id': ObjectId('62039270a2b361620b295511'), 'author': 'Dave Lee', 'publisher': 'bit_camp_pub', 'number': 54}\n",
      "{'_id': ObjectId('62039270a2b361620b295512'), 'author': 'Dave Lee', 'publisher': 'bit_camp_pub', 'number': 55}\n",
      "{'_id': ObjectId('62039270a2b361620b295513'), 'author': 'Dave Lee', 'publisher': 'bit_camp_pub', 'number': 56}\n",
      "{'_id': ObjectId('62039270a2b361620b295514'), 'author': 'Dave Lee', 'publisher': 'bit_camp_pub', 'number': 57}\n",
      "{'_id': ObjectId('62039270a2b361620b295515'), 'author': 'Dave Lee', 'publisher': 'bit_camp_pub', 'number': 58}\n",
      "{'_id': ObjectId('62039270a2b361620b295516'), 'author': 'Dave Lee', 'publisher': 'bit_camp_pub', 'number': 59}\n",
      "{'_id': ObjectId('62039270a2b361620b295517'), 'author': 'Dave Lee', 'publisher': 'bit_camp_pub', 'number': 60}\n",
      "{'_id': ObjectId('62039270a2b361620b295518'), 'author': 'Dave Lee', 'publisher': 'bit_camp_pub', 'number': 61}\n",
      "{'_id': ObjectId('62039270a2b361620b295519'), 'author': 'Dave Lee', 'publisher': 'bit_camp_pub', 'number': 62}\n",
      "{'_id': ObjectId('62039270a2b361620b29551a'), 'author': 'Dave Lee', 'publisher': 'bit_camp_pub', 'number': 63}\n",
      "{'_id': ObjectId('62039270a2b361620b29551b'), 'author': 'Dave Lee', 'publisher': 'bit_camp_pub', 'number': 64}\n",
      "{'_id': ObjectId('62039270a2b361620b29551c'), 'author': 'Dave Lee', 'publisher': 'bit_camp_pub', 'number': 65}\n",
      "{'_id': ObjectId('62039270a2b361620b29551d'), 'author': 'Dave Lee', 'publisher': 'bit_camp_pub', 'number': 66}\n",
      "{'_id': ObjectId('62039270a2b361620b29551e'), 'author': 'Dave Lee', 'publisher': 'bit_camp_pub', 'number': 67}\n",
      "{'_id': ObjectId('62039270a2b361620b29551f'), 'author': 'Dave Lee', 'publisher': 'bit_camp_pub', 'number': 68}\n",
      "{'_id': ObjectId('62039270a2b361620b295520'), 'author': 'Dave Lee', 'publisher': 'bit_camp_pub', 'number': 69}\n",
      "{'_id': ObjectId('62039270a2b361620b295521'), 'author': 'Dave Lee', 'publisher': 'bit_camp_pub', 'number': 70}\n",
      "{'_id': ObjectId('62039270a2b361620b295522'), 'author': 'Dave Lee', 'publisher': 'bit_camp_pub', 'number': 71}\n",
      "{'_id': ObjectId('62039270a2b361620b295523'), 'author': 'Dave Lee', 'publisher': 'bit_camp_pub', 'number': 72}\n",
      "{'_id': ObjectId('62039270a2b361620b295524'), 'author': 'Dave Lee', 'publisher': 'bit_camp_pub', 'number': 73}\n",
      "{'_id': ObjectId('62039270a2b361620b295525'), 'author': 'Dave Lee', 'publisher': 'bit_camp_pub', 'number': 74}\n",
      "{'_id': ObjectId('62039270a2b361620b295526'), 'author': 'Dave Lee', 'publisher': 'bit_camp_pub', 'number': 75}\n",
      "{'_id': ObjectId('62039270a2b361620b295527'), 'author': 'Dave Lee', 'publisher': 'bit_camp_pub', 'number': 76}\n",
      "{'_id': ObjectId('62039270a2b361620b295528'), 'author': 'Dave Lee', 'publisher': 'bit_camp_pub', 'number': 77}\n",
      "{'_id': ObjectId('62039270a2b361620b295529'), 'author': 'Dave Lee', 'publisher': 'bit_camp_pub', 'number': 78}\n",
      "{'_id': ObjectId('62039270a2b361620b29552a'), 'author': 'Dave Lee', 'publisher': 'bit_camp_pub', 'number': 79}\n",
      "{'_id': ObjectId('62039270a2b361620b29552b'), 'author': 'Dave Lee', 'publisher': 'bit_camp_pub', 'number': 80}\n",
      "{'_id': ObjectId('62039270a2b361620b29552c'), 'author': 'Dave Lee', 'publisher': 'bit_camp_pub', 'number': 81}\n",
      "{'_id': ObjectId('62039270a2b361620b29552d'), 'author': 'Dave Lee', 'publisher': 'bit_camp_pub', 'number': 82}\n",
      "{'_id': ObjectId('62039270a2b361620b29552e'), 'author': 'Dave Lee', 'publisher': 'bit_camp_pub', 'number': 83}\n",
      "{'_id': ObjectId('62039270a2b361620b29552f'), 'author': 'Dave Lee', 'publisher': 'bit_camp_pub', 'number': 84}\n",
      "{'_id': ObjectId('62039270a2b361620b295530'), 'author': 'Dave Lee', 'publisher': 'bit_camp_pub', 'number': 85}\n",
      "{'_id': ObjectId('62039270a2b361620b295531'), 'author': 'Dave Lee', 'publisher': 'bit_camp_pub', 'number': 86}\n",
      "{'_id': ObjectId('62039270a2b361620b295532'), 'author': 'Dave Lee', 'publisher': 'bit_camp_pub', 'number': 87}\n",
      "{'_id': ObjectId('62039270a2b361620b295533'), 'author': 'Dave Lee', 'publisher': 'bit_camp_pub', 'number': 88}\n",
      "{'_id': ObjectId('62039270a2b361620b295534'), 'author': 'Dave Lee', 'publisher': 'bit_camp_pub', 'number': 89}\n",
      "{'_id': ObjectId('62039270a2b361620b295535'), 'author': 'Dave Lee', 'publisher': 'bit_camp_pub', 'number': 90}\n",
      "{'_id': ObjectId('62039270a2b361620b295536'), 'author': 'Dave Lee', 'publisher': 'bit_camp_pub', 'number': 91}\n",
      "{'_id': ObjectId('62039270a2b361620b295537'), 'author': 'Dave Lee', 'publisher': 'bit_camp_pub', 'number': 92}\n",
      "{'_id': ObjectId('62039270a2b361620b295538'), 'author': 'Dave Lee', 'publisher': 'bit_camp_pub', 'number': 93}\n",
      "{'_id': ObjectId('62039270a2b361620b295539'), 'author': 'Dave Lee', 'publisher': 'bit_camp_pub', 'number': 94}\n",
      "{'_id': ObjectId('62039270a2b361620b29553a'), 'author': 'Dave Lee', 'publisher': 'bit_camp_pub', 'number': 95}\n",
      "{'_id': ObjectId('62039270a2b361620b29553b'), 'author': 'Dave Lee', 'publisher': 'bit_camp_pub', 'number': 96}\n",
      "{'_id': ObjectId('62039270a2b361620b29553c'), 'author': 'Dave Lee', 'publisher': 'bit_camp_pub', 'number': 97}\n",
      "{'_id': ObjectId('62039270a2b361620b29553d'), 'author': 'Dave Lee', 'publisher': 'bit_camp_pub', 'number': 98}\n",
      "{'_id': ObjectId('62039270a2b361620b29553e'), 'author': 'Dave Lee', 'publisher': 'bit_camp_pub', 'number': 99}\n"
     ]
    }
   ],
   "source": [
    "docs = it_book.find()\n",
    "for doc in docs:\n",
    "    print(doc)"
   ]
  },
  {
   "cell_type": "code",
   "execution_count": 128,
   "id": "10f5cefd",
   "metadata": {},
   "outputs": [
    {
     "data": {
      "text/plain": [
       "<pymongo.results.DeleteResult at 0x226db7a5940>"
      ]
     },
     "execution_count": 128,
     "metadata": {},
     "output_type": "execute_result"
    }
   ],
   "source": [
    "it_book.delete_many({'number':{'$gte':6}})         # 6보다 크거나 같은거 삭제"
   ]
  },
  {
   "cell_type": "code",
   "execution_count": 129,
   "id": "6aba0299",
   "metadata": {},
   "outputs": [
    {
     "name": "stdout",
     "output_type": "stream",
     "text": [
      "{'_id': ObjectId('620356dca2b361620b2953dc'), 'author': 'Dave Lee', 'publisher': 'bit_camp_pub', 'number': 0}\n",
      "{'_id': ObjectId('620356dca2b361620b2953dd'), 'author': 'Dave Lee', 'publisher': 'bit_camp_pub', 'number': 1}\n",
      "{'_id': ObjectId('620356dca2b361620b2953de'), 'author': 'Dave Lee', 'publisher': 'bit_camp_pub', 'number': 2}\n",
      "{'_id': ObjectId('620356dca2b361620b2953df'), 'author': 'Dave Lee', 'publisher': 'bit_camp_pub', 'number': 3}\n",
      "{'_id': ObjectId('620356dca2b361620b2953e0'), 'author': 'Dave Lee', 'publisher': 'bit_camp_pub', 'number': 4}\n",
      "{'_id': ObjectId('620356dca2b361620b2953e1'), 'author': 'Dave Lee', 'publisher': 'bit_camp_pub', 'number': 5}\n",
      "{'_id': ObjectId('62039270a2b361620b2954db'), 'author': 'Dave Lee', 'publisher': 'bit_camp_pub', 'number': 0}\n",
      "{'_id': ObjectId('62039270a2b361620b2954dc'), 'author': 'Dave Lee', 'publisher': 'bit_camp_pub', 'number': 1}\n",
      "{'_id': ObjectId('62039270a2b361620b2954dd'), 'author': 'Dave Lee', 'publisher': 'bit_camp_pub', 'number': 2}\n",
      "{'_id': ObjectId('62039270a2b361620b2954de'), 'author': 'Dave Lee', 'publisher': 'bit_camp_pub', 'number': 3}\n",
      "{'_id': ObjectId('62039270a2b361620b2954df'), 'author': 'Dave Lee', 'publisher': 'bit_camp_pub', 'number': 4}\n",
      "{'_id': ObjectId('62039270a2b361620b2954e0'), 'author': 'Dave Lee', 'publisher': 'bit_camp_pub', 'number': 5}\n"
     ]
    }
   ],
   "source": [
    "docs = it_book.find()\n",
    "for doc in docs:\n",
    "    print(doc)"
   ]
  },
  {
   "cell_type": "code",
   "execution_count": null,
   "id": "6e2e8cad",
   "metadata": {},
   "outputs": [],
   "source": []
  },
  {
   "cell_type": "code",
   "execution_count": null,
   "id": "f0e7513b",
   "metadata": {},
   "outputs": [],
   "source": [
    "# crawling cine21"
   ]
  },
  {
   "cell_type": "code",
   "execution_count": 43,
   "id": "0ab405c6",
   "metadata": {},
   "outputs": [],
   "source": [
    "import pandas as pd\n",
    "import numpy as np\n",
    "import matplotlib.pyplot as plt\n",
    "import seaborn as sns\n",
    "import warnings\n",
    "warnings.filterwarnings(action='ignore') \n",
    "\n",
    "import matplotlib as mpl\n",
    "import matplotlib.font_manager as fm\n",
    "\n",
    "mpl.rcParams['axes.unicode_minus'] = False\n",
    "\n",
    "path = 'C:/Windows/Fonts/malgun.ttf'\n",
    "font_name = fm.FontProperties(fname=path, size=50).get_name()\n",
    "plt.rc('font', family=font_name)\n",
    "\n",
    "import requests\n",
    "from bs4 import BeautifulSoup\n",
    "from selenium import webdriver\n",
    "\n",
    "import MySQLdb"
   ]
  },
  {
   "cell_type": "code",
   "execution_count": 130,
   "id": "c34390b1",
   "metadata": {},
   "outputs": [],
   "source": [
    "import re"
   ]
  },
  {
   "cell_type": "code",
   "execution_count": 77,
   "id": "d471c7d9",
   "metadata": {},
   "outputs": [],
   "source": [
    "url = 'http://www.cine21.com/rank/person'"
   ]
  },
  {
   "cell_type": "code",
   "execution_count": 78,
   "id": "70d70c92",
   "metadata": {},
   "outputs": [],
   "source": [
    "month = '2022-01'\n",
    "\n",
    "data_a = {'section': 'actor',\n",
    "    'period_start': month,\n",
    "    'gender':'all',\n",
    "    'page': 1}"
   ]
  },
  {
   "cell_type": "code",
   "execution_count": 79,
   "id": "44831169",
   "metadata": {
    "collapsed": true
   },
   "outputs": [
    {
     "data": {
      "text/plain": [
       "<!DOCTYPE html PUBLIC \"-//W3C//DTD XHTML 1.0 Transitional//EN\" \"http://www.w3.org/TR/xhtml1/DTD/xhtml1-transitional.dtd\">\n",
       "\n",
       "<html xmlns=\"http://www.w3.org/1999/xhtml\">\n",
       "<head>\n",
       "<meta content=\"1641311652800771\" property=\"fb:pages\"/>\n",
       "<meta content=\"vTM0gmeRzJwn1MIM1LMSp3cxP_SaBzch1ziRY255RHw\" name=\"google-site-verification\"/>\n",
       "<meta content=\"5yOe6b_e_3rr7vNDwgXJw_8wLZQGx4lJ_V48KNPrqkA\" name=\"google-site-verification\"/>\n",
       "<meta content=\"20defde86fc4464f2693891567a98905bd0a60d1\" name=\"naver-site-verification\"/>\n",
       "<meta content=\"dmds9ks357rhqvdnk\" name=\"dailymotion-domain-verification\"/>\n",
       "<meta content=\"text/html; charset=utf-8\" http-equiv=\"Content-Type\"/>\n",
       "<meta content=\"IE=edge\" http-equiv=\"X-UA-Compatible\"/>\n",
       "<title>씨네21</title>\n",
       "<link href=\"/inc/www/css/default1.css\" media=\"all\" rel=\"stylesheet\" type=\"text/css\"/>\n",
       "<link href=\"/inc/www/css/content1.css\" media=\"all\" rel=\"stylesheet\" type=\"text/css\"/>\n",
       "<script src=\"https://ajax.googleapis.com/ajax/libs/jquery/1.12.0/jquery.min.js\"></script>\n",
       "<meta content=\"씨네21, 영화, 전문가 평점 , 최신 영화 정보, 영화추천, 시사회, 영화제, 박스오피스, 개봉예정작, movie, 한국영화, 예매, 예스24, 잡지, 영화배우, 감독, 매거진, 리뷰, 별점, 이동진, 김혜리, 박평식, 영화순위\" name=\"keywords\"/>\n",
       "<meta content=\"159893937406354\" property=\"fb:pages\">\n",
       "<script src=\"//static.criteo.net/js/ld/publishertag.js\" type=\"text/javascript\"></script>\n",
       "<meta content=\"대한민국 최고 영화전문매체 씨네21은 최신영화 정보, 전문가 평점, 박스오피스 영화, 시사회 이벤트 정보 등 최다 영화 관련 기사와 정보를 제공합니다.\" property=\"description\">\n",
       "<meta content=\"website\" property=\"og:type\"/>\n",
       "<meta content=\"씨네21\" property=\"og:title\"/>\n",
       "<meta content=\"대한민국 최고 영화전문매체\" property=\"og:description\"/>\n",
       "<meta content=\"http://image.cine21.com/www1/common/cine21_logoicon.jpg\" property=\"og:image\"/>\n",
       "<meta content=\"http://www.cine21.com/rank/person\" property=\"og:url\"/>\n",
       "<link href=\"/inc/ext/jqueryui/jquery-ui.css\" rel=\"stylesheet\"/>\n",
       "<script src=\"/inc/ext/jqueryui/jquery-ui.js\" type=\"text/javascript\"></script>\n",
       "<script src=\"/inc/ext/placeholder/jquery.placeholder.js\"></script>\n",
       "<script src=\"/inc/www/js/common.js\"></script>\n",
       "<script src=\"/inc/www/js/search.js\"></script>\n",
       "<script>\n",
       "        var member_me = \"\";\n",
       "\t</script>\n",
       "</meta></meta></head>\n",
       "<body>\n",
       "<script>(function(){\n",
       "            return;\n",
       "            var qs_s = location.href.includes(\"/issue\") ? 18445 : 18252;\n",
       "            var d=!1,e=\"//www.mediacategory.com/servlet/iadbn?from=\"+escape(document.referrer)+\"&s=\"+qs_s+\"&psb=99\",c=function(){d=!0;var a=document.createElement(\"iframe\");a.src=e;a.width=\"0\";a.height=\"0\";a.frameBorder=0;a.marginWidth=0;a.marginHeight=0;a.scrolling=\"no\";a.async?a.async=!0:a.defer&&(a.defer=!0);if(document.body)document.body.appendChild(a);else{var b=document.getElementsByTagName(\"html\")[0],c=document.createElement(\"body\");b.appendChild(c);c.appendChild(a)}};try{var f=setTimeout(c,1E3),g=document.getElementsByTagName(\"head\").item(0),b=document.createElement(\"script\");b.src=\"//cdn.megadata.co.kr/js/media/1.1/MBSHandler.js\";b.type=\"text/javascript\";b.async?b.async=!0:b.defer=!0;b.onload=function(){!0!==d&&(clearTimeout(f),enlipleMBSHandler(enlipleMBSHandler.getProductTypeCode(\"ico\"),enlipleMBSHandler.getWebCode(),qs_s).appendICover(e))};g.appendChild(b)}catch(a){c()}}\n",
       "    )();</script>\n",
       "<div class=\"acce_nav\">\n",
       "<a href=\"#content\">컨텐츠 바로가기[Skip to contents]</a>\n",
       "</div>\n",
       "<!-- Wrap -->\n",
       "<div id=\"wrap\">\n",
       "<!-- Header -->\n",
       "<div id=\"header\">\n",
       "<div class=\"logo_area\">\n",
       "<!-- logo -->\n",
       "<h1 class=\"logo\"><a href=\"/\"><img alt=\"씨네21\" src=\"http://image.cine21.com/www1/common/logo.png\"/></a></h1>\n",
       "<!-- logo -->\n",
       "<!-- banner -->\n",
       "<div class=\"banner_header\">\n",
       "<script src=\"https://adservice.hani.co.kr/RealMedia/ads/adstream_jx.ads/www.cine21.com/main@x29\"></script>\n",
       "</div>\n",
       "<!-- //banner -->\n",
       "<!-- logout상태 -->\n",
       "<div class=\"login_area\">\n",
       "<!--\t\t\t\t<a href=\"https://member.hani.co.kr/login.php?url=http%3A%2F%2Fwww.cine21.com%2Fmember%2Fbridge%2Flogin_return%2F%3Fnext_url%3Dhttp%25253A%25252F%25252Fwww.cine21.com%25252Frank%25252Fperson\" class=\"btn_login\">로그인</a>-->\n",
       "<a class=\"btn_login\" href=\"https://member.hani.co.kr/login.php?url=http%3A%2F%2Fwww.cine21.com%2Frank%2Fperson\">로그인</a>\n",
       "<a class=\"btn_signup\" href=\"/member/bridge/join\">회원가입</a>\n",
       "</div>\n",
       "<!-- //logout상태 -->\n",
       "</div>\n",
       "<div class=\"gnb_area\">\n",
       "<div class=\"gnb_box\">\n",
       "<!-- gnb -->\n",
       "<ul id=\"gnb\">\n",
       "<li><a class=\"\" href=\"/news\"><span>기사</span></a></li>\n",
       "<li><a class=\"\" href=\"/news/issue/list\"><span>데일리뉴스</span></a></li>\n",
       "<li><a class=\"on\" href=\"/movie\"><span>영화</span></a></li>\n",
       "<li><a class=\"\" href=\"/rank\"><span>랭킹</span></a></li>\n",
       "<li><a class=\"\" href=\"/media\"><span>멀티미디어</span></a></li>\n",
       "<li><a class=\"\" href=\"/event\"><span>이벤트&amp;커뮤니티</span></a></li>\n",
       "<li><a class=\"\" href=\"/subscription\"><span>정기구독</span></a></li>\n",
       "<li><a class=\"\" href=\"/db\"><span>아카이브</span></a></li>\n",
       "</ul> <!--\n",
       "\t\t\t\t<ul id=\"gnb\">\n",
       "\t\t\t\t\t<li><a href=\"/news\" class=\"\"><span>기사</span></a></li>\n",
       "\t\t\t\t\t<li><a href=\"/movie\" class=\"\"><span>영화</span></a></li>\n",
       "\t\t\t\t\t<li><a href=\"/rank\" class=\"\"><span>랭킹</span></a></li>\n",
       "\t\t\t\t\t<li><a href=\"/media\" class=\"\"><span>멀티미디어</span></a></li>\n",
       "\t\t\t\t\t<li><a href=\"/event\" class=\"\"><span>이벤트&amp;커뮤니티</span></a></li>\n",
       "\t\t\t\t\t<li><a href=\"/subscription\" class=\"\"><span>구독</span></a></li>\t\t\t\t\t\n",
       "\t\t\t\t\t<li><a href=\"/news/issue\" class=\"\"><span>핫이슈</span></a></li>\t\t\t\t\t\n",
       "\t\t\t\t</ul>\n",
       "\t\t\t\t-->\n",
       "<!-- // gnb -->\n",
       "<ul class=\"gnb_special\" id=\"gnb_quick\">\n",
       "<li class=\"gnb_people\"><a class=\"\" href=\"/community/recruit/\"><span>영화인 리쿠르트</span></a></li>\n",
       "<!--\t\t\t\t\t<li class=\"gnb_db\"><a href=\"/db\" class=\"\"><span>아카이브</span></a></li>-->\n",
       "</ul>\n",
       "<!-- search form -->\n",
       "<div class=\"search_area\">\n",
       "<form action=\"/search/\" id=\"total_search_form\" method=\"get\">\n",
       "<fieldset>\n",
       "<legend>통합검색</legend>\n",
       "<input class=\"input_search\" id=\"search_q\" name=\"q\" placeholder=\"검색어를 입력해 주세요\" title=\"검색어 입력\" type=\"text\"/>\n",
       "<a class=\"btn_search\" href=\"javascript:;\" onclick=\"$('#total_search_form').submit()\"></a>검색\n",
       "<!--<input type=\"submit\" value=\"검색\" />-->\n",
       "</fieldset>\n",
       "</form>\n",
       "</div>\n",
       "<!-- // search form -->\n",
       "</div>\n",
       "</div>\n",
       "</div>\n",
       "<!-- // Header -->\n",
       "<div id=\"container\">\n",
       "<div class=\"lnb_area\">\n",
       "<p class=\"lnb_title\"></p>\n",
       "<ul id=\"lnb\">\n",
       "<li style=\"width:50%\">\n",
       "<a class=\"\" href=\"/movie/lists\">\n",
       "<span>영화정보</span>\n",
       "</a>\n",
       "</li>\n",
       "<li style=\"width:50%\">\n",
       "<a class=\"on\" href=\"/movie/point\">\n",
       "<span>영화별점</span>\n",
       "</a>\n",
       "</li>\n",
       "</ul>\n",
       "</div> <script>\n",
       "var section=\"actor\";\n",
       "var fetch_page = 1;\n",
       "var fetch_gender = \"all\";\n",
       "$(function(){\n",
       "\t$('.search_option a').click(function(e){\n",
       "\t\tif($(this).hasClass('.on')) return;\n",
       "\t\t$(this).parent().find('.on').removeClass('on');\n",
       "\t\t$(this).addClass('on');\n",
       "\t\tfetch_list(1);\n",
       "\t});\t\n",
       "\tresetFields();\n",
       "});\n",
       "\n",
       "   function resetFields(){\n",
       "        $('#li_gender a').eq(0).click();\n",
       "        $('#li_period a').eq(0).click();\n",
       "        fetch_list(1);\n",
       "    }\n",
       "\n",
       "    function get_postdata(){\n",
       "        var post_data = {};\n",
       "        post_data['section'] = section;\n",
       "        post_data['period_start'] = $('#li_period a.on').attr('data-r');\n",
       "        post_data['gender'] = $('#li_gender a.on').attr('data-r');\n",
       "        post_data['page'] = fetch_page;\n",
       "        return post_data;\n",
       "    }\n",
       "\n",
       "    function fetch_list(page){\n",
       "        var post_data = get_postdata();\n",
       "        post_data['page'] = page;\n",
       "\n",
       "        $.post('/rank/person/content', post_data, function(d){\n",
       "            fetch_page = page;\n",
       "            $('#rank_holder').html(d);\n",
       "            /*\n",
       "            $('#rank_holder .bx_n_graph').each(function(i){\n",
       "                //drawGraph($(this));\n",
       "            });\n",
       "        */\n",
       "        });\n",
       "    }\n",
       "\n",
       "    function fill_dateInput(subs, anchor){\n",
       "        $(\"input[name='period_start']\").datepicker(\"setDate\", '-'+subs);\n",
       "        $(\"input[name='period_end']\").datepicker(\"setDate\", '-1d');\n",
       "        $(\"#dd_period a.on\").removeClass(\"on\");\n",
       "        $(anchor).addClass(\"on\");\n",
       "    }\n",
       "\n",
       "    function setGender(gender, anchor){\n",
       "        fetch_gender = gender;\n",
       "        $('#dd_gender a.on').removeClass('on');\n",
       "        $(anchor).addClass('on');\n",
       "    }\n",
       "\n",
       "\n",
       "    function show_list(person_id, elem){\n",
       "\n",
       "        var post_data = get_postdata();\n",
       "        if(post_data==false) return;\n",
       "\n",
       "        post_data['person_id'] = person_id;\n",
       "        $.post(\"/movie/boxoffice/ranking_list\", post_data, function(d){\n",
       "            //alert(d);return;\n",
       "            $('#actor_list_popup').remove();\n",
       "            var $li = $('.bx_n_tbst_people li').has($(elem));\n",
       "            $(d).appendTo($li);\n",
       "            drawGraph($li.find('.bx_n_graph'));\n",
       "            \n",
       "        });\n",
       "    }\n",
       "    function drawGraph($div){\n",
       "        var d = $.parseJSON($div.html());\n",
       "        $div.empty();\n",
       "        $div.highcharts({\n",
       "            chart: {\n",
       "                type: 'line'\n",
       "            },\n",
       "            title: null,\n",
       "            subtitle: null,\n",
       "            xAxis: {\n",
       "                categories: d.categories\n",
       "            },\n",
       "            yAxis: {\n",
       "                title: null\n",
       "            },\n",
       "            plotOptions: {\n",
       "                line: {\n",
       "                    dataLabels: {\n",
       "                        enabled: false\n",
       "                    },\n",
       "                    enableMouseTracking: false\n",
       "                }\n",
       "            },\n",
       "            series: d.series\n",
       "        });\n",
       "\n",
       "    }\n",
       "\n",
       "\n",
       "\n",
       "\n",
       "</script>\n",
       "<div class=\"ranking people\" id=\"content\">\n",
       "<!-- SNB -->\n",
       "<ul id=\"snb_t\">\n",
       "<li style=\"width:50%\"><a class=\"on\" href=\"/rank/person//?s=actor\">배우<span class=\"ico\"></span></a></li>\n",
       "<li style=\"width:50%\"><a class=\"\" href=\"/rank/person//?s=director\">감독<span class=\"ico\"></span></a></li>\n",
       "</ul> <!-- //SNB -->\n",
       "<!-- 검색옵션 -->\n",
       "<div class=\"search_option_area\">\n",
       "<ul class=\"search_option\">\n",
       "<li id=\"li_gender\">\n",
       "<span class=\"tit\">성별</span>\n",
       "<a class=\"on\" data-r=\"all\" href=\"javascript:;\">전체</a><span class=\"bar\">|</span>\n",
       "<a data-r=\"m\" href=\"javascript:;\">남자</a><span class=\"bar\">|</span>\n",
       "<a data-r=\"f\" href=\"javascript:;\">여자</a>\n",
       "</li>\n",
       "<li id=\"li_period\">\n",
       "<span class=\"tit\">집계기간</span>\n",
       "<a class=\"on\" data-r=\"2022-01\" href=\"javascript:;\">1개월</a><span class=\"bar\">|</span>\n",
       "<a data-r=\"2021-08\" href=\"javascript:;\">6개월</a><span class=\"bar\">|</span>\n",
       "<a data-r=\"2021-02\" href=\"javascript:;\">1년</a><span class=\"bar\">|</span>\n",
       "<a data-r=\"2020-02\" href=\"javascript:;\">2년</a>\n",
       "</li>\n",
       "</ul>\n",
       "<div class=\"btnArea\">\n",
       "<a class=\"btn_red_s\" href=\"javascript:;\" onclick=\"fetch_list(1)\">조회</a> <a class=\"btn_gray_s\" href=\"javascript:;\" onclick=\"resetFields()\">설정초기화</a>\n",
       "</div>\n",
       "</div>\n",
       "<!-- //검색옵션 -->\n",
       "<div id=\"rank_holder\"></div>\n",
       "<div class=\"from_kobis\">\n",
       "<img alt=\"kobis\" src=\"http://image.cine21.com/www1/rank/from_kobis.jpg\"/> 본 서비스는 영화진흥위원회가 제공하는 영화관입장권통합전산망(kobis.or.kr)정보를 활용하였습니다.\n",
       "\t\t\t</div>\n",
       "</div>\n",
       "<!-- 배너:리얼클릭 왼쪽 160x600 -->\n",
       "<style>\n",
       "\t\t\t.real_ad_container {margin:0 auto}\n",
       "\t\t</style>\n",
       "<div class=\"banner_left\">\n",
       "<div class=\"realssp_dv\" data-mcode=\"Y2luZTIxMjEwMDAwMV8zMjQyOA==\" id=\"realssp_cine212100001_32428\" title=\"리얼클릭 배너광고\"></div><script async=\"\" src=\"//ssp.realclick.co.kr/realclickssp.js?v=1.0&amp;m=cine212100001_32428&amp;t=j\"></script>\n",
       "</div>\n",
       "<!-- //배너:리얼클릭 -->\n",
       "<!-- 배너:리얼클릭 오른쪽 160x600 -->\n",
       "<div class=\"banner_right\">\n",
       "<div class=\"realssp_dv\" data-mcode=\"Y2luZTIxMjEwMDAwMV8zMjQyOQ==\" id=\"realssp_cine212100001_32429\" title=\"리얼클릭 배너광고\"></div><script async=\"\" src=\"//ssp.realclick.co.kr/realclickssp.js?v=1.0&amp;m=cine212100001_32429&amp;t=j\"></script>\n",
       "</div>\n",
       "<!-- //배너:리얼클릭 -->\n",
       "</div>\n",
       "<!-- Footer -->\n",
       "<div id=\"footer\">\n",
       "<div class=\"ft_menu1_area\">\n",
       "<div class=\"ft_menu1_left\">\n",
       "<h2>cine21 잡지</h2>\n",
       "<div class=\"btnArea subscription\">\n",
       "<a class=\"highlight\" href=\"/subscription/apply\">구독신청</a>\n",
       "<a href=\"https://smartstore.naver.com/cine21\" target=\"_blank\">낱권구매</a>\n",
       "<a href=\"https://docs.google.com/forms/d/1stxITs9RPvVQLega4CFlgmPqx9PAkHJ4Q0XiVsBH2RI/viewform\" target=\"_blank\">무료 구독 이벤트</a>\n",
       "<!--a href=\"/community/post/\">독자엽서</a-->\n",
       "</div>\n",
       "<ul class=\"magazine\">\n",
       "<li>\n",
       "<a href=\"/db/mag/content/?ind_serial=1342\">\n",
       "<p class=\"thumbnail\"><img alt=\"\" src=\"https://image.cine21.com/resize/cine21/site/2022/0204/11_16_55__61fc8c9776d38[F190,238].jpg\"/></p>\n",
       "<p class=\"number\">1342호</p>\n",
       "</a>\n",
       "</li>\n",
       "<li>\n",
       "<a href=\"/db/mag/content/?ind_serial=1341\">\n",
       "<p class=\"thumbnail\"><img alt=\"\" src=\"https://image.cine21.com/resize/cine21/site/2022/0121/11_09_52__61ea15f0c486c[F190,238].jpg\"/></p>\n",
       "<p class=\"number\">1341호</p>\n",
       "</a>\n",
       "</li>\n",
       "<li>\n",
       "<a href=\"/db/mag/content/?ind_serial=1340\">\n",
       "<p class=\"thumbnail\"><img alt=\"\" src=\"https://image.cine21.com/resize/cine21/site/2022/0114/11_09_16__61e0db4c84b07[F190,238].jpg\"/></p>\n",
       "<p class=\"number\">1340호</p>\n",
       "</a>\n",
       "</li>\n",
       "</ul>\n",
       "</div>\n",
       "<div class=\"ft_menu1_right\">\n",
       "<!-- 공지사항 -->\n",
       "<div class=\"notice\">\n",
       "<h2>공지사항<a class=\"more\" href=\"/misc/cs/notice_list/\">더 보기</a></h2>\n",
       "<ul>\n",
       "<li><a href=\"/misc/cs/notice_view/?article_no=8311\">· 도서 &lt;후회하는 소녀와 축제의 밤&gt; 기대평 이벤트 당첨자 발표</a></li>\n",
       "<li><a href=\"/misc/cs/notice_view/?article_no=8310\">· 도서 &lt;윌: WILL&gt;  기대평 이벤트 당첨자 발표</a></li>\n",
       "<li><a href=\"/misc/cs/notice_view/?article_no=8309\">· 도서 &lt;일회용 아내&gt; 기대평 이벤트 당첨자 발표</a></li>\n",
       "<li><a href=\"/misc/cs/notice_view/?article_no=8308\">· 영화 &lt;만년이 지나도 변하지 않는 게 있어&gt; 시사회 초대 이벤트 당첨자 발표</a></li>\n",
       "<li><a href=\"/misc/cs/notice_view/?article_no=8307\">· 연극 &lt;옥탑방 고양이&gt; 초대 이벤트 당첨자 발표</a></li>\n",
       "</ul>\n",
       "</div>\n",
       "<!-- //공지사항 -->\n",
       "<!-- cine21 sns -->\n",
       "<div class=\"sns\">\n",
       "<h2>cine21 SNS</h2>\n",
       "<ul>\n",
       "<li><a href=\"https://www.facebook.com/cine21\" target=\"_blank\"><span class=\"menu_img ico1\"></span>페이스북</a></li>\n",
       "<li><a href=\"https://www.youtube.com/channel/UCz4vMhiedEWgICIF7NBYiYA\" target=\"_blank\"><span class=\"menu_img ico2\"></span>유튜브</a></li>\n",
       "<li><a href=\"https://www.instagram.com/cine_21\" target=\"_blank\"><span class=\"menu_img ico3\"></span>인스타그램</a></li>\n",
       "<li><a href=\"https://blog.naver.com/cine21yo\" target=\"_blank\"><span class=\"menu_img ico4\"></span>네이버 블로그</a></li>\n",
       "<li><a href=\"https://www.twitter.com/cine21_editor\" target=\"_blank\"><span class=\"menu_img ico5\"></span>트위터</a></li>\n",
       "<li><a href=\"https://m.post.naver.com/my.nhn?memberNo=15205863\" target=\"_blank\"><span class=\"menu_img ico6\"></span>네이버 포스트</a></li>\n",
       "</ul>\n",
       "</div>\n",
       "<!-- //cine21 sns -->\n",
       "<!-- 주목 -->\n",
       "<div class=\"family\">\n",
       "<h2>주목</h2>\n",
       "<ul>\n",
       "<li><a href=\"http://modumagazine.co.kr/\" target=\"_blank\"><span class=\"menu_img ico1\"></span>MODU</a></li>\n",
       "<li><a href=\"https://bridge.hani.co.kr/Hani/User?command=magazineform\" target=\"_blank\"><span class=\"menu_img ico2\"></span>뉴스레터 구독</a></li>\n",
       "</ul>\n",
       "</div>\n",
       "<!-- //주목 -->\n",
       "</div>\n",
       "</div>\n",
       "<div class=\"ft_menu2_area\">\n",
       "<ul class=\"ft_menu2\">\n",
       "<li><a href=\"/misc/company/\">회사소개</a></li>\n",
       "<li><a href=\"/misc/company/contact/\">부서별 전화번호</a></li>\n",
       "<li><a href=\"/misc/ad/\">광고 및 제휴 안내</a></li>\n",
       "<li><a href=\"/misc/cs/\">고객센터</a></li>\n",
       "<li><a href=\"/member/policy/privacy\">개인정보취급방침</a></li>\n",
       "<li><a href=\"/member/policy/email\">이메일주소무단수집거부</a></li>\n",
       "<li><a href=\"/member/policy/agreement\">이용약관</a></li>\n",
       "<li><a href=\"/misc/doc/sitemap\">사이트맵</a></li>\n",
       "</ul>\n",
       "</div>\n",
       "<div class=\"copyright_area\">\n",
       "<div class=\"copyright\">\n",
       "\t\t\t\t씨네이십일주식회사 / 서울시 영등포구 당산로 41길 11 SK V1센터 E동 1102호 / 대표전화 : 02-6377-0500 / 대표이사 : 한정택<br/>\n",
       "\t\t\t\t사업자등록번호 : 105-86-57632 / 통신판매업번호 : 제2015-서울영등포-0671호<br/>\n",
       "\t\t\t\t제호 : 씨네21 / 등록번호 : 서울,자00347 / 등록일자 : 2011년 07월 20일 / 발행인ㆍ편집인 : 한정택 / 청소년보호책임자 : 장영엽<br/>\n",
       "\t\t\t\tE-mail : webmaster@cine21.com / (c) CINE21 Co., LTD\n",
       "\t\t\t</div>\n",
       "</div>\n",
       "</div>\n",
       "<!-- // Footer -->\n",
       "</div>\n",
       "<script src=\"/modules/_INC/js/dm-ce.js\"></script>\n",
       "</body>\n",
       "<script async=\"\" src=\"https://www.googletagmanager.com/gtag/js?id=UA-56624682-7\"></script>\n",
       "<script>\n",
       "    window.dataLayer = window.dataLayer || [];\n",
       "    function gtag(){dataLayer.push(arguments);}\n",
       "\n",
       "    gtag('js', new Date());\n",
       "    gtag('config', 'UA-56624682-7');\n",
       "    if(member_me!=\"\"){\n",
       "        gtag('set', {'user_id': member_me});\n",
       "    }\n",
       "\n",
       "    $(function(){\n",
       "        $(\"a[glab]\").click(function(e){\n",
       "            var $anchor = $(this);\n",
       "            var glab = $(this).attr(\"glab\");\n",
       "            gtag('event', 'location', {\n",
       "                'event_category': 'anchor',\n",
       "                'event_label': glab,\n",
       "                'event_callback' : function(){\n",
       "                    var href = $anchor.attr(\"href\");\n",
       "                    if(!href || href==\"\") {\n",
       "                        return;\n",
       "                    }\n",
       "                    location.href = href;\n",
       "                }\n",
       "            });\n",
       "            return false;\n",
       "        });\n",
       "    });\n",
       "\n",
       "</script>\n",
       "<script type=\"application/ld+json\">\n",
       "\t{\n",
       "\t\t\"@context\": \"http://schema.org\",\n",
       "\t\t\"@type\": \"Organization\",\n",
       "\t\t\"url\": \"http://www.cine21.com\",\n",
       "\t\t\"name\": \"씨네이십일주식회사\",\n",
       "\t\t\"description\": \"대한민국 영화미디어의 표준, 씨네21\",\n",
       "\t\t\"contactPoint\": {\n",
       "\t\t\t\"@type\": \"ContactPoint\",\n",
       "\t\t\t\"telephone\": \"+82-02-6377-0500\",\n",
       "\t\t\t\"contactType\": \"Customer service\"\n",
       "\t\t},\n",
       "\t\t\"sameAs\" : [\n",
       "\t\t\t\"http://post.naver.com/my.nhn?memberNo=15205863\",\n",
       "\t\t\t\"https://www.facebook.com/cine21/\",\n",
       "\t\t\t\"https://www.instagram.com/cine_21/\",\n",
       "\t\t\t\"https://twitter.com/cine21_editor\",\n",
       "\t\t\t\"https://www.youtube.com/channel/UCz4vMhiedEWgICIF7NBYiYA\",\n",
       "\t\t\t\"https://blog.naver.com/cine21yo\"\n",
       "\t\t]\n",
       "\t}\n",
       "</script>\n",
       "<script src=\"http://wcs.naver.net/wcslog.js\" type=\"text/javascript\"></script> <script type=\"text/javascript\"> if(!wcs_add) var wcs_add = {}; wcs_add[\"wa\"] = \"13cb4df462cbbf0\"; wcs_do(); </script>\n",
       "<script src=\"//cdn.ads.tapzin.com/cine21/tdn_settings.js\"></script>\n",
       "</html>"
      ]
     },
     "execution_count": 79,
     "metadata": {},
     "output_type": "execute_result"
    }
   ],
   "source": [
    "res = requests.get(url, data = data)\n",
    "soup = BeautifulSoup(res.text, 'html.parser')\n",
    "soup"
   ]
  },
  {
   "cell_type": "code",
   "execution_count": 80,
   "id": "ab6ae50f",
   "metadata": {},
   "outputs": [
    {
     "data": {
      "text/plain": [
       "0"
      ]
     },
     "execution_count": 80,
     "metadata": {},
     "output_type": "execute_result"
    }
   ],
   "source": [
    "li_tags = soup.select('li.people_li')\n",
    "len(li_tags)"
   ]
  },
  {
   "cell_type": "code",
   "execution_count": 81,
   "id": "35646478",
   "metadata": {},
   "outputs": [
    {
     "ename": "SyntaxError",
     "evalue": "unexpected EOF while parsing (Temp/ipykernel_14328/2537906092.py, line 5)",
     "output_type": "error",
     "traceback": [
      "\u001b[1;36m  File \u001b[1;32m\"C:\\Users\\bitcamp\\AppData\\Local\\Temp/ipykernel_14328/2537906092.py\"\u001b[1;36m, line \u001b[1;32m5\u001b[0m\n\u001b[1;33m    print(re.sub(\"\\(\\w+\\)\", \"\", t.text)\u001b[0m\n\u001b[1;37m                                       ^\u001b[0m\n\u001b[1;31mSyntaxError\u001b[0m\u001b[1;31m:\u001b[0m unexpected EOF while parsing\n"
     ]
    }
   ],
   "source": [
    "main_url = 'http://www.cine21.com'\n",
    "\n",
    "for t in tags:\n",
    "    print(t.select('a')[0]['href'])\n",
    "    print(re.sub(\"\\(\\w+\\)\", \"\", t.text)"
   ]
  },
  {
   "cell_type": "code",
   "execution_count": 71,
   "id": "d2ac2f62",
   "metadata": {},
   "outputs": [],
   "source": [
    "actor_url = \"https://image.cine21.com/resize/cine21/still/2017/1207/15_06_46__5a28da76c2e01[X145,145].jpg\""
   ]
  },
  {
   "cell_type": "code",
   "execution_count": 74,
   "id": "6ae7431f",
   "metadata": {},
   "outputs": [
    {
     "data": {
      "text/plain": [
       "[]"
      ]
     },
     "execution_count": 74,
     "metadata": {},
     "output_type": "execute_result"
    }
   ],
   "source": [
    "res = requests.get(actor_url)\n",
    "soup = BeautifulSoup(res.text, 'html.parser')\n",
    "actor_data = soup.select('ul.default_info')\n",
    "actor_data"
   ]
  },
  {
   "cell_type": "code",
   "execution_count": 75,
   "id": "38877cdd",
   "metadata": {
    "collapsed": true
   },
   "outputs": [
    {
     "ename": "IndexError",
     "evalue": "list index out of range",
     "output_type": "error",
     "traceback": [
      "\u001b[1;31m---------------------------------------------------------------------------\u001b[0m",
      "\u001b[1;31mIndexError\u001b[0m                                Traceback (most recent call last)",
      "\u001b[1;32m~\\AppData\\Local\\Temp/ipykernel_14328/1196646202.py\u001b[0m in \u001b[0;36m<module>\u001b[1;34m\u001b[0m\n\u001b[1;32m----> 1\u001b[1;33m \u001b[0mactor_data\u001b[0m\u001b[1;33m[\u001b[0m\u001b[1;36m0\u001b[0m\u001b[1;33m]\u001b[0m\u001b[1;33m.\u001b[0m\u001b[0mselect\u001b[0m\u001b[1;33m(\u001b[0m\u001b[1;34m'li'\u001b[0m\u001b[1;33m)\u001b[0m\u001b[1;33m\u001b[0m\u001b[1;33m\u001b[0m\u001b[0m\n\u001b[0m",
      "\u001b[1;31mIndexError\u001b[0m: list index out of range"
     ]
    }
   ],
   "source": [
    "actor_data[0].select('li')\n"
   ]
  },
  {
   "cell_type": "code",
   "execution_count": 76,
   "id": "c495b5ef",
   "metadata": {
    "collapsed": true
   },
   "outputs": [
    {
     "ename": "IndexError",
     "evalue": "list index out of range",
     "output_type": "error",
     "traceback": [
      "\u001b[1;31m---------------------------------------------------------------------------\u001b[0m",
      "\u001b[1;31mIndexError\u001b[0m                                Traceback (most recent call last)",
      "\u001b[1;32m~\\AppData\\Local\\Temp/ipykernel_14328/1909819254.py\u001b[0m in \u001b[0;36m<module>\u001b[1;34m\u001b[0m\n\u001b[1;32m----> 1\u001b[1;33m \u001b[1;32mfor\u001b[0m \u001b[0mli\u001b[0m \u001b[1;32min\u001b[0m \u001b[0mactor_data\u001b[0m\u001b[1;33m[\u001b[0m\u001b[1;36m0\u001b[0m\u001b[1;33m]\u001b[0m\u001b[1;33m.\u001b[0m\u001b[0mselect\u001b[0m\u001b[1;33m(\u001b[0m\u001b[1;34m'li'\u001b[0m\u001b[1;33m)\u001b[0m\u001b[1;33m:\u001b[0m\u001b[1;33m\u001b[0m\u001b[1;33m\u001b[0m\u001b[0m\n\u001b[0m\u001b[0;32m      2\u001b[0m     \u001b[0mprint\u001b[0m\u001b[1;33m(\u001b[0m\u001b[0mli\u001b[0m\u001b[1;33m)\u001b[0m\u001b[1;33m\u001b[0m\u001b[1;33m\u001b[0m\u001b[0m\n",
      "\u001b[1;31mIndexError\u001b[0m: list index out of range"
     ]
    }
   ],
   "source": [
    "actor_info_dict = dict()\n",
    "\n",
    "for li in actor_data[0].select('li'):\n",
    "#     print(li)\n",
    "\n",
    "    key = li.select_one('span.tit').text\n",
    "    \n",
    "    li = re.sub(\"<span.*?>.*?</span>\", '', str(li))\n",
    "    value = re.sub(\"<.+?>\", \"\", li)\n",
    "    \n",
    "    actor_info_dict[key] = value.strip()\n",
    "    \n",
    "    print(key, value)\n",
    "    \n",
    "actor_info_dict"
   ]
  },
  {
   "cell_type": "code",
   "execution_count": null,
   "id": "ce5f0f0b",
   "metadata": {},
   "outputs": [],
   "source": [
    "### 흥행지수 뽑기"
   ]
  },
  {
   "cell_type": "code",
   "execution_count": 82,
   "id": "ae1c4f3a",
   "metadata": {
    "collapsed": true
   },
   "outputs": [
    {
     "ename": "NameError",
     "evalue": "name 'main_soup' is not defined",
     "output_type": "error",
     "traceback": [
      "\u001b[1;31m---------------------------------------------------------------------------\u001b[0m",
      "\u001b[1;31mNameError\u001b[0m                                 Traceback (most recent call last)",
      "\u001b[1;32m~\\AppData\\Local\\Temp/ipykernel_14328/1244235934.py\u001b[0m in \u001b[0;36m<module>\u001b[1;34m\u001b[0m\n\u001b[1;32m----> 1\u001b[1;33m \u001b[0mmain_soup\u001b[0m\u001b[1;33m.\u001b[0m\u001b[0mselect\u001b[0m\u001b[1;33m(\u001b[0m\u001b[1;34m\"li.people_li ul.num_info strong\"\u001b[0m\u001b[1;33m)\u001b[0m\u001b[1;33m\u001b[0m\u001b[1;33m\u001b[0m\u001b[0m\n\u001b[0m",
      "\u001b[1;31mNameError\u001b[0m: name 'main_soup' is not defined"
     ]
    }
   ],
   "source": [
    "for s i in main_soup.select(\"li.people_li ul.num_info strong\"):\n",
    "    print(int(s.text.replace(',','')))"
   ]
  },
  {
   "cell_type": "code",
   "execution_count": 83,
   "id": "7c0d611c",
   "metadata": {
    "collapsed": true
   },
   "outputs": [
    {
     "ename": "SyntaxError",
     "evalue": "invalid syntax (Temp/ipykernel_14328/2035497597.py, line 1)",
     "output_type": "error",
     "traceback": [
      "\u001b[1;36m  File \u001b[1;32m\"C:\\Users\\bitcamp\\AppData\\Local\\Temp/ipykernel_14328/2035497597.py\"\u001b[1;36m, line \u001b[1;32m1\u001b[0m\n\u001b[1;33m    for s i in main_soup.select(\"li.people_li  ul.mov_list\"):\u001b[0m\n\u001b[1;37m          ^\u001b[0m\n\u001b[1;31mSyntaxError\u001b[0m\u001b[1;31m:\u001b[0m invalid syntax\n"
     ]
    }
   ],
   "source": [
    "movie_list = []\n",
    "for s i in main_soup.select(\"li.people_li  ul.mov_list\"):\n",
    "    actor_movie = []\n",
    "    for l in s.select('span'):\n",
    "        actor_movie.append(l, text.strip())\n",
    "    movie_list.append(actor_movie)"
   ]
  },
  {
   "cell_type": "code",
   "execution_count": null,
   "id": "c5bde2f1",
   "metadata": {},
   "outputs": [],
   "source": [
    "movie_list"
   ]
  },
  {
   "cell_type": "code",
   "execution_count": null,
   "id": "c215ee10",
   "metadata": {},
   "outputs": [],
   "source": []
  },
  {
   "cell_type": "code",
   "execution_count": 84,
   "id": "0b71d8b0",
   "metadata": {},
   "outputs": [
    {
     "data": {
      "text/plain": [
       "<pymongo.results.InsertManyResult at 0x226db1b3580>"
      ]
     },
     "execution_count": 84,
     "metadata": {},
     "output_type": "execute_result"
    }
   ],
   "source": [
    "from bs4 import BeautifulSoup\n",
    "import requests\n",
    "import pymongo\n",
    "import re\n",
    "\n",
    "conn = pymongo.MongoClient()\n",
    "actor_db = conn.cine21\n",
    "actor_collection = actor_db.actor_collection\n",
    "\n",
    "actors_info_list = list()\n",
    "\n",
    "cine21_url = 'http://www.cine21.com/rank/person/content'\n",
    "post_data = dict()\n",
    "post_data['section'] = 'actor'\n",
    "post_data['period_start'] = '2022-01'\n",
    "post_data['gender'] = 'all'\n",
    "\n",
    "for index in range(1, 21):\n",
    "    post_data['page'] = index\n",
    "\n",
    "    res = requests.post(cine21_url, data=post_data)\n",
    "    soup = BeautifulSoup(res.content, 'html.parser')\n",
    "\n",
    "    actors = soup.select('li.people_li div.name')\n",
    "    hits = soup.select('ul.num_info > li > strong')\n",
    "    movies = soup.select('ul.mov_list')\n",
    "    rankings = soup.select('li.people_li > span.grade')\n",
    "    \n",
    "    for index, actor in enumerate(actors):\n",
    "        actor_name = re.sub('\\(\\w*\\)', '', actor.text)\n",
    "        actor_hits = int(hits[index].text.replace(',', ''))\n",
    "        movie_titles = movies[index].select('li a span')\n",
    "        movie_title_list = list()\n",
    "        for movie_title in movie_titles:\n",
    "            movie_title_list.append(movie_title.text)\n",
    "            \n",
    "            \n",
    "        actor_info_dict = dict()\n",
    "        actor_info_dict['배우이름'] = actor_name\n",
    "        actor_info_dict['흥행지수'] = actor_hits\n",
    "        actor_info_dict['출연영화'] = movie_title_list\n",
    "        actor_info_dict['랭킹'] = rankings[index].text\n",
    "\n",
    "        actor_link = 'http://www.cine21.com' + actor.select_one('a').attrs['href']\n",
    "        response_actor = requests.get(actor_link)\n",
    "        soup_actor = BeautifulSoup(response_actor.content, 'html.parser')\n",
    "        default_info = soup_actor.select_one('ul.default_info')\n",
    "        actor_details = default_info.select('li')\n",
    "\n",
    "        for actor_item in actor_details:\n",
    "            actor_item_field = actor_item.select_one('span.tit').text\n",
    "            actor_item_value = re.sub('<span.*?>.*?</span>', '', str(actor_item))\n",
    "            actor_item_value = re.sub('<.*?>', '', actor_item_value)\n",
    "            actor_info_dict[actor_item_field] = actor_item_value\n",
    "        actors_info_list.append(actor_info_dict)\n",
    "        \n",
    "actor_collection.insert_many(actors_info_list)"
   ]
  },
  {
   "cell_type": "code",
   "execution_count": null,
   "id": "147acae2",
   "metadata": {},
   "outputs": [],
   "source": [
    "actor_collection.insert_many(actors_info_list)"
   ]
  },
  {
   "cell_type": "code",
   "execution_count": null,
   "id": "1f0712e6",
   "metadata": {},
   "outputs": [],
   "source": [
    "results = actor_"
   ]
  },
  {
   "cell_type": "code",
   "execution_count": null,
   "id": "5117bdbe",
   "metadata": {},
   "outputs": [],
   "source": []
  },
  {
   "cell_type": "code",
   "execution_count": null,
   "id": "61b591ab",
   "metadata": {},
   "outputs": [],
   "source": []
  },
  {
   "cell_type": "code",
   "execution_count": null,
   "id": "acfc18f9",
   "metadata": {},
   "outputs": [],
   "source": []
  },
  {
   "cell_type": "code",
   "execution_count": null,
   "id": "bc935fca",
   "metadata": {},
   "outputs": [],
   "source": []
  },
  {
   "cell_type": "code",
   "execution_count": null,
   "id": "e892c381",
   "metadata": {},
   "outputs": [],
   "source": []
  }
 ],
 "metadata": {
  "kernelspec": {
   "display_name": "Python 3 (ipykernel)",
   "language": "python",
   "name": "python3"
  },
  "language_info": {
   "codemirror_mode": {
    "name": "ipython",
    "version": 3
   },
   "file_extension": ".py",
   "mimetype": "text/x-python",
   "name": "python",
   "nbconvert_exporter": "python",
   "pygments_lexer": "ipython3",
   "version": "3.9.7"
  },
  "varInspector": {
   "cols": {
    "lenName": 16,
    "lenType": 16,
    "lenVar": 40
   },
   "kernels_config": {
    "python": {
     "delete_cmd_postfix": "",
     "delete_cmd_prefix": "del ",
     "library": "var_list.py",
     "varRefreshCmd": "print(var_dic_list())"
    },
    "r": {
     "delete_cmd_postfix": ") ",
     "delete_cmd_prefix": "rm(",
     "library": "var_list.r",
     "varRefreshCmd": "cat(var_dic_list()) "
    }
   },
   "types_to_exclude": [
    "module",
    "function",
    "builtin_function_or_method",
    "instance",
    "_Feature"
   ],
   "window_display": false
  }
 },
 "nbformat": 4,
 "nbformat_minor": 5
}
