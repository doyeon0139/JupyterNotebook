{
 "cells": [
  {
   "cell_type": "code",
   "execution_count": 1,
   "metadata": {
    "executionInfo": {
     "elapsed": 1567,
     "status": "ok",
     "timestamp": 1648012671768,
     "user": {
      "displayName": "minho park",
      "photoUrl": "https://lh3.googleusercontent.com/a/default-user=s64",
      "userId": "11356278266127765055"
     },
     "user_tz": -540
    },
    "id": "ZvHDNy_psuex"
   },
   "outputs": [],
   "source": [
    "import pandas as pd\n",
    "import numpy as np\n",
    "import matplotlib.pyplot as plt\n",
    "import seaborn as sns"
   ]
  },
  {
   "cell_type": "code",
   "execution_count": 2,
   "metadata": {
    "executionInfo": {
     "elapsed": 5520,
     "status": "ok",
     "timestamp": 1648012678643,
     "user": {
      "displayName": "minho park",
      "photoUrl": "https://lh3.googleusercontent.com/a/default-user=s64",
      "userId": "11356278266127765055"
     },
     "user_tz": -540
    },
    "id": "uG3pZJPds0m7"
   },
   "outputs": [],
   "source": [
    "from tensorflow.keras.preprocessing import sequence\n",
    "from tensorflow.keras.models import Sequential\n",
    "from tensorflow.keras.layers import Dense, Dropout, Activation, Embedding, SimpleRNN, LSTM"
   ]
  },
  {
   "cell_type": "code",
   "execution_count": 3,
   "metadata": {
    "executionInfo": {
     "elapsed": 257,
     "status": "ok",
     "timestamp": 1648012680600,
     "user": {
      "displayName": "minho park",
      "photoUrl": "https://lh3.googleusercontent.com/a/default-user=s64",
      "userId": "11356278266127765055"
     },
     "user_tz": -540
    },
    "id": "OERQU_yrs0pr"
   },
   "outputs": [],
   "source": [
    "from keras.preprocessing.text import Tokenizer\n",
    "from keras.preprocessing.sequence import pad_sequences\n",
    "import re"
   ]
  },
  {
   "cell_type": "code",
   "execution_count": null,
   "metadata": {
    "id": "WBRXW_Gws0sb"
   },
   "outputs": [],
   "source": []
  },
  {
   "cell_type": "code",
   "execution_count": null,
   "metadata": {
    "id": "U2J9g8ATs0u7"
   },
   "outputs": [],
   "source": [
    "with open('lastofus.txt', encoding='euckr') as f:\n",
    "  line = f.readlines()\n",
    "\n",
    "  for i in line:\n",
    "    print(i)"
   ]
  },
  {
   "cell_type": "code",
   "execution_count": null,
   "metadata": {
    "id": "qHhwCeOEs0xj"
   },
   "outputs": [],
   "source": []
  },
  {
   "cell_type": "code",
   "execution_count": null,
   "metadata": {
    "id": "F0xJ-4lAs00M"
   },
   "outputs": [],
   "source": [
    "text = ''\n",
    "\n",
    "array = []\n",
    "with open('lastofus.txt', encoding='euckr') as f:\n",
    "  lines = f.readlines()\n",
    "  text = text.join([i for i in lines if re.match(r'^[A-Z].*:', i)])\n",
    "\n",
    "text"
   ]
  },
  {
   "cell_type": "code",
   "execution_count": null,
   "metadata": {
    "id": "-OmmiX4EuSnr"
   },
   "outputs": [],
   "source": [
    "print(text)"
   ]
  },
  {
   "cell_type": "code",
   "execution_count": 6,
   "metadata": {
    "executionInfo": {
     "elapsed": 244,
     "status": "ok",
     "timestamp": 1648012724140,
     "user": {
      "displayName": "minho park",
      "photoUrl": "https://lh3.googleusercontent.com/a/default-user=s64",
      "userId": "11356278266127765055"
     },
     "user_tz": -540
    },
    "id": "l1nM1wVBwbaU"
   },
   "outputs": [],
   "source": [
    "arr = []\n",
    "for t in text.split('\\n')[:1001]:\n",
    "  arr.append(t)"
   ]
  },
  {
   "cell_type": "code",
   "execution_count": 7,
   "metadata": {
    "executionInfo": {
     "elapsed": 252,
     "status": "ok",
     "timestamp": 1648012729389,
     "user": {
      "displayName": "minho park",
      "photoUrl": "https://lh3.googleusercontent.com/a/default-user=s64",
      "userId": "11356278266127765055"
     },
     "user_tz": -540
    },
    "id": "0evODDoxuSqc"
   },
   "outputs": [],
   "source": [
    "tokenizer = Tokenizer(lower=False, filters = '?!.,:;\\'\\\"-%\\n')\n",
    "tokenizer.fit_on_texts(arr)"
   ]
  },
  {
   "cell_type": "code",
   "execution_count": null,
   "metadata": {
    "id": "wWJvmTwyuStK"
   },
   "outputs": [],
   "source": [
    "tokenizer.word_index"
   ]
  },
  {
   "cell_type": "code",
   "execution_count": 10,
   "metadata": {
    "colab": {
     "base_uri": "https://localhost:8080/"
    },
    "executionInfo": {
     "elapsed": 235,
     "status": "ok",
     "timestamp": 1648012740952,
     "user": {
      "displayName": "minho park",
      "photoUrl": "https://lh3.googleusercontent.com/a/default-user=s64",
      "userId": "11356278266127765055"
     },
     "user_tz": -540
    },
    "id": "L1zfLeepuSwK",
    "outputId": "5a7c406b-4e89-47f6-9dab-7ab33677c5c7"
   },
   "outputs": [
    {
     "data": {
      "text/plain": [
       "1311"
      ]
     },
     "execution_count": 10,
     "metadata": {},
     "output_type": "execute_result"
    }
   ],
   "source": [
    "len(tokenizer.word_index)"
   ]
  },
  {
   "cell_type": "code",
   "execution_count": null,
   "metadata": {
    "id": "jWA7TiJDuSzD"
   },
   "outputs": [],
   "source": [
    "seq = tokenizer.texts_to_sequences(arr)\n",
    "seq"
   ]
  },
  {
   "cell_type": "code",
   "execution_count": null,
   "metadata": {
    "id": "YUeeNgPcuS2D"
   },
   "outputs": [],
   "source": [
    "lengths = [len(line) for line in seq]\n",
    "lengths"
   ]
  },
  {
   "cell_type": "code",
   "execution_count": null,
   "metadata": {
    "id": "M8f3a9QluS4r"
   },
   "outputs": [],
   "source": [
    "plt.hist(lengths, bins=50)"
   ]
  },
  {
   "cell_type": "code",
   "execution_count": 14,
   "metadata": {
    "colab": {
     "base_uri": "https://localhost:8080/"
    },
    "executionInfo": {
     "elapsed": 247,
     "status": "ok",
     "timestamp": 1648012770644,
     "user": {
      "displayName": "minho park",
      "photoUrl": "https://lh3.googleusercontent.com/a/default-user=s64",
      "userId": "11356278266127765055"
     },
     "user_tz": -540
    },
    "id": "FfCYl7v9uS7i",
    "outputId": "93dc7861-a8ae-4746-af0a-b782d9418d07"
   },
   "outputs": [
    {
     "data": {
      "text/plain": [
       "(1001, 12)"
      ]
     },
     "execution_count": 14,
     "metadata": {},
     "output_type": "execute_result"
    }
   ],
   "source": [
    "seq = pad_sequences(seq, maxlen=12)\n",
    "seq.shape"
   ]
  },
  {
   "cell_type": "code",
   "execution_count": 115,
   "metadata": {
    "executionInfo": {
     "elapsed": 9,
     "status": "ok",
     "timestamp": 1648009816317,
     "user": {
      "displayName": "minho park",
      "photoUrl": "https://lh3.googleusercontent.com/a/default-user=s64",
      "userId": "11356278266127765055"
     },
     "user_tz": -540
    },
    "id": "RxDzD8fny1OD"
   },
   "outputs": [],
   "source": []
  },
  {
   "cell_type": "code",
   "execution_count": 15,
   "metadata": {
    "executionInfo": {
     "elapsed": 253,
     "status": "ok",
     "timestamp": 1648012773497,
     "user": {
      "displayName": "minho park",
      "photoUrl": "https://lh3.googleusercontent.com/a/default-user=s64",
      "userId": "11356278266127765055"
     },
     "user_tz": -540
    },
    "id": "i0w8-Ad7y1Qz"
   },
   "outputs": [],
   "source": [
    "x = seq[:-1]\n",
    "y = seq[1:]"
   ]
  },
  {
   "cell_type": "code",
   "execution_count": 16,
   "metadata": {
    "colab": {
     "base_uri": "https://localhost:8080/"
    },
    "executionInfo": {
     "elapsed": 240,
     "status": "ok",
     "timestamp": 1648012775061,
     "user": {
      "displayName": "minho park",
      "photoUrl": "https://lh3.googleusercontent.com/a/default-user=s64",
      "userId": "11356278266127765055"
     },
     "user_tz": -540
    },
    "id": "WZqU2TDuuS-b",
    "outputId": "65f99e50-9075-46fe-9439-7dafaf3de0ba"
   },
   "outputs": [
    {
     "data": {
      "text/plain": [
       "(1000, 12)"
      ]
     },
     "execution_count": 16,
     "metadata": {},
     "output_type": "execute_result"
    }
   ],
   "source": [
    "x.shape"
   ]
  },
  {
   "cell_type": "code",
   "execution_count": 17,
   "metadata": {
    "colab": {
     "base_uri": "https://localhost:8080/"
    },
    "executionInfo": {
     "elapsed": 1,
     "status": "ok",
     "timestamp": 1648012776091,
     "user": {
      "displayName": "minho park",
      "photoUrl": "https://lh3.googleusercontent.com/a/default-user=s64",
      "userId": "11356278266127765055"
     },
     "user_tz": -540
    },
    "id": "pCPPVo1x3wKl",
    "outputId": "618977d9-6a69-4ff4-ece6-08c107da8d70"
   },
   "outputs": [
    {
     "data": {
      "text/plain": [
       "(1000, 12)"
      ]
     },
     "execution_count": 17,
     "metadata": {},
     "output_type": "execute_result"
    }
   ],
   "source": [
    "y.shape"
   ]
  },
  {
   "cell_type": "code",
   "execution_count": 18,
   "metadata": {
    "executionInfo": {
     "elapsed": 234,
     "status": "ok",
     "timestamp": 1648012783338,
     "user": {
      "displayName": "minho park",
      "photoUrl": "https://lh3.googleusercontent.com/a/default-user=s64",
      "userId": "11356278266127765055"
     },
     "user_tz": -540
    },
    "id": "j1NUEgWvuTAq"
   },
   "outputs": [],
   "source": [
    "x = x.reshape(1000, 12, 1)\n",
    "y = y.reshape(1000, 12, 1)"
   ]
  },
  {
   "cell_type": "code",
   "execution_count": 19,
   "metadata": {
    "executionInfo": {
     "elapsed": 235,
     "status": "ok",
     "timestamp": 1648012785263,
     "user": {
      "displayName": "minho park",
      "photoUrl": "https://lh3.googleusercontent.com/a/default-user=s64",
      "userId": "11356278266127765055"
     },
     "user_tz": -540
    },
    "id": "7K05Tm9q3jjl"
   },
   "outputs": [],
   "source": [
    "from tensorflow.keras.utils import to_categorical"
   ]
  },
  {
   "cell_type": "code",
   "execution_count": 20,
   "metadata": {
    "colab": {
     "base_uri": "https://localhost:8080/"
    },
    "executionInfo": {
     "elapsed": 234,
     "status": "ok",
     "timestamp": 1648012790607,
     "user": {
      "displayName": "minho park",
      "photoUrl": "https://lh3.googleusercontent.com/a/default-user=s64",
      "userId": "11356278266127765055"
     },
     "user_tz": -540
    },
    "id": "jfzWqxs63jmU",
    "outputId": "ba7fe603-3cfb-4625-db1f-1ecb891bcfe4"
   },
   "outputs": [
    {
     "data": {
      "text/plain": [
       "(1000, 12, 1312)"
      ]
     },
     "execution_count": 20,
     "metadata": {},
     "output_type": "execute_result"
    }
   ],
   "source": [
    "y_oh = to_categorical(y)\n",
    "y_oh.shape"
   ]
  },
  {
   "cell_type": "code",
   "execution_count": 21,
   "metadata": {
    "executionInfo": {
     "elapsed": 257,
     "status": "ok",
     "timestamp": 1648012801340,
     "user": {
      "displayName": "minho park",
      "photoUrl": "https://lh3.googleusercontent.com/a/default-user=s64",
      "userId": "11356278266127765055"
     },
     "user_tz": -540
    },
    "id": "yim54K7bAI4N"
   },
   "outputs": [],
   "source": [
    "# x_oh = to_categorical(x)\n",
    "# x_oh.shape"
   ]
  },
  {
   "cell_type": "code",
   "execution_count": 22,
   "metadata": {
    "colab": {
     "base_uri": "https://localhost:8080/"
    },
    "executionInfo": {
     "elapsed": 246,
     "status": "ok",
     "timestamp": 1648012803803,
     "user": {
      "displayName": "minho park",
      "photoUrl": "https://lh3.googleusercontent.com/a/default-user=s64",
      "userId": "11356278266127765055"
     },
     "user_tz": -540
    },
    "id": "IvKXieJn5YL3",
    "outputId": "39dc9dbc-7bb5-425f-fecf-d79c47fe8764"
   },
   "outputs": [
    {
     "data": {
      "text/plain": [
       "(1000, 12, 1)"
      ]
     },
     "execution_count": 22,
     "metadata": {},
     "output_type": "execute_result"
    }
   ],
   "source": [
    "x.shape"
   ]
  },
  {
   "cell_type": "code",
   "execution_count": 23,
   "metadata": {
    "colab": {
     "base_uri": "https://localhost:8080/"
    },
    "executionInfo": {
     "elapsed": 234,
     "status": "ok",
     "timestamp": 1648012805198,
     "user": {
      "displayName": "minho park",
      "photoUrl": "https://lh3.googleusercontent.com/a/default-user=s64",
      "userId": "11356278266127765055"
     },
     "user_tz": -540
    },
    "id": "vlLyBewW3jo0",
    "outputId": "de1e0526-84a8-4481-e439-da657bc7dc8c"
   },
   "outputs": [
    {
     "data": {
      "text/plain": [
       "(1000, 12, 1312)"
      ]
     },
     "execution_count": 23,
     "metadata": {},
     "output_type": "execute_result"
    }
   ],
   "source": [
    "y_oh.shape"
   ]
  },
  {
   "cell_type": "code",
   "execution_count": null,
   "metadata": {
    "id": "wyM0y3V33jrb"
   },
   "outputs": [],
   "source": [
    "model=Sequential()\n",
    "model.add(Embedding(1312, 20))\n",
    "model.add(LSTM(128, return_sequences=True))\n",
    "model.add(Dropout(0.5))\n",
    "model.add(LSTM(256, return_sequences=True))\n",
    "model.add(Dropout(0.5))\n",
    "model.add(Dense(1000, activation='softmax'))\n",
    "model.add(Dropout(0.5))\n",
    "model.add(Dense(1312, activation='softmax'))\n",
    "model.summary()"
   ]
  },
  {
   "cell_type": "code",
   "execution_count": 25,
   "metadata": {
    "executionInfo": {
     "elapsed": 256,
     "status": "ok",
     "timestamp": 1648012828973,
     "user": {
      "displayName": "minho park",
      "photoUrl": "https://lh3.googleusercontent.com/a/default-user=s64",
      "userId": "11356278266127765055"
     },
     "user_tz": -540
    },
    "id": "otkZvAEQ3jxF"
   },
   "outputs": [],
   "source": [
    "model.compile(loss='categorical_crossentropy', metrics=['accuracy'], optimizer='adam')"
   ]
  },
  {
   "cell_type": "code",
   "execution_count": null,
   "metadata": {
    "id": "PLk2PcC_3jzz"
   },
   "outputs": [],
   "source": [
    "model.fit(x, y_oh, epochs=300, batch_size=20, validation_split=0.2)"
   ]
  },
  {
   "cell_type": "code",
   "execution_count": 27,
   "metadata": {
    "executionInfo": {
     "elapsed": 836,
     "status": "ok",
     "timestamp": 1648013244048,
     "user": {
      "displayName": "minho park",
      "photoUrl": "https://lh3.googleusercontent.com/a/default-user=s64",
      "userId": "11356278266127765055"
     },
     "user_tz": -540
    },
    "id": "IFhJYD1c3j3M"
   },
   "outputs": [],
   "source": [
    "model.save('lastofus_txt.h5')"
   ]
  },
  {
   "cell_type": "code",
   "execution_count": 41,
   "metadata": {
    "colab": {
     "base_uri": "https://localhost:8080/"
    },
    "executionInfo": {
     "elapsed": 7,
     "status": "ok",
     "timestamp": 1648013395767,
     "user": {
      "displayName": "minho park",
      "photoUrl": "https://lh3.googleusercontent.com/a/default-user=s64",
      "userId": "11356278266127765055"
     },
     "user_tz": -540
    },
    "id": "RBQo331H7dlG",
    "outputId": "f3b76157-27fc-4551-c55d-4bfd06db35d5"
   },
   "outputs": [
    {
     "data": {
      "text/plain": [
       "array([[[7.4044055e-01, 1.5030812e-02, 1.1965322e-02, ...,\n",
       "         4.4882876e-07, 4.5829611e-07, 4.5327096e-07],\n",
       "        [7.2165900e-01, 1.6408185e-02, 1.2861840e-02, ...,\n",
       "         5.4278939e-07, 5.5301911e-07, 5.4837648e-07],\n",
       "        [6.7340553e-01, 1.9561367e-02, 1.5570279e-02, ...,\n",
       "         7.2471431e-07, 7.3545823e-07, 7.3046385e-07],\n",
       "        ...,\n",
       "        [6.1767444e-02, 1.7619899e-02, 1.1183922e-02, ...,\n",
       "         1.0493391e-06, 1.1005404e-06, 1.1368936e-06],\n",
       "        [6.0469225e-02, 1.7262908e-02, 1.0937021e-02, ...,\n",
       "         1.0460919e-06, 1.0985367e-06, 1.1350567e-06],\n",
       "        [6.0466390e-02, 1.7262129e-02, 1.0936484e-02, ...,\n",
       "         1.0460849e-06, 1.0985335e-06, 1.1350533e-06]]], dtype=float32)"
      ]
     },
     "execution_count": 41,
     "metadata": {},
     "output_type": "execute_result"
    }
   ],
   "source": [
    "pred = model.predict(x[30:31])\n",
    "pred"
   ]
  },
  {
   "cell_type": "code",
   "execution_count": 42,
   "metadata": {
    "colab": {
     "base_uri": "https://localhost:8080/"
    },
    "executionInfo": {
     "elapsed": 253,
     "status": "ok",
     "timestamp": 1648013397731,
     "user": {
      "displayName": "minho park",
      "photoUrl": "https://lh3.googleusercontent.com/a/default-user=s64",
      "userId": "11356278266127765055"
     },
     "user_tz": -540
    },
    "id": "JQ6mGJHj7dn4",
    "outputId": "2c45f41f-1504-43ba-9b81-1b38d343b5a8"
   },
   "outputs": [
    {
     "data": {
      "text/plain": [
       "(1, 12, 1312)"
      ]
     },
     "execution_count": 42,
     "metadata": {},
     "output_type": "execute_result"
    }
   ],
   "source": [
    "pred.shape"
   ]
  },
  {
   "cell_type": "code",
   "execution_count": 43,
   "metadata": {
    "executionInfo": {
     "elapsed": 5,
     "status": "ok",
     "timestamp": 1648013398401,
     "user": {
      "displayName": "minho park",
      "photoUrl": "https://lh3.googleusercontent.com/a/default-user=s64",
      "userId": "11356278266127765055"
     },
     "user_tz": -540
    },
    "id": "mYnX8J5B7dqs"
   },
   "outputs": [],
   "source": [
    "pred_tok = np.argmax(pred, axis=2)"
   ]
  },
  {
   "cell_type": "code",
   "execution_count": 44,
   "metadata": {
    "colab": {
     "base_uri": "https://localhost:8080/"
    },
    "executionInfo": {
     "elapsed": 7,
     "status": "ok",
     "timestamp": 1648013399402,
     "user": {
      "displayName": "minho park",
      "photoUrl": "https://lh3.googleusercontent.com/a/default-user=s64",
      "userId": "11356278266127765055"
     },
     "user_tz": -540
    },
    "id": "KtGNV4-5P11X",
    "outputId": "8b8dab0d-9c7c-4418-b107-e333ee7adc91"
   },
   "outputs": [
    {
     "data": {
      "text/plain": [
       "array([[0, 0, 0, 0, 0, 0, 0, 0, 0, 0, 0, 0]])"
      ]
     },
     "execution_count": 44,
     "metadata": {},
     "output_type": "execute_result"
    }
   ],
   "source": [
    "pred_tok"
   ]
  },
  {
   "cell_type": "code",
   "execution_count": null,
   "metadata": {
    "id": "iv5gdae37dt1"
   },
   "outputs": [],
   "source": [
    "tokenizer.word_index"
   ]
  },
  {
   "cell_type": "code",
   "execution_count": null,
   "metadata": {
    "id": "s_AIDvFZ8C-7"
   },
   "outputs": [],
   "source": [
    "idx_word = {}\n",
    "\n",
    "for w in tokenizer.word_index:\n",
    "  idx_word[tokenizer.word_index[w]] = w\n",
    "\n",
    "idx_word"
   ]
  },
  {
   "cell_type": "code",
   "execution_count": null,
   "metadata": {
    "executionInfo": {
     "elapsed": 14,
     "status": "aborted",
     "timestamp": 1648009817144,
     "user": {
      "displayName": "minho park",
      "photoUrl": "https://lh3.googleusercontent.com/a/default-user=s64",
      "userId": "11356278266127765055"
     },
     "user_tz": -540
    },
    "id": "OJrDgTL39OB8"
   },
   "outputs": [],
   "source": [
    "pred_tok"
   ]
  },
  {
   "cell_type": "code",
   "execution_count": null,
   "metadata": {
    "executionInfo": {
     "elapsed": 14,
     "status": "aborted",
     "timestamp": 1648009817144,
     "user": {
      "displayName": "minho park",
      "photoUrl": "https://lh3.googleusercontent.com/a/default-user=s64",
      "userId": "11356278266127765055"
     },
     "user_tz": -540
    },
    "id": "2TkZF1pN-Fo2"
   },
   "outputs": [],
   "source": []
  },
  {
   "cell_type": "code",
   "execution_count": 47,
   "metadata": {
    "colab": {
     "base_uri": "https://localhost:8080/",
     "height": 35
    },
    "executionInfo": {
     "elapsed": 373,
     "status": "ok",
     "timestamp": 1648013432909,
     "user": {
      "displayName": "minho park",
      "photoUrl": "https://lh3.googleusercontent.com/a/default-user=s64",
      "userId": "11356278266127765055"
     },
     "user_tz": -540
    },
    "id": "KMpwNV0r8fS1",
    "outputId": "a978e4c7-69c2-4444-b678-5f43cc2986be"
   },
   "outputs": [
    {
     "data": {
      "application/vnd.google.colaboratory.intrinsic+json": {
       "type": "string"
      },
      "text/plain": [
       "'Sarah Where the heck are you '"
      ]
     },
     "execution_count": 47,
     "metadata": {},
     "output_type": "execute_result"
    }
   ],
   "source": [
    "input_x = x[30:31]\n",
    "\n",
    "input_txt = [ t[0] for t in input_x[0]]\n",
    "\n",
    "temp = ''\n",
    "\n",
    "for t in input_txt:\n",
    "  if t != 0:\n",
    "    temp += idx_word[t]\n",
    "    temp += ' '\n",
    "temp"
   ]
  },
  {
   "cell_type": "code",
   "execution_count": 48,
   "metadata": {
    "colab": {
     "base_uri": "https://localhost:8080/",
     "height": 35
    },
    "executionInfo": {
     "elapsed": 245,
     "status": "ok",
     "timestamp": 1648013477296,
     "user": {
      "displayName": "minho park",
      "photoUrl": "https://lh3.googleusercontent.com/a/default-user=s64",
      "userId": "11356278266127765055"
     },
     "user_tz": -540
    },
    "id": "anghMSz78ahb",
    "outputId": "35a0de95-efba-495d-c24a-7652afef841c"
   },
   "outputs": [
    {
     "data": {
      "application/vnd.google.colaboratory.intrinsic+json": {
       "type": "string"
      },
      "text/plain": [
       "''"
      ]
     },
     "execution_count": 48,
     "metadata": {},
     "output_type": "execute_result"
    }
   ],
   "source": [
    "pred = model.predict(input_x)\n",
    "pred_tok = np.argmax(pred, axis=2)\n",
    "\n",
    "temp = ''\n",
    "\n",
    "for l in pred_tok:\n",
    "  for w in l:\n",
    "    if w != 0:\n",
    "      temp += idx_word[w]\n",
    "      temp += ' '\n",
    "temp\n",
    "                      "
   ]
  },
  {
   "cell_type": "code",
   "execution_count": null,
   "metadata": {
    "executionInfo": {
     "elapsed": 16,
     "status": "aborted",
     "timestamp": 1648009817146,
     "user": {
      "displayName": "minho park",
      "photoUrl": "https://lh3.googleusercontent.com/a/default-user=s64",
      "userId": "11356278266127765055"
     },
     "user_tz": -540
    },
    "id": "CLi4hlpL8fVs"
   },
   "outputs": [],
   "source": []
  },
  {
   "cell_type": "code",
   "execution_count": null,
   "metadata": {
    "executionInfo": {
     "elapsed": 16,
     "status": "aborted",
     "timestamp": 1648009817146,
     "user": {
      "displayName": "minho park",
      "photoUrl": "https://lh3.googleusercontent.com/a/default-user=s64",
      "userId": "11356278266127765055"
     },
     "user_tz": -540
    },
    "id": "pyZCzyay8fYM"
   },
   "outputs": [],
   "source": []
  },
  {
   "cell_type": "code",
   "execution_count": null,
   "metadata": {
    "executionInfo": {
     "elapsed": 17,
     "status": "aborted",
     "timestamp": 1648009817147,
     "user": {
      "displayName": "minho park",
      "photoUrl": "https://lh3.googleusercontent.com/a/default-user=s64",
      "userId": "11356278266127765055"
     },
     "user_tz": -540
    },
    "id": "5fjJvn-s8fa8"
   },
   "outputs": [],
   "source": []
  },
  {
   "cell_type": "code",
   "execution_count": null,
   "metadata": {
    "executionInfo": {
     "elapsed": 17,
     "status": "aborted",
     "timestamp": 1648009817147,
     "user": {
      "displayName": "minho park",
      "photoUrl": "https://lh3.googleusercontent.com/a/default-user=s64",
      "userId": "11356278266127765055"
     },
     "user_tz": -540
    },
    "id": "MyD2Sd5f8fdk"
   },
   "outputs": [],
   "source": []
  },
  {
   "cell_type": "code",
   "execution_count": null,
   "metadata": {
    "executionInfo": {
     "elapsed": 17,
     "status": "aborted",
     "timestamp": 1648009817147,
     "user": {
      "displayName": "minho park",
      "photoUrl": "https://lh3.googleusercontent.com/a/default-user=s64",
      "userId": "11356278266127765055"
     },
     "user_tz": -540
    },
    "id": "IPEgnjz78fgW"
   },
   "outputs": [],
   "source": []
  },
  {
   "cell_type": "code",
   "execution_count": null,
   "metadata": {
    "executionInfo": {
     "elapsed": 16,
     "status": "aborted",
     "timestamp": 1648009817147,
     "user": {
      "displayName": "minho park",
      "photoUrl": "https://lh3.googleusercontent.com/a/default-user=s64",
      "userId": "11356278266127765055"
     },
     "user_tz": -540
    },
    "id": "q36XpgNe8fiu"
   },
   "outputs": [],
   "source": []
  }
 ],
 "metadata": {
  "accelerator": "GPU",
  "colab": {
   "authorship_tag": "ABX9TyNurU0X+XtUtLp8vM0bYSeq",
   "collapsed_sections": [],
   "name": "lastofus_lstm.ipynb",
   "provenance": []
  },
  "kernelspec": {
   "display_name": "Python 3 (ipykernel)",
   "language": "python",
   "name": "python3"
  },
  "language_info": {
   "codemirror_mode": {
    "name": "ipython",
    "version": 3
   },
   "file_extension": ".py",
   "mimetype": "text/x-python",
   "name": "python",
   "nbconvert_exporter": "python",
   "pygments_lexer": "ipython3",
   "version": "3.9.7"
  },
  "varInspector": {
   "cols": {
    "lenName": 16,
    "lenType": 16,
    "lenVar": 40
   },
   "kernels_config": {
    "python": {
     "delete_cmd_postfix": "",
     "delete_cmd_prefix": "del ",
     "library": "var_list.py",
     "varRefreshCmd": "print(var_dic_list())"
    },
    "r": {
     "delete_cmd_postfix": ") ",
     "delete_cmd_prefix": "rm(",
     "library": "var_list.r",
     "varRefreshCmd": "cat(var_dic_list()) "
    }
   },
   "types_to_exclude": [
    "module",
    "function",
    "builtin_function_or_method",
    "instance",
    "_Feature"
   ],
   "window_display": false
  }
 },
 "nbformat": 4,
 "nbformat_minor": 1
}
