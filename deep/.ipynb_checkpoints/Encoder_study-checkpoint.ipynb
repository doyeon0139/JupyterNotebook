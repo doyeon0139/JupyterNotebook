{
 "cells": [
  {
   "cell_type": "code",
   "execution_count": 6,
   "id": "ecc934d0",
   "metadata": {},
   "outputs": [],
   "source": [
    "from tensorflow.keras.datasets import mnist\n",
    "from tensorflow.keras.layers import Input, Dense, Reshape, Flatten, Dropout, MaxPooling2D\n",
    "from tensorflow.keras.layers import BatchNormalization, Activation, LeakyReLU, UpSampling2D, Conv2D\n",
    "from tensorflow.keras.models import Sequential, Model"
   ]
  },
  {
   "cell_type": "code",
   "execution_count": 2,
   "id": "0445cc68",
   "metadata": {},
   "outputs": [],
   "source": [
    "import pandas as pd\n",
    "import numpy as np\n",
    "import matplotlib.pyplot as plt\n",
    "import seaborn as sns"
   ]
  },
  {
   "cell_type": "code",
   "execution_count": null,
   "id": "0f79e008",
   "metadata": {},
   "outputs": [],
   "source": [
    "# 인코더와 디코더가 합쳐진 것\n",
    "# 인코더는 데이터 압축(차원축소), 디코더는 압축풀기\n",
    "\n",
    "# 입출력이 모두 x_train => 이미지가 들어가서 동일한 이미지로 출력 \n",
    "# => 원본이미지의 압축했을때 다시 복원할 수 있을만큼 핵심특징을 가지고 있어야 출력이 가능 \n",
    "# 데이터 압축용\n",
    "# pca하듯이 데이터 챠원 축소용\n",
    "# 핵심 특징 추출용\n",
    "# 예) 데이터 측정단계에서 인코딩해서 서버에서 받아서 디코더해서 처리 => 부하가 적음"
   ]
  },
  {
   "cell_type": "code",
   "execution_count": 3,
   "id": "cb3aa4c9",
   "metadata": {},
   "outputs": [],
   "source": [
    "(x_train, _), (x_test, _) = mnist.load_data()\n",
    "x_train = x_train.reshape(x_train.shape[0], 28, 28, 1).astype('float32')/255\n",
    "x_test = x_test.reshape(x_test.shape[0], 28, 28, 1).astype('float32')/255"
   ]
  },
  {
   "cell_type": "code",
   "execution_count": 7,
   "id": "73ae3766",
   "metadata": {},
   "outputs": [
    {
     "name": "stdout",
     "output_type": "stream",
     "text": [
      "Model: \"sequential_1\"\n",
      "_________________________________________________________________\n",
      " Layer (type)                Output Shape              Param #   \n",
      "=================================================================\n",
      " conv2d_1 (Conv2D)           (None, 28, 28, 16)        160       \n",
      "                                                                 \n",
      " max_pooling2d (MaxPooling2D  (None, 14, 14, 16)       0         \n",
      " )                                                               \n",
      "                                                                 \n",
      " conv2d_2 (Conv2D)           (None, 14, 14, 8)         1160      \n",
      "                                                                 \n",
      " max_pooling2d_1 (MaxPooling  (None, 7, 7, 8)          0         \n",
      " 2D)                                                             \n",
      "                                                                 \n",
      " conv2d_3 (Conv2D)           (None, 4, 4, 8)           584       \n",
      "                                                                 \n",
      " conv2d_4 (Conv2D)           (None, 4, 4, 8)           584       \n",
      "                                                                 \n",
      " up_sampling2d (UpSampling2D  (None, 8, 8, 8)          0         \n",
      " )                                                               \n",
      "                                                                 \n",
      " conv2d_5 (Conv2D)           (None, 8, 8, 8)           584       \n",
      "                                                                 \n",
      " up_sampling2d_1 (UpSampling  (None, 16, 16, 8)        0         \n",
      " 2D)                                                             \n",
      "                                                                 \n",
      " conv2d_6 (Conv2D)           (None, 14, 14, 16)        1168      \n",
      "                                                                 \n",
      " up_sampling2d_2 (UpSampling  (None, 28, 28, 16)       0         \n",
      " 2D)                                                             \n",
      "                                                                 \n",
      " conv2d_7 (Conv2D)           (None, 28, 28, 1)         145       \n",
      "                                                                 \n",
      "=================================================================\n",
      "Total params: 4,385\n",
      "Trainable params: 4,385\n",
      "Non-trainable params: 0\n",
      "_________________________________________________________________\n"
     ]
    }
   ],
   "source": [
    "autoencoder = Sequential()\n",
    "\n",
    "autoencoder.add(Conv2D(16, kernel_size=3, padding='same', input_shape=(28,28,1), activation='relu')) # cnn\n",
    "autoencoder.add(MaxPooling2D(pool_size=2, padding='same')) # 14,14\n",
    "autoencoder.add(Conv2D(8, kernel_size=3, activation='relu', padding='same'))\n",
    "autoencoder.add(MaxPooling2D(pool_size=2, padding='same')) # 7,7\n",
    "autoencoder.add(Conv2D(8, kernel_size=3, strides=2, padding='same', activation='relu')) #strides 2칸씩 이동 4,4로됨\n",
    "\n",
    "autoencoder.add(Conv2D(8, kernel_size=3, padding='same', activation='relu')) # 4,4\n",
    "autoencoder.add(UpSampling2D()) # 8,8   - 온전하게 두배로\n",
    "autoencoder.add(Conv2D(8, kernel_size=3, padding='same', activation='relu')) # 8,8\n",
    "autoencoder.add(UpSampling2D()) # 16,16\n",
    "autoencoder.add(Conv2D(16, kernel_size=3, activation='relu')) # 14,14\n",
    "autoencoder.add(UpSampling2D()) # 28,28\n",
    "autoencoder.add(Conv2D(1, kernel_size=3, padding='same', activation='relu')) #28,28,1\n",
    "\n",
    "autoencoder.summary()\n"
   ]
  },
  {
   "cell_type": "code",
   "execution_count": 8,
   "id": "fbd8f1d6",
   "metadata": {
    "scrolled": true
   },
   "outputs": [
    {
     "name": "stdout",
     "output_type": "stream",
     "text": [
      "Epoch 1/50\n",
      "469/469 [==============================] - 11s 8ms/step - loss: 0.2308 - val_loss: 0.1925\n",
      "Epoch 2/50\n",
      "469/469 [==============================] - 3s 7ms/step - loss: 0.1853 - val_loss: 0.1722\n",
      "Epoch 3/50\n",
      "469/469 [==============================] - 3s 7ms/step - loss: 0.1689 - val_loss: 0.1877\n",
      "Epoch 4/50\n",
      "469/469 [==============================] - 3s 7ms/step - loss: 0.1832 - val_loss: 0.1749\n",
      "Epoch 5/50\n",
      "469/469 [==============================] - 3s 7ms/step - loss: 0.1652 - val_loss: 0.3555\n",
      "Epoch 6/50\n",
      "469/469 [==============================] - 3s 7ms/step - loss: 0.1970 - val_loss: 0.1700\n",
      "Epoch 7/50\n",
      "469/469 [==============================] - 3s 7ms/step - loss: 0.1646 - val_loss: 0.1555\n",
      "Epoch 8/50\n",
      "469/469 [==============================] - 3s 7ms/step - loss: 0.1543 - val_loss: 0.1884\n",
      "Epoch 9/50\n",
      "469/469 [==============================] - 3s 7ms/step - loss: 0.1895 - val_loss: 0.2344\n",
      "Epoch 10/50\n",
      "469/469 [==============================] - 3s 7ms/step - loss: 0.1736 - val_loss: 0.1549\n",
      "Epoch 11/50\n",
      "469/469 [==============================] - 3s 7ms/step - loss: 0.1960 - val_loss: 0.2167\n",
      "Epoch 12/50\n",
      "469/469 [==============================] - 3s 7ms/step - loss: 0.1814 - val_loss: 0.1627\n",
      "Epoch 13/50\n",
      "469/469 [==============================] - 3s 7ms/step - loss: 0.1577 - val_loss: 0.1498\n",
      "Epoch 14/50\n",
      "469/469 [==============================] - 3s 7ms/step - loss: 0.1490 - val_loss: 0.1439\n",
      "Epoch 15/50\n",
      "469/469 [==============================] - 3s 7ms/step - loss: 0.1618 - val_loss: 0.1448\n",
      "Epoch 16/50\n",
      "469/469 [==============================] - 3s 7ms/step - loss: 0.1460 - val_loss: 0.1388\n",
      "Epoch 17/50\n",
      "469/469 [==============================] - 3s 7ms/step - loss: 0.1387 - val_loss: 0.1353\n",
      "Epoch 18/50\n",
      "469/469 [==============================] - 3s 7ms/step - loss: 0.1484 - val_loss: 0.1431\n",
      "Epoch 19/50\n",
      "469/469 [==============================] - 3s 7ms/step - loss: 0.1517 - val_loss: 0.1951\n",
      "Epoch 20/50\n",
      "469/469 [==============================] - 3s 7ms/step - loss: 0.1528 - val_loss: 0.1614\n",
      "Epoch 21/50\n",
      "469/469 [==============================] - 3s 7ms/step - loss: 0.1762 - val_loss: 0.1501\n",
      "Epoch 22/50\n",
      "469/469 [==============================] - 3s 7ms/step - loss: 0.1475 - val_loss: 0.1351\n",
      "Epoch 23/50\n",
      "469/469 [==============================] - 3s 7ms/step - loss: 0.1360 - val_loss: 0.1299\n",
      "Epoch 24/50\n",
      "469/469 [==============================] - 3s 7ms/step - loss: 0.1440 - val_loss: 0.1307\n",
      "Epoch 25/50\n",
      "469/469 [==============================] - 3s 7ms/step - loss: 0.1754 - val_loss: 0.1691\n",
      "Epoch 26/50\n",
      "469/469 [==============================] - 3s 7ms/step - loss: 0.1449 - val_loss: 0.1304\n",
      "Epoch 27/50\n",
      "469/469 [==============================] - 3s 7ms/step - loss: 0.1331 - val_loss: 0.1382\n",
      "Epoch 28/50\n",
      "469/469 [==============================] - 3s 7ms/step - loss: 0.1730 - val_loss: 0.1642\n",
      "Epoch 29/50\n",
      "469/469 [==============================] - 3s 7ms/step - loss: 0.1508 - val_loss: 0.1520\n",
      "Epoch 30/50\n",
      "469/469 [==============================] - 3s 7ms/step - loss: 0.1686 - val_loss: 0.1494\n",
      "Epoch 31/50\n",
      "469/469 [==============================] - 3s 7ms/step - loss: 0.1417 - val_loss: 0.1339\n",
      "Epoch 32/50\n",
      "469/469 [==============================] - 3s 7ms/step - loss: 0.1396 - val_loss: 0.1294\n",
      "Epoch 33/50\n",
      "469/469 [==============================] - 3s 7ms/step - loss: 0.1546 - val_loss: 0.1374\n",
      "Epoch 34/50\n",
      "469/469 [==============================] - 3s 7ms/step - loss: 0.1366 - val_loss: 0.1284\n",
      "Epoch 35/50\n",
      "469/469 [==============================] - 3s 7ms/step - loss: 0.1301 - val_loss: 0.1251\n",
      "Epoch 36/50\n",
      "469/469 [==============================] - 3s 7ms/step - loss: 0.1338 - val_loss: 0.1295\n",
      "Epoch 37/50\n",
      "469/469 [==============================] - 3s 7ms/step - loss: 0.1253 - val_loss: 0.1219\n",
      "Epoch 38/50\n",
      "469/469 [==============================] - 3s 7ms/step - loss: 0.1294 - val_loss: 0.1226\n",
      "Epoch 39/50\n",
      "469/469 [==============================] - 3s 7ms/step - loss: 0.1260 - val_loss: 0.1201\n",
      "Epoch 40/50\n",
      "469/469 [==============================] - 3s 7ms/step - loss: 0.1391 - val_loss: 0.1306\n",
      "Epoch 41/50\n",
      "469/469 [==============================] - 3s 7ms/step - loss: 0.1258 - val_loss: 0.1245\n",
      "Epoch 42/50\n",
      "469/469 [==============================] - 3s 7ms/step - loss: 0.1275 - val_loss: 0.1217\n",
      "Epoch 43/50\n",
      "469/469 [==============================] - 3s 7ms/step - loss: 0.1212 - val_loss: 0.1172\n",
      "Epoch 44/50\n",
      "469/469 [==============================] - 3s 7ms/step - loss: 0.1556 - val_loss: 0.1335\n",
      "Epoch 45/50\n",
      "469/469 [==============================] - 3s 7ms/step - loss: 0.1316 - val_loss: 0.1266\n",
      "Epoch 46/50\n",
      "469/469 [==============================] - 3s 7ms/step - loss: 0.1284 - val_loss: 0.1200\n",
      "Epoch 47/50\n",
      "469/469 [==============================] - 3s 7ms/step - loss: 0.1310 - val_loss: 0.1317\n",
      "Epoch 48/50\n",
      "469/469 [==============================] - 3s 7ms/step - loss: 0.1313 - val_loss: 0.1190\n",
      "Epoch 49/50\n",
      "469/469 [==============================] - 3s 7ms/step - loss: 0.1439 - val_loss: 0.1745\n",
      "Epoch 50/50\n",
      "469/469 [==============================] - 3s 7ms/step - loss: 0.1308 - val_loss: 0.1188\n"
     ]
    },
    {
     "data": {
      "text/plain": [
       "<keras.callbacks.History at 0x1ef135ea0d0>"
      ]
     },
     "execution_count": 8,
     "metadata": {},
     "output_type": "execute_result"
    }
   ],
   "source": [
    "autoencoder.compile(optimizer='adam', loss='binary_crossentropy')\n",
    "autoencoder.fit(x_train, x_train, epochs=50, batch_size=128, validation_data=(x_test, x_test)) \n"
   ]
  },
  {
   "cell_type": "code",
   "execution_count": 9,
   "id": "af6d6421",
   "metadata": {},
   "outputs": [],
   "source": [
    "random_test = np.random.randint(x_test.shape[0], size=5)\n",
    "ae_img = autoencoder.predict(x_test)"
   ]
  },
  {
   "cell_type": "code",
   "execution_count": 18,
   "id": "6d6c6c82",
   "metadata": {
    "collapsed": true
   },
   "outputs": [
    {
     "ename": "TypeError",
     "evalue": "'builtin_function_or_method' object is not subscriptable",
     "output_type": "error",
     "traceback": [
      "\u001b[1;31m---------------------------------------------------------------------------\u001b[0m",
      "\u001b[1;31mTypeError\u001b[0m                                 Traceback (most recent call last)",
      "\u001b[1;32m~\\AppData\\Local\\Temp/ipykernel_500/2217477437.py\u001b[0m in \u001b[0;36m<module>\u001b[1;34m\u001b[0m\n\u001b[0;32m      3\u001b[0m \u001b[1;32mfor\u001b[0m \u001b[0mi\u001b[0m\u001b[1;33m,\u001b[0m \u001b[0mimg_idx\u001b[0m \u001b[1;32min\u001b[0m \u001b[0menumerate\u001b[0m\u001b[1;33m(\u001b[0m\u001b[0mrandom_test\u001b[0m\u001b[1;33m)\u001b[0m\u001b[1;33m:\u001b[0m\u001b[1;33m\u001b[0m\u001b[1;33m\u001b[0m\u001b[0m\n\u001b[0;32m      4\u001b[0m     \u001b[0max\u001b[0m \u001b[1;33m=\u001b[0m \u001b[0mplt\u001b[0m\u001b[1;33m.\u001b[0m\u001b[0msubplot\u001b[0m\u001b[1;33m(\u001b[0m\u001b[1;36m1\u001b[0m\u001b[1;33m,\u001b[0m\u001b[1;36m7\u001b[0m\u001b[1;33m,\u001b[0m \u001b[0mi\u001b[0m\u001b[1;33m+\u001b[0m\u001b[1;36m1\u001b[0m\u001b[1;33m)\u001b[0m\u001b[1;33m\u001b[0m\u001b[1;33m\u001b[0m\u001b[0m\n\u001b[1;32m----> 5\u001b[1;33m     \u001b[0mplt\u001b[0m\u001b[1;33m.\u001b[0m\u001b[0mimshow\u001b[0m\u001b[1;33m(\u001b[0m\u001b[0mx_test\u001b[0m\u001b[1;33m[\u001b[0m\u001b[0mimg_idx\u001b[0m\u001b[1;33m]\u001b[0m\u001b[1;33m.\u001b[0m\u001b[0mreshape\u001b[0m\u001b[1;33m[\u001b[0m\u001b[1;36m28\u001b[0m\u001b[1;33m,\u001b[0m\u001b[1;36m28\u001b[0m\u001b[1;33m]\u001b[0m\u001b[1;33m)\u001b[0m\u001b[1;33m\u001b[0m\u001b[1;33m\u001b[0m\u001b[0m\n\u001b[0m\u001b[0;32m      6\u001b[0m     \u001b[0max\u001b[0m\u001b[1;33m.\u001b[0m\u001b[0maxis\u001b[0m\u001b[1;33m(\u001b[0m\u001b[1;34m'off'\u001b[0m\u001b[1;33m)\u001b[0m\u001b[1;33m\u001b[0m\u001b[1;33m\u001b[0m\u001b[0m\n\u001b[0;32m      7\u001b[0m     \u001b[0max\u001b[0m \u001b[1;33m=\u001b[0m \u001b[0mplt\u001b[0m\u001b[1;33m.\u001b[0m\u001b[0msubplot\u001b[0m\u001b[1;33m(\u001b[0m\u001b[1;36m2\u001b[0m\u001b[1;33m,\u001b[0m\u001b[1;36m7\u001b[0m\u001b[1;33m,\u001b[0m \u001b[1;36m7\u001b[0m\u001b[1;33m+\u001b[0m\u001b[0mi\u001b[0m\u001b[1;33m+\u001b[0m\u001b[1;36m1\u001b[0m\u001b[1;33m)\u001b[0m\u001b[1;33m\u001b[0m\u001b[1;33m\u001b[0m\u001b[0m\n",
      "\u001b[1;31mTypeError\u001b[0m: 'builtin_function_or_method' object is not subscriptable"
     ]
    },
    {
     "data": {
      "image/png": "[encoded data removed]",
      "text/plain": [
       "<Figure size 504x144 with 1 Axes>"
      ]
     },
     "metadata": {
      "needs_background": "light"
     },
     "output_type": "display_data"
    }
   ],
   "source": [
    "plt.figure(figsize=(7,2))\n",
    "\n",
    "for i, img_idx in enumerate(random_test):\n",
    "    ax = plt.subplot(1,7, i+1)\n",
    "    plt.imshow(x_test[img_idx].reshape[28,28])\n",
    "    ax.axis('off')\n",
    "    ax = plt.subplot(2,7, 7+i+1)\n",
    "    plt.imshow(ae_img[img_idx].reshape(28,28))\n",
    "    ax.axis('off')\n",
    "plt"
   ]
  },
  {
   "cell_type": "code",
   "execution_count": 12,
   "id": "89a878af",
   "metadata": {
    "scrolled": true
   },
   "outputs": [
    {
     "data": {
      "text/plain": [
       "<matplotlib.image.AxesImage at 0x1efb5c6f0d0>"
      ]
     },
     "execution_count": 12,
     "metadata": {},
     "output_type": "execute_result"
    },
    {
     "data": {
      "image/png": "[encoded data removed]",
      "text/plain": [
       "<Figure size 432x288 with 1 Axes>"
      ]
     },
     "metadata": {
      "needs_background": "light"
     },
     "output_type": "display_data"
    }
   ],
   "source": [
    "plt.imshow(x_test[1185].reshape(28,28))"
   ]
  },
  {
   "cell_type": "code",
   "execution_count": 17,
   "id": "f451091b",
   "metadata": {},
   "outputs": [
    {
     "data": {
      "text/plain": [
       "<matplotlib.image.AxesImage at 0x1efb64c2eb0>"
      ]
     },
     "execution_count": 17,
     "metadata": {},
     "output_type": "execute_result"
    },
    {
     "data": {
      "image/png": "[encoded data removed]",
      "text/plain": [
       "<Figure size 432x288 with 1 Axes>"
      ]
     },
     "metadata": {
      "needs_background": "light"
     },
     "output_type": "display_data"
    }
   ],
   "source": [
    "plt.imshow(ae_img[1185].reshape(28,28))"
   ]
  },
  {
   "cell_type": "code",
   "execution_count": 11,
   "id": "c5be0cd2",
   "metadata": {},
   "outputs": [
    {
     "data": {
      "text/plain": [
       "array([3551, 3631, 7315, 5980, 4448])"
      ]
     },
     "execution_count": 11,
     "metadata": {},
     "output_type": "execute_result"
    }
   ],
   "source": [
    "random_test"
   ]
  },
  {
   "cell_type": "code",
   "execution_count": null,
   "id": "47391b1d",
   "metadata": {},
   "outputs": [],
   "source": []
  },
  {
   "cell_type": "code",
   "execution_count": null,
   "id": "e35c8220",
   "metadata": {},
   "outputs": [],
   "source": []
  },
  {
   "cell_type": "code",
   "execution_count": null,
   "id": "d13dfd13",
   "metadata": {},
   "outputs": [],
   "source": []
  },
  {
   "cell_type": "code",
   "execution_count": null,
   "id": "090a3de8",
   "metadata": {},
   "outputs": [],
   "source": []
  },
  {
   "cell_type": "code",
   "execution_count": null,
   "id": "4fd50d1d",
   "metadata": {},
   "outputs": [],
   "source": []
  },
  {
   "cell_type": "code",
   "execution_count": null,
   "id": "472de92d",
   "metadata": {},
   "outputs": [],
   "source": []
  },
  {
   "cell_type": "code",
   "execution_count": null,
   "id": "e20d3491",
   "metadata": {},
   "outputs": [],
   "source": []
  },
  {
   "cell_type": "code",
   "execution_count": null,
   "id": "b0054967",
   "metadata": {},
   "outputs": [],
   "source": []
  },
  {
   "cell_type": "code",
   "execution_count": null,
   "id": "ae813ab7",
   "metadata": {},
   "outputs": [],
   "source": []
  },
  {
   "cell_type": "code",
   "execution_count": null,
   "id": "1e35aa6a",
   "metadata": {},
   "outputs": [],
   "source": []
  },
  {
   "cell_type": "code",
   "execution_count": null,
   "id": "5af8ccce",
   "metadata": {},
   "outputs": [],
   "source": []
  },
  {
   "cell_type": "code",
   "execution_count": null,
   "id": "06e7d34e",
   "metadata": {},
   "outputs": [],
   "source": []
  },
  {
   "cell_type": "code",
   "execution_count": null,
   "id": "eb65945a",
   "metadata": {},
   "outputs": [],
   "source": []
  },
  {
   "cell_type": "code",
   "execution_count": null,
   "id": "d6d6ab36",
   "metadata": {},
   "outputs": [],
   "source": []
  },
  {
   "cell_type": "code",
   "execution_count": null,
   "id": "5607690c",
   "metadata": {},
   "outputs": [],
   "source": []
  },
  {
   "cell_type": "code",
   "execution_count": null,
   "id": "b9381a8d",
   "metadata": {},
   "outputs": [],
   "source": []
  },
  {
   "cell_type": "code",
   "execution_count": null,
   "id": "2799baf2",
   "metadata": {},
   "outputs": [],
   "source": []
  },
  {
   "cell_type": "code",
   "execution_count": null,
   "id": "e619190c",
   "metadata": {},
   "outputs": [],
   "source": []
  },
  {
   "cell_type": "code",
   "execution_count": null,
   "id": "58fda97c",
   "metadata": {},
   "outputs": [],
   "source": []
  },
  {
   "cell_type": "code",
   "execution_count": null,
   "id": "ee173802",
   "metadata": {},
   "outputs": [],
   "source": []
  },
  {
   "cell_type": "code",
   "execution_count": null,
   "id": "9bdc8f96",
   "metadata": {},
   "outputs": [],
   "source": []
  },
  {
   "cell_type": "code",
   "execution_count": null,
   "id": "b6f4b0cd",
   "metadata": {},
   "outputs": [],
   "source": []
  },
  {
   "cell_type": "code",
   "execution_count": null,
   "id": "8704e7c5",
   "metadata": {},
   "outputs": [],
   "source": []
  },
  {
   "cell_type": "code",
   "execution_count": null,
   "id": "a7065cb8",
   "metadata": {},
   "outputs": [],
   "source": []
  },
  {
   "cell_type": "code",
   "execution_count": null,
   "id": "c35ec4af",
   "metadata": {},
   "outputs": [],
   "source": []
  },
  {
   "cell_type": "code",
   "execution_count": null,
   "id": "2580fffe",
   "metadata": {},
   "outputs": [],
   "source": []
  },
  {
   "cell_type": "code",
   "execution_count": null,
   "id": "5e27ee9e",
   "metadata": {},
   "outputs": [],
   "source": []
  },
  {
   "cell_type": "code",
   "execution_count": null,
   "id": "6d1ca878",
   "metadata": {},
   "outputs": [],
   "source": []
  },
  {
   "cell_type": "code",
   "execution_count": null,
   "id": "4c913abd",
   "metadata": {},
   "outputs": [],
   "source": []
  }
 ],
 "metadata": {
  "kernelspec": {
   "display_name": "Python 3 (ipykernel)",
   "language": "python",
   "name": "python3"
  },
  "language_info": {
   "codemirror_mode": {
    "name": "ipython",
    "version": 3
   },
   "file_extension": ".py",
   "mimetype": "text/x-python",
   "name": "python",
   "nbconvert_exporter": "python",
   "pygments_lexer": "ipython3",
   "version": "3.9.7"
  },
  "varInspector": {
   "cols": {
    "lenName": 16,
    "lenType": 16,
    "lenVar": 40
   },
   "kernels_config": {
    "python": {
     "delete_cmd_postfix": "",
     "delete_cmd_prefix": "del ",
     "library": "var_list.py",
     "varRefreshCmd": "print(var_dic_list())"
    },
    "r": {
     "delete_cmd_postfix": ") ",
     "delete_cmd_prefix": "rm(",
     "library": "var_list.r",
     "varRefreshCmd": "cat(var_dic_list()) "
    }
   },
   "types_to_exclude": [
    "module",
    "function",
    "builtin_function_or_method",
    "instance",
    "_Feature"
   ],
   "window_display": false
  }
 },
 "nbformat": 4,
 "nbformat_minor": 5
}
