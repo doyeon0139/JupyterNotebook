{
 "cells": [
  {
   "cell_type": "code",
   "execution_count": 1,
   "id": "c137668b",
   "metadata": {},
   "outputs": [],
   "source": [
    "import pandas as pd\n",
    "import numpy as np\n",
    "import matplotlib.pyplot as plt\n",
    "import seaborn as sns"
   ]
  },
  {
   "cell_type": "code",
   "execution_count": 3,
   "id": "6b935217",
   "metadata": {
    "collapsed": true
   },
   "outputs": [
    {
     "name": "stdout",
     "output_type": "stream",
     "text": [
      "Collecting afinn\n",
      "  Downloading afinn-0.1.tar.gz (52 kB)\n",
      "Building wheels for collected packages: afinn\n",
      "  Building wheel for afinn (setup.py): started\n",
      "  Building wheel for afinn (setup.py): finished with status 'done'\n",
      "  Created wheel for afinn: filename=afinn-0.1-py3-none-any.whl size=53448 sha256=75f6b20a5c2a28373338869a7524d1c60d9720b5d45a4449f113b7787622d8fc\n",
      "  Stored in directory: c:\\users\\bitcamp\\appdata\\local\\pip\\cache\\wheels\\9d\\16\\3a\\9f0953027434eab5dadf3f33ab3298fa95afa8292fcf7aba75\n",
      "Successfully built afinn\n",
      "Installing collected packages: afinn\n",
      "Successfully installed afinn-0.1\n"
     ]
    }
   ],
   "source": [
    "# !pip install afinn"
   ]
  },
  {
   "cell_type": "code",
   "execution_count": 2,
   "id": "9e35f9fb",
   "metadata": {},
   "outputs": [],
   "source": [
    "from afinn import Afinn\n",
    "from nltk.corpus import stopwords\n",
    "from nltk.stem.porter import PorterStemmer\n",
    "from nltk.tokenize import RegexpTokenizer"
   ]
  },
  {
   "cell_type": "code",
   "execution_count": null,
   "id": "6adf8320",
   "metadata": {},
   "outputs": [],
   "source": [
    "# google drive\n",
    "\n",
    "# aclimdb - neg_1, pos_1\n",
    "# NRC.txt"
   ]
  },
  {
   "cell_type": "code",
   "execution_count": 3,
   "id": "cdb66213",
   "metadata": {},
   "outputs": [],
   "source": [
    "import glob"
   ]
  },
  {
   "cell_type": "code",
   "execution_count": 11,
   "id": "d2a68995",
   "metadata": {},
   "outputs": [],
   "source": [
    "pos_reviews = glob.glob('pos/pos_1/*.txt')"
   ]
  },
  {
   "cell_type": "code",
   "execution_count": 8,
   "id": "b71accc0",
   "metadata": {},
   "outputs": [],
   "source": [
    "neg_reviews = glob.glob('neg/neg_1/*.txt')"
   ]
  },
  {
   "cell_type": "code",
   "execution_count": 12,
   "id": "37de3ad7",
   "metadata": {},
   "outputs": [],
   "source": [
    "pos_reviews = glob.glob('./pos_1/pos_1/*.txt')\n",
    "neg_reviewsg = glob.glob('./neg_1/neg_1/*.txt')"
   ]
  },
  {
   "cell_type": "code",
   "execution_count": 14,
   "id": "41e37685",
   "metadata": {},
   "outputs": [
    {
     "name": "stdout",
     "output_type": "stream",
     "text": [
      "Critics need to review what they class as a quality movie. I think the critics have seen too many actions films and have succumbed to the Matrix style of films. Europa is a breath of fresh air, a film with so many layers that one viewing is not enough to understand or appreciate this outstanding film. Lars von Trier shows that old styles of filming can produce marvellous cinema and build drama and tension. The back projection effect he uses during the film arouses and enhances the characters, and the focus of the conversation they are having. Other effects he uses such as the colour and black and white in one scene much like Hitchcock and the girl with the red coat grabs attention and enhances the drama and meaning of the scene. The commentary is superb and has a hypnotic effect, again maintaining the focus on the central characters in the scene and there actions.<br /><br />I could talk about the effects more but I think you all would agree they push this film into a category of its own, and really heighten the drama of the film. A film to buy if you don't own already and one to see if you have not.<br /><br />10/10 Don't miss this artistic noir film from one of the great film directors.\n"
     ]
    }
   ],
   "source": [
    "f=open(pos_reviews[20], 'r')\n",
    "pos_text = f.read()\n",
    "print(pos_text)"
   ]
  },
  {
   "cell_type": "code",
   "execution_count": null,
   "id": "5cfcf4c8",
   "metadata": {},
   "outputs": [],
   "source": []
  },
  {
   "cell_type": "code",
   "execution_count": 15,
   "id": "40fc589c",
   "metadata": {},
   "outputs": [
    {
     "ename": "SyntaxError",
     "evalue": "EOL while scanning string literal (Temp/ipykernel_1820/959425037.py, line 3)",
     "output_type": "error",
     "traceback": [
      "\u001b[1;36m  File \u001b[1;32m\"C:\\Users\\bitcamp\\AppData\\Local\\Temp/ipykernel_1820/959425037.py\"\u001b[1;36m, line \u001b[1;32m3\u001b[0m\n\u001b[1;33m    print(neg_\"text)\u001b[0m\n\u001b[1;37m                    ^\u001b[0m\n\u001b[1;31mSyntaxError\u001b[0m\u001b[1;31m:\u001b[0m EOL while scanning string literal\n"
     ]
    }
   ],
   "source": [
    "f=open(neg_reviews[20], 'r')\n",
    "neg_text = f.read()\n",
    "print(neg_\"text)"
   ]
  },
  {
   "cell_type": "code",
   "execution_count": null,
   "id": "2e4d1ac8",
   "metadata": {},
   "outputs": [],
   "source": []
  },
  {
   "cell_type": "code",
   "execution_count": 20,
   "id": "0f2e3062",
   "metadata": {},
   "outputs": [],
   "source": [
    "afinn = Afinn()"
   ]
  },
  {
   "cell_type": "code",
   "execution_count": 21,
   "id": "741f1d6e",
   "metadata": {},
   "outputs": [
    {
     "data": {
      "text/plain": [
       "14.0"
      ]
     },
     "execution_count": 21,
     "metadata": {},
     "output_type": "execute_result"
    }
   ],
   "source": [
    "afinn.score(pos_text)  # -15 ~ 20"
   ]
  },
  {
   "cell_type": "code",
   "execution_count": 22,
   "id": "dac44b0d",
   "metadata": {},
   "outputs": [
    {
     "data": {
      "text/plain": [
       "-12.0"
      ]
     },
     "execution_count": 22,
     "metadata": {},
     "output_type": "execute_result"
    }
   ],
   "source": [
    "afinn.score(neg_text)"
   ]
  },
  {
   "cell_type": "code",
   "execution_count": null,
   "id": "3401e399",
   "metadata": {},
   "outputs": [],
   "source": []
  },
  {
   "cell_type": "code",
   "execution_count": null,
   "id": "536d5db4",
   "metadata": {},
   "outputs": [],
   "source": [
    "# 감성어사전 - NRC"
   ]
  },
  {
   "cell_type": "code",
   "execution_count": 23,
   "id": "1ccf0710",
   "metadata": {},
   "outputs": [],
   "source": [
    "nrc = pd.read_csv('./data_files/NRC.txt', engine='python', header=None, sep='\\t')"
   ]
  },
  {
   "cell_type": "code",
   "execution_count": 24,
   "id": "07ea89c5",
   "metadata": {
    "collapsed": true
   },
   "outputs": [
    {
     "data": {
      "text/html": [
       "<div>\n",
       "<style scoped>\n",
       "    .dataframe tbody tr th:only-of-type {\n",
       "        vertical-align: middle;\n",
       "    }\n",
       "\n",
       "    .dataframe tbody tr th {\n",
       "        vertical-align: top;\n",
       "    }\n",
       "\n",
       "    .dataframe thead th {\n",
       "        text-align: right;\n",
       "    }\n",
       "</style>\n",
       "<table border=\"1\" class=\"dataframe\">\n",
       "  <thead>\n",
       "    <tr style=\"text-align: right;\">\n",
       "      <th></th>\n",
       "      <th>0</th>\n",
       "      <th>1</th>\n",
       "      <th>2</th>\n",
       "    </tr>\n",
       "  </thead>\n",
       "  <tbody>\n",
       "    <tr>\n",
       "      <th>0</th>\n",
       "      <td>aback</td>\n",
       "      <td>anger</td>\n",
       "      <td>0</td>\n",
       "    </tr>\n",
       "    <tr>\n",
       "      <th>1</th>\n",
       "      <td>aback</td>\n",
       "      <td>anticipation</td>\n",
       "      <td>0</td>\n",
       "    </tr>\n",
       "    <tr>\n",
       "      <th>2</th>\n",
       "      <td>aback</td>\n",
       "      <td>disgust</td>\n",
       "      <td>0</td>\n",
       "    </tr>\n",
       "    <tr>\n",
       "      <th>3</th>\n",
       "      <td>aback</td>\n",
       "      <td>fear</td>\n",
       "      <td>0</td>\n",
       "    </tr>\n",
       "    <tr>\n",
       "      <th>4</th>\n",
       "      <td>aback</td>\n",
       "      <td>joy</td>\n",
       "      <td>0</td>\n",
       "    </tr>\n",
       "    <tr>\n",
       "      <th>...</th>\n",
       "      <td>...</td>\n",
       "      <td>...</td>\n",
       "      <td>...</td>\n",
       "    </tr>\n",
       "    <tr>\n",
       "      <th>141815</th>\n",
       "      <td>zoom</td>\n",
       "      <td>negative</td>\n",
       "      <td>0</td>\n",
       "    </tr>\n",
       "    <tr>\n",
       "      <th>141816</th>\n",
       "      <td>zoom</td>\n",
       "      <td>positive</td>\n",
       "      <td>0</td>\n",
       "    </tr>\n",
       "    <tr>\n",
       "      <th>141817</th>\n",
       "      <td>zoom</td>\n",
       "      <td>sadness</td>\n",
       "      <td>0</td>\n",
       "    </tr>\n",
       "    <tr>\n",
       "      <th>141818</th>\n",
       "      <td>zoom</td>\n",
       "      <td>surprise</td>\n",
       "      <td>0</td>\n",
       "    </tr>\n",
       "    <tr>\n",
       "      <th>141819</th>\n",
       "      <td>zoom</td>\n",
       "      <td>trust</td>\n",
       "      <td>0</td>\n",
       "    </tr>\n",
       "  </tbody>\n",
       "</table>\n",
       "<p>141820 rows × 3 columns</p>\n",
       "</div>"
      ],
      "text/plain": [
       "            0             1  2\n",
       "0       aback         anger  0\n",
       "1       aback  anticipation  0\n",
       "2       aback       disgust  0\n",
       "3       aback          fear  0\n",
       "4       aback           joy  0\n",
       "...       ...           ... ..\n",
       "141815   zoom      negative  0\n",
       "141816   zoom      positive  0\n",
       "141817   zoom       sadness  0\n",
       "141818   zoom      surprise  0\n",
       "141819   zoom         trust  0\n",
       "\n",
       "[141820 rows x 3 columns]"
      ]
     },
     "execution_count": 24,
     "metadata": {},
     "output_type": "execute_result"
    }
   ],
   "source": [
    "nrc"
   ]
  },
  {
   "cell_type": "code",
   "execution_count": 26,
   "id": "017faf24",
   "metadata": {
    "collapsed": true
   },
   "outputs": [
    {
     "data": {
      "text/plain": [
       "anger           14182\n",
       "anticipation    14182\n",
       "disgust         14182\n",
       "fear            14182\n",
       "joy             14182\n",
       "negative        14182\n",
       "positive        14182\n",
       "sadness         14182\n",
       "surprise        14182\n",
       "trust           14182\n",
       "Name: 1, dtype: int64"
      ]
     },
     "execution_count": 26,
     "metadata": {},
     "output_type": "execute_result"
    }
   ],
   "source": [
    "nrc.iloc[:, 1].value_counts()"
   ]
  },
  {
   "cell_type": "code",
   "execution_count": 28,
   "id": "512b4889",
   "metadata": {},
   "outputs": [
    {
     "data": {
      "text/plain": [
       "14181"
      ]
     },
     "execution_count": 28,
     "metadata": {},
     "output_type": "execute_result"
    }
   ],
   "source": [
    "len(nrc.iloc[:, 0].value_counts())"
   ]
  },
  {
   "cell_type": "code",
   "execution_count": null,
   "id": "2a5e93f7",
   "metadata": {},
   "outputs": [],
   "source": []
  },
  {
   "cell_type": "code",
   "execution_count": 33,
   "id": "18e8aed6",
   "metadata": {},
   "outputs": [],
   "source": [
    "nrc = nrc[(nrc != 0).all(1)]"
   ]
  },
  {
   "cell_type": "code",
   "execution_count": null,
   "id": "cd06f0cf",
   "metadata": {},
   "outputs": [],
   "source": []
  },
  {
   "cell_type": "code",
   "execution_count": 36,
   "id": "997edeaa",
   "metadata": {
    "collapsed": true
   },
   "outputs": [
    {
     "data": {
      "text/html": [
       "<div>\n",
       "<style scoped>\n",
       "    .dataframe tbody tr th:only-of-type {\n",
       "        vertical-align: middle;\n",
       "    }\n",
       "\n",
       "    .dataframe tbody tr th {\n",
       "        vertical-align: top;\n",
       "    }\n",
       "\n",
       "    .dataframe thead th {\n",
       "        text-align: right;\n",
       "    }\n",
       "</style>\n",
       "<table border=\"1\" class=\"dataframe\">\n",
       "  <thead>\n",
       "    <tr style=\"text-align: right;\">\n",
       "      <th></th>\n",
       "      <th>0</th>\n",
       "      <th>1</th>\n",
       "      <th>2</th>\n",
       "    </tr>\n",
       "  </thead>\n",
       "  <tbody>\n",
       "    <tr>\n",
       "      <th>57871</th>\n",
       "      <td>happy</td>\n",
       "      <td>anticipation</td>\n",
       "      <td>1</td>\n",
       "    </tr>\n",
       "    <tr>\n",
       "      <th>57874</th>\n",
       "      <td>happy</td>\n",
       "      <td>joy</td>\n",
       "      <td>1</td>\n",
       "    </tr>\n",
       "    <tr>\n",
       "      <th>57876</th>\n",
       "      <td>happy</td>\n",
       "      <td>positive</td>\n",
       "      <td>1</td>\n",
       "    </tr>\n",
       "    <tr>\n",
       "      <th>57879</th>\n",
       "      <td>happy</td>\n",
       "      <td>trust</td>\n",
       "      <td>1</td>\n",
       "    </tr>\n",
       "  </tbody>\n",
       "</table>\n",
       "</div>"
      ],
      "text/plain": [
       "           0             1  2\n",
       "57871  happy  anticipation  1\n",
       "57874  happy           joy  1\n",
       "57876  happy      positive  1\n",
       "57879  happy         trust  1"
      ]
     },
     "execution_count": 36,
     "metadata": {},
     "output_type": "execute_result"
    }
   ],
   "source": [
    "nrc[nrc[0] == 'happy']"
   ]
  },
  {
   "cell_type": "code",
   "execution_count": 37,
   "id": "d6dc2018",
   "metadata": {
    "collapsed": true
   },
   "outputs": [
    {
     "data": {
      "text/html": [
       "<div>\n",
       "<style scoped>\n",
       "    .dataframe tbody tr th:only-of-type {\n",
       "        vertical-align: middle;\n",
       "    }\n",
       "\n",
       "    .dataframe tbody tr th {\n",
       "        vertical-align: top;\n",
       "    }\n",
       "\n",
       "    .dataframe thead th {\n",
       "        text-align: right;\n",
       "    }\n",
       "</style>\n",
       "<table border=\"1\" class=\"dataframe\">\n",
       "  <thead>\n",
       "    <tr style=\"text-align: right;\">\n",
       "      <th></th>\n",
       "      <th>0</th>\n",
       "      <th>1</th>\n",
       "      <th>2</th>\n",
       "    </tr>\n",
       "  </thead>\n",
       "  <tbody>\n",
       "    <tr>\n",
       "      <th>36260</th>\n",
       "      <td>disaster</td>\n",
       "      <td>anger</td>\n",
       "      <td>1</td>\n",
       "    </tr>\n",
       "    <tr>\n",
       "      <th>36262</th>\n",
       "      <td>disaster</td>\n",
       "      <td>disgust</td>\n",
       "      <td>1</td>\n",
       "    </tr>\n",
       "    <tr>\n",
       "      <th>36263</th>\n",
       "      <td>disaster</td>\n",
       "      <td>fear</td>\n",
       "      <td>1</td>\n",
       "    </tr>\n",
       "    <tr>\n",
       "      <th>36265</th>\n",
       "      <td>disaster</td>\n",
       "      <td>negative</td>\n",
       "      <td>1</td>\n",
       "    </tr>\n",
       "    <tr>\n",
       "      <th>36267</th>\n",
       "      <td>disaster</td>\n",
       "      <td>sadness</td>\n",
       "      <td>1</td>\n",
       "    </tr>\n",
       "    <tr>\n",
       "      <th>36268</th>\n",
       "      <td>disaster</td>\n",
       "      <td>surprise</td>\n",
       "      <td>1</td>\n",
       "    </tr>\n",
       "  </tbody>\n",
       "</table>\n",
       "</div>"
      ],
      "text/plain": [
       "              0         1  2\n",
       "36260  disaster     anger  1\n",
       "36262  disaster   disgust  1\n",
       "36263  disaster      fear  1\n",
       "36265  disaster  negative  1\n",
       "36267  disaster   sadness  1\n",
       "36268  disaster  surprise  1"
      ]
     },
     "execution_count": 37,
     "metadata": {},
     "output_type": "execute_result"
    }
   ],
   "source": [
    "nrc[nrc[0] == 'disaster']"
   ]
  },
  {
   "cell_type": "code",
   "execution_count": 40,
   "id": "2f7a77c7",
   "metadata": {
    "collapsed": true
   },
   "outputs": [
    {
     "data": {
      "text/html": [
       "<div>\n",
       "<style scoped>\n",
       "    .dataframe tbody tr th:only-of-type {\n",
       "        vertical-align: middle;\n",
       "    }\n",
       "\n",
       "    .dataframe tbody tr th {\n",
       "        vertical-align: top;\n",
       "    }\n",
       "\n",
       "    .dataframe thead th {\n",
       "        text-align: right;\n",
       "    }\n",
       "</style>\n",
       "<table border=\"1\" class=\"dataframe\">\n",
       "  <thead>\n",
       "    <tr style=\"text-align: right;\">\n",
       "      <th></th>\n",
       "      <th>0</th>\n",
       "      <th>1</th>\n",
       "      <th>2</th>\n",
       "    </tr>\n",
       "  </thead>\n",
       "  <tbody>\n",
       "    <tr>\n",
       "      <th>0</th>\n",
       "      <td>abacus</td>\n",
       "      <td>trust</td>\n",
       "      <td>1</td>\n",
       "    </tr>\n",
       "    <tr>\n",
       "      <th>1</th>\n",
       "      <td>abandon</td>\n",
       "      <td>fear</td>\n",
       "      <td>1</td>\n",
       "    </tr>\n",
       "    <tr>\n",
       "      <th>2</th>\n",
       "      <td>abandon</td>\n",
       "      <td>negative</td>\n",
       "      <td>1</td>\n",
       "    </tr>\n",
       "    <tr>\n",
       "      <th>3</th>\n",
       "      <td>abandon</td>\n",
       "      <td>sadness</td>\n",
       "      <td>1</td>\n",
       "    </tr>\n",
       "    <tr>\n",
       "      <th>4</th>\n",
       "      <td>abandoned</td>\n",
       "      <td>anger</td>\n",
       "      <td>1</td>\n",
       "    </tr>\n",
       "    <tr>\n",
       "      <th>...</th>\n",
       "      <td>...</td>\n",
       "      <td>...</td>\n",
       "      <td>...</td>\n",
       "    </tr>\n",
       "    <tr>\n",
       "      <th>13896</th>\n",
       "      <td>zest</td>\n",
       "      <td>anticipation</td>\n",
       "      <td>1</td>\n",
       "    </tr>\n",
       "    <tr>\n",
       "      <th>13897</th>\n",
       "      <td>zest</td>\n",
       "      <td>joy</td>\n",
       "      <td>1</td>\n",
       "    </tr>\n",
       "    <tr>\n",
       "      <th>13898</th>\n",
       "      <td>zest</td>\n",
       "      <td>positive</td>\n",
       "      <td>1</td>\n",
       "    </tr>\n",
       "    <tr>\n",
       "      <th>13899</th>\n",
       "      <td>zest</td>\n",
       "      <td>trust</td>\n",
       "      <td>1</td>\n",
       "    </tr>\n",
       "    <tr>\n",
       "      <th>13900</th>\n",
       "      <td>zip</td>\n",
       "      <td>negative</td>\n",
       "      <td>1</td>\n",
       "    </tr>\n",
       "  </tbody>\n",
       "</table>\n",
       "<p>13901 rows × 3 columns</p>\n",
       "</div>"
      ],
      "text/plain": [
       "               0             1  2\n",
       "0         abacus         trust  1\n",
       "1        abandon          fear  1\n",
       "2        abandon      negative  1\n",
       "3        abandon       sadness  1\n",
       "4      abandoned         anger  1\n",
       "...          ...           ... ..\n",
       "13896       zest  anticipation  1\n",
       "13897       zest           joy  1\n",
       "13898       zest      positive  1\n",
       "13899       zest         trust  1\n",
       "13900        zip      negative  1\n",
       "\n",
       "[13901 rows x 3 columns]"
      ]
     },
     "execution_count": 40,
     "metadata": {},
     "output_type": "execute_result"
    }
   ],
   "source": [
    "nrc = nrc.reset_index(drop=True)\n",
    "nrc"
   ]
  },
  {
   "cell_type": "code",
   "execution_count": null,
   "id": "ad4919ed",
   "metadata": {},
   "outputs": [],
   "source": []
  },
  {
   "cell_type": "code",
   "execution_count": 45,
   "id": "b5ae8c95",
   "metadata": {},
   "outputs": [],
   "source": [
    "lines1 = pos_text"
   ]
  },
  {
   "cell_type": "code",
   "execution_count": 43,
   "id": "f66c5532",
   "metadata": {},
   "outputs": [],
   "source": [
    "stopwords = stopwords.words('english')"
   ]
  },
  {
   "cell_type": "code",
   "execution_count": 47,
   "id": "2725e013",
   "metadata": {},
   "outputs": [],
   "source": [
    "tokenizer = RegexpTokenizer('[\\w]+')"
   ]
  },
  {
   "cell_type": "code",
   "execution_count": 44,
   "id": "5751d47a",
   "metadata": {},
   "outputs": [],
   "source": [
    "p_stemmer = PorterStemmer()"
   ]
  },
  {
   "cell_type": "code",
   "execution_count": null,
   "id": "a675a6f4",
   "metadata": {},
   "outputs": [],
   "source": []
  },
  {
   "cell_type": "code",
   "execution_count": 48,
   "id": "dc189a54",
   "metadata": {
    "collapsed": true
   },
   "outputs": [
    {
     "data": {
      "text/plain": [
       "['critics',\n",
       " 'need',\n",
       " 'review',\n",
       " 'class',\n",
       " 'quality',\n",
       " 'movie',\n",
       " 'think',\n",
       " 'critics',\n",
       " 'seen',\n",
       " 'many',\n",
       " 'actions',\n",
       " 'films',\n",
       " 'succumbed',\n",
       " 'matrix',\n",
       " 'style',\n",
       " 'films',\n",
       " 'europa',\n",
       " 'breath',\n",
       " 'fresh',\n",
       " 'air',\n",
       " 'film',\n",
       " 'many',\n",
       " 'layers',\n",
       " 'one',\n",
       " 'viewing',\n",
       " 'enough',\n",
       " 'understand',\n",
       " 'appreciate',\n",
       " 'outstanding',\n",
       " 'film',\n",
       " 'lars',\n",
       " 'von',\n",
       " 'trier',\n",
       " 'shows',\n",
       " 'old',\n",
       " 'styles',\n",
       " 'filming',\n",
       " 'produce',\n",
       " 'marvellous',\n",
       " 'cinema',\n",
       " 'build',\n",
       " 'drama',\n",
       " 'tension',\n",
       " 'back',\n",
       " 'projection',\n",
       " 'effect',\n",
       " 'uses',\n",
       " 'film',\n",
       " 'arouses',\n",
       " 'enhances',\n",
       " 'characters',\n",
       " 'focus',\n",
       " 'conversation',\n",
       " 'effects',\n",
       " 'uses',\n",
       " 'colour',\n",
       " 'black',\n",
       " 'white',\n",
       " 'one',\n",
       " 'scene',\n",
       " 'much',\n",
       " 'like',\n",
       " 'hitchcock',\n",
       " 'girl',\n",
       " 'red',\n",
       " 'coat',\n",
       " 'grabs',\n",
       " 'attention',\n",
       " 'enhances',\n",
       " 'drama',\n",
       " 'meaning',\n",
       " 'scene',\n",
       " 'commentary',\n",
       " 'superb',\n",
       " 'hypnotic',\n",
       " 'effect',\n",
       " 'maintaining',\n",
       " 'focus',\n",
       " 'central',\n",
       " 'characters',\n",
       " 'scene',\n",
       " 'actions',\n",
       " 'br',\n",
       " 'br',\n",
       " 'could',\n",
       " 'talk',\n",
       " 'effects',\n",
       " 'think',\n",
       " 'would',\n",
       " 'agree',\n",
       " 'push',\n",
       " 'film',\n",
       " 'category',\n",
       " 'really',\n",
       " 'heighten',\n",
       " 'drama',\n",
       " 'film',\n",
       " 'film',\n",
       " 'buy',\n",
       " 'already',\n",
       " 'one',\n",
       " 'see',\n",
       " 'br',\n",
       " 'br',\n",
       " '10',\n",
       " '10',\n",
       " 'miss',\n",
       " 'artistic',\n",
       " 'noir',\n",
       " 'film',\n",
       " 'one',\n",
       " 'great',\n",
       " 'film',\n",
       " 'directors']"
      ]
     },
     "execution_count": 48,
     "metadata": {},
     "output_type": "execute_result"
    }
   ],
   "source": [
    "raw = lines1.lower()\n",
    "tokens = tokenizer.tokenize(raw)\n",
    "stopped_tokens = [i for i in tokens if not i in stopwords]\n",
    "stopped_tokens"
   ]
  },
  {
   "cell_type": "code",
   "execution_count": 50,
   "id": "c6f2c3aa",
   "metadata": {
    "collapsed": true
   },
   "outputs": [
    {
     "data": {
      "text/plain": [
       "['outstanding',\n",
       " 'build',\n",
       " 'tension',\n",
       " 'focus',\n",
       " 'black',\n",
       " 'white',\n",
       " 'attention',\n",
       " 'superb',\n",
       " 'focus',\n",
       " 'talk',\n",
       " 'agree',\n",
       " 'heighten',\n",
       " 'artistic']"
      ]
     },
     "execution_count": 50,
     "metadata": {},
     "output_type": "execute_result"
    }
   ],
   "source": [
    "match_tokens = [x for x in stopped_tokens if x in list(nrc[0])]\n",
    "match_tokens"
   ]
  },
  {
   "cell_type": "code",
   "execution_count": 52,
   "id": "1e1d7a9a",
   "metadata": {
    "collapsed": true
   },
   "outputs": [
    {
     "data": {
      "text/plain": [
       "['joy',\n",
       " 'negative',\n",
       " 'positive',\n",
       " 'positive',\n",
       " 'anger',\n",
       " 'positive',\n",
       " 'negative',\n",
       " 'sadness',\n",
       " 'anticipation',\n",
       " 'joy',\n",
       " 'positive',\n",
       " 'trust',\n",
       " 'positive',\n",
       " 'positive',\n",
       " 'positive',\n",
       " 'positive',\n",
       " 'positive',\n",
       " 'fear',\n",
       " 'negative',\n",
       " 'positive']"
      ]
     },
     "execution_count": 52,
     "metadata": {},
     "output_type": "execute_result"
    }
   ],
   "source": [
    "emotion = []\n",
    "\n",
    "for i in match_tokens:\n",
    "    em_word = nrc[nrc[0] == i][1].values\n",
    "    for j in em_word:\n",
    "        emotion.append(j)\n",
    "        \n",
    "emotion"
   ]
  },
  {
   "cell_type": "code",
   "execution_count": 54,
   "id": "77bad4b1",
   "metadata": {},
   "outputs": [
    {
     "data": {
      "text/plain": [
       "positive        10\n",
       "negative         3\n",
       "joy              2\n",
       "anger            1\n",
       "sadness          1\n",
       "anticipation     1\n",
       "trust            1\n",
       "fear             1\n",
       "dtype: int64"
      ]
     },
     "execution_count": 54,
     "metadata": {},
     "output_type": "execute_result"
    }
   ],
   "source": [
    "sent_result = pd.Series(emotion).value_counts()\n",
    "sent_result"
   ]
  },
  {
   "cell_type": "code",
   "execution_count": 59,
   "id": "125f0f24",
   "metadata": {},
   "outputs": [],
   "source": [
    "def emotion_score(series):\n",
    "    \n",
    "    emot_score = 0\n",
    "    \n",
    "    for j in range(len(series)):\n",
    "        \n",
    "        if series.index[j] in ('positive', 'anticipation', 'trust','joy', 'surprise'):\n",
    "            emot_score += series.iloc[j]\n",
    "        else:\n",
    "            emot_score -= series.iloc[j]\n",
    "            \n",
    "    return emot_score"
   ]
  },
  {
   "cell_type": "code",
   "execution_count": 60,
   "id": "08b496fe",
   "metadata": {},
   "outputs": [
    {
     "data": {
      "text/plain": [
       "8"
      ]
     },
     "execution_count": 60,
     "metadata": {},
     "output_type": "execute_result"
    }
   ],
   "source": [
    "emotion_score(sent_result)"
   ]
  },
  {
   "cell_type": "code",
   "execution_count": null,
   "id": "80348fa7",
   "metadata": {},
   "outputs": [],
   "source": []
  },
  {
   "cell_type": "code",
   "execution_count": 62,
   "id": "0d8f3818",
   "metadata": {},
   "outputs": [
    {
     "data": {
      "text/plain": [
       "-2"
      ]
     },
     "execution_count": 62,
     "metadata": {},
     "output_type": "execute_result"
    }
   ],
   "source": [
    "lines2 = neg_text\n",
    "\n",
    "raw = lines2.lower()\n",
    "tokens = tokenizer.tokenize(raw)\n",
    "stopped_tokens = [i for i in tokens if not i in stopwords]\n",
    "match_tokens = [x for x in stopped_tokens if x in list(nrc[0])]\n",
    "\n",
    "emotion = []\n",
    "for i in match_tokens:\n",
    "    em_word = nrc[nrc[0] == i][1].values\n",
    "    for j in em_word:\n",
    "        emotion.append(j)\n",
    "        \n",
    "sent_result = pd.Series(emotion).value_counts()\n",
    "\n",
    "emotion_score(sent_result)"
   ]
  },
  {
   "cell_type": "code",
   "execution_count": null,
   "id": "6b515c67",
   "metadata": {},
   "outputs": [],
   "source": []
  },
  {
   "cell_type": "code",
   "execution_count": null,
   "id": "8b006c8b",
   "metadata": {},
   "outputs": [],
   "source": []
  },
  {
   "cell_type": "code",
   "execution_count": null,
   "id": "88a0443c",
   "metadata": {},
   "outputs": [],
   "source": []
  },
  {
   "cell_type": "code",
   "execution_count": null,
   "id": "88276c3d",
   "metadata": {},
   "outputs": [],
   "source": []
  }
 ],
 "metadata": {
  "kernelspec": {
   "display_name": "Python 3 (ipykernel)",
   "language": "python",
   "name": "python3"
  },
  "language_info": {
   "codemirror_mode": {
    "name": "ipython",
    "version": 3
   },
   "file_extension": ".py",
   "mimetype": "text/x-python",
   "name": "python",
   "nbconvert_exporter": "python",
   "pygments_lexer": "ipython3",
   "version": "3.9.7"
  },
  "varInspector": {
   "cols": {
    "lenName": 16,
    "lenType": 16,
    "lenVar": 40
   },
   "kernels_config": {
    "python": {
     "delete_cmd_postfix": "",
     "delete_cmd_prefix": "del ",
     "library": "var_list.py",
     "varRefreshCmd": "print(var_dic_list())"
    },
    "r": {
     "delete_cmd_postfix": ") ",
     "delete_cmd_prefix": "rm(",
     "library": "var_list.r",
     "varRefreshCmd": "cat(var_dic_list()) "
    }
   },
   "types_to_exclude": [
    "module",
    "function",
    "builtin_function_or_method",
    "instance",
    "_Feature"
   ],
   "window_display": false
  }
 },
 "nbformat": 4,
 "nbformat_minor": 5
}
