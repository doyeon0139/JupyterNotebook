{
 "cells": [
  {
   "cell_type": "code",
   "execution_count": 1,
   "id": "6acfa6b9",
   "metadata": {},
   "outputs": [],
   "source": [
    "import pandas as pd\n",
    "import numpy as np\n",
    "import matplotlib.pyplot as plt\n",
    "import seaborn as sns"
   ]
  },
  {
   "cell_type": "code",
   "execution_count": 2,
   "id": "7c937a6a",
   "metadata": {},
   "outputs": [],
   "source": [
    "from tensorflow.keras.models import Sequential\n",
    "from tensorflow.keras.layers import Dense\n",
    "import tensorflow as tf\n",
    "\n",
    "from sklearn.preprocessing import LabelEncoder"
   ]
  },
  {
   "cell_type": "code",
   "execution_count": 4,
   "id": "a2da9b40",
   "metadata": {},
   "outputs": [
    {
     "data": {
      "text/html": [
       "<div>\n",
       "<style scoped>\n",
       "    .dataframe tbody tr th:only-of-type {\n",
       "        vertical-align: middle;\n",
       "    }\n",
       "\n",
       "    .dataframe tbody tr th {\n",
       "        vertical-align: top;\n",
       "    }\n",
       "\n",
       "    .dataframe thead th {\n",
       "        text-align: right;\n",
       "    }\n",
       "</style>\n",
       "<table border=\"1\" class=\"dataframe\">\n",
       "  <thead>\n",
       "    <tr style=\"text-align: right;\">\n",
       "      <th></th>\n",
       "      <th>0</th>\n",
       "      <th>1</th>\n",
       "      <th>2</th>\n",
       "      <th>3</th>\n",
       "      <th>4</th>\n",
       "      <th>5</th>\n",
       "      <th>6</th>\n",
       "      <th>7</th>\n",
       "      <th>8</th>\n",
       "      <th>9</th>\n",
       "      <th>10</th>\n",
       "      <th>11</th>\n",
       "      <th>12</th>\n",
       "    </tr>\n",
       "  </thead>\n",
       "  <tbody>\n",
       "    <tr>\n",
       "      <th>0</th>\n",
       "      <td>7.4</td>\n",
       "      <td>0.70</td>\n",
       "      <td>0.00</td>\n",
       "      <td>1.9</td>\n",
       "      <td>0.076</td>\n",
       "      <td>11.0</td>\n",
       "      <td>34.0</td>\n",
       "      <td>0.9978</td>\n",
       "      <td>3.51</td>\n",
       "      <td>0.56</td>\n",
       "      <td>9.4</td>\n",
       "      <td>5</td>\n",
       "      <td>1</td>\n",
       "    </tr>\n",
       "    <tr>\n",
       "      <th>1</th>\n",
       "      <td>7.8</td>\n",
       "      <td>0.88</td>\n",
       "      <td>0.00</td>\n",
       "      <td>2.6</td>\n",
       "      <td>0.098</td>\n",
       "      <td>25.0</td>\n",
       "      <td>67.0</td>\n",
       "      <td>0.9968</td>\n",
       "      <td>3.20</td>\n",
       "      <td>0.68</td>\n",
       "      <td>9.8</td>\n",
       "      <td>5</td>\n",
       "      <td>1</td>\n",
       "    </tr>\n",
       "    <tr>\n",
       "      <th>2</th>\n",
       "      <td>7.8</td>\n",
       "      <td>0.76</td>\n",
       "      <td>0.04</td>\n",
       "      <td>2.3</td>\n",
       "      <td>0.092</td>\n",
       "      <td>15.0</td>\n",
       "      <td>54.0</td>\n",
       "      <td>0.9970</td>\n",
       "      <td>3.26</td>\n",
       "      <td>0.65</td>\n",
       "      <td>9.8</td>\n",
       "      <td>5</td>\n",
       "      <td>1</td>\n",
       "    </tr>\n",
       "    <tr>\n",
       "      <th>3</th>\n",
       "      <td>11.2</td>\n",
       "      <td>0.28</td>\n",
       "      <td>0.56</td>\n",
       "      <td>1.9</td>\n",
       "      <td>0.075</td>\n",
       "      <td>17.0</td>\n",
       "      <td>60.0</td>\n",
       "      <td>0.9980</td>\n",
       "      <td>3.16</td>\n",
       "      <td>0.58</td>\n",
       "      <td>9.8</td>\n",
       "      <td>6</td>\n",
       "      <td>1</td>\n",
       "    </tr>\n",
       "    <tr>\n",
       "      <th>4</th>\n",
       "      <td>7.4</td>\n",
       "      <td>0.70</td>\n",
       "      <td>0.00</td>\n",
       "      <td>1.9</td>\n",
       "      <td>0.076</td>\n",
       "      <td>11.0</td>\n",
       "      <td>34.0</td>\n",
       "      <td>0.9978</td>\n",
       "      <td>3.51</td>\n",
       "      <td>0.56</td>\n",
       "      <td>9.4</td>\n",
       "      <td>5</td>\n",
       "      <td>1</td>\n",
       "    </tr>\n",
       "  </tbody>\n",
       "</table>\n",
       "</div>"
      ],
      "text/plain": [
       "     0     1     2    3      4     5     6       7     8     9    10  11  12\n",
       "0   7.4  0.70  0.00  1.9  0.076  11.0  34.0  0.9978  3.51  0.56  9.4   5   1\n",
       "1   7.8  0.88  0.00  2.6  0.098  25.0  67.0  0.9968  3.20  0.68  9.8   5   1\n",
       "2   7.8  0.76  0.04  2.3  0.092  15.0  54.0  0.9970  3.26  0.65  9.8   5   1\n",
       "3  11.2  0.28  0.56  1.9  0.075  17.0  60.0  0.9980  3.16  0.58  9.8   6   1\n",
       "4   7.4  0.70  0.00  1.9  0.076  11.0  34.0  0.9978  3.51  0.56  9.4   5   1"
      ]
     },
     "execution_count": 4,
     "metadata": {},
     "output_type": "execute_result"
    }
   ],
   "source": [
    "df = pd.read_csv('./deep_data/wine.csv', header=None)\n",
    "df.head()"
   ]
  },
  {
   "cell_type": "code",
   "execution_count": 5,
   "id": "aad4e13f",
   "metadata": {},
   "outputs": [
    {
     "name": "stdout",
     "output_type": "stream",
     "text": [
      "<class 'pandas.core.frame.DataFrame'>\n",
      "RangeIndex: 6497 entries, 0 to 6496\n",
      "Data columns (total 13 columns):\n",
      " #   Column  Non-Null Count  Dtype  \n",
      "---  ------  --------------  -----  \n",
      " 0   0       6497 non-null   float64\n",
      " 1   1       6497 non-null   float64\n",
      " 2   2       6497 non-null   float64\n",
      " 3   3       6497 non-null   float64\n",
      " 4   4       6497 non-null   float64\n",
      " 5   5       6497 non-null   float64\n",
      " 6   6       6497 non-null   float64\n",
      " 7   7       6497 non-null   float64\n",
      " 8   8       6497 non-null   float64\n",
      " 9   9       6497 non-null   float64\n",
      " 10  10      6497 non-null   float64\n",
      " 11  11      6497 non-null   int64  \n",
      " 12  12      6497 non-null   int64  \n",
      "dtypes: float64(11), int64(2)\n",
      "memory usage: 660.0 KB\n"
     ]
    }
   ],
   "source": [
    "df.info()"
   ]
  },
  {
   "cell_type": "code",
   "execution_count": 13,
   "id": "001e9130",
   "metadata": {},
   "outputs": [
    {
     "data": {
      "text/plain": [
       "0    4898\n",
       "1    1599\n",
       "Name: 12, dtype: int64"
      ]
     },
     "execution_count": 13,
     "metadata": {},
     "output_type": "execute_result"
    }
   ],
   "source": [
    "df.iloc[:,12].value_counts()"
   ]
  },
  {
   "cell_type": "code",
   "execution_count": null,
   "id": "a410ae1f",
   "metadata": {},
   "outputs": [],
   "source": [
    "# binary classification, multi classfication 두가지 방식으로 nural network model을 만들고 학습시킨후 평가점수 내기"
   ]
  },
  {
   "cell_type": "code",
   "execution_count": 7,
   "id": "dbf9798c",
   "metadata": {},
   "outputs": [],
   "source": [
    "x = df.values[:,:12]\n",
    "y = df.values[:,12]"
   ]
  },
  {
   "cell_type": "code",
   "execution_count": 14,
   "id": "241566d4",
   "metadata": {},
   "outputs": [
    {
     "data": {
      "text/plain": [
       "(6497, 12)"
      ]
     },
     "execution_count": 14,
     "metadata": {},
     "output_type": "execute_result"
    }
   ],
   "source": [
    "x.shape"
   ]
  },
  {
   "cell_type": "code",
   "execution_count": 23,
   "id": "6b1a3669",
   "metadata": {},
   "outputs": [
    {
     "name": "stdout",
     "output_type": "stream",
     "text": [
      "Model: \"sequential_4\"\n",
      "_________________________________________________________________\n",
      " Layer (type)                Output Shape              Param #   \n",
      "=================================================================\n",
      " dense_10 (Dense)            (None, 12)                156       \n",
      "                                                                 \n",
      " dense_11 (Dense)            (None, 6)                 78        \n",
      "                                                                 \n",
      " dense_12 (Dense)            (None, 1)                 7         \n",
      "                                                                 \n",
      "=================================================================\n",
      "Total params: 241\n",
      "Trainable params: 241\n",
      "Non-trainable params: 0\n",
      "_________________________________________________________________\n"
     ]
    }
   ],
   "source": [
    "model = Sequential()\n",
    "model.add(Dense(12, activation='relu', input_dim=12))\n",
    "model.add(Dense(6, activation='relu'))\n",
    "model.add(Dense(1, activation='sigmoid'))\n",
    "model.summary()"
   ]
  },
  {
   "cell_type": "code",
   "execution_count": 24,
   "id": "1b992afb",
   "metadata": {},
   "outputs": [],
   "source": [
    "model.compile(loss='binary_crossentropy', metrics=['accuracy'], optimizer='adam')"
   ]
  },
  {
   "cell_type": "code",
   "execution_count": 25,
   "id": "5424e8d0",
   "metadata": {
    "scrolled": true
   },
   "outputs": [
    {
     "name": "stdout",
     "output_type": "stream",
     "text": [
      "Epoch 1/50\n",
      "650/650 [==============================] - 3s 4ms/step - loss: 0.9329 - accuracy: 0.7473\n",
      "Epoch 2/50\n",
      "650/650 [==============================] - 2s 4ms/step - loss: 0.2672 - accuracy: 0.8940\n",
      "Epoch 3/50\n",
      "650/650 [==============================] - 2s 3ms/step - loss: 0.2059 - accuracy: 0.9327\n",
      "Epoch 4/50\n",
      "650/650 [==============================] - 2s 3ms/step - loss: 0.1868 - accuracy: 0.9357\n",
      "Epoch 5/50\n",
      "650/650 [==============================] - 2s 3ms/step - loss: 0.1753 - accuracy: 0.9412\n",
      "Epoch 6/50\n",
      "650/650 [==============================] - 2s 3ms/step - loss: 0.1650 - accuracy: 0.9440\n",
      "Epoch 7/50\n",
      "650/650 [==============================] - 2s 3ms/step - loss: 0.1535 - accuracy: 0.9474\n",
      "Epoch 8/50\n",
      "650/650 [==============================] - 2s 3ms/step - loss: 0.1408 - accuracy: 0.9492\n",
      "Epoch 9/50\n",
      "650/650 [==============================] - 2s 3ms/step - loss: 0.1276 - accuracy: 0.9543\n",
      "Epoch 10/50\n",
      "650/650 [==============================] - 2s 3ms/step - loss: 0.1173 - accuracy: 0.9574\n",
      "Epoch 11/50\n",
      "650/650 [==============================] - 2s 3ms/step - loss: 0.1026 - accuracy: 0.9649\n",
      "Epoch 12/50\n",
      "650/650 [==============================] - 2s 3ms/step - loss: 0.0915 - accuracy: 0.9708\n",
      "Epoch 13/50\n",
      "650/650 [==============================] - 2s 3ms/step - loss: 0.0877 - accuracy: 0.9708\n",
      "Epoch 14/50\n",
      "650/650 [==============================] - 2s 3ms/step - loss: 0.0819 - accuracy: 0.9732\n",
      "Epoch 15/50\n",
      "650/650 [==============================] - 2s 4ms/step - loss: 0.0812 - accuracy: 0.9738\n",
      "Epoch 16/50\n",
      "650/650 [==============================] - 2s 3ms/step - loss: 0.0759 - accuracy: 0.9752\n",
      "Epoch 17/50\n",
      "650/650 [==============================] - 2s 3ms/step - loss: 0.0739 - accuracy: 0.9752\n",
      "Epoch 18/50\n",
      "650/650 [==============================] - 2s 3ms/step - loss: 0.0738 - accuracy: 0.9783\n",
      "Epoch 19/50\n",
      "650/650 [==============================] - 2s 3ms/step - loss: 0.0712 - accuracy: 0.9778\n",
      "Epoch 20/50\n",
      "650/650 [==============================] - 2s 3ms/step - loss: 0.0687 - accuracy: 0.9789\n",
      "Epoch 21/50\n",
      "650/650 [==============================] - 2s 3ms/step - loss: 0.0684 - accuracy: 0.9783\n",
      "Epoch 22/50\n",
      "650/650 [==============================] - 2s 3ms/step - loss: 0.0718 - accuracy: 0.9772\n",
      "Epoch 23/50\n",
      "650/650 [==============================] - 2s 3ms/step - loss: 0.0677 - accuracy: 0.9798\n",
      "Epoch 24/50\n",
      "650/650 [==============================] - 2s 3ms/step - loss: 0.0661 - accuracy: 0.9792\n",
      "Epoch 25/50\n",
      "650/650 [==============================] - 2s 3ms/step - loss: 0.0642 - accuracy: 0.9791\n",
      "Epoch 26/50\n",
      "650/650 [==============================] - 2s 3ms/step - loss: 0.0654 - accuracy: 0.9808\n",
      "Epoch 27/50\n",
      "650/650 [==============================] - 2s 3ms/step - loss: 0.0642 - accuracy: 0.9817\n",
      "Epoch 28/50\n",
      "650/650 [==============================] - 2s 3ms/step - loss: 0.0625 - accuracy: 0.9801\n",
      "Epoch 29/50\n",
      "650/650 [==============================] - 2s 3ms/step - loss: 0.0626 - accuracy: 0.9805\n",
      "Epoch 30/50\n",
      "650/650 [==============================] - 2s 3ms/step - loss: 0.0644 - accuracy: 0.9792\n",
      "Epoch 31/50\n",
      "650/650 [==============================] - 2s 3ms/step - loss: 0.0616 - accuracy: 0.9818\n",
      "Epoch 32/50\n",
      "650/650 [==============================] - 2s 3ms/step - loss: 0.0621 - accuracy: 0.9808\n",
      "Epoch 33/50\n",
      "650/650 [==============================] - 2s 3ms/step - loss: 0.0615 - accuracy: 0.9815\n",
      "Epoch 34/50\n",
      "650/650 [==============================] - 2s 3ms/step - loss: 0.0639 - accuracy: 0.9792\n",
      "Epoch 35/50\n",
      "650/650 [==============================] - 2s 3ms/step - loss: 0.0686 - accuracy: 0.9794\n",
      "Epoch 36/50\n",
      "650/650 [==============================] - 2s 3ms/step - loss: 0.0619 - accuracy: 0.9809\n",
      "Epoch 37/50\n",
      "650/650 [==============================] - 2s 3ms/step - loss: 0.0644 - accuracy: 0.9801\n",
      "Epoch 38/50\n",
      "650/650 [==============================] - 2s 3ms/step - loss: 0.0612 - accuracy: 0.9831\n",
      "Epoch 39/50\n",
      "650/650 [==============================] - 2s 3ms/step - loss: 0.0629 - accuracy: 0.9794\n",
      "Epoch 40/50\n",
      "650/650 [==============================] - 2s 3ms/step - loss: 0.0589 - accuracy: 0.9820\n",
      "Epoch 41/50\n",
      "650/650 [==============================] - 2s 3ms/step - loss: 0.0595 - accuracy: 0.9809\n",
      "Epoch 42/50\n",
      "650/650 [==============================] - 2s 3ms/step - loss: 0.0632 - accuracy: 0.9801\n",
      "Epoch 43/50\n",
      "650/650 [==============================] - 2s 3ms/step - loss: 0.0569 - accuracy: 0.9818\n",
      "Epoch 44/50\n",
      "650/650 [==============================] - 2s 3ms/step - loss: 0.0615 - accuracy: 0.9811\n",
      "Epoch 45/50\n",
      "650/650 [==============================] - 2s 3ms/step - loss: 0.0580 - accuracy: 0.9837\n",
      "Epoch 46/50\n",
      "650/650 [==============================] - 2s 3ms/step - loss: 0.0623 - accuracy: 0.9814\n",
      "Epoch 47/50\n",
      "650/650 [==============================] - 2s 3ms/step - loss: 0.0627 - accuracy: 0.9801\n",
      "Epoch 48/50\n",
      "650/650 [==============================] - 2s 4ms/step - loss: 0.0568 - accuracy: 0.9817\n",
      "Epoch 49/50\n",
      "650/650 [==============================] - 2s 3ms/step - loss: 0.0588 - accuracy: 0.9821\n",
      "Epoch 50/50\n",
      "650/650 [==============================] - 2s 3ms/step - loss: 0.0597 - accuracy: 0.9826\n"
     ]
    },
    {
     "data": {
      "text/plain": [
       "<keras.callbacks.History at 0x137b26985e0>"
      ]
     },
     "execution_count": 25,
     "metadata": {},
     "output_type": "execute_result"
    }
   ],
   "source": [
    "model.fit(x_train,y_train, epochs=50, batch_size=10)"
   ]
  },
  {
   "cell_type": "code",
   "execution_count": null,
   "id": "8b25bd58",
   "metadata": {},
   "outputs": [],
   "source": []
  },
  {
   "cell_type": "code",
   "execution_count": 44,
   "id": "df837c7c",
   "metadata": {},
   "outputs": [],
   "source": [
    "y_oh = tf.keras.utils.to_categorical(y)"
   ]
  },
  {
   "cell_type": "code",
   "execution_count": 45,
   "id": "4c626fdc",
   "metadata": {},
   "outputs": [],
   "source": [
    "from sklearn.model_selection import train_test_split\n",
    "x_train, x_test, y_train, y_test = train_test_split(x.astype(float), y_oh)"
   ]
  },
  {
   "cell_type": "code",
   "execution_count": 35,
   "id": "750acd12",
   "metadata": {},
   "outputs": [],
   "source": [
    "model = Sequential()\n",
    "model.add(Dense(24, activation='relu', input_dim=12))\n",
    "model.add(Dense(12, activation='relu'))\n",
    "model.add(Dense(6, activation='relu'))\n",
    "model.add(Dense(2, activation='softmax'))"
   ]
  },
  {
   "cell_type": "code",
   "execution_count": 36,
   "id": "9b6f1896",
   "metadata": {},
   "outputs": [],
   "source": [
    "model.compile(loss='categorical_crossentropy', metrics=['accuracy'], optimizer='adam')"
   ]
  },
  {
   "cell_type": "code",
   "execution_count": 37,
   "id": "dc289130",
   "metadata": {
    "collapsed": true
   },
   "outputs": [
    {
     "name": "stdout",
     "output_type": "stream",
     "text": [
      "Epoch 1/50\n",
      "488/488 [==============================] - 2s 4ms/step - loss: 0.3282 - accuracy: 0.8922\n",
      "Epoch 2/50\n",
      "488/488 [==============================] - 1s 3ms/step - loss: 0.1855 - accuracy: 0.9347\n",
      "Epoch 3/50\n",
      "488/488 [==============================] - 2s 3ms/step - loss: 0.1580 - accuracy: 0.9425\n",
      "Epoch 4/50\n",
      "488/488 [==============================] - 2s 3ms/step - loss: 0.1376 - accuracy: 0.9501\n",
      "Epoch 5/50\n",
      "488/488 [==============================] - 2s 3ms/step - loss: 0.1277 - accuracy: 0.9534\n",
      "Epoch 6/50\n",
      "488/488 [==============================] - 1s 3ms/step - loss: 0.1189 - accuracy: 0.9571\n",
      "Epoch 7/50\n",
      "488/488 [==============================] - 2s 3ms/step - loss: 0.1094 - accuracy: 0.9604\n",
      "Epoch 8/50\n",
      "488/488 [==============================] - 1s 3ms/step - loss: 0.1024 - accuracy: 0.9667\n",
      "Epoch 9/50\n",
      "488/488 [==============================] - 1s 3ms/step - loss: 0.0974 - accuracy: 0.9678\n",
      "Epoch 10/50\n",
      "488/488 [==============================] - 2s 3ms/step - loss: 0.0970 - accuracy: 0.9686\n",
      "Epoch 11/50\n",
      "488/488 [==============================] - 2s 3ms/step - loss: 0.0898 - accuracy: 0.9700\n",
      "Epoch 12/50\n",
      "488/488 [==============================] - 2s 3ms/step - loss: 0.0869 - accuracy: 0.9704\n",
      "Epoch 13/50\n",
      "488/488 [==============================] - 2s 3ms/step - loss: 0.0851 - accuracy: 0.9721\n",
      "Epoch 14/50\n",
      "488/488 [==============================] - 2s 3ms/step - loss: 0.0799 - accuracy: 0.9731\n",
      "Epoch 15/50\n",
      "488/488 [==============================] - 1s 3ms/step - loss: 0.0784 - accuracy: 0.9723\n",
      "Epoch 16/50\n",
      "488/488 [==============================] - 1s 3ms/step - loss: 0.0821 - accuracy: 0.9731\n",
      "Epoch 17/50\n",
      "488/488 [==============================] - 2s 3ms/step - loss: 0.0816 - accuracy: 0.9731\n",
      "Epoch 18/50\n",
      "488/488 [==============================] - 2s 3ms/step - loss: 0.0752 - accuracy: 0.9754\n",
      "Epoch 19/50\n",
      "488/488 [==============================] - 2s 3ms/step - loss: 0.0774 - accuracy: 0.9758\n",
      "Epoch 20/50\n",
      "488/488 [==============================] - 2s 3ms/step - loss: 0.0697 - accuracy: 0.9768\n",
      "Epoch 21/50\n",
      "488/488 [==============================] - 2s 3ms/step - loss: 0.0740 - accuracy: 0.9764\n",
      "Epoch 22/50\n",
      "488/488 [==============================] - 1s 3ms/step - loss: 0.0706 - accuracy: 0.9770\n",
      "Epoch 23/50\n",
      "488/488 [==============================] - 2s 3ms/step - loss: 0.0700 - accuracy: 0.9772\n",
      "Epoch 24/50\n",
      "488/488 [==============================] - 1s 3ms/step - loss: 0.0679 - accuracy: 0.9795\n",
      "Epoch 25/50\n",
      "488/488 [==============================] - 1s 3ms/step - loss: 0.0725 - accuracy: 0.9772\n",
      "Epoch 26/50\n",
      "488/488 [==============================] - 2s 3ms/step - loss: 0.0701 - accuracy: 0.9780\n",
      "Epoch 27/50\n",
      "488/488 [==============================] - 2s 3ms/step - loss: 0.0647 - accuracy: 0.9801\n",
      "Epoch 28/50\n",
      "488/488 [==============================] - 2s 3ms/step - loss: 0.0666 - accuracy: 0.9807\n",
      "Epoch 29/50\n",
      "488/488 [==============================] - 1s 3ms/step - loss: 0.0662 - accuracy: 0.9787\n",
      "Epoch 30/50\n",
      "488/488 [==============================] - 1s 3ms/step - loss: 0.0715 - accuracy: 0.9770\n",
      "Epoch 31/50\n",
      "488/488 [==============================] - 1s 3ms/step - loss: 0.0697 - accuracy: 0.9770\n",
      "Epoch 32/50\n",
      "488/488 [==============================] - 1s 3ms/step - loss: 0.0674 - accuracy: 0.9784\n",
      "Epoch 33/50\n",
      "488/488 [==============================] - 1s 3ms/step - loss: 0.0647 - accuracy: 0.9799\n",
      "Epoch 34/50\n",
      "488/488 [==============================] - 1s 3ms/step - loss: 0.0592 - accuracy: 0.9819\n",
      "Epoch 35/50\n",
      "488/488 [==============================] - 1s 3ms/step - loss: 0.0663 - accuracy: 0.9795\n",
      "Epoch 36/50\n",
      "488/488 [==============================] - 1s 3ms/step - loss: 0.0597 - accuracy: 0.9801\n",
      "Epoch 37/50\n",
      "488/488 [==============================] - 1s 3ms/step - loss: 0.0668 - accuracy: 0.9799\n",
      "Epoch 38/50\n",
      "488/488 [==============================] - 1s 3ms/step - loss: 0.0587 - accuracy: 0.9819\n",
      "Epoch 39/50\n",
      "488/488 [==============================] - 1s 3ms/step - loss: 0.0639 - accuracy: 0.9791\n",
      "Epoch 40/50\n",
      "488/488 [==============================] - 1s 3ms/step - loss: 0.0623 - accuracy: 0.9793\n",
      "Epoch 41/50\n",
      "488/488 [==============================] - 2s 3ms/step - loss: 0.0589 - accuracy: 0.9805\n",
      "Epoch 42/50\n",
      "488/488 [==============================] - 2s 3ms/step - loss: 0.0593 - accuracy: 0.9801\n",
      "Epoch 43/50\n",
      "488/488 [==============================] - 2s 3ms/step - loss: 0.0566 - accuracy: 0.9819\n",
      "Epoch 44/50\n",
      "488/488 [==============================] - 1s 3ms/step - loss: 0.0634 - accuracy: 0.9795\n",
      "Epoch 45/50\n",
      "488/488 [==============================] - 1s 3ms/step - loss: 0.0589 - accuracy: 0.9807\n",
      "Epoch 46/50\n",
      "488/488 [==============================] - 2s 3ms/step - loss: 0.0636 - accuracy: 0.9813\n",
      "Epoch 47/50\n",
      "488/488 [==============================] - 1s 3ms/step - loss: 0.0598 - accuracy: 0.9795\n",
      "Epoch 48/50\n",
      "488/488 [==============================] - 2s 3ms/step - loss: 0.0562 - accuracy: 0.9819\n",
      "Epoch 49/50\n",
      "488/488 [==============================] - 2s 3ms/step - loss: 0.0576 - accuracy: 0.9817\n",
      "Epoch 50/50\n",
      "488/488 [==============================] - 2s 3ms/step - loss: 0.0555 - accuracy: 0.9832\n"
     ]
    },
    {
     "data": {
      "text/plain": [
       "<keras.callbacks.History at 0x137aec61400>"
      ]
     },
     "execution_count": 37,
     "metadata": {},
     "output_type": "execute_result"
    }
   ],
   "source": [
    "model.fit(x_train,y_train, epochs=50, batch_size=10)"
   ]
  },
  {
   "cell_type": "code",
   "execution_count": 32,
   "id": "f51adb1e",
   "metadata": {
    "collapsed": true
   },
   "outputs": [
    {
     "name": "stdout",
     "output_type": "stream",
     "text": [
      "Epoch 1/50\n",
      "488/488 [==============================] - 2s 4ms/step - loss: 0.0478 - accuracy: 0.9862\n",
      "Epoch 2/50\n",
      "488/488 [==============================] - 2s 3ms/step - loss: 0.0453 - accuracy: 0.9881\n",
      "Epoch 3/50\n",
      "488/488 [==============================] - 1s 3ms/step - loss: 0.0409 - accuracy: 0.9877\n",
      "Epoch 4/50\n",
      "488/488 [==============================] - 1s 3ms/step - loss: 0.0489 - accuracy: 0.9846\n",
      "Epoch 5/50\n",
      "488/488 [==============================] - 1s 3ms/step - loss: 0.0479 - accuracy: 0.9858\n",
      "Epoch 6/50\n",
      "488/488 [==============================] - 1s 3ms/step - loss: 0.0408 - accuracy: 0.9879\n",
      "Epoch 7/50\n",
      "488/488 [==============================] - 1s 3ms/step - loss: 0.0438 - accuracy: 0.9867\n",
      "Epoch 8/50\n",
      "488/488 [==============================] - 2s 3ms/step - loss: 0.0415 - accuracy: 0.9877\n",
      "Epoch 9/50\n",
      "488/488 [==============================] - 1s 3ms/step - loss: 0.0402 - accuracy: 0.9887\n",
      "Epoch 10/50\n",
      "488/488 [==============================] - 1s 3ms/step - loss: 0.0471 - accuracy: 0.9862\n",
      "Epoch 11/50\n",
      "488/488 [==============================] - 1s 3ms/step - loss: 0.0372 - accuracy: 0.9897\n",
      "Epoch 12/50\n",
      "488/488 [==============================] - 2s 3ms/step - loss: 0.0407 - accuracy: 0.9895\n",
      "Epoch 13/50\n",
      "488/488 [==============================] - 2s 3ms/step - loss: 0.0395 - accuracy: 0.9881\n",
      "Epoch 14/50\n",
      "488/488 [==============================] - 2s 3ms/step - loss: 0.0371 - accuracy: 0.9901\n",
      "Epoch 15/50\n",
      "488/488 [==============================] - 2s 3ms/step - loss: 0.0398 - accuracy: 0.9891\n",
      "Epoch 16/50\n",
      "488/488 [==============================] - 1s 3ms/step - loss: 0.0443 - accuracy: 0.9867\n",
      "Epoch 17/50\n",
      "488/488 [==============================] - 1s 3ms/step - loss: 0.0431 - accuracy: 0.9873\n",
      "Epoch 18/50\n",
      "488/488 [==============================] - 2s 3ms/step - loss: 0.0373 - accuracy: 0.9897\n",
      "Epoch 19/50\n",
      "488/488 [==============================] - 1s 3ms/step - loss: 0.0417 - accuracy: 0.9885\n",
      "Epoch 20/50\n",
      "488/488 [==============================] - 2s 3ms/step - loss: 0.0399 - accuracy: 0.9887\n",
      "Epoch 21/50\n",
      "488/488 [==============================] - 1s 3ms/step - loss: 0.0388 - accuracy: 0.9901\n",
      "Epoch 22/50\n",
      "488/488 [==============================] - 1s 3ms/step - loss: 0.0399 - accuracy: 0.9883\n",
      "Epoch 23/50\n",
      "488/488 [==============================] - 1s 3ms/step - loss: 0.0417 - accuracy: 0.9885\n",
      "Epoch 24/50\n",
      "488/488 [==============================] - 1s 3ms/step - loss: 0.0403 - accuracy: 0.9879\n",
      "Epoch 25/50\n",
      "488/488 [==============================] - 1s 3ms/step - loss: 0.0437 - accuracy: 0.9867\n",
      "Epoch 26/50\n",
      "488/488 [==============================] - 1s 3ms/step - loss: 0.0409 - accuracy: 0.9867\n",
      "Epoch 27/50\n",
      "488/488 [==============================] - 1s 3ms/step - loss: 0.0400 - accuracy: 0.9887\n",
      "Epoch 28/50\n",
      "488/488 [==============================] - 1s 3ms/step - loss: 0.0366 - accuracy: 0.9910\n",
      "Epoch 29/50\n",
      "488/488 [==============================] - 1s 3ms/step - loss: 0.0385 - accuracy: 0.9889\n",
      "Epoch 30/50\n",
      "488/488 [==============================] - 1s 3ms/step - loss: 0.0377 - accuracy: 0.9889\n",
      "Epoch 31/50\n",
      "488/488 [==============================] - 1s 3ms/step - loss: 0.0542 - accuracy: 0.9850\n",
      "Epoch 32/50\n",
      "488/488 [==============================] - 1s 3ms/step - loss: 0.0400 - accuracy: 0.9889\n",
      "Epoch 33/50\n",
      "488/488 [==============================] - 1s 3ms/step - loss: 0.0359 - accuracy: 0.9889\n",
      "Epoch 34/50\n",
      "488/488 [==============================] - 1s 3ms/step - loss: 0.0375 - accuracy: 0.9889\n",
      "Epoch 35/50\n",
      "488/488 [==============================] - 1s 3ms/step - loss: 0.0359 - accuracy: 0.9895\n",
      "Epoch 36/50\n",
      "488/488 [==============================] - 1s 3ms/step - loss: 0.0380 - accuracy: 0.9879\n",
      "Epoch 37/50\n",
      "488/488 [==============================] - 1s 3ms/step - loss: 0.0342 - accuracy: 0.9906\n",
      "Epoch 38/50\n",
      "488/488 [==============================] - 1s 3ms/step - loss: 0.0381 - accuracy: 0.9887\n",
      "Epoch 39/50\n",
      "488/488 [==============================] - 1s 3ms/step - loss: 0.0354 - accuracy: 0.9908\n",
      "Epoch 40/50\n",
      "488/488 [==============================] - 1s 3ms/step - loss: 0.0385 - accuracy: 0.9885\n",
      "Epoch 41/50\n",
      "488/488 [==============================] - 1s 3ms/step - loss: 0.0407 - accuracy: 0.9879\n",
      "Epoch 42/50\n",
      "488/488 [==============================] - 1s 3ms/step - loss: 0.0358 - accuracy: 0.9885\n",
      "Epoch 43/50\n",
      "488/488 [==============================] - 1s 3ms/step - loss: 0.0355 - accuracy: 0.9883\n",
      "Epoch 44/50\n",
      "488/488 [==============================] - 1s 3ms/step - loss: 0.0352 - accuracy: 0.9899\n",
      "Epoch 45/50\n",
      "488/488 [==============================] - 1s 3ms/step - loss: 0.0359 - accuracy: 0.9897\n",
      "Epoch 46/50\n",
      "488/488 [==============================] - 1s 3ms/step - loss: 0.0359 - accuracy: 0.9891\n",
      "Epoch 47/50\n",
      "488/488 [==============================] - 1s 3ms/step - loss: 0.0356 - accuracy: 0.9897\n",
      "Epoch 48/50\n",
      "488/488 [==============================] - 1s 3ms/step - loss: 0.0324 - accuracy: 0.9904\n",
      "Epoch 49/50\n",
      "488/488 [==============================] - 1s 3ms/step - loss: 0.0339 - accuracy: 0.9910\n",
      "Epoch 50/50\n",
      "488/488 [==============================] - 1s 3ms/step - loss: 0.0331 - accuracy: 0.9901\n"
     ]
    },
    {
     "data": {
      "text/plain": [
       "<keras.callbacks.History at 0x137aec7e340>"
      ]
     },
     "execution_count": 32,
     "metadata": {},
     "output_type": "execute_result"
    }
   ],
   "source": [
    "model.fit(x_train, y_train, epochs=50, batch_size=10)"
   ]
  },
  {
   "cell_type": "code",
   "execution_count": 33,
   "id": "d4e2cbd5",
   "metadata": {},
   "outputs": [
    {
     "name": "stdout",
     "output_type": "stream",
     "text": [
      "51/51 [==============================] - 0s 4ms/step - loss: 0.0375 - accuracy: 0.9902\n"
     ]
    },
    {
     "data": {
      "text/plain": [
       "[0.03747914731502533, 0.9901538491249084]"
      ]
     },
     "execution_count": 33,
     "metadata": {},
     "output_type": "execute_result"
    }
   ],
   "source": [
    "model.evaluate(x_test, y_test)"
   ]
  },
  {
   "cell_type": "code",
   "execution_count": null,
   "id": "5ff4ad42",
   "metadata": {},
   "outputs": [],
   "source": []
  },
  {
   "cell_type": "code",
   "execution_count": null,
   "id": "ad9c8f19",
   "metadata": {},
   "outputs": [],
   "source": [
    "from tensorflow.keras.models import load_model"
   ]
  },
  {
   "cell_type": "code",
   "execution_count": 38,
   "id": "91dd5fab",
   "metadata": {},
   "outputs": [],
   "source": [
    "import os"
   ]
  },
  {
   "cell_type": "code",
   "execution_count": 39,
   "id": "9950cf58",
   "metadata": {},
   "outputs": [],
   "source": [
    "model_dir = './model/model_check'\n",
    "if not os.path.exists(model_dir):\n",
    "    os.mkdir(model_dir)"
   ]
  },
  {
   "cell_type": "code",
   "execution_count": 40,
   "id": "87008de2",
   "metadata": {},
   "outputs": [],
   "source": [
    "from tensorflow.keras.callbacks import ModelCheckpoint"
   ]
  },
  {
   "cell_type": "code",
   "execution_count": 41,
   "id": "2702d6fa",
   "metadata": {},
   "outputs": [],
   "source": [
    "modelpath = './model/model_check/{epoch:02d}-{val_loss:4f}.hdf5'\n",
    "checkpointer = ModelCheckpoint(filepath = modelpath, monitor='val_loss', verbose=1, save_best_only=True)"
   ]
  },
  {
   "cell_type": "code",
   "execution_count": 42,
   "id": "b2393c25",
   "metadata": {
    "collapsed": true
   },
   "outputs": [
    {
     "name": "stdout",
     "output_type": "stream",
     "text": [
      "Epoch 1/100\n",
      "71/78 [==========================>...] - ETA: 0s - loss: 0.0534 - accuracy: 0.9828\n",
      "Epoch 1: val_loss improved from inf to 0.04220, saving model to ./model/model_check\\01-0.042200.hdf5\n",
      "78/78 [==============================] - 1s 7ms/step - loss: 0.0511 - accuracy: 0.9831 - val_loss: 0.0422 - val_accuracy: 0.9846\n",
      "Epoch 2/100\n",
      "68/78 [=========================>....] - ETA: 0s - loss: 0.0480 - accuracy: 0.9859\n",
      "Epoch 2: val_loss improved from 0.04220 to 0.04198, saving model to ./model/model_check\\02-0.041983.hdf5\n",
      "78/78 [==============================] - 0s 6ms/step - loss: 0.0470 - accuracy: 0.9859 - val_loss: 0.0420 - val_accuracy: 0.9856\n",
      "Epoch 3/100\n",
      "77/78 [============================>.] - ETA: 0s - loss: 0.0477 - accuracy: 0.9855\n",
      "Epoch 3: val_loss did not improve from 0.04198\n",
      "78/78 [==============================] - 0s 5ms/step - loss: 0.0477 - accuracy: 0.9854 - val_loss: 0.0421 - val_accuracy: 0.9846\n",
      "Epoch 4/100\n",
      "76/78 [============================>.] - ETA: 0s - loss: 0.0472 - accuracy: 0.9861\n",
      "Epoch 4: val_loss improved from 0.04198 to 0.04185, saving model to ./model/model_check\\04-0.041853.hdf5\n",
      "78/78 [==============================] - 0s 5ms/step - loss: 0.0471 - accuracy: 0.9859 - val_loss: 0.0419 - val_accuracy: 0.9836\n",
      "Epoch 5/100\n",
      "70/78 [=========================>....] - ETA: 0s - loss: 0.0480 - accuracy: 0.9871\n",
      "Epoch 5: val_loss improved from 0.04185 to 0.04042, saving model to ./model/model_check\\05-0.040421.hdf5\n",
      "78/78 [==============================] - 0s 5ms/step - loss: 0.0459 - accuracy: 0.9877 - val_loss: 0.0404 - val_accuracy: 0.9836\n",
      "Epoch 6/100\n",
      "77/78 [============================>.] - ETA: 0s - loss: 0.0478 - accuracy: 0.9857\n",
      "Epoch 6: val_loss did not improve from 0.04042\n",
      "78/78 [==============================] - 0s 4ms/step - loss: 0.0476 - accuracy: 0.9856 - val_loss: 0.0423 - val_accuracy: 0.9836\n",
      "Epoch 7/100\n",
      "65/78 [========================>.....] - ETA: 0s - loss: 0.0462 - accuracy: 0.9880\n",
      "Epoch 7: val_loss did not improve from 0.04042\n",
      "78/78 [==============================] - 0s 4ms/step - loss: 0.0457 - accuracy: 0.9882 - val_loss: 0.0515 - val_accuracy: 0.9856\n",
      "Epoch 8/100\n",
      "68/78 [=========================>....] - ETA: 0s - loss: 0.0509 - accuracy: 0.9835\n",
      "Epoch 8: val_loss did not improve from 0.04042\n",
      "78/78 [==============================] - 0s 4ms/step - loss: 0.0483 - accuracy: 0.9846 - val_loss: 0.0417 - val_accuracy: 0.9826\n",
      "Epoch 9/100\n",
      "74/78 [===========================>..] - ETA: 0s - loss: 0.0467 - accuracy: 0.9859\n",
      "Epoch 9: val_loss did not improve from 0.04042\n",
      "78/78 [==============================] - 0s 3ms/step - loss: 0.0455 - accuracy: 0.9864 - val_loss: 0.0498 - val_accuracy: 0.9856\n",
      "Epoch 10/100\n",
      "70/78 [=========================>....] - ETA: 0s - loss: 0.0452 - accuracy: 0.9866\n",
      "Epoch 10: val_loss did not improve from 0.04042\n",
      "78/78 [==============================] - 0s 4ms/step - loss: 0.0490 - accuracy: 0.9851 - val_loss: 0.0463 - val_accuracy: 0.9846\n",
      "Epoch 11/100\n",
      "62/78 [======================>.......] - ETA: 0s - loss: 0.0437 - accuracy: 0.9874\n",
      "Epoch 11: val_loss did not improve from 0.04042\n",
      "78/78 [==============================] - 0s 4ms/step - loss: 0.0455 - accuracy: 0.9867 - val_loss: 0.0441 - val_accuracy: 0.9836\n",
      "Epoch 12/100\n",
      "64/78 [=======================>......] - ETA: 0s - loss: 0.0466 - accuracy: 0.9859\n",
      "Epoch 12: val_loss did not improve from 0.04042\n",
      "78/78 [==============================] - 0s 4ms/step - loss: 0.0457 - accuracy: 0.9859 - val_loss: 0.0417 - val_accuracy: 0.9836\n",
      "Epoch 13/100\n",
      "61/78 [======================>.......] - ETA: 0s - loss: 0.0426 - accuracy: 0.9882\n",
      "Epoch 13: val_loss did not improve from 0.04042\n",
      "78/78 [==============================] - 0s 4ms/step - loss: 0.0464 - accuracy: 0.9874 - val_loss: 0.0440 - val_accuracy: 0.9856\n",
      "Epoch 14/100\n",
      "69/78 [=========================>....] - ETA: 0s - loss: 0.0461 - accuracy: 0.9852\n",
      "Epoch 14: val_loss did not improve from 0.04042\n",
      "78/78 [==============================] - 0s 4ms/step - loss: 0.0472 - accuracy: 0.9849 - val_loss: 0.0426 - val_accuracy: 0.9836\n",
      "Epoch 15/100\n",
      "65/78 [========================>.....] - ETA: 0s - loss: 0.0503 - accuracy: 0.9855\n",
      "Epoch 15: val_loss did not improve from 0.04042\n",
      "78/78 [==============================] - 0s 4ms/step - loss: 0.0505 - accuracy: 0.9843 - val_loss: 0.0434 - val_accuracy: 0.9836\n",
      "Epoch 16/100\n",
      "70/78 [=========================>....] - ETA: 0s - loss: 0.0508 - accuracy: 0.9851\n",
      "Epoch 16: val_loss did not improve from 0.04042\n",
      "78/78 [==============================] - 0s 5ms/step - loss: 0.0488 - accuracy: 0.9856 - val_loss: 0.0443 - val_accuracy: 0.9846\n",
      "Epoch 17/100\n",
      "67/78 [========================>.....] - ETA: 0s - loss: 0.0493 - accuracy: 0.9845\n",
      "Epoch 17: val_loss did not improve from 0.04042\n",
      "78/78 [==============================] - 0s 5ms/step - loss: 0.0462 - accuracy: 0.9854 - val_loss: 0.0446 - val_accuracy: 0.9836\n",
      "Epoch 18/100\n",
      "62/78 [======================>.......] - ETA: 0s - loss: 0.0442 - accuracy: 0.9868\n",
      "Epoch 18: val_loss did not improve from 0.04042\n",
      "78/78 [==============================] - 0s 4ms/step - loss: 0.0464 - accuracy: 0.9854 - val_loss: 0.0461 - val_accuracy: 0.9877\n",
      "Epoch 19/100\n",
      "65/78 [========================>.....] - ETA: 0s - loss: 0.0482 - accuracy: 0.9852\n",
      "Epoch 19: val_loss did not improve from 0.04042\n",
      "78/78 [==============================] - 0s 4ms/step - loss: 0.0471 - accuracy: 0.9864 - val_loss: 0.0419 - val_accuracy: 0.9856\n",
      "Epoch 20/100\n",
      "68/78 [=========================>....] - ETA: 0s - loss: 0.0454 - accuracy: 0.9862\n",
      "Epoch 20: val_loss did not improve from 0.04042\n",
      "78/78 [==============================] - 0s 4ms/step - loss: 0.0452 - accuracy: 0.9867 - val_loss: 0.0423 - val_accuracy: 0.9846\n",
      "Epoch 21/100\n",
      "75/78 [===========================>..] - ETA: 0s - loss: 0.0458 - accuracy: 0.9869\n",
      "Epoch 21: val_loss did not improve from 0.04042\n",
      "78/78 [==============================] - 0s 4ms/step - loss: 0.0450 - accuracy: 0.9872 - val_loss: 0.0487 - val_accuracy: 0.9856\n",
      "Epoch 22/100\n",
      "68/78 [=========================>....] - ETA: 0s - loss: 0.0436 - accuracy: 0.9871\n",
      "Epoch 22: val_loss did not improve from 0.04042\n",
      "78/78 [==============================] - 0s 4ms/step - loss: 0.0435 - accuracy: 0.9872 - val_loss: 0.0438 - val_accuracy: 0.9867\n",
      "Epoch 23/100\n",
      "71/78 [==========================>...] - ETA: 0s - loss: 0.0458 - accuracy: 0.9862\n",
      "Epoch 23: val_loss did not improve from 0.04042\n",
      "78/78 [==============================] - 0s 4ms/step - loss: 0.0468 - accuracy: 0.9856 - val_loss: 0.0446 - val_accuracy: 0.9826\n",
      "Epoch 24/100\n",
      "78/78 [==============================] - ETA: 0s - loss: 0.0468 - accuracy: 0.9854\n",
      "Epoch 24: val_loss did not improve from 0.04042\n",
      "78/78 [==============================] - 0s 4ms/step - loss: 0.0468 - accuracy: 0.9854 - val_loss: 0.0451 - val_accuracy: 0.9867\n",
      "Epoch 25/100\n",
      "62/78 [======================>.......] - ETA: 0s - loss: 0.0482 - accuracy: 0.9852\n",
      "Epoch 25: val_loss did not improve from 0.04042\n",
      "78/78 [==============================] - 0s 4ms/step - loss: 0.0464 - accuracy: 0.9859 - val_loss: 0.0512 - val_accuracy: 0.9856\n",
      "Epoch 26/100\n",
      "68/78 [=========================>....] - ETA: 0s - loss: 0.0427 - accuracy: 0.9874\n",
      "Epoch 26: val_loss did not improve from 0.04042\n",
      "78/78 [==============================] - 0s 4ms/step - loss: 0.0471 - accuracy: 0.9859 - val_loss: 0.0508 - val_accuracy: 0.9887\n",
      "Epoch 27/100\n",
      "66/78 [========================>.....] - ETA: 0s - loss: 0.0516 - accuracy: 0.9836\n",
      "Epoch 27: val_loss did not improve from 0.04042\n",
      "78/78 [==============================] - 0s 4ms/step - loss: 0.0531 - accuracy: 0.9831 - val_loss: 0.0517 - val_accuracy: 0.9836\n",
      "Epoch 28/100\n",
      "65/78 [========================>.....] - ETA: 0s - loss: 0.0485 - accuracy: 0.9852\n",
      "Epoch 28: val_loss did not improve from 0.04042\n",
      "78/78 [==============================] - 0s 4ms/step - loss: 0.0454 - accuracy: 0.9861 - val_loss: 0.0469 - val_accuracy: 0.9815\n",
      "Epoch 29/100\n",
      "72/78 [==========================>...] - ETA: 0s - loss: 0.0463 - accuracy: 0.9853\n",
      "Epoch 29: val_loss did not improve from 0.04042\n",
      "78/78 [==============================] - 0s 4ms/step - loss: 0.0479 - accuracy: 0.9851 - val_loss: 0.0427 - val_accuracy: 0.9836\n",
      "Epoch 30/100\n"
     ]
    },
    {
     "name": "stdout",
     "output_type": "stream",
     "text": [
      "69/78 [=========================>....] - ETA: 0s - loss: 0.0420 - accuracy: 0.9878\n",
      "Epoch 30: val_loss did not improve from 0.04042\n",
      "78/78 [==============================] - 0s 4ms/step - loss: 0.0439 - accuracy: 0.9877 - val_loss: 0.0442 - val_accuracy: 0.9836\n",
      "Epoch 31/100\n",
      "69/78 [=========================>....] - ETA: 0s - loss: 0.0473 - accuracy: 0.9875\n",
      "Epoch 31: val_loss did not improve from 0.04042\n",
      "78/78 [==============================] - 0s 4ms/step - loss: 0.0442 - accuracy: 0.9882 - val_loss: 0.0517 - val_accuracy: 0.9826\n",
      "Epoch 32/100\n",
      "67/78 [========================>.....] - ETA: 0s - loss: 0.0470 - accuracy: 0.9857\n",
      "Epoch 32: val_loss did not improve from 0.04042\n",
      "78/78 [==============================] - 0s 4ms/step - loss: 0.0448 - accuracy: 0.9864 - val_loss: 0.0448 - val_accuracy: 0.9836\n",
      "Epoch 33/100\n",
      "73/78 [===========================>..] - ETA: 0s - loss: 0.0475 - accuracy: 0.9855\n",
      "Epoch 33: val_loss did not improve from 0.04042\n",
      "78/78 [==============================] - 0s 4ms/step - loss: 0.0468 - accuracy: 0.9854 - val_loss: 0.0426 - val_accuracy: 0.9836\n",
      "Epoch 34/100\n",
      "74/78 [===========================>..] - ETA: 0s - loss: 0.0441 - accuracy: 0.9886\n",
      "Epoch 34: val_loss did not improve from 0.04042\n",
      "78/78 [==============================] - 0s 4ms/step - loss: 0.0426 - accuracy: 0.9892 - val_loss: 0.0454 - val_accuracy: 0.9815\n",
      "Epoch 35/100\n",
      "71/78 [==========================>...] - ETA: 0s - loss: 0.0427 - accuracy: 0.9876\n",
      "Epoch 35: val_loss did not improve from 0.04042\n",
      "78/78 [==============================] - 0s 5ms/step - loss: 0.0448 - accuracy: 0.9874 - val_loss: 0.0433 - val_accuracy: 0.9877\n",
      "Epoch 36/100\n",
      "75/78 [===========================>..] - ETA: 0s - loss: 0.0453 - accuracy: 0.9859\n",
      "Epoch 36: val_loss did not improve from 0.04042\n",
      "78/78 [==============================] - 0s 4ms/step - loss: 0.0455 - accuracy: 0.9861 - val_loss: 0.0430 - val_accuracy: 0.9856\n",
      "Epoch 37/100\n",
      "77/78 [============================>.] - ETA: 0s - loss: 0.0429 - accuracy: 0.9883\n",
      "Epoch 37: val_loss did not improve from 0.04042\n",
      "78/78 [==============================] - 0s 4ms/step - loss: 0.0430 - accuracy: 0.9882 - val_loss: 0.0440 - val_accuracy: 0.9836\n",
      "Epoch 38/100\n",
      "66/78 [========================>.....] - ETA: 0s - loss: 0.0465 - accuracy: 0.9848\n",
      "Epoch 38: val_loss did not improve from 0.04042\n",
      "78/78 [==============================] - 0s 4ms/step - loss: 0.0470 - accuracy: 0.9846 - val_loss: 0.0609 - val_accuracy: 0.9815\n",
      "Epoch 39/100\n",
      "64/78 [=======================>......] - ETA: 0s - loss: 0.0500 - accuracy: 0.9847\n",
      "Epoch 39: val_loss did not improve from 0.04042\n",
      "78/78 [==============================] - 0s 4ms/step - loss: 0.0494 - accuracy: 0.9843 - val_loss: 0.0420 - val_accuracy: 0.9856\n",
      "Epoch 40/100\n",
      "65/78 [========================>.....] - ETA: 0s - loss: 0.0510 - accuracy: 0.9840\n",
      "Epoch 40: val_loss did not improve from 0.04042\n",
      "78/78 [==============================] - 0s 4ms/step - loss: 0.0477 - accuracy: 0.9861 - val_loss: 0.0421 - val_accuracy: 0.9836\n",
      "Epoch 41/100\n",
      "78/78 [==============================] - ETA: 0s - loss: 0.0431 - accuracy: 0.9872\n",
      "Epoch 41: val_loss did not improve from 0.04042\n",
      "78/78 [==============================] - 0s 4ms/step - loss: 0.0431 - accuracy: 0.9872 - val_loss: 0.0456 - val_accuracy: 0.9877\n",
      "Epoch 42/100\n",
      "64/78 [=======================>......] - ETA: 0s - loss: 0.0425 - accuracy: 0.9869\n",
      "Epoch 42: val_loss did not improve from 0.04042\n",
      "78/78 [==============================] - 0s 4ms/step - loss: 0.0450 - accuracy: 0.9859 - val_loss: 0.0579 - val_accuracy: 0.9867\n",
      "Epoch 43/100\n",
      "77/78 [============================>.] - ETA: 0s - loss: 0.0444 - accuracy: 0.9881\n",
      "Epoch 43: val_loss did not improve from 0.04042\n",
      "78/78 [==============================] - 0s 4ms/step - loss: 0.0444 - accuracy: 0.9877 - val_loss: 0.0433 - val_accuracy: 0.9877\n",
      "Epoch 44/100\n",
      "73/78 [===========================>..] - ETA: 0s - loss: 0.0444 - accuracy: 0.9874\n",
      "Epoch 44: val_loss did not improve from 0.04042\n",
      "78/78 [==============================] - 0s 4ms/step - loss: 0.0433 - accuracy: 0.9872 - val_loss: 0.0417 - val_accuracy: 0.9836\n",
      "Epoch 45/100\n",
      "68/78 [=========================>....] - ETA: 0s - loss: 0.0418 - accuracy: 0.9882\n",
      "Epoch 45: val_loss did not improve from 0.04042\n",
      "78/78 [==============================] - 0s 4ms/step - loss: 0.0426 - accuracy: 0.9877 - val_loss: 0.0480 - val_accuracy: 0.9846\n",
      "Epoch 46/100\n",
      "75/78 [===========================>..] - ETA: 0s - loss: 0.0438 - accuracy: 0.9872\n",
      "Epoch 46: val_loss did not improve from 0.04042\n",
      "78/78 [==============================] - 0s 4ms/step - loss: 0.0429 - accuracy: 0.9874 - val_loss: 0.0542 - val_accuracy: 0.9887\n",
      "Epoch 47/100\n",
      "75/78 [===========================>..] - ETA: 0s - loss: 0.0445 - accuracy: 0.9875\n",
      "Epoch 47: val_loss did not improve from 0.04042\n",
      "78/78 [==============================] - 0s 4ms/step - loss: 0.0435 - accuracy: 0.9879 - val_loss: 0.0461 - val_accuracy: 0.9846\n",
      "Epoch 48/100\n",
      "74/78 [===========================>..] - ETA: 0s - loss: 0.0463 - accuracy: 0.9849\n",
      "Epoch 48: val_loss did not improve from 0.04042\n",
      "78/78 [==============================] - 0s 4ms/step - loss: 0.0454 - accuracy: 0.9854 - val_loss: 0.0415 - val_accuracy: 0.9856\n",
      "Epoch 49/100\n",
      "69/78 [=========================>....] - ETA: 0s - loss: 0.0419 - accuracy: 0.9875\n",
      "Epoch 49: val_loss did not improve from 0.04042\n",
      "78/78 [==============================] - 0s 4ms/step - loss: 0.0414 - accuracy: 0.9882 - val_loss: 0.0427 - val_accuracy: 0.9846\n",
      "Epoch 50/100\n",
      "73/78 [===========================>..] - ETA: 0s - loss: 0.0457 - accuracy: 0.9838\n",
      "Epoch 50: val_loss did not improve from 0.04042\n",
      "78/78 [==============================] - 0s 4ms/step - loss: 0.0470 - accuracy: 0.9841 - val_loss: 0.0469 - val_accuracy: 0.9867\n",
      "Epoch 51/100\n",
      "76/78 [============================>.] - ETA: 0s - loss: 0.0413 - accuracy: 0.9876\n",
      "Epoch 51: val_loss did not improve from 0.04042\n",
      "78/78 [==============================] - 0s 4ms/step - loss: 0.0431 - accuracy: 0.9872 - val_loss: 0.0417 - val_accuracy: 0.9846\n",
      "Epoch 52/100\n",
      "75/78 [===========================>..] - ETA: 0s - loss: 0.0422 - accuracy: 0.9864\n",
      "Epoch 52: val_loss did not improve from 0.04042\n",
      "78/78 [==============================] - 0s 4ms/step - loss: 0.0431 - accuracy: 0.9864 - val_loss: 0.0442 - val_accuracy: 0.9887\n",
      "Epoch 53/100\n",
      "71/78 [==========================>...] - ETA: 0s - loss: 0.0411 - accuracy: 0.9876\n",
      "Epoch 53: val_loss did not improve from 0.04042\n",
      "78/78 [==============================] - 0s 4ms/step - loss: 0.0423 - accuracy: 0.9869 - val_loss: 0.0410 - val_accuracy: 0.9846\n",
      "Epoch 54/100\n",
      "74/78 [===========================>..] - ETA: 0s - loss: 0.0442 - accuracy: 0.9870\n",
      "Epoch 54: val_loss improved from 0.04042 to 0.03981, saving model to ./model/model_check\\54-0.039806.hdf5\n",
      "78/78 [==============================] - 0s 5ms/step - loss: 0.0428 - accuracy: 0.9874 - val_loss: 0.0398 - val_accuracy: 0.9846\n",
      "Epoch 55/100\n",
      "73/78 [===========================>..] - ETA: 0s - loss: 0.0440 - accuracy: 0.9871\n",
      "Epoch 55: val_loss did not improve from 0.03981\n",
      "78/78 [==============================] - 0s 4ms/step - loss: 0.0420 - accuracy: 0.9877 - val_loss: 0.0419 - val_accuracy: 0.9846\n",
      "Epoch 56/100\n",
      "73/78 [===========================>..] - ETA: 0s - loss: 0.0422 - accuracy: 0.9858\n",
      "Epoch 56: val_loss did not improve from 0.03981\n",
      "78/78 [==============================] - 0s 5ms/step - loss: 0.0435 - accuracy: 0.9854 - val_loss: 0.0607 - val_accuracy: 0.9805\n",
      "Epoch 57/100\n",
      "67/78 [========================>.....] - ETA: 0s - loss: 0.0439 - accuracy: 0.9881\n",
      "Epoch 57: val_loss did not improve from 0.03981\n",
      "78/78 [==============================] - 0s 4ms/step - loss: 0.0425 - accuracy: 0.9879 - val_loss: 0.0412 - val_accuracy: 0.9856\n",
      "Epoch 58/100\n",
      "70/78 [=========================>....] - ETA: 0s - loss: 0.0377 - accuracy: 0.9900\n",
      "Epoch 58: val_loss did not improve from 0.03981\n",
      "78/78 [==============================] - 0s 4ms/step - loss: 0.0404 - accuracy: 0.9890 - val_loss: 0.0551 - val_accuracy: 0.9846\n",
      "Epoch 59/100\n",
      "70/78 [=========================>....] - ETA: 0s - loss: 0.0433 - accuracy: 0.9863\n",
      "Epoch 59: val_loss did not improve from 0.03981\n",
      "78/78 [==============================] - 0s 4ms/step - loss: 0.0445 - accuracy: 0.9856 - val_loss: 0.0508 - val_accuracy: 0.9815\n"
     ]
    },
    {
     "name": "stdout",
     "output_type": "stream",
     "text": [
      "Epoch 60/100\n",
      "70/78 [=========================>....] - ETA: 0s - loss: 0.0443 - accuracy: 0.9866\n",
      "Epoch 60: val_loss did not improve from 0.03981\n",
      "78/78 [==============================] - 0s 4ms/step - loss: 0.0453 - accuracy: 0.9861 - val_loss: 0.0583 - val_accuracy: 0.9826\n",
      "Epoch 61/100\n",
      "76/78 [============================>.] - ETA: 0s - loss: 0.0427 - accuracy: 0.9874\n",
      "Epoch 61: val_loss did not improve from 0.03981\n",
      "78/78 [==============================] - 0s 4ms/step - loss: 0.0423 - accuracy: 0.9877 - val_loss: 0.0455 - val_accuracy: 0.9887\n",
      "Epoch 62/100\n",
      "74/78 [===========================>..] - ETA: 0s - loss: 0.0425 - accuracy: 0.9878\n",
      "Epoch 62: val_loss did not improve from 0.03981\n",
      "78/78 [==============================] - 0s 4ms/step - loss: 0.0409 - accuracy: 0.9885 - val_loss: 0.0432 - val_accuracy: 0.9856\n",
      "Epoch 63/100\n",
      "75/78 [===========================>..] - ETA: 0s - loss: 0.0442 - accuracy: 0.9888\n",
      "Epoch 63: val_loss did not improve from 0.03981\n",
      "78/78 [==============================] - 0s 4ms/step - loss: 0.0445 - accuracy: 0.9890 - val_loss: 0.0474 - val_accuracy: 0.9887\n",
      "Epoch 64/100\n",
      "77/78 [============================>.] - ETA: 0s - loss: 0.0425 - accuracy: 0.9868\n",
      "Epoch 64: val_loss did not improve from 0.03981\n",
      "78/78 [==============================] - 0s 4ms/step - loss: 0.0423 - accuracy: 0.9867 - val_loss: 0.0417 - val_accuracy: 0.9846\n",
      "Epoch 65/100\n",
      "74/78 [===========================>..] - ETA: 0s - loss: 0.0417 - accuracy: 0.9876\n",
      "Epoch 65: val_loss did not improve from 0.03981\n",
      "78/78 [==============================] - 0s 4ms/step - loss: 0.0419 - accuracy: 0.9877 - val_loss: 0.0454 - val_accuracy: 0.9856\n",
      "Epoch 66/100\n",
      "72/78 [==========================>...] - ETA: 0s - loss: 0.0401 - accuracy: 0.9889\n",
      "Epoch 66: val_loss did not improve from 0.03981\n",
      "78/78 [==============================] - 0s 4ms/step - loss: 0.0409 - accuracy: 0.9885 - val_loss: 0.0408 - val_accuracy: 0.9856\n",
      "Epoch 67/100\n",
      "72/78 [==========================>...] - ETA: 0s - loss: 0.0402 - accuracy: 0.9881\n",
      "Epoch 67: val_loss did not improve from 0.03981\n",
      "78/78 [==============================] - 0s 4ms/step - loss: 0.0408 - accuracy: 0.9879 - val_loss: 0.0423 - val_accuracy: 0.9887\n",
      "Epoch 68/100\n",
      "74/78 [===========================>..] - ETA: 0s - loss: 0.0392 - accuracy: 0.9876\n",
      "Epoch 68: val_loss did not improve from 0.03981\n",
      "78/78 [==============================] - 0s 4ms/step - loss: 0.0404 - accuracy: 0.9874 - val_loss: 0.0404 - val_accuracy: 0.9826\n",
      "Epoch 69/100\n",
      "72/78 [==========================>...] - ETA: 0s - loss: 0.0447 - accuracy: 0.9861\n",
      "Epoch 69: val_loss did not improve from 0.03981\n",
      "78/78 [==============================] - 0s 4ms/step - loss: 0.0429 - accuracy: 0.9864 - val_loss: 0.0453 - val_accuracy: 0.9846\n",
      "Epoch 70/100\n",
      "75/78 [===========================>..] - ETA: 0s - loss: 0.0465 - accuracy: 0.9853\n",
      "Epoch 70: val_loss did not improve from 0.03981\n",
      "78/78 [==============================] - 0s 4ms/step - loss: 0.0466 - accuracy: 0.9856 - val_loss: 0.0435 - val_accuracy: 0.9877\n",
      "Epoch 71/100\n",
      "72/78 [==========================>...] - ETA: 0s - loss: 0.0370 - accuracy: 0.9900\n",
      "Epoch 71: val_loss did not improve from 0.03981\n",
      "78/78 [==============================] - 0s 4ms/step - loss: 0.0404 - accuracy: 0.9892 - val_loss: 0.0401 - val_accuracy: 0.9846\n",
      "Epoch 72/100\n",
      "70/78 [=========================>....] - ETA: 0s - loss: 0.0403 - accuracy: 0.9883\n",
      "Epoch 72: val_loss did not improve from 0.03981\n",
      "78/78 [==============================] - 0s 4ms/step - loss: 0.0399 - accuracy: 0.9885 - val_loss: 0.0412 - val_accuracy: 0.9856\n",
      "Epoch 73/100\n",
      "76/78 [============================>.] - ETA: 0s - loss: 0.0434 - accuracy: 0.9866\n",
      "Epoch 73: val_loss did not improve from 0.03981\n",
      "78/78 [==============================] - 0s 4ms/step - loss: 0.0430 - accuracy: 0.9867 - val_loss: 0.0405 - val_accuracy: 0.9856\n",
      "Epoch 74/100\n",
      "75/78 [===========================>..] - ETA: 0s - loss: 0.0405 - accuracy: 0.9883\n",
      "Epoch 74: val_loss did not improve from 0.03981\n",
      "78/78 [==============================] - 0s 5ms/step - loss: 0.0405 - accuracy: 0.9882 - val_loss: 0.0438 - val_accuracy: 0.9877\n",
      "Epoch 75/100\n",
      "71/78 [==========================>...] - ETA: 0s - loss: 0.0484 - accuracy: 0.9854\n",
      "Epoch 75: val_loss did not improve from 0.03981\n",
      "78/78 [==============================] - 0s 4ms/step - loss: 0.0463 - accuracy: 0.9856 - val_loss: 0.0428 - val_accuracy: 0.9826\n",
      "Epoch 76/100\n",
      "72/78 [==========================>...] - ETA: 0s - loss: 0.0405 - accuracy: 0.9892\n",
      "Epoch 76: val_loss did not improve from 0.03981\n",
      "78/78 [==============================] - 0s 4ms/step - loss: 0.0411 - accuracy: 0.9890 - val_loss: 0.0418 - val_accuracy: 0.9856\n",
      "Epoch 77/100\n",
      "67/78 [========================>.....] - ETA: 0s - loss: 0.0364 - accuracy: 0.9884\n",
      "Epoch 77: val_loss did not improve from 0.03981\n",
      "78/78 [==============================] - 0s 4ms/step - loss: 0.0385 - accuracy: 0.9882 - val_loss: 0.0422 - val_accuracy: 0.9867\n",
      "Epoch 78/100\n",
      "70/78 [=========================>....] - ETA: 0s - loss: 0.0451 - accuracy: 0.9863\n",
      "Epoch 78: val_loss did not improve from 0.03981\n",
      "78/78 [==============================] - 0s 4ms/step - loss: 0.0425 - accuracy: 0.9872 - val_loss: 0.0413 - val_accuracy: 0.9846\n",
      "Epoch 79/100\n",
      "68/78 [=========================>....] - ETA: 0s - loss: 0.0385 - accuracy: 0.9888\n",
      "Epoch 79: val_loss did not improve from 0.03981\n",
      "78/78 [==============================] - 0s 4ms/step - loss: 0.0403 - accuracy: 0.9882 - val_loss: 0.0438 - val_accuracy: 0.9846\n",
      "Epoch 80/100\n",
      "68/78 [=========================>....] - ETA: 0s - loss: 0.0406 - accuracy: 0.9894\n",
      "Epoch 80: val_loss did not improve from 0.03981\n",
      "78/78 [==============================] - 0s 4ms/step - loss: 0.0389 - accuracy: 0.9897 - val_loss: 0.0430 - val_accuracy: 0.9887\n",
      "Epoch 81/100\n",
      "77/78 [============================>.] - ETA: 0s - loss: 0.0381 - accuracy: 0.9891\n",
      "Epoch 81: val_loss did not improve from 0.03981\n",
      "78/78 [==============================] - 0s 4ms/step - loss: 0.0389 - accuracy: 0.9890 - val_loss: 0.0433 - val_accuracy: 0.9856\n",
      "Epoch 82/100\n",
      "72/78 [==========================>...] - ETA: 0s - loss: 0.0401 - accuracy: 0.9875\n",
      "Epoch 82: val_loss did not improve from 0.03981\n",
      "78/78 [==============================] - 0s 4ms/step - loss: 0.0404 - accuracy: 0.9879 - val_loss: 0.0430 - val_accuracy: 0.9846\n",
      "Epoch 83/100\n",
      "71/78 [==========================>...] - ETA: 0s - loss: 0.0375 - accuracy: 0.9904\n",
      "Epoch 83: val_loss did not improve from 0.03981\n",
      "78/78 [==============================] - 0s 4ms/step - loss: 0.0386 - accuracy: 0.9895 - val_loss: 0.0430 - val_accuracy: 0.9836\n",
      "Epoch 84/100\n",
      "73/78 [===========================>..] - ETA: 0s - loss: 0.0379 - accuracy: 0.9893\n",
      "Epoch 84: val_loss did not improve from 0.03981\n",
      "78/78 [==============================] - 0s 4ms/step - loss: 0.0391 - accuracy: 0.9890 - val_loss: 0.0406 - val_accuracy: 0.9856\n",
      "Epoch 85/100\n",
      "71/78 [==========================>...] - ETA: 0s - loss: 0.0379 - accuracy: 0.9873\n",
      "Epoch 85: val_loss did not improve from 0.03981\n",
      "78/78 [==============================] - 0s 4ms/step - loss: 0.0407 - accuracy: 0.9867 - val_loss: 0.0510 - val_accuracy: 0.9867\n",
      "Epoch 86/100\n",
      "77/78 [============================>.] - ETA: 0s - loss: 0.0421 - accuracy: 0.9868\n",
      "Epoch 86: val_loss did not improve from 0.03981\n",
      "78/78 [==============================] - 0s 4ms/step - loss: 0.0418 - accuracy: 0.9869 - val_loss: 0.0409 - val_accuracy: 0.9836\n",
      "Epoch 87/100\n",
      "74/78 [===========================>..] - ETA: 0s - loss: 0.0380 - accuracy: 0.9870\n",
      "Epoch 87: val_loss did not improve from 0.03981\n",
      "78/78 [==============================] - 0s 4ms/step - loss: 0.0371 - accuracy: 0.9872 - val_loss: 0.0404 - val_accuracy: 0.9867\n",
      "Epoch 88/100\n",
      "78/78 [==============================] - ETA: 0s - loss: 0.0400 - accuracy: 0.9877\n",
      "Epoch 88: val_loss did not improve from 0.03981\n",
      "78/78 [==============================] - 0s 4ms/step - loss: 0.0400 - accuracy: 0.9877 - val_loss: 0.0434 - val_accuracy: 0.9836\n",
      "Epoch 89/100\n",
      "76/78 [============================>.] - ETA: 0s - loss: 0.0379 - accuracy: 0.9876\n",
      "Epoch 89: val_loss did not improve from 0.03981\n",
      "78/78 [==============================] - 0s 4ms/step - loss: 0.0389 - accuracy: 0.9877 - val_loss: 0.0408 - val_accuracy: 0.9856\n",
      "Epoch 90/100\n"
     ]
    },
    {
     "name": "stdout",
     "output_type": "stream",
     "text": [
      "72/78 [==========================>...] - ETA: 0s - loss: 0.0389 - accuracy: 0.9881\n",
      "Epoch 90: val_loss did not improve from 0.03981\n",
      "78/78 [==============================] - 0s 4ms/step - loss: 0.0392 - accuracy: 0.9885 - val_loss: 0.0428 - val_accuracy: 0.9887\n",
      "Epoch 91/100\n",
      "73/78 [===========================>..] - ETA: 0s - loss: 0.0422 - accuracy: 0.9888\n",
      "Epoch 91: val_loss did not improve from 0.03981\n",
      "78/78 [==============================] - 0s 4ms/step - loss: 0.0404 - accuracy: 0.9895 - val_loss: 0.0429 - val_accuracy: 0.9877\n",
      "Epoch 92/100\n",
      "68/78 [=========================>....] - ETA: 0s - loss: 0.0408 - accuracy: 0.9874\n",
      "Epoch 92: val_loss did not improve from 0.03981\n",
      "78/78 [==============================] - 0s 5ms/step - loss: 0.0397 - accuracy: 0.9869 - val_loss: 0.0401 - val_accuracy: 0.9856\n",
      "Epoch 93/100\n",
      "73/78 [===========================>..] - ETA: 0s - loss: 0.0406 - accuracy: 0.9893\n",
      "Epoch 93: val_loss did not improve from 0.03981\n",
      "78/78 [==============================] - 0s 4ms/step - loss: 0.0395 - accuracy: 0.9897 - val_loss: 0.0496 - val_accuracy: 0.9856\n",
      "Epoch 94/100\n",
      "74/78 [===========================>..] - ETA: 0s - loss: 0.0384 - accuracy: 0.9895\n",
      "Epoch 94: val_loss did not improve from 0.03981\n",
      "78/78 [==============================] - 0s 4ms/step - loss: 0.0391 - accuracy: 0.9890 - val_loss: 0.0405 - val_accuracy: 0.9867\n",
      "Epoch 95/100\n",
      "73/78 [===========================>..] - ETA: 0s - loss: 0.0380 - accuracy: 0.9907\n",
      "Epoch 95: val_loss did not improve from 0.03981\n",
      "78/78 [==============================] - 0s 4ms/step - loss: 0.0363 - accuracy: 0.9913 - val_loss: 0.0406 - val_accuracy: 0.9867\n",
      "Epoch 96/100\n",
      "72/78 [==========================>...] - ETA: 0s - loss: 0.0390 - accuracy: 0.9903\n",
      "Epoch 96: val_loss did not improve from 0.03981\n",
      "78/78 [==============================] - 0s 4ms/step - loss: 0.0373 - accuracy: 0.9905 - val_loss: 0.0415 - val_accuracy: 0.9867\n",
      "Epoch 97/100\n",
      "72/78 [==========================>...] - ETA: 0s - loss: 0.0408 - accuracy: 0.9869\n",
      "Epoch 97: val_loss did not improve from 0.03981\n",
      "78/78 [==============================] - 0s 4ms/step - loss: 0.0404 - accuracy: 0.9872 - val_loss: 0.0431 - val_accuracy: 0.9836\n",
      "Epoch 98/100\n",
      "70/78 [=========================>....] - ETA: 0s - loss: 0.0369 - accuracy: 0.9903\n",
      "Epoch 98: val_loss did not improve from 0.03981\n",
      "78/78 [==============================] - 0s 4ms/step - loss: 0.0385 - accuracy: 0.9897 - val_loss: 0.0420 - val_accuracy: 0.9867\n",
      "Epoch 99/100\n",
      "75/78 [===========================>..] - ETA: 0s - loss: 0.0376 - accuracy: 0.9899\n",
      "Epoch 99: val_loss did not improve from 0.03981\n",
      "78/78 [==============================] - 0s 4ms/step - loss: 0.0369 - accuracy: 0.9902 - val_loss: 0.0422 - val_accuracy: 0.9877\n",
      "Epoch 100/100\n",
      "75/78 [===========================>..] - ETA: 0s - loss: 0.0366 - accuracy: 0.9891\n",
      "Epoch 100: val_loss did not improve from 0.03981\n",
      "78/78 [==============================] - 0s 4ms/step - loss: 0.0374 - accuracy: 0.9890 - val_loss: 0.0426 - val_accuracy: 0.9867\n"
     ]
    },
    {
     "data": {
      "text/plain": [
       "<keras.callbacks.History at 0x13841bdb850>"
      ]
     },
     "execution_count": 42,
     "metadata": {},
     "output_type": "execute_result"
    }
   ],
   "source": [
    "model.fit(x_train, y_train, validation_split=0.2, batch_size=50, epochs=100, callbacks=[checkpointer])"
   ]
  },
  {
   "cell_type": "code",
   "execution_count": null,
   "id": "9165d86b",
   "metadata": {},
   "outputs": [],
   "source": [
    "history = model.fit(x_train,y_train, validation_split=0.2, batch_size=50, epochs=100, callbacks=[checkpointer])"
   ]
  },
  {
   "cell_type": "code",
   "execution_count": null,
   "id": "74f671ca",
   "metadata": {},
   "outputs": [],
   "source": []
  },
  {
   "cell_type": "code",
   "execution_count": null,
   "id": "96635ae9",
   "metadata": {},
   "outputs": [],
   "source": [
    "# early stopping"
   ]
  },
  {
   "cell_type": "code",
   "execution_count": 43,
   "id": "ce9d27e3",
   "metadata": {},
   "outputs": [],
   "source": [
    "from tensorflow.keras.callbacks import EarlyStopping"
   ]
  },
  {
   "cell_type": "code",
   "execution_count": null,
   "id": "bdc2a29b",
   "metadata": {},
   "outputs": [],
   "source": [
    "early = EarlyStopping(monitor='val_loss', patience=10)"
   ]
  },
  {
   "cell_type": "code",
   "execution_count": null,
   "id": "23025c1b",
   "metadata": {},
   "outputs": [],
   "source": [
    "history = model.fit(x_train, y_train, validation_split=0.2, batch_size=50, epochs=100, \n",
    "          callbacks=[checkpointer, ealy_stopping_callback])"
   ]
  },
  {
   "cell_type": "code",
   "execution_count": null,
   "id": "7ac8d328",
   "metadata": {},
   "outputs": [],
   "source": []
  },
  {
   "cell_type": "code",
   "execution_count": null,
   "id": "eee2dee0",
   "metadata": {},
   "outputs": [],
   "source": [
    "# model checkpointer"
   ]
  },
  {
   "cell_type": "code",
   "execution_count": null,
   "id": "7c636f75",
   "metadata": {},
   "outputs": [],
   "source": [
    "x_train, x_test, y_train, y_test = train_test_split(x, y_oh)\n",
    "model = Sequential()\n",
    "model.add(Dense(36, activation='relu', input_dim=12))\n",
    "model.add(Dense(18, activation='relu'))\n",
    "model.add(Dense(9, activation='relu'))\n",
    "model.add(Dense(2, activation='softmax'))\n",
    "# model.summary()\n",
    "model.compile(loss='categorical_crossentropy', metrics=['accuracy'], optimizer='adam')"
   ]
  },
  {
   "cell_type": "code",
   "execution_count": null,
   "id": "62f20e38",
   "metadata": {},
   "outputs": [],
   "source": [
    "import os"
   ]
  },
  {
   "cell_type": "code",
   "execution_count": null,
   "id": "80c0e017",
   "metadata": {},
   "outputs": [],
   "source": [
    "model_dir = './deep_model/model_check'\n",
    "if not os.path.exists(model_dir):\n",
    "    os.mkdir(model_dir)"
   ]
  },
  {
   "cell_type": "code",
   "execution_count": null,
   "id": "e35a92ea",
   "metadata": {},
   "outputs": [],
   "source": [
    "from tensorflow.keras.callbacks import ModelCheckpoint"
   ]
  },
  {
   "cell_type": "code",
   "execution_count": null,
   "id": "55899f32",
   "metadata": {},
   "outputs": [],
   "source": [
    "modelpath = './deep_model/model_check/{epoch:02d}-{val_loss:4f}.hdf5'\n",
    "checkpointer = ModelCheckpoint(filepath = modelpath, monitor='val_loss', verbose=1, \\\n",
    "                               save_best_only=True)"
   ]
  },
  {
   "cell_type": "code",
   "execution_count": null,
   "id": "44137c91",
   "metadata": {},
   "outputs": [],
   "source": [
    "history = model.fit(x_train, y_train, validation_split=0.2, batch_size=50, epochs=100, \\\n",
    "                    callbacks=[checkpointer])"
   ]
  },
  {
   "cell_type": "code",
   "execution_count": null,
   "id": "6b740aa5",
   "metadata": {},
   "outputs": [],
   "source": [
    "history.history"
   ]
  },
  {
   "cell_type": "code",
   "execution_count": null,
   "id": "31fc20dc",
   "metadata": {},
   "outputs": [],
   "source": [
    "plt.plot(history.history['loss'])\n",
    "plt.plot(history.history['val_loss'])"
   ]
  },
  {
   "cell_type": "code",
   "execution_count": null,
   "id": "0d49739b",
   "metadata": {},
   "outputs": [],
   "source": [
    "plt.plot(history.history['accuracy'])\n",
    "plt.plot(history.history['val_accuracy'])"
   ]
  },
  {
   "cell_type": "code",
   "execution_count": null,
   "id": "c99a9434",
   "metadata": {},
   "outputs": [],
   "source": [
    "# early stopping"
   ]
  },
  {
   "cell_type": "code",
   "execution_count": null,
   "id": "1d85ceaa",
   "metadata": {},
   "outputs": [],
   "source": [
    "x_train, x_test, y_train, y_test = train_test_split(x, y_oh)\n",
    "model = Sequential()\n",
    "model.add(Dense(36, activation='relu', input_dim=12))\n",
    "model.add(Dense(18, activation='relu'))\n",
    "model.add(Dense(9, activation='relu'))\n",
    "model.add(Dense(2, activation='softmax'))\n",
    "# model.summary()\n",
    "model.compile(loss='categorical_crossentropy', metrics=['accuracy'], optimizer='adam')"
   ]
  },
  {
   "cell_type": "code",
   "execution_count": null,
   "id": "5a4260a8",
   "metadata": {},
   "outputs": [],
   "source": [
    "from tensorflow.keras.callbacks import EarlyStopping"
   ]
  },
  {
   "cell_type": "code",
   "execution_count": null,
   "id": "981eaefe",
   "metadata": {},
   "outputs": [],
   "source": [
    "early_stopping_callback = EarlyStopping(monitor='val_loss', patience=7)"
   ]
  },
  {
   "cell_type": "code",
   "execution_count": null,
   "id": "d2cb51b2",
   "metadata": {},
   "outputs": [],
   "source": [
    "modelpath = './deep_model/model_check/{epoch:02d}-{val_loss:4f}.hdf5'\n",
    "checkpointer = ModelCheckpoint(filepath = modelpath, monitor='val_loss', verbose=1, \\\n",
    "                               save_best_only=True)"
   ]
  },
  {
   "cell_type": "code",
   "execution_count": null,
   "id": "dc0e9ad2",
   "metadata": {},
   "outputs": [],
   "source": [
    "history = model.fit(x_train, y_train, validation_split=0.2, batch_size=50, epochs=200, \\\n",
    "                    callbacks=[checkpointer, early_stopping_callback])"
   ]
  },
  {
   "cell_type": "code",
   "execution_count": null,
   "id": "73730e1e",
   "metadata": {},
   "outputs": [],
   "source": [
    "plt.plot(history.history['loss'])\n",
    "plt.plot(history.history['val_loss'])"
   ]
  },
  {
   "cell_type": "code",
   "execution_count": null,
   "id": "7938758a",
   "metadata": {},
   "outputs": [],
   "source": [
    "plt.plot(history.history['accuracy'])\n",
    "plt.plot(history.history['val_accuracy'])"
   ]
  },
  {
   "cell_type": "code",
   "execution_count": null,
   "id": "8a19e3d2",
   "metadata": {},
   "outputs": [],
   "source": [
    "model.evaluate(x_test, y_test)"
   ]
  },
  {
   "cell_type": "code",
   "execution_count": null,
   "id": "ef2f574e",
   "metadata": {},
   "outputs": [],
   "source": []
  }
 ],
 "metadata": {
  "kernelspec": {
   "display_name": "Python 3 (ipykernel)",
   "language": "python",
   "name": "python3"
  },
  "language_info": {
   "codemirror_mode": {
    "name": "ipython",
    "version": 3
   },
   "file_extension": ".py",
   "mimetype": "text/x-python",
   "name": "python",
   "nbconvert_exporter": "python",
   "pygments_lexer": "ipython3",
   "version": "3.9.7"
  },
  "varInspector": {
   "cols": {
    "lenName": 16,
    "lenType": 16,
    "lenVar": 40
   },
   "kernels_config": {
    "python": {
     "delete_cmd_postfix": "",
     "delete_cmd_prefix": "del ",
     "library": "var_list.py",
     "varRefreshCmd": "print(var_dic_list())"
    },
    "r": {
     "delete_cmd_postfix": ") ",
     "delete_cmd_prefix": "rm(",
     "library": "var_list.r",
     "varRefreshCmd": "cat(var_dic_list()) "
    }
   },
   "types_to_exclude": [
    "module",
    "function",
    "builtin_function_or_method",
    "instance",
    "_Feature"
   ],
   "window_display": false
  }
 },
 "nbformat": 4,
 "nbformat_minor": 5
}
