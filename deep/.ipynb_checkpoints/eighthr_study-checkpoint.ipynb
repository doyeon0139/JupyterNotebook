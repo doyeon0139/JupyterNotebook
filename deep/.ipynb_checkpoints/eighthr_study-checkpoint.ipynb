{
 "cells": [
  {
   "cell_type": "code",
   "execution_count": 1,
   "id": "9ace0a3d",
   "metadata": {},
   "outputs": [],
   "source": [
    "import pandas as pd\n",
    "import numpy as np\n",
    "import matplotlib.pyplot as plt\n",
    "import seaborn as sns"
   ]
  },
  {
   "cell_type": "code",
   "execution_count": 2,
   "id": "df397738",
   "metadata": {},
   "outputs": [],
   "source": [
    "import os "
   ]
  },
  {
   "cell_type": "code",
   "execution_count": 3,
   "id": "43cb94e3",
   "metadata": {},
   "outputs": [],
   "source": [
    "from tensorflow.keras.layers import *\n",
    "from tensorflow.keras.models import *\n",
    "from tensorflow.keras.utils import *\n",
    "from sklearn.preprocessing import *"
   ]
  },
  {
   "cell_type": "code",
   "execution_count": 165,
   "id": "255d3993",
   "metadata": {},
   "outputs": [
    {
     "data": {
      "text/html": [
       "<div>\n",
       "<style scoped>\n",
       "    .dataframe tbody tr th:only-of-type {\n",
       "        vertical-align: middle;\n",
       "    }\n",
       "\n",
       "    .dataframe tbody tr th {\n",
       "        vertical-align: top;\n",
       "    }\n",
       "\n",
       "    .dataframe thead th {\n",
       "        text-align: right;\n",
       "    }\n",
       "</style>\n",
       "<table border=\"1\" class=\"dataframe\">\n",
       "  <thead>\n",
       "    <tr style=\"text-align: right;\">\n",
       "      <th></th>\n",
       "      <th>1</th>\n",
       "      <th>2</th>\n",
       "      <th>3</th>\n",
       "      <th>4</th>\n",
       "      <th>5</th>\n",
       "      <th>6</th>\n",
       "      <th>7</th>\n",
       "      <th>8</th>\n",
       "      <th>9</th>\n",
       "      <th>10</th>\n",
       "      <th>...</th>\n",
       "      <th>64</th>\n",
       "      <th>65</th>\n",
       "      <th>66</th>\n",
       "      <th>67</th>\n",
       "      <th>68</th>\n",
       "      <th>69</th>\n",
       "      <th>70</th>\n",
       "      <th>71</th>\n",
       "      <th>72</th>\n",
       "      <th>73</th>\n",
       "    </tr>\n",
       "    <tr>\n",
       "      <th>0</th>\n",
       "      <th></th>\n",
       "      <th></th>\n",
       "      <th></th>\n",
       "      <th></th>\n",
       "      <th></th>\n",
       "      <th></th>\n",
       "      <th></th>\n",
       "      <th></th>\n",
       "      <th></th>\n",
       "      <th></th>\n",
       "      <th></th>\n",
       "      <th></th>\n",
       "      <th></th>\n",
       "      <th></th>\n",
       "      <th></th>\n",
       "      <th></th>\n",
       "      <th></th>\n",
       "      <th></th>\n",
       "      <th></th>\n",
       "      <th></th>\n",
       "      <th></th>\n",
       "    </tr>\n",
       "  </thead>\n",
       "  <tbody>\n",
       "    <tr>\n",
       "      <th>1/1/1998</th>\n",
       "      <td>0.8</td>\n",
       "      <td>1.8</td>\n",
       "      <td>2.4</td>\n",
       "      <td>2.1</td>\n",
       "      <td>2</td>\n",
       "      <td>2.1</td>\n",
       "      <td>1.5</td>\n",
       "      <td>1.7</td>\n",
       "      <td>1.9</td>\n",
       "      <td>2.3</td>\n",
       "      <td>...</td>\n",
       "      <td>0.15</td>\n",
       "      <td>10.67</td>\n",
       "      <td>-1.56</td>\n",
       "      <td>5795</td>\n",
       "      <td>-12.1</td>\n",
       "      <td>17.9</td>\n",
       "      <td>10330</td>\n",
       "      <td>-55</td>\n",
       "      <td>0</td>\n",
       "      <td>0.0</td>\n",
       "    </tr>\n",
       "    <tr>\n",
       "      <th>1/2/1998</th>\n",
       "      <td>2.8</td>\n",
       "      <td>3.2</td>\n",
       "      <td>3.3</td>\n",
       "      <td>2.7</td>\n",
       "      <td>3.3</td>\n",
       "      <td>3.2</td>\n",
       "      <td>2.9</td>\n",
       "      <td>2.8</td>\n",
       "      <td>3.1</td>\n",
       "      <td>3.4</td>\n",
       "      <td>...</td>\n",
       "      <td>0.48</td>\n",
       "      <td>8.39</td>\n",
       "      <td>3.84</td>\n",
       "      <td>5805</td>\n",
       "      <td>14.05</td>\n",
       "      <td>29</td>\n",
       "      <td>10275</td>\n",
       "      <td>-55</td>\n",
       "      <td>0</td>\n",
       "      <td>0.0</td>\n",
       "    </tr>\n",
       "    <tr>\n",
       "      <th>1/3/1998</th>\n",
       "      <td>2.9</td>\n",
       "      <td>2.8</td>\n",
       "      <td>2.6</td>\n",
       "      <td>2.1</td>\n",
       "      <td>2.2</td>\n",
       "      <td>2.5</td>\n",
       "      <td>2.5</td>\n",
       "      <td>2.7</td>\n",
       "      <td>2.2</td>\n",
       "      <td>2.5</td>\n",
       "      <td>...</td>\n",
       "      <td>0.6</td>\n",
       "      <td>6.94</td>\n",
       "      <td>9.8</td>\n",
       "      <td>5790</td>\n",
       "      <td>17.9</td>\n",
       "      <td>41.3</td>\n",
       "      <td>10235</td>\n",
       "      <td>-40</td>\n",
       "      <td>0</td>\n",
       "      <td>0.0</td>\n",
       "    </tr>\n",
       "    <tr>\n",
       "      <th>1/4/1998</th>\n",
       "      <td>4.7</td>\n",
       "      <td>3.8</td>\n",
       "      <td>3.7</td>\n",
       "      <td>3.8</td>\n",
       "      <td>2.9</td>\n",
       "      <td>3.1</td>\n",
       "      <td>2.8</td>\n",
       "      <td>2.5</td>\n",
       "      <td>2.4</td>\n",
       "      <td>3.1</td>\n",
       "      <td>...</td>\n",
       "      <td>0.49</td>\n",
       "      <td>8.73</td>\n",
       "      <td>10.54</td>\n",
       "      <td>5775</td>\n",
       "      <td>31.15</td>\n",
       "      <td>51.7</td>\n",
       "      <td>10195</td>\n",
       "      <td>-40</td>\n",
       "      <td>2.08</td>\n",
       "      <td>0.0</td>\n",
       "    </tr>\n",
       "    <tr>\n",
       "      <th>1/5/1998</th>\n",
       "      <td>2.6</td>\n",
       "      <td>2.1</td>\n",
       "      <td>1.6</td>\n",
       "      <td>1.4</td>\n",
       "      <td>0.9</td>\n",
       "      <td>1.5</td>\n",
       "      <td>1.2</td>\n",
       "      <td>1.4</td>\n",
       "      <td>1.3</td>\n",
       "      <td>1.4</td>\n",
       "      <td>...</td>\n",
       "      <td>?</td>\n",
       "      <td>?</td>\n",
       "      <td>?</td>\n",
       "      <td>?</td>\n",
       "      <td>?</td>\n",
       "      <td>?</td>\n",
       "      <td>?</td>\n",
       "      <td>?</td>\n",
       "      <td>0.58</td>\n",
       "      <td>0.0</td>\n",
       "    </tr>\n",
       "  </tbody>\n",
       "</table>\n",
       "<p>5 rows × 73 columns</p>\n",
       "</div>"
      ],
      "text/plain": [
       "           1    2    3    4    5    6    7    8    9    10  ...    64     65  \\\n",
       "0                                                           ...                \n",
       "1/1/1998  0.8  1.8  2.4  2.1    2  2.1  1.5  1.7  1.9  2.3  ...  0.15  10.67   \n",
       "1/2/1998  2.8  3.2  3.3  2.7  3.3  3.2  2.9  2.8  3.1  3.4  ...  0.48   8.39   \n",
       "1/3/1998  2.9  2.8  2.6  2.1  2.2  2.5  2.5  2.7  2.2  2.5  ...   0.6   6.94   \n",
       "1/4/1998  4.7  3.8  3.7  3.8  2.9  3.1  2.8  2.5  2.4  3.1  ...  0.49   8.73   \n",
       "1/5/1998  2.6  2.1  1.6  1.4  0.9  1.5  1.2  1.4  1.3  1.4  ...     ?      ?   \n",
       "\n",
       "             66    67     68    69     70   71    72   73  \n",
       "0                                                          \n",
       "1/1/1998  -1.56  5795  -12.1  17.9  10330  -55     0  0.0  \n",
       "1/2/1998   3.84  5805  14.05    29  10275  -55     0  0.0  \n",
       "1/3/1998    9.8  5790   17.9  41.3  10235  -40     0  0.0  \n",
       "1/4/1998  10.54  5775  31.15  51.7  10195  -40  2.08  0.0  \n",
       "1/5/1998      ?     ?      ?     ?      ?    ?  0.58  0.0  \n",
       "\n",
       "[5 rows x 73 columns]"
      ]
     },
     "execution_count": 165,
     "metadata": {},
     "output_type": "execute_result"
    }
   ],
   "source": [
    "df = pd.read_csv('./deep_data/eighthr.data', header=None, index_col=0)\n",
    "df.head()"
   ]
  },
  {
   "cell_type": "code",
   "execution_count": 166,
   "id": "2e75ccd0",
   "metadata": {},
   "outputs": [
    {
     "data": {
      "text/plain": [
       "0.0    2374\n",
       "1.0     160\n",
       "Name: 73, dtype: int64"
      ]
     },
     "execution_count": 166,
     "metadata": {},
     "output_type": "execute_result"
    }
   ],
   "source": [
    "df[73].value_counts()"
   ]
  },
  {
   "cell_type": "code",
   "execution_count": 16,
   "id": "f3941310",
   "metadata": {
    "collapsed": true
   },
   "outputs": [
    {
     "name": "stdout",
     "output_type": "stream",
     "text": [
      "<class 'pandas.core.frame.DataFrame'>\n",
      "Index: 2534 entries, 1/1/1998 to 12/31/2004\n",
      "Data columns (total 73 columns):\n",
      " #   Column  Non-Null Count  Dtype  \n",
      "---  ------  --------------  -----  \n",
      " 0   1       2534 non-null   object \n",
      " 1   2       2534 non-null   object \n",
      " 2   3       2534 non-null   object \n",
      " 3   4       2534 non-null   object \n",
      " 4   5       2534 non-null   object \n",
      " 5   6       2534 non-null   object \n",
      " 6   7       2534 non-null   object \n",
      " 7   8       2534 non-null   object \n",
      " 8   9       2534 non-null   object \n",
      " 9   10      2534 non-null   object \n",
      " 10  11      2534 non-null   object \n",
      " 11  12      2534 non-null   object \n",
      " 12  13      2534 non-null   object \n",
      " 13  14      2534 non-null   object \n",
      " 14  15      2534 non-null   object \n",
      " 15  16      2534 non-null   object \n",
      " 16  17      2534 non-null   object \n",
      " 17  18      2534 non-null   object \n",
      " 18  19      2534 non-null   object \n",
      " 19  20      2534 non-null   object \n",
      " 20  21      2534 non-null   object \n",
      " 21  22      2534 non-null   object \n",
      " 22  23      2534 non-null   object \n",
      " 23  24      2534 non-null   object \n",
      " 24  25      2534 non-null   object \n",
      " 25  26      2534 non-null   object \n",
      " 26  27      2534 non-null   object \n",
      " 27  28      2534 non-null   object \n",
      " 28  29      2534 non-null   object \n",
      " 29  30      2534 non-null   object \n",
      " 30  31      2534 non-null   object \n",
      " 31  32      2534 non-null   object \n",
      " 32  33      2534 non-null   object \n",
      " 33  34      2534 non-null   object \n",
      " 34  35      2534 non-null   object \n",
      " 35  36      2534 non-null   object \n",
      " 36  37      2534 non-null   object \n",
      " 37  38      2534 non-null   object \n",
      " 38  39      2534 non-null   object \n",
      " 39  40      2534 non-null   object \n",
      " 40  41      2534 non-null   object \n",
      " 41  42      2534 non-null   object \n",
      " 42  43      2534 non-null   object \n",
      " 43  44      2534 non-null   object \n",
      " 44  45      2534 non-null   object \n",
      " 45  46      2534 non-null   object \n",
      " 46  47      2534 non-null   object \n",
      " 47  48      2534 non-null   object \n",
      " 48  49      2534 non-null   object \n",
      " 49  50      2534 non-null   object \n",
      " 50  51      2534 non-null   object \n",
      " 51  52      2534 non-null   object \n",
      " 52  53      2534 non-null   object \n",
      " 53  54      2534 non-null   object \n",
      " 54  55      2534 non-null   object \n",
      " 55  56      2534 non-null   object \n",
      " 56  57      2534 non-null   object \n",
      " 57  58      2534 non-null   object \n",
      " 58  59      2534 non-null   object \n",
      " 59  60      2534 non-null   object \n",
      " 60  61      2534 non-null   object \n",
      " 61  62      2534 non-null   object \n",
      " 62  63      2534 non-null   object \n",
      " 63  64      2534 non-null   object \n",
      " 64  65      2534 non-null   object \n",
      " 65  66      2534 non-null   object \n",
      " 66  67      2534 non-null   object \n",
      " 67  68      2534 non-null   object \n",
      " 68  69      2534 non-null   object \n",
      " 69  70      2534 non-null   object \n",
      " 70  71      2534 non-null   object \n",
      " 71  72      2534 non-null   object \n",
      " 72  73      2534 non-null   float64\n",
      "dtypes: float64(1), object(72)\n",
      "memory usage: 1.4+ MB\n"
     ]
    }
   ],
   "source": [
    "df.info()"
   ]
  },
  {
   "cell_type": "code",
   "execution_count": null,
   "id": "f79d1cae",
   "metadata": {},
   "outputs": [],
   "source": [
    "# y = 73"
   ]
  },
  {
   "cell_type": "code",
   "execution_count": 167,
   "id": "38131899",
   "metadata": {},
   "outputs": [],
   "source": [
    "df = df.apply(lambda col: col.apply(lambda x: x if x != '?' else np.nan)).astype('float')  # ? nan값 처리"
   ]
  },
  {
   "cell_type": "code",
   "execution_count": 168,
   "id": "bca5ea0e",
   "metadata": {},
   "outputs": [],
   "source": [
    "df.interpolate(inplace=True)"
   ]
  },
  {
   "cell_type": "code",
   "execution_count": 162,
   "id": "a154d644",
   "metadata": {},
   "outputs": [],
   "source": [
    "# from sklearn.preprocessing import MinMaxScaler\n",
    "\n",
    "# scaler = MinMaxScaler()\n",
    "\n",
    "# df = scaler.fit_transform(df)"
   ]
  },
  {
   "cell_type": "code",
   "execution_count": 169,
   "id": "c26b9103",
   "metadata": {},
   "outputs": [],
   "source": [
    "x = df.iloc[:,:73].values        # x,y 나누기\n",
    "y = df[73].values"
   ]
  },
  {
   "cell_type": "code",
   "execution_count": 170,
   "id": "f3346cfd",
   "metadata": {},
   "outputs": [
    {
     "data": {
      "text/plain": [
       "array([[ 8.0e-01,  1.8e+00,  2.4e+00, ..., -5.5e+01,  0.0e+00,  0.0e+00],\n",
       "       [ 2.8e+00,  3.2e+00,  3.3e+00, ..., -5.5e+01,  0.0e+00,  0.0e+00],\n",
       "       [ 2.9e+00,  2.8e+00,  2.6e+00, ..., -4.0e+01,  0.0e+00,  0.0e+00],\n",
       "       ...,\n",
       "       [ 8.0e-01,  8.0e-01,  1.2e+00, ..., -3.5e+01,  0.0e+00,  0.0e+00],\n",
       "       [ 1.3e+00,  9.0e-01,  1.5e+00, ..., -3.0e+01,  5.0e-02,  0.0e+00],\n",
       "       [ 1.5e+00,  1.3e+00,  1.8e+00, ..., -2.5e+01,  0.0e+00,  0.0e+00]])"
      ]
     },
     "execution_count": 170,
     "metadata": {},
     "output_type": "execute_result"
    }
   ],
   "source": [
    "x"
   ]
  },
  {
   "cell_type": "code",
   "execution_count": 155,
   "id": "3a1dbc7d",
   "metadata": {},
   "outputs": [
    {
     "data": {
      "text/plain": [
       "(2534, 73)"
      ]
     },
     "execution_count": 155,
     "metadata": {},
     "output_type": "execute_result"
    }
   ],
   "source": [
    "x.shape"
   ]
  },
  {
   "cell_type": "code",
   "execution_count": 156,
   "id": "10ae74af",
   "metadata": {},
   "outputs": [
    {
     "data": {
      "text/plain": [
       "(2534,)"
      ]
     },
     "execution_count": 156,
     "metadata": {},
     "output_type": "execute_result"
    }
   ],
   "source": [
    "y.shape"
   ]
  },
  {
   "cell_type": "code",
   "execution_count": 171,
   "id": "638e8de6",
   "metadata": {},
   "outputs": [],
   "source": [
    "from sklearn.model_selection import train_test_split\n",
    "x_train, x_test, y_train, y_test = train_test_split(x, y, test_size=0.2, random_state=100)"
   ]
  },
  {
   "cell_type": "code",
   "execution_count": 64,
   "id": "db171a6a",
   "metadata": {},
   "outputs": [
    {
     "data": {
      "text/plain": [
       "(2534, 73)"
      ]
     },
     "execution_count": 64,
     "metadata": {},
     "output_type": "execute_result"
    }
   ],
   "source": [
    "x.shape"
   ]
  },
  {
   "cell_type": "code",
   "execution_count": 65,
   "id": "44b4f539",
   "metadata": {},
   "outputs": [
    {
     "data": {
      "text/plain": [
       "(2534,)"
      ]
     },
     "execution_count": 65,
     "metadata": {},
     "output_type": "execute_result"
    }
   ],
   "source": [
    "y.shape"
   ]
  },
  {
   "cell_type": "code",
   "execution_count": 66,
   "id": "ec37c0bc",
   "metadata": {},
   "outputs": [
    {
     "data": {
      "text/plain": [
       "(2027, 73)"
      ]
     },
     "execution_count": 66,
     "metadata": {},
     "output_type": "execute_result"
    }
   ],
   "source": [
    "x_train.shape"
   ]
  },
  {
   "cell_type": "code",
   "execution_count": null,
   "id": "898244c5",
   "metadata": {},
   "outputs": [],
   "source": []
  },
  {
   "cell_type": "code",
   "execution_count": 83,
   "id": "7d1c9d83",
   "metadata": {},
   "outputs": [
    {
     "name": "stdout",
     "output_type": "stream",
     "text": [
      "Model: \"sequential_5\"\n",
      "_________________________________________________________________\n",
      " Layer (type)                Output Shape              Param #   \n",
      "=================================================================\n",
      " dense_17 (Dense)            (None, 36)                2664      \n",
      "                                                                 \n",
      " dense_18 (Dense)            (None, 18)                666       \n",
      "                                                                 \n",
      " dense_19 (Dense)            (None, 9)                 171       \n",
      "                                                                 \n",
      " dense_20 (Dense)            (None, 1)                 10        \n",
      "                                                                 \n",
      "=================================================================\n",
      "Total params: 3,511\n",
      "Trainable params: 3,511\n",
      "Non-trainable params: 0\n",
      "_________________________________________________________________\n"
     ]
    }
   ],
   "source": [
    "model = Sequential()\n",
    "model.add(Dense(36, activation='relu', input_dim=73))\n",
    "model.add(Dense(18, activation='relu'))\n",
    "model.add(Dense(9, activation='relu'))\n",
    "model.add(Dense(1, activation='sigmoid'))\n",
    "model.summary()"
   ]
  },
  {
   "cell_type": "code",
   "execution_count": 84,
   "id": "af8432d1",
   "metadata": {},
   "outputs": [],
   "source": [
    "model.compile(loss='binary_crossentropy', metrics=['accuracy'], optimizer='adam')"
   ]
  },
  {
   "cell_type": "code",
   "execution_count": 85,
   "id": "55d5fb4d",
   "metadata": {
    "scrolled": true
   },
   "outputs": [
    {
     "name": "stdout",
     "output_type": "stream",
     "text": [
      "Epoch 1/50\n",
      "102/102 [==============================] - 1s 7ms/step - loss: 11.8591 - accuracy: 0.8564 - val_loss: 0.4228 - val_accuracy: 0.9231\n",
      "Epoch 2/50\n",
      "102/102 [==============================] - 1s 5ms/step - loss: 0.3127 - accuracy: 0.9216 - val_loss: 0.3006 - val_accuracy: 0.9270\n",
      "Epoch 3/50\n",
      "102/102 [==============================] - 0s 5ms/step - loss: 0.3361 - accuracy: 0.9216 - val_loss: 0.3086 - val_accuracy: 0.9270\n",
      "Epoch 4/50\n",
      "102/102 [==============================] - 0s 4ms/step - loss: 0.2963 - accuracy: 0.9299 - val_loss: 0.2544 - val_accuracy: 0.9270\n",
      "Epoch 5/50\n",
      "102/102 [==============================] - 0s 4ms/step - loss: 0.4299 - accuracy: 0.9068 - val_loss: 0.1992 - val_accuracy: 0.9270\n",
      "Epoch 6/50\n",
      "102/102 [==============================] - 0s 5ms/step - loss: 0.4182 - accuracy: 0.9161 - val_loss: 0.5354 - val_accuracy: 0.9270\n",
      "Epoch 7/50\n",
      "102/102 [==============================] - 0s 4ms/step - loss: 0.3074 - accuracy: 0.9191 - val_loss: 0.2231 - val_accuracy: 0.9270\n",
      "Epoch 8/50\n",
      "102/102 [==============================] - 0s 5ms/step - loss: 0.3778 - accuracy: 0.9097 - val_loss: 0.1900 - val_accuracy: 0.9270\n",
      "Epoch 9/50\n",
      "102/102 [==============================] - 0s 5ms/step - loss: 0.3371 - accuracy: 0.9225 - val_loss: 0.2863 - val_accuracy: 0.9270\n",
      "Epoch 10/50\n",
      "102/102 [==============================] - 0s 5ms/step - loss: 0.2707 - accuracy: 0.9304 - val_loss: 0.6197 - val_accuracy: 0.9270\n",
      "Epoch 11/50\n",
      "102/102 [==============================] - 0s 4ms/step - loss: 0.2308 - accuracy: 0.9304 - val_loss: 0.4977 - val_accuracy: 0.9270\n",
      "Epoch 12/50\n",
      "102/102 [==============================] - 0s 4ms/step - loss: 0.5616 - accuracy: 0.9058 - val_loss: 0.6458 - val_accuracy: 0.9270\n",
      "Epoch 13/50\n",
      "102/102 [==============================] - 0s 4ms/step - loss: 0.2830 - accuracy: 0.9295 - val_loss: 0.1851 - val_accuracy: 0.9211\n",
      "Epoch 14/50\n",
      "102/102 [==============================] - 0s 5ms/step - loss: 0.1994 - accuracy: 0.9349 - val_loss: 0.1876 - val_accuracy: 0.9270\n",
      "Epoch 15/50\n",
      "102/102 [==============================] - 0s 4ms/step - loss: 0.2216 - accuracy: 0.9324 - val_loss: 0.2773 - val_accuracy: 0.9270\n",
      "Epoch 16/50\n",
      "102/102 [==============================] - 0s 4ms/step - loss: 0.2338 - accuracy: 0.9295 - val_loss: 0.4974 - val_accuracy: 0.9270\n",
      "Epoch 17/50\n",
      "102/102 [==============================] - 0s 5ms/step - loss: 0.2915 - accuracy: 0.9240 - val_loss: 0.2571 - val_accuracy: 0.9270\n",
      "Epoch 18/50\n",
      "102/102 [==============================] - 0s 4ms/step - loss: 0.1954 - accuracy: 0.9354 - val_loss: 1.1822 - val_accuracy: 0.4201\n",
      "Epoch 19/50\n",
      "102/102 [==============================] - 0s 4ms/step - loss: 0.3178 - accuracy: 0.9225 - val_loss: 0.2057 - val_accuracy: 0.9369\n",
      "Epoch 20/50\n",
      "102/102 [==============================] - 0s 4ms/step - loss: 0.3203 - accuracy: 0.9221 - val_loss: 0.2323 - val_accuracy: 0.9270\n",
      "Epoch 21/50\n",
      "102/102 [==============================] - 0s 4ms/step - loss: 0.2088 - accuracy: 0.9304 - val_loss: 0.1805 - val_accuracy: 0.9270\n",
      "Epoch 22/50\n",
      "102/102 [==============================] - 0s 5ms/step - loss: 0.1958 - accuracy: 0.9349 - val_loss: 0.6388 - val_accuracy: 0.9270\n",
      "Epoch 23/50\n",
      "102/102 [==============================] - 0s 5ms/step - loss: 0.2710 - accuracy: 0.9230 - val_loss: 0.2198 - val_accuracy: 0.9211\n",
      "Epoch 24/50\n",
      "102/102 [==============================] - 0s 4ms/step - loss: 0.2516 - accuracy: 0.9314 - val_loss: 0.2013 - val_accuracy: 0.9408\n",
      "Epoch 25/50\n",
      "102/102 [==============================] - 0s 4ms/step - loss: 0.1832 - accuracy: 0.9378 - val_loss: 0.2553 - val_accuracy: 0.9270\n",
      "Epoch 26/50\n",
      "102/102 [==============================] - 0s 4ms/step - loss: 0.1750 - accuracy: 0.9393 - val_loss: 0.1778 - val_accuracy: 0.9310\n",
      "Epoch 27/50\n",
      "102/102 [==============================] - 0s 5ms/step - loss: 0.1970 - accuracy: 0.9324 - val_loss: 0.1839 - val_accuracy: 0.9270\n",
      "Epoch 28/50\n",
      "102/102 [==============================] - 0s 4ms/step - loss: 0.2457 - accuracy: 0.9319 - val_loss: 0.1785 - val_accuracy: 0.9290\n",
      "Epoch 29/50\n",
      "102/102 [==============================] - 0s 4ms/step - loss: 0.1868 - accuracy: 0.9447 - val_loss: 0.1907 - val_accuracy: 0.9389\n",
      "Epoch 30/50\n",
      "102/102 [==============================] - 0s 4ms/step - loss: 0.2288 - accuracy: 0.9255 - val_loss: 0.3060 - val_accuracy: 0.9270\n",
      "Epoch 31/50\n",
      "102/102 [==============================] - 0s 4ms/step - loss: 0.2097 - accuracy: 0.9349 - val_loss: 0.2086 - val_accuracy: 0.9270\n",
      "Epoch 32/50\n",
      "102/102 [==============================] - 0s 4ms/step - loss: 0.1851 - accuracy: 0.9403 - val_loss: 0.1769 - val_accuracy: 0.9310\n",
      "Epoch 33/50\n",
      "102/102 [==============================] - 0s 5ms/step - loss: 0.1849 - accuracy: 0.9457 - val_loss: 0.2819 - val_accuracy: 0.8698\n",
      "Epoch 34/50\n",
      "102/102 [==============================] - 1s 5ms/step - loss: 0.2716 - accuracy: 0.9196 - val_loss: 0.4566 - val_accuracy: 0.9270\n",
      "Epoch 35/50\n",
      "102/102 [==============================] - 0s 5ms/step - loss: 0.2702 - accuracy: 0.9230 - val_loss: 0.5987 - val_accuracy: 0.9270\n",
      "Epoch 36/50\n",
      "102/102 [==============================] - 0s 4ms/step - loss: 0.2116 - accuracy: 0.9329 - val_loss: 0.3031 - val_accuracy: 0.9270\n",
      "Epoch 37/50\n",
      "102/102 [==============================] - 0s 4ms/step - loss: 0.2419 - accuracy: 0.9349 - val_loss: 0.1816 - val_accuracy: 0.9270\n",
      "Epoch 38/50\n",
      "102/102 [==============================] - 0s 5ms/step - loss: 0.2465 - accuracy: 0.9255 - val_loss: 0.2376 - val_accuracy: 0.9270\n",
      "Epoch 39/50\n",
      "102/102 [==============================] - 0s 5ms/step - loss: 0.1651 - accuracy: 0.9393 - val_loss: 0.2131 - val_accuracy: 0.9270\n",
      "Epoch 40/50\n",
      "102/102 [==============================] - 0s 4ms/step - loss: 0.2055 - accuracy: 0.9378 - val_loss: 0.2486 - val_accuracy: 0.9270\n",
      "Epoch 41/50\n",
      "102/102 [==============================] - 0s 4ms/step - loss: 0.1625 - accuracy: 0.9443 - val_loss: 0.1763 - val_accuracy: 0.9310\n",
      "Epoch 42/50\n",
      "102/102 [==============================] - 0s 5ms/step - loss: 0.1536 - accuracy: 0.9428 - val_loss: 0.1776 - val_accuracy: 0.9428\n",
      "Epoch 43/50\n",
      "102/102 [==============================] - 1s 5ms/step - loss: 0.2040 - accuracy: 0.9304 - val_loss: 0.2379 - val_accuracy: 0.9270\n",
      "Epoch 44/50\n",
      "102/102 [==============================] - 1s 5ms/step - loss: 0.1951 - accuracy: 0.9354 - val_loss: 0.1828 - val_accuracy: 0.9270\n",
      "Epoch 45/50\n",
      "102/102 [==============================] - 0s 4ms/step - loss: 0.1834 - accuracy: 0.9393 - val_loss: 0.2205 - val_accuracy: 0.9310\n",
      "Epoch 46/50\n",
      "102/102 [==============================] - 0s 5ms/step - loss: 0.1965 - accuracy: 0.9354 - val_loss: 0.1939 - val_accuracy: 0.9428\n",
      "Epoch 47/50\n",
      "102/102 [==============================] - 0s 5ms/step - loss: 0.1525 - accuracy: 0.9443 - val_loss: 0.2273 - val_accuracy: 0.9270\n",
      "Epoch 48/50\n",
      "102/102 [==============================] - 1s 5ms/step - loss: 0.1589 - accuracy: 0.9418 - val_loss: 0.3420 - val_accuracy: 0.9270\n",
      "Epoch 49/50\n",
      "102/102 [==============================] - 1s 5ms/step - loss: 0.1800 - accuracy: 0.9398 - val_loss: 0.1750 - val_accuracy: 0.9329\n",
      "Epoch 50/50\n",
      "102/102 [==============================] - 0s 5ms/step - loss: 0.1635 - accuracy: 0.9413 - val_loss: 0.2057 - val_accuracy: 0.9349\n"
     ]
    }
   ],
   "source": [
    "hist = model.fit(x_train, y_train, epochs=50, batch_size=20, validation_data=(x_test, y_test))"
   ]
  },
  {
   "cell_type": "code",
   "execution_count": 86,
   "id": "6046d24e",
   "metadata": {},
   "outputs": [
    {
     "data": {
      "text/plain": [
       "[<matplotlib.lines.Line2D at 0x1dbc57099d0>]"
      ]
     },
     "execution_count": 86,
     "metadata": {},
     "output_type": "execute_result"
    },
    {
     "data": {
      "image/png": "[encoded data removed]",
      "text/plain": [
       "<Figure size 432x288 with 1 Axes>"
      ]
     },
     "metadata": {
      "needs_background": "light"
     },
     "output_type": "display_data"
    }
   ],
   "source": [
    "plt.plot(hist.history['accuracy'])\n",
    "plt.plot(hist.history['val_accuracy'])"
   ]
  },
  {
   "cell_type": "code",
   "execution_count": 87,
   "id": "4dab766d",
   "metadata": {},
   "outputs": [
    {
     "data": {
      "text/plain": [
       "[<matplotlib.lines.Line2D at 0x1dbc052de50>]"
      ]
     },
     "execution_count": 87,
     "metadata": {},
     "output_type": "execute_result"
    },
    {
     "data": {
      "image/png": "[encoded data removed]",
      "text/plain": [
       "<Figure size 432x288 with 1 Axes>"
      ]
     },
     "metadata": {
      "needs_background": "light"
     },
     "output_type": "display_data"
    }
   ],
   "source": [
    "plt.plot(hist.history['loss'])\n",
    "plt.plot(hist.history['val_loss'])"
   ]
  },
  {
   "cell_type": "code",
   "execution_count": null,
   "id": "cd6ba88d",
   "metadata": {},
   "outputs": [],
   "source": [
    "# LSTM"
   ]
  },
  {
   "cell_type": "code",
   "execution_count": 71,
   "id": "f68dba0f",
   "metadata": {},
   "outputs": [
    {
     "data": {
      "text/plain": [
       "((2027, 73), (507, 73))"
      ]
     },
     "execution_count": 71,
     "metadata": {},
     "output_type": "execute_result"
    }
   ],
   "source": [
    "x_train.shape, x_test.shape"
   ]
  },
  {
   "cell_type": "code",
   "execution_count": 172,
   "id": "baf510f0",
   "metadata": {},
   "outputs": [],
   "source": [
    "x_train_l = np.reshape(x_train, (2027,73,1))\n",
    "x_test_l = np.reshape(x_test, (507,73,1))"
   ]
  },
  {
   "cell_type": "code",
   "execution_count": 173,
   "id": "cd7fe932",
   "metadata": {},
   "outputs": [
    {
     "data": {
      "text/plain": [
       "(507, 73, 1)"
      ]
     },
     "execution_count": 173,
     "metadata": {},
     "output_type": "execute_result"
    }
   ],
   "source": [
    "x_test_l.shape"
   ]
  },
  {
   "cell_type": "code",
   "execution_count": 174,
   "id": "013eb0c1",
   "metadata": {},
   "outputs": [
    {
     "name": "stdout",
     "output_type": "stream",
     "text": [
      "Model: \"sequential_12\"\n",
      "_________________________________________________________________\n",
      " Layer (type)                Output Shape              Param #   \n",
      "=================================================================\n",
      " lstm_7 (LSTM)               (None, 128)               66560     \n",
      "                                                                 \n",
      " dense_27 (Dense)            (None, 1)                 129       \n",
      "                                                                 \n",
      "=================================================================\n",
      "Total params: 66,689\n",
      "Trainable params: 66,689\n",
      "Non-trainable params: 0\n",
      "_________________________________________________________________\n"
     ]
    }
   ],
   "source": [
    "model = Sequential()\n",
    "model.add(LSTM(128, input_shape=(73,1)))\n",
    "model.add(Dense(1, activation='sigmoid'))\n",
    "model.summary()"
   ]
  },
  {
   "cell_type": "code",
   "execution_count": 175,
   "id": "d900b406",
   "metadata": {},
   "outputs": [],
   "source": [
    "model.compile(loss='binary_crossentropy', metrics=['accuracy'], optimizer='adam')"
   ]
  },
  {
   "cell_type": "code",
   "execution_count": 176,
   "id": "5fd5c0a3",
   "metadata": {},
   "outputs": [
    {
     "name": "stdout",
     "output_type": "stream",
     "text": [
      "Epoch 1/10\n",
      "102/102 [==============================] - 3s 14ms/step - loss: 0.2386 - accuracy: 0.9393 - val_loss: 0.2377 - val_accuracy: 0.9270\n",
      "Epoch 2/10\n",
      "102/102 [==============================] - 1s 7ms/step - loss: 0.1991 - accuracy: 0.9393 - val_loss: 0.1955 - val_accuracy: 0.9270\n",
      "Epoch 3/10\n",
      "102/102 [==============================] - 1s 6ms/step - loss: 0.1694 - accuracy: 0.9393 - val_loss: 0.1532 - val_accuracy: 0.9270\n",
      "Epoch 4/10\n",
      "102/102 [==============================] - 1s 6ms/step - loss: 0.1139 - accuracy: 0.9487 - val_loss: 0.0936 - val_accuracy: 0.9448\n",
      "Epoch 5/10\n",
      "102/102 [==============================] - 1s 6ms/step - loss: 0.0649 - accuracy: 0.9773 - val_loss: 0.0424 - val_accuracy: 0.9961\n",
      "Epoch 6/10\n",
      "102/102 [==============================] - 1s 6ms/step - loss: 0.0311 - accuracy: 0.9980 - val_loss: 0.0262 - val_accuracy: 0.9941\n",
      "Epoch 7/10\n",
      "102/102 [==============================] - 1s 6ms/step - loss: 0.0184 - accuracy: 0.9985 - val_loss: 0.0140 - val_accuracy: 1.0000\n",
      "Epoch 8/10\n",
      "102/102 [==============================] - 1s 6ms/step - loss: 0.0108 - accuracy: 1.0000 - val_loss: 0.0094 - val_accuracy: 1.0000\n",
      "Epoch 9/10\n",
      "102/102 [==============================] - 1s 6ms/step - loss: 0.0075 - accuracy: 1.0000 - val_loss: 0.0068 - val_accuracy: 1.0000\n",
      "Epoch 10/10\n",
      "102/102 [==============================] - 1s 6ms/step - loss: 0.0052 - accuracy: 1.0000 - val_loss: 0.0050 - val_accuracy: 1.0000\n"
     ]
    }
   ],
   "source": [
    "hist = model.fit(x_train_l, y_train, epochs=10, batch_size=20, validation_data=(x_test_l, y_test))"
   ]
  },
  {
   "cell_type": "code",
   "execution_count": 177,
   "id": "b0358cb6",
   "metadata": {},
   "outputs": [
    {
     "data": {
      "text/plain": [
       "[<matplotlib.lines.Line2D at 0x1ddd73deee0>]"
      ]
     },
     "execution_count": 177,
     "metadata": {},
     "output_type": "execute_result"
    },
    {
     "data": {
      "image/png": "[encoded data removed]",
      "text/plain": [
       "<Figure size 432x288 with 1 Axes>"
      ]
     },
     "metadata": {
      "needs_background": "light"
     },
     "output_type": "display_data"
    }
   ],
   "source": [
    "plt.plot(hist.history['accuracy'])\n",
    "plt.plot(hist.history['val_accuracy'])"
   ]
  },
  {
   "cell_type": "code",
   "execution_count": 178,
   "id": "b79a3edd",
   "metadata": {},
   "outputs": [
    {
     "data": {
      "text/plain": [
       "[<matplotlib.lines.Line2D at 0x1ddd7448730>]"
      ]
     },
     "execution_count": 178,
     "metadata": {},
     "output_type": "execute_result"
    },
    {
     "data": {
      "image/png": "[encoded data removed]",
      "text/plain": [
       "<Figure size 432x288 with 1 Axes>"
      ]
     },
     "metadata": {
      "needs_background": "light"
     },
     "output_type": "display_data"
    }
   ],
   "source": [
    "plt.plot(hist.history['loss'])\n",
    "plt.plot(hist.history['val_loss'])"
   ]
  },
  {
   "cell_type": "code",
   "execution_count": null,
   "id": "cabd7cdd",
   "metadata": {},
   "outputs": [],
   "source": []
  },
  {
   "cell_type": "code",
   "execution_count": null,
   "id": "3cae8799",
   "metadata": {},
   "outputs": [],
   "source": [
    "# 강사님 버전"
   ]
  },
  {
   "cell_type": "code",
   "execution_count": 179,
   "id": "29298740",
   "metadata": {},
   "outputs": [
    {
     "data": {
      "text/html": [
       "<div>\n",
       "<style scoped>\n",
       "    .dataframe tbody tr th:only-of-type {\n",
       "        vertical-align: middle;\n",
       "    }\n",
       "\n",
       "    .dataframe tbody tr th {\n",
       "        vertical-align: top;\n",
       "    }\n",
       "\n",
       "    .dataframe thead th {\n",
       "        text-align: right;\n",
       "    }\n",
       "</style>\n",
       "<table border=\"1\" class=\"dataframe\">\n",
       "  <thead>\n",
       "    <tr style=\"text-align: right;\">\n",
       "      <th></th>\n",
       "      <th>0</th>\n",
       "      <th>1</th>\n",
       "      <th>2</th>\n",
       "      <th>3</th>\n",
       "      <th>4</th>\n",
       "      <th>5</th>\n",
       "      <th>6</th>\n",
       "      <th>7</th>\n",
       "      <th>8</th>\n",
       "      <th>9</th>\n",
       "      <th>...</th>\n",
       "      <th>64</th>\n",
       "      <th>65</th>\n",
       "      <th>66</th>\n",
       "      <th>67</th>\n",
       "      <th>68</th>\n",
       "      <th>69</th>\n",
       "      <th>70</th>\n",
       "      <th>71</th>\n",
       "      <th>72</th>\n",
       "      <th>73</th>\n",
       "    </tr>\n",
       "  </thead>\n",
       "  <tbody>\n",
       "    <tr>\n",
       "      <th>0</th>\n",
       "      <td>1/1/1998</td>\n",
       "      <td>0.8</td>\n",
       "      <td>1.8</td>\n",
       "      <td>2.4</td>\n",
       "      <td>2.1</td>\n",
       "      <td>2</td>\n",
       "      <td>2.1</td>\n",
       "      <td>1.5</td>\n",
       "      <td>1.7</td>\n",
       "      <td>1.9</td>\n",
       "      <td>...</td>\n",
       "      <td>0.15</td>\n",
       "      <td>10.67</td>\n",
       "      <td>-1.56</td>\n",
       "      <td>5795</td>\n",
       "      <td>-12.1</td>\n",
       "      <td>17.9</td>\n",
       "      <td>10330</td>\n",
       "      <td>-55</td>\n",
       "      <td>0</td>\n",
       "      <td>0.0</td>\n",
       "    </tr>\n",
       "    <tr>\n",
       "      <th>1</th>\n",
       "      <td>1/2/1998</td>\n",
       "      <td>2.8</td>\n",
       "      <td>3.2</td>\n",
       "      <td>3.3</td>\n",
       "      <td>2.7</td>\n",
       "      <td>3.3</td>\n",
       "      <td>3.2</td>\n",
       "      <td>2.9</td>\n",
       "      <td>2.8</td>\n",
       "      <td>3.1</td>\n",
       "      <td>...</td>\n",
       "      <td>0.48</td>\n",
       "      <td>8.39</td>\n",
       "      <td>3.84</td>\n",
       "      <td>5805</td>\n",
       "      <td>14.05</td>\n",
       "      <td>29</td>\n",
       "      <td>10275</td>\n",
       "      <td>-55</td>\n",
       "      <td>0</td>\n",
       "      <td>0.0</td>\n",
       "    </tr>\n",
       "    <tr>\n",
       "      <th>2</th>\n",
       "      <td>1/3/1998</td>\n",
       "      <td>2.9</td>\n",
       "      <td>2.8</td>\n",
       "      <td>2.6</td>\n",
       "      <td>2.1</td>\n",
       "      <td>2.2</td>\n",
       "      <td>2.5</td>\n",
       "      <td>2.5</td>\n",
       "      <td>2.7</td>\n",
       "      <td>2.2</td>\n",
       "      <td>...</td>\n",
       "      <td>0.6</td>\n",
       "      <td>6.94</td>\n",
       "      <td>9.8</td>\n",
       "      <td>5790</td>\n",
       "      <td>17.9</td>\n",
       "      <td>41.3</td>\n",
       "      <td>10235</td>\n",
       "      <td>-40</td>\n",
       "      <td>0</td>\n",
       "      <td>0.0</td>\n",
       "    </tr>\n",
       "    <tr>\n",
       "      <th>3</th>\n",
       "      <td>1/4/1998</td>\n",
       "      <td>4.7</td>\n",
       "      <td>3.8</td>\n",
       "      <td>3.7</td>\n",
       "      <td>3.8</td>\n",
       "      <td>2.9</td>\n",
       "      <td>3.1</td>\n",
       "      <td>2.8</td>\n",
       "      <td>2.5</td>\n",
       "      <td>2.4</td>\n",
       "      <td>...</td>\n",
       "      <td>0.49</td>\n",
       "      <td>8.73</td>\n",
       "      <td>10.54</td>\n",
       "      <td>5775</td>\n",
       "      <td>31.15</td>\n",
       "      <td>51.7</td>\n",
       "      <td>10195</td>\n",
       "      <td>-40</td>\n",
       "      <td>2.08</td>\n",
       "      <td>0.0</td>\n",
       "    </tr>\n",
       "    <tr>\n",
       "      <th>4</th>\n",
       "      <td>1/5/1998</td>\n",
       "      <td>2.6</td>\n",
       "      <td>2.1</td>\n",
       "      <td>1.6</td>\n",
       "      <td>1.4</td>\n",
       "      <td>0.9</td>\n",
       "      <td>1.5</td>\n",
       "      <td>1.2</td>\n",
       "      <td>1.4</td>\n",
       "      <td>1.3</td>\n",
       "      <td>...</td>\n",
       "      <td>?</td>\n",
       "      <td>?</td>\n",
       "      <td>?</td>\n",
       "      <td>?</td>\n",
       "      <td>?</td>\n",
       "      <td>?</td>\n",
       "      <td>?</td>\n",
       "      <td>?</td>\n",
       "      <td>0.58</td>\n",
       "      <td>0.0</td>\n",
       "    </tr>\n",
       "  </tbody>\n",
       "</table>\n",
       "<p>5 rows × 74 columns</p>\n",
       "</div>"
      ],
      "text/plain": [
       "         0    1    2    3    4    5    6    7    8    9   ...    64     65  \\\n",
       "0  1/1/1998  0.8  1.8  2.4  2.1    2  2.1  1.5  1.7  1.9  ...  0.15  10.67   \n",
       "1  1/2/1998  2.8  3.2  3.3  2.7  3.3  3.2  2.9  2.8  3.1  ...  0.48   8.39   \n",
       "2  1/3/1998  2.9  2.8  2.6  2.1  2.2  2.5  2.5  2.7  2.2  ...   0.6   6.94   \n",
       "3  1/4/1998  4.7  3.8  3.7  3.8  2.9  3.1  2.8  2.5  2.4  ...  0.49   8.73   \n",
       "4  1/5/1998  2.6  2.1  1.6  1.4  0.9  1.5  1.2  1.4  1.3  ...     ?      ?   \n",
       "\n",
       "      66    67     68    69     70   71    72   73  \n",
       "0  -1.56  5795  -12.1  17.9  10330  -55     0  0.0  \n",
       "1   3.84  5805  14.05    29  10275  -55     0  0.0  \n",
       "2    9.8  5790   17.9  41.3  10235  -40     0  0.0  \n",
       "3  10.54  5775  31.15  51.7  10195  -40  2.08  0.0  \n",
       "4      ?     ?      ?     ?      ?    ?  0.58  0.0  \n",
       "\n",
       "[5 rows x 74 columns]"
      ]
     },
     "execution_count": 179,
     "metadata": {},
     "output_type": "execute_result"
    }
   ],
   "source": [
    "df_t = pd.read_csv('./deep_data/eighthr.data', header=None)\n",
    "df_t.head()"
   ]
  },
  {
   "cell_type": "code",
   "execution_count": 180,
   "id": "8b1f2ab6",
   "metadata": {
    "scrolled": true
   },
   "outputs": [
    {
     "name": "stdout",
     "output_type": "stream",
     "text": [
      "<class 'pandas.core.frame.DataFrame'>\n",
      "RangeIndex: 2534 entries, 0 to 2533\n",
      "Data columns (total 73 columns):\n",
      " #   Column  Non-Null Count  Dtype  \n",
      "---  ------  --------------  -----  \n",
      " 0   1       2235 non-null   float64\n",
      " 1   2       2242 non-null   float64\n",
      " 2   3       2240 non-null   float64\n",
      " 3   4       2242 non-null   float64\n",
      " 4   5       2241 non-null   float64\n",
      " 5   6       2242 non-null   float64\n",
      " 6   7       2243 non-null   float64\n",
      " 7   8       2245 non-null   float64\n",
      " 8   9       2244 non-null   float64\n",
      " 9   10      2247 non-null   float64\n",
      " 10  11      2246 non-null   float64\n",
      " 11  12      2242 non-null   float64\n",
      " 12  13      2247 non-null   float64\n",
      " 13  14      2246 non-null   float64\n",
      " 14  15      2246 non-null   float64\n",
      " 15  16      2248 non-null   float64\n",
      " 16  17      2250 non-null   float64\n",
      " 17  18      2251 non-null   float64\n",
      " 18  19      2248 non-null   float64\n",
      " 19  20      2242 non-null   float64\n",
      " 20  21      2240 non-null   float64\n",
      " 21  22      2241 non-null   float64\n",
      " 22  23      2234 non-null   float64\n",
      " 23  24      2237 non-null   float64\n",
      " 24  25      2261 non-null   float64\n",
      " 25  26      2261 non-null   float64\n",
      " 26  27      2344 non-null   float64\n",
      " 27  28      2349 non-null   float64\n",
      " 28  29      2347 non-null   float64\n",
      " 29  30      2350 non-null   float64\n",
      " 30  31      2350 non-null   float64\n",
      " 31  32      2351 non-null   float64\n",
      " 32  33      2351 non-null   float64\n",
      " 33  34      2351 non-null   float64\n",
      " 34  35      2349 non-null   float64\n",
      " 35  36      2349 non-null   float64\n",
      " 36  37      2346 non-null   float64\n",
      " 37  38      2342 non-null   float64\n",
      " 38  39      2345 non-null   float64\n",
      " 39  40      2343 non-null   float64\n",
      " 40  41      2342 non-null   float64\n",
      " 41  42      2347 non-null   float64\n",
      " 42  43      2350 non-null   float64\n",
      " 43  44      2352 non-null   float64\n",
      " 44  45      2350 non-null   float64\n",
      " 45  46      2346 non-null   float64\n",
      " 46  47      2345 non-null   float64\n",
      " 47  48      2349 non-null   float64\n",
      " 48  49      2342 non-null   float64\n",
      " 49  50      2345 non-null   float64\n",
      " 50  51      2359 non-null   float64\n",
      " 51  52      2359 non-null   float64\n",
      " 52  53      2435 non-null   float64\n",
      " 53  54      2429 non-null   float64\n",
      " 54  55      2354 non-null   float64\n",
      " 55  56      2354 non-null   float64\n",
      " 56  57      2439 non-null   float64\n",
      " 57  58      2427 non-null   float64\n",
      " 58  59      2419 non-null   float64\n",
      " 59  60      2377 non-null   float64\n",
      " 60  61      2377 non-null   float64\n",
      " 61  62      2434 non-null   float64\n",
      " 62  63      2419 non-null   float64\n",
      " 63  64      2409 non-null   float64\n",
      " 64  65      2324 non-null   float64\n",
      " 65  66      2324 non-null   float64\n",
      " 66  67      2422 non-null   float64\n",
      " 67  68      2398 non-null   float64\n",
      " 68  69      2409 non-null   float64\n",
      " 69  70      2439 non-null   float64\n",
      " 70  71      2376 non-null   float64\n",
      " 71  72      2532 non-null   float64\n",
      " 72  73      2534 non-null   float64\n",
      "dtypes: float64(73)\n",
      "memory usage: 1.4 MB\n"
     ]
    }
   ],
   "source": [
    "df_t = df_t.iloc[:,1:].apply(pd.to_numeric, errors='coerce')\n",
    "df_t.info()"
   ]
  },
  {
   "cell_type": "code",
   "execution_count": 181,
   "id": "9deec778",
   "metadata": {},
   "outputs": [],
   "source": [
    "df_t.dropna(inplace=True)"
   ]
  },
  {
   "cell_type": "code",
   "execution_count": 182,
   "id": "2d5bdfef",
   "metadata": {},
   "outputs": [
    {
     "data": {
      "text/html": [
       "<div>\n",
       "<style scoped>\n",
       "    .dataframe tbody tr th:only-of-type {\n",
       "        vertical-align: middle;\n",
       "    }\n",
       "\n",
       "    .dataframe tbody tr th {\n",
       "        vertical-align: top;\n",
       "    }\n",
       "\n",
       "    .dataframe thead th {\n",
       "        text-align: right;\n",
       "    }\n",
       "</style>\n",
       "<table border=\"1\" class=\"dataframe\">\n",
       "  <thead>\n",
       "    <tr style=\"text-align: right;\">\n",
       "      <th></th>\n",
       "      <th>1</th>\n",
       "      <th>2</th>\n",
       "      <th>3</th>\n",
       "      <th>4</th>\n",
       "      <th>5</th>\n",
       "      <th>6</th>\n",
       "      <th>7</th>\n",
       "      <th>8</th>\n",
       "      <th>9</th>\n",
       "      <th>10</th>\n",
       "      <th>...</th>\n",
       "      <th>64</th>\n",
       "      <th>65</th>\n",
       "      <th>66</th>\n",
       "      <th>67</th>\n",
       "      <th>68</th>\n",
       "      <th>69</th>\n",
       "      <th>70</th>\n",
       "      <th>71</th>\n",
       "      <th>72</th>\n",
       "      <th>73</th>\n",
       "    </tr>\n",
       "  </thead>\n",
       "  <tbody>\n",
       "    <tr>\n",
       "      <th>0</th>\n",
       "      <td>0.8</td>\n",
       "      <td>1.8</td>\n",
       "      <td>2.4</td>\n",
       "      <td>2.1</td>\n",
       "      <td>2.0</td>\n",
       "      <td>2.1</td>\n",
       "      <td>1.5</td>\n",
       "      <td>1.7</td>\n",
       "      <td>1.9</td>\n",
       "      <td>2.3</td>\n",
       "      <td>...</td>\n",
       "      <td>0.15</td>\n",
       "      <td>10.67</td>\n",
       "      <td>-1.56</td>\n",
       "      <td>5795.0</td>\n",
       "      <td>-12.10</td>\n",
       "      <td>17.90</td>\n",
       "      <td>10330.0</td>\n",
       "      <td>-55.0</td>\n",
       "      <td>0.00</td>\n",
       "      <td>0.0</td>\n",
       "    </tr>\n",
       "    <tr>\n",
       "      <th>1</th>\n",
       "      <td>2.8</td>\n",
       "      <td>3.2</td>\n",
       "      <td>3.3</td>\n",
       "      <td>2.7</td>\n",
       "      <td>3.3</td>\n",
       "      <td>3.2</td>\n",
       "      <td>2.9</td>\n",
       "      <td>2.8</td>\n",
       "      <td>3.1</td>\n",
       "      <td>3.4</td>\n",
       "      <td>...</td>\n",
       "      <td>0.48</td>\n",
       "      <td>8.39</td>\n",
       "      <td>3.84</td>\n",
       "      <td>5805.0</td>\n",
       "      <td>14.05</td>\n",
       "      <td>29.00</td>\n",
       "      <td>10275.0</td>\n",
       "      <td>-55.0</td>\n",
       "      <td>0.00</td>\n",
       "      <td>0.0</td>\n",
       "    </tr>\n",
       "    <tr>\n",
       "      <th>2</th>\n",
       "      <td>2.9</td>\n",
       "      <td>2.8</td>\n",
       "      <td>2.6</td>\n",
       "      <td>2.1</td>\n",
       "      <td>2.2</td>\n",
       "      <td>2.5</td>\n",
       "      <td>2.5</td>\n",
       "      <td>2.7</td>\n",
       "      <td>2.2</td>\n",
       "      <td>2.5</td>\n",
       "      <td>...</td>\n",
       "      <td>0.60</td>\n",
       "      <td>6.94</td>\n",
       "      <td>9.80</td>\n",
       "      <td>5790.0</td>\n",
       "      <td>17.90</td>\n",
       "      <td>41.30</td>\n",
       "      <td>10235.0</td>\n",
       "      <td>-40.0</td>\n",
       "      <td>0.00</td>\n",
       "      <td>0.0</td>\n",
       "    </tr>\n",
       "    <tr>\n",
       "      <th>3</th>\n",
       "      <td>4.7</td>\n",
       "      <td>3.8</td>\n",
       "      <td>3.7</td>\n",
       "      <td>3.8</td>\n",
       "      <td>2.9</td>\n",
       "      <td>3.1</td>\n",
       "      <td>2.8</td>\n",
       "      <td>2.5</td>\n",
       "      <td>2.4</td>\n",
       "      <td>3.1</td>\n",
       "      <td>...</td>\n",
       "      <td>0.49</td>\n",
       "      <td>8.73</td>\n",
       "      <td>10.54</td>\n",
       "      <td>5775.0</td>\n",
       "      <td>31.15</td>\n",
       "      <td>51.70</td>\n",
       "      <td>10195.0</td>\n",
       "      <td>-40.0</td>\n",
       "      <td>2.08</td>\n",
       "      <td>0.0</td>\n",
       "    </tr>\n",
       "    <tr>\n",
       "      <th>6</th>\n",
       "      <td>3.7</td>\n",
       "      <td>3.2</td>\n",
       "      <td>3.8</td>\n",
       "      <td>5.1</td>\n",
       "      <td>6.0</td>\n",
       "      <td>7.0</td>\n",
       "      <td>6.3</td>\n",
       "      <td>6.4</td>\n",
       "      <td>6.3</td>\n",
       "      <td>5.4</td>\n",
       "      <td>...</td>\n",
       "      <td>0.84</td>\n",
       "      <td>6.86</td>\n",
       "      <td>25.60</td>\n",
       "      <td>5695.0</td>\n",
       "      <td>26.75</td>\n",
       "      <td>48.45</td>\n",
       "      <td>10040.0</td>\n",
       "      <td>-80.0</td>\n",
       "      <td>0.18</td>\n",
       "      <td>0.0</td>\n",
       "    </tr>\n",
       "    <tr>\n",
       "      <th>...</th>\n",
       "      <td>...</td>\n",
       "      <td>...</td>\n",
       "      <td>...</td>\n",
       "      <td>...</td>\n",
       "      <td>...</td>\n",
       "      <td>...</td>\n",
       "      <td>...</td>\n",
       "      <td>...</td>\n",
       "      <td>...</td>\n",
       "      <td>...</td>\n",
       "      <td>...</td>\n",
       "      <td>...</td>\n",
       "      <td>...</td>\n",
       "      <td>...</td>\n",
       "      <td>...</td>\n",
       "      <td>...</td>\n",
       "      <td>...</td>\n",
       "      <td>...</td>\n",
       "      <td>...</td>\n",
       "      <td>...</td>\n",
       "      <td>...</td>\n",
       "    </tr>\n",
       "    <tr>\n",
       "      <th>2529</th>\n",
       "      <td>0.3</td>\n",
       "      <td>0.4</td>\n",
       "      <td>0.5</td>\n",
       "      <td>0.5</td>\n",
       "      <td>0.2</td>\n",
       "      <td>0.3</td>\n",
       "      <td>0.4</td>\n",
       "      <td>0.4</td>\n",
       "      <td>1.3</td>\n",
       "      <td>2.2</td>\n",
       "      <td>...</td>\n",
       "      <td>0.07</td>\n",
       "      <td>7.93</td>\n",
       "      <td>-4.41</td>\n",
       "      <td>5800.0</td>\n",
       "      <td>-25.60</td>\n",
       "      <td>21.80</td>\n",
       "      <td>10295.0</td>\n",
       "      <td>65.0</td>\n",
       "      <td>0.00</td>\n",
       "      <td>0.0</td>\n",
       "    </tr>\n",
       "    <tr>\n",
       "      <th>2530</th>\n",
       "      <td>1.0</td>\n",
       "      <td>1.4</td>\n",
       "      <td>1.1</td>\n",
       "      <td>1.7</td>\n",
       "      <td>1.5</td>\n",
       "      <td>1.7</td>\n",
       "      <td>1.8</td>\n",
       "      <td>1.5</td>\n",
       "      <td>2.1</td>\n",
       "      <td>2.4</td>\n",
       "      <td>...</td>\n",
       "      <td>0.04</td>\n",
       "      <td>5.95</td>\n",
       "      <td>-1.14</td>\n",
       "      <td>5845.0</td>\n",
       "      <td>-19.40</td>\n",
       "      <td>19.10</td>\n",
       "      <td>10310.0</td>\n",
       "      <td>15.0</td>\n",
       "      <td>0.00</td>\n",
       "      <td>0.0</td>\n",
       "    </tr>\n",
       "    <tr>\n",
       "      <th>2531</th>\n",
       "      <td>0.8</td>\n",
       "      <td>0.8</td>\n",
       "      <td>1.2</td>\n",
       "      <td>0.9</td>\n",
       "      <td>0.4</td>\n",
       "      <td>0.6</td>\n",
       "      <td>0.8</td>\n",
       "      <td>1.1</td>\n",
       "      <td>1.5</td>\n",
       "      <td>1.5</td>\n",
       "      <td>...</td>\n",
       "      <td>0.06</td>\n",
       "      <td>7.80</td>\n",
       "      <td>-0.64</td>\n",
       "      <td>5845.0</td>\n",
       "      <td>-9.60</td>\n",
       "      <td>35.20</td>\n",
       "      <td>10275.0</td>\n",
       "      <td>-35.0</td>\n",
       "      <td>0.00</td>\n",
       "      <td>0.0</td>\n",
       "    </tr>\n",
       "    <tr>\n",
       "      <th>2532</th>\n",
       "      <td>1.3</td>\n",
       "      <td>0.9</td>\n",
       "      <td>1.5</td>\n",
       "      <td>1.2</td>\n",
       "      <td>1.6</td>\n",
       "      <td>1.8</td>\n",
       "      <td>1.1</td>\n",
       "      <td>1.0</td>\n",
       "      <td>1.9</td>\n",
       "      <td>2.0</td>\n",
       "      <td>...</td>\n",
       "      <td>0.25</td>\n",
       "      <td>7.72</td>\n",
       "      <td>-0.89</td>\n",
       "      <td>5845.0</td>\n",
       "      <td>-19.60</td>\n",
       "      <td>34.20</td>\n",
       "      <td>10245.0</td>\n",
       "      <td>-30.0</td>\n",
       "      <td>0.05</td>\n",
       "      <td>0.0</td>\n",
       "    </tr>\n",
       "    <tr>\n",
       "      <th>2533</th>\n",
       "      <td>1.5</td>\n",
       "      <td>1.3</td>\n",
       "      <td>1.8</td>\n",
       "      <td>1.4</td>\n",
       "      <td>1.2</td>\n",
       "      <td>1.7</td>\n",
       "      <td>1.6</td>\n",
       "      <td>1.4</td>\n",
       "      <td>1.6</td>\n",
       "      <td>3.0</td>\n",
       "      <td>...</td>\n",
       "      <td>0.54</td>\n",
       "      <td>13.07</td>\n",
       "      <td>9.15</td>\n",
       "      <td>5820.0</td>\n",
       "      <td>1.95</td>\n",
       "      <td>39.35</td>\n",
       "      <td>10220.0</td>\n",
       "      <td>-25.0</td>\n",
       "      <td>0.00</td>\n",
       "      <td>0.0</td>\n",
       "    </tr>\n",
       "  </tbody>\n",
       "</table>\n",
       "<p>1847 rows × 73 columns</p>\n",
       "</div>"
      ],
      "text/plain": [
       "       1    2    3    4    5    6    7    8    9    10  ...    64     65  \\\n",
       "0     0.8  1.8  2.4  2.1  2.0  2.1  1.5  1.7  1.9  2.3  ...  0.15  10.67   \n",
       "1     2.8  3.2  3.3  2.7  3.3  3.2  2.9  2.8  3.1  3.4  ...  0.48   8.39   \n",
       "2     2.9  2.8  2.6  2.1  2.2  2.5  2.5  2.7  2.2  2.5  ...  0.60   6.94   \n",
       "3     4.7  3.8  3.7  3.8  2.9  3.1  2.8  2.5  2.4  3.1  ...  0.49   8.73   \n",
       "6     3.7  3.2  3.8  5.1  6.0  7.0  6.3  6.4  6.3  5.4  ...  0.84   6.86   \n",
       "...   ...  ...  ...  ...  ...  ...  ...  ...  ...  ...  ...   ...    ...   \n",
       "2529  0.3  0.4  0.5  0.5  0.2  0.3  0.4  0.4  1.3  2.2  ...  0.07   7.93   \n",
       "2530  1.0  1.4  1.1  1.7  1.5  1.7  1.8  1.5  2.1  2.4  ...  0.04   5.95   \n",
       "2531  0.8  0.8  1.2  0.9  0.4  0.6  0.8  1.1  1.5  1.5  ...  0.06   7.80   \n",
       "2532  1.3  0.9  1.5  1.2  1.6  1.8  1.1  1.0  1.9  2.0  ...  0.25   7.72   \n",
       "2533  1.5  1.3  1.8  1.4  1.2  1.7  1.6  1.4  1.6  3.0  ...  0.54  13.07   \n",
       "\n",
       "         66      67     68     69       70    71    72   73  \n",
       "0     -1.56  5795.0 -12.10  17.90  10330.0 -55.0  0.00  0.0  \n",
       "1      3.84  5805.0  14.05  29.00  10275.0 -55.0  0.00  0.0  \n",
       "2      9.80  5790.0  17.90  41.30  10235.0 -40.0  0.00  0.0  \n",
       "3     10.54  5775.0  31.15  51.70  10195.0 -40.0  2.08  0.0  \n",
       "6     25.60  5695.0  26.75  48.45  10040.0 -80.0  0.18  0.0  \n",
       "...     ...     ...    ...    ...      ...   ...   ...  ...  \n",
       "2529  -4.41  5800.0 -25.60  21.80  10295.0  65.0  0.00  0.0  \n",
       "2530  -1.14  5845.0 -19.40  19.10  10310.0  15.0  0.00  0.0  \n",
       "2531  -0.64  5845.0  -9.60  35.20  10275.0 -35.0  0.00  0.0  \n",
       "2532  -0.89  5845.0 -19.60  34.20  10245.0 -30.0  0.05  0.0  \n",
       "2533   9.15  5820.0   1.95  39.35  10220.0 -25.0  0.00  0.0  \n",
       "\n",
       "[1847 rows x 73 columns]"
      ]
     },
     "execution_count": 182,
     "metadata": {},
     "output_type": "execute_result"
    }
   ],
   "source": [
    "df_t"
   ]
  },
  {
   "cell_type": "code",
   "execution_count": 183,
   "id": "f15f34d2",
   "metadata": {},
   "outputs": [],
   "source": [
    "df_t_sc = scaler.fit_transform(df_t)"
   ]
  },
  {
   "cell_type": "code",
   "execution_count": 184,
   "id": "4e3dbee8",
   "metadata": {},
   "outputs": [],
   "source": [
    "y_t = df_t_sc[:,-1]\n",
    "x_t = df_t_sc[:,:-1]"
   ]
  },
  {
   "cell_type": "code",
   "execution_count": 141,
   "id": "b211c457",
   "metadata": {},
   "outputs": [
    {
     "data": {
      "text/plain": [
       "array([0., 0., 0., ..., 0., 0., 0.])"
      ]
     },
     "execution_count": 141,
     "metadata": {},
     "output_type": "execute_result"
    }
   ],
   "source": [
    "y_t"
   ]
  },
  {
   "cell_type": "code",
   "execution_count": 185,
   "id": "ae4ba211",
   "metadata": {
    "scrolled": true
   },
   "outputs": [
    {
     "data": {
      "text/plain": [
       "array([[[0.11594203],\n",
       "        [0.26086957],\n",
       "        [0.33802817],\n",
       "        ...,\n",
       "        [0.94366197],\n",
       "        [0.29090909],\n",
       "        [0.        ]],\n",
       "\n",
       "       [[0.4057971 ],\n",
       "        [0.46376812],\n",
       "        [0.46478873],\n",
       "        ...,\n",
       "        [0.78873239],\n",
       "        [0.29090909],\n",
       "        [0.        ]],\n",
       "\n",
       "       [[0.42028986],\n",
       "        [0.4057971 ],\n",
       "        [0.36619718],\n",
       "        ...,\n",
       "        [0.67605634],\n",
       "        [0.34545455],\n",
       "        [0.        ]],\n",
       "\n",
       "       ...,\n",
       "\n",
       "       [[0.11594203],\n",
       "        [0.11594203],\n",
       "        [0.16901408],\n",
       "        ...,\n",
       "        [0.78873239],\n",
       "        [0.36363636],\n",
       "        [0.        ]],\n",
       "\n",
       "       [[0.1884058 ],\n",
       "        [0.13043478],\n",
       "        [0.21126761],\n",
       "        ...,\n",
       "        [0.70422535],\n",
       "        [0.38181818],\n",
       "        [0.00242131]],\n",
       "\n",
       "       [[0.2173913 ],\n",
       "        [0.1884058 ],\n",
       "        [0.25352113],\n",
       "        ...,\n",
       "        [0.63380282],\n",
       "        [0.4       ],\n",
       "        [0.        ]]])"
      ]
     },
     "execution_count": 185,
     "metadata": {},
     "output_type": "execute_result"
    }
   ],
   "source": [
    "x_t.reshape(1847, 72, 1)"
   ]
  },
  {
   "cell_type": "code",
   "execution_count": null,
   "id": "d19dcbb8",
   "metadata": {},
   "outputs": [],
   "source": []
  },
  {
   "cell_type": "code",
   "execution_count": 186,
   "id": "0b689992",
   "metadata": {},
   "outputs": [
    {
     "name": "stdout",
     "output_type": "stream",
     "text": [
      "Model: \"sequential_13\"\n",
      "_________________________________________________________________\n",
      " Layer (type)                Output Shape              Param #   \n",
      "=================================================================\n",
      " lstm_8 (LSTM)               (None, 128)               66560     \n",
      "                                                                 \n",
      " dense_28 (Dense)            (None, 1)                 129       \n",
      "                                                                 \n",
      "=================================================================\n",
      "Total params: 66,689\n",
      "Trainable params: 66,689\n",
      "Non-trainable params: 0\n",
      "_________________________________________________________________\n"
     ]
    }
   ],
   "source": [
    "model = Sequential()\n",
    "model.add(LSTM(128, input_shape=(72,1)))\n",
    "model.add(Dense(1, activation='sigmoid'))\n",
    "model.summary()"
   ]
  },
  {
   "cell_type": "code",
   "execution_count": 187,
   "id": "02ddf47b",
   "metadata": {},
   "outputs": [],
   "source": [
    "model.compile(loss='binary_crossentropy', optimizer='adam', metrics=['accuracy'])"
   ]
  },
  {
   "cell_type": "code",
   "execution_count": 188,
   "id": "26d2cae1",
   "metadata": {
    "scrolled": true
   },
   "outputs": [
    {
     "name": "stdout",
     "output_type": "stream",
     "text": [
      "Epoch 1/100\n",
      "148/148 [==============================] - 2s 10ms/step - loss: 0.3272 - accuracy: 0.9072 - val_loss: 0.1197 - val_accuracy: 0.9811\n",
      "Epoch 2/100\n",
      "148/148 [==============================] - 1s 6ms/step - loss: 0.2844 - accuracy: 0.9181 - val_loss: 0.1134 - val_accuracy: 0.9811\n",
      "Epoch 3/100\n",
      "148/148 [==============================] - 1s 6ms/step - loss: 0.2859 - accuracy: 0.9181 - val_loss: 0.1377 - val_accuracy: 0.9811\n",
      "Epoch 4/100\n",
      "148/148 [==============================] - 1s 6ms/step - loss: 0.2846 - accuracy: 0.9181 - val_loss: 0.1166 - val_accuracy: 0.9811\n",
      "Epoch 5/100\n",
      "148/148 [==============================] - 1s 6ms/step - loss: 0.2848 - accuracy: 0.9181 - val_loss: 0.1400 - val_accuracy: 0.9811\n",
      "Epoch 6/100\n",
      "148/148 [==============================] - 1s 6ms/step - loss: 0.2848 - accuracy: 0.9181 - val_loss: 0.1161 - val_accuracy: 0.9811\n",
      "Epoch 7/100\n",
      "148/148 [==============================] - 1s 6ms/step - loss: 0.2846 - accuracy: 0.9181 - val_loss: 0.1253 - val_accuracy: 0.9811\n",
      "Epoch 8/100\n",
      "148/148 [==============================] - 1s 6ms/step - loss: 0.2851 - accuracy: 0.9181 - val_loss: 0.1296 - val_accuracy: 0.9811\n",
      "Epoch 9/100\n",
      "148/148 [==============================] - 1s 6ms/step - loss: 0.2839 - accuracy: 0.9181 - val_loss: 0.1165 - val_accuracy: 0.9811\n",
      "Epoch 10/100\n",
      "148/148 [==============================] - 1s 6ms/step - loss: 0.2857 - accuracy: 0.9181 - val_loss: 0.1216 - val_accuracy: 0.9811\n",
      "Epoch 11/100\n",
      "148/148 [==============================] - 1s 6ms/step - loss: 0.2844 - accuracy: 0.9181 - val_loss: 0.1332 - val_accuracy: 0.9811\n",
      "Epoch 12/100\n",
      "148/148 [==============================] - 1s 6ms/step - loss: 0.2837 - accuracy: 0.9181 - val_loss: 0.1150 - val_accuracy: 0.9811\n",
      "Epoch 13/100\n",
      "148/148 [==============================] - 1s 6ms/step - loss: 0.2858 - accuracy: 0.9181 - val_loss: 0.1294 - val_accuracy: 0.9811\n",
      "Epoch 14/100\n",
      "148/148 [==============================] - 1s 6ms/step - loss: 0.2842 - accuracy: 0.9181 - val_loss: 0.1404 - val_accuracy: 0.9811\n",
      "Epoch 15/100\n",
      "148/148 [==============================] - 1s 6ms/step - loss: 0.2841 - accuracy: 0.9181 - val_loss: 0.1311 - val_accuracy: 0.9811\n",
      "Epoch 16/100\n",
      "148/148 [==============================] - 1s 6ms/step - loss: 0.2845 - accuracy: 0.9181 - val_loss: 0.1268 - val_accuracy: 0.9811\n",
      "Epoch 17/100\n",
      "148/148 [==============================] - 1s 6ms/step - loss: 0.2845 - accuracy: 0.9181 - val_loss: 0.1233 - val_accuracy: 0.9811\n",
      "Epoch 18/100\n",
      "148/148 [==============================] - 1s 6ms/step - loss: 0.2842 - accuracy: 0.9181 - val_loss: 0.1377 - val_accuracy: 0.9811\n",
      "Epoch 19/100\n",
      "148/148 [==============================] - 1s 6ms/step - loss: 0.2836 - accuracy: 0.9181 - val_loss: 0.1384 - val_accuracy: 0.9811\n",
      "Epoch 20/100\n",
      "148/148 [==============================] - 1s 6ms/step - loss: 0.2833 - accuracy: 0.9181 - val_loss: 0.1292 - val_accuracy: 0.9811\n",
      "Epoch 21/100\n",
      "148/148 [==============================] - 1s 6ms/step - loss: 0.2823 - accuracy: 0.9181 - val_loss: 0.1128 - val_accuracy: 0.9811\n",
      "Epoch 22/100\n",
      "148/148 [==============================] - 1s 6ms/step - loss: 0.2827 - accuracy: 0.9181 - val_loss: 0.1373 - val_accuracy: 0.9811\n",
      "Epoch 23/100\n",
      "148/148 [==============================] - 1s 6ms/step - loss: 0.2788 - accuracy: 0.9181 - val_loss: 0.1338 - val_accuracy: 0.9811\n",
      "Epoch 24/100\n",
      "148/148 [==============================] - 1s 6ms/step - loss: 0.2781 - accuracy: 0.9181 - val_loss: 0.1302 - val_accuracy: 0.9811\n",
      "Epoch 25/100\n",
      "148/148 [==============================] - 1s 6ms/step - loss: 0.2771 - accuracy: 0.9181 - val_loss: 0.1210 - val_accuracy: 0.9811\n",
      "Epoch 26/100\n",
      "148/148 [==============================] - 1s 6ms/step - loss: 0.2727 - accuracy: 0.9181 - val_loss: 0.1083 - val_accuracy: 0.9811\n",
      "Epoch 27/100\n",
      "148/148 [==============================] - 1s 6ms/step - loss: 0.2726 - accuracy: 0.9181 - val_loss: 0.1221 - val_accuracy: 0.9811\n",
      "Epoch 28/100\n",
      "148/148 [==============================] - 1s 6ms/step - loss: 0.2702 - accuracy: 0.9181 - val_loss: 0.1040 - val_accuracy: 0.9811\n",
      "Epoch 29/100\n",
      "148/148 [==============================] - 1s 6ms/step - loss: 0.2808 - accuracy: 0.9181 - val_loss: 0.1301 - val_accuracy: 0.9811\n",
      "Epoch 30/100\n",
      "148/148 [==============================] - 1s 6ms/step - loss: 0.2681 - accuracy: 0.9181 - val_loss: 0.1020 - val_accuracy: 0.9811\n",
      "Epoch 31/100\n",
      "148/148 [==============================] - 1s 6ms/step - loss: 0.2827 - accuracy: 0.9181 - val_loss: 0.1321 - val_accuracy: 0.9811\n",
      "Epoch 32/100\n",
      "148/148 [==============================] - 1s 6ms/step - loss: 0.2801 - accuracy: 0.9181 - val_loss: 0.1346 - val_accuracy: 0.9811\n",
      "Epoch 33/100\n",
      "148/148 [==============================] - 1s 6ms/step - loss: 0.2770 - accuracy: 0.9181 - val_loss: 0.1262 - val_accuracy: 0.9811\n",
      "Epoch 34/100\n",
      "148/148 [==============================] - 1s 6ms/step - loss: 0.2695 - accuracy: 0.9181 - val_loss: 0.1552 - val_accuracy: 0.9811\n",
      "Epoch 35/100\n",
      "148/148 [==============================] - 1s 6ms/step - loss: 0.2696 - accuracy: 0.9181 - val_loss: 0.1311 - val_accuracy: 0.9811\n",
      "Epoch 36/100\n",
      "148/148 [==============================] - 1s 6ms/step - loss: 0.2663 - accuracy: 0.9181 - val_loss: 0.1094 - val_accuracy: 0.9811\n",
      "Epoch 37/100\n",
      "148/148 [==============================] - 1s 6ms/step - loss: 0.2682 - accuracy: 0.9181 - val_loss: 0.1179 - val_accuracy: 0.9811\n",
      "Epoch 38/100\n",
      "148/148 [==============================] - 1s 6ms/step - loss: 0.2619 - accuracy: 0.9181 - val_loss: 0.0993 - val_accuracy: 0.9811\n",
      "Epoch 39/100\n",
      "148/148 [==============================] - 1s 6ms/step - loss: 0.2668 - accuracy: 0.9181 - val_loss: 0.1310 - val_accuracy: 0.9811\n",
      "Epoch 40/100\n",
      "148/148 [==============================] - 1s 6ms/step - loss: 0.2633 - accuracy: 0.9181 - val_loss: 0.1136 - val_accuracy: 0.9811\n",
      "Epoch 41/100\n",
      "148/148 [==============================] - 1s 6ms/step - loss: 0.2651 - accuracy: 0.9181 - val_loss: 0.1527 - val_accuracy: 0.9811\n",
      "Epoch 42/100\n",
      "148/148 [==============================] - 1s 6ms/step - loss: 0.2669 - accuracy: 0.9181 - val_loss: 0.1406 - val_accuracy: 0.9811\n",
      "Epoch 43/100\n",
      "148/148 [==============================] - 1s 6ms/step - loss: 0.2663 - accuracy: 0.9181 - val_loss: 0.1109 - val_accuracy: 0.9811\n",
      "Epoch 44/100\n",
      "148/148 [==============================] - 1s 6ms/step - loss: 0.2620 - accuracy: 0.9181 - val_loss: 0.1006 - val_accuracy: 0.9811\n",
      "Epoch 45/100\n",
      "148/148 [==============================] - 1s 6ms/step - loss: 0.2650 - accuracy: 0.9181 - val_loss: 0.1137 - val_accuracy: 0.9811\n",
      "Epoch 46/100\n",
      "148/148 [==============================] - 1s 6ms/step - loss: 0.2613 - accuracy: 0.9181 - val_loss: 0.1141 - val_accuracy: 0.9811\n",
      "Epoch 47/100\n",
      "148/148 [==============================] - 1s 6ms/step - loss: 0.2672 - accuracy: 0.9181 - val_loss: 0.1236 - val_accuracy: 0.9811\n",
      "Epoch 48/100\n",
      "148/148 [==============================] - 1s 6ms/step - loss: 0.2625 - accuracy: 0.9181 - val_loss: 0.1236 - val_accuracy: 0.9811\n",
      "Epoch 49/100\n",
      "148/148 [==============================] - 1s 5ms/step - loss: 0.2615 - accuracy: 0.9181 - val_loss: 0.1173 - val_accuracy: 0.9811\n",
      "Epoch 50/100\n",
      "148/148 [==============================] - 1s 5ms/step - loss: 0.2629 - accuracy: 0.9181 - val_loss: 0.1299 - val_accuracy: 0.9811\n",
      "Epoch 51/100\n",
      "148/148 [==============================] - 1s 6ms/step - loss: 0.2590 - accuracy: 0.9181 - val_loss: 0.1280 - val_accuracy: 0.9811\n",
      "Epoch 52/100\n",
      "148/148 [==============================] - 1s 6ms/step - loss: 0.2759 - accuracy: 0.9181 - val_loss: 0.1158 - val_accuracy: 0.9811\n",
      "Epoch 53/100\n",
      "148/148 [==============================] - 1s 6ms/step - loss: 0.2657 - accuracy: 0.9181 - val_loss: 0.1148 - val_accuracy: 0.9811\n",
      "Epoch 54/100\n",
      "148/148 [==============================] - 1s 6ms/step - loss: 0.2675 - accuracy: 0.9181 - val_loss: 0.1195 - val_accuracy: 0.9811\n",
      "Epoch 55/100\n",
      "148/148 [==============================] - 1s 6ms/step - loss: 0.2645 - accuracy: 0.9181 - val_loss: 0.1485 - val_accuracy: 0.9811\n",
      "Epoch 56/100\n",
      "148/148 [==============================] - 1s 6ms/step - loss: 0.2638 - accuracy: 0.9181 - val_loss: 0.1026 - val_accuracy: 0.9811\n",
      "Epoch 57/100\n",
      "148/148 [==============================] - 1s 6ms/step - loss: 0.2679 - accuracy: 0.9181 - val_loss: 0.1189 - val_accuracy: 0.9811\n"
     ]
    },
    {
     "name": "stdout",
     "output_type": "stream",
     "text": [
      "Epoch 58/100\n",
      "148/148 [==============================] - 1s 6ms/step - loss: 0.2883 - accuracy: 0.9181 - val_loss: 0.1576 - val_accuracy: 0.9811\n",
      "Epoch 59/100\n",
      "148/148 [==============================] - 1s 6ms/step - loss: 0.2772 - accuracy: 0.9181 - val_loss: 0.1164 - val_accuracy: 0.9811\n",
      "Epoch 60/100\n",
      "148/148 [==============================] - 1s 6ms/step - loss: 0.2756 - accuracy: 0.9181 - val_loss: 0.1300 - val_accuracy: 0.9811\n",
      "Epoch 61/100\n",
      "148/148 [==============================] - 1s 6ms/step - loss: 0.2715 - accuracy: 0.9181 - val_loss: 0.1195 - val_accuracy: 0.9811\n",
      "Epoch 62/100\n",
      "148/148 [==============================] - 1s 6ms/step - loss: 0.2656 - accuracy: 0.9181 - val_loss: 0.1397 - val_accuracy: 0.9811\n",
      "Epoch 63/100\n",
      "148/148 [==============================] - 1s 6ms/step - loss: 0.2603 - accuracy: 0.9181 - val_loss: 0.1137 - val_accuracy: 0.9811\n",
      "Epoch 64/100\n",
      "148/148 [==============================] - 1s 6ms/step - loss: 0.2563 - accuracy: 0.9181 - val_loss: 0.1234 - val_accuracy: 0.9811\n",
      "Epoch 65/100\n",
      "148/148 [==============================] - 1s 5ms/step - loss: 0.2549 - accuracy: 0.9181 - val_loss: 0.1024 - val_accuracy: 0.9811\n",
      "Epoch 66/100\n",
      "148/148 [==============================] - 1s 5ms/step - loss: 0.2658 - accuracy: 0.9181 - val_loss: 0.1182 - val_accuracy: 0.9811\n",
      "Epoch 67/100\n",
      "148/148 [==============================] - 1s 6ms/step - loss: 0.2526 - accuracy: 0.9181 - val_loss: 0.1170 - val_accuracy: 0.9811\n",
      "Epoch 68/100\n",
      "148/148 [==============================] - 1s 6ms/step - loss: 0.2696 - accuracy: 0.9181 - val_loss: 0.1353 - val_accuracy: 0.9811\n",
      "Epoch 69/100\n",
      "148/148 [==============================] - 1s 6ms/step - loss: 0.2621 - accuracy: 0.9181 - val_loss: 0.1228 - val_accuracy: 0.9811\n",
      "Epoch 70/100\n",
      "148/148 [==============================] - 1s 6ms/step - loss: 0.2542 - accuracy: 0.9181 - val_loss: 0.1226 - val_accuracy: 0.9811\n",
      "Epoch 71/100\n",
      "148/148 [==============================] - 1s 6ms/step - loss: 0.2904 - accuracy: 0.9181 - val_loss: 0.1132 - val_accuracy: 0.9811\n",
      "Epoch 72/100\n",
      "148/148 [==============================] - 1s 6ms/step - loss: 0.2710 - accuracy: 0.9181 - val_loss: 0.1288 - val_accuracy: 0.9811\n",
      "Epoch 73/100\n",
      "148/148 [==============================] - 1s 6ms/step - loss: 0.2675 - accuracy: 0.9181 - val_loss: 0.1257 - val_accuracy: 0.9811\n",
      "Epoch 74/100\n",
      "148/148 [==============================] - 1s 6ms/step - loss: 0.2610 - accuracy: 0.9181 - val_loss: 0.1122 - val_accuracy: 0.9811\n",
      "Epoch 75/100\n",
      "148/148 [==============================] - 1s 6ms/step - loss: 0.2712 - accuracy: 0.9181 - val_loss: 0.1249 - val_accuracy: 0.9811\n",
      "Epoch 76/100\n",
      "148/148 [==============================] - 1s 6ms/step - loss: 0.2654 - accuracy: 0.9181 - val_loss: 0.1327 - val_accuracy: 0.9811\n",
      "Epoch 77/100\n",
      "148/148 [==============================] - 1s 6ms/step - loss: 0.2501 - accuracy: 0.9181 - val_loss: 0.1029 - val_accuracy: 0.9811\n",
      "Epoch 78/100\n",
      "148/148 [==============================] - 1s 6ms/step - loss: 0.2647 - accuracy: 0.9181 - val_loss: 0.1272 - val_accuracy: 0.9811\n",
      "Epoch 79/100\n",
      "148/148 [==============================] - 1s 6ms/step - loss: 0.2513 - accuracy: 0.9181 - val_loss: 0.1576 - val_accuracy: 0.9811\n",
      "Epoch 80/100\n",
      "148/148 [==============================] - 1s 6ms/step - loss: 0.2532 - accuracy: 0.9181 - val_loss: 0.1228 - val_accuracy: 0.9811\n",
      "Epoch 81/100\n",
      "148/148 [==============================] - 1s 6ms/step - loss: 0.2556 - accuracy: 0.9181 - val_loss: 0.0932 - val_accuracy: 0.9811\n",
      "Epoch 82/100\n",
      "148/148 [==============================] - 1s 6ms/step - loss: 0.2708 - accuracy: 0.9181 - val_loss: 0.1303 - val_accuracy: 0.9811\n",
      "Epoch 83/100\n",
      "148/148 [==============================] - 1s 6ms/step - loss: 0.2672 - accuracy: 0.9181 - val_loss: 0.1224 - val_accuracy: 0.9811\n",
      "Epoch 84/100\n",
      "148/148 [==============================] - 1s 6ms/step - loss: 0.2673 - accuracy: 0.9181 - val_loss: 0.1026 - val_accuracy: 0.9811\n",
      "Epoch 85/100\n",
      "148/148 [==============================] - 1s 6ms/step - loss: 0.2672 - accuracy: 0.9181 - val_loss: 0.1177 - val_accuracy: 0.9811\n",
      "Epoch 86/100\n",
      "148/148 [==============================] - 1s 6ms/step - loss: 0.2638 - accuracy: 0.9181 - val_loss: 0.1095 - val_accuracy: 0.9811\n",
      "Epoch 87/100\n",
      "148/148 [==============================] - 1s 6ms/step - loss: 0.2579 - accuracy: 0.9181 - val_loss: 0.1195 - val_accuracy: 0.9811\n",
      "Epoch 88/100\n",
      "148/148 [==============================] - 1s 6ms/step - loss: 0.2692 - accuracy: 0.9181 - val_loss: 0.1228 - val_accuracy: 0.9811\n",
      "Epoch 89/100\n",
      "148/148 [==============================] - 1s 6ms/step - loss: 0.2730 - accuracy: 0.9181 - val_loss: 0.1109 - val_accuracy: 0.9811\n",
      "Epoch 90/100\n",
      "148/148 [==============================] - 1s 5ms/step - loss: 0.2727 - accuracy: 0.9181 - val_loss: 0.1104 - val_accuracy: 0.9811\n",
      "Epoch 91/100\n",
      "148/148 [==============================] - 1s 6ms/step - loss: 0.2691 - accuracy: 0.9181 - val_loss: 0.1082 - val_accuracy: 0.9811\n",
      "Epoch 92/100\n",
      "148/148 [==============================] - 1s 6ms/step - loss: 0.2677 - accuracy: 0.9181 - val_loss: 0.1198 - val_accuracy: 0.9811\n",
      "Epoch 93/100\n",
      "148/148 [==============================] - 1s 6ms/step - loss: 0.2647 - accuracy: 0.9181 - val_loss: 0.1221 - val_accuracy: 0.9811\n",
      "Epoch 94/100\n",
      "148/148 [==============================] - 1s 6ms/step - loss: 0.2569 - accuracy: 0.9181 - val_loss: 0.1422 - val_accuracy: 0.9811\n",
      "Epoch 95/100\n",
      "148/148 [==============================] - 1s 6ms/step - loss: 0.2543 - accuracy: 0.9181 - val_loss: 0.1021 - val_accuracy: 0.9811\n",
      "Epoch 96/100\n",
      "148/148 [==============================] - 1s 6ms/step - loss: 0.2524 - accuracy: 0.9181 - val_loss: 0.0899 - val_accuracy: 0.9811\n",
      "Epoch 97/100\n",
      "148/148 [==============================] - 1s 6ms/step - loss: 0.2524 - accuracy: 0.9181 - val_loss: 0.1380 - val_accuracy: 0.9811\n",
      "Epoch 98/100\n",
      "148/148 [==============================] - 1s 6ms/step - loss: 0.2500 - accuracy: 0.9181 - val_loss: 0.1241 - val_accuracy: 0.9811\n",
      "Epoch 99/100\n",
      "148/148 [==============================] - 1s 6ms/step - loss: 0.2490 - accuracy: 0.9181 - val_loss: 0.1231 - val_accuracy: 0.9811\n",
      "Epoch 100/100\n",
      "148/148 [==============================] - 1s 6ms/step - loss: 0.2483 - accuracy: 0.9181 - val_loss: 0.1011 - val_accuracy: 0.9811\n"
     ]
    },
    {
     "data": {
      "text/plain": [
       "<keras.callbacks.History at 0x1ddd794a6d0>"
      ]
     },
     "execution_count": 188,
     "metadata": {},
     "output_type": "execute_result"
    }
   ],
   "source": [
    "model.fit(x_t,y_t,epochs=100, batch_size=10, validation_split=0.2)"
   ]
  },
  {
   "cell_type": "code",
   "execution_count": 189,
   "id": "181d0725",
   "metadata": {},
   "outputs": [
    {
     "data": {
      "text/plain": [
       "[<matplotlib.lines.Line2D at 0x1ddd7ddec10>]"
      ]
     },
     "execution_count": 189,
     "metadata": {},
     "output_type": "execute_result"
    },
    {
     "data": {
      "image/png": "[encoded data removed]",
      "text/plain": [
       "<Figure size 432x288 with 1 Axes>"
      ]
     },
     "metadata": {
      "needs_background": "light"
     },
     "output_type": "display_data"
    }
   ],
   "source": [
    "plt.plot(hist.history['accuracy'])\n",
    "plt.plot(hist.history['val_accuracy'])"
   ]
  },
  {
   "cell_type": "code",
   "execution_count": 190,
   "id": "a8a9526f",
   "metadata": {},
   "outputs": [
    {
     "data": {
      "text/plain": [
       "[<matplotlib.lines.Line2D at 0x1ddd7e4d790>]"
      ]
     },
     "execution_count": 190,
     "metadata": {},
     "output_type": "execute_result"
    },
    {
     "data": {
      "image/png": "[encoded data removed]",
      "text/plain": [
       "<Figure size 432x288 with 1 Axes>"
      ]
     },
     "metadata": {
      "needs_background": "light"
     },
     "output_type": "display_data"
    }
   ],
   "source": [
    "plt.plot(hist.history['loss'])\n",
    "plt.plot(hist.history['val_loss'])"
   ]
  },
  {
   "cell_type": "code",
   "execution_count": null,
   "id": "139fa4ea",
   "metadata": {},
   "outputs": [],
   "source": []
  },
  {
   "cell_type": "code",
   "execution_count": null,
   "id": "9e1e3e63",
   "metadata": {},
   "outputs": [],
   "source": []
  },
  {
   "cell_type": "code",
   "execution_count": null,
   "id": "be642115",
   "metadata": {},
   "outputs": [],
   "source": []
  },
  {
   "cell_type": "code",
   "execution_count": null,
   "id": "fb68c523",
   "metadata": {},
   "outputs": [],
   "source": []
  },
  {
   "cell_type": "code",
   "execution_count": null,
   "id": "70036511",
   "metadata": {},
   "outputs": [],
   "source": []
  },
  {
   "cell_type": "code",
   "execution_count": null,
   "id": "9557a767",
   "metadata": {},
   "outputs": [],
   "source": []
  },
  {
   "cell_type": "code",
   "execution_count": null,
   "id": "94bf953d",
   "metadata": {},
   "outputs": [],
   "source": []
  },
  {
   "cell_type": "code",
   "execution_count": null,
   "id": "a66483e2",
   "metadata": {},
   "outputs": [],
   "source": []
  },
  {
   "cell_type": "code",
   "execution_count": null,
   "id": "2858e7a5",
   "metadata": {},
   "outputs": [],
   "source": []
  },
  {
   "cell_type": "code",
   "execution_count": null,
   "id": "4f5acd13",
   "metadata": {},
   "outputs": [],
   "source": []
  },
  {
   "cell_type": "code",
   "execution_count": null,
   "id": "efc41b30",
   "metadata": {},
   "outputs": [],
   "source": []
  },
  {
   "cell_type": "code",
   "execution_count": null,
   "id": "a5053bd7",
   "metadata": {},
   "outputs": [],
   "source": []
  },
  {
   "cell_type": "code",
   "execution_count": null,
   "id": "326dc4fa",
   "metadata": {},
   "outputs": [],
   "source": []
  },
  {
   "cell_type": "code",
   "execution_count": null,
   "id": "04d4bc8a",
   "metadata": {},
   "outputs": [],
   "source": []
  },
  {
   "cell_type": "code",
   "execution_count": null,
   "id": "6ee773ae",
   "metadata": {},
   "outputs": [],
   "source": []
  },
  {
   "cell_type": "code",
   "execution_count": null,
   "id": "a7ecf56e",
   "metadata": {},
   "outputs": [],
   "source": []
  }
 ],
 "metadata": {
  "kernelspec": {
   "display_name": "Python 3 (ipykernel)",
   "language": "python",
   "name": "python3"
  },
  "language_info": {
   "codemirror_mode": {
    "name": "ipython",
    "version": 3
   },
   "file_extension": ".py",
   "mimetype": "text/x-python",
   "name": "python",
   "nbconvert_exporter": "python",
   "pygments_lexer": "ipython3",
   "version": "3.9.7"
  },
  "varInspector": {
   "cols": {
    "lenName": 16,
    "lenType": 16,
    "lenVar": 40
   },
   "kernels_config": {
    "python": {
     "delete_cmd_postfix": "",
     "delete_cmd_prefix": "del ",
     "library": "var_list.py",
     "varRefreshCmd": "print(var_dic_list())"
    },
    "r": {
     "delete_cmd_postfix": ") ",
     "delete_cmd_prefix": "rm(",
     "library": "var_list.r",
     "varRefreshCmd": "cat(var_dic_list()) "
    }
   },
   "types_to_exclude": [
    "module",
    "function",
    "builtin_function_or_method",
    "instance",
    "_Feature"
   ],
   "window_display": false
  }
 },
 "nbformat": 4,
 "nbformat_minor": 5
}
