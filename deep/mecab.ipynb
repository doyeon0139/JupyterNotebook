{
 "cells": [
  {
   "cell_type": "code",
   "execution_count": 1,
   "id": "76201868",
   "metadata": {},
   "outputs": [],
   "source": [
    "import pandas as pd\n",
    "import numpy as np\n",
    "import matplotlib.pyplot as plt\n",
    "import seaborn as sns"
   ]
  },
  {
   "cell_type": "code",
   "execution_count": 2,
   "id": "6adcd6c0",
   "metadata": {},
   "outputs": [],
   "source": [
    "from konlpy.tag import Kkma, Komoran, Hannanum, Okt"
   ]
  },
  {
   "cell_type": "code",
   "execution_count": 3,
   "id": "eb00cdea",
   "metadata": {},
   "outputs": [],
   "source": [
    "kkma = Kkma()\n",
    "kom = Komoran()\n",
    "han = Hannanum()\n",
    "okt = Okt()"
   ]
  },
  {
   "cell_type": "code",
   "execution_count": 4,
   "id": "bc1bcfc4",
   "metadata": {},
   "outputs": [],
   "source": [
    "text = '아버지가 방에 들어가신다'"
   ]
  },
  {
   "cell_type": "code",
   "execution_count": 5,
   "id": "40adc81f",
   "metadata": {},
   "outputs": [
    {
     "data": {
      "text/plain": [
       "['아버지', '가', '방', '에', '들어가', '시', 'ㄴ다']"
      ]
     },
     "execution_count": 5,
     "metadata": {},
     "output_type": "execute_result"
    }
   ],
   "source": [
    "kkma.morphs(text)"
   ]
  },
  {
   "cell_type": "code",
   "execution_count": 6,
   "id": "393c6915",
   "metadata": {},
   "outputs": [
    {
     "data": {
      "text/plain": [
       "['아버지', '가', '방', '에', '들어가', '시', 'ㄴ다']"
      ]
     },
     "execution_count": 6,
     "metadata": {},
     "output_type": "execute_result"
    }
   ],
   "source": [
    "kom.morphs(text)"
   ]
  },
  {
   "cell_type": "code",
   "execution_count": 7,
   "id": "f037d7b2",
   "metadata": {},
   "outputs": [
    {
     "data": {
      "text/plain": [
       "['아버지', '가', '방', '에', '들', '어', '가', '시ㄴ다']"
      ]
     },
     "execution_count": 7,
     "metadata": {},
     "output_type": "execute_result"
    }
   ],
   "source": [
    "han.morphs(text)"
   ]
  },
  {
   "cell_type": "code",
   "execution_count": 8,
   "id": "7230a65e",
   "metadata": {},
   "outputs": [
    {
     "data": {
      "text/plain": [
       "['아버지', '가', '방', '에', '들어가신다']"
      ]
     },
     "execution_count": 8,
     "metadata": {},
     "output_type": "execute_result"
    }
   ],
   "source": [
    "okt.morphs(text)"
   ]
  },
  {
   "cell_type": "code",
   "execution_count": 9,
   "id": "79af6bd1",
   "metadata": {},
   "outputs": [],
   "source": [
    "text1 = '아버지가방에들어가신다'"
   ]
  },
  {
   "cell_type": "code",
   "execution_count": 10,
   "id": "6da2417e",
   "metadata": {},
   "outputs": [
    {
     "data": {
      "text/plain": [
       "['아버지', '가방', '에', '들어가', '시', 'ㄴ다']"
      ]
     },
     "execution_count": 10,
     "metadata": {},
     "output_type": "execute_result"
    }
   ],
   "source": [
    "kkma.morphs(text1)"
   ]
  },
  {
   "cell_type": "code",
   "execution_count": 11,
   "id": "1bad7981",
   "metadata": {},
   "outputs": [
    {
     "data": {
      "text/plain": [
       "['아버지', '가방', '에', '들어가', '시', 'ㄴ다']"
      ]
     },
     "execution_count": 11,
     "metadata": {},
     "output_type": "execute_result"
    }
   ],
   "source": [
    "kom.morphs(text1)"
   ]
  },
  {
   "cell_type": "code",
   "execution_count": 12,
   "id": "df9ff9c1",
   "metadata": {},
   "outputs": [
    {
     "data": {
      "text/plain": [
       "['아버지가방에들어가', '이', '시ㄴ다']"
      ]
     },
     "execution_count": 12,
     "metadata": {},
     "output_type": "execute_result"
    }
   ],
   "source": [
    "han.morphs(text1)"
   ]
  },
  {
   "cell_type": "code",
   "execution_count": 13,
   "id": "0bc3ef1c",
   "metadata": {},
   "outputs": [
    {
     "data": {
      "text/plain": [
       "['아버지', '가방', '에', '들어가신다']"
      ]
     },
     "execution_count": 13,
     "metadata": {},
     "output_type": "execute_result"
    }
   ],
   "source": [
    "okt.morphs(text1)"
   ]
  },
  {
   "cell_type": "code",
   "execution_count": 15,
   "id": "6f72ba25",
   "metadata": {},
   "outputs": [],
   "source": [
    "text2 = '개나리가 피어있는 동산에 누워있고 싶다'"
   ]
  },
  {
   "cell_type": "code",
   "execution_count": 17,
   "id": "a03632d7",
   "metadata": {},
   "outputs": [
    {
     "name": "stdout",
     "output_type": "stream",
     "text": [
      "['개나리', '가', '피', '어', '있', '는', '동산', '에', '눕', '어', '있', '고', '싶', '다']\n",
      "['개나리', '가', '피', '어', '있', '는', '동산', '에', '눕', '어', '있', '고', '싶', '다']\n",
      "['개나리', '가', '피', '어', '있', '는', '동산', '에', '눕', '어', '있', '고', '싶', '다']\n",
      "['개나리', '가', '피어있는', '동산', '에', '누워있고', '싶다']\n"
     ]
    }
   ],
   "source": [
    "print(kkma.morphs(text2))\n",
    "print(kom.morphs(text2))\n",
    "print(han.morphs(text2))\n",
    "print(okt.morphs(text2))"
   ]
  },
  {
   "cell_type": "code",
   "execution_count": 18,
   "id": "d49ffd5b",
   "metadata": {},
   "outputs": [
    {
     "name": "stdout",
     "output_type": "stream",
     "text": [
      "['개나리', '동산']\n",
      "['개나리', '동산']\n",
      "['개나리', '동산']\n",
      "['개나리', '동산']\n"
     ]
    }
   ],
   "source": [
    "print(kkma.nouns(text2))\n",
    "print(kom.nouns(text2))\n",
    "print(han.nouns(text2))\n",
    "print(okt.nouns(text2))"
   ]
  },
  {
   "cell_type": "code",
   "execution_count": 19,
   "id": "b7606a45",
   "metadata": {},
   "outputs": [
    {
     "name": "stdout",
     "output_type": "stream",
     "text": [
      "['ㄱㅐㄴㅏㄹㅣ', '가', '피', '어', '있', '는', '동산', '에', '눕', '어', '있', '고', '싶', '다']\n",
      "['개나리', '가', '피', '어', '있', '는', '동산', '에', '눕', '어', '있', '고', '싶', '다']\n",
      "['ㄱㅐㄴㅏㄹㅣ', '가', '피', '어', '있', '는', '동산', '에', '눕', '어', '있', '고', '싶', '다']\n",
      "['ㄱㅐㄴㅏㄹㅣ', '가', '피어있는', '동산', '에', '누워있고', '싶다']\n"
     ]
    }
   ],
   "source": [
    "text2 = 'ㄱㅐㄴㅏㄹㅣ가 피어있는 동산에 누워있고 싶다'\n",
    "print(kkma.morphs(text2))\n",
    "print(kom.morphs(text2))\n",
    "print(han.morphs(text2))\n",
    "print(okt.morphs(text2))"
   ]
  },
  {
   "cell_type": "code",
   "execution_count": 24,
   "id": "f8e8d437",
   "metadata": {},
   "outputs": [],
   "source": [
    "text = '''\n",
    "박범계 법무부 장관이 6일 서울 종로구 정부서울청사에서 열린 임시국무회의에 참석하고 있다. 뉴스1\n",
    "박범계 법무부 장관이 한동훈 검사장(사법연수원 부원장)이 채널A 사건 연루 의혹과 관련해 무혐의 처분을 받은 것에 대해 \n",
    "\"서울중앙지검이 기술로 아이폰 (비밀번호를) 못 푼다는데 아쉽다\"고 언급했다.\n",
    "박 장관은 7일 오전 출근길에 기자들과 만나 한 검사장 무혐의 처분에 대해 \"냉정한 현실의 결과물이라고 본다\"며 이렇게 말했다. \n",
    "그는 \"중앙지검이 기술력의 한계로 (한 검사장의 아이폰 비밀번호를) 못 푼다는데 제가 뭐라 하겠느냐\"며 \"왜 그것이 기술력의 한계인지 \n",
    "중앙지검이 언젠가는 밝혀야 하고, 적어도 그 (아이폰) 버전의 포렌식을 하는데 최신 기술을 적용하려고 노력했는지 \n",
    "부분은 중요한 대목이라고 생각한다\"고 말했다.\n",
    "서울중앙지검은 전날 한 검사장 아이폰 포렌식과 관련해 \"최초 포렌식 시도(2020년 6월) 이후 22개월, 포렌식 재개시(2021년 7월) \n",
    "이후 8개월이 도과한 현 시점에서 현재 기술력으로는 휴대전화 잠금해제 시도가 더 이상 실효성이 없다고 판단했다\"고 설명했다.\n",
    "박 장관은 \"(한 검사장) 입장문을 봤고 감정에 충실한 것은 알겠다\"며 \"(한 검사장이) 검찰 요직을 맡을 것이라고 보도하고 \n",
    "다들 예상하는 측면에서 아쉽다고 생각한다\"고도 했다. 한 검사장은 전날 무혐의 처분 발표 직후 \"없는 죄 만들기는 최종적으로 \n",
    "실패했다\"며 \"(무혐의) 결정은 지극히 상식적인 결정이 지극히 늦게 나온 것\"이라는 입장을 밝혔다.\n",
    "서울중앙지검은 한 검사장을 무혐의 처분했지만, 한 검사장을 고발했던 민주언론시민연합이 항고하면 처분이 확정되진 않는다.\n",
    "박 장관은 \"항고 여부는 고발하신 분들의 고려사항이니 제가 언급할 사항은 아니지만 사건이 다 끝난 건 아니라고 생각한다\"고 말했다. \n",
    "민언련이 항고한다면 서울고검이 재수사할 가능성을 염두에 둔 것으로 보인다.\n",
    "박 장관은 '추미애 전 법무부 장관이 검찰총장 수사지휘권을 배제하면서 중앙지검장이 마지막 결론을 낸 것인데 어떻게 보느냐'는 \n",
    "질문에 \"전임 장관의 수사지휘 문제에 대해 후임 장관으로서 왈가왈부하는 것은 도리가 아니다\"고 말을 아꼈다.\n",
    "'''"
   ]
  },
  {
   "cell_type": "code",
   "execution_count": 25,
   "id": "f6fe6d67",
   "metadata": {},
   "outputs": [
    {
     "name": "stdout",
     "output_type": "stream",
     "text": [
      "['박', '박범계', '범계', '법무부', '장관', '6', '6일', '일', '서울', '종로', '종로구', '구', '정부', '정부서울청사', '청사', '임시', '임시국무회의', '국무', '회의', '참석', '뉴스', '뉴스1', '1', '박', '박범계', '한동', '한동훈', '훈', '검사장', '사법', '사법연수원', '연수원', '부원장', '채널', '사건', '연루', '의혹', '관련', '무혐의', '처분', '서울중앙지검', '중앙', '지검', '기술', '아이', '아이폰', '폰', '비밀', '비밀번호', '번호', '데', '고', '언급', '7', '7일', '오전', '출근길', '기자', '나', '냉정', '현실', '결과물', '중앙지검', '기술력', '한계', '제가', '뭐', '그것', '버전', '포렌식', '최신', '적용', '노력', '부분', '중요', '대목', '생각', '전날', '최초', '포', '포렌식', '렌', '식', '시도', '2020', '2020년', '년', '6월', '월', '이후', '22', '22개월', '개월', '재개', '재개시', '시', '2021', '2021년', '7월', '8', '8개월', '도과', '현', '시점', '현재', '휴대', '휴대전화', '전화', '잠금', '잠금해제', '해제', '이상', '실효성', '판단', '설명', '입장', '입장문', '문', '감정', '충실', '검찰', '요직', '보도', '다', '예상', '측면', '고도', '발표', '직후', '죄', '만들기', '최종적', '실패', '결정', '상식적', '한', '고발', '민주', '민주언론시민연합', '언론', '시민', '연합', '항고', '항고하면', '하면', '확정', '항', '여부', '분', '고려', '고려사항', '사항', '저', '건', '민언련', '서울고검', '고검', '수사', '가능성', '염두', '추미애', '전', '검찰총장', '총장', '수사지휘권', '지휘권', '배제', '마지막', '결론', '질문', '전임', '수사지휘', '지휘', '문제', '후임', '왈가왈부', '도리', '말']\n",
      "Wall time: 368 ms\n"
     ]
    }
   ],
   "source": [
    "%%time\n",
    "print(kkma.nouns(text))\n"
   ]
  },
  {
   "cell_type": "code",
   "execution_count": 26,
   "id": "65c13bd5",
   "metadata": {},
   "outputs": [
    {
     "name": "stdout",
     "output_type": "stream",
     "text": [
      "['박범계', '법무부', '장관', '일', '서울', '종로구', '정부서울청사', '임시', '국무회의', '참석', '뉴스1', '박범계', '법무부', '장관', '한동훈', '검사장', '사법연수원', '부원', '장', '채널A', '사건', '연루', '의혹', '관련', '혐의', '처분', '것', '서울', '중앙', '지검', '기술', '아이폰', '비밀', '번호', '언급', '박', '장관', '일', '오전', '출근길', '기자', '검사장', '혐의', '처분', '냉정', '현실', '결과물', '말', '중앙', '지검', '기술력', '한계', '검사장', '아이폰', '비밀', '번호', '제가', '기술력', '한계', '중앙', '지검', '아이폰', '버전', '포레', '식', '최신', '기술', '적용', '노력', '부분', '대목', '생각', '말', '서울', '중앙', '지검', '전날', '검사장', '아이폰', '포레', '식', '관련', '최초', '포레', '식', '시도', '2020년', '6월', '이후', '개월', '포레', '식', '개시', '2021년', '7월', '이후', '개월', '도과', '시점', '기술력', '휴대', '전화', '잠', '금', '해제', '시도', '이상', '실효', '판단', '설명', '박', '장관', '검사장', '입장', '문', '감정', '충실', '것', '검사', '장이', '검찰', '요직', '것', '보도', '다', '예상', '측면', '생각', '고도', '검사장', '전날', '혐의', '처분', '발표', '직후', '죄', '최종', '실패', '혐의', '결정', '상식', '결정', '것', '입장', '서울', '중앙', '지검', '검사장', '혐의', '처분', '검사장', '고발', '민주언론시민연합', '항고', '하면', '처분', '확정', '박', '장관', '항고', '여부', '고발', '분', '고려', '사항', '제가', '언급', '사항', '사건', '건', '생각', '말', '민어', '항고', '서울고', '검', '수사', '염두', '것', '박', '장관', '추미애', '법무부', '장관', '검찰', '총장', '수사', '지휘', '배제', '중앙', '지검', '장이', '마지막', '결론', '것', '질문', '전임', '장관', '수사', '지휘', '문제', '후임', '장관', '왈가왈부', '것', '도리', '말']\n",
      "Wall time: 27.9 ms\n"
     ]
    }
   ],
   "source": [
    "%%time\n",
    "print(kom.nouns(text))\n"
   ]
  },
  {
   "cell_type": "code",
   "execution_count": 27,
   "id": "6e52538a",
   "metadata": {},
   "outputs": [
    {
     "name": "stdout",
     "output_type": "stream",
     "text": [
      "['박범계', '법무부', '장관', '6일', '서울', '종로구', '정부서울청사', '임시국무회의', '참석', '뉴스1', '박범계', '법무부', '장관', '한동훈', '검사장(사법연수원', '부원장', '채널A', '사건', '연루', '의혹', '관련해', '무혐의', '처분', '것', '대해', '\"서울중앙지검', '기술', '아이폰', '비밀번호', '언급', '박', '장관', '7일', '오전', '출근길', '기자들', '검사장', '무혐의', '처분', '냉정한', '현실', '결과물', '본다\"며', '말', '그', '중앙지검', '기술력', '한계', '검사장', '아이폰', '비밀번호', '저', '뭐', '하겠느냐\"며', '그것', '기술력', '한계인지', '중앙지검', '(아이폰)', '버전', '포렌식', '최신', '기술', '적용', '노력', '부분', '중요', '대목', '생각', '말', '서울중앙지검', '전날', '검사장', '아이폰', '포렌식', '관련해', '최초', '포렌식', '시도(2020년', '6월', '이후', '22개월', '포렌식', '재개', '2021년', '7월', '이후', '8개월', '도과한', '시점', '기술력', '휴대전화', '잠금해제', '시도', '이상', '실효성', '판단', '설명', '박', '장관', '한', '검사장', '입장문', '감정', '충실', '것', '알겠다\"며', '검사장', '검찰', '요직', '것', '보도', '다들', '예상', '측면', '생각', '검사장', '전날', '무혐의', '처분', '발표', '직후', '죄', '최종적', '실패했다\"며', '무혐의', '결정', '상식적', '결정', '것', '입장', '서울중앙지검', '검사장', '무혐의', '처분', '검사장', '고발', '민주언론시민연합', '항고', '처분', '확정되진', '박', '장관', '항고', '여부', '고발', '들', '고려사항', '저', '언급', '사항', '사건', '거', '생각', '말', '민언련', '항고', '서울고검', '재수사할', '가능성', '염두', '것', '박', '장관', '추미애', '전', '법무부', '장관', '검찰총장', '수사지휘권', '배제', '중앙지검장', '마지막', '결론', '것', '보', '질문', '전', '장관', '수사지휘', '문제', '후', '장관', '왈가왈부', '것', '도리', '말']\n",
      "Wall time: 75.8 ms\n"
     ]
    }
   ],
   "source": [
    "%%time\n",
    "print(han.nouns(text))\n"
   ]
  },
  {
   "cell_type": "code",
   "execution_count": 28,
   "id": "ede74778",
   "metadata": {},
   "outputs": [
    {
     "name": "stdout",
     "output_type": "stream",
     "text": [
      "['박범계', '법무부', '장관', '서울', '종로구', '정부', '서울', '청사', '임시', '국무회의', '참석', '뉴스', '박범계', '법무부', '장관', '한동훈', '검사', '사법연수원', '부원장', '이', '채널', '사건', '연루', '의혹', '관련', '무혐의', '처분', '것', '대해', '중앙', '검', '기술', '아이폰', '비밀번호', '못', '고', '언급', '박', '장관', '오전', '출근길', '기자', '검사', '무혐의', '처분', '대해', '현실', '결과물', '며', '말', '그', '중앙', '검', '기술', '한계', '검사', '아이폰', '비밀번호', '못', '제', '며', '왜', '그것', '기술', '한계', '중앙', '검', '그', '아이폰', '버전', '포렌식', '최신', '기술', '적용', '노력', '부분', '대목', '생각', '고', '말', '중앙', '전날', '검사', '아이폰', '포렌식', '관련', '최초', '포렌식', '시도', '이후', '개월', '포렌식', '재개', '시', '이후', '개월', '도과', '현', '시점', '현재', '기술', '휴대전화', '해제', '시도', '더', '이상', '실효', '판단', '고', '설명', '박', '장관', '검사', '입장', '문', '감정', '것', '며', '검사', '검찰', '직', '것', '보도', '예상', '측면', '생각', '고도', '검사', '전날', '무혐의', '처분', '발표', '직후', '죄', '만들기', '최종', '며', '무혐의', '결정', '상식', '결정', '것', '입장', '중앙', '검사', '무혐의', '처분', '검사', '고발', '민주', '언론', '시민', '연합', '항고', '처분', '확정', '박', '장관', '항고', '여부', '고발', '분', '고려', '사항', '제', '언급', '사항', '사건', '건', '생각', '고', '말', '민언련', '항고', '서울', '검', '재수', '가능성', '염두', '것', '박', '장관', '추미애', '전', '법무부', '장관', '검찰총장', '지휘', '배제', '중앙', '검', '마지막', '결론', '것', '질문', '전임', '장관', '수사', '지휘', '문제', '대해', '후임', '장관', '왈가', '왈부', '것', '도리', '고', '말']\n",
      "Wall time: 101 ms\n"
     ]
    }
   ],
   "source": [
    "%%time\n",
    "print(okt.nouns(text))"
   ]
  },
  {
   "cell_type": "code",
   "execution_count": null,
   "id": "62062265",
   "metadata": {},
   "outputs": [],
   "source": [
    "# Macab"
   ]
  },
  {
   "cell_type": "code",
   "execution_count": 34,
   "id": "883f7061",
   "metadata": {},
   "outputs": [],
   "source": [
    "from konlpy.tag import Mecab, Komoran"
   ]
  },
  {
   "cell_type": "code",
   "execution_count": 31,
   "id": "8003bad7",
   "metadata": {},
   "outputs": [
    {
     "name": "stdout",
     "output_type": "stream",
     "text": [
      "Requirement already satisfied: pip in c:\\users\\bitcamp\\anaconda3\\lib\\site-packages (22.0.4)\n"
     ]
    }
   ],
   "source": [
    "# ! pip install --upgrade pip"
   ]
  },
  {
   "cell_type": "code",
   "execution_count": 32,
   "id": "2db6a0cc",
   "metadata": {},
   "outputs": [
    {
     "name": "stderr",
     "output_type": "stream",
     "text": [
      "WARNING: Requirement 'JPype1-0.5.7-cp27-none-win_amd64.whl' looks like a filename, but the file does not exist\n",
      "ERROR: JPype1-0.5.7-cp27-none-win_amd64.whl is not a supported wheel on this platform.\n"
     ]
    }
   ],
   "source": [
    "# ! pip install JPype1-0.5.7-cp27-none-win_amd64.whl"
   ]
  },
  {
   "cell_type": "code",
   "execution_count": 33,
   "id": "af2d05b6",
   "metadata": {},
   "outputs": [
    {
     "name": "stdout",
     "output_type": "stream",
     "text": [
      "Requirement already satisfied: konlpy in c:\\users\\bitcamp\\anaconda3\\lib\\site-packages (0.6.0)\n",
      "Requirement already satisfied: numpy>=1.6 in c:\\users\\bitcamp\\anaconda3\\lib\\site-packages (from konlpy) (1.22.1)\n",
      "Requirement already satisfied: lxml>=4.1.0 in c:\\users\\bitcamp\\anaconda3\\lib\\site-packages (from konlpy) (4.6.3)\n",
      "Requirement already satisfied: JPype1>=0.7.0 in c:\\users\\bitcamp\\anaconda3\\lib\\site-packages (from konlpy) (1.3.0)\n"
     ]
    }
   ],
   "source": [
    "# ! pip install konlpy"
   ]
  },
  {
   "cell_type": "code",
   "execution_count": 36,
   "id": "0522569e",
   "metadata": {},
   "outputs": [
    {
     "ename": "Exception",
     "evalue": "Install MeCab in order to use it: http://konlpy.org/en/latest/install/",
     "output_type": "error",
     "traceback": [
      "\u001b[1;31m---------------------------------------------------------------------------\u001b[0m",
      "\u001b[1;31mNameError\u001b[0m                                 Traceback (most recent call last)",
      "\u001b[1;32m~\\Anaconda3\\lib\\site-packages\\konlpy\\tag\\_mecab.py\u001b[0m in \u001b[0;36m__init__\u001b[1;34m(self, dicpath)\u001b[0m\n\u001b[0;32m     76\u001b[0m         \u001b[1;32mtry\u001b[0m\u001b[1;33m:\u001b[0m\u001b[1;33m\u001b[0m\u001b[1;33m\u001b[0m\u001b[0m\n\u001b[1;32m---> 77\u001b[1;33m             \u001b[0mself\u001b[0m\u001b[1;33m.\u001b[0m\u001b[0mtagger\u001b[0m \u001b[1;33m=\u001b[0m \u001b[0mTagger\u001b[0m\u001b[1;33m(\u001b[0m\u001b[1;34m'-d %s'\u001b[0m \u001b[1;33m%\u001b[0m \u001b[0mdicpath\u001b[0m\u001b[1;33m)\u001b[0m\u001b[1;33m\u001b[0m\u001b[1;33m\u001b[0m\u001b[0m\n\u001b[0m\u001b[0;32m     78\u001b[0m             \u001b[0mself\u001b[0m\u001b[1;33m.\u001b[0m\u001b[0mtagset\u001b[0m \u001b[1;33m=\u001b[0m \u001b[0mutils\u001b[0m\u001b[1;33m.\u001b[0m\u001b[0mread_json\u001b[0m\u001b[1;33m(\u001b[0m\u001b[1;34m'%s/data/tagset/mecab.json'\u001b[0m \u001b[1;33m%\u001b[0m \u001b[0mutils\u001b[0m\u001b[1;33m.\u001b[0m\u001b[0minstallpath\u001b[0m\u001b[1;33m)\u001b[0m\u001b[1;33m\u001b[0m\u001b[1;33m\u001b[0m\u001b[0m\n",
      "\u001b[1;31mNameError\u001b[0m: name 'Tagger' is not defined",
      "\nDuring handling of the above exception, another exception occurred:\n",
      "\u001b[1;31mException\u001b[0m                                 Traceback (most recent call last)",
      "\u001b[1;32m~\\AppData\\Local\\Temp/ipykernel_12448/4062528961.py\u001b[0m in \u001b[0;36m<module>\u001b[1;34m\u001b[0m\n\u001b[1;32m----> 1\u001b[1;33m \u001b[0mmecab\u001b[0m \u001b[1;33m=\u001b[0m \u001b[0mMecab\u001b[0m\u001b[1;33m(\u001b[0m\u001b[1;33m)\u001b[0m\u001b[1;33m\u001b[0m\u001b[1;33m\u001b[0m\u001b[0m\n\u001b[0m",
      "\u001b[1;32m~\\Anaconda3\\lib\\site-packages\\konlpy\\tag\\_mecab.py\u001b[0m in \u001b[0;36m__init__\u001b[1;34m(self, dicpath)\u001b[0m\n\u001b[0;32m     80\u001b[0m             \u001b[1;32mraise\u001b[0m \u001b[0mException\u001b[0m\u001b[1;33m(\u001b[0m\u001b[1;34m'The MeCab dictionary does not exist at \"%s\". Is the dictionary correctly installed?\\nYou can also try entering the dictionary path when initializing the Mecab class: \"Mecab(\\'/some/dic/path\\')\"'\u001b[0m \u001b[1;33m%\u001b[0m \u001b[0mdicpath\u001b[0m\u001b[1;33m)\u001b[0m\u001b[1;33m\u001b[0m\u001b[1;33m\u001b[0m\u001b[0m\n\u001b[0;32m     81\u001b[0m         \u001b[1;32mexcept\u001b[0m \u001b[0mNameError\u001b[0m\u001b[1;33m:\u001b[0m\u001b[1;33m\u001b[0m\u001b[1;33m\u001b[0m\u001b[0m\n\u001b[1;32m---> 82\u001b[1;33m             \u001b[1;32mraise\u001b[0m \u001b[0mException\u001b[0m\u001b[1;33m(\u001b[0m\u001b[1;34m'Install MeCab in order to use it: http://konlpy.org/en/latest/install/'\u001b[0m\u001b[1;33m)\u001b[0m\u001b[1;33m\u001b[0m\u001b[1;33m\u001b[0m\u001b[0m\n\u001b[0m\u001b[0;32m     83\u001b[0m \u001b[1;33m\u001b[0m\u001b[0m\n\u001b[0;32m     84\u001b[0m     \u001b[1;32mdef\u001b[0m \u001b[0m__setstate__\u001b[0m\u001b[1;33m(\u001b[0m\u001b[0mself\u001b[0m\u001b[1;33m,\u001b[0m \u001b[0mstate\u001b[0m\u001b[1;33m)\u001b[0m\u001b[1;33m:\u001b[0m\u001b[1;33m\u001b[0m\u001b[1;33m\u001b[0m\u001b[0m\n",
      "\u001b[1;31mException\u001b[0m: Install MeCab in order to use it: http://konlpy.org/en/latest/install/"
     ]
    }
   ],
   "source": [
    "mecab = Mecab()"
   ]
  },
  {
   "cell_type": "code",
   "execution_count": null,
   "id": "40abad2f",
   "metadata": {},
   "outputs": [],
   "source": [
    "\n",
    "\n"
   ]
  },
  {
   "cell_type": "code",
   "execution_count": null,
   "id": "e91f5092",
   "metadata": {},
   "outputs": [],
   "source": []
  },
  {
   "cell_type": "code",
   "execution_count": null,
   "id": "0b641df9",
   "metadata": {},
   "outputs": [],
   "source": []
  },
  {
   "cell_type": "code",
   "execution_count": null,
   "id": "ac21c888",
   "metadata": {},
   "outputs": [],
   "source": []
  },
  {
   "cell_type": "code",
   "execution_count": null,
   "id": "42eb415d",
   "metadata": {},
   "outputs": [],
   "source": []
  },
  {
   "cell_type": "code",
   "execution_count": null,
   "id": "60c51b7c",
   "metadata": {},
   "outputs": [],
   "source": []
  },
  {
   "cell_type": "code",
   "execution_count": null,
   "id": "7dcce283",
   "metadata": {},
   "outputs": [],
   "source": []
  },
  {
   "cell_type": "code",
   "execution_count": null,
   "id": "775969cd",
   "metadata": {},
   "outputs": [],
   "source": []
  },
  {
   "cell_type": "code",
   "execution_count": null,
   "id": "04955465",
   "metadata": {},
   "outputs": [],
   "source": []
  },
  {
   "cell_type": "code",
   "execution_count": null,
   "id": "07ff0b14",
   "metadata": {},
   "outputs": [],
   "source": []
  },
  {
   "cell_type": "code",
   "execution_count": null,
   "id": "e08b8af2",
   "metadata": {},
   "outputs": [],
   "source": []
  },
  {
   "cell_type": "code",
   "execution_count": null,
   "id": "fa3d987a",
   "metadata": {},
   "outputs": [],
   "source": []
  },
  {
   "cell_type": "code",
   "execution_count": null,
   "id": "d428ef4f",
   "metadata": {},
   "outputs": [],
   "source": []
  }
 ],
 "metadata": {
  "kernelspec": {
   "display_name": "Python 3 (ipykernel)",
   "language": "python",
   "name": "python3"
  },
  "language_info": {
   "codemirror_mode": {
    "name": "ipython",
    "version": 3
   },
   "file_extension": ".py",
   "mimetype": "text/x-python",
   "name": "python",
   "nbconvert_exporter": "python",
   "pygments_lexer": "ipython3",
   "version": "3.9.7"
  },
  "varInspector": {
   "cols": {
    "lenName": 16,
    "lenType": 16,
    "lenVar": 40
   },
   "kernels_config": {
    "python": {
     "delete_cmd_postfix": "",
     "delete_cmd_prefix": "del ",
     "library": "var_list.py",
     "varRefreshCmd": "print(var_dic_list())"
    },
    "r": {
     "delete_cmd_postfix": ") ",
     "delete_cmd_prefix": "rm(",
     "library": "var_list.r",
     "varRefreshCmd": "cat(var_dic_list()) "
    }
   },
   "types_to_exclude": [
    "module",
    "function",
    "builtin_function_or_method",
    "instance",
    "_Feature"
   ],
   "window_display": false
  }
 },
 "nbformat": 4,
 "nbformat_minor": 5
}
