{
 "cells": [
  {
   "cell_type": "code",
   "execution_count": 1,
   "id": "af2ece12",
   "metadata": {},
   "outputs": [
    {
     "name": "stdout",
     "output_type": "stream",
     "text": [
      "Downloading data from https://storage.googleapis.com/tensorflow/tf-keras-datasets/imdb.npz\n",
      "17465344/17464789 [==============================] - 0s 0us/step\n",
      "17473536/17464789 [==============================] - 0s 0us/step\n"
     ]
    }
   ],
   "source": [
    "from tensorflow.keras.datasets import imdb\n",
    "\n",
    "(x_train, y_train), (x_test, y_test) = imdb.load_data(num_words=500)  # 단어 종류를 500(빈도기준)개"
   ]
  },
  {
   "cell_type": "code",
   "execution_count": 8,
   "id": "3d0a361a",
   "metadata": {},
   "outputs": [],
   "source": [
    "import pandas as pd\n",
    "import numpy as np\n",
    "import matplotlib.pyplot as plt\n",
    "import seaborn as sns"
   ]
  },
  {
   "cell_type": "code",
   "execution_count": 17,
   "id": "2694549e",
   "metadata": {},
   "outputs": [],
   "source": [
    "from tensorflow.keras.layers import Dense, Dropout, Flatten, Conv2D, MaxPooling2D, Activation, Embedding, SimpleRNN, LSTM\n",
    "from tensorflow.keras.models import Sequential, load_model, Model\n",
    "from tensorflow.keras.utils import to_categorical\n",
    "from tensorflow import keras"
   ]
  },
  {
   "cell_type": "code",
   "execution_count": 3,
   "id": "8ce3ff3b",
   "metadata": {},
   "outputs": [
    {
     "data": {
      "text/plain": [
       "((25000,), (25000,))"
      ]
     },
     "execution_count": 3,
     "metadata": {},
     "output_type": "execute_result"
    }
   ],
   "source": [
    "x_train.shape, x_test.shape"
   ]
  },
  {
   "cell_type": "code",
   "execution_count": 24,
   "id": "faedbe5c",
   "metadata": {},
   "outputs": [],
   "source": [
    "x_train = x_train[:2500]\n",
    "x_test = x_test[:2500]\n",
    "y_train = y_train[:2500]\n",
    "y_test = y_test[:2500]"
   ]
  },
  {
   "cell_type": "code",
   "execution_count": 25,
   "id": "f905142d",
   "metadata": {
    "scrolled": true
   },
   "outputs": [
    {
     "data": {
      "text/plain": [
       "array([list([1, 14, 22, 16, 43, 2, 2, 2, 2, 65, 458, 2, 66, 2, 4, 173, 36, 256, 5, 25, 100, 43, 2, 112, 50, 2, 2, 9, 35, 480, 284, 5, 150, 4, 172, 112, 167, 2, 336, 385, 39, 4, 172, 2, 2, 17, 2, 38, 13, 447, 4, 192, 50, 16, 6, 147, 2, 19, 14, 22, 4, 2, 2, 469, 4, 22, 71, 87, 12, 16, 43, 2, 38, 76, 15, 13, 2, 4, 22, 17, 2, 17, 12, 16, 2, 18, 2, 5, 62, 386, 12, 8, 316, 8, 106, 5, 4, 2, 2, 16, 480, 66, 2, 33, 4, 130, 12, 16, 38, 2, 5, 25, 124, 51, 36, 135, 48, 25, 2, 33, 6, 22, 12, 215, 28, 77, 52, 5, 14, 407, 16, 82, 2, 8, 4, 107, 117, 2, 15, 256, 4, 2, 7, 2, 5, 2, 36, 71, 43, 2, 476, 26, 400, 317, 46, 7, 4, 2, 2, 13, 104, 88, 4, 381, 15, 297, 98, 32, 2, 56, 26, 141, 6, 194, 2, 18, 4, 226, 22, 21, 134, 476, 26, 480, 5, 144, 30, 2, 18, 51, 36, 28, 224, 92, 25, 104, 4, 226, 65, 16, 38, 2, 88, 12, 16, 283, 5, 16, 2, 113, 103, 32, 15, 16, 2, 19, 178, 32]),\n",
       "       list([1, 194, 2, 194, 2, 78, 228, 5, 6, 2, 2, 2, 134, 26, 4, 2, 8, 118, 2, 14, 394, 20, 13, 119, 2, 189, 102, 5, 207, 110, 2, 21, 14, 69, 188, 8, 30, 23, 7, 4, 249, 126, 93, 4, 114, 9, 2, 2, 5, 2, 4, 116, 9, 35, 2, 4, 229, 9, 340, 2, 4, 118, 9, 4, 130, 2, 19, 4, 2, 5, 89, 29, 2, 46, 37, 4, 455, 9, 45, 43, 38, 2, 2, 398, 4, 2, 26, 2, 5, 163, 11, 2, 2, 4, 2, 9, 194, 2, 7, 2, 2, 349, 2, 148, 2, 2, 2, 15, 123, 125, 68, 2, 2, 15, 349, 165, 2, 98, 5, 4, 228, 9, 43, 2, 2, 15, 299, 120, 5, 120, 174, 11, 220, 175, 136, 50, 9, 2, 228, 2, 5, 2, 2, 245, 2, 5, 4, 2, 131, 152, 491, 18, 2, 32, 2, 2, 14, 9, 6, 371, 78, 22, 2, 64, 2, 9, 8, 168, 145, 23, 4, 2, 15, 16, 4, 2, 5, 28, 6, 52, 154, 462, 33, 89, 78, 285, 16, 145, 95]),\n",
       "       list([1, 14, 47, 8, 30, 31, 7, 4, 249, 108, 7, 4, 2, 54, 61, 369, 13, 71, 149, 14, 22, 112, 4, 2, 311, 12, 16, 2, 33, 75, 43, 2, 296, 4, 86, 320, 35, 2, 19, 263, 2, 2, 4, 2, 33, 89, 78, 12, 66, 16, 4, 360, 7, 4, 58, 316, 334, 11, 4, 2, 43, 2, 2, 8, 257, 85, 2, 42, 2, 2, 83, 68, 2, 15, 36, 165, 2, 278, 36, 69, 2, 2, 8, 106, 14, 2, 2, 18, 6, 22, 12, 215, 28, 2, 40, 6, 87, 326, 23, 2, 21, 23, 22, 12, 272, 40, 57, 31, 11, 4, 22, 47, 6, 2, 51, 9, 170, 23, 2, 116, 2, 2, 13, 191, 79, 2, 89, 2, 14, 9, 8, 106, 2, 2, 35, 2, 6, 227, 7, 129, 113]),\n",
       "       list([1, 4, 2, 2, 33, 2, 4, 2, 432, 111, 153, 103, 4, 2, 13, 70, 131, 67, 11, 61, 2, 2, 35, 2, 2, 61, 2, 452, 2, 4, 2, 7, 2, 59, 166, 4, 105, 216, 2, 41, 2, 9, 15, 7, 35, 2, 2, 31, 8, 4, 2, 23, 4, 2, 2, 6, 2, 42, 38, 39, 121, 59, 456, 10, 10, 7, 265, 12, 2, 111, 153, 159, 59, 16, 2, 21, 25, 2, 482, 39, 4, 96, 59, 2, 12, 4, 172, 65, 9, 2, 11, 2, 4, 2, 5, 2, 7, 2, 17, 13, 2, 12, 19, 6, 464, 31, 314, 11, 2, 6, 2, 2, 11, 8, 202, 27, 310, 4, 2, 2, 8, 2, 58, 10, 10, 2, 2, 180, 40, 14, 413, 173, 7, 263, 112, 37, 152, 377, 4, 2, 263, 2, 2, 178, 54, 75, 71, 476, 36, 413, 263, 2, 182, 5, 17, 75, 2, 2, 36, 279, 131, 2, 17, 2, 42, 17, 35, 2, 2, 192, 5, 2, 2, 19, 2, 217, 2, 2, 2, 2, 2, 5, 2, 10, 10, 61, 403, 9, 2, 40, 61, 2, 5, 27, 2, 159, 90, 263, 2, 2, 309, 8, 178, 5, 82, 2, 4, 65, 15, 2, 145, 143, 2, 12, 2, 2, 2, 2, 2, 15, 2, 4, 2, 2, 7, 2, 94, 2, 2, 2, 11, 2, 4, 2, 7, 2, 246, 2, 9, 2, 11, 2, 14, 9, 51, 408, 12, 94, 318, 2, 12, 47, 6, 2, 2, 5, 2, 2, 19, 49, 7, 4, 2, 2, 2, 25, 80, 126, 2, 10, 10, 2, 2, 2, 27, 2, 11, 2, 2, 159, 27, 341, 29, 2, 19, 2, 173, 7, 90, 2, 8, 30, 11, 4, 2, 86, 2, 8, 2, 46, 11, 2, 21, 29, 9, 2, 23, 4, 2, 2, 2, 6, 2, 2, 2, 10, 10, 246, 50, 9, 6, 2, 2, 2, 90, 29, 2, 8, 124, 4, 2, 4, 2, 496, 27, 2, 2, 2, 121, 127, 2, 130, 5, 29, 494, 8, 124, 4, 2, 496, 4, 341, 7, 27, 2, 10, 10, 29, 9, 2, 8, 97, 6, 236, 2, 2, 8, 4, 2, 7, 31, 7, 2, 91, 2, 2, 70, 4, 2, 30, 2, 42, 9, 12, 32, 11, 2, 10, 10, 11, 14, 65, 44, 2, 75, 2, 2, 2, 2, 2, 4, 2, 7, 154, 5, 4, 2, 53, 2, 2, 7, 2, 2, 11, 399, 38, 75, 257, 2, 19, 2, 17, 29, 456, 4, 65, 7, 27, 205, 113, 10, 10, 2, 4, 2, 2, 9, 242, 4, 91, 2, 2, 5, 2, 307, 22, 7, 2, 126, 93, 40, 2, 13, 188, 2, 2, 19, 4, 2, 7, 2, 2, 23, 53, 2, 21, 82, 40, 2, 13, 2, 14, 280, 13, 219, 4, 2, 431, 2, 2, 4, 2, 2, 2, 7, 2, 5, 94, 40, 25, 238, 60, 2, 4, 2, 2, 2, 7, 4, 2, 132, 8, 67, 6, 22, 15, 9, 283, 8, 2, 14, 31, 9, 242, 2, 48, 25, 279, 2, 23, 12, 2, 195, 25, 238, 60, 2, 2, 4, 2, 7, 2, 5, 4, 2, 154, 2, 7, 2, 50, 26, 49, 2, 15, 2, 30, 2, 21, 64, 2])],\n",
       "      dtype=object)"
      ]
     },
     "execution_count": 25,
     "metadata": {},
     "output_type": "execute_result"
    }
   ],
   "source": [
    "x_train[:4]       # 단어당 번호, talk rising?"
   ]
  },
  {
   "cell_type": "code",
   "execution_count": 26,
   "id": "d70c60b3",
   "metadata": {},
   "outputs": [
    {
     "data": {
      "text/plain": [
       "array([1, 0, 0, 1], dtype=int64)"
      ]
     },
     "execution_count": 26,
     "metadata": {},
     "output_type": "execute_result"
    }
   ],
   "source": [
    "y_train[:4]      # 긍정과 부정의 binary classification"
   ]
  },
  {
   "cell_type": "code",
   "execution_count": 27,
   "id": "6923134f",
   "metadata": {},
   "outputs": [],
   "source": [
    "lengths = [len(line) for line in x_train]"
   ]
  },
  {
   "cell_type": "code",
   "execution_count": 28,
   "id": "74df7d97",
   "metadata": {
    "scrolled": true
   },
   "outputs": [
    {
     "data": {
      "text/plain": [
       "(array([  8.,  34.,  79.,  67.,  75., 103., 242., 262., 212., 158., 144.,\n",
       "        117.,  94.,  94.,  70.,  71.,  41.,  49.,  50.,  47.,  37.,  35.,\n",
       "         24.,  21.,  29.,  21.,  28.,  18.,  22.,  16.,  13.,  16.,  20.,\n",
       "         11.,  10.,  10.,   9.,  11.,  18.,  11.,   3.,   7.,   8.,   7.,\n",
       "          6.,   5.,   4.,   8.,   3.,   4.,   5.,   3.,   3.,   2.,   2.,\n",
       "          3.,   5.,   3.,   2.,   2.,   5.,   9.,   1.,   2.,   0.,   0.,\n",
       "          0.,   0.,   0.,   0.,   0.,   0.,   0.,   0.,   0.,   0.,   0.,\n",
       "          0.,   0.,   0.,   0.,   0.,   0.,   0.,   0.,   0.,   0.,   0.,\n",
       "          0.,   0.,   0.,   0.,   0.,   0.,   0.,   0.,   0.,   0.,   0.,\n",
       "          1.]),\n",
       " array([  16.  ,   32.13,   48.26,   64.39,   80.52,   96.65,  112.78,\n",
       "         128.91,  145.04,  161.17,  177.3 ,  193.43,  209.56,  225.69,\n",
       "         241.82,  257.95,  274.08,  290.21,  306.34,  322.47,  338.6 ,\n",
       "         354.73,  370.86,  386.99,  403.12,  419.25,  435.38,  451.51,\n",
       "         467.64,  483.77,  499.9 ,  516.03,  532.16,  548.29,  564.42,\n",
       "         580.55,  596.68,  612.81,  628.94,  645.07,  661.2 ,  677.33,\n",
       "         693.46,  709.59,  725.72,  741.85,  757.98,  774.11,  790.24,\n",
       "         806.37,  822.5 ,  838.63,  854.76,  870.89,  887.02,  903.15,\n",
       "         919.28,  935.41,  951.54,  967.67,  983.8 ,  999.93, 1016.06,\n",
       "        1032.19, 1048.32, 1064.45, 1080.58, 1096.71, 1112.84, 1128.97,\n",
       "        1145.1 , 1161.23, 1177.36, 1193.49, 1209.62, 1225.75, 1241.88,\n",
       "        1258.01, 1274.14, 1290.27, 1306.4 , 1322.53, 1338.66, 1354.79,\n",
       "        1370.92, 1387.05, 1403.18, 1419.31, 1435.44, 1451.57, 1467.7 ,\n",
       "        1483.83, 1499.96, 1516.09, 1532.22, 1548.35, 1564.48, 1580.61,\n",
       "        1596.74, 1612.87, 1629.  ]),\n",
       " <BarContainer object of 100 artists>)"
      ]
     },
     "execution_count": 28,
     "metadata": {},
     "output_type": "execute_result"
    },
    {
     "data": {
      "image/png": "[encoded data removed]",
      "text/plain": [
       "<Figure size 432x288 with 1 Axes>"
      ]
     },
     "metadata": {
      "needs_background": "light"
     },
     "output_type": "display_data"
    }
   ],
   "source": [
    "plt.hist(lengths, bins=100)"
   ]
  },
  {
   "cell_type": "code",
   "execution_count": 29,
   "id": "1f6629f1",
   "metadata": {},
   "outputs": [],
   "source": [
    "from tensorflow.keras.preprocessing.sequence import pad_sequences"
   ]
  },
  {
   "cell_type": "code",
   "execution_count": 30,
   "id": "07984f4f",
   "metadata": {},
   "outputs": [],
   "source": [
    "x_train_seq = pad_sequences(x_train, maxlen=200)   # 길이를 200으로 맞춰줌 default는 앞에서 짜르고 뒤에를 200으로"
   ]
  },
  {
   "cell_type": "code",
   "execution_count": 31,
   "id": "855ffd27",
   "metadata": {},
   "outputs": [],
   "source": [
    "x_test_seq = pad_sequences(x_test, maxlen=200)    # 길이가 200보다 작으면 앞부분을 0으로 채움"
   ]
  },
  {
   "cell_type": "code",
   "execution_count": 16,
   "id": "ddd89e1f",
   "metadata": {},
   "outputs": [
    {
     "name": "stdout",
     "output_type": "stream",
     "text": [
      "(25000, 200) (25000, 200)\n"
     ]
    }
   ],
   "source": [
    "print(x_train_seq.shape, x_test_seq.shape)"
   ]
  },
  {
   "cell_type": "code",
   "execution_count": 19,
   "id": "c52bce23",
   "metadata": {},
   "outputs": [
    {
     "name": "stdout",
     "output_type": "stream",
     "text": [
      "Model: \"sequential_1\"\n",
      "_________________________________________________________________\n",
      " Layer (type)                Output Shape              Param #   \n",
      "=================================================================\n",
      " simple_rnn_1 (SimpleRNN)    (None, 8)                 80        \n",
      "                                                                 \n",
      " dense (Dense)               (None, 1)                 9         \n",
      "                                                                 \n",
      "=================================================================\n",
      "Total params: 89\n",
      "Trainable params: 89\n",
      "Non-trainable params: 0\n",
      "_________________________________________________________________\n"
     ]
    }
   ],
   "source": [
    "model = Sequential()\n",
    "model.add(SimpleRNN(8, input_shape=(200,1)))\n",
    "model.add(Dense(1, activation='sigmoid'))\n",
    "model.summary()"
   ]
  },
  {
   "cell_type": "code",
   "execution_count": 20,
   "id": "e88e35d7",
   "metadata": {},
   "outputs": [],
   "source": [
    "model.compile(loss='binary_crossentropy', metrics=['accuracy'], optimizer='adam')"
   ]
  },
  {
   "cell_type": "code",
   "execution_count": 23,
   "id": "cd3ebca6",
   "metadata": {
    "collapsed": true
   },
   "outputs": [
    {
     "name": "stdout",
     "output_type": "stream",
     "text": [
      "Epoch 1/10\n",
      "391/391 [==============================] - 82s 209ms/step - loss: 0.6927 - accuracy: 0.5147 - val_loss: 0.6933 - val_accuracy: 0.5078\n",
      "Epoch 2/10\n",
      "391/391 [==============================] - 80s 206ms/step - loss: 0.6924 - accuracy: 0.5153 - val_loss: 0.6929 - val_accuracy: 0.5061\n",
      "Epoch 3/10\n",
      "391/391 [==============================] - 81s 208ms/step - loss: 0.6923 - accuracy: 0.5182 - val_loss: 0.6933 - val_accuracy: 0.5148\n",
      "Epoch 4/10\n",
      "391/391 [==============================] - 81s 206ms/step - loss: 0.6922 - accuracy: 0.5169 - val_loss: 0.6934 - val_accuracy: 0.5134\n",
      "Epoch 5/10\n",
      "391/391 [==============================] - 81s 206ms/step - loss: 0.6921 - accuracy: 0.5182 - val_loss: 0.6933 - val_accuracy: 0.5087\n",
      "Epoch 6/10\n",
      "391/391 [==============================] - 80s 205ms/step - loss: 0.6923 - accuracy: 0.5165 - val_loss: 0.6930 - val_accuracy: 0.5067\n",
      "Epoch 7/10\n",
      "391/391 [==============================] - 79s 202ms/step - loss: 0.6922 - accuracy: 0.5182 - val_loss: 0.6930 - val_accuracy: 0.5096\n",
      "Epoch 8/10\n",
      "391/391 [==============================] - 81s 207ms/step - loss: 0.6920 - accuracy: 0.5186 - val_loss: 0.6927 - val_accuracy: 0.5082\n",
      "Epoch 9/10\n",
      "295/391 [=====================>........] - ETA: 17s - loss: 0.6921 - accuracy: 0.5182"
     ]
    },
    {
     "ename": "KeyboardInterrupt",
     "evalue": "",
     "output_type": "error",
     "traceback": [
      "\u001b[1;31m---------------------------------------------------------------------------\u001b[0m",
      "\u001b[1;31mKeyboardInterrupt\u001b[0m                         Traceback (most recent call last)",
      "\u001b[1;32m~\\AppData\\Local\\Temp/ipykernel_588/4000752050.py\u001b[0m in \u001b[0;36m<module>\u001b[1;34m\u001b[0m\n\u001b[1;32m----> 1\u001b[1;33m \u001b[0mmodel\u001b[0m\u001b[1;33m.\u001b[0m\u001b[0mfit\u001b[0m\u001b[1;33m(\u001b[0m\u001b[0mx_train_seq\u001b[0m\u001b[1;33m,\u001b[0m \u001b[0my_train\u001b[0m\u001b[1;33m,\u001b[0m \u001b[0mepochs\u001b[0m\u001b[1;33m=\u001b[0m\u001b[1;36m10\u001b[0m\u001b[1;33m,\u001b[0m \u001b[0mbatch_size\u001b[0m\u001b[1;33m=\u001b[0m\u001b[1;36m64\u001b[0m\u001b[1;33m,\u001b[0m \u001b[0mvalidation_data\u001b[0m\u001b[1;33m=\u001b[0m\u001b[1;33m(\u001b[0m\u001b[0mx_test_seq\u001b[0m\u001b[1;33m,\u001b[0m \u001b[0my_test\u001b[0m\u001b[1;33m)\u001b[0m\u001b[1;33m)\u001b[0m\u001b[1;33m\u001b[0m\u001b[1;33m\u001b[0m\u001b[0m\n\u001b[0m",
      "\u001b[1;32m~\\Anaconda3\\lib\\site-packages\\keras\\utils\\traceback_utils.py\u001b[0m in \u001b[0;36merror_handler\u001b[1;34m(*args, **kwargs)\u001b[0m\n\u001b[0;32m     62\u001b[0m     \u001b[0mfiltered_tb\u001b[0m \u001b[1;33m=\u001b[0m \u001b[1;32mNone\u001b[0m\u001b[1;33m\u001b[0m\u001b[1;33m\u001b[0m\u001b[0m\n\u001b[0;32m     63\u001b[0m     \u001b[1;32mtry\u001b[0m\u001b[1;33m:\u001b[0m\u001b[1;33m\u001b[0m\u001b[1;33m\u001b[0m\u001b[0m\n\u001b[1;32m---> 64\u001b[1;33m       \u001b[1;32mreturn\u001b[0m \u001b[0mfn\u001b[0m\u001b[1;33m(\u001b[0m\u001b[1;33m*\u001b[0m\u001b[0margs\u001b[0m\u001b[1;33m,\u001b[0m \u001b[1;33m**\u001b[0m\u001b[0mkwargs\u001b[0m\u001b[1;33m)\u001b[0m\u001b[1;33m\u001b[0m\u001b[1;33m\u001b[0m\u001b[0m\n\u001b[0m\u001b[0;32m     65\u001b[0m     \u001b[1;32mexcept\u001b[0m \u001b[0mException\u001b[0m \u001b[1;32mas\u001b[0m \u001b[0me\u001b[0m\u001b[1;33m:\u001b[0m  \u001b[1;31m# pylint: disable=broad-except\u001b[0m\u001b[1;33m\u001b[0m\u001b[1;33m\u001b[0m\u001b[0m\n\u001b[0;32m     66\u001b[0m       \u001b[0mfiltered_tb\u001b[0m \u001b[1;33m=\u001b[0m \u001b[0m_process_traceback_frames\u001b[0m\u001b[1;33m(\u001b[0m\u001b[0me\u001b[0m\u001b[1;33m.\u001b[0m\u001b[0m__traceback__\u001b[0m\u001b[1;33m)\u001b[0m\u001b[1;33m\u001b[0m\u001b[1;33m\u001b[0m\u001b[0m\n",
      "\u001b[1;32m~\\Anaconda3\\lib\\site-packages\\keras\\engine\\training.py\u001b[0m in \u001b[0;36mfit\u001b[1;34m(self, x, y, batch_size, epochs, verbose, callbacks, validation_split, validation_data, shuffle, class_weight, sample_weight, initial_epoch, steps_per_epoch, validation_steps, validation_batch_size, validation_freq, max_queue_size, workers, use_multiprocessing)\u001b[0m\n\u001b[0;32m   1382\u001b[0m                 _r=1):\n\u001b[0;32m   1383\u001b[0m               \u001b[0mcallbacks\u001b[0m\u001b[1;33m.\u001b[0m\u001b[0mon_train_batch_begin\u001b[0m\u001b[1;33m(\u001b[0m\u001b[0mstep\u001b[0m\u001b[1;33m)\u001b[0m\u001b[1;33m\u001b[0m\u001b[1;33m\u001b[0m\u001b[0m\n\u001b[1;32m-> 1384\u001b[1;33m               \u001b[0mtmp_logs\u001b[0m \u001b[1;33m=\u001b[0m \u001b[0mself\u001b[0m\u001b[1;33m.\u001b[0m\u001b[0mtrain_function\u001b[0m\u001b[1;33m(\u001b[0m\u001b[0miterator\u001b[0m\u001b[1;33m)\u001b[0m\u001b[1;33m\u001b[0m\u001b[1;33m\u001b[0m\u001b[0m\n\u001b[0m\u001b[0;32m   1385\u001b[0m               \u001b[1;32mif\u001b[0m \u001b[0mdata_handler\u001b[0m\u001b[1;33m.\u001b[0m\u001b[0mshould_sync\u001b[0m\u001b[1;33m:\u001b[0m\u001b[1;33m\u001b[0m\u001b[1;33m\u001b[0m\u001b[0m\n\u001b[0;32m   1386\u001b[0m                 \u001b[0mcontext\u001b[0m\u001b[1;33m.\u001b[0m\u001b[0masync_wait\u001b[0m\u001b[1;33m(\u001b[0m\u001b[1;33m)\u001b[0m\u001b[1;33m\u001b[0m\u001b[1;33m\u001b[0m\u001b[0m\n",
      "\u001b[1;32m~\\Anaconda3\\lib\\site-packages\\tensorflow\\python\\util\\traceback_utils.py\u001b[0m in \u001b[0;36merror_handler\u001b[1;34m(*args, **kwargs)\u001b[0m\n\u001b[0;32m    148\u001b[0m     \u001b[0mfiltered_tb\u001b[0m \u001b[1;33m=\u001b[0m \u001b[1;32mNone\u001b[0m\u001b[1;33m\u001b[0m\u001b[1;33m\u001b[0m\u001b[0m\n\u001b[0;32m    149\u001b[0m     \u001b[1;32mtry\u001b[0m\u001b[1;33m:\u001b[0m\u001b[1;33m\u001b[0m\u001b[1;33m\u001b[0m\u001b[0m\n\u001b[1;32m--> 150\u001b[1;33m       \u001b[1;32mreturn\u001b[0m \u001b[0mfn\u001b[0m\u001b[1;33m(\u001b[0m\u001b[1;33m*\u001b[0m\u001b[0margs\u001b[0m\u001b[1;33m,\u001b[0m \u001b[1;33m**\u001b[0m\u001b[0mkwargs\u001b[0m\u001b[1;33m)\u001b[0m\u001b[1;33m\u001b[0m\u001b[1;33m\u001b[0m\u001b[0m\n\u001b[0m\u001b[0;32m    151\u001b[0m     \u001b[1;32mexcept\u001b[0m \u001b[0mException\u001b[0m \u001b[1;32mas\u001b[0m \u001b[0me\u001b[0m\u001b[1;33m:\u001b[0m\u001b[1;33m\u001b[0m\u001b[1;33m\u001b[0m\u001b[0m\n\u001b[0;32m    152\u001b[0m       \u001b[0mfiltered_tb\u001b[0m \u001b[1;33m=\u001b[0m \u001b[0m_process_traceback_frames\u001b[0m\u001b[1;33m(\u001b[0m\u001b[0me\u001b[0m\u001b[1;33m.\u001b[0m\u001b[0m__traceback__\u001b[0m\u001b[1;33m)\u001b[0m\u001b[1;33m\u001b[0m\u001b[1;33m\u001b[0m\u001b[0m\n",
      "\u001b[1;32m~\\Anaconda3\\lib\\site-packages\\tensorflow\\python\\eager\\def_function.py\u001b[0m in \u001b[0;36m__call__\u001b[1;34m(self, *args, **kwds)\u001b[0m\n\u001b[0;32m    913\u001b[0m \u001b[1;33m\u001b[0m\u001b[0m\n\u001b[0;32m    914\u001b[0m       \u001b[1;32mwith\u001b[0m \u001b[0mOptionalXlaContext\u001b[0m\u001b[1;33m(\u001b[0m\u001b[0mself\u001b[0m\u001b[1;33m.\u001b[0m\u001b[0m_jit_compile\u001b[0m\u001b[1;33m)\u001b[0m\u001b[1;33m:\u001b[0m\u001b[1;33m\u001b[0m\u001b[1;33m\u001b[0m\u001b[0m\n\u001b[1;32m--> 915\u001b[1;33m         \u001b[0mresult\u001b[0m \u001b[1;33m=\u001b[0m \u001b[0mself\u001b[0m\u001b[1;33m.\u001b[0m\u001b[0m_call\u001b[0m\u001b[1;33m(\u001b[0m\u001b[1;33m*\u001b[0m\u001b[0margs\u001b[0m\u001b[1;33m,\u001b[0m \u001b[1;33m**\u001b[0m\u001b[0mkwds\u001b[0m\u001b[1;33m)\u001b[0m\u001b[1;33m\u001b[0m\u001b[1;33m\u001b[0m\u001b[0m\n\u001b[0m\u001b[0;32m    916\u001b[0m \u001b[1;33m\u001b[0m\u001b[0m\n\u001b[0;32m    917\u001b[0m       \u001b[0mnew_tracing_count\u001b[0m \u001b[1;33m=\u001b[0m \u001b[0mself\u001b[0m\u001b[1;33m.\u001b[0m\u001b[0mexperimental_get_tracing_count\u001b[0m\u001b[1;33m(\u001b[0m\u001b[1;33m)\u001b[0m\u001b[1;33m\u001b[0m\u001b[1;33m\u001b[0m\u001b[0m\n",
      "\u001b[1;32m~\\Anaconda3\\lib\\site-packages\\tensorflow\\python\\eager\\def_function.py\u001b[0m in \u001b[0;36m_call\u001b[1;34m(self, *args, **kwds)\u001b[0m\n\u001b[0;32m    945\u001b[0m       \u001b[1;31m# In this case we have created variables on the first call, so we run the\u001b[0m\u001b[1;33m\u001b[0m\u001b[1;33m\u001b[0m\u001b[0m\n\u001b[0;32m    946\u001b[0m       \u001b[1;31m# defunned version which is guaranteed to never create variables.\u001b[0m\u001b[1;33m\u001b[0m\u001b[1;33m\u001b[0m\u001b[0m\n\u001b[1;32m--> 947\u001b[1;33m       \u001b[1;32mreturn\u001b[0m \u001b[0mself\u001b[0m\u001b[1;33m.\u001b[0m\u001b[0m_stateless_fn\u001b[0m\u001b[1;33m(\u001b[0m\u001b[1;33m*\u001b[0m\u001b[0margs\u001b[0m\u001b[1;33m,\u001b[0m \u001b[1;33m**\u001b[0m\u001b[0mkwds\u001b[0m\u001b[1;33m)\u001b[0m  \u001b[1;31m# pylint: disable=not-callable\u001b[0m\u001b[1;33m\u001b[0m\u001b[1;33m\u001b[0m\u001b[0m\n\u001b[0m\u001b[0;32m    948\u001b[0m     \u001b[1;32melif\u001b[0m \u001b[0mself\u001b[0m\u001b[1;33m.\u001b[0m\u001b[0m_stateful_fn\u001b[0m \u001b[1;32mis\u001b[0m \u001b[1;32mnot\u001b[0m \u001b[1;32mNone\u001b[0m\u001b[1;33m:\u001b[0m\u001b[1;33m\u001b[0m\u001b[1;33m\u001b[0m\u001b[0m\n\u001b[0;32m    949\u001b[0m       \u001b[1;31m# Release the lock early so that multiple threads can perform the call\u001b[0m\u001b[1;33m\u001b[0m\u001b[1;33m\u001b[0m\u001b[0m\n",
      "\u001b[1;32m~\\Anaconda3\\lib\\site-packages\\tensorflow\\python\\eager\\function.py\u001b[0m in \u001b[0;36m__call__\u001b[1;34m(self, *args, **kwargs)\u001b[0m\n\u001b[0;32m   2954\u001b[0m       (graph_function,\n\u001b[0;32m   2955\u001b[0m        filtered_flat_args) = self._maybe_define_function(args, kwargs)\n\u001b[1;32m-> 2956\u001b[1;33m     return graph_function._call_flat(\n\u001b[0m\u001b[0;32m   2957\u001b[0m         filtered_flat_args, captured_inputs=graph_function.captured_inputs)  # pylint: disable=protected-access\n\u001b[0;32m   2958\u001b[0m \u001b[1;33m\u001b[0m\u001b[0m\n",
      "\u001b[1;32m~\\Anaconda3\\lib\\site-packages\\tensorflow\\python\\eager\\function.py\u001b[0m in \u001b[0;36m_call_flat\u001b[1;34m(self, args, captured_inputs, cancellation_manager)\u001b[0m\n\u001b[0;32m   1851\u001b[0m         and executing_eagerly):\n\u001b[0;32m   1852\u001b[0m       \u001b[1;31m# No tape is watching; skip to running the function.\u001b[0m\u001b[1;33m\u001b[0m\u001b[1;33m\u001b[0m\u001b[0m\n\u001b[1;32m-> 1853\u001b[1;33m       return self._build_call_outputs(self._inference_function.call(\n\u001b[0m\u001b[0;32m   1854\u001b[0m           ctx, args, cancellation_manager=cancellation_manager))\n\u001b[0;32m   1855\u001b[0m     forward_backward = self._select_forward_and_backward_functions(\n",
      "\u001b[1;32m~\\Anaconda3\\lib\\site-packages\\tensorflow\\python\\eager\\function.py\u001b[0m in \u001b[0;36mcall\u001b[1;34m(self, ctx, args, cancellation_manager)\u001b[0m\n\u001b[0;32m    497\u001b[0m       \u001b[1;32mwith\u001b[0m \u001b[0m_InterpolateFunctionError\u001b[0m\u001b[1;33m(\u001b[0m\u001b[0mself\u001b[0m\u001b[1;33m)\u001b[0m\u001b[1;33m:\u001b[0m\u001b[1;33m\u001b[0m\u001b[1;33m\u001b[0m\u001b[0m\n\u001b[0;32m    498\u001b[0m         \u001b[1;32mif\u001b[0m \u001b[0mcancellation_manager\u001b[0m \u001b[1;32mis\u001b[0m \u001b[1;32mNone\u001b[0m\u001b[1;33m:\u001b[0m\u001b[1;33m\u001b[0m\u001b[1;33m\u001b[0m\u001b[0m\n\u001b[1;32m--> 499\u001b[1;33m           outputs = execute.execute(\n\u001b[0m\u001b[0;32m    500\u001b[0m               \u001b[0mstr\u001b[0m\u001b[1;33m(\u001b[0m\u001b[0mself\u001b[0m\u001b[1;33m.\u001b[0m\u001b[0msignature\u001b[0m\u001b[1;33m.\u001b[0m\u001b[0mname\u001b[0m\u001b[1;33m)\u001b[0m\u001b[1;33m,\u001b[0m\u001b[1;33m\u001b[0m\u001b[1;33m\u001b[0m\u001b[0m\n\u001b[0;32m    501\u001b[0m               \u001b[0mnum_outputs\u001b[0m\u001b[1;33m=\u001b[0m\u001b[0mself\u001b[0m\u001b[1;33m.\u001b[0m\u001b[0m_num_outputs\u001b[0m\u001b[1;33m,\u001b[0m\u001b[1;33m\u001b[0m\u001b[1;33m\u001b[0m\u001b[0m\n",
      "\u001b[1;32m~\\Anaconda3\\lib\\site-packages\\tensorflow\\python\\eager\\execute.py\u001b[0m in \u001b[0;36mquick_execute\u001b[1;34m(op_name, num_outputs, inputs, attrs, ctx, name)\u001b[0m\n\u001b[0;32m     52\u001b[0m   \u001b[1;32mtry\u001b[0m\u001b[1;33m:\u001b[0m\u001b[1;33m\u001b[0m\u001b[1;33m\u001b[0m\u001b[0m\n\u001b[0;32m     53\u001b[0m     \u001b[0mctx\u001b[0m\u001b[1;33m.\u001b[0m\u001b[0mensure_initialized\u001b[0m\u001b[1;33m(\u001b[0m\u001b[1;33m)\u001b[0m\u001b[1;33m\u001b[0m\u001b[1;33m\u001b[0m\u001b[0m\n\u001b[1;32m---> 54\u001b[1;33m     tensors = pywrap_tfe.TFE_Py_Execute(ctx._handle, device_name, op_name,\n\u001b[0m\u001b[0;32m     55\u001b[0m                                         inputs, attrs, num_outputs)\n\u001b[0;32m     56\u001b[0m   \u001b[1;32mexcept\u001b[0m \u001b[0mcore\u001b[0m\u001b[1;33m.\u001b[0m\u001b[0m_NotOkStatusException\u001b[0m \u001b[1;32mas\u001b[0m \u001b[0me\u001b[0m\u001b[1;33m:\u001b[0m\u001b[1;33m\u001b[0m\u001b[1;33m\u001b[0m\u001b[0m\n",
      "\u001b[1;31mKeyboardInterrupt\u001b[0m: "
     ]
    }
   ],
   "source": [
    "model.fit(x_train_seq, y_train, epochs=10, batch_size=64, validation_data=(x_test_seq, y_test))"
   ]
  },
  {
   "cell_type": "code",
   "execution_count": null,
   "id": "761c829e",
   "metadata": {},
   "outputs": [],
   "source": []
  },
  {
   "cell_type": "code",
   "execution_count": null,
   "id": "7f857eb4",
   "metadata": {},
   "outputs": [],
   "source": [
    "# one-hot"
   ]
  },
  {
   "cell_type": "code",
   "execution_count": 32,
   "id": "1d8c81ef",
   "metadata": {},
   "outputs": [],
   "source": [
    "from tensorflow.keras.utils import to_categorical\n",
    "x_train_oh = to_categorical(x_train_seq)\n",
    "x_test_oh = to_categorical(x_test_seq)"
   ]
  },
  {
   "cell_type": "code",
   "execution_count": 33,
   "id": "11accba8",
   "metadata": {},
   "outputs": [
    {
     "data": {
      "text/plain": [
       "(2500, 200, 500)"
      ]
     },
     "execution_count": 33,
     "metadata": {},
     "output_type": "execute_result"
    }
   ],
   "source": [
    "x_train_oh.shape"
   ]
  },
  {
   "cell_type": "code",
   "execution_count": 34,
   "id": "47a56510",
   "metadata": {},
   "outputs": [
    {
     "name": "stdout",
     "output_type": "stream",
     "text": [
      "Model: \"sequential_2\"\n",
      "_________________________________________________________________\n",
      " Layer (type)                Output Shape              Param #   \n",
      "=================================================================\n",
      " simple_rnn_2 (SimpleRNN)    (None, 8)                 4072      \n",
      "                                                                 \n",
      " dense_1 (Dense)             (None, 1)                 9         \n",
      "                                                                 \n",
      "=================================================================\n",
      "Total params: 4,081\n",
      "Trainable params: 4,081\n",
      "Non-trainable params: 0\n",
      "_________________________________________________________________\n"
     ]
    }
   ],
   "source": [
    "model = Sequential()\n",
    "model.add(SimpleRNN(8, input_shape=(200,500)))\n",
    "model.add(Dense(1, activation='sigmoid'))\n",
    "model.summary()"
   ]
  },
  {
   "cell_type": "code",
   "execution_count": 35,
   "id": "2125b936",
   "metadata": {},
   "outputs": [],
   "source": [
    "model.compile(loss='binary_crossentropy', metrics=['accuracy'], optimizer='adam')"
   ]
  },
  {
   "cell_type": "code",
   "execution_count": 37,
   "id": "c42ca2e8",
   "metadata": {},
   "outputs": [
    {
     "name": "stdout",
     "output_type": "stream",
     "text": [
      "Epoch 1/10\n",
      "40/40 [==============================] - 9s 235ms/step - loss: 0.6337 - accuracy: 0.6612 - val_loss: 0.6532 - val_accuracy: 0.6232\n",
      "Epoch 2/10\n",
      "40/40 [==============================] - 9s 225ms/step - loss: 0.6441 - accuracy: 0.6160 - val_loss: 0.6572 - val_accuracy: 0.6108\n",
      "Epoch 3/10\n",
      "40/40 [==============================] - 9s 226ms/step - loss: 0.5858 - accuracy: 0.7372 - val_loss: 0.6156 - val_accuracy: 0.6904\n",
      "Epoch 4/10\n",
      "40/40 [==============================] - 9s 229ms/step - loss: 0.5475 - accuracy: 0.7632 - val_loss: 0.6139 - val_accuracy: 0.6732\n",
      "Epoch 5/10\n",
      "40/40 [==============================] - 9s 226ms/step - loss: 0.5128 - accuracy: 0.7948 - val_loss: 0.5912 - val_accuracy: 0.6992\n",
      "Epoch 6/10\n",
      "40/40 [==============================] - 9s 226ms/step - loss: 0.4715 - accuracy: 0.8192 - val_loss: 0.5588 - val_accuracy: 0.7368\n",
      "Epoch 7/10\n",
      "40/40 [==============================] - 9s 232ms/step - loss: 0.4415 - accuracy: 0.8352 - val_loss: 0.5505 - val_accuracy: 0.7344\n",
      "Epoch 8/10\n",
      "40/40 [==============================] - 9s 220ms/step - loss: 0.4108 - accuracy: 0.8476 - val_loss: 0.5413 - val_accuracy: 0.7440\n",
      "Epoch 9/10\n",
      "40/40 [==============================] - 9s 234ms/step - loss: 0.3868 - accuracy: 0.8616 - val_loss: 0.5498 - val_accuracy: 0.7352\n",
      "Epoch 10/10\n",
      "40/40 [==============================] - 9s 236ms/step - loss: 0.3670 - accuracy: 0.8660 - val_loss: 0.5326 - val_accuracy: 0.7508\n"
     ]
    },
    {
     "data": {
      "text/plain": [
       "<keras.callbacks.History at 0x1187b5afdf0>"
      ]
     },
     "execution_count": 37,
     "metadata": {},
     "output_type": "execute_result"
    }
   ],
   "source": [
    "model.fit(x_train_oh, y_train, epochs=10, batch_size=64, validation_data=(x_test_oh, y_test))"
   ]
  },
  {
   "cell_type": "code",
   "execution_count": null,
   "id": "4a65ab62",
   "metadata": {},
   "outputs": [],
   "source": []
  },
  {
   "cell_type": "code",
   "execution_count": null,
   "id": "5a524c2b",
   "metadata": {},
   "outputs": [],
   "source": [
    "# lstm"
   ]
  },
  {
   "cell_type": "code",
   "execution_count": 38,
   "id": "47fc0c7a",
   "metadata": {},
   "outputs": [
    {
     "name": "stdout",
     "output_type": "stream",
     "text": [
      "Model: \"sequential_3\"\n",
      "_________________________________________________________________\n",
      " Layer (type)                Output Shape              Param #   \n",
      "=================================================================\n",
      " lstm (LSTM)                 (None, 8)                 16288     \n",
      "                                                                 \n",
      " dense_2 (Dense)             (None, 1)                 9         \n",
      "                                                                 \n",
      "=================================================================\n",
      "Total params: 16,297\n",
      "Trainable params: 16,297\n",
      "Non-trainable params: 0\n",
      "_________________________________________________________________\n"
     ]
    }
   ],
   "source": [
    "model = Sequential()\n",
    "model.add(LSTM(8, input_shape=(200,500)))\n",
    "model.add(Dense(1, activation='sigmoid'))\n",
    "model.summary()"
   ]
  },
  {
   "cell_type": "code",
   "execution_count": 39,
   "id": "8504eb64",
   "metadata": {},
   "outputs": [],
   "source": [
    "model.compile(loss='binary_crossentropy', metrics=['accuracy'], optimizer='adam')"
   ]
  },
  {
   "cell_type": "code",
   "execution_count": 40,
   "id": "7189dfac",
   "metadata": {},
   "outputs": [
    {
     "name": "stdout",
     "output_type": "stream",
     "text": [
      "Epoch 1/10\n",
      "40/40 [==============================] - 14s 52ms/step - loss: 0.6919 - accuracy: 0.5284 - val_loss: 0.6918 - val_accuracy: 0.5112\n",
      "Epoch 2/10\n",
      "40/40 [==============================] - 1s 24ms/step - loss: 0.6881 - accuracy: 0.5720 - val_loss: 0.6885 - val_accuracy: 0.5240\n",
      "Epoch 3/10\n",
      "40/40 [==============================] - 1s 25ms/step - loss: 0.6600 - accuracy: 0.6068 - val_loss: 0.7183 - val_accuracy: 0.6108\n",
      "Epoch 4/10\n",
      "40/40 [==============================] - 1s 25ms/step - loss: 0.6229 - accuracy: 0.6884 - val_loss: 0.5893 - val_accuracy: 0.7400\n",
      "Epoch 5/10\n",
      "40/40 [==============================] - 1s 25ms/step - loss: 0.5675 - accuracy: 0.7408 - val_loss: 0.5567 - val_accuracy: 0.7568\n",
      "Epoch 6/10\n",
      "40/40 [==============================] - 1s 25ms/step - loss: 0.5302 - accuracy: 0.7708 - val_loss: 0.5367 - val_accuracy: 0.7620\n",
      "Epoch 7/10\n",
      "40/40 [==============================] - 1s 25ms/step - loss: 0.5024 - accuracy: 0.7800 - val_loss: 0.5424 - val_accuracy: 0.7560\n",
      "Epoch 8/10\n",
      "40/40 [==============================] - 1s 25ms/step - loss: 0.4925 - accuracy: 0.7924 - val_loss: 0.6157 - val_accuracy: 0.7252\n",
      "Epoch 9/10\n",
      "40/40 [==============================] - 1s 25ms/step - loss: 0.5084 - accuracy: 0.7728 - val_loss: 0.5006 - val_accuracy: 0.7768\n",
      "Epoch 10/10\n",
      "40/40 [==============================] - 1s 25ms/step - loss: 0.4386 - accuracy: 0.8144 - val_loss: 0.5318 - val_accuracy: 0.7284\n"
     ]
    },
    {
     "data": {
      "text/plain": [
       "<keras.callbacks.History at 0x1187f881df0>"
      ]
     },
     "execution_count": 40,
     "metadata": {},
     "output_type": "execute_result"
    }
   ],
   "source": [
    "model.fit(x_train_oh, y_train, epochs=10, batch_size=64, validation_data=(x_test_oh, y_test))"
   ]
  },
  {
   "cell_type": "code",
   "execution_count": null,
   "id": "41994c27",
   "metadata": {},
   "outputs": [],
   "source": []
  },
  {
   "cell_type": "code",
   "execution_count": null,
   "id": "dc50c684",
   "metadata": {},
   "outputs": [],
   "source": []
  },
  {
   "cell_type": "code",
   "execution_count": null,
   "id": "cb40c234",
   "metadata": {},
   "outputs": [],
   "source": [
    "# one-hot으로 하지 않고 embedding으로 함"
   ]
  },
  {
   "cell_type": "code",
   "execution_count": 42,
   "id": "e707cae7",
   "metadata": {},
   "outputs": [
    {
     "name": "stdout",
     "output_type": "stream",
     "text": [
      "Model: \"sequential_4\"\n",
      "_________________________________________________________________\n",
      " Layer (type)                Output Shape              Param #   \n",
      "=================================================================\n",
      " embedding (Embedding)       (None, 200, 16)           8000      \n",
      "                                                                 \n",
      " lstm_1 (LSTM)               (None, 8)                 800       \n",
      "                                                                 \n",
      " dense_3 (Dense)             (None, 1)                 9         \n",
      "                                                                 \n",
      "=================================================================\n",
      "Total params: 8,809\n",
      "Trainable params: 8,809\n",
      "Non-trainable params: 0\n",
      "_________________________________________________________________\n"
     ]
    }
   ],
   "source": [
    "model = Sequential()\n",
    "model.add(Embedding(500, 16, input_length=200))       # 500을 16차원으로 바꿔줌\n",
    "model.add(LSTM(8))\n",
    "model.add(Dense(1, activation='sigmoid'))\n",
    "model.summary()"
   ]
  },
  {
   "cell_type": "code",
   "execution_count": 43,
   "id": "b5c16dc4",
   "metadata": {},
   "outputs": [],
   "source": [
    "model.compile(loss='binary_crossentropy', metrics=['accuracy'], optimizer='adam')"
   ]
  },
  {
   "cell_type": "code",
   "execution_count": 49,
   "id": "b38cc69b",
   "metadata": {
    "scrolled": true
   },
   "outputs": [
    {
     "name": "stdout",
     "output_type": "stream",
     "text": [
      "Epoch 1/50\n",
      "40/40 [==============================] - 1s 25ms/step - loss: 0.0701 - accuracy: 0.9824 - val_loss: 0.9756 - val_accuracy: 0.7436\n",
      "Epoch 2/50\n",
      "40/40 [==============================] - 1s 14ms/step - loss: 0.0684 - accuracy: 0.9840 - val_loss: 0.9740 - val_accuracy: 0.7440\n",
      "Epoch 3/50\n",
      "40/40 [==============================] - 1s 13ms/step - loss: 0.0839 - accuracy: 0.9808 - val_loss: 0.9976 - val_accuracy: 0.7420\n",
      "Epoch 4/50\n",
      "40/40 [==============================] - 1s 13ms/step - loss: 0.1102 - accuracy: 0.9708 - val_loss: 0.9478 - val_accuracy: 0.7496\n",
      "Epoch 5/50\n",
      "40/40 [==============================] - 1s 13ms/step - loss: 0.0815 - accuracy: 0.9812 - val_loss: 0.9615 - val_accuracy: 0.7476\n",
      "Epoch 6/50\n",
      "40/40 [==============================] - 1s 13ms/step - loss: 0.0702 - accuracy: 0.9828 - val_loss: 1.0001 - val_accuracy: 0.7472\n",
      "Epoch 7/50\n",
      "40/40 [==============================] - 1s 13ms/step - loss: 0.0848 - accuracy: 0.9776 - val_loss: 0.9591 - val_accuracy: 0.7480\n",
      "Epoch 8/50\n",
      "40/40 [==============================] - 1s 13ms/step - loss: 0.1522 - accuracy: 0.9492 - val_loss: 0.9075 - val_accuracy: 0.7436\n",
      "Epoch 9/50\n",
      "40/40 [==============================] - 1s 13ms/step - loss: 0.1187 - accuracy: 0.9676 - val_loss: 0.9686 - val_accuracy: 0.7516\n",
      "Epoch 10/50\n",
      "40/40 [==============================] - 1s 13ms/step - loss: 0.0827 - accuracy: 0.9788 - val_loss: 0.9622 - val_accuracy: 0.7488\n",
      "Epoch 11/50\n",
      "40/40 [==============================] - 1s 13ms/step - loss: 0.1130 - accuracy: 0.9688 - val_loss: 0.9580 - val_accuracy: 0.7404\n",
      "Epoch 12/50\n",
      "40/40 [==============================] - 1s 13ms/step - loss: 0.0929 - accuracy: 0.9772 - val_loss: 1.0396 - val_accuracy: 0.7412\n",
      "Epoch 13/50\n",
      "40/40 [==============================] - 1s 13ms/step - loss: 0.0916 - accuracy: 0.9760 - val_loss: 1.0077 - val_accuracy: 0.7452\n",
      "Epoch 14/50\n",
      "40/40 [==============================] - 1s 13ms/step - loss: 0.0732 - accuracy: 0.9828 - val_loss: 1.0093 - val_accuracy: 0.7384\n",
      "Epoch 15/50\n",
      "40/40 [==============================] - 1s 13ms/step - loss: 0.0682 - accuracy: 0.9848 - val_loss: 1.0131 - val_accuracy: 0.7412\n",
      "Epoch 16/50\n",
      "40/40 [==============================] - 1s 13ms/step - loss: 0.0672 - accuracy: 0.9864 - val_loss: 1.0168 - val_accuracy: 0.7400\n",
      "Epoch 17/50\n",
      "40/40 [==============================] - 1s 14ms/step - loss: 0.0761 - accuracy: 0.9820 - val_loss: 0.9987 - val_accuracy: 0.7432\n",
      "Epoch 18/50\n",
      "40/40 [==============================] - 1s 13ms/step - loss: 0.0670 - accuracy: 0.9872 - val_loss: 1.0240 - val_accuracy: 0.7424\n",
      "Epoch 19/50\n",
      "40/40 [==============================] - 1s 13ms/step - loss: 0.0852 - accuracy: 0.9812 - val_loss: 1.0562 - val_accuracy: 0.7392\n",
      "Epoch 20/50\n",
      "40/40 [==============================] - 1s 14ms/step - loss: 0.1019 - accuracy: 0.9752 - val_loss: 1.3870 - val_accuracy: 0.6772\n",
      "Epoch 21/50\n",
      "40/40 [==============================] - 1s 14ms/step - loss: 0.6254 - accuracy: 0.7808 - val_loss: 0.7713 - val_accuracy: 0.7360\n",
      "Epoch 22/50\n",
      "40/40 [==============================] - 1s 14ms/step - loss: 0.3347 - accuracy: 0.8796 - val_loss: 0.7390 - val_accuracy: 0.7184\n",
      "Epoch 23/50\n",
      "40/40 [==============================] - 1s 13ms/step - loss: 0.2203 - accuracy: 0.9216 - val_loss: 0.7743 - val_accuracy: 0.7328\n",
      "Epoch 24/50\n",
      "40/40 [==============================] - 1s 14ms/step - loss: 0.2031 - accuracy: 0.9380 - val_loss: 1.2434 - val_accuracy: 0.6788\n",
      "Epoch 25/50\n",
      "40/40 [==============================] - 1s 13ms/step - loss: 0.5251 - accuracy: 0.8092 - val_loss: 0.6579 - val_accuracy: 0.6960\n",
      "Epoch 26/50\n",
      "40/40 [==============================] - 1s 13ms/step - loss: 0.2755 - accuracy: 0.8908 - val_loss: 0.6891 - val_accuracy: 0.7312\n",
      "Epoch 27/50\n",
      "40/40 [==============================] - 1s 13ms/step - loss: 0.2120 - accuracy: 0.9232 - val_loss: 0.7357 - val_accuracy: 0.7312\n",
      "Epoch 28/50\n",
      "40/40 [==============================] - 1s 13ms/step - loss: 0.1536 - accuracy: 0.9552 - val_loss: 0.7479 - val_accuracy: 0.7480\n",
      "Epoch 29/50\n",
      "40/40 [==============================] - 1s 14ms/step - loss: 0.1286 - accuracy: 0.9652 - val_loss: 0.7842 - val_accuracy: 0.7492\n",
      "Epoch 30/50\n",
      "40/40 [==============================] - 1s 13ms/step - loss: 0.1124 - accuracy: 0.9716 - val_loss: 0.7980 - val_accuracy: 0.7516\n",
      "Epoch 31/50\n",
      "40/40 [==============================] - 1s 13ms/step - loss: 0.5400 - accuracy: 0.8320 - val_loss: 0.8884 - val_accuracy: 0.6668\n",
      "Epoch 32/50\n",
      "40/40 [==============================] - 1s 13ms/step - loss: 0.3609 - accuracy: 0.8468 - val_loss: 0.6665 - val_accuracy: 0.7424\n",
      "Epoch 33/50\n",
      "40/40 [==============================] - 1s 13ms/step - loss: 0.2181 - accuracy: 0.9236 - val_loss: 0.6891 - val_accuracy: 0.7424\n",
      "Epoch 34/50\n",
      "40/40 [==============================] - 1s 13ms/step - loss: 0.1834 - accuracy: 0.9456 - val_loss: 0.6999 - val_accuracy: 0.7440\n",
      "Epoch 35/50\n",
      "40/40 [==============================] - 1s 13ms/step - loss: 0.1851 - accuracy: 0.9428 - val_loss: 0.7313 - val_accuracy: 0.7496\n",
      "Epoch 36/50\n",
      "40/40 [==============================] - 1s 13ms/step - loss: 0.1424 - accuracy: 0.9596 - val_loss: 0.7675 - val_accuracy: 0.7436\n",
      "Epoch 37/50\n",
      "40/40 [==============================] - 1s 13ms/step - loss: 0.2034 - accuracy: 0.9356 - val_loss: 0.8136 - val_accuracy: 0.7120\n",
      "Epoch 38/50\n",
      "40/40 [==============================] - 1s 13ms/step - loss: 0.1868 - accuracy: 0.9396 - val_loss: 0.7644 - val_accuracy: 0.7448\n",
      "Epoch 39/50\n",
      "40/40 [==============================] - 1s 13ms/step - loss: 0.1379 - accuracy: 0.9636 - val_loss: 0.7965 - val_accuracy: 0.7460\n",
      "Epoch 40/50\n",
      "40/40 [==============================] - 1s 13ms/step - loss: 0.1174 - accuracy: 0.9736 - val_loss: 0.8026 - val_accuracy: 0.7436\n",
      "Epoch 41/50\n",
      "40/40 [==============================] - 1s 14ms/step - loss: 0.1075 - accuracy: 0.9760 - val_loss: 0.8107 - val_accuracy: 0.7444\n",
      "Epoch 42/50\n",
      "40/40 [==============================] - 1s 13ms/step - loss: 0.0978 - accuracy: 0.9788 - val_loss: 0.8333 - val_accuracy: 0.7440\n",
      "Epoch 43/50\n",
      "40/40 [==============================] - 1s 13ms/step - loss: 0.0933 - accuracy: 0.9792 - val_loss: 0.8435 - val_accuracy: 0.7444\n",
      "Epoch 44/50\n",
      "40/40 [==============================] - 1s 13ms/step - loss: 0.0900 - accuracy: 0.9804 - val_loss: 0.8585 - val_accuracy: 0.7440\n",
      "Epoch 45/50\n",
      "40/40 [==============================] - 1s 13ms/step - loss: 0.1890 - accuracy: 0.9440 - val_loss: 0.9078 - val_accuracy: 0.7216\n",
      "Epoch 46/50\n",
      "40/40 [==============================] - 1s 13ms/step - loss: 0.1983 - accuracy: 0.9300 - val_loss: 0.7938 - val_accuracy: 0.7408\n",
      "Epoch 47/50\n",
      "40/40 [==============================] - 1s 14ms/step - loss: 0.1166 - accuracy: 0.9724 - val_loss: 0.8416 - val_accuracy: 0.7488\n",
      "Epoch 48/50\n",
      "40/40 [==============================] - 1s 13ms/step - loss: 0.1034 - accuracy: 0.9760 - val_loss: 0.8480 - val_accuracy: 0.7444\n",
      "Epoch 49/50\n",
      "40/40 [==============================] - 1s 13ms/step - loss: 0.0954 - accuracy: 0.9784 - val_loss: 0.8575 - val_accuracy: 0.7468\n",
      "Epoch 50/50\n",
      "40/40 [==============================] - 1s 13ms/step - loss: 0.0887 - accuracy: 0.9804 - val_loss: 0.8680 - val_accuracy: 0.7484\n"
     ]
    }
   ],
   "source": [
    "hist = model.fit(x_train_seq, y_train, epochs=50, batch_size=64, validation_data=(x_test_seq, y_test))"
   ]
  },
  {
   "cell_type": "code",
   "execution_count": 55,
   "id": "66998ea4",
   "metadata": {},
   "outputs": [
    {
     "data": {
      "text/plain": [
       "[<matplotlib.lines.Line2D at 0x11697bbf640>]"
      ]
     },
     "execution_count": 55,
     "metadata": {},
     "output_type": "execute_result"
    },
    {
     "data": {
      "image/png": "[encoded data removed]",
      "text/plain": [
       "<Figure size 432x288 with 1 Axes>"
      ]
     },
     "metadata": {
      "needs_background": "light"
     },
     "output_type": "display_data"
    }
   ],
   "source": [
    "plt.plot(hist.history['accuracy'])\n",
    "plt.plot(hist.history['val_accuracy'])\n"
   ]
  },
  {
   "cell_type": "code",
   "execution_count": 51,
   "id": "89ba7bcb",
   "metadata": {},
   "outputs": [
    {
     "data": {
      "text/plain": [
       "[<matplotlib.lines.Line2D at 0x1169795c730>]"
      ]
     },
     "execution_count": 51,
     "metadata": {},
     "output_type": "execute_result"
    },
    {
     "data": {
      "image/png": "[encoded data removed]",
      "text/plain": [
       "<Figure size 432x288 with 1 Axes>"
      ]
     },
     "metadata": {
      "needs_background": "light"
     },
     "output_type": "display_data"
    }
   ],
   "source": [
    "plt.plot(hist.history['loss'])\n",
    "plt.plot(hist.history['val_loss'])"
   ]
  },
  {
   "cell_type": "code",
   "execution_count": 54,
   "id": "443b0a51",
   "metadata": {},
   "outputs": [
    {
     "data": {
      "image/png": "[encoded data removed]",
      "text/plain": [
       "<Figure size 432x288 with 1 Axes>"
      ]
     },
     "metadata": {
      "needs_background": "light"
     },
     "output_type": "display_data"
    }
   ],
   "source": [
    "acc = hist.history['accuracy']\n",
    "val_acc = hist.history['val_accuracy']\n",
    "loss = hist.history['loss']\n",
    "val_loss = hist.history['val_loss']\n",
    "\n",
    "x_len = np.arange(len(loss))\n",
    "plt.plot(x_len, acc, marker = '.', c='red', label='Train_Acc')\n",
    "plt.plot(x_len, val_acc, marker = '.', c='lightcoral', label='Test_Acc')\n",
    "plt.plot(x_len, loss, marker = '.', c='blue', label='Train_Loss')\n",
    "plt.plot(x_len, val_loss, marker = '.', c='lightblue', label='Test_Loss')\n",
    "\n",
    "plt.legend()\n",
    "plt.grid()\n",
    "plt.show()"
   ]
  },
  {
   "cell_type": "code",
   "execution_count": null,
   "id": "2ab96a89",
   "metadata": {},
   "outputs": [],
   "source": []
  },
  {
   "cell_type": "code",
   "execution_count": null,
   "id": "073c5617",
   "metadata": {},
   "outputs": [],
   "source": []
  },
  {
   "cell_type": "code",
   "execution_count": null,
   "id": "ce5b4c40",
   "metadata": {},
   "outputs": [],
   "source": []
  },
  {
   "cell_type": "code",
   "execution_count": null,
   "id": "2a1c66a6",
   "metadata": {},
   "outputs": [],
   "source": []
  },
  {
   "cell_type": "code",
   "execution_count": null,
   "id": "c8b5639f",
   "metadata": {},
   "outputs": [],
   "source": []
  },
  {
   "cell_type": "code",
   "execution_count": null,
   "id": "2b669ffa",
   "metadata": {},
   "outputs": [],
   "source": []
  }
 ],
 "metadata": {
  "kernelspec": {
   "display_name": "Python 3 (ipykernel)",
   "language": "python",
   "name": "python3"
  },
  "language_info": {
   "codemirror_mode": {
    "name": "ipython",
    "version": 3
   },
   "file_extension": ".py",
   "mimetype": "text/x-python",
   "name": "python",
   "nbconvert_exporter": "python",
   "pygments_lexer": "ipython3",
   "version": "3.9.7"
  },
  "varInspector": {
   "cols": {
    "lenName": 16,
    "lenType": 16,
    "lenVar": 40
   },
   "kernels_config": {
    "python": {
     "delete_cmd_postfix": "",
     "delete_cmd_prefix": "del ",
     "library": "var_list.py",
     "varRefreshCmd": "print(var_dic_list())"
    },
    "r": {
     "delete_cmd_postfix": ") ",
     "delete_cmd_prefix": "rm(",
     "library": "var_list.r",
     "varRefreshCmd": "cat(var_dic_list()) "
    }
   },
   "types_to_exclude": [
    "module",
    "function",
    "builtin_function_or_method",
    "instance",
    "_Feature"
   ],
   "window_display": false
  }
 },
 "nbformat": 4,
 "nbformat_minor": 5
}
