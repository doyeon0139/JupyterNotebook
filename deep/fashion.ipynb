{
 "cells": [
  {
   "cell_type": "code",
   "execution_count": 1,
   "id": "2bfb3e5b",
   "metadata": {},
   "outputs": [],
   "source": [
    "import pandas as pd\n",
    "import numpy as np\n",
    "import matplotlib.pyplot as plt\n",
    "import seaborn as sns"
   ]
  },
  {
   "cell_type": "code",
   "execution_count": 2,
   "id": "d90953cb",
   "metadata": {},
   "outputs": [],
   "source": [
    "from tensorflow.keras.models import Sequential\n",
    "from tensorflow.keras.layers import Dense\n",
    "import tensorflow as tf\n",
    "from tensorflow import keras\n",
    "from sklearn.model_selection import train_test_split"
   ]
  },
  {
   "cell_type": "code",
   "execution_count": 3,
   "id": "5613acea",
   "metadata": {
    "scrolled": true
   },
   "outputs": [
    {
     "data": {
      "text/plain": [
       "((array([[[0, 0, 0, ..., 0, 0, 0],\n",
       "          [0, 0, 0, ..., 0, 0, 0],\n",
       "          [0, 0, 0, ..., 0, 0, 0],\n",
       "          ...,\n",
       "          [0, 0, 0, ..., 0, 0, 0],\n",
       "          [0, 0, 0, ..., 0, 0, 0],\n",
       "          [0, 0, 0, ..., 0, 0, 0]],\n",
       "  \n",
       "         [[0, 0, 0, ..., 0, 0, 0],\n",
       "          [0, 0, 0, ..., 0, 0, 0],\n",
       "          [0, 0, 0, ..., 0, 0, 0],\n",
       "          ...,\n",
       "          [0, 0, 0, ..., 0, 0, 0],\n",
       "          [0, 0, 0, ..., 0, 0, 0],\n",
       "          [0, 0, 0, ..., 0, 0, 0]],\n",
       "  \n",
       "         [[0, 0, 0, ..., 0, 0, 0],\n",
       "          [0, 0, 0, ..., 0, 0, 0],\n",
       "          [0, 0, 0, ..., 0, 0, 0],\n",
       "          ...,\n",
       "          [0, 0, 0, ..., 0, 0, 0],\n",
       "          [0, 0, 0, ..., 0, 0, 0],\n",
       "          [0, 0, 0, ..., 0, 0, 0]],\n",
       "  \n",
       "         ...,\n",
       "  \n",
       "         [[0, 0, 0, ..., 0, 0, 0],\n",
       "          [0, 0, 0, ..., 0, 0, 0],\n",
       "          [0, 0, 0, ..., 0, 0, 0],\n",
       "          ...,\n",
       "          [0, 0, 0, ..., 0, 0, 0],\n",
       "          [0, 0, 0, ..., 0, 0, 0],\n",
       "          [0, 0, 0, ..., 0, 0, 0]],\n",
       "  \n",
       "         [[0, 0, 0, ..., 0, 0, 0],\n",
       "          [0, 0, 0, ..., 0, 0, 0],\n",
       "          [0, 0, 0, ..., 0, 0, 0],\n",
       "          ...,\n",
       "          [0, 0, 0, ..., 0, 0, 0],\n",
       "          [0, 0, 0, ..., 0, 0, 0],\n",
       "          [0, 0, 0, ..., 0, 0, 0]],\n",
       "  \n",
       "         [[0, 0, 0, ..., 0, 0, 0],\n",
       "          [0, 0, 0, ..., 0, 0, 0],\n",
       "          [0, 0, 0, ..., 0, 0, 0],\n",
       "          ...,\n",
       "          [0, 0, 0, ..., 0, 0, 0],\n",
       "          [0, 0, 0, ..., 0, 0, 0],\n",
       "          [0, 0, 0, ..., 0, 0, 0]]], dtype=uint8),\n",
       "  array([9, 0, 0, ..., 3, 0, 5], dtype=uint8)),\n",
       " (array([[[0, 0, 0, ..., 0, 0, 0],\n",
       "          [0, 0, 0, ..., 0, 0, 0],\n",
       "          [0, 0, 0, ..., 0, 0, 0],\n",
       "          ...,\n",
       "          [0, 0, 0, ..., 0, 0, 0],\n",
       "          [0, 0, 0, ..., 0, 0, 0],\n",
       "          [0, 0, 0, ..., 0, 0, 0]],\n",
       "  \n",
       "         [[0, 0, 0, ..., 0, 0, 0],\n",
       "          [0, 0, 0, ..., 0, 0, 0],\n",
       "          [0, 0, 0, ..., 0, 0, 0],\n",
       "          ...,\n",
       "          [0, 0, 0, ..., 0, 0, 0],\n",
       "          [0, 0, 0, ..., 0, 0, 0],\n",
       "          [0, 0, 0, ..., 0, 0, 0]],\n",
       "  \n",
       "         [[0, 0, 0, ..., 0, 0, 0],\n",
       "          [0, 0, 0, ..., 0, 0, 0],\n",
       "          [0, 0, 0, ..., 0, 0, 0],\n",
       "          ...,\n",
       "          [0, 0, 0, ..., 0, 0, 0],\n",
       "          [0, 0, 0, ..., 0, 0, 0],\n",
       "          [0, 0, 0, ..., 0, 0, 0]],\n",
       "  \n",
       "         ...,\n",
       "  \n",
       "         [[0, 0, 0, ..., 0, 0, 0],\n",
       "          [0, 0, 0, ..., 0, 0, 0],\n",
       "          [0, 0, 0, ..., 0, 0, 0],\n",
       "          ...,\n",
       "          [0, 0, 0, ..., 0, 0, 0],\n",
       "          [0, 0, 0, ..., 0, 0, 0],\n",
       "          [0, 0, 0, ..., 0, 0, 0]],\n",
       "  \n",
       "         [[0, 0, 0, ..., 0, 0, 0],\n",
       "          [0, 0, 0, ..., 0, 0, 0],\n",
       "          [0, 0, 0, ..., 0, 0, 0],\n",
       "          ...,\n",
       "          [0, 0, 0, ..., 0, 0, 0],\n",
       "          [0, 0, 0, ..., 0, 0, 0],\n",
       "          [0, 0, 0, ..., 0, 0, 0]],\n",
       "  \n",
       "         [[0, 0, 0, ..., 0, 0, 0],\n",
       "          [0, 0, 0, ..., 0, 0, 0],\n",
       "          [0, 0, 0, ..., 0, 0, 0],\n",
       "          ...,\n",
       "          [0, 0, 0, ..., 0, 0, 0],\n",
       "          [0, 0, 0, ..., 0, 0, 0],\n",
       "          [0, 0, 0, ..., 0, 0, 0]]], dtype=uint8),\n",
       "  array([9, 2, 1, ..., 8, 1, 5], dtype=uint8)))"
      ]
     },
     "execution_count": 3,
     "metadata": {},
     "output_type": "execute_result"
    }
   ],
   "source": [
    "fashion_set = keras.datasets.fashion_mnist.load_data()\n",
    "fashion_set"
   ]
  },
  {
   "cell_type": "code",
   "execution_count": 4,
   "id": "bf4f5bd2",
   "metadata": {},
   "outputs": [],
   "source": [
    "(train_input, train_target), (test_input, test_target) = keras.datasets.fashion_mnist.load_data()"
   ]
  },
  {
   "cell_type": "code",
   "execution_count": 5,
   "id": "84ab5445",
   "metadata": {},
   "outputs": [
    {
     "name": "stdout",
     "output_type": "stream",
     "text": [
      "(60000, 28, 28) (60000,)\n"
     ]
    }
   ],
   "source": [
    "print(train_input.shape, train_target.shape)"
   ]
  },
  {
   "cell_type": "code",
   "execution_count": 6,
   "id": "33bcca82",
   "metadata": {},
   "outputs": [
    {
     "name": "stdout",
     "output_type": "stream",
     "text": [
      "(10000, 28, 28) (10000,)\n"
     ]
    }
   ],
   "source": [
    "print(test_input.shape, test_target.shape)"
   ]
  },
  {
   "cell_type": "code",
   "execution_count": 7,
   "id": "b7a31483",
   "metadata": {},
   "outputs": [
    {
     "data": {
      "image/png": "[encoded data removed]",
      "text/plain": [
       "<Figure size 720x720 with 10 Axes>"
      ]
     },
     "metadata": {
      "needs_background": "light"
     },
     "output_type": "display_data"
    }
   ],
   "source": [
    "fig, axs =plt.subplots(1,10, figsize=(10,10))\n",
    "for i in range(10):\n",
    "    axs[i].imshow(train_input[i], cmap='gray_r')\n",
    "    axs[i].axis('off')\n",
    "plt.show()"
   ]
  },
  {
   "cell_type": "code",
   "execution_count": 8,
   "id": "8ad5e8f2",
   "metadata": {},
   "outputs": [
    {
     "data": {
      "text/plain": [
       "array([9, 0, 0, 3, 0, 2, 7, 2, 5, 5], dtype=uint8)"
      ]
     },
     "execution_count": 8,
     "metadata": {},
     "output_type": "execute_result"
    }
   ],
   "source": [
    "train_target[:10]"
   ]
  },
  {
   "cell_type": "code",
   "execution_count": 9,
   "id": "eb291a9a",
   "metadata": {},
   "outputs": [
    {
     "data": {
      "text/plain": [
       "0    6000\n",
       "1    6000\n",
       "2    6000\n",
       "3    6000\n",
       "4    6000\n",
       "5    6000\n",
       "6    6000\n",
       "7    6000\n",
       "8    6000\n",
       "9    6000\n",
       "dtype: int64"
      ]
     },
     "execution_count": 9,
     "metadata": {},
     "output_type": "execute_result"
    }
   ],
   "source": [
    "pd.Series(train_target).value_counts()"
   ]
  },
  {
   "cell_type": "code",
   "execution_count": 10,
   "id": "f189a616",
   "metadata": {},
   "outputs": [
    {
     "data": {
      "text/plain": [
       "<matplotlib.image.AxesImage at 0x1aa26581910>"
      ]
     },
     "execution_count": 10,
     "metadata": {},
     "output_type": "execute_result"
    },
    {
     "data": {
      "image/png": "[encoded data removed]",
      "text/plain": [
       "<Figure size 432x288 with 1 Axes>"
      ]
     },
     "metadata": {
      "needs_background": "light"
     },
     "output_type": "display_data"
    }
   ],
   "source": [
    "plt.imshow(train_input[0], cmap='gray_r')"
   ]
  },
  {
   "cell_type": "code",
   "execution_count": 9,
   "id": "3efae9c0",
   "metadata": {
    "scrolled": true
   },
   "outputs": [
    {
     "data": {
      "text/plain": [
       "array([[[0, 0, 0, ..., 0, 0, 0],\n",
       "        [0, 0, 0, ..., 0, 0, 0],\n",
       "        [0, 0, 0, ..., 0, 0, 0],\n",
       "        ...,\n",
       "        [0, 0, 0, ..., 0, 0, 0],\n",
       "        [0, 0, 0, ..., 0, 0, 0],\n",
       "        [0, 0, 0, ..., 0, 0, 0]],\n",
       "\n",
       "       [[0, 0, 0, ..., 0, 0, 0],\n",
       "        [0, 0, 0, ..., 0, 0, 0],\n",
       "        [0, 0, 0, ..., 0, 0, 0],\n",
       "        ...,\n",
       "        [0, 0, 0, ..., 0, 0, 0],\n",
       "        [0, 0, 0, ..., 0, 0, 0],\n",
       "        [0, 0, 0, ..., 0, 0, 0]],\n",
       "\n",
       "       [[0, 0, 0, ..., 0, 0, 0],\n",
       "        [0, 0, 0, ..., 0, 0, 0],\n",
       "        [0, 0, 0, ..., 0, 0, 0],\n",
       "        ...,\n",
       "        [0, 0, 0, ..., 0, 0, 0],\n",
       "        [0, 0, 0, ..., 0, 0, 0],\n",
       "        [0, 0, 0, ..., 0, 0, 0]],\n",
       "\n",
       "       ...,\n",
       "\n",
       "       [[0, 0, 0, ..., 0, 0, 0],\n",
       "        [0, 0, 0, ..., 0, 0, 0],\n",
       "        [0, 0, 0, ..., 0, 0, 0],\n",
       "        ...,\n",
       "        [0, 0, 0, ..., 0, 0, 0],\n",
       "        [0, 0, 0, ..., 0, 0, 0],\n",
       "        [0, 0, 0, ..., 0, 0, 0]],\n",
       "\n",
       "       [[0, 0, 0, ..., 0, 0, 0],\n",
       "        [0, 0, 0, ..., 0, 0, 0],\n",
       "        [0, 0, 0, ..., 0, 0, 0],\n",
       "        ...,\n",
       "        [0, 0, 0, ..., 0, 0, 0],\n",
       "        [0, 0, 0, ..., 0, 0, 0],\n",
       "        [0, 0, 0, ..., 0, 0, 0]],\n",
       "\n",
       "       [[0, 0, 0, ..., 0, 0, 0],\n",
       "        [0, 0, 0, ..., 0, 0, 0],\n",
       "        [0, 0, 0, ..., 0, 0, 0],\n",
       "        ...,\n",
       "        [0, 0, 0, ..., 0, 0, 0],\n",
       "        [0, 0, 0, ..., 0, 0, 0],\n",
       "        [0, 0, 0, ..., 0, 0, 0]]], dtype=uint8)"
      ]
     },
     "execution_count": 9,
     "metadata": {},
     "output_type": "execute_result"
    }
   ],
   "source": [
    "train_input"
   ]
  },
  {
   "cell_type": "code",
   "execution_count": 11,
   "id": "ac331b1b",
   "metadata": {},
   "outputs": [
    {
     "data": {
      "text/plain": [
       "numpy.ndarray"
      ]
     },
     "execution_count": 11,
     "metadata": {},
     "output_type": "execute_result"
    }
   ],
   "source": [
    "type(train_input)"
   ]
  },
  {
   "cell_type": "code",
   "execution_count": 31,
   "id": "ea8977fb",
   "metadata": {},
   "outputs": [],
   "source": [
    "x_train = train_input.reshape(60000, 28*28)\n",
    "x_test = test_input.reshape(10000, 28*28)\n",
    "y_train = train_target\n",
    "y_test = test_target"
   ]
  },
  {
   "cell_type": "code",
   "execution_count": 13,
   "id": "2b5e6e8a",
   "metadata": {},
   "outputs": [],
   "source": [
    "y_train_oh = tf.keras.utils.to_categorical(y_train)\n",
    "y_test_oh = tf.keras.utils.to_categorical(y_test)"
   ]
  },
  {
   "cell_type": "code",
   "execution_count": null,
   "id": "62116eea",
   "metadata": {},
   "outputs": [],
   "source": []
  },
  {
   "cell_type": "code",
   "execution_count": 14,
   "id": "04c0649a",
   "metadata": {},
   "outputs": [
    {
     "name": "stderr",
     "output_type": "stream",
     "text": [
      "C:\\Users\\bitcamp\\Anaconda3\\lib\\site-packages\\sklearn\\linear_model\\_logistic.py:814: ConvergenceWarning: lbfgs failed to converge (status=1):\n",
      "STOP: TOTAL NO. of ITERATIONS REACHED LIMIT.\n",
      "\n",
      "Increase the number of iterations (max_iter) or scale the data as shown in:\n",
      "    https://scikit-learn.org/stable/modules/preprocessing.html\n",
      "Please also refer to the documentation for alternative solver options:\n",
      "    https://scikit-learn.org/stable/modules/linear_model.html#logistic-regression\n",
      "  n_iter_i = _check_optimize_result(\n"
     ]
    },
    {
     "data": {
      "text/plain": [
       "0.8412"
      ]
     },
     "execution_count": 14,
     "metadata": {},
     "output_type": "execute_result"
    }
   ],
   "source": [
    "from sklearn.linear_model import LogisticRegression\n",
    "log = LogisticRegression()\n",
    "log.fit(x_train, y_train)\n",
    "pred = log.predict(x_test)\n",
    "log.score(x_test, y_test)"
   ]
  },
  {
   "cell_type": "code",
   "execution_count": null,
   "id": "95fa59c3",
   "metadata": {},
   "outputs": [],
   "source": []
  },
  {
   "cell_type": "code",
   "execution_count": 15,
   "id": "2b4e9fb2",
   "metadata": {},
   "outputs": [
    {
     "name": "stdout",
     "output_type": "stream",
     "text": [
      "Model: \"sequential\"\n",
      "_________________________________________________________________\n",
      " Layer (type)                Output Shape              Param #   \n",
      "=================================================================\n",
      " dense (Dense)               (None, 125)               98125     \n",
      "                                                                 \n",
      " dense_1 (Dense)             (None, 56)                7056      \n",
      "                                                                 \n",
      " dense_2 (Dense)             (None, 10)                570       \n",
      "                                                                 \n",
      "=================================================================\n",
      "Total params: 105,751\n",
      "Trainable params: 105,751\n",
      "Non-trainable params: 0\n",
      "_________________________________________________________________\n"
     ]
    }
   ],
   "source": [
    "model = Sequential()\n",
    "model.add(Dense(125, input_dim=28*28, activation='relu'))\n",
    "model.add(Dense(56, activation='relu'))\n",
    "model.add(Dense(10, activation='softmax'))\n",
    "model.summary()"
   ]
  },
  {
   "cell_type": "code",
   "execution_count": 16,
   "id": "796e4143",
   "metadata": {},
   "outputs": [],
   "source": [
    "model.compile(loss='categorical_crossentropy', metrics=['accuracy'], optimizer='adam')"
   ]
  },
  {
   "cell_type": "code",
   "execution_count": 17,
   "id": "654220da",
   "metadata": {
    "scrolled": true
   },
   "outputs": [
    {
     "data": {
      "text/plain": [
       "(60000, 784)"
      ]
     },
     "execution_count": 17,
     "metadata": {},
     "output_type": "execute_result"
    }
   ],
   "source": [
    "y_train_oh.shape\n",
    "x_train.shape"
   ]
  },
  {
   "cell_type": "code",
   "execution_count": 45,
   "id": "7b036ff0",
   "metadata": {
    "scrolled": true
   },
   "outputs": [
    {
     "name": "stdout",
     "output_type": "stream",
     "text": [
      "Epoch 1/50\n",
      "2400/2400 [==============================] - 9s 3ms/step - loss: 2.0284 - accuracy: 0.7443 - val_loss: 0.6810 - val_accuracy: 0.7972\n",
      "Epoch 2/50\n",
      "2400/2400 [==============================] - 8s 3ms/step - loss: 0.6184 - accuracy: 0.7981 - val_loss: 0.6116 - val_accuracy: 0.7983\n",
      "Epoch 3/50\n",
      "2400/2400 [==============================] - 7s 3ms/step - loss: 0.5397 - accuracy: 0.8165 - val_loss: 0.4836 - val_accuracy: 0.8367\n",
      "Epoch 4/50\n",
      "2400/2400 [==============================] - 7s 3ms/step - loss: 0.4974 - accuracy: 0.8275 - val_loss: 0.5323 - val_accuracy: 0.8251\n",
      "Epoch 5/50\n",
      "2400/2400 [==============================] - 7s 3ms/step - loss: 0.4639 - accuracy: 0.8366 - val_loss: 0.4380 - val_accuracy: 0.8472\n",
      "Epoch 6/50\n",
      "2400/2400 [==============================] - 7s 3ms/step - loss: 0.4310 - accuracy: 0.8465 - val_loss: 0.4577 - val_accuracy: 0.8474\n",
      "Epoch 7/50\n",
      "2400/2400 [==============================] - 7s 3ms/step - loss: 0.4230 - accuracy: 0.8495 - val_loss: 0.4526 - val_accuracy: 0.8467\n",
      "Epoch 8/50\n",
      "2400/2400 [==============================] - 7s 3ms/step - loss: 0.4063 - accuracy: 0.8562 - val_loss: 0.4257 - val_accuracy: 0.8493\n",
      "Epoch 9/50\n",
      "2400/2400 [==============================] - 7s 3ms/step - loss: 0.3977 - accuracy: 0.8588 - val_loss: 0.4287 - val_accuracy: 0.8529\n",
      "Epoch 10/50\n",
      "2400/2400 [==============================] - 7s 3ms/step - loss: 0.3881 - accuracy: 0.8624 - val_loss: 0.3964 - val_accuracy: 0.8629\n",
      "Epoch 11/50\n",
      "2400/2400 [==============================] - 7s 3ms/step - loss: 0.3873 - accuracy: 0.8631 - val_loss: 0.4454 - val_accuracy: 0.8511\n",
      "Epoch 12/50\n",
      "2400/2400 [==============================] - 7s 3ms/step - loss: 0.3780 - accuracy: 0.8652 - val_loss: 0.4139 - val_accuracy: 0.8609\n",
      "Epoch 13/50\n",
      "2400/2400 [==============================] - 7s 3ms/step - loss: 0.3747 - accuracy: 0.8662 - val_loss: 0.4061 - val_accuracy: 0.8662\n",
      "Epoch 14/50\n",
      "2400/2400 [==============================] - 7s 3ms/step - loss: 0.3618 - accuracy: 0.8698 - val_loss: 0.4440 - val_accuracy: 0.8528\n",
      "Epoch 15/50\n",
      "2400/2400 [==============================] - 7s 3ms/step - loss: 0.3644 - accuracy: 0.8693 - val_loss: 0.4507 - val_accuracy: 0.8377\n",
      "Epoch 16/50\n",
      "2400/2400 [==============================] - 7s 3ms/step - loss: 0.3604 - accuracy: 0.8715 - val_loss: 0.4237 - val_accuracy: 0.8582\n",
      "Epoch 17/50\n",
      "2400/2400 [==============================] - 7s 3ms/step - loss: 0.3588 - accuracy: 0.8714 - val_loss: 0.4303 - val_accuracy: 0.8615\n",
      "Epoch 18/50\n",
      "2400/2400 [==============================] - 7s 3ms/step - loss: 0.3577 - accuracy: 0.8730 - val_loss: 0.4454 - val_accuracy: 0.8467\n",
      "Epoch 19/50\n",
      "2400/2400 [==============================] - 7s 3ms/step - loss: 0.3501 - accuracy: 0.8744 - val_loss: 0.4357 - val_accuracy: 0.8478\n",
      "Epoch 20/50\n",
      "2400/2400 [==============================] - 7s 3ms/step - loss: 0.3498 - accuracy: 0.8747 - val_loss: 0.4528 - val_accuracy: 0.8597\n",
      "Epoch 21/50\n",
      "2400/2400 [==============================] - 7s 3ms/step - loss: 0.3440 - accuracy: 0.8765 - val_loss: 0.4796 - val_accuracy: 0.8463\n",
      "Epoch 22/50\n",
      "2400/2400 [==============================] - 7s 3ms/step - loss: 0.3455 - accuracy: 0.8775 - val_loss: 0.4537 - val_accuracy: 0.8676\n",
      "Epoch 23/50\n",
      "2400/2400 [==============================] - 7s 3ms/step - loss: 0.3442 - accuracy: 0.8770 - val_loss: 0.4469 - val_accuracy: 0.8508\n",
      "Epoch 24/50\n",
      "2400/2400 [==============================] - 7s 3ms/step - loss: 0.3458 - accuracy: 0.8771 - val_loss: 0.4543 - val_accuracy: 0.8594\n",
      "Epoch 25/50\n",
      "2400/2400 [==============================] - 7s 3ms/step - loss: 0.3382 - accuracy: 0.8801 - val_loss: 0.4606 - val_accuracy: 0.8608\n",
      "Epoch 26/50\n",
      "2400/2400 [==============================] - 7s 3ms/step - loss: 0.3303 - accuracy: 0.8822 - val_loss: 0.5014 - val_accuracy: 0.8592\n",
      "Epoch 27/50\n",
      "2400/2400 [==============================] - 7s 3ms/step - loss: 0.3420 - accuracy: 0.8808 - val_loss: 0.4680 - val_accuracy: 0.8676\n",
      "Epoch 28/50\n",
      "2400/2400 [==============================] - 7s 3ms/step - loss: 0.3269 - accuracy: 0.8824 - val_loss: 0.4860 - val_accuracy: 0.8559\n",
      "Epoch 29/50\n",
      "2400/2400 [==============================] - 7s 3ms/step - loss: 0.3321 - accuracy: 0.8819 - val_loss: 0.5281 - val_accuracy: 0.8622\n",
      "Epoch 30/50\n",
      "2400/2400 [==============================] - 7s 3ms/step - loss: 0.3358 - accuracy: 0.8809 - val_loss: 0.4903 - val_accuracy: 0.8615\n",
      "Epoch 31/50\n",
      "2400/2400 [==============================] - 8s 3ms/step - loss: 0.3276 - accuracy: 0.8813 - val_loss: 0.4674 - val_accuracy: 0.8690\n",
      "Epoch 32/50\n",
      "2400/2400 [==============================] - 8s 3ms/step - loss: 0.3333 - accuracy: 0.8826 - val_loss: 0.4993 - val_accuracy: 0.8587\n",
      "Epoch 33/50\n",
      "2400/2400 [==============================] - 8s 3ms/step - loss: 0.3249 - accuracy: 0.8847 - val_loss: 0.4958 - val_accuracy: 0.8603\n",
      "Epoch 34/50\n",
      "2400/2400 [==============================] - 8s 3ms/step - loss: 0.3181 - accuracy: 0.8860 - val_loss: 0.5045 - val_accuracy: 0.8612\n",
      "Epoch 35/50\n",
      "2400/2400 [==============================] - 7s 3ms/step - loss: 0.3338 - accuracy: 0.8827 - val_loss: 0.4661 - val_accuracy: 0.8639\n",
      "Epoch 36/50\n",
      "2400/2400 [==============================] - 7s 3ms/step - loss: 0.3207 - accuracy: 0.8861 - val_loss: 0.4736 - val_accuracy: 0.8577\n",
      "Epoch 37/50\n",
      "2400/2400 [==============================] - 7s 3ms/step - loss: 0.3202 - accuracy: 0.8866 - val_loss: 0.5832 - val_accuracy: 0.8520\n",
      "Epoch 38/50\n",
      "2400/2400 [==============================] - 7s 3ms/step - loss: 0.3126 - accuracy: 0.8888 - val_loss: 0.5341 - val_accuracy: 0.8587\n",
      "Epoch 39/50\n",
      "2400/2400 [==============================] - 7s 3ms/step - loss: 0.3170 - accuracy: 0.8869 - val_loss: 0.4588 - val_accuracy: 0.8661\n",
      "Epoch 40/50\n",
      "2400/2400 [==============================] - 7s 3ms/step - loss: 0.3194 - accuracy: 0.8873 - val_loss: 0.4765 - val_accuracy: 0.8655\n",
      "Epoch 41/50\n",
      "2400/2400 [==============================] - 7s 3ms/step - loss: 0.3195 - accuracy: 0.8879 - val_loss: 0.5458 - val_accuracy: 0.8651\n",
      "Epoch 42/50\n",
      "2400/2400 [==============================] - 7s 3ms/step - loss: 0.3202 - accuracy: 0.8867 - val_loss: 0.4929 - val_accuracy: 0.8522\n",
      "Epoch 43/50\n",
      "2400/2400 [==============================] - 7s 3ms/step - loss: 0.3257 - accuracy: 0.8842 - val_loss: 0.5669 - val_accuracy: 0.8463\n",
      "Epoch 44/50\n",
      "2400/2400 [==============================] - 7s 3ms/step - loss: 0.3130 - accuracy: 0.8894 - val_loss: 0.5283 - val_accuracy: 0.8637\n",
      "Epoch 45/50\n",
      "2400/2400 [==============================] - 7s 3ms/step - loss: 0.3257 - accuracy: 0.8861 - val_loss: 0.4821 - val_accuracy: 0.8634\n",
      "Epoch 46/50\n",
      "2400/2400 [==============================] - 7s 3ms/step - loss: 0.3217 - accuracy: 0.8869 - val_loss: 0.5487 - val_accuracy: 0.8630\n",
      "Epoch 47/50\n",
      "2400/2400 [==============================] - 7s 3ms/step - loss: 0.3207 - accuracy: 0.8886 - val_loss: 0.5340 - val_accuracy: 0.8472\n",
      "Epoch 48/50\n",
      "2400/2400 [==============================] - 7s 3ms/step - loss: 0.3148 - accuracy: 0.8886 - val_loss: 0.4961 - val_accuracy: 0.8614\n",
      "Epoch 49/50\n",
      "2400/2400 [==============================] - 7s 3ms/step - loss: 0.3120 - accuracy: 0.8901 - val_loss: 0.5194 - val_accuracy: 0.8602\n",
      "Epoch 50/50\n",
      "2400/2400 [==============================] - 7s 3ms/step - loss: 0.3187 - accuracy: 0.8900 - val_loss: 0.5467 - val_accuracy: 0.8630\n"
     ]
    }
   ],
   "source": [
    "hist = model.fit(x_train, y_train_oh, validation_split=0.2, epochs=50, batch_size=20)"
   ]
  },
  {
   "cell_type": "code",
   "execution_count": 46,
   "id": "7926ee7e",
   "metadata": {},
   "outputs": [
    {
     "name": "stdout",
     "output_type": "stream",
     "text": [
      "313/313 [==============================] - 1s 4ms/step - loss: 0.6293 - accuracy: 0.8565\n"
     ]
    },
    {
     "data": {
      "text/plain": [
       "[0.6292619705200195, 0.8565000295639038]"
      ]
     },
     "execution_count": 46,
     "metadata": {},
     "output_type": "execute_result"
    }
   ],
   "source": [
    "model.evaluate(x_test, y_test_oh)"
   ]
  },
  {
   "cell_type": "code",
   "execution_count": 47,
   "id": "2afe91c1",
   "metadata": {},
   "outputs": [
    {
     "data": {
      "text/plain": [
       "[<matplotlib.lines.Line2D at 0x2549bb07760>]"
      ]
     },
     "execution_count": 47,
     "metadata": {},
     "output_type": "execute_result"
    },
    {
     "data": {
      "image/png": "[encoded data removed]",
      "text/plain": [
       "<Figure size 432x288 with 1 Axes>"
      ]
     },
     "metadata": {
      "needs_background": "light"
     },
     "output_type": "display_data"
    }
   ],
   "source": [
    "plt.plot(hist.history['loss'])\n",
    "plt.plot(hist.history['val_loss'])"
   ]
  },
  {
   "cell_type": "code",
   "execution_count": null,
   "id": "723682e1",
   "metadata": {},
   "outputs": [],
   "source": [
    "d"
   ]
  },
  {
   "cell_type": "code",
   "execution_count": null,
   "id": "f4977d2e",
   "metadata": {},
   "outputs": [],
   "source": []
  },
  {
   "cell_type": "code",
   "execution_count": null,
   "id": "a984a9ed",
   "metadata": {},
   "outputs": [],
   "source": []
  },
  {
   "cell_type": "code",
   "execution_count": 32,
   "id": "e34c57a8",
   "metadata": {},
   "outputs": [
    {
     "data": {
      "text/plain": [
       "((60000, 784), (10000, 784))"
      ]
     },
     "execution_count": 32,
     "metadata": {},
     "output_type": "execute_result"
    }
   ],
   "source": [
    "x_train.shape, x_test.shape"
   ]
  },
  {
   "cell_type": "code",
   "execution_count": 33,
   "id": "37e5fb5d",
   "metadata": {},
   "outputs": [
    {
     "data": {
      "text/plain": [
       "((60000, 10), (10000, 10))"
      ]
     },
     "execution_count": 33,
     "metadata": {},
     "output_type": "execute_result"
    }
   ],
   "source": [
    "y_train_oh.shape, y_test_oh.shape"
   ]
  },
  {
   "cell_type": "code",
   "execution_count": null,
   "id": "592079ba",
   "metadata": {},
   "outputs": [],
   "source": [
    "# image matrix 데이터를 vectorizing하지 말고, matrix 구조 그대로 학습 => CNN"
   ]
  },
  {
   "cell_type": "code",
   "execution_count": 66,
   "id": "705ab00c",
   "metadata": {},
   "outputs": [],
   "source": [
    "from tensorflow.keras.layers import Conv2D, Flatten, MaxPooling2D, Dropout\n",
    "from keras.callbacks import EarlyStopping\n",
    "early_stoping = EarlyStopping(patience=3)"
   ]
  },
  {
   "cell_type": "code",
   "execution_count": 67,
   "id": "2f5b3ab9",
   "metadata": {},
   "outputs": [],
   "source": [
    "x_train_cov = x_train.reshape(60000, 28, 28, 1) # data num, row num, col num, depth\n",
    "x_test_cov = x_test.reshape(10000, 28, 28, 1)"
   ]
  },
  {
   "cell_type": "code",
   "execution_count": 88,
   "id": "e355287b",
   "metadata": {},
   "outputs": [],
   "source": [
    "x_train_sc = x_train/255\n",
    "x_test_sc = x_test/255"
   ]
  },
  {
   "cell_type": "code",
   "execution_count": 89,
   "id": "3f9816e4",
   "metadata": {},
   "outputs": [
    {
     "data": {
      "text/plain": [
       "((60000, 28, 28, 1), (10000, 28, 28, 1))"
      ]
     },
     "execution_count": 89,
     "metadata": {},
     "output_type": "execute_result"
    }
   ],
   "source": [
    "x_train_cov.shape, x_test_cov.shape"
   ]
  },
  {
   "cell_type": "code",
   "execution_count": 90,
   "id": "919292b5",
   "metadata": {},
   "outputs": [
    {
     "data": {
      "text/plain": [
       "((60000, 10), (10000, 10))"
      ]
     },
     "execution_count": 90,
     "metadata": {},
     "output_type": "execute_result"
    }
   ],
   "source": [
    "y_train_oh.shape, y_test_oh.shape"
   ]
  },
  {
   "cell_type": "code",
   "execution_count": 111,
   "id": "abc652f8",
   "metadata": {},
   "outputs": [
    {
     "name": "stdout",
     "output_type": "stream",
     "text": [
      "Model: \"sequential_12\"\n",
      "_________________________________________________________________\n",
      " Layer (type)                Output Shape              Param #   \n",
      "=================================================================\n",
      " conv2d_32 (Conv2D)          (None, 28, 28, 16)        160       \n",
      "                                                                 \n",
      " max_pooling2d_28 (MaxPoolin  (None, 14, 14, 16)       0         \n",
      " g2D)                                                            \n",
      "                                                                 \n",
      " conv2d_33 (Conv2D)          (None, 14, 14, 32)        4640      \n",
      "                                                                 \n",
      " max_pooling2d_29 (MaxPoolin  (None, 7, 7, 32)         0         \n",
      " g2D)                                                            \n",
      "                                                                 \n",
      " conv2d_34 (Conv2D)          (None, 7, 7, 64)          18496     \n",
      "                                                                 \n",
      " flatten_11 (Flatten)        (None, 3136)              0         \n",
      "                                                                 \n",
      " dense_45 (Dense)            (None, 128)               401536    \n",
      "                                                                 \n",
      " dropout_29 (Dropout)        (None, 128)               0         \n",
      "                                                                 \n",
      " dense_46 (Dense)            (None, 64)                8256      \n",
      "                                                                 \n",
      " dropout_30 (Dropout)        (None, 64)                0         \n",
      "                                                                 \n",
      " dense_47 (Dense)            (None, 32)                2080      \n",
      "                                                                 \n",
      " dropout_31 (Dropout)        (None, 32)                0         \n",
      "                                                                 \n",
      " dense_48 (Dense)            (None, 10)                330       \n",
      "                                                                 \n",
      "=================================================================\n",
      "Total params: 435,498\n",
      "Trainable params: 435,498\n",
      "Non-trainable params: 0\n",
      "_________________________________________________________________\n"
     ]
    }
   ],
   "source": [
    "model=Sequential()\n",
    "model.add(Conv2D(16, kernel_size=3, padding='same', activation='relu', input_shape=(28, 28, 1)))\n",
    "model.add(MaxPooling2D(pool_size=2))\n",
    "model.add(Conv2D(32, kernel_size=3, padding='same', activation='relu'))\n",
    "model.add(MaxPooling2D(pool_size=2))\n",
    "model.add(Conv2D(64, kernel_size=3, padding='same', activation='relu'))\n",
    "model.add(Flatten())\n",
    "model.add(Dense(128, activation='relu'))\n",
    "model.add(Dropout(0.2))\n",
    "model.add(Dense(64, activation='relu'))\n",
    "model.add(Dropout(0.2))\n",
    "model.add(Dense(32, activation='relu'))\n",
    "model.add(Dropout(0.2))\n",
    "model.add(Dense(10, activation='softmax'))\n",
    "model.summary()"
   ]
  },
  {
   "cell_type": "code",
   "execution_count": 112,
   "id": "c5491601",
   "metadata": {},
   "outputs": [],
   "source": [
    "model.compile(loss='categorical_crossentropy', metrics=['accuracy'], optimizer='adam')"
   ]
  },
  {
   "cell_type": "code",
   "execution_count": 113,
   "id": "3707c4e5",
   "metadata": {
    "scrolled": false
   },
   "outputs": [
    {
     "name": "stdout",
     "output_type": "stream",
     "text": [
      "Epoch 1/100\n",
      "800/800 [==============================] - 6s 7ms/step - loss: 1.2068 - accuracy: 0.6134 - val_loss: 0.5266 - val_accuracy: 0.8020\n",
      "Epoch 2/100\n",
      "800/800 [==============================] - 5s 6ms/step - loss: 0.6506 - accuracy: 0.7697 - val_loss: 0.4611 - val_accuracy: 0.8335\n",
      "Epoch 3/100\n",
      "800/800 [==============================] - 5s 6ms/step - loss: 0.5335 - accuracy: 0.8150 - val_loss: 0.4321 - val_accuracy: 0.8510\n",
      "Epoch 4/100\n",
      "800/800 [==============================] - 5s 6ms/step - loss: 0.4727 - accuracy: 0.8356 - val_loss: 0.4192 - val_accuracy: 0.8515\n",
      "Epoch 5/100\n",
      "800/800 [==============================] - 5s 6ms/step - loss: 0.4291 - accuracy: 0.8520 - val_loss: 0.4197 - val_accuracy: 0.8575\n",
      "Epoch 6/100\n",
      "800/800 [==============================] - 5s 6ms/step - loss: 0.4061 - accuracy: 0.8606 - val_loss: 0.4154 - val_accuracy: 0.8555\n",
      "Epoch 7/100\n",
      "800/800 [==============================] - 5s 6ms/step - loss: 0.3743 - accuracy: 0.8717 - val_loss: 0.4099 - val_accuracy: 0.8570\n",
      "Epoch 8/100\n",
      "800/800 [==============================] - 5s 6ms/step - loss: 0.3437 - accuracy: 0.8811 - val_loss: 0.4341 - val_accuracy: 0.8570\n",
      "Epoch 9/100\n",
      "800/800 [==============================] - 5s 6ms/step - loss: 0.3217 - accuracy: 0.8921 - val_loss: 0.4436 - val_accuracy: 0.8650\n",
      "Epoch 10/100\n",
      "800/800 [==============================] - 5s 6ms/step - loss: 0.2888 - accuracy: 0.9001 - val_loss: 0.4519 - val_accuracy: 0.8635\n"
     ]
    }
   ],
   "source": [
    "hist = model.fit(x_test_cov, y_test_oh, epochs=100, batch_size=10, validation_split=0.2, callbacks=[early_stoping])"
   ]
  },
  {
   "cell_type": "code",
   "execution_count": 114,
   "id": "e5c2e516",
   "metadata": {},
   "outputs": [
    {
     "data": {
      "text/plain": [
       "[<matplotlib.lines.Line2D at 0x1ac4ba6e7c0>]"
      ]
     },
     "execution_count": 114,
     "metadata": {},
     "output_type": "execute_result"
    },
    {
     "data": {
      "image/png": "[encoded data removed]",
      "text/plain": [
       "<Figure size 432x288 with 1 Axes>"
      ]
     },
     "metadata": {
      "needs_background": "light"
     },
     "output_type": "display_data"
    }
   ],
   "source": [
    "plt.plot(hist.history['accuracy'])\n",
    "plt.plot(hist.history['val_accuracy'])"
   ]
  },
  {
   "cell_type": "code",
   "execution_count": 115,
   "id": "61124f0e",
   "metadata": {},
   "outputs": [
    {
     "data": {
      "text/plain": [
       "[<matplotlib.lines.Line2D at 0x1ac4014b1f0>]"
      ]
     },
     "execution_count": 115,
     "metadata": {},
     "output_type": "execute_result"
    },
    {
     "data": {
      "image/png": "[encoded data removed]",
      "text/plain": [
       "<Figure size 432x288 with 1 Axes>"
      ]
     },
     "metadata": {
      "needs_background": "light"
     },
     "output_type": "display_data"
    }
   ],
   "source": [
    "plt.plot(hist.history['loss'])\n",
    "plt.plot(hist.history['val_loss'])"
   ]
  },
  {
   "cell_type": "code",
   "execution_count": null,
   "id": "be5d7e3e",
   "metadata": {},
   "outputs": [],
   "source": []
  },
  {
   "cell_type": "code",
   "execution_count": null,
   "id": "54d40cbd",
   "metadata": {},
   "outputs": [],
   "source": []
  },
  {
   "cell_type": "code",
   "execution_count": null,
   "id": "62223d86",
   "metadata": {},
   "outputs": [],
   "source": []
  },
  {
   "cell_type": "code",
   "execution_count": null,
   "id": "0555c105",
   "metadata": {},
   "outputs": [],
   "source": []
  },
  {
   "cell_type": "code",
   "execution_count": null,
   "id": "1fa17ec6",
   "metadata": {},
   "outputs": [],
   "source": []
  },
  {
   "cell_type": "code",
   "execution_count": null,
   "id": "87f22f07",
   "metadata": {},
   "outputs": [],
   "source": []
  },
  {
   "cell_type": "code",
   "execution_count": null,
   "id": "37be3f17",
   "metadata": {},
   "outputs": [],
   "source": []
  },
  {
   "cell_type": "code",
   "execution_count": null,
   "id": "96dc8da7",
   "metadata": {},
   "outputs": [],
   "source": []
  },
  {
   "cell_type": "code",
   "execution_count": null,
   "id": "08fc2f2b",
   "metadata": {},
   "outputs": [],
   "source": []
  },
  {
   "cell_type": "code",
   "execution_count": null,
   "id": "e3145e5e",
   "metadata": {},
   "outputs": [],
   "source": []
  }
 ],
 "metadata": {
  "kernelspec": {
   "display_name": "Python 3 (ipykernel)",
   "language": "python",
   "name": "python3"
  },
  "language_info": {
   "codemirror_mode": {
    "name": "ipython",
    "version": 3
   },
   "file_extension": ".py",
   "mimetype": "text/x-python",
   "name": "python",
   "nbconvert_exporter": "python",
   "pygments_lexer": "ipython3",
   "version": "3.9.7"
  },
  "varInspector": {
   "cols": {
    "lenName": 16,
    "lenType": 16,
    "lenVar": 40
   },
   "kernels_config": {
    "python": {
     "delete_cmd_postfix": "",
     "delete_cmd_prefix": "del ",
     "library": "var_list.py",
     "varRefreshCmd": "print(var_dic_list())"
    },
    "r": {
     "delete_cmd_postfix": ") ",
     "delete_cmd_prefix": "rm(",
     "library": "var_list.r",
     "varRefreshCmd": "cat(var_dic_list()) "
    }
   },
   "types_to_exclude": [
    "module",
    "function",
    "builtin_function_or_method",
    "instance",
    "_Feature"
   ],
   "window_display": false
  }
 },
 "nbformat": 4,
 "nbformat_minor": 5
}
