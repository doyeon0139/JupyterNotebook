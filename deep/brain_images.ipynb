{
 "cells": [
  {
   "cell_type": "code",
   "execution_count": null,
   "id": "e862047b",
   "metadata": {},
   "outputs": [],
   "source": [
    "# 코랩사용시 구글드라이브 연동\n",
    "# from google.colab import drive\n",
    "# drive.mount('./mydrive')"
   ]
  },
  {
   "cell_type": "code",
   "execution_count": 1,
   "id": "d7fd51e8",
   "metadata": {},
   "outputs": [],
   "source": [
    "import pandas as pd\n",
    "import numpy as np\n",
    "import matplotlib.pyplot as plt\n",
    "import seaborn as sns"
   ]
  },
  {
   "cell_type": "code",
   "execution_count": 8,
   "id": "60a7b75d",
   "metadata": {},
   "outputs": [],
   "source": [
    "from tensorflow.keras.layers import Dense, Dropout, Flatten, Conv2D, MaxPooling2D, Activation\n",
    "from tensorflow.keras.models import Sequential, load_model, Model\n",
    "from tensorflow.keras.utils import to_categorical\n",
    "from tensorflow import keras"
   ]
  },
  {
   "cell_type": "code",
   "execution_count": 10,
   "id": "0370cd74",
   "metadata": {},
   "outputs": [],
   "source": [
    "import tensorflow as tf\n",
    "from tensorflow.keras import utils\n",
    "\n",
    "import os \n",
    "from PIL import Image\n",
    "import torch\n",
    "from torch.utils.data import Dataset, DataLoader\n",
    "import torchvision\n",
    "from torchvision import transforms\n",
    "\n",
    "import PIL\n",
    "import PIL.Image\n",
    "\n",
    "from tensorflow.keras.preprocessing.image import ImageDataGenerator\n",
    "from tensorflow.keras import metrics, optimizers, initializers, regularizers"
   ]
  },
  {
   "cell_type": "code",
   "execution_count": 15,
   "id": "562d000e",
   "metadata": {},
   "outputs": [],
   "source": [
    "train_datagen = ImageDataGenerator(rescale=1./255,                    # 이미지 살리기 \n",
    "                                  horizontal_flip=True,         # 전치가능\n",
    "                                  width_shift_range=0.1,        # 가로 이동\n",
    "                                  height_shift_range=0.1,       # 세로 이동?\n",
    "                                  rotation_range=5,          # 5도씩 돌리는\n",
    "                                  shear_range=0.7,           # 0.7 각도 내에서 돌리기\n",
    "                                  zoom_range=[0.9,2],         # 이미지 확대하거나 축소하거나\n",
    "                                  vertical_flip=True,      \n",
    "                                  fill_mode='nearest')           # 가장 가까운 색으로 채우기"
   ]
  },
  {
   "cell_type": "code",
   "execution_count": 21,
   "id": "e64053af",
   "metadata": {},
   "outputs": [
    {
     "name": "stdout",
     "output_type": "stream",
     "text": [
      "Found 160 images belonging to 2 classes.\n"
     ]
    }
   ],
   "source": [
    "train_generator = train_datagen.flow_from_directory('./deep_data/brainimages/train',\n",
    "                                 target_size=(150,150),\n",
    "                                 batch_size=5,\n",
    "                                 class_mode='binary')"
   ]
  },
  {
   "cell_type": "code",
   "execution_count": 44,
   "id": "29382d95",
   "metadata": {},
   "outputs": [
    {
     "data": {
      "text/plain": [
       "<keras.preprocessing.image.DirectoryIterator at 0x273116d2e80>"
      ]
     },
     "execution_count": 44,
     "metadata": {},
     "output_type": "execute_result"
    }
   ],
   "source": [
    "train_generator"
   ]
  },
  {
   "cell_type": "code",
   "execution_count": 22,
   "id": "ab470804",
   "metadata": {},
   "outputs": [],
   "source": [
    "# 테스트 데이터는 원본 그대로\n",
    "test_datagen = ImageDataGenerator(rescale=1./255)"
   ]
  },
  {
   "cell_type": "code",
   "execution_count": 23,
   "id": "3229fff1",
   "metadata": {},
   "outputs": [
    {
     "name": "stdout",
     "output_type": "stream",
     "text": [
      "Found 120 images belonging to 2 classes.\n"
     ]
    }
   ],
   "source": [
    "test_generator = test_datagen.flow_from_directory('./deep_data/brainimages/test',\n",
    "                                target_size=(150,150),\n",
    "                                batch_size=5,\n",
    "                                class_mode='binary')"
   ]
  },
  {
   "cell_type": "code",
   "execution_count": 19,
   "id": "5ea32d98",
   "metadata": {},
   "outputs": [
    {
     "name": "stdout",
     "output_type": "stream",
     "text": [
      "Model: \"sequential\"\n",
      "_________________________________________________________________\n",
      " Layer (type)                Output Shape              Param #   \n",
      "=================================================================\n",
      " conv2d (Conv2D)             (None, 148, 148, 32)      896       \n",
      "                                                                 \n",
      " activation (Activation)     (None, 148, 148, 32)      0         \n",
      "                                                                 \n",
      " max_pooling2d (MaxPooling2D  (None, 74, 74, 32)       0         \n",
      " )                                                               \n",
      "                                                                 \n",
      " conv2d_1 (Conv2D)           (None, 72, 72, 32)        9248      \n",
      "                                                                 \n",
      " activation_1 (Activation)   (None, 72, 72, 32)        0         \n",
      "                                                                 \n",
      " max_pooling2d_1 (MaxPooling  (None, 36, 36, 32)       0         \n",
      " 2D)                                                             \n",
      "                                                                 \n",
      " conv2d_2 (Conv2D)           (None, 34, 34, 64)        18496     \n",
      "                                                                 \n",
      " activation_2 (Activation)   (None, 34, 34, 64)        0         \n",
      "                                                                 \n",
      " max_pooling2d_2 (MaxPooling  (None, 17, 17, 64)       0         \n",
      " 2D)                                                             \n",
      "                                                                 \n",
      " flatten (Flatten)           (None, 18496)             0         \n",
      "                                                                 \n",
      " dense (Dense)               (None, 64)                1183808   \n",
      "                                                                 \n",
      " activation_3 (Activation)   (None, 64)                0         \n",
      "                                                                 \n",
      " dropout (Dropout)           (None, 64)                0         \n",
      "                                                                 \n",
      " dense_1 (Dense)             (None, 2)                 130       \n",
      "                                                                 \n",
      " activation_4 (Activation)   (None, 2)                 0         \n",
      "                                                                 \n",
      "=================================================================\n",
      "Total params: 1,212,578\n",
      "Trainable params: 1,212,578\n",
      "Non-trainable params: 0\n",
      "_________________________________________________________________\n"
     ]
    }
   ],
   "source": [
    "model = Sequential()\n",
    "model.add(Conv2D(32, (3,3), input_shape=(150,150,3)))\n",
    "model.add(Activation('relu'))\n",
    "model.add(MaxPooling2D(pool_size=(2,2)))\n",
    "\n",
    "model.add(Conv2D(32, (3,3)))\n",
    "model.add(Activation('relu'))\n",
    "model.add(MaxPooling2D(pool_size=(2,2)))\n",
    "\n",
    "model.add(Conv2D(64, (3,3)))\n",
    "model.add(Activation('relu'))\n",
    "model.add(MaxPooling2D(pool_size=(2,2)))\n",
    "\n",
    "model.add(Flatten())\n",
    "model.add(Dense(64))\n",
    "model.add(Activation('relu'))\n",
    "model.add(Dropout(0.5))\n",
    "model.add(Dense(2))    # 클래스라벨이 2개라서 => multi\n",
    "model.add(Activation('softmax'))\n",
    "model.summary()"
   ]
  },
  {
   "cell_type": "code",
   "execution_count": null,
   "id": "30fb0af4",
   "metadata": {},
   "outputs": [],
   "source": [
    "# y(label) : binary\n",
    "# abnomal, normal : 0.1\n",
    "\n",
    "# y : one_hot\n",
    "# normal : [1,0]\n",
    "# abnormal : [0,1]\n",
    "\n",
    "# y(label) : 0,1,2,3, .... => loss함수를 sparse_categorical_crossentropy\n",
    "# y가 label이 많으면 onehot을 안하고도 loss를 바꿔서 쓰면됨"
   ]
  },
  {
   "cell_type": "code",
   "execution_count": 20,
   "id": "ca5d8c9e",
   "metadata": {},
   "outputs": [],
   "source": [
    "adam = optimizers.Adam(learning_rate=0.0002)         # ???  러닝레이트가 뭐길래\n",
    "model.compile(loss='sparse_categorical_crossentropy', optimizer= adam, metrics=['accuracy'])"
   ]
  },
  {
   "cell_type": "code",
   "execution_count": 32,
   "id": "40f10d49",
   "metadata": {
    "scrolled": true
   },
   "outputs": [
    {
     "name": "stdout",
     "output_type": "stream",
     "text": [
      "Epoch 1/50\n",
      "32/32 [==============================] - 1s 32ms/step - loss: 0.2272 - accuracy: 0.9000 - val_loss: 0.4906 - val_accuracy: 0.7900\n",
      "Epoch 2/50\n",
      "32/32 [==============================] - 1s 28ms/step - loss: 0.2765 - accuracy: 0.8938 - val_loss: 0.3937 - val_accuracy: 0.8400\n",
      "Epoch 3/50\n",
      "32/32 [==============================] - 1s 29ms/step - loss: 0.2835 - accuracy: 0.9062 - val_loss: 0.3398 - val_accuracy: 0.8200\n",
      "Epoch 4/50\n",
      "32/32 [==============================] - 1s 28ms/step - loss: 0.2260 - accuracy: 0.9062 - val_loss: 0.3240 - val_accuracy: 0.8300\n",
      "Epoch 5/50\n",
      "32/32 [==============================] - 1s 28ms/step - loss: 0.2294 - accuracy: 0.9000 - val_loss: 0.3056 - val_accuracy: 0.8600\n",
      "Epoch 6/50\n",
      "32/32 [==============================] - 1s 30ms/step - loss: 0.1861 - accuracy: 0.9187 - val_loss: 0.2417 - val_accuracy: 0.9100\n",
      "Epoch 7/50\n",
      "32/32 [==============================] - 1s 28ms/step - loss: 0.2332 - accuracy: 0.9000 - val_loss: 0.3409 - val_accuracy: 0.8200\n",
      "Epoch 8/50\n",
      "32/32 [==============================] - 1s 28ms/step - loss: 0.2312 - accuracy: 0.9187 - val_loss: 0.3287 - val_accuracy: 0.8400\n",
      "Epoch 9/50\n",
      "32/32 [==============================] - 1s 28ms/step - loss: 0.2184 - accuracy: 0.9438 - val_loss: 0.2899 - val_accuracy: 0.8700\n",
      "Epoch 10/50\n",
      "32/32 [==============================] - 1s 28ms/step - loss: 0.2010 - accuracy: 0.9187 - val_loss: 0.3724 - val_accuracy: 0.8500\n",
      "Epoch 11/50\n",
      "32/32 [==============================] - 1s 27ms/step - loss: 0.2301 - accuracy: 0.9187 - val_loss: 0.4435 - val_accuracy: 0.8200\n",
      "Epoch 12/50\n",
      "32/32 [==============================] - 1s 29ms/step - loss: 0.1773 - accuracy: 0.9312 - val_loss: 0.2957 - val_accuracy: 0.8700\n",
      "Epoch 13/50\n",
      "32/32 [==============================] - 1s 28ms/step - loss: 0.2232 - accuracy: 0.9125 - val_loss: 0.2459 - val_accuracy: 0.8900\n",
      "Epoch 14/50\n",
      "32/32 [==============================] - 1s 27ms/step - loss: 0.2449 - accuracy: 0.9062 - val_loss: 0.3156 - val_accuracy: 0.8800\n",
      "Epoch 15/50\n",
      "32/32 [==============================] - 1s 29ms/step - loss: 0.2360 - accuracy: 0.9250 - val_loss: 0.3515 - val_accuracy: 0.8400\n",
      "Epoch 16/50\n",
      "32/32 [==============================] - 1s 27ms/step - loss: 0.1706 - accuracy: 0.9438 - val_loss: 0.3215 - val_accuracy: 0.8500\n",
      "Epoch 17/50\n",
      "32/32 [==============================] - 1s 28ms/step - loss: 0.1664 - accuracy: 0.9312 - val_loss: 0.2433 - val_accuracy: 0.9000\n",
      "Epoch 18/50\n",
      "32/32 [==============================] - 1s 29ms/step - loss: 0.1661 - accuracy: 0.9438 - val_loss: 0.3351 - val_accuracy: 0.8400\n",
      "Epoch 19/50\n",
      "32/32 [==============================] - 1s 27ms/step - loss: 0.1716 - accuracy: 0.9438 - val_loss: 0.2713 - val_accuracy: 0.8900\n",
      "Epoch 20/50\n",
      "32/32 [==============================] - 1s 28ms/step - loss: 0.1585 - accuracy: 0.9312 - val_loss: 0.3421 - val_accuracy: 0.8400\n",
      "Epoch 21/50\n",
      "32/32 [==============================] - 1s 29ms/step - loss: 0.1752 - accuracy: 0.9563 - val_loss: 0.2639 - val_accuracy: 0.8800\n",
      "Epoch 22/50\n",
      "32/32 [==============================] - 1s 27ms/step - loss: 0.1694 - accuracy: 0.9250 - val_loss: 0.3235 - val_accuracy: 0.8600\n",
      "Epoch 23/50\n",
      "32/32 [==============================] - 1s 27ms/step - loss: 0.2389 - accuracy: 0.9250 - val_loss: 0.4513 - val_accuracy: 0.8500\n",
      "Epoch 24/50\n",
      "32/32 [==============================] - 1s 28ms/step - loss: 0.1327 - accuracy: 0.9750 - val_loss: 0.4616 - val_accuracy: 0.8300\n",
      "Epoch 25/50\n",
      "32/32 [==============================] - 1s 27ms/step - loss: 0.2358 - accuracy: 0.8813 - val_loss: 0.3490 - val_accuracy: 0.8200\n",
      "Epoch 26/50\n",
      "32/32 [==============================] - 1s 27ms/step - loss: 0.1162 - accuracy: 0.9563 - val_loss: 0.2498 - val_accuracy: 0.9100\n",
      "Epoch 27/50\n",
      "32/32 [==============================] - 1s 29ms/step - loss: 0.1457 - accuracy: 0.9563 - val_loss: 0.3155 - val_accuracy: 0.9100\n",
      "Epoch 28/50\n",
      "32/32 [==============================] - 1s 27ms/step - loss: 0.2340 - accuracy: 0.9312 - val_loss: 0.3265 - val_accuracy: 0.8500\n",
      "Epoch 29/50\n",
      "32/32 [==============================] - 1s 27ms/step - loss: 0.2148 - accuracy: 0.9125 - val_loss: 0.1764 - val_accuracy: 0.9000\n",
      "Epoch 30/50\n",
      "32/32 [==============================] - 1s 28ms/step - loss: 0.1696 - accuracy: 0.9375 - val_loss: 0.2999 - val_accuracy: 0.9000\n",
      "Epoch 31/50\n",
      "32/32 [==============================] - 1s 27ms/step - loss: 0.2518 - accuracy: 0.9125 - val_loss: 0.5321 - val_accuracy: 0.8400\n",
      "Epoch 32/50\n",
      "32/32 [==============================] - 1s 27ms/step - loss: 0.1528 - accuracy: 0.9438 - val_loss: 0.2323 - val_accuracy: 0.8800\n",
      "Epoch 33/50\n",
      "32/32 [==============================] - 1s 28ms/step - loss: 0.1413 - accuracy: 0.9500 - val_loss: 0.2185 - val_accuracy: 0.9200\n",
      "Epoch 34/50\n",
      "32/32 [==============================] - 1s 27ms/step - loss: 0.1301 - accuracy: 0.9438 - val_loss: 0.2784 - val_accuracy: 0.8900\n",
      "Epoch 35/50\n",
      "32/32 [==============================] - 1s 28ms/step - loss: 0.1825 - accuracy: 0.9500 - val_loss: 0.2872 - val_accuracy: 0.9000\n",
      "Epoch 36/50\n",
      "32/32 [==============================] - 1s 28ms/step - loss: 0.1211 - accuracy: 0.9625 - val_loss: 0.2808 - val_accuracy: 0.9100\n",
      "Epoch 37/50\n",
      "32/32 [==============================] - 1s 29ms/step - loss: 0.1305 - accuracy: 0.9375 - val_loss: 0.3043 - val_accuracy: 0.9000\n",
      "Epoch 38/50\n",
      "32/32 [==============================] - 1s 27ms/step - loss: 0.0956 - accuracy: 0.9875 - val_loss: 0.3142 - val_accuracy: 0.8700\n",
      "Epoch 39/50\n",
      "32/32 [==============================] - 1s 28ms/step - loss: 0.1217 - accuracy: 0.9563 - val_loss: 0.2781 - val_accuracy: 0.8700\n",
      "Epoch 40/50\n",
      "32/32 [==============================] - 1s 28ms/step - loss: 0.1627 - accuracy: 0.9250 - val_loss: 0.2777 - val_accuracy: 0.8900\n",
      "Epoch 41/50\n",
      "32/32 [==============================] - 1s 27ms/step - loss: 0.1454 - accuracy: 0.9500 - val_loss: 0.1920 - val_accuracy: 0.9000\n",
      "Epoch 42/50\n",
      "32/32 [==============================] - 1s 28ms/step - loss: 0.1253 - accuracy: 0.9563 - val_loss: 0.2764 - val_accuracy: 0.9000\n",
      "Epoch 43/50\n",
      "32/32 [==============================] - 1s 28ms/step - loss: 0.1575 - accuracy: 0.9438 - val_loss: 0.3253 - val_accuracy: 0.8800\n",
      "Epoch 44/50\n",
      "32/32 [==============================] - 1s 28ms/step - loss: 0.1626 - accuracy: 0.9563 - val_loss: 0.5127 - val_accuracy: 0.8600\n",
      "Epoch 45/50\n",
      "32/32 [==============================] - 1s 28ms/step - loss: 0.1709 - accuracy: 0.9312 - val_loss: 0.3612 - val_accuracy: 0.8600\n",
      "Epoch 46/50\n",
      "32/32 [==============================] - 1s 29ms/step - loss: 0.1542 - accuracy: 0.9688 - val_loss: 0.4380 - val_accuracy: 0.8500\n",
      "Epoch 47/50\n",
      "32/32 [==============================] - 1s 28ms/step - loss: 0.1440 - accuracy: 0.9438 - val_loss: 0.3229 - val_accuracy: 0.8700\n",
      "Epoch 48/50\n",
      "32/32 [==============================] - 1s 28ms/step - loss: 0.1167 - accuracy: 0.9750 - val_loss: 0.2249 - val_accuracy: 0.9000\n",
      "Epoch 49/50\n",
      "32/32 [==============================] - 1s 28ms/step - loss: 0.1617 - accuracy: 0.9625 - val_loss: 0.3766 - val_accuracy: 0.8600\n",
      "Epoch 50/50\n",
      "32/32 [==============================] - 1s 29ms/step - loss: 0.1037 - accuracy: 0.9688 - val_loss: 0.4131 - val_accuracy: 0.8700\n"
     ]
    }
   ],
   "source": [
    "hist = model.fit(train_generator, \n",
    "#                steps_per_epoch=100, # 랜덤하게 변형시키는데 백번을 변형시켜서 가져옴?  요거 이상하대\n",
    "                 epochs=50, \n",
    "                 validation_data=test_generator,\n",
    "                 validation_steps=20)"
   ]
  },
  {
   "cell_type": "code",
   "execution_count": 34,
   "id": "b46606e7",
   "metadata": {
    "scrolled": true
   },
   "outputs": [
    {
     "data": {
      "image/png": "[encoded data removed]",
      "text/plain": [
       "<Figure size 432x288 with 1 Axes>"
      ]
     },
     "metadata": {
      "needs_background": "light"
     },
     "output_type": "display_data"
    }
   ],
   "source": [
    "acc = hist.history['accuracy']\n",
    "val_acc = hist.history['val_accuracy']\n",
    "loss = hist.history['loss']\n",
    "val_loss = hist.history['val_loss']\n",
    "\n",
    "x_len = np.arange(len(loss))\n",
    "plt.plot(x_len, acc, marker = '.', c='red', label='Train_Acc')\n",
    "plt.plot(x_len, val_acc, marker = '.', c='lightcoral', label='Test_Acc')\n",
    "plt.plot(x_len, loss, marker = '.', c='blue', label='Train_Loss')\n",
    "plt.plot(x_len, val_loss, marker = '.', c='lightblue', label='Test_Loss')\n",
    "\n",
    "plt.legend()\n",
    "plt.grid()\n",
    "plt.show()"
   ]
  },
  {
   "cell_type": "code",
   "execution_count": null,
   "id": "1c2d4fb6",
   "metadata": {},
   "outputs": [],
   "source": []
  },
  {
   "cell_type": "code",
   "execution_count": null,
   "id": "3795dd37",
   "metadata": {},
   "outputs": [],
   "source": [
    "# transform 학습"
   ]
  },
  {
   "cell_type": "code",
   "execution_count": 36,
   "id": "23009d3e",
   "metadata": {},
   "outputs": [],
   "source": [
    "from tensorflow.keras.applications import VGG16"
   ]
  },
  {
   "cell_type": "code",
   "execution_count": 38,
   "id": "84979669",
   "metadata": {
    "collapsed": true
   },
   "outputs": [
    {
     "name": "stdout",
     "output_type": "stream",
     "text": [
      "Model: \"vgg16\"\n",
      "_________________________________________________________________\n",
      " Layer (type)                Output Shape              Param #   \n",
      "=================================================================\n",
      " input_2 (InputLayer)        [(None, 150, 150, 3)]     0         \n",
      "                                                                 \n",
      " block1_conv1 (Conv2D)       (None, 150, 150, 64)      1792      \n",
      "                                                                 \n",
      " block1_conv2 (Conv2D)       (None, 150, 150, 64)      36928     \n",
      "                                                                 \n",
      " block1_pool (MaxPooling2D)  (None, 75, 75, 64)        0         \n",
      "                                                                 \n",
      " block2_conv1 (Conv2D)       (None, 75, 75, 128)       73856     \n",
      "                                                                 \n",
      " block2_conv2 (Conv2D)       (None, 75, 75, 128)       147584    \n",
      "                                                                 \n",
      " block2_pool (MaxPooling2D)  (None, 37, 37, 128)       0         \n",
      "                                                                 \n",
      " block3_conv1 (Conv2D)       (None, 37, 37, 256)       295168    \n",
      "                                                                 \n",
      " block3_conv2 (Conv2D)       (None, 37, 37, 256)       590080    \n",
      "                                                                 \n",
      " block3_conv3 (Conv2D)       (None, 37, 37, 256)       590080    \n",
      "                                                                 \n",
      " block3_pool (MaxPooling2D)  (None, 18, 18, 256)       0         \n",
      "                                                                 \n",
      " block4_conv1 (Conv2D)       (None, 18, 18, 512)       1180160   \n",
      "                                                                 \n",
      " block4_conv2 (Conv2D)       (None, 18, 18, 512)       2359808   \n",
      "                                                                 \n",
      " block4_conv3 (Conv2D)       (None, 18, 18, 512)       2359808   \n",
      "                                                                 \n",
      " block4_pool (MaxPooling2D)  (None, 9, 9, 512)         0         \n",
      "                                                                 \n",
      " block5_conv1 (Conv2D)       (None, 9, 9, 512)         2359808   \n",
      "                                                                 \n",
      " block5_conv2 (Conv2D)       (None, 9, 9, 512)         2359808   \n",
      "                                                                 \n",
      " block5_conv3 (Conv2D)       (None, 9, 9, 512)         2359808   \n",
      "                                                                 \n",
      " block5_pool (MaxPooling2D)  (None, 4, 4, 512)         0         \n",
      "                                                                 \n",
      "=================================================================\n",
      "Total params: 14,714,688\n",
      "Trainable params: 0\n",
      "Non-trainable params: 14,714,688\n",
      "_________________________________________________________________\n"
     ]
    }
   ],
   "source": [
    "trans_model = VGG16(weights='imagenet', include_top=False, input_shape=(150,150,3))   # include_top=> dense layer false로 뺄꺼야\n",
    "trans_model.trainable=False\n",
    "trans_model.summary()"
   ]
  },
  {
   "cell_type": "code",
   "execution_count": 39,
   "id": "6f0a51e1",
   "metadata": {},
   "outputs": [
    {
     "name": "stdout",
     "output_type": "stream",
     "text": [
      "Model: \"sequential_1\"\n",
      "_________________________________________________________________\n",
      " Layer (type)                Output Shape              Param #   \n",
      "=================================================================\n",
      " vgg16 (Functional)          (None, 4, 4, 512)         14714688  \n",
      "                                                                 \n",
      " flatten_1 (Flatten)         (None, 8192)              0         \n",
      "                                                                 \n",
      " dense_2 (Dense)             (None, 64)                524352    \n",
      "                                                                 \n",
      " dense_3 (Dense)             (None, 32)                2080      \n",
      "                                                                 \n",
      " dense_4 (Dense)             (None, 2)                 66        \n",
      "                                                                 \n",
      "=================================================================\n",
      "Total params: 15,241,186\n",
      "Trainable params: 526,498\n",
      "Non-trainable params: 14,714,688\n",
      "_________________________________________________________________\n"
     ]
    }
   ],
   "source": [
    "finetune_model =  Sequential()\n",
    "finetune_model.add(trans_model)\n",
    "finetune_model.add(Flatten())\n",
    "finetune_model.add(Dense(64, activation='relu'))\n",
    "finetune_model.add(Dense(32, activation='relu'))\n",
    "finetune_model.add(Dense(2, activation='softmax'))\n",
    "finetune_model.summary()"
   ]
  },
  {
   "cell_type": "code",
   "execution_count": 41,
   "id": "9da3809f",
   "metadata": {},
   "outputs": [],
   "source": [
    "finetune_model.compile(loss='sparse_categorical_crossentropy', optimizer= adam, metrics=['accuracy'])"
   ]
  },
  {
   "cell_type": "code",
   "execution_count": 42,
   "id": "5737803b",
   "metadata": {
    "scrolled": true
   },
   "outputs": [
    {
     "name": "stdout",
     "output_type": "stream",
     "text": [
      "Epoch 1/50\n",
      "32/32 [==============================] - 2s 32ms/step - loss: 0.7185 - accuracy: 0.5250 - val_loss: 0.7918 - val_accuracy: 0.4000\n",
      "Epoch 2/50\n",
      "32/32 [==============================] - 1s 27ms/step - loss: 0.6283 - accuracy: 0.6750 - val_loss: 0.6401 - val_accuracy: 0.5500\n",
      "Epoch 3/50\n",
      "32/32 [==============================] - 1s 26ms/step - loss: 0.4697 - accuracy: 0.8000 - val_loss: 0.3547 - val_accuracy: 0.8500\n",
      "Epoch 4/50\n",
      "32/32 [==============================] - 1s 27ms/step - loss: 0.4228 - accuracy: 0.8062 - val_loss: 0.3432 - val_accuracy: 0.8500\n",
      "Epoch 5/50\n",
      "32/32 [==============================] - 1s 27ms/step - loss: 0.3161 - accuracy: 0.8750 - val_loss: 0.5860 - val_accuracy: 0.6500\n",
      "Epoch 6/50\n",
      "32/32 [==============================] - 1s 27ms/step - loss: 0.3095 - accuracy: 0.8938 - val_loss: 0.3942 - val_accuracy: 0.8500\n",
      "Epoch 7/50\n",
      "32/32 [==============================] - 1s 28ms/step - loss: 0.2267 - accuracy: 0.9250 - val_loss: 0.0838 - val_accuracy: 1.0000\n",
      "Epoch 8/50\n",
      "32/32 [==============================] - 1s 27ms/step - loss: 0.2203 - accuracy: 0.9438 - val_loss: 0.2436 - val_accuracy: 0.9000\n",
      "Epoch 9/50\n",
      "32/32 [==============================] - 1s 27ms/step - loss: 0.1787 - accuracy: 0.9625 - val_loss: 0.1930 - val_accuracy: 0.9500\n",
      "Epoch 10/50\n",
      "32/32 [==============================] - 1s 27ms/step - loss: 0.2034 - accuracy: 0.9375 - val_loss: 0.3232 - val_accuracy: 0.8000\n",
      "Epoch 11/50\n",
      "32/32 [==============================] - 1s 26ms/step - loss: 0.2165 - accuracy: 0.9062 - val_loss: 0.3511 - val_accuracy: 0.9000\n",
      "Epoch 12/50\n",
      "32/32 [==============================] - 1s 27ms/step - loss: 0.1468 - accuracy: 0.9500 - val_loss: 0.2310 - val_accuracy: 0.9000\n",
      "Epoch 13/50\n",
      "32/32 [==============================] - 1s 26ms/step - loss: 0.1867 - accuracy: 0.9250 - val_loss: 0.1589 - val_accuracy: 0.9500\n",
      "Epoch 14/50\n",
      "32/32 [==============================] - 1s 27ms/step - loss: 0.1662 - accuracy: 0.9438 - val_loss: 0.5292 - val_accuracy: 0.8000\n",
      "Epoch 15/50\n",
      "32/32 [==============================] - 1s 27ms/step - loss: 0.1602 - accuracy: 0.9375 - val_loss: 0.1883 - val_accuracy: 0.8500\n",
      "Epoch 16/50\n",
      "32/32 [==============================] - 1s 27ms/step - loss: 0.1455 - accuracy: 0.9500 - val_loss: 0.2464 - val_accuracy: 0.9500\n",
      "Epoch 17/50\n",
      "32/32 [==============================] - 1s 27ms/step - loss: 0.1764 - accuracy: 0.9375 - val_loss: 0.2802 - val_accuracy: 0.8500\n",
      "Epoch 18/50\n",
      "32/32 [==============================] - 1s 27ms/step - loss: 0.1512 - accuracy: 0.9438 - val_loss: 0.1272 - val_accuracy: 1.0000\n",
      "Epoch 19/50\n",
      "32/32 [==============================] - 1s 27ms/step - loss: 0.1681 - accuracy: 0.9375 - val_loss: 0.1402 - val_accuracy: 0.9500\n",
      "Epoch 20/50\n",
      "32/32 [==============================] - 1s 26ms/step - loss: 0.1778 - accuracy: 0.9438 - val_loss: 0.5291 - val_accuracy: 0.7000\n",
      "Epoch 21/50\n",
      "32/32 [==============================] - 1s 27ms/step - loss: 0.1681 - accuracy: 0.9438 - val_loss: 0.1564 - val_accuracy: 0.9000\n",
      "Epoch 22/50\n",
      "32/32 [==============================] - 1s 27ms/step - loss: 0.1326 - accuracy: 0.9312 - val_loss: 0.2386 - val_accuracy: 0.9000\n",
      "Epoch 23/50\n",
      "32/32 [==============================] - 1s 26ms/step - loss: 0.1135 - accuracy: 0.9688 - val_loss: 0.0869 - val_accuracy: 1.0000\n",
      "Epoch 24/50\n",
      "32/32 [==============================] - 1s 27ms/step - loss: 0.1301 - accuracy: 0.9500 - val_loss: 0.2274 - val_accuracy: 0.8000\n",
      "Epoch 25/50\n",
      "32/32 [==============================] - 1s 26ms/step - loss: 0.1327 - accuracy: 0.9375 - val_loss: 0.0771 - val_accuracy: 1.0000\n",
      "Epoch 26/50\n",
      "32/32 [==============================] - 1s 27ms/step - loss: 0.1606 - accuracy: 0.9438 - val_loss: 0.0261 - val_accuracy: 1.0000\n",
      "Epoch 27/50\n",
      "32/32 [==============================] - 1s 27ms/step - loss: 0.2210 - accuracy: 0.8875 - val_loss: 0.2640 - val_accuracy: 0.9500\n",
      "Epoch 28/50\n",
      "32/32 [==============================] - 1s 26ms/step - loss: 0.1364 - accuracy: 0.9563 - val_loss: 0.1401 - val_accuracy: 0.9500\n",
      "Epoch 29/50\n",
      "32/32 [==============================] - 1s 27ms/step - loss: 0.1577 - accuracy: 0.9250 - val_loss: 0.3186 - val_accuracy: 0.9000\n",
      "Epoch 30/50\n",
      "32/32 [==============================] - 1s 27ms/step - loss: 0.1083 - accuracy: 0.9625 - val_loss: 0.2359 - val_accuracy: 0.9000\n",
      "Epoch 31/50\n",
      "32/32 [==============================] - 1s 26ms/step - loss: 0.1306 - accuracy: 0.9563 - val_loss: 0.1449 - val_accuracy: 0.9000\n",
      "Epoch 32/50\n",
      "32/32 [==============================] - 1s 27ms/step - loss: 0.1515 - accuracy: 0.9250 - val_loss: 0.3161 - val_accuracy: 0.9000\n",
      "Epoch 33/50\n",
      "32/32 [==============================] - 1s 26ms/step - loss: 0.1099 - accuracy: 0.9563 - val_loss: 0.5225 - val_accuracy: 0.8000\n",
      "Epoch 34/50\n",
      "32/32 [==============================] - 1s 26ms/step - loss: 0.1265 - accuracy: 0.9688 - val_loss: 0.1100 - val_accuracy: 0.9500\n",
      "Epoch 35/50\n",
      "32/32 [==============================] - 1s 26ms/step - loss: 0.1177 - accuracy: 0.9688 - val_loss: 0.2191 - val_accuracy: 0.8500\n",
      "Epoch 36/50\n",
      "32/32 [==============================] - 1s 27ms/step - loss: 0.1546 - accuracy: 0.9312 - val_loss: 0.4110 - val_accuracy: 0.9000\n",
      "Epoch 37/50\n",
      "32/32 [==============================] - 1s 26ms/step - loss: 0.1317 - accuracy: 0.9625 - val_loss: 0.0850 - val_accuracy: 0.9500\n",
      "Epoch 38/50\n",
      "32/32 [==============================] - 1s 27ms/step - loss: 0.1094 - accuracy: 0.9688 - val_loss: 0.2119 - val_accuracy: 0.9000\n",
      "Epoch 39/50\n",
      "32/32 [==============================] - 1s 27ms/step - loss: 0.0930 - accuracy: 0.9750 - val_loss: 0.0616 - val_accuracy: 1.0000\n",
      "Epoch 40/50\n",
      "32/32 [==============================] - 1s 26ms/step - loss: 0.0998 - accuracy: 0.9688 - val_loss: 0.0910 - val_accuracy: 0.9500\n",
      "Epoch 41/50\n",
      "32/32 [==============================] - 1s 27ms/step - loss: 0.1205 - accuracy: 0.9563 - val_loss: 0.2124 - val_accuracy: 0.9000\n",
      "Epoch 42/50\n",
      "32/32 [==============================] - 1s 27ms/step - loss: 0.1029 - accuracy: 0.9688 - val_loss: 0.2743 - val_accuracy: 0.9500\n",
      "Epoch 43/50\n",
      "32/32 [==============================] - 1s 26ms/step - loss: 0.1623 - accuracy: 0.9375 - val_loss: 0.1102 - val_accuracy: 0.9500\n",
      "Epoch 44/50\n",
      "32/32 [==============================] - 1s 27ms/step - loss: 0.1711 - accuracy: 0.9375 - val_loss: 0.2706 - val_accuracy: 0.9000\n",
      "Epoch 45/50\n",
      "32/32 [==============================] - 1s 27ms/step - loss: 0.0882 - accuracy: 0.9688 - val_loss: 0.0589 - val_accuracy: 0.9500\n",
      "Epoch 46/50\n",
      "32/32 [==============================] - 1s 27ms/step - loss: 0.1058 - accuracy: 0.9688 - val_loss: 0.1220 - val_accuracy: 0.9500\n",
      "Epoch 47/50\n",
      "32/32 [==============================] - 1s 27ms/step - loss: 0.1078 - accuracy: 0.9500 - val_loss: 0.0119 - val_accuracy: 1.0000\n",
      "Epoch 48/50\n",
      "32/32 [==============================] - 1s 27ms/step - loss: 0.0990 - accuracy: 0.9563 - val_loss: 0.1749 - val_accuracy: 0.9000\n",
      "Epoch 49/50\n",
      "32/32 [==============================] - 1s 26ms/step - loss: 0.1072 - accuracy: 0.9563 - val_loss: 0.2592 - val_accuracy: 0.8500\n",
      "Epoch 50/50\n",
      "32/32 [==============================] - 1s 27ms/step - loss: 0.1227 - accuracy: 0.9688 - val_loss: 0.2738 - val_accuracy: 0.9000\n"
     ]
    }
   ],
   "source": [
    "hist = finetune_model.fit(\n",
    "                        train_generator,\n",
    "                        epochs = 50, validation_data=test_generator, validation_steps=4)"
   ]
  },
  {
   "cell_type": "code",
   "execution_count": 43,
   "id": "2eceb43e",
   "metadata": {},
   "outputs": [
    {
     "data": {
      "image/png": "[encoded data removed]",
      "text/plain": [
       "<Figure size 432x288 with 1 Axes>"
      ]
     },
     "metadata": {
      "needs_background": "light"
     },
     "output_type": "display_data"
    }
   ],
   "source": [
    "acc = hist.history['accuracy']\n",
    "val_acc = hist.history['val_accuracy']\n",
    "loss = hist.history['loss']\n",
    "val_loss = hist.history['val_loss']\n",
    "\n",
    "x_len = np.arange(len(loss))\n",
    "plt.plot(x_len, acc, marker = '.', c='red', label='Train_Acc')\n",
    "plt.plot(x_len, val_acc, marker = '.', c='lightcoral', label='Test_Acc')\n",
    "plt.plot(x_len, loss, marker = '.', c='blue', label='Train_Loss')\n",
    "plt.plot(x_len, val_loss, marker = '.', c='lightblue', label='Test_Loss')\n",
    "\n",
    "plt.legend()\n",
    "plt.grid()\n",
    "plt.show()"
   ]
  },
  {
   "cell_type": "code",
   "execution_count": null,
   "id": "7d0d2c3e",
   "metadata": {},
   "outputs": [],
   "source": []
  },
  {
   "cell_type": "code",
   "execution_count": null,
   "id": "2b2fff79",
   "metadata": {},
   "outputs": [],
   "source": []
  },
  {
   "cell_type": "code",
   "execution_count": null,
   "id": "3678ae0c",
   "metadata": {},
   "outputs": [],
   "source": []
  },
  {
   "cell_type": "code",
   "execution_count": null,
   "id": "2393a7f8",
   "metadata": {},
   "outputs": [],
   "source": []
  },
  {
   "cell_type": "code",
   "execution_count": null,
   "id": "31b87526",
   "metadata": {},
   "outputs": [],
   "source": []
  },
  {
   "cell_type": "code",
   "execution_count": null,
   "id": "b1e2264e",
   "metadata": {},
   "outputs": [],
   "source": []
  },
  {
   "cell_type": "code",
   "execution_count": null,
   "id": "9c8fba15",
   "metadata": {},
   "outputs": [],
   "source": []
  },
  {
   "cell_type": "code",
   "execution_count": null,
   "id": "9dff1b69",
   "metadata": {},
   "outputs": [],
   "source": []
  },
  {
   "cell_type": "code",
   "execution_count": null,
   "id": "26446c05",
   "metadata": {},
   "outputs": [],
   "source": []
  },
  {
   "cell_type": "code",
   "execution_count": null,
   "id": "b37327a9",
   "metadata": {},
   "outputs": [],
   "source": []
  },
  {
   "cell_type": "code",
   "execution_count": null,
   "id": "50f1930c",
   "metadata": {},
   "outputs": [],
   "source": []
  },
  {
   "cell_type": "code",
   "execution_count": null,
   "id": "698e0844",
   "metadata": {},
   "outputs": [],
   "source": []
  },
  {
   "cell_type": "code",
   "execution_count": null,
   "id": "c3c5c095",
   "metadata": {},
   "outputs": [],
   "source": []
  },
  {
   "cell_type": "code",
   "execution_count": null,
   "id": "8100c408",
   "metadata": {},
   "outputs": [],
   "source": []
  },
  {
   "cell_type": "code",
   "execution_count": null,
   "id": "7147968a",
   "metadata": {},
   "outputs": [],
   "source": []
  },
  {
   "cell_type": "code",
   "execution_count": null,
   "id": "3ecb7d91",
   "metadata": {},
   "outputs": [],
   "source": []
  },
  {
   "cell_type": "code",
   "execution_count": null,
   "id": "ad019145",
   "metadata": {},
   "outputs": [],
   "source": []
  },
  {
   "cell_type": "code",
   "execution_count": null,
   "id": "6ec8f4f6",
   "metadata": {},
   "outputs": [],
   "source": []
  },
  {
   "cell_type": "code",
   "execution_count": null,
   "id": "bf33b883",
   "metadata": {},
   "outputs": [],
   "source": []
  }
 ],
 "metadata": {
  "kernelspec": {
   "display_name": "Python 3 (ipykernel)",
   "language": "python",
   "name": "python3"
  },
  "language_info": {
   "codemirror_mode": {
    "name": "ipython",
    "version": 3
   },
   "file_extension": ".py",
   "mimetype": "text/x-python",
   "name": "python",
   "nbconvert_exporter": "python",
   "pygments_lexer": "ipython3",
   "version": "3.9.7"
  },
  "varInspector": {
   "cols": {
    "lenName": 16,
    "lenType": 16,
    "lenVar": 40
   },
   "kernels_config": {
    "python": {
     "delete_cmd_postfix": "",
     "delete_cmd_prefix": "del ",
     "library": "var_list.py",
     "varRefreshCmd": "print(var_dic_list())"
    },
    "r": {
     "delete_cmd_postfix": ") ",
     "delete_cmd_prefix": "rm(",
     "library": "var_list.r",
     "varRefreshCmd": "cat(var_dic_list()) "
    }
   },
   "types_to_exclude": [
    "module",
    "function",
    "builtin_function_or_method",
    "instance",
    "_Feature"
   ],
   "window_display": false
  }
 },
 "nbformat": 4,
 "nbformat_minor": 5
}
