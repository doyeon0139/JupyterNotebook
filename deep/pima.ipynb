{
 "cells": [
  {
   "cell_type": "code",
   "execution_count": 1,
   "id": "42e4428a",
   "metadata": {},
   "outputs": [],
   "source": [
    "import pandas as pd\n",
    "import numpy as np\n",
    "import matplotlib.pyplot as plt\n",
    "import seaborn as sns"
   ]
  },
  {
   "cell_type": "code",
   "execution_count": 47,
   "id": "9d41aaa4",
   "metadata": {},
   "outputs": [],
   "source": [
    "from tensorflow.keras.models import Sequential\n",
    "from tensorflow.keras.layers import Dense, Dropout\n",
    "import tensorflow as tf"
   ]
  },
  {
   "cell_type": "code",
   "execution_count": 56,
   "id": "658d8043",
   "metadata": {},
   "outputs": [
    {
     "data": {
      "text/html": [
       "<div>\n",
       "<style scoped>\n",
       "    .dataframe tbody tr th:only-of-type {\n",
       "        vertical-align: middle;\n",
       "    }\n",
       "\n",
       "    .dataframe tbody tr th {\n",
       "        vertical-align: top;\n",
       "    }\n",
       "\n",
       "    .dataframe thead th {\n",
       "        text-align: right;\n",
       "    }\n",
       "</style>\n",
       "<table border=\"1\" class=\"dataframe\">\n",
       "  <thead>\n",
       "    <tr style=\"text-align: right;\">\n",
       "      <th></th>\n",
       "      <th>0</th>\n",
       "      <th>1</th>\n",
       "      <th>2</th>\n",
       "      <th>3</th>\n",
       "      <th>4</th>\n",
       "      <th>5</th>\n",
       "      <th>6</th>\n",
       "      <th>7</th>\n",
       "      <th>8</th>\n",
       "    </tr>\n",
       "  </thead>\n",
       "  <tbody>\n",
       "    <tr>\n",
       "      <th>0</th>\n",
       "      <td>6</td>\n",
       "      <td>148</td>\n",
       "      <td>72</td>\n",
       "      <td>35</td>\n",
       "      <td>0</td>\n",
       "      <td>33.6</td>\n",
       "      <td>0.627</td>\n",
       "      <td>50</td>\n",
       "      <td>1</td>\n",
       "    </tr>\n",
       "    <tr>\n",
       "      <th>1</th>\n",
       "      <td>1</td>\n",
       "      <td>85</td>\n",
       "      <td>66</td>\n",
       "      <td>29</td>\n",
       "      <td>0</td>\n",
       "      <td>26.6</td>\n",
       "      <td>0.351</td>\n",
       "      <td>31</td>\n",
       "      <td>0</td>\n",
       "    </tr>\n",
       "    <tr>\n",
       "      <th>2</th>\n",
       "      <td>8</td>\n",
       "      <td>183</td>\n",
       "      <td>64</td>\n",
       "      <td>0</td>\n",
       "      <td>0</td>\n",
       "      <td>23.3</td>\n",
       "      <td>0.672</td>\n",
       "      <td>32</td>\n",
       "      <td>1</td>\n",
       "    </tr>\n",
       "    <tr>\n",
       "      <th>3</th>\n",
       "      <td>1</td>\n",
       "      <td>89</td>\n",
       "      <td>66</td>\n",
       "      <td>23</td>\n",
       "      <td>94</td>\n",
       "      <td>28.1</td>\n",
       "      <td>0.167</td>\n",
       "      <td>21</td>\n",
       "      <td>0</td>\n",
       "    </tr>\n",
       "    <tr>\n",
       "      <th>4</th>\n",
       "      <td>0</td>\n",
       "      <td>137</td>\n",
       "      <td>40</td>\n",
       "      <td>35</td>\n",
       "      <td>168</td>\n",
       "      <td>43.1</td>\n",
       "      <td>2.288</td>\n",
       "      <td>33</td>\n",
       "      <td>1</td>\n",
       "    </tr>\n",
       "  </tbody>\n",
       "</table>\n",
       "</div>"
      ],
      "text/plain": [
       "   0    1   2   3    4     5      6   7  8\n",
       "0  6  148  72  35    0  33.6  0.627  50  1\n",
       "1  1   85  66  29    0  26.6  0.351  31  0\n",
       "2  8  183  64   0    0  23.3  0.672  32  1\n",
       "3  1   89  66  23   94  28.1  0.167  21  0\n",
       "4  0  137  40  35  168  43.1  2.288  33  1"
      ]
     },
     "execution_count": 56,
     "metadata": {},
     "output_type": "execute_result"
    }
   ],
   "source": [
    "df = pd.read_csv('./deep_data/pima-indians-diabetes.csv', header=None)\n",
    "df.head()"
   ]
  },
  {
   "cell_type": "code",
   "execution_count": null,
   "id": "d3daea16",
   "metadata": {},
   "outputs": [],
   "source": [
    "# dataset"
   ]
  },
  {
   "cell_type": "code",
   "execution_count": 57,
   "id": "8f5c089c",
   "metadata": {},
   "outputs": [],
   "source": [
    "y = df[8]\n",
    "x = df.drop(8, axis=1)"
   ]
  },
  {
   "cell_type": "code",
   "execution_count": 58,
   "id": "704e5e20",
   "metadata": {},
   "outputs": [],
   "source": [
    "from sklearn.preprocessing import StandardScaler\n",
    "scaler = StandardScaler()\n",
    "x_sc = scaler.fit_transform(x)"
   ]
  },
  {
   "cell_type": "code",
   "execution_count": 26,
   "id": "53bcce8a",
   "metadata": {},
   "outputs": [],
   "source": [
    "from tensorflow.keras.utils import to_categorical\n",
    "y_oh = to_categorical(y)"
   ]
  },
  {
   "cell_type": "code",
   "execution_count": 59,
   "id": "c910b3ac",
   "metadata": {},
   "outputs": [],
   "source": [
    "from sklearn.model_selection import train_test_split\n",
    "x_train, x_test, y_train, y_test = train_test_split(x_sc, y, test_size=0.2)"
   ]
  },
  {
   "cell_type": "code",
   "execution_count": 60,
   "id": "0ee0909c",
   "metadata": {},
   "outputs": [
    {
     "data": {
      "text/plain": [
       "(614, 8)"
      ]
     },
     "execution_count": 60,
     "metadata": {},
     "output_type": "execute_result"
    }
   ],
   "source": [
    "x_train.shape"
   ]
  },
  {
   "cell_type": "code",
   "execution_count": 61,
   "id": "33dc207c",
   "metadata": {},
   "outputs": [
    {
     "data": {
      "text/plain": [
       "(768, 8)"
      ]
     },
     "execution_count": 61,
     "metadata": {},
     "output_type": "execute_result"
    }
   ],
   "source": [
    "x.shape"
   ]
  },
  {
   "cell_type": "code",
   "execution_count": 29,
   "id": "efe9a074",
   "metadata": {},
   "outputs": [
    {
     "data": {
      "text/plain": [
       "(614,)"
      ]
     },
     "execution_count": 29,
     "metadata": {},
     "output_type": "execute_result"
    }
   ],
   "source": [
    "y_train.shape"
   ]
  },
  {
   "cell_type": "code",
   "execution_count": 62,
   "id": "0736fde8",
   "metadata": {},
   "outputs": [
    {
     "name": "stdout",
     "output_type": "stream",
     "text": [
      "Model: \"sequential_8\"\n",
      "_________________________________________________________________\n",
      " Layer (type)                Output Shape              Param #   \n",
      "=================================================================\n",
      " dense_32 (Dense)            (None, 128)               1152      \n",
      "                                                                 \n",
      " dense_33 (Dense)            (None, 64)                8256      \n",
      "                                                                 \n",
      " dropout_4 (Dropout)         (None, 64)                0         \n",
      "                                                                 \n",
      " dense_34 (Dense)            (None, 32)                2080      \n",
      "                                                                 \n",
      " dropout_5 (Dropout)         (None, 32)                0         \n",
      "                                                                 \n",
      " dense_35 (Dense)            (None, 1)                 33        \n",
      "                                                                 \n",
      "=================================================================\n",
      "Total params: 11,521\n",
      "Trainable params: 11,521\n",
      "Non-trainable params: 0\n",
      "_________________________________________________________________\n"
     ]
    }
   ],
   "source": [
    "model = Sequential()\n",
    "model.add(Dense(128, input_dim=8, activation='relu'))\n",
    "model.add(Dense(64, activation='relu'))\n",
    "model.add(Dropout(0.2))\n",
    "model.add(Dense(32, activation='relu'))\n",
    "model.add(Dropout(0.2))\n",
    "model.add(Dense(1, activation='sigmoid'))\n",
    "model.summary()"
   ]
  },
  {
   "cell_type": "code",
   "execution_count": 63,
   "id": "9ae8c493",
   "metadata": {},
   "outputs": [],
   "source": [
    "model.compile(loss='binary_crossentropy', metrics=['accuracy'], optimizer='adam')"
   ]
  },
  {
   "cell_type": "code",
   "execution_count": 64,
   "id": "1ae6e9b2",
   "metadata": {
    "scrolled": true
   },
   "outputs": [
    {
     "name": "stdout",
     "output_type": "stream",
     "text": [
      "Epoch 1/200\n",
      "25/25 [==============================] - 1s 13ms/step - loss: 0.6519 - accuracy: 0.6314 - val_loss: 0.5820 - val_accuracy: 0.7154\n",
      "Epoch 2/200\n",
      "25/25 [==============================] - 0s 7ms/step - loss: 0.5548 - accuracy: 0.7230 - val_loss: 0.5068 - val_accuracy: 0.7886\n",
      "Epoch 3/200\n",
      "25/25 [==============================] - 0s 9ms/step - loss: 0.5013 - accuracy: 0.7617 - val_loss: 0.4870 - val_accuracy: 0.7642\n",
      "Epoch 4/200\n",
      "25/25 [==============================] - 0s 9ms/step - loss: 0.4815 - accuracy: 0.7760 - val_loss: 0.4818 - val_accuracy: 0.7642\n",
      "Epoch 5/200\n",
      "25/25 [==============================] - 0s 7ms/step - loss: 0.4582 - accuracy: 0.7841 - val_loss: 0.4836 - val_accuracy: 0.7561\n",
      "Epoch 6/200\n",
      "25/25 [==============================] - 0s 6ms/step - loss: 0.4524 - accuracy: 0.7862 - val_loss: 0.4922 - val_accuracy: 0.7480\n",
      "Epoch 7/200\n",
      "25/25 [==============================] - 0s 6ms/step - loss: 0.4429 - accuracy: 0.7943 - val_loss: 0.4752 - val_accuracy: 0.7642\n",
      "Epoch 8/200\n",
      "25/25 [==============================] - 0s 6ms/step - loss: 0.4427 - accuracy: 0.7963 - val_loss: 0.4817 - val_accuracy: 0.7480\n",
      "Epoch 9/200\n",
      "25/25 [==============================] - 0s 6ms/step - loss: 0.4294 - accuracy: 0.7923 - val_loss: 0.4801 - val_accuracy: 0.7561\n",
      "Epoch 10/200\n",
      "25/25 [==============================] - 0s 6ms/step - loss: 0.4192 - accuracy: 0.8208 - val_loss: 0.4775 - val_accuracy: 0.7561\n",
      "Epoch 11/200\n",
      "25/25 [==============================] - 0s 6ms/step - loss: 0.4233 - accuracy: 0.8045 - val_loss: 0.4827 - val_accuracy: 0.7317\n",
      "Epoch 12/200\n",
      "25/25 [==============================] - 0s 6ms/step - loss: 0.4255 - accuracy: 0.7963 - val_loss: 0.4994 - val_accuracy: 0.7154\n",
      "Epoch 13/200\n",
      "25/25 [==============================] - 0s 6ms/step - loss: 0.4007 - accuracy: 0.8065 - val_loss: 0.4892 - val_accuracy: 0.7561\n",
      "Epoch 14/200\n",
      "25/25 [==============================] - 0s 6ms/step - loss: 0.3993 - accuracy: 0.8208 - val_loss: 0.4868 - val_accuracy: 0.7317\n",
      "Epoch 15/200\n",
      "25/25 [==============================] - 0s 6ms/step - loss: 0.3909 - accuracy: 0.8167 - val_loss: 0.5084 - val_accuracy: 0.7317\n",
      "Epoch 16/200\n",
      "25/25 [==============================] - 0s 6ms/step - loss: 0.3941 - accuracy: 0.8106 - val_loss: 0.5087 - val_accuracy: 0.7236\n",
      "Epoch 17/200\n",
      "25/25 [==============================] - 0s 7ms/step - loss: 0.4066 - accuracy: 0.8187 - val_loss: 0.5165 - val_accuracy: 0.7236\n",
      "Epoch 18/200\n",
      "25/25 [==============================] - 0s 7ms/step - loss: 0.3790 - accuracy: 0.8208 - val_loss: 0.4965 - val_accuracy: 0.7561\n",
      "Epoch 19/200\n",
      "25/25 [==============================] - 0s 6ms/step - loss: 0.3851 - accuracy: 0.8269 - val_loss: 0.5109 - val_accuracy: 0.7236\n",
      "Epoch 20/200\n",
      "25/25 [==============================] - 0s 6ms/step - loss: 0.3761 - accuracy: 0.8391 - val_loss: 0.5185 - val_accuracy: 0.7398\n",
      "Epoch 21/200\n",
      "25/25 [==============================] - 0s 6ms/step - loss: 0.3713 - accuracy: 0.8330 - val_loss: 0.5145 - val_accuracy: 0.7561\n",
      "Epoch 22/200\n",
      "25/25 [==============================] - 0s 6ms/step - loss: 0.3689 - accuracy: 0.8371 - val_loss: 0.5063 - val_accuracy: 0.7480\n",
      "Epoch 23/200\n",
      "25/25 [==============================] - 0s 6ms/step - loss: 0.3511 - accuracy: 0.8513 - val_loss: 0.5552 - val_accuracy: 0.7154\n",
      "Epoch 24/200\n",
      "25/25 [==============================] - 0s 6ms/step - loss: 0.3435 - accuracy: 0.8473 - val_loss: 0.5368 - val_accuracy: 0.7317\n",
      "Epoch 25/200\n",
      "25/25 [==============================] - 0s 6ms/step - loss: 0.3433 - accuracy: 0.8473 - val_loss: 0.5322 - val_accuracy: 0.7154\n",
      "Epoch 26/200\n",
      "25/25 [==============================] - 0s 6ms/step - loss: 0.3343 - accuracy: 0.8656 - val_loss: 0.5424 - val_accuracy: 0.7236\n",
      "Epoch 27/200\n",
      "25/25 [==============================] - 0s 6ms/step - loss: 0.3237 - accuracy: 0.8574 - val_loss: 0.5673 - val_accuracy: 0.7154\n",
      "Epoch 28/200\n",
      "25/25 [==============================] - 0s 6ms/step - loss: 0.3349 - accuracy: 0.8574 - val_loss: 0.5541 - val_accuracy: 0.7236\n",
      "Epoch 29/200\n",
      "25/25 [==============================] - 0s 6ms/step - loss: 0.3383 - accuracy: 0.8635 - val_loss: 0.5505 - val_accuracy: 0.7317\n",
      "Epoch 30/200\n",
      "25/25 [==============================] - 0s 6ms/step - loss: 0.3270 - accuracy: 0.8635 - val_loss: 0.5875 - val_accuracy: 0.6911\n",
      "Epoch 31/200\n",
      "25/25 [==============================] - 0s 6ms/step - loss: 0.3119 - accuracy: 0.8758 - val_loss: 0.5691 - val_accuracy: 0.7073\n",
      "Epoch 32/200\n",
      "25/25 [==============================] - 0s 7ms/step - loss: 0.3066 - accuracy: 0.8758 - val_loss: 0.5943 - val_accuracy: 0.7073\n",
      "Epoch 33/200\n",
      "25/25 [==============================] - 0s 6ms/step - loss: 0.3043 - accuracy: 0.8676 - val_loss: 0.5767 - val_accuracy: 0.7398\n",
      "Epoch 34/200\n",
      "25/25 [==============================] - 0s 6ms/step - loss: 0.3151 - accuracy: 0.8839 - val_loss: 0.5895 - val_accuracy: 0.7317\n",
      "Epoch 35/200\n",
      "25/25 [==============================] - 0s 6ms/step - loss: 0.3054 - accuracy: 0.8880 - val_loss: 0.6341 - val_accuracy: 0.7236\n",
      "Epoch 36/200\n",
      "25/25 [==============================] - 0s 6ms/step - loss: 0.2926 - accuracy: 0.8839 - val_loss: 0.5928 - val_accuracy: 0.7236\n",
      "Epoch 37/200\n",
      "25/25 [==============================] - 0s 6ms/step - loss: 0.2755 - accuracy: 0.8941 - val_loss: 0.6236 - val_accuracy: 0.7480\n",
      "Epoch 38/200\n",
      "25/25 [==============================] - 0s 7ms/step - loss: 0.2877 - accuracy: 0.8859 - val_loss: 0.6212 - val_accuracy: 0.7154\n",
      "Epoch 39/200\n",
      "25/25 [==============================] - 0s 6ms/step - loss: 0.2554 - accuracy: 0.8961 - val_loss: 0.6592 - val_accuracy: 0.7236\n",
      "Epoch 40/200\n",
      "25/25 [==============================] - 0s 6ms/step - loss: 0.2722 - accuracy: 0.8921 - val_loss: 0.6436 - val_accuracy: 0.7073\n",
      "Epoch 41/200\n",
      "25/25 [==============================] - 0s 6ms/step - loss: 0.2581 - accuracy: 0.9043 - val_loss: 0.6405 - val_accuracy: 0.7398\n",
      "Epoch 42/200\n",
      "25/25 [==============================] - 0s 6ms/step - loss: 0.2578 - accuracy: 0.8982 - val_loss: 0.6700 - val_accuracy: 0.7480\n",
      "Epoch 43/200\n",
      "25/25 [==============================] - 0s 6ms/step - loss: 0.2487 - accuracy: 0.9002 - val_loss: 0.6643 - val_accuracy: 0.7236\n",
      "Epoch 44/200\n",
      "25/25 [==============================] - 0s 7ms/step - loss: 0.2560 - accuracy: 0.9084 - val_loss: 0.6656 - val_accuracy: 0.7236\n",
      "Epoch 45/200\n",
      "25/25 [==============================] - 0s 8ms/step - loss: 0.2366 - accuracy: 0.9124 - val_loss: 0.6478 - val_accuracy: 0.7317\n",
      "Epoch 46/200\n",
      "25/25 [==============================] - 0s 7ms/step - loss: 0.2380 - accuracy: 0.9022 - val_loss: 0.7152 - val_accuracy: 0.6992\n",
      "Epoch 47/200\n",
      "25/25 [==============================] - 0s 6ms/step - loss: 0.2205 - accuracy: 0.9084 - val_loss: 0.7093 - val_accuracy: 0.7642\n",
      "Epoch 48/200\n",
      "25/25 [==============================] - 0s 5ms/step - loss: 0.2163 - accuracy: 0.9226 - val_loss: 0.6999 - val_accuracy: 0.7236\n",
      "Epoch 49/200\n",
      "25/25 [==============================] - 0s 5ms/step - loss: 0.2238 - accuracy: 0.9104 - val_loss: 0.7546 - val_accuracy: 0.7236\n",
      "Epoch 50/200\n",
      "25/25 [==============================] - 0s 6ms/step - loss: 0.1944 - accuracy: 0.9369 - val_loss: 0.7749 - val_accuracy: 0.7154\n",
      "Epoch 51/200\n",
      "25/25 [==============================] - 0s 5ms/step - loss: 0.2055 - accuracy: 0.9226 - val_loss: 0.7735 - val_accuracy: 0.7236\n",
      "Epoch 52/200\n",
      "25/25 [==============================] - 0s 5ms/step - loss: 0.1982 - accuracy: 0.9287 - val_loss: 0.7513 - val_accuracy: 0.7317\n",
      "Epoch 53/200\n",
      "25/25 [==============================] - 0s 5ms/step - loss: 0.2177 - accuracy: 0.9206 - val_loss: 0.7973 - val_accuracy: 0.7154\n",
      "Epoch 54/200\n",
      "25/25 [==============================] - 0s 6ms/step - loss: 0.1980 - accuracy: 0.9308 - val_loss: 0.7683 - val_accuracy: 0.7480\n",
      "Epoch 55/200\n",
      "25/25 [==============================] - 0s 6ms/step - loss: 0.1924 - accuracy: 0.9328 - val_loss: 0.7865 - val_accuracy: 0.7236\n",
      "Epoch 56/200\n",
      "25/25 [==============================] - 0s 5ms/step - loss: 0.1864 - accuracy: 0.9450 - val_loss: 0.7827 - val_accuracy: 0.7398\n",
      "Epoch 57/200\n",
      "25/25 [==============================] - 0s 6ms/step - loss: 0.1934 - accuracy: 0.9287 - val_loss: 0.8528 - val_accuracy: 0.6911\n",
      "Epoch 58/200\n",
      "25/25 [==============================] - 0s 5ms/step - loss: 0.1934 - accuracy: 0.9267 - val_loss: 0.7857 - val_accuracy: 0.7317\n"
     ]
    },
    {
     "name": "stdout",
     "output_type": "stream",
     "text": [
      "Epoch 59/200\n",
      "25/25 [==============================] - 0s 6ms/step - loss: 0.1728 - accuracy: 0.9389 - val_loss: 0.8220 - val_accuracy: 0.7317\n",
      "Epoch 60/200\n",
      "25/25 [==============================] - 0s 5ms/step - loss: 0.1790 - accuracy: 0.9328 - val_loss: 0.8322 - val_accuracy: 0.7317\n",
      "Epoch 61/200\n",
      "25/25 [==============================] - 0s 6ms/step - loss: 0.1777 - accuracy: 0.9267 - val_loss: 0.8945 - val_accuracy: 0.6911\n",
      "Epoch 62/200\n",
      "25/25 [==============================] - 0s 6ms/step - loss: 0.1558 - accuracy: 0.9572 - val_loss: 0.8939 - val_accuracy: 0.7073\n",
      "Epoch 63/200\n",
      "25/25 [==============================] - 0s 6ms/step - loss: 0.1597 - accuracy: 0.9430 - val_loss: 0.8919 - val_accuracy: 0.7398\n",
      "Epoch 64/200\n",
      "25/25 [==============================] - 0s 7ms/step - loss: 0.1330 - accuracy: 0.9593 - val_loss: 0.9107 - val_accuracy: 0.7561\n",
      "Epoch 65/200\n",
      "25/25 [==============================] - 0s 8ms/step - loss: 0.1645 - accuracy: 0.9328 - val_loss: 0.9081 - val_accuracy: 0.7073\n",
      "Epoch 66/200\n",
      "25/25 [==============================] - 0s 6ms/step - loss: 0.1341 - accuracy: 0.9593 - val_loss: 0.9645 - val_accuracy: 0.7317\n",
      "Epoch 67/200\n",
      "25/25 [==============================] - 0s 5ms/step - loss: 0.1549 - accuracy: 0.9450 - val_loss: 0.9460 - val_accuracy: 0.7642\n",
      "Epoch 68/200\n",
      "25/25 [==============================] - 0s 6ms/step - loss: 0.1327 - accuracy: 0.9470 - val_loss: 0.9685 - val_accuracy: 0.7398\n",
      "Epoch 69/200\n",
      "25/25 [==============================] - 0s 6ms/step - loss: 0.1318 - accuracy: 0.9613 - val_loss: 0.9577 - val_accuracy: 0.7398\n",
      "Epoch 70/200\n",
      "25/25 [==============================] - 0s 6ms/step - loss: 0.1470 - accuracy: 0.9369 - val_loss: 0.9823 - val_accuracy: 0.6992\n",
      "Epoch 71/200\n",
      "25/25 [==============================] - 0s 6ms/step - loss: 0.1391 - accuracy: 0.9532 - val_loss: 0.9826 - val_accuracy: 0.7073\n",
      "Epoch 72/200\n",
      "25/25 [==============================] - 0s 7ms/step - loss: 0.1225 - accuracy: 0.9470 - val_loss: 1.0682 - val_accuracy: 0.7398\n",
      "Epoch 73/200\n",
      "25/25 [==============================] - 0s 6ms/step - loss: 0.1305 - accuracy: 0.9532 - val_loss: 0.9932 - val_accuracy: 0.7236\n",
      "Epoch 74/200\n",
      "25/25 [==============================] - 0s 5ms/step - loss: 0.1209 - accuracy: 0.9491 - val_loss: 0.9942 - val_accuracy: 0.6992\n",
      "Epoch 75/200\n",
      "25/25 [==============================] - 0s 6ms/step - loss: 0.1208 - accuracy: 0.9532 - val_loss: 1.0605 - val_accuracy: 0.7236\n",
      "Epoch 76/200\n",
      "25/25 [==============================] - 0s 6ms/step - loss: 0.1198 - accuracy: 0.9470 - val_loss: 1.0996 - val_accuracy: 0.7236\n",
      "Epoch 77/200\n",
      "25/25 [==============================] - 0s 6ms/step - loss: 0.1408 - accuracy: 0.9430 - val_loss: 1.1172 - val_accuracy: 0.7073\n",
      "Epoch 78/200\n",
      "25/25 [==============================] - 0s 6ms/step - loss: 0.1131 - accuracy: 0.9552 - val_loss: 1.0096 - val_accuracy: 0.7480\n",
      "Epoch 79/200\n",
      "25/25 [==============================] - 0s 6ms/step - loss: 0.1130 - accuracy: 0.9552 - val_loss: 1.0461 - val_accuracy: 0.7480\n",
      "Epoch 80/200\n",
      "25/25 [==============================] - 0s 6ms/step - loss: 0.1142 - accuracy: 0.9511 - val_loss: 1.0722 - val_accuracy: 0.7317\n",
      "Epoch 81/200\n",
      "25/25 [==============================] - 0s 6ms/step - loss: 0.0943 - accuracy: 0.9756 - val_loss: 1.1351 - val_accuracy: 0.7154\n",
      "Epoch 82/200\n",
      "25/25 [==============================] - 0s 6ms/step - loss: 0.0995 - accuracy: 0.9654 - val_loss: 1.1681 - val_accuracy: 0.7236\n",
      "Epoch 83/200\n",
      "25/25 [==============================] - 0s 6ms/step - loss: 0.1075 - accuracy: 0.9511 - val_loss: 1.0900 - val_accuracy: 0.7317\n",
      "Epoch 84/200\n",
      "25/25 [==============================] - 0s 6ms/step - loss: 0.1178 - accuracy: 0.9552 - val_loss: 1.1015 - val_accuracy: 0.6992\n",
      "Epoch 85/200\n",
      "25/25 [==============================] - 0s 6ms/step - loss: 0.1023 - accuracy: 0.9613 - val_loss: 1.1799 - val_accuracy: 0.7317\n",
      "Epoch 86/200\n",
      "25/25 [==============================] - 0s 6ms/step - loss: 0.0993 - accuracy: 0.9633 - val_loss: 1.1405 - val_accuracy: 0.7317\n",
      "Epoch 87/200\n",
      "25/25 [==============================] - 0s 6ms/step - loss: 0.1128 - accuracy: 0.9633 - val_loss: 1.1484 - val_accuracy: 0.7317\n",
      "Epoch 88/200\n",
      "25/25 [==============================] - 0s 6ms/step - loss: 0.0910 - accuracy: 0.9674 - val_loss: 1.2619 - val_accuracy: 0.7236\n",
      "Epoch 89/200\n",
      "25/25 [==============================] - 0s 6ms/step - loss: 0.0913 - accuracy: 0.9654 - val_loss: 1.2366 - val_accuracy: 0.7398\n",
      "Epoch 90/200\n",
      "25/25 [==============================] - 0s 5ms/step - loss: 0.0943 - accuracy: 0.9613 - val_loss: 1.2934 - val_accuracy: 0.7154\n",
      "Epoch 91/200\n",
      "25/25 [==============================] - 0s 6ms/step - loss: 0.0707 - accuracy: 0.9735 - val_loss: 1.3043 - val_accuracy: 0.7317\n",
      "Epoch 92/200\n",
      "25/25 [==============================] - 0s 6ms/step - loss: 0.0737 - accuracy: 0.9796 - val_loss: 1.3271 - val_accuracy: 0.7073\n",
      "Epoch 93/200\n",
      "25/25 [==============================] - 0s 6ms/step - loss: 0.0959 - accuracy: 0.9613 - val_loss: 1.4543 - val_accuracy: 0.7317\n",
      "Epoch 94/200\n",
      "25/25 [==============================] - 0s 6ms/step - loss: 0.0840 - accuracy: 0.9735 - val_loss: 1.4301 - val_accuracy: 0.6911\n",
      "Epoch 95/200\n",
      "25/25 [==============================] - 0s 7ms/step - loss: 0.0789 - accuracy: 0.9715 - val_loss: 1.2986 - val_accuracy: 0.7398\n",
      "Epoch 96/200\n",
      "25/25 [==============================] - 0s 7ms/step - loss: 0.0634 - accuracy: 0.9796 - val_loss: 1.3585 - val_accuracy: 0.7398\n",
      "Epoch 97/200\n",
      "25/25 [==============================] - 0s 7ms/step - loss: 0.0778 - accuracy: 0.9878 - val_loss: 1.3261 - val_accuracy: 0.7480\n",
      "Epoch 98/200\n",
      "25/25 [==============================] - 0s 6ms/step - loss: 0.0916 - accuracy: 0.9715 - val_loss: 1.4621 - val_accuracy: 0.7236\n",
      "Epoch 99/200\n",
      "25/25 [==============================] - 0s 6ms/step - loss: 0.0691 - accuracy: 0.9756 - val_loss: 1.3871 - val_accuracy: 0.7398\n",
      "Epoch 100/200\n",
      "25/25 [==============================] - 0s 6ms/step - loss: 0.0734 - accuracy: 0.9633 - val_loss: 1.3625 - val_accuracy: 0.7317\n",
      "Epoch 101/200\n",
      "25/25 [==============================] - 0s 6ms/step - loss: 0.0710 - accuracy: 0.9796 - val_loss: 1.3254 - val_accuracy: 0.7398\n",
      "Epoch 102/200\n",
      "25/25 [==============================] - 0s 6ms/step - loss: 0.0970 - accuracy: 0.9654 - val_loss: 1.2791 - val_accuracy: 0.6829\n",
      "Epoch 103/200\n",
      "25/25 [==============================] - 0s 6ms/step - loss: 0.0725 - accuracy: 0.9756 - val_loss: 1.4086 - val_accuracy: 0.7398\n",
      "Epoch 104/200\n",
      "25/25 [==============================] - 0s 6ms/step - loss: 0.0722 - accuracy: 0.9735 - val_loss: 1.3638 - val_accuracy: 0.7317\n",
      "Epoch 105/200\n",
      "25/25 [==============================] - 0s 6ms/step - loss: 0.0516 - accuracy: 0.9857 - val_loss: 1.5018 - val_accuracy: 0.7073\n",
      "Epoch 106/200\n",
      "25/25 [==============================] - 0s 7ms/step - loss: 0.0662 - accuracy: 0.9796 - val_loss: 1.4746 - val_accuracy: 0.7073\n",
      "Epoch 107/200\n",
      "25/25 [==============================] - 0s 6ms/step - loss: 0.0655 - accuracy: 0.9756 - val_loss: 1.4517 - val_accuracy: 0.6992\n",
      "Epoch 108/200\n",
      "25/25 [==============================] - 0s 6ms/step - loss: 0.0605 - accuracy: 0.9817 - val_loss: 1.5051 - val_accuracy: 0.7073\n",
      "Epoch 109/200\n",
      "25/25 [==============================] - 0s 6ms/step - loss: 0.0562 - accuracy: 0.9756 - val_loss: 1.4505 - val_accuracy: 0.7236\n",
      "Epoch 110/200\n",
      "25/25 [==============================] - 0s 6ms/step - loss: 0.0425 - accuracy: 0.9837 - val_loss: 1.5433 - val_accuracy: 0.7154\n",
      "Epoch 111/200\n",
      "25/25 [==============================] - 0s 7ms/step - loss: 0.0550 - accuracy: 0.9796 - val_loss: 1.5866 - val_accuracy: 0.7398\n",
      "Epoch 112/200\n",
      "25/25 [==============================] - 0s 7ms/step - loss: 0.0804 - accuracy: 0.9756 - val_loss: 1.4420 - val_accuracy: 0.7480\n",
      "Epoch 113/200\n",
      "25/25 [==============================] - 0s 6ms/step - loss: 0.0609 - accuracy: 0.9776 - val_loss: 1.4815 - val_accuracy: 0.7154\n",
      "Epoch 114/200\n",
      "25/25 [==============================] - 0s 6ms/step - loss: 0.0503 - accuracy: 0.9817 - val_loss: 1.5354 - val_accuracy: 0.7154\n",
      "Epoch 115/200\n",
      "25/25 [==============================] - 0s 6ms/step - loss: 0.0446 - accuracy: 0.9898 - val_loss: 1.5365 - val_accuracy: 0.7480\n",
      "Epoch 116/200\n"
     ]
    },
    {
     "name": "stdout",
     "output_type": "stream",
     "text": [
      "25/25 [==============================] - 0s 6ms/step - loss: 0.0589 - accuracy: 0.9837 - val_loss: 1.5348 - val_accuracy: 0.7317\n",
      "Epoch 117/200\n",
      "25/25 [==============================] - 0s 6ms/step - loss: 0.0883 - accuracy: 0.9776 - val_loss: 1.5799 - val_accuracy: 0.7154\n",
      "Epoch 118/200\n",
      "25/25 [==============================] - 0s 6ms/step - loss: 0.0712 - accuracy: 0.9796 - val_loss: 1.4801 - val_accuracy: 0.7236\n",
      "Epoch 119/200\n",
      "25/25 [==============================] - 0s 6ms/step - loss: 0.0480 - accuracy: 0.9878 - val_loss: 1.6032 - val_accuracy: 0.7317\n",
      "Epoch 120/200\n",
      "25/25 [==============================] - 0s 6ms/step - loss: 0.1015 - accuracy: 0.9593 - val_loss: 1.5290 - val_accuracy: 0.6423\n",
      "Epoch 121/200\n",
      "25/25 [==============================] - 0s 6ms/step - loss: 0.0787 - accuracy: 0.9654 - val_loss: 1.5158 - val_accuracy: 0.7317\n",
      "Epoch 122/200\n",
      "25/25 [==============================] - 0s 6ms/step - loss: 0.0948 - accuracy: 0.9593 - val_loss: 1.4362 - val_accuracy: 0.7480\n",
      "Epoch 123/200\n",
      "25/25 [==============================] - 0s 6ms/step - loss: 0.0522 - accuracy: 0.9919 - val_loss: 1.5851 - val_accuracy: 0.7480\n",
      "Epoch 124/200\n",
      "25/25 [==============================] - 0s 6ms/step - loss: 0.0535 - accuracy: 0.9817 - val_loss: 1.5136 - val_accuracy: 0.7398\n",
      "Epoch 125/200\n",
      "25/25 [==============================] - 0s 7ms/step - loss: 0.0609 - accuracy: 0.9776 - val_loss: 1.5461 - val_accuracy: 0.7317\n",
      "Epoch 126/200\n",
      "25/25 [==============================] - 0s 8ms/step - loss: 0.0467 - accuracy: 0.9878 - val_loss: 1.6880 - val_accuracy: 0.7480\n",
      "Epoch 127/200\n",
      "25/25 [==============================] - 0s 8ms/step - loss: 0.0508 - accuracy: 0.9857 - val_loss: 1.4670 - val_accuracy: 0.7317\n",
      "Epoch 128/200\n",
      "25/25 [==============================] - 0s 6ms/step - loss: 0.0380 - accuracy: 0.9898 - val_loss: 1.5974 - val_accuracy: 0.6992\n",
      "Epoch 129/200\n",
      "25/25 [==============================] - 0s 6ms/step - loss: 0.0442 - accuracy: 0.9898 - val_loss: 1.5617 - val_accuracy: 0.7317\n",
      "Epoch 130/200\n",
      "25/25 [==============================] - 0s 6ms/step - loss: 0.0528 - accuracy: 0.9776 - val_loss: 1.5950 - val_accuracy: 0.6992\n",
      "Epoch 131/200\n",
      "25/25 [==============================] - 0s 7ms/step - loss: 0.0429 - accuracy: 0.9817 - val_loss: 1.7261 - val_accuracy: 0.6992\n",
      "Epoch 132/200\n",
      "25/25 [==============================] - 0s 6ms/step - loss: 0.0597 - accuracy: 0.9756 - val_loss: 1.7044 - val_accuracy: 0.7317\n",
      "Epoch 133/200\n",
      "25/25 [==============================] - 0s 5ms/step - loss: 0.0471 - accuracy: 0.9817 - val_loss: 1.8636 - val_accuracy: 0.7398\n",
      "Epoch 134/200\n",
      "25/25 [==============================] - 0s 6ms/step - loss: 0.0695 - accuracy: 0.9756 - val_loss: 1.6644 - val_accuracy: 0.6829\n",
      "Epoch 135/200\n",
      "25/25 [==============================] - 0s 6ms/step - loss: 0.0440 - accuracy: 0.9837 - val_loss: 1.7081 - val_accuracy: 0.7154\n",
      "Epoch 136/200\n",
      "25/25 [==============================] - 0s 6ms/step - loss: 0.0453 - accuracy: 0.9817 - val_loss: 1.6981 - val_accuracy: 0.7154\n",
      "Epoch 137/200\n",
      "25/25 [==============================] - 0s 7ms/step - loss: 0.0458 - accuracy: 0.9878 - val_loss: 1.7382 - val_accuracy: 0.7317\n",
      "Epoch 138/200\n",
      "25/25 [==============================] - 0s 7ms/step - loss: 0.0395 - accuracy: 0.9898 - val_loss: 1.7180 - val_accuracy: 0.7480\n",
      "Epoch 139/200\n",
      "25/25 [==============================] - 0s 6ms/step - loss: 0.0380 - accuracy: 0.9857 - val_loss: 1.7209 - val_accuracy: 0.7236\n",
      "Epoch 140/200\n",
      "25/25 [==============================] - 0s 7ms/step - loss: 0.0382 - accuracy: 0.9898 - val_loss: 1.7054 - val_accuracy: 0.7317\n",
      "Epoch 141/200\n",
      "25/25 [==============================] - 0s 6ms/step - loss: 0.0317 - accuracy: 0.9919 - val_loss: 1.8784 - val_accuracy: 0.7317\n",
      "Epoch 142/200\n",
      "25/25 [==============================] - 0s 5ms/step - loss: 0.0340 - accuracy: 0.9857 - val_loss: 1.6512 - val_accuracy: 0.6992\n",
      "Epoch 143/200\n",
      "25/25 [==============================] - 0s 6ms/step - loss: 0.0288 - accuracy: 0.9919 - val_loss: 1.7015 - val_accuracy: 0.7480\n",
      "Epoch 144/200\n",
      "25/25 [==============================] - 0s 6ms/step - loss: 0.0178 - accuracy: 0.9959 - val_loss: 1.8153 - val_accuracy: 0.7561\n",
      "Epoch 145/200\n",
      "25/25 [==============================] - 0s 6ms/step - loss: 0.0194 - accuracy: 0.9980 - val_loss: 1.8309 - val_accuracy: 0.7561\n",
      "Epoch 146/200\n",
      "25/25 [==============================] - 0s 6ms/step - loss: 0.0255 - accuracy: 0.9878 - val_loss: 1.7680 - val_accuracy: 0.7561\n",
      "Epoch 147/200\n",
      "25/25 [==============================] - 0s 6ms/step - loss: 0.0317 - accuracy: 0.9919 - val_loss: 1.9634 - val_accuracy: 0.7317\n",
      "Epoch 148/200\n",
      "25/25 [==============================] - 0s 5ms/step - loss: 0.0275 - accuracy: 0.9898 - val_loss: 1.8978 - val_accuracy: 0.7317\n",
      "Epoch 149/200\n",
      "25/25 [==============================] - 0s 6ms/step - loss: 0.0224 - accuracy: 0.9919 - val_loss: 1.8839 - val_accuracy: 0.7317\n",
      "Epoch 150/200\n",
      "25/25 [==============================] - 0s 6ms/step - loss: 0.0204 - accuracy: 0.9959 - val_loss: 1.9418 - val_accuracy: 0.7236\n",
      "Epoch 151/200\n",
      "25/25 [==============================] - 0s 6ms/step - loss: 0.0215 - accuracy: 0.9898 - val_loss: 1.9849 - val_accuracy: 0.7317\n",
      "Epoch 152/200\n",
      "25/25 [==============================] - 0s 6ms/step - loss: 0.0143 - accuracy: 0.9959 - val_loss: 2.0719 - val_accuracy: 0.7236\n",
      "Epoch 153/200\n",
      "25/25 [==============================] - 0s 6ms/step - loss: 0.0305 - accuracy: 0.9939 - val_loss: 2.0357 - val_accuracy: 0.7480\n",
      "Epoch 154/200\n",
      "25/25 [==============================] - 0s 6ms/step - loss: 0.0259 - accuracy: 0.9939 - val_loss: 2.0249 - val_accuracy: 0.7317\n",
      "Epoch 155/200\n",
      "25/25 [==============================] - 0s 6ms/step - loss: 0.0195 - accuracy: 0.9980 - val_loss: 2.0737 - val_accuracy: 0.7480\n",
      "Epoch 156/200\n",
      "25/25 [==============================] - 0s 6ms/step - loss: 0.0185 - accuracy: 0.9959 - val_loss: 2.0990 - val_accuracy: 0.7073\n",
      "Epoch 157/200\n",
      "25/25 [==============================] - 0s 6ms/step - loss: 0.0538 - accuracy: 0.9857 - val_loss: 2.1901 - val_accuracy: 0.7073\n",
      "Epoch 158/200\n",
      "25/25 [==============================] - 0s 6ms/step - loss: 0.0321 - accuracy: 0.9898 - val_loss: 2.0493 - val_accuracy: 0.7236\n",
      "Epoch 159/200\n",
      "25/25 [==============================] - 0s 7ms/step - loss: 0.0227 - accuracy: 0.9939 - val_loss: 2.0517 - val_accuracy: 0.7236\n",
      "Epoch 160/200\n",
      "25/25 [==============================] - 0s 7ms/step - loss: 0.0300 - accuracy: 0.9939 - val_loss: 2.0902 - val_accuracy: 0.7398\n",
      "Epoch 161/200\n",
      "25/25 [==============================] - 0s 6ms/step - loss: 0.0331 - accuracy: 0.9959 - val_loss: 2.0091 - val_accuracy: 0.7480\n",
      "Epoch 162/200\n",
      "25/25 [==============================] - 0s 6ms/step - loss: 0.0338 - accuracy: 0.9919 - val_loss: 2.0554 - val_accuracy: 0.7398\n",
      "Epoch 163/200\n",
      "25/25 [==============================] - 0s 5ms/step - loss: 0.0295 - accuracy: 0.9919 - val_loss: 2.0005 - val_accuracy: 0.7073\n",
      "Epoch 164/200\n",
      "25/25 [==============================] - 0s 6ms/step - loss: 0.0301 - accuracy: 0.9878 - val_loss: 2.0925 - val_accuracy: 0.7236\n",
      "Epoch 165/200\n",
      "25/25 [==============================] - 0s 5ms/step - loss: 0.0397 - accuracy: 0.9857 - val_loss: 1.9919 - val_accuracy: 0.6992\n",
      "Epoch 166/200\n",
      "25/25 [==============================] - 0s 6ms/step - loss: 0.0323 - accuracy: 0.9878 - val_loss: 1.8839 - val_accuracy: 0.7480\n",
      "Epoch 167/200\n",
      "25/25 [==============================] - 0s 6ms/step - loss: 0.0328 - accuracy: 0.9878 - val_loss: 1.9047 - val_accuracy: 0.6829\n",
      "Epoch 168/200\n",
      "25/25 [==============================] - 0s 6ms/step - loss: 0.0513 - accuracy: 0.9919 - val_loss: 1.9207 - val_accuracy: 0.7480\n",
      "Epoch 169/200\n",
      "25/25 [==============================] - 0s 6ms/step - loss: 0.0214 - accuracy: 0.9898 - val_loss: 1.9871 - val_accuracy: 0.7073\n",
      "Epoch 170/200\n",
      "25/25 [==============================] - 0s 6ms/step - loss: 0.0220 - accuracy: 0.9939 - val_loss: 1.9301 - val_accuracy: 0.7236\n",
      "Epoch 171/200\n",
      "25/25 [==============================] - 0s 6ms/step - loss: 0.0369 - accuracy: 0.9837 - val_loss: 2.0210 - val_accuracy: 0.7317\n",
      "Epoch 172/200\n",
      "25/25 [==============================] - 0s 6ms/step - loss: 0.0348 - accuracy: 0.9857 - val_loss: 1.9316 - val_accuracy: 0.7236\n",
      "Epoch 173/200\n"
     ]
    },
    {
     "name": "stdout",
     "output_type": "stream",
     "text": [
      "25/25 [==============================] - 0s 7ms/step - loss: 0.0342 - accuracy: 0.9857 - val_loss: 2.0506 - val_accuracy: 0.7154\n",
      "Epoch 174/200\n",
      "25/25 [==============================] - 0s 6ms/step - loss: 0.0510 - accuracy: 0.9817 - val_loss: 1.9817 - val_accuracy: 0.7154\n",
      "Epoch 175/200\n",
      "25/25 [==============================] - 0s 7ms/step - loss: 0.0487 - accuracy: 0.9796 - val_loss: 1.8936 - val_accuracy: 0.7398\n",
      "Epoch 176/200\n",
      "25/25 [==============================] - 0s 6ms/step - loss: 0.0448 - accuracy: 0.9796 - val_loss: 1.9814 - val_accuracy: 0.7317\n",
      "Epoch 177/200\n",
      "25/25 [==============================] - 0s 6ms/step - loss: 0.0640 - accuracy: 0.9817 - val_loss: 2.0575 - val_accuracy: 0.6911\n",
      "Epoch 178/200\n",
      "25/25 [==============================] - 0s 6ms/step - loss: 0.0855 - accuracy: 0.9654 - val_loss: 2.0747 - val_accuracy: 0.7398\n",
      "Epoch 179/200\n",
      "25/25 [==============================] - 0s 5ms/step - loss: 0.0630 - accuracy: 0.9735 - val_loss: 1.7539 - val_accuracy: 0.7398\n",
      "Epoch 180/200\n",
      "25/25 [==============================] - 0s 6ms/step - loss: 0.0334 - accuracy: 0.9878 - val_loss: 1.9162 - val_accuracy: 0.7317\n",
      "Epoch 181/200\n",
      "25/25 [==============================] - 0s 6ms/step - loss: 0.0287 - accuracy: 0.9898 - val_loss: 1.9715 - val_accuracy: 0.7398\n",
      "Epoch 182/200\n",
      "25/25 [==============================] - 0s 6ms/step - loss: 0.0273 - accuracy: 0.9898 - val_loss: 1.9045 - val_accuracy: 0.7480\n",
      "Epoch 183/200\n",
      "25/25 [==============================] - 0s 6ms/step - loss: 0.0263 - accuracy: 0.9919 - val_loss: 1.8563 - val_accuracy: 0.7561\n",
      "Epoch 184/200\n",
      "25/25 [==============================] - 0s 6ms/step - loss: 0.0177 - accuracy: 0.9919 - val_loss: 1.8464 - val_accuracy: 0.7398\n",
      "Epoch 185/200\n",
      "25/25 [==============================] - 0s 6ms/step - loss: 0.0215 - accuracy: 0.9919 - val_loss: 2.0690 - val_accuracy: 0.7317\n",
      "Epoch 186/200\n",
      "25/25 [==============================] - 0s 7ms/step - loss: 0.0161 - accuracy: 0.9959 - val_loss: 2.1375 - val_accuracy: 0.7561\n",
      "Epoch 187/200\n",
      "25/25 [==============================] - 0s 7ms/step - loss: 0.0099 - accuracy: 0.9980 - val_loss: 2.1381 - val_accuracy: 0.7317\n",
      "Epoch 188/200\n",
      "25/25 [==============================] - 0s 7ms/step - loss: 0.0137 - accuracy: 0.9980 - val_loss: 2.1528 - val_accuracy: 0.7398\n",
      "Epoch 189/200\n",
      "25/25 [==============================] - 0s 6ms/step - loss: 0.0287 - accuracy: 0.9939 - val_loss: 2.1073 - val_accuracy: 0.7480\n",
      "Epoch 190/200\n",
      "25/25 [==============================] - 0s 5ms/step - loss: 0.0212 - accuracy: 0.9919 - val_loss: 2.1838 - val_accuracy: 0.7154\n",
      "Epoch 191/200\n",
      "25/25 [==============================] - 0s 6ms/step - loss: 0.0129 - accuracy: 0.9980 - val_loss: 2.1300 - val_accuracy: 0.6992\n",
      "Epoch 192/200\n",
      "25/25 [==============================] - 0s 6ms/step - loss: 0.0346 - accuracy: 0.9817 - val_loss: 2.2964 - val_accuracy: 0.7236\n",
      "Epoch 193/200\n",
      "25/25 [==============================] - 0s 6ms/step - loss: 0.0771 - accuracy: 0.9837 - val_loss: 2.2323 - val_accuracy: 0.6911\n",
      "Epoch 194/200\n",
      "25/25 [==============================] - 0s 6ms/step - loss: 0.0555 - accuracy: 0.9817 - val_loss: 2.1459 - val_accuracy: 0.7480\n",
      "Epoch 195/200\n",
      "25/25 [==============================] - 0s 6ms/step - loss: 0.0492 - accuracy: 0.9878 - val_loss: 2.0139 - val_accuracy: 0.7073\n",
      "Epoch 196/200\n",
      "25/25 [==============================] - 0s 6ms/step - loss: 0.0264 - accuracy: 0.9919 - val_loss: 2.0460 - val_accuracy: 0.7398\n",
      "Epoch 197/200\n",
      "25/25 [==============================] - 0s 6ms/step - loss: 0.0233 - accuracy: 0.9898 - val_loss: 2.1458 - val_accuracy: 0.7154\n",
      "Epoch 198/200\n",
      "25/25 [==============================] - 0s 6ms/step - loss: 0.0288 - accuracy: 0.9919 - val_loss: 2.0915 - val_accuracy: 0.7317\n",
      "Epoch 199/200\n",
      "25/25 [==============================] - 0s 5ms/step - loss: 0.0246 - accuracy: 0.9878 - val_loss: 2.2111 - val_accuracy: 0.7480\n",
      "Epoch 200/200\n",
      "25/25 [==============================] - 0s 6ms/step - loss: 0.0213 - accuracy: 0.9939 - val_loss: 2.2394 - val_accuracy: 0.7398\n"
     ]
    }
   ],
   "source": [
    "hist = model.fit(x_train, y_train, validation_split=0.2, epochs=200, batch_size=20)"
   ]
  },
  {
   "cell_type": "code",
   "execution_count": 65,
   "id": "de04e663",
   "metadata": {},
   "outputs": [
    {
     "data": {
      "text/plain": [
       "[<matplotlib.lines.Line2D at 0x240136514f0>]"
      ]
     },
     "execution_count": 65,
     "metadata": {},
     "output_type": "execute_result"
    },
    {
     "data": {
      "image/png": "[encoded data removed]",
      "text/plain": [
       "<Figure size 432x288 with 1 Axes>"
      ]
     },
     "metadata": {
      "needs_background": "light"
     },
     "output_type": "display_data"
    }
   ],
   "source": [
    "plt.plot(hist.history['loss'])\n",
    "plt.plot(hist.history['val_loss'])"
   ]
  },
  {
   "cell_type": "code",
   "execution_count": 66,
   "id": "817d5e8f",
   "metadata": {},
   "outputs": [
    {
     "data": {
      "text/plain": [
       "[<matplotlib.lines.Line2D at 0x2401dfcf490>]"
      ]
     },
     "execution_count": 66,
     "metadata": {},
     "output_type": "execute_result"
    },
    {
     "data": {
      "image/png": "[encoded data removed]",
      "text/plain": [
       "<Figure size 432x288 with 1 Axes>"
      ]
     },
     "metadata": {
      "needs_background": "light"
     },
     "output_type": "display_data"
    }
   ],
   "source": [
    "plt.plot(hist.history['accuracy'])\n",
    "plt.plot(hist.history['val_accuracy'])"
   ]
  },
  {
   "cell_type": "code",
   "execution_count": 67,
   "id": "819f4850",
   "metadata": {},
   "outputs": [],
   "source": [
    "pred = model.predict(x_test)"
   ]
  },
  {
   "cell_type": "code",
   "execution_count": 71,
   "id": "f7170d34",
   "metadata": {
    "scrolled": false
   },
   "outputs": [
    {
     "ename": "AttributeError",
     "evalue": "'Sequential' object has no attribute 'score'",
     "output_type": "error",
     "traceback": [
      "\u001b[1;31m---------------------------------------------------------------------------\u001b[0m",
      "\u001b[1;31mAttributeError\u001b[0m                            Traceback (most recent call last)",
      "\u001b[1;32m~\\AppData\\Local\\Temp/ipykernel_12844/1893137252.py\u001b[0m in \u001b[0;36m<module>\u001b[1;34m\u001b[0m\n\u001b[1;32m----> 1\u001b[1;33m \u001b[0mmodel\u001b[0m\u001b[1;33m.\u001b[0m\u001b[0mscore\u001b[0m\u001b[1;33m(\u001b[0m\u001b[0my_test\u001b[0m\u001b[1;33m,\u001b[0m \u001b[0mpred\u001b[0m\u001b[1;33m)\u001b[0m\u001b[1;33m\u001b[0m\u001b[1;33m\u001b[0m\u001b[0m\n\u001b[0m",
      "\u001b[1;31mAttributeError\u001b[0m: 'Sequential' object has no attribute 'score'"
     ]
    }
   ],
   "source": [
    "model.score(y_test, pred)"
   ]
  },
  {
   "cell_type": "code",
   "execution_count": null,
   "id": "576684e3",
   "metadata": {},
   "outputs": [],
   "source": []
  },
  {
   "cell_type": "code",
   "execution_count": null,
   "id": "01f9716b",
   "metadata": {},
   "outputs": [],
   "source": []
  },
  {
   "cell_type": "code",
   "execution_count": null,
   "id": "4bff10bd",
   "metadata": {},
   "outputs": [],
   "source": []
  },
  {
   "cell_type": "code",
   "execution_count": null,
   "id": "eef7772c",
   "metadata": {},
   "outputs": [],
   "source": []
  },
  {
   "cell_type": "code",
   "execution_count": null,
   "id": "962577d6",
   "metadata": {},
   "outputs": [],
   "source": []
  },
  {
   "cell_type": "code",
   "execution_count": null,
   "id": "dae22d2e",
   "metadata": {},
   "outputs": [],
   "source": []
  },
  {
   "cell_type": "code",
   "execution_count": null,
   "id": "3b1ce559",
   "metadata": {},
   "outputs": [],
   "source": []
  },
  {
   "cell_type": "code",
   "execution_count": null,
   "id": "18c971e3",
   "metadata": {},
   "outputs": [],
   "source": []
  },
  {
   "cell_type": "code",
   "execution_count": null,
   "id": "cec83ec4",
   "metadata": {},
   "outputs": [],
   "source": []
  },
  {
   "cell_type": "code",
   "execution_count": null,
   "id": "eddc3555",
   "metadata": {},
   "outputs": [],
   "source": []
  },
  {
   "cell_type": "code",
   "execution_count": null,
   "id": "98cbddb7",
   "metadata": {},
   "outputs": [],
   "source": []
  },
  {
   "cell_type": "code",
   "execution_count": null,
   "id": "0a9490e3",
   "metadata": {},
   "outputs": [],
   "source": []
  },
  {
   "cell_type": "code",
   "execution_count": null,
   "id": "e40bdb6a",
   "metadata": {},
   "outputs": [],
   "source": []
  },
  {
   "cell_type": "code",
   "execution_count": null,
   "id": "f72bd10a",
   "metadata": {},
   "outputs": [],
   "source": []
  },
  {
   "cell_type": "code",
   "execution_count": null,
   "id": "e22ebaaa",
   "metadata": {},
   "outputs": [],
   "source": []
  },
  {
   "cell_type": "code",
   "execution_count": null,
   "id": "4ae21657",
   "metadata": {},
   "outputs": [],
   "source": []
  }
 ],
 "metadata": {
  "kernelspec": {
   "display_name": "Python 3 (ipykernel)",
   "language": "python",
   "name": "python3"
  },
  "language_info": {
   "codemirror_mode": {
    "name": "ipython",
    "version": 3
   },
   "file_extension": ".py",
   "mimetype": "text/x-python",
   "name": "python",
   "nbconvert_exporter": "python",
   "pygments_lexer": "ipython3",
   "version": "3.9.7"
  },
  "varInspector": {
   "cols": {
    "lenName": 16,
    "lenType": 16,
    "lenVar": 40
   },
   "kernels_config": {
    "python": {
     "delete_cmd_postfix": "",
     "delete_cmd_prefix": "del ",
     "library": "var_list.py",
     "varRefreshCmd": "print(var_dic_list())"
    },
    "r": {
     "delete_cmd_postfix": ") ",
     "delete_cmd_prefix": "rm(",
     "library": "var_list.r",
     "varRefreshCmd": "cat(var_dic_list()) "
    }
   },
   "types_to_exclude": [
    "module",
    "function",
    "builtin_function_or_method",
    "instance",
    "_Feature"
   ],
   "window_display": false
  }
 },
 "nbformat": 4,
 "nbformat_minor": 5
}
