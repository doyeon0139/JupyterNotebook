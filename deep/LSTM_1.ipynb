{
 "cells": [
  {
   "cell_type": "code",
   "execution_count": 139,
   "id": "45b22be8",
   "metadata": {},
   "outputs": [],
   "source": [
    "import pandas as pd\n",
    "import numpy as np\n",
    "import matplotlib.pyplot as plt\n",
    "import seaborn as sns"
   ]
  },
  {
   "cell_type": "code",
   "execution_count": 140,
   "id": "50e011ff",
   "metadata": {},
   "outputs": [],
   "source": [
    "from tensorflow.keras.layers import Dense, Dropout, Activation, Embedding, SimpleRNN, LSTM\n",
    "from tensorflow.keras.models import Sequential, load_model, Model\n",
    "from tensorflow.keras.utils import to_categorical\n",
    "from tensorflow import keras\n",
    "from tensorflow.keras.preprocessing.sequence import pad_sequences\n",
    "from tensorflow.keras.datasets import reuters"
   ]
  },
  {
   "cell_type": "code",
   "execution_count": 141,
   "id": "b3b0ea2e",
   "metadata": {},
   "outputs": [],
   "source": [
    "(x_train, y_train), (x_test, y_test) = reuters.load_data(num_words=1000, test_split=0.2)"
   ]
  },
  {
   "cell_type": "code",
   "execution_count": 142,
   "id": "2b74ed99",
   "metadata": {},
   "outputs": [
    {
     "data": {
      "text/plain": [
       "((8982,), (2246,))"
      ]
     },
     "execution_count": 142,
     "metadata": {},
     "output_type": "execute_result"
    }
   ],
   "source": [
    "x_train.shape, x_test.shape"
   ]
  },
  {
   "cell_type": "code",
   "execution_count": 129,
   "id": "61e2a1c4",
   "metadata": {},
   "outputs": [
    {
     "data": {
      "text/plain": [
       "((8982,), (2246,))"
      ]
     },
     "execution_count": 129,
     "metadata": {},
     "output_type": "execute_result"
    }
   ],
   "source": [
    "y_train.shape, y_test.shape"
   ]
  },
  {
   "cell_type": "code",
   "execution_count": 130,
   "id": "2915f24b",
   "metadata": {},
   "outputs": [
    {
     "data": {
      "text/plain": [
       "array([list([1, 2, 2, 8, 43, 10, 447, 5, 25, 207, 270, 5, 2, 111, 16, 369, 186, 90, 67, 7, 89, 5, 19, 102, 6, 19, 124, 15, 90, 67, 84, 22, 482, 26, 7, 48, 4, 49, 8, 864, 39, 209, 154, 6, 151, 6, 83, 11, 15, 22, 155, 11, 15, 7, 48, 9, 2, 2, 504, 6, 258, 6, 272, 11, 15, 22, 134, 44, 11, 15, 16, 8, 197, 2, 90, 67, 52, 29, 209, 30, 32, 132, 6, 109, 15, 17, 12]),\n",
       "       list([1, 2, 699, 2, 2, 56, 2, 2, 9, 56, 2, 2, 81, 5, 2, 57, 366, 737, 132, 20, 2, 7, 2, 49, 2, 2, 2, 2, 699, 2, 8, 7, 10, 241, 16, 855, 129, 231, 783, 5, 4, 587, 2, 2, 2, 775, 7, 48, 34, 191, 44, 35, 2, 505, 17, 12]),\n",
       "       list([1, 53, 12, 284, 15, 14, 272, 26, 53, 959, 32, 818, 15, 14, 272, 26, 39, 684, 70, 11, 14, 12, 2, 18, 180, 183, 187, 70, 11, 14, 102, 32, 11, 29, 53, 44, 704, 15, 14, 19, 758, 15, 53, 959, 47, 2, 15, 14, 19, 132, 15, 39, 965, 32, 11, 14, 147, 72, 11, 180, 183, 187, 44, 11, 14, 102, 19, 11, 123, 186, 90, 67, 960, 4, 78, 13, 68, 467, 511, 110, 59, 89, 90, 67, 2, 55, 2, 92, 617, 80, 2, 46, 905, 220, 13, 4, 346, 48, 235, 629, 5, 211, 5, 2, 7, 2, 81, 5, 187, 11, 15, 9, 2, 201, 5, 47, 2, 18, 478, 2, 5, 2, 7, 232, 2, 71, 5, 160, 63, 11, 9, 2, 81, 5, 102, 59, 11, 17, 12])],\n",
       "      dtype=object)"
      ]
     },
     "execution_count": 130,
     "metadata": {},
     "output_type": "execute_result"
    }
   ],
   "source": [
    "x_train[:3]"
   ]
  },
  {
   "cell_type": "code",
   "execution_count": 131,
   "id": "324b173c",
   "metadata": {},
   "outputs": [
    {
     "data": {
      "text/plain": [
       "array([ 3,  4,  3,  4,  4,  4,  4,  3,  3, 16,  3,  3,  4,  4, 19,  8, 16,\n",
       "        3,  3, 21, 11,  4,  4,  3,  3,  1,  3,  1,  3, 16,  1,  4, 13, 20,\n",
       "        1,  4,  4, 11,  3,  3,  3, 11, 16,  4,  4, 20, 18, 25, 19,  3],\n",
       "      dtype=int64)"
      ]
     },
     "execution_count": 131,
     "metadata": {},
     "output_type": "execute_result"
    }
   ],
   "source": [
    "y_train[:50]"
   ]
  },
  {
   "cell_type": "code",
   "execution_count": 132,
   "id": "1e05175d",
   "metadata": {},
   "outputs": [
    {
     "data": {
      "text/plain": [
       "46"
      ]
     },
     "execution_count": 132,
     "metadata": {},
     "output_type": "execute_result"
    }
   ],
   "source": [
    "np.max(y_train)+1         # 46개의 뉴스 카테고리"
   ]
  },
  {
   "cell_type": "code",
   "execution_count": 133,
   "id": "e721c553",
   "metadata": {},
   "outputs": [],
   "source": [
    "lengths = [len(line) for line in x_train]"
   ]
  },
  {
   "cell_type": "code",
   "execution_count": null,
   "id": "fab463aa",
   "metadata": {},
   "outputs": [],
   "source": []
  },
  {
   "cell_type": "code",
   "execution_count": 134,
   "id": "6a994995",
   "metadata": {
    "scrolled": true
   },
   "outputs": [
    {
     "data": {
      "text/plain": [
       "(array([  4., 250.,  77.,  62.,  74., 166.,  73.,  66., 103.,  93.,  72.,\n",
       "        136.,  93., 134., 108., 132., 206., 130., 123., 190., 117., 103.,\n",
       "        199., 125., 175., 135., 121., 194., 123., 143., 201., 115., 113.,\n",
       "        212., 142., 192., 132., 128., 166.,  81., 102., 125.,  77.,  82.,\n",
       "         85.,  42.,  74.,  37.,  29.,  76.,  28.,  34.,  47.,  35.,  25.,\n",
       "         59.,  23.,  56.,  28.,  34.,  35.,  34.,  29.,  56.,  42.,  34.,\n",
       "         54.,  46.,  57.,  36.,  26.,  41.,  35.,  49.,  55.,  36.,  32.,\n",
       "         53.,  31.,  43.,  33.,  35.,  43.,  22.,  20.,  30.,  30.,  22.,\n",
       "         26.,  35.,  23.,  20.,  19.,  24.,  10.,  10.,  25.,  20.,  17.,\n",
       "         24.,  17.,  28.,  15.,  10.,  27.,  13.,   9.,  28.,  15.,  11.,\n",
       "         18.,  11.,  26.,  16.,  13.,  22.,  11.,  13.,  25.,  13.,  20.,\n",
       "         16.,  23.,  19.,  11.,  17.,  22.,  13.,  10.,  15.,   6.,   9.,\n",
       "          8.,   7.,  10.,   7.,  10.,  11.,   5.,   9.,   9.,   7.,   6.,\n",
       "          6.,   7.,  13.,  11.,   5.,  13.,  11.,  10.,   9.,  13.,   4.,\n",
       "          6.,  11.,   5.,   6.,   2.,  10.,   9.,   7.,   7.,   5.,   9.,\n",
       "          8.,   4.,   5.,   4.,   5.,   9.,   5.,   3.,   6.,   1.,   6.,\n",
       "          8.,   3.,   3.,   9.,   0.,   8.,   6.,   6.,   9.,   3.,   4.,\n",
       "          5.,   6.,   6.,   5.,   6.,   7.,   3.,   5.,  17.,   3.,   5.,\n",
       "         10.,   4.,   2.,   3.,   4.,   2.,   4.,   1.,   6.,   6.,   3.,\n",
       "          6.,   7.,   1.,   7.,   2.,   5.,   3.,   2.,   6.,   3.,   3.,\n",
       "          3.,   4.,   1.,   6.,   1.,   4.,   3.,   3.,   6.,   2.,   0.,\n",
       "          4.,   2.,   1.,   3.,   2.,   7.,   2.,   3.,   2.,   3.,   4.,\n",
       "          3.,   3.,   3.,   8.,   4.,   2.,   4.,   1.,   4.,   3.,   2.,\n",
       "          3.,   2.,   3.,   4.,   2.,   2.,   4.,   6.,   5.,   1.,   1.,\n",
       "          0.,   3.,   2.,   2.,   3.,   7.,   0.,   0.,   2.,   2.,   0.,\n",
       "          3.,   0.,   1.,   4.,   1.,   2.,   2.,   1.,   3.,   3.,   1.,\n",
       "          1.,   2.,   2.,   6.,   4.,   2.,   2.,   4.,   1.,   4.,   2.,\n",
       "          0.,   5.,   0.,   3.,   0.,   0.,   2.,   1.,   4.,   0.,   0.,\n",
       "          3.,   1.,   1.,   3.,   1.,   4.,   0.,   0.,   0.,   0.,   1.,\n",
       "          4.,   2.,   1.,   1.,   2.,   1.,   1.,   2.,   0.,   0.,   2.,\n",
       "          1.,   0.,   1.,   0.,   0.,   0.,   5.,   1.,   2.,   3.,   0.,\n",
       "          0.,   2.,   1.,   2.,   0.,   0.,   1.,   0.,   1.,   1.,   0.,\n",
       "          1.,   2.,   0.,   0.,   2.,   1.,   0.,   1.,   1.,   0.,   1.,\n",
       "          0.,   1.,   0.,   0.,   1.,   1.,   0.,   1.,   0.,   0.,   0.,\n",
       "          1.,   0.,   0.,   1.,   2.,   0.,   0.,   1.,   0.,   0.,   0.,\n",
       "          0.,   0.,   0.,   0.,   0.,   0.,   0.,   0.,   0.,   0.,   0.,\n",
       "          0.,   0.,   0.,   0.,   0.,   0.,   0.,   0.,   0.,   2.,   0.,\n",
       "          0.,   0.,   0.,   0.,   0.,   0.,   0.,   0.,   0.,   0.,   0.,\n",
       "          0.,   0.,   0.,   0.,   0.,   0.,   0.,   0.,   0.,   0.,   0.,\n",
       "          0.,   0.,   1.,   1.,   0.,   0.,   0.,   0.,   0.,   0.,   0.,\n",
       "          1.,   0.,   0.,   0.,   0.,   0.,   0.,   0.,   0.,   0.,   0.,\n",
       "          0.,   0.,   0.,   0.,   0.,   0.,   0.,   0.,   0.,   0.,   0.,\n",
       "          0.,   0.,   0.,   0.,   0.,   0.,   0.,   0.,   0.,   0.,   0.,\n",
       "          0.,   0.,   0.,   0.,   0.,   0.,   0.,   0.,   0.,   0.,   0.,\n",
       "          0.,   0.,   0.,   0.,   0.,   0.,   0.,   0.,   0.,   0.,   0.,\n",
       "          0.,   0.,   0.,   0.,   0.,   0.,   0.,   0.,   0.,   0.,   0.,\n",
       "          0.,   0.,   0.,   0.,   0.,   0.,   0.,   0.,   0.,   0.,   0.,\n",
       "          0.,   0.,   0.,   0.,   0.,   0.,   0.,   0.,   0.,   0.,   0.,\n",
       "          0.,   0.,   0.,   0.,   0.,   0.,   0.,   0.,   0.,   0.,   0.,\n",
       "          0.,   0.,   0.,   0.,   0.,   0.,   0.,   0.,   0.,   0.,   0.,\n",
       "          0.,   0.,   0.,   0.,   0.,   0.,   0.,   0.,   1.,   0.,   0.,\n",
       "          0.,   0.,   0.,   0.,   0.,   0.,   0.,   0.,   0.,   0.,   0.,\n",
       "          0.,   0.,   0.,   0.,   0.,   0.,   0.,   0.,   0.,   0.,   0.,\n",
       "          0.,   0.,   0.,   0.,   0.,   0.,   0.,   0.,   0.,   0.,   0.,\n",
       "          0.,   0.,   0.,   0.,   0.,   0.,   0.,   0.,   0.,   0.,   0.,\n",
       "          0.,   0.,   0.,   0.,   0.,   0.,   0.,   0.,   0.,   0.,   0.,\n",
       "          0.,   0.,   0.,   0.,   0.,   0.,   0.,   0.,   0.,   0.,   0.,\n",
       "          0.,   0.,   0.,   0.,   0.,   0.,   0.,   0.,   0.,   0.,   0.,\n",
       "          0.,   0.,   0.,   0.,   0.,   0.,   0.,   0.,   0.,   0.,   0.,\n",
       "          0.,   0.,   0.,   0.,   0.,   0.,   0.,   0.,   0.,   0.,   0.,\n",
       "          0.,   0.,   0.,   0.,   0.,   0.,   0.,   0.,   0.,   0.,   0.,\n",
       "          0.,   0.,   0.,   0.,   0.,   0.,   0.,   0.,   0.,   0.,   0.,\n",
       "          0.,   0.,   0.,   0.,   0.,   0.,   0.,   0.,   0.,   0.,   0.,\n",
       "          0.,   0.,   0.,   0.,   0.,   0.,   0.,   0.,   0.,   0.,   0.,\n",
       "          0.,   0.,   0.,   0.,   0.,   0.,   0.,   0.,   0.,   0.,   0.,\n",
       "          0.,   0.,   0.,   0.,   0.,   0.,   0.,   0.,   0.,   0.,   0.,\n",
       "          0.,   0.,   0.,   0.,   0.,   0.,   0.,   0.,   0.,   0.,   0.,\n",
       "          0.,   0.,   0.,   0.,   0.,   0.,   0.,   0.,   0.,   0.,   0.,\n",
       "          0.,   0.,   0.,   0.,   0.,   0.,   0.,   0.,   0.,   0.,   0.,\n",
       "          0.,   0.,   0.,   0.,   0.,   0.,   0.,   0.,   0.,   0.,   0.,\n",
       "          0.,   0.,   0.,   0.,   0.,   0.,   0.,   0.,   0.,   0.,   0.,\n",
       "          0.,   0.,   0.,   0.,   0.,   0.,   0.,   0.,   0.,   0.,   0.,\n",
       "          0.,   0.,   0.,   0.,   0.,   0.,   0.,   0.,   0.,   0.,   0.,\n",
       "          0.,   0.,   0.,   0.,   0.,   0.,   0.,   0.,   0.,   0.,   0.,\n",
       "          0.,   0.,   0.,   0.,   0.,   0.,   0.,   0.,   0.,   0.,   0.,\n",
       "          0.,   0.,   0.,   0.,   0.,   0.,   0.,   0.,   0.,   0.,   0.,\n",
       "          0.,   0.,   0.,   0.,   0.,   0.,   0.,   0.,   0.,   0.,   0.,\n",
       "          0.,   0.,   0.,   0.,   0.,   0.,   0.,   0.,   0.,   0.,   0.,\n",
       "          0.,   0.,   0.,   0.,   0.,   0.,   0.,   0.,   0.,   0.,   0.,\n",
       "          0.,   0.,   0.,   0.,   0.,   0.,   0.,   0.,   0.,   0.,   0.,\n",
       "          0.,   0.,   0.,   0.,   0.,   0.,   0.,   0.,   0.,   0.,   0.,\n",
       "          0.,   0.,   0.,   0.,   0.,   0.,   0.,   0.,   0.,   0.,   0.,\n",
       "          0.,   0.,   0.,   0.,   0.,   0.,   0.,   0.,   0.,   0.,   0.,\n",
       "          0.,   0.,   0.,   0.,   0.,   0.,   0.,   0.,   0.,   0.,   0.,\n",
       "          0.,   0.,   0.,   0.,   0.,   0.,   0.,   0.,   0.,   0.,   0.,\n",
       "          0.,   0.,   0.,   0.,   0.,   0.,   0.,   0.,   0.,   1.,   0.,\n",
       "          0.,   0.,   0.,   0.,   0.,   0.,   0.,   0.,   0.,   0.,   0.,\n",
       "          0.,   0.,   0.,   0.,   0.,   0.,   0.,   0.,   0.,   0.,   0.,\n",
       "          0.,   0.,   0.,   0.,   0.,   0.,   0.,   0.,   0.,   0.,   0.,\n",
       "          0.,   0.,   0.,   0.,   0.,   0.,   0.,   0.,   0.,   0.,   0.,\n",
       "          0.,   0.,   0.,   0.,   0.,   0.,   0.,   0.,   0.,   1.]),\n",
       " array([  13.   ,   15.363,   17.726, ..., 2371.274, 2373.637, 2376.   ]),\n",
       " <BarContainer object of 1000 artists>)"
      ]
     },
     "execution_count": 134,
     "metadata": {},
     "output_type": "execute_result"
    },
    {
     "data": {
      "image/png": "[encoded data removed]",
      "text/plain": [
       "<Figure size 432x288 with 1 Axes>"
      ]
     },
     "metadata": {
      "needs_background": "light"
     },
     "output_type": "display_data"
    }
   ],
   "source": [
    "plt.hist(lengths, bins=1000)"
   ]
  },
  {
   "cell_type": "code",
   "execution_count": 135,
   "id": "8f8fa854",
   "metadata": {},
   "outputs": [],
   "source": [
    "x_train_seq = pad_sequences(x_train, maxlen=200) \n",
    "x_test_seq = pad_sequences(x_test, maxlen=200)"
   ]
  },
  {
   "cell_type": "code",
   "execution_count": 136,
   "id": "684ddc9e",
   "metadata": {},
   "outputs": [
    {
     "name": "stdout",
     "output_type": "stream",
     "text": [
      "(8982, 200) (2246, 200)\n"
     ]
    }
   ],
   "source": [
    "print(x_train_seq.shape, x_test_seq.shape)"
   ]
  },
  {
   "cell_type": "code",
   "execution_count": 137,
   "id": "5a6331ba",
   "metadata": {},
   "outputs": [],
   "source": [
    "from tensorflow.keras.utils import to_categorical\n",
    "y_train_oh = to_categorical(y_train) \n",
    "y_test_oh = to_categorical(y_test)"
   ]
  },
  {
   "cell_type": "code",
   "execution_count": 84,
   "id": "9a66ef2e",
   "metadata": {
    "scrolled": true
   },
   "outputs": [
    {
     "data": {
      "text/plain": [
       "(8982, 46)"
      ]
     },
     "execution_count": 84,
     "metadata": {},
     "output_type": "execute_result"
    }
   ],
   "source": [
    "y_train_oh.shape"
   ]
  },
  {
   "cell_type": "code",
   "execution_count": 85,
   "id": "6bc10f6d",
   "metadata": {},
   "outputs": [
    {
     "data": {
      "text/plain": [
       "array([ 3,  4,  3, ..., 25,  3, 25], dtype=int64)"
      ]
     },
     "execution_count": 85,
     "metadata": {},
     "output_type": "execute_result"
    }
   ],
   "source": [
    "y_train"
   ]
  },
  {
   "cell_type": "code",
   "execution_count": 86,
   "id": "5ffd36be",
   "metadata": {},
   "outputs": [
    {
     "name": "stdout",
     "output_type": "stream",
     "text": [
      "Model: \"sequential_8\"\n",
      "_________________________________________________________________\n",
      " Layer (type)                Output Shape              Param #   \n",
      "=================================================================\n",
      " embedding_3 (Embedding)     (None, 200, 30)           30000     \n",
      "                                                                 \n",
      " lstm_6 (LSTM)               (None, 100)               52400     \n",
      "                                                                 \n",
      " dense_8 (Dense)             (None, 46)                4646      \n",
      "                                                                 \n",
      "=================================================================\n",
      "Total params: 87,046\n",
      "Trainable params: 87,046\n",
      "Non-trainable params: 0\n",
      "_________________________________________________________________\n"
     ]
    }
   ],
   "source": [
    "model = Sequential()\n",
    "model.add(Embedding(1000, 30, input_length=200))      \n",
    "model.add(LSTM(100))\n",
    "model.add(Dense(46, activation='softmax'))\n",
    "model.summary()"
   ]
  },
  {
   "cell_type": "code",
   "execution_count": 87,
   "id": "8f0fa4cf",
   "metadata": {},
   "outputs": [],
   "source": [
    "model.compile(loss='categorical_crossentropy', metrics=['accuracy'], optimizer='adam')"
   ]
  },
  {
   "cell_type": "code",
   "execution_count": 88,
   "id": "0ae3e8ab",
   "metadata": {
    "scrolled": true
   },
   "outputs": [
    {
     "name": "stdout",
     "output_type": "stream",
     "text": [
      "Epoch 1/100\n",
      "450/450 [==============================] - 6s 12ms/step - loss: 2.3033 - accuracy: 0.4174 - val_loss: 2.0516 - val_accuracy: 0.5085\n",
      "Epoch 2/100\n",
      "450/450 [==============================] - 5s 11ms/step - loss: 2.1030 - accuracy: 0.4835 - val_loss: 2.4131 - val_accuracy: 0.4639\n",
      "Epoch 3/100\n",
      "450/450 [==============================] - 5s 10ms/step - loss: 2.0586 - accuracy: 0.4822 - val_loss: 1.9115 - val_accuracy: 0.5187\n",
      "Epoch 4/100\n",
      "450/450 [==============================] - 5s 11ms/step - loss: 1.8328 - accuracy: 0.5409 - val_loss: 1.7241 - val_accuracy: 0.5650\n",
      "Epoch 5/100\n",
      "450/450 [==============================] - 5s 11ms/step - loss: 1.7665 - accuracy: 0.5571 - val_loss: 1.7254 - val_accuracy: 0.5668\n",
      "Epoch 6/100\n",
      "450/450 [==============================] - 5s 11ms/step - loss: 1.7321 - accuracy: 0.5709 - val_loss: 1.7294 - val_accuracy: 0.5686\n",
      "Epoch 7/100\n",
      "450/450 [==============================] - 5s 11ms/step - loss: 1.6391 - accuracy: 0.5844 - val_loss: 1.7035 - val_accuracy: 0.5699\n",
      "Epoch 8/100\n",
      "450/450 [==============================] - 5s 11ms/step - loss: 1.5654 - accuracy: 0.6008 - val_loss: 1.6551 - val_accuracy: 0.5850\n",
      "Epoch 9/100\n",
      "450/450 [==============================] - 5s 10ms/step - loss: 1.4732 - accuracy: 0.6246 - val_loss: 1.5569 - val_accuracy: 0.6104\n",
      "Epoch 10/100\n",
      "450/450 [==============================] - 5s 10ms/step - loss: 1.4001 - accuracy: 0.6378 - val_loss: 1.4385 - val_accuracy: 0.6398\n",
      "Epoch 11/100\n",
      "450/450 [==============================] - 5s 10ms/step - loss: 1.2995 - accuracy: 0.6729 - val_loss: 1.3847 - val_accuracy: 0.6460\n",
      "Epoch 12/100\n",
      "450/450 [==============================] - 5s 10ms/step - loss: 1.2106 - accuracy: 0.6994 - val_loss: 1.2847 - val_accuracy: 0.6808\n",
      "Epoch 13/100\n",
      "450/450 [==============================] - 5s 10ms/step - loss: 1.1541 - accuracy: 0.7126 - val_loss: 1.2422 - val_accuracy: 0.6870\n",
      "Epoch 14/100\n",
      "450/450 [==============================] - 5s 10ms/step - loss: 1.0934 - accuracy: 0.7250 - val_loss: 1.2242 - val_accuracy: 0.6923\n",
      "Epoch 15/100\n",
      "450/450 [==============================] - 5s 10ms/step - loss: 1.0500 - accuracy: 0.7322 - val_loss: 1.2082 - val_accuracy: 0.6906\n",
      "Epoch 16/100\n",
      "450/450 [==============================] - 5s 10ms/step - loss: 1.0095 - accuracy: 0.7410 - val_loss: 1.1630 - val_accuracy: 0.7053\n",
      "Epoch 17/100\n",
      "450/450 [==============================] - 5s 10ms/step - loss: 0.9794 - accuracy: 0.7481 - val_loss: 1.1649 - val_accuracy: 0.7039\n",
      "Epoch 18/100\n",
      "450/450 [==============================] - 5s 10ms/step - loss: 0.9437 - accuracy: 0.7601 - val_loss: 1.1395 - val_accuracy: 0.7106\n",
      "Epoch 19/100\n",
      "450/450 [==============================] - 5s 10ms/step - loss: 0.9081 - accuracy: 0.7655 - val_loss: 1.1307 - val_accuracy: 0.7155\n",
      "Epoch 20/100\n",
      "450/450 [==============================] - 5s 10ms/step - loss: 0.8629 - accuracy: 0.7770 - val_loss: 1.1131 - val_accuracy: 0.7137\n",
      "Epoch 21/100\n",
      "450/450 [==============================] - 5s 10ms/step - loss: 0.8280 - accuracy: 0.7921 - val_loss: 1.0820 - val_accuracy: 0.7222\n",
      "Epoch 22/100\n",
      "450/450 [==============================] - 5s 10ms/step - loss: 0.7872 - accuracy: 0.7988 - val_loss: 1.0875 - val_accuracy: 0.7231\n",
      "Epoch 23/100\n",
      "450/450 [==============================] - 5s 10ms/step - loss: 0.7632 - accuracy: 0.8039 - val_loss: 1.0619 - val_accuracy: 0.7289\n",
      "Epoch 24/100\n",
      "450/450 [==============================] - 5s 11ms/step - loss: 0.7277 - accuracy: 0.8150 - val_loss: 1.0775 - val_accuracy: 0.7369\n",
      "Epoch 25/100\n",
      "450/450 [==============================] - 5s 10ms/step - loss: 0.6896 - accuracy: 0.8238 - val_loss: 1.0713 - val_accuracy: 0.7391\n",
      "Epoch 26/100\n",
      "450/450 [==============================] - 5s 10ms/step - loss: 0.6626 - accuracy: 0.8324 - val_loss: 1.0748 - val_accuracy: 0.7351\n",
      "Epoch 27/100\n",
      "450/450 [==============================] - 5s 10ms/step - loss: 0.6350 - accuracy: 0.8400 - val_loss: 1.1016 - val_accuracy: 0.7355\n",
      "Epoch 28/100\n",
      "450/450 [==============================] - 5s 10ms/step - loss: 0.6107 - accuracy: 0.8425 - val_loss: 1.0770 - val_accuracy: 0.7462\n",
      "Epoch 29/100\n",
      "450/450 [==============================] - 5s 10ms/step - loss: 0.5762 - accuracy: 0.8545 - val_loss: 1.0859 - val_accuracy: 0.7413\n",
      "Epoch 30/100\n",
      "450/450 [==============================] - 5s 11ms/step - loss: 0.5490 - accuracy: 0.8616 - val_loss: 1.1139 - val_accuracy: 0.7449\n",
      "Epoch 31/100\n",
      "450/450 [==============================] - 5s 11ms/step - loss: 0.5237 - accuracy: 0.8681 - val_loss: 1.1513 - val_accuracy: 0.7369\n",
      "Epoch 32/100\n",
      "450/450 [==============================] - 5s 10ms/step - loss: 0.5019 - accuracy: 0.8747 - val_loss: 1.1825 - val_accuracy: 0.7351\n",
      "Epoch 33/100\n",
      "450/450 [==============================] - 5s 10ms/step - loss: 0.4816 - accuracy: 0.8784 - val_loss: 1.1698 - val_accuracy: 0.7382\n",
      "Epoch 34/100\n",
      "450/450 [==============================] - 5s 11ms/step - loss: 0.4519 - accuracy: 0.8876 - val_loss: 1.1816 - val_accuracy: 0.7413\n",
      "Epoch 35/100\n",
      "450/450 [==============================] - 5s 11ms/step - loss: 0.4405 - accuracy: 0.8879 - val_loss: 1.1970 - val_accuracy: 0.7476\n",
      "Epoch 36/100\n",
      "450/450 [==============================] - 5s 11ms/step - loss: 0.4127 - accuracy: 0.8975 - val_loss: 1.2322 - val_accuracy: 0.7351\n",
      "Epoch 37/100\n",
      "450/450 [==============================] - 5s 10ms/step - loss: 0.3946 - accuracy: 0.9004 - val_loss: 1.2293 - val_accuracy: 0.7391\n",
      "Epoch 38/100\n",
      "450/450 [==============================] - 5s 11ms/step - loss: 0.3733 - accuracy: 0.9027 - val_loss: 1.2688 - val_accuracy: 0.7324\n",
      "Epoch 39/100\n",
      "450/450 [==============================] - 5s 11ms/step - loss: 0.3550 - accuracy: 0.9133 - val_loss: 1.2695 - val_accuracy: 0.7342\n",
      "Epoch 40/100\n",
      "450/450 [==============================] - 5s 10ms/step - loss: 0.3536 - accuracy: 0.9073 - val_loss: 1.2632 - val_accuracy: 0.7440\n",
      "Epoch 41/100\n",
      "450/450 [==============================] - 5s 10ms/step - loss: 0.3394 - accuracy: 0.9132 - val_loss: 1.2910 - val_accuracy: 0.7386\n",
      "Epoch 42/100\n",
      "450/450 [==============================] - 5s 10ms/step - loss: 0.3043 - accuracy: 0.9243 - val_loss: 1.3373 - val_accuracy: 0.7382\n",
      "Epoch 43/100\n",
      "450/450 [==============================] - 5s 10ms/step - loss: 0.2905 - accuracy: 0.9257 - val_loss: 1.3758 - val_accuracy: 0.7409\n",
      "Epoch 44/100\n",
      "450/450 [==============================] - 5s 10ms/step - loss: 0.2806 - accuracy: 0.9280 - val_loss: 1.3916 - val_accuracy: 0.7378\n",
      "Epoch 45/100\n",
      "450/450 [==============================] - 5s 10ms/step - loss: 0.2655 - accuracy: 0.9319 - val_loss: 1.4041 - val_accuracy: 0.7337\n",
      "Epoch 46/100\n",
      "450/450 [==============================] - 5s 11ms/step - loss: 0.2576 - accuracy: 0.9339 - val_loss: 1.4000 - val_accuracy: 0.7418\n",
      "Epoch 47/100\n",
      "450/450 [==============================] - 5s 11ms/step - loss: 0.2485 - accuracy: 0.9330 - val_loss: 1.4375 - val_accuracy: 0.7329\n",
      "Epoch 48/100\n",
      "450/450 [==============================] - 5s 11ms/step - loss: 0.2463 - accuracy: 0.9351 - val_loss: 1.4276 - val_accuracy: 0.7378\n",
      "Epoch 49/100\n",
      "450/450 [==============================] - 5s 10ms/step - loss: 0.2349 - accuracy: 0.9369 - val_loss: 1.4979 - val_accuracy: 0.7315\n",
      "Epoch 50/100\n",
      "450/450 [==============================] - 5s 11ms/step - loss: 0.2389 - accuracy: 0.9373 - val_loss: 1.4820 - val_accuracy: 0.7369\n",
      "Epoch 51/100\n",
      "450/450 [==============================] - 5s 11ms/step - loss: 0.2121 - accuracy: 0.9446 - val_loss: 1.5361 - val_accuracy: 0.7360\n",
      "Epoch 52/100\n",
      "450/450 [==============================] - 5s 11ms/step - loss: 0.2164 - accuracy: 0.9408 - val_loss: 1.5229 - val_accuracy: 0.7413\n",
      "Epoch 53/100\n",
      "450/450 [==============================] - 5s 10ms/step - loss: 0.2019 - accuracy: 0.9422 - val_loss: 1.5616 - val_accuracy: 0.7333\n",
      "Epoch 54/100\n",
      "450/450 [==============================] - 5s 11ms/step - loss: 0.1917 - accuracy: 0.9441 - val_loss: 1.5717 - val_accuracy: 0.7315\n",
      "Epoch 55/100\n",
      "450/450 [==============================] - 5s 11ms/step - loss: 0.2166 - accuracy: 0.9390 - val_loss: 1.5708 - val_accuracy: 0.7333\n",
      "Epoch 56/100\n",
      "450/450 [==============================] - 5s 10ms/step - loss: 0.1786 - accuracy: 0.9479 - val_loss: 1.6043 - val_accuracy: 0.7293\n",
      "Epoch 57/100\n",
      "450/450 [==============================] - 5s 10ms/step - loss: 0.1720 - accuracy: 0.9481 - val_loss: 1.6250 - val_accuracy: 0.7253\n",
      "Epoch 58/100\n",
      "450/450 [==============================] - 5s 11ms/step - loss: 0.1877 - accuracy: 0.9424 - val_loss: 1.6378 - val_accuracy: 0.7271\n",
      "Epoch 59/100\n",
      "450/450 [==============================] - 5s 10ms/step - loss: 0.1815 - accuracy: 0.9440 - val_loss: 1.6284 - val_accuracy: 0.7311\n",
      "Epoch 60/100\n",
      "450/450 [==============================] - 5s 10ms/step - loss: 0.1598 - accuracy: 0.9510 - val_loss: 1.6813 - val_accuracy: 0.7369\n",
      "Epoch 61/100\n",
      "450/450 [==============================] - 5s 10ms/step - loss: 0.1481 - accuracy: 0.9515 - val_loss: 1.6724 - val_accuracy: 0.7297\n",
      "Epoch 62/100\n",
      "450/450 [==============================] - 5s 10ms/step - loss: 0.1502 - accuracy: 0.9510 - val_loss: 1.6923 - val_accuracy: 0.7346\n",
      "Epoch 63/100\n",
      "450/450 [==============================] - 5s 11ms/step - loss: 0.1510 - accuracy: 0.9498 - val_loss: 1.7420 - val_accuracy: 0.7253\n",
      "Epoch 64/100\n",
      "450/450 [==============================] - 5s 10ms/step - loss: 0.1449 - accuracy: 0.9515 - val_loss: 1.7178 - val_accuracy: 0.7320\n",
      "Epoch 65/100\n",
      "450/450 [==============================] - 5s 10ms/step - loss: 0.1444 - accuracy: 0.9509 - val_loss: 1.7647 - val_accuracy: 0.7213\n",
      "Epoch 66/100\n",
      "450/450 [==============================] - 5s 11ms/step - loss: 0.1397 - accuracy: 0.9499 - val_loss: 1.7617 - val_accuracy: 0.7306\n",
      "Epoch 67/100\n",
      "450/450 [==============================] - 5s 10ms/step - loss: 0.1421 - accuracy: 0.9507 - val_loss: 1.8355 - val_accuracy: 0.7159\n",
      "Epoch 68/100\n",
      "450/450 [==============================] - 5s 10ms/step - loss: 0.1628 - accuracy: 0.9442 - val_loss: 1.7956 - val_accuracy: 0.7248\n",
      "Epoch 69/100\n",
      "450/450 [==============================] - 5s 10ms/step - loss: 0.1335 - accuracy: 0.9537 - val_loss: 1.8275 - val_accuracy: 0.7297\n",
      "Epoch 70/100\n",
      "450/450 [==============================] - 5s 10ms/step - loss: 0.1262 - accuracy: 0.9526 - val_loss: 1.8315 - val_accuracy: 0.7217\n",
      "Epoch 71/100\n",
      "450/450 [==============================] - 5s 10ms/step - loss: 0.1182 - accuracy: 0.9532 - val_loss: 1.8235 - val_accuracy: 0.7324\n",
      "Epoch 72/100\n",
      "450/450 [==============================] - 5s 10ms/step - loss: 0.1205 - accuracy: 0.9552 - val_loss: 1.8697 - val_accuracy: 0.7204\n",
      "Epoch 73/100\n",
      "450/450 [==============================] - 5s 10ms/step - loss: 0.1286 - accuracy: 0.9520 - val_loss: 1.8690 - val_accuracy: 0.7204\n",
      "Epoch 74/100\n",
      "450/450 [==============================] - 5s 10ms/step - loss: 0.1302 - accuracy: 0.9509 - val_loss: 1.8643 - val_accuracy: 0.7173\n",
      "Epoch 75/100\n",
      "450/450 [==============================] - 5s 11ms/step - loss: 0.1161 - accuracy: 0.9548 - val_loss: 1.8711 - val_accuracy: 0.7289\n",
      "Epoch 76/100\n",
      "450/450 [==============================] - 5s 11ms/step - loss: 0.1140 - accuracy: 0.9555 - val_loss: 1.9305 - val_accuracy: 0.7262\n",
      "Epoch 77/100\n",
      "450/450 [==============================] - 5s 11ms/step - loss: 0.1101 - accuracy: 0.9540 - val_loss: 1.8861 - val_accuracy: 0.7248\n",
      "Epoch 78/100\n",
      "450/450 [==============================] - 5s 11ms/step - loss: 0.1177 - accuracy: 0.9538 - val_loss: 1.9321 - val_accuracy: 0.7275\n",
      "Epoch 79/100\n",
      "450/450 [==============================] - 5s 10ms/step - loss: 0.1088 - accuracy: 0.9534 - val_loss: 1.9419 - val_accuracy: 0.7208\n",
      "Epoch 80/100\n",
      "450/450 [==============================] - 5s 10ms/step - loss: 0.1178 - accuracy: 0.9526 - val_loss: 1.9279 - val_accuracy: 0.7257\n",
      "Epoch 81/100\n",
      "450/450 [==============================] - 5s 10ms/step - loss: 0.1190 - accuracy: 0.9513 - val_loss: 1.9424 - val_accuracy: 0.7231\n",
      "Epoch 82/100\n",
      "450/450 [==============================] - 5s 10ms/step - loss: 0.1251 - accuracy: 0.9502 - val_loss: 1.9186 - val_accuracy: 0.7271\n",
      "Epoch 83/100\n",
      "450/450 [==============================] - 5s 10ms/step - loss: 0.1034 - accuracy: 0.9555 - val_loss: 1.9331 - val_accuracy: 0.7222\n",
      "Epoch 84/100\n",
      "450/450 [==============================] - 5s 10ms/step - loss: 0.0969 - accuracy: 0.9566 - val_loss: 1.9799 - val_accuracy: 0.7173\n",
      "Epoch 85/100\n",
      "450/450 [==============================] - 5s 10ms/step - loss: 0.1031 - accuracy: 0.9537 - val_loss: 1.9920 - val_accuracy: 0.7204\n",
      "Epoch 86/100\n",
      "450/450 [==============================] - 5s 10ms/step - loss: 0.1185 - accuracy: 0.9519 - val_loss: 1.9390 - val_accuracy: 0.7280\n",
      "Epoch 87/100\n",
      "450/450 [==============================] - 5s 10ms/step - loss: 0.1049 - accuracy: 0.9554 - val_loss: 1.9374 - val_accuracy: 0.7266\n",
      "Epoch 88/100\n",
      "450/450 [==============================] - 5s 10ms/step - loss: 0.1056 - accuracy: 0.9545 - val_loss: 1.9552 - val_accuracy: 0.7284\n",
      "Epoch 89/100\n",
      "450/450 [==============================] - 5s 10ms/step - loss: 0.1043 - accuracy: 0.9542 - val_loss: 1.9811 - val_accuracy: 0.7231\n",
      "Epoch 90/100\n",
      "450/450 [==============================] - 5s 10ms/step - loss: 0.0996 - accuracy: 0.9550 - val_loss: 1.9744 - val_accuracy: 0.7351\n",
      "Epoch 91/100\n",
      "450/450 [==============================] - 5s 10ms/step - loss: 0.1010 - accuracy: 0.9534 - val_loss: 1.9683 - val_accuracy: 0.7191\n",
      "Epoch 92/100\n",
      "450/450 [==============================] - 5s 10ms/step - loss: 0.0952 - accuracy: 0.9557 - val_loss: 2.0006 - val_accuracy: 0.7244\n",
      "Epoch 93/100\n",
      "450/450 [==============================] - 5s 10ms/step - loss: 0.0902 - accuracy: 0.9561 - val_loss: 1.9886 - val_accuracy: 0.7315\n",
      "Epoch 94/100\n",
      "450/450 [==============================] - 5s 11ms/step - loss: 0.0932 - accuracy: 0.9546 - val_loss: 2.0008 - val_accuracy: 0.7102\n",
      "Epoch 95/100\n",
      "450/450 [==============================] - 5s 10ms/step - loss: 0.1064 - accuracy: 0.9512 - val_loss: 2.0059 - val_accuracy: 0.7208\n",
      "Epoch 96/100\n",
      "450/450 [==============================] - 5s 10ms/step - loss: 0.1031 - accuracy: 0.9536 - val_loss: 2.0067 - val_accuracy: 0.7289\n",
      "Epoch 97/100\n",
      "450/450 [==============================] - 5s 10ms/step - loss: 0.0938 - accuracy: 0.9549 - val_loss: 2.0099 - val_accuracy: 0.7217\n",
      "Epoch 98/100\n",
      "450/450 [==============================] - 5s 11ms/step - loss: 0.0947 - accuracy: 0.9541 - val_loss: 2.0419 - val_accuracy: 0.7311\n",
      "Epoch 99/100\n",
      "450/450 [==============================] - 5s 10ms/step - loss: 0.0860 - accuracy: 0.9548 - val_loss: 2.0435 - val_accuracy: 0.7222\n",
      "Epoch 100/100\n",
      "450/450 [==============================] - 5s 11ms/step - loss: 0.0969 - accuracy: 0.9542 - val_loss: 2.0226 - val_accuracy: 0.7177\n"
     ]
    }
   ],
   "source": [
    "hist = model.fit(x_train_seq, y_train_oh, epochs=100, batch_size=20, validation_data=(x_test_seq, y_test_oh))"
   ]
  },
  {
   "cell_type": "code",
   "execution_count": 89,
   "id": "f2884d3b",
   "metadata": {},
   "outputs": [
    {
     "data": {
      "text/plain": [
       "[<matplotlib.lines.Line2D at 0x21480b15c40>]"
      ]
     },
     "execution_count": 89,
     "metadata": {},
     "output_type": "execute_result"
    },
    {
     "data": {
      "image/png": "[encoded data removed]",
      "text/plain": [
       "<Figure size 432x288 with 1 Axes>"
      ]
     },
     "metadata": {
      "needs_background": "light"
     },
     "output_type": "display_data"
    }
   ],
   "source": [
    "plt.plot(hist.history['accuracy'])\n",
    "plt.plot(hist.history['val_accuracy'])"
   ]
  },
  {
   "cell_type": "code",
   "execution_count": 90,
   "id": "8167926d",
   "metadata": {},
   "outputs": [
    {
     "data": {
      "text/plain": [
       "[<matplotlib.lines.Line2D at 0x21480b77c10>]"
      ]
     },
     "execution_count": 90,
     "metadata": {},
     "output_type": "execute_result"
    },
    {
     "data": {
      "image/png": "[encoded data removed]",
      "text/plain": [
       "<Figure size 432x288 with 1 Axes>"
      ]
     },
     "metadata": {
      "needs_background": "light"
     },
     "output_type": "display_data"
    }
   ],
   "source": [
    "plt.plot(hist.history['loss'])\n",
    "plt.plot(hist.history['val_loss'])"
   ]
  },
  {
   "cell_type": "code",
   "execution_count": null,
   "id": "98c426c5",
   "metadata": {},
   "outputs": [],
   "source": []
  },
  {
   "cell_type": "code",
   "execution_count": null,
   "id": "cd31502d",
   "metadata": {},
   "outputs": [],
   "source": []
  },
  {
   "cell_type": "code",
   "execution_count": 94,
   "id": "c7f50f57",
   "metadata": {},
   "outputs": [],
   "source": [
    "from tensorflow.keras.layers import Conv1D, MaxPooling1D"
   ]
  },
  {
   "cell_type": "code",
   "execution_count": 95,
   "id": "fdc884fb",
   "metadata": {},
   "outputs": [
    {
     "name": "stdout",
     "output_type": "stream",
     "text": [
      "Model: \"sequential_11\"\n",
      "_________________________________________________________________\n",
      " Layer (type)                Output Shape              Param #   \n",
      "=================================================================\n",
      " embedding_6 (Embedding)     (None, 200, 30)           30000     \n",
      "                                                                 \n",
      " dropout_2 (Dropout)         (None, 200, 30)           0         \n",
      "                                                                 \n",
      " conv1d_1 (Conv1D)           (None, 196, 64)           9664      \n",
      "                                                                 \n",
      " max_pooling1d (MaxPooling1D  (None, 49, 64)           0         \n",
      " )                                                               \n",
      "                                                                 \n",
      " lstm_7 (LSTM)               (None, 100)               66000     \n",
      "                                                                 \n",
      " dense_9 (Dense)             (None, 46)                4646      \n",
      "                                                                 \n",
      " dense_10 (Dense)            (None, 46)                2162      \n",
      "                                                                 \n",
      "=================================================================\n",
      "Total params: 112,472\n",
      "Trainable params: 112,472\n",
      "Non-trainable params: 0\n",
      "_________________________________________________________________\n"
     ]
    }
   ],
   "source": [
    "model = Sequential()\n",
    "model.add(Embedding(1000, 30, input_length=200))\n",
    "model.add(Dropout(0.5))\n",
    "model.add(Conv1D(64, 5, padding='valid', activation='relu', strides=1))\n",
    "model.add(MaxPooling1D(pool_size=4))\n",
    "model.add(LSTM(100))\n",
    "model.add(Dense(46, activation='relu'))\n",
    "model.add(Dense(46, activation='softmax'))\n",
    "model.summary()"
   ]
  },
  {
   "cell_type": "code",
   "execution_count": 96,
   "id": "2e917c6d",
   "metadata": {},
   "outputs": [],
   "source": [
    "model.compile(loss='categorical_crossentropy', metrics=['accuracy'], optimizer='adam')"
   ]
  },
  {
   "cell_type": "code",
   "execution_count": 97,
   "id": "7e4efae1",
   "metadata": {},
   "outputs": [
    {
     "name": "stdout",
     "output_type": "stream",
     "text": [
      "Epoch 1/100\n",
      "450/450 [==============================] - 10s 9ms/step - loss: 2.0273 - accuracy: 0.4777 - val_loss: 1.7855 - val_accuracy: 0.5347\n",
      "Epoch 2/100\n",
      "450/450 [==============================] - 4s 8ms/step - loss: 1.6750 - accuracy: 0.5679 - val_loss: 1.6939 - val_accuracy: 0.5650\n",
      "Epoch 3/100\n",
      "450/450 [==============================] - 4s 9ms/step - loss: 1.5397 - accuracy: 0.5973 - val_loss: 1.5850 - val_accuracy: 0.5775\n",
      "Epoch 4/100\n",
      "450/450 [==============================] - 4s 9ms/step - loss: 1.4125 - accuracy: 0.6299 - val_loss: 1.4976 - val_accuracy: 0.6118\n",
      "Epoch 5/100\n",
      "450/450 [==============================] - 4s 9ms/step - loss: 1.2860 - accuracy: 0.6693 - val_loss: 1.3447 - val_accuracy: 0.6549\n",
      "Epoch 6/100\n",
      "450/450 [==============================] - 4s 9ms/step - loss: 1.1915 - accuracy: 0.6972 - val_loss: 1.2614 - val_accuracy: 0.6794\n",
      "Epoch 7/100\n",
      "450/450 [==============================] - 4s 9ms/step - loss: 1.1154 - accuracy: 0.7169 - val_loss: 1.1963 - val_accuracy: 0.7039\n",
      "Epoch 8/100\n",
      "450/450 [==============================] - 4s 9ms/step - loss: 1.0570 - accuracy: 0.7305 - val_loss: 1.1735 - val_accuracy: 0.7097\n",
      "Epoch 9/100\n",
      "450/450 [==============================] - 4s 9ms/step - loss: 1.0027 - accuracy: 0.7436 - val_loss: 1.1778 - val_accuracy: 0.7021\n",
      "Epoch 10/100\n",
      "450/450 [==============================] - 4s 8ms/step - loss: 0.9713 - accuracy: 0.7508 - val_loss: 1.1348 - val_accuracy: 0.7195\n",
      "Epoch 11/100\n",
      "450/450 [==============================] - 4s 8ms/step - loss: 0.9288 - accuracy: 0.7581 - val_loss: 1.0807 - val_accuracy: 0.7262\n",
      "Epoch 12/100\n",
      "450/450 [==============================] - 4s 8ms/step - loss: 0.8922 - accuracy: 0.7693 - val_loss: 1.0858 - val_accuracy: 0.7333\n",
      "Epoch 13/100\n",
      "450/450 [==============================] - 4s 8ms/step - loss: 0.8702 - accuracy: 0.7710 - val_loss: 1.0567 - val_accuracy: 0.7386\n",
      "Epoch 14/100\n",
      "450/450 [==============================] - 4s 8ms/step - loss: 0.8314 - accuracy: 0.7839 - val_loss: 1.0548 - val_accuracy: 0.7378\n",
      "Epoch 15/100\n",
      "450/450 [==============================] - 4s 9ms/step - loss: 0.8142 - accuracy: 0.7855 - val_loss: 1.0555 - val_accuracy: 0.7360\n",
      "Epoch 16/100\n",
      "450/450 [==============================] - 4s 8ms/step - loss: 0.7814 - accuracy: 0.7940 - val_loss: 1.0243 - val_accuracy: 0.7524\n",
      "Epoch 17/100\n",
      "450/450 [==============================] - 4s 8ms/step - loss: 0.7643 - accuracy: 0.7983 - val_loss: 1.0317 - val_accuracy: 0.7524\n",
      "Epoch 18/100\n",
      "450/450 [==============================] - 4s 8ms/step - loss: 0.7381 - accuracy: 0.8045 - val_loss: 1.0375 - val_accuracy: 0.7507\n",
      "Epoch 19/100\n",
      "450/450 [==============================] - 4s 8ms/step - loss: 0.7188 - accuracy: 0.8055 - val_loss: 1.0297 - val_accuracy: 0.7498\n",
      "Epoch 20/100\n",
      "450/450 [==============================] - 4s 8ms/step - loss: 0.6993 - accuracy: 0.8132 - val_loss: 1.0399 - val_accuracy: 0.7507\n",
      "Epoch 21/100\n",
      "450/450 [==============================] - 4s 8ms/step - loss: 0.6724 - accuracy: 0.8191 - val_loss: 1.0354 - val_accuracy: 0.7560\n",
      "Epoch 22/100\n",
      "450/450 [==============================] - 4s 8ms/step - loss: 0.6749 - accuracy: 0.8206 - val_loss: 1.0408 - val_accuracy: 0.7480\n",
      "Epoch 23/100\n",
      "450/450 [==============================] - 4s 8ms/step - loss: 0.6415 - accuracy: 0.8258 - val_loss: 1.0547 - val_accuracy: 0.7596\n",
      "Epoch 24/100\n",
      "450/450 [==============================] - 4s 8ms/step - loss: 0.6232 - accuracy: 0.8288 - val_loss: 1.0675 - val_accuracy: 0.7533\n",
      "Epoch 25/100\n",
      "450/450 [==============================] - 4s 8ms/step - loss: 0.6093 - accuracy: 0.8334 - val_loss: 1.0434 - val_accuracy: 0.7622\n",
      "Epoch 26/100\n",
      "450/450 [==============================] - 4s 8ms/step - loss: 0.6091 - accuracy: 0.8321 - val_loss: 1.0633 - val_accuracy: 0.7609\n",
      "Epoch 27/100\n",
      "450/450 [==============================] - 4s 8ms/step - loss: 0.5987 - accuracy: 0.8380 - val_loss: 1.0573 - val_accuracy: 0.7622\n",
      "Epoch 28/100\n",
      "450/450 [==============================] - 4s 8ms/step - loss: 0.5692 - accuracy: 0.8457 - val_loss: 1.0389 - val_accuracy: 0.7582\n",
      "Epoch 29/100\n",
      "450/450 [==============================] - 4s 8ms/step - loss: 0.5597 - accuracy: 0.8458 - val_loss: 1.0578 - val_accuracy: 0.7636\n",
      "Epoch 30/100\n",
      "450/450 [==============================] - 4s 8ms/step - loss: 0.5411 - accuracy: 0.8499 - val_loss: 1.0701 - val_accuracy: 0.7703\n",
      "Epoch 31/100\n",
      "450/450 [==============================] - 4s 8ms/step - loss: 0.5283 - accuracy: 0.8521 - val_loss: 1.0785 - val_accuracy: 0.7663\n",
      "Epoch 32/100\n",
      "450/450 [==============================] - 4s 8ms/step - loss: 0.5205 - accuracy: 0.8550 - val_loss: 1.0591 - val_accuracy: 0.7605\n",
      "Epoch 33/100\n",
      "450/450 [==============================] - 4s 8ms/step - loss: 0.5133 - accuracy: 0.8547 - val_loss: 1.0948 - val_accuracy: 0.7631\n",
      "Epoch 34/100\n",
      "450/450 [==============================] - 4s 8ms/step - loss: 0.5043 - accuracy: 0.8572 - val_loss: 1.0971 - val_accuracy: 0.7645\n",
      "Epoch 35/100\n",
      "450/450 [==============================] - 4s 8ms/step - loss: 0.4864 - accuracy: 0.8621 - val_loss: 1.0883 - val_accuracy: 0.7689\n",
      "Epoch 36/100\n",
      "450/450 [==============================] - 4s 8ms/step - loss: 0.4688 - accuracy: 0.8678 - val_loss: 1.1047 - val_accuracy: 0.7649\n",
      "Epoch 37/100\n",
      "450/450 [==============================] - 4s 8ms/step - loss: 0.4639 - accuracy: 0.8642 - val_loss: 1.1485 - val_accuracy: 0.7547\n",
      "Epoch 38/100\n",
      "450/450 [==============================] - 4s 8ms/step - loss: 0.4571 - accuracy: 0.8686 - val_loss: 1.1617 - val_accuracy: 0.7627\n",
      "Epoch 39/100\n",
      "450/450 [==============================] - 4s 8ms/step - loss: 0.4460 - accuracy: 0.8742 - val_loss: 1.1909 - val_accuracy: 0.7587\n",
      "Epoch 40/100\n",
      "450/450 [==============================] - 4s 8ms/step - loss: 0.4443 - accuracy: 0.8724 - val_loss: 1.1586 - val_accuracy: 0.7614\n",
      "Epoch 41/100\n",
      "450/450 [==============================] - 4s 8ms/step - loss: 0.4237 - accuracy: 0.8764 - val_loss: 1.1788 - val_accuracy: 0.7631\n",
      "Epoch 42/100\n",
      "450/450 [==============================] - 4s 8ms/step - loss: 0.4234 - accuracy: 0.8792 - val_loss: 1.2178 - val_accuracy: 0.7609\n",
      "Epoch 43/100\n",
      "450/450 [==============================] - 4s 8ms/step - loss: 0.4034 - accuracy: 0.8818 - val_loss: 1.1950 - val_accuracy: 0.7627\n",
      "Epoch 44/100\n",
      "450/450 [==============================] - 4s 8ms/step - loss: 0.3907 - accuracy: 0.8861 - val_loss: 1.2535 - val_accuracy: 0.7582\n",
      "Epoch 45/100\n",
      "450/450 [==============================] - 4s 8ms/step - loss: 0.4023 - accuracy: 0.8827 - val_loss: 1.2240 - val_accuracy: 0.7614\n",
      "Epoch 46/100\n",
      "450/450 [==============================] - 4s 8ms/step - loss: 0.3878 - accuracy: 0.8876 - val_loss: 1.2502 - val_accuracy: 0.7529\n",
      "Epoch 47/100\n",
      "450/450 [==============================] - 4s 8ms/step - loss: 0.3866 - accuracy: 0.8861 - val_loss: 1.2343 - val_accuracy: 0.7658\n",
      "Epoch 48/100\n",
      "450/450 [==============================] - 4s 8ms/step - loss: 0.3680 - accuracy: 0.8883 - val_loss: 1.2312 - val_accuracy: 0.7627\n",
      "Epoch 49/100\n",
      "450/450 [==============================] - 4s 8ms/step - loss: 0.3699 - accuracy: 0.8903 - val_loss: 1.2532 - val_accuracy: 0.7516\n",
      "Epoch 50/100\n",
      "450/450 [==============================] - 4s 8ms/step - loss: 0.3628 - accuracy: 0.8921 - val_loss: 1.2822 - val_accuracy: 0.7556\n",
      "Epoch 51/100\n",
      "450/450 [==============================] - 4s 8ms/step - loss: 0.3509 - accuracy: 0.8925 - val_loss: 1.2665 - val_accuracy: 0.7524\n",
      "Epoch 52/100\n",
      "450/450 [==============================] - 4s 8ms/step - loss: 0.3524 - accuracy: 0.8930 - val_loss: 1.2603 - val_accuracy: 0.7511\n",
      "Epoch 53/100\n",
      "450/450 [==============================] - 4s 8ms/step - loss: 0.3349 - accuracy: 0.8987 - val_loss: 1.3094 - val_accuracy: 0.7498\n",
      "Epoch 54/100\n",
      "450/450 [==============================] - 4s 8ms/step - loss: 0.3366 - accuracy: 0.8963 - val_loss: 1.3113 - val_accuracy: 0.7578\n",
      "Epoch 55/100\n",
      "450/450 [==============================] - 4s 8ms/step - loss: 0.3216 - accuracy: 0.9012 - val_loss: 1.3537 - val_accuracy: 0.7542\n",
      "Epoch 56/100\n",
      "450/450 [==============================] - 4s 8ms/step - loss: 0.3196 - accuracy: 0.9046 - val_loss: 1.3832 - val_accuracy: 0.7511\n",
      "Epoch 57/100\n",
      "450/450 [==============================] - 4s 8ms/step - loss: 0.3141 - accuracy: 0.9006 - val_loss: 1.3511 - val_accuracy: 0.7507\n"
     ]
    },
    {
     "name": "stdout",
     "output_type": "stream",
     "text": [
      "Epoch 58/100\n",
      "450/450 [==============================] - 4s 8ms/step - loss: 0.3054 - accuracy: 0.9057 - val_loss: 1.4036 - val_accuracy: 0.7484\n",
      "Epoch 59/100\n",
      "450/450 [==============================] - 4s 8ms/step - loss: 0.3084 - accuracy: 0.9067 - val_loss: 1.3727 - val_accuracy: 0.7476\n",
      "Epoch 60/100\n",
      "450/450 [==============================] - 4s 8ms/step - loss: 0.3068 - accuracy: 0.9028 - val_loss: 1.3952 - val_accuracy: 0.7502\n",
      "Epoch 61/100\n",
      "450/450 [==============================] - 4s 8ms/step - loss: 0.3076 - accuracy: 0.9049 - val_loss: 1.4241 - val_accuracy: 0.7480\n",
      "Epoch 62/100\n",
      "450/450 [==============================] - 4s 8ms/step - loss: 0.2919 - accuracy: 0.9085 - val_loss: 1.4484 - val_accuracy: 0.7471\n",
      "Epoch 63/100\n",
      "450/450 [==============================] - 4s 8ms/step - loss: 0.2882 - accuracy: 0.9095 - val_loss: 1.4460 - val_accuracy: 0.7449\n",
      "Epoch 64/100\n",
      "450/450 [==============================] - 4s 8ms/step - loss: 0.2817 - accuracy: 0.9109 - val_loss: 1.4352 - val_accuracy: 0.7427\n",
      "Epoch 65/100\n",
      "450/450 [==============================] - 4s 8ms/step - loss: 0.2791 - accuracy: 0.9138 - val_loss: 1.4361 - val_accuracy: 0.7444\n",
      "Epoch 66/100\n",
      "450/450 [==============================] - 4s 8ms/step - loss: 0.2780 - accuracy: 0.9134 - val_loss: 1.4713 - val_accuracy: 0.7391\n",
      "Epoch 67/100\n",
      "450/450 [==============================] - 4s 8ms/step - loss: 0.2819 - accuracy: 0.9110 - val_loss: 1.4658 - val_accuracy: 0.7440\n",
      "Epoch 68/100\n",
      "450/450 [==============================] - 4s 8ms/step - loss: 0.2787 - accuracy: 0.9112 - val_loss: 1.4303 - val_accuracy: 0.7440\n",
      "Epoch 69/100\n",
      "450/450 [==============================] - 4s 8ms/step - loss: 0.2711 - accuracy: 0.9137 - val_loss: 1.4658 - val_accuracy: 0.7471\n",
      "Epoch 70/100\n",
      "450/450 [==============================] - 4s 8ms/step - loss: 0.2668 - accuracy: 0.9158 - val_loss: 1.4447 - val_accuracy: 0.7489\n",
      "Epoch 71/100\n",
      "450/450 [==============================] - 4s 8ms/step - loss: 0.2616 - accuracy: 0.9189 - val_loss: 1.5087 - val_accuracy: 0.7395\n",
      "Epoch 72/100\n",
      "450/450 [==============================] - 4s 8ms/step - loss: 0.2421 - accuracy: 0.9179 - val_loss: 1.4972 - val_accuracy: 0.7462\n",
      "Epoch 73/100\n",
      "450/450 [==============================] - 4s 8ms/step - loss: 0.2534 - accuracy: 0.9184 - val_loss: 1.5682 - val_accuracy: 0.7516\n",
      "Epoch 74/100\n",
      "450/450 [==============================] - 4s 8ms/step - loss: 0.2533 - accuracy: 0.9173 - val_loss: 1.5129 - val_accuracy: 0.7462\n",
      "Epoch 75/100\n",
      "450/450 [==============================] - 4s 8ms/step - loss: 0.2615 - accuracy: 0.9141 - val_loss: 1.5554 - val_accuracy: 0.7489\n",
      "Epoch 76/100\n",
      "450/450 [==============================] - 4s 8ms/step - loss: 0.2399 - accuracy: 0.9179 - val_loss: 1.5981 - val_accuracy: 0.7435\n",
      "Epoch 77/100\n",
      "450/450 [==============================] - 4s 8ms/step - loss: 0.2430 - accuracy: 0.9231 - val_loss: 1.6402 - val_accuracy: 0.7382\n",
      "Epoch 78/100\n",
      "450/450 [==============================] - 4s 8ms/step - loss: 0.2530 - accuracy: 0.9185 - val_loss: 1.5825 - val_accuracy: 0.7507\n",
      "Epoch 79/100\n",
      "450/450 [==============================] - 4s 8ms/step - loss: 0.2453 - accuracy: 0.9205 - val_loss: 1.5391 - val_accuracy: 0.7489\n",
      "Epoch 80/100\n",
      "450/450 [==============================] - 4s 8ms/step - loss: 0.2348 - accuracy: 0.9237 - val_loss: 1.5644 - val_accuracy: 0.7533\n",
      "Epoch 81/100\n",
      "450/450 [==============================] - 4s 8ms/step - loss: 0.2369 - accuracy: 0.9211 - val_loss: 1.6302 - val_accuracy: 0.7400\n",
      "Epoch 82/100\n",
      "450/450 [==============================] - 4s 8ms/step - loss: 0.2230 - accuracy: 0.9264 - val_loss: 1.6033 - val_accuracy: 0.7533\n",
      "Epoch 83/100\n",
      "450/450 [==============================] - 4s 8ms/step - loss: 0.2316 - accuracy: 0.9210 - val_loss: 1.5909 - val_accuracy: 0.7524\n",
      "Epoch 84/100\n",
      "450/450 [==============================] - 4s 8ms/step - loss: 0.2324 - accuracy: 0.9238 - val_loss: 1.6250 - val_accuracy: 0.7444\n",
      "Epoch 85/100\n",
      "450/450 [==============================] - 4s 8ms/step - loss: 0.2213 - accuracy: 0.9262 - val_loss: 1.5836 - val_accuracy: 0.7458\n",
      "Epoch 86/100\n",
      "450/450 [==============================] - 4s 8ms/step - loss: 0.2363 - accuracy: 0.9230 - val_loss: 1.6315 - val_accuracy: 0.7444\n",
      "Epoch 87/100\n",
      "450/450 [==============================] - 4s 8ms/step - loss: 0.2257 - accuracy: 0.9262 - val_loss: 1.5769 - val_accuracy: 0.7449\n",
      "Epoch 88/100\n",
      "450/450 [==============================] - 4s 8ms/step - loss: 0.2261 - accuracy: 0.9254 - val_loss: 1.6122 - val_accuracy: 0.7538\n",
      "Epoch 89/100\n",
      "450/450 [==============================] - 4s 8ms/step - loss: 0.2173 - accuracy: 0.9270 - val_loss: 1.6340 - val_accuracy: 0.7476\n",
      "Epoch 90/100\n",
      "450/450 [==============================] - 4s 8ms/step - loss: 0.2262 - accuracy: 0.9235 - val_loss: 1.6086 - val_accuracy: 0.7524\n",
      "Epoch 91/100\n",
      "450/450 [==============================] - 4s 8ms/step - loss: 0.2197 - accuracy: 0.9247 - val_loss: 1.6127 - val_accuracy: 0.7480\n",
      "Epoch 92/100\n",
      "450/450 [==============================] - 4s 8ms/step - loss: 0.2226 - accuracy: 0.9244 - val_loss: 1.6243 - val_accuracy: 0.7493\n",
      "Epoch 93/100\n",
      "450/450 [==============================] - 4s 8ms/step - loss: 0.2193 - accuracy: 0.9270 - val_loss: 1.6087 - val_accuracy: 0.7520\n",
      "Epoch 94/100\n",
      "450/450 [==============================] - 4s 8ms/step - loss: 0.2116 - accuracy: 0.9274 - val_loss: 1.6433 - val_accuracy: 0.7502\n",
      "Epoch 95/100\n",
      "450/450 [==============================] - 4s 8ms/step - loss: 0.2215 - accuracy: 0.9265 - val_loss: 1.6979 - val_accuracy: 0.7471\n",
      "Epoch 96/100\n",
      "450/450 [==============================] - 4s 8ms/step - loss: 0.2126 - accuracy: 0.9276 - val_loss: 1.6680 - val_accuracy: 0.7498\n",
      "Epoch 97/100\n",
      "450/450 [==============================] - 4s 8ms/step - loss: 0.2017 - accuracy: 0.9306 - val_loss: 1.6470 - val_accuracy: 0.7498\n",
      "Epoch 98/100\n",
      "450/450 [==============================] - 4s 8ms/step - loss: 0.1969 - accuracy: 0.9276 - val_loss: 1.7080 - val_accuracy: 0.7498\n",
      "Epoch 99/100\n",
      "450/450 [==============================] - 4s 8ms/step - loss: 0.2176 - accuracy: 0.9281 - val_loss: 1.6769 - val_accuracy: 0.7471\n",
      "Epoch 100/100\n",
      "450/450 [==============================] - 4s 8ms/step - loss: 0.2244 - accuracy: 0.9232 - val_loss: 1.7006 - val_accuracy: 0.7444\n"
     ]
    }
   ],
   "source": [
    "hist = model.fit(x_train_seq, y_train_oh, epochs=100, batch_size=20, validation_data=(x_test_seq, y_test_oh))"
   ]
  },
  {
   "cell_type": "code",
   "execution_count": 98,
   "id": "610fc235",
   "metadata": {},
   "outputs": [
    {
     "data": {
      "text/plain": [
       "[<matplotlib.lines.Line2D at 0x2141a284310>]"
      ]
     },
     "execution_count": 98,
     "metadata": {},
     "output_type": "execute_result"
    },
    {
     "data": {
      "image/png": "[encoded data removed]",
      "text/plain": [
       "<Figure size 432x288 with 1 Axes>"
      ]
     },
     "metadata": {
      "needs_background": "light"
     },
     "output_type": "display_data"
    }
   ],
   "source": [
    "plt.plot(hist.history['accuracy'])\n",
    "plt.plot(hist.history['val_accuracy'])"
   ]
  },
  {
   "cell_type": "code",
   "execution_count": 99,
   "id": "71bdcf9e",
   "metadata": {},
   "outputs": [
    {
     "data": {
      "text/plain": [
       "[<matplotlib.lines.Line2D at 0x214182eeee0>]"
      ]
     },
     "execution_count": 99,
     "metadata": {},
     "output_type": "execute_result"
    },
    {
     "data": {
      "image/png": "[encoded data removed]",
      "text/plain": [
       "<Figure size 432x288 with 1 Axes>"
      ]
     },
     "metadata": {
      "needs_background": "light"
     },
     "output_type": "display_data"
    }
   ],
   "source": [
    "plt.plot(hist.history['loss'])\n",
    "plt.plot(hist.history['val_loss'])"
   ]
  },
  {
   "cell_type": "code",
   "execution_count": null,
   "id": "520f0a62",
   "metadata": {},
   "outputs": [],
   "source": []
  },
  {
   "cell_type": "code",
   "execution_count": 101,
   "id": "21d964d4",
   "metadata": {},
   "outputs": [
    {
     "name": "stdout",
     "output_type": "stream",
     "text": [
      "Model: \"sequential_13\"\n",
      "_________________________________________________________________\n",
      " Layer (type)                Output Shape              Param #   \n",
      "=================================================================\n",
      " embedding_8 (Embedding)     (None, 200, 30)           30000     \n",
      "                                                                 \n",
      " dropout_4 (Dropout)         (None, 200, 30)           0         \n",
      "                                                                 \n",
      " conv1d_3 (Conv1D)           (None, 196, 64)           9664      \n",
      "                                                                 \n",
      " max_pooling1d_2 (MaxPooling  (None, 49, 64)           0         \n",
      " 1D)                                                             \n",
      "                                                                 \n",
      " lstm_9 (LSTM)               (None, 49, 100)           66000     \n",
      "                                                                 \n",
      " lstm_10 (LSTM)              (None, 100)               80400     \n",
      "                                                                 \n",
      " dense_11 (Dense)            (None, 46)                4646      \n",
      "                                                                 \n",
      " dropout_5 (Dropout)         (None, 46)                0         \n",
      "                                                                 \n",
      " dense_12 (Dense)            (None, 46)                2162      \n",
      "                                                                 \n",
      "=================================================================\n",
      "Total params: 192,872\n",
      "Trainable params: 192,872\n",
      "Non-trainable params: 0\n",
      "_________________________________________________________________\n"
     ]
    }
   ],
   "source": [
    "model = Sequential()\n",
    "model.add(Embedding(1000, 30, input_length=200))\n",
    "model.add(Dropout(0.5))\n",
    "model.add(Conv1D(64, 5, padding='valid', activation='relu', strides=1))\n",
    "model.add(MaxPooling1D(pool_size=4))\n",
    "model.add(LSTM(100, return_sequences=True))\n",
    "model.add(LSTM(100))\n",
    "model.add(Dense(46, activation='relu'))\n",
    "model.add(Dropout(0.5))\n",
    "model.add(Dense(46, activation='softmax'))\n",
    "model.summary()"
   ]
  },
  {
   "cell_type": "code",
   "execution_count": 102,
   "id": "2ac28d8e",
   "metadata": {},
   "outputs": [],
   "source": [
    "model.compile(loss='categorical_crossentropy', metrics=['accuracy'], optimizer='adam')"
   ]
  },
  {
   "cell_type": "code",
   "execution_count": 103,
   "id": "d59310e2",
   "metadata": {},
   "outputs": [
    {
     "name": "stdout",
     "output_type": "stream",
     "text": [
      "Epoch 1/100\n",
      "450/450 [==============================] - 8s 15ms/step - loss: 2.1702 - accuracy: 0.4545 - val_loss: 1.9123 - val_accuracy: 0.4813\n",
      "Epoch 2/100\n",
      "450/450 [==============================] - 6s 13ms/step - loss: 1.8331 - accuracy: 0.5369 - val_loss: 1.7219 - val_accuracy: 0.5396\n",
      "Epoch 3/100\n",
      "450/450 [==============================] - 6s 13ms/step - loss: 1.7300 - accuracy: 0.5675 - val_loss: 1.6504 - val_accuracy: 0.5908\n",
      "Epoch 4/100\n",
      "450/450 [==============================] - 6s 13ms/step - loss: 1.6398 - accuracy: 0.5983 - val_loss: 1.5925 - val_accuracy: 0.6055\n",
      "Epoch 5/100\n",
      "450/450 [==============================] - 6s 13ms/step - loss: 1.5770 - accuracy: 0.6124 - val_loss: 1.5214 - val_accuracy: 0.6278\n",
      "Epoch 6/100\n",
      "450/450 [==============================] - 6s 13ms/step - loss: 1.5124 - accuracy: 0.6354 - val_loss: 1.5135 - val_accuracy: 0.6264\n",
      "Epoch 7/100\n",
      "450/450 [==============================] - 6s 13ms/step - loss: 1.4421 - accuracy: 0.6503 - val_loss: 1.4369 - val_accuracy: 0.6438\n",
      "Epoch 8/100\n",
      "450/450 [==============================] - 6s 12ms/step - loss: 1.3994 - accuracy: 0.6624 - val_loss: 1.4182 - val_accuracy: 0.6425\n",
      "Epoch 9/100\n",
      "450/450 [==============================] - 5s 12ms/step - loss: 1.3419 - accuracy: 0.6730 - val_loss: 1.3776 - val_accuracy: 0.6509\n",
      "Epoch 10/100\n",
      "450/450 [==============================] - 6s 12ms/step - loss: 1.3205 - accuracy: 0.6794 - val_loss: 1.3457 - val_accuracy: 0.6634\n",
      "Epoch 11/100\n",
      "450/450 [==============================] - 6s 12ms/step - loss: 1.2737 - accuracy: 0.6865 - val_loss: 1.3245 - val_accuracy: 0.6647\n",
      "Epoch 12/100\n",
      "450/450 [==============================] - 6s 12ms/step - loss: 1.2512 - accuracy: 0.6895 - val_loss: 1.2709 - val_accuracy: 0.6710\n",
      "Epoch 13/100\n",
      "450/450 [==============================] - 6s 13ms/step - loss: 1.2082 - accuracy: 0.6967 - val_loss: 1.2479 - val_accuracy: 0.6874\n",
      "Epoch 14/100\n",
      "450/450 [==============================] - 6s 12ms/step - loss: 1.1746 - accuracy: 0.7033 - val_loss: 1.2757 - val_accuracy: 0.6848\n",
      "Epoch 15/100\n",
      "450/450 [==============================] - 6s 12ms/step - loss: 1.1316 - accuracy: 0.7131 - val_loss: 1.2046 - val_accuracy: 0.7008\n",
      "Epoch 16/100\n",
      "450/450 [==============================] - 6s 12ms/step - loss: 1.1173 - accuracy: 0.7193 - val_loss: 1.2266 - val_accuracy: 0.6981\n",
      "Epoch 17/100\n",
      "450/450 [==============================] - 6s 12ms/step - loss: 1.0898 - accuracy: 0.7257 - val_loss: 1.2613 - val_accuracy: 0.6968\n",
      "Epoch 18/100\n",
      "450/450 [==============================] - 6s 13ms/step - loss: 1.0865 - accuracy: 0.7283 - val_loss: 1.2270 - val_accuracy: 0.7066\n",
      "Epoch 19/100\n",
      "450/450 [==============================] - 5s 12ms/step - loss: 1.0600 - accuracy: 0.7318 - val_loss: 1.1548 - val_accuracy: 0.7150\n",
      "Epoch 20/100\n",
      "450/450 [==============================] - 6s 13ms/step - loss: 1.0429 - accuracy: 0.7380 - val_loss: 1.1653 - val_accuracy: 0.7275\n",
      "Epoch 21/100\n",
      "450/450 [==============================] - 6s 12ms/step - loss: 1.0205 - accuracy: 0.7419 - val_loss: 1.1825 - val_accuracy: 0.7164\n",
      "Epoch 22/100\n",
      "450/450 [==============================] - 5s 12ms/step - loss: 0.9947 - accuracy: 0.7497 - val_loss: 1.1712 - val_accuracy: 0.7266\n",
      "Epoch 23/100\n",
      "450/450 [==============================] - 6s 12ms/step - loss: 0.9897 - accuracy: 0.7522 - val_loss: 1.2077 - val_accuracy: 0.7142\n",
      "Epoch 24/100\n",
      "450/450 [==============================] - 6s 12ms/step - loss: 0.9665 - accuracy: 0.7545 - val_loss: 1.1275 - val_accuracy: 0.7280\n",
      "Epoch 25/100\n",
      "450/450 [==============================] - 6s 13ms/step - loss: 0.9542 - accuracy: 0.7578 - val_loss: 1.1289 - val_accuracy: 0.7289\n",
      "Epoch 26/100\n",
      "450/450 [==============================] - 5s 12ms/step - loss: 0.9389 - accuracy: 0.7587 - val_loss: 1.0925 - val_accuracy: 0.7373\n",
      "Epoch 27/100\n",
      "450/450 [==============================] - 6s 13ms/step - loss: 0.9140 - accuracy: 0.7649 - val_loss: 1.1679 - val_accuracy: 0.7329\n",
      "Epoch 28/100\n",
      "450/450 [==============================] - 6s 12ms/step - loss: 0.9165 - accuracy: 0.7661 - val_loss: 1.1481 - val_accuracy: 0.7337\n",
      "Epoch 29/100\n",
      "450/450 [==============================] - 6s 12ms/step - loss: 0.8872 - accuracy: 0.7740 - val_loss: 1.1568 - val_accuracy: 0.7315\n",
      "Epoch 30/100\n",
      "450/450 [==============================] - 6s 12ms/step - loss: 0.8809 - accuracy: 0.7730 - val_loss: 1.2174 - val_accuracy: 0.7222\n",
      "Epoch 31/100\n",
      "450/450 [==============================] - 6s 12ms/step - loss: 0.8765 - accuracy: 0.7720 - val_loss: 1.1395 - val_accuracy: 0.7431\n",
      "Epoch 32/100\n",
      "450/450 [==============================] - 6s 13ms/step - loss: 0.8720 - accuracy: 0.7788 - val_loss: 1.1838 - val_accuracy: 0.7422\n",
      "Epoch 33/100\n",
      "450/450 [==============================] - 6s 12ms/step - loss: 0.8518 - accuracy: 0.7823 - val_loss: 1.1636 - val_accuracy: 0.7440\n",
      "Epoch 34/100\n",
      "450/450 [==============================] - 6s 13ms/step - loss: 0.8501 - accuracy: 0.7798 - val_loss: 1.1844 - val_accuracy: 0.7484\n",
      "Epoch 35/100\n",
      "450/450 [==============================] - 6s 12ms/step - loss: 0.8121 - accuracy: 0.7924 - val_loss: 1.2279 - val_accuracy: 0.7378\n",
      "Epoch 36/100\n",
      "450/450 [==============================] - 5s 12ms/step - loss: 0.8047 - accuracy: 0.7908 - val_loss: 1.1852 - val_accuracy: 0.7386\n",
      "Epoch 37/100\n",
      "450/450 [==============================] - 6s 12ms/step - loss: 0.8018 - accuracy: 0.7900 - val_loss: 1.1658 - val_accuracy: 0.7493\n",
      "Epoch 38/100\n",
      "450/450 [==============================] - 6s 13ms/step - loss: 0.8227 - accuracy: 0.7876 - val_loss: 1.1750 - val_accuracy: 0.7516\n",
      "Epoch 39/100\n",
      "450/450 [==============================] - 6s 13ms/step - loss: 0.7810 - accuracy: 0.7950 - val_loss: 1.2286 - val_accuracy: 0.7489\n",
      "Epoch 40/100\n",
      "450/450 [==============================] - 6s 13ms/step - loss: 0.7531 - accuracy: 0.8046 - val_loss: 1.2396 - val_accuracy: 0.7484\n",
      "Epoch 41/100\n",
      "450/450 [==============================] - 5s 12ms/step - loss: 0.7518 - accuracy: 0.8022 - val_loss: 1.2470 - val_accuracy: 0.7591\n",
      "Epoch 42/100\n",
      "450/450 [==============================] - 6s 12ms/step - loss: 0.7525 - accuracy: 0.8020 - val_loss: 1.2724 - val_accuracy: 0.7498\n",
      "Epoch 43/100\n",
      "450/450 [==============================] - 6s 13ms/step - loss: 0.7213 - accuracy: 0.8122 - val_loss: 1.2313 - val_accuracy: 0.7573\n",
      "Epoch 44/100\n",
      "450/450 [==============================] - 6s 13ms/step - loss: 0.7206 - accuracy: 0.8108 - val_loss: 1.3105 - val_accuracy: 0.7547\n",
      "Epoch 45/100\n",
      "450/450 [==============================] - 6s 13ms/step - loss: 0.7268 - accuracy: 0.8048 - val_loss: 1.2382 - val_accuracy: 0.7542\n",
      "Epoch 46/100\n",
      "450/450 [==============================] - 6s 13ms/step - loss: 0.7213 - accuracy: 0.8100 - val_loss: 1.1915 - val_accuracy: 0.7502\n",
      "Epoch 47/100\n",
      "450/450 [==============================] - 6s 12ms/step - loss: 0.6941 - accuracy: 0.8154 - val_loss: 1.3155 - val_accuracy: 0.7556\n",
      "Epoch 48/100\n",
      "450/450 [==============================] - 6s 13ms/step - loss: 0.6889 - accuracy: 0.8144 - val_loss: 1.2786 - val_accuracy: 0.7591\n",
      "Epoch 49/100\n",
      "450/450 [==============================] - 5s 12ms/step - loss: 0.6998 - accuracy: 0.8171 - val_loss: 1.2315 - val_accuracy: 0.7591\n",
      "Epoch 50/100\n",
      "450/450 [==============================] - 6s 12ms/step - loss: 0.6841 - accuracy: 0.8170 - val_loss: 1.4190 - val_accuracy: 0.7489\n",
      "Epoch 51/100\n",
      "450/450 [==============================] - 6s 12ms/step - loss: 0.6764 - accuracy: 0.8180 - val_loss: 1.2689 - val_accuracy: 0.7591\n",
      "Epoch 52/100\n",
      "450/450 [==============================] - 6s 12ms/step - loss: 0.6552 - accuracy: 0.8206 - val_loss: 1.2714 - val_accuracy: 0.7578\n",
      "Epoch 53/100\n",
      "450/450 [==============================] - 6s 12ms/step - loss: 0.6607 - accuracy: 0.8184 - val_loss: 1.4197 - val_accuracy: 0.7569\n",
      "Epoch 54/100\n",
      "450/450 [==============================] - 6s 12ms/step - loss: 0.6480 - accuracy: 0.8245 - val_loss: 1.2626 - val_accuracy: 0.7622\n",
      "Epoch 55/100\n",
      "450/450 [==============================] - 5s 12ms/step - loss: 0.6451 - accuracy: 0.8262 - val_loss: 1.3341 - val_accuracy: 0.7627\n",
      "Epoch 56/100\n",
      "450/450 [==============================] - 5s 12ms/step - loss: 0.6359 - accuracy: 0.8232 - val_loss: 1.3174 - val_accuracy: 0.7551\n",
      "Epoch 57/100\n",
      "450/450 [==============================] - 5s 11ms/step - loss: 0.6337 - accuracy: 0.8259 - val_loss: 1.3337 - val_accuracy: 0.7507\n",
      "Epoch 58/100\n",
      "450/450 [==============================] - 6s 12ms/step - loss: 0.6146 - accuracy: 0.8317 - val_loss: 1.3522 - val_accuracy: 0.7569\n",
      "Epoch 59/100\n",
      "450/450 [==============================] - 6s 13ms/step - loss: 0.6251 - accuracy: 0.8312 - val_loss: 1.3307 - val_accuracy: 0.7645\n",
      "Epoch 60/100\n",
      "450/450 [==============================] - 6s 12ms/step - loss: 0.6104 - accuracy: 0.8309 - val_loss: 1.3817 - val_accuracy: 0.7582\n",
      "Epoch 61/100\n",
      "450/450 [==============================] - 5s 12ms/step - loss: 0.5896 - accuracy: 0.8347 - val_loss: 1.3785 - val_accuracy: 0.7516\n",
      "Epoch 62/100\n",
      "450/450 [==============================] - 6s 13ms/step - loss: 0.5951 - accuracy: 0.8361 - val_loss: 1.4271 - val_accuracy: 0.7591\n",
      "Epoch 63/100\n",
      "450/450 [==============================] - 6s 12ms/step - loss: 0.5893 - accuracy: 0.8342 - val_loss: 1.3339 - val_accuracy: 0.7565\n",
      "Epoch 64/100\n",
      "450/450 [==============================] - 6s 12ms/step - loss: 0.5752 - accuracy: 0.8407 - val_loss: 1.4115 - val_accuracy: 0.7600\n",
      "Epoch 65/100\n",
      "450/450 [==============================] - 6s 13ms/step - loss: 0.5862 - accuracy: 0.8357 - val_loss: 1.4453 - val_accuracy: 0.7596\n",
      "Epoch 66/100\n",
      "450/450 [==============================] - 6s 12ms/step - loss: 0.5762 - accuracy: 0.8393 - val_loss: 1.5016 - val_accuracy: 0.7427\n",
      "Epoch 67/100\n",
      "450/450 [==============================] - 6s 12ms/step - loss: 0.5913 - accuracy: 0.8340 - val_loss: 1.4644 - val_accuracy: 0.7578\n",
      "Epoch 68/100\n",
      "450/450 [==============================] - 6s 13ms/step - loss: 0.5670 - accuracy: 0.8362 - val_loss: 1.5484 - val_accuracy: 0.7605\n",
      "Epoch 69/100\n",
      "450/450 [==============================] - 5s 12ms/step - loss: 0.5673 - accuracy: 0.8396 - val_loss: 1.4930 - val_accuracy: 0.7565\n",
      "Epoch 70/100\n",
      "450/450 [==============================] - 5s 12ms/step - loss: 0.5519 - accuracy: 0.8449 - val_loss: 1.4956 - val_accuracy: 0.7578\n",
      "Epoch 71/100\n",
      "450/450 [==============================] - 5s 12ms/step - loss: 0.5446 - accuracy: 0.8442 - val_loss: 1.5138 - val_accuracy: 0.7556\n",
      "Epoch 72/100\n",
      "450/450 [==============================] - 5s 12ms/step - loss: 0.5506 - accuracy: 0.8397 - val_loss: 1.5176 - val_accuracy: 0.7582\n",
      "Epoch 73/100\n",
      "450/450 [==============================] - 5s 12ms/step - loss: 0.5528 - accuracy: 0.8457 - val_loss: 1.4630 - val_accuracy: 0.7569\n",
      "Epoch 74/100\n",
      "450/450 [==============================] - 6s 12ms/step - loss: 0.5313 - accuracy: 0.8464 - val_loss: 1.5077 - val_accuracy: 0.7600\n",
      "Epoch 75/100\n",
      "450/450 [==============================] - 5s 12ms/step - loss: 0.5332 - accuracy: 0.8451 - val_loss: 1.4918 - val_accuracy: 0.7591\n",
      "Epoch 76/100\n",
      "450/450 [==============================] - 5s 12ms/step - loss: 0.5512 - accuracy: 0.8411 - val_loss: 1.5310 - val_accuracy: 0.7565\n",
      "Epoch 77/100\n",
      "450/450 [==============================] - 5s 12ms/step - loss: 0.5347 - accuracy: 0.8518 - val_loss: 1.5160 - val_accuracy: 0.7609\n",
      "Epoch 78/100\n",
      "450/450 [==============================] - 5s 12ms/step - loss: 0.5263 - accuracy: 0.8503 - val_loss: 1.5655 - val_accuracy: 0.7551\n",
      "Epoch 79/100\n",
      "450/450 [==============================] - 6s 13ms/step - loss: 0.5114 - accuracy: 0.8542 - val_loss: 1.4937 - val_accuracy: 0.7614\n",
      "Epoch 80/100\n",
      "450/450 [==============================] - 6s 12ms/step - loss: 0.4905 - accuracy: 0.8560 - val_loss: 1.5431 - val_accuracy: 0.7649\n",
      "Epoch 81/100\n",
      "450/450 [==============================] - 6s 12ms/step - loss: 0.4914 - accuracy: 0.8577 - val_loss: 1.7222 - val_accuracy: 0.7600\n",
      "Epoch 82/100\n",
      "450/450 [==============================] - 6s 13ms/step - loss: 0.5072 - accuracy: 0.8540 - val_loss: 1.5893 - val_accuracy: 0.7569\n",
      "Epoch 83/100\n",
      "450/450 [==============================] - 6s 12ms/step - loss: 0.5043 - accuracy: 0.8543 - val_loss: 1.6460 - val_accuracy: 0.7551\n",
      "Epoch 84/100\n",
      "450/450 [==============================] - 6s 12ms/step - loss: 0.4906 - accuracy: 0.8548 - val_loss: 1.6607 - val_accuracy: 0.7547\n",
      "Epoch 85/100\n",
      "450/450 [==============================] - 6s 13ms/step - loss: 0.4927 - accuracy: 0.8547 - val_loss: 1.6016 - val_accuracy: 0.7667\n",
      "Epoch 86/100\n",
      "450/450 [==============================] - 6s 13ms/step - loss: 0.4918 - accuracy: 0.8569 - val_loss: 1.6450 - val_accuracy: 0.7636\n",
      "Epoch 87/100\n",
      "450/450 [==============================] - 6s 12ms/step - loss: 0.4771 - accuracy: 0.8584 - val_loss: 1.7917 - val_accuracy: 0.7587\n",
      "Epoch 88/100\n",
      "450/450 [==============================] - 6s 13ms/step - loss: 0.4867 - accuracy: 0.8623 - val_loss: 1.7573 - val_accuracy: 0.7529\n",
      "Epoch 89/100\n",
      "450/450 [==============================] - 6s 12ms/step - loss: 0.4760 - accuracy: 0.8617 - val_loss: 1.7240 - val_accuracy: 0.7560\n",
      "Epoch 90/100\n",
      "450/450 [==============================] - 6s 12ms/step - loss: 0.4753 - accuracy: 0.8608 - val_loss: 1.7160 - val_accuracy: 0.7524\n",
      "Epoch 91/100\n",
      "450/450 [==============================] - 6s 13ms/step - loss: 0.4891 - accuracy: 0.8594 - val_loss: 1.7097 - val_accuracy: 0.7596\n",
      "Epoch 92/100\n",
      "450/450 [==============================] - 6s 13ms/step - loss: 0.4685 - accuracy: 0.8636 - val_loss: 1.7515 - val_accuracy: 0.7556\n",
      "Epoch 93/100\n",
      "450/450 [==============================] - 6s 12ms/step - loss: 0.4721 - accuracy: 0.8598 - val_loss: 1.7579 - val_accuracy: 0.7573\n",
      "Epoch 94/100\n",
      "450/450 [==============================] - 6s 12ms/step - loss: 0.4611 - accuracy: 0.8619 - val_loss: 1.7722 - val_accuracy: 0.7569\n",
      "Epoch 95/100\n",
      "450/450 [==============================] - 6s 12ms/step - loss: 0.4560 - accuracy: 0.8645 - val_loss: 1.7610 - val_accuracy: 0.7609\n",
      "Epoch 96/100\n",
      "450/450 [==============================] - 6s 12ms/step - loss: 0.4519 - accuracy: 0.8683 - val_loss: 1.7549 - val_accuracy: 0.7533\n",
      "Epoch 97/100\n",
      "450/450 [==============================] - 6s 12ms/step - loss: 0.4526 - accuracy: 0.8666 - val_loss: 1.8655 - val_accuracy: 0.7551\n",
      "Epoch 98/100\n",
      "450/450 [==============================] - 6s 12ms/step - loss: 0.4236 - accuracy: 0.8721 - val_loss: 1.8936 - val_accuracy: 0.7484\n",
      "Epoch 99/100\n",
      "450/450 [==============================] - 6s 13ms/step - loss: 0.4366 - accuracy: 0.8721 - val_loss: 1.8215 - val_accuracy: 0.7627\n",
      "Epoch 100/100\n",
      "450/450 [==============================] - 6s 12ms/step - loss: 0.4261 - accuracy: 0.8758 - val_loss: 1.9398 - val_accuracy: 0.7569\n"
     ]
    }
   ],
   "source": [
    "hist = model.fit(x_train_seq, y_train_oh, epochs=100, batch_size=20, validation_data=(x_test_seq, y_test_oh))"
   ]
  },
  {
   "cell_type": "code",
   "execution_count": 104,
   "id": "dbc95002",
   "metadata": {},
   "outputs": [
    {
     "data": {
      "text/plain": [
       "[<matplotlib.lines.Line2D at 0x21495493df0>]"
      ]
     },
     "execution_count": 104,
     "metadata": {},
     "output_type": "execute_result"
    },
    {
     "data": {
      "image/png": "[encoded data removed]",
      "text/plain": [
       "<Figure size 432x288 with 1 Axes>"
      ]
     },
     "metadata": {
      "needs_background": "light"
     },
     "output_type": "display_data"
    }
   ],
   "source": [
    "plt.plot(hist.history['accuracy'])\n",
    "plt.plot(hist.history['val_accuracy'])"
   ]
  },
  {
   "cell_type": "code",
   "execution_count": 105,
   "id": "5208bde5",
   "metadata": {},
   "outputs": [
    {
     "data": {
      "text/plain": [
       "[<matplotlib.lines.Line2D at 0x2149c4dc340>]"
      ]
     },
     "execution_count": 105,
     "metadata": {},
     "output_type": "execute_result"
    },
    {
     "data": {
      "image/png": "[encoded data removed]",
      "text/plain": [
       "<Figure size 432x288 with 1 Axes>"
      ]
     },
     "metadata": {
      "needs_background": "light"
     },
     "output_type": "display_data"
    }
   ],
   "source": [
    "plt.plot(hist.history['loss'])\n",
    "plt.plot(hist.history['val_loss'])"
   ]
  },
  {
   "cell_type": "code",
   "execution_count": null,
   "id": "0133b8af",
   "metadata": {},
   "outputs": [],
   "source": []
  },
  {
   "cell_type": "code",
   "execution_count": null,
   "id": "63ec7201",
   "metadata": {},
   "outputs": [],
   "source": []
  },
  {
   "cell_type": "code",
   "execution_count": null,
   "id": "f02f8a6c",
   "metadata": {},
   "outputs": [],
   "source": []
  },
  {
   "cell_type": "code",
   "execution_count": null,
   "id": "27596bdf",
   "metadata": {},
   "outputs": [],
   "source": []
  },
  {
   "cell_type": "code",
   "execution_count": 57,
   "id": "8fffdcb5",
   "metadata": {},
   "outputs": [
    {
     "name": "stdout",
     "output_type": "stream",
     "text": [
      "Model: \"sequential_6\"\n",
      "_________________________________________________________________\n",
      " Layer (type)                Output Shape              Param #   \n",
      "=================================================================\n",
      " lstm_5 (LSTM)               (None, 8)                 32288     \n",
      "                                                                 \n",
      " dense_6 (Dense)             (None, 1)                 9         \n",
      "                                                                 \n",
      "=================================================================\n",
      "Total params: 32,297\n",
      "Trainable params: 32,297\n",
      "Non-trainable params: 0\n",
      "_________________________________________________________________\n"
     ]
    }
   ],
   "source": [
    "model = Sequential()\n",
    "model.add(LSTM(8, input_shape=(300,1000)))\n",
    "model.add(Dense(1, activation='sigmoid'))\n",
    "model.summary()"
   ]
  },
  {
   "cell_type": "code",
   "execution_count": 58,
   "id": "83ad4eea",
   "metadata": {},
   "outputs": [],
   "source": [
    "model.compile(loss='categorical_crossentropy', metrics=['accuracy'], optimizer='adam')"
   ]
  },
  {
   "cell_type": "code",
   "execution_count": 64,
   "id": "94121ebf",
   "metadata": {},
   "outputs": [
    {
     "ename": "InternalError",
     "evalue": "Failed copying input tensor from /job:localhost/replica:0/task:0/device:CPU:0 to /job:localhost/replica:0/task:0/device:GPU:0 in order to run _EagerConst: Dst tensor is not initialized.",
     "output_type": "error",
     "traceback": [
      "\u001b[1;31m---------------------------------------------------------------------------\u001b[0m",
      "\u001b[1;31mInternalError\u001b[0m                             Traceback (most recent call last)",
      "\u001b[1;32m~\\AppData\\Local\\Temp/ipykernel_12272/1498073438.py\u001b[0m in \u001b[0;36m<module>\u001b[1;34m\u001b[0m\n\u001b[1;32m----> 1\u001b[1;33m \u001b[0mmodel\u001b[0m\u001b[1;33m.\u001b[0m\u001b[0mfit\u001b[0m\u001b[1;33m(\u001b[0m\u001b[0mx_train_oh\u001b[0m\u001b[1;33m,\u001b[0m \u001b[0my_train\u001b[0m\u001b[1;33m,\u001b[0m \u001b[0mepochs\u001b[0m\u001b[1;33m=\u001b[0m\u001b[1;36m10\u001b[0m\u001b[1;33m,\u001b[0m \u001b[0mbatch_size\u001b[0m\u001b[1;33m=\u001b[0m\u001b[1;36m64\u001b[0m\u001b[1;33m,\u001b[0m \u001b[0mvalidation_data\u001b[0m\u001b[1;33m=\u001b[0m\u001b[1;33m(\u001b[0m\u001b[0mx_test_oh\u001b[0m\u001b[1;33m,\u001b[0m \u001b[0my_test\u001b[0m\u001b[1;33m)\u001b[0m\u001b[1;33m)\u001b[0m\u001b[1;33m\u001b[0m\u001b[1;33m\u001b[0m\u001b[0m\n\u001b[0m",
      "\u001b[1;32m~\\Anaconda3\\lib\\site-packages\\keras\\utils\\traceback_utils.py\u001b[0m in \u001b[0;36merror_handler\u001b[1;34m(*args, **kwargs)\u001b[0m\n\u001b[0;32m     65\u001b[0m     \u001b[1;32mexcept\u001b[0m \u001b[0mException\u001b[0m \u001b[1;32mas\u001b[0m \u001b[0me\u001b[0m\u001b[1;33m:\u001b[0m  \u001b[1;31m# pylint: disable=broad-except\u001b[0m\u001b[1;33m\u001b[0m\u001b[1;33m\u001b[0m\u001b[0m\n\u001b[0;32m     66\u001b[0m       \u001b[0mfiltered_tb\u001b[0m \u001b[1;33m=\u001b[0m \u001b[0m_process_traceback_frames\u001b[0m\u001b[1;33m(\u001b[0m\u001b[0me\u001b[0m\u001b[1;33m.\u001b[0m\u001b[0m__traceback__\u001b[0m\u001b[1;33m)\u001b[0m\u001b[1;33m\u001b[0m\u001b[1;33m\u001b[0m\u001b[0m\n\u001b[1;32m---> 67\u001b[1;33m       \u001b[1;32mraise\u001b[0m \u001b[0me\u001b[0m\u001b[1;33m.\u001b[0m\u001b[0mwith_traceback\u001b[0m\u001b[1;33m(\u001b[0m\u001b[0mfiltered_tb\u001b[0m\u001b[1;33m)\u001b[0m \u001b[1;32mfrom\u001b[0m \u001b[1;32mNone\u001b[0m\u001b[1;33m\u001b[0m\u001b[1;33m\u001b[0m\u001b[0m\n\u001b[0m\u001b[0;32m     68\u001b[0m     \u001b[1;32mfinally\u001b[0m\u001b[1;33m:\u001b[0m\u001b[1;33m\u001b[0m\u001b[1;33m\u001b[0m\u001b[0m\n\u001b[0;32m     69\u001b[0m       \u001b[1;32mdel\u001b[0m \u001b[0mfiltered_tb\u001b[0m\u001b[1;33m\u001b[0m\u001b[1;33m\u001b[0m\u001b[0m\n",
      "\u001b[1;32m~\\Anaconda3\\lib\\site-packages\\tensorflow\\python\\framework\\constant_op.py\u001b[0m in \u001b[0;36mconvert_to_eager_tensor\u001b[1;34m(value, ctx, dtype)\u001b[0m\n\u001b[0;32m    100\u001b[0m       \u001b[0mdtype\u001b[0m \u001b[1;33m=\u001b[0m \u001b[0mdtypes\u001b[0m\u001b[1;33m.\u001b[0m\u001b[0mas_dtype\u001b[0m\u001b[1;33m(\u001b[0m\u001b[0mdtype\u001b[0m\u001b[1;33m)\u001b[0m\u001b[1;33m.\u001b[0m\u001b[0mas_datatype_enum\u001b[0m\u001b[1;33m\u001b[0m\u001b[1;33m\u001b[0m\u001b[0m\n\u001b[0;32m    101\u001b[0m   \u001b[0mctx\u001b[0m\u001b[1;33m.\u001b[0m\u001b[0mensure_initialized\u001b[0m\u001b[1;33m(\u001b[0m\u001b[1;33m)\u001b[0m\u001b[1;33m\u001b[0m\u001b[1;33m\u001b[0m\u001b[0m\n\u001b[1;32m--> 102\u001b[1;33m   \u001b[1;32mreturn\u001b[0m \u001b[0mops\u001b[0m\u001b[1;33m.\u001b[0m\u001b[0mEagerTensor\u001b[0m\u001b[1;33m(\u001b[0m\u001b[0mvalue\u001b[0m\u001b[1;33m,\u001b[0m \u001b[0mctx\u001b[0m\u001b[1;33m.\u001b[0m\u001b[0mdevice_name\u001b[0m\u001b[1;33m,\u001b[0m \u001b[0mdtype\u001b[0m\u001b[1;33m)\u001b[0m\u001b[1;33m\u001b[0m\u001b[1;33m\u001b[0m\u001b[0m\n\u001b[0m\u001b[0;32m    103\u001b[0m \u001b[1;33m\u001b[0m\u001b[0m\n\u001b[0;32m    104\u001b[0m \u001b[1;33m\u001b[0m\u001b[0m\n",
      "\u001b[1;31mInternalError\u001b[0m: Failed copying input tensor from /job:localhost/replica:0/task:0/device:CPU:0 to /job:localhost/replica:0/task:0/device:GPU:0 in order to run _EagerConst: Dst tensor is not initialized."
     ]
    }
   ],
   "source": [
    "model.fit(x_train_oh, y_train, epochs=10, batch_size=64, validation_data=(x_test_oh, y_test))"
   ]
  },
  {
   "cell_type": "code",
   "execution_count": null,
   "id": "5c85bdc0",
   "metadata": {},
   "outputs": [],
   "source": []
  },
  {
   "cell_type": "code",
   "execution_count": null,
   "id": "9f3c88ae",
   "metadata": {},
   "outputs": [],
   "source": []
  },
  {
   "cell_type": "code",
   "execution_count": null,
   "id": "03471feb",
   "metadata": {},
   "outputs": [],
   "source": []
  },
  {
   "cell_type": "code",
   "execution_count": 60,
   "id": "69e7b508",
   "metadata": {},
   "outputs": [
    {
     "name": "stdout",
     "output_type": "stream",
     "text": [
      "Model: \"sequential_7\"\n",
      "_________________________________________________________________\n",
      " Layer (type)                Output Shape              Param #   \n",
      "=================================================================\n",
      " simple_rnn_1 (SimpleRNN)    (None, 8)                 8072      \n",
      "                                                                 \n",
      " dense_7 (Dense)             (None, 1)                 9         \n",
      "                                                                 \n",
      "=================================================================\n",
      "Total params: 8,081\n",
      "Trainable params: 8,081\n",
      "Non-trainable params: 0\n",
      "_________________________________________________________________\n"
     ]
    }
   ],
   "source": [
    "model = Sequential()\n",
    "model.add(SimpleRNN(8, input_shape=(300,1000)))\n",
    "model.add(Dense(1, activation='sigmoid'))\n",
    "model.summary()"
   ]
  },
  {
   "cell_type": "code",
   "execution_count": 61,
   "id": "bc8ffccf",
   "metadata": {},
   "outputs": [],
   "source": [
    "model.compile(loss='categorical_crossentropy', metrics=['accuracy'], optimizer='adam')"
   ]
  },
  {
   "cell_type": "code",
   "execution_count": 62,
   "id": "16cbbe98",
   "metadata": {},
   "outputs": [
    {
     "ename": "InternalError",
     "evalue": "Failed copying input tensor from /job:localhost/replica:0/task:0/device:CPU:0 to /job:localhost/replica:0/task:0/device:GPU:0 in order to run _EagerConst: Dst tensor is not initialized.",
     "output_type": "error",
     "traceback": [
      "\u001b[1;31m---------------------------------------------------------------------------\u001b[0m",
      "\u001b[1;31mInternalError\u001b[0m                             Traceback (most recent call last)",
      "\u001b[1;32m~\\AppData\\Local\\Temp/ipykernel_12272/1498073438.py\u001b[0m in \u001b[0;36m<module>\u001b[1;34m\u001b[0m\n\u001b[1;32m----> 1\u001b[1;33m \u001b[0mmodel\u001b[0m\u001b[1;33m.\u001b[0m\u001b[0mfit\u001b[0m\u001b[1;33m(\u001b[0m\u001b[0mx_train_oh\u001b[0m\u001b[1;33m,\u001b[0m \u001b[0my_train\u001b[0m\u001b[1;33m,\u001b[0m \u001b[0mepochs\u001b[0m\u001b[1;33m=\u001b[0m\u001b[1;36m10\u001b[0m\u001b[1;33m,\u001b[0m \u001b[0mbatch_size\u001b[0m\u001b[1;33m=\u001b[0m\u001b[1;36m64\u001b[0m\u001b[1;33m,\u001b[0m \u001b[0mvalidation_data\u001b[0m\u001b[1;33m=\u001b[0m\u001b[1;33m(\u001b[0m\u001b[0mx_test_oh\u001b[0m\u001b[1;33m,\u001b[0m \u001b[0my_test\u001b[0m\u001b[1;33m)\u001b[0m\u001b[1;33m)\u001b[0m\u001b[1;33m\u001b[0m\u001b[1;33m\u001b[0m\u001b[0m\n\u001b[0m",
      "\u001b[1;32m~\\Anaconda3\\lib\\site-packages\\keras\\utils\\traceback_utils.py\u001b[0m in \u001b[0;36merror_handler\u001b[1;34m(*args, **kwargs)\u001b[0m\n\u001b[0;32m     65\u001b[0m     \u001b[1;32mexcept\u001b[0m \u001b[0mException\u001b[0m \u001b[1;32mas\u001b[0m \u001b[0me\u001b[0m\u001b[1;33m:\u001b[0m  \u001b[1;31m# pylint: disable=broad-except\u001b[0m\u001b[1;33m\u001b[0m\u001b[1;33m\u001b[0m\u001b[0m\n\u001b[0;32m     66\u001b[0m       \u001b[0mfiltered_tb\u001b[0m \u001b[1;33m=\u001b[0m \u001b[0m_process_traceback_frames\u001b[0m\u001b[1;33m(\u001b[0m\u001b[0me\u001b[0m\u001b[1;33m.\u001b[0m\u001b[0m__traceback__\u001b[0m\u001b[1;33m)\u001b[0m\u001b[1;33m\u001b[0m\u001b[1;33m\u001b[0m\u001b[0m\n\u001b[1;32m---> 67\u001b[1;33m       \u001b[1;32mraise\u001b[0m \u001b[0me\u001b[0m\u001b[1;33m.\u001b[0m\u001b[0mwith_traceback\u001b[0m\u001b[1;33m(\u001b[0m\u001b[0mfiltered_tb\u001b[0m\u001b[1;33m)\u001b[0m \u001b[1;32mfrom\u001b[0m \u001b[1;32mNone\u001b[0m\u001b[1;33m\u001b[0m\u001b[1;33m\u001b[0m\u001b[0m\n\u001b[0m\u001b[0;32m     68\u001b[0m     \u001b[1;32mfinally\u001b[0m\u001b[1;33m:\u001b[0m\u001b[1;33m\u001b[0m\u001b[1;33m\u001b[0m\u001b[0m\n\u001b[0;32m     69\u001b[0m       \u001b[1;32mdel\u001b[0m \u001b[0mfiltered_tb\u001b[0m\u001b[1;33m\u001b[0m\u001b[1;33m\u001b[0m\u001b[0m\n",
      "\u001b[1;32m~\\Anaconda3\\lib\\site-packages\\tensorflow\\python\\framework\\constant_op.py\u001b[0m in \u001b[0;36mconvert_to_eager_tensor\u001b[1;34m(value, ctx, dtype)\u001b[0m\n\u001b[0;32m    100\u001b[0m       \u001b[0mdtype\u001b[0m \u001b[1;33m=\u001b[0m \u001b[0mdtypes\u001b[0m\u001b[1;33m.\u001b[0m\u001b[0mas_dtype\u001b[0m\u001b[1;33m(\u001b[0m\u001b[0mdtype\u001b[0m\u001b[1;33m)\u001b[0m\u001b[1;33m.\u001b[0m\u001b[0mas_datatype_enum\u001b[0m\u001b[1;33m\u001b[0m\u001b[1;33m\u001b[0m\u001b[0m\n\u001b[0;32m    101\u001b[0m   \u001b[0mctx\u001b[0m\u001b[1;33m.\u001b[0m\u001b[0mensure_initialized\u001b[0m\u001b[1;33m(\u001b[0m\u001b[1;33m)\u001b[0m\u001b[1;33m\u001b[0m\u001b[1;33m\u001b[0m\u001b[0m\n\u001b[1;32m--> 102\u001b[1;33m   \u001b[1;32mreturn\u001b[0m \u001b[0mops\u001b[0m\u001b[1;33m.\u001b[0m\u001b[0mEagerTensor\u001b[0m\u001b[1;33m(\u001b[0m\u001b[0mvalue\u001b[0m\u001b[1;33m,\u001b[0m \u001b[0mctx\u001b[0m\u001b[1;33m.\u001b[0m\u001b[0mdevice_name\u001b[0m\u001b[1;33m,\u001b[0m \u001b[0mdtype\u001b[0m\u001b[1;33m)\u001b[0m\u001b[1;33m\u001b[0m\u001b[1;33m\u001b[0m\u001b[0m\n\u001b[0m\u001b[0;32m    103\u001b[0m \u001b[1;33m\u001b[0m\u001b[0m\n\u001b[0;32m    104\u001b[0m \u001b[1;33m\u001b[0m\u001b[0m\n",
      "\u001b[1;31mInternalError\u001b[0m: Failed copying input tensor from /job:localhost/replica:0/task:0/device:CPU:0 to /job:localhost/replica:0/task:0/device:GPU:0 in order to run _EagerConst: Dst tensor is not initialized."
     ]
    }
   ],
   "source": [
    "model.fit(x_train_oh, y_train, epochs=10, batch_size=64, validation_data=(x_test_oh, y_test))"
   ]
  },
  {
   "cell_type": "code",
   "execution_count": null,
   "id": "0ac7e88e",
   "metadata": {},
   "outputs": [],
   "source": []
  },
  {
   "cell_type": "code",
   "execution_count": null,
   "id": "ae98e28c",
   "metadata": {},
   "outputs": [],
   "source": []
  },
  {
   "cell_type": "code",
   "execution_count": null,
   "id": "ce14f303",
   "metadata": {},
   "outputs": [],
   "source": []
  },
  {
   "cell_type": "code",
   "execution_count": null,
   "id": "0ebbb2a2",
   "metadata": {},
   "outputs": [],
   "source": []
  },
  {
   "cell_type": "code",
   "execution_count": null,
   "id": "a4d4baff",
   "metadata": {},
   "outputs": [],
   "source": []
  },
  {
   "cell_type": "code",
   "execution_count": null,
   "id": "6a098651",
   "metadata": {},
   "outputs": [],
   "source": []
  },
  {
   "cell_type": "code",
   "execution_count": null,
   "id": "e9af8a21",
   "metadata": {},
   "outputs": [],
   "source": []
  },
  {
   "cell_type": "code",
   "execution_count": null,
   "id": "dad61031",
   "metadata": {},
   "outputs": [],
   "source": []
  },
  {
   "cell_type": "code",
   "execution_count": null,
   "id": "b488fc13",
   "metadata": {},
   "outputs": [],
   "source": []
  },
  {
   "cell_type": "code",
   "execution_count": null,
   "id": "cfa49fe7",
   "metadata": {},
   "outputs": [],
   "source": []
  }
 ],
 "metadata": {
  "kernelspec": {
   "display_name": "Python 3 (ipykernel)",
   "language": "python",
   "name": "python3"
  },
  "language_info": {
   "codemirror_mode": {
    "name": "ipython",
    "version": 3
   },
   "file_extension": ".py",
   "mimetype": "text/x-python",
   "name": "python",
   "nbconvert_exporter": "python",
   "pygments_lexer": "ipython3",
   "version": "3.9.7"
  },
  "toc": {
   "base_numbering": 1,
   "nav_menu": {},
   "number_sections": true,
   "sideBar": true,
   "skip_h1_title": false,
   "title_cell": "Table of Contents",
   "title_sidebar": "Contents",
   "toc_cell": false,
   "toc_position": {},
   "toc_section_display": true,
   "toc_window_display": false
  },
  "varInspector": {
   "cols": {
    "lenName": 16,
    "lenType": 16,
    "lenVar": 40
   },
   "kernels_config": {
    "python": {
     "delete_cmd_postfix": "",
     "delete_cmd_prefix": "del ",
     "library": "var_list.py",
     "varRefreshCmd": "print(var_dic_list())"
    },
    "r": {
     "delete_cmd_postfix": ") ",
     "delete_cmd_prefix": "rm(",
     "library": "var_list.r",
     "varRefreshCmd": "cat(var_dic_list()) "
    }
   },
   "types_to_exclude": [
    "module",
    "function",
    "builtin_function_or_method",
    "instance",
    "_Feature"
   ],
   "window_display": false
  }
 },
 "nbformat": 4,
 "nbformat_minor": 5
}
