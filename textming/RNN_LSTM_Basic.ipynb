{
 "cells": [
  {
   "cell_type": "markdown",
   "id": "33aea6ee",
   "metadata": {},
   "source": [
    "* hidden_state => vector \n",
    "* vector size(hidden state size == cell size) : hyper parameter => 처음부터 끝까지 고정 ()"
   ]
  },
  {
   "cell_type": "code",
   "execution_count": 2,
   "id": "7c07bd6f",
   "metadata": {},
   "outputs": [],
   "source": [
    "import pandas as pd\n",
    "import numpy as np\n",
    "import matplotlib.pyplot as plt\n",
    "import seaborn as sns"
   ]
  },
  {
   "cell_type": "code",
   "execution_count": 3,
   "id": "870878c6",
   "metadata": {},
   "outputs": [],
   "source": [
    "import tensorflow as tf\n",
    "from tensorflow.keras.layers import SimpleRNN, LSTM, GRU, Bidirectional"
   ]
  },
  {
   "cell_type": "code",
   "execution_count": 35,
   "id": "6b597ba6",
   "metadata": {},
   "outputs": [
    {
     "data": {
      "text/plain": [
       "[[0.1, 4.2, 1.5, 1.1, 2.8],\n",
       " [1.0, 2.3, 2.4, 1.5, 3.1],\n",
       " [1.2, 2.1, 3.2, 2.2, 1.0],\n",
       " [0.2, 0.3, 1.2, 1.3, 2.0]]"
      ]
     },
     "execution_count": 35,
     "metadata": {},
     "output_type": "execute_result"
    }
   ],
   "source": [
    "train_x = [\n",
    "    [0.1, 4.2, 1.5, 1.1, 2.8],\n",
    "    [1.0, 2.3, 2.4, 1.5, 3.1],\n",
    "    [1.2, 2.1, 3.2, 2.2, 1.0],\n",
    "    [0.2, 0.3, 1.2, 1.3, 2.0]\n",
    "]\n",
    "train_x"
   ]
  },
  {
   "cell_type": "code",
   "execution_count": 36,
   "id": "43ea6bfa",
   "metadata": {},
   "outputs": [
    {
     "data": {
      "text/plain": [
       "(4, 5)"
      ]
     },
     "execution_count": 36,
     "metadata": {},
     "output_type": "execute_result"
    }
   ],
   "source": [
    "np.array(train_x).shape"
   ]
  },
  {
   "cell_type": "code",
   "execution_count": 37,
   "id": "cd33870c",
   "metadata": {},
   "outputs": [],
   "source": [
    "train_x = np.array(train_x).reshape(1,4,5)"
   ]
  },
  {
   "cell_type": "code",
   "execution_count": 31,
   "id": "63537d37",
   "metadata": {
    "collapsed": true
   },
   "outputs": [
    {
     "ename": "AttributeError",
     "evalue": "'tuple' object has no attribute 'reshape'",
     "output_type": "error",
     "traceback": [
      "\u001b[1;31m---------------------------------------------------------------------------\u001b[0m",
      "\u001b[1;31mAttributeError\u001b[0m                            Traceback (most recent call last)",
      "\u001b[1;32m~\\AppData\\Local\\Temp\\ipykernel_14056\\4280368271.py\u001b[0m in \u001b[0;36m<module>\u001b[1;34m\u001b[0m\n\u001b[1;32m----> 1\u001b[1;33m \u001b[0mtrain_x\u001b[0m \u001b[1;33m=\u001b[0m \u001b[0mtrain_x\u001b[0m\u001b[1;33m.\u001b[0m\u001b[0mreshape\u001b[0m\u001b[1;33m(\u001b[0m\u001b[1;33m(\u001b[0m\u001b[1;36m1\u001b[0m\u001b[1;33m,\u001b[0m \u001b[1;36m4\u001b[0m\u001b[1;33m,\u001b[0m \u001b[1;36m5\u001b[0m\u001b[1;33m)\u001b[0m\u001b[1;33m)\u001b[0m\u001b[1;33m\u001b[0m\u001b[1;33m\u001b[0m\u001b[0m\n\u001b[0m",
      "\u001b[1;31mAttributeError\u001b[0m: 'tuple' object has no attribute 'reshape'"
     ]
    }
   ],
   "source": [
    "train_x = train_x.reshape(1, 4, 5)"
   ]
  },
  {
   "cell_type": "code",
   "execution_count": 12,
   "id": "3f10074d",
   "metadata": {},
   "outputs": [
    {
     "data": {
      "text/plain": [
       "[[[0.1, 4.2, 1.5, 1.1, 2.8],\n",
       "  [1.0, 2.3, 2.4, 1.5, 3.1],\n",
       "  [1.2, 2.1, 3.2, 2.2, 1.0],\n",
       "  [0.2, 0.3, 1.2, 1.3, 2.0]],\n",
       " [[0.1, 4.2, 1.5, 1.1, 2.8],\n",
       "  [1.0, 2.3, 2.4, 1.5, 3.1],\n",
       "  [1.2, 2.1, 3.2, 2.2, 1.0],\n",
       "  [0.2, 0.3, 1.2, 1.3, 2.0]]]"
      ]
     },
     "execution_count": 12,
     "metadata": {},
     "output_type": "execute_result"
    }
   ],
   "source": [
    "train_z = [[\n",
    "    [0.1, 4.2, 1.5, 1.1, 2.8],\n",
    "    [1.0, 2.3, 2.4, 1.5, 3.1],\n",
    "    [1.2, 2.1, 3.2, 2.2, 1.0],\n",
    "    [0.2, 0.3, 1.2, 1.3, 2.0]\n",
    "],\n",
    "[\n",
    "    [0.1, 4.2, 1.5, 1.1, 2.8],\n",
    "    [1.0, 2.3, 2.4, 1.5, 3.1],\n",
    "    [1.2, 2.1, 3.2, 2.2, 1.0],\n",
    "    [0.2, 0.3, 1.2, 1.3, 2.0]\n",
    "]]\n",
    "\n",
    "train_z"
   ]
  },
  {
   "cell_type": "code",
   "execution_count": 13,
   "id": "9fb59b8c",
   "metadata": {},
   "outputs": [
    {
     "data": {
      "text/plain": [
       "(2, 4, 5)"
      ]
     },
     "execution_count": 13,
     "metadata": {},
     "output_type": "execute_result"
    }
   ],
   "source": [
    "np.array(train_z).shape"
   ]
  },
  {
   "cell_type": "markdown",
   "id": "e48d87f2",
   "metadata": {},
   "source": [
    "# RNN"
   ]
  },
  {
   "cell_type": "code",
   "execution_count": 38,
   "id": "c60a8fdb",
   "metadata": {},
   "outputs": [
    {
     "name": "stdout",
     "output_type": "stream",
     "text": [
      "tf.Tensor(\n",
      "[[[-0.46384576  0.97909683 -0.7930667 ]\n",
      "  [-0.75040984  0.83308566 -0.90643466]\n",
      "  [-0.9529137   0.9963711  -0.985934  ]\n",
      "  [-0.47973564 -0.57756096 -0.79799247]]], shape=(1, 4, 3), dtype=float32)\n",
      "tf.Tensor([[-0.47973564 -0.57756096 -0.79799247]], shape=(1, 3), dtype=float32)\n"
     ]
    }
   ],
   "source": [
    "# [[v,v,v,v,v], [v,v,v,v,v], [v,v,v,v,v], [v,v,v,v,v]]\n",
    "\n",
    "hidden_state_size = 3\n",
    "\n",
    "rnn = SimpleRNN(hidden_state_size, input_shape=(4,5), return_sequences=True, return_state=True)  # input_shape = (seq_len, input_dim) \n",
    "output_1, output_2 = rnn(train_x)    # return_sequences : cell마다 출력\n",
    "\n",
    "print(output_1)  # last rnn cell의 hidden state 값\n",
    "print(output_2)   # return_state=True 마지막 셀 하나만 추가로 출력"
   ]
  },
  {
   "cell_type": "code",
   "execution_count": 39,
   "id": "5b5ae096",
   "metadata": {},
   "outputs": [
    {
     "name": "stdout",
     "output_type": "stream",
     "text": [
      "tf.Tensor([[-0.84280616  0.9958102   0.92853606]], shape=(1, 3), dtype=float32)\n",
      "tf.Tensor([[-0.84280616  0.9958102   0.92853606]], shape=(1, 3), dtype=float32)\n"
     ]
    }
   ],
   "source": [
    "hidden_state_size = 3\n",
    "\n",
    "rnn = SimpleRNN(hidden_state_size, input_shape=(4,5), return_sequences=False, return_state=True) \n",
    "output_1, output_2 = rnn(train_x)    # return_sequences : cell마다 출력\n",
    "\n",
    "print(output_1)  \n",
    "print(output_2)   # return_state=True 마지막 셀 hidden state 하나만 추가로 출력"
   ]
  },
  {
   "cell_type": "markdown",
   "id": "3023b517",
   "metadata": {},
   "source": [
    "# LSTM"
   ]
  },
  {
   "cell_type": "code",
   "execution_count": 40,
   "id": "8c76c751",
   "metadata": {},
   "outputs": [
    {
     "name": "stdout",
     "output_type": "stream",
     "text": [
      "tf.Tensor([[-0.46412665 -0.03080952  0.18212292]], shape=(1, 3), dtype=float32)\n"
     ]
    }
   ],
   "source": [
    "lstm = LSTM(3)\n",
    "output = lstm(train_x)\n",
    "\n",
    "print(output) # 마지막 cell의 hidden state값만 출력"
   ]
  },
  {
   "cell_type": "code",
   "execution_count": 41,
   "id": "61fb4d44",
   "metadata": {},
   "outputs": [
    {
     "name": "stdout",
     "output_type": "stream",
     "text": [
      "tf.Tensor(\n",
      "[[[ 0.4170059  -0.06399667  0.04572804]\n",
      "  [ 0.35205215 -0.13611773  0.22800967]\n",
      "  [ 0.13903649 -0.2954029   0.31841302]\n",
      "  [ 0.10367267 -0.2872463   0.56054175]]], shape=(1, 4, 3), dtype=float32)\n"
     ]
    }
   ],
   "source": [
    "lstm = LSTM(3, return_sequences=True)\n",
    "output_1 = lstm(train_x)\n",
    "\n",
    "print(output_1)  # 모든 cell의 hidden state값 출력"
   ]
  },
  {
   "cell_type": "code",
   "execution_count": 42,
   "id": "e88963e7",
   "metadata": {},
   "outputs": [
    {
     "name": "stdout",
     "output_type": "stream",
     "text": [
      "[<tf.Tensor: shape=(1, 3), dtype=float32, numpy=array([[-0.25126252, -0.17888656,  0.13996898]], dtype=float32)>, <tf.Tensor: shape=(1, 3), dtype=float32, numpy=array([[-0.25126252, -0.17888656,  0.13996898]], dtype=float32)>, <tf.Tensor: shape=(1, 3), dtype=float32, numpy=array([[-0.36384636, -1.253472  ,  0.3835483 ]], dtype=float32)>]\n"
     ]
    }
   ],
   "source": [
    "lstm = LSTM(3, return_state=True)\n",
    "output_1 = lstm(train_x)\n",
    "\n",
    "print(output_1)  # 마지막 cell의 hidden state와 cell state 모두 출력"
   ]
  },
  {
   "cell_type": "code",
   "execution_count": 43,
   "id": "d3953f0c",
   "metadata": {},
   "outputs": [
    {
     "name": "stdout",
     "output_type": "stream",
     "text": [
      "tf.Tensor(\n",
      "[[[ 0.04926966 -0.35227564 -0.0891728 ]\n",
      "  [ 0.04716298 -0.51887715 -0.22069742]\n",
      "  [ 0.05002563 -0.46418232 -0.25902894]\n",
      "  [ 0.02019375 -0.50653327 -0.11088155]]], shape=(1, 4, 3), dtype=float32)\n",
      "tf.Tensor([[ 0.02019375 -0.50653327 -0.11088155]], shape=(1, 3), dtype=float32)\n",
      "tf.Tensor([[ 0.05328591 -1.1500757  -0.28571987]], shape=(1, 3), dtype=float32)\n"
     ]
    }
   ],
   "source": [
    "lstm = LSTM(3, return_state=True, return_sequences=True)\n",
    "output_1, output_2, output_3 = lstm(train_x)\n",
    "\n",
    "print(output_1)\n",
    "print(output_2)\n",
    "print(output_3)"
   ]
  },
  {
   "cell_type": "markdown",
   "id": "fb7e4533",
   "metadata": {},
   "source": [
    "# bidirctional LSTM"
   ]
  },
  {
   "cell_type": "code",
   "execution_count": 44,
   "id": "89a629d1",
   "metadata": {},
   "outputs": [
    {
     "name": "stdout",
     "output_type": "stream",
     "text": [
      "tf.Tensor([[ 0.26466647  0.27472836  0.02537536 -0.38774422  0.07090999 -0.20201066]], shape=(1, 6), dtype=float32)\n"
     ]
    }
   ],
   "source": [
    "bilstm = Bidirectional(LSTM(3))\n",
    "hidden_states = bilstm(train_x)\n",
    "\n",
    "print(hidden_states)    # 순방향과 역방향의 각 hidden을 붙여서 나옴"
   ]
  },
  {
   "cell_type": "code",
   "execution_count": 45,
   "id": "122a78a7",
   "metadata": {},
   "outputs": [
    {
     "name": "stdout",
     "output_type": "stream",
     "text": [
      "tf.Tensor(\n",
      "[[[-0.10360917  0.19707294  0.50094724  0.09079915 -0.06341184\n",
      "   -0.54574203]\n",
      "  [-0.235489    0.42606142  0.6431751   0.1291828  -0.09211893\n",
      "   -0.2268604 ]\n",
      "  [-0.24305855  0.50146407  0.49337417  0.17004019 -0.16561075\n",
      "   -0.20592453]\n",
      "  [-0.3043269   0.48852888  0.5235814   0.09982269 -0.08658082\n",
      "   -0.13718887]]], shape=(1, 4, 6), dtype=float32)\n"
     ]
    }
   ],
   "source": [
    "bilstm = Bidirectional(LSTM(3, return_sequences=True))\n",
    "hidden_states = bilstm(train_x)\n",
    "\n",
    "print(hidden_states)  # 6차원 vector가 네개"
   ]
  },
  {
   "cell_type": "code",
   "execution_count": 48,
   "id": "f879a0e4",
   "metadata": {},
   "outputs": [
    {
     "name": "stdout",
     "output_type": "stream",
     "text": [
      "tf.Tensor(\n",
      "[[[-0.02992779 -0.2986732   0.04278515 -0.02763343 -0.34024808\n",
      "   -0.08105202]\n",
      "  [-0.03548211 -0.30765766  0.5105621  -0.00817041 -0.40089157\n",
      "   -0.04605862]\n",
      "  [-0.03931694 -0.36916584  0.3250572   0.02248387 -0.12220442\n",
      "    0.01486034]\n",
      "  [-0.06850964 -0.18047965  0.44340712 -0.00955396 -0.18989304\n",
      "    0.01204422]]], shape=(1, 4, 6), dtype=float32)\n",
      "tf.Tensor([[-0.06850964 -0.18047965  0.44340712]], shape=(1, 3), dtype=float32)\n",
      "tf.Tensor([[-0.28461754 -0.93275386  1.1591265 ]], shape=(1, 3), dtype=float32)\n",
      "tf.Tensor([[-0.02763343 -0.34024808 -0.08105202]], shape=(1, 3), dtype=float32)\n",
      "tf.Tensor([[-0.3975839  -1.6836963  -0.18196623]], shape=(1, 3), dtype=float32)\n"
     ]
    }
   ],
   "source": [
    "bilstm = Bidirectional(LSTM(3, return_sequences=True, return_state=True))\n",
    "a, b, c, d, e = bilstm(train_x)\n",
    "\n",
    "print(a)  # all cell hidden state\n",
    "print(b)  # forward_h\n",
    "print(c)  # forward_c\n",
    "print(d)  # backward_h\n",
    "print(e)  # backward_c"
   ]
  },
  {
   "cell_type": "code",
   "execution_count": null,
   "id": "d07b6f4a",
   "metadata": {},
   "outputs": [],
   "source": []
  },
  {
   "cell_type": "code",
   "execution_count": null,
   "id": "3ec7304d",
   "metadata": {},
   "outputs": [],
   "source": []
  },
  {
   "cell_type": "code",
   "execution_count": null,
   "id": "9b9281a4",
   "metadata": {},
   "outputs": [],
   "source": []
  },
  {
   "cell_type": "code",
   "execution_count": null,
   "id": "625397ae",
   "metadata": {},
   "outputs": [],
   "source": []
  },
  {
   "cell_type": "code",
   "execution_count": null,
   "id": "3eb02085",
   "metadata": {},
   "outputs": [],
   "source": []
  },
  {
   "cell_type": "code",
   "execution_count": null,
   "id": "b7ac0bcc",
   "metadata": {},
   "outputs": [],
   "source": []
  },
  {
   "cell_type": "code",
   "execution_count": null,
   "id": "4f353a84",
   "metadata": {},
   "outputs": [],
   "source": []
  },
  {
   "cell_type": "code",
   "execution_count": null,
   "id": "1cb71079",
   "metadata": {},
   "outputs": [],
   "source": []
  },
  {
   "cell_type": "code",
   "execution_count": null,
   "id": "0d3c52c8",
   "metadata": {},
   "outputs": [],
   "source": []
  },
  {
   "cell_type": "code",
   "execution_count": null,
   "id": "563df2b1",
   "metadata": {},
   "outputs": [],
   "source": []
  },
  {
   "cell_type": "code",
   "execution_count": null,
   "id": "f870a93a",
   "metadata": {},
   "outputs": [],
   "source": []
  },
  {
   "cell_type": "code",
   "execution_count": null,
   "id": "8e53db20",
   "metadata": {},
   "outputs": [],
   "source": []
  }
 ],
 "metadata": {
  "kernelspec": {
   "display_name": "Python 3 (ipykernel)",
   "language": "python",
   "name": "python3"
  },
  "language_info": {
   "codemirror_mode": {
    "name": "ipython",
    "version": 3
   },
   "file_extension": ".py",
   "mimetype": "text/x-python",
   "name": "python",
   "nbconvert_exporter": "python",
   "pygments_lexer": "ipython3",
   "version": "3.7.13"
  },
  "varInspector": {
   "cols": {
    "lenName": 16,
    "lenType": 16,
    "lenVar": 40
   },
   "kernels_config": {
    "python": {
     "delete_cmd_postfix": "",
     "delete_cmd_prefix": "del ",
     "library": "var_list.py",
     "varRefreshCmd": "print(var_dic_list())"
    },
    "r": {
     "delete_cmd_postfix": ") ",
     "delete_cmd_prefix": "rm(",
     "library": "var_list.r",
     "varRefreshCmd": "cat(var_dic_list()) "
    }
   },
   "types_to_exclude": [
    "module",
    "function",
    "builtin_function_or_method",
    "instance",
    "_Feature"
   ],
   "window_display": false
  }
 },
 "nbformat": 4,
 "nbformat_minor": 5
}
