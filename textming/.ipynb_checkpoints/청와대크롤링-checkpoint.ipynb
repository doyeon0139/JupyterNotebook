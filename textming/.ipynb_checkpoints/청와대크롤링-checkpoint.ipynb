{
 "cells": [
  {
   "cell_type": "code",
   "execution_count": 3,
   "id": "418c6e11",
   "metadata": {},
   "outputs": [],
   "source": [
    "import pandas as pd\n",
    "import numpy as np\n",
    "import re\n",
    "import time\n",
    "\n",
    "import requests\n",
    "from bs4 import BeautifulSoup\n",
    "\n",
    "from selenium import webdriver\n",
    "from selenium.webdriver.common.keys import Keys\n",
    "\n",
    "import warnings\n",
    "warnings.filterwarnings(action='ignore')"
   ]
  },
  {
   "cell_type": "code",
   "execution_count": 5,
   "id": "7df92084",
   "metadata": {},
   "outputs": [],
   "source": [
    "driver = webdriver.Chrome()"
   ]
  },
  {
   "cell_type": "code",
   "execution_count": 50,
   "id": "6765c13e",
   "metadata": {},
   "outputs": [
    {
     "name": "stdout",
     "output_type": "stream",
     "text": [
      "윤석열 당선자의 대장동 부산저축은행 부실수사 봐주기 의혹과 김건희의 주가조작 실체의 진상조사 확인을 위한 청원입니다.\n",
      "\n",
      "\t\t\t\t\t\t\t\t\t\t20대 대통령으로 윤석열 후보가 당선되었습니다.\n",
      "\n",
      "그러나 여전히 본인과 그부인에 대한 의혹은 좀처럼 사라지지 않고 있습니다.\n",
      "\n",
      "대통령 후보라면 그 친가족 검증에 있어서는 먼지털 하나라도 검증대상입니다.\n",
      "\n",
      "여전히 의혹만 있을뿐 이에 대한 검증과 수사가 제대로 이루어지지 않은 상태에서 당선인 신분이 된 것은 전혀 \n",
      "\n",
      "납득이 안될 일입니다.\n",
      "\n",
      "윤석열 당선인이 진정 국민과 나라를 위해 일할 지도자가 된다면 최소 이정도는 당선인 신분에도 확실한 검증이 \n",
      "\n",
      "필요합니다.\n",
      "\n",
      "이것이 과연 윤석열 당선인이 외쳤던 공정과 상식입니까? \n",
      "\n",
      "도저히 국민의 한사람으로써 납득이 안될 일입니다.\n",
      "\n",
      "물론 대장동 특검에 있어서는 여당에서 대선후에도 강력추진하겠다란 의지는 확고합니다.\n",
      "\n",
      "그러나 여전히 이부분에 대해서 윤석열 당선인은 제대로된 답변과 언급이 없는 상태로 그냥 당선되면 없어진다.\n",
      "\n",
      "하는 스스로의 망각된 생각을 가진 자가 20대 대통령이 된다는거 국민의 한사람으로서 도저히 납득이 안되고 이해 \n",
      "\n",
      "불가입니다.\n",
      "\n",
      "윤석열 당선인의 부산저축은행 부실수사 의혹과 김건희씨의 주가조작 의혹에 대해 당선인 신분에 있어서도 강력한\n",
      "\n",
      "수사가 이루어져야 할 것이며, 필요시 이에대한 법적제재를 받는 것, 특히나 당선자 역시국민중 한사람이라는 명분 \n",
      "\n",
      "잊어서는 안될 것입니다.\n",
      "\n",
      "안될 것입니다.\t\t\t\t\t\t\t\t\t\n"
     ]
    }
   ],
   "source": [
    "url = 'https://www1.president.go.kr/petitions/best?page=1'\n",
    "elem = driver.get(url)\n",
    "\n",
    "html = driver.page_source\n",
    "\n",
    "soup = BeautifulSoup(html, 'html.parser')\n",
    "\n",
    "path = '#cont_view > div.cs_area > div > div > div.board.text > div.b_list.category'\n",
    "sell = soup.select(path)[0]\n",
    "\n",
    "\n",
    "cate = sell.select(\"ul > li:nth-child(1) > div > div.bl_category.cs\")[0].text\n",
    "close = sell.select(\"ul > li:nth-child(1) > div > div.bl_date.light\")[0].text\n",
    "num = sell.select(\"ul > li:nth-child(1) > div > div.bl_date.light\")[0].text\n",
    "\n",
    "\n",
    "driver.find_element_by_css_selector(f'#cont_view > div.cs_area > div > div > div.board.text > div.b_list.category > div.bl_body > ul > li:nth-child(1) > div > div.bl_subject > a').click()\n",
    "html = driver.page_source\n",
    "\n",
    "soup = BeautifulSoup(html, 'html.parser')\n",
    "\n",
    "\n",
    "title = soup.select(\"#cont_view > div.cs_area > div.new_contents > div > div.petitionsView_left > div > h3\")[0].text\n",
    "doc = soup.select(\"#cont_view > div.cs_area > div.new_contents > div > div.petitionsView_left > div > div.petitionsView_write > div.View_write\")[0].text\n",
    "\n",
    "print(title)\n",
    "print(doc)"
   ]
  },
  {
   "cell_type": "code",
   "execution_count": null,
   "id": "6213594f",
   "metadata": {},
   "outputs": [],
   "source": [
    "'#cont_view > div.cs_area > div.new_contents > div > div.petitionsView_left > div > div.petitionsView_write > div.View_write'"
   ]
  },
  {
   "cell_type": "code",
   "execution_count": null,
   "id": "4b5213a3",
   "metadata": {},
   "outputs": [],
   "source": []
  },
  {
   "cell_type": "code",
   "execution_count": null,
   "id": "9df35056",
   "metadata": {},
   "outputs": [],
   "source": []
  },
  {
   "cell_type": "code",
   "execution_count": null,
   "id": "8076e39d",
   "metadata": {},
   "outputs": [],
   "source": []
  },
  {
   "cell_type": "code",
   "execution_count": null,
   "id": "faf7600a",
   "metadata": {},
   "outputs": [],
   "source": []
  },
  {
   "cell_type": "code",
   "execution_count": null,
   "id": "2323d2d2",
   "metadata": {},
   "outputs": [],
   "source": []
  },
  {
   "cell_type": "code",
   "execution_count": null,
   "id": "f8990d81",
   "metadata": {},
   "outputs": [],
   "source": []
  },
  {
   "cell_type": "code",
   "execution_count": null,
   "id": "d633591b",
   "metadata": {},
   "outputs": [],
   "source": []
  },
  {
   "cell_type": "code",
   "execution_count": null,
   "id": "1c8ce4e7",
   "metadata": {},
   "outputs": [],
   "source": []
  },
  {
   "cell_type": "code",
   "execution_count": null,
   "id": "9ad46311",
   "metadata": {},
   "outputs": [],
   "source": []
  },
  {
   "cell_type": "code",
   "execution_count": null,
   "id": "cc1cab85",
   "metadata": {},
   "outputs": [],
   "source": []
  },
  {
   "cell_type": "code",
   "execution_count": null,
   "id": "49aaf92f",
   "metadata": {},
   "outputs": [],
   "source": []
  },
  {
   "cell_type": "code",
   "execution_count": null,
   "id": "ff1b2113",
   "metadata": {},
   "outputs": [],
   "source": []
  },
  {
   "cell_type": "code",
   "execution_count": null,
   "id": "03939f8c",
   "metadata": {},
   "outputs": [],
   "source": []
  },
  {
   "cell_type": "code",
   "execution_count": null,
   "id": "f25ae42d",
   "metadata": {},
   "outputs": [],
   "source": []
  },
  {
   "cell_type": "code",
   "execution_count": null,
   "id": "14ccf873",
   "metadata": {},
   "outputs": [],
   "source": []
  },
  {
   "cell_type": "code",
   "execution_count": null,
   "id": "6bf80206",
   "metadata": {},
   "outputs": [],
   "source": []
  },
  {
   "cell_type": "code",
   "execution_count": null,
   "id": "d4db46e4",
   "metadata": {},
   "outputs": [],
   "source": []
  },
  {
   "cell_type": "code",
   "execution_count": null,
   "id": "48f49a5c",
   "metadata": {},
   "outputs": [],
   "source": []
  },
  {
   "cell_type": "code",
   "execution_count": null,
   "id": "2ea6902f",
   "metadata": {},
   "outputs": [],
   "source": []
  },
  {
   "cell_type": "code",
   "execution_count": null,
   "id": "c31a7f9e",
   "metadata": {},
   "outputs": [],
   "source": []
  },
  {
   "cell_type": "code",
   "execution_count": null,
   "id": "1d356d6f",
   "metadata": {},
   "outputs": [],
   "source": []
  },
  {
   "cell_type": "code",
   "execution_count": null,
   "id": "0486bb5b",
   "metadata": {},
   "outputs": [],
   "source": []
  },
  {
   "cell_type": "code",
   "execution_count": null,
   "id": "b98b769d",
   "metadata": {},
   "outputs": [],
   "source": []
  },
  {
   "cell_type": "code",
   "execution_count": null,
   "id": "cb31cb11",
   "metadata": {},
   "outputs": [],
   "source": []
  },
  {
   "cell_type": "code",
   "execution_count": null,
   "id": "318fca3b",
   "metadata": {},
   "outputs": [],
   "source": []
  },
  {
   "cell_type": "code",
   "execution_count": null,
   "id": "ca61aca7",
   "metadata": {},
   "outputs": [],
   "source": []
  },
  {
   "cell_type": "code",
   "execution_count": null,
   "id": "43ec85da",
   "metadata": {},
   "outputs": [],
   "source": []
  }
 ],
 "metadata": {
  "kernelspec": {
   "display_name": "Python 3 (ipykernel)",
   "language": "python",
   "name": "python3"
  },
  "language_info": {
   "codemirror_mode": {
    "name": "ipython",
    "version": 3
   },
   "file_extension": ".py",
   "mimetype": "text/x-python",
   "name": "python",
   "nbconvert_exporter": "python",
   "pygments_lexer": "ipython3",
   "version": "3.9.7"
  },
  "varInspector": {
   "cols": {
    "lenName": 16,
    "lenType": 16,
    "lenVar": 40
   },
   "kernels_config": {
    "python": {
     "delete_cmd_postfix": "",
     "delete_cmd_prefix": "del ",
     "library": "var_list.py",
     "varRefreshCmd": "print(var_dic_list())"
    },
    "r": {
     "delete_cmd_postfix": ") ",
     "delete_cmd_prefix": "rm(",
     "library": "var_list.r",
     "varRefreshCmd": "cat(var_dic_list()) "
    }
   },
   "types_to_exclude": [
    "module",
    "function",
    "builtin_function_or_method",
    "instance",
    "_Feature"
   ],
   "window_display": false
  }
 },
 "nbformat": 4,
 "nbformat_minor": 5
}
