{
 "cells": [
  {
   "cell_type": "code",
   "execution_count": 2,
   "id": "f24212ad",
   "metadata": {},
   "outputs": [],
   "source": [
    "import pandas as pd\n",
    "import numpy as np\n",
    "import matplotlib.pyplot as plt\n",
    "import seaborn as sns"
   ]
  },
  {
   "cell_type": "code",
   "execution_count": 3,
   "id": "e817f765",
   "metadata": {},
   "outputs": [],
   "source": [
    "pet = pd.read_csv('./petition.csv')"
   ]
  },
  {
   "cell_type": "code",
   "execution_count": 4,
   "id": "9dd1274d",
   "metadata": {},
   "outputs": [
    {
     "name": "stdout",
     "output_type": "stream",
     "text": [
      "<class 'pandas.core.frame.DataFrame'>\n",
      "RangeIndex: 377756 entries, 0 to 377755\n",
      "Data columns (total 8 columns):\n",
      " #   Column      Non-Null Count   Dtype \n",
      "---  ------      --------------   ----- \n",
      " 0   article_id  377756 non-null  int64 \n",
      " 1   start       377756 non-null  object\n",
      " 2   end         377756 non-null  object\n",
      " 3   answered    377756 non-null  int64 \n",
      " 4   votes       377756 non-null  int64 \n",
      " 5   category    377756 non-null  object\n",
      " 6   title       377756 non-null  object\n",
      " 7   content     377755 non-null  object\n",
      "dtypes: int64(3), object(5)\n",
      "memory usage: 23.1+ MB\n"
     ]
    }
   ],
   "source": [
    "pet.info()"
   ]
  },
  {
   "cell_type": "code",
   "execution_count": 5,
   "id": "c66be974",
   "metadata": {},
   "outputs": [
    {
     "data": {
      "text/html": [
       "<div>\n",
       "<style scoped>\n",
       "    .dataframe tbody tr th:only-of-type {\n",
       "        vertical-align: middle;\n",
       "    }\n",
       "\n",
       "    .dataframe tbody tr th {\n",
       "        vertical-align: top;\n",
       "    }\n",
       "\n",
       "    .dataframe thead th {\n",
       "        text-align: right;\n",
       "    }\n",
       "</style>\n",
       "<table border=\"1\" class=\"dataframe\">\n",
       "  <thead>\n",
       "    <tr style=\"text-align: right;\">\n",
       "      <th></th>\n",
       "      <th>article_id</th>\n",
       "      <th>start</th>\n",
       "      <th>end</th>\n",
       "      <th>answered</th>\n",
       "      <th>votes</th>\n",
       "      <th>category</th>\n",
       "      <th>title</th>\n",
       "      <th>content</th>\n",
       "    </tr>\n",
       "  </thead>\n",
       "  <tbody>\n",
       "    <tr>\n",
       "      <th>0</th>\n",
       "      <td>21</td>\n",
       "      <td>2017-08-19</td>\n",
       "      <td>2017-11-17</td>\n",
       "      <td>0</td>\n",
       "      <td>9</td>\n",
       "      <td>안전/환경</td>\n",
       "      <td>스텔라 데이지호에 대한 제안입니다.</td>\n",
       "      <td>스텔라 데이지호에 대한 제안입니다.\\n3월31일 스텔라 데이지호가 침몰하고 5달째가...</td>\n",
       "    </tr>\n",
       "    <tr>\n",
       "      <th>1</th>\n",
       "      <td>22</td>\n",
       "      <td>2017-08-19</td>\n",
       "      <td>2017-11-17</td>\n",
       "      <td>0</td>\n",
       "      <td>17</td>\n",
       "      <td>기타</td>\n",
       "      <td>비리제보처를 만들어주세요.</td>\n",
       "      <td>현 정부에 국민들이 가장 원하는 것은 부패척결입니다.  우리 사회에 각종 비리들이 ...</td>\n",
       "    </tr>\n",
       "    <tr>\n",
       "      <th>2</th>\n",
       "      <td>23</td>\n",
       "      <td>2017-08-19</td>\n",
       "      <td>2017-09-03</td>\n",
       "      <td>0</td>\n",
       "      <td>0</td>\n",
       "      <td>미래</td>\n",
       "      <td>제2의 개성공단</td>\n",
       "      <td>만일 하시는 대통령님 및 각 부처 장관님,주무관님들 안녕하세요!!\\n전남 목포에서 ...</td>\n",
       "    </tr>\n",
       "    <tr>\n",
       "      <th>3</th>\n",
       "      <td>24</td>\n",
       "      <td>2017-08-19</td>\n",
       "      <td>2017-08-26</td>\n",
       "      <td>0</td>\n",
       "      <td>53</td>\n",
       "      <td>일자리</td>\n",
       "      <td>공공기관 무조건적인 정규직전환을 반대합니다.</td>\n",
       "      <td>현정부에서 정규직 일자리를 늘리는 것에 찬성합니다. 그런데 공공기관 비정규직들은 인...</td>\n",
       "    </tr>\n",
       "    <tr>\n",
       "      <th>4</th>\n",
       "      <td>25</td>\n",
       "      <td>2017-08-19</td>\n",
       "      <td>2017-09-03</td>\n",
       "      <td>0</td>\n",
       "      <td>0</td>\n",
       "      <td>미래</td>\n",
       "      <td>제2의 개성공단</td>\n",
       "      <td>만일 하시는 대통령님 및 각 부처 장관님,주무관님들 안녕하세요!!\\n전남 목포에서 ...</td>\n",
       "    </tr>\n",
       "  </tbody>\n",
       "</table>\n",
       "</div>"
      ],
      "text/plain": [
       "   article_id       start         end  answered  votes category  \\\n",
       "0          21  2017-08-19  2017-11-17         0      9    안전/환경   \n",
       "1          22  2017-08-19  2017-11-17         0     17       기타   \n",
       "2          23  2017-08-19  2017-09-03         0      0       미래   \n",
       "3          24  2017-08-19  2017-08-26         0     53      일자리   \n",
       "4          25  2017-08-19  2017-09-03         0      0       미래   \n",
       "\n",
       "                      title                                            content  \n",
       "0       스텔라 데이지호에 대한 제안입니다.  스텔라 데이지호에 대한 제안입니다.\\n3월31일 스텔라 데이지호가 침몰하고 5달째가...  \n",
       "1            비리제보처를 만들어주세요.  현 정부에 국민들이 가장 원하는 것은 부패척결입니다.  우리 사회에 각종 비리들이 ...  \n",
       "2                  제2의 개성공단  만일 하시는 대통령님 및 각 부처 장관님,주무관님들 안녕하세요!!\\n전남 목포에서 ...  \n",
       "3  공공기관 무조건적인 정규직전환을 반대합니다.  현정부에서 정규직 일자리를 늘리는 것에 찬성합니다. 그런데 공공기관 비정규직들은 인...  \n",
       "4                  제2의 개성공단  만일 하시는 대통령님 및 각 부처 장관님,주무관님들 안녕하세요!!\\n전남 목포에서 ...  "
      ]
     },
     "execution_count": 5,
     "metadata": {},
     "output_type": "execute_result"
    }
   ],
   "source": [
    "pet.head()"
   ]
  },
  {
   "cell_type": "code",
   "execution_count": 6,
   "id": "72eabb90",
   "metadata": {},
   "outputs": [],
   "source": [
    "pet = pet.sample(frac=0.1).copy()"
   ]
  },
  {
   "cell_type": "code",
   "execution_count": 7,
   "id": "4d2bef6b",
   "metadata": {},
   "outputs": [
    {
     "name": "stdout",
     "output_type": "stream",
     "text": [
      "<class 'pandas.core.frame.DataFrame'>\n",
      "Int64Index: 37776 entries, 236873 to 171210\n",
      "Data columns (total 8 columns):\n",
      " #   Column      Non-Null Count  Dtype \n",
      "---  ------      --------------  ----- \n",
      " 0   article_id  37776 non-null  int64 \n",
      " 1   start       37776 non-null  object\n",
      " 2   end         37776 non-null  object\n",
      " 3   answered    37776 non-null  int64 \n",
      " 4   votes       37776 non-null  int64 \n",
      " 5   category    37776 non-null  object\n",
      " 6   title       37776 non-null  object\n",
      " 7   content     37776 non-null  object\n",
      "dtypes: int64(3), object(5)\n",
      "memory usage: 2.6+ MB\n"
     ]
    }
   ],
   "source": [
    "pet.info()"
   ]
  },
  {
   "cell_type": "code",
   "execution_count": 8,
   "id": "c7d99f45",
   "metadata": {},
   "outputs": [],
   "source": [
    "pet['start'] = pd.to_datetime(pet['start'])\n",
    "pet['end'] = pd.to_datetime(pet['end'])"
   ]
  },
  {
   "cell_type": "code",
   "execution_count": 9,
   "id": "cbc36767",
   "metadata": {},
   "outputs": [],
   "source": [
    "pet['duration'] = pet['end']-pet['start']"
   ]
  },
  {
   "cell_type": "code",
   "execution_count": 10,
   "id": "334c4563",
   "metadata": {},
   "outputs": [
    {
     "data": {
      "text/html": [
       "<div>\n",
       "<style scoped>\n",
       "    .dataframe tbody tr th:only-of-type {\n",
       "        vertical-align: middle;\n",
       "    }\n",
       "\n",
       "    .dataframe tbody tr th {\n",
       "        vertical-align: top;\n",
       "    }\n",
       "\n",
       "    .dataframe thead th {\n",
       "        text-align: right;\n",
       "    }\n",
       "</style>\n",
       "<table border=\"1\" class=\"dataframe\">\n",
       "  <thead>\n",
       "    <tr style=\"text-align: right;\">\n",
       "      <th></th>\n",
       "      <th>article_id</th>\n",
       "      <th>start</th>\n",
       "      <th>end</th>\n",
       "      <th>answered</th>\n",
       "      <th>votes</th>\n",
       "      <th>category</th>\n",
       "      <th>title</th>\n",
       "      <th>content</th>\n",
       "      <th>duration</th>\n",
       "    </tr>\n",
       "  </thead>\n",
       "  <tbody>\n",
       "    <tr>\n",
       "      <th>236873</th>\n",
       "      <td>306740</td>\n",
       "      <td>2018-07-15</td>\n",
       "      <td>2018-08-14</td>\n",
       "      <td>0</td>\n",
       "      <td>3</td>\n",
       "      <td>경제민주화</td>\n",
       "      <td>일부 공기업의 과도한 임직원 임금 줄여주세요</td>\n",
       "      <td>적게 일하고 많이 받는 것으로 유명한 부서가 일부 있습니다.\\n많이 일하고도 적게 ...</td>\n",
       "      <td>30 days</td>\n",
       "    </tr>\n",
       "    <tr>\n",
       "      <th>209549</th>\n",
       "      <td>270717</td>\n",
       "      <td>2018-06-14</td>\n",
       "      <td>2018-07-14</td>\n",
       "      <td>0</td>\n",
       "      <td>17</td>\n",
       "      <td>정치개혁</td>\n",
       "      <td>자유한국당의 해산과 동시에 역적 박근혜의 사사(죽일 죄인을 예우하여 독약을 먹여 죽...</td>\n",
       "      <td>이 청원자는 천주교인이며, 세레명은 \"남종삼세례자요한\"입니다.\\n어제 지방선거에서 ...</td>\n",
       "      <td>30 days</td>\n",
       "    </tr>\n",
       "    <tr>\n",
       "      <th>297795</th>\n",
       "      <td>387590</td>\n",
       "      <td>2018-09-22</td>\n",
       "      <td>2018-10-22</td>\n",
       "      <td>0</td>\n",
       "      <td>4</td>\n",
       "      <td>기타</td>\n",
       "      <td>소비자의 선택권을 제한하고 갑질하는 통신사의 횡포를 막아 주십시요.</td>\n",
       "      <td>갤럭시워치 웨어러블 디바이스의 경우 통신사마다 공시지원금이 차이가 납니다.\\n건강관...</td>\n",
       "      <td>30 days</td>\n",
       "    </tr>\n",
       "    <tr>\n",
       "      <th>143384</th>\n",
       "      <td>172270</td>\n",
       "      <td>2018-03-22</td>\n",
       "      <td>2018-04-21</td>\n",
       "      <td>0</td>\n",
       "      <td>0</td>\n",
       "      <td>외교/통일/국방</td>\n",
       "      <td>군대에서 부대 주변 지도 및 지리에 대한 교육을 병사들에게 실시하였으면 좋겠습니다.</td>\n",
       "      <td>안녕하십니까 존경하는 대통령님.\\n저는 군대를 제대한지 3년이 지난 20대 중반의 ...</td>\n",
       "      <td>30 days</td>\n",
       "    </tr>\n",
       "    <tr>\n",
       "      <th>158750</th>\n",
       "      <td>194573</td>\n",
       "      <td>2018-04-10</td>\n",
       "      <td>2018-05-10</td>\n",
       "      <td>0</td>\n",
       "      <td>2</td>\n",
       "      <td>문화/예술/체육/언론</td>\n",
       "      <td>독립유공자 후원 방송 정규 편성 요청</td>\n",
       "      <td>독립유공자의 후손 중 어렵게 살아가고 있는 분들이 많다는 이야기는 어제 오늘의 이야...</td>\n",
       "      <td>30 days</td>\n",
       "    </tr>\n",
       "  </tbody>\n",
       "</table>\n",
       "</div>"
      ],
      "text/plain": [
       "        article_id      start        end  answered  votes     category  \\\n",
       "236873      306740 2018-07-15 2018-08-14         0      3        경제민주화   \n",
       "209549      270717 2018-06-14 2018-07-14         0     17         정치개혁   \n",
       "297795      387590 2018-09-22 2018-10-22         0      4           기타   \n",
       "143384      172270 2018-03-22 2018-04-21         0      0     외교/통일/국방   \n",
       "158750      194573 2018-04-10 2018-05-10         0      2  문화/예술/체육/언론   \n",
       "\n",
       "                                                    title  \\\n",
       "236873                           일부 공기업의 과도한 임직원 임금 줄여주세요   \n",
       "209549  자유한국당의 해산과 동시에 역적 박근혜의 사사(죽일 죄인을 예우하여 독약을 먹여 죽...   \n",
       "297795              소비자의 선택권을 제한하고 갑질하는 통신사의 횡포를 막아 주십시요.   \n",
       "143384     군대에서 부대 주변 지도 및 지리에 대한 교육을 병사들에게 실시하였으면 좋겠습니다.   \n",
       "158750                               독립유공자 후원 방송 정규 편성 요청   \n",
       "\n",
       "                                                  content duration  \n",
       "236873  적게 일하고 많이 받는 것으로 유명한 부서가 일부 있습니다.\\n많이 일하고도 적게 ...  30 days  \n",
       "209549  이 청원자는 천주교인이며, 세레명은 \"남종삼세례자요한\"입니다.\\n어제 지방선거에서 ...  30 days  \n",
       "297795  갤럭시워치 웨어러블 디바이스의 경우 통신사마다 공시지원금이 차이가 납니다.\\n건강관...  30 days  \n",
       "143384  안녕하십니까 존경하는 대통령님.\\n저는 군대를 제대한지 3년이 지난 20대 중반의 ...  30 days  \n",
       "158750  독립유공자의 후손 중 어렵게 살아가고 있는 분들이 많다는 이야기는 어제 오늘의 이야...  30 days  "
      ]
     },
     "execution_count": 10,
     "metadata": {},
     "output_type": "execute_result"
    }
   ],
   "source": [
    "pet.head()"
   ]
  },
  {
   "cell_type": "code",
   "execution_count": null,
   "id": "104fca19",
   "metadata": {},
   "outputs": [],
   "source": [
    "# 30일 이상 게시가 되고, answer를 받은 청원목록"
   ]
  },
  {
   "cell_type": "code",
   "execution_count": 13,
   "id": "f87f6c5c",
   "metadata": {},
   "outputs": [
    {
     "data": {
      "text/html": [
       "<div>\n",
       "<style scoped>\n",
       "    .dataframe tbody tr th:only-of-type {\n",
       "        vertical-align: middle;\n",
       "    }\n",
       "\n",
       "    .dataframe tbody tr th {\n",
       "        vertical-align: top;\n",
       "    }\n",
       "\n",
       "    .dataframe thead th {\n",
       "        text-align: right;\n",
       "    }\n",
       "</style>\n",
       "<table border=\"1\" class=\"dataframe\">\n",
       "  <thead>\n",
       "    <tr style=\"text-align: right;\">\n",
       "      <th></th>\n",
       "      <th>article_id</th>\n",
       "      <th>start</th>\n",
       "      <th>end</th>\n",
       "      <th>answered</th>\n",
       "      <th>votes</th>\n",
       "      <th>category</th>\n",
       "      <th>title</th>\n",
       "      <th>content</th>\n",
       "      <th>duration</th>\n",
       "    </tr>\n",
       "  </thead>\n",
       "  <tbody>\n",
       "  </tbody>\n",
       "</table>\n",
       "</div>"
      ],
      "text/plain": [
       "Empty DataFrame\n",
       "Columns: [article_id, start, end, answered, votes, category, title, content, duration]\n",
       "Index: []"
      ]
     },
     "execution_count": 13,
     "metadata": {},
     "output_type": "execute_result"
    }
   ],
   "source": [
    "pet[(pet['duration'] >='60 days') & (pet['duration'] == 1)]"
   ]
  },
  {
   "cell_type": "code",
   "execution_count": null,
   "id": "66b0ec5a",
   "metadata": {},
   "outputs": [],
   "source": [
    "# 어느카테고리 청원이 많았는지"
   ]
  },
  {
   "cell_type": "code",
   "execution_count": null,
   "id": "b32c7c0e",
   "metadata": {},
   "outputs": [],
   "source": [
    "pet.category.values bar차트그려"
   ]
  },
  {
   "cell_type": "code",
   "execution_count": null,
   "id": "47a72440",
   "metadata": {},
   "outputs": [],
   "source": []
  },
  {
   "cell_type": "code",
   "execution_count": 14,
   "id": "fdfb77e7",
   "metadata": {
    "scrolled": true
   },
   "outputs": [
    {
     "data": {
      "text/html": [
       "<div>\n",
       "<style scoped>\n",
       "    .dataframe tbody tr th:only-of-type {\n",
       "        vertical-align: middle;\n",
       "    }\n",
       "\n",
       "    .dataframe tbody tr th {\n",
       "        vertical-align: top;\n",
       "    }\n",
       "\n",
       "    .dataframe thead th {\n",
       "        text-align: right;\n",
       "    }\n",
       "</style>\n",
       "<table border=\"1\" class=\"dataframe\">\n",
       "  <thead>\n",
       "    <tr style=\"text-align: right;\">\n",
       "      <th></th>\n",
       "      <th>article_id</th>\n",
       "      <th>start</th>\n",
       "      <th>end</th>\n",
       "      <th>answered</th>\n",
       "      <th>votes</th>\n",
       "      <th>category</th>\n",
       "      <th>title</th>\n",
       "      <th>content</th>\n",
       "      <th>duration</th>\n",
       "    </tr>\n",
       "  </thead>\n",
       "  <tbody>\n",
       "    <tr>\n",
       "      <th>19</th>\n",
       "      <td>41</td>\n",
       "      <td>2017-08-19</td>\n",
       "      <td>2017-09-18</td>\n",
       "      <td>0</td>\n",
       "      <td>227</td>\n",
       "      <td>외교/통일/국방</td>\n",
       "      <td>국가유공자등 예우및 지우너에 관한 법률 시행령 개정</td>\n",
       "      <td>지금부터 67년전 1950년 6.25전쟁때 조국 대한민국이 위태로운 시점에 우리들 ...</td>\n",
       "      <td>30 days</td>\n",
       "    </tr>\n",
       "    <tr>\n",
       "      <th>14</th>\n",
       "      <td>35</td>\n",
       "      <td>2017-08-19</td>\n",
       "      <td>2017-08-26</td>\n",
       "      <td>0</td>\n",
       "      <td>0</td>\n",
       "      <td>외교/통일/국방</td>\n",
       "      <td>문재인정부는 신한국형 페리프로세스가 작성했습니다.</td>\n",
       "      <td>문재인 대통령님 신한국형 페리프로세스 로드맵작성 했습니다.\\n&lt;신한국형 페리 프로세...</td>\n",
       "      <td>7 days</td>\n",
       "    </tr>\n",
       "    <tr>\n",
       "      <th>17</th>\n",
       "      <td>38</td>\n",
       "      <td>2017-08-19</td>\n",
       "      <td>2017-08-26</td>\n",
       "      <td>0</td>\n",
       "      <td>0</td>\n",
       "      <td>외교/통일/국방</td>\n",
       "      <td>한중관계 사드 갈등 해소방법 찾았습니다.</td>\n",
       "      <td>문재인 대통령님 한중관계 사드 갈등 해소방법 찾았습니다.\\n시진핑 주석 한테 이렇게...</td>\n",
       "      <td>7 days</td>\n",
       "    </tr>\n",
       "    <tr>\n",
       "      <th>2</th>\n",
       "      <td>23</td>\n",
       "      <td>2017-08-19</td>\n",
       "      <td>2017-09-03</td>\n",
       "      <td>0</td>\n",
       "      <td>0</td>\n",
       "      <td>미래</td>\n",
       "      <td>제2의 개성공단</td>\n",
       "      <td>만일 하시는 대통령님 및 각 부처 장관님,주무관님들 안녕하세요!!\\n전남 목포에서 ...</td>\n",
       "      <td>15 days</td>\n",
       "    </tr>\n",
       "    <tr>\n",
       "      <th>115</th>\n",
       "      <td>139</td>\n",
       "      <td>2017-08-20</td>\n",
       "      <td>2017-09-19</td>\n",
       "      <td>0</td>\n",
       "      <td>1</td>\n",
       "      <td>일자리</td>\n",
       "      <td>연장근로시간</td>\n",
       "      <td>안녕하세요. 저는 공항 지상직에서 일했던 사람입니다.\\n공항은 대표적으로 24시간 ...</td>\n",
       "      <td>30 days</td>\n",
       "    </tr>\n",
       "    <tr>\n",
       "      <th>...</th>\n",
       "      <td>...</td>\n",
       "      <td>...</td>\n",
       "      <td>...</td>\n",
       "      <td>...</td>\n",
       "      <td>...</td>\n",
       "      <td>...</td>\n",
       "      <td>...</td>\n",
       "      <td>...</td>\n",
       "      <td>...</td>\n",
       "    </tr>\n",
       "    <tr>\n",
       "      <th>377587</th>\n",
       "      <td>491827</td>\n",
       "      <td>2019-01-09</td>\n",
       "      <td>2019-02-08</td>\n",
       "      <td>0</td>\n",
       "      <td>94</td>\n",
       "      <td>정치개혁</td>\n",
       "      <td>기초의원 깊이 생각 해 주시길</td>\n",
       "      <td>선거때만 되면 허리까지 숙여 인사 하며\\n주민,시민,도민을 위한다고 큰 소리치고서는...</td>\n",
       "      <td>30 days</td>\n",
       "    </tr>\n",
       "    <tr>\n",
       "      <th>377698</th>\n",
       "      <td>491964</td>\n",
       "      <td>2019-01-09</td>\n",
       "      <td>2019-02-08</td>\n",
       "      <td>0</td>\n",
       "      <td>3</td>\n",
       "      <td>교통/건축/국토</td>\n",
       "      <td>청년 우대형 청약 종합저축 연령과 자격요건 수정</td>\n",
       "      <td>청년우대형 청약 종합 저축 연령을 만39세로 해주시고 또한 미취업자도 가입가능하게 ...</td>\n",
       "      <td>30 days</td>\n",
       "    </tr>\n",
       "    <tr>\n",
       "      <th>377442</th>\n",
       "      <td>491635</td>\n",
       "      <td>2019-01-09</td>\n",
       "      <td>2019-02-08</td>\n",
       "      <td>0</td>\n",
       "      <td>12</td>\n",
       "      <td>외교/통일/국방</td>\n",
       "      <td>여성도 공익을 가게 해주세요</td>\n",
       "      <td>공익은 군대를 가야하는 남성 중에 군생활에 부적합한 신체 조건을 가진 사람들이 가는...</td>\n",
       "      <td>30 days</td>\n",
       "    </tr>\n",
       "    <tr>\n",
       "      <th>377466</th>\n",
       "      <td>491667</td>\n",
       "      <td>2019-01-09</td>\n",
       "      <td>2019-02-08</td>\n",
       "      <td>0</td>\n",
       "      <td>4</td>\n",
       "      <td>정치개혁</td>\n",
       "      <td>대국민 민중봉기</td>\n",
       "      <td>이제  모두가 일어서야 할때다.그대로 지켜본다는것은 끝없는 재앙만 가중할뿐이다.속히...</td>\n",
       "      <td>30 days</td>\n",
       "    </tr>\n",
       "    <tr>\n",
       "      <th>377194</th>\n",
       "      <td>491357</td>\n",
       "      <td>2019-01-09</td>\n",
       "      <td>2019-02-08</td>\n",
       "      <td>0</td>\n",
       "      <td>11</td>\n",
       "      <td>일자리</td>\n",
       "      <td>장애인 고용</td>\n",
       "      <td>장애인은 공기업에 들어가기가 너무나 힘듭니다.\\n저도 이번에 겨우 한국석유공사에 3...</td>\n",
       "      <td>30 days</td>\n",
       "    </tr>\n",
       "  </tbody>\n",
       "</table>\n",
       "<p>37776 rows × 9 columns</p>\n",
       "</div>"
      ],
      "text/plain": [
       "        article_id      start        end  answered  votes  category  \\\n",
       "19              41 2017-08-19 2017-09-18         0    227  외교/통일/국방   \n",
       "14              35 2017-08-19 2017-08-26         0      0  외교/통일/국방   \n",
       "17              38 2017-08-19 2017-08-26         0      0  외교/통일/국방   \n",
       "2               23 2017-08-19 2017-09-03         0      0        미래   \n",
       "115            139 2017-08-20 2017-09-19         0      1       일자리   \n",
       "...            ...        ...        ...       ...    ...       ...   \n",
       "377587      491827 2019-01-09 2019-02-08         0     94      정치개혁   \n",
       "377698      491964 2019-01-09 2019-02-08         0      3  교통/건축/국토   \n",
       "377442      491635 2019-01-09 2019-02-08         0     12  외교/통일/국방   \n",
       "377466      491667 2019-01-09 2019-02-08         0      4      정치개혁   \n",
       "377194      491357 2019-01-09 2019-02-08         0     11       일자리   \n",
       "\n",
       "                               title  \\\n",
       "19      국가유공자등 예우및 지우너에 관한 법률 시행령 개정   \n",
       "14       문재인정부는 신한국형 페리프로세스가 작성했습니다.   \n",
       "17            한중관계 사드 갈등 해소방법 찾았습니다.   \n",
       "2                           제2의 개성공단   \n",
       "115                           연장근로시간   \n",
       "...                              ...   \n",
       "377587              기초의원 깊이 생각 해 주시길   \n",
       "377698    청년 우대형 청약 종합저축 연령과 자격요건 수정   \n",
       "377442               여성도 공익을 가게 해주세요   \n",
       "377466                      대국민 민중봉기   \n",
       "377194                        장애인 고용   \n",
       "\n",
       "                                                  content duration  \n",
       "19      지금부터 67년전 1950년 6.25전쟁때 조국 대한민국이 위태로운 시점에 우리들 ...  30 days  \n",
       "14      문재인 대통령님 신한국형 페리프로세스 로드맵작성 했습니다.\\n<신한국형 페리 프로세...   7 days  \n",
       "17      문재인 대통령님 한중관계 사드 갈등 해소방법 찾았습니다.\\n시진핑 주석 한테 이렇게...   7 days  \n",
       "2       만일 하시는 대통령님 및 각 부처 장관님,주무관님들 안녕하세요!!\\n전남 목포에서 ...  15 days  \n",
       "115     안녕하세요. 저는 공항 지상직에서 일했던 사람입니다.\\n공항은 대표적으로 24시간 ...  30 days  \n",
       "...                                                   ...      ...  \n",
       "377587  선거때만 되면 허리까지 숙여 인사 하며\\n주민,시민,도민을 위한다고 큰 소리치고서는...  30 days  \n",
       "377698  청년우대형 청약 종합 저축 연령을 만39세로 해주시고 또한 미취업자도 가입가능하게 ...  30 days  \n",
       "377442  공익은 군대를 가야하는 남성 중에 군생활에 부적합한 신체 조건을 가진 사람들이 가는...  30 days  \n",
       "377466  이제  모두가 일어서야 할때다.그대로 지켜본다는것은 끝없는 재앙만 가중할뿐이다.속히...  30 days  \n",
       "377194  장애인은 공기업에 들어가기가 너무나 힘듭니다.\\n저도 이번에 겨우 한국석유공사에 3...  30 days  \n",
       "\n",
       "[37776 rows x 9 columns]"
      ]
     },
     "execution_count": 14,
     "metadata": {},
     "output_type": "execute_result"
    }
   ],
   "source": [
    "pet.sort_values('start')"
   ]
  },
  {
   "cell_type": "code",
   "execution_count": 15,
   "id": "21222176",
   "metadata": {},
   "outputs": [],
   "source": [
    "pet.sort_values('start', inplace=True)"
   ]
  },
  {
   "cell_type": "code",
   "execution_count": 19,
   "id": "bde679a8",
   "metadata": {},
   "outputs": [
    {
     "name": "stdout",
     "output_type": "stream",
     "text": [
      "<class 'pandas.core.frame.DataFrame'>\n",
      "Int64Index: 37776 entries, 19 to 377194\n",
      "Data columns (total 9 columns):\n",
      " #   Column      Non-Null Count  Dtype          \n",
      "---  ------      --------------  -----          \n",
      " 0   article_id  37776 non-null  int64          \n",
      " 1   start       37776 non-null  datetime64[ns] \n",
      " 2   end         37776 non-null  datetime64[ns] \n",
      " 3   answered    37776 non-null  int64          \n",
      " 4   votes       37776 non-null  int64          \n",
      " 5   category    37776 non-null  object         \n",
      " 6   title       37776 non-null  object         \n",
      " 7   content     37776 non-null  object         \n",
      " 8   duration    37776 non-null  timedelta64[ns]\n",
      "dtypes: datetime64[ns](2), int64(3), object(3), timedelta64[ns](1)\n",
      "memory usage: 2.9+ MB\n"
     ]
    }
   ],
   "source": [
    "pet.info()"
   ]
  },
  {
   "cell_type": "code",
   "execution_count": null,
   "id": "5d923281",
   "metadata": {},
   "outputs": [],
   "source": [
    "# 월별 등장빈도가 가장 많은 상위 5개 단어를 출력"
   ]
  },
  {
   "cell_type": "code",
   "execution_count": 22,
   "id": "9bc662df",
   "metadata": {},
   "outputs": [],
   "source": [
    "pet['mon'] = pet.start.dt.year.astype('str') + pet.start.dt.month.astype('str').apply(lambda x:x.zfill(2))"
   ]
  },
  {
   "cell_type": "code",
   "execution_count": 23,
   "id": "b1e18cfa",
   "metadata": {},
   "outputs": [
    {
     "data": {
      "text/plain": [
       "mon\n",
       "201708    지금부터 67년전 1950년 6.25전쟁때 조국 대한민국이 위태로운 시점에 우리들 ...\n",
       "201709    장기화된 저출산으로 인하여 고령 노인 급증과 젊은 인구 감소로 징병제 유지가 어려운...\n",
       "201710    안녕하세요. 저는 대전 / 세종 적십자사에서 자원봉사를 하던 봉사원입니다.\\n활동하...\n",
       "201711    안녕하세요 3자녀두고있는 가장입니다  지금 정부에서 다자녀 혜택이 몸소 와닿지 않습...\n",
       "201712    마루마루라고 하는 만화 사이트가 있습니다. 링크를 통해 만화를 보게하는 사이트입니다...\n",
       "201801    안녕하십니까 저는 이제 2018년에 22살이 되는 여성입니다.\\n저는 아동 성폭력의...\n",
       "201802    집값이 떨어진 지역을 위축지역으로 지정한다고 하는데 이는 집값이 떨어진 지역에 찬물...\n",
       "201803    뜻깊은 3.1절은 기념하여 대한민국의 국민으로 청원합니다.\\n20세기 식민지를 겪은...\n",
       "201804    ‘배움’ 이라는 미명 하에 행해지는 인권침해 바로 잡아 주세요.\\n지금보다 더 물들...\n",
       "201805    막말  남남분열5.18 차명숙의,,, 가두방송 내용을 공개하라  ,,  왜   건뜩...\n",
       "201806    흐지부지 뭍혀버린 장자연사건 재조사 요청합니다.\\n리스트 인물들 하나같이 거물들이고...\n",
       "201807    기성용선수 국가대표은퇴 막아주세요\\n미드필더가 힘들다면 수비수라도\\n2022년 월드...\n",
       "201808    뉴스에서, 또는 SNS에서 저는 범죄를 저지른 사람이 자신이 술에 취해 맨정신이 아...\n",
       "201809    일자리창출이고 장애인고용지원금이고 웨 기준은 모두 직업활동이 가능한 장애인기준으로만...\n",
       "201810    심재철의원 특활비를 꼭 공개해서 정치권불신에 역할을 해 주시고 대한민국이  정의로운...\n",
       "201811    중소기업지원금은  자금조달이 어려운 중소기업 지원으로 알고 있습니다만\\n무분별하게 ...\n",
       "201812    전세일이 만료됐음에도 불구하고\\n다른 세입자가 들어오기 전까지 돈을 돌려줄수 없다는...\n",
       "201901    저 같이 집에 돈이없는 가정은 유학을 가지도 못하고 꿈 못꾸는 학생들이 많습니다 그...\n",
       "Name: content, dtype: object"
      ]
     },
     "execution_count": 23,
     "metadata": {},
     "output_type": "execute_result"
    }
   ],
   "source": [
    "pet_by_mon = pet.groupby('mon')['content'].sum()"
   ]
  },
  {
   "cell_type": "code",
   "execution_count": null,
   "id": "761b2ca3",
   "metadata": {},
   "outputs": [],
   "source": []
  },
  {
   "cell_type": "code",
   "execution_count": 20,
   "id": "b60ad099",
   "metadata": {},
   "outputs": [],
   "source": [
    "from konlpy.tag import Komoran"
   ]
  },
  {
   "cell_type": "code",
   "execution_count": 21,
   "id": "7f30106f",
   "metadata": {},
   "outputs": [],
   "source": [
    "kor = Komoran()"
   ]
  },
  {
   "cell_type": "code",
   "execution_count": 27,
   "id": "2a58a323",
   "metadata": {},
   "outputs": [
    {
     "ename": "Exception",
     "evalue": "Install MeCab in order to use it: http://konlpy.org/en/latest/install/",
     "output_type": "error",
     "traceback": [
      "\u001b[1;31m---------------------------------------------------------------------------\u001b[0m",
      "\u001b[1;31mNameError\u001b[0m                                 Traceback (most recent call last)",
      "\u001b[1;32m~\\Anaconda3\\lib\\site-packages\\konlpy\\tag\\_mecab.py\u001b[0m in \u001b[0;36m__init__\u001b[1;34m(self, dicpath)\u001b[0m\n\u001b[0;32m     76\u001b[0m         \u001b[1;32mtry\u001b[0m\u001b[1;33m:\u001b[0m\u001b[1;33m\u001b[0m\u001b[1;33m\u001b[0m\u001b[0m\n\u001b[1;32m---> 77\u001b[1;33m             \u001b[0mself\u001b[0m\u001b[1;33m.\u001b[0m\u001b[0mtagger\u001b[0m \u001b[1;33m=\u001b[0m \u001b[0mTagger\u001b[0m\u001b[1;33m(\u001b[0m\u001b[1;34m'-d %s'\u001b[0m \u001b[1;33m%\u001b[0m \u001b[0mdicpath\u001b[0m\u001b[1;33m)\u001b[0m\u001b[1;33m\u001b[0m\u001b[1;33m\u001b[0m\u001b[0m\n\u001b[0m\u001b[0;32m     78\u001b[0m             \u001b[0mself\u001b[0m\u001b[1;33m.\u001b[0m\u001b[0mtagset\u001b[0m \u001b[1;33m=\u001b[0m \u001b[0mutils\u001b[0m\u001b[1;33m.\u001b[0m\u001b[0mread_json\u001b[0m\u001b[1;33m(\u001b[0m\u001b[1;34m'%s/data/tagset/mecab.json'\u001b[0m \u001b[1;33m%\u001b[0m \u001b[0mutils\u001b[0m\u001b[1;33m.\u001b[0m\u001b[0minstallpath\u001b[0m\u001b[1;33m)\u001b[0m\u001b[1;33m\u001b[0m\u001b[1;33m\u001b[0m\u001b[0m\n",
      "\u001b[1;31mNameError\u001b[0m: name 'Tagger' is not defined",
      "\nDuring handling of the above exception, another exception occurred:\n",
      "\u001b[1;31mException\u001b[0m                                 Traceback (most recent call last)",
      "\u001b[1;32m~\\AppData\\Local\\Temp/ipykernel_15528/4081295163.py\u001b[0m in \u001b[0;36m<module>\u001b[1;34m\u001b[0m\n\u001b[0;32m      1\u001b[0m \u001b[1;32mfrom\u001b[0m \u001b[0mkonlpy\u001b[0m\u001b[1;33m.\u001b[0m\u001b[0mtag\u001b[0m \u001b[1;32mimport\u001b[0m \u001b[0mMecab\u001b[0m\u001b[1;33m\u001b[0m\u001b[1;33m\u001b[0m\u001b[0m\n\u001b[1;32m----> 2\u001b[1;33m \u001b[0mmec\u001b[0m \u001b[1;33m=\u001b[0m \u001b[0mMecab\u001b[0m\u001b[1;33m(\u001b[0m\u001b[0mdicpath\u001b[0m\u001b[1;33m=\u001b[0m\u001b[1;34m'C:/mecab/mecab-ko-dic'\u001b[0m\u001b[1;33m)\u001b[0m\u001b[1;33m\u001b[0m\u001b[1;33m\u001b[0m\u001b[0m\n\u001b[0m",
      "\u001b[1;32m~\\Anaconda3\\lib\\site-packages\\konlpy\\tag\\_mecab.py\u001b[0m in \u001b[0;36m__init__\u001b[1;34m(self, dicpath)\u001b[0m\n\u001b[0;32m     80\u001b[0m             \u001b[1;32mraise\u001b[0m \u001b[0mException\u001b[0m\u001b[1;33m(\u001b[0m\u001b[1;34m'The MeCab dictionary does not exist at \"%s\". Is the dictionary correctly installed?\\nYou can also try entering the dictionary path when initializing the Mecab class: \"Mecab(\\'/some/dic/path\\')\"'\u001b[0m \u001b[1;33m%\u001b[0m \u001b[0mdicpath\u001b[0m\u001b[1;33m)\u001b[0m\u001b[1;33m\u001b[0m\u001b[1;33m\u001b[0m\u001b[0m\n\u001b[0;32m     81\u001b[0m         \u001b[1;32mexcept\u001b[0m \u001b[0mNameError\u001b[0m\u001b[1;33m:\u001b[0m\u001b[1;33m\u001b[0m\u001b[1;33m\u001b[0m\u001b[0m\n\u001b[1;32m---> 82\u001b[1;33m             \u001b[1;32mraise\u001b[0m \u001b[0mException\u001b[0m\u001b[1;33m(\u001b[0m\u001b[1;34m'Install MeCab in order to use it: http://konlpy.org/en/latest/install/'\u001b[0m\u001b[1;33m)\u001b[0m\u001b[1;33m\u001b[0m\u001b[1;33m\u001b[0m\u001b[0m\n\u001b[0m\u001b[0;32m     83\u001b[0m \u001b[1;33m\u001b[0m\u001b[0m\n\u001b[0;32m     84\u001b[0m     \u001b[1;32mdef\u001b[0m \u001b[0m__setstate__\u001b[0m\u001b[1;33m(\u001b[0m\u001b[0mself\u001b[0m\u001b[1;33m,\u001b[0m \u001b[0mstate\u001b[0m\u001b[1;33m)\u001b[0m\u001b[1;33m:\u001b[0m\u001b[1;33m\u001b[0m\u001b[1;33m\u001b[0m\u001b[0m\n",
      "\u001b[1;31mException\u001b[0m: Install MeCab in order to use it: http://konlpy.org/en/latest/install/"
     ]
    }
   ],
   "source": [
    "from konlpy.tag import Mecab\n",
    "mec = Mecab(dicpath='C:/mecab/mecab-ko-dic')"
   ]
  },
  {
   "cell_type": "code",
   "execution_count": 25,
   "id": "1a8f2113",
   "metadata": {},
   "outputs": [
    {
     "name": "stdout",
     "output_type": "stream",
     "text": [
      "Requirement already satisfied: konlpy in c:\\users\\bitcamp\\anaconda3\\lib\\site-packages (0.6.0)\n",
      "Requirement already satisfied: numpy>=1.6 in c:\\users\\bitcamp\\anaconda3\\lib\\site-packages (from konlpy) (1.22.1)\n",
      "Requirement already satisfied: lxml>=4.1.0 in c:\\users\\bitcamp\\anaconda3\\lib\\site-packages (from konlpy) (4.6.3)\n",
      "Requirement already satisfied: JPype1>=0.7.0 in c:\\users\\bitcamp\\anaconda3\\lib\\site-packages (from konlpy) (1.3.0)\n"
     ]
    }
   ],
   "source": [
    "!pip install konlpy"
   ]
  },
  {
   "cell_type": "code",
   "execution_count": 26,
   "id": "b68c03a3",
   "metadata": {},
   "outputs": [
    {
     "name": "stdout",
     "output_type": "stream",
     "text": [
      "Collecting mecab-python\n",
      "  Downloading mecab-python-1.0.0.tar.gz (1.3 kB)\n",
      "  Preparing metadata (setup.py): started\n",
      "  Preparing metadata (setup.py): finished with status 'done'\n",
      "Collecting mecab-python3\n",
      "  Downloading mecab_python3-1.0.5-cp39-cp39-win_amd64.whl (500 kB)\n",
      "     ------------------------------------- 500.6/500.6 KB 15.8 MB/s eta 0:00:00\n",
      "Building wheels for collected packages: mecab-python\n",
      "  Building wheel for mecab-python (setup.py): started\n",
      "  Building wheel for mecab-python (setup.py): finished with status 'done'\n",
      "  Created wheel for mecab-python: filename=mecab_python-1.0.0-py3-none-any.whl size=1252 sha256=2b0d856bbedb46e53777b83d5ffa5d6a8bd3b4ce4e22d65dd70ced2e84397012\n",
      "  Stored in directory: c:\\users\\bitcamp\\appdata\\local\\pip\\cache\\wheels\\63\\09\\15\\cc401a7f8d041043978f3f60e64f7d65014522e104b7c9d1f2\n",
      "Successfully built mecab-python\n",
      "Installing collected packages: mecab-python3, mecab-python\n",
      "Successfully installed mecab-python-1.0.0 mecab-python3-1.0.5\n"
     ]
    }
   ],
   "source": [
    "!pip install mecab-python"
   ]
  },
  {
   "cell_type": "code",
   "execution_count": null,
   "id": "3b2f3cf0",
   "metadata": {},
   "outputs": [],
   "source": []
  },
  {
   "cell_type": "code",
   "execution_count": null,
   "id": "dc5e9051",
   "metadata": {},
   "outputs": [],
   "source": []
  }
 ],
 "metadata": {
  "kernelspec": {
   "display_name": "Python 3 (ipykernel)",
   "language": "python",
   "name": "python3"
  },
  "language_info": {
   "codemirror_mode": {
    "name": "ipython",
    "version": 3
   },
   "file_extension": ".py",
   "mimetype": "text/x-python",
   "name": "python",
   "nbconvert_exporter": "python",
   "pygments_lexer": "ipython3",
   "version": "3.9.7"
  },
  "varInspector": {
   "cols": {
    "lenName": 16,
    "lenType": 16,
    "lenVar": 40
   },
   "kernels_config": {
    "python": {
     "delete_cmd_postfix": "",
     "delete_cmd_prefix": "del ",
     "library": "var_list.py",
     "varRefreshCmd": "print(var_dic_list())"
    },
    "r": {
     "delete_cmd_postfix": ") ",
     "delete_cmd_prefix": "rm(",
     "library": "var_list.r",
     "varRefreshCmd": "cat(var_dic_list()) "
    }
   },
   "types_to_exclude": [
    "module",
    "function",
    "builtin_function_or_method",
    "instance",
    "_Feature"
   ],
   "window_display": false
  }
 },
 "nbformat": 4,
 "nbformat_minor": 5
}
