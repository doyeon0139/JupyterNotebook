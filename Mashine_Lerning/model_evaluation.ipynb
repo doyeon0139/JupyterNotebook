{
 "cells": [
  {
   "cell_type": "code",
   "execution_count": 1,
   "id": "a9b15202",
   "metadata": {},
   "outputs": [],
   "source": [
    "import pandas as pd\n",
    "import numpy as np\n",
    "import matplotlib.pyplot as plt\n",
    "import seaborn as sns"
   ]
  },
  {
   "cell_type": "code",
   "execution_count": 2,
   "id": "8afdcd6d",
   "metadata": {},
   "outputs": [],
   "source": [
    "from sklearn.datasets import load_digits\n",
    "from sklearn.model_selection import train_test_split\n",
    "from sklearn import datasets\n",
    "import mglearn\n",
    "from IPython.display import display"
   ]
  },
  {
   "cell_type": "code",
   "execution_count": 121,
   "id": "b52ff4aa",
   "metadata": {},
   "outputs": [],
   "source": [
    "\n",
    "import matplotlib as mpl\n",
    "import matplotlib.font_manager as fm\n",
    "\n",
    "mpl.rcParams['axes.unicode_minus'] = False\n",
    "\n",
    "path = 'C:/Windows/Fonts/malgun.ttf'\n",
    "font_name = fm.FontProperties(fname=path, size=50).get_name()\n",
    "plt.rc('font', family=font_name)"
   ]
  },
  {
   "cell_type": "code",
   "execution_count": 3,
   "id": "af190d24",
   "metadata": {},
   "outputs": [],
   "source": [
    "digits = load_digits()"
   ]
  },
  {
   "cell_type": "code",
   "execution_count": 4,
   "id": "67397b77",
   "metadata": {},
   "outputs": [],
   "source": [
    "x = digits.data\n",
    "y = digits.target"
   ]
  },
  {
   "cell_type": "code",
   "execution_count": 5,
   "id": "e916aff1",
   "metadata": {},
   "outputs": [
    {
     "data": {
      "text/plain": [
       "(1797, 64)"
      ]
     },
     "execution_count": 5,
     "metadata": {},
     "output_type": "execute_result"
    }
   ],
   "source": [
    "x.shape"
   ]
  },
  {
   "cell_type": "code",
   "execution_count": 6,
   "id": "faa193f2",
   "metadata": {},
   "outputs": [
    {
     "data": {
      "text/plain": [
       "(1797,)"
      ]
     },
     "execution_count": 6,
     "metadata": {},
     "output_type": "execute_result"
    }
   ],
   "source": [
    "y.shape"
   ]
  },
  {
   "cell_type": "code",
   "execution_count": 8,
   "id": "b8c59be5",
   "metadata": {},
   "outputs": [
    {
     "data": {
      "text/plain": [
       "array([[ 0.,  0.,  0.,  4., 15., 12.,  0.,  0.],\n",
       "       [ 0.,  0.,  3., 16., 15., 14.,  0.,  0.],\n",
       "       [ 0.,  0.,  8., 13.,  8., 16.,  0.,  0.],\n",
       "       [ 0.,  0.,  1.,  6., 15., 11.,  0.,  0.],\n",
       "       [ 0.,  1.,  8., 13., 15.,  1.,  0.,  0.],\n",
       "       [ 0.,  9., 16., 16.,  5.,  0.,  0.,  0.],\n",
       "       [ 0.,  3., 13., 16., 16., 11.,  5.,  0.],\n",
       "       [ 0.,  0.,  0.,  3., 11., 16.,  9.,  0.]])"
      ]
     },
     "execution_count": 8,
     "metadata": {},
     "output_type": "execute_result"
    }
   ],
   "source": [
    "x[2].reshape(8,8)"
   ]
  },
  {
   "cell_type": "code",
   "execution_count": 15,
   "id": "c5f97d97",
   "metadata": {},
   "outputs": [
    {
     "data": {
      "text/plain": [
       "<matplotlib.image.AxesImage at 0x2567621b430>"
      ]
     },
     "execution_count": 15,
     "metadata": {},
     "output_type": "execute_result"
    },
    {
     "data": {
      "image/png": "[encoded data removed]",
      "text/plain": [
       "<Figure size 432x288 with 1 Axes>"
      ]
     },
     "metadata": {
      "needs_background": "light"
     },
     "output_type": "display_data"
    }
   ],
   "source": [
    "plt.imshow(x[55].reshape(8,8))"
   ]
  },
  {
   "cell_type": "code",
   "execution_count": 16,
   "id": "2fe430aa",
   "metadata": {},
   "outputs": [
    {
     "data": {
      "text/plain": [
       "0"
      ]
     },
     "execution_count": 16,
     "metadata": {},
     "output_type": "execute_result"
    }
   ],
   "source": [
    "y[55]"
   ]
  },
  {
   "cell_type": "code",
   "execution_count": 17,
   "id": "3984fc49",
   "metadata": {},
   "outputs": [
    {
     "data": {
      "text/plain": [
       "3    183\n",
       "1    182\n",
       "5    182\n",
       "4    181\n",
       "6    181\n",
       "9    180\n",
       "7    179\n",
       "0    178\n",
       "2    177\n",
       "8    174\n",
       "dtype: int64"
      ]
     },
     "execution_count": 17,
     "metadata": {},
     "output_type": "execute_result"
    }
   ],
   "source": [
    "pd.Series(y).value_counts()"
   ]
  },
  {
   "cell_type": "code",
   "execution_count": 19,
   "id": "04bf4e37",
   "metadata": {},
   "outputs": [],
   "source": [
    "y = y == 9"
   ]
  },
  {
   "cell_type": "code",
   "execution_count": 20,
   "id": "8b97db73",
   "metadata": {},
   "outputs": [
    {
     "data": {
      "text/plain": [
       "array([False, False, False, ..., False,  True, False])"
      ]
     },
     "execution_count": 20,
     "metadata": {},
     "output_type": "execute_result"
    }
   ],
   "source": [
    "y"
   ]
  },
  {
   "cell_type": "code",
   "execution_count": 21,
   "id": "b95cb399",
   "metadata": {},
   "outputs": [
    {
     "data": {
      "text/plain": [
       "False    0.899833\n",
       "True     0.100167\n",
       "dtype: float64"
      ]
     },
     "execution_count": 21,
     "metadata": {},
     "output_type": "execute_result"
    }
   ],
   "source": [
    "pd.Series(y).value_counts()/len(y) # imbalanced dataset        모름...이해안감...."
   ]
  },
  {
   "cell_type": "code",
   "execution_count": null,
   "id": "03d35957",
   "metadata": {},
   "outputs": [],
   "source": []
  },
  {
   "cell_type": "code",
   "execution_count": 22,
   "id": "afa1cbf7",
   "metadata": {},
   "outputs": [],
   "source": [
    "x_train, x_test, y_train, y_test = train_test_split(x, y, random_state=111)"
   ]
  },
  {
   "cell_type": "code",
   "execution_count": 51,
   "id": "f7e7b386",
   "metadata": {},
   "outputs": [],
   "source": [
    "from sklearn.dummy import DummyClassifier\n",
    "\n",
    "# 다수의 클래스로 예측하는 classifier생성 - 위의 데이터에 대해 100% False로만 예측\n",
    "dummy = DummyClassifier(strategy='most_frequent').fit(x_train, y_train)"
   ]
  },
  {
   "cell_type": "code",
   "execution_count": 52,
   "id": "bfe6d8ff",
   "metadata": {},
   "outputs": [],
   "source": [
    "preds = dummy.predict(x_test)"
   ]
  },
  {
   "cell_type": "code",
   "execution_count": 53,
   "id": "826f2637",
   "metadata": {},
   "outputs": [
    {
     "data": {
      "text/plain": [
       "0.9901960784313726"
      ]
     },
     "execution_count": 53,
     "metadata": {},
     "output_type": "execute_result"
    }
   ],
   "source": [
    "np.mean(y_test == preds)"
   ]
  },
  {
   "cell_type": "code",
   "execution_count": 54,
   "id": "8ca0493f",
   "metadata": {},
   "outputs": [
    {
     "data": {
      "text/plain": [
       "0.9901960784313726"
      ]
     },
     "execution_count": 54,
     "metadata": {},
     "output_type": "execute_result"
    }
   ],
   "source": [
    "dummy.score(x_test, y_test)\n",
    "\n",
    "# 전혀 분류능력이 없는 classifier가 90%의 accuracy score를 기록 <= imbalancced data\n",
    "# => accuracy의 한계 => precision, recall, f1_score, auc_score"
   ]
  },
  {
   "cell_type": "code",
   "execution_count": 55,
   "id": "9f6b00a0",
   "metadata": {},
   "outputs": [
    {
     "name": "stdout",
     "output_type": "stream",
     "text": [
      "Tree :  1 knn :  0.99 svc :  0.99 dummy :  0.99\n"
     ]
    }
   ],
   "source": [
    "from sklearn.tree import DecisionTreeClassifier\n",
    "from sklearn.neighbors import KNeighborsClassifier\n",
    "from sklearn.svm import SVC\n",
    "\n",
    "tree = DecisionTreeClassifier()\n",
    "knn = KNeighborsClassifier()\n",
    "svc = SVC()\n",
    "\n",
    "tree.fit(x_train, y_train)\n",
    "knn.fit(x_train, y_train)\n",
    "svc.fit(x_train, y_train)\n",
    "\n",
    "tree_acc = tree.score(x_test, y_test)\n",
    "knn_acc = knn.score(x_test, y_test)\n",
    "svc_acc = svc.score(x_test, y_test)\n",
    "dummy_acc = dummy.score(x_test, y_test)\n",
    "\n",
    "print('Tree : ', round(tree_acc), 'knn : ', round(knn_acc,2), 'svc : ', round(svc_acc,2), 'dummy : ', round(dummy_acc,2))"
   ]
  },
  {
   "cell_type": "code",
   "execution_count": 56,
   "id": "6f3f0e63",
   "metadata": {},
   "outputs": [],
   "source": [
    "from sklearn.metrics import f1_score"
   ]
  },
  {
   "cell_type": "code",
   "execution_count": 57,
   "id": "c8548869",
   "metadata": {},
   "outputs": [
    {
     "name": "stdout",
     "output_type": "stream",
     "text": [
      "Tree :  0 knn :  0.0 svc :  0.0 dummy :  0.0\n"
     ]
    }
   ],
   "source": [
    "tree = DecisionTreeClassifier()\n",
    "knn = KNeighborsClassifier()\n",
    "svc = SVC()\n",
    "\n",
    "tree.fit(x_train, y_train)\n",
    "knn.fit(x_train, y_train)\n",
    "svc.fit(x_train, y_train)\n",
    "\n",
    "tree_preds = tree.predict(x_test)\n",
    "knn_preds = knn.predict(x_test)\n",
    "svc_preds = svc.predict(x_test)\n",
    "dummy_preds = dummy.predict(x_test)\n",
    "\n",
    "tree_f1 = f1_score(tree_preds, y_test)\n",
    "knn_f1 = f1_score(knn_preds, y_test)\n",
    "svc_f1 = f1_score(svc_preds, y_test)\n",
    "dummy_f1 = f1_score(dummy_preds, y_test)\n",
    "\n",
    "print('Tree : ', round(tree_f1), 'knn : ', round(knn_f1,2), 'svc : ', round(svc_f1,2), 'dummy : ', round(dummy_f1,2))"
   ]
  },
  {
   "cell_type": "code",
   "execution_count": null,
   "id": "5f6f467a",
   "metadata": {},
   "outputs": [],
   "source": []
  },
  {
   "cell_type": "code",
   "execution_count": 58,
   "id": "b620beac",
   "metadata": {},
   "outputs": [],
   "source": [
    "# 모든 머신러닝 모델은 내부적으로 확률값을 리턴"
   ]
  },
  {
   "cell_type": "code",
   "execution_count": 59,
   "id": "c19331af",
   "metadata": {},
   "outputs": [
    {
     "name": "stdout",
     "output_type": "stream",
     "text": [
      "[[ -1.58341978 -22.37156225]\n",
      " [ -4.17570775  -5.96493849]\n",
      " [-13.82618705 -14.40188785]\n",
      " [  0.71057905  -3.81896754]\n",
      " [-16.18799493 -17.86041252]\n",
      " [ -5.04648232 -13.08413534]\n",
      " [ -2.38421045   4.24907617]\n",
      " [ -7.62667962  -7.02174225]\n",
      " [ -4.33194738 -16.93515838]\n",
      " [-10.46971421  -3.7552367 ]] [0 0 0 0 0 0 0 0 0 0]\n"
     ]
    },
    {
     "name": "stderr",
     "output_type": "stream",
     "text": [
      "C:\\Users\\bitcamp\\Anaconda3\\lib\\site-packages\\sklearn\\utils\\deprecation.py:86: FutureWarning: Function make_blobs is deprecated; Please import make_blobs directly from scikit-learn\n",
      "  warnings.warn(msg, category=FutureWarning)\n"
     ]
    }
   ],
   "source": [
    "from mglearn.datasets import make_blobs\n",
    "x, y = make_blobs(n_samples=(400,5), centers=2, cluster_std=[7,2], random_state=11)\n",
    "print(x[:10],y[:10])"
   ]
  },
  {
   "cell_type": "code",
   "execution_count": 60,
   "id": "f4e875ee",
   "metadata": {},
   "outputs": [],
   "source": [
    "x_train, x_test, y_train, y_test = train_test_split(x, y, random_state=111)"
   ]
  },
  {
   "cell_type": "code",
   "execution_count": 61,
   "id": "926d5a1d",
   "metadata": {},
   "outputs": [
    {
     "data": {
      "text/plain": [
       "SVC(gamma=0.5, probability=True)"
      ]
     },
     "execution_count": 61,
     "metadata": {},
     "output_type": "execute_result"
    }
   ],
   "source": [
    "svc = SVC(gamma=0.5, probability=True)\n",
    "svc.fit(x_train, y_train)"
   ]
  },
  {
   "cell_type": "code",
   "execution_count": 76,
   "id": "a304352b",
   "metadata": {
    "collapsed": true
   },
   "outputs": [
    {
     "data": {
      "text/plain": [
       "array([[0.98530756, 0.01469244],\n",
       "       [0.98556895, 0.01443105],\n",
       "       [0.98531282, 0.01468718],\n",
       "       [0.98525814, 0.01474186],\n",
       "       [0.98526002, 0.01473998],\n",
       "       [0.98510288, 0.01489712],\n",
       "       [0.98572655, 0.01427345],\n",
       "       [0.98532268, 0.01467732],\n",
       "       [0.98529173, 0.01470827],\n",
       "       [0.98535891, 0.01464109],\n",
       "       [0.98541442, 0.01458558],\n",
       "       [0.9853251 , 0.0146749 ],\n",
       "       [0.98534951, 0.01465049],\n",
       "       [0.98564637, 0.01435363],\n",
       "       [0.98544207, 0.01455793],\n",
       "       [0.98540304, 0.01459696],\n",
       "       [0.98533685, 0.01466315],\n",
       "       [0.9853402 , 0.0146598 ],\n",
       "       [0.98535435, 0.01464565],\n",
       "       [0.98540338, 0.01459662],\n",
       "       [0.98547834, 0.01452166],\n",
       "       [0.98533009, 0.01466991],\n",
       "       [0.99245001, 0.00754999],\n",
       "       [0.98533346, 0.01466654],\n",
       "       [0.98531743, 0.01468257],\n",
       "       [0.98534016, 0.01465984],\n",
       "       [0.98549497, 0.01450503],\n",
       "       [0.98576362, 0.01423638],\n",
       "       [0.98544888, 0.01455112],\n",
       "       [0.98535574, 0.01464426],\n",
       "       [0.9857533 , 0.0142467 ],\n",
       "       [0.98531221, 0.01468779],\n",
       "       [0.98560761, 0.01439239],\n",
       "       [0.98531741, 0.01468259],\n",
       "       [0.98540535, 0.01459465],\n",
       "       [0.98530842, 0.01469158],\n",
       "       [0.98531306, 0.01468694],\n",
       "       [0.98542875, 0.01457125],\n",
       "       [0.98531509, 0.01468491],\n",
       "       [0.98531169, 0.01468831],\n",
       "       [0.98528882, 0.01471118],\n",
       "       [0.98531516, 0.01468484],\n",
       "       [0.98545774, 0.01454226],\n",
       "       [0.98555223, 0.01444777],\n",
       "       [0.98577108, 0.01422892],\n",
       "       [0.98545872, 0.01454128],\n",
       "       [0.98544182, 0.01455818],\n",
       "       [0.98555145, 0.01444855],\n",
       "       [0.98545321, 0.01454679],\n",
       "       [0.98530846, 0.01469154],\n",
       "       [0.98539124, 0.01460876],\n",
       "       [0.9853208 , 0.0146792 ],\n",
       "       [0.985787  , 0.014213  ],\n",
       "       [0.98528887, 0.01471113],\n",
       "       [0.9854155 , 0.0145845 ],\n",
       "       [0.98530258, 0.01469742],\n",
       "       [0.98538388, 0.01461612],\n",
       "       [0.98574433, 0.01425567],\n",
       "       [0.98543276, 0.01456724],\n",
       "       [0.98547412, 0.01452588],\n",
       "       [0.98569469, 0.01430531],\n",
       "       [0.98534494, 0.01465506],\n",
       "       [0.98566909, 0.01433091],\n",
       "       [0.98547338, 0.01452662],\n",
       "       [0.98534281, 0.01465719],\n",
       "       [0.98531812, 0.01468188],\n",
       "       [0.98532414, 0.01467586],\n",
       "       [0.98533251, 0.01466749],\n",
       "       [0.98571117, 0.01428883],\n",
       "       [0.98529727, 0.01470273],\n",
       "       [0.98555514, 0.01444486],\n",
       "       [0.98527423, 0.01472577],\n",
       "       [0.9853366 , 0.0146634 ],\n",
       "       [0.98536967, 0.01463033],\n",
       "       [0.98556513, 0.01443487],\n",
       "       [0.98336324, 0.01663676],\n",
       "       [0.98549335, 0.01450665],\n",
       "       [0.98532913, 0.01467087],\n",
       "       [0.98531837, 0.01468163],\n",
       "       [0.9853694 , 0.0146306 ],\n",
       "       [0.98532669, 0.01467331],\n",
       "       [0.98529559, 0.01470441],\n",
       "       [0.98562329, 0.01437671],\n",
       "       [0.98544081, 0.01455919],\n",
       "       [0.98535904, 0.01464096],\n",
       "       [0.98547109, 0.01452891],\n",
       "       [0.98571901, 0.01428099],\n",
       "       [0.98530747, 0.01469253],\n",
       "       [0.98531421, 0.01468579],\n",
       "       [0.98544515, 0.01455485],\n",
       "       [0.98532368, 0.01467632],\n",
       "       [0.98534185, 0.01465815],\n",
       "       [0.98532388, 0.01467612],\n",
       "       [0.9853002 , 0.0146998 ],\n",
       "       [0.985787  , 0.014213  ],\n",
       "       [0.98537873, 0.01462127],\n",
       "       [0.98558335, 0.01441665],\n",
       "       [0.98554238, 0.01445762],\n",
       "       [0.98534927, 0.01465073],\n",
       "       [0.98531043, 0.01468957],\n",
       "       [0.98544837, 0.01455163],\n",
       "       [0.9855487 , 0.0144513 ]])"
      ]
     },
     "execution_count": 76,
     "metadata": {},
     "output_type": "execute_result"
    }
   ],
   "source": [
    "preds = svc.predict_proba(x_test) # 0보다 크면 1, 0보다 작으며 0으로 예측\n",
    "preds"
   ]
  },
  {
   "cell_type": "code",
   "execution_count": 79,
   "id": "c0c7489b",
   "metadata": {
    "collapsed": true
   },
   "outputs": [
    {
     "data": {
      "text/plain": [
       "array([-1.00042127, -0.98834083, -1.00017991, -1.00268102, -1.00259514,\n",
       "       -1.0097318 , -0.98095167, -0.99972821, -1.00114562, -0.99806483,\n",
       "       -0.99550865, -0.99961719, -0.99849675, -0.98472113, -0.99423151,\n",
       "       -0.99603354, -0.99907795, -0.99892433, -0.99827454, -0.99601774,\n",
       "       -0.9925531 , -0.99938851, -0.55276913, -0.99923388, -0.99996865,\n",
       "       -0.99892612, -0.99178177, -0.97920177, -0.99391665, -0.99821058,\n",
       "       -0.97968924, -1.00020803, -0.98653578, -0.99996991, -0.99592681,\n",
       "       -1.00038151, -1.00016914, -0.99484696, -1.00007618, -1.00023198,\n",
       "       -1.00127871, -1.00007277, -0.99350691, -0.98912015, -0.97884923,\n",
       "       -0.9934615 , -0.99424342, -0.98915669, -0.99371648, -1.00037992,\n",
       "       -0.99657723, -0.99981443, -0.97809583, -1.00127669, -0.99545891,\n",
       "       -1.00064909, -0.99691643, -0.98011279, -0.99466191, -0.9927486 ,\n",
       "       -0.98245218, -0.99870695, -0.98365529, -0.9927829 , -0.99880466,\n",
       "       -0.99993715, -0.9996613 , -0.99927742, -0.98167611, -1.00089225,\n",
       "       -0.98898447, -1.00194608, -0.99908946, -0.99757007, -0.98851902,\n",
       "       -1.08408283, -0.99185689, -0.99943224, -0.99992557, -0.99758258,\n",
       "       -0.99954431, -1.00096906, -0.98580211, -0.99428994, -0.99805884,\n",
       "       -0.99288868, -0.98130711, -1.00042502, -1.00011663, -0.99408925,\n",
       "       -0.99968208, -0.99884867, -0.99967334, -1.00075821, -0.97809584,\n",
       "       -0.99715313, -0.98766929, -0.98957893, -0.99850777, -1.00028977,\n",
       "       -0.99394016, -0.98928431])"
      ]
     },
     "execution_count": 79,
     "metadata": {},
     "output_type": "execute_result"
    }
   ],
   "source": [
    "svc.decision_function(x_test) #0.5보다 크면 1, 0보다 작으면 0 예측"
   ]
  },
  {
   "cell_type": "code",
   "execution_count": null,
   "id": "17c34f14",
   "metadata": {},
   "outputs": [],
   "source": []
  },
  {
   "cell_type": "code",
   "execution_count": 64,
   "id": "40aed203",
   "metadata": {},
   "outputs": [],
   "source": [
    "# sklearn에서 모델이 예측확률값을 리턴하는 함수\n",
    "# 1, decision_funcion() - 0을 기준으로 svc\n",
    "#2. predict_proba(rfc) - 늪은 확률값의 클랙스, svc"
   ]
  },
  {
   "cell_type": "code",
   "execution_count": 69,
   "id": "40fb9cb8",
   "metadata": {},
   "outputs": [],
   "source": [
    "from sklearn.metrics import classification_report, confusion_matrix"
   ]
  },
  {
   "cell_type": "code",
   "execution_count": 71,
   "id": "eb5515da",
   "metadata": {},
   "outputs": [],
   "source": [
    "cm = confusion_matrix(tree_preds, y_test)"
   ]
  },
  {
   "cell_type": "code",
   "execution_count": 75,
   "id": "cc2401f6",
   "metadata": {},
   "outputs": [],
   "source": [
    "acc = (cm[0,0] + cm[1,1])/ cm.sum()\n",
    "\n",
    "# 0 class\n",
    "precision = cm[0,0]/cm[:,0].sum()\n",
    "recall = cm[0,0]/cm[0,:].sum()"
   ]
  },
  {
   "cell_type": "code",
   "execution_count": null,
   "id": "baf18d20",
   "metadata": {},
   "outputs": [],
   "source": []
  },
  {
   "cell_type": "code",
   "execution_count": 72,
   "id": "fad346f4",
   "metadata": {},
   "outputs": [
    {
     "name": "stdout",
     "output_type": "stream",
     "text": [
      "              precision    recall  f1-score   support\n",
      "\n",
      "           0       0.99      0.99      0.99       101\n",
      "           1       0.00      0.00      0.00         1\n",
      "\n",
      "    accuracy                           0.98       102\n",
      "   macro avg       0.50      0.50      0.50       102\n",
      "weighted avg       0.98      0.98      0.98       102\n",
      "\n"
     ]
    }
   ],
   "source": [
    "print(classification_report(tree_preds, y_test))"
   ]
  },
  {
   "cell_type": "code",
   "execution_count": 80,
   "id": "034dd1f0",
   "metadata": {},
   "outputs": [],
   "source": [
    "# 정밀도 - 재현율 곡선과 평균정밀도\n",
    "# 다양한 예측확률 임계값을 통해 모델을 평가하는 방법\n",
    "# 임계값이 변화함에 따라 정밀도와 재현값의 변화를 그래프로 나타낸다-precision_recall_curve"
   ]
  },
  {
   "cell_type": "code",
   "execution_count": 103,
   "id": "efeafbf5",
   "metadata": {},
   "outputs": [],
   "source": [
    "from sklearn.datasets import make_blobs\n",
    "x, y = make_blobs(n_samples=10000,  centers = 2, n_features=2, cluster_std=[1.2,1], random_state=0)"
   ]
  },
  {
   "cell_type": "code",
   "execution_count": 104,
   "id": "4921db85",
   "metadata": {},
   "outputs": [
    {
     "data": {
      "text/plain": [
       "<matplotlib.collections.PathCollection at 0x2567e408370>"
      ]
     },
     "execution_count": 104,
     "metadata": {},
     "output_type": "execute_result"
    },
    {
     "data": {
      "image/png": "[encoded data removed]",
      "text/plain": [
       "<Figure size 432x288 with 1 Axes>"
      ]
     },
     "metadata": {
      "needs_background": "light"
     },
     "output_type": "display_data"
    }
   ],
   "source": [
    "plt.scatter(x[:,0], x[:,1])"
   ]
  },
  {
   "cell_type": "code",
   "execution_count": 111,
   "id": "6979d3ce",
   "metadata": {},
   "outputs": [],
   "source": [
    "x_train, x_test, y_train, y_test = train_test_split(x,y, random_state=111)"
   ]
  },
  {
   "cell_type": "code",
   "execution_count": null,
   "id": "d902ee15",
   "metadata": {},
   "outputs": [],
   "source": []
  },
  {
   "cell_type": "code",
   "execution_count": 112,
   "id": "31930a43",
   "metadata": {},
   "outputs": [],
   "source": [
    "from sklearn.svm import SVC\n",
    "svc = SVC(gamma=0.05).fit(x_train, y_train)"
   ]
  },
  {
   "cell_type": "code",
   "execution_count": 113,
   "id": "ddcf7d69",
   "metadata": {},
   "outputs": [],
   "source": [
    "from sklearn.metrics import precision_recall_curve"
   ]
  },
  {
   "cell_type": "code",
   "execution_count": 114,
   "id": "a42ca37a",
   "metadata": {},
   "outputs": [
    {
     "data": {
      "text/plain": [
       "array([1, 1, 1, ..., 1, 0, 0])"
      ]
     },
     "execution_count": 114,
     "metadata": {},
     "output_type": "execute_result"
    }
   ],
   "source": [
    "y_test"
   ]
  },
  {
   "cell_type": "code",
   "execution_count": 115,
   "id": "66757c29",
   "metadata": {},
   "outputs": [],
   "source": [
    "precision, recall, thresholds = precision_recall_curve(y_test, svc.decision_function(x_test))"
   ]
  },
  {
   "cell_type": "code",
   "execution_count": 122,
   "id": "cf8cd01f",
   "metadata": {},
   "outputs": [
    {
     "data": {
      "text/plain": [
       "Text(0, 0.5, '재현율')"
      ]
     },
     "execution_count": 122,
     "metadata": {},
     "output_type": "execute_result"
    },
    {
     "data": {
      "image/png": "[encoded data removed]",
      "text/plain": [
       "<Figure size 432x288 with 1 Axes>"
      ]
     },
     "metadata": {
      "needs_background": "light"
     },
     "output_type": "display_data"
    }
   ],
   "source": [
    "plt.plot(precision, recall, label='정밀도-재현율 곡선')\n",
    "plt.xlabel('정밀도')\n",
    "plt.ylabel('재현율')\n",
    "\n",
    "# 정밀도가 높아지면 재현율을 낮아지고, 재현율이 높아지면 정밀도가 낮아진다\n",
    "# 좋은 모델은 모드 임계값 수준에서 정밀도와 재현율이 동시에 높은 모델이다\n",
    "# 정밀도-재현율 곡선의 아랫부분 면적이 클수록 좋은 모델\n",
    "# 정밀도-재현율 곡선의 아래면적 : average-precision_score()"
   ]
  },
  {
   "cell_type": "code",
   "execution_count": 117,
   "id": "aadf83fc",
   "metadata": {},
   "outputs": [
    {
     "data": {
      "text/plain": [
       "0.9885880392185753"
      ]
     },
     "execution_count": 117,
     "metadata": {},
     "output_type": "execute_result"
    }
   ],
   "source": [
    "from sklearn.metrics import average_precision_score\n",
    "average_precision_score(y_test, svc.decision_function(x_test))"
   ]
  },
  {
   "cell_type": "code",
   "execution_count": null,
   "id": "90c93c20",
   "metadata": {},
   "outputs": [],
   "source": []
  },
  {
   "cell_type": "code",
   "execution_count": 118,
   "id": "5b1d45a6",
   "metadata": {},
   "outputs": [],
   "source": [
    "from sklearn.ensemble import RandomForestClassifier\n",
    "\n",
    "rfc = RandomForestClassifier(n_estimators=100, random_state=111)\n",
    "rfc.fit(x_train, y_train)\n",
    "\n",
    "precision_rfc, recall_rfc, thresholds_rfc = precision_recall_curve(y_test, rfc.predict_proba(x_test)[:,1])"
   ]
  },
  {
   "cell_type": "code",
   "execution_count": 123,
   "id": "b21babf2",
   "metadata": {},
   "outputs": [
    {
     "data": {
      "text/plain": [
       "Text(0, 0.5, '재현율')"
      ]
     },
     "execution_count": 123,
     "metadata": {},
     "output_type": "execute_result"
    },
    {
     "data": {
      "image/png": "[encoded data removed]",
      "text/plain": [
       "<Figure size 432x288 with 1 Axes>"
      ]
     },
     "metadata": {
      "needs_background": "light"
     },
     "output_type": "display_data"
    }
   ],
   "source": [
    "plt.plot(precision_rfc, recall_rfc, label='rfc-정밀도-재현율 곡선')\n",
    "plt.xlabel('정밀도')\n",
    "plt.ylabel('재현율')"
   ]
  },
  {
   "cell_type": "code",
   "execution_count": null,
   "id": "00cdc179",
   "metadata": {},
   "outputs": [],
   "source": [
    "### ROC-AUC 곡선 - 많이 씀\n",
    "\n",
    "# 모든 임계값에서 TPR(진짜 양성비율)과 FPR(거짓양서이율)을 그래프로 나타낸 곡선\n",
    "# TPR - 재현율(recall), 실제 True인 데이터를 True라고 맞춘 비율\n",
    "# FPR - 거짓양성비율, 실제 False인 데이터를 True라고 잘못 맞춘 비율\n",
    "# TPR은 높을수록 좋고, FPR은 낮을수록 좋은 모델\n",
    "# roc-auc 곡선의 면적 : roc_auc_score()\n",
    "# imbalaced dataset 에서 유용한 평가자료지표로 사용"
   ]
  },
  {
   "cell_type": "code",
   "execution_count": null,
   "id": "119bb178",
   "metadata": {},
   "outputs": [],
   "source": []
  },
  {
   "cell_type": "code",
   "execution_count": 129,
   "id": "1f6377d6",
   "metadata": {},
   "outputs": [],
   "source": [
    "from sklearn.metrics import roc_curve\n",
    "\n",
    "fpr, tpr, thresholds = roc_curve(y_test, svc.decision_function(x_test))"
   ]
  },
  {
   "cell_type": "code",
   "execution_count": 131,
   "id": "4d923497",
   "metadata": {},
   "outputs": [
    {
     "data": {
      "text/plain": [
       "<matplotlib.legend.Legend at 0x2567b517a60>"
      ]
     },
     "execution_count": 131,
     "metadata": {},
     "output_type": "execute_result"
    },
    {
     "data": {
      "image/png": "[encoded data removed]",
      "text/plain": [
       "<Figure size 432x288 with 1 Axes>"
      ]
     },
     "metadata": {
      "needs_background": "light"
     },
     "output_type": "display_data"
    }
   ],
   "source": [
    "plt.plot(fpr, tpr, label='ROC 곡선')\n",
    "plt.plot(fpr, tpr, label='ROC 곡선')\n",
    "plt.xlabel('fPR')\n",
    "plt.ylabel('TPR')\n",
    "plt.legend()\n",
    "\n",
    "# tpr은 높고, fpr은 낯을수록 좋은 모델 - 좌상으로 그려질수록 좋은 모델"
   ]
  },
  {
   "cell_type": "code",
   "execution_count": null,
   "id": "54cadc28",
   "metadata": {},
   "outputs": [],
   "source": [
    "fpr_rfc, tpr_rfc, thresholds = roc_curve()"
   ]
  },
  {
   "cell_type": "code",
   "execution_count": null,
   "id": "036d69be",
   "metadata": {},
   "outputs": [],
   "source": []
  },
  {
   "cell_type": "code",
   "execution_count": null,
   "id": "732031d6",
   "metadata": {},
   "outputs": [],
   "source": []
  },
  {
   "cell_type": "code",
   "execution_count": null,
   "id": "b9bc7e24",
   "metadata": {},
   "outputs": [],
   "source": []
  },
  {
   "cell_type": "code",
   "execution_count": null,
   "id": "f6d5b524",
   "metadata": {},
   "outputs": [],
   "source": []
  },
  {
   "cell_type": "code",
   "execution_count": null,
   "id": "22d30719",
   "metadata": {},
   "outputs": [],
   "source": []
  },
  {
   "cell_type": "code",
   "execution_count": null,
   "id": "4ca23e96",
   "metadata": {},
   "outputs": [],
   "source": []
  },
  {
   "cell_type": "code",
   "execution_count": null,
   "id": "8643c457",
   "metadata": {},
   "outputs": [],
   "source": []
  },
  {
   "cell_type": "code",
   "execution_count": null,
   "id": "6e87b193",
   "metadata": {},
   "outputs": [],
   "source": []
  },
  {
   "cell_type": "code",
   "execution_count": null,
   "id": "eb4dc5ee",
   "metadata": {},
   "outputs": [],
   "source": []
  }
 ],
 "metadata": {
  "kernelspec": {
   "display_name": "Python 3 (ipykernel)",
   "language": "python",
   "name": "python3"
  },
  "language_info": {
   "codemirror_mode": {
    "name": "ipython",
    "version": 3
   },
   "file_extension": ".py",
   "mimetype": "text/x-python",
   "name": "python",
   "nbconvert_exporter": "python",
   "pygments_lexer": "ipython3",
   "version": "3.9.7"
  },
  "varInspector": {
   "cols": {
    "lenName": 16,
    "lenType": 16,
    "lenVar": 40
   },
   "kernels_config": {
    "python": {
     "delete_cmd_postfix": "",
     "delete_cmd_prefix": "del ",
     "library": "var_list.py",
     "varRefreshCmd": "print(var_dic_list())"
    },
    "r": {
     "delete_cmd_postfix": ") ",
     "delete_cmd_prefix": "rm(",
     "library": "var_list.r",
     "varRefreshCmd": "cat(var_dic_list()) "
    }
   },
   "types_to_exclude": [
    "module",
    "function",
    "builtin_function_or_method",
    "instance",
    "_Feature"
   ],
   "window_display": false
  }
 },
 "nbformat": 4,
 "nbformat_minor": 5
}
