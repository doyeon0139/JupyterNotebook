{
 "cells": [
  {
   "cell_type": "code",
   "execution_count": 12,
   "id": "b97c7273",
   "metadata": {},
   "outputs": [],
   "source": [
    "import pandas as pd\n",
    "import numpy as np\n",
    "import matplotlib.pyplot as plt\n",
    "import seaborn as sns"
   ]
  },
  {
   "cell_type": "code",
   "execution_count": 13,
   "id": "34df29de",
   "metadata": {},
   "outputs": [],
   "source": [
    "from sklearn.datasets import fetch_lfw_people\n",
    "faces = fetch_lfw_people(min_faces_per_person=70, resize=0.4)\n",
    "#                        사람얼굴 70개            사진크기 resize"
   ]
  },
  {
   "cell_type": "code",
   "execution_count": 14,
   "id": "c1679b28",
   "metadata": {},
   "outputs": [],
   "source": [
    "x = faces.data\n",
    "y = faces.target\n",
    "target_names = faces.target_names"
   ]
  },
  {
   "cell_type": "code",
   "execution_count": 15,
   "id": "da647789",
   "metadata": {},
   "outputs": [
    {
     "data": {
      "text/plain": [
       "array(['Donald Rumsfeld', 'George W Bush', 'Gerhard Schroeder',\n",
       "       'Tony Blair'], dtype='<U17')"
      ]
     },
     "execution_count": 15,
     "metadata": {},
     "output_type": "execute_result"
    }
   ],
   "source": [
    "target_names"
   ]
  },
  {
   "cell_type": "code",
   "execution_count": null,
   "id": "6c479868",
   "metadata": {},
   "outputs": [],
   "source": []
  },
  {
   "cell_type": "code",
   "execution_count": 16,
   "id": "d2e3753f",
   "metadata": {},
   "outputs": [
    {
     "data": {
      "text/plain": [
       "1    530\n",
       "3    144\n",
       "0    121\n",
       "2    109\n",
       "dtype: int64"
      ]
     },
     "execution_count": 16,
     "metadata": {},
     "output_type": "execute_result"
    }
   ],
   "source": [
    "pd.Series(y).value_counts()"
   ]
  },
  {
   "cell_type": "code",
   "execution_count": 19,
   "id": "0fabf41f",
   "metadata": {},
   "outputs": [
    {
     "data": {
      "text/plain": [
       "(904, 1850)"
      ]
     },
     "execution_count": 19,
     "metadata": {},
     "output_type": "execute_result"
    }
   ],
   "source": [
    "x.shape         # column이 1850개인 고차원데이터 "
   ]
  },
  {
   "cell_type": "code",
   "execution_count": 26,
   "id": "19f4906f",
   "metadata": {},
   "outputs": [
    {
     "data": {
      "text/plain": [
       "array([[147.66667 , 171.      , 182.      , ...,  93.666664,  82.666664,\n",
       "         75.      ],\n",
       "       [167.      , 184.33333 , 185.66667 , ...,  90.      ,  83.333336,\n",
       "         74.      ],\n",
       "       [175.      , 183.33333 , 185.33333 , ...,  87.333336,  80.666664,\n",
       "         73.      ],\n",
       "       ...,\n",
       "       [ 39.333332,  38.333332,  38.666668, ...,  93.      , 111.666664,\n",
       "        118.333336],\n",
       "       [ 40.666668,  39.333332,  37.666668, ...,  55.      ,  91.      ,\n",
       "        112.333336],\n",
       "       [ 43.333332,  39.333332,  37.333332, ...,  25.666666,  36.666668,\n",
       "         73.666664]], dtype=float32)"
      ]
     },
     "execution_count": 26,
     "metadata": {},
     "output_type": "execute_result"
    }
   ],
   "source": [
    "x[1].reshape(50, 37)"
   ]
  },
  {
   "cell_type": "code",
   "execution_count": 22,
   "id": "fdb55dfb",
   "metadata": {},
   "outputs": [
    {
     "data": {
      "text/plain": [
       "<matplotlib.image.AxesImage at 0x1e6009fd880>"
      ]
     },
     "execution_count": 22,
     "metadata": {},
     "output_type": "execute_result"
    },
    {
     "data": {
      "image/png": "[encoded data removed]",
      "text/plain": [
       "<Figure size 432x288 with 1 Axes>"
      ]
     },
     "metadata": {
      "needs_background": "light"
     },
     "output_type": "display_data"
    }
   ],
   "source": [
    "plt.imshow(x[1].reshape(50, 37))"
   ]
  },
  {
   "cell_type": "code",
   "execution_count": 40,
   "id": "b37eef12",
   "metadata": {
    "scrolled": true
   },
   "outputs": [],
   "source": [
    "n_samples, h, w = x.reshape(904, 50, 37).shape                 # 이미지수(데이터수), row t수, column 수\n",
    "# shape을 변수에 저장"
   ]
  },
  {
   "cell_type": "code",
   "execution_count": 41,
   "id": "505b4a35",
   "metadata": {
    "collapsed": true
   },
   "outputs": [
    {
     "data": {
      "text/plain": [
       "array([[[129.33333 , 150.66667 , 171.66667 , ..., 125.      ,\n",
       "         125.666664, 104.333336],\n",
       "        [149.33333 , 167.33333 , 180.66667 , ..., 119.      ,\n",
       "         127.      , 113.666664],\n",
       "        [167.33333 , 175.33333 , 180.66667 , ..., 113.666664,\n",
       "         121.      , 113.666664],\n",
       "        ...,\n",
       "        [ 23.      ,  25.666666,  24.666666, ...,  33.333332,\n",
       "          11.      ,   9.      ],\n",
       "        [ 24.666666,  24.666666,  21.333334, ...,  16.333334,\n",
       "          10.666667,   8.666667],\n",
       "        [ 27.333334,  24.333334,  20.666666, ...,  11.666667,\n",
       "           9.      ,   7.      ]],\n",
       "\n",
       "       [[147.66667 , 171.      , 182.      , ...,  93.666664,\n",
       "          82.666664,  75.      ],\n",
       "        [167.      , 184.33333 , 185.66667 , ...,  90.      ,\n",
       "          83.333336,  74.      ],\n",
       "        [175.      , 183.33333 , 185.33333 , ...,  87.333336,\n",
       "          80.666664,  73.      ],\n",
       "        ...,\n",
       "        [ 39.333332,  38.333332,  38.666668, ...,  93.      ,\n",
       "         111.666664, 118.333336],\n",
       "        [ 40.666668,  39.333332,  37.666668, ...,  55.      ,\n",
       "          91.      , 112.333336],\n",
       "        [ 43.333332,  39.333332,  37.333332, ...,  25.666666,\n",
       "          36.666668,  73.666664]],\n",
       "\n",
       "       [[ 48.666668,  44.      ,  42.      , ...,  81.      ,\n",
       "          44.666668,  21.      ],\n",
       "        [ 55.333332,  51.333332,  48.333332, ...,  92.      ,\n",
       "          71.333336,  37.666668],\n",
       "        [ 64.666664,  60.666668,  56.666668, ..., 102.333336,\n",
       "          91.666664,  53.666668],\n",
       "        ...,\n",
       "        [ 66.666664,  62.666668,  57.      , ...,  63.      ,\n",
       "          64.      ,  57.      ],\n",
       "        [ 59.      ,  55.666668,  51.      , ...,  58.333332,\n",
       "          56.      ,  60.333332],\n",
       "        [ 53.      ,  49.666668,  45.333332, ...,  53.      ,\n",
       "          54.      ,  56.      ]],\n",
       "\n",
       "       ...,\n",
       "\n",
       "       [[134.33333 , 128.      , 122.      , ..., 157.33333 ,\n",
       "         157.      , 154.      ],\n",
       "        [135.33333 , 129.33333 , 122.333336, ..., 158.66667 ,\n",
       "         154.      , 148.      ],\n",
       "        [127.      , 124.      , 121.666664, ..., 156.66667 ,\n",
       "         153.      , 146.66667 ],\n",
       "        ...,\n",
       "        [ 78.333336,  79.666664,  81.333336, ..., 100.666664,\n",
       "         114.666664, 129.33333 ],\n",
       "        [ 86.      ,  86.      ,  84.666664, ..., 122.333336,\n",
       "         156.33333 , 203.33333 ],\n",
       "        [ 88.      ,  87.666664,  85.666664, ..., 163.33333 ,\n",
       "         216.66667 , 232.      ]],\n",
       "\n",
       "       [[ 66.      ,  72.333336,  81.666664, ..., 110.333336,\n",
       "          97.666664,  74.666664],\n",
       "        [ 72.333336,  91.333336,  93.      , ..., 107.666664,\n",
       "          99.333336,  77.333336],\n",
       "        [ 88.666664, 103.333336,  94.666664, ..., 114.666664,\n",
       "         105.      ,  83.333336],\n",
       "        ...,\n",
       "        [  8.      ,  12.333333,  54.666668, ..., 155.33333 ,\n",
       "         101.666664,  40.666668],\n",
       "        [  7.      ,   9.666667,  34.333332, ..., 153.      ,\n",
       "         129.      ,  82.      ],\n",
       "        [ 10.      ,   9.666667,  20.      , ..., 150.33333 ,\n",
       "         135.      , 104.666664]],\n",
       "\n",
       "       [[ 80.666664,  81.666664,  85.666664, ...,  39.      ,\n",
       "          35.333332,  36.333332],\n",
       "        [ 85.666664,  85.666664,  92.333336, ...,  38.      ,\n",
       "          34.666668,  36.666668],\n",
       "        [ 83.      ,  87.666664,  98.      , ...,  37.666668,\n",
       "          34.666668,  36.      ],\n",
       "        ...,\n",
       "        [ 52.333332,  36.333332,  81.333336, ..., 163.      ,\n",
       "          47.666668,  29.      ],\n",
       "        [ 53.333332,  59.      ,  96.      , ..., 164.66667 ,\n",
       "          45.333332,  29.666666],\n",
       "        [ 51.333332,  67.      , 100.333336, ..., 155.      ,\n",
       "          36.      ,  25.333334]]], dtype=float32)"
      ]
     },
     "execution_count": 41,
     "metadata": {},
     "output_type": "execute_result"
    }
   ],
   "source": [
    "samples = x[:10].reshape(10, h, w)\n",
    "samples"
   ]
  },
  {
   "cell_type": "code",
   "execution_count": 42,
   "id": "dce1b16c",
   "metadata": {},
   "outputs": [
    {
     "data": {
      "text/plain": [
       "(10, 50, 37)"
      ]
     },
     "execution_count": 42,
     "metadata": {},
     "output_type": "execute_result"
    }
   ],
   "source": [
    "samples.shape"
   ]
  },
  {
   "cell_type": "code",
   "execution_count": 43,
   "id": "5b824ae8",
   "metadata": {},
   "outputs": [
    {
     "data": {
      "image/png": "[encoded data removed]",
      "text/plain": [
       "<Figure size 1440x720 with 10 Axes>"
      ]
     },
     "metadata": {
      "needs_background": "light"
     },
     "output_type": "display_data"
    }
   ],
   "source": [
    "fig, axes = plt.subplots(nrows=2, ncols=5, figsize=(20,10))\n",
    "\n",
    "for idx, sample in enumerate(samples):\n",
    "    ax = axes[idx//5, idx%5]             # axes subplot\n",
    "    ax.imshow(sample, cmap='gray')        # subplot!!!!!\n",
    "    ax.set_title(target_names[y[idx]])"
   ]
  },
  {
   "cell_type": "code",
   "execution_count": null,
   "id": "c8f33040",
   "metadata": {},
   "outputs": [],
   "source": []
  },
  {
   "cell_type": "code",
   "execution_count": 44,
   "id": "e470d9b5",
   "metadata": {},
   "outputs": [],
   "source": [
    "from sklearn.model_selection import train_test_split\n",
    "x_train, x_test, y_train, y_test = train_test_split(x, y, test_size=0.2, random_state=100)"
   ]
  },
  {
   "cell_type": "code",
   "execution_count": 46,
   "id": "f36c1ff4",
   "metadata": {},
   "outputs": [
    {
     "data": {
      "text/plain": [
       "array([129.33333 , 150.66667 , 171.66667 , ...,  11.666667,   9.      ,\n",
       "         7.      ], dtype=float32)"
      ]
     },
     "execution_count": 46,
     "metadata": {},
     "output_type": "execute_result"
    }
   ],
   "source": [
    "x[0]"
   ]
  },
  {
   "cell_type": "code",
   "execution_count": 50,
   "id": "091a1503",
   "metadata": {},
   "outputs": [],
   "source": [
    "from sklearn.preprocessing import StandardScaler, MinMaxScaler   # 값차이가 너무 크면 정규화가 좋음\n",
    "scaler = StandardScaler()                                         # 표준정규분포로 변환      -1~1\n",
    "scaler.fit_transform(x_train)                          # 표준정규화 =>  통계 공부점....\n",
    "x_train_scaled = scaler.transform(x_train)\n",
    "x_test_scaled = scaler.transform(x_test)"
   ]
  },
  {
   "cell_type": "code",
   "execution_count": 52,
   "id": "16348da9",
   "metadata": {},
   "outputs": [
    {
     "data": {
      "text/plain": [
       "(723, 1850)"
      ]
     },
     "execution_count": 52,
     "metadata": {},
     "output_type": "execute_result"
    }
   ],
   "source": [
    "x_train_scaled.shape"
   ]
  },
  {
   "cell_type": "code",
   "execution_count": 53,
   "id": "c3b16373",
   "metadata": {},
   "outputs": [
    {
     "data": {
      "text/plain": [
       "(181, 1850)"
      ]
     },
     "execution_count": 53,
     "metadata": {},
     "output_type": "execute_result"
    }
   ],
   "source": [
    "x_test_scaled.shape"
   ]
  },
  {
   "cell_type": "code",
   "execution_count": 55,
   "id": "d701c04b",
   "metadata": {},
   "outputs": [
    {
     "data": {
      "text/plain": [
       "0.7071823204419889"
      ]
     },
     "execution_count": 55,
     "metadata": {},
     "output_type": "execute_result"
    }
   ],
   "source": [
    "from sklearn.ensemble import RandomForestClassifier\n",
    "\n",
    "rfc = RandomForestClassifier()\n",
    "rfc.fit(x_train_scaled, y_train)\n",
    "rfc.score(x_test_scaled, y_test)"
   ]
  },
  {
   "cell_type": "code",
   "execution_count": 56,
   "id": "0c0f3928",
   "metadata": {},
   "outputs": [
    {
     "data": {
      "text/plain": [
       "0.8011049723756906"
      ]
     },
     "execution_count": 56,
     "metadata": {},
     "output_type": "execute_result"
    }
   ],
   "source": [
    "from sklearn.svm import SVC\n",
    "\n",
    "svc = SVC()\n",
    "svc.fit(x_train_scaled, y_train)\n",
    "svc.score(x_test_scaled, y_test)"
   ]
  },
  {
   "cell_type": "code",
   "execution_count": null,
   "id": "a2e4e856",
   "metadata": {},
   "outputs": [],
   "source": [
    "# PCA를 통해서 차원축소 후\n",
    "# PCA Decompsition"
   ]
  },
  {
   "cell_type": "code",
   "execution_count": 57,
   "id": "712f9ef8",
   "metadata": {},
   "outputs": [
    {
     "data": {
      "text/plain": [
       "PCA()"
      ]
     },
     "execution_count": 57,
     "metadata": {},
     "output_type": "execute_result"
    }
   ],
   "source": [
    "from sklearn.decomposition import PCA\n",
    "\n",
    "pca = PCA()\n",
    "pca.fit(x_train_scaled)"
   ]
  },
  {
   "cell_type": "code",
   "execution_count": 58,
   "id": "7759af91",
   "metadata": {},
   "outputs": [
    {
     "data": {
      "text/plain": [
       "723"
      ]
     },
     "execution_count": 58,
     "metadata": {},
     "output_type": "execute_result"
    }
   ],
   "source": [
    "pca.n_components_"
   ]
  },
  {
   "cell_type": "code",
   "execution_count": 59,
   "id": "fc341d35",
   "metadata": {},
   "outputs": [
    {
     "data": {
      "text/plain": [
       "PCA(n_components=0.9)"
      ]
     },
     "execution_count": 59,
     "metadata": {},
     "output_type": "execute_result"
    }
   ],
   "source": [
    "pca = PCA(n_components=0.9)   # \n",
    "pca.fit(x_train_scaled)"
   ]
  },
  {
   "cell_type": "code",
   "execution_count": 60,
   "id": "88d1942c",
   "metadata": {},
   "outputs": [
    {
     "data": {
      "text/plain": [
       "65"
      ]
     },
     "execution_count": 60,
     "metadata": {},
     "output_type": "execute_result"
    }
   ],
   "source": [
    "pca.n_components_          # x : 1030차원 데이터 => 75차원 데이터"
   ]
  },
  {
   "cell_type": "code",
   "execution_count": 61,
   "id": "a042c550",
   "metadata": {},
   "outputs": [],
   "source": [
    "x_train_scaled_pca = pca.transform(x_train_scaled)\n",
    "x_test_scaled_pca = pca.transform(x_test_scaled)"
   ]
  },
  {
   "cell_type": "code",
   "execution_count": 62,
   "id": "62ffe088",
   "metadata": {},
   "outputs": [
    {
     "data": {
      "text/plain": [
       "0.6906077348066298"
      ]
     },
     "execution_count": 62,
     "metadata": {},
     "output_type": "execute_result"
    }
   ],
   "source": [
    "from sklearn.ensemble import RandomForestClassifier\n",
    "\n",
    "rfc = RandomForestClassifier()\n",
    "rfc.fit(x_train_scaled_pca, y_train)\n",
    "rfc.score(x_test_scaled_pca, y_test)"
   ]
  },
  {
   "cell_type": "code",
   "execution_count": 63,
   "id": "a6ecbdb6",
   "metadata": {},
   "outputs": [
    {
     "data": {
      "text/plain": [
       "0.8121546961325967"
      ]
     },
     "execution_count": 63,
     "metadata": {},
     "output_type": "execute_result"
    }
   ],
   "source": [
    "from sklearn.svm import SVC\n",
    "\n",
    "svc = SVC()\n",
    "svc.fit(x_train_scaled_pca, y_train)\n",
    "svc.score(x_test_scaled_pca, y_test)"
   ]
  },
  {
   "cell_type": "code",
   "execution_count": 65,
   "id": "e140b649",
   "metadata": {},
   "outputs": [
    {
     "data": {
      "text/plain": [
       "(65, 1850)"
      ]
     },
     "execution_count": 65,
     "metadata": {},
     "output_type": "execute_result"
    }
   ],
   "source": [
    "pca.components_.shape"
   ]
  },
  {
   "cell_type": "code",
   "execution_count": 68,
   "id": "e2041558",
   "metadata": {},
   "outputs": [],
   "source": [
    "eigenfaces = pca.components_.reshape((pca.n_components_, h, w))\n",
    "samples = eigenfaces[:10]"
   ]
  },
  {
   "cell_type": "code",
   "execution_count": 69,
   "id": "b84b7b11",
   "metadata": {},
   "outputs": [
    {
     "data": {
      "image/png": "[encoded data removed]",
      "text/plain": [
       "<Figure size 1440x720 with 10 Axes>"
      ]
     },
     "metadata": {
      "needs_background": "light"
     },
     "output_type": "display_data"
    }
   ],
   "source": [
    "fig, axes = plt.subplots(nrows=2, ncols=5, figsize=(20,10))\n",
    "\n",
    "for idx, sample in enumerate(samples):\n",
    "    ax = axes[idx//5, idx%5]\n",
    "    ax.imshow(sample, cmap='gray')\n",
    "    ax.set_title(target_names[y[idx]])"
   ]
  },
  {
   "cell_type": "code",
   "execution_count": null,
   "id": "2e37dda7",
   "metadata": {},
   "outputs": [],
   "source": []
  },
  {
   "cell_type": "code",
   "execution_count": null,
   "id": "95c6c303",
   "metadata": {},
   "outputs": [],
   "source": []
  },
  {
   "cell_type": "code",
   "execution_count": null,
   "id": "16a0bb73",
   "metadata": {},
   "outputs": [],
   "source": []
  },
  {
   "cell_type": "code",
   "execution_count": null,
   "id": "96043491",
   "metadata": {},
   "outputs": [],
   "source": []
  },
  {
   "cell_type": "code",
   "execution_count": null,
   "id": "0102169c",
   "metadata": {},
   "outputs": [],
   "source": []
  },
  {
   "cell_type": "code",
   "execution_count": null,
   "id": "b17bfd27",
   "metadata": {},
   "outputs": [],
   "source": []
  },
  {
   "cell_type": "code",
   "execution_count": null,
   "id": "71e23560",
   "metadata": {},
   "outputs": [],
   "source": []
  },
  {
   "cell_type": "code",
   "execution_count": null,
   "id": "95752350",
   "metadata": {},
   "outputs": [],
   "source": []
  },
  {
   "cell_type": "code",
   "execution_count": null,
   "id": "ba5d0835",
   "metadata": {},
   "outputs": [],
   "source": []
  },
  {
   "cell_type": "code",
   "execution_count": null,
   "id": "dc1e61cd",
   "metadata": {},
   "outputs": [],
   "source": []
  },
  {
   "cell_type": "code",
   "execution_count": null,
   "id": "95684815",
   "metadata": {},
   "outputs": [],
   "source": []
  },
  {
   "cell_type": "code",
   "execution_count": null,
   "id": "ff5cbfb6",
   "metadata": {},
   "outputs": [],
   "source": []
  },
  {
   "cell_type": "code",
   "execution_count": null,
   "id": "6351e07e",
   "metadata": {},
   "outputs": [],
   "source": []
  },
  {
   "cell_type": "code",
   "execution_count": null,
   "id": "2b3828da",
   "metadata": {},
   "outputs": [],
   "source": []
  },
  {
   "cell_type": "code",
   "execution_count": null,
   "id": "3ee1f92c",
   "metadata": {},
   "outputs": [],
   "source": []
  },
  {
   "cell_type": "code",
   "execution_count": null,
   "id": "4b992f02",
   "metadata": {},
   "outputs": [],
   "source": []
  },
  {
   "cell_type": "code",
   "execution_count": null,
   "id": "901c301e",
   "metadata": {},
   "outputs": [],
   "source": []
  }
 ],
 "metadata": {
  "kernelspec": {
   "display_name": "Python 3 (ipykernel)",
   "language": "python",
   "name": "python3"
  },
  "language_info": {
   "codemirror_mode": {
    "name": "ipython",
    "version": 3
   },
   "file_extension": ".py",
   "mimetype": "text/x-python",
   "name": "python",
   "nbconvert_exporter": "python",
   "pygments_lexer": "ipython3",
   "version": "3.9.7"
  },
  "varInspector": {
   "cols": {
    "lenName": 16,
    "lenType": 16,
    "lenVar": 40
   },
   "kernels_config": {
    "python": {
     "delete_cmd_postfix": "",
     "delete_cmd_prefix": "del ",
     "library": "var_list.py",
     "varRefreshCmd": "print(var_dic_list())"
    },
    "r": {
     "delete_cmd_postfix": ") ",
     "delete_cmd_prefix": "rm(",
     "library": "var_list.r",
     "varRefreshCmd": "cat(var_dic_list()) "
    }
   },
   "types_to_exclude": [
    "module",
    "function",
    "builtin_function_or_method",
    "instance",
    "_Feature"
   ],
   "window_display": false
  }
 },
 "nbformat": 4,
 "nbformat_minor": 5
}
