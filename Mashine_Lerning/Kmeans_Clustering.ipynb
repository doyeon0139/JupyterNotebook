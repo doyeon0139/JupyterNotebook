{
 "cells": [
  {
   "cell_type": "code",
   "execution_count": 50,
   "id": "dcdd8fee",
   "metadata": {},
   "outputs": [],
   "source": [
    "import pandas as pd\n",
    "import numpy as np\n",
    "import matplotlib.pyplot as plt\n",
    "import seaborn as sns"
   ]
  },
  {
   "cell_type": "code",
   "execution_count": 51,
   "id": "bb4fe2b2",
   "metadata": {},
   "outputs": [],
   "source": [
    "from sklearn.datasets import make_blobs    # 데이터 생성함수"
   ]
  },
  {
   "cell_type": "code",
   "execution_count": 63,
   "id": "d91e5cca",
   "metadata": {},
   "outputs": [],
   "source": [
    "data = make_blobs(n_samples=200, n_features=2, centers=3, cluster_std=1)\n",
    "# 샘플 200, 칼럼수 2, 중심점 3, 데이터분산 1.8"
   ]
  },
  {
   "cell_type": "code",
   "execution_count": 64,
   "id": "a91eb0dd",
   "metadata": {},
   "outputs": [
    {
     "data": {
      "text/plain": [
       "(array([[ -2.6593416 ,   4.35502197],\n",
       "        [ -6.05270469,   1.2392782 ],\n",
       "        [ -5.05498029,   2.83016328],\n",
       "        [ -6.23396439,  -6.53487285],\n",
       "        [ -5.7257573 ,   3.43272551],\n",
       "        [ -4.31990128,   2.78227707],\n",
       "        [ -5.63529438,   2.83950906],\n",
       "        [ -0.46651196,   3.23881792],\n",
       "        [ -7.70220299,  -6.85245598],\n",
       "        [ -8.82708582,  -7.93617323],\n",
       "        [ -2.01898946,   3.37460572],\n",
       "        [ -1.36087292,   5.82005024],\n",
       "        [ -2.46234438,   4.87215941],\n",
       "        [ -2.05858417,   3.99606992],\n",
       "        [ -2.7763606 ,   3.10394271],\n",
       "        [ -5.69113307,   3.49246721],\n",
       "        [ -4.15012842,   1.95850501],\n",
       "        [ -4.33978682,   4.4454553 ],\n",
       "        [ -2.05004784,   3.78041255],\n",
       "        [ -1.48089905,   3.13418705],\n",
       "        [ -8.28899092,  -7.0041086 ],\n",
       "        [ -5.82970268,  -8.22885528],\n",
       "        [ -1.19337749,   4.56231774],\n",
       "        [ -7.24182181,  -8.07065133],\n",
       "        [ -1.99726671,   6.09263929],\n",
       "        [ -5.60317091,   3.54922425],\n",
       "        [ -7.56724237,  -7.61267165],\n",
       "        [ -8.99101101,  -4.90161173],\n",
       "        [ -2.98280726,   2.88139051],\n",
       "        [ -3.87636438,   3.86371406],\n",
       "        [ -7.87385983,  -9.06794865],\n",
       "        [ -2.29272233,   5.17258077],\n",
       "        [ -5.64762077,   3.25874648],\n",
       "        [ -8.12842338,  -6.9476005 ],\n",
       "        [ -8.86569874,  -6.54673823],\n",
       "        [ -7.05173188,  -6.15601367],\n",
       "        [ -3.14799058,   4.13338439],\n",
       "        [ -0.5276787 ,   3.7468565 ],\n",
       "        [ -1.93914492,   5.18958566],\n",
       "        [ -7.33012389,  -4.96486804],\n",
       "        [ -1.91029782,   3.10829735],\n",
       "        [ -1.10319233,   5.36577256],\n",
       "        [ -2.27473392,   2.65217591],\n",
       "        [ -6.32928898,   4.87384459],\n",
       "        [ -5.89038141,   2.5274113 ],\n",
       "        [ -8.30667303,  -7.31150722],\n",
       "        [ -3.88963322,   2.43800124],\n",
       "        [ -6.8237411 ,  -6.75617715],\n",
       "        [ -1.74890479,   5.63760489],\n",
       "        [ -5.06534936,   2.52158882],\n",
       "        [ -4.64169179,   1.39497354],\n",
       "        [ -8.07882888,  -8.63767785],\n",
       "        [ -6.54376093,  -8.41266132],\n",
       "        [ -2.51820611,   4.9116228 ],\n",
       "        [ -5.39602927,   4.5957354 ],\n",
       "        [ -0.24752369,   4.33618963],\n",
       "        [ -7.40451053,  -8.22332508],\n",
       "        [ -0.39408816,   4.60835677],\n",
       "        [ -1.63684534,   3.82072501],\n",
       "        [ -5.55166369,   3.88069828],\n",
       "        [ -4.83196039,   3.74725594],\n",
       "        [ -8.16603056,  -7.39735633],\n",
       "        [ -7.56680797,  -7.0116209 ],\n",
       "        [ -1.8987279 ,   2.72327514],\n",
       "        [ -5.67708313,   3.17200672],\n",
       "        [ -2.41525035,   3.59137847],\n",
       "        [ -6.02891554,   2.90900237],\n",
       "        [ -2.17342917,   2.52416273],\n",
       "        [ -7.67843125,  -5.70875323],\n",
       "        [ -7.26599688,  -7.14712693],\n",
       "        [ -6.66939549,  -5.79337082],\n",
       "        [ -5.95402731,   4.44252012],\n",
       "        [ -7.259451  ,  -7.31987528],\n",
       "        [ -6.18083564,   3.17306726],\n",
       "        [ -9.36420054,  -7.3892027 ],\n",
       "        [ -8.05729003,  -7.57167442],\n",
       "        [ -1.91435388,   4.53479013],\n",
       "        [ -7.21017984,  -6.79168336],\n",
       "        [ -8.19835148,   3.03491293],\n",
       "        [ -0.30880801,   3.95088068],\n",
       "        [ -6.81704245,  -6.73337023],\n",
       "        [ -3.03284087,   5.2730373 ],\n",
       "        [ -4.33221215,   5.40749844],\n",
       "        [ -2.2835262 ,   2.55891123],\n",
       "        [ -2.59659666,   4.54764521],\n",
       "        [ -6.61643319,   3.40761255],\n",
       "        [ -5.6676239 ,   2.99241216],\n",
       "        [ -2.19939347,   3.09906723],\n",
       "        [ -5.24842256,   3.25192128],\n",
       "        [ -0.20628739,   3.15611437],\n",
       "        [ -9.47878865,  -8.18701802],\n",
       "        [ -7.89147859,  -7.397964  ],\n",
       "        [ -4.1320229 ,   3.72752081],\n",
       "        [ -2.30630092,   4.10150897],\n",
       "        [ -2.56902573,   3.24318509],\n",
       "        [ -6.5553013 ,  -8.48718489],\n",
       "        [ -7.25131686,  -6.70267761],\n",
       "        [ -5.85711584,   2.02780435],\n",
       "        [ -4.99395514,   3.38749047],\n",
       "        [ -6.25076293,   2.38402448],\n",
       "        [ -4.52654769,   2.52215744],\n",
       "        [ -1.71084458,   4.77681225],\n",
       "        [ -1.13883252,   3.62883487],\n",
       "        [ -7.65902803,  -5.38954853],\n",
       "        [ -2.97445634,   3.19625297],\n",
       "        [ -2.59740825,   4.02844597],\n",
       "        [ -6.93417878,  -7.7863578 ],\n",
       "        [ -1.68349612,   3.28583873],\n",
       "        [ -4.08803673,   4.40786096],\n",
       "        [ -6.57030724,   2.40163944],\n",
       "        [ -5.97570624,   3.72303963],\n",
       "        [ -5.99798134,   3.06390728],\n",
       "        [ -3.42495867,   2.97072063],\n",
       "        [ -8.04273868,  -7.59256922],\n",
       "        [ -4.64770421,   2.5243298 ],\n",
       "        [ -2.11621378,   3.83510923],\n",
       "        [ -7.25955881,  -6.94841164],\n",
       "        [ -0.95810914,   4.42850738],\n",
       "        [ -1.19824262,   3.26577561],\n",
       "        [ -1.96027724,   4.45197442],\n",
       "        [ -6.32164104,   1.94782307],\n",
       "        [ -1.84290416,   3.33262654],\n",
       "        [ -5.12658836,   2.32001176],\n",
       "        [ -3.30863146,   3.22559897],\n",
       "        [ -7.81167001,  -6.92851216],\n",
       "        [ -6.5031652 ,   1.91945371],\n",
       "        [ -2.50858113,   4.81758086],\n",
       "        [ -2.57106321,   3.74559091],\n",
       "        [-11.10362896,  -7.48266115],\n",
       "        [ -6.31915663,   2.10759959],\n",
       "        [ -9.17812315,  -7.4843817 ],\n",
       "        [ -7.84103946,  -6.98657757],\n",
       "        [ -4.83545503,   4.45800018],\n",
       "        [ -2.56089921,   3.1911861 ],\n",
       "        [ -5.60140139,   1.98945532],\n",
       "        [ -8.48536048,  -5.81851683],\n",
       "        [ -3.17400018,   4.71534484],\n",
       "        [ -4.85086741,   2.71694632],\n",
       "        [ -8.03708939,  -7.5882702 ],\n",
       "        [ -3.54581741,   3.83853589],\n",
       "        [ -6.31543988,   4.00844746],\n",
       "        [ -8.76295315,  -7.90070066],\n",
       "        [ -5.47129208,   3.79039627],\n",
       "        [ -1.67807441,   4.00311471],\n",
       "        [ -7.7230425 ,  -8.86187098],\n",
       "        [ -5.93815452,  -9.26665541],\n",
       "        [ -5.7104425 ,   5.11444098],\n",
       "        [ -8.29163686,  -8.29629722],\n",
       "        [ -7.52784779,  -6.46779233],\n",
       "        [ -5.55424195,   3.37873007],\n",
       "        [ -9.52605905,  -7.24556039],\n",
       "        [ -6.24298144,   3.74646987],\n",
       "        [ -7.95466294,  -9.58607781],\n",
       "        [ -6.50184121,  -7.11878459],\n",
       "        [ -1.99961157,   5.18946598],\n",
       "        [ -5.83895362,   5.1381332 ],\n",
       "        [ -5.61369298,   4.1413215 ],\n",
       "        [ -5.60797429,   2.58387476],\n",
       "        [ -7.48053469,  -7.31479961],\n",
       "        [ -5.62347647,   4.56515774],\n",
       "        [ -6.72046555,  -7.53830745],\n",
       "        [ -5.56553612,   3.93279153],\n",
       "        [ -7.17796437,  -5.72781973],\n",
       "        [ -2.27354112,   4.47749354],\n",
       "        [ -2.52192633,   3.94123635],\n",
       "        [ -5.82845234,   2.79593201],\n",
       "        [ -7.80082696,  -6.64102074],\n",
       "        [ -1.63479127,   1.31644772],\n",
       "        [ -2.00659306,   3.02311616],\n",
       "        [ -8.72738763,  -6.89278939],\n",
       "        [ -7.4651787 ,  -6.61469254],\n",
       "        [ -4.72219784,   3.09228038],\n",
       "        [ -2.12445394,   3.9502319 ],\n",
       "        [ -5.09951117,   2.80484666],\n",
       "        [ -7.67364264,  -8.68914907],\n",
       "        [ -3.70877913,   4.21713755],\n",
       "        [ -4.98930297,   4.84116627],\n",
       "        [ -7.47989072,  -8.34737099],\n",
       "        [ -2.08171839,   4.3104169 ],\n",
       "        [ -8.05790121,  -7.25472243],\n",
       "        [ -5.69968209,   3.82137146],\n",
       "        [ -4.6032224 ,   3.38972164],\n",
       "        [ -7.32460508,  -8.9603113 ],\n",
       "        [ -3.52540185,   2.57600146],\n",
       "        [ -7.04034163,  -5.97235711],\n",
       "        [ -2.93134526,   4.40704493],\n",
       "        [ -4.56641411,   3.51536627],\n",
       "        [ -8.95710345,  -6.64858397],\n",
       "        [ -7.81492298,  -8.34769747],\n",
       "        [ -2.11552207,   3.96237372],\n",
       "        [ -2.76841356,   3.07991556],\n",
       "        [ -1.33503654,   3.61416464],\n",
       "        [ -2.37010929,   3.51126909],\n",
       "        [ -9.1038646 ,  -7.6112518 ],\n",
       "        [ -7.76970275,  -7.11753215],\n",
       "        [ -4.81751199,   2.98138845],\n",
       "        [ -5.08998281,   1.69596718],\n",
       "        [ -7.95745789,  -7.36994751],\n",
       "        [ -8.76078029,  -7.80932379],\n",
       "        [ -4.46928039,   3.1107103 ]]),\n",
       " array([1, 2, 2, 0, 2, 2, 2, 1, 0, 0, 1, 1, 1, 1, 1, 2, 2, 2, 1, 1, 0, 0,\n",
       "        1, 0, 1, 2, 0, 0, 1, 1, 0, 1, 2, 0, 0, 0, 1, 1, 1, 0, 1, 1, 1, 2,\n",
       "        2, 0, 2, 0, 1, 2, 2, 0, 0, 1, 2, 1, 0, 1, 1, 2, 2, 0, 0, 1, 2, 1,\n",
       "        2, 1, 0, 0, 0, 2, 0, 2, 0, 0, 1, 0, 2, 1, 0, 1, 1, 1, 1, 2, 2, 1,\n",
       "        2, 1, 0, 0, 2, 1, 1, 0, 0, 2, 2, 2, 2, 1, 1, 0, 1, 1, 0, 1, 2, 2,\n",
       "        2, 2, 1, 0, 2, 1, 0, 1, 1, 1, 2, 1, 2, 1, 0, 2, 1, 1, 0, 2, 0, 0,\n",
       "        2, 1, 2, 0, 1, 2, 0, 1, 2, 0, 2, 1, 0, 0, 2, 0, 0, 2, 0, 2, 0, 0,\n",
       "        1, 2, 2, 2, 0, 2, 0, 2, 0, 1, 2, 2, 0, 1, 1, 0, 0, 2, 1, 2, 0, 2,\n",
       "        2, 0, 1, 0, 2, 2, 0, 2, 0, 1, 2, 0, 0, 1, 1, 1, 1, 0, 0, 2, 2, 0,\n",
       "        0, 2]))"
      ]
     },
     "execution_count": 64,
     "metadata": {},
     "output_type": "execute_result"
    }
   ],
   "source": [
    "data  # 첫번째 array에는 data, 두번째 array에는 label"
   ]
  },
  {
   "cell_type": "code",
   "execution_count": 65,
   "id": "68aab519",
   "metadata": {},
   "outputs": [
    {
     "data": {
      "text/plain": [
       "<matplotlib.collections.PathCollection at 0x1da2e52a4f0>"
      ]
     },
     "execution_count": 65,
     "metadata": {},
     "output_type": "execute_result"
    },
    {
     "data": {
      "image/png": "[encoded data removed]",
      "text/plain": [
       "<Figure size 432x288 with 1 Axes>"
      ]
     },
     "metadata": {
      "needs_background": "light"
     },
     "output_type": "display_data"
    }
   ],
   "source": [
    "plt.scatter(data[0][:,0], data[0][:,1], c=data[1], cmap='rainbow')          # 어려워....."
   ]
  },
  {
   "cell_type": "code",
   "execution_count": 55,
   "id": "17d77246",
   "metadata": {},
   "outputs": [],
   "source": [
    "from sklearn.cluster import KMeans"
   ]
  },
  {
   "cell_type": "code",
   "execution_count": 56,
   "id": "a78cf08a",
   "metadata": {},
   "outputs": [],
   "source": [
    "kmeans = KMeans(n_clusters=3)"
   ]
  },
  {
   "cell_type": "code",
   "execution_count": 57,
   "id": "1910e97c",
   "metadata": {},
   "outputs": [
    {
     "data": {
      "text/plain": [
       "KMeans(n_clusters=3)"
      ]
     },
     "execution_count": 57,
     "metadata": {},
     "output_type": "execute_result"
    }
   ],
   "source": [
    "kmeans.fit(data[0])"
   ]
  },
  {
   "cell_type": "code",
   "execution_count": 58,
   "id": "e6238320",
   "metadata": {},
   "outputs": [
    {
     "data": {
      "text/plain": [
       "array([[ 9.01183725,  8.21064635],\n",
       "       [ 7.35178277, -6.34068309],\n",
       "       [ 5.2870641 ,  3.5939563 ]])"
      ]
     },
     "execution_count": 58,
     "metadata": {},
     "output_type": "execute_result"
    }
   ],
   "source": [
    "kmeans.cluster_centers_"
   ]
  },
  {
   "cell_type": "code",
   "execution_count": 59,
   "id": "3fee2aea",
   "metadata": {},
   "outputs": [
    {
     "data": {
      "text/plain": [
       "array([1, 1, 1, 2, 2, 2, 1, 2, 2, 0, 1, 0, 2, 0, 1, 1, 0, 0, 1, 0, 2, 0,\n",
       "       1, 0, 2, 1, 2, 2, 2, 1, 2, 0, 1, 1, 0, 1, 2, 0, 0, 2, 1, 2, 1, 1,\n",
       "       2, 1, 1, 1, 0, 1, 2, 2, 0, 2, 1, 0, 2, 1, 1, 0, 0, 0, 2, 2, 0, 2,\n",
       "       0, 0, 1, 0, 0, 2, 0, 1, 0, 2, 2, 0, 2, 1, 2, 2, 1, 1, 1, 1, 0, 0,\n",
       "       1, 0, 0, 2, 2, 2, 0, 2, 0, 1, 1, 2, 2, 0, 0, 0, 2, 2, 2, 2, 0, 1,\n",
       "       1, 2, 2, 0, 1, 1, 2, 0, 1, 0, 1, 1, 1, 0, 1, 2, 0, 2, 1, 1, 1, 2,\n",
       "       2, 2, 2, 0, 0, 0, 0, 0, 1, 2, 0, 0, 1, 2, 0, 1, 0, 0, 0, 1, 2, 2,\n",
       "       0, 0, 1, 1, 0, 1, 1, 1, 2, 1, 2, 1, 2, 0, 2, 0, 2, 2, 0, 2, 1, 2,\n",
       "       2, 2, 1, 2, 2, 2, 2, 1, 2, 2, 2, 2, 0, 1, 2, 0, 1, 0, 2, 1, 2, 1,\n",
       "       0, 1])"
      ]
     },
     "execution_count": 59,
     "metadata": {},
     "output_type": "execute_result"
    }
   ],
   "source": [
    "kmeans.labels_"
   ]
  },
  {
   "cell_type": "code",
   "execution_count": 49,
   "id": "24cb48fb",
   "metadata": {},
   "outputs": [
    {
     "data": {
      "text/plain": [
       "<matplotlib.collections.PathCollection at 0x1da2e0367f0>"
      ]
     },
     "execution_count": 49,
     "metadata": {},
     "output_type": "execute_result"
    },
    {
     "data": {
      "image/png": "[encoded data removed]",
      "text/plain": [
       "<Figure size 720x432 with 2 Axes>"
      ]
     },
     "metadata": {
      "needs_background": "light"
     },
     "output_type": "display_data"
    }
   ],
   "source": [
    "f, (ax1, ax2) = plt.subplots(1,2, sharey=True, figsize=(10,6))\n",
    "\n",
    "ax1.set_title('k_Means')\n",
    "ax1.scatter(data[0][:,0], data[0][:,1], c=kmeans.labels_, cmap='rainbow') \n",
    "\n",
    "ax2.set_title('Original')\n",
    "ax2.scatter(data[0][:,0], data[0][:,1], c=data[1], cmap='rainbow')"
   ]
  },
  {
   "cell_type": "code",
   "execution_count": null,
   "id": "8f581ce2",
   "metadata": {},
   "outputs": [],
   "source": []
  },
  {
   "cell_type": "code",
   "execution_count": null,
   "id": "49bbe3a2",
   "metadata": {},
   "outputs": [],
   "source": []
  },
  {
   "cell_type": "code",
   "execution_count": null,
   "id": "eb0b2ae2",
   "metadata": {},
   "outputs": [],
   "source": []
  },
  {
   "cell_type": "code",
   "execution_count": null,
   "id": "00200bb2",
   "metadata": {},
   "outputs": [],
   "source": []
  },
  {
   "cell_type": "code",
   "execution_count": null,
   "id": "607e596f",
   "metadata": {},
   "outputs": [],
   "source": []
  },
  {
   "cell_type": "code",
   "execution_count": null,
   "id": "b786dc77",
   "metadata": {},
   "outputs": [],
   "source": []
  },
  {
   "cell_type": "code",
   "execution_count": null,
   "id": "a79b53bb",
   "metadata": {},
   "outputs": [],
   "source": []
  }
 ],
 "metadata": {
  "kernelspec": {
   "display_name": "Python 3 (ipykernel)",
   "language": "python",
   "name": "python3"
  },
  "language_info": {
   "codemirror_mode": {
    "name": "ipython",
    "version": 3
   },
   "file_extension": ".py",
   "mimetype": "text/x-python",
   "name": "python",
   "nbconvert_exporter": "python",
   "pygments_lexer": "ipython3",
   "version": "3.9.7"
  },
  "varInspector": {
   "cols": {
    "lenName": 16,
    "lenType": 16,
    "lenVar": 40
   },
   "kernels_config": {
    "python": {
     "delete_cmd_postfix": "",
     "delete_cmd_prefix": "del ",
     "library": "var_list.py",
     "varRefreshCmd": "print(var_dic_list())"
    },
    "r": {
     "delete_cmd_postfix": ") ",
     "delete_cmd_prefix": "rm(",
     "library": "var_list.r",
     "varRefreshCmd": "cat(var_dic_list()) "
    }
   },
   "types_to_exclude": [
    "module",
    "function",
    "builtin_function_or_method",
    "instance",
    "_Feature"
   ],
   "window_display": false
  }
 },
 "nbformat": 4,
 "nbformat_minor": 5
}
