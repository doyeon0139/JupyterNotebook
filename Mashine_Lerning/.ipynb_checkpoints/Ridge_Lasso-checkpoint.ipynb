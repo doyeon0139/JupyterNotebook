{
 "cells": [
  {
   "cell_type": "code",
   "execution_count": 1,
   "id": "791e1491",
   "metadata": {},
   "outputs": [],
   "source": [
    "import pandas as pd\n",
    "import numpy as np\n",
    "import matplotlib.pyplot as plt\n",
    "import seaborn as sns"
   ]
  },
  {
   "cell_type": "code",
   "execution_count": 5,
   "id": "3692a168",
   "metadata": {
    "collapsed": true
   },
   "outputs": [
    {
     "name": "stdout",
     "output_type": "stream",
     "text": [
      "Requirement already satisfied: IPython in c:\\users\\bitcamp\\anaconda3\\lib\\site-packages (7.29.0)\n",
      "Requirement already satisfied: matplotlib-inline in c:\\users\\bitcamp\\anaconda3\\lib\\site-packages (from IPython) (0.1.2)\n",
      "Requirement already satisfied: colorama in c:\\users\\bitcamp\\anaconda3\\lib\\site-packages (from IPython) (0.4.4)\n",
      "Requirement already satisfied: backcall in c:\\users\\bitcamp\\anaconda3\\lib\\site-packages (from IPython) (0.2.0)\n",
      "Requirement already satisfied: jedi>=0.16 in c:\\users\\bitcamp\\anaconda3\\lib\\site-packages (from IPython) (0.18.0)\n",
      "Requirement already satisfied: pickleshare in c:\\users\\bitcamp\\anaconda3\\lib\\site-packages (from IPython) (0.7.5)\n",
      "Requirement already satisfied: decorator in c:\\users\\bitcamp\\anaconda3\\lib\\site-packages (from IPython) (5.1.0)\n",
      "Requirement already satisfied: setuptools>=18.5 in c:\\users\\bitcamp\\anaconda3\\lib\\site-packages (from IPython) (58.0.4)\n",
      "Requirement already satisfied: traitlets>=4.2 in c:\\users\\bitcamp\\anaconda3\\lib\\site-packages (from IPython) (5.1.0)\n",
      "Requirement already satisfied: prompt-toolkit!=3.0.0,!=3.0.1,<3.1.0,>=2.0.0 in c:\\users\\bitcamp\\anaconda3\\lib\\site-packages (from IPython) (3.0.20)\n",
      "Requirement already satisfied: pygments in c:\\users\\bitcamp\\anaconda3\\lib\\site-packages (from IPython) (2.10.0)\n",
      "Requirement already satisfied: parso<0.9.0,>=0.8.0 in c:\\users\\bitcamp\\anaconda3\\lib\\site-packages (from jedi>=0.16->IPython) (0.8.2)\n",
      "Requirement already satisfied: wcwidth in c:\\users\\bitcamp\\anaconda3\\lib\\site-packages (from prompt-toolkit!=3.0.0,!=3.0.1,<3.1.0,>=2.0.0->IPython) (0.2.5)\n"
     ]
    }
   ],
   "source": [
    "!pip install IPython"
   ]
  },
  {
   "cell_type": "code",
   "execution_count": 47,
   "id": "7841915d",
   "metadata": {
    "collapsed": true
   },
   "outputs": [
    {
     "ename": "ImportError",
     "evalue": "cannot import name 'lmage' from 'IPython.display' (C:\\Users\\bitcamp\\Anaconda3\\lib\\site-packages\\IPython\\display.py)",
     "output_type": "error",
     "traceback": [
      "\u001b[1;31m---------------------------------------------------------------------------\u001b[0m",
      "\u001b[1;31mImportError\u001b[0m                               Traceback (most recent call last)",
      "\u001b[1;32m~\\AppData\\Local\\Temp/ipykernel_14332/1371169934.py\u001b[0m in \u001b[0;36m<module>\u001b[1;34m\u001b[0m\n\u001b[1;32m----> 1\u001b[1;33m \u001b[1;32mfrom\u001b[0m \u001b[0mIPython\u001b[0m\u001b[1;33m.\u001b[0m\u001b[0mdisplay\u001b[0m \u001b[1;32mimport\u001b[0m \u001b[0mlmage\u001b[0m\u001b[1;33m\u001b[0m\u001b[1;33m\u001b[0m\u001b[0m\n\u001b[0m\u001b[0;32m      2\u001b[0m \u001b[0mlmage\u001b[0m\u001b[1;33m(\u001b[0m\u001b[1;34m'./ml_source_files/ridge_lasso_1.png'\u001b[0m\u001b[1;33m)\u001b[0m\u001b[1;33m\u001b[0m\u001b[1;33m\u001b[0m\u001b[0m\n\u001b[0;32m      3\u001b[0m \u001b[1;33m\u001b[0m\u001b[0m\n\u001b[0;32m      4\u001b[0m \u001b[1;31m# 다중회귀에서 변수가 많아지면 모델이 복잡해지고 과적합이 되기 쉽다\u001b[0m\u001b[1;33m\u001b[0m\u001b[1;33m\u001b[0m\u001b[0m\n",
      "\u001b[1;31mImportError\u001b[0m: cannot import name 'lmage' from 'IPython.display' (C:\\Users\\bitcamp\\Anaconda3\\lib\\site-packages\\IPython\\display.py)"
     ]
    }
   ],
   "source": [
    "from IPython.display import lmage\n",
    "lmage('./ml_source_files/ridge_lasso_1.png')\n",
    "\n",
    "# 다중회귀에서 변수가 많아지면 모델이 복잡해지고 과적합이 되기 쉽다"
   ]
  },
  {
   "cell_type": "code",
   "execution_count": null,
   "id": "2d3b53a0",
   "metadata": {},
   "outputs": [],
   "source": [
    "# cost = sigma(y-y_hat)**2/len(y)\n",
    "# e(error) = cost"
   ]
  },
  {
   "cell_type": "code",
   "execution_count": 12,
   "id": "fc9fb323",
   "metadata": {
    "collapsed": true
   },
   "outputs": [
    {
     "name": "stdout",
     "output_type": "stream",
     "text": [
      "Requirement already satisfied: mglearn in c:\\users\\bitcamp\\anaconda3\\lib\\site-packages (0.1.9)\n",
      "Requirement already satisfied: numpy in c:\\users\\bitcamp\\anaconda3\\lib\\site-packages (from mglearn) (1.22.1)\n",
      "Requirement already satisfied: pillow in c:\\users\\bitcamp\\anaconda3\\lib\\site-packages (from mglearn) (8.4.0)\n",
      "Requirement already satisfied: cycler in c:\\users\\bitcamp\\anaconda3\\lib\\site-packages (from mglearn) (0.10.0)\n",
      "Requirement already satisfied: joblib in c:\\users\\bitcamp\\anaconda3\\lib\\site-packages (from mglearn) (1.0.1)\n",
      "Requirement already satisfied: scikit-learn in c:\\users\\bitcamp\\anaconda3\\lib\\site-packages (from mglearn) (0.24.2)\n",
      "Requirement already satisfied: matplotlib in c:\\users\\bitcamp\\anaconda3\\lib\\site-packages (from mglearn) (3.4.3)\n",
      "Requirement already satisfied: imageio in c:\\users\\bitcamp\\anaconda3\\lib\\site-packages (from mglearn) (2.9.0)\n",
      "Requirement already satisfied: pandas in c:\\users\\bitcamp\\anaconda3\\lib\\site-packages (from mglearn) (1.2.5)\n",
      "Requirement already satisfied: six in c:\\users\\bitcamp\\anaconda3\\lib\\site-packages (from cycler->mglearn) (1.16.0)\n",
      "Requirement already satisfied: kiwisolver>=1.0.1 in c:\\users\\bitcamp\\anaconda3\\lib\\site-packages (from matplotlib->mglearn) (1.3.1)\n",
      "Requirement already satisfied: python-dateutil>=2.7 in c:\\users\\bitcamp\\anaconda3\\lib\\site-packages (from matplotlib->mglearn) (2.8.2)\n",
      "Requirement already satisfied: pyparsing>=2.2.1 in c:\\users\\bitcamp\\anaconda3\\lib\\site-packages (from matplotlib->mglearn) (3.0.4)\n",
      "Requirement already satisfied: pytz>=2017.3 in c:\\users\\bitcamp\\anaconda3\\lib\\site-packages (from pandas->mglearn) (2021.3)\n",
      "Requirement already satisfied: scipy>=0.19.1 in c:\\users\\bitcamp\\anaconda3\\lib\\site-packages (from scikit-learn->mglearn) (1.7.1)\n",
      "Requirement already satisfied: threadpoolctl>=2.0.0 in c:\\users\\bitcamp\\anaconda3\\lib\\site-packages (from scikit-learn->mglearn) (2.2.0)\n"
     ]
    }
   ],
   "source": [
    "!pip install mglearn"
   ]
  },
  {
   "cell_type": "code",
   "execution_count": 13,
   "id": "ed9ddf06",
   "metadata": {},
   "outputs": [],
   "source": [
    "import mglearn"
   ]
  },
  {
   "cell_type": "code",
   "execution_count": 48,
   "id": "87aabcff",
   "metadata": {},
   "outputs": [],
   "source": [
    "x, y = mglearn.datasets.load_extended_boston()"
   ]
  },
  {
   "cell_type": "code",
   "execution_count": 49,
   "id": "8cb9563c",
   "metadata": {
    "scrolled": true
   },
   "outputs": [
    {
     "data": {
      "text/plain": [
       "array([[0.00000000e+00, 1.80000000e-01, 6.78152493e-02, 0.00000000e+00,\n",
       "        3.14814815e-01, 5.77505269e-01, 6.41606591e-01, 2.69203139e-01,\n",
       "        0.00000000e+00, 2.08015267e-01, 2.87234043e-01, 1.00000000e+00,\n",
       "        8.96799117e-02, 0.00000000e+00, 0.00000000e+00, 0.00000000e+00,\n",
       "        0.00000000e+00, 0.00000000e+00, 0.00000000e+00, 0.00000000e+00,\n",
       "        0.00000000e+00, 0.00000000e+00, 0.00000000e+00, 0.00000000e+00,\n",
       "        0.00000000e+00, 0.00000000e+00, 3.24000000e-02, 1.22067449e-02,\n",
       "        0.00000000e+00, 5.66666667e-02, 1.03950948e-01, 1.15489186e-01,\n",
       "        4.84565650e-02, 0.00000000e+00, 3.74427481e-02, 5.17021277e-02,\n",
       "        1.80000000e-01, 1.61423841e-02, 4.59890803e-03, 0.00000000e+00,\n",
       "        2.13492451e-02, 3.91636638e-02, 4.35107109e-02, 1.82560780e-02,\n",
       "        0.00000000e+00, 1.41066072e-02, 1.94788482e-02, 6.78152493e-02,\n",
       "        6.08166557e-03, 0.00000000e+00, 0.00000000e+00, 0.00000000e+00,\n",
       "        0.00000000e+00, 0.00000000e+00, 0.00000000e+00, 0.00000000e+00,\n",
       "        0.00000000e+00, 0.00000000e+00, 0.00000000e+00, 9.91083676e-02,\n",
       "        1.81807214e-01, 2.01987260e-01, 8.47491364e-02, 0.00000000e+00,\n",
       "        6.54862878e-02, 9.04255319e-02, 3.14814815e-01, 2.82325648e-02,\n",
       "        3.33512336e-01, 3.70531187e-01, 1.55466231e-01, 0.00000000e+00,\n",
       "        1.20129913e-01, 1.65879173e-01, 5.77505269e-01, 5.17906215e-02,\n",
       "        4.11659018e-01, 1.72722508e-01, 0.00000000e+00, 1.33463966e-01,\n",
       "        1.84291255e-01, 6.41606591e-01, 5.75392224e-02, 7.24703301e-02,\n",
       "        0.00000000e+00, 5.59983629e-02, 7.73243059e-02, 2.69203139e-01,\n",
       "        2.41421137e-02, 0.00000000e+00, 0.00000000e+00, 0.00000000e+00,\n",
       "        0.00000000e+00, 0.00000000e+00, 4.32703514e-02, 5.97490661e-02,\n",
       "        2.08015267e-01, 1.86547908e-02, 8.25033952e-02, 2.87234043e-01,\n",
       "        2.57591236e-02, 1.00000000e+00, 8.96799117e-02, 8.04248656e-03],\n",
       "       [2.35922539e-04, 0.00000000e+00, 2.42302053e-01, 0.00000000e+00,\n",
       "        1.72839506e-01, 5.47997701e-01, 7.82698249e-01, 3.48961980e-01,\n",
       "        4.34782609e-02, 1.04961832e-01, 5.53191489e-01, 1.00000000e+00,\n",
       "        2.04470199e-01, 5.56594445e-08, 0.00000000e+00, 5.71645155e-05,\n",
       "        0.00000000e+00, 4.07767352e-05, 1.29285009e-04, 1.84656158e-04,\n",
       "        8.23279964e-05, 1.02575017e-05, 2.47628619e-05, 1.30510341e-04,\n",
       "        2.35922539e-04, 4.82391285e-05, 0.00000000e+00, 0.00000000e+00,\n",
       "        0.00000000e+00, 0.00000000e+00, 0.00000000e+00, 0.00000000e+00,\n",
       "        0.00000000e+00, 0.00000000e+00, 0.00000000e+00, 0.00000000e+00,\n",
       "        0.00000000e+00, 0.00000000e+00, 5.87102848e-02, 0.00000000e+00,\n",
       "        4.18793671e-02, 1.32780968e-01, 1.89649392e-01, 8.45542041e-02,\n",
       "        1.05348719e-02, 2.54324674e-02, 1.34039433e-01, 2.42302053e-01,\n",
       "        4.95435489e-02, 0.00000000e+00, 0.00000000e+00, 0.00000000e+00,\n",
       "        0.00000000e+00, 0.00000000e+00, 0.00000000e+00, 0.00000000e+00,\n",
       "        0.00000000e+00, 0.00000000e+00, 0.00000000e+00, 2.98734949e-02,\n",
       "        9.47156520e-02, 1.35281179e-01, 6.03144163e-02, 7.51476114e-03,\n",
       "        1.81415512e-02, 9.56133438e-02, 1.72839506e-01, 3.53405282e-02,\n",
       "        3.00301480e-01, 4.28916841e-01, 1.91230363e-01, 2.38259870e-02,\n",
       "        5.75188426e-02, 3.03147664e-01, 5.47997701e-01, 1.12049199e-01,\n",
       "        6.12616549e-01, 2.73131931e-01, 3.40303587e-02, 8.21534422e-02,\n",
       "        4.32982010e-01, 7.82698249e-01, 1.60038467e-01, 1.21774464e-01,\n",
       "        1.51722600e-02, 3.66276888e-02, 1.93042798e-01, 3.48961980e-01,\n",
       "        7.13523254e-02, 1.89035917e-03, 4.56355792e-03, 2.40518039e-02,\n",
       "        4.34782609e-02, 8.89000864e-03, 1.10169862e-02, 5.80639922e-02,\n",
       "        1.04961832e-01, 2.14615667e-02, 3.06020824e-01, 5.53191489e-01,\n",
       "        1.13111174e-01, 1.00000000e+00, 2.04470199e-01, 4.18080621e-02],\n",
       "       [2.35697744e-04, 0.00000000e+00, 2.42302053e-01, 0.00000000e+00,\n",
       "        1.72839506e-01, 6.94385898e-01, 5.99382080e-01, 3.48961980e-01,\n",
       "        4.34782609e-02, 1.04961832e-01, 5.53191489e-01, 9.89737254e-01,\n",
       "        6.34657837e-02, 5.55534265e-08, 0.00000000e+00, 5.71100472e-05,\n",
       "        0.00000000e+00, 4.07378817e-05, 1.63665190e-04, 1.41273004e-04,\n",
       "        8.22495515e-05, 1.02477280e-05, 2.47392670e-05, 1.30385986e-04,\n",
       "        2.33278838e-04, 1.49587420e-05, 0.00000000e+00, 0.00000000e+00,\n",
       "        0.00000000e+00, 0.00000000e+00, 0.00000000e+00, 0.00000000e+00,\n",
       "        0.00000000e+00, 0.00000000e+00, 0.00000000e+00, 0.00000000e+00,\n",
       "        0.00000000e+00, 0.00000000e+00, 5.87102848e-02, 0.00000000e+00,\n",
       "        4.18793671e-02, 1.68251128e-01, 1.45231508e-01, 8.45542041e-02,\n",
       "        1.05348719e-02, 2.54324674e-02, 1.34039433e-01, 2.39815368e-01,\n",
       "        1.53778897e-02, 0.00000000e+00, 0.00000000e+00, 0.00000000e+00,\n",
       "        0.00000000e+00, 0.00000000e+00, 0.00000000e+00, 0.00000000e+00,\n",
       "        0.00000000e+00, 0.00000000e+00, 0.00000000e+00, 2.98734949e-02,\n",
       "        1.20017316e-01, 1.03596903e-01, 6.03144163e-02, 7.51476114e-03,\n",
       "        1.81415512e-02, 9.56133438e-02, 1.71065698e-01, 1.09693947e-02,\n",
       "        4.82171775e-01, 4.16202464e-01, 2.42314278e-01, 3.01906912e-02,\n",
       "        7.28840160e-02, 3.84128369e-01, 6.87259591e-01, 4.40697452e-02,\n",
       "        3.59258878e-01, 2.09161558e-01, 2.60600904e-02, 6.29122413e-02,\n",
       "        3.31573066e-01, 5.93230774e-01, 3.80402534e-02, 1.21774464e-01,\n",
       "        1.51722600e-02, 3.66276888e-02, 1.93042798e-01, 3.45380672e-01,\n",
       "        2.21471455e-02, 1.89035917e-03, 4.56355792e-03, 2.40518039e-02,\n",
       "        4.30320545e-02, 2.75938190e-03, 1.10169862e-02, 5.80639922e-02,\n",
       "        1.03884635e-01, 6.66148493e-03, 3.06020824e-01, 5.47514225e-01,\n",
       "        3.51087314e-02, 9.79579831e-01, 6.28144504e-02, 4.02790570e-03],\n",
       "       [2.92795719e-04, 0.00000000e+00, 6.30498534e-02, 0.00000000e+00,\n",
       "        1.50205761e-01, 6.58555279e-01, 4.41812564e-01, 4.48544590e-01,\n",
       "        8.69565217e-02, 6.67938931e-02, 6.48936170e-01, 9.94276060e-01,\n",
       "        3.33885210e-02, 8.57293332e-08, 0.00000000e+00, 1.84607272e-05,\n",
       "        0.00000000e+00, 4.39796039e-05, 1.92822166e-04, 1.29360828e-04,\n",
       "        1.31331936e-04, 2.54604973e-05, 1.95569660e-05, 1.90005733e-04,\n",
       "        2.91119774e-04, 9.77601601e-06, 0.00000000e+00, 0.00000000e+00,\n",
       "        0.00000000e+00, 0.00000000e+00, 0.00000000e+00, 0.00000000e+00,\n",
       "        0.00000000e+00, 0.00000000e+00, 0.00000000e+00, 0.00000000e+00,\n",
       "        0.00000000e+00, 0.00000000e+00, 3.97528401e-03, 0.00000000e+00,\n",
       "        9.47045123e-03, 4.15218138e-02, 2.78562174e-02, 2.82806706e-02,\n",
       "        5.48259595e-03, 4.21134517e-03, 4.09153304e-02, 6.26889598e-02,\n",
       "        2.10514135e-03, 0.00000000e+00, 0.00000000e+00, 0.00000000e+00,\n",
       "        0.00000000e+00, 0.00000000e+00, 0.00000000e+00, 0.00000000e+00,\n",
       "        0.00000000e+00, 0.00000000e+00, 0.00000000e+00, 2.25617707e-02,\n",
       "        9.89187970e-02, 6.63627926e-02, 6.73739816e-02, 1.30613705e-02,\n",
       "        1.00328276e-02, 9.74739515e-02, 1.49345993e-01, 5.01514821e-03,\n",
       "        4.33695055e-01, 2.90957996e-01, 2.95391407e-01, 5.72656764e-02,\n",
       "        4.39874709e-02, 4.27360340e-01, 6.54785748e-01, 2.19881867e-02,\n",
       "        1.95198342e-01, 1.98172635e-01, 3.84184839e-02, 2.95103812e-02,\n",
       "        2.86708153e-01, 4.39283656e-01, 1.47514681e-02, 2.01192249e-01,\n",
       "        3.90038774e-02, 2.99600394e-02, 2.91076808e-01, 4.45977148e-01,\n",
       "        1.49762404e-02, 7.56143667e-03, 5.80816462e-03, 5.64292322e-02,\n",
       "        8.64587879e-02, 2.90334965e-03, 4.46142416e-03, 4.33449732e-02,\n",
       "        6.64115689e-02, 2.23014930e-03, 4.21118153e-01, 6.45221699e-01,\n",
       "        2.16670189e-02, 9.88584884e-01, 3.31974071e-02, 1.11479333e-03],\n",
       "       [7.05070075e-04, 0.00000000e+00, 6.30498534e-02, 0.00000000e+00,\n",
       "        1.50205761e-01, 6.87104809e-01, 5.28321318e-01, 4.48544590e-01,\n",
       "        8.69565217e-02, 6.67938931e-02, 6.48936170e-01, 1.00000000e+00,\n",
       "        9.93377483e-02, 4.97123811e-07, 0.00000000e+00, 4.44545649e-05,\n",
       "        0.00000000e+00, 1.05905587e-04, 4.84457040e-04, 3.72503552e-04,\n",
       "        3.16255368e-04, 6.13104413e-05, 4.70943753e-05, 4.57545474e-04,\n",
       "        7.05070075e-04, 7.00400737e-05, 0.00000000e+00, 0.00000000e+00,\n",
       "        0.00000000e+00, 0.00000000e+00, 0.00000000e+00, 0.00000000e+00,\n",
       "        0.00000000e+00, 0.00000000e+00, 0.00000000e+00, 0.00000000e+00,\n",
       "        0.00000000e+00, 0.00000000e+00, 3.97528401e-03, 0.00000000e+00,\n",
       "        9.47045123e-03, 4.33218575e-02, 3.33105816e-02, 2.82806706e-02,\n",
       "        5.48259595e-03, 4.21134517e-03, 4.09153304e-02, 6.30498534e-02,\n",
       "        6.26323047e-03, 0.00000000e+00, 0.00000000e+00, 0.00000000e+00,\n",
       "        0.00000000e+00, 0.00000000e+00, 0.00000000e+00, 0.00000000e+00,\n",
       "        0.00000000e+00, 0.00000000e+00, 0.00000000e+00, 2.25617707e-02,\n",
       "        1.03207101e-01, 7.93569058e-02, 6.73739816e-02, 1.30613705e-02,\n",
       "        1.00328276e-02, 9.74739515e-02, 1.50205761e-01, 1.49211021e-02,\n",
       "        4.72113019e-01, 3.63012119e-01, 3.08197145e-01, 5.97482443e-02,\n",
       "        4.58944052e-02, 4.45887164e-01, 6.87104809e-01, 6.82554446e-02,\n",
       "        2.79123415e-01, 2.36975669e-01, 4.59409842e-02, 3.52886377e-02,\n",
       "        3.42846813e-01, 5.28321318e-01, 5.24822502e-02, 2.01192249e-01,\n",
       "        3.90038774e-02, 2.99600394e-02, 2.91076808e-01, 4.48544590e-01,\n",
       "        4.45574096e-02, 7.56143667e-03, 5.80816462e-03, 5.64292322e-02,\n",
       "        8.69565217e-02, 8.63806507e-03, 4.46142416e-03, 4.33449732e-02,\n",
       "        6.67938931e-02, 6.63515495e-03, 4.21118153e-01, 6.48936170e-01,\n",
       "        6.44638580e-02, 1.00000000e+00, 9.93377483e-02, 9.86798825e-03]])"
      ]
     },
     "execution_count": 49,
     "metadata": {},
     "output_type": "execute_result"
    }
   ],
   "source": [
    "x[:5]"
   ]
  },
  {
   "cell_type": "code",
   "execution_count": 50,
   "id": "4a277186",
   "metadata": {},
   "outputs": [
    {
     "data": {
      "text/plain": [
       "array([24. , 21.6, 34.7, 33.4, 36.2])"
      ]
     },
     "execution_count": 50,
     "metadata": {},
     "output_type": "execute_result"
    }
   ],
   "source": [
    "y[:5]"
   ]
  },
  {
   "cell_type": "code",
   "execution_count": 32,
   "id": "9ae0bb61",
   "metadata": {},
   "outputs": [],
   "source": [
    "from sklearn.model_selection import train_test_split\n",
    "from sklearn.linear_model import LinearRegression"
   ]
  },
  {
   "cell_type": "code",
   "execution_count": 33,
   "id": "da53b317",
   "metadata": {},
   "outputs": [],
   "source": [
    "x_train, x_test, y_train, y_test = train_test_split(x, y, test_size=0.2, random_state=111)"
   ]
  },
  {
   "cell_type": "code",
   "execution_count": 51,
   "id": "73872bde",
   "metadata": {},
   "outputs": [
    {
     "name": "stdout",
     "output_type": "stream",
     "text": [
      "train acc :  0.9301700472806594\n",
      "test acc :  0.8445906256385673\n"
     ]
    }
   ],
   "source": [
    "lr = LinearRegression()\n",
    "lr.fit(x_train, y_train)\n",
    "\n",
    "print('train acc : ', lr.score(x_train, y_train))            \n",
    "print('test acc : ', lr.score(x_test, y_test))\n",
    "\n",
    "# train data의 정확도와 test data의 정확도의 차이가 크다"
   ]
  },
  {
   "cell_type": "code",
   "execution_count": null,
   "id": "1fb36f3a",
   "metadata": {},
   "outputs": [],
   "source": []
  },
  {
   "cell_type": "code",
   "execution_count": 52,
   "id": "4ea3fddc",
   "metadata": {},
   "outputs": [],
   "source": [
    "from sklearn.linear_model import Ridge, Lasso, ElasticNet\n",
    "# from sklearn.linear_model import LassoLarsIC"
   ]
  },
  {
   "cell_type": "code",
   "execution_count": 53,
   "id": "55d51175",
   "metadata": {},
   "outputs": [
    {
     "name": "stdout",
     "output_type": "stream",
     "text": [
      "train acc :  0.9101732009858846\n",
      "test acc :  0.8872598908038882\n"
     ]
    }
   ],
   "source": [
    "rid = Ridge(alpha=0.05)\n",
    "rid.fit(x_train, y_train)\n",
    "\n",
    "print('train acc : ', rid.score(x_train, y_train))\n",
    "print('test acc : ', rid.score(x_test, y_test))"
   ]
  },
  {
   "cell_type": "code",
   "execution_count": 54,
   "id": "ed085a75",
   "metadata": {},
   "outputs": [
    {
     "name": "stdout",
     "output_type": "stream",
     "text": [
      "train acc :  0.9101732009858846\n",
      "test acc :  0.8872598908038882\n"
     ]
    }
   ],
   "source": [
    "rid = Ridge(alpha=0.05)\n",
    "rid.fit(x_train, y_train)\n",
    "\n",
    "print('train acc : ', rid.score(x_train, y_train))\n",
    "print('test acc : ', rid.score(x_test, y_test))       # 최적화"
   ]
  },
  {
   "cell_type": "code",
   "execution_count": 55,
   "id": "8299524b",
   "metadata": {},
   "outputs": [
    {
     "name": "stdout",
     "output_type": "stream",
     "text": [
      "train acc :  0.754802668039227\n",
      "test acc :  0.7601567084122649\n"
     ]
    }
   ],
   "source": [
    "rid = Ridge(alpha=10)\n",
    "rid.fit(x_train, y_train)\n",
    "\n",
    "print('train acc : ', rid.score(x_train, y_train))\n",
    "print('test acc : ', rid.score(x_test, y_test))               # 과소적합"
   ]
  },
  {
   "cell_type": "code",
   "execution_count": null,
   "id": "fa313968",
   "metadata": {},
   "outputs": [],
   "source": []
  },
  {
   "cell_type": "code",
   "execution_count": 58,
   "id": "c1d3437f",
   "metadata": {},
   "outputs": [
    {
     "data": {
      "text/plain": [
       "[<matplotlib.lines.Line2D at 0x1dd4e885f40>]"
      ]
     },
     "execution_count": 58,
     "metadata": {},
     "output_type": "execute_result"
    },
    {
     "data": {
      "image/png": "[encoded data removed]",
      "text/plain": [
       "<Figure size 432x288 with 1 Axes>"
      ]
     },
     "metadata": {
      "needs_background": "light"
     },
     "output_type": "display_data"
    }
   ],
   "source": [
    "ridge_scores = []\n",
    "for i in np.arange(0.01, 0.2, 0.01):\n",
    "    rid = Ridge(alpha=i)\n",
    "    rid.fit(x_train, y_train)\n",
    "    ridge_scores.append(rid.score(x_test, y_test))\n",
    "    \n",
    "plt.plot(np.arange(0.01, 0.2, 0.01), ridge_scores)"
   ]
  },
  {
   "cell_type": "code",
   "execution_count": 62,
   "id": "fae29774",
   "metadata": {},
   "outputs": [
    {
     "name": "stderr",
     "output_type": "stream",
     "text": [
      "C:\\Users\\bitcamp\\Anaconda3\\lib\\site-packages\\sklearn\\linear_model\\_coordinate_descent.py:530: ConvergenceWarning: Objective did not converge. You might want to increase the number of iterations. Duality gap: 1316.580315946907, tolerance: 3.34247803960396\n",
      "  model = cd_fast.enet_coordinate_descent(\n",
      "C:\\Users\\bitcamp\\Anaconda3\\lib\\site-packages\\sklearn\\linear_model\\_coordinate_descent.py:530: ConvergenceWarning: Objective did not converge. You might want to increase the number of iterations. Duality gap: 1336.3539257341502, tolerance: 3.34247803960396\n",
      "  model = cd_fast.enet_coordinate_descent(\n",
      "C:\\Users\\bitcamp\\Anaconda3\\lib\\site-packages\\sklearn\\linear_model\\_coordinate_descent.py:530: ConvergenceWarning: Objective did not converge. You might want to increase the number of iterations. Duality gap: 1348.9631238825373, tolerance: 3.34247803960396\n",
      "  model = cd_fast.enet_coordinate_descent(\n",
      "C:\\Users\\bitcamp\\Anaconda3\\lib\\site-packages\\sklearn\\linear_model\\_coordinate_descent.py:530: ConvergenceWarning: Objective did not converge. You might want to increase the number of iterations. Duality gap: 1342.243273366005, tolerance: 3.34247803960396\n",
      "  model = cd_fast.enet_coordinate_descent(\n",
      "C:\\Users\\bitcamp\\Anaconda3\\lib\\site-packages\\sklearn\\linear_model\\_coordinate_descent.py:530: ConvergenceWarning: Objective did not converge. You might want to increase the number of iterations. Duality gap: 1333.5422476611416, tolerance: 3.34247803960396\n",
      "  model = cd_fast.enet_coordinate_descent(\n",
      "C:\\Users\\bitcamp\\Anaconda3\\lib\\site-packages\\sklearn\\linear_model\\_coordinate_descent.py:530: ConvergenceWarning: Objective did not converge. You might want to increase the number of iterations. Duality gap: 1321.8030865310238, tolerance: 3.34247803960396\n",
      "  model = cd_fast.enet_coordinate_descent(\n",
      "C:\\Users\\bitcamp\\Anaconda3\\lib\\site-packages\\sklearn\\linear_model\\_coordinate_descent.py:530: ConvergenceWarning: Objective did not converge. You might want to increase the number of iterations. Duality gap: 1311.3416594944802, tolerance: 3.34247803960396\n",
      "  model = cd_fast.enet_coordinate_descent(\n",
      "C:\\Users\\bitcamp\\Anaconda3\\lib\\site-packages\\sklearn\\linear_model\\_coordinate_descent.py:530: ConvergenceWarning: Objective did not converge. You might want to increase the number of iterations. Duality gap: 1283.6158363425816, tolerance: 3.34247803960396\n",
      "  model = cd_fast.enet_coordinate_descent(\n",
      "C:\\Users\\bitcamp\\Anaconda3\\lib\\site-packages\\sklearn\\linear_model\\_coordinate_descent.py:530: ConvergenceWarning: Objective did not converge. You might want to increase the number of iterations. Duality gap: 1231.7335243610542, tolerance: 3.34247803960396\n",
      "  model = cd_fast.enet_coordinate_descent(\n",
      "C:\\Users\\bitcamp\\Anaconda3\\lib\\site-packages\\sklearn\\linear_model\\_coordinate_descent.py:530: ConvergenceWarning: Objective did not converge. You might want to increase the number of iterations. Duality gap: 1182.0538391084779, tolerance: 3.34247803960396\n",
      "  model = cd_fast.enet_coordinate_descent(\n",
      "C:\\Users\\bitcamp\\Anaconda3\\lib\\site-packages\\sklearn\\linear_model\\_coordinate_descent.py:530: ConvergenceWarning: Objective did not converge. You might want to increase the number of iterations. Duality gap: 1133.755757632573, tolerance: 3.34247803960396\n",
      "  model = cd_fast.enet_coordinate_descent(\n",
      "C:\\Users\\bitcamp\\Anaconda3\\lib\\site-packages\\sklearn\\linear_model\\_coordinate_descent.py:530: ConvergenceWarning: Objective did not converge. You might want to increase the number of iterations. Duality gap: 1059.1359725756142, tolerance: 3.34247803960396\n",
      "  model = cd_fast.enet_coordinate_descent(\n",
      "C:\\Users\\bitcamp\\Anaconda3\\lib\\site-packages\\sklearn\\linear_model\\_coordinate_descent.py:530: ConvergenceWarning: Objective did not converge. You might want to increase the number of iterations. Duality gap: 945.2594676352992, tolerance: 3.34247803960396\n",
      "  model = cd_fast.enet_coordinate_descent(\n",
      "C:\\Users\\bitcamp\\Anaconda3\\lib\\site-packages\\sklearn\\linear_model\\_coordinate_descent.py:530: ConvergenceWarning: Objective did not converge. You might want to increase the number of iterations. Duality gap: 855.4284882006918, tolerance: 3.34247803960396\n",
      "  model = cd_fast.enet_coordinate_descent(\n",
      "C:\\Users\\bitcamp\\Anaconda3\\lib\\site-packages\\sklearn\\linear_model\\_coordinate_descent.py:530: ConvergenceWarning: Objective did not converge. You might want to increase the number of iterations. Duality gap: 816.990506309129, tolerance: 3.34247803960396\n",
      "  model = cd_fast.enet_coordinate_descent(\n",
      "C:\\Users\\bitcamp\\Anaconda3\\lib\\site-packages\\sklearn\\linear_model\\_coordinate_descent.py:530: ConvergenceWarning: Objective did not converge. You might want to increase the number of iterations. Duality gap: 836.8586684188542, tolerance: 3.34247803960396\n",
      "  model = cd_fast.enet_coordinate_descent(\n",
      "C:\\Users\\bitcamp\\Anaconda3\\lib\\site-packages\\sklearn\\linear_model\\_coordinate_descent.py:530: ConvergenceWarning: Objective did not converge. You might want to increase the number of iterations. Duality gap: 934.5903783710841, tolerance: 3.34247803960396\n",
      "  model = cd_fast.enet_coordinate_descent(\n",
      "C:\\Users\\bitcamp\\Anaconda3\\lib\\site-packages\\sklearn\\linear_model\\_coordinate_descent.py:530: ConvergenceWarning: Objective did not converge. You might want to increase the number of iterations. Duality gap: 1004.8245377752417, tolerance: 3.34247803960396\n",
      "  model = cd_fast.enet_coordinate_descent(\n",
      "C:\\Users\\bitcamp\\Anaconda3\\lib\\site-packages\\sklearn\\linear_model\\_coordinate_descent.py:530: ConvergenceWarning: Objective did not converge. You might want to increase the number of iterations. Duality gap: 1059.4367747552296, tolerance: 3.34247803960396\n",
      "  model = cd_fast.enet_coordinate_descent(\n",
      "C:\\Users\\bitcamp\\Anaconda3\\lib\\site-packages\\sklearn\\linear_model\\_coordinate_descent.py:530: ConvergenceWarning: Objective did not converge. You might want to increase the number of iterations. Duality gap: 1111.7641109283816, tolerance: 3.34247803960396\n",
      "  model = cd_fast.enet_coordinate_descent(\n",
      "C:\\Users\\bitcamp\\Anaconda3\\lib\\site-packages\\sklearn\\linear_model\\_coordinate_descent.py:530: ConvergenceWarning: Objective did not converge. You might want to increase the number of iterations. Duality gap: 1158.2366985922044, tolerance: 3.34247803960396\n",
      "  model = cd_fast.enet_coordinate_descent(\n",
      "C:\\Users\\bitcamp\\Anaconda3\\lib\\site-packages\\sklearn\\linear_model\\_coordinate_descent.py:530: ConvergenceWarning: Objective did not converge. You might want to increase the number of iterations. Duality gap: 1197.8805927822164, tolerance: 3.34247803960396\n",
      "  model = cd_fast.enet_coordinate_descent(\n",
      "C:\\Users\\bitcamp\\Anaconda3\\lib\\site-packages\\sklearn\\linear_model\\_coordinate_descent.py:530: ConvergenceWarning: Objective did not converge. You might want to increase the number of iterations. Duality gap: 1233.6436246154944, tolerance: 3.34247803960396\n",
      "  model = cd_fast.enet_coordinate_descent(\n",
      "C:\\Users\\bitcamp\\Anaconda3\\lib\\site-packages\\sklearn\\linear_model\\_coordinate_descent.py:530: ConvergenceWarning: Objective did not converge. You might want to increase the number of iterations. Duality gap: 1257.487010520948, tolerance: 3.34247803960396\n",
      "  model = cd_fast.enet_coordinate_descent(\n",
      "C:\\Users\\bitcamp\\Anaconda3\\lib\\site-packages\\sklearn\\linear_model\\_coordinate_descent.py:530: ConvergenceWarning: Objective did not converge. You might want to increase the number of iterations. Duality gap: 1281.0799374852222, tolerance: 3.34247803960396\n",
      "  model = cd_fast.enet_coordinate_descent(\n",
      "C:\\Users\\bitcamp\\Anaconda3\\lib\\site-packages\\sklearn\\linear_model\\_coordinate_descent.py:530: ConvergenceWarning: Objective did not converge. You might want to increase the number of iterations. Duality gap: 1301.435671179602, tolerance: 3.34247803960396\n",
      "  model = cd_fast.enet_coordinate_descent(\n",
      "C:\\Users\\bitcamp\\Anaconda3\\lib\\site-packages\\sklearn\\linear_model\\_coordinate_descent.py:530: ConvergenceWarning: Objective did not converge. You might want to increase the number of iterations. Duality gap: 1317.6711725466625, tolerance: 3.34247803960396\n",
      "  model = cd_fast.enet_coordinate_descent(\n",
      "C:\\Users\\bitcamp\\Anaconda3\\lib\\site-packages\\sklearn\\linear_model\\_coordinate_descent.py:530: ConvergenceWarning: Objective did not converge. You might want to increase the number of iterations. Duality gap: 1309.1868868783995, tolerance: 3.34247803960396\n",
      "  model = cd_fast.enet_coordinate_descent(\n",
      "C:\\Users\\bitcamp\\Anaconda3\\lib\\site-packages\\sklearn\\linear_model\\_coordinate_descent.py:530: ConvergenceWarning: Objective did not converge. You might want to increase the number of iterations. Duality gap: 1255.1053386546723, tolerance: 3.34247803960396\n",
      "  model = cd_fast.enet_coordinate_descent(\n",
      "C:\\Users\\bitcamp\\Anaconda3\\lib\\site-packages\\sklearn\\linear_model\\_coordinate_descent.py:530: ConvergenceWarning: Objective did not converge. You might want to increase the number of iterations. Duality gap: 1179.5124847772631, tolerance: 3.34247803960396\n",
      "  model = cd_fast.enet_coordinate_descent(\n",
      "C:\\Users\\bitcamp\\Anaconda3\\lib\\site-packages\\sklearn\\linear_model\\_coordinate_descent.py:530: ConvergenceWarning: Objective did not converge. You might want to increase the number of iterations. Duality gap: 1107.1591693076618, tolerance: 3.34247803960396\n",
      "  model = cd_fast.enet_coordinate_descent(\n",
      "C:\\Users\\bitcamp\\Anaconda3\\lib\\site-packages\\sklearn\\linear_model\\_coordinate_descent.py:530: ConvergenceWarning: Objective did not converge. You might want to increase the number of iterations. Duality gap: 1039.1401127218644, tolerance: 3.34247803960396\n",
      "  model = cd_fast.enet_coordinate_descent(\n",
      "C:\\Users\\bitcamp\\Anaconda3\\lib\\site-packages\\sklearn\\linear_model\\_coordinate_descent.py:530: ConvergenceWarning: Objective did not converge. You might want to increase the number of iterations. Duality gap: 915.604766083708, tolerance: 3.34247803960396\n",
      "  model = cd_fast.enet_coordinate_descent(\n",
      "C:\\Users\\bitcamp\\Anaconda3\\lib\\site-packages\\sklearn\\linear_model\\_coordinate_descent.py:530: ConvergenceWarning: Objective did not converge. You might want to increase the number of iterations. Duality gap: 830.7242176054667, tolerance: 3.34247803960396\n",
      "  model = cd_fast.enet_coordinate_descent(\n",
      "C:\\Users\\bitcamp\\Anaconda3\\lib\\site-packages\\sklearn\\linear_model\\_coordinate_descent.py:530: ConvergenceWarning: Objective did not converge. You might want to increase the number of iterations. Duality gap: 762.9289917190347, tolerance: 3.34247803960396\n",
      "  model = cd_fast.enet_coordinate_descent(\n",
      "C:\\Users\\bitcamp\\Anaconda3\\lib\\site-packages\\sklearn\\linear_model\\_coordinate_descent.py:530: ConvergenceWarning: Objective did not converge. You might want to increase the number of iterations. Duality gap: 705.6586734212233, tolerance: 3.34247803960396\n",
      "  model = cd_fast.enet_coordinate_descent(\n",
      "C:\\Users\\bitcamp\\Anaconda3\\lib\\site-packages\\sklearn\\linear_model\\_coordinate_descent.py:530: ConvergenceWarning: Objective did not converge. You might want to increase the number of iterations. Duality gap: 656.5752787705703, tolerance: 3.34247803960396\n",
      "  model = cd_fast.enet_coordinate_descent(\n",
      "C:\\Users\\bitcamp\\Anaconda3\\lib\\site-packages\\sklearn\\linear_model\\_coordinate_descent.py:530: ConvergenceWarning: Objective did not converge. You might want to increase the number of iterations. Duality gap: 591.7116958432298, tolerance: 3.34247803960396\n",
      "  model = cd_fast.enet_coordinate_descent(\n",
      "C:\\Users\\bitcamp\\Anaconda3\\lib\\site-packages\\sklearn\\linear_model\\_coordinate_descent.py:530: ConvergenceWarning: Objective did not converge. You might want to increase the number of iterations. Duality gap: 543.6499472294627, tolerance: 3.34247803960396\n",
      "  model = cd_fast.enet_coordinate_descent(\n",
      "C:\\Users\\bitcamp\\Anaconda3\\lib\\site-packages\\sklearn\\linear_model\\_coordinate_descent.py:530: ConvergenceWarning: Objective did not converge. You might want to increase the number of iterations. Duality gap: 474.6317901735483, tolerance: 3.34247803960396\n",
      "  model = cd_fast.enet_coordinate_descent(\n"
     ]
    },
    {
     "name": "stderr",
     "output_type": "stream",
     "text": [
      "C:\\Users\\bitcamp\\Anaconda3\\lib\\site-packages\\sklearn\\linear_model\\_coordinate_descent.py:530: ConvergenceWarning: Objective did not converge. You might want to increase the number of iterations. Duality gap: 431.624692687727, tolerance: 3.34247803960396\n",
      "  model = cd_fast.enet_coordinate_descent(\n",
      "C:\\Users\\bitcamp\\Anaconda3\\lib\\site-packages\\sklearn\\linear_model\\_coordinate_descent.py:530: ConvergenceWarning: Objective did not converge. You might want to increase the number of iterations. Duality gap: 400.99944792453107, tolerance: 3.34247803960396\n",
      "  model = cd_fast.enet_coordinate_descent(\n",
      "C:\\Users\\bitcamp\\Anaconda3\\lib\\site-packages\\sklearn\\linear_model\\_coordinate_descent.py:530: ConvergenceWarning: Objective did not converge. You might want to increase the number of iterations. Duality gap: 356.30345096703104, tolerance: 3.34247803960396\n",
      "  model = cd_fast.enet_coordinate_descent(\n",
      "C:\\Users\\bitcamp\\Anaconda3\\lib\\site-packages\\sklearn\\linear_model\\_coordinate_descent.py:530: ConvergenceWarning: Objective did not converge. You might want to increase the number of iterations. Duality gap: 247.3979724624851, tolerance: 3.34247803960396\n",
      "  model = cd_fast.enet_coordinate_descent(\n",
      "C:\\Users\\bitcamp\\Anaconda3\\lib\\site-packages\\sklearn\\linear_model\\_coordinate_descent.py:530: ConvergenceWarning: Objective did not converge. You might want to increase the number of iterations. Duality gap: 228.09740243985425, tolerance: 3.34247803960396\n",
      "  model = cd_fast.enet_coordinate_descent(\n",
      "C:\\Users\\bitcamp\\Anaconda3\\lib\\site-packages\\sklearn\\linear_model\\_coordinate_descent.py:530: ConvergenceWarning: Objective did not converge. You might want to increase the number of iterations. Duality gap: 210.38197740328997, tolerance: 3.34247803960396\n",
      "  model = cd_fast.enet_coordinate_descent(\n",
      "C:\\Users\\bitcamp\\Anaconda3\\lib\\site-packages\\sklearn\\linear_model\\_coordinate_descent.py:530: ConvergenceWarning: Objective did not converge. You might want to increase the number of iterations. Duality gap: 200.85954417399216, tolerance: 3.34247803960396\n",
      "  model = cd_fast.enet_coordinate_descent(\n",
      "C:\\Users\\bitcamp\\Anaconda3\\lib\\site-packages\\sklearn\\linear_model\\_coordinate_descent.py:530: ConvergenceWarning: Objective did not converge. You might want to increase the number of iterations. Duality gap: 196.2066727929323, tolerance: 3.34247803960396\n",
      "  model = cd_fast.enet_coordinate_descent(\n",
      "C:\\Users\\bitcamp\\Anaconda3\\lib\\site-packages\\sklearn\\linear_model\\_coordinate_descent.py:530: ConvergenceWarning: Objective did not converge. You might want to increase the number of iterations. Duality gap: 192.73120568801642, tolerance: 3.34247803960396\n",
      "  model = cd_fast.enet_coordinate_descent(\n",
      "C:\\Users\\bitcamp\\Anaconda3\\lib\\site-packages\\sklearn\\linear_model\\_coordinate_descent.py:530: ConvergenceWarning: Objective did not converge. You might want to increase the number of iterations. Duality gap: 193.0958492697041, tolerance: 3.34247803960396\n",
      "  model = cd_fast.enet_coordinate_descent(\n",
      "C:\\Users\\bitcamp\\Anaconda3\\lib\\site-packages\\sklearn\\linear_model\\_coordinate_descent.py:530: ConvergenceWarning: Objective did not converge. You might want to increase the number of iterations. Duality gap: 191.92045232319924, tolerance: 3.34247803960396\n",
      "  model = cd_fast.enet_coordinate_descent(\n",
      "C:\\Users\\bitcamp\\Anaconda3\\lib\\site-packages\\sklearn\\linear_model\\_coordinate_descent.py:530: ConvergenceWarning: Objective did not converge. You might want to increase the number of iterations. Duality gap: 199.60748355468513, tolerance: 3.34247803960396\n",
      "  model = cd_fast.enet_coordinate_descent(\n",
      "C:\\Users\\bitcamp\\Anaconda3\\lib\\site-packages\\sklearn\\linear_model\\_coordinate_descent.py:530: ConvergenceWarning: Objective did not converge. You might want to increase the number of iterations. Duality gap: 197.8564863148722, tolerance: 3.34247803960396\n",
      "  model = cd_fast.enet_coordinate_descent(\n",
      "C:\\Users\\bitcamp\\Anaconda3\\lib\\site-packages\\sklearn\\linear_model\\_coordinate_descent.py:530: ConvergenceWarning: Objective did not converge. You might want to increase the number of iterations. Duality gap: 196.23882859199057, tolerance: 3.34247803960396\n",
      "  model = cd_fast.enet_coordinate_descent(\n",
      "C:\\Users\\bitcamp\\Anaconda3\\lib\\site-packages\\sklearn\\linear_model\\_coordinate_descent.py:530: ConvergenceWarning: Objective did not converge. You might want to increase the number of iterations. Duality gap: 194.36880959085784, tolerance: 3.34247803960396\n",
      "  model = cd_fast.enet_coordinate_descent(\n",
      "C:\\Users\\bitcamp\\Anaconda3\\lib\\site-packages\\sklearn\\linear_model\\_coordinate_descent.py:530: ConvergenceWarning: Objective did not converge. You might want to increase the number of iterations. Duality gap: 191.94464045586028, tolerance: 3.34247803960396\n",
      "  model = cd_fast.enet_coordinate_descent(\n",
      "C:\\Users\\bitcamp\\Anaconda3\\lib\\site-packages\\sklearn\\linear_model\\_coordinate_descent.py:530: ConvergenceWarning: Objective did not converge. You might want to increase the number of iterations. Duality gap: 188.88944804238827, tolerance: 3.34247803960396\n",
      "  model = cd_fast.enet_coordinate_descent(\n",
      "C:\\Users\\bitcamp\\Anaconda3\\lib\\site-packages\\sklearn\\linear_model\\_coordinate_descent.py:530: ConvergenceWarning: Objective did not converge. You might want to increase the number of iterations. Duality gap: 186.55142592068705, tolerance: 3.34247803960396\n",
      "  model = cd_fast.enet_coordinate_descent(\n",
      "C:\\Users\\bitcamp\\Anaconda3\\lib\\site-packages\\sklearn\\linear_model\\_coordinate_descent.py:530: ConvergenceWarning: Objective did not converge. You might want to increase the number of iterations. Duality gap: 183.98156533472866, tolerance: 3.34247803960396\n",
      "  model = cd_fast.enet_coordinate_descent(\n",
      "C:\\Users\\bitcamp\\Anaconda3\\lib\\site-packages\\sklearn\\linear_model\\_coordinate_descent.py:530: ConvergenceWarning: Objective did not converge. You might want to increase the number of iterations. Duality gap: 181.2024968161113, tolerance: 3.34247803960396\n",
      "  model = cd_fast.enet_coordinate_descent(\n",
      "C:\\Users\\bitcamp\\Anaconda3\\lib\\site-packages\\sklearn\\linear_model\\_coordinate_descent.py:530: ConvergenceWarning: Objective did not converge. You might want to increase the number of iterations. Duality gap: 178.37835982906472, tolerance: 3.34247803960396\n",
      "  model = cd_fast.enet_coordinate_descent(\n",
      "C:\\Users\\bitcamp\\Anaconda3\\lib\\site-packages\\sklearn\\linear_model\\_coordinate_descent.py:530: ConvergenceWarning: Objective did not converge. You might want to increase the number of iterations. Duality gap: 175.7506631542874, tolerance: 3.34247803960396\n",
      "  model = cd_fast.enet_coordinate_descent(\n",
      "C:\\Users\\bitcamp\\Anaconda3\\lib\\site-packages\\sklearn\\linear_model\\_coordinate_descent.py:530: ConvergenceWarning: Objective did not converge. You might want to increase the number of iterations. Duality gap: 176.07251915230245, tolerance: 3.34247803960396\n",
      "  model = cd_fast.enet_coordinate_descent(\n",
      "C:\\Users\\bitcamp\\Anaconda3\\lib\\site-packages\\sklearn\\linear_model\\_coordinate_descent.py:530: ConvergenceWarning: Objective did not converge. You might want to increase the number of iterations. Duality gap: 170.88327035326574, tolerance: 3.34247803960396\n",
      "  model = cd_fast.enet_coordinate_descent(\n",
      "C:\\Users\\bitcamp\\Anaconda3\\lib\\site-packages\\sklearn\\linear_model\\_coordinate_descent.py:530: ConvergenceWarning: Objective did not converge. You might want to increase the number of iterations. Duality gap: 169.58836508623472, tolerance: 3.34247803960396\n",
      "  model = cd_fast.enet_coordinate_descent(\n",
      "C:\\Users\\bitcamp\\Anaconda3\\lib\\site-packages\\sklearn\\linear_model\\_coordinate_descent.py:530: ConvergenceWarning: Objective did not converge. You might want to increase the number of iterations. Duality gap: 170.71612168550882, tolerance: 3.34247803960396\n",
      "  model = cd_fast.enet_coordinate_descent(\n",
      "C:\\Users\\bitcamp\\Anaconda3\\lib\\site-packages\\sklearn\\linear_model\\_coordinate_descent.py:530: ConvergenceWarning: Objective did not converge. You might want to increase the number of iterations. Duality gap: 159.42374389182442, tolerance: 3.34247803960396\n",
      "  model = cd_fast.enet_coordinate_descent(\n",
      "C:\\Users\\bitcamp\\Anaconda3\\lib\\site-packages\\sklearn\\linear_model\\_coordinate_descent.py:530: ConvergenceWarning: Objective did not converge. You might want to increase the number of iterations. Duality gap: 147.6580363918497, tolerance: 3.34247803960396\n",
      "  model = cd_fast.enet_coordinate_descent(\n",
      "C:\\Users\\bitcamp\\Anaconda3\\lib\\site-packages\\sklearn\\linear_model\\_coordinate_descent.py:530: ConvergenceWarning: Objective did not converge. You might want to increase the number of iterations. Duality gap: 137.2222032911195, tolerance: 3.34247803960396\n",
      "  model = cd_fast.enet_coordinate_descent(\n",
      "C:\\Users\\bitcamp\\Anaconda3\\lib\\site-packages\\sklearn\\linear_model\\_coordinate_descent.py:530: ConvergenceWarning: Objective did not converge. You might want to increase the number of iterations. Duality gap: 127.4767184403322, tolerance: 3.34247803960396\n",
      "  model = cd_fast.enet_coordinate_descent(\n"
     ]
    },
    {
     "name": "stderr",
     "output_type": "stream",
     "text": [
      "C:\\Users\\bitcamp\\Anaconda3\\lib\\site-packages\\sklearn\\linear_model\\_coordinate_descent.py:530: ConvergenceWarning: Objective did not converge. You might want to increase the number of iterations. Duality gap: 118.13336761819073, tolerance: 3.34247803960396\n",
      "  model = cd_fast.enet_coordinate_descent(\n",
      "C:\\Users\\bitcamp\\Anaconda3\\lib\\site-packages\\sklearn\\linear_model\\_coordinate_descent.py:530: ConvergenceWarning: Objective did not converge. You might want to increase the number of iterations. Duality gap: 110.57558795452769, tolerance: 3.34247803960396\n",
      "  model = cd_fast.enet_coordinate_descent(\n",
      "C:\\Users\\bitcamp\\Anaconda3\\lib\\site-packages\\sklearn\\linear_model\\_coordinate_descent.py:530: ConvergenceWarning: Objective did not converge. You might want to increase the number of iterations. Duality gap: 105.92374765765726, tolerance: 3.34247803960396\n",
      "  model = cd_fast.enet_coordinate_descent(\n",
      "C:\\Users\\bitcamp\\Anaconda3\\lib\\site-packages\\sklearn\\linear_model\\_coordinate_descent.py:530: ConvergenceWarning: Objective did not converge. You might want to increase the number of iterations. Duality gap: 102.01365385246481, tolerance: 3.34247803960396\n",
      "  model = cd_fast.enet_coordinate_descent(\n",
      "C:\\Users\\bitcamp\\Anaconda3\\lib\\site-packages\\sklearn\\linear_model\\_coordinate_descent.py:530: ConvergenceWarning: Objective did not converge. You might want to increase the number of iterations. Duality gap: 108.94147484253517, tolerance: 3.34247803960396\n",
      "  model = cd_fast.enet_coordinate_descent(\n",
      "C:\\Users\\bitcamp\\Anaconda3\\lib\\site-packages\\sklearn\\linear_model\\_coordinate_descent.py:530: ConvergenceWarning: Objective did not converge. You might want to increase the number of iterations. Duality gap: 106.42844362881715, tolerance: 3.34247803960396\n",
      "  model = cd_fast.enet_coordinate_descent(\n",
      "C:\\Users\\bitcamp\\Anaconda3\\lib\\site-packages\\sklearn\\linear_model\\_coordinate_descent.py:530: ConvergenceWarning: Objective did not converge. You might want to increase the number of iterations. Duality gap: 99.27055135069168, tolerance: 3.34247803960396\n",
      "  model = cd_fast.enet_coordinate_descent(\n",
      "C:\\Users\\bitcamp\\Anaconda3\\lib\\site-packages\\sklearn\\linear_model\\_coordinate_descent.py:530: ConvergenceWarning: Objective did not converge. You might want to increase the number of iterations. Duality gap: 92.74538270778567, tolerance: 3.34247803960396\n",
      "  model = cd_fast.enet_coordinate_descent(\n",
      "C:\\Users\\bitcamp\\Anaconda3\\lib\\site-packages\\sklearn\\linear_model\\_coordinate_descent.py:530: ConvergenceWarning: Objective did not converge. You might want to increase the number of iterations. Duality gap: 88.09542176665946, tolerance: 3.34247803960396\n",
      "  model = cd_fast.enet_coordinate_descent(\n",
      "C:\\Users\\bitcamp\\Anaconda3\\lib\\site-packages\\sklearn\\linear_model\\_coordinate_descent.py:530: ConvergenceWarning: Objective did not converge. You might want to increase the number of iterations. Duality gap: 83.57964534326811, tolerance: 3.34247803960396\n",
      "  model = cd_fast.enet_coordinate_descent(\n",
      "C:\\Users\\bitcamp\\Anaconda3\\lib\\site-packages\\sklearn\\linear_model\\_coordinate_descent.py:530: ConvergenceWarning: Objective did not converge. You might want to increase the number of iterations. Duality gap: 78.87496337364155, tolerance: 3.34247803960396\n",
      "  model = cd_fast.enet_coordinate_descent(\n",
      "C:\\Users\\bitcamp\\Anaconda3\\lib\\site-packages\\sklearn\\linear_model\\_coordinate_descent.py:530: ConvergenceWarning: Objective did not converge. You might want to increase the number of iterations. Duality gap: 74.55563007970886, tolerance: 3.34247803960396\n",
      "  model = cd_fast.enet_coordinate_descent(\n",
      "C:\\Users\\bitcamp\\Anaconda3\\lib\\site-packages\\sklearn\\linear_model\\_coordinate_descent.py:530: ConvergenceWarning: Objective did not converge. You might want to increase the number of iterations. Duality gap: 70.20134849684837, tolerance: 3.34247803960396\n",
      "  model = cd_fast.enet_coordinate_descent(\n",
      "C:\\Users\\bitcamp\\Anaconda3\\lib\\site-packages\\sklearn\\linear_model\\_coordinate_descent.py:530: ConvergenceWarning: Objective did not converge. You might want to increase the number of iterations. Duality gap: 42.452214361257575, tolerance: 3.34247803960396\n",
      "  model = cd_fast.enet_coordinate_descent(\n",
      "C:\\Users\\bitcamp\\Anaconda3\\lib\\site-packages\\sklearn\\linear_model\\_coordinate_descent.py:530: ConvergenceWarning: Objective did not converge. You might want to increase the number of iterations. Duality gap: 32.58583867094876, tolerance: 3.34247803960396\n",
      "  model = cd_fast.enet_coordinate_descent(\n",
      "C:\\Users\\bitcamp\\Anaconda3\\lib\\site-packages\\sklearn\\linear_model\\_coordinate_descent.py:530: ConvergenceWarning: Objective did not converge. You might want to increase the number of iterations. Duality gap: 25.228544806502214, tolerance: 3.34247803960396\n",
      "  model = cd_fast.enet_coordinate_descent(\n",
      "C:\\Users\\bitcamp\\Anaconda3\\lib\\site-packages\\sklearn\\linear_model\\_coordinate_descent.py:530: ConvergenceWarning: Objective did not converge. You might want to increase the number of iterations. Duality gap: 21.955146682447776, tolerance: 3.34247803960396\n",
      "  model = cd_fast.enet_coordinate_descent(\n",
      "C:\\Users\\bitcamp\\Anaconda3\\lib\\site-packages\\sklearn\\linear_model\\_coordinate_descent.py:530: ConvergenceWarning: Objective did not converge. You might want to increase the number of iterations. Duality gap: 28.52040692697483, tolerance: 3.34247803960396\n",
      "  model = cd_fast.enet_coordinate_descent(\n",
      "C:\\Users\\bitcamp\\Anaconda3\\lib\\site-packages\\sklearn\\linear_model\\_coordinate_descent.py:530: ConvergenceWarning: Objective did not converge. You might want to increase the number of iterations. Duality gap: 31.8794472949603, tolerance: 3.34247803960396\n",
      "  model = cd_fast.enet_coordinate_descent(\n",
      "C:\\Users\\bitcamp\\Anaconda3\\lib\\site-packages\\sklearn\\linear_model\\_coordinate_descent.py:530: ConvergenceWarning: Objective did not converge. You might want to increase the number of iterations. Duality gap: 29.430660062897005, tolerance: 3.34247803960396\n",
      "  model = cd_fast.enet_coordinate_descent(\n",
      "C:\\Users\\bitcamp\\Anaconda3\\lib\\site-packages\\sklearn\\linear_model\\_coordinate_descent.py:530: ConvergenceWarning: Objective did not converge. You might want to increase the number of iterations. Duality gap: 28.756691674642752, tolerance: 3.34247803960396\n",
      "  model = cd_fast.enet_coordinate_descent(\n",
      "C:\\Users\\bitcamp\\Anaconda3\\lib\\site-packages\\sklearn\\linear_model\\_coordinate_descent.py:530: ConvergenceWarning: Objective did not converge. You might want to increase the number of iterations. Duality gap: 30.04550584276967, tolerance: 3.34247803960396\n",
      "  model = cd_fast.enet_coordinate_descent(\n",
      "C:\\Users\\bitcamp\\Anaconda3\\lib\\site-packages\\sklearn\\linear_model\\_coordinate_descent.py:530: ConvergenceWarning: Objective did not converge. You might want to increase the number of iterations. Duality gap: 29.789285205423766, tolerance: 3.34247803960396\n",
      "  model = cd_fast.enet_coordinate_descent(\n",
      "C:\\Users\\bitcamp\\Anaconda3\\lib\\site-packages\\sklearn\\linear_model\\_coordinate_descent.py:530: ConvergenceWarning: Objective did not converge. You might want to increase the number of iterations. Duality gap: 28.470527382313776, tolerance: 3.34247803960396\n",
      "  model = cd_fast.enet_coordinate_descent(\n",
      "C:\\Users\\bitcamp\\Anaconda3\\lib\\site-packages\\sklearn\\linear_model\\_coordinate_descent.py:530: ConvergenceWarning: Objective did not converge. You might want to increase the number of iterations. Duality gap: 27.022178272633028, tolerance: 3.34247803960396\n",
      "  model = cd_fast.enet_coordinate_descent(\n",
      "C:\\Users\\bitcamp\\Anaconda3\\lib\\site-packages\\sklearn\\linear_model\\_coordinate_descent.py:530: ConvergenceWarning: Objective did not converge. You might want to increase the number of iterations. Duality gap: 25.334042370614043, tolerance: 3.34247803960396\n",
      "  model = cd_fast.enet_coordinate_descent(\n",
      "C:\\Users\\bitcamp\\Anaconda3\\lib\\site-packages\\sklearn\\linear_model\\_coordinate_descent.py:530: ConvergenceWarning: Objective did not converge. You might want to increase the number of iterations. Duality gap: 24.1029043182034, tolerance: 3.34247803960396\n",
      "  model = cd_fast.enet_coordinate_descent(\n",
      "C:\\Users\\bitcamp\\Anaconda3\\lib\\site-packages\\sklearn\\linear_model\\_coordinate_descent.py:530: ConvergenceWarning: Objective did not converge. You might want to increase the number of iterations. Duality gap: 23.08590151399858, tolerance: 3.34247803960396\n",
      "  model = cd_fast.enet_coordinate_descent(\n",
      "C:\\Users\\bitcamp\\Anaconda3\\lib\\site-packages\\sklearn\\linear_model\\_coordinate_descent.py:530: ConvergenceWarning: Objective did not converge. You might want to increase the number of iterations. Duality gap: 21.85210705035388, tolerance: 3.34247803960396\n",
      "  model = cd_fast.enet_coordinate_descent(\n",
      "C:\\Users\\bitcamp\\Anaconda3\\lib\\site-packages\\sklearn\\linear_model\\_coordinate_descent.py:530: ConvergenceWarning: Objective did not converge. You might want to increase the number of iterations. Duality gap: 20.166466501943432, tolerance: 3.34247803960396\n",
      "  model = cd_fast.enet_coordinate_descent(\n",
      "C:\\Users\\bitcamp\\Anaconda3\\lib\\site-packages\\sklearn\\linear_model\\_coordinate_descent.py:530: ConvergenceWarning: Objective did not converge. You might want to increase the number of iterations. Duality gap: 18.883026738361878, tolerance: 3.34247803960396\n",
      "  model = cd_fast.enet_coordinate_descent(\n"
     ]
    },
    {
     "name": "stderr",
     "output_type": "stream",
     "text": [
      "C:\\Users\\bitcamp\\Anaconda3\\lib\\site-packages\\sklearn\\linear_model\\_coordinate_descent.py:530: ConvergenceWarning: Objective did not converge. You might want to increase the number of iterations. Duality gap: 20.079853913473926, tolerance: 3.34247803960396\n",
      "  model = cd_fast.enet_coordinate_descent(\n",
      "C:\\Users\\bitcamp\\Anaconda3\\lib\\site-packages\\sklearn\\linear_model\\_coordinate_descent.py:530: ConvergenceWarning: Objective did not converge. You might want to increase the number of iterations. Duality gap: 16.907673151747986, tolerance: 3.34247803960396\n",
      "  model = cd_fast.enet_coordinate_descent(\n",
      "C:\\Users\\bitcamp\\Anaconda3\\lib\\site-packages\\sklearn\\linear_model\\_coordinate_descent.py:530: ConvergenceWarning: Objective did not converge. You might want to increase the number of iterations. Duality gap: 15.274034968643718, tolerance: 3.34247803960396\n",
      "  model = cd_fast.enet_coordinate_descent(\n",
      "C:\\Users\\bitcamp\\Anaconda3\\lib\\site-packages\\sklearn\\linear_model\\_coordinate_descent.py:530: ConvergenceWarning: Objective did not converge. You might want to increase the number of iterations. Duality gap: 14.264084230838307, tolerance: 3.34247803960396\n",
      "  model = cd_fast.enet_coordinate_descent(\n",
      "C:\\Users\\bitcamp\\Anaconda3\\lib\\site-packages\\sklearn\\linear_model\\_coordinate_descent.py:530: ConvergenceWarning: Objective did not converge. You might want to increase the number of iterations. Duality gap: 13.51565722496889, tolerance: 3.34247803960396\n",
      "  model = cd_fast.enet_coordinate_descent(\n",
      "C:\\Users\\bitcamp\\Anaconda3\\lib\\site-packages\\sklearn\\linear_model\\_coordinate_descent.py:530: ConvergenceWarning: Objective did not converge. You might want to increase the number of iterations. Duality gap: 12.933007133124192, tolerance: 3.34247803960396\n",
      "  model = cd_fast.enet_coordinate_descent(\n",
      "C:\\Users\\bitcamp\\Anaconda3\\lib\\site-packages\\sklearn\\linear_model\\_coordinate_descent.py:530: ConvergenceWarning: Objective did not converge. You might want to increase the number of iterations. Duality gap: 12.473862452972753, tolerance: 3.34247803960396\n",
      "  model = cd_fast.enet_coordinate_descent(\n",
      "C:\\Users\\bitcamp\\Anaconda3\\lib\\site-packages\\sklearn\\linear_model\\_coordinate_descent.py:530: ConvergenceWarning: Objective did not converge. You might want to increase the number of iterations. Duality gap: 12.091133284380703, tolerance: 3.34247803960396\n",
      "  model = cd_fast.enet_coordinate_descent(\n",
      "C:\\Users\\bitcamp\\Anaconda3\\lib\\site-packages\\sklearn\\linear_model\\_coordinate_descent.py:530: ConvergenceWarning: Objective did not converge. You might want to increase the number of iterations. Duality gap: 11.768846991380997, tolerance: 3.34247803960396\n",
      "  model = cd_fast.enet_coordinate_descent(\n",
      "C:\\Users\\bitcamp\\Anaconda3\\lib\\site-packages\\sklearn\\linear_model\\_coordinate_descent.py:530: ConvergenceWarning: Objective did not converge. You might want to increase the number of iterations. Duality gap: 11.76844075685949, tolerance: 3.34247803960396\n",
      "  model = cd_fast.enet_coordinate_descent(\n",
      "C:\\Users\\bitcamp\\Anaconda3\\lib\\site-packages\\sklearn\\linear_model\\_coordinate_descent.py:530: ConvergenceWarning: Objective did not converge. You might want to increase the number of iterations. Duality gap: 11.804251653428764, tolerance: 3.34247803960396\n",
      "  model = cd_fast.enet_coordinate_descent(\n",
      "C:\\Users\\bitcamp\\Anaconda3\\lib\\site-packages\\sklearn\\linear_model\\_coordinate_descent.py:530: ConvergenceWarning: Objective did not converge. You might want to increase the number of iterations. Duality gap: 11.767374263893544, tolerance: 3.34247803960396\n",
      "  model = cd_fast.enet_coordinate_descent(\n",
      "C:\\Users\\bitcamp\\Anaconda3\\lib\\site-packages\\sklearn\\linear_model\\_coordinate_descent.py:530: ConvergenceWarning: Objective did not converge. You might want to increase the number of iterations. Duality gap: 11.65753477540784, tolerance: 3.34247803960396\n",
      "  model = cd_fast.enet_coordinate_descent(\n",
      "C:\\Users\\bitcamp\\Anaconda3\\lib\\site-packages\\sklearn\\linear_model\\_coordinate_descent.py:530: ConvergenceWarning: Objective did not converge. You might want to increase the number of iterations. Duality gap: 11.470896067790818, tolerance: 3.34247803960396\n",
      "  model = cd_fast.enet_coordinate_descent(\n",
      "C:\\Users\\bitcamp\\Anaconda3\\lib\\site-packages\\sklearn\\linear_model\\_coordinate_descent.py:530: ConvergenceWarning: Objective did not converge. You might want to increase the number of iterations. Duality gap: 11.285114442864142, tolerance: 3.34247803960396\n",
      "  model = cd_fast.enet_coordinate_descent(\n",
      "C:\\Users\\bitcamp\\Anaconda3\\lib\\site-packages\\sklearn\\linear_model\\_coordinate_descent.py:530: ConvergenceWarning: Objective did not converge. You might want to increase the number of iterations. Duality gap: 11.404955845098812, tolerance: 3.34247803960396\n",
      "  model = cd_fast.enet_coordinate_descent(\n",
      "C:\\Users\\bitcamp\\Anaconda3\\lib\\site-packages\\sklearn\\linear_model\\_coordinate_descent.py:530: ConvergenceWarning: Objective did not converge. You might want to increase the number of iterations. Duality gap: 11.917432710522007, tolerance: 3.34247803960396\n",
      "  model = cd_fast.enet_coordinate_descent(\n",
      "C:\\Users\\bitcamp\\Anaconda3\\lib\\site-packages\\sklearn\\linear_model\\_coordinate_descent.py:530: ConvergenceWarning: Objective did not converge. You might want to increase the number of iterations. Duality gap: 11.776886909865425, tolerance: 3.34247803960396\n",
      "  model = cd_fast.enet_coordinate_descent(\n",
      "C:\\Users\\bitcamp\\Anaconda3\\lib\\site-packages\\sklearn\\linear_model\\_coordinate_descent.py:530: ConvergenceWarning: Objective did not converge. You might want to increase the number of iterations. Duality gap: 11.654097871512022, tolerance: 3.34247803960396\n",
      "  model = cd_fast.enet_coordinate_descent(\n",
      "C:\\Users\\bitcamp\\Anaconda3\\lib\\site-packages\\sklearn\\linear_model\\_coordinate_descent.py:530: ConvergenceWarning: Objective did not converge. You might want to increase the number of iterations. Duality gap: 11.495560965113327, tolerance: 3.34247803960396\n",
      "  model = cd_fast.enet_coordinate_descent(\n",
      "C:\\Users\\bitcamp\\Anaconda3\\lib\\site-packages\\sklearn\\linear_model\\_coordinate_descent.py:530: ConvergenceWarning: Objective did not converge. You might want to increase the number of iterations. Duality gap: 11.305858378610537, tolerance: 3.34247803960396\n",
      "  model = cd_fast.enet_coordinate_descent(\n",
      "C:\\Users\\bitcamp\\Anaconda3\\lib\\site-packages\\sklearn\\linear_model\\_coordinate_descent.py:530: ConvergenceWarning: Objective did not converge. You might want to increase the number of iterations. Duality gap: 9.64782073569313, tolerance: 3.34247803960396\n",
      "  model = cd_fast.enet_coordinate_descent(\n",
      "C:\\Users\\bitcamp\\Anaconda3\\lib\\site-packages\\sklearn\\linear_model\\_coordinate_descent.py:530: ConvergenceWarning: Objective did not converge. You might want to increase the number of iterations. Duality gap: 8.97010124512235, tolerance: 3.34247803960396\n",
      "  model = cd_fast.enet_coordinate_descent(\n",
      "C:\\Users\\bitcamp\\Anaconda3\\lib\\site-packages\\sklearn\\linear_model\\_coordinate_descent.py:530: ConvergenceWarning: Objective did not converge. You might want to increase the number of iterations. Duality gap: 8.799389677830732, tolerance: 3.34247803960396\n",
      "  model = cd_fast.enet_coordinate_descent(\n",
      "C:\\Users\\bitcamp\\Anaconda3\\lib\\site-packages\\sklearn\\linear_model\\_coordinate_descent.py:530: ConvergenceWarning: Objective did not converge. You might want to increase the number of iterations. Duality gap: 8.583300165340916, tolerance: 3.34247803960396\n",
      "  model = cd_fast.enet_coordinate_descent(\n",
      "C:\\Users\\bitcamp\\Anaconda3\\lib\\site-packages\\sklearn\\linear_model\\_coordinate_descent.py:530: ConvergenceWarning: Objective did not converge. You might want to increase the number of iterations. Duality gap: 8.398860121355938, tolerance: 3.34247803960396\n",
      "  model = cd_fast.enet_coordinate_descent(\n",
      "C:\\Users\\bitcamp\\Anaconda3\\lib\\site-packages\\sklearn\\linear_model\\_coordinate_descent.py:530: ConvergenceWarning: Objective did not converge. You might want to increase the number of iterations. Duality gap: 8.373259166436583, tolerance: 3.34247803960396\n",
      "  model = cd_fast.enet_coordinate_descent(\n",
      "C:\\Users\\bitcamp\\Anaconda3\\lib\\site-packages\\sklearn\\linear_model\\_coordinate_descent.py:530: ConvergenceWarning: Objective did not converge. You might want to increase the number of iterations. Duality gap: 8.327291077951486, tolerance: 3.34247803960396\n",
      "  model = cd_fast.enet_coordinate_descent(\n",
      "C:\\Users\\bitcamp\\Anaconda3\\lib\\site-packages\\sklearn\\linear_model\\_coordinate_descent.py:530: ConvergenceWarning: Objective did not converge. You might want to increase the number of iterations. Duality gap: 8.281002467797407, tolerance: 3.34247803960396\n",
      "  model = cd_fast.enet_coordinate_descent(\n",
      "C:\\Users\\bitcamp\\Anaconda3\\lib\\site-packages\\sklearn\\linear_model\\_coordinate_descent.py:530: ConvergenceWarning: Objective did not converge. You might want to increase the number of iterations. Duality gap: 8.195661784728145, tolerance: 3.34247803960396\n",
      "  model = cd_fast.enet_coordinate_descent(\n"
     ]
    },
    {
     "name": "stderr",
     "output_type": "stream",
     "text": [
      "C:\\Users\\bitcamp\\Anaconda3\\lib\\site-packages\\sklearn\\linear_model\\_coordinate_descent.py:530: ConvergenceWarning: Objective did not converge. You might want to increase the number of iterations. Duality gap: 8.042362144864455, tolerance: 3.34247803960396\n",
      "  model = cd_fast.enet_coordinate_descent(\n",
      "C:\\Users\\bitcamp\\Anaconda3\\lib\\site-packages\\sklearn\\linear_model\\_coordinate_descent.py:530: ConvergenceWarning: Objective did not converge. You might want to increase the number of iterations. Duality gap: 7.644058989405494, tolerance: 3.34247803960396\n",
      "  model = cd_fast.enet_coordinate_descent(\n",
      "C:\\Users\\bitcamp\\Anaconda3\\lib\\site-packages\\sklearn\\linear_model\\_coordinate_descent.py:530: ConvergenceWarning: Objective did not converge. You might want to increase the number of iterations. Duality gap: 7.400998983916907, tolerance: 3.34247803960396\n",
      "  model = cd_fast.enet_coordinate_descent(\n",
      "C:\\Users\\bitcamp\\Anaconda3\\lib\\site-packages\\sklearn\\linear_model\\_coordinate_descent.py:530: ConvergenceWarning: Objective did not converge. You might want to increase the number of iterations. Duality gap: 7.193911000424123, tolerance: 3.34247803960396\n",
      "  model = cd_fast.enet_coordinate_descent(\n",
      "C:\\Users\\bitcamp\\Anaconda3\\lib\\site-packages\\sklearn\\linear_model\\_coordinate_descent.py:530: ConvergenceWarning: Objective did not converge. You might want to increase the number of iterations. Duality gap: 7.020222941438988, tolerance: 3.34247803960396\n",
      "  model = cd_fast.enet_coordinate_descent(\n",
      "C:\\Users\\bitcamp\\Anaconda3\\lib\\site-packages\\sklearn\\linear_model\\_coordinate_descent.py:530: ConvergenceWarning: Objective did not converge. You might want to increase the number of iterations. Duality gap: 6.848327238116326, tolerance: 3.34247803960396\n",
      "  model = cd_fast.enet_coordinate_descent(\n",
      "C:\\Users\\bitcamp\\Anaconda3\\lib\\site-packages\\sklearn\\linear_model\\_coordinate_descent.py:530: ConvergenceWarning: Objective did not converge. You might want to increase the number of iterations. Duality gap: 6.756452282643295, tolerance: 3.34247803960396\n",
      "  model = cd_fast.enet_coordinate_descent(\n",
      "C:\\Users\\bitcamp\\Anaconda3\\lib\\site-packages\\sklearn\\linear_model\\_coordinate_descent.py:530: ConvergenceWarning: Objective did not converge. You might want to increase the number of iterations. Duality gap: 6.635754908189483, tolerance: 3.34247803960396\n",
      "  model = cd_fast.enet_coordinate_descent(\n",
      "C:\\Users\\bitcamp\\Anaconda3\\lib\\site-packages\\sklearn\\linear_model\\_coordinate_descent.py:530: ConvergenceWarning: Objective did not converge. You might want to increase the number of iterations. Duality gap: 6.490474516171162, tolerance: 3.34247803960396\n",
      "  model = cd_fast.enet_coordinate_descent(\n",
      "C:\\Users\\bitcamp\\Anaconda3\\lib\\site-packages\\sklearn\\linear_model\\_coordinate_descent.py:530: ConvergenceWarning: Objective did not converge. You might want to increase the number of iterations. Duality gap: 6.3468428656296965, tolerance: 3.34247803960396\n",
      "  model = cd_fast.enet_coordinate_descent(\n",
      "C:\\Users\\bitcamp\\Anaconda3\\lib\\site-packages\\sklearn\\linear_model\\_coordinate_descent.py:530: ConvergenceWarning: Objective did not converge. You might want to increase the number of iterations. Duality gap: 6.216871275772064, tolerance: 3.34247803960396\n",
      "  model = cd_fast.enet_coordinate_descent(\n",
      "C:\\Users\\bitcamp\\Anaconda3\\lib\\site-packages\\sklearn\\linear_model\\_coordinate_descent.py:530: ConvergenceWarning: Objective did not converge. You might want to increase the number of iterations. Duality gap: 6.050918650604217, tolerance: 3.34247803960396\n",
      "  model = cd_fast.enet_coordinate_descent(\n",
      "C:\\Users\\bitcamp\\Anaconda3\\lib\\site-packages\\sklearn\\linear_model\\_coordinate_descent.py:530: ConvergenceWarning: Objective did not converge. You might want to increase the number of iterations. Duality gap: 5.8804976771798465, tolerance: 3.34247803960396\n",
      "  model = cd_fast.enet_coordinate_descent(\n",
      "C:\\Users\\bitcamp\\Anaconda3\\lib\\site-packages\\sklearn\\linear_model\\_coordinate_descent.py:530: ConvergenceWarning: Objective did not converge. You might want to increase the number of iterations. Duality gap: 5.724418855768818, tolerance: 3.34247803960396\n",
      "  model = cd_fast.enet_coordinate_descent(\n",
      "C:\\Users\\bitcamp\\Anaconda3\\lib\\site-packages\\sklearn\\linear_model\\_coordinate_descent.py:530: ConvergenceWarning: Objective did not converge. You might want to increase the number of iterations. Duality gap: 5.542103882276024, tolerance: 3.34247803960396\n",
      "  model = cd_fast.enet_coordinate_descent(\n",
      "C:\\Users\\bitcamp\\Anaconda3\\lib\\site-packages\\sklearn\\linear_model\\_coordinate_descent.py:530: ConvergenceWarning: Objective did not converge. You might want to increase the number of iterations. Duality gap: 5.402997603274343, tolerance: 3.34247803960396\n",
      "  model = cd_fast.enet_coordinate_descent(\n",
      "C:\\Users\\bitcamp\\Anaconda3\\lib\\site-packages\\sklearn\\linear_model\\_coordinate_descent.py:530: ConvergenceWarning: Objective did not converge. You might want to increase the number of iterations. Duality gap: 5.279517519012188, tolerance: 3.34247803960396\n",
      "  model = cd_fast.enet_coordinate_descent(\n",
      "C:\\Users\\bitcamp\\Anaconda3\\lib\\site-packages\\sklearn\\linear_model\\_coordinate_descent.py:530: ConvergenceWarning: Objective did not converge. You might want to increase the number of iterations. Duality gap: 5.162250194715853, tolerance: 3.34247803960396\n",
      "  model = cd_fast.enet_coordinate_descent(\n",
      "C:\\Users\\bitcamp\\Anaconda3\\lib\\site-packages\\sklearn\\linear_model\\_coordinate_descent.py:530: ConvergenceWarning: Objective did not converge. You might want to increase the number of iterations. Duality gap: 5.050884716217297, tolerance: 3.34247803960396\n",
      "  model = cd_fast.enet_coordinate_descent(\n",
      "C:\\Users\\bitcamp\\Anaconda3\\lib\\site-packages\\sklearn\\linear_model\\_coordinate_descent.py:530: ConvergenceWarning: Objective did not converge. You might want to increase the number of iterations. Duality gap: 4.943373718075236, tolerance: 3.34247803960396\n",
      "  model = cd_fast.enet_coordinate_descent(\n",
      "C:\\Users\\bitcamp\\Anaconda3\\lib\\site-packages\\sklearn\\linear_model\\_coordinate_descent.py:530: ConvergenceWarning: Objective did not converge. You might want to increase the number of iterations. Duality gap: 4.836761915970783, tolerance: 3.34247803960396\n",
      "  model = cd_fast.enet_coordinate_descent(\n",
      "C:\\Users\\bitcamp\\Anaconda3\\lib\\site-packages\\sklearn\\linear_model\\_coordinate_descent.py:530: ConvergenceWarning: Objective did not converge. You might want to increase the number of iterations. Duality gap: 4.733082417839796, tolerance: 3.34247803960396\n",
      "  model = cd_fast.enet_coordinate_descent(\n",
      "C:\\Users\\bitcamp\\Anaconda3\\lib\\site-packages\\sklearn\\linear_model\\_coordinate_descent.py:530: ConvergenceWarning: Objective did not converge. You might want to increase the number of iterations. Duality gap: 4.63102754611009, tolerance: 3.34247803960396\n",
      "  model = cd_fast.enet_coordinate_descent(\n",
      "C:\\Users\\bitcamp\\Anaconda3\\lib\\site-packages\\sklearn\\linear_model\\_coordinate_descent.py:530: ConvergenceWarning: Objective did not converge. You might want to increase the number of iterations. Duality gap: 4.533427927131015, tolerance: 3.34247803960396\n",
      "  model = cd_fast.enet_coordinate_descent(\n",
      "C:\\Users\\bitcamp\\Anaconda3\\lib\\site-packages\\sklearn\\linear_model\\_coordinate_descent.py:530: ConvergenceWarning: Objective did not converge. You might want to increase the number of iterations. Duality gap: 4.436576303718539, tolerance: 3.34247803960396\n",
      "  model = cd_fast.enet_coordinate_descent(\n",
      "C:\\Users\\bitcamp\\Anaconda3\\lib\\site-packages\\sklearn\\linear_model\\_coordinate_descent.py:530: ConvergenceWarning: Objective did not converge. You might want to increase the number of iterations. Duality gap: 3.513848503565896, tolerance: 3.34247803960396\n",
      "  model = cd_fast.enet_coordinate_descent(\n",
      "C:\\Users\\bitcamp\\Anaconda3\\lib\\site-packages\\sklearn\\linear_model\\_coordinate_descent.py:530: ConvergenceWarning: Objective did not converge. You might want to increase the number of iterations. Duality gap: 3.5125804692088423, tolerance: 3.34247803960396\n",
      "  model = cd_fast.enet_coordinate_descent(\n"
     ]
    },
    {
     "data": {
      "text/plain": [
       "[<matplotlib.lines.Line2D at 0x1dd4ea61a30>]"
      ]
     },
     "execution_count": 62,
     "metadata": {},
     "output_type": "execute_result"
    },
    {
     "data": {
      "image/png": "[encoded data removed]",
      "text/plain": [
       "<Figure size 432x288 with 1 Axes>"
      ]
     },
     "metadata": {
      "needs_background": "light"
     },
     "output_type": "display_data"
    }
   ],
   "source": [
    "lasso_scores = []\n",
    "for i in np.arange(0.0001, 0.2, 0.0001):\n",
    "    lid = Lasso(alpha=i)\n",
    "    lid.fit(x_train, y_train)\n",
    "    lasso_scores.append(lid.score(x_test, y_test))\n",
    "    \n",
    "plt.plot(np.arange(0.0001, 0.2, 0.0001), lasso_scores)"
   ]
  },
  {
   "cell_type": "code",
   "execution_count": null,
   "id": "80865fff",
   "metadata": {},
   "outputs": [],
   "source": []
  },
  {
   "cell_type": "code",
   "execution_count": null,
   "id": "bac94f3c",
   "metadata": {},
   "outputs": [],
   "source": []
  },
  {
   "cell_type": "code",
   "execution_count": null,
   "id": "03a42176",
   "metadata": {},
   "outputs": [],
   "source": []
  },
  {
   "cell_type": "code",
   "execution_count": null,
   "id": "594ec2bd",
   "metadata": {},
   "outputs": [],
   "source": []
  }
 ],
 "metadata": {
  "kernelspec": {
   "display_name": "Python 3 (ipykernel)",
   "language": "python",
   "name": "python3"
  },
  "language_info": {
   "codemirror_mode": {
    "name": "ipython",
    "version": 3
   },
   "file_extension": ".py",
   "mimetype": "text/x-python",
   "name": "python",
   "nbconvert_exporter": "python",
   "pygments_lexer": "ipython3",
   "version": "3.9.7"
  },
  "varInspector": {
   "cols": {
    "lenName": 16,
    "lenType": 16,
    "lenVar": 40
   },
   "kernels_config": {
    "python": {
     "delete_cmd_postfix": "",
     "delete_cmd_prefix": "del ",
     "library": "var_list.py",
     "varRefreshCmd": "print(var_dic_list())"
    },
    "r": {
     "delete_cmd_postfix": ") ",
     "delete_cmd_prefix": "rm(",
     "library": "var_list.r",
     "varRefreshCmd": "cat(var_dic_list()) "
    }
   },
   "types_to_exclude": [
    "module",
    "function",
    "builtin_function_or_method",
    "instance",
    "_Feature"
   ],
   "window_display": false
  }
 },
 "nbformat": 4,
 "nbformat_minor": 5
}
