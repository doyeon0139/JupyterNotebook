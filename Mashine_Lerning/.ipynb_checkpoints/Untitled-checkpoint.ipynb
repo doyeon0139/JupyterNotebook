{
 "cells": [
  {
   "cell_type": "code",
   "execution_count": 2,
   "id": "be40ad83",
   "metadata": {},
   "outputs": [],
   "source": [
    "import pandas as pd\n",
    "import numpy as np\n",
    "import matplotlib.pyplot as plt\n",
    "import seaborn as sns\n",
    "\n",
    "import warnings\n",
    "warnings.filterwarnings('ignore')"
   ]
  },
  {
   "cell_type": "code",
   "execution_count": 4,
   "id": "3bd73878",
   "metadata": {},
   "outputs": [
    {
     "data": {
      "text/html": [
       "<div>\n",
       "<style scoped>\n",
       "    .dataframe tbody tr th:only-of-type {\n",
       "        vertical-align: middle;\n",
       "    }\n",
       "\n",
       "    .dataframe tbody tr th {\n",
       "        vertical-align: top;\n",
       "    }\n",
       "\n",
       "    .dataframe thead th {\n",
       "        text-align: right;\n",
       "    }\n",
       "</style>\n",
       "<table border=\"1\" class=\"dataframe\">\n",
       "  <thead>\n",
       "    <tr style=\"text-align: right;\">\n",
       "      <th></th>\n",
       "      <th>age</th>\n",
       "      <th>anaemia</th>\n",
       "      <th>creatinine_phosphokinase</th>\n",
       "      <th>diabetes</th>\n",
       "      <th>ejection_fraction</th>\n",
       "      <th>high_blood_pressure</th>\n",
       "      <th>platelets</th>\n",
       "      <th>serum_creatinine</th>\n",
       "      <th>serum_sodium</th>\n",
       "      <th>sex</th>\n",
       "      <th>smoking</th>\n",
       "      <th>time</th>\n",
       "      <th>DEATH_EVENT</th>\n",
       "    </tr>\n",
       "  </thead>\n",
       "  <tbody>\n",
       "    <tr>\n",
       "      <th>0</th>\n",
       "      <td>75.0</td>\n",
       "      <td>0</td>\n",
       "      <td>582</td>\n",
       "      <td>0</td>\n",
       "      <td>20</td>\n",
       "      <td>1</td>\n",
       "      <td>265000.00</td>\n",
       "      <td>1.9</td>\n",
       "      <td>130</td>\n",
       "      <td>1</td>\n",
       "      <td>0</td>\n",
       "      <td>4</td>\n",
       "      <td>1</td>\n",
       "    </tr>\n",
       "    <tr>\n",
       "      <th>1</th>\n",
       "      <td>55.0</td>\n",
       "      <td>0</td>\n",
       "      <td>7861</td>\n",
       "      <td>0</td>\n",
       "      <td>38</td>\n",
       "      <td>0</td>\n",
       "      <td>263358.03</td>\n",
       "      <td>1.1</td>\n",
       "      <td>136</td>\n",
       "      <td>1</td>\n",
       "      <td>0</td>\n",
       "      <td>6</td>\n",
       "      <td>1</td>\n",
       "    </tr>\n",
       "    <tr>\n",
       "      <th>2</th>\n",
       "      <td>65.0</td>\n",
       "      <td>0</td>\n",
       "      <td>146</td>\n",
       "      <td>0</td>\n",
       "      <td>20</td>\n",
       "      <td>0</td>\n",
       "      <td>162000.00</td>\n",
       "      <td>1.3</td>\n",
       "      <td>129</td>\n",
       "      <td>1</td>\n",
       "      <td>1</td>\n",
       "      <td>7</td>\n",
       "      <td>1</td>\n",
       "    </tr>\n",
       "  </tbody>\n",
       "</table>\n",
       "</div>"
      ],
      "text/plain": [
       "    age  anaemia  creatinine_phosphokinase  diabetes  ejection_fraction  \\\n",
       "0  75.0        0                       582         0                 20   \n",
       "1  55.0        0                      7861         0                 38   \n",
       "2  65.0        0                       146         0                 20   \n",
       "\n",
       "   high_blood_pressure  platelets  serum_creatinine  serum_sodium  sex  \\\n",
       "0                    1  265000.00               1.9           130    1   \n",
       "1                    0  263358.03               1.1           136    1   \n",
       "2                    0  162000.00               1.3           129    1   \n",
       "\n",
       "   smoking  time  DEATH_EVENT  \n",
       "0        0     4            1  \n",
       "1        0     6            1  \n",
       "2        1     7            1  "
      ]
     },
     "execution_count": 4,
     "metadata": {},
     "output_type": "execute_result"
    }
   ],
   "source": [
    "df = pd.read_csv('./ml_source_files/heart_failure_clinical_records_dataset.csv')\n",
    "df.head(3)"
   ]
  },
  {
   "cell_type": "code",
   "execution_count": 5,
   "id": "fce82dca",
   "metadata": {},
   "outputs": [
    {
     "data": {
      "text/plain": [
       "age                         0\n",
       "anaemia                     0\n",
       "creatinine_phosphokinase    0\n",
       "diabetes                    0\n",
       "ejection_fraction           0\n",
       "high_blood_pressure         0\n",
       "platelets                   0\n",
       "serum_creatinine            0\n",
       "serum_sodium                0\n",
       "sex                         0\n",
       "smoking                     0\n",
       "time                        0\n",
       "DEATH_EVENT                 0\n",
       "dtype: int64"
      ]
     },
     "execution_count": 5,
     "metadata": {},
     "output_type": "execute_result"
    }
   ],
   "source": [
    "df.isna().sum()"
   ]
  },
  {
   "cell_type": "code",
   "execution_count": 8,
   "id": "a34a497e",
   "metadata": {},
   "outputs": [
    {
     "name": "stdout",
     "output_type": "stream",
     "text": [
      "<class 'pandas.core.frame.DataFrame'>\n",
      "RangeIndex: 299 entries, 0 to 298\n",
      "Data columns (total 13 columns):\n",
      " #   Column                    Non-Null Count  Dtype  \n",
      "---  ------                    --------------  -----  \n",
      " 0   age                       299 non-null    float64\n",
      " 1   anaemia                   299 non-null    int64  \n",
      " 2   creatinine_phosphokinase  299 non-null    int64  \n",
      " 3   diabetes                  299 non-null    int64  \n",
      " 4   ejection_fraction         299 non-null    int64  \n",
      " 5   high_blood_pressure       299 non-null    int64  \n",
      " 6   platelets                 299 non-null    float64\n",
      " 7   serum_creatinine          299 non-null    float64\n",
      " 8   serum_sodium              299 non-null    int64  \n",
      " 9   sex                       299 non-null    int64  \n",
      " 10  smoking                   299 non-null    int64  \n",
      " 11  time                      299 non-null    int64  \n",
      " 12  DEATH_EVENT               299 non-null    int64  \n",
      "dtypes: float64(3), int64(10)\n",
      "memory usage: 30.5 KB\n"
     ]
    }
   ],
   "source": [
    "df.info()"
   ]
  },
  {
   "cell_type": "code",
   "execution_count": 36,
   "id": "f3cfdb48",
   "metadata": {},
   "outputs": [],
   "source": [
    "y = df.DEATH_EVENT\n",
    "x = df.drop('DEATH_EVENT', axis=1)"
   ]
  },
  {
   "cell_type": "code",
   "execution_count": 37,
   "id": "111493cf",
   "metadata": {},
   "outputs": [
    {
     "data": {
      "text/html": [
       "<div>\n",
       "<style scoped>\n",
       "    .dataframe tbody tr th:only-of-type {\n",
       "        vertical-align: middle;\n",
       "    }\n",
       "\n",
       "    .dataframe tbody tr th {\n",
       "        vertical-align: top;\n",
       "    }\n",
       "\n",
       "    .dataframe thead th {\n",
       "        text-align: right;\n",
       "    }\n",
       "</style>\n",
       "<table border=\"1\" class=\"dataframe\">\n",
       "  <thead>\n",
       "    <tr style=\"text-align: right;\">\n",
       "      <th></th>\n",
       "      <th>age</th>\n",
       "      <th>anaemia</th>\n",
       "      <th>creatinine_phosphokinase</th>\n",
       "      <th>diabetes</th>\n",
       "      <th>ejection_fraction</th>\n",
       "      <th>high_blood_pressure</th>\n",
       "      <th>platelets</th>\n",
       "      <th>serum_creatinine</th>\n",
       "      <th>serum_sodium</th>\n",
       "      <th>sex</th>\n",
       "      <th>smoking</th>\n",
       "      <th>time</th>\n",
       "    </tr>\n",
       "  </thead>\n",
       "  <tbody>\n",
       "    <tr>\n",
       "      <th>0</th>\n",
       "      <td>75.0</td>\n",
       "      <td>0</td>\n",
       "      <td>582</td>\n",
       "      <td>0</td>\n",
       "      <td>20</td>\n",
       "      <td>1</td>\n",
       "      <td>265000.00</td>\n",
       "      <td>1.9</td>\n",
       "      <td>130</td>\n",
       "      <td>1</td>\n",
       "      <td>0</td>\n",
       "      <td>4</td>\n",
       "    </tr>\n",
       "    <tr>\n",
       "      <th>1</th>\n",
       "      <td>55.0</td>\n",
       "      <td>0</td>\n",
       "      <td>7861</td>\n",
       "      <td>0</td>\n",
       "      <td>38</td>\n",
       "      <td>0</td>\n",
       "      <td>263358.03</td>\n",
       "      <td>1.1</td>\n",
       "      <td>136</td>\n",
       "      <td>1</td>\n",
       "      <td>0</td>\n",
       "      <td>6</td>\n",
       "    </tr>\n",
       "  </tbody>\n",
       "</table>\n",
       "</div>"
      ],
      "text/plain": [
       "    age  anaemia  creatinine_phosphokinase  diabetes  ejection_fraction  \\\n",
       "0  75.0        0                       582         0                 20   \n",
       "1  55.0        0                      7861         0                 38   \n",
       "\n",
       "   high_blood_pressure  platelets  serum_creatinine  serum_sodium  sex  \\\n",
       "0                    1  265000.00               1.9           130    1   \n",
       "1                    0  263358.03               1.1           136    1   \n",
       "\n",
       "   smoking  time  \n",
       "0        0     4  \n",
       "1        0     6  "
      ]
     },
     "execution_count": 37,
     "metadata": {},
     "output_type": "execute_result"
    }
   ],
   "source": [
    "x.head(2)"
   ]
  },
  {
   "cell_type": "code",
   "execution_count": 9,
   "id": "01ad5a8a",
   "metadata": {},
   "outputs": [],
   "source": [
    "from sklearn.model_selection import train_test_split\n",
    "x_train, x_test, y_train, y_test = train_test_split(x, y, test_size=0.2, random_state=100)"
   ]
  },
  {
   "cell_type": "code",
   "execution_count": 38,
   "id": "bdabf0bb",
   "metadata": {},
   "outputs": [],
   "source": [
    "from sklearn.linear_model import LogisticRegression, Ridge, Lasso\n",
    "from sklearn.neighbors import KNeighborsClassifier\n",
    "from sklearn.tree import DecisionTreeClassifier\n",
    "from sklearn.ensemble import RandomForestClassifier\n",
    "from sklearn.svm import SVC\n",
    "from lightgbm import LGBMClassifier\n",
    "from xgboost import XGBClassifier"
   ]
  },
  {
   "cell_type": "code",
   "execution_count": 39,
   "id": "02f98658",
   "metadata": {},
   "outputs": [],
   "source": [
    "lr = LogisticRegression()\n",
    "rid = Ridge()\n",
    "las = Lasso()\n",
    "tree = DecisionTreeClassifier()\n",
    "rfc = RandomForestClassifier()\n",
    "svc = SVC()\n",
    "lgb = LGBMClassifier()\n",
    "xx = XGBClassifier()"
   ]
  },
  {
   "cell_type": "code",
   "execution_count": 43,
   "id": "1e95201f",
   "metadata": {},
   "outputs": [],
   "source": [
    "from sklearn.metrics import classification_report, f1_score\n",
    "from sklearn.metrics import mean_absolute_error, mean_squared_error"
   ]
  },
  {
   "cell_type": "code",
   "execution_count": 44,
   "id": "a870ef9e",
   "metadata": {},
   "outputs": [],
   "source": [
    "from sklearn.metrics import roc_auc_score"
   ]
  },
  {
   "cell_type": "code",
   "execution_count": 42,
   "id": "e81354aa",
   "metadata": {},
   "outputs": [],
   "source": [
    "models = [lr, tree, rfc, svc, lgb, xx]"
   ]
  },
  {
   "cell_type": "code",
   "execution_count": 46,
   "id": "3b8989fe",
   "metadata": {},
   "outputs": [
    {
     "name": "stdout",
     "output_type": "stream",
     "text": [
      "LogisticRegression\n",
      "              precision    recall  f1-score   support\n",
      "\n",
      "           0       0.76      0.90      0.82        39\n",
      "           1       0.71      0.48      0.57        21\n",
      "\n",
      "    accuracy                           0.75        60\n",
      "   macro avg       0.74      0.69      0.70        60\n",
      "weighted avg       0.74      0.75      0.74        60\n",
      "\n",
      "0.75\n",
      "====================================================================================================\n",
      "DecisionTreeClassifier\n",
      "              precision    recall  f1-score   support\n",
      "\n",
      "           0       0.77      0.87      0.82        39\n",
      "           1       0.69      0.52      0.59        21\n",
      "\n",
      "    accuracy                           0.75        60\n",
      "   macro avg       0.73      0.70      0.71        60\n",
      "weighted avg       0.74      0.75      0.74        60\n",
      "\n",
      "0.75\n",
      "====================================================================================================\n",
      "RandomForestClassifier\n",
      "              precision    recall  f1-score   support\n",
      "\n",
      "           0       0.80      0.95      0.87        39\n",
      "           1       0.86      0.57      0.69        21\n",
      "\n",
      "    accuracy                           0.82        60\n",
      "   macro avg       0.83      0.76      0.78        60\n",
      "weighted avg       0.82      0.82      0.81        60\n",
      "\n",
      "0.8166666666666667\n",
      "====================================================================================================\n",
      "SVC\n",
      "              precision    recall  f1-score   support\n",
      "\n",
      "           0       0.65      1.00      0.79        39\n",
      "           1       0.00      0.00      0.00        21\n",
      "\n",
      "    accuracy                           0.65        60\n",
      "   macro avg       0.33      0.50      0.39        60\n",
      "weighted avg       0.42      0.65      0.51        60\n",
      "\n",
      "0.65\n",
      "====================================================================================================\n",
      "LGBMClassifier\n",
      "              precision    recall  f1-score   support\n",
      "\n",
      "           0       0.80      0.90      0.84        39\n",
      "           1       0.75      0.57      0.65        21\n",
      "\n",
      "    accuracy                           0.78        60\n",
      "   macro avg       0.77      0.73      0.75        60\n",
      "weighted avg       0.78      0.78      0.78        60\n",
      "\n",
      "0.7833333333333333\n",
      "====================================================================================================\n",
      "[11:13:29] WARNING: C:/Users/Administrator/workspace/xgboost-win64_release_1.5.1/src/learner.cc:1115: Starting in XGBoost 1.3.0, the default evaluation metric used with the objective 'binary:logistic' was changed from 'error' to 'logloss'. Explicitly set eval_metric if you'd like to restore the old behavior.\n",
      "XGBClassifier\n",
      "              precision    recall  f1-score   support\n",
      "\n",
      "           0       0.78      0.92      0.85        39\n",
      "           1       0.79      0.52      0.63        21\n",
      "\n",
      "    accuracy                           0.78        60\n",
      "   macro avg       0.78      0.72      0.74        60\n",
      "weighted avg       0.78      0.78      0.77        60\n",
      "\n",
      "0.7833333333333333\n",
      "====================================================================================================\n"
     ]
    }
   ],
   "source": [
    "for m in models:\n",
    "    m.fit(x_train, y_train)\n",
    "    pred = m.predict(x_test)\n",
    "#     pro = m.predict_proba(x_test)[:,1]\n",
    "    print(m.__class__.__name__)\n",
    "    print(classification_report(y_test, pred))\n",
    "#     print(roc_auc_score(y_test, pro))\n",
    "    print(m.score(x_test, y_test))\n",
    "    print('='*100)"
   ]
  },
  {
   "cell_type": "code",
   "execution_count": 47,
   "id": "91ee93b3",
   "metadata": {},
   "outputs": [],
   "source": [
    "models = [lr, rfc, lgb, xx]"
   ]
  },
  {
   "cell_type": "code",
   "execution_count": 48,
   "id": "c3228eeb",
   "metadata": {},
   "outputs": [
    {
     "name": "stdout",
     "output_type": "stream",
     "text": [
      "LogisticRegression\n",
      "              precision    recall  f1-score   support\n",
      "\n",
      "           0       0.76      0.90      0.82        39\n",
      "           1       0.71      0.48      0.57        21\n",
      "\n",
      "    accuracy                           0.75        60\n",
      "   macro avg       0.74      0.69      0.70        60\n",
      "weighted avg       0.74      0.75      0.74        60\n",
      "\n",
      "0.7716727716727717\n",
      "0.75\n",
      "====================================================================================================\n",
      "RandomForestClassifier\n",
      "              precision    recall  f1-score   support\n",
      "\n",
      "           0       0.80      0.92      0.86        39\n",
      "           1       0.80      0.57      0.67        21\n",
      "\n",
      "    accuracy                           0.80        60\n",
      "   macro avg       0.80      0.75      0.76        60\n",
      "weighted avg       0.80      0.80      0.79        60\n",
      "\n",
      "0.905982905982906\n",
      "0.8\n",
      "====================================================================================================\n",
      "LGBMClassifier\n",
      "              precision    recall  f1-score   support\n",
      "\n",
      "           0       0.80      0.90      0.84        39\n",
      "           1       0.75      0.57      0.65        21\n",
      "\n",
      "    accuracy                           0.78        60\n",
      "   macro avg       0.77      0.73      0.75        60\n",
      "weighted avg       0.78      0.78      0.78        60\n",
      "\n",
      "0.8351648351648351\n",
      "0.7833333333333333\n",
      "====================================================================================================\n",
      "[11:14:32] WARNING: C:/Users/Administrator/workspace/xgboost-win64_release_1.5.1/src/learner.cc:1115: Starting in XGBoost 1.3.0, the default evaluation metric used with the objective 'binary:logistic' was changed from 'error' to 'logloss'. Explicitly set eval_metric if you'd like to restore the old behavior.\n",
      "XGBClassifier\n",
      "              precision    recall  f1-score   support\n",
      "\n",
      "           0       0.78      0.92      0.85        39\n",
      "           1       0.79      0.52      0.63        21\n",
      "\n",
      "    accuracy                           0.78        60\n",
      "   macro avg       0.78      0.72      0.74        60\n",
      "weighted avg       0.78      0.78      0.77        60\n",
      "\n",
      "0.844932844932845\n",
      "0.7833333333333333\n",
      "====================================================================================================\n"
     ]
    }
   ],
   "source": [
    "for m in models:\n",
    "    m.fit(x_train, y_train)\n",
    "    pred = m.predict(x_test)\n",
    "    pro = m.predict_proba(x_test)[:,1]\n",
    "    print(m.__class__.__name__)\n",
    "    print(classification_report(y_test, pred))\n",
    "    print(roc_auc_score(y_test, pro))\n",
    "    print(m.score(x_test, y_test))\n",
    "    print('='*100)"
   ]
  },
  {
   "cell_type": "code",
   "execution_count": 25,
   "id": "f955d08e",
   "metadata": {},
   "outputs": [],
   "source": [
    "from sklearn.preprocessing import StandardScaler, MinMaxScaler"
   ]
  },
  {
   "cell_type": "code",
   "execution_count": 26,
   "id": "a291c0bc",
   "metadata": {},
   "outputs": [],
   "source": [
    "std = StandardScaler()\n",
    "mim = MinMaxScaler()"
   ]
  },
  {
   "cell_type": "code",
   "execution_count": 49,
   "id": "cc90da11",
   "metadata": {},
   "outputs": [],
   "source": [
    "std.fit(x_train)\n",
    "x_train_std = std.transform(x_train)\n",
    "x_test_std = std.transform(x_test)"
   ]
  },
  {
   "cell_type": "code",
   "execution_count": 51,
   "id": "fcb0fa20",
   "metadata": {},
   "outputs": [
    {
     "name": "stdout",
     "output_type": "stream",
     "text": [
      "LogisticRegression\n",
      "              precision    recall  f1-score   support\n",
      "\n",
      "           0       0.77      0.87      0.82        39\n",
      "           1       0.69      0.52      0.59        21\n",
      "\n",
      "    accuracy                           0.75        60\n",
      "   macro avg       0.73      0.70      0.71        60\n",
      "weighted avg       0.74      0.75      0.74        60\n",
      "\n",
      "0.7997557997557998\n",
      "0.75\n",
      "====================================================================================================\n",
      "RandomForestClassifier\n",
      "              precision    recall  f1-score   support\n",
      "\n",
      "           0       0.77      0.92      0.84        39\n",
      "           1       0.77      0.48      0.59        21\n",
      "\n",
      "    accuracy                           0.77        60\n",
      "   macro avg       0.77      0.70      0.71        60\n",
      "weighted avg       0.77      0.77      0.75        60\n",
      "\n",
      "0.9041514041514042\n",
      "0.7666666666666667\n",
      "====================================================================================================\n",
      "LGBMClassifier\n",
      "              precision    recall  f1-score   support\n",
      "\n",
      "           0       0.80      0.92      0.86        39\n",
      "           1       0.80      0.57      0.67        21\n",
      "\n",
      "    accuracy                           0.80        60\n",
      "   macro avg       0.80      0.75      0.76        60\n",
      "weighted avg       0.80      0.80      0.79        60\n",
      "\n",
      "0.8315018315018314\n",
      "0.8\n",
      "====================================================================================================\n",
      "[11:19:01] WARNING: C:/Users/Administrator/workspace/xgboost-win64_release_1.5.1/src/learner.cc:1115: Starting in XGBoost 1.3.0, the default evaluation metric used with the objective 'binary:logistic' was changed from 'error' to 'logloss'. Explicitly set eval_metric if you'd like to restore the old behavior.\n",
      "XGBClassifier\n",
      "              precision    recall  f1-score   support\n",
      "\n",
      "           0       0.78      0.92      0.85        39\n",
      "           1       0.79      0.52      0.63        21\n",
      "\n",
      "    accuracy                           0.78        60\n",
      "   macro avg       0.78      0.72      0.74        60\n",
      "weighted avg       0.78      0.78      0.77        60\n",
      "\n",
      "0.844932844932845\n",
      "0.7833333333333333\n",
      "====================================================================================================\n"
     ]
    }
   ],
   "source": [
    "models = [lr, rfc, lgb, xx]\n",
    "\n",
    "for m in models:\n",
    "    m.fit(x_train_std, y_train)\n",
    "    pred = m.predict(x_test_std)\n",
    "    pro = m.predict_proba(x_test_std)[:,1]\n",
    "    print(m.__class__.__name__)\n",
    "    print(classification_report(y_test, pred))\n",
    "    print(roc_auc_score(y_test, pro))\n",
    "    print(m.score(x_test_std, y_test))\n",
    "    print('='*100)"
   ]
  },
  {
   "cell_type": "code",
   "execution_count": null,
   "id": "f16bc569",
   "metadata": {},
   "outputs": [],
   "source": []
  },
  {
   "cell_type": "code",
   "execution_count": null,
   "id": "07400a09",
   "metadata": {},
   "outputs": [],
   "source": []
  },
  {
   "cell_type": "code",
   "execution_count": 24,
   "id": "6632278f",
   "metadata": {},
   "outputs": [
    {
     "ename": "NameError",
     "evalue": "name 'rmse' is not defined",
     "output_type": "error",
     "traceback": [
      "\u001b[1;31m---------------------------------------------------------------------------\u001b[0m",
      "\u001b[1;31mNameError\u001b[0m                                 Traceback (most recent call last)",
      "\u001b[1;32m~\\AppData\\Local\\Temp/ipykernel_9280/1899905056.py\u001b[0m in \u001b[0;36m<module>\u001b[1;34m\u001b[0m\n\u001b[0;32m      5\u001b[0m \u001b[0mlas_lr\u001b[0m \u001b[1;33m=\u001b[0m \u001b[0mlas\u001b[0m\u001b[1;33m.\u001b[0m\u001b[0mpredict\u001b[0m\u001b[1;33m(\u001b[0m\u001b[0mx_test\u001b[0m\u001b[1;33m)\u001b[0m\u001b[1;33m\u001b[0m\u001b[1;33m\u001b[0m\u001b[0m\n\u001b[0;32m      6\u001b[0m \u001b[1;33m\u001b[0m\u001b[0m\n\u001b[1;32m----> 7\u001b[1;33m \u001b[0mprint\u001b[0m\u001b[1;33m(\u001b[0m\u001b[1;34m'rig_rmse : '\u001b[0m\u001b[1;33m,\u001b[0m \u001b[0mrmse\u001b[0m\u001b[1;33m(\u001b[0m\u001b[0my_test\u001b[0m\u001b[1;33m,\u001b[0m \u001b[0mrid_lr\u001b[0m\u001b[1;33m)\u001b[0m\u001b[1;33m,\u001b[0m \u001b[1;34m'las_lr : '\u001b[0m\u001b[1;33m,\u001b[0m \u001b[0mrmse\u001b[0m\u001b[1;33m(\u001b[0m\u001b[0my_test\u001b[0m\u001b[1;33m,\u001b[0m \u001b[0mlas_lr\u001b[0m\u001b[1;33m)\u001b[0m\u001b[1;33m)\u001b[0m\u001b[1;33m\u001b[0m\u001b[1;33m\u001b[0m\u001b[0m\n\u001b[0m",
      "\u001b[1;31mNameError\u001b[0m: name 'rmse' is not defined"
     ]
    }
   ],
   "source": [
    "rid.fit(x_train, y_train)\n",
    "las.fit(x_train, y_train)\n",
    "\n",
    "rid_lr = rid.predict(x_test)\n",
    "las_lr = las.predict(x_test)\n",
    "\n",
    "print('rig_rmse : ', rmse(y_test, rid_lr), 'las_lr : ', rmse(y_test, las_lr))"
   ]
  },
  {
   "cell_type": "code",
   "execution_count": 52,
   "id": "1590f6f7",
   "metadata": {},
   "outputs": [],
   "source": [
    "from scipy.stats import skew"
   ]
  },
  {
   "cell_type": "code",
   "execution_count": 53,
   "id": "cd41e584",
   "metadata": {},
   "outputs": [
    {
     "data": {
      "text/plain": [
       "age                         0.420937\n",
       "anaemia                     0.276863\n",
       "creatinine_phosphokinase    4.440689\n",
       "diabetes                    0.332251\n",
       "ejection_fraction           0.552593\n",
       "high_blood_pressure         0.623583\n",
       "platelets                   1.454975\n",
       "serum_creatinine            4.433610\n",
       "serum_sodium               -1.042870\n",
       "sex                        -0.623583\n",
       "smoking                     0.766479\n",
       "time                        0.127161\n",
       "DEATH_EVENT                 0.766479\n",
       "dtype: float64"
      ]
     },
     "execution_count": 53,
     "metadata": {},
     "output_type": "execute_result"
    }
   ],
   "source": [
    "df.apply(lambda x: skew(x))"
   ]
  },
  {
   "cell_type": "code",
   "execution_count": null,
   "id": "92cb9ea1",
   "metadata": {},
   "outputs": [],
   "source": [
    "# ?????????????????????모르겠다"
   ]
  },
  {
   "cell_type": "code",
   "execution_count": null,
   "id": "bd03137c",
   "metadata": {},
   "outputs": [],
   "source": []
  },
  {
   "cell_type": "code",
   "execution_count": null,
   "id": "ab0d5207",
   "metadata": {},
   "outputs": [],
   "source": []
  },
  {
   "cell_type": "code",
   "execution_count": null,
   "id": "fff1332a",
   "metadata": {},
   "outputs": [],
   "source": []
  },
  {
   "cell_type": "code",
   "execution_count": null,
   "id": "62789755",
   "metadata": {},
   "outputs": [],
   "source": []
  },
  {
   "cell_type": "code",
   "execution_count": null,
   "id": "6e57c5bb",
   "metadata": {},
   "outputs": [],
   "source": []
  },
  {
   "cell_type": "code",
   "execution_count": null,
   "id": "27673b2c",
   "metadata": {},
   "outputs": [],
   "source": []
  }
 ],
 "metadata": {
  "kernelspec": {
   "display_name": "Python 3 (ipykernel)",
   "language": "python",
   "name": "python3"
  },
  "language_info": {
   "codemirror_mode": {
    "name": "ipython",
    "version": 3
   },
   "file_extension": ".py",
   "mimetype": "text/x-python",
   "name": "python",
   "nbconvert_exporter": "python",
   "pygments_lexer": "ipython3",
   "version": "3.9.7"
  },
  "varInspector": {
   "cols": {
    "lenName": 16,
    "lenType": 16,
    "lenVar": 40
   },
   "kernels_config": {
    "python": {
     "delete_cmd_postfix": "",
     "delete_cmd_prefix": "del ",
     "library": "var_list.py",
     "varRefreshCmd": "print(var_dic_list())"
    },
    "r": {
     "delete_cmd_postfix": ") ",
     "delete_cmd_prefix": "rm(",
     "library": "var_list.r",
     "varRefreshCmd": "cat(var_dic_list()) "
    }
   },
   "types_to_exclude": [
    "module",
    "function",
    "builtin_function_or_method",
    "instance",
    "_Feature"
   ],
   "window_display": false
  }
 },
 "nbformat": 4,
 "nbformat_minor": 5
}
