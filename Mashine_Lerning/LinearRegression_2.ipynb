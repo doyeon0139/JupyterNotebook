{
 "cells": [
  {
   "cell_type": "code",
   "execution_count": null,
   "id": "edeff7ad",
   "metadata": {},
   "outputs": [],
   "source": []
  },
  {
   "cell_type": "code",
   "execution_count": null,
   "id": "5a9601d3",
   "metadata": {},
   "outputs": [],
   "source": [
    "# machine Learnig\n",
    "# Supervised Learning(지도학습) - 예측하는 모델, 예측대상(y, target, Label)\n",
    "    # 1. Linear Algorithm(회귀) - 예측대상이 연속값(continuous)\n",
    "    # 2. Classifiation Algorithm(분류분석) - 예측대상이 불연속값(discrete) - binary, multi\n",
    "# Unsupervised Learning(비지도학습) - 예측하지 않음\n",
    "    # 1. clustering(군집분석) - 유사한 특성을 갖는 데이터끼리 묶는다\n"
   ]
  },
  {
   "cell_type": "code",
   "execution_count": null,
   "id": "d9e614dd",
   "metadata": {},
   "outputs": [],
   "source": []
  },
  {
   "cell_type": "code",
   "execution_count": 24,
   "id": "bb1ec499",
   "metadata": {},
   "outputs": [],
   "source": [
    "import pandas as pd\n",
    "import numpy as np\n",
    "import matplotlib.pyplot as plt\n",
    "import seaborn as sns\n",
    "\n",
    "from sklearn.linear_model import LinearRegression\n",
    "from sklearn.model_selection import train_test_split\n",
    "\n",
    "from sklearn.metrics import r2_score"
   ]
  },
  {
   "cell_type": "code",
   "execution_count": 3,
   "id": "62739447",
   "metadata": {},
   "outputs": [],
   "source": [
    "df = pd.read_csv('./ml_source_files/Ecommerce Customers.txt')"
   ]
  },
  {
   "cell_type": "code",
   "execution_count": 4,
   "id": "73b529c2",
   "metadata": {},
   "outputs": [
    {
     "data": {
      "text/html": [
       "<div>\n",
       "<style scoped>\n",
       "    .dataframe tbody tr th:only-of-type {\n",
       "        vertical-align: middle;\n",
       "    }\n",
       "\n",
       "    .dataframe tbody tr th {\n",
       "        vertical-align: top;\n",
       "    }\n",
       "\n",
       "    .dataframe thead th {\n",
       "        text-align: right;\n",
       "    }\n",
       "</style>\n",
       "<table border=\"1\" class=\"dataframe\">\n",
       "  <thead>\n",
       "    <tr style=\"text-align: right;\">\n",
       "      <th></th>\n",
       "      <th>Email</th>\n",
       "      <th>Address</th>\n",
       "      <th>Avatar</th>\n",
       "      <th>Avg. Session Length</th>\n",
       "      <th>Time on App</th>\n",
       "      <th>Time on Website</th>\n",
       "      <th>Length of Membership</th>\n",
       "      <th>Yearly Amount Spent</th>\n",
       "    </tr>\n",
       "  </thead>\n",
       "  <tbody>\n",
       "    <tr>\n",
       "      <th>0</th>\n",
       "      <td>mstephenson@fernandez.com</td>\n",
       "      <td>835 Frank Tunnel\\nWrightmouth, MI 82180-9605</td>\n",
       "      <td>Violet</td>\n",
       "      <td>34.497268</td>\n",
       "      <td>12.655651</td>\n",
       "      <td>39.577668</td>\n",
       "      <td>4.082621</td>\n",
       "      <td>587.951054</td>\n",
       "    </tr>\n",
       "    <tr>\n",
       "      <th>1</th>\n",
       "      <td>hduke@hotmail.com</td>\n",
       "      <td>4547 Archer Common\\nDiazchester, CA 06566-8576</td>\n",
       "      <td>DarkGreen</td>\n",
       "      <td>31.926272</td>\n",
       "      <td>11.109461</td>\n",
       "      <td>37.268959</td>\n",
       "      <td>2.664034</td>\n",
       "      <td>392.204933</td>\n",
       "    </tr>\n",
       "    <tr>\n",
       "      <th>2</th>\n",
       "      <td>pallen@yahoo.com</td>\n",
       "      <td>24645 Valerie Unions Suite 582\\nCobbborough, D...</td>\n",
       "      <td>Bisque</td>\n",
       "      <td>33.000915</td>\n",
       "      <td>11.330278</td>\n",
       "      <td>37.110597</td>\n",
       "      <td>4.104543</td>\n",
       "      <td>487.547505</td>\n",
       "    </tr>\n",
       "    <tr>\n",
       "      <th>3</th>\n",
       "      <td>riverarebecca@gmail.com</td>\n",
       "      <td>1414 David Throughway\\nPort Jason, OH 22070-1220</td>\n",
       "      <td>SaddleBrown</td>\n",
       "      <td>34.305557</td>\n",
       "      <td>13.717514</td>\n",
       "      <td>36.721283</td>\n",
       "      <td>3.120179</td>\n",
       "      <td>581.852344</td>\n",
       "    </tr>\n",
       "    <tr>\n",
       "      <th>4</th>\n",
       "      <td>mstephens@davidson-herman.com</td>\n",
       "      <td>14023 Rodriguez Passage\\nPort Jacobville, PR 3...</td>\n",
       "      <td>MediumAquaMarine</td>\n",
       "      <td>33.330673</td>\n",
       "      <td>12.795189</td>\n",
       "      <td>37.536653</td>\n",
       "      <td>4.446308</td>\n",
       "      <td>599.406092</td>\n",
       "    </tr>\n",
       "  </tbody>\n",
       "</table>\n",
       "</div>"
      ],
      "text/plain": [
       "                           Email  \\\n",
       "0      mstephenson@fernandez.com   \n",
       "1              hduke@hotmail.com   \n",
       "2               pallen@yahoo.com   \n",
       "3        riverarebecca@gmail.com   \n",
       "4  mstephens@davidson-herman.com   \n",
       "\n",
       "                                             Address            Avatar  \\\n",
       "0       835 Frank Tunnel\\nWrightmouth, MI 82180-9605            Violet   \n",
       "1     4547 Archer Common\\nDiazchester, CA 06566-8576         DarkGreen   \n",
       "2  24645 Valerie Unions Suite 582\\nCobbborough, D...            Bisque   \n",
       "3   1414 David Throughway\\nPort Jason, OH 22070-1220       SaddleBrown   \n",
       "4  14023 Rodriguez Passage\\nPort Jacobville, PR 3...  MediumAquaMarine   \n",
       "\n",
       "   Avg. Session Length  Time on App  Time on Website  Length of Membership  \\\n",
       "0            34.497268    12.655651        39.577668              4.082621   \n",
       "1            31.926272    11.109461        37.268959              2.664034   \n",
       "2            33.000915    11.330278        37.110597              4.104543   \n",
       "3            34.305557    13.717514        36.721283              3.120179   \n",
       "4            33.330673    12.795189        37.536653              4.446308   \n",
       "\n",
       "   Yearly Amount Spent  \n",
       "0           587.951054  \n",
       "1           392.204933  \n",
       "2           487.547505  \n",
       "3           581.852344  \n",
       "4           599.406092  "
      ]
     },
     "execution_count": 4,
     "metadata": {},
     "output_type": "execute_result"
    }
   ],
   "source": [
    "df.head()"
   ]
  },
  {
   "cell_type": "code",
   "execution_count": null,
   "id": "0a129b5a",
   "metadata": {},
   "outputs": [],
   "source": []
  },
  {
   "cell_type": "code",
   "execution_count": null,
   "id": "6b942a89",
   "metadata": {},
   "outputs": [],
   "source": [
    "# 연간 지출금액을 예측하는 회귀모델"
   ]
  },
  {
   "cell_type": "code",
   "execution_count": null,
   "id": "bf5bf985",
   "metadata": {},
   "outputs": [],
   "source": []
  },
  {
   "cell_type": "code",
   "execution_count": 10,
   "id": "35265caf",
   "metadata": {},
   "outputs": [],
   "source": [
    "y = df['Yearly Amount Spent']"
   ]
  },
  {
   "cell_type": "code",
   "execution_count": 19,
   "id": "73858de3",
   "metadata": {},
   "outputs": [],
   "source": [
    "# x = df.drop(['Yearly Amount Spent', 'Address', 'Email, Length of Membership'], axis=1)   \n",
    "x = df.drop(['Yearly Amount Spent','Address', 'Email', 'Avatar'], axis=1)   "
   ]
  },
  {
   "cell_type": "code",
   "execution_count": null,
   "id": "4da75408",
   "metadata": {},
   "outputs": [],
   "source": [
    "# train, test로 분리\n",
    "# train - 학습용 데이터\n",
    "# test - 모델을 평가 시 사용할 데이터 (모델을 테스트할 때는 모델을 훈련할 때 이용한 데이터가 포함되면 안됨)"
   ]
  },
  {
   "cell_type": "code",
   "execution_count": null,
   "id": "452433e2",
   "metadata": {},
   "outputs": [],
   "source": [
    "# x_train = x[:300]\n",
    "# x_test = x[300:]\n",
    "\n",
    "# y_train = x[:300]\n",
    "# y_test = x[300:]"
   ]
  },
  {
   "cell_type": "code",
   "execution_count": 20,
   "id": "42beda72",
   "metadata": {},
   "outputs": [],
   "source": [
    "x_train, x_test, y_train, y_test = train_test_split(x,y, test_size=0.2, random_state=111)        # shuffle"
   ]
  },
  {
   "cell_type": "code",
   "execution_count": null,
   "id": "3a687df9",
   "metadata": {},
   "outputs": [],
   "source": [
    "#LinearRegression Algoritm 을 import"
   ]
  },
  {
   "cell_type": "code",
   "execution_count": 21,
   "id": "1a866217",
   "metadata": {},
   "outputs": [],
   "source": [
    "lr = LinearRegression()"
   ]
  },
  {
   "cell_type": "code",
   "execution_count": 17,
   "id": "9e30ed76",
   "metadata": {},
   "outputs": [],
   "source": [
    "# Algorithm(- machine model) train -> fit()"
   ]
  },
  {
   "cell_type": "code",
   "execution_count": 22,
   "id": "885736fc",
   "metadata": {},
   "outputs": [
    {
     "data": {
      "text/plain": [
       "LinearRegression()"
      ]
     },
     "execution_count": 22,
     "metadata": {},
     "output_type": "execute_result"
    }
   ],
   "source": [
    "lr.fit(x_train, y_train)"
   ]
  },
  {
   "cell_type": "code",
   "execution_count": null,
   "id": "44e361df",
   "metadata": {},
   "outputs": [],
   "source": [
    "# predict"
   ]
  },
  {
   "cell_type": "code",
   "execution_count": 26,
   "id": "12c76d5c",
   "metadata": {},
   "outputs": [],
   "source": [
    "preds = lr.predict(x_test)"
   ]
  },
  {
   "cell_type": "code",
   "execution_count": null,
   "id": "993098ca",
   "metadata": {},
   "outputs": [],
   "source": [
    "# model evaluation"
   ]
  },
  {
   "cell_type": "code",
   "execution_count": 27,
   "id": "dda19cb0",
   "metadata": {},
   "outputs": [
    {
     "data": {
      "text/plain": [
       "0.9850895763407302"
      ]
     },
     "execution_count": 27,
     "metadata": {},
     "output_type": "execute_result"
    }
   ],
   "source": [
    "r2_score(preds, y_test)   # 회귀모델의 설명력 : ssr/sst "
   ]
  },
  {
   "cell_type": "code",
   "execution_count": null,
   "id": "c15583d6",
   "metadata": {},
   "outputs": [],
   "source": []
  },
  {
   "cell_type": "code",
   "execution_count": 29,
   "id": "4261d482",
   "metadata": {},
   "outputs": [],
   "source": [
    "from sklearn.metrics import mean_squared_error, mean_absolute_error"
   ]
  },
  {
   "cell_type": "code",
   "execution_count": null,
   "id": "cf31e1a8",
   "metadata": {},
   "outputs": [],
   "source": [
    "# MSE : sig(y - y_hat)**2\n",
    "# RMSE : np.sqrt(sig(y- y_hat)**2)\n",
    "# MAE : sig(abs(y - y_hat))"
   ]
  },
  {
   "cell_type": "code",
   "execution_count": 31,
   "id": "787d5321",
   "metadata": {},
   "outputs": [
    {
     "name": "stdout",
     "output_type": "stream",
     "text": [
      "MSE :  105.36217783098961\n",
      "RMSE :  10.264608021302596\n",
      "MAE :  8.101929980887258\n"
     ]
    }
   ],
   "source": [
    "print('MSE : ', mean_squared_error(y_test, preds))\n",
    "print('RMSE : ', np.sqrt(mean_squared_error(y_test, preds)))\n",
    "print('MAE : ', mean_absolute_error(y_test, preds))"
   ]
  },
  {
   "cell_type": "code",
   "execution_count": null,
   "id": "b55d01db",
   "metadata": {},
   "outputs": [],
   "source": []
  },
  {
   "cell_type": "code",
   "execution_count": 32,
   "id": "e720da50",
   "metadata": {},
   "outputs": [
    {
     "data": {
      "text/plain": [
       "[<matplotlib.lines.Line2D at 0x20076bea7c0>]"
      ]
     },
     "execution_count": 32,
     "metadata": {},
     "output_type": "execute_result"
    },
    {
     "data": {
      "image/png": "[encoded data removed]",
      "text/plain": [
       "<Figure size 432x288 with 1 Axes>"
      ]
     },
     "metadata": {
      "needs_background": "light"
     },
     "output_type": "display_data"
    }
   ],
   "source": [
    "plt.plot(preds)"
   ]
  },
  {
   "cell_type": "code",
   "execution_count": 35,
   "id": "3675e72f",
   "metadata": {},
   "outputs": [
    {
     "data": {
      "text/plain": [
       "[<matplotlib.lines.Line2D at 0x2007939ab50>]"
      ]
     },
     "execution_count": 35,
     "metadata": {},
     "output_type": "execute_result"
    },
    {
     "data": {
      "image/png": "[encoded data removed]",
      "text/plain": [
       "<Figure size 432x288 with 1 Axes>"
      ]
     },
     "metadata": {
      "needs_background": "light"
     },
     "output_type": "display_data"
    }
   ],
   "source": [
    "plt.plot(y_test.values)"
   ]
  },
  {
   "cell_type": "code",
   "execution_count": 34,
   "id": "1deb5957",
   "metadata": {},
   "outputs": [
    {
     "data": {
      "text/plain": [
       "292    584.218313\n",
       "337    440.002748\n",
       "430    556.186369\n",
       "399    408.216902\n",
       "380    527.783790\n",
       "          ...    \n",
       "472    469.383146\n",
       "89     505.113344\n",
       "448    478.584286\n",
       "381    547.190749\n",
       "199    467.501900\n",
       "Name: Yearly Amount Spent, Length: 100, dtype: float64"
      ]
     },
     "execution_count": 34,
     "metadata": {},
     "output_type": "execute_result"
    }
   ],
   "source": [
    "y_test"
   ]
  },
  {
   "cell_type": "code",
   "execution_count": null,
   "id": "af5efa58",
   "metadata": {},
   "outputs": [],
   "source": []
  },
  {
   "cell_type": "code",
   "execution_count": null,
   "id": "a47c3531",
   "metadata": {},
   "outputs": [],
   "source": []
  },
  {
   "cell_type": "code",
   "execution_count": null,
   "id": "fb025ffa",
   "metadata": {},
   "outputs": [],
   "source": []
  },
  {
   "cell_type": "code",
   "execution_count": null,
   "id": "6af46f45",
   "metadata": {},
   "outputs": [],
   "source": []
  }
 ],
 "metadata": {
  "kernelspec": {
   "display_name": "Python 3 (ipykernel)",
   "language": "python",
   "name": "python3"
  },
  "language_info": {
   "codemirror_mode": {
    "name": "ipython",
    "version": 3
   },
   "file_extension": ".py",
   "mimetype": "text/x-python",
   "name": "python",
   "nbconvert_exporter": "python",
   "pygments_lexer": "ipython3",
   "version": "3.9.7"
  },
  "varInspector": {
   "cols": {
    "lenName": 16,
    "lenType": 16,
    "lenVar": 40
   },
   "kernels_config": {
    "python": {
     "delete_cmd_postfix": "",
     "delete_cmd_prefix": "del ",
     "library": "var_list.py",
     "varRefreshCmd": "print(var_dic_list())"
    },
    "r": {
     "delete_cmd_postfix": ") ",
     "delete_cmd_prefix": "rm(",
     "library": "var_list.r",
     "varRefreshCmd": "cat(var_dic_list()) "
    }
   },
   "types_to_exclude": [
    "module",
    "function",
    "builtin_function_or_method",
    "instance",
    "_Feature"
   ],
   "window_display": false
  }
 },
 "nbformat": 4,
 "nbformat_minor": 5
}
