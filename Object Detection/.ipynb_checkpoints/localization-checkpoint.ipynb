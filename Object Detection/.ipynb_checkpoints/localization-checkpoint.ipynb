{
 "cells": [
  {
   "cell_type": "code",
   "execution_count": 1,
   "id": "fa77d688",
   "metadata": {},
   "outputs": [
    {
     "name": "stdout",
     "output_type": "stream",
     "text": [
      "Requirement already satisfied: opencv-python in c:\\users\\bitcamp\\anaconda3\\lib\\site-packages (4.5.5.64)\n",
      "Requirement already satisfied: numpy>=1.14.5 in c:\\users\\bitcamp\\anaconda3\\lib\\site-packages (from opencv-python) (1.22.1)\n"
     ]
    }
   ],
   "source": [
    "# !pip install opencv-python"
   ]
  },
  {
   "cell_type": "code",
   "execution_count": 2,
   "id": "4b911679",
   "metadata": {},
   "outputs": [],
   "source": [
    "import cv2\n",
    "import numpy as np\n",
    "import matplotlib.pyplot as plt\n",
    "import random\n",
    "import tqdm"
   ]
  },
  {
   "cell_type": "code",
   "execution_count": 5,
   "id": "5ca3c059",
   "metadata": {},
   "outputs": [
    {
     "data": {
      "text/plain": [
       "<matplotlib.image.AxesImage at 0x1a47f1949d0>"
      ]
     },
     "execution_count": 5,
     "metadata": {},
     "output_type": "execute_result"
    },
    {
     "data": {
      "image/png": "[encoded data removed]",
      "text/plain": [
       "<Figure size 432x288 with 1 Axes>"
      ]
     },
     "metadata": {
      "needs_background": "light"
     },
     "output_type": "display_data"
    }
   ],
   "source": [
    "image_size = 200\n",
    "rad = random.randint(5,50)\n",
    "c_x = random.randint(rad, image_size-rad)\n",
    "c_y = random.randint(rad, image_size-rad)\n",
    "blank_image = np.ones(shape=[image_size, image_size], dtype=np.uint8)\n",
    "cv2.circle(blank_image, (c_x, c_y), rad, 0, -1)\n",
    "plt.imshow(blank_image,cmap='gray')"
   ]
  },
  {
   "cell_type": "code",
   "execution_count": 7,
   "id": "6cb47c23",
   "metadata": {},
   "outputs": [],
   "source": [
    "def create_training_Date():\n",
    "    \n",
    "    l = 10000;\n",
    "    x_train = np.zeros(shape=[l, image_size, image_size, 1])\n",
    "    y_train = np.zeros(shape=[l, 3])\n",
    "    \n",
    "    for i in range(l):\n",
    "        rad = random.randint(5, 50)\n",
    "        c_x = random.randint(rad, image_size-rad)\n",
    "        c_y = random.randint(rad, image_size-rad)\n",
    "        \n",
    "        y_train[i, 0] = c_x/image_size\n",
    "        y_train[i, 1] = c_y/image_size\n",
    "        y_train[i, 2] = rad/image_size\n",
    "        \n",
    "        blank_image = np.ones(shape=[image_size, image_size], dtype= np.uint8)\n",
    "        x_train[i,:,:,0] = cv2.circle(blank_image, (c_x, c_y), rad, 0, -1)\n",
    "        \n",
    "    return {'x_train': x_train, 'y_train': y_train}"
   ]
  },
  {
   "cell_type": "code",
   "execution_count": 8,
   "id": "ab99796a",
   "metadata": {},
   "outputs": [],
   "source": [
    "training_data = create_training_Date()"
   ]
  },
  {
   "cell_type": "code",
   "execution_count": 9,
   "id": "73813ba2",
   "metadata": {},
   "outputs": [
    {
     "data": {
      "text/plain": [
       "{'x_train': array([[[[1.],\n",
       "          [1.],\n",
       "          [1.],\n",
       "          ...,\n",
       "          [1.],\n",
       "          [1.],\n",
       "          [1.]],\n",
       " \n",
       "         [[1.],\n",
       "          [1.],\n",
       "          [1.],\n",
       "          ...,\n",
       "          [1.],\n",
       "          [1.],\n",
       "          [1.]],\n",
       " \n",
       "         [[1.],\n",
       "          [1.],\n",
       "          [1.],\n",
       "          ...,\n",
       "          [1.],\n",
       "          [1.],\n",
       "          [1.]],\n",
       " \n",
       "         ...,\n",
       " \n",
       "         [[1.],\n",
       "          [1.],\n",
       "          [1.],\n",
       "          ...,\n",
       "          [1.],\n",
       "          [1.],\n",
       "          [1.]],\n",
       " \n",
       "         [[1.],\n",
       "          [1.],\n",
       "          [1.],\n",
       "          ...,\n",
       "          [1.],\n",
       "          [1.],\n",
       "          [1.]],\n",
       " \n",
       "         [[1.],\n",
       "          [1.],\n",
       "          [1.],\n",
       "          ...,\n",
       "          [1.],\n",
       "          [1.],\n",
       "          [1.]]],\n",
       " \n",
       " \n",
       "        [[[1.],\n",
       "          [1.],\n",
       "          [1.],\n",
       "          ...,\n",
       "          [1.],\n",
       "          [1.],\n",
       "          [1.]],\n",
       " \n",
       "         [[1.],\n",
       "          [1.],\n",
       "          [1.],\n",
       "          ...,\n",
       "          [1.],\n",
       "          [1.],\n",
       "          [1.]],\n",
       " \n",
       "         [[1.],\n",
       "          [1.],\n",
       "          [1.],\n",
       "          ...,\n",
       "          [1.],\n",
       "          [1.],\n",
       "          [1.]],\n",
       " \n",
       "         ...,\n",
       " \n",
       "         [[1.],\n",
       "          [1.],\n",
       "          [1.],\n",
       "          ...,\n",
       "          [1.],\n",
       "          [1.],\n",
       "          [1.]],\n",
       " \n",
       "         [[1.],\n",
       "          [1.],\n",
       "          [1.],\n",
       "          ...,\n",
       "          [1.],\n",
       "          [1.],\n",
       "          [1.]],\n",
       " \n",
       "         [[1.],\n",
       "          [1.],\n",
       "          [1.],\n",
       "          ...,\n",
       "          [1.],\n",
       "          [1.],\n",
       "          [1.]]],\n",
       " \n",
       " \n",
       "        [[[1.],\n",
       "          [1.],\n",
       "          [1.],\n",
       "          ...,\n",
       "          [1.],\n",
       "          [1.],\n",
       "          [1.]],\n",
       " \n",
       "         [[1.],\n",
       "          [1.],\n",
       "          [1.],\n",
       "          ...,\n",
       "          [1.],\n",
       "          [1.],\n",
       "          [1.]],\n",
       " \n",
       "         [[1.],\n",
       "          [1.],\n",
       "          [1.],\n",
       "          ...,\n",
       "          [1.],\n",
       "          [1.],\n",
       "          [1.]],\n",
       " \n",
       "         ...,\n",
       " \n",
       "         [[1.],\n",
       "          [1.],\n",
       "          [1.],\n",
       "          ...,\n",
       "          [1.],\n",
       "          [1.],\n",
       "          [1.]],\n",
       " \n",
       "         [[1.],\n",
       "          [1.],\n",
       "          [1.],\n",
       "          ...,\n",
       "          [1.],\n",
       "          [1.],\n",
       "          [1.]],\n",
       " \n",
       "         [[1.],\n",
       "          [1.],\n",
       "          [1.],\n",
       "          ...,\n",
       "          [1.],\n",
       "          [1.],\n",
       "          [1.]]],\n",
       " \n",
       " \n",
       "        ...,\n",
       " \n",
       " \n",
       "        [[[1.],\n",
       "          [1.],\n",
       "          [1.],\n",
       "          ...,\n",
       "          [1.],\n",
       "          [1.],\n",
       "          [1.]],\n",
       " \n",
       "         [[1.],\n",
       "          [1.],\n",
       "          [1.],\n",
       "          ...,\n",
       "          [1.],\n",
       "          [1.],\n",
       "          [1.]],\n",
       " \n",
       "         [[1.],\n",
       "          [1.],\n",
       "          [1.],\n",
       "          ...,\n",
       "          [1.],\n",
       "          [1.],\n",
       "          [1.]],\n",
       " \n",
       "         ...,\n",
       " \n",
       "         [[1.],\n",
       "          [1.],\n",
       "          [1.],\n",
       "          ...,\n",
       "          [1.],\n",
       "          [1.],\n",
       "          [1.]],\n",
       " \n",
       "         [[1.],\n",
       "          [1.],\n",
       "          [1.],\n",
       "          ...,\n",
       "          [1.],\n",
       "          [1.],\n",
       "          [1.]],\n",
       " \n",
       "         [[1.],\n",
       "          [1.],\n",
       "          [1.],\n",
       "          ...,\n",
       "          [1.],\n",
       "          [1.],\n",
       "          [1.]]],\n",
       " \n",
       " \n",
       "        [[[1.],\n",
       "          [1.],\n",
       "          [1.],\n",
       "          ...,\n",
       "          [1.],\n",
       "          [1.],\n",
       "          [1.]],\n",
       " \n",
       "         [[1.],\n",
       "          [1.],\n",
       "          [1.],\n",
       "          ...,\n",
       "          [1.],\n",
       "          [1.],\n",
       "          [1.]],\n",
       " \n",
       "         [[1.],\n",
       "          [1.],\n",
       "          [1.],\n",
       "          ...,\n",
       "          [1.],\n",
       "          [1.],\n",
       "          [1.]],\n",
       " \n",
       "         ...,\n",
       " \n",
       "         [[1.],\n",
       "          [1.],\n",
       "          [1.],\n",
       "          ...,\n",
       "          [1.],\n",
       "          [1.],\n",
       "          [1.]],\n",
       " \n",
       "         [[1.],\n",
       "          [1.],\n",
       "          [1.],\n",
       "          ...,\n",
       "          [1.],\n",
       "          [1.],\n",
       "          [1.]],\n",
       " \n",
       "         [[1.],\n",
       "          [1.],\n",
       "          [1.],\n",
       "          ...,\n",
       "          [1.],\n",
       "          [1.],\n",
       "          [1.]]],\n",
       " \n",
       " \n",
       "        [[[1.],\n",
       "          [1.],\n",
       "          [1.],\n",
       "          ...,\n",
       "          [1.],\n",
       "          [1.],\n",
       "          [1.]],\n",
       " \n",
       "         [[1.],\n",
       "          [1.],\n",
       "          [1.],\n",
       "          ...,\n",
       "          [1.],\n",
       "          [1.],\n",
       "          [1.]],\n",
       " \n",
       "         [[1.],\n",
       "          [1.],\n",
       "          [1.],\n",
       "          ...,\n",
       "          [1.],\n",
       "          [1.],\n",
       "          [1.]],\n",
       " \n",
       "         ...,\n",
       " \n",
       "         [[1.],\n",
       "          [1.],\n",
       "          [1.],\n",
       "          ...,\n",
       "          [1.],\n",
       "          [1.],\n",
       "          [1.]],\n",
       " \n",
       "         [[1.],\n",
       "          [1.],\n",
       "          [1.],\n",
       "          ...,\n",
       "          [1.],\n",
       "          [1.],\n",
       "          [1.]],\n",
       " \n",
       "         [[1.],\n",
       "          [1.],\n",
       "          [1.],\n",
       "          ...,\n",
       "          [1.],\n",
       "          [1.],\n",
       "          [1.]]]]),\n",
       " 'y_train': array([[0.73 , 0.305, 0.215],\n",
       "        [0.73 , 0.45 , 0.225],\n",
       "        [0.44 , 0.455, 0.125],\n",
       "        ...,\n",
       "        [0.29 , 0.215, 0.165],\n",
       "        [0.455, 0.45 , 0.05 ],\n",
       "        [0.31 , 0.5  , 0.235]])}"
      ]
     },
     "execution_count": 9,
     "metadata": {},
     "output_type": "execute_result"
    }
   ],
   "source": [
    "training_data"
   ]
  },
  {
   "cell_type": "code",
   "execution_count": 12,
   "id": "626219cc",
   "metadata": {},
   "outputs": [
    {
     "data": {
      "text/plain": [
       "array([123., 106.,  43.])"
      ]
     },
     "execution_count": 12,
     "metadata": {},
     "output_type": "execute_result"
    },
    {
     "data": {
      "image/png": "[encoded data removed]",
      "text/plain": [
       "<Figure size 432x288 with 1 Axes>"
      ]
     },
     "metadata": {
      "needs_background": "light"
     },
     "output_type": "display_data"
    }
   ],
   "source": [
    "plt.imshow(training_data['x_train'][200].reshape(200,200), cmap='gray')\n",
    "image_size*training_data['y_train'][200]"
   ]
  },
  {
   "cell_type": "code",
   "execution_count": 13,
   "id": "1bf37800",
   "metadata": {},
   "outputs": [],
   "source": [
    "import tensorflow\n",
    "from tensorflow.keras import layers\n",
    "from tensorflow.keras import Model"
   ]
  },
  {
   "cell_type": "code",
   "execution_count": 18,
   "id": "caa2ae1f",
   "metadata": {},
   "outputs": [
    {
     "name": "stdout",
     "output_type": "stream",
     "text": [
      "Model: \"model_2\"\n",
      "_________________________________________________________________\n",
      " Layer (type)                Output Shape              Param #   \n",
      "=================================================================\n",
      " input_4 (InputLayer)        [(None, 200, 200, 1)]     0         \n",
      "                                                                 \n",
      " conv2d_10 (Conv2D)          (None, 200, 200, 5)       50        \n",
      "                                                                 \n",
      " max_pooling2d_10 (MaxPoolin  (None, 100, 100, 5)      0         \n",
      " g2D)                                                            \n",
      "                                                                 \n",
      " conv2d_11 (Conv2D)          (None, 100, 100, 10)      460       \n",
      "                                                                 \n",
      " max_pooling2d_11 (MaxPoolin  (None, 50, 50, 10)       0         \n",
      " g2D)                                                            \n",
      "                                                                 \n",
      " conv2d_12 (Conv2D)          (None, 50, 50, 20)        1820      \n",
      "                                                                 \n",
      " max_pooling2d_12 (MaxPoolin  (None, 25, 25, 20)       0         \n",
      " g2D)                                                            \n",
      "                                                                 \n",
      " conv2d_13 (Conv2D)          (None, 25, 25, 3)         1503      \n",
      "                                                                 \n",
      " flatten_2 (Flatten)         (None, 1875)              0         \n",
      "                                                                 \n",
      " dense_2 (Dense)             (None, 3)                 5628      \n",
      "                                                                 \n",
      "=================================================================\n",
      "Total params: 9,461\n",
      "Trainable params: 9,461\n",
      "Non-trainable params: 0\n",
      "_________________________________________________________________\n"
     ]
    }
   ],
   "source": [
    "img_input = layers.Input(shape=(image_size, image_size, 1))\n",
    "\n",
    "x = layers.Conv2D(5,3, activation='relu', strides=1, padding='same')(img_input)\n",
    "x = layers.MaxPool2D(pool_size=2)(x)\n",
    "x = layers.Conv2D(10,3, activation='relu', strides=1, padding='same')(x)\n",
    "x = layers.MaxPool2D(pool_size=2)(x)\n",
    "x = layers.Conv2D(20,3, activation='relu', strides=1, padding='same')(x)\n",
    "x = layers.MaxPool2D(pool_size=2)(x)\n",
    "x = layers.Conv2D(3,5, activation='relu', strides=1, padding='same')(x)\n",
    "\n",
    "x = layers.Flatten()(x)\n",
    "\n",
    "output = layers.Dense(3, activation='relu')(x)\n",
    "\n",
    "model = Model(img_input, output)\n",
    "\n",
    "model.summary()"
   ]
  },
  {
   "cell_type": "code",
   "execution_count": 19,
   "id": "d2ee9f52",
   "metadata": {},
   "outputs": [],
   "source": [
    "model.compile(loss='mean_squared_error', optimizer='adam', metrics=['mse'])"
   ]
  },
  {
   "cell_type": "code",
   "execution_count": 35,
   "id": "f0577119",
   "metadata": {},
   "outputs": [
    {
     "name": "stdout",
     "output_type": "stream",
     "text": [
      "Epoch 1/20\n",
      "250/250 [==============================] - 2s 9ms/step - loss: 9.2727e-05 - mse: 9.2727e-05 - val_loss: 1.0938e-04 - val_mse: 1.0938e-04\n",
      "Epoch 2/20\n",
      "250/250 [==============================] - 2s 10ms/step - loss: 1.0267e-04 - mse: 1.0267e-04 - val_loss: 1.3715e-04 - val_mse: 1.3715e-04\n",
      "Epoch 3/20\n",
      "250/250 [==============================] - 2s 9ms/step - loss: 8.4148e-05 - mse: 8.4148e-05 - val_loss: 8.4506e-05 - val_mse: 8.4506e-05\n",
      "Epoch 4/20\n",
      "250/250 [==============================] - 2s 10ms/step - loss: 7.4136e-05 - mse: 7.4136e-05 - val_loss: 1.0287e-04 - val_mse: 1.0287e-04\n",
      "Epoch 5/20\n",
      "250/250 [==============================] - 2s 10ms/step - loss: 6.7568e-05 - mse: 6.7568e-05 - val_loss: 1.0774e-04 - val_mse: 1.0774e-04\n",
      "Epoch 6/20\n",
      "250/250 [==============================] - 2s 9ms/step - loss: 6.6870e-05 - mse: 6.6870e-05 - val_loss: 9.9649e-05 - val_mse: 9.9649e-05\n",
      "Epoch 7/20\n",
      "250/250 [==============================] - 2s 10ms/step - loss: 8.4616e-04 - mse: 8.4616e-04 - val_loss: 6.1356e-04 - val_mse: 6.1356e-04\n",
      "Epoch 8/20\n",
      "250/250 [==============================] - 2s 10ms/step - loss: 2.1985e-04 - mse: 2.1985e-04 - val_loss: 1.3156e-04 - val_mse: 1.3156e-04\n",
      "Epoch 9/20\n",
      "250/250 [==============================] - 2s 10ms/step - loss: 1.1096e-04 - mse: 1.1096e-04 - val_loss: 1.1985e-04 - val_mse: 1.1985e-04\n",
      "Epoch 10/20\n",
      "250/250 [==============================] - 2s 10ms/step - loss: 8.9093e-05 - mse: 8.9093e-05 - val_loss: 1.0959e-04 - val_mse: 1.0959e-04\n",
      "Epoch 11/20\n",
      "250/250 [==============================] - 2s 10ms/step - loss: 8.0889e-05 - mse: 8.0889e-05 - val_loss: 9.3223e-05 - val_mse: 9.3223e-05\n",
      "Epoch 12/20\n",
      "250/250 [==============================] - 2s 10ms/step - loss: 7.2583e-05 - mse: 7.2583e-05 - val_loss: 8.5616e-05 - val_mse: 8.5616e-05\n",
      "Epoch 13/20\n",
      "250/250 [==============================] - 2s 10ms/step - loss: 6.3411e-05 - mse: 6.3411e-05 - val_loss: 8.4210e-05 - val_mse: 8.4210e-05\n",
      "Epoch 14/20\n",
      "250/250 [==============================] - 2s 10ms/step - loss: 6.1619e-05 - mse: 6.1619e-05 - val_loss: 1.5309e-04 - val_mse: 1.5309e-04\n",
      "Epoch 15/20\n",
      "250/250 [==============================] - 2s 10ms/step - loss: 6.2419e-05 - mse: 6.2419e-05 - val_loss: 9.1902e-05 - val_mse: 9.1902e-05\n",
      "Epoch 16/20\n",
      "250/250 [==============================] - 2s 10ms/step - loss: 7.0072e-05 - mse: 7.0072e-05 - val_loss: 1.1030e-04 - val_mse: 1.1030e-04\n",
      "Epoch 17/20\n",
      "250/250 [==============================] - 2s 10ms/step - loss: 5.6289e-05 - mse: 5.6289e-05 - val_loss: 8.4716e-05 - val_mse: 8.4716e-05\n",
      "Epoch 18/20\n",
      "250/250 [==============================] - 2s 10ms/step - loss: 4.9374e-05 - mse: 4.9374e-05 - val_loss: 8.3869e-05 - val_mse: 8.3869e-05\n",
      "Epoch 19/20\n",
      "250/250 [==============================] - 2s 10ms/step - loss: 5.2782e-05 - mse: 5.2782e-05 - val_loss: 8.9957e-05 - val_mse: 8.9957e-05\n",
      "Epoch 20/20\n",
      "250/250 [==============================] - 2s 10ms/step - loss: 5.1714e-05 - mse: 5.1714e-05 - val_loss: 5.5599e-05 - val_mse: 5.5599e-05\n"
     ]
    }
   ],
   "source": [
    "hist = model.fit(training_data['x_train'], training_data['y_train'], epochs=20, verbose=1, validation_split=0.2)"
   ]
  },
  {
   "cell_type": "code",
   "execution_count": 36,
   "id": "a3aa4d36",
   "metadata": {},
   "outputs": [],
   "source": [
    "preds = model.predict(training_data['x_train'][3].reshape(1, image_size, image_size, 1))"
   ]
  },
  {
   "cell_type": "code",
   "execution_count": 37,
   "id": "81088502",
   "metadata": {},
   "outputs": [
    {
     "data": {
      "text/plain": [
       "array([[0.59262633, 0.06562504, 0.02447081]], dtype=float32)"
      ]
     },
     "execution_count": 37,
     "metadata": {},
     "output_type": "execute_result"
    }
   ],
   "source": [
    "preds"
   ]
  },
  {
   "cell_type": "code",
   "execution_count": 38,
   "id": "a4d3e8a5",
   "metadata": {},
   "outputs": [
    {
     "data": {
      "text/plain": [
       "array([[118.52527  ,  13.125009 ,   4.8941627]], dtype=float32)"
      ]
     },
     "execution_count": 38,
     "metadata": {},
     "output_type": "execute_result"
    }
   ],
   "source": [
    "preds* image_size"
   ]
  },
  {
   "cell_type": "code",
   "execution_count": 39,
   "id": "a9deef7d",
   "metadata": {},
   "outputs": [
    {
     "data": {
      "text/plain": [
       "array([118.,  12.,   5.])"
      ]
     },
     "execution_count": 39,
     "metadata": {},
     "output_type": "execute_result"
    }
   ],
   "source": [
    "image_size * training_data['y_train'][3]"
   ]
  },
  {
   "cell_type": "code",
   "execution_count": 40,
   "id": "c05fc8d1",
   "metadata": {},
   "outputs": [
    {
     "data": {
      "text/plain": [
       "<matplotlib.image.AxesImage at 0x1a46776d520>"
      ]
     },
     "execution_count": 40,
     "metadata": {},
     "output_type": "execute_result"
    },
    {
     "data": {
      "image/png": "[encoded data removed]",
      "text/plain": [
       "<Figure size 432x288 with 1 Axes>"
      ]
     },
     "metadata": {
      "needs_background": "light"
     },
     "output_type": "display_data"
    }
   ],
   "source": [
    "plt.imshow(training_data['x_train'][3].reshape(200,200), cmap='gray')"
   ]
  },
  {
   "cell_type": "code",
   "execution_count": 41,
   "id": "0dad4c17",
   "metadata": {},
   "outputs": [
    {
     "data": {
      "text/plain": [
       "[<matplotlib.lines.Line2D at 0x1a466d84f70>]"
      ]
     },
     "execution_count": 41,
     "metadata": {},
     "output_type": "execute_result"
    },
    {
     "data": {
      "image/png": "[encoded data removed]",
      "text/plain": [
       "<Figure size 432x288 with 1 Axes>"
      ]
     },
     "metadata": {
      "needs_background": "light"
     },
     "output_type": "display_data"
    }
   ],
   "source": [
    "plt.plot(hist.history['mse'])\n",
    "plt.plot(hist.history['val_mse'])"
   ]
  },
  {
   "cell_type": "code",
   "execution_count": null,
   "id": "4f249aef",
   "metadata": {},
   "outputs": [],
   "source": []
  },
  {
   "cell_type": "code",
   "execution_count": null,
   "id": "471ec1bf",
   "metadata": {},
   "outputs": [],
   "source": []
  },
  {
   "cell_type": "code",
   "execution_count": null,
   "id": "efed03a5",
   "metadata": {},
   "outputs": [],
   "source": []
  },
  {
   "cell_type": "code",
   "execution_count": null,
   "id": "ec30307d",
   "metadata": {},
   "outputs": [],
   "source": []
  },
  {
   "cell_type": "code",
   "execution_count": null,
   "id": "4a6b98b1",
   "metadata": {},
   "outputs": [],
   "source": []
  },
  {
   "cell_type": "code",
   "execution_count": null,
   "id": "916e08b9",
   "metadata": {},
   "outputs": [],
   "source": []
  },
  {
   "cell_type": "code",
   "execution_count": null,
   "id": "33daeb10",
   "metadata": {},
   "outputs": [],
   "source": []
  },
  {
   "cell_type": "code",
   "execution_count": null,
   "id": "f2e6b97b",
   "metadata": {},
   "outputs": [],
   "source": []
  },
  {
   "cell_type": "code",
   "execution_count": null,
   "id": "4052dd89",
   "metadata": {},
   "outputs": [],
   "source": []
  },
  {
   "cell_type": "code",
   "execution_count": null,
   "id": "698664b4",
   "metadata": {},
   "outputs": [],
   "source": []
  },
  {
   "cell_type": "code",
   "execution_count": null,
   "id": "c8e6d8bb",
   "metadata": {},
   "outputs": [],
   "source": []
  },
  {
   "cell_type": "code",
   "execution_count": null,
   "id": "d65d1d4c",
   "metadata": {},
   "outputs": [],
   "source": []
  },
  {
   "cell_type": "code",
   "execution_count": null,
   "id": "231f789c",
   "metadata": {},
   "outputs": [],
   "source": []
  },
  {
   "cell_type": "code",
   "execution_count": null,
   "id": "60d12c5c",
   "metadata": {},
   "outputs": [],
   "source": []
  },
  {
   "cell_type": "code",
   "execution_count": null,
   "id": "8752227e",
   "metadata": {},
   "outputs": [],
   "source": []
  },
  {
   "cell_type": "code",
   "execution_count": null,
   "id": "090fa34d",
   "metadata": {},
   "outputs": [],
   "source": []
  },
  {
   "cell_type": "code",
   "execution_count": null,
   "id": "bc507466",
   "metadata": {},
   "outputs": [],
   "source": []
  },
  {
   "cell_type": "code",
   "execution_count": null,
   "id": "39ef1bdb",
   "metadata": {},
   "outputs": [],
   "source": []
  },
  {
   "cell_type": "code",
   "execution_count": null,
   "id": "d5e58b8a",
   "metadata": {},
   "outputs": [],
   "source": []
  },
  {
   "cell_type": "code",
   "execution_count": null,
   "id": "422bdae3",
   "metadata": {},
   "outputs": [],
   "source": []
  },
  {
   "cell_type": "code",
   "execution_count": null,
   "id": "1fb3da10",
   "metadata": {},
   "outputs": [],
   "source": []
  },
  {
   "cell_type": "code",
   "execution_count": null,
   "id": "cad24fbe",
   "metadata": {},
   "outputs": [],
   "source": []
  },
  {
   "cell_type": "code",
   "execution_count": null,
   "id": "3a03c1f4",
   "metadata": {},
   "outputs": [],
   "source": []
  },
  {
   "cell_type": "code",
   "execution_count": null,
   "id": "06f36709",
   "metadata": {},
   "outputs": [],
   "source": []
  },
  {
   "cell_type": "code",
   "execution_count": null,
   "id": "1267bda0",
   "metadata": {},
   "outputs": [],
   "source": []
  },
  {
   "cell_type": "code",
   "execution_count": null,
   "id": "5c441f8d",
   "metadata": {},
   "outputs": [],
   "source": []
  },
  {
   "cell_type": "code",
   "execution_count": null,
   "id": "9cfe2d31",
   "metadata": {},
   "outputs": [],
   "source": []
  },
  {
   "cell_type": "code",
   "execution_count": null,
   "id": "afc890f5",
   "metadata": {},
   "outputs": [],
   "source": []
  },
  {
   "cell_type": "code",
   "execution_count": null,
   "id": "11c93483",
   "metadata": {},
   "outputs": [],
   "source": []
  },
  {
   "cell_type": "code",
   "execution_count": null,
   "id": "30628629",
   "metadata": {},
   "outputs": [],
   "source": []
  },
  {
   "cell_type": "code",
   "execution_count": null,
   "id": "b11b1ae8",
   "metadata": {},
   "outputs": [],
   "source": []
  },
  {
   "cell_type": "code",
   "execution_count": null,
   "id": "fcc89155",
   "metadata": {},
   "outputs": [],
   "source": []
  },
  {
   "cell_type": "code",
   "execution_count": null,
   "id": "4c404360",
   "metadata": {},
   "outputs": [],
   "source": []
  },
  {
   "cell_type": "code",
   "execution_count": null,
   "id": "9e1ebd60",
   "metadata": {},
   "outputs": [],
   "source": []
  },
  {
   "cell_type": "code",
   "execution_count": null,
   "id": "21fde8bc",
   "metadata": {},
   "outputs": [],
   "source": []
  },
  {
   "cell_type": "code",
   "execution_count": null,
   "id": "d287e204",
   "metadata": {},
   "outputs": [],
   "source": []
  },
  {
   "cell_type": "code",
   "execution_count": null,
   "id": "f185dc2e",
   "metadata": {},
   "outputs": [],
   "source": []
  }
 ],
 "metadata": {
  "kernelspec": {
   "display_name": "Python 3 (ipykernel)",
   "language": "python",
   "name": "python3"
  },
  "language_info": {
   "codemirror_mode": {
    "name": "ipython",
    "version": 3
   },
   "file_extension": ".py",
   "mimetype": "text/x-python",
   "name": "python",
   "nbconvert_exporter": "python",
   "pygments_lexer": "ipython3",
   "version": "3.9.7"
  },
  "varInspector": {
   "cols": {
    "lenName": 16,
    "lenType": 16,
    "lenVar": 40
   },
   "kernels_config": {
    "python": {
     "delete_cmd_postfix": "",
     "delete_cmd_prefix": "del ",
     "library": "var_list.py",
     "varRefreshCmd": "print(var_dic_list())"
    },
    "r": {
     "delete_cmd_postfix": ") ",
     "delete_cmd_prefix": "rm(",
     "library": "var_list.r",
     "varRefreshCmd": "cat(var_dic_list()) "
    }
   },
   "types_to_exclude": [
    "module",
    "function",
    "builtin_function_or_method",
    "instance",
    "_Feature"
   ],
   "window_display": false
  }
 },
 "nbformat": 4,
 "nbformat_minor": 5
}
