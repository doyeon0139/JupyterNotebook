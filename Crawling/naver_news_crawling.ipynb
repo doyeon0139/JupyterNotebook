{
 "cells": [
  {
   "cell_type": "code",
   "execution_count": 1,
   "id": "44c0df38",
   "metadata": {},
   "outputs": [],
   "source": [
    "import requests\n",
    "from bs4 import BeautifulSoup\n",
    "\n",
    "from selenium import webdriver\n",
    "from selenium.webdriver.common.keys import Keys"
   ]
  },
  {
   "cell_type": "code",
   "execution_count": 56,
   "id": "9216fefc",
   "metadata": {},
   "outputs": [],
   "source": [
    "driver = webdriver.Chrome()\n",
    "driver.close()"
   ]
  },
  {
   "cell_type": "code",
   "execution_count": 12,
   "id": "b4e8b87a",
   "metadata": {},
   "outputs": [],
   "source": [
    "driver.get('https://naver.com')"
   ]
  },
  {
   "cell_type": "code",
   "execution_count": 13,
   "id": "9eac6106",
   "metadata": {
    "collapsed": true
   },
   "outputs": [
    {
     "name": "stderr",
     "output_type": "stream",
     "text": [
      "C:\\Users\\bitcamp\\AppData\\Local\\Temp/ipykernel_10884/2407959414.py:1: DeprecationWarning: find_element_by_* commands are deprecated. Please use find_element() instead\n",
      "  elem = driver.find_element_by_id('query')\n"
     ]
    }
   ],
   "source": [
    "elem = driver.find_element_by_id('query')\n"
   ]
  },
  {
   "cell_type": "code",
   "execution_count": 14,
   "id": "059f6c0a",
   "metadata": {},
   "outputs": [],
   "source": [
    "elem.send_keys('빅데이터')\n"
   ]
  },
  {
   "cell_type": "code",
   "execution_count": 15,
   "id": "e996eaaa",
   "metadata": {},
   "outputs": [],
   "source": [
    "elem.send_keys(Keys.RETURN)\n"
   ]
  },
  {
   "cell_type": "code",
   "execution_count": 16,
   "id": "5b25659c",
   "metadata": {
    "collapsed": true
   },
   "outputs": [
    {
     "name": "stderr",
     "output_type": "stream",
     "text": [
      "C:\\Users\\bitcamp\\AppData\\Local\\Temp/ipykernel_10884/1348083306.py:2: DeprecationWarning: find_element_by_* commands are deprecated. Please use find_element() instead\n",
      "  driver.find_element_by_css_selector(path).click()\n"
     ]
    }
   ],
   "source": [
    "path = '#lnb > div.lnb_group > div > ul > li:nth-child(4) > a'   # 뉴스탭으로 넘어가기\n",
    "driver.find_element_by_css_selector(path).click()"
   ]
  },
  {
   "cell_type": "code",
   "execution_count": 17,
   "id": "8e9b6142",
   "metadata": {},
   "outputs": [],
   "source": [
    "html = driver.page_source"
   ]
  },
  {
   "cell_type": "code",
   "execution_count": 18,
   "id": "743fc12f",
   "metadata": {},
   "outputs": [],
   "source": [
    "soup = BeautifulSoup(html,'html.parser')"
   ]
  },
  {
   "cell_type": "code",
   "execution_count": 19,
   "id": "a0ce88fe",
   "metadata": {},
   "outputs": [],
   "source": [
    "path = '#sp_nws1 > div > div > a'"
   ]
  },
  {
   "cell_type": "code",
   "execution_count": 20,
   "id": "6c6855fe",
   "metadata": {},
   "outputs": [
    {
     "data": {
      "text/plain": [
       "[<a class=\"news_tit\" href=\"http://www.womennews.co.kr/news/articleView.html?idxno=219536\" onclick=\"return goOtherCR(this, 'a=nws*h.tit&amp;r=1&amp;i=88000589_000000000000000000093459&amp;g=310.0000093459&amp;u='+urlencode(this.href));\" target=\"_blank\" title=\"빅데이터로 범죄 막는다...서초구 '예측범죄지도' 도입\"><mark>빅데이터</mark>로 범죄 막는다...서초구 '예측범죄지도' 도입</a>]"
      ]
     },
     "execution_count": 20,
     "metadata": {},
     "output_type": "execute_result"
    }
   ],
   "source": [
    "news = soup.select(path)\n",
    "\n",
    "news"
   ]
  },
  {
   "cell_type": "code",
   "execution_count": 21,
   "id": "cfbd933b",
   "metadata": {},
   "outputs": [],
   "source": [
    "driver.close()"
   ]
  },
  {
   "cell_type": "code",
   "execution_count": null,
   "id": "67b7d610",
   "metadata": {},
   "outputs": [],
   "source": []
  },
  {
   "cell_type": "code",
   "execution_count": null,
   "id": "136a278a",
   "metadata": {},
   "outputs": [],
   "source": [
    "# https://korean.visitkorea.or.kr\n",
    "#  제목 지역 해시태그\n",
    "\n",
    "\n"
   ]
  },
  {
   "cell_type": "code",
   "execution_count": 23,
   "id": "a5262d8a",
   "metadata": {},
   "outputs": [],
   "source": [
    "import requests\n",
    "from bs4 import BeautifulSoup\n",
    "\n",
    "from selenium import webdriver\n",
    "from selenium.webdriver.common.keys import Keys"
   ]
  },
  {
   "cell_type": "code",
   "execution_count": 2,
   "id": "8ed0c888",
   "metadata": {},
   "outputs": [],
   "source": [
    "driver = webdriver.Chrome()"
   ]
  },
  {
   "cell_type": "code",
   "execution_count": 29,
   "id": "57fc9e95",
   "metadata": {},
   "outputs": [],
   "source": [
    "driver.get('https://korean.visitkorea.or.kr')"
   ]
  },
  {
   "cell_type": "code",
   "execution_count": 36,
   "id": "2fa784c9",
   "metadata": {},
   "outputs": [
    {
     "name": "stderr",
     "output_type": "stream",
     "text": [
      "C:\\Users\\bitcamp\\AppData\\Local\\Temp/ipykernel_4424/2872124023.py:3: DeprecationWarning: find_element_by_* commands are deprecated. Please use find_element() instead\n",
      "  elem = driver.find_element_by_id('inp_search')\n"
     ]
    }
   ],
   "source": [
    "# elem = driver.find_element_by_id('query')\n",
    "\n",
    "elem = driver.find_element_by_id('inp_search')"
   ]
  },
  {
   "cell_type": "code",
   "execution_count": 37,
   "id": "fa7bb1f8",
   "metadata": {},
   "outputs": [
    {
     "data": {
      "text/plain": [
       "<selenium.webdriver.remote.webelement.WebElement (session=\"0c54620a7f3ddd4db5bc2cc00611c7ee\", element=\"5e22ebeb-ce7f-4e9c-932d-58840bce5489\")>"
      ]
     },
     "execution_count": 37,
     "metadata": {},
     "output_type": "execute_result"
    }
   ],
   "source": [
    "elem"
   ]
  },
  {
   "cell_type": "code",
   "execution_count": 38,
   "id": "af7de2b3",
   "metadata": {},
   "outputs": [
    {
     "name": "stdout",
     "output_type": "stream",
     "text": [
      "검색어바다\n"
     ]
    }
   ],
   "source": [
    "s = input('검색어')"
   ]
  },
  {
   "cell_type": "code",
   "execution_count": 40,
   "id": "22ea5092",
   "metadata": {},
   "outputs": [],
   "source": [
    "elem.send_keys(s)"
   ]
  },
  {
   "cell_type": "code",
   "execution_count": 21,
   "id": "08643887",
   "metadata": {},
   "outputs": [
    {
     "name": "stderr",
     "output_type": "stream",
     "text": [
      "C:\\Users\\bitcamp\\AppData\\Local\\Temp/ipykernel_4424/82499377.py:1: DeprecationWarning: find_element_by_* commands are deprecated. Please use find_element() instead\n",
      "  driver.find_element_by_css_selector('#gnbMain > div.top_menu > div > div.search > span > a').click()\n"
     ]
    }
   ],
   "source": [
    "driver.find_element_by_css_selector('#gnbMain > div.top_menu > div > div.search > span > a').click()"
   ]
  },
  {
   "cell_type": "code",
   "execution_count": null,
   "id": "cad10793",
   "metadata": {},
   "outputs": [],
   "source": [
    "path = '#gnbMain > div.top_menu > div > div.search > span > a'"
   ]
  },
  {
   "cell_type": "code",
   "execution_count": 44,
   "id": "390ea8ab",
   "metadata": {},
   "outputs": [
    {
     "name": "stderr",
     "output_type": "stream",
     "text": [
      "C:\\Users\\bitcamp\\AppData\\Local\\Temp/ipykernel_4424/82499377.py:1: DeprecationWarning: find_element_by_* commands are deprecated. Please use find_element() instead\n",
      "  driver.find_element_by_css_selector('#gnbMain > div.top_menu > div > div.search > span > a').click()\n"
     ]
    }
   ],
   "source": [
    "driver.find_element_by_css_selector('#gnbMain > div.top_menu > div > div.search > span > a').click()"
   ]
  },
  {
   "cell_type": "code",
   "execution_count": 46,
   "id": "bba44809",
   "metadata": {},
   "outputs": [],
   "source": [
    "html = driver.page_source\n",
    "soup = BeautifulSoup(html, 'html.parser')"
   ]
  },
  {
   "cell_type": "code",
   "execution_count": 47,
   "id": "52562ae7",
   "metadata": {},
   "outputs": [],
   "source": [
    "path = '#listBody > ul > li'"
   ]
  },
  {
   "cell_type": "code",
   "execution_count": 48,
   "id": "5a9f2689",
   "metadata": {},
   "outputs": [],
   "source": [
    "tags = soup.select(path)"
   ]
  },
  {
   "cell_type": "code",
   "execution_count": 49,
   "id": "53bce609",
   "metadata": {},
   "outputs": [
    {
     "data": {
      "text/plain": [
       "<li><div class=\"photo\"><a href=\"javascript:goSearchDetail('eb64d6f5-cb1c-400f-ac42-1e685b642dbb');\"> <img alt=\"별바다부산 야간관광 시리즈 3편 &lt;br&gt;마음을 물들이는 '감성 레포츠' 여행\" src=\"https://cdn.visitkorea.or.kr/img/call?cmd=VIEW&amp;id=f369ac46-1467-44e6-b5a4-22943aae41c7\"/> </a></div> <div class=\"area_txt\"> <div class=\"tit\"> <a href=\"javascript:goSearchDetail('eb64d6f5-cb1c-400f-ac42-1e685b642dbb');\"><em></em>별<!--HS--><em>바다</em><!--HE-->부산 야간관광 시리즈 3편 <br/>마음을 물들이는 '감성 레포츠' 여행</a> </div> <div class=\"service\"> <p>부산 </p> <ul class=\"brandingIcon\" id=\"branding_eb64d6f5-cb1c-400f-ac42-1e685b642dbb\"> </ul> </div> <p class=\"tag_type\"><span>#<em></em>부산여행</span><span>#<em></em>부산가볼만한곳</span><span>#<em></em>야간여행</span><span>#<em></em>부산레포츠</span><span>#<em></em>레포츠여행</span><span>#<em></em>마린시티</span><span>#<em></em>요트투어</span><span>#<em></em>광안리해수욕장</span><span>#<em></em>서핑</span><span>#<em></em>다대포해수욕장</span><span>#<em></em>제트스키</span><span>#<em></em>웨이크보드</span><span>#<em></em>다대포꿈의낙조분수</span><span>#<em></em>봉래산</span><span>#<em></em>트레킹</span><span>#<em></em>공공누리</span><span>#<em></em>별<em>바다</em>부산</span> </p></div><button class=\"btn_view\" onclick='viewClick(\"eb64d6f5-cb1c-400f-ac42-1e685b642dbb\")' title=\"열기\" type=\"button\">더보기</button><div class=\"pop_subMenu\"> <ul> <li class=\"btn_far\"><a href=\"javascript:\" onclick='setFavoContent(\"eb64d6f5-cb1c-400f-ac42-1e685b642dbb\")'>즐겨찾기</a></li> <li class=\"btn_share\" id=\"eb64d6f5-cb1c-400f-ac42-1e685b642dbb\"><a href=\"javascript:\" onclick='getShareInfo(\"%EB%B3%84%3C!HS%3E%EB%B0%94%EB%8B%A4%3C!HE%3E%EB%B6%80%EC%82%B0%20%EC%95%BC%EA%B0%84%EA%B4%80%EA%B4%91%20%EC%8B%9C%EB%A6%AC%EC%A6%88%203%ED%8E%B8%20%3Cbr%3E%EB%A7%88%EC%9D%8C%EC%9D%84%20%EB%AC%BC%EB%93%A4%EC%9D%B4%EB%8A%94%20%26%2339%3B%EA%B0%90%EC%84%B1%20%EB%A0%88%ED%8F%AC%EC%B8%A0%26%2339%3B%20%EC%97%AC%ED%96%89\",\"f369ac46-1467-44e6-b5a4-22943aae41c7\",\"eb64d6f5-cb1c-400f-ac42-1e685b642dbb\",\"304\");'>공유하기</a></li> </ul></div></li>"
      ]
     },
     "execution_count": 49,
     "metadata": {},
     "output_type": "execute_result"
    }
   ],
   "source": [
    "tags[0]"
   ]
  },
  {
   "cell_type": "code",
   "execution_count": 50,
   "id": "bac6b7e3",
   "metadata": {},
   "outputs": [
    {
     "data": {
      "text/plain": [
       "\"별바다부산 야간관광 시리즈 3편 마음을 물들이는 '감성 레포츠' 여행\""
      ]
     },
     "execution_count": 50,
     "metadata": {},
     "output_type": "execute_result"
    }
   ],
   "source": [
    "path = 'div.area_txt > div.tit > a'\n",
    "tags[0].select(path)[0].text"
   ]
  },
  {
   "cell_type": "code",
   "execution_count": 51,
   "id": "016b1f6e",
   "metadata": {},
   "outputs": [
    {
     "data": {
      "text/plain": [
       "'부산 '"
      ]
     },
     "execution_count": 51,
     "metadata": {},
     "output_type": "execute_result"
    }
   ],
   "source": [
    "path = 'div.area_txt > div.service > p'\n",
    "tags[0].select(path)[0].text"
   ]
  },
  {
   "cell_type": "code",
   "execution_count": 52,
   "id": "134e1a01",
   "metadata": {},
   "outputs": [
    {
     "data": {
      "text/plain": [
       "'#부산여행#부산가볼만한곳#야간여행#부산레포츠#레포츠여행#마린시티#요트투어#광안리해수욕장#서핑#다대포해수욕장#제트스키#웨이크보드#다대포꿈의낙조분수#봉래산#트레킹#공공누리#별바다부산 '"
      ]
     },
     "execution_count": 52,
     "metadata": {},
     "output_type": "execute_result"
    }
   ],
   "source": [
    "path = 'div.area_txt > p'\n",
    "tags[0].select(path)[0].text"
   ]
  },
  {
   "cell_type": "code",
   "execution_count": 53,
   "id": "ac6f1612",
   "metadata": {},
   "outputs": [
    {
     "name": "stdout",
     "output_type": "stream",
     "text": [
      "별바다부산 야간관광 시리즈 3편 마음을 물들이는 '감성 레포츠' 여행\n",
      "부산 \n",
      "[<li><div class=\"photo\"><a href=\"javascript:goSearchDetail('eb64d6f5-cb1c-400f-ac42-1e685b642dbb');\"> <img alt=\"별바다부산 야간관광 시리즈 3편 &lt;br&gt;마음을 물들이는 '감성 레포츠' 여행\" src=\"https://cdn.visitkorea.or.kr/img/call?cmd=VIEW&amp;id=f369ac46-1467-44e6-b5a4-22943aae41c7\"/> </a></div> <div class=\"area_txt\"> <div class=\"tit\"> <a href=\"javascript:goSearchDetail('eb64d6f5-cb1c-400f-ac42-1e685b642dbb');\"><em></em>별<!--HS--><em>바다</em><!--HE-->부산 야간관광 시리즈 3편 <br/>마음을 물들이는 '감성 레포츠' 여행</a> </div> <div class=\"service\"> <p>부산 </p> <ul class=\"brandingIcon\" id=\"branding_eb64d6f5-cb1c-400f-ac42-1e685b642dbb\"> </ul> </div> <p class=\"tag_type\"><span>#<em></em>부산여행</span><span>#<em></em>부산가볼만한곳</span><span>#<em></em>야간여행</span><span>#<em></em>부산레포츠</span><span>#<em></em>레포츠여행</span><span>#<em></em>마린시티</span><span>#<em></em>요트투어</span><span>#<em></em>광안리해수욕장</span><span>#<em></em>서핑</span><span>#<em></em>다대포해수욕장</span><span>#<em></em>제트스키</span><span>#<em></em>웨이크보드</span><span>#<em></em>다대포꿈의낙조분수</span><span>#<em></em>봉래산</span><span>#<em></em>트레킹</span><span>#<em></em>공공누리</span><span>#<em></em>별<em>바다</em>부산</span> </p></div><button class=\"btn_view\" onclick='viewClick(\"eb64d6f5-cb1c-400f-ac42-1e685b642dbb\")' title=\"열기\" type=\"button\">더보기</button><div class=\"pop_subMenu\"> <ul> <li class=\"btn_far\"><a href=\"javascript:\" onclick='setFavoContent(\"eb64d6f5-cb1c-400f-ac42-1e685b642dbb\")'>즐겨찾기</a></li> <li class=\"btn_share\" id=\"eb64d6f5-cb1c-400f-ac42-1e685b642dbb\"><a href=\"javascript:\" onclick='getShareInfo(\"%EB%B3%84%3C!HS%3E%EB%B0%94%EB%8B%A4%3C!HE%3E%EB%B6%80%EC%82%B0%20%EC%95%BC%EA%B0%84%EA%B4%80%EA%B4%91%20%EC%8B%9C%EB%A6%AC%EC%A6%88%203%ED%8E%B8%20%3Cbr%3E%EB%A7%88%EC%9D%8C%EC%9D%84%20%EB%AC%BC%EB%93%A4%EC%9D%B4%EB%8A%94%20%26%2339%3B%EA%B0%90%EC%84%B1%20%EB%A0%88%ED%8F%AC%EC%B8%A0%26%2339%3B%20%EC%97%AC%ED%96%89\",\"f369ac46-1467-44e6-b5a4-22943aae41c7\",\"eb64d6f5-cb1c-400f-ac42-1e685b642dbb\",\"304\");'>공유하기</a></li> </ul></div></li>, <li><div class=\"photo\"><a href=\"javascript:goSearchDetail('2326e9bf-8c6e-4fca-a915-6ea325260519');\"> <img alt=\"쪽빛 바다 가르며 '카약 타고 서핑하고'…&lt;br&gt;남해 두모마을과 송정솔바람해변\" src=\"https://cdn.visitkorea.or.kr/img/call?cmd=VIEW&amp;id=effed6f2-3383-49d0-9811-cb85cd959edc\"/> </a></div> <div class=\"area_txt\"> <div class=\"tit\"> <a href=\"javascript:goSearchDetail('2326e9bf-8c6e-4fca-a915-6ea325260519');\"><em></em>쪽빛 <!--HS--><em>바다</em><!--HE--> 가르며 '카약 타고 서핑하고'…<br/>남해 두모마을과 송정솔바람해변</a> </div> <div class=\"service\"> <p>경상남도 남해군</p> <ul class=\"brandingIcon\" id=\"branding_2326e9bf-8c6e-4fca-a915-6ea325260519\"> </ul> </div> <p class=\"tag_type\"><span>#<em></em>2020년9월추천가볼만한곳</span><span>#<em></em>9월추천가볼만한곳</span><span>#<em></em>추천가볼만한곳</span><span>#<em></em>9월가볼만한곳</span><span>#<em></em>수상레포츠</span><span>#<em></em>레포츠</span><span>#<em></em>레저활동</span><span>#<em></em>남해여행</span><span>#<em></em>남해가볼만한곳</span><span>#<em></em>공공누리</span><span>#<em></em>인생샷_핫플레이스</span><span>#<em></em>꿀잼_액티비티</span><span>#<em></em><em>바다</em>풍경여행</span> </p></div><button class=\"btn_view\" onclick='viewClick(\"2326e9bf-8c6e-4fca-a915-6ea325260519\")' title=\"열기\" type=\"button\">더보기</button><div class=\"pop_subMenu\"> <ul> <li class=\"btn_far\"><a href=\"javascript:\" onclick='setFavoContent(\"2326e9bf-8c6e-4fca-a915-6ea325260519\")'>즐겨찾기</a></li> <li class=\"btn_share\" id=\"2326e9bf-8c6e-4fca-a915-6ea325260519\"><a href=\"javascript:\" onclick='getShareInfo(\"%EC%AA%BD%EB%B9%9B%20%3C!HS%3E%EB%B0%94%EB%8B%A4%3C!HE%3E%20%EA%B0%80%EB%A5%B4%EB%A9%B0%20%26%2339%3B%EC%B9%B4%EC%95%BD%20%ED%83%80%EA%B3%A0%20%EC%84%9C%ED%95%91%ED%95%98%EA%B3%A0%26%2339%3B%E2%80%A6%3Cbr%3E%EB%82%A8%ED%95%B4%20%EB%91%90%EB%AA%A8%EB%A7%88%EC%9D%84%EA%B3%BC%20%EC%86%A1%EC%A0%95%EC%86%94%EB%B0%94%EB%9E%8C%ED%95%B4%EB%B3%80\",\"effed6f2-3383-49d0-9811-cb85cd959edc\",\"2326e9bf-8c6e-4fca-a915-6ea325260519\",\"304\");'>공유하기</a></li> </ul></div></li>, <li><div class=\"photo\"><a href=\"javascript:goSearchDetail('8f2550c8-1af2-496e-9eac-89e1c723d9bd');\"> <img alt=\"쪽빛 남쪽바다가 눈부시게 펼쳐진 길, &lt;br&gt;저도 비치로드\" src=\"https://cdn.visitkorea.or.kr/img/call?cmd=VIEW&amp;id=b0a83333-7216-4b73-b6f8-d06705708898\"/> </a></div> <div class=\"area_txt\"> <div class=\"tit\"> <a href=\"javascript:goSearchDetail('8f2550c8-1af2-496e-9eac-89e1c723d9bd');\"><em></em>쪽빛 남쪽<!--HS--><em>바다</em><!--HE-->가 눈부시게 펼쳐진 길, <br/>저도 비치로드</a> </div> <div class=\"service\"> <p>경상남도 창원시</p> <ul class=\"brandingIcon\" id=\"branding_8f2550c8-1af2-496e-9eac-89e1c723d9bd\"> </ul> </div> <p class=\"tag_type\"><span>#<em></em>2021겨울시즌비대면안심관광지25선</span><span>#<em></em>창원여행</span><span>#<em></em>창원가볼만한곳</span><span>#<em></em>저도</span><span>#<em></em>저도비치로드</span><span>#<em></em>섬</span><span>#<em></em>스카이워크</span><span>#<em></em>풍경어행</span><span>#<em></em>해안데크로드</span><span>#<em></em>용두산</span><span>#<em></em>걷기좋은길</span><span>#<em></em><em>바다</em>풍경여행</span><span>#<em></em>2021비대면안심관광지</span><span>#<em></em>비대면안심관광지</span><span>#<em></em>비대면_안심관광지</span><span>#<em></em>경상권_비대면관광지</span><span>#<em></em>겨울_비대면관광지</span><span>#<em></em>자연과함께</span> </p></div><button class=\"btn_view\" onclick='viewClick(\"8f2550c8-1af2-496e-9eac-89e1c723d9bd\")' title=\"열기\" type=\"button\">더보기</button><div class=\"pop_subMenu\"> <ul> <li class=\"btn_far\"><a href=\"javascript:\" onclick='setFavoContent(\"8f2550c8-1af2-496e-9eac-89e1c723d9bd\")'>즐겨찾기</a></li> <li class=\"btn_share\" id=\"8f2550c8-1af2-496e-9eac-89e1c723d9bd\"><a href=\"javascript:\" onclick='getShareInfo(\"%EC%AA%BD%EB%B9%9B%20%EB%82%A8%EC%AA%BD%3C!HS%3E%EB%B0%94%EB%8B%A4%3C!HE%3E%EA%B0%80%20%EB%88%88%EB%B6%80%EC%8B%9C%EA%B2%8C%20%ED%8E%BC%EC%B3%90%EC%A7%84%20%EA%B8%B8%2C%20%3Cbr%3E%EC%A0%80%EB%8F%84%20%EB%B9%84%EC%B9%98%EB%A1%9C%EB%93%9C\",\"b0a83333-7216-4b73-b6f8-d06705708898\",\"8f2550c8-1af2-496e-9eac-89e1c723d9bd\",\"304\");'>공유하기</a></li> </ul></div></li>, <li><div class=\"photo\"><a href=\"javascript:goSearchDetail('cf05953e-e99e-4372-bdc0-1a57fe0c120f');\"> <img alt=\"고성, 양양, 강릉까지 시원한 강원도 바다 완전정복!\" src=\"https://cdn.visitkorea.or.kr/img/call?cmd=VIEW&amp;id=eae265f9-2e74-485b-bdf1-f0cc6bf529f1\"/> </a></div> <div class=\"area_txt\"> <div class=\"tit\"> <a href=\"javascript:goSearchDetail('cf05953e-e99e-4372-bdc0-1a57fe0c120f');\"><em></em>고성, 양양, 강릉까지 시원한 강원도 <!--HS--><em>바다</em><!--HE--> 완전정복!</a> </div> <div class=\"service\"> <p>강원도 </p> <ul class=\"brandingIcon\" id=\"branding_cf05953e-e99e-4372-bdc0-1a57fe0c120f\"> </ul> </div> <p class=\"tag_type\"><span>#<em></em>강원도여행</span><span>#<em></em>강원도가볼만한곳</span><span>#<em></em><em>바다</em>여행</span><span>#<em></em>아야진해수욕장</span><span>#<em></em>하조대해수욕장</span><span>#<em></em>향호해변</span><span>#<em></em>영진해변</span><span>#<em></em>도깨비촬영지</span><span>#<em></em>금진해변</span> </p></div><button class=\"btn_view\" onclick='viewClick(\"cf05953e-e99e-4372-bdc0-1a57fe0c120f\")' title=\"열기\" type=\"button\">더보기</button><div class=\"pop_subMenu\"> <ul> <li class=\"btn_far\"><a href=\"javascript:\" onclick='setFavoContent(\"cf05953e-e99e-4372-bdc0-1a57fe0c120f\")'>즐겨찾기</a></li> <li class=\"btn_share\" id=\"cf05953e-e99e-4372-bdc0-1a57fe0c120f\"><a href=\"javascript:\" onclick='getShareInfo(\"%EA%B3%A0%EC%84%B1%2C%20%EC%96%91%EC%96%91%2C%20%EA%B0%95%EB%A6%89%EA%B9%8C%EC%A7%80%20%EC%8B%9C%EC%9B%90%ED%95%9C%20%EA%B0%95%EC%9B%90%EB%8F%84%20%3C!HS%3E%EB%B0%94%EB%8B%A4%3C!HE%3E%20%EC%99%84%EC%A0%84%EC%A0%95%EB%B3%B5!\",\"eae265f9-2e74-485b-bdf1-f0cc6bf529f1\",\"cf05953e-e99e-4372-bdc0-1a57fe0c120f\",\"304\");'>공유하기</a></li> </ul></div></li>, <li class=\"banner_area\"> <div class=\"pc\"> <a class=\"banner0\" href=\"https://korean.visitkorea.or.kr/detail/event_detail.do?cotid=d80c2c04-6e0c-4b9f-be9c-f08be21a120a\"><span><img alt=\"'당신의 최애 맛집은?' 최애 맛집 제보 이벤트\" src=\"https://cdn.visitkorea.or.kr/img/call?cmd=VIEW&amp;id=1e79be09-10f1-4855-96c0-c2a9c2f1ab86\"/></span></a> <a class=\"banner1\" href=\"https://korean.visitkorea.or.kr/trss/applyintro.do?utm_source=main_showcase\"><span><img alt=\"핫플 정기 배송! 가볼래-터 구독하고 여행 선물 받자!\" src=\"https://cdn.visitkorea.or.kr/img/call?cmd=VIEW&amp;id=de94ca57-7ff4-475c-babd-c3810cda3afc\"/></span></a> </div></li>, <li><div class=\"photo\"><a href=\"javascript:goSearchDetail('7dbf3247-871f-4be8-b575-ff64751a3a6c');\"> <img alt=\"부산 도심에서 가장 빨리 기장의 바다를 만나는 동해선\" src=\"https://cdn.visitkorea.or.kr/img/call?cmd=VIEW&amp;id=91402ff5-90c5-4a15-a88a-a498da4ab3aa\"/> </a></div> <div class=\"area_txt\"> <div class=\"tit\"> <a href=\"javascript:goSearchDetail('7dbf3247-871f-4be8-b575-ff64751a3a6c');\"><em></em>부산 도심에서 가장 빨리 기장의 <!--HS--><em>바다</em><!--HE-->를 만나는 동해선</a> </div> <div class=\"service\"> <p>부산</p> <ul class=\"brandingIcon\" id=\"branding_7dbf3247-871f-4be8-b575-ff64751a3a6c\"> </ul> </div> <p class=\"tag_type\"><span>#<em></em>부산</span><span>#<em></em>동해선</span><span>#<em></em>수영사적공원</span><span>#<em></em>국립부산과학관</span><span>#<em></em>죽성드림성당</span><span>#<em></em>기장죽성리왜성</span><span>#<em></em>기장죽성리해송</span><span>#<em></em>대변항장승등대</span><span>#<em></em>대변항</span><span>#<em></em>일광해수욕장</span><span>#<em></em>송도구름산책로</span><span>#<em></em>송도해상케이블카</span><span>#<em></em>황령산</span><span>#<em></em><em>바다</em></span><span>#<em></em>일몰</span><span>#<em></em>추천가볼만한곳</span><span>#<em></em>부산가볼만한곳</span><span>#<em></em>부산당일코스</span><span>#<em></em>부산1박2일코스</span><span>#<em></em>지하철여행</span><span>#<em></em>추천가볼만한곳</span><span>#<em></em>2018년3월추천가볼만한곳</span><span>#<em></em>겨울기차여행</span><span>#<em></em>2월가볼만한곳</span><span>#<em></em><em>바다</em>풍경여행</span> </p></div><button class=\"btn_view\" onclick='viewClick(\"7dbf3247-871f-4be8-b575-ff64751a3a6c\")' title=\"열기\" type=\"button\">더보기</button><div class=\"pop_subMenu\"> <ul> <li class=\"btn_far\"><a href=\"javascript:\" onclick='setFavoContent(\"7dbf3247-871f-4be8-b575-ff64751a3a6c\")'>즐겨찾기</a></li> <li class=\"btn_share\" id=\"7dbf3247-871f-4be8-b575-ff64751a3a6c\"><a href=\"javascript:\" onclick='getShareInfo(\"%EB%B6%80%EC%82%B0%20%EB%8F%84%EC%8B%AC%EC%97%90%EC%84%9C%20%EA%B0%80%EC%9E%A5%20%EB%B9%A8%EB%A6%AC%20%EA%B8%B0%EC%9E%A5%EC%9D%98%20%3C!HS%3E%EB%B0%94%EB%8B%A4%3C!HE%3E%EB%A5%BC%20%EB%A7%8C%EB%82%98%EB%8A%94%20%EB%8F%99%ED%95%B4%EC%84%A0\",\"91402ff5-90c5-4a15-a88a-a498da4ab3aa\",\"7dbf3247-871f-4be8-b575-ff64751a3a6c\",\"304\");'>공유하기</a></li> </ul></div></li>, <li><div class=\"photo\"><a href=\"javascript:goSearchDetail('9bea15e9-d29d-4977-a4b2-c06a3a3c0ab2');\"> <img alt=\"어디서든 바다\" src=\"https://cdn.visitkorea.or.kr/img/call?cmd=VIEW&amp;id=7828499a-7098-44a1-88b4-cd79af7698cc\"/> </a></div> <div class=\"area_txt\"> <div class=\"tit\"> <a href=\"javascript:goSearchDetail('9bea15e9-d29d-4977-a4b2-c06a3a3c0ab2');\"><em></em>어디서든 <!--HS--><em>바다</em><!--HE--></a> </div> <div class=\"service\"> <p>경상남도 통영시</p> <ul class=\"brandingIcon\" id=\"branding_9bea15e9-d29d-4977-a4b2-c06a3a3c0ab2\"> </ul> </div> <p class=\"tag_type\"><span>#<em></em><em>바다</em></span><span>#<em></em>통영</span><span>#<em></em>삼칭이길</span><span>#<em></em>통영케이블카</span><span>#<em></em>평안</span><span>#<em></em>박경리기념관</span><span>#<em></em>장애인</span><span>#<em></em>장애인숙박</span><span>#<em></em>장애인추천여행지</span><span>#<em></em>장애인추천코스</span><span>#<em></em>월요일엔 저스트고!</span><span>#<em></em>월요일엔 저스트 고!</span><span>#<em></em>모두의관광_열린여행</span><span>#<em></em>모두가_행복한_여행</span><span>#<em></em><em>바다</em>풍경여행</span> </p></div><button class=\"btn_view\" onclick='viewClick(\"9bea15e9-d29d-4977-a4b2-c06a3a3c0ab2\")' title=\"열기\" type=\"button\">더보기</button><div class=\"pop_subMenu\"> <ul> <li class=\"btn_far\"><a href=\"javascript:\" onclick='setFavoContent(\"9bea15e9-d29d-4977-a4b2-c06a3a3c0ab2\")'>즐겨찾기</a></li> <li class=\"btn_share\" id=\"9bea15e9-d29d-4977-a4b2-c06a3a3c0ab2\"><a href=\"javascript:\" onclick='getShareInfo(\"%EC%96%B4%EB%94%94%EC%84%9C%EB%93%A0%20%3C!HS%3E%EB%B0%94%EB%8B%A4%3C!HE%3E\",\"7828499a-7098-44a1-88b4-cd79af7698cc\",\"9bea15e9-d29d-4977-a4b2-c06a3a3c0ab2\",\"304\");'>공유하기</a></li> </ul></div></li>, <li><div class=\"photo\"><a href=\"javascript:goSearchDetail('7b01802b-b8ff-47be-a8f4-150fe38de7b3');\"> <img alt=\"머리 위엔 모노레일, 발밑은 유리알 바다 &lt;br&gt;달맞이길 달리는 해운대 블루라인파크 해변열차\" src=\"https://cdn.visitkorea.or.kr/img/call?cmd=VIEW&amp;id=4ad46443-2257-47b2-96eb-13a679399f87\"/> </a></div> <div class=\"area_txt\"> <div class=\"tit\"> <a href=\"javascript:goSearchDetail('7b01802b-b8ff-47be-a8f4-150fe38de7b3');\"><em></em>머리 위엔 모노레일, 발밑은 유리알 <!--HS--><em>바다</em><!--HE--> <br/>달맞이길 달리는 해운대 블루라인파크 해변열차</a> </div> <div class=\"service\"> <p>부산 해운대구</p> <ul class=\"brandingIcon\" id=\"branding_7b01802b-b8ff-47be-a8f4-150fe38de7b3\"> </ul> </div> <p class=\"tag_type\"><span>#<em></em>부산여행</span><span>#<em></em>부산가볼만한곳</span><span>#<em></em>해변열차</span><span>#<em></em>해운대블루라인파크</span><span>#<em></em>송정해변</span><span>#<em></em>청사포다릿돌전망대</span><span>#<em></em>달맞이터널</span><span>#<em></em>공공누리</span><span>#<em></em><em>바다</em>풍경여행</span><span>#<em></em>꿀잼_액티비티</span><span>#<em></em>미포</span><span>#<em></em>모노레일</span><span>#<em></em>이색관광지</span><span>#<em></em>송정역</span> </p></div><button class=\"btn_view\" onclick='viewClick(\"7b01802b-b8ff-47be-a8f4-150fe38de7b3\")' title=\"열기\" type=\"button\">더보기</button><div class=\"pop_subMenu\"> <ul> <li class=\"btn_far\"><a href=\"javascript:\" onclick='setFavoContent(\"7b01802b-b8ff-47be-a8f4-150fe38de7b3\")'>즐겨찾기</a></li> <li class=\"btn_share\" id=\"7b01802b-b8ff-47be-a8f4-150fe38de7b3\"><a href=\"javascript:\" onclick='getShareInfo(\"%EB%A8%B8%EB%A6%AC%20%EC%9C%84%EC%97%94%20%EB%AA%A8%EB%85%B8%EB%A0%88%EC%9D%BC%2C%20%EB%B0%9C%EB%B0%91%EC%9D%80%20%EC%9C%A0%EB%A6%AC%EC%95%8C%20%3C!HS%3E%EB%B0%94%EB%8B%A4%3C!HE%3E%20%3Cbr%3E%EB%8B%AC%EB%A7%9E%EC%9D%B4%EA%B8%B8%20%EB%8B%AC%EB%A6%AC%EB%8A%94%20%ED%95%B4%EC%9A%B4%EB%8C%80%20%EB%B8%94%EB%A3%A8%EB%9D%BC%EC%9D%B8%ED%8C%8C%ED%81%AC%20%ED%95%B4%EB%B3%80%EC%97%B4%EC%B0%A8\",\"4ad46443-2257-47b2-96eb-13a679399f87\",\"7b01802b-b8ff-47be-a8f4-150fe38de7b3\",\"304\");'>공유하기</a></li> </ul></div></li>, <li><div class=\"photo\"><a href=\"javascript:goSearchDetail('ebc0ce07-b6bf-4d4b-bc19-bec4933157a6');\"> <img alt=\"향기에 취하고 바다에 반하고, &lt;br&gt;안산 바다향기수목원\" src=\"https://cdn.visitkorea.or.kr/img/call?cmd=VIEW&amp;id=1d100f2b-d3c8-42d2-a570-24b434b6d074\"/> </a></div> <div class=\"area_txt\"> <div class=\"tit\"> <a href=\"javascript:goSearchDetail('ebc0ce07-b6bf-4d4b-bc19-bec4933157a6');\"><em></em>향기에 취하고 <!--HS--><em>바다</em><!--HE-->에 반하고, <br/>안산 <!--HS-->바다<!--HE-->향기수목원</a> </div> <div class=\"service\"> <p>경기도 안산시</p> <ul class=\"brandingIcon\" id=\"branding_ebc0ce07-b6bf-4d4b-bc19-bec4933157a6\"> </ul> </div> <p class=\"tag_type\"><span>#<em></em>숨은관광지</span><span>#<em></em>안산여행</span><span>#<em></em>안산가볼만한곳</span><span>#<em></em><em>바다</em>향기수목원</span><span>#<em></em>공공누리</span><span>#<em></em>6월가볼만한곳</span><span>#<em></em>수목원</span> </p></div><button class=\"btn_view\" onclick='viewClick(\"ebc0ce07-b6bf-4d4b-bc19-bec4933157a6\")' title=\"열기\" type=\"button\">더보기</button><div class=\"pop_subMenu\"> <ul> <li class=\"btn_far\"><a href=\"javascript:\" onclick='setFavoContent(\"ebc0ce07-b6bf-4d4b-bc19-bec4933157a6\")'>즐겨찾기</a></li> <li class=\"btn_share\" id=\"ebc0ce07-b6bf-4d4b-bc19-bec4933157a6\"><a href=\"javascript:\" onclick='getShareInfo(\"%ED%96%A5%EA%B8%B0%EC%97%90%20%EC%B7%A8%ED%95%98%EA%B3%A0%20%3C!HS%3E%EB%B0%94%EB%8B%A4%3C!HE%3E%EC%97%90%20%EB%B0%98%ED%95%98%EA%B3%A0%2C%20%3Cbr%3E%EC%95%88%EC%82%B0%20%3C!HS%3E%EB%B0%94%EB%8B%A4%3C!HE%3E%ED%96%A5%EA%B8%B0%EC%88%98%EB%AA%A9%EC%9B%90\",\"1d100f2b-d3c8-42d2-a570-24b434b6d074\",\"ebc0ce07-b6bf-4d4b-bc19-bec4933157a6\",\"304\");'>공유하기</a></li> </ul></div></li>, <li><div class=\"photo\"><a href=\"javascript:goSearchDetail('f7163a51-baff-4c0b-b2ca-18205ff8a3da');\"> <img alt=\"별바다부산 야간관광 시리즈 1편 &lt;br&gt;'하트'를 뛰게 하는 '아트'적인 부산의 밤\" src=\"https://cdn.visitkorea.or.kr/img/call?cmd=VIEW&amp;id=03d28377-2520-4a01-9f17-74c6cd21d9e1\"/> </a></div> <div class=\"area_txt\"> <div class=\"tit\"> <a href=\"javascript:goSearchDetail('f7163a51-baff-4c0b-b2ca-18205ff8a3da');\"><em></em>별<!--HS--><em>바다</em><!--HE-->부산 야간관광 시리즈 1편 <br/>'하트'를 뛰게 하는 '아트'적인 부산의 밤</a> </div> <div class=\"service\"> <p>부산 </p> <ul class=\"brandingIcon\" id=\"branding_f7163a51-baff-4c0b-b2ca-18205ff8a3da\"> </ul> </div> <p class=\"tag_type\"><span>#<em></em>부산여행</span><span>#<em></em>부산가볼만한곳</span><span>#<em></em>야간여행</span><span>#<em></em>F1963</span><span>#<em></em>영화의전당</span><span>#<em></em>부산영화의전당</span><span>#<em></em>감천문화마을</span><span>#<em></em>부산감천문화마을</span><span>#<em></em>흰여울문화마을</span><span>#<em></em>부산흰여울문화마을</span><span>#<em></em>공공누리</span><span>#<em></em>별<em>바다</em>부산</span> </p></div><button class=\"btn_view\" onclick='viewClick(\"f7163a51-baff-4c0b-b2ca-18205ff8a3da\")' title=\"열기\" type=\"button\">더보기</button><div class=\"pop_subMenu\"> <ul> <li class=\"btn_far\"><a href=\"javascript:\" onclick='setFavoContent(\"f7163a51-baff-4c0b-b2ca-18205ff8a3da\")'>즐겨찾기</a></li> <li class=\"btn_share\" id=\"f7163a51-baff-4c0b-b2ca-18205ff8a3da\"><a href=\"javascript:\" onclick='getShareInfo(\"%EB%B3%84%3C!HS%3E%EB%B0%94%EB%8B%A4%3C!HE%3E%EB%B6%80%EC%82%B0%20%EC%95%BC%EA%B0%84%EA%B4%80%EA%B4%91%20%EC%8B%9C%EB%A6%AC%EC%A6%88%201%ED%8E%B8%20%3Cbr%3E%26%2339%3B%ED%95%98%ED%8A%B8%26%2339%3B%EB%A5%BC%20%EB%9B%B0%EA%B2%8C%20%ED%95%98%EB%8A%94%20%26%2339%3B%EC%95%84%ED%8A%B8%26%2339%3B%EC%A0%81%EC%9D%B8%20%EB%B6%80%EC%82%B0%EC%9D%98%20%EB%B0%A4\",\"03d28377-2520-4a01-9f17-74c6cd21d9e1\",\"f7163a51-baff-4c0b-b2ca-18205ff8a3da\",\"304\");'>공유하기</a></li> </ul></div></li>, <li><div class=\"photo\"><a href=\"javascript:goSearchDetail('e3d4ff4b-bf91-4057-ab8d-28a33ac46863');\"> <img alt=\"도심과 바다를 넘나드는 모험 가득한 여행, 부산\" src=\"https://cdn.visitkorea.or.kr/img/call?cmd=VIEW&amp;id=e7f056f5-0a77-4464-b235-11ec43c59d15\"/> </a></div> <div class=\"area_txt\"> <div class=\"tit\"> <a href=\"javascript:goSearchDetail('e3d4ff4b-bf91-4057-ab8d-28a33ac46863');\"><em></em>도심과 <!--HS--><em>바다</em><!--HE-->를 넘나드는 모험 가득한 여행, 부산</a> </div> <div class=\"service\"> <p>부산 영도구</p> <ul class=\"brandingIcon\" id=\"branding_e3d4ff4b-bf91-4057-ab8d-28a33ac46863\"> </ul> </div> <p class=\"tag_type\"><span>#<em></em>영유아추천코스</span><span>#<em></em>부산가볼만한곳</span><span>#<em></em>태종대유원지</span><span>#<em></em>국립해양박물관</span><span>#<em></em>롯데백화점</span><span>#<em></em>부산시민공원</span><span>#<em></em>부산1박2일코스</span><span>#<em></em>부산2박3일코스</span><span>#<em></em>아이와함께</span><span>#<em></em>무장애여행지</span><span>#<em></em><em>바다</em></span><span>#<em></em>도심여행</span> </p></div><button class=\"btn_view\" onclick='viewClick(\"e3d4ff4b-bf91-4057-ab8d-28a33ac46863\")' title=\"열기\" type=\"button\">더보기</button><div class=\"pop_subMenu\"> <ul> <li class=\"btn_far\"><a href=\"javascript:\" onclick='setFavoContent(\"e3d4ff4b-bf91-4057-ab8d-28a33ac46863\")'>즐겨찾기</a></li> <li class=\"btn_share\" id=\"e3d4ff4b-bf91-4057-ab8d-28a33ac46863\"><a href=\"javascript:\" onclick='getShareInfo(\"%EB%8F%84%EC%8B%AC%EA%B3%BC%20%3C!HS%3E%EB%B0%94%EB%8B%A4%3C!HE%3E%EB%A5%BC%20%EB%84%98%EB%82%98%EB%93%9C%EB%8A%94%20%EB%AA%A8%ED%97%98%20%EA%B0%80%EB%93%9D%ED%95%9C%20%EC%97%AC%ED%96%89%2C%20%EB%B6%80%EC%82%B0\",\"e7f056f5-0a77-4464-b235-11ec43c59d15\",\"e3d4ff4b-bf91-4057-ab8d-28a33ac46863\",\"304\");'>공유하기</a></li> </ul></div></li>]\n",
      "====================================================================================================\n",
      "쪽빛 바다 가르며 '카약 타고 서핑하고'…남해 두모마을과 송정솔바람해변\n",
      "부산 \n",
      "[<li><div class=\"photo\"><a href=\"javascript:goSearchDetail('eb64d6f5-cb1c-400f-ac42-1e685b642dbb');\"> <img alt=\"별바다부산 야간관광 시리즈 3편 &lt;br&gt;마음을 물들이는 '감성 레포츠' 여행\" src=\"https://cdn.visitkorea.or.kr/img/call?cmd=VIEW&amp;id=f369ac46-1467-44e6-b5a4-22943aae41c7\"/> </a></div> <div class=\"area_txt\"> <div class=\"tit\"> <a href=\"javascript:goSearchDetail('eb64d6f5-cb1c-400f-ac42-1e685b642dbb');\"><em></em>별<!--HS--><em>바다</em><!--HE-->부산 야간관광 시리즈 3편 <br/>마음을 물들이는 '감성 레포츠' 여행</a> </div> <div class=\"service\"> <p>부산 </p> <ul class=\"brandingIcon\" id=\"branding_eb64d6f5-cb1c-400f-ac42-1e685b642dbb\"> </ul> </div> <p class=\"tag_type\"><span>#<em></em>부산여행</span><span>#<em></em>부산가볼만한곳</span><span>#<em></em>야간여행</span><span>#<em></em>부산레포츠</span><span>#<em></em>레포츠여행</span><span>#<em></em>마린시티</span><span>#<em></em>요트투어</span><span>#<em></em>광안리해수욕장</span><span>#<em></em>서핑</span><span>#<em></em>다대포해수욕장</span><span>#<em></em>제트스키</span><span>#<em></em>웨이크보드</span><span>#<em></em>다대포꿈의낙조분수</span><span>#<em></em>봉래산</span><span>#<em></em>트레킹</span><span>#<em></em>공공누리</span><span>#<em></em>별<em>바다</em>부산</span> </p></div><button class=\"btn_view\" onclick='viewClick(\"eb64d6f5-cb1c-400f-ac42-1e685b642dbb\")' title=\"열기\" type=\"button\">더보기</button><div class=\"pop_subMenu\"> <ul> <li class=\"btn_far\"><a href=\"javascript:\" onclick='setFavoContent(\"eb64d6f5-cb1c-400f-ac42-1e685b642dbb\")'>즐겨찾기</a></li> <li class=\"btn_share\" id=\"eb64d6f5-cb1c-400f-ac42-1e685b642dbb\"><a href=\"javascript:\" onclick='getShareInfo(\"%EB%B3%84%3C!HS%3E%EB%B0%94%EB%8B%A4%3C!HE%3E%EB%B6%80%EC%82%B0%20%EC%95%BC%EA%B0%84%EA%B4%80%EA%B4%91%20%EC%8B%9C%EB%A6%AC%EC%A6%88%203%ED%8E%B8%20%3Cbr%3E%EB%A7%88%EC%9D%8C%EC%9D%84%20%EB%AC%BC%EB%93%A4%EC%9D%B4%EB%8A%94%20%26%2339%3B%EA%B0%90%EC%84%B1%20%EB%A0%88%ED%8F%AC%EC%B8%A0%26%2339%3B%20%EC%97%AC%ED%96%89\",\"f369ac46-1467-44e6-b5a4-22943aae41c7\",\"eb64d6f5-cb1c-400f-ac42-1e685b642dbb\",\"304\");'>공유하기</a></li> </ul></div></li>, <li><div class=\"photo\"><a href=\"javascript:goSearchDetail('2326e9bf-8c6e-4fca-a915-6ea325260519');\"> <img alt=\"쪽빛 바다 가르며 '카약 타고 서핑하고'…&lt;br&gt;남해 두모마을과 송정솔바람해변\" src=\"https://cdn.visitkorea.or.kr/img/call?cmd=VIEW&amp;id=effed6f2-3383-49d0-9811-cb85cd959edc\"/> </a></div> <div class=\"area_txt\"> <div class=\"tit\"> <a href=\"javascript:goSearchDetail('2326e9bf-8c6e-4fca-a915-6ea325260519');\"><em></em>쪽빛 <!--HS--><em>바다</em><!--HE--> 가르며 '카약 타고 서핑하고'…<br/>남해 두모마을과 송정솔바람해변</a> </div> <div class=\"service\"> <p>경상남도 남해군</p> <ul class=\"brandingIcon\" id=\"branding_2326e9bf-8c6e-4fca-a915-6ea325260519\"> </ul> </div> <p class=\"tag_type\"><span>#<em></em>2020년9월추천가볼만한곳</span><span>#<em></em>9월추천가볼만한곳</span><span>#<em></em>추천가볼만한곳</span><span>#<em></em>9월가볼만한곳</span><span>#<em></em>수상레포츠</span><span>#<em></em>레포츠</span><span>#<em></em>레저활동</span><span>#<em></em>남해여행</span><span>#<em></em>남해가볼만한곳</span><span>#<em></em>공공누리</span><span>#<em></em>인생샷_핫플레이스</span><span>#<em></em>꿀잼_액티비티</span><span>#<em></em><em>바다</em>풍경여행</span> </p></div><button class=\"btn_view\" onclick='viewClick(\"2326e9bf-8c6e-4fca-a915-6ea325260519\")' title=\"열기\" type=\"button\">더보기</button><div class=\"pop_subMenu\"> <ul> <li class=\"btn_far\"><a href=\"javascript:\" onclick='setFavoContent(\"2326e9bf-8c6e-4fca-a915-6ea325260519\")'>즐겨찾기</a></li> <li class=\"btn_share\" id=\"2326e9bf-8c6e-4fca-a915-6ea325260519\"><a href=\"javascript:\" onclick='getShareInfo(\"%EC%AA%BD%EB%B9%9B%20%3C!HS%3E%EB%B0%94%EB%8B%A4%3C!HE%3E%20%EA%B0%80%EB%A5%B4%EB%A9%B0%20%26%2339%3B%EC%B9%B4%EC%95%BD%20%ED%83%80%EA%B3%A0%20%EC%84%9C%ED%95%91%ED%95%98%EA%B3%A0%26%2339%3B%E2%80%A6%3Cbr%3E%EB%82%A8%ED%95%B4%20%EB%91%90%EB%AA%A8%EB%A7%88%EC%9D%84%EA%B3%BC%20%EC%86%A1%EC%A0%95%EC%86%94%EB%B0%94%EB%9E%8C%ED%95%B4%EB%B3%80\",\"effed6f2-3383-49d0-9811-cb85cd959edc\",\"2326e9bf-8c6e-4fca-a915-6ea325260519\",\"304\");'>공유하기</a></li> </ul></div></li>, <li><div class=\"photo\"><a href=\"javascript:goSearchDetail('8f2550c8-1af2-496e-9eac-89e1c723d9bd');\"> <img alt=\"쪽빛 남쪽바다가 눈부시게 펼쳐진 길, &lt;br&gt;저도 비치로드\" src=\"https://cdn.visitkorea.or.kr/img/call?cmd=VIEW&amp;id=b0a83333-7216-4b73-b6f8-d06705708898\"/> </a></div> <div class=\"area_txt\"> <div class=\"tit\"> <a href=\"javascript:goSearchDetail('8f2550c8-1af2-496e-9eac-89e1c723d9bd');\"><em></em>쪽빛 남쪽<!--HS--><em>바다</em><!--HE-->가 눈부시게 펼쳐진 길, <br/>저도 비치로드</a> </div> <div class=\"service\"> <p>경상남도 창원시</p> <ul class=\"brandingIcon\" id=\"branding_8f2550c8-1af2-496e-9eac-89e1c723d9bd\"> </ul> </div> <p class=\"tag_type\"><span>#<em></em>2021겨울시즌비대면안심관광지25선</span><span>#<em></em>창원여행</span><span>#<em></em>창원가볼만한곳</span><span>#<em></em>저도</span><span>#<em></em>저도비치로드</span><span>#<em></em>섬</span><span>#<em></em>스카이워크</span><span>#<em></em>풍경어행</span><span>#<em></em>해안데크로드</span><span>#<em></em>용두산</span><span>#<em></em>걷기좋은길</span><span>#<em></em><em>바다</em>풍경여행</span><span>#<em></em>2021비대면안심관광지</span><span>#<em></em>비대면안심관광지</span><span>#<em></em>비대면_안심관광지</span><span>#<em></em>경상권_비대면관광지</span><span>#<em></em>겨울_비대면관광지</span><span>#<em></em>자연과함께</span> </p></div><button class=\"btn_view\" onclick='viewClick(\"8f2550c8-1af2-496e-9eac-89e1c723d9bd\")' title=\"열기\" type=\"button\">더보기</button><div class=\"pop_subMenu\"> <ul> <li class=\"btn_far\"><a href=\"javascript:\" onclick='setFavoContent(\"8f2550c8-1af2-496e-9eac-89e1c723d9bd\")'>즐겨찾기</a></li> <li class=\"btn_share\" id=\"8f2550c8-1af2-496e-9eac-89e1c723d9bd\"><a href=\"javascript:\" onclick='getShareInfo(\"%EC%AA%BD%EB%B9%9B%20%EB%82%A8%EC%AA%BD%3C!HS%3E%EB%B0%94%EB%8B%A4%3C!HE%3E%EA%B0%80%20%EB%88%88%EB%B6%80%EC%8B%9C%EA%B2%8C%20%ED%8E%BC%EC%B3%90%EC%A7%84%20%EA%B8%B8%2C%20%3Cbr%3E%EC%A0%80%EB%8F%84%20%EB%B9%84%EC%B9%98%EB%A1%9C%EB%93%9C\",\"b0a83333-7216-4b73-b6f8-d06705708898\",\"8f2550c8-1af2-496e-9eac-89e1c723d9bd\",\"304\");'>공유하기</a></li> </ul></div></li>, <li><div class=\"photo\"><a href=\"javascript:goSearchDetail('cf05953e-e99e-4372-bdc0-1a57fe0c120f');\"> <img alt=\"고성, 양양, 강릉까지 시원한 강원도 바다 완전정복!\" src=\"https://cdn.visitkorea.or.kr/img/call?cmd=VIEW&amp;id=eae265f9-2e74-485b-bdf1-f0cc6bf529f1\"/> </a></div> <div class=\"area_txt\"> <div class=\"tit\"> <a href=\"javascript:goSearchDetail('cf05953e-e99e-4372-bdc0-1a57fe0c120f');\"><em></em>고성, 양양, 강릉까지 시원한 강원도 <!--HS--><em>바다</em><!--HE--> 완전정복!</a> </div> <div class=\"service\"> <p>강원도 </p> <ul class=\"brandingIcon\" id=\"branding_cf05953e-e99e-4372-bdc0-1a57fe0c120f\"> </ul> </div> <p class=\"tag_type\"><span>#<em></em>강원도여행</span><span>#<em></em>강원도가볼만한곳</span><span>#<em></em><em>바다</em>여행</span><span>#<em></em>아야진해수욕장</span><span>#<em></em>하조대해수욕장</span><span>#<em></em>향호해변</span><span>#<em></em>영진해변</span><span>#<em></em>도깨비촬영지</span><span>#<em></em>금진해변</span> </p></div><button class=\"btn_view\" onclick='viewClick(\"cf05953e-e99e-4372-bdc0-1a57fe0c120f\")' title=\"열기\" type=\"button\">더보기</button><div class=\"pop_subMenu\"> <ul> <li class=\"btn_far\"><a href=\"javascript:\" onclick='setFavoContent(\"cf05953e-e99e-4372-bdc0-1a57fe0c120f\")'>즐겨찾기</a></li> <li class=\"btn_share\" id=\"cf05953e-e99e-4372-bdc0-1a57fe0c120f\"><a href=\"javascript:\" onclick='getShareInfo(\"%EA%B3%A0%EC%84%B1%2C%20%EC%96%91%EC%96%91%2C%20%EA%B0%95%EB%A6%89%EA%B9%8C%EC%A7%80%20%EC%8B%9C%EC%9B%90%ED%95%9C%20%EA%B0%95%EC%9B%90%EB%8F%84%20%3C!HS%3E%EB%B0%94%EB%8B%A4%3C!HE%3E%20%EC%99%84%EC%A0%84%EC%A0%95%EB%B3%B5!\",\"eae265f9-2e74-485b-bdf1-f0cc6bf529f1\",\"cf05953e-e99e-4372-bdc0-1a57fe0c120f\",\"304\");'>공유하기</a></li> </ul></div></li>, <li class=\"banner_area\"> <div class=\"pc\"> <a class=\"banner0\" href=\"https://korean.visitkorea.or.kr/detail/event_detail.do?cotid=d80c2c04-6e0c-4b9f-be9c-f08be21a120a\"><span><img alt=\"'당신의 최애 맛집은?' 최애 맛집 제보 이벤트\" src=\"https://cdn.visitkorea.or.kr/img/call?cmd=VIEW&amp;id=1e79be09-10f1-4855-96c0-c2a9c2f1ab86\"/></span></a> <a class=\"banner1\" href=\"https://korean.visitkorea.or.kr/trss/applyintro.do?utm_source=main_showcase\"><span><img alt=\"핫플 정기 배송! 가볼래-터 구독하고 여행 선물 받자!\" src=\"https://cdn.visitkorea.or.kr/img/call?cmd=VIEW&amp;id=de94ca57-7ff4-475c-babd-c3810cda3afc\"/></span></a> </div></li>, <li><div class=\"photo\"><a href=\"javascript:goSearchDetail('7dbf3247-871f-4be8-b575-ff64751a3a6c');\"> <img alt=\"부산 도심에서 가장 빨리 기장의 바다를 만나는 동해선\" src=\"https://cdn.visitkorea.or.kr/img/call?cmd=VIEW&amp;id=91402ff5-90c5-4a15-a88a-a498da4ab3aa\"/> </a></div> <div class=\"area_txt\"> <div class=\"tit\"> <a href=\"javascript:goSearchDetail('7dbf3247-871f-4be8-b575-ff64751a3a6c');\"><em></em>부산 도심에서 가장 빨리 기장의 <!--HS--><em>바다</em><!--HE-->를 만나는 동해선</a> </div> <div class=\"service\"> <p>부산</p> <ul class=\"brandingIcon\" id=\"branding_7dbf3247-871f-4be8-b575-ff64751a3a6c\"> </ul> </div> <p class=\"tag_type\"><span>#<em></em>부산</span><span>#<em></em>동해선</span><span>#<em></em>수영사적공원</span><span>#<em></em>국립부산과학관</span><span>#<em></em>죽성드림성당</span><span>#<em></em>기장죽성리왜성</span><span>#<em></em>기장죽성리해송</span><span>#<em></em>대변항장승등대</span><span>#<em></em>대변항</span><span>#<em></em>일광해수욕장</span><span>#<em></em>송도구름산책로</span><span>#<em></em>송도해상케이블카</span><span>#<em></em>황령산</span><span>#<em></em><em>바다</em></span><span>#<em></em>일몰</span><span>#<em></em>추천가볼만한곳</span><span>#<em></em>부산가볼만한곳</span><span>#<em></em>부산당일코스</span><span>#<em></em>부산1박2일코스</span><span>#<em></em>지하철여행</span><span>#<em></em>추천가볼만한곳</span><span>#<em></em>2018년3월추천가볼만한곳</span><span>#<em></em>겨울기차여행</span><span>#<em></em>2월가볼만한곳</span><span>#<em></em><em>바다</em>풍경여행</span> </p></div><button class=\"btn_view\" onclick='viewClick(\"7dbf3247-871f-4be8-b575-ff64751a3a6c\")' title=\"열기\" type=\"button\">더보기</button><div class=\"pop_subMenu\"> <ul> <li class=\"btn_far\"><a href=\"javascript:\" onclick='setFavoContent(\"7dbf3247-871f-4be8-b575-ff64751a3a6c\")'>즐겨찾기</a></li> <li class=\"btn_share\" id=\"7dbf3247-871f-4be8-b575-ff64751a3a6c\"><a href=\"javascript:\" onclick='getShareInfo(\"%EB%B6%80%EC%82%B0%20%EB%8F%84%EC%8B%AC%EC%97%90%EC%84%9C%20%EA%B0%80%EC%9E%A5%20%EB%B9%A8%EB%A6%AC%20%EA%B8%B0%EC%9E%A5%EC%9D%98%20%3C!HS%3E%EB%B0%94%EB%8B%A4%3C!HE%3E%EB%A5%BC%20%EB%A7%8C%EB%82%98%EB%8A%94%20%EB%8F%99%ED%95%B4%EC%84%A0\",\"91402ff5-90c5-4a15-a88a-a498da4ab3aa\",\"7dbf3247-871f-4be8-b575-ff64751a3a6c\",\"304\");'>공유하기</a></li> </ul></div></li>, <li><div class=\"photo\"><a href=\"javascript:goSearchDetail('9bea15e9-d29d-4977-a4b2-c06a3a3c0ab2');\"> <img alt=\"어디서든 바다\" src=\"https://cdn.visitkorea.or.kr/img/call?cmd=VIEW&amp;id=7828499a-7098-44a1-88b4-cd79af7698cc\"/> </a></div> <div class=\"area_txt\"> <div class=\"tit\"> <a href=\"javascript:goSearchDetail('9bea15e9-d29d-4977-a4b2-c06a3a3c0ab2');\"><em></em>어디서든 <!--HS--><em>바다</em><!--HE--></a> </div> <div class=\"service\"> <p>경상남도 통영시</p> <ul class=\"brandingIcon\" id=\"branding_9bea15e9-d29d-4977-a4b2-c06a3a3c0ab2\"> </ul> </div> <p class=\"tag_type\"><span>#<em></em><em>바다</em></span><span>#<em></em>통영</span><span>#<em></em>삼칭이길</span><span>#<em></em>통영케이블카</span><span>#<em></em>평안</span><span>#<em></em>박경리기념관</span><span>#<em></em>장애인</span><span>#<em></em>장애인숙박</span><span>#<em></em>장애인추천여행지</span><span>#<em></em>장애인추천코스</span><span>#<em></em>월요일엔 저스트고!</span><span>#<em></em>월요일엔 저스트 고!</span><span>#<em></em>모두의관광_열린여행</span><span>#<em></em>모두가_행복한_여행</span><span>#<em></em><em>바다</em>풍경여행</span> </p></div><button class=\"btn_view\" onclick='viewClick(\"9bea15e9-d29d-4977-a4b2-c06a3a3c0ab2\")' title=\"열기\" type=\"button\">더보기</button><div class=\"pop_subMenu\"> <ul> <li class=\"btn_far\"><a href=\"javascript:\" onclick='setFavoContent(\"9bea15e9-d29d-4977-a4b2-c06a3a3c0ab2\")'>즐겨찾기</a></li> <li class=\"btn_share\" id=\"9bea15e9-d29d-4977-a4b2-c06a3a3c0ab2\"><a href=\"javascript:\" onclick='getShareInfo(\"%EC%96%B4%EB%94%94%EC%84%9C%EB%93%A0%20%3C!HS%3E%EB%B0%94%EB%8B%A4%3C!HE%3E\",\"7828499a-7098-44a1-88b4-cd79af7698cc\",\"9bea15e9-d29d-4977-a4b2-c06a3a3c0ab2\",\"304\");'>공유하기</a></li> </ul></div></li>, <li><div class=\"photo\"><a href=\"javascript:goSearchDetail('7b01802b-b8ff-47be-a8f4-150fe38de7b3');\"> <img alt=\"머리 위엔 모노레일, 발밑은 유리알 바다 &lt;br&gt;달맞이길 달리는 해운대 블루라인파크 해변열차\" src=\"https://cdn.visitkorea.or.kr/img/call?cmd=VIEW&amp;id=4ad46443-2257-47b2-96eb-13a679399f87\"/> </a></div> <div class=\"area_txt\"> <div class=\"tit\"> <a href=\"javascript:goSearchDetail('7b01802b-b8ff-47be-a8f4-150fe38de7b3');\"><em></em>머리 위엔 모노레일, 발밑은 유리알 <!--HS--><em>바다</em><!--HE--> <br/>달맞이길 달리는 해운대 블루라인파크 해변열차</a> </div> <div class=\"service\"> <p>부산 해운대구</p> <ul class=\"brandingIcon\" id=\"branding_7b01802b-b8ff-47be-a8f4-150fe38de7b3\"> </ul> </div> <p class=\"tag_type\"><span>#<em></em>부산여행</span><span>#<em></em>부산가볼만한곳</span><span>#<em></em>해변열차</span><span>#<em></em>해운대블루라인파크</span><span>#<em></em>송정해변</span><span>#<em></em>청사포다릿돌전망대</span><span>#<em></em>달맞이터널</span><span>#<em></em>공공누리</span><span>#<em></em><em>바다</em>풍경여행</span><span>#<em></em>꿀잼_액티비티</span><span>#<em></em>미포</span><span>#<em></em>모노레일</span><span>#<em></em>이색관광지</span><span>#<em></em>송정역</span> </p></div><button class=\"btn_view\" onclick='viewClick(\"7b01802b-b8ff-47be-a8f4-150fe38de7b3\")' title=\"열기\" type=\"button\">더보기</button><div class=\"pop_subMenu\"> <ul> <li class=\"btn_far\"><a href=\"javascript:\" onclick='setFavoContent(\"7b01802b-b8ff-47be-a8f4-150fe38de7b3\")'>즐겨찾기</a></li> <li class=\"btn_share\" id=\"7b01802b-b8ff-47be-a8f4-150fe38de7b3\"><a href=\"javascript:\" onclick='getShareInfo(\"%EB%A8%B8%EB%A6%AC%20%EC%9C%84%EC%97%94%20%EB%AA%A8%EB%85%B8%EB%A0%88%EC%9D%BC%2C%20%EB%B0%9C%EB%B0%91%EC%9D%80%20%EC%9C%A0%EB%A6%AC%EC%95%8C%20%3C!HS%3E%EB%B0%94%EB%8B%A4%3C!HE%3E%20%3Cbr%3E%EB%8B%AC%EB%A7%9E%EC%9D%B4%EA%B8%B8%20%EB%8B%AC%EB%A6%AC%EB%8A%94%20%ED%95%B4%EC%9A%B4%EB%8C%80%20%EB%B8%94%EB%A3%A8%EB%9D%BC%EC%9D%B8%ED%8C%8C%ED%81%AC%20%ED%95%B4%EB%B3%80%EC%97%B4%EC%B0%A8\",\"4ad46443-2257-47b2-96eb-13a679399f87\",\"7b01802b-b8ff-47be-a8f4-150fe38de7b3\",\"304\");'>공유하기</a></li> </ul></div></li>, <li><div class=\"photo\"><a href=\"javascript:goSearchDetail('ebc0ce07-b6bf-4d4b-bc19-bec4933157a6');\"> <img alt=\"향기에 취하고 바다에 반하고, &lt;br&gt;안산 바다향기수목원\" src=\"https://cdn.visitkorea.or.kr/img/call?cmd=VIEW&amp;id=1d100f2b-d3c8-42d2-a570-24b434b6d074\"/> </a></div> <div class=\"area_txt\"> <div class=\"tit\"> <a href=\"javascript:goSearchDetail('ebc0ce07-b6bf-4d4b-bc19-bec4933157a6');\"><em></em>향기에 취하고 <!--HS--><em>바다</em><!--HE-->에 반하고, <br/>안산 <!--HS-->바다<!--HE-->향기수목원</a> </div> <div class=\"service\"> <p>경기도 안산시</p> <ul class=\"brandingIcon\" id=\"branding_ebc0ce07-b6bf-4d4b-bc19-bec4933157a6\"> </ul> </div> <p class=\"tag_type\"><span>#<em></em>숨은관광지</span><span>#<em></em>안산여행</span><span>#<em></em>안산가볼만한곳</span><span>#<em></em><em>바다</em>향기수목원</span><span>#<em></em>공공누리</span><span>#<em></em>6월가볼만한곳</span><span>#<em></em>수목원</span> </p></div><button class=\"btn_view\" onclick='viewClick(\"ebc0ce07-b6bf-4d4b-bc19-bec4933157a6\")' title=\"열기\" type=\"button\">더보기</button><div class=\"pop_subMenu\"> <ul> <li class=\"btn_far\"><a href=\"javascript:\" onclick='setFavoContent(\"ebc0ce07-b6bf-4d4b-bc19-bec4933157a6\")'>즐겨찾기</a></li> <li class=\"btn_share\" id=\"ebc0ce07-b6bf-4d4b-bc19-bec4933157a6\"><a href=\"javascript:\" onclick='getShareInfo(\"%ED%96%A5%EA%B8%B0%EC%97%90%20%EC%B7%A8%ED%95%98%EA%B3%A0%20%3C!HS%3E%EB%B0%94%EB%8B%A4%3C!HE%3E%EC%97%90%20%EB%B0%98%ED%95%98%EA%B3%A0%2C%20%3Cbr%3E%EC%95%88%EC%82%B0%20%3C!HS%3E%EB%B0%94%EB%8B%A4%3C!HE%3E%ED%96%A5%EA%B8%B0%EC%88%98%EB%AA%A9%EC%9B%90\",\"1d100f2b-d3c8-42d2-a570-24b434b6d074\",\"ebc0ce07-b6bf-4d4b-bc19-bec4933157a6\",\"304\");'>공유하기</a></li> </ul></div></li>, <li><div class=\"photo\"><a href=\"javascript:goSearchDetail('f7163a51-baff-4c0b-b2ca-18205ff8a3da');\"> <img alt=\"별바다부산 야간관광 시리즈 1편 &lt;br&gt;'하트'를 뛰게 하는 '아트'적인 부산의 밤\" src=\"https://cdn.visitkorea.or.kr/img/call?cmd=VIEW&amp;id=03d28377-2520-4a01-9f17-74c6cd21d9e1\"/> </a></div> <div class=\"area_txt\"> <div class=\"tit\"> <a href=\"javascript:goSearchDetail('f7163a51-baff-4c0b-b2ca-18205ff8a3da');\"><em></em>별<!--HS--><em>바다</em><!--HE-->부산 야간관광 시리즈 1편 <br/>'하트'를 뛰게 하는 '아트'적인 부산의 밤</a> </div> <div class=\"service\"> <p>부산 </p> <ul class=\"brandingIcon\" id=\"branding_f7163a51-baff-4c0b-b2ca-18205ff8a3da\"> </ul> </div> <p class=\"tag_type\"><span>#<em></em>부산여행</span><span>#<em></em>부산가볼만한곳</span><span>#<em></em>야간여행</span><span>#<em></em>F1963</span><span>#<em></em>영화의전당</span><span>#<em></em>부산영화의전당</span><span>#<em></em>감천문화마을</span><span>#<em></em>부산감천문화마을</span><span>#<em></em>흰여울문화마을</span><span>#<em></em>부산흰여울문화마을</span><span>#<em></em>공공누리</span><span>#<em></em>별<em>바다</em>부산</span> </p></div><button class=\"btn_view\" onclick='viewClick(\"f7163a51-baff-4c0b-b2ca-18205ff8a3da\")' title=\"열기\" type=\"button\">더보기</button><div class=\"pop_subMenu\"> <ul> <li class=\"btn_far\"><a href=\"javascript:\" onclick='setFavoContent(\"f7163a51-baff-4c0b-b2ca-18205ff8a3da\")'>즐겨찾기</a></li> <li class=\"btn_share\" id=\"f7163a51-baff-4c0b-b2ca-18205ff8a3da\"><a href=\"javascript:\" onclick='getShareInfo(\"%EB%B3%84%3C!HS%3E%EB%B0%94%EB%8B%A4%3C!HE%3E%EB%B6%80%EC%82%B0%20%EC%95%BC%EA%B0%84%EA%B4%80%EA%B4%91%20%EC%8B%9C%EB%A6%AC%EC%A6%88%201%ED%8E%B8%20%3Cbr%3E%26%2339%3B%ED%95%98%ED%8A%B8%26%2339%3B%EB%A5%BC%20%EB%9B%B0%EA%B2%8C%20%ED%95%98%EB%8A%94%20%26%2339%3B%EC%95%84%ED%8A%B8%26%2339%3B%EC%A0%81%EC%9D%B8%20%EB%B6%80%EC%82%B0%EC%9D%98%20%EB%B0%A4\",\"03d28377-2520-4a01-9f17-74c6cd21d9e1\",\"f7163a51-baff-4c0b-b2ca-18205ff8a3da\",\"304\");'>공유하기</a></li> </ul></div></li>, <li><div class=\"photo\"><a href=\"javascript:goSearchDetail('e3d4ff4b-bf91-4057-ab8d-28a33ac46863');\"> <img alt=\"도심과 바다를 넘나드는 모험 가득한 여행, 부산\" src=\"https://cdn.visitkorea.or.kr/img/call?cmd=VIEW&amp;id=e7f056f5-0a77-4464-b235-11ec43c59d15\"/> </a></div> <div class=\"area_txt\"> <div class=\"tit\"> <a href=\"javascript:goSearchDetail('e3d4ff4b-bf91-4057-ab8d-28a33ac46863');\"><em></em>도심과 <!--HS--><em>바다</em><!--HE-->를 넘나드는 모험 가득한 여행, 부산</a> </div> <div class=\"service\"> <p>부산 영도구</p> <ul class=\"brandingIcon\" id=\"branding_e3d4ff4b-bf91-4057-ab8d-28a33ac46863\"> </ul> </div> <p class=\"tag_type\"><span>#<em></em>영유아추천코스</span><span>#<em></em>부산가볼만한곳</span><span>#<em></em>태종대유원지</span><span>#<em></em>국립해양박물관</span><span>#<em></em>롯데백화점</span><span>#<em></em>부산시민공원</span><span>#<em></em>부산1박2일코스</span><span>#<em></em>부산2박3일코스</span><span>#<em></em>아이와함께</span><span>#<em></em>무장애여행지</span><span>#<em></em><em>바다</em></span><span>#<em></em>도심여행</span> </p></div><button class=\"btn_view\" onclick='viewClick(\"e3d4ff4b-bf91-4057-ab8d-28a33ac46863\")' title=\"열기\" type=\"button\">더보기</button><div class=\"pop_subMenu\"> <ul> <li class=\"btn_far\"><a href=\"javascript:\" onclick='setFavoContent(\"e3d4ff4b-bf91-4057-ab8d-28a33ac46863\")'>즐겨찾기</a></li> <li class=\"btn_share\" id=\"e3d4ff4b-bf91-4057-ab8d-28a33ac46863\"><a href=\"javascript:\" onclick='getShareInfo(\"%EB%8F%84%EC%8B%AC%EA%B3%BC%20%3C!HS%3E%EB%B0%94%EB%8B%A4%3C!HE%3E%EB%A5%BC%20%EB%84%98%EB%82%98%EB%93%9C%EB%8A%94%20%EB%AA%A8%ED%97%98%20%EA%B0%80%EB%93%9D%ED%95%9C%20%EC%97%AC%ED%96%89%2C%20%EB%B6%80%EC%82%B0\",\"e7f056f5-0a77-4464-b235-11ec43c59d15\",\"e3d4ff4b-bf91-4057-ab8d-28a33ac46863\",\"304\");'>공유하기</a></li> </ul></div></li>]\n",
      "====================================================================================================\n",
      "쪽빛 남쪽바다가 눈부시게 펼쳐진 길, 저도 비치로드\n",
      "부산 \n",
      "[<li><div class=\"photo\"><a href=\"javascript:goSearchDetail('eb64d6f5-cb1c-400f-ac42-1e685b642dbb');\"> <img alt=\"별바다부산 야간관광 시리즈 3편 &lt;br&gt;마음을 물들이는 '감성 레포츠' 여행\" src=\"https://cdn.visitkorea.or.kr/img/call?cmd=VIEW&amp;id=f369ac46-1467-44e6-b5a4-22943aae41c7\"/> </a></div> <div class=\"area_txt\"> <div class=\"tit\"> <a href=\"javascript:goSearchDetail('eb64d6f5-cb1c-400f-ac42-1e685b642dbb');\"><em></em>별<!--HS--><em>바다</em><!--HE-->부산 야간관광 시리즈 3편 <br/>마음을 물들이는 '감성 레포츠' 여행</a> </div> <div class=\"service\"> <p>부산 </p> <ul class=\"brandingIcon\" id=\"branding_eb64d6f5-cb1c-400f-ac42-1e685b642dbb\"> </ul> </div> <p class=\"tag_type\"><span>#<em></em>부산여행</span><span>#<em></em>부산가볼만한곳</span><span>#<em></em>야간여행</span><span>#<em></em>부산레포츠</span><span>#<em></em>레포츠여행</span><span>#<em></em>마린시티</span><span>#<em></em>요트투어</span><span>#<em></em>광안리해수욕장</span><span>#<em></em>서핑</span><span>#<em></em>다대포해수욕장</span><span>#<em></em>제트스키</span><span>#<em></em>웨이크보드</span><span>#<em></em>다대포꿈의낙조분수</span><span>#<em></em>봉래산</span><span>#<em></em>트레킹</span><span>#<em></em>공공누리</span><span>#<em></em>별<em>바다</em>부산</span> </p></div><button class=\"btn_view\" onclick='viewClick(\"eb64d6f5-cb1c-400f-ac42-1e685b642dbb\")' title=\"열기\" type=\"button\">더보기</button><div class=\"pop_subMenu\"> <ul> <li class=\"btn_far\"><a href=\"javascript:\" onclick='setFavoContent(\"eb64d6f5-cb1c-400f-ac42-1e685b642dbb\")'>즐겨찾기</a></li> <li class=\"btn_share\" id=\"eb64d6f5-cb1c-400f-ac42-1e685b642dbb\"><a href=\"javascript:\" onclick='getShareInfo(\"%EB%B3%84%3C!HS%3E%EB%B0%94%EB%8B%A4%3C!HE%3E%EB%B6%80%EC%82%B0%20%EC%95%BC%EA%B0%84%EA%B4%80%EA%B4%91%20%EC%8B%9C%EB%A6%AC%EC%A6%88%203%ED%8E%B8%20%3Cbr%3E%EB%A7%88%EC%9D%8C%EC%9D%84%20%EB%AC%BC%EB%93%A4%EC%9D%B4%EB%8A%94%20%26%2339%3B%EA%B0%90%EC%84%B1%20%EB%A0%88%ED%8F%AC%EC%B8%A0%26%2339%3B%20%EC%97%AC%ED%96%89\",\"f369ac46-1467-44e6-b5a4-22943aae41c7\",\"eb64d6f5-cb1c-400f-ac42-1e685b642dbb\",\"304\");'>공유하기</a></li> </ul></div></li>, <li><div class=\"photo\"><a href=\"javascript:goSearchDetail('2326e9bf-8c6e-4fca-a915-6ea325260519');\"> <img alt=\"쪽빛 바다 가르며 '카약 타고 서핑하고'…&lt;br&gt;남해 두모마을과 송정솔바람해변\" src=\"https://cdn.visitkorea.or.kr/img/call?cmd=VIEW&amp;id=effed6f2-3383-49d0-9811-cb85cd959edc\"/> </a></div> <div class=\"area_txt\"> <div class=\"tit\"> <a href=\"javascript:goSearchDetail('2326e9bf-8c6e-4fca-a915-6ea325260519');\"><em></em>쪽빛 <!--HS--><em>바다</em><!--HE--> 가르며 '카약 타고 서핑하고'…<br/>남해 두모마을과 송정솔바람해변</a> </div> <div class=\"service\"> <p>경상남도 남해군</p> <ul class=\"brandingIcon\" id=\"branding_2326e9bf-8c6e-4fca-a915-6ea325260519\"> </ul> </div> <p class=\"tag_type\"><span>#<em></em>2020년9월추천가볼만한곳</span><span>#<em></em>9월추천가볼만한곳</span><span>#<em></em>추천가볼만한곳</span><span>#<em></em>9월가볼만한곳</span><span>#<em></em>수상레포츠</span><span>#<em></em>레포츠</span><span>#<em></em>레저활동</span><span>#<em></em>남해여행</span><span>#<em></em>남해가볼만한곳</span><span>#<em></em>공공누리</span><span>#<em></em>인생샷_핫플레이스</span><span>#<em></em>꿀잼_액티비티</span><span>#<em></em><em>바다</em>풍경여행</span> </p></div><button class=\"btn_view\" onclick='viewClick(\"2326e9bf-8c6e-4fca-a915-6ea325260519\")' title=\"열기\" type=\"button\">더보기</button><div class=\"pop_subMenu\"> <ul> <li class=\"btn_far\"><a href=\"javascript:\" onclick='setFavoContent(\"2326e9bf-8c6e-4fca-a915-6ea325260519\")'>즐겨찾기</a></li> <li class=\"btn_share\" id=\"2326e9bf-8c6e-4fca-a915-6ea325260519\"><a href=\"javascript:\" onclick='getShareInfo(\"%EC%AA%BD%EB%B9%9B%20%3C!HS%3E%EB%B0%94%EB%8B%A4%3C!HE%3E%20%EA%B0%80%EB%A5%B4%EB%A9%B0%20%26%2339%3B%EC%B9%B4%EC%95%BD%20%ED%83%80%EA%B3%A0%20%EC%84%9C%ED%95%91%ED%95%98%EA%B3%A0%26%2339%3B%E2%80%A6%3Cbr%3E%EB%82%A8%ED%95%B4%20%EB%91%90%EB%AA%A8%EB%A7%88%EC%9D%84%EA%B3%BC%20%EC%86%A1%EC%A0%95%EC%86%94%EB%B0%94%EB%9E%8C%ED%95%B4%EB%B3%80\",\"effed6f2-3383-49d0-9811-cb85cd959edc\",\"2326e9bf-8c6e-4fca-a915-6ea325260519\",\"304\");'>공유하기</a></li> </ul></div></li>, <li><div class=\"photo\"><a href=\"javascript:goSearchDetail('8f2550c8-1af2-496e-9eac-89e1c723d9bd');\"> <img alt=\"쪽빛 남쪽바다가 눈부시게 펼쳐진 길, &lt;br&gt;저도 비치로드\" src=\"https://cdn.visitkorea.or.kr/img/call?cmd=VIEW&amp;id=b0a83333-7216-4b73-b6f8-d06705708898\"/> </a></div> <div class=\"area_txt\"> <div class=\"tit\"> <a href=\"javascript:goSearchDetail('8f2550c8-1af2-496e-9eac-89e1c723d9bd');\"><em></em>쪽빛 남쪽<!--HS--><em>바다</em><!--HE-->가 눈부시게 펼쳐진 길, <br/>저도 비치로드</a> </div> <div class=\"service\"> <p>경상남도 창원시</p> <ul class=\"brandingIcon\" id=\"branding_8f2550c8-1af2-496e-9eac-89e1c723d9bd\"> </ul> </div> <p class=\"tag_type\"><span>#<em></em>2021겨울시즌비대면안심관광지25선</span><span>#<em></em>창원여행</span><span>#<em></em>창원가볼만한곳</span><span>#<em></em>저도</span><span>#<em></em>저도비치로드</span><span>#<em></em>섬</span><span>#<em></em>스카이워크</span><span>#<em></em>풍경어행</span><span>#<em></em>해안데크로드</span><span>#<em></em>용두산</span><span>#<em></em>걷기좋은길</span><span>#<em></em><em>바다</em>풍경여행</span><span>#<em></em>2021비대면안심관광지</span><span>#<em></em>비대면안심관광지</span><span>#<em></em>비대면_안심관광지</span><span>#<em></em>경상권_비대면관광지</span><span>#<em></em>겨울_비대면관광지</span><span>#<em></em>자연과함께</span> </p></div><button class=\"btn_view\" onclick='viewClick(\"8f2550c8-1af2-496e-9eac-89e1c723d9bd\")' title=\"열기\" type=\"button\">더보기</button><div class=\"pop_subMenu\"> <ul> <li class=\"btn_far\"><a href=\"javascript:\" onclick='setFavoContent(\"8f2550c8-1af2-496e-9eac-89e1c723d9bd\")'>즐겨찾기</a></li> <li class=\"btn_share\" id=\"8f2550c8-1af2-496e-9eac-89e1c723d9bd\"><a href=\"javascript:\" onclick='getShareInfo(\"%EC%AA%BD%EB%B9%9B%20%EB%82%A8%EC%AA%BD%3C!HS%3E%EB%B0%94%EB%8B%A4%3C!HE%3E%EA%B0%80%20%EB%88%88%EB%B6%80%EC%8B%9C%EA%B2%8C%20%ED%8E%BC%EC%B3%90%EC%A7%84%20%EA%B8%B8%2C%20%3Cbr%3E%EC%A0%80%EB%8F%84%20%EB%B9%84%EC%B9%98%EB%A1%9C%EB%93%9C\",\"b0a83333-7216-4b73-b6f8-d06705708898\",\"8f2550c8-1af2-496e-9eac-89e1c723d9bd\",\"304\");'>공유하기</a></li> </ul></div></li>, <li><div class=\"photo\"><a href=\"javascript:goSearchDetail('cf05953e-e99e-4372-bdc0-1a57fe0c120f');\"> <img alt=\"고성, 양양, 강릉까지 시원한 강원도 바다 완전정복!\" src=\"https://cdn.visitkorea.or.kr/img/call?cmd=VIEW&amp;id=eae265f9-2e74-485b-bdf1-f0cc6bf529f1\"/> </a></div> <div class=\"area_txt\"> <div class=\"tit\"> <a href=\"javascript:goSearchDetail('cf05953e-e99e-4372-bdc0-1a57fe0c120f');\"><em></em>고성, 양양, 강릉까지 시원한 강원도 <!--HS--><em>바다</em><!--HE--> 완전정복!</a> </div> <div class=\"service\"> <p>강원도 </p> <ul class=\"brandingIcon\" id=\"branding_cf05953e-e99e-4372-bdc0-1a57fe0c120f\"> </ul> </div> <p class=\"tag_type\"><span>#<em></em>강원도여행</span><span>#<em></em>강원도가볼만한곳</span><span>#<em></em><em>바다</em>여행</span><span>#<em></em>아야진해수욕장</span><span>#<em></em>하조대해수욕장</span><span>#<em></em>향호해변</span><span>#<em></em>영진해변</span><span>#<em></em>도깨비촬영지</span><span>#<em></em>금진해변</span> </p></div><button class=\"btn_view\" onclick='viewClick(\"cf05953e-e99e-4372-bdc0-1a57fe0c120f\")' title=\"열기\" type=\"button\">더보기</button><div class=\"pop_subMenu\"> <ul> <li class=\"btn_far\"><a href=\"javascript:\" onclick='setFavoContent(\"cf05953e-e99e-4372-bdc0-1a57fe0c120f\")'>즐겨찾기</a></li> <li class=\"btn_share\" id=\"cf05953e-e99e-4372-bdc0-1a57fe0c120f\"><a href=\"javascript:\" onclick='getShareInfo(\"%EA%B3%A0%EC%84%B1%2C%20%EC%96%91%EC%96%91%2C%20%EA%B0%95%EB%A6%89%EA%B9%8C%EC%A7%80%20%EC%8B%9C%EC%9B%90%ED%95%9C%20%EA%B0%95%EC%9B%90%EB%8F%84%20%3C!HS%3E%EB%B0%94%EB%8B%A4%3C!HE%3E%20%EC%99%84%EC%A0%84%EC%A0%95%EB%B3%B5!\",\"eae265f9-2e74-485b-bdf1-f0cc6bf529f1\",\"cf05953e-e99e-4372-bdc0-1a57fe0c120f\",\"304\");'>공유하기</a></li> </ul></div></li>, <li class=\"banner_area\"> <div class=\"pc\"> <a class=\"banner0\" href=\"https://korean.visitkorea.or.kr/detail/event_detail.do?cotid=d80c2c04-6e0c-4b9f-be9c-f08be21a120a\"><span><img alt=\"'당신의 최애 맛집은?' 최애 맛집 제보 이벤트\" src=\"https://cdn.visitkorea.or.kr/img/call?cmd=VIEW&amp;id=1e79be09-10f1-4855-96c0-c2a9c2f1ab86\"/></span></a> <a class=\"banner1\" href=\"https://korean.visitkorea.or.kr/trss/applyintro.do?utm_source=main_showcase\"><span><img alt=\"핫플 정기 배송! 가볼래-터 구독하고 여행 선물 받자!\" src=\"https://cdn.visitkorea.or.kr/img/call?cmd=VIEW&amp;id=de94ca57-7ff4-475c-babd-c3810cda3afc\"/></span></a> </div></li>, <li><div class=\"photo\"><a href=\"javascript:goSearchDetail('7dbf3247-871f-4be8-b575-ff64751a3a6c');\"> <img alt=\"부산 도심에서 가장 빨리 기장의 바다를 만나는 동해선\" src=\"https://cdn.visitkorea.or.kr/img/call?cmd=VIEW&amp;id=91402ff5-90c5-4a15-a88a-a498da4ab3aa\"/> </a></div> <div class=\"area_txt\"> <div class=\"tit\"> <a href=\"javascript:goSearchDetail('7dbf3247-871f-4be8-b575-ff64751a3a6c');\"><em></em>부산 도심에서 가장 빨리 기장의 <!--HS--><em>바다</em><!--HE-->를 만나는 동해선</a> </div> <div class=\"service\"> <p>부산</p> <ul class=\"brandingIcon\" id=\"branding_7dbf3247-871f-4be8-b575-ff64751a3a6c\"> </ul> </div> <p class=\"tag_type\"><span>#<em></em>부산</span><span>#<em></em>동해선</span><span>#<em></em>수영사적공원</span><span>#<em></em>국립부산과학관</span><span>#<em></em>죽성드림성당</span><span>#<em></em>기장죽성리왜성</span><span>#<em></em>기장죽성리해송</span><span>#<em></em>대변항장승등대</span><span>#<em></em>대변항</span><span>#<em></em>일광해수욕장</span><span>#<em></em>송도구름산책로</span><span>#<em></em>송도해상케이블카</span><span>#<em></em>황령산</span><span>#<em></em><em>바다</em></span><span>#<em></em>일몰</span><span>#<em></em>추천가볼만한곳</span><span>#<em></em>부산가볼만한곳</span><span>#<em></em>부산당일코스</span><span>#<em></em>부산1박2일코스</span><span>#<em></em>지하철여행</span><span>#<em></em>추천가볼만한곳</span><span>#<em></em>2018년3월추천가볼만한곳</span><span>#<em></em>겨울기차여행</span><span>#<em></em>2월가볼만한곳</span><span>#<em></em><em>바다</em>풍경여행</span> </p></div><button class=\"btn_view\" onclick='viewClick(\"7dbf3247-871f-4be8-b575-ff64751a3a6c\")' title=\"열기\" type=\"button\">더보기</button><div class=\"pop_subMenu\"> <ul> <li class=\"btn_far\"><a href=\"javascript:\" onclick='setFavoContent(\"7dbf3247-871f-4be8-b575-ff64751a3a6c\")'>즐겨찾기</a></li> <li class=\"btn_share\" id=\"7dbf3247-871f-4be8-b575-ff64751a3a6c\"><a href=\"javascript:\" onclick='getShareInfo(\"%EB%B6%80%EC%82%B0%20%EB%8F%84%EC%8B%AC%EC%97%90%EC%84%9C%20%EA%B0%80%EC%9E%A5%20%EB%B9%A8%EB%A6%AC%20%EA%B8%B0%EC%9E%A5%EC%9D%98%20%3C!HS%3E%EB%B0%94%EB%8B%A4%3C!HE%3E%EB%A5%BC%20%EB%A7%8C%EB%82%98%EB%8A%94%20%EB%8F%99%ED%95%B4%EC%84%A0\",\"91402ff5-90c5-4a15-a88a-a498da4ab3aa\",\"7dbf3247-871f-4be8-b575-ff64751a3a6c\",\"304\");'>공유하기</a></li> </ul></div></li>, <li><div class=\"photo\"><a href=\"javascript:goSearchDetail('9bea15e9-d29d-4977-a4b2-c06a3a3c0ab2');\"> <img alt=\"어디서든 바다\" src=\"https://cdn.visitkorea.or.kr/img/call?cmd=VIEW&amp;id=7828499a-7098-44a1-88b4-cd79af7698cc\"/> </a></div> <div class=\"area_txt\"> <div class=\"tit\"> <a href=\"javascript:goSearchDetail('9bea15e9-d29d-4977-a4b2-c06a3a3c0ab2');\"><em></em>어디서든 <!--HS--><em>바다</em><!--HE--></a> </div> <div class=\"service\"> <p>경상남도 통영시</p> <ul class=\"brandingIcon\" id=\"branding_9bea15e9-d29d-4977-a4b2-c06a3a3c0ab2\"> </ul> </div> <p class=\"tag_type\"><span>#<em></em><em>바다</em></span><span>#<em></em>통영</span><span>#<em></em>삼칭이길</span><span>#<em></em>통영케이블카</span><span>#<em></em>평안</span><span>#<em></em>박경리기념관</span><span>#<em></em>장애인</span><span>#<em></em>장애인숙박</span><span>#<em></em>장애인추천여행지</span><span>#<em></em>장애인추천코스</span><span>#<em></em>월요일엔 저스트고!</span><span>#<em></em>월요일엔 저스트 고!</span><span>#<em></em>모두의관광_열린여행</span><span>#<em></em>모두가_행복한_여행</span><span>#<em></em><em>바다</em>풍경여행</span> </p></div><button class=\"btn_view\" onclick='viewClick(\"9bea15e9-d29d-4977-a4b2-c06a3a3c0ab2\")' title=\"열기\" type=\"button\">더보기</button><div class=\"pop_subMenu\"> <ul> <li class=\"btn_far\"><a href=\"javascript:\" onclick='setFavoContent(\"9bea15e9-d29d-4977-a4b2-c06a3a3c0ab2\")'>즐겨찾기</a></li> <li class=\"btn_share\" id=\"9bea15e9-d29d-4977-a4b2-c06a3a3c0ab2\"><a href=\"javascript:\" onclick='getShareInfo(\"%EC%96%B4%EB%94%94%EC%84%9C%EB%93%A0%20%3C!HS%3E%EB%B0%94%EB%8B%A4%3C!HE%3E\",\"7828499a-7098-44a1-88b4-cd79af7698cc\",\"9bea15e9-d29d-4977-a4b2-c06a3a3c0ab2\",\"304\");'>공유하기</a></li> </ul></div></li>, <li><div class=\"photo\"><a href=\"javascript:goSearchDetail('7b01802b-b8ff-47be-a8f4-150fe38de7b3');\"> <img alt=\"머리 위엔 모노레일, 발밑은 유리알 바다 &lt;br&gt;달맞이길 달리는 해운대 블루라인파크 해변열차\" src=\"https://cdn.visitkorea.or.kr/img/call?cmd=VIEW&amp;id=4ad46443-2257-47b2-96eb-13a679399f87\"/> </a></div> <div class=\"area_txt\"> <div class=\"tit\"> <a href=\"javascript:goSearchDetail('7b01802b-b8ff-47be-a8f4-150fe38de7b3');\"><em></em>머리 위엔 모노레일, 발밑은 유리알 <!--HS--><em>바다</em><!--HE--> <br/>달맞이길 달리는 해운대 블루라인파크 해변열차</a> </div> <div class=\"service\"> <p>부산 해운대구</p> <ul class=\"brandingIcon\" id=\"branding_7b01802b-b8ff-47be-a8f4-150fe38de7b3\"> </ul> </div> <p class=\"tag_type\"><span>#<em></em>부산여행</span><span>#<em></em>부산가볼만한곳</span><span>#<em></em>해변열차</span><span>#<em></em>해운대블루라인파크</span><span>#<em></em>송정해변</span><span>#<em></em>청사포다릿돌전망대</span><span>#<em></em>달맞이터널</span><span>#<em></em>공공누리</span><span>#<em></em><em>바다</em>풍경여행</span><span>#<em></em>꿀잼_액티비티</span><span>#<em></em>미포</span><span>#<em></em>모노레일</span><span>#<em></em>이색관광지</span><span>#<em></em>송정역</span> </p></div><button class=\"btn_view\" onclick='viewClick(\"7b01802b-b8ff-47be-a8f4-150fe38de7b3\")' title=\"열기\" type=\"button\">더보기</button><div class=\"pop_subMenu\"> <ul> <li class=\"btn_far\"><a href=\"javascript:\" onclick='setFavoContent(\"7b01802b-b8ff-47be-a8f4-150fe38de7b3\")'>즐겨찾기</a></li> <li class=\"btn_share\" id=\"7b01802b-b8ff-47be-a8f4-150fe38de7b3\"><a href=\"javascript:\" onclick='getShareInfo(\"%EB%A8%B8%EB%A6%AC%20%EC%9C%84%EC%97%94%20%EB%AA%A8%EB%85%B8%EB%A0%88%EC%9D%BC%2C%20%EB%B0%9C%EB%B0%91%EC%9D%80%20%EC%9C%A0%EB%A6%AC%EC%95%8C%20%3C!HS%3E%EB%B0%94%EB%8B%A4%3C!HE%3E%20%3Cbr%3E%EB%8B%AC%EB%A7%9E%EC%9D%B4%EA%B8%B8%20%EB%8B%AC%EB%A6%AC%EB%8A%94%20%ED%95%B4%EC%9A%B4%EB%8C%80%20%EB%B8%94%EB%A3%A8%EB%9D%BC%EC%9D%B8%ED%8C%8C%ED%81%AC%20%ED%95%B4%EB%B3%80%EC%97%B4%EC%B0%A8\",\"4ad46443-2257-47b2-96eb-13a679399f87\",\"7b01802b-b8ff-47be-a8f4-150fe38de7b3\",\"304\");'>공유하기</a></li> </ul></div></li>, <li><div class=\"photo\"><a href=\"javascript:goSearchDetail('ebc0ce07-b6bf-4d4b-bc19-bec4933157a6');\"> <img alt=\"향기에 취하고 바다에 반하고, &lt;br&gt;안산 바다향기수목원\" src=\"https://cdn.visitkorea.or.kr/img/call?cmd=VIEW&amp;id=1d100f2b-d3c8-42d2-a570-24b434b6d074\"/> </a></div> <div class=\"area_txt\"> <div class=\"tit\"> <a href=\"javascript:goSearchDetail('ebc0ce07-b6bf-4d4b-bc19-bec4933157a6');\"><em></em>향기에 취하고 <!--HS--><em>바다</em><!--HE-->에 반하고, <br/>안산 <!--HS-->바다<!--HE-->향기수목원</a> </div> <div class=\"service\"> <p>경기도 안산시</p> <ul class=\"brandingIcon\" id=\"branding_ebc0ce07-b6bf-4d4b-bc19-bec4933157a6\"> </ul> </div> <p class=\"tag_type\"><span>#<em></em>숨은관광지</span><span>#<em></em>안산여행</span><span>#<em></em>안산가볼만한곳</span><span>#<em></em><em>바다</em>향기수목원</span><span>#<em></em>공공누리</span><span>#<em></em>6월가볼만한곳</span><span>#<em></em>수목원</span> </p></div><button class=\"btn_view\" onclick='viewClick(\"ebc0ce07-b6bf-4d4b-bc19-bec4933157a6\")' title=\"열기\" type=\"button\">더보기</button><div class=\"pop_subMenu\"> <ul> <li class=\"btn_far\"><a href=\"javascript:\" onclick='setFavoContent(\"ebc0ce07-b6bf-4d4b-bc19-bec4933157a6\")'>즐겨찾기</a></li> <li class=\"btn_share\" id=\"ebc0ce07-b6bf-4d4b-bc19-bec4933157a6\"><a href=\"javascript:\" onclick='getShareInfo(\"%ED%96%A5%EA%B8%B0%EC%97%90%20%EC%B7%A8%ED%95%98%EA%B3%A0%20%3C!HS%3E%EB%B0%94%EB%8B%A4%3C!HE%3E%EC%97%90%20%EB%B0%98%ED%95%98%EA%B3%A0%2C%20%3Cbr%3E%EC%95%88%EC%82%B0%20%3C!HS%3E%EB%B0%94%EB%8B%A4%3C!HE%3E%ED%96%A5%EA%B8%B0%EC%88%98%EB%AA%A9%EC%9B%90\",\"1d100f2b-d3c8-42d2-a570-24b434b6d074\",\"ebc0ce07-b6bf-4d4b-bc19-bec4933157a6\",\"304\");'>공유하기</a></li> </ul></div></li>, <li><div class=\"photo\"><a href=\"javascript:goSearchDetail('f7163a51-baff-4c0b-b2ca-18205ff8a3da');\"> <img alt=\"별바다부산 야간관광 시리즈 1편 &lt;br&gt;'하트'를 뛰게 하는 '아트'적인 부산의 밤\" src=\"https://cdn.visitkorea.or.kr/img/call?cmd=VIEW&amp;id=03d28377-2520-4a01-9f17-74c6cd21d9e1\"/> </a></div> <div class=\"area_txt\"> <div class=\"tit\"> <a href=\"javascript:goSearchDetail('f7163a51-baff-4c0b-b2ca-18205ff8a3da');\"><em></em>별<!--HS--><em>바다</em><!--HE-->부산 야간관광 시리즈 1편 <br/>'하트'를 뛰게 하는 '아트'적인 부산의 밤</a> </div> <div class=\"service\"> <p>부산 </p> <ul class=\"brandingIcon\" id=\"branding_f7163a51-baff-4c0b-b2ca-18205ff8a3da\"> </ul> </div> <p class=\"tag_type\"><span>#<em></em>부산여행</span><span>#<em></em>부산가볼만한곳</span><span>#<em></em>야간여행</span><span>#<em></em>F1963</span><span>#<em></em>영화의전당</span><span>#<em></em>부산영화의전당</span><span>#<em></em>감천문화마을</span><span>#<em></em>부산감천문화마을</span><span>#<em></em>흰여울문화마을</span><span>#<em></em>부산흰여울문화마을</span><span>#<em></em>공공누리</span><span>#<em></em>별<em>바다</em>부산</span> </p></div><button class=\"btn_view\" onclick='viewClick(\"f7163a51-baff-4c0b-b2ca-18205ff8a3da\")' title=\"열기\" type=\"button\">더보기</button><div class=\"pop_subMenu\"> <ul> <li class=\"btn_far\"><a href=\"javascript:\" onclick='setFavoContent(\"f7163a51-baff-4c0b-b2ca-18205ff8a3da\")'>즐겨찾기</a></li> <li class=\"btn_share\" id=\"f7163a51-baff-4c0b-b2ca-18205ff8a3da\"><a href=\"javascript:\" onclick='getShareInfo(\"%EB%B3%84%3C!HS%3E%EB%B0%94%EB%8B%A4%3C!HE%3E%EB%B6%80%EC%82%B0%20%EC%95%BC%EA%B0%84%EA%B4%80%EA%B4%91%20%EC%8B%9C%EB%A6%AC%EC%A6%88%201%ED%8E%B8%20%3Cbr%3E%26%2339%3B%ED%95%98%ED%8A%B8%26%2339%3B%EB%A5%BC%20%EB%9B%B0%EA%B2%8C%20%ED%95%98%EB%8A%94%20%26%2339%3B%EC%95%84%ED%8A%B8%26%2339%3B%EC%A0%81%EC%9D%B8%20%EB%B6%80%EC%82%B0%EC%9D%98%20%EB%B0%A4\",\"03d28377-2520-4a01-9f17-74c6cd21d9e1\",\"f7163a51-baff-4c0b-b2ca-18205ff8a3da\",\"304\");'>공유하기</a></li> </ul></div></li>, <li><div class=\"photo\"><a href=\"javascript:goSearchDetail('e3d4ff4b-bf91-4057-ab8d-28a33ac46863');\"> <img alt=\"도심과 바다를 넘나드는 모험 가득한 여행, 부산\" src=\"https://cdn.visitkorea.or.kr/img/call?cmd=VIEW&amp;id=e7f056f5-0a77-4464-b235-11ec43c59d15\"/> </a></div> <div class=\"area_txt\"> <div class=\"tit\"> <a href=\"javascript:goSearchDetail('e3d4ff4b-bf91-4057-ab8d-28a33ac46863');\"><em></em>도심과 <!--HS--><em>바다</em><!--HE-->를 넘나드는 모험 가득한 여행, 부산</a> </div> <div class=\"service\"> <p>부산 영도구</p> <ul class=\"brandingIcon\" id=\"branding_e3d4ff4b-bf91-4057-ab8d-28a33ac46863\"> </ul> </div> <p class=\"tag_type\"><span>#<em></em>영유아추천코스</span><span>#<em></em>부산가볼만한곳</span><span>#<em></em>태종대유원지</span><span>#<em></em>국립해양박물관</span><span>#<em></em>롯데백화점</span><span>#<em></em>부산시민공원</span><span>#<em></em>부산1박2일코스</span><span>#<em></em>부산2박3일코스</span><span>#<em></em>아이와함께</span><span>#<em></em>무장애여행지</span><span>#<em></em><em>바다</em></span><span>#<em></em>도심여행</span> </p></div><button class=\"btn_view\" onclick='viewClick(\"e3d4ff4b-bf91-4057-ab8d-28a33ac46863\")' title=\"열기\" type=\"button\">더보기</button><div class=\"pop_subMenu\"> <ul> <li class=\"btn_far\"><a href=\"javascript:\" onclick='setFavoContent(\"e3d4ff4b-bf91-4057-ab8d-28a33ac46863\")'>즐겨찾기</a></li> <li class=\"btn_share\" id=\"e3d4ff4b-bf91-4057-ab8d-28a33ac46863\"><a href=\"javascript:\" onclick='getShareInfo(\"%EB%8F%84%EC%8B%AC%EA%B3%BC%20%3C!HS%3E%EB%B0%94%EB%8B%A4%3C!HE%3E%EB%A5%BC%20%EB%84%98%EB%82%98%EB%93%9C%EB%8A%94%20%EB%AA%A8%ED%97%98%20%EA%B0%80%EB%93%9D%ED%95%9C%20%EC%97%AC%ED%96%89%2C%20%EB%B6%80%EC%82%B0\",\"e7f056f5-0a77-4464-b235-11ec43c59d15\",\"e3d4ff4b-bf91-4057-ab8d-28a33ac46863\",\"304\");'>공유하기</a></li> </ul></div></li>]\n",
      "====================================================================================================\n",
      "고성, 양양, 강릉까지 시원한 강원도 바다 완전정복!\n",
      "부산 \n",
      "[<li><div class=\"photo\"><a href=\"javascript:goSearchDetail('eb64d6f5-cb1c-400f-ac42-1e685b642dbb');\"> <img alt=\"별바다부산 야간관광 시리즈 3편 &lt;br&gt;마음을 물들이는 '감성 레포츠' 여행\" src=\"https://cdn.visitkorea.or.kr/img/call?cmd=VIEW&amp;id=f369ac46-1467-44e6-b5a4-22943aae41c7\"/> </a></div> <div class=\"area_txt\"> <div class=\"tit\"> <a href=\"javascript:goSearchDetail('eb64d6f5-cb1c-400f-ac42-1e685b642dbb');\"><em></em>별<!--HS--><em>바다</em><!--HE-->부산 야간관광 시리즈 3편 <br/>마음을 물들이는 '감성 레포츠' 여행</a> </div> <div class=\"service\"> <p>부산 </p> <ul class=\"brandingIcon\" id=\"branding_eb64d6f5-cb1c-400f-ac42-1e685b642dbb\"> </ul> </div> <p class=\"tag_type\"><span>#<em></em>부산여행</span><span>#<em></em>부산가볼만한곳</span><span>#<em></em>야간여행</span><span>#<em></em>부산레포츠</span><span>#<em></em>레포츠여행</span><span>#<em></em>마린시티</span><span>#<em></em>요트투어</span><span>#<em></em>광안리해수욕장</span><span>#<em></em>서핑</span><span>#<em></em>다대포해수욕장</span><span>#<em></em>제트스키</span><span>#<em></em>웨이크보드</span><span>#<em></em>다대포꿈의낙조분수</span><span>#<em></em>봉래산</span><span>#<em></em>트레킹</span><span>#<em></em>공공누리</span><span>#<em></em>별<em>바다</em>부산</span> </p></div><button class=\"btn_view\" onclick='viewClick(\"eb64d6f5-cb1c-400f-ac42-1e685b642dbb\")' title=\"열기\" type=\"button\">더보기</button><div class=\"pop_subMenu\"> <ul> <li class=\"btn_far\"><a href=\"javascript:\" onclick='setFavoContent(\"eb64d6f5-cb1c-400f-ac42-1e685b642dbb\")'>즐겨찾기</a></li> <li class=\"btn_share\" id=\"eb64d6f5-cb1c-400f-ac42-1e685b642dbb\"><a href=\"javascript:\" onclick='getShareInfo(\"%EB%B3%84%3C!HS%3E%EB%B0%94%EB%8B%A4%3C!HE%3E%EB%B6%80%EC%82%B0%20%EC%95%BC%EA%B0%84%EA%B4%80%EA%B4%91%20%EC%8B%9C%EB%A6%AC%EC%A6%88%203%ED%8E%B8%20%3Cbr%3E%EB%A7%88%EC%9D%8C%EC%9D%84%20%EB%AC%BC%EB%93%A4%EC%9D%B4%EB%8A%94%20%26%2339%3B%EA%B0%90%EC%84%B1%20%EB%A0%88%ED%8F%AC%EC%B8%A0%26%2339%3B%20%EC%97%AC%ED%96%89\",\"f369ac46-1467-44e6-b5a4-22943aae41c7\",\"eb64d6f5-cb1c-400f-ac42-1e685b642dbb\",\"304\");'>공유하기</a></li> </ul></div></li>, <li><div class=\"photo\"><a href=\"javascript:goSearchDetail('2326e9bf-8c6e-4fca-a915-6ea325260519');\"> <img alt=\"쪽빛 바다 가르며 '카약 타고 서핑하고'…&lt;br&gt;남해 두모마을과 송정솔바람해변\" src=\"https://cdn.visitkorea.or.kr/img/call?cmd=VIEW&amp;id=effed6f2-3383-49d0-9811-cb85cd959edc\"/> </a></div> <div class=\"area_txt\"> <div class=\"tit\"> <a href=\"javascript:goSearchDetail('2326e9bf-8c6e-4fca-a915-6ea325260519');\"><em></em>쪽빛 <!--HS--><em>바다</em><!--HE--> 가르며 '카약 타고 서핑하고'…<br/>남해 두모마을과 송정솔바람해변</a> </div> <div class=\"service\"> <p>경상남도 남해군</p> <ul class=\"brandingIcon\" id=\"branding_2326e9bf-8c6e-4fca-a915-6ea325260519\"> </ul> </div> <p class=\"tag_type\"><span>#<em></em>2020년9월추천가볼만한곳</span><span>#<em></em>9월추천가볼만한곳</span><span>#<em></em>추천가볼만한곳</span><span>#<em></em>9월가볼만한곳</span><span>#<em></em>수상레포츠</span><span>#<em></em>레포츠</span><span>#<em></em>레저활동</span><span>#<em></em>남해여행</span><span>#<em></em>남해가볼만한곳</span><span>#<em></em>공공누리</span><span>#<em></em>인생샷_핫플레이스</span><span>#<em></em>꿀잼_액티비티</span><span>#<em></em><em>바다</em>풍경여행</span> </p></div><button class=\"btn_view\" onclick='viewClick(\"2326e9bf-8c6e-4fca-a915-6ea325260519\")' title=\"열기\" type=\"button\">더보기</button><div class=\"pop_subMenu\"> <ul> <li class=\"btn_far\"><a href=\"javascript:\" onclick='setFavoContent(\"2326e9bf-8c6e-4fca-a915-6ea325260519\")'>즐겨찾기</a></li> <li class=\"btn_share\" id=\"2326e9bf-8c6e-4fca-a915-6ea325260519\"><a href=\"javascript:\" onclick='getShareInfo(\"%EC%AA%BD%EB%B9%9B%20%3C!HS%3E%EB%B0%94%EB%8B%A4%3C!HE%3E%20%EA%B0%80%EB%A5%B4%EB%A9%B0%20%26%2339%3B%EC%B9%B4%EC%95%BD%20%ED%83%80%EA%B3%A0%20%EC%84%9C%ED%95%91%ED%95%98%EA%B3%A0%26%2339%3B%E2%80%A6%3Cbr%3E%EB%82%A8%ED%95%B4%20%EB%91%90%EB%AA%A8%EB%A7%88%EC%9D%84%EA%B3%BC%20%EC%86%A1%EC%A0%95%EC%86%94%EB%B0%94%EB%9E%8C%ED%95%B4%EB%B3%80\",\"effed6f2-3383-49d0-9811-cb85cd959edc\",\"2326e9bf-8c6e-4fca-a915-6ea325260519\",\"304\");'>공유하기</a></li> </ul></div></li>, <li><div class=\"photo\"><a href=\"javascript:goSearchDetail('8f2550c8-1af2-496e-9eac-89e1c723d9bd');\"> <img alt=\"쪽빛 남쪽바다가 눈부시게 펼쳐진 길, &lt;br&gt;저도 비치로드\" src=\"https://cdn.visitkorea.or.kr/img/call?cmd=VIEW&amp;id=b0a83333-7216-4b73-b6f8-d06705708898\"/> </a></div> <div class=\"area_txt\"> <div class=\"tit\"> <a href=\"javascript:goSearchDetail('8f2550c8-1af2-496e-9eac-89e1c723d9bd');\"><em></em>쪽빛 남쪽<!--HS--><em>바다</em><!--HE-->가 눈부시게 펼쳐진 길, <br/>저도 비치로드</a> </div> <div class=\"service\"> <p>경상남도 창원시</p> <ul class=\"brandingIcon\" id=\"branding_8f2550c8-1af2-496e-9eac-89e1c723d9bd\"> </ul> </div> <p class=\"tag_type\"><span>#<em></em>2021겨울시즌비대면안심관광지25선</span><span>#<em></em>창원여행</span><span>#<em></em>창원가볼만한곳</span><span>#<em></em>저도</span><span>#<em></em>저도비치로드</span><span>#<em></em>섬</span><span>#<em></em>스카이워크</span><span>#<em></em>풍경어행</span><span>#<em></em>해안데크로드</span><span>#<em></em>용두산</span><span>#<em></em>걷기좋은길</span><span>#<em></em><em>바다</em>풍경여행</span><span>#<em></em>2021비대면안심관광지</span><span>#<em></em>비대면안심관광지</span><span>#<em></em>비대면_안심관광지</span><span>#<em></em>경상권_비대면관광지</span><span>#<em></em>겨울_비대면관광지</span><span>#<em></em>자연과함께</span> </p></div><button class=\"btn_view\" onclick='viewClick(\"8f2550c8-1af2-496e-9eac-89e1c723d9bd\")' title=\"열기\" type=\"button\">더보기</button><div class=\"pop_subMenu\"> <ul> <li class=\"btn_far\"><a href=\"javascript:\" onclick='setFavoContent(\"8f2550c8-1af2-496e-9eac-89e1c723d9bd\")'>즐겨찾기</a></li> <li class=\"btn_share\" id=\"8f2550c8-1af2-496e-9eac-89e1c723d9bd\"><a href=\"javascript:\" onclick='getShareInfo(\"%EC%AA%BD%EB%B9%9B%20%EB%82%A8%EC%AA%BD%3C!HS%3E%EB%B0%94%EB%8B%A4%3C!HE%3E%EA%B0%80%20%EB%88%88%EB%B6%80%EC%8B%9C%EA%B2%8C%20%ED%8E%BC%EC%B3%90%EC%A7%84%20%EA%B8%B8%2C%20%3Cbr%3E%EC%A0%80%EB%8F%84%20%EB%B9%84%EC%B9%98%EB%A1%9C%EB%93%9C\",\"b0a83333-7216-4b73-b6f8-d06705708898\",\"8f2550c8-1af2-496e-9eac-89e1c723d9bd\",\"304\");'>공유하기</a></li> </ul></div></li>, <li><div class=\"photo\"><a href=\"javascript:goSearchDetail('cf05953e-e99e-4372-bdc0-1a57fe0c120f');\"> <img alt=\"고성, 양양, 강릉까지 시원한 강원도 바다 완전정복!\" src=\"https://cdn.visitkorea.or.kr/img/call?cmd=VIEW&amp;id=eae265f9-2e74-485b-bdf1-f0cc6bf529f1\"/> </a></div> <div class=\"area_txt\"> <div class=\"tit\"> <a href=\"javascript:goSearchDetail('cf05953e-e99e-4372-bdc0-1a57fe0c120f');\"><em></em>고성, 양양, 강릉까지 시원한 강원도 <!--HS--><em>바다</em><!--HE--> 완전정복!</a> </div> <div class=\"service\"> <p>강원도 </p> <ul class=\"brandingIcon\" id=\"branding_cf05953e-e99e-4372-bdc0-1a57fe0c120f\"> </ul> </div> <p class=\"tag_type\"><span>#<em></em>강원도여행</span><span>#<em></em>강원도가볼만한곳</span><span>#<em></em><em>바다</em>여행</span><span>#<em></em>아야진해수욕장</span><span>#<em></em>하조대해수욕장</span><span>#<em></em>향호해변</span><span>#<em></em>영진해변</span><span>#<em></em>도깨비촬영지</span><span>#<em></em>금진해변</span> </p></div><button class=\"btn_view\" onclick='viewClick(\"cf05953e-e99e-4372-bdc0-1a57fe0c120f\")' title=\"열기\" type=\"button\">더보기</button><div class=\"pop_subMenu\"> <ul> <li class=\"btn_far\"><a href=\"javascript:\" onclick='setFavoContent(\"cf05953e-e99e-4372-bdc0-1a57fe0c120f\")'>즐겨찾기</a></li> <li class=\"btn_share\" id=\"cf05953e-e99e-4372-bdc0-1a57fe0c120f\"><a href=\"javascript:\" onclick='getShareInfo(\"%EA%B3%A0%EC%84%B1%2C%20%EC%96%91%EC%96%91%2C%20%EA%B0%95%EB%A6%89%EA%B9%8C%EC%A7%80%20%EC%8B%9C%EC%9B%90%ED%95%9C%20%EA%B0%95%EC%9B%90%EB%8F%84%20%3C!HS%3E%EB%B0%94%EB%8B%A4%3C!HE%3E%20%EC%99%84%EC%A0%84%EC%A0%95%EB%B3%B5!\",\"eae265f9-2e74-485b-bdf1-f0cc6bf529f1\",\"cf05953e-e99e-4372-bdc0-1a57fe0c120f\",\"304\");'>공유하기</a></li> </ul></div></li>, <li class=\"banner_area\"> <div class=\"pc\"> <a class=\"banner0\" href=\"https://korean.visitkorea.or.kr/detail/event_detail.do?cotid=d80c2c04-6e0c-4b9f-be9c-f08be21a120a\"><span><img alt=\"'당신의 최애 맛집은?' 최애 맛집 제보 이벤트\" src=\"https://cdn.visitkorea.or.kr/img/call?cmd=VIEW&amp;id=1e79be09-10f1-4855-96c0-c2a9c2f1ab86\"/></span></a> <a class=\"banner1\" href=\"https://korean.visitkorea.or.kr/trss/applyintro.do?utm_source=main_showcase\"><span><img alt=\"핫플 정기 배송! 가볼래-터 구독하고 여행 선물 받자!\" src=\"https://cdn.visitkorea.or.kr/img/call?cmd=VIEW&amp;id=de94ca57-7ff4-475c-babd-c3810cda3afc\"/></span></a> </div></li>, <li><div class=\"photo\"><a href=\"javascript:goSearchDetail('7dbf3247-871f-4be8-b575-ff64751a3a6c');\"> <img alt=\"부산 도심에서 가장 빨리 기장의 바다를 만나는 동해선\" src=\"https://cdn.visitkorea.or.kr/img/call?cmd=VIEW&amp;id=91402ff5-90c5-4a15-a88a-a498da4ab3aa\"/> </a></div> <div class=\"area_txt\"> <div class=\"tit\"> <a href=\"javascript:goSearchDetail('7dbf3247-871f-4be8-b575-ff64751a3a6c');\"><em></em>부산 도심에서 가장 빨리 기장의 <!--HS--><em>바다</em><!--HE-->를 만나는 동해선</a> </div> <div class=\"service\"> <p>부산</p> <ul class=\"brandingIcon\" id=\"branding_7dbf3247-871f-4be8-b575-ff64751a3a6c\"> </ul> </div> <p class=\"tag_type\"><span>#<em></em>부산</span><span>#<em></em>동해선</span><span>#<em></em>수영사적공원</span><span>#<em></em>국립부산과학관</span><span>#<em></em>죽성드림성당</span><span>#<em></em>기장죽성리왜성</span><span>#<em></em>기장죽성리해송</span><span>#<em></em>대변항장승등대</span><span>#<em></em>대변항</span><span>#<em></em>일광해수욕장</span><span>#<em></em>송도구름산책로</span><span>#<em></em>송도해상케이블카</span><span>#<em></em>황령산</span><span>#<em></em><em>바다</em></span><span>#<em></em>일몰</span><span>#<em></em>추천가볼만한곳</span><span>#<em></em>부산가볼만한곳</span><span>#<em></em>부산당일코스</span><span>#<em></em>부산1박2일코스</span><span>#<em></em>지하철여행</span><span>#<em></em>추천가볼만한곳</span><span>#<em></em>2018년3월추천가볼만한곳</span><span>#<em></em>겨울기차여행</span><span>#<em></em>2월가볼만한곳</span><span>#<em></em><em>바다</em>풍경여행</span> </p></div><button class=\"btn_view\" onclick='viewClick(\"7dbf3247-871f-4be8-b575-ff64751a3a6c\")' title=\"열기\" type=\"button\">더보기</button><div class=\"pop_subMenu\"> <ul> <li class=\"btn_far\"><a href=\"javascript:\" onclick='setFavoContent(\"7dbf3247-871f-4be8-b575-ff64751a3a6c\")'>즐겨찾기</a></li> <li class=\"btn_share\" id=\"7dbf3247-871f-4be8-b575-ff64751a3a6c\"><a href=\"javascript:\" onclick='getShareInfo(\"%EB%B6%80%EC%82%B0%20%EB%8F%84%EC%8B%AC%EC%97%90%EC%84%9C%20%EA%B0%80%EC%9E%A5%20%EB%B9%A8%EB%A6%AC%20%EA%B8%B0%EC%9E%A5%EC%9D%98%20%3C!HS%3E%EB%B0%94%EB%8B%A4%3C!HE%3E%EB%A5%BC%20%EB%A7%8C%EB%82%98%EB%8A%94%20%EB%8F%99%ED%95%B4%EC%84%A0\",\"91402ff5-90c5-4a15-a88a-a498da4ab3aa\",\"7dbf3247-871f-4be8-b575-ff64751a3a6c\",\"304\");'>공유하기</a></li> </ul></div></li>, <li><div class=\"photo\"><a href=\"javascript:goSearchDetail('9bea15e9-d29d-4977-a4b2-c06a3a3c0ab2');\"> <img alt=\"어디서든 바다\" src=\"https://cdn.visitkorea.or.kr/img/call?cmd=VIEW&amp;id=7828499a-7098-44a1-88b4-cd79af7698cc\"/> </a></div> <div class=\"area_txt\"> <div class=\"tit\"> <a href=\"javascript:goSearchDetail('9bea15e9-d29d-4977-a4b2-c06a3a3c0ab2');\"><em></em>어디서든 <!--HS--><em>바다</em><!--HE--></a> </div> <div class=\"service\"> <p>경상남도 통영시</p> <ul class=\"brandingIcon\" id=\"branding_9bea15e9-d29d-4977-a4b2-c06a3a3c0ab2\"> </ul> </div> <p class=\"tag_type\"><span>#<em></em><em>바다</em></span><span>#<em></em>통영</span><span>#<em></em>삼칭이길</span><span>#<em></em>통영케이블카</span><span>#<em></em>평안</span><span>#<em></em>박경리기념관</span><span>#<em></em>장애인</span><span>#<em></em>장애인숙박</span><span>#<em></em>장애인추천여행지</span><span>#<em></em>장애인추천코스</span><span>#<em></em>월요일엔 저스트고!</span><span>#<em></em>월요일엔 저스트 고!</span><span>#<em></em>모두의관광_열린여행</span><span>#<em></em>모두가_행복한_여행</span><span>#<em></em><em>바다</em>풍경여행</span> </p></div><button class=\"btn_view\" onclick='viewClick(\"9bea15e9-d29d-4977-a4b2-c06a3a3c0ab2\")' title=\"열기\" type=\"button\">더보기</button><div class=\"pop_subMenu\"> <ul> <li class=\"btn_far\"><a href=\"javascript:\" onclick='setFavoContent(\"9bea15e9-d29d-4977-a4b2-c06a3a3c0ab2\")'>즐겨찾기</a></li> <li class=\"btn_share\" id=\"9bea15e9-d29d-4977-a4b2-c06a3a3c0ab2\"><a href=\"javascript:\" onclick='getShareInfo(\"%EC%96%B4%EB%94%94%EC%84%9C%EB%93%A0%20%3C!HS%3E%EB%B0%94%EB%8B%A4%3C!HE%3E\",\"7828499a-7098-44a1-88b4-cd79af7698cc\",\"9bea15e9-d29d-4977-a4b2-c06a3a3c0ab2\",\"304\");'>공유하기</a></li> </ul></div></li>, <li><div class=\"photo\"><a href=\"javascript:goSearchDetail('7b01802b-b8ff-47be-a8f4-150fe38de7b3');\"> <img alt=\"머리 위엔 모노레일, 발밑은 유리알 바다 &lt;br&gt;달맞이길 달리는 해운대 블루라인파크 해변열차\" src=\"https://cdn.visitkorea.or.kr/img/call?cmd=VIEW&amp;id=4ad46443-2257-47b2-96eb-13a679399f87\"/> </a></div> <div class=\"area_txt\"> <div class=\"tit\"> <a href=\"javascript:goSearchDetail('7b01802b-b8ff-47be-a8f4-150fe38de7b3');\"><em></em>머리 위엔 모노레일, 발밑은 유리알 <!--HS--><em>바다</em><!--HE--> <br/>달맞이길 달리는 해운대 블루라인파크 해변열차</a> </div> <div class=\"service\"> <p>부산 해운대구</p> <ul class=\"brandingIcon\" id=\"branding_7b01802b-b8ff-47be-a8f4-150fe38de7b3\"> </ul> </div> <p class=\"tag_type\"><span>#<em></em>부산여행</span><span>#<em></em>부산가볼만한곳</span><span>#<em></em>해변열차</span><span>#<em></em>해운대블루라인파크</span><span>#<em></em>송정해변</span><span>#<em></em>청사포다릿돌전망대</span><span>#<em></em>달맞이터널</span><span>#<em></em>공공누리</span><span>#<em></em><em>바다</em>풍경여행</span><span>#<em></em>꿀잼_액티비티</span><span>#<em></em>미포</span><span>#<em></em>모노레일</span><span>#<em></em>이색관광지</span><span>#<em></em>송정역</span> </p></div><button class=\"btn_view\" onclick='viewClick(\"7b01802b-b8ff-47be-a8f4-150fe38de7b3\")' title=\"열기\" type=\"button\">더보기</button><div class=\"pop_subMenu\"> <ul> <li class=\"btn_far\"><a href=\"javascript:\" onclick='setFavoContent(\"7b01802b-b8ff-47be-a8f4-150fe38de7b3\")'>즐겨찾기</a></li> <li class=\"btn_share\" id=\"7b01802b-b8ff-47be-a8f4-150fe38de7b3\"><a href=\"javascript:\" onclick='getShareInfo(\"%EB%A8%B8%EB%A6%AC%20%EC%9C%84%EC%97%94%20%EB%AA%A8%EB%85%B8%EB%A0%88%EC%9D%BC%2C%20%EB%B0%9C%EB%B0%91%EC%9D%80%20%EC%9C%A0%EB%A6%AC%EC%95%8C%20%3C!HS%3E%EB%B0%94%EB%8B%A4%3C!HE%3E%20%3Cbr%3E%EB%8B%AC%EB%A7%9E%EC%9D%B4%EA%B8%B8%20%EB%8B%AC%EB%A6%AC%EB%8A%94%20%ED%95%B4%EC%9A%B4%EB%8C%80%20%EB%B8%94%EB%A3%A8%EB%9D%BC%EC%9D%B8%ED%8C%8C%ED%81%AC%20%ED%95%B4%EB%B3%80%EC%97%B4%EC%B0%A8\",\"4ad46443-2257-47b2-96eb-13a679399f87\",\"7b01802b-b8ff-47be-a8f4-150fe38de7b3\",\"304\");'>공유하기</a></li> </ul></div></li>, <li><div class=\"photo\"><a href=\"javascript:goSearchDetail('ebc0ce07-b6bf-4d4b-bc19-bec4933157a6');\"> <img alt=\"향기에 취하고 바다에 반하고, &lt;br&gt;안산 바다향기수목원\" src=\"https://cdn.visitkorea.or.kr/img/call?cmd=VIEW&amp;id=1d100f2b-d3c8-42d2-a570-24b434b6d074\"/> </a></div> <div class=\"area_txt\"> <div class=\"tit\"> <a href=\"javascript:goSearchDetail('ebc0ce07-b6bf-4d4b-bc19-bec4933157a6');\"><em></em>향기에 취하고 <!--HS--><em>바다</em><!--HE-->에 반하고, <br/>안산 <!--HS-->바다<!--HE-->향기수목원</a> </div> <div class=\"service\"> <p>경기도 안산시</p> <ul class=\"brandingIcon\" id=\"branding_ebc0ce07-b6bf-4d4b-bc19-bec4933157a6\"> </ul> </div> <p class=\"tag_type\"><span>#<em></em>숨은관광지</span><span>#<em></em>안산여행</span><span>#<em></em>안산가볼만한곳</span><span>#<em></em><em>바다</em>향기수목원</span><span>#<em></em>공공누리</span><span>#<em></em>6월가볼만한곳</span><span>#<em></em>수목원</span> </p></div><button class=\"btn_view\" onclick='viewClick(\"ebc0ce07-b6bf-4d4b-bc19-bec4933157a6\")' title=\"열기\" type=\"button\">더보기</button><div class=\"pop_subMenu\"> <ul> <li class=\"btn_far\"><a href=\"javascript:\" onclick='setFavoContent(\"ebc0ce07-b6bf-4d4b-bc19-bec4933157a6\")'>즐겨찾기</a></li> <li class=\"btn_share\" id=\"ebc0ce07-b6bf-4d4b-bc19-bec4933157a6\"><a href=\"javascript:\" onclick='getShareInfo(\"%ED%96%A5%EA%B8%B0%EC%97%90%20%EC%B7%A8%ED%95%98%EA%B3%A0%20%3C!HS%3E%EB%B0%94%EB%8B%A4%3C!HE%3E%EC%97%90%20%EB%B0%98%ED%95%98%EA%B3%A0%2C%20%3Cbr%3E%EC%95%88%EC%82%B0%20%3C!HS%3E%EB%B0%94%EB%8B%A4%3C!HE%3E%ED%96%A5%EA%B8%B0%EC%88%98%EB%AA%A9%EC%9B%90\",\"1d100f2b-d3c8-42d2-a570-24b434b6d074\",\"ebc0ce07-b6bf-4d4b-bc19-bec4933157a6\",\"304\");'>공유하기</a></li> </ul></div></li>, <li><div class=\"photo\"><a href=\"javascript:goSearchDetail('f7163a51-baff-4c0b-b2ca-18205ff8a3da');\"> <img alt=\"별바다부산 야간관광 시리즈 1편 &lt;br&gt;'하트'를 뛰게 하는 '아트'적인 부산의 밤\" src=\"https://cdn.visitkorea.or.kr/img/call?cmd=VIEW&amp;id=03d28377-2520-4a01-9f17-74c6cd21d9e1\"/> </a></div> <div class=\"area_txt\"> <div class=\"tit\"> <a href=\"javascript:goSearchDetail('f7163a51-baff-4c0b-b2ca-18205ff8a3da');\"><em></em>별<!--HS--><em>바다</em><!--HE-->부산 야간관광 시리즈 1편 <br/>'하트'를 뛰게 하는 '아트'적인 부산의 밤</a> </div> <div class=\"service\"> <p>부산 </p> <ul class=\"brandingIcon\" id=\"branding_f7163a51-baff-4c0b-b2ca-18205ff8a3da\"> </ul> </div> <p class=\"tag_type\"><span>#<em></em>부산여행</span><span>#<em></em>부산가볼만한곳</span><span>#<em></em>야간여행</span><span>#<em></em>F1963</span><span>#<em></em>영화의전당</span><span>#<em></em>부산영화의전당</span><span>#<em></em>감천문화마을</span><span>#<em></em>부산감천문화마을</span><span>#<em></em>흰여울문화마을</span><span>#<em></em>부산흰여울문화마을</span><span>#<em></em>공공누리</span><span>#<em></em>별<em>바다</em>부산</span> </p></div><button class=\"btn_view\" onclick='viewClick(\"f7163a51-baff-4c0b-b2ca-18205ff8a3da\")' title=\"열기\" type=\"button\">더보기</button><div class=\"pop_subMenu\"> <ul> <li class=\"btn_far\"><a href=\"javascript:\" onclick='setFavoContent(\"f7163a51-baff-4c0b-b2ca-18205ff8a3da\")'>즐겨찾기</a></li> <li class=\"btn_share\" id=\"f7163a51-baff-4c0b-b2ca-18205ff8a3da\"><a href=\"javascript:\" onclick='getShareInfo(\"%EB%B3%84%3C!HS%3E%EB%B0%94%EB%8B%A4%3C!HE%3E%EB%B6%80%EC%82%B0%20%EC%95%BC%EA%B0%84%EA%B4%80%EA%B4%91%20%EC%8B%9C%EB%A6%AC%EC%A6%88%201%ED%8E%B8%20%3Cbr%3E%26%2339%3B%ED%95%98%ED%8A%B8%26%2339%3B%EB%A5%BC%20%EB%9B%B0%EA%B2%8C%20%ED%95%98%EB%8A%94%20%26%2339%3B%EC%95%84%ED%8A%B8%26%2339%3B%EC%A0%81%EC%9D%B8%20%EB%B6%80%EC%82%B0%EC%9D%98%20%EB%B0%A4\",\"03d28377-2520-4a01-9f17-74c6cd21d9e1\",\"f7163a51-baff-4c0b-b2ca-18205ff8a3da\",\"304\");'>공유하기</a></li> </ul></div></li>, <li><div class=\"photo\"><a href=\"javascript:goSearchDetail('e3d4ff4b-bf91-4057-ab8d-28a33ac46863');\"> <img alt=\"도심과 바다를 넘나드는 모험 가득한 여행, 부산\" src=\"https://cdn.visitkorea.or.kr/img/call?cmd=VIEW&amp;id=e7f056f5-0a77-4464-b235-11ec43c59d15\"/> </a></div> <div class=\"area_txt\"> <div class=\"tit\"> <a href=\"javascript:goSearchDetail('e3d4ff4b-bf91-4057-ab8d-28a33ac46863');\"><em></em>도심과 <!--HS--><em>바다</em><!--HE-->를 넘나드는 모험 가득한 여행, 부산</a> </div> <div class=\"service\"> <p>부산 영도구</p> <ul class=\"brandingIcon\" id=\"branding_e3d4ff4b-bf91-4057-ab8d-28a33ac46863\"> </ul> </div> <p class=\"tag_type\"><span>#<em></em>영유아추천코스</span><span>#<em></em>부산가볼만한곳</span><span>#<em></em>태종대유원지</span><span>#<em></em>국립해양박물관</span><span>#<em></em>롯데백화점</span><span>#<em></em>부산시민공원</span><span>#<em></em>부산1박2일코스</span><span>#<em></em>부산2박3일코스</span><span>#<em></em>아이와함께</span><span>#<em></em>무장애여행지</span><span>#<em></em><em>바다</em></span><span>#<em></em>도심여행</span> </p></div><button class=\"btn_view\" onclick='viewClick(\"e3d4ff4b-bf91-4057-ab8d-28a33ac46863\")' title=\"열기\" type=\"button\">더보기</button><div class=\"pop_subMenu\"> <ul> <li class=\"btn_far\"><a href=\"javascript:\" onclick='setFavoContent(\"e3d4ff4b-bf91-4057-ab8d-28a33ac46863\")'>즐겨찾기</a></li> <li class=\"btn_share\" id=\"e3d4ff4b-bf91-4057-ab8d-28a33ac46863\"><a href=\"javascript:\" onclick='getShareInfo(\"%EB%8F%84%EC%8B%AC%EA%B3%BC%20%3C!HS%3E%EB%B0%94%EB%8B%A4%3C!HE%3E%EB%A5%BC%20%EB%84%98%EB%82%98%EB%93%9C%EB%8A%94%20%EB%AA%A8%ED%97%98%20%EA%B0%80%EB%93%9D%ED%95%9C%20%EC%97%AC%ED%96%89%2C%20%EB%B6%80%EC%82%B0\",\"e7f056f5-0a77-4464-b235-11ec43c59d15\",\"e3d4ff4b-bf91-4057-ab8d-28a33ac46863\",\"304\");'>공유하기</a></li> </ul></div></li>]\n",
      "====================================================================================================\n"
     ]
    },
    {
     "ename": "IndexError",
     "evalue": "list index out of range",
     "output_type": "error",
     "traceback": [
      "\u001b[1;31m---------------------------------------------------------------------------\u001b[0m",
      "\u001b[1;31mIndexError\u001b[0m                                Traceback (most recent call last)",
      "\u001b[1;32m~\\AppData\\Local\\Temp/ipykernel_4424/4021233884.py\u001b[0m in \u001b[0;36m<module>\u001b[1;34m\u001b[0m\n\u001b[0;32m      1\u001b[0m \u001b[1;32mfor\u001b[0m \u001b[0mtag\u001b[0m \u001b[1;32min\u001b[0m \u001b[0mtags\u001b[0m\u001b[1;33m:\u001b[0m\u001b[1;33m\u001b[0m\u001b[1;33m\u001b[0m\u001b[0m\n\u001b[0;32m      2\u001b[0m     \u001b[0mpath\u001b[0m \u001b[1;33m=\u001b[0m \u001b[1;34m'div.area_txt > div.tit > a'\u001b[0m\u001b[1;33m\u001b[0m\u001b[1;33m\u001b[0m\u001b[0m\n\u001b[1;32m----> 3\u001b[1;33m     \u001b[0mtitle\u001b[0m \u001b[1;33m=\u001b[0m \u001b[0mtag\u001b[0m\u001b[1;33m.\u001b[0m\u001b[0mselect\u001b[0m\u001b[1;33m(\u001b[0m\u001b[0mpath\u001b[0m\u001b[1;33m)\u001b[0m\u001b[1;33m[\u001b[0m\u001b[1;36m0\u001b[0m\u001b[1;33m]\u001b[0m\u001b[1;33m.\u001b[0m\u001b[0mtext\u001b[0m\u001b[1;33m\u001b[0m\u001b[1;33m\u001b[0m\u001b[0m\n\u001b[0m\u001b[0;32m      4\u001b[0m \u001b[1;33m\u001b[0m\u001b[0m\n\u001b[0;32m      5\u001b[0m     \u001b[0mpath\u001b[0m \u001b[1;33m=\u001b[0m \u001b[1;34m'div.area_txt > div.service > p'\u001b[0m\u001b[1;33m\u001b[0m\u001b[1;33m\u001b[0m\u001b[0m\n",
      "\u001b[1;31mIndexError\u001b[0m: list index out of range"
     ]
    }
   ],
   "source": [
    "for tag in tags:\n",
    "    path = 'div.area_txt > div.tit > a'\n",
    "    title = tag.select(path)[0].text\n",
    "    \n",
    "    path = 'div.area_txt > div.service > p'\n",
    "    location = tags[0].select(path)[0].text\n",
    "    \n",
    "    path = 'div.area_txt > p'\n",
    "    tags[0].select(path)[0].text\n",
    "    \n",
    "    \n",
    "    print(title)\n",
    "    print(location)\n",
    "    print(tags)\n",
    "    print('='*100)\n",
    "    \n",
    "    "
   ]
  },
  {
   "cell_type": "code",
   "execution_count": 32,
   "id": "6d19393a",
   "metadata": {
    "collapsed": true
   },
   "outputs": [
    {
     "name": "stdout",
     "output_type": "stream",
     "text": [
      "검색어고성\n"
     ]
    },
    {
     "ename": "TypeError",
     "evalue": "'module' object is not callable",
     "output_type": "error",
     "traceback": [
      "\u001b[1;31m---------------------------------------------------------------------------\u001b[0m",
      "\u001b[1;31mTypeError\u001b[0m                                 Traceback (most recent call last)",
      "\u001b[1;32m~\\AppData\\Local\\Temp/ipykernel_8588/450215148.py\u001b[0m in \u001b[0;36m<module>\u001b[1;34m\u001b[0m\n\u001b[0;32m      6\u001b[0m \u001b[0murl\u001b[0m \u001b[1;33m=\u001b[0m \u001b[0murl\u001b[0m\u001b[1;33m.\u001b[0m\u001b[0mformat\u001b[0m\u001b[1;33m(\u001b[0m\u001b[0ms\u001b[0m\u001b[1;33m)\u001b[0m\u001b[1;33m\u001b[0m\u001b[1;33m\u001b[0m\u001b[0m\n\u001b[0;32m      7\u001b[0m \u001b[1;33m\u001b[0m\u001b[0m\n\u001b[1;32m----> 8\u001b[1;33m \u001b[0mres\u001b[0m \u001b[1;33m=\u001b[0m \u001b[0mrequests\u001b[0m\u001b[1;33m(\u001b[0m\u001b[0murl\u001b[0m\u001b[1;33m)\u001b[0m\u001b[1;33m\u001b[0m\u001b[1;33m\u001b[0m\u001b[0m\n\u001b[0m\u001b[0;32m      9\u001b[0m \u001b[1;33m\u001b[0m\u001b[0m\n",
      "\u001b[1;31mTypeError\u001b[0m: 'module' object is not callable"
     ]
    }
   ],
   "source": [
    "import requests\n",
    "from bs4 import BeautifulSoup\n",
    "\n",
    "s = input('검색어')\n",
    "url = 'https://korean.visitkorea.or.kr/search/search_list.do?keyword={}'\n",
    "url = url.format(s)\n",
    "\n",
    "res = requests(url)\n",
    "\n"
   ]
  },
  {
   "cell_type": "code",
   "execution_count": 54,
   "id": "c5ec5926",
   "metadata": {},
   "outputs": [],
   "source": [
    "driver.close()"
   ]
  },
  {
   "cell_type": "code",
   "execution_count": null,
   "id": "f657f1a7",
   "metadata": {},
   "outputs": [],
   "source": [
    "#  selenium 정리  태그 => element\n",
    "\n",
    "#  특정 텍스트가 링크된 모든 것을 elem에 저장하겠다\n",
    "\n",
    "elem = find_element_by_class_name()\n",
    "elem = find_element_by_id()\n",
    "elem = find_element_by_xpath()\n",
    "elem = find_element_by_link_text()    #정확하게 일치할때\n",
    "elem = find_element_by_partial_link_text()  # 다포함해서\n",
    "elem = find_element_by_name() #확인\n",
    "elem = find_element_by_tag_name()\n",
    "\n",
    "# 모든 태그를 가져오려면\n",
    "\n",
    "elem = find_elements_by_class_name()\n",
    "elem = find_elements_by_id()\n",
    "elem = find_elements_by_xpath()\n",
    "elem = find_elements_by_link_text()    #정확하게 일치할때\n",
    "elem = find_elements_by_partial_link_text()  # 다포함해서\n",
    "elem = find_elements_by_name() #확인\n",
    "elem = find_elements_by_tag_name()\n",
    "elem = find_elements_by_css_selector()\n",
    "\n",
    "\n",
    "\n"
   ]
  },
  {
   "cell_type": "code",
   "execution_count": null,
   "id": "8e75450c",
   "metadata": {},
   "outputs": [],
   "source": [
    "# title, location, tags 본문까지"
   ]
  },
  {
   "cell_type": "code",
   "execution_count": null,
   "id": "2d89517c",
   "metadata": {},
   "outputs": [],
   "source": []
  },
  {
   "cell_type": "code",
   "execution_count": null,
   "id": "cbd9dbb0",
   "metadata": {},
   "outputs": [],
   "source": []
  },
  {
   "cell_type": "code",
   "execution_count": null,
   "id": "9b50402c",
   "metadata": {},
   "outputs": [],
   "source": []
  },
  {
   "cell_type": "code",
   "execution_count": null,
   "id": "591459bf",
   "metadata": {},
   "outputs": [],
   "source": []
  }
 ],
 "metadata": {
  "kernelspec": {
   "display_name": "Python 3 (ipykernel)",
   "language": "python",
   "name": "python3"
  },
  "language_info": {
   "codemirror_mode": {
    "name": "ipython",
    "version": 3
   },
   "file_extension": ".py",
   "mimetype": "text/x-python",
   "name": "python",
   "nbconvert_exporter": "python",
   "pygments_lexer": "ipython3",
   "version": "3.9.7"
  }
 },
 "nbformat": 4,
 "nbformat_minor": 5
}
