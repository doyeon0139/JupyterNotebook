{
 "cells": [
  {
   "cell_type": "code",
   "execution_count": 107,
   "id": "927d22a0",
   "metadata": {},
   "outputs": [],
   "source": [
    "import requests\n",
    "from bs4 import BeautifulSoup\n",
    "\n",
    "from selenium import webdriver\n",
    "from selenium.webdriver.common.keys import Keys\n",
    "\n",
    "import warnings\n",
    "warnings.filterwarnings(action='ignore')"
   ]
  },
  {
   "cell_type": "code",
   "execution_count": 108,
   "id": "0eb4d3af",
   "metadata": {},
   "outputs": [],
   "source": [
    "driver = webdriver.Chrome()\n"
   ]
  },
  {
   "cell_type": "code",
   "execution_count": 120,
   "id": "bfaaa8bd",
   "metadata": {},
   "outputs": [],
   "source": [
    "driver.get(\"http://www.danawa.com/\")"
   ]
  },
  {
   "cell_type": "code",
   "execution_count": 121,
   "id": "391f2ee9",
   "metadata": {},
   "outputs": [],
   "source": [
    "driver.find_element_by_css_selector(\"#danawa_menubar > div.main-header__user > div:nth-child(5) > a\").click()"
   ]
  },
  {
   "cell_type": "code",
   "execution_count": 112,
   "id": "40b88fb5",
   "metadata": {},
   "outputs": [],
   "source": [
    "elem = driver.find_element_by_id(\"danawa-member-login-input-id\")\n",
    "\n",
    "elem.send_keys('ljhye0139@daum.net')"
   ]
  },
  {
   "cell_type": "code",
   "execution_count": 122,
   "id": "123d381c",
   "metadata": {},
   "outputs": [],
   "source": [
    "elem = driver.find_element_by_id(\"danawa-member-login-input-pwd\")\n",
    "\n",
    "elem.send_keys('ekskdhk1!')"
   ]
  },
  {
   "cell_type": "code",
   "execution_count": 123,
   "id": "c470c0e9",
   "metadata": {},
   "outputs": [],
   "source": [
    "driver.find_element_by_css_selector(\"#danawa-member-login-loginButton\").click()"
   ]
  },
  {
   "cell_type": "code",
   "execution_count": 125,
   "id": "f6793337",
   "metadata": {},
   "outputs": [],
   "source": [
    "driver.find_element_by_css_selector(\"#danawa_menubar > div.main-header__user > div:nth-child(4) > a\").click()"
   ]
  },
  {
   "cell_type": "code",
   "execution_count": 128,
   "id": "7d5dec36",
   "metadata": {},
   "outputs": [],
   "source": [
    "html = driver.page_source\n",
    "\n",
    "soup = BeautifulSoup(html, 'html.parser')\n",
    "\n",
    "path = \"#wishProductListArea > table > tbody > tr\"\n",
    "\n",
    "con = soup.select(path)"
   ]
  },
  {
   "cell_type": "code",
   "execution_count": 129,
   "id": "fe220b50",
   "metadata": {},
   "outputs": [
    {
     "name": "stdout",
     "output_type": "stream",
     "text": [
      "상품명 :  헬스투데이 코코도르 차량용 우드볼 디퓨저 50ml + 리필액 200ml (1세트)\n",
      "상세정보 :  차량용디퓨져 / 본품+리필 / 액체타입 / 장착위치: 대시보드, 컵홀더 / 리필가능 / 용량: 50ml / 리필용량: 200ml / 향: 블랙체리, 에이프릴프레쉬, 프렌치라벤더\n",
      "가격 :  \n",
      "10,000원\n",
      "\t\t\t\t\t\t\t\n",
      "----------------------------------------------------------------------------------------------------\n",
      "상품명 :  조말론 차량용 송풍구 방향제 (해외구매)\n",
      "상세정보 :  차량용방향제 / 클립형 / 장착위치: 송풍구 / 향: 라임바질앤만다린, 잉글리쉬페어앤프리지아, 포머그래니트누와\n",
      "가격 :  \n",
      "39,500원\n",
      "\t\t\t\t\t\t\t\n",
      "----------------------------------------------------------------------------------------------------\n",
      "상품명 :  양키캔들 프래그런스 스피어스 (1개)\n",
      "상세정보 :  차량용방향제 / 비치형 / 겔타입 / 장착위치: 대시보드, 컵홀더 / 용량: 170g / 향: 클린코튼, 미드썸머나잇, 핑크샌즈, 레몬라벤더, 레드라즈베리, 바하마브리즈, 블랙코코넛, 발삼앤시더, 매킨토시, 메이어레몬 외\n",
      "가격 :  \n",
      "4,090원\n",
      "\t\t\t\t\t\t\t\n",
      "----------------------------------------------------------------------------------------------------\n"
     ]
    }
   ],
   "source": [
    "for coco in con:\n",
    "    tit = coco.select(\"td.info > div.tit \")[0].text\n",
    "    s_tit = coco.select(\"td.info > dl > dd > a\")[0].text\n",
    "    pri = coco.select(\"td.lowest > dl > div.cost > span\")[0].text\n",
    "    \n",
    "    \n",
    "    print(\"상품명 : \", tit)\n",
    "    print(\"상세정보 : \", s_tit)\n",
    "    print(\"가격 : \", pri)\n",
    "    print(\"-\"*100)"
   ]
  },
  {
   "cell_type": "code",
   "execution_count": null,
   "id": "4b2be5d5",
   "metadata": {},
   "outputs": [],
   "source": []
  },
  {
   "cell_type": "code",
   "execution_count": 90,
   "id": "0266ee6c",
   "metadata": {
    "collapsed": true
   },
   "outputs": [
    {
     "ename": "SyntaxError",
     "evalue": "invalid syntax (Temp/ipykernel_4556/1125962648.py, line 14)",
     "output_type": "error",
     "traceback": [
      "\u001b[1;36m  File \u001b[1;32m\"C:\\Users\\bitcamp\\AppData\\Local\\Temp/ipykernel_4556/1125962648.py\"\u001b[1;36m, line \u001b[1;32m14\u001b[0m\n\u001b[1;33m    driver.find_element_by_xpath(\"//*[@id=\"danawa_menubar\"]/div[3]/div[3]/a\").click()\u001b[0m\n\u001b[1;37m                                           ^\u001b[0m\n\u001b[1;31mSyntaxError\u001b[0m\u001b[1;31m:\u001b[0m invalid syntax\n"
     ]
    }
   ],
   "source": [
    "import requests\n",
    "from bs4 import BeautifulSoup\n",
    "\n",
    "from selenium import webdriver\n",
    "from selenium.webdriver.common.keys import Keys\n",
    "\n",
    "import warnings\n",
    "warnings.filterwarnings(action='ignore')\n",
    "\n",
    "driver = webdriver.Chrome()\n",
    "\n",
    "driver.get(\"http://www.danawa.com/\")\n",
    "\n",
    "driver.find_element_by_xpath(\"//*[@id=\"danawa_menubar\"]/div[3]/div[3]/a\").click()\n",
    "\n",
    "userid = sec.sec_id_pw['id']\n",
    "userpw = sec.sec_id_pw['pw']\n",
    "\n",
    "driver.find_elelment(\"danawa-member-login-input-id\").send_keys(userid)\n",
    "driver.find_elelment(\"danawa-member-login-input-pwd\").send_keys(userpw)\n",
    "\n",
    "driver.find_element_by_css_selector(\"#danawa-member-login-loginButton\").click()\n",
    "\n",
    "driver.find_element_by_css_selector(\"#danawa_menubar > div.main-header__user > div:nth-child(4) > a\").click()\n",
    "\n",
    "\n",
    "html = driver.page_source\n",
    "\n",
    "soup = BeautifulSoup(html, 'html.parser')\n",
    "\n",
    "\n",
    "path = \"#wishProductListArea > table > tbody > tr\"\n",
    "\n",
    "\n",
    "\n"
   ]
  },
  {
   "cell_type": "code",
   "execution_count": 91,
   "id": "89b07d9a",
   "metadata": {
    "collapsed": true
   },
   "outputs": [
    {
     "ename": "TypeError",
     "evalue": "object of type 'method' has no len()",
     "output_type": "error",
     "traceback": [
      "\u001b[1;31m---------------------------------------------------------------------------\u001b[0m",
      "\u001b[1;31mTypeError\u001b[0m                                 Traceback (most recent call last)",
      "\u001b[1;32m~\\AppData\\Local\\Temp/ipykernel_4556/1977721385.py\u001b[0m in \u001b[0;36m<module>\u001b[1;34m\u001b[0m\n\u001b[1;32m----> 1\u001b[1;33m \u001b[0mlen\u001b[0m\u001b[1;33m(\u001b[0m\u001b[0msoup\u001b[0m\u001b[1;33m.\u001b[0m\u001b[0mselect\u001b[0m\u001b[1;33m)\u001b[0m\u001b[1;33m\u001b[0m\u001b[1;33m\u001b[0m\u001b[0m\n\u001b[0m",
      "\u001b[1;31mTypeError\u001b[0m: object of type 'method' has no len()"
     ]
    }
   ],
   "source": [
    "len(soup.select)"
   ]
  },
  {
   "cell_type": "code",
   "execution_count": 94,
   "id": "0b0d1094",
   "metadata": {},
   "outputs": [
    {
     "ename": "IndexError",
     "evalue": "list index out of range",
     "output_type": "error",
     "traceback": [
      "\u001b[1;31m---------------------------------------------------------------------------\u001b[0m",
      "\u001b[1;31mIndexError\u001b[0m                                Traceback (most recent call last)",
      "\u001b[1;32m~\\AppData\\Local\\Temp/ipykernel_4556/375017038.py\u001b[0m in \u001b[0;36m<module>\u001b[1;34m\u001b[0m\n\u001b[0;32m      1\u001b[0m \u001b[0mtags\u001b[0m \u001b[1;33m=\u001b[0m \u001b[0msoup\u001b[0m\u001b[1;33m.\u001b[0m\u001b[0mselect\u001b[0m\u001b[1;33m(\u001b[0m\u001b[0mpath\u001b[0m\u001b[1;33m)\u001b[0m\u001b[1;33m\u001b[0m\u001b[1;33m\u001b[0m\u001b[0m\n\u001b[0;32m      2\u001b[0m \u001b[1;33m\u001b[0m\u001b[0m\n\u001b[1;32m----> 3\u001b[1;33m \u001b[0mtags\u001b[0m\u001b[1;33m[\u001b[0m\u001b[1;36m0\u001b[0m\u001b[1;33m]\u001b[0m\u001b[1;33m.\u001b[0m\u001b[0mselect\u001b[0m\u001b[1;33m(\u001b[0m\u001b[1;34m\"tr > td.info > div.tit \"\u001b[0m\u001b[1;33m)\u001b[0m\u001b[1;33m[\u001b[0m\u001b[1;36m0\u001b[0m\u001b[1;33m]\u001b[0m\u001b[1;33m.\u001b[0m\u001b[0mtext\u001b[0m\u001b[1;33m\u001b[0m\u001b[1;33m\u001b[0m\u001b[0m\n\u001b[0m",
      "\u001b[1;31mIndexError\u001b[0m: list index out of range"
     ]
    }
   ],
   "source": [
    "tags = soup.select(path)\n",
    "\n",
    "tags[0].select(\"tr > td.info > div.tit \")[0].text"
   ]
  },
  {
   "cell_type": "code",
   "execution_count": 93,
   "id": "a49576b6",
   "metadata": {
    "collapsed": true
   },
   "outputs": [
    {
     "ename": "IndexError",
     "evalue": "list index out of range",
     "output_type": "error",
     "traceback": [
      "\u001b[1;31m---------------------------------------------------------------------------\u001b[0m",
      "\u001b[1;31mIndexError\u001b[0m                                Traceback (most recent call last)",
      "\u001b[1;32m~\\AppData\\Local\\Temp/ipykernel_4556/297724402.py\u001b[0m in \u001b[0;36m<module>\u001b[1;34m\u001b[0m\n\u001b[1;32m----> 1\u001b[1;33m \u001b[0mtags\u001b[0m\u001b[1;33m[\u001b[0m\u001b[1;36m0\u001b[0m\u001b[1;33m]\u001b[0m\u001b[1;33m.\u001b[0m\u001b[0mselect\u001b[0m\u001b[1;33m(\u001b[0m\u001b[1;34m\"tr > td.info > dl > dd > a \"\u001b[0m\u001b[1;33m)\u001b[0m\u001b[1;33m[\u001b[0m\u001b[1;36m0\u001b[0m\u001b[1;33m]\u001b[0m\u001b[1;33m.\u001b[0m\u001b[0mtext\u001b[0m\u001b[1;33m\u001b[0m\u001b[1;33m\u001b[0m\u001b[0m\n\u001b[0m",
      "\u001b[1;31mIndexError\u001b[0m: list index out of range"
     ]
    }
   ],
   "source": [
    "tags[0].select(\"tr > td.info > dl > dd > a \")[0].text"
   ]
  },
  {
   "cell_type": "code",
   "execution_count": 79,
   "id": "5c180aa5",
   "metadata": {},
   "outputs": [
    {
     "data": {
      "text/plain": [
       "'10,000원'"
      ]
     },
     "execution_count": 79,
     "metadata": {},
     "output_type": "execute_result"
    }
   ],
   "source": [
    "tags[0].select(\"tr > td.lowest > dl > div.cost > span \")[0].text.strip()"
   ]
  },
  {
   "cell_type": "code",
   "execution_count": 80,
   "id": "a9dad3ac",
   "metadata": {},
   "outputs": [
    {
     "name": "stdout",
     "output_type": "stream",
     "text": [
      "헬스투데이 코코도르 차량용 우드볼 디퓨저 50ml + 리필액 200ml (1세트)\n",
      "차량용디퓨져 / 본품+리필 / 액체타입 / 장착위치: 대시보드, 컵홀더 / 리필가능 / 용량: 50ml / 리필용량: 200ml / 향: 블랙체리, 에이프릴프레쉬, 프렌치라벤더\n",
      "10,000원\n"
     ]
    }
   ],
   "source": [
    "for tag in tags:\n",
    "    tit = tags[0].select(\"tr > td.info > div.tit \")[0].text\n",
    "    detail = tags[0].select(\"tr > td.info > dl > dd > a \")[0].text\n",
    "    price = tags[0].select(\"tr > td.lowest > dl > div.cost > span \")[0].text.strip()\n",
    "    \n",
    "    print(title)\n",
    "    print(detail)\n",
    "    print(price)"
   ]
  }
 ],
 "metadata": {
  "kernelspec": {
   "display_name": "Python 3 (ipykernel)",
   "language": "python",
   "name": "python3"
  },
  "language_info": {
   "codemirror_mode": {
    "name": "ipython",
    "version": 3
   },
   "file_extension": ".py",
   "mimetype": "text/x-python",
   "name": "python",
   "nbconvert_exporter": "python",
   "pygments_lexer": "ipython3",
   "version": "3.9.7"
  }
 },
 "nbformat": 4,
 "nbformat_minor": 5
}
