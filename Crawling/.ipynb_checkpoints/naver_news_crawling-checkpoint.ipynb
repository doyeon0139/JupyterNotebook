{
 "cells": [
  {
   "cell_type": "code",
   "execution_count": 1,
   "id": "db6efd31",
   "metadata": {},
   "outputs": [],
   "source": [
    "import requests\n",
    "from bs4 import BeautifulSoup\n",
    "\n",
    "from selenium import webdriver\n",
    "from selenium.webdriver.common.keys import Keys"
   ]
  },
  {
   "cell_type": "code",
   "execution_count": 11,
   "id": "ed53a4ce",
   "metadata": {},
   "outputs": [],
   "source": [
    "driver = webdriver.Chrome()"
   ]
  },
  {
   "cell_type": "code",
   "execution_count": 12,
   "id": "a31df806",
   "metadata": {},
   "outputs": [],
   "source": [
    "driver.get('https://naver.com')"
   ]
  },
  {
   "cell_type": "code",
   "execution_count": 13,
   "id": "97149719",
   "metadata": {
    "collapsed": true
   },
   "outputs": [
    {
     "name": "stderr",
     "output_type": "stream",
     "text": [
      "C:\\Users\\bitcamp\\AppData\\Local\\Temp/ipykernel_10884/2407959414.py:1: DeprecationWarning: find_element_by_* commands are deprecated. Please use find_element() instead\n",
      "  elem = driver.find_element_by_id('query')\n"
     ]
    }
   ],
   "source": [
    "elem = driver.find_element_by_id('query')\n"
   ]
  },
  {
   "cell_type": "code",
   "execution_count": 14,
   "id": "30d7f6e5",
   "metadata": {},
   "outputs": [],
   "source": [
    "elem.send_keys('빅데이터')\n"
   ]
  },
  {
   "cell_type": "code",
   "execution_count": 15,
   "id": "fefcb79c",
   "metadata": {},
   "outputs": [],
   "source": [
    "elem.send_keys(Keys.RETURN)\n"
   ]
  },
  {
   "cell_type": "code",
   "execution_count": 16,
   "id": "1cbb301f",
   "metadata": {
    "collapsed": true
   },
   "outputs": [
    {
     "name": "stderr",
     "output_type": "stream",
     "text": [
      "C:\\Users\\bitcamp\\AppData\\Local\\Temp/ipykernel_10884/1348083306.py:2: DeprecationWarning: find_element_by_* commands are deprecated. Please use find_element() instead\n",
      "  driver.find_element_by_css_selector(path).click()\n"
     ]
    }
   ],
   "source": [
    "path = '#lnb > div.lnb_group > div > ul > li:nth-child(4) > a'   # 뉴스탭으로 넘어가기\n",
    "driver.find_element_by_css_selector(path).click()"
   ]
  },
  {
   "cell_type": "code",
   "execution_count": 17,
   "id": "4691150b",
   "metadata": {},
   "outputs": [],
   "source": [
    "html = driver.page_source"
   ]
  },
  {
   "cell_type": "code",
   "execution_count": 18,
   "id": "fd6ea6eb",
   "metadata": {},
   "outputs": [],
   "source": [
    "soup = BeautifulSoup(html,'html.parser')"
   ]
  },
  {
   "cell_type": "code",
   "execution_count": 19,
   "id": "60b9f492",
   "metadata": {},
   "outputs": [],
   "source": [
    "path = '#sp_nws1 > div > div > a'"
   ]
  },
  {
   "cell_type": "code",
   "execution_count": 20,
   "id": "c2c3943a",
   "metadata": {},
   "outputs": [
    {
     "data": {
      "text/plain": [
       "[<a class=\"news_tit\" href=\"http://www.womennews.co.kr/news/articleView.html?idxno=219536\" onclick=\"return goOtherCR(this, 'a=nws*h.tit&amp;r=1&amp;i=88000589_000000000000000000093459&amp;g=310.0000093459&amp;u='+urlencode(this.href));\" target=\"_blank\" title=\"빅데이터로 범죄 막는다...서초구 '예측범죄지도' 도입\"><mark>빅데이터</mark>로 범죄 막는다...서초구 '예측범죄지도' 도입</a>]"
      ]
     },
     "execution_count": 20,
     "metadata": {},
     "output_type": "execute_result"
    }
   ],
   "source": [
    "news = soup.select(path)\n",
    "\n",
    "news"
   ]
  },
  {
   "cell_type": "code",
   "execution_count": 21,
   "id": "23fe1b14",
   "metadata": {},
   "outputs": [],
   "source": [
    "driver.close()"
   ]
  },
  {
   "cell_type": "code",
   "execution_count": null,
   "id": "2487ca73",
   "metadata": {},
   "outputs": [],
   "source": []
  },
  {
   "cell_type": "code",
   "execution_count": null,
   "id": "cca40a2e",
   "metadata": {},
   "outputs": [],
   "source": [
    "# https://korean.visitkorea.or.kr\n",
    "#  제목 지역 해시태그\n",
    "\n",
    "\n"
   ]
  },
  {
   "cell_type": "code",
   "execution_count": 50,
   "id": "1af2a22b",
   "metadata": {},
   "outputs": [],
   "source": [
    "import requests\n",
    "from bs4 import BeautifulSoup\n",
    "\n",
    "from selenium import webdriver\n",
    "from selenium.webdriver.common.keys import Keys"
   ]
  },
  {
   "cell_type": "code",
   "execution_count": 51,
   "id": "dc3f1c3d",
   "metadata": {},
   "outputs": [],
   "source": [
    "driver = webdriver.Chrome()"
   ]
  },
  {
   "cell_type": "code",
   "execution_count": 52,
   "id": "07776896",
   "metadata": {},
   "outputs": [],
   "source": [
    "driver.get('https://korean.visitkorea.or.kr')"
   ]
  },
  {
   "cell_type": "code",
   "execution_count": 57,
   "id": "bd172d63",
   "metadata": {},
   "outputs": [
    {
     "name": "stdout",
     "output_type": "stream",
     "text": [
      "검색어고성\n"
     ]
    }
   ],
   "source": [
    "s = input('검색어')"
   ]
  },
  {
   "cell_type": "code",
   "execution_count": 55,
   "id": "c6a08474",
   "metadata": {
    "collapsed": true
   },
   "outputs": [
    {
     "name": "stderr",
     "output_type": "stream",
     "text": [
      "C:\\Users\\bitcamp\\AppData\\Local\\Temp/ipykernel_8588/3919909627.py:3: DeprecationWarning: find_elements_by_* commands are deprecated. Please use find_elements() instead\n",
      "  elem = driver.find_elements_by_id('inp_serch')\n"
     ]
    }
   ],
   "source": [
    "# elem = driver.find_element_by_id('query')\n",
    "\n",
    "elem = driver.find_elements_by_id('inp_serch')"
   ]
  },
  {
   "cell_type": "code",
   "execution_count": 60,
   "id": "879f84aa",
   "metadata": {},
   "outputs": [
    {
     "ename": "AttributeError",
     "evalue": "'list' object has no attribute 'send_Keys'",
     "output_type": "error",
     "traceback": [
      "\u001b[1;31m---------------------------------------------------------------------------\u001b[0m",
      "\u001b[1;31mAttributeError\u001b[0m                            Traceback (most recent call last)",
      "\u001b[1;32m~\\AppData\\Local\\Temp/ipykernel_8588/1706060839.py\u001b[0m in \u001b[0;36m<module>\u001b[1;34m\u001b[0m\n\u001b[1;32m----> 1\u001b[1;33m \u001b[0melem\u001b[0m\u001b[1;33m.\u001b[0m\u001b[0msend_Keys\u001b[0m\u001b[1;33m(\u001b[0m\u001b[0ms\u001b[0m\u001b[1;33m)\u001b[0m\u001b[1;33m\u001b[0m\u001b[1;33m\u001b[0m\u001b[0m\n\u001b[0m",
      "\u001b[1;31mAttributeError\u001b[0m: 'list' object has no attribute 'send_Keys'"
     ]
    }
   ],
   "source": [
    "elem.send_keys(s)"
   ]
  },
  {
   "cell_type": "code",
   "execution_count": null,
   "id": "03f27fff",
   "metadata": {},
   "outputs": [],
   "source": [
    "path = '#gnbMain > div.top_menu > div > div.search > span > a'"
   ]
  },
  {
   "cell_type": "code",
   "execution_count": 47,
   "id": "3cb7fe3c",
   "metadata": {
    "collapsed": true
   },
   "outputs": [
    {
     "name": "stderr",
     "output_type": "stream",
     "text": [
      "C:\\Users\\bitcamp\\AppData\\Local\\Temp/ipykernel_8588/82499377.py:1: DeprecationWarning: find_element_by_* commands are deprecated. Please use find_element() instead\n",
      "  driver.find_element_by_css_selector('#gnbMain > div.top_menu > div > div.search > span > a').click()\n"
     ]
    },
    {
     "ename": "ElementNotInteractableException",
     "evalue": "Message: element not interactable\n  (Session info: chrome=97.0.4692.71)\nStacktrace:\nBacktrace:\n\tOrdinal0 [0x0057FDC3+2555331]\n\tOrdinal0 [0x005177F1+2127857]\n\tOrdinal0 [0x00412CD0+1060048]\n\tOrdinal0 [0x0043F3AE+1242030]\n\tOrdinal0 [0x00434FB3+1200051]\n\tOrdinal0 [0x00457B0C+1342220]\n\tOrdinal0 [0x00434984+1198468]\n\tOrdinal0 [0x00457C14+1342484]\n\tOrdinal0 [0x004675FA+1406458]\n\tOrdinal0 [0x00457976+1341814]\n\tOrdinal0 [0x004336B6+1193654]\n\tOrdinal0 [0x00434546+1197382]\n\tGetHandleVerifier [0x00719622+1619522]\n\tGetHandleVerifier [0x007C882C+2336844]\n\tGetHandleVerifier [0x006123E1+541697]\n\tGetHandleVerifier [0x00611443+537699]\n\tOrdinal0 [0x0051D18E+2150798]\n\tOrdinal0 [0x00521518+2168088]\n\tOrdinal0 [0x00521660+2168416]\n\tOrdinal0 [0x0052B330+2208560]\n\tBaseThreadInitThunk [0x76ECFA29+25]\n\tRtlGetAppContainerNamedObjectPath [0x77017A9E+286]\n\tRtlGetAppContainerNamedObjectPath [0x77017A6E+238]\n",
     "output_type": "error",
     "traceback": [
      "\u001b[1;31m---------------------------------------------------------------------------\u001b[0m",
      "\u001b[1;31mElementNotInteractableException\u001b[0m           Traceback (most recent call last)",
      "\u001b[1;32m~\\AppData\\Local\\Temp/ipykernel_8588/82499377.py\u001b[0m in \u001b[0;36m<module>\u001b[1;34m\u001b[0m\n\u001b[1;32m----> 1\u001b[1;33m \u001b[0mdriver\u001b[0m\u001b[1;33m.\u001b[0m\u001b[0mfind_element_by_css_selector\u001b[0m\u001b[1;33m(\u001b[0m\u001b[1;34m'#gnbMain > div.top_menu > div > div.search > span > a'\u001b[0m\u001b[1;33m)\u001b[0m\u001b[1;33m.\u001b[0m\u001b[0mclick\u001b[0m\u001b[1;33m(\u001b[0m\u001b[1;33m)\u001b[0m\u001b[1;33m\u001b[0m\u001b[1;33m\u001b[0m\u001b[0m\n\u001b[0m",
      "\u001b[1;32m~\\Anaconda3\\lib\\site-packages\\selenium\\webdriver\\remote\\webelement.py\u001b[0m in \u001b[0;36mclick\u001b[1;34m(self)\u001b[0m\n\u001b[0;32m     79\u001b[0m     \u001b[1;32mdef\u001b[0m \u001b[0mclick\u001b[0m\u001b[1;33m(\u001b[0m\u001b[0mself\u001b[0m\u001b[1;33m)\u001b[0m \u001b[1;33m->\u001b[0m \u001b[1;32mNone\u001b[0m\u001b[1;33m:\u001b[0m\u001b[1;33m\u001b[0m\u001b[1;33m\u001b[0m\u001b[0m\n\u001b[0;32m     80\u001b[0m         \u001b[1;34m\"\"\"Clicks the element.\"\"\"\u001b[0m\u001b[1;33m\u001b[0m\u001b[1;33m\u001b[0m\u001b[0m\n\u001b[1;32m---> 81\u001b[1;33m         \u001b[0mself\u001b[0m\u001b[1;33m.\u001b[0m\u001b[0m_execute\u001b[0m\u001b[1;33m(\u001b[0m\u001b[0mCommand\u001b[0m\u001b[1;33m.\u001b[0m\u001b[0mCLICK_ELEMENT\u001b[0m\u001b[1;33m)\u001b[0m\u001b[1;33m\u001b[0m\u001b[1;33m\u001b[0m\u001b[0m\n\u001b[0m\u001b[0;32m     82\u001b[0m \u001b[1;33m\u001b[0m\u001b[0m\n\u001b[0;32m     83\u001b[0m     \u001b[1;32mdef\u001b[0m \u001b[0msubmit\u001b[0m\u001b[1;33m(\u001b[0m\u001b[0mself\u001b[0m\u001b[1;33m)\u001b[0m\u001b[1;33m:\u001b[0m\u001b[1;33m\u001b[0m\u001b[1;33m\u001b[0m\u001b[0m\n",
      "\u001b[1;32m~\\Anaconda3\\lib\\site-packages\\selenium\\webdriver\\remote\\webelement.py\u001b[0m in \u001b[0;36m_execute\u001b[1;34m(self, command, params)\u001b[0m\n\u001b[0;32m    708\u001b[0m             \u001b[0mparams\u001b[0m \u001b[1;33m=\u001b[0m \u001b[1;33m{\u001b[0m\u001b[1;33m}\u001b[0m\u001b[1;33m\u001b[0m\u001b[1;33m\u001b[0m\u001b[0m\n\u001b[0;32m    709\u001b[0m         \u001b[0mparams\u001b[0m\u001b[1;33m[\u001b[0m\u001b[1;34m'id'\u001b[0m\u001b[1;33m]\u001b[0m \u001b[1;33m=\u001b[0m \u001b[0mself\u001b[0m\u001b[1;33m.\u001b[0m\u001b[0m_id\u001b[0m\u001b[1;33m\u001b[0m\u001b[1;33m\u001b[0m\u001b[0m\n\u001b[1;32m--> 710\u001b[1;33m         \u001b[1;32mreturn\u001b[0m \u001b[0mself\u001b[0m\u001b[1;33m.\u001b[0m\u001b[0m_parent\u001b[0m\u001b[1;33m.\u001b[0m\u001b[0mexecute\u001b[0m\u001b[1;33m(\u001b[0m\u001b[0mcommand\u001b[0m\u001b[1;33m,\u001b[0m \u001b[0mparams\u001b[0m\u001b[1;33m)\u001b[0m\u001b[1;33m\u001b[0m\u001b[1;33m\u001b[0m\u001b[0m\n\u001b[0m\u001b[0;32m    711\u001b[0m \u001b[1;33m\u001b[0m\u001b[0m\n\u001b[0;32m    712\u001b[0m     \u001b[1;32mdef\u001b[0m \u001b[0mfind_element\u001b[0m\u001b[1;33m(\u001b[0m\u001b[0mself\u001b[0m\u001b[1;33m,\u001b[0m \u001b[0mby\u001b[0m\u001b[1;33m=\u001b[0m\u001b[0mBy\u001b[0m\u001b[1;33m.\u001b[0m\u001b[0mID\u001b[0m\u001b[1;33m,\u001b[0m \u001b[0mvalue\u001b[0m\u001b[1;33m=\u001b[0m\u001b[1;32mNone\u001b[0m\u001b[1;33m)\u001b[0m\u001b[1;33m:\u001b[0m\u001b[1;33m\u001b[0m\u001b[1;33m\u001b[0m\u001b[0m\n",
      "\u001b[1;32m~\\Anaconda3\\lib\\site-packages\\selenium\\webdriver\\remote\\webdriver.py\u001b[0m in \u001b[0;36mexecute\u001b[1;34m(self, driver_command, params)\u001b[0m\n\u001b[0;32m    422\u001b[0m         \u001b[0mresponse\u001b[0m \u001b[1;33m=\u001b[0m \u001b[0mself\u001b[0m\u001b[1;33m.\u001b[0m\u001b[0mcommand_executor\u001b[0m\u001b[1;33m.\u001b[0m\u001b[0mexecute\u001b[0m\u001b[1;33m(\u001b[0m\u001b[0mdriver_command\u001b[0m\u001b[1;33m,\u001b[0m \u001b[0mparams\u001b[0m\u001b[1;33m)\u001b[0m\u001b[1;33m\u001b[0m\u001b[1;33m\u001b[0m\u001b[0m\n\u001b[0;32m    423\u001b[0m         \u001b[1;32mif\u001b[0m \u001b[0mresponse\u001b[0m\u001b[1;33m:\u001b[0m\u001b[1;33m\u001b[0m\u001b[1;33m\u001b[0m\u001b[0m\n\u001b[1;32m--> 424\u001b[1;33m             \u001b[0mself\u001b[0m\u001b[1;33m.\u001b[0m\u001b[0merror_handler\u001b[0m\u001b[1;33m.\u001b[0m\u001b[0mcheck_response\u001b[0m\u001b[1;33m(\u001b[0m\u001b[0mresponse\u001b[0m\u001b[1;33m)\u001b[0m\u001b[1;33m\u001b[0m\u001b[1;33m\u001b[0m\u001b[0m\n\u001b[0m\u001b[0;32m    425\u001b[0m             response['value'] = self._unwrap_value(\n\u001b[0;32m    426\u001b[0m                 response.get('value', None))\n",
      "\u001b[1;32m~\\Anaconda3\\lib\\site-packages\\selenium\\webdriver\\remote\\errorhandler.py\u001b[0m in \u001b[0;36mcheck_response\u001b[1;34m(self, response)\u001b[0m\n\u001b[0;32m    245\u001b[0m                 \u001b[0malert_text\u001b[0m \u001b[1;33m=\u001b[0m \u001b[0mvalue\u001b[0m\u001b[1;33m[\u001b[0m\u001b[1;34m'alert'\u001b[0m\u001b[1;33m]\u001b[0m\u001b[1;33m.\u001b[0m\u001b[0mget\u001b[0m\u001b[1;33m(\u001b[0m\u001b[1;34m'text'\u001b[0m\u001b[1;33m)\u001b[0m\u001b[1;33m\u001b[0m\u001b[1;33m\u001b[0m\u001b[0m\n\u001b[0;32m    246\u001b[0m             \u001b[1;32mraise\u001b[0m \u001b[0mexception_class\u001b[0m\u001b[1;33m(\u001b[0m\u001b[0mmessage\u001b[0m\u001b[1;33m,\u001b[0m \u001b[0mscreen\u001b[0m\u001b[1;33m,\u001b[0m \u001b[0mstacktrace\u001b[0m\u001b[1;33m,\u001b[0m \u001b[0malert_text\u001b[0m\u001b[1;33m)\u001b[0m  \u001b[1;31m# type: ignore[call-arg]  # mypy is not smart enough here\u001b[0m\u001b[1;33m\u001b[0m\u001b[1;33m\u001b[0m\u001b[0m\n\u001b[1;32m--> 247\u001b[1;33m         \u001b[1;32mraise\u001b[0m \u001b[0mexception_class\u001b[0m\u001b[1;33m(\u001b[0m\u001b[0mmessage\u001b[0m\u001b[1;33m,\u001b[0m \u001b[0mscreen\u001b[0m\u001b[1;33m,\u001b[0m \u001b[0mstacktrace\u001b[0m\u001b[1;33m)\u001b[0m\u001b[1;33m\u001b[0m\u001b[1;33m\u001b[0m\u001b[0m\n\u001b[0m\u001b[0;32m    248\u001b[0m \u001b[1;33m\u001b[0m\u001b[0m\n\u001b[0;32m    249\u001b[0m     \u001b[1;32mdef\u001b[0m \u001b[0m_value_or_default\u001b[0m\u001b[1;33m(\u001b[0m\u001b[0mself\u001b[0m\u001b[1;33m,\u001b[0m \u001b[0mobj\u001b[0m\u001b[1;33m:\u001b[0m \u001b[0mMapping\u001b[0m\u001b[1;33m[\u001b[0m\u001b[0m_KT\u001b[0m\u001b[1;33m,\u001b[0m \u001b[0m_VT\u001b[0m\u001b[1;33m]\u001b[0m\u001b[1;33m,\u001b[0m \u001b[0mkey\u001b[0m\u001b[1;33m:\u001b[0m \u001b[0m_KT\u001b[0m\u001b[1;33m,\u001b[0m \u001b[0mdefault\u001b[0m\u001b[1;33m:\u001b[0m \u001b[0m_VT\u001b[0m\u001b[1;33m)\u001b[0m \u001b[1;33m->\u001b[0m \u001b[0m_VT\u001b[0m\u001b[1;33m:\u001b[0m\u001b[1;33m\u001b[0m\u001b[1;33m\u001b[0m\u001b[0m\n",
      "\u001b[1;31mElementNotInteractableException\u001b[0m: Message: element not interactable\n  (Session info: chrome=97.0.4692.71)\nStacktrace:\nBacktrace:\n\tOrdinal0 [0x0057FDC3+2555331]\n\tOrdinal0 [0x005177F1+2127857]\n\tOrdinal0 [0x00412CD0+1060048]\n\tOrdinal0 [0x0043F3AE+1242030]\n\tOrdinal0 [0x00434FB3+1200051]\n\tOrdinal0 [0x00457B0C+1342220]\n\tOrdinal0 [0x00434984+1198468]\n\tOrdinal0 [0x00457C14+1342484]\n\tOrdinal0 [0x004675FA+1406458]\n\tOrdinal0 [0x00457976+1341814]\n\tOrdinal0 [0x004336B6+1193654]\n\tOrdinal0 [0x00434546+1197382]\n\tGetHandleVerifier [0x00719622+1619522]\n\tGetHandleVerifier [0x007C882C+2336844]\n\tGetHandleVerifier [0x006123E1+541697]\n\tGetHandleVerifier [0x00611443+537699]\n\tOrdinal0 [0x0051D18E+2150798]\n\tOrdinal0 [0x00521518+2168088]\n\tOrdinal0 [0x00521660+2168416]\n\tOrdinal0 [0x0052B330+2208560]\n\tBaseThreadInitThunk [0x76ECFA29+25]\n\tRtlGetAppContainerNamedObjectPath [0x77017A9E+286]\n\tRtlGetAppContainerNamedObjectPath [0x77017A6E+238]\n"
     ]
    }
   ],
   "source": [
    "driver.find_element_by_css_selector('#gnbMain > div.top_menu > div > div.search > span > a').click()"
   ]
  },
  {
   "cell_type": "code",
   "execution_count": 48,
   "id": "b354018b",
   "metadata": {
    "collapsed": true
   },
   "outputs": [
    {
     "ename": "TypeError",
     "evalue": "'str' object is not callable",
     "output_type": "error",
     "traceback": [
      "\u001b[1;31m---------------------------------------------------------------------------\u001b[0m",
      "\u001b[1;31mTypeError\u001b[0m                                 Traceback (most recent call last)",
      "\u001b[1;32m~\\AppData\\Local\\Temp/ipykernel_8588/311766233.py\u001b[0m in \u001b[0;36m<module>\u001b[1;34m\u001b[0m\n\u001b[1;32m----> 1\u001b[1;33m \u001b[0mhtml\u001b[0m \u001b[1;33m=\u001b[0m \u001b[0mdriver\u001b[0m\u001b[1;33m.\u001b[0m\u001b[0mpage_source\u001b[0m\u001b[1;33m(\u001b[0m\u001b[1;33m)\u001b[0m\u001b[1;33m\u001b[0m\u001b[1;33m\u001b[0m\u001b[0m\n\u001b[0m\u001b[0;32m      2\u001b[0m \u001b[0msoup\u001b[0m \u001b[1;33m=\u001b[0m \u001b[0mBeautifulSoup\u001b[0m\u001b[1;33m(\u001b[0m\u001b[0mhtml\u001b[0m\u001b[1;33m,\u001b[0m \u001b[1;34m'html.parser'\u001b[0m\u001b[1;33m)\u001b[0m\u001b[1;33m\u001b[0m\u001b[1;33m\u001b[0m\u001b[0m\n",
      "\u001b[1;31mTypeError\u001b[0m: 'str' object is not callable"
     ]
    }
   ],
   "source": [
    "html = driver.page_source()\n",
    "soup = BeautifulSoup(html, 'html.parser')"
   ]
  },
  {
   "cell_type": "code",
   "execution_count": null,
   "id": "4ef2e675",
   "metadata": {},
   "outputs": [],
   "source": [
    "path = '#listBody > ul > li'"
   ]
  },
  {
   "cell_type": "code",
   "execution_count": null,
   "id": "a8337b17",
   "metadata": {},
   "outputs": [],
   "source": [
    "tags = soup.select(path)"
   ]
  },
  {
   "cell_type": "code",
   "execution_count": null,
   "id": "d3187869",
   "metadata": {},
   "outputs": [],
   "source": [
    "tags[0]"
   ]
  },
  {
   "cell_type": "code",
   "execution_count": null,
   "id": "5e27211a",
   "metadata": {},
   "outputs": [],
   "source": [
    "path = 'div.area_txt > div.tit > a'\n",
    "tags[0].select(path)[0].text"
   ]
  },
  {
   "cell_type": "code",
   "execution_count": null,
   "id": "ba367197",
   "metadata": {},
   "outputs": [],
   "source": [
    "path = 'div.area_txt > div.service > p'\n",
    "tags[0].select(path)[0].text"
   ]
  },
  {
   "cell_type": "code",
   "execution_count": null,
   "id": "6395bafb",
   "metadata": {},
   "outputs": [],
   "source": [
    "path = 'div.area_txt > p'\n",
    "tags[0].select(path)[0].text"
   ]
  },
  {
   "cell_type": "code",
   "execution_count": null,
   "id": "6ee1eed2",
   "metadata": {},
   "outputs": [],
   "source": [
    "for tag in tags:\n",
    "    path = 'div.area_txt > div.tit > a'\n",
    "    title = tag.select(path)[0].text\n",
    "    \n",
    "    path = 'div.area_txt > div.service > p'\n",
    "    location = tags[0].select(path)[0].text\n",
    "    \n",
    "    path = 'div.area_txt > p'\n",
    "    tags[0].select(path)[0].text\n",
    "    \n",
    "    \n",
    "    print(title)\n",
    "    print(location)\n",
    "    print(tags)\n",
    "    print('='*100)\n",
    "    \n",
    "    "
   ]
  },
  {
   "cell_type": "code",
   "execution_count": 32,
   "id": "83ddc9f3",
   "metadata": {
    "collapsed": true
   },
   "outputs": [
    {
     "name": "stdout",
     "output_type": "stream",
     "text": [
      "검색어고성\n"
     ]
    },
    {
     "ename": "TypeError",
     "evalue": "'module' object is not callable",
     "output_type": "error",
     "traceback": [
      "\u001b[1;31m---------------------------------------------------------------------------\u001b[0m",
      "\u001b[1;31mTypeError\u001b[0m                                 Traceback (most recent call last)",
      "\u001b[1;32m~\\AppData\\Local\\Temp/ipykernel_8588/450215148.py\u001b[0m in \u001b[0;36m<module>\u001b[1;34m\u001b[0m\n\u001b[0;32m      6\u001b[0m \u001b[0murl\u001b[0m \u001b[1;33m=\u001b[0m \u001b[0murl\u001b[0m\u001b[1;33m.\u001b[0m\u001b[0mformat\u001b[0m\u001b[1;33m(\u001b[0m\u001b[0ms\u001b[0m\u001b[1;33m)\u001b[0m\u001b[1;33m\u001b[0m\u001b[1;33m\u001b[0m\u001b[0m\n\u001b[0;32m      7\u001b[0m \u001b[1;33m\u001b[0m\u001b[0m\n\u001b[1;32m----> 8\u001b[1;33m \u001b[0mres\u001b[0m \u001b[1;33m=\u001b[0m \u001b[0mrequests\u001b[0m\u001b[1;33m(\u001b[0m\u001b[0murl\u001b[0m\u001b[1;33m)\u001b[0m\u001b[1;33m\u001b[0m\u001b[1;33m\u001b[0m\u001b[0m\n\u001b[0m\u001b[0;32m      9\u001b[0m \u001b[1;33m\u001b[0m\u001b[0m\n",
      "\u001b[1;31mTypeError\u001b[0m: 'module' object is not callable"
     ]
    }
   ],
   "source": [
    "import requests\n",
    "from bs4 import BeautifulSoup\n",
    "\n",
    "s = input('검색어')\n",
    "url = 'https://korean.visitkorea.or.kr/search/search_list.do?keyword={}'\n",
    "url = url.format(s)\n",
    "\n",
    "res = requests(url)\n",
    "\n"
   ]
  },
  {
   "cell_type": "code",
   "execution_count": null,
   "id": "dde982ea",
   "metadata": {},
   "outputs": [],
   "source": []
  },
  {
   "cell_type": "code",
   "execution_count": null,
   "id": "828c0473",
   "metadata": {},
   "outputs": [],
   "source": [
    "#  selenium 정리  태그 => element\n",
    "\n",
    "#  특정 텍스트가 링크된 모든 것을 elem에 저장하겠다\n",
    "\n",
    "elem = find_element_by_class_name()\n",
    "elem = find_element_by_id()\n",
    "elem = find_element_by_xpath()\n",
    "elem = find_element_by_link_text()    #정확하게 일치할때\n",
    "elem = find_element_by_partial_link_text()  # 다포함해서\n",
    "elem = find_element_by_name() #확인\n",
    "elem = find_element_by_tag_name()\n",
    "\n",
    "# 모든 태그를 가져오려면\n",
    "\n",
    "elem = find_elements_by_class_name()\n",
    "elem = find_elements_by_id()\n",
    "elem = find_elements_by_xpath()\n",
    "elem = find_elements_by_link_text()    #정확하게 일치할때\n",
    "elem = find_elements_by_partial_link_text()  # 다포함해서\n",
    "elem = find_elements_by_name() #확인\n",
    "elem = find_elements_by_tag_name()\n",
    "elem = find_elements_by_css_selector()\n",
    "\n",
    "\n",
    "\n"
   ]
  },
  {
   "cell_type": "code",
   "execution_count": null,
   "id": "a7703474",
   "metadata": {},
   "outputs": [],
   "source": [
    "# title, location, tags 본문까지"
   ]
  },
  {
   "cell_type": "code",
   "execution_count": null,
   "id": "b5523ad5",
   "metadata": {},
   "outputs": [],
   "source": []
  },
  {
   "cell_type": "code",
   "execution_count": null,
   "id": "fb8d6177",
   "metadata": {},
   "outputs": [],
   "source": []
  },
  {
   "cell_type": "code",
   "execution_count": null,
   "id": "7874bd28",
   "metadata": {},
   "outputs": [],
   "source": []
  },
  {
   "cell_type": "code",
   "execution_count": null,
   "id": "9510b9bf",
   "metadata": {},
   "outputs": [],
   "source": []
  }
 ],
 "metadata": {
  "kernelspec": {
   "display_name": "Python 3 (ipykernel)",
   "language": "python",
   "name": "python3"
  },
  "language_info": {
   "codemirror_mode": {
    "name": "ipython",
    "version": 3
   },
   "file_extension": ".py",
   "mimetype": "text/x-python",
   "name": "python",
   "nbconvert_exporter": "python",
   "pygments_lexer": "ipython3",
   "version": "3.9.7"
  }
 },
 "nbformat": 4,
 "nbformat_minor": 5
}
