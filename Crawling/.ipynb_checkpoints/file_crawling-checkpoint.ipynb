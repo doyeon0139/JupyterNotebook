{
 "cells": [
  {
   "cell_type": "code",
   "execution_count": 2,
   "id": "5f3bed5d",
   "metadata": {},
   "outputs": [],
   "source": [
    "import requests\n",
    "from bs4 import BeautifulSoup\n"
   ]
  },
  {
   "cell_type": "code",
   "execution_count": 4,
   "id": "a3d3d2e2",
   "metadata": {},
   "outputs": [],
   "source": [
    "url = 'http://www.xkcd.com'"
   ]
  },
  {
   "cell_type": "code",
   "execution_count": 5,
   "id": "5b2da76a",
   "metadata": {},
   "outputs": [],
   "source": [
    "res = requests.get(url)"
   ]
  },
  {
   "cell_type": "code",
   "execution_count": 6,
   "id": "b43e8203",
   "metadata": {},
   "outputs": [],
   "source": [
    "soup = BeautifulSoup(res.text, 'html.parser')"
   ]
  },
  {
   "cell_type": "code",
   "execution_count": 7,
   "id": "87c493dc",
   "metadata": {},
   "outputs": [],
   "source": [
    "path = '#comic > img'"
   ]
  },
  {
   "cell_type": "code",
   "execution_count": 8,
   "id": "e3dfe99d",
   "metadata": {},
   "outputs": [
    {
     "data": {
      "text/plain": [
       "[<img alt=\"Captain Picard Tea Order\" src=\"//imgs.xkcd.com/comics/captain_picard_tea_order.png\" srcset=\"//imgs.xkcd.com/comics/captain_picard_tea_order_2x.png 2x\" style=\"image-orientation:none\" title=\"We can ask the Earl for his order once he's fully extruded from the dispenser.\"/>]"
      ]
     },
     "execution_count": 8,
     "metadata": {},
     "output_type": "execute_result"
    }
   ],
   "source": [
    "tag = soup.select(path)\n",
    "tag"
   ]
  },
  {
   "cell_type": "code",
   "execution_count": 17,
   "id": "90f0c2ab",
   "metadata": {},
   "outputs": [
    {
     "data": {
      "text/plain": [
       "'http://imgs.xkcd.com/comics/captain_picard_tea_order.png'"
      ]
     },
     "execution_count": 17,
     "metadata": {},
     "output_type": "execute_result"
    }
   ],
   "source": [
    "img_url = tag[0]['src']\n",
    "img_url = 'http:'+img_url\n",
    "img_url"
   ]
  },
  {
   "cell_type": "code",
   "execution_count": 23,
   "id": "f3933c80",
   "metadata": {},
   "outputs": [
    {
     "data": {
      "text/plain": [
       "('xkcd_1.jpg', <http.client.HTTPMessage at 0x230ab1b7610>)"
      ]
     },
     "execution_count": 23,
     "metadata": {},
     "output_type": "execute_result"
    }
   ],
   "source": [
    "import urllib\n",
    "urllib.request.urlretrieve(img_url, 'xkcd_1.jpg')   # 왜 안되는데!!!!!!!!!!!!!!!!!"
   ]
  },
  {
   "cell_type": "code",
   "execution_count": null,
   "id": "1c31cf96",
   "metadata": {},
   "outputs": [],
   "source": []
  },
  {
   "cell_type": "code",
   "execution_count": 22,
   "id": "ec6bcf5d",
   "metadata": {},
   "outputs": [
    {
     "data": {
      "text/plain": [
       "['.ipynb_checkpoints',\n",
       " 'Crawling.ipynb',\n",
       " 'file_crawling.ipynb',\n",
       " 'hehe.html',\n",
       " 'index.html',\n",
       " 'kiki.html',\n",
       " 'kuokuo.html',\n",
       " 'python_crawling_1.ipynb',\n",
       " 'xkcd_1.jpg',\n",
       " 'xkcd_{}.jpg']"
      ]
     },
     "execution_count": 22,
     "metadata": {},
     "output_type": "execute_result"
    }
   ],
   "source": [
    "import os\n",
    "os.listdir()"
   ]
  },
  {
   "cell_type": "code",
   "execution_count": null,
   "id": "7c4e4af9",
   "metadata": {},
   "outputs": [],
   "source": []
  },
  {
   "cell_type": "code",
   "execution_count": null,
   "id": "f8f3652e",
   "metadata": {},
   "outputs": [],
   "source": [
    "#  xkcd.com에서 2560~2569 번 이미지 크롤링 하기"
   ]
  },
  {
   "cell_type": "code",
   "execution_count": 26,
   "id": "8261e8ab",
   "metadata": {},
   "outputs": [],
   "source": [
    "for i in range(2560, 2570) : \n",
    "    url = 'http://www.xkcd.com/{}'.format(i)\n",
    "    res = requests.get(url)    \n",
    "    soup = BeautifulSoup(res.text, 'html.parser')\n",
    "    \n",
    "    path = '#comic > img'\n",
    "    \n",
    "    tag = soup.select(path)\n",
    "    \n",
    "    img_url = tag[0]['src']\n",
    "    img_url = 'http:'+img_url\n",
    "    \n",
    "    urllib.request.urlretrieve(img_url, 'xkcd_{}.jpg'.format(i))\n",
    "    \n",
    "        "
   ]
  },
  {
   "cell_type": "code",
   "execution_count": 20,
   "id": "78e8b9dd",
   "metadata": {},
   "outputs": [],
   "source": [
    "url = 'http://www.xkcd.com/2560'"
   ]
  },
  {
   "cell_type": "code",
   "execution_count": 27,
   "id": "23232485",
   "metadata": {
    "collapsed": true
   },
   "outputs": [
    {
     "data": {
      "text/plain": [
       "['.ipynb_checkpoints',\n",
       " 'Crawling.ipynb',\n",
       " 'file_crawling.ipynb',\n",
       " 'hehe.html',\n",
       " 'index.html',\n",
       " 'kiki.html',\n",
       " 'kuokuo.html',\n",
       " 'python_crawling_1.ipynb',\n",
       " 'xkcd_1.jpg',\n",
       " 'xkcd_2560.jpg',\n",
       " 'xkcd_2561.jpg',\n",
       " 'xkcd_2562.jpg',\n",
       " 'xkcd_2563.jpg',\n",
       " 'xkcd_2564.jpg',\n",
       " 'xkcd_2565.jpg',\n",
       " 'xkcd_2566.jpg',\n",
       " 'xkcd_2567.jpg',\n",
       " 'xkcd_2568.jpg',\n",
       " 'xkcd_2569.jpg',\n",
       " 'xkcd_{}.jpg']"
      ]
     },
     "execution_count": 27,
     "metadata": {},
     "output_type": "execute_result"
    }
   ],
   "source": [
    "os.listdir()"
   ]
  },
  {
   "cell_type": "code",
   "execution_count": null,
   "id": "7b4a7d99",
   "metadata": {},
   "outputs": [],
   "source": []
  },
  {
   "cell_type": "code",
   "execution_count": null,
   "id": "22f72e93",
   "metadata": {},
   "outputs": [],
   "source": []
  },
  {
   "cell_type": "code",
   "execution_count": null,
   "id": "a2f640fb",
   "metadata": {},
   "outputs": [],
   "source": []
  },
  {
   "cell_type": "code",
   "execution_count": null,
   "id": "9cf7478b",
   "metadata": {},
   "outputs": [],
   "source": []
  },
  {
   "cell_type": "code",
   "execution_count": null,
   "id": "29497e24",
   "metadata": {},
   "outputs": [],
   "source": []
  },
  {
   "cell_type": "code",
   "execution_count": null,
   "id": "e2be8ac5",
   "metadata": {},
   "outputs": [],
   "source": []
  },
  {
   "cell_type": "code",
   "execution_count": null,
   "id": "589955f2",
   "metadata": {},
   "outputs": [],
   "source": []
  },
  {
   "cell_type": "code",
   "execution_count": null,
   "id": "d7758b4d",
   "metadata": {},
   "outputs": [],
   "source": []
  },
  {
   "cell_type": "code",
   "execution_count": null,
   "id": "c8ce6783",
   "metadata": {},
   "outputs": [],
   "source": []
  },
  {
   "cell_type": "code",
   "execution_count": null,
   "id": "010fc643",
   "metadata": {},
   "outputs": [],
   "source": []
  },
  {
   "cell_type": "code",
   "execution_count": null,
   "id": "4a6b4386",
   "metadata": {},
   "outputs": [],
   "source": []
  },
  {
   "cell_type": "code",
   "execution_count": null,
   "id": "301ca4af",
   "metadata": {},
   "outputs": [],
   "source": []
  }
 ],
 "metadata": {
  "kernelspec": {
   "display_name": "Python 3 (ipykernel)",
   "language": "python",
   "name": "python3"
  },
  "language_info": {
   "codemirror_mode": {
    "name": "ipython",
    "version": 3
   },
   "file_extension": ".py",
   "mimetype": "text/x-python",
   "name": "python",
   "nbconvert_exporter": "python",
   "pygments_lexer": "ipython3",
   "version": "3.9.7"
  }
 },
 "nbformat": 4,
 "nbformat_minor": 5
}
