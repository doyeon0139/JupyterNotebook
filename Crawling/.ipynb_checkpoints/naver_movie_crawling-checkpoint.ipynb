{
 "cells": [
  {
   "cell_type": "code",
   "execution_count": null,
   "id": "bfd5f19b",
   "metadata": {},
   "outputs": [],
   "source": [
    "# https://movie.naver.com/movie/point/af/list.naver\n",
    "# 네이버영화 평점 코멘트 영화제목 등 나타내기"
   ]
  },
  {
   "cell_type": "code",
   "execution_count": 74,
   "id": "0a83e225",
   "metadata": {},
   "outputs": [
    {
     "data": {
      "text/plain": [
       "[<tr>\n",
       " <td class=\"ac num\">17917173</td>\n",
       " <td class=\"title\">\n",
       " <a class=\"movie color_b\" href=\"?st=mcode&amp;sword=180429&amp;target=after\">웨스트 사이드 스토리</a>\n",
       " <div class=\"list_netizen_score\">\n",
       " <span class=\"st_off\"><span class=\"st_on\" style=\"width:90%\">별점 - 총 10점 중</span></span><em>9</em>\n",
       " </div>\n",
       " <br/>영화 보는 동안 1950년대 뉴욕으로 간것같음 \n",
       " \t\t\t\n",
       " \t\t\t\n",
       " \t\t\t\n",
       " \t\t\t\t\n",
       " \t\t\t\t\n",
       " \t\t\t\t\n",
       " \t\t\t\t<a class=\"report\" href=\"#\" onclick=\"report('noon****', '1prHApEZ/ibC8Wto55HLOFFoJzUT4akrq9l2javowjI=', '영화 보는 동안 1950년대 뉴욕으로 간것같음', '17917173', 'point_after');\" style=\"color:#8F8F8F\" title=\"새 창\">신고</a>\n",
       " </td>\n",
       " <td class=\"num\"><a class=\"author\" href=\"javascript:find_list('nickname','17917173', 'after');\">noon****</a><br/>22.01.20</td>\n",
       " </tr>,\n",
       " <tr>\n",
       " <td class=\"ac num\">17917172</td>\n",
       " <td class=\"title\">\n",
       " <a class=\"movie color_b\" href=\"?st=mcode&amp;sword=159893&amp;target=after\">킹스맨: 퍼스트 에이전트</a>\n",
       " <div class=\"list_netizen_score\">\n",
       " <span class=\"st_off\"><span class=\"st_on\" style=\"width:60%\">별점 - 총 10점 중</span></span><em>6</em>\n",
       " </div>\n",
       " <br/>전 시리즈와는 다른 느낌이라 기대하고 봤는 킹스맨은 아니었던 것 같습니다. 재미가 없는 건 아닌데 재미있지도 않았던 것 같네요... \n",
       " \t\t\t\n",
       " \t\t\t\n",
       " \t\t\t\n",
       " \t\t\t\t\n",
       " \t\t\t\t\n",
       " \t\t\t\t\n",
       " \t\t\t\t<a class=\"report\" href=\"#\" onclick=\"report('skek****', '0TrAFp8GUWjQukT1i7D++zx3p3ZpowytF2L6q+qEvd4=', '전 시리즈와는 다른 느낌이라 기대하고 봤는 킹스맨은 아니었던 것 같습니다. 재미가 없는 건 아닌데 재미있지도 않았던 것 같네요...', '17917172', 'point_after');\" style=\"color:#8F8F8F\" title=\"새 창\">신고</a>\n",
       " </td>\n",
       " <td class=\"num\"><a class=\"author\" href=\"javascript:find_list('nickname','17917172', 'after');\">skek****</a><br/>22.01.20</td>\n",
       " </tr>,\n",
       " <tr>\n",
       " <td class=\"ac num\">17917171</td>\n",
       " <td class=\"title\">\n",
       " <a class=\"movie color_b\" href=\"?st=mcode&amp;sword=186233&amp;target=after\">특송</a>\n",
       " <div class=\"list_netizen_score\">\n",
       " <span class=\"st_off\"><span class=\"st_on\" style=\"width:100%\">별점 - 총 10점 중</span></span><em>10</em>\n",
       " </div>\n",
       " <br/>주,조연 모두 연기가 너무 좋았고 자동차 운전씬이 너무 멋졌어요 \n",
       " \t\t\t\n",
       " \t\t\t\n",
       " \t\t\t\n",
       " \t\t\t\t\n",
       " \t\t\t\t\n",
       " \t\t\t\t\n",
       " \t\t\t\t<a class=\"report\" href=\"#\" onclick=\"report('love****', '2+doVzvvubqN1VWSX0R9edg3Tk10y0jqC0Oxbpy0brw=', '주,조연 모두 연기가 너무 좋았고 자동차 운전씬이 너무 멋졌어요', '17917171', 'point_after');\" style=\"color:#8F8F8F\" title=\"새 창\">신고</a>\n",
       " </td>\n",
       " <td class=\"num\"><a class=\"author\" href=\"javascript:find_list('nickname','17917171', 'after');\">love****</a><br/>22.01.20</td>\n",
       " </tr>,\n",
       " <tr>\n",
       " <td class=\"ac num\">17917170</td>\n",
       " <td class=\"title\">\n",
       " <a class=\"movie color_b\" href=\"?st=mcode&amp;sword=180429&amp;target=after\">웨스트 사이드 스토리</a>\n",
       " <div class=\"list_netizen_score\">\n",
       " <span class=\"st_off\"><span class=\"st_on\" style=\"width:10%\">별점 - 총 10점 중</span></span><em>1</em>\n",
       " </div>\n",
       " <br/>최악 그리고 최악 보는 내내 힘들었다. \n",
       " \t\t\t\n",
       " \t\t\t\n",
       " \t\t\t\n",
       " \t\t\t\t\n",
       " \t\t\t\t\n",
       " \t\t\t\t\n",
       " \t\t\t\t<a class=\"report\" href=\"#\" onclick=\"report('ta96****', 'NkFWu6zRxBnbj7tNSm9sWMSx9A4ysRbfPuyem8l/+xg=', '최악 그리고 최악 보는 내내 힘들었다.', '17917170', 'point_after');\" style=\"color:#8F8F8F\" title=\"새 창\">신고</a>\n",
       " </td>\n",
       " <td class=\"num\"><a class=\"author\" href=\"javascript:find_list('nickname','17917170', 'after');\">ta96****</a><br/>22.01.20</td>\n",
       " </tr>,\n",
       " <tr>\n",
       " <td class=\"ac num\">17917169</td>\n",
       " <td class=\"title\">\n",
       " <a class=\"movie color_b\" href=\"?st=mcode&amp;sword=151550&amp;target=after\">서스페리아</a>\n",
       " <div class=\"list_netizen_score\">\n",
       " <span class=\"st_off\"><span class=\"st_on\" style=\"width:10%\">별점 - 총 10점 중</span></span><em>1</em>\n",
       " </div>\n",
       " <br/>개노잼ㅋㅋ 나 공포 고어 호러 스릴러 매니아인데 이건 뭐 하나도 안무섭고 긴장 1도 없고, 일루미나티 요소 범벅 투성일뿐;; 진심 시간 아깝다 \n",
       " \t\t\t\n",
       " \t\t\t\n",
       " \t\t\t\n",
       " \t\t\t\t\n",
       " \t\t\t\t\n",
       " \t\t\t\t\n",
       " \t\t\t\t<a class=\"report\" href=\"#\" onclick=\"report('bly8****', 'UhO7e8J2krYHcsMdGMzY/1PDj4rh/BVYbQzUWgMUyzg=', '개노잼ㅋㅋ 나 공포 고어 호러 스릴러 매니아인데 이건 뭐 하나도 안무섭고 긴장 1도 없고, 일루미나티 요소 범벅 투성일뿐;; 진심 시간 아깝다 ', '17917169', 'point_after');\" style=\"color:#8F8F8F\" title=\"새 창\">신고</a>\n",
       " </td>\n",
       " <td class=\"num\"><a class=\"author\" href=\"javascript:find_list('nickname','17917169', 'after');\">bly8****</a><br/>22.01.20</td>\n",
       " </tr>,\n",
       " <tr>\n",
       " <td class=\"ac num\">17917167</td>\n",
       " <td class=\"title\">\n",
       " <a class=\"movie color_b\" href=\"?st=mcode&amp;sword=212886&amp;target=after\">레지던트 이블: 라쿤시티</a>\n",
       " <div class=\"list_netizen_score\">\n",
       " <span class=\"st_off\"><span class=\"st_on\" style=\"width:50%\">별점 - 총 10점 중</span></span><em>5</em>\n",
       " </div>\n",
       " <br/>원작하고 가깝게 연출했는데 보스나올때 좀 더 긴장감있게 끌었으면 하고 아쉬움이 있음 \n",
       " \t\t\t\n",
       " \t\t\t\n",
       " \t\t\t\n",
       " \t\t\t\t\n",
       " \t\t\t\t\n",
       " \t\t\t\t\n",
       " \t\t\t\t<a class=\"report\" href=\"#\" onclick=\"report('noon****', 'NBt9168bhLMpfQ3szKPdA0pELBku7ILS2JW6z0x7qpM=', '원작하고 가깝게 연출했는데 보스나올때 좀 더 긴장감있게 끌었으면 하고 아쉬움이 있음', '17917167', 'point_after');\" style=\"color:#8F8F8F\" title=\"새 창\">신고</a>\n",
       " </td>\n",
       " <td class=\"num\"><a class=\"author\" href=\"javascript:find_list('nickname','17917167', 'after');\">noon****</a><br/>22.01.20</td>\n",
       " </tr>,\n",
       " <tr>\n",
       " <td class=\"ac num\">17917166</td>\n",
       " <td class=\"title\">\n",
       " <a class=\"movie color_b\" href=\"?st=mcode&amp;sword=186233&amp;target=after\">특송</a>\n",
       " <div class=\"list_netizen_score\">\n",
       " <span class=\"st_off\"><span class=\"st_on\" style=\"width:100%\">별점 - 총 10점 중</span></span><em>10</em>\n",
       " </div>\n",
       " <br/>액션 짜릿하고 재미있게 보고 왔어요ㅎㅎ \n",
       " \t\t\t\n",
       " \t\t\t\n",
       " \t\t\t\n",
       " \t\t\t\t\n",
       " \t\t\t\t\n",
       " \t\t\t\t\n",
       " \t\t\t\t<a class=\"report\" href=\"#\" onclick=\"report('upir****', 'I3IMPxRbPYmu+9uyPu043Fm2cFoP9UJQGySvnOOOcpo=', '액션 짜릿하고 재미있게 보고 왔어요ㅎㅎ', '17917166', 'point_after');\" style=\"color:#8F8F8F\" title=\"새 창\">신고</a>\n",
       " </td>\n",
       " <td class=\"num\"><a class=\"author\" href=\"javascript:find_list('nickname','17917166', 'after');\">upir****</a><br/>22.01.20</td>\n",
       " </tr>,\n",
       " <tr>\n",
       " <td class=\"ac num\">17917165</td>\n",
       " <td class=\"title\">\n",
       " <a class=\"movie color_b\" href=\"?st=mcode&amp;sword=186233&amp;target=after\">특송</a>\n",
       " <div class=\"list_netizen_score\">\n",
       " <span class=\"st_off\"><span class=\"st_on\" style=\"width:100%\">별점 - 총 10점 중</span></span><em>10</em>\n",
       " </div>\n",
       " <br/>배우들의 연기, 액션 다 좋네요 \n",
       " \t\t\t\n",
       " \t\t\t\n",
       " \t\t\t\n",
       " \t\t\t\t\n",
       " \t\t\t\t\n",
       " \t\t\t\t\n",
       " \t\t\t\t<a class=\"report\" href=\"#\" onclick=\"report('c03h****', 'MxCXYjCJHFWdNgn+ryJ7QOqA/wF3HsSufKerAELTJZ8=', '배우들의 연기, 액션 다 좋네요', '17917165', 'point_after');\" style=\"color:#8F8F8F\" title=\"새 창\">신고</a>\n",
       " </td>\n",
       " <td class=\"num\"><a class=\"author\" href=\"javascript:find_list('nickname','17917165', 'after');\">c03h****</a><br/>22.01.20</td>\n",
       " </tr>,\n",
       " <tr>\n",
       " <td class=\"ac num\">17917164</td>\n",
       " <td class=\"title\">\n",
       " <a class=\"movie color_b\" href=\"?st=mcode&amp;sword=95473&amp;target=after\">고양이를 빌려드립니다</a>\n",
       " <div class=\"list_netizen_score\">\n",
       " <span class=\"st_off\"><span class=\"st_on\" style=\"width:100%\">별점 - 총 10점 중</span></span><em>10</em>\n",
       " </div>\n",
       " <br/>이 영화를 통해 마음 속의 구멍이 채워졌다 \n",
       " \t\t\t\n",
       " \t\t\t\n",
       " \t\t\t\n",
       " \t\t\t\t\n",
       " \t\t\t\t\n",
       " \t\t\t\t\n",
       " \t\t\t\t<a class=\"report\" href=\"#\" onclick=\"report('expa****', 'PW4HSkUi4HJ5xIZcK8PkoBySI4/+U+fxv4zz4w8UQ4w=', '이 영화를 통해 마음 속의 구멍이 채워졌다', '17917164', 'point_after');\" style=\"color:#8F8F8F\" title=\"새 창\">신고</a>\n",
       " </td>\n",
       " <td class=\"num\"><a class=\"author\" href=\"javascript:find_list('nickname','17917164', 'after');\">expa****</a><br/>22.01.20</td>\n",
       " </tr>,\n",
       " <tr>\n",
       " <td class=\"ac num\">17917163</td>\n",
       " <td class=\"title\">\n",
       " <a class=\"movie color_b\" href=\"?st=mcode&amp;sword=17199&amp;target=after\">꽃잎</a>\n",
       " <div class=\"list_netizen_score\">\n",
       " <span class=\"st_off\"><span class=\"st_on\" style=\"width:80%\">별점 - 총 10점 중</span></span><em>8</em>\n",
       " </div>\n",
       " <br/>얼마나 무섭고 힘들었을까? \n",
       " \t\t\t\n",
       " \t\t\t\n",
       " \t\t\t\n",
       " \t\t\t\t\n",
       " \t\t\t\t\n",
       " \t\t\t\t\n",
       " \t\t\t\t<a class=\"report\" href=\"#\" onclick=\"report('marc****', 'Qqv1TF129MrbdXtSo05e3BQR3b6Uc5L2TLnhE5O5v8M=', '얼마나 무섭고 힘들었을까?', '17917163', 'point_after');\" style=\"color:#8F8F8F\" title=\"새 창\">신고</a>\n",
       " </td>\n",
       " <td class=\"num\"><a class=\"author\" href=\"javascript:find_list('nickname','17917163', 'after');\">marc****</a><br/>22.01.20</td>\n",
       " </tr>]"
      ]
     },
     "execution_count": 74,
     "metadata": {},
     "output_type": "execute_result"
    }
   ],
   "source": [
    "import requests\n",
    "from bs4 import BeautifulSoup\n",
    "\n",
    "url = 'https://movie.naver.com/movie/point/af/list.naver'\n",
    "\n",
    "res = requests.get(url)\n",
    "\n",
    "soup = BeautifulSoup(res.text, 'html.parser')\n",
    "\n",
    "path = '#old_content > table > colgroup > tbody > tr '\n",
    "\n",
    "score = soup.select(path)\n",
    "\n",
    "score\n"
   ]
  },
  {
   "cell_type": "code",
   "execution_count": 77,
   "id": "eb4027e2",
   "metadata": {},
   "outputs": [
    {
     "name": "stdout",
     "output_type": "stream",
     "text": [
      "웨스트 사이드 스토리\n"
     ]
    }
   ],
   "source": [
    "print(soup.select('td.title > a')[0].text)"
   ]
  },
  {
   "cell_type": "code",
   "execution_count": 92,
   "id": "e07c35e8",
   "metadata": {},
   "outputs": [
    {
     "name": "stdout",
     "output_type": "stream",
     "text": [
      "9\n"
     ]
    }
   ],
   "source": [
    "print(soup.select('td.title > div.list_netizen_score > em')[0].text)"
   ]
  },
  {
   "cell_type": "code",
   "execution_count": 99,
   "id": "1452f6da",
   "metadata": {},
   "outputs": [
    {
     "name": "stdout",
     "output_type": "stream",
     "text": [
      "웨스트 사이드 스토리\n"
     ]
    }
   ],
   "source": [
    "print(soup.select('td.title > a')[0].text)"
   ]
  },
  {
   "cell_type": "code",
   "execution_count": null,
   "id": "f8412bfb",
   "metadata": {},
   "outputs": [],
   "source": []
  },
  {
   "cell_type": "code",
   "execution_count": null,
   "id": "1ed95881",
   "metadata": {},
   "outputs": [],
   "source": []
  },
  {
   "cell_type": "code",
   "execution_count": null,
   "id": "b610aec1",
   "metadata": {},
   "outputs": [],
   "source": []
  },
  {
   "cell_type": "code",
   "execution_count": null,
   "id": "71173a84",
   "metadata": {},
   "outputs": [],
   "source": []
  },
  {
   "cell_type": "code",
   "execution_count": null,
   "id": "de0493c5",
   "metadata": {},
   "outputs": [],
   "source": []
  },
  {
   "cell_type": "code",
   "execution_count": null,
   "id": "d0004714",
   "metadata": {},
   "outputs": [],
   "source": []
  },
  {
   "cell_type": "code",
   "execution_count": null,
   "id": "e7f22648",
   "metadata": {},
   "outputs": [],
   "source": []
  },
  {
   "cell_type": "code",
   "execution_count": null,
   "id": "bce26523",
   "metadata": {},
   "outputs": [],
   "source": []
  }
 ],
 "metadata": {
  "kernelspec": {
   "display_name": "Python 3 (ipykernel)",
   "language": "python",
   "name": "python3"
  },
  "language_info": {
   "codemirror_mode": {
    "name": "ipython",
    "version": 3
   },
   "file_extension": ".py",
   "mimetype": "text/x-python",
   "name": "python",
   "nbconvert_exporter": "python",
   "pygments_lexer": "ipython3",
   "version": "3.9.7"
  }
 },
 "nbformat": 4,
 "nbformat_minor": 5
}
