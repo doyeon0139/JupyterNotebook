{
 "cells": [
  {
   "cell_type": "code",
   "execution_count": 1,
   "id": "1244fd6e",
   "metadata": {},
   "outputs": [],
   "source": [
    "## crawling(scrapying)\n",
    "# web에서 데이터를 프로그램을 통해서 가져오는 작업..\n",
    "\n",
    "## web구성하는 언어 - html, css, javascript\n",
    "# html은 웹을 기본 구조를 구성하는 스크립트 언어...\n",
    "# css는 웹을 꾸며주는 언어\n",
    "# javascript 웹이 동적으로 작동하도록 만드는 언어\n",
    "\n",
    "##html\n",
    "# 기본 구조는 태그 - 여는 태그 '<', 닫는 태그 '/>'\n",
    "# 태그 계층구조 부모태그, 자식태그..\n",
    "# <head> 정보... </head> : 웹의 정보를 담고 있는 태그\n",
    "# < body> 태그... </body> : 웹에서 눈으로 보는 내용이 들어잇는 태그...\n",
    "\n"
   ]
  },
  {
   "cell_type": "code",
   "execution_count": null,
   "id": "2a4b8f5f",
   "metadata": {},
   "outputs": [],
   "source": [
    "<html>\n",
    "    <head>\n",
    "        web page meta정보\n",
    "    <body>\n",
    "        웹페이지에서 보여지는 콘텐츠가 들어가는 부분..\n",
    "        <p>문단을 나타냅니다</p>     # p :문단태그\n",
    "        <div><h3>제목을 나타냅니다</h3></div>    # div : 박스태그 / h : 제목태그\n",
    "    </body>\n",
    "    </head>    \n",
    "</html>"
   ]
  },
  {
   "cell_type": "code",
   "execution_count": null,
   "id": "421e843b",
   "metadata": {},
   "outputs": [],
   "source": [
    "<html>\n",
    "    <head>\n",
    "        web page meta정보\n",
    "    <body>\n",
    "        <table border = 1>    # table : 표를 만드는 태그\n",
    "        <tr>    # tr : 테이블행\n",
    "            <td> 항목</td>    # td : 테이블의 칼럼\n",
    "            <td> 2013</td>\n",
    "            <td> 2014</td>\n",
    "        </tr>\n",
    "        <tr>\n",
    "            <td> 항목</td>\n",
    "            <td> 2013</td>\n",
    "            <td> 2014</td>\n",
    "        </tr>\n",
    "     \n",
    "        <div><h3>제목을 나타냅니다</h3></div>\n",
    "    </body>\n",
    "    </head>    \n",
    "</html>"
   ]
  },
  {
   "cell_type": "code",
   "execution_count": 2,
   "id": "9265fc42",
   "metadata": {
    "collapsed": true
   },
   "outputs": [
    {
     "ename": "SyntaxError",
     "evalue": "invalid syntax (Temp/ipykernel_1732/70392265.py, line 1)",
     "output_type": "error",
     "traceback": [
      "\u001b[1;36m  File \u001b[1;32m\"C:\\Users\\bitcamp\\AppData\\Local\\Temp/ipykernel_1732/70392265.py\"\u001b[1;36m, line \u001b[1;32m1\u001b[0m\n\u001b[1;33m    <html>\u001b[0m\n\u001b[1;37m    ^\u001b[0m\n\u001b[1;31mSyntaxError\u001b[0m\u001b[1;31m:\u001b[0m invalid syntax\n"
     ]
    }
   ],
   "source": [
    "<html>\n",
    "    <head>\n",
    "        <style>\n",
    "            p {color :blue:}\n",
    "            div {clor : red:}\n",
    "        </style>\n",
    "    <body>\n",
    "        <p> paragragh1 </p>\n",
    "        <p> paragragh2 </p>\n",
    "        <div> div1 </div>\n",
    "    </body>\n",
    "    </head>    \n",
    "</html>"
   ]
  },
  {
   "cell_type": "code",
   "execution_count": null,
   "id": "f721bc00",
   "metadata": {},
   "outputs": [],
   "source": [
    "<html>\n",
    "    <head>\n",
    "        <style>\n",
    "            # title{color :blue:}       # id : 전체 웹문서에서 단 한 곳에만 적용 가능\n",
    "            .par {clor : red:}          # class : 여러 곳에 적용이 가능\n",
    "        </style>\n",
    "    <body>\n",
    "        <p id = title> paragragh1 </p>\n",
    "        <p class = par> paragragh2 </p>\n",
    "        <div class = par> div1 </div>\n",
    "    </body>\n",
    "    </head>    \n",
    "</html>"
   ]
  },
  {
   "cell_type": "code",
   "execution_count": 147,
   "id": "dc92c798",
   "metadata": {},
   "outputs": [],
   "source": [
    "html = \"\"\"\n",
    "<html>\n",
    "    <head>\n",
    "        <style>\n",
    "            # title{color :blue:}       \n",
    "            .par {clor : red:}          \n",
    "        </style>\n",
    "    <body>\n",
    "        <p id = title> paragragh1 </p>\n",
    "        <p class = par> paragragh2 </p>\n",
    "        <div class = par> div1 </div>\n",
    "    </body>\n",
    "    </head>    \n",
    "</html>\n",
    "\"\"\""
   ]
  },
  {
   "cell_type": "code",
   "execution_count": 157,
   "id": "13a78bdf",
   "metadata": {},
   "outputs": [
    {
     "data": {
      "text/plain": [
       "'\\n<html>\\n    <head>\\n        <style>\\n            # title{color :blue:}       \\n            .par {clor : red:}          \\n        </style>\\n    <body>\\n        <p id = title> paragragh1 </p>\\n        <p class = par> paragragh2 </p>\\n        <div class = par> div1 </div>\\n    </body>\\n    </head>    \\n</html>\\n'"
      ]
     },
     "execution_count": 157,
     "metadata": {},
     "output_type": "execute_result"
    }
   ],
   "source": [
    "html"
   ]
  },
  {
   "cell_type": "code",
   "execution_count": 148,
   "id": "67ab35aa",
   "metadata": {},
   "outputs": [],
   "source": [
    "import requests\n",
    "from bs4 import BeautifulSoup"
   ]
  },
  {
   "cell_type": "code",
   "execution_count": null,
   "id": "a8c27ca4",
   "metadata": {},
   "outputs": [],
   "source": [
    "res = requests.get('https://www.naver.com/')\n",
    "\n",
    "res.text"
   ]
  },
  {
   "cell_type": "code",
   "execution_count": 152,
   "id": "6073b3a7",
   "metadata": {},
   "outputs": [],
   "source": [
    "soup = BeautifulSoup(html,'html.parser')"
   ]
  },
  {
   "cell_type": "code",
   "execution_count": 153,
   "id": "8d450fd7",
   "metadata": {},
   "outputs": [
    {
     "data": {
      "text/plain": [
       "[]"
      ]
     },
     "execution_count": 153,
     "metadata": {},
     "output_type": "execute_result"
    }
   ],
   "source": [
    "soup.select('td')"
   ]
  },
  {
   "cell_type": "code",
   "execution_count": 154,
   "id": "cc363201",
   "metadata": {
    "collapsed": true
   },
   "outputs": [
    {
     "ename": "IndexError",
     "evalue": "list index out of range",
     "output_type": "error",
     "traceback": [
      "\u001b[1;31m---------------------------------------------------------------------------\u001b[0m",
      "\u001b[1;31mIndexError\u001b[0m                                Traceback (most recent call last)",
      "\u001b[1;32m~\\AppData\\Local\\Temp/ipykernel_1732/2905689650.py\u001b[0m in \u001b[0;36m<module>\u001b[1;34m\u001b[0m\n\u001b[1;32m----> 1\u001b[1;33m \u001b[0msoup\u001b[0m\u001b[1;33m.\u001b[0m\u001b[0mselect\u001b[0m\u001b[1;33m(\u001b[0m\u001b[1;34m'td'\u001b[0m\u001b[1;33m)\u001b[0m\u001b[1;33m[\u001b[0m\u001b[1;36m1\u001b[0m\u001b[1;33m]\u001b[0m\u001b[1;33m.\u001b[0m\u001b[0mtext\u001b[0m\u001b[1;33m\u001b[0m\u001b[1;33m\u001b[0m\u001b[0m\n\u001b[0m",
      "\u001b[1;31mIndexError\u001b[0m: list index out of range"
     ]
    }
   ],
   "source": [
    "soup.select('td')[1].text"
   ]
  },
  {
   "cell_type": "code",
   "execution_count": 156,
   "id": "37073d4e",
   "metadata": {},
   "outputs": [],
   "source": [
    "for t in soup.select('td'):\n",
    "    print(t.text)"
   ]
  },
  {
   "cell_type": "code",
   "execution_count": 2,
   "id": "62d5e1bd",
   "metadata": {},
   "outputs": [],
   "source": [
    "html = \"\"\"\n",
    "<body>\n",
    "<div>\n",
    "    <div class='snack'>\n",
    "        <p id='first'> 양파링</p>\n",
    "        <p id='second'> 새우깡</p>\n",
    "        <p> 초코파이</p>\n",
    "        <p class='sweet'> 맛동산 </p>\n",
    "        \n",
    "    <div class='icecream'>\n",
    "        <p> 빵빠레</p>\n",
    "        <p id='third'> 죠스바</p>\n",
    "        <p> 꼬깔콘</p>\n",
    "        <p class='sweet'> 쭈쭈바</p>\n",
    "    </div>\n",
    "</div>\n",
    "</body>\n",
    "\"\"\""
   ]
  },
  {
   "cell_type": "code",
   "execution_count": 3,
   "id": "47d15b41",
   "metadata": {},
   "outputs": [],
   "source": [
    "import requests\n",
    "from bs4 import BeautifulSoup"
   ]
  },
  {
   "cell_type": "code",
   "execution_count": 4,
   "id": "e2ffa364",
   "metadata": {},
   "outputs": [],
   "source": [
    "soup = BeautifulSoup(html,'html.parser')"
   ]
  },
  {
   "cell_type": "code",
   "execution_count": 169,
   "id": "a3e736b0",
   "metadata": {
    "collapsed": true
   },
   "outputs": [
    {
     "data": {
      "text/plain": [
       "[<p id=\"first\"> 양파링</p>,\n",
       " <p id=\"second\"> 새우깡</p>,\n",
       " <p> 초코파이</p>,\n",
       " <p class=\"sweet\"> 맛동산 </p>,\n",
       " <p> 빵빠레</p>,\n",
       " <p id=\"third\"> 죠스바</p>,\n",
       " <p> 꼬깔콘</p>,\n",
       " <p class=\"sweet\"> 쭈쭈바</p>]"
      ]
     },
     "execution_count": 169,
     "metadata": {},
     "output_type": "execute_result"
    }
   ],
   "source": [
    "#p태그를 모두 출력하시오\n"
   ]
  },
  {
   "cell_type": "code",
   "execution_count": null,
   "id": "637b61e2",
   "metadata": {},
   "outputs": [],
   "source": [
    "soup.select('p')"
   ]
  },
  {
   "cell_type": "code",
   "execution_count": 5,
   "id": "6b643039",
   "metadata": {},
   "outputs": [
    {
     "name": "stdout",
     "output_type": "stream",
     "text": [
      " 양파링\n",
      " 새우깡\n",
      " 초코파이\n",
      " 맛동산 \n",
      " 빵빠레\n",
      " 죠스바\n",
      " 꼬깔콘\n",
      " 쭈쭈바\n"
     ]
    }
   ],
   "source": [
    "for t in soup.select('p'):\n",
    "    print(t.text)"
   ]
  },
  {
   "cell_type": "code",
   "execution_count": 171,
   "id": "85d7e78a",
   "metadata": {},
   "outputs": [
    {
     "data": {
      "text/plain": [
       "' 양파링'"
      ]
     },
     "execution_count": 171,
     "metadata": {},
     "output_type": "execute_result"
    }
   ],
   "source": [
    "# '양파링'을 출력하시오\n",
    "soup.select('p#first')[0].text"
   ]
  },
  {
   "cell_type": "code",
   "execution_count": 172,
   "id": "2ea21af4",
   "metadata": {},
   "outputs": [
    {
     "data": {
      "text/plain": [
       "' 죠스바'"
      ]
     },
     "execution_count": 172,
     "metadata": {},
     "output_type": "execute_result"
    }
   ],
   "source": [
    "#'죠스바'를 출력하시오\n",
    "\n",
    "soup.select('p#third')[0].text"
   ]
  },
  {
   "cell_type": "code",
   "execution_count": 173,
   "id": "88b075e7",
   "metadata": {},
   "outputs": [
    {
     "data": {
      "text/plain": [
       "' 맛동산 '"
      ]
     },
     "execution_count": 173,
     "metadata": {},
     "output_type": "execute_result"
    }
   ],
   "source": [
    "# '맛동산'을 출력하시오\n",
    "soup.select('p.sweet')[0].text"
   ]
  },
  {
   "cell_type": "code",
   "execution_count": null,
   "id": "8c05c04d",
   "metadata": {},
   "outputs": [],
   "source": []
  },
  {
   "cell_type": "code",
   "execution_count": 13,
   "id": "b0ad8173",
   "metadata": {},
   "outputs": [],
   "source": [
    "#  네이버 메뉴 크롤링\n",
    "\n",
    "import requests\n",
    "from bs4 import BeautifulSoup\n",
    "\n",
    "res = requests.get('https://www.naver.com/')\n"
   ]
  },
  {
   "cell_type": "code",
   "execution_count": 15,
   "id": "74528be3",
   "metadata": {},
   "outputs": [
    {
     "ename": "TypeError",
     "evalue": "object of type 'Response' has no len()",
     "output_type": "error",
     "traceback": [
      "\u001b[1;31m---------------------------------------------------------------------------\u001b[0m",
      "\u001b[1;31mTypeError\u001b[0m                                 Traceback (most recent call last)",
      "\u001b[1;32m~\\AppData\\Local\\Temp/ipykernel_984/429526086.py\u001b[0m in \u001b[0;36m<module>\u001b[1;34m\u001b[0m\n\u001b[1;32m----> 1\u001b[1;33m \u001b[0msoup\u001b[0m \u001b[1;33m=\u001b[0m \u001b[0mBeautifulSoup\u001b[0m\u001b[1;33m(\u001b[0m\u001b[0mres\u001b[0m\u001b[1;33m,\u001b[0m \u001b[1;34m'html.parser'\u001b[0m\u001b[1;33m)\u001b[0m\u001b[1;33m\u001b[0m\u001b[1;33m\u001b[0m\u001b[0m\n\u001b[0m",
      "\u001b[1;32m~\\Anaconda3\\lib\\site-packages\\bs4\\__init__.py\u001b[0m in \u001b[0;36m__init__\u001b[1;34m(self, markup, features, builder, parse_only, from_encoding, exclude_encodings, element_classes, **kwargs)\u001b[0m\n\u001b[0;32m    310\u001b[0m         \u001b[1;32mif\u001b[0m \u001b[0mhasattr\u001b[0m\u001b[1;33m(\u001b[0m\u001b[0mmarkup\u001b[0m\u001b[1;33m,\u001b[0m \u001b[1;34m'read'\u001b[0m\u001b[1;33m)\u001b[0m\u001b[1;33m:\u001b[0m        \u001b[1;31m# It's a file-type object.\u001b[0m\u001b[1;33m\u001b[0m\u001b[1;33m\u001b[0m\u001b[0m\n\u001b[0;32m    311\u001b[0m             \u001b[0mmarkup\u001b[0m \u001b[1;33m=\u001b[0m \u001b[0mmarkup\u001b[0m\u001b[1;33m.\u001b[0m\u001b[0mread\u001b[0m\u001b[1;33m(\u001b[0m\u001b[1;33m)\u001b[0m\u001b[1;33m\u001b[0m\u001b[1;33m\u001b[0m\u001b[0m\n\u001b[1;32m--> 312\u001b[1;33m         elif len(markup) <= 256 and (\n\u001b[0m\u001b[0;32m    313\u001b[0m                 \u001b[1;33m(\u001b[0m\u001b[0misinstance\u001b[0m\u001b[1;33m(\u001b[0m\u001b[0mmarkup\u001b[0m\u001b[1;33m,\u001b[0m \u001b[0mbytes\u001b[0m\u001b[1;33m)\u001b[0m \u001b[1;32mand\u001b[0m \u001b[1;32mnot\u001b[0m \u001b[1;34mb'<'\u001b[0m \u001b[1;32min\u001b[0m \u001b[0mmarkup\u001b[0m\u001b[1;33m)\u001b[0m\u001b[1;33m\u001b[0m\u001b[1;33m\u001b[0m\u001b[0m\n\u001b[0;32m    314\u001b[0m                 \u001b[1;32mor\u001b[0m \u001b[1;33m(\u001b[0m\u001b[0misinstance\u001b[0m\u001b[1;33m(\u001b[0m\u001b[0mmarkup\u001b[0m\u001b[1;33m,\u001b[0m \u001b[0mstr\u001b[0m\u001b[1;33m)\u001b[0m \u001b[1;32mand\u001b[0m \u001b[1;32mnot\u001b[0m \u001b[1;34m'<'\u001b[0m \u001b[1;32min\u001b[0m \u001b[0mmarkup\u001b[0m\u001b[1;33m)\u001b[0m\u001b[1;33m\u001b[0m\u001b[1;33m\u001b[0m\u001b[0m\n",
      "\u001b[1;31mTypeError\u001b[0m: object of type 'Response' has no len()"
     ]
    }
   ],
   "source": [
    "soup = BeautifulSoup(res, 'html.parser')"
   ]
  },
  {
   "cell_type": "code",
   "execution_count": 10,
   "id": "df74634c",
   "metadata": {},
   "outputs": [],
   "source": [
    "path = '#NM_FAVORITE > div.group_nav > ul.list_nav.NM_FAVORITE_LIST > li'"
   ]
  },
  {
   "cell_type": "code",
   "execution_count": 11,
   "id": "3c93ee98",
   "metadata": {},
   "outputs": [],
   "source": [
    "lis = soup.select(path)"
   ]
  },
  {
   "cell_type": "code",
   "execution_count": null,
   "id": "15a9e833",
   "metadata": {},
   "outputs": [],
   "source": [
    "# <li> ... </li> : 목록을 만드는 태그\n",
    "# <a href='htttp://www.daum.net'> 다음 </a>"
   ]
  },
  {
   "cell_type": "code",
   "execution_count": 12,
   "id": "10159f96",
   "metadata": {},
   "outputs": [
    {
     "name": "stdout",
     "output_type": "stream",
     "text": [
      "사전\n",
      "뉴스\n",
      "증권\n",
      "부동산\n",
      "지도\n",
      "VIBE\n",
      "책\n",
      "웹툰\n"
     ]
    }
   ],
   "source": [
    "for li in lis:\n",
    "    print(li.text)"
   ]
  },
  {
   "cell_type": "code",
   "execution_count": 37,
   "id": "3a4b1c2a",
   "metadata": {
    "collapsed": true
   },
   "outputs": [
    {
     "ename": "IndexError",
     "evalue": "list index out of range",
     "output_type": "error",
     "traceback": [
      "\u001b[1;31m---------------------------------------------------------------------------\u001b[0m",
      "\u001b[1;31mIndexError\u001b[0m                                Traceback (most recent call last)",
      "\u001b[1;32m~\\AppData\\Local\\Temp/ipykernel_1732/2555948309.py\u001b[0m in \u001b[0;36m<module>\u001b[1;34m\u001b[0m\n\u001b[0;32m      1\u001b[0m \u001b[1;32mfor\u001b[0m \u001b[0mli\u001b[0m \u001b[1;32min\u001b[0m \u001b[0mlis\u001b[0m\u001b[1;33m:\u001b[0m\u001b[1;33m\u001b[0m\u001b[1;33m\u001b[0m\u001b[0m\n\u001b[1;32m----> 2\u001b[1;33m     \u001b[0mprint\u001b[0m\u001b[1;33m(\u001b[0m\u001b[0mli\u001b[0m\u001b[1;33m.\u001b[0m\u001b[0mtext\u001b[0m\u001b[1;33m,\u001b[0m \u001b[0mli\u001b[0m\u001b[1;33m.\u001b[0m\u001b[0mselect\u001b[0m\u001b[1;33m(\u001b[0m\u001b[1;34m'a'\u001b[0m\u001b[1;33m)\u001b[0m\u001b[1;33m[\u001b[0m\u001b[1;36m0\u001b[0m\u001b[1;33m]\u001b[0m\u001b[1;33m[\u001b[0m\u001b[1;34m'href'\u001b[0m\u001b[1;33m]\u001b[0m\u001b[1;33m)\u001b[0m\u001b[1;33m\u001b[0m\u001b[1;33m\u001b[0m\u001b[0m\n\u001b[0m",
      "\u001b[1;31mIndexError\u001b[0m: list index out of range"
     ]
    }
   ],
   "source": [
    "for li in lis:\n",
    "    print(li.text, li.select('a')[0]['href'])"
   ]
  },
  {
   "cell_type": "code",
   "execution_count": null,
   "id": "6bca46c5",
   "metadata": {},
   "outputs": [],
   "source": []
  },
  {
   "cell_type": "code",
   "execution_count": null,
   "id": "0179662b",
   "metadata": {},
   "outputs": [],
   "source": [
    "# 다음 - 빅데이터 - 뉴스"
   ]
  },
  {
   "cell_type": "code",
   "execution_count": 2,
   "id": "5b639adc",
   "metadata": {},
   "outputs": [],
   "source": [
    "url = 'https://search.daum.net/search?w=news&nil_search=btn&DA=NTB&enc=utf8&cluster=y&cluster_page=1&q=%EB%B9%85%EB%8D%B0%EC%9D%B4%ED%84%B0'"
   ]
  },
  {
   "cell_type": "code",
   "execution_count": 3,
   "id": "c146a943",
   "metadata": {
    "collapsed": true
   },
   "outputs": [
    {
     "data": {
      "text/plain": [
       "'\\n\\n\\n\\n\\n\\n\\n\\n\\n\\n\\n\\n\\n\\n\\n\\n\\n\\n\\n\\n\\n\\n\\n\\n<!doctype html>\\n<html xmlns=\"http://www.w3.org/1999/xhtml\" lang=\"ko\" class=\"unix unknown \">\\n<head profile=\"http://a9.com/-/spec/opensearch/1.1/\">\\n<meta http-equiv=\"content-Type\" content=\"text/html;charset=utf-8\" />\\n<meta http-equiv=\"X-UA-Compatible\" content=\"IE=edge\" />\\n<meta name=\"autocomplete\" content=\"off\" />\\n<meta name=\"referrer\" content=\"always\">\\n<meta name=\"format-detection\" content=\"telephone=no\" />\\n<meta property=\"og:title\" content=\"빅데이터 &ndash; Daum 검색\" />\\n<meta property=\"og:url\" content=\"https://search.daum.net/search?w=news&q=%EB%B9%85%EB%8D%B0%EC%9D%B4%ED%84%B0\" />\\n<meta property=\"og:description\" content=\"Daum 검색에서 빅데이터에 대한 최신정보를 찾아보세요.\" />\\n<meta property=\"og:image\" content=\"https://search1.daumcdn.net/search/statics/common/img/og_search.png\" />\\n<meta property=\"og:site_name\" content=\"다음검색\" />\\n<title>빅데이터 &ndash; Daum 검색</title>\\n<link rel=\"search\" type=\"application/opensearchdescription+xml\" href=\"//search.daum.net/OpenSearch.xml\" title=\"Daum\">\\n<link rel=\"stylesheet\" type=\"text/css\" href=\"//search1.daumcdn.net/search/statics/common/css/2021/p_common.1130012653.css\" charset=\"utf-8\">\\n<link rel=\"stylesheet\" type=\"text/css\" href=\"//search1.daumcdn.net/search/statics/common/css/2021/p_component.0915091640.css\" charset=\"utf-8\">\\n\\n<link rel=\"stylesheet\" type=\"text/css\" href=\"//search1.daumcdn.net/search/statics/common/css/2022/p_collection.0112095326.css\" charset=\"utf-8\">\\n<link rel=\"stylesheet\" type=\"text/css\" href=\"//search1.daumcdn.net/search/statics/common/css/2021/p_collection2.1110094223.css\" charset=\"utf-8\">\\n\\n<link rel=\"stylesheet\" type=\"text/css\" href=\"//search1.daumcdn.net/search/statics/common/css/2021/p_coll_tab.0803041653.css\" charset=\"utf-8\">\\n\\n\\n\\n\\n<script type=\"text/javascript\">\\nvar SF, C, T;\\nvar uk = \"YegLiqUiuq6L5wzJehxQBgAAAEc\";\\nvar mk = \"YegLiqUiuq6L5wzJehxQBgAAAEc\";\\nvar ud = \"\";\\nvar uuid = \"\";\\nvar adid = \"\";\\nvar adid_enabled = \"N\";\\nvar viewio = \"i\";\\nvar viewsite = \"\";\\nvar ServerTime = \"20220119220058\";\\nvar EnQuery = \"%BA%F2%B5%A5%C0%CC%C5%CD\";\\nvar utf8Query = \"%EB%B9%85%EB%8D%B0%EC%9D%B4%ED%84%B0\";\\nvar topQuery = \"빅데이터\";\\nvar backQuery = \"%EB%B9%85%EB%8D%B0%EC%9D%B4%ED%84%B0\";\\nvar login_yn = \"N\";\\nvar encodeType = \"2\";\\nvar refCode = \"\";\\nvar bucketType = \"\";\\nvar name_check = \"0\";\\nvar mobileDevice = \"N\";\\nvar param_w=\"news\";\\nvar param_da = \"NTB\";\\nvar paramCfg = \"\";\\nvar param_cnucc = \"\"; \\nvar tpl_cfg = \"\"; \\nvar cnucc = \"\";\\nvar usrIp = \"221.146.243.2\";\\nvar isDetailTab = \"N\"; \\nvar schSort = \"\";\\nvar width_over_620 = \"N\";\\n\\nvar isReleaseMode = \"\";\\n\\nvar KAKAO_ACCOUNT_ID_CONNECTED = \"N\";\\n\\nvar displayInfo = {\"SER\":[{\"code\":\"NNS\",\"doc_count\":10}],\"SGR\":[{\"code\":\"R10\",\"doc_count\":0},{\"code\":\"R13\",\"doc_count\":0},{\"code\":\"R12\",\"doc_count\":0},{\"code\":\"TOG\",\"doc_count\":0},{\"code\":\"NSJ\",\"doc_count\":0},{\"code\":\"DCC\",\"doc_count\":0}],\"SUI\":[]}\\n;\\nvar slCallType = \"sync\";\\nvar pageLoadedTime = 0;\\nvar startTime = new Date().getTime();\\nvar sugLocCode = \"\";\\nvar searchLog = {\\nuc: 0,\\nclickCount: 0,\\ndl: \"\"\\n};\\nvar SEARCHLOGDOMAIN = \"//sl.search.daum.net\"; \\n\\nvar CNUCC_URL = \"//harm.search.daum.net/api/harmRegister\";\\n</script>\\n\\n\\n<script type=\"text/html\" id=\"answer-korea-weather-template\">\\n<span class=\"weather_comp\">\\n<span class=\"txt_exact ico_suggest\" data-bind=\"css: icon40\">\\n<span class=\"tit\" data-bind=\"text: areaname\"></span>\\n<span class=\"cont\"><span class=\"txt_cont\" data-bind=\"text: wtext5s\"></span> <span class=\"txt_num1 ico_suggest2 ico_celsius\" data-bind=\"text: temp\"></span><span class=\"txt_unit\">℃</span></span>\\n</span>\\n<span class=\"txt_time\" data-bind=\"text: (announce + \\' 기준\\') \"></span>\\n</span>\\n</script>\\n\\n\\n\\n\\n\\n\\n\\n\\n\\n\\n\\n\\n\\n\\n\\n<script type=\"text/javascript\" src=\"//search1.daumcdn.net/search/statics/common/js/fe/tot-search/polyfill/p/polyfill.p.common.20200707150840.min.js\" charset=\"utf-8\"></script>\\n\\n\\n<script type=\"text/javascript\" src=\"//search1.daumcdn.net/search/statics/common/js/fe/tot-search/vendor/p/common/vendor.p.common.20210614193738.min.js\" charset=\"utf-8\"></script>\\n<script type=\"text/javascript\" src=\"//search1.daumcdn.net/search/statics/common/js/log/p_log.min.20211108152558.js\" charset=\"utf-8\"></script>\\n<script type=\"text/javascript\" src=\"//search1.daumcdn.net/search/statics/common/js/fe/tot-search/module/p/common/module.p.common.20211214105224.min.js\" charset=\"utf-8\"></script>\\n<script type=\"text/javascript\" src=\"//search1.daumcdn.net/search/statics/common/js/fe/tot-search/module/p/search/module.p.search.20210726112603.min.js\" charset=\"utf-8\"></script>\\n<script>\\n(function(SF, $, SL) {\\nObject.assign(SF, {\\nlogStaticErrors: {\\nisArgonUrl: function(url) {\\nreturn url.indexOf(\\'argon\\') !== -1;\\n},\\nextractArgonId: function(url) {\\nreturn url.split(\\'/\\').pop();\\n},\\ncreateFreeLogParams: function(ids) {\\nreturn {\\ntimg: ids.join(\\',\\')\\n};\\n},\\nchunkCall: function (fn, options) {\\nvar chunk = [];\\nvar debounced = $.debounce(function() {\\nif (chunk.length > 0) {\\nfn(chunk);\\nchunk = [];\\n}\\n}, options.timeout);\\nreturn function (arg) {\\nchunk.push(arg);\\nif (chunk.length >= options.chunkSize) {\\nfn(chunk);\\nchunk = [];\\n}\\ndebounced();\\n};\\n},\\ninit: function() {\\nthis.subscribe();\\n},\\nsubscribe: function() {\\nif (!(\\'addEventListener\\' in document)) {\\nreturn;\\n}\\nvar sendLog = this.chunkCall(this.sendLog.bind(this), {\\ntimeout: 1000,\\nchunkSize: 50\\n});\\nvar onError = this.onError.bind(this, sendLog);\\nthis.unsubscribe = function () {\\nwindow.removeEventListener(\\'error\\', onError);\\n};\\nwindow.addEventListener(\\'error\\', onError, true);\\n},\\nonError: function (callback, event) {\\nvar src = event.target.src;\\nif (typeof src === \\'string\\' && this.isArgonUrl(src)) {\\ncallback(this.extractArgonId(src));\\n}\\n},\\nsendLog: function(argonIds) {\\nvar params = this.createFreeLogParams(argonIds);\\nSL.freelog.send(params);\\n},\\nunsubscribe: $.noop\\n}\\n});\\n})(window.SF || {}, window.jQuery, window.SL || {});\\nSF.logStaticErrors.init();\\n</script>\\n<script type=\"text/javascript\">\\nSF.loadModuleList = {\\n\"amcharts\":\"//search1.daumcdn.net/search/statics/common/js/fe/tot-search/library/p/amcharts.20190321202015.min.js\",\\n\"calendar\":\"//search1.daumcdn.net/search/statics/common/js/fe/tot-search/module/p/calendar/module.p.calendar.20210312112039.min.js\",\\n\"chart\":\"//search1.daumcdn.net/search/statics/common/js/fe/tot-search/library/p/chart.20200602182334.min.js\",\\n\"kakaosdk\":\"//search1.daumcdn.net/search/statics/common/js/fe/tot-search/library/p/kakaosdk.20190321202015.min.js\",\\n\"kakaotv\":\"//tv.kakao.com/player/script/sdk/player_api.min.js\",\\n\"pagenavigation\":\"//search1.daumcdn.net/search/statics/common/js/fe/tot-search/module/p/pagenavigation/module.p.pagenavigation.20211101151709.min.js\",\\n\"youtube\":\"//www.youtube.com/player_api\"\\n};\\n</script>\\n<script type=\"text/javascript\">\\n(function(SF) {\\nObject.assign(SF, {\\nphase: \\'prod\\'\\n});\\n})(window.SF);\\n</script>\\n\\n\\n\\n\\n\\n\\n\\n\\n\\n\\n\\n\\n\\n\\n\\n\\n\\n\\n\\n\\n\\n\\n\\n\\n\\n\\n\\n\\n\\n\\n\\n\\n\\n\\n\\n\\n\\n\\n\\n\\n\\n\\n\\n\\n\\n\\n\\n\\n\\n\\n\\n\\n\\n\\n\\n\\n\\n\\n\\n\\n\\n\\n\\n\\n\\n\\n\\n\\n\\n\\n\\n\\n\\n\\n\\n\\n\\n\\n\\n\\n\\n\\n\\n\\n\\n\\n\\n\\n\\n\\n\\n\\n\\n\\n\\n\\n\\n\\n\\n\\n\\n\\n\\n\\n\\n\\n\\n\\n\\n\\n\\n\\n\\n\\n\\n\\n\\n\\n\\n\\n\\n\\n\\n\\n\\n\\n\\n\\n\\n\\n\\n\\n\\n\\n\\n\\n\\n\\n\\n\\n\\n\\n\\n\\n\\n\\n\\n\\n\\n\\n\\n\\n\\n<!--[if IE]>\\n<script src=\"//search1.daumcdn.net/search/statics/common/js/g/html5.min.js\"></script>\\n<![endif]-->\\n</head>\\n\\n<body class=\"daum \">\\n\\n<script type=\"text/javascript\">\\nSL.mkeyLog();\\n</script>\\n<nav id=\"daumIndex\" class=\"d_direct\">\\n<a href=\"#daumBody\" class=\"link_direct\">본문 바로가기</a>\\n<a href=\"#daumGnb\" class=\"link_direct\">메뉴 바로가기</a>\\n<a href=\"#realtimeIssueTitle\" class=\"link_direct\">실시간이슈 바로가기</a>\\n</nav>\\n<div id=\"tooltipContent\"></div> <!-- TT -->\\n<div id=\"saq\" style=\"display:none\">빅데이터</div>\\n<article id=\"daumWrap\" class=\"sch_tab_news\">\\n<header id=\"daumHead\">\\n<div id=\"innerHeader\" class=\"inner_header\">\\n<h1>\\n<a id=\"daumLogo\" href=\"https://www.daum.net/?nil_profile=daum&nil_src=search\" onclick=\\'smartLog(this, \"e=1&dc=MLC\", event);\\' title=\"Daum 메인페이지로 가기\" target=\"_top\">\\n<img src=\"//search1.daumcdn.net/search/statics/common/pi/logo/daumlogo_170324.png\" width=\"84\" height=\"34\" alt=\"Daum\">\\n</a>\\n<span id=\"daumServiceLogo\" class=\"screen_out\">검색</span>\\n</h1>\\n<form id=\"daumSearch\" name=\"search\" method=\"get\" class=\"d_sch\">\\n<fieldset class=\"fld_total\">\\n<legend class=\"screen_out\">검색폼</legend>\\n<input type=\"hidden\" id=\"nil_suggest\" name=\"nil_suggest\" value=\"btn\">\\n<input type=\"hidden\" id=\"nil_ch\" name=\"nil_ch\" value=\"\">\\n<input type=\"hidden\" name=\"rtupcoll\" value=\"\">\\n<input type=\"hidden\" name=\"w\" value=\"news\">\\n<input type=\"hidden\" name=\"m\" value=\"\">\\n<input type=\"hidden\" id=\"f\" name=\"f\" value=\"\">\\n<input type=\"hidden\" name=\"lpp\" value=\"\">\\n<input type=\"hidden\" name=\"DA\" value=\"SBC\">\\n<input type=\"hidden\" name=\"sug\" value=\"\">\\n<input type=\"hidden\" name=\"sq\" value=\"\">\\n<input type=\"hidden\" name=\"o\" value=\"\">\\n<input type=\"hidden\" name=\"sugo\" value=\"\">\\n\\n\\n\\n<input type=\"hidden\" name=\"cluster\" value=\"y\">\\n\\n\\n\\n\\n<div class=\"box_searchbar\">\\n<div class=\"inner_searchbar\">\\n<input type=\"text\" class=\"tf_keyword\" id=\"q\" name=\"q\" title=\"검색어 입력\" value=\"빅데이터\" autocomplete=\"off\" spellcheck=\"false\" maxlength=\"255\" >\\n<button id=\"VKIBtn\" class=\"img_keyboard btn_key\" type=\"button\" onclick=\"SF.virtualKeyboardHandler.call();smartLog(this, \\'pg=1&p=1&r=1&rc=1&dc=BFJ&at=func\\',event);return false;\"><span class=\"ir_wa\">한글입력기</span></button>\\n<button type=\"submit\" id=\"daumBtnSearch\" class=\"ico_ksearch btn_ksearch\"><span class=\"ir_wa\">검색</span></button>\\n</div>\\n</div>\\n<div id=\"wrap_suggestBox\" class=\"wrap_suggestBox\"><div id=\"suggestBox\" class=\"suggestBox box_sub\"></div></div>\\n</fieldset>\\n</form>\\n<script type=\"text/javascript\">\\n(function(){\\nvar headerSearchModule = new SF.HeaderSearchForm();\\nheaderSearchModule.init();\\n})();\\n</script>\\n\\n<div id=\"wrapMinidaum\"></div>\\n<div id=\"VKILayout\" class=\"keyboard_layer\" style=\"display:none;\"></div>\\n<div class=\"cl_b\"></div>\\n</div>\\n<div id=\"daumGnb\">\\n<div class=\"wrap_gnb\">\\n<ul class=\"gnb_search\">\\n\\n<li class=\"\">\\n\\n<a href=\"?w=tot&q=%EB%B9%85%EB%8D%B0%EC%9D%B4%ED%84%B0&DA=NTB\" class=\"tab tab_total\" onclick=\\'smartLog(this, \"pg=1&r=1&p=1&rc=1&dc=NTB&at=more\", event);\\'><span class=\"inner_tab\"><span class=\"txt_tab\">통합검색</span></span></a>\\n</li>\\n\\n\\n\\n\\n\\n\\n\\n<li class=\"\">\\n\\n\\n\\n<a href=\"?w=img&nil_search=btn&DA=NTB&enc=utf8&q=%EB%B9%85%EB%8D%B0%EC%9D%B4%ED%84%B0\" class=\"tab tab_img\" onclick=\\'smartLog(this, \"pg=1&r=2&p=1&rc=1&dc=NTB&at=more\", event);\\'>\\n<span class=\"inner_tab\"><span class=\"txt_tab\">이미지</span></span>\\n</a>\\n\\n</li>\\n\\n\\n<li class=\"\">\\n\\n\\n\\n<a href=\"?w=vclip&nil_search=btn&DA=NTB&enc=utf8&q=%EB%B9%85%EB%8D%B0%EC%9D%B4%ED%84%B0\" class=\"tab tab_vclip\" onclick=\\'smartLog(this, \"pg=1&r=3&p=1&rc=1&dc=NTB&at=more\", event);\\'>\\n<span class=\"inner_tab\"><span class=\"txt_tab\">동영상</span></span>\\n</a>\\n\\n</li>\\n\\n\\n<li class=\"on\">\\n<span class=\"screen_out\">선택된 항목</span>\\n\\n\\n<a href=\"?w=news&nil_search=btn&DA=NTB&enc=utf8&cluster=y&cluster_page=1&q=%EB%B9%85%EB%8D%B0%EC%9D%B4%ED%84%B0\" class=\"tab tab_news\" onclick=\\'smartLog(this, \"pg=1&r=4&p=1&rc=1&dc=NTB&at=more\", event);\\'>\\n<span class=\"inner_tab\"><span class=\"txt_tab\">뉴스</span></span>\\n</a>\\n\\n</li>\\n\\n\\n<li class=\"\">\\n\\n\\n\\n<a href=\"?w=blog&nil_search=btn&DA=NTB&enc=utf8&q=%EB%B9%85%EB%8D%B0%EC%9D%B4%ED%84%B0\" class=\"tab tab_blog\" onclick=\\'smartLog(this, \"pg=1&r=5&p=1&rc=1&dc=NTB&at=more\", event);\\'>\\n<span class=\"inner_tab\"><span class=\"txt_tab\">블로그</span></span>\\n</a>\\n\\n</li>\\n\\n\\n<li class=\"\">\\n\\n\\n\\n<a href=\"?w=cafe&nil_search=btn&DA=NTB&enc=utf8&ASearchType=1&lpp=10&rlang=0&q=%EB%B9%85%EB%8D%B0%EC%9D%B4%ED%84%B0\" class=\"tab tab_cafe\" onclick=\\'smartLog(this, \"pg=1&r=6&p=1&rc=1&dc=NTB&at=more\", event);\\'>\\n<span class=\"inner_tab\"><span class=\"txt_tab\">카페</span></span>\\n</a>\\n\\n</li>\\n\\n\\n<li class=\"\">\\n\\n\\n\\n<a href=\"?w=web&nil_search=btn&DA=NTB&enc=utf8&lpp=10&q=%EB%B9%85%EB%8D%B0%EC%9D%B4%ED%84%B0\" class=\"tab tab_webdoc\" onclick=\\'smartLog(this, \"pg=1&r=7&p=1&rc=1&dc=NTB&at=more\", event);\\'>\\n<span class=\"inner_tab\"><span class=\"txt_tab\">웹문서</span></span>\\n</a>\\n\\n</li>\\n\\n\\n<li class=\"\">\\n\\n\\n\\n<a href=\"?w=site&nil_search=btn&DA=NTB&enc=utf8&lpp=10&q=%EB%B9%85%EB%8D%B0%EC%9D%B4%ED%84%B0\" class=\"tab tab_site\" onclick=\\'smartLog(this, \"pg=1&r=8&p=1&rc=1&dc=NTB&at=more\", event);\\'>\\n<span class=\"inner_tab\"><span class=\"txt_tab\">사이트</span></span>\\n</a>\\n\\n</li>\\n\\n</ul>\\n\\n<div class=\"more_search\">\\n<a id=\"gnbToggleBtn\" href=\"javascript:;\"  class=\"btn_tab\">\\n<span class=\"txt_btn\">더보기/접기</span>\\n</a>\\n<ul class=\"list_more\">\\n\\n\\n<li class=\"\">\\n\\n\\n<a target=\"_blank\" href=\"http://dic.daum.net/search.do?q=%EB%B9%85%EB%8D%B0%EC%9D%B4%ED%84%B0\" class=\"link_more tab_dic\" onclick=\\'smartLog(this, \"pg=1&r=9&p=2&rc=1&e1=NS&e2=DICZ&dc=NTB&at=more\", event);\\'>\\n<span class=\"inner_tab\">\\n<span class=\"txt_tab\">어학사전</span>\\n<span class=\"ico_ksearch ico_outlink\">새창</span>\\n</span>\\n</a>\\n\\n</li>\\n\\n\\n<li class=\"\">\\n\\n\\n<a target=\"_blank\" href=\"http://map.daum.net/?from=total&nil_suggest=btn&tab=place&q=%EB%B9%85%EB%8D%B0%EC%9D%B4%ED%84%B0\" class=\"link_more tab_map\" onclick=\\'smartLog(this, \"pg=1&r=10&p=2&rc=1&e1=NS&e2=GG1Z&dc=NTB&at=more\", event);\\'>\\n<span class=\"inner_tab\">\\n<span class=\"txt_tab\">지도</span>\\n<span class=\"ico_ksearch ico_outlink\">새창</span>\\n</span>\\n</a>\\n\\n</li>\\n\\n\\n<li class=\"\">\\n\\n\\n<a target=\"_blank\" href=\"http://100.daum.net/search/entry?q=%EB%B9%85%EB%8D%B0%EC%9D%B4%ED%84%B0\" class=\"link_more tab_dic100\" onclick=\\'smartLog(this, \"pg=1&r=11&p=2&rc=1&e1=NS&e2=1DVZ&dc=NTB&at=more\", event);\\'>\\n<span class=\"inner_tab\">\\n<span class=\"txt_tab\">백과사전</span>\\n<span class=\"ico_ksearch ico_outlink\">새창</span>\\n</span>\\n</a>\\n\\n</li>\\n\\n\\n<li class=\"\">\\n\\n\\n<a target=\"_blank\" href=\"https://shoppinghow.kakao.com/search/%EB%B9%85%EB%8D%B0%EC%9D%B4%ED%84%B0/&srchhow=Cexpo\" class=\"link_more tab_shop\" onclick=\\'smartLog(this, \"pg=1&r=12&p=2&rc=1&e1=NS&e2=SNPZ&dc=NTB&at=more\", event);\\'>\\n<span class=\"inner_tab\">\\n<span class=\"txt_tab\">쇼핑</span>\\n<span class=\"ico_ksearch ico_outlink\">새창</span>\\n</span>\\n</a>\\n\\n</li>\\n\\n\\n<li class=\"\">\\n\\n\\n<a href=\"?w=book&nil_search=btn&DA=NTB&enc=utf8&q=%EB%B9%85%EB%8D%B0%EC%9D%B4%ED%84%B0\" class=\"link_more tab_book\" onclick=\\'smartLog(this, \"pg=1&r=13&p=2&rc=1&e1=NS&e2=LB0Z&dc=NTB&at=more\", event);\\'>\\n<span class=\"inner_tab\"><span class=\"txt_tab\">책</span></span>\\n</a>\\n\\n</li>\\n\\n\\n<li class=\"\">\\n\\n\\n<a href=\"?w=music&m=song&nil_search=btn&DA=NTB&q=%EB%B9%85%EB%8D%B0%EC%9D%B4%ED%84%B0\" class=\"link_more tab_music\" onclick=\\'smartLog(this, \"pg=1&r=14&p=2&rc=1&e1=NS&e2=MS2Z&dc=NTB&at=more\", event);\\'>\\n<span class=\"inner_tab\"><span class=\"txt_tab\">멜론뮤직</span></span>\\n</a>\\n\\n</li>\\n\\n\\n<li class=\"\">\\n\\n\\n<a href=\"?w=brunch&nil_search=btn&DA=NTB&enc=utf8&q=%EB%B9%85%EB%8D%B0%EC%9D%B4%ED%84%B0\" class=\"link_more tab_brunch\" onclick=\\'smartLog(this, \"pg=1&r=15&p=2&rc=1&e1=NS&e2=BRCZ&dc=NTB&at=more\", event);\\'>\\n<span class=\"inner_tab\"><span class=\"txt_tab\">브런치</span></span>\\n</a>\\n\\n</li>\\n\\n\\n<li class=\"\">\\n\\n\\n<a href=\"?w=kstory&nil_search=btn&DA=NTB&q=%EB%B9%85%EB%8D%B0%EC%9D%B4%ED%84%B0\" class=\"link_more tab_kstory\" onclick=\\'smartLog(this, \"pg=1&r=16&p=2&rc=1&e1=NS&e2=KASZ&dc=NTB&at=more\", event);\\'>\\n<span class=\"inner_tab\"><span class=\"txt_tab\">카카오스토리</span></span>\\n</a>\\n\\n</li>\\n\\n</ul>\\n</div>\\n\\n\\n\\n\\n</div>\\n</div>\\n<script type=\"text/javascript\">\\n\\n_jsSetCookieNonEscape = function(name,value){\\ndocument.cookie = name+\"=\"+value+\"; path=/;\";\\n};\\n_jsSetCookieNonEscape(\"ODT\", \"IIMZ_VO2Z_NNSZ_BR1Z_CCBZ_WSAZ_IVRZ_\");\\n_jsSetCookieNonEscape(\"DDT\", \"DICZ_GG1Z_1DVZ_SNPZ_LB0Z_MS2Z_BRCZ_KASZ_\");\\n_jsSetCookieNonEscape(\"DTQUERY\", \"%EB%B9%85%EB%8D%B0%EC%9D%B4%ED%84%B0\" );\\n\\n\\n</script>\\n<form name=\"cUccForm\" method=\"get\">\\n<input type=\"hidden\" name=\"kword\">\\n<input type=\"hidden\" name=\"colid\">\\n<input type=\"hidden\" name=\"docid\">\\n<input type=\"hidden\" name=\"backurl\">\\n</form>\\n<form name=\"urForm\" method=\"get\">\\n<input type=\"hidden\" name=\"q\">\\n</form>\\n<div class=\"clr\"></div>\\n<!-- // daumGnb -->\\n<div name=\"searchData\" id=\"searchData\" class=\"skiptonavi\"></div>\\n<!-- End Header -->\\n</header>\\n\\n\\n<script type=\"text/html\" id=\"suggest-footer-template\">\\n<div>\\n<span>\\n<div class=\"fr\">\\n<a href=\"http://cs.daum.net/faq/15/14957.html#28978\" class=\"isSuggest\" target=\"_blank\" onclick=\"smartLog(this, \\'dc=SUG&p=5&r=1\\', event);\">서제스트란?</a>\\n</div>\\n</span>\\n</div>\\n</script>\\n\\n<article id=\"daumContent\">\\n<div id=\"cMain\">\\n<script type=\"text/javascript\">\\nsearchLog.dl = \\'R100_R130_R120_TOG0_NSJ0_DCC0_NNS16_PGD1_RNN1_MNN1_RSN1\\';\\t/* ISM DISPLAY_RESULT */\\nvar smDisCode = \"\";\\nvar smClickCode = \"\";\\nvar smCateCode = \"\";\\nvar totCollCount = \"1\";\\nvar sPageLoadedmsTime = 194;\\nvar requestTime = \"1642597258614\";\\n</script>\\n<article id=\"mArticle\">\\n<div class=\"inner_article\">\\n<span id=\"daumBody\" class=\"screen_out\">검색 본문</span>\\n\\n\\n\\n\\n\\n\\n\\n\\n\\n\\n\\n\\n\\n\\n\\n\\n\\n\\n\\n\\n\\n<div disp-attr=\\'NSJ\\' style=\"position: relative;\" class=\"g_comp\">\\n\\n\\n<script type=\"text/javascript\">\\n/**\\n* 관련검색어 pc용 스크립트\\n* 바로가기 니즈 키워드 (기준 CTR 50% 이상) 인 경우 관련검색어 노출을 확대해서(3줄 펼치기 형태) 관련검색어 클릭을 높인다 - 2013.11.5 로직 삭제\\n*/\\n(function (jq) {\\nC.netizenColl = C.netizenColl || {};\\nC.netizenColl = {\\napplyTopBottom: function (position) {\\nvar NetizenToggle = function (type) {\\nthis.type = (type) ? type : \"\";\\nthis.btnEl = jq(\"#netizen_more_btn_\" + type);\\nthis.btnTextEl = jq(\"#netizen_more_btn_\" + type + \" span.ico_rwd\");\\nthis.listsWrapper = jq(\"#netizen_lists_\" + this.type);\\nthis.lists = jq(\"#netizenColl_\" + this.type + \" .list_keyword span.wsn\");\\nthis.listKeywords = jq(\"#netizenColl_\" + this.type + \" .list_keyword span.wsn a.keyword\");\\nthis.tab = this.listsWrapper.data(\"w\");\\nthis.listFoldClass = (this.tab == \"img\") ? \"type1\" : \"type2\";   /* 이미지는 기본 1줄, 나머지는 기본 2줄 노출 */\\nthis.listOpenClass = \"type3\";   /* 쵀대 4줄 노출 */\\n};\\nNetizenToggle.prototype = {\\ninit: function () {\\nif (this.btnEl.length > 0) {\\nthis.setListType();\\nthis.btnEl.unbind(\"click\").bind(\"click\", jq.proxy(this.toggle, this));\\nthis.listKeywords.unbind(\"click\").bind(\"click\", jq.proxy(this.sendLog, this));\\njq(window).resize(jq.proxy(this.setListType, this));\\n}\\n},\\nsetListType: function () {\\nvar lineCount = this.getLineCount();\\nswitch (lineCount) {\\ncase 1:\\nthis.setBtnStatus(\"more\", \"hide\");\\nthis.listsWrapper[0].className = \"list_keyword\";\\nbreak;\\ncase 2:\\nif (this.tab == \"img\") {\\nif (this.listsWrapper.hasClass(\"type3\")) {\\nthis.setBtnStatus(\"fold\", \"show\");\\nthis.listsWrapper[0].className = \"list_keyword \" + this.listOpenClass;\\n} else {\\nthis.setBtnStatus(\"more\", \"show\");\\nthis.listsWrapper[0].className = \"list_keyword \" + this.listFoldClass;\\n}\\n} else {\\nthis.setBtnStatus(\"more\", \"hide\");\\nthis.listsWrapper[0].className = \"list_keyword\";\\n}\\nbreak;\\ncase 3:\\ncase 4:\\nif (this.tab == \"img\") {\\nif (this.listsWrapper.hasClass(\"type1\") || this.listsWrapper.hasClass(\"type2\")) {\\nthis.setBtnStatus(\"more\", \"show\");\\nthis.listsWrapper[0].className = \"list_keyword \" + this.listFoldClass;\\n} else {\\nthis.listsWrapper[0].className = \"list_keyword \" + this.listOpenClass;\\n}\\n} else {\\nthis.setBtnStatus(\"more\", \"show\");\\nthis.listsWrapper[0].className = \"list_keyword \" + this.listFoldClass;\\n}\\nbreak;\\n}\\n},\\nsetBtnStatus: function (opt1, opt2) {\\nif (opt1 == \"more\") {\\nthis.btnEl.removeClass(\"fold\");\\nthis.btnTextEl.text(\\'더보기\\');\\n} else if (opt1 == \"fold\") {\\nthis.btnEl.addClass(\"fold\");\\nthis.btnTextEl.text(\\'접기\\');\\n}\\nif (typeof(opt2) != \"undefined\") {\\nif (opt2 == \"hide\") {\\njq(this.btnEl).addClass(\"hide\");\\n} else if (opt2 == \"show\") {\\njq(this.btnEl).removeClass(\"hide\");\\n}\\n}\\n},\\ntoggle: function (e) {\\nvar lineCount = this.getLineCount();\\nvar logData = this.btnEl.data(\"log\");\\nif (lineCount > 1) {\\nif (this.btnEl.length > 0) {\\nif (this.btnEl.hasClass(\"fold\")) {\\nthis.setBtnStatus(\"more\");\\nthis.listsWrapper[0].className = \"list_keyword \" + this.listFoldClass;\\nsmartLog(this.btnEl, logData + \"&e=2\", e);\\n} else {\\nthis.setBtnStatus(\"fold\");\\nthis.listsWrapper[0].className = \"list_keyword \" + this.listOpenClass;\\nsmartLog(this.btnEl, logData + \"&e=1\", e);\\n}\\n}\\n}\\n},\\ngetLineCount: function () {\\nvar list = this.lists[this.lists.length - 1];\\nvar top = jq(list).position().top;\\nvar lineHeight = 25;\\nvar margin = 5;\\n/* 한 줄이 25 */\\nif (top >= lineHeight * 3 && top >= lineHeight * 3 - margin) {  /* 70~75 */\\nreturn 4;\\n} else if (top >= lineHeight * 2 && top >= lineHeight * 2 - margin) { /* 45~50 */\\nreturn 3;\\n} else if (top >= lineHeight && top >= lineHeight - margin) {    /* 20~25 */\\nreturn 2;\\n} else {    /* ~20 */\\nreturn 1;\\n}\\n},\\nsendLog: function (e) {\\ne.stopPropagation();\\nvar target = function () {\\nif (e.target.tagName.toLowerCase() == \"span\") {\\nreturn e.target.firstChild;\\n} else if (e.target.tagName.toLowerCase() == \"a\") {\\nreturn e.target;\\n}\\n}();\\nvar log = jq(target).data(\"log\");\\nvar extra = {\\n\"relkwd\": {\\n\"click_query\": jq(target).text()\\n}\\n};\\nsmartLog(target, log, e, extra);\\n}\\n};\\nvar netizenToggle;\\nnetizenToggle = new NetizenToggle(position);\\nnetizenToggle.init();\\n/* 이미지 탭에서 상단 관련검색어 미들 top 사이즈 체크할 때, 렌더링 타이밍 이슈로 넣어 둠. */\\nsetTimeout(function () {\\nnetizenToggle.setListType();\\n}, 0);\\n},\\napplyRight: function () {\\n/* ie6, ie7, ipad 가 아니면 */\\nif (!((SF.ua.browser.name == \"msie\" && (SF.ua.browser.version.major == \"6\" || SF.ua.browser.version.major == \"7\")) || (SF.ua.browser.name == \"ipad\"))) {\\nthis.fixTop();\\n}\\nvar listKeywords = jq(\"#netizenColl_right .list_keyword a.link_txt\");\\nlistKeywords.unbind(\"click\").bind(\"click\", jq.proxy(this.sendLog, this));\\n},\\nsendLog: function (e) {\\ne.stopPropagation();\\nvar target = function () {\\nif (e.target.tagName.toLowerCase() == \"span\") {\\nreturn e.target.parentNode;\\n} else if (e.target.tagName.toLowerCase() == \"a\") {\\nreturn e.target;\\n}\\n}();\\nvar log = jq(target).data(\"log\");\\nvar freeLog = {\\n\"relkwd\": {\\n\"click_query\": jq(target).text()\\n}\\n};\\nsmartLog(target, log, e, freeLog);\\n},\\nfixTop: function () {\\nvar netizenEl = jq(\"#netizenColl_right\")[0];\\nif (netizenEl) {\\nvar bodyHeight = jq(\"#daumWrap\")[0].clientHeight;\\nif (viewsite == \"0001L\") {\\n/* SA일경우 */\\nvar headerHeight = jq(\"#bingHead\")[0].clientHeight;\\nvar footerHeight = jq(\"#bingFoot\")[0].clientHeight;\\n} else {\\nvar headerHeight = jq(\"#daumHead\")[0].clientHeight;\\nvar footerHeight = jq(\"#daumFoot\")[0].clientHeight;\\n}\\nvar netizenHeight = netizenEl.clientHeight;\\nvar netizenTop = 0;\\nvar offset = 60;\\n/* 우하단 맨위로 버튼으로 인한 오프셋  */\\nvar prevHeight = 0;\\nvar browserHeight = 0;\\nvar checkNetizen = function () {\\nvar currentNetizenTop = Math.round(jq(netizenEl).position().top);\\nif (currentNetizenTop !== -1) {\\nnetizenTop = currentNetizenTop;\\n}\\nvar isHorizontalScrollbar = document.documentElement.scrollWidth > document.documentElement.clientWidth;\\nvar scrollTop = getScrollOffsets().top;\\nbrowserHeight = getWindowSize().height;\\nvar fixMode = ((scrollTop - headerHeight) >= netizenTop) ? true : false;\\nif (isHorizontalScrollbar) {\\nfixMode = false;\\n}\\nif (fixMode) {\\njq(netizenEl).addClass(\"netizen_fixed\");\\nif (scrollTop > (bodyHeight - (netizenHeight + footerHeight + offset))) {\\nnetizenEl.style.top = bodyHeight - (footerHeight + offset + netizenHeight) - scrollTop + \"px\";\\n} else {\\nnetizenEl.style.top = \"-1px\";\\n}\\n} else {\\njq(netizenEl).removeClass(\"netizen_fixed\");\\n}\\n};\\nvar getScrollOffsets = function () {\\nreturn {\\n\\'left\\': window.pageXOffset || document.documentElement.scrollLeft || document.body.scrollLeft,\\n\\'top\\': window.pageYOffset || document.documentElement.scrollTop || document.body.scrollTop\\n};\\n};\\nvar getWindowSize = function () {\\nvar w = (window.innerWidth || document.documentElement.clientWidth || document.body.clientWidth || 1003) - 2,\\nh = (window.innerHeight || document.documentElement.clientHeight || document.body.clientHeight || 650) - 2;\\nreturn {\"width\": w, \"height\": h};\\n};\\ncheckNetizen();\\njq(window).scroll(checkNetizen);\\njq(window).resize(function () {\\n/* 브라우저 리사이즈시에는 높이가 달라졌을때는 클래스 순간 지움. (위치 새로 잡기위해) */\\nif (prevHeight == browserHeight) {\\njq(netizenEl).removeClass(\"netizen_fixed\");\\n}\\ncheckNetizen();\\nprevHeight = browserHeight;\\n});\\n}\\n}\\n};\\n/**\\n* pc 우측 박스용 말줄임\\n*/\\nC.netizenColl.ellipsis = {\\nFRONT_MARGIN: 0,\\nADDITIONAL_MARGIN: 15,\\n/**\\n1. 25byte 이상인 서브키가 몇개인지 측정\\n2. 그 글자들과 메인키의 일치비율 측정 => 편집거리 사용.\\n2-1. 키워드와 똑같이 잘라서 편집거리 측정\\n3. 일치비율 >= 0.5 이상이면 중간말줄임, 아니면 기본 말줄임\\n*/\\ndraw: function () {\\nvar _this = this;\\nvar keyword = decodeURIComponent(utf8Query).replace(/\\\\s/g, \"\");\\nvar longKeyword = this.getLongSubkey();\\nif (longKeyword.length > 0) {\\nvar editDistances = jq.map(longKeyword, function (subkey) {\\n/* 2-1 단계 */\\nvar cuttingSubkey = subkey.replace(/\\\\s/g, \"\").substring(0, keyword.length);\\nreturn _this.getEditDistance(_this.hangulToJaso(keyword), _this.hangulToJaso(cuttingSubkey));\\n});\\nvar sumOfEditDistances = 0;\\njq.each(editDistances, function (index, value) {\\nsumOfEditDistances += value;\\n});\\nvar avgOfEditDistances = sumOfEditDistances / editDistances.length;\\nvar zeroCnt = jq.grep(editDistances, function (dist) {\\nreturn dist <= avgOfEditDistances;\\n}).length;\\nvar sumOfDiffSquare = 0;\\njq.each(editDistances, function (index, dist) {\\nsumOfDiffSquare += Math.pow(dist - avgOfEditDistances, 2);\\n});\\nvar matchRatio = zeroCnt / longKeyword.length;\\nvar variance = sumOfDiffSquare / editDistances.length;\\n/* 일치비율이 0.5 이상이거나 0.3 이상이지만 분산이 2보다 작을때는 중간 말줄임 적용(프로그램명 n회 같은 쿼리는 일치비율이 작게 나오기 때문) */\\nif (matchRatio >= 0.5 || (matchRatio >= 0.3 && variance < 2)) {\\nthis.setMiddleEllipsis();\\n} else {\\nthis.setFullSubkey();\\n}\\n} else {\\nthis.setFullSubkey();\\n}\\n},\\n/**\\n* 25byte 이상인 키워드 몇개인지 측정\\n*/\\ngetLongSubkey: function () {\\nvar _this = this;\\nreturn jq.map(jq(\"#netizenColl_right .txt_keyword\"), function (elem, index) {\\nvar subkey = jq(elem).attr(\"data\");\\nif (_this.getByte(subkey) >= 25) {\\nreturn subkey;\\n}\\n});\\n},\\n/**\\n* 한글도 2byte로 계산하는 바이트 계산 함수\\n*/\\ngetByte: function (s, b, i, c) {\\nfor (b = i = 0; c = s.charCodeAt(i++); b += c >> 7 ? 2 : 1);\\nreturn b;\\n},\\n/**\\n* 한글 자소 분리\\n* brunch B.Util.js 의 hangulToJaso 가져와서 사용.\\n*/\\nhangulToJaso: function (text) {\\nvar ChoSeong = [0x3131, 0x3132, 0x3134, 0x3137, 0x3138,\\n0x3139, 0x3141, 0x3142, 0x3143, 0x3145, 0x3146, 0x3147, 0x3148,\\n0x3149, 0x314a, 0x314b, 0x314c, 0x314d, 0x314e];\\nvar JungSeong = [0x314f, 0x3150, 0x3151, 0x3152, 0x3153,\\n0x3154, 0x3155, 0x3156, 0x3157, 0x3158, 0x3159, 0x315a, 0x315b,\\n0x315c, 0x315d, 0x315e, 0x315f, 0x3160, 0x3161, 0x3162, 0x3163];\\nvar JongSeong = [0x0000, 0x3131, 0x3132, 0x3133, 0x3134,\\n0x3135, 0x3136, 0x3137, 0x3139, 0x313a, 0x313b, 0x313c, 0x313d,\\n0x313e, 0x313f, 0x3140, 0x3141, 0x3142, 0x3144, 0x3145, 0x3146,\\n0x3147, 0x3148, 0x314a, 0x314b, 0x314c, 0x314d, 0x314e];\\nvar chars = [];\\nvar v = [];\\nfor (var i = 0; i < text.length; i++) {\\nchars[i] = text.charCodeAt(i);\\nif (chars[i] >= 0xAC00 && chars[i] <= 0xD7A3) {\\nvar i1, i2, i3;\\ni3 = chars[i] - 0xAC00;\\ni1 = i3 / (21 * 28);\\ni3 = i3 % (21 * 28);\\ni2 = i3 / 28;\\ni3 = i3 % 28;\\nv.push(String.fromCharCode(ChoSeong[parseInt(i1)]));\\nv.push(String.fromCharCode(JungSeong[parseInt(i2)]));\\nif (i3 != 0x0000)\\nv.push(String.fromCharCode(JongSeong[parseInt(i3)]));\\n}\\nelse {\\nv.push(String.fromCharCode(chars[i]));\\n}\\n}\\nreturn v.join(\"\");\\n},\\n/**\\n* 편집거리 측정\\n*/\\ngetEditDistance: function (a, b) {\\nif (a.length === 0) return b.length;\\nif (b.length === 0) return a.length;\\nvar matrix = [];\\n/* increment along the first column of each row */\\nvar i;\\nfor (i = 0; i <= b.length; i++) {\\nmatrix[i] = [i];\\n}\\n/* increment each column in the first row */\\nvar j;\\nfor (j = 0; j <= a.length; j++) {\\nmatrix[0][j] = j;\\n}\\n/* Fill in the rest of the matrix */\\nfor (i = 1; i <= b.length; i++) {\\nfor (j = 1; j <= a.length; j++) {\\nif (b.charAt(i - 1) == a.charAt(j - 1)) {\\nmatrix[i][j] = matrix[i - 1][j - 1];\\n} else {\\nmatrix[i][j] = Math.min(matrix[i - 1][j - 1] + 1, /* substitution */\\nMath.min(matrix[i][j - 1] + 1, /* insertion */\\nmatrix[i - 1][j] + 1)); /* deletion */\\n}\\n}\\n}\\nreturn matrix[b.length][a.length];\\n},\\n/**\\n* 중간 말줄임 적용\\n*/\\nsetMiddleEllipsis: function () {\\nvar width = 0;\\nwidth = (jq(\"#netizenColl_right .list_keyword\").width()) / 2;\\nif (width <= 0) {\\nthis.setFullSubkey();\\nreturn;\\n}\\nwidth = width - this.FRONT_MARGIN - this.ADDITIONAL_MARGIN;\\n/* width 보다 넓으면 한글자씩 빼기 */\\njq.each(jq(\"#netizenColl_right .txt_keyword\"), function (index, elem) {\\nvar subkey = jq(elem).attr(\"data\");\\nvar len = subkey.length;\\njq(elem).text(subkey);\\nvar mid = len / 2;\\nvar removeLen = 2;\\nvar head, tail;\\nwhile (jq(elem).width() > width) {\\nhead = subkey.substring(0, mid - removeLen / 2);\\ntail = subkey.substring(mid + removeLen / 2, len);\\njq(elem).text(head + \"...\" + tail);\\nremoveLen++;\\n}\\n});\\n},\\nsetFullSubkey: function () {\\njq.each(jq(\"#netizenColl_right .txt_keyword\"), function (index, elem) {\\nvar subkey = jq(elem).attr(\"data\");\\njq(elem).text(subkey);\\n});\\n}\\n};\\njq(document).ready(function () {\\nif (jq(\"#netizenColl_top\").length > 0) {\\nC.netizenColl.applyTopBottom(\"top\");\\n}\\nif (jq(\"#netizenColl_bottom\").length > 0) {\\nC.netizenColl.applyTopBottom(\"bottom\");\\n}\\nif (jq(\"#netizenColl_right\").length > 0) {\\nC.netizenColl.applyRight();\\nC.netizenColl.ellipsis.draw();\\n}\\n});\\n})(jQuery);\\n</script>\\n<div id=\"netizenColl_top\" class=\"section_related\">\\n<div id=\"netizen_lists_top\" class=\"list_keyword type2\" data-w=\"news\">\\n<h2 class=\"tit\">\\n관련 <span class=\"screen_out\">검색어</span>\\n</h2>\\n<span class=\"wsn\"><a href=\"?w=news&m=&q=%EB%B9%85%EB%8D%B0%EC%9D%B4%ED%84%B0%EB%9E%80&nzq=%EB%B9%85%EB%8D%B0%EC%9D%B4%ED%84%B0&DA=NSJ\" class=\"keyword\" data-log=\"dc=NSJ&pg=1&r=1&p=1&e1=%EB%B9%85%EB%8D%B0%EC%9D%B4%ED%84%B0%EB%9E%80&rc=1\">빅데이터란</a></span>\\n<span class=\"wsn\"><a href=\"?w=news&m=&q=%EB%B9%85%EB%8D%B0%EC%9D%B4%ED%84%B0%20%EC%A0%84%EB%AC%B8%EA%B0%80&nzq=%EB%B9%85%EB%8D%B0%EC%9D%B4%ED%84%B0&DA=NSJ\" class=\"keyword\" data-log=\"dc=NSJ&pg=1&r=2&p=1&e1=%EB%B9%85%EB%8D%B0%EC%9D%B4%ED%84%B0%20%EC%A0%84%EB%AC%B8%EA%B0%80&rc=1\">빅데이터 전문가</a></span>\\n<span class=\"wsn\"><a href=\"?w=news&m=&q=%EB%B9%85%EB%8D%B0%EC%9D%B4%ED%84%B0%20%EB%B6%84%EC%84%9D&nzq=%EB%B9%85%EB%8D%B0%EC%9D%B4%ED%84%B0&DA=NSJ\" class=\"keyword\" data-log=\"dc=NSJ&pg=1&r=3&p=1&e1=%EB%B9%85%EB%8D%B0%EC%9D%B4%ED%84%B0%20%EB%B6%84%EC%84%9D&rc=1\">빅데이터 분석</a></span>\\n<span class=\"wsn\"><a href=\"?w=news&m=&q=%EB%B9%85%EB%8D%B0%EC%9D%B4%ED%84%B0%20%EB%B6%84%EC%84%9D%EA%B8%B0%EC%82%AC&nzq=%EB%B9%85%EB%8D%B0%EC%9D%B4%ED%84%B0&DA=NSJ\" class=\"keyword\" data-log=\"dc=NSJ&pg=1&r=4&p=1&e1=%EB%B9%85%EB%8D%B0%EC%9D%B4%ED%84%B0%20%EB%B6%84%EC%84%9D%EA%B8%B0%EC%82%AC&rc=1\">빅데이터 분석기사</a></span>\\n<span class=\"wsn\"><a href=\"?w=news&m=&q=%EB%B9%85%EB%8D%B0%EC%9D%B4%ED%84%B0%20%EB%9C%BB&nzq=%EB%B9%85%EB%8D%B0%EC%9D%B4%ED%84%B0&DA=NSJ\" class=\"keyword\" data-log=\"dc=NSJ&pg=1&r=5&p=1&e1=%EB%B9%85%EB%8D%B0%EC%9D%B4%ED%84%B0%20%EB%9C%BB&rc=1\">빅데이터 뜻</a></span>\\n<span class=\"wsn\"><a href=\"?w=news&m=&q=%EB%B9%85%EB%8D%B0%EC%9D%B4%ED%84%B0%20%EC%9E%90%EA%B2%A9%EC%A6%9D&nzq=%EB%B9%85%EB%8D%B0%EC%9D%B4%ED%84%B0&DA=NSJ\" class=\"keyword\" data-log=\"dc=NSJ&pg=1&r=6&p=1&e1=%EB%B9%85%EB%8D%B0%EC%9D%B4%ED%84%B0%20%EC%9E%90%EA%B2%A9%EC%A6%9D&rc=1\">빅데이터 자격증</a></span>\\n<span class=\"wsn\"><a href=\"?w=news&m=&q=%EB%8B%A4%EC%9D%8C%20%EB%B9%85%EB%8D%B0%EC%9D%B4%ED%84%B0&nzq=%EB%B9%85%EB%8D%B0%EC%9D%B4%ED%84%B0&DA=NSJ\" class=\"keyword\" data-log=\"dc=NSJ&pg=1&r=7&p=1&e1=%EB%8B%A4%EC%9D%8C%20%EB%B9%85%EB%8D%B0%EC%9D%B4%ED%84%B0&rc=1\">다음 빅데이터</a></span>\\n<span class=\"wsn\"><a href=\"?w=news&m=&q=%EB%B9%85%EB%8D%B0%EC%9D%B4%ED%84%B0%20%EA%B5%90%EC%9C%A1&nzq=%EB%B9%85%EB%8D%B0%EC%9D%B4%ED%84%B0&DA=NSJ\" class=\"keyword\" data-log=\"dc=NSJ&pg=1&r=8&p=1&e1=%EB%B9%85%EB%8D%B0%EC%9D%B4%ED%84%B0%20%EA%B5%90%EC%9C%A1&rc=1\">빅데이터 교육</a></span>\\n<span class=\"wsn\"><a href=\"?w=news&m=&q=%EB%B9%85%EB%8D%B0%EC%9D%B4%ED%84%B0%20%EC%B1%85&nzq=%EB%B9%85%EB%8D%B0%EC%9D%B4%ED%84%B0&DA=NSJ\" class=\"keyword\" data-log=\"dc=NSJ&pg=1&r=9&p=1&e1=%EB%B9%85%EB%8D%B0%EC%9D%B4%ED%84%B0%20%EC%B1%85&rc=1\">빅데이터 책</a></span>\\n<span class=\"wsn\"><a href=\"?w=news&m=&q=%EB%B9%85%EB%8D%B0%EC%9D%B4%ED%84%B0%20%ED%99%9C%EC%9A%A9&nzq=%EB%B9%85%EB%8D%B0%EC%9D%B4%ED%84%B0&DA=NSJ\" class=\"keyword\" data-log=\"dc=NSJ&pg=1&r=10&p=1&e1=%EB%B9%85%EB%8D%B0%EC%9D%B4%ED%84%B0%20%ED%99%9C%EC%9A%A9&rc=1\">빅데이터 활용</a></span>\\n<span class=\"wsn\"><a href=\"?w=news&m=&q=%EB%B9%85%EB%8D%B0%EC%9D%B4%ED%84%B0%20%ED%99%9C%EC%9A%A9%EC%82%AC%EB%A1%80&nzq=%EB%B9%85%EB%8D%B0%EC%9D%B4%ED%84%B0&DA=NSJ\" class=\"keyword\" data-log=\"dc=NSJ&pg=1&r=11&p=1&e1=%EB%B9%85%EB%8D%B0%EC%9D%B4%ED%84%B0%20%ED%99%9C%EC%9A%A9%EC%82%AC%EB%A1%80&rc=1\">빅데이터 활용사례</a></span>\\n<span class=\"wsn\"><a href=\"?w=news&m=&q=%EB%B9%85%EB%8D%B0%EC%9D%B4%ED%84%B0%20%EA%B4%80%EB%A0%A8%EC%A3%BC&nzq=%EB%B9%85%EB%8D%B0%EC%9D%B4%ED%84%B0&DA=NSJ\" class=\"keyword\" data-log=\"dc=NSJ&pg=1&r=12&p=1&e1=%EB%B9%85%EB%8D%B0%EC%9D%B4%ED%84%B0%20%EA%B4%80%EB%A0%A8%EC%A3%BC&rc=1\">빅데이터 관련주</a></span>\\n<span class=\"wsn\"><a href=\"?w=news&m=&q=%EB%B9%85%EB%8D%B0%EC%9D%B4%ED%84%B0%20%ED%94%8C%EB%9E%AB%ED%8F%BC&nzq=%EB%B9%85%EB%8D%B0%EC%9D%B4%ED%84%B0&DA=NSJ\" class=\"keyword\" data-log=\"dc=NSJ&pg=1&r=13&p=1&e1=%EB%B9%85%EB%8D%B0%EC%9D%B4%ED%84%B0%20%ED%94%8C%EB%9E%AB%ED%8F%BC&rc=1\">빅데이터 플랫폼</a></span>\\n<span class=\"wsn\"><a href=\"?w=news&m=&q=%EB%B9%85%EB%8D%B0%EC%9D%B4%ED%84%B0%20%EA%B5%AD%EC%96%B4&nzq=%EB%B9%85%EB%8D%B0%EC%9D%B4%ED%84%B0&DA=NSJ\" class=\"keyword\" data-log=\"dc=NSJ&pg=1&r=14&p=1&e1=%EB%B9%85%EB%8D%B0%EC%9D%B4%ED%84%B0%20%EA%B5%AD%EC%96%B4&rc=1\">빅데이터 국어</a></span>\\n<span class=\"wsn\"><a href=\"?w=news&m=&q=%EB%B9%85%EB%8D%B0%EC%9D%B4%ED%84%B0%20%EC%A0%84%EB%AC%B8%EA%B0%80%20%EC%96%91%EC%84%B1%EA%B3%BC%EC%A0%95&nzq=%EB%B9%85%EB%8D%B0%EC%9D%B4%ED%84%B0&DA=NSJ\" class=\"keyword\" data-log=\"dc=NSJ&pg=1&r=15&p=1&e1=%EB%B9%85%EB%8D%B0%EC%9D%B4%ED%84%B0%20%EC%A0%84%EB%AC%B8%EA%B0%80%20%EC%96%91%EC%84%B1%EA%B3%BC%EC%A0%95&rc=1\">빅데이터 전문가 양성과정</a></span>\\n<span class=\"wsn\"><a href=\"?w=news&m=&q=%EB%B9%85%EB%8D%B0%EC%9D%B4%ED%84%B0%20%EA%B2%80%EC%83%89&nzq=%EB%B9%85%EB%8D%B0%EC%9D%B4%ED%84%B0&DA=NSJ\" class=\"keyword\" data-log=\"dc=NSJ&pg=1&r=16&p=1&e1=%EB%B9%85%EB%8D%B0%EC%9D%B4%ED%84%B0%20%EA%B2%80%EC%83%89&rc=1\">빅데이터 검색</a></span>\\n<span class=\"wsn\"><a href=\"?w=news&m=&q=%EB%B9%85%EB%8D%B0%EC%9D%B4%ED%84%B0%20%ED%9A%8C%EC%82%AC&nzq=%EB%B9%85%EB%8D%B0%EC%9D%B4%ED%84%B0&DA=NSJ\" class=\"keyword\" data-log=\"dc=NSJ&pg=1&r=17&p=1&e1=%EB%B9%85%EB%8D%B0%EC%9D%B4%ED%84%B0%20%ED%9A%8C%EC%82%AC&rc=1\">빅데이터 회사</a></span>\\n<span class=\"wsn\"><a href=\"?w=news&m=&q=%EB%B9%85%EB%8D%B0%EC%9D%B4%ED%84%B0%20%EB%89%B4%EC%8A%A4&nzq=%EB%B9%85%EB%8D%B0%EC%9D%B4%ED%84%B0&DA=NSJ\" class=\"keyword\" data-log=\"dc=NSJ&pg=1&r=18&p=1&e1=%EB%B9%85%EB%8D%B0%EC%9D%B4%ED%84%B0%20%EB%89%B4%EC%8A%A4&rc=1\">빅데이터 뉴스</a></span>\\n<span class=\"wsn\"><a href=\"?w=news&m=&q=%EB%B9%85%EB%8D%B0%EC%9D%B4%ED%84%B0%20%EA%B8%B0%EC%97%85&nzq=%EB%B9%85%EB%8D%B0%EC%9D%B4%ED%84%B0&DA=NSJ\" class=\"keyword\" data-log=\"dc=NSJ&pg=1&r=19&p=1&e1=%EB%B9%85%EB%8D%B0%EC%9D%B4%ED%84%B0%20%EA%B8%B0%EC%97%85&rc=1\">빅데이터 기업</a></span>\\n<span class=\"wsn\"><a href=\"?w=news&m=&q=%EB%B9%85%EB%8D%B0%EC%9D%B4%ED%84%B0%20%ED%95%99%EA%B3%BC&nzq=%EB%B9%85%EB%8D%B0%EC%9D%B4%ED%84%B0&DA=NSJ\" class=\"keyword\" data-log=\"dc=NSJ&pg=1&r=20&p=1&e1=%EB%B9%85%EB%8D%B0%EC%9D%B4%ED%84%B0%20%ED%95%99%EA%B3%BC&rc=1\">빅데이터 학과</a></span>\\n</div>\\n<a href=\"javascript:;\" id=\"netizen_more_btn_top\" class=\"expender hide\" data-log=\"dc=NSJ&at=func\">        <span class=\"ico_rwd\">더보기</span>\\n</a>\\n</div>\\n</div>\\n\\n\\n\\n\\n\\n\\n<div disp-attr=\\'(TAB)news\\' style=\"position: relative;\" class=\"g_comp\">\\n\\n\\n<div id=\"newsColl\"> <div class=\"cont_divider\"> <div class=\"coll_tit\"> <h2 class=\"tit\">뉴스</h2> <div class=\"info_adsch info_fairtrade\"> <a href=\"javascript:;\" class=\"ico_rwd ico_info\">서비스 안내</a> <div class=\"layer_ad\" style=\"display: none;\"> <p class=\"f_eb\">다음뉴스 안내 및 문의는 <a href=\"https://cs.daum.net/faq/63.html\" target=\"_blank\">다음뉴스 고객센터</a>를 이용해 주세요.</p> <button type=\"button\" class=\"btn_close\"><span class=\"ico_rwd ico_close_s\">서비스 안내 레이어 닫기</span></button> </div> </div> <div class=\"sort_comm\" data-option-type=\"sort\"> <a href=\"javascript:;\" class=\"btn_sort\" data-sort=\"accuracy\" data-log=\"dc=STC&pg=1&r=1&p=1&rc=1&at=func\">정확도순</a> <span class=\"ico_dot\"></span> <a href=\"javascript:;\" class=\"btn_sort\" data-sort=\"recency\" data-log=\"dc=STC&pg=1&r=1&p=2&rc=1&at=func\">최신순</a> <span class=\"ico_dot\"></span> <a href=\"javascript:;\" class=\"btn_sort\" data-sort=\"old\" data-log=\"dc=STC&pg=1&r=1&p=17&rc=1&at=func\">오래된순</a> </div> <div class=\"sub_expander\"> <span id=\"resultCntArea\" class=\"txt_info\">1-10 / 약 1,250,000건</span> <div class=\"wrap_btn\"> <a id=\"linkClusterClose\" href=\"?w=news&req=tab&q=%EB%B9%85%EB%8D%B0%EC%9D%B4%ED%84%B0&cluster=n&viewio=i&repno=0&n=10&p=1&pattern_yn=n&DA=STC\" onclick=\\'smartLog(this, \"dc=STC&pg=1&r=1&p=11&rc=1&sd=&ed=\", event);\\' ><button class=\"btn_flex\"><span class=\"inner\">관련뉴스 닫기</span></button></a> <button class=\"btn_flex btn_search_option btn_fold\"> <span class=\"inner\">검색옵션<span class=\"ico_tabopt ico_arr\">닫기</span></span> </button> </div> </div> </div> <div class=\"compo-tabopt\"> <div class=\"box_opt\"> <div class=\"menu_opt\" data-option-type=\"period\"> <a href=\"javascript:;\" class=\"tit_menu\"> <span class=\"label\">기간</span><span class=\"ico_more\">옵션더보기</span> </a> <div class=\"layer_opt\"> <ul class=\"list_opt\"> <li> <a href=\"javascript:;\" data-period=\"\" data-label=\"전체\" class=\"tit_item\" data-log=\"dc=STC&pg=1&r=1&p=3&rc=1&at=func\"> 전체 </a> </li> <li> <a href=\"javascript:;\" data-period=\"d\" data-label=\"최근 1일\" class=\"tit_item\" data-log=\"dc=STC&pg=1&r=1&p=4&rc=1&at=func\"> 최근 1일 </a> </li> <li> <a href=\"javascript:;\" data-period=\"w\" data-label=\"최근 1주\" class=\"tit_item\" data-log=\"dc=STC&pg=1&r=1&p=5&rc=1&at=func\"> 최근 1주 </a> </li> <li> <a href=\"javascript:;\" data-period=\"m\" data-label=\"최근 1개월\" class=\"tit_item\" data-log=\"dc=STC&pg=1&r=1&p=6&rc=1&at=func\"> 최근 1개월 </a> </li> <li> <a href=\"javascript:;\" data-period=\"6m\" data-label=\"최근 6개월\" class=\"tit_item\" data-log=\"dc=STC&pg=1&r=1&p=13&rc=1&at=func\"> 최근 6개월 </a> </li> <li> <a href=\"javascript:;\" data-period=\"y\" data-label=\"최근 1년\" class=\"tit_item\" data-log=\"dc=STC&pg=1&r=1&p=14&rc=1&at=func\"> 최근 1년 </a> </li> </ul> <div class=\"box_sub box_date\" data-period=\"u\"> <strong class=\"tit_other\">직접입력</strong> <div class=\"item_date\"> <input type=\"text\" title=\"검색기간 시작일\" value=\"2016.01.01\" class=\"tf_txt\" id=\"datepicker\" /> <a href=\"javascript:;\" class=\"btn_date\"> <img class=\"ui-datepicker-trigger\" src=\"https://search1.daumcdn.net/search/statics/common/pi/ico/ico_calendar.gif\" alt=\"Select date\" title=\"Select date\" /> </a> </div> <div class=\"item_date\"> <input type=\"text\" title=\"검색기간 종료일\" value=\"2016.01.01\" class=\"tf_txt\" id=\"\" /> <a href=\"javascript:;\" class=\"btn_date\"> <img class=\"ui-datepicker-trigger\" src=\"https://search1.daumcdn.net/search/statics/common/pi/ico/ico_calendar.gif\" alt=\"Select date\" title=\"Select date\" /> </a> </div> <button type=\"submit\" class=\"btn_confirm\" data-log=\"dc=STC&pg=1&r=1&p=7&rc=1&at=func\">적용</button> </div> </div> </div> <div class=\"menu_opt\" data-option-type=\"cpname\"> <a href=\"javascript:;\" class=\"tit_menu\"> <span class=\"label\">언론사</span><span class=\"ico_more\">옵션더보기</span> </a> <div class=\"layer_opt ty_news\"> <div class=\"area_head\"> <strong class=\"tit ff_dot\">언론사</strong> <span class=\"info_select\">총<em class=\"f_blue fw_b\">0</em>개 선택(최대 5개)</span> <button class=\"btn_flex btn_cp\"> <span class=\"inner\">언론사 직접입력 <span class=\"ico_tabopt ico_arr\">펼침</span></span> </button> <div class=\"layer_opt ty_findcp\"> <label class=\"lab_item\" for=\"newsCollCpInp\">언론사 직접입력</label> <div class=\"box_sub list_opt\"> <input type=\"text\" title=\"언론사입력\" value=\"\" id=\"newsCollCpInp\" class=\"tf_txt\" autocomplete=\"off\" /> <div class=\"d_sgt simple_suggest\" style=\"display: none;\"></div> <button type=\"submit\" class=\"btn_confirm\" data-log=\"dc=STC&pg=1&r=1&p=9&rc=1&at=func\">적용</button> </div> </div> </div> <div class=\"area_tab\"> <strong class=\"screen_out\">초성별 언론사 목록</strong> <ul class=\"list_tab7\"> <li class=\"on\"><a href=\"javascript:\" data-cp-category=\"ㄱ\">ㄱ</a></li> <li><a href=\"javascript:\" data-cp-category=\"ㄴ\">ㄴ</a></li> <li><a href=\"javascript:\" data-cp-category=\"ㄷ\">ㄷ</a></li> <li><a href=\"javascript:\" data-cp-category=\"ㄹ\">ㄹ</a></li> <li><a href=\"javascript:\" data-cp-category=\"ㅁ\">ㅁ</a></li> <li><a href=\"javascript:\" data-cp-category=\"ㅂ\">ㅂ</a></li> <li><a href=\"javascript:\" data-cp-category=\"ㅅ\">ㅅ</a></li> <li><a href=\"javascript:\" data-cp-category=\"ㅇ\">ㅇ</a></li> <li><a href=\"javascript:\" data-cp-category=\"ㅈ\">ㅈ</a></li> <li><a href=\"javascript:\" data-cp-category=\"ㅊ\">ㅊ</a></li> <li><a href=\"javascript:\" data-cp-category=\"ㅋ\">ㅋ</a></li> <li><a href=\"javascript:\" data-cp-category=\"ㅌ\">ㅌ</a></li> <li><a href=\"javascript:\" data-cp-category=\"ㅍ\">ㅍ</a></li> <li><a href=\"javascript:\" data-cp-category=\"ㅎ\">ㅎ</a></li> <li><a href=\"javascript:\" data-cp-category=\"기타\">기타</a></li> </ul> </div> <div class=\"area_choice\"> <strong class=\"screen_out\">언론사 선택목록</strong> </div> <div class=\"area_submit\"> <button type=\"submit\" class=\"btn_confirm\">적용</button> <button type=\"button\" class=\"btn_cancle\">취소</button> </div> </div> </div> <div class=\"menu_opt\" data-option-type=\"article_type\"> <a href=\"javascript:;\" class=\"tit_menu\"> <span class=\"label\">유형</span><span class=\"ico_more\">옵션더보기</span> </a> <div class=\"layer_opt\"> <ul class=\"list_opt\"> <li> <a href=\"javascript:;\" class=\"tit_item\" data-article_type=\"\" data-label=\"전체\" data-log=\"dc=STC&pg=1&r=1&p=20&rc=1&at=func\"> 전체 </a> </li> <li> <a href=\"javascript:;\" class=\"tit_item\" data-article_type=\"photo\" data-label=\"포토\" data-log=\"dc=STC&pg=1&r=1&p=21&rc=1&at=func\"> 포토 </a> </li> <li> <a href=\"javascript:;\" class=\"tit_item\" data-article_type=\"video\" data-label=\"동영상\" data-log=\"dc=STC&pg=1&r=1&p=22&rc=1&at=func\"> 동영상 </a> </li> <li> <a href=\"javascript:;\" class=\"tit_item\" data-article_type=\"infographic\" data-label=\"인포그래픽\" data-log=\"dc=STC&pg=1&r=1&p=23&rc=1&at=func\"> 인포그래픽 </a> </li> <li> <a href=\"javascript:;\" class=\"tit_item\" data-article_type=\"robot\" data-label=\"자동생성기사\" data-log=\"dc=STC&pg=1&r=1&p=24&rc=1&at=func\"> 자동생성기사 </a> </li> <li> <a href=\"javascript:;\" class=\"tit_item\" data-article_type=\"report\" data-label=\"보도자료\" data-log=\"dc=STC&pg=1&r=1&p=25&rc=1&at=func\"> 보도자료 </a> </li> </ul> </div> </div> <label class=\"menu_opt opt_keep\"> <input type=\"checkbox\" class=\"inp_g\" data-log=\"dc=STC&pg=1&e=1\" /><span class=\"tit_menu\"><span class=\"txt_data\">옵션유지</span></span> </label> <button type=\"button\" class=\"btn_opt btn_reset\">초기화<span class=\"ico_tabopt\"></span></button> <button type=\"button\" class=\"btn_opt btn_close\"><span class=\"ico_tabopt\">검색옵션 닫기</span></button> </div> </div> <ul class=\"list_news\"> <li> <div class=\"wrap_thumb\" id=\"news_img_0\"> <a href=\"http://v.media.daum.net/v/20220119020501044?f=o\" class=\"thumb\" onclick=\\'smartLog(this, \"dc=NNS&d=26XmtmA0ZgbPEoqFp6&pg=1&r=1&p=1&rc=10&e1=16gmjhh-4e7TNHMCYw&e3=0&ext=dsid=26XmtmA0ZgbPEoqFp6\", event, {\"cpid\": {\"value\": \"16gmjhh-4e7TNHMCYw\"}});\\' target=\"_blank\"> <img src=\"https://search1.daumcdn.net/thumb/P200x200/?fname=https%3A%2F%2Fsearch3.kakaocdn.net%2Fargon%2F200x200_85_c%2FEF4A8RgR1BG0\" class=\"thumb_img\" width=\"80\" height=\"80\" alt=\"\" data-size=\"80x80\" onerror=\"SF.errorImage(this)\"> </a> </div> <div class=\"wrap_cont\"> <a href=\"http://v.media.daum.net/v/20220119020501044?f=o\" class=\"tit_main fn_tit_u\" onclick=\\'smartLog(this, \"dc=NNS&d=26XmtmA0ZgbPEoqFp6&pg=1&r=1&p=4&rc=10&e1=16gmjhh-4e7TNHMCYw&e3=0&ext=dsid=26XmtmA0ZgbPEoqFp6\", event, {\"cpid\": {\"value\": \"16gmjhh-4e7TNHMCYw\"}});\\' target=\"_blank\">[투데이 窓]<b>빅</b><b>데이터</b>에서 미래를 읽는 통찰력</a> <p class=\"desc\">새 강자 그룹은 IT 기반 플랫폼을 보유한 기업들이다. 플랫폼의 강점은 <b>데이터</b>다. <b>데이터</b>가 모이고 유통되는 곳이 바로 플랫폼이다. <b>데이터</b>는 21세기 원유가 됐고 바야흐로 <b>빅</b><b>데이터</b> 시대를 맞게 된 것이다. 새해 벽두, 애플은 새 진기록을 세웠다. 1월4일 사상 처음...</p> <span class=\"cont_info\"> <span class=\"f_nb\">머니투데이</span> <span class=\"f_nb\">19시간전</span> <a href=\"http://v.media.daum.net/v/20220119020501044\" class=\"f_nb\" onclick=\\'smartLog(this, \"dc=NNS&d=26XmtmA0ZgbPEoqFp6&pg=1&r=1&p=3&rc=10&e1=16gmjhh-4e7TNHMCYw&e3=0&ext=dsid=26XmtmA0ZgbPEoqFp6\", event, {\"cpid\": {\"value\": \"16gmjhh-4e7TNHMCYw\"}});\\' target=\"_blank\">다음뉴스</a> </span> <span id=\"newsSQC_t1_0\" style=\"display:none;\">10301^http://v.media.daum.net/v/20220119020501044?f=o^26XmtmA0ZgbPEoqFp6^news^mediaArticle^%EB%B9%85%EB%8D%B0%EC%9D%B4%ED%84%B0^26XmtmA0ZgbPEoqFp6</span> </div> </li> <li> <div class=\"wrap_thumb\" id=\"news_img_1\"> <a href=\"http://v.media.daum.net/v/20220119162951352?f=o\" class=\"thumb\" onclick=\\'smartLog(this, \"dc=NNS&d=26h3bc56A3jX730YZ8&pg=1&r=2&p=1&rc=10&e1=16JfL24RCJKYboAM86&e3=0&ext=dsid=26h3bc56A3jX730YZ8\", event, {\"cpid\": {\"value\": \"16JfL24RCJKYboAM86\"}});\\' target=\"_blank\"> <img src=\"https://search1.daumcdn.net/thumb/P200x200/?fname=https%3A%2F%2Fsearch3.kakaocdn.net%2Fargon%2F200x200_85_c%2FESP5pGGnfoZ0\" class=\"thumb_img\" width=\"80\" height=\"80\" alt=\"\" data-size=\"80x80\" onerror=\"SF.errorImage(this)\"> </a> </div> <div class=\"wrap_cont\"> <a href=\"http://v.media.daum.net/v/20220119162951352?f=o\" class=\"tit_main fn_tit_u\" onclick=\\'smartLog(this, \"dc=NNS&d=26h3bc56A3jX730YZ8&pg=1&r=2&p=4&rc=10&e1=16JfL24RCJKYboAM86&e3=0&ext=dsid=26h3bc56A3jX730YZ8\", event, {\"cpid\": {\"value\": \"16JfL24RCJKYboAM86\"}});\\' target=\"_blank\">서초구, &#39;예측범죄지도&#39; 도입..<b>빅</b><b>데이터</b>로 위험지역 예측</a> <p class=\"desc\">기사내용 요약 <b>빅</b><b>데이터</b> 분석해 시간대별 범죄 위험 지역 집중 감시 [서울=뉴시스]서초스마트허브센터 관제사가 예측범죄지도를 이용해 모니터링하는 모습. (사진=서초구 제공). 2022.01.19. photo@newsis.com [서울=뉴시스] 조현아 기자 = 서울 서초구가 전국 최초...</p> <span class=\"cont_info\"> <span class=\"f_nb\">뉴시스</span> <span class=\"f_nb\">5시간전</span> <a href=\"http://v.media.daum.net/v/20220119162951352\" class=\"f_nb\" onclick=\\'smartLog(this, \"dc=NNS&d=26h3bc56A3jX730YZ8&pg=1&r=2&p=3&rc=10&e1=16JfL24RCJKYboAM86&e3=0&ext=dsid=26h3bc56A3jX730YZ8\", event, {\"cpid\": {\"value\": \"16JfL24RCJKYboAM86\"}});\\' target=\"_blank\">다음뉴스</a> </span> <div class=\"cont_rel\"> <dl> <dt class=\"screen_out\">관련기사</dt> <dd> <a href=\"http://v.media.daum.net/v/20220119161647890?f=o\" class=\"tit_rel f_link\" onclick=\\'smartLog(this, \"dc=NNS&d=26aXUuasuXbhm_Rww2&pg=1&r=2&p=5&rc=10&e1=16tZcm4AixcQK6HoII&e3=0&ext=dsid=26aXUuasuXbhm_Rww2&rtt=parent&rtid=26h3bc56A3jX730YZ8&rtsc=\", event, {\"cpid\": {\"value\": \"16tZcm4AixcQK6HoII\"}});\\' target=\"_blank\"> &#39;<b>빅</b><b>데이터</b>로 범죄예방&#39;..서초구, 예측범죄지도 도입 </a> <span class=\"cont_info\"> <span class=\"f_nb\">국민일보</span> <span class=\"f_nb\">5시간전</span> <a href=\"http://v.media.daum.net/v/20220119161647890\" class=\"f_nb \" target=\"_blank\" onclick=\\'smartLog(this, \"dc=NNS&d=26aXUuasuXbhm_Rww2&pg=1&r=2&p=12&rc=10&e1=16tZcm4AixcQK6HoII&e3=0&ext=dsid=26aXUuasuXbhm_Rww2&rtt=parent&rtid=26h3bc56A3jX730YZ8&rtsc=\", event, {\"cpid\": {\"value\": \"16tZcm4AixcQK6HoII\"}});\\'>다음뉴스</a> </span> </dd> <dd> <a href=\"http://v.media.daum.net/v/20220119204520608?f=o\" class=\"tit_rel f_link\" onclick=\\'smartLog(this, \"dc=NNS&d=26KsfsbYYQWsrpgOrD&pg=1&r=2&p=6&rc=10&e1=16akMkKFDu6n8GTzZr&e3=0&ext=dsid=26KsfsbYYQWsrpgOrD&rtt=parent&rtid=26h3bc56A3jX730YZ8&rtsc=\", event, {\"cpid\": {\"value\": \"16akMkKFDu6n8GTzZr\"}});\\' target=\"_blank\"> 서울 서초, <b>빅</b><b>데이터</b>로 전국 첫 &#39;예측범죄지도&#39; </a> <span class=\"cont_info\"> <span class=\"f_nb\">경향신문</span> <span class=\"f_nb\">1시간전</span> <a href=\"http://v.media.daum.net/v/20220119204520608\" class=\"f_nb \" target=\"_blank\" onclick=\\'smartLog(this, \"dc=NNS&d=26KsfsbYYQWsrpgOrD&pg=1&r=2&p=12&rc=10&e1=16akMkKFDu6n8GTzZr&e3=0&ext=dsid=26KsfsbYYQWsrpgOrD&rtt=parent&rtid=26h3bc56A3jX730YZ8&rtsc=\", event, {\"cpid\": {\"value\": \"16akMkKFDu6n8GTzZr\"}});\\'>다음뉴스</a> </span> </dd> <dd> <a href=\"http://v.media.daum.net/v/20220119093654189?f=o\" class=\"tit_rel f_link\" onclick=\\'smartLog(this, \"dc=NNS&d=26gRj9OgMuKi8Wyk3f&pg=1&r=2&p=7&rc=10&e1=16X5Xh1MWS7Qt1sMrW&e3=0&ext=dsid=26gRj9OgMuKi8Wyk3f&rtt=parent&rtid=26h3bc56A3jX730YZ8&rtsc=\", event, {\"cpid\": {\"value\": \"16X5Xh1MWS7Qt1sMrW\"}});\\' target=\"_blank\"> <b>빅</b><b>데이터</b>로 우범 지역 핀셋 관리..서초구, &#39;예측범... </a> <span class=\"cont_info\"> <span class=\"f_nb\">연합뉴스</span> <span class=\"f_nb\">12시간전</span> <a href=\"http://v.media.daum.net/v/20220119093654189\" class=\"f_nb \" target=\"_blank\" onclick=\\'smartLog(this, \"dc=NNS&d=26gRj9OgMuKi8Wyk3f&pg=1&r=2&p=12&rc=10&e1=16X5Xh1MWS7Qt1sMrW&e3=0&ext=dsid=26gRj9OgMuKi8Wyk3f&rtt=parent&rtid=26h3bc56A3jX730YZ8&rtsc=\", event, {\"cpid\": {\"value\": \"16X5Xh1MWS7Qt1sMrW\"}});\\'>다음뉴스</a> </span> </dd> </dl> <a href=\"?w=news&req=tab&q=%EB%B9%85%EB%8D%B0%EC%9D%B4%ED%84%B0&cluster=y&viewio=i&repno=0&n=10&p=1&related_page=1&cluster_docid=26h3bc56A3jX730YZ8&DA=NTB\" class=\"link_cluster f_nb\" onclick=\\'smartLog(this, \"dc=NNS&ext=dsid=26h3bc56A3jX730YZ8&d=26h3bc56A3jX730YZ8&pg=1&r=2&p=19&rc=10&e1=16JfL24RCJKYboAM86\", event);\\'> 관련뉴스 <b>5</b>건 전체보기<span class=\"ico_rwd\"></span> </a> </div> <span id=\"newsSQC_t1_1\" style=\"display:none;\">10301^http://v.media.daum.net/v/20220119162951352?f=o^26h3bc56A3jX730YZ8^news^mediaArticle^%EB%B9%85%EB%8D%B0%EC%9D%B4%ED%84%B0^26h3bc56A3jX730YZ8</span> </div> </li> <li> <div class=\"wrap_thumb\" id=\"news_img_2\"> <a href=\"http://v.media.daum.net/v/20220119141604019?f=o\" class=\"thumb\" onclick=\\'smartLog(this, \"dc=NNS&d=26mbzI-8Of_9iGngFO&pg=1&r=3&p=1&rc=10&e1=16yZfDfR_rGcw5F-P0&e3=0&ext=dsid=26mbzI-8Of_9iGngFO\", event, {\"cpid\": {\"value\": \"16yZfDfR_rGcw5F-P0\"}});\\' target=\"_blank\"> <img src=\"https://search1.daumcdn.net/thumb/P200x200/?fname=https%3A%2F%2Fsearch4.kakaocdn.net%2Fargon%2F200x200_85_c%2FEtF6eLTcQiL0\" class=\"thumb_img\" width=\"80\" height=\"80\" alt=\"\" data-size=\"80x80\" onerror=\"SF.errorImage(this)\"> </a> </div> <div class=\"wrap_cont\"> <a href=\"http://v.media.daum.net/v/20220119141604019?f=o\" class=\"tit_main fn_tit_u\" onclick=\\'smartLog(this, \"dc=NNS&d=26mbzI-8Of_9iGngFO&pg=1&r=3&p=4&rc=10&e1=16yZfDfR_rGcw5F-P0&e3=0&ext=dsid=26mbzI-8Of_9iGngFO\", event, {\"cpid\": {\"value\": \"16yZfDfR_rGcw5F-P0\"}});\\' target=\"_blank\">통화 방송 후 사흘.. 관심도 李 46 vs 尹 54 l <b>빅</b><b>데이터</b>랩</a> <p class=\"tit_sub f_nb\">尹 큰 타격 없어..부정감성 안정세 SNS에 녹취 풀린 李, 파장 불투명</p> <p class=\"desc\">그리고 지난 한 주간 온라인상 대선 관련 민심, 관심의 흐름은 어떻게 전개되고 있을까요. JTBC가 기획ㆍ개발한 <b>빅</b><b>데이터</b> 분석 플랫폼 &#39;JTBC<b>빅</b><b>데이터</b>랩&#39;이 실시간으로, 그리고 한 주간 누적으로 관심과 호감의 변화 양상을 추적합니다. 지난 16일 저녁 국민의힘...</p> <span class=\"cont_info\"> <span class=\"f_nb\">JTBC</span> <span class=\"f_nb\">7시간전</span> <a href=\"http://v.media.daum.net/v/20220119141604019\" class=\"f_nb\" onclick=\\'smartLog(this, \"dc=NNS&d=26mbzI-8Of_9iGngFO&pg=1&r=3&p=3&rc=10&e1=16yZfDfR_rGcw5F-P0&e3=0&ext=dsid=26mbzI-8Of_9iGngFO\", event, {\"cpid\": {\"value\": \"16yZfDfR_rGcw5F-P0\"}});\\' target=\"_blank\">다음뉴스</a> </span> <span id=\"newsSQC_t1_2\" style=\"display:none;\">10301^http://v.media.daum.net/v/20220119141604019?f=o^26mbzI-8Of_9iGngFO^news^mediaArticle^%EB%B9%85%EB%8D%B0%EC%9D%B4%ED%84%B0^26mbzI-8Of_9iGngFO</span> </div> </li> <li> <div class=\"wrap_thumb\" id=\"news_img_3\"> <a href=\"http://v.media.daum.net/v/20220119111204914?f=o\" class=\"thumb\" onclick=\\'smartLog(this, \"dc=NNS&d=26y9ObHxq1eLbWFDEu&pg=1&r=4&p=1&rc=10&e1=16yZfDfR_rGcw5F-P0&e3=0&ext=dsid=26y9ObHxq1eLbWFDEu\", event, {\"cpid\": {\"value\": \"16yZfDfR_rGcw5F-P0\"}});\\' target=\"_blank\"> <img src=\"https://search1.daumcdn.net/thumb/P200x200/?fname=https%3A%2F%2Fsearch4.kakaocdn.net%2Fargon%2F200x200_85_c%2FFjrwUmgNm2M0\" class=\"thumb_img\" width=\"80\" height=\"80\" alt=\"\" data-size=\"80x80\" onerror=\"SF.errorImage(this)\"> </a> </div> <div class=\"wrap_cont\"> <a href=\"http://v.media.daum.net/v/20220119111204914?f=o\" class=\"tit_main fn_tit_u\" onclick=\\'smartLog(this, \"dc=NNS&d=26y9ObHxq1eLbWFDEu&pg=1&r=4&p=4&rc=10&e1=16yZfDfR_rGcw5F-P0&e3=0&ext=dsid=26y9ObHxq1eLbWFDEu\", event, {\"cpid\": {\"value\": \"16yZfDfR_rGcw5F-P0\"}});\\' target=\"_blank\">악재 뜨면 이슈로 맞불.. 李 이번엔 &#39;TV토론 카드&#39;?ㅣ<b>빅</b><b>데이터</b>랩</a> <p class=\"tit_sub f_nb\">[주간분석] 의혹 제보자 사망..부정감성 수직상승 TV토론·통화 TV방송 이슈 뜨며 빠른 하락 전환\\'김건희\\' 논란 촉각 세운 尹, 부정감성 안정 유지단일화 한복판 安, 3자구도 굳히기 정중동 행보</p> <p class=\"desc\">언급량이 늘어났습니다. &#39;TV토론&#39;과 &#39;TV방송&#39;, 이 두 키워드가 어떻게 한 주간 대선판에서 작동했는지 함께 살펴보겠습니다. JTBC<b>빅</b><b>데이터</b>랩은 뉴스ㆍ커뮤니티ㆍ블로그 등 온라인상의 민심 동향을 추적해 분석하고 있습니다. 일주일 누적 <b>데이터</b>부터 보겠습니다...</p> <span class=\"cont_info\"> <span class=\"f_nb\">JTBC</span> <span class=\"f_nb\">10시간전</span> <a href=\"http://v.media.daum.net/v/20220119111204914\" class=\"f_nb\" onclick=\\'smartLog(this, \"dc=NNS&d=26y9ObHxq1eLbWFDEu&pg=1&r=4&p=3&rc=10&e1=16yZfDfR_rGcw5F-P0&e3=0&ext=dsid=26y9ObHxq1eLbWFDEu\", event, {\"cpid\": {\"value\": \"16yZfDfR_rGcw5F-P0\"}});\\' target=\"_blank\">다음뉴스</a> </span> <span id=\"newsSQC_t1_3\" style=\"display:none;\">10301^http://v.media.daum.net/v/20220119111204914?f=o^26y9ObHxq1eLbWFDEu^news^mediaArticle^%EB%B9%85%EB%8D%B0%EC%9D%B4%ED%84%B0^26y9ObHxq1eLbWFDEu</span> </div> </li> <li> <div class=\"wrap_thumb\" id=\"news_img_4\"> <a href=\"http://v.media.daum.net/v/20220119175403586?f=o\" class=\"thumb\" onclick=\\'smartLog(this, \"dc=NNS&d=26zZV67sYMIVQnoD_O&pg=1&r=5&p=1&rc=10&e1=16sIQ8rx97vi9RHx8w&e3=0&ext=dsid=26zZV67sYMIVQnoD_O\", event, {\"cpid\": {\"value\": \"16sIQ8rx97vi9RHx8w\"}});\\' target=\"_blank\"> <img src=\"https://search1.daumcdn.net/thumb/P200x200/?fname=https%3A%2F%2Fsearch2.kakaocdn.net%2Fargon%2F200x200_85_c%2FGJxL8XFemGs0\" class=\"thumb_img\" width=\"80\" height=\"80\" alt=\"\" data-size=\"80x80\" onerror=\"SF.errorImage(this)\"> </a> </div> <div class=\"wrap_cont\"> <a href=\"http://v.media.daum.net/v/20220119175403586?f=o\" class=\"tit_main fn_tit_u\" onclick=\\'smartLog(this, \"dc=NNS&d=26zZV67sYMIVQnoD_O&pg=1&r=5&p=4&rc=10&e1=16sIQ8rx97vi9RHx8w&e3=0&ext=dsid=26zZV67sYMIVQnoD_O\", event, {\"cpid\": {\"value\": \"16sIQ8rx97vi9RHx8w\"}});\\' target=\"_blank\">식약처, AI·<b>빅</b><b>데이터</b> 활용 수입식품 안전관리 디지털 전환</a> <p class=\"desc\">식품의약품안전처가 수입식품 안전관리에 인공지능(AI), 블록체인, <b>빅</b><b>데이터</b> 등 디지털 기술을 적극 활용한다. 식약처는 디지털 전환을 통한 수입식품 안전관리 혁신 방안을 논의하기 위해 19일 한국프레스센터에서 행정, 산업공학, 규제과학, <b>데이터</b>과학, 유통 등...</p> <span class=\"cont_info\"> <span class=\"f_nb\">전자신문</span> <span class=\"f_nb\">4시간전</span> <a href=\"http://v.media.daum.net/v/20220119175403586\" class=\"f_nb\" onclick=\\'smartLog(this, \"dc=NNS&d=26zZV67sYMIVQnoD_O&pg=1&r=5&p=3&rc=10&e1=16sIQ8rx97vi9RHx8w&e3=0&ext=dsid=26zZV67sYMIVQnoD_O\", event, {\"cpid\": {\"value\": \"16sIQ8rx97vi9RHx8w\"}});\\' target=\"_blank\">다음뉴스</a> </span> <span id=\"newsSQC_t1_4\" style=\"display:none;\">10301^http://v.media.daum.net/v/20220119175403586?f=o^26zZV67sYMIVQnoD_O^news^mediaArticle^%EB%B9%85%EB%8D%B0%EC%9D%B4%ED%84%B0^26zZV67sYMIVQnoD_O</span> </div> </li> <li> <div class=\"wrap_thumb\" id=\"news_img_5\"> <a href=\"https://cp.news.search.daum.net/p/115221091\" class=\"thumb\" onclick=\\'smartLog(this, \"dc=NNS&d=26b1FEjT17OuKKxODr&pg=1&r=6&p=1&rc=10&e1=16LF73daRP8xmsgeQs&e3=0&ext=dsid=26b1FEjT17OuKKxODr\", event, {\"cpid\": {\"value\": \"16LF73daRP8xmsgeQs\"}});\\' target=\"_blank\"> <img src=\"https://search1.daumcdn.net/thumb/P200x200/?fname=https%3A%2F%2Fsearch4.kakaocdn.net%2Fargon%2F200x200_85_c%2F7PHZ1pcBCiu0\" class=\"thumb_img\" width=\"80\" height=\"80\" alt=\"\" data-size=\"80x80\" onerror=\"SF.errorImage(this)\"> </a> </div> <div class=\"wrap_cont\"> <a href=\"https://cp.news.search.daum.net/p/115221091\" class=\"tit_main fn_tit_u\" onclick=\\'smartLog(this, \"dc=NNS&d=26b1FEjT17OuKKxODr&pg=1&r=6&p=4&rc=10&e1=16LF73daRP8xmsgeQs&e3=0&ext=dsid=26b1FEjT17OuKKxODr\", event, {\"cpid\": {\"value\": \"16LF73daRP8xmsgeQs\"}});\\' target=\"_blank\">식품업계, <b>데이터</b>가 경영 성패 가른다…<b>빅</b><b>데이터</b> 사업에 투자</a> <p class=\"desc\"><b>데이터</b>를 활용해 소비자들의 라이프스타일과 소비 패턴을 분석, 이를 제품 개발에 적용하고 있는 것. 특히 급식 ·식자재 기업이 <b>빅</b><b>데이터</b> 경영에 주력하고 있다. 풀무원의 계열사 풀무원푸드앤컬처는 KT와 손잡과 &#39;DX 기반의 주방 스마트화 공동연구&#39;에 대한 업무...</p> <span class=\"cont_info\"> <span class=\"f_nb\">메트로신문</span> <span class=\"f_nb\">6시간전</span> </span> <span id=\"newsSQC_t1_5\" style=\"display:none;\">10301^https://cp.news.search.daum.net/p/115221091^26b1FEjT17OuKKxODr^news^mediaArticle^%EB%B9%85%EB%8D%B0%EC%9D%B4%ED%84%B0^26b1FEjT17OuKKxODr</span> </div> </li> <li> <div class=\"wrap_cont\"> <a href=\"https://cp.news.search.daum.net/p/115226578\" class=\"tit_main fn_tit_u\" onclick=\\'smartLog(this, \"dc=NNS&d=26t5SXnHfdzRmBu4Fm&pg=1&r=7&p=4&rc=10&e1=16UxjjUfNJGPNS88Hf&e3=0&ext=dsid=26t5SXnHfdzRmBu4Fm\", event, {\"cpid\": {\"value\": \"16UxjjUfNJGPNS88Hf\"}});\\' target=\"_blank\">도 <b>빅</b><b>데이터</b>위원회 개최…올해 경기도 마이<b>데이터</b> 플랫폼 개시</a> <p class=\"desc\">활용, 관리할 수 있는 ‘경기도 마이<b>데이터</b> 플랫폼’ 서비스를 시작한다. 경기도는 18일 수원시 경기도RDB센터에서 2022년 <b>빅</b><b>데이터</b>위원회 제1차 회의를 개최했다. 위원회에서는 위원장(공병훈 협성대 교수)을 포함해 당연직·위촉직 위원 등 총 12명이 참석한...</p> <span class=\"cont_info\"> <span class=\"f_nb\">시대일보</span> <span class=\"f_nb\">7시간전</span> </span> <div class=\"cont_rel\"> <dl> <dt class=\"screen_out\">관련기사</dt> <dd> <a href=\"https://cp.news.search.daum.net/p/115196941\" class=\"tit_rel f_link\" onclick=\\'smartLog(this, \"dc=NNS&d=26mK3VUZFj_ewTRyDt&pg=1&r=7&p=5&rc=10&e1=16f1vm5c5x21P9AOye&e3=0&ext=dsid=26mK3VUZFj_ewTRyDt&rtt=parent&rtid=26t5SXnHfdzRmBu4Fm&rtsc=\", event, {\"cpid\": {\"value\": \"16f1vm5c5x21P9AOye\"}});\\' target=\"_blank\"> 경기도,도 <b>빅</b><b>데이터</b>위원회 개최…올해 경기도 마이... </a> <span class=\"cont_info\"> <span class=\"f_nb\">경인투데이뉴스</span> <span class=\"f_nb\">13시간전</span> </span> </dd> <dd> <a href=\"https://cp.news.search.daum.net/p/115183542\" class=\"tit_rel f_link\" onclick=\\'smartLog(this, \"dc=NNS&d=26c9JifCMF1WHyENKg&pg=1&r=7&p=6&rc=10&e1=16yB_iNR1sCrGCnSL8&e3=0&ext=dsid=26c9JifCMF1WHyENKg&rtt=parent&rtid=26t5SXnHfdzRmBu4Fm&rtsc=\", event, {\"cpid\": {\"value\": \"16yB_iNR1sCrGCnSL8\"}});\\' target=\"_blank\"> 경기도 <b>빅</b><b>데이터</b>위원회 개최 </a> <span class=\"cont_info\"> <span class=\"f_nb\">브릿지경제신문</span> <span class=\"f_nb\">2022.01.18</span> </span> </dd> <dd> <a href=\"https://cp.news.search.daum.net/p/115191430\" class=\"tit_rel f_link\" onclick=\\'smartLog(this, \"dc=NNS&d=265AMn8cnJMQzIlKGO&pg=1&r=7&p=7&rc=10&e1=16qXU7hcnoMF-JoP0A&e3=0&ext=dsid=265AMn8cnJMQzIlKGO&rtt=parent&rtid=26t5SXnHfdzRmBu4Fm&rtsc=\", event, {\"cpid\": {\"value\": \"16qXU7hcnoMF-JoP0A\"}});\\' target=\"_blank\"> 경기도 <b>빅</b><b>데이터</b>위원회 개최… 올해 마이<b>데이터</b> 플... </a> <span class=\"cont_info\"> <span class=\"f_nb\">엔디엔뉴스</span> <span class=\"f_nb\">2022.01.18</span> </span> </dd> </dl> <a href=\"?w=news&req=tab&q=%EB%B9%85%EB%8D%B0%EC%9D%B4%ED%84%B0&cluster=y&viewio=i&repno=0&n=10&p=1&related_page=1&cluster_docid=26t5SXnHfdzRmBu4Fm&DA=NTB\" class=\"link_cluster f_nb\" onclick=\\'smartLog(this, \"dc=NNS&ext=dsid=26t5SXnHfdzRmBu4Fm&d=26t5SXnHfdzRmBu4Fm&pg=1&r=7&p=19&rc=10&e1=16UxjjUfNJGPNS88Hf\", event);\\'> 관련뉴스 <b>27</b>건 전체보기<span class=\"ico_rwd\"></span> </a> </div> <span id=\"newsSQC_t1_6\" style=\"display:none;\">10301^https://cp.news.search.daum.net/p/115226578^26t5SXnHfdzRmBu4Fm^news^mediaArticle^%EB%B9%85%EB%8D%B0%EC%9D%B4%ED%84%B0^26t5SXnHfdzRmBu4Fm</span> </div> </li> <li> <div class=\"wrap_thumb\" id=\"news_img_7\"> <a href=\"https://cp.news.search.daum.net/p/115217602\" class=\"thumb\" onclick=\\'smartLog(this, \"dc=NNS&d=26rwlx6n9cBaL-TjJ8&pg=1&r=8&p=1&rc=10&e1=16-808bNca9PmxuGza&e3=0&ext=dsid=26rwlx6n9cBaL-TjJ8\", event, {\"cpid\": {\"value\": \"16-808bNca9PmxuGza\"}});\\' target=\"_blank\"> <img src=\"https://search1.daumcdn.net/thumb/P200x200/?fname=https%3A%2F%2Fsearch1.kakaocdn.net%2Fargon%2F200x200_85_c%2FDpHwEn6Fpdy0\" class=\"thumb_img\" width=\"80\" height=\"80\" alt=\"\" data-size=\"80x80\" onerror=\"SF.errorImage(this)\"> </a> </div> <div class=\"wrap_cont\"> <a href=\"https://cp.news.search.daum.net/p/115217602\" class=\"tit_main fn_tit_u\" onclick=\\'smartLog(this, \"dc=NNS&d=26rwlx6n9cBaL-TjJ8&pg=1&r=8&p=4&rc=10&e1=16-808bNca9PmxuGza&e3=0&ext=dsid=26rwlx6n9cBaL-TjJ8\", event, {\"cpid\": {\"value\": \"16-808bNca9PmxuGza\"}});\\' target=\"_blank\">[칼럼] 올해 <b>빅</b><b>데이터</b> 정책 특화교육 디지털 전환 촉진</a> <p class=\"desc\">경기도는 <b>데이터</b> 기반의 산업 혁신과 디지털로 전환 촉진 기반을 마련하기 위해 노력하고 있다”라며 “<b>빅</b><b>데이터</b>위원회에서 논의된 사항을 바탕으로 <b>데이터</b> 기반 혁신 사업을 성공적으로 추진하기 위해 최선을 다하겠다. 그러면서 경기도는 도정의 디지털전환과...</p> <span class=\"cont_info\"> <span class=\"f_nb\">케이에스피뉴스</span> <span class=\"f_nb\">7시간전</span> </span> <span id=\"newsSQC_t1_7\" style=\"display:none;\">10301^https://cp.news.search.daum.net/p/115217602^26rwlx6n9cBaL-TjJ8^news^mediaArticle^%EB%B9%85%EB%8D%B0%EC%9D%B4%ED%84%B0^26rwlx6n9cBaL-TjJ8</span> </div> </li> <li> <div class=\"wrap_cont\"> <a href=\"http://v.media.daum.net/v/20220119180600001?f=o\" class=\"tit_main fn_tit_u\" onclick=\\'smartLog(this, \"dc=NNS&d=26lD6xjiu28aLMbLgk&pg=1&r=9&p=4&rc=10&e1=16O8sbGdUflWYlfqu4&e3=0&ext=dsid=26lD6xjiu28aLMbLgk\", event, {\"cpid\": {\"value\": \"16O8sbGdUflWYlfqu4\"}});\\' target=\"_blank\">서초구, <b>빅</b><b>데이터</b>로 우범지역 찾고 행인 손동작으로 범죄가능성 잡는다</a> <p class=\"tit_sub f_nb\">빅데이터 기반 \\'예측범죄지도 시스템\\' 개발</p> <p class=\"desc\">`예측범죄지도 시스템`상에 위험도에 따라 색이 칠해진 모습 [사진 제공 = 서초구] 서초구가 범죄 가능성이 높은 지역을 <b>빅</b><b>데이터</b>로 예측해 집중 감시하는 &#39;예측범죄지도 시스템&#39;을 개발 운영한다. 밤늦게 혼자 가는 여성을 쫓아가는 남성의 손동작, 표정, 몸짓을...</p> <span class=\"cont_info\"> <span class=\"f_nb\">매일경제</span> <span class=\"f_nb\">3시간전</span> <a href=\"http://v.media.daum.net/v/20220119180600001\" class=\"f_nb\" onclick=\\'smartLog(this, \"dc=NNS&d=26lD6xjiu28aLMbLgk&pg=1&r=9&p=3&rc=10&e1=16O8sbGdUflWYlfqu4&e3=0&ext=dsid=26lD6xjiu28aLMbLgk\", event, {\"cpid\": {\"value\": \"16O8sbGdUflWYlfqu4\"}});\\' target=\"_blank\">다음뉴스</a> </span> <span id=\"newsSQC_t1_8\" style=\"display:none;\">10301^http://v.media.daum.net/v/20220119180600001?f=o^26lD6xjiu28aLMbLgk^news^mediaArticle^%EB%B9%85%EB%8D%B0%EC%9D%B4%ED%84%B0^26lD6xjiu28aLMbLgk</span> </div> </li> <li> <div class=\"wrap_thumb\" id=\"news_img_9\"> <a href=\"https://cp.news.search.daum.net/p/115223767\" class=\"thumb\" onclick=\\'smartLog(this, \"dc=NNS&d=26ghfgLljt53VR1Epm&pg=1&r=10&p=1&rc=10&e1=168uS3odpcBbD48pR3&e3=0&ext=dsid=26ghfgLljt53VR1Epm\", event, {\"cpid\": {\"value\": \"168uS3odpcBbD48pR3\"}});\\' target=\"_blank\"> <img src=\"https://search1.daumcdn.net/thumb/P200x200/?fname=https%3A%2F%2Fsearch1.kakaocdn.net%2Fargon%2F200x200_85_c%2FKMgLbzdQNOv0\" class=\"thumb_img\" width=\"80\" height=\"80\" alt=\"\" data-size=\"80x80\" onerror=\"SF.errorImage(this)\"> </a> </div> <div class=\"wrap_cont\"> <a href=\"https://cp.news.search.daum.net/p/115223767\" class=\"tit_main fn_tit_u\" onclick=\\'smartLog(this, \"dc=NNS&d=26ghfgLljt53VR1Epm&pg=1&r=10&p=4&rc=10&e1=168uS3odpcBbD48pR3&e3=0&ext=dsid=26ghfgLljt53VR1Epm\", event, {\"cpid\": {\"value\": \"168uS3odpcBbD48pR3\"}});\\' target=\"_blank\">최저임금 여론 분석을 <b>빅</b><b>데이터</b>로?...&#34;새로운 시도지만 활용도 낮아&#34;</a> <p class=\"desc\">회의에 2022년도 적용 최저임금이 9160원으로 의결됐다는 내용이 표시돼 있다. (사진=뉴시스) 최저임금위원회(최저임금위)에서 <b>빅</b><b>데이터</b>를 통해 여론을 분석하자는 연구가 진행됐지만 적극적인 활용은 어려울 것이라는 전망이 나왔다. 최저임금위는 <b>빅</b><b>데이터</b> 활용...</p> <span class=\"cont_info\"> <span class=\"f_nb\">월간 노동법률</span> <span class=\"f_nb\">5시간전</span> </span> <span id=\"newsSQC_t1_9\" style=\"display:none;\">10301^https://cp.news.search.daum.net/p/115223767^26ghfgLljt53VR1Epm^news^mediaArticle^%EB%B9%85%EB%8D%B0%EC%9D%B4%ED%84%B0^26ghfgLljt53VR1Epm</span> </div> </li> </ul> </div> <div class=\"paging_comm\"></div> <div class=\"result_message mg_cont hide\"> <p class=\"f_eb message\"> 효과적으로 검색결과를 확인하실 수 있도록, 유사한 기사를 묶은 검색결과를 제공하고 있습니다.<br> 이 때문에 페이지 수에 변화가 있을 수 있습니다.<br> 원하시면 클러스터링되지 않은 결과를 확인하실 수 있습니다. &nbsp;<a href=\"?w=news&req=tab&q=%EB%B9%85%EB%8D%B0%EC%9D%B4%ED%84%B0&cluster=n&viewio=i&repno=0&n=10&p=1&pattern_yn=n&DA=NNS\" class=\"f_link_u\">클러스터링되지 않은 결과보기</a> </p> </div> </div> <div id=\"tabNoResultArea\" class=\"hide\"></div> <script src=\"//search1.daumcdn.net/search/statics/common/js/fe/tot-search-collection/nns/p/news.nns.20211217152147.min.js\"></script> <script> var nnsNews = new C.nnsNews({ selector: { wrapperId: \"newsColl\", sameNameSelectBox: \"#selectSamename\", searchOption: { container: \".box_opt\", button: \".sub_expander .btn_search_option\", periodContainer: \\'div[data-option-type=\"period\"]\\', keepOptionButton: \".opt_keep input.inp_g\", closeButton: \".box_opt .btn_close\", resetButton: \".box_opt .btn_reset\", optionButton: \".menu_opt .tit_menu\", selectOptionLabel: \".tit_menu .label\", }, cpSuggest: { cpButton: \".btn_cp\", container: \\'div[data-option-type=\"cpname\"]\\', input: \"#newsCollCpInp\", layerSuggest: \".simple_suggest\", confirmButton: \".list_opt .btn_confirm\", label: \".tit_menu .label\", }, cpCategory: { container: \\'div[data-option-type=\"cpname\"]\\', categoryButton: \"a[data-cp-category]\", itemContainer: \".area_choice\", submitButton: \".area_submit .btn_confirm\", resetButton: \".area_submit .btn_cancle\", countLabel: \\'.info_select .fw_b\\', }, serviceInfoLayer: { container: \".coll_tit .info_fairtrade\", button: \".ico_info\", layer: \".layer_ad\", closeButton: \".btn_close\", }, }, api: { cpSuggest: \\'https://dapi.kakao.com/suggest-hub/v1/search.json?service=news-cpinfo&format=json&cate=\\', cpCategory: { qsearch: { cpinfo_req: \\'y\\', cp_initial: \\'\\', w: \\'news\\' } } }, data: { searchOption: { resetParam: { sd: \"\", ed: \"\", cp: \"\", sort: \"\", period: \"\", p: \"\", cpname: \"\", cluster: \"\", cluster_docid: \"\", article_type: \"\", }, }, paging: { displayCount: 10, totalCount: 710, currentPage: 1, wrapper: \".paging_comm\", pageName: \"p\", code: {}, }, }, logs: { suggestUserInput: \"dc=STC&pg=1&r=1&p=9&rc=1&at=func\", samenameSelTotal: \"dc=NNS&pg=1&r=1&p=20&rc=1&at=func\", samenameSelPerson: \"dc=NNS&pg=1&r=1&p=21&rc=1&at=func\", cpSelect: \"dc=STC&pg=1&r=1&p=16&rc=1&at=func\", }, }); nnsNews.init(); </script>\\n</div>\\n\\n\\n<div class=\"line\"></div><hr/>\\n\\n\\n\\n\\n\\n\\n\\n\\n\\n\\n\\n\\n\\n\\n\\n\\n\\n<div disp-attr=\\'DCC\\'>\\n\\n\\n<div id=\"netizenColl_bottom\" class=\"section_related\">\\n<div id=\"netizen_lists_bottom\" class=\"list_keyword type2\" data-w=\"news\">\\n<h2 class=\"tit\">\\n관련 <span class=\"screen_out\">검색어</span>\\n</h2>\\n<span class=\"wsn\"><a href=\"?w=news&m=&q=%EB%B9%85%EB%8D%B0%EC%9D%B4%ED%84%B0%EB%9E%80&nzq=%EB%B9%85%EB%8D%B0%EC%9D%B4%ED%84%B0&DA=DCC\" class=\"keyword\" data-log=\"dc=DCC&pg=1&r=1&p=1&e1=%EB%B9%85%EB%8D%B0%EC%9D%B4%ED%84%B0%EB%9E%80&rc=1\">빅데이터란</a></span>\\n<span class=\"wsn\"><a href=\"?w=news&m=&q=%EB%B9%85%EB%8D%B0%EC%9D%B4%ED%84%B0%20%EC%A0%84%EB%AC%B8%EA%B0%80&nzq=%EB%B9%85%EB%8D%B0%EC%9D%B4%ED%84%B0&DA=DCC\" class=\"keyword\" data-log=\"dc=DCC&pg=1&r=2&p=1&e1=%EB%B9%85%EB%8D%B0%EC%9D%B4%ED%84%B0%20%EC%A0%84%EB%AC%B8%EA%B0%80&rc=1\">빅데이터 전문가</a></span>\\n<span class=\"wsn\"><a href=\"?w=news&m=&q=%EB%B9%85%EB%8D%B0%EC%9D%B4%ED%84%B0%20%EB%B6%84%EC%84%9D&nzq=%EB%B9%85%EB%8D%B0%EC%9D%B4%ED%84%B0&DA=DCC\" class=\"keyword\" data-log=\"dc=DCC&pg=1&r=3&p=1&e1=%EB%B9%85%EB%8D%B0%EC%9D%B4%ED%84%B0%20%EB%B6%84%EC%84%9D&rc=1\">빅데이터 분석</a></span>\\n<span class=\"wsn\"><a href=\"?w=news&m=&q=%EB%B9%85%EB%8D%B0%EC%9D%B4%ED%84%B0%20%EB%B6%84%EC%84%9D%EA%B8%B0%EC%82%AC&nzq=%EB%B9%85%EB%8D%B0%EC%9D%B4%ED%84%B0&DA=DCC\" class=\"keyword\" data-log=\"dc=DCC&pg=1&r=4&p=1&e1=%EB%B9%85%EB%8D%B0%EC%9D%B4%ED%84%B0%20%EB%B6%84%EC%84%9D%EA%B8%B0%EC%82%AC&rc=1\">빅데이터 분석기사</a></span>\\n<span class=\"wsn\"><a href=\"?w=news&m=&q=%EB%B9%85%EB%8D%B0%EC%9D%B4%ED%84%B0%20%EB%9C%BB&nzq=%EB%B9%85%EB%8D%B0%EC%9D%B4%ED%84%B0&DA=DCC\" class=\"keyword\" data-log=\"dc=DCC&pg=1&r=5&p=1&e1=%EB%B9%85%EB%8D%B0%EC%9D%B4%ED%84%B0%20%EB%9C%BB&rc=1\">빅데이터 뜻</a></span>\\n<span class=\"wsn\"><a href=\"?w=news&m=&q=%EB%B9%85%EB%8D%B0%EC%9D%B4%ED%84%B0%20%EC%9E%90%EA%B2%A9%EC%A6%9D&nzq=%EB%B9%85%EB%8D%B0%EC%9D%B4%ED%84%B0&DA=DCC\" class=\"keyword\" data-log=\"dc=DCC&pg=1&r=6&p=1&e1=%EB%B9%85%EB%8D%B0%EC%9D%B4%ED%84%B0%20%EC%9E%90%EA%B2%A9%EC%A6%9D&rc=1\">빅데이터 자격증</a></span>\\n<span class=\"wsn\"><a href=\"?w=news&m=&q=%EB%8B%A4%EC%9D%8C%20%EB%B9%85%EB%8D%B0%EC%9D%B4%ED%84%B0&nzq=%EB%B9%85%EB%8D%B0%EC%9D%B4%ED%84%B0&DA=DCC\" class=\"keyword\" data-log=\"dc=DCC&pg=1&r=7&p=1&e1=%EB%8B%A4%EC%9D%8C%20%EB%B9%85%EB%8D%B0%EC%9D%B4%ED%84%B0&rc=1\">다음 빅데이터</a></span>\\n<span class=\"wsn\"><a href=\"?w=news&m=&q=%EB%B9%85%EB%8D%B0%EC%9D%B4%ED%84%B0%20%EA%B5%90%EC%9C%A1&nzq=%EB%B9%85%EB%8D%B0%EC%9D%B4%ED%84%B0&DA=DCC\" class=\"keyword\" data-log=\"dc=DCC&pg=1&r=8&p=1&e1=%EB%B9%85%EB%8D%B0%EC%9D%B4%ED%84%B0%20%EA%B5%90%EC%9C%A1&rc=1\">빅데이터 교육</a></span>\\n<span class=\"wsn\"><a href=\"?w=news&m=&q=%EB%B9%85%EB%8D%B0%EC%9D%B4%ED%84%B0%20%EC%B1%85&nzq=%EB%B9%85%EB%8D%B0%EC%9D%B4%ED%84%B0&DA=DCC\" class=\"keyword\" data-log=\"dc=DCC&pg=1&r=9&p=1&e1=%EB%B9%85%EB%8D%B0%EC%9D%B4%ED%84%B0%20%EC%B1%85&rc=1\">빅데이터 책</a></span>\\n<span class=\"wsn\"><a href=\"?w=news&m=&q=%EB%B9%85%EB%8D%B0%EC%9D%B4%ED%84%B0%20%ED%99%9C%EC%9A%A9&nzq=%EB%B9%85%EB%8D%B0%EC%9D%B4%ED%84%B0&DA=DCC\" class=\"keyword\" data-log=\"dc=DCC&pg=1&r=10&p=1&e1=%EB%B9%85%EB%8D%B0%EC%9D%B4%ED%84%B0%20%ED%99%9C%EC%9A%A9&rc=1\">빅데이터 활용</a></span>\\n<span class=\"wsn\"><a href=\"?w=news&m=&q=%EB%B9%85%EB%8D%B0%EC%9D%B4%ED%84%B0%20%ED%99%9C%EC%9A%A9%EC%82%AC%EB%A1%80&nzq=%EB%B9%85%EB%8D%B0%EC%9D%B4%ED%84%B0&DA=DCC\" class=\"keyword\" data-log=\"dc=DCC&pg=1&r=11&p=1&e1=%EB%B9%85%EB%8D%B0%EC%9D%B4%ED%84%B0%20%ED%99%9C%EC%9A%A9%EC%82%AC%EB%A1%80&rc=1\">빅데이터 활용사례</a></span>\\n<span class=\"wsn\"><a href=\"?w=news&m=&q=%EB%B9%85%EB%8D%B0%EC%9D%B4%ED%84%B0%20%EA%B4%80%EB%A0%A8%EC%A3%BC&nzq=%EB%B9%85%EB%8D%B0%EC%9D%B4%ED%84%B0&DA=DCC\" class=\"keyword\" data-log=\"dc=DCC&pg=1&r=12&p=1&e1=%EB%B9%85%EB%8D%B0%EC%9D%B4%ED%84%B0%20%EA%B4%80%EB%A0%A8%EC%A3%BC&rc=1\">빅데이터 관련주</a></span>\\n<span class=\"wsn\"><a href=\"?w=news&m=&q=%EB%B9%85%EB%8D%B0%EC%9D%B4%ED%84%B0%20%ED%94%8C%EB%9E%AB%ED%8F%BC&nzq=%EB%B9%85%EB%8D%B0%EC%9D%B4%ED%84%B0&DA=DCC\" class=\"keyword\" data-log=\"dc=DCC&pg=1&r=13&p=1&e1=%EB%B9%85%EB%8D%B0%EC%9D%B4%ED%84%B0%20%ED%94%8C%EB%9E%AB%ED%8F%BC&rc=1\">빅데이터 플랫폼</a></span>\\n<span class=\"wsn\"><a href=\"?w=news&m=&q=%EB%B9%85%EB%8D%B0%EC%9D%B4%ED%84%B0%20%EA%B5%AD%EC%96%B4&nzq=%EB%B9%85%EB%8D%B0%EC%9D%B4%ED%84%B0&DA=DCC\" class=\"keyword\" data-log=\"dc=DCC&pg=1&r=14&p=1&e1=%EB%B9%85%EB%8D%B0%EC%9D%B4%ED%84%B0%20%EA%B5%AD%EC%96%B4&rc=1\">빅데이터 국어</a></span>\\n<span class=\"wsn\"><a href=\"?w=news&m=&q=%EB%B9%85%EB%8D%B0%EC%9D%B4%ED%84%B0%20%EC%A0%84%EB%AC%B8%EA%B0%80%20%EC%96%91%EC%84%B1%EA%B3%BC%EC%A0%95&nzq=%EB%B9%85%EB%8D%B0%EC%9D%B4%ED%84%B0&DA=DCC\" class=\"keyword\" data-log=\"dc=DCC&pg=1&r=15&p=1&e1=%EB%B9%85%EB%8D%B0%EC%9D%B4%ED%84%B0%20%EC%A0%84%EB%AC%B8%EA%B0%80%20%EC%96%91%EC%84%B1%EA%B3%BC%EC%A0%95&rc=1\">빅데이터 전문가 양성과정</a></span>\\n<span class=\"wsn\"><a href=\"?w=news&m=&q=%EB%B9%85%EB%8D%B0%EC%9D%B4%ED%84%B0%20%EA%B2%80%EC%83%89&nzq=%EB%B9%85%EB%8D%B0%EC%9D%B4%ED%84%B0&DA=DCC\" class=\"keyword\" data-log=\"dc=DCC&pg=1&r=16&p=1&e1=%EB%B9%85%EB%8D%B0%EC%9D%B4%ED%84%B0%20%EA%B2%80%EC%83%89&rc=1\">빅데이터 검색</a></span>\\n<span class=\"wsn\"><a href=\"?w=news&m=&q=%EB%B9%85%EB%8D%B0%EC%9D%B4%ED%84%B0%20%ED%9A%8C%EC%82%AC&nzq=%EB%B9%85%EB%8D%B0%EC%9D%B4%ED%84%B0&DA=DCC\" class=\"keyword\" data-log=\"dc=DCC&pg=1&r=17&p=1&e1=%EB%B9%85%EB%8D%B0%EC%9D%B4%ED%84%B0%20%ED%9A%8C%EC%82%AC&rc=1\">빅데이터 회사</a></span>\\n<span class=\"wsn\"><a href=\"?w=news&m=&q=%EB%B9%85%EB%8D%B0%EC%9D%B4%ED%84%B0%20%EB%89%B4%EC%8A%A4&nzq=%EB%B9%85%EB%8D%B0%EC%9D%B4%ED%84%B0&DA=DCC\" class=\"keyword\" data-log=\"dc=DCC&pg=1&r=18&p=1&e1=%EB%B9%85%EB%8D%B0%EC%9D%B4%ED%84%B0%20%EB%89%B4%EC%8A%A4&rc=1\">빅데이터 뉴스</a></span>\\n<span class=\"wsn\"><a href=\"?w=news&m=&q=%EB%B9%85%EB%8D%B0%EC%9D%B4%ED%84%B0%20%EA%B8%B0%EC%97%85&nzq=%EB%B9%85%EB%8D%B0%EC%9D%B4%ED%84%B0&DA=DCC\" class=\"keyword\" data-log=\"dc=DCC&pg=1&r=19&p=1&e1=%EB%B9%85%EB%8D%B0%EC%9D%B4%ED%84%B0%20%EA%B8%B0%EC%97%85&rc=1\">빅데이터 기업</a></span>\\n<span class=\"wsn\"><a href=\"?w=news&m=&q=%EB%B9%85%EB%8D%B0%EC%9D%B4%ED%84%B0%20%ED%95%99%EA%B3%BC&nzq=%EB%B9%85%EB%8D%B0%EC%9D%B4%ED%84%B0&DA=DCC\" class=\"keyword\" data-log=\"dc=DCC&pg=1&r=20&p=1&e1=%EB%B9%85%EB%8D%B0%EC%9D%B4%ED%84%B0%20%ED%95%99%EA%B3%BC&rc=1\">빅데이터 학과</a></span>\\n</div>\\n<a href=\"javascript:;\" id=\"netizen_more_btn_bottom\" class=\"expender hide\" data-log=\"dc=DCC&at=func\">        <span class=\"ico_rwd\">더보기</span>\\n</a>\\n</div>\\n</div>\\n\\n\\n\\n\\n\\n\\n</div> <!-- // inner_article -->\\n</article> <!-- // mArticle -->\\n\\n<aside id=\"mAside\">\\n\\n\\n\\n\\n<div disp-attr=\\'R10\\' class=\"g_comp_s\">\\n\\n\\n<div id=\"randomCategoryColl\" class=\"content_realtime\"> <div class=\"coll_tit\"> <h2 class=\"tit\">분야별 검색어</h2> <div class=\"mg_expander\"><span class=\"f_nb\">01.19. 22:00</span></div> </div> <div id=\"randomCategoryCollDetail\" class=\"coll_cont\"> <div class=\"tab_comp tab_box\"> <ul id=\"rtissue_categories\" class=\"list_tab tab_size3\"> <li class=\\'on\\'><a class=\"tab_tit\" href=\"javascript:;\" onclick=\"C.randomCategoryColl.switchTab(0, \\'R10\\', event)\"><span class=\"inner_tit\">공연</span></a></li> <li ><a class=\"tab_tit\" href=\"javascript:;\" onclick=\"C.randomCategoryColl.switchTab(1, \\'R13\\', event)\"><span class=\"inner_tit\">콘서트</span></a></li> <li ><a class=\"tab_tit\" href=\"javascript:;\" onclick=\"C.randomCategoryColl.switchTab(2, \\'R12\\', event)\"><span class=\"inner_tit\">연극</span></a></li> </ul> </div> <div class=\"wrap_rank\" > <ol class=\"list_rank\"> <li> <div class=\"inner_item\"> <span class=\"num_rank\">1</span> <span class=\"keyword_rank\"><a href=\"?w=tot&DA=R10&q=%EA%B0%80%EC%84%B8%EC%97%B0%20%EC%BD%98%EC%84%9C%ED%8A%B8&rtmaxcoll=OUJ,CJK&scckey=PY||204916\" class=\"link_txt\" onclick=\"smartLog(this,\\'dc=R10&pg=1&at=link&rc=10&p=1&r=1\\',event);\">가세연 콘서트</a></span> </div> </li> <li> <div class=\"inner_item\"> <span class=\"num_rank\">2</span> <span class=\"keyword_rank\"><a href=\"?w=tot&DA=R10&q=%EB%AF%B8%EC%8A%A4%ED%8A%B8%EB%A1%AF2%20TOP4%20%EC%BD%98%EC%84%9C%ED%8A%B8&rtmaxcoll=OUJ,CJK&scckey=PY||205113\" class=\"link_txt\" onclick=\"smartLog(this,\\'dc=R10&pg=1&at=link&rc=10&p=1&r=2\\',event);\">미스트롯2 TOP4 콘서트</a></span> </div> </li> <li> <div class=\"inner_item\"> <span class=\"num_rank\">3</span> <span class=\"keyword_rank\"><a href=\"?w=tot&DA=R10&q=%EB%A0%88%EB%B2%A0%EC%B9%B4&rtmaxcoll=OUJ,CJK&scckey=PY||203094\" class=\"link_txt\" onclick=\"smartLog(this,\\'dc=R10&pg=1&at=link&rc=10&p=1&r=3\\',event);\">레베카</a></span> </div> </li> <li> <div class=\"inner_item\"> <span class=\"num_rank\">4</span> <span class=\"keyword_rank\"><a href=\"?w=tot&DA=R10&q=%EC%A7%80%ED%82%AC%20%EC%95%A4%20%ED%95%98%EC%9D%B4%EB%93%9C&rtmaxcoll=OUJ,CJK&scckey=PY||202559\" class=\"link_txt\" onclick=\"smartLog(this,\\'dc=R10&pg=1&at=link&rc=10&p=1&r=4\\',event);\">지킬 앤 하이드</a></span> </div> </li> <li> <div class=\"inner_item\"> <span class=\"num_rank\">5</span> <span class=\"keyword_rank\"><a href=\"?w=tot&DA=R10&q=%EC%A1%B0%EB%AA%85%EC%84%AD%20%EC%BD%98%EC%84%9C%ED%8A%B8&rtmaxcoll=OUJ,CJK&scckey=PY||205308\" class=\"link_txt\" onclick=\"smartLog(this,\\'dc=R10&pg=1&at=link&rc=10&p=1&r=5\\',event);\">조명섭 콘서트</a></span> </div> </li> </ol> <ol class=\"list_rank\"> <li> <div class=\"inner_item\"> <span class=\"num_rank\">6</span> <span class=\"keyword_rank\"><a href=\"?w=tot&DA=R10&q=%EC%A0%A0%ED%8B%80%EB%A7%A8%EC%8A%A4%20%EA%B0%80%EC%9D%B4%EB%93%9C&rtmaxcoll=OUJ,CJK&scckey=PY||203175\" class=\"link_txt\" onclick=\"smartLog(this,\\'dc=R10&pg=1&at=link&rc=10&p=1&r=6\\',event);\">젠틀맨스 가이드</a></span> </div> </li> <li> <div class=\"inner_item\"> <span class=\"num_rank\">7</span> <span class=\"keyword_rank\"><a href=\"?w=tot&DA=R10&q=%EC%9D%B4%EC%A4%80%ED%98%B8%20%ED%8C%AC%EB%AF%B8%ED%8C%85&rtmaxcoll=OUJ,CJK&scckey=PY||205238\" class=\"link_txt\" onclick=\"smartLog(this,\\'dc=R10&pg=1&at=link&rc=10&p=1&r=7\\',event);\">이준호 팬미팅</a></span> </div> </li> <li> <div class=\"inner_item\"> <span class=\"num_rank\">8</span> <span class=\"keyword_rank\"><a href=\"?w=tot&DA=R10&q=%EA%B9%80%ED%9D%AC%EC%9E%AC%20%EC%BD%98%EC%84%9C%ED%8A%B8&rtmaxcoll=OUJ,CJK&scckey=PY||205027\" class=\"link_txt\" onclick=\"smartLog(this,\\'dc=R10&pg=1&at=link&rc=10&p=1&r=8\\',event);\">김희재 콘서트</a></span> </div> </li> <li> <div class=\"inner_item\"> <span class=\"num_rank\">9</span> <span class=\"keyword_rank\"><a href=\"?w=tot&DA=R10&q=%ED%94%84%EB%9E%91%EC%BC%84%EC%8A%88%ED%83%80%EC%9D%B8&rtmaxcoll=OUJ,CJK&scckey=PY||202986\" class=\"link_txt\" onclick=\"smartLog(this,\\'dc=R10&pg=1&at=link&rc=10&p=1&r=9\\',event);\">프랑켄슈타인</a></span> </div> </li> <li> <div class=\"inner_item\"> <span class=\"num_rank\">10</span> <span class=\"keyword_rank\"><a href=\"?w=tot&DA=R10&q=%EB%9D%BC%EC%8A%A4%ED%8A%B8%20%EC%84%B8%EC%85%98&rtmaxcoll=OUJ,CJK&scckey=PY||204221\" class=\"link_txt\" onclick=\"smartLog(this,\\'dc=R10&pg=1&at=link&rc=10&p=1&r=10\\',event);\">라스트 세션</a></span> </div> </li> </ol> </div> <div class=\"wrap_rank\" style=\"display:none\"> <ol class=\"list_rank\"> <li> <div class=\"inner_item\"> <span class=\"num_rank\">1</span> <span class=\"keyword_rank\"><a href=\"?w=tot&DA=R13&q=%EA%B0%80%EC%84%B8%EC%97%B0%20%EC%BD%98%EC%84%9C%ED%8A%B8&rtmaxcoll=DTX,CJK&scckey=PY||204916\" class=\"link_txt\" onclick=\"smartLog(this,\\'dc=R13&pg=1&at=link&rc=10&p=1&r=1\\',event);\">가세연 콘서트</a></span> </div> </li> <li> <div class=\"inner_item\"> <span class=\"num_rank\">2</span> <span class=\"keyword_rank\"><a href=\"?w=tot&DA=R13&q=%EB%AF%B8%EC%8A%A4%ED%8A%B8%EB%A1%AF2%20TOP4%20%EC%BD%98%EC%84%9C%ED%8A%B8&rtmaxcoll=DTX,CJK&scckey=PY||205113\" class=\"link_txt\" onclick=\"smartLog(this,\\'dc=R13&pg=1&at=link&rc=10&p=1&r=2\\',event);\">미스트롯2 TOP4 콘서트</a></span> </div> </li> <li> <div class=\"inner_item\"> <span class=\"num_rank\">3</span> <span class=\"keyword_rank\"><a href=\"?w=tot&DA=R13&q=%EC%A1%B0%EB%AA%85%EC%84%AD%20%EC%BD%98%EC%84%9C%ED%8A%B8&rtmaxcoll=DTX,CJK&scckey=PY||205308\" class=\"link_txt\" onclick=\"smartLog(this,\\'dc=R13&pg=1&at=link&rc=10&p=1&r=3\\',event);\">조명섭 콘서트</a></span> </div> </li> <li> <div class=\"inner_item\"> <span class=\"num_rank\">4</span> <span class=\"keyword_rank\"><a href=\"?w=tot&DA=R13&q=%EA%B9%80%ED%9D%AC%EC%9E%AC%20%EC%BD%98%EC%84%9C%ED%8A%B8&rtmaxcoll=DTX,CJK&scckey=PY||205027\" class=\"link_txt\" onclick=\"smartLog(this,\\'dc=R13&pg=1&at=link&rc=10&p=1&r=4\\',event);\">김희재 콘서트</a></span> </div> </li> <li> <div class=\"inner_item\"> <span class=\"num_rank\">5</span> <span class=\"keyword_rank\"><a href=\"?w=tot&DA=R13&q=%EC%9D%B4%EC%A4%80%ED%98%B8%20%ED%8C%AC%EB%AF%B8%ED%8C%85&rtmaxcoll=DTX,CJK&scckey=PY||205238\" class=\"link_txt\" onclick=\"smartLog(this,\\'dc=R13&pg=1&at=link&rc=10&p=1&r=5\\',event);\">이준호 팬미팅</a></span> </div> </li> </ol> <ol class=\"list_rank\"> <li> <div class=\"inner_item\"> <span class=\"num_rank\">6</span> <span class=\"keyword_rank\"><a href=\"?w=tot&DA=R13&q=%ED%92%8D%EB%A5%98%EB%8C%80%EC%9E%A5%20%EC%BD%98%EC%84%9C%ED%8A%B8&rtmaxcoll=DTX,CJK&scckey=PY||204732\" class=\"link_txt\" onclick=\"smartLog(this,\\'dc=R13&pg=1&at=link&rc=10&p=1&r=6\\',event);\">풍류대장 콘서트</a></span> </div> </li> <li> <div class=\"inner_item\"> <span class=\"num_rank\">7</span> <span class=\"keyword_rank\"><a href=\"?w=tot&DA=R13&q=%EC%9E%A5%EC%9C%A4%EC%A0%95%20%EC%BD%98%EC%84%9C%ED%8A%B8&rtmaxcoll=DTX,CJK&scckey=PY||204840\" class=\"link_txt\" onclick=\"smartLog(this,\\'dc=R13&pg=1&at=link&rc=10&p=1&r=7\\',event);\">장윤정 콘서트</a></span> </div> </li> <li> <div class=\"inner_item\"> <span class=\"num_rank\">8</span> <span class=\"keyword_rank\"><a href=\"?w=tot&DA=R13&q=Theatre%20%EC%9D%B4%EB%AC%B8%EC%84%B8&rtmaxcoll=DTX,CJK&scckey=PY||203882\" class=\"link_txt\" onclick=\"smartLog(this,\\'dc=R13&pg=1&at=link&rc=10&p=1&r=8\\',event);\">Theatre 이문세</a></span> </div> </li> <li> <div class=\"inner_item\"> <span class=\"num_rank\">9</span> <span class=\"keyword_rank\"><a href=\"?w=tot&DA=R13&q=%EB%B0%B1%EC%A7%80%EC%98%81%20%EC%BD%98%EC%84%9C%ED%8A%B8&rtmaxcoll=DTX,CJK&scckey=PY||204567\" class=\"link_txt\" onclick=\"smartLog(this,\\'dc=R13&pg=1&at=link&rc=10&p=1&r=9\\',event);\">백지영 콘서트</a></span> </div> </li> <li> <div class=\"inner_item\"> <span class=\"num_rank\">10</span> <span class=\"keyword_rank\"><a href=\"?w=tot&DA=R13&q=%EC%9D%B4%EC%B0%AC%EC%9B%90%20%EC%BD%98%EC%84%9C%ED%8A%B8&rtmaxcoll=DTX,CJK&scckey=PY||205260\" class=\"link_txt\" onclick=\"smartLog(this,\\'dc=R13&pg=1&at=link&rc=10&p=1&r=10\\',event);\">이찬원 콘서트</a></span> </div> </li> </ol> </div> <div class=\"wrap_rank\" style=\"display:none\"> <ol class=\"list_rank\"> <li> <div class=\"inner_item\"> <span class=\"num_rank\">1</span> <span class=\"keyword_rank\"><a href=\"?w=tot&DA=R12&q=%EB%9D%BC%EC%8A%A4%ED%8A%B8%20%EC%84%B8%EC%85%98&rtmaxcoll=DZR,CJK&scckey=PY||204221\" class=\"link_txt\" onclick=\"smartLog(this,\\'dc=R12&pg=1&at=link&rc=10&p=1&r=1\\',event);\">라스트 세션</a></span> </div> </li> <li> <div class=\"inner_item\"> <span class=\"num_rank\">2</span> <span class=\"keyword_rank\"><a href=\"?w=tot&DA=R12&q=%EB%A6%AC%EC%B0%A8%EB%93%9C3%EC%84%B8&rtmaxcoll=DZR,CJK&scckey=PY||204264\" class=\"link_txt\" onclick=\"smartLog(this,\\'dc=R12&pg=1&at=link&rc=10&p=1&r=2\\',event);\">리차드3세</a></span> </div> </li> <li> <div class=\"inner_item\"> <span class=\"num_rank\">3</span> <span class=\"keyword_rank\"><a href=\"?w=tot&DA=R12&q=%EC%B9%9C%EC%A0%95%EC%97%84%EB%A7%88%EC%99%80%202%EB%B0%953%EC%9D%BC&rtmaxcoll=DZR,CJK&scckey=PY||205012\" class=\"link_txt\" onclick=\"smartLog(this,\\'dc=R12&pg=1&at=link&rc=10&p=1&r=3\\',event);\">친정엄마와 2박3일</a></span> </div> </li> <li> <div class=\"inner_item\"> <span class=\"num_rank\">4</span> <span class=\"keyword_rank\"><a href=\"?w=tot&DA=R12&q=%EA%B7%B8%EB%95%8C%EB%8F%84%20%EC%98%A4%EB%8A%98&rtmaxcoll=DZR,CJK&scckey=PY||204619\" class=\"link_txt\" onclick=\"smartLog(this,\\'dc=R12&pg=1&at=link&rc=10&p=1&r=4\\',event);\">그때도 오늘</a></span> </div> </li> <li> <div class=\"inner_item\"> <span class=\"num_rank\">5</span> <span class=\"keyword_rank\"><a href=\"?w=tot&DA=R12&q=%ED%99%98%EC%83%81%EB%8F%99%ED%99%94&rtmaxcoll=DZR,CJK&scckey=PY||203979\" class=\"link_txt\" onclick=\"smartLog(this,\\'dc=R12&pg=1&at=link&rc=10&p=1&r=5\\',event);\">환상동화</a></span> </div> </li> </ol> <ol class=\"list_rank\"> <li> <div class=\"inner_item\"> <span class=\"num_rank\">6</span> <span class=\"keyword_rank\"><a href=\"?w=tot&DA=R12&q=%EB%A7%88%EC%9A%B0%EC%8A%A4%ED%94%BC%EC%8A%A4&rtmaxcoll=DZR,CJK&scckey=PY||203068\" class=\"link_txt\" onclick=\"smartLog(this,\\'dc=R12&pg=1&at=link&rc=10&p=1&r=6\\',event);\">마우스피스</a></span> </div> </li> <li> <div class=\"inner_item\"> <span class=\"num_rank\">7</span> <span class=\"keyword_rank\"><a href=\"?w=tot&DA=R12&q=%EC%97%98%EB%A6%AC%ED%8E%80%ED%8A%B8%20%EC%86%A1&rtmaxcoll=DZR,CJK&scckey=PY||203750\" class=\"link_txt\" onclick=\"smartLog(this,\\'dc=R12&pg=1&at=link&rc=10&p=1&r=7\\',event);\">엘리펀트 송</a></span> </div> </li> <li> <div class=\"inner_item\"> <span class=\"num_rank\">8</span> <span class=\"keyword_rank\"><a href=\"?w=tot&DA=R12&q=%EC%96%B8%EB%8D%94%EC%8A%A4%ED%84%B0%EB%94%94&rtmaxcoll=DZR,CJK&scckey=PY||203548\" class=\"link_txt\" onclick=\"smartLog(this,\\'dc=R12&pg=1&at=link&rc=10&p=1&r=8\\',event);\">언더스터디</a></span> </div> </li> <li> <div class=\"inner_item\"> <span class=\"num_rank\">9</span> <span class=\"keyword_rank\"><a href=\"?w=tot&DA=R12&q=%EA%B7%B8%EB%82%A8%EC%9E%90%20%EA%B7%B8%EC%97%AC%EC%9E%90&rtmaxcoll=DZR,CJK&scckey=PY||203733\" class=\"link_txt\" onclick=\"smartLog(this,\\'dc=R12&pg=1&at=link&rc=10&p=1&r=9\\',event);\">그남자 그여자</a></span> </div> </li> <li> <div class=\"inner_item\"> <span class=\"num_rank\">10</span> <span class=\"keyword_rank\"><a href=\"?w=tot&DA=R12&q=%EB%AC%BC%EA%B3%A0%EA%B8%B0%20%EB%82%A8%EC%9E%90&rtmaxcoll=DZR,CJK&scckey=PY||204831\" class=\"link_txt\" onclick=\"smartLog(this,\\'dc=R12&pg=1&at=link&rc=10&p=1&r=10\\',event);\">물고기 남자</a></span> </div> </li> </ol> </div> </div> </div> <script type=\"text/javascript\"> (function(module){ function addClass(element, className){ var check = new RegExp(\"(\\\\\\\\s|^)\" + className + \"(\\\\\\\\s|$)\"); if(!check.test(element.className)) { element.className += \" \" + className; } } function removeClass(element, className){ var check = new RegExp(\"(\\\\\\\\s|^)\" + className + \"(\\\\\\\\s|$)\"); element.className = element.className.replace(check, \" \").trim(); } module.switchTab = function(categoryNumber, displayCode, event) { var tabs = document.getElementById(\"rtissue_categories\"); for(var i = 0; i < tabs.children.length; i++) { var element = tabs.children[i]; if(element.tagName === \\'LI\\') { if(i === categoryNumber) { addClass(element, \\'on\\'); } else { removeClass(element, \\'on\\'); } } } var tabContents = document.getElementById(\"randomCategoryCollDetail\"); for(var i = 1; i < tabContents.children.length; i++) { var element = tabContents.children[i]; if(element.className === \\'wrap_rank\\') { if(i === categoryNumber + 1) { element.style.display = \"block\"; } else { element.style.display = \"none\"; } } } smartLog(this,\\'pg=1&at=func&rc=10&p=2&r=\\' + (categoryNumber + 1) + \\'&dc=\\' + displayCode, event); } }(C.randomCategoryColl = ( C.randomCategoryColl || {}))); </script>\\n</div>\\n\\n\\n\\n\\n<div disp-attr=\\'TOG\\' class=\"g_comp_s\">\\n\\n\\n<div class=\"content_commend\"> <div class=\"coll_tit\"> <h2 class=\"tit\">같이가치 추천글</h2> </div> <div class=\"coll_cont\"> <ul class=\"list_major\"> <li> <a href=\"https://together.kakao.com/fundraisings/93441/story\" class=\"link_major\" target=\"_blank\" onclick=\"smartLog(this,\\'dc=TOG&d=toget-fundraising_project-93441&rc=10&at=link&pg=1&p=1&r=1\\',event);\">한파와 미세먼지로부터 어르신을 지켜주세요</a> </li> <li> <a href=\"https://together.kakao.com/fundraisings/93182/story\" class=\"link_major\" target=\"_blank\" onclick=\"smartLog(this,\\'dc=TOG&d=toget-fundraising_project-93182&rc=10&at=link&pg=1&p=1&r=2\\',event);\">새해를 맞아 좋은 쌀로 만든 따뜻한 식사!</a> </li> <li> <a href=\"https://together.kakao.com/fundraisings/93033/story\" class=\"link_major\" target=\"_blank\" onclick=\"smartLog(this,\\'dc=TOG&d=toget-fundraising_project-93033&rc=10&at=link&pg=1&p=1&r=3\\',event);\">태어나자마자 받은 큰 수술을 받은 별이</a> </li> <li> <a href=\"https://together.kakao.com/fundraisings/93064/story\" class=\"link_major\" target=\"_blank\" onclick=\"smartLog(this,\\'dc=TOG&d=toget-fundraising_project-93064&rc=10&at=link&pg=1&p=1&r=4\\',event);\">집에서도 ‘꽈당’, 어르신 댁은 안전한가요?</a> </li> <li> <a href=\"https://together.kakao.com/fundraisings/93440/story\" class=\"link_major\" target=\"_blank\" onclick=\"smartLog(this,\\'dc=TOG&d=toget-fundraising_project-93440&rc=10&at=link&pg=1&p=1&r=5\\',event);\">작은 체구로 태어나 입양을 기다리는 하준이</a> </li> <li> <a href=\"https://together.kakao.com/fundraisings/93269/story\" class=\"link_major\" target=\"_blank\" onclick=\"smartLog(this,\\'dc=TOG&d=toget-fundraising_project-93269&rc=10&at=link&pg=1&p=1&r=6\\',event);\">벌써 2022년, 특별한 새해 준비는?!</a> </li> <li> <a href=\"https://together.kakao.com/fundraisings/93276/story\" class=\"link_major\" target=\"_blank\" onclick=\"smartLog(this,\\'dc=TOG&d=toget-fundraising_project-93276&rc=10&at=link&pg=1&p=1&r=7\\',event);\">어머니! 이제는 저희가 생신 상 차려 드릴게요</a> </li> <li> <a href=\"https://together.kakao.com/fundraisings/92948/story\" class=\"link_major\" target=\"_blank\" onclick=\"smartLog(this,\\'dc=TOG&d=toget-fundraising_project-92948&rc=10&at=link&pg=1&p=1&r=8\\',event);\">코로나 2년, 우리는 묵묵히 아이들을 지킵니다</a> </li> <li> <a href=\"https://together.kakao.com/fundraisings/93070/story\" class=\"link_major\" target=\"_blank\" onclick=\"smartLog(this,\\'dc=TOG&d=toget-fundraising_project-93070&rc=10&at=link&pg=1&p=1&r=9\\',event);\">나도 알고 싶다! 먹는 즐거움...</a> </li> <li> <a href=\"https://together.kakao.com/fundraisings/93270/story\" class=\"link_major\" target=\"_blank\" onclick=\"smartLog(this,\\'dc=TOG&d=toget-fundraising_project-93270&rc=10&at=link&pg=1&p=1&r=10\\',event);\">마음이 더 추운 겨울, 명절만큼은 따뜻하게</a> </li> </ul> </div> </div>\\n</div>\\n\\n\\n\\n<div style=\"display:block;overflow:hidden;height:0;clear:both;font-size:0;line-height:0;visibility:hidden;\">\\\\00f0</div>\\n</aside>\\n\\n\\n</div>\\n\\n\\n<a href=\"javascript:;\" class=\"aside_quick\">맨위로<span class=\"ico_rwd\"></span></a>\\n\\n</article>\\n\\n<footer id=\"daumFoot\">\\n<div id=\"innerFooter\" class=\"inner_footer\">\\n<div id=\"suggestFooter\">\\n<form name=\"search1\" method=\"get\" id=\"daumSearchFoot\" class=\"d_sch\">\\n<fieldset class=\"fld_total\">\\n<legend class=\"screen_out\">검색폼</legend>\\n<input type=\"hidden\" name=\"nil_ch\" value=\"\">\\n<input type=\"hidden\" name=\"rtupcoll\" value=\"\">\\n<input type=\"hidden\" name=\"nil_suggest\" value=\"btn\">\\n<input type=\"hidden\" name=\"DA\" value=\"MEK\">\\n<input type=\"hidden\" name=\"w\" value=\"news\">\\n<input type=\"hidden\" name=\"sq\" value=\"\">\\n<input type=\"hidden\" name=\"o\" value=\"\">\\n<input type=\"hidden\" name=\"sugo\" value=\"\">\\n\\n\\n<input type=\"hidden\" name=\"m\" value=\"\">\\n\\n<div class=\"box_searchbar\">\\n<div class=\"inner_searchbar\">\\n<input type=\"text\" id=\"q1\" name=\"q\" class=\"tf_keyword\" autocomplete=\"off\" title=\"검색어 입력\" value=\"빅데이터\" >\\n<button type=\"submit\" id=\"schFooterSubmitBtn\" class=\"ico_ksearch btn_ksearch\"><span class=\"ir_wa\">검색</span></button>\\n</div>\\n</div>\\n</fieldset>\\n</form>\\n<div class=\"wrap_suggestBox\"><div id=\"schFooterSuggestBox\" class=\"suggestBox box_sub reverseType\"></div></div>\\n</div>\\n<script type=\"text/javascript\">\\n(function(){\\nvar footerSearchModule = new SF.FooterSearchForm();\\nfooterSearchModule.init();\\n})();\\n</script>\\n\\n<div class=\"footer_comm\">\\n<a href=\"http://daumsearch.tistory.com\" target=\"_blank\" onclick=\"smartLog(this, \\'pg=1&p=10&dc=CCC&r=1\\', event);\" class=\"link_info\">검색블로그</a><span class=\"txt_bar\">|</span>\\n<a href=\"https://cs.daum.net/faq/15/15649.html\" target=\"_blank\" onclick=\"smartLog(this, \\'pg=1&p=15&dc=CCC&r=1\\', event);\" class=\"link_info\">검색원칙</a><span class=\"txt_bar\">|</span>\\n<a href=\"https://register.search.daum.net/\" target=\"_blank\" onclick=\"smartLog(this, \\'pg=1&p=9&dc=CCC&r=1\\', event);\" class=\"link_info\">사이트 등록 신청</a><span class=\"txt_bar\">|</span>\\n<a href=\"https://mystore.kakao.com/\" target=\"_blank\" onclick=\"smartLog(this, \\'pg=1&p=14&dc=CCC&r=1\\', event);\" class=\"link_info\">카카오맵 매장관리</a><span class=\"txt_bar\">|</span>\\n<a href=\"https://with.kakao.com/search\" target=\"_blank\" onclick=\"smartLog(this, \\'pg=1&p=12&dc=CCC&r=1\\', event);\" class=\"link_info\">검색제휴</a><span class=\"txt_bar\">|</span>\\n<a href=\"https://business.kakao.com/info/keywordad\" target=\"_blank\" onclick=\"smartLog(this, \\'pg=1&p=2&dc=CCC&r=1\\', event);\" class=\"link_info\">키워드광고</a><span class=\"txt_bar\">|</span>\\n<a href=\"http://local.biz.daum.net/\" target=\"_blank\" onclick=\"smartLog(this, \\'pg=1&p=3&dc=CCC&r=1\\', event);\" class=\"link_info\">로컬광고</a><span class=\"txt_bar\">|</span>\\n<a href=\"https://business.kakao.com/info/crossmedia\" target=\"_blank\" onclick=\"smartLog(this, \\'pg=1&p=8&dc=CCC&r=1\\', event);\" class=\"link_info\">크로스미디어</a><span class=\"txt_bar\">|</span>\\n<a href=\"http://cs.daum.net/faq/15.html\" target=\"_blank\" onclick=\"smartLog(this, \\'pg=1&p=6&dc=CCC&r=1\\', event);\" class=\"link_info\">고객센터</a>\\n\\n<address class=\"copyright\">&nbsp;&nbsp;&nbsp;ⓒ <a href=\"http://kakaocorp.com\" target=\"_blank\" onclick=\"smartLog(this, \\'pg=1&p=11&dc=CCC&r=1\\', event);\" class=\"link_daum\">Kakao Corp.</a></address>\\n</div>\\n\\n</div>\\n</footer>\\n</article>\\n\\n\\n<script type=\"text/javascript\" >\\nvar __MiniDaumObj = null;\\nvar minidaum_options = null;\\n(function() {\\nminidaum_options = {\\nbgType: \"\",\\nenableLogoutRetun: true,\\ndisableHotissue: true,\\ndisableLogo: true,\\ndisableTracker: true,\\nenableShield: false\\n};\\n})();\\n</script>\\n\\n\\n<script src=\"//go.daum.net/minidaum_pc.daum\" charset=\"utf-8\" type=\"text/javascript\" async defer></script>\\n\\n\\n<script type=\"text/javascript\">\\nSF.CommonModule && SF.CommonModule.init && SF.CommonModule.init();\\n</script>\\n\\n<script type=\"text/javascript\" src=\"//t1.daumcdn.net/tiara/js/v1/tiara.min.js\"></script>\\n<script type=\"text/javascript\">\\n(function() {\\nif (typeof TiaraTracker === \\'undefined\\') {\\nreturn;\\n}\\nvar svcdomain = window.viewio === \\'i\\' ? window.param_w + \\'.search.daum.net\\' : \\'nate.search.daum.net\\';\\nvar pageName = window.param_w === \\'tot\\' ? \\'통합검색\\' : window.param_w + \\'탭\\';\\nvar search = {\\nsearch_term: window.topQuery,\\nsearch_type:  window.param_da\\n};\\nTiaraTracker.getInstance()\\n.setSvcDomain(svcdomain)\\n.setPage(pageName)\\n.setSection(\\'검색결과\\')\\n.trackPage(\\'검색결과화면_조회\\')\\n.actionKind(\"Search\")\\n.search(search)\\n.track();\\n})();\\n</script>\\n<script type=\"text/javascript\">\\nwindow.roosevelt_params_queue = window.roosevelt_params_queue || [];\\nwindow.roosevelt_params_queue.push({\\nchannel_id: \"dk\", channel_label: \"search\", keyword: window.topQuery\\n});\\n</script>\\n<script type=\"text/javascript\" src=\"//t1.daumcdn.net/midas/rt/dk_se/roosevelt_dk_se.js\" async></script>\\n<script>\\n(function(SF) {\\nif (SF.compLogger && SF.compLogger.sendAllFromPage) {\\nSF.compLogger.sendAllFromPage({\\nref: \\'search\\'\\n});\\n}\\n})(window.SF || {});\\n</script>\\n<!-- SA 삭제 -->\\n\\n\\n<!-- end SA 삭제 -->\\n\\n\\n</body>\\n\\n</html>\\n'"
      ]
     },
     "execution_count": 3,
     "metadata": {},
     "output_type": "execute_result"
    }
   ],
   "source": [
    "import requests\n",
    "from bs4 import BeautifulSoup\n",
    "\n",
    "res = requests.get(url)\n",
    "\n",
    "res.text"
   ]
  },
  {
   "cell_type": "code",
   "execution_count": 6,
   "id": "ef04a27f",
   "metadata": {},
   "outputs": [],
   "source": [
    "soup = BeautifulSoup(res.text, 'html.parser')"
   ]
  },
  {
   "cell_type": "code",
   "execution_count": 7,
   "id": "adf80cf2",
   "metadata": {},
   "outputs": [],
   "source": [
    "path = '#newsColl > div.cont_divider > ul > li > div.wrap_cont > a'   \n",
    "# li:nth-child(1) = li로 하면 모든\n",
    "# 위에 차이점 알기"
   ]
  },
  {
   "cell_type": "code",
   "execution_count": 11,
   "id": "66bcd742",
   "metadata": {
    "collapsed": true
   },
   "outputs": [
    {
     "data": {
      "text/plain": [
       "[<a class=\"tit_main fn_tit_u\" href=\"http://v.media.daum.net/v/20220119020501044?f=o\" onclick='smartLog(this, \"dc=NNS&amp;d=26XmtmA0ZgbPEoqFp6&amp;pg=1&amp;r=1&amp;p=4&amp;rc=10&amp;e1=16gmjhh-4e7TNHMCYw&amp;e3=0&amp;ext=dsid=26XmtmA0ZgbPEoqFp6\", event, {\"cpid\": {\"value\": \"16gmjhh-4e7TNHMCYw\"}});' target=\"_blank\">[투데이 窓]<b>빅</b><b>데이터</b>에서 미래를 읽는 통찰력</a>,\n",
       " <a class=\"tit_main fn_tit_u\" href=\"http://v.media.daum.net/v/20220119162951352?f=o\" onclick='smartLog(this, \"dc=NNS&amp;d=26h3bc56A3jX730YZ8&amp;pg=1&amp;r=2&amp;p=4&amp;rc=10&amp;e1=16JfL24RCJKYboAM86&amp;e3=0&amp;ext=dsid=26h3bc56A3jX730YZ8\", event, {\"cpid\": {\"value\": \"16JfL24RCJKYboAM86\"}});' target=\"_blank\">서초구, '예측범죄지도' 도입..<b>빅</b><b>데이터</b>로 위험지역 예측</a>,\n",
       " <a class=\"tit_main fn_tit_u\" href=\"http://v.media.daum.net/v/20220119141604019?f=o\" onclick='smartLog(this, \"dc=NNS&amp;d=26mbzI-8Of_9iGngFO&amp;pg=1&amp;r=3&amp;p=4&amp;rc=10&amp;e1=16yZfDfR_rGcw5F-P0&amp;e3=0&amp;ext=dsid=26mbzI-8Of_9iGngFO\", event, {\"cpid\": {\"value\": \"16yZfDfR_rGcw5F-P0\"}});' target=\"_blank\">통화 방송 후 사흘.. 관심도 李 46 vs 尹 54 l <b>빅</b><b>데이터</b>랩</a>,\n",
       " <a class=\"tit_main fn_tit_u\" href=\"http://v.media.daum.net/v/20220119111204914?f=o\" onclick='smartLog(this, \"dc=NNS&amp;d=26y9ObHxq1eLbWFDEu&amp;pg=1&amp;r=4&amp;p=4&amp;rc=10&amp;e1=16yZfDfR_rGcw5F-P0&amp;e3=0&amp;ext=dsid=26y9ObHxq1eLbWFDEu\", event, {\"cpid\": {\"value\": \"16yZfDfR_rGcw5F-P0\"}});' target=\"_blank\">악재 뜨면 이슈로 맞불.. 李 이번엔 'TV토론 카드'?ㅣ<b>빅</b><b>데이터</b>랩</a>,\n",
       " <a class=\"tit_main fn_tit_u\" href=\"http://v.media.daum.net/v/20220119175403586?f=o\" onclick='smartLog(this, \"dc=NNS&amp;d=26zZV67sYMIVQnoD_O&amp;pg=1&amp;r=5&amp;p=4&amp;rc=10&amp;e1=16sIQ8rx97vi9RHx8w&amp;e3=0&amp;ext=dsid=26zZV67sYMIVQnoD_O\", event, {\"cpid\": {\"value\": \"16sIQ8rx97vi9RHx8w\"}});' target=\"_blank\">식약처, AI·<b>빅</b><b>데이터</b> 활용 수입식품 안전관리 디지털 전환</a>,\n",
       " <a class=\"tit_main fn_tit_u\" href=\"https://cp.news.search.daum.net/p/115221091\" onclick='smartLog(this, \"dc=NNS&amp;d=26b1FEjT17OuKKxODr&amp;pg=1&amp;r=6&amp;p=4&amp;rc=10&amp;e1=16LF73daRP8xmsgeQs&amp;e3=0&amp;ext=dsid=26b1FEjT17OuKKxODr\", event, {\"cpid\": {\"value\": \"16LF73daRP8xmsgeQs\"}});' target=\"_blank\">식품업계, <b>데이터</b>가 경영 성패 가른다…<b>빅</b><b>데이터</b> 사업에 투자</a>,\n",
       " <a class=\"tit_main fn_tit_u\" href=\"https://cp.news.search.daum.net/p/115226578\" onclick='smartLog(this, \"dc=NNS&amp;d=26t5SXnHfdzRmBu4Fm&amp;pg=1&amp;r=7&amp;p=4&amp;rc=10&amp;e1=16UxjjUfNJGPNS88Hf&amp;e3=0&amp;ext=dsid=26t5SXnHfdzRmBu4Fm\", event, {\"cpid\": {\"value\": \"16UxjjUfNJGPNS88Hf\"}});' target=\"_blank\">도 <b>빅</b><b>데이터</b>위원회 개최…올해 경기도 마이<b>데이터</b> 플랫폼 개시</a>,\n",
       " <a class=\"tit_main fn_tit_u\" href=\"https://cp.news.search.daum.net/p/115217602\" onclick='smartLog(this, \"dc=NNS&amp;d=26rwlx6n9cBaL-TjJ8&amp;pg=1&amp;r=8&amp;p=4&amp;rc=10&amp;e1=16-808bNca9PmxuGza&amp;e3=0&amp;ext=dsid=26rwlx6n9cBaL-TjJ8\", event, {\"cpid\": {\"value\": \"16-808bNca9PmxuGza\"}});' target=\"_blank\">[칼럼] 올해 <b>빅</b><b>데이터</b> 정책 특화교육 디지털 전환 촉진</a>,\n",
       " <a class=\"tit_main fn_tit_u\" href=\"http://v.media.daum.net/v/20220119180600001?f=o\" onclick='smartLog(this, \"dc=NNS&amp;d=26lD6xjiu28aLMbLgk&amp;pg=1&amp;r=9&amp;p=4&amp;rc=10&amp;e1=16O8sbGdUflWYlfqu4&amp;e3=0&amp;ext=dsid=26lD6xjiu28aLMbLgk\", event, {\"cpid\": {\"value\": \"16O8sbGdUflWYlfqu4\"}});' target=\"_blank\">서초구, <b>빅</b><b>데이터</b>로 우범지역 찾고 행인 손동작으로 범죄가능성 잡는다</a>,\n",
       " <a class=\"tit_main fn_tit_u\" href=\"https://cp.news.search.daum.net/p/115223767\" onclick='smartLog(this, \"dc=NNS&amp;d=26ghfgLljt53VR1Epm&amp;pg=1&amp;r=10&amp;p=4&amp;rc=10&amp;e1=168uS3odpcBbD48pR3&amp;e3=0&amp;ext=dsid=26ghfgLljt53VR1Epm\", event, {\"cpid\": {\"value\": \"168uS3odpcBbD48pR3\"}});' target=\"_blank\">최저임금 여론 분석을 <b>빅</b><b>데이터</b>로?...\"새로운 시도지만 활용도 낮아\"</a>]"
      ]
     },
     "execution_count": 11,
     "metadata": {},
     "output_type": "execute_result"
    }
   ],
   "source": [
    "lis = soup.select(path)\n",
    "lis"
   ]
  },
  {
   "cell_type": "code",
   "execution_count": 12,
   "id": "3d7b3ebf",
   "metadata": {
    "collapsed": true
   },
   "outputs": [
    {
     "name": "stdout",
     "output_type": "stream",
     "text": [
      "[투데이 窓]빅데이터에서 미래를 읽는 통찰력\n",
      "<a class=\"tit_main fn_tit_u\" href=\"http://v.media.daum.net/v/20220119020501044?f=o\" onclick='smartLog(this, \"dc=NNS&amp;d=26XmtmA0ZgbPEoqFp6&amp;pg=1&amp;r=1&amp;p=4&amp;rc=10&amp;e1=16gmjhh-4e7TNHMCYw&amp;e3=0&amp;ext=dsid=26XmtmA0ZgbPEoqFp6\", event, {\"cpid\": {\"value\": \"16gmjhh-4e7TNHMCYw\"}});' target=\"_blank\">[투데이 窓]<b>빅</b><b>데이터</b>에서 미래를 읽는 통찰력</a>\n",
      "http://v.media.daum.net/v/20220119020501044?f=o\n",
      "서초구, '예측범죄지도' 도입..빅데이터로 위험지역 예측\n",
      "<a class=\"tit_main fn_tit_u\" href=\"http://v.media.daum.net/v/20220119162951352?f=o\" onclick='smartLog(this, \"dc=NNS&amp;d=26h3bc56A3jX730YZ8&amp;pg=1&amp;r=2&amp;p=4&amp;rc=10&amp;e1=16JfL24RCJKYboAM86&amp;e3=0&amp;ext=dsid=26h3bc56A3jX730YZ8\", event, {\"cpid\": {\"value\": \"16JfL24RCJKYboAM86\"}});' target=\"_blank\">서초구, '예측범죄지도' 도입..<b>빅</b><b>데이터</b>로 위험지역 예측</a>\n",
      "http://v.media.daum.net/v/20220119162951352?f=o\n",
      "통화 방송 후 사흘.. 관심도 李 46 vs 尹 54 l 빅데이터랩\n",
      "<a class=\"tit_main fn_tit_u\" href=\"http://v.media.daum.net/v/20220119141604019?f=o\" onclick='smartLog(this, \"dc=NNS&amp;d=26mbzI-8Of_9iGngFO&amp;pg=1&amp;r=3&amp;p=4&amp;rc=10&amp;e1=16yZfDfR_rGcw5F-P0&amp;e3=0&amp;ext=dsid=26mbzI-8Of_9iGngFO\", event, {\"cpid\": {\"value\": \"16yZfDfR_rGcw5F-P0\"}});' target=\"_blank\">통화 방송 후 사흘.. 관심도 李 46 vs 尹 54 l <b>빅</b><b>데이터</b>랩</a>\n",
      "http://v.media.daum.net/v/20220119141604019?f=o\n",
      "악재 뜨면 이슈로 맞불.. 李 이번엔 'TV토론 카드'?ㅣ빅데이터랩\n",
      "<a class=\"tit_main fn_tit_u\" href=\"http://v.media.daum.net/v/20220119111204914?f=o\" onclick='smartLog(this, \"dc=NNS&amp;d=26y9ObHxq1eLbWFDEu&amp;pg=1&amp;r=4&amp;p=4&amp;rc=10&amp;e1=16yZfDfR_rGcw5F-P0&amp;e3=0&amp;ext=dsid=26y9ObHxq1eLbWFDEu\", event, {\"cpid\": {\"value\": \"16yZfDfR_rGcw5F-P0\"}});' target=\"_blank\">악재 뜨면 이슈로 맞불.. 李 이번엔 'TV토론 카드'?ㅣ<b>빅</b><b>데이터</b>랩</a>\n",
      "http://v.media.daum.net/v/20220119111204914?f=o\n",
      "식약처, AI·빅데이터 활용 수입식품 안전관리 디지털 전환\n",
      "<a class=\"tit_main fn_tit_u\" href=\"http://v.media.daum.net/v/20220119175403586?f=o\" onclick='smartLog(this, \"dc=NNS&amp;d=26zZV67sYMIVQnoD_O&amp;pg=1&amp;r=5&amp;p=4&amp;rc=10&amp;e1=16sIQ8rx97vi9RHx8w&amp;e3=0&amp;ext=dsid=26zZV67sYMIVQnoD_O\", event, {\"cpid\": {\"value\": \"16sIQ8rx97vi9RHx8w\"}});' target=\"_blank\">식약처, AI·<b>빅</b><b>데이터</b> 활용 수입식품 안전관리 디지털 전환</a>\n",
      "http://v.media.daum.net/v/20220119175403586?f=o\n",
      "식품업계, 데이터가 경영 성패 가른다…빅데이터 사업에 투자\n",
      "<a class=\"tit_main fn_tit_u\" href=\"https://cp.news.search.daum.net/p/115221091\" onclick='smartLog(this, \"dc=NNS&amp;d=26b1FEjT17OuKKxODr&amp;pg=1&amp;r=6&amp;p=4&amp;rc=10&amp;e1=16LF73daRP8xmsgeQs&amp;e3=0&amp;ext=dsid=26b1FEjT17OuKKxODr\", event, {\"cpid\": {\"value\": \"16LF73daRP8xmsgeQs\"}});' target=\"_blank\">식품업계, <b>데이터</b>가 경영 성패 가른다…<b>빅</b><b>데이터</b> 사업에 투자</a>\n",
      "https://cp.news.search.daum.net/p/115221091\n",
      "도 빅데이터위원회 개최…올해 경기도 마이데이터 플랫폼 개시\n",
      "<a class=\"tit_main fn_tit_u\" href=\"https://cp.news.search.daum.net/p/115226578\" onclick='smartLog(this, \"dc=NNS&amp;d=26t5SXnHfdzRmBu4Fm&amp;pg=1&amp;r=7&amp;p=4&amp;rc=10&amp;e1=16UxjjUfNJGPNS88Hf&amp;e3=0&amp;ext=dsid=26t5SXnHfdzRmBu4Fm\", event, {\"cpid\": {\"value\": \"16UxjjUfNJGPNS88Hf\"}});' target=\"_blank\">도 <b>빅</b><b>데이터</b>위원회 개최…올해 경기도 마이<b>데이터</b> 플랫폼 개시</a>\n",
      "https://cp.news.search.daum.net/p/115226578\n",
      "[칼럼] 올해 빅데이터 정책 특화교육 디지털 전환 촉진\n",
      "<a class=\"tit_main fn_tit_u\" href=\"https://cp.news.search.daum.net/p/115217602\" onclick='smartLog(this, \"dc=NNS&amp;d=26rwlx6n9cBaL-TjJ8&amp;pg=1&amp;r=8&amp;p=4&amp;rc=10&amp;e1=16-808bNca9PmxuGza&amp;e3=0&amp;ext=dsid=26rwlx6n9cBaL-TjJ8\", event, {\"cpid\": {\"value\": \"16-808bNca9PmxuGza\"}});' target=\"_blank\">[칼럼] 올해 <b>빅</b><b>데이터</b> 정책 특화교육 디지털 전환 촉진</a>\n",
      "https://cp.news.search.daum.net/p/115217602\n",
      "서초구, 빅데이터로 우범지역 찾고 행인 손동작으로 범죄가능성 잡는다\n",
      "<a class=\"tit_main fn_tit_u\" href=\"http://v.media.daum.net/v/20220119180600001?f=o\" onclick='smartLog(this, \"dc=NNS&amp;d=26lD6xjiu28aLMbLgk&amp;pg=1&amp;r=9&amp;p=4&amp;rc=10&amp;e1=16O8sbGdUflWYlfqu4&amp;e3=0&amp;ext=dsid=26lD6xjiu28aLMbLgk\", event, {\"cpid\": {\"value\": \"16O8sbGdUflWYlfqu4\"}});' target=\"_blank\">서초구, <b>빅</b><b>데이터</b>로 우범지역 찾고 행인 손동작으로 범죄가능성 잡는다</a>\n",
      "http://v.media.daum.net/v/20220119180600001?f=o\n",
      "최저임금 여론 분석을 빅데이터로?...\"새로운 시도지만 활용도 낮아\"\n",
      "<a class=\"tit_main fn_tit_u\" href=\"https://cp.news.search.daum.net/p/115223767\" onclick='smartLog(this, \"dc=NNS&amp;d=26ghfgLljt53VR1Epm&amp;pg=1&amp;r=10&amp;p=4&amp;rc=10&amp;e1=168uS3odpcBbD48pR3&amp;e3=0&amp;ext=dsid=26ghfgLljt53VR1Epm\", event, {\"cpid\": {\"value\": \"168uS3odpcBbD48pR3\"}});' target=\"_blank\">최저임금 여론 분석을 <b>빅</b><b>데이터</b>로?...\"새로운 시도지만 활용도 낮아\"</a>\n",
      "https://cp.news.search.daum.net/p/115223767\n"
     ]
    }
   ],
   "source": [
    "# 제목 : [투데이 窓]빅데이터에서 미래를 읽는 통찰력\n",
    "# URL : http://v.media.daum.net/v/20220119020501044?f=o\n",
    "        \n",
    "# 제목 : 통화 방송 후 사흘.. 관심도 李 46 vs 尹 54 l 빅데이터랩\n",
    "# URL : http://v.media.daum.net/v/20220119141604019?f=o\n",
    "\n",
    "\n",
    "for li in lis:\n",
    "    print(li.text)\n",
    "    print(li)\n",
    "    print(li['href'])"
   ]
  },
  {
   "cell_type": "code",
   "execution_count": null,
   "id": "c70b4df7",
   "metadata": {},
   "outputs": [],
   "source": [
    "# 제목 : [투데이 窓]빅데이터에서 미래를 읽는 통찰력\n",
    "# URL : http://v.media.daum.net/v/20220119020501044?f=o\n",
    "# summary\n",
    "        \n",
    "# 제목 : 통화 방송 후 사흘.. 관심도 李 46 vs 尹 54 l 빅데이터랩\n",
    "# URL : http://v.media.daum.net/v/20220119141604019?f=o\n",
    "\n"
   ]
  },
  {
   "cell_type": "code",
   "execution_count": 13,
   "id": "665356fb",
   "metadata": {},
   "outputs": [
    {
     "name": "stdout",
     "output_type": "stream",
     "text": [
      "[투데이 窓]빅데이터에서 미래를 읽는 통찰력\n",
      "http://v.media.daum.net/v/20220119020501044?f=o\n",
      "서초구, '예측범죄지도' 도입..빅데이터로 위험지역 예측\n",
      "http://v.media.daum.net/v/20220119162951352?f=o\n",
      "통화 방송 후 사흘.. 관심도 李 46 vs 尹 54 l 빅데이터랩\n",
      "http://v.media.daum.net/v/20220119141604019?f=o\n",
      "악재 뜨면 이슈로 맞불.. 李 이번엔 'TV토론 카드'?ㅣ빅데이터랩\n",
      "http://v.media.daum.net/v/20220119111204914?f=o\n",
      "식약처, AI·빅데이터 활용 수입식품 안전관리 디지털 전환\n",
      "http://v.media.daum.net/v/20220119175403586?f=o\n",
      "식품업계, 데이터가 경영 성패 가른다…빅데이터 사업에 투자\n",
      "https://cp.news.search.daum.net/p/115221091\n",
      "도 빅데이터위원회 개최…올해 경기도 마이데이터 플랫폼 개시\n",
      "https://cp.news.search.daum.net/p/115226578\n",
      "[칼럼] 올해 빅데이터 정책 특화교육 디지털 전환 촉진\n",
      "https://cp.news.search.daum.net/p/115217602\n",
      "서초구, 빅데이터로 우범지역 찾고 행인 손동작으로 범죄가능성 잡는다\n",
      "http://v.media.daum.net/v/20220119180600001?f=o\n",
      "최저임금 여론 분석을 빅데이터로?...\"새로운 시도지만 활용도 낮아\"\n",
      "https://cp.news.search.daum.net/p/115223767\n"
     ]
    }
   ],
   "source": [
    "tags = soup.select(path)\n",
    "\n",
    "for t in tags:\n",
    "    print(t.text)\n",
    "    print(t['href'])"
   ]
  },
  {
   "cell_type": "code",
   "execution_count": 14,
   "id": "da1c3ff3",
   "metadata": {},
   "outputs": [],
   "source": [
    "path = '#newsColl > div.cont_divider > ul > li > div.wrap_cont '"
   ]
  },
  {
   "cell_type": "code",
   "execution_count": 15,
   "id": "784e0b70",
   "metadata": {
    "collapsed": true
   },
   "outputs": [
    {
     "data": {
      "text/plain": [
       "[<div class=\"wrap_cont\"> <a class=\"tit_main fn_tit_u\" href=\"http://v.media.daum.net/v/20220119020501044?f=o\" onclick='smartLog(this, \"dc=NNS&amp;d=26XmtmA0ZgbPEoqFp6&amp;pg=1&amp;r=1&amp;p=4&amp;rc=10&amp;e1=16gmjhh-4e7TNHMCYw&amp;e3=0&amp;ext=dsid=26XmtmA0ZgbPEoqFp6\", event, {\"cpid\": {\"value\": \"16gmjhh-4e7TNHMCYw\"}});' target=\"_blank\">[투데이 窓]<b>빅</b><b>데이터</b>에서 미래를 읽는 통찰력</a> <p class=\"desc\">새 강자 그룹은 IT 기반 플랫폼을 보유한 기업들이다. 플랫폼의 강점은 <b>데이터</b>다. <b>데이터</b>가 모이고 유통되는 곳이 바로 플랫폼이다. <b>데이터</b>는 21세기 원유가 됐고 바야흐로 <b>빅</b><b>데이터</b> 시대를 맞게 된 것이다. 새해 벽두, 애플은 새 진기록을 세웠다. 1월4일 사상 처음...</p> <span class=\"cont_info\"> <span class=\"f_nb\">머니투데이</span> <span class=\"f_nb\">19시간전</span> <a class=\"f_nb\" href=\"http://v.media.daum.net/v/20220119020501044\" onclick='smartLog(this, \"dc=NNS&amp;d=26XmtmA0ZgbPEoqFp6&amp;pg=1&amp;r=1&amp;p=3&amp;rc=10&amp;e1=16gmjhh-4e7TNHMCYw&amp;e3=0&amp;ext=dsid=26XmtmA0ZgbPEoqFp6\", event, {\"cpid\": {\"value\": \"16gmjhh-4e7TNHMCYw\"}});' target=\"_blank\">다음뉴스</a> </span> <span id=\"newsSQC_t1_0\" style=\"display:none;\">10301^http://v.media.daum.net/v/20220119020501044?f=o^26XmtmA0ZgbPEoqFp6^news^mediaArticle^%EB%B9%85%EB%8D%B0%EC%9D%B4%ED%84%B0^26XmtmA0ZgbPEoqFp6</span> </div>,\n",
       " <div class=\"wrap_cont\"> <a class=\"tit_main fn_tit_u\" href=\"http://v.media.daum.net/v/20220119162951352?f=o\" onclick='smartLog(this, \"dc=NNS&amp;d=26h3bc56A3jX730YZ8&amp;pg=1&amp;r=2&amp;p=4&amp;rc=10&amp;e1=16JfL24RCJKYboAM86&amp;e3=0&amp;ext=dsid=26h3bc56A3jX730YZ8\", event, {\"cpid\": {\"value\": \"16JfL24RCJKYboAM86\"}});' target=\"_blank\">서초구, '예측범죄지도' 도입..<b>빅</b><b>데이터</b>로 위험지역 예측</a> <p class=\"desc\">기사내용 요약 <b>빅</b><b>데이터</b> 분석해 시간대별 범죄 위험 지역 집중 감시 [서울=뉴시스]서초스마트허브센터 관제사가 예측범죄지도를 이용해 모니터링하는 모습. (사진=서초구 제공). 2022.01.19. photo@newsis.com [서울=뉴시스] 조현아 기자 = 서울 서초구가 전국 최초...</p> <span class=\"cont_info\"> <span class=\"f_nb\">뉴시스</span> <span class=\"f_nb\">5시간전</span> <a class=\"f_nb\" href=\"http://v.media.daum.net/v/20220119162951352\" onclick='smartLog(this, \"dc=NNS&amp;d=26h3bc56A3jX730YZ8&amp;pg=1&amp;r=2&amp;p=3&amp;rc=10&amp;e1=16JfL24RCJKYboAM86&amp;e3=0&amp;ext=dsid=26h3bc56A3jX730YZ8\", event, {\"cpid\": {\"value\": \"16JfL24RCJKYboAM86\"}});' target=\"_blank\">다음뉴스</a> </span> <div class=\"cont_rel\"> <dl> <dt class=\"screen_out\">관련기사</dt> <dd> <a class=\"tit_rel f_link\" href=\"http://v.media.daum.net/v/20220119161647890?f=o\" onclick='smartLog(this, \"dc=NNS&amp;d=26aXUuasuXbhm_Rww2&amp;pg=1&amp;r=2&amp;p=5&amp;rc=10&amp;e1=16tZcm4AixcQK6HoII&amp;e3=0&amp;ext=dsid=26aXUuasuXbhm_Rww2&amp;rtt=parent&amp;rtid=26h3bc56A3jX730YZ8&amp;rtsc=\", event, {\"cpid\": {\"value\": \"16tZcm4AixcQK6HoII\"}});' target=\"_blank\"> '<b>빅</b><b>데이터</b>로 범죄예방'..서초구, 예측범죄지도 도입 </a> <span class=\"cont_info\"> <span class=\"f_nb\">국민일보</span> <span class=\"f_nb\">5시간전</span> <a class=\"f_nb\" href=\"http://v.media.daum.net/v/20220119161647890\" onclick='smartLog(this, \"dc=NNS&amp;d=26aXUuasuXbhm_Rww2&amp;pg=1&amp;r=2&amp;p=12&amp;rc=10&amp;e1=16tZcm4AixcQK6HoII&amp;e3=0&amp;ext=dsid=26aXUuasuXbhm_Rww2&amp;rtt=parent&amp;rtid=26h3bc56A3jX730YZ8&amp;rtsc=\", event, {\"cpid\": {\"value\": \"16tZcm4AixcQK6HoII\"}});' target=\"_blank\">다음뉴스</a> </span> </dd> <dd> <a class=\"tit_rel f_link\" href=\"http://v.media.daum.net/v/20220119204520608?f=o\" onclick='smartLog(this, \"dc=NNS&amp;d=26KsfsbYYQWsrpgOrD&amp;pg=1&amp;r=2&amp;p=6&amp;rc=10&amp;e1=16akMkKFDu6n8GTzZr&amp;e3=0&amp;ext=dsid=26KsfsbYYQWsrpgOrD&amp;rtt=parent&amp;rtid=26h3bc56A3jX730YZ8&amp;rtsc=\", event, {\"cpid\": {\"value\": \"16akMkKFDu6n8GTzZr\"}});' target=\"_blank\"> 서울 서초, <b>빅</b><b>데이터</b>로 전국 첫 '예측범죄지도' </a> <span class=\"cont_info\"> <span class=\"f_nb\">경향신문</span> <span class=\"f_nb\">1시간전</span> <a class=\"f_nb\" href=\"http://v.media.daum.net/v/20220119204520608\" onclick='smartLog(this, \"dc=NNS&amp;d=26KsfsbYYQWsrpgOrD&amp;pg=1&amp;r=2&amp;p=12&amp;rc=10&amp;e1=16akMkKFDu6n8GTzZr&amp;e3=0&amp;ext=dsid=26KsfsbYYQWsrpgOrD&amp;rtt=parent&amp;rtid=26h3bc56A3jX730YZ8&amp;rtsc=\", event, {\"cpid\": {\"value\": \"16akMkKFDu6n8GTzZr\"}});' target=\"_blank\">다음뉴스</a> </span> </dd> <dd> <a class=\"tit_rel f_link\" href=\"http://v.media.daum.net/v/20220119093654189?f=o\" onclick='smartLog(this, \"dc=NNS&amp;d=26gRj9OgMuKi8Wyk3f&amp;pg=1&amp;r=2&amp;p=7&amp;rc=10&amp;e1=16X5Xh1MWS7Qt1sMrW&amp;e3=0&amp;ext=dsid=26gRj9OgMuKi8Wyk3f&amp;rtt=parent&amp;rtid=26h3bc56A3jX730YZ8&amp;rtsc=\", event, {\"cpid\": {\"value\": \"16X5Xh1MWS7Qt1sMrW\"}});' target=\"_blank\"> <b>빅</b><b>데이터</b>로 우범 지역 핀셋 관리..서초구, '예측범... </a> <span class=\"cont_info\"> <span class=\"f_nb\">연합뉴스</span> <span class=\"f_nb\">12시간전</span> <a class=\"f_nb\" href=\"http://v.media.daum.net/v/20220119093654189\" onclick='smartLog(this, \"dc=NNS&amp;d=26gRj9OgMuKi8Wyk3f&amp;pg=1&amp;r=2&amp;p=12&amp;rc=10&amp;e1=16X5Xh1MWS7Qt1sMrW&amp;e3=0&amp;ext=dsid=26gRj9OgMuKi8Wyk3f&amp;rtt=parent&amp;rtid=26h3bc56A3jX730YZ8&amp;rtsc=\", event, {\"cpid\": {\"value\": \"16X5Xh1MWS7Qt1sMrW\"}});' target=\"_blank\">다음뉴스</a> </span> </dd> </dl> <a class=\"link_cluster f_nb\" href=\"?w=news&amp;req=tab&amp;q=%EB%B9%85%EB%8D%B0%EC%9D%B4%ED%84%B0&amp;cluster=y&amp;viewio=i&amp;repno=0&amp;n=10&amp;p=1&amp;related_page=1&amp;cluster_docid=26h3bc56A3jX730YZ8&amp;DA=NTB\" onclick='smartLog(this, \"dc=NNS&amp;ext=dsid=26h3bc56A3jX730YZ8&amp;d=26h3bc56A3jX730YZ8&amp;pg=1&amp;r=2&amp;p=19&amp;rc=10&amp;e1=16JfL24RCJKYboAM86\", event);'> 관련뉴스 <b>5</b>건 전체보기<span class=\"ico_rwd\"></span> </a> </div> <span id=\"newsSQC_t1_1\" style=\"display:none;\">10301^http://v.media.daum.net/v/20220119162951352?f=o^26h3bc56A3jX730YZ8^news^mediaArticle^%EB%B9%85%EB%8D%B0%EC%9D%B4%ED%84%B0^26h3bc56A3jX730YZ8</span> </div>,\n",
       " <div class=\"wrap_cont\"> <a class=\"tit_main fn_tit_u\" href=\"http://v.media.daum.net/v/20220119141604019?f=o\" onclick='smartLog(this, \"dc=NNS&amp;d=26mbzI-8Of_9iGngFO&amp;pg=1&amp;r=3&amp;p=4&amp;rc=10&amp;e1=16yZfDfR_rGcw5F-P0&amp;e3=0&amp;ext=dsid=26mbzI-8Of_9iGngFO\", event, {\"cpid\": {\"value\": \"16yZfDfR_rGcw5F-P0\"}});' target=\"_blank\">통화 방송 후 사흘.. 관심도 李 46 vs 尹 54 l <b>빅</b><b>데이터</b>랩</a> <p class=\"tit_sub f_nb\">尹 큰 타격 없어..부정감성 안정세 SNS에 녹취 풀린 李, 파장 불투명</p> <p class=\"desc\">그리고 지난 한 주간 온라인상 대선 관련 민심, 관심의 흐름은 어떻게 전개되고 있을까요. JTBC가 기획ㆍ개발한 <b>빅</b><b>데이터</b> 분석 플랫폼 'JTBC<b>빅</b><b>데이터</b>랩'이 실시간으로, 그리고 한 주간 누적으로 관심과 호감의 변화 양상을 추적합니다. 지난 16일 저녁 국민의힘...</p> <span class=\"cont_info\"> <span class=\"f_nb\">JTBC</span> <span class=\"f_nb\">7시간전</span> <a class=\"f_nb\" href=\"http://v.media.daum.net/v/20220119141604019\" onclick='smartLog(this, \"dc=NNS&amp;d=26mbzI-8Of_9iGngFO&amp;pg=1&amp;r=3&amp;p=3&amp;rc=10&amp;e1=16yZfDfR_rGcw5F-P0&amp;e3=0&amp;ext=dsid=26mbzI-8Of_9iGngFO\", event, {\"cpid\": {\"value\": \"16yZfDfR_rGcw5F-P0\"}});' target=\"_blank\">다음뉴스</a> </span> <span id=\"newsSQC_t1_2\" style=\"display:none;\">10301^http://v.media.daum.net/v/20220119141604019?f=o^26mbzI-8Of_9iGngFO^news^mediaArticle^%EB%B9%85%EB%8D%B0%EC%9D%B4%ED%84%B0^26mbzI-8Of_9iGngFO</span> </div>,\n",
       " <div class=\"wrap_cont\"> <a class=\"tit_main fn_tit_u\" href=\"http://v.media.daum.net/v/20220119111204914?f=o\" onclick='smartLog(this, \"dc=NNS&amp;d=26y9ObHxq1eLbWFDEu&amp;pg=1&amp;r=4&amp;p=4&amp;rc=10&amp;e1=16yZfDfR_rGcw5F-P0&amp;e3=0&amp;ext=dsid=26y9ObHxq1eLbWFDEu\", event, {\"cpid\": {\"value\": \"16yZfDfR_rGcw5F-P0\"}});' target=\"_blank\">악재 뜨면 이슈로 맞불.. 李 이번엔 'TV토론 카드'?ㅣ<b>빅</b><b>데이터</b>랩</a> <p class=\"tit_sub f_nb\">[주간분석] 의혹 제보자 사망..부정감성 수직상승 TV토론·통화 TV방송 이슈 뜨며 빠른 하락 전환'김건희' 논란 촉각 세운 尹, 부정감성 안정 유지단일화 한복판 安, 3자구도 굳히기 정중동 행보</p> <p class=\"desc\">언급량이 늘어났습니다. 'TV토론'과 'TV방송', 이 두 키워드가 어떻게 한 주간 대선판에서 작동했는지 함께 살펴보겠습니다. JTBC<b>빅</b><b>데이터</b>랩은 뉴스ㆍ커뮤니티ㆍ블로그 등 온라인상의 민심 동향을 추적해 분석하고 있습니다. 일주일 누적 <b>데이터</b>부터 보겠습니다...</p> <span class=\"cont_info\"> <span class=\"f_nb\">JTBC</span> <span class=\"f_nb\">10시간전</span> <a class=\"f_nb\" href=\"http://v.media.daum.net/v/20220119111204914\" onclick='smartLog(this, \"dc=NNS&amp;d=26y9ObHxq1eLbWFDEu&amp;pg=1&amp;r=4&amp;p=3&amp;rc=10&amp;e1=16yZfDfR_rGcw5F-P0&amp;e3=0&amp;ext=dsid=26y9ObHxq1eLbWFDEu\", event, {\"cpid\": {\"value\": \"16yZfDfR_rGcw5F-P0\"}});' target=\"_blank\">다음뉴스</a> </span> <span id=\"newsSQC_t1_3\" style=\"display:none;\">10301^http://v.media.daum.net/v/20220119111204914?f=o^26y9ObHxq1eLbWFDEu^news^mediaArticle^%EB%B9%85%EB%8D%B0%EC%9D%B4%ED%84%B0^26y9ObHxq1eLbWFDEu</span> </div>,\n",
       " <div class=\"wrap_cont\"> <a class=\"tit_main fn_tit_u\" href=\"http://v.media.daum.net/v/20220119175403586?f=o\" onclick='smartLog(this, \"dc=NNS&amp;d=26zZV67sYMIVQnoD_O&amp;pg=1&amp;r=5&amp;p=4&amp;rc=10&amp;e1=16sIQ8rx97vi9RHx8w&amp;e3=0&amp;ext=dsid=26zZV67sYMIVQnoD_O\", event, {\"cpid\": {\"value\": \"16sIQ8rx97vi9RHx8w\"}});' target=\"_blank\">식약처, AI·<b>빅</b><b>데이터</b> 활용 수입식품 안전관리 디지털 전환</a> <p class=\"desc\">식품의약품안전처가 수입식품 안전관리에 인공지능(AI), 블록체인, <b>빅</b><b>데이터</b> 등 디지털 기술을 적극 활용한다. 식약처는 디지털 전환을 통한 수입식품 안전관리 혁신 방안을 논의하기 위해 19일 한국프레스센터에서 행정, 산업공학, 규제과학, <b>데이터</b>과학, 유통 등...</p> <span class=\"cont_info\"> <span class=\"f_nb\">전자신문</span> <span class=\"f_nb\">4시간전</span> <a class=\"f_nb\" href=\"http://v.media.daum.net/v/20220119175403586\" onclick='smartLog(this, \"dc=NNS&amp;d=26zZV67sYMIVQnoD_O&amp;pg=1&amp;r=5&amp;p=3&amp;rc=10&amp;e1=16sIQ8rx97vi9RHx8w&amp;e3=0&amp;ext=dsid=26zZV67sYMIVQnoD_O\", event, {\"cpid\": {\"value\": \"16sIQ8rx97vi9RHx8w\"}});' target=\"_blank\">다음뉴스</a> </span> <span id=\"newsSQC_t1_4\" style=\"display:none;\">10301^http://v.media.daum.net/v/20220119175403586?f=o^26zZV67sYMIVQnoD_O^news^mediaArticle^%EB%B9%85%EB%8D%B0%EC%9D%B4%ED%84%B0^26zZV67sYMIVQnoD_O</span> </div>,\n",
       " <div class=\"wrap_cont\"> <a class=\"tit_main fn_tit_u\" href=\"https://cp.news.search.daum.net/p/115221091\" onclick='smartLog(this, \"dc=NNS&amp;d=26b1FEjT17OuKKxODr&amp;pg=1&amp;r=6&amp;p=4&amp;rc=10&amp;e1=16LF73daRP8xmsgeQs&amp;e3=0&amp;ext=dsid=26b1FEjT17OuKKxODr\", event, {\"cpid\": {\"value\": \"16LF73daRP8xmsgeQs\"}});' target=\"_blank\">식품업계, <b>데이터</b>가 경영 성패 가른다…<b>빅</b><b>데이터</b> 사업에 투자</a> <p class=\"desc\"><b>데이터</b>를 활용해 소비자들의 라이프스타일과 소비 패턴을 분석, 이를 제품 개발에 적용하고 있는 것. 특히 급식 ·식자재 기업이 <b>빅</b><b>데이터</b> 경영에 주력하고 있다. 풀무원의 계열사 풀무원푸드앤컬처는 KT와 손잡과 'DX 기반의 주방 스마트화 공동연구'에 대한 업무...</p> <span class=\"cont_info\"> <span class=\"f_nb\">메트로신문</span> <span class=\"f_nb\">6시간전</span> </span> <span id=\"newsSQC_t1_5\" style=\"display:none;\">10301^https://cp.news.search.daum.net/p/115221091^26b1FEjT17OuKKxODr^news^mediaArticle^%EB%B9%85%EB%8D%B0%EC%9D%B4%ED%84%B0^26b1FEjT17OuKKxODr</span> </div>,\n",
       " <div class=\"wrap_cont\"> <a class=\"tit_main fn_tit_u\" href=\"https://cp.news.search.daum.net/p/115226578\" onclick='smartLog(this, \"dc=NNS&amp;d=26t5SXnHfdzRmBu4Fm&amp;pg=1&amp;r=7&amp;p=4&amp;rc=10&amp;e1=16UxjjUfNJGPNS88Hf&amp;e3=0&amp;ext=dsid=26t5SXnHfdzRmBu4Fm\", event, {\"cpid\": {\"value\": \"16UxjjUfNJGPNS88Hf\"}});' target=\"_blank\">도 <b>빅</b><b>데이터</b>위원회 개최…올해 경기도 마이<b>데이터</b> 플랫폼 개시</a> <p class=\"desc\">활용, 관리할 수 있는 ‘경기도 마이<b>데이터</b> 플랫폼’ 서비스를 시작한다. 경기도는 18일 수원시 경기도RDB센터에서 2022년 <b>빅</b><b>데이터</b>위원회 제1차 회의를 개최했다. 위원회에서는 위원장(공병훈 협성대 교수)을 포함해 당연직·위촉직 위원 등 총 12명이 참석한...</p> <span class=\"cont_info\"> <span class=\"f_nb\">시대일보</span> <span class=\"f_nb\">7시간전</span> </span> <div class=\"cont_rel\"> <dl> <dt class=\"screen_out\">관련기사</dt> <dd> <a class=\"tit_rel f_link\" href=\"https://cp.news.search.daum.net/p/115196941\" onclick='smartLog(this, \"dc=NNS&amp;d=26mK3VUZFj_ewTRyDt&amp;pg=1&amp;r=7&amp;p=5&amp;rc=10&amp;e1=16f1vm5c5x21P9AOye&amp;e3=0&amp;ext=dsid=26mK3VUZFj_ewTRyDt&amp;rtt=parent&amp;rtid=26t5SXnHfdzRmBu4Fm&amp;rtsc=\", event, {\"cpid\": {\"value\": \"16f1vm5c5x21P9AOye\"}});' target=\"_blank\"> 경기도,도 <b>빅</b><b>데이터</b>위원회 개최…올해 경기도 마이... </a> <span class=\"cont_info\"> <span class=\"f_nb\">경인투데이뉴스</span> <span class=\"f_nb\">13시간전</span> </span> </dd> <dd> <a class=\"tit_rel f_link\" href=\"https://cp.news.search.daum.net/p/115183542\" onclick='smartLog(this, \"dc=NNS&amp;d=26c9JifCMF1WHyENKg&amp;pg=1&amp;r=7&amp;p=6&amp;rc=10&amp;e1=16yB_iNR1sCrGCnSL8&amp;e3=0&amp;ext=dsid=26c9JifCMF1WHyENKg&amp;rtt=parent&amp;rtid=26t5SXnHfdzRmBu4Fm&amp;rtsc=\", event, {\"cpid\": {\"value\": \"16yB_iNR1sCrGCnSL8\"}});' target=\"_blank\"> 경기도 <b>빅</b><b>데이터</b>위원회 개최 </a> <span class=\"cont_info\"> <span class=\"f_nb\">브릿지경제신문</span> <span class=\"f_nb\">2022.01.18</span> </span> </dd> <dd> <a class=\"tit_rel f_link\" href=\"https://cp.news.search.daum.net/p/115191430\" onclick='smartLog(this, \"dc=NNS&amp;d=265AMn8cnJMQzIlKGO&amp;pg=1&amp;r=7&amp;p=7&amp;rc=10&amp;e1=16qXU7hcnoMF-JoP0A&amp;e3=0&amp;ext=dsid=265AMn8cnJMQzIlKGO&amp;rtt=parent&amp;rtid=26t5SXnHfdzRmBu4Fm&amp;rtsc=\", event, {\"cpid\": {\"value\": \"16qXU7hcnoMF-JoP0A\"}});' target=\"_blank\"> 경기도 <b>빅</b><b>데이터</b>위원회 개최… 올해 마이<b>데이터</b> 플... </a> <span class=\"cont_info\"> <span class=\"f_nb\">엔디엔뉴스</span> <span class=\"f_nb\">2022.01.18</span> </span> </dd> </dl> <a class=\"link_cluster f_nb\" href=\"?w=news&amp;req=tab&amp;q=%EB%B9%85%EB%8D%B0%EC%9D%B4%ED%84%B0&amp;cluster=y&amp;viewio=i&amp;repno=0&amp;n=10&amp;p=1&amp;related_page=1&amp;cluster_docid=26t5SXnHfdzRmBu4Fm&amp;DA=NTB\" onclick='smartLog(this, \"dc=NNS&amp;ext=dsid=26t5SXnHfdzRmBu4Fm&amp;d=26t5SXnHfdzRmBu4Fm&amp;pg=1&amp;r=7&amp;p=19&amp;rc=10&amp;e1=16UxjjUfNJGPNS88Hf\", event);'> 관련뉴스 <b>27</b>건 전체보기<span class=\"ico_rwd\"></span> </a> </div> <span id=\"newsSQC_t1_6\" style=\"display:none;\">10301^https://cp.news.search.daum.net/p/115226578^26t5SXnHfdzRmBu4Fm^news^mediaArticle^%EB%B9%85%EB%8D%B0%EC%9D%B4%ED%84%B0^26t5SXnHfdzRmBu4Fm</span> </div>,\n",
       " <div class=\"wrap_cont\"> <a class=\"tit_main fn_tit_u\" href=\"https://cp.news.search.daum.net/p/115217602\" onclick='smartLog(this, \"dc=NNS&amp;d=26rwlx6n9cBaL-TjJ8&amp;pg=1&amp;r=8&amp;p=4&amp;rc=10&amp;e1=16-808bNca9PmxuGza&amp;e3=0&amp;ext=dsid=26rwlx6n9cBaL-TjJ8\", event, {\"cpid\": {\"value\": \"16-808bNca9PmxuGza\"}});' target=\"_blank\">[칼럼] 올해 <b>빅</b><b>데이터</b> 정책 특화교육 디지털 전환 촉진</a> <p class=\"desc\">경기도는 <b>데이터</b> 기반의 산업 혁신과 디지털로 전환 촉진 기반을 마련하기 위해 노력하고 있다”라며 “<b>빅</b><b>데이터</b>위원회에서 논의된 사항을 바탕으로 <b>데이터</b> 기반 혁신 사업을 성공적으로 추진하기 위해 최선을 다하겠다. 그러면서 경기도는 도정의 디지털전환과...</p> <span class=\"cont_info\"> <span class=\"f_nb\">케이에스피뉴스</span> <span class=\"f_nb\">7시간전</span> </span> <span id=\"newsSQC_t1_7\" style=\"display:none;\">10301^https://cp.news.search.daum.net/p/115217602^26rwlx6n9cBaL-TjJ8^news^mediaArticle^%EB%B9%85%EB%8D%B0%EC%9D%B4%ED%84%B0^26rwlx6n9cBaL-TjJ8</span> </div>,\n",
       " <div class=\"wrap_cont\"> <a class=\"tit_main fn_tit_u\" href=\"http://v.media.daum.net/v/20220119180600001?f=o\" onclick='smartLog(this, \"dc=NNS&amp;d=26lD6xjiu28aLMbLgk&amp;pg=1&amp;r=9&amp;p=4&amp;rc=10&amp;e1=16O8sbGdUflWYlfqu4&amp;e3=0&amp;ext=dsid=26lD6xjiu28aLMbLgk\", event, {\"cpid\": {\"value\": \"16O8sbGdUflWYlfqu4\"}});' target=\"_blank\">서초구, <b>빅</b><b>데이터</b>로 우범지역 찾고 행인 손동작으로 범죄가능성 잡는다</a> <p class=\"tit_sub f_nb\">빅데이터 기반 '예측범죄지도 시스템' 개발</p> <p class=\"desc\">`예측범죄지도 시스템`상에 위험도에 따라 색이 칠해진 모습 [사진 제공 = 서초구] 서초구가 범죄 가능성이 높은 지역을 <b>빅</b><b>데이터</b>로 예측해 집중 감시하는 '예측범죄지도 시스템'을 개발 운영한다. 밤늦게 혼자 가는 여성을 쫓아가는 남성의 손동작, 표정, 몸짓을...</p> <span class=\"cont_info\"> <span class=\"f_nb\">매일경제</span> <span class=\"f_nb\">3시간전</span> <a class=\"f_nb\" href=\"http://v.media.daum.net/v/20220119180600001\" onclick='smartLog(this, \"dc=NNS&amp;d=26lD6xjiu28aLMbLgk&amp;pg=1&amp;r=9&amp;p=3&amp;rc=10&amp;e1=16O8sbGdUflWYlfqu4&amp;e3=0&amp;ext=dsid=26lD6xjiu28aLMbLgk\", event, {\"cpid\": {\"value\": \"16O8sbGdUflWYlfqu4\"}});' target=\"_blank\">다음뉴스</a> </span> <span id=\"newsSQC_t1_8\" style=\"display:none;\">10301^http://v.media.daum.net/v/20220119180600001?f=o^26lD6xjiu28aLMbLgk^news^mediaArticle^%EB%B9%85%EB%8D%B0%EC%9D%B4%ED%84%B0^26lD6xjiu28aLMbLgk</span> </div>,\n",
       " <div class=\"wrap_cont\"> <a class=\"tit_main fn_tit_u\" href=\"https://cp.news.search.daum.net/p/115223767\" onclick='smartLog(this, \"dc=NNS&amp;d=26ghfgLljt53VR1Epm&amp;pg=1&amp;r=10&amp;p=4&amp;rc=10&amp;e1=168uS3odpcBbD48pR3&amp;e3=0&amp;ext=dsid=26ghfgLljt53VR1Epm\", event, {\"cpid\": {\"value\": \"168uS3odpcBbD48pR3\"}});' target=\"_blank\">최저임금 여론 분석을 <b>빅</b><b>데이터</b>로?...\"새로운 시도지만 활용도 낮아\"</a> <p class=\"desc\">회의에 2022년도 적용 최저임금이 9160원으로 의결됐다는 내용이 표시돼 있다. (사진=뉴시스) 최저임금위원회(최저임금위)에서 <b>빅</b><b>데이터</b>를 통해 여론을 분석하자는 연구가 진행됐지만 적극적인 활용은 어려울 것이라는 전망이 나왔다. 최저임금위는 <b>빅</b><b>데이터</b> 활용...</p> <span class=\"cont_info\"> <span class=\"f_nb\">월간 노동법률</span> <span class=\"f_nb\">5시간전</span> </span> <span id=\"newsSQC_t1_9\" style=\"display:none;\">10301^https://cp.news.search.daum.net/p/115223767^26ghfgLljt53VR1Epm^news^mediaArticle^%EB%B9%85%EB%8D%B0%EC%9D%B4%ED%84%B0^26ghfgLljt53VR1Epm</span> </div>]"
      ]
     },
     "execution_count": 15,
     "metadata": {},
     "output_type": "execute_result"
    }
   ],
   "source": [
    "summary = soup.select(path)\n",
    "summary"
   ]
  },
  {
   "cell_type": "code",
   "execution_count": 16,
   "id": "6bd028df",
   "metadata": {
    "collapsed": true
   },
   "outputs": [
    {
     "name": "stdout",
     "output_type": "stream",
     "text": [
      "[투데이 窓]빅데이터에서 미래를 읽는 통찰력\n",
      "http://v.media.daum.net/v/20220119020501044?f=o\n",
      "새 강자 그룹은 IT 기반 플랫폼을 보유한 기업들이다. 플랫폼의 강점은 데이터다. 데이터가 모이고 유통되는 곳이 바로 플랫폼이다. 데이터는 21세기 원유가 됐고 바야흐로 빅데이터 시대를 맞게 된 것이다. 새해 벽두, 애플은 새 진기록을 세웠다. 1월4일 사상 처음...\n",
      "------------------------------------------------------------\n",
      "서초구, '예측범죄지도' 도입..빅데이터로 위험지역 예측\n",
      "http://v.media.daum.net/v/20220119162951352?f=o\n",
      "기사내용 요약 빅데이터 분석해 시간대별 범죄 위험 지역 집중 감시 [서울=뉴시스]서초스마트허브센터 관제사가 예측범죄지도를 이용해 모니터링하는 모습. (사진=서초구 제공). 2022.01.19. photo@newsis.com [서울=뉴시스] 조현아 기자 = 서울 서초구가 전국 최초...\n",
      "------------------------------------------------------------\n",
      "통화 방송 후 사흘.. 관심도 李 46 vs 尹 54 l 빅데이터랩\n",
      "http://v.media.daum.net/v/20220119141604019?f=o\n",
      "尹 큰 타격 없어..부정감성 안정세 SNS에 녹취 풀린 李, 파장 불투명\n",
      "------------------------------------------------------------\n",
      "악재 뜨면 이슈로 맞불.. 李 이번엔 'TV토론 카드'?ㅣ빅데이터랩\n",
      "http://v.media.daum.net/v/20220119111204914?f=o\n",
      "[주간분석] 의혹 제보자 사망..부정감성 수직상승 TV토론·통화 TV방송 이슈 뜨며 빠른 하락 전환'김건희' 논란 촉각 세운 尹, 부정감성 안정 유지단일화 한복판 安, 3자구도 굳히기 정중동 행보\n",
      "------------------------------------------------------------\n",
      "식약처, AI·빅데이터 활용 수입식품 안전관리 디지털 전환\n",
      "http://v.media.daum.net/v/20220119175403586?f=o\n",
      "식품의약품안전처가 수입식품 안전관리에 인공지능(AI), 블록체인, 빅데이터 등 디지털 기술을 적극 활용한다. 식약처는 디지털 전환을 통한 수입식품 안전관리 혁신 방안을 논의하기 위해 19일 한국프레스센터에서 행정, 산업공학, 규제과학, 데이터과학, 유통 등...\n",
      "------------------------------------------------------------\n",
      "식품업계, 데이터가 경영 성패 가른다…빅데이터 사업에 투자\n",
      "https://cp.news.search.daum.net/p/115221091\n",
      "데이터를 활용해 소비자들의 라이프스타일과 소비 패턴을 분석, 이를 제품 개발에 적용하고 있는 것. 특히 급식 ·식자재 기업이 빅데이터 경영에 주력하고 있다. 풀무원의 계열사 풀무원푸드앤컬처는 KT와 손잡과 'DX 기반의 주방 스마트화 공동연구'에 대한 업무...\n",
      "------------------------------------------------------------\n",
      "도 빅데이터위원회 개최…올해 경기도 마이데이터 플랫폼 개시\n",
      "https://cp.news.search.daum.net/p/115226578\n",
      "활용, 관리할 수 있는 ‘경기도 마이데이터 플랫폼’ 서비스를 시작한다. 경기도는 18일 수원시 경기도RDB센터에서 2022년 빅데이터위원회 제1차 회의를 개최했다. 위원회에서는 위원장(공병훈 협성대 교수)을 포함해 당연직·위촉직 위원 등 총 12명이 참석한...\n",
      "------------------------------------------------------------\n",
      "[칼럼] 올해 빅데이터 정책 특화교육 디지털 전환 촉진\n",
      "https://cp.news.search.daum.net/p/115217602\n",
      "경기도는 데이터 기반의 산업 혁신과 디지털로 전환 촉진 기반을 마련하기 위해 노력하고 있다”라며 “빅데이터위원회에서 논의된 사항을 바탕으로 데이터 기반 혁신 사업을 성공적으로 추진하기 위해 최선을 다하겠다. 그러면서 경기도는 도정의 디지털전환과...\n",
      "------------------------------------------------------------\n",
      "서초구, 빅데이터로 우범지역 찾고 행인 손동작으로 범죄가능성 잡는다\n",
      "http://v.media.daum.net/v/20220119180600001?f=o\n",
      "빅데이터 기반 '예측범죄지도 시스템' 개발\n",
      "------------------------------------------------------------\n",
      "최저임금 여론 분석을 빅데이터로?...\"새로운 시도지만 활용도 낮아\"\n",
      "https://cp.news.search.daum.net/p/115223767\n",
      "회의에 2022년도 적용 최저임금이 9160원으로 의결됐다는 내용이 표시돼 있다. (사진=뉴시스) 최저임금위원회(최저임금위)에서 빅데이터를 통해 여론을 분석하자는 연구가 진행됐지만 적극적인 활용은 어려울 것이라는 전망이 나왔다. 최저임금위는 빅데이터 활용...\n",
      "------------------------------------------------------------\n"
     ]
    }
   ],
   "source": [
    "for t in (summary):\n",
    "    print(t.select('a.tit_main')[0].text)\n",
    "    print(t.select('a')[0]['href'])\n",
    "    print(t.p.text)\n",
    "    print('-'*60)\n",
    "    \n",
    "#     print(t['href'])\n",
    "#     print(t.text)"
   ]
  },
  {
   "cell_type": "code",
   "execution_count": null,
   "id": "4e3772ac",
   "metadata": {},
   "outputs": [],
   "source": [
    "# 검색어를 입력 받은 후 해당 검색어로 다음 뉴스 페이지에서 검색한 결과의 제목, url, summary를 크롤링하시오\n",
    "# (url을 조사)\n",
    "https://search.daum.net/search?w=news&nil_search=btn&DA=NTB&enc=utf8&cluster=y&cluster_page=1&q=%EB%B9%85%EB%8D%B0%EC%9D%B4%ED%84%B0"
   ]
  },
  {
   "cell_type": "code",
   "execution_count": 98,
   "id": "d9f4ed8d",
   "metadata": {},
   "outputs": [
    {
     "name": "stdout",
     "output_type": "stream",
     "text": [
      "검색어빅데이터\n"
     ]
    }
   ],
   "source": [
    "serch = input('검색어')"
   ]
  },
  {
   "cell_type": "code",
   "execution_count": 102,
   "id": "b8c2fc8b",
   "metadata": {},
   "outputs": [],
   "source": [
    "url = 'https://search.daum.net/search?w=news&nil_search=btn&DA=NTB&enc=utf8&cluster=y&cluster_page=1&q=serch'"
   ]
  },
  {
   "cell_type": "code",
   "execution_count": 100,
   "id": "1b626beb",
   "metadata": {},
   "outputs": [],
   "source": [
    "path = '#newsColl > div.cont_divider > ul > li > div.wrap_cont '"
   ]
  },
  {
   "cell_type": "code",
   "execution_count": 101,
   "id": "1874bafe",
   "metadata": {
    "collapsed": true
   },
   "outputs": [
    {
     "data": {
      "text/plain": [
       "[<div class=\"wrap_cont\"> <a class=\"tit_main fn_tit_u\" href=\"http://v.media.daum.net/v/20220119020501044?f=o\" onclick='smartLog(this, \"dc=NNS&amp;d=26XmtmA0ZgbPEoqFp6&amp;pg=1&amp;r=1&amp;p=4&amp;rc=10&amp;e1=16gmjhh-4e7TNHMCYw&amp;e3=0&amp;ext=dsid=26XmtmA0ZgbPEoqFp6\", event, {\"cpid\": {\"value\": \"16gmjhh-4e7TNHMCYw\"}});' target=\"_blank\">[투데이 窓]<b>빅</b><b>데이터</b>에서 미래를 읽는 통찰력</a> <p class=\"desc\">새 강자 그룹은 IT 기반 플랫폼을 보유한 기업들이다. 플랫폼의 강점은 <b>데이터</b>다. <b>데이터</b>가 모이고 유통되는 곳이 바로 플랫폼이다. <b>데이터</b>는 21세기 원유가 됐고 바야흐로 <b>빅</b><b>데이터</b> 시대를 맞게 된 것이다. 새해 벽두, 애플은 새 진기록을 세웠다. 1월4일 사상 처음...</p> <span class=\"cont_info\"> <span class=\"f_nb\">머니투데이</span> <span class=\"f_nb\">12시간전</span> <a class=\"f_nb\" href=\"http://v.media.daum.net/v/20220119020501044\" onclick='smartLog(this, \"dc=NNS&amp;d=26XmtmA0ZgbPEoqFp6&amp;pg=1&amp;r=1&amp;p=3&amp;rc=10&amp;e1=16gmjhh-4e7TNHMCYw&amp;e3=0&amp;ext=dsid=26XmtmA0ZgbPEoqFp6\", event, {\"cpid\": {\"value\": \"16gmjhh-4e7TNHMCYw\"}});' target=\"_blank\">다음뉴스</a> </span> <span id=\"newsSQC_t1_0\" style=\"display:none;\">10301^http://v.media.daum.net/v/20220119020501044?f=o^26XmtmA0ZgbPEoqFp6^news^mediaArticle^%EB%B9%85%EB%8D%B0%EC%9D%B4%ED%84%B0^26XmtmA0ZgbPEoqFp6</span> </div>,\n",
       " <div class=\"wrap_cont\"> <a class=\"tit_main fn_tit_u\" href=\"http://v.media.daum.net/v/20220119141604019?f=o\" onclick='smartLog(this, \"dc=NNS&amp;d=26mbzI-8Of_9iGngFO&amp;pg=1&amp;r=2&amp;p=4&amp;rc=10&amp;e1=16yZfDfR_rGcw5F-P0&amp;e3=0&amp;ext=dsid=26mbzI-8Of_9iGngFO\", event, {\"cpid\": {\"value\": \"16yZfDfR_rGcw5F-P0\"}});' target=\"_blank\">통화 방송 후 사흘.. 관심도 李 46 vs 尹 54 l <b>빅</b><b>데이터</b>랩</a> <p class=\"tit_sub f_nb\">尹 큰 타격 없어..부정감성 안정세 SNS에 녹취 풀린 李, 파장 불투명</p> <p class=\"desc\">그리고 지난 한 주간 온라인상 대선 관련 민심, 관심의 흐름은 어떻게 전개되고 있을까요. JTBC가 기획ㆍ개발한 <b>빅</b><b>데이터</b> 분석 플랫폼 'JTBC<b>빅</b><b>데이터</b>랩'이 실시간으로, 그리고 한 주간 누적으로 관심과 호감의 변화 양상을 추적합니다. 지난 16일 저녁 국민의힘...</p> <span class=\"cont_info\"> <span class=\"f_nb\">JTBC</span> <span class=\"f_nb\">32분전</span> <a class=\"f_nb\" href=\"http://v.media.daum.net/v/20220119141604019\" onclick='smartLog(this, \"dc=NNS&amp;d=26mbzI-8Of_9iGngFO&amp;pg=1&amp;r=2&amp;p=3&amp;rc=10&amp;e1=16yZfDfR_rGcw5F-P0&amp;e3=0&amp;ext=dsid=26mbzI-8Of_9iGngFO\", event, {\"cpid\": {\"value\": \"16yZfDfR_rGcw5F-P0\"}});' target=\"_blank\">다음뉴스</a> </span> <span id=\"newsSQC_t1_1\" style=\"display:none;\">10301^http://v.media.daum.net/v/20220119141604019?f=o^26mbzI-8Of_9iGngFO^news^mediaArticle^%EB%B9%85%EB%8D%B0%EC%9D%B4%ED%84%B0^26mbzI-8Of_9iGngFO</span> </div>,\n",
       " <div class=\"wrap_cont\"> <a class=\"tit_main fn_tit_u\" href=\"http://v.media.daum.net/v/20220119111204914?f=o\" onclick='smartLog(this, \"dc=NNS&amp;d=26y9ObHxq1eLbWFDEu&amp;pg=1&amp;r=3&amp;p=4&amp;rc=10&amp;e1=16yZfDfR_rGcw5F-P0&amp;e3=0&amp;ext=dsid=26y9ObHxq1eLbWFDEu\", event, {\"cpid\": {\"value\": \"16yZfDfR_rGcw5F-P0\"}});' target=\"_blank\">악재 뜨면 이슈로 맞불.. 李 이번엔 'TV토론 카드'?ㅣ<b>빅</b><b>데이터</b>랩</a> <p class=\"tit_sub f_nb\">[주간분석] 의혹 제보자 사망..부정감성 수직상승 TV토론·통화 TV방송 이슈 뜨며 빠른 하락 전환'김건희' 논란 촉각 세운 尹, 부정감성 안정 유지단일화 한복판 安, 3자구도 굳히기 정중동 행보</p> <p class=\"desc\">언급량이 늘어났습니다. 'TV토론'과 'TV방송', 이 두 키워드가 어떻게 한 주간 대선판에서 작동했는지 함께 살펴보겠습니다. JTBC<b>빅</b><b>데이터</b>랩은 뉴스ㆍ커뮤니티ㆍ블로그 등 온라인상의 민심 동향을 추적해 분석하고 있습니다. 일주일 누적 <b>데이터</b>부터 보겠습니다...</p> <span class=\"cont_info\"> <span class=\"f_nb\">JTBC</span> <span class=\"f_nb\">3시간전</span> <a class=\"f_nb\" href=\"http://v.media.daum.net/v/20220119111204914\" onclick='smartLog(this, \"dc=NNS&amp;d=26y9ObHxq1eLbWFDEu&amp;pg=1&amp;r=3&amp;p=3&amp;rc=10&amp;e1=16yZfDfR_rGcw5F-P0&amp;e3=0&amp;ext=dsid=26y9ObHxq1eLbWFDEu\", event, {\"cpid\": {\"value\": \"16yZfDfR_rGcw5F-P0\"}});' target=\"_blank\">다음뉴스</a> </span> <span id=\"newsSQC_t1_2\" style=\"display:none;\">10301^http://v.media.daum.net/v/20220119111204914?f=o^26y9ObHxq1eLbWFDEu^news^mediaArticle^%EB%B9%85%EB%8D%B0%EC%9D%B4%ED%84%B0^26y9ObHxq1eLbWFDEu</span> </div>,\n",
       " <div class=\"wrap_cont\"> <a class=\"tit_main fn_tit_u\" href=\"http://v.media.daum.net/v/20220119101925108?f=o\" onclick='smartLog(this, \"dc=NNS&amp;d=26hJOCpY9ZGIksPGsZ&amp;pg=1&amp;r=4&amp;p=4&amp;rc=10&amp;e1=16ZP4dHX8AatmWDTlF&amp;e3=0&amp;ext=dsid=26hJOCpY9ZGIksPGsZ\", event, {\"cpid\": {\"value\": \"16ZP4dHX8AatmWDTlF\"}});' target=\"_blank\">대전시, <b>빅</b><b>데이터</b> 활용 '지역사회건강지도' 구축</a> <p class=\"desc\">흡연·음주·정신건강 등 주요지표 10개 영역 <b>데이터</b> 시각화 대전시 지역사회건강지도 <b>빅</b><b>데이터</b> 시스템 / 대전시 제공 [더팩트 | 대전=최영규 기자] 대전 시민들의 주요 건강지표 테이터를 시 홈페이지에서 한 눈에 볼 수 있게 됐다. 19일 시에 따르면 2010년부터...</p> <span class=\"cont_info\"> <span class=\"f_nb\">더팩트</span> <span class=\"f_nb\">4시간전</span> <a class=\"f_nb\" href=\"http://v.media.daum.net/v/20220119101925108\" onclick='smartLog(this, \"dc=NNS&amp;d=26hJOCpY9ZGIksPGsZ&amp;pg=1&amp;r=4&amp;p=3&amp;rc=10&amp;e1=16ZP4dHX8AatmWDTlF&amp;e3=0&amp;ext=dsid=26hJOCpY9ZGIksPGsZ\", event, {\"cpid\": {\"value\": \"16ZP4dHX8AatmWDTlF\"}});' target=\"_blank\">다음뉴스</a> </span> <div class=\"cont_rel\"> <dl> <dt class=\"screen_out\">관련기사</dt> <dd> <a class=\"tit_rel f_link\" href=\"http://v.media.daum.net/v/20220119133901759?f=o\" onclick='smartLog(this, \"dc=NNS&amp;d=26s2ooRdkuGqggHaNE&amp;pg=1&amp;r=4&amp;p=5&amp;rc=10&amp;e1=16iL25JCNSvhQN0hEU&amp;e3=0&amp;ext=dsid=26s2ooRdkuGqggHaNE&amp;rtt=parent&amp;rtid=26hJOCpY9ZGIksPGsZ&amp;rtsc=\", event, {\"cpid\": {\"value\": \"16iL25JCNSvhQN0hEU\"}});' target=\"_blank\"> 대전시, <b>빅</b><b>데이터</b> 활용 지역사회건강지도 구축 </a> <span class=\"cont_info\"> <span class=\"f_nb\">노컷뉴스</span> <span class=\"f_nb\">1시간전</span> <a class=\"f_nb\" href=\"http://v.media.daum.net/v/20220119133901759\" onclick='smartLog(this, \"dc=NNS&amp;d=26s2ooRdkuGqggHaNE&amp;pg=1&amp;r=4&amp;p=12&amp;rc=10&amp;e1=16iL25JCNSvhQN0hEU&amp;e3=0&amp;ext=dsid=26s2ooRdkuGqggHaNE&amp;rtt=parent&amp;rtid=26hJOCpY9ZGIksPGsZ&amp;rtsc=\", event, {\"cpid\": {\"value\": \"16iL25JCNSvhQN0hEU\"}});' target=\"_blank\">다음뉴스</a> </span> </dd> <dd> <a class=\"tit_rel f_link\" href=\"http://v.media.daum.net/v/20220119084137235?f=o\" onclick='smartLog(this, \"dc=NNS&amp;d=26U_DrV1WCACcaPV9U&amp;pg=1&amp;r=4&amp;p=6&amp;rc=10&amp;e1=16xPi3xTTvS9eQchSd&amp;e3=0&amp;ext=dsid=26U_DrV1WCACcaPV9U&amp;rtt=parent&amp;rtid=26hJOCpY9ZGIksPGsZ&amp;rtsc=\", event, {\"cpid\": {\"value\": \"16xPi3xTTvS9eQchSd\"}});' target=\"_blank\"> 대전시, 지역사회건강지도 <b>빅</b><b>데이터</b> 시스템 구축 </a> <span class=\"cont_info\"> <span class=\"f_nb\">파이낸셜뉴스</span> <span class=\"f_nb\">6시간전</span> <a class=\"f_nb\" href=\"http://v.media.daum.net/v/20220119084137235\" onclick='smartLog(this, \"dc=NNS&amp;d=26U_DrV1WCACcaPV9U&amp;pg=1&amp;r=4&amp;p=12&amp;rc=10&amp;e1=16xPi3xTTvS9eQchSd&amp;e3=0&amp;ext=dsid=26U_DrV1WCACcaPV9U&amp;rtt=parent&amp;rtid=26hJOCpY9ZGIksPGsZ&amp;rtsc=\", event, {\"cpid\": {\"value\": \"16xPi3xTTvS9eQchSd\"}});' target=\"_blank\">다음뉴스</a> </span> </dd> <dd> <a class=\"tit_rel f_link\" href=\"http://v.media.daum.net/v/20220119085958704?f=o\" onclick='smartLog(this, \"dc=NNS&amp;d=263SCHLvZ_y-S68IfN&amp;pg=1&amp;r=4&amp;p=7&amp;rc=10&amp;e1=16JfL24RCJKYboAM86&amp;e3=0&amp;ext=dsid=263SCHLvZ_y-S68IfN&amp;rtt=parent&amp;rtid=26hJOCpY9ZGIksPGsZ&amp;rtsc=\", event, {\"cpid\": {\"value\": \"16JfL24RCJKYboAM86\"}});' target=\"_blank\"> 대전시, 지역사회건강지도 <b>빅</b><b>데이터</b> 시스템 구축 </a> <span class=\"cont_info\"> <span class=\"f_nb\">뉴시스</span> <span class=\"f_nb\">5시간전</span> <a class=\"f_nb\" href=\"http://v.media.daum.net/v/20220119085958704\" onclick='smartLog(this, \"dc=NNS&amp;d=263SCHLvZ_y-S68IfN&amp;pg=1&amp;r=4&amp;p=12&amp;rc=10&amp;e1=16JfL24RCJKYboAM86&amp;e3=0&amp;ext=dsid=263SCHLvZ_y-S68IfN&amp;rtt=parent&amp;rtid=26hJOCpY9ZGIksPGsZ&amp;rtsc=\", event, {\"cpid\": {\"value\": \"16JfL24RCJKYboAM86\"}});' target=\"_blank\">다음뉴스</a> </span> </dd> </dl> <a class=\"link_cluster f_nb\" href=\"?w=news&amp;req=tab&amp;q=%EB%B9%85%EB%8D%B0%EC%9D%B4%ED%84%B0&amp;cluster=y&amp;viewio=i&amp;repno=0&amp;n=10&amp;p=1&amp;related_page=1&amp;cluster_docid=26hJOCpY9ZGIksPGsZ&amp;DA=NTB\" onclick='smartLog(this, \"dc=NNS&amp;ext=dsid=26hJOCpY9ZGIksPGsZ&amp;d=26hJOCpY9ZGIksPGsZ&amp;pg=1&amp;r=4&amp;p=19&amp;rc=10&amp;e1=16ZP4dHX8AatmWDTlF\", event);'> 관련뉴스 <b>15</b>건 전체보기<span class=\"ico_rwd\"></span> </a> </div> <span id=\"newsSQC_t1_3\" style=\"display:none;\">10301^http://v.media.daum.net/v/20220119101925108?f=o^26hJOCpY9ZGIksPGsZ^news^mediaArticle^%EB%B9%85%EB%8D%B0%EC%9D%B4%ED%84%B0^26hJOCpY9ZGIksPGsZ</span> </div>,\n",
       " <div class=\"wrap_cont\"> <a class=\"tit_main fn_tit_u\" href=\"https://cp.news.search.daum.net/p/115196341\" onclick='smartLog(this, \"dc=NNS&amp;d=26EA-3PNZegVPnMdhO&amp;pg=1&amp;r=5&amp;p=4&amp;rc=10&amp;e1=16M4-Una5Mo5sd9wud&amp;e3=0&amp;ext=dsid=26EA-3PNZegVPnMdhO\", event, {\"cpid\": {\"value\": \"16M4-Una5Mo5sd9wud\"}});' target=\"_blank\">경기도 <b>빅</b><b>데이터</b>위원회 열고 ‘<b>데이터</b> 기반 도정혁신 방안’ 논의</a> <p class=\"desc\">활용, 관리할 수 있는 ‘경기도 마이<b>데이터</b> 플랫폼’ 서비스를 시작한다.경기도는 1월 18일 수원시 경기도R&amp;DB센터에서 2022년 <b>빅</b><b>데이터</b>위원회 제1차 회의를 개최했다. 위원회에서는 위원장(공병훈 협성대 교수)을 포함해 당연직.위촉직 위원 등 총 12명이 참석한...</p> <span class=\"cont_info\"> <span class=\"f_nb\">경기북부포커스</span> <span class=\"f_nb\">6시간전</span> </span> <div class=\"cont_rel\"> <dl> <dt class=\"screen_out\">관련기사</dt> <dd> <a class=\"tit_rel f_link\" href=\"https://cp.news.search.daum.net/p/115189022\" onclick='smartLog(this, \"dc=NNS&amp;d=26diVzJmJBiRSRwae9&amp;pg=1&amp;r=5&amp;p=5&amp;rc=10&amp;e1=16chi4ldkj_WQEtrPN&amp;e3=0&amp;ext=dsid=26diVzJmJBiRSRwae9&amp;rtt=parent&amp;rtid=26EA-3PNZegVPnMdhO&amp;rtsc=\", event, {\"cpid\": {\"value\": \"16chi4ldkj_WQEtrPN\"}});' target=\"_blank\"> 경기도, '2022년 <b>빅</b><b>데이터</b>위원회, 제1차 회의' 개... </a> <span class=\"cont_info\"> <span class=\"f_nb\">경인저널</span> <span class=\"f_nb\">22시간전</span> </span> </dd> </dl> </div> <span id=\"newsSQC_t1_4\" style=\"display:none;\">10301^https://cp.news.search.daum.net/p/115196341^26EA-3PNZegVPnMdhO^news^mediaArticle^%EB%B9%85%EB%8D%B0%EC%9D%B4%ED%84%B0^26EA-3PNZegVPnMdhO</span> </div>,\n",
       " <div class=\"wrap_cont\"> <a class=\"tit_main fn_tit_u\" href=\"https://cp.news.search.daum.net/p/115196941\" onclick='smartLog(this, \"dc=NNS&amp;d=26mK3VUZFj_ewTRyDt&amp;pg=1&amp;r=6&amp;p=4&amp;rc=10&amp;e1=16f1vm5c5x21P9AOye&amp;e3=0&amp;ext=dsid=26mK3VUZFj_ewTRyDt\", event, {\"cpid\": {\"value\": \"16f1vm5c5x21P9AOye\"}});' target=\"_blank\">경기도,도 <b>빅</b><b>데이터</b>위원회 개최…올해 경기도 마이<b>데이터</b> 플랫폼 개시</a> <p class=\"desc\">활용, 관리할 수 있는 ‘경기도 마이<b>데이터</b> 플랫폼’ 서비스를 시작한다. 경기도는 18일 수원시 경기도R&amp;DB센터에서 2022년 <b>빅</b><b>데이터</b>위원회 제1차 회의를 개최했다. 위원회에서는 위원장(공병훈 협성대 교수)을 포함해 당연직·위촉직 위원 등 총 12명이 참석한...</p> <span class=\"cont_info\"> <span class=\"f_nb\">경인투데이뉴스</span> <span class=\"f_nb\">6시간전</span> </span> <div class=\"cont_rel\"> <dl> <dt class=\"screen_out\">관련기사</dt> <dd> <a class=\"tit_rel f_link\" href=\"https://cp.news.search.daum.net/p/115183542\" onclick='smartLog(this, \"dc=NNS&amp;d=26c9JifCMF1WHyENKg&amp;pg=1&amp;r=6&amp;p=5&amp;rc=10&amp;e1=16yB_iNR1sCrGCnSL8&amp;e3=0&amp;ext=dsid=26c9JifCMF1WHyENKg&amp;rtt=parent&amp;rtid=26mK3VUZFj_ewTRyDt&amp;rtsc=\", event, {\"cpid\": {\"value\": \"16yB_iNR1sCrGCnSL8\"}});' target=\"_blank\"> 경기도 <b>빅</b><b>데이터</b>위원회 개최 </a> <span class=\"cont_info\"> <span class=\"f_nb\">브릿지경제신문</span> <span class=\"f_nb\">20시간전</span> </span> </dd> <dd> <a class=\"tit_rel f_link\" href=\"https://cp.news.search.daum.net/p/115191430\" onclick='smartLog(this, \"dc=NNS&amp;d=265AMn8cnJMQzIlKGO&amp;pg=1&amp;r=6&amp;p=6&amp;rc=10&amp;e1=16qXU7hcnoMF-JoP0A&amp;e3=0&amp;ext=dsid=265AMn8cnJMQzIlKGO&amp;rtt=parent&amp;rtid=26mK3VUZFj_ewTRyDt&amp;rtsc=\", event, {\"cpid\": {\"value\": \"16qXU7hcnoMF-JoP0A\"}});' target=\"_blank\"> 경기도 <b>빅</b><b>데이터</b>위원회 개최… 올해 마이<b>데이터</b> 플... </a> <span class=\"cont_info\"> <span class=\"f_nb\">엔디엔뉴스</span> <span class=\"f_nb\">17시간전</span> </span> </dd> <dd> <a class=\"tit_rel f_link\" href=\"https://cp.news.search.daum.net/p/115191221\" onclick='smartLog(this, \"dc=NNS&amp;d=26zRReaThseujVUboQ&amp;pg=1&amp;r=6&amp;p=7&amp;rc=10&amp;e1=16em4T_n3W7xyKLeBH&amp;e3=0&amp;ext=dsid=26zRReaThseujVUboQ&amp;rtt=parent&amp;rtid=26mK3VUZFj_ewTRyDt&amp;rtsc=\", event, {\"cpid\": {\"value\": \"16em4T_n3W7xyKLeBH\"}});' target=\"_blank\"> 경기도 <b>빅</b><b>데이터</b>위원회 개최…올해 경기도 마이<b>데</b>... </a> <span class=\"cont_info\"> <span class=\"f_nb\">이코노뉴스</span> <span class=\"f_nb\">16시간전</span> </span> </dd> </dl> <a class=\"link_cluster f_nb\" href=\"?w=news&amp;req=tab&amp;q=%EB%B9%85%EB%8D%B0%EC%9D%B4%ED%84%B0&amp;cluster=y&amp;viewio=i&amp;repno=0&amp;n=10&amp;p=1&amp;related_page=1&amp;cluster_docid=26mK3VUZFj_ewTRyDt&amp;DA=NTB\" onclick='smartLog(this, \"dc=NNS&amp;ext=dsid=26mK3VUZFj_ewTRyDt&amp;d=26mK3VUZFj_ewTRyDt&amp;pg=1&amp;r=6&amp;p=19&amp;rc=10&amp;e1=16f1vm5c5x21P9AOye\", event);'> 관련뉴스 <b>25</b>건 전체보기<span class=\"ico_rwd\"></span> </a> </div> <span id=\"newsSQC_t1_5\" style=\"display:none;\">10301^https://cp.news.search.daum.net/p/115196941^26mK3VUZFj_ewTRyDt^news^mediaArticle^%EB%B9%85%EB%8D%B0%EC%9D%B4%ED%84%B0^26mK3VUZFj_ewTRyDt</span> </div>,\n",
       " <div class=\"wrap_cont\"> <a class=\"tit_main fn_tit_u\" href=\"http://v.media.daum.net/v/20220119093654189?f=o\" onclick='smartLog(this, \"dc=NNS&amp;d=26gRj9OgMuKi8Wyk3f&amp;pg=1&amp;r=7&amp;p=4&amp;rc=10&amp;e1=16X5Xh1MWS7Qt1sMrW&amp;e3=0&amp;ext=dsid=26gRj9OgMuKi8Wyk3f\", event, {\"cpid\": {\"value\": \"16X5Xh1MWS7Qt1sMrW\"}});' target=\"_blank\"><b>빅</b><b>데이터</b>로 우범 지역 핀셋 관리..서초구, '예측범죄지도' 도입</a> <p class=\"desc\">서울 서초구 제공. 재판매 및 DB 금지] (서울=연합뉴스) 고현실 기자 = 서울 서초구는 범죄발생 가능성이 높은 지역을 <b>빅</b><b>데이터</b>로 예측해 시간대별로 집중 감시하는 '예측범죄지도(Predictive Crime Map) 시스템'을 전국 최초로 도입한다고 19일 밝혔다. 한국...</p> <span class=\"cont_info\"> <span class=\"f_nb\">연합뉴스</span> <span class=\"f_nb\">5시간전</span> <a class=\"f_nb\" href=\"http://v.media.daum.net/v/20220119093654189\" onclick='smartLog(this, \"dc=NNS&amp;d=26gRj9OgMuKi8Wyk3f&amp;pg=1&amp;r=7&amp;p=3&amp;rc=10&amp;e1=16X5Xh1MWS7Qt1sMrW&amp;e3=0&amp;ext=dsid=26gRj9OgMuKi8Wyk3f\", event, {\"cpid\": {\"value\": \"16X5Xh1MWS7Qt1sMrW\"}});' target=\"_blank\">다음뉴스</a> </span> <div class=\"cont_rel\"> <dl> <dt class=\"screen_out\">관련기사</dt> <dd> <a class=\"tit_rel f_link\" href=\"http://v.media.daum.net/v/20220119143049656?f=o\" onclick='smartLog(this, \"dc=NNS&amp;d=26RouoLMQ3Ym253PAQ&amp;pg=1&amp;r=7&amp;p=5&amp;rc=10&amp;e1=16akMkKFDu6n8GTzZr&amp;e3=0&amp;ext=dsid=26RouoLMQ3Ym253PAQ&amp;rtt=parent&amp;rtid=26gRj9OgMuKi8Wyk3f&amp;rtsc=\", event, {\"cpid\": {\"value\": \"16akMkKFDu6n8GTzZr\"}});' target=\"_blank\"> CCTV <b>빅</b><b>데이터</b>가 우범 지역 알린다..서초구 '예측... </a> <span class=\"cont_info\"> <span class=\"f_nb\">경향신문</span> <span class=\"f_nb\">17분전</span> <a class=\"f_nb\" href=\"http://v.media.daum.net/v/20220119143049656\" onclick='smartLog(this, \"dc=NNS&amp;d=26RouoLMQ3Ym253PAQ&amp;pg=1&amp;r=7&amp;p=12&amp;rc=10&amp;e1=16akMkKFDu6n8GTzZr&amp;e3=0&amp;ext=dsid=26RouoLMQ3Ym253PAQ&amp;rtt=parent&amp;rtid=26gRj9OgMuKi8Wyk3f&amp;rtsc=\", event, {\"cpid\": {\"value\": \"16akMkKFDu6n8GTzZr\"}});' target=\"_blank\">다음뉴스</a> </span> </dd> </dl> </div> <span id=\"newsSQC_t1_6\" style=\"display:none;\">10301^http://v.media.daum.net/v/20220119093654189?f=o^26gRj9OgMuKi8Wyk3f^news^mediaArticle^%EB%B9%85%EB%8D%B0%EC%9D%B4%ED%84%B0^26gRj9OgMuKi8Wyk3f</span> </div>,\n",
       " <div class=\"wrap_cont\"> <a class=\"tit_main fn_tit_u\" href=\"http://v.media.daum.net/v/20220117061022116?f=o\" onclick='smartLog(this, \"dc=NNS&amp;d=26jwbZGr9YXbXAfeXs&amp;pg=1&amp;r=8&amp;p=4&amp;rc=10&amp;e1=16iegqg-unkCM79rj6&amp;e3=0&amp;ext=dsid=26jwbZGr9YXbXAfeXs\", event, {\"cpid\": {\"value\": \"16iegqg-unkCM79rj6\"}});' target=\"_blank\">1인 셀러부터 동네 가게 사장님까지 소상공인도 <b>빅</b><b>데이터</b> 활용 시대</a> <p class=\"tit_sub f_nb\">[이코노미조선]일상까지 스며든 빅데이터</p> <p class=\"desc\">미용실이나 노점상, 요식업 등 자영업자와 소규모 비즈니스도 뛰어들고 있다. 개인의 숙련도와 ‘감’에 의존했던 분야에서도 <b>빅</b><b>데이터</b> 혁신의 바람이 불고 있다. ‘이코노미조선’은 자영업자 등 소규모 사업체가 <b>빅</b><b>데이터</b>를 활용하기 위해 고군분투하는 현장을...</p> <span class=\"cont_info\"> <span class=\"f_nb\">조선비즈</span> <span class=\"f_nb\">2022.01.17</span> <a class=\"f_nb\" href=\"http://v.media.daum.net/v/20220117061022116\" onclick='smartLog(this, \"dc=NNS&amp;d=26jwbZGr9YXbXAfeXs&amp;pg=1&amp;r=8&amp;p=3&amp;rc=10&amp;e1=16iegqg-unkCM79rj6&amp;e3=0&amp;ext=dsid=26jwbZGr9YXbXAfeXs\", event, {\"cpid\": {\"value\": \"16iegqg-unkCM79rj6\"}});' target=\"_blank\">다음뉴스</a> </span> <span id=\"newsSQC_t1_7\" style=\"display:none;\">10301^http://v.media.daum.net/v/20220117061022116?f=o^26jwbZGr9YXbXAfeXs^news^mediaArticle^%EB%B9%85%EB%8D%B0%EC%9D%B4%ED%84%B0^26jwbZGr9YXbXAfeXs</span> </div>,\n",
       " <div class=\"wrap_cont\"> <a class=\"tit_main fn_tit_u\" href=\"http://v.media.daum.net/v/20220119111009801?f=o\" onclick='smartLog(this, \"dc=NNS&amp;d=263SLQ5WCLA1Nbmz9o&amp;pg=1&amp;r=9&amp;p=4&amp;rc=10&amp;e1=16ZP4dHX8AatmWDTlF&amp;e3=0&amp;ext=dsid=263SLQ5WCLA1Nbmz9o\", event, {\"cpid\": {\"value\": \"16ZP4dHX8AatmWDTlF\"}});' target=\"_blank\">산림청 <b>빅</b><b>데이터</b> 등 과학기술 기반 산불 대응체계 구축</a> <p class=\"desc\">을 발표했다. / 산림청 제공 [더팩트 | 대전=박종명 기자] 효과적인 산불 방지를 위해 올해 초대형 헬기 1대가 새로 도입되고 <b>빅</b><b>데이터</b> 등 과학기술에 기반한 대응 체계가 구축된다. 산림청은 19일 이 같은 내용의 '2022년 K-산불방지 종합대책'을 추진한다고 밝혔다...</p> <span class=\"cont_info\"> <span class=\"f_nb\">더팩트</span> <span class=\"f_nb\">3시간전</span> <a class=\"f_nb\" href=\"http://v.media.daum.net/v/20220119111009801\" onclick='smartLog(this, \"dc=NNS&amp;d=263SLQ5WCLA1Nbmz9o&amp;pg=1&amp;r=9&amp;p=3&amp;rc=10&amp;e1=16ZP4dHX8AatmWDTlF&amp;e3=0&amp;ext=dsid=263SLQ5WCLA1Nbmz9o\", event, {\"cpid\": {\"value\": \"16ZP4dHX8AatmWDTlF\"}});' target=\"_blank\">다음뉴스</a> </span> <span id=\"newsSQC_t1_8\" style=\"display:none;\">10301^http://v.media.daum.net/v/20220119111009801?f=o^263SLQ5WCLA1Nbmz9o^news^mediaArticle^%EB%B9%85%EB%8D%B0%EC%9D%B4%ED%84%B0^263SLQ5WCLA1Nbmz9o</span> </div>,\n",
       " <div class=\"wrap_cont\"> <a class=\"tit_main fn_tit_u\" href=\"http://v.media.daum.net/v/20220119092114532?f=o\" onclick='smartLog(this, \"dc=NNS&amp;d=261QaQv9_S8yv29Pdp&amp;pg=1&amp;r=10&amp;p=4&amp;rc=10&amp;e1=16g1M6O9sOa_X0ZgmV&amp;e3=0&amp;ext=dsid=261QaQv9_S8yv29Pdp\", event, {\"cpid\": {\"value\": \"16g1M6O9sOa_X0ZgmV\"}});' target=\"_blank\">1월 식품 상장기업 브랜드 평판 <b>빅</b><b>데이터</b> 분석..CJ제일제당 &gt; 오리온 &gt; 농심 &gt; 오뚜기</a> <p class=\"desc\">식품 상장기업 브랜드평판 1월 <b>빅</b><b>데이터</b> 분석결과, 1위 CJ제일제당 2위 오리온 3위 농심 순으로 분석됐다. 한국기업평판연구소는 식품 상장기업 63개 브랜드에 대해서 <b>빅</b><b>데이터</b> 분석을 활용한 브랜드 평판조사를 실시했다. 2021년 12월 19일부터 2022년 1월 19일...</p> <span class=\"cont_info\"> <span class=\"f_nb\">세계일보</span> <span class=\"f_nb\">5시간전</span> <a class=\"f_nb\" href=\"http://v.media.daum.net/v/20220119092114532\" onclick='smartLog(this, \"dc=NNS&amp;d=261QaQv9_S8yv29Pdp&amp;pg=1&amp;r=10&amp;p=3&amp;rc=10&amp;e1=16g1M6O9sOa_X0ZgmV&amp;e3=0&amp;ext=dsid=261QaQv9_S8yv29Pdp\", event, {\"cpid\": {\"value\": \"16g1M6O9sOa_X0ZgmV\"}});' target=\"_blank\">다음뉴스</a> </span> <div class=\"cont_rel\"> <dl> <dt class=\"screen_out\">관련기사</dt> <dd> <a class=\"tit_rel f_link\" href=\"https://cp.news.search.daum.net/p/115209010\" onclick='smartLog(this, \"dc=NNS&amp;d=26zA57jUxdN6kJJ3xV&amp;pg=1&amp;r=10&amp;p=5&amp;rc=10&amp;e1=16CnWmphI1DQvCMaoL&amp;e3=0&amp;ext=dsid=26zA57jUxdN6kJJ3xV&amp;rtt=parent&amp;rtid=261QaQv9_S8yv29Pdp&amp;rtsc=\", event, {\"cpid\": {\"value\": \"16CnWmphI1DQvCMaoL\"}});' target=\"_blank\"> 식품 상장기업 브랜드평판 1월 <b>빅</b><b>데이터</b> 분석결과... </a> <span class=\"cont_info\"> <span class=\"f_nb\">여성소비자신문</span> <span class=\"f_nb\">3시간전</span> </span> </dd> <dd> <a class=\"tit_rel f_link\" href=\"https://cp.news.search.daum.net/p/115206301\" onclick='smartLog(this, \"dc=NNS&amp;d=26OaUl8OZqiBPiZAW6&amp;pg=1&amp;r=10&amp;p=6&amp;rc=10&amp;e1=16rQZTjP4ZYXVjFiG0&amp;e3=0&amp;ext=dsid=26OaUl8OZqiBPiZAW6&amp;rtt=parent&amp;rtid=261QaQv9_S8yv29Pdp&amp;rtsc=\", event, {\"cpid\": {\"value\": \"16rQZTjP4ZYXVjFiG0\"}});' target=\"_blank\"> [<b>빅</b><b>데이터</b>로본다] 식품 상장기업 2022년 1월 브랜... </a> <span class=\"cont_info\"> <span class=\"f_nb\">일간투데이</span> <span class=\"f_nb\">3시간전</span> </span> </dd> </dl> </div> <span id=\"newsSQC_t1_9\" style=\"display:none;\">10301^http://v.media.daum.net/v/20220119092114532?f=o^261QaQv9_S8yv29Pdp^news^mediaArticle^%EB%B9%85%EB%8D%B0%EC%9D%B4%ED%84%B0^261QaQv9_S8yv29Pdp</span> </div>]"
      ]
     },
     "execution_count": 101,
     "metadata": {},
     "output_type": "execute_result"
    }
   ],
   "source": [
    "summary = soup.select(path)\n",
    "summary"
   ]
  },
  {
   "cell_type": "code",
   "execution_count": null,
   "id": "550018e3",
   "metadata": {},
   "outputs": [],
   "source": [
    "for t in (summary):\n",
    "    print(t.select('a.tit_main')[0].text)\n",
    "    print(t.select('a')[0]['href'])\n",
    "    print(t.p.text)\n",
    "    print('-'*60)"
   ]
  },
  {
   "cell_type": "code",
   "execution_count": null,
   "id": "e1012704",
   "metadata": {},
   "outputs": [],
   "source": []
  },
  {
   "cell_type": "code",
   "execution_count": 127,
   "id": "179bc775",
   "metadata": {},
   "outputs": [
    {
     "name": "stdout",
     "output_type": "stream",
     "text": [
      "검색어빅데이터\n"
     ]
    },
    {
     "data": {
      "text/plain": [
       "'https://search.daum.net/search?w=news&nil_search=btn&DA=NTB&enc=utf8&cluster=y&cluster_page=1&q=빅데이터'"
      ]
     },
     "execution_count": 127,
     "metadata": {},
     "output_type": "execute_result"
    }
   ],
   "source": [
    "url = 'https://search.daum.net/search?w=news&nil_search=btn&DA=NTB&enc=utf8&cluster=y&cluster_page=1&q={}'\n",
    "serch = input('검색어')\n",
    "url.format(serch)"
   ]
  },
  {
   "cell_type": "code",
   "execution_count": 128,
   "id": "aa7922aa",
   "metadata": {
    "collapsed": true
   },
   "outputs": [
    {
     "data": {
      "text/plain": [
       "'\\n\\n\\n\\n\\n\\n\\n\\n\\n\\n\\n\\n\\n\\n\\n\\n\\n\\n\\n\\n\\n\\n\\n\\n<!doctype html>\\n<html xmlns=\"http://www.w3.org/1999/xhtml\" lang=\"ko\" class=\"unix unknown \">\\n<head profile=\"http://a9.com/-/spec/opensearch/1.1/\">\\n<meta http-equiv=\"content-Type\" content=\"text/html;charset=utf-8\" />\\n<meta http-equiv=\"X-UA-Compatible\" content=\"IE=edge\" />\\n<meta name=\"autocomplete\" content=\"off\" />\\n<meta name=\"referrer\" content=\"always\">\\n<meta name=\"format-detection\" content=\"telephone=no\" />\\n<meta property=\"og:title\" content=\"{} &ndash; Daum 검색\" />\\n<meta property=\"og:url\" content=\"https://search.daum.net/search?w=news&q=%7B%7D\" />\\n<meta property=\"og:description\" content=\"Daum 검색에서 {}에 대한 최신정보를 찾아보세요.\" />\\n<meta property=\"og:image\" content=\"https://search1.daumcdn.net/search/statics/common/img/og_search.png\" />\\n<meta property=\"og:site_name\" content=\"다음검색\" />\\n<title>{} &ndash; Daum 검색</title>\\n<link rel=\"search\" type=\"application/opensearchdescription+xml\" href=\"//search.daum.net/OpenSearch.xml\" title=\"Daum\">\\n<link rel=\"stylesheet\" type=\"text/css\" href=\"//search1.daumcdn.net/search/statics/common/css/2021/p_common.1130012653.css\" charset=\"utf-8\">\\n<link rel=\"stylesheet\" type=\"text/css\" href=\"//search1.daumcdn.net/search/statics/common/css/2021/p_component.0915091640.css\" charset=\"utf-8\">\\n\\n<link rel=\"stylesheet\" type=\"text/css\" href=\"//search1.daumcdn.net/search/statics/common/css/2022/p_collection.0112095326.css\" charset=\"utf-8\">\\n<link rel=\"stylesheet\" type=\"text/css\" href=\"//search1.daumcdn.net/search/statics/common/css/2021/p_collection2.1110094223.css\" charset=\"utf-8\">\\n\\n<link rel=\"stylesheet\" type=\"text/css\" href=\"//search1.daumcdn.net/search/statics/common/css/2021/p_coll_tab.0803041653.css\" charset=\"utf-8\">\\n\\n\\n\\n\\n<script type=\"text/javascript\">\\nvar SF, C, T;\\nvar uk = \"Yeezozue9LZ4SAsOWlWwrgAAAAI\";\\nvar mk = \"Yeezozue9LZ4SAsOWlWwrgAAAAI\";\\nvar ud = \"\";\\nvar uuid = \"\";\\nvar adid = \"\";\\nvar adid_enabled = \"N\";\\nvar viewio = \"i\";\\nvar viewsite = \"\";\\nvar ServerTime = \"20220119154555\";\\nvar EnQuery = \"%7B%7D\";\\nvar utf8Query = \"%7B%7D\";\\nvar topQuery = \"{}\";\\nvar backQuery = \"%7B%7D\";\\nvar login_yn = \"N\";\\nvar encodeType = \"2\";\\nvar refCode = \"\";\\nvar bucketType = \"\";\\nvar name_check = \"0\";\\nvar mobileDevice = \"N\";\\nvar param_w=\"news\";\\nvar param_da = \"NTB\";\\nvar paramCfg = \"\";\\nvar param_cnucc = \"\"; \\nvar tpl_cfg = \"\"; \\nvar cnucc = \"\";\\nvar usrIp = \"221.148.138.87\";\\nvar isDetailTab = \"N\"; \\nvar schSort = \"\";\\nvar width_over_620 = \"N\";\\n\\nvar isReleaseMode = \"\";\\n\\nvar KAKAO_ACCOUNT_ID_CONNECTED = \"N\";\\n\\nvar displayInfo = {\"SER\":[{\"code\":\"NNS\",\"doc_count\":0}],\"SGR\":[{\"code\":\"R03\",\"doc_count\":0},{\"code\":\"R01\",\"doc_count\":0},{\"code\":\"R07\",\"doc_count\":0},{\"code\":\"TOG\",\"doc_count\":0}],\"SUI\":[]}\\n;\\nvar slCallType = \"sync\";\\nvar pageLoadedTime = 0;\\nvar startTime = new Date().getTime();\\nvar sugLocCode = \"\";\\nvar searchLog = {\\nuc: 0,\\nclickCount: 0,\\ndl: \"\"\\n};\\nvar SEARCHLOGDOMAIN = \"//sl.search.daum.net\"; \\n\\nvar CNUCC_URL = \"//harm.search.daum.net/api/harmRegister\";\\n</script>\\n\\n\\n<script type=\"text/html\" id=\"answer-korea-weather-template\">\\n<span class=\"weather_comp\">\\n<span class=\"txt_exact ico_suggest\" data-bind=\"css: icon40\">\\n<span class=\"tit\" data-bind=\"text: areaname\"></span>\\n<span class=\"cont\"><span class=\"txt_cont\" data-bind=\"text: wtext5s\"></span> <span class=\"txt_num1 ico_suggest2 ico_celsius\" data-bind=\"text: temp\"></span><span class=\"txt_unit\">℃</span></span>\\n</span>\\n<span class=\"txt_time\" data-bind=\"text: (announce + \\' 기준\\') \"></span>\\n</span>\\n</script>\\n\\n\\n\\n\\n\\n\\n\\n\\n\\n\\n\\n\\n\\n\\n\\n<script type=\"text/javascript\" src=\"//search1.daumcdn.net/search/statics/common/js/fe/tot-search/polyfill/p/polyfill.p.common.20200707150840.min.js\" charset=\"utf-8\"></script>\\n\\n\\n<script type=\"text/javascript\" src=\"//search1.daumcdn.net/search/statics/common/js/fe/tot-search/vendor/p/common/vendor.p.common.20210614193738.min.js\" charset=\"utf-8\"></script>\\n<script type=\"text/javascript\" src=\"//search1.daumcdn.net/search/statics/common/js/log/p_log.min.20211108152558.js\" charset=\"utf-8\"></script>\\n<script type=\"text/javascript\" src=\"//search1.daumcdn.net/search/statics/common/js/fe/tot-search/module/p/common/module.p.common.20211214105224.min.js\" charset=\"utf-8\"></script>\\n<script type=\"text/javascript\" src=\"//search1.daumcdn.net/search/statics/common/js/fe/tot-search/module/p/search/module.p.search.20210726112603.min.js\" charset=\"utf-8\"></script>\\n<script>\\n(function(SF, $, SL) {\\nObject.assign(SF, {\\nlogStaticErrors: {\\nisArgonUrl: function(url) {\\nreturn url.indexOf(\\'argon\\') !== -1;\\n},\\nextractArgonId: function(url) {\\nreturn url.split(\\'/\\').pop();\\n},\\ncreateFreeLogParams: function(ids) {\\nreturn {\\ntimg: ids.join(\\',\\')\\n};\\n},\\nchunkCall: function (fn, options) {\\nvar chunk = [];\\nvar debounced = $.debounce(function() {\\nif (chunk.length > 0) {\\nfn(chunk);\\nchunk = [];\\n}\\n}, options.timeout);\\nreturn function (arg) {\\nchunk.push(arg);\\nif (chunk.length >= options.chunkSize) {\\nfn(chunk);\\nchunk = [];\\n}\\ndebounced();\\n};\\n},\\ninit: function() {\\nthis.subscribe();\\n},\\nsubscribe: function() {\\nif (!(\\'addEventListener\\' in document)) {\\nreturn;\\n}\\nvar sendLog = this.chunkCall(this.sendLog.bind(this), {\\ntimeout: 1000,\\nchunkSize: 50\\n});\\nvar onError = this.onError.bind(this, sendLog);\\nthis.unsubscribe = function () {\\nwindow.removeEventListener(\\'error\\', onError);\\n};\\nwindow.addEventListener(\\'error\\', onError, true);\\n},\\nonError: function (callback, event) {\\nvar src = event.target.src;\\nif (typeof src === \\'string\\' && this.isArgonUrl(src)) {\\ncallback(this.extractArgonId(src));\\n}\\n},\\nsendLog: function(argonIds) {\\nvar params = this.createFreeLogParams(argonIds);\\nSL.freelog.send(params);\\n},\\nunsubscribe: $.noop\\n}\\n});\\n})(window.SF || {}, window.jQuery, window.SL || {});\\nSF.logStaticErrors.init();\\n</script>\\n<script type=\"text/javascript\">\\nSF.loadModuleList = {\\n\"amcharts\":\"//search1.daumcdn.net/search/statics/common/js/fe/tot-search/library/p/amcharts.20190321202015.min.js\",\\n\"calendar\":\"//search1.daumcdn.net/search/statics/common/js/fe/tot-search/module/p/calendar/module.p.calendar.20210312112039.min.js\",\\n\"chart\":\"//search1.daumcdn.net/search/statics/common/js/fe/tot-search/library/p/chart.20200602182334.min.js\",\\n\"kakaosdk\":\"//search1.daumcdn.net/search/statics/common/js/fe/tot-search/library/p/kakaosdk.20190321202015.min.js\",\\n\"kakaotv\":\"//tv.kakao.com/player/script/sdk/player_api.min.js\",\\n\"pagenavigation\":\"//search1.daumcdn.net/search/statics/common/js/fe/tot-search/module/p/pagenavigation/module.p.pagenavigation.20211101151709.min.js\",\\n\"youtube\":\"//www.youtube.com/player_api\"\\n};\\n</script>\\n<script type=\"text/javascript\">\\n(function(SF) {\\nObject.assign(SF, {\\nphase: \\'prod\\'\\n});\\n})(window.SF);\\n</script>\\n\\n\\n\\n\\n\\n\\n\\n\\n\\n\\n\\n\\n\\n\\n\\n\\n\\n\\n\\n\\n\\n\\n\\n\\n\\n\\n\\n\\n\\n\\n\\n\\n\\n\\n\\n\\n\\n\\n\\n\\n\\n\\n\\n\\n\\n\\n\\n\\n\\n\\n\\n\\n\\n\\n\\n\\n\\n\\n\\n\\n\\n\\n\\n\\n\\n\\n\\n\\n\\n\\n\\n\\n\\n\\n\\n\\n\\n\\n\\n\\n\\n\\n\\n\\n\\n\\n\\n\\n\\n\\n\\n\\n\\n\\n\\n\\n\\n\\n\\n\\n\\n\\n\\n\\n\\n\\n\\n\\n\\n\\n\\n\\n\\n\\n\\n\\n\\n\\n\\n\\n\\n\\n\\n\\n\\n\\n\\n\\n\\n\\n\\n\\n\\n\\n\\n\\n\\n\\n\\n\\n\\n\\n\\n\\n\\n\\n\\n\\n\\n\\n\\n\\n\\n<!--[if IE]>\\n<script src=\"//search1.daumcdn.net/search/statics/common/js/g/html5.min.js\"></script>\\n<![endif]-->\\n</head>\\n\\n<body class=\"daum \">\\n\\n<script type=\"text/javascript\">\\nSL.mkeyLog();\\n</script>\\n<nav id=\"daumIndex\" class=\"d_direct\">\\n<a href=\"#daumBody\" class=\"link_direct\">본문 바로가기</a>\\n<a href=\"#daumGnb\" class=\"link_direct\">메뉴 바로가기</a>\\n<a href=\"#realtimeIssueTitle\" class=\"link_direct\">실시간이슈 바로가기</a>\\n</nav>\\n<div id=\"tooltipContent\"></div> <!-- TT -->\\n<div id=\"saq\" style=\"display:none\">{}</div>\\n<article id=\"daumWrap\" class=\"sch_tab_news\">\\n<header id=\"daumHead\">\\n<div id=\"innerHeader\" class=\"inner_header\">\\n<h1>\\n<a id=\"daumLogo\" href=\"https://www.daum.net/?nil_profile=daum&nil_src=search\" onclick=\\'smartLog(this, \"e=1&dc=MLC\", event);\\' title=\"Daum 메인페이지로 가기\" target=\"_top\">\\n<img src=\"//search1.daumcdn.net/search/statics/common/pi/logo/daumlogo_170324.png\" width=\"84\" height=\"34\" alt=\"Daum\">\\n</a>\\n<span id=\"daumServiceLogo\" class=\"screen_out\">검색</span>\\n</h1>\\n<form id=\"daumSearch\" name=\"search\" method=\"get\" class=\"d_sch\">\\n<fieldset class=\"fld_total\">\\n<legend class=\"screen_out\">검색폼</legend>\\n<input type=\"hidden\" id=\"nil_suggest\" name=\"nil_suggest\" value=\"btn\">\\n<input type=\"hidden\" id=\"nil_ch\" name=\"nil_ch\" value=\"\">\\n<input type=\"hidden\" name=\"rtupcoll\" value=\"\">\\n<input type=\"hidden\" name=\"w\" value=\"news\">\\n<input type=\"hidden\" name=\"m\" value=\"\">\\n<input type=\"hidden\" id=\"f\" name=\"f\" value=\"\">\\n<input type=\"hidden\" name=\"lpp\" value=\"\">\\n<input type=\"hidden\" name=\"DA\" value=\"SBC\">\\n<input type=\"hidden\" name=\"sug\" value=\"\">\\n<input type=\"hidden\" name=\"sq\" value=\"\">\\n<input type=\"hidden\" name=\"o\" value=\"\">\\n<input type=\"hidden\" name=\"sugo\" value=\"\">\\n\\n\\n\\n<input type=\"hidden\" name=\"cluster\" value=\"y\">\\n\\n\\n\\n\\n<div class=\"box_searchbar\">\\n<div class=\"inner_searchbar\">\\n<input type=\"text\" class=\"tf_keyword\" id=\"q\" name=\"q\" title=\"검색어 입력\" value=\"{}\" autocomplete=\"off\" spellcheck=\"false\" maxlength=\"255\" >\\n<button id=\"VKIBtn\" class=\"img_keyboard btn_key\" type=\"button\" onclick=\"SF.virtualKeyboardHandler.call();smartLog(this, \\'pg=1&p=1&r=1&rc=1&dc=BFJ&at=func\\',event);return false;\"><span class=\"ir_wa\">한글입력기</span></button>\\n<button type=\"submit\" id=\"daumBtnSearch\" class=\"ico_ksearch btn_ksearch\"><span class=\"ir_wa\">검색</span></button>\\n</div>\\n</div>\\n<div id=\"wrap_suggestBox\" class=\"wrap_suggestBox\"><div id=\"suggestBox\" class=\"suggestBox box_sub\"></div></div>\\n</fieldset>\\n</form>\\n<script type=\"text/javascript\">\\n(function(){\\nvar headerSearchModule = new SF.HeaderSearchForm();\\nheaderSearchModule.init();\\n})();\\n</script>\\n\\n<div id=\"wrapMinidaum\"></div>\\n<div id=\"VKILayout\" class=\"keyboard_layer\" style=\"display:none;\"></div>\\n<div class=\"cl_b\"></div>\\n</div>\\n<div id=\"daumGnb\">\\n<div class=\"wrap_gnb\">\\n<ul class=\"gnb_search\">\\n\\n<li class=\"\">\\n\\n<a href=\"?w=tot&q=%7B%7D&DA=NTB\" class=\"tab tab_total\" onclick=\\'smartLog(this, \"pg=1&r=1&p=1&rc=1&dc=NTB&at=more\", event);\\'><span class=\"inner_tab\"><span class=\"txt_tab\">통합검색</span></span></a>\\n</li>\\n\\n\\n\\n\\n\\n\\n\\n<li class=\"\">\\n\\n\\n\\n<a href=\"?w=img&nil_search=btn&DA=NTB&enc=utf8&q=%7B%7D\" class=\"tab tab_img\" onclick=\\'smartLog(this, \"pg=1&r=2&p=1&rc=1&dc=NTB&at=more\", event);\\'>\\n<span class=\"inner_tab\"><span class=\"txt_tab\">이미지</span></span>\\n</a>\\n\\n</li>\\n\\n\\n<li class=\"\">\\n\\n\\n\\n<a href=\"?w=vclip&nil_search=btn&DA=NTB&enc=utf8&q=%7B%7D\" class=\"tab tab_vclip\" onclick=\\'smartLog(this, \"pg=1&r=3&p=1&rc=1&dc=NTB&at=more\", event);\\'>\\n<span class=\"inner_tab\"><span class=\"txt_tab\">동영상</span></span>\\n</a>\\n\\n</li>\\n\\n\\n<li class=\"on\">\\n<span class=\"screen_out\">선택된 항목</span>\\n\\n\\n<a href=\"?w=news&nil_search=btn&DA=NTB&enc=utf8&cluster=y&cluster_page=1&q=%7B%7D\" class=\"tab tab_news\" onclick=\\'smartLog(this, \"pg=1&r=4&p=1&rc=1&dc=NTB&at=more\", event);\\'>\\n<span class=\"inner_tab\"><span class=\"txt_tab\">뉴스</span></span>\\n</a>\\n\\n</li>\\n\\n\\n<li class=\"\">\\n\\n\\n\\n<a href=\"?w=blog&nil_search=btn&DA=NTB&enc=utf8&q=%7B%7D\" class=\"tab tab_blog\" onclick=\\'smartLog(this, \"pg=1&r=5&p=1&rc=1&dc=NTB&at=more\", event);\\'>\\n<span class=\"inner_tab\"><span class=\"txt_tab\">블로그</span></span>\\n</a>\\n\\n</li>\\n\\n\\n<li class=\"\">\\n\\n\\n\\n<a href=\"?w=cafe&nil_search=btn&DA=NTB&enc=utf8&ASearchType=1&lpp=10&rlang=0&q=%7B%7D\" class=\"tab tab_cafe\" onclick=\\'smartLog(this, \"pg=1&r=6&p=1&rc=1&dc=NTB&at=more\", event);\\'>\\n<span class=\"inner_tab\"><span class=\"txt_tab\">카페</span></span>\\n</a>\\n\\n</li>\\n\\n\\n<li class=\"\">\\n\\n\\n\\n<a href=\"?w=web&nil_search=btn&DA=NTB&enc=utf8&lpp=10&q=%7B%7D\" class=\"tab tab_webdoc\" onclick=\\'smartLog(this, \"pg=1&r=7&p=1&rc=1&dc=NTB&at=more\", event);\\'>\\n<span class=\"inner_tab\"><span class=\"txt_tab\">웹문서</span></span>\\n</a>\\n\\n</li>\\n\\n\\n<li class=\"\">\\n\\n\\n\\n<a href=\"?w=site&nil_search=btn&DA=NTB&enc=utf8&lpp=10&q=%7B%7D\" class=\"tab tab_site\" onclick=\\'smartLog(this, \"pg=1&r=8&p=1&rc=1&dc=NTB&at=more\", event);\\'>\\n<span class=\"inner_tab\"><span class=\"txt_tab\">사이트</span></span>\\n</a>\\n\\n</li>\\n\\n</ul>\\n\\n<div class=\"more_search\">\\n<a id=\"gnbToggleBtn\" href=\"javascript:;\"  class=\"btn_tab\">\\n<span class=\"txt_btn\">더보기/접기</span>\\n</a>\\n<ul class=\"list_more\">\\n\\n\\n<li class=\"\">\\n\\n\\n<a target=\"_blank\" href=\"http://dic.daum.net/search.do?q=%7B%7D\" class=\"link_more tab_dic\" onclick=\\'smartLog(this, \"pg=1&r=9&p=2&rc=1&e1=NS&e2=DICZ&dc=NTB&at=more\", event);\\'>\\n<span class=\"inner_tab\">\\n<span class=\"txt_tab\">어학사전</span>\\n<span class=\"ico_ksearch ico_outlink\">새창</span>\\n</span>\\n</a>\\n\\n</li>\\n\\n\\n<li class=\"\">\\n\\n\\n<a target=\"_blank\" href=\"http://map.daum.net/?from=total&nil_suggest=btn&tab=place&q=%7B%7D\" class=\"link_more tab_map\" onclick=\\'smartLog(this, \"pg=1&r=10&p=2&rc=1&e1=NS&e2=GG1Z&dc=NTB&at=more\", event);\\'>\\n<span class=\"inner_tab\">\\n<span class=\"txt_tab\">지도</span>\\n<span class=\"ico_ksearch ico_outlink\">새창</span>\\n</span>\\n</a>\\n\\n</li>\\n\\n\\n<li class=\"\">\\n\\n\\n<a target=\"_blank\" href=\"http://100.daum.net/search/entry?q=%7B%7D\" class=\"link_more tab_dic100\" onclick=\\'smartLog(this, \"pg=1&r=11&p=2&rc=1&e1=NS&e2=1DVZ&dc=NTB&at=more\", event);\\'>\\n<span class=\"inner_tab\">\\n<span class=\"txt_tab\">백과사전</span>\\n<span class=\"ico_ksearch ico_outlink\">새창</span>\\n</span>\\n</a>\\n\\n</li>\\n\\n\\n<li class=\"\">\\n\\n\\n<a target=\"_blank\" href=\"https://shoppinghow.kakao.com/search/%7B%7D/&srchhow=Cexpo\" class=\"link_more tab_shop\" onclick=\\'smartLog(this, \"pg=1&r=12&p=2&rc=1&e1=NS&e2=SNPZ&dc=NTB&at=more\", event);\\'>\\n<span class=\"inner_tab\">\\n<span class=\"txt_tab\">쇼핑</span>\\n<span class=\"ico_ksearch ico_outlink\">새창</span>\\n</span>\\n</a>\\n\\n</li>\\n\\n\\n<li class=\"\">\\n\\n\\n<a href=\"?w=book&nil_search=btn&DA=NTB&enc=utf8&q=%7B%7D\" class=\"link_more tab_book\" onclick=\\'smartLog(this, \"pg=1&r=13&p=2&rc=1&e1=NS&e2=LB0Z&dc=NTB&at=more\", event);\\'>\\n<span class=\"inner_tab\"><span class=\"txt_tab\">책</span></span>\\n</a>\\n\\n</li>\\n\\n\\n<li class=\"\">\\n\\n\\n<a href=\"?w=music&m=song&nil_search=btn&DA=NTB&q=%7B%7D\" class=\"link_more tab_music\" onclick=\\'smartLog(this, \"pg=1&r=14&p=2&rc=1&e1=NS&e2=MS2Z&dc=NTB&at=more\", event);\\'>\\n<span class=\"inner_tab\"><span class=\"txt_tab\">멜론뮤직</span></span>\\n</a>\\n\\n</li>\\n\\n\\n<li class=\"\">\\n\\n\\n<a href=\"?w=brunch&nil_search=btn&DA=NTB&enc=utf8&q=%7B%7D\" class=\"link_more tab_brunch\" onclick=\\'smartLog(this, \"pg=1&r=15&p=2&rc=1&e1=NS&e2=BRCZ&dc=NTB&at=more\", event);\\'>\\n<span class=\"inner_tab\"><span class=\"txt_tab\">브런치</span></span>\\n</a>\\n\\n</li>\\n\\n\\n<li class=\"\">\\n\\n\\n<a href=\"?w=kstory&nil_search=btn&DA=NTB&q=%7B%7D\" class=\"link_more tab_kstory\" onclick=\\'smartLog(this, \"pg=1&r=16&p=2&rc=1&e1=NS&e2=KASZ&dc=NTB&at=more\", event);\\'>\\n<span class=\"inner_tab\"><span class=\"txt_tab\">카카오스토리</span></span>\\n</a>\\n\\n</li>\\n\\n</ul>\\n</div>\\n\\n\\n\\n\\n</div>\\n</div>\\n<script type=\"text/javascript\">\\n\\n_jsSetCookieNonEscape = function(name,value){\\ndocument.cookie = name+\"=\"+value+\"; path=/;\";\\n};\\n_jsSetCookieNonEscape(\"ODT\", \"IIMZ_VO2Z_NNSZ_BR1Z_CCBZ_WSAZ_IVRZ_\");\\n_jsSetCookieNonEscape(\"DDT\", \"DICZ_GG1Z_1DVZ_SNPZ_LB0Z_MS2Z_BRCZ_KASZ_\");\\n_jsSetCookieNonEscape(\"DTQUERY\", \"%7B%7D\" );\\n\\n\\n</script>\\n<form name=\"cUccForm\" method=\"get\">\\n<input type=\"hidden\" name=\"kword\">\\n<input type=\"hidden\" name=\"colid\">\\n<input type=\"hidden\" name=\"docid\">\\n<input type=\"hidden\" name=\"backurl\">\\n</form>\\n<form name=\"urForm\" method=\"get\">\\n<input type=\"hidden\" name=\"q\">\\n</form>\\n<div class=\"clr\"></div>\\n<!-- // daumGnb -->\\n<div name=\"searchData\" id=\"searchData\" class=\"skiptonavi\"></div>\\n<!-- End Header -->\\n</header>\\n\\n\\n<script type=\"text/html\" id=\"suggest-footer-template\">\\n<div>\\n<span>\\n<div class=\"fr\">\\n<a href=\"http://cs.daum.net/faq/15/14957.html#28978\" class=\"isSuggest\" target=\"_blank\" onclick=\"smartLog(this, \\'dc=SUG&p=5&r=1\\', event);\">서제스트란?</a>\\n</div>\\n</span>\\n</div>\\n</script>\\n\\n<article id=\"daumContent\">\\n<div id=\"cMain\">\\n<script type=\"text/javascript\">\\nsearchLog.dl = \\'R030_R010_R070_TOG0_NNN1_PGD1_RNN1_MNN1_RSN1\\';\\t/* ISM DISPLAY_RESULT */\\nvar smDisCode = \"\";\\nvar smClickCode = \"\";\\nvar smCateCode = \"\";\\nvar totCollCount = \"1\";\\nvar sPageLoadedmsTime = 77;\\nvar requestTime = \"1642574755574\";\\n</script>\\n<article id=\"mArticle\">\\n<div class=\"inner_article\">\\n<span id=\"daumBody\" class=\"screen_out\">검색 본문</span>\\n\\n\\n\\n\\n\\n\\n\\n\\n\\n\\n\\n\\n\\n\\n\\n\\n\\n\\n\\n\\n<div class=\"g_comp\">\\n\\n\\n\\n<div disp-attr=\\'(TAB)news\\' style=\"position: relative;\" class=\"g_comp\">\\n\\n\\n<div id=\"newsColl\"> <div class=\"cont_divider\"> <div class=\"coll_tit\"> <h2 class=\"tit\">뉴스</h2> <div class=\"info_adsch info_fairtrade\"> <a href=\"javascript:;\" class=\"ico_rwd ico_info\">서비스 안내</a> <div class=\"layer_ad\" style=\"display: none;\"> <p class=\"f_eb\">다음뉴스 안내 및 문의는 <a href=\"https://cs.daum.net/faq/63.html\" target=\"_blank\">다음뉴스 고객센터</a>를 이용해 주세요.</p> <button type=\"button\" class=\"btn_close\"><span class=\"ico_rwd ico_close_s\">서비스 안내 레이어 닫기</span></button> </div> </div> <div class=\"sort_comm\" data-option-type=\"sort\"> <a href=\"javascript:;\" class=\"btn_sort\" data-sort=\"accuracy\" data-log=\"dc=STC&pg=1&r=1&p=1&rc=1&at=func\">정확도순</a> <span class=\"ico_dot\"></span> <a href=\"javascript:;\" class=\"btn_sort\" data-sort=\"recency\" data-log=\"dc=STC&pg=1&r=1&p=2&rc=1&at=func\">최신순</a> <span class=\"ico_dot\"></span> <a href=\"javascript:;\" class=\"btn_sort\" data-sort=\"old\" data-log=\"dc=STC&pg=1&r=1&p=17&rc=1&at=func\">오래된순</a> </div> <div class=\"sub_expander\"> <span id=\"resultCntArea\" class=\"txt_info\">1-0 / 0건</span> <div class=\"wrap_btn\"> <a id=\"linkClusterClose\" href=\"?w=news&req=tab&q=%7B%7D&cluster=n&viewio=i&repno=0&n=10&p=1&DA=STC\" onclick=\\'smartLog(this, \"dc=STC&pg=1&r=1&p=11&rc=1&sd=&ed=\", event);\\' ><button class=\"btn_flex\"><span class=\"inner\">관련뉴스 닫기</span></button></a> <button class=\"btn_flex btn_search_option btn_fold\"> <span class=\"inner\">검색옵션<span class=\"ico_tabopt ico_arr\">닫기</span></span> </button> </div> </div> </div> <div class=\"compo-tabopt\"> <div class=\"box_opt\"> <div class=\"menu_opt\" data-option-type=\"period\"> <a href=\"javascript:;\" class=\"tit_menu\"> <span class=\"label\">기간</span><span class=\"ico_more\">옵션더보기</span> </a> <div class=\"layer_opt\"> <ul class=\"list_opt\"> <li> <a href=\"javascript:;\" data-period=\"\" data-label=\"전체\" class=\"tit_item\" data-log=\"dc=STC&pg=1&r=1&p=3&rc=1&at=func\"> 전체 </a> </li> <li> <a href=\"javascript:;\" data-period=\"d\" data-label=\"최근 1일\" class=\"tit_item\" data-log=\"dc=STC&pg=1&r=1&p=4&rc=1&at=func\"> 최근 1일 </a> </li> <li> <a href=\"javascript:;\" data-period=\"w\" data-label=\"최근 1주\" class=\"tit_item\" data-log=\"dc=STC&pg=1&r=1&p=5&rc=1&at=func\"> 최근 1주 </a> </li> <li> <a href=\"javascript:;\" data-period=\"m\" data-label=\"최근 1개월\" class=\"tit_item\" data-log=\"dc=STC&pg=1&r=1&p=6&rc=1&at=func\"> 최근 1개월 </a> </li> <li> <a href=\"javascript:;\" data-period=\"6m\" data-label=\"최근 6개월\" class=\"tit_item\" data-log=\"dc=STC&pg=1&r=1&p=13&rc=1&at=func\"> 최근 6개월 </a> </li> <li> <a href=\"javascript:;\" data-period=\"y\" data-label=\"최근 1년\" class=\"tit_item\" data-log=\"dc=STC&pg=1&r=1&p=14&rc=1&at=func\"> 최근 1년 </a> </li> </ul> <div class=\"box_sub box_date\" data-period=\"u\"> <strong class=\"tit_other\">직접입력</strong> <div class=\"item_date\"> <input type=\"text\" title=\"검색기간 시작일\" value=\"2016.01.01\" class=\"tf_txt\" id=\"datepicker\" /> <a href=\"javascript:;\" class=\"btn_date\"> <img class=\"ui-datepicker-trigger\" src=\"https://search1.daumcdn.net/search/statics/common/pi/ico/ico_calendar.gif\" alt=\"Select date\" title=\"Select date\" /> </a> </div> <div class=\"item_date\"> <input type=\"text\" title=\"검색기간 종료일\" value=\"2016.01.01\" class=\"tf_txt\" id=\"\" /> <a href=\"javascript:;\" class=\"btn_date\"> <img class=\"ui-datepicker-trigger\" src=\"https://search1.daumcdn.net/search/statics/common/pi/ico/ico_calendar.gif\" alt=\"Select date\" title=\"Select date\" /> </a> </div> <button type=\"submit\" class=\"btn_confirm\" data-log=\"dc=STC&pg=1&r=1&p=7&rc=1&at=func\">적용</button> </div> </div> </div> <div class=\"menu_opt\" data-option-type=\"cpname\"> <a href=\"javascript:;\" class=\"tit_menu\"> <span class=\"label\">언론사</span><span class=\"ico_more\">옵션더보기</span> </a> <div class=\"layer_opt ty_news\"> <div class=\"area_head\"> <strong class=\"tit ff_dot\">언론사</strong> <span class=\"info_select\">총<em class=\"f_blue fw_b\">0</em>개 선택(최대 5개)</span> <button class=\"btn_flex btn_cp\"> <span class=\"inner\">언론사 직접입력 <span class=\"ico_tabopt ico_arr\">펼침</span></span> </button> <div class=\"layer_opt ty_findcp\"> <label class=\"lab_item\" for=\"newsCollCpInp\">언론사 직접입력</label> <div class=\"box_sub list_opt\"> <input type=\"text\" title=\"언론사입력\" value=\"\" id=\"newsCollCpInp\" class=\"tf_txt\" autocomplete=\"off\" /> <div class=\"d_sgt simple_suggest\" style=\"display: none;\"></div> <button type=\"submit\" class=\"btn_confirm\" data-log=\"dc=STC&pg=1&r=1&p=9&rc=1&at=func\">적용</button> </div> </div> </div> <div class=\"area_tab\"> <strong class=\"screen_out\">초성별 언론사 목록</strong> <ul class=\"list_tab7\"> <li class=\"on\"><a href=\"javascript:\" data-cp-category=\"ㄱ\">ㄱ</a></li> <li><a href=\"javascript:\" data-cp-category=\"ㄴ\">ㄴ</a></li> <li><a href=\"javascript:\" data-cp-category=\"ㄷ\">ㄷ</a></li> <li><a href=\"javascript:\" data-cp-category=\"ㄹ\">ㄹ</a></li> <li><a href=\"javascript:\" data-cp-category=\"ㅁ\">ㅁ</a></li> <li><a href=\"javascript:\" data-cp-category=\"ㅂ\">ㅂ</a></li> <li><a href=\"javascript:\" data-cp-category=\"ㅅ\">ㅅ</a></li> <li><a href=\"javascript:\" data-cp-category=\"ㅇ\">ㅇ</a></li> <li><a href=\"javascript:\" data-cp-category=\"ㅈ\">ㅈ</a></li> <li><a href=\"javascript:\" data-cp-category=\"ㅊ\">ㅊ</a></li> <li><a href=\"javascript:\" data-cp-category=\"ㅋ\">ㅋ</a></li> <li><a href=\"javascript:\" data-cp-category=\"ㅌ\">ㅌ</a></li> <li><a href=\"javascript:\" data-cp-category=\"ㅍ\">ㅍ</a></li> <li><a href=\"javascript:\" data-cp-category=\"ㅎ\">ㅎ</a></li> <li><a href=\"javascript:\" data-cp-category=\"기타\">기타</a></li> </ul> </div> <div class=\"area_choice\"> <strong class=\"screen_out\">언론사 선택목록</strong> </div> <div class=\"area_submit\"> <button type=\"submit\" class=\"btn_confirm\">적용</button> <button type=\"button\" class=\"btn_cancle\">취소</button> </div> </div> </div> <div class=\"menu_opt\" data-option-type=\"article_type\"> <a href=\"javascript:;\" class=\"tit_menu\"> <span class=\"label\">유형</span><span class=\"ico_more\">옵션더보기</span> </a> <div class=\"layer_opt\"> <ul class=\"list_opt\"> <li> <a href=\"javascript:;\" class=\"tit_item\" data-article_type=\"\" data-label=\"전체\" data-log=\"dc=STC&pg=1&r=1&p=20&rc=1&at=func\"> 전체 </a> </li> <li> <a href=\"javascript:;\" class=\"tit_item\" data-article_type=\"photo\" data-label=\"포토\" data-log=\"dc=STC&pg=1&r=1&p=21&rc=1&at=func\"> 포토 </a> </li> <li> <a href=\"javascript:;\" class=\"tit_item\" data-article_type=\"video\" data-label=\"동영상\" data-log=\"dc=STC&pg=1&r=1&p=22&rc=1&at=func\"> 동영상 </a> </li> <li> <a href=\"javascript:;\" class=\"tit_item\" data-article_type=\"infographic\" data-label=\"인포그래픽\" data-log=\"dc=STC&pg=1&r=1&p=23&rc=1&at=func\"> 인포그래픽 </a> </li> <li> <a href=\"javascript:;\" class=\"tit_item\" data-article_type=\"robot\" data-label=\"자동생성기사\" data-log=\"dc=STC&pg=1&r=1&p=24&rc=1&at=func\"> 자동생성기사 </a> </li> <li> <a href=\"javascript:;\" class=\"tit_item\" data-article_type=\"report\" data-label=\"보도자료\" data-log=\"dc=STC&pg=1&r=1&p=25&rc=1&at=func\"> 보도자료 </a> </li> </ul> </div> </div> <label class=\"menu_opt opt_keep\"> <input type=\"checkbox\" class=\"inp_g\" data-log=\"dc=STC&pg=1&e=1\" /><span class=\"tit_menu\"><span class=\"txt_data\">옵션유지</span></span> </label> <button type=\"button\" class=\"btn_opt btn_reset\">초기화<span class=\"ico_tabopt\"></span></button> <button type=\"button\" class=\"btn_opt btn_close\"><span class=\"ico_tabopt\">검색옵션 닫기</span></button> </div> </div> </div> </div><script src=\"//search1.daumcdn.net/search/statics/common/js/fe/tot-search-collection/nns/p/news.nns.20211217152147.min.js\"></script> <script> var nnsNews = new C.nnsNews({ selector: { wrapperId: \"newsColl\", sameNameSelectBox: \"#selectSamename\", searchOption: { container: \".box_opt\", button: \".sub_expander .btn_search_option\", periodContainer: \\'div[data-option-type=\"period\"]\\', keepOptionButton: \".opt_keep input.inp_g\", closeButton: \".box_opt .btn_close\", resetButton: \".box_opt .btn_reset\", optionButton: \".menu_opt .tit_menu\", selectOptionLabel: \".tit_menu .label\", }, cpSuggest: { cpButton: \".btn_cp\", container: \\'div[data-option-type=\"cpname\"]\\', input: \"#newsCollCpInp\", layerSuggest: \".simple_suggest\", confirmButton: \".list_opt .btn_confirm\", label: \".tit_menu .label\", }, cpCategory: { container: \\'div[data-option-type=\"cpname\"]\\', categoryButton: \"a[data-cp-category]\", itemContainer: \".area_choice\", submitButton: \".area_submit .btn_confirm\", resetButton: \".area_submit .btn_cancle\", countLabel: \\'.info_select .fw_b\\', }, serviceInfoLayer: { container: \".coll_tit .info_fairtrade\", button: \".ico_info\", layer: \".layer_ad\", closeButton: \".btn_close\", }, }, api: { cpSuggest: \\'https://dapi.kakao.com/suggest-hub/v1/search.json?service=news-cpinfo&format=json&cate=\\', cpCategory: { qsearch: { cpinfo_req: \\'y\\', cp_initial: \\'\\', w: \\'news\\' } } }, data: { searchOption: { resetParam: { sd: \"\", ed: \"\", cp: \"\", sort: \"\", period: \"\", p: \"\", cpname: \"\", cluster: \"\", cluster_docid: \"\", article_type: \"\", }, }, paging: { displayCount: 10, totalCount: 0, currentPage: 1, wrapper: \".paging_comm\", pageName: \"p\", code: {}, }, }, logs: { suggestUserInput: \"dc=STC&pg=1&r=1&p=9&rc=1&at=func\", samenameSelTotal: \"dc=NNS&pg=1&r=1&p=20&rc=1&at=func\", samenameSelPerson: \"dc=NNS&pg=1&r=1&p=21&rc=1&at=func\", cpSelect: \"dc=STC&pg=1&r=1&p=16&rc=1&at=func\", }, }); nnsNews.init(); </script>\\n</div>\\n\\n\\n<div class=\"line\"></div><hr/>\\n\\n\\n\\n\\n\\n\\n<div id=\"noResult\">\\n<div class=\"mg_cont\">\\n<strong class=\"tit\"><b>\\'{}\\'</b> 에 대한 검색결과가 없습니다.</strong>\\n<ul class=\"list_cont\">\\n\\n<li>ㆍ검색어의 단어 수를 줄이거나, 보다 일반적인 단어로 검색해 보세요.</li>\\n<li>ㆍ두 단어 이상의 키워드로 검색 하신 경우, 정확하게 띄어쓰기를 한 후 검색해 보세요.</li>\\n<li>ㆍ키워드에 있는 특수문자를 뺀 후에 검색해 보세요.</li>\\n</ul>\\n</div>\\n</div>\\n</div>\\n\\n</div> <!-- // inner_article -->\\n</article> <!-- // mArticle -->\\n\\n<aside id=\"mAside\">\\n\\n\\n\\n\\n<div disp-attr=\\'R03\\' class=\"g_comp_s\">\\n\\n\\n<div id=\"randomCategoryColl\" class=\"content_realtime\"> <div class=\"coll_tit\"> <h2 class=\"tit\">분야별 검색어</h2> <div class=\"mg_expander\"><span class=\"f_nb\">01.19. 15:45</span></div> </div> <div id=\"randomCategoryCollDetail\" class=\"coll_cont\"> <div class=\"tab_comp tab_box\"> <ul id=\"rtissue_categories\" class=\"list_tab tab_size3\"> <li class=\\'on\\'><a class=\"tab_tit\" href=\"javascript:;\" onclick=\"C.randomCategoryColl.switchTab(0, \\'R03\\', event)\"><span class=\"inner_tit\">시사교양tv</span></a></li> <li ><a class=\"tab_tit\" href=\"javascript:;\" onclick=\"C.randomCategoryColl.switchTab(1, \\'R01\\', event)\"><span class=\"inner_tit\">드라마</span></a></li> <li ><a class=\"tab_tit\" href=\"javascript:;\" onclick=\"C.randomCategoryColl.switchTab(2, \\'R07\\', event)\"><span class=\"inner_tit\">상영중영화</span></a></li> </ul> </div> <div class=\"wrap_rank\" > <ol class=\"list_rank\"> <li> <div class=\"inner_item\"> <span class=\"num_rank\">1</span> <span class=\"keyword_rank\"><a href=\"?w=tot&DA=R03&q=%EA%BC%AC%EB%A6%AC%EC%97%90%20%EA%BC%AC%EB%A6%AC%EB%A5%BC%20%EB%AC%B4%EB%8A%94%20%EA%B7%B8%EB%82%A0%20%EC%9D%B4%EC%95%BC%EA%B8%B0&rtmaxcoll=R0T,TVP&irt=tv-program&irk=92546\" class=\"link_txt\" onclick=\"smartLog(this,\\'dc=R03&pg=1&at=link&rc=10&p=1&r=1\\',event);\">꼬리에 꼬리를 무는 그날 이야기</a></span> </div> </li> <li> <div class=\"inner_item\"> <span class=\"num_rank\">2</span> <span class=\"keyword_rank\"><a href=\"?w=tot&DA=R03&q=%EB%8B%B9%EC%8B%A0%EC%9D%B4%20%ED%98%B9%ED%95%98%EB%8A%94%20%EC%82%AC%EC%9D%B4%203&rtmaxcoll=R0T,TVP&irt=tv-program&irk=92667\" class=\"link_txt\" onclick=\"smartLog(this,\\'dc=R03&pg=1&at=link&rc=10&p=1&r=2\\',event);\">당신이 혹하는 사이 3</a></span> </div> </li> <li> <div class=\"inner_item\"> <span class=\"num_rank\">3</span> <span class=\"keyword_rank\"><a href=\"?w=tot&DA=R03&q=%EC%95%84%EC%B9%A8%EB%A7%88%EB%8B%B9&rtmaxcoll=R0T,TVP&irt=tv-program&irk=48594\" class=\"link_txt\" onclick=\"smartLog(this,\\'dc=R03&pg=1&at=link&rc=10&p=1&r=3\\',event);\">아침마당</a></span> </div> </li> <li> <div class=\"inner_item\"> <span class=\"num_rank\">4</span> <span class=\"keyword_rank\"><a href=\"?w=tot&DA=R03&q=%EC%9D%B8%EA%B0%84%EA%B7%B9%EC%9E%A5&rtmaxcoll=R0T,TVP&irt=tv-program&irk=48281\" class=\"link_txt\" onclick=\"smartLog(this,\\'dc=R03&pg=1&at=link&rc=10&p=1&r=4\\',event);\">인간극장</a></span> </div> </li> <li> <div class=\"inner_item\"> <span class=\"num_rank\">5</span> <span class=\"keyword_rank\"><a href=\"?w=tot&DA=R03&q=%EB%82%98%EB%8A%94%20%EC%9E%90%EC%97%B0%EC%9D%B8%EC%9D%B4%EB%8B%A4&rtmaxcoll=R0T,TVP&irt=tv-program&irk=61815\" class=\"link_txt\" onclick=\"smartLog(this,\\'dc=R03&pg=1&at=link&rc=10&p=1&r=5\\',event);\">나는 자연인이다</a></span> </div> </li> </ol> <ol class=\"list_rank\"> <li> <div class=\"inner_item\"> <span class=\"num_rank\">6</span> <span class=\"keyword_rank\"><a href=\"?w=tot&DA=R03&q=%ED%83%90%EC%82%AC%EA%B8%B0%ED%9A%8D%20%EC%8A%A4%ED%8A%B8%EB%A0%88%EC%9D%B4%ED%8A%B8&rtmaxcoll=R0T,TVP&irt=tv-program&irk=82072\" class=\"link_txt\" onclick=\"smartLog(this,\\'dc=R03&pg=1&at=link&rc=10&p=1&r=6\\',event);\">탐사기획 스트레이트</a></span> </div> </li> <li> <div class=\"inner_item\"> <span class=\"num_rank\">7</span> <span class=\"keyword_rank\"><a href=\"?w=tot&DA=R03&q=TV%20%EB%8F%99%EB%AC%BC%EB%86%8D%EC%9E%A5&rtmaxcoll=R0T,TVP&irt=tv-program&irk=48496\" class=\"link_txt\" onclick=\"smartLog(this,\\'dc=R03&pg=1&at=link&rc=10&p=1&r=7\\',event);\">TV 동물농장</a></span> </div> </li> <li> <div class=\"inner_item\"> <span class=\"num_rank\">8</span> <span class=\"keyword_rank\"><a href=\"?w=tot&DA=R03&q=%EA%B7%B8%EA%B2%83%EC%9D%B4%20%EC%95%8C%EA%B3%A0%20%EC%8B%B6%EB%8B%A4&rtmaxcoll=R0T,TVP&irt=tv-program&irk=48438\" class=\"link_txt\" onclick=\"smartLog(this,\\'dc=R03&pg=1&at=link&rc=10&p=1&r=8\\',event);\">그것이 알고 싶다</a></span> </div> </li> <li> <div class=\"inner_item\"> <span class=\"num_rank\">9</span> <span class=\"keyword_rank\"><a href=\"?w=tot&DA=R03&q=%EA%B0%80%EB%A9%B4%ED%86%A0%EB%A1%A0%ED%9A%8C&rtmaxcoll=R0T,TVP&irt=tv-program&irk=93184\" class=\"link_txt\" onclick=\"smartLog(this,\\'dc=R03&pg=1&at=link&rc=10&p=1&r=9\\',event);\">가면토론회</a></span> </div> </li> <li> <div class=\"inner_item\"> <span class=\"num_rank\">10</span> <span class=\"keyword_rank\"><a href=\"?w=tot&DA=R03&q=2TV%20%EC%83%9D%EC%83%9D%EC%A0%95%EB%B3%B4&rtmaxcoll=R0T,TVP&irt=tv-program&irk=75643\" class=\"link_txt\" onclick=\"smartLog(this,\\'dc=R03&pg=1&at=link&rc=10&p=1&r=10\\',event);\">2TV 생생정보</a></span> </div> </li> </ol> </div> <div class=\"wrap_rank\" style=\"display:none\"> <ol class=\"list_rank\"> <li> <div class=\"inner_item\"> <span class=\"num_rank\">1</span> <span class=\"keyword_rank\"><a href=\"?w=tot&DA=R01&q=%EC%87%BC%EC%9C%88%EB%8F%84%3A%EC%97%AC%EC%99%95%EC%9D%98%20%EC%A7%91&rtmaxcoll=1DR,TVP&irt=tv-program&irk=91570\" class=\"link_txt\" onclick=\"smartLog(this,\\'dc=R01&pg=1&at=link&rc=10&p=1&r=1\\',event);\">쇼윈도:여왕의 집</a></span> </div> </li> <li> <div class=\"inner_item\"> <span class=\"num_rank\">2</span> <span class=\"keyword_rank\"><a href=\"?w=tot&DA=R01&q=%EA%B3%A0%EC%8A%A4%ED%8A%B8%20%EB%8B%A5%ED%84%B0&rtmaxcoll=1DR,TVP&irt=tv-program&irk=91220\" class=\"link_txt\" onclick=\"smartLog(this,\\'dc=R01&pg=1&at=link&rc=10&p=1&r=2\\',event);\">고스트 닥터</a></span> </div> </li> <li> <div class=\"inner_item\"> <span class=\"num_rank\">3</span> <span class=\"keyword_rank\"><a href=\"?w=tot&DA=R01&q=%EA%B7%B8%20%ED%95%B4%20%EC%9A%B0%EB%A6%AC%EB%8A%94&rtmaxcoll=1DR,TVP&irt=tv-program&irk=91228\" class=\"link_txt\" onclick=\"smartLog(this,\\'dc=R01&pg=1&at=link&rc=10&p=1&r=3\\',event);\">그 해 우리는</a></span> </div> </li> <li> <div class=\"inner_item\"> <span class=\"num_rank\">4</span> <span class=\"keyword_rank\"><a href=\"?w=tot&DA=R01&q=%ED%8A%B8%EB%A0%88%EC%9D%B4%EC%84%9C&rtmaxcoll=1DR,TVP&irt=tv-program&irk=92022\" class=\"link_txt\" onclick=\"smartLog(this,\\'dc=R01&pg=1&at=link&rc=10&p=1&r=4\\',event);\">트레이서</a></span> </div> </li> <li> <div class=\"inner_item\"> <span class=\"num_rank\">5</span> <span class=\"keyword_rank\"><a href=\"?w=tot&DA=R01&q=%EC%95%85%EC%9D%98%20%EB%A7%88%EC%9D%8C%EC%9D%84%20%EC%9D%BD%EB%8A%94%20%EC%9E%90%EB%93%A4&rtmaxcoll=1DR,TVP&irt=tv-program&irk=91643\" class=\"link_txt\" onclick=\"smartLog(this,\\'dc=R01&pg=1&at=link&rc=10&p=1&r=5\\',event);\">악의 마음을 읽는 자들</a></span> </div> </li> </ol> <ol class=\"list_rank\"> <li> <div class=\"inner_item\"> <span class=\"num_rank\">6</span> <span class=\"keyword_rank\"><a href=\"?w=tot&DA=R01&q=%EB%91%90%20%EB%B2%88%EC%A7%B8%20%EB%82%A8%ED%8E%B8&rtmaxcoll=1DR,TVP&irt=tv-program&irk=91555\" class=\"link_txt\" onclick=\"smartLog(this,\\'dc=R01&pg=1&at=link&rc=10&p=1&r=6\\',event);\">두 번째 남편</a></span> </div> </li> <li> <div class=\"inner_item\"> <span class=\"num_rank\">7</span> <span class=\"keyword_rank\"><a href=\"?w=tot&DA=R01&q=%EA%BD%83%20%ED%94%BC%EB%A9%B4%20%EB%8B%AC%20%EC%83%9D%EA%B0%81%ED%95%98%EA%B3%A0&rtmaxcoll=1DR,TVP&irt=tv-program&irk=91536\" class=\"link_txt\" onclick=\"smartLog(this,\\'dc=R01&pg=1&at=link&rc=10&p=1&r=7\\',event);\">꽃 피면 달 생각하고</a></span> </div> </li> <li> <div class=\"inner_item\"> <span class=\"num_rank\">8</span> <span class=\"keyword_rank\"><a href=\"?w=tot&DA=R01&q=%EC%98%B7%EC%86%8C%EB%A7%A4%20%EB%B6%89%EC%9D%80%20%EB%81%9D%EB%8F%99(The%20Red%20Sleeve)&rtmaxcoll=1DR,TVP&irt=tv-program&irk=88933\" class=\"link_txt\" onclick=\"smartLog(this,\\'dc=R01&pg=1&at=link&rc=10&p=1&r=8\\',event);\">옷소매 붉은 끝동(The Red Sleeve)</a></span> </div> </li> <li> <div class=\"inner_item\"> <span class=\"num_rank\">9</span> <span class=\"keyword_rank\"><a href=\"?w=tot&DA=R01&q=%EC%8B%A0%EC%82%AC%EC%99%80%20%EC%95%84%EA%B0%80%EC%94%A8&rtmaxcoll=1DR,TVP&irt=tv-program&irk=91615\" class=\"link_txt\" onclick=\"smartLog(this,\\'dc=R01&pg=1&at=link&rc=10&p=1&r=9\\',event);\">신사와 아가씨</a></span> </div> </li> <li> <div class=\"inner_item\"> <span class=\"num_rank\">10</span> <span class=\"keyword_rank\"><a href=\"?w=tot&DA=R01&q=%EA%B3%B5%EC%9E%91%EB%8F%84%EC%8B%9C&rtmaxcoll=1DR,TVP&irt=tv-program&irk=90888\" class=\"link_txt\" onclick=\"smartLog(this,\\'dc=R01&pg=1&at=link&rc=10&p=1&r=10\\',event);\">공작도시</a></span> </div> </li> </ol> </div> <div class=\"wrap_rank\" style=\"display:none\"> <ol class=\"list_rank\"> <li> <div class=\"inner_item\"> <span class=\"num_rank\">1</span> <span class=\"keyword_rank\"><a href=\"?w=tot&DA=R07&q=%ED%8A%B9%EC%86%A1&rtmaxcoll=CQN,EM1&scckey=MV||132303\" class=\"link_txt\" onclick=\"smartLog(this,\\'dc=R07&pg=1&at=link&rc=10&p=1&r=1\\',event);\">특송</a></span> </div> </li> <li> <div class=\"inner_item\"> <span class=\"num_rank\">2</span> <span class=\"keyword_rank\"><a href=\"?w=tot&DA=R07&q=%EA%B2%BD%EA%B4%80%EC%9D%98%20%ED%94%BC&rtmaxcoll=CQN,EM1&scckey=MV||136344\" class=\"link_txt\" onclick=\"smartLog(this,\\'dc=R07&pg=1&at=link&rc=10&p=1&r=2\\',event);\">경관의 피</a></span> </div> </li> <li> <div class=\"inner_item\"> <span class=\"num_rank\">3</span> <span class=\"keyword_rank\"><a href=\"?w=tot&DA=R07&q=%EC%8A%A4%ED%8C%8C%EC%9D%B4%EB%8D%94%EB%A7%A8%3A%20%EB%85%B8%20%EC%9B%A8%EC%9D%B4%20%ED%99%88&rtmaxcoll=CQN,EM1&scckey=MV||146656\" class=\"link_txt\" onclick=\"smartLog(this,\\'dc=R07&pg=1&at=link&rc=10&p=1&r=3\\',event);\">스파이더맨: 노 웨이 홈</a></span> </div> </li> <li> <div class=\"inner_item\"> <span class=\"num_rank\">4</span> <span class=\"keyword_rank\"><a href=\"?w=tot&DA=R07&q=%EC%94%BD2%EA%B2%8C%EB%8D%94&rtmaxcoll=CQN,EM1&scckey=MV||138207\" class=\"link_txt\" onclick=\"smartLog(this,\\'dc=R07&pg=1&at=link&rc=10&p=1&r=4\\',event);\">씽2게더</a></span> </div> </li> <li> <div class=\"inner_item\"> <span class=\"num_rank\">5</span> <span class=\"keyword_rank\"><a href=\"?w=tot&DA=R07&q=%EB%A0%88%EC%A7%80%EB%8D%98%ED%8A%B8%20%EC%9D%B4%EB%B8%94%3A%20%EB%9D%BC%EC%BF%A4%EC%8B%9C%ED%8B%B0&rtmaxcoll=CQN,EM1&scckey=MV||154524\" class=\"link_txt\" onclick=\"smartLog(this,\\'dc=R07&pg=1&at=link&rc=10&p=1&r=5\\',event);\">레지던트 이블: 라쿤시티</a></span> </div> </li> </ol> <ol class=\"list_rank\"> <li> <div class=\"inner_item\"> <span class=\"num_rank\">6</span> <span class=\"keyword_rank\"><a href=\"?w=tot&DA=R07&q=%EB%8F%88%20%EB%A3%A9%20%EC%97%85&rtmaxcoll=CQN,EM1&scckey=MV||143035\" class=\"link_txt\" onclick=\"smartLog(this,\\'dc=R07&pg=1&at=link&rc=10&p=1&r=6\\',event);\">돈 룩 업</a></span> </div> </li> <li> <div class=\"inner_item\"> <span class=\"num_rank\">7</span> <span class=\"keyword_rank\"><a href=\"?w=tot&DA=R07&q=%EC%9B%A8%EC%8A%A4%ED%8A%B8%20%EC%82%AC%EC%9D%B4%EB%93%9C%20%EC%8A%A4%ED%86%A0%EB%A6%AC&rtmaxcoll=CQN,EM1&scckey=MV||132759\" class=\"link_txt\" onclick=\"smartLog(this,\\'dc=R07&pg=1&at=link&rc=10&p=1&r=7\\',event);\">웨스트 사이드 스토리</a></span> </div> </li> <li> <div class=\"inner_item\"> <span class=\"num_rank\">8</span> <span class=\"keyword_rank\"><a href=\"?w=tot&DA=R07&q=%ED%95%98%EC%9A%B0%EC%8A%A4%20%EC%98%A4%EB%B8%8C%20%EA%B5%AC%EC%B0%8C&rtmaxcoll=CQN,EM1&scckey=MV||54204\" class=\"link_txt\" onclick=\"smartLog(this,\\'dc=R07&pg=1&at=link&rc=10&p=1&r=8\\',event);\">하우스 오브 구찌</a></span> </div> </li> <li> <div class=\"inner_item\"> <span class=\"num_rank\">9</span> <span class=\"keyword_rank\"><a href=\"?w=tot&DA=R07&q=%EC%96%B4%EB%82%98%EB%8D%94%20%EB%9D%BC%EC%9A%B4%EB%93%9C&rtmaxcoll=CQN,EM1&scckey=MV||142798\" class=\"link_txt\" onclick=\"smartLog(this,\\'dc=R07&pg=1&at=link&rc=10&p=1&r=9\\',event);\">어나더 라운드</a></span> </div> </li> <li> <div class=\"inner_item\"> <span class=\"num_rank\">10</span> <span class=\"keyword_rank\"><a href=\"?w=tot&DA=R07&q=%ED%95%B4%ED%94%BC%20%EB%89%B4%20%EC%9D%B4%EC%96%B4&rtmaxcoll=CQN,EM1&scckey=MV||149881\" class=\"link_txt\" onclick=\"smartLog(this,\\'dc=R07&pg=1&at=link&rc=10&p=1&r=10\\',event);\">해피 뉴 이어</a></span> </div> </li> </ol> </div> </div> </div> <script type=\"text/javascript\"> (function(module){ function addClass(element, className){ var check = new RegExp(\"(\\\\\\\\s|^)\" + className + \"(\\\\\\\\s|$)\"); if(!check.test(element.className)) { element.className += \" \" + className; } } function removeClass(element, className){ var check = new RegExp(\"(\\\\\\\\s|^)\" + className + \"(\\\\\\\\s|$)\"); element.className = element.className.replace(check, \" \").trim(); } module.switchTab = function(categoryNumber, displayCode, event) { var tabs = document.getElementById(\"rtissue_categories\"); for(var i = 0; i < tabs.children.length; i++) { var element = tabs.children[i]; if(element.tagName === \\'LI\\') { if(i === categoryNumber) { addClass(element, \\'on\\'); } else { removeClass(element, \\'on\\'); } } } var tabContents = document.getElementById(\"randomCategoryCollDetail\"); for(var i = 1; i < tabContents.children.length; i++) { var element = tabContents.children[i]; if(element.className === \\'wrap_rank\\') { if(i === categoryNumber + 1) { element.style.display = \"block\"; } else { element.style.display = \"none\"; } } } smartLog(this,\\'pg=1&at=func&rc=10&p=2&r=\\' + (categoryNumber + 1) + \\'&dc=\\' + displayCode, event); } }(C.randomCategoryColl = ( C.randomCategoryColl || {}))); </script>\\n</div>\\n\\n\\n\\n\\n<div disp-attr=\\'TOG\\' class=\"g_comp_s\">\\n\\n\\n<div class=\"content_commend\"> <div class=\"coll_tit\"> <h2 class=\"tit\">같이가치 추천글</h2> </div> <div class=\"coll_cont\"> <ul class=\"list_major\"> <li> <a href=\"https://together.kakao.com/fundraisings/93033/story\" class=\"link_major\" target=\"_blank\" onclick=\"smartLog(this,\\'dc=TOG&d=toget-fundraising_project-93033&rc=10&at=link&pg=1&p=1&r=1\\',event);\">태어나자마자 받은 큰 수술을 받은 별이</a> </li> <li> <a href=\"https://together.kakao.com/fundraisings/93026/story\" class=\"link_major\" target=\"_blank\" onclick=\"smartLog(this,\\'dc=TOG&d=toget-fundraising_project-93026&rc=10&at=link&pg=1&p=1&r=2\\',event);\">집 수리 프로젝트! \\'집은 삶의 안식처입니다\\'</a> </li> <li> <a href=\"https://together.kakao.com/fundraisings/93441/story\" class=\"link_major\" target=\"_blank\" onclick=\"smartLog(this,\\'dc=TOG&d=toget-fundraising_project-93441&rc=10&at=link&pg=1&p=1&r=3\\',event);\">한파와 미세먼지로부터 어르신을 지켜주세요</a> </li> <li> <a href=\"https://together.kakao.com/fundraisings/92948/story\" class=\"link_major\" target=\"_blank\" onclick=\"smartLog(this,\\'dc=TOG&d=toget-fundraising_project-92948&rc=10&at=link&pg=1&p=1&r=4\\',event);\">코로나 2년, 우리는 묵묵히 아이들을 지킵니다</a> </li> <li> <a href=\"https://together.kakao.com/fundraisings/93369/story\" class=\"link_major\" target=\"_blank\" onclick=\"smartLog(this,\\'dc=TOG&d=toget-fundraising_project-93369&rc=10&at=link&pg=1&p=1&r=5\\',event);\">버스로는 2시간, 못 오시면 저희가 갈게요!</a> </li> <li> <a href=\"https://together.kakao.com/fundraisings/93182/story\" class=\"link_major\" target=\"_blank\" onclick=\"smartLog(this,\\'dc=TOG&d=toget-fundraising_project-93182&rc=10&at=link&pg=1&p=1&r=6\\',event);\">새해를 맞아 좋은 쌀로 만든 따뜻한 식사!</a> </li> <li> <a href=\"https://together.kakao.com/fundraisings/93064/story\" class=\"link_major\" target=\"_blank\" onclick=\"smartLog(this,\\'dc=TOG&d=toget-fundraising_project-93064&rc=10&at=link&pg=1&p=1&r=7\\',event);\">집에서도 ‘꽈당’, 어르신 댁은 안전한가요?</a> </li> <li> <a href=\"https://together.kakao.com/fundraisings/93070/story\" class=\"link_major\" target=\"_blank\" onclick=\"smartLog(this,\\'dc=TOG&d=toget-fundraising_project-93070&rc=10&at=link&pg=1&p=1&r=8\\',event);\">나도 알고 싶다! 먹는 즐거움...</a> </li> <li> <a href=\"https://together.kakao.com/fundraisings/93591/story\" class=\"link_major\" target=\"_blank\" onclick=\"smartLog(this,\\'dc=TOG&d=toget-fundraising_project-93591&rc=10&at=link&pg=1&p=1&r=9\\',event);\">불길 속 돌아오지 못한 소방관들, 그 유가족은</a> </li> <li> <a href=\"https://together.kakao.com/fundraisings/93270/story\" class=\"link_major\" target=\"_blank\" onclick=\"smartLog(this,\\'dc=TOG&d=toget-fundraising_project-93270&rc=10&at=link&pg=1&p=1&r=10\\',event);\">마음이 더 추운 겨울, 명절만큼은 따뜻하게</a> </li> </ul> </div> </div>\\n</div>\\n\\n\\n\\n<div style=\"display:block;overflow:hidden;height:0;clear:both;font-size:0;line-height:0;visibility:hidden;\">\\\\00f0</div>\\n</aside>\\n\\n\\n</div>\\n\\n\\n<a href=\"javascript:;\" class=\"aside_quick\">맨위로<span class=\"ico_rwd\"></span></a>\\n\\n</article>\\n\\n<footer id=\"daumFoot\">\\n<div id=\"innerFooter\" class=\"inner_footer\">\\n<div id=\"suggestFooter\">\\n<form name=\"search1\" method=\"get\" id=\"daumSearchFoot\" class=\"d_sch\">\\n<fieldset class=\"fld_total\">\\n<legend class=\"screen_out\">검색폼</legend>\\n<input type=\"hidden\" name=\"nil_ch\" value=\"\">\\n<input type=\"hidden\" name=\"rtupcoll\" value=\"\">\\n<input type=\"hidden\" name=\"nil_suggest\" value=\"btn\">\\n<input type=\"hidden\" name=\"DA\" value=\"MEK\">\\n<input type=\"hidden\" name=\"w\" value=\"news\">\\n<input type=\"hidden\" name=\"sq\" value=\"\">\\n<input type=\"hidden\" name=\"o\" value=\"\">\\n<input type=\"hidden\" name=\"sugo\" value=\"\">\\n\\n\\n<input type=\"hidden\" name=\"m\" value=\"\">\\n\\n<div class=\"box_searchbar\">\\n<div class=\"inner_searchbar\">\\n<input type=\"text\" id=\"q1\" name=\"q\" class=\"tf_keyword\" autocomplete=\"off\" title=\"검색어 입력\" value=\"{}\" >\\n<button type=\"submit\" id=\"schFooterSubmitBtn\" class=\"ico_ksearch btn_ksearch\"><span class=\"ir_wa\">검색</span></button>\\n</div>\\n</div>\\n</fieldset>\\n</form>\\n<div class=\"wrap_suggestBox\"><div id=\"schFooterSuggestBox\" class=\"suggestBox box_sub reverseType\"></div></div>\\n</div>\\n<script type=\"text/javascript\">\\n(function(){\\nvar footerSearchModule = new SF.FooterSearchForm();\\nfooterSearchModule.init();\\n})();\\n</script>\\n\\n<div class=\"footer_comm\">\\n<a href=\"http://daumsearch.tistory.com\" target=\"_blank\" onclick=\"smartLog(this, \\'pg=1&p=10&dc=CCC&r=1\\', event);\" class=\"link_info\">검색블로그</a><span class=\"txt_bar\">|</span>\\n<a href=\"https://cs.daum.net/faq/15/15649.html\" target=\"_blank\" onclick=\"smartLog(this, \\'pg=1&p=15&dc=CCC&r=1\\', event);\" class=\"link_info\">검색원칙</a><span class=\"txt_bar\">|</span>\\n<a href=\"https://register.search.daum.net/\" target=\"_blank\" onclick=\"smartLog(this, \\'pg=1&p=9&dc=CCC&r=1\\', event);\" class=\"link_info\">사이트 등록 신청</a><span class=\"txt_bar\">|</span>\\n<a href=\"https://mystore.kakao.com/\" target=\"_blank\" onclick=\"smartLog(this, \\'pg=1&p=14&dc=CCC&r=1\\', event);\" class=\"link_info\">카카오맵 매장관리</a><span class=\"txt_bar\">|</span>\\n<a href=\"https://with.kakao.com/search\" target=\"_blank\" onclick=\"smartLog(this, \\'pg=1&p=12&dc=CCC&r=1\\', event);\" class=\"link_info\">검색제휴</a><span class=\"txt_bar\">|</span>\\n<a href=\"https://business.kakao.com/info/keywordad\" target=\"_blank\" onclick=\"smartLog(this, \\'pg=1&p=2&dc=CCC&r=1\\', event);\" class=\"link_info\">키워드광고</a><span class=\"txt_bar\">|</span>\\n<a href=\"http://local.biz.daum.net/\" target=\"_blank\" onclick=\"smartLog(this, \\'pg=1&p=3&dc=CCC&r=1\\', event);\" class=\"link_info\">로컬광고</a><span class=\"txt_bar\">|</span>\\n<a href=\"https://business.kakao.com/info/crossmedia\" target=\"_blank\" onclick=\"smartLog(this, \\'pg=1&p=8&dc=CCC&r=1\\', event);\" class=\"link_info\">크로스미디어</a><span class=\"txt_bar\">|</span>\\n<a href=\"http://cs.daum.net/faq/15.html\" target=\"_blank\" onclick=\"smartLog(this, \\'pg=1&p=6&dc=CCC&r=1\\', event);\" class=\"link_info\">고객센터</a>\\n\\n<address class=\"copyright\">&nbsp;&nbsp;&nbsp;ⓒ <a href=\"http://kakaocorp.com\" target=\"_blank\" onclick=\"smartLog(this, \\'pg=1&p=11&dc=CCC&r=1\\', event);\" class=\"link_daum\">Kakao Corp.</a></address>\\n</div>\\n\\n</div>\\n</footer>\\n</article>\\n\\n\\n<script type=\"text/javascript\" >\\nvar __MiniDaumObj = null;\\nvar minidaum_options = null;\\n(function() {\\nminidaum_options = {\\nbgType: \"\",\\nenableLogoutRetun: true,\\ndisableHotissue: true,\\ndisableLogo: true,\\ndisableTracker: true,\\nenableShield: false\\n};\\n})();\\n</script>\\n\\n\\n<script src=\"//go.daum.net/minidaum_pc.daum\" charset=\"utf-8\" type=\"text/javascript\" async defer></script>\\n\\n\\n<script type=\"text/javascript\">\\nSF.CommonModule && SF.CommonModule.init && SF.CommonModule.init();\\n</script>\\n\\n<script type=\"text/javascript\" src=\"//t1.daumcdn.net/tiara/js/v1/tiara.min.js\"></script>\\n<script type=\"text/javascript\">\\n(function() {\\nif (typeof TiaraTracker === \\'undefined\\') {\\nreturn;\\n}\\nvar svcdomain = window.viewio === \\'i\\' ? window.param_w + \\'.search.daum.net\\' : \\'nate.search.daum.net\\';\\nvar pageName = window.param_w === \\'tot\\' ? \\'통합검색\\' : window.param_w + \\'탭\\';\\nvar search = {\\nsearch_term: window.topQuery,\\nsearch_type:  window.param_da\\n};\\nTiaraTracker.getInstance()\\n.setSvcDomain(svcdomain)\\n.setPage(pageName)\\n.setSection(\\'검색결과\\')\\n.trackPage(\\'검색결과화면_조회\\')\\n.actionKind(\"Search\")\\n.search(search)\\n.track();\\n})();\\n</script>\\n<script type=\"text/javascript\">\\nwindow.roosevelt_params_queue = window.roosevelt_params_queue || [];\\nwindow.roosevelt_params_queue.push({\\nchannel_id: \"dk\", channel_label: \"search\", keyword: window.topQuery\\n});\\n</script>\\n<script type=\"text/javascript\" src=\"//t1.daumcdn.net/midas/rt/dk_se/roosevelt_dk_se.js\" async></script>\\n<script>\\n(function(SF) {\\nif (SF.compLogger && SF.compLogger.sendAllFromPage) {\\nSF.compLogger.sendAllFromPage({\\nref: \\'search\\'\\n});\\n}\\n})(window.SF || {});\\n</script>\\n<!-- SA 삭제 -->\\n\\n\\n<!-- end SA 삭제 -->\\n\\n\\n</body>\\n\\n</html>\\n'"
      ]
     },
     "execution_count": 128,
     "metadata": {},
     "output_type": "execute_result"
    }
   ],
   "source": [
    "html = requests.get(url)\n",
    "html.text"
   ]
  },
  {
   "cell_type": "code",
   "execution_count": 134,
   "id": "c760a806",
   "metadata": {},
   "outputs": [],
   "source": [
    "path = '#newsColl > div.cont_divider > ul > li > div.wrap_cont '"
   ]
  },
  {
   "cell_type": "code",
   "execution_count": 135,
   "id": "cdb903e1",
   "metadata": {},
   "outputs": [],
   "source": [
    "soup = BeautifulSoup(html.text, 'html.parser')"
   ]
  },
  {
   "cell_type": "code",
   "execution_count": 136,
   "id": "2a7961e4",
   "metadata": {
    "collapsed": true
   },
   "outputs": [
    {
     "ename": "IndexError",
     "evalue": "list index out of range",
     "output_type": "error",
     "traceback": [
      "\u001b[1;31m---------------------------------------------------------------------------\u001b[0m",
      "\u001b[1;31mIndexError\u001b[0m                                Traceback (most recent call last)",
      "\u001b[1;32m~\\AppData\\Local\\Temp/ipykernel_1732/1074715274.py\u001b[0m in \u001b[0;36m<module>\u001b[1;34m\u001b[0m\n\u001b[1;32m----> 1\u001b[1;33m \u001b[0msoup\u001b[0m\u001b[1;33m.\u001b[0m\u001b[0mselect\u001b[0m\u001b[1;33m(\u001b[0m\u001b[0mpath\u001b[0m\u001b[1;33m)\u001b[0m\u001b[1;33m[\u001b[0m\u001b[1;36m0\u001b[0m\u001b[1;33m]\u001b[0m\u001b[1;33m\u001b[0m\u001b[1;33m\u001b[0m\u001b[0m\n\u001b[0m",
      "\u001b[1;31mIndexError\u001b[0m: list index out of range"
     ]
    }
   ],
   "source": [
    "soup.select(path)[0]"
   ]
  },
  {
   "cell_type": "code",
   "execution_count": 132,
   "id": "a6366411",
   "metadata": {
    "collapsed": true
   },
   "outputs": [
    {
     "ename": "SelectorSyntaxError",
     "evalue": "Expected a selector at position 40\n  line 1:\n#newsColl > div.cont_divider > ul > li >\n                                        ^",
     "output_type": "error",
     "traceback": [
      "\u001b[1;31m---------------------------------------------------------------------------\u001b[0m",
      "\u001b[1;31mSelectorSyntaxError\u001b[0m                       Traceback (most recent call last)",
      "\u001b[1;32m~\\AppData\\Local\\Temp/ipykernel_1732/1468820530.py\u001b[0m in \u001b[0;36m<module>\u001b[1;34m\u001b[0m\n\u001b[1;32m----> 1\u001b[1;33m \u001b[0msoup\u001b[0m\u001b[1;33m.\u001b[0m\u001b[0mselect\u001b[0m\u001b[1;33m(\u001b[0m\u001b[0mpath\u001b[0m\u001b[1;33m)\u001b[0m\u001b[1;33m[\u001b[0m\u001b[1;36m0\u001b[0m\u001b[1;33m]\u001b[0m\u001b[1;33m.\u001b[0m\u001b[0mselect\u001b[0m\u001b[1;33m(\u001b[0m\u001b[1;34m'a.tit_main'\u001b[0m\u001b[1;33m)\u001b[0m\u001b[1;33m[\u001b[0m\u001b[1;36m0\u001b[0m\u001b[1;33m]\u001b[0m\u001b[1;33m.\u001b[0m\u001b[0mtext\u001b[0m\u001b[1;33m\u001b[0m\u001b[1;33m\u001b[0m\u001b[0m\n\u001b[0m",
      "\u001b[1;32m~\\Anaconda3\\lib\\site-packages\\bs4\\element.py\u001b[0m in \u001b[0;36mselect\u001b[1;34m(self, selector, namespaces, limit, **kwargs)\u001b[0m\n\u001b[0;32m   1947\u001b[0m             )\n\u001b[0;32m   1948\u001b[0m \u001b[1;33m\u001b[0m\u001b[0m\n\u001b[1;32m-> 1949\u001b[1;33m         \u001b[0mresults\u001b[0m \u001b[1;33m=\u001b[0m \u001b[0msoupsieve\u001b[0m\u001b[1;33m.\u001b[0m\u001b[0mselect\u001b[0m\u001b[1;33m(\u001b[0m\u001b[0mselector\u001b[0m\u001b[1;33m,\u001b[0m \u001b[0mself\u001b[0m\u001b[1;33m,\u001b[0m \u001b[0mnamespaces\u001b[0m\u001b[1;33m,\u001b[0m \u001b[0mlimit\u001b[0m\u001b[1;33m,\u001b[0m \u001b[1;33m**\u001b[0m\u001b[0mkwargs\u001b[0m\u001b[1;33m)\u001b[0m\u001b[1;33m\u001b[0m\u001b[1;33m\u001b[0m\u001b[0m\n\u001b[0m\u001b[0;32m   1950\u001b[0m \u001b[1;33m\u001b[0m\u001b[0m\n\u001b[0;32m   1951\u001b[0m         \u001b[1;31m# We do this because it's more consistent and because\u001b[0m\u001b[1;33m\u001b[0m\u001b[1;33m\u001b[0m\u001b[0m\n",
      "\u001b[1;32m~\\Anaconda3\\lib\\site-packages\\soupsieve\\__init__.py\u001b[0m in \u001b[0;36mselect\u001b[1;34m(select, tag, namespaces, limit, flags, **kwargs)\u001b[0m\n\u001b[0;32m     96\u001b[0m     \u001b[1;34m\"\"\"Select the specified tags.\"\"\"\u001b[0m\u001b[1;33m\u001b[0m\u001b[1;33m\u001b[0m\u001b[0m\n\u001b[0;32m     97\u001b[0m \u001b[1;33m\u001b[0m\u001b[0m\n\u001b[1;32m---> 98\u001b[1;33m     \u001b[1;32mreturn\u001b[0m \u001b[0mcompile\u001b[0m\u001b[1;33m(\u001b[0m\u001b[0mselect\u001b[0m\u001b[1;33m,\u001b[0m \u001b[0mnamespaces\u001b[0m\u001b[1;33m,\u001b[0m \u001b[0mflags\u001b[0m\u001b[1;33m,\u001b[0m \u001b[1;33m**\u001b[0m\u001b[0mkwargs\u001b[0m\u001b[1;33m)\u001b[0m\u001b[1;33m.\u001b[0m\u001b[0mselect\u001b[0m\u001b[1;33m(\u001b[0m\u001b[0mtag\u001b[0m\u001b[1;33m,\u001b[0m \u001b[0mlimit\u001b[0m\u001b[1;33m)\u001b[0m\u001b[1;33m\u001b[0m\u001b[1;33m\u001b[0m\u001b[0m\n\u001b[0m\u001b[0;32m     99\u001b[0m \u001b[1;33m\u001b[0m\u001b[0m\n\u001b[0;32m    100\u001b[0m \u001b[1;33m\u001b[0m\u001b[0m\n",
      "\u001b[1;32m~\\Anaconda3\\lib\\site-packages\\soupsieve\\__init__.py\u001b[0m in \u001b[0;36mcompile\u001b[1;34m(pattern, namespaces, flags, **kwargs)\u001b[0m\n\u001b[0;32m     60\u001b[0m         \u001b[1;32mreturn\u001b[0m \u001b[0mpattern\u001b[0m\u001b[1;33m\u001b[0m\u001b[1;33m\u001b[0m\u001b[0m\n\u001b[0;32m     61\u001b[0m \u001b[1;33m\u001b[0m\u001b[0m\n\u001b[1;32m---> 62\u001b[1;33m     \u001b[1;32mreturn\u001b[0m \u001b[0mcp\u001b[0m\u001b[1;33m.\u001b[0m\u001b[0m_cached_css_compile\u001b[0m\u001b[1;33m(\u001b[0m\u001b[0mpattern\u001b[0m\u001b[1;33m,\u001b[0m \u001b[0mnamespaces\u001b[0m\u001b[1;33m,\u001b[0m \u001b[0mcustom\u001b[0m\u001b[1;33m,\u001b[0m \u001b[0mflags\u001b[0m\u001b[1;33m)\u001b[0m\u001b[1;33m\u001b[0m\u001b[1;33m\u001b[0m\u001b[0m\n\u001b[0m\u001b[0;32m     63\u001b[0m \u001b[1;33m\u001b[0m\u001b[0m\n\u001b[0;32m     64\u001b[0m \u001b[1;33m\u001b[0m\u001b[0m\n",
      "\u001b[1;32m~\\Anaconda3\\lib\\site-packages\\soupsieve\\css_parser.py\u001b[0m in \u001b[0;36m_cached_css_compile\u001b[1;34m(pattern, namespaces, custom, flags)\u001b[0m\n\u001b[0;32m    209\u001b[0m     return cm.SoupSieve(\n\u001b[0;32m    210\u001b[0m         \u001b[0mpattern\u001b[0m\u001b[1;33m,\u001b[0m\u001b[1;33m\u001b[0m\u001b[1;33m\u001b[0m\u001b[0m\n\u001b[1;32m--> 211\u001b[1;33m         \u001b[0mCSSParser\u001b[0m\u001b[1;33m(\u001b[0m\u001b[0mpattern\u001b[0m\u001b[1;33m,\u001b[0m \u001b[0mcustom\u001b[0m\u001b[1;33m=\u001b[0m\u001b[0mcustom_selectors\u001b[0m\u001b[1;33m,\u001b[0m \u001b[0mflags\u001b[0m\u001b[1;33m=\u001b[0m\u001b[0mflags\u001b[0m\u001b[1;33m)\u001b[0m\u001b[1;33m.\u001b[0m\u001b[0mprocess_selectors\u001b[0m\u001b[1;33m(\u001b[0m\u001b[1;33m)\u001b[0m\u001b[1;33m,\u001b[0m\u001b[1;33m\u001b[0m\u001b[1;33m\u001b[0m\u001b[0m\n\u001b[0m\u001b[0;32m    212\u001b[0m         \u001b[0mnamespaces\u001b[0m\u001b[1;33m,\u001b[0m\u001b[1;33m\u001b[0m\u001b[1;33m\u001b[0m\u001b[0m\n\u001b[0;32m    213\u001b[0m         \u001b[0mcustom\u001b[0m\u001b[1;33m,\u001b[0m\u001b[1;33m\u001b[0m\u001b[1;33m\u001b[0m\u001b[0m\n",
      "\u001b[1;32m~\\Anaconda3\\lib\\site-packages\\soupsieve\\css_parser.py\u001b[0m in \u001b[0;36mprocess_selectors\u001b[1;34m(self, index, flags)\u001b[0m\n\u001b[0;32m   1056\u001b[0m         \u001b[1;34m\"\"\"Process selectors.\"\"\"\u001b[0m\u001b[1;33m\u001b[0m\u001b[1;33m\u001b[0m\u001b[0m\n\u001b[0;32m   1057\u001b[0m \u001b[1;33m\u001b[0m\u001b[0m\n\u001b[1;32m-> 1058\u001b[1;33m         \u001b[1;32mreturn\u001b[0m \u001b[0mself\u001b[0m\u001b[1;33m.\u001b[0m\u001b[0mparse_selectors\u001b[0m\u001b[1;33m(\u001b[0m\u001b[0mself\u001b[0m\u001b[1;33m.\u001b[0m\u001b[0mselector_iter\u001b[0m\u001b[1;33m(\u001b[0m\u001b[0mself\u001b[0m\u001b[1;33m.\u001b[0m\u001b[0mpattern\u001b[0m\u001b[1;33m)\u001b[0m\u001b[1;33m,\u001b[0m \u001b[0mindex\u001b[0m\u001b[1;33m,\u001b[0m \u001b[0mflags\u001b[0m\u001b[1;33m)\u001b[0m\u001b[1;33m\u001b[0m\u001b[1;33m\u001b[0m\u001b[0m\n\u001b[0m\u001b[0;32m   1059\u001b[0m \u001b[1;33m\u001b[0m\u001b[0m\n\u001b[0;32m   1060\u001b[0m \u001b[1;33m\u001b[0m\u001b[0m\n",
      "\u001b[1;32m~\\Anaconda3\\lib\\site-packages\\soupsieve\\css_parser.py\u001b[0m in \u001b[0;36mparse_selectors\u001b[1;34m(self, iselector, index, flags)\u001b[0m\n\u001b[0;32m    990\u001b[0m         \u001b[1;32melse\u001b[0m\u001b[1;33m:\u001b[0m\u001b[1;33m\u001b[0m\u001b[1;33m\u001b[0m\u001b[0m\n\u001b[0;32m    991\u001b[0m             \u001b[1;31m# We will always need to finish a selector when `:has()` is used as it leads with combining.\u001b[0m\u001b[1;33m\u001b[0m\u001b[1;33m\u001b[0m\u001b[0m\n\u001b[1;32m--> 992\u001b[1;33m             raise SelectorSyntaxError(\n\u001b[0m\u001b[0;32m    993\u001b[0m                 \u001b[1;34m'Expected a selector at position {}'\u001b[0m\u001b[1;33m.\u001b[0m\u001b[0mformat\u001b[0m\u001b[1;33m(\u001b[0m\u001b[0mindex\u001b[0m\u001b[1;33m)\u001b[0m\u001b[1;33m,\u001b[0m\u001b[1;33m\u001b[0m\u001b[1;33m\u001b[0m\u001b[0m\n\u001b[0;32m    994\u001b[0m                 \u001b[0mself\u001b[0m\u001b[1;33m.\u001b[0m\u001b[0mpattern\u001b[0m\u001b[1;33m,\u001b[0m\u001b[1;33m\u001b[0m\u001b[1;33m\u001b[0m\u001b[0m\n",
      "\u001b[1;31mSelectorSyntaxError\u001b[0m: Expected a selector at position 40\n  line 1:\n#newsColl > div.cont_divider > ul > li >\n                                        ^"
     ]
    }
   ],
   "source": [
    "soup.select(path)[0].select('a.tit_main')[0].text"
   ]
  },
  {
   "cell_type": "code",
   "execution_count": 133,
   "id": "6b9ae51c",
   "metadata": {
    "collapsed": true
   },
   "outputs": [
    {
     "ename": "SelectorSyntaxError",
     "evalue": "Expected a selector at position 40\n  line 1:\n#newsColl > div.cont_divider > ul > li >\n                                        ^",
     "output_type": "error",
     "traceback": [
      "\u001b[1;31m---------------------------------------------------------------------------\u001b[0m",
      "\u001b[1;31mSelectorSyntaxError\u001b[0m                       Traceback (most recent call last)",
      "\u001b[1;32m~\\AppData\\Local\\Temp/ipykernel_1732/298669551.py\u001b[0m in \u001b[0;36m<module>\u001b[1;34m\u001b[0m\n\u001b[1;32m----> 1\u001b[1;33m \u001b[0msoup\u001b[0m\u001b[1;33m.\u001b[0m\u001b[0mselect\u001b[0m\u001b[1;33m(\u001b[0m\u001b[0mpath\u001b[0m\u001b[1;33m)\u001b[0m\u001b[1;33m[\u001b[0m\u001b[1;36m0\u001b[0m\u001b[1;33m]\u001b[0m\u001b[1;33m.\u001b[0m\u001b[0mselect\u001b[0m\u001b[1;33m(\u001b[0m\u001b[1;34m'a.tit_main'\u001b[0m\u001b[1;33m)\u001b[0m\u001b[1;33m[\u001b[0m\u001b[1;36m0\u001b[0m\u001b[1;33m]\u001b[0m\u001b[1;33m[\u001b[0m\u001b[1;34m'href'\u001b[0m\u001b[1;33m]\u001b[0m\u001b[1;33m\u001b[0m\u001b[1;33m\u001b[0m\u001b[0m\n\u001b[0m",
      "\u001b[1;32m~\\Anaconda3\\lib\\site-packages\\bs4\\element.py\u001b[0m in \u001b[0;36mselect\u001b[1;34m(self, selector, namespaces, limit, **kwargs)\u001b[0m\n\u001b[0;32m   1947\u001b[0m             )\n\u001b[0;32m   1948\u001b[0m \u001b[1;33m\u001b[0m\u001b[0m\n\u001b[1;32m-> 1949\u001b[1;33m         \u001b[0mresults\u001b[0m \u001b[1;33m=\u001b[0m \u001b[0msoupsieve\u001b[0m\u001b[1;33m.\u001b[0m\u001b[0mselect\u001b[0m\u001b[1;33m(\u001b[0m\u001b[0mselector\u001b[0m\u001b[1;33m,\u001b[0m \u001b[0mself\u001b[0m\u001b[1;33m,\u001b[0m \u001b[0mnamespaces\u001b[0m\u001b[1;33m,\u001b[0m \u001b[0mlimit\u001b[0m\u001b[1;33m,\u001b[0m \u001b[1;33m**\u001b[0m\u001b[0mkwargs\u001b[0m\u001b[1;33m)\u001b[0m\u001b[1;33m\u001b[0m\u001b[1;33m\u001b[0m\u001b[0m\n\u001b[0m\u001b[0;32m   1950\u001b[0m \u001b[1;33m\u001b[0m\u001b[0m\n\u001b[0;32m   1951\u001b[0m         \u001b[1;31m# We do this because it's more consistent and because\u001b[0m\u001b[1;33m\u001b[0m\u001b[1;33m\u001b[0m\u001b[0m\n",
      "\u001b[1;32m~\\Anaconda3\\lib\\site-packages\\soupsieve\\__init__.py\u001b[0m in \u001b[0;36mselect\u001b[1;34m(select, tag, namespaces, limit, flags, **kwargs)\u001b[0m\n\u001b[0;32m     96\u001b[0m     \u001b[1;34m\"\"\"Select the specified tags.\"\"\"\u001b[0m\u001b[1;33m\u001b[0m\u001b[1;33m\u001b[0m\u001b[0m\n\u001b[0;32m     97\u001b[0m \u001b[1;33m\u001b[0m\u001b[0m\n\u001b[1;32m---> 98\u001b[1;33m     \u001b[1;32mreturn\u001b[0m \u001b[0mcompile\u001b[0m\u001b[1;33m(\u001b[0m\u001b[0mselect\u001b[0m\u001b[1;33m,\u001b[0m \u001b[0mnamespaces\u001b[0m\u001b[1;33m,\u001b[0m \u001b[0mflags\u001b[0m\u001b[1;33m,\u001b[0m \u001b[1;33m**\u001b[0m\u001b[0mkwargs\u001b[0m\u001b[1;33m)\u001b[0m\u001b[1;33m.\u001b[0m\u001b[0mselect\u001b[0m\u001b[1;33m(\u001b[0m\u001b[0mtag\u001b[0m\u001b[1;33m,\u001b[0m \u001b[0mlimit\u001b[0m\u001b[1;33m)\u001b[0m\u001b[1;33m\u001b[0m\u001b[1;33m\u001b[0m\u001b[0m\n\u001b[0m\u001b[0;32m     99\u001b[0m \u001b[1;33m\u001b[0m\u001b[0m\n\u001b[0;32m    100\u001b[0m \u001b[1;33m\u001b[0m\u001b[0m\n",
      "\u001b[1;32m~\\Anaconda3\\lib\\site-packages\\soupsieve\\__init__.py\u001b[0m in \u001b[0;36mcompile\u001b[1;34m(pattern, namespaces, flags, **kwargs)\u001b[0m\n\u001b[0;32m     60\u001b[0m         \u001b[1;32mreturn\u001b[0m \u001b[0mpattern\u001b[0m\u001b[1;33m\u001b[0m\u001b[1;33m\u001b[0m\u001b[0m\n\u001b[0;32m     61\u001b[0m \u001b[1;33m\u001b[0m\u001b[0m\n\u001b[1;32m---> 62\u001b[1;33m     \u001b[1;32mreturn\u001b[0m \u001b[0mcp\u001b[0m\u001b[1;33m.\u001b[0m\u001b[0m_cached_css_compile\u001b[0m\u001b[1;33m(\u001b[0m\u001b[0mpattern\u001b[0m\u001b[1;33m,\u001b[0m \u001b[0mnamespaces\u001b[0m\u001b[1;33m,\u001b[0m \u001b[0mcustom\u001b[0m\u001b[1;33m,\u001b[0m \u001b[0mflags\u001b[0m\u001b[1;33m)\u001b[0m\u001b[1;33m\u001b[0m\u001b[1;33m\u001b[0m\u001b[0m\n\u001b[0m\u001b[0;32m     63\u001b[0m \u001b[1;33m\u001b[0m\u001b[0m\n\u001b[0;32m     64\u001b[0m \u001b[1;33m\u001b[0m\u001b[0m\n",
      "\u001b[1;32m~\\Anaconda3\\lib\\site-packages\\soupsieve\\css_parser.py\u001b[0m in \u001b[0;36m_cached_css_compile\u001b[1;34m(pattern, namespaces, custom, flags)\u001b[0m\n\u001b[0;32m    209\u001b[0m     return cm.SoupSieve(\n\u001b[0;32m    210\u001b[0m         \u001b[0mpattern\u001b[0m\u001b[1;33m,\u001b[0m\u001b[1;33m\u001b[0m\u001b[1;33m\u001b[0m\u001b[0m\n\u001b[1;32m--> 211\u001b[1;33m         \u001b[0mCSSParser\u001b[0m\u001b[1;33m(\u001b[0m\u001b[0mpattern\u001b[0m\u001b[1;33m,\u001b[0m \u001b[0mcustom\u001b[0m\u001b[1;33m=\u001b[0m\u001b[0mcustom_selectors\u001b[0m\u001b[1;33m,\u001b[0m \u001b[0mflags\u001b[0m\u001b[1;33m=\u001b[0m\u001b[0mflags\u001b[0m\u001b[1;33m)\u001b[0m\u001b[1;33m.\u001b[0m\u001b[0mprocess_selectors\u001b[0m\u001b[1;33m(\u001b[0m\u001b[1;33m)\u001b[0m\u001b[1;33m,\u001b[0m\u001b[1;33m\u001b[0m\u001b[1;33m\u001b[0m\u001b[0m\n\u001b[0m\u001b[0;32m    212\u001b[0m         \u001b[0mnamespaces\u001b[0m\u001b[1;33m,\u001b[0m\u001b[1;33m\u001b[0m\u001b[1;33m\u001b[0m\u001b[0m\n\u001b[0;32m    213\u001b[0m         \u001b[0mcustom\u001b[0m\u001b[1;33m,\u001b[0m\u001b[1;33m\u001b[0m\u001b[1;33m\u001b[0m\u001b[0m\n",
      "\u001b[1;32m~\\Anaconda3\\lib\\site-packages\\soupsieve\\css_parser.py\u001b[0m in \u001b[0;36mprocess_selectors\u001b[1;34m(self, index, flags)\u001b[0m\n\u001b[0;32m   1056\u001b[0m         \u001b[1;34m\"\"\"Process selectors.\"\"\"\u001b[0m\u001b[1;33m\u001b[0m\u001b[1;33m\u001b[0m\u001b[0m\n\u001b[0;32m   1057\u001b[0m \u001b[1;33m\u001b[0m\u001b[0m\n\u001b[1;32m-> 1058\u001b[1;33m         \u001b[1;32mreturn\u001b[0m \u001b[0mself\u001b[0m\u001b[1;33m.\u001b[0m\u001b[0mparse_selectors\u001b[0m\u001b[1;33m(\u001b[0m\u001b[0mself\u001b[0m\u001b[1;33m.\u001b[0m\u001b[0mselector_iter\u001b[0m\u001b[1;33m(\u001b[0m\u001b[0mself\u001b[0m\u001b[1;33m.\u001b[0m\u001b[0mpattern\u001b[0m\u001b[1;33m)\u001b[0m\u001b[1;33m,\u001b[0m \u001b[0mindex\u001b[0m\u001b[1;33m,\u001b[0m \u001b[0mflags\u001b[0m\u001b[1;33m)\u001b[0m\u001b[1;33m\u001b[0m\u001b[1;33m\u001b[0m\u001b[0m\n\u001b[0m\u001b[0;32m   1059\u001b[0m \u001b[1;33m\u001b[0m\u001b[0m\n\u001b[0;32m   1060\u001b[0m \u001b[1;33m\u001b[0m\u001b[0m\n",
      "\u001b[1;32m~\\Anaconda3\\lib\\site-packages\\soupsieve\\css_parser.py\u001b[0m in \u001b[0;36mparse_selectors\u001b[1;34m(self, iselector, index, flags)\u001b[0m\n\u001b[0;32m    990\u001b[0m         \u001b[1;32melse\u001b[0m\u001b[1;33m:\u001b[0m\u001b[1;33m\u001b[0m\u001b[1;33m\u001b[0m\u001b[0m\n\u001b[0;32m    991\u001b[0m             \u001b[1;31m# We will always need to finish a selector when `:has()` is used as it leads with combining.\u001b[0m\u001b[1;33m\u001b[0m\u001b[1;33m\u001b[0m\u001b[0m\n\u001b[1;32m--> 992\u001b[1;33m             raise SelectorSyntaxError(\n\u001b[0m\u001b[0;32m    993\u001b[0m                 \u001b[1;34m'Expected a selector at position {}'\u001b[0m\u001b[1;33m.\u001b[0m\u001b[0mformat\u001b[0m\u001b[1;33m(\u001b[0m\u001b[0mindex\u001b[0m\u001b[1;33m)\u001b[0m\u001b[1;33m,\u001b[0m\u001b[1;33m\u001b[0m\u001b[1;33m\u001b[0m\u001b[0m\n\u001b[0;32m    994\u001b[0m                 \u001b[0mself\u001b[0m\u001b[1;33m.\u001b[0m\u001b[0mpattern\u001b[0m\u001b[1;33m,\u001b[0m\u001b[1;33m\u001b[0m\u001b[1;33m\u001b[0m\u001b[0m\n",
      "\u001b[1;31mSelectorSyntaxError\u001b[0m: Expected a selector at position 40\n  line 1:\n#newsColl > div.cont_divider > ul > li >\n                                        ^"
     ]
    }
   ],
   "source": [
    "soup.select(path)[0].select('a.tit_main')[0]['href']"
   ]
  },
  {
   "cell_type": "code",
   "execution_count": null,
   "id": "f52e1ace",
   "metadata": {},
   "outputs": [],
   "source": [
    "soup.select(path)[0].select('p.code')[0]['href']"
   ]
  },
  {
   "cell_type": "code",
   "execution_count": null,
   "id": "077f59ce",
   "metadata": {},
   "outputs": [],
   "source": [
    "# for 문"
   ]
  },
  {
   "cell_type": "code",
   "execution_count": 137,
   "id": "6a43b70b",
   "metadata": {},
   "outputs": [],
   "source": [
    "# 함수\n",
    "\n",
    "def crawling_daum_news(kw):\n",
    "    url = 'https://search.daum.net/search?w=news&nil_search=btn&DA=NTB&enc=utf8&cluster=y&cluster_page=1&q={}'\n",
    "    url.format(serch)\n",
    "    \n",
    "    html = requests.get(url)\n",
    "    soup = BeautifulSoup(html.text, 'html.parser')\n",
    "    \n",
    "    path = '#newsColl > div.cont_divider > ul > li '\n",
    "    tags = soup.select(path)\n",
    "    \n",
    "    for tag in tags:\n",
    "        \n",
    "    "
   ]
  },
  {
   "cell_type": "code",
   "execution_count": null,
   "id": "945c5021",
   "metadata": {},
   "outputs": [],
   "source": []
  },
  {
   "cell_type": "code",
   "execution_count": null,
   "id": "8ccfb8d1",
   "metadata": {},
   "outputs": [],
   "source": [
    "# 키워드와 크롤링할 페이지수를 입력받은 후 다음 뉴스페이지에서 \n",
    "# 제목, URL, summry, 언론사, 시간을 크롤링 해서 출력하는 함수를 만드시오"
   ]
  },
  {
   "cell_type": "code",
   "execution_count": 26,
   "id": "4c69c93c",
   "metadata": {
    "collapsed": true
   },
   "outputs": [
    {
     "name": "stdout",
     "output_type": "stream",
     "text": [
      "[<div class=\"wrap_cont\"> <a class=\"tit_main fn_tit_u\" href=\"http://v.media.daum.net/v/20220120095904137?f=o\" onclick='smartLog(this, \"dc=NNS&amp;d=26AoLTKrOg_gbg-Ym7&amp;pg=1&amp;r=1&amp;p=4&amp;rc=10&amp;e1=16bOiOx4gG2S18EPLj&amp;e3=0&amp;ext=dsid=26AoLTKrOg_gbg-Ym7\", event, {\"cpid\": {\"value\": \"16bOiOx4gG2S18EPLj\"}});' target=\"_blank\">英 \"<b>백신</b><b>패스</b>·마스크 의무화 종료\"..의료계 \"무모한 도박\"</a> <p class=\"tit_sub f_nb\">오는 27일부터 백신패스 선택적 제시</p> <p class=\"desc\">보리스 존슨 영국 총리. 뉴시스 영국이 다시 마스크를 벗고 <b>백신</b><b>패스</b>를 없애는 단계적 일상 회복(위드코로나)으로 돌아간다.19일(현지시간) BBC에 따르면 보리스 존슨 영국 총리는 이날 의회에서 실내 마스크 착용, 재택근무 권고, 대형 행사장 <b>백신</b><b>패스</b> 사용 등의...</p> <span class=\"cont_info\"> <span class=\"f_nb\">동아일보</span> <span class=\"f_nb\">27분전</span> <a class=\"f_nb\" href=\"http://v.media.daum.net/v/20220120095904137\" onclick='smartLog(this, \"dc=NNS&amp;d=26AoLTKrOg_gbg-Ym7&amp;pg=1&amp;r=1&amp;p=3&amp;rc=10&amp;e1=16bOiOx4gG2S18EPLj&amp;e3=0&amp;ext=dsid=26AoLTKrOg_gbg-Ym7\", event, {\"cpid\": {\"value\": \"16bOiOx4gG2S18EPLj\"}});' target=\"_blank\">다음뉴스</a> </span> <span id=\"newsSQC_t1_0\" style=\"display:none;\">10301^http://v.media.daum.net/v/20220120095904137?f=o^26AoLTKrOg_gbg-Ym7^news^mediaArticle^%EB%B0%B1%EC%8B%A0%ED%8C%A8%EC%8A%A4^26AoLTKrOg_gbg-Ym7</span> </div>, <div class=\"wrap_cont\"> <a class=\"tit_main fn_tit_u\" href=\"http://v.media.daum.net/v/20220120102251450?f=o\" onclick='smartLog(this, \"dc=NNS&amp;d=26xCmdn4Rf6DRUx06Q&amp;pg=1&amp;r=2&amp;p=4&amp;rc=10&amp;e1=16gmjhh-4e7TNHMCYw&amp;e3=0&amp;ext=dsid=26xCmdn4Rf6DRUx06Q\", event, {\"cpid\": {\"value\": \"16gmjhh-4e7TNHMCYw\"}});' target=\"_blank\"><b>백신</b> 안 맞고 <b>패스</b> 얻으려..일부러 코로나 감염, 사망한 체코 가수</a> <p class=\"desc\"><b>백신</b> 반대론자'였던 호르카는 지난 크리스마스 당시 코로나19에 감염된 남편과 아들에게 일부러 밀접 접촉해 감염됐다. <b>백신</b><b>패스</b>를 발급받기 위해서였다. 체코는 지난해 11월22일부터 <b>백신</b><b>패스</b> 제도를 적용했다. <b>백신</b><b>패스</b>는 <b>백신</b>을 접종하거나 코로나19에 감염된 후...</p> <span class=\"cont_info\"> <span class=\"f_nb\">머니투데이</span> <span class=\"f_nb\">3분전</span> <a class=\"f_nb\" href=\"http://v.media.daum.net/v/20220120102251450\" onclick='smartLog(this, \"dc=NNS&amp;d=26xCmdn4Rf6DRUx06Q&amp;pg=1&amp;r=2&amp;p=3&amp;rc=10&amp;e1=16gmjhh-4e7TNHMCYw&amp;e3=0&amp;ext=dsid=26xCmdn4Rf6DRUx06Q\", event, {\"cpid\": {\"value\": \"16gmjhh-4e7TNHMCYw\"}});' target=\"_blank\">다음뉴스</a> </span> <div class=\"cont_rel\"> <dl> <dt class=\"screen_out\">관련기사</dt> <dd> <a class=\"tit_rel f_link\" href=\"http://v.media.daum.net/v/20220120100012220?f=o\" onclick='smartLog(this, \"dc=NNS&amp;d=26XIJZCSSjEDLQMxC3&amp;pg=1&amp;r=2&amp;p=5&amp;rc=10&amp;e1=16PxLkJt1h6kPgSYDm&amp;e3=0&amp;ext=dsid=26XIJZCSSjEDLQMxC3&amp;rtt=parent&amp;rtid=26xCmdn4Rf6DRUx06Q&amp;rtsc=\", event, {\"cpid\": {\"value\": \"16PxLkJt1h6kPgSYDm\"}});' target=\"_blank\"> <b>백신</b><b>패스</b> 피하려 일부러 감염, 사망한 가수 </a> <span class=\"cont_info\"> <span class=\"f_nb\">스포츠동아</span> <span class=\"f_nb\">26분전</span> <a class=\"f_nb\" href=\"http://v.media.daum.net/v/20220120100012220\" onclick='smartLog(this, \"dc=NNS&amp;d=26XIJZCSSjEDLQMxC3&amp;pg=1&amp;r=2&amp;p=12&amp;rc=10&amp;e1=16PxLkJt1h6kPgSYDm&amp;e3=0&amp;ext=dsid=26XIJZCSSjEDLQMxC3&amp;rtt=parent&amp;rtid=26xCmdn4Rf6DRUx06Q&amp;rtsc=\", event, {\"cpid\": {\"value\": \"16PxLkJt1h6kPgSYDm\"}});' target=\"_blank\">다음뉴스</a> </span> </dd> <dd> <a class=\"tit_rel f_link\" href=\"http://v.media.daum.net/v/20220120084204039?f=o\" onclick='smartLog(this, \"dc=NNS&amp;d=26tml5s5B72x8MNRy4&amp;pg=1&amp;r=2&amp;p=6&amp;rc=10&amp;e1=16FyB2ukEzHjC3cheN&amp;e3=0&amp;ext=dsid=26tml5s5B72x8MNRy4&amp;rtt=parent&amp;rtid=26xCmdn4Rf6DRUx06Q&amp;rtsc=\", event, {\"cpid\": {\"value\": \"16FyB2ukEzHjC3cheN\"}});' target=\"_blank\"> '<b>백신</b> <b>패스</b>' 피하려 코로나에 일부러 감염됐다가..... </a> <span class=\"cont_info\"> <span class=\"f_nb\">한국경제</span> <span class=\"f_nb\">1시간전</span> <a class=\"f_nb\" href=\"http://v.media.daum.net/v/20220120084204039\" onclick='smartLog(this, \"dc=NNS&amp;d=26tml5s5B72x8MNRy4&amp;pg=1&amp;r=2&amp;p=12&amp;rc=10&amp;e1=16FyB2ukEzHjC3cheN&amp;e3=0&amp;ext=dsid=26tml5s5B72x8MNRy4&amp;rtt=parent&amp;rtid=26xCmdn4Rf6DRUx06Q&amp;rtsc=\", event, {\"cpid\": {\"value\": \"16FyB2ukEzHjC3cheN\"}});' target=\"_blank\">다음뉴스</a> </span> </dd> </dl> </div> <span id=\"newsSQC_t1_1\" style=\"display:none;\">10301^http://v.media.daum.net/v/20220120102251450?f=o^26xCmdn4Rf6DRUx06Q^news^mediaArticle^%EB%B0%B1%EC%8B%A0%ED%8C%A8%EC%8A%A4^26xCmdn4Rf6DRUx06Q</span> </div>, <div class=\"wrap_cont\"> <a class=\"tit_main fn_tit_u\" href=\"https://cp.news.search.daum.net/p/115248954\" onclick='smartLog(this, \"dc=NNS&amp;d=26oqvaGxFmDsLDAI0L&amp;pg=1&amp;r=3&amp;p=4&amp;rc=10&amp;e1=160jV2LgTIr6Q4lNDH&amp;e3=0&amp;ext=dsid=26oqvaGxFmDsLDAI0L\", event, {\"cpid\": {\"value\": \"160jV2LgTIr6Q4lNDH\"}});' target=\"_blank\">英, 27일부터 <b>백신</b><b>패스</b>·마스크 규제 해제</a> <p class=\"desc\">해제한다고 밝혔다. 이에 따라 공공장소 마스크 착용은 27일부터 영국 전역에서 해제되며, 클럽이나 대규모 행사에 적용됐던 <b>백신</b><b>패스</b>는 26일 유효기간 만료 이후 더 이상 갱신되지 않는다. 학교 내 마스크 착용 해제는 이번 발표 다음 날인 20일부터 바로 적용된다...</p> <span class=\"cont_info\"> <span class=\"f_nb\">뉴스타운</span> <span class=\"f_nb\">25분전</span> </span> <span id=\"newsSQC_t1_2\" style=\"display:none;\">10301^https://cp.news.search.daum.net/p/115248954^26oqvaGxFmDsLDAI0L^news^mediaArticle^%EB%B0%B1%EC%8B%A0%ED%8C%A8%EC%8A%A4^26oqvaGxFmDsLDAI0L</span> </div>, <div class=\"wrap_cont\"> <a class=\"tit_main fn_tit_u\" href=\"http://v.media.daum.net/v/20220120093112840?f=o\" onclick='smartLog(this, \"dc=NNS&amp;d=26d4WY2flHUzvFF2MI&amp;pg=1&amp;r=4&amp;p=4&amp;rc=10&amp;e1=16jhhOdk47nI-0Acff&amp;e3=0&amp;ext=dsid=26d4WY2flHUzvFF2MI\", event, {\"cpid\": {\"value\": \"16jhhOdk47nI-0Acff\"}});' target=\"_blank\">英 다시 마스크 벗고 <b>백신</b><b>패스</b> 없앤다..美, N95 마스크 4억 장 무료 배포</a> <p class=\"desc\">[앵커] 영국이 다시 마스크를 벗고 <b>백신</b> <b>패스</b>를 없애는 등 방역 지침을 오미크론 변이 확산 이전 수준으로 돌리기로 했습니다. 미국의 코로나 지표들이 개선되는 가운데 바이든 행정부는 의료용으로 쓰이는 고품질 N95 마스크 4억 장을 무료로 배포하기로 했습니다...</p> <span class=\"cont_info\"> <span class=\"f_nb\">YTN</span> <span class=\"f_nb\">55분전</span> <a class=\"f_nb\" href=\"http://v.media.daum.net/v/20220120093112840\" onclick='smartLog(this, \"dc=NNS&amp;d=26d4WY2flHUzvFF2MI&amp;pg=1&amp;r=4&amp;p=3&amp;rc=10&amp;e1=16jhhOdk47nI-0Acff&amp;e3=0&amp;ext=dsid=26d4WY2flHUzvFF2MI\", event, {\"cpid\": {\"value\": \"16jhhOdk47nI-0Acff\"}});' target=\"_blank\">다음뉴스</a> </span> <span id=\"newsSQC_t1_3\" style=\"display:none;\">10301^http://v.media.daum.net/v/20220120093112840?f=o^26d4WY2flHUzvFF2MI^news^mediaArticle^%EB%B0%B1%EC%8B%A0%ED%8C%A8%EC%8A%A4^26d4WY2flHUzvFF2MI</span> </div>, <div class=\"wrap_cont\"> <a class=\"tit_main fn_tit_u\" href=\"https://cp.news.search.daum.net/p/115246658\" onclick='smartLog(this, \"dc=NNS&amp;d=26jzBCccbFGbT-2Fnn&amp;pg=1&amp;r=5&amp;p=4&amp;rc=10&amp;e1=165qxMocgZOF62gon_&amp;e3=0&amp;ext=dsid=26jzBCccbFGbT-2Fnn\", event, {\"cpid\": {\"value\": \"165qxMocgZOF62gon_\"}});' target=\"_blank\">[거리두기 조정안] 24일부터 방역<b>패스</b> 예외대상 확대 '사적모임·인원제한·청소년 <b>백신</b><b>패스</b> Q&amp;A'</a> <p class=\"desc\">오는 24일부터 방역<b>패스</b> 예외 확인서 발급 대상이 확대된다. 중앙방역대책본부(방대본)는 19일 방역<b>패스</b>(코로나19 <b>백신</b> 접종증명·음성확인제)의 의학적 사유에 의한 적용 예외 범위를 <b>백신</b> 접종 후 이상 반응 의심 증상이 나타나 입원치료를 받은 경우 등으로 확대...</p> <span class=\"cont_info\"> <span class=\"f_nb\">시사매거진</span> <span class=\"f_nb\">1시간전</span> </span> <div class=\"cont_rel\"> <dl> <dt class=\"screen_out\">관련기사</dt> <dd> <a class=\"tit_rel f_link\" href=\"https://cp.news.search.daum.net/p/115208390\" onclick='smartLog(this, \"dc=NNS&amp;d=26rlY1C30CZp1wf5z7&amp;pg=1&amp;r=5&amp;p=5&amp;rc=10&amp;e1=165qxMocgZOF62gon_&amp;e3=0&amp;ext=dsid=26rlY1C30CZp1wf5z7&amp;rtt=parent&amp;rtid=26jzBCccbFGbT-2Fnn&amp;rtsc=\", event, {\"cpid\": {\"value\": \"165qxMocgZOF62gon_\"}});' target=\"_blank\"> [거리두기 조정안] 독서실·학원·스터디카페 방역... </a> <span class=\"cont_info\"> <span class=\"f_nb\">시사매거진</span> <span class=\"f_nb\">22시간전</span> </span> </dd> </dl> </div> <span id=\"newsSQC_t1_4\" style=\"display:none;\">10301^https://cp.news.search.daum.net/p/115246658^26jzBCccbFGbT-2Fnn^news^mediaArticle^%EB%B0%B1%EC%8B%A0%ED%8C%A8%EC%8A%A4^26jzBCccbFGbT-2Fnn</span> </div>, <div class=\"wrap_cont\"> <a class=\"tit_main fn_tit_u\" href=\"http://v.media.daum.net/v/20220120091301142?f=o\" onclick='smartLog(this, \"dc=NNS&amp;d=268X_2_RWPIvM_LO9B&amp;pg=1&amp;r=6&amp;p=4&amp;rc=10&amp;e1=16_3fzWbVD6wvHQw5m&amp;e3=0&amp;ext=dsid=268X_2_RWPIvM_LO9B\", event, {\"cpid\": {\"value\": \"16_3fzWbVD6wvHQw5m\"}});' target=\"_blank\">10만명 확진에도..영국, 마스크 벗고 <b>백신</b><b>패스</b> 없앤다</a> <p class=\"tit_sub f_nb\">의료계·교육계 우려 여전..\"감염자 다시 늘어날수도\"</p> <p class=\"desc\">보리스 존슨 영국 총리. 사진=EPA, 연합뉴스) 영국이 다시 마스크를 벗고 <b>백신</b><b>패스</b>를 없애는 등 오미크론 변이 출현 이전의 생활로 돌아간다. 19일(현지시간) CNBC, 가디언 등 외신에 따르면 보리스 존슨 영국 총리는 실내 마스크 착용, 재택 근무, 대형 행사장 <b>백신</b>...</p> <span class=\"cont_info\"> <span class=\"f_nb\">쿠키뉴스</span> <span class=\"f_nb\">1시간전</span> <a class=\"f_nb\" href=\"http://v.media.daum.net/v/20220120091301142\" onclick='smartLog(this, \"dc=NNS&amp;d=268X_2_RWPIvM_LO9B&amp;pg=1&amp;r=6&amp;p=3&amp;rc=10&amp;e1=16_3fzWbVD6wvHQw5m&amp;e3=0&amp;ext=dsid=268X_2_RWPIvM_LO9B\", event, {\"cpid\": {\"value\": \"16_3fzWbVD6wvHQw5m\"}});' target=\"_blank\">다음뉴스</a> </span> <div class=\"cont_rel\"> <dl> <dt class=\"screen_out\">관련기사</dt> <dd> <a class=\"tit_rel f_link\" href=\"http://v.media.daum.net/v/20220120100314487?f=o\" onclick='smartLog(this, \"dc=NNS&amp;d=26yB35q7RS4GebVzlX&amp;pg=1&amp;r=6&amp;p=5&amp;rc=10&amp;e1=16JfL24RCJKYboAM86&amp;e3=0&amp;ext=dsid=26yB35q7RS4GebVzlX&amp;rtt=parent&amp;rtid=268X_2_RWPIvM_LO9B&amp;rtsc=\", event, {\"cpid\": {\"value\": \"16JfL24RCJKYboAM86\"}});' target=\"_blank\"> 영국, 마스크 벗고 <b>백신</b> <b>패스</b> 없앤다 </a> <span class=\"cont_info\"> <span class=\"f_nb\">뉴시스</span> <span class=\"f_nb\">23분전</span> <a class=\"f_nb\" href=\"http://v.media.daum.net/v/20220120100314487\" onclick='smartLog(this, \"dc=NNS&amp;d=26yB35q7RS4GebVzlX&amp;pg=1&amp;r=6&amp;p=12&amp;rc=10&amp;e1=16JfL24RCJKYboAM86&amp;e3=0&amp;ext=dsid=26yB35q7RS4GebVzlX&amp;rtt=parent&amp;rtid=268X_2_RWPIvM_LO9B&amp;rtsc=\", event, {\"cpid\": {\"value\": \"16JfL24RCJKYboAM86\"}});' target=\"_blank\">다음뉴스</a> </span> </dd> <dd> <a class=\"tit_rel f_link\" href=\"http://v.media.daum.net/v/20220120074726588?f=o\" onclick='smartLog(this, \"dc=NNS&amp;d=26ciBBHeggF7CRyLhK&amp;pg=1&amp;r=6&amp;p=6&amp;rc=10&amp;e1=16bCHvc09LWhHNjmZ1&amp;e3=0&amp;ext=dsid=26ciBBHeggF7CRyLhK&amp;rtt=parent&amp;rtid=268X_2_RWPIvM_LO9B&amp;rtsc=\", event, {\"cpid\": {\"value\": \"16bCHvc09LWhHNjmZ1\"}});' target=\"_blank\"> 영국, 다시 마스크 벗고 <b>백신</b><b>패스</b> 없애기로 </a> <span class=\"cont_info\"> <span class=\"f_nb\">연합뉴스TV</span> <span class=\"f_nb\">2시간전</span> <a class=\"f_nb\" href=\"http://v.media.daum.net/v/20220120074726588\" onclick='smartLog(this, \"dc=NNS&amp;d=26ciBBHeggF7CRyLhK&amp;pg=1&amp;r=6&amp;p=12&amp;rc=10&amp;e1=16bCHvc09LWhHNjmZ1&amp;e3=0&amp;ext=dsid=26ciBBHeggF7CRyLhK&amp;rtt=parent&amp;rtid=268X_2_RWPIvM_LO9B&amp;rtsc=\", event, {\"cpid\": {\"value\": \"16bCHvc09LWhHNjmZ1\"}});' target=\"_blank\">다음뉴스</a> </span> </dd> <dd> <a class=\"tit_rel f_link\" href=\"http://v.media.daum.net/v/20220120042812593?f=o\" onclick='smartLog(this, \"dc=NNS&amp;d=2618pw6q--vZxAXzLy&amp;pg=1&amp;r=6&amp;p=7&amp;rc=10&amp;e1=16jhhOdk47nI-0Acff&amp;e3=0&amp;ext=dsid=2618pw6q--vZxAXzLy&amp;rtt=parent&amp;rtid=268X_2_RWPIvM_LO9B&amp;rtsc=\", event, {\"cpid\": {\"value\": \"16jhhOdk47nI-0Acff\"}});' target=\"_blank\"> 영국, 다시 마스크 벗고 <b>백신</b><b>패스</b>도 없앤다 </a> <span class=\"cont_info\"> <span class=\"f_nb\">YTN</span> <span class=\"f_nb\">5시간전</span> <a class=\"f_nb\" href=\"http://v.media.daum.net/v/20220120042812593\" onclick='smartLog(this, \"dc=NNS&amp;d=2618pw6q--vZxAXzLy&amp;pg=1&amp;r=6&amp;p=12&amp;rc=10&amp;e1=16jhhOdk47nI-0Acff&amp;e3=0&amp;ext=dsid=2618pw6q--vZxAXzLy&amp;rtt=parent&amp;rtid=268X_2_RWPIvM_LO9B&amp;rtsc=\", event, {\"cpid\": {\"value\": \"16jhhOdk47nI-0Acff\"}});' target=\"_blank\">다음뉴스</a> </span> </dd> </dl> <a class=\"link_cluster f_nb\" href=\"?w=news&amp;req=tab&amp;q=%EB%B0%B1%EC%8B%A0%ED%8C%A8%EC%8A%A4&amp;viewio=i&amp;repno=0&amp;n=10&amp;p=1&amp;related_page=1&amp;cluster_docid=268X_2_RWPIvM_LO9B&amp;DA=SBC\" onclick='smartLog(this, \"dc=NNS&amp;ext=dsid=268X_2_RWPIvM_LO9B&amp;d=268X_2_RWPIvM_LO9B&amp;pg=1&amp;r=6&amp;p=19&amp;rc=10&amp;e1=16_3fzWbVD6wvHQw5m\", event);'> 관련뉴스 <b>5</b>건 전체보기<span class=\"ico_rwd\"></span> </a> </div> <span id=\"newsSQC_t1_5\" style=\"display:none;\">10301^http://v.media.daum.net/v/20220120091301142?f=o^268X_2_RWPIvM_LO9B^news^mediaArticle^%EB%B0%B1%EC%8B%A0%ED%8C%A8%EC%8A%A4^268X_2_RWPIvM_LO9B</span> </div>, <div class=\"wrap_cont\"> <a class=\"tit_main fn_tit_u\" href=\"http://v.media.daum.net/v/20220120091508220?f=o\" onclick='smartLog(this, \"dc=NNS&amp;d=26ID8H3QYIJbwbGseg&amp;pg=1&amp;r=7&amp;p=4&amp;rc=10&amp;e1=16xPi3xTTvS9eQchSd&amp;e3=0&amp;ext=dsid=26ID8H3QYIJbwbGseg\", event, {\"cpid\": {\"value\": \"16xPi3xTTvS9eQchSd\"}});' target=\"_blank\">英, 한 달 만에 마스크-<b>백신</b><b>패스</b> 의무 시행 중단</a> <p class=\"desc\">유지했던 플랜A 상태로 내려간다. 방역 체제 변경에 따라 잉글랜드에서는 27일부터 대규모 행사장에 들어갈 때 <b>백신</b><b>패스</b>를 사용하지 않아도 된다. <b>백신</b><b>패스</b>는 원하는 곳에서 자발적으로 쓰일 예정이며 실내를 비롯한 공공장소의 마스크 착용 의무가 사라진다. 요양원...</p> <span class=\"cont_info\"> <span class=\"f_nb\">파이낸셜뉴스</span> <span class=\"f_nb\">1시간전</span> <a class=\"f_nb\" href=\"http://v.media.daum.net/v/20220120091508220\" onclick='smartLog(this, \"dc=NNS&amp;d=26ID8H3QYIJbwbGseg&amp;pg=1&amp;r=7&amp;p=3&amp;rc=10&amp;e1=16xPi3xTTvS9eQchSd&amp;e3=0&amp;ext=dsid=26ID8H3QYIJbwbGseg\", event, {\"cpid\": {\"value\": \"16xPi3xTTvS9eQchSd\"}});' target=\"_blank\">다음뉴스</a> </span> <span id=\"newsSQC_t1_6\" style=\"display:none;\">10301^http://v.media.daum.net/v/20220120091508220?f=o^26ID8H3QYIJbwbGseg^news^mediaArticle^%EB%B0%B1%EC%8B%A0%ED%8C%A8%EC%8A%A4^26ID8H3QYIJbwbGseg</span> </div>, <div class=\"wrap_cont\"> <a class=\"tit_main fn_tit_u\" href=\"http://v.media.daum.net/v/20220120075934787?f=o\" onclick='smartLog(this, \"dc=NNS&amp;d=269qO4UVJIr5tG1Jcv&amp;pg=1&amp;r=8&amp;p=4&amp;rc=10&amp;e1=16xn7P2dHMstSkZ4Jb&amp;e3=0&amp;ext=dsid=269qO4UVJIr5tG1Jcv\", event, {\"cpid\": {\"value\": \"16xn7P2dHMstSkZ4Jb\"}});' target=\"_blank\">영국 마스크 벗고 <b>백신</b><b>패스</b> 없앤다..\"오미크론 정점 지나\"</a> <p class=\"desc\">[한국경제TV 이영호 기자] 영국이 다시 마스크를 벗고 <b>백신</b><b>패스</b>를 없애는 등 오미크론 변이 유행 이전으로 돌아간다. 보리스 존슨 영국 총리는 19일(현지시간) 잉글랜드에서 다음 주에 실내 마스크 착용, 대형 행사장 <b>백신</b><b>패스</b> 사용 등을 담은 '플랜B'를 종료한다고...</p> <span class=\"cont_info\"> <span class=\"f_nb\">한국경제TV</span> <span class=\"f_nb\">2시간전</span> <a class=\"f_nb\" href=\"http://v.media.daum.net/v/20220120075934787\" onclick='smartLog(this, \"dc=NNS&amp;d=269qO4UVJIr5tG1Jcv&amp;pg=1&amp;r=8&amp;p=3&amp;rc=10&amp;e1=16xn7P2dHMstSkZ4Jb&amp;e3=0&amp;ext=dsid=269qO4UVJIr5tG1Jcv\", event, {\"cpid\": {\"value\": \"16xn7P2dHMstSkZ4Jb\"}});' target=\"_blank\">다음뉴스</a> </span> <div class=\"cont_rel\"> <dl> <dt class=\"screen_out\">관련기사</dt> <dd> <a class=\"tit_rel f_link\" href=\"http://v.media.daum.net/v/20220120064955471?f=o\" onclick='smartLog(this, \"dc=NNS&amp;d=26I_pFyVPzVIFR1UNC&amp;pg=1&amp;r=8&amp;p=5&amp;rc=10&amp;e1=16iegqg-unkCM79rj6&amp;e3=0&amp;ext=dsid=26I_pFyVPzVIFR1UNC&amp;rtt=parent&amp;rtid=269qO4UVJIr5tG1Jcv&amp;rtsc=\", event, {\"cpid\": {\"value\": \"16iegqg-unkCM79rj6\"}});' target=\"_blank\"> 英, 마스크 벗고 <b>백신</b><b>패스</b> 없앤다.. \"오미크론 정... </a> <span class=\"cont_info\"> <span class=\"f_nb\">조선비즈</span> <span class=\"f_nb\">3시간전</span> <a class=\"f_nb\" href=\"http://v.media.daum.net/v/20220120064955471\" onclick='smartLog(this, \"dc=NNS&amp;d=26I_pFyVPzVIFR1UNC&amp;pg=1&amp;r=8&amp;p=12&amp;rc=10&amp;e1=16iegqg-unkCM79rj6&amp;e3=0&amp;ext=dsid=26I_pFyVPzVIFR1UNC&amp;rtt=parent&amp;rtid=269qO4UVJIr5tG1Jcv&amp;rtsc=\", event, {\"cpid\": {\"value\": \"16iegqg-unkCM79rj6\"}});' target=\"_blank\">다음뉴스</a> </span> </dd> <dd> <a class=\"tit_rel f_link\" href=\"https://cp.news.search.daum.net/p/115243483\" onclick='smartLog(this, \"dc=NNS&amp;d=26NI9rwwO2B0fmkxe2&amp;pg=1&amp;r=8&amp;p=6&amp;rc=10&amp;e1=16TZiwfmHQ4TpmZwc4&amp;e3=0&amp;ext=dsid=26NI9rwwO2B0fmkxe2&amp;rtt=parent&amp;rtid=269qO4UVJIr5tG1Jcv&amp;rtsc=\", event, {\"cpid\": {\"value\": \"16TZiwfmHQ4TpmZwc4\"}});' target=\"_blank\"> 영국 다시 마스크 벗고 <b>백신</b><b>패스</b> 없앤다…\"오미크... </a> <span class=\"cont_info\"> <span class=\"f_nb\">매일신문</span> <span class=\"f_nb\">2시간전</span> </span> </dd> <dd> <a class=\"tit_rel f_link\" href=\"http://v.media.daum.net/v/20220119222239412?f=o\" onclick='smartLog(this, \"dc=NNS&amp;d=26g0DEsFyxjfKlPiYI&amp;pg=1&amp;r=8&amp;p=7&amp;rc=10&amp;e1=16hWxJmTql2y9rxiuO&amp;e3=0&amp;ext=dsid=26g0DEsFyxjfKlPiYI&amp;rtt=parent&amp;rtid=269qO4UVJIr5tG1Jcv&amp;rtsc=\", event, {\"cpid\": {\"value\": \"16hWxJmTql2y9rxiuO\"}});' target=\"_blank\"> 영국, 실내 마스크 착용·<b>백신</b><b>패스</b> 다음주 종료..\"... </a> <span class=\"cont_info\"> <span class=\"f_nb\">KBS</span> <span class=\"f_nb\">12시간전</span> <a class=\"f_nb\" href=\"http://v.media.daum.net/v/20220119222239412\" onclick='smartLog(this, \"dc=NNS&amp;d=26g0DEsFyxjfKlPiYI&amp;pg=1&amp;r=8&amp;p=12&amp;rc=10&amp;e1=16hWxJmTql2y9rxiuO&amp;e3=0&amp;ext=dsid=26g0DEsFyxjfKlPiYI&amp;rtt=parent&amp;rtid=269qO4UVJIr5tG1Jcv&amp;rtsc=\", event, {\"cpid\": {\"value\": \"16hWxJmTql2y9rxiuO\"}});' target=\"_blank\">다음뉴스</a> </span> </dd> </dl> </div> <span id=\"newsSQC_t1_7\" style=\"display:none;\">10301^http://v.media.daum.net/v/20220120075934787?f=o^269qO4UVJIr5tG1Jcv^news^mediaArticle^%EB%B0%B1%EC%8B%A0%ED%8C%A8%EC%8A%A4^269qO4UVJIr5tG1Jcv</span> </div>, <div class=\"wrap_cont\"> <a class=\"tit_main fn_tit_u\" href=\"http://v.media.daum.net/v/20220120094448470?f=o\" onclick='smartLog(this, \"dc=NNS&amp;d=26vzuh7GwZu1YlZoqz&amp;pg=1&amp;r=9&amp;p=4&amp;rc=10&amp;e1=16hWxJmTql2y9rxiuO&amp;e3=0&amp;ext=dsid=26vzuh7GwZu1YlZoqz\", event, {\"cpid\": {\"value\": \"16hWxJmTql2y9rxiuO\"}});' target=\"_blank\">영국, '실내 마스크 착용·<b>백신</b><b>패스</b>' 다음 주 종료</a> <p class=\"desc\">보리스 존슨 영국 총리는 잉글랜드에서 실내 마스크 착용과 재택근무 권고 그리고 대형 행사장 <b>백신</b><b>패스</b> 사용 등을 담은 방역조치를 다음 주에 종료한다고 발표했습니다. 존슨 총리는 과학자들이 오미크론 변이 유행 정점이 지났다고 본다며 이번 조치의 배경을 설명...</p> <span class=\"cont_info\"> <span class=\"f_nb\">KBS</span> <span class=\"f_nb\">42분전</span> <a class=\"f_nb\" href=\"http://v.media.daum.net/v/20220120094448470\" onclick='smartLog(this, \"dc=NNS&amp;d=26vzuh7GwZu1YlZoqz&amp;pg=1&amp;r=9&amp;p=3&amp;rc=10&amp;e1=16hWxJmTql2y9rxiuO&amp;e3=0&amp;ext=dsid=26vzuh7GwZu1YlZoqz\", event, {\"cpid\": {\"value\": \"16hWxJmTql2y9rxiuO\"}});' target=\"_blank\">다음뉴스</a> </span> <span id=\"newsSQC_t1_8\" style=\"display:none;\">10301^http://v.media.daum.net/v/20220120094448470?f=o^26vzuh7GwZu1YlZoqz^news^mediaArticle^%EB%B0%B1%EC%8B%A0%ED%8C%A8%EC%8A%A4^26vzuh7GwZu1YlZoqz</span> </div>, <div class=\"wrap_cont\"> <a class=\"tit_main fn_tit_u\" href=\"http://v.media.daum.net/v/20220120075400702?f=o\" onclick='smartLog(this, \"dc=NNS&amp;d=26Bnu4JohGxTJwUqrt&amp;pg=1&amp;r=10&amp;p=4&amp;rc=10&amp;e1=16cbDjQQ7Cml-neLY_&amp;e3=0&amp;ext=dsid=26Bnu4JohGxTJwUqrt\", event, {\"cpid\": {\"value\": \"16cbDjQQ7Cml-neLY_\"}});' target=\"_blank\">영국 다시 마스크 벗고 <b>백신</b><b>패스</b> 없앤다..자가격리도 곧 폐지</a> <p class=\"desc\">영국이 다시 마스크를 벗고 <b>백신</b><b>패스</b>를 없애는 등 오미크론 변이 유행 이전으로 돌아갑니다. 보리스 존슨 영국 총리는 19일(현지시간) 잉글랜드에서 다음 주에 실내 마스크 착용, 대형 행사장 <b>백신</b><b>패스</b> 사용 등을 담은 '플랜B'를 종료한다고 발표했습니다. 재택근무...</p> <span class=\"cont_info\"> <span class=\"f_nb\">SBS</span> <span class=\"f_nb\">2시간전</span> <a class=\"f_nb\" href=\"http://v.media.daum.net/v/20220120075400702\" onclick='smartLog(this, \"dc=NNS&amp;d=26Bnu4JohGxTJwUqrt&amp;pg=1&amp;r=10&amp;p=3&amp;rc=10&amp;e1=16cbDjQQ7Cml-neLY_&amp;e3=0&amp;ext=dsid=26Bnu4JohGxTJwUqrt\", event, {\"cpid\": {\"value\": \"16cbDjQQ7Cml-neLY_\"}});' target=\"_blank\">다음뉴스</a> </span> <div class=\"cont_rel\"> <dl> <dt class=\"screen_out\">관련기사</dt> <dd> <a class=\"tit_rel f_link\" href=\"http://v.media.daum.net/v/20220120041623571?f=o\" onclick='smartLog(this, \"dc=NNS&amp;d=26USYUYTZ1b2Ub_-r7&amp;pg=1&amp;r=10&amp;p=5&amp;rc=10&amp;e1=16X5Xh1MWS7Qt1sMrW&amp;e3=0&amp;ext=dsid=26USYUYTZ1b2Ub_-r7&amp;rtt=parent&amp;rtid=26Bnu4JohGxTJwUqrt&amp;rtsc=\", event, {\"cpid\": {\"value\": \"16X5Xh1MWS7Qt1sMrW\"}});' target=\"_blank\"> 영국 다시 마스크 벗고 <b>백신</b><b>패스</b> 없앤다..자가격리... </a> <span class=\"cont_info\"> <span class=\"f_nb\">연합뉴스</span> <span class=\"f_nb\">6시간전</span> <a class=\"f_nb\" href=\"http://v.media.daum.net/v/20220120041623571\" onclick='smartLog(this, \"dc=NNS&amp;d=26USYUYTZ1b2Ub_-r7&amp;pg=1&amp;r=10&amp;p=12&amp;rc=10&amp;e1=16X5Xh1MWS7Qt1sMrW&amp;e3=0&amp;ext=dsid=26USYUYTZ1b2Ub_-r7&amp;rtt=parent&amp;rtid=26Bnu4JohGxTJwUqrt&amp;rtsc=\", event, {\"cpid\": {\"value\": \"16X5Xh1MWS7Qt1sMrW\"}});' target=\"_blank\">다음뉴스</a> </span> </dd> <dd> <a class=\"tit_rel f_link\" href=\"http://v.media.daum.net/v/20220120081803327?f=o\" onclick='smartLog(this, \"dc=NNS&amp;d=26heT_awfWOrJfXMN1&amp;pg=1&amp;r=10&amp;p=6&amp;rc=10&amp;e1=16yZfDfR_rGcw5F-P0&amp;e3=0&amp;ext=dsid=26heT_awfWOrJfXMN1&amp;rtt=parent&amp;rtid=26Bnu4JohGxTJwUqrt&amp;rtsc=\", event, {\"cpid\": {\"value\": \"16yZfDfR_rGcw5F-P0\"}});' target=\"_blank\"> 영국, <b>백신</b><b>패스</b>·마스크 의무화 등 종료..자가격리... </a> <span class=\"cont_info\"> <span class=\"f_nb\">JTBC</span> <span class=\"f_nb\">2시간전</span> <a class=\"f_nb\" href=\"http://v.media.daum.net/v/20220120081803327\" onclick='smartLog(this, \"dc=NNS&amp;d=26heT_awfWOrJfXMN1&amp;pg=1&amp;r=10&amp;p=12&amp;rc=10&amp;e1=16yZfDfR_rGcw5F-P0&amp;e3=0&amp;ext=dsid=26heT_awfWOrJfXMN1&amp;rtt=parent&amp;rtid=26Bnu4JohGxTJwUqrt&amp;rtsc=\", event, {\"cpid\": {\"value\": \"16yZfDfR_rGcw5F-P0\"}});' target=\"_blank\">다음뉴스</a> </span> </dd> <dd> <a class=\"tit_rel f_link\" href=\"https://cp.news.search.daum.net/p/115243414\" onclick='smartLog(this, \"dc=NNS&amp;d=26TnCjHIrVjsGrZMqI&amp;pg=1&amp;r=10&amp;p=7&amp;rc=10&amp;e1=16RoHsyk-0Dju3pcvl&amp;e3=0&amp;ext=dsid=26TnCjHIrVjsGrZMqI&amp;rtt=parent&amp;rtid=26Bnu4JohGxTJwUqrt&amp;rtsc=\", event, {\"cpid\": {\"value\": \"16RoHsyk-0Dju3pcvl\"}});' target=\"_blank\"> 英, 마스크 벗고 <b>백신</b><b>패스</b> 없애고 오미크론 유행 ... </a> <span class=\"cont_info\"> <span class=\"f_nb\">강원일보</span> <span class=\"f_nb\">2시간전</span> </span> </dd> </dl> <a class=\"link_cluster f_nb\" href=\"?w=news&amp;req=tab&amp;q=%EB%B0%B1%EC%8B%A0%ED%8C%A8%EC%8A%A4&amp;viewio=i&amp;repno=0&amp;n=10&amp;p=1&amp;related_page=1&amp;cluster_docid=26Bnu4JohGxTJwUqrt&amp;DA=SBC\" onclick='smartLog(this, \"dc=NNS&amp;ext=dsid=26Bnu4JohGxTJwUqrt&amp;d=26Bnu4JohGxTJwUqrt&amp;pg=1&amp;r=10&amp;p=19&amp;rc=10&amp;e1=16cbDjQQ7Cml-neLY_\", event);'> 관련뉴스 <b>7</b>건 전체보기<span class=\"ico_rwd\"></span> </a> </div> <span id=\"newsSQC_t1_9\" style=\"display:none;\">10301^http://v.media.daum.net/v/20220120075400702?f=o^26Bnu4JohGxTJwUqrt^news^mediaArticle^%EB%B0%B1%EC%8B%A0%ED%8C%A8%EC%8A%A4^26Bnu4JohGxTJwUqrt</span> </div>]\n"
     ]
    }
   ],
   "source": [
    "import requests\n",
    "from bs4 import BeautifulSoup\n",
    "\n",
    "def keyword(key_1, page_1):\n",
    "    url = ('https://search.daum.net/search?nil_suggest=btn&w=news&DA=SBC&q={}')\n",
    "    url = url.format(key_1)\n",
    "\n",
    "    re = requests.get(url)\n",
    "\n",
    "    soup = BeautifulSoup(re.text, 'html.parser')\n",
    "\n",
    "    path = ('#newsColl > div.cont_divider > ul > li > div.wrap_cont ')\n",
    "\n",
    "    tags = soup.select(path)\n",
    "\n",
    "#     print(tags)\n",
    "\n",
    "    for i in range(page_1):\n",
    "        print(tags[i].select('a.tit_main')[0].text)\n",
    "        print(tags[i].select('a')[1]['href'])\n",
    "        print(tags[i].select('p.desc')[0].text)\n",
    "        print(tags[i].select('span.f_nb')[0].text)\n",
    "        print(tags[i].select('span.f_nb')[1].text)\n",
    "        print('-'*100)\n",
    "        \n",
    "key = input('키워드')\n",
    "page = int(input('페이지수'))\n",
    "\n",
    "keyword(keyword, page)"
   ]
  },
  {
   "cell_type": "code",
   "execution_count": 28,
   "id": "f5a09d9e",
   "metadata": {},
   "outputs": [],
   "source": [
    "html = \"\"\"\n",
    "<html>\n",
    "<head>\n",
    "    <title>The Dormouse's story</title>\n",
    "</head>\n",
    "<body>\n",
    "    <h1>this is h1 area</h1>\n",
    "    <h2>this is h2 area</h2>\n",
    "    <p class=\"title\">\n",
    "        <b>The Dormouse's story</b>\n",
    "    </p>\n",
    "    <p class=\"story\">\n",
    "        Once upon a time there were three little sisters\n",
    "        <a href=\"http://example.com/elsie\" class=\"sister\" id=\"link1\">Elsie</a>\n",
    "        <a href=\"http://example.com/lacie\" class=\"sister\" id=\"link2\">Lacie</a>\n",
    "        <a data-io=\"link3\" href=\"http://example.com/tillie\" class=\"brother\" id=\"link3\">Tillie</a>\n",
    "        <b> \n",
    "            test\n",
    "            <a href=\"http://example.com/test\" class=\"brother\" id=\"link4\">TEST</a>\n",
    "        </b>\n",
    "\n",
    "    </p>\n",
    "    <p class=\"story\">story...</p>\n",
    "</body>\n",
    "</html>\n",
    "\"\"\""
   ]
  },
  {
   "cell_type": "code",
   "execution_count": 29,
   "id": "44a77a8f",
   "metadata": {},
   "outputs": [],
   "source": [
    "# 퀴즈..\n",
    "from bs4 import BeautifulSoup\n",
    "soup = BeautifulSoup(html, 'html.parser')"
   ]
  },
  {
   "cell_type": "code",
   "execution_count": 30,
   "id": "80308472",
   "metadata": {},
   "outputs": [
    {
     "data": {
      "text/plain": [
       "\"The Dormouse's story\""
      ]
     },
     "execution_count": 30,
     "metadata": {},
     "output_type": "execute_result"
    }
   ],
   "source": [
    "# 'The Dormouse's story'를 출력하시오..\n",
    "soup.select('b')[0].text\n",
    "\n",
    "soup.select('p.title > b')[0].text"
   ]
  },
  {
   "cell_type": "code",
   "execution_count": 33,
   "id": "057d446c",
   "metadata": {},
   "outputs": [
    {
     "data": {
      "text/plain": [
       "'Elsie'"
      ]
     },
     "execution_count": 33,
     "metadata": {},
     "output_type": "execute_result"
    }
   ],
   "source": [
    "# 'Elsie'를 출력하시오.\n",
    "soup.select('a')[0].text\n",
    "\n",
    "soup.select('a#link1')[0].text"
   ]
  },
  {
   "cell_type": "code",
   "execution_count": 37,
   "id": "06c63ca6",
   "metadata": {},
   "outputs": [
    {
     "data": {
      "text/plain": [
       "'http://example.com/elsie'"
      ]
     },
     "execution_count": 37,
     "metadata": {},
     "output_type": "execute_result"
    }
   ],
   "source": [
    "# \"http://example.com/lacie\"를 출력하시오\n",
    "soup.select('a')[1]['href']\n",
    "\n",
    "soup.select('a#link1')[0]['href']\n",
    "soup.select('a#link1')[0].get('href')"
   ]
  },
  {
   "cell_type": "code",
   "execution_count": 43,
   "id": "9287ccec",
   "metadata": {},
   "outputs": [
    {
     "data": {
      "text/plain": [
       "'test'"
      ]
     },
     "execution_count": 43,
     "metadata": {},
     "output_type": "execute_result"
    }
   ],
   "source": [
    "# 'test'를 출력하시오\n",
    "soup.select('b')[1].text.split()[0]\n",
    "\n",
    "soup.select('p.story > b')[0].text.split('\\n')[1].strip()"
   ]
  },
  {
   "cell_type": "code",
   "execution_count": 44,
   "id": "77d54aed",
   "metadata": {},
   "outputs": [
    {
     "data": {
      "text/plain": [
       "'story...'"
      ]
     },
     "execution_count": 44,
     "metadata": {},
     "output_type": "execute_result"
    }
   ],
   "source": [
    "# 'story...'를 출력하시오\n",
    "soup.select('p')[2].text\n",
    "\n",
    "soup.select('p.story')[1].text"
   ]
  },
  {
   "cell_type": "code",
   "execution_count": null,
   "id": "a0d79106",
   "metadata": {},
   "outputs": [],
   "source": []
  },
  {
   "cell_type": "code",
   "execution_count": null,
   "id": "7b7172c4",
   "metadata": {},
   "outputs": [],
   "source": []
  },
  {
   "cell_type": "code",
   "execution_count": null,
   "id": "64a1637f",
   "metadata": {},
   "outputs": [],
   "source": []
  },
  {
   "cell_type": "code",
   "execution_count": null,
   "id": "9b4805a5",
   "metadata": {},
   "outputs": [],
   "source": []
  },
  {
   "cell_type": "code",
   "execution_count": null,
   "id": "9f475164",
   "metadata": {},
   "outputs": [],
   "source": []
  },
  {
   "cell_type": "code",
   "execution_count": null,
   "id": "20cfe61a",
   "metadata": {},
   "outputs": [],
   "source": []
  },
  {
   "cell_type": "code",
   "execution_count": null,
   "id": "f98dd2ba",
   "metadata": {},
   "outputs": [],
   "source": []
  },
  {
   "cell_type": "code",
   "execution_count": null,
   "id": "8deed6af",
   "metadata": {},
   "outputs": [],
   "source": []
  },
  {
   "cell_type": "code",
   "execution_count": null,
   "id": "6a9af6c5",
   "metadata": {},
   "outputs": [],
   "source": []
  },
  {
   "cell_type": "code",
   "execution_count": null,
   "id": "14d590a5",
   "metadata": {},
   "outputs": [],
   "source": []
  },
  {
   "cell_type": "code",
   "execution_count": null,
   "id": "4c2ade6b",
   "metadata": {},
   "outputs": [],
   "source": []
  },
  {
   "cell_type": "code",
   "execution_count": null,
   "id": "5778b21d",
   "metadata": {},
   "outputs": [],
   "source": []
  }
 ],
 "metadata": {
  "kernelspec": {
   "display_name": "Python 3 (ipykernel)",
   "language": "python",
   "name": "python3"
  },
  "language_info": {
   "codemirror_mode": {
    "name": "ipython",
    "version": 3
   },
   "file_extension": ".py",
   "mimetype": "text/x-python",
   "name": "python",
   "nbconvert_exporter": "python",
   "pygments_lexer": "ipython3",
   "version": "3.9.7"
  }
 },
 "nbformat": 4,
 "nbformat_minor": 5
}
