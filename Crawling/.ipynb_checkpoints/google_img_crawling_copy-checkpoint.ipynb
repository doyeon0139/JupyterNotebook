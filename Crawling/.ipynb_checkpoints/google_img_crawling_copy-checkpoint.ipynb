{
 "cells": [
  {
   "cell_type": "code",
   "execution_count": null,
   "id": "a1f7f5bd",
   "metadata": {},
   "outputs": [],
   "source": [
    "# 구글 홈페이지에서 검색어를 입력한 후 이미지 검색 결과를 크롤링하기..\n",
    "# element에서 특정 속성값을 추출하는 메소드 : get_attribute('href'), get_attribute('src')"
   ]
  },
  {
   "cell_type": "code",
   "execution_count": 1,
   "id": "bdf1b415",
   "metadata": {},
   "outputs": [],
   "source": [
    "from selenium import webdriver\n",
    "from selenium.webdriver.common.keys import Keys\n",
    "import urllib.request"
   ]
  },
  {
   "cell_type": "code",
   "execution_count": 2,
   "id": "5c1921e9",
   "metadata": {},
   "outputs": [],
   "source": [
    "url = 'http://www.google.com'"
   ]
  },
  {
   "cell_type": "code",
   "execution_count": 3,
   "id": "b34153d3",
   "metadata": {},
   "outputs": [],
   "source": [
    "driver = webdriver.Chrome()\n",
    "driver.get(url)"
   ]
  },
  {
   "cell_type": "code",
   "execution_count": 4,
   "id": "ffc01f10",
   "metadata": {},
   "outputs": [
    {
     "name": "stderr",
     "output_type": "stream",
     "text": [
      "C:\\Users\\bitcamp\\AppData\\Local\\Temp/ipykernel_7540/289207071.py:1: DeprecationWarning: find_element_by_* commands are deprecated. Please use find_element() instead\n",
      "  elem = driver.find_element_by_css_selector('input.gLFyf.gsfi')\n"
     ]
    }
   ],
   "source": [
    "elem = driver.find_element_by_css_selector('input.gLFyf.gsfi')\n",
    "elem.send_keys('빅데이터')"
   ]
  },
  {
   "cell_type": "code",
   "execution_count": 5,
   "id": "921ebf78",
   "metadata": {},
   "outputs": [],
   "source": [
    "elem.send_keys(Keys.RETURN)"
   ]
  },
  {
   "cell_type": "code",
   "execution_count": 6,
   "id": "0eb665b8",
   "metadata": {},
   "outputs": [
    {
     "name": "stderr",
     "output_type": "stream",
     "text": [
      "C:\\Users\\bitcamp\\AppData\\Local\\Temp/ipykernel_7540/3775787360.py:1: DeprecationWarning: find_element_by_* commands are deprecated. Please use find_element() instead\n",
      "  driver.find_element_by_xpath('//*[@id=\"hdtb-msb\"]/div[1]/div/div[2]/a').click()\n"
     ]
    }
   ],
   "source": [
    "driver.find_element_by_xpath('//*[@id=\"hdtb-msb\"]/div[1]/div/div[2]/a').click()"
   ]
  },
  {
   "cell_type": "code",
   "execution_count": 7,
   "id": "408f51c5",
   "metadata": {},
   "outputs": [],
   "source": [
    "import time"
   ]
  },
  {
   "cell_type": "code",
   "execution_count": 26,
   "id": "05faeff7",
   "metadata": {},
   "outputs": [
    {
     "name": "stderr",
     "output_type": "stream",
     "text": [
      "C:\\Users\\bitcamp\\AppData\\Local\\Temp/ipykernel_2800/2455245485.py:15: DeprecationWarning: find_element_by_* commands are deprecated. Please use find_element() instead\n",
      "  driver.find_element_by_css_selector(\".mye4qd\").click()\n"
     ]
    }
   ],
   "source": [
    "# 스크롤을 끝까지 내리는 코드\n",
    "\n",
    "SCROLL_PAUSE_TIME = 2\n",
    "\n",
    "last_height = driver.execute_script(\"return document.body.scrollHeight\")\n",
    "\n",
    "while True: \n",
    "    driver.execute_script('window.scrollTo(0, document.body.scrollHeight);')\n",
    "    time.sleep(SCROLL_PAUSE_TIME)\n",
    "    \n",
    "    new_height = driver.execute_script('return document.body.scrollHeight')\n",
    "    if new_height == last_height:\n",
    "        try:\n",
    "            time.sleep(SCROLL_PAUSE_TIME)\n",
    "            driver.find_element_by_css_selector(\".mye4qd\").click()\n",
    "        except:\n",
    "            break\n",
    "    last_height = new_height"
   ]
  },
  {
   "cell_type": "code",
   "execution_count": null,
   "id": "32b924da",
   "metadata": {},
   "outputs": [],
   "source": []
  },
  {
   "cell_type": "code",
   "execution_count": 8,
   "id": "36fc2dfe",
   "metadata": {},
   "outputs": [
    {
     "name": "stderr",
     "output_type": "stream",
     "text": [
      "C:\\Users\\bitcamp\\AppData\\Local\\Temp/ipykernel_7540/2395814580.py:1: DeprecationWarning: find_elements_by_* commands are deprecated. Please use find_elements() instead\n",
      "  images = driver.find_elements_by_css_selector('img.rg_i.Q4LuWd')\n"
     ]
    },
    {
     "data": {
      "text/plain": [
       "48"
      ]
     },
     "execution_count": 8,
     "metadata": {},
     "output_type": "execute_result"
    }
   ],
   "source": [
    "images = driver.find_elements_by_css_selector('img.rg_i.Q4LuWd')\n",
    "len(images)"
   ]
  },
  {
   "cell_type": "code",
   "execution_count": 9,
   "id": "a48f07f0",
   "metadata": {},
   "outputs": [],
   "source": [
    "import time"
   ]
  },
  {
   "cell_type": "code",
   "execution_count": null,
   "id": "dd3d240e",
   "metadata": {},
   "outputs": [],
   "source": []
  },
  {
   "cell_type": "code",
   "execution_count": 9,
   "id": "fe381eab",
   "metadata": {},
   "outputs": [
    {
     "name": "stderr",
     "output_type": "stream",
     "text": [
      "C:\\Users\\bitcamp\\AppData\\Local\\Temp/ipykernel_7540/2943926797.py:5: DeprecationWarning: find_element_by_* commands are deprecated. Please use find_element() instead\n",
      "  elem = driver.find_element_by_xpath('//*[@id=\"Sva75c\"]/div/div/div[3]/div[2]/c-wiz/div/div[1]/div[1]/div[2]/div/a/img')\n"
     ]
    },
    {
     "name": "stdout",
     "output_type": "stream",
     "text": [
      "0 https://www.thedailypost.kr/news/photo/201907/70286_61128_1623.jpg\n",
      "1 https://fpost.co.kr/board/data/editor/2109/5a7f94599dc81c5f7f9ea8b5eaf0184d_1632557064_2498.jpg\n",
      "2 https://t1.daumcdn.net/thumb/R720x0/?fname=http://t1.daumcdn.net/brunch/service/user/g7Y/image/QoUPiRwBMJoYAppVWNhMq4v8l-o\n",
      "3 http://res.heraldm.com/content/image/2019/01/10/20190110000313_0.jpg\n",
      "4 data:image/png;base64,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\n",
      "5 https://cdn.epnc.co.kr/news/photo/201907/91021_81259_3048.jpg\n"
     ]
    },
    {
     "name": "stdout",
     "output_type": "stream",
     "text": [
      "6 https://cdn.aitimes.com/news/photo/202108/140208_141439_440.jpg\n",
      "7 https://www.diabetes.or.kr/new_workshop/201403/image/ogoo/10.jpg\n",
      "8 https://t1.daumcdn.net/cfile/tistory/2328834E55A5A64434\n",
      "9 https://security.iscu.ac.kr/assets/images/sample/mov_680x382.jpg\n",
      "10 https://img.kr.news.samsung.com/kr/wp-content/uploads/2014/10/0164.jpg\n",
      "11 http://image.edaily.co.kr/images/photo/files/NP/S/2021/09/PS21091000111.jpg\n",
      "12 data:image/png;base64,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\n"
     ]
    },
    {
     "name": "stdout",
     "output_type": "stream",
     "text": [
      "13 http://www.medigatenews.com/file/news/162819\n",
      "14 https://www.industrynews.co.kr/news/photo/201805/23446_14138_568.png\n",
      "15 http://www.nextdaily.co.kr/news/photo/202109/100080_118518.jpg\n",
      "16 https://www.boannews.com/media/upFiles2/2020/12/183027752_6853.JPG\n",
      "17 https://t1.daumcdn.net/cfile/tistory/9973F2405EA7C43F09\n",
      "18 http://cdn.news.unn.net/news/photo/202006/230842_115775_2737.jpg\n",
      "19 http://image.kmib.co.kr/online_image/2017/1208/201712080505_11150923861421_1.jpg\n",
      "20 https://news.hmgjournal.com/images_n/contents/cons/2020/200625_bigdata_01.jpg\n",
      "21 https://file.mk.co.kr/meet/neds/2016/05/image_readtop_2016_361838_14636851812476820.jpg\n",
      "22 http://image.ajunews.com//content/image/2021/04/21/20210421135950124996.jpg\n",
      "23 https://kbig.kr/kbig/img/imgbig_outline_01.png\n",
      "24 https://www.hdec.kr/FileContents/EditorImg/20210607/GettyImages-1277730971%20(2)%20%EB%B3%B5%EC%82%AC_770.jpg\n",
      "25 https://deepvision.lpoint.com/WebContent/images/about/img_lpoint_bigdataM.png\n",
      "26 https://encrypted-tbn0.gstatic.com/images?q=tbn:ANd9GcRIuTwzZeN7atcz4YPxf4DPVlUlesSriu142Q&usqp=CAU\n",
      "27 https://www.venturesquare.net/wp-content/uploads/2015/07/13.png\n",
      "28 https://cdn.smedaily.co.kr/news/photo/202107/208016_146169_1011.jpg\n",
      "29 https://www.hanbit.co.kr/data/books/B5574348931_l.jpg\n",
      "30 https://www.bigdata-forest.kr/images/main/img-main-02.png\n",
      "31 https://t1.daumcdn.net/cfile/tistory/99DB16345E98177A24\n",
      "32 https://blog.altair.co.kr/wp-content/uploads/2021/06/bigdata_5v.png\n",
      "33 https://t1.daumcdn.net/cfile/tistory/253D134552F088F305\n",
      "34 http://news.samsungdisplay.com/wp-content/uploads/2020/04/shutterstock_626375033.jpg\n",
      "35 https://t1.daumcdn.net/cfile/tistory/99365A415A4CAEEC32\n",
      "36 http://media.fastcampus.co.kr/wp-content/uploads/2019/09/ITProPortal2.jpg\n",
      "37 https://img.etnews.com/photonews/2104/1403058_20210414103059_503_0001.jpg\n",
      "38 https://www.cisp.or.kr/wp-content/uploads/2020/02/%EB%B9%85%EB%8D%B0%EC%9D%B4%ED%84%B0-%EB%B6%84%EC%84%9D-%EB%AA%A8%EB%8D%B8.jpg\n",
      "39 http://www.fajournal.com/news/photo/202005/38177_33881_2044.jpg\n",
      "40 https://press.knou.ac.kr/com/file/getImage.do?fileName=0000000000000001022800001.PNG&filePath=%2Fpublic%2Fcmdtimages\n",
      "41 https://blog.altair.co.kr/wp-content/uploads/2021/06/large-895567_1920.jpg\n",
      "42 https://www.cctvnews.co.kr/news/photo/202010/211002_211633_4512.jpg\n",
      "43 https://bigdata.seoul.go.kr/upload/cntst/20200915/1600136305368GGR54N9IEE73495RBVH1U4BN3.jpg\n",
      "44 http://cdn.lecturernews.com/news/photo/202112/mn_82985_20211208194915_1.jpg\n",
      "45 https://t1.daumcdn.net/cfile/tistory/99382B435FA49E4D15\n",
      "46 https://kbig.kr/kbig/img/img_user01.png\n",
      "47 https://platum.kr/wp-content/uploads/2018/02/2-3.jpg\n"
     ]
    }
   ],
   "source": [
    "for i, img in enumerate(images):\n",
    "    try:\n",
    "        img.click() # 큰 이미지로 보기(url(src)문제 때문에)\n",
    "        time.sleep(2) # 이미지가 눌리는 시간이 필요함\n",
    "        elem = driver.find_element_by_xpath('//*[@id=\"Sva75c\"]/div/div/div[3]/div[2]/c-wiz/div/div[1]/div[1]/div[2]/div/a/img')\n",
    "        imgUrl =elem.get_attribute('src') # 패스에서 src부분만 빼서 imgUrl에 넣음\n",
    "        print(i, imgUrl) # 번호와 url(src)가 프린트 되고\n",
    "        urllib.request.urlretrieve(imgUrl, '빅데이터'+str(i) + '.jpg') # 다운로드모듈(url. \"제목\")\n",
    "    except:\n",
    "        pass"
   ]
  },
  {
   "cell_type": "code",
   "execution_count": null,
   "id": "398c0b14",
   "metadata": {},
   "outputs": [],
   "source": []
  },
  {
   "cell_type": "code",
   "execution_count": null,
   "id": "c84e6f37",
   "metadata": {},
   "outputs": [],
   "source": []
  },
  {
   "cell_type": "code",
   "execution_count": null,
   "id": "03fbeb11",
   "metadata": {},
   "outputs": [],
   "source": []
  },
  {
   "cell_type": "code",
   "execution_count": null,
   "id": "62b68b6a",
   "metadata": {},
   "outputs": [],
   "source": []
  },
  {
   "cell_type": "code",
   "execution_count": null,
   "id": "fd19d7c6",
   "metadata": {},
   "outputs": [],
   "source": []
  },
  {
   "cell_type": "code",
   "execution_count": null,
   "id": "1dc4c48d",
   "metadata": {},
   "outputs": [],
   "source": []
  }
 ],
 "metadata": {
  "kernelspec": {
   "display_name": "Python 3 (ipykernel)",
   "language": "python",
   "name": "python3"
  },
  "language_info": {
   "codemirror_mode": {
    "name": "ipython",
    "version": 3
   },
   "file_extension": ".py",
   "mimetype": "text/x-python",
   "name": "python",
   "nbconvert_exporter": "python",
   "pygments_lexer": "ipython3",
   "version": "3.9.7"
  }
 },
 "nbformat": 4,
 "nbformat_minor": 5
}
