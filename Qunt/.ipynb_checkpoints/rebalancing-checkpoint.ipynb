{
 "cells": [
  {
   "cell_type": "code",
   "execution_count": 1,
   "id": "8c7974c3",
   "metadata": {},
   "outputs": [],
   "source": [
    "import pandas as pd\n",
    "import numpy as np\n",
    "import matplotlib.pyplot as plt\n",
    "import seaborn as sns"
   ]
  },
  {
   "cell_type": "code",
   "execution_count": 2,
   "id": "40d50de6",
   "metadata": {},
   "outputs": [],
   "source": [
    "import FinanceDataReader as fdr"
   ]
  },
  {
   "cell_type": "code",
   "execution_count": null,
   "id": "a4e575a7",
   "metadata": {},
   "outputs": [],
   "source": [
    "# 삼성전자, 현대자동차, LG전자, 두산밥캣, LG 디스플레이\n",
    "# 005930, 005380, 066570, 241560, 034220"
   ]
  },
  {
   "cell_type": "code",
   "execution_count": 72,
   "id": "5e6fabdd",
   "metadata": {},
   "outputs": [],
   "source": [
    "df = fdr.DataReader('005930','2015-01-01','2015-12-31')"
   ]
  },
  {
   "cell_type": "code",
   "execution_count": 73,
   "id": "7a2fe62b",
   "metadata": {},
   "outputs": [
    {
     "data": {
      "text/html": [
       "<div>\n",
       "<style scoped>\n",
       "    .dataframe tbody tr th:only-of-type {\n",
       "        vertical-align: middle;\n",
       "    }\n",
       "\n",
       "    .dataframe tbody tr th {\n",
       "        vertical-align: top;\n",
       "    }\n",
       "\n",
       "    .dataframe thead th {\n",
       "        text-align: right;\n",
       "    }\n",
       "</style>\n",
       "<table border=\"1\" class=\"dataframe\">\n",
       "  <thead>\n",
       "    <tr style=\"text-align: right;\">\n",
       "      <th></th>\n",
       "      <th>Open</th>\n",
       "      <th>High</th>\n",
       "      <th>Low</th>\n",
       "      <th>Close</th>\n",
       "      <th>Volume</th>\n",
       "      <th>Change</th>\n",
       "    </tr>\n",
       "    <tr>\n",
       "      <th>Date</th>\n",
       "      <th></th>\n",
       "      <th></th>\n",
       "      <th></th>\n",
       "      <th></th>\n",
       "      <th></th>\n",
       "      <th></th>\n",
       "    </tr>\n",
       "  </thead>\n",
       "  <tbody>\n",
       "    <tr>\n",
       "      <th>2015-01-02</th>\n",
       "      <td>26799</td>\n",
       "      <td>26799</td>\n",
       "      <td>26540</td>\n",
       "      <td>26600</td>\n",
       "      <td>175499</td>\n",
       "      <td>0.002261</td>\n",
       "    </tr>\n",
       "    <tr>\n",
       "      <th>2015-01-05</th>\n",
       "      <td>26720</td>\n",
       "      <td>26720</td>\n",
       "      <td>26260</td>\n",
       "      <td>26660</td>\n",
       "      <td>202790</td>\n",
       "      <td>0.002256</td>\n",
       "    </tr>\n",
       "    <tr>\n",
       "      <th>2015-01-06</th>\n",
       "      <td>26300</td>\n",
       "      <td>26340</td>\n",
       "      <td>25760</td>\n",
       "      <td>25900</td>\n",
       "      <td>304710</td>\n",
       "      <td>-0.028507</td>\n",
       "    </tr>\n",
       "    <tr>\n",
       "      <th>2015-01-07</th>\n",
       "      <td>25880</td>\n",
       "      <td>26220</td>\n",
       "      <td>25640</td>\n",
       "      <td>26140</td>\n",
       "      <td>286455</td>\n",
       "      <td>0.009266</td>\n",
       "    </tr>\n",
       "    <tr>\n",
       "      <th>2015-01-08</th>\n",
       "      <td>26780</td>\n",
       "      <td>26780</td>\n",
       "      <td>26199</td>\n",
       "      <td>26280</td>\n",
       "      <td>289552</td>\n",
       "      <td>0.005356</td>\n",
       "    </tr>\n",
       "    <tr>\n",
       "      <th>...</th>\n",
       "      <td>...</td>\n",
       "      <td>...</td>\n",
       "      <td>...</td>\n",
       "      <td>...</td>\n",
       "      <td>...</td>\n",
       "      <td>...</td>\n",
       "    </tr>\n",
       "    <tr>\n",
       "      <th>2015-12-23</th>\n",
       "      <td>25840</td>\n",
       "      <td>25980</td>\n",
       "      <td>25640</td>\n",
       "      <td>25900</td>\n",
       "      <td>207148</td>\n",
       "      <td>0.002322</td>\n",
       "    </tr>\n",
       "    <tr>\n",
       "      <th>2015-12-24</th>\n",
       "      <td>25900</td>\n",
       "      <td>26000</td>\n",
       "      <td>25700</td>\n",
       "      <td>25700</td>\n",
       "      <td>156151</td>\n",
       "      <td>-0.007722</td>\n",
       "    </tr>\n",
       "    <tr>\n",
       "      <th>2015-12-28</th>\n",
       "      <td>25700</td>\n",
       "      <td>25780</td>\n",
       "      <td>25320</td>\n",
       "      <td>25320</td>\n",
       "      <td>227230</td>\n",
       "      <td>-0.014786</td>\n",
       "    </tr>\n",
       "    <tr>\n",
       "      <th>2015-12-29</th>\n",
       "      <td>25300</td>\n",
       "      <td>25320</td>\n",
       "      <td>24820</td>\n",
       "      <td>25080</td>\n",
       "      <td>232944</td>\n",
       "      <td>-0.009479</td>\n",
       "    </tr>\n",
       "    <tr>\n",
       "      <th>2015-12-30</th>\n",
       "      <td>25200</td>\n",
       "      <td>25440</td>\n",
       "      <td>25080</td>\n",
       "      <td>25200</td>\n",
       "      <td>203958</td>\n",
       "      <td>0.004785</td>\n",
       "    </tr>\n",
       "  </tbody>\n",
       "</table>\n",
       "<p>248 rows × 6 columns</p>\n",
       "</div>"
      ],
      "text/plain": [
       "             Open   High    Low  Close  Volume    Change\n",
       "Date                                                    \n",
       "2015-01-02  26799  26799  26540  26600  175499  0.002261\n",
       "2015-01-05  26720  26720  26260  26660  202790  0.002256\n",
       "2015-01-06  26300  26340  25760  25900  304710 -0.028507\n",
       "2015-01-07  25880  26220  25640  26140  286455  0.009266\n",
       "2015-01-08  26780  26780  26199  26280  289552  0.005356\n",
       "...           ...    ...    ...    ...     ...       ...\n",
       "2015-12-23  25840  25980  25640  25900  207148  0.002322\n",
       "2015-12-24  25900  26000  25700  25700  156151 -0.007722\n",
       "2015-12-28  25700  25780  25320  25320  227230 -0.014786\n",
       "2015-12-29  25300  25320  24820  25080  232944 -0.009479\n",
       "2015-12-30  25200  25440  25080  25200  203958  0.004785\n",
       "\n",
       "[248 rows x 6 columns]"
      ]
     },
     "execution_count": 73,
     "metadata": {},
     "output_type": "execute_result"
    }
   ],
   "source": [
    "df"
   ]
  },
  {
   "cell_type": "code",
   "execution_count": 74,
   "id": "cf233685",
   "metadata": {},
   "outputs": [],
   "source": [
    "sell_price = df.iloc[0,0]"
   ]
  },
  {
   "cell_type": "code",
   "execution_count": 75,
   "id": "1eefa6d3",
   "metadata": {},
   "outputs": [
    {
     "data": {
      "text/plain": [
       "37314"
      ]
     },
     "execution_count": 75,
     "metadata": {},
     "output_type": "execute_result"
    }
   ],
   "source": [
    "start = 1000000000\n",
    "sell = int(start/sell_price)\n",
    "sell"
   ]
  },
  {
   "cell_type": "code",
   "execution_count": 76,
   "id": "2dc8e164",
   "metadata": {},
   "outputs": [],
   "source": [
    "buy_price = df.iloc[-1,0]"
   ]
  },
  {
   "cell_type": "code",
   "execution_count": 77,
   "id": "348c6997",
   "metadata": {},
   "outputs": [
    {
     "data": {
      "text/plain": [
       "940312800"
      ]
     },
     "execution_count": 77,
     "metadata": {},
     "output_type": "execute_result"
    }
   ],
   "source": [
    "buy = buy_price * sell\n",
    "buy"
   ]
  },
  {
   "cell_type": "code",
   "execution_count": 69,
   "id": "82a833b5",
   "metadata": {},
   "outputs": [],
   "source": [
    "diff = int(buy / start *100)"
   ]
  },
  {
   "cell_type": "code",
   "execution_count": 70,
   "id": "7c08179c",
   "metadata": {},
   "outputs": [
    {
     "data": {
      "text/plain": [
       "94"
      ]
     },
     "execution_count": 70,
     "metadata": {},
     "output_type": "execute_result"
    }
   ],
   "source": [
    "diff"
   ]
  },
  {
   "cell_type": "code",
   "execution_count": 123,
   "id": "e1b61efe",
   "metadata": {},
   "outputs": [
    {
     "name": "stdout",
     "output_type": "stream",
     "text": [
      "-12\n",
      "875286165\n",
      "121\n",
      "1939304165\n",
      "130\n",
      "4470571027\n",
      "74\n",
      "7785040977\n",
      "108\n",
      "16211402977\n",
      "137\n",
      "38553511977\n",
      "129\n",
      "88541818577\n"
     ]
    },
    {
     "data": {
      "image/png": "[encoded data removed]",
      "text/plain": [
       "<Figure size 432x288 with 1 Axes>"
      ]
     },
     "metadata": {
      "needs_background": "light"
     },
     "output_type": "display_data"
    }
   ],
   "source": [
    "start_total = 1000000000\n",
    "stock_list = ['005930', '005380', '066570', '000150', '034220']\n",
    "y = 2015\n",
    "diff = 0\n",
    "sell = 0\n",
    "sell_total = 0\n",
    "\n",
    "for year in range(2015, 2022):\n",
    "\n",
    "    for stock in stock_list[:]:\n",
    "        stock_df = fdr.DataReader(stock, str(year)+'-01-01', str(year)+'-12-31')\n",
    "\n",
    "        buy_price = stock_df.iloc[0,3]\n",
    "        start = start_total/5\n",
    "        buy_num = int(start/buy_price)  # 주식수\n",
    "\n",
    "\n",
    "        sell_price = stock_df.iloc[-1,3]\n",
    "        sell = sell_price * buy_num\n",
    "        sell_total+=sell\n",
    "\n",
    "#         print(buy_price)\n",
    "#         print(sell_price)\n",
    "#         print(buy_num)\n",
    "#         print(sell)\n",
    "#         print('='*100)\n",
    "        \n",
    "\n",
    "\n",
    "    total = sell_total - start_total\n",
    "    diff = int(total / start_total *100)  # 수익률\n",
    "\n",
    "    print(diff)\n",
    "    print(sell_total)\n",
    "    stock_df['Open'].plot()\n",
    "\n",
    "    y += 1\n",
    "    start_total = sell_total"
   ]
  },
  {
   "cell_type": "code",
   "execution_count": 117,
   "id": "423f2475",
   "metadata": {},
   "outputs": [
    {
     "data": {
      "text/html": [
       "<div>\n",
       "<style scoped>\n",
       "    .dataframe tbody tr th:only-of-type {\n",
       "        vertical-align: middle;\n",
       "    }\n",
       "\n",
       "    .dataframe tbody tr th {\n",
       "        vertical-align: top;\n",
       "    }\n",
       "\n",
       "    .dataframe thead th {\n",
       "        text-align: right;\n",
       "    }\n",
       "</style>\n",
       "<table border=\"1\" class=\"dataframe\">\n",
       "  <thead>\n",
       "    <tr style=\"text-align: right;\">\n",
       "      <th></th>\n",
       "      <th>Open</th>\n",
       "      <th>High</th>\n",
       "      <th>Low</th>\n",
       "      <th>Close</th>\n",
       "      <th>Volume</th>\n",
       "      <th>Change</th>\n",
       "    </tr>\n",
       "    <tr>\n",
       "      <th>Date</th>\n",
       "      <th></th>\n",
       "      <th></th>\n",
       "      <th></th>\n",
       "      <th></th>\n",
       "      <th></th>\n",
       "      <th></th>\n",
       "    </tr>\n",
       "  </thead>\n",
       "  <tbody>\n",
       "    <tr>\n",
       "      <th>2015-01-02</th>\n",
       "      <td>81530</td>\n",
       "      <td>81924</td>\n",
       "      <td>79167</td>\n",
       "      <td>79955</td>\n",
       "      <td>56857</td>\n",
       "      <td>-0.019330</td>\n",
       "    </tr>\n",
       "    <tr>\n",
       "      <th>2015-01-05</th>\n",
       "      <td>79561</td>\n",
       "      <td>81136</td>\n",
       "      <td>79167</td>\n",
       "      <td>80349</td>\n",
       "      <td>69258</td>\n",
       "      <td>0.004928</td>\n",
       "    </tr>\n",
       "    <tr>\n",
       "      <th>2015-01-06</th>\n",
       "      <td>80742</td>\n",
       "      <td>81924</td>\n",
       "      <td>78222</td>\n",
       "      <td>78774</td>\n",
       "      <td>142272</td>\n",
       "      <td>-0.019602</td>\n",
       "    </tr>\n",
       "    <tr>\n",
       "      <th>2015-01-07</th>\n",
       "      <td>79167</td>\n",
       "      <td>80742</td>\n",
       "      <td>78773</td>\n",
       "      <td>79955</td>\n",
       "      <td>59541</td>\n",
       "      <td>0.014992</td>\n",
       "    </tr>\n",
       "    <tr>\n",
       "      <th>2015-01-08</th>\n",
       "      <td>79955</td>\n",
       "      <td>80742</td>\n",
       "      <td>79167</td>\n",
       "      <td>79955</td>\n",
       "      <td>31795</td>\n",
       "      <td>0.000000</td>\n",
       "    </tr>\n",
       "    <tr>\n",
       "      <th>...</th>\n",
       "      <td>...</td>\n",
       "      <td>...</td>\n",
       "      <td>...</td>\n",
       "      <td>...</td>\n",
       "      <td>...</td>\n",
       "      <td>...</td>\n",
       "    </tr>\n",
       "    <tr>\n",
       "      <th>2015-12-23</th>\n",
       "      <td>75465</td>\n",
       "      <td>76095</td>\n",
       "      <td>74677</td>\n",
       "      <td>74914</td>\n",
       "      <td>99010</td>\n",
       "      <td>-0.007301</td>\n",
       "    </tr>\n",
       "    <tr>\n",
       "      <th>2015-12-24</th>\n",
       "      <td>76489</td>\n",
       "      <td>76804</td>\n",
       "      <td>75228</td>\n",
       "      <td>75386</td>\n",
       "      <td>74787</td>\n",
       "      <td>0.006301</td>\n",
       "    </tr>\n",
       "    <tr>\n",
       "      <th>2015-12-28</th>\n",
       "      <td>75780</td>\n",
       "      <td>76016</td>\n",
       "      <td>73574</td>\n",
       "      <td>73732</td>\n",
       "      <td>122963</td>\n",
       "      <td>-0.021940</td>\n",
       "    </tr>\n",
       "    <tr>\n",
       "      <th>2015-12-29</th>\n",
       "      <td>71762</td>\n",
       "      <td>72629</td>\n",
       "      <td>70896</td>\n",
       "      <td>71605</td>\n",
       "      <td>141471</td>\n",
       "      <td>-0.028848</td>\n",
       "    </tr>\n",
       "    <tr>\n",
       "      <th>2015-12-30</th>\n",
       "      <td>71920</td>\n",
       "      <td>72314</td>\n",
       "      <td>69399</td>\n",
       "      <td>69715</td>\n",
       "      <td>178788</td>\n",
       "      <td>-0.026395</td>\n",
       "    </tr>\n",
       "  </tbody>\n",
       "</table>\n",
       "<p>248 rows × 6 columns</p>\n",
       "</div>"
      ],
      "text/plain": [
       "             Open   High    Low  Close  Volume    Change\n",
       "Date                                                    \n",
       "2015-01-02  81530  81924  79167  79955   56857 -0.019330\n",
       "2015-01-05  79561  81136  79167  80349   69258  0.004928\n",
       "2015-01-06  80742  81924  78222  78774  142272 -0.019602\n",
       "2015-01-07  79167  80742  78773  79955   59541  0.014992\n",
       "2015-01-08  79955  80742  79167  79955   31795  0.000000\n",
       "...           ...    ...    ...    ...     ...       ...\n",
       "2015-12-23  75465  76095  74677  74914   99010 -0.007301\n",
       "2015-12-24  76489  76804  75228  75386   74787  0.006301\n",
       "2015-12-28  75780  76016  73574  73732  122963 -0.021940\n",
       "2015-12-29  71762  72629  70896  71605  141471 -0.028848\n",
       "2015-12-30  71920  72314  69399  69715  178788 -0.026395\n",
       "\n",
       "[248 rows x 6 columns]"
      ]
     },
     "execution_count": 117,
     "metadata": {},
     "output_type": "execute_result"
    }
   ],
   "source": [
    "df = fdr.DataReader('000150', '2015-01-01', '2015-12-31')\n",
    "df"
   ]
  },
  {
   "cell_type": "code",
   "execution_count": 134,
   "id": "c7e9604b",
   "metadata": {},
   "outputs": [
    {
     "name": "stdout",
     "output_type": "stream",
     "text": [
      "2015년 수익률 : -12%\n",
      "수익금액 : 87448950원\n",
      "2016년 수익률 : 21%\n",
      "수익금액 : 106284768원\n",
      "2017년 수익률 : 30%\n",
      "수익금액 : 138625682원\n",
      "2018년 수익률 : -26%\n",
      "수익금액 : 102751930원\n",
      "2019년 수익률 : 8%\n",
      "수익금액 : 111344850원\n",
      "2020년 수익률 : 37%\n",
      "수익금액 : 153629400원\n",
      "2021년 수익률 : 29%\n",
      "수익금액 : 199128800원\n",
      "2022년 수익률 : -20%\n",
      "수익금액 : 158018500원\n"
     ]
    },
    {
     "data": {
      "image/png": "[encoded data removed]",
      "text/plain": [
       "<Figure size 432x288 with 1 Axes>"
      ]
     },
     "metadata": {
      "needs_background": "light"
     },
     "output_type": "display_data"
    }
   ],
   "source": [
    "start_total = 100_000_000\n",
    "stock_list = ['005930', '005380', '066570', '000150', '034220']\n",
    "y = 2015\n",
    "diff = 0\n",
    "sell = 0\n",
    "\n",
    "\n",
    "for year in range(2015, 2023):\n",
    "    sell_total = 0\n",
    "    rest_total = 0\n",
    "\n",
    "    for stock in stock_list[:]:\n",
    "        stock_df = fdr.DataReader(stock, str(year)+'-01-01', str(year)+'-12-31')\n",
    "\n",
    "        buy_price = stock_df.iloc[0,3]\n",
    "        start = start_total/5\n",
    "        \n",
    "        buy_num = int(start/buy_price)  # 주식수\n",
    "        rest = start - (buy_num * buy_price)\n",
    "\n",
    "\n",
    "        sell_price = stock_df.iloc[-1,3]\n",
    "        sell = sell_price * buy_num\n",
    "        sell_total+=sell\n",
    "        rest_total+=rest\n",
    "\n",
    "    \n",
    "    total = sell_total - start_total\n",
    "    diff = int(total / start_total *100)  # 수익률\n",
    "\n",
    "    print(f'{year}년 수익률 : {diff}%')\n",
    "    print(f'수익금액 : {int(sell_total)}원')\n",
    "    stock_df['Close'].plot()\n",
    "\n",
    "    y += 1\n",
    "    start_total = sell_total + rest_total"
   ]
  },
  {
   "cell_type": "code",
   "execution_count": null,
   "id": "418da0fb",
   "metadata": {},
   "outputs": [],
   "source": []
  },
  {
   "cell_type": "code",
   "execution_count": null,
   "id": "01d96611",
   "metadata": {},
   "outputs": [],
   "source": []
  },
  {
   "cell_type": "code",
   "execution_count": null,
   "id": "09b59578",
   "metadata": {},
   "outputs": [],
   "source": []
  },
  {
   "cell_type": "code",
   "execution_count": null,
   "id": "bfd446a4",
   "metadata": {},
   "outputs": [],
   "source": []
  },
  {
   "cell_type": "code",
   "execution_count": null,
   "id": "63ef0912",
   "metadata": {},
   "outputs": [],
   "source": []
  },
  {
   "cell_type": "code",
   "execution_count": null,
   "id": "2ea0eb6d",
   "metadata": {},
   "outputs": [],
   "source": []
  },
  {
   "cell_type": "code",
   "execution_count": null,
   "id": "7acfd911",
   "metadata": {},
   "outputs": [],
   "source": []
  },
  {
   "cell_type": "code",
   "execution_count": null,
   "id": "5504f9d5",
   "metadata": {},
   "outputs": [],
   "source": []
  },
  {
   "cell_type": "code",
   "execution_count": null,
   "id": "7387b08d",
   "metadata": {},
   "outputs": [],
   "source": []
  }
 ],
 "metadata": {
  "kernelspec": {
   "display_name": "Python 3 (ipykernel)",
   "language": "python",
   "name": "python3"
  },
  "language_info": {
   "codemirror_mode": {
    "name": "ipython",
    "version": 3
   },
   "file_extension": ".py",
   "mimetype": "text/x-python",
   "name": "python",
   "nbconvert_exporter": "python",
   "pygments_lexer": "ipython3",
   "version": "3.9.7"
  },
  "varInspector": {
   "cols": {
    "lenName": 16,
    "lenType": 16,
    "lenVar": 40
   },
   "kernels_config": {
    "python": {
     "delete_cmd_postfix": "",
     "delete_cmd_prefix": "del ",
     "library": "var_list.py",
     "varRefreshCmd": "print(var_dic_list())"
    },
    "r": {
     "delete_cmd_postfix": ") ",
     "delete_cmd_prefix": "rm(",
     "library": "var_list.r",
     "varRefreshCmd": "cat(var_dic_list()) "
    }
   },
   "types_to_exclude": [
    "module",
    "function",
    "builtin_function_or_method",
    "instance",
    "_Feature"
   ],
   "window_display": false
  }
 },
 "nbformat": 4,
 "nbformat_minor": 5
}
