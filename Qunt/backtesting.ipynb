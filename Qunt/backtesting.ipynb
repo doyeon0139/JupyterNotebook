{
 "cells": [
  {
   "cell_type": "code",
   "execution_count": 1,
   "id": "99c51f9b",
   "metadata": {},
   "outputs": [],
   "source": [
    "import pandas as pd\n",
    "import numpy as np\n",
    "import matplotlib.pyplot as plt\n",
    "import seaborn as sns"
   ]
  },
  {
   "cell_type": "code",
   "execution_count": 2,
   "id": "fc9ff48f",
   "metadata": {},
   "outputs": [],
   "source": [
    "import FinanceDataReader as fdr\n",
    "import plotly.express as px"
   ]
  },
  {
   "cell_type": "code",
   "execution_count": 3,
   "id": "7141e428",
   "metadata": {},
   "outputs": [],
   "source": [
    "def get_returns_df(df, N=1, log=False):\n",
    "    if log:\n",
    "        return np.log(df/df.shift(N)).iloc[N-1:].fillna(0)\n",
    "    else:\n",
    "        return df.pct_change(N, fill_method=None).iloc[N-1:].fillna(0)\n",
    "    \n",
    "def get_cum_returns_df(return_df, log=False):\n",
    "    if log:\n",
    "        return np.exp(return_df.cumsum())\n",
    "    else:\n",
    "        return (1 + return_df).cumprod()"
   ]
  },
  {
   "cell_type": "code",
   "execution_count": 4,
   "id": "a800db7f",
   "metadata": {},
   "outputs": [],
   "source": [
    "def get_annualized_returns_series(log_return_df, num_day_in_year=250):\n",
    "    return (log_return_df.mean() * num_day_in_year).round(2)\n",
    "\n",
    "def get_annualized_std_series(log_return_df, num_day_in_year=250 ):\n",
    "    return (log_return_df.std()*(num_day_in_year ** 0.5)).round(2)"
   ]
  },
  {
   "cell_type": "code",
   "execution_count": 5,
   "id": "e52917cd",
   "metadata": {},
   "outputs": [],
   "source": [
    "def get_cagr_series(cum_rtn_df, num_day_in_year = 250):\n",
    "    cagr_series = cum_rtn_df.iloc[-1]**(num_day_in_year/(len(cum_rtn_df))) -1\n",
    "    return cagr_series"
   ]
  },
  {
   "cell_type": "code",
   "execution_count": 6,
   "id": "75c85c75",
   "metadata": {},
   "outputs": [],
   "source": [
    "def get_sharpe_ratio(log_rtn_df, yearly_rfr = 0.025):\n",
    "    excess_rtns = log_rtn_df.mean()*252 - yearly_rfr\n",
    "    return excess_rtns / (log_rtn_df.std() * np.sqrt(252))"
   ]
  },
  {
   "cell_type": "code",
   "execution_count": 7,
   "id": "a62b18c7",
   "metadata": {},
   "outputs": [],
   "source": [
    "def get_drawdown_infos(cum_returns_df):\n",
    "    cummax_df = cum_returns_df.cummax()\n",
    "    dd_df = cum_returns_df / cummax_df -1\n",
    "    \n",
    "    mdd_series = dd_df.min()\n",
    "    \n",
    "    max_point_df = dd_df[dd_df == 0]\n",
    "    \n",
    "    first_df = max_point_df.index[:-1]\n",
    "    second_df = max_point_df.index[1:]\n",
    "    \n",
    "    period = first_df - second_df\n",
    "    \n",
    "    longest_dd_period = period.min().days\n",
    "    \n",
    "    ldd_st = first_df[period.argmin()]\n",
    "    ldd_ed = second_df[period.argmin()]\n",
    "    \n",
    "    return mdd_series, longest_dd_period, ldd_st, ldd_ed"
   ]
  },
  {
   "cell_type": "markdown",
   "id": "8f9570f3",
   "metadata": {},
   "source": [
    "### 이동평균선 매매전략"
   ]
  },
  {
   "cell_type": "code",
   "execution_count": 8,
   "id": "dd5004b1",
   "metadata": {},
   "outputs": [
    {
     "data": {
      "text/html": [
       "<div>\n",
       "<style scoped>\n",
       "    .dataframe tbody tr th:only-of-type {\n",
       "        vertical-align: middle;\n",
       "    }\n",
       "\n",
       "    .dataframe tbody tr th {\n",
       "        vertical-align: top;\n",
       "    }\n",
       "\n",
       "    .dataframe thead th {\n",
       "        text-align: right;\n",
       "    }\n",
       "</style>\n",
       "<table border=\"1\" class=\"dataframe\">\n",
       "  <thead>\n",
       "    <tr style=\"text-align: right;\">\n",
       "      <th></th>\n",
       "      <th>Open</th>\n",
       "      <th>High</th>\n",
       "      <th>Low</th>\n",
       "      <th>Close</th>\n",
       "      <th>Volume</th>\n",
       "      <th>Change</th>\n",
       "    </tr>\n",
       "    <tr>\n",
       "      <th>Date</th>\n",
       "      <th></th>\n",
       "      <th></th>\n",
       "      <th></th>\n",
       "      <th></th>\n",
       "      <th></th>\n",
       "      <th></th>\n",
       "    </tr>\n",
       "  </thead>\n",
       "  <tbody>\n",
       "    <tr>\n",
       "      <th>2010-01-04</th>\n",
       "      <td>16060</td>\n",
       "      <td>16180</td>\n",
       "      <td>16000</td>\n",
       "      <td>16180</td>\n",
       "      <td>239271</td>\n",
       "      <td>0.012516</td>\n",
       "    </tr>\n",
       "    <tr>\n",
       "      <th>2010-01-05</th>\n",
       "      <td>16520</td>\n",
       "      <td>16580</td>\n",
       "      <td>16300</td>\n",
       "      <td>16440</td>\n",
       "      <td>559219</td>\n",
       "      <td>0.016069</td>\n",
       "    </tr>\n",
       "    <tr>\n",
       "      <th>2010-01-06</th>\n",
       "      <td>16580</td>\n",
       "      <td>16820</td>\n",
       "      <td>16520</td>\n",
       "      <td>16820</td>\n",
       "      <td>459755</td>\n",
       "      <td>0.023114</td>\n",
       "    </tr>\n",
       "    <tr>\n",
       "      <th>2010-01-07</th>\n",
       "      <td>16820</td>\n",
       "      <td>16820</td>\n",
       "      <td>16260</td>\n",
       "      <td>16260</td>\n",
       "      <td>443237</td>\n",
       "      <td>-0.033294</td>\n",
       "    </tr>\n",
       "    <tr>\n",
       "      <th>2010-01-08</th>\n",
       "      <td>16400</td>\n",
       "      <td>16420</td>\n",
       "      <td>16120</td>\n",
       "      <td>16420</td>\n",
       "      <td>295798</td>\n",
       "      <td>0.009840</td>\n",
       "    </tr>\n",
       "    <tr>\n",
       "      <th>...</th>\n",
       "      <td>...</td>\n",
       "      <td>...</td>\n",
       "      <td>...</td>\n",
       "      <td>...</td>\n",
       "      <td>...</td>\n",
       "      <td>...</td>\n",
       "    </tr>\n",
       "    <tr>\n",
       "      <th>2020-10-26</th>\n",
       "      <td>60400</td>\n",
       "      <td>61100</td>\n",
       "      <td>60100</td>\n",
       "      <td>60400</td>\n",
       "      <td>13268226</td>\n",
       "      <td>0.003322</td>\n",
       "    </tr>\n",
       "    <tr>\n",
       "      <th>2020-10-27</th>\n",
       "      <td>60300</td>\n",
       "      <td>60300</td>\n",
       "      <td>59500</td>\n",
       "      <td>59800</td>\n",
       "      <td>17260416</td>\n",
       "      <td>-0.009934</td>\n",
       "    </tr>\n",
       "    <tr>\n",
       "      <th>2020-10-28</th>\n",
       "      <td>59400</td>\n",
       "      <td>59400</td>\n",
       "      <td>58800</td>\n",
       "      <td>59000</td>\n",
       "      <td>14428882</td>\n",
       "      <td>-0.013378</td>\n",
       "    </tr>\n",
       "    <tr>\n",
       "      <th>2020-10-29</th>\n",
       "      <td>58200</td>\n",
       "      <td>58500</td>\n",
       "      <td>57500</td>\n",
       "      <td>58100</td>\n",
       "      <td>22636966</td>\n",
       "      <td>-0.015254</td>\n",
       "    </tr>\n",
       "    <tr>\n",
       "      <th>2020-10-30</th>\n",
       "      <td>58000</td>\n",
       "      <td>58000</td>\n",
       "      <td>56600</td>\n",
       "      <td>56600</td>\n",
       "      <td>26907844</td>\n",
       "      <td>-0.025818</td>\n",
       "    </tr>\n",
       "  </tbody>\n",
       "</table>\n",
       "<p>2672 rows × 6 columns</p>\n",
       "</div>"
      ],
      "text/plain": [
       "             Open   High    Low  Close    Volume    Change\n",
       "Date                                                      \n",
       "2010-01-04  16060  16180  16000  16180    239271  0.012516\n",
       "2010-01-05  16520  16580  16300  16440    559219  0.016069\n",
       "2010-01-06  16580  16820  16520  16820    459755  0.023114\n",
       "2010-01-07  16820  16820  16260  16260    443237 -0.033294\n",
       "2010-01-08  16400  16420  16120  16420    295798  0.009840\n",
       "...           ...    ...    ...    ...       ...       ...\n",
       "2020-10-26  60400  61100  60100  60400  13268226  0.003322\n",
       "2020-10-27  60300  60300  59500  59800  17260416 -0.009934\n",
       "2020-10-28  59400  59400  58800  59000  14428882 -0.013378\n",
       "2020-10-29  58200  58500  57500  58100  22636966 -0.015254\n",
       "2020-10-30  58000  58000  56600  56600  26907844 -0.025818\n",
       "\n",
       "[2672 rows x 6 columns]"
      ]
     },
     "execution_count": 8,
     "metadata": {},
     "output_type": "execute_result"
    }
   ],
   "source": [
    "df = fdr.DataReader('005930','2010-01-02','2020-10-30')\n",
    "# df = df.Close\n",
    "df"
   ]
  },
  {
   "cell_type": "code",
   "execution_count": 9,
   "id": "b6c6bea7",
   "metadata": {},
   "outputs": [
    {
     "data": {
      "text/html": [
       "<div>\n",
       "<style scoped>\n",
       "    .dataframe tbody tr th:only-of-type {\n",
       "        vertical-align: middle;\n",
       "    }\n",
       "\n",
       "    .dataframe tbody tr th {\n",
       "        vertical-align: top;\n",
       "    }\n",
       "\n",
       "    .dataframe thead th {\n",
       "        text-align: right;\n",
       "    }\n",
       "</style>\n",
       "<table border=\"1\" class=\"dataframe\">\n",
       "  <thead>\n",
       "    <tr style=\"text-align: right;\">\n",
       "      <th></th>\n",
       "      <th>Open</th>\n",
       "      <th>High</th>\n",
       "      <th>Low</th>\n",
       "      <th>Close</th>\n",
       "      <th>Volume</th>\n",
       "      <th>Change</th>\n",
       "      <th>sma</th>\n",
       "      <th>lma</th>\n",
       "    </tr>\n",
       "    <tr>\n",
       "      <th>Date</th>\n",
       "      <th></th>\n",
       "      <th></th>\n",
       "      <th></th>\n",
       "      <th></th>\n",
       "      <th></th>\n",
       "      <th></th>\n",
       "      <th></th>\n",
       "      <th></th>\n",
       "    </tr>\n",
       "  </thead>\n",
       "  <tbody>\n",
       "    <tr>\n",
       "      <th>2010-01-04</th>\n",
       "      <td>16060</td>\n",
       "      <td>16180</td>\n",
       "      <td>16000</td>\n",
       "      <td>16180</td>\n",
       "      <td>239271</td>\n",
       "      <td>0.012516</td>\n",
       "      <td>NaN</td>\n",
       "      <td>NaN</td>\n",
       "    </tr>\n",
       "    <tr>\n",
       "      <th>2010-01-05</th>\n",
       "      <td>16520</td>\n",
       "      <td>16580</td>\n",
       "      <td>16300</td>\n",
       "      <td>16440</td>\n",
       "      <td>559219</td>\n",
       "      <td>0.016069</td>\n",
       "      <td>NaN</td>\n",
       "      <td>NaN</td>\n",
       "    </tr>\n",
       "    <tr>\n",
       "      <th>2010-01-06</th>\n",
       "      <td>16580</td>\n",
       "      <td>16820</td>\n",
       "      <td>16520</td>\n",
       "      <td>16820</td>\n",
       "      <td>459755</td>\n",
       "      <td>0.023114</td>\n",
       "      <td>NaN</td>\n",
       "      <td>NaN</td>\n",
       "    </tr>\n",
       "    <tr>\n",
       "      <th>2010-01-07</th>\n",
       "      <td>16820</td>\n",
       "      <td>16820</td>\n",
       "      <td>16260</td>\n",
       "      <td>16260</td>\n",
       "      <td>443237</td>\n",
       "      <td>-0.033294</td>\n",
       "      <td>NaN</td>\n",
       "      <td>NaN</td>\n",
       "    </tr>\n",
       "    <tr>\n",
       "      <th>2010-01-08</th>\n",
       "      <td>16400</td>\n",
       "      <td>16420</td>\n",
       "      <td>16120</td>\n",
       "      <td>16420</td>\n",
       "      <td>295798</td>\n",
       "      <td>0.009840</td>\n",
       "      <td>16424.0</td>\n",
       "      <td>NaN</td>\n",
       "    </tr>\n",
       "  </tbody>\n",
       "</table>\n",
       "</div>"
      ],
      "text/plain": [
       "             Open   High    Low  Close  Volume    Change      sma  lma\n",
       "Date                                                                  \n",
       "2010-01-04  16060  16180  16000  16180  239271  0.012516      NaN  NaN\n",
       "2010-01-05  16520  16580  16300  16440  559219  0.016069      NaN  NaN\n",
       "2010-01-06  16580  16820  16520  16820  459755  0.023114      NaN  NaN\n",
       "2010-01-07  16820  16820  16260  16260  443237 -0.033294      NaN  NaN\n",
       "2010-01-08  16400  16420  16120  16420  295798  0.009840  16424.0  NaN"
      ]
     },
     "execution_count": 9,
     "metadata": {},
     "output_type": "execute_result"
    }
   ],
   "source": [
    "df['sma'] = df.Close.rolling(5).mean()\n",
    "df['lma'] = df.Close.rolling(20).mean()\n",
    "df.head()"
   ]
  },
  {
   "cell_type": "code",
   "execution_count": 10,
   "id": "78206d1f",
   "metadata": {},
   "outputs": [],
   "source": [
    "df.dropna(inplace=True)"
   ]
  },
  {
   "cell_type": "code",
   "execution_count": 11,
   "id": "71fd94d7",
   "metadata": {},
   "outputs": [
    {
     "data": {
      "text/plain": [
       "<AxesSubplot:xlabel='Date'>"
      ]
     },
     "execution_count": 11,
     "metadata": {},
     "output_type": "execute_result"
    },
    {
     "data": {
      "image/png": "[encoded data removed]",
      "text/plain": [
       "<Figure size 1080x360 with 1 Axes>"
      ]
     },
     "metadata": {
      "needs_background": "light"
     },
     "output_type": "display_data"
    }
   ],
   "source": [
    "# df[['Close','sma','lma']].iloc[-100:].plot(figsize=(15,5))\n",
    "df[['sma','lma']].iloc[-200:].plot(figsize=(15,5))"
   ]
  },
  {
   "cell_type": "code",
   "execution_count": 12,
   "id": "db350fd2",
   "metadata": {},
   "outputs": [],
   "source": [
    "df['position'] = np.where(df['sma'] >= df['lma'], 1, 0)   # 1이 매수표시"
   ]
  },
  {
   "cell_type": "code",
   "execution_count": 13,
   "id": "9bd3c738",
   "metadata": {},
   "outputs": [
    {
     "data": {
      "text/html": [
       "<div>\n",
       "<style scoped>\n",
       "    .dataframe tbody tr th:only-of-type {\n",
       "        vertical-align: middle;\n",
       "    }\n",
       "\n",
       "    .dataframe tbody tr th {\n",
       "        vertical-align: top;\n",
       "    }\n",
       "\n",
       "    .dataframe thead th {\n",
       "        text-align: right;\n",
       "    }\n",
       "</style>\n",
       "<table border=\"1\" class=\"dataframe\">\n",
       "  <thead>\n",
       "    <tr style=\"text-align: right;\">\n",
       "      <th></th>\n",
       "      <th>Open</th>\n",
       "      <th>High</th>\n",
       "      <th>Low</th>\n",
       "      <th>Close</th>\n",
       "      <th>Volume</th>\n",
       "      <th>Change</th>\n",
       "      <th>sma</th>\n",
       "      <th>lma</th>\n",
       "      <th>position</th>\n",
       "    </tr>\n",
       "    <tr>\n",
       "      <th>Date</th>\n",
       "      <th></th>\n",
       "      <th></th>\n",
       "      <th></th>\n",
       "      <th></th>\n",
       "      <th></th>\n",
       "      <th></th>\n",
       "      <th></th>\n",
       "      <th></th>\n",
       "      <th></th>\n",
       "    </tr>\n",
       "  </thead>\n",
       "  <tbody>\n",
       "    <tr>\n",
       "      <th>2010-01-29</th>\n",
       "      <td>16000</td>\n",
       "      <td>16019</td>\n",
       "      <td>15600</td>\n",
       "      <td>15680</td>\n",
       "      <td>457285</td>\n",
       "      <td>-0.029703</td>\n",
       "      <td>16196.0</td>\n",
       "      <td>16402.0</td>\n",
       "      <td>0</td>\n",
       "    </tr>\n",
       "    <tr>\n",
       "      <th>2010-02-01</th>\n",
       "      <td>15679</td>\n",
       "      <td>15700</td>\n",
       "      <td>15300</td>\n",
       "      <td>15540</td>\n",
       "      <td>501042</td>\n",
       "      <td>-0.008929</td>\n",
       "      <td>15936.0</td>\n",
       "      <td>16370.0</td>\n",
       "      <td>0</td>\n",
       "    </tr>\n",
       "    <tr>\n",
       "      <th>2010-02-02</th>\n",
       "      <td>15800</td>\n",
       "      <td>15800</td>\n",
       "      <td>15400</td>\n",
       "      <td>15440</td>\n",
       "      <td>393803</td>\n",
       "      <td>-0.006435</td>\n",
       "      <td>15764.0</td>\n",
       "      <td>16320.0</td>\n",
       "      <td>0</td>\n",
       "    </tr>\n",
       "    <tr>\n",
       "      <th>2010-02-03</th>\n",
       "      <td>15640</td>\n",
       "      <td>15700</td>\n",
       "      <td>15360</td>\n",
       "      <td>15540</td>\n",
       "      <td>330235</td>\n",
       "      <td>0.006477</td>\n",
       "      <td>15672.0</td>\n",
       "      <td>16256.0</td>\n",
       "      <td>0</td>\n",
       "    </tr>\n",
       "    <tr>\n",
       "      <th>2010-02-04</th>\n",
       "      <td>15500</td>\n",
       "      <td>15660</td>\n",
       "      <td>15440</td>\n",
       "      <td>15520</td>\n",
       "      <td>239799</td>\n",
       "      <td>-0.001287</td>\n",
       "      <td>15544.0</td>\n",
       "      <td>16219.0</td>\n",
       "      <td>0</td>\n",
       "    </tr>\n",
       "    <tr>\n",
       "      <th>...</th>\n",
       "      <td>...</td>\n",
       "      <td>...</td>\n",
       "      <td>...</td>\n",
       "      <td>...</td>\n",
       "      <td>...</td>\n",
       "      <td>...</td>\n",
       "      <td>...</td>\n",
       "      <td>...</td>\n",
       "      <td>...</td>\n",
       "    </tr>\n",
       "    <tr>\n",
       "      <th>2020-10-26</th>\n",
       "      <td>60400</td>\n",
       "      <td>61100</td>\n",
       "      <td>60100</td>\n",
       "      <td>60400</td>\n",
       "      <td>13268226</td>\n",
       "      <td>0.003322</td>\n",
       "      <td>60500.0</td>\n",
       "      <td>59610.0</td>\n",
       "      <td>1</td>\n",
       "    </tr>\n",
       "    <tr>\n",
       "      <th>2020-10-27</th>\n",
       "      <td>60300</td>\n",
       "      <td>60300</td>\n",
       "      <td>59500</td>\n",
       "      <td>59800</td>\n",
       "      <td>17260416</td>\n",
       "      <td>-0.009934</td>\n",
       "      <td>60280.0</td>\n",
       "      <td>59670.0</td>\n",
       "      <td>1</td>\n",
       "    </tr>\n",
       "    <tr>\n",
       "      <th>2020-10-28</th>\n",
       "      <td>59400</td>\n",
       "      <td>59400</td>\n",
       "      <td>58800</td>\n",
       "      <td>59000</td>\n",
       "      <td>14428882</td>\n",
       "      <td>-0.013378</td>\n",
       "      <td>59900.0</td>\n",
       "      <td>59730.0</td>\n",
       "      <td>1</td>\n",
       "    </tr>\n",
       "    <tr>\n",
       "      <th>2020-10-29</th>\n",
       "      <td>58200</td>\n",
       "      <td>58500</td>\n",
       "      <td>57500</td>\n",
       "      <td>58100</td>\n",
       "      <td>22636966</td>\n",
       "      <td>-0.015254</td>\n",
       "      <td>59500.0</td>\n",
       "      <td>59740.0</td>\n",
       "      <td>0</td>\n",
       "    </tr>\n",
       "    <tr>\n",
       "      <th>2020-10-30</th>\n",
       "      <td>58000</td>\n",
       "      <td>58000</td>\n",
       "      <td>56600</td>\n",
       "      <td>56600</td>\n",
       "      <td>26907844</td>\n",
       "      <td>-0.025818</td>\n",
       "      <td>58780.0</td>\n",
       "      <td>59660.0</td>\n",
       "      <td>0</td>\n",
       "    </tr>\n",
       "  </tbody>\n",
       "</table>\n",
       "<p>2653 rows × 9 columns</p>\n",
       "</div>"
      ],
      "text/plain": [
       "             Open   High    Low  Close    Volume    Change      sma      lma  \\\n",
       "Date                                                                           \n",
       "2010-01-29  16000  16019  15600  15680    457285 -0.029703  16196.0  16402.0   \n",
       "2010-02-01  15679  15700  15300  15540    501042 -0.008929  15936.0  16370.0   \n",
       "2010-02-02  15800  15800  15400  15440    393803 -0.006435  15764.0  16320.0   \n",
       "2010-02-03  15640  15700  15360  15540    330235  0.006477  15672.0  16256.0   \n",
       "2010-02-04  15500  15660  15440  15520    239799 -0.001287  15544.0  16219.0   \n",
       "...           ...    ...    ...    ...       ...       ...      ...      ...   \n",
       "2020-10-26  60400  61100  60100  60400  13268226  0.003322  60500.0  59610.0   \n",
       "2020-10-27  60300  60300  59500  59800  17260416 -0.009934  60280.0  59670.0   \n",
       "2020-10-28  59400  59400  58800  59000  14428882 -0.013378  59900.0  59730.0   \n",
       "2020-10-29  58200  58500  57500  58100  22636966 -0.015254  59500.0  59740.0   \n",
       "2020-10-30  58000  58000  56600  56600  26907844 -0.025818  58780.0  59660.0   \n",
       "\n",
       "            position  \n",
       "Date                  \n",
       "2010-01-29         0  \n",
       "2010-02-01         0  \n",
       "2010-02-02         0  \n",
       "2010-02-03         0  \n",
       "2010-02-04         0  \n",
       "...              ...  \n",
       "2020-10-26         1  \n",
       "2020-10-27         1  \n",
       "2020-10-28         1  \n",
       "2020-10-29         0  \n",
       "2020-10-30         0  \n",
       "\n",
       "[2653 rows x 9 columns]"
      ]
     },
     "execution_count": 13,
     "metadata": {},
     "output_type": "execute_result"
    }
   ],
   "source": [
    "df"
   ]
  },
  {
   "cell_type": "code",
   "execution_count": 14,
   "id": "4e869d2d",
   "metadata": {},
   "outputs": [
    {
     "data": {
      "text/plain": [
       "<AxesSubplot:xlabel='Date'>"
      ]
     },
     "execution_count": 14,
     "metadata": {},
     "output_type": "execute_result"
    },
    {
     "data": {
      "image/png": "[encoded data removed]",
      "text/plain": [
       "<Figure size 1080x72 with 1 Axes>"
      ]
     },
     "metadata": {
      "needs_background": "light"
     },
     "output_type": "display_data"
    }
   ],
   "source": [
    "df['position'][-300:].plot(marker='.', linestyle='none', figsize=(15,1), ylim=[-1.5, 1.5])"
   ]
  },
  {
   "cell_type": "code",
   "execution_count": 15,
   "id": "d0b5d32b",
   "metadata": {},
   "outputs": [],
   "source": [
    "long_index = df[(df['position'] - df['position'].shift(1)) == 1].index\n",
    "exit_index = df[(df['position'] - df['position'].shift(1)) == -1].index"
   ]
  },
  {
   "cell_type": "code",
   "execution_count": 16,
   "id": "3ccd3743",
   "metadata": {},
   "outputs": [
    {
     "data": {
      "text/plain": [
       "<AxesSubplot:xlabel='Date'>"
      ]
     },
     "execution_count": 16,
     "metadata": {},
     "output_type": "execute_result"
    },
    {
     "data": {
      "image/png": "[encoded data removed]",
      "text/plain": [
       "<Figure size 1080x360 with 1 Axes>"
      ]
     },
     "metadata": {
      "needs_background": "light"
     },
     "output_type": "display_data"
    }
   ],
   "source": [
    "# df[['Close']].loc['2020-01-01':].plot(figsize=(15,5), color='black')\n",
    "df[['Close','sma','lma']].loc['2019-01-01':].plot(figsize=(15,5))\n",
    "df.loc[long_index, 'sma'].loc['2019-01-01':].plot(marker='o', color='red', linestyle='none', markersize=3)\n",
    "df.loc[exit_index, 'sma'].loc['2019-01-01':].plot(marker='o', color='blue', linestyle='none', markersize=3)"
   ]
  },
  {
   "cell_type": "code",
   "execution_count": 17,
   "id": "d642cf88",
   "metadata": {},
   "outputs": [
    {
     "data": {
      "text/html": [
       "<div>\n",
       "<style scoped>\n",
       "    .dataframe tbody tr th:only-of-type {\n",
       "        vertical-align: middle;\n",
       "    }\n",
       "\n",
       "    .dataframe tbody tr th {\n",
       "        vertical-align: top;\n",
       "    }\n",
       "\n",
       "    .dataframe thead th {\n",
       "        text-align: right;\n",
       "    }\n",
       "</style>\n",
       "<table border=\"1\" class=\"dataframe\">\n",
       "  <thead>\n",
       "    <tr style=\"text-align: right;\">\n",
       "      <th></th>\n",
       "      <th>Open</th>\n",
       "      <th>High</th>\n",
       "      <th>Low</th>\n",
       "      <th>Close</th>\n",
       "      <th>Volume</th>\n",
       "      <th>Change</th>\n",
       "      <th>sma</th>\n",
       "      <th>lma</th>\n",
       "      <th>position</th>\n",
       "      <th>rtn</th>\n",
       "    </tr>\n",
       "    <tr>\n",
       "      <th>Date</th>\n",
       "      <th></th>\n",
       "      <th></th>\n",
       "      <th></th>\n",
       "      <th></th>\n",
       "      <th></th>\n",
       "      <th></th>\n",
       "      <th></th>\n",
       "      <th></th>\n",
       "      <th></th>\n",
       "      <th></th>\n",
       "    </tr>\n",
       "  </thead>\n",
       "  <tbody>\n",
       "    <tr>\n",
       "      <th>2010-01-29</th>\n",
       "      <td>16000</td>\n",
       "      <td>16019</td>\n",
       "      <td>15600</td>\n",
       "      <td>15680</td>\n",
       "      <td>457285</td>\n",
       "      <td>-0.029703</td>\n",
       "      <td>16196.0</td>\n",
       "      <td>16402.0</td>\n",
       "      <td>0</td>\n",
       "      <td>0.000000</td>\n",
       "    </tr>\n",
       "    <tr>\n",
       "      <th>2010-02-01</th>\n",
       "      <td>15679</td>\n",
       "      <td>15700</td>\n",
       "      <td>15300</td>\n",
       "      <td>15540</td>\n",
       "      <td>501042</td>\n",
       "      <td>-0.008929</td>\n",
       "      <td>15936.0</td>\n",
       "      <td>16370.0</td>\n",
       "      <td>0</td>\n",
       "      <td>-0.008969</td>\n",
       "    </tr>\n",
       "    <tr>\n",
       "      <th>2010-02-02</th>\n",
       "      <td>15800</td>\n",
       "      <td>15800</td>\n",
       "      <td>15400</td>\n",
       "      <td>15440</td>\n",
       "      <td>393803</td>\n",
       "      <td>-0.006435</td>\n",
       "      <td>15764.0</td>\n",
       "      <td>16320.0</td>\n",
       "      <td>0</td>\n",
       "      <td>-0.006456</td>\n",
       "    </tr>\n",
       "    <tr>\n",
       "      <th>2010-02-03</th>\n",
       "      <td>15640</td>\n",
       "      <td>15700</td>\n",
       "      <td>15360</td>\n",
       "      <td>15540</td>\n",
       "      <td>330235</td>\n",
       "      <td>0.006477</td>\n",
       "      <td>15672.0</td>\n",
       "      <td>16256.0</td>\n",
       "      <td>0</td>\n",
       "      <td>0.006456</td>\n",
       "    </tr>\n",
       "    <tr>\n",
       "      <th>2010-02-04</th>\n",
       "      <td>15500</td>\n",
       "      <td>15660</td>\n",
       "      <td>15440</td>\n",
       "      <td>15520</td>\n",
       "      <td>239799</td>\n",
       "      <td>-0.001287</td>\n",
       "      <td>15544.0</td>\n",
       "      <td>16219.0</td>\n",
       "      <td>0</td>\n",
       "      <td>-0.001288</td>\n",
       "    </tr>\n",
       "    <tr>\n",
       "      <th>...</th>\n",
       "      <td>...</td>\n",
       "      <td>...</td>\n",
       "      <td>...</td>\n",
       "      <td>...</td>\n",
       "      <td>...</td>\n",
       "      <td>...</td>\n",
       "      <td>...</td>\n",
       "      <td>...</td>\n",
       "      <td>...</td>\n",
       "      <td>...</td>\n",
       "    </tr>\n",
       "    <tr>\n",
       "      <th>2020-10-26</th>\n",
       "      <td>60400</td>\n",
       "      <td>61100</td>\n",
       "      <td>60100</td>\n",
       "      <td>60400</td>\n",
       "      <td>13268226</td>\n",
       "      <td>0.003322</td>\n",
       "      <td>60500.0</td>\n",
       "      <td>59610.0</td>\n",
       "      <td>1</td>\n",
       "      <td>0.003317</td>\n",
       "    </tr>\n",
       "    <tr>\n",
       "      <th>2020-10-27</th>\n",
       "      <td>60300</td>\n",
       "      <td>60300</td>\n",
       "      <td>59500</td>\n",
       "      <td>59800</td>\n",
       "      <td>17260416</td>\n",
       "      <td>-0.009934</td>\n",
       "      <td>60280.0</td>\n",
       "      <td>59670.0</td>\n",
       "      <td>1</td>\n",
       "      <td>-0.009983</td>\n",
       "    </tr>\n",
       "    <tr>\n",
       "      <th>2020-10-28</th>\n",
       "      <td>59400</td>\n",
       "      <td>59400</td>\n",
       "      <td>58800</td>\n",
       "      <td>59000</td>\n",
       "      <td>14428882</td>\n",
       "      <td>-0.013378</td>\n",
       "      <td>59900.0</td>\n",
       "      <td>59730.0</td>\n",
       "      <td>1</td>\n",
       "      <td>-0.013468</td>\n",
       "    </tr>\n",
       "    <tr>\n",
       "      <th>2020-10-29</th>\n",
       "      <td>58200</td>\n",
       "      <td>58500</td>\n",
       "      <td>57500</td>\n",
       "      <td>58100</td>\n",
       "      <td>22636966</td>\n",
       "      <td>-0.015254</td>\n",
       "      <td>59500.0</td>\n",
       "      <td>59740.0</td>\n",
       "      <td>0</td>\n",
       "      <td>-0.015372</td>\n",
       "    </tr>\n",
       "    <tr>\n",
       "      <th>2020-10-30</th>\n",
       "      <td>58000</td>\n",
       "      <td>58000</td>\n",
       "      <td>56600</td>\n",
       "      <td>56600</td>\n",
       "      <td>26907844</td>\n",
       "      <td>-0.025818</td>\n",
       "      <td>58780.0</td>\n",
       "      <td>59660.0</td>\n",
       "      <td>0</td>\n",
       "      <td>-0.026157</td>\n",
       "    </tr>\n",
       "  </tbody>\n",
       "</table>\n",
       "<p>2653 rows × 10 columns</p>\n",
       "</div>"
      ],
      "text/plain": [
       "             Open   High    Low  Close    Volume    Change      sma      lma  \\\n",
       "Date                                                                           \n",
       "2010-01-29  16000  16019  15600  15680    457285 -0.029703  16196.0  16402.0   \n",
       "2010-02-01  15679  15700  15300  15540    501042 -0.008929  15936.0  16370.0   \n",
       "2010-02-02  15800  15800  15400  15440    393803 -0.006435  15764.0  16320.0   \n",
       "2010-02-03  15640  15700  15360  15540    330235  0.006477  15672.0  16256.0   \n",
       "2010-02-04  15500  15660  15440  15520    239799 -0.001287  15544.0  16219.0   \n",
       "...           ...    ...    ...    ...       ...       ...      ...      ...   \n",
       "2020-10-26  60400  61100  60100  60400  13268226  0.003322  60500.0  59610.0   \n",
       "2020-10-27  60300  60300  59500  59800  17260416 -0.009934  60280.0  59670.0   \n",
       "2020-10-28  59400  59400  58800  59000  14428882 -0.013378  59900.0  59730.0   \n",
       "2020-10-29  58200  58500  57500  58100  22636966 -0.015254  59500.0  59740.0   \n",
       "2020-10-30  58000  58000  56600  56600  26907844 -0.025818  58780.0  59660.0   \n",
       "\n",
       "            position       rtn  \n",
       "Date                            \n",
       "2010-01-29         0  0.000000  \n",
       "2010-02-01         0 -0.008969  \n",
       "2010-02-02         0 -0.006456  \n",
       "2010-02-03         0  0.006456  \n",
       "2010-02-04         0 -0.001288  \n",
       "...              ...       ...  \n",
       "2020-10-26         1  0.003317  \n",
       "2020-10-27         1 -0.009983  \n",
       "2020-10-28         1 -0.013468  \n",
       "2020-10-29         0 -0.015372  \n",
       "2020-10-30         0 -0.026157  \n",
       "\n",
       "[2653 rows x 10 columns]"
      ]
     },
     "execution_count": 17,
     "metadata": {},
     "output_type": "execute_result"
    }
   ],
   "source": [
    "df.loc[:,'rtn'] = get_returns_df(df['Close'], N=1, log=True)\n",
    "df"
   ]
  },
  {
   "cell_type": "code",
   "execution_count": 18,
   "id": "34e0910b",
   "metadata": {},
   "outputs": [],
   "source": [
    "df.loc[:, 'str_rtn'] = (df['position'].shift(1) * df['rtn']).fillna(0)"
   ]
  },
  {
   "cell_type": "code",
   "execution_count": 19,
   "id": "fe6aeaa9",
   "metadata": {},
   "outputs": [
    {
     "data": {
      "text/html": [
       "<div>\n",
       "<style scoped>\n",
       "    .dataframe tbody tr th:only-of-type {\n",
       "        vertical-align: middle;\n",
       "    }\n",
       "\n",
       "    .dataframe tbody tr th {\n",
       "        vertical-align: top;\n",
       "    }\n",
       "\n",
       "    .dataframe thead th {\n",
       "        text-align: right;\n",
       "    }\n",
       "</style>\n",
       "<table border=\"1\" class=\"dataframe\">\n",
       "  <thead>\n",
       "    <tr style=\"text-align: right;\">\n",
       "      <th></th>\n",
       "      <th>Open</th>\n",
       "      <th>High</th>\n",
       "      <th>Low</th>\n",
       "      <th>Close</th>\n",
       "      <th>Volume</th>\n",
       "      <th>Change</th>\n",
       "      <th>sma</th>\n",
       "      <th>lma</th>\n",
       "      <th>position</th>\n",
       "      <th>rtn</th>\n",
       "      <th>str_rtn</th>\n",
       "      <th>cum_str_rtn</th>\n",
       "    </tr>\n",
       "    <tr>\n",
       "      <th>Date</th>\n",
       "      <th></th>\n",
       "      <th></th>\n",
       "      <th></th>\n",
       "      <th></th>\n",
       "      <th></th>\n",
       "      <th></th>\n",
       "      <th></th>\n",
       "      <th></th>\n",
       "      <th></th>\n",
       "      <th></th>\n",
       "      <th></th>\n",
       "      <th></th>\n",
       "    </tr>\n",
       "  </thead>\n",
       "  <tbody>\n",
       "    <tr>\n",
       "      <th>2010-01-29</th>\n",
       "      <td>16000</td>\n",
       "      <td>16019</td>\n",
       "      <td>15600</td>\n",
       "      <td>15680</td>\n",
       "      <td>457285</td>\n",
       "      <td>-0.029703</td>\n",
       "      <td>16196.0</td>\n",
       "      <td>16402.0</td>\n",
       "      <td>0</td>\n",
       "      <td>0.000000</td>\n",
       "      <td>0.000000</td>\n",
       "      <td>1.000000</td>\n",
       "    </tr>\n",
       "    <tr>\n",
       "      <th>2010-02-01</th>\n",
       "      <td>15679</td>\n",
       "      <td>15700</td>\n",
       "      <td>15300</td>\n",
       "      <td>15540</td>\n",
       "      <td>501042</td>\n",
       "      <td>-0.008929</td>\n",
       "      <td>15936.0</td>\n",
       "      <td>16370.0</td>\n",
       "      <td>0</td>\n",
       "      <td>-0.008969</td>\n",
       "      <td>-0.000000</td>\n",
       "      <td>1.000000</td>\n",
       "    </tr>\n",
       "    <tr>\n",
       "      <th>2010-02-02</th>\n",
       "      <td>15800</td>\n",
       "      <td>15800</td>\n",
       "      <td>15400</td>\n",
       "      <td>15440</td>\n",
       "      <td>393803</td>\n",
       "      <td>-0.006435</td>\n",
       "      <td>15764.0</td>\n",
       "      <td>16320.0</td>\n",
       "      <td>0</td>\n",
       "      <td>-0.006456</td>\n",
       "      <td>-0.000000</td>\n",
       "      <td>1.000000</td>\n",
       "    </tr>\n",
       "    <tr>\n",
       "      <th>2010-02-03</th>\n",
       "      <td>15640</td>\n",
       "      <td>15700</td>\n",
       "      <td>15360</td>\n",
       "      <td>15540</td>\n",
       "      <td>330235</td>\n",
       "      <td>0.006477</td>\n",
       "      <td>15672.0</td>\n",
       "      <td>16256.0</td>\n",
       "      <td>0</td>\n",
       "      <td>0.006456</td>\n",
       "      <td>0.000000</td>\n",
       "      <td>1.000000</td>\n",
       "    </tr>\n",
       "    <tr>\n",
       "      <th>2010-02-04</th>\n",
       "      <td>15500</td>\n",
       "      <td>15660</td>\n",
       "      <td>15440</td>\n",
       "      <td>15520</td>\n",
       "      <td>239799</td>\n",
       "      <td>-0.001287</td>\n",
       "      <td>15544.0</td>\n",
       "      <td>16219.0</td>\n",
       "      <td>0</td>\n",
       "      <td>-0.001288</td>\n",
       "      <td>-0.000000</td>\n",
       "      <td>1.000000</td>\n",
       "    </tr>\n",
       "    <tr>\n",
       "      <th>...</th>\n",
       "      <td>...</td>\n",
       "      <td>...</td>\n",
       "      <td>...</td>\n",
       "      <td>...</td>\n",
       "      <td>...</td>\n",
       "      <td>...</td>\n",
       "      <td>...</td>\n",
       "      <td>...</td>\n",
       "      <td>...</td>\n",
       "      <td>...</td>\n",
       "      <td>...</td>\n",
       "      <td>...</td>\n",
       "    </tr>\n",
       "    <tr>\n",
       "      <th>2020-10-26</th>\n",
       "      <td>60400</td>\n",
       "      <td>61100</td>\n",
       "      <td>60100</td>\n",
       "      <td>60400</td>\n",
       "      <td>13268226</td>\n",
       "      <td>0.003322</td>\n",
       "      <td>60500.0</td>\n",
       "      <td>59610.0</td>\n",
       "      <td>1</td>\n",
       "      <td>0.003317</td>\n",
       "      <td>0.003317</td>\n",
       "      <td>1.352149</td>\n",
       "    </tr>\n",
       "    <tr>\n",
       "      <th>2020-10-27</th>\n",
       "      <td>60300</td>\n",
       "      <td>60300</td>\n",
       "      <td>59500</td>\n",
       "      <td>59800</td>\n",
       "      <td>17260416</td>\n",
       "      <td>-0.009934</td>\n",
       "      <td>60280.0</td>\n",
       "      <td>59670.0</td>\n",
       "      <td>1</td>\n",
       "      <td>-0.009983</td>\n",
       "      <td>-0.009983</td>\n",
       "      <td>1.338717</td>\n",
       "    </tr>\n",
       "    <tr>\n",
       "      <th>2020-10-28</th>\n",
       "      <td>59400</td>\n",
       "      <td>59400</td>\n",
       "      <td>58800</td>\n",
       "      <td>59000</td>\n",
       "      <td>14428882</td>\n",
       "      <td>-0.013378</td>\n",
       "      <td>59900.0</td>\n",
       "      <td>59730.0</td>\n",
       "      <td>1</td>\n",
       "      <td>-0.013468</td>\n",
       "      <td>-0.013468</td>\n",
       "      <td>1.320808</td>\n",
       "    </tr>\n",
       "    <tr>\n",
       "      <th>2020-10-29</th>\n",
       "      <td>58200</td>\n",
       "      <td>58500</td>\n",
       "      <td>57500</td>\n",
       "      <td>58100</td>\n",
       "      <td>22636966</td>\n",
       "      <td>-0.015254</td>\n",
       "      <td>59500.0</td>\n",
       "      <td>59740.0</td>\n",
       "      <td>0</td>\n",
       "      <td>-0.015372</td>\n",
       "      <td>-0.015372</td>\n",
       "      <td>1.300660</td>\n",
       "    </tr>\n",
       "    <tr>\n",
       "      <th>2020-10-30</th>\n",
       "      <td>58000</td>\n",
       "      <td>58000</td>\n",
       "      <td>56600</td>\n",
       "      <td>56600</td>\n",
       "      <td>26907844</td>\n",
       "      <td>-0.025818</td>\n",
       "      <td>58780.0</td>\n",
       "      <td>59660.0</td>\n",
       "      <td>0</td>\n",
       "      <td>-0.026157</td>\n",
       "      <td>-0.000000</td>\n",
       "      <td>1.300660</td>\n",
       "    </tr>\n",
       "  </tbody>\n",
       "</table>\n",
       "<p>2653 rows × 12 columns</p>\n",
       "</div>"
      ],
      "text/plain": [
       "             Open   High    Low  Close    Volume    Change      sma      lma  \\\n",
       "Date                                                                           \n",
       "2010-01-29  16000  16019  15600  15680    457285 -0.029703  16196.0  16402.0   \n",
       "2010-02-01  15679  15700  15300  15540    501042 -0.008929  15936.0  16370.0   \n",
       "2010-02-02  15800  15800  15400  15440    393803 -0.006435  15764.0  16320.0   \n",
       "2010-02-03  15640  15700  15360  15540    330235  0.006477  15672.0  16256.0   \n",
       "2010-02-04  15500  15660  15440  15520    239799 -0.001287  15544.0  16219.0   \n",
       "...           ...    ...    ...    ...       ...       ...      ...      ...   \n",
       "2020-10-26  60400  61100  60100  60400  13268226  0.003322  60500.0  59610.0   \n",
       "2020-10-27  60300  60300  59500  59800  17260416 -0.009934  60280.0  59670.0   \n",
       "2020-10-28  59400  59400  58800  59000  14428882 -0.013378  59900.0  59730.0   \n",
       "2020-10-29  58200  58500  57500  58100  22636966 -0.015254  59500.0  59740.0   \n",
       "2020-10-30  58000  58000  56600  56600  26907844 -0.025818  58780.0  59660.0   \n",
       "\n",
       "            position       rtn   str_rtn  cum_str_rtn  \n",
       "Date                                                   \n",
       "2010-01-29         0  0.000000  0.000000     1.000000  \n",
       "2010-02-01         0 -0.008969 -0.000000     1.000000  \n",
       "2010-02-02         0 -0.006456 -0.000000     1.000000  \n",
       "2010-02-03         0  0.006456  0.000000     1.000000  \n",
       "2010-02-04         0 -0.001288 -0.000000     1.000000  \n",
       "...              ...       ...       ...          ...  \n",
       "2020-10-26         1  0.003317  0.003317     1.352149  \n",
       "2020-10-27         1 -0.009983 -0.009983     1.338717  \n",
       "2020-10-28         1 -0.013468 -0.013468     1.320808  \n",
       "2020-10-29         0 -0.015372 -0.015372     1.300660  \n",
       "2020-10-30         0 -0.026157 -0.000000     1.300660  \n",
       "\n",
       "[2653 rows x 12 columns]"
      ]
     },
     "execution_count": 19,
     "metadata": {},
     "output_type": "execute_result"
    }
   ],
   "source": [
    "df.loc[:, 'cum_str_rtn'] = get_cum_returns_df(df['str_rtn'], log=True)\n",
    "df"
   ]
  },
  {
   "cell_type": "code",
   "execution_count": 20,
   "id": "27c45c26",
   "metadata": {
    "scrolled": true
   },
   "outputs": [],
   "source": [
    "cagr = get_cagr_series(df['cum_str_rtn'], num_day_in_year = 250)\n",
    "sharp_ratio = get_sharpe_ratio(df['str_rtn'], yearly_rfr = 0.025)\n",
    "mdd, ldd_period, ldd_st, ldd_ed = get_drawdown_infos(df['cum_str_rtn'])"
   ]
  },
  {
   "cell_type": "code",
   "execution_count": 22,
   "id": "9c132e09",
   "metadata": {},
   "outputs": [
    {
     "name": "stdout",
     "output_type": "stream",
     "text": [
      "cagr :  0.02508052009815409\n",
      "sharp_ratio :  -0.00016068342693508565\n",
      "Longest_dd_period :  -1764\n",
      "Longest_dd_st_date : 2013-01-02 00:00:00\n",
      "Longest_dd_ed_date : 2017-11-01 00:00:00\n"
     ]
    }
   ],
   "source": [
    "print('cagr : ', cagr)\n",
    "print('sharp_ratio : ', sharp_ratio)\n",
    "# print('Max_drawdown : ', mdd_series)\n",
    "print('Longest_dd_period : ', ldd_period)\n",
    "print('Longest_dd_st_date :', ldd_st)\n",
    "print('Longest_dd_ed_date :', ldd_ed)"
   ]
  },
  {
   "cell_type": "code",
   "execution_count": 23,
   "id": "65149c9e",
   "metadata": {},
   "outputs": [
    {
     "data": {
      "text/plain": [
       "<AxesSubplot:xlabel='Date'>"
      ]
     },
     "execution_count": 23,
     "metadata": {},
     "output_type": "execute_result"
    },
    {
     "data": {
      "image/png": "[encoded data removed]",
      "text/plain": [
       "<Figure size 1080x360 with 1 Axes>"
      ]
     },
     "metadata": {
      "needs_background": "light"
     },
     "output_type": "display_data"
    }
   ],
   "source": [
    "df.loc[:, 'cum_str_rtn'].plot(figsize=(15,5))"
   ]
  },
  {
   "cell_type": "markdown",
   "id": "cdafec60",
   "metadata": {},
   "source": [
    "# Momentum : 상승한 종목에 재투자"
   ]
  },
  {
   "cell_type": "code",
   "execution_count": 24,
   "id": "4cd82c2b",
   "metadata": {},
   "outputs": [],
   "source": [
    "df = fdr.DataReader('005930','2018-01-02','2020-04-29')"
   ]
  },
  {
   "cell_type": "code",
   "execution_count": 25,
   "id": "845522cf",
   "metadata": {},
   "outputs": [],
   "source": [
    "momentum_window=20*3"
   ]
  },
  {
   "cell_type": "code",
   "execution_count": 26,
   "id": "07f0322f",
   "metadata": {},
   "outputs": [
    {
     "data": {
      "text/plain": [
       "Date\n",
       "2018-03-29    0.000000\n",
       "2018-03-30   -0.035280\n",
       "2018-04-02   -0.059667\n",
       "2018-04-03   -0.057948\n",
       "2018-04-04   -0.099770\n",
       "                ...   \n",
       "2020-04-23   -0.156514\n",
       "2020-04-24   -0.137238\n",
       "2020-04-27   -0.116135\n",
       "2020-04-28   -0.124126\n",
       "2020-04-29   -0.151104\n",
       "Name: Close, Length: 513, dtype: float64"
      ]
     },
     "execution_count": 26,
     "metadata": {},
     "output_type": "execute_result"
    }
   ],
   "source": [
    "get_returns_df(df['Close'], N=momentum_window)"
   ]
  },
  {
   "cell_type": "code",
   "execution_count": 27,
   "id": "f3a75503",
   "metadata": {},
   "outputs": [
    {
     "data": {
      "text/plain": [
       "Date\n",
       "2018-03-29    0.0\n",
       "2018-03-30   -1.0\n",
       "2018-04-02   -1.0\n",
       "2018-04-03   -1.0\n",
       "2018-04-04   -1.0\n",
       "Name: Close, dtype: float64"
      ]
     },
     "execution_count": 27,
     "metadata": {},
     "output_type": "execute_result"
    }
   ],
   "source": [
    "position = np.sign(get_returns_df(df['Close'], N=momentum_window))   # 3개월동안 올랐으면 1, 안올랐으면 -1\n",
    "position.head()"
   ]
  },
  {
   "cell_type": "code",
   "execution_count": 28,
   "id": "e7102a6e",
   "metadata": {},
   "outputs": [
    {
     "data": {
      "text/plain": [
       " 1.0    276\n",
       "-1.0    233\n",
       " 0.0      4\n",
       "Name: Close, dtype: int64"
      ]
     },
     "execution_count": 28,
     "metadata": {},
     "output_type": "execute_result"
    }
   ],
   "source": [
    "position.value_counts()"
   ]
  },
  {
   "cell_type": "code",
   "execution_count": 29,
   "id": "1f40b467",
   "metadata": {},
   "outputs": [],
   "source": [
    "position[position == -1] = 0"
   ]
  },
  {
   "cell_type": "code",
   "execution_count": 30,
   "id": "4277d9ef",
   "metadata": {},
   "outputs": [
    {
     "data": {
      "text/plain": [
       "1.0    276\n",
       "0.0    237\n",
       "Name: Close, dtype: int64"
      ]
     },
     "execution_count": 30,
     "metadata": {},
     "output_type": "execute_result"
    }
   ],
   "source": [
    "position.value_counts()"
   ]
  },
  {
   "cell_type": "code",
   "execution_count": 31,
   "id": "32e7328c",
   "metadata": {},
   "outputs": [
    {
     "data": {
      "text/plain": [
       "<AxesSubplot:xlabel='Date'>"
      ]
     },
     "execution_count": 31,
     "metadata": {},
     "output_type": "execute_result"
    },
    {
     "data": {
      "image/png": "[encoded data removed]",
      "text/plain": [
       "<Figure size 1080x144 with 1 Axes>"
      ]
     },
     "metadata": {
      "needs_background": "light"
     },
     "output_type": "display_data"
    }
   ],
   "source": [
    "position.plot(marker='.', linestyle='none', figsize=(15,2), ylim=[-1.01, 1.7])"
   ]
  },
  {
   "cell_type": "code",
   "execution_count": 32,
   "id": "72a0d381",
   "metadata": {},
   "outputs": [],
   "source": [
    "df.loc[:, 'position'] = position"
   ]
  },
  {
   "cell_type": "code",
   "execution_count": 33,
   "id": "b379005b",
   "metadata": {},
   "outputs": [],
   "source": [
    "df.dropna(inplace=True)"
   ]
  },
  {
   "cell_type": "code",
   "execution_count": 34,
   "id": "d284d545",
   "metadata": {},
   "outputs": [],
   "source": [
    "long_index = df[(df['position'] - df['position'].shift(1)) == 1].index\n",
    "exit_index = df[(df['position'] - df['position'].shift(1)) == -1].index"
   ]
  },
  {
   "cell_type": "code",
   "execution_count": 35,
   "id": "3afcce94",
   "metadata": {},
   "outputs": [
    {
     "data": {
      "text/plain": [
       "<AxesSubplot:xlabel='Date'>"
      ]
     },
     "execution_count": 35,
     "metadata": {},
     "output_type": "execute_result"
    },
    {
     "data": {
      "image/png": "[encoded data removed]",
      "text/plain": [
       "<Figure size 1080x360 with 1 Axes>"
      ]
     },
     "metadata": {
      "needs_background": "light"
     },
     "output_type": "display_data"
    }
   ],
   "source": [
    "ax = df.loc[:, 'Close'].loc['2019-01-01':].plot(figsize=(15,5))\n",
    "\n",
    "df.loc[long_index, 'Close'].loc['2019-01-01':].plot(ax=ax, marker='o', color='red', linestyle='none', markersize=3)\n",
    "df.loc[exit_index, 'Close'].loc['2019-01-01':].plot(ax=ax, marker='o', color='blue', linestyle='none', markersize=3)"
   ]
  },
  {
   "cell_type": "code",
   "execution_count": 36,
   "id": "69c3cae5",
   "metadata": {},
   "outputs": [],
   "source": [
    "df.loc[:,'rtn'] = get_returns_df(df['Close'], N=1, log=True)\n",
    "df.loc[:, 'str_rtn'] = (df['position'].shift(1) * df['rtn']).fillna(0)  # 투자수익률\n",
    "\n",
    "df.loc[:, 'cum_str_rtn'] = get_cum_returns_df(df['str_rtn'], log=True)  # 누적 투자 수익률"
   ]
  },
  {
   "cell_type": "code",
   "execution_count": 37,
   "id": "737c95a4",
   "metadata": {},
   "outputs": [
    {
     "data": {
      "text/html": [
       "<div>\n",
       "<style scoped>\n",
       "    .dataframe tbody tr th:only-of-type {\n",
       "        vertical-align: middle;\n",
       "    }\n",
       "\n",
       "    .dataframe tbody tr th {\n",
       "        vertical-align: top;\n",
       "    }\n",
       "\n",
       "    .dataframe thead th {\n",
       "        text-align: right;\n",
       "    }\n",
       "</style>\n",
       "<table border=\"1\" class=\"dataframe\">\n",
       "  <thead>\n",
       "    <tr style=\"text-align: right;\">\n",
       "      <th></th>\n",
       "      <th>Open</th>\n",
       "      <th>High</th>\n",
       "      <th>Low</th>\n",
       "      <th>Close</th>\n",
       "      <th>Volume</th>\n",
       "      <th>Change</th>\n",
       "      <th>position</th>\n",
       "      <th>rtn</th>\n",
       "      <th>str_rtn</th>\n",
       "      <th>cum_str_rtn</th>\n",
       "    </tr>\n",
       "    <tr>\n",
       "      <th>Date</th>\n",
       "      <th></th>\n",
       "      <th></th>\n",
       "      <th></th>\n",
       "      <th></th>\n",
       "      <th></th>\n",
       "      <th></th>\n",
       "      <th></th>\n",
       "      <th></th>\n",
       "      <th></th>\n",
       "      <th></th>\n",
       "    </tr>\n",
       "  </thead>\n",
       "  <tbody>\n",
       "    <tr>\n",
       "      <th>2018-03-29</th>\n",
       "      <td>48700</td>\n",
       "      <td>49560</td>\n",
       "      <td>48320</td>\n",
       "      <td>49040</td>\n",
       "      <td>201340</td>\n",
       "      <td>0.006982</td>\n",
       "      <td>0.0</td>\n",
       "      <td>0.000000</td>\n",
       "      <td>0.0</td>\n",
       "      <td>1.000000</td>\n",
       "    </tr>\n",
       "    <tr>\n",
       "      <th>2018-03-30</th>\n",
       "      <td>49080</td>\n",
       "      <td>49900</td>\n",
       "      <td>49080</td>\n",
       "      <td>49220</td>\n",
       "      <td>155542</td>\n",
       "      <td>0.003670</td>\n",
       "      <td>0.0</td>\n",
       "      <td>0.003664</td>\n",
       "      <td>0.0</td>\n",
       "      <td>1.000000</td>\n",
       "    </tr>\n",
       "    <tr>\n",
       "      <th>2018-04-02</th>\n",
       "      <td>49000</td>\n",
       "      <td>49220</td>\n",
       "      <td>48500</td>\n",
       "      <td>48540</td>\n",
       "      <td>142313</td>\n",
       "      <td>-0.013816</td>\n",
       "      <td>0.0</td>\n",
       "      <td>-0.013912</td>\n",
       "      <td>-0.0</td>\n",
       "      <td>1.000000</td>\n",
       "    </tr>\n",
       "    <tr>\n",
       "      <th>2018-04-03</th>\n",
       "      <td>47880</td>\n",
       "      <td>48140</td>\n",
       "      <td>47280</td>\n",
       "      <td>48120</td>\n",
       "      <td>255365</td>\n",
       "      <td>-0.008653</td>\n",
       "      <td>0.0</td>\n",
       "      <td>-0.008690</td>\n",
       "      <td>-0.0</td>\n",
       "      <td>1.000000</td>\n",
       "    </tr>\n",
       "    <tr>\n",
       "      <th>2018-04-04</th>\n",
       "      <td>48160</td>\n",
       "      <td>48260</td>\n",
       "      <td>46920</td>\n",
       "      <td>46920</td>\n",
       "      <td>247684</td>\n",
       "      <td>-0.024938</td>\n",
       "      <td>0.0</td>\n",
       "      <td>-0.025254</td>\n",
       "      <td>-0.0</td>\n",
       "      <td>1.000000</td>\n",
       "    </tr>\n",
       "    <tr>\n",
       "      <th>...</th>\n",
       "      <td>...</td>\n",
       "      <td>...</td>\n",
       "      <td>...</td>\n",
       "      <td>...</td>\n",
       "      <td>...</td>\n",
       "      <td>...</td>\n",
       "      <td>...</td>\n",
       "      <td>...</td>\n",
       "      <td>...</td>\n",
       "      <td>...</td>\n",
       "    </tr>\n",
       "    <tr>\n",
       "      <th>2020-04-23</th>\n",
       "      <td>50200</td>\n",
       "      <td>50300</td>\n",
       "      <td>49500</td>\n",
       "      <td>49850</td>\n",
       "      <td>18754442</td>\n",
       "      <td>0.000000</td>\n",
       "      <td>0.0</td>\n",
       "      <td>0.000000</td>\n",
       "      <td>0.0</td>\n",
       "      <td>0.976559</td>\n",
       "    </tr>\n",
       "    <tr>\n",
       "      <th>2020-04-24</th>\n",
       "      <td>49650</td>\n",
       "      <td>49750</td>\n",
       "      <td>49000</td>\n",
       "      <td>49350</td>\n",
       "      <td>15618347</td>\n",
       "      <td>-0.010030</td>\n",
       "      <td>0.0</td>\n",
       "      <td>-0.010081</td>\n",
       "      <td>-0.0</td>\n",
       "      <td>0.976559</td>\n",
       "    </tr>\n",
       "    <tr>\n",
       "      <th>2020-04-27</th>\n",
       "      <td>49350</td>\n",
       "      <td>50000</td>\n",
       "      <td>49100</td>\n",
       "      <td>49850</td>\n",
       "      <td>14049471</td>\n",
       "      <td>0.010132</td>\n",
       "      <td>0.0</td>\n",
       "      <td>0.010081</td>\n",
       "      <td>0.0</td>\n",
       "      <td>0.976559</td>\n",
       "    </tr>\n",
       "    <tr>\n",
       "      <th>2020-04-28</th>\n",
       "      <td>49850</td>\n",
       "      <td>50100</td>\n",
       "      <td>49300</td>\n",
       "      <td>50100</td>\n",
       "      <td>16095399</td>\n",
       "      <td>0.005015</td>\n",
       "      <td>0.0</td>\n",
       "      <td>0.005003</td>\n",
       "      <td>0.0</td>\n",
       "      <td>0.976559</td>\n",
       "    </tr>\n",
       "    <tr>\n",
       "      <th>2020-04-29</th>\n",
       "      <td>49900</td>\n",
       "      <td>50500</td>\n",
       "      <td>49600</td>\n",
       "      <td>50000</td>\n",
       "      <td>15604533</td>\n",
       "      <td>-0.001996</td>\n",
       "      <td>0.0</td>\n",
       "      <td>-0.001998</td>\n",
       "      <td>-0.0</td>\n",
       "      <td>0.976559</td>\n",
       "    </tr>\n",
       "  </tbody>\n",
       "</table>\n",
       "<p>513 rows × 10 columns</p>\n",
       "</div>"
      ],
      "text/plain": [
       "             Open   High    Low  Close    Volume    Change  position  \\\n",
       "Date                                                                   \n",
       "2018-03-29  48700  49560  48320  49040    201340  0.006982       0.0   \n",
       "2018-03-30  49080  49900  49080  49220    155542  0.003670       0.0   \n",
       "2018-04-02  49000  49220  48500  48540    142313 -0.013816       0.0   \n",
       "2018-04-03  47880  48140  47280  48120    255365 -0.008653       0.0   \n",
       "2018-04-04  48160  48260  46920  46920    247684 -0.024938       0.0   \n",
       "...           ...    ...    ...    ...       ...       ...       ...   \n",
       "2020-04-23  50200  50300  49500  49850  18754442  0.000000       0.0   \n",
       "2020-04-24  49650  49750  49000  49350  15618347 -0.010030       0.0   \n",
       "2020-04-27  49350  50000  49100  49850  14049471  0.010132       0.0   \n",
       "2020-04-28  49850  50100  49300  50100  16095399  0.005015       0.0   \n",
       "2020-04-29  49900  50500  49600  50000  15604533 -0.001996       0.0   \n",
       "\n",
       "                 rtn  str_rtn  cum_str_rtn  \n",
       "Date                                        \n",
       "2018-03-29  0.000000      0.0     1.000000  \n",
       "2018-03-30  0.003664      0.0     1.000000  \n",
       "2018-04-02 -0.013912     -0.0     1.000000  \n",
       "2018-04-03 -0.008690     -0.0     1.000000  \n",
       "2018-04-04 -0.025254     -0.0     1.000000  \n",
       "...              ...      ...          ...  \n",
       "2020-04-23  0.000000      0.0     0.976559  \n",
       "2020-04-24 -0.010081     -0.0     0.976559  \n",
       "2020-04-27  0.010081      0.0     0.976559  \n",
       "2020-04-28  0.005003      0.0     0.976559  \n",
       "2020-04-29 -0.001998     -0.0     0.976559  \n",
       "\n",
       "[513 rows x 10 columns]"
      ]
     },
     "execution_count": 37,
     "metadata": {},
     "output_type": "execute_result"
    }
   ],
   "source": [
    "df"
   ]
  },
  {
   "cell_type": "code",
   "execution_count": 38,
   "id": "a2018dcf",
   "metadata": {},
   "outputs": [],
   "source": [
    "cagr = get_cagr_series(df['cum_str_rtn'], num_day_in_year = 250)\n",
    "sharp_ratio = get_sharpe_ratio(df['str_rtn'], yearly_rfr = 0.025)\n",
    "mdd_series, longest_dd_period, ldd_st, ldd_ed = get_drawdown_infos(df['cum_str_rtn'])"
   ]
  },
  {
   "cell_type": "code",
   "execution_count": 39,
   "id": "d4ad2671",
   "metadata": {},
   "outputs": [
    {
     "name": "stdout",
     "output_type": "stream",
     "text": [
      "cagr :  -0.01149304459923095\n",
      "sharp_ratio :  -0.20182715537169668\n",
      "Max_drawdown :  -0.18589743589743601\n",
      "Longest_dd_period :  -607\n",
      "Longest_dd_st_date : 2018-04-19 00:00:00\n",
      "Longest_dd_ed_date : 2019-12-17 00:00:00\n"
     ]
    }
   ],
   "source": [
    "print('cagr : ', cagr)\n",
    "print('sharp_ratio : ', sharp_ratio)\n",
    "print('Max_drawdown : ', mdd_series)\n",
    "print('Longest_dd_period : ', longest_dd_period)\n",
    "print('Longest_dd_st_date :', ldd_st)\n",
    "print('Longest_dd_ed_date :', ldd_ed)"
   ]
  },
  {
   "cell_type": "code",
   "execution_count": 40,
   "id": "1048d888",
   "metadata": {},
   "outputs": [
    {
     "data": {
      "text/plain": [
       "<AxesSubplot:xlabel='Date'>"
      ]
     },
     "execution_count": 40,
     "metadata": {},
     "output_type": "execute_result"
    },
    {
     "data": {
      "image/png": "[encoded data removed]",
      "text/plain": [
       "<Figure size 1080x360 with 1 Axes>"
      ]
     },
     "metadata": {
      "needs_background": "light"
     },
     "output_type": "display_data"
    }
   ],
   "source": [
    "df.loc[:, 'cum_str_rtn'].plot(figsize=(15,5))"
   ]
  },
  {
   "cell_type": "code",
   "execution_count": 41,
   "id": "72275db9",
   "metadata": {},
   "outputs": [],
   "source": [
    "def momentum(df, mw):\n",
    "    \n",
    "    momentum_window=mw\n",
    "    \n",
    "    position = np.sign(get_returns_df(df['Close'], N=momentum_window))\n",
    "    position[position == -1] = 0\n",
    "    \n",
    "    df.loc[:, 'position'] = position\n",
    "    df.dropna(inplace=True)\n",
    "    \n",
    "    df.loc[:, 'rtn'] = get_returns_df(df['Close'], N=1, log=True)\n",
    "    df.loc[:, 'str_rtn'] = (df['position'].shift(1) * df['rtn']).fillna(0)\n",
    "\n",
    "    df.loc[:, 'cum_str_rtn'] = get_cum_returns_df(df['str_rtn'], log=True)\n",
    "    \n",
    "    cagr = get_cagr_series(df['cum_str_rtn'], num_day_in_year = 250)\n",
    "    sharp_ratio = get_sharpe_ratio(df['str_rtn'], yearly_rfr = 0.025)\n",
    "    mdd, ldd_period, ldd_st, ldd_ed = get_drawdown_infos(df['cum_str_rtn'])\n",
    "    \n",
    "    print('cagr :', cagr)\n",
    "    print('sharp_ratio :', sharp_ratio)\n",
    "    print('Max_drawdown :', mdd_series)\n",
    "    print('Longest_dd_period :', ldd_period)\n",
    "    print('Longest_dd_st_date :', ldd_st)\n",
    "    print('Longest_dd_ed_date :', ldd_ed)\n",
    "    \n",
    "    df.loc[:, 'cum_str_rtn'].plot(figsize=(15,5))\n",
    "    \n",
    "    "
   ]
  },
  {
   "cell_type": "code",
   "execution_count": 42,
   "id": "4dc658ed",
   "metadata": {},
   "outputs": [
    {
     "name": "stdout",
     "output_type": "stream",
     "text": [
      "cagr : -0.01415643719104065\n",
      "sharp_ratio : -0.11531905486453485\n",
      "Max_drawdown : -0.18589743589743601\n",
      "Longest_dd_period : -13\n",
      "Longest_dd_st_date : 2018-05-15 00:00:00\n",
      "Longest_dd_ed_date : 2018-05-28 00:00:00\n"
     ]
    },
    {
     "data": {
      "image/png": "[encoded data removed]",
      "text/plain": [
       "<Figure size 1080x360 with 1 Axes>"
      ]
     },
     "metadata": {
      "needs_background": "light"
     },
     "output_type": "display_data"
    }
   ],
   "source": [
    "df = fdr.DataReader('000720','2018-01-02','2022-04-29')\n",
    "mw = 60\n",
    "\n",
    "momentum(df, mw)"
   ]
  },
  {
   "cell_type": "markdown",
   "id": "65b8f4f7",
   "metadata": {},
   "source": [
    "# Mean-Reversion 전략"
   ]
  },
  {
   "cell_type": "code",
   "execution_count": 44,
   "id": "f3e7b6f7",
   "metadata": {},
   "outputs": [
    {
     "data": {
      "text/html": [
       "<div>\n",
       "<style scoped>\n",
       "    .dataframe tbody tr th:only-of-type {\n",
       "        vertical-align: middle;\n",
       "    }\n",
       "\n",
       "    .dataframe tbody tr th {\n",
       "        vertical-align: top;\n",
       "    }\n",
       "\n",
       "    .dataframe thead th {\n",
       "        text-align: right;\n",
       "    }\n",
       "</style>\n",
       "<table border=\"1\" class=\"dataframe\">\n",
       "  <thead>\n",
       "    <tr style=\"text-align: right;\">\n",
       "      <th></th>\n",
       "      <th>Open</th>\n",
       "      <th>High</th>\n",
       "      <th>Low</th>\n",
       "      <th>Close</th>\n",
       "      <th>Volume</th>\n",
       "      <th>Change</th>\n",
       "    </tr>\n",
       "    <tr>\n",
       "      <th>Date</th>\n",
       "      <th></th>\n",
       "      <th></th>\n",
       "      <th></th>\n",
       "      <th></th>\n",
       "      <th></th>\n",
       "      <th></th>\n",
       "    </tr>\n",
       "  </thead>\n",
       "  <tbody>\n",
       "    <tr>\n",
       "      <th>2018-01-02</th>\n",
       "      <td>51380</td>\n",
       "      <td>51400</td>\n",
       "      <td>50780</td>\n",
       "      <td>51020</td>\n",
       "      <td>169485</td>\n",
       "      <td>0.001177</td>\n",
       "    </tr>\n",
       "    <tr>\n",
       "      <th>2018-01-03</th>\n",
       "      <td>52540</td>\n",
       "      <td>52560</td>\n",
       "      <td>51420</td>\n",
       "      <td>51620</td>\n",
       "      <td>200270</td>\n",
       "      <td>0.011760</td>\n",
       "    </tr>\n",
       "    <tr>\n",
       "      <th>2018-01-04</th>\n",
       "      <td>52120</td>\n",
       "      <td>52180</td>\n",
       "      <td>50640</td>\n",
       "      <td>51080</td>\n",
       "      <td>233909</td>\n",
       "      <td>-0.010461</td>\n",
       "    </tr>\n",
       "    <tr>\n",
       "      <th>2018-01-05</th>\n",
       "      <td>51300</td>\n",
       "      <td>52120</td>\n",
       "      <td>51200</td>\n",
       "      <td>52120</td>\n",
       "      <td>189623</td>\n",
       "      <td>0.020360</td>\n",
       "    </tr>\n",
       "    <tr>\n",
       "      <th>2018-01-08</th>\n",
       "      <td>52400</td>\n",
       "      <td>52520</td>\n",
       "      <td>51500</td>\n",
       "      <td>52020</td>\n",
       "      <td>167673</td>\n",
       "      <td>-0.001919</td>\n",
       "    </tr>\n",
       "  </tbody>\n",
       "</table>\n",
       "</div>"
      ],
      "text/plain": [
       "             Open   High    Low  Close  Volume    Change\n",
       "Date                                                    \n",
       "2018-01-02  51380  51400  50780  51020  169485  0.001177\n",
       "2018-01-03  52540  52560  51420  51620  200270  0.011760\n",
       "2018-01-04  52120  52180  50640  51080  233909 -0.010461\n",
       "2018-01-05  51300  52120  51200  52120  189623  0.020360\n",
       "2018-01-08  52400  52520  51500  52020  167673 -0.001919"
      ]
     },
     "execution_count": 44,
     "metadata": {},
     "output_type": "execute_result"
    }
   ],
   "source": [
    "df = fdr.DataReader('005930', '2018-01-02', '2024-04-30')\n",
    "df.head()"
   ]
  },
  {
   "cell_type": "code",
   "execution_count": 45,
   "id": "32b7a458",
   "metadata": {},
   "outputs": [
    {
     "data": {
      "text/html": [
       "<div>\n",
       "<style scoped>\n",
       "    .dataframe tbody tr th:only-of-type {\n",
       "        vertical-align: middle;\n",
       "    }\n",
       "\n",
       "    .dataframe tbody tr th {\n",
       "        vertical-align: top;\n",
       "    }\n",
       "\n",
       "    .dataframe thead th {\n",
       "        text-align: right;\n",
       "    }\n",
       "</style>\n",
       "<table border=\"1\" class=\"dataframe\">\n",
       "  <thead>\n",
       "    <tr style=\"text-align: right;\">\n",
       "      <th></th>\n",
       "      <th>Close</th>\n",
       "    </tr>\n",
       "    <tr>\n",
       "      <th>Date</th>\n",
       "      <th></th>\n",
       "    </tr>\n",
       "  </thead>\n",
       "  <tbody>\n",
       "    <tr>\n",
       "      <th>2018-01-02</th>\n",
       "      <td>51020</td>\n",
       "    </tr>\n",
       "    <tr>\n",
       "      <th>2018-01-03</th>\n",
       "      <td>51620</td>\n",
       "    </tr>\n",
       "    <tr>\n",
       "      <th>2018-01-04</th>\n",
       "      <td>51080</td>\n",
       "    </tr>\n",
       "    <tr>\n",
       "      <th>2018-01-05</th>\n",
       "      <td>52120</td>\n",
       "    </tr>\n",
       "    <tr>\n",
       "      <th>2018-01-08</th>\n",
       "      <td>52020</td>\n",
       "    </tr>\n",
       "    <tr>\n",
       "      <th>...</th>\n",
       "      <td>...</td>\n",
       "    </tr>\n",
       "    <tr>\n",
       "      <th>2022-04-25</th>\n",
       "      <td>66300</td>\n",
       "    </tr>\n",
       "    <tr>\n",
       "      <th>2022-04-26</th>\n",
       "      <td>66100</td>\n",
       "    </tr>\n",
       "    <tr>\n",
       "      <th>2022-04-27</th>\n",
       "      <td>65000</td>\n",
       "    </tr>\n",
       "    <tr>\n",
       "      <th>2022-04-28</th>\n",
       "      <td>64800</td>\n",
       "    </tr>\n",
       "    <tr>\n",
       "      <th>2022-04-29</th>\n",
       "      <td>67100</td>\n",
       "    </tr>\n",
       "  </tbody>\n",
       "</table>\n",
       "<p>1066 rows × 1 columns</p>\n",
       "</div>"
      ],
      "text/plain": [
       "            Close\n",
       "Date             \n",
       "2018-01-02  51020\n",
       "2018-01-03  51620\n",
       "2018-01-04  51080\n",
       "2018-01-05  52120\n",
       "2018-01-08  52020\n",
       "...           ...\n",
       "2022-04-25  66300\n",
       "2022-04-26  66100\n",
       "2022-04-27  65000\n",
       "2022-04-28  64800\n",
       "2022-04-29  67100\n",
       "\n",
       "[1066 rows x 1 columns]"
      ]
     },
     "execution_count": 45,
     "metadata": {},
     "output_type": "execute_result"
    }
   ],
   "source": [
    "df = df[['Close']]\n",
    "df"
   ]
  },
  {
   "cell_type": "code",
   "execution_count": 47,
   "id": "177f4a12",
   "metadata": {},
   "outputs": [],
   "source": [
    "window = 20  # 하이퍼파라미터\n",
    "df.loc[:, 'sma'] = df['Close'].rolling(window).mean()  # 이동평균"
   ]
  },
  {
   "cell_type": "code",
   "execution_count": 52,
   "id": "b5f5d9ab",
   "metadata": {},
   "outputs": [],
   "source": [
    "rolling_std = df['Close'].rolling(window).std()"
   ]
  },
  {
   "cell_type": "code",
   "execution_count": 53,
   "id": "e47940a1",
   "metadata": {},
   "outputs": [],
   "source": [
    "df.dropna(inplace=True)"
   ]
  },
  {
   "cell_type": "code",
   "execution_count": 54,
   "id": "eb40e5ff",
   "metadata": {},
   "outputs": [
    {
     "data": {
      "text/plain": [
       "<AxesSubplot:xlabel='Date'>"
      ]
     },
     "execution_count": 54,
     "metadata": {},
     "output_type": "execute_result"
    },
    {
     "data": {
      "image/png": "[encoded data removed]",
      "text/plain": [
       "<Figure size 1080x360 with 1 Axes>"
      ]
     },
     "metadata": {
      "needs_background": "light"
     },
     "output_type": "display_data"
    }
   ],
   "source": [
    "df.plot(figsize=(15,5))"
   ]
  },
  {
   "cell_type": "code",
   "execution_count": 55,
   "id": "4324d35d",
   "metadata": {},
   "outputs": [],
   "source": [
    "df['+threshold'] = df['sma'] + 2*rolling_std  #상단밴드\n",
    "df['-threshold'] = df['sma'] - 2*rolling_std   #하단밴드"
   ]
  },
  {
   "cell_type": "code",
   "execution_count": 58,
   "id": "cbc44d35",
   "metadata": {},
   "outputs": [
    {
     "data": {
      "text/html": [
       "<div>\n",
       "<style scoped>\n",
       "    .dataframe tbody tr th:only-of-type {\n",
       "        vertical-align: middle;\n",
       "    }\n",
       "\n",
       "    .dataframe tbody tr th {\n",
       "        vertical-align: top;\n",
       "    }\n",
       "\n",
       "    .dataframe thead th {\n",
       "        text-align: right;\n",
       "    }\n",
       "</style>\n",
       "<table border=\"1\" class=\"dataframe\">\n",
       "  <thead>\n",
       "    <tr style=\"text-align: right;\">\n",
       "      <th></th>\n",
       "      <th>Close</th>\n",
       "      <th>sma</th>\n",
       "      <th>+threshold</th>\n",
       "      <th>-threshold</th>\n",
       "    </tr>\n",
       "    <tr>\n",
       "      <th>Date</th>\n",
       "      <th></th>\n",
       "      <th></th>\n",
       "      <th></th>\n",
       "      <th></th>\n",
       "    </tr>\n",
       "  </thead>\n",
       "  <tbody>\n",
       "    <tr>\n",
       "      <th>2018-01-29</th>\n",
       "      <td>51220</td>\n",
       "      <td>49996.0</td>\n",
       "      <td>52525.842100</td>\n",
       "      <td>47466.157900</td>\n",
       "    </tr>\n",
       "    <tr>\n",
       "      <th>2018-01-30</th>\n",
       "      <td>49800</td>\n",
       "      <td>49935.0</td>\n",
       "      <td>52419.304414</td>\n",
       "      <td>47450.695586</td>\n",
       "    </tr>\n",
       "    <tr>\n",
       "      <th>2018-01-31</th>\n",
       "      <td>49900</td>\n",
       "      <td>49849.0</td>\n",
       "      <td>52203.390300</td>\n",
       "      <td>47494.609700</td>\n",
       "    </tr>\n",
       "    <tr>\n",
       "      <th>2018-02-01</th>\n",
       "      <td>49820</td>\n",
       "      <td>49786.0</td>\n",
       "      <td>52068.015729</td>\n",
       "      <td>47503.984271</td>\n",
       "    </tr>\n",
       "    <tr>\n",
       "      <th>2018-02-02</th>\n",
       "      <td>47700</td>\n",
       "      <td>49565.0</td>\n",
       "      <td>51749.302852</td>\n",
       "      <td>47380.697148</td>\n",
       "    </tr>\n",
       "  </tbody>\n",
       "</table>\n",
       "</div>"
      ],
      "text/plain": [
       "            Close      sma    +threshold    -threshold\n",
       "Date                                                  \n",
       "2018-01-29  51220  49996.0  52525.842100  47466.157900\n",
       "2018-01-30  49800  49935.0  52419.304414  47450.695586\n",
       "2018-01-31  49900  49849.0  52203.390300  47494.609700\n",
       "2018-02-01  49820  49786.0  52068.015729  47503.984271\n",
       "2018-02-02  47700  49565.0  51749.302852  47380.697148"
      ]
     },
     "execution_count": 58,
     "metadata": {},
     "output_type": "execute_result"
    }
   ],
   "source": [
    "df.head()"
   ]
  },
  {
   "cell_type": "code",
   "execution_count": 57,
   "id": "c0145f95",
   "metadata": {},
   "outputs": [
    {
     "data": {
      "text/plain": [
       "<AxesSubplot:xlabel='Date'>"
      ]
     },
     "execution_count": 57,
     "metadata": {},
     "output_type": "execute_result"
    },
    {
     "data": {
      "image/png": "[encoded data removed]",
      "text/plain": [
       "<Figure size 1080x360 with 1 Axes>"
      ]
     },
     "metadata": {
      "needs_background": "light"
     },
     "output_type": "display_data"
    }
   ],
   "source": [
    "df.plot(figsize=(15,5))"
   ]
  },
  {
   "cell_type": "code",
   "execution_count": 60,
   "id": "51b799d7",
   "metadata": {},
   "outputs": [
    {
     "data": {
      "text/plain": [
       "<AxesSubplot:xlabel='Date'>"
      ]
     },
     "execution_count": 60,
     "metadata": {},
     "output_type": "execute_result"
    },
    {
     "data": {
      "image/png": "[encoded data removed]",
      "text/plain": [
       "<Figure size 1080x360 with 1 Axes>"
      ]
     },
     "metadata": {
      "needs_background": "light"
     },
     "output_type": "display_data"
    }
   ],
   "source": [
    "df[['Close','sma','+threshold','-threshold']].iloc[-300:].plot(figsize=(15,5))"
   ]
  },
  {
   "cell_type": "code",
   "execution_count": 62,
   "id": "5ba1f8a0",
   "metadata": {},
   "outputs": [],
   "source": [
    "pos1 = np.where(df['Close'] <= df['-threshold'], 1, 0)  # 매수\n",
    "pos2 = np.where(df['Close'] >= df['+threshold'], -1, 0)  # 매도\n",
    "\n",
    "df.loc[:, 'position'] = pos1 + pos2"
   ]
  },
  {
   "cell_type": "code",
   "execution_count": 63,
   "id": "a8c94ed3",
   "metadata": {},
   "outputs": [
    {
     "data": {
      "text/html": [
       "<div>\n",
       "<style scoped>\n",
       "    .dataframe tbody tr th:only-of-type {\n",
       "        vertical-align: middle;\n",
       "    }\n",
       "\n",
       "    .dataframe tbody tr th {\n",
       "        vertical-align: top;\n",
       "    }\n",
       "\n",
       "    .dataframe thead th {\n",
       "        text-align: right;\n",
       "    }\n",
       "</style>\n",
       "<table border=\"1\" class=\"dataframe\">\n",
       "  <thead>\n",
       "    <tr style=\"text-align: right;\">\n",
       "      <th></th>\n",
       "      <th>Close</th>\n",
       "      <th>sma</th>\n",
       "      <th>+threshold</th>\n",
       "      <th>-threshold</th>\n",
       "      <th>position</th>\n",
       "    </tr>\n",
       "    <tr>\n",
       "      <th>Date</th>\n",
       "      <th></th>\n",
       "      <th></th>\n",
       "      <th></th>\n",
       "      <th></th>\n",
       "      <th></th>\n",
       "    </tr>\n",
       "  </thead>\n",
       "  <tbody>\n",
       "    <tr>\n",
       "      <th>2018-01-29</th>\n",
       "      <td>51220</td>\n",
       "      <td>49996.0</td>\n",
       "      <td>52525.842100</td>\n",
       "      <td>47466.157900</td>\n",
       "      <td>0</td>\n",
       "    </tr>\n",
       "    <tr>\n",
       "      <th>2018-01-30</th>\n",
       "      <td>49800</td>\n",
       "      <td>49935.0</td>\n",
       "      <td>52419.304414</td>\n",
       "      <td>47450.695586</td>\n",
       "      <td>0</td>\n",
       "    </tr>\n",
       "    <tr>\n",
       "      <th>2018-01-31</th>\n",
       "      <td>49900</td>\n",
       "      <td>49849.0</td>\n",
       "      <td>52203.390300</td>\n",
       "      <td>47494.609700</td>\n",
       "      <td>0</td>\n",
       "    </tr>\n",
       "    <tr>\n",
       "      <th>2018-02-01</th>\n",
       "      <td>49820</td>\n",
       "      <td>49786.0</td>\n",
       "      <td>52068.015729</td>\n",
       "      <td>47503.984271</td>\n",
       "      <td>0</td>\n",
       "    </tr>\n",
       "    <tr>\n",
       "      <th>2018-02-02</th>\n",
       "      <td>47700</td>\n",
       "      <td>49565.0</td>\n",
       "      <td>51749.302852</td>\n",
       "      <td>47380.697148</td>\n",
       "      <td>0</td>\n",
       "    </tr>\n",
       "    <tr>\n",
       "      <th>...</th>\n",
       "      <td>...</td>\n",
       "      <td>...</td>\n",
       "      <td>...</td>\n",
       "      <td>...</td>\n",
       "      <td>...</td>\n",
       "    </tr>\n",
       "    <tr>\n",
       "      <th>2022-04-25</th>\n",
       "      <td>66300</td>\n",
       "      <td>68085.0</td>\n",
       "      <td>70412.207498</td>\n",
       "      <td>65757.792502</td>\n",
       "      <td>0</td>\n",
       "    </tr>\n",
       "    <tr>\n",
       "      <th>2022-04-26</th>\n",
       "      <td>66100</td>\n",
       "      <td>67880.0</td>\n",
       "      <td>70144.229856</td>\n",
       "      <td>65615.770144</td>\n",
       "      <td>0</td>\n",
       "    </tr>\n",
       "    <tr>\n",
       "      <th>2022-04-27</th>\n",
       "      <td>65000</td>\n",
       "      <td>67635.0</td>\n",
       "      <td>70035.241216</td>\n",
       "      <td>65234.758784</td>\n",
       "      <td>1</td>\n",
       "    </tr>\n",
       "    <tr>\n",
       "      <th>2022-04-28</th>\n",
       "      <td>64800</td>\n",
       "      <td>67395.0</td>\n",
       "      <td>69924.385197</td>\n",
       "      <td>64865.614803</td>\n",
       "      <td>1</td>\n",
       "    </tr>\n",
       "    <tr>\n",
       "      <th>2022-04-29</th>\n",
       "      <td>67100</td>\n",
       "      <td>67295.0</td>\n",
       "      <td>69695.416631</td>\n",
       "      <td>64894.583369</td>\n",
       "      <td>0</td>\n",
       "    </tr>\n",
       "  </tbody>\n",
       "</table>\n",
       "<p>1047 rows × 5 columns</p>\n",
       "</div>"
      ],
      "text/plain": [
       "            Close      sma    +threshold    -threshold  position\n",
       "Date                                                            \n",
       "2018-01-29  51220  49996.0  52525.842100  47466.157900         0\n",
       "2018-01-30  49800  49935.0  52419.304414  47450.695586         0\n",
       "2018-01-31  49900  49849.0  52203.390300  47494.609700         0\n",
       "2018-02-01  49820  49786.0  52068.015729  47503.984271         0\n",
       "2018-02-02  47700  49565.0  51749.302852  47380.697148         0\n",
       "...           ...      ...           ...           ...       ...\n",
       "2022-04-25  66300  68085.0  70412.207498  65757.792502         0\n",
       "2022-04-26  66100  67880.0  70144.229856  65615.770144         0\n",
       "2022-04-27  65000  67635.0  70035.241216  65234.758784         1\n",
       "2022-04-28  64800  67395.0  69924.385197  64865.614803         1\n",
       "2022-04-29  67100  67295.0  69695.416631  64894.583369         0\n",
       "\n",
       "[1047 rows x 5 columns]"
      ]
     },
     "execution_count": 63,
     "metadata": {},
     "output_type": "execute_result"
    }
   ],
   "source": [
    "df"
   ]
  },
  {
   "cell_type": "code",
   "execution_count": 64,
   "id": "142f6b69",
   "metadata": {},
   "outputs": [
    {
     "data": {
      "text/plain": [
       "<AxesSubplot:xlabel='Date'>"
      ]
     },
     "execution_count": 64,
     "metadata": {},
     "output_type": "execute_result"
    },
    {
     "data": {
      "image/png": "[encoded data removed]",
      "text/plain": [
       "<Figure size 1080x360 with 1 Axes>"
      ]
     },
     "metadata": {
      "needs_background": "light"
     },
     "output_type": "display_data"
    }
   ],
   "source": [
    "df['position'].plot(\n",
    "    marker = '.', linestyle='none', markersize=5, figsize=(15,5)\n",
    ")"
   ]
  },
  {
   "cell_type": "code",
   "execution_count": 65,
   "id": "aa5ada0b",
   "metadata": {},
   "outputs": [
    {
     "data": {
      "text/plain": [
       "DatetimeIndex(['2018-03-13', '2018-04-19', '2018-08-31', '2019-01-15',\n",
       "               '2019-01-25', '2019-06-10', '2019-06-28', '2019-09-05',\n",
       "               '2019-09-19', '2019-10-16', '2019-11-05', '2019-12-13',\n",
       "               '2020-01-09', '2020-01-20', '2020-06-01', '2020-06-03',\n",
       "               '2020-07-21', '2020-07-28', '2020-09-14', '2020-11-13',\n",
       "               '2020-12-24', '2020-12-30', '2021-01-08', '2021-04-02',\n",
       "               '2021-08-03', '2021-11-15', '2021-11-22'],\n",
       "              dtype='datetime64[ns]', name='Date', freq=None)"
      ]
     },
     "execution_count": 65,
     "metadata": {},
     "output_type": "execute_result"
    }
   ],
   "source": [
    "short_index = df[((df['position'] - df['position'].shift()) == -1) & (df['position'] == -1)].index\n",
    "\n",
    "short_index  # "
   ]
  },
  {
   "cell_type": "code",
   "execution_count": 66,
   "id": "2ad60bb4",
   "metadata": {},
   "outputs": [
    {
     "data": {
      "text/plain": [
       "DatetimeIndex(['2018-02-07', '2018-04-04', '2018-06-15', '2018-08-13',\n",
       "               '2018-08-16', '2018-10-11', '2018-10-25', '2018-12-06',\n",
       "               '2018-12-14', '2019-03-05', '2019-05-09', '2019-08-05',\n",
       "               '2019-11-29', '2019-12-04', '2020-02-28', '2020-03-12',\n",
       "               '2020-08-31', '2020-10-30', '2021-05-12', '2021-08-13',\n",
       "               '2021-09-29', '2021-10-12', '2022-01-25', '2022-02-24',\n",
       "               '2022-03-07', '2022-04-06', '2022-04-12', '2022-04-15',\n",
       "               '2022-04-27'],\n",
       "              dtype='datetime64[ns]', name='Date', freq=None)"
      ]
     },
     "execution_count": 66,
     "metadata": {},
     "output_type": "execute_result"
    }
   ],
   "source": [
    "long_index = df[((df['position'] - df['position'].shift()) == 1) & (df['position'] == 1)].index\n",
    "\n",
    "long_index"
   ]
  },
  {
   "cell_type": "code",
   "execution_count": 87,
   "id": "721a32a2",
   "metadata": {},
   "outputs": [
    {
     "data": {
      "text/plain": [
       "<AxesSubplot:xlabel='Date'>"
      ]
     },
     "execution_count": 87,
     "metadata": {},
     "output_type": "execute_result"
    },
    {
     "data": {
      "image/png": "[encoded data removed]",
      "text/plain": [
       "<Figure size 1080x360 with 1 Axes>"
      ]
     },
     "metadata": {
      "needs_background": "light"
     },
     "output_type": "display_data"
    }
   ],
   "source": [
    "ax = df[['Close','sma','+threshold','-threshold']].plot(figsize=(15,5))\n",
    "df.loc[short_index, 'Close'].plot(ax=ax, marker='o', markersize=5, linestyle='none', color='blue')\n",
    "df.loc[long_index, 'Close'].plot(ax=ax, marker='o', markersize=5, linestyle='none', color='red')"
   ]
  },
  {
   "cell_type": "code",
   "execution_count": 72,
   "id": "4a4683b0",
   "metadata": {},
   "outputs": [],
   "source": [
    "df['rtn'] = get_returns_df(df['Close'], log=True)\n",
    "df['str_rtn'] = (df['position'].shift() * df['rtn']).fillna(0)"
   ]
  },
  {
   "cell_type": "code",
   "execution_count": 73,
   "id": "230e9e75",
   "metadata": {},
   "outputs": [
    {
     "data": {
      "text/html": [
       "<div>\n",
       "<style scoped>\n",
       "    .dataframe tbody tr th:only-of-type {\n",
       "        vertical-align: middle;\n",
       "    }\n",
       "\n",
       "    .dataframe tbody tr th {\n",
       "        vertical-align: top;\n",
       "    }\n",
       "\n",
       "    .dataframe thead th {\n",
       "        text-align: right;\n",
       "    }\n",
       "</style>\n",
       "<table border=\"1\" class=\"dataframe\">\n",
       "  <thead>\n",
       "    <tr style=\"text-align: right;\">\n",
       "      <th></th>\n",
       "      <th>Close</th>\n",
       "      <th>sma</th>\n",
       "      <th>+threshold</th>\n",
       "      <th>-threshold</th>\n",
       "      <th>position</th>\n",
       "      <th>rtn</th>\n",
       "      <th>str_rtn</th>\n",
       "    </tr>\n",
       "    <tr>\n",
       "      <th>Date</th>\n",
       "      <th></th>\n",
       "      <th></th>\n",
       "      <th></th>\n",
       "      <th></th>\n",
       "      <th></th>\n",
       "      <th></th>\n",
       "      <th></th>\n",
       "    </tr>\n",
       "  </thead>\n",
       "  <tbody>\n",
       "    <tr>\n",
       "      <th>2018-01-29</th>\n",
       "      <td>51220</td>\n",
       "      <td>49996.0</td>\n",
       "      <td>52525.842100</td>\n",
       "      <td>47466.157900</td>\n",
       "      <td>0</td>\n",
       "      <td>0.000000</td>\n",
       "      <td>0.000000</td>\n",
       "    </tr>\n",
       "    <tr>\n",
       "      <th>2018-01-30</th>\n",
       "      <td>49800</td>\n",
       "      <td>49935.0</td>\n",
       "      <td>52419.304414</td>\n",
       "      <td>47450.695586</td>\n",
       "      <td>0</td>\n",
       "      <td>-0.028115</td>\n",
       "      <td>-0.000000</td>\n",
       "    </tr>\n",
       "    <tr>\n",
       "      <th>2018-01-31</th>\n",
       "      <td>49900</td>\n",
       "      <td>49849.0</td>\n",
       "      <td>52203.390300</td>\n",
       "      <td>47494.609700</td>\n",
       "      <td>0</td>\n",
       "      <td>0.002006</td>\n",
       "      <td>0.000000</td>\n",
       "    </tr>\n",
       "    <tr>\n",
       "      <th>2018-02-01</th>\n",
       "      <td>49820</td>\n",
       "      <td>49786.0</td>\n",
       "      <td>52068.015729</td>\n",
       "      <td>47503.984271</td>\n",
       "      <td>0</td>\n",
       "      <td>-0.001604</td>\n",
       "      <td>-0.000000</td>\n",
       "    </tr>\n",
       "    <tr>\n",
       "      <th>2018-02-02</th>\n",
       "      <td>47700</td>\n",
       "      <td>49565.0</td>\n",
       "      <td>51749.302852</td>\n",
       "      <td>47380.697148</td>\n",
       "      <td>0</td>\n",
       "      <td>-0.043485</td>\n",
       "      <td>-0.000000</td>\n",
       "    </tr>\n",
       "    <tr>\n",
       "      <th>...</th>\n",
       "      <td>...</td>\n",
       "      <td>...</td>\n",
       "      <td>...</td>\n",
       "      <td>...</td>\n",
       "      <td>...</td>\n",
       "      <td>...</td>\n",
       "      <td>...</td>\n",
       "    </tr>\n",
       "    <tr>\n",
       "      <th>2022-04-25</th>\n",
       "      <td>66300</td>\n",
       "      <td>68085.0</td>\n",
       "      <td>70412.207498</td>\n",
       "      <td>65757.792502</td>\n",
       "      <td>0</td>\n",
       "      <td>-0.010503</td>\n",
       "      <td>-0.000000</td>\n",
       "    </tr>\n",
       "    <tr>\n",
       "      <th>2022-04-26</th>\n",
       "      <td>66100</td>\n",
       "      <td>67880.0</td>\n",
       "      <td>70144.229856</td>\n",
       "      <td>65615.770144</td>\n",
       "      <td>0</td>\n",
       "      <td>-0.003021</td>\n",
       "      <td>-0.000000</td>\n",
       "    </tr>\n",
       "    <tr>\n",
       "      <th>2022-04-27</th>\n",
       "      <td>65000</td>\n",
       "      <td>67635.0</td>\n",
       "      <td>70035.241216</td>\n",
       "      <td>65234.758784</td>\n",
       "      <td>1</td>\n",
       "      <td>-0.016781</td>\n",
       "      <td>-0.000000</td>\n",
       "    </tr>\n",
       "    <tr>\n",
       "      <th>2022-04-28</th>\n",
       "      <td>64800</td>\n",
       "      <td>67395.0</td>\n",
       "      <td>69924.385197</td>\n",
       "      <td>64865.614803</td>\n",
       "      <td>1</td>\n",
       "      <td>-0.003082</td>\n",
       "      <td>-0.003082</td>\n",
       "    </tr>\n",
       "    <tr>\n",
       "      <th>2022-04-29</th>\n",
       "      <td>67100</td>\n",
       "      <td>67295.0</td>\n",
       "      <td>69695.416631</td>\n",
       "      <td>64894.583369</td>\n",
       "      <td>0</td>\n",
       "      <td>0.034878</td>\n",
       "      <td>0.034878</td>\n",
       "    </tr>\n",
       "  </tbody>\n",
       "</table>\n",
       "<p>1047 rows × 7 columns</p>\n",
       "</div>"
      ],
      "text/plain": [
       "            Close      sma    +threshold    -threshold  position       rtn  \\\n",
       "Date                                                                         \n",
       "2018-01-29  51220  49996.0  52525.842100  47466.157900         0  0.000000   \n",
       "2018-01-30  49800  49935.0  52419.304414  47450.695586         0 -0.028115   \n",
       "2018-01-31  49900  49849.0  52203.390300  47494.609700         0  0.002006   \n",
       "2018-02-01  49820  49786.0  52068.015729  47503.984271         0 -0.001604   \n",
       "2018-02-02  47700  49565.0  51749.302852  47380.697148         0 -0.043485   \n",
       "...           ...      ...           ...           ...       ...       ...   \n",
       "2022-04-25  66300  68085.0  70412.207498  65757.792502         0 -0.010503   \n",
       "2022-04-26  66100  67880.0  70144.229856  65615.770144         0 -0.003021   \n",
       "2022-04-27  65000  67635.0  70035.241216  65234.758784         1 -0.016781   \n",
       "2022-04-28  64800  67395.0  69924.385197  64865.614803         1 -0.003082   \n",
       "2022-04-29  67100  67295.0  69695.416631  64894.583369         0  0.034878   \n",
       "\n",
       "             str_rtn  \n",
       "Date                  \n",
       "2018-01-29  0.000000  \n",
       "2018-01-30 -0.000000  \n",
       "2018-01-31  0.000000  \n",
       "2018-02-01 -0.000000  \n",
       "2018-02-02 -0.000000  \n",
       "...              ...  \n",
       "2022-04-25 -0.000000  \n",
       "2022-04-26 -0.000000  \n",
       "2022-04-27 -0.000000  \n",
       "2022-04-28 -0.003082  \n",
       "2022-04-29  0.034878  \n",
       "\n",
       "[1047 rows x 7 columns]"
      ]
     },
     "execution_count": 73,
     "metadata": {},
     "output_type": "execute_result"
    }
   ],
   "source": [
    "df"
   ]
  },
  {
   "cell_type": "code",
   "execution_count": 77,
   "id": "ae2ef8c9",
   "metadata": {},
   "outputs": [],
   "source": [
    "df.loc[:, 'cum_rtn'] = get_cum_returns_df(df['rtn'], log=True)\n",
    "df.loc[:, 'str_cum_rtn'] = get_cum_returns_df(df['str_rtn'], log=True)"
   ]
  },
  {
   "cell_type": "code",
   "execution_count": 79,
   "id": "d2206e4e",
   "metadata": {},
   "outputs": [
    {
     "data": {
      "text/plain": [
       "<AxesSubplot:xlabel='Date'>"
      ]
     },
     "execution_count": 79,
     "metadata": {},
     "output_type": "execute_result"
    },
    {
     "data": {
      "image/png": "[encoded data removed]",
      "text/plain": [
       "<Figure size 432x288 with 1 Axes>"
      ]
     },
     "metadata": {
      "needs_background": "light"
     },
     "output_type": "display_data"
    }
   ],
   "source": [
    "df['str_cum_rtn'].plot()"
   ]
  },
  {
   "cell_type": "code",
   "execution_count": 96,
   "id": "f8f142d7",
   "metadata": {},
   "outputs": [],
   "source": [
    "def backtest_eval(scr, sr):\n",
    "\n",
    "    cagr = get_cagr_series(df[scr], num_day_in_year = 250)\n",
    "    sharp_ratio = get_sharpe_ratio(df[sr], yearly_rfr = 0.025)\n",
    "    mdd, ldd_period, ldd_st, ldd_ed = get_drawdown_infos(df[scr])\n",
    "\n",
    "    print('cagr :', cagr)\n",
    "    print('sharp_ratio :', sharp_ratio)\n",
    "    print('Max_drawdown :', mdd)\n",
    "    print('Longest_dd_period :', ldd_period)\n",
    "    print('Longest_dd_st_date :', ldd_st)\n",
    "    print('Longest_dd_ed_date :', ldd_ed)"
   ]
  },
  {
   "cell_type": "code",
   "execution_count": 98,
   "id": "91dc03bc",
   "metadata": {},
   "outputs": [
    {
     "name": "stdout",
     "output_type": "stream",
     "text": [
      "cagr : -0.022151646633922994\n",
      "sharp_ratio : -0.546349776062226\n",
      "Max_drawdown : -0.2677026603835696\n",
      "Longest_dd_period : -67\n",
      "Longest_dd_st_date : 2018-06-15 00:00:00\n",
      "Longest_dd_ed_date : 2018-08-21 00:00:00\n"
     ]
    }
   ],
   "source": [
    "cr = 'str_cum_rtn'\n",
    "sr = 'str_rtn'\n",
    "\n",
    "backtest_eval(cr, sr)"
   ]
  },
  {
   "cell_type": "markdown",
   "id": "1a059de3",
   "metadata": {},
   "source": [
    "# 변동성 돌파 전략"
   ]
  },
  {
   "cell_type": "code",
   "execution_count": 100,
   "id": "28ff0160",
   "metadata": {},
   "outputs": [
    {
     "data": {
      "text/html": [
       "<div>\n",
       "<style scoped>\n",
       "    .dataframe tbody tr th:only-of-type {\n",
       "        vertical-align: middle;\n",
       "    }\n",
       "\n",
       "    .dataframe tbody tr th {\n",
       "        vertical-align: top;\n",
       "    }\n",
       "\n",
       "    .dataframe thead th {\n",
       "        text-align: right;\n",
       "    }\n",
       "</style>\n",
       "<table border=\"1\" class=\"dataframe\">\n",
       "  <thead>\n",
       "    <tr style=\"text-align: right;\">\n",
       "      <th></th>\n",
       "      <th>Open</th>\n",
       "      <th>High</th>\n",
       "      <th>Low</th>\n",
       "      <th>Close</th>\n",
       "      <th>Volume</th>\n",
       "      <th>Change</th>\n",
       "    </tr>\n",
       "    <tr>\n",
       "      <th>Date</th>\n",
       "      <th></th>\n",
       "      <th></th>\n",
       "      <th></th>\n",
       "      <th></th>\n",
       "      <th></th>\n",
       "      <th></th>\n",
       "    </tr>\n",
       "  </thead>\n",
       "  <tbody>\n",
       "    <tr>\n",
       "      <th>2020-01-02</th>\n",
       "      <td>55500</td>\n",
       "      <td>56000</td>\n",
       "      <td>55000</td>\n",
       "      <td>55200</td>\n",
       "      <td>12993228</td>\n",
       "      <td>-0.010753</td>\n",
       "    </tr>\n",
       "    <tr>\n",
       "      <th>2020-01-03</th>\n",
       "      <td>56000</td>\n",
       "      <td>56600</td>\n",
       "      <td>54900</td>\n",
       "      <td>55500</td>\n",
       "      <td>15422255</td>\n",
       "      <td>0.005435</td>\n",
       "    </tr>\n",
       "    <tr>\n",
       "      <th>2020-01-06</th>\n",
       "      <td>54900</td>\n",
       "      <td>55600</td>\n",
       "      <td>54600</td>\n",
       "      <td>55500</td>\n",
       "      <td>10278951</td>\n",
       "      <td>0.000000</td>\n",
       "    </tr>\n",
       "    <tr>\n",
       "      <th>2020-01-07</th>\n",
       "      <td>55700</td>\n",
       "      <td>56400</td>\n",
       "      <td>55600</td>\n",
       "      <td>55800</td>\n",
       "      <td>10009778</td>\n",
       "      <td>0.005405</td>\n",
       "    </tr>\n",
       "    <tr>\n",
       "      <th>2020-01-08</th>\n",
       "      <td>56200</td>\n",
       "      <td>57400</td>\n",
       "      <td>55900</td>\n",
       "      <td>56800</td>\n",
       "      <td>23501171</td>\n",
       "      <td>0.017921</td>\n",
       "    </tr>\n",
       "  </tbody>\n",
       "</table>\n",
       "</div>"
      ],
      "text/plain": [
       "             Open   High    Low  Close    Volume    Change\n",
       "Date                                                      \n",
       "2020-01-02  55500  56000  55000  55200  12993228 -0.010753\n",
       "2020-01-03  56000  56600  54900  55500  15422255  0.005435\n",
       "2020-01-06  54900  55600  54600  55500  10278951  0.000000\n",
       "2020-01-07  55700  56400  55600  55800  10009778  0.005405\n",
       "2020-01-08  56200  57400  55900  56800  23501171  0.017921"
      ]
     },
     "execution_count": 100,
     "metadata": {},
     "output_type": "execute_result"
    }
   ],
   "source": [
    "df = fdr.DataReader('005930', '2020-01-02', '2024-04-30')\n",
    "df.head()"
   ]
  },
  {
   "cell_type": "code",
   "execution_count": 103,
   "id": "ef9abc13",
   "metadata": {},
   "outputs": [],
   "source": [
    "df = df[['Open','High','Close','Low']]"
   ]
  },
  {
   "cell_type": "code",
   "execution_count": 106,
   "id": "91c536e2",
   "metadata": {},
   "outputs": [
    {
     "data": {
      "text/html": [
       "<div>\n",
       "<style scoped>\n",
       "    .dataframe tbody tr th:only-of-type {\n",
       "        vertical-align: middle;\n",
       "    }\n",
       "\n",
       "    .dataframe tbody tr th {\n",
       "        vertical-align: top;\n",
       "    }\n",
       "\n",
       "    .dataframe thead th {\n",
       "        text-align: right;\n",
       "    }\n",
       "</style>\n",
       "<table border=\"1\" class=\"dataframe\">\n",
       "  <thead>\n",
       "    <tr style=\"text-align: right;\">\n",
       "      <th></th>\n",
       "      <th>Open</th>\n",
       "      <th>High</th>\n",
       "      <th>Close</th>\n",
       "      <th>Low</th>\n",
       "      <th>range</th>\n",
       "      <th>threshold</th>\n",
       "    </tr>\n",
       "    <tr>\n",
       "      <th>Date</th>\n",
       "      <th></th>\n",
       "      <th></th>\n",
       "      <th></th>\n",
       "      <th></th>\n",
       "      <th></th>\n",
       "      <th></th>\n",
       "    </tr>\n",
       "  </thead>\n",
       "  <tbody>\n",
       "    <tr>\n",
       "      <th>2020-01-02</th>\n",
       "      <td>55500</td>\n",
       "      <td>56000</td>\n",
       "      <td>55200</td>\n",
       "      <td>55000</td>\n",
       "      <td>1000</td>\n",
       "      <td>NaN</td>\n",
       "    </tr>\n",
       "    <tr>\n",
       "      <th>2020-01-03</th>\n",
       "      <td>56000</td>\n",
       "      <td>56600</td>\n",
       "      <td>55500</td>\n",
       "      <td>54900</td>\n",
       "      <td>1700</td>\n",
       "      <td>56600.0</td>\n",
       "    </tr>\n",
       "    <tr>\n",
       "      <th>2020-01-06</th>\n",
       "      <td>54900</td>\n",
       "      <td>55600</td>\n",
       "      <td>55500</td>\n",
       "      <td>54600</td>\n",
       "      <td>1000</td>\n",
       "      <td>55920.0</td>\n",
       "    </tr>\n",
       "    <tr>\n",
       "      <th>2020-01-07</th>\n",
       "      <td>55700</td>\n",
       "      <td>56400</td>\n",
       "      <td>55800</td>\n",
       "      <td>55600</td>\n",
       "      <td>800</td>\n",
       "      <td>56300.0</td>\n",
       "    </tr>\n",
       "    <tr>\n",
       "      <th>2020-01-08</th>\n",
       "      <td>56200</td>\n",
       "      <td>57400</td>\n",
       "      <td>56800</td>\n",
       "      <td>55900</td>\n",
       "      <td>1500</td>\n",
       "      <td>56680.0</td>\n",
       "    </tr>\n",
       "  </tbody>\n",
       "</table>\n",
       "</div>"
      ],
      "text/plain": [
       "             Open   High  Close    Low  range  threshold\n",
       "Date                                                    \n",
       "2020-01-02  55500  56000  55200  55000   1000        NaN\n",
       "2020-01-03  56000  56600  55500  54900   1700    56600.0\n",
       "2020-01-06  54900  55600  55500  54600   1000    55920.0\n",
       "2020-01-07  55700  56400  55800  55600    800    56300.0\n",
       "2020-01-08  56200  57400  56800  55900   1500    56680.0"
      ]
     },
     "execution_count": 106,
     "metadata": {},
     "output_type": "execute_result"
    }
   ],
   "source": [
    "df['range'] = df['High'] - df['Low']\n",
    "df['threshold'] = df['Open'] + df['range'] .shift()*0.6     # 하이퍼파라미터 60%\n",
    "df.head()"
   ]
  },
  {
   "cell_type": "code",
   "execution_count": 107,
   "id": "dcf70fed",
   "metadata": {},
   "outputs": [],
   "source": [
    "df.dropna(inplace=True)"
   ]
  },
  {
   "cell_type": "code",
   "execution_count": 108,
   "id": "99c4c6c9",
   "metadata": {},
   "outputs": [],
   "source": [
    "cond = df['threshold'] <= df['High']\n",
    "df['position'] = cond.astype(int)"
   ]
  },
  {
   "cell_type": "code",
   "execution_count": 109,
   "id": "8150a22c",
   "metadata": {},
   "outputs": [
    {
     "data": {
      "text/html": [
       "<div>\n",
       "<style scoped>\n",
       "    .dataframe tbody tr th:only-of-type {\n",
       "        vertical-align: middle;\n",
       "    }\n",
       "\n",
       "    .dataframe tbody tr th {\n",
       "        vertical-align: top;\n",
       "    }\n",
       "\n",
       "    .dataframe thead th {\n",
       "        text-align: right;\n",
       "    }\n",
       "</style>\n",
       "<table border=\"1\" class=\"dataframe\">\n",
       "  <thead>\n",
       "    <tr style=\"text-align: right;\">\n",
       "      <th></th>\n",
       "      <th>Open</th>\n",
       "      <th>High</th>\n",
       "      <th>Close</th>\n",
       "      <th>Low</th>\n",
       "      <th>range</th>\n",
       "      <th>threshold</th>\n",
       "      <th>position</th>\n",
       "    </tr>\n",
       "    <tr>\n",
       "      <th>Date</th>\n",
       "      <th></th>\n",
       "      <th></th>\n",
       "      <th></th>\n",
       "      <th></th>\n",
       "      <th></th>\n",
       "      <th></th>\n",
       "      <th></th>\n",
       "    </tr>\n",
       "  </thead>\n",
       "  <tbody>\n",
       "    <tr>\n",
       "      <th>2020-01-03</th>\n",
       "      <td>56000</td>\n",
       "      <td>56600</td>\n",
       "      <td>55500</td>\n",
       "      <td>54900</td>\n",
       "      <td>1700</td>\n",
       "      <td>56600.0</td>\n",
       "      <td>1</td>\n",
       "    </tr>\n",
       "    <tr>\n",
       "      <th>2020-01-06</th>\n",
       "      <td>54900</td>\n",
       "      <td>55600</td>\n",
       "      <td>55500</td>\n",
       "      <td>54600</td>\n",
       "      <td>1000</td>\n",
       "      <td>55920.0</td>\n",
       "      <td>0</td>\n",
       "    </tr>\n",
       "    <tr>\n",
       "      <th>2020-01-07</th>\n",
       "      <td>55700</td>\n",
       "      <td>56400</td>\n",
       "      <td>55800</td>\n",
       "      <td>55600</td>\n",
       "      <td>800</td>\n",
       "      <td>56300.0</td>\n",
       "      <td>1</td>\n",
       "    </tr>\n",
       "    <tr>\n",
       "      <th>2020-01-08</th>\n",
       "      <td>56200</td>\n",
       "      <td>57400</td>\n",
       "      <td>56800</td>\n",
       "      <td>55900</td>\n",
       "      <td>1500</td>\n",
       "      <td>56680.0</td>\n",
       "      <td>1</td>\n",
       "    </tr>\n",
       "    <tr>\n",
       "      <th>2020-01-09</th>\n",
       "      <td>58400</td>\n",
       "      <td>58600</td>\n",
       "      <td>58600</td>\n",
       "      <td>57400</td>\n",
       "      <td>1200</td>\n",
       "      <td>59300.0</td>\n",
       "      <td>0</td>\n",
       "    </tr>\n",
       "    <tr>\n",
       "      <th>...</th>\n",
       "      <td>...</td>\n",
       "      <td>...</td>\n",
       "      <td>...</td>\n",
       "      <td>...</td>\n",
       "      <td>...</td>\n",
       "      <td>...</td>\n",
       "      <td>...</td>\n",
       "    </tr>\n",
       "    <tr>\n",
       "      <th>2022-04-25</th>\n",
       "      <td>66500</td>\n",
       "      <td>66700</td>\n",
       "      <td>66300</td>\n",
       "      <td>66300</td>\n",
       "      <td>400</td>\n",
       "      <td>66860.0</td>\n",
       "      <td>0</td>\n",
       "    </tr>\n",
       "    <tr>\n",
       "      <th>2022-04-26</th>\n",
       "      <td>66400</td>\n",
       "      <td>66700</td>\n",
       "      <td>66100</td>\n",
       "      <td>66100</td>\n",
       "      <td>600</td>\n",
       "      <td>66640.0</td>\n",
       "      <td>1</td>\n",
       "    </tr>\n",
       "    <tr>\n",
       "      <th>2022-04-27</th>\n",
       "      <td>65400</td>\n",
       "      <td>65500</td>\n",
       "      <td>65000</td>\n",
       "      <td>64900</td>\n",
       "      <td>600</td>\n",
       "      <td>65760.0</td>\n",
       "      <td>0</td>\n",
       "    </tr>\n",
       "    <tr>\n",
       "      <th>2022-04-28</th>\n",
       "      <td>65400</td>\n",
       "      <td>65500</td>\n",
       "      <td>64800</td>\n",
       "      <td>64500</td>\n",
       "      <td>1000</td>\n",
       "      <td>65760.0</td>\n",
       "      <td>0</td>\n",
       "    </tr>\n",
       "    <tr>\n",
       "      <th>2022-04-29</th>\n",
       "      <td>65100</td>\n",
       "      <td>67200</td>\n",
       "      <td>66700</td>\n",
       "      <td>65000</td>\n",
       "      <td>2200</td>\n",
       "      <td>65700.0</td>\n",
       "      <td>1</td>\n",
       "    </tr>\n",
       "  </tbody>\n",
       "</table>\n",
       "<p>575 rows × 7 columns</p>\n",
       "</div>"
      ],
      "text/plain": [
       "             Open   High  Close    Low  range  threshold  position\n",
       "Date                                                              \n",
       "2020-01-03  56000  56600  55500  54900   1700    56600.0         1\n",
       "2020-01-06  54900  55600  55500  54600   1000    55920.0         0\n",
       "2020-01-07  55700  56400  55800  55600    800    56300.0         1\n",
       "2020-01-08  56200  57400  56800  55900   1500    56680.0         1\n",
       "2020-01-09  58400  58600  58600  57400   1200    59300.0         0\n",
       "...           ...    ...    ...    ...    ...        ...       ...\n",
       "2022-04-25  66500  66700  66300  66300    400    66860.0         0\n",
       "2022-04-26  66400  66700  66100  66100    600    66640.0         1\n",
       "2022-04-27  65400  65500  65000  64900    600    65760.0         0\n",
       "2022-04-28  65400  65500  64800  64500   1000    65760.0         0\n",
       "2022-04-29  65100  67200  66700  65000   2200    65700.0         1\n",
       "\n",
       "[575 rows x 7 columns]"
      ]
     },
     "execution_count": 109,
     "metadata": {},
     "output_type": "execute_result"
    }
   ],
   "source": [
    "df"
   ]
  },
  {
   "cell_type": "code",
   "execution_count": 110,
   "id": "c76c4f90",
   "metadata": {},
   "outputs": [],
   "source": [
    "p_current = df['Open']\n",
    "p_prev = df['threshold'].shift()\n",
    "df['rtn'] = p_current/p_prev -1"
   ]
  },
  {
   "cell_type": "code",
   "execution_count": 111,
   "id": "6b4a415e",
   "metadata": {},
   "outputs": [
    {
     "data": {
      "text/html": [
       "<div>\n",
       "<style scoped>\n",
       "    .dataframe tbody tr th:only-of-type {\n",
       "        vertical-align: middle;\n",
       "    }\n",
       "\n",
       "    .dataframe tbody tr th {\n",
       "        vertical-align: top;\n",
       "    }\n",
       "\n",
       "    .dataframe thead th {\n",
       "        text-align: right;\n",
       "    }\n",
       "</style>\n",
       "<table border=\"1\" class=\"dataframe\">\n",
       "  <thead>\n",
       "    <tr style=\"text-align: right;\">\n",
       "      <th></th>\n",
       "      <th>Open</th>\n",
       "      <th>High</th>\n",
       "      <th>Close</th>\n",
       "      <th>Low</th>\n",
       "      <th>range</th>\n",
       "      <th>threshold</th>\n",
       "      <th>position</th>\n",
       "      <th>rtn</th>\n",
       "    </tr>\n",
       "    <tr>\n",
       "      <th>Date</th>\n",
       "      <th></th>\n",
       "      <th></th>\n",
       "      <th></th>\n",
       "      <th></th>\n",
       "      <th></th>\n",
       "      <th></th>\n",
       "      <th></th>\n",
       "      <th></th>\n",
       "    </tr>\n",
       "  </thead>\n",
       "  <tbody>\n",
       "    <tr>\n",
       "      <th>2020-01-03</th>\n",
       "      <td>56000</td>\n",
       "      <td>56600</td>\n",
       "      <td>55500</td>\n",
       "      <td>54900</td>\n",
       "      <td>1700</td>\n",
       "      <td>56600.0</td>\n",
       "      <td>1</td>\n",
       "      <td>NaN</td>\n",
       "    </tr>\n",
       "    <tr>\n",
       "      <th>2020-01-06</th>\n",
       "      <td>54900</td>\n",
       "      <td>55600</td>\n",
       "      <td>55500</td>\n",
       "      <td>54600</td>\n",
       "      <td>1000</td>\n",
       "      <td>55920.0</td>\n",
       "      <td>0</td>\n",
       "      <td>-0.030035</td>\n",
       "    </tr>\n",
       "    <tr>\n",
       "      <th>2020-01-07</th>\n",
       "      <td>55700</td>\n",
       "      <td>56400</td>\n",
       "      <td>55800</td>\n",
       "      <td>55600</td>\n",
       "      <td>800</td>\n",
       "      <td>56300.0</td>\n",
       "      <td>1</td>\n",
       "      <td>-0.003934</td>\n",
       "    </tr>\n",
       "    <tr>\n",
       "      <th>2020-01-08</th>\n",
       "      <td>56200</td>\n",
       "      <td>57400</td>\n",
       "      <td>56800</td>\n",
       "      <td>55900</td>\n",
       "      <td>1500</td>\n",
       "      <td>56680.0</td>\n",
       "      <td>1</td>\n",
       "      <td>-0.001776</td>\n",
       "    </tr>\n",
       "    <tr>\n",
       "      <th>2020-01-09</th>\n",
       "      <td>58400</td>\n",
       "      <td>58600</td>\n",
       "      <td>58600</td>\n",
       "      <td>57400</td>\n",
       "      <td>1200</td>\n",
       "      <td>59300.0</td>\n",
       "      <td>0</td>\n",
       "      <td>0.030346</td>\n",
       "    </tr>\n",
       "    <tr>\n",
       "      <th>...</th>\n",
       "      <td>...</td>\n",
       "      <td>...</td>\n",
       "      <td>...</td>\n",
       "      <td>...</td>\n",
       "      <td>...</td>\n",
       "      <td>...</td>\n",
       "      <td>...</td>\n",
       "      <td>...</td>\n",
       "    </tr>\n",
       "    <tr>\n",
       "      <th>2022-04-25</th>\n",
       "      <td>66500</td>\n",
       "      <td>66700</td>\n",
       "      <td>66300</td>\n",
       "      <td>66300</td>\n",
       "      <td>400</td>\n",
       "      <td>66860.0</td>\n",
       "      <td>0</td>\n",
       "      <td>-0.017435</td>\n",
       "    </tr>\n",
       "    <tr>\n",
       "      <th>2022-04-26</th>\n",
       "      <td>66400</td>\n",
       "      <td>66700</td>\n",
       "      <td>66100</td>\n",
       "      <td>66100</td>\n",
       "      <td>600</td>\n",
       "      <td>66640.0</td>\n",
       "      <td>1</td>\n",
       "      <td>-0.006880</td>\n",
       "    </tr>\n",
       "    <tr>\n",
       "      <th>2022-04-27</th>\n",
       "      <td>65400</td>\n",
       "      <td>65500</td>\n",
       "      <td>65000</td>\n",
       "      <td>64900</td>\n",
       "      <td>600</td>\n",
       "      <td>65760.0</td>\n",
       "      <td>0</td>\n",
       "      <td>-0.018607</td>\n",
       "    </tr>\n",
       "    <tr>\n",
       "      <th>2022-04-28</th>\n",
       "      <td>65400</td>\n",
       "      <td>65500</td>\n",
       "      <td>64800</td>\n",
       "      <td>64500</td>\n",
       "      <td>1000</td>\n",
       "      <td>65760.0</td>\n",
       "      <td>0</td>\n",
       "      <td>-0.005474</td>\n",
       "    </tr>\n",
       "    <tr>\n",
       "      <th>2022-04-29</th>\n",
       "      <td>65100</td>\n",
       "      <td>67200</td>\n",
       "      <td>66700</td>\n",
       "      <td>65000</td>\n",
       "      <td>2200</td>\n",
       "      <td>65700.0</td>\n",
       "      <td>1</td>\n",
       "      <td>-0.010036</td>\n",
       "    </tr>\n",
       "  </tbody>\n",
       "</table>\n",
       "<p>575 rows × 8 columns</p>\n",
       "</div>"
      ],
      "text/plain": [
       "             Open   High  Close    Low  range  threshold  position       rtn\n",
       "Date                                                                        \n",
       "2020-01-03  56000  56600  55500  54900   1700    56600.0         1       NaN\n",
       "2020-01-06  54900  55600  55500  54600   1000    55920.0         0 -0.030035\n",
       "2020-01-07  55700  56400  55800  55600    800    56300.0         1 -0.003934\n",
       "2020-01-08  56200  57400  56800  55900   1500    56680.0         1 -0.001776\n",
       "2020-01-09  58400  58600  58600  57400   1200    59300.0         0  0.030346\n",
       "...           ...    ...    ...    ...    ...        ...       ...       ...\n",
       "2022-04-25  66500  66700  66300  66300    400    66860.0         0 -0.017435\n",
       "2022-04-26  66400  66700  66100  66100    600    66640.0         1 -0.006880\n",
       "2022-04-27  65400  65500  65000  64900    600    65760.0         0 -0.018607\n",
       "2022-04-28  65400  65500  64800  64500   1000    65760.0         0 -0.005474\n",
       "2022-04-29  65100  67200  66700  65000   2200    65700.0         1 -0.010036\n",
       "\n",
       "[575 rows x 8 columns]"
      ]
     },
     "execution_count": 111,
     "metadata": {},
     "output_type": "execute_result"
    }
   ],
   "source": [
    "df"
   ]
  },
  {
   "cell_type": "code",
   "execution_count": 112,
   "id": "c7922fd6",
   "metadata": {},
   "outputs": [],
   "source": [
    "df['str_rtn'] = df['position'].shift() * df['rtn']\n",
    "df['str_rtn'] = df['str_rtn'].fillna(0)"
   ]
  },
  {
   "cell_type": "code",
   "execution_count": 113,
   "id": "7ee6aeb7",
   "metadata": {},
   "outputs": [],
   "source": [
    "df.loc[:, 'str_cum_rtn'] = get_cum_returns_df(df['str_rtn'], log=False)"
   ]
  },
  {
   "cell_type": "code",
   "execution_count": 114,
   "id": "d9e9636f",
   "metadata": {},
   "outputs": [
    {
     "data": {
      "text/plain": [
       "<AxesSubplot:xlabel='Date'>"
      ]
     },
     "execution_count": 114,
     "metadata": {},
     "output_type": "execute_result"
    },
    {
     "data": {
      "image/png": "[encoded data removed]",
      "text/plain": [
       "<Figure size 432x288 with 1 Axes>"
      ]
     },
     "metadata": {
      "needs_background": "light"
     },
     "output_type": "display_data"
    }
   ],
   "source": [
    "df.loc[:, 'str_cum_rtn'].plot()"
   ]
  },
  {
   "cell_type": "code",
   "execution_count": 115,
   "id": "99536e7f",
   "metadata": {},
   "outputs": [
    {
     "name": "stdout",
     "output_type": "stream",
     "text": [
      "cagr : 0.2992110530693959\n",
      "sharp_ratio : 1.4282388585691228\n",
      "Max_drawdown : -0.12318200796557954\n",
      "Longest_dd_period : -316\n",
      "Longest_dd_st_date : 2021-01-11 00:00:00\n",
      "Longest_dd_ed_date : 2021-11-23 00:00:00\n"
     ]
    }
   ],
   "source": [
    "cr = 'str_cum_rtn'\n",
    "sr = 'str_rtn'\n",
    "\n",
    "backtest_eval(cr, sr)"
   ]
  },
  {
   "cell_type": "code",
   "execution_count": null,
   "id": "dbe2add9",
   "metadata": {},
   "outputs": [],
   "source": []
  },
  {
   "cell_type": "code",
   "execution_count": null,
   "id": "3c5cbfa6",
   "metadata": {},
   "outputs": [],
   "source": []
  },
  {
   "cell_type": "code",
   "execution_count": null,
   "id": "af117439",
   "metadata": {},
   "outputs": [],
   "source": []
  },
  {
   "cell_type": "code",
   "execution_count": null,
   "id": "dd9f7d88",
   "metadata": {},
   "outputs": [],
   "source": []
  },
  {
   "cell_type": "code",
   "execution_count": null,
   "id": "2911da3d",
   "metadata": {},
   "outputs": [],
   "source": []
  },
  {
   "cell_type": "code",
   "execution_count": null,
   "id": "ed893a0e",
   "metadata": {},
   "outputs": [],
   "source": []
  },
  {
   "cell_type": "code",
   "execution_count": null,
   "id": "433a802f",
   "metadata": {},
   "outputs": [],
   "source": []
  },
  {
   "cell_type": "code",
   "execution_count": null,
   "id": "e9cc377e",
   "metadata": {},
   "outputs": [],
   "source": []
  },
  {
   "cell_type": "code",
   "execution_count": null,
   "id": "925b5ec1",
   "metadata": {},
   "outputs": [],
   "source": []
  },
  {
   "cell_type": "code",
   "execution_count": null,
   "id": "4ccaf751",
   "metadata": {},
   "outputs": [],
   "source": []
  },
  {
   "cell_type": "code",
   "execution_count": null,
   "id": "38f44972",
   "metadata": {},
   "outputs": [],
   "source": []
  },
  {
   "cell_type": "code",
   "execution_count": null,
   "id": "2f5939e3",
   "metadata": {},
   "outputs": [],
   "source": []
  },
  {
   "cell_type": "code",
   "execution_count": null,
   "id": "f09349ae",
   "metadata": {},
   "outputs": [],
   "source": []
  },
  {
   "cell_type": "code",
   "execution_count": null,
   "id": "6707901f",
   "metadata": {},
   "outputs": [],
   "source": []
  },
  {
   "cell_type": "code",
   "execution_count": null,
   "id": "3a2cf90e",
   "metadata": {},
   "outputs": [],
   "source": []
  },
  {
   "cell_type": "code",
   "execution_count": null,
   "id": "386cf669",
   "metadata": {},
   "outputs": [],
   "source": []
  }
 ],
 "metadata": {
  "kernelspec": {
   "display_name": "Python 3 (ipykernel)",
   "language": "python",
   "name": "python3"
  },
  "language_info": {
   "codemirror_mode": {
    "name": "ipython",
    "version": 3
   },
   "file_extension": ".py",
   "mimetype": "text/x-python",
   "name": "python",
   "nbconvert_exporter": "python",
   "pygments_lexer": "ipython3",
   "version": "3.9.7"
  },
  "varInspector": {
   "cols": {
    "lenName": 16,
    "lenType": 16,
    "lenVar": 40
   },
   "kernels_config": {
    "python": {
     "delete_cmd_postfix": "",
     "delete_cmd_prefix": "del ",
     "library": "var_list.py",
     "varRefreshCmd": "print(var_dic_list())"
    },
    "r": {
     "delete_cmd_postfix": ") ",
     "delete_cmd_prefix": "rm(",
     "library": "var_list.r",
     "varRefreshCmd": "cat(var_dic_list()) "
    }
   },
   "types_to_exclude": [
    "module",
    "function",
    "builtin_function_or_method",
    "instance",
    "_Feature"
   ],
   "window_display": false
  }
 },
 "nbformat": 4,
 "nbformat_minor": 5
}
