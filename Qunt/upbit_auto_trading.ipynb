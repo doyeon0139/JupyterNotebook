{
 "cells": [
  {
   "cell_type": "code",
   "execution_count": 1,
   "id": "eb02633a",
   "metadata": {},
   "outputs": [],
   "source": [
    "import pyupbit\n",
    "from pyupbit import Upbit"
   ]
  },
  {
   "cell_type": "code",
   "execution_count": 3,
   "id": "6e440c4a",
   "metadata": {},
   "outputs": [],
   "source": [
    "import pandas as pd\n",
    "import numpy as np\n",
    "import matplotlib.pyplot as plt"
   ]
  },
  {
   "cell_type": "code",
   "execution_count": 2,
   "id": "1318212d",
   "metadata": {
    "collapsed": true
   },
   "outputs": [
    {
     "ename": "FileNotFoundError",
     "evalue": "[Errno 2] No such file or directory: 'upbit.txt'",
     "output_type": "error",
     "traceback": [
      "\u001b[1;31m---------------------------------------------------------------------------\u001b[0m",
      "\u001b[1;31mFileNotFoundError\u001b[0m                         Traceback (most recent call last)",
      "\u001b[1;32m~\\AppData\\Local\\Temp/ipykernel_2504/700519089.py\u001b[0m in \u001b[0;36m<module>\u001b[1;34m\u001b[0m\n\u001b[1;32m----> 1\u001b[1;33m \u001b[1;32mwith\u001b[0m \u001b[0mopen\u001b[0m\u001b[1;33m(\u001b[0m\u001b[1;34m'upbit.txt'\u001b[0m\u001b[1;33m,\u001b[0m\u001b[1;34m'r'\u001b[0m\u001b[1;33m)\u001b[0m \u001b[1;32mas\u001b[0m \u001b[0mf\u001b[0m\u001b[1;33m:\u001b[0m\u001b[1;33m\u001b[0m\u001b[1;33m\u001b[0m\u001b[0m\n\u001b[0m\u001b[0;32m      2\u001b[0m     \u001b[0mstring\u001b[0m \u001b[1;33m=\u001b[0m \u001b[0mf\u001b[0m\u001b[1;33m.\u001b[0m\u001b[0mreadline\u001b[0m\u001b[1;33m(\u001b[0m\u001b[1;33m)\u001b[0m\u001b[1;33m\u001b[0m\u001b[1;33m\u001b[0m\u001b[0m\n\u001b[0;32m      3\u001b[0m     \u001b[0maccess\u001b[0m \u001b[1;33m=\u001b[0m \u001b[0mstring\u001b[0m\u001b[1;33m.\u001b[0m\u001b[0mstrip\u001b[0m\u001b[1;33m(\u001b[0m\u001b[1;33m)\u001b[0m\u001b[1;33m\u001b[0m\u001b[1;33m\u001b[0m\u001b[0m\n\u001b[0;32m      4\u001b[0m \u001b[1;33m\u001b[0m\u001b[0m\n\u001b[0;32m      5\u001b[0m     \u001b[0mstring\u001b[0m \u001b[1;33m=\u001b[0m \u001b[0mf\u001b[0m\u001b[1;33m.\u001b[0m\u001b[0mreadline\u001b[0m\u001b[1;33m(\u001b[0m\u001b[1;33m)\u001b[0m\u001b[1;33m\u001b[0m\u001b[1;33m\u001b[0m\u001b[0m\n",
      "\u001b[1;31mFileNotFoundError\u001b[0m: [Errno 2] No such file or directory: 'upbit.txt'"
     ]
    }
   ],
   "source": [
    "with open('upbit.txt','r') as f:\n",
    "    string = f.readline()\n",
    "    access = string.strip()\n",
    "    \n",
    "    string = f.readline()\n",
    "    secret = string.strip()"
   ]
  },
  {
   "cell_type": "markdown",
   "id": "019030fd",
   "metadata": {},
   "source": [
    "## 잔고"
   ]
  },
  {
   "cell_type": "code",
   "execution_count": null,
   "id": "6b7fd5d4",
   "metadata": {},
   "outputs": [],
   "source": [
    "upbit.get_balances()"
   ]
  },
  {
   "cell_type": "code",
   "execution_count": 4,
   "id": "4c787a5c",
   "metadata": {
    "collapsed": true
   },
   "outputs": [
    {
     "ename": "NameError",
     "evalue": "name 'upbit' is not defined",
     "output_type": "error",
     "traceback": [
      "\u001b[1;31m---------------------------------------------------------------------------\u001b[0m",
      "\u001b[1;31mNameError\u001b[0m                                 Traceback (most recent call last)",
      "\u001b[1;32m~\\AppData\\Local\\Temp/ipykernel_2504/1664884497.py\u001b[0m in \u001b[0;36m<module>\u001b[1;34m\u001b[0m\n\u001b[1;32m----> 1\u001b[1;33m \u001b[1;32mfor\u001b[0m \u001b[0mdata\u001b[0m \u001b[1;32min\u001b[0m \u001b[0mupbit\u001b[0m\u001b[1;33m.\u001b[0m\u001b[0mget_balances\u001b[0m\u001b[1;33m(\u001b[0m\u001b[1;33m)\u001b[0m\u001b[1;33m:\u001b[0m\u001b[1;33m\u001b[0m\u001b[1;33m\u001b[0m\u001b[0m\n\u001b[0m\u001b[0;32m      2\u001b[0m     \u001b[1;32mif\u001b[0m \u001b[0mfloat\u001b[0m\u001b[1;33m(\u001b[0m\u001b[0mdata\u001b[0m\u001b[1;33m[\u001b[0m\u001b[1;34m'balance'\u001b[0m\u001b[1;33m]\u001b[0m\u001b[1;33m)\u001b[0m \u001b[1;33m>\u001b[0m \u001b[1;36m0\u001b[0m\u001b[1;33m:\u001b[0m\u001b[1;33m\u001b[0m\u001b[1;33m\u001b[0m\u001b[0m\n\u001b[0;32m      3\u001b[0m         \u001b[0mprint\u001b[0m\u001b[1;33m(\u001b[0m\u001b[0mdata\u001b[0m\u001b[1;33m[\u001b[0m\u001b[1;34m'currency'\u001b[0m\u001b[1;33m]\u001b[0m\u001b[1;33m,\u001b[0m \u001b[0mdata\u001b[0m\u001b[1;33m[\u001b[0m\u001b[1;34m'balance'\u001b[0m\u001b[1;33m]\u001b[0m\u001b[1;33m)\u001b[0m\u001b[1;33m\u001b[0m\u001b[1;33m\u001b[0m\u001b[0m\n",
      "\u001b[1;31mNameError\u001b[0m: name 'upbit' is not defined"
     ]
    }
   ],
   "source": [
    "for data in upbit.get_balances():\n",
    "    if float(data['balance']) > 0:\n",
    "        print(data['currency'], data['balance'])"
   ]
  },
  {
   "cell_type": "code",
   "execution_count": null,
   "id": "a4c2cb52",
   "metadata": {},
   "outputs": [],
   "source": [
    "pd.DataFrame(upbit.get_balances())"
   ]
  },
  {
   "cell_type": "markdown",
   "id": "eecf05d2",
   "metadata": {},
   "source": [
    "## 주문"
   ]
  },
  {
   "cell_type": "code",
   "execution_count": null,
   "id": "12e27744",
   "metadata": {},
   "outputs": [],
   "source": [
    "pyupbit.get_curret_price('KRW-XRP')"
   ]
  },
  {
   "cell_type": "code",
   "execution_count": null,
   "id": "4098d3e8",
   "metadata": {},
   "outputs": [],
   "source": [
    "upbit.buy_limit_order('KRW-XRP', 780, 10)  # 지정가 주문"
   ]
  },
  {
   "cell_type": "code",
   "execution_count": null,
   "id": "de750797",
   "metadata": {},
   "outputs": [],
   "source": [
    "pd.DataFrame(upbit.get_balances())"
   ]
  },
  {
   "cell_type": "code",
   "execution_count": null,
   "id": "166d377a",
   "metadata": {},
   "outputs": [],
   "source": [
    "upbit.sell_limit_order('KRW-XRP', 780, 10)  # 지정가 매도"
   ]
  },
  {
   "cell_type": "code",
   "execution_count": null,
   "id": "45e90e49",
   "metadata": {},
   "outputs": [],
   "source": [
    "pd.DataFrame(upbit.get_balances())   # 확인"
   ]
  },
  {
   "cell_type": "markdown",
   "id": "2480b83e",
   "metadata": {},
   "source": [
    "## 시장가 주문"
   ]
  },
  {
   "cell_type": "code",
   "execution_count": null,
   "id": "f14f2dc4",
   "metadata": {},
   "outputs": [],
   "source": [
    "upbit.buy_market_order('KRW-XRP', 10000)  # upbit.buy_market_order(종목코드, 매입금액)"
   ]
  },
  {
   "cell_type": "code",
   "execution_count": null,
   "id": "a4dfb7fa",
   "metadata": {},
   "outputs": [],
   "source": [
    "balance_df = pd.DataFrame(upbit.get_balances())\n",
    "balance_df['buy_value'] = balance_df['balance'].astype(float) * balance_df['avg_buy_price'].astype(float)\n",
    "balance_df"
   ]
  },
  {
   "cell_type": "code",
   "execution_count": null,
   "id": "8aedb84f",
   "metadata": {},
   "outputs": [],
   "source": [
    "t_amout = upbit.get_balances('XRP')  # 종목 잔고수량"
   ]
  },
  {
   "cell_type": "code",
   "execution_count": null,
   "id": "c646ef51",
   "metadata": {},
   "outputs": [],
   "source": [
    "t_amout = upbit.get_balances('XRP')\n",
    "upbit.sell_market_order('KRW-XRP', t_amount)  # 잔고수량"
   ]
  },
  {
   "cell_type": "code",
   "execution_count": null,
   "id": "01043729",
   "metadata": {},
   "outputs": [],
   "source": [
    "balance_df = pd.DataFrame(upbit.get_balances())\n",
    "balance_df"
   ]
  },
  {
   "cell_type": "markdown",
   "id": "71c5f03b",
   "metadata": {},
   "source": [
    "## 주문내역 확인"
   ]
  },
  {
   "cell_type": "code",
   "execution_count": null,
   "id": "7c1b86d4",
   "metadata": {},
   "outputs": [],
   "source": [
    "upbit.buy_limit_order('KRW-XRP',800,10)"
   ]
  },
  {
   "cell_type": "code",
   "execution_count": null,
   "id": "27829ae5",
   "metadata": {},
   "outputs": [],
   "source": [
    "r = upbit.get_order('KRW-SRP')"
   ]
  },
  {
   "cell_type": "code",
   "execution_count": null,
   "id": "a4ac57b5",
   "metadata": {},
   "outputs": [],
   "source": [
    "r[0][uuid]"
   ]
  },
  {
   "cell_type": "code",
   "execution_count": null,
   "id": "dce99dcc",
   "metadata": {},
   "outputs": [],
   "source": [
    "upbit.cancel_order(r[0]['uuid'])"
   ]
  },
  {
   "cell_type": "code",
   "execution_count": null,
   "id": "6cb6c74d",
   "metadata": {},
   "outputs": [],
   "source": [
    "upbit.get_order('KRW-XRP') # 주민 미체결 내역 목록"
   ]
  },
  {
   "cell_type": "code",
   "execution_count": null,
   "id": "78377dcc",
   "metadata": {},
   "outputs": [],
   "source": [
    "## 주문이 정상적으로 채결이 되며 내역이 출연하지 않음"
   ]
  },
  {
   "cell_type": "code",
   "execution_count": null,
   "id": "fa6f35ab",
   "metadata": {},
   "outputs": [],
   "source": [
    "# 미수주문을 넣고 3초 간 체결이 되지 않으면 취소"
   ]
  },
  {
   "cell_type": "code",
   "execution_count": null,
   "id": "16af35ec",
   "metadata": {},
   "outputs": [],
   "source": [
    "import time\n",
    "\n",
    "upbit.buy_limit_order('KRW-XRP',500, 10)\n",
    "time.sleep(3)\n",
    "\n",
    "r = upbit.get_order('KRW-XRP')\n",
    "if len(r) > 0:\n",
    "    result = upbit.cancel_order(r[0]['uuid'])\n",
    "    print(result)"
   ]
  },
  {
   "cell_type": "code",
   "execution_count": null,
   "id": "22cd613e",
   "metadata": {},
   "outputs": [],
   "source": [
    "# "
   ]
  },
  {
   "cell_type": "code",
   "execution_count": null,
   "id": "37907d97",
   "metadata": {},
   "outputs": [],
   "source": [
    "upbit.get_order('KRW-XRP', state='wait') # 미체결 내역"
   ]
  },
  {
   "cell_type": "code",
   "execution_count": null,
   "id": "5d84027b",
   "metadata": {},
   "outputs": [],
   "source": [
    "upbit.get_order('KRW-XRP', state='done')  # 체결 내역"
   ]
  },
  {
   "cell_type": "code",
   "execution_count": null,
   "id": "3b2f5244",
   "metadata": {},
   "outputs": [],
   "source": [
    "upbit.get_order('KRW-XRP', state='cancel') # 주문 취소 내역"
   ]
  },
  {
   "cell_type": "code",
   "execution_count": null,
   "id": "f980dda7",
   "metadata": {},
   "outputs": [],
   "source": [
    "pd.DataFrame(upbit.get_order('KRW-XRP', state='done'))"
   ]
  },
  {
   "cell_type": "code",
   "execution_count": null,
   "id": "0d554e43",
   "metadata": {},
   "outputs": [],
   "source": []
  },
  {
   "cell_type": "code",
   "execution_count": null,
   "id": "9e239d47",
   "metadata": {},
   "outputs": [],
   "source": []
  },
  {
   "cell_type": "code",
   "execution_count": null,
   "id": "dc14d71f",
   "metadata": {},
   "outputs": [],
   "source": []
  },
  {
   "cell_type": "code",
   "execution_count": null,
   "id": "db898fab",
   "metadata": {},
   "outputs": [],
   "source": []
  },
  {
   "cell_type": "code",
   "execution_count": null,
   "id": "fd81f6ae",
   "metadata": {},
   "outputs": [],
   "source": []
  },
  {
   "cell_type": "code",
   "execution_count": null,
   "id": "5864536b",
   "metadata": {},
   "outputs": [],
   "source": []
  },
  {
   "cell_type": "code",
   "execution_count": null,
   "id": "c30f86f1",
   "metadata": {},
   "outputs": [],
   "source": []
  },
  {
   "cell_type": "code",
   "execution_count": null,
   "id": "84da32f6",
   "metadata": {},
   "outputs": [],
   "source": []
  },
  {
   "cell_type": "code",
   "execution_count": null,
   "id": "929c1378",
   "metadata": {},
   "outputs": [],
   "source": []
  },
  {
   "cell_type": "code",
   "execution_count": null,
   "id": "466153d5",
   "metadata": {},
   "outputs": [],
   "source": []
  },
  {
   "cell_type": "code",
   "execution_count": null,
   "id": "37fd84c3",
   "metadata": {},
   "outputs": [],
   "source": []
  },
  {
   "cell_type": "code",
   "execution_count": null,
   "id": "b4c543ca",
   "metadata": {},
   "outputs": [],
   "source": []
  },
  {
   "cell_type": "code",
   "execution_count": null,
   "id": "b227a1a2",
   "metadata": {},
   "outputs": [],
   "source": []
  },
  {
   "cell_type": "code",
   "execution_count": null,
   "id": "3b4ff764",
   "metadata": {},
   "outputs": [],
   "source": []
  },
  {
   "cell_type": "code",
   "execution_count": null,
   "id": "4650de8a",
   "metadata": {},
   "outputs": [],
   "source": []
  },
  {
   "cell_type": "code",
   "execution_count": null,
   "id": "2c765f4a",
   "metadata": {},
   "outputs": [],
   "source": []
  },
  {
   "cell_type": "code",
   "execution_count": null,
   "id": "7e08c71b",
   "metadata": {},
   "outputs": [],
   "source": []
  },
  {
   "cell_type": "code",
   "execution_count": null,
   "id": "f1ed1568",
   "metadata": {},
   "outputs": [],
   "source": []
  },
  {
   "cell_type": "code",
   "execution_count": null,
   "id": "5fa40b9d",
   "metadata": {},
   "outputs": [],
   "source": []
  },
  {
   "cell_type": "code",
   "execution_count": null,
   "id": "301b6941",
   "metadata": {},
   "outputs": [],
   "source": []
  },
  {
   "cell_type": "code",
   "execution_count": null,
   "id": "9b00f0f1",
   "metadata": {},
   "outputs": [],
   "source": []
  },
  {
   "cell_type": "code",
   "execution_count": null,
   "id": "b5013f50",
   "metadata": {},
   "outputs": [],
   "source": []
  }
 ],
 "metadata": {
  "kernelspec": {
   "display_name": "Python 3 (ipykernel)",
   "language": "python",
   "name": "python3"
  },
  "language_info": {
   "codemirror_mode": {
    "name": "ipython",
    "version": 3
   },
   "file_extension": ".py",
   "mimetype": "text/x-python",
   "name": "python",
   "nbconvert_exporter": "python",
   "pygments_lexer": "ipython3",
   "version": "3.9.7"
  },
  "varInspector": {
   "cols": {
    "lenName": 16,
    "lenType": 16,
    "lenVar": 40
   },
   "kernels_config": {
    "python": {
     "delete_cmd_postfix": "",
     "delete_cmd_prefix": "del ",
     "library": "var_list.py",
     "varRefreshCmd": "print(var_dic_list())"
    },
    "r": {
     "delete_cmd_postfix": ") ",
     "delete_cmd_prefix": "rm(",
     "library": "var_list.r",
     "varRefreshCmd": "cat(var_dic_list()) "
    }
   },
   "types_to_exclude": [
    "module",
    "function",
    "builtin_function_or_method",
    "instance",
    "_Feature"
   ],
   "window_display": false
  }
 },
 "nbformat": 4,
 "nbformat_minor": 5
}
