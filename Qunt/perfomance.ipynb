{
 "cells": [
  {
   "cell_type": "markdown",
   "id": "514e22fd",
   "metadata": {},
   "source": [
    "## Log Return\n",
    "\n",
    "## CAGR\n",
    "## Sharp ratio\n",
    "## Maxdraw down"
   ]
  },
  {
   "cell_type": "code",
   "execution_count": 1,
   "id": "4bc8dcda",
   "metadata": {},
   "outputs": [],
   "source": [
    "import pandas as pd\n",
    "import numpy as np\n",
    "import matplotlib.pyplot as plt\n",
    "import seaborn as sns"
   ]
  },
  {
   "cell_type": "code",
   "execution_count": 7,
   "id": "f4ad4b02",
   "metadata": {},
   "outputs": [],
   "source": [
    "import FinanceDataReader as fdr"
   ]
  },
  {
   "cell_type": "code",
   "execution_count": 8,
   "id": "3f32c33b",
   "metadata": {},
   "outputs": [],
   "source": [
    "df1 = fdr.DataReader('005930', '2018-01-02', '2018-10-30')\n",
    "df2 = fdr.DataReader('069500', '2018-01-02', '2018-10-30')"
   ]
  },
  {
   "cell_type": "code",
   "execution_count": 9,
   "id": "24ace69c",
   "metadata": {},
   "outputs": [
    {
     "data": {
      "text/html": [
       "<div>\n",
       "<style scoped>\n",
       "    .dataframe tbody tr th:only-of-type {\n",
       "        vertical-align: middle;\n",
       "    }\n",
       "\n",
       "    .dataframe tbody tr th {\n",
       "        vertical-align: top;\n",
       "    }\n",
       "\n",
       "    .dataframe thead th {\n",
       "        text-align: right;\n",
       "    }\n",
       "</style>\n",
       "<table border=\"1\" class=\"dataframe\">\n",
       "  <thead>\n",
       "    <tr style=\"text-align: right;\">\n",
       "      <th></th>\n",
       "      <th>Close</th>\n",
       "      <th>Close</th>\n",
       "    </tr>\n",
       "    <tr>\n",
       "      <th>Date</th>\n",
       "      <th></th>\n",
       "      <th></th>\n",
       "    </tr>\n",
       "  </thead>\n",
       "  <tbody>\n",
       "    <tr>\n",
       "      <th>2018-01-02</th>\n",
       "      <td>51020</td>\n",
       "      <td>29836</td>\n",
       "    </tr>\n",
       "    <tr>\n",
       "      <th>2018-01-03</th>\n",
       "      <td>51620</td>\n",
       "      <td>29964</td>\n",
       "    </tr>\n",
       "    <tr>\n",
       "      <th>2018-01-04</th>\n",
       "      <td>51080</td>\n",
       "      <td>29727</td>\n",
       "    </tr>\n",
       "    <tr>\n",
       "      <th>2018-01-05</th>\n",
       "      <td>52120</td>\n",
       "      <td>30131</td>\n",
       "    </tr>\n",
       "    <tr>\n",
       "      <th>2018-01-08</th>\n",
       "      <td>52020</td>\n",
       "      <td>30333</td>\n",
       "    </tr>\n",
       "  </tbody>\n",
       "</table>\n",
       "</div>"
      ],
      "text/plain": [
       "            Close  Close\n",
       "Date                    \n",
       "2018-01-02  51020  29836\n",
       "2018-01-03  51620  29964\n",
       "2018-01-04  51080  29727\n",
       "2018-01-05  52120  30131\n",
       "2018-01-08  52020  30333"
      ]
     },
     "execution_count": 9,
     "metadata": {},
     "output_type": "execute_result"
    }
   ],
   "source": [
    "df = pd.concat([df1['Close'], df2['Close']], axis=1)\n",
    "df.head()"
   ]
  },
  {
   "cell_type": "code",
   "execution_count": 10,
   "id": "1a734c5c",
   "metadata": {},
   "outputs": [
    {
     "data": {
      "text/html": [
       "<div>\n",
       "<style scoped>\n",
       "    .dataframe tbody tr th:only-of-type {\n",
       "        vertical-align: middle;\n",
       "    }\n",
       "\n",
       "    .dataframe tbody tr th {\n",
       "        vertical-align: top;\n",
       "    }\n",
       "\n",
       "    .dataframe thead th {\n",
       "        text-align: right;\n",
       "    }\n",
       "</style>\n",
       "<table border=\"1\" class=\"dataframe\">\n",
       "  <thead>\n",
       "    <tr style=\"text-align: right;\">\n",
       "      <th></th>\n",
       "      <th>삼성전자</th>\n",
       "      <th>kodex200</th>\n",
       "    </tr>\n",
       "    <tr>\n",
       "      <th>Date</th>\n",
       "      <th></th>\n",
       "      <th></th>\n",
       "    </tr>\n",
       "  </thead>\n",
       "  <tbody>\n",
       "    <tr>\n",
       "      <th>2018-01-02</th>\n",
       "      <td>51020</td>\n",
       "      <td>29836</td>\n",
       "    </tr>\n",
       "    <tr>\n",
       "      <th>2018-01-03</th>\n",
       "      <td>51620</td>\n",
       "      <td>29964</td>\n",
       "    </tr>\n",
       "    <tr>\n",
       "      <th>2018-01-04</th>\n",
       "      <td>51080</td>\n",
       "      <td>29727</td>\n",
       "    </tr>\n",
       "    <tr>\n",
       "      <th>2018-01-05</th>\n",
       "      <td>52120</td>\n",
       "      <td>30131</td>\n",
       "    </tr>\n",
       "    <tr>\n",
       "      <th>2018-01-08</th>\n",
       "      <td>52020</td>\n",
       "      <td>30333</td>\n",
       "    </tr>\n",
       "  </tbody>\n",
       "</table>\n",
       "</div>"
      ],
      "text/plain": [
       "             삼성전자  kodex200\n",
       "Date                       \n",
       "2018-01-02  51020     29836\n",
       "2018-01-03  51620     29964\n",
       "2018-01-04  51080     29727\n",
       "2018-01-05  52120     30131\n",
       "2018-01-08  52020     30333"
      ]
     },
     "execution_count": 10,
     "metadata": {},
     "output_type": "execute_result"
    }
   ],
   "source": [
    "df.columns = ['삼성전자', 'kodex200']\n",
    "df.head()"
   ]
  },
  {
   "cell_type": "code",
   "execution_count": 11,
   "id": "13d93eaf",
   "metadata": {},
   "outputs": [
    {
     "data": {
      "text/html": [
       "<div>\n",
       "<style scoped>\n",
       "    .dataframe tbody tr th:only-of-type {\n",
       "        vertical-align: middle;\n",
       "    }\n",
       "\n",
       "    .dataframe tbody tr th {\n",
       "        vertical-align: top;\n",
       "    }\n",
       "\n",
       "    .dataframe thead th {\n",
       "        text-align: right;\n",
       "    }\n",
       "</style>\n",
       "<table border=\"1\" class=\"dataframe\">\n",
       "  <thead>\n",
       "    <tr style=\"text-align: right;\">\n",
       "      <th></th>\n",
       "      <th>삼성전자</th>\n",
       "      <th>kodex200</th>\n",
       "    </tr>\n",
       "    <tr>\n",
       "      <th>Date</th>\n",
       "      <th></th>\n",
       "      <th></th>\n",
       "    </tr>\n",
       "  </thead>\n",
       "  <tbody>\n",
       "    <tr>\n",
       "      <th>2018-01-02</th>\n",
       "      <td>NaN</td>\n",
       "      <td>NaN</td>\n",
       "    </tr>\n",
       "    <tr>\n",
       "      <th>2018-01-03</th>\n",
       "      <td>0.011760</td>\n",
       "      <td>0.004290</td>\n",
       "    </tr>\n",
       "    <tr>\n",
       "      <th>2018-01-04</th>\n",
       "      <td>-0.010461</td>\n",
       "      <td>-0.007909</td>\n",
       "    </tr>\n",
       "    <tr>\n",
       "      <th>2018-01-05</th>\n",
       "      <td>0.020360</td>\n",
       "      <td>0.013590</td>\n",
       "    </tr>\n",
       "    <tr>\n",
       "      <th>2018-01-08</th>\n",
       "      <td>-0.001919</td>\n",
       "      <td>0.006704</td>\n",
       "    </tr>\n",
       "  </tbody>\n",
       "</table>\n",
       "</div>"
      ],
      "text/plain": [
       "                삼성전자  kodex200\n",
       "Date                          \n",
       "2018-01-02       NaN       NaN\n",
       "2018-01-03  0.011760  0.004290\n",
       "2018-01-04 -0.010461 -0.007909\n",
       "2018-01-05  0.020360  0.013590\n",
       "2018-01-08 -0.001919  0.006704"
      ]
     },
     "execution_count": 11,
     "metadata": {},
     "output_type": "execute_result"
    }
   ],
   "source": [
    "# simple return\n",
    "df.pct_change(1).head()          # 단순 수익률"
   ]
  },
  {
   "cell_type": "code",
   "execution_count": 14,
   "id": "4ab31e71",
   "metadata": {},
   "outputs": [
    {
     "data": {
      "text/html": [
       "<div>\n",
       "<style scoped>\n",
       "    .dataframe tbody tr th:only-of-type {\n",
       "        vertical-align: middle;\n",
       "    }\n",
       "\n",
       "    .dataframe tbody tr th {\n",
       "        vertical-align: top;\n",
       "    }\n",
       "\n",
       "    .dataframe thead th {\n",
       "        text-align: right;\n",
       "    }\n",
       "</style>\n",
       "<table border=\"1\" class=\"dataframe\">\n",
       "  <thead>\n",
       "    <tr style=\"text-align: right;\">\n",
       "      <th></th>\n",
       "      <th>삼성전자</th>\n",
       "      <th>kodex200</th>\n",
       "    </tr>\n",
       "    <tr>\n",
       "      <th>Date</th>\n",
       "      <th></th>\n",
       "      <th></th>\n",
       "    </tr>\n",
       "  </thead>\n",
       "  <tbody>\n",
       "    <tr>\n",
       "      <th>2018-01-02</th>\n",
       "      <td>NaN</td>\n",
       "      <td>NaN</td>\n",
       "    </tr>\n",
       "    <tr>\n",
       "      <th>2018-01-03</th>\n",
       "      <td>0.011691</td>\n",
       "      <td>0.004281</td>\n",
       "    </tr>\n",
       "    <tr>\n",
       "      <th>2018-01-04</th>\n",
       "      <td>-0.010516</td>\n",
       "      <td>-0.007941</td>\n",
       "    </tr>\n",
       "    <tr>\n",
       "      <th>2018-01-05</th>\n",
       "      <td>0.020156</td>\n",
       "      <td>0.013499</td>\n",
       "    </tr>\n",
       "    <tr>\n",
       "      <th>2018-01-08</th>\n",
       "      <td>-0.001920</td>\n",
       "      <td>0.006682</td>\n",
       "    </tr>\n",
       "    <tr>\n",
       "      <th>...</th>\n",
       "      <td>...</td>\n",
       "      <td>...</td>\n",
       "    </tr>\n",
       "    <tr>\n",
       "      <th>2018-10-24</th>\n",
       "      <td>-0.011682</td>\n",
       "      <td>-0.005166</td>\n",
       "    </tr>\n",
       "    <tr>\n",
       "      <th>2018-10-25</th>\n",
       "      <td>-0.037108</td>\n",
       "      <td>-0.016105</td>\n",
       "    </tr>\n",
       "    <tr>\n",
       "      <th>2018-10-26</th>\n",
       "      <td>0.000000</td>\n",
       "      <td>-0.015998</td>\n",
       "    </tr>\n",
       "    <tr>\n",
       "      <th>2018-10-29</th>\n",
       "      <td>0.009709</td>\n",
       "      <td>-0.008096</td>\n",
       "    </tr>\n",
       "    <tr>\n",
       "      <th>2018-10-30</th>\n",
       "      <td>0.022688</td>\n",
       "      <td>0.006902</td>\n",
       "    </tr>\n",
       "  </tbody>\n",
       "</table>\n",
       "<p>202 rows × 2 columns</p>\n",
       "</div>"
      ],
      "text/plain": [
       "                삼성전자  kodex200\n",
       "Date                          \n",
       "2018-01-02       NaN       NaN\n",
       "2018-01-03  0.011691  0.004281\n",
       "2018-01-04 -0.010516 -0.007941\n",
       "2018-01-05  0.020156  0.013499\n",
       "2018-01-08 -0.001920  0.006682\n",
       "...              ...       ...\n",
       "2018-10-24 -0.011682 -0.005166\n",
       "2018-10-25 -0.037108 -0.016105\n",
       "2018-10-26  0.000000 -0.015998\n",
       "2018-10-29  0.009709 -0.008096\n",
       "2018-10-30  0.022688  0.006902\n",
       "\n",
       "[202 rows x 2 columns]"
      ]
     },
     "execution_count": 14,
     "metadata": {},
     "output_type": "execute_result"
    }
   ],
   "source": [
    "# log return\n",
    "\n",
    "np.log(df/df.shift(1)) # log 수익률"
   ]
  },
  {
   "cell_type": "code",
   "execution_count": 15,
   "id": "6703201a",
   "metadata": {},
   "outputs": [
    {
     "data": {
      "text/html": [
       "<div>\n",
       "<style scoped>\n",
       "    .dataframe tbody tr th:only-of-type {\n",
       "        vertical-align: middle;\n",
       "    }\n",
       "\n",
       "    .dataframe tbody tr th {\n",
       "        vertical-align: top;\n",
       "    }\n",
       "\n",
       "    .dataframe thead th {\n",
       "        text-align: right;\n",
       "    }\n",
       "</style>\n",
       "<table border=\"1\" class=\"dataframe\">\n",
       "  <thead>\n",
       "    <tr style=\"text-align: right;\">\n",
       "      <th></th>\n",
       "      <th>삼성전자</th>\n",
       "      <th>kodex200</th>\n",
       "    </tr>\n",
       "    <tr>\n",
       "      <th>Date</th>\n",
       "      <th></th>\n",
       "      <th></th>\n",
       "    </tr>\n",
       "  </thead>\n",
       "  <tbody>\n",
       "    <tr>\n",
       "      <th>2018-01-02</th>\n",
       "      <td>0.000000</td>\n",
       "      <td>0.000000</td>\n",
       "    </tr>\n",
       "    <tr>\n",
       "      <th>2018-01-03</th>\n",
       "      <td>0.011760</td>\n",
       "      <td>0.004290</td>\n",
       "    </tr>\n",
       "    <tr>\n",
       "      <th>2018-01-04</th>\n",
       "      <td>-0.010461</td>\n",
       "      <td>-0.007909</td>\n",
       "    </tr>\n",
       "    <tr>\n",
       "      <th>2018-01-05</th>\n",
       "      <td>0.020360</td>\n",
       "      <td>0.013590</td>\n",
       "    </tr>\n",
       "    <tr>\n",
       "      <th>2018-01-08</th>\n",
       "      <td>-0.001919</td>\n",
       "      <td>0.006704</td>\n",
       "    </tr>\n",
       "    <tr>\n",
       "      <th>...</th>\n",
       "      <td>...</td>\n",
       "      <td>...</td>\n",
       "    </tr>\n",
       "    <tr>\n",
       "      <th>2018-10-24</th>\n",
       "      <td>-0.011614</td>\n",
       "      <td>-0.005153</td>\n",
       "    </tr>\n",
       "    <tr>\n",
       "      <th>2018-10-25</th>\n",
       "      <td>-0.036428</td>\n",
       "      <td>-0.015976</td>\n",
       "    </tr>\n",
       "    <tr>\n",
       "      <th>2018-10-26</th>\n",
       "      <td>0.000000</td>\n",
       "      <td>-0.015871</td>\n",
       "    </tr>\n",
       "    <tr>\n",
       "      <th>2018-10-29</th>\n",
       "      <td>0.009756</td>\n",
       "      <td>-0.008064</td>\n",
       "    </tr>\n",
       "    <tr>\n",
       "      <th>2018-10-30</th>\n",
       "      <td>0.022947</td>\n",
       "      <td>0.006926</td>\n",
       "    </tr>\n",
       "  </tbody>\n",
       "</table>\n",
       "<p>202 rows × 2 columns</p>\n",
       "</div>"
      ],
      "text/plain": [
       "                삼성전자  kodex200\n",
       "Date                          \n",
       "2018-01-02  0.000000  0.000000\n",
       "2018-01-03  0.011760  0.004290\n",
       "2018-01-04 -0.010461 -0.007909\n",
       "2018-01-05  0.020360  0.013590\n",
       "2018-01-08 -0.001919  0.006704\n",
       "...              ...       ...\n",
       "2018-10-24 -0.011614 -0.005153\n",
       "2018-10-25 -0.036428 -0.015976\n",
       "2018-10-26  0.000000 -0.015871\n",
       "2018-10-29  0.009756 -0.008064\n",
       "2018-10-30  0.022947  0.006926\n",
       "\n",
       "[202 rows x 2 columns]"
      ]
     },
     "execution_count": 15,
     "metadata": {},
     "output_type": "execute_result"
    }
   ],
   "source": [
    "df.pct_change(1).fillna(0)"
   ]
  },
  {
   "cell_type": "code",
   "execution_count": 50,
   "id": "54aad3f6",
   "metadata": {},
   "outputs": [
    {
     "data": {
      "text/html": [
       "<div>\n",
       "<style scoped>\n",
       "    .dataframe tbody tr th:only-of-type {\n",
       "        vertical-align: middle;\n",
       "    }\n",
       "\n",
       "    .dataframe tbody tr th {\n",
       "        vertical-align: top;\n",
       "    }\n",
       "\n",
       "    .dataframe thead th {\n",
       "        text-align: right;\n",
       "    }\n",
       "</style>\n",
       "<table border=\"1\" class=\"dataframe\">\n",
       "  <thead>\n",
       "    <tr style=\"text-align: right;\">\n",
       "      <th></th>\n",
       "      <th>삼성전자</th>\n",
       "      <th>kodex200</th>\n",
       "    </tr>\n",
       "    <tr>\n",
       "      <th>Date</th>\n",
       "      <th></th>\n",
       "      <th></th>\n",
       "    </tr>\n",
       "  </thead>\n",
       "  <tbody>\n",
       "    <tr>\n",
       "      <th>2018-01-02</th>\n",
       "      <td>0.000000</td>\n",
       "      <td>0.000000</td>\n",
       "    </tr>\n",
       "    <tr>\n",
       "      <th>2018-01-03</th>\n",
       "      <td>0.011691</td>\n",
       "      <td>0.004281</td>\n",
       "    </tr>\n",
       "    <tr>\n",
       "      <th>2018-01-04</th>\n",
       "      <td>-0.010516</td>\n",
       "      <td>-0.007941</td>\n",
       "    </tr>\n",
       "    <tr>\n",
       "      <th>2018-01-05</th>\n",
       "      <td>0.020156</td>\n",
       "      <td>0.013499</td>\n",
       "    </tr>\n",
       "    <tr>\n",
       "      <th>2018-01-08</th>\n",
       "      <td>-0.001920</td>\n",
       "      <td>0.006682</td>\n",
       "    </tr>\n",
       "    <tr>\n",
       "      <th>...</th>\n",
       "      <td>...</td>\n",
       "      <td>...</td>\n",
       "    </tr>\n",
       "    <tr>\n",
       "      <th>2018-10-24</th>\n",
       "      <td>-0.011682</td>\n",
       "      <td>-0.005166</td>\n",
       "    </tr>\n",
       "    <tr>\n",
       "      <th>2018-10-25</th>\n",
       "      <td>-0.037108</td>\n",
       "      <td>-0.016105</td>\n",
       "    </tr>\n",
       "    <tr>\n",
       "      <th>2018-10-26</th>\n",
       "      <td>0.000000</td>\n",
       "      <td>-0.015998</td>\n",
       "    </tr>\n",
       "    <tr>\n",
       "      <th>2018-10-29</th>\n",
       "      <td>0.009709</td>\n",
       "      <td>-0.008096</td>\n",
       "    </tr>\n",
       "    <tr>\n",
       "      <th>2018-10-30</th>\n",
       "      <td>0.022688</td>\n",
       "      <td>0.006902</td>\n",
       "    </tr>\n",
       "  </tbody>\n",
       "</table>\n",
       "<p>202 rows × 2 columns</p>\n",
       "</div>"
      ],
      "text/plain": [
       "                삼성전자  kodex200\n",
       "Date                          \n",
       "2018-01-02  0.000000  0.000000\n",
       "2018-01-03  0.011691  0.004281\n",
       "2018-01-04 -0.010516 -0.007941\n",
       "2018-01-05  0.020156  0.013499\n",
       "2018-01-08 -0.001920  0.006682\n",
       "...              ...       ...\n",
       "2018-10-24 -0.011682 -0.005166\n",
       "2018-10-25 -0.037108 -0.016105\n",
       "2018-10-26  0.000000 -0.015998\n",
       "2018-10-29  0.009709 -0.008096\n",
       "2018-10-30  0.022688  0.006902\n",
       "\n",
       "[202 rows x 2 columns]"
      ]
     },
     "execution_count": 50,
     "metadata": {},
     "output_type": "execute_result"
    }
   ],
   "source": [
    "log_rtn_df = np.log(df/df.shift(1)).fillna(0)\n",
    "log_rtn_df"
   ]
  },
  {
   "cell_type": "code",
   "execution_count": 17,
   "id": "dea8f085",
   "metadata": {},
   "outputs": [
    {
     "name": "stderr",
     "output_type": "stream",
     "text": [
      "C:\\Users\\bitcamp\\Anaconda3\\lib\\site-packages\\matplotlib\\backends\\backend_agg.py:240: RuntimeWarning: Glyph 49340 missing from current font.\n",
      "  font.set_text(s, 0.0, flags=flags)\n",
      "C:\\Users\\bitcamp\\Anaconda3\\lib\\site-packages\\matplotlib\\backends\\backend_agg.py:240: RuntimeWarning: Glyph 49457 missing from current font.\n",
      "  font.set_text(s, 0.0, flags=flags)\n",
      "C:\\Users\\bitcamp\\Anaconda3\\lib\\site-packages\\matplotlib\\backends\\backend_agg.py:240: RuntimeWarning: Glyph 51204 missing from current font.\n",
      "  font.set_text(s, 0.0, flags=flags)\n",
      "C:\\Users\\bitcamp\\Anaconda3\\lib\\site-packages\\matplotlib\\backends\\backend_agg.py:240: RuntimeWarning: Glyph 51088 missing from current font.\n",
      "  font.set_text(s, 0.0, flags=flags)\n",
      "C:\\Users\\bitcamp\\Anaconda3\\lib\\site-packages\\matplotlib\\backends\\backend_agg.py:203: RuntimeWarning: Glyph 49340 missing from current font.\n",
      "  font.set_text(s, 0, flags=flags)\n",
      "C:\\Users\\bitcamp\\Anaconda3\\lib\\site-packages\\matplotlib\\backends\\backend_agg.py:203: RuntimeWarning: Glyph 49457 missing from current font.\n",
      "  font.set_text(s, 0, flags=flags)\n",
      "C:\\Users\\bitcamp\\Anaconda3\\lib\\site-packages\\matplotlib\\backends\\backend_agg.py:203: RuntimeWarning: Glyph 51204 missing from current font.\n",
      "  font.set_text(s, 0, flags=flags)\n",
      "C:\\Users\\bitcamp\\Anaconda3\\lib\\site-packages\\matplotlib\\backends\\backend_agg.py:203: RuntimeWarning: Glyph 51088 missing from current font.\n",
      "  font.set_text(s, 0, flags=flags)\n"
     ]
    },
    {
     "data": {
      "image/png": "[encoded data removed]",
      "text/plain": [
       "<Figure size 432x288 with 1 Axes>"
      ]
     },
     "metadata": {
      "needs_background": "light"
     },
     "output_type": "display_data"
    }
   ],
   "source": [
    "log_rtn_df.plot()\n",
    "plt.show()"
   ]
  },
  {
   "cell_type": "code",
   "execution_count": 18,
   "id": "23e17150",
   "metadata": {},
   "outputs": [
    {
     "data": {
      "text/plain": [
       "<AxesSubplot:ylabel='Frequency'>"
      ]
     },
     "execution_count": 18,
     "metadata": {},
     "output_type": "execute_result"
    },
    {
     "name": "stderr",
     "output_type": "stream",
     "text": [
      "C:\\Users\\bitcamp\\Anaconda3\\lib\\site-packages\\matplotlib\\backends\\backend_agg.py:240: RuntimeWarning: Glyph 49340 missing from current font.\n",
      "  font.set_text(s, 0.0, flags=flags)\n",
      "C:\\Users\\bitcamp\\Anaconda3\\lib\\site-packages\\matplotlib\\backends\\backend_agg.py:240: RuntimeWarning: Glyph 49457 missing from current font.\n",
      "  font.set_text(s, 0.0, flags=flags)\n",
      "C:\\Users\\bitcamp\\Anaconda3\\lib\\site-packages\\matplotlib\\backends\\backend_agg.py:240: RuntimeWarning: Glyph 51204 missing from current font.\n",
      "  font.set_text(s, 0.0, flags=flags)\n",
      "C:\\Users\\bitcamp\\Anaconda3\\lib\\site-packages\\matplotlib\\backends\\backend_agg.py:240: RuntimeWarning: Glyph 51088 missing from current font.\n",
      "  font.set_text(s, 0.0, flags=flags)\n",
      "C:\\Users\\bitcamp\\Anaconda3\\lib\\site-packages\\matplotlib\\backends\\backend_agg.py:203: RuntimeWarning: Glyph 49340 missing from current font.\n",
      "  font.set_text(s, 0, flags=flags)\n",
      "C:\\Users\\bitcamp\\Anaconda3\\lib\\site-packages\\matplotlib\\backends\\backend_agg.py:203: RuntimeWarning: Glyph 49457 missing from current font.\n",
      "  font.set_text(s, 0, flags=flags)\n",
      "C:\\Users\\bitcamp\\Anaconda3\\lib\\site-packages\\matplotlib\\backends\\backend_agg.py:203: RuntimeWarning: Glyph 51204 missing from current font.\n",
      "  font.set_text(s, 0, flags=flags)\n",
      "C:\\Users\\bitcamp\\Anaconda3\\lib\\site-packages\\matplotlib\\backends\\backend_agg.py:203: RuntimeWarning: Glyph 51088 missing from current font.\n",
      "  font.set_text(s, 0, flags=flags)\n"
     ]
    },
    {
     "data": {
      "image/png": "[encoded data removed]",
      "text/plain": [
       "<Figure size 432x288 with 1 Axes>"
      ]
     },
     "metadata": {
      "needs_background": "light"
     },
     "output_type": "display_data"
    }
   ],
   "source": [
    "log_rtn_df.plot(kind='hist', bins=30)"
   ]
  },
  {
   "cell_type": "code",
   "execution_count": 19,
   "id": "ce0b01a5",
   "metadata": {},
   "outputs": [],
   "source": [
    "simple_rtn_df = df.pct_change(1).fillna(0)"
   ]
  },
  {
   "cell_type": "code",
   "execution_count": null,
   "id": "d4f85154",
   "metadata": {},
   "outputs": [],
   "source": [
    "# 누적수익률"
   ]
  },
  {
   "cell_type": "code",
   "execution_count": 22,
   "id": "4bed5543",
   "metadata": {},
   "outputs": [
    {
     "data": {
      "text/html": [
       "<div>\n",
       "<style scoped>\n",
       "    .dataframe tbody tr th:only-of-type {\n",
       "        vertical-align: middle;\n",
       "    }\n",
       "\n",
       "    .dataframe tbody tr th {\n",
       "        vertical-align: top;\n",
       "    }\n",
       "\n",
       "    .dataframe thead th {\n",
       "        text-align: right;\n",
       "    }\n",
       "</style>\n",
       "<table border=\"1\" class=\"dataframe\">\n",
       "  <thead>\n",
       "    <tr style=\"text-align: right;\">\n",
       "      <th></th>\n",
       "      <th>삼성전자</th>\n",
       "      <th>kodex200</th>\n",
       "    </tr>\n",
       "    <tr>\n",
       "      <th>Date</th>\n",
       "      <th></th>\n",
       "      <th></th>\n",
       "    </tr>\n",
       "  </thead>\n",
       "  <tbody>\n",
       "    <tr>\n",
       "      <th>2018-01-02</th>\n",
       "      <td>1.000000</td>\n",
       "      <td>1.000000</td>\n",
       "    </tr>\n",
       "    <tr>\n",
       "      <th>2018-01-03</th>\n",
       "      <td>1.011760</td>\n",
       "      <td>1.004290</td>\n",
       "    </tr>\n",
       "    <tr>\n",
       "      <th>2018-01-04</th>\n",
       "      <td>1.001176</td>\n",
       "      <td>0.996347</td>\n",
       "    </tr>\n",
       "    <tr>\n",
       "      <th>2018-01-05</th>\n",
       "      <td>1.021560</td>\n",
       "      <td>1.009887</td>\n",
       "    </tr>\n",
       "    <tr>\n",
       "      <th>2018-01-08</th>\n",
       "      <td>1.019600</td>\n",
       "      <td>1.016658</td>\n",
       "    </tr>\n",
       "  </tbody>\n",
       "</table>\n",
       "</div>"
      ],
      "text/plain": [
       "                삼성전자  kodex200\n",
       "Date                          \n",
       "2018-01-02  1.000000  1.000000\n",
       "2018-01-03  1.011760  1.004290\n",
       "2018-01-04  1.001176  0.996347\n",
       "2018-01-05  1.021560  1.009887\n",
       "2018-01-08  1.019600  1.016658"
      ]
     },
     "execution_count": 22,
     "metadata": {},
     "output_type": "execute_result"
    }
   ],
   "source": [
    "(simple_rtn_df + 1).cumprod().head()    # 단순 누적수익률"
   ]
  },
  {
   "cell_type": "code",
   "execution_count": 24,
   "id": "ca6d4d07",
   "metadata": {},
   "outputs": [
    {
     "data": {
      "text/html": [
       "<div>\n",
       "<style scoped>\n",
       "    .dataframe tbody tr th:only-of-type {\n",
       "        vertical-align: middle;\n",
       "    }\n",
       "\n",
       "    .dataframe tbody tr th {\n",
       "        vertical-align: top;\n",
       "    }\n",
       "\n",
       "    .dataframe thead th {\n",
       "        text-align: right;\n",
       "    }\n",
       "</style>\n",
       "<table border=\"1\" class=\"dataframe\">\n",
       "  <thead>\n",
       "    <tr style=\"text-align: right;\">\n",
       "      <th></th>\n",
       "      <th>삼성전자</th>\n",
       "      <th>kodex200</th>\n",
       "    </tr>\n",
       "    <tr>\n",
       "      <th>Date</th>\n",
       "      <th></th>\n",
       "      <th></th>\n",
       "    </tr>\n",
       "  </thead>\n",
       "  <tbody>\n",
       "    <tr>\n",
       "      <th>2018-01-02</th>\n",
       "      <td>1.000000</td>\n",
       "      <td>1.000000</td>\n",
       "    </tr>\n",
       "    <tr>\n",
       "      <th>2018-01-03</th>\n",
       "      <td>1.011760</td>\n",
       "      <td>1.004290</td>\n",
       "    </tr>\n",
       "    <tr>\n",
       "      <th>2018-01-04</th>\n",
       "      <td>1.001176</td>\n",
       "      <td>0.996347</td>\n",
       "    </tr>\n",
       "    <tr>\n",
       "      <th>2018-01-05</th>\n",
       "      <td>1.021560</td>\n",
       "      <td>1.009887</td>\n",
       "    </tr>\n",
       "    <tr>\n",
       "      <th>2018-01-08</th>\n",
       "      <td>1.019600</td>\n",
       "      <td>1.016658</td>\n",
       "    </tr>\n",
       "    <tr>\n",
       "      <th>...</th>\n",
       "      <td>...</td>\n",
       "      <td>...</td>\n",
       "    </tr>\n",
       "    <tr>\n",
       "      <th>2018-10-24</th>\n",
       "      <td>0.833987</td>\n",
       "      <td>0.841266</td>\n",
       "    </tr>\n",
       "    <tr>\n",
       "      <th>2018-10-25</th>\n",
       "      <td>0.803606</td>\n",
       "      <td>0.827825</td>\n",
       "    </tr>\n",
       "    <tr>\n",
       "      <th>2018-10-26</th>\n",
       "      <td>0.803606</td>\n",
       "      <td>0.814687</td>\n",
       "    </tr>\n",
       "    <tr>\n",
       "      <th>2018-10-29</th>\n",
       "      <td>0.811446</td>\n",
       "      <td>0.808118</td>\n",
       "    </tr>\n",
       "    <tr>\n",
       "      <th>2018-10-30</th>\n",
       "      <td>0.830067</td>\n",
       "      <td>0.813715</td>\n",
       "    </tr>\n",
       "  </tbody>\n",
       "</table>\n",
       "<p>202 rows × 2 columns</p>\n",
       "</div>"
      ],
      "text/plain": [
       "                삼성전자  kodex200\n",
       "Date                          \n",
       "2018-01-02  1.000000  1.000000\n",
       "2018-01-03  1.011760  1.004290\n",
       "2018-01-04  1.001176  0.996347\n",
       "2018-01-05  1.021560  1.009887\n",
       "2018-01-08  1.019600  1.016658\n",
       "...              ...       ...\n",
       "2018-10-24  0.833987  0.841266\n",
       "2018-10-25  0.803606  0.827825\n",
       "2018-10-26  0.803606  0.814687\n",
       "2018-10-29  0.811446  0.808118\n",
       "2018-10-30  0.830067  0.813715\n",
       "\n",
       "[202 rows x 2 columns]"
      ]
     },
     "execution_count": 24,
     "metadata": {},
     "output_type": "execute_result"
    }
   ],
   "source": [
    "log_rtn_df.cumsum()    # log는 더하기만 해도 누적수익률\n",
    "np.exp(log_rtn_df.cumsum())"
   ]
  },
  {
   "cell_type": "markdown",
   "id": "dd76c38c",
   "metadata": {},
   "source": [
    "# LOG Return"
   ]
  },
  {
   "cell_type": "code",
   "execution_count": 59,
   "id": "9d3580cf",
   "metadata": {},
   "outputs": [],
   "source": [
    "def get_annualized_returns_series(log_return_df, num_day_in_year=250):\n",
    "    return (log_return_df.mean() * num_day_in_year).round(2)\n",
    "\n",
    "def get_annualized_std_series(log_return_df, num_day_in_year=250 ):\n",
    "    return (log_return_df.std()*(num_day_in_year ** 0.5)).round(2)"
   ]
  },
  {
   "cell_type": "code",
   "execution_count": 60,
   "id": "7b91746b",
   "metadata": {},
   "outputs": [
    {
     "data": {
      "text/plain": [
       "삼성전자       -0.23\n",
       "kodex200   -0.26\n",
       "dtype: float64"
      ]
     },
     "execution_count": 60,
     "metadata": {},
     "output_type": "execute_result"
    }
   ],
   "source": [
    "get_annualized_returns_series(log_rtn_df, num_day_in_year=250) # 연평균 로그수익률"
   ]
  },
  {
   "cell_type": "code",
   "execution_count": 62,
   "id": "df16d15d",
   "metadata": {},
   "outputs": [
    {
     "data": {
      "text/plain": [
       "삼성전자        0.27\n",
       "kodex200    0.14\n",
       "dtype: float64"
      ]
     },
     "execution_count": 62,
     "metadata": {},
     "output_type": "execute_result"
    }
   ],
   "source": [
    "get_annualized_std_series(log_rtn_df, num_day_in_year=250)  # 연평균 로그수익률의 표준편차"
   ]
  },
  {
   "cell_type": "code",
   "execution_count": null,
   "id": "57345ed7",
   "metadata": {},
   "outputs": [],
   "source": [
    "var1 + var2 + var3 ...  => n * var1 => std1 * np.sqrt(n)"
   ]
  },
  {
   "cell_type": "markdown",
   "id": "b2c999c5",
   "metadata": {},
   "source": [
    "# CAGR(연환산 복리수익률)  연평균 성장률"
   ]
  },
  {
   "cell_type": "code",
   "execution_count": 110,
   "id": "d8d9fe73",
   "metadata": {},
   "outputs": [
    {
     "data": {
      "text/html": [
       "<div>\n",
       "<style scoped>\n",
       "    .dataframe tbody tr th:only-of-type {\n",
       "        vertical-align: middle;\n",
       "    }\n",
       "\n",
       "    .dataframe tbody tr th {\n",
       "        vertical-align: top;\n",
       "    }\n",
       "\n",
       "    .dataframe thead th {\n",
       "        text-align: right;\n",
       "    }\n",
       "</style>\n",
       "<table border=\"1\" class=\"dataframe\">\n",
       "  <thead>\n",
       "    <tr style=\"text-align: right;\">\n",
       "      <th></th>\n",
       "      <th>삼성전자</th>\n",
       "      <th>kodex200</th>\n",
       "    </tr>\n",
       "    <tr>\n",
       "      <th>Date</th>\n",
       "      <th></th>\n",
       "      <th></th>\n",
       "    </tr>\n",
       "  </thead>\n",
       "  <tbody>\n",
       "    <tr>\n",
       "      <th>2018-01-02</th>\n",
       "      <td>1.000000</td>\n",
       "      <td>1.000000</td>\n",
       "    </tr>\n",
       "    <tr>\n",
       "      <th>2018-01-03</th>\n",
       "      <td>1.011760</td>\n",
       "      <td>1.004290</td>\n",
       "    </tr>\n",
       "    <tr>\n",
       "      <th>2018-01-04</th>\n",
       "      <td>1.001176</td>\n",
       "      <td>0.996347</td>\n",
       "    </tr>\n",
       "    <tr>\n",
       "      <th>2018-01-05</th>\n",
       "      <td>1.021560</td>\n",
       "      <td>1.009887</td>\n",
       "    </tr>\n",
       "    <tr>\n",
       "      <th>2018-01-08</th>\n",
       "      <td>1.019600</td>\n",
       "      <td>1.016658</td>\n",
       "    </tr>\n",
       "    <tr>\n",
       "      <th>...</th>\n",
       "      <td>...</td>\n",
       "      <td>...</td>\n",
       "    </tr>\n",
       "    <tr>\n",
       "      <th>2018-10-24</th>\n",
       "      <td>0.833987</td>\n",
       "      <td>0.841266</td>\n",
       "    </tr>\n",
       "    <tr>\n",
       "      <th>2018-10-25</th>\n",
       "      <td>0.803606</td>\n",
       "      <td>0.827825</td>\n",
       "    </tr>\n",
       "    <tr>\n",
       "      <th>2018-10-26</th>\n",
       "      <td>0.803606</td>\n",
       "      <td>0.814687</td>\n",
       "    </tr>\n",
       "    <tr>\n",
       "      <th>2018-10-29</th>\n",
       "      <td>0.811446</td>\n",
       "      <td>0.808118</td>\n",
       "    </tr>\n",
       "    <tr>\n",
       "      <th>2018-10-30</th>\n",
       "      <td>0.830067</td>\n",
       "      <td>0.813715</td>\n",
       "    </tr>\n",
       "  </tbody>\n",
       "</table>\n",
       "<p>202 rows × 2 columns</p>\n",
       "</div>"
      ],
      "text/plain": [
       "                삼성전자  kodex200\n",
       "Date                          \n",
       "2018-01-02  1.000000  1.000000\n",
       "2018-01-03  1.011760  1.004290\n",
       "2018-01-04  1.001176  0.996347\n",
       "2018-01-05  1.021560  1.009887\n",
       "2018-01-08  1.019600  1.016658\n",
       "...              ...       ...\n",
       "2018-10-24  0.833987  0.841266\n",
       "2018-10-25  0.803606  0.827825\n",
       "2018-10-26  0.803606  0.814687\n",
       "2018-10-29  0.811446  0.808118\n",
       "2018-10-30  0.830067  0.813715\n",
       "\n",
       "[202 rows x 2 columns]"
      ]
     },
     "execution_count": 110,
     "metadata": {},
     "output_type": "execute_result"
    }
   ],
   "source": [
    "cum_rtn_df = (simple_rtn_df+1).cumprod()   #\n",
    "cum_rtn_df"
   ]
  },
  {
   "cell_type": "code",
   "execution_count": 72,
   "id": "b866050b",
   "metadata": {},
   "outputs": [
    {
     "data": {
      "text/plain": [
       "삼성전자        0.830067\n",
       "kodex200    0.813715\n",
       "Name: 2018-10-30 00:00:00, dtype: float64"
      ]
     },
     "execution_count": 72,
     "metadata": {},
     "output_type": "execute_result"
    }
   ],
   "source": [
    "cum_rtn_df.iloc[-1]   # 10개월 누적 복리수익률"
   ]
  },
  {
   "cell_type": "code",
   "execution_count": 73,
   "id": "cc02ed8d",
   "metadata": {},
   "outputs": [
    {
     "data": {
      "text/plain": [
       "삼성전자        0.792668\n",
       "kodex200    0.773236\n",
       "Name: 2018-10-30 00:00:00, dtype: float64"
      ]
     },
     "execution_count": 73,
     "metadata": {},
     "output_type": "execute_result"
    }
   ],
   "source": [
    "num_day_in_year = 252\n",
    "cum_rtn_df.iloc[-1]**(252/ len(cum_rtn_df))   #???"
   ]
  },
  {
   "cell_type": "code",
   "execution_count": 74,
   "id": "c13f8b1e",
   "metadata": {},
   "outputs": [],
   "source": [
    "# 연 평균 보기 수익률\n",
    "\n",
    "def get_cagr_series(cum_rtn_df, num_day_in_year = 250):\n",
    "    cagr_series = cum_rtn_df.iloc[-1]**(num_day_in_year/(len(cum_rtn_df))) -1\n",
    "    return cagr_series"
   ]
  },
  {
   "cell_type": "code",
   "execution_count": 75,
   "id": "4f29b828",
   "metadata": {},
   "outputs": [
    {
     "data": {
      "text/plain": [
       "삼성전자       -0.205869\n",
       "kodex200   -0.225184\n",
       "Name: 2018-10-30 00:00:00, dtype: float64"
      ]
     },
     "execution_count": 75,
     "metadata": {},
     "output_type": "execute_result"
    }
   ],
   "source": [
    "get_cagr_series(cum_rtn_df, num_day_in_year = 250)"
   ]
  },
  {
   "cell_type": "code",
   "execution_count": 76,
   "id": "385dbf7a",
   "metadata": {},
   "outputs": [],
   "source": [
    "temp_df = fdr.DataReader('069500','2019-01-02','2020-10-30')"
   ]
  },
  {
   "cell_type": "code",
   "execution_count": 77,
   "id": "5e3918db",
   "metadata": {},
   "outputs": [
    {
     "data": {
      "text/plain": [
       "0.10478620660928994"
      ]
     },
     "execution_count": 77,
     "metadata": {},
     "output_type": "execute_result"
    }
   ],
   "source": [
    "log_rtn_df = np.log(temp_df.pct_change()+1).fillna(0)\n",
    "log_rtn_df = log_rtn_df['Close']\n",
    "cum_rtn_df = np.exp(log_rtn_df.cumsum())\n",
    "get_cagr_series(cum_rtn_df, num_day_in_year = 250)"
   ]
  },
  {
   "cell_type": "markdown",
   "id": "9b15031c",
   "metadata": {},
   "source": [
    "# Sharp ratio"
   ]
  },
  {
   "cell_type": "markdown",
   "id": "8d1474cb",
   "metadata": {},
   "source": [
    "* shap ratio = 초과수익률/변동성"
   ]
  },
  {
   "cell_type": "code",
   "execution_count": 78,
   "id": "7bb73d09",
   "metadata": {},
   "outputs": [
    {
     "data": {
      "text/plain": [
       "0.3266163444788156"
      ]
     },
     "execution_count": 78,
     "metadata": {},
     "output_type": "execute_result"
    }
   ],
   "source": [
    "yearly_rfr = 0.025\n",
    "excess_rtns = log_rtn_df.mean()*252 - yearly_rfr\n",
    "excess_rtns / (log_rtn_df.std()*np.sqrt(252))"
   ]
  },
  {
   "cell_type": "code",
   "execution_count": 79,
   "id": "f66ceeae",
   "metadata": {},
   "outputs": [],
   "source": [
    "def get_sharpe_ratio(log_rtn_df, yearly_rtr = 0.025):\n",
    "    excess_rtns = log_rtn_df.mean()*252 - yearly_rtr\n",
    "    return excess_rtns / (log_rtn_df.std()*np.sqrt(252))"
   ]
  },
  {
   "cell_type": "markdown",
   "id": "94fb0879",
   "metadata": {},
   "source": [
    "# Drawdown"
   ]
  },
  {
   "cell_type": "code",
   "execution_count": 82,
   "id": "17033f97",
   "metadata": {},
   "outputs": [
    {
     "data": {
      "image/png": "[encoded data removed]",
      "text/plain": [
       "<Figure size 720x360 with 1 Axes>"
      ]
     },
     "metadata": {
      "needs_background": "light"
     },
     "output_type": "display_data"
    }
   ],
   "source": [
    "cummax_df = cum_rtn_df.cummax()   # 전고점\n",
    "\n",
    "ax = cum_rtn_df.plot(figsize=(10,5))\n",
    "cummax_df.plot(ax=ax)\n",
    "\n",
    "\n",
    "plt.show()"
   ]
  },
  {
   "cell_type": "code",
   "execution_count": 85,
   "id": "8d279684",
   "metadata": {},
   "outputs": [
    {
     "data": {
      "text/plain": [
       "Date\n",
       "2019-01-02    0.000000\n",
       "2019-01-03   -0.009721\n",
       "2019-01-04   -0.002142\n",
       "2019-01-07    0.000000\n",
       "2019-01-08   -0.006390\n",
       "                ...   \n",
       "2020-10-26   -0.025383\n",
       "2020-10-27   -0.033747\n",
       "2020-10-28   -0.028600\n",
       "2020-10-29   -0.038702\n",
       "2020-10-30   -0.064760\n",
       "Name: Close, Length: 452, dtype: float64"
      ]
     },
     "execution_count": 85,
     "metadata": {},
     "output_type": "execute_result"
    }
   ],
   "source": [
    "drawdown_df = cum_rtn_df/cummax_df -1\n",
    "drawdown_df"
   ]
  },
  {
   "cell_type": "markdown",
   "id": "23033311",
   "metadata": {},
   "source": [
    "### 1. MDD (max draw down)"
   ]
  },
  {
   "cell_type": "code",
   "execution_count": 86,
   "id": "806f23d5",
   "metadata": {},
   "outputs": [
    {
     "data": {
      "text/plain": [
       "-0.34642576590730545"
      ]
     },
     "execution_count": 86,
     "metadata": {},
     "output_type": "execute_result"
    }
   ],
   "source": [
    "mdd = drawdown_df.min()\n",
    "mdd"
   ]
  },
  {
   "cell_type": "markdown",
   "id": "b008d817",
   "metadata": {},
   "source": [
    "### 2. longest dd period"
   ]
  },
  {
   "cell_type": "code",
   "execution_count": 91,
   "id": "709906fe",
   "metadata": {},
   "outputs": [
    {
     "data": {
      "text/plain": [
       "Date\n",
       "2019-01-02    0.0\n",
       "2019-01-07    0.0\n",
       "2019-01-09    0.0\n",
       "2019-01-11    0.0\n",
       "2019-01-15    0.0\n",
       "2019-01-16    0.0\n",
       "2019-01-17    0.0\n",
       "2019-01-18    0.0\n",
       "2019-01-21    0.0\n",
       "2019-01-23    0.0\n",
       "2019-01-24    0.0\n",
       "2019-01-25    0.0\n",
       "2019-01-29    0.0\n",
       "2019-01-30    0.0\n",
       "2019-02-14    0.0\n",
       "2019-02-20    0.0\n",
       "2019-02-21    0.0\n",
       "2019-02-22    0.0\n",
       "2019-02-25    0.0\n",
       "2019-04-15    0.0\n",
       "2019-04-16    0.0\n",
       "2019-12-13    0.0\n",
       "2019-12-17    0.0\n",
       "2019-12-19    0.0\n",
       "2019-12-20    0.0\n",
       "2019-12-27    0.0\n",
       "2020-01-10    0.0\n",
       "2020-01-13    0.0\n",
       "2020-01-14    0.0\n",
       "2020-01-16    0.0\n",
       "2020-01-17    0.0\n",
       "2020-01-20    0.0\n",
       "2020-01-22    0.0\n",
       "2020-08-05    0.0\n",
       "2020-08-06    0.0\n",
       "2020-08-07    0.0\n",
       "2020-08-10    0.0\n",
       "2020-08-11    0.0\n",
       "2020-08-12    0.0\n",
       "2020-09-15    0.0\n",
       "Name: Close, dtype: float64"
      ]
     },
     "execution_count": 91,
     "metadata": {},
     "output_type": "execute_result"
    }
   ],
   "source": [
    "max_point_df = drawdown_df[drawdown_df == 0]\n",
    "max_point_df"
   ]
  },
  {
   "cell_type": "code",
   "execution_count": 94,
   "id": "7343d19d",
   "metadata": {},
   "outputs": [
    {
     "data": {
      "text/plain": [
       "DatetimeIndex(['2019-01-02', '2019-01-07', '2019-01-09', '2019-01-11',\n",
       "               '2019-01-15', '2019-01-16', '2019-01-17', '2019-01-18',\n",
       "               '2019-01-21', '2019-01-23', '2019-01-24', '2019-01-25',\n",
       "               '2019-01-29', '2019-01-30', '2019-02-14', '2019-02-20',\n",
       "               '2019-02-21', '2019-02-22', '2019-02-25', '2019-04-15',\n",
       "               '2019-04-16', '2019-12-13', '2019-12-17', '2019-12-19',\n",
       "               '2019-12-20', '2019-12-27', '2020-01-10', '2020-01-13',\n",
       "               '2020-01-14', '2020-01-16', '2020-01-17', '2020-01-20',\n",
       "               '2020-01-22', '2020-08-05', '2020-08-06', '2020-08-07',\n",
       "               '2020-08-10', '2020-08-11', '2020-08-12'],\n",
       "              dtype='datetime64[ns]', name='Date', freq=None)"
      ]
     },
     "execution_count": 94,
     "metadata": {},
     "output_type": "execute_result"
    }
   ],
   "source": [
    "max_point_df.index[:-1]"
   ]
  },
  {
   "cell_type": "code",
   "execution_count": 93,
   "id": "91338c9c",
   "metadata": {},
   "outputs": [
    {
     "data": {
      "text/plain": [
       "DatetimeIndex(['2019-01-07', '2019-01-09', '2019-01-11', '2019-01-15',\n",
       "               '2019-01-16', '2019-01-17', '2019-01-18', '2019-01-21',\n",
       "               '2019-01-23', '2019-01-24', '2019-01-25', '2019-01-29',\n",
       "               '2019-01-30', '2019-02-14', '2019-02-20', '2019-02-21',\n",
       "               '2019-02-22', '2019-02-25', '2019-04-15', '2019-04-16',\n",
       "               '2019-12-13', '2019-12-17', '2019-12-19', '2019-12-20',\n",
       "               '2019-12-27', '2020-01-10', '2020-01-13', '2020-01-14',\n",
       "               '2020-01-16', '2020-01-17', '2020-01-20', '2020-01-22',\n",
       "               '2020-08-05', '2020-08-06', '2020-08-07', '2020-08-10',\n",
       "               '2020-08-11', '2020-08-12', '2020-09-15'],\n",
       "              dtype='datetime64[ns]', name='Date', freq=None)"
      ]
     },
     "execution_count": 93,
     "metadata": {},
     "output_type": "execute_result"
    }
   ],
   "source": [
    "max_point_df.index[1:]"
   ]
  },
  {
   "cell_type": "code",
   "execution_count": 95,
   "id": "f3905df6",
   "metadata": {},
   "outputs": [
    {
     "data": {
      "text/plain": [
       "TimedeltaIndex([  '-5 days',   '-2 days',   '-2 days',   '-4 days',\n",
       "                  '-1 days',   '-1 days',   '-1 days',   '-3 days',\n",
       "                  '-2 days',   '-1 days',   '-1 days',   '-4 days',\n",
       "                  '-1 days',  '-15 days',   '-6 days',   '-1 days',\n",
       "                  '-1 days',   '-3 days',  '-49 days',   '-1 days',\n",
       "                '-241 days',   '-4 days',   '-2 days',   '-1 days',\n",
       "                  '-7 days',  '-14 days',   '-3 days',   '-1 days',\n",
       "                  '-2 days',   '-1 days',   '-3 days',   '-2 days',\n",
       "                '-196 days',   '-1 days',   '-1 days',   '-3 days',\n",
       "                  '-1 days',   '-1 days',  '-34 days'],\n",
       "               dtype='timedelta64[ns]', name='Date', freq=None)"
      ]
     },
     "execution_count": 95,
     "metadata": {},
     "output_type": "execute_result"
    }
   ],
   "source": [
    "period = max_point_df.index[:-1] - max_point_df.index[1:]\n",
    "period"
   ]
  },
  {
   "cell_type": "code",
   "execution_count": 96,
   "id": "7ca85727",
   "metadata": {},
   "outputs": [
    {
     "data": {
      "text/plain": [
       "20"
      ]
     },
     "execution_count": 96,
     "metadata": {},
     "output_type": "execute_result"
    }
   ],
   "source": [
    "period.argmin()"
   ]
  },
  {
   "cell_type": "code",
   "execution_count": 97,
   "id": "259fc70f",
   "metadata": {},
   "outputs": [
    {
     "data": {
      "text/plain": [
       "-241"
      ]
     },
     "execution_count": 97,
     "metadata": {},
     "output_type": "execute_result"
    }
   ],
   "source": [
    "period.min().days"
   ]
  },
  {
   "cell_type": "code",
   "execution_count": 98,
   "id": "44087ad3",
   "metadata": {},
   "outputs": [],
   "source": [
    "second_df = max_point_df.index[1:]"
   ]
  },
  {
   "cell_type": "code",
   "execution_count": 101,
   "id": "eb371dbe",
   "metadata": {},
   "outputs": [],
   "source": [
    "first_df = max_point_df.index[:-1]"
   ]
  },
  {
   "cell_type": "code",
   "execution_count": 102,
   "id": "fb8a9641",
   "metadata": {},
   "outputs": [],
   "source": [
    "ldd_st = first_df[period.argmin()]"
   ]
  },
  {
   "cell_type": "code",
   "execution_count": 103,
   "id": "fd921dba",
   "metadata": {},
   "outputs": [],
   "source": [
    "ldd_ed = second_df[period.argmin()]"
   ]
  },
  {
   "cell_type": "code",
   "execution_count": 104,
   "id": "f3fb81ab",
   "metadata": {},
   "outputs": [
    {
     "data": {
      "text/plain": [
       "Timestamp('2019-04-16 00:00:00')"
      ]
     },
     "execution_count": 104,
     "metadata": {},
     "output_type": "execute_result"
    }
   ],
   "source": [
    "ldd_st"
   ]
  },
  {
   "cell_type": "code",
   "execution_count": 105,
   "id": "ef4bdfe3",
   "metadata": {},
   "outputs": [
    {
     "data": {
      "text/plain": [
       "Timestamp('2019-12-13 00:00:00')"
      ]
     },
     "execution_count": 105,
     "metadata": {},
     "output_type": "execute_result"
    }
   ],
   "source": [
    "ldd_ed"
   ]
  },
  {
   "cell_type": "code",
   "execution_count": 107,
   "id": "79f74e91",
   "metadata": {},
   "outputs": [],
   "source": [
    "def get_drawdwon_infos(cum_returns_df):\n",
    "    cummax_df = cum_rtn_df.cummax()\n",
    "    dd_df = cum_returns_df / cummax_df -1\n",
    "    \n",
    "    mdd_series = dd_df.min()\n",
    "    \n",
    "    max_point_df = dd_df[dd_df ==0]\n",
    "    \n",
    "    first_df = max_point_df.index[:-1]\n",
    "    second_df = max_point_df.index[1:]\n",
    "    \n",
    "    period = first_df - second_df\n",
    "    \n",
    "    longest_dd_period = period.min().days\n",
    "    \n",
    "    ldd_st = first_df[period.argmin()]\n",
    "    ldd_ed = second_df[period.argmin()]\n",
    "    \n",
    "    return mdd_series, longest_dd_period, ldd_st, ldd_ed"
   ]
  },
  {
   "cell_type": "code",
   "execution_count": 108,
   "id": "c3165778",
   "metadata": {},
   "outputs": [],
   "source": [
    "mdd_series, longest_dd, longest_dd_st, longest_dd_ed = get_drawdwon_infos(cum_rtn_df)"
   ]
  },
  {
   "cell_type": "code",
   "execution_count": 109,
   "id": "0f501c89",
   "metadata": {},
   "outputs": [
    {
     "name": "stdout",
     "output_type": "stream",
     "text": [
      "최대 하락률 :  -0.34642576590730545\n",
      "최대 하락기간 :  -241\n",
      "최대 하락기간 날짜 :  2019-04-16 00:00:00 ~ 2019-12-13 00:00:00\n"
     ]
    }
   ],
   "source": [
    "print('최대 하락률 : ', mdd)\n",
    "print('최대 하락기간 : ', longest_dd)\n",
    "print('최대 하락기간 날짜 : ', longest_dd_st,'~',longest_dd_ed)"
   ]
  },
  {
   "cell_type": "code",
   "execution_count": null,
   "id": "0ff8856b",
   "metadata": {},
   "outputs": [],
   "source": []
  },
  {
   "cell_type": "code",
   "execution_count": null,
   "id": "f20b75cf",
   "metadata": {},
   "outputs": [],
   "source": []
  },
  {
   "cell_type": "code",
   "execution_count": null,
   "id": "ff05bcb0",
   "metadata": {},
   "outputs": [],
   "source": []
  },
  {
   "cell_type": "code",
   "execution_count": null,
   "id": "786ff72e",
   "metadata": {},
   "outputs": [],
   "source": []
  },
  {
   "cell_type": "code",
   "execution_count": null,
   "id": "7284dec6",
   "metadata": {},
   "outputs": [],
   "source": []
  },
  {
   "cell_type": "code",
   "execution_count": null,
   "id": "f24168af",
   "metadata": {},
   "outputs": [],
   "source": []
  },
  {
   "cell_type": "code",
   "execution_count": null,
   "id": "bfc56db8",
   "metadata": {},
   "outputs": [],
   "source": []
  },
  {
   "cell_type": "code",
   "execution_count": null,
   "id": "21982716",
   "metadata": {},
   "outputs": [],
   "source": []
  }
 ],
 "metadata": {
  "kernelspec": {
   "display_name": "Python 3 (ipykernel)",
   "language": "python",
   "name": "python3"
  },
  "language_info": {
   "codemirror_mode": {
    "name": "ipython",
    "version": 3
   },
   "file_extension": ".py",
   "mimetype": "text/x-python",
   "name": "python",
   "nbconvert_exporter": "python",
   "pygments_lexer": "ipython3",
   "version": "3.9.7"
  },
  "varInspector": {
   "cols": {
    "lenName": 16,
    "lenType": 16,
    "lenVar": 40
   },
   "kernels_config": {
    "python": {
     "delete_cmd_postfix": "",
     "delete_cmd_prefix": "del ",
     "library": "var_list.py",
     "varRefreshCmd": "print(var_dic_list())"
    },
    "r": {
     "delete_cmd_postfix": ") ",
     "delete_cmd_prefix": "rm(",
     "library": "var_list.r",
     "varRefreshCmd": "cat(var_dic_list()) "
    }
   },
   "types_to_exclude": [
    "module",
    "function",
    "builtin_function_or_method",
    "instance",
    "_Feature"
   ],
   "window_display": false
  }
 },
 "nbformat": 4,
 "nbformat_minor": 5
}
