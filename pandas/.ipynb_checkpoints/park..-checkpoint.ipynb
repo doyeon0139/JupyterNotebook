{
 "cells": [
  {
   "cell_type": "code",
   "execution_count": 1,
   "id": "391f2298",
   "metadata": {},
   "outputs": [],
   "source": [
    "import pandas as pd\n",
    "import numpy as np\n",
    "import matplotlib.pyplot as plt\n",
    "import seaborn as sns"
   ]
  },
  {
   "cell_type": "code",
   "execution_count": 2,
   "id": "9f85e713",
   "metadata": {},
   "outputs": [],
   "source": [
    "import warnings\n",
    "warnings.filterwarnings(action='ignore') "
   ]
  },
  {
   "cell_type": "code",
   "execution_count": 3,
   "id": "23ce7d5c",
   "metadata": {},
   "outputs": [],
   "source": [
    "\n",
    "import matplotlib as mpl\n",
    "import matplotlib.font_manager as fm\n",
    "\n",
    "mpl.rcParams['axes.unicode_minus'] = False\n",
    "\n",
    "path = 'C:/Windows/Fonts/malgun.ttf'\n",
    "font_name = fm.FontProperties(fname=path, size=50).get_name()\n",
    "plt.rc('font', family=font_name)"
   ]
  },
  {
   "cell_type": "code",
   "execution_count": null,
   "id": "3da6c812",
   "metadata": {},
   "outputs": [],
   "source": []
  },
  {
   "cell_type": "code",
   "execution_count": 4,
   "id": "0d849ddf",
   "metadata": {},
   "outputs": [],
   "source": [
    "df = pd.read_csv('./data/전국도시공원표준데이터.csv', encoding='cp949')"
   ]
  },
  {
   "cell_type": "code",
   "execution_count": 5,
   "id": "c1133859",
   "metadata": {},
   "outputs": [
    {
     "data": {
      "text/html": [
       "<div>\n",
       "<style scoped>\n",
       "    .dataframe tbody tr th:only-of-type {\n",
       "        vertical-align: middle;\n",
       "    }\n",
       "\n",
       "    .dataframe tbody tr th {\n",
       "        vertical-align: top;\n",
       "    }\n",
       "\n",
       "    .dataframe thead th {\n",
       "        text-align: right;\n",
       "    }\n",
       "</style>\n",
       "<table border=\"1\" class=\"dataframe\">\n",
       "  <thead>\n",
       "    <tr style=\"text-align: right;\">\n",
       "      <th></th>\n",
       "      <th>관리번호</th>\n",
       "      <th>공원명</th>\n",
       "      <th>공원구분</th>\n",
       "      <th>소재지도로명주소</th>\n",
       "      <th>소재지지번주소</th>\n",
       "      <th>위도</th>\n",
       "      <th>경도</th>\n",
       "      <th>공원면적</th>\n",
       "      <th>공원보유시설(운동시설)</th>\n",
       "      <th>공원보유시설(유희시설)</th>\n",
       "      <th>공원보유시설(편익시설)</th>\n",
       "      <th>공원보유시설(교양시설)</th>\n",
       "      <th>공원보유시설(기타시설)</th>\n",
       "      <th>지정고시일</th>\n",
       "      <th>관리기관명</th>\n",
       "      <th>전화번호</th>\n",
       "      <th>데이터기준일자</th>\n",
       "      <th>제공기관코드</th>\n",
       "      <th>제공기관명</th>\n",
       "      <th>Unnamed: 19</th>\n",
       "    </tr>\n",
       "  </thead>\n",
       "  <tbody>\n",
       "    <tr>\n",
       "      <th>0</th>\n",
       "      <td>26440-00001</td>\n",
       "      <td>구랑공원</td>\n",
       "      <td>문화공원</td>\n",
       "      <td>NaN</td>\n",
       "      <td>부산광역시 강서구 구랑동 1199-7</td>\n",
       "      <td>35.157215</td>\n",
       "      <td>128.854935</td>\n",
       "      <td>9137.0</td>\n",
       "      <td>4</td>\n",
       "      <td>NaN</td>\n",
       "      <td>화장실</td>\n",
       "      <td>NaN</td>\n",
       "      <td>팔각정자, 파고라2, 평의자6, 앉음벽14.38m, 축구장(골대2), 컨테이너, 안...</td>\n",
       "      <td>2011-09-02</td>\n",
       "      <td>부산광역시 강서구청 녹지공원과</td>\n",
       "      <td>051-970-4536</td>\n",
       "      <td>2019-05-02</td>\n",
       "      <td>3360000</td>\n",
       "      <td>부산광역시 강서구</td>\n",
       "      <td>NaN</td>\n",
       "    </tr>\n",
       "    <tr>\n",
       "      <th>1</th>\n",
       "      <td>26440-00002</td>\n",
       "      <td>압곡공원</td>\n",
       "      <td>근린공원</td>\n",
       "      <td>NaN</td>\n",
       "      <td>부산광역시 강서구 구랑동 1219</td>\n",
       "      <td>35.154655</td>\n",
       "      <td>128.854727</td>\n",
       "      <td>33756.0</td>\n",
       "      <td>4</td>\n",
       "      <td>NaN</td>\n",
       "      <td>NaN</td>\n",
       "      <td>NaN</td>\n",
       "      <td>배드민턴장, 족구장, 파고라4, 안내판, 볼라드7, 데크435.11㎡, 데크계단19...</td>\n",
       "      <td>2008-02-28</td>\n",
       "      <td>부산광역시 강서구청 녹지공원과</td>\n",
       "      <td>051-970-4536</td>\n",
       "      <td>2019-05-02</td>\n",
       "      <td>3360000</td>\n",
       "      <td>부산광역시 강서구</td>\n",
       "      <td>NaN</td>\n",
       "    </tr>\n",
       "    <tr>\n",
       "      <th>2</th>\n",
       "      <td>26440-00003</td>\n",
       "      <td>서연정공원</td>\n",
       "      <td>소공원</td>\n",
       "      <td>NaN</td>\n",
       "      <td>부산광역시 강서구 대저1동 1330-7</td>\n",
       "      <td>35.216183</td>\n",
       "      <td>128.969558</td>\n",
       "      <td>646.0</td>\n",
       "      <td>7</td>\n",
       "      <td>NaN</td>\n",
       "      <td>NaN</td>\n",
       "      <td>NaN</td>\n",
       "      <td>앉음벽13.57m, 트렐리스3, 안내판2, 플랜트2, 파고라, 평의자4</td>\n",
       "      <td>2013-01-23</td>\n",
       "      <td>부산광역시 강서구청 녹지공원과</td>\n",
       "      <td>051-970-4536</td>\n",
       "      <td>2019-05-02</td>\n",
       "      <td>3360000</td>\n",
       "      <td>부산광역시 강서구</td>\n",
       "      <td>NaN</td>\n",
       "    </tr>\n",
       "    <tr>\n",
       "      <th>3</th>\n",
       "      <td>26440-00004</td>\n",
       "      <td>용두공원</td>\n",
       "      <td>어린이공원</td>\n",
       "      <td>NaN</td>\n",
       "      <td>부산광역시 강서구 대저2동 1870-67</td>\n",
       "      <td>35.183679</td>\n",
       "      <td>128.956007</td>\n",
       "      <td>1620.0</td>\n",
       "      <td>NaN</td>\n",
       "      <td>조합놀이기구, 그네</td>\n",
       "      <td>NaN</td>\n",
       "      <td>NaN</td>\n",
       "      <td>정자, 농구장, 평의자6</td>\n",
       "      <td>1998-07-25</td>\n",
       "      <td>부산광역시 강서구청 녹지공원과</td>\n",
       "      <td>051-970-4536</td>\n",
       "      <td>2019-05-02</td>\n",
       "      <td>3360000</td>\n",
       "      <td>부산광역시 강서구</td>\n",
       "      <td>NaN</td>\n",
       "    </tr>\n",
       "    <tr>\n",
       "      <th>4</th>\n",
       "      <td>26440-00005</td>\n",
       "      <td>새동내공원</td>\n",
       "      <td>어린이공원</td>\n",
       "      <td>NaN</td>\n",
       "      <td>부산광역시 강서구 대저2동 2407-1</td>\n",
       "      <td>35.174568</td>\n",
       "      <td>128.950612</td>\n",
       "      <td>1009.0</td>\n",
       "      <td>8</td>\n",
       "      <td>조합놀이기구, 그네, 흔들놀이기구2</td>\n",
       "      <td>NaN</td>\n",
       "      <td>NaN</td>\n",
       "      <td>정자, 평의자14, 트렐리스2, 안내판, 볼라드</td>\n",
       "      <td>1995-04-07</td>\n",
       "      <td>부산광역시 강서구청 녹지공원과</td>\n",
       "      <td>051-970-4536</td>\n",
       "      <td>2019-05-02</td>\n",
       "      <td>3360000</td>\n",
       "      <td>부산광역시 강서구</td>\n",
       "      <td>NaN</td>\n",
       "    </tr>\n",
       "  </tbody>\n",
       "</table>\n",
       "</div>"
      ],
      "text/plain": [
       "          관리번호    공원명   공원구분 소재지도로명주소                 소재지지번주소         위도  \\\n",
       "0  26440-00001   구랑공원   문화공원      NaN    부산광역시 강서구 구랑동 1199-7  35.157215   \n",
       "1  26440-00002   압곡공원   근린공원      NaN      부산광역시 강서구 구랑동 1219  35.154655   \n",
       "2  26440-00003  서연정공원    소공원      NaN   부산광역시 강서구 대저1동 1330-7  35.216183   \n",
       "3  26440-00004   용두공원  어린이공원      NaN  부산광역시 강서구 대저2동 1870-67  35.183679   \n",
       "4  26440-00005  새동내공원  어린이공원      NaN   부산광역시 강서구 대저2동 2407-1  35.174568   \n",
       "\n",
       "           경도     공원면적 공원보유시설(운동시설)         공원보유시설(유희시설) 공원보유시설(편익시설)  \\\n",
       "0  128.854935   9137.0            4                  NaN          화장실   \n",
       "1  128.854727  33756.0            4                  NaN          NaN   \n",
       "2  128.969558    646.0            7                  NaN          NaN   \n",
       "3  128.956007   1620.0          NaN           조합놀이기구, 그네          NaN   \n",
       "4  128.950612   1009.0            8  조합놀이기구, 그네, 흔들놀이기구2          NaN   \n",
       "\n",
       "  공원보유시설(교양시설)                                       공원보유시설(기타시설)       지정고시일  \\\n",
       "0          NaN  팔각정자, 파고라2, 평의자6, 앉음벽14.38m, 축구장(골대2), 컨테이너, 안...  2011-09-02   \n",
       "1          NaN  배드민턴장, 족구장, 파고라4, 안내판, 볼라드7, 데크435.11㎡, 데크계단19...  2008-02-28   \n",
       "2          NaN            앉음벽13.57m, 트렐리스3, 안내판2, 플랜트2, 파고라, 평의자4  2013-01-23   \n",
       "3          NaN                                      정자, 농구장, 평의자6  1998-07-25   \n",
       "4          NaN                         정자, 평의자14, 트렐리스2, 안내판, 볼라드  1995-04-07   \n",
       "\n",
       "              관리기관명          전화번호     데이터기준일자   제공기관코드      제공기관명  Unnamed: 19  \n",
       "0  부산광역시 강서구청 녹지공원과  051-970-4536  2019-05-02  3360000  부산광역시 강서구          NaN  \n",
       "1  부산광역시 강서구청 녹지공원과  051-970-4536  2019-05-02  3360000  부산광역시 강서구          NaN  \n",
       "2  부산광역시 강서구청 녹지공원과  051-970-4536  2019-05-02  3360000  부산광역시 강서구          NaN  \n",
       "3  부산광역시 강서구청 녹지공원과  051-970-4536  2019-05-02  3360000  부산광역시 강서구          NaN  \n",
       "4  부산광역시 강서구청 녹지공원과  051-970-4536  2019-05-02  3360000  부산광역시 강서구          NaN  "
      ]
     },
     "execution_count": 5,
     "metadata": {},
     "output_type": "execute_result"
    }
   ],
   "source": [
    "df.head()"
   ]
  },
  {
   "cell_type": "code",
   "execution_count": null,
   "id": "27253860",
   "metadata": {},
   "outputs": [],
   "source": []
  },
  {
   "cell_type": "code",
   "execution_count": 6,
   "id": "6e752c13",
   "metadata": {},
   "outputs": [],
   "source": [
    "# pandas profiling\n",
    "# - dataframe을 report로 만들어주는 모듈.."
   ]
  },
  {
   "cell_type": "code",
   "execution_count": 7,
   "id": "f30a0992",
   "metadata": {},
   "outputs": [],
   "source": [
    "# !pip install pandas-profiling"
   ]
  },
  {
   "cell_type": "code",
   "execution_count": null,
   "id": "6827c03f",
   "metadata": {},
   "outputs": [],
   "source": []
  },
  {
   "cell_type": "code",
   "execution_count": 8,
   "id": "5ffd2102",
   "metadata": {},
   "outputs": [],
   "source": [
    "import pandas_profiling"
   ]
  },
  {
   "cell_type": "code",
   "execution_count": 9,
   "id": "b477642f",
   "metadata": {},
   "outputs": [],
   "source": [
    "from pandas_profiling import ProfileReport"
   ]
  },
  {
   "cell_type": "code",
   "execution_count": 10,
   "id": "5450a276",
   "metadata": {},
   "outputs": [
    {
     "data": {
      "application/vnd.jupyter.widget-view+json": {
       "model_id": "1a986a62549d4b6686ab2828d8f11c01",
       "version_major": 2,
       "version_minor": 0
      },
      "text/plain": [
       "Summarize dataset:   0%|          | 0/5 [00:00<?, ?it/s]"
      ]
     },
     "metadata": {},
     "output_type": "display_data"
    },
    {
     "data": {
      "application/vnd.jupyter.widget-view+json": {
       "model_id": "691076e5530248a7894c21fbc011bf20",
       "version_major": 2,
       "version_minor": 0
      },
      "text/plain": [
       "Generate report structure:   0%|          | 0/1 [00:00<?, ?it/s]"
      ]
     },
     "metadata": {},
     "output_type": "display_data"
    },
    {
     "data": {
      "application/vnd.jupyter.widget-view+json": {
       "model_id": "0b129ec551b840cf9c55cb4d8fbe43d4",
       "version_major": 2,
       "version_minor": 0
      },
      "text/plain": [
       "Render HTML:   0%|          | 0/1 [00:00<?, ?it/s]"
      ]
     },
     "metadata": {},
     "output_type": "display_data"
    },
    {
     "data": {
      "application/vnd.jupyter.widget-view+json": {
       "model_id": "1e01e5ea472c4d3aa0719b1ba276710c",
       "version_major": 2,
       "version_minor": 0
      },
      "text/plain": [
       "Export report to file:   0%|          | 0/1 [00:00<?, ?it/s]"
      ]
     },
     "metadata": {},
     "output_type": "display_data"
    }
   ],
   "source": [
    "profile = ProfileReport(df, title='도시공원 표준 데이터')\n",
    "profile.to_file(output_file='05-park_pandas_profile.html')"
   ]
  },
  {
   "cell_type": "code",
   "execution_count": null,
   "id": "df6fcdca",
   "metadata": {},
   "outputs": [],
   "source": []
  },
  {
   "cell_type": "code",
   "execution_count": 11,
   "id": "97195f7e",
   "metadata": {},
   "outputs": [
    {
     "name": "stdout",
     "output_type": "stream",
     "text": [
      "<class 'pandas.core.frame.DataFrame'>\n",
      "RangeIndex: 18137 entries, 0 to 18136\n",
      "Data columns (total 20 columns):\n",
      " #   Column        Non-Null Count  Dtype  \n",
      "---  ------        --------------  -----  \n",
      " 0   관리번호          18137 non-null  object \n",
      " 1   공원명           18137 non-null  object \n",
      " 2   공원구분          18137 non-null  object \n",
      " 3   소재지도로명주소      8039 non-null   object \n",
      " 4   소재지지번주소       17158 non-null  object \n",
      " 5   위도            18137 non-null  float64\n",
      " 6   경도            18137 non-null  float64\n",
      " 7   공원면적          18137 non-null  float64\n",
      " 8   공원보유시설(운동시설)  4845 non-null   object \n",
      " 9   공원보유시설(유희시설)  6964 non-null   object \n",
      " 10  공원보유시설(편익시설)  5084 non-null   object \n",
      " 11  공원보유시설(교양시설)  1160 non-null   object \n",
      " 12  공원보유시설(기타시설)  3116 non-null   object \n",
      " 13  지정고시일         15225 non-null  object \n",
      " 14  관리기관명         17383 non-null  object \n",
      " 15  전화번호          16957 non-null  object \n",
      " 16  데이터기준일자       18137 non-null  object \n",
      " 17  제공기관코드        18137 non-null  object \n",
      " 18  제공기관명         18137 non-null  object \n",
      " 19  Unnamed: 19   0 non-null      float64\n",
      "dtypes: float64(4), object(16)\n",
      "memory usage: 2.8+ MB\n"
     ]
    }
   ],
   "source": [
    "df.info()"
   ]
  },
  {
   "cell_type": "code",
   "execution_count": 12,
   "id": "c5803a84",
   "metadata": {},
   "outputs": [
    {
     "data": {
      "text/html": [
       "<div>\n",
       "<style scoped>\n",
       "    .dataframe tbody tr th:only-of-type {\n",
       "        vertical-align: middle;\n",
       "    }\n",
       "\n",
       "    .dataframe tbody tr th {\n",
       "        vertical-align: top;\n",
       "    }\n",
       "\n",
       "    .dataframe thead th {\n",
       "        text-align: right;\n",
       "    }\n",
       "</style>\n",
       "<table border=\"1\" class=\"dataframe\">\n",
       "  <thead>\n",
       "    <tr style=\"text-align: right;\">\n",
       "      <th></th>\n",
       "      <th>위도</th>\n",
       "      <th>경도</th>\n",
       "      <th>공원면적</th>\n",
       "      <th>Unnamed: 19</th>\n",
       "    </tr>\n",
       "  </thead>\n",
       "  <tbody>\n",
       "    <tr>\n",
       "      <th>count</th>\n",
       "      <td>18137.000000</td>\n",
       "      <td>18137.000000</td>\n",
       "      <td>1.813700e+04</td>\n",
       "      <td>0.0</td>\n",
       "    </tr>\n",
       "    <tr>\n",
       "      <th>mean</th>\n",
       "      <td>36.335922</td>\n",
       "      <td>127.543937</td>\n",
       "      <td>3.781196e+04</td>\n",
       "      <td>NaN</td>\n",
       "    </tr>\n",
       "    <tr>\n",
       "      <th>std</th>\n",
       "      <td>1.051835</td>\n",
       "      <td>0.892670</td>\n",
       "      <td>2.203052e+05</td>\n",
       "      <td>NaN</td>\n",
       "    </tr>\n",
       "    <tr>\n",
       "      <th>min</th>\n",
       "      <td>27.551606</td>\n",
       "      <td>125.430955</td>\n",
       "      <td>0.000000e+00</td>\n",
       "      <td>NaN</td>\n",
       "    </tr>\n",
       "    <tr>\n",
       "      <th>25%</th>\n",
       "      <td>35.275430</td>\n",
       "      <td>126.872301</td>\n",
       "      <td>1.503000e+03</td>\n",
       "      <td>NaN</td>\n",
       "    </tr>\n",
       "    <tr>\n",
       "      <th>50%</th>\n",
       "      <td>36.364729</td>\n",
       "      <td>127.130926</td>\n",
       "      <td>2.159000e+03</td>\n",
       "      <td>NaN</td>\n",
       "    </tr>\n",
       "    <tr>\n",
       "      <th>75%</th>\n",
       "      <td>37.404278</td>\n",
       "      <td>128.466193</td>\n",
       "      <td>1.025460e+04</td>\n",
       "      <td>NaN</td>\n",
       "    </tr>\n",
       "    <tr>\n",
       "      <th>max</th>\n",
       "      <td>38.224926</td>\n",
       "      <td>137.202661</td>\n",
       "      <td>8.703000e+06</td>\n",
       "      <td>NaN</td>\n",
       "    </tr>\n",
       "  </tbody>\n",
       "</table>\n",
       "</div>"
      ],
      "text/plain": [
       "                 위도            경도          공원면적  Unnamed: 19\n",
       "count  18137.000000  18137.000000  1.813700e+04          0.0\n",
       "mean      36.335922    127.543937  3.781196e+04          NaN\n",
       "std        1.051835      0.892670  2.203052e+05          NaN\n",
       "min       27.551606    125.430955  0.000000e+00          NaN\n",
       "25%       35.275430    126.872301  1.503000e+03          NaN\n",
       "50%       36.364729    127.130926  2.159000e+03          NaN\n",
       "75%       37.404278    128.466193  1.025460e+04          NaN\n",
       "max       38.224926    137.202661  8.703000e+06          NaN"
      ]
     },
     "execution_count": 12,
     "metadata": {},
     "output_type": "execute_result"
    }
   ],
   "source": [
    "df.describe()"
   ]
  },
  {
   "cell_type": "code",
   "execution_count": null,
   "id": "2c1b5fd1",
   "metadata": {},
   "outputs": [],
   "source": []
  },
  {
   "cell_type": "code",
   "execution_count": 13,
   "id": "d373d070",
   "metadata": {},
   "outputs": [
    {
     "data": {
      "text/plain": [
       "관리번호                0\n",
       "공원명                 0\n",
       "공원구분                0\n",
       "소재지도로명주소        10098\n",
       "소재지지번주소           979\n",
       "위도                  0\n",
       "경도                  0\n",
       "공원면적                0\n",
       "공원보유시설(운동시설)    13292\n",
       "공원보유시설(유희시설)    11173\n",
       "공원보유시설(편익시설)    13053\n",
       "공원보유시설(교양시설)    16977\n",
       "공원보유시설(기타시설)    15021\n",
       "지정고시일            2912\n",
       "관리기관명             754\n",
       "전화번호             1180\n",
       "데이터기준일자             0\n",
       "제공기관코드              0\n",
       "제공기관명               0\n",
       "Unnamed: 19     18137\n",
       "dtype: int64"
      ]
     },
     "execution_count": 13,
     "metadata": {},
     "output_type": "execute_result"
    }
   ],
   "source": [
    "df.isna().sum()"
   ]
  },
  {
   "cell_type": "code",
   "execution_count": 14,
   "id": "2e144a7c",
   "metadata": {},
   "outputs": [
    {
     "data": {
      "text/plain": [
       "관리번호            0.000000\n",
       "공원명             0.000000\n",
       "공원구분            0.000000\n",
       "소재지도로명주소        0.556762\n",
       "소재지지번주소         0.053978\n",
       "위도              0.000000\n",
       "경도              0.000000\n",
       "공원면적            0.000000\n",
       "공원보유시설(운동시설)    0.732867\n",
       "공원보유시설(유희시설)    0.616034\n",
       "공원보유시설(편익시설)    0.719689\n",
       "공원보유시설(교양시설)    0.936042\n",
       "공원보유시설(기타시설)    0.828197\n",
       "지정고시일           0.160556\n",
       "관리기관명           0.041572\n",
       "전화번호            0.065060\n",
       "데이터기준일자         0.000000\n",
       "제공기관코드          0.000000\n",
       "제공기관명           0.000000\n",
       "Unnamed: 19     1.000000\n",
       "dtype: float64"
      ]
     },
     "execution_count": 14,
     "metadata": {},
     "output_type": "execute_result"
    }
   ],
   "source": [
    "df.isna().mean()"
   ]
  },
  {
   "cell_type": "code",
   "execution_count": null,
   "id": "c600549f",
   "metadata": {},
   "outputs": [],
   "source": []
  },
  {
   "cell_type": "code",
   "execution_count": 15,
   "id": "571195f0",
   "metadata": {},
   "outputs": [],
   "source": [
    "sns.set(font = 'Malgun Gothic',\n",
    "       rc={\"axes.unicode_minus\":False},\n",
    "       style = 'darkgrid')"
   ]
  },
  {
   "cell_type": "code",
   "execution_count": 16,
   "id": "862e9e57",
   "metadata": {},
   "outputs": [],
   "source": [
    "import matplotlib.pyplot as plt"
   ]
  },
  {
   "cell_type": "code",
   "execution_count": 17,
   "id": "656f5be7",
   "metadata": {},
   "outputs": [
    {
     "name": "stdout",
     "output_type": "stream",
     "text": [
      "Requirement already satisfied: missingno in c:\\users\\bitcamp\\anaconda3\\lib\\site-packages (0.5.0)\n",
      "Requirement already satisfied: scipy in c:\\users\\bitcamp\\anaconda3\\lib\\site-packages (from missingno) (1.7.1)\n",
      "Requirement already satisfied: seaborn in c:\\users\\bitcamp\\anaconda3\\lib\\site-packages (from missingno) (0.11.2)\n",
      "Requirement already satisfied: matplotlib in c:\\users\\bitcamp\\anaconda3\\lib\\site-packages (from missingno) (3.4.3)\n",
      "Requirement already satisfied: numpy in c:\\users\\bitcamp\\anaconda3\\lib\\site-packages (from missingno) (1.22.1)\n",
      "Requirement already satisfied: pyparsing>=2.2.1 in c:\\users\\bitcamp\\anaconda3\\lib\\site-packages (from matplotlib->missingno) (3.0.4)\n",
      "Requirement already satisfied: python-dateutil>=2.7 in c:\\users\\bitcamp\\anaconda3\\lib\\site-packages (from matplotlib->missingno) (2.8.2)\n",
      "Requirement already satisfied: kiwisolver>=1.0.1 in c:\\users\\bitcamp\\anaconda3\\lib\\site-packages (from matplotlib->missingno) (1.3.1)\n",
      "Requirement already satisfied: pillow>=6.2.0 in c:\\users\\bitcamp\\anaconda3\\lib\\site-packages (from matplotlib->missingno) (8.4.0)\n",
      "Requirement already satisfied: cycler>=0.10 in c:\\users\\bitcamp\\anaconda3\\lib\\site-packages (from matplotlib->missingno) (0.10.0)\n",
      "Requirement already satisfied: six in c:\\users\\bitcamp\\anaconda3\\lib\\site-packages (from cycler>=0.10->matplotlib->missingno) (1.16.0)\n",
      "Requirement already satisfied: pandas>=0.23 in c:\\users\\bitcamp\\anaconda3\\lib\\site-packages (from seaborn->missingno) (1.3.4)\n",
      "Requirement already satisfied: pytz>=2017.3 in c:\\users\\bitcamp\\anaconda3\\lib\\site-packages (from pandas>=0.23->seaborn->missingno) (2021.3)\n"
     ]
    }
   ],
   "source": [
    "!pip install missingno"
   ]
  },
  {
   "cell_type": "code",
   "execution_count": 18,
   "id": "07917924",
   "metadata": {},
   "outputs": [
    {
     "name": "stdout",
     "output_type": "stream",
     "text": [
      "^C\n"
     ]
    }
   ],
   "source": [
    "!conda install -c conda-forge missingno"
   ]
  },
  {
   "cell_type": "code",
   "execution_count": 19,
   "id": "b275bc46",
   "metadata": {},
   "outputs": [],
   "source": [
    "import missingno"
   ]
  },
  {
   "cell_type": "code",
   "execution_count": 20,
   "id": "454f3d65",
   "metadata": {},
   "outputs": [
    {
     "data": {
      "text/plain": [
       "<AxesSubplot:>"
      ]
     },
     "execution_count": 20,
     "metadata": {},
     "output_type": "execute_result"
    },
    {
     "data": {
      "image/png": "[encoded data removed]",
      "text/plain": [
       "<Figure size 1800x720 with 2 Axes>"
      ]
     },
     "metadata": {
      "needs_background": "light"
     },
     "output_type": "display_data"
    }
   ],
   "source": [
    "%matplotlib inline\n",
    "missingno.matrix(df)"
   ]
  },
  {
   "cell_type": "code",
   "execution_count": null,
   "id": "b6fef232",
   "metadata": {},
   "outputs": [],
   "source": []
  },
  {
   "cell_type": "code",
   "execution_count": 21,
   "id": "8294ae80",
   "metadata": {},
   "outputs": [
    {
     "data": {
      "text/plain": [
       "Index(['관리번호', '공원명', '공원구분', '소재지도로명주소', '소재지지번주소', '위도', '경도', '공원면적',\n",
       "       '공원보유시설(운동시설)', '공원보유시설(유희시설)', '공원보유시설(편익시설)', '공원보유시설(교양시설)',\n",
       "       '공원보유시설(기타시설)', '지정고시일', '관리기관명', '전화번호', '데이터기준일자', '제공기관코드', '제공기관명',\n",
       "       'Unnamed: 19'],\n",
       "      dtype='object')"
      ]
     },
     "execution_count": 21,
     "metadata": {},
     "output_type": "execute_result"
    }
   ],
   "source": [
    "df.columns"
   ]
  },
  {
   "cell_type": "code",
   "execution_count": 22,
   "id": "bdb98022",
   "metadata": {},
   "outputs": [],
   "source": [
    "df.drop('Unnamed: 19', axis=1, inplace=True)"
   ]
  },
  {
   "cell_type": "code",
   "execution_count": 23,
   "id": "22ab1a75",
   "metadata": {},
   "outputs": [
    {
     "data": {
      "text/plain": [
       "소재지도로명주소    10098\n",
       "소재지지번주소       979\n",
       "dtype: int64"
      ]
     },
     "execution_count": 23,
     "metadata": {},
     "output_type": "execute_result"
    }
   ],
   "source": [
    "df[['소재지도로명주소', '소재지지번주소']].isna().sum()"
   ]
  },
  {
   "cell_type": "code",
   "execution_count": null,
   "id": "e97e45db",
   "metadata": {},
   "outputs": [],
   "source": []
  },
  {
   "cell_type": "code",
   "execution_count": 24,
   "id": "fdc56fa1",
   "metadata": {},
   "outputs": [
    {
     "data": {
      "text/plain": [
       "0        False\n",
       "1        False\n",
       "2        False\n",
       "3        False\n",
       "4        False\n",
       "         ...  \n",
       "18132    False\n",
       "18133    False\n",
       "18134    False\n",
       "18135    False\n",
       "18136    False\n",
       "Length: 18137, dtype: bool"
      ]
     },
     "execution_count": 24,
     "metadata": {},
     "output_type": "execute_result"
    }
   ],
   "source": [
    "# 도로명주소와 지번주소 모두가 결측치인 데이터의 수..\n",
    "\n",
    "(df['소재지도로명주소'].isna()) & (df['소재지지번주소'].isna())"
   ]
  },
  {
   "cell_type": "code",
   "execution_count": null,
   "id": "e16edbcb",
   "metadata": {},
   "outputs": [],
   "source": []
  },
  {
   "cell_type": "code",
   "execution_count": 25,
   "id": "443e3dc7",
   "metadata": {},
   "outputs": [
    {
     "data": {
      "text/plain": [
       "10098"
      ]
     },
     "execution_count": 25,
     "metadata": {},
     "output_type": "execute_result"
    }
   ],
   "source": [
    "sum(df['소재지도로명주소'].isna())"
   ]
  },
  {
   "cell_type": "code",
   "execution_count": 26,
   "id": "0a1bea5c",
   "metadata": {},
   "outputs": [
    {
     "data": {
      "text/plain": [
       "0          부산광역시 강서구 구랑동 1199-7\n",
       "1            부산광역시 강서구 구랑동 1219\n",
       "2         부산광역시 강서구 대저1동 1330-7\n",
       "3        부산광역시 강서구 대저2동 1870-67\n",
       "4         부산광역시 강서구 대저2동 2407-1\n",
       "                  ...          \n",
       "18132        인천광역시 동구 송림동 291-6\n",
       "18133      경상북도 영양군 영양읍 서부리 123\n",
       "18134    경상북도 영양군 입암면 신구리 산27-5\n",
       "18135      경상북도 영양군 수비면 발리리 산48\n",
       "18136      경상북도 영양군 영양읍 삼지리 200\n",
       "Name: 소재지지번주소, Length: 18137, dtype: object"
      ]
     },
     "execution_count": 26,
     "metadata": {},
     "output_type": "execute_result"
    }
   ],
   "source": [
    "df['소재지지번주소']"
   ]
  },
  {
   "cell_type": "code",
   "execution_count": null,
   "id": "e6d46d53",
   "metadata": {},
   "outputs": [],
   "source": []
  },
  {
   "cell_type": "code",
   "execution_count": 27,
   "id": "8e106018",
   "metadata": {},
   "outputs": [],
   "source": [
    "df['소재지도로명주소'] = df['소재지도로명주소'].fillna(df['소재지지번주소'])"
   ]
  },
  {
   "cell_type": "code",
   "execution_count": 28,
   "id": "ce223b58",
   "metadata": {},
   "outputs": [
    {
     "data": {
      "text/plain": [
       "0"
      ]
     },
     "execution_count": 28,
     "metadata": {},
     "output_type": "execute_result"
    }
   ],
   "source": [
    "df['소재지도로명주소'].isna().sum()"
   ]
  },
  {
   "cell_type": "code",
   "execution_count": null,
   "id": "b9954c10",
   "metadata": {},
   "outputs": [],
   "source": []
  },
  {
   "cell_type": "code",
   "execution_count": 29,
   "id": "8c54052e",
   "metadata": {},
   "outputs": [
    {
     "data": {
      "text/plain": [
       "0          부산광역시 강서구 구랑동 1199-7\n",
       "1            부산광역시 강서구 구랑동 1219\n",
       "2         부산광역시 강서구 대저1동 1330-7\n",
       "3        부산광역시 강서구 대저2동 1870-67\n",
       "4         부산광역시 강서구 대저2동 2407-1\n",
       "                  ...          \n",
       "18132        인천광역시 동구 송림동 291-6\n",
       "18133      경상북도 영양군 영양읍 서부리 123\n",
       "18134    경상북도 영양군 입암면 신구리 산27-5\n",
       "18135      경상북도 영양군 수비면 발리리 산48\n",
       "18136      경상북도 영양군 영양읍 삼지리 200\n",
       "Name: 소재지도로명주소, Length: 18137, dtype: object"
      ]
     },
     "execution_count": 29,
     "metadata": {},
     "output_type": "execute_result"
    }
   ],
   "source": [
    "df['소재지도로명주소']"
   ]
  },
  {
   "cell_type": "code",
   "execution_count": null,
   "id": "509fc8ce",
   "metadata": {},
   "outputs": [],
   "source": []
  },
  {
   "cell_type": "code",
   "execution_count": 30,
   "id": "8d54ecd1",
   "metadata": {},
   "outputs": [
    {
     "data": {
      "text/html": [
       "<div>\n",
       "<style scoped>\n",
       "    .dataframe tbody tr th:only-of-type {\n",
       "        vertical-align: middle;\n",
       "    }\n",
       "\n",
       "    .dataframe tbody tr th {\n",
       "        vertical-align: top;\n",
       "    }\n",
       "\n",
       "    .dataframe thead th {\n",
       "        text-align: right;\n",
       "    }\n",
       "</style>\n",
       "<table border=\"1\" class=\"dataframe\">\n",
       "  <thead>\n",
       "    <tr style=\"text-align: right;\">\n",
       "      <th></th>\n",
       "      <th>0</th>\n",
       "      <th>1</th>\n",
       "      <th>2</th>\n",
       "      <th>3</th>\n",
       "      <th>4</th>\n",
       "      <th>5</th>\n",
       "      <th>6</th>\n",
       "      <th>7</th>\n",
       "      <th>8</th>\n",
       "    </tr>\n",
       "  </thead>\n",
       "  <tbody>\n",
       "    <tr>\n",
       "      <th>0</th>\n",
       "      <td>부산광역시</td>\n",
       "      <td>강서구</td>\n",
       "      <td>구랑동</td>\n",
       "      <td>1199-7</td>\n",
       "      <td>None</td>\n",
       "      <td>None</td>\n",
       "      <td>None</td>\n",
       "      <td>None</td>\n",
       "      <td>None</td>\n",
       "    </tr>\n",
       "    <tr>\n",
       "      <th>1</th>\n",
       "      <td>부산광역시</td>\n",
       "      <td>강서구</td>\n",
       "      <td>구랑동</td>\n",
       "      <td>1219</td>\n",
       "      <td>None</td>\n",
       "      <td>None</td>\n",
       "      <td>None</td>\n",
       "      <td>None</td>\n",
       "      <td>None</td>\n",
       "    </tr>\n",
       "    <tr>\n",
       "      <th>2</th>\n",
       "      <td>부산광역시</td>\n",
       "      <td>강서구</td>\n",
       "      <td>대저1동</td>\n",
       "      <td>1330-7</td>\n",
       "      <td>None</td>\n",
       "      <td>None</td>\n",
       "      <td>None</td>\n",
       "      <td>None</td>\n",
       "      <td>None</td>\n",
       "    </tr>\n",
       "    <tr>\n",
       "      <th>3</th>\n",
       "      <td>부산광역시</td>\n",
       "      <td>강서구</td>\n",
       "      <td>대저2동</td>\n",
       "      <td>1870-67</td>\n",
       "      <td>None</td>\n",
       "      <td>None</td>\n",
       "      <td>None</td>\n",
       "      <td>None</td>\n",
       "      <td>None</td>\n",
       "    </tr>\n",
       "    <tr>\n",
       "      <th>4</th>\n",
       "      <td>부산광역시</td>\n",
       "      <td>강서구</td>\n",
       "      <td>대저2동</td>\n",
       "      <td>2407-1</td>\n",
       "      <td>None</td>\n",
       "      <td>None</td>\n",
       "      <td>None</td>\n",
       "      <td>None</td>\n",
       "      <td>None</td>\n",
       "    </tr>\n",
       "    <tr>\n",
       "      <th>...</th>\n",
       "      <td>...</td>\n",
       "      <td>...</td>\n",
       "      <td>...</td>\n",
       "      <td>...</td>\n",
       "      <td>...</td>\n",
       "      <td>...</td>\n",
       "      <td>...</td>\n",
       "      <td>...</td>\n",
       "      <td>...</td>\n",
       "    </tr>\n",
       "    <tr>\n",
       "      <th>18132</th>\n",
       "      <td>인천광역시</td>\n",
       "      <td>동구</td>\n",
       "      <td>송림동</td>\n",
       "      <td>291-6</td>\n",
       "      <td>None</td>\n",
       "      <td>None</td>\n",
       "      <td>None</td>\n",
       "      <td>None</td>\n",
       "      <td>None</td>\n",
       "    </tr>\n",
       "    <tr>\n",
       "      <th>18133</th>\n",
       "      <td>경상북도</td>\n",
       "      <td>영양군</td>\n",
       "      <td>영양읍</td>\n",
       "      <td>서부리</td>\n",
       "      <td>123</td>\n",
       "      <td>None</td>\n",
       "      <td>None</td>\n",
       "      <td>None</td>\n",
       "      <td>None</td>\n",
       "    </tr>\n",
       "    <tr>\n",
       "      <th>18134</th>\n",
       "      <td>경상북도</td>\n",
       "      <td>영양군</td>\n",
       "      <td>입암면</td>\n",
       "      <td>신구리</td>\n",
       "      <td>산27-5</td>\n",
       "      <td>None</td>\n",
       "      <td>None</td>\n",
       "      <td>None</td>\n",
       "      <td>None</td>\n",
       "    </tr>\n",
       "    <tr>\n",
       "      <th>18135</th>\n",
       "      <td>경상북도</td>\n",
       "      <td>영양군</td>\n",
       "      <td>수비면</td>\n",
       "      <td>발리리</td>\n",
       "      <td>산48</td>\n",
       "      <td>None</td>\n",
       "      <td>None</td>\n",
       "      <td>None</td>\n",
       "      <td>None</td>\n",
       "    </tr>\n",
       "    <tr>\n",
       "      <th>18136</th>\n",
       "      <td>경상북도</td>\n",
       "      <td>영양군</td>\n",
       "      <td>영양읍</td>\n",
       "      <td>삼지리</td>\n",
       "      <td>200</td>\n",
       "      <td>None</td>\n",
       "      <td>None</td>\n",
       "      <td>None</td>\n",
       "      <td>None</td>\n",
       "    </tr>\n",
       "  </tbody>\n",
       "</table>\n",
       "<p>18137 rows × 9 columns</p>\n",
       "</div>"
      ],
      "text/plain": [
       "           0    1     2        3      4     5     6     7     8\n",
       "0      부산광역시  강서구   구랑동   1199-7   None  None  None  None  None\n",
       "1      부산광역시  강서구   구랑동     1219   None  None  None  None  None\n",
       "2      부산광역시  강서구  대저1동   1330-7   None  None  None  None  None\n",
       "3      부산광역시  강서구  대저2동  1870-67   None  None  None  None  None\n",
       "4      부산광역시  강서구  대저2동   2407-1   None  None  None  None  None\n",
       "...      ...  ...   ...      ...    ...   ...   ...   ...   ...\n",
       "18132  인천광역시   동구   송림동    291-6   None  None  None  None  None\n",
       "18133   경상북도  영양군   영양읍      서부리    123  None  None  None  None\n",
       "18134   경상북도  영양군   입암면      신구리  산27-5  None  None  None  None\n",
       "18135   경상북도  영양군   수비면      발리리    산48  None  None  None  None\n",
       "18136   경상북도  영양군   영양읍      삼지리    200  None  None  None  None\n",
       "\n",
       "[18137 rows x 9 columns]"
      ]
     },
     "execution_count": 30,
     "metadata": {},
     "output_type": "execute_result"
    }
   ],
   "source": [
    "df['소재지도로명주소'].str.split(expand=True)"
   ]
  },
  {
   "cell_type": "code",
   "execution_count": 31,
   "id": "b7dfbabf",
   "metadata": {},
   "outputs": [
    {
     "data": {
      "text/plain": [
       "0           [부산광역시, 강서구, 구랑동, 1199-7]\n",
       "1             [부산광역시, 강서구, 구랑동, 1219]\n",
       "2          [부산광역시, 강서구, 대저1동, 1330-7]\n",
       "3         [부산광역시, 강서구, 대저2동, 1870-67]\n",
       "4          [부산광역시, 강서구, 대저2동, 2407-1]\n",
       "                     ...             \n",
       "18132         [인천광역시, 동구, 송림동, 291-6]\n",
       "18133      [경상북도, 영양군, 영양읍, 서부리, 123]\n",
       "18134    [경상북도, 영양군, 입암면, 신구리, 산27-5]\n",
       "18135      [경상북도, 영양군, 수비면, 발리리, 산48]\n",
       "18136      [경상북도, 영양군, 영양읍, 삼지리, 200]\n",
       "Name: 소재지도로명주소, Length: 18137, dtype: object"
      ]
     },
     "execution_count": 31,
     "metadata": {},
     "output_type": "execute_result"
    }
   ],
   "source": [
    "df['소재지도로명주소'].apply(lambda x: x.split())"
   ]
  },
  {
   "cell_type": "code",
   "execution_count": null,
   "id": "38b05812",
   "metadata": {},
   "outputs": [],
   "source": []
  },
  {
   "cell_type": "code",
   "execution_count": 32,
   "id": "1d4c9c83",
   "metadata": {},
   "outputs": [],
   "source": [
    "df['시도'] = df['소재지도로명주소'].apply(lambda x: x.split()[0])\n",
    "df['구군'] = df['소재지도로명주소'].apply(lambda x: x.split()[1])"
   ]
  },
  {
   "cell_type": "code",
   "execution_count": null,
   "id": "376f79c0",
   "metadata": {},
   "outputs": [],
   "source": []
  },
  {
   "cell_type": "code",
   "execution_count": 33,
   "id": "66957d51",
   "metadata": {},
   "outputs": [
    {
     "data": {
      "text/html": [
       "<div>\n",
       "<style scoped>\n",
       "    .dataframe tbody tr th:only-of-type {\n",
       "        vertical-align: middle;\n",
       "    }\n",
       "\n",
       "    .dataframe tbody tr th {\n",
       "        vertical-align: top;\n",
       "    }\n",
       "\n",
       "    .dataframe thead th {\n",
       "        text-align: right;\n",
       "    }\n",
       "</style>\n",
       "<table border=\"1\" class=\"dataframe\">\n",
       "  <thead>\n",
       "    <tr style=\"text-align: right;\">\n",
       "      <th></th>\n",
       "      <th>소재지도로명주소</th>\n",
       "      <th>시도</th>\n",
       "      <th>구군</th>\n",
       "    </tr>\n",
       "  </thead>\n",
       "  <tbody>\n",
       "    <tr>\n",
       "      <th>0</th>\n",
       "      <td>부산광역시 강서구 구랑동 1199-7</td>\n",
       "      <td>부산광역시</td>\n",
       "      <td>강서구</td>\n",
       "    </tr>\n",
       "    <tr>\n",
       "      <th>1</th>\n",
       "      <td>부산광역시 강서구 구랑동 1219</td>\n",
       "      <td>부산광역시</td>\n",
       "      <td>강서구</td>\n",
       "    </tr>\n",
       "    <tr>\n",
       "      <th>2</th>\n",
       "      <td>부산광역시 강서구 대저1동 1330-7</td>\n",
       "      <td>부산광역시</td>\n",
       "      <td>강서구</td>\n",
       "    </tr>\n",
       "    <tr>\n",
       "      <th>3</th>\n",
       "      <td>부산광역시 강서구 대저2동 1870-67</td>\n",
       "      <td>부산광역시</td>\n",
       "      <td>강서구</td>\n",
       "    </tr>\n",
       "    <tr>\n",
       "      <th>4</th>\n",
       "      <td>부산광역시 강서구 대저2동 2407-1</td>\n",
       "      <td>부산광역시</td>\n",
       "      <td>강서구</td>\n",
       "    </tr>\n",
       "    <tr>\n",
       "      <th>...</th>\n",
       "      <td>...</td>\n",
       "      <td>...</td>\n",
       "      <td>...</td>\n",
       "    </tr>\n",
       "    <tr>\n",
       "      <th>18132</th>\n",
       "      <td>인천광역시 동구 송림동 291-6</td>\n",
       "      <td>인천광역시</td>\n",
       "      <td>동구</td>\n",
       "    </tr>\n",
       "    <tr>\n",
       "      <th>18133</th>\n",
       "      <td>경상북도 영양군 영양읍 서부리 123</td>\n",
       "      <td>경상북도</td>\n",
       "      <td>영양군</td>\n",
       "    </tr>\n",
       "    <tr>\n",
       "      <th>18134</th>\n",
       "      <td>경상북도 영양군 입암면 신구리 산27-5</td>\n",
       "      <td>경상북도</td>\n",
       "      <td>영양군</td>\n",
       "    </tr>\n",
       "    <tr>\n",
       "      <th>18135</th>\n",
       "      <td>경상북도 영양군 수비면 발리리 산48</td>\n",
       "      <td>경상북도</td>\n",
       "      <td>영양군</td>\n",
       "    </tr>\n",
       "    <tr>\n",
       "      <th>18136</th>\n",
       "      <td>경상북도 영양군 영양읍 삼지리 200</td>\n",
       "      <td>경상북도</td>\n",
       "      <td>영양군</td>\n",
       "    </tr>\n",
       "  </tbody>\n",
       "</table>\n",
       "<p>18137 rows × 3 columns</p>\n",
       "</div>"
      ],
      "text/plain": [
       "                     소재지도로명주소     시도   구군\n",
       "0        부산광역시 강서구 구랑동 1199-7  부산광역시  강서구\n",
       "1          부산광역시 강서구 구랑동 1219  부산광역시  강서구\n",
       "2       부산광역시 강서구 대저1동 1330-7  부산광역시  강서구\n",
       "3      부산광역시 강서구 대저2동 1870-67  부산광역시  강서구\n",
       "4       부산광역시 강서구 대저2동 2407-1  부산광역시  강서구\n",
       "...                       ...    ...  ...\n",
       "18132      인천광역시 동구 송림동 291-6  인천광역시   동구\n",
       "18133    경상북도 영양군 영양읍 서부리 123   경상북도  영양군\n",
       "18134  경상북도 영양군 입암면 신구리 산27-5   경상북도  영양군\n",
       "18135    경상북도 영양군 수비면 발리리 산48   경상북도  영양군\n",
       "18136    경상북도 영양군 영양읍 삼지리 200   경상북도  영양군\n",
       "\n",
       "[18137 rows x 3 columns]"
      ]
     },
     "execution_count": 33,
     "metadata": {},
     "output_type": "execute_result"
    }
   ],
   "source": [
    "df[['소재지도로명주소','시도','구군']]"
   ]
  },
  {
   "cell_type": "code",
   "execution_count": null,
   "id": "120f01de",
   "metadata": {},
   "outputs": [],
   "source": []
  },
  {
   "cell_type": "code",
   "execution_count": 34,
   "id": "c17b175a",
   "metadata": {},
   "outputs": [
    {
     "data": {
      "text/plain": [
       "경기도        3318\n",
       "전라남도       1882\n",
       "경상남도       1825\n",
       "서울특별시      1745\n",
       "충청남도       1723\n",
       "전라북도       1137\n",
       "경상북도        917\n",
       "충청북도        899\n",
       "울산광역시       887\n",
       "인천광역시       675\n",
       "부산광역시       653\n",
       "강원도         647\n",
       "대구광역시       586\n",
       "대전광역시       497\n",
       "광주광역시       429\n",
       "제주특별자치도     246\n",
       "세종특별자치시      70\n",
       "강원            1\n",
       "Name: 시도, dtype: int64"
      ]
     },
     "execution_count": 34,
     "metadata": {},
     "output_type": "execute_result"
    }
   ],
   "source": [
    "df['시도'].value_counts()"
   ]
  },
  {
   "cell_type": "code",
   "execution_count": 35,
   "id": "8d31eea8",
   "metadata": {},
   "outputs": [],
   "source": [
    "df['시도'] = df['시도'].replace('강원', '강원도')"
   ]
  },
  {
   "cell_type": "code",
   "execution_count": 36,
   "id": "98f62576",
   "metadata": {},
   "outputs": [
    {
     "data": {
      "text/plain": [
       "경기도        3318\n",
       "전라남도       1882\n",
       "경상남도       1825\n",
       "서울특별시      1745\n",
       "충청남도       1723\n",
       "전라북도       1137\n",
       "경상북도        917\n",
       "충청북도        899\n",
       "울산광역시       887\n",
       "인천광역시       675\n",
       "부산광역시       653\n",
       "강원도         648\n",
       "대구광역시       586\n",
       "대전광역시       497\n",
       "광주광역시       429\n",
       "제주특별자치도     246\n",
       "세종특별자치시      70\n",
       "Name: 시도, dtype: int64"
      ]
     },
     "execution_count": 36,
     "metadata": {},
     "output_type": "execute_result"
    }
   ],
   "source": [
    "df['시도'].value_counts()"
   ]
  },
  {
   "cell_type": "code",
   "execution_count": null,
   "id": "f9120eee",
   "metadata": {},
   "outputs": [],
   "source": []
  },
  {
   "cell_type": "code",
   "execution_count": 37,
   "id": "488d3674",
   "metadata": {},
   "outputs": [],
   "source": [
    "# 위경도 시각화"
   ]
  },
  {
   "cell_type": "code",
   "execution_count": 38,
   "id": "4a138f7a",
   "metadata": {},
   "outputs": [
    {
     "data": {
      "text/html": [
       "<div>\n",
       "<style scoped>\n",
       "    .dataframe tbody tr th:only-of-type {\n",
       "        vertical-align: middle;\n",
       "    }\n",
       "\n",
       "    .dataframe tbody tr th {\n",
       "        vertical-align: top;\n",
       "    }\n",
       "\n",
       "    .dataframe thead th {\n",
       "        text-align: right;\n",
       "    }\n",
       "</style>\n",
       "<table border=\"1\" class=\"dataframe\">\n",
       "  <thead>\n",
       "    <tr style=\"text-align: right;\">\n",
       "      <th></th>\n",
       "      <th>관리번호</th>\n",
       "      <th>공원명</th>\n",
       "      <th>공원구분</th>\n",
       "      <th>소재지도로명주소</th>\n",
       "      <th>소재지지번주소</th>\n",
       "      <th>위도</th>\n",
       "      <th>경도</th>\n",
       "      <th>공원면적</th>\n",
       "      <th>공원보유시설(운동시설)</th>\n",
       "      <th>공원보유시설(유희시설)</th>\n",
       "      <th>...</th>\n",
       "      <th>공원보유시설(교양시설)</th>\n",
       "      <th>공원보유시설(기타시설)</th>\n",
       "      <th>지정고시일</th>\n",
       "      <th>관리기관명</th>\n",
       "      <th>전화번호</th>\n",
       "      <th>데이터기준일자</th>\n",
       "      <th>제공기관코드</th>\n",
       "      <th>제공기관명</th>\n",
       "      <th>시도</th>\n",
       "      <th>구군</th>\n",
       "    </tr>\n",
       "  </thead>\n",
       "  <tbody>\n",
       "    <tr>\n",
       "      <th>0</th>\n",
       "      <td>26440-00001</td>\n",
       "      <td>구랑공원</td>\n",
       "      <td>문화공원</td>\n",
       "      <td>부산광역시 강서구 구랑동 1199-7</td>\n",
       "      <td>부산광역시 강서구 구랑동 1199-7</td>\n",
       "      <td>35.157215</td>\n",
       "      <td>128.854935</td>\n",
       "      <td>9137.0</td>\n",
       "      <td>4</td>\n",
       "      <td>NaN</td>\n",
       "      <td>...</td>\n",
       "      <td>NaN</td>\n",
       "      <td>팔각정자, 파고라2, 평의자6, 앉음벽14.38m, 축구장(골대2), 컨테이너, 안...</td>\n",
       "      <td>2011-09-02</td>\n",
       "      <td>부산광역시 강서구청 녹지공원과</td>\n",
       "      <td>051-970-4536</td>\n",
       "      <td>2019-05-02</td>\n",
       "      <td>3360000</td>\n",
       "      <td>부산광역시 강서구</td>\n",
       "      <td>부산광역시</td>\n",
       "      <td>강서구</td>\n",
       "    </tr>\n",
       "    <tr>\n",
       "      <th>1</th>\n",
       "      <td>26440-00002</td>\n",
       "      <td>압곡공원</td>\n",
       "      <td>근린공원</td>\n",
       "      <td>부산광역시 강서구 구랑동 1219</td>\n",
       "      <td>부산광역시 강서구 구랑동 1219</td>\n",
       "      <td>35.154655</td>\n",
       "      <td>128.854727</td>\n",
       "      <td>33756.0</td>\n",
       "      <td>4</td>\n",
       "      <td>NaN</td>\n",
       "      <td>...</td>\n",
       "      <td>NaN</td>\n",
       "      <td>배드민턴장, 족구장, 파고라4, 안내판, 볼라드7, 데크435.11㎡, 데크계단19...</td>\n",
       "      <td>2008-02-28</td>\n",
       "      <td>부산광역시 강서구청 녹지공원과</td>\n",
       "      <td>051-970-4536</td>\n",
       "      <td>2019-05-02</td>\n",
       "      <td>3360000</td>\n",
       "      <td>부산광역시 강서구</td>\n",
       "      <td>부산광역시</td>\n",
       "      <td>강서구</td>\n",
       "    </tr>\n",
       "    <tr>\n",
       "      <th>2</th>\n",
       "      <td>26440-00003</td>\n",
       "      <td>서연정공원</td>\n",
       "      <td>소공원</td>\n",
       "      <td>부산광역시 강서구 대저1동 1330-7</td>\n",
       "      <td>부산광역시 강서구 대저1동 1330-7</td>\n",
       "      <td>35.216183</td>\n",
       "      <td>128.969558</td>\n",
       "      <td>646.0</td>\n",
       "      <td>7</td>\n",
       "      <td>NaN</td>\n",
       "      <td>...</td>\n",
       "      <td>NaN</td>\n",
       "      <td>앉음벽13.57m, 트렐리스3, 안내판2, 플랜트2, 파고라, 평의자4</td>\n",
       "      <td>2013-01-23</td>\n",
       "      <td>부산광역시 강서구청 녹지공원과</td>\n",
       "      <td>051-970-4536</td>\n",
       "      <td>2019-05-02</td>\n",
       "      <td>3360000</td>\n",
       "      <td>부산광역시 강서구</td>\n",
       "      <td>부산광역시</td>\n",
       "      <td>강서구</td>\n",
       "    </tr>\n",
       "    <tr>\n",
       "      <th>3</th>\n",
       "      <td>26440-00004</td>\n",
       "      <td>용두공원</td>\n",
       "      <td>어린이공원</td>\n",
       "      <td>부산광역시 강서구 대저2동 1870-67</td>\n",
       "      <td>부산광역시 강서구 대저2동 1870-67</td>\n",
       "      <td>35.183679</td>\n",
       "      <td>128.956007</td>\n",
       "      <td>1620.0</td>\n",
       "      <td>NaN</td>\n",
       "      <td>조합놀이기구, 그네</td>\n",
       "      <td>...</td>\n",
       "      <td>NaN</td>\n",
       "      <td>정자, 농구장, 평의자6</td>\n",
       "      <td>1998-07-25</td>\n",
       "      <td>부산광역시 강서구청 녹지공원과</td>\n",
       "      <td>051-970-4536</td>\n",
       "      <td>2019-05-02</td>\n",
       "      <td>3360000</td>\n",
       "      <td>부산광역시 강서구</td>\n",
       "      <td>부산광역시</td>\n",
       "      <td>강서구</td>\n",
       "    </tr>\n",
       "    <tr>\n",
       "      <th>4</th>\n",
       "      <td>26440-00005</td>\n",
       "      <td>새동내공원</td>\n",
       "      <td>어린이공원</td>\n",
       "      <td>부산광역시 강서구 대저2동 2407-1</td>\n",
       "      <td>부산광역시 강서구 대저2동 2407-1</td>\n",
       "      <td>35.174568</td>\n",
       "      <td>128.950612</td>\n",
       "      <td>1009.0</td>\n",
       "      <td>8</td>\n",
       "      <td>조합놀이기구, 그네, 흔들놀이기구2</td>\n",
       "      <td>...</td>\n",
       "      <td>NaN</td>\n",
       "      <td>정자, 평의자14, 트렐리스2, 안내판, 볼라드</td>\n",
       "      <td>1995-04-07</td>\n",
       "      <td>부산광역시 강서구청 녹지공원과</td>\n",
       "      <td>051-970-4536</td>\n",
       "      <td>2019-05-02</td>\n",
       "      <td>3360000</td>\n",
       "      <td>부산광역시 강서구</td>\n",
       "      <td>부산광역시</td>\n",
       "      <td>강서구</td>\n",
       "    </tr>\n",
       "  </tbody>\n",
       "</table>\n",
       "<p>5 rows × 21 columns</p>\n",
       "</div>"
      ],
      "text/plain": [
       "          관리번호    공원명   공원구분                소재지도로명주소                 소재지지번주소  \\\n",
       "0  26440-00001   구랑공원   문화공원    부산광역시 강서구 구랑동 1199-7    부산광역시 강서구 구랑동 1199-7   \n",
       "1  26440-00002   압곡공원   근린공원      부산광역시 강서구 구랑동 1219      부산광역시 강서구 구랑동 1219   \n",
       "2  26440-00003  서연정공원    소공원   부산광역시 강서구 대저1동 1330-7   부산광역시 강서구 대저1동 1330-7   \n",
       "3  26440-00004   용두공원  어린이공원  부산광역시 강서구 대저2동 1870-67  부산광역시 강서구 대저2동 1870-67   \n",
       "4  26440-00005  새동내공원  어린이공원   부산광역시 강서구 대저2동 2407-1   부산광역시 강서구 대저2동 2407-1   \n",
       "\n",
       "          위도          경도     공원면적 공원보유시설(운동시설)         공원보유시설(유희시설)  ...  \\\n",
       "0  35.157215  128.854935   9137.0            4                  NaN  ...   \n",
       "1  35.154655  128.854727  33756.0            4                  NaN  ...   \n",
       "2  35.216183  128.969558    646.0            7                  NaN  ...   \n",
       "3  35.183679  128.956007   1620.0          NaN           조합놀이기구, 그네  ...   \n",
       "4  35.174568  128.950612   1009.0            8  조합놀이기구, 그네, 흔들놀이기구2  ...   \n",
       "\n",
       "  공원보유시설(교양시설)                                       공원보유시설(기타시설)       지정고시일  \\\n",
       "0          NaN  팔각정자, 파고라2, 평의자6, 앉음벽14.38m, 축구장(골대2), 컨테이너, 안...  2011-09-02   \n",
       "1          NaN  배드민턴장, 족구장, 파고라4, 안내판, 볼라드7, 데크435.11㎡, 데크계단19...  2008-02-28   \n",
       "2          NaN            앉음벽13.57m, 트렐리스3, 안내판2, 플랜트2, 파고라, 평의자4  2013-01-23   \n",
       "3          NaN                                      정자, 농구장, 평의자6  1998-07-25   \n",
       "4          NaN                         정자, 평의자14, 트렐리스2, 안내판, 볼라드  1995-04-07   \n",
       "\n",
       "              관리기관명          전화번호     데이터기준일자   제공기관코드      제공기관명     시도   구군  \n",
       "0  부산광역시 강서구청 녹지공원과  051-970-4536  2019-05-02  3360000  부산광역시 강서구  부산광역시  강서구  \n",
       "1  부산광역시 강서구청 녹지공원과  051-970-4536  2019-05-02  3360000  부산광역시 강서구  부산광역시  강서구  \n",
       "2  부산광역시 강서구청 녹지공원과  051-970-4536  2019-05-02  3360000  부산광역시 강서구  부산광역시  강서구  \n",
       "3  부산광역시 강서구청 녹지공원과  051-970-4536  2019-05-02  3360000  부산광역시 강서구  부산광역시  강서구  \n",
       "4  부산광역시 강서구청 녹지공원과  051-970-4536  2019-05-02  3360000  부산광역시 강서구  부산광역시  강서구  \n",
       "\n",
       "[5 rows x 21 columns]"
      ]
     },
     "execution_count": 38,
     "metadata": {},
     "output_type": "execute_result"
    }
   ],
   "source": [
    "df.head()"
   ]
  },
  {
   "cell_type": "code",
   "execution_count": 39,
   "id": "3889e240",
   "metadata": {},
   "outputs": [
    {
     "data": {
      "text/plain": [
       "<AxesSubplot:xlabel='경도', ylabel='위도'>"
      ]
     },
     "execution_count": 39,
     "metadata": {},
     "output_type": "execute_result"
    },
    {
     "data": {
      "image/png": "[encoded data removed]",
      "text/plain": [
       "<Figure size 432x288 with 1 Axes>"
      ]
     },
     "metadata": {
      "needs_background": "light"
     },
     "output_type": "display_data"
    }
   ],
   "source": [
    "sns.scatterplot(data=df, x='경도', y='위도')"
   ]
  },
  {
   "cell_type": "code",
   "execution_count": 40,
   "id": "13a51028",
   "metadata": {},
   "outputs": [],
   "source": [
    "df1 = df[(df['경도'] < 132) & (df['위도'] > 32)]"
   ]
  },
  {
   "cell_type": "code",
   "execution_count": 41,
   "id": "7fe3c440",
   "metadata": {},
   "outputs": [
    {
     "data": {
      "text/plain": [
       "<AxesSubplot:xlabel='경도', ylabel='위도'>"
      ]
     },
     "execution_count": 41,
     "metadata": {},
     "output_type": "execute_result"
    },
    {
     "data": {
      "image/png": "[encoded data removed]",
      "text/plain": [
       "<Figure size 432x288 with 1 Axes>"
      ]
     },
     "metadata": {
      "needs_background": "light"
     },
     "output_type": "display_data"
    }
   ],
   "source": [
    "sns.scatterplot(data=df1, x='경도', y='위도')"
   ]
  },
  {
   "cell_type": "code",
   "execution_count": null,
   "id": "fa500268",
   "metadata": {},
   "outputs": [],
   "source": []
  },
  {
   "cell_type": "code",
   "execution_count": 42,
   "id": "c428ea1c",
   "metadata": {},
   "outputs": [],
   "source": [
    "# 카럼 데이터 타입 변경"
   ]
  },
  {
   "cell_type": "code",
   "execution_count": 43,
   "id": "6b4583a7",
   "metadata": {},
   "outputs": [
    {
     "data": {
      "text/plain": [
       "관리번호             object\n",
       "공원명              object\n",
       "공원구분             object\n",
       "소재지도로명주소         object\n",
       "소재지지번주소          object\n",
       "위도              float64\n",
       "경도              float64\n",
       "공원면적            float64\n",
       "공원보유시설(운동시설)     object\n",
       "공원보유시설(유희시설)     object\n",
       "공원보유시설(편익시설)     object\n",
       "공원보유시설(교양시설)     object\n",
       "공원보유시설(기타시설)     object\n",
       "지정고시일            object\n",
       "관리기관명            object\n",
       "전화번호             object\n",
       "데이터기준일자          object\n",
       "제공기관코드           object\n",
       "제공기관명            object\n",
       "시도               object\n",
       "구군               object\n",
       "dtype: object"
      ]
     },
     "execution_count": 43,
     "metadata": {},
     "output_type": "execute_result"
    }
   ],
   "source": [
    "df1.dtypes"
   ]
  },
  {
   "cell_type": "code",
   "execution_count": 44,
   "id": "9607c693",
   "metadata": {},
   "outputs": [
    {
     "ename": "TypeError",
     "evalue": "to_numeric() missing 1 required positional argument: 'arg'",
     "output_type": "error",
     "traceback": [
      "\u001b[1;31m---------------------------------------------------------------------------\u001b[0m",
      "\u001b[1;31mTypeError\u001b[0m                                 Traceback (most recent call last)",
      "\u001b[1;32m~\\AppData\\Local\\Temp/ipykernel_1656/2459631201.py\u001b[0m in \u001b[0;36m<module>\u001b[1;34m\u001b[0m\n\u001b[1;32m----> 1\u001b[1;33m \u001b[0mpd\u001b[0m\u001b[1;33m.\u001b[0m\u001b[0mto_numeric\u001b[0m\u001b[1;33m(\u001b[0m\u001b[1;33m)\u001b[0m\u001b[1;33m\u001b[0m\u001b[1;33m\u001b[0m\u001b[0m\n\u001b[0m",
      "\u001b[1;31mTypeError\u001b[0m: to_numeric() missing 1 required positional argument: 'arg'"
     ]
    }
   ],
   "source": [
    "pd.to_numeric()"
   ]
  },
  {
   "cell_type": "code",
   "execution_count": 45,
   "id": "eb109cb1",
   "metadata": {},
   "outputs": [],
   "source": [
    "# df[col] = df[col].astype('int')\n",
    "# df[col] = df[col].astype('float')\n",
    "# df[col] = df[col].astype('str')\n",
    "\n",
    "# df[col] = pd.to_numeric(df[col], errors='raise')\n",
    "# df[col] = pd.to_datetime(df[col], errors='raise')\n",
    "\n",
    "# raise - error 발생\n",
    "# ignore -  변경하지 말고 원본데이터를 그대로 반환..\n",
    "# coerce - error를 nan값으로 처리"
   ]
  },
  {
   "cell_type": "code",
   "execution_count": 46,
   "id": "301cae71",
   "metadata": {},
   "outputs": [],
   "source": [
    "df1['지정고시일'] = pd.to_datetime(df1['지정고시일'])"
   ]
  },
  {
   "cell_type": "code",
   "execution_count": 47,
   "id": "74527d8b",
   "metadata": {},
   "outputs": [
    {
     "data": {
      "text/plain": [
       "관리번호                    object\n",
       "공원명                     object\n",
       "공원구분                    object\n",
       "소재지도로명주소                object\n",
       "소재지지번주소                 object\n",
       "위도                     float64\n",
       "경도                     float64\n",
       "공원면적                   float64\n",
       "공원보유시설(운동시설)            object\n",
       "공원보유시설(유희시설)            object\n",
       "공원보유시설(편익시설)            object\n",
       "공원보유시설(교양시설)            object\n",
       "공원보유시설(기타시설)            object\n",
       "지정고시일           datetime64[ns]\n",
       "관리기관명                   object\n",
       "전화번호                    object\n",
       "데이터기준일자                 object\n",
       "제공기관코드                  object\n",
       "제공기관명                   object\n",
       "시도                      object\n",
       "구군                      object\n",
       "dtype: object"
      ]
     },
     "execution_count": 47,
     "metadata": {},
     "output_type": "execute_result"
    }
   ],
   "source": [
    "df1.dtypes"
   ]
  },
  {
   "cell_type": "code",
   "execution_count": 48,
   "id": "8fc4e081",
   "metadata": {},
   "outputs": [],
   "source": [
    "df1['고시연도'] = df1['지정고시일'].dt.year\n",
    "df1['고시월'] = df1['지정고시일'].dt.month"
   ]
  },
  {
   "cell_type": "code",
   "execution_count": 49,
   "id": "80bb70d7",
   "metadata": {},
   "outputs": [
    {
     "data": {
      "text/html": [
       "<div>\n",
       "<style scoped>\n",
       "    .dataframe tbody tr th:only-of-type {\n",
       "        vertical-align: middle;\n",
       "    }\n",
       "\n",
       "    .dataframe tbody tr th {\n",
       "        vertical-align: top;\n",
       "    }\n",
       "\n",
       "    .dataframe thead th {\n",
       "        text-align: right;\n",
       "    }\n",
       "</style>\n",
       "<table border=\"1\" class=\"dataframe\">\n",
       "  <thead>\n",
       "    <tr style=\"text-align: right;\">\n",
       "      <th></th>\n",
       "      <th>관리번호</th>\n",
       "      <th>공원명</th>\n",
       "      <th>공원구분</th>\n",
       "      <th>소재지도로명주소</th>\n",
       "      <th>소재지지번주소</th>\n",
       "      <th>위도</th>\n",
       "      <th>경도</th>\n",
       "      <th>공원면적</th>\n",
       "      <th>공원보유시설(운동시설)</th>\n",
       "      <th>공원보유시설(유희시설)</th>\n",
       "      <th>...</th>\n",
       "      <th>지정고시일</th>\n",
       "      <th>관리기관명</th>\n",
       "      <th>전화번호</th>\n",
       "      <th>데이터기준일자</th>\n",
       "      <th>제공기관코드</th>\n",
       "      <th>제공기관명</th>\n",
       "      <th>시도</th>\n",
       "      <th>구군</th>\n",
       "      <th>고시연도</th>\n",
       "      <th>고시월</th>\n",
       "    </tr>\n",
       "  </thead>\n",
       "  <tbody>\n",
       "    <tr>\n",
       "      <th>0</th>\n",
       "      <td>26440-00001</td>\n",
       "      <td>구랑공원</td>\n",
       "      <td>문화공원</td>\n",
       "      <td>부산광역시 강서구 구랑동 1199-7</td>\n",
       "      <td>부산광역시 강서구 구랑동 1199-7</td>\n",
       "      <td>35.157215</td>\n",
       "      <td>128.854935</td>\n",
       "      <td>9137.0</td>\n",
       "      <td>4</td>\n",
       "      <td>NaN</td>\n",
       "      <td>...</td>\n",
       "      <td>2011-09-02</td>\n",
       "      <td>부산광역시 강서구청 녹지공원과</td>\n",
       "      <td>051-970-4536</td>\n",
       "      <td>2019-05-02</td>\n",
       "      <td>3360000</td>\n",
       "      <td>부산광역시 강서구</td>\n",
       "      <td>부산광역시</td>\n",
       "      <td>강서구</td>\n",
       "      <td>2011.0</td>\n",
       "      <td>9.0</td>\n",
       "    </tr>\n",
       "    <tr>\n",
       "      <th>1</th>\n",
       "      <td>26440-00002</td>\n",
       "      <td>압곡공원</td>\n",
       "      <td>근린공원</td>\n",
       "      <td>부산광역시 강서구 구랑동 1219</td>\n",
       "      <td>부산광역시 강서구 구랑동 1219</td>\n",
       "      <td>35.154655</td>\n",
       "      <td>128.854727</td>\n",
       "      <td>33756.0</td>\n",
       "      <td>4</td>\n",
       "      <td>NaN</td>\n",
       "      <td>...</td>\n",
       "      <td>2008-02-28</td>\n",
       "      <td>부산광역시 강서구청 녹지공원과</td>\n",
       "      <td>051-970-4536</td>\n",
       "      <td>2019-05-02</td>\n",
       "      <td>3360000</td>\n",
       "      <td>부산광역시 강서구</td>\n",
       "      <td>부산광역시</td>\n",
       "      <td>강서구</td>\n",
       "      <td>2008.0</td>\n",
       "      <td>2.0</td>\n",
       "    </tr>\n",
       "  </tbody>\n",
       "</table>\n",
       "<p>2 rows × 23 columns</p>\n",
       "</div>"
      ],
      "text/plain": [
       "          관리번호   공원명  공원구분              소재지도로명주소               소재지지번주소  \\\n",
       "0  26440-00001  구랑공원  문화공원  부산광역시 강서구 구랑동 1199-7  부산광역시 강서구 구랑동 1199-7   \n",
       "1  26440-00002  압곡공원  근린공원    부산광역시 강서구 구랑동 1219    부산광역시 강서구 구랑동 1219   \n",
       "\n",
       "          위도          경도     공원면적 공원보유시설(운동시설) 공원보유시설(유희시설)  ...      지정고시일  \\\n",
       "0  35.157215  128.854935   9137.0            4          NaN  ... 2011-09-02   \n",
       "1  35.154655  128.854727  33756.0            4          NaN  ... 2008-02-28   \n",
       "\n",
       "              관리기관명          전화번호     데이터기준일자   제공기관코드      제공기관명     시도   구군  \\\n",
       "0  부산광역시 강서구청 녹지공원과  051-970-4536  2019-05-02  3360000  부산광역시 강서구  부산광역시  강서구   \n",
       "1  부산광역시 강서구청 녹지공원과  051-970-4536  2019-05-02  3360000  부산광역시 강서구  부산광역시  강서구   \n",
       "\n",
       "     고시연도  고시월  \n",
       "0  2011.0  9.0  \n",
       "1  2008.0  2.0  \n",
       "\n",
       "[2 rows x 23 columns]"
      ]
     },
     "execution_count": 49,
     "metadata": {},
     "output_type": "execute_result"
    }
   ],
   "source": [
    "df1.head(2)"
   ]
  },
  {
   "cell_type": "code",
   "execution_count": null,
   "id": "c7fec04b",
   "metadata": {},
   "outputs": [],
   "source": []
  },
  {
   "cell_type": "code",
   "execution_count": 50,
   "id": "f8060348",
   "metadata": {},
   "outputs": [],
   "source": [
    "# '화랑공원'의 고시연도를 출력하시오.."
   ]
  },
  {
   "cell_type": "code",
   "execution_count": 51,
   "id": "d82b64cf",
   "metadata": {},
   "outputs": [
    {
     "data": {
      "text/plain": [
       "'서울특별시'"
      ]
     },
     "execution_count": 51,
     "metadata": {},
     "output_type": "execute_result"
    }
   ],
   "source": [
    "df1[df1['공원명'].str.contains('화랑공원')]['시도'].loc[10763]"
   ]
  },
  {
   "cell_type": "code",
   "execution_count": 52,
   "id": "7762f2f5",
   "metadata": {},
   "outputs": [
    {
     "data": {
      "text/plain": [
       "관리번호                     11740-00033\n",
       "공원명                             화랑공원\n",
       "공원구분                           어린이공원\n",
       "소재지도로명주소        서울특별시 강동구 천호2동 431-2\n",
       "소재지지번주소         서울특별시 강동구 천호2동 431-2\n",
       "위도                         37.540033\n",
       "경도                        127.123192\n",
       "공원면적                           220.0\n",
       "공원보유시설(운동시설)                  체력단련기구\n",
       "공원보유시설(유희시설)                   조합놀이대\n",
       "공원보유시설(편익시설)                     NaN\n",
       "공원보유시설(교양시설)                     NaN\n",
       "공원보유시설(기타시설)                     NaN\n",
       "지정고시일            1980-03-27 00:00:00\n",
       "관리기관명                     서울특별시 강동구청\n",
       "전화번호                    02-3425-6440\n",
       "데이터기준일자                   2019-06-13\n",
       "제공기관코드                       3240000\n",
       "제공기관명                      서울특별시 강동구\n",
       "시도                             서울특별시\n",
       "구군                               강동구\n",
       "고시연도                          1980.0\n",
       "고시월                              3.0\n",
       "Name: 10763, dtype: object"
      ]
     },
     "execution_count": 52,
     "metadata": {},
     "output_type": "execute_result"
    }
   ],
   "source": [
    "df1.loc[10763]"
   ]
  },
  {
   "cell_type": "code",
   "execution_count": null,
   "id": "0bb0c12b",
   "metadata": {},
   "outputs": [],
   "source": []
  },
  {
   "cell_type": "code",
   "execution_count": 53,
   "id": "be6eda58",
   "metadata": {},
   "outputs": [],
   "source": [
    "# 연도별 공원고시 수를 bar chart로 표시하시오."
   ]
  },
  {
   "cell_type": "code",
   "execution_count": 54,
   "id": "4e8e2099",
   "metadata": {},
   "outputs": [
    {
     "data": {
      "text/plain": [
       "<AxesSubplot:xlabel='고시연도'>"
      ]
     },
     "execution_count": 54,
     "metadata": {},
     "output_type": "execute_result"
    },
    {
     "data": {
      "image/png": "[encoded data removed]",
      "text/plain": [
       "<Figure size 1080x360 with 1 Axes>"
      ]
     },
     "metadata": {
      "needs_background": "light"
     },
     "output_type": "display_data"
    }
   ],
   "source": [
    "df1.groupby('고시연도').위도.count().sort_index().plot(kind='bar', figsize=(15,5))"
   ]
  },
  {
   "cell_type": "code",
   "execution_count": null,
   "id": "632aba1c",
   "metadata": {},
   "outputs": [],
   "source": []
  },
  {
   "cell_type": "code",
   "execution_count": 55,
   "id": "7aa0c8b9",
   "metadata": {},
   "outputs": [],
   "source": [
    "# 연도별 월별 공원고시 수를 table형태로 나타내시오..\n",
    "#  index - 연도, column - 월"
   ]
  },
  {
   "cell_type": "code",
   "execution_count": 56,
   "id": "beabd64e",
   "metadata": {},
   "outputs": [
    {
     "data": {
      "text/html": [
       "<div>\n",
       "<style scoped>\n",
       "    .dataframe tbody tr th:only-of-type {\n",
       "        vertical-align: middle;\n",
       "    }\n",
       "\n",
       "    .dataframe tbody tr th {\n",
       "        vertical-align: top;\n",
       "    }\n",
       "\n",
       "    .dataframe thead th {\n",
       "        text-align: right;\n",
       "    }\n",
       "</style>\n",
       "<table border=\"1\" class=\"dataframe\">\n",
       "  <thead>\n",
       "    <tr style=\"text-align: right;\">\n",
       "      <th>고시월</th>\n",
       "      <th>1.0</th>\n",
       "      <th>2.0</th>\n",
       "      <th>3.0</th>\n",
       "      <th>4.0</th>\n",
       "      <th>5.0</th>\n",
       "      <th>6.0</th>\n",
       "      <th>7.0</th>\n",
       "      <th>8.0</th>\n",
       "      <th>9.0</th>\n",
       "      <th>10.0</th>\n",
       "      <th>11.0</th>\n",
       "      <th>12.0</th>\n",
       "    </tr>\n",
       "    <tr>\n",
       "      <th>고시연도</th>\n",
       "      <th></th>\n",
       "      <th></th>\n",
       "      <th></th>\n",
       "      <th></th>\n",
       "      <th></th>\n",
       "      <th></th>\n",
       "      <th></th>\n",
       "      <th></th>\n",
       "      <th></th>\n",
       "      <th></th>\n",
       "      <th></th>\n",
       "      <th></th>\n",
       "    </tr>\n",
       "  </thead>\n",
       "  <tbody>\n",
       "    <tr>\n",
       "      <th>1905.0</th>\n",
       "      <td>NaN</td>\n",
       "      <td>NaN</td>\n",
       "      <td>NaN</td>\n",
       "      <td>NaN</td>\n",
       "      <td>NaN</td>\n",
       "      <td>8.0</td>\n",
       "      <td>2.0</td>\n",
       "      <td>NaN</td>\n",
       "      <td>NaN</td>\n",
       "      <td>NaN</td>\n",
       "      <td>NaN</td>\n",
       "      <td>NaN</td>\n",
       "    </tr>\n",
       "    <tr>\n",
       "      <th>1906.0</th>\n",
       "      <td>NaN</td>\n",
       "      <td>NaN</td>\n",
       "      <td>NaN</td>\n",
       "      <td>NaN</td>\n",
       "      <td>NaN</td>\n",
       "      <td>NaN</td>\n",
       "      <td>1.0</td>\n",
       "      <td>NaN</td>\n",
       "      <td>NaN</td>\n",
       "      <td>NaN</td>\n",
       "      <td>NaN</td>\n",
       "      <td>NaN</td>\n",
       "    </tr>\n",
       "    <tr>\n",
       "      <th>1927.0</th>\n",
       "      <td>NaN</td>\n",
       "      <td>NaN</td>\n",
       "      <td>NaN</td>\n",
       "      <td>NaN</td>\n",
       "      <td>NaN</td>\n",
       "      <td>NaN</td>\n",
       "      <td>NaN</td>\n",
       "      <td>NaN</td>\n",
       "      <td>NaN</td>\n",
       "      <td>NaN</td>\n",
       "      <td>NaN</td>\n",
       "      <td>3.0</td>\n",
       "    </tr>\n",
       "    <tr>\n",
       "      <th>1938.0</th>\n",
       "      <td>NaN</td>\n",
       "      <td>NaN</td>\n",
       "      <td>NaN</td>\n",
       "      <td>NaN</td>\n",
       "      <td>6.0</td>\n",
       "      <td>NaN</td>\n",
       "      <td>NaN</td>\n",
       "      <td>NaN</td>\n",
       "      <td>NaN</td>\n",
       "      <td>NaN</td>\n",
       "      <td>1.0</td>\n",
       "      <td>NaN</td>\n",
       "    </tr>\n",
       "    <tr>\n",
       "      <th>1940.0</th>\n",
       "      <td>2.0</td>\n",
       "      <td>NaN</td>\n",
       "      <td>38.0</td>\n",
       "      <td>NaN</td>\n",
       "      <td>NaN</td>\n",
       "      <td>NaN</td>\n",
       "      <td>NaN</td>\n",
       "      <td>1.0</td>\n",
       "      <td>NaN</td>\n",
       "      <td>NaN</td>\n",
       "      <td>NaN</td>\n",
       "      <td>NaN</td>\n",
       "    </tr>\n",
       "    <tr>\n",
       "      <th>...</th>\n",
       "      <td>...</td>\n",
       "      <td>...</td>\n",
       "      <td>...</td>\n",
       "      <td>...</td>\n",
       "      <td>...</td>\n",
       "      <td>...</td>\n",
       "      <td>...</td>\n",
       "      <td>...</td>\n",
       "      <td>...</td>\n",
       "      <td>...</td>\n",
       "      <td>...</td>\n",
       "      <td>...</td>\n",
       "    </tr>\n",
       "    <tr>\n",
       "      <th>2015.0</th>\n",
       "      <td>43.0</td>\n",
       "      <td>11.0</td>\n",
       "      <td>14.0</td>\n",
       "      <td>7.0</td>\n",
       "      <td>9.0</td>\n",
       "      <td>21.0</td>\n",
       "      <td>8.0</td>\n",
       "      <td>7.0</td>\n",
       "      <td>14.0</td>\n",
       "      <td>2.0</td>\n",
       "      <td>21.0</td>\n",
       "      <td>17.0</td>\n",
       "    </tr>\n",
       "    <tr>\n",
       "      <th>2016.0</th>\n",
       "      <td>30.0</td>\n",
       "      <td>22.0</td>\n",
       "      <td>3.0</td>\n",
       "      <td>19.0</td>\n",
       "      <td>15.0</td>\n",
       "      <td>17.0</td>\n",
       "      <td>13.0</td>\n",
       "      <td>9.0</td>\n",
       "      <td>32.0</td>\n",
       "      <td>14.0</td>\n",
       "      <td>5.0</td>\n",
       "      <td>43.0</td>\n",
       "    </tr>\n",
       "    <tr>\n",
       "      <th>2017.0</th>\n",
       "      <td>8.0</td>\n",
       "      <td>3.0</td>\n",
       "      <td>10.0</td>\n",
       "      <td>20.0</td>\n",
       "      <td>5.0</td>\n",
       "      <td>16.0</td>\n",
       "      <td>13.0</td>\n",
       "      <td>10.0</td>\n",
       "      <td>10.0</td>\n",
       "      <td>5.0</td>\n",
       "      <td>24.0</td>\n",
       "      <td>9.0</td>\n",
       "    </tr>\n",
       "    <tr>\n",
       "      <th>2018.0</th>\n",
       "      <td>5.0</td>\n",
       "      <td>5.0</td>\n",
       "      <td>4.0</td>\n",
       "      <td>2.0</td>\n",
       "      <td>5.0</td>\n",
       "      <td>17.0</td>\n",
       "      <td>1.0</td>\n",
       "      <td>4.0</td>\n",
       "      <td>13.0</td>\n",
       "      <td>27.0</td>\n",
       "      <td>4.0</td>\n",
       "      <td>40.0</td>\n",
       "    </tr>\n",
       "    <tr>\n",
       "      <th>2019.0</th>\n",
       "      <td>10.0</td>\n",
       "      <td>NaN</td>\n",
       "      <td>NaN</td>\n",
       "      <td>NaN</td>\n",
       "      <td>10.0</td>\n",
       "      <td>NaN</td>\n",
       "      <td>NaN</td>\n",
       "      <td>NaN</td>\n",
       "      <td>NaN</td>\n",
       "      <td>NaN</td>\n",
       "      <td>NaN</td>\n",
       "      <td>NaN</td>\n",
       "    </tr>\n",
       "  </tbody>\n",
       "</table>\n",
       "<p>73 rows × 12 columns</p>\n",
       "</div>"
      ],
      "text/plain": [
       "고시월     1.0   2.0   3.0   4.0   5.0   6.0   7.0   8.0   9.0   10.0  11.0  12.0\n",
       "고시연도                                                                          \n",
       "1905.0   NaN   NaN   NaN   NaN   NaN   8.0   2.0   NaN   NaN   NaN   NaN   NaN\n",
       "1906.0   NaN   NaN   NaN   NaN   NaN   NaN   1.0   NaN   NaN   NaN   NaN   NaN\n",
       "1927.0   NaN   NaN   NaN   NaN   NaN   NaN   NaN   NaN   NaN   NaN   NaN   3.0\n",
       "1938.0   NaN   NaN   NaN   NaN   6.0   NaN   NaN   NaN   NaN   NaN   1.0   NaN\n",
       "1940.0   2.0   NaN  38.0   NaN   NaN   NaN   NaN   1.0   NaN   NaN   NaN   NaN\n",
       "...      ...   ...   ...   ...   ...   ...   ...   ...   ...   ...   ...   ...\n",
       "2015.0  43.0  11.0  14.0   7.0   9.0  21.0   8.0   7.0  14.0   2.0  21.0  17.0\n",
       "2016.0  30.0  22.0   3.0  19.0  15.0  17.0  13.0   9.0  32.0  14.0   5.0  43.0\n",
       "2017.0   8.0   3.0  10.0  20.0   5.0  16.0  13.0  10.0  10.0   5.0  24.0   9.0\n",
       "2018.0   5.0   5.0   4.0   2.0   5.0  17.0   1.0   4.0  13.0  27.0   4.0  40.0\n",
       "2019.0  10.0   NaN   NaN   NaN  10.0   NaN   NaN   NaN   NaN   NaN   NaN   NaN\n",
       "\n",
       "[73 rows x 12 columns]"
      ]
     },
     "execution_count": 56,
     "metadata": {},
     "output_type": "execute_result"
    }
   ],
   "source": [
    "df_table = df1.groupby(['고시연도', '고시월']).위도.count().unstack()\n",
    "df_table"
   ]
  },
  {
   "cell_type": "code",
   "execution_count": 57,
   "id": "7111a5ae",
   "metadata": {},
   "outputs": [],
   "source": [
    "df_table = df_table.loc[2000: 2018]"
   ]
  },
  {
   "cell_type": "code",
   "execution_count": 58,
   "id": "fbfb71c9",
   "metadata": {},
   "outputs": [
    {
     "data": {
      "text/plain": [
       "<AxesSubplot:xlabel='고시월', ylabel='고시연도'>"
      ]
     },
     "execution_count": 58,
     "metadata": {},
     "output_type": "execute_result"
    },
    {
     "data": {
      "image/png": "[encoded data removed]",
      "text/plain": [
       "<Figure size 432x288 with 2 Axes>"
      ]
     },
     "metadata": {
      "needs_background": "light"
     },
     "output_type": "display_data"
    }
   ],
   "source": [
    "sns.heatmap(df_table)"
   ]
  },
  {
   "cell_type": "code",
   "execution_count": null,
   "id": "95c018f9",
   "metadata": {},
   "outputs": [],
   "source": []
  },
  {
   "cell_type": "code",
   "execution_count": 59,
   "id": "7cccd5e9",
   "metadata": {},
   "outputs": [
    {
     "data": {
      "text/html": [
       "<style type=\"text/css\">\n",
       "#T_4500e_row0_col0, #T_4500e_row1_col5, #T_4500e_row14_col0, #T_4500e_row15_col4, #T_4500e_row17_col5 {\n",
       "  background-color: #f4edf6;\n",
       "  color: #000000;\n",
       "}\n",
       "#T_4500e_row0_col1, #T_4500e_row3_col1, #T_4500e_row5_col6, #T_4500e_row14_col6 {\n",
       "  background-color: #d3d4e7;\n",
       "  color: #000000;\n",
       "}\n",
       "#T_4500e_row0_col2, #T_4500e_row1_col10 {\n",
       "  background-color: #e9e5f1;\n",
       "  color: #000000;\n",
       "}\n",
       "#T_4500e_row0_col3, #T_4500e_row8_col9, #T_4500e_row11_col3, #T_4500e_row15_col6 {\n",
       "  background-color: #eee9f3;\n",
       "  color: #000000;\n",
       "}\n",
       "#T_4500e_row0_col4, #T_4500e_row4_col4, #T_4500e_row9_col9, #T_4500e_row18_col9 {\n",
       "  background-color: #e6e2ef;\n",
       "  color: #000000;\n",
       "}\n",
       "#T_4500e_row0_col5 {\n",
       "  background-color: #a5bddb;\n",
       "  color: #000000;\n",
       "}\n",
       "#T_4500e_row0_col6, #T_4500e_row7_col5, #T_4500e_row12_col5 {\n",
       "  background-color: #9ebad9;\n",
       "  color: #000000;\n",
       "}\n",
       "#T_4500e_row0_col7, #T_4500e_row2_col2, #T_4500e_row3_col4, #T_4500e_row4_col6, #T_4500e_row5_col2, #T_4500e_row12_col2, #T_4500e_row13_col5, #T_4500e_row17_col7 {\n",
       "  background-color: #f1ebf4;\n",
       "  color: #000000;\n",
       "}\n",
       "#T_4500e_row0_col8, #T_4500e_row1_col6, #T_4500e_row4_col2, #T_4500e_row15_col8, #T_4500e_row16_col7 {\n",
       "  background-color: #f3edf5;\n",
       "  color: #000000;\n",
       "}\n",
       "#T_4500e_row0_col9, #T_4500e_row15_col2, #T_4500e_row18_col8 {\n",
       "  background-color: #f5eef6;\n",
       "  color: #000000;\n",
       "}\n",
       "#T_4500e_row0_col10, #T_4500e_row2_col9 {\n",
       "  background-color: #fbf3f9;\n",
       "  color: #000000;\n",
       "}\n",
       "#T_4500e_row0_col11, #T_4500e_row5_col9 {\n",
       "  background-color: #dcdaeb;\n",
       "  color: #000000;\n",
       "}\n",
       "#T_4500e_row1_col0, #T_4500e_row4_col0, #T_4500e_row6_col6, #T_4500e_row16_col11 {\n",
       "  background-color: #c9cee4;\n",
       "  color: #000000;\n",
       "}\n",
       "#T_4500e_row1_col1, #T_4500e_row1_col9, #T_4500e_row2_col0, #T_4500e_row2_col7, #T_4500e_row6_col9, #T_4500e_row7_col1, #T_4500e_row7_col4, #T_4500e_row10_col8 {\n",
       "  background-color: #d9d8ea;\n",
       "  color: #000000;\n",
       "}\n",
       "#T_4500e_row1_col2 {\n",
       "  background-color: #fbf4f9;\n",
       "  color: #000000;\n",
       "}\n",
       "#T_4500e_row1_col3, #T_4500e_row7_col3, #T_4500e_row8_col3 {\n",
       "  background-color: #c0c9e2;\n",
       "  color: #000000;\n",
       "}\n",
       "#T_4500e_row1_col4, #T_4500e_row9_col7 {\n",
       "  background-color: #bdc8e1;\n",
       "  color: #000000;\n",
       "}\n",
       "#T_4500e_row1_col7, #T_4500e_row16_col4 {\n",
       "  background-color: #dddbec;\n",
       "  color: #000000;\n",
       "}\n",
       "#T_4500e_row1_col8, #T_4500e_row5_col5 {\n",
       "  background-color: #cdd0e5;\n",
       "  color: #000000;\n",
       "}\n",
       "#T_4500e_row1_col11, #T_4500e_row18_col11 {\n",
       "  background-color: #d2d2e7;\n",
       "  color: #000000;\n",
       "}\n",
       "#T_4500e_row2_col1 {\n",
       "  background-color: #a4bcda;\n",
       "  color: #000000;\n",
       "}\n",
       "#T_4500e_row2_col3, #T_4500e_row13_col10 {\n",
       "  background-color: #f6eff7;\n",
       "  color: #000000;\n",
       "}\n",
       "#T_4500e_row2_col4, #T_4500e_row12_col4 {\n",
       "  background-color: #d0d1e6;\n",
       "  color: #000000;\n",
       "}\n",
       "#T_4500e_row2_col5 {\n",
       "  background-color: #f7f0f7;\n",
       "  color: #000000;\n",
       "}\n",
       "#T_4500e_row2_col6, #T_4500e_row5_col11 {\n",
       "  background-color: #056dac;\n",
       "  color: #f1f1f1;\n",
       "}\n",
       "#T_4500e_row2_col8, #T_4500e_row3_col8, #T_4500e_row14_col5, #T_4500e_row15_col9, #T_4500e_row16_col2, #T_4500e_row17_col1, #T_4500e_row17_col4, #T_4500e_row17_col11, #T_4500e_row18_col0, #T_4500e_row18_col3, #T_4500e_row18_col4, #T_4500e_row18_col6, #T_4500e_row18_col7, #T_4500e_row18_col10 {\n",
       "  background-color: #fff7fb;\n",
       "  color: #000000;\n",
       "}\n",
       "#T_4500e_row2_col10, #T_4500e_row3_col11, #T_4500e_row4_col10 {\n",
       "  background-color: #d5d5e8;\n",
       "  color: #000000;\n",
       "}\n",
       "#T_4500e_row2_col11 {\n",
       "  background-color: #a9bfdc;\n",
       "  color: #000000;\n",
       "}\n",
       "#T_4500e_row3_col0, #T_4500e_row3_col9, #T_4500e_row11_col2, #T_4500e_row11_col10, #T_4500e_row12_col3, #T_4500e_row12_col9 {\n",
       "  background-color: #f0eaf4;\n",
       "  color: #000000;\n",
       "}\n",
       "#T_4500e_row3_col2, #T_4500e_row8_col10, #T_4500e_row12_col0, #T_4500e_row13_col2, #T_4500e_row14_col2, #T_4500e_row16_col5, #T_4500e_row17_col10, #T_4500e_row18_col5 {\n",
       "  background-color: #f2ecf5;\n",
       "  color: #000000;\n",
       "}\n",
       "#T_4500e_row3_col3, #T_4500e_row4_col3, #T_4500e_row11_col5 {\n",
       "  background-color: #ede8f3;\n",
       "  color: #000000;\n",
       "}\n",
       "#T_4500e_row3_col5 {\n",
       "  background-color: #e7e3f0;\n",
       "  color: #000000;\n",
       "}\n",
       "#T_4500e_row3_col6, #T_4500e_row12_col8, #T_4500e_row15_col7, #T_4500e_row17_col2, #T_4500e_row18_col1 {\n",
       "  background-color: #f8f1f8;\n",
       "  color: #000000;\n",
       "}\n",
       "#T_4500e_row3_col7, #T_4500e_row14_col10, #T_4500e_row15_col11 {\n",
       "  background-color: #f5eff6;\n",
       "  color: #000000;\n",
       "}\n",
       "#T_4500e_row3_col10 {\n",
       "  background-color: #e0dded;\n",
       "  color: #000000;\n",
       "}\n",
       "#T_4500e_row4_col1 {\n",
       "  background-color: #acc0dd;\n",
       "  color: #000000;\n",
       "}\n",
       "#T_4500e_row4_col5 {\n",
       "  background-color: #e4e1ef;\n",
       "  color: #000000;\n",
       "}\n",
       "#T_4500e_row4_col7 {\n",
       "  background-color: #157ab5;\n",
       "  color: #f1f1f1;\n",
       "}\n",
       "#T_4500e_row4_col8, #T_4500e_row13_col8, #T_4500e_row17_col8 {\n",
       "  background-color: #faf3f9;\n",
       "  color: #000000;\n",
       "}\n",
       "#T_4500e_row4_col9, #T_4500e_row17_col3 {\n",
       "  background-color: #eae6f1;\n",
       "  color: #000000;\n",
       "}\n",
       "#T_4500e_row4_col11, #T_4500e_row7_col7, #T_4500e_row7_col9, #T_4500e_row7_col10, #T_4500e_row8_col0, #T_4500e_row8_col1, #T_4500e_row8_col5, #T_4500e_row9_col2, #T_4500e_row9_col3, #T_4500e_row9_col4, #T_4500e_row9_col8, #T_4500e_row12_col6 {\n",
       "  background-color: #023858;\n",
       "  color: #f1f1f1;\n",
       "}\n",
       "#T_4500e_row5_col0 {\n",
       "  background-color: #b9c6e0;\n",
       "  color: #000000;\n",
       "}\n",
       "#T_4500e_row5_col1 {\n",
       "  background-color: #1c7fb8;\n",
       "  color: #f1f1f1;\n",
       "}\n",
       "#T_4500e_row5_col3, #T_4500e_row16_col0 {\n",
       "  background-color: #e5e1ef;\n",
       "  color: #000000;\n",
       "}\n",
       "#T_4500e_row5_col4 {\n",
       "  background-color: #0c74b2;\n",
       "  color: #f1f1f1;\n",
       "}\n",
       "#T_4500e_row5_col7 {\n",
       "  background-color: #034973;\n",
       "  color: #f1f1f1;\n",
       "}\n",
       "#T_4500e_row5_col8 {\n",
       "  background-color: #ede7f2;\n",
       "  color: #000000;\n",
       "}\n",
       "#T_4500e_row5_col10 {\n",
       "  background-color: #d4d4e8;\n",
       "  color: #000000;\n",
       "}\n",
       "#T_4500e_row6_col0, #T_4500e_row12_col7 {\n",
       "  background-color: #73a9cf;\n",
       "  color: #f1f1f1;\n",
       "}\n",
       "#T_4500e_row6_col1 {\n",
       "  background-color: #0a73b2;\n",
       "  color: #f1f1f1;\n",
       "}\n",
       "#T_4500e_row6_col2 {\n",
       "  background-color: #96b6d7;\n",
       "  color: #000000;\n",
       "}\n",
       "#T_4500e_row6_col3, #T_4500e_row10_col9 {\n",
       "  background-color: #d8d7e9;\n",
       "  color: #000000;\n",
       "}\n",
       "#T_4500e_row6_col4 {\n",
       "  background-color: #03476f;\n",
       "  color: #f1f1f1;\n",
       "}\n",
       "#T_4500e_row6_col5, #T_4500e_row11_col8 {\n",
       "  background-color: #d1d2e6;\n",
       "  color: #000000;\n",
       "}\n",
       "#T_4500e_row6_col7, #T_4500e_row8_col2, #T_4500e_row10_col2 {\n",
       "  background-color: #81aed2;\n",
       "  color: #f1f1f1;\n",
       "}\n",
       "#T_4500e_row6_col8, #T_4500e_row15_col1, #T_4500e_row16_col6, #T_4500e_row17_col6 {\n",
       "  background-color: #dedcec;\n",
       "  color: #000000;\n",
       "}\n",
       "#T_4500e_row6_col10 {\n",
       "  background-color: #7dacd1;\n",
       "  color: #f1f1f1;\n",
       "}\n",
       "#T_4500e_row6_col11 {\n",
       "  background-color: #04588a;\n",
       "  color: #f1f1f1;\n",
       "}\n",
       "#T_4500e_row7_col0 {\n",
       "  background-color: #9ab8d8;\n",
       "  color: #000000;\n",
       "}\n",
       "#T_4500e_row7_col2, #T_4500e_row15_col3 {\n",
       "  background-color: #faf2f8;\n",
       "  color: #000000;\n",
       "}\n",
       "#T_4500e_row7_col6 {\n",
       "  background-color: #034165;\n",
       "  color: #f1f1f1;\n",
       "}\n",
       "#T_4500e_row7_col8 {\n",
       "  background-color: #045b8f;\n",
       "  color: #f1f1f1;\n",
       "}\n",
       "#T_4500e_row7_col11 {\n",
       "  background-color: #056caa;\n",
       "  color: #f1f1f1;\n",
       "}\n",
       "#T_4500e_row8_col4 {\n",
       "  background-color: #7bacd1;\n",
       "  color: #f1f1f1;\n",
       "}\n",
       "#T_4500e_row8_col6 {\n",
       "  background-color: #d7d6e9;\n",
       "  color: #000000;\n",
       "}\n",
       "#T_4500e_row8_col7 {\n",
       "  background-color: #034d79;\n",
       "  color: #f1f1f1;\n",
       "}\n",
       "#T_4500e_row8_col8, #T_4500e_row12_col11, #T_4500e_row16_col8 {\n",
       "  background-color: #c6cce3;\n",
       "  color: #000000;\n",
       "}\n",
       "#T_4500e_row8_col11 {\n",
       "  background-color: #034b76;\n",
       "  color: #f1f1f1;\n",
       "}\n",
       "#T_4500e_row9_col0 {\n",
       "  background-color: #b1c2de;\n",
       "  color: #000000;\n",
       "}\n",
       "#T_4500e_row9_col1, #T_4500e_row13_col6 {\n",
       "  background-color: #2685bb;\n",
       "  color: #f1f1f1;\n",
       "}\n",
       "#T_4500e_row9_col5 {\n",
       "  background-color: #5c9fc9;\n",
       "  color: #f1f1f1;\n",
       "}\n",
       "#T_4500e_row9_col6, #T_4500e_row10_col6, #T_4500e_row11_col11 {\n",
       "  background-color: #589ec8;\n",
       "  color: #f1f1f1;\n",
       "}\n",
       "#T_4500e_row9_col10 {\n",
       "  background-color: #c4cbe3;\n",
       "  color: #000000;\n",
       "}\n",
       "#T_4500e_row9_col11 {\n",
       "  background-color: #1077b4;\n",
       "  color: #f1f1f1;\n",
       "}\n",
       "#T_4500e_row10_col0, #T_4500e_row16_col3 {\n",
       "  background-color: #ece7f2;\n",
       "  color: #000000;\n",
       "}\n",
       "#T_4500e_row10_col1, #T_4500e_row11_col7, #T_4500e_row12_col1 {\n",
       "  background-color: #4496c3;\n",
       "  color: #f1f1f1;\n",
       "}\n",
       "#T_4500e_row10_col3 {\n",
       "  background-color: #b0c2de;\n",
       "  color: #000000;\n",
       "}\n",
       "#T_4500e_row10_col4 {\n",
       "  background-color: #04629a;\n",
       "  color: #f1f1f1;\n",
       "}\n",
       "#T_4500e_row10_col5 {\n",
       "  background-color: #8fb4d6;\n",
       "  color: #000000;\n",
       "}\n",
       "#T_4500e_row10_col7 {\n",
       "  background-color: #b3c3de;\n",
       "  color: #000000;\n",
       "}\n",
       "#T_4500e_row10_col10 {\n",
       "  background-color: #bbc7e0;\n",
       "  color: #000000;\n",
       "}\n",
       "#T_4500e_row10_col11 {\n",
       "  background-color: #6fa7ce;\n",
       "  color: #f1f1f1;\n",
       "}\n",
       "#T_4500e_row11_col0 {\n",
       "  background-color: #dbdaeb;\n",
       "  color: #000000;\n",
       "}\n",
       "#T_4500e_row11_col1 {\n",
       "  background-color: #7eadd1;\n",
       "  color: #f1f1f1;\n",
       "}\n",
       "#T_4500e_row11_col4, #T_4500e_row13_col4 {\n",
       "  background-color: #cacee5;\n",
       "  color: #000000;\n",
       "}\n",
       "#T_4500e_row11_col6 {\n",
       "  background-color: #78abd0;\n",
       "  color: #f1f1f1;\n",
       "}\n",
       "#T_4500e_row11_col9 {\n",
       "  background-color: #bcc7e1;\n",
       "  color: #000000;\n",
       "}\n",
       "#T_4500e_row12_col10 {\n",
       "  background-color: #e8e4f0;\n",
       "  color: #000000;\n",
       "}\n",
       "#T_4500e_row13_col0 {\n",
       "  background-color: #eee8f3;\n",
       "  color: #000000;\n",
       "}\n",
       "#T_4500e_row13_col1 {\n",
       "  background-color: #cccfe5;\n",
       "  color: #000000;\n",
       "}\n",
       "#T_4500e_row13_col3 {\n",
       "  background-color: #d6d6e9;\n",
       "  color: #000000;\n",
       "}\n",
       "#T_4500e_row13_col7, #T_4500e_row14_col7, #T_4500e_row15_col5 {\n",
       "  background-color: #ebe6f2;\n",
       "  color: #000000;\n",
       "}\n",
       "#T_4500e_row13_col9, #T_4500e_row14_col4 {\n",
       "  background-color: #e1dfed;\n",
       "  color: #000000;\n",
       "}\n",
       "#T_4500e_row13_col11 {\n",
       "  background-color: #97b7d7;\n",
       "  color: #000000;\n",
       "}\n",
       "#T_4500e_row14_col1, #T_4500e_row16_col1 {\n",
       "  background-color: #88b1d4;\n",
       "  color: #000000;\n",
       "}\n",
       "#T_4500e_row14_col3, #T_4500e_row14_col8, #T_4500e_row14_col9 {\n",
       "  background-color: #f1ebf5;\n",
       "  color: #000000;\n",
       "}\n",
       "#T_4500e_row14_col11 {\n",
       "  background-color: #197db7;\n",
       "  color: #f1f1f1;\n",
       "}\n",
       "#T_4500e_row15_col0 {\n",
       "  background-color: #d2d3e7;\n",
       "  color: #000000;\n",
       "}\n",
       "#T_4500e_row15_col10, #T_4500e_row16_col9 {\n",
       "  background-color: #f4eef6;\n",
       "  color: #000000;\n",
       "}\n",
       "#T_4500e_row16_col10, #T_4500e_row18_col2 {\n",
       "  background-color: #fef6fb;\n",
       "  color: #000000;\n",
       "}\n",
       "#T_4500e_row17_col0, #T_4500e_row17_col9 {\n",
       "  background-color: #fdf5fa;\n",
       "  color: #000000;\n",
       "}\n",
       "</style>\n",
       "<table id=\"T_4500e_\">\n",
       "  <thead>\n",
       "    <tr>\n",
       "      <th class=\"index_name level0\" >고시월</th>\n",
       "      <th class=\"col_heading level0 col0\" >1.0</th>\n",
       "      <th class=\"col_heading level0 col1\" >2.0</th>\n",
       "      <th class=\"col_heading level0 col2\" >3.0</th>\n",
       "      <th class=\"col_heading level0 col3\" >4.0</th>\n",
       "      <th class=\"col_heading level0 col4\" >5.0</th>\n",
       "      <th class=\"col_heading level0 col5\" >6.0</th>\n",
       "      <th class=\"col_heading level0 col6\" >7.0</th>\n",
       "      <th class=\"col_heading level0 col7\" >8.0</th>\n",
       "      <th class=\"col_heading level0 col8\" >9.0</th>\n",
       "      <th class=\"col_heading level0 col9\" >10.0</th>\n",
       "      <th class=\"col_heading level0 col10\" >11.0</th>\n",
       "      <th class=\"col_heading level0 col11\" >12.0</th>\n",
       "    </tr>\n",
       "    <tr>\n",
       "      <th class=\"index_name level0\" >고시연도</th>\n",
       "      <th class=\"blank col0\" >&nbsp;</th>\n",
       "      <th class=\"blank col1\" >&nbsp;</th>\n",
       "      <th class=\"blank col2\" >&nbsp;</th>\n",
       "      <th class=\"blank col3\" >&nbsp;</th>\n",
       "      <th class=\"blank col4\" >&nbsp;</th>\n",
       "      <th class=\"blank col5\" >&nbsp;</th>\n",
       "      <th class=\"blank col6\" >&nbsp;</th>\n",
       "      <th class=\"blank col7\" >&nbsp;</th>\n",
       "      <th class=\"blank col8\" >&nbsp;</th>\n",
       "      <th class=\"blank col9\" >&nbsp;</th>\n",
       "      <th class=\"blank col10\" >&nbsp;</th>\n",
       "      <th class=\"blank col11\" >&nbsp;</th>\n",
       "    </tr>\n",
       "  </thead>\n",
       "  <tbody>\n",
       "    <tr>\n",
       "      <th id=\"T_4500e_level0_row0\" class=\"row_heading level0 row0\" >2000.0</th>\n",
       "      <td id=\"T_4500e_row0_col0\" class=\"data row0 col0\" >17.000000</td>\n",
       "      <td id=\"T_4500e_row0_col1\" class=\"data row0 col1\" >13.000000</td>\n",
       "      <td id=\"T_4500e_row0_col2\" class=\"data row0 col2\" >25.000000</td>\n",
       "      <td id=\"T_4500e_row0_col3\" class=\"data row0 col3\" >17.000000</td>\n",
       "      <td id=\"T_4500e_row0_col4\" class=\"data row0 col4\" >13.000000</td>\n",
       "      <td id=\"T_4500e_row0_col5\" class=\"data row0 col5\" >44.000000</td>\n",
       "      <td id=\"T_4500e_row0_col6\" class=\"data row0 col6\" >26.000000</td>\n",
       "      <td id=\"T_4500e_row0_col7\" class=\"data row0 col7\" >10.000000</td>\n",
       "      <td id=\"T_4500e_row0_col8\" class=\"data row0 col8\" >14.000000</td>\n",
       "      <td id=\"T_4500e_row0_col9\" class=\"data row0 col9\" >13.000000</td>\n",
       "      <td id=\"T_4500e_row0_col10\" class=\"data row0 col10\" >11.000000</td>\n",
       "      <td id=\"T_4500e_row0_col11\" class=\"data row0 col11\" >34.000000</td>\n",
       "    </tr>\n",
       "    <tr>\n",
       "      <th id=\"T_4500e_level0_row1\" class=\"row_heading level0 row1\" >2001.0</th>\n",
       "      <td id=\"T_4500e_row1_col0\" class=\"data row1 col0\" >48.000000</td>\n",
       "      <td id=\"T_4500e_row1_col1\" class=\"data row1 col1\" >12.000000</td>\n",
       "      <td id=\"T_4500e_row1_col2\" class=\"data row1 col2\" >7.000000</td>\n",
       "      <td id=\"T_4500e_row1_col3\" class=\"data row1 col3\" >42.000000</td>\n",
       "      <td id=\"T_4500e_row1_col4\" class=\"data row1 col4\" >21.000000</td>\n",
       "      <td id=\"T_4500e_row1_col5\" class=\"data row1 col5\" >16.000000</td>\n",
       "      <td id=\"T_4500e_row1_col6\" class=\"data row1 col6\" >6.000000</td>\n",
       "      <td id=\"T_4500e_row1_col7\" class=\"data row1 col7\" >16.000000</td>\n",
       "      <td id=\"T_4500e_row1_col8\" class=\"data row1 col8\" >30.000000</td>\n",
       "      <td id=\"T_4500e_row1_col9\" class=\"data row1 col9\" >36.000000</td>\n",
       "      <td id=\"T_4500e_row1_col10\" class=\"data row1 col10\" >37.000000</td>\n",
       "      <td id=\"T_4500e_row1_col11\" class=\"data row1 col11\" >40.000000</td>\n",
       "    </tr>\n",
       "    <tr>\n",
       "      <th id=\"T_4500e_level0_row2\" class=\"row_heading level0 row2\" >2002.0</th>\n",
       "      <td id=\"T_4500e_row2_col0\" class=\"data row2 col0\" >38.000000</td>\n",
       "      <td id=\"T_4500e_row2_col1\" class=\"data row2 col1\" >19.000000</td>\n",
       "      <td id=\"T_4500e_row2_col2\" class=\"data row2 col2\" >18.000000</td>\n",
       "      <td id=\"T_4500e_row2_col3\" class=\"data row2 col3\" >10.000000</td>\n",
       "      <td id=\"T_4500e_row2_col4\" class=\"data row2 col4\" >18.000000</td>\n",
       "      <td id=\"T_4500e_row2_col5\" class=\"data row2 col5\" >14.000000</td>\n",
       "      <td id=\"T_4500e_row2_col6\" class=\"data row2 col6\" >49.000000</td>\n",
       "      <td id=\"T_4500e_row2_col7\" class=\"data row2 col7\" >17.000000</td>\n",
       "      <td id=\"T_4500e_row2_col8\" class=\"data row2 col8\" >7.000000</td>\n",
       "      <td id=\"T_4500e_row2_col9\" class=\"data row2 col9\" >7.000000</td>\n",
       "      <td id=\"T_4500e_row2_col10\" class=\"data row2 col10\" >59.000000</td>\n",
       "      <td id=\"T_4500e_row2_col11\" class=\"data row2 col11\" >55.000000</td>\n",
       "    </tr>\n",
       "    <tr>\n",
       "      <th id=\"T_4500e_level0_row3\" class=\"row_heading level0 row3\" >2003.0</th>\n",
       "      <td id=\"T_4500e_row3_col0\" class=\"data row3 col0\" >21.000000</td>\n",
       "      <td id=\"T_4500e_row3_col1\" class=\"data row3 col1\" >13.000000</td>\n",
       "      <td id=\"T_4500e_row3_col2\" class=\"data row3 col2\" >17.000000</td>\n",
       "      <td id=\"T_4500e_row3_col3\" class=\"data row3 col3\" >18.000000</td>\n",
       "      <td id=\"T_4500e_row3_col4\" class=\"data row3 col4\" >10.000000</td>\n",
       "      <td id=\"T_4500e_row3_col5\" class=\"data row3 col5\" >23.000000</td>\n",
       "      <td id=\"T_4500e_row3_col6\" class=\"data row3 col6\" >4.000000</td>\n",
       "      <td id=\"T_4500e_row3_col7\" class=\"data row3 col7\" >8.000000</td>\n",
       "      <td id=\"T_4500e_row3_col8\" class=\"data row3 col8\" >7.000000</td>\n",
       "      <td id=\"T_4500e_row3_col9\" class=\"data row3 col9\" >18.000000</td>\n",
       "      <td id=\"T_4500e_row3_col10\" class=\"data row3 col10\" >48.000000</td>\n",
       "      <td id=\"T_4500e_row3_col11\" class=\"data row3 col11\" >38.000000</td>\n",
       "    </tr>\n",
       "    <tr>\n",
       "      <th id=\"T_4500e_level0_row4\" class=\"row_heading level0 row4\" >2004.0</th>\n",
       "      <td id=\"T_4500e_row4_col0\" class=\"data row4 col0\" >48.000000</td>\n",
       "      <td id=\"T_4500e_row4_col1\" class=\"data row4 col1\" >18.000000</td>\n",
       "      <td id=\"T_4500e_row4_col2\" class=\"data row4 col2\" >16.000000</td>\n",
       "      <td id=\"T_4500e_row4_col3\" class=\"data row4 col3\" >18.000000</td>\n",
       "      <td id=\"T_4500e_row4_col4\" class=\"data row4 col4\" >13.000000</td>\n",
       "      <td id=\"T_4500e_row4_col5\" class=\"data row4 col5\" >24.000000</td>\n",
       "      <td id=\"T_4500e_row4_col6\" class=\"data row4 col6\" >7.000000</td>\n",
       "      <td id=\"T_4500e_row4_col7\" class=\"data row4 col7\" >48.000000</td>\n",
       "      <td id=\"T_4500e_row4_col8\" class=\"data row4 col8\" >10.000000</td>\n",
       "      <td id=\"T_4500e_row4_col9\" class=\"data row4 col9\" >24.000000</td>\n",
       "      <td id=\"T_4500e_row4_col10\" class=\"data row4 col10\" >59.000000</td>\n",
       "      <td id=\"T_4500e_row4_col11\" class=\"data row4 col11\" >135.000000</td>\n",
       "    </tr>\n",
       "    <tr>\n",
       "      <th id=\"T_4500e_level0_row5\" class=\"row_heading level0 row5\" >2005.0</th>\n",
       "      <td id=\"T_4500e_row5_col0\" class=\"data row5 col0\" >55.000000</td>\n",
       "      <td id=\"T_4500e_row5_col1\" class=\"data row5 col1\" >32.000000</td>\n",
       "      <td id=\"T_4500e_row5_col2\" class=\"data row5 col2\" >18.000000</td>\n",
       "      <td id=\"T_4500e_row5_col3\" class=\"data row5 col3\" >23.000000</td>\n",
       "      <td id=\"T_4500e_row5_col4\" class=\"data row5 col4\" >43.000000</td>\n",
       "      <td id=\"T_4500e_row5_col5\" class=\"data row5 col5\" >33.000000</td>\n",
       "      <td id=\"T_4500e_row5_col6\" class=\"data row5 col6\" >16.000000</td>\n",
       "      <td id=\"T_4500e_row5_col7\" class=\"data row5 col7\" >62.000000</td>\n",
       "      <td id=\"T_4500e_row5_col8\" class=\"data row5 col8\" >18.000000</td>\n",
       "      <td id=\"T_4500e_row5_col9\" class=\"data row5 col9\" >34.000000</td>\n",
       "      <td id=\"T_4500e_row5_col10\" class=\"data row5 col10\" >60.000000</td>\n",
       "      <td id=\"T_4500e_row5_col11\" class=\"data row5 col11\" >105.000000</td>\n",
       "    </tr>\n",
       "    <tr>\n",
       "      <th id=\"T_4500e_level0_row6\" class=\"row_heading level0 row6\" >2006.0</th>\n",
       "      <td id=\"T_4500e_row6_col0\" class=\"data row6 col0\" >84.000000</td>\n",
       "      <td id=\"T_4500e_row6_col1\" class=\"data row6 col1\" >34.000000</td>\n",
       "      <td id=\"T_4500e_row6_col2\" class=\"data row6 col2\" >69.000000</td>\n",
       "      <td id=\"T_4500e_row6_col3\" class=\"data row6 col3\" >31.000000</td>\n",
       "      <td id=\"T_4500e_row6_col4\" class=\"data row6 col4\" >54.000000</td>\n",
       "      <td id=\"T_4500e_row6_col5\" class=\"data row6 col5\" >32.000000</td>\n",
       "      <td id=\"T_4500e_row6_col6\" class=\"data row6 col6\" >18.000000</td>\n",
       "      <td id=\"T_4500e_row6_col7\" class=\"data row6 col7\" >33.000000</td>\n",
       "      <td id=\"T_4500e_row6_col8\" class=\"data row6 col8\" >24.000000</td>\n",
       "      <td id=\"T_4500e_row6_col9\" class=\"data row6 col9\" >36.000000</td>\n",
       "      <td id=\"T_4500e_row6_col10\" class=\"data row6 col10\" >119.000000</td>\n",
       "      <td id=\"T_4500e_row6_col11\" class=\"data row6 col11\" >120.000000</td>\n",
       "    </tr>\n",
       "    <tr>\n",
       "      <th id=\"T_4500e_level0_row7\" class=\"row_heading level0 row7\" >2007.0</th>\n",
       "      <td id=\"T_4500e_row7_col0\" class=\"data row7 col0\" >69.000000</td>\n",
       "      <td id=\"T_4500e_row7_col1\" class=\"data row7 col1\" >12.000000</td>\n",
       "      <td id=\"T_4500e_row7_col2\" class=\"data row7 col2\" >9.000000</td>\n",
       "      <td id=\"T_4500e_row7_col3\" class=\"data row7 col3\" >42.000000</td>\n",
       "      <td id=\"T_4500e_row7_col4\" class=\"data row7 col4\" >16.000000</td>\n",
       "      <td id=\"T_4500e_row7_col5\" class=\"data row7 col5\" >46.000000</td>\n",
       "      <td id=\"T_4500e_row7_col6\" class=\"data row7 col6\" >62.000000</td>\n",
       "      <td id=\"T_4500e_row7_col7\" class=\"data row7 col7\" >66.000000</td>\n",
       "      <td id=\"T_4500e_row7_col8\" class=\"data row7 col8\" >84.000000</td>\n",
       "      <td id=\"T_4500e_row7_col9\" class=\"data row7 col9\" >164.000000</td>\n",
       "      <td id=\"T_4500e_row7_col10\" class=\"data row7 col10\" >245.000000</td>\n",
       "      <td id=\"T_4500e_row7_col11\" class=\"data row7 col11\" >106.000000</td>\n",
       "    </tr>\n",
       "    <tr>\n",
       "      <th id=\"T_4500e_level0_row8\" class=\"row_heading level0 row8\" >2008.0</th>\n",
       "      <td id=\"T_4500e_row8_col0\" class=\"data row8 col0\" >163.000000</td>\n",
       "      <td id=\"T_4500e_row8_col1\" class=\"data row8 col1\" >45.000000</td>\n",
       "      <td id=\"T_4500e_row8_col2\" class=\"data row8 col2\" >77.000000</td>\n",
       "      <td id=\"T_4500e_row8_col3\" class=\"data row8 col3\" >42.000000</td>\n",
       "      <td id=\"T_4500e_row8_col4\" class=\"data row8 col4\" >30.000000</td>\n",
       "      <td id=\"T_4500e_row8_col5\" class=\"data row8 col5\" >102.000000</td>\n",
       "      <td id=\"T_4500e_row8_col6\" class=\"data row8 col6\" >15.000000</td>\n",
       "      <td id=\"T_4500e_row8_col7\" class=\"data row8 col7\" >61.000000</td>\n",
       "      <td id=\"T_4500e_row8_col8\" class=\"data row8 col8\" >32.000000</td>\n",
       "      <td id=\"T_4500e_row8_col9\" class=\"data row8 col9\" >20.000000</td>\n",
       "      <td id=\"T_4500e_row8_col10\" class=\"data row8 col10\" >24.000000</td>\n",
       "      <td id=\"T_4500e_row8_col11\" class=\"data row8 col11\" >126.000000</td>\n",
       "    </tr>\n",
       "    <tr>\n",
       "      <th id=\"T_4500e_level0_row9\" class=\"row_heading level0 row9\" >2009.0</th>\n",
       "      <td id=\"T_4500e_row9_col0\" class=\"data row9 col0\" >59.000000</td>\n",
       "      <td id=\"T_4500e_row9_col1\" class=\"data row9 col1\" >31.000000</td>\n",
       "      <td id=\"T_4500e_row9_col2\" class=\"data row9 col2\" >162.000000</td>\n",
       "      <td id=\"T_4500e_row9_col3\" class=\"data row9 col3\" >135.000000</td>\n",
       "      <td id=\"T_4500e_row9_col4\" class=\"data row9 col4\" >57.000000</td>\n",
       "      <td id=\"T_4500e_row9_col5\" class=\"data row9 col5\" >60.000000</td>\n",
       "      <td id=\"T_4500e_row9_col6\" class=\"data row9 col6\" >36.000000</td>\n",
       "      <td id=\"T_4500e_row9_col7\" class=\"data row9 col7\" >23.000000</td>\n",
       "      <td id=\"T_4500e_row9_col8\" class=\"data row9 col8\" >96.000000</td>\n",
       "      <td id=\"T_4500e_row9_col9\" class=\"data row9 col9\" >27.000000</td>\n",
       "      <td id=\"T_4500e_row9_col10\" class=\"data row9 col10\" >73.000000</td>\n",
       "      <td id=\"T_4500e_row9_col11\" class=\"data row9 col11\" >100.000000</td>\n",
       "    </tr>\n",
       "    <tr>\n",
       "      <th id=\"T_4500e_level0_row10\" class=\"row_heading level0 row10\" >2010.0</th>\n",
       "      <td id=\"T_4500e_row10_col0\" class=\"data row10 col0\" >25.000000</td>\n",
       "      <td id=\"T_4500e_row10_col1\" class=\"data row10 col1\" >28.000000</td>\n",
       "      <td id=\"T_4500e_row10_col2\" class=\"data row10 col2\" >77.000000</td>\n",
       "      <td id=\"T_4500e_row10_col3\" class=\"data row10 col3\" >48.000000</td>\n",
       "      <td id=\"T_4500e_row10_col4\" class=\"data row10 col4\" >48.000000</td>\n",
       "      <td id=\"T_4500e_row10_col5\" class=\"data row10 col5\" >49.000000</td>\n",
       "      <td id=\"T_4500e_row10_col6\" class=\"data row10 col6\" >36.000000</td>\n",
       "      <td id=\"T_4500e_row10_col7\" class=\"data row10 col7\" >25.000000</td>\n",
       "      <td id=\"T_4500e_row10_col8\" class=\"data row10 col8\" >26.000000</td>\n",
       "      <td id=\"T_4500e_row10_col9\" class=\"data row10 col9\" >37.000000</td>\n",
       "      <td id=\"T_4500e_row10_col10\" class=\"data row10 col10\" >80.000000</td>\n",
       "      <td id=\"T_4500e_row10_col11\" class=\"data row10 col11\" >73.000000</td>\n",
       "    </tr>\n",
       "    <tr>\n",
       "      <th id=\"T_4500e_level0_row11\" class=\"row_heading level0 row11\" >2011.0</th>\n",
       "      <td id=\"T_4500e_row11_col0\" class=\"data row11 col0\" >37.000000</td>\n",
       "      <td id=\"T_4500e_row11_col1\" class=\"data row11 col1\" >23.000000</td>\n",
       "      <td id=\"T_4500e_row11_col2\" class=\"data row11 col2\" >19.000000</td>\n",
       "      <td id=\"T_4500e_row11_col3\" class=\"data row11 col3\" >17.000000</td>\n",
       "      <td id=\"T_4500e_row11_col4\" class=\"data row11 col4\" >19.000000</td>\n",
       "      <td id=\"T_4500e_row11_col5\" class=\"data row11 col5\" >20.000000</td>\n",
       "      <td id=\"T_4500e_row11_col6\" class=\"data row11 col6\" >32.000000</td>\n",
       "      <td id=\"T_4500e_row11_col7\" class=\"data row11 col7\" >41.000000</td>\n",
       "      <td id=\"T_4500e_row11_col8\" class=\"data row11 col8\" >29.000000</td>\n",
       "      <td id=\"T_4500e_row11_col9\" class=\"data row11 col9\" >52.000000</td>\n",
       "      <td id=\"T_4500e_row11_col10\" class=\"data row11 col10\" >28.000000</td>\n",
       "      <td id=\"T_4500e_row11_col11\" class=\"data row11 col11\" >79.000000</td>\n",
       "    </tr>\n",
       "    <tr>\n",
       "      <th id=\"T_4500e_level0_row12\" class=\"row_heading level0 row12\" >2012.0</th>\n",
       "      <td id=\"T_4500e_row12_col0\" class=\"data row12 col0\" >19.000000</td>\n",
       "      <td id=\"T_4500e_row12_col1\" class=\"data row12 col1\" >28.000000</td>\n",
       "      <td id=\"T_4500e_row12_col2\" class=\"data row12 col2\" >18.000000</td>\n",
       "      <td id=\"T_4500e_row12_col3\" class=\"data row12 col3\" >16.000000</td>\n",
       "      <td id=\"T_4500e_row12_col4\" class=\"data row12 col4\" >18.000000</td>\n",
       "      <td id=\"T_4500e_row12_col5\" class=\"data row12 col5\" >46.000000</td>\n",
       "      <td id=\"T_4500e_row12_col6\" class=\"data row12 col6\" >64.000000</td>\n",
       "      <td id=\"T_4500e_row12_col7\" class=\"data row12 col7\" >35.000000</td>\n",
       "      <td id=\"T_4500e_row12_col8\" class=\"data row12 col8\" >11.000000</td>\n",
       "      <td id=\"T_4500e_row12_col9\" class=\"data row12 col9\" >18.000000</td>\n",
       "      <td id=\"T_4500e_row12_col10\" class=\"data row12 col10\" >38.000000</td>\n",
       "      <td id=\"T_4500e_row12_col11\" class=\"data row12 col11\" >44.000000</td>\n",
       "    </tr>\n",
       "    <tr>\n",
       "      <th id=\"T_4500e_level0_row13\" class=\"row_heading level0 row13\" >2013.0</th>\n",
       "      <td id=\"T_4500e_row13_col0\" class=\"data row13 col0\" >23.000000</td>\n",
       "      <td id=\"T_4500e_row13_col1\" class=\"data row13 col1\" >14.000000</td>\n",
       "      <td id=\"T_4500e_row13_col2\" class=\"data row13 col2\" >17.000000</td>\n",
       "      <td id=\"T_4500e_row13_col3\" class=\"data row13 col3\" >32.000000</td>\n",
       "      <td id=\"T_4500e_row13_col4\" class=\"data row13 col4\" >19.000000</td>\n",
       "      <td id=\"T_4500e_row13_col5\" class=\"data row13 col5\" >18.000000</td>\n",
       "      <td id=\"T_4500e_row13_col6\" class=\"data row13 col6\" >43.000000</td>\n",
       "      <td id=\"T_4500e_row13_col7\" class=\"data row13 col7\" >12.000000</td>\n",
       "      <td id=\"T_4500e_row13_col8\" class=\"data row13 col8\" >10.000000</td>\n",
       "      <td id=\"T_4500e_row13_col9\" class=\"data row13 col9\" >30.000000</td>\n",
       "      <td id=\"T_4500e_row13_col10\" class=\"data row13 col10\" >19.000000</td>\n",
       "      <td id=\"T_4500e_row13_col11\" class=\"data row13 col11\" >61.000000</td>\n",
       "    </tr>\n",
       "    <tr>\n",
       "      <th id=\"T_4500e_level0_row14\" class=\"row_heading level0 row14\" >2014.0</th>\n",
       "      <td id=\"T_4500e_row14_col0\" class=\"data row14 col0\" >17.000000</td>\n",
       "      <td id=\"T_4500e_row14_col1\" class=\"data row14 col1\" >22.000000</td>\n",
       "      <td id=\"T_4500e_row14_col2\" class=\"data row14 col2\" >17.000000</td>\n",
       "      <td id=\"T_4500e_row14_col3\" class=\"data row14 col3\" >14.000000</td>\n",
       "      <td id=\"T_4500e_row14_col4\" class=\"data row14 col4\" >14.000000</td>\n",
       "      <td id=\"T_4500e_row14_col5\" class=\"data row14 col5\" >9.000000</td>\n",
       "      <td id=\"T_4500e_row14_col6\" class=\"data row14 col6\" >16.000000</td>\n",
       "      <td id=\"T_4500e_row14_col7\" class=\"data row14 col7\" >12.000000</td>\n",
       "      <td id=\"T_4500e_row14_col8\" class=\"data row14 col8\" >15.000000</td>\n",
       "      <td id=\"T_4500e_row14_col9\" class=\"data row14 col9\" >17.000000</td>\n",
       "      <td id=\"T_4500e_row14_col10\" class=\"data row14 col10\" >20.000000</td>\n",
       "      <td id=\"T_4500e_row14_col11\" class=\"data row14 col11\" >97.000000</td>\n",
       "    </tr>\n",
       "    <tr>\n",
       "      <th id=\"T_4500e_level0_row15\" class=\"row_heading level0 row15\" >2015.0</th>\n",
       "      <td id=\"T_4500e_row15_col0\" class=\"data row15 col0\" >43.000000</td>\n",
       "      <td id=\"T_4500e_row15_col1\" class=\"data row15 col1\" >11.000000</td>\n",
       "      <td id=\"T_4500e_row15_col2\" class=\"data row15 col2\" >14.000000</td>\n",
       "      <td id=\"T_4500e_row15_col3\" class=\"data row15 col3\" >7.000000</td>\n",
       "      <td id=\"T_4500e_row15_col4\" class=\"data row15 col4\" >9.000000</td>\n",
       "      <td id=\"T_4500e_row15_col5\" class=\"data row15 col5\" >21.000000</td>\n",
       "      <td id=\"T_4500e_row15_col6\" class=\"data row15 col6\" >8.000000</td>\n",
       "      <td id=\"T_4500e_row15_col7\" class=\"data row15 col7\" >7.000000</td>\n",
       "      <td id=\"T_4500e_row15_col8\" class=\"data row15 col8\" >14.000000</td>\n",
       "      <td id=\"T_4500e_row15_col9\" class=\"data row15 col9\" >2.000000</td>\n",
       "      <td id=\"T_4500e_row15_col10\" class=\"data row15 col10\" >21.000000</td>\n",
       "      <td id=\"T_4500e_row15_col11\" class=\"data row15 col11\" >17.000000</td>\n",
       "    </tr>\n",
       "    <tr>\n",
       "      <th id=\"T_4500e_level0_row16\" class=\"row_heading level0 row16\" >2016.0</th>\n",
       "      <td id=\"T_4500e_row16_col0\" class=\"data row16 col0\" >30.000000</td>\n",
       "      <td id=\"T_4500e_row16_col1\" class=\"data row16 col1\" >22.000000</td>\n",
       "      <td id=\"T_4500e_row16_col2\" class=\"data row16 col2\" >3.000000</td>\n",
       "      <td id=\"T_4500e_row16_col3\" class=\"data row16 col3\" >19.000000</td>\n",
       "      <td id=\"T_4500e_row16_col4\" class=\"data row16 col4\" >15.000000</td>\n",
       "      <td id=\"T_4500e_row16_col5\" class=\"data row16 col5\" >17.000000</td>\n",
       "      <td id=\"T_4500e_row16_col6\" class=\"data row16 col6\" >13.000000</td>\n",
       "      <td id=\"T_4500e_row16_col7\" class=\"data row16 col7\" >9.000000</td>\n",
       "      <td id=\"T_4500e_row16_col8\" class=\"data row16 col8\" >32.000000</td>\n",
       "      <td id=\"T_4500e_row16_col9\" class=\"data row16 col9\" >14.000000</td>\n",
       "      <td id=\"T_4500e_row16_col10\" class=\"data row16 col10\" >5.000000</td>\n",
       "      <td id=\"T_4500e_row16_col11\" class=\"data row16 col11\" >43.000000</td>\n",
       "    </tr>\n",
       "    <tr>\n",
       "      <th id=\"T_4500e_level0_row17\" class=\"row_heading level0 row17\" >2017.0</th>\n",
       "      <td id=\"T_4500e_row17_col0\" class=\"data row17 col0\" >8.000000</td>\n",
       "      <td id=\"T_4500e_row17_col1\" class=\"data row17 col1\" >3.000000</td>\n",
       "      <td id=\"T_4500e_row17_col2\" class=\"data row17 col2\" >10.000000</td>\n",
       "      <td id=\"T_4500e_row17_col3\" class=\"data row17 col3\" >20.000000</td>\n",
       "      <td id=\"T_4500e_row17_col4\" class=\"data row17 col4\" >5.000000</td>\n",
       "      <td id=\"T_4500e_row17_col5\" class=\"data row17 col5\" >16.000000</td>\n",
       "      <td id=\"T_4500e_row17_col6\" class=\"data row17 col6\" >13.000000</td>\n",
       "      <td id=\"T_4500e_row17_col7\" class=\"data row17 col7\" >10.000000</td>\n",
       "      <td id=\"T_4500e_row17_col8\" class=\"data row17 col8\" >10.000000</td>\n",
       "      <td id=\"T_4500e_row17_col9\" class=\"data row17 col9\" >5.000000</td>\n",
       "      <td id=\"T_4500e_row17_col10\" class=\"data row17 col10\" >24.000000</td>\n",
       "      <td id=\"T_4500e_row17_col11\" class=\"data row17 col11\" >9.000000</td>\n",
       "    </tr>\n",
       "    <tr>\n",
       "      <th id=\"T_4500e_level0_row18\" class=\"row_heading level0 row18\" >2018.0</th>\n",
       "      <td id=\"T_4500e_row18_col0\" class=\"data row18 col0\" >5.000000</td>\n",
       "      <td id=\"T_4500e_row18_col1\" class=\"data row18 col1\" >5.000000</td>\n",
       "      <td id=\"T_4500e_row18_col2\" class=\"data row18 col2\" >4.000000</td>\n",
       "      <td id=\"T_4500e_row18_col3\" class=\"data row18 col3\" >2.000000</td>\n",
       "      <td id=\"T_4500e_row18_col4\" class=\"data row18 col4\" >5.000000</td>\n",
       "      <td id=\"T_4500e_row18_col5\" class=\"data row18 col5\" >17.000000</td>\n",
       "      <td id=\"T_4500e_row18_col6\" class=\"data row18 col6\" >1.000000</td>\n",
       "      <td id=\"T_4500e_row18_col7\" class=\"data row18 col7\" >4.000000</td>\n",
       "      <td id=\"T_4500e_row18_col8\" class=\"data row18 col8\" >13.000000</td>\n",
       "      <td id=\"T_4500e_row18_col9\" class=\"data row18 col9\" >27.000000</td>\n",
       "      <td id=\"T_4500e_row18_col10\" class=\"data row18 col10\" >4.000000</td>\n",
       "      <td id=\"T_4500e_row18_col11\" class=\"data row18 col11\" >40.000000</td>\n",
       "    </tr>\n",
       "  </tbody>\n",
       "</table>\n"
      ],
      "text/plain": [
       "<pandas.io.formats.style.Styler at 0x20c9e08aca0>"
      ]
     },
     "execution_count": 59,
     "metadata": {},
     "output_type": "execute_result"
    }
   ],
   "source": [
    "ym_table = pd.pivot_table(df1, index='고시연도', columns='고시월', values='공원명', aggfunc='count')\n",
    "ym_table = ym_table.loc[2000: 2018]\n",
    "ym_table.style.background_gradient()"
   ]
  },
  {
   "cell_type": "code",
   "execution_count": null,
   "id": "d902fcda",
   "metadata": {},
   "outputs": [],
   "source": []
  },
  {
   "cell_type": "code",
   "execution_count": 60,
   "id": "a1b234b6",
   "metadata": {},
   "outputs": [],
   "source": [
    "pd.options.display.max_columns = 30\n",
    "pd.options.display.max_rows = 50"
   ]
  },
  {
   "cell_type": "code",
   "execution_count": 61,
   "id": "45beea61",
   "metadata": {},
   "outputs": [
    {
     "data": {
      "text/html": [
       "<div>\n",
       "<style scoped>\n",
       "    .dataframe tbody tr th:only-of-type {\n",
       "        vertical-align: middle;\n",
       "    }\n",
       "\n",
       "    .dataframe tbody tr th {\n",
       "        vertical-align: top;\n",
       "    }\n",
       "\n",
       "    .dataframe thead th {\n",
       "        text-align: right;\n",
       "    }\n",
       "</style>\n",
       "<table border=\"1\" class=\"dataframe\">\n",
       "  <thead>\n",
       "    <tr style=\"text-align: right;\">\n",
       "      <th></th>\n",
       "      <th>관리번호</th>\n",
       "      <th>공원명</th>\n",
       "      <th>공원구분</th>\n",
       "      <th>소재지도로명주소</th>\n",
       "      <th>소재지지번주소</th>\n",
       "      <th>위도</th>\n",
       "      <th>경도</th>\n",
       "      <th>공원면적</th>\n",
       "      <th>공원보유시설(운동시설)</th>\n",
       "      <th>공원보유시설(유희시설)</th>\n",
       "      <th>공원보유시설(편익시설)</th>\n",
       "      <th>공원보유시설(교양시설)</th>\n",
       "      <th>공원보유시설(기타시설)</th>\n",
       "      <th>지정고시일</th>\n",
       "      <th>관리기관명</th>\n",
       "      <th>전화번호</th>\n",
       "      <th>데이터기준일자</th>\n",
       "      <th>제공기관코드</th>\n",
       "      <th>제공기관명</th>\n",
       "      <th>시도</th>\n",
       "      <th>구군</th>\n",
       "    </tr>\n",
       "  </thead>\n",
       "  <tbody>\n",
       "    <tr>\n",
       "      <th>0</th>\n",
       "      <td>26440-00001</td>\n",
       "      <td>구랑공원</td>\n",
       "      <td>문화공원</td>\n",
       "      <td>부산광역시 강서구 구랑동 1199-7</td>\n",
       "      <td>부산광역시 강서구 구랑동 1199-7</td>\n",
       "      <td>35.157215</td>\n",
       "      <td>128.854935</td>\n",
       "      <td>9137.0</td>\n",
       "      <td>4</td>\n",
       "      <td>NaN</td>\n",
       "      <td>화장실</td>\n",
       "      <td>NaN</td>\n",
       "      <td>팔각정자, 파고라2, 평의자6, 앉음벽14.38m, 축구장(골대2), 컨테이너, 안...</td>\n",
       "      <td>2011-09-02</td>\n",
       "      <td>부산광역시 강서구청 녹지공원과</td>\n",
       "      <td>051-970-4536</td>\n",
       "      <td>2019-05-02</td>\n",
       "      <td>3360000</td>\n",
       "      <td>부산광역시 강서구</td>\n",
       "      <td>부산광역시</td>\n",
       "      <td>강서구</td>\n",
       "    </tr>\n",
       "    <tr>\n",
       "      <th>1</th>\n",
       "      <td>26440-00002</td>\n",
       "      <td>압곡공원</td>\n",
       "      <td>근린공원</td>\n",
       "      <td>부산광역시 강서구 구랑동 1219</td>\n",
       "      <td>부산광역시 강서구 구랑동 1219</td>\n",
       "      <td>35.154655</td>\n",
       "      <td>128.854727</td>\n",
       "      <td>33756.0</td>\n",
       "      <td>4</td>\n",
       "      <td>NaN</td>\n",
       "      <td>NaN</td>\n",
       "      <td>NaN</td>\n",
       "      <td>배드민턴장, 족구장, 파고라4, 안내판, 볼라드7, 데크435.11㎡, 데크계단19...</td>\n",
       "      <td>2008-02-28</td>\n",
       "      <td>부산광역시 강서구청 녹지공원과</td>\n",
       "      <td>051-970-4536</td>\n",
       "      <td>2019-05-02</td>\n",
       "      <td>3360000</td>\n",
       "      <td>부산광역시 강서구</td>\n",
       "      <td>부산광역시</td>\n",
       "      <td>강서구</td>\n",
       "    </tr>\n",
       "    <tr>\n",
       "      <th>2</th>\n",
       "      <td>26440-00003</td>\n",
       "      <td>서연정공원</td>\n",
       "      <td>소공원</td>\n",
       "      <td>부산광역시 강서구 대저1동 1330-7</td>\n",
       "      <td>부산광역시 강서구 대저1동 1330-7</td>\n",
       "      <td>35.216183</td>\n",
       "      <td>128.969558</td>\n",
       "      <td>646.0</td>\n",
       "      <td>7</td>\n",
       "      <td>NaN</td>\n",
       "      <td>NaN</td>\n",
       "      <td>NaN</td>\n",
       "      <td>앉음벽13.57m, 트렐리스3, 안내판2, 플랜트2, 파고라, 평의자4</td>\n",
       "      <td>2013-01-23</td>\n",
       "      <td>부산광역시 강서구청 녹지공원과</td>\n",
       "      <td>051-970-4536</td>\n",
       "      <td>2019-05-02</td>\n",
       "      <td>3360000</td>\n",
       "      <td>부산광역시 강서구</td>\n",
       "      <td>부산광역시</td>\n",
       "      <td>강서구</td>\n",
       "    </tr>\n",
       "    <tr>\n",
       "      <th>3</th>\n",
       "      <td>26440-00004</td>\n",
       "      <td>용두공원</td>\n",
       "      <td>어린이공원</td>\n",
       "      <td>부산광역시 강서구 대저2동 1870-67</td>\n",
       "      <td>부산광역시 강서구 대저2동 1870-67</td>\n",
       "      <td>35.183679</td>\n",
       "      <td>128.956007</td>\n",
       "      <td>1620.0</td>\n",
       "      <td>NaN</td>\n",
       "      <td>조합놀이기구, 그네</td>\n",
       "      <td>NaN</td>\n",
       "      <td>NaN</td>\n",
       "      <td>정자, 농구장, 평의자6</td>\n",
       "      <td>1998-07-25</td>\n",
       "      <td>부산광역시 강서구청 녹지공원과</td>\n",
       "      <td>051-970-4536</td>\n",
       "      <td>2019-05-02</td>\n",
       "      <td>3360000</td>\n",
       "      <td>부산광역시 강서구</td>\n",
       "      <td>부산광역시</td>\n",
       "      <td>강서구</td>\n",
       "    </tr>\n",
       "    <tr>\n",
       "      <th>4</th>\n",
       "      <td>26440-00005</td>\n",
       "      <td>새동내공원</td>\n",
       "      <td>어린이공원</td>\n",
       "      <td>부산광역시 강서구 대저2동 2407-1</td>\n",
       "      <td>부산광역시 강서구 대저2동 2407-1</td>\n",
       "      <td>35.174568</td>\n",
       "      <td>128.950612</td>\n",
       "      <td>1009.0</td>\n",
       "      <td>8</td>\n",
       "      <td>조합놀이기구, 그네, 흔들놀이기구2</td>\n",
       "      <td>NaN</td>\n",
       "      <td>NaN</td>\n",
       "      <td>정자, 평의자14, 트렐리스2, 안내판, 볼라드</td>\n",
       "      <td>1995-04-07</td>\n",
       "      <td>부산광역시 강서구청 녹지공원과</td>\n",
       "      <td>051-970-4536</td>\n",
       "      <td>2019-05-02</td>\n",
       "      <td>3360000</td>\n",
       "      <td>부산광역시 강서구</td>\n",
       "      <td>부산광역시</td>\n",
       "      <td>강서구</td>\n",
       "    </tr>\n",
       "    <tr>\n",
       "      <th>...</th>\n",
       "      <td>...</td>\n",
       "      <td>...</td>\n",
       "      <td>...</td>\n",
       "      <td>...</td>\n",
       "      <td>...</td>\n",
       "      <td>...</td>\n",
       "      <td>...</td>\n",
       "      <td>...</td>\n",
       "      <td>...</td>\n",
       "      <td>...</td>\n",
       "      <td>...</td>\n",
       "      <td>...</td>\n",
       "      <td>...</td>\n",
       "      <td>...</td>\n",
       "      <td>...</td>\n",
       "      <td>...</td>\n",
       "      <td>...</td>\n",
       "      <td>...</td>\n",
       "      <td>...</td>\n",
       "      <td>...</td>\n",
       "      <td>...</td>\n",
       "    </tr>\n",
       "    <tr>\n",
       "      <th>18132</th>\n",
       "      <td>28140-00009</td>\n",
       "      <td>송림4공원</td>\n",
       "      <td>어린이공원</td>\n",
       "      <td>인천광역시 동구 송림동 291-6</td>\n",
       "      <td>인천광역시 동구 송림동 291-6</td>\n",
       "      <td>37.478715</td>\n",
       "      <td>126.653257</td>\n",
       "      <td>412.9</td>\n",
       "      <td>NaN</td>\n",
       "      <td>야외무대</td>\n",
       "      <td>NaN</td>\n",
       "      <td>NaN</td>\n",
       "      <td>조형파고라, 앉음벽</td>\n",
       "      <td>1998-07-20</td>\n",
       "      <td>인천광역시 동구청</td>\n",
       "      <td>032-770-6205</td>\n",
       "      <td>2019-07-30</td>\n",
       "      <td>3500000</td>\n",
       "      <td>인천광역시 동구</td>\n",
       "      <td>인천광역시</td>\n",
       "      <td>동구</td>\n",
       "    </tr>\n",
       "    <tr>\n",
       "      <th>18133</th>\n",
       "      <td>47760-00002</td>\n",
       "      <td>서부공원</td>\n",
       "      <td>근린공원</td>\n",
       "      <td>경상북도 영양군 영양읍 서부리 123</td>\n",
       "      <td>경상북도 영양군 영양읍 서부리 123</td>\n",
       "      <td>36.660456</td>\n",
       "      <td>129.114953</td>\n",
       "      <td>56045.0</td>\n",
       "      <td>NaN</td>\n",
       "      <td>NaN</td>\n",
       "      <td>화장실</td>\n",
       "      <td>NaN</td>\n",
       "      <td>NaN</td>\n",
       "      <td>1973-03-02</td>\n",
       "      <td>경상북도 영양군청</td>\n",
       "      <td>054-680-6340</td>\n",
       "      <td>2019-09-05</td>\n",
       "      <td>5170000</td>\n",
       "      <td>경상북도 영양군</td>\n",
       "      <td>경상북도</td>\n",
       "      <td>영양군</td>\n",
       "    </tr>\n",
       "    <tr>\n",
       "      <th>18134</th>\n",
       "      <td>47760-00003</td>\n",
       "      <td>입암공원</td>\n",
       "      <td>근린공원</td>\n",
       "      <td>경상북도 영양군 입암면 신구리 산27-5</td>\n",
       "      <td>경상북도 영양군 입암면 신구리 산27-5</td>\n",
       "      <td>36.594802</td>\n",
       "      <td>129.093007</td>\n",
       "      <td>109262.0</td>\n",
       "      <td>NaN</td>\n",
       "      <td>NaN</td>\n",
       "      <td>NaN</td>\n",
       "      <td>NaN</td>\n",
       "      <td>NaN</td>\n",
       "      <td>1977-06-29</td>\n",
       "      <td>경상북도 영양군청</td>\n",
       "      <td>054-680-6340</td>\n",
       "      <td>2019-09-05</td>\n",
       "      <td>5170000</td>\n",
       "      <td>경상북도 영양군</td>\n",
       "      <td>경상북도</td>\n",
       "      <td>영양군</td>\n",
       "    </tr>\n",
       "    <tr>\n",
       "      <th>18135</th>\n",
       "      <td>47760-00004</td>\n",
       "      <td>수비공원</td>\n",
       "      <td>근린공원</td>\n",
       "      <td>경상북도 영양군 수비면 발리리 산48</td>\n",
       "      <td>경상북도 영양군 수비면 발리리 산48</td>\n",
       "      <td>36.761440</td>\n",
       "      <td>129.200011</td>\n",
       "      <td>67159.0</td>\n",
       "      <td>NaN</td>\n",
       "      <td>NaN</td>\n",
       "      <td>NaN</td>\n",
       "      <td>NaN</td>\n",
       "      <td>NaN</td>\n",
       "      <td>1978-02-14</td>\n",
       "      <td>경상북도 영양군청</td>\n",
       "      <td>054-680-6340</td>\n",
       "      <td>2019-09-05</td>\n",
       "      <td>5170000</td>\n",
       "      <td>경상북도 영양군</td>\n",
       "      <td>경상북도</td>\n",
       "      <td>영양군</td>\n",
       "    </tr>\n",
       "    <tr>\n",
       "      <th>18136</th>\n",
       "      <td>47760-00005</td>\n",
       "      <td>삼지연꽃 테마파크</td>\n",
       "      <td>수변공원</td>\n",
       "      <td>경상북도 영양군 영양읍 삼지리 200</td>\n",
       "      <td>경상북도 영양군 영양읍 삼지리 200</td>\n",
       "      <td>36.662816</td>\n",
       "      <td>129.129372</td>\n",
       "      <td>380000.0</td>\n",
       "      <td>NaN</td>\n",
       "      <td>NaN</td>\n",
       "      <td>화장실</td>\n",
       "      <td>NaN</td>\n",
       "      <td>체험장</td>\n",
       "      <td>2009-11-19</td>\n",
       "      <td>경상북도 영양군청</td>\n",
       "      <td>054-680-6340</td>\n",
       "      <td>2019-09-05</td>\n",
       "      <td>5170000</td>\n",
       "      <td>경상북도 영양군</td>\n",
       "      <td>경상북도</td>\n",
       "      <td>영양군</td>\n",
       "    </tr>\n",
       "  </tbody>\n",
       "</table>\n",
       "<p>18137 rows × 21 columns</p>\n",
       "</div>"
      ],
      "text/plain": [
       "              관리번호        공원명   공원구분                소재지도로명주소  \\\n",
       "0      26440-00001       구랑공원   문화공원    부산광역시 강서구 구랑동 1199-7   \n",
       "1      26440-00002       압곡공원   근린공원      부산광역시 강서구 구랑동 1219   \n",
       "2      26440-00003      서연정공원    소공원   부산광역시 강서구 대저1동 1330-7   \n",
       "3      26440-00004       용두공원  어린이공원  부산광역시 강서구 대저2동 1870-67   \n",
       "4      26440-00005      새동내공원  어린이공원   부산광역시 강서구 대저2동 2407-1   \n",
       "...            ...        ...    ...                     ...   \n",
       "18132  28140-00009      송림4공원  어린이공원      인천광역시 동구 송림동 291-6   \n",
       "18133  47760-00002       서부공원   근린공원    경상북도 영양군 영양읍 서부리 123   \n",
       "18134  47760-00003       입암공원   근린공원  경상북도 영양군 입암면 신구리 산27-5   \n",
       "18135  47760-00004       수비공원   근린공원    경상북도 영양군 수비면 발리리 산48   \n",
       "18136  47760-00005  삼지연꽃 테마파크   수변공원    경상북도 영양군 영양읍 삼지리 200   \n",
       "\n",
       "                      소재지지번주소         위도          경도      공원면적 공원보유시설(운동시설)  \\\n",
       "0        부산광역시 강서구 구랑동 1199-7  35.157215  128.854935    9137.0            4   \n",
       "1          부산광역시 강서구 구랑동 1219  35.154655  128.854727   33756.0            4   \n",
       "2       부산광역시 강서구 대저1동 1330-7  35.216183  128.969558     646.0            7   \n",
       "3      부산광역시 강서구 대저2동 1870-67  35.183679  128.956007    1620.0          NaN   \n",
       "4       부산광역시 강서구 대저2동 2407-1  35.174568  128.950612    1009.0            8   \n",
       "...                       ...        ...         ...       ...          ...   \n",
       "18132      인천광역시 동구 송림동 291-6  37.478715  126.653257     412.9          NaN   \n",
       "18133    경상북도 영양군 영양읍 서부리 123  36.660456  129.114953   56045.0          NaN   \n",
       "18134  경상북도 영양군 입암면 신구리 산27-5  36.594802  129.093007  109262.0          NaN   \n",
       "18135    경상북도 영양군 수비면 발리리 산48  36.761440  129.200011   67159.0          NaN   \n",
       "18136    경상북도 영양군 영양읍 삼지리 200  36.662816  129.129372  380000.0          NaN   \n",
       "\n",
       "              공원보유시설(유희시설) 공원보유시설(편익시설) 공원보유시설(교양시설)  \\\n",
       "0                      NaN          화장실          NaN   \n",
       "1                      NaN          NaN          NaN   \n",
       "2                      NaN          NaN          NaN   \n",
       "3               조합놀이기구, 그네          NaN          NaN   \n",
       "4      조합놀이기구, 그네, 흔들놀이기구2          NaN          NaN   \n",
       "...                    ...          ...          ...   \n",
       "18132                 야외무대          NaN          NaN   \n",
       "18133                  NaN          화장실          NaN   \n",
       "18134                  NaN          NaN          NaN   \n",
       "18135                  NaN          NaN          NaN   \n",
       "18136                  NaN          화장실          NaN   \n",
       "\n",
       "                                            공원보유시설(기타시설)       지정고시일  \\\n",
       "0      팔각정자, 파고라2, 평의자6, 앉음벽14.38m, 축구장(골대2), 컨테이너, 안...  2011-09-02   \n",
       "1      배드민턴장, 족구장, 파고라4, 안내판, 볼라드7, 데크435.11㎡, 데크계단19...  2008-02-28   \n",
       "2                앉음벽13.57m, 트렐리스3, 안내판2, 플랜트2, 파고라, 평의자4  2013-01-23   \n",
       "3                                          정자, 농구장, 평의자6  1998-07-25   \n",
       "4                             정자, 평의자14, 트렐리스2, 안내판, 볼라드  1995-04-07   \n",
       "...                                                  ...         ...   \n",
       "18132                                         조형파고라, 앉음벽  1998-07-20   \n",
       "18133                                                NaN  1973-03-02   \n",
       "18134                                                NaN  1977-06-29   \n",
       "18135                                                NaN  1978-02-14   \n",
       "18136                                                체험장  2009-11-19   \n",
       "\n",
       "                  관리기관명          전화번호     데이터기준일자   제공기관코드      제공기관명     시도  \\\n",
       "0      부산광역시 강서구청 녹지공원과  051-970-4536  2019-05-02  3360000  부산광역시 강서구  부산광역시   \n",
       "1      부산광역시 강서구청 녹지공원과  051-970-4536  2019-05-02  3360000  부산광역시 강서구  부산광역시   \n",
       "2      부산광역시 강서구청 녹지공원과  051-970-4536  2019-05-02  3360000  부산광역시 강서구  부산광역시   \n",
       "3      부산광역시 강서구청 녹지공원과  051-970-4536  2019-05-02  3360000  부산광역시 강서구  부산광역시   \n",
       "4      부산광역시 강서구청 녹지공원과  051-970-4536  2019-05-02  3360000  부산광역시 강서구  부산광역시   \n",
       "...                 ...           ...         ...      ...        ...    ...   \n",
       "18132         인천광역시 동구청  032-770-6205  2019-07-30  3500000   인천광역시 동구  인천광역시   \n",
       "18133         경상북도 영양군청  054-680-6340  2019-09-05  5170000   경상북도 영양군   경상북도   \n",
       "18134         경상북도 영양군청  054-680-6340  2019-09-05  5170000   경상북도 영양군   경상북도   \n",
       "18135         경상북도 영양군청  054-680-6340  2019-09-05  5170000   경상북도 영양군   경상북도   \n",
       "18136         경상북도 영양군청  054-680-6340  2019-09-05  5170000   경상북도 영양군   경상북도   \n",
       "\n",
       "        구군  \n",
       "0      강서구  \n",
       "1      강서구  \n",
       "2      강서구  \n",
       "3      강서구  \n",
       "4      강서구  \n",
       "...    ...  \n",
       "18132   동구  \n",
       "18133  영양군  \n",
       "18134  영양군  \n",
       "18135  영양군  \n",
       "18136  영양군  \n",
       "\n",
       "[18137 rows x 21 columns]"
      ]
     },
     "execution_count": 61,
     "metadata": {},
     "output_type": "execute_result"
    }
   ],
   "source": [
    "df"
   ]
  },
  {
   "cell_type": "code",
   "execution_count": null,
   "id": "84d348c6",
   "metadata": {},
   "outputs": [],
   "source": []
  },
  {
   "cell_type": "markdown",
   "id": "08918d29",
   "metadata": {},
   "source": [
    "##### 운동시설"
   ]
  },
  {
   "cell_type": "code",
   "execution_count": 62,
   "id": "be67d672",
   "metadata": {},
   "outputs": [
    {
     "data": {
      "text/plain": [
       "운동기구                   360\n",
       "농구장                    271\n",
       "체력단련시설                 224\n",
       "배드민턴장                  187\n",
       "야외운동기구                 105\n",
       "                      ... \n",
       "오팔펴기 외 19종               1\n",
       "양팔줄당기기외 10종              1\n",
       "온몸노젓기외 4종                1\n",
       "온몸근육풀기외 2종               1\n",
       "플웨이트, 스텝사이클, 크라임스템퍼      1\n",
       "Name: 공원보유시설(운동시설), Length: 1485, dtype: int64"
      ]
     },
     "execution_count": 62,
     "metadata": {},
     "output_type": "execute_result"
    }
   ],
   "source": [
    "df1['공원보유시설(운동시설)'].value_counts()"
   ]
  },
  {
   "cell_type": "code",
   "execution_count": 63,
   "id": "6d6ce3dc",
   "metadata": {},
   "outputs": [
    {
     "data": {
      "text/plain": [
       "\"['4', '7', nan, '8', '5', '6', '3', '10', '14', '9', '30', '2', '13', '12', '40', '17', '-', '농구장', '궁도장', '풋살구장', '풋살구장, 농구장, 인라인스케이트장', '축구장', '족구장', '게이트볼장', '운동기구14개, 농구장2개소, 족구장1개소', '운동기구6개, 족구장1개소', '운동기구10개', '운동기구4개', '운동기구7개', '에어로빅장, 농구장', '테니스장, 씨름장, 농구장', '바디싣업1,스트레칭롤러1,전신돌리기1,허리안마기1,허리비틀기1', 'TM스탭사이클1,TM체어웨이트1,TM트윈바디싣업1,TM트윈트위스트1,TM크로스컨트리1,TM풀웨이트1', '철봉1', '하늘걷기1,마라톤운동1,허리돌리기1,3단철봉,윗몸일으키기1', '철봉1,팔굽혀펴기1,몸통돌리기1,허리좌우로흔들기1', '스트레칭롤러1,풀웨이트1,바웨이트1', '하늘걷기1,온몸허리돌리기1,스트레칭기1,거꾸로매달리기1', '하늘걷기1,온몸허리돌리기1,등허리지압기1,철봉3', '스탭싸이클1,풀웨이트1,트리플트위스트2,트윈바디싣업1,크로스컨트리1,스트레칭롤러1,트윈워밍암1', '하늘걷기2,스탭싸이클1,체어폴1,철봉1,트리플트위스트2,트윈바디싣업1', '윗몸일으키기1,온몸허리돌리기1,팔굽혀펴기1,다리뻗치기1,온몸허리돌리기1,거꾸로매달리기1', '하늘걷기1,온몸허리돌리기1,옆파도타기1', '크로스워킹+스카이워킹1,파워프레스+풀웨이트1,싸이클론+트위스트1,스탠드업+마사지롤1,사이드스윙+터닝암1,푸시웨이트+레그프레스1', '평행봉1', '트윈바디싣업1,트윈트위스트1,스탭싸이클1,크로스컨트리1,체어풀1', '크로스컨트리1,자전거팔뻗기2,등안마기1,트윈워밍암1,체어웨이트1,오버턴스트레칭1', '크로스컨트리1,롤링웨이스트1,레그프레스1,트윈트위스트1,체어웨이트1', '족구장1,역기1', '등지압기1,마라톤운동+공중걷기운동1,허리돌리기+온몸돌리기1, 온몸역기올리기+온몸근육풀기1', '트리플트위스트1,트윈바디싣업1,크로스컨트리1,체어웨이트1,롤링웨이스트1,레그프레스1,오버턴스트레칭1', '윗몸일으키기2,트리플트위스트2,평행봉1', '크로스컨트리1, 레그프레스1,체어웨이트1,롤링웨이스트1,트윈바디싣업1,레그스트레칭1', '크로스컨트리1,어깨근육풀기1,체어웨이트1,트윈바디싣업1(구형),트리플트위스트1(구형)', '게이트볼장1,운동시설10', '축구장,족구장', '족구장1', '운동기구5', '운동기구4', '축구장+배드민턴장+농구장', '배드민턴장+족구장', '농구대', '배드민턴장', '배드민턴장+농구대', '농구장 1개소, 배드민턴장 13, 게이트볼장 1개소. 체력단련시설 25개소 189기 등', '배드민턴장 2개소, 체력단련시설 6개소 36개', '배드민턴장 1개소, 농구장 1개소, 체력단련시설 3개소 29개', '다목적체육관 1동, 체력단련시설 1개소 4개', '배드민턴장 1개소, 농구정 1개소, 체력단련시설 1개소 7개', '농구장 1개소, 체력단련시설 1개소 5개', '체력단련시설 1개소 4개', '체력단련시설 1개소 3개', '없음', '배드민터장 1개소, 체력단련시설 1개소 6개', '족구장 1개소, 농구장 1개소, 체력단련시설 1개소 5개', '체력단련시설 1개소 6개', '체력단련시설 1개소 2개', '체력단련시설 1개소 7개', '체력단련시설 1개소 7개, 농구장 1개소', '운동장 1개소, 체력단련시설 1개소 4개', '체력단련시설 1개소 5개', '체력단련시설 2개소 5개', '체력단련시설 1개소', '하늘걷기+마라톤운동', '하늘걷기, 마라톤운동', '벤치', '체력단련', '철봉/팔굽혀펴기/평행봉/허리돌리기/배근력대', '스텝싸이클/체어플/트윈바디싣업', '역기내리기운동/역기올리기운동/노젓기운동/허리돌리기운동/양다리운동/옆파도타기운동/원그리기운동', '달리기/아래로당기기/앞으로밀기/체어풀/허리돌리기/공중걷기/윗몽일으키기/등허리지압기/하체흔들기/온몸근육풀기', '등허리지압기/온몸근육풀기', '마라톤운동/양다리운동/등허리근육풀기운동/옆파도타기운동', '역기올리기운동/양다리운동/옆파도타기운동/원그리기운동', '노젓기운동/허리돌리기운동/양다리운동/옆파도타기운동/원그리기운동', '역기내리운동/역기올리기운동/양다리운동/옆파도타기운동', '역기내리기운동/역기올리기운동/양다리운동/옆파도타기운동/원그리기운동', '역기내리기운동/역기올리기운동/양다리운동/옆파도타기운동', '다목적구장', '체력단련장', '체육시설', '궁도장,게이트볼장,테니스장', '간이운동기구', '간이운동기구 농구장', '간이운동기구 게이트볼장', '간이운동기구 족구장', '풋살장, 농구장, 그라운드골프장, 운동기구', '운동기구', '미조성', '배드민턴장_농구장', '다목적구장(농구_풋살)', '축구장_테니스_배드민턴장_다목적구장', '파크골프장_배드민턴장', '풋살장_게이트볼장', '배드민턴장_엑스게임장', '윗몸일으키기,공중걷기,마라톤운동 등', '마라톤운동,하체돌리기+공중걷기 등', '레그프레스,워밍암 등', '크로스컨트리,스트레칭로라 등', '윗몸일으키기,역기올리기 등', '농구장,하늘걷기,허리돌리기 등', '공중걷기,허리돌리기 등', '농구골대,야외 헬스기구', '트위스트,스카이워킹 등', '공중걷기,자전거타기,윗몸일으키기 등', '철봉,허리돌리기 등', '윗몸일으키기, 다리벌리기, 팔굽혀펴기 등', '윗몸일으키기,자전거타기,공중걷기 등', '베드민턴', '풋살장', '족구장, 농구장', '정구장,육상트랙,축구장', '풋살장,론볼장게이트볼장', '산책데크시설', '배드민턴장,운동기구', '다목적구장운동기구', '농구장,족구장', '농구장,배드민턴장', '체육시설지구', '축구장,테니스장,파크골프장,산악자전거,체육관', '게이트볼장,족구장,농구장,운동기구', '축구장,테니스장,운동기구', '족구장,운동기구', '배드민턴장,체육시설지구족구장', '족구장,농구장', '양궁장', '자연체험장', '축구장, 인라인스케이트장, 밸런스바이크장', '운동공원 1개소, 체력단련시설 17개소', '농구장 1개소, 족구장 1개소, 운동기구 4개소', '체력단련장 1개소, 체력단련시설 6개소', '국궁장(영주정) 1개소, 체력단련시설 5개소', '국궁장 2동, 운동장 1기, 체력단련장 1기', '체력단련시설 4개소', '체력단련시설 3개소', '국궁장1 1개소, 국궁장2 1개소, 체력단력장1 1개소, 체력단련장2 1개소, 체력단련시설 19개소', '체력단련장,국궁장,게이트볼장,배드민턴장, 다목적운동장, 테니스장', '농구장, 풋살경기장', '수영장, 게이트볼장', '체력단련시설', '농구장,운동기구', '다목적운동장', '야외체력단련시설', '야외체력단련시설, 족구장, 농구장', '야외체력단련시설, 게이트볼장', '야외체력단련시설, 테니스장', '체력단련장, 다목적운동장, 게이트볼장 등', '어린이운동시설', '배드민턴,탁구,헬스,정구', '헬스,배드민턴,궁터', '운동장,배드민턴', '조성계획 미수립', '조성중', '다목적운동장, 야외운동장', '테니스장, 실내체육관', '궁도장, 신체단련장', '게이트볼장, 농구장', '농구장, 배드민턴장', '배드민턴장, 발지압장', '풋살장, 배드민턴장, 족구장', '암벽등반, 실내체육관, 배드민턴장', '맨발공원, 농구장, 족구장', '테니스장, 암벽등반', '배드민턴장, 체력단련장', '풋살장, 배드민턴장, 다목적구장', '배드민턴장, 게이트볼장', '야외운동기구', '배드민턴장, 운동기구', '국궁장, 골프연습장', '배드민턴장, 골프연습장', '다목적운동장, 배구장', '배드민턴장4, 게이트볼장, 체력단련장', '체육센타, 게이트볼장', '다목적운동장, 체력단련장', '게이트볼장, 배드민턴장', '테니스장 배구장', '운동체육시설', '놀이터', '운동장, 배드민턴장', '실내체육관, 체력단련장', '생활체육시설지', '체력단련장, 게이트볼잘', '체력단련장, 배드민턴장', '체육시설물', '운동시설지, 농구장', '풋살경기장, 운동시설물', '농구장, 운동기구', '운동기구, 국궁장', '생활체육운동기구6종, 배드민턴장', '풋살장2면, 족구장1면, 농구대2EA, 생활체육운동기구2종', '농구장1면, 게이트볼장, 인라인스케이트장, 풋살장1면, 생활체육운동기구5종', '농구대2EA', '생활체육운동기구6종 ,배드민턴장', '생활체육운동기구3종', '생활체육운동기구5종', '농구대1EA, 철봉2EA, 생활체육운동기구1종', '생활체육운동기구2종', '축구장1면, 테니스장4면, 게이트볼장, 암벽장', '생활체육시설3종', '다목적운동장, 농구장2EA, 게이트볼장, 생활체육시설3EA, 배드민턴장', '축구장 2, 족구장 18, 조정경기장 1', '엑스게임장 1', '배드민턴장 2, 농구장 1', '배드민턴장 3, 게이트볼장 1', '농구장 1', '게이트볼장 1', '운동시설1', '운동시설6', '운동기구1', '운동기구2', '풋살장1', '농구대1, 운동기구6', '운동기구12', '운동기구3, 베드민턴장1', '운동시설4', '체육시설7', '체육시설9', '체육시설3, 운동기구3', '체육시설8, 운동기구1, 농구대1', '체육시설4, 운동기구12', '체육시설6, 운동기구1, 농구대2', '체육시설5, 농구대1', '체육시설3, 운동기구2', '체육시설4, 철봉1', '체육시설3', '체육시설3, 운동기구3, 농구대2조합놀이대1, 시소2, 철봉1', '체육시설5, 농구대2', '운동기구9', '운동시설2', '농구장,', '베드민턴장', '인라인', '족구장, 베드민턴장, 농구장', '농구장, 족구장, 베드민턴장', '테니스장', '운동시설 5종', '운동시설 7종', '운동시설 9종', '운동시설 10종', '베드민턴장, 운동시설 3종', '운동시설 4종', '농구장, 운동시설 5종', '농구장, 운동시설 7종', '게이트볼장, 운동시설 5종', '운동시설 3종', '농구장, 운동시설 10종', '운동시설 16종', '운동시설 2종', '운동시설 1종', '농구장1', '배드민턴장1', '농구장1,배구장1,족구장1', '게이트볼장1', '축구장1,농구장1', '게이트볼장1,운동기구10', '운동기구11', '운동기구13', '운동기구10', '운동기구7', '대성묘지', '운동기구16', '운동기구, 농구장', '운동기구, 족구장', '미집행', '축구장, 국궁장, 테니스장, 족구장, 농구장', '야구장, 풋살장, 테니스장', '운동기구 등', '다목적구장 등', '족구장 등', '축구장 등', '운동기구 7개', '운동기구 8개소', '운동기구 3개소', '농구대1,운동기구5개', '농구대1,운동기구6개', '농구대1,운동기구7개', '농구대1,운동기구4개', '운동기구 4개', '운동기구 5', '운동기구2,농구대1', '운동기구 4, 철봉 2', '운동기구 8', '시민운동장,실내체육관,씨름장,축구장,궁도장', '생활체육관', '게이트볼장, 다목적구장', '배드민턴장, 농구장', '풋살장,게이트볼장', '스포츠센타,게이트볼장,테니장,국궁장,다목적체육관', '다목적운동장, 체련단련장', '족구장,배드민턴장', '수영장', '암벽장, 풋살장', '축구장,야구장,농구장,인라이스케이트장', '야외형 운동기구', '게이트볼장,야외형 운동기구', '배드민턴장+운동장', '철봉, 허리돌리기, 하늘걷기 등', '허리돌리기, 하늘걷기, 파도타기 등', '테니스장, 족구장, 운동기구', '족구장, 운동기구', '풋살장, 배구장', '배구장', '테니스장, 게이트볼장', '유소년축구장, 축구장관리실', '유소년축구장', '인라인장, 운동기구', '농구장, 족구장, 운동기구', '농구장, 배드민턴장, 족구장, 운동기구', '농구장, 배드민턴장, 운동기구', '야외운동기구, 게이트볼장', '야외운동기구.', '야외운동기구, 배드민턴장', '다목적운동장, 야외운동기구, 배드민턴장', '야외운동기구, 농구장, 배드민턴장', '다목적운동장, 야외운동기구', '축구장, 테니스장, 배구, 배드민턴', '축구장, 씨름장, 배구, 배스민턴', '농구장/풋살경기장/ 체육시설/인라인트랙', '축구장/ 테니스장/ 체육시설', '야구장. 운동장. 족구장', '테니스장/ 배드민턴장/ 체육시설', '체육시설/ 농구장', '인라인트랙', '다목적운동장/ 체육시설', '체육시설/인라인스케이장/ 농구장', '체육시설/ 축구장', '체육시설물. 농구대', '체율시설물', '족구장. 농구대. 체육시설물', '배드민턴장/ 체육시설', 'N', '테니스장,배드민턴장', '농구장,배드민턴장,게이트볼장', '체력단련기구', '미로길', '축구장+테니스장+다목적운동장', '다목적운동장+테니스장+배드민턴장', '배드민턴장+게이트볼장+농구장', '테니스장+축구장+다목적운동장', '축구장+농구장', '인조잔디구장', '천연잔디구장', '풋살경기장+족구장+게이트볼장', '운동장+족구장+농구장', '운동장+게이트볼장', '다목적운동장+게이트볼장', '게이트볼장,농구장', '배드민턴장+농구장', '배드민턴장+게이트볼장', '농구장+롤러스케이트장', '농구장+스포츠파크', '배드민턴장+인라인스케이트장', '농구장+배드민턴장', '궁도장+테니스장', '배드민턴장+게이트볼장+인라인스케이트장', '체련단련장', '다목적운동장+롤러스케이트장', '다목적운동장+체력단련장', '운동장', '롤러스케이트장', '인라인스케이트장', '운동공간', '체력단련장, 농구장, 족구장, 배드민턴장, 풋살장, 발맛사지장', '허리돌리기 1대윗몸일으키기 1대오금펴기 1대파도타기 1대공중걷기 1대역기올리기 1대달리기운동 1대', '이동식 농구대1개, 운동기구 5개소', '이동식 농구대 1개, 운동기구 6개소', '이동식 농구대1개, 운동기구 7개소', '이동식농구대1개, 운동기구 4개소', '운동기구 4개소', '게이트볼장,농구장,운동장,인조잔디구장', '소운동장', '배드민턴,다목적구장,농구대', '농구장,축구장,테니스장', '축구장,테니스장', '운동장,체육시설', '배드민턴,족구,농구장,운동장,테니스장,풋살', '배드민턴장(족구장겸용)', '게이트볼장,농구장,배드민턴장,테니스장', '체육시설,농구대', '골프연습장,농구장,테니스장,인조잔디구장', '배드민턴장,게이트볼장', '간이체육시설,산책로,자전거도로', '풋살장, 간이운동시설', '배드민턴장, 온몸근육풀기, 허리돌리기, 파도타기', '윗몸일으키기, 파도타기, 허리돌리기, 온몸근육풀기', '온몸근육풀기, 허리돌리기, 파도타기, 공중걷기', '축구장,배드민턴장,테니스장', '배드민턴장, 족구장', '다목적운동장+실내배드민턴장+체력단련시설', '게이트볼장+실내배드민턴장+체력단련시설', '다목적운동장+체력단련시설', '게이트볼장+족구장+체력단련시설', '풋살장+인라인스케이트장+게이트볼장+농구장+다목적운동장+배드민턴장+파크골프장+체력단련시설', '풋살구장+농구장+체력단련시설', '게이트볼장+체력단련시설', '농구장+야외배드민턴장+인라인스케이트장+실내배드민턴장+체력단련시설', '풋살구장+농구장+족구장+실내배드민턴장+체력단련시설', '멀티코트+체력단련시설', '축구장+게이트볼장+농구장+인라인스케이트장+테니스장+실내배드민턴장+체력단련시설', '국궁장+다목적운동장+농구장+실내배드민턴장+게이트볼장+체력단련시설', '야외배드민턴장+축구장+테니스장+농구장+게이트볼장+실내배드민턴장+체력단련시설', '축구장+실내배드민턴장+체력단련시설', '야외배드민턴장+체력단련시설', '농구장+체력단련시설', '체력단련시설+운동장', '체력단련시설+운동장(농구대)', '다목적운동장+게이트볼장+인라인스케이트장+체력단련시설', '체력단련시설+운동장(축구골대,농구대)', '축구장+체력단련시설', '족구장+체력단련시설', '실내배드민턴장+게이트볼장+체력단련시설', '실내다목적체육관+체력단련시설', '체력단련시설 없음', '다목적운동장+파크골프장+게이트볼장+체력단련시설', '조합놀이대+그네+흔들놀이대+철봉', '조합놀이대+정글짐+시소+흔들놀이대', '조합놀이대+그네+시소+흔들놀이대', '조합놀이대+정글짐+그네+흔들놀이대', '조합놀이대', '축구장+실내배드민턴장+배구장+씨름장+농구장+체력단련장', '조합놀이대+흔들놀이대', '테니스장+게이트볼장+체력단련시설', '족구장+배드민턴장+체력단련시설', '야외배드민턴장', '농구장+야외배드민턴장+다목적운동장+체력단련시설', '조합놀이대+그네+흔들놀이대', '조합놀이대+그네+시소', '조합놀이대+그네+시소+흔들놀이대+회전놀이대', '조합놀이대+그네+흔들놀이대+철봉+평행봉', '체력단련시설+게이트볼장+농구장', '조합놀이대+흔들놀이대+암벽오르기', '조합놀이대+흔들놀이대+놀이집', '시소+흔들놀이대', '조합놀이대+그네', '농구장 족구장', '족구장 등2', 'X-게임장', '농구장+배드민턴장+인라인스케이트장', '농구장+족구장', '족구장+배드민턴장+게이트볼장', '축구장 등4', '테니스장+농구장+족구장+배드민턴장', '축구장 등6', '농구장+배드민턴장+게이트볼장+X-게임장', '배트민턴장', '축구장+야구장+배드민턴장+테니스장+농구장', '족구장 등3', '배드민턴장+족구장+그라운드골프장', '다목적구장 등3', '족구장+배드민턴장+게이트볼장+농구장', '배드민터장, 운동기구3종', '운동기구 9종', '운동기구 16종', '테니스장, 베드민턴장, 게이트볼장, 농구장', '농구장, 체력단련시설', '배드민턴장, 족구장, 체력단련시설', '체력단련시설, 배드민턴장, 풋살장, 게이트볼장, 인라인장, 농구장, 인공암벽, 파크볼장', '체련단련시설', '좌식사이클, 배드민턴장', '풀웨이트', '체어웨이트', '배드민턴, 체력단련시설', '게이트볼장, 농구장, 배드민턴장', '체력단련시설, 족구장, 배드민턴장', '체력단련시설, 지압보도', '좌식사이클', '운동기구 5종', '운동장, 배드민턴장, 게이트볼장 등', '다목적 인조잔디마당', '테니스장, 배드민턴장 등', '테니스장 등', '체력단련장, 체력단련시설, 턱걸이, 윗몸일으키기, 팔굽혀펴기, 역기들기', '농구장, 게이트볼장, 체력단련시설', '다목적운동장, 농구장, 잔디볼링장, 배구장, 테니스장, 게이트볼장, 배드민턴장, 체력단련장', '다목적운동장, 농구장, 테니스장, 게이트볼장, 체력단련장, 조깅코스, 배드민턴장, 인라인스케이트장', '농구장, 게이트볼장', '풋살경기장', '배드민턴장, 족구장, 게이트볼장, 농구장 반코트', '배드민턴장, 지압보도', '게이트볼장2,배드민턴1,족구장1,운동기구55', '게이트볼장1,운동기구26', '게이트볼장1,배드민턴장1,운동기구92', '운동기구42', '농구대2,배드민터1운동기구3', '운동기구54', '운동기구70,농구대1,배드민턴3', '운동기구15', '운동기구22,농구대1', '운동기구32,농구대1,배드민턴1', '운동기구22,게이트볼장1,농구대2,베드민턴장1,족구장1', '운동기구28,게이트볼장1,농구대1,배드민턴장1', '운동기구30', '운동기구27', '운동기구68,게이트볼장1,배드민턴장3', '농구대1,테니스장1', '농구대2,배드민턴장2', '다목적운동장1', '운동기구3', '운동기구5,농구대2,배드민턴1', '운동기구40', '수영장1', '축구장1', '운동기구17,농구대1', '운동기구11,게이트볼장1', '운동기구9,농구대1', '운동기구19', '운동기구21', '운동기구10,농구대1', '운동기구5,농구대2', '운동기구5,게이트볼장1', '운동기구7,게이트볼장1', '운동기구7,농구대2', '운동기구5,농구대1', '운동기구6,배드민턴장1', '운동기구5,농구대1,롤러스케이트장1', '운동기구7,농구대2,배드민턴장1', '운동기구13,농구대1,배드민턴장1', '운동기구15,농구대1,배드민턴장1', '운동기구6', '운동기구9,농구대1,다목적운동장1', '농구대2,미니축구장1', '운동기구4,배드민턴장1', '운동기구29', '운동기구3,농구대1', '운동기구7,농구대1,다목적운동장1', '운동기구8', '운동기구16,농구대1,배드민턴장1', '운동기구3,농구대2', '운동기구4,농구대2', '운동기구3,게이트볼장1', '운동기구2,농구대2', '운동기구6,농구대2', '운동기구2,농구대3', '운동기구6,농구대1', '운동기구5,농구대1,배드민턴장1,족구장1', '운동기구26,농구대1,다목적운동장1', '농구대1', '운동기구10,배구장1', '농구대2,다목적구장1,롤러스케이트장1,운동기구5', '축구장1,농구대2,테니스장2,게이트볼장1,체육관1', '족구장, 배드민턴장', '테니스장, 농구장, 풋살장, 배드민턴장', '게이트볼장, 테니스장', '다목적운동장, 배드민턴장', '게이트볼장, 배드민턴장, 농구장', '다목적은동장', '다목적운동장, 게이트볼장', '다목적운동장, 게이트볼장, 배드민턴장', '다목적운동장, 게이트볼장, 농구장', '다목적운동장, 농구장', '실내체육관', '생활운동시설', '배드민턴장, 농구장, 다목적 운동장', '야외헬스기구', '배드민턴장, 야외헬스기구', '멀티스포츠센터', '족구장, 야외헬스기구', '인라인스케이트장, 야외헬스기구', '지압보도', '농구장 1면, 마라톤 1면, 게이트볼장 1면, 테니스장 1면, 다목적구장 1면', '농구대 2개', '농구대 1개, 지압보도', '농구대 1개', '족구장 1면', '정구장1, 지압보도1,', '게이트볼장1, 축구장1, 테니스장1, 족구장1,', '다목적구장1', '농구장, 배드민턴장, 족구장, 테니스장, X게임장', '농구장, 배드민턴장, 족구장, 인라인스케이트장', '농구장, 배드민턴장, 족구장, 축구장, 테니스장', '족구장 1면, 배더민턴장 2면', '농구장 1면', '테니스장 3면, 배더민턴장', '농구장 1면, 족구장 1면, 배더민턴장 2면, 인라인스케이트장', '족구장 1면, 정구장 3면', '배더민턴장 1면', '게이터볼장 1면', '족구장 1면, 배더민턴장 1면', '농구장 1면, 족구장 1면, 배더민턴장 1면', '농구장 1면, 족구장 2면, 테니스장 1면, 배더민턴장 2면', '게이트볼장, 배드민턴장, 족구장', '족구장, 배드민턴장, 운동장', '풋살경기장, 축구장, 농구장', '농구장 1면, 파크골프장1면, 게이트볼장1면, 테니스장1면, 다목적구장1면, 지압보도', '마라톤 1면', '농구대 2개, 마라톤, 지압보도', '농구대 4개, 지압보도', '농구장 1면, 마라톤 1면, 인라인스케이트장 1면, 게이트볼장 1면, 테니스장 1면, 미니축구장 1면', '다목적운동장,족구장,테니스장,농구장', '풋살장, 리틀야구장,, 다목적체육관', '다목적체육관', '풋살장,농구장,테니스장,족구장.배드민턴장,게이트볼장 등', '배드민턴장(족구장겸), 운동시설 등', '배드민턴장, 농구장, 게이트볼장, 체력단련장 등', '족구장, 풋살장', '축구장, 풋살장, 농구장, 축구장, 론볼링장, 궁도장, 썰매장, 간이수영장, 다목적구장', '농구장, 게이트볼장, 배드민턴장', '족구장, 농구장, 배드민턴장, 축구장, 인라인장', '테니스장, 족구장, 다목적운동장', '다목적운동장, 농구장, 체력단련시설 등', '체력단련시설 및 극기훈련시설', '야외체육시설(팔굽혀펴기 등)', '야외체육시설(온몸근육풀기 등), 족구장', '체력단련장, 야외체육시설', '야외체육시설(트윈워밍암 등)', '야외체육시설(온몸허리돌리기 등)', '산책로', '0', '1', '19', '11', '육상경기장·게이트볼장·배구장·배드민턴장·농구장·체력단련장·골프연습장·풋살경기장·자연체험장·국민체육센터·테니스장·역도훈련장', '축구장·트랙·다목적체육시설·씨름장·체력단련시설', '온몸근육풀기외 2종', '온몸노젓기외 4종', '양팔줄당기기외 10종', '오팔펴기 외 19종', '달리기 외 7종', '하늘걷기 외 3종', '배드민턴지주 등', '하늘걷기 외 8종', '하늘걷기 외 7종', '크로스켠트리외 3종', '윗몸일으키기외 2종', '평행봉 외 9종', '배근력대 외 2종', '배근력대 외 4종', '크로스켠트리 외 12종', '농구대 외 16종', '농구대 외 2종', '평행잡기 외 13종', '배드민턴네트 외 7종', '2단철봉 외 12종', '평행봉 5종', '3단철봉 7종', '허리돌리기 외 4종', '옆파도 외 6종', '3단 철봉 외 3종', '양팔줄당기기2인 외 1종', '배드민턴장 외 3종', '3단철봉 외 6종', '평행봉 외 8종', '배드민턴 외 9종', '어깨근육2인 외 3종', '양팔줄당기기 외 6종', '평행봉 외 7종', '3단철봉 외 1종', '윗몸일으키기 외 12종', '평행봉 외 6종', '윗몸일으키기 외 3종', '거꾸리 외 7종', '어깨근육풀기 외 3종', '농구대 등', '온몸허리돌리기 외 15종', '3단철봉 외 2종', '어께근육풀기 외 7종', '양팔줄당기기 외 7종', '윗몸일으키기 외 7종', '하체흔들기 외 3종', '3단철봉 등', '온몸허리돌리기 외 9종', '윗몸일으키기 외 10종', '평행봉 외 2종', '족구지주 외 3종', '허리돌리기 외 2종', '배드민터코트 외 4종', '농구대 외 4종', '배근력대 외 3종', '어깨근육풀기 외 2종', '배드민턴 지주대  등', '하체흔들기 외 12종', '양팔줄당기기외 5종', '하체흔들기 외 7종', '허리돌리기 외 8종', '온몸근육풀기 외 20종', '축구장, 테니스장, 족구장, 농구장, 게이트볼장', '배드민턴장, 궁도장', '야외헬스형운동기구 5개', '야외헬스형운동기구 6개', '야외헬스형운동기구 8개', '야외헬스형운동기구 1개', '야외헬스형운동기구 7개', '야외헬스형운동기구 3개', '야외헬스형운동기구 4개', '야외헬스형운동기구 2개', '야외헬스형운동기구 9개', '야외헬스형운동기구 52개', '야외헬스형운동기구 20개', '야외헬스형운동기구 86개', '야외헬스형운동기구 17개', '야외헬스형운동기구 14개', '야외헬스형운동기구 30개, 농구장', '야외헬스형운동기구 7개, 게이트볼장, 다목적운동장', '야외헬스형운동기구 10개', '야외헬스형운동기구 24개', '야외헬스형운동기구 25개, 게이트볼장, 배드민턴장', '야외헬스형운동기구 20개 배드민턴장, 다목적운동장', '야외헬스형운동기구 21개', '야외헬스형운동기구 20개, 다목적운동장, 조깅트랙', '배드민턴장, 게이트볼장, 야외헬스형 운동기구 98개', '야외헬스형운동기구 25개', '야외운동기구 10', '야외운동기구 6', '야외운동기구 4', '축구장 1, 다목적구장 2, 야외운동기구 13', '야외운동기구 4, 축구장(인조)1, 배구장 1, 족구장 1', '테니스장 1, 야외운동기구 1', '풋살 1, 족구장 2', '테니스장 1,', '야외운동기구 3', '야외운동기구 3, 농구장 1', '야외운동기구 3, 게이트볼장', '축구장1, 게이트볼장1,  파크골프장1, 실내체육관1, 체력단련실 1, 실내수영장1, 야외농구장 1, 야외운동기구 1식', '야외운동기구 6, 농구장 1', '축구장 1, 족구장1, 농구장 1,  야외운동기구 10', '축구장 1, 그라운드골프장 1, 야외운동기구 11', '배드민턴장 1, 야외운동기구 4', '야외운동기구 7', '야외운동기구 18', '야외운동기구 12', '야외운동기구 14', '지압로 32㎡', '지압로 23㎡', '등의자 6', '게이트볼장,풋살경기장', '농구장,배드민턴장,역기,윗몸일으키기 등', '축구장,족구장,배드민턴장,농구장', '윗몸일으키기,팔굽혀펴기,철봉,평행봉', '농구장,배드민턴장,테니스장', '윗몸일으키기,허리돌리기', '농구장,배드민턴장,생활체육시설 등', '체력단련장,게이트볼장,인라인장', '농구장,생활체육시설 등', '평행봉,철봉', '철봉,평행봉', '게이트볼장,생활체육시설,철봉', '생활체육시설', '농구대,생활체육시설,철봉,평행봉', '게이트볼장,생활체육시설,윗몸일으키기,팔굽혀펴기', '철봉,생활체육시설,팔굽혀펴기', '조합놀이대,가위말차기', '농구대,철봉', '게이트볼장,테니스장,윗몸일으키기,평행봉,생활체육시설등', '농구장,테니스장,게이트볼장,윗몸일으키기,평행봉 등', '배드민턴장,생활체육시설', '게이트볼장,배드민턴장,농구장,철봉등', '농구대,생활체육시설', '농구대,철봉,평행봉', '생활체육시설,철봉,평행봉', '배드민턴장,생활체육시설 등', '농구대,배드민턴장,생활체육시설', '배드민턴장,농구대,생활체육시설,철봉', '축구장,배드민턴장', '국궁장, 체력단련시설, 배드민턴장', '체력단련시설, 배드민턴장, 족구장', '체력단련시설, 농구장, 게이트볼장', '배드민턴장,족구장,농구장', '배드민턴장,족구장,축구장', '배드민턴장,족구장,축구장,농구장', '배드민턴장,족구장', '배드민턴장, 족구장, 테니스장', '배드민턴장,농구장,게이트볼장', '배드민턴장,농구장,멀티코트,파크골프장,족구장', '배드민턴장,농구장,게이트볼장,씨름장,러버가든', '인조잔디구장, 게이트볼장, 야외운동기구', '국궁장, 게이트볼장', '인라인스케이트장, 야외운동기구', '인조잔디구장, 야외운동기구', '베드민턴장, 야외운동기구', '농구장, 야외운동기구', '게이트볼장, 농구장, 야외운동기구', '체력단련장 3개소', '도시개발', '체육진흥', '관광개발', '25', '29', '71', '야구장, 축구장, 다목적구장', '축구장, 베드민턴장, 농구장, 족구장,게이트볼장,다목적구장', '농구장,베트민턴장', '풋살장, 농구장, 족구장', '배드민턴장 2개소', '농구장, 배드민턴장, 축구장 등', '농구장, 배드민턴장 등', '허리돌리기, 다리흔들기, 다리올리기, 온몸펴기 등', '철봉, 평행봉, 허리돌리기, 공중걷기 등', '철봉, 평행봉 공중걷기, 허리돌리기 등', '허리돌리기, 철봉, 평행봉, 역기올리기 등', '족구장, 허리돌리기, 공중걷기 등', '역기올리기, 롤링웨이스트, 트위스터 등', '평행봉, 트위스트, 허리돌리기 등', '축구장, 철봉, 평행봉, 허리돌리기 등', '평행봉, 허리돌리기, 팔비틀기 등', '온몸펴기, 공중걷기, 허리돌리기 등', '평행봉, 다리흔들기, 허리돌리기 등', '농구장, 헐리돌리기, 공중걷기 등', '농구장, 그라운드골프장 등', '농구장 등', '허리돌리기, 공중걷기 등', '허리돌리기, 배드민턴장', '평행봉, 철봉, 공중걷기 등', '공중걷기', '스트레칭로라, 공중걷기, 팔돌리기 등', '트윈트위스트. 롤링웨이스트', '공중걷기, 팔돌리기 등', '트윈트위스트, 롤링웨이스트 등', '허리돌리기, 파도타기, 공중걷기 등', '철봉, 허리돌리기, 팔돌리기 등', '파도타기, 공중걷기, 허리돌리기', '파도타기, 공중걷기, 팔돌리기 등', '공중걷기, 파도타기, 허리돌리기', '허리돌리기, 공중걷기, 파도타기 등', '오금펴기, 달리기운동, 오금펴기 등', '크로스컨트리, 트윈트위스터, 롤링웨이스트 등', '공중걷기, 허리돌리기, 공중걷기, 역기올리기 등', '허리돌리기, 롤링웨이스트 등', '농구장, 허리돌리기 등', '허리돌리기, 평행봉, 철봉', '허리돌리기, 팔돌리기 등', '허리돌리기', '허리돌리기, 농구장', '터닝트위스트, 워밍암, 롤링웨이스트', '허리돌리기, 철봉, 평행봉 등', '공중걷기, 허리돌리기', '공중걷기, 허리돌리기, 파도타기 등', '공중걷기 등', '허리돌리기, 윗몸일으키기 등', '테니스장, 허리돌리기, 파도타기, 공중걷기 등', '농구장, 허리돌리기, 팔돌리기 등', '축구장, 농구장, 족구장 등', '옆파도타기, 마라톤운동, 하늘걷기 등', '레일바이크, 이색자전거길', '실내체육관, 인조잔디구장3, 풋살장, 체력단련장', '축구장, 농구장, 게이트볼장, 체력단련장', '테니스장, 축구장', '주민체육시설, 운동시설', '조기체육장 등', '다목적운동장 등', '베드민턴장 등', '농구장, 베드민턴장 등', '축구장, 농구장, 베드민턴장 등', '인라인장, 베드민턴장 등', '게이트볼장, 농구장 등', '농구장, 족구장, 인라인스케이트장', '농구장, 베드민턴장, 다목적구장', '배드민턴장1, 체력단련시설9', '배드민턴장6, 체력단련시설303', '체력단련시설6', '체력단련시설12', '체력단련시설7', '배드민턴장1, 체력단련시설30', '체력단련시설10', '체력단련시설3', '체력단련시설4', '체력단련시설1', '체력단련시설8', '체력단련시설5', '체력단련시설2', '체력단련시설, 농구장', '체력단련시설, 농구장, 배드민턴장, 축구장', '체력단련시설, 배드민턴장', '체력단련시설, 농구장, 배드민턴장', '배드민턴장, 체력단련시설', '배드민턴장, 농구장, 체력단련시설, xgame시설', '체력단련시설, 축구장, 배드민턴장', 'xgame시설', '체력단련시설, 농구장, 배드민턴장, 추구장', '파크골프장, 조깅트랙', '실내체육관, 테니스장, xgame시설', '체력단련시설, 다목적운동장', '배드민턴장, 체력단련기구', '농구장, 체력단련기구', '배드민턴장, 족구장, 체력단련기구', '농구장, 배드민턴장, 체력단련기구', '축구장, 농구장, 배드민턴장, 게이트볼장, 체력단련기구', '테니스장, 배드민턴장, 골프연습장, 체력단련기구', '배드민턴장, 게이트볼장, 체력단련기구', '농구장, 게이트볼장, 체력단련기구', '운동장, 농구장', '게이트볼장, 테니스장, 다목적구장', '배드민턴장, 농구장, 족구장', '축구장, 족구장, 농구장', '축구장, 족구장, 풋살장, 농구장', '배드민턴장, 테니스장', '배드민턴장, 인라인스케이트장', '소규모운동장', '족구경기장 4', '실외운동기구 7', '실외운동기구', 'x-game장', '축구장, 게이트볼장, 테니스장', '정구장, 소운동장, 체조장', '풋살구장, 테니스장, 농구장, 족구장', '에어서핑, 노르딕머신+에어워킹, 트위스트, 워밍쇼울더, 바디싯업', '에어워킹, 에어서핑, 바디싯업', '에어워킹, 트위스트+바디싯업, 마사지롤라, 에어서핑', '노르딕머신, 마사지롤라, 트위스트, 에어서핑, 에어워킹, 워밍쇼울더', '레그프레스, 워밍암, 트윈트위스트, 에어서핑, 마사지롤라, 에어워킹, 노르딕머신, 오리다리펴기+흔들코끼리, 캥거루허리돌리기+흔들코끼리, 사자스텝퍼+오리다리펴기', '스트레칭롤라, 트윈바디싯업, 워밍암, 체어웨이트, 트윈트위스트, 롤링웨이스트, 크로스컨트리', '마사지롤라, 트위스트, 캥거루허리돌리기+흔들코끼리, 사자스텝퍼+오리다리펴기, 오리다리펴기+흔들코끼리, 에어워킹, 노르딕머신, 워밍쇼울더, 에어서핑, 레그프레스', '트윈바디싯업, 에어서핑, 노르딕머신, 사자스텝퍼+흔들코끼리, 캥거루허리돌리기+오리다리펴기, 흔들코끼리, 마사지롤라, 트윈트위스트, 워밍암, 에어워킹', '하늘걷기, 등허리지압기, 에어서핑2, 에어워킹, 트위스트', '온몸허리돌리기, 옆파도타기, 하늘걷기', '트위스트, 워밍쇼울더, 에어서핑, 철봉, 평행봉', '트위스트, 에어워킹, 에어서핑', '마라톤운동, 옆파도타기, 온몸허리돌리기', '크로스컨트리, 트윈바디싯업, 트윈트위스트, 스트레칭로라, 레그프레스, 롤링웨이스트, 워밍암', '에어워킹, 싸이클링, 에어서핑, 체어웨이트, 풀웨이트, 스트레칭로라, 레그프레스, 하체마사지기, 좌식자전거, 트윈전신지압기, 전신스트레칭머신', '풀웨이트, 트윈트위스트, 워밍암, 크로스컨트리', '워밍쇼울더, 사이클링, 에어워킹, 마사지롤라, 트위스트', '해당없음', '트윈트위스트, 싸이클링, 워밍쇼울더', '에어워킹, 워밍쇼울더, 에어서핑, 로우잉머신', '자전거발전기, 근육풀기발전기, 허리돌리기발전기, 파도타기발전기', '롤링웨이스트, 바디싯업, 체어풀, 스트레칭롤라, 체어웨이트, 워밍암', '트위스트, 마사지롤라, 에어워킹, 싸이클링, 워밍쇼울더, 로우잉머신, 노르딕머신', '스트레칭롤라, 롤링웨이스트, 트윈트위스트, 풀웨이트, 크로스컨트리', '크로스컨트리, 풀웨이트, 트위스트', '트윈바디싯업, 스트레칭롤라, 롤링웨이스트, 트윈트위스트, 크로스컨트리, 체어웨이트', '워밍쇼울더, 에어서핑, 체어웨이트', '레그프레스, 워밍암, 스텝사이클, 롤링웨이스트, 체어풀', '스트레칭롤러, 트윈트위스트, 레그프레스, 크로스컨트리, 풀웨이트', '운동기구 1식', '농구장, 조깅코스', '배트민턴장, 테니스장, 배구장, 농구장', '농구장, 배구장, 배드민턴장, 축구장, 다목적운동장', '풋살장, 농구대', '농구장, 배드민턴장, 인라인장, 족구장', '농구장, 족구장, 배드민턴장', '농구대, 게이트볼장', '베트민턴장, 게이트볼장', '전통그네', '철봉, 농구대', '풋살경기장, 게이트볼장', '인라인스케이트장, 농구장 등', '축구장, 농구장 등', '농구장, 축구장', '윗몸일으키기 외3종', '윗몸일으키기 외5종', '다리굽혀펴기 외3종', '크로스컨트리 외5종', '공중걷기 외2종', '게이트볼장 외6종', '에어서핑 외2종', '노르딕머신외5종', '노르딕머신외 5종', '트위스트외3종', '평행봉 외7종', '싸이클링외 3종', '크로스컨트리외4종', '철봉외6종', '철봉 외 8종', '팔굽혀펴기 외8종', '허리돌리기 외4종', '스트레칭로라외4종', '농구대외6종', '철봉외 7종', '평행봉 외2종', '스텝싸이클외4종', '농구대외 8종', '바디실업외 5종', '노르딕머신외1종', '베드민턴장외3종', '노르딕머신외2종', '허리돌리기외5종', '농구대외3종', '싸이클링 외 5종', '싸이클링 외2종', '싸아클링 외2종', '베드민턴및 포스트', '싸이클링외 6종', '어깨관절놀이 외2종', '농구대 외5종', '어깨관절놀이 외3종', '농구대외 5종', '평행봉외 7종', '야외체육시설물', '윗몸일으키기외7종', '평행봉외1종', '스텝싸이클 등 5', '싸이클링 외 3종', '트위스트외 4종', '다목적구장외1종', '운동시설물', '축구장 외5종', '운동시설', '배드민턴장 외1종', '생활체육시설 외2종', '축구장 외4종', '마레트골프장', '종합체육관 외3종', '농구장 외3종', '마레트골프장 외 5종', '야외체육시설3', '야외체육시설4', '게이트볼장 외 4종', '게이트볼장 외3종', '철봉 외7종', '체력단련장 외2종', '야외체육시설', '운동시설물 외1종', '게이트볼장 외4종', '웨밍암 외4종', '서핑롤링머신 외2종', '지압보도외6종', '에어워킹 외2종', '오금펴기 외11종', '워밍업 외5종', '롤링웨이스트 외3종', '노르딕머신외 3종', '노르딕머신외 4종', '등치기', '크로스컨트리오 3종', '스텝싸이클외 7종', '하늘걷기 외2종', '에어워킹 외4종', '등펴기외 6종', '위밍쇼울더 외3종', '싸이클링 외5종', '온몸근육풀기 외2종', '노르딕머신+에어위킹', '레그프레스 외 5종', '에어서핑 외 2종', '스텝싸이클 등 3종', '워밍암 외4종', '트윈트위스트 외3종', '허리돌리기 외5종', '싸이클링 외 7종', '배드민턴장 다목적실설', '다목적구장, 게이트볼장, 배드민턴장, 농구장', '배드민턴장, 농구장,궁도장,양궁장', '다목적 운동시설', '운동기구(18)', '배드민턴장(1), 운동기구(6)', '운동기구(4)', '운동기구(8)', '운동기구(5)', '농구대(1), 운동기구(5)', '운동기구(7)', '농구대(2), 풋살장(1), 운동기구(5)', '운동기구(6)', '농구대(1)', '농구대(1), 운동기구(6)', '운동기구(9)', '농구대(1), 운동기구(11)', '운동기구(11)', '농구대(1), 운동기구(10)', '운동기구(3)', '농구대(1), 운동기구(9)', '인라인스케이트장(1), 운동기구(5)', '농구대(2), 운동기구(6)', '농구대(2),운동기구(4)', '배드민턴장(2), 운동기구(4)', '게이트볼장(1), 운동기구(4)', '미니축구장(1)', '농구대(2), 운동기구(8)', '농구대(2)', '배드민턴장(1), 운동기구(10)', '농구대(1), 운동기구(19)', '운동기구(10)', '운동기구(20)', '풋살구장(1)', '배드민턴장(2), 운동기구(6)', '운동기구(1)', '씨름장(1), 운동기구(6)', '족구장(2), 배드민턴장겸농구장(1)', '국국장(1), 농구대(2), 운동기구(4)', '운동기구(2)', '배드민턴장, 농구장, 체력단련시설', '다목적운동장, 체력단련시설', '베드민턴장, 농구장,체력단련시설', '철봉', '풋살결기장, 체력단련시설', '풋살운동장', '파크골프장, 수영장, 양궁장', '농구장, 족구장', '축구장, 인공암벽장', '그네1개,흔들놀이기구6개,조합놀이대1개', '회전놀이기구1개,흔들놀이기구5개,조합놀이대1개', '배드민턴장,테니스장', '다목적운동장,농구장,배드민턴장', '평행봉,철봉,농구대', '농구장,철봉,평행봉', '농구장,야외운동기구', '철봉,야외운동기구', '농구대,야외운동기구', '야외운동기구,게이트볼장', '야외운동기구,족구장,농구장', '농구장,게이트볼장,배드민턴장,미니축구장', '농구장,족구장,배구장,인라인트랙', '농구골대,평행봉,철봉', '평행봉,야외운동기구', '운동시설,다목적광장', '농구장, 인라인스케이트장', '풋살장, 축구장, 농구장, 트랙, 배드민턴장, 게이트볼장', '파크골프장', '축구장, 풋살장, 농구장, 트랙, 배드민턴장', '풋살장, 인라인장(X-게임장)', '풋살장, 배드민턴장', '다리펴기, 허리돌리기, 역기내리기, 어깨돌리기 등', '자전거타기, 허리돌리기 등', '자전거타기 등', '윗몸일으키기, 파도타기, 하늘걷기 등', '하늘걷기, 허리돌리기 등', '하늘걷기, 양팔 밀기', '하늘걷기, 파도타기, 마라톤운동 등', '어깨돌리기, 파도타기, 마라톤운동 등', '하늘걷기, 어깨돌리기 등', '어깨돌리기, 양팔밀기 등', '유아용 운동시설 등', '다리펴기, 자전거타기 등', '등허리지압기, 어깨돌리기, 허리돌리기 등', '허리돌리기 등', '허리돌리기, 하늘걷기 등', '철봉, 허리돌리기 등', '윗몸일으키기 등', '철봉 등', '하늘걷기 등', '허리돌리기, 족구장 등', '철봉, 윗몸일으키기 등', '허리돌리기, 양팔밀기 등', '어깨돌리기, 양팔밀기, 허리돌리기 등', '허리돌리기, 하늘걷기, 등', '윗몸일으키기, 허리돌리기 등', '족구장, 농구장 등', '배드민턴장, 인라인스케이트 장 등', '허리돌리기, 역기 등', '양팔돌리기, 노젓기 등', '간이운동시설 17, 야외농구대 1', '야외운동기구 5', '체력단련시설 4', '트윈트위스트2,바웨이트2', '트윈트위스트2,트윈바디싣업1,트윈워밍암2,레그프레스1,크로스컨트리1,스텝싸이클1,워밍암1,풀웨이트1', '파워프레스6,풀웨이트3,러닝싸이클4,레그프레스2,트위스트8,바디싣업2,', '풀웨이트1,파워프레스1,트위스트1,', '배드민턴코트2,푸쉬웨이트1,터닝암1,파워프레스+풀웨이트1,', '농구대6,스트레칭로라3,크로스컨트리4,체어웨이트2,스텝싸이클4,체어풀3,워밍암3,트윈바디싣업5,풀웨이트5,트윈트위스트2,바웨이트2,레그프레스2,트윈워밍암1,', '달리기1,온몸당기기1,팔올리기1,어깨근육1,좌우흔들기1,다리걷기1,등허리안마1', '스트레칭로라1,크로스컨트리2,스텝싸이클2,워밍암2,풀웨이트3,', '달리기1,팔올리기2,팔내리기1,어깨근육1,다리밀기1,좌우흔들기2,다리걷기1,허리돌리기1,등허리안마1,온몸근육1', '온몸노젓기1, 하늘걷기1, 옆파도타기1, 온몸허리돌리기1, 등허리지압기, 1', '다리뻗치기1, 온몸근육풀기1, 온몸허리돌리기1, 등허리지압기1, 옆타도타기1', '크로스컨트리1,스텝싸이클1,워밍암1', '크로스컨트리2,체어웨이트1,체어풀1,트윈바디싣업1,풀웨이트2,', '배드민턴네트및포스트1,스트레칭로라1,크로스컨트리1,체어웨이트1,스텝싸이클2,체어풀1,워밍암2,트윈바디싣업1,풀웨이트1', '크로스컨트리1,체어풀1,워밍암1,', '생활체육시설4, 배드민턴장1', '스케이트장', '풋살구장외4종', '축구장 외 2종', '배드민턴장외2종', '축구,족구,테니스,게이트볼장', '풋살구장외2종', '배드민턴장6', '배드민턴장1, 게이트볼장1', '운동장1, 축구장2, 농구장2, 배구장1, 배드민턴장8, 기타4', '농구장1, 배드민턴장4', '축구장1, 농구장1, 배드민턴장3', '배드민턴장1, 기타1', '운동장1, 테니스장1, 축구장1, 배드민턴장2', '배드민턴장1, 게이트볼장1, 기타2', '배드민턴장2', '농구장1,게이트볼장1', '농구대 2점', '농구대 외 1종 2점', '농구대 1점', '26', '윗몸일으키기 1, 수평대 1, 다리말아올리기 1, 몸체말아올리기 1, 허리돌리기 1, 의자겸팔굽혀펴기 1, 족구장 1, 농구대 1, 철봉 1, 어깨근육풀기 1, 허리돌리기+파도타기 1, 윗몸일으키기+공중걷기 1, 평행봉 1', '공중걷기 1, 파도타기 1, 어깨근육풀기 1, 윗몸일으키기 1', '허리돌리기 1, 윗몸일으키기 1, 팔굽혀펴기 1, 철봉 1, 평형대 1', '허리돌리기 1, 파도타기 1, 농구대 2', '역기내리기 1, 달리기 1, 하늘걷기 1, 파도타기 1', '허리돌리기 1, 파도타기 1', '허리돌리기 1, 공중걷기 1', '씨름경기장 1', '허리돌리기 1, 공중걷기 1, 파도타기 1', '평행봉 1, 윗몸일으키기 1, 달리기 2, 허리돌리기 2, 파도타기 1, 공중걷기 1, 노젓기 1, 역기내리기 1, 어깨근육풀기 1', '공중걷기+파도타기 1, 오금펴기+허리돌리기 1, 어깨근육풀기 1', '파도타기 1, 허리돌리기 1, 공중걷기 1, 윗몸일으키기 1, 오금펴기 1, 등허리지압기 1', '파도타기 1, 공중걷기 1, 어깨근육풀기 1, 허리돌리기 1', '어깨유연성운동 1, 공중걷기 1, 등허리지압기 1, 허리돌리기 1, 달리기운동 1, 역기내리기 1', '어깨유연성운동 1, 공중걷기 1, 자전거타기 1, 허리돌리기 1', '파도타기 1, 윗몸일으키기 1, 공중걷기 1, 어깨근육풀기 1, 허리돌리기 1', '허리돌리기+어깨근육풀기 1, 파도타기 1, 윗몸일으키기 1, 공중걷기 1', '운동기구 4종', '운동기구 10종', '체육관(실내 배드민턴장) 1개동, 배드민턴장 2개소, 체력단련시설 23기', '체력단련시설 8기', '체력단련시설 4기', '운동장 1개소, 배드민턴장 3개소, 골프연습장 1개소, 체력단련시설 81기', '체력단련시설 3기', '체력단련시설 2기', '배드민턴장 1개소, 체력단련시설 8기', '농구장 1개소, 배드민턴장 1개소, 체력단련시설 30기', '배드민턴장 1개소, 체력단련시설 5기', '배드민턴장 1개소, 체력단련시설 11기', '체력단련시설 6기', '다목적운동장 1개소, 배드민턴장 1개소, 체력단련시설 8기', '농구장 1개소', '체력단련시설 5기', '배드민턴장 1개소', '배드민턴장 1개소, 체력단련시설 3기', '1.체스트업머신 2.트위스트머신 3.평행봉 4.철봉', '1.트위스트머신 2.원그리기머신 3.하늘걷기머신', '1.철봉 2.그네 3.시소 4.양회전운동머신 5.마라톤운동머신 6.노젖기운동머신 7.양다리운동머신 8.다리운동머신 9.옆회전운동머신', '1.앉아서팔올리기머신 2.역기내리기 머신 3.마라톤 머신', '1.철봉 2.체스트업머신 3.트위스트머신 4.평행봉', '1.철봉 2.역기 3.지압머신 4.하늘걷기머신 5.앉아서팔올리기머신 6.역기내리기 머신 7. 옆회전운동머신 8.마라톤머신 9.양회전머신 10.체스트업머신 11.원그리기머신 12.말타기머신 13.다리밀기머신 14.트위스트머신', '게이트볼장, 수영장', '야외체력단련기구', '체육관', '족구장  농구장', '공중가로젓기, 달리기, 역기밀기', '인라인스케이트장, 실내체육관, 축구장, 족구장, 테니스장', '테니스장, 골프장, 승마장', '테니스장, 야구장, 두류수영장', '대구스타디움, 육상진흥센터', '인라인롤러 경기장', '체력단련장, 체력단련시설, 국궁장', '농구장, 배드민턴장,체력단련시설', '배드민턴장, 다목적운동장,체력단련시설', '다목적운동장2, 인라인장, 축구장,풋살장,배드민턴장, 족구장, 게이트볼장2,농구장,체력단련시설', '배드민턴장,체력단련시설', '다목적운동장, 생홀체육관, 배드민턴장', '게이트볼장, 농구대, 체력단련시설', '게이트볼장, 농구장,체력단련시설', '배드민턴장,운동장,체력단련시설', '게이트볼장, 농구장, 족구장,체력단련시설', '실내 게이트볼장,체력단련시설', '배드민턴장, 야외헬스장', '농구장, 게이트볼장,체력단련시설', '운동장, 게이트볼장, 체력단련장', '미니축구장, 농구장', '축구장,농구장,배구장,인라인장', '미니축구장', '농구대 1', '체력단련시설 8개', '게이트볼장,멀티코트', '운동장,게이트볼장', '체력단련장,배구장,게이트볼장,베드민턴장', '체력단련장, 다이나트랙,베드민턴장', '배드민턴장, 운동장', '다목적운동장,베드민턴장,체력단련장', '농구장,다목적운동장,운동기구 6종', '골프연습장, 눈썰매장,체력단련장,궁도장,실내베드민턴장,인라인스케이트장', '운동장, 체력단련장', '게이트볼장, 운동기구 2종', '다목적운동장,수영장,실내베드민턴장, 웅동기구12종', '농구대 2', '운동기구2종', '운동장, 배구장,농구장', '풋살구장,체력단련장,체육관 (게이트볼삭제요청)', '운동장,축구장, 배드민턴장', '배드민턴장 1', '인라인장, 농구대 1', '축구장,풋살장,족구장,농구장', '다목적운동장,족구장,축구장', '국궁장, 체력단련시설', '골프연습장, 테니스장', '테니스장, 골프연습장, 궁도장, 게이트볼장', '체육시설5', '체육시설4', '체육시설8, 농구대2', '체육시설6, 풋살구장1', '체육시설8', '체육시설2', '풋살구장1', '체육시설11, 미니골대2', '체육시설5, 농구대1, 풋살구장1', '다목적구장1, 농구대1, 체육시설16', '체육시설6', '체육시설6, 농구대1', '체육시설10', '체육시설물4', '체육시설물9', '체육시설물3', '배구장, 배드민턴장, 농구장', '게이트볼장, 배드민턴장, 다목적운동장', '골프연습장, 다목적운동장, 정구장', '농구장, 배드민턴장, 축구장', '게이트볼장,인라인스케이트장,다목적구장', '잔디운동장', '그라운드골프장', '축구장, 테니스장', '게이트볼, 농구, 테니스, 풋살, 족구', '테니스, 운동기구', '배드민턴장,농구대,운동기구', '농구대,운동기구', '게이트볼구장,운동기구', '족구장,핸드볼장,농구대,운동기구', '축구장,농구대,운동기구', '배구장,운동기구', '농구대,배드민턴장,운동기구', '농구대,다목적구장,운동기구', '농구대,배드민턴장,게이트볼구장,운동기구', '빙상경기장,배드민턴장,운동기구', '족구장,농구대,운동기구', '다목적구장,운동기구', '배드민턴장,게이트볼구장,이라인스케이트장,운동기구', '배드민턴장,게이트볼구장,테니스장,운동기구', '농구대,배드민턴장,게이트볼구장,X게임장,운동기구', '배드민턴장,축구장,풋살구장', '배구장,족구장,축구장,운동기구', '농구대,게이트볼구장', '회전무대,정글집,농구대,배드민턴장,운동기구', '배구장,축구장,농구대,운동기구', '족구장,게이트볼구장,운동기구', '족구장,게이트볼구장,농구대,운동기구', '게이트볼장, 풋살장, 족구장', '운종장, 족구장', '다목적 코트', '소운동장, 족구장', '운동기구, 지압보도', '배드민턴장 등', '다목적코트', '인라인스케이트장, 운동기구', '애견놀이공간, 운동기구, 테니스장', '파크골프, 배드민턴장 등', '다목적코트, 운동장', '테니스장,', '야구장, 테니스장', '축구장, 풋살장, 족구장, 운동기구', '다목적운동자, 운동기구, 게이트볼장', '족구장, 테니스장, 운동기구', '게이트볼장, 운동기구', '미니축구장, 운동기구', '배드민턴장, 풋살장, 운동기구', '축구장, 게이트볼장, 족구장, 운동기구', '풋살장, 족구장, 농구장, 배드민턴장', 'X게임장, 풋살장, 운동기구', '산림체험시설', '수변데크, 섬(봄,여름,가을,겨율)', '허리돌리기, 하늘걷기 등 운동기구', '게이트볼장,체육시설', '운동장, 운동기구', '다목적공간', '다목적코트, 운동기구', '다목적공간, 운동기구', '농구대, 운동기구', '족구대, 운동기구', '헬스형 운동기구 등', '미끄럼틀, 그네 등', '게이트볼장, 풋살경기장', '10조12종', '5조9종', '11조14종', '5조7종', '3조4종', '5조8종', '2조3종', '6조8종', '4조8종', '옥외수영장, 실내수영장(아쿠아시스), 다목적운동장, 길거리농구장, 풋살경기장, 파크골프장', '축구경기장, 야구경기장, 수영장, 헬스장, 테니스장, 스쿼시장, 인라인장, 사격장, 궁도장, 론볼장', '배드민턴장 게이트볼장 족구장', '실내배드민턴장, 구민운동장, 다목적체육관, 골프연습장', '체력단련시설 5점', '체력단련시설 6점', '체력단련시설 3점', '체력단련시설 9점', '체력단련시설 2점', '체력단련시설 4점', '운동장 1개소, 테니스장 1개소, 체력단력시설 95점', '운동장 1개소, 테니스장 1개소, 수영장 1개소, 배드민턴 2개소, 게이트볼 1개소, 체력단력시설 56점', '체력단련시설 12점', '체력단련시설 7점', '운동장3개소, 배드민턴 2개소, 체력단련시설 84점', '배드민턴장 1개소, 체력단련시설 65점', '체력단련시설 8점', '체력단련시설 11점', '운동장 1개소, 배드민턴 2개소, 체력단력시설 14점', '체력단련시설 15점', '베드민턴장,운동기구', '회전무대,정글집,농구대,베드민턴장,운동기구', '베드민턴장,농구대,운동기구', '농구대,베드민턴장,게이트볼구장,운동기구', '베드민턴장,게이트볼구장,이라인스케이트장,운동기구', '베드민턴장,게이트볼구장,테니스장,운동기구', '농구대,베드민턴장,게이트볼구장,X게임장,운동기구', '농구대,베드민턴장,운동기구', '베드민턴장,축구장,풋살구장', '야외운동기구 3, 농구대', '축구장, 족구장, 야외운동기구 10', '축구장, 야외운동기구 11', '배드민턴장, 야외운동기구 4', '지압로 1', '축구장, 풋살장, 야외운동기구 13', '빙상경기장,베드민턴장,운동기구', '사격장', '철봉 등 6종', '철봉 2', '운동기구 6종', '운동기구 3종', '축구장 2면', '운동기구 1종', '운동기구 8종', '운동기구 19종', '운동기구 12종', '운동장, 수영장, 야외운동시설', '베드민턴장, 야외운동시설', '베드민턴장, 테니스장, 야외운동시설 등', '테니스장, 야외운동시설', '게이트볼장, 야외운동기구', '축구장,농구장,족구장,게이트볼장,배드민턴장 등', '운동기구 4', '배드민턴장,농구대,족구대', '배드민턴장,농구장,체력단련장', '운동기구5,게이트볼장', '배드민턴장,농구장 등', '운동기구 등 6', '다목적운동장,배드민턴장 등', '운동기구 등 31,체육관', '농구장,체력단련시설', '족구장,체력단련시설', '풋살장,체력단련시설', '풋살장,배드민턴장', '운동시설물 3', '운동기구 등 10', '운동기구 3', '생활체육공간', '운동기구 등 5', '운동기구 등 8', '운동기구 등 4', '생활체육공간,지압보도', '운동기구 등 9', '운동기구 등 7', '운동기구 등 3', '운동기구 등 25', '운동기구 등 13', '운동기구 9', '체력단련시설,게이트볼장', '체력단련시설,인조잔디구장', '체력단련시설,배구장', '체력단련시설,농구대', '체력단련시설,족구장', '체력단련시설,X게임장', 'X게임장', '체력단련시설,운동장,풋살장', '체력단련시설,풋살장', '체력단련시설,배드민턴장,농구장,풋살장', '철재운동기구 9', '생활체육시설 5', '윗몸일으키기 1, 평행봉 1, 철봉 1', '체력단련시설 6', '생활체육시설 6', '농구골대 2, 생활체육시설 9', '축구골대 2, 심판대 2, 과녁 4, 테니스장심판대 4, 테니스네트 4, 족구대 2, 농구골대 2, 테니스장대기장 2, 게이트볼장 1', '2단철봉 1, 어깨유연성운동 1, 윗몸일으키기 1, 앉아밀기 1, 양팔줄당기기 1, 허리돌리기 1, 등허리지압기 1, 파도타기 1, 온목허리돌리기 1, 온몸근육풀기 1, 다리펴기 1, 양어깨돌리기 1, 전신운동 1, 복합운동기 1', '등허리근육풀기 2, 허리돌리기 2, 상체근육풀기 2, 공중걷기 1, 파워프레스 1, 바디싣업 1, 배드민턴 지주 1, 트위스트 1', '등허리근육풀기 1, 허리돌리기 1, 상체근육풀기 1, 공중걷기 1, 파워프레스 1, 바디싣업 1, 트위스트 1', '파워프레스 1, 바디싣업 1, 트위스트 1, 터닝암 1', '등허리근육풀기 1, 허리돌리기 1, 상체근육풀기 1, 공중걷기 1', '파워프레스1, 바디싣업 1, 트위스트 1, 터닝암 1', '입식트위스트 1, 롤링트위스트 1, 입식싸이클 1', '허리돌리기 1, 등허리지압기 1, 파도타기 1, 잠자리조합놀이대 1', '트리플트위스트, 스텝사이클', '허리돌리기, 마라톤운동, 몸통돌리기', '전신하늘걷기, 다리쭉뻗치기', '온몸역기내리기, 등허리지압기, 온몸역기올리기', '온몸노젓기, 등허리지압기, 어깨근육풀기, 마라톤운동, 하체근육운동, 하늘걷기', '축구장, 족구장겸농구장, 육상트랙', '농구장, 다리말아올리기, 몸체말아올리기, 윗몸일으키기, 허리돌리기, 역기대, 의자겸팔굽혀펴기', '팔굽혀펴기, 허리돌리기, 배드민턴코드, 철봉, 인라인트랙, 자전거발전기', '복합형운동기구, 온몸노젓기', '플웨이트, 스텝사이클, 크라임스템퍼']\""
      ]
     },
     "execution_count": 63,
     "metadata": {},
     "output_type": "execute_result"
    }
   ],
   "source": [
    "gym = df1['공원보유시설(운동시설)'].unique().tolist()\n",
    "gym = str(gym)\n",
    "gym"
   ]
  },
  {
   "cell_type": "code",
   "execution_count": 64,
   "id": "e5843f6d",
   "metadata": {},
   "outputs": [],
   "source": [
    "import re"
   ]
  },
  {
   "cell_type": "code",
   "execution_count": 65,
   "id": "41ff2d3e",
   "metadata": {},
   "outputs": [
    {
     "data": {
      "text/plain": [
       "'[.4.,..7.,.nan,..8.,..5.,..6.,..3.,..10.,..14.,..9.,..30.,..2.,..13.,..12.,..40.,..17.,..-.,..농구장.,..궁도장.,..풋살구장.,..풋살구장,.농구장,.인라인스케이트장.,..축구장.,..족구장.,..게이트볼장.,..운동기구14개,.농구장2개소,.족구장1개소.,..운동기구6개,.족구장1개소.,..운동기구10개.,..운동기구4개.,..운동기구7개.,..에어로빅장,.농구장.,..테니스장,.씨름장,.농구장.,..바디싣업1,스트레칭롤러1,전신돌리기1,허리안마기1,허리비틀기1.,..TM스탭사이클1,TM체어웨이트1,TM트윈바디싣업1,TM트윈트위스트1,TM크로스컨트리1,TM풀웨이트1.,..철봉1.,..하늘걷기1,마라톤운동1,허리돌리기1,3단철봉,윗몸일으키기1.,..철봉1,팔굽혀펴기1,몸통돌리기1,허리좌우로흔들기1.,..스트레칭롤러1,풀웨이트1,바웨이트1.,..하늘걷기1,온몸허리돌리기1,스트레칭기1,거꾸로매달리기1.,..하늘걷기1,온몸허리돌리기1,등허리지압기1,철봉3.,..스탭싸이클1,풀웨이트1,트리플트위스트2,트윈바디싣업1,크로스컨트리1,스트레칭롤러1,트윈워밍암1.,..하늘걷기2,스탭싸이클1,체어폴1,철봉1,트리플트위스트2,트윈바디싣업1.,..윗몸일으키기1,온몸허리돌리기1,팔굽혀펴기1,다리뻗치기1,온몸허리돌리기1,거꾸로매달리기1.,..하늘걷기1,온몸허리돌리기1,옆파도타기1.,..크로스워킹.스카이워킹1,파워프레스.풀웨이트1,싸이클론.트위스트1,스탠드업.마사지롤1,사이드스윙.터닝암1,푸시웨이트.레그프레스1.,..평행봉1.,..트윈바디싣업1,트윈트위스트1,스탭싸이클1,크로스컨트리1,체어풀1.,..크로스컨트리1,자전거팔뻗기2,등안마기1,트윈워밍암1,체어웨이트1,오버턴스트레칭1.,..크로스컨트리1,롤링웨이스트1,레그프레스1,트윈트위스트1,체어웨이트1.,..족구장1,역기1.,..등지압기1,마라톤운동.공중걷기운동1,허리돌리기.온몸돌리기1,.온몸역기올리기.온몸근육풀기1.,..트리플트위스트1,트윈바디싣업1,크로스컨트리1,체어웨이트1,롤링웨이스트1,레그프레스1,오버턴스트레칭1.,..윗몸일으키기2,트리플트위스트2,평행봉1.,..크로스컨트리1,.레그프레스1,체어웨이트1,롤링웨이스트1,트윈바디싣업1,레그스트레칭1.,..크로스컨트리1,어깨근육풀기1,체어웨이트1,트윈바디싣업1(구형),트리플트위스트1(구형).,..게이트볼장1,운동시설10.,..축구장,족구장.,..족구장1.,..운동기구5.,..운동기구4.,..축구장.배드민턴장.농구장.,..배드민턴장.족구장.,..농구대.,..배드민턴장.,..배드민턴장.농구대.,..농구장.1개소,.배드민턴장.13,.게이트볼장.1개소..체력단련시설.25개소.189기.등.,..배드민턴장.2개소,.체력단련시설.6개소.36개.,..배드민턴장.1개소,.농구장.1개소,.체력단련시설.3개소.29개.,..다목적체육관.1동,.체력단련시설.1개소.4개.,..배드민턴장.1개소,.농구정.1개소,.체력단련시설.1개소.7개.,..농구장.1개소,.체력단련시설.1개소.5개.,..체력단련시설.1개소.4개.,..체력단련시설.1개소.3개.,..없음.,..배드민터장.1개소,.체력단련시설.1개소.6개.,..족구장.1개소,.농구장.1개소,.체력단련시설.1개소.5개.,..체력단련시설.1개소.6개.,..체력단련시설.1개소.2개.,..체력단련시설.1개소.7개.,..체력단련시설.1개소.7개,.농구장.1개소.,..운동장.1개소,.체력단련시설.1개소.4개.,..체력단련시설.1개소.5개.,..체력단련시설.2개소.5개.,..체력단련시설.1개소.,..하늘걷기.마라톤운동.,..하늘걷기,.마라톤운동.,..벤치.,..체력단련.,..철봉.팔굽혀펴기.평행봉.허리돌리기.배근력대.,..스텝싸이클.체어플.트윈바디싣업.,..역기내리기운동.역기올리기운동.노젓기운동.허리돌리기운동.양다리운동.옆파도타기운동.원그리기운동.,..달리기.아래로당기기.앞으로밀기.체어풀.허리돌리기.공중걷기.윗몽일으키기.등허리지압기.하체흔들기.온몸근육풀기.,..등허리지압기.온몸근육풀기.,..마라톤운동.양다리운동.등허리근육풀기운동.옆파도타기운동.,..역기올리기운동.양다리운동.옆파도타기운동.원그리기운동.,..노젓기운동.허리돌리기운동.양다리운동.옆파도타기운동.원그리기운동.,..역기내리운동.역기올리기운동.양다리운동.옆파도타기운동.,..역기내리기운동.역기올리기운동.양다리운동.옆파도타기운동.원그리기운동.,..역기내리기운동.역기올리기운동.양다리운동.옆파도타기운동.,..다목적구장.,..체력단련장.,..체육시설.,..궁도장,게이트볼장,테니스장.,..간이운동기구.,..간이운동기구.농구장.,..간이운동기구.게이트볼장.,..간이운동기구.족구장.,..풋살장,.농구장,.그라운드골프장,.운동기구.,..운동기구.,..미조성.,..배드민턴장_농구장.,..다목적구장(농구_풋살).,..축구장_테니스_배드민턴장_다목적구장.,..파크골프장_배드민턴장.,..풋살장_게이트볼장.,..배드민턴장_엑스게임장.,..윗몸일으키기,공중걷기,마라톤운동.등.,..마라톤운동,하체돌리기.공중걷기.등.,..레그프레스,워밍암.등.,..크로스컨트리,스트레칭로라.등.,..윗몸일으키기,역기올리기.등.,..농구장,하늘걷기,허리돌리기.등.,..공중걷기,허리돌리기.등.,..농구골대,야외.헬스기구.,..트위스트,스카이워킹.등.,..공중걷기,자전거타기,윗몸일으키기.등.,..철봉,허리돌리기.등.,..윗몸일으키기,.다리벌리기,.팔굽혀펴기.등.,..윗몸일으키기,자전거타기,공중걷기.등.,..베드민턴.,..풋살장.,..족구장,.농구장.,..정구장,육상트랙,축구장.,..풋살장,론볼장게이트볼장.,..산책데크시설.,..배드민턴장,운동기구.,..다목적구장운동기구.,..농구장,족구장.,..농구장,배드민턴장.,..체육시설지구.,..축구장,테니스장,파크골프장,산악자전거,체육관.,..게이트볼장,족구장,농구장,운동기구.,..축구장,테니스장,운동기구.,..족구장,운동기구.,..배드민턴장,체육시설지구족구장.,..족구장,농구장.,..양궁장.,..자연체험장.,..축구장,.인라인스케이트장,.밸런스바이크장.,..운동공원.1개소,.체력단련시설.17개소.,..농구장.1개소,.족구장.1개소,.운동기구.4개소.,..체력단련장.1개소,.체력단련시설.6개소.,..국궁장(영주정).1개소,.체력단련시설.5개소.,..국궁장.2동,.운동장.1기,.체력단련장.1기.,..체력단련시설.4개소.,..체력단련시설.3개소.,..국궁장1.1개소,.국궁장2.1개소,.체력단력장1.1개소,.체력단련장2.1개소,.체력단련시설.19개소.,..체력단련장,국궁장,게이트볼장,배드민턴장,.다목적운동장,.테니스장.,..농구장,.풋살경기장.,..수영장,.게이트볼장.,..체력단련시설.,..농구장,운동기구.,..다목적운동장.,..야외체력단련시설.,..야외체력단련시설,.족구장,.농구장.,..야외체력단련시설,.게이트볼장.,..야외체력단련시설,.테니스장.,..체력단련장,.다목적운동장,.게이트볼장.등.,..어린이운동시설.,..배드민턴,탁구,헬스,정구.,..헬스,배드민턴,궁터.,..운동장,배드민턴.,..조성계획.미수립.,..조성중.,..다목적운동장,.야외운동장.,..테니스장,.실내체육관.,..궁도장,.신체단련장.,..게이트볼장,.농구장.,..농구장,.배드민턴장.,..배드민턴장,.발지압장.,..풋살장,.배드민턴장,.족구장.,..암벽등반,.실내체육관,.배드민턴장.,..맨발공원,.농구장,.족구장.,..테니스장,.암벽등반.,..배드민턴장,.체력단련장.,..풋살장,.배드민턴장,.다목적구장.,..배드민턴장,.게이트볼장.,..야외운동기구.,..배드민턴장,.운동기구.,..국궁장,.골프연습장.,..배드민턴장,.골프연습장.,..다목적운동장,.배구장.,..배드민턴장4,.게이트볼장,.체력단련장.,..체육센타,.게이트볼장.,..다목적운동장,.체력단련장.,..게이트볼장,.배드민턴장.,..테니스장.배구장.,..운동체육시설.,..놀이터.,..운동장,.배드민턴장.,..실내체육관,.체력단련장.,..생활체육시설지.,..체력단련장,.게이트볼잘.,..체력단련장,.배드민턴장.,..체육시설물.,..운동시설지,.농구장.,..풋살경기장,.운동시설물.,..농구장,.운동기구.,..운동기구,.국궁장.,..생활체육운동기구6종,.배드민턴장.,..풋살장2면,.족구장1면,.농구대2EA,.생활체육운동기구2종.,..농구장1면,.게이트볼장,.인라인스케이트장,.풋살장1면,.생활체육운동기구5종.,..농구대2EA.,..생활체육운동기구6종.,배드민턴장.,..생활체육운동기구3종.,..생활체육운동기구5종.,..농구대1EA,.철봉2EA,.생활체육운동기구1종.,..생활체육운동기구2종.,..축구장1면,.테니스장4면,.게이트볼장,.암벽장.,..생활체육시설3종.,..다목적운동장,.농구장2EA,.게이트볼장,.생활체육시설3EA,.배드민턴장.,..축구장.2,.족구장.18,.조정경기장.1.,..엑스게임장.1.,..배드민턴장.2,.농구장.1.,..배드민턴장.3,.게이트볼장.1.,..농구장.1.,..게이트볼장.1.,..운동시설1.,..운동시설6.,..운동기구1.,..운동기구2.,..풋살장1.,..농구대1,.운동기구6.,..운동기구12.,..운동기구3,.베드민턴장1.,..운동시설4.,..체육시설7.,..체육시설9.,..체육시설3,.운동기구3.,..체육시설8,.운동기구1,.농구대1.,..체육시설4,.운동기구12.,..체육시설6,.운동기구1,.농구대2.,..체육시설5,.농구대1.,..체육시설3,.운동기구2.,..체육시설4,.철봉1.,..체육시설3.,..체육시설3,.운동기구3,.농구대2조합놀이대1,.시소2,.철봉1.,..체육시설5,.농구대2.,..운동기구9.,..운동시설2.,..농구장,.,..베드민턴장.,..인라인.,..족구장,.베드민턴장,.농구장.,..농구장,.족구장,.베드민턴장.,..테니스장.,..운동시설.5종.,..운동시설.7종.,..운동시설.9종.,..운동시설.10종.,..베드민턴장,.운동시설.3종.,..운동시설.4종.,..농구장,.운동시설.5종.,..농구장,.운동시설.7종.,..게이트볼장,.운동시설.5종.,..운동시설.3종.,..농구장,.운동시설.10종.,..운동시설.16종.,..운동시설.2종.,..운동시설.1종.,..농구장1.,..배드민턴장1.,..농구장1,배구장1,족구장1.,..게이트볼장1.,..축구장1,농구장1.,..게이트볼장1,운동기구10.,..운동기구11.,..운동기구13.,..운동기구10.,..운동기구7.,..대성묘지.,..운동기구16.,..운동기구,.농구장.,..운동기구,.족구장.,..미집행.,..축구장,.국궁장,.테니스장,.족구장,.농구장.,..야구장,.풋살장,.테니스장.,..운동기구.등.,..다목적구장.등.,..족구장.등.,..축구장.등.,..운동기구.7개.,..운동기구.8개소.,..운동기구.3개소.,..농구대1,운동기구5개.,..농구대1,운동기구6개.,..농구대1,운동기구7개.,..농구대1,운동기구4개.,..운동기구.4개.,..운동기구.5.,..운동기구2,농구대1.,..운동기구.4,.철봉.2.,..운동기구.8.,..시민운동장,실내체육관,씨름장,축구장,궁도장.,..생활체육관.,..게이트볼장,.다목적구장.,..배드민턴장,.농구장.,..풋살장,게이트볼장.,..스포츠센타,게이트볼장,테니장,국궁장,다목적체육관.,..다목적운동장,.체련단련장.,..족구장,배드민턴장.,..수영장.,..암벽장,.풋살장.,..축구장,야구장,농구장,인라이스케이트장.,..야외형.운동기구.,..게이트볼장,야외형.운동기구.,..배드민턴장.운동장.,..철봉,.허리돌리기,.하늘걷기.등.,..허리돌리기,.하늘걷기,.파도타기.등.,..테니스장,.족구장,.운동기구.,..족구장,.운동기구.,..풋살장,.배구장.,..배구장.,..테니스장,.게이트볼장.,..유소년축구장,.축구장관리실.,..유소년축구장.,..인라인장,.운동기구.,..농구장,.족구장,.운동기구.,..농구장,.배드민턴장,.족구장,.운동기구.,..농구장,.배드민턴장,.운동기구.,..야외운동기구,.게이트볼장.,..야외운동기구..,..야외운동기구,.배드민턴장.,..다목적운동장,.야외운동기구,.배드민턴장.,..야외운동기구,.농구장,.배드민턴장.,..다목적운동장,.야외운동기구.,..축구장,.테니스장,.배구,.배드민턴.,..축구장,.씨름장,.배구,.배스민턴.,..농구장.풋살경기장..체육시설.인라인트랙.,..축구장..테니스장..체육시설.,..야구장..운동장..족구장.,..테니스장..배드민턴장..체육시설.,..체육시설..농구장.,..인라인트랙.,..다목적운동장..체육시설.,..체육시설.인라인스케이장..농구장.,..체육시설..축구장.,..체육시설물..농구대.,..체율시설물.,..족구장..농구대..체육시설물.,..배드민턴장..체육시설.,..N.,..테니스장,배드민턴장.,..농구장,배드민턴장,게이트볼장.,..체력단련기구.,..미로길.,..축구장.테니스장.다목적운동장.,..다목적운동장.테니스장.배드민턴장.,..배드민턴장.게이트볼장.농구장.,..테니스장.축구장.다목적운동장.,..축구장.농구장.,..인조잔디구장.,..천연잔디구장.,..풋살경기장.족구장.게이트볼장.,..운동장.족구장.농구장.,..운동장.게이트볼장.,..다목적운동장.게이트볼장.,..게이트볼장,농구장.,..배드민턴장.농구장.,..배드민턴장.게이트볼장.,..농구장.롤러스케이트장.,..농구장.스포츠파크.,..배드민턴장.인라인스케이트장.,..농구장.배드민턴장.,..궁도장.테니스장.,..배드민턴장.게이트볼장.인라인스케이트장.,..체련단련장.,..다목적운동장.롤러스케이트장.,..다목적운동장.체력단련장.,..운동장.,..롤러스케이트장.,..인라인스케이트장.,..운동공간.,..체력단련장,.농구장,.족구장,.배드민턴장,.풋살장,.발맛사지장.,..허리돌리기.1대윗몸일으키기.1대오금펴기.1대파도타기.1대공중걷기.1대역기올리기.1대달리기운동.1대.,..이동식.농구대1개,.운동기구.5개소.,..이동식.농구대.1개,.운동기구.6개소.,..이동식.농구대1개,.운동기구.7개소.,..이동식농구대1개,.운동기구.4개소.,..운동기구.4개소.,..게이트볼장,농구장,운동장,인조잔디구장.,..소운동장.,..배드민턴,다목적구장,농구대.,..농구장,축구장,테니스장.,..축구장,테니스장.,..운동장,체육시설.,..배드민턴,족구,농구장,운동장,테니스장,풋살.,..배드민턴장(족구장겸용).,..게이트볼장,농구장,배드민턴장,테니스장.,..체육시설,농구대.,..골프연습장,농구장,테니스장,인조잔디구장.,..배드민턴장,게이트볼장.,..간이체육시설,산책로,자전거도로.,..풋살장,.간이운동시설.,..배드민턴장,.온몸근육풀기,.허리돌리기,.파도타기.,..윗몸일으키기,.파도타기,.허리돌리기,.온몸근육풀기.,..온몸근육풀기,.허리돌리기,.파도타기,.공중걷기.,..축구장,배드민턴장,테니스장.,..배드민턴장,.족구장.,..다목적운동장.실내배드민턴장.체력단련시설.,..게이트볼장.실내배드민턴장.체력단련시설.,..다목적운동장.체력단련시설.,..게이트볼장.족구장.체력단련시설.,..풋살장.인라인스케이트장.게이트볼장.농구장.다목적운동장.배드민턴장.파크골프장.체력단련시설.,..풋살구장.농구장.체력단련시설.,..게이트볼장.체력단련시설.,..농구장.야외배드민턴장.인라인스케이트장.실내배드민턴장.체력단련시설.,..풋살구장.농구장.족구장.실내배드민턴장.체력단련시설.,..멀티코트.체력단련시설.,..축구장.게이트볼장.농구장.인라인스케이트장.테니스장.실내배드민턴장.체력단련시설.,..국궁장.다목적운동장.농구장.실내배드민턴장.게이트볼장.체력단련시설.,..야외배드민턴장.축구장.테니스장.농구장.게이트볼장.실내배드민턴장.체력단련시설.,..축구장.실내배드민턴장.체력단련시설.,..야외배드민턴장.체력단련시설.,..농구장.체력단련시설.,..체력단련시설.운동장.,..체력단련시설.운동장(농구대).,..다목적운동장.게이트볼장.인라인스케이트장.체력단련시설.,..체력단련시설.운동장(축구골대,농구대).,..축구장.체력단련시설.,..족구장.체력단련시설.,..실내배드민턴장.게이트볼장.체력단련시설.,..실내다목적체육관.체력단련시설.,..체력단련시설.없음.,..다목적운동장.파크골프장.게이트볼장.체력단련시설.,..조합놀이대.그네.흔들놀이대.철봉.,..조합놀이대.정글짐.시소.흔들놀이대.,..조합놀이대.그네.시소.흔들놀이대.,..조합놀이대.정글짐.그네.흔들놀이대.,..조합놀이대.,..축구장.실내배드민턴장.배구장.씨름장.농구장.체력단련장.,..조합놀이대.흔들놀이대.,..테니스장.게이트볼장.체력단련시설.,..족구장.배드민턴장.체력단련시설.,..야외배드민턴장.,..농구장.야외배드민턴장.다목적운동장.체력단련시설.,..조합놀이대.그네.흔들놀이대.,..조합놀이대.그네.시소.,..조합놀이대.그네.시소.흔들놀이대.회전놀이대.,..조합놀이대.그네.흔들놀이대.철봉.평행봉.,..체력단련시설.게이트볼장.농구장.,..조합놀이대.흔들놀이대.암벽오르기.,..조합놀이대.흔들놀이대.놀이집.,..시소.흔들놀이대.,..조합놀이대.그네.,..농구장.족구장.,..족구장.등2.,..X-게임장.,..농구장.배드민턴장.인라인스케이트장.,..농구장.족구장.,..족구장.배드민턴장.게이트볼장.,..축구장.등4.,..테니스장.농구장.족구장.배드민턴장.,..축구장.등6.,..농구장.배드민턴장.게이트볼장.X-게임장.,..배트민턴장.,..축구장.야구장.배드민턴장.테니스장.농구장.,..족구장.등3.,..배드민턴장.족구장.그라운드골프장.,..다목적구장.등3.,..족구장.배드민턴장.게이트볼장.농구장.,..배드민터장,.운동기구3종.,..운동기구.9종.,..운동기구.16종.,..테니스장,.베드민턴장,.게이트볼장,.농구장.,..농구장,.체력단련시설.,..배드민턴장,.족구장,.체력단련시설.,..체력단련시설,.배드민턴장,.풋살장,.게이트볼장,.인라인장,.농구장,.인공암벽,.파크볼장.,..체련단련시설.,..좌식사이클,.배드민턴장.,..풀웨이트.,..체어웨이트.,..배드민턴,.체력단련시설.,..게이트볼장,.농구장,.배드민턴장.,..체력단련시설,.족구장,.배드민턴장.,..체력단련시설,.지압보도.,..좌식사이클.,..운동기구.5종.,..운동장,.배드민턴장,.게이트볼장.등.,..다목적.인조잔디마당.,..테니스장,.배드민턴장.등.,..테니스장.등.,..체력단련장,.체력단련시설,.턱걸이,.윗몸일으키기,.팔굽혀펴기,.역기들기.,..농구장,.게이트볼장,.체력단련시설.,..다목적운동장,.농구장,.잔디볼링장,.배구장,.테니스장,.게이트볼장,.배드민턴장,.체력단련장.,..다목적운동장,.농구장,.테니스장,.게이트볼장,.체력단련장,.조깅코스,.배드민턴장,.인라인스케이트장.,..농구장,.게이트볼장.,..풋살경기장.,..배드민턴장,.족구장,.게이트볼장,.농구장.반코트.,..배드민턴장,.지압보도.,..게이트볼장2,배드민턴1,족구장1,운동기구55.,..게이트볼장1,운동기구26.,..게이트볼장1,배드민턴장1,운동기구92.,..운동기구42.,..농구대2,배드민터1운동기구3.,..운동기구54.,..운동기구70,농구대1,배드민턴3.,..운동기구15.,..운동기구22,농구대1.,..운동기구32,농구대1,배드민턴1.,..운동기구22,게이트볼장1,농구대2,베드민턴장1,족구장1.,..운동기구28,게이트볼장1,농구대1,배드민턴장1.,..운동기구30.,..운동기구27.,..운동기구68,게이트볼장1,배드민턴장3.,..농구대1,테니스장1.,..농구대2,배드민턴장2.,..다목적운동장1.,..운동기구3.,..운동기구5,농구대2,배드민턴1.,..운동기구40.,..수영장1.,..축구장1.,..운동기구17,농구대1.,..운동기구11,게이트볼장1.,..운동기구9,농구대1.,..운동기구19.,..운동기구21.,..운동기구10,농구대1.,..운동기구5,농구대2.,..운동기구5,게이트볼장1.,..운동기구7,게이트볼장1.,..운동기구7,농구대2.,..운동기구5,농구대1.,..운동기구6,배드민턴장1.,..운동기구5,농구대1,롤러스케이트장1.,..운동기구7,농구대2,배드민턴장1.,..운동기구13,농구대1,배드민턴장1.,..운동기구15,농구대1,배드민턴장1.,..운동기구6.,..운동기구9,농구대1,다목적운동장1.,..농구대2,미니축구장1.,..운동기구4,배드민턴장1.,..운동기구29.,..운동기구3,농구대1.,..운동기구7,농구대1,다목적운동장1.,..운동기구8.,..운동기구16,농구대1,배드민턴장1.,..운동기구3,농구대2.,..운동기구4,농구대2.,..운동기구3,게이트볼장1.,..운동기구2,농구대2.,..운동기구6,농구대2.,..운동기구2,농구대3.,..운동기구6,농구대1.,..운동기구5,농구대1,배드민턴장1,족구장1.,..운동기구26,농구대1,다목적운동장1.,..농구대1.,..운동기구10,배구장1.,..농구대2,다목적구장1,롤러스케이트장1,운동기구5.,..축구장1,농구대2,테니스장2,게이트볼장1,체육관1.,..족구장,.배드민턴장.,..테니스장,.농구장,.풋살장,.배드민턴장.,..게이트볼장,.테니스장.,..다목적운동장,.배드민턴장.,..게이트볼장,.배드민턴장,.농구장.,..다목적은동장.,..다목적운동장,.게이트볼장.,..다목적운동장,.게이트볼장,.배드민턴장.,..다목적운동장,.게이트볼장,.농구장.,..다목적운동장,.농구장.,..실내체육관.,..생활운동시설.,..배드민턴장,.농구장,.다목적.운동장.,..야외헬스기구.,..배드민턴장,.야외헬스기구.,..멀티스포츠센터.,..족구장,.야외헬스기구.,..인라인스케이트장,.야외헬스기구.,..지압보도.,..농구장.1면,.마라톤.1면,.게이트볼장.1면,.테니스장.1면,.다목적구장.1면.,..농구대.2개.,..농구대.1개,.지압보도.,..농구대.1개.,..족구장.1면.,..정구장1,.지압보도1,.,..게이트볼장1,.축구장1,.테니스장1,.족구장1,.,..다목적구장1.,..농구장,.배드민턴장,.족구장,.테니스장,.X게임장.,..농구장,.배드민턴장,.족구장,.인라인스케이트장.,..농구장,.배드민턴장,.족구장,.축구장,.테니스장.,..족구장.1면,.배더민턴장.2면.,..농구장.1면.,..테니스장.3면,.배더민턴장.,..농구장.1면,.족구장.1면,.배더민턴장.2면,.인라인스케이트장.,..족구장.1면,.정구장.3면.,..배더민턴장.1면.,..게이터볼장.1면.,..족구장.1면,.배더민턴장.1면.,..농구장.1면,.족구장.1면,.배더민턴장.1면.,..농구장.1면,.족구장.2면,.테니스장.1면,.배더민턴장.2면.,..게이트볼장,.배드민턴장,.족구장.,..족구장,.배드민턴장,.운동장.,..풋살경기장,.축구장,.농구장.,..농구장.1면,.파크골프장1면,.게이트볼장1면,.테니스장1면,.다목적구장1면,.지압보도.,..마라톤.1면.,..농구대.2개,.마라톤,.지압보도.,..농구대.4개,.지압보도.,..농구장.1면,.마라톤.1면,.인라인스케이트장.1면,.게이트볼장.1면,.테니스장.1면,.미니축구장.1면.,..다목적운동장,족구장,테니스장,농구장.,..풋살장,.리틀야구장,,.다목적체육관.,..다목적체육관.,..풋살장,농구장,테니스장,족구장.배드민턴장,게이트볼장.등.,..배드민턴장(족구장겸),.운동시설.등.,..배드민턴장,.농구장,.게이트볼장,.체력단련장.등.,..족구장,.풋살장.,..축구장,.풋살장,.농구장,.축구장,.론볼링장,.궁도장,.썰매장,.간이수영장,.다목적구장.,..농구장,.게이트볼장,.배드민턴장.,..족구장,.농구장,.배드민턴장,.축구장,.인라인장.,..테니스장,.족구장,.다목적운동장.,..다목적운동장,.농구장,.체력단련시설.등.,..체력단련시설.및.극기훈련시설.,..야외체육시설(팔굽혀펴기.등).,..야외체육시설(온몸근육풀기.등),.족구장.,..체력단련장,.야외체육시설.,..야외체육시설(트윈워밍암.등).,..야외체육시설(온몸허리돌리기.등).,..산책로.,..0.,..1.,..19.,..11.,..육상경기장·게이트볼장·배구장·배드민턴장·농구장·체력단련장·골프연습장·풋살경기장·자연체험장·국민체육센터·테니스장·역도훈련장.,..축구장·트랙·다목적체육시설·씨름장·체력단련시설.,..온몸근육풀기외.2종.,..온몸노젓기외.4종.,..양팔줄당기기외.10종.,..오팔펴기.외.19종.,..달리기.외.7종.,..하늘걷기.외.3종.,..배드민턴지주.등.,..하늘걷기.외.8종.,..하늘걷기.외.7종.,..크로스켠트리외.3종.,..윗몸일으키기외.2종.,..평행봉.외.9종.,..배근력대.외.2종.,..배근력대.외.4종.,..크로스켠트리.외.12종.,..농구대.외.16종.,..농구대.외.2종.,..평행잡기.외.13종.,..배드민턴네트.외.7종.,..2단철봉.외.12종.,..평행봉.5종.,..3단철봉.7종.,..허리돌리기.외.4종.,..옆파도.외.6종.,..3단.철봉.외.3종.,..양팔줄당기기2인.외.1종.,..배드민턴장.외.3종.,..3단철봉.외.6종.,..평행봉.외.8종.,..배드민턴.외.9종.,..어깨근육2인.외.3종.,..양팔줄당기기.외.6종.,..평행봉.외.7종.,..3단철봉.외.1종.,..윗몸일으키기.외.12종.,..평행봉.외.6종.,..윗몸일으키기.외.3종.,..거꾸리.외.7종.,..어깨근육풀기.외.3종.,..농구대.등.,..온몸허리돌리기.외.15종.,..3단철봉.외.2종.,..어께근육풀기.외.7종.,..양팔줄당기기.외.7종.,..윗몸일으키기.외.7종.,..하체흔들기.외.3종.,..3단철봉.등.,..온몸허리돌리기.외.9종.,..윗몸일으키기.외.10종.,..평행봉.외.2종.,..족구지주.외.3종.,..허리돌리기.외.2종.,..배드민터코트.외.4종.,..농구대.외.4종.,..배근력대.외.3종.,..어깨근육풀기.외.2종.,..배드민턴.지주대..등.,..하체흔들기.외.12종.,..양팔줄당기기외.5종.,..하체흔들기.외.7종.,..허리돌리기.외.8종.,..온몸근육풀기.외.20종.,..축구장,.테니스장,.족구장,.농구장,.게이트볼장.,..배드민턴장,.궁도장.,..야외헬스형운동기구.5개.,..야외헬스형운동기구.6개.,..야외헬스형운동기구.8개.,..야외헬스형운동기구.1개.,..야외헬스형운동기구.7개.,..야외헬스형운동기구.3개.,..야외헬스형운동기구.4개.,..야외헬스형운동기구.2개.,..야외헬스형운동기구.9개.,..야외헬스형운동기구.52개.,..야외헬스형운동기구.20개.,..야외헬스형운동기구.86개.,..야외헬스형운동기구.17개.,..야외헬스형운동기구.14개.,..야외헬스형운동기구.30개,.농구장.,..야외헬스형운동기구.7개,.게이트볼장,.다목적운동장.,..야외헬스형운동기구.10개.,..야외헬스형운동기구.24개.,..야외헬스형운동기구.25개,.게이트볼장,.배드민턴장.,..야외헬스형운동기구.20개.배드민턴장,.다목적운동장.,..야외헬스형운동기구.21개.,..야외헬스형운동기구.20개,.다목적운동장,.조깅트랙.,..배드민턴장,.게이트볼장,.야외헬스형.운동기구.98개.,..야외헬스형운동기구.25개.,..야외운동기구.10.,..야외운동기구.6.,..야외운동기구.4.,..축구장.1,.다목적구장.2,.야외운동기구.13.,..야외운동기구.4,.축구장(인조)1,.배구장.1,.족구장.1.,..테니스장.1,.야외운동기구.1.,..풋살.1,.족구장.2.,..테니스장.1,.,..야외운동기구.3.,..야외운동기구.3,.농구장.1.,..야외운동기구.3,.게이트볼장.,..축구장1,.게이트볼장1,..파크골프장1,.실내체육관1,.체력단련실.1,.실내수영장1,.야외농구장.1,.야외운동기구.1식.,..야외운동기구.6,.농구장.1.,..축구장.1,.족구장1,.농구장.1,..야외운동기구.10.,..축구장.1,.그라운드골프장.1,.야외운동기구.11.,..배드민턴장.1,.야외운동기구.4.,..야외운동기구.7.,..야외운동기구.18.,..야외운동기구.12.,..야외운동기구.14.,..지압로.32㎡.,..지압로.23㎡.,..등의자.6.,..게이트볼장,풋살경기장.,..농구장,배드민턴장,역기,윗몸일으키기.등.,..축구장,족구장,배드민턴장,농구장.,..윗몸일으키기,팔굽혀펴기,철봉,평행봉.,..농구장,배드민턴장,테니스장.,..윗몸일으키기,허리돌리기.,..농구장,배드민턴장,생활체육시설.등.,..체력단련장,게이트볼장,인라인장.,..농구장,생활체육시설.등.,..평행봉,철봉.,..철봉,평행봉.,..게이트볼장,생활체육시설,철봉.,..생활체육시설.,..농구대,생활체육시설,철봉,평행봉.,..게이트볼장,생활체육시설,윗몸일으키기,팔굽혀펴기.,..철봉,생활체육시설,팔굽혀펴기.,..조합놀이대,가위말차기.,..농구대,철봉.,..게이트볼장,테니스장,윗몸일으키기,평행봉,생활체육시설등.,..농구장,테니스장,게이트볼장,윗몸일으키기,평행봉.등.,..배드민턴장,생활체육시설.,..게이트볼장,배드민턴장,농구장,철봉등.,..농구대,생활체육시설.,..농구대,철봉,평행봉.,..생활체육시설,철봉,평행봉.,..배드민턴장,생활체육시설.등.,..농구대,배드민턴장,생활체육시설.,..배드민턴장,농구대,생활체육시설,철봉.,..축구장,배드민턴장.,..국궁장,.체력단련시설,.배드민턴장.,..체력단련시설,.배드민턴장,.족구장.,..체력단련시설,.농구장,.게이트볼장.,..배드민턴장,족구장,농구장.,..배드민턴장,족구장,축구장.,..배드민턴장,족구장,축구장,농구장.,..배드민턴장,족구장.,..배드민턴장,.족구장,.테니스장.,..배드민턴장,농구장,게이트볼장.,..배드민턴장,농구장,멀티코트,파크골프장,족구장.,..배드민턴장,농구장,게이트볼장,씨름장,러버가든.,..인조잔디구장,.게이트볼장,.야외운동기구.,..국궁장,.게이트볼장.,..인라인스케이트장,.야외운동기구.,..인조잔디구장,.야외운동기구.,..베드민턴장,.야외운동기구.,..농구장,.야외운동기구.,..게이트볼장,.농구장,.야외운동기구.,..체력단련장.3개소.,..도시개발.,..체육진흥.,..관광개발.,..25.,..29.,..71.,..야구장,.축구장,.다목적구장.,..축구장,.베드민턴장,.농구장,.족구장,게이트볼장,다목적구장.,..농구장,베트민턴장.,..풋살장,.농구장,.족구장.,..배드민턴장.2개소.,..농구장,.배드민턴장,.축구장.등.,..농구장,.배드민턴장.등.,..허리돌리기,.다리흔들기,.다리올리기,.온몸펴기.등.,..철봉,.평행봉,.허리돌리기,.공중걷기.등.,..철봉,.평행봉.공중걷기,.허리돌리기.등.,..허리돌리기,.철봉,.평행봉,.역기올리기.등.,..족구장,.허리돌리기,.공중걷기.등.,..역기올리기,.롤링웨이스트,.트위스터.등.,..평행봉,.트위스트,.허리돌리기.등.,..축구장,.철봉,.평행봉,.허리돌리기.등.,..평행봉,.허리돌리기,.팔비틀기.등.,..온몸펴기,.공중걷기,.허리돌리기.등.,..평행봉,.다리흔들기,.허리돌리기.등.,..농구장,.헐리돌리기,.공중걷기.등.,..농구장,.그라운드골프장.등.,..농구장.등.,..허리돌리기,.공중걷기.등.,..허리돌리기,.배드민턴장.,..평행봉,.철봉,.공중걷기.등.,..공중걷기.,..스트레칭로라,.공중걷기,.팔돌리기.등.,..트윈트위스트..롤링웨이스트.,..공중걷기,.팔돌리기.등.,..트윈트위스트,.롤링웨이스트.등.,..허리돌리기,.파도타기,.공중걷기.등.,..철봉,.허리돌리기,.팔돌리기.등.,..파도타기,.공중걷기,.허리돌리기.,..파도타기,.공중걷기,.팔돌리기.등.,..공중걷기,.파도타기,.허리돌리기.,..허리돌리기,.공중걷기,.파도타기.등.,..오금펴기,.달리기운동,.오금펴기.등.,..크로스컨트리,.트윈트위스터,.롤링웨이스트.등.,..공중걷기,.허리돌리기,.공중걷기,.역기올리기.등.,..허리돌리기,.롤링웨이스트.등.,..농구장,.허리돌리기.등.,..허리돌리기,.평행봉,.철봉.,..허리돌리기,.팔돌리기.등.,..허리돌리기.,..허리돌리기,.농구장.,..터닝트위스트,.워밍암,.롤링웨이스트.,..허리돌리기,.철봉,.평행봉.등.,..공중걷기,.허리돌리기.,..공중걷기,.허리돌리기,.파도타기.등.,..공중걷기.등.,..허리돌리기,.윗몸일으키기.등.,..테니스장,.허리돌리기,.파도타기,.공중걷기.등.,..농구장,.허리돌리기,.팔돌리기.등.,..축구장,.농구장,.족구장.등.,..옆파도타기,.마라톤운동,.하늘걷기.등.,..레일바이크,.이색자전거길.,..실내체육관,.인조잔디구장3,.풋살장,.체력단련장.,..축구장,.농구장,.게이트볼장,.체력단련장.,..테니스장,.축구장.,..주민체육시설,.운동시설.,..조기체육장.등.,..다목적운동장.등.,..베드민턴장.등.,..농구장,.베드민턴장.등.,..축구장,.농구장,.베드민턴장.등.,..인라인장,.베드민턴장.등.,..게이트볼장,.농구장.등.,..농구장,.족구장,.인라인스케이트장.,..농구장,.베드민턴장,.다목적구장.,..배드민턴장1,.체력단련시설9.,..배드민턴장6,.체력단련시설303.,..체력단련시설6.,..체력단련시설12.,..체력단련시설7.,..배드민턴장1,.체력단련시설30.,..체력단련시설10.,..체력단련시설3.,..체력단련시설4.,..체력단련시설1.,..체력단련시설8.,..체력단련시설5.,..체력단련시설2.,..체력단련시설,.농구장.,..체력단련시설,.농구장,.배드민턴장,.축구장.,..체력단련시설,.배드민턴장.,..체력단련시설,.농구장,.배드민턴장.,..배드민턴장,.체력단련시설.,..배드민턴장,.농구장,.체력단련시설,.xgame시설.,..체력단련시설,.축구장,.배드민턴장.,..xgame시설.,..체력단련시설,.농구장,.배드민턴장,.추구장.,..파크골프장,.조깅트랙.,..실내체육관,.테니스장,.xgame시설.,..체력단련시설,.다목적운동장.,..배드민턴장,.체력단련기구.,..농구장,.체력단련기구.,..배드민턴장,.족구장,.체력단련기구.,..농구장,.배드민턴장,.체력단련기구.,..축구장,.농구장,.배드민턴장,.게이트볼장,.체력단련기구.,..테니스장,.배드민턴장,.골프연습장,.체력단련기구.,..배드민턴장,.게이트볼장,.체력단련기구.,..농구장,.게이트볼장,.체력단련기구.,..운동장,.농구장.,..게이트볼장,.테니스장,.다목적구장.,..배드민턴장,.농구장,.족구장.,..축구장,.족구장,.농구장.,..축구장,.족구장,.풋살장,.농구장.,..배드민턴장,.테니스장.,..배드민턴장,.인라인스케이트장.,..소규모운동장.,..족구경기장.4.,..실외운동기구.7.,..실외운동기구.,..x-game장.,..축구장,.게이트볼장,.테니스장.,..정구장,.소운동장,.체조장.,..풋살구장,.테니스장,.농구장,.족구장.,..에어서핑,.노르딕머신.에어워킹,.트위스트,.워밍쇼울더,.바디싯업.,..에어워킹,.에어서핑,.바디싯업.,..에어워킹,.트위스트.바디싯업,.마사지롤라,.에어서핑.,..노르딕머신,.마사지롤라,.트위스트,.에어서핑,.에어워킹,.워밍쇼울더.,..레그프레스,.워밍암,.트윈트위스트,.에어서핑,.마사지롤라,.에어워킹,.노르딕머신,.오리다리펴기.흔들코끼리,.캥거루허리돌리기.흔들코끼리,.사자스텝퍼.오리다리펴기.,..스트레칭롤라,.트윈바디싯업,.워밍암,.체어웨이트,.트윈트위스트,.롤링웨이스트,.크로스컨트리.,..마사지롤라,.트위스트,.캥거루허리돌리기.흔들코끼리,.사자스텝퍼.오리다리펴기,.오리다리펴기.흔들코끼리,.에어워킹,.노르딕머신,.워밍쇼울더,.에어서핑,.레그프레스.,..트윈바디싯업,.에어서핑,.노르딕머신,.사자스텝퍼.흔들코끼리,.캥거루허리돌리기.오리다리펴기,.흔들코끼리,.마사지롤라,.트윈트위스트,.워밍암,.에어워킹.,..하늘걷기,.등허리지압기,.에어서핑2,.에어워킹,.트위스트.,..온몸허리돌리기,.옆파도타기,.하늘걷기.,..트위스트,.워밍쇼울더,.에어서핑,.철봉,.평행봉.,..트위스트,.에어워킹,.에어서핑.,..마라톤운동,.옆파도타기,.온몸허리돌리기.,..크로스컨트리,.트윈바디싯업,.트윈트위스트,.스트레칭로라,.레그프레스,.롤링웨이스트,.워밍암.,..에어워킹,.싸이클링,.에어서핑,.체어웨이트,.풀웨이트,.스트레칭로라,.레그프레스,.하체마사지기,.좌식자전거,.트윈전신지압기,.전신스트레칭머신.,..풀웨이트,.트윈트위스트,.워밍암,.크로스컨트리.,..워밍쇼울더,.사이클링,.에어워킹,.마사지롤라,.트위스트.,..해당없음.,..트윈트위스트,.싸이클링,.워밍쇼울더.,..에어워킹,.워밍쇼울더,.에어서핑,.로우잉머신.,..자전거발전기,.근육풀기발전기,.허리돌리기발전기,.파도타기발전기.,..롤링웨이스트,.바디싯업,.체어풀,.스트레칭롤라,.체어웨이트,.워밍암.,..트위스트,.마사지롤라,.에어워킹,.싸이클링,.워밍쇼울더,.로우잉머신,.노르딕머신.,..스트레칭롤라,.롤링웨이스트,.트윈트위스트,.풀웨이트,.크로스컨트리.,..크로스컨트리,.풀웨이트,.트위스트.,..트윈바디싯업,.스트레칭롤라,.롤링웨이스트,.트윈트위스트,.크로스컨트리,.체어웨이트.,..워밍쇼울더,.에어서핑,.체어웨이트.,..레그프레스,.워밍암,.스텝사이클,.롤링웨이스트,.체어풀.,..스트레칭롤러,.트윈트위스트,.레그프레스,.크로스컨트리,.풀웨이트.,..운동기구.1식.,..농구장,.조깅코스.,..배트민턴장,.테니스장,.배구장,.농구장.,..농구장,.배구장,.배드민턴장,.축구장,.다목적운동장.,..풋살장,.농구대.,..농구장,.배드민턴장,.인라인장,.족구장.,..농구장,.족구장,.배드민턴장.,..농구대,.게이트볼장.,..베트민턴장,.게이트볼장.,..전통그네.,..철봉,.농구대.,..풋살경기장,.게이트볼장.,..인라인스케이트장,.농구장.등.,..축구장,.농구장.등.,..농구장,.축구장.,..윗몸일으키기.외3종.,..윗몸일으키기.외5종.,..다리굽혀펴기.외3종.,..크로스컨트리.외5종.,..공중걷기.외2종.,..게이트볼장.외6종.,..에어서핑.외2종.,..노르딕머신외5종.,..노르딕머신외.5종.,..트위스트외3종.,..평행봉.외7종.,..싸이클링외.3종.,..크로스컨트리외4종.,..철봉외6종.,..철봉.외.8종.,..팔굽혀펴기.외8종.,..허리돌리기.외4종.,..스트레칭로라외4종.,..농구대외6종.,..철봉외.7종.,..평행봉.외2종.,..스텝싸이클외4종.,..농구대외.8종.,..바디실업외.5종.,..노르딕머신외1종.,..베드민턴장외3종.,..노르딕머신외2종.,..허리돌리기외5종.,..농구대외3종.,..싸이클링.외.5종.,..싸이클링.외2종.,..싸아클링.외2종.,..베드민턴및.포스트.,..싸이클링외.6종.,..어깨관절놀이.외2종.,..농구대.외5종.,..어깨관절놀이.외3종.,..농구대외.5종.,..평행봉외.7종.,..야외체육시설물.,..윗몸일으키기외7종.,..평행봉외1종.,..스텝싸이클.등.5.,..싸이클링.외.3종.,..트위스트외.4종.,..다목적구장외1종.,..운동시설물.,..축구장.외5종.,..운동시설.,..배드민턴장.외1종.,..생활체육시설.외2종.,..축구장.외4종.,..마레트골프장.,..종합체육관.외3종.,..농구장.외3종.,..마레트골프장.외.5종.,..야외체육시설3.,..야외체육시설4.,..게이트볼장.외.4종.,..게이트볼장.외3종.,..철봉.외7종.,..체력단련장.외2종.,..야외체육시설.,..운동시설물.외1종.,..게이트볼장.외4종.,..웨밍암.외4종.,..서핑롤링머신.외2종.,..지압보도외6종.,..에어워킹.외2종.,..오금펴기.외11종.,..워밍업.외5종.,..롤링웨이스트.외3종.,..노르딕머신외.3종.,..노르딕머신외.4종.,..등치기.,..크로스컨트리오.3종.,..스텝싸이클외.7종.,..하늘걷기.외2종.,..에어워킹.외4종.,..등펴기외.6종.,..위밍쇼울더.외3종.,..싸이클링.외5종.,..온몸근육풀기.외2종.,..노르딕머신.에어위킹.,..레그프레스.외.5종.,..에어서핑.외.2종.,..스텝싸이클.등.3종.,..워밍암.외4종.,..트윈트위스트.외3종.,..허리돌리기.외5종.,..싸이클링.외.7종.,..배드민턴장.다목적실설.,..다목적구장,.게이트볼장,.배드민턴장,.농구장.,..배드민턴장,.농구장,궁도장,양궁장.,..다목적.운동시설.,..운동기구(18).,..배드민턴장(1),.운동기구(6).,..운동기구(4).,..운동기구(8).,..운동기구(5).,..농구대(1),.운동기구(5).,..운동기구(7).,..농구대(2),.풋살장(1),.운동기구(5).,..운동기구(6).,..농구대(1).,..농구대(1),.운동기구(6).,..운동기구(9).,..농구대(1),.운동기구(11).,..운동기구(11).,..농구대(1),.운동기구(10).,..운동기구(3).,..농구대(1),.운동기구(9).,..인라인스케이트장(1),.운동기구(5).,..농구대(2),.운동기구(6).,..농구대(2),운동기구(4).,..배드민턴장(2),.운동기구(4).,..게이트볼장(1),.운동기구(4).,..미니축구장(1).,..농구대(2),.운동기구(8).,..농구대(2).,..배드민턴장(1),.운동기구(10).,..농구대(1),.운동기구(19).,..운동기구(10).,..운동기구(20).,..풋살구장(1).,..배드민턴장(2),.운동기구(6).,..운동기구(1).,..씨름장(1),.운동기구(6).,..족구장(2),.배드민턴장겸농구장(1).,..국국장(1),.농구대(2),.운동기구(4).,..운동기구(2).,..배드민턴장,.농구장,.체력단련시설.,..다목적운동장,.체력단련시설.,..베드민턴장,.농구장,체력단련시설.,..철봉.,..풋살결기장,.체력단련시설.,..풋살운동장.,..파크골프장,.수영장,.양궁장.,..농구장,.족구장.,..축구장,.인공암벽장.,..그네1개,흔들놀이기구6개,조합놀이대1개.,..회전놀이기구1개,흔들놀이기구5개,조합놀이대1개.,..배드민턴장,테니스장.,..다목적운동장,농구장,배드민턴장.,..평행봉,철봉,농구대.,..농구장,철봉,평행봉.,..농구장,야외운동기구.,..철봉,야외운동기구.,..농구대,야외운동기구.,..야외운동기구,게이트볼장.,..야외운동기구,족구장,농구장.,..농구장,게이트볼장,배드민턴장,미니축구장.,..농구장,족구장,배구장,인라인트랙.,..농구골대,평행봉,철봉.,..평행봉,야외운동기구.,..운동시설,다목적광장.,..농구장,.인라인스케이트장.,..풋살장,.축구장,.농구장,.트랙,.배드민턴장,.게이트볼장.,..파크골프장.,..축구장,.풋살장,.농구장,.트랙,.배드민턴장.,..풋살장,.인라인장(X-게임장).,..풋살장,.배드민턴장.,..다리펴기,.허리돌리기,.역기내리기,.어깨돌리기.등.,..자전거타기,.허리돌리기.등.,..자전거타기.등.,..윗몸일으키기,.파도타기,.하늘걷기.등.,..하늘걷기,.허리돌리기.등.,..하늘걷기,.양팔.밀기.,..하늘걷기,.파도타기,.마라톤운동.등.,..어깨돌리기,.파도타기,.마라톤운동.등.,..하늘걷기,.어깨돌리기.등.,..어깨돌리기,.양팔밀기.등.,..유아용.운동시설.등.,..다리펴기,.자전거타기.등.,..등허리지압기,.어깨돌리기,.허리돌리기.등.,..허리돌리기.등.,..허리돌리기,.하늘걷기.등.,..철봉,.허리돌리기.등.,..윗몸일으키기.등.,..철봉.등.,..하늘걷기.등.,..허리돌리기,.족구장.등.,..철봉,.윗몸일으키기.등.,..허리돌리기,.양팔밀기.등.,..어깨돌리기,.양팔밀기,.허리돌리기.등.,..허리돌리기,.하늘걷기,.등.,..윗몸일으키기,.허리돌리기.등.,..족구장,.농구장.등.,..배드민턴장,.인라인스케이트.장.등.,..허리돌리기,.역기.등.,..양팔돌리기,.노젓기.등.,..간이운동시설.17,.야외농구대.1.,..야외운동기구.5.,..체력단련시설.4.,..트윈트위스트2,바웨이트2.,..트윈트위스트2,트윈바디싣업1,트윈워밍암2,레그프레스1,크로스컨트리1,스텝싸이클1,워밍암1,풀웨이트1.,..파워프레스6,풀웨이트3,러닝싸이클4,레그프레스2,트위스트8,바디싣업2,.,..풀웨이트1,파워프레스1,트위스트1,.,..배드민턴코트2,푸쉬웨이트1,터닝암1,파워프레스.풀웨이트1,.,..농구대6,스트레칭로라3,크로스컨트리4,체어웨이트2,스텝싸이클4,체어풀3,워밍암3,트윈바디싣업5,풀웨이트5,트윈트위스트2,바웨이트2,레그프레스2,트윈워밍암1,.,..달리기1,온몸당기기1,팔올리기1,어깨근육1,좌우흔들기1,다리걷기1,등허리안마1.,..스트레칭로라1,크로스컨트리2,스텝싸이클2,워밍암2,풀웨이트3,.,..달리기1,팔올리기2,팔내리기1,어깨근육1,다리밀기1,좌우흔들기2,다리걷기1,허리돌리기1,등허리안마1,온몸근육1.,..온몸노젓기1,.하늘걷기1,.옆파도타기1,.온몸허리돌리기1,.등허리지압기,.1.,..다리뻗치기1,.온몸근육풀기1,.온몸허리돌리기1,.등허리지압기1,.옆타도타기1.,..크로스컨트리1,스텝싸이클1,워밍암1.,..크로스컨트리2,체어웨이트1,체어풀1,트윈바디싣업1,풀웨이트2,.,..배드민턴네트및포스트1,스트레칭로라1,크로스컨트리1,체어웨이트1,스텝싸이클2,체어풀1,워밍암2,트윈바디싣업1,풀웨이트1.,..크로스컨트리1,체어풀1,워밍암1,.,..생활체육시설4,.배드민턴장1.,..스케이트장.,..풋살구장외4종.,..축구장.외.2종.,..배드민턴장외2종.,..축구,족구,테니스,게이트볼장.,..풋살구장외2종.,..배드민턴장6.,..배드민턴장1,.게이트볼장1.,..운동장1,.축구장2,.농구장2,.배구장1,.배드민턴장8,.기타4.,..농구장1,.배드민턴장4.,..축구장1,.농구장1,.배드민턴장3.,..배드민턴장1,.기타1.,..운동장1,.테니스장1,.축구장1,.배드민턴장2.,..배드민턴장1,.게이트볼장1,.기타2.,..배드민턴장2.,..농구장1,게이트볼장1.,..농구대.2점.,..농구대.외.1종.2점.,..농구대.1점.,..26.,..윗몸일으키기.1,.수평대.1,.다리말아올리기.1,.몸체말아올리기.1,.허리돌리기.1,.의자겸팔굽혀펴기.1,.족구장.1,.농구대.1,.철봉.1,.어깨근육풀기.1,.허리돌리기.파도타기.1,.윗몸일으키기.공중걷기.1,.평행봉.1.,..공중걷기.1,.파도타기.1,.어깨근육풀기.1,.윗몸일으키기.1.,..허리돌리기.1,.윗몸일으키기.1,.팔굽혀펴기.1,.철봉.1,.평형대.1.,..허리돌리기.1,.파도타기.1,.농구대.2.,..역기내리기.1,.달리기.1,.하늘걷기.1,.파도타기.1.,..허리돌리기.1,.파도타기.1.,..허리돌리기.1,.공중걷기.1.,..씨름경기장.1.,..허리돌리기.1,.공중걷기.1,.파도타기.1.,..평행봉.1,.윗몸일으키기.1,.달리기.2,.허리돌리기.2,.파도타기.1,.공중걷기.1,.노젓기.1,.역기내리기.1,.어깨근육풀기.1.,..공중걷기.파도타기.1,.오금펴기.허리돌리기.1,.어깨근육풀기.1.,..파도타기.1,.허리돌리기.1,.공중걷기.1,.윗몸일으키기.1,.오금펴기.1,.등허리지압기.1.,..파도타기.1,.공중걷기.1,.어깨근육풀기.1,.허리돌리기.1.,..어깨유연성운동.1,.공중걷기.1,.등허리지압기.1,.허리돌리기.1,.달리기운동.1,.역기내리기.1.,..어깨유연성운동.1,.공중걷기.1,.자전거타기.1,.허리돌리기.1.,..파도타기.1,.윗몸일으키기.1,.공중걷기.1,.어깨근육풀기.1,.허리돌리기.1.,..허리돌리기.어깨근육풀기.1,.파도타기.1,.윗몸일으키기.1,.공중걷기.1.,..운동기구.4종.,..운동기구.10종.,..체육관(실내.배드민턴장).1개동,.배드민턴장.2개소,.체력단련시설.23기.,..체력단련시설.8기.,..체력단련시설.4기.,..운동장.1개소,.배드민턴장.3개소,.골프연습장.1개소,.체력단련시설.81기.,..체력단련시설.3기.,..체력단련시설.2기.,..배드민턴장.1개소,.체력단련시설.8기.,..농구장.1개소,.배드민턴장.1개소,.체력단련시설.30기.,..배드민턴장.1개소,.체력단련시설.5기.,..배드민턴장.1개소,.체력단련시설.11기.,..체력단련시설.6기.,..다목적운동장.1개소,.배드민턴장.1개소,.체력단련시설.8기.,..농구장.1개소.,..체력단련시설.5기.,..배드민턴장.1개소.,..배드민턴장.1개소,.체력단련시설.3기.,..1.체스트업머신.2.트위스트머신.3.평행봉.4.철봉.,..1.트위스트머신.2.원그리기머신.3.하늘걷기머신.,..1.철봉.2.그네.3.시소.4.양회전운동머신.5.마라톤운동머신.6.노젖기운동머신.7.양다리운동머신.8.다리운동머신.9.옆회전운동머신.,..1.앉아서팔올리기머신.2.역기내리기.머신.3.마라톤.머신.,..1.철봉.2.체스트업머신.3.트위스트머신.4.평행봉.,..1.철봉.2.역기.3.지압머신.4.하늘걷기머신.5.앉아서팔올리기머신.6.역기내리기.머신.7..옆회전운동머신.8.마라톤머신.9.양회전머신.10.체스트업머신.11.원그리기머신.12.말타기머신.13.다리밀기머신.14.트위스트머신.,..게이트볼장,.수영장.,..야외체력단련기구.,..체육관.,..족구장..농구장.,..공중가로젓기,.달리기,.역기밀기.,..인라인스케이트장,.실내체육관,.축구장,.족구장,.테니스장.,..테니스장,.골프장,.승마장.,..테니스장,.야구장,.두류수영장.,..대구스타디움,.육상진흥센터.,..인라인롤러.경기장.,..체력단련장,.체력단련시설,.국궁장.,..농구장,.배드민턴장,체력단련시설.,..배드민턴장,.다목적운동장,체력단련시설.,..다목적운동장2,.인라인장,.축구장,풋살장,배드민턴장,.족구장,.게이트볼장2,농구장,체력단련시설.,..배드민턴장,체력단련시설.,..다목적운동장,.생홀체육관,.배드민턴장.,..게이트볼장,.농구대,.체력단련시설.,..게이트볼장,.농구장,체력단련시설.,..배드민턴장,운동장,체력단련시설.,..게이트볼장,.농구장,.족구장,체력단련시설.,..실내.게이트볼장,체력단련시설.,..배드민턴장,.야외헬스장.,..농구장,.게이트볼장,체력단련시설.,..운동장,.게이트볼장,.체력단련장.,..미니축구장,.농구장.,..축구장,농구장,배구장,인라인장.,..미니축구장.,..농구대.1.,..체력단련시설.8개.,..게이트볼장,멀티코트.,..운동장,게이트볼장.,..체력단련장,배구장,게이트볼장,베드민턴장.,..체력단련장,.다이나트랙,베드민턴장.,..배드민턴장,.운동장.,..다목적운동장,베드민턴장,체력단련장.,..농구장,다목적운동장,운동기구.6종.,..골프연습장,.눈썰매장,체력단련장,궁도장,실내베드민턴장,인라인스케이트장.,..운동장,.체력단련장.,..게이트볼장,.운동기구.2종.,..다목적운동장,수영장,실내베드민턴장,.웅동기구12종.,..농구대.2.,..운동기구2종.,..운동장,.배구장,농구장.,..풋살구장,체력단련장,체육관.(게이트볼삭제요청).,..운동장,축구장,.배드민턴장.,..배드민턴장.1.,..인라인장,.농구대.1.,..축구장,풋살장,족구장,농구장.,..다목적운동장,족구장,축구장.,..국궁장,.체력단련시설.,..골프연습장,.테니스장.,..테니스장,.골프연습장,.궁도장,.게이트볼장.,..체육시설5.,..체육시설4.,..체육시설8,.농구대2.,..체육시설6,.풋살구장1.,..체육시설8.,..체육시설2.,..풋살구장1.,..체육시설11,.미니골대2.,..체육시설5,.농구대1,.풋살구장1.,..다목적구장1,.농구대1,.체육시설16.,..체육시설6.,..체육시설6,.농구대1.,..체육시설10.,..체육시설물4.,..체육시설물9.,..체육시설물3.,..배구장,.배드민턴장,.농구장.,..게이트볼장,.배드민턴장,.다목적운동장.,..골프연습장,.다목적운동장,.정구장.,..농구장,.배드민턴장,.축구장.,..게이트볼장,인라인스케이트장,다목적구장.,..잔디운동장.,..그라운드골프장.,..축구장,.테니스장.,..게이트볼,.농구,.테니스,.풋살,.족구.,..테니스,.운동기구.,..배드민턴장,농구대,운동기구.,..농구대,운동기구.,..게이트볼구장,운동기구.,..족구장,핸드볼장,농구대,운동기구.,..축구장,농구대,운동기구.,..배구장,운동기구.,..농구대,배드민턴장,운동기구.,..농구대,다목적구장,운동기구.,..농구대,배드민턴장,게이트볼구장,운동기구.,..빙상경기장,배드민턴장,운동기구.,..족구장,농구대,운동기구.,..다목적구장,운동기구.,..배드민턴장,게이트볼구장,이라인스케이트장,운동기구.,..배드민턴장,게이트볼구장,테니스장,운동기구.,..농구대,배드민턴장,게이트볼구장,X게임장,운동기구.,..배드민턴장,축구장,풋살구장.,..배구장,족구장,축구장,운동기구.,..농구대,게이트볼구장.,..회전무대,정글집,농구대,배드민턴장,운동기구.,..배구장,축구장,농구대,운동기구.,..족구장,게이트볼구장,운동기구.,..족구장,게이트볼구장,농구대,운동기구.,..게이트볼장,.풋살장,.족구장.,..운종장,.족구장.,..다목적.코트.,..소운동장,.족구장.,..운동기구,.지압보도.,..배드민턴장.등.,..다목적코트.,..인라인스케이트장,.운동기구.,..애견놀이공간,.운동기구,.테니스장.,..파크골프,.배드민턴장.등.,..다목적코트,.운동장.,..테니스장,.,..야구장,.테니스장.,..축구장,.풋살장,.족구장,.운동기구.,..다목적운동자,.운동기구,.게이트볼장.,..족구장,.테니스장,.운동기구.,..게이트볼장,.운동기구.,..미니축구장,.운동기구.,..배드민턴장,.풋살장,.운동기구.,..축구장,.게이트볼장,.족구장,.운동기구.,..풋살장,.족구장,.농구장,.배드민턴장.,..X게임장,.풋살장,.운동기구.,..산림체험시설.,..수변데크,.섬(봄,여름,가을,겨율).,..허리돌리기,.하늘걷기.등.운동기구.,..게이트볼장,체육시설.,..운동장,.운동기구.,..다목적공간.,..다목적코트,.운동기구.,..다목적공간,.운동기구.,..농구대,.운동기구.,..족구대,.운동기구.,..헬스형.운동기구.등.,..미끄럼틀,.그네.등.,..게이트볼장,.풋살경기장.,..10조12종.,..5조9종.,..11조14종.,..5조7종.,..3조4종.,..5조8종.,..2조3종.,..6조8종.,..4조8종.,..옥외수영장,.실내수영장(아쿠아시스),.다목적운동장,.길거리농구장,.풋살경기장,.파크골프장.,..축구경기장,.야구경기장,.수영장,.헬스장,.테니스장,.스쿼시장,.인라인장,.사격장,.궁도장,.론볼장.,..배드민턴장.게이트볼장.족구장.,..실내배드민턴장,.구민운동장,.다목적체육관,.골프연습장.,..체력단련시설.5점.,..체력단련시설.6점.,..체력단련시설.3점.,..체력단련시설.9점.,..체력단련시설.2점.,..체력단련시설.4점.,..운동장.1개소,.테니스장.1개소,.체력단력시설.95점.,..운동장.1개소,.테니스장.1개소,.수영장.1개소,.배드민턴.2개소,.게이트볼.1개소,.체력단력시설.56점.,..체력단련시설.12점.,..체력단련시설.7점.,..운동장3개소,.배드민턴.2개소,.체력단련시설.84점.,..배드민턴장.1개소,.체력단련시설.65점.,..체력단련시설.8점.,..체력단련시설.11점.,..운동장.1개소,.배드민턴.2개소,.체력단력시설.14점.,..체력단련시설.15점.,..베드민턴장,운동기구.,..회전무대,정글집,농구대,베드민턴장,운동기구.,..베드민턴장,농구대,운동기구.,..농구대,베드민턴장,게이트볼구장,운동기구.,..베드민턴장,게이트볼구장,이라인스케이트장,운동기구.,..베드민턴장,게이트볼구장,테니스장,운동기구.,..농구대,베드민턴장,게이트볼구장,X게임장,운동기구.,..농구대,베드민턴장,운동기구.,..베드민턴장,축구장,풋살구장.,..야외운동기구.3,.농구대.,..축구장,.족구장,.야외운동기구.10.,..축구장,.야외운동기구.11.,..배드민턴장,.야외운동기구.4.,..지압로.1.,..축구장,.풋살장,.야외운동기구.13.,..빙상경기장,베드민턴장,운동기구.,..사격장.,..철봉.등.6종.,..철봉.2.,..운동기구.6종.,..운동기구.3종.,..축구장.2면.,..운동기구.1종.,..운동기구.8종.,..운동기구.19종.,..운동기구.12종.,..운동장,.수영장,.야외운동시설.,..베드민턴장,.야외운동시설.,..베드민턴장,.테니스장,.야외운동시설.등.,..테니스장,.야외운동시설.,..게이트볼장,.야외운동기구.,..축구장,농구장,족구장,게이트볼장,배드민턴장.등.,..운동기구.4.,..배드민턴장,농구대,족구대.,..배드민턴장,농구장,체력단련장.,..운동기구5,게이트볼장.,..배드민턴장,농구장.등.,..운동기구.등.6.,..다목적운동장,배드민턴장.등.,..운동기구.등.31,체육관.,..농구장,체력단련시설.,..족구장,체력단련시설.,..풋살장,체력단련시설.,..풋살장,배드민턴장.,..운동시설물.3.,..운동기구.등.10.,..운동기구.3.,..생활체육공간.,..운동기구.등.5.,..운동기구.등.8.,..운동기구.등.4.,..생활체육공간,지압보도.,..운동기구.등.9.,..운동기구.등.7.,..운동기구.등.3.,..운동기구.등.25.,..운동기구.등.13.,..운동기구.9.,..체력단련시설,게이트볼장.,..체력단련시설,인조잔디구장.,..체력단련시설,배구장.,..체력단련시설,농구대.,..체력단련시설,족구장.,..체력단련시설,X게임장.,..X게임장.,..체력단련시설,운동장,풋살장.,..체력단련시설,풋살장.,..체력단련시설,배드민턴장,농구장,풋살장.,..철재운동기구.9.,..생활체육시설.5.,..윗몸일으키기.1,.평행봉.1,.철봉.1.,..체력단련시설.6.,..생활체육시설.6.,..농구골대.2,.생활체육시설.9.,..축구골대.2,.심판대.2,.과녁.4,.테니스장심판대.4,.테니스네트.4,.족구대.2,.농구골대.2,.테니스장대기장.2,.게이트볼장.1.,..2단철봉.1,.어깨유연성운동.1,.윗몸일으키기.1,.앉아밀기.1,.양팔줄당기기.1,.허리돌리기.1,.등허리지압기.1,.파도타기.1,.온목허리돌리기.1,.온몸근육풀기.1,.다리펴기.1,.양어깨돌리기.1,.전신운동.1,.복합운동기.1.,..등허리근육풀기.2,.허리돌리기.2,.상체근육풀기.2,.공중걷기.1,.파워프레스.1,.바디싣업.1,.배드민턴.지주.1,.트위스트.1.,..등허리근육풀기.1,.허리돌리기.1,.상체근육풀기.1,.공중걷기.1,.파워프레스.1,.바디싣업.1,.트위스트.1.,..파워프레스.1,.바디싣업.1,.트위스트.1,.터닝암.1.,..등허리근육풀기.1,.허리돌리기.1,.상체근육풀기.1,.공중걷기.1.,..파워프레스1,.바디싣업.1,.트위스트.1,.터닝암.1.,..입식트위스트.1,.롤링트위스트.1,.입식싸이클.1.,..허리돌리기.1,.등허리지압기.1,.파도타기.1,.잠자리조합놀이대.1.,..트리플트위스트,.스텝사이클.,..허리돌리기,.마라톤운동,.몸통돌리기.,..전신하늘걷기,.다리쭉뻗치기.,..온몸역기내리기,.등허리지압기,.온몸역기올리기.,..온몸노젓기,.등허리지압기,.어깨근육풀기,.마라톤운동,.하체근육운동,.하늘걷기.,..축구장,.족구장겸농구장,.육상트랙.,..농구장,.다리말아올리기,.몸체말아올리기,.윗몸일으키기,.허리돌리기,.역기대,.의자겸팔굽혀펴기.,..팔굽혀펴기,.허리돌리기,.배드민턴코드,.철봉,.인라인트랙,.자전거발전기.,..복합형운동기구,.온몸노젓기.,..플웨이트,.스텝사이클,.크라임스템퍼.]'"
      ]
     },
     "execution_count": 65,
     "metadata": {},
     "output_type": "execute_result"
    }
   ],
   "source": [
    "gym = gym.replace('+', '.').replace(\"'\", '.').replace(\" \", '.').replace(\"/\", \".\")\n",
    "gym"
   ]
  },
  {
   "cell_type": "code",
   "execution_count": 66,
   "id": "e2df1d98",
   "metadata": {},
   "outputs": [],
   "source": [
    "# re.sub('\\d', '', gym)"
   ]
  },
  {
   "cell_type": "code",
   "execution_count": 67,
   "id": "9b24fb43",
   "metadata": {},
   "outputs": [
    {
     "data": {
      "text/plain": [
       "',,,,,,,,,,,,,,,,,농구장,궁도장,풋살구장,풋살구장,농구장,인라인스케이트장,축구장,족구장,게이트볼장,운동기구개,농구장개소,족구장개소,운동기구개,족구장개소,운동기구개,운동기구개,운동기구개,에어로빅장,농구장,테니스장,씨름장,농구장,바디싣업,스트레칭롤러,전신돌리기,허리안마기,허리비틀기,TM스탭사이클,TM체어웨이트,TM트윈바디싣업,TM트윈트위스트,TM크로스컨트리,TM풀웨이트,철봉,하늘걷기,마라톤운동,허리돌리기,단철봉,윗몸일으키기,철봉,팔굽혀펴기,몸통돌리기,허리좌우로흔들기,스트레칭롤러,풀웨이트,바웨이트,하늘걷기,온몸허리돌리기,스트레칭기,거꾸로매달리기,하늘걷기,온몸허리돌리기,등허리지압기,철봉,스탭싸이클,풀웨이트,트리플트위스트,트윈바디싣업,크로스컨트리,스트레칭롤러,트윈워밍암,하늘걷기,스탭싸이클,체어폴,철봉,트리플트위스트,트윈바디싣업,윗몸일으키기,온몸허리돌리기,팔굽혀펴기,다리뻗치기,온몸허리돌리기,거꾸로매달리기,하늘걷기,온몸허리돌리기,옆파도타기,크로스워킹스카이워킹,파워프레스풀웨이트,싸이클론트위스트,스탠드업마사지롤,사이드스윙터닝암,푸시웨이트레그프레스,평행봉,트윈바디싣업,트윈트위스트,스탭싸이클,크로스컨트리,체어풀,크로스컨트리,자전거팔뻗기,등안마기,트윈워밍암,체어웨이트,오버턴스트레칭,크로스컨트리,롤링웨이스트,레그프레스,트윈트위스트,체어웨이트,족구장,역기,등지압기,마라톤운동공중걷기운동,허리돌리기온몸돌리기,온몸역기올리기온몸근육풀기,트리플트위스트,트윈바디싣업,크로스컨트리,체어웨이트,롤링웨이스트,레그프레스,오버턴스트레칭,윗몸일으키기,트리플트위스트,평행봉,크로스컨트리,레그프레스,체어웨이트,롤링웨이스트,트윈바디싣업,레그스트레칭,크로스컨트리,어깨근육풀기,체어웨이트,트윈바디싣업(구형),트리플트위스트(구형),게이트볼장,운동시설,축구장,족구장,족구장,운동기구,운동기구,축구장배드민턴장농구장,배드민턴장족구장,농구대,배드민턴장,배드민턴장농구대,농구장개소,배드민턴장,게이트볼장개소체력단련시설개소기등,배드민턴장개소,체력단련시설개소개,배드민턴장개소,농구장개소,체력단련시설개소개,다목적체육관동,체력단련시설개소개,배드민턴장개소,농구정개소,체력단련시설개소개,농구장개소,체력단련시설개소개,체력단련시설개소개,체력단련시설개소개,없음,배드민터장개소,체력단련시설개소개,족구장개소,농구장개소,체력단련시설개소개,체력단련시설개소개,체력단련시설개소개,체력단련시설개소개,체력단련시설개소개,농구장개소,운동장개소,체력단련시설개소개,체력단련시설개소개,체력단련시설개소개,체력단련시설개소,하늘걷기마라톤운동,하늘걷기,마라톤운동,벤치,체력단련,철봉팔굽혀펴기평행봉허리돌리기배근력대,스텝싸이클체어플트윈바디싣업,역기내리기운동역기올리기운동노젓기운동허리돌리기운동양다리운동옆파도타기운동원그리기운동,달리기아래로당기기앞으로밀기체어풀허리돌리기공중걷기윗몽일으키기등허리지압기하체흔들기온몸근육풀기,등허리지압기온몸근육풀기,마라톤운동양다리운동등허리근육풀기운동옆파도타기운동,역기올리기운동양다리운동옆파도타기운동원그리기운동,노젓기운동허리돌리기운동양다리운동옆파도타기운동원그리기운동,역기내리운동역기올리기운동양다리운동옆파도타기운동,역기내리기운동역기올리기운동양다리운동옆파도타기운동원그리기운동,역기내리기운동역기올리기운동양다리운동옆파도타기운동,다목적구장,체력단련장,체육시설,궁도장,게이트볼장,테니스장,간이운동기구,간이운동기구농구장,간이운동기구게이트볼장,간이운동기구족구장,풋살장,농구장,그라운드골프장,운동기구,운동기구,미조성,배드민턴장_농구장,다목적구장(농구_풋살),축구장_테니스_배드민턴장_다목적구장,파크골프장_배드민턴장,풋살장_게이트볼장,배드민턴장_엑스게임장,윗몸일으키기,공중걷기,마라톤운동등,마라톤운동,하체돌리기공중걷기등,레그프레스,워밍암등,크로스컨트리,스트레칭로라등,윗몸일으키기,역기올리기등,농구장,하늘걷기,허리돌리기등,공중걷기,허리돌리기등,농구골대,야외헬스기구,트위스트,스카이워킹등,공중걷기,자전거타기,윗몸일으키기등,철봉,허리돌리기등,윗몸일으키기,다리벌리기,팔굽혀펴기등,윗몸일으키기,자전거타기,공중걷기등,베드민턴,풋살장,족구장,농구장,정구장,육상트랙,축구장,풋살장,론볼장게이트볼장,산책데크시설,배드민턴장,운동기구,다목적구장운동기구,농구장,족구장,농구장,배드민턴장,체육시설지구,축구장,테니스장,파크골프장,산악자전거,체육관,게이트볼장,족구장,농구장,운동기구,축구장,테니스장,운동기구,족구장,운동기구,배드민턴장,체육시설지구족구장,족구장,농구장,양궁장,자연체험장,축구장,인라인스케이트장,밸런스바이크장,운동공원개소,체력단련시설개소,농구장개소,족구장개소,운동기구개소,체력단련장개소,체력단련시설개소,국궁장(영주정)개소,체력단련시설개소,국궁장동,운동장기,체력단련장기,체력단련시설개소,체력단련시설개소,국궁장개소,국궁장개소,체력단력장개소,체력단련장개소,체력단련시설개소,체력단련장,국궁장,게이트볼장,배드민턴장,다목적운동장,테니스장,농구장,풋살경기장,수영장,게이트볼장,체력단련시설,농구장,운동기구,다목적운동장,야외체력단련시설,야외체력단련시설,족구장,농구장,야외체력단련시설,게이트볼장,야외체력단련시설,테니스장,체력단련장,다목적운동장,게이트볼장등,어린이운동시설,배드민턴,탁구,헬스,정구,헬스,배드민턴,궁터,운동장,배드민턴,조성계획미수립,조성중,다목적운동장,야외운동장,테니스장,실내체육관,궁도장,신체단련장,게이트볼장,농구장,농구장,배드민턴장,배드민턴장,발지압장,풋살장,배드민턴장,족구장,암벽등반,실내체육관,배드민턴장,맨발공원,농구장,족구장,테니스장,암벽등반,배드민턴장,체력단련장,풋살장,배드민턴장,다목적구장,배드민턴장,게이트볼장,야외운동기구,배드민턴장,운동기구,국궁장,골프연습장,배드민턴장,골프연습장,다목적운동장,배구장,배드민턴장,게이트볼장,체력단련장,체육센타,게이트볼장,다목적운동장,체력단련장,게이트볼장,배드민턴장,테니스장배구장,운동체육시설,놀이터,운동장,배드민턴장,실내체육관,체력단련장,생활체육시설지,체력단련장,게이트볼잘,체력단련장,배드민턴장,체육시설물,운동시설지,농구장,풋살경기장,운동시설물,농구장,운동기구,운동기구,국궁장,생활체육운동기구종,배드민턴장,풋살장면,족구장면,농구대EA,생활체육운동기구종,농구장면,게이트볼장,인라인스케이트장,풋살장면,생활체육운동기구종,농구대EA,생활체육운동기구종,배드민턴장,생활체육운동기구종,생활체육운동기구종,농구대EA,철봉EA,생활체육운동기구종,생활체육운동기구종,축구장면,테니스장면,게이트볼장,암벽장,생활체육시설종,다목적운동장,농구장EA,게이트볼장,생활체육시설EA,배드민턴장,축구장,족구장,조정경기장,엑스게임장,배드민턴장,농구장,배드민턴장,게이트볼장,농구장,게이트볼장,운동시설,운동시설,운동기구,운동기구,풋살장,농구대,운동기구,운동기구,운동기구,베드민턴장,운동시설,체육시설,체육시설,체육시설,운동기구,체육시설,운동기구,농구대,체육시설,운동기구,체육시설,운동기구,농구대,체육시설,농구대,체육시설,운동기구,체육시설,철봉,체육시설,체육시설,운동기구,농구대조합놀이대,시소,철봉,체육시설,농구대,운동기구,운동시설,농구장,,베드민턴장,인라인,족구장,베드민턴장,농구장,농구장,족구장,베드민턴장,테니스장,운동시설종,운동시설종,운동시설종,운동시설종,베드민턴장,운동시설종,운동시설종,농구장,운동시설종,농구장,운동시설종,게이트볼장,운동시설종,운동시설종,농구장,운동시설종,운동시설종,운동시설종,운동시설종,농구장,배드민턴장,농구장,배구장,족구장,게이트볼장,축구장,농구장,게이트볼장,운동기구,운동기구,운동기구,운동기구,운동기구,대성묘지,운동기구,운동기구,농구장,운동기구,족구장,미집행,축구장,국궁장,테니스장,족구장,농구장,야구장,풋살장,테니스장,운동기구등,다목적구장등,족구장등,축구장등,운동기구개,운동기구개소,운동기구개소,농구대,운동기구개,농구대,운동기구개,농구대,운동기구개,농구대,운동기구개,운동기구개,운동기구,운동기구,농구대,운동기구,철봉,운동기구,시민운동장,실내체육관,씨름장,축구장,궁도장,생활체육관,게이트볼장,다목적구장,배드민턴장,농구장,풋살장,게이트볼장,스포츠센타,게이트볼장,테니장,국궁장,다목적체육관,다목적운동장,체련단련장,족구장,배드민턴장,수영장,암벽장,풋살장,축구장,야구장,농구장,인라이스케이트장,야외형운동기구,게이트볼장,야외형운동기구,배드민턴장운동장,철봉,허리돌리기,하늘걷기등,허리돌리기,하늘걷기,파도타기등,테니스장,족구장,운동기구,족구장,운동기구,풋살장,배구장,배구장,테니스장,게이트볼장,유소년축구장,축구장관리실,유소년축구장,인라인장,운동기구,농구장,족구장,운동기구,농구장,배드민턴장,족구장,운동기구,농구장,배드민턴장,운동기구,야외운동기구,게이트볼장,야외운동기구,야외운동기구,배드민턴장,다목적운동장,야외운동기구,배드민턴장,야외운동기구,농구장,배드민턴장,다목적운동장,야외운동기구,축구장,테니스장,배구,배드민턴,축구장,씨름장,배구,배스민턴,농구장풋살경기장체육시설인라인트랙,축구장테니스장체육시설,야구장운동장족구장,테니스장배드민턴장체육시설,체육시설농구장,인라인트랙,다목적운동장체육시설,체육시설인라인스케이장농구장,체육시설축구장,체육시설물농구대,체율시설물,족구장농구대체육시설물,배드민턴장체육시설,N,테니스장,배드민턴장,농구장,배드민턴장,게이트볼장,체력단련기구,미로길,축구장테니스장다목적운동장,다목적운동장테니스장배드민턴장,배드민턴장게이트볼장농구장,테니스장축구장다목적운동장,축구장농구장,인조잔디구장,천연잔디구장,풋살경기장족구장게이트볼장,운동장족구장농구장,운동장게이트볼장,다목적운동장게이트볼장,게이트볼장,농구장,배드민턴장농구장,배드민턴장게이트볼장,농구장롤러스케이트장,농구장스포츠파크,배드민턴장인라인스케이트장,농구장배드민턴장,궁도장테니스장,배드민턴장게이트볼장인라인스케이트장,체련단련장,다목적운동장롤러스케이트장,다목적운동장체력단련장,운동장,롤러스케이트장,인라인스케이트장,운동공간,체력단련장,농구장,족구장,배드민턴장,풋살장,발맛사지장,허리돌리기대윗몸일으키기대오금펴기대파도타기대공중걷기대역기올리기대달리기운동대,이동식농구대개,운동기구개소,이동식농구대개,운동기구개소,이동식농구대개,운동기구개소,이동식농구대개,운동기구개소,운동기구개소,게이트볼장,농구장,운동장,인조잔디구장,소운동장,배드민턴,다목적구장,농구대,농구장,축구장,테니스장,축구장,테니스장,운동장,체육시설,배드민턴,족구,농구장,운동장,테니스장,풋살,배드민턴장(족구장겸용),게이트볼장,농구장,배드민턴장,테니스장,체육시설,농구대,골프연습장,농구장,테니스장,인조잔디구장,배드민턴장,게이트볼장,간이체육시설,산책로,자전거도로,풋살장,간이운동시설,배드민턴장,온몸근육풀기,허리돌리기,파도타기,윗몸일으키기,파도타기,허리돌리기,온몸근육풀기,온몸근육풀기,허리돌리기,파도타기,공중걷기,축구장,배드민턴장,테니스장,배드민턴장,족구장,다목적운동장실내배드민턴장체력단련시설,게이트볼장실내배드민턴장체력단련시설,다목적운동장체력단련시설,게이트볼장족구장체력단련시설,풋살장인라인스케이트장게이트볼장농구장다목적운동장배드민턴장파크골프장체력단련시설,풋살구장농구장체력단련시설,게이트볼장체력단련시설,농구장야외배드민턴장인라인스케이트장실내배드민턴장체력단련시설,풋살구장농구장족구장실내배드민턴장체력단련시설,멀티코트체력단련시설,축구장게이트볼장농구장인라인스케이트장테니스장실내배드민턴장체력단련시설,국궁장다목적운동장농구장실내배드민턴장게이트볼장체력단련시설,야외배드민턴장축구장테니스장농구장게이트볼장실내배드민턴장체력단련시설,축구장실내배드민턴장체력단련시설,야외배드민턴장체력단련시설,농구장체력단련시설,체력단련시설운동장,체력단련시설운동장(농구대),다목적운동장게이트볼장인라인스케이트장체력단련시설,체력단련시설운동장(축구골대,농구대),축구장체력단련시설,족구장체력단련시설,실내배드민턴장게이트볼장체력단련시설,실내다목적체육관체력단련시설,체력단련시설없음,다목적운동장파크골프장게이트볼장체력단련시설,조합놀이대그네흔들놀이대철봉,조합놀이대정글짐시소흔들놀이대,조합놀이대그네시소흔들놀이대,조합놀이대정글짐그네흔들놀이대,조합놀이대,축구장실내배드민턴장배구장씨름장농구장체력단련장,조합놀이대흔들놀이대,테니스장게이트볼장체력단련시설,족구장배드민턴장체력단련시설,야외배드민턴장,농구장야외배드민턴장다목적운동장체력단련시설,조합놀이대그네흔들놀이대,조합놀이대그네시소,조합놀이대그네시소흔들놀이대회전놀이대,조합놀이대그네흔들놀이대철봉평행봉,체력단련시설게이트볼장농구장,조합놀이대흔들놀이대암벽오르기,조합놀이대흔들놀이대놀이집,시소흔들놀이대,조합놀이대그네,농구장족구장,족구장등,X게임장,농구장배드민턴장인라인스케이트장,농구장족구장,족구장배드민턴장게이트볼장,축구장등,테니스장농구장족구장배드민턴장,축구장등,농구장배드민턴장게이트볼장X게임장,배트민턴장,축구장야구장배드민턴장테니스장농구장,족구장등,배드민턴장족구장그라운드골프장,다목적구장등,족구장배드민턴장게이트볼장농구장,배드민터장,운동기구종,운동기구종,운동기구종,테니스장,베드민턴장,게이트볼장,농구장,농구장,체력단련시설,배드민턴장,족구장,체력단련시설,체력단련시설,배드민턴장,풋살장,게이트볼장,인라인장,농구장,인공암벽,파크볼장,체련단련시설,좌식사이클,배드민턴장,풀웨이트,체어웨이트,배드민턴,체력단련시설,게이트볼장,농구장,배드민턴장,체력단련시설,족구장,배드민턴장,체력단련시설,지압보도,좌식사이클,운동기구종,운동장,배드민턴장,게이트볼장등,다목적인조잔디마당,테니스장,배드민턴장등,테니스장등,체력단련장,체력단련시설,턱걸이,윗몸일으키기,팔굽혀펴기,역기들기,농구장,게이트볼장,체력단련시설,다목적운동장,농구장,잔디볼링장,배구장,테니스장,게이트볼장,배드민턴장,체력단련장,다목적운동장,농구장,테니스장,게이트볼장,체력단련장,조깅코스,배드민턴장,인라인스케이트장,농구장,게이트볼장,풋살경기장,배드민턴장,족구장,게이트볼장,농구장반코트,배드민턴장,지압보도,게이트볼장,배드민턴,족구장,운동기구,게이트볼장,운동기구,게이트볼장,배드민턴장,운동기구,운동기구,농구대,배드민터운동기구,운동기구,운동기구,농구대,배드민턴,운동기구,운동기구,농구대,운동기구,농구대,배드민턴,운동기구,게이트볼장,농구대,베드민턴장,족구장,운동기구,게이트볼장,농구대,배드민턴장,운동기구,운동기구,운동기구,게이트볼장,배드민턴장,농구대,테니스장,농구대,배드민턴장,다목적운동장,운동기구,운동기구,농구대,배드민턴,운동기구,수영장,축구장,운동기구,농구대,운동기구,게이트볼장,운동기구,농구대,운동기구,운동기구,운동기구,농구대,운동기구,농구대,운동기구,게이트볼장,운동기구,게이트볼장,운동기구,농구대,운동기구,농구대,운동기구,배드민턴장,운동기구,농구대,롤러스케이트장,운동기구,농구대,배드민턴장,운동기구,농구대,배드민턴장,운동기구,농구대,배드민턴장,운동기구,운동기구,농구대,다목적운동장,농구대,미니축구장,운동기구,배드민턴장,운동기구,운동기구,농구대,운동기구,농구대,다목적운동장,운동기구,운동기구,농구대,배드민턴장,운동기구,농구대,운동기구,농구대,운동기구,게이트볼장,운동기구,농구대,운동기구,농구대,운동기구,농구대,운동기구,농구대,운동기구,농구대,배드민턴장,족구장,운동기구,농구대,다목적운동장,농구대,운동기구,배구장,농구대,다목적구장,롤러스케이트장,운동기구,축구장,농구대,테니스장,게이트볼장,체육관,족구장,배드민턴장,테니스장,농구장,풋살장,배드민턴장,게이트볼장,테니스장,다목적운동장,배드민턴장,게이트볼장,배드민턴장,농구장,다목적은동장,다목적운동장,게이트볼장,다목적운동장,게이트볼장,배드민턴장,다목적운동장,게이트볼장,농구장,다목적운동장,농구장,실내체육관,생활운동시설,배드민턴장,농구장,다목적운동장,야외헬스기구,배드민턴장,야외헬스기구,멀티스포츠센터,족구장,야외헬스기구,인라인스케이트장,야외헬스기구,지압보도,농구장면,마라톤면,게이트볼장면,테니스장면,다목적구장면,농구대개,농구대개,지압보도,농구대개,족구장면,정구장,지압보도,,게이트볼장,축구장,테니스장,족구장,,다목적구장,농구장,배드민턴장,족구장,테니스장,X게임장,농구장,배드민턴장,족구장,인라인스케이트장,농구장,배드민턴장,족구장,축구장,테니스장,족구장면,배더민턴장면,농구장면,테니스장면,배더민턴장,농구장면,족구장면,배더민턴장면,인라인스케이트장,족구장면,정구장면,배더민턴장면,게이터볼장면,족구장면,배더민턴장면,농구장면,족구장면,배더민턴장면,농구장면,족구장면,테니스장면,배더민턴장면,게이트볼장,배드민턴장,족구장,족구장,배드민턴장,운동장,풋살경기장,축구장,농구장,농구장면,파크골프장면,게이트볼장면,테니스장면,다목적구장면,지압보도,마라톤면,농구대개,마라톤,지압보도,농구대개,지압보도,농구장면,마라톤면,인라인스케이트장면,게이트볼장면,테니스장면,미니축구장면,다목적운동장,족구장,테니스장,농구장,풋살장,리틀야구장,,다목적체육관,다목적체육관,풋살장,농구장,테니스장,족구장배드민턴장,게이트볼장등,배드민턴장(족구장겸),운동시설등,배드민턴장,농구장,게이트볼장,체력단련장등,족구장,풋살장,축구장,풋살장,농구장,축구장,론볼링장,궁도장,썰매장,간이수영장,다목적구장,농구장,게이트볼장,배드민턴장,족구장,농구장,배드민턴장,축구장,인라인장,테니스장,족구장,다목적운동장,다목적운동장,농구장,체력단련시설등,체력단련시설및극기훈련시설,야외체육시설(팔굽혀펴기등),야외체육시설(온몸근육풀기등),족구장,체력단련장,야외체육시설,야외체육시설(트윈워밍암등),야외체육시설(온몸허리돌리기등),산책로,,,,,육상경기장·게이트볼장·배구장·배드민턴장·농구장·체력단련장·골프연습장·풋살경기장·자연체험장·국민체육센터·테니스장·역도훈련장,축구장·트랙·다목적체육시설·씨름장·체력단련시설,온몸근육풀기외종,온몸노젓기외종,양팔줄당기기외종,오팔펴기외종,달리기외종,하늘걷기외종,배드민턴지주등,하늘걷기외종,하늘걷기외종,크로스켠트리외종,윗몸일으키기외종,평행봉외종,배근력대외종,배근력대외종,크로스켠트리외종,농구대외종,농구대외종,평행잡기외종,배드민턴네트외종,단철봉외종,평행봉종,단철봉종,허리돌리기외종,옆파도외종,단철봉외종,양팔줄당기기인외종,배드민턴장외종,단철봉외종,평행봉외종,배드민턴외종,어깨근육인외종,양팔줄당기기외종,평행봉외종,단철봉외종,윗몸일으키기외종,평행봉외종,윗몸일으키기외종,거꾸리외종,어깨근육풀기외종,농구대등,온몸허리돌리기외종,단철봉외종,어께근육풀기외종,양팔줄당기기외종,윗몸일으키기외종,하체흔들기외종,단철봉등,온몸허리돌리기외종,윗몸일으키기외종,평행봉외종,족구지주외종,허리돌리기외종,배드민터코트외종,농구대외종,배근력대외종,어깨근육풀기외종,배드민턴지주대등,하체흔들기외종,양팔줄당기기외종,하체흔들기외종,허리돌리기외종,온몸근육풀기외종,축구장,테니스장,족구장,농구장,게이트볼장,배드민턴장,궁도장,야외헬스형운동기구개,야외헬스형운동기구개,야외헬스형운동기구개,야외헬스형운동기구개,야외헬스형운동기구개,야외헬스형운동기구개,야외헬스형운동기구개,야외헬스형운동기구개,야외헬스형운동기구개,야외헬스형운동기구개,야외헬스형운동기구개,야외헬스형운동기구개,야외헬스형운동기구개,야외헬스형운동기구개,야외헬스형운동기구개,농구장,야외헬스형운동기구개,게이트볼장,다목적운동장,야외헬스형운동기구개,야외헬스형운동기구개,야외헬스형운동기구개,게이트볼장,배드민턴장,야외헬스형운동기구개배드민턴장,다목적운동장,야외헬스형운동기구개,야외헬스형운동기구개,다목적운동장,조깅트랙,배드민턴장,게이트볼장,야외헬스형운동기구개,야외헬스형운동기구개,야외운동기구,야외운동기구,야외운동기구,축구장,다목적구장,야외운동기구,야외운동기구,축구장(인조),배구장,족구장,테니스장,야외운동기구,풋살,족구장,테니스장,,야외운동기구,야외운동기구,농구장,야외운동기구,게이트볼장,축구장,게이트볼장,파크골프장,실내체육관,체력단련실,실내수영장,야외농구장,야외운동기구식,야외운동기구,농구장,축구장,족구장,농구장,야외운동기구,축구장,그라운드골프장,야외운동기구,배드민턴장,야외운동기구,야외운동기구,야외운동기구,야외운동기구,야외운동기구,지압로㎡,지압로㎡,등의자,게이트볼장,풋살경기장,농구장,배드민턴장,역기,윗몸일으키기등,축구장,족구장,배드민턴장,농구장,윗몸일으키기,팔굽혀펴기,철봉,평행봉,농구장,배드민턴장,테니스장,윗몸일으키기,허리돌리기,농구장,배드민턴장,생활체육시설등,체력단련장,게이트볼장,인라인장,농구장,생활체육시설등,평행봉,철봉,철봉,평행봉,게이트볼장,생활체육시설,철봉,생활체육시설,농구대,생활체육시설,철봉,평행봉,게이트볼장,생활체육시설,윗몸일으키기,팔굽혀펴기,철봉,생활체육시설,팔굽혀펴기,조합놀이대,가위말차기,농구대,철봉,게이트볼장,테니스장,윗몸일으키기,평행봉,생활체육시설등,농구장,테니스장,게이트볼장,윗몸일으키기,평행봉등,배드민턴장,생활체육시설,게이트볼장,배드민턴장,농구장,철봉등,농구대,생활체육시설,농구대,철봉,평행봉,생활체육시설,철봉,평행봉,배드민턴장,생활체육시설등,농구대,배드민턴장,생활체육시설,배드민턴장,농구대,생활체육시설,철봉,축구장,배드민턴장,국궁장,체력단련시설,배드민턴장,체력단련시설,배드민턴장,족구장,체력단련시설,농구장,게이트볼장,배드민턴장,족구장,농구장,배드민턴장,족구장,축구장,배드민턴장,족구장,축구장,농구장,배드민턴장,족구장,배드민턴장,족구장,테니스장,배드민턴장,농구장,게이트볼장,배드민턴장,농구장,멀티코트,파크골프장,족구장,배드민턴장,농구장,게이트볼장,씨름장,러버가든,인조잔디구장,게이트볼장,야외운동기구,국궁장,게이트볼장,인라인스케이트장,야외운동기구,인조잔디구장,야외운동기구,베드민턴장,야외운동기구,농구장,야외운동기구,게이트볼장,농구장,야외운동기구,체력단련장개소,도시개발,체육진흥,관광개발,,,,야구장,축구장,다목적구장,축구장,베드민턴장,농구장,족구장,게이트볼장,다목적구장,농구장,베트민턴장,풋살장,농구장,족구장,배드민턴장개소,농구장,배드민턴장,축구장등,농구장,배드민턴장등,허리돌리기,다리흔들기,다리올리기,온몸펴기등,철봉,평행봉,허리돌리기,공중걷기등,철봉,평행봉공중걷기,허리돌리기등,허리돌리기,철봉,평행봉,역기올리기등,족구장,허리돌리기,공중걷기등,역기올리기,롤링웨이스트,트위스터등,평행봉,트위스트,허리돌리기등,축구장,철봉,평행봉,허리돌리기등,평행봉,허리돌리기,팔비틀기등,온몸펴기,공중걷기,허리돌리기등,평행봉,다리흔들기,허리돌리기등,농구장,헐리돌리기,공중걷기등,농구장,그라운드골프장등,농구장등,허리돌리기,공중걷기등,허리돌리기,배드민턴장,평행봉,철봉,공중걷기등,공중걷기,스트레칭로라,공중걷기,팔돌리기등,트윈트위스트롤링웨이스트,공중걷기,팔돌리기등,트윈트위스트,롤링웨이스트등,허리돌리기,파도타기,공중걷기등,철봉,허리돌리기,팔돌리기등,파도타기,공중걷기,허리돌리기,파도타기,공중걷기,팔돌리기등,공중걷기,파도타기,허리돌리기,허리돌리기,공중걷기,파도타기등,오금펴기,달리기운동,오금펴기등,크로스컨트리,트윈트위스터,롤링웨이스트등,공중걷기,허리돌리기,공중걷기,역기올리기등,허리돌리기,롤링웨이스트등,농구장,허리돌리기등,허리돌리기,평행봉,철봉,허리돌리기,팔돌리기등,허리돌리기,허리돌리기,농구장,터닝트위스트,워밍암,롤링웨이스트,허리돌리기,철봉,평행봉등,공중걷기,허리돌리기,공중걷기,허리돌리기,파도타기등,공중걷기등,허리돌리기,윗몸일으키기등,테니스장,허리돌리기,파도타기,공중걷기등,농구장,허리돌리기,팔돌리기등,축구장,농구장,족구장등,옆파도타기,마라톤운동,하늘걷기등,레일바이크,이색자전거길,실내체육관,인조잔디구장,풋살장,체력단련장,축구장,농구장,게이트볼장,체력단련장,테니스장,축구장,주민체육시설,운동시설,조기체육장등,다목적운동장등,베드민턴장등,농구장,베드민턴장등,축구장,농구장,베드민턴장등,인라인장,베드민턴장등,게이트볼장,농구장등,농구장,족구장,인라인스케이트장,농구장,베드민턴장,다목적구장,배드민턴장,체력단련시설,배드민턴장,체력단련시설,체력단련시설,체력단련시설,체력단련시설,배드민턴장,체력단련시설,체력단련시설,체력단련시설,체력단련시설,체력단련시설,체력단련시설,체력단련시설,체력단련시설,체력단련시설,농구장,체력단련시설,농구장,배드민턴장,축구장,체력단련시설,배드민턴장,체력단련시설,농구장,배드민턴장,배드민턴장,체력단련시설,배드민턴장,농구장,체력단련시설,xgme시설,체력단련시설,축구장,배드민턴장,xgme시설,체력단련시설,농구장,배드민턴장,추구장,파크골프장,조깅트랙,실내체육관,테니스장,xgme시설,체력단련시설,다목적운동장,배드민턴장,체력단련기구,농구장,체력단련기구,배드민턴장,족구장,체력단련기구,농구장,배드민턴장,체력단련기구,축구장,농구장,배드민턴장,게이트볼장,체력단련기구,테니스장,배드민턴장,골프연습장,체력단련기구,배드민턴장,게이트볼장,체력단련기구,농구장,게이트볼장,체력단련기구,운동장,농구장,게이트볼장,테니스장,다목적구장,배드민턴장,농구장,족구장,축구장,족구장,농구장,축구장,족구장,풋살장,농구장,배드민턴장,테니스장,배드민턴장,인라인스케이트장,소규모운동장,족구경기장,실외운동기구,실외운동기구,xgme장,축구장,게이트볼장,테니스장,정구장,소운동장,체조장,풋살구장,테니스장,농구장,족구장,에어서핑,노르딕머신에어워킹,트위스트,워밍쇼울더,바디싯업,에어워킹,에어서핑,바디싯업,에어워킹,트위스트바디싯업,마사지롤라,에어서핑,노르딕머신,마사지롤라,트위스트,에어서핑,에어워킹,워밍쇼울더,레그프레스,워밍암,트윈트위스트,에어서핑,마사지롤라,에어워킹,노르딕머신,오리다리펴기흔들코끼리,캥거루허리돌리기흔들코끼리,사자스텝퍼오리다리펴기,스트레칭롤라,트윈바디싯업,워밍암,체어웨이트,트윈트위스트,롤링웨이스트,크로스컨트리,마사지롤라,트위스트,캥거루허리돌리기흔들코끼리,사자스텝퍼오리다리펴기,오리다리펴기흔들코끼리,에어워킹,노르딕머신,워밍쇼울더,에어서핑,레그프레스,트윈바디싯업,에어서핑,노르딕머신,사자스텝퍼흔들코끼리,캥거루허리돌리기오리다리펴기,흔들코끼리,마사지롤라,트윈트위스트,워밍암,에어워킹,하늘걷기,등허리지압기,에어서핑,에어워킹,트위스트,온몸허리돌리기,옆파도타기,하늘걷기,트위스트,워밍쇼울더,에어서핑,철봉,평행봉,트위스트,에어워킹,에어서핑,마라톤운동,옆파도타기,온몸허리돌리기,크로스컨트리,트윈바디싯업,트윈트위스트,스트레칭로라,레그프레스,롤링웨이스트,워밍암,에어워킹,싸이클링,에어서핑,체어웨이트,풀웨이트,스트레칭로라,레그프레스,하체마사지기,좌식자전거,트윈전신지압기,전신스트레칭머신,풀웨이트,트윈트위스트,워밍암,크로스컨트리,워밍쇼울더,사이클링,에어워킹,마사지롤라,트위스트,해당없음,트윈트위스트,싸이클링,워밍쇼울더,에어워킹,워밍쇼울더,에어서핑,로우잉머신,자전거발전기,근육풀기발전기,허리돌리기발전기,파도타기발전기,롤링웨이스트,바디싯업,체어풀,스트레칭롤라,체어웨이트,워밍암,트위스트,마사지롤라,에어워킹,싸이클링,워밍쇼울더,로우잉머신,노르딕머신,스트레칭롤라,롤링웨이스트,트윈트위스트,풀웨이트,크로스컨트리,크로스컨트리,풀웨이트,트위스트,트윈바디싯업,스트레칭롤라,롤링웨이스트,트윈트위스트,크로스컨트리,체어웨이트,워밍쇼울더,에어서핑,체어웨이트,레그프레스,워밍암,스텝사이클,롤링웨이스트,체어풀,스트레칭롤러,트윈트위스트,레그프레스,크로스컨트리,풀웨이트,운동기구식,농구장,조깅코스,배트민턴장,테니스장,배구장,농구장,농구장,배구장,배드민턴장,축구장,다목적운동장,풋살장,농구대,농구장,배드민턴장,인라인장,족구장,농구장,족구장,배드민턴장,농구대,게이트볼장,베트민턴장,게이트볼장,전통그네,철봉,농구대,풋살경기장,게이트볼장,인라인스케이트장,농구장등,축구장,농구장등,농구장,축구장,윗몸일으키기외종,윗몸일으키기외종,다리굽혀펴기외종,크로스컨트리외종,공중걷기외종,게이트볼장외종,에어서핑외종,노르딕머신외종,노르딕머신외종,트위스트외종,평행봉외종,싸이클링외종,크로스컨트리외종,철봉외종,철봉외종,팔굽혀펴기외종,허리돌리기외종,스트레칭로라외종,농구대외종,철봉외종,평행봉외종,스텝싸이클외종,농구대외종,바디실업외종,노르딕머신외종,베드민턴장외종,노르딕머신외종,허리돌리기외종,농구대외종,싸이클링외종,싸이클링외종,싸아클링외종,베드민턴및포스트,싸이클링외종,어깨관절놀이외종,농구대외종,어깨관절놀이외종,농구대외종,평행봉외종,야외체육시설물,윗몸일으키기외종,평행봉외종,스텝싸이클등,싸이클링외종,트위스트외종,다목적구장외종,운동시설물,축구장외종,운동시설,배드민턴장외종,생활체육시설외종,축구장외종,마레트골프장,종합체육관외종,농구장외종,마레트골프장외종,야외체육시설,야외체육시설,게이트볼장외종,게이트볼장외종,철봉외종,체력단련장외종,야외체육시설,운동시설물외종,게이트볼장외종,웨밍암외종,서핑롤링머신외종,지압보도외종,에어워킹외종,오금펴기외종,워밍업외종,롤링웨이스트외종,노르딕머신외종,노르딕머신외종,등치기,크로스컨트리오종,스텝싸이클외종,하늘걷기외종,에어워킹외종,등펴기외종,위밍쇼울더외종,싸이클링외종,온몸근육풀기외종,노르딕머신에어위킹,레그프레스외종,에어서핑외종,스텝싸이클등종,워밍암외종,트윈트위스트외종,허리돌리기외종,싸이클링외종,배드민턴장다목적실설,다목적구장,게이트볼장,배드민턴장,농구장,배드민턴장,농구장,궁도장,양궁장,다목적운동시설,운동기구(),배드민턴장(),운동기구(),운동기구(),운동기구(),운동기구(),농구대(),운동기구(),운동기구(),농구대(),풋살장(),운동기구(),운동기구(),농구대(),농구대(),운동기구(),운동기구(),농구대(),운동기구(),운동기구(),농구대(),운동기구(),운동기구(),농구대(),운동기구(),인라인스케이트장(),운동기구(),농구대(),운동기구(),농구대(),운동기구(),배드민턴장(),운동기구(),게이트볼장(),운동기구(),미니축구장(),농구대(),운동기구(),농구대(),배드민턴장(),운동기구(),농구대(),운동기구(),운동기구(),운동기구(),풋살구장(),배드민턴장(),운동기구(),운동기구(),씨름장(),운동기구(),족구장(),배드민턴장겸농구장(),국국장(),농구대(),운동기구(),운동기구(),배드민턴장,농구장,체력단련시설,다목적운동장,체력단련시설,베드민턴장,농구장,체력단련시설,철봉,풋살결기장,체력단련시설,풋살운동장,파크골프장,수영장,양궁장,농구장,족구장,축구장,인공암벽장,그네개,흔들놀이기구개,조합놀이대개,회전놀이기구개,흔들놀이기구개,조합놀이대개,배드민턴장,테니스장,다목적운동장,농구장,배드민턴장,평행봉,철봉,농구대,농구장,철봉,평행봉,농구장,야외운동기구,철봉,야외운동기구,농구대,야외운동기구,야외운동기구,게이트볼장,야외운동기구,족구장,농구장,농구장,게이트볼장,배드민턴장,미니축구장,농구장,족구장,배구장,인라인트랙,농구골대,평행봉,철봉,평행봉,야외운동기구,운동시설,다목적광장,농구장,인라인스케이트장,풋살장,축구장,농구장,트랙,배드민턴장,게이트볼장,파크골프장,축구장,풋살장,농구장,트랙,배드민턴장,풋살장,인라인장(X게임장),풋살장,배드민턴장,다리펴기,허리돌리기,역기내리기,어깨돌리기등,자전거타기,허리돌리기등,자전거타기등,윗몸일으키기,파도타기,하늘걷기등,하늘걷기,허리돌리기등,하늘걷기,양팔밀기,하늘걷기,파도타기,마라톤운동등,어깨돌리기,파도타기,마라톤운동등,하늘걷기,어깨돌리기등,어깨돌리기,양팔밀기등,유아용운동시설등,다리펴기,자전거타기등,등허리지압기,어깨돌리기,허리돌리기등,허리돌리기등,허리돌리기,하늘걷기등,철봉,허리돌리기등,윗몸일으키기등,철봉등,하늘걷기등,허리돌리기,족구장등,철봉,윗몸일으키기등,허리돌리기,양팔밀기등,어깨돌리기,양팔밀기,허리돌리기등,허리돌리기,하늘걷기,등,윗몸일으키기,허리돌리기등,족구장,농구장등,배드민턴장,인라인스케이트장등,허리돌리기,역기등,양팔돌리기,노젓기등,간이운동시설,야외농구대,야외운동기구,체력단련시설,트윈트위스트,바웨이트,트윈트위스트,트윈바디싣업,트윈워밍암,레그프레스,크로스컨트리,스텝싸이클,워밍암,풀웨이트,파워프레스,풀웨이트,러닝싸이클,레그프레스,트위스트,바디싣업,,풀웨이트,파워프레스,트위스트,,배드민턴코트,푸쉬웨이트,터닝암,파워프레스풀웨이트,,농구대,스트레칭로라,크로스컨트리,체어웨이트,스텝싸이클,체어풀,워밍암,트윈바디싣업,풀웨이트,트윈트위스트,바웨이트,레그프레스,트윈워밍암,,달리기,온몸당기기,팔올리기,어깨근육,좌우흔들기,다리걷기,등허리안마,스트레칭로라,크로스컨트리,스텝싸이클,워밍암,풀웨이트,,달리기,팔올리기,팔내리기,어깨근육,다리밀기,좌우흔들기,다리걷기,허리돌리기,등허리안마,온몸근육,온몸노젓기,하늘걷기,옆파도타기,온몸허리돌리기,등허리지압기,,다리뻗치기,온몸근육풀기,온몸허리돌리기,등허리지압기,옆타도타기,크로스컨트리,스텝싸이클,워밍암,크로스컨트리,체어웨이트,체어풀,트윈바디싣업,풀웨이트,,배드민턴네트및포스트,스트레칭로라,크로스컨트리,체어웨이트,스텝싸이클,체어풀,워밍암,트윈바디싣업,풀웨이트,크로스컨트리,체어풀,워밍암,,생활체육시설,배드민턴장,스케이트장,풋살구장외종,축구장외종,배드민턴장외종,축구,족구,테니스,게이트볼장,풋살구장외종,배드민턴장,배드민턴장,게이트볼장,운동장,축구장,농구장,배구장,배드민턴장,기타,농구장,배드민턴장,축구장,농구장,배드민턴장,배드민턴장,기타,운동장,테니스장,축구장,배드민턴장,배드민턴장,게이트볼장,기타,배드민턴장,농구장,게이트볼장,농구대점,농구대외종점,농구대점,,윗몸일으키기,수평대,다리말아올리기,몸체말아올리기,허리돌리기,의자겸팔굽혀펴기,족구장,농구대,철봉,어깨근육풀기,허리돌리기파도타기,윗몸일으키기공중걷기,평행봉,공중걷기,파도타기,어깨근육풀기,윗몸일으키기,허리돌리기,윗몸일으키기,팔굽혀펴기,철봉,평형대,허리돌리기,파도타기,농구대,역기내리기,달리기,하늘걷기,파도타기,허리돌리기,파도타기,허리돌리기,공중걷기,씨름경기장,허리돌리기,공중걷기,파도타기,평행봉,윗몸일으키기,달리기,허리돌리기,파도타기,공중걷기,노젓기,역기내리기,어깨근육풀기,공중걷기파도타기,오금펴기허리돌리기,어깨근육풀기,파도타기,허리돌리기,공중걷기,윗몸일으키기,오금펴기,등허리지압기,파도타기,공중걷기,어깨근육풀기,허리돌리기,어깨유연성운동,공중걷기,등허리지압기,허리돌리기,달리기운동,역기내리기,어깨유연성운동,공중걷기,자전거타기,허리돌리기,파도타기,윗몸일으키기,공중걷기,어깨근육풀기,허리돌리기,허리돌리기어깨근육풀기,파도타기,윗몸일으키기,공중걷기,운동기구종,운동기구종,체육관(실내배드민턴장)개동,배드민턴장개소,체력단련시설기,체력단련시설기,체력단련시설기,운동장개소,배드민턴장개소,골프연습장개소,체력단련시설기,체력단련시설기,체력단련시설기,배드민턴장개소,체력단련시설기,농구장개소,배드민턴장개소,체력단련시설기,배드민턴장개소,체력단련시설기,배드민턴장개소,체력단련시설기,체력단련시설기,다목적운동장개소,배드민턴장개소,체력단련시설기,농구장개소,체력단련시설기,배드민턴장개소,배드민턴장개소,체력단련시설기,체스트업머신트위스트머신평행봉철봉,트위스트머신원그리기머신하늘걷기머신,철봉그네시소양회전운동머신마라톤운동머신노젖기운동머신양다리운동머신다리운동머신옆회전운동머신,앉아서팔올리기머신역기내리기머신마라톤머신,철봉체스트업머신트위스트머신평행봉,철봉역기지압머신하늘걷기머신앉아서팔올리기머신역기내리기머신옆회전운동머신마라톤머신양회전머신체스트업머신원그리기머신말타기머신다리밀기머신트위스트머신,게이트볼장,수영장,야외체력단련기구,체육관,족구장농구장,공중가로젓기,달리기,역기밀기,인라인스케이트장,실내체육관,축구장,족구장,테니스장,테니스장,골프장,승마장,테니스장,야구장,두류수영장,대구스타디움,육상진흥센터,인라인롤러경기장,체력단련장,체력단련시설,국궁장,농구장,배드민턴장,체력단련시설,배드민턴장,다목적운동장,체력단련시설,다목적운동장,인라인장,축구장,풋살장,배드민턴장,족구장,게이트볼장,농구장,체력단련시설,배드민턴장,체력단련시설,다목적운동장,생홀체육관,배드민턴장,게이트볼장,농구대,체력단련시설,게이트볼장,농구장,체력단련시설,배드민턴장,운동장,체력단련시설,게이트볼장,농구장,족구장,체력단련시설,실내게이트볼장,체력단련시설,배드민턴장,야외헬스장,농구장,게이트볼장,체력단련시설,운동장,게이트볼장,체력단련장,미니축구장,농구장,축구장,농구장,배구장,인라인장,미니축구장,농구대,체력단련시설개,게이트볼장,멀티코트,운동장,게이트볼장,체력단련장,배구장,게이트볼장,베드민턴장,체력단련장,다이나트랙,베드민턴장,배드민턴장,운동장,다목적운동장,베드민턴장,체력단련장,농구장,다목적운동장,운동기구종,골프연습장,눈썰매장,체력단련장,궁도장,실내베드민턴장,인라인스케이트장,운동장,체력단련장,게이트볼장,운동기구종,다목적운동장,수영장,실내베드민턴장,웅동기구종,농구대,운동기구종,운동장,배구장,농구장,풋살구장,체력단련장,체육관(게이트볼삭제요청),운동장,축구장,배드민턴장,배드민턴장,인라인장,농구대,축구장,풋살장,족구장,농구장,다목적운동장,족구장,축구장,국궁장,체력단련시설,골프연습장,테니스장,테니스장,골프연습장,궁도장,게이트볼장,체육시설,체육시설,체육시설,농구대,체육시설,풋살구장,체육시설,체육시설,풋살구장,체육시설,미니골대,체육시설,농구대,풋살구장,다목적구장,농구대,체육시설,체육시설,체육시설,농구대,체육시설,체육시설물,체육시설물,체육시설물,배구장,배드민턴장,농구장,게이트볼장,배드민턴장,다목적운동장,골프연습장,다목적운동장,정구장,농구장,배드민턴장,축구장,게이트볼장,인라인스케이트장,다목적구장,잔디운동장,그라운드골프장,축구장,테니스장,게이트볼,농구,테니스,풋살,족구,테니스,운동기구,배드민턴장,농구대,운동기구,농구대,운동기구,게이트볼구장,운동기구,족구장,핸드볼장,농구대,운동기구,축구장,농구대,운동기구,배구장,운동기구,농구대,배드민턴장,운동기구,농구대,다목적구장,운동기구,농구대,배드민턴장,게이트볼구장,운동기구,빙상경기장,배드민턴장,운동기구,족구장,농구대,운동기구,다목적구장,운동기구,배드민턴장,게이트볼구장,이라인스케이트장,운동기구,배드민턴장,게이트볼구장,테니스장,운동기구,농구대,배드민턴장,게이트볼구장,X게임장,운동기구,배드민턴장,축구장,풋살구장,배구장,족구장,축구장,운동기구,농구대,게이트볼구장,회전무대,정글집,농구대,배드민턴장,운동기구,배구장,축구장,농구대,운동기구,족구장,게이트볼구장,운동기구,족구장,게이트볼구장,농구대,운동기구,게이트볼장,풋살장,족구장,운종장,족구장,다목적코트,소운동장,족구장,운동기구,지압보도,배드민턴장등,다목적코트,인라인스케이트장,운동기구,애견놀이공간,운동기구,테니스장,파크골프,배드민턴장등,다목적코트,운동장,테니스장,,야구장,테니스장,축구장,풋살장,족구장,운동기구,다목적운동자,운동기구,게이트볼장,족구장,테니스장,운동기구,게이트볼장,운동기구,미니축구장,운동기구,배드민턴장,풋살장,운동기구,축구장,게이트볼장,족구장,운동기구,풋살장,족구장,농구장,배드민턴장,X게임장,풋살장,운동기구,산림체험시설,수변데크,섬(봄,여름,가을,겨율),허리돌리기,하늘걷기등운동기구,게이트볼장,체육시설,운동장,운동기구,다목적공간,다목적코트,운동기구,다목적공간,운동기구,농구대,운동기구,족구대,운동기구,헬스형운동기구등,미끄럼틀,그네등,게이트볼장,풋살경기장,조종,조종,조종,조종,조종,조종,조종,조종,조종,옥외수영장,실내수영장(아쿠아시스),다목적운동장,길거리농구장,풋살경기장,파크골프장,축구경기장,야구경기장,수영장,헬스장,테니스장,스쿼시장,인라인장,사격장,궁도장,론볼장,배드민턴장게이트볼장족구장,실내배드민턴장,구민운동장,다목적체육관,골프연습장,체력단련시설점,체력단련시설점,체력단련시설점,체력단련시설점,체력단련시설점,체력단련시설점,운동장개소,테니스장개소,체력단력시설점,운동장개소,테니스장개소,수영장개소,배드민턴개소,게이트볼개소,체력단력시설점,체력단련시설점,체력단련시설점,운동장개소,배드민턴개소,체력단련시설점,배드민턴장개소,체력단련시설점,체력단련시설점,체력단련시설점,운동장개소,배드민턴개소,체력단력시설점,체력단련시설점,베드민턴장,운동기구,회전무대,정글집,농구대,베드민턴장,운동기구,베드민턴장,농구대,운동기구,농구대,베드민턴장,게이트볼구장,운동기구,베드민턴장,게이트볼구장,이라인스케이트장,운동기구,베드민턴장,게이트볼구장,테니스장,운동기구,농구대,베드민턴장,게이트볼구장,X게임장,운동기구,농구대,베드민턴장,운동기구,베드민턴장,축구장,풋살구장,야외운동기구,농구대,축구장,족구장,야외운동기구,축구장,야외운동기구,배드민턴장,야외운동기구,지압로,축구장,풋살장,야외운동기구,빙상경기장,베드민턴장,운동기구,사격장,철봉등종,철봉,운동기구종,운동기구종,축구장면,운동기구종,운동기구종,운동기구종,운동기구종,운동장,수영장,야외운동시설,베드민턴장,야외운동시설,베드민턴장,테니스장,야외운동시설등,테니스장,야외운동시설,게이트볼장,야외운동기구,축구장,농구장,족구장,게이트볼장,배드민턴장등,운동기구,배드민턴장,농구대,족구대,배드민턴장,농구장,체력단련장,운동기구,게이트볼장,배드민턴장,농구장등,운동기구등,다목적운동장,배드민턴장등,운동기구등,체육관,농구장,체력단련시설,족구장,체력단련시설,풋살장,체력단련시설,풋살장,배드민턴장,운동시설물,운동기구등,운동기구,생활체육공간,운동기구등,운동기구등,운동기구등,생활체육공간,지압보도,운동기구등,운동기구등,운동기구등,운동기구등,운동기구등,운동기구,체력단련시설,게이트볼장,체력단련시설,인조잔디구장,체력단련시설,배구장,체력단련시설,농구대,체력단련시설,족구장,체력단련시설,X게임장,X게임장,체력단련시설,운동장,풋살장,체력단련시설,풋살장,체력단련시설,배드민턴장,농구장,풋살장,철재운동기구,생활체육시설,윗몸일으키기,평행봉,철봉,체력단련시설,생활체육시설,농구골대,생활체육시설,축구골대,심판대,과녁,테니스장심판대,테니스네트,족구대,농구골대,테니스장대기장,게이트볼장,단철봉,어깨유연성운동,윗몸일으키기,앉아밀기,양팔줄당기기,허리돌리기,등허리지압기,파도타기,온목허리돌리기,온몸근육풀기,다리펴기,양어깨돌리기,전신운동,복합운동기,등허리근육풀기,허리돌리기,상체근육풀기,공중걷기,파워프레스,바디싣업,배드민턴지주,트위스트,등허리근육풀기,허리돌리기,상체근육풀기,공중걷기,파워프레스,바디싣업,트위스트,파워프레스,바디싣업,트위스트,터닝암,등허리근육풀기,허리돌리기,상체근육풀기,공중걷기,파워프레스,바디싣업,트위스트,터닝암,입식트위스트,롤링트위스트,입식싸이클,허리돌리기,등허리지압기,파도타기,잠자리조합놀이대,트리플트위스트,스텝사이클,허리돌리기,마라톤운동,몸통돌리기,전신하늘걷기,다리쭉뻗치기,온몸역기내리기,등허리지압기,온몸역기올리기,온몸노젓기,등허리지압기,어깨근육풀기,마라톤운동,하체근육운동,하늘걷기,축구장,족구장겸농구장,육상트랙,농구장,다리말아올리기,몸체말아올리기,윗몸일으키기,허리돌리기,역기대,의자겸팔굽혀펴기,팔굽혀펴기,허리돌리기,배드민턴코드,철봉,인라인트랙,자전거발전기,복합형운동기구,온몸노젓기,플웨이트,스텝사이클,크라임스템퍼'"
      ]
     },
     "execution_count": 67,
     "metadata": {},
     "output_type": "execute_result"
    }
   ],
   "source": [
    "gym = re.sub(\"[\\[\\d\\-nan\\.\\]]\", \"\", gym)\n",
    "gym"
   ]
  },
  {
   "cell_type": "code",
   "execution_count": 68,
   "id": "b2ef996c",
   "metadata": {},
   "outputs": [
    {
     "data": {
      "text/plain": [
       "',,,,,,,,,,,,,,,,,농구장,궁도장,풋살구장,풋살구장,농구장,인라인스케이트장,축구장,족구장,게이트볼장,운동기구개,농구장개소,족구장개소,운동기구개,족구장개소,운동기구개,운동기구개,운동기구개,에어로빅장,농구장,테니스장,씨름장,농구장,바디싣업,스트레칭롤러,전신돌리기,허리안마기,허리비틀기,TM스탭사이클,TM체어웨이트,TM트윈바디싣업,TM트윈트위스트,TM크로스컨트리,TM풀웨이트,철봉,하늘걷기,마라톤운동,허리돌리기,단철봉,윗몸일으키기,철봉,팔굽혀펴기,몸통돌리기,허리좌우로흔들기,스트레칭롤러,풀웨이트,바웨이트,하늘걷기,온몸허리돌리기,스트레칭기,거꾸로매달리기,하늘걷기,온몸허리돌리기,등허리지압기,철봉,스탭싸이클,풀웨이트,트리플트위스트,트윈바디싣업,크로스컨트리,스트레칭롤러,트윈워밍암,하늘걷기,스탭싸이클,체어폴,철봉,트리플트위스트,트윈바디싣업,윗몸일으키기,온몸허리돌리기,팔굽혀펴기,다리뻗치기,온몸허리돌리기,거꾸로매달리기,하늘걷기,온몸허리돌리기,옆파도타기,크로스워킹스카이워킹,파워프레스풀웨이트,싸이클론트위스트,스탠드업마사지롤,사이드스윙터닝암,푸시웨이트레그프레스,평행봉,트윈바디싣업,트윈트위스트,스탭싸이클,크로스컨트리,체어풀,크로스컨트리,자전거팔뻗기,등안마기,트윈워밍암,체어웨이트,오버턴스트레칭,크로스컨트리,롤링웨이스트,레그프레스,트윈트위스트,체어웨이트,족구장,역기,등지압기,마라톤운동공중걷기운동,허리돌리기온몸돌리기,온몸역기올리기온몸근육풀기,트리플트위스트,트윈바디싣업,크로스컨트리,체어웨이트,롤링웨이스트,레그프레스,오버턴스트레칭,윗몸일으키기,트리플트위스트,평행봉,크로스컨트리,레그프레스,체어웨이트,롤링웨이스트,트윈바디싣업,레그스트레칭,크로스컨트리,어깨근육풀기,체어웨이트,트윈바디싣업(구형),트리플트위스트(구형),게이트볼장,운동시설,축구장,족구장,족구장,운동기구,운동기구,축구장배드민턴장농구장,배드민턴장족구장,농구대,배드민턴장,배드민턴장농구대,농구장개소,배드민턴장,게이트볼장개소체력단련시설개소기등,배드민턴장개소,체력단련시설개소개,배드민턴장개소,농구장개소,체력단련시설개소개,다목적체육관동,체력단련시설개소개,배드민턴장개소,농구정개소,체력단련시설개소개,농구장개소,체력단련시설개소개,체력단련시설개소개,체력단련시설개소개,없음,배드민터장개소,체력단련시설개소개,족구장개소,농구장개소,체력단련시설개소개,체력단련시설개소개,체력단련시설개소개,체력단련시설개소개,체력단련시설개소개,농구장개소,운동장개소,체력단련시설개소개,체력단련시설개소개,체력단련시설개소개,체력단련시설개소,하늘걷기마라톤운동,하늘걷기,마라톤운동,벤치,체력단련,철봉팔굽혀펴기평행봉허리돌리기배근력대,스텝싸이클체어플트윈바디싣업,역기내리기운동역기올리기운동노젓기운동허리돌리기운동양다리운동옆파도타기운동원그리기운동,달리기아래로당기기앞으로밀기체어풀허리돌리기공중걷기윗몽일으키기등허리지압기하체흔들기온몸근육풀기,등허리지압기온몸근육풀기,마라톤운동양다리운동등허리근육풀기운동옆파도타기운동,역기올리기운동양다리운동옆파도타기운동원그리기운동,노젓기운동허리돌리기운동양다리운동옆파도타기운동원그리기운동,역기내리운동역기올리기운동양다리운동옆파도타기운동,역기내리기운동역기올리기운동양다리운동옆파도타기운동원그리기운동,역기내리기운동역기올리기운동양다리운동옆파도타기운동,다목적구장,체력단련장,체육시설,궁도장,게이트볼장,테니스장,간이운동기구,간이운동기구농구장,간이운동기구게이트볼장,간이운동기구족구장,풋살장,농구장,그라운드골프장,운동기구,운동기구,미조성,배드민턴장_농구장,다목적구장(농구_풋살),축구장_테니스_배드민턴장_다목적구장,파크골프장_배드민턴장,풋살장_게이트볼장,배드민턴장_엑스게임장,윗몸일으키기,공중걷기,마라톤운동등,마라톤운동,하체돌리기공중걷기등,레그프레스,워밍암등,크로스컨트리,스트레칭로라등,윗몸일으키기,역기올리기등,농구장,하늘걷기,허리돌리기등,공중걷기,허리돌리기등,농구골대,야외헬스기구,트위스트,스카이워킹등,공중걷기,자전거타기,윗몸일으키기등,철봉,허리돌리기등,윗몸일으키기,다리벌리기,팔굽혀펴기등,윗몸일으키기,자전거타기,공중걷기등,베드민턴,풋살장,족구장,농구장,정구장,육상트랙,축구장,풋살장,론볼장게이트볼장,산책데크시설,배드민턴장,운동기구,다목적구장운동기구,농구장,족구장,농구장,배드민턴장,체육시설지구,축구장,테니스장,파크골프장,산악자전거,체육관,게이트볼장,족구장,농구장,운동기구,축구장,테니스장,운동기구,족구장,운동기구,배드민턴장,체육시설지구족구장,족구장,농구장,양궁장,자연체험장,축구장,인라인스케이트장,밸런스바이크장,운동공원개소,체력단련시설개소,농구장개소,족구장개소,운동기구개소,체력단련장개소,체력단련시설개소,국궁장(영주정)개소,체력단련시설개소,국궁장동,운동장기,체력단련장기,체력단련시설개소,체력단련시설개소,국궁장개소,국궁장개소,체력단력장개소,체력단련장개소,체력단련시설개소,체력단련장,국궁장,게이트볼장,배드민턴장,다목적운동장,테니스장,농구장,풋살경기장,수영장,게이트볼장,체력단련시설,농구장,운동기구,다목적운동장,야외체력단련시설,야외체력단련시설,족구장,농구장,야외체력단련시설,게이트볼장,야외체력단련시설,테니스장,체력단련장,다목적운동장,게이트볼장등,어린이운동시설,배드민턴,탁구,헬스,정구,헬스,배드민턴,궁터,운동장,배드민턴,조성계획미수립,조성중,다목적운동장,야외운동장,테니스장,실내체육관,궁도장,신체단련장,게이트볼장,농구장,농구장,배드민턴장,배드민턴장,발지압장,풋살장,배드민턴장,족구장,암벽등반,실내체육관,배드민턴장,맨발공원,농구장,족구장,테니스장,암벽등반,배드민턴장,체력단련장,풋살장,배드민턴장,다목적구장,배드민턴장,게이트볼장,야외운동기구,배드민턴장,운동기구,국궁장,골프연습장,배드민턴장,골프연습장,다목적운동장,배구장,배드민턴장,게이트볼장,체력단련장,체육센타,게이트볼장,다목적운동장,체력단련장,게이트볼장,배드민턴장,테니스장배구장,운동체육시설,놀이터,운동장,배드민턴장,실내체육관,체력단련장,생활체육시설지,체력단련장,게이트볼잘,체력단련장,배드민턴장,체육시설물,운동시설지,농구장,풋살경기장,운동시설물,농구장,운동기구,운동기구,국궁장,생활체육운동기구종,배드민턴장,풋살장면,족구장면,농구대EA,생활체육운동기구종,농구장면,게이트볼장,인라인스케이트장,풋살장면,생활체육운동기구종,농구대EA,생활체육운동기구종,배드민턴장,생활체육운동기구종,생활체육운동기구종,농구대EA,철봉EA,생활체육운동기구종,생활체육운동기구종,축구장면,테니스장면,게이트볼장,암벽장,생활체육시설종,다목적운동장,농구장EA,게이트볼장,생활체육시설EA,배드민턴장,축구장,족구장,조정경기장,엑스게임장,배드민턴장,농구장,배드민턴장,게이트볼장,농구장,게이트볼장,운동시설,운동시설,운동기구,운동기구,풋살장,농구대,운동기구,운동기구,운동기구,베드민턴장,운동시설,체육시설,체육시설,체육시설,운동기구,체육시설,운동기구,농구대,체육시설,운동기구,체육시설,운동기구,농구대,체육시설,농구대,체육시설,운동기구,체육시설,철봉,체육시설,체육시설,운동기구,농구대조합놀이대,시소,철봉,체육시설,농구대,운동기구,운동시설,농구장,,베드민턴장,인라인,족구장,베드민턴장,농구장,농구장,족구장,베드민턴장,테니스장,운동시설종,운동시설종,운동시설종,운동시설종,베드민턴장,운동시설종,운동시설종,농구장,운동시설종,농구장,운동시설종,게이트볼장,운동시설종,운동시설종,농구장,운동시설종,운동시설종,운동시설종,운동시설종,농구장,배드민턴장,농구장,배구장,족구장,게이트볼장,축구장,농구장,게이트볼장,운동기구,운동기구,운동기구,운동기구,운동기구,대성묘지,운동기구,운동기구,농구장,운동기구,족구장,미집행,축구장,국궁장,테니스장,족구장,농구장,야구장,풋살장,테니스장,운동기구등,다목적구장등,족구장등,축구장등,운동기구개,운동기구개소,운동기구개소,농구대,운동기구개,농구대,운동기구개,농구대,운동기구개,농구대,운동기구개,운동기구개,운동기구,운동기구,농구대,운동기구,철봉,운동기구,시민운동장,실내체육관,씨름장,축구장,궁도장,생활체육관,게이트볼장,다목적구장,배드민턴장,농구장,풋살장,게이트볼장,스포츠센타,게이트볼장,테니장,국궁장,다목적체육관,다목적운동장,체련단련장,족구장,배드민턴장,수영장,암벽장,풋살장,축구장,야구장,농구장,인라이스케이트장,야외형운동기구,게이트볼장,야외형운동기구,배드민턴장운동장,철봉,허리돌리기,하늘걷기등,허리돌리기,하늘걷기,파도타기등,테니스장,족구장,운동기구,족구장,운동기구,풋살장,배구장,배구장,테니스장,게이트볼장,유소년축구장,축구장관리실,유소년축구장,인라인장,운동기구,농구장,족구장,운동기구,농구장,배드민턴장,족구장,운동기구,농구장,배드민턴장,운동기구,야외운동기구,게이트볼장,야외운동기구,야외운동기구,배드민턴장,다목적운동장,야외운동기구,배드민턴장,야외운동기구,농구장,배드민턴장,다목적운동장,야외운동기구,축구장,테니스장,배구,배드민턴,축구장,씨름장,배구,배스민턴,농구장풋살경기장체육시설인라인트랙,축구장테니스장체육시설,야구장운동장족구장,테니스장배드민턴장체육시설,체육시설농구장,인라인트랙,다목적운동장체육시설,체육시설인라인스케이장농구장,체육시설축구장,체육시설물농구대,체율시설물,족구장농구대체육시설물,배드민턴장체육시설,N,테니스장,배드민턴장,농구장,배드민턴장,게이트볼장,체력단련기구,미로길,축구장테니스장다목적운동장,다목적운동장테니스장배드민턴장,배드민턴장게이트볼장농구장,테니스장축구장다목적운동장,축구장농구장,인조잔디구장,천연잔디구장,풋살경기장족구장게이트볼장,운동장족구장농구장,운동장게이트볼장,다목적운동장게이트볼장,게이트볼장,농구장,배드민턴장농구장,배드민턴장게이트볼장,농구장롤러스케이트장,농구장스포츠파크,배드민턴장인라인스케이트장,농구장배드민턴장,궁도장테니스장,배드민턴장게이트볼장인라인스케이트장,체련단련장,다목적운동장롤러스케이트장,다목적운동장체력단련장,운동장,롤러스케이트장,인라인스케이트장,운동공간,체력단련장,농구장,족구장,배드민턴장,풋살장,발맛사지장,허리돌리기대윗몸일으키기대오금펴기대파도타기대공중걷기대역기올리기대달리기운동대,이동식농구대개,운동기구개소,이동식농구대개,운동기구개소,이동식농구대개,운동기구개소,이동식농구대개,운동기구개소,운동기구개소,게이트볼장,농구장,운동장,인조잔디구장,소운동장,배드민턴,다목적구장,농구대,농구장,축구장,테니스장,축구장,테니스장,운동장,체육시설,배드민턴,족구,농구장,운동장,테니스장,풋살,배드민턴장(족구장겸용),게이트볼장,농구장,배드민턴장,테니스장,체육시설,농구대,골프연습장,농구장,테니스장,인조잔디구장,배드민턴장,게이트볼장,간이체육시설,산책로,자전거도로,풋살장,간이운동시설,배드민턴장,온몸근육풀기,허리돌리기,파도타기,윗몸일으키기,파도타기,허리돌리기,온몸근육풀기,온몸근육풀기,허리돌리기,파도타기,공중걷기,축구장,배드민턴장,테니스장,배드민턴장,족구장,다목적운동장실내배드민턴장체력단련시설,게이트볼장실내배드민턴장체력단련시설,다목적운동장체력단련시설,게이트볼장족구장체력단련시설,풋살장인라인스케이트장게이트볼장농구장다목적운동장배드민턴장파크골프장체력단련시설,풋살구장농구장체력단련시설,게이트볼장체력단련시설,농구장야외배드민턴장인라인스케이트장실내배드민턴장체력단련시설,풋살구장농구장족구장실내배드민턴장체력단련시설,멀티코트체력단련시설,축구장게이트볼장농구장인라인스케이트장테니스장실내배드민턴장체력단련시설,국궁장다목적운동장농구장실내배드민턴장게이트볼장체력단련시설,야외배드민턴장축구장테니스장농구장게이트볼장실내배드민턴장체력단련시설,축구장실내배드민턴장체력단련시설,야외배드민턴장체력단련시설,농구장체력단련시설,체력단련시설운동장,체력단련시설운동장(농구대),다목적운동장게이트볼장인라인스케이트장체력단련시설,체력단련시설운동장(축구골대,농구대),축구장체력단련시설,족구장체력단련시설,실내배드민턴장게이트볼장체력단련시설,실내다목적체육관체력단련시설,체력단련시설없음,다목적운동장파크골프장게이트볼장체력단련시설,조합놀이대그네흔들놀이대철봉,조합놀이대정글짐시소흔들놀이대,조합놀이대그네시소흔들놀이대,조합놀이대정글짐그네흔들놀이대,조합놀이대,축구장실내배드민턴장배구장씨름장농구장체력단련장,조합놀이대흔들놀이대,테니스장게이트볼장체력단련시설,족구장배드민턴장체력단련시설,야외배드민턴장,농구장야외배드민턴장다목적운동장체력단련시설,조합놀이대그네흔들놀이대,조합놀이대그네시소,조합놀이대그네시소흔들놀이대회전놀이대,조합놀이대그네흔들놀이대철봉평행봉,체력단련시설게이트볼장농구장,조합놀이대흔들놀이대암벽오르기,조합놀이대흔들놀이대놀이집,시소흔들놀이대,조합놀이대그네,농구장족구장,족구장등,X게임장,농구장배드민턴장인라인스케이트장,농구장족구장,족구장배드민턴장게이트볼장,축구장등,테니스장농구장족구장배드민턴장,축구장등,농구장배드민턴장게이트볼장X게임장,배트민턴장,축구장야구장배드민턴장테니스장농구장,족구장등,배드민턴장족구장그라운드골프장,다목적구장등,족구장배드민턴장게이트볼장농구장,배드민터장,운동기구종,운동기구종,운동기구종,테니스장,베드민턴장,게이트볼장,농구장,농구장,체력단련시설,배드민턴장,족구장,체력단련시설,체력단련시설,배드민턴장,풋살장,게이트볼장,인라인장,농구장,인공암벽,파크볼장,체련단련시설,좌식사이클,배드민턴장,풀웨이트,체어웨이트,배드민턴,체력단련시설,게이트볼장,농구장,배드민턴장,체력단련시설,족구장,배드민턴장,체력단련시설,지압보도,좌식사이클,운동기구종,운동장,배드민턴장,게이트볼장등,다목적인조잔디마당,테니스장,배드민턴장등,테니스장등,체력단련장,체력단련시설,턱걸이,윗몸일으키기,팔굽혀펴기,역기들기,농구장,게이트볼장,체력단련시설,다목적운동장,농구장,잔디볼링장,배구장,테니스장,게이트볼장,배드민턴장,체력단련장,다목적운동장,농구장,테니스장,게이트볼장,체력단련장,조깅코스,배드민턴장,인라인스케이트장,농구장,게이트볼장,풋살경기장,배드민턴장,족구장,게이트볼장,농구장반코트,배드민턴장,지압보도,게이트볼장,배드민턴,족구장,운동기구,게이트볼장,운동기구,게이트볼장,배드민턴장,운동기구,운동기구,농구대,배드민터운동기구,운동기구,운동기구,농구대,배드민턴,운동기구,운동기구,농구대,운동기구,농구대,배드민턴,운동기구,게이트볼장,농구대,베드민턴장,족구장,운동기구,게이트볼장,농구대,배드민턴장,운동기구,운동기구,운동기구,게이트볼장,배드민턴장,농구대,테니스장,농구대,배드민턴장,다목적운동장,운동기구,운동기구,농구대,배드민턴,운동기구,수영장,축구장,운동기구,농구대,운동기구,게이트볼장,운동기구,농구대,운동기구,운동기구,운동기구,농구대,운동기구,농구대,운동기구,게이트볼장,운동기구,게이트볼장,운동기구,농구대,운동기구,농구대,운동기구,배드민턴장,운동기구,농구대,롤러스케이트장,운동기구,농구대,배드민턴장,운동기구,농구대,배드민턴장,운동기구,농구대,배드민턴장,운동기구,운동기구,농구대,다목적운동장,농구대,미니축구장,운동기구,배드민턴장,운동기구,운동기구,농구대,운동기구,농구대,다목적운동장,운동기구,운동기구,농구대,배드민턴장,운동기구,농구대,운동기구,농구대,운동기구,게이트볼장,운동기구,농구대,운동기구,농구대,운동기구,농구대,운동기구,농구대,운동기구,농구대,배드민턴장,족구장,운동기구,농구대,다목적운동장,농구대,운동기구,배구장,농구대,다목적구장,롤러스케이트장,운동기구,축구장,농구대,테니스장,게이트볼장,체육관,족구장,배드민턴장,테니스장,농구장,풋살장,배드민턴장,게이트볼장,테니스장,다목적운동장,배드민턴장,게이트볼장,배드민턴장,농구장,다목적은동장,다목적운동장,게이트볼장,다목적운동장,게이트볼장,배드민턴장,다목적운동장,게이트볼장,농구장,다목적운동장,농구장,실내체육관,생활운동시설,배드민턴장,농구장,다목적운동장,야외헬스기구,배드민턴장,야외헬스기구,멀티스포츠센터,족구장,야외헬스기구,인라인스케이트장,야외헬스기구,지압보도,농구장면,마라톤면,게이트볼장면,테니스장면,다목적구장면,농구대개,농구대개,지압보도,농구대개,족구장면,정구장,지압보도,,게이트볼장,축구장,테니스장,족구장,,다목적구장,농구장,배드민턴장,족구장,테니스장,X게임장,농구장,배드민턴장,족구장,인라인스케이트장,농구장,배드민턴장,족구장,축구장,테니스장,족구장면,배더민턴장면,농구장면,테니스장면,배더민턴장,농구장면,족구장면,배더민턴장면,인라인스케이트장,족구장면,정구장면,배더민턴장면,게이터볼장면,족구장면,배더민턴장면,농구장면,족구장면,배더민턴장면,농구장면,족구장면,테니스장면,배더민턴장면,게이트볼장,배드민턴장,족구장,족구장,배드민턴장,운동장,풋살경기장,축구장,농구장,농구장면,파크골프장면,게이트볼장면,테니스장면,다목적구장면,지압보도,마라톤면,농구대개,마라톤,지압보도,농구대개,지압보도,농구장면,마라톤면,인라인스케이트장면,게이트볼장면,테니스장면,미니축구장면,다목적운동장,족구장,테니스장,농구장,풋살장,리틀야구장,,다목적체육관,다목적체육관,풋살장,농구장,테니스장,족구장배드민턴장,게이트볼장등,배드민턴장(족구장겸),운동시설등,배드민턴장,농구장,게이트볼장,체력단련장등,족구장,풋살장,축구장,풋살장,농구장,축구장,론볼링장,궁도장,썰매장,간이수영장,다목적구장,농구장,게이트볼장,배드민턴장,족구장,농구장,배드민턴장,축구장,인라인장,테니스장,족구장,다목적운동장,다목적운동장,농구장,체력단련시설등,체력단련시설및극기훈련시설,야외체육시설(팔굽혀펴기등),야외체육시설(온몸근육풀기등),족구장,체력단련장,야외체육시설,야외체육시설(트윈워밍암등),야외체육시설(온몸허리돌리기등),산책로,,,,,육상경기장·게이트볼장·배구장·배드민턴장·농구장·체력단련장·골프연습장·풋살경기장·자연체험장·국민체육센터·테니스장·역도훈련장,축구장·트랙·다목적체육시설·씨름장·체력단련시설,온몸근육풀기외종,온몸노젓기외종,양팔줄당기기외종,오팔펴기외종,달리기외종,하늘걷기외종,배드민턴지주등,하늘걷기외종,하늘걷기외종,크로스켠트리외종,윗몸일으키기외종,평행봉외종,배근력대외종,배근력대외종,크로스켠트리외종,농구대외종,농구대외종,평행잡기외종,배드민턴네트외종,단철봉외종,평행봉종,단철봉종,허리돌리기외종,옆파도외종,단철봉외종,양팔줄당기기인외종,배드민턴장외종,단철봉외종,평행봉외종,배드민턴외종,어깨근육인외종,양팔줄당기기외종,평행봉외종,단철봉외종,윗몸일으키기외종,평행봉외종,윗몸일으키기외종,거꾸리외종,어깨근육풀기외종,농구대등,온몸허리돌리기외종,단철봉외종,어께근육풀기외종,양팔줄당기기외종,윗몸일으키기외종,하체흔들기외종,단철봉등,온몸허리돌리기외종,윗몸일으키기외종,평행봉외종,족구지주외종,허리돌리기외종,배드민터코트외종,농구대외종,배근력대외종,어깨근육풀기외종,배드민턴지주대등,하체흔들기외종,양팔줄당기기외종,하체흔들기외종,허리돌리기외종,온몸근육풀기외종,축구장,테니스장,족구장,농구장,게이트볼장,배드민턴장,궁도장,야외헬스형운동기구개,야외헬스형운동기구개,야외헬스형운동기구개,야외헬스형운동기구개,야외헬스형운동기구개,야외헬스형운동기구개,야외헬스형운동기구개,야외헬스형운동기구개,야외헬스형운동기구개,야외헬스형운동기구개,야외헬스형운동기구개,야외헬스형운동기구개,야외헬스형운동기구개,야외헬스형운동기구개,야외헬스형운동기구개,농구장,야외헬스형운동기구개,게이트볼장,다목적운동장,야외헬스형운동기구개,야외헬스형운동기구개,야외헬스형운동기구개,게이트볼장,배드민턴장,야외헬스형운동기구개배드민턴장,다목적운동장,야외헬스형운동기구개,야외헬스형운동기구개,다목적운동장,조깅트랙,배드민턴장,게이트볼장,야외헬스형운동기구개,야외헬스형운동기구개,야외운동기구,야외운동기구,야외운동기구,축구장,다목적구장,야외운동기구,야외운동기구,축구장(인조),배구장,족구장,테니스장,야외운동기구,풋살,족구장,테니스장,,야외운동기구,야외운동기구,농구장,야외운동기구,게이트볼장,축구장,게이트볼장,파크골프장,실내체육관,체력단련실,실내수영장,야외농구장,야외운동기구식,야외운동기구,농구장,축구장,족구장,농구장,야외운동기구,축구장,그라운드골프장,야외운동기구,배드민턴장,야외운동기구,야외운동기구,야외운동기구,야외운동기구,야외운동기구,지압로㎡,지압로㎡,등의자,게이트볼장,풋살경기장,농구장,배드민턴장,역기,윗몸일으키기등,축구장,족구장,배드민턴장,농구장,윗몸일으키기,팔굽혀펴기,철봉,평행봉,농구장,배드민턴장,테니스장,윗몸일으키기,허리돌리기,농구장,배드민턴장,생활체육시설등,체력단련장,게이트볼장,인라인장,농구장,생활체육시설등,평행봉,철봉,철봉,평행봉,게이트볼장,생활체육시설,철봉,생활체육시설,농구대,생활체육시설,철봉,평행봉,게이트볼장,생활체육시설,윗몸일으키기,팔굽혀펴기,철봉,생활체육시설,팔굽혀펴기,조합놀이대,가위말차기,농구대,철봉,게이트볼장,테니스장,윗몸일으키기,평행봉,생활체육시설등,농구장,테니스장,게이트볼장,윗몸일으키기,평행봉등,배드민턴장,생활체육시설,게이트볼장,배드민턴장,농구장,철봉등,농구대,생활체육시설,농구대,철봉,평행봉,생활체육시설,철봉,평행봉,배드민턴장,생활체육시설등,농구대,배드민턴장,생활체육시설,배드민턴장,농구대,생활체육시설,철봉,축구장,배드민턴장,국궁장,체력단련시설,배드민턴장,체력단련시설,배드민턴장,족구장,체력단련시설,농구장,게이트볼장,배드민턴장,족구장,농구장,배드민턴장,족구장,축구장,배드민턴장,족구장,축구장,농구장,배드민턴장,족구장,배드민턴장,족구장,테니스장,배드민턴장,농구장,게이트볼장,배드민턴장,농구장,멀티코트,파크골프장,족구장,배드민턴장,농구장,게이트볼장,씨름장,러버가든,인조잔디구장,게이트볼장,야외운동기구,국궁장,게이트볼장,인라인스케이트장,야외운동기구,인조잔디구장,야외운동기구,베드민턴장,야외운동기구,농구장,야외운동기구,게이트볼장,농구장,야외운동기구,체력단련장개소,도시개발,체육진흥,관광개발,,,,야구장,축구장,다목적구장,축구장,베드민턴장,농구장,족구장,게이트볼장,다목적구장,농구장,베트민턴장,풋살장,농구장,족구장,배드민턴장개소,농구장,배드민턴장,축구장등,농구장,배드민턴장등,허리돌리기,다리흔들기,다리올리기,온몸펴기등,철봉,평행봉,허리돌리기,공중걷기등,철봉,평행봉공중걷기,허리돌리기등,허리돌리기,철봉,평행봉,역기올리기등,족구장,허리돌리기,공중걷기등,역기올리기,롤링웨이스트,트위스터등,평행봉,트위스트,허리돌리기등,축구장,철봉,평행봉,허리돌리기등,평행봉,허리돌리기,팔비틀기등,온몸펴기,공중걷기,허리돌리기등,평행봉,다리흔들기,허리돌리기등,농구장,헐리돌리기,공중걷기등,농구장,그라운드골프장등,농구장등,허리돌리기,공중걷기등,허리돌리기,배드민턴장,평행봉,철봉,공중걷기등,공중걷기,스트레칭로라,공중걷기,팔돌리기등,트윈트위스트롤링웨이스트,공중걷기,팔돌리기등,트윈트위스트,롤링웨이스트등,허리돌리기,파도타기,공중걷기등,철봉,허리돌리기,팔돌리기등,파도타기,공중걷기,허리돌리기,파도타기,공중걷기,팔돌리기등,공중걷기,파도타기,허리돌리기,허리돌리기,공중걷기,파도타기등,오금펴기,달리기운동,오금펴기등,크로스컨트리,트윈트위스터,롤링웨이스트등,공중걷기,허리돌리기,공중걷기,역기올리기등,허리돌리기,롤링웨이스트등,농구장,허리돌리기등,허리돌리기,평행봉,철봉,허리돌리기,팔돌리기등,허리돌리기,허리돌리기,농구장,터닝트위스트,워밍암,롤링웨이스트,허리돌리기,철봉,평행봉등,공중걷기,허리돌리기,공중걷기,허리돌리기,파도타기등,공중걷기등,허리돌리기,윗몸일으키기등,테니스장,허리돌리기,파도타기,공중걷기등,농구장,허리돌리기,팔돌리기등,축구장,농구장,족구장등,옆파도타기,마라톤운동,하늘걷기등,레일바이크,이색자전거길,실내체육관,인조잔디구장,풋살장,체력단련장,축구장,농구장,게이트볼장,체력단련장,테니스장,축구장,주민체육시설,운동시설,조기체육장등,다목적운동장등,베드민턴장등,농구장,베드민턴장등,축구장,농구장,베드민턴장등,인라인장,베드민턴장등,게이트볼장,농구장등,농구장,족구장,인라인스케이트장,농구장,베드민턴장,다목적구장,배드민턴장,체력단련시설,배드민턴장,체력단련시설,체력단련시설,체력단련시설,체력단련시설,배드민턴장,체력단련시설,체력단련시설,체력단련시설,체력단련시설,체력단련시설,체력단련시설,체력단련시설,체력단련시설,체력단련시설,농구장,체력단련시설,농구장,배드민턴장,축구장,체력단련시설,배드민턴장,체력단련시설,농구장,배드민턴장,배드민턴장,체력단련시설,배드민턴장,농구장,체력단련시설,xgme시설,체력단련시설,축구장,배드민턴장,xgme시설,체력단련시설,농구장,배드민턴장,추구장,파크골프장,조깅트랙,실내체육관,테니스장,xgme시설,체력단련시설,다목적운동장,배드민턴장,체력단련기구,농구장,체력단련기구,배드민턴장,족구장,체력단련기구,농구장,배드민턴장,체력단련기구,축구장,농구장,배드민턴장,게이트볼장,체력단련기구,테니스장,배드민턴장,골프연습장,체력단련기구,배드민턴장,게이트볼장,체력단련기구,농구장,게이트볼장,체력단련기구,운동장,농구장,게이트볼장,테니스장,다목적구장,배드민턴장,농구장,족구장,축구장,족구장,농구장,축구장,족구장,풋살장,농구장,배드민턴장,테니스장,배드민턴장,인라인스케이트장,소규모운동장,족구경기장,실외운동기구,실외운동기구,xgme장,축구장,게이트볼장,테니스장,정구장,소운동장,체조장,풋살구장,테니스장,농구장,족구장,에어서핑,노르딕머신에어워킹,트위스트,워밍쇼울더,바디싯업,에어워킹,에어서핑,바디싯업,에어워킹,트위스트바디싯업,마사지롤라,에어서핑,노르딕머신,마사지롤라,트위스트,에어서핑,에어워킹,워밍쇼울더,레그프레스,워밍암,트윈트위스트,에어서핑,마사지롤라,에어워킹,노르딕머신,오리다리펴기흔들코끼리,캥거루허리돌리기흔들코끼리,사자스텝퍼오리다리펴기,스트레칭롤라,트윈바디싯업,워밍암,체어웨이트,트윈트위스트,롤링웨이스트,크로스컨트리,마사지롤라,트위스트,캥거루허리돌리기흔들코끼리,사자스텝퍼오리다리펴기,오리다리펴기흔들코끼리,에어워킹,노르딕머신,워밍쇼울더,에어서핑,레그프레스,트윈바디싯업,에어서핑,노르딕머신,사자스텝퍼흔들코끼리,캥거루허리돌리기오리다리펴기,흔들코끼리,마사지롤라,트윈트위스트,워밍암,에어워킹,하늘걷기,등허리지압기,에어서핑,에어워킹,트위스트,온몸허리돌리기,옆파도타기,하늘걷기,트위스트,워밍쇼울더,에어서핑,철봉,평행봉,트위스트,에어워킹,에어서핑,마라톤운동,옆파도타기,온몸허리돌리기,크로스컨트리,트윈바디싯업,트윈트위스트,스트레칭로라,레그프레스,롤링웨이스트,워밍암,에어워킹,싸이클링,에어서핑,체어웨이트,풀웨이트,스트레칭로라,레그프레스,하체마사지기,좌식자전거,트윈전신지압기,전신스트레칭머신,풀웨이트,트윈트위스트,워밍암,크로스컨트리,워밍쇼울더,사이클링,에어워킹,마사지롤라,트위스트,해당없음,트윈트위스트,싸이클링,워밍쇼울더,에어워킹,워밍쇼울더,에어서핑,로우잉머신,자전거발전기,근육풀기발전기,허리돌리기발전기,파도타기발전기,롤링웨이스트,바디싯업,체어풀,스트레칭롤라,체어웨이트,워밍암,트위스트,마사지롤라,에어워킹,싸이클링,워밍쇼울더,로우잉머신,노르딕머신,스트레칭롤라,롤링웨이스트,트윈트위스트,풀웨이트,크로스컨트리,크로스컨트리,풀웨이트,트위스트,트윈바디싯업,스트레칭롤라,롤링웨이스트,트윈트위스트,크로스컨트리,체어웨이트,워밍쇼울더,에어서핑,체어웨이트,레그프레스,워밍암,스텝사이클,롤링웨이스트,체어풀,스트레칭롤러,트윈트위스트,레그프레스,크로스컨트리,풀웨이트,운동기구식,농구장,조깅코스,배트민턴장,테니스장,배구장,농구장,농구장,배구장,배드민턴장,축구장,다목적운동장,풋살장,농구대,농구장,배드민턴장,인라인장,족구장,농구장,족구장,배드민턴장,농구대,게이트볼장,베트민턴장,게이트볼장,전통그네,철봉,농구대,풋살경기장,게이트볼장,인라인스케이트장,농구장등,축구장,농구장등,농구장,축구장,윗몸일으키기외종,윗몸일으키기외종,다리굽혀펴기외종,크로스컨트리외종,공중걷기외종,게이트볼장외종,에어서핑외종,노르딕머신외종,노르딕머신외종,트위스트외종,평행봉외종,싸이클링외종,크로스컨트리외종,철봉외종,철봉외종,팔굽혀펴기외종,허리돌리기외종,스트레칭로라외종,농구대외종,철봉외종,평행봉외종,스텝싸이클외종,농구대외종,바디실업외종,노르딕머신외종,베드민턴장외종,노르딕머신외종,허리돌리기외종,농구대외종,싸이클링외종,싸이클링외종,싸아클링외종,베드민턴및포스트,싸이클링외종,어깨관절놀이외종,농구대외종,어깨관절놀이외종,농구대외종,평행봉외종,야외체육시설물,윗몸일으키기외종,평행봉외종,스텝싸이클등,싸이클링외종,트위스트외종,다목적구장외종,운동시설물,축구장외종,운동시설,배드민턴장외종,생활체육시설외종,축구장외종,마레트골프장,종합체육관외종,농구장외종,마레트골프장외종,야외체육시설,야외체육시설,게이트볼장외종,게이트볼장외종,철봉외종,체력단련장외종,야외체육시설,운동시설물외종,게이트볼장외종,웨밍암외종,서핑롤링머신외종,지압보도외종,에어워킹외종,오금펴기외종,워밍업외종,롤링웨이스트외종,노르딕머신외종,노르딕머신외종,등치기,크로스컨트리오종,스텝싸이클외종,하늘걷기외종,에어워킹외종,등펴기외종,위밍쇼울더외종,싸이클링외종,온몸근육풀기외종,노르딕머신에어위킹,레그프레스외종,에어서핑외종,스텝싸이클등종,워밍암외종,트윈트위스트외종,허리돌리기외종,싸이클링외종,배드민턴장다목적실설,다목적구장,게이트볼장,배드민턴장,농구장,배드민턴장,농구장,궁도장,양궁장,다목적운동시설,운동기구(),배드민턴장(),운동기구(),운동기구(),운동기구(),운동기구(),농구대(),운동기구(),운동기구(),농구대(),풋살장(),운동기구(),운동기구(),농구대(),농구대(),운동기구(),운동기구(),농구대(),운동기구(),운동기구(),농구대(),운동기구(),운동기구(),농구대(),운동기구(),인라인스케이트장(),운동기구(),농구대(),운동기구(),농구대(),운동기구(),배드민턴장(),운동기구(),게이트볼장(),운동기구(),미니축구장(),농구대(),운동기구(),농구대(),배드민턴장(),운동기구(),농구대(),운동기구(),운동기구(),운동기구(),풋살구장(),배드민턴장(),운동기구(),운동기구(),씨름장(),운동기구(),족구장(),배드민턴장겸농구장(),국국장(),농구대(),운동기구(),운동기구(),배드민턴장,농구장,체력단련시설,다목적운동장,체력단련시설,베드민턴장,농구장,체력단련시설,철봉,풋살결기장,체력단련시설,풋살운동장,파크골프장,수영장,양궁장,농구장,족구장,축구장,인공암벽장,그네개,흔들놀이기구개,조합놀이대개,회전놀이기구개,흔들놀이기구개,조합놀이대개,배드민턴장,테니스장,다목적운동장,농구장,배드민턴장,평행봉,철봉,농구대,농구장,철봉,평행봉,농구장,야외운동기구,철봉,야외운동기구,농구대,야외운동기구,야외운동기구,게이트볼장,야외운동기구,족구장,농구장,농구장,게이트볼장,배드민턴장,미니축구장,농구장,족구장,배구장,인라인트랙,농구골대,평행봉,철봉,평행봉,야외운동기구,운동시설,다목적광장,농구장,인라인스케이트장,풋살장,축구장,농구장,트랙,배드민턴장,게이트볼장,파크골프장,축구장,풋살장,농구장,트랙,배드민턴장,풋살장,인라인장(X게임장),풋살장,배드민턴장,다리펴기,허리돌리기,역기내리기,어깨돌리기등,자전거타기,허리돌리기등,자전거타기등,윗몸일으키기,파도타기,하늘걷기등,하늘걷기,허리돌리기등,하늘걷기,양팔밀기,하늘걷기,파도타기,마라톤운동등,어깨돌리기,파도타기,마라톤운동등,하늘걷기,어깨돌리기등,어깨돌리기,양팔밀기등,유아용운동시설등,다리펴기,자전거타기등,등허리지압기,어깨돌리기,허리돌리기등,허리돌리기등,허리돌리기,하늘걷기등,철봉,허리돌리기등,윗몸일으키기등,철봉등,하늘걷기등,허리돌리기,족구장등,철봉,윗몸일으키기등,허리돌리기,양팔밀기등,어깨돌리기,양팔밀기,허리돌리기등,허리돌리기,하늘걷기,등,윗몸일으키기,허리돌리기등,족구장,농구장등,배드민턴장,인라인스케이트장등,허리돌리기,역기등,양팔돌리기,노젓기등,간이운동시설,야외농구대,야외운동기구,체력단련시설,트윈트위스트,바웨이트,트윈트위스트,트윈바디싣업,트윈워밍암,레그프레스,크로스컨트리,스텝싸이클,워밍암,풀웨이트,파워프레스,풀웨이트,러닝싸이클,레그프레스,트위스트,바디싣업,,풀웨이트,파워프레스,트위스트,,배드민턴코트,푸쉬웨이트,터닝암,파워프레스풀웨이트,,농구대,스트레칭로라,크로스컨트리,체어웨이트,스텝싸이클,체어풀,워밍암,트윈바디싣업,풀웨이트,트윈트위스트,바웨이트,레그프레스,트윈워밍암,,달리기,온몸당기기,팔올리기,어깨근육,좌우흔들기,다리걷기,등허리안마,스트레칭로라,크로스컨트리,스텝싸이클,워밍암,풀웨이트,,달리기,팔올리기,팔내리기,어깨근육,다리밀기,좌우흔들기,다리걷기,허리돌리기,등허리안마,온몸근육,온몸노젓기,하늘걷기,옆파도타기,온몸허리돌리기,등허리지압기,,다리뻗치기,온몸근육풀기,온몸허리돌리기,등허리지압기,옆타도타기,크로스컨트리,스텝싸이클,워밍암,크로스컨트리,체어웨이트,체어풀,트윈바디싣업,풀웨이트,,배드민턴네트및포스트,스트레칭로라,크로스컨트리,체어웨이트,스텝싸이클,체어풀,워밍암,트윈바디싣업,풀웨이트,크로스컨트리,체어풀,워밍암,,생활체육시설,배드민턴장,스케이트장,풋살구장외종,축구장외종,배드민턴장외종,축구,족구,테니스,게이트볼장,풋살구장외종,배드민턴장,배드민턴장,게이트볼장,운동장,축구장,농구장,배구장,배드민턴장,기타,농구장,배드민턴장,축구장,농구장,배드민턴장,배드민턴장,기타,운동장,테니스장,축구장,배드민턴장,배드민턴장,게이트볼장,기타,배드민턴장,농구장,게이트볼장,농구대점,농구대외종점,농구대점,,윗몸일으키기,수평대,다리말아올리기,몸체말아올리기,허리돌리기,의자겸팔굽혀펴기,족구장,농구대,철봉,어깨근육풀기,허리돌리기파도타기,윗몸일으키기공중걷기,평행봉,공중걷기,파도타기,어깨근육풀기,윗몸일으키기,허리돌리기,윗몸일으키기,팔굽혀펴기,철봉,평형대,허리돌리기,파도타기,농구대,역기내리기,달리기,하늘걷기,파도타기,허리돌리기,파도타기,허리돌리기,공중걷기,씨름경기장,허리돌리기,공중걷기,파도타기,평행봉,윗몸일으키기,달리기,허리돌리기,파도타기,공중걷기,노젓기,역기내리기,어깨근육풀기,공중걷기파도타기,오금펴기허리돌리기,어깨근육풀기,파도타기,허리돌리기,공중걷기,윗몸일으키기,오금펴기,등허리지압기,파도타기,공중걷기,어깨근육풀기,허리돌리기,어깨유연성운동,공중걷기,등허리지압기,허리돌리기,달리기운동,역기내리기,어깨유연성운동,공중걷기,자전거타기,허리돌리기,파도타기,윗몸일으키기,공중걷기,어깨근육풀기,허리돌리기,허리돌리기어깨근육풀기,파도타기,윗몸일으키기,공중걷기,운동기구종,운동기구종,체육관(실내배드민턴장)개동,배드민턴장개소,체력단련시설기,체력단련시설기,체력단련시설기,운동장개소,배드민턴장개소,골프연습장개소,체력단련시설기,체력단련시설기,체력단련시설기,배드민턴장개소,체력단련시설기,농구장개소,배드민턴장개소,체력단련시설기,배드민턴장개소,체력단련시설기,배드민턴장개소,체력단련시설기,체력단련시설기,다목적운동장개소,배드민턴장개소,체력단련시설기,농구장개소,체력단련시설기,배드민턴장개소,배드민턴장개소,체력단련시설기,체스트업머신트위스트머신평행봉철봉,트위스트머신원그리기머신하늘걷기머신,철봉그네시소양회전운동머신마라톤운동머신노젖기운동머신양다리운동머신다리운동머신옆회전운동머신,앉아서팔올리기머신역기내리기머신마라톤머신,철봉체스트업머신트위스트머신평행봉,철봉역기지압머신하늘걷기머신앉아서팔올리기머신역기내리기머신옆회전운동머신마라톤머신양회전머신체스트업머신원그리기머신말타기머신다리밀기머신트위스트머신,게이트볼장,수영장,야외체력단련기구,체육관,족구장농구장,공중가로젓기,달리기,역기밀기,인라인스케이트장,실내체육관,축구장,족구장,테니스장,테니스장,골프장,승마장,테니스장,야구장,두류수영장,대구스타디움,육상진흥센터,인라인롤러경기장,체력단련장,체력단련시설,국궁장,농구장,배드민턴장,체력단련시설,배드민턴장,다목적운동장,체력단련시설,다목적운동장,인라인장,축구장,풋살장,배드민턴장,족구장,게이트볼장,농구장,체력단련시설,배드민턴장,체력단련시설,다목적운동장,생홀체육관,배드민턴장,게이트볼장,농구대,체력단련시설,게이트볼장,농구장,체력단련시설,배드민턴장,운동장,체력단련시설,게이트볼장,농구장,족구장,체력단련시설,실내게이트볼장,체력단련시설,배드민턴장,야외헬스장,농구장,게이트볼장,체력단련시설,운동장,게이트볼장,체력단련장,미니축구장,농구장,축구장,농구장,배구장,인라인장,미니축구장,농구대,체력단련시설개,게이트볼장,멀티코트,운동장,게이트볼장,체력단련장,배구장,게이트볼장,베드민턴장,체력단련장,다이나트랙,베드민턴장,배드민턴장,운동장,다목적운동장,베드민턴장,체력단련장,농구장,다목적운동장,운동기구종,골프연습장,눈썰매장,체력단련장,궁도장,실내베드민턴장,인라인스케이트장,운동장,체력단련장,게이트볼장,운동기구종,다목적운동장,수영장,실내베드민턴장,웅동기구종,농구대,운동기구종,운동장,배구장,농구장,풋살구장,체력단련장,체육관(게이트볼삭제요청),운동장,축구장,배드민턴장,배드민턴장,인라인장,농구대,축구장,풋살장,족구장,농구장,다목적운동장,족구장,축구장,국궁장,체력단련시설,골프연습장,테니스장,테니스장,골프연습장,궁도장,게이트볼장,체육시설,체육시설,체육시설,농구대,체육시설,풋살구장,체육시설,체육시설,풋살구장,체육시설,미니골대,체육시설,농구대,풋살구장,다목적구장,농구대,체육시설,체육시설,체육시설,농구대,체육시설,체육시설물,체육시설물,체육시설물,배구장,배드민턴장,농구장,게이트볼장,배드민턴장,다목적운동장,골프연습장,다목적운동장,정구장,농구장,배드민턴장,축구장,게이트볼장,인라인스케이트장,다목적구장,잔디운동장,그라운드골프장,축구장,테니스장,게이트볼,농구,테니스,풋살,족구,테니스,운동기구,배드민턴장,농구대,운동기구,농구대,운동기구,게이트볼구장,운동기구,족구장,핸드볼장,농구대,운동기구,축구장,농구대,운동기구,배구장,운동기구,농구대,배드민턴장,운동기구,농구대,다목적구장,운동기구,농구대,배드민턴장,게이트볼구장,운동기구,빙상경기장,배드민턴장,운동기구,족구장,농구대,운동기구,다목적구장,운동기구,배드민턴장,게이트볼구장,이라인스케이트장,운동기구,배드민턴장,게이트볼구장,테니스장,운동기구,농구대,배드민턴장,게이트볼구장,X게임장,운동기구,배드민턴장,축구장,풋살구장,배구장,족구장,축구장,운동기구,농구대,게이트볼구장,회전무대,정글집,농구대,배드민턴장,운동기구,배구장,축구장,농구대,운동기구,족구장,게이트볼구장,운동기구,족구장,게이트볼구장,농구대,운동기구,게이트볼장,풋살장,족구장,운종장,족구장,다목적코트,소운동장,족구장,운동기구,지압보도,배드민턴장등,다목적코트,인라인스케이트장,운동기구,애견놀이공간,운동기구,테니스장,파크골프,배드민턴장등,다목적코트,운동장,테니스장,,야구장,테니스장,축구장,풋살장,족구장,운동기구,다목적운동자,운동기구,게이트볼장,족구장,테니스장,운동기구,게이트볼장,운동기구,미니축구장,운동기구,배드민턴장,풋살장,운동기구,축구장,게이트볼장,족구장,운동기구,풋살장,족구장,농구장,배드민턴장,X게임장,풋살장,운동기구,산림체험시설,수변데크,섬(봄,여름,가을,겨율),허리돌리기,하늘걷기등운동기구,게이트볼장,체육시설,운동장,운동기구,다목적공간,다목적코트,운동기구,다목적공간,운동기구,농구대,운동기구,족구대,운동기구,헬스형운동기구등,미끄럼틀,그네등,게이트볼장,풋살경기장,조종,조종,조종,조종,조종,조종,조종,조종,조종,옥외수영장,실내수영장(아쿠아시스),다목적운동장,길거리농구장,풋살경기장,파크골프장,축구경기장,야구경기장,수영장,헬스장,테니스장,스쿼시장,인라인장,사격장,궁도장,론볼장,배드민턴장게이트볼장족구장,실내배드민턴장,구민운동장,다목적체육관,골프연습장,체력단련시설점,체력단련시설점,체력단련시설점,체력단련시설점,체력단련시설점,체력단련시설점,운동장개소,테니스장개소,체력단력시설점,운동장개소,테니스장개소,수영장개소,배드민턴개소,게이트볼개소,체력단력시설점,체력단련시설점,체력단련시설점,운동장개소,배드민턴개소,체력단련시설점,배드민턴장개소,체력단련시설점,체력단련시설점,체력단련시설점,운동장개소,배드민턴개소,체력단력시설점,체력단련시설점,베드민턴장,운동기구,회전무대,정글집,농구대,베드민턴장,운동기구,베드민턴장,농구대,운동기구,농구대,베드민턴장,게이트볼구장,운동기구,베드민턴장,게이트볼구장,이라인스케이트장,운동기구,베드민턴장,게이트볼구장,테니스장,운동기구,농구대,베드민턴장,게이트볼구장,X게임장,운동기구,농구대,베드민턴장,운동기구,베드민턴장,축구장,풋살구장,야외운동기구,농구대,축구장,족구장,야외운동기구,축구장,야외운동기구,배드민턴장,야외운동기구,지압로,축구장,풋살장,야외운동기구,빙상경기장,베드민턴장,운동기구,사격장,철봉등종,철봉,운동기구종,운동기구종,축구장면,운동기구종,운동기구종,운동기구종,운동기구종,운동장,수영장,야외운동시설,베드민턴장,야외운동시설,베드민턴장,테니스장,야외운동시설등,테니스장,야외운동시설,게이트볼장,야외운동기구,축구장,농구장,족구장,게이트볼장,배드민턴장등,운동기구,배드민턴장,농구대,족구대,배드민턴장,농구장,체력단련장,운동기구,게이트볼장,배드민턴장,농구장등,운동기구등,다목적운동장,배드민턴장등,운동기구등,체육관,농구장,체력단련시설,족구장,체력단련시설,풋살장,체력단련시설,풋살장,배드민턴장,운동시설물,운동기구등,운동기구,생활체육공간,운동기구등,운동기구등,운동기구등,생활체육공간,지압보도,운동기구등,운동기구등,운동기구등,운동기구등,운동기구등,운동기구,체력단련시설,게이트볼장,체력단련시설,인조잔디구장,체력단련시설,배구장,체력단련시설,농구대,체력단련시설,족구장,체력단련시설,X게임장,X게임장,체력단련시설,운동장,풋살장,체력단련시설,풋살장,체력단련시설,배드민턴장,농구장,풋살장,철재운동기구,생활체육시설,윗몸일으키기,평행봉,철봉,체력단련시설,생활체육시설,농구골대,생활체육시설,축구골대,심판대,과녁,테니스장심판대,테니스네트,족구대,농구골대,테니스장대기장,게이트볼장,단철봉,어깨유연성운동,윗몸일으키기,앉아밀기,양팔줄당기기,허리돌리기,등허리지압기,파도타기,온목허리돌리기,온몸근육풀기,다리펴기,양어깨돌리기,전신운동,복합운동기,등허리근육풀기,허리돌리기,상체근육풀기,공중걷기,파워프레스,바디싣업,배드민턴지주,트위스트,등허리근육풀기,허리돌리기,상체근육풀기,공중걷기,파워프레스,바디싣업,트위스트,파워프레스,바디싣업,트위스트,터닝암,등허리근육풀기,허리돌리기,상체근육풀기,공중걷기,파워프레스,바디싣업,트위스트,터닝암,입식트위스트,롤링트위스트,입식싸이클,허리돌리기,등허리지압기,파도타기,잠자리조합놀이대,트리플트위스트,스텝사이클,허리돌리기,마라톤운동,몸통돌리기,전신하늘걷기,다리쭉뻗치기,온몸역기내리기,등허리지압기,온몸역기올리기,온몸노젓기,등허리지압기,어깨근육풀기,마라톤운동,하체근육운동,하늘걷기,축구장,족구장겸농구장,육상트랙,농구장,다리말아올리기,몸체말아올리기,윗몸일으키기,허리돌리기,역기대,의자겸팔굽혀펴기,팔굽혀펴기,허리돌리기,배드민턴코드,철봉,인라인트랙,자전거발전기,복합형운동기구,온몸노젓기,플웨이트,스텝사이클,크라임스템퍼'"
      ]
     },
     "execution_count": 68,
     "metadata": {},
     "output_type": "execute_result"
    }
   ],
   "source": [
    "gym = re.sub(\".{2.}\", \".\", gym)\n",
    "gym"
   ]
  },
  {
   "cell_type": "code",
   "execution_count": null,
   "id": "ca351fdf",
   "metadata": {},
   "outputs": [],
   "source": []
  },
  {
   "cell_type": "code",
   "execution_count": 69,
   "id": "4d0acf3e",
   "metadata": {},
   "outputs": [
    {
     "data": {
      "text/plain": [
       "배드민턴장                     174\n",
       "농구장                       162\n",
       "운동기구                      144\n",
       "게이트볼장                     122\n",
       "족구장                        93\n",
       "                         ... \n",
       "테니스장게이트볼장체력단련시설             1\n",
       "족구장배드민턴장체력단련시설              1\n",
       "야외배드민턴장                     1\n",
       "농구장야외배드민턴장다목적운동장체력단련시설      1\n",
       "크라임스템퍼                      1\n",
       "Length: 742, dtype: int64"
      ]
     },
     "execution_count": 69,
     "metadata": {},
     "output_type": "execute_result"
    }
   ],
   "source": [
    "pd.Series(gym.split(',')).value_counts()"
   ]
  },
  {
   "cell_type": "code",
   "execution_count": 70,
   "id": "e6c59bee",
   "metadata": {
    "scrolled": true
   },
   "outputs": [
    {
     "data": {
      "text/plain": [
       "<AxesSubplot:>"
      ]
     },
     "execution_count": 70,
     "metadata": {},
     "output_type": "execute_result"
    },
    {
     "data": {
      "image/png": "[encoded data removed]",
      "text/plain": [
       "<Figure size 1080x360 with 1 Axes>"
      ]
     },
     "metadata": {
      "needs_background": "light"
     },
     "output_type": "display_data"
    }
   ],
   "source": [
    "pd.Series(gym.split(',')).value_counts().iloc[:30].plot(kind='bar', figsize= (15,5))"
   ]
  },
  {
   "cell_type": "code",
   "execution_count": null,
   "id": "10ecdc6f",
   "metadata": {},
   "outputs": [],
   "source": []
  },
  {
   "cell_type": "code",
   "execution_count": null,
   "id": "8a3de741",
   "metadata": {},
   "outputs": [],
   "source": []
  },
  {
   "cell_type": "code",
   "execution_count": 71,
   "id": "c1df7714",
   "metadata": {},
   "outputs": [],
   "source": [
    "def get_string(text):\n",
    "    if pd.isna(text):\n",
    "        return text\n",
    "    \n",
    "    text = re.sub(\"[\\d\\.'\\-(nan)\\[\\]\\/]\", \"\", text)\n",
    "    text = re.sub(' ', '', text)\n",
    "    text = re.sub(\".{2.}\", \".\", text)\n",
    "    return text"
   ]
  },
  {
   "cell_type": "code",
   "execution_count": 72,
   "id": "b575023f",
   "metadata": {
    "scrolled": true
   },
   "outputs": [
    {
     "data": {
      "text/plain": [
       "Index(['관리번호', '공원명', '공원구분', '소재지도로명주소', '소재지지번주소', '위도', '경도', '공원면적',\n",
       "       '공원보유시설(운동시설)', '공원보유시설(유희시설)', '공원보유시설(편익시설)', '공원보유시설(교양시설)',\n",
       "       '공원보유시설(기타시설)', '지정고시일', '관리기관명', '전화번호', '데이터기준일자', '제공기관코드', '제공기관명',\n",
       "       '시도', '구군'],\n",
       "      dtype='object')"
      ]
     },
     "execution_count": 72,
     "metadata": {},
     "output_type": "execute_result"
    }
   ],
   "source": [
    "df.columns"
   ]
  },
  {
   "cell_type": "code",
   "execution_count": 73,
   "id": "168b6e16",
   "metadata": {},
   "outputs": [],
   "source": [
    "df['편익시설'] = df['공원보유시설(편익시설)'].apply(get_string)"
   ]
  },
  {
   "cell_type": "code",
   "execution_count": 74,
   "id": "b53b7adf",
   "metadata": {},
   "outputs": [
    {
     "data": {
      "text/plain": [
       "화장실                      1086\n",
       "                          213\n",
       "벤치                        193\n",
       "정자,벤치                     165\n",
       "주차장,화장실                   141\n",
       "                         ... \n",
       "파고라,전망데크,벤치,화장실             1\n",
       "주차장,매점,화장실,음수대등             1\n",
       "자전거보관대,파고라,벤치,안내판           1\n",
       "자전거보관대,하고라,벤치,안내판,파고라       1\n",
       "주차장,화장실,음수대,공중전화            1\n",
       "Name: 편익시설, Length: 730, dtype: int64"
      ]
     },
     "execution_count": 74,
     "metadata": {},
     "output_type": "execute_result"
    }
   ],
   "source": [
    "df['편익시설'].value_counts()"
   ]
  },
  {
   "cell_type": "code",
   "execution_count": null,
   "id": "c8c68f24",
   "metadata": {},
   "outputs": [],
   "source": []
  },
  {
   "cell_type": "code",
   "execution_count": 75,
   "id": "c620af51",
   "metadata": {},
   "outputs": [
    {
     "data": {
      "text/plain": [
       "0         True\n",
       "1        False\n",
       "2        False\n",
       "3        False\n",
       "4        False\n",
       "         ...  \n",
       "18132    False\n",
       "18133     True\n",
       "18134    False\n",
       "18135    False\n",
       "18136     True\n",
       "Name: 편익시설, Length: 18137, dtype: bool"
      ]
     },
     "execution_count": 75,
     "metadata": {},
     "output_type": "execute_result"
    }
   ],
   "source": [
    "df['편익시설'].notnull()"
   ]
  },
  {
   "cell_type": "code",
   "execution_count": 76,
   "id": "c8bfe062",
   "metadata": {},
   "outputs": [
    {
     "data": {
      "text/plain": [
       "'화장실,화장실,화장실,주차장,관리사무소,화장실,화장실,화장실,주차장,화장실,주차장,화장실,주차장,문화회관,화장실,화장실,화장실,음수전,음수전,주차장,주차장,화장실,,,,화장실,,,,,,,,,,,,,,,,,,,,주차장,화장실,화장실,화장실,화장실,주차장,화장실,화장실,주차장,화장실,축구장,화장실,주차장,화장실,주차장,화장실,주차장,화장실,주차장,야영장,운동장,화장실,주차장,화장실,주차장,주차장,화장실,화장실,주차장,화장실,화장실,주차장,무대,화장실,주차장,주차장,화장실,주차장,화장실,저수지,산책로,축구장,주차장,주차장,주차장,화장실,주차장,화장실,주차장,화장실개소,어린이놀이터개소,화장실개소,어린이놀이터개소,어린이놀이터개소,주차장,화장실,화장실,주차장,화장실,주차장,화장실,화장실,대피소,사무소,약수터,교량,통제소,화장실,파고라,탐방지원센터,정보문화센터,배드민턴장,인조잔디축구장,배구장,배드민턴장,테니스장,휴게광장,체력단련장,청소년문화회관,화장실,조합놀이대,배드민턴장,조합놀이대,의자등,조합놀이대,의자등,조합놀이대,의자,바닥분수등,조합놀이대,의자,바닥분수등,조합놀이대,의자등,조합놀이대,의자,바닥분수등,조합놀이대,의자,의자,운동기구등,조합놀이대,의자,바닥분수등,조합놀이대,의자,바닥분수등,조합놀이대,의자등,조합놀이대,의자,바닥분수등,조합놀이대,의자,바닥분수등,조합놀이대,의자,바닥분수등,조합놀이대,의자등,의자,운동기구등,조합놀이대,의자등,조합놀이대,의자,바닥분수등,조합놀이대,의자등,조합놀이대,의자등,조합놀이대,의자등,조합놀이대,의자,화장실등,모험놀이,의자등,모험놀이,의자등,조합놀이대,의자,화장실등,조합놀이대,의자등,조합놀이대,의자,화장실등,조합놀이대,의자등,조합놀이대,의자,화장실등,조합놀이대,그네,화장실등,조합놀이대,의자등,조합놀이대,의자등,조합놀이대,의자,바닥분수등,조합놀이대,의자등,조합놀이대,의자,벽천분수등,조합놀이대,의자등,조합놀이대,의자등,조합놀이대,의자등,조합놀이대,의자,바닥분수등,자판기,화장실,화장실,화장실,파고라,평의자,등의자,원형쉘터,평의자,오두막,평벤치,등벤치,정자,평벤치,파고라,등벤치,평벤치,파고라,등벤치,평벤치,파고라,등벤치,파고라,등벤치,평벤치,정자,등벤치,평벤치,파고라,평벤치,등벤치,평벤치,파고라,등벤치,정자,등벤치,평벤치,파고라,평벤치,정자,구형의자,등벤치,파고라,등벤치,정자,등벤치,정자,등벤치,원두막,평벤치,파고라,등벤치,정자,파고라,등벤치,평벤치,정자,등벤치,ㄱ자의자,정자,파고라,원형벤치,등벤치,평벤치,원두막,야외테이블,등벤치,정자,등벤치,평벤치,정자,등벤치,원두막,등벤치,원형벤치,정자,등의자,원형의자,정자,등벤치,원형벤치,정자,야외테이블,난간,등벤치,정자,등벤치,정자,화장실남,여,평벤치,정자,등벤치,평벤치,정자,등벤치,정자,원형벤치,등벤치,등벤치,평벤치,야외탁자,원두막,쓰레기통,쓰레기단지,등벤치,평벤치,정자,등벤치,벤치,원형벤치,정자,등벤치,등벤치,정자,등벤치,평벤치,정자,화장실,정자,의자,화장실,파고라,의자,화장실,파고라,의자,화장실,파고라,의자,화장실,정자,의자,의자,화장실,정자,의자,화장실,정자,평상,화장실,정자,의자,화장실,파고라,의자,화장실,정자,화장실,정자,화장실,화장실,화장실,파고라,의자,주차장+매점+화장실,주차장+화장실,화장실,화장실,화장실,화장실,화장실개소,화장실개소,화장실개소,없음,화장실개소,화장실개소,없음,화장실개소,없음,없음,없음,화장실개소,없음,없음,없음,없음,없음,없음,없음,없음,없음,없음,없음,없음,없음,없음,없음,화장실개소,없음,없음,없음,없음,없음,없음,없음,없음,없음,없음,없음,없음,없음,없음,없음,없음,없음,없음,없음,없음,파고라+평의자,파고라+평의자,파고라+평의자,파고라+벤치,파고라+벤치,파고라+벤치,파고라+벤치,파고라+벤치,파고라+벤치,파고라+벤치,파고라+벤치,파고라+벤치,파고라+벤치,벤치,파고라+벤치,벤치,안내소+화장실+파고라+분수,화장실,표지및휴지통,주차장,앉음벽피크닉테이블모듈벤치등의자평의자,앉음벽파고라B피크닉테이블등의자평의자,앉음벽파고라등의자평의자,모듈벤치등의자B평의자B,모듈벤치토끼벤치등의자B,등의자B평의자B앉음벽,화장실샤워장주차장주차장공동취사장,앉음벽파고라B등의자평의자,주차장주차장주차장,전망대음수대,데크전망대A,데크전망대A데크전망대,화장실주차장주차장주차장,통석의자,화장실주차장주차장주차장주차장,주차장,앉음벽사각정자등의자평의자,통석의자,통석의자,전망대주차장,앉음벽파고라C등의자평의자,전망대주차장주차장주차장화장실주차장주차장휴양림웰빙유스호스텔웰빙유스호스텔웰빙유스호스텔안동호반유스호스텔유스호스텔숲속의집관리안내동주차장산림문화휴양관약선음식레스토랑전망테크쉽터방문자센터웰빙휴양관전망테크쉽터전망대화장실화장실화장실,주차장,앉음벽피크닉테이블B,앉음벽파고라B피크닉테이블등의자평의자,육각정자등의자B평의자B,주차장주차장화장실,주차장,화장실,전망대주차장주차장,매표소주차장화장실휴게음식점,화장실,화장실,화장실,화장실,화장실,화장실,화장실,화장실,화장실,화장실,화장실,화장실,화장실,화장실,화장실,화장실동,화장실동,화장실동,화장실동,관리사무소동,전망대,화장실,주차장,화장실,화장실,화장실,화장실,화장실,화장실,화장실,화장실,화장실,화장실,화장실,화장실,파고라,벤치,화장실,파고라,벤치,화장실,화장실,화장실,화장실,화장실,화장실,화장실,화장실,화장실,화장실,화장실,화장실,화장실,화장실,생태관리사무소,화장실,화장실,화장실,화장실,방문자센타,화장실,화장실,화장실,화장실,화장실_주차장,화장실,화장실,화장실,화장실,사각파고라e,평의자,등의자,사각파고라e,평의자,사각파고라e,평의자,등의자,목재데크,파고라,벤치,벤치,그늘집,세면대e,벤치,주차장면,벤치,벤치,정자,벤치,정자,벤치,정자,벤치,음수대,화장실,탈의실그늘막,벤치,등나무파고라,벤치,정자,벤치,화장실,정자,벤치,화장실,세면대,파고라,정자,벤치,평상,주차장,수도,화장실,케이블카하부정류장,주차장,화장실등,화장실,케이블카상부정류장,화장실등,미조성,미조성,미조성,화장실,음수장,미조성,미조성,미조성,미조성,미조성,미조성,화장실,주차장화장실,화장실,화장실,화장실,주차장,관리실,화장실,주차장,관리실,음수대,화장실,화장실,주차장,화장실,화장실,음수대,화장실,화장실,화장실,화장실,화장실,화장실,화장실,화장실,화장실,화장실,주차장식당,관리실화장실,화장실주차장,화장실,화장실,화장실,주차장,화장실,주차장매점화장실관광안내소,화장실,화장실,화장실,화장실,화장실,화장실,화장실,화장실,화장실,화장실,화장실,화장실,화장실,화장실,화장실,화장실,화장실,화장실,화장실,화장실,주차장,음수대,화장실,주차장,음수대,주차장,화장실,화장실,화장실,주차장,주차장,화장실,화장실,음수대,화장실,화장실,화장실,화장실,화장실,화장실,화장실,화장실,화장실,화장실,화장실,화장실,화장실,화장실,화장실,화장실,음수대,화장실,화장실,화장실,주차장,화장실,화장실,화장실,화장실,화장실,화장실,화장실,주차장,주차장,주차장,화장실,주차장,화장실,음수대,주차장,화장실,음수대,정자,화장실,화장실,음수대,주차장,화장실,화장실,화장실,화장실,주차장,화장실,화장실,주차장,화장실,축구장,화장실,주차장,화장실,주차장,화장실,주차장,화장실,주차장,야영장,운동장,화장실,주차장,화장실,주차장,화장실,주차장,주차장,주차장,화장실,화장실,주차장,화장실,화장실,주차장,무대,주차장,화장실,주차장,주차장,화장실,주차장,화장실,저수지,산책로,축구장,주차장,주차장,주차장,화장실,주차장,화장실,주차장,전망대개소,데크전망대개소,화장실개소,전망대개소,주차장개소,화장실개소,주차장개소,,,화장실동,화장실동,,화장실개소,,화장실개소,,음수대개소,화장실개소,수도전개소,,,,,,특산품전시판매장개소,화장실개소,음수대개소,주차장개소,전망대,주차장,화장실,화장실,주차장,화장실,화장실,화장실,음수대,화장실,화장실,주차장,화장실,주차장,화장실,음수대,주차장,화장실,주차장,샤워장,화장실,세척대,화장실,주차장,산책로,전망대,화장실,음수대,주차장,주차장,주차장,화장실,주차장,화장실,정자,정자,정자,정자,정자,휴게소,주차장,화장실,화장실,주차장,화장실,카페테리아,주차장,주차장,화장실,화장실,주차장,화장실,주차장,화장실,주차장,화장실,화장실,주차장,주차장,화장실,무,무,무,화장실,음수장,주차장,조성계획미수립,조성계획미수립,조성계획미수립,조성계획미수립,조성계획미수립,조성중,조성계획미수립,조성중,조성중,주차장,화장실,전망대,주차장,화장실,음수대,주차장,화장실,팔각정,화장실,주차장,약수터,주차장,전망대,화장실,음수전,화장실,벤치,주차장,벤치,벤치,벤치,벤치,벤치,벤치,벤치,벤치,벤치,주차장,화장실,음수대,벤치,파고라,주차장,화장실,전망대,분수대,화장실,주차장,주차장,화장실,전망대,주차장,화장실,전망대,주차장,팔각정,음수대,화장실,벤치,벤치,음수대,벤치,벤치,벤치,벤치,벤치,벤치,벤치,벤치,벤치,벤치,벤치,벤치,벤치,벤치,벤치,벤치,벤치,벤치,벤치,벤치,벤치,벤치,벤치,벤치,벤치,일반음식점,매점,주차장,화장실,주차장,화장실,전망대,음수대,변소,변소,음수대,음수대,변소,변소,전망대,음수대,음수대,음수대,화장실,팔각정자,주차장,휴게음식점,주차장,화장실,멀티비전,화장실,주차장,주차장,화장실,전망대,화장실,화장실,안내판,음수전,관리사무실,화장실,벤치,벤치,벤치,벤치,벤치,벤치,벤치,벤치,벤치,벤치,벤치,벤치,벤치,벤치,벤치,벤치,벤치,벤치,벤치,벤치,벤치,벤치,벤치,벤치,벤치,벤치,벤치,벤치,벤치,벤치,벤치,벤치,벤치,벤치,벤치,벤치,벤치,벤치,벤치,벤치,벤치,벤치,벤치,벤치,벤치,벤치,벤치,벤치,벤치,벤치,벤치,벤치,벤치,벤치,벤치,벤치,벤치,벤치,벤치,벤치,벤치,벤치,벤치,벤치,벤치,벤치,벤치,벤치,벤치,벤치,벤치,벤치,벤치,벤치,벤치,벤치,벤치,벤치,벤치,벤치,벤치,벤치,벤치,벤치,벤치,벤치,벤치,벤치,벤치,벤치,벤치,벤치,벤치,벤치,벤치,음수대,음수대,식당,매점,화장실,화장실,화장실,화장실,화장실,화장실,주차장,화장실,화장실,화장실,화장실,화장실,화장실,화장실,화장실,화장실,주차장,화장실,휴게음식점,화장실,주차장,화장실매점,주차장,화장실,화장실,화장실,화장실,화장실,화장실,화장실,화장실,화장실,화장실,화장실,화장실,화장실,화장실,화장실,화장실,화장실,화장실,화장실,파고라,파고라,,파고라,의자대,파고라,의자,파고라,의자,파고라,육각정자,파고라,의자,등의자,파고라,의자,파고라,앉음벽외개소개,정자,의자,파고라,의자,등의자,파고라,의자,등의자,파고라,정자,의자,등의자,오석벤치세트,파고라,의자,아치형돌의자,파고라,벤치,의자,오석벤치세트,오석의자,정자,의자,정자,의자,등의자,오석의자,정자,파고라,의자,정자,의자,,정자,의자,등의자,정자,파고라,의자,정자,파고라,의자,오석벤치세트,정자,의자,오석의자,정자,의자,등의자,평상의자,의자,등의자,사각의자,파고라,의자,버섯의자,나뭇잎의자,파고라,정자,정자,파고라,의자,오석벤치세트,정자,파고라,의자,오석벤치세트,정자,파고라,음수대,의자,오석의자,야외테이블,앉음벽,파고라,파고라평의자,화장실,주차장,화장실,화장실,화장실,화장실,주차장,화장실,화장실,화장실,화장실,화장실,화장실,화장실,주차장,누각,매점,화장실,정자,파고라,의자,주자창,화장실,정자,파고라,의자,정자,의자,파고라,의자,화장실,정자,정자,의자,파고라,의자,그네,화장실,파고라,의자,화장실,정자,의자,파고라,의자,화장실,파고라,의자,화장실,정자,파고라,의자,정자,의자,정자,파고라,의자,화장실,파고라,의자,정자,의자,정자,파고라,,정자,정자,의자,파고라,의자,화장실,파고라,의자,파고라,의자,정자,의자,의자,의자,파고라,의자,파고라,의자,파고라,의자,파고라,의자,주차장,화장실,의자,정자,파고라,벤치,파고라,벤치,파고라,벤치,파고라,벤치,벤치,파고라,벤치,파고라,벤치,퍼걸러,벤치,화장실,정자,벤치,화장실,퍼걸러,벤치,정자,벤치,화장실,주차장,벤치,정자,벤치,벤치,퍼걸러,벤치,벤치,벤치,정자,벤치,벤치,벤치,파고라,벤치,벤치,벤치,벤치,정자,벤치,벤치,정자,벤치,파고라,벤치,파고라,벤치,파고라,벤치,파고라,벤치,파고라,벤치,벤치,파고라,벤치,파고라,벤치,벤치,벤치,벤치,파고라,벤치,파고라,벤치,정자,벤치,파고라,벤치,벤치,정자,벤치,파고라,벤치,피고라,벤치,파고라,벤치,파고라,벤치,파고라,벤치,파고라,벤치,파고라,벤치,파고라,벤치,파고라,벤치,벤치,파고라,벤치,파고라,벤치,파고라,벤치,정자,벤치,정자,벤치,정자,벤치,미조성,미조성,미조성,파고라,정자,의자,미조성,미조성,파고라,정자,의자,파고라,의자,미조성,파고라,의자,파고라,정자,의자,정자,의자,파고라,의자,파고라,의자,파고라,의자,미조성,미조성,미조성,파고라,의자,미조성,미조성,미조성,미조성,미조성,파고라,정자,의자,미조성,정자,정자,정자,정자,정자,수북정,궁남지,산책로,주차장,화장실,정자개소,운동시설개소,주차장,화장실,방문자센터,전망대,주차장,화장실,화장실,주차장,화장실,주차장,화장실,화장실,화장실,화장실,화장실,화장실,화장실,주차장,화장실,주차장,화장실,화장실,주차장,화장실,전망대,주차장,화장실,정자및벤치등,정자및벤치등,정자및벤치등,파고라및벤치등,파고라및벤치등,정자및벤치등,정자및벤치등,파고라및벤치등,파고라및벤치등,정자및벤치등,파고라및벤치등,파고라및벤치등,파고라및벤치등,파고라및벤치등,파고라및벤치등,파고라및벤치등,파고라및벤치등,벤치등,파고라및벤치등,파고라및벤치등,벤치,벤치,파고라및벤치등,파고라및벤치등,정자및벤치등,정자및벤치등,농막및벤치등,파고라및벤치등,파고라,음수대,평의자,파고자,의자개,파고자,벤치,안내판개,파고자,벤치,음수대개,파고자,벤치,음수대개,파고자,벤치,파고자,벤치,음수대개,파고라,벤치,음수대,파고라,벤치,테이블,음수대,평벤치,등벤치,주차장,화장실,주차장,화장실,주차장,화장실,주차장,화장실,주차장,화장실,주차장,화장실,주차장,화장실,주차장,화장실,화장실,공중화장실,매점,주차장,주차장,파고라,파고라,공중화장실,파고라,음수대,공중화장실,공중화장실,공중화장실,매점,공중화장실,음수대,음수대,음수대,주차장,공중화장실,공중화장실,공중화장실,공중화장실,주차장,공중화장실,주차장,주차장,주차장,공중화장실,주차장,공중화장실,주차장,주차장,화장실,주차장,호장실,전망대,그늘시렁,주차장,화장실,주차장,관리실,화장실,파고라,주차장,화장실,주차장,화장실,파고라,화장실,파고라,파고라,화장실,파고라,파고라,파고라,주차장,화장실,파고라,파고라,파고라,파고라,파고라,화장실,주차장,화장실,주차장,화장실,주차장,전망대,화장실,주차장,전망대,휴게음식점,유스호스텔,화장실,주차장,주차장,화장실,주차장,화장실,주차장,화장실,주차장,화장실,주차장,쉼터,화장실,주차장,화장실,주차장,화장실,주차장,음수대,무대,분수대,정자,의자,주차장,화장실,음수대,음수대,정자,의자,화장실,음수대,정자,의자,화장실,음수대,정자,의자,화장실,음수대,정자,의자,화장실,음수대,정자,의자,화장실,음수대,무대,파고라,의자,화장실,음수대,무대,정자,의자,화장실,화장실,화장실+주차장,화장실,화장실,주차장,전망대,화장실,등의자등,주차장,전망대,화장실,등의자,평상등,주차장,매점,화장실,등의자,평상등,주차장,화장실등,주차장,분수대등,주차장등,주차장,화장실등,주차장,화장실등,주차장,전망대,화장실,주차장,화장실등,주차장,화장실등,주차장,화장실,물놀이수경시설등,평의자,평의자,화장실,음수대,평의자,음수대,화장실,통나무의자,등의자,평의자,등의자,평의자,등의자,등의자,평의자,등의자,등의자,평의자,등의자,평의자,등의자,평의자,등의자,평의자,등의자,등의자,평의자,등의자,평의자,등의자,평의자,등의자,평의자,평의자,등의자,평의자,등의자,평의자,등의자,평의자,평의자,평의자,평의자,평의자,평의자,등의자,평의자,등의자,평의자,등의자,평의자,등의자,평의자,등의자,평의자,화장실,화장실,음수대,등의자,평의자,화장실,음수대,음수대,평의자,등의자,평의자,등의자,평의자,등의자,평의자,등의자,평의자,등의자,평의자,등의자,평의자,등의자,평의자,등의자,평의자,등의자,평의자,등의자,평의자,등의자,평의자,평의자,등의자,평의자,파고라,평의자,파고라,파고라,화장실,화장실,등의자,등의자,평의자,평의자,등의자,파고라,등의자,평의자,등의자,평의자,등의자,평의자,평의자,평의자,등의자,평의자,등의자,평의자,등의자,평의자,평의자,평의자,평의자,등의자,등의자,평의자,등의자,평의자,등의자,등의자,평의자,등의자,평의자,등의자,평의자,등의자,평의자,평의자,파고라,파고라,평의자,등의자,평의자,등의자,평의자,등의자,평의자,평의자,등의자,평의자,등의자,평의자,등의자,평의자,등의자,평의자,등의자,등의자,평의자,등의자,평의자,등의자,평의자,등의자,평의자,등의자,평의자,등의자,평의자,등의자,평의자,등의자,평의자,등의자,등의자,평의자,등의자,평의자,등의자,평의자,등의자,평의자,등의자,평의자,등의자,평의자,등의자,평의자,등의자,평의자,등의자,평의자,등의자,평의자,평의자,등의자,평의자,평의자,등의자,평의자,등의자,평의자,등의자,평의자,등의자,평의자,등의자,평의자,등의자,평의자,등의자,평의자,등의자,평의자,등의자,평의자,등의자,평의자,등의자,평의자,등의자,평의자,화장실,평의자,파고라,등의자,평의자,등의자,등의자,평의자,등의자,등의자,평의자,화장실,등의자,평의자,등의자,평의자,등의자,화장실,주차장,화장실,푸드트럭,화장실,화장실,화장실,화장실,주차장,화장실,푸드트럭,매점,화장실,주차장,화장실,주차장,화장실,주차장화장실관리사무소,화장실주차장,화장실주차장관리사무소,화장실,화장실주차장,화장실관리사무소,화장실주차장관리사무소,화장실주차장,주차장화장실관리사무소,주차장화장실관리사무소,주차장화장실,주차장화장실관리사무소,주차장화장실관리사무소매점,주차장화장실관리사무소카페,화장실,N,N,화장실,N,N,N,N,화장실,화장실,화장실,N,화장실,화장실,화장실,화장실,화장실,N,N,화장실,N,화장실,N,N,N,N,N,N,N,N,N,화장실,N,N,N,N,N,N,N,N,N,N,N,화장실,화장실,화장실,주차장+화장실,주차장+화장실,주차장+화장실,주차장+화장실,화장실,화장실,화장실,화장실,주차장,주차장,화장실,화장실+음수대,화장실,화장실,주차장+화장실,주차장+화장실,화장실,화장실,전망대,화장실,주차장,화장실+세족장,주차장,주차장+화장실,주차장+화장실,주차장+화장실,화장실,화장실,주차장,화장실,화장실,주차장,화장실+주차장,화장실,화장실,화장실,화장실,화장실,화장실,화장실,화장실,화장실,화장실,화장실,화장실,화장실,화장실,화장실,화장실,화장실,화장실,화장실,화장실,화장실,화장실,주차장화장실,주차장,화장실주차장벤치정각,화장실,주차장,화장실,화장실,관리사무소,화장실,음수전,음수전,음수전,음수전,화장실,음수전,음수전,음수전,음수전,음수전,음수전,화장실,음수전,화장실,음수전,음수전,음수전,화장실,화장실,음수전,화장실,화장실,자전거보관대,화장실,화장실,음수장,자전거보관대,음수전,화장실,화장실,화장실,화장실,음수전,화장실,음수전,화장실,음수전,화장실,화장실,음수전,음수전,음수전,움수전,화장실,음수전,자전거보관대,화장실,자전거보관대,화장실,화장실,음수대,화장실,화장실,음수전,관리사무소,화장실,음수전,휴게실,음수전,음수전,음수전,화장실,음수전,화장실,화장실,화장실,화장실,화장실,화장실,관리사무소,화장실,화장실,자전거보관대,화장실,화장실,관리사무소,화장실,주차장+화장실,화장실,화장실,화장실,화장실,화장실,화장실,화장실,화장실,화장실,화장실,화장실,화장실,주차장+화장실,화장실,화장실,화장실,화장실,화장실,화장실,화장실,화장실,화장실,화장실,화장실,화장실,화장실,화장실,화장실,화장실,화장실,화장실,화장실,화장실,화장실,화장실,화장실,화장실,화장실,화장실,화장실,화장실,화장실,화장실,화장실,주차장+화장실,화장실,화장실,화장실,화장실,화장실,화장실,화장실,화장실,화장실,화장실,화장실,화장실,화장실,화장실,화장실,화장실,화장실,화장실,화장실,주차장+화장실,화장실,화장실,화장실,화장실,화장실,화장실,화장실,화장실,화장실,화장실,화장실,화장실,화장실,화장실,화장실,화장실,화장실,화장실,화장실,화장실,화장실,화장실,화장실,주차장화장실,화장실,화장실,화장실,화장실,화장실,화장실,화장실,화장실,화장실,화장실,화장실,화장실,화장실,화장실,화장실,화장실,화장실,화장실,화장실,화장실,화장실,화장실,화장실,화장실,화장실,화장실,화장실,화장실,화장실,화장실,화장실,화장실,화장실,화장실,화장실,화장실,화장실,화장실,화장실,화장실,화장실,화장실,매점,화장실,화장실,화장실,화장실,화장실,화장실,화장실,화장실,화장실,화장실,화장실,화장실,화장실,화장실,화장실,화장실,화장실,화장실,화장실,화장실,화장실,화장실,화장실,화장실,화장실,화장실,화장실,화장실,화장실,화장실,화장실,화장실,화장실,화장실,화장실,화장실,화장실,화장실,화장실,화장실,화장실,화장실,화장실,화장실,화장실,화장실,화장실,화장실,화장실,화장실,화장실,화장실,화장실,화장실,화장실,화장실,앉음벽,의자,파고라,정자,의자,자전거보관대,평의자,안내판,의자,등의자,앉음벽,앉음벽,의자,사각테이블,쉼터,의자,파고라,관리센터,화장실,매점,주차장,샤워실,화장실,의자,파고라,음수대,휴게쉼터,화장실,주차장,휴게쉼터,화장실,파고라,의자,파고라,의자,파고라,의자,파고라,파고라,의자,파고라,의자,파고라,평의자앉음벽,관리동,화장실,주차장,파고라,평상,의자,파고라,의자,앉음벽,파고라,의자,밴취,파고라,의자,파고라,의자,앉음벽,파고라,의자,앉음벽,파고라,의자,앉음벽,야외테이블,의자,앉음벽,파고라,의자,앉음벽,파고라,의자,파고라,평의자,앉음벽,휴게쉼터,관리사무소,파고라,야외탁자,평의자,아외무대,파고라,관린사무소,화장실,야외쉼터,휴게쉼터,화장실,휴게쉼터,화장실,휴게쉼터,화장실,야외쉼터,휴게쉼터,휴게쉼터,의자,파고라,의자,정자,휴게쉼터,휴게쉼터,휴게쉼터,화장실,휴게쉼터,화장실,휴게쉼터,휴게쉼터,의자,파고라,의자,파고라,의자,파고라,의자,파고라,의자,파고라,앉음벽,의자,파고라,의자,파고라,의자,파고라,의자,파고라,의자,파고라,의자,파고라,앉음벽,의자,파고라,앉음벽,휴게소,의자,파고라,앉음벽,의자,파고라,자전거보관대,의자,파고라,앉음벽,안내판,안내판,벤치,의자,파고라,자전거보관대,하고라,벤치,안내판,파고라,자전거보관대,파고라,벤치,안내판,주차장,매점,화장실,음수대등,화장실,음수대,화장실,화장실,화장실,화장실,화장실,주차장,화장실,화장실,음수대,음수대,음수대,화장실,음수대,주차장,화장실,주차장,화장실,음수대,화장실,음수대,음수대,음수대,음수대,주차장,음수장,음수장,파고라,파고라,주차장,주차장,음수장,주차장,음수장,화장실,주차장,음수대,화장실,주차장,음수대,주차장,화장실,화장실,화장실,주차장,주차장,화장실,화장실,음수대,화장실,화장실,화장실,화장실,화장실,화장실,화장실,화장실,화장실,화장실,화장실,화장실,화장실,화장실,화장실,화장실,음수대,화장실,화장실,화장실,주차장,화장실,화장실,화장실,화장실,화장실,화장실,화장실,주차장,주차장,주차장,화장실,주차장,화장실,음수대,주차장,화장실,음수대,정자,화장실,화장실,음수대,화장실,화장실,화장실,화장실,화장실,화장실,화장실,화장실,화장실,화장실,화장실,화장실,화장실,음수전,화장실,음수전,음수전,정자,벤치,화장실,정자,벤치,화장실,화장실,파고라,전망데크,벤치,화장실,파고라,벤치,화장실,정자,벤치,화장실,음수전,음수전,음수전,벤치,파고라,벤치,파고라,벤치,음수전,음수대,시계탑,의자,파고라,화장실,음수대,파고라,의자,화장실,음수대,시계탑,의자,파고라,화장실,음수대,파고라,의자,파고라,의자,음수대,파고라,의자,음수대,의자,팔각정,평상,파고라,의자,화장실,파고라,의자,평상,화장실,의자,음수대,파고라,의자,음수대,시계탑,화장실,파고라,의자,음수대,화장실,파고라,의자,음수대,화장실,파고라,의자,음수대,화장실,파고라,의자,평상,화장실,파고라,의자,음수대,시계탑,파고라의자,음수대,화장실,파고라,음수대,파고라,의자,음수대,파고라,음수대,파고라,의자,음수대,파고라,의자,음수대,파고라,의자,파고라,의자,파고라,의자,파고라,의자,파고라,의자,파고라,의자,평상,화장실,파고라,의자,파고라,의자,화장실,화장실,안내소,휴게음식점,휴게소,의자,파고라,파고라,의자,파고라,의자,의자,음수대,의자,파고라,파고라,의자,음수대,파고라,의자,의자,의자,음수대,파고라,의자,파고라,의자,파고라,의자,파고라,의자,파고라,의자,음수대,파고라,의자,음수대,파고라,의자,의자,음수대,파고라,의자,파고라,의자,파고라,의자,음수대,의자,음수대,파고라,의자,파고라,의자,파고라,의자,파고라,의자,파고라,의자,파고라,의자,파고라,의자,음수대,파고라,의자,파고라,의자,음수대,파고라,의자,음수대,의자,파고라,의자,음수대,파고라,의자,파고라,의자,음수대,파고라,의자,평상,화장실,파고라,의자,의자,파고라,의자,음수대,시계탑,파고라,의자,파고라,의자,화장실,파고라,의자,음수대,화장실,파고라,의자,화장실,파고라,의자,화장실,파고라,의자,음수대,파고라,의자,파고라,의자,음수대,파고라,의자,음수대,파고라,의자,파고라,의자,파고라,의자,파고라,의자,파고라,의자,파고라,의자,파고라,의자,음수대,파고라,의자,음수대,파고라,의자,파고라,의자,파고라,의자,파고라,의자,파고라,의자,음수대,파고라,의자,음수대,의자,음수대,파고라,의자,음수대,파고라,의자,음수대,파고라,의자,음수대,파고라,의자,음수대,파고라,의자,음수대,파고라,의자,음수대,파고라,의자,음수대,파고라,의자,파고라,의자,파고라,의자,파고라,의자,음수대,의자,음수대,파고라,의자,음수대,파고라,의자,파고라,의자,파고라,의자,파고라,의자,파고라,의자,음수대,파고라,의자,음수대,파고라,의자,음수대,파고라,의자,음수대,파고라,의자,파고라,파고라,의자,음수대,파고라,의자,음수대,파고라,의자,음수대,파고라,의자,음수대,파고라,의자,음수대,파고라,의자,음수대,파고라,의자,음수대,의자,음수대,파고라,의자,파고라,의자,파고라,의자,파고라,의자,파고라,의자,음수대,파고라,의자,평상,의자,의자,의자,파고라,의자,평상,의자,파고라,의자,화장실,주차장,화장실,전망대,파고라,음수대,의자,주차장,화장실,파고라,음수대,의자,화장실,전망대,정자,의자,주차장,화장실,파고라,정자,의자,주차장,화장실,전망대,파고라,음수대,의자,화장실,파고라,의자,화장실,파고라,의자,음수대,화장실,파고라,의자,음수대,화장실,정자,의자,화장실,파고라,의자,음수대,파고라,의자,음수대,화장실,의자,음수대,정자,파고라,의자,음수대,화장실,정자,파고라,의자,음수대,화장실,파고라,의자,음수대,파고라,의자,화장실,정자,의자,정자,의자,화장실,정자,의자,정자,의자,정자,의자,정자,의자,화장실,정자,의자,정자,의자,정자,의자,정자,의자,화장실,정자,의자,화장실,정자,의자,화장실,정자,의자,화장실,정자,의자,화장실,정자,의자,화장실,정자,의자,화장실,정자,의자,정자,의자,음수대,화장실,정자,의자,정자,의자,화장실,정자,의자,화장실,정자,의자,정자,의자,화장실,정자,의자,파고라,의자,화장실,파고라,정자,의자,화장실,파고라,의자,파고라,의자,파고라,의자,파고라,의자,파고라,의자,정자,의자,정자,의자,정자,의자,정자,의자,파고라,의자,정자,의자,정자,의자,정자,의자,정자,의자,정자,의자,정자,의자,파고라,의자,정자,의자,정자,의자,정자,의자,정자,의자,파고라,의자,정자,의자,정자,의자,정자,의자,정자,의자,파고라,의자,정자,의자,정자,의자,정자,의자,정자,의자,파고라,의자,정자,의자,음수대,정자,의자,정자,의자,음수대,정자,의자,음수대,파고라,정자,의자,정자,의자,정자,의자,음수대,파고라,의자,파고라,의자,파고라,의자,파고라,정자,의자,파고라,의자,파고라,의자,체육시설,의자,의자,의자,화장실,파고라,의자,파고라,의자,파고라,의자,파고라,의자,음수대,주차장,매점,화장실,매점,화장실,화장실,화장실,화장실,화장실,화장실,화장실,화장실,화장실,화장실,광장,무대,정자,주차장,매점,화장실,전망대,화장실동,음수대개,취사장개,데크로드,출렁다리,오작교,화장실동,화장실동,화장실동,화장실동,화장실동,화장실동,음수대개,화장실동,음수대,음수대,음수대,화장실,무대,관리사,음수대,,화장실,,화장실,주차장,,화장실,주차장,화장실,,화장실,,화장실,,화장실,,화장실,,주차장,화장실,음수대,주차장,화장실,음수대,주차장,화장실,화장실,음수대,전망대,화장실,화장실,주차장개소,화장실동,음수대개,주차장개소,화장실동,음수대개,주차장개소,화장실동,주차장개소,화장실동,음수대개,주차장개소,화장실동,음수대개,주차장개소,화장실동,음수대개,주차장개소,화장실동,음수대개,화장실동,전망대개소,급수시설개,주차장개소,화장실동,음수대개,음수대개,급수시설개,화장실동,화장실동,지하주차장개소,화장실동,음수대개,주차장,화장실,화장실,화장실,화장실,화장실,화장실,화장실,화장실,화장실동,화장실동,교각,화장실동,화장실동,화장실동,화장실동,세족장,화장실동,화장실동,화장실동,음수대개,취사장개,데크로드,출렁다리,오작교,화장실동,화장실동,화장실동,화장실동,화장실동,화장실동,음수대개,화장실동,음수대,음수대,음수대,화장실,무대,관리사,음수대,,화장실,,화장실,주차장,,화장실,주차장,화장실,,화장실,,화장실,,화장실,,화장실,,주차장,화장실,음수대,주차장,화장실,음수대,주차장,화장실,화장실,음수대,전망대,화장실,화장실,주차장개소,화장실동,음수대개,주차장개소,화장실동,음수대개,주차장개소,화장실동,주차장개소,화장실동,음수대개,주차장개소,화장실동,음수대개,주차장개소,화장실동,음수대개,주차장개소,화장실동,음수대개,화장실동,전망대개소,급수시설개,주차장개소,화장실동,음수대개,음수대개,급수시설개,화장실동,화장실동,지하주차장개소,화장실동,음수대개,주차장,화장실,화장실,화장실,화장실,화장실,화장실,화장실,화장실,화장실동,화장실동,교각,화장실동,화장실동,화장실동,화장실동,세족장,화장실동,화장실동,화장실동,음수대개,취사장개,데크로드,출렁다리,오작교,화장실동,화장실동,화장실동,화장실동,화장실동,화장실동,음수대개,화장실동,음수대,음수대,음수대,화장실,무대,관리사,음수대,,화장실,,화장실,주차장,,화장실,주차장,화장실,,화장실,,화장실,,화장실,,화장실,,주차장,화장실,음수대,주차장,화장실,음수대,주차장,화장실,화장실,음수대,전망대,화장실,화장실,주차장개소,화장실동,음수대개,주차장개소,화장실동,음수대개,주차장개소,화장실동,주차장개소,화장실동,음수대개,주차장개소,화장실동,음수대개,주차장개소,화장실동,음수대개,주차장개소,화장실동,음수대개,화장실동,전망대개소,급수시설개,주차장개소,화장실동,음수대개,음수대개,급수시설개,화장실동,화장실동,지하주차장개소,화장실동,음수대개,주차장,화장실,화장실,화장실,화장실,화장실,화장실,화장실,화장실,화장실동,화장실동,교각,화장실동,화장실동,화장실동,화장실동,세족장,화장실동,화장실동,화장실동,음수대개,취사장개,데크로드,출렁다리,오작교,화장실동,화장실동,화장실동,화장실동,화장실동,화장실동,음수대개,화장실동,음수대,음수대,음수대,화장실,무대,관리사,음수대,,화장실,,화장실,주차장,,화장실,주차장,화장실,,화장실,,화장실,,화장실,,화장실,,주차장,화장실,음수대,주차장,화장실,음수대,주차장,화장실,화장실,음수대,전망대,화장실,화장실,주차장개소,화장실동,음수대개,주차장개소,화장실동,음수대개,주차장개소,화장실동,주차장개소,화장실동,음수대개,주차장개소,화장실동,음수대개,주차장개소,화장실동,음수대개,주차장개소,화장실동,음수대개,화장실동,전망대개소,급수시설개,주차장개소,화장실동,음수대개,음수대개,급수시설개,화장실동,화장실동,지하주차장개소,화장실동,음수대개,주차장,화장실,화장실,화장실,화장실,화장실,화장실,화장실,화장실,화장실동,화장실동,교각,화장실동,화장실동,화장실동,화장실동,세족장,화장실동,화장실동,주차장,화장실,매점,식당,주차장,화장실,방문자센터,매점,주차장,화장실,주차장,화장실,주차장,화장실,화장실,주차장,화장실,주차장,화장실,주차장,화장실,주차장,화장실,주차장,화장실,카페테리아등,,주차장,자전거보관대,음수전,화장실,주차장,자전거보관대,음수전,자전거보관대,자전거보관대,음수전,주차장,야영장,주차장,화장실,무장애나눔길,간이판매대,음수대,주차장,화장실,매점,자전거보관대,주차장,화장실,매점,자전거보관대,주차장,화장실,주차장,자전거보관대,화장실,음수전,파고라,초정,음수대,자전거보관대등,주차장,음수전,주차장,데크,주차장,자전거보관대,음수전,주차장,매점,화장실,약수터,주차장,화장실,화장실,음수전,화장실,주차장,화장실,주차장,음수대,화장실,주차장화장실,화장실,화장실,화장실,주차장,관리실,화장실,주차장,관리실,음수대,화장실,화장실,주차장,화장실,화장실,음수대,화장실,화장실,화장실,화장실,화장실,화장실,화장실,화장실,화장실,화장실,주차장식당,관리실화장실,화장실주차장,화장실,화장실,화장실,주차장,화장실,주차장매점화장실관광안내소,의자,파고라,의자,파고라,의자,파고라,의자,화장실,파고라,의자,화장실,파고라,의자,파고라,의자,파고라,의자,의자,파고라,의자,전망대,,,,,,,,,,,,,,,,,,,,,,,,,,,,,,,,,,,,,,,,,,,,,,,,,,,,,,,,,,,,,,,,,,,,,,,,,,,,,,,,,,,,,주차장,매점,화장실,주차장,화장실,화장실,주차장,화장실,주차장,화장실,화장실,주차장,화장실,주차장,화장실,화장실,화장실,화장실,화장실,화장실,화장실,화장실,주차장,화장실,화장실,화장실,화장실,주차장,화장실,주차장,화장실,화장실,주차장,화장실,주차장,화장실,주차장,화장실,화장실,주차장,화장실,화장실,화장실,주차장,화장실,화장실,화장실,화장실,화장실,화장실,화장실,화장실,주차장·화장실·휴게소·전망대·음수장,,음수대·화장실및샤워실·본부석·주차장,주차장·화장실·전망대,화장실·간이매점,화장실·간이매점,관리사무소등,관리사무소등,화장실,화장실,화장실외개소,화장실,음수대등,화장실등,화장실등,음수대등,음수대등,이동식화장실외종,움수대,음수대등,음수대등,음수대등,음수대등,관리사무소외개소,화장실,화장실외개소,음수대등,음수대등,경로당등,음수대등,화장실등,화장실등,관리사무소외개소,화장실등,화장실등,주차장,화장실등,주차장,화장실등,주차장,화장실등,관리사무소,화장실,관리사무소,화장실,화장실,경로당,관리사무소,화장실,관리사무소,화장실,관리사무소,화장실,경로당,화장실,경로당,화장실,화장실,관리사무소,화장실,화장실,화장실,화장실,화장실,화장실,조성계획미수립,조성계획미수립,조성계획미수립,조성계획미수립,조성계획미수립,조성중,조성계획미수립,조성중,조성중,파고라,평의자,파고라,평의자,파고라,평의자,등의자,파고라,평의자,등의자,파고라,평의자,등의자,파고라,평의자,등의자,파고라,등의자,평의자,피크닉테이블,파고라,등의자,평의자,등의자,파고라,등의자,평의자,파고라,등의자,평의자,등의자,파고라식,평의자,공사중,평의자,파골라,평의자,등의장,피크닉테이블,판매시설,파고라,평의자,파고라,파고라,사각정자,파고라,평의자,등의자,파고라,파고라,평의자,등의자,동물의자,발자국의자,파고라,평의자,등의자,파고라,평의자,등의자,파고라,평의자,등의자,파고라,평의자,등의자,파고라,평의자,파고라,평의자,등의자,파고라,평의자,등의자,파고라,평의자,등의자,화장실,시계탑,화장실,관리사무소,주차장,화장실,음수대,주차장,주차장,주차장,음수대옹달샘,화장실,음수대,화장실,음수대,음수대,주차장,화장실,주차장,전신전화국예비군중대,화장실,관풍루,화장실,주차장,화장실,주차장,화장실,주차장,화장실,주차장,화장실,주차장,화장실,화장실,주차장,화장실,주차장,화장실,화장실,주차장,화장실,화장실,화장실,주차장,화장실,화장실,화장실,주차장,화장실,주차장,무,무,무,화장실,화장실,화장실,화장실,화장실,화장실,화장실,화장실,화장실,화장실,화장실,화장실,화장실,화장실,화장실,화장실,화장실,화장실,화장실,화장실,화장실,화장실,화장실,주차장,화장실,화장실,주차장,화장실,화장실,화장실,음수대,화장실,화장실,주차장,화장실,주차장,화장실,음수대,주차장개소,섬호정개소,공중화장실개소,쉼터및휴게소등,쉼터및휴게소등,쉼터및휴게소등,쉼터및휴게소등,쉼터및휴게소등,쉼터및휴게소등,쉼터및휴게소등,쉼터및휴게소등,쉼터및휴게소등,쉼터및휴게소등,쉼터및휴게소등,쉼터및휴게소등,쉼터및휴게소등,쉼터및휴게소등,쉼터및휴게소등,쉼터및휴게소등,쉼터및휴게소등,쉼터및휴게소등,쉼터및휴게소등,쉼터및휴게소등,쉼터및휴게소등,쉼터및휴게소등,쉼터및휴게소등,쉼터및휴게소등,쉼터및휴게소등,쉼터및휴게소등,쉼터및휴게소등,쉼터및휴게소등,쉼터및휴게소등,쉼터및휴게소등,쉼터및휴게소등,쉼터및휴게소등,쉼터및휴게소등,쉼터및휴게소등,쉼터및휴게소등,쉼터및휴게소등,쉼터및휴게소등,쉼터및휴게소등,쉼터및휴게소등,쉼터및휴게소등,쉼터및휴게소등,쉼터및휴게소등,쉼터및휴게소등,쉼터및휴게소등,쉼터및휴게소등,쉼터및휴게소등,쉼터및휴게소등,쉼터및휴게소등,쉼터및휴게소등,쉼터및휴게소등,쉼터및휴게소등,쉼터및휴게소등,쉼터및휴게소등,쉼터및휴게소등,쉼터및휴게소등,쉼터및휴게소등,쉼터및휴게소등,쉼터및휴게소등,쉼터및휴게소등,쉼터및휴게소등,쉼터및휴게소등,쉼터및휴게소등,쉼터및휴게소등,쉼터및휴게소등,쉼터및휴게소등,쉼터및휴게소등,쉼터및휴게소등,쉼터및휴게소등,쉼터및휴게소등,쉼터및휴게소등,쉼터및휴게소등,쉼터및휴게소등,쉼터및휴게소등,쉼터및휴게소등,쉼터및휴게소등,쉼터및휴게소등,쉼터및휴게소등,쉼터및휴게소등,,,,,,,,,,,,,,,,,,,,,,,,,,,,,주차장,화장실,화장실,주차장,화장실,주차장,화장실,화장실,화장실,화장실,화장실,화장실,화장실,화장실,화장실,화장실,화장실,화장실,주차장,주차장,화장실,주차장,주차장,화장실,음수대등,주차장등,화장실,음수대,화장실,화장실,화장실,음수대,화장실,화장실,화장실,음수대,음수대,음수대,음수대,음수대,음수대,음수대,음수대,음수대,화장실,주차장,화장실,주차장,탈의실,화장실,화장실,정자,주차장,화장실,정자,벤치,정자,주차장,관리실및화장실,새마을정각,도로,주차장,산책로,,화장실,나들센터,주차장,화장실,주차장,관리실,음수대,관리사무소,주차장,주차장,잔디마당,가제보,평의자,화장실,주차장,정자개소,운동시설개소,화장실,주차장,쉼터등,화장실,주차장,쉼터등,화장실,주차장,쉼터등,화장실,주차장,쉼터등,주차장,쉼터등,쉼터등,쉼터등,쉼터등,쉼터등,쉼터등,쉼터등,쉼터등,쉼터등,쉼터등,쉼터등,쉼터등,쉼터등,쉼터등,화장실,파고라등,화장실,파고라,파고라,파고라,주차장,화장실,파고라등,벤치등,벤치,파고라등,벤치,파고라등,벤치,파고라등,벤치,파고라등,벤치,파고라등,벤치,파고라등,벤치,파고라등,벤치,파고라등,벤치,파고라등,주차장,벤치,파고라등,화장실,파고라등,화장실,벤치등,벤치,파고라등,벤치,파고라등,주차장,화장실등,파고라,벤치등,파고라,벤치,파고라등,벤치등,벤치등,벤치등,파고라,파고라,파고라,화장실등,파고라,벤치등,주차장,벤치등,벤치등,벤치,파고라등,화장실,화장실,화장실,화장실,화장실,화장실,정자,장의자,정자,노인정,장의자,정자,야외탁자,장의자,정자,장의자,장의자,정자,야외탁자,장의자,정자,장의자,정자,장의자,장의자,장의자,장의자,장의자,장의자,장의자,장의자,정자,장의자,장의자,정자,장의자,정자,장의자,장의자,정자,장의자,정자,장의자,정자,장의자,장의자,장의자,장의자,장의자,장의자,정자,장의자,정자,장의자,정자,장의자,정자,장의자,정자,장의자,정자,장의자,정자,장의자,정자,장의자,장의자,정자,장의자,화장실,화장실,주차장,매점,화장실,주차장,화장실,주차장,화장실,주차장,화장실,화장실,주차장,녹도교,주차장,화장실,주차장,화장실,주차장,주차장,화장실,주차장,화장실,주차장,화장실,주차장,화장실,주차장,화장실,주차장,화장실,화장실,주차장,화장실,화장실,주차장,화장실,주차장,화장실,주차장,화장실,화장실,주차장,화장실,주차장,화장실,주차장,화장실,주차장,화장실,주차장,화장실,주차장,화장실,주차장,음수대,음수대,간이화장실,먹는물공동시설,화장실,음수대,먹는물공동시설,음수대,주차장,화장실,음수대,시계탑,음수대,음수대,음수대,먹는물공동시설,주차장,화장실,음수대,먹는물공동시설,시계탑,간이화장실,음수대,먹는물공동시설,음수대,음수대,음수대,음수대,음수대,음수대,음수대,음수대,음수대,화장실,음수대,화장실,음수대,음수대,음수대,음수대,음수대,화장실,공중전화,화장실,음수대,음수대,음수대,음수대,음수대,음수대,주차장,화장실,화장실,화장실,주차장,매점,화장실,화장실,화장실,화장실,화장실,화장실,화장실,주차장,화장실,화장실,화장실,서구국민체육센터,주차장,화장실,화장실,화장실,화장실,화장실,화장실,화장실,화장실,화장실,화장실,화장실,화장실,화장실,화장실,화장실,화장실,화장실,화장실,화장실,화장실,관리동동,관리동동,방문객센터동,박문객센터동,화장실,화장실,화장실,화장실,주차장,화장실,주차장,화장실,주차장,화장실,화장실,화장실,화장실,주차장,화장실,주차장,화장실,상수도관,파고라,벤치,주차장,전망대,전망대,육각정자,화장실,사각정자,화장실,파고라,사각정자,파고라,화장실,음수대,파고라,사각정자,파고라,음수대,화장실,육각정자,파고라,화장실,파고라,사각정자,사각정자,파고라,화장실,육각정자,파고라,육각정자,화장실,주차장,음수대,팔각정자,사각정자,파고라,파고라,음수대,파고라,음수대,화장실,음수대,파고라,팔각정자,육각정자,화장실,파고라,관리사무소,음수대,파고라,파고라,육각정자,파고라,음수대,파고라,음수대,파고라,음수대,파고라,화장실,팔각정자,화장실,파고라,화장실,파고라,육각정자,화장실,사각정자,화장실,파고라,사각정자,파고라,화장실,음수대,파고라,사각정자,파고라,음수대,화장실,육각정자,파고라,화장실,파고라,사각정자,사각정자,파고라,화장실,육각정자,파고라,육각정자,화장실,주차장,음수대,팔각정자,사각정자,파고라,파고라,음수대,파고라,음수대,화장실,음수대,파고라,팔각정자,육각정자,화장실,파고라,관리사무소,음수대,파고라,파고라,육각정자,파고라,음수대,파고라,음수대,파고라,음수대,파고라,화장실,팔각정자,화장실,파고라,화장실,파고라,육각정자,화장실,사각정자,화장실,파고라,사각정자,파고라,화장실,음수대,파고라,사각정자,파고라,음수대,화장실,육각정자,파고라,화장실,파고라,사각정자,사각정자,파고라,화장실,육각정자,파고라,육각정자,화장실,주차장,음수대,팔각정자,사각정자,파고라,파고라,음수대,파고라,음수대,화장실,음수대,파고라,팔각정자,육각정자,화장실,파고라,관리사무소,음수대,파고라,파고라,육각정자,파고라,음수대,파고라,음수대,파고라,음수대,파고라,화장실,팔각정자,화장실,파고라,화장실,파고라,화장실,벤치,화장실,화장실,화장실,화장실,이동식화장실,화장실,화장실,화장실,화장실,화장실,화장실,화장실,화장실,화장실,화장실,정자,주차장,벤치,화장실,그늘막,평벤치,파고라,앉음벽,평벤치,음수대,파고라,벤치,앉음벽,파고라,벤치,파고라,앉음벽,화장실,파고라,벤치,자전거보관대,자전거보관대,휴지통,파고라,벤치,벤치,야외탁자,파고라,벤치,파고라,벤치,파고라,화장실,등벤치,화장실,육각정자,휴지통,파고라,앉음벽,등벤치,자전거보관대,등벤치,앉음벽,음수대,화장실,벤치,파고라,파고라,벤치,정자,벤치,파고라,화장실,자전거보관대,벤치,앉음벽,파고라,정자,안내판,벤치,파고라,앉음벽,파고라,등벤치,파고라,벤치,앉음벽,파고라,벤치,육각정자,화장실,등벤치,파고라,정자,등벤치,앉음벽,자전거보관대,파고라,벤치,그늘막,정자,벤치,벤치,정자,정자,벤치,정자,벤치,파고라,원형벤치,앉음벽,평벤치,파고라,사각정자,등벤치,야외탁자,음수대,앉음벽,파고라,원형테이블,자전거보관대,파고라,화장실,평벤치,파고라,앉음벽,파고라,등벤치,정자,평벤치,음수대,화장실,평벤치,휴지통,휴지통,등벤치,야외탁자,육각정자,평벤치,사각정자,사각정자,등벤치,그늘막,앉음벽,화장실,등벤치,휴지통,파고라,평벤치,앉음벽,원형앉음벽,파고라,화장실,파고라,벤치,앉음벽,파고라,벤치,정자,벤치,휴지통,파고라,벤치,파고라,등벤치,파고라,화장실,파고라,벤치,파고라,벤치,화장실,음수대,파고라,화장실,등벤치,파고라,앉음벽,정자,음수대,벤치,벤치,파고라,파고라,벤치,화장실,음수대,정자,벤치,파고라,정자,벤치,파고라,정자,벤치,파고라,정자,벤치,파고라,정자,벤치,파고라,화장실,음수대,정자,벤치,파고라,화장실,음수대,정자,벤치,파고라,정자,벤치,파고라,정자,벤치,파고라,정자,벤치,파고라,정자,벤치,정자,벤치,정자,벤치,화장실,음수대,정자,벤치,파고라,정자,벤치,정자,벤치,정자,벤치,정자,벤치,정자,벤치,정자,벤치,정자,벤치,정자,벤치,정자,벤치,정자,벤치,정자,벤치,파고라,벤치,자전거보관대,등벤치,파고라,평벤치,파고라,등벤치,파고라,파고라,벤치,자전거보관대,화장실,평벤치,파고라,파고라,벤치,정자,벤치,파고라,정자,벤치,파고라,정자,벤치,파고라,정자,벤치,정자,벤치,,화장실외종,음수대외종,,음수대외종,자전거보관대,화장실외종,음수대외종,화장실외종,화장실,음수대,,,음수대,,,,자전거보관대,,,,,자전거보관대,자전거보관대,,,음수대,,,,,,,파고라,,,,,,,,,,음수대,,,,,음수대,,음수대외종,,,주차장등,편익시설,화장실외종,화장실외종,화장실외종,편익시설,화장실외종,화장실,편익시설,주차장,음수장외종,화장실,,편익시설,,,피크닉장외종,주차장외종,편익시설,음수대외종,편익시설,화장실,화장실,화장실,음수대외종,음수대외종,음수대외종,화장실외종,화장실,음수대,음수대외종,화장실,화장실,화장실,음수대외종,음수대외종,,음수대외종,음수대외종,화장실외종,자전거보관대,,음수대외종,음수대외종,,음수대외종,,음수대,화장실,,음수대,화장실,화장실주차장,주차장화장실등,,쉼터,화장실등,,,쉼터등,쉼터등,쉼터등,쉼터등,쉼터,,,화장실,,,쉼터등,화장실,쉼터등,화장실등,,,,도서관,매점,화장실,도서관,노인정,매점,화장실,주차장,화장실,화장실,화장실,노인정,화장실,노인정,화장실,화장실,화장실,화장실,간이화장실,화장실,주차장,매점,화장실,화장실,화장실,화장실,화장실,화장실,화장실,화장실,화장실,화장실,화장실,화장실,화장실,화장실,화장실,주차장,화장실,주차장,화장실,주차장,화장실,,주차장,화장실,휴게소,주차장,화장실,화장실,주차장,화장실,카페테리아,주차장,주차장,화장실,화장실,주차장,화장실,주차장,화장실,음수대,화장실,급식소,화장실,음수대,음수대,아동복지관,화장실,음수대,화장실,음수대,화장실,음수대,자전거보관대,음수대,자전거보관대,자전거보관대,음수대,화장실,음수대,조합놀이대등,등의자등,조합놀이대등,파고라등,파고라등,파고라등,조합놀이대등,조합놀이대등,파고라등,조합놀이대등,조합놀이대등,조합놀이대등,조합놀이대등,조합놀이대등,조합놀이대등,조합놀이대등,조합놀이대등,조합놀이대등,조합놀이대등,조합놀이대등,조합놀이대등,조합놀이대등,등의자등,등의자등,등의자등,등의자등,등의자등,등의자등,등의자등,등의자등,등의자등,등의자등,등의자등,등의자등,등의자등,등의자등,등의자등,등의자등,등의자등,등의자등,등의자등,등의자등,등의자등,등의자등,등의자등,등의자등,등의자등,등의자등,파고라등,파고라등,파고라등,파고라등,파고라등,파고라등,파고라등,파고라등,파고라등,파고라등,파고라등,파고라등,파고라등,파고라등,파고라등,파고라등,파고라등,파고라등,파고라등,파고라등,파고라등,파고라등,조합놀이대등,조합놀이대등,조합놀이대등,조합놀이대등,조합놀이대등,조합놀이대등,조합놀이대등,조합놀이대등,조합놀이대등,파고라등,파고라등,파고라등,파고라등,파고라등,파고라등,파고라등,파고라등,파고라등,파고라등,파고라등,파고라등,파고라등,파고라등,파고라등,조합놀이대등,조합놀이대등,조합놀이대등,조합놀이대등,조합놀이대등,조합놀이대등,조합놀이대등,조합놀이대등,조합놀이대등,조합놀이대등,조합놀이대등,조합놀이대등,조합놀이대등,조합놀이대등,조합놀이대등,조합놀이대등,조합놀이대등,조합놀이대등,조합놀이대등,조합놀이대등,조합놀이대등,조합놀이대등,조합놀이대등,조합놀이대등,조합놀이대등,운동장등,운동장등,산책로등,산책로등,등의자등,조합놀이대등,파고라등,조합놀이대등,조합놀이대등,조합놀이대등,조합놀이대등,조합놀이대등,조합놀이대등,조합놀이대등,조합놀이대등,조합놀이대등,조합놀이대등,조합놀이대등,파고라등,조합놀이대등,조합놀이대등,등의자등,등의자등,등의자등,등의자등,등의자등,등의자등,등의자등,조합놀이대등,조합놀이대등,조합놀이대등,조합놀이대등,조합놀이대등,조합놀이대등,조합놀이대등,조합놀이대등,조합놀이대등,조합놀이대등,조합놀이대등,조합놀이대등,조합놀이대등,조합놀이대등,파고라등,파고라등,파고라등,파고라등,파고라등,파고라등,조합놀이대등,조합놀이대등,파고라등,파고라등,파고라등,파고라등,파고라등,조합놀이대등,조합놀이대등,조합놀이대등,파고라등,조합놀이대등,조합놀이대등,조합놀이대등,조합놀이대등,조합놀이대등,조합놀이대등,조합놀이대등,조합놀이대등,조합놀이대등,조합놀이대등,조합놀이대등,조합놀이대등,운동장등,등의자등,조합놀이대등,조합놀이대등,주차장,화장실,화장실,화장실,화장실,화장실,화장실,지하주차장,화장실,매점,화장실,주차장,매점,화장실,화장실,화장실,휴게광장,화장실,화장실,매점,주차장,화장실,주차장,화장실,정자,정자,정자,정자,정자,정자및벤치등,정자및벤치등,정자및벤치등,파고라및벤치등,파고라및벤치등,정자및벤치등,정자및벤치등,파고라및벤치등,파고라및벤치등,정자및벤치등,파고라및벤치등,파고라및벤치등,파고라및벤치등,파고라및벤치등,파고라및벤치등,파고라및벤치등,파고라및벤치등,벤치등,파고라및벤치등,파고라및벤치등,벤치,벤치,파고라및벤치등,파고라및벤치등,정자및벤치등,정자및벤치등,농막및벤치등,파고라및벤치등,음수대,화장실,음수대,음수대,화장실,음수대,음수대,음수대,음수대,음수대,음수대,음수대,음수대,음수대,음수대,음수대,음수대,음수대,음수대,음수대,음수대,음수대,음수대,화장실,음수대,화장실,음수대,주차장,화장실,음수대,공중전화,화장실,음수대,음수대,음수대,음수대,음수대,음수대,정자,정자,정자,평의자,등의자,평의자,평의자,평의자,등의자,평의자,연식의자,평의자,등의자,평의자,등의자,평의자,평의자,등의자,등의자,평의자,평상,음수대,등의자,평의자,평의자,등의자,평의자,등의자,평의자,등의자,등의자,평의자,평의자,등의자,평의자,등의자,등의자,평의자,등의자,평의자,음수대,평의자,화장실,평의자,음수대,화장실,평의자,화장실,평의자,화장실,평의자,음수대,화장실,등의자,평의자,화장실,등의자,평의자,평의자,등의자,평의자,화장실,평의자,화장실,음수대,등의자,평의자,등의자,평의자,등의자,등의자,등의자,평의자,등의자,평의자,등의자,등의자,평의자,등의자,평의자,정자,정자,등의자,평의자,화장실,평의자,등의자,평의자,화장실,정자,의자,캠핑장,화장실,등의자,축구장,테니스장,농구장,평의자,등의자,야외테이블,수영장,음악분수,바닥분수,평의자,평상,화장실,평의자,지압로,등의자,평의,족구장,평의자,평상,화장실,등의자,평의자,화장실,평상,등의자,평의자,화장실,평의자,등의자,평상,등의자,평의자,화장실,주차장,관리사,주차장,매점,화장실,화장실,화장실,화장실,화장실,주차장,화장실,주차장,화장실,화장실,화장실,화장실,화장실,화장실,화장실,화장실,화장실,음수장,화장실,음수장,화장실,화장실,음수장,화장실,화장실,음수장,음수장,화장실,화장실,화장실,화장실,음수장,화장실,음수장,화장실,음수장,화장실,무대등,음수장,화장실,음수장,화장실,음수장,화장실,음수장,화장실,음수장,음수장,화장실,음수장,화장실,음수장,화장실,화장실,화장실,화장실,화장실,화장실,화장실,화장실,음수장,화장실,화장실,전망대,음수장,매점등,퍼걸러,의자,정자등,의자,정자등,화장실,사각파고라,자전거보관대,음수대,정자,음수대,화장실,정자,파고라,야외무대,음수대,화장실,사각평상,,평의자,등의자,사각평상,앉음벽,파고라,방향안내판,종합안내판,자전거보관대,,평의자,등의자,사각야외테이블,앉음벽,화장실,음수전,전망데크식,사모정,데크식,데크로드식,자전거보관대,파고라,종합안내판,방향안내판,평의자,등의자,사각평상,조형평의자,앉음벽,파고라,종합안내판,평의자,등의자,사각평상,사각야외테이블,앉음벽,목교,자전거보관대,파고라,종합안내판,평의자,등의자,원형야외테이블,데크식,연결형파고라,파고라,방향안내판,종합안내판,자전거보관대,등의자,등의자,원형야외테이블,원두막,등의자,종합안내판,방향안내판,육각정,조형파고라,파고라,평의자,등의자,화장실,자전거보관대,평의자,등의자,사각평상,원형야외테이블,앉음벽,데크식,파고라,방향안내판,종합안내판,자전거보관대,정자,경고표지판,종합안내판,방향안내판,놀이터안내판,위험표지판,가제보,파고라PC덮개,평의자,등의자,자전거보관대,데크식,사각파고라,평의자,화장실,사삭파고라,사각플래터,삼각플래터,평의자,음수대,화장실,의자,정자,음수대,파고라,평의자,파고라,평의자,파고라,평의자,파고라평상형,놀이터이용안내판,평의자,등의자,앉음벽,파고라,종합안내판,장대석식,놀이터이용안내판,등의자,앉음벽,종합안내판,데크식,놀이터이용안내판,종합안내판,등의자,파고라,놀이터이용안내판,평의자,등의자,조형평의자,북카페,앉음벽,파고라,나뭇잎파고라,종합안내판,자전거보관대,데크식,놀이터이용안내판,평의자,등의자,사각평상,파고라,종합안내판,놀이터이용안내판,평의자,등의자,파고라,종합안내판,종합안내판,놀이터안내판,파고라,평의자,등의자,자전거보관대,파고라,평의자,화장실,화장실,주차장,화장실,화장실,화장실,화장실,화장실개소,화장실,주차장,화장실,화장실,화장실,화장실,화장실,주차장,화장실,화장실,화장실,화장실,주차장,화장실,화장실,화장실,화장실,화장실,농구장,화장실,화장실,화장실,주차장,화장실,화장실,화장실,화장실,화장실,주차장,화장실,화장실,화장실,화장실,화장실,화장실,화장실,음수장,주차장,화장실,화장실,화장실,화장실,화장실,화장실,화장실,화장실,화장실,화장실,화장실,화장실,화장실,화장실,화장실,화장실,화장실,화장실,주차장,화장실,간이화장실,주차장,간이화장실,화장실,주차장,화장실,화장실,주차장,화장실,주차장,화장실발효식,주차장,화장실,화장실,화장실,화장실,화장실,공중전화,화장실,화장실,주차장,화장실,화장실,주차장,주차장,화장실,파고라,벤치,파고라,벤치,파고라,벤치,파고라,벤치,쓰레기통,파고라,벤치,파고라,벤치,쓰레기통,파고라,벤치,파고라,벤치,파고라,벤치,파고라,벤치,휴지통,파고라,벤치,식수대,쓰레기통,벤치,파고라,파고라,벤치,파고라,벤치,쓰레기통,파고라,벤치,쓰레기통,파고라,벤치,파고라,벤치,쓰레기통,파고라,벤치,파고라,벤치,파고라,벤치,쓰레기통,파고라,벤치,파고라,벤치,파고라,벤치,파고라,벤치,파고라,벤치,음수대,파고라,벤치,음수대,휴지통,파고라,정자,벤치,분수,경관조명,나무데크다리,막구조,파고라,벤치,음수대,분수,벤치,음수대,파고라,벤치,흔들놀이,파고라,농구장,전망데크,목교,화장실,평상,등의자,화장실,평의자,등의자,파고라,육각정자,바닥분수,평상,급수대,원형평의자,테이블,자전거보관대,화장실,등의자,평의자,파고라,자전거보관대,평의자,사각정자,음수대,평의자,육각정자,등의자,사각정자,화장실,등의자,파고라,화장실,등의자,파고라,화장실,평의자,파고라,급수대,화장실,음수대,평의자,등의자,육각정자,파고라,음수대,화장실,육각정자,평의자,육각정자,팔각정자,분수대,화장실,정자,잔디광장,주차장,등의자,평의자,육각정자,바닥분수,화장실,평의자,육각정자,평의자,육각정자,화장실,육각정자,육각정자,등의자,육각정자,화장실,등의자,육각정자,육각정자,등의자,,,,,,,,,,,,,,주차장,화장실,정자,화장실,파고라,화장실,정자,주차장,주차장,화장실,화장실개소,화장실개소,시계탑기,주차장개소대,화장실개소,발효식화장실기,음수대개소,음수대개소,주차장개소대,매점개소,화장실개소,음수대기,음수대개소,발효식화장실기,화장실개소,화장실개소,음수대개소,음수대개소,음수대개소,음수대개소,음수대개소,음수대개소,음수대개소,음수대개소,정각,파고라벤치,파고라벤치화장실,정각벤치,파고라벤치,정각벤치,파고라벤치,파고라벤치,파고라벤치,파고라화장실벤치,정각파고라화장실벤치,파고라화장실벤치,파고라화장실벤치,정각화장실,화장실파고라벤치,파고라,주차장화장실,정각파고라화장실벤치,화장실,음수전,주차시설,자전거보관대,주차장,주차장,매점,화장실,주차장,화장실,주차장,화장실,주차장,화장실,주차장,매점,주차장,식당휴게소,주차장,매점,화장실,주차장,주차장,화장실,주차장,화장실,주차장,화장실,상록수체육관,주차장,화장실,화장실,주차장,화장실,주차장,화장실,화장실,화장실,주차장,주차장,화장실,주차장,화장실,주차장,매점,전망대,화장실,주차장,화장실,주차장,화장실,주차장,주차장,화장실,주차장,주차장,화장실,화장실,주차장,화장실,화장실,휴계쉼터,주차장,화장실,주차장,화장실,화장실,주차장,화장실,전망대,주차장,,전망대,화장실,주차장,주차장,전망대,주차장,화장실,전망대,주차장,음수전,주차장,화장실,자전거보관소,전망대,음식점,매점,화장실,탈의실,주차장약수터,주차장,화장실,주차장,화장실,주차장,화장실,매점,화장실,주차장,약수터,음수대,주차장,화장실,주차장,화장실,주차장,파고라,주차장,화장실,자전거보관대,주차장,화장실,주차장,화장실,휴계쉼터,파고라,주차장,화장실,파고라,주차장,화장실,주차장,매점,화장실,전망데크,산책로,음수전,주차장,전망데크,산책로,파고라,음수전,전망데크,산책로,파고라,음수전,파고라,파고라,광장,벤치,광장,벤치,주차장,지하주차장,화장실,매점,화장실,주차장,매점,화장실,화장실,화장실,휴게광장,화장실,화장실,매점,파고라,등의자,파고라,등의자,평상,파고라,등의자,파고라,등의자,파고라,등의자,화장실,파고라,등의자,평의자,화장실,파고라,등의자,평상,파고라,등의자,화장실,파고라,등의자,평의자,팔각정자,등의자,음수대,파고라,등의자,평의자,파고라,등의자,파고라,등의자,평의자,파고라,등의자,평의자,화장실,파고라,등의자,평의자,화장실,파고라,등의자,평의자,파고라,평의자,팔각정자,등의자,평의자,파고라,등의자,파고라,평의자,자전거대,파고라,평상,정자,파고라,평의자,피크닉테이블,파고라,등의자,평의자,막파고라,자전거대,등의자,,파고라,등의자,평의자,음수대,파고라,등의자,평의자,파고라,등의자,평의자,파고라,등의자,화장실,파고라,등의자,음수대,파고라,등의자,평의자,음수대,파고라,등의자,평의자,피크닉테이블,팔각정자,원두막,등의자,파고라,등의자,파고라,등의자,파고라,등의자,파고라,평의자,파고라,평의자,파고라,평의자,파고라,평의자,등의자,파고라,평의자,동의,볼라드,정자,등의자,정자,등의자,파고라,등의자,파고라,평의자,파고라,등의자,파고라,등의자,파고라,등의자,파고라,평의자,등의자,파고라,평의자,파고라,평의자,파고라,평의자,등의자,원형쉘터,평의자,오두막,평벤치,등벤치,정자,평벤치,파고라,등벤치,평벤치,파고라,등벤치,평벤치,파고라,등벤치,파고라,등벤치,평벤치,정자,등벤치,평벤치,파고라,평벤치,등벤치,평벤치,파고라,등벤치,정자,등벤치,평벤치,파고라,평벤치,정자,구형의자,등벤치,파고라,등벤치,정자,등벤치,정자,등벤치,원두막,평벤치,파고라,등벤치,정자,파고라,등벤치,평벤치,정자,등벤치,ㄱ자의자,정자,파고라,원형벤치,등벤치,평벤치,원두막,야외테이블,등벤치,정자,등벤치,평벤치,정자,등벤치,원두막,등벤치,원형벤치,정자,등의자,원형의자,정자,등벤치,원형벤치,정자,야외테이블,난간,등벤치,정자,등벤치,정자,화장실남,여,평벤치,정자,등벤치,평벤치,정자,등벤치,정자,원형벤치,등벤치,등벤치,평벤치,야외탁자,원두막,쓰레기통,쓰레기단지,등벤치,평벤치,정자,등벤치,벤치,원형벤치,정자,등벤치,등벤치,정자,등벤치,평벤치,정자,화장실,화장실,화장실,화장실,화장실,화장실,화장실,화장실,화장실,화장실,화장실,화장실,화장실,화장실,화장실,화장실,화장실,화장실,화장실,화장실,화장실,화장실,화장실,화장실,화장실,화장실,화장실,화장실,화장실,화장실,화장실,화장실,화장실,화장실,화장실,화장실,화장실,화장실,화장실,화장실,화장실,화장실,화장실,화장실,화장실,화장실,화장실,화장실,화장실,화장실,화장실,화장실,화장실,화장실,화장실,화장실,화장실,화장실,화장실,화장실,화장실,화장실,화장실,화장실,화장실,화장실,화장실,화장실,화장실,정자,쉼터,화장실,주차장,화장실,주차장,조합놀이터,화장실,조합놀이터,조합놀이터,조합놀이터,조합놀이터,조합놀이터,조합놀이터,조합놀이터,정자,화장실,조합놀이터,파고라,조합놀이터,파고라,화장실,주차장,화장실,화장실,화장실,화장실,정자,화장실,벤치,정자,화장실,벤치,정자,화장실,벤치,정자,화장실,벤치,정자,화장실,벤치,정자,화장실,벤치,정자,화장실,벤치,정자,벤치,정자,화장실,벤치,벤치,정자,벤치,정자,벤치,정자,화장실,벤치,정자,화장실,벤치,화장실,벤치,화장실,벤치,정자,벤치,정자,벤치,정자,화장실,벤치,정자,벤치,정자,화장실,벤치,정자,벤치,정자,화장실,벤치,정자,화장실,벤치,정자,화장실,벤치,정자,화장실,벤치,정자,화장실,벤치,화장실,벤치,정자,화장실,벤치,정자,화장실,벤치,정자,화장실,벤치,정자,화장실,벤치,정자,화장실,벤치,정자,화장실,벤치,벤치,정자,화장실,벤치,벤치,매점,화장실,벤치,벤치,벤치,정자,화장실,벤치,벤치,정자,벤치,정자,벤치,정자,벤치,화장실,벤치,정자,벤치,정자,화장실,벤치,정자,벤치,정자,벤치,정자,벤치,정자,벤치,화장실,벤치,정자,벤치,정자,화장실,벤치,정자,벤치,정자,화장실,벤치,정자,화장실,벤치,정자,화장실,벤치,정자,화장실,벤치,정자,화장실,벤치,정자,화장실,벤치,정자,밴치,정자,화장실,벤치,정자,화장실,벤치,농구대,벤치,정자,벤치,정자,벤치,정자,벤치,정자,벤치,화장실,벤치,정자,벤치,정자,벤치,정자,벤치,정자,벤치,정자,벤치,정자,벤치,정자,벤치,정자,벤치,정자,벤치,정자,벤치,정자,벤치,정자,화장실,벤치,정자,화장실,벤치,정자,화장실,벤치,정자벤치,정자,벤치,정자,화장실,벤치,정자,벤치,정자,화장실,벤치,정자,화장실,벤치,화장실,벤치,정자,벤치,정자,벤치,정자,벤치,정자,벤치,정자,벤치,정자,벤치,화장실,벤치,매점,정자,화장실,벤치,벤치,벤치,정자,벤치,정자,화장실,벤치,정자,벤치,정자,화장실,벤치,벤치,정자,벤치,벤치,정자,벤치,벤치,정자,벤치,벤치,정자,화장실,벤치,정자,화장실,벤치,정자,벤치,정자,화장실,벤치,정자,벤치,정자,벤치,정자,벤치,화장실,벤치,정자,벤치,정자,벤치,정자,벤치,정자,화장실,벤치,정자,벤치,정자,벤치,정자,벤치,정자,벤치,정자,벤치,정자,벤치,정자,벤치,정자,벤치,정자,벤치,정자,벤치,벤치,벤치,정자,화장실,벤치,정자,화장실,벤치,정자,벤치,정자,화장실,벤치,정자,화장실,벤치,정자,화장실,벤치,정자,벤치,정자,벤치,벤치,화장실,벤치,화장실,벤치,벤치,정자,벤치,정자,벤치,정자,벤치,벤치,정자,벤치,화장실,화장실,화장실,화장실,화장실,화장실,화장실,계단중앙분리휀스,화장실,청소년회관,화장실,화장실,화장실,화장실,화장실,화장실,화장실,화장실,화장실,주차장,화장실,화장실,화장실,화장실,화장실,화장실,화장실,화장실,화장실,화장실,화장실,화장실,화장실,화장실,화장실,화장실,화장실,화장실,화장실,화장실,화장실,화장실,화장실,화장실,화장실,화장실,화장실,화장실,공원등,램프,화장실,자전거보관대,램프,화장실,화장실,화장실,주차장,화장실,화장실,비상급수,음수대,음수대,음수대,화장실,화장실,화장실,화장실,화장실,화장실,화장실,화장실,화장실,화장실,화장실,화장실,화장실,음수대,화장실,자전거보관대,음수대,음수대,음수대,음수대,음수대,음수대,음수대,자전거보관대,자전거보관대,자전거보관대,휴게공간,음수대,휴게공간,음수대,음수대,음수대,자전거보관대,음수대,자전거보관대,음수대,음수대,자전거보관대,화장실,화장실,화장실,화장실,마을회관,화장실,화장실,주차장,화장실,음수대,주차장,화장실,음수대,주차장,음수대,자전거보관대,야외탁자,평의자등,음수대,평의자등,음수대,평의자등,음수대,평의자등,음수대,평의자등,정자,평의자등,파고라,평의자등,파고라,평의자등,파고라,평의자등,파고라,음수대등,파고라,평의자등,정자,평의자등,파고라,평의자등,파고라,음수대등,파고라,평의자등,파고라,평의자등,파고라,평의자등,파고라,음수대등,파고라,음수대등,파고라,평의자등,평의자등,음수대,평의자등,파고라,음수대등,파고라,음수대등,음수대,평의자등,파고라,평의자등,파고라,정자등,평의자등,파고라,평의자등,파고라,평의자등,파고라,평의자등,파고라,평의자등,평의자등,파고라,등의자등,평의자등,평의자등,파고라,평의자등,파고라,등의자등,파고라,등의자등,파고라,등의자등,파고라,등의자등,파고라,등의자등,주차장,음수전,휴지통,주차장,매점,화장실등,소규모운동시설,파고라등,주차장,정자,정자,주차장,매점,화장실,정자,화장실,주차장,파고라,파고라,파고라,파고라,파고라,파고라,파고라,파고라,파고라,파고라,파고라,파고라,파고라,파고라,파고라,파고라,파고라,파고라,파고라,파고라,파고라,파고라,파고라,파고라,파고라,파고라,파고라,파고라,파고라,파고라,파고라,파고라,파고라,파고라,파고라,파고라,파고라,파고라,파고라,파고라,파고라,파고라,파고라,파고라,파고라,파고라,파고라,파고라,파고라,파고라,파고라,파고라,파고라,파고라,파고라,파고라,파고라,주차장,정문편의시설동,동문편의시설동,매표소식당편의시설동,옥외화장실,공원조성기념탑,풍차,체육공원매점,매점,화장실,화장실,화장실,화장실,화장실,화장실,화장실,화장실,화장실,화장실,화장실,화장실약수터주차장,화장실,화장실,화장실,주차장개소,화장실개소,음수대기,음수대기,음수대기,주차장개소,화장실개소,공중전화기,음수대기,시계탑기,음수대기,화장실개소,화장실개소,샘터개소,샘터개소,샘터개소,파고라동,정자,화장실,벤치,정자,화장실,벤치,정자,화장실,벤치,정자,화장실,벤치,정자,화장실,벤치,정자,화장실,벤치,정자,화장실,벤치,정자,화장실,벤치,정자,화장실,벤치,정자,화장실,벤치,정자,화장실,벤치,정자,화장실,벤치,정자,화장실,벤치,정자,화장실,벤치,정자,벤치,정자,화장실,벤치,정자,정자,벤치,화장실,벤치,정자,화장실,벤치,정자,화장실,벤치,정자,화장실,벤치,정자,화장실,벤치,화장실,벤치,정자,벤치,정자,화장실,벤치,정자,화장실,벤치,정자,화장실,벤치,정자,화장실,벤치,벤치,정자,벤치,정자,벤치,정자,벤치,정자,화장실,벤치,정자,화장실,벤치,화장실,벤치,화장실,벤치,정자,벤치,정자,벤치,정자,화장실,벤치,정자,벤치,정자,화장실,벤치,정자,벤치,정자,화장실,벤치,정자,화장실,벤치,정자,화장실,벤치,화장실,벤치,정자,화장실,벤치,정자,화장실,벤치,정자,화장실,벤치,정자,화장실,벤치,정자,화장실,벤치,벤치,정자,화장실,벤치,벤치,정자,벤치,정자,벤치,정자,벤치,화장실,벤치,정자,벤치,정자,화장실,벤치,정자,벤치,정자,벤치,정자,벤치,정자,벤치,정자,벤치,정자,벤치,정자,화장실,벤치,정자,화장실,벤치,정자,화장실,벤치,정자,화장실,벤치,정자,화장실,벤치,정자,밴치,정자,화장실,벤치,농구대,벤치,정자,벤치,정자,벤치,정자,벤치,정자,벤치,정자,벤치,정자,벤치,정자,벤치,정자,벤치,정자,벤치,정자,벤치,정자,벤치,정자,벤치,정자,벤치,정자,화장실,벤치,정자벤치,정자,벤치,정자,벤치,정자,벤치,정자,벤치,정자,벤치,정자,벤치,정자,벤치,벤치,벤치,정자,벤치,벤치,화장실,벤치,매점,화장실,벤치,정자,화장실,벤치,정자,화장실,벤치,정자,화장실,벤치,정자,화장실,벤치,정자,벤치,벤치,정자,벤치,정자,벤치,정자,벤치,정자,벤치,벤치,정자,벤치,화장실,벤치,벤치,정자,벤치,정자,벤치,정자,벤치,정자,벤치,화장실,벤치,정자,벤치,벤치,정자,벤치,정자,벤치,정자,벤치,벤치,정자,벤치,벤치,정자,벤치,벤치,정자,벤치,정자,화장실,벤치,정자,벤치,벤치,벤치,정자,화장실,벤치,정자,벤치,정자,벤치,정자,벤치,정자,벤치,정자,벤치,정자,벤치,정자,벤치,정자,벤치,정자,화장실,벤치,벤치,주차장,화장실,화장실,화장실,화장실,주차장,화장실,파고라,등의자,평의자,피크닉테이블,파고라,등의자,평의자,등의자,파고라,등의자,평의자,파고라,등의자,평의자,등의자,파고라식,평의자,공사중,평의자,파골라,평의자,등의장,피크닉테이블,판매시설,파고라,평의자,파고라,바닥분수,파고라,사각정자,파고라,평의자,파고라,파고라,평의자,파고라,의자,파고라,의자,파고라,의자,파고라,의자,파고라,평의자,파고라,의자,파고라,의자,파고라,의자,파고라,평의자,파고라,평의자,파고라,의자,파고라,의자,파고라,의자,파고라,의자,주차장,화장실,주차장,호장실,전망대,그늘시렁,주차장,정자,화장실,벤치,벤치,매점,화장실,벤치,정자,벤치,화장실,벤치,정자,화장실,벤치,벤치,파고라,등의자,파고라,등의자,평상,파고라,등의자,파고라,등의자,파고라,등의자,화장실,파고라,등의자,평의자,화장실,파고라,등의자,평상,파고라,등의자,화장실,파고라,등의자,평의자,팔각정자,등의자,음수대,파고라,등의자,평의자,파고라,등의자,파고라,등의자,평의자,파고라,등의자,평의자,화장실,파고라,등의자,평의자,화장실,파고라,등의자,평의자,파고라,평의자,팔각정자,등의자,평의자,파고라,등의자,파고라,평의자,자전거대,파고라,평상,정자,파고라,평의자,피크닉테이블,파고라,등의자,평의자,막파고라,자전거대,등의자,,파고라,등의자,평의자,음수대,파고라,등의자,평의자,파고라,등의자,평의자,파고라,등의자,화장실,파고라,등의자,음수대,파고라,등의자,평의자,음수대,파고라,등의자,평의자,피크닉테이블,팔각정자,원두막,등의자,파고라,등의자,파고라,등의자,파고라,등의자,파고라,평의자,파고라,평의자,파고라,평의자,파고라,평의자,등의자,파고라,평의자,동의,볼라드,정자,등의자,정자,등의자,파고라,등의자,파고라,평의자,파고라,등의자,파고라,등의자,파고라,등의자,파고라,평의자,등의자,파고라,평의자,파고라,평의자,음식점,전망대,파고라개,정자개,파고라개,정자개,파고라개,파고라개,파고라식,파고라식,파고라식,전망데크개소,파고라식,파고라식,파고라식,파고라식,파고라식,파고라식,파고라식,파고라식,파고라식,파고라식,파고라식,파고라식,파고라식,파고라식,파고라식,파고라식,파고라식,파고라식,파고라식,파고라식,파고라식,파고라식,파고라식,파고라식,파고라식,파고라식,파고라식,파고라식,파고라식,파고라식,파고라식,파고라식,파고라식,파고라식,파고라식,파고라식,파고라식,화장실,화장실,화장실,주차장등,자전거보관대등,바닥분수,관리사무소,화장실등,자전거보관대등,주차장,자전거보관대등,주차장,화장실,매점,주차장,화장실,화장실,주차장,화장실,화장실,화장실,데크로드,음수대등,스탠드,휀스등,음수대,음수대,화장실,음수대,음수대,음수대,화장실,화장실,음수대,원두막,파고라,파고라,원두막,파고라,육각정자,전통정자,원두막,화장실,원두막,원두막,파고라,화장실,원두막,원두막,원두막,원두막,원두막,파고라,화장실,자전거보관대,파고라,화장실,화장실,파고라,원두막,파고라,원두막,파고라,원두막,원두막,원두막,원두막,파고라,간이화장실,원두막,화장실,음수대,원두막,화장실,원두막,파고라,원두막,파고라,음수대,간이화장실,원두막,파고라,원두막,전통정자,화장실,자전거보관대,전통정자,화장실,자전거보관대,원두막,자전거보관대,파고라,원두막,파고라,자전거보관대,원두막,파고라,자전거보관대,원두막,파고라,화장실,음수대,원두막,원두막,원두막,원두막,원두막,파고라,화장실,자전거보관대,화장실,자전거보관대,전통정자,파고라,파고라,파고라,자전거보관대,파고라,파고라,자전거보관대,파고라,자전거보관대,파고라,파고라,화장실,전통정자,원두막,원두막,화장실,음수대,사각정자,사각정자,음수전,파고라,의자,파고라,파고라,화장실,파고라,음수대,파고라,파고라,파고라,파고라,자전거보관대,파고라,파고라,화장실,주차장,화장실,주차장,화장실,주차장,정자,파고라,의자,파고라,의자,파고라,의자,파고라,파고라,의자,화장실,화장실,주차장,전통정자,주차장,파고라,의자,전통정자,파고라,파고라,화장실,사각파고라,등의자,평의자,나무울타리,공중화장실벽돌조,지붕형파고라,사각파고라,등의자,평의자,볼라드,공원등,CCTV,공원안내판,금연안내판,휴지통,공중화장실,사각파고라,등의자,평의자,볼라드,공원등,CCTV,휴지통,공중화장실,파고라,등의자,공원등,CCTV,금연안내판,등의자,평의자,파고라,종합안내판,방향안내판,금연안내판,문화재시설안내판대,문화재시설안내판소,볼라드,CCTV,공중화장실,전통정자,등의자,볼라드,공원등,공원안내판,금연안내판,휴지통,공중화장실,팔각정자,사각파고라,연식파고라,장미아치,등의자,평의자,볼라드,공원등,CCTV,자전거보관대,금연안내판,농구장이용안내판,휴지통,공중화장실,사각파고라,등의자,침목계단,볼라드,공원등,CCTV,가로등자동점멸기,옥외소화전,공원안내판,금연안내판,휴지통,사각파고라,사각쉘터,평의자,앉음벽,조회대,설비대,수도급수대,국기계양대,공원등,조명탑,공중화장실,선수사무실,팔각정자,사각파고라A,평의자B,평의자C,평의자E,특화벤치A,목재앉음벽,공원종합안내판B,반딧불이등,원형파고라A,사각파고라A,평의자D,평의자E,등의자A,계단,목교C,공원방향안내판B,공원종합안내판B,원형파고라A,사각파고라A,평의자D,평의자E,등의자A,조형벤치B,공원방향안내판B,공원종합안내판B,스탠드근,사각정자,원형파고라,사각파고라,평의자A,등의자A,조형벤치A,조형벤치D,앉음벽m,공원방향안내판A,공원종합안내판A,LED바닥등A,LED바닥등B,스탠드화계형m,자전거보관대,볼라드,사각파고라A,평의자D,평의자E,공원안내판,자전거보관대,사각파고라D,등의자A,평의자D,평의자E,공원안내판,자전거거치대,원형파고라A,등의자A,평의자A,공원안내판,자전거보관대,아치형다리,징검다리건너기,원형파고라D,등의자A,평의자D,평의자E,공원안내판,자전거거치대,원형파고라D,평의자D,평의자E,공원안내판,자전거거치대,발마사지,사각파고라E,원형파고라D,등의자A,평의자D,평의자E,공원안내판,자전거거치대,발마사지,원형파고라A,평의자A,특화벤치A,공원안내판,자전거보관대,원형파고라D,등의자A,평의자D,조형벤치B,공원안내판,자전거거치대,발마사지,사각파고라E,원형파고라D,등의자A,평의자D,평의자E,공원안내판,자전거거치대,발마사지,음수대,음수대,주차장,화장실,음수대,공중전화,주차장,화장실,음수대,음수대,주차장,화장실,음수대,음수대,화장실,음수대,화장실,화장실'"
      ]
     },
     "execution_count": 76,
     "metadata": {},
     "output_type": "execute_result"
    }
   ],
   "source": [
    "fac = \",\".join(df.loc[df['편익시설'].notnull(), '편익시설'])\n",
    "fac = get_string(fac)\n",
    "fac"
   ]
  },
  {
   "cell_type": "code",
   "execution_count": null,
   "id": "d6811cfe",
   "metadata": {},
   "outputs": [],
   "source": []
  },
  {
   "cell_type": "code",
   "execution_count": 77,
   "id": "b4613154",
   "metadata": {},
   "outputs": [
    {
     "data": {
      "text/plain": [
       "화장실      1921\n",
       "파고라       817\n",
       "벤치        650\n",
       "정자        535\n",
       "주차장       502\n",
       "         ... \n",
       "급식소         1\n",
       "아동복지관       1\n",
       "주차장면        1\n",
       "세면대e        1\n",
       "간이판매대       1\n",
       "Length: 453, dtype: int64"
      ]
     },
     "execution_count": 77,
     "metadata": {},
     "output_type": "execute_result"
    }
   ],
   "source": [
    "pd.Series(fac.split(',')).value_counts()"
   ]
  },
  {
   "cell_type": "code",
   "execution_count": 78,
   "id": "19127881",
   "metadata": {
    "collapsed": true
   },
   "outputs": [
    {
     "data": {
      "text/plain": [
       "<AxesSubplot:>"
      ]
     },
     "execution_count": 78,
     "metadata": {},
     "output_type": "execute_result"
    },
    {
     "data": {
      "image/png": "[encoded data removed]",
      "text/plain": [
       "<Figure size 1080x360 with 1 Axes>"
      ]
     },
     "metadata": {
      "needs_background": "light"
     },
     "output_type": "display_data"
    }
   ],
   "source": [
    "pd.Series(fac.split(',')).value_counts().iloc[:30].plot(kind='bar', figsize=(15,5))"
   ]
  },
  {
   "cell_type": "code",
   "execution_count": null,
   "id": "048372b1",
   "metadata": {},
   "outputs": [],
   "source": []
  },
  {
   "cell_type": "code",
   "execution_count": 80,
   "id": "4207bbd5",
   "metadata": {},
   "outputs": [],
   "source": [
    "city_count = df1['시도'].value_counts().to_frame()  #to_frame()\n",
    "city_mean = df1['시도'].value_counts(normalize=True).to_frame()"
   ]
  },
  {
   "cell_type": "code",
   "execution_count": 83,
   "id": "2d9e9956",
   "metadata": {
    "collapsed": true
   },
   "outputs": [
    {
     "data": {
      "text/html": [
       "<div>\n",
       "<style scoped>\n",
       "    .dataframe tbody tr th:only-of-type {\n",
       "        vertical-align: middle;\n",
       "    }\n",
       "\n",
       "    .dataframe tbody tr th {\n",
       "        vertical-align: top;\n",
       "    }\n",
       "\n",
       "    .dataframe thead th {\n",
       "        text-align: right;\n",
       "    }\n",
       "</style>\n",
       "<table border=\"1\" class=\"dataframe\">\n",
       "  <thead>\n",
       "    <tr style=\"text-align: right;\">\n",
       "      <th></th>\n",
       "      <th>시도</th>\n",
       "    </tr>\n",
       "  </thead>\n",
       "  <tbody>\n",
       "    <tr>\n",
       "      <th>경기도</th>\n",
       "      <td>3318</td>\n",
       "    </tr>\n",
       "    <tr>\n",
       "      <th>전라남도</th>\n",
       "      <td>1882</td>\n",
       "    </tr>\n",
       "    <tr>\n",
       "      <th>경상남도</th>\n",
       "      <td>1825</td>\n",
       "    </tr>\n",
       "    <tr>\n",
       "      <th>서울특별시</th>\n",
       "      <td>1744</td>\n",
       "    </tr>\n",
       "    <tr>\n",
       "      <th>충청남도</th>\n",
       "      <td>1723</td>\n",
       "    </tr>\n",
       "  </tbody>\n",
       "</table>\n",
       "</div>"
      ],
      "text/plain": [
       "         시도\n",
       "경기도    3318\n",
       "전라남도   1882\n",
       "경상남도   1825\n",
       "서울특별시  1744\n",
       "충청남도   1723"
      ]
     },
     "execution_count": 83,
     "metadata": {},
     "output_type": "execute_result"
    }
   ],
   "source": [
    "city_count.head()"
   ]
  },
  {
   "cell_type": "code",
   "execution_count": 84,
   "id": "34801b04",
   "metadata": {
    "collapsed": true
   },
   "outputs": [
    {
     "data": {
      "text/html": [
       "<div>\n",
       "<style scoped>\n",
       "    .dataframe tbody tr th:only-of-type {\n",
       "        vertical-align: middle;\n",
       "    }\n",
       "\n",
       "    .dataframe tbody tr th {\n",
       "        vertical-align: top;\n",
       "    }\n",
       "\n",
       "    .dataframe thead th {\n",
       "        text-align: right;\n",
       "    }\n",
       "</style>\n",
       "<table border=\"1\" class=\"dataframe\">\n",
       "  <thead>\n",
       "    <tr style=\"text-align: right;\">\n",
       "      <th></th>\n",
       "      <th>시도</th>\n",
       "    </tr>\n",
       "  </thead>\n",
       "  <tbody>\n",
       "    <tr>\n",
       "      <th>경기도</th>\n",
       "      <td>0.182961</td>\n",
       "    </tr>\n",
       "    <tr>\n",
       "      <th>전라남도</th>\n",
       "      <td>0.103777</td>\n",
       "    </tr>\n",
       "    <tr>\n",
       "      <th>경상남도</th>\n",
       "      <td>0.100634</td>\n",
       "    </tr>\n",
       "    <tr>\n",
       "      <th>서울특별시</th>\n",
       "      <td>0.096168</td>\n",
       "    </tr>\n",
       "    <tr>\n",
       "      <th>충청남도</th>\n",
       "      <td>0.095010</td>\n",
       "    </tr>\n",
       "  </tbody>\n",
       "</table>\n",
       "</div>"
      ],
      "text/plain": [
       "             시도\n",
       "경기도    0.182961\n",
       "전라남도   0.103777\n",
       "경상남도   0.100634\n",
       "서울특별시  0.096168\n",
       "충청남도   0.095010"
      ]
     },
     "execution_count": 84,
     "metadata": {},
     "output_type": "execute_result"
    }
   ],
   "source": [
    "city_mean.head()"
   ]
  },
  {
   "cell_type": "code",
   "execution_count": 89,
   "id": "f1730c7a",
   "metadata": {},
   "outputs": [
    {
     "data": {
      "text/html": [
       "<style type=\"text/css\">\n",
       "#T_46175_row0_col0, #T_46175_row0_col1 {\n",
       "  background-color: #023858;\n",
       "  color: #f1f1f1;\n",
       "}\n",
       "#T_46175_row1_col0, #T_46175_row1_col1 {\n",
       "  background-color: #589ec8;\n",
       "  color: #f1f1f1;\n",
       "}\n",
       "#T_46175_row2_col0, #T_46175_row2_col1 {\n",
       "  background-color: #60a1ca;\n",
       "  color: #f1f1f1;\n",
       "}\n",
       "#T_46175_row3_col0, #T_46175_row3_col1 {\n",
       "  background-color: #6da6cd;\n",
       "  color: #f1f1f1;\n",
       "}\n",
       "#T_46175_row4_col0, #T_46175_row4_col1 {\n",
       "  background-color: #6fa7ce;\n",
       "  color: #f1f1f1;\n",
       "}\n",
       "#T_46175_row5_col0, #T_46175_row5_col1 {\n",
       "  background-color: #b5c4df;\n",
       "  color: #000000;\n",
       "}\n",
       "#T_46175_row6_col0, #T_46175_row6_col1 {\n",
       "  background-color: #cdd0e5;\n",
       "  color: #000000;\n",
       "}\n",
       "#T_46175_row7_col0, #T_46175_row7_col1 {\n",
       "  background-color: #ced0e6;\n",
       "  color: #000000;\n",
       "}\n",
       "#T_46175_row8_col0, #T_46175_row8_col1 {\n",
       "  background-color: #d0d1e6;\n",
       "  color: #000000;\n",
       "}\n",
       "#T_46175_row9_col0, #T_46175_row9_col1 {\n",
       "  background-color: #dfddec;\n",
       "  color: #000000;\n",
       "}\n",
       "#T_46175_row10_col0, #T_46175_row10_col1, #T_46175_row11_col0, #T_46175_row11_col1 {\n",
       "  background-color: #e0deed;\n",
       "  color: #000000;\n",
       "}\n",
       "#T_46175_row12_col0, #T_46175_row12_col1 {\n",
       "  background-color: #e5e1ef;\n",
       "  color: #000000;\n",
       "}\n",
       "#T_46175_row13_col0, #T_46175_row13_col1 {\n",
       "  background-color: #ebe6f2;\n",
       "  color: #000000;\n",
       "}\n",
       "#T_46175_row14_col0, #T_46175_row14_col1 {\n",
       "  background-color: #eee9f3;\n",
       "  color: #000000;\n",
       "}\n",
       "#T_46175_row15_col0, #T_46175_row15_col1 {\n",
       "  background-color: #f7f0f7;\n",
       "  color: #000000;\n",
       "}\n",
       "#T_46175_row16_col0, #T_46175_row16_col1 {\n",
       "  background-color: #fff7fb;\n",
       "  color: #000000;\n",
       "}\n",
       "</style>\n",
       "<table id=\"T_46175_\">\n",
       "  <thead>\n",
       "    <tr>\n",
       "      <th class=\"blank level0\" >&nbsp;</th>\n",
       "      <th class=\"col_heading level0 col0\" >합계</th>\n",
       "      <th class=\"col_heading level0 col1\" >비율</th>\n",
       "    </tr>\n",
       "  </thead>\n",
       "  <tbody>\n",
       "    <tr>\n",
       "      <th id=\"T_46175_level0_row0\" class=\"row_heading level0 row0\" >경기도</th>\n",
       "      <td id=\"T_46175_row0_col0\" class=\"data row0 col0\" >3318</td>\n",
       "      <td id=\"T_46175_row0_col1\" class=\"data row0 col1\" >0.182961</td>\n",
       "    </tr>\n",
       "    <tr>\n",
       "      <th id=\"T_46175_level0_row1\" class=\"row_heading level0 row1\" >전라남도</th>\n",
       "      <td id=\"T_46175_row1_col0\" class=\"data row1 col0\" >1882</td>\n",
       "      <td id=\"T_46175_row1_col1\" class=\"data row1 col1\" >0.103777</td>\n",
       "    </tr>\n",
       "    <tr>\n",
       "      <th id=\"T_46175_level0_row2\" class=\"row_heading level0 row2\" >경상남도</th>\n",
       "      <td id=\"T_46175_row2_col0\" class=\"data row2 col0\" >1825</td>\n",
       "      <td id=\"T_46175_row2_col1\" class=\"data row2 col1\" >0.100634</td>\n",
       "    </tr>\n",
       "    <tr>\n",
       "      <th id=\"T_46175_level0_row3\" class=\"row_heading level0 row3\" >서울특별시</th>\n",
       "      <td id=\"T_46175_row3_col0\" class=\"data row3 col0\" >1744</td>\n",
       "      <td id=\"T_46175_row3_col1\" class=\"data row3 col1\" >0.096168</td>\n",
       "    </tr>\n",
       "    <tr>\n",
       "      <th id=\"T_46175_level0_row4\" class=\"row_heading level0 row4\" >충청남도</th>\n",
       "      <td id=\"T_46175_row4_col0\" class=\"data row4 col0\" >1723</td>\n",
       "      <td id=\"T_46175_row4_col1\" class=\"data row4 col1\" >0.095010</td>\n",
       "    </tr>\n",
       "    <tr>\n",
       "      <th id=\"T_46175_level0_row5\" class=\"row_heading level0 row5\" >전라북도</th>\n",
       "      <td id=\"T_46175_row5_col0\" class=\"data row5 col0\" >1137</td>\n",
       "      <td id=\"T_46175_row5_col1\" class=\"data row5 col1\" >0.062696</td>\n",
       "    </tr>\n",
       "    <tr>\n",
       "      <th id=\"T_46175_level0_row6\" class=\"row_heading level0 row6\" >경상북도</th>\n",
       "      <td id=\"T_46175_row6_col0\" class=\"data row6 col0\" >917</td>\n",
       "      <td id=\"T_46175_row6_col1\" class=\"data row6 col1\" >0.050565</td>\n",
       "    </tr>\n",
       "    <tr>\n",
       "      <th id=\"T_46175_level0_row7\" class=\"row_heading level0 row7\" >충청북도</th>\n",
       "      <td id=\"T_46175_row7_col0\" class=\"data row7 col0\" >898</td>\n",
       "      <td id=\"T_46175_row7_col1\" class=\"data row7 col1\" >0.049518</td>\n",
       "    </tr>\n",
       "    <tr>\n",
       "      <th id=\"T_46175_level0_row8\" class=\"row_heading level0 row8\" >울산광역시</th>\n",
       "      <td id=\"T_46175_row8_col0\" class=\"data row8 col0\" >887</td>\n",
       "      <td id=\"T_46175_row8_col1\" class=\"data row8 col1\" >0.048911</td>\n",
       "    </tr>\n",
       "    <tr>\n",
       "      <th id=\"T_46175_level0_row9\" class=\"row_heading level0 row9\" >인천광역시</th>\n",
       "      <td id=\"T_46175_row9_col0\" class=\"data row9 col0\" >675</td>\n",
       "      <td id=\"T_46175_row9_col1\" class=\"data row9 col1\" >0.037221</td>\n",
       "    </tr>\n",
       "    <tr>\n",
       "      <th id=\"T_46175_level0_row10\" class=\"row_heading level0 row10\" >부산광역시</th>\n",
       "      <td id=\"T_46175_row10_col0\" class=\"data row10 col0\" >653</td>\n",
       "      <td id=\"T_46175_row10_col1\" class=\"data row10 col1\" >0.036008</td>\n",
       "    </tr>\n",
       "    <tr>\n",
       "      <th id=\"T_46175_level0_row11\" class=\"row_heading level0 row11\" >강원도</th>\n",
       "      <td id=\"T_46175_row11_col0\" class=\"data row11 col0\" >648</td>\n",
       "      <td id=\"T_46175_row11_col1\" class=\"data row11 col1\" >0.035732</td>\n",
       "    </tr>\n",
       "    <tr>\n",
       "      <th id=\"T_46175_level0_row12\" class=\"row_heading level0 row12\" >대구광역시</th>\n",
       "      <td id=\"T_46175_row12_col0\" class=\"data row12 col0\" >586</td>\n",
       "      <td id=\"T_46175_row12_col1\" class=\"data row12 col1\" >0.032313</td>\n",
       "    </tr>\n",
       "    <tr>\n",
       "      <th id=\"T_46175_level0_row13\" class=\"row_heading level0 row13\" >대전광역시</th>\n",
       "      <td id=\"T_46175_row13_col0\" class=\"data row13 col0\" >497</td>\n",
       "      <td id=\"T_46175_row13_col1\" class=\"data row13 col1\" >0.027406</td>\n",
       "    </tr>\n",
       "    <tr>\n",
       "      <th id=\"T_46175_level0_row14\" class=\"row_heading level0 row14\" >광주광역시</th>\n",
       "      <td id=\"T_46175_row14_col0\" class=\"data row14 col0\" >429</td>\n",
       "      <td id=\"T_46175_row14_col1\" class=\"data row14 col1\" >0.023656</td>\n",
       "    </tr>\n",
       "    <tr>\n",
       "      <th id=\"T_46175_level0_row15\" class=\"row_heading level0 row15\" >제주특별자치도</th>\n",
       "      <td id=\"T_46175_row15_col0\" class=\"data row15 col0\" >246</td>\n",
       "      <td id=\"T_46175_row15_col1\" class=\"data row15 col1\" >0.013565</td>\n",
       "    </tr>\n",
       "    <tr>\n",
       "      <th id=\"T_46175_level0_row16\" class=\"row_heading level0 row16\" >세종특별자치시</th>\n",
       "      <td id=\"T_46175_row16_col0\" class=\"data row16 col0\" >70</td>\n",
       "      <td id=\"T_46175_row16_col1\" class=\"data row16 col1\" >0.003860</td>\n",
       "    </tr>\n",
       "  </tbody>\n",
       "</table>\n"
      ],
      "text/plain": [
       "<pandas.io.formats.style.Styler at 0x20c9e487700>"
      ]
     },
     "execution_count": 89,
     "metadata": {},
     "output_type": "execute_result"
    }
   ],
   "source": [
    "city = pd.merge(city_count, city_mean, left_index=True, right_index=True)\n",
    "city.columns = ['합계','비율']\n",
    "city.style.background_gradient()"
   ]
  },
  {
   "cell_type": "code",
   "execution_count": null,
   "id": "31f19265",
   "metadata": {},
   "outputs": [],
   "source": []
  },
  {
   "cell_type": "code",
   "execution_count": null,
   "id": "c6749cdc",
   "metadata": {},
   "outputs": [],
   "source": [
    "##### 공원분포를 시각화 => scatterplot()"
   ]
  },
  {
   "cell_type": "code",
   "execution_count": 92,
   "id": "31c1fdbc",
   "metadata": {
    "scrolled": true
   },
   "outputs": [
    {
     "data": {
      "text/plain": [
       "<AxesSubplot:xlabel='경도', ylabel='위도'>"
      ]
     },
     "execution_count": 92,
     "metadata": {},
     "output_type": "execute_result"
    },
    {
     "data": {
      "image/png": "[encoded data removed]",
      "text/plain": [
       "<Figure size 504x576 with 1 Axes>"
      ]
     },
     "metadata": {
      "needs_background": "light"
     },
     "output_type": "display_data"
    }
   ],
   "source": [
    "plt.figure(figsize=(7,8))\n",
    "sns.scatterplot(data=df1, x='경도', y='위도', hue='공원구분', size='공원면적', sizes=(10,100))"
   ]
  },
  {
   "cell_type": "code",
   "execution_count": 93,
   "id": "c8947fe2",
   "metadata": {},
   "outputs": [
    {
     "data": {
      "text/plain": [
       "<AxesSubplot:xlabel='경도', ylabel='위도'>"
      ]
     },
     "execution_count": 93,
     "metadata": {},
     "output_type": "execute_result"
    },
    {
     "data": {
      "image/png": "[encoded data removed]",
      "text/plain": [
       "<Figure size 504x576 with 1 Axes>"
      ]
     },
     "metadata": {
      "needs_background": "light"
     },
     "output_type": "display_data"
    }
   ],
   "source": [
    "plt.figure(figsize=(7,8))\n",
    "sns.scatterplot(data=df1, x='경도', y='위도', hue='시도', size='공원면적', sizes=(10,100))"
   ]
  },
  {
   "cell_type": "code",
   "execution_count": null,
   "id": "a1c8e468",
   "metadata": {},
   "outputs": [],
   "source": []
  },
  {
   "cell_type": "code",
   "execution_count": 98,
   "id": "c613c828",
   "metadata": {
    "collapsed": true
   },
   "outputs": [
    {
     "data": {
      "text/html": [
       "<div>\n",
       "<style scoped>\n",
       "    .dataframe tbody tr th:only-of-type {\n",
       "        vertical-align: middle;\n",
       "    }\n",
       "\n",
       "    .dataframe tbody tr th {\n",
       "        vertical-align: top;\n",
       "    }\n",
       "\n",
       "    .dataframe thead th {\n",
       "        text-align: right;\n",
       "    }\n",
       "</style>\n",
       "<table border=\"1\" class=\"dataframe\">\n",
       "  <thead>\n",
       "    <tr style=\"text-align: right;\">\n",
       "      <th></th>\n",
       "      <th>관리번호</th>\n",
       "      <th>공원명</th>\n",
       "      <th>공원구분</th>\n",
       "      <th>소재지도로명주소</th>\n",
       "      <th>소재지지번주소</th>\n",
       "      <th>위도</th>\n",
       "      <th>경도</th>\n",
       "      <th>공원면적</th>\n",
       "      <th>공원보유시설(운동시설)</th>\n",
       "      <th>공원보유시설(유희시설)</th>\n",
       "      <th>공원보유시설(편익시설)</th>\n",
       "      <th>공원보유시설(교양시설)</th>\n",
       "      <th>공원보유시설(기타시설)</th>\n",
       "      <th>지정고시일</th>\n",
       "      <th>관리기관명</th>\n",
       "      <th>전화번호</th>\n",
       "      <th>데이터기준일자</th>\n",
       "      <th>제공기관코드</th>\n",
       "      <th>제공기관명</th>\n",
       "      <th>시도</th>\n",
       "      <th>구군</th>\n",
       "      <th>고시연도</th>\n",
       "      <th>고시월</th>\n",
       "    </tr>\n",
       "  </thead>\n",
       "  <tbody>\n",
       "    <tr>\n",
       "      <th>5586</th>\n",
       "      <td>41287-00029</td>\n",
       "      <td>덕이동</td>\n",
       "      <td>역사공원</td>\n",
       "      <td>경기도 고양시 일산서구 경의로 849</td>\n",
       "      <td>경기도 고양시 일산서구 덕이동 265</td>\n",
       "      <td>37.693289</td>\n",
       "      <td>126.758949</td>\n",
       "      <td>17019.0</td>\n",
       "      <td>NaN</td>\n",
       "      <td>NaN</td>\n",
       "      <td>NaN</td>\n",
       "      <td>NaN</td>\n",
       "      <td>NaN</td>\n",
       "      <td>2008-10-31</td>\n",
       "      <td>경기도 고양시 푸른도시사업소</td>\n",
       "      <td>031-8075-4320</td>\n",
       "      <td>2019-04-27</td>\n",
       "      <td>3940000</td>\n",
       "      <td>경기도 고양시</td>\n",
       "      <td>경기도</td>\n",
       "      <td>고양시</td>\n",
       "      <td>2008.0</td>\n",
       "      <td>10.0</td>\n",
       "    </tr>\n",
       "    <tr>\n",
       "      <th>5663</th>\n",
       "      <td>41281-00089</td>\n",
       "      <td>행주산성</td>\n",
       "      <td>역사공원</td>\n",
       "      <td>경기도 고양시 덕양구 행주외동 500</td>\n",
       "      <td>경기도 고양시 덕양구 행주외동 500</td>\n",
       "      <td>37.602857</td>\n",
       "      <td>126.810898</td>\n",
       "      <td>689348.0</td>\n",
       "      <td>NaN</td>\n",
       "      <td>NaN</td>\n",
       "      <td>NaN</td>\n",
       "      <td>NaN</td>\n",
       "      <td>NaN</td>\n",
       "      <td>1971-09-27</td>\n",
       "      <td>경기도 고양시 행주산성관리사업소</td>\n",
       "      <td>031-8075-4640</td>\n",
       "      <td>2019-04-27</td>\n",
       "      <td>3940000</td>\n",
       "      <td>경기도 고양시</td>\n",
       "      <td>경기도</td>\n",
       "      <td>고양시</td>\n",
       "      <td>1971.0</td>\n",
       "      <td>9.0</td>\n",
       "    </tr>\n",
       "  </tbody>\n",
       "</table>\n",
       "</div>"
      ],
      "text/plain": [
       "             관리번호   공원명  공원구분              소재지도로명주소               소재지지번주소  \\\n",
       "5586  41287-00029   덕이동  역사공원  경기도 고양시 일산서구 경의로 849  경기도 고양시 일산서구 덕이동 265   \n",
       "5663  41281-00089  행주산성  역사공원  경기도 고양시 덕양구 행주외동 500  경기도 고양시 덕양구 행주외동 500   \n",
       "\n",
       "             위도          경도      공원면적 공원보유시설(운동시설) 공원보유시설(유희시설) 공원보유시설(편익시설)  \\\n",
       "5586  37.693289  126.758949   17019.0          NaN          NaN          NaN   \n",
       "5663  37.602857  126.810898  689348.0          NaN          NaN          NaN   \n",
       "\n",
       "     공원보유시설(교양시설) 공원보유시설(기타시설)      지정고시일              관리기관명           전화번호  \\\n",
       "5586          NaN          NaN 2008-10-31    경기도 고양시 푸른도시사업소  031-8075-4320   \n",
       "5663          NaN          NaN 1971-09-27  경기도 고양시 행주산성관리사업소  031-8075-4640   \n",
       "\n",
       "         데이터기준일자   제공기관코드    제공기관명   시도   구군    고시연도   고시월  \n",
       "5586  2019-04-27  3940000  경기도 고양시  경기도  고양시  2008.0  10.0  \n",
       "5663  2019-04-27  3940000  경기도 고양시  경기도  고양시  1971.0   9.0  "
      ]
     },
     "execution_count": 98,
     "metadata": {},
     "output_type": "execute_result"
    }
   ],
   "source": [
    "df1[(df1['시도']=='경기도') & (df1['구군']=='고양시') & (df1['공원구분']=='역사공원')]"
   ]
  },
  {
   "cell_type": "code",
   "execution_count": null,
   "id": "7f926ad4",
   "metadata": {},
   "outputs": [],
   "source": []
  },
  {
   "cell_type": "code",
   "execution_count": null,
   "id": "fa13c0fc",
   "metadata": {},
   "outputs": [],
   "source": []
  },
  {
   "cell_type": "code",
   "execution_count": null,
   "id": "cc450774",
   "metadata": {},
   "outputs": [],
   "source": []
  },
  {
   "cell_type": "code",
   "execution_count": null,
   "id": "bd1c9ad0",
   "metadata": {},
   "outputs": [],
   "source": []
  },
  {
   "cell_type": "code",
   "execution_count": null,
   "id": "c7edd32b",
   "metadata": {},
   "outputs": [],
   "source": []
  },
  {
   "cell_type": "code",
   "execution_count": null,
   "id": "d38724fe",
   "metadata": {},
   "outputs": [],
   "source": []
  },
  {
   "cell_type": "code",
   "execution_count": null,
   "id": "f0e584aa",
   "metadata": {},
   "outputs": [],
   "source": []
  },
  {
   "cell_type": "code",
   "execution_count": null,
   "id": "1a39f321",
   "metadata": {},
   "outputs": [],
   "source": []
  },
  {
   "cell_type": "code",
   "execution_count": null,
   "id": "1886ef85",
   "metadata": {},
   "outputs": [],
   "source": []
  },
  {
   "cell_type": "code",
   "execution_count": null,
   "id": "7884cb0a",
   "metadata": {},
   "outputs": [],
   "source": []
  },
  {
   "cell_type": "code",
   "execution_count": null,
   "id": "ea0c3e00",
   "metadata": {},
   "outputs": [],
   "source": []
  },
  {
   "cell_type": "code",
   "execution_count": null,
   "id": "67d58ea2",
   "metadata": {},
   "outputs": [],
   "source": []
  },
  {
   "cell_type": "code",
   "execution_count": null,
   "id": "0ae8c607",
   "metadata": {},
   "outputs": [],
   "source": []
  }
 ],
 "metadata": {
  "kernelspec": {
   "display_name": "Python 3 (ipykernel)",
   "language": "python",
   "name": "python3"
  },
  "language_info": {
   "codemirror_mode": {
    "name": "ipython",
    "version": 3
   },
   "file_extension": ".py",
   "mimetype": "text/x-python",
   "name": "python",
   "nbconvert_exporter": "python",
   "pygments_lexer": "ipython3",
   "version": "3.9.7"
  },
  "varInspector": {
   "cols": {
    "lenName": 16,
    "lenType": 16,
    "lenVar": 40
   },
   "kernels_config": {
    "python": {
     "delete_cmd_postfix": "",
     "delete_cmd_prefix": "del ",
     "library": "var_list.py",
     "varRefreshCmd": "print(var_dic_list())"
    },
    "r": {
     "delete_cmd_postfix": ") ",
     "delete_cmd_prefix": "rm(",
     "library": "var_list.r",
     "varRefreshCmd": "cat(var_dic_list()) "
    }
   },
   "types_to_exclude": [
    "module",
    "function",
    "builtin_function_or_method",
    "instance",
    "_Feature"
   ],
   "window_display": false
  }
 },
 "nbformat": 4,
 "nbformat_minor": 5
}
