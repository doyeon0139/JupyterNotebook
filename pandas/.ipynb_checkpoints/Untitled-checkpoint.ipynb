{
 "cells": [
  {
   "cell_type": "code",
   "execution_count": 2,
   "id": "597c4073",
   "metadata": {},
   "outputs": [],
   "source": [
    "\n",
    "\n",
    "import pandas as pd\n",
    "import numpy as np\n",
    "import matplotlib.pyplot as plt\n",
    "import matplotlib as mpl\n",
    "import matplotlib.font_manager as fm\n",
    "import seaborn as sns\n",
    "\n",
    "\n",
    "\n",
    "\n",
    "import matplotlib as mpl\n",
    "import matplotlib.font_manager as fm\n",
    "\n",
    "mpl.rcParams['axes.unicode_minus'] = False\n",
    "\n",
    "path = 'C:/Windows/Fonts/malgun.ttf'\n",
    "font_name = fm.FontProperties(fname=path, size=50).get_name()\n",
    "plt.rc('font', family=font_name)"
   ]
  },
  {
   "cell_type": "code",
   "execution_count": 4,
   "id": "b5b1d652",
   "metadata": {
    "collapsed": true
   },
   "outputs": [
    {
     "data": {
      "text/html": [
       "<div>\n",
       "<style scoped>\n",
       "    .dataframe tbody tr th:only-of-type {\n",
       "        vertical-align: middle;\n",
       "    }\n",
       "\n",
       "    .dataframe tbody tr th {\n",
       "        vertical-align: top;\n",
       "    }\n",
       "\n",
       "    .dataframe thead th {\n",
       "        text-align: right;\n",
       "    }\n",
       "</style>\n",
       "<table border=\"1\" class=\"dataframe\">\n",
       "  <thead>\n",
       "    <tr style=\"text-align: right;\">\n",
       "      <th></th>\n",
       "      <th>상가업소번호</th>\n",
       "      <th>상호명</th>\n",
       "      <th>지점명</th>\n",
       "      <th>상권업종대분류코드</th>\n",
       "      <th>상권업종대분류명</th>\n",
       "      <th>상권업종중분류코드</th>\n",
       "      <th>상권업종중분류명</th>\n",
       "      <th>상권업종소분류코드</th>\n",
       "      <th>상권업종소분류명</th>\n",
       "      <th>표준산업분류코드</th>\n",
       "      <th>...</th>\n",
       "      <th>건물관리번호</th>\n",
       "      <th>건물명</th>\n",
       "      <th>도로명주소</th>\n",
       "      <th>구우편번호</th>\n",
       "      <th>신우편번호</th>\n",
       "      <th>동정보</th>\n",
       "      <th>층정보</th>\n",
       "      <th>호정보</th>\n",
       "      <th>경도</th>\n",
       "      <th>위도</th>\n",
       "    </tr>\n",
       "  </thead>\n",
       "  <tbody>\n",
       "    <tr>\n",
       "      <th>0</th>\n",
       "      <td>22767534</td>\n",
       "      <td>BYC상신점</td>\n",
       "      <td>상신점</td>\n",
       "      <td>D</td>\n",
       "      <td>소매</td>\n",
       "      <td>D05</td>\n",
       "      <td>의복의류</td>\n",
       "      <td>D05A07</td>\n",
       "      <td>셔츠/내의/속옷</td>\n",
       "      <td>NaN</td>\n",
       "      <td>...</td>\n",
       "      <td>1171011300100360000022458</td>\n",
       "      <td>성암빌딩</td>\n",
       "      <td>서울특별시 송파구 오금로 527</td>\n",
       "      <td>138110</td>\n",
       "      <td>5768.0</td>\n",
       "      <td>NaN</td>\n",
       "      <td>1</td>\n",
       "      <td>NaN</td>\n",
       "      <td>127.147321</td>\n",
       "      <td>37.493054</td>\n",
       "    </tr>\n",
       "    <tr>\n",
       "      <th>1</th>\n",
       "      <td>23324279</td>\n",
       "      <td>제중건강원</td>\n",
       "      <td>NaN</td>\n",
       "      <td>D</td>\n",
       "      <td>소매</td>\n",
       "      <td>D10</td>\n",
       "      <td>건강/미용식품</td>\n",
       "      <td>D10A07</td>\n",
       "      <td>건강원</td>\n",
       "      <td>G47216</td>\n",
       "      <td>...</td>\n",
       "      <td>1156010600100410002034626</td>\n",
       "      <td>NaN</td>\n",
       "      <td>서울특별시 영등포구 영중로14길 11-17</td>\n",
       "      <td>150035</td>\n",
       "      <td>7250.0</td>\n",
       "      <td>NaN</td>\n",
       "      <td>1</td>\n",
       "      <td>NaN</td>\n",
       "      <td>126.907168</td>\n",
       "      <td>37.520613</td>\n",
       "    </tr>\n",
       "    <tr>\n",
       "      <th>2</th>\n",
       "      <td>24525909</td>\n",
       "      <td>민속악기사</td>\n",
       "      <td>NaN</td>\n",
       "      <td>D</td>\n",
       "      <td>소매</td>\n",
       "      <td>D04</td>\n",
       "      <td>취미/오락관련소매</td>\n",
       "      <td>D04A09</td>\n",
       "      <td>악기판매</td>\n",
       "      <td>G47593</td>\n",
       "      <td>...</td>\n",
       "      <td>1120012200101420011000227</td>\n",
       "      <td>NaN</td>\n",
       "      <td>서울특별시 성동구 용답5길 2</td>\n",
       "      <td>133849</td>\n",
       "      <td>4803.0</td>\n",
       "      <td>NaN</td>\n",
       "      <td>NaN</td>\n",
       "      <td>NaN</td>\n",
       "      <td>127.049018</td>\n",
       "      <td>37.566857</td>\n",
       "    </tr>\n",
       "    <tr>\n",
       "      <th>3</th>\n",
       "      <td>17174119</td>\n",
       "      <td>쓰리에프</td>\n",
       "      <td>NaN</td>\n",
       "      <td>Q</td>\n",
       "      <td>음식</td>\n",
       "      <td>Q01</td>\n",
       "      <td>한식</td>\n",
       "      <td>Q01A01</td>\n",
       "      <td>한식/백반/한정식</td>\n",
       "      <td>I56111</td>\n",
       "      <td>...</td>\n",
       "      <td>1159010700101390073009536</td>\n",
       "      <td>NaN</td>\n",
       "      <td>서울특별시 동작구 동작대로27가길 12</td>\n",
       "      <td>156816</td>\n",
       "      <td>7008.0</td>\n",
       "      <td>NaN</td>\n",
       "      <td>NaN</td>\n",
       "      <td>NaN</td>\n",
       "      <td>126.980952</td>\n",
       "      <td>37.487105</td>\n",
       "    </tr>\n",
       "    <tr>\n",
       "      <th>4</th>\n",
       "      <td>17174096</td>\n",
       "      <td>채움</td>\n",
       "      <td>NaN</td>\n",
       "      <td>Q</td>\n",
       "      <td>음식</td>\n",
       "      <td>Q01</td>\n",
       "      <td>한식</td>\n",
       "      <td>Q01A01</td>\n",
       "      <td>한식/백반/한정식</td>\n",
       "      <td>I56111</td>\n",
       "      <td>...</td>\n",
       "      <td>1111012400100580000017956</td>\n",
       "      <td>두산위브파빌리온</td>\n",
       "      <td>서울특별시 종로구 삼봉로 81</td>\n",
       "      <td>110858</td>\n",
       "      <td>3150.0</td>\n",
       "      <td>NaN</td>\n",
       "      <td>NaN</td>\n",
       "      <td>NaN</td>\n",
       "      <td>126.981794</td>\n",
       "      <td>37.572387</td>\n",
       "    </tr>\n",
       "  </tbody>\n",
       "</table>\n",
       "<p>5 rows × 39 columns</p>\n",
       "</div>"
      ],
      "text/plain": [
       "     상가업소번호     상호명  지점명 상권업종대분류코드 상권업종대분류명 상권업종중분류코드   상권업종중분류명 상권업종소분류코드  \\\n",
       "0  22767534  BYC상신점  상신점         D       소매       D05       의복의류    D05A07   \n",
       "1  23324279   제중건강원  NaN         D       소매       D10    건강/미용식품    D10A07   \n",
       "2  24525909   민속악기사  NaN         D       소매       D04  취미/오락관련소매    D04A09   \n",
       "3  17174119    쓰리에프  NaN         Q       음식       Q01         한식    Q01A01   \n",
       "4  17174096      채움  NaN         Q       음식       Q01         한식    Q01A01   \n",
       "\n",
       "    상권업종소분류명 표준산업분류코드  ...                     건물관리번호       건물명  \\\n",
       "0   셔츠/내의/속옷      NaN  ...  1171011300100360000022458      성암빌딩   \n",
       "1        건강원   G47216  ...  1156010600100410002034626       NaN   \n",
       "2       악기판매   G47593  ...  1120012200101420011000227       NaN   \n",
       "3  한식/백반/한정식   I56111  ...  1159010700101390073009536       NaN   \n",
       "4  한식/백반/한정식   I56111  ...  1111012400100580000017956  두산위브파빌리온   \n",
       "\n",
       "                     도로명주소   구우편번호   신우편번호  동정보  층정보  호정보          경도  \\\n",
       "0        서울특별시 송파구 오금로 527  138110  5768.0  NaN    1  NaN  127.147321   \n",
       "1  서울특별시 영등포구 영중로14길 11-17  150035  7250.0  NaN    1  NaN  126.907168   \n",
       "2         서울특별시 성동구 용답5길 2  133849  4803.0  NaN  NaN  NaN  127.049018   \n",
       "3    서울특별시 동작구 동작대로27가길 12  156816  7008.0  NaN  NaN  NaN  126.980952   \n",
       "4         서울특별시 종로구 삼봉로 81  110858  3150.0  NaN  NaN  NaN  126.981794   \n",
       "\n",
       "          위도  \n",
       "0  37.493054  \n",
       "1  37.520613  \n",
       "2  37.566857  \n",
       "3  37.487105  \n",
       "4  37.572387  \n",
       "\n",
       "[5 rows x 39 columns]"
      ]
     },
     "execution_count": 4,
     "metadata": {},
     "output_type": "execute_result"
    }
   ],
   "source": [
    "df = pd.read_csv('./data/소상공인시장진흥공단_상가(상권)정보_서울_202109.csv', encoding='UTF-8')\n",
    "df.head(5)"
   ]
  },
  {
   "cell_type": "code",
   "execution_count": null,
   "id": "c82b5968",
   "metadata": {},
   "outputs": [],
   "source": [
    "#베스킨라빈스 vs 던킨도너츠"
   ]
  },
  {
   "cell_type": "code",
   "execution_count": 14,
   "id": "d6a34be9",
   "metadata": {},
   "outputs": [
    {
     "data": {
      "text/plain": [
       "<AxesSubplot:>"
      ]
     },
     "execution_count": 14,
     "metadata": {},
     "output_type": "execute_result"
    },
    {
     "data": {
      "image/png": "[encoded data removed]",
      "text/plain": [
       "<Figure size 432x288 with 1 Axes>"
      ]
     },
     "metadata": {
      "needs_background": "light"
     },
     "output_type": "display_data"
    }
   ],
   "source": [
    "df.isna().sum().plot(kind='bar')"
   ]
  },
  {
   "cell_type": "code",
   "execution_count": 21,
   "id": "b6d41090",
   "metadata": {
    "collapsed": true
   },
   "outputs": [
    {
     "data": {
      "text/plain": [
       "상가업소번호       True\n",
       "상호명          True\n",
       "상권업종대분류코드    True\n",
       "상권업종대분류명     True\n",
       "상권업종중분류코드    True\n",
       "상권업종중분류명     True\n",
       "상권업종소분류코드    True\n",
       "상권업종소분류명     True\n",
       "시도코드         True\n",
       "시도명          True\n",
       "시군구코드        True\n",
       "시군구명         True\n",
       "행정동코드        True\n",
       "행정동명         True\n",
       "법정동코드        True\n",
       "법정동명         True\n",
       "지번코드         True\n",
       "대지구분코드       True\n",
       "대지구분명        True\n",
       "지번본번지        True\n",
       "지번주소         True\n",
       "도로명코드        True\n",
       "도로명          True\n",
       "건물본번지        True\n",
       "건물관리번호       True\n",
       "도로명주소        True\n",
       "구우편번호        True\n",
       "신우편번호        True\n",
       "경도           True\n",
       "위도           True\n",
       "dtype: bool"
      ]
     },
     "execution_count": 21,
     "metadata": {},
     "output_type": "execute_result"
    }
   ],
   "source": [
    "df_c = df.isnull().sum() < 1000\n",
    "df_c[df_c]"
   ]
  },
  {
   "cell_type": "code",
   "execution_count": 20,
   "id": "9f3ade27",
   "metadata": {
    "collapsed": true
   },
   "outputs": [
    {
     "ename": "IndexError",
     "evalue": "boolean index did not match indexed array along dimension 0; dimension is 30 but corresponding boolean dimension is 39",
     "output_type": "error",
     "traceback": [
      "\u001b[1;31m---------------------------------------------------------------------------\u001b[0m",
      "\u001b[1;31mIndexError\u001b[0m                                Traceback (most recent call last)",
      "\u001b[1;32m~\\AppData\\Local\\Temp/ipykernel_3184/1221696454.py\u001b[0m in \u001b[0;36m<module>\u001b[1;34m\u001b[0m\n\u001b[0;32m      1\u001b[0m \u001b[0muse_c\u001b[0m \u001b[1;33m=\u001b[0m \u001b[0mdf_c\u001b[0m\u001b[1;33m[\u001b[0m\u001b[0mdf_c\u001b[0m\u001b[1;33m]\u001b[0m\u001b[1;33m.\u001b[0m\u001b[0mindex\u001b[0m\u001b[1;33m\u001b[0m\u001b[1;33m\u001b[0m\u001b[0m\n\u001b[1;32m----> 2\u001b[1;33m \u001b[0muse_c\u001b[0m\u001b[1;33m[\u001b[0m\u001b[0mdf_c\u001b[0m\u001b[1;33m]\u001b[0m\u001b[1;33m\u001b[0m\u001b[1;33m\u001b[0m\u001b[0m\n\u001b[0m",
      "\u001b[1;32m~\\Anaconda3\\lib\\site-packages\\pandas\\core\\indexes\\base.py\u001b[0m in \u001b[0;36m__getitem__\u001b[1;34m(self, key)\u001b[0m\n\u001b[0;32m   4614\u001b[0m             \u001b[0mkey\u001b[0m \u001b[1;33m=\u001b[0m \u001b[0mnp\u001b[0m\u001b[1;33m.\u001b[0m\u001b[0masarray\u001b[0m\u001b[1;33m(\u001b[0m\u001b[0mkey\u001b[0m\u001b[1;33m,\u001b[0m \u001b[0mdtype\u001b[0m\u001b[1;33m=\u001b[0m\u001b[0mbool\u001b[0m\u001b[1;33m)\u001b[0m\u001b[1;33m\u001b[0m\u001b[1;33m\u001b[0m\u001b[0m\n\u001b[0;32m   4615\u001b[0m \u001b[1;33m\u001b[0m\u001b[0m\n\u001b[1;32m-> 4616\u001b[1;33m         \u001b[0mresult\u001b[0m \u001b[1;33m=\u001b[0m \u001b[0mgetitem\u001b[0m\u001b[1;33m(\u001b[0m\u001b[0mkey\u001b[0m\u001b[1;33m)\u001b[0m\u001b[1;33m\u001b[0m\u001b[1;33m\u001b[0m\u001b[0m\n\u001b[0m\u001b[0;32m   4617\u001b[0m         \u001b[1;32mif\u001b[0m \u001b[1;32mnot\u001b[0m \u001b[0mis_scalar\u001b[0m\u001b[1;33m(\u001b[0m\u001b[0mresult\u001b[0m\u001b[1;33m)\u001b[0m\u001b[1;33m:\u001b[0m\u001b[1;33m\u001b[0m\u001b[1;33m\u001b[0m\u001b[0m\n\u001b[0;32m   4618\u001b[0m             \u001b[1;31m# error: Argument 1 to \"ndim\" has incompatible type \"Union[ExtensionArray,\u001b[0m\u001b[1;33m\u001b[0m\u001b[1;33m\u001b[0m\u001b[0m\n",
      "\u001b[1;31mIndexError\u001b[0m: boolean index did not match indexed array along dimension 0; dimension is 30 but corresponding boolean dimension is 39"
     ]
    }
   ],
   "source": [
    "use_c = df_c[df_c].index\n",
    "use_c[df_c]"
   ]
  },
  {
   "cell_type": "code",
   "execution_count": null,
   "id": "c1feddf9",
   "metadata": {},
   "outputs": [],
   "source": [
    "# nan값 날리기\n",
    "df.dropna(inplace=True)"
   ]
  },
  {
   "cell_type": "code",
   "execution_count": null,
   "id": "cfe0c93a",
   "metadata": {},
   "outputs": [],
   "source": [
    "df1 = df[use_col].copy()"
   ]
  },
  {
   "cell_type": "code",
   "execution_count": 11,
   "id": "8401fbe7",
   "metadata": {
    "collapsed": true
   },
   "outputs": [
    {
     "ename": "NameError",
     "evalue": "name 'df1' is not defined",
     "output_type": "error",
     "traceback": [
      "\u001b[1;31m---------------------------------------------------------------------------\u001b[0m",
      "\u001b[1;31mNameError\u001b[0m                                 Traceback (most recent call last)",
      "\u001b[1;32m~\\AppData\\Local\\Temp/ipykernel_3184/27456420.py\u001b[0m in \u001b[0;36m<module>\u001b[1;34m\u001b[0m\n\u001b[1;32m----> 1\u001b[1;33m \u001b[0mdf1\u001b[0m\u001b[1;33m.\u001b[0m\u001b[0m시도명\u001b[0m\u001b[1;33m.\u001b[0m\u001b[0munique\u001b[0m\u001b[1;33m(\u001b[0m\u001b[1;33m)\u001b[0m\u001b[1;33m\u001b[0m\u001b[1;33m\u001b[0m\u001b[0m\n\u001b[0m",
      "\u001b[1;31mNameError\u001b[0m: name 'df1' is not defined"
     ]
    }
   ],
   "source": [
    "df1.시도명.unique()"
   ]
  },
  {
   "cell_type": "code",
   "execution_count": null,
   "id": "1b77dddf",
   "metadata": {},
   "outputs": [],
   "source": [
    "# 베스킨라빈스 매장 데이터 추출"
   ]
  },
  {
   "cell_type": "code",
   "execution_count": null,
   "id": "03197670",
   "metadata": {},
   "outputs": [],
   "source": [
    "# for i in df1.상호명:\n",
    "#     if '베스킨라빈스' in i:\n",
    "#         print(i)"
   ]
  },
  {
   "cell_type": "code",
   "execution_count": null,
   "id": "ccddf241",
   "metadata": {},
   "outputs": [],
   "source": [
    "df1.상호명 == '베스킨라빈스'    # basinrobbins, 배스킨라빈스...이름이 다를수 있음"
   ]
  },
  {
   "cell_type": "code",
   "execution_count": null,
   "id": "e6f3016c",
   "metadata": {},
   "outputs": [],
   "source": [
    "df1['상호명'] = df1[df1['상호명'].apply(lambda x:x.lower())   # 소문자 바꿔주고"
   ]
  },
  {
   "cell_type": "code",
   "execution_count": 12,
   "id": "0f71a27d",
   "metadata": {
    "collapsed": true
   },
   "outputs": [
    {
     "ename": "NameError",
     "evalue": "name 'df1' is not defined",
     "output_type": "error",
     "traceback": [
      "\u001b[1;31m---------------------------------------------------------------------------\u001b[0m",
      "\u001b[1;31mNameError\u001b[0m                                 Traceback (most recent call last)",
      "\u001b[1;32m~\\AppData\\Local\\Temp/ipykernel_3184/3967160785.py\u001b[0m in \u001b[0;36m<module>\u001b[1;34m\u001b[0m\n\u001b[1;32m----> 1\u001b[1;33m \u001b[0mdf1\u001b[0m\u001b[1;33m[\u001b[0m\u001b[1;34m'상호명'\u001b[0m\u001b[1;33m]\u001b[0m\u001b[1;33m.\u001b[0m\u001b[0mstr\u001b[0m\u001b[1;33m.\u001b[0m\u001b[0mcontains\u001b[0m\u001b[1;33m(\u001b[0m\u001b[1;34m'베스킨라빈스'\u001b[0m\u001b[1;33m)\u001b[0m\u001b[1;33m\u001b[0m\u001b[1;33m\u001b[0m\u001b[0m\n\u001b[0m",
      "\u001b[1;31mNameError\u001b[0m: name 'df1' is not defined"
     ]
    }
   ],
   "source": [
    "df1[df1['상호명'].str.contains('(베|배)스킨라빈스|baskinrobbins')] # 여러종류로 검색 하기       "
   ]
  },
  {
   "cell_type": "code",
   "execution_count": null,
   "id": "464de129",
   "metadata": {},
   "outputs": [],
   "source": [
    "df31.상호명.unique()"
   ]
  },
  {
   "cell_type": "code",
   "execution_count": null,
   "id": "c81a9a5c",
   "metadata": {},
   "outputs": [],
   "source": [
    "df31.drop(df31[df31.상권업종])"
   ]
  },
  {
   "cell_type": "code",
   "execution_count": null,
   "id": "60d66491",
   "metadata": {},
   "outputs": [],
   "source": []
  },
  {
   "cell_type": "code",
   "execution_count": null,
   "id": "ccbbd40b",
   "metadata": {},
   "outputs": [],
   "source": [
    "# 됐고 던킨을 뽑자"
   ]
  },
  {
   "cell_type": "code",
   "execution_count": null,
   "id": "eb19b14d",
   "metadata": {},
   "outputs": [],
   "source": [
    "# 던킨 포함 한것 뽑기"
   ]
  },
  {
   "cell_type": "code",
   "execution_count": null,
   "id": "750fafbf",
   "metadata": {},
   "outputs": [],
   "source": [
    "# 던킨 상권 분리 => 던킨은 음식점으로만 되어잇음"
   ]
  },
  {
   "cell_type": "code",
   "execution_count": null,
   "id": "ba8f68ec",
   "metadata": {},
   "outputs": [],
   "source": [
    "# 각각의 매장수?"
   ]
  },
  {
   "cell_type": "code",
   "execution_count": null,
   "id": "9bba8493",
   "metadata": {},
   "outputs": [],
   "source": [
    "# 각각어느 구에 매장수가 많은지 비교"
   ]
  },
  {
   "cell_type": "code",
   "execution_count": null,
   "id": "c07473e3",
   "metadata": {},
   "outputs": [],
   "source": [
    "df31.groupby('시군구명').상호명.count().sort_values().plot(kind='bar')\n",
    "# 자 던킨도 해봐"
   ]
  },
  {
   "cell_type": "code",
   "execution_count": null,
   "id": "90e12655",
   "metadata": {},
   "outputs": [],
   "source": []
  },
  {
   "cell_type": "code",
   "execution_count": null,
   "id": "3cd91614",
   "metadata": {},
   "outputs": [],
   "source": [
    "# 위도 경도를 x,y로 해서\n",
    "df31[['위도','경도']].plot(kind='scatter', x='경도', y='위도')"
   ]
  },
  {
   "cell_type": "code",
   "execution_count": null,
   "id": "3a407e35",
   "metadata": {},
   "outputs": [],
   "source": [
    "#던킨도 그려보자"
   ]
  },
  {
   "cell_type": "code",
   "execution_count": null,
   "id": "c7273e1b",
   "metadata": {},
   "outputs": [],
   "source": [
    "# 던킨과 베스킨을 구분하는 칼럼이 필요하대 왜필요하지는 모르겠어\n",
    "df31['상호이름'] = '베스킨'\n",
    "dfdunk['상호이름'] = '던킨'\n",
    "\n",
    "df_con = pd.concat([df31, dfdunk])  # 붙잇...\n"
   ]
  },
  {
   "cell_type": "code",
   "execution_count": null,
   "id": "be73ad67",
   "metadata": {},
   "outputs": [],
   "source": [
    "df_con[['위도','경도']].plot(kind='scatter', x='경도', y='위도')  # 그래프 같이 넣어주기"
   ]
  },
  {
   "cell_type": "code",
   "execution_count": 22,
   "id": "68673c6c",
   "metadata": {
    "collapsed": true
   },
   "outputs": [
    {
     "ename": "SyntaxError",
     "evalue": "positional argument follows keyword argument (Temp/ipykernel_3184/3489427470.py, line 1)",
     "output_type": "error",
     "traceback": [
      "\u001b[1;36m  File \u001b[1;32m\"C:\\Users\\bitcamp\\AppData\\Local\\Temp/ipykernel_3184/3489427470.py\"\u001b[1;36m, line \u001b[1;32m1\u001b[0m\n\u001b[1;33m    sns.scatter(data = df_con, x:'경도', y:'위도', hue='상호이름')\u001b[0m\n\u001b[1;37m                                ^\u001b[0m\n\u001b[1;31mSyntaxError\u001b[0m\u001b[1;31m:\u001b[0m positional argument follows keyword argument\n"
     ]
    }
   ],
   "source": [
    "sns.scatter(data = df_con, x:'경도', y:'위도', hue='상호이름')"
   ]
  },
  {
   "cell_type": "code",
   "execution_count": null,
   "id": "d7026d19",
   "metadata": {},
   "outputs": [],
   "source": []
  },
  {
   "cell_type": "code",
   "execution_count": 23,
   "id": "5d64c6a9",
   "metadata": {
    "collapsed": true
   },
   "outputs": [
    {
     "name": "stdout",
     "output_type": "stream",
     "text": [
      "Collecting folium\n",
      "  Downloading folium-0.12.1.post1-py2.py3-none-any.whl (95 kB)\n",
      "Requirement already satisfied: numpy in c:\\users\\bitcamp\\anaconda3\\lib\\site-packages (from folium) (1.22.1)\n",
      "Collecting branca>=0.3.0\n",
      "  Downloading branca-0.4.2-py3-none-any.whl (24 kB)\n",
      "Requirement already satisfied: requests in c:\\users\\bitcamp\\anaconda3\\lib\\site-packages (from folium) (2.26.0)\n",
      "Requirement already satisfied: jinja2>=2.9 in c:\\users\\bitcamp\\anaconda3\\lib\\site-packages (from folium) (2.11.3)\n",
      "Requirement already satisfied: MarkupSafe>=0.23 in c:\\users\\bitcamp\\anaconda3\\lib\\site-packages (from jinja2>=2.9->folium) (1.1.1)\n",
      "Requirement already satisfied: charset-normalizer~=2.0.0 in c:\\users\\bitcamp\\anaconda3\\lib\\site-packages (from requests->folium) (2.0.4)\n",
      "Requirement already satisfied: idna<4,>=2.5 in c:\\users\\bitcamp\\anaconda3\\lib\\site-packages (from requests->folium) (3.2)\n",
      "Requirement already satisfied: certifi>=2017.4.17 in c:\\users\\bitcamp\\anaconda3\\lib\\site-packages (from requests->folium) (2021.10.8)\n",
      "Requirement already satisfied: urllib3<1.27,>=1.21.1 in c:\\users\\bitcamp\\anaconda3\\lib\\site-packages (from requests->folium) (1.26.7)\n",
      "Installing collected packages: branca, folium\n",
      "Successfully installed branca-0.4.2 folium-0.12.1.post1\n"
     ]
    }
   ],
   "source": [
    "!pip install folium"
   ]
  },
  {
   "cell_type": "code",
   "execution_count": 24,
   "id": "64f6955a",
   "metadata": {},
   "outputs": [],
   "source": [
    "import folium"
   ]
  },
  {
   "cell_type": "code",
   "execution_count": null,
   "id": "5f183095",
   "metadata": {},
   "outputs": [],
   "source": [
    "lat = df_con['위도'].mean()\n",
    "long = df_con['경도'].mean()"
   ]
  },
  {
   "cell_type": "code",
   "execution_count": 25,
   "id": "33d7991a",
   "metadata": {},
   "outputs": [
    {
     "data": {
      "text/plain": [
       "<module 'folium' from 'C:\\\\Users\\\\bitcamp\\\\Anaconda3\\\\lib\\\\site-packages\\\\folium\\\\__init__.py'>"
      ]
     },
     "execution_count": 25,
     "metadata": {},
     "output_type": "execute_result"
    }
   ],
   "source": [
    "folium()"
   ]
  },
  {
   "cell_type": "code",
   "execution_count": null,
   "id": "2f20a504",
   "metadata": {},
   "outputs": [],
   "source": [
    "m = folium.Map([lat, long], zoom_start=12)\n",
    "\n",
    "for i in df_con.index:\n",
    "    sub_lat = df_con.loc[i, '위도']\n",
    "    sub_long = df_con.loc[i, '경도']\n",
    "    title = df_con.loc[i, '상호이름']\n",
    "    \n",
    "    folium.Marker([sub_lat, sub_long],\n",
    "                 tooltip=title).add_to(m)\n",
    "    \n",
    "m"
   ]
  },
  {
   "cell_type": "code",
   "execution_count": null,
   "id": "1446ece1",
   "metadata": {},
   "outputs": [],
   "source": []
  },
  {
   "cell_type": "code",
   "execution_count": null,
   "id": "23b20853",
   "metadata": {},
   "outputs": [],
   "source": []
  },
  {
   "cell_type": "code",
   "execution_count": null,
   "id": "287f891b",
   "metadata": {},
   "outputs": [],
   "source": []
  },
  {
   "cell_type": "code",
   "execution_count": null,
   "id": "1dc62b4c",
   "metadata": {},
   "outputs": [],
   "source": []
  }
 ],
 "metadata": {
  "kernelspec": {
   "display_name": "Python 3 (ipykernel)",
   "language": "python",
   "name": "python3"
  },
  "language_info": {
   "codemirror_mode": {
    "name": "ipython",
    "version": 3
   },
   "file_extension": ".py",
   "mimetype": "text/x-python",
   "name": "python",
   "nbconvert_exporter": "python",
   "pygments_lexer": "ipython3",
   "version": "3.9.7"
  },
  "varInspector": {
   "cols": {
    "lenName": 16,
    "lenType": 16,
    "lenVar": 40
   },
   "kernels_config": {
    "python": {
     "delete_cmd_postfix": "",
     "delete_cmd_prefix": "del ",
     "library": "var_list.py",
     "varRefreshCmd": "print(var_dic_list())"
    },
    "r": {
     "delete_cmd_postfix": ") ",
     "delete_cmd_prefix": "rm(",
     "library": "var_list.r",
     "varRefreshCmd": "cat(var_dic_list()) "
    }
   },
   "types_to_exclude": [
    "module",
    "function",
    "builtin_function_or_method",
    "instance",
    "_Feature"
   ],
   "window_display": false
  }
 },
 "nbformat": 4,
 "nbformat_minor": 5
}
