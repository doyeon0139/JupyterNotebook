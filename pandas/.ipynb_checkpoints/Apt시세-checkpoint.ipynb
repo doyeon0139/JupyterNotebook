{
 "cells": [
  {
   "cell_type": "code",
   "execution_count": 1,
   "id": "bc61dde9",
   "metadata": {},
   "outputs": [],
   "source": [
    "# data.go.kr\n",
    "\n",
    "import pandas as pd\n",
    "import numpy as np\n",
    "import matplotlib.pyplot as plt\n",
    "import matplotlib as mpl\n",
    "import matplotlib.font_manager as fm\n",
    "import seaborn as sns\n",
    "\n",
    "\n",
    "\n",
    "\n",
    "import matplotlib as mpl\n",
    "import matplotlib.font_manager as fm\n",
    "\n",
    "mpl.rcParams['axes.unicode_minus'] = False\n",
    "\n",
    "path = 'C:/Windows/Fonts/malgun.ttf'\n",
    "font_name = fm.FontProperties(fname=path, size=50).get_name()\n",
    "plt.rc('font', family=font_name)"
   ]
  },
  {
   "cell_type": "code",
   "execution_count": 2,
   "id": "ed47157a",
   "metadata": {},
   "outputs": [],
   "source": [
    "# warnings 안뜨게"
   ]
  },
  {
   "cell_type": "code",
   "execution_count": 3,
   "id": "87516659",
   "metadata": {},
   "outputs": [],
   "source": [
    "# 한글 encoding\n",
    "\n",
    "# utf8 - \n",
    "# euckr -한글인코딩\n",
    "# cp949 - euc보다 폭넓은\n",
    "\n",
    "# 안맞으면 디코드에러가 뜸"
   ]
  },
  {
   "cell_type": "code",
   "execution_count": 4,
   "id": "9fbcac62",
   "metadata": {},
   "outputs": [
    {
     "data": {
      "text/html": [
       "<div>\n",
       "<style scoped>\n",
       "    .dataframe tbody tr th:only-of-type {\n",
       "        vertical-align: middle;\n",
       "    }\n",
       "\n",
       "    .dataframe tbody tr th {\n",
       "        vertical-align: top;\n",
       "    }\n",
       "\n",
       "    .dataframe thead th {\n",
       "        text-align: right;\n",
       "    }\n",
       "</style>\n",
       "<table border=\"1\" class=\"dataframe\">\n",
       "  <thead>\n",
       "    <tr style=\"text-align: right;\">\n",
       "      <th></th>\n",
       "      <th>지역명</th>\n",
       "      <th>규모구분</th>\n",
       "      <th>연도</th>\n",
       "      <th>월</th>\n",
       "      <th>분양가격(제곱미터)</th>\n",
       "    </tr>\n",
       "  </thead>\n",
       "  <tbody>\n",
       "    <tr>\n",
       "      <th>0</th>\n",
       "      <td>서울</td>\n",
       "      <td>모든면적</td>\n",
       "      <td>2015</td>\n",
       "      <td>10</td>\n",
       "      <td>5841</td>\n",
       "    </tr>\n",
       "    <tr>\n",
       "      <th>1</th>\n",
       "      <td>서울</td>\n",
       "      <td>전용면적 60제곱미터이하</td>\n",
       "      <td>2015</td>\n",
       "      <td>10</td>\n",
       "      <td>5652</td>\n",
       "    </tr>\n",
       "    <tr>\n",
       "      <th>2</th>\n",
       "      <td>서울</td>\n",
       "      <td>전용면적 60제곱미터초과 85제곱미터이하</td>\n",
       "      <td>2015</td>\n",
       "      <td>10</td>\n",
       "      <td>5882</td>\n",
       "    </tr>\n",
       "    <tr>\n",
       "      <th>3</th>\n",
       "      <td>서울</td>\n",
       "      <td>전용면적 85제곱미터초과 102제곱미터이하</td>\n",
       "      <td>2015</td>\n",
       "      <td>10</td>\n",
       "      <td>5721</td>\n",
       "    </tr>\n",
       "    <tr>\n",
       "      <th>4</th>\n",
       "      <td>서울</td>\n",
       "      <td>전용면적 102제곱미터초과</td>\n",
       "      <td>2015</td>\n",
       "      <td>10</td>\n",
       "      <td>5879</td>\n",
       "    </tr>\n",
       "  </tbody>\n",
       "</table>\n",
       "</div>"
      ],
      "text/plain": [
       "  지역명                     규모구분    연도   월 분양가격(제곱미터)\n",
       "0  서울                     모든면적  2015  10       5841\n",
       "1  서울            전용면적 60제곱미터이하  2015  10       5652\n",
       "2  서울   전용면적 60제곱미터초과 85제곱미터이하  2015  10       5882\n",
       "3  서울  전용면적 85제곱미터초과 102제곱미터이하  2015  10       5721\n",
       "4  서울           전용면적 102제곱미터초과  2015  10       5879"
      ]
     },
     "execution_count": 4,
     "metadata": {},
     "output_type": "execute_result"
    }
   ],
   "source": [
    "tt = pd.read_csv('./data/주택도시보증공사_전국 신규 민간아파트 분양가격 동향_20211031.csv', encoding='euckr')\n",
    "tt.head()"
   ]
  },
  {
   "cell_type": "code",
   "execution_count": 5,
   "id": "f729de0c",
   "metadata": {},
   "outputs": [
    {
     "name": "stdout",
     "output_type": "stream",
     "text": [
      "<class 'pandas.core.frame.DataFrame'>\n",
      "RangeIndex: 6205 entries, 0 to 6204\n",
      "Data columns (total 5 columns):\n",
      " #   Column      Non-Null Count  Dtype \n",
      "---  ------      --------------  ----- \n",
      " 0   지역명         6205 non-null   object\n",
      " 1   규모구분        6205 non-null   object\n",
      " 2   연도          6205 non-null   int64 \n",
      " 3   월           6205 non-null   int64 \n",
      " 4   분양가격(제곱미터)  5734 non-null   object\n",
      "dtypes: int64(2), object(3)\n",
      "memory usage: 242.5+ KB\n"
     ]
    }
   ],
   "source": [
    "tt.info()      # 분양가격 숫자화"
   ]
  },
  {
   "cell_type": "code",
   "execution_count": 6,
   "id": "b0095a37",
   "metadata": {},
   "outputs": [],
   "source": [
    "# 분양가격 숫자화"
   ]
  },
  {
   "cell_type": "code",
   "execution_count": 7,
   "id": "ff9b07ba",
   "metadata": {},
   "outputs": [
    {
     "data": {
      "text/plain": [
       "지역명             0\n",
       "규모구분            0\n",
       "연도              0\n",
       "월               0\n",
       "분양가격(제곱미터)    471\n",
       "dtype: int64"
      ]
     },
     "execution_count": 7,
     "metadata": {},
     "output_type": "execute_result"
    }
   ],
   "source": [
    "tt.isna().sum()  #nan값 확인"
   ]
  },
  {
   "cell_type": "code",
   "execution_count": 98,
   "id": "01dc9fc6",
   "metadata": {
    "collapsed": true
   },
   "outputs": [
    {
     "data": {
      "text/html": [
       "<div>\n",
       "<style scoped>\n",
       "    .dataframe tbody tr th:only-of-type {\n",
       "        vertical-align: middle;\n",
       "    }\n",
       "\n",
       "    .dataframe tbody tr th {\n",
       "        vertical-align: top;\n",
       "    }\n",
       "\n",
       "    .dataframe thead th {\n",
       "        text-align: right;\n",
       "    }\n",
       "</style>\n",
       "<table border=\"1\" class=\"dataframe\">\n",
       "  <thead>\n",
       "    <tr style=\"text-align: right;\">\n",
       "      <th></th>\n",
       "      <th>지역명</th>\n",
       "      <th>규모구분</th>\n",
       "      <th>연도</th>\n",
       "      <th>월</th>\n",
       "      <th>분양가격(제곱미터)</th>\n",
       "    </tr>\n",
       "  </thead>\n",
       "  <tbody>\n",
       "    <tr>\n",
       "      <th>368</th>\n",
       "      <td>광주</td>\n",
       "      <td>전용면적 85제곱미터초과 102제곱미터이하</td>\n",
       "      <td>2016</td>\n",
       "      <td>2</td>\n",
       "      <td>NaN</td>\n",
       "    </tr>\n",
       "    <tr>\n",
       "      <th>369</th>\n",
       "      <td>광주</td>\n",
       "      <td>전용면적 102제곱미터초과</td>\n",
       "      <td>2016</td>\n",
       "      <td>2</td>\n",
       "      <td>NaN</td>\n",
       "    </tr>\n",
       "    <tr>\n",
       "      <th>374</th>\n",
       "      <td>대전</td>\n",
       "      <td>전용면적 102제곱미터초과</td>\n",
       "      <td>2016</td>\n",
       "      <td>2</td>\n",
       "      <td>NaN</td>\n",
       "    </tr>\n",
       "    <tr>\n",
       "      <th>388</th>\n",
       "      <td>강원</td>\n",
       "      <td>전용면적 85제곱미터초과 102제곱미터이하</td>\n",
       "      <td>2016</td>\n",
       "      <td>2</td>\n",
       "      <td>NaN</td>\n",
       "    </tr>\n",
       "    <tr>\n",
       "      <th>421</th>\n",
       "      <td>제주</td>\n",
       "      <td>전용면적 60제곱미터이하</td>\n",
       "      <td>2016</td>\n",
       "      <td>2</td>\n",
       "      <td>NaN</td>\n",
       "    </tr>\n",
       "    <tr>\n",
       "      <th>...</th>\n",
       "      <td>...</td>\n",
       "      <td>...</td>\n",
       "      <td>...</td>\n",
       "      <td>...</td>\n",
       "      <td>...</td>\n",
       "    </tr>\n",
       "    <tr>\n",
       "      <th>5984</th>\n",
       "      <td>대전</td>\n",
       "      <td>전용면적 102제곱미터초과</td>\n",
       "      <td>2021</td>\n",
       "      <td>8</td>\n",
       "      <td>NaN</td>\n",
       "    </tr>\n",
       "    <tr>\n",
       "      <th>5989</th>\n",
       "      <td>울산</td>\n",
       "      <td>전용면적 102제곱미터초과</td>\n",
       "      <td>2021</td>\n",
       "      <td>8</td>\n",
       "      <td>NaN</td>\n",
       "    </tr>\n",
       "    <tr>\n",
       "      <th>6018</th>\n",
       "      <td>전남</td>\n",
       "      <td>전용면적 85제곱미터초과 102제곱미터이하</td>\n",
       "      <td>2021</td>\n",
       "      <td>8</td>\n",
       "      <td>NaN</td>\n",
       "    </tr>\n",
       "    <tr>\n",
       "      <th>6031</th>\n",
       "      <td>제주</td>\n",
       "      <td>전용면적 60제곱미터이하</td>\n",
       "      <td>2021</td>\n",
       "      <td>8</td>\n",
       "      <td>NaN</td>\n",
       "    </tr>\n",
       "    <tr>\n",
       "      <th>6033</th>\n",
       "      <td>제주</td>\n",
       "      <td>전용면적 85제곱미터초과 102제곱미터이하</td>\n",
       "      <td>2021</td>\n",
       "      <td>8</td>\n",
       "      <td>NaN</td>\n",
       "    </tr>\n",
       "  </tbody>\n",
       "</table>\n",
       "<p>471 rows × 5 columns</p>\n",
       "</div>"
      ],
      "text/plain": [
       "     지역명                     규모구분    연도  월 분양가격(제곱미터)\n",
       "368   광주  전용면적 85제곱미터초과 102제곱미터이하  2016  2        NaN\n",
       "369   광주           전용면적 102제곱미터초과  2016  2        NaN\n",
       "374   대전           전용면적 102제곱미터초과  2016  2        NaN\n",
       "388   강원  전용면적 85제곱미터초과 102제곱미터이하  2016  2        NaN\n",
       "421   제주            전용면적 60제곱미터이하  2016  2        NaN\n",
       "...   ..                      ...   ... ..        ...\n",
       "5984  대전           전용면적 102제곱미터초과  2021  8        NaN\n",
       "5989  울산           전용면적 102제곱미터초과  2021  8        NaN\n",
       "6018  전남  전용면적 85제곱미터초과 102제곱미터이하  2021  8        NaN\n",
       "6031  제주            전용면적 60제곱미터이하  2021  8        NaN\n",
       "6033  제주  전용면적 85제곱미터초과 102제곱미터이하  2021  8        NaN\n",
       "\n",
       "[471 rows x 5 columns]"
      ]
     },
     "execution_count": 98,
     "metadata": {},
     "output_type": "execute_result"
    }
   ],
   "source": [
    "tt.loc[tt['분양가격(제곱미터)'].isna()]           # nan값 확인"
   ]
  },
  {
   "cell_type": "code",
   "execution_count": 8,
   "id": "60568ec7",
   "metadata": {},
   "outputs": [],
   "source": [
    "tt.dropna(inplace=True)"
   ]
  },
  {
   "cell_type": "code",
   "execution_count": 9,
   "id": "a5f28de7",
   "metadata": {},
   "outputs": [
    {
     "data": {
      "text/plain": [
       "지역명           0\n",
       "규모구분          0\n",
       "연도            0\n",
       "월             0\n",
       "분양가격(제곱미터)    0\n",
       "dtype: int64"
      ]
     },
     "execution_count": 9,
     "metadata": {},
     "output_type": "execute_result"
    }
   ],
   "source": [
    "tt.isna().sum()"
   ]
  },
  {
   "cell_type": "code",
   "execution_count": 10,
   "id": "36a4f698",
   "metadata": {
    "collapsed": true
   },
   "outputs": [
    {
     "ename": "KeyError",
     "evalue": "'분양가격(제곱미터'",
     "output_type": "error",
     "traceback": [
      "\u001b[1;31m---------------------------------------------------------------------------\u001b[0m",
      "\u001b[1;31mKeyError\u001b[0m                                  Traceback (most recent call last)",
      "\u001b[1;32m~\\Anaconda3\\lib\\site-packages\\pandas\\core\\indexes\\base.py\u001b[0m in \u001b[0;36mget_loc\u001b[1;34m(self, key, method, tolerance)\u001b[0m\n\u001b[0;32m   3360\u001b[0m             \u001b[1;32mtry\u001b[0m\u001b[1;33m:\u001b[0m\u001b[1;33m\u001b[0m\u001b[1;33m\u001b[0m\u001b[0m\n\u001b[1;32m-> 3361\u001b[1;33m                 \u001b[1;32mreturn\u001b[0m \u001b[0mself\u001b[0m\u001b[1;33m.\u001b[0m\u001b[0m_engine\u001b[0m\u001b[1;33m.\u001b[0m\u001b[0mget_loc\u001b[0m\u001b[1;33m(\u001b[0m\u001b[0mcasted_key\u001b[0m\u001b[1;33m)\u001b[0m\u001b[1;33m\u001b[0m\u001b[1;33m\u001b[0m\u001b[0m\n\u001b[0m\u001b[0;32m   3362\u001b[0m             \u001b[1;32mexcept\u001b[0m \u001b[0mKeyError\u001b[0m \u001b[1;32mas\u001b[0m \u001b[0merr\u001b[0m\u001b[1;33m:\u001b[0m\u001b[1;33m\u001b[0m\u001b[1;33m\u001b[0m\u001b[0m\n",
      "\u001b[1;32m~\\Anaconda3\\lib\\site-packages\\pandas\\_libs\\index.pyx\u001b[0m in \u001b[0;36mpandas._libs.index.IndexEngine.get_loc\u001b[1;34m()\u001b[0m\n",
      "\u001b[1;32m~\\Anaconda3\\lib\\site-packages\\pandas\\_libs\\index.pyx\u001b[0m in \u001b[0;36mpandas._libs.index.IndexEngine.get_loc\u001b[1;34m()\u001b[0m\n",
      "\u001b[1;32mpandas\\_libs\\hashtable_class_helper.pxi\u001b[0m in \u001b[0;36mpandas._libs.hashtable.PyObjectHashTable.get_item\u001b[1;34m()\u001b[0m\n",
      "\u001b[1;32mpandas\\_libs\\hashtable_class_helper.pxi\u001b[0m in \u001b[0;36mpandas._libs.hashtable.PyObjectHashTable.get_item\u001b[1;34m()\u001b[0m\n",
      "\u001b[1;31mKeyError\u001b[0m: '분양가격(제곱미터'",
      "\nThe above exception was the direct cause of the following exception:\n",
      "\u001b[1;31mKeyError\u001b[0m                                  Traceback (most recent call last)",
      "\u001b[1;32m~\\AppData\\Local\\Temp/ipykernel_7096/2241366027.py\u001b[0m in \u001b[0;36m<module>\u001b[1;34m\u001b[0m\n\u001b[1;32m----> 1\u001b[1;33m \u001b[0mtt\u001b[0m\u001b[1;33m[\u001b[0m\u001b[1;34m'분양가격(제곱미터'\u001b[0m\u001b[1;33m]\u001b[0m \u001b[1;33m*\u001b[0m \u001b[1;36m3.3\u001b[0m        \u001b[1;31m#오브젝트 연산 안됨\u001b[0m\u001b[1;33m\u001b[0m\u001b[1;33m\u001b[0m\u001b[0m\n\u001b[0m",
      "\u001b[1;32m~\\Anaconda3\\lib\\site-packages\\pandas\\core\\frame.py\u001b[0m in \u001b[0;36m__getitem__\u001b[1;34m(self, key)\u001b[0m\n\u001b[0;32m   3456\u001b[0m             \u001b[1;32mif\u001b[0m \u001b[0mself\u001b[0m\u001b[1;33m.\u001b[0m\u001b[0mcolumns\u001b[0m\u001b[1;33m.\u001b[0m\u001b[0mnlevels\u001b[0m \u001b[1;33m>\u001b[0m \u001b[1;36m1\u001b[0m\u001b[1;33m:\u001b[0m\u001b[1;33m\u001b[0m\u001b[1;33m\u001b[0m\u001b[0m\n\u001b[0;32m   3457\u001b[0m                 \u001b[1;32mreturn\u001b[0m \u001b[0mself\u001b[0m\u001b[1;33m.\u001b[0m\u001b[0m_getitem_multilevel\u001b[0m\u001b[1;33m(\u001b[0m\u001b[0mkey\u001b[0m\u001b[1;33m)\u001b[0m\u001b[1;33m\u001b[0m\u001b[1;33m\u001b[0m\u001b[0m\n\u001b[1;32m-> 3458\u001b[1;33m             \u001b[0mindexer\u001b[0m \u001b[1;33m=\u001b[0m \u001b[0mself\u001b[0m\u001b[1;33m.\u001b[0m\u001b[0mcolumns\u001b[0m\u001b[1;33m.\u001b[0m\u001b[0mget_loc\u001b[0m\u001b[1;33m(\u001b[0m\u001b[0mkey\u001b[0m\u001b[1;33m)\u001b[0m\u001b[1;33m\u001b[0m\u001b[1;33m\u001b[0m\u001b[0m\n\u001b[0m\u001b[0;32m   3459\u001b[0m             \u001b[1;32mif\u001b[0m \u001b[0mis_integer\u001b[0m\u001b[1;33m(\u001b[0m\u001b[0mindexer\u001b[0m\u001b[1;33m)\u001b[0m\u001b[1;33m:\u001b[0m\u001b[1;33m\u001b[0m\u001b[1;33m\u001b[0m\u001b[0m\n\u001b[0;32m   3460\u001b[0m                 \u001b[0mindexer\u001b[0m \u001b[1;33m=\u001b[0m \u001b[1;33m[\u001b[0m\u001b[0mindexer\u001b[0m\u001b[1;33m]\u001b[0m\u001b[1;33m\u001b[0m\u001b[1;33m\u001b[0m\u001b[0m\n",
      "\u001b[1;32m~\\Anaconda3\\lib\\site-packages\\pandas\\core\\indexes\\base.py\u001b[0m in \u001b[0;36mget_loc\u001b[1;34m(self, key, method, tolerance)\u001b[0m\n\u001b[0;32m   3361\u001b[0m                 \u001b[1;32mreturn\u001b[0m \u001b[0mself\u001b[0m\u001b[1;33m.\u001b[0m\u001b[0m_engine\u001b[0m\u001b[1;33m.\u001b[0m\u001b[0mget_loc\u001b[0m\u001b[1;33m(\u001b[0m\u001b[0mcasted_key\u001b[0m\u001b[1;33m)\u001b[0m\u001b[1;33m\u001b[0m\u001b[1;33m\u001b[0m\u001b[0m\n\u001b[0;32m   3362\u001b[0m             \u001b[1;32mexcept\u001b[0m \u001b[0mKeyError\u001b[0m \u001b[1;32mas\u001b[0m \u001b[0merr\u001b[0m\u001b[1;33m:\u001b[0m\u001b[1;33m\u001b[0m\u001b[1;33m\u001b[0m\u001b[0m\n\u001b[1;32m-> 3363\u001b[1;33m                 \u001b[1;32mraise\u001b[0m \u001b[0mKeyError\u001b[0m\u001b[1;33m(\u001b[0m\u001b[0mkey\u001b[0m\u001b[1;33m)\u001b[0m \u001b[1;32mfrom\u001b[0m \u001b[0merr\u001b[0m\u001b[1;33m\u001b[0m\u001b[1;33m\u001b[0m\u001b[0m\n\u001b[0m\u001b[0;32m   3364\u001b[0m \u001b[1;33m\u001b[0m\u001b[0m\n\u001b[0;32m   3365\u001b[0m         \u001b[1;32mif\u001b[0m \u001b[0mis_scalar\u001b[0m\u001b[1;33m(\u001b[0m\u001b[0mkey\u001b[0m\u001b[1;33m)\u001b[0m \u001b[1;32mand\u001b[0m \u001b[0misna\u001b[0m\u001b[1;33m(\u001b[0m\u001b[0mkey\u001b[0m\u001b[1;33m)\u001b[0m \u001b[1;32mand\u001b[0m \u001b[1;32mnot\u001b[0m \u001b[0mself\u001b[0m\u001b[1;33m.\u001b[0m\u001b[0mhasnans\u001b[0m\u001b[1;33m:\u001b[0m\u001b[1;33m\u001b[0m\u001b[1;33m\u001b[0m\u001b[0m\n",
      "\u001b[1;31mKeyError\u001b[0m: '분양가격(제곱미터'"
     ]
    }
   ],
   "source": [
    "tt['분양가격(제곱미터'] * 3.3        #오브젝트 연산 안됨"
   ]
  },
  {
   "cell_type": "code",
   "execution_count": 15,
   "id": "f29514bf",
   "metadata": {},
   "outputs": [],
   "source": [
    "tt['분양가격(제곱미터)']= tt['분양가격(제곱미터)'].astype('str')         # 형변환"
   ]
  },
  {
   "cell_type": "code",
   "execution_count": 24,
   "id": "700dc237",
   "metadata": {},
   "outputs": [],
   "source": [
    "idexes = []\n",
    "errors = []\n",
    "for i,j in enumerate(tt['분양가격(제곱미터)']):\n",
    "\n",
    "    try:\n",
    "        float(j)\n",
    "        idexes.append(i)\n",
    "    except:\n",
    "        errors.append(j)"
   ]
  },
  {
   "cell_type": "code",
   "execution_count": 35,
   "id": "600e8c9c",
   "metadata": {},
   "outputs": [
    {
     "data": {
      "text/plain": [
       "186"
      ]
     },
     "execution_count": 35,
     "metadata": {},
     "output_type": "execute_result"
    }
   ],
   "source": [
    "\n",
    "len(errors)"
   ]
  },
  {
   "cell_type": "code",
   "execution_count": 36,
   "id": "86bb3667",
   "metadata": {
    "collapsed": true
   },
   "outputs": [
    {
     "ename": "KeyError",
     "evalue": "\"['  ' '  ' '  ' '  ' '  ' '  ' '  ' '  ' '  ' '  ' '  ' '  ' '  ' '  '\\n '  ' '  ' ' 9,501 ' ' 9,724 ' ' 9,518 ' ' 7,044 ' ' - ' ' 4,315 '\\n ' 4,387 ' ' 4,283 ' ' 4,824 ' ' 5,312 ' ' 4,227 ' ' 4,125 ' ' 4,205 '\\n ' 4,283 ' ' 5,194 ' ' 4,358 ' ' 4,202 ' ' 4,327 ' ' 3,971 ' ' 4,518 '\\n ' 4,750 ' ' 4,644 ' ' 4,771 ' ' 4,257 ' ' 5,010 ' ' 4,338 ' ' 2,957 '\\n ' 4,027 ' ' - ' ' 4,668 ' ' 3,717 ' ' 3,862 ' ' 3,715 ' ' - ' ' - '\\n ' 4,303 ' ' 4,862 ' ' 4,290 ' ' 3,515 ' ' - ' ' 3,804 ' ' 4,041 '\\n ' 3,883 ' ' 3,858 ' ' 3,593 ' ' 2,857 ' ' 2,867 ' ' 2,846 ' ' 2,811 '\\n ' 3,309 ' ' 2,646 ' ' 2,596 ' ' 2,672 ' ' 2,688 ' ' 2,750 ' ' 2,892 '\\n ' 2,860 ' ' 2,885 ' ' 3,085 ' ' 3,429 ' ' 2,641 ' ' 2,529 ' ' 2,625 '\\n ' 3,240 ' ' 3,378 ' ' 3,178 ' ' 2,680 ' ' 3,178 ' ' - ' ' 3,278 '\\n ' 3,135 ' ' 2,861 ' ' 3,119 ' ' 3,955 ' ' 3,943 ' ' 3,295 ' ' 3,172 '\\n ' 3,277 ' ' 4,051 ' ' 3,558 ' ' 8,356 ' ' - ' ' 8,410 ' ' - ' ' 7,727 '\\n ' 9,662 ' ' 10,181 ' ' 10,252 ' ' 7,044 ' ' - ' ' 4,316 ' ' 4,399 '\\n ' 4,280 ' ' 4,824 ' ' 5,317 ' ' 4,202 ' ' 4,152 ' ' 4,253 ' ' 4,028 '\\n ' 4,893 ' ' 4,420 ' ' 4,506 ' ' 4,415 ' ' 3,971 ' ' 4,379 ' ' 4,722 '\\n ' 4,509 ' ' 4,745 ' ' 4,257 ' ' 5,023 ' ' 4,271 ' ' 3,259 ' ' 3,997 '\\n ' - ' ' 4,668 ' ' 3,743 ' ' 3,890 ' ' 3,742 ' ' - ' ' - ' ' 4,303 '\\n ' 4,862 ' ' 4,290 ' ' 3,515 ' ' - ' ' 3,869 ' ' 4,041 ' ' 3,883 '\\n ' 3,858 ' ' 3,741 ' ' 2,971 ' ' 2,980 ' ' 2,874 ' ' 3,474 ' ' 3,511 '\\n ' 2,646 ' ' 2,596 ' ' 2,672 ' ' 2,688 ' ' 2,750 ' ' 2,918 ' ' 2,906 '\\n ' 2,907 ' ' 3,388 ' ' 3,429 ' ' 2,685 ' ' 2,674 ' ' 2,665 ' ' 3,240 '\\n ' 3,656 ' ' 2,996 ' ' 2,890 ' ' 2,979 ' ' - ' ' 3,277 ' ' 3,131 '\\n ' 2,929 ' ' 3,119 ' ' 3,845 ' ' 3,937 ' ' 3,324 ' ' 3,188 ' ' 3,307 '\\n ' 3,987 ' ' 3,599 ' ' 6,860 ' ' - ' ' 6,787 ' ' 5,924 ' ' 6,815 '] not found in axis\"",
     "output_type": "error",
     "traceback": [
      "\u001b[1;31m---------------------------------------------------------------------------\u001b[0m",
      "\u001b[1;31mKeyError\u001b[0m                                  Traceback (most recent call last)",
      "\u001b[1;32m~\\AppData\\Local\\Temp/ipykernel_7096/3717080771.py\u001b[0m in \u001b[0;36m<module>\u001b[1;34m\u001b[0m\n\u001b[1;32m----> 1\u001b[1;33m \u001b[0mtt\u001b[0m\u001b[1;33m[\u001b[0m\u001b[1;34m'분양가격(제곱미터)'\u001b[0m\u001b[1;33m]\u001b[0m\u001b[1;33m.\u001b[0m\u001b[0mdrop\u001b[0m\u001b[1;33m(\u001b[0m\u001b[0merrors\u001b[0m\u001b[1;33m)\u001b[0m              \u001b[1;31m#\u001b[0m\u001b[1;33m\u001b[0m\u001b[1;33m\u001b[0m\u001b[0m\n\u001b[0m",
      "\u001b[1;32m~\\Anaconda3\\lib\\site-packages\\pandas\\util\\_decorators.py\u001b[0m in \u001b[0;36mwrapper\u001b[1;34m(*args, **kwargs)\u001b[0m\n\u001b[0;32m    309\u001b[0m                     \u001b[0mstacklevel\u001b[0m\u001b[1;33m=\u001b[0m\u001b[0mstacklevel\u001b[0m\u001b[1;33m,\u001b[0m\u001b[1;33m\u001b[0m\u001b[1;33m\u001b[0m\u001b[0m\n\u001b[0;32m    310\u001b[0m                 )\n\u001b[1;32m--> 311\u001b[1;33m             \u001b[1;32mreturn\u001b[0m \u001b[0mfunc\u001b[0m\u001b[1;33m(\u001b[0m\u001b[1;33m*\u001b[0m\u001b[0margs\u001b[0m\u001b[1;33m,\u001b[0m \u001b[1;33m**\u001b[0m\u001b[0mkwargs\u001b[0m\u001b[1;33m)\u001b[0m\u001b[1;33m\u001b[0m\u001b[1;33m\u001b[0m\u001b[0m\n\u001b[0m\u001b[0;32m    312\u001b[0m \u001b[1;33m\u001b[0m\u001b[0m\n\u001b[0;32m    313\u001b[0m         \u001b[1;32mreturn\u001b[0m \u001b[0mwrapper\u001b[0m\u001b[1;33m\u001b[0m\u001b[1;33m\u001b[0m\u001b[0m\n",
      "\u001b[1;32m~\\Anaconda3\\lib\\site-packages\\pandas\\core\\series.py\u001b[0m in \u001b[0;36mdrop\u001b[1;34m(self, labels, axis, index, columns, level, inplace, errors)\u001b[0m\n\u001b[0;32m   4677\u001b[0m         \u001b[0mdtype\u001b[0m\u001b[1;33m:\u001b[0m \u001b[0mfloat64\u001b[0m\u001b[1;33m\u001b[0m\u001b[1;33m\u001b[0m\u001b[0m\n\u001b[0;32m   4678\u001b[0m         \"\"\"\n\u001b[1;32m-> 4679\u001b[1;33m         return super().drop(\n\u001b[0m\u001b[0;32m   4680\u001b[0m             \u001b[0mlabels\u001b[0m\u001b[1;33m=\u001b[0m\u001b[0mlabels\u001b[0m\u001b[1;33m,\u001b[0m\u001b[1;33m\u001b[0m\u001b[1;33m\u001b[0m\u001b[0m\n\u001b[0;32m   4681\u001b[0m             \u001b[0maxis\u001b[0m\u001b[1;33m=\u001b[0m\u001b[0maxis\u001b[0m\u001b[1;33m,\u001b[0m\u001b[1;33m\u001b[0m\u001b[1;33m\u001b[0m\u001b[0m\n",
      "\u001b[1;32m~\\Anaconda3\\lib\\site-packages\\pandas\\core\\generic.py\u001b[0m in \u001b[0;36mdrop\u001b[1;34m(self, labels, axis, index, columns, level, inplace, errors)\u001b[0m\n\u001b[0;32m   4148\u001b[0m         \u001b[1;32mfor\u001b[0m \u001b[0maxis\u001b[0m\u001b[1;33m,\u001b[0m \u001b[0mlabels\u001b[0m \u001b[1;32min\u001b[0m \u001b[0maxes\u001b[0m\u001b[1;33m.\u001b[0m\u001b[0mitems\u001b[0m\u001b[1;33m(\u001b[0m\u001b[1;33m)\u001b[0m\u001b[1;33m:\u001b[0m\u001b[1;33m\u001b[0m\u001b[1;33m\u001b[0m\u001b[0m\n\u001b[0;32m   4149\u001b[0m             \u001b[1;32mif\u001b[0m \u001b[0mlabels\u001b[0m \u001b[1;32mis\u001b[0m \u001b[1;32mnot\u001b[0m \u001b[1;32mNone\u001b[0m\u001b[1;33m:\u001b[0m\u001b[1;33m\u001b[0m\u001b[1;33m\u001b[0m\u001b[0m\n\u001b[1;32m-> 4150\u001b[1;33m                 \u001b[0mobj\u001b[0m \u001b[1;33m=\u001b[0m \u001b[0mobj\u001b[0m\u001b[1;33m.\u001b[0m\u001b[0m_drop_axis\u001b[0m\u001b[1;33m(\u001b[0m\u001b[0mlabels\u001b[0m\u001b[1;33m,\u001b[0m \u001b[0maxis\u001b[0m\u001b[1;33m,\u001b[0m \u001b[0mlevel\u001b[0m\u001b[1;33m=\u001b[0m\u001b[0mlevel\u001b[0m\u001b[1;33m,\u001b[0m \u001b[0merrors\u001b[0m\u001b[1;33m=\u001b[0m\u001b[0merrors\u001b[0m\u001b[1;33m)\u001b[0m\u001b[1;33m\u001b[0m\u001b[1;33m\u001b[0m\u001b[0m\n\u001b[0m\u001b[0;32m   4151\u001b[0m \u001b[1;33m\u001b[0m\u001b[0m\n\u001b[0;32m   4152\u001b[0m         \u001b[1;32mif\u001b[0m \u001b[0minplace\u001b[0m\u001b[1;33m:\u001b[0m\u001b[1;33m\u001b[0m\u001b[1;33m\u001b[0m\u001b[0m\n",
      "\u001b[1;32m~\\Anaconda3\\lib\\site-packages\\pandas\\core\\generic.py\u001b[0m in \u001b[0;36m_drop_axis\u001b[1;34m(self, labels, axis, level, errors)\u001b[0m\n\u001b[0;32m   4183\u001b[0m                 \u001b[0mnew_axis\u001b[0m \u001b[1;33m=\u001b[0m \u001b[0maxis\u001b[0m\u001b[1;33m.\u001b[0m\u001b[0mdrop\u001b[0m\u001b[1;33m(\u001b[0m\u001b[0mlabels\u001b[0m\u001b[1;33m,\u001b[0m \u001b[0mlevel\u001b[0m\u001b[1;33m=\u001b[0m\u001b[0mlevel\u001b[0m\u001b[1;33m,\u001b[0m \u001b[0merrors\u001b[0m\u001b[1;33m=\u001b[0m\u001b[0merrors\u001b[0m\u001b[1;33m)\u001b[0m\u001b[1;33m\u001b[0m\u001b[1;33m\u001b[0m\u001b[0m\n\u001b[0;32m   4184\u001b[0m             \u001b[1;32melse\u001b[0m\u001b[1;33m:\u001b[0m\u001b[1;33m\u001b[0m\u001b[1;33m\u001b[0m\u001b[0m\n\u001b[1;32m-> 4185\u001b[1;33m                 \u001b[0mnew_axis\u001b[0m \u001b[1;33m=\u001b[0m \u001b[0maxis\u001b[0m\u001b[1;33m.\u001b[0m\u001b[0mdrop\u001b[0m\u001b[1;33m(\u001b[0m\u001b[0mlabels\u001b[0m\u001b[1;33m,\u001b[0m \u001b[0merrors\u001b[0m\u001b[1;33m=\u001b[0m\u001b[0merrors\u001b[0m\u001b[1;33m)\u001b[0m\u001b[1;33m\u001b[0m\u001b[1;33m\u001b[0m\u001b[0m\n\u001b[0m\u001b[0;32m   4186\u001b[0m             \u001b[0mresult\u001b[0m \u001b[1;33m=\u001b[0m \u001b[0mself\u001b[0m\u001b[1;33m.\u001b[0m\u001b[0mreindex\u001b[0m\u001b[1;33m(\u001b[0m\u001b[1;33m**\u001b[0m\u001b[1;33m{\u001b[0m\u001b[0maxis_name\u001b[0m\u001b[1;33m:\u001b[0m \u001b[0mnew_axis\u001b[0m\u001b[1;33m}\u001b[0m\u001b[1;33m)\u001b[0m\u001b[1;33m\u001b[0m\u001b[1;33m\u001b[0m\u001b[0m\n\u001b[0;32m   4187\u001b[0m \u001b[1;33m\u001b[0m\u001b[0m\n",
      "\u001b[1;32m~\\Anaconda3\\lib\\site-packages\\pandas\\core\\indexes\\base.py\u001b[0m in \u001b[0;36mdrop\u001b[1;34m(self, labels, errors)\u001b[0m\n\u001b[0;32m   6015\u001b[0m         \u001b[1;32mif\u001b[0m \u001b[0mmask\u001b[0m\u001b[1;33m.\u001b[0m\u001b[0many\u001b[0m\u001b[1;33m(\u001b[0m\u001b[1;33m)\u001b[0m\u001b[1;33m:\u001b[0m\u001b[1;33m\u001b[0m\u001b[1;33m\u001b[0m\u001b[0m\n\u001b[0;32m   6016\u001b[0m             \u001b[1;32mif\u001b[0m \u001b[0merrors\u001b[0m \u001b[1;33m!=\u001b[0m \u001b[1;34m\"ignore\"\u001b[0m\u001b[1;33m:\u001b[0m\u001b[1;33m\u001b[0m\u001b[1;33m\u001b[0m\u001b[0m\n\u001b[1;32m-> 6017\u001b[1;33m                 \u001b[1;32mraise\u001b[0m \u001b[0mKeyError\u001b[0m\u001b[1;33m(\u001b[0m\u001b[1;34mf\"{labels[mask]} not found in axis\"\u001b[0m\u001b[1;33m)\u001b[0m\u001b[1;33m\u001b[0m\u001b[1;33m\u001b[0m\u001b[0m\n\u001b[0m\u001b[0;32m   6018\u001b[0m             \u001b[0mindexer\u001b[0m \u001b[1;33m=\u001b[0m \u001b[0mindexer\u001b[0m\u001b[1;33m[\u001b[0m\u001b[1;33m~\u001b[0m\u001b[0mmask\u001b[0m\u001b[1;33m]\u001b[0m\u001b[1;33m\u001b[0m\u001b[1;33m\u001b[0m\u001b[0m\n\u001b[0;32m   6019\u001b[0m         \u001b[1;32mreturn\u001b[0m \u001b[0mself\u001b[0m\u001b[1;33m.\u001b[0m\u001b[0mdelete\u001b[0m\u001b[1;33m(\u001b[0m\u001b[0mindexer\u001b[0m\u001b[1;33m)\u001b[0m\u001b[1;33m\u001b[0m\u001b[1;33m\u001b[0m\u001b[0m\n",
      "\u001b[1;31mKeyError\u001b[0m: \"['  ' '  ' '  ' '  ' '  ' '  ' '  ' '  ' '  ' '  ' '  ' '  ' '  ' '  '\\n '  ' '  ' ' 9,501 ' ' 9,724 ' ' 9,518 ' ' 7,044 ' ' - ' ' 4,315 '\\n ' 4,387 ' ' 4,283 ' ' 4,824 ' ' 5,312 ' ' 4,227 ' ' 4,125 ' ' 4,205 '\\n ' 4,283 ' ' 5,194 ' ' 4,358 ' ' 4,202 ' ' 4,327 ' ' 3,971 ' ' 4,518 '\\n ' 4,750 ' ' 4,644 ' ' 4,771 ' ' 4,257 ' ' 5,010 ' ' 4,338 ' ' 2,957 '\\n ' 4,027 ' ' - ' ' 4,668 ' ' 3,717 ' ' 3,862 ' ' 3,715 ' ' - ' ' - '\\n ' 4,303 ' ' 4,862 ' ' 4,290 ' ' 3,515 ' ' - ' ' 3,804 ' ' 4,041 '\\n ' 3,883 ' ' 3,858 ' ' 3,593 ' ' 2,857 ' ' 2,867 ' ' 2,846 ' ' 2,811 '\\n ' 3,309 ' ' 2,646 ' ' 2,596 ' ' 2,672 ' ' 2,688 ' ' 2,750 ' ' 2,892 '\\n ' 2,860 ' ' 2,885 ' ' 3,085 ' ' 3,429 ' ' 2,641 ' ' 2,529 ' ' 2,625 '\\n ' 3,240 ' ' 3,378 ' ' 3,178 ' ' 2,680 ' ' 3,178 ' ' - ' ' 3,278 '\\n ' 3,135 ' ' 2,861 ' ' 3,119 ' ' 3,955 ' ' 3,943 ' ' 3,295 ' ' 3,172 '\\n ' 3,277 ' ' 4,051 ' ' 3,558 ' ' 8,356 ' ' - ' ' 8,410 ' ' - ' ' 7,727 '\\n ' 9,662 ' ' 10,181 ' ' 10,252 ' ' 7,044 ' ' - ' ' 4,316 ' ' 4,399 '\\n ' 4,280 ' ' 4,824 ' ' 5,317 ' ' 4,202 ' ' 4,152 ' ' 4,253 ' ' 4,028 '\\n ' 4,893 ' ' 4,420 ' ' 4,506 ' ' 4,415 ' ' 3,971 ' ' 4,379 ' ' 4,722 '\\n ' 4,509 ' ' 4,745 ' ' 4,257 ' ' 5,023 ' ' 4,271 ' ' 3,259 ' ' 3,997 '\\n ' - ' ' 4,668 ' ' 3,743 ' ' 3,890 ' ' 3,742 ' ' - ' ' - ' ' 4,303 '\\n ' 4,862 ' ' 4,290 ' ' 3,515 ' ' - ' ' 3,869 ' ' 4,041 ' ' 3,883 '\\n ' 3,858 ' ' 3,741 ' ' 2,971 ' ' 2,980 ' ' 2,874 ' ' 3,474 ' ' 3,511 '\\n ' 2,646 ' ' 2,596 ' ' 2,672 ' ' 2,688 ' ' 2,750 ' ' 2,918 ' ' 2,906 '\\n ' 2,907 ' ' 3,388 ' ' 3,429 ' ' 2,685 ' ' 2,674 ' ' 2,665 ' ' 3,240 '\\n ' 3,656 ' ' 2,996 ' ' 2,890 ' ' 2,979 ' ' - ' ' 3,277 ' ' 3,131 '\\n ' 2,929 ' ' 3,119 ' ' 3,845 ' ' 3,937 ' ' 3,324 ' ' 3,188 ' ' 3,307 '\\n ' 3,987 ' ' 3,599 ' ' 6,860 ' ' - ' ' 6,787 ' ' 5,924 ' ' 6,815 '] not found in axis\""
     ]
    }
   ],
   "source": [
    "tt['분양가격(제곱미터)'].drop(errors)              #"
   ]
  },
  {
   "cell_type": "code",
   "execution_count": null,
   "id": "fa1ac981",
   "metadata": {},
   "outputs": [],
   "source": []
  },
  {
   "cell_type": "code",
   "execution_count": 42,
   "id": "e604aca7",
   "metadata": {},
   "outputs": [],
   "source": [
    "tt['분양가격(제곱미터)'] = tt['분양가격(제곱미터)'].apply(lambda x: str(x).strip().replace(',',' '))"
   ]
  },
  {
   "cell_type": "code",
   "execution_count": 41,
   "id": "22eaa816",
   "metadata": {},
   "outputs": [
    {
     "data": {
      "text/plain": [
       "['  ',\n",
       " '  ',\n",
       " '  ',\n",
       " '  ',\n",
       " '  ',\n",
       " '  ',\n",
       " '  ',\n",
       " '  ',\n",
       " '  ',\n",
       " '  ',\n",
       " '  ',\n",
       " '  ',\n",
       " '  ',\n",
       " '  ',\n",
       " '  ',\n",
       " '  ',\n",
       " ' 9,501 ',\n",
       " ' 9,724 ',\n",
       " ' 9,518 ',\n",
       " ' 7,044 ',\n",
       " ' - ',\n",
       " ' 4,315 ',\n",
       " ' 4,387 ',\n",
       " ' 4,283 ',\n",
       " ' 4,824 ',\n",
       " ' 5,312 ',\n",
       " ' 4,227 ',\n",
       " ' 4,125 ',\n",
       " ' 4,205 ',\n",
       " ' 4,283 ',\n",
       " ' 5,194 ',\n",
       " ' 4,358 ',\n",
       " ' 4,202 ',\n",
       " ' 4,327 ',\n",
       " ' 3,971 ',\n",
       " ' 4,518 ',\n",
       " ' 4,750 ',\n",
       " ' 4,644 ',\n",
       " ' 4,771 ',\n",
       " ' 4,257 ',\n",
       " ' 5,010 ',\n",
       " ' 4,338 ',\n",
       " ' 2,957 ',\n",
       " ' 4,027 ',\n",
       " ' - ',\n",
       " ' 4,668 ',\n",
       " ' 3,717 ',\n",
       " ' 3,862 ',\n",
       " ' 3,715 ',\n",
       " ' - ',\n",
       " ' - ',\n",
       " ' 4,303 ',\n",
       " ' 4,862 ',\n",
       " ' 4,290 ',\n",
       " ' 3,515 ',\n",
       " ' - ',\n",
       " ' 3,804 ',\n",
       " ' 4,041 ',\n",
       " ' 3,883 ',\n",
       " ' 3,858 ',\n",
       " ' 3,593 ',\n",
       " ' 2,857 ',\n",
       " ' 2,867 ',\n",
       " ' 2,846 ',\n",
       " ' 2,811 ',\n",
       " ' 3,309 ',\n",
       " ' 2,646 ',\n",
       " ' 2,596 ',\n",
       " ' 2,672 ',\n",
       " ' 2,688 ',\n",
       " ' 2,750 ',\n",
       " ' 2,892 ',\n",
       " ' 2,860 ',\n",
       " ' 2,885 ',\n",
       " ' 3,085 ',\n",
       " ' 3,429 ',\n",
       " ' 2,641 ',\n",
       " ' 2,529 ',\n",
       " ' 2,625 ',\n",
       " ' 3,240 ',\n",
       " ' 3,378 ',\n",
       " ' 3,178 ',\n",
       " ' 2,680 ',\n",
       " ' 3,178 ',\n",
       " ' - ',\n",
       " ' 3,278 ',\n",
       " ' 3,135 ',\n",
       " ' 2,861 ',\n",
       " ' 3,119 ',\n",
       " ' 3,955 ',\n",
       " ' 3,943 ',\n",
       " ' 3,295 ',\n",
       " ' 3,172 ',\n",
       " ' 3,277 ',\n",
       " ' 4,051 ',\n",
       " ' 3,558 ',\n",
       " ' 8,356 ',\n",
       " ' - ',\n",
       " ' 8,410 ',\n",
       " ' - ',\n",
       " ' 7,727 ',\n",
       " ' 9,662 ',\n",
       " ' 10,181 ',\n",
       " ' 10,252 ',\n",
       " ' 7,044 ',\n",
       " ' - ',\n",
       " ' 4,316 ',\n",
       " ' 4,399 ',\n",
       " ' 4,280 ',\n",
       " ' 4,824 ',\n",
       " ' 5,317 ',\n",
       " ' 4,202 ',\n",
       " ' 4,152 ',\n",
       " ' 4,253 ',\n",
       " ' 4,028 ',\n",
       " ' 4,893 ',\n",
       " ' 4,420 ',\n",
       " ' 4,506 ',\n",
       " ' 4,415 ',\n",
       " ' 3,971 ',\n",
       " ' 4,379 ',\n",
       " ' 4,722 ',\n",
       " ' 4,509 ',\n",
       " ' 4,745 ',\n",
       " ' 4,257 ',\n",
       " ' 5,023 ',\n",
       " ' 4,271 ',\n",
       " ' 3,259 ',\n",
       " ' 3,997 ',\n",
       " ' - ',\n",
       " ' 4,668 ',\n",
       " ' 3,743 ',\n",
       " ' 3,890 ',\n",
       " ' 3,742 ',\n",
       " ' - ',\n",
       " ' - ',\n",
       " ' 4,303 ',\n",
       " ' 4,862 ',\n",
       " ' 4,290 ',\n",
       " ' 3,515 ',\n",
       " ' - ',\n",
       " ' 3,869 ',\n",
       " ' 4,041 ',\n",
       " ' 3,883 ',\n",
       " ' 3,858 ',\n",
       " ' 3,741 ',\n",
       " ' 2,971 ',\n",
       " ' 2,980 ',\n",
       " ' 2,874 ',\n",
       " ' 3,474 ',\n",
       " ' 3,511 ',\n",
       " ' 2,646 ',\n",
       " ' 2,596 ',\n",
       " ' 2,672 ',\n",
       " ' 2,688 ',\n",
       " ' 2,750 ',\n",
       " ' 2,918 ',\n",
       " ' 2,906 ',\n",
       " ' 2,907 ',\n",
       " ' 3,388 ',\n",
       " ' 3,429 ',\n",
       " ' 2,685 ',\n",
       " ' 2,674 ',\n",
       " ' 2,665 ',\n",
       " ' 3,240 ',\n",
       " ' 3,656 ',\n",
       " ' 2,996 ',\n",
       " ' 2,890 ',\n",
       " ' 2,979 ',\n",
       " ' - ',\n",
       " ' 3,277 ',\n",
       " ' 3,131 ',\n",
       " ' 2,929 ',\n",
       " ' 3,119 ',\n",
       " ' 3,845 ',\n",
       " ' 3,937 ',\n",
       " ' 3,324 ',\n",
       " ' 3,188 ',\n",
       " ' 3,307 ',\n",
       " ' 3,987 ',\n",
       " ' 3,599 ',\n",
       " ' 6,860 ',\n",
       " ' - ',\n",
       " ' 6,787 ',\n",
       " ' 5,924 ',\n",
       " ' 6,815 ']"
      ]
     },
     "execution_count": 41,
     "metadata": {},
     "output_type": "execute_result"
    }
   ],
   "source": [
    "errors"
   ]
  },
  {
   "cell_type": "code",
   "execution_count": 33,
   "id": "e6c04c12",
   "metadata": {
    "collapsed": true
   },
   "outputs": [
    {
     "data": {
      "text/plain": [
       "array(['  ', ' 9,501 ', ' 9,724 ', ' 9,518 ', ' 7,044 ', ' - ', ' 4,315 ',\n",
       "       ' 4,387 ', ' 4,283 ', ' 4,824 ', ' 5,312 ', ' 4,227 ', ' 4,125 ',\n",
       "       ' 4,205 ', ' 5,194 ', ' 4,358 ', ' 4,202 ', ' 4,327 ', ' 3,971 ',\n",
       "       ' 4,518 ', ' 4,750 ', ' 4,644 ', ' 4,771 ', ' 4,257 ', ' 5,010 ',\n",
       "       ' 4,338 ', ' 2,957 ', ' 4,027 ', ' 4,668 ', ' 3,717 ', ' 3,862 ',\n",
       "       ' 3,715 ', ' 4,303 ', ' 4,862 ', ' 4,290 ', ' 3,515 ', ' 3,804 ',\n",
       "       ' 4,041 ', ' 3,883 ', ' 3,858 ', ' 3,593 ', ' 2,857 ', ' 2,867 ',\n",
       "       ' 2,846 ', ' 2,811 ', ' 3,309 ', ' 2,646 ', ' 2,596 ', ' 2,672 ',\n",
       "       ' 2,688 ', ' 2,750 ', ' 2,892 ', ' 2,860 ', ' 2,885 ', ' 3,085 ',\n",
       "       ' 3,429 ', ' 2,641 ', ' 2,529 ', ' 2,625 ', ' 3,240 ', ' 3,378 ',\n",
       "       ' 3,178 ', ' 2,680 ', ' 3,278 ', ' 3,135 ', ' 2,861 ', ' 3,119 ',\n",
       "       ' 3,955 ', ' 3,943 ', ' 3,295 ', ' 3,172 ', ' 3,277 ', ' 4,051 ',\n",
       "       ' 3,558 ', ' 8,356 ', ' 8,410 ', ' 7,727 ', ' 9,662 ', ' 10,181 ',\n",
       "       ' 10,252 ', ' 4,316 ', ' 4,399 ', ' 4,280 ', ' 5,317 ', ' 4,152 ',\n",
       "       ' 4,253 ', ' 4,028 ', ' 4,893 ', ' 4,420 ', ' 4,506 ', ' 4,415 ',\n",
       "       ' 4,379 ', ' 4,722 ', ' 4,509 ', ' 4,745 ', ' 5,023 ', ' 4,271 ',\n",
       "       ' 3,259 ', ' 3,997 ', ' 3,743 ', ' 3,890 ', ' 3,742 ', ' 3,869 ',\n",
       "       ' 3,741 ', ' 2,971 ', ' 2,980 ', ' 2,874 ', ' 3,474 ', ' 3,511 ',\n",
       "       ' 2,918 ', ' 2,906 ', ' 2,907 ', ' 3,388 ', ' 2,685 ', ' 2,674 ',\n",
       "       ' 2,665 ', ' 3,656 ', ' 2,996 ', ' 2,890 ', ' 2,979 ', ' 3,131 ',\n",
       "       ' 2,929 ', ' 3,845 ', ' 3,937 ', ' 3,324 ', ' 3,188 ', ' 3,307 ',\n",
       "       ' 3,987 ', ' 3,599 ', ' 6,860 ', ' 6,787 ', ' 5,924 ', ' 6,815 '],\n",
       "      dtype=object)"
      ]
     },
     "execution_count": 33,
     "metadata": {},
     "output_type": "execute_result"
    }
   ],
   "source": [
    "pd.Series(errors).unique()"
   ]
  },
  {
   "cell_type": "code",
   "execution_count": 34,
   "id": "f2a1b5da",
   "metadata": {
    "collapsed": true
   },
   "outputs": [
    {
     "data": {
      "text/html": [
       "<div>\n",
       "<style scoped>\n",
       "    .dataframe tbody tr th:only-of-type {\n",
       "        vertical-align: middle;\n",
       "    }\n",
       "\n",
       "    .dataframe tbody tr th {\n",
       "        vertical-align: top;\n",
       "    }\n",
       "\n",
       "    .dataframe thead th {\n",
       "        text-align: right;\n",
       "    }\n",
       "</style>\n",
       "<table border=\"1\" class=\"dataframe\">\n",
       "  <thead>\n",
       "    <tr style=\"text-align: right;\">\n",
       "      <th></th>\n",
       "      <th>지역명</th>\n",
       "      <th>규모구분</th>\n",
       "      <th>연도</th>\n",
       "      <th>월</th>\n",
       "      <th>분양가격(제곱미터)</th>\n",
       "    </tr>\n",
       "  </thead>\n",
       "  <tbody>\n",
       "    <tr>\n",
       "      <th>0</th>\n",
       "      <td>서울</td>\n",
       "      <td>모든면적</td>\n",
       "      <td>2015</td>\n",
       "      <td>10</td>\n",
       "      <td>5841</td>\n",
       "    </tr>\n",
       "    <tr>\n",
       "      <th>1</th>\n",
       "      <td>서울</td>\n",
       "      <td>전용면적 60제곱미터이하</td>\n",
       "      <td>2015</td>\n",
       "      <td>10</td>\n",
       "      <td>5652</td>\n",
       "    </tr>\n",
       "    <tr>\n",
       "      <th>2</th>\n",
       "      <td>서울</td>\n",
       "      <td>전용면적 60제곱미터초과 85제곱미터이하</td>\n",
       "      <td>2015</td>\n",
       "      <td>10</td>\n",
       "      <td>5882</td>\n",
       "    </tr>\n",
       "    <tr>\n",
       "      <th>3</th>\n",
       "      <td>서울</td>\n",
       "      <td>전용면적 85제곱미터초과 102제곱미터이하</td>\n",
       "      <td>2015</td>\n",
       "      <td>10</td>\n",
       "      <td>5721</td>\n",
       "    </tr>\n",
       "    <tr>\n",
       "      <th>4</th>\n",
       "      <td>서울</td>\n",
       "      <td>전용면적 102제곱미터초과</td>\n",
       "      <td>2015</td>\n",
       "      <td>10</td>\n",
       "      <td>5879</td>\n",
       "    </tr>\n",
       "    <tr>\n",
       "      <th>...</th>\n",
       "      <td>...</td>\n",
       "      <td>...</td>\n",
       "      <td>...</td>\n",
       "      <td>...</td>\n",
       "      <td>...</td>\n",
       "    </tr>\n",
       "    <tr>\n",
       "      <th>6028</th>\n",
       "      <td>경남</td>\n",
       "      <td>전용면적 85제곱미터초과 102제곱미터이하</td>\n",
       "      <td>2021</td>\n",
       "      <td>8</td>\n",
       "      <td>4087</td>\n",
       "    </tr>\n",
       "    <tr>\n",
       "      <th>6029</th>\n",
       "      <td>경남</td>\n",
       "      <td>전용면적 102제곱미터초과</td>\n",
       "      <td>2021</td>\n",
       "      <td>8</td>\n",
       "      <td>3526</td>\n",
       "    </tr>\n",
       "    <tr>\n",
       "      <th>6030</th>\n",
       "      <td>제주</td>\n",
       "      <td>모든면적</td>\n",
       "      <td>2021</td>\n",
       "      <td>8</td>\n",
       "      <td>8356</td>\n",
       "    </tr>\n",
       "    <tr>\n",
       "      <th>6032</th>\n",
       "      <td>제주</td>\n",
       "      <td>전용면적 60제곱미터초과 85제곱미터이하</td>\n",
       "      <td>2021</td>\n",
       "      <td>8</td>\n",
       "      <td>8410</td>\n",
       "    </tr>\n",
       "    <tr>\n",
       "      <th>6034</th>\n",
       "      <td>제주</td>\n",
       "      <td>전용면적 102제곱미터초과</td>\n",
       "      <td>2021</td>\n",
       "      <td>8</td>\n",
       "      <td>7727</td>\n",
       "    </tr>\n",
       "  </tbody>\n",
       "</table>\n",
       "<p>5548 rows × 5 columns</p>\n",
       "</div>"
      ],
      "text/plain": [
       "     지역명                     규모구분    연도   월 분양가격(제곱미터)\n",
       "0     서울                     모든면적  2015  10       5841\n",
       "1     서울            전용면적 60제곱미터이하  2015  10       5652\n",
       "2     서울   전용면적 60제곱미터초과 85제곱미터이하  2015  10       5882\n",
       "3     서울  전용면적 85제곱미터초과 102제곱미터이하  2015  10       5721\n",
       "4     서울           전용면적 102제곱미터초과  2015  10       5879\n",
       "...   ..                      ...   ...  ..        ...\n",
       "6028  경남  전용면적 85제곱미터초과 102제곱미터이하  2021   8       4087\n",
       "6029  경남           전용면적 102제곱미터초과  2021   8       3526\n",
       "6030  제주                     모든면적  2021   8       8356\n",
       "6032  제주   전용면적 60제곱미터초과 85제곱미터이하  2021   8       8410\n",
       "6034  제주           전용면적 102제곱미터초과  2021   8       7727\n",
       "\n",
       "[5548 rows x 5 columns]"
      ]
     },
     "execution_count": 34,
     "metadata": {},
     "output_type": "execute_result"
    }
   ],
   "source": [
    "tt.iloc[idexes]"
   ]
  },
  {
   "cell_type": "code",
   "execution_count": 60,
   "id": "ccf33c13",
   "metadata": {},
   "outputs": [],
   "source": [
    "tt_clean = tt.iloc[idexes]"
   ]
  },
  {
   "cell_type": "code",
   "execution_count": 62,
   "id": "d35a2172",
   "metadata": {},
   "outputs": [
    {
     "data": {
      "text/plain": [
       "Series([], Name: 분양가격(제곱미터), dtype: float64)"
      ]
     },
     "execution_count": 62,
     "metadata": {},
     "output_type": "execute_result"
    }
   ],
   "source": [
    "tt_clean = tt_clean.dropna()\n",
    "tt_clean['분양가격(제곱미터)'].astype('float')"
   ]
  },
  {
   "cell_type": "code",
   "execution_count": null,
   "id": "e041f176",
   "metadata": {},
   "outputs": [],
   "source": [
    "tt_clean['평당분양가'] = tt['분양가격(제곱미터)'] * 3.3   "
   ]
  },
  {
   "cell_type": "code",
   "execution_count": 82,
   "id": "3d86a32d",
   "metadata": {
    "collapsed": true
   },
   "outputs": [
    {
     "data": {
      "text/html": [
       "<div>\n",
       "<style scoped>\n",
       "    .dataframe tbody tr th:only-of-type {\n",
       "        vertical-align: middle;\n",
       "    }\n",
       "\n",
       "    .dataframe tbody tr th {\n",
       "        vertical-align: top;\n",
       "    }\n",
       "\n",
       "    .dataframe thead th {\n",
       "        text-align: right;\n",
       "    }\n",
       "</style>\n",
       "<table border=\"1\" class=\"dataframe\">\n",
       "  <thead>\n",
       "    <tr style=\"text-align: right;\">\n",
       "      <th></th>\n",
       "      <th>지역명</th>\n",
       "      <th>규모구분</th>\n",
       "      <th>연도</th>\n",
       "      <th>월</th>\n",
       "      <th>분양가격(제곱미터)</th>\n",
       "    </tr>\n",
       "  </thead>\n",
       "  <tbody>\n",
       "  </tbody>\n",
       "</table>\n",
       "</div>"
      ],
      "text/plain": [
       "Empty DataFrame\n",
       "Columns: [지역명, 규모구분, 연도, 월, 분양가격(제곱미터)]\n",
       "Index: []"
      ]
     },
     "execution_count": 82,
     "metadata": {},
     "output_type": "execute_result"
    }
   ],
   "source": [
    "tt_clean"
   ]
  },
  {
   "cell_type": "code",
   "execution_count": 83,
   "id": "ed4a5efe",
   "metadata": {
    "collapsed": true
   },
   "outputs": [
    {
     "data": {
      "text/plain": [
       "array([], dtype=object)"
      ]
     },
     "execution_count": 83,
     "metadata": {},
     "output_type": "execute_result"
    }
   ],
   "source": [
    "tt_clean['규모구분'].unique()"
   ]
  },
  {
   "cell_type": "code",
   "execution_count": null,
   "id": "9a7b50bf",
   "metadata": {},
   "outputs": [],
   "source": [
    "tt_clean.info()"
   ]
  },
  {
   "cell_type": "code",
   "execution_count": null,
   "id": "e6956d3f",
   "metadata": {},
   "outputs": [],
   "source": [
    "tt_clean['규모구분'] = tt.clean['규모구분'].str.replace('전용면적','')\n",
    "tt_clean['규모구분'] = tt.clean['규모구분'].str.replace('제곱미터','')\n",
    "tt_clean['규모구분'] = tt.clean['규모구분'].str.replace('이하','')\n",
    "tt_clean['규모구분'] = tt.clean['규모구분'].str.replace('초과','')     # apply로 접근을 했어야함 str로 대체\n",
    "tt_clean['규모구분']"
   ]
  },
  {
   "cell_type": "code",
   "execution_count": null,
   "id": "ba487112",
   "metadata": {},
   "outputs": [],
   "source": [
    "tt_clean.drop('분양가격(제곱미터)', axis=1, inplace=True)   # 분양가격 날리기\n",
    "tt_clean"
   ]
  },
  {
   "cell_type": "code",
   "execution_count": null,
   "id": "40fb5931",
   "metadata": {},
   "outputs": [],
   "source": [
    "tt_clean.head()"
   ]
  },
  {
   "cell_type": "code",
   "execution_count": null,
   "id": "d0acd25c",
   "metadata": {},
   "outputs": [],
   "source": []
  },
  {
   "cell_type": "code",
   "execution_count": null,
   "id": "8f1b8ce1",
   "metadata": {},
   "outputs": [],
   "source": [
    "# 지역별 평당 분양가격"
   ]
  },
  {
   "cell_type": "code",
   "execution_count": null,
   "id": "a60c6f55",
   "metadata": {},
   "outputs": [],
   "source": [
    "ttc = tt_clean.copy()             # 이름 바꾸기"
   ]
  },
  {
   "cell_type": "code",
   "execution_count": null,
   "id": "0c42d72f",
   "metadata": {},
   "outputs": [],
   "source": [
    "tt.groupby('지역명')['평당분양가'].mean().plot(kind = 'bar')"
   ]
  },
  {
   "cell_type": "code",
   "execution_count": null,
   "id": "cdea99ff",
   "metadata": {},
   "outputs": [],
   "source": [
    "ttc.연도"
   ]
  },
  {
   "cell_type": "code",
   "execution_count": null,
   "id": "4212b8bb",
   "metadata": {},
   "outputs": [],
   "source": [
    "# 2021년도의 지역별 분양가 평균\n",
    "ttc[ttc.연도 == 2021].groupby('지역명')['평당분양가'].mean().plot(kind = 'bar')"
   ]
  },
  {
   "cell_type": "code",
   "execution_count": null,
   "id": "1d25e626",
   "metadata": {},
   "outputs": [],
   "source": [
    "# 2015 ~ 2021년 사이 지역별 분양가 변화를 line으로 그리기\n",
    "ttc[ttc['지역명'] == '서울'].groupby('연도')['평당분양가'].mean().plot()"
   ]
  },
  {
   "cell_type": "code",
   "execution_count": null,
   "id": "b5a3caa4",
   "metadata": {},
   "outputs": [],
   "source": [
    "ttc.groupby(['연도','지역별'])['평당분양가'].mean().unstack().plot()"
   ]
  },
  {
   "cell_type": "code",
   "execution_count": null,
   "id": "3f8257c1",
   "metadata": {},
   "outputs": [],
   "source": [
    "sns.lmplot(x='연도', y='평당분양가',data =ttc, hue='지역명')"
   ]
  },
  {
   "cell_type": "code",
   "execution_count": null,
   "id": "b7c95d9c",
   "metadata": {},
   "outputs": [],
   "source": []
  },
  {
   "cell_type": "code",
   "execution_count": 32,
   "id": "ab8bebe3",
   "metadata": {
    "collapsed": true
   },
   "outputs": [
    {
     "ename": "NameError",
     "evalue": "name 'ttc' is not defined",
     "output_type": "error",
     "traceback": [
      "\u001b[1;31m---------------------------------------------------------------------------\u001b[0m",
      "\u001b[1;31mNameError\u001b[0m                                 Traceback (most recent call last)",
      "\u001b[1;32m~\\AppData\\Local\\Temp/ipykernel_7096/963094357.py\u001b[0m in \u001b[0;36m<module>\u001b[1;34m\u001b[0m\n\u001b[0;32m      1\u001b[0m \u001b[1;31m#각 년도에 월별 분양가 box chart로 그리시오\u001b[0m\u001b[1;33m\u001b[0m\u001b[1;33m\u001b[0m\u001b[0m\n\u001b[1;32m----> 2\u001b[1;33m \u001b[0mttc\u001b[0m\u001b[1;33m[\u001b[0m\u001b[0mttc\u001b[0m\u001b[1;33m.\u001b[0m\u001b[0m연도\u001b[0m \u001b[1;33m==\u001b[0m \u001b[1;36m2021\u001b[0m\u001b[1;33m]\u001b[0m\u001b[1;33m.\u001b[0m\u001b[0mgroupby\u001b[0m\u001b[1;33m(\u001b[0m\u001b[1;34m'월'\u001b[0m\u001b[1;33m)\u001b[0m\u001b[1;33m[\u001b[0m\u001b[1;34m'평당분양가'\u001b[0m\u001b[1;33m]\u001b[0m\u001b[1;33m.\u001b[0m\u001b[0mmean\u001b[0m\u001b[1;33m(\u001b[0m\u001b[1;33m)\u001b[0m\u001b[1;33m.\u001b[0m\u001b[0mplot\u001b[0m\u001b[1;33m(\u001b[0m\u001b[0mkind\u001b[0m\u001b[1;33m=\u001b[0m\u001b[1;34m'box'\u001b[0m\u001b[1;33m)\u001b[0m\u001b[1;33m\u001b[0m\u001b[1;33m\u001b[0m\u001b[0m\n\u001b[0m",
      "\u001b[1;31mNameError\u001b[0m: name 'ttc' is not defined"
     ]
    }
   ],
   "source": [
    "#각 년도에 월별 분양가 box chart로 그리시오\n",
    "ttc[ttc.연도 == 2021].groupby('월')['평당분양가'].mean().plot(kind='box')"
   ]
  },
  {
   "cell_type": "code",
   "execution_count": null,
   "id": "0ad500a6",
   "metadata": {},
   "outputs": [],
   "source": [
    "ttc.groupby(['연도','월'])['평당분양가'].mean().unstack().plot(kind='box')"
   ]
  },
  {
   "cell_type": "code",
   "execution_count": null,
   "id": "9f974873",
   "metadata": {},
   "outputs": [],
   "source": [
    "ttc.groupby(['연도','월'])['평당분양가'].mean().unstack().T.plot(kind='box')"
   ]
  },
  {
   "cell_type": "code",
   "execution_count": null,
   "id": "be091de3",
   "metadata": {},
   "outputs": [],
   "source": []
  },
  {
   "cell_type": "code",
   "execution_count": null,
   "id": "bd3a86c7",
   "metadata": {},
   "outputs": [],
   "source": []
  },
  {
   "cell_type": "code",
   "execution_count": null,
   "id": "e8bfac74",
   "metadata": {},
   "outputs": [],
   "source": []
  },
  {
   "cell_type": "code",
   "execution_count": null,
   "id": "e5dc7b44",
   "metadata": {},
   "outputs": [],
   "source": []
  },
  {
   "cell_type": "code",
   "execution_count": null,
   "id": "2b970699",
   "metadata": {},
   "outputs": [],
   "source": []
  },
  {
   "cell_type": "code",
   "execution_count": null,
   "id": "26467835",
   "metadata": {},
   "outputs": [],
   "source": []
  }
 ],
 "metadata": {
  "kernelspec": {
   "display_name": "Python 3 (ipykernel)",
   "language": "python",
   "name": "python3"
  },
  "language_info": {
   "codemirror_mode": {
    "name": "ipython",
    "version": 3
   },
   "file_extension": ".py",
   "mimetype": "text/x-python",
   "name": "python",
   "nbconvert_exporter": "python",
   "pygments_lexer": "ipython3",
   "version": "3.9.7"
  },
  "varInspector": {
   "cols": {
    "lenName": 16,
    "lenType": 16,
    "lenVar": 40
   },
   "kernels_config": {
    "python": {
     "delete_cmd_postfix": "",
     "delete_cmd_prefix": "del ",
     "library": "var_list.py",
     "varRefreshCmd": "print(var_dic_list())"
    },
    "r": {
     "delete_cmd_postfix": ") ",
     "delete_cmd_prefix": "rm(",
     "library": "var_list.r",
     "varRefreshCmd": "cat(var_dic_list()) "
    }
   },
   "types_to_exclude": [
    "module",
    "function",
    "builtin_function_or_method",
    "instance",
    "_Feature"
   ],
   "window_display": false
  }
 },
 "nbformat": 4,
 "nbformat_minor": 5
}
