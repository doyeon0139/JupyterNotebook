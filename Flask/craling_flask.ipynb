{
 "cells": [
  {
   "cell_type": "code",
   "execution_count": 1,
   "id": "91ad4af4",
   "metadata": {},
   "outputs": [
    {
     "name": "stdout",
     "output_type": "stream",
     "text": [
      " * Serving Flask app \"__main__\" (lazy loading)\n",
      " * Environment: production\n",
      "\u001b[31m   WARNING: This is a development server. Do not use it in a production deployment.\u001b[0m\n",
      "\u001b[2m   Use a production WSGI server instead.\u001b[0m\n",
      " * Debug mode: off\n"
     ]
    },
    {
     "name": "stderr",
     "output_type": "stream",
     "text": [
      " * Running on all addresses.\n",
      "   WARNING: This is a development server. Do not use it in a production deployment.\n",
      " * Running on http://192.168.0.11:8080/ (Press CTRL+C to quit)\n",
      "192.168.0.11 - - [19/May/2022 15:43:22] \"GET / HTTP/1.1\" 404 -\n"
     ]
    },
    {
     "name": "stdout",
     "output_type": "stream",
     "text": [
      "\n",
      "                                    충북자치경찰위 출범 1년..최대 걸림돌 '경직된 공직사회'\n",
      "                                \n",
      "\n",
      "                                    북, ICBM 발사 준비 마쳤다..연료 주입 정황\n",
      "                                \n",
      "\n",
      "                                    '간편결제 페이수수료' 공시 득될까 실될까\n",
      "                                \n",
      "\n",
      "                                    \"서러워\"..법정토론회 못나가는 군소지역 무소속 후보들\n",
      "                                \n",
      "\n",
      "                                    밀 가격 고공행진에 일본서도 '밀가루 대신 쌀가루' 뜬다\n",
      "                                \n",
      "\n",
      "                                    김성한 안보실장, 日안보수장과 첫 화상협의..北도발 동향 논의\n",
      "                                \n",
      "\n",
      "                                    라피아노 삼송 입주예정자들 \"부실설계로 침수 피해 우려\"\n",
      "                                \n",
      "\n",
      "                                    2심 안거치고 1심→대법 상고..\"항소 효력 인정\" 판례 바뀌었다 [그법알]\n",
      "                                \n",
      "\n",
      "                                    野 \"5년 총리대행?\" 추경호 \"저도 일많다..그런일 안생겼으면\"\n",
      "                                \n",
      "\n",
      "                                    목요일 확진 105일만 2만명대..방역당국 \"선거, 유행에 영향 크지 않아\"\n",
      "                                \n",
      "\n",
      "                                    유엔 특별보고관 \"제재에 따른 이란 인도주의 위기 심각\"\n",
      "                                \n",
      "\n",
      "                                    \"한쪽 날개로만 나는 새 없어\" 박지현, 대구서 지원 유세\n",
      "                                \n",
      "\n",
      "                                    '식품 가격 폭등' 시위 개도국서 맹렬히 확산..정치 변화 이끄나\n",
      "                                \n",
      "\n",
      "                                    손님맞이 분주한 삼성전자..내일 평택공장 임원 총출동[한미정상회담 D-2]\n",
      "                                \n",
      "\n",
      "                                    정부, 화이자 백신 204만여회분 추가도입..오늘 인천공항 도착\n",
      "                                \n",
      "\n",
      "                                    13일동안의 혈투가 시작됐다\n",
      "                                \n",
      "\n",
      "                                    남산 하얏트호텔, 바이든 대통령 경호원들 '떴다'[르포]\n",
      "                                \n",
      "\n",
      "                                    '농촌봉사활동 부활'..전남대 청년봉사회 비지땀\n",
      "                                \n",
      "\n",
      "                                    '친윤'이냐 '비윤'이냐..검찰총장 후보 3파전\n",
      "                                \n",
      "\n",
      "                                    방심위 \"중점모니터링 결과 동물학대 정보 적발 급증\"\n",
      "                                \n"
     ]
    },
    {
     "name": "stderr",
     "output_type": "stream",
     "text": [
      "192.168.0.11 - - [19/May/2022 15:43:35] \"GET /daum_news HTTP/1.1\" 200 -\n",
      "192.168.0.11 - - [19/May/2022 16:02:32] \"GET / HTTP/1.1\" 404 -\n",
      "192.168.0.11 - - [19/May/2022 16:03:05] \"GET / HTTP/1.1\" 404 -\n",
      "192.168.0.11 - - [19/May/2022 16:03:12] \"GET / HTTP/1.1\" 404 -\n",
      "192.168.0.11 - - [19/May/2022 16:03:14] \"GET / HTTP/1.1\" 404 -\n",
      "192.168.0.11 - - [19/May/2022 16:04:20] \"GET / HTTP/1.1\" 404 -\n",
      "192.168.0.11 - - [19/May/2022 16:04:30] \"GET / HTTP/1.1\" 404 -\n",
      "192.168.0.11 - - [19/May/2022 16:05:54] \"GET / HTTP/1.1\" 404 -\n",
      "192.168.0.11 - - [19/May/2022 16:05:55] \"GET / HTTP/1.1\" 404 -\n",
      "192.168.0.11 - - [19/May/2022 16:05:55] \"GET / HTTP/1.1\" 404 -\n",
      "192.168.0.11 - - [19/May/2022 16:05:55] \"GET / HTTP/1.1\" 404 -\n",
      "192.168.0.11 - - [19/May/2022 16:05:55] \"GET / HTTP/1.1\" 404 -\n",
      "192.168.0.11 - - [19/May/2022 16:05:56] \"GET / HTTP/1.1\" 404 -\n",
      "192.168.0.11 - - [19/May/2022 16:05:56] \"GET / HTTP/1.1\" 404 -\n",
      "192.168.0.11 - - [19/May/2022 16:05:56] \"GET / HTTP/1.1\" 404 -\n",
      "192.168.0.11 - - [19/May/2022 16:05:56] \"GET / HTTP/1.1\" 404 -\n",
      "192.168.0.11 - - [19/May/2022 16:05:56] \"GET / HTTP/1.1\" 404 -\n",
      "192.168.0.11 - - [19/May/2022 16:05:56] \"GET / HTTP/1.1\" 404 -\n",
      "192.168.0.11 - - [19/May/2022 16:05:56] \"GET / HTTP/1.1\" 404 -\n",
      "192.168.0.11 - - [19/May/2022 16:05:56] \"GET / HTTP/1.1\" 404 -\n",
      "192.168.0.11 - - [19/May/2022 16:05:57] \"GET / HTTP/1.1\" 404 -\n",
      "192.168.0.11 - - [19/May/2022 16:05:57] \"GET / HTTP/1.1\" 404 -\n",
      "192.168.0.11 - - [19/May/2022 16:05:57] \"GET / HTTP/1.1\" 404 -\n",
      "192.168.0.11 - - [19/May/2022 16:05:57] \"GET / HTTP/1.1\" 404 -\n"
     ]
    }
   ],
   "source": [
    "from flask import Flask, render_template\n",
    "\n",
    "app = Flask(__name__)\n",
    "\n",
    "import requests\n",
    "from bs4 import BeautifulSoup\n",
    "\n",
    "from selenium import webdriver\n",
    "import time\n",
    "\n",
    "@app.route('/daum_news')\n",
    "def daum_news():\n",
    "    url = 'https://news.daum.net/'\n",
    "    \n",
    "    driver = webdriver.Chrome()\n",
    "    \n",
    "    time.sleep(1)\n",
    "    driver.get(url)\n",
    "    time.sleep(3)\n",
    "    \n",
    "    html = driver.page_source\n",
    "    soup = BeautifulSoup(html, 'html.parser')\n",
    "    \n",
    "    myList = []\n",
    "    \n",
    "    path = 'body > div.container-doc > main > section > div > div.content-article > div.box_g.box_news_issue > ul > li > div > div > strong > a'\n",
    "    for i in soup.select(path):\n",
    "        myList.append(i.text)\n",
    "        print(i.text)\n",
    "        \n",
    "    return render_template('index_1.html', list=myList)\n",
    "\n",
    "@app.route('/about')\n",
    "def about():\n",
    "    return 'about page 입니다'\n",
    "\n",
    "if __name__ == '__main__':\n",
    "    app.run(host='0.0.0.0', port='8080')"
   ]
  },
  {
   "cell_type": "code",
   "execution_count": null,
   "id": "a09b1cf9",
   "metadata": {},
   "outputs": [],
   "source": []
  }
 ],
 "metadata": {
  "kernelspec": {
   "display_name": "Python 3 (ipykernel)",
   "language": "python",
   "name": "python3"
  },
  "language_info": {
   "codemirror_mode": {
    "name": "ipython",
    "version": 3
   },
   "file_extension": ".py",
   "mimetype": "text/x-python",
   "name": "python",
   "nbconvert_exporter": "python",
   "pygments_lexer": "ipython3",
   "version": "3.9.7"
  },
  "varInspector": {
   "cols": {
    "lenName": 16,
    "lenType": 16,
    "lenVar": 40
   },
   "kernels_config": {
    "python": {
     "delete_cmd_postfix": "",
     "delete_cmd_prefix": "del ",
     "library": "var_list.py",
     "varRefreshCmd": "print(var_dic_list())"
    },
    "r": {
     "delete_cmd_postfix": ") ",
     "delete_cmd_prefix": "rm(",
     "library": "var_list.r",
     "varRefreshCmd": "cat(var_dic_list()) "
    }
   },
   "types_to_exclude": [
    "module",
    "function",
    "builtin_function_or_method",
    "instance",
    "_Feature"
   ],
   "window_display": false
  }
 },
 "nbformat": 4,
 "nbformat_minor": 5
}
