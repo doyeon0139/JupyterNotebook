{
 "cells": [
  {
   "cell_type": "markdown",
   "id": "9d45c4e8",
   "metadata": {},
   "source": [
    "# django\n",
    "# flask\n",
    "# fast.ai"
   ]
  },
  {
   "cell_type": "code",
   "execution_count": 2,
   "id": "27589cf6",
   "metadata": {
    "collapsed": true
   },
   "outputs": [
    {
     "name": "stdout",
     "output_type": "stream",
     "text": [
      "Requirement already satisfied: flask in c:\\users\\bitcamp\\anaconda3\\lib\\site-packages (1.1.2)\n",
      "Requirement already satisfied: Jinja2>=2.10.1 in c:\\users\\bitcamp\\anaconda3\\lib\\site-packages (from flask) (2.11.3)\n",
      "Requirement already satisfied: itsdangerous>=0.24 in c:\\users\\bitcamp\\anaconda3\\lib\\site-packages (from flask) (2.0.1)\n",
      "Requirement already satisfied: Werkzeug>=0.15 in c:\\users\\bitcamp\\anaconda3\\lib\\site-packages (from flask) (2.0.2)\n",
      "Requirement already satisfied: click>=5.1 in c:\\users\\bitcamp\\anaconda3\\lib\\site-packages (from flask) (8.0.3)\n",
      "Requirement already satisfied: colorama in c:\\users\\bitcamp\\anaconda3\\lib\\site-packages (from click>=5.1->flask) (0.4.4)\n",
      "Requirement already satisfied: MarkupSafe>=0.23 in c:\\users\\bitcamp\\anaconda3\\lib\\site-packages (from Jinja2>=2.10.1->flask) (2.0.1)\n"
     ]
    },
    {
     "name": "stderr",
     "output_type": "stream",
     "text": [
      "WARNING: You are using pip version 22.0.4; however, version 22.1 is available.\n",
      "You should consider upgrading via the 'C:\\Users\\bitcamp\\Anaconda3\\python.exe -m pip install --upgrade pip' command.\n"
     ]
    }
   ],
   "source": [
    "# !pip install flask"
   ]
  },
  {
   "cell_type": "code",
   "execution_count": 3,
   "id": "14ec936b",
   "metadata": {},
   "outputs": [],
   "source": [
    "from flask import Flask"
   ]
  },
  {
   "cell_type": "code",
   "execution_count": 4,
   "id": "6a4ac116",
   "metadata": {},
   "outputs": [
    {
     "data": {
      "text/plain": [
       "'__main__'"
      ]
     },
     "execution_count": 4,
     "metadata": {},
     "output_type": "execute_result"
    }
   ],
   "source": [
    "__name__   # 현재의 작업 위치"
   ]
  },
  {
   "cell_type": "code",
   "execution_count": 5,
   "id": "ce3e2210",
   "metadata": {},
   "outputs": [],
   "source": [
    "app = Flask(__name__)"
   ]
  },
  {
   "cell_type": "code",
   "execution_count": 8,
   "id": "d57e3369",
   "metadata": {},
   "outputs": [
    {
     "data": {
      "text/plain": [
       "'Flask'"
      ]
     },
     "execution_count": 8,
     "metadata": {},
     "output_type": "execute_result"
    }
   ],
   "source": [
    "Flask.__name__  # 외부 모듈 이름"
   ]
  },
  {
   "cell_type": "code",
   "execution_count": 11,
   "id": "76901d73",
   "metadata": {},
   "outputs": [
    {
     "name": "stdout",
     "output_type": "stream",
     "text": [
      "3\n",
      "4\n"
     ]
    }
   ],
   "source": [
    "def add_one(data):\n",
    "    return data + 1\n",
    "\n",
    "def add_two(data):\n",
    "    return data + 2\n",
    "\n",
    "# \n",
    "if __name__=='__main__':   # 직접 코드를 작성해서 실행할 경우만 실행되도록\n",
    "    print(add_one(2))\n",
    "    print(add_two(2))"
   ]
  },
  {
   "cell_type": "code",
   "execution_count": 10,
   "id": "b60f8ce5",
   "metadata": {},
   "outputs": [],
   "source": [
    "def add_one(data):\n",
    "    return data + 1\n",
    "\n",
    "def add_two(data):\n",
    "    return data + 2\n",
    "\n",
    "# \n",
    "if Flask.__name__=='__main__':   # 외부 모듈에서 실행할 경우 실행되지 않도록\n",
    "    print(add_one(2))\n",
    "    print(add_two(2))"
   ]
  },
  {
   "cell_type": "code",
   "execution_count": 12,
   "id": "831dbafa",
   "metadata": {},
   "outputs": [
    {
     "name": "stdout",
     "output_type": "stream",
     "text": [
      " * Serving Flask app \"__main__\" (lazy loading)\n",
      " * Environment: production\n",
      "\u001b[31m   WARNING: This is a development server. Do not use it in a production deployment.\u001b[0m\n",
      "\u001b[2m   Use a production WSGI server instead.\u001b[0m\n",
      " * Debug mode: off\n"
     ]
    },
    {
     "name": "stderr",
     "output_type": "stream",
     "text": [
      " * Running on http://127.0.0.1:8080/ (Press CTRL+C to quit)\n",
      "127.0.0.1 - - [19/May/2022 11:00:37] \"GET / HTTP/1.1\" 404 -\n",
      "127.0.0.1 - - [19/May/2022 11:00:37] \"GET /favicon.ico HTTP/1.1\" 404 -\n",
      "127.0.0.1 - - [19/May/2022 11:01:24] \"GET /hello HTTP/1.1\" 200 -\n"
     ]
    }
   ],
   "source": [
    "from flask import Flask\n",
    "\n",
    "app = Flask(__name__)  # flask web server 객체 생성\n",
    "\n",
    "# decorator : 아래의 함수를 꾸며주는 기능 원래 함수에 기능추가한다\n",
    "# route : 경로를 안내...\n",
    "# /hello로 경로로 접근할 때, test()함수를 실행시켜라 함수의 실행 경로를 안내하는\n",
    "@app.route('/hello')  \n",
    "def test():\n",
    "    return 'hello flask'\n",
    "\n",
    "if __name__ == '__main__':\n",
    "    app.run(host='127.0.0.1', port='8080')  # webserver 실행, 위치 : local pc, 8080 포트에 "
   ]
  },
  {
   "cell_type": "code",
   "execution_count": 16,
   "id": "0fa0c565",
   "metadata": {},
   "outputs": [],
   "source": [
    "def log_func():\n",
    "    print('logging')"
   ]
  },
  {
   "cell_type": "code",
   "execution_count": 17,
   "id": "79f7fb95",
   "metadata": {},
   "outputs": [
    {
     "name": "stdout",
     "output_type": "stream",
     "text": [
      "logging\n"
     ]
    }
   ],
   "source": [
    "log_func()"
   ]
  },
  {
   "cell_type": "code",
   "execution_count": 18,
   "id": "ffabad75",
   "metadata": {},
   "outputs": [],
   "source": [
    "def outer_func(function):  # 함수를 매개변수로 받음\n",
    "    def inner_func():  # 내부함수 : 받은 함수를 실행시키면서 새로운 내용을 부가\n",
    "        print('decoration added')\n",
    "        function()\n",
    "    return inner_func  # 내부함수를 리턴"
   ]
  },
  {
   "cell_type": "code",
   "execution_count": 22,
   "id": "9f488a8c",
   "metadata": {},
   "outputs": [
    {
     "name": "stdout",
     "output_type": "stream",
     "text": [
      "decoration added\n",
      "decoration added\n",
      "logging\n"
     ]
    }
   ],
   "source": [
    "return_func = outer_func(log_func)\n",
    "return_func()"
   ]
  },
  {
   "cell_type": "code",
   "execution_count": 19,
   "id": "2751625e",
   "metadata": {},
   "outputs": [],
   "source": [
    "@outer_func\n",
    "def log_func():\n",
    "    print('logging')"
   ]
  },
  {
   "cell_type": "code",
   "execution_count": 20,
   "id": "56bc779f",
   "metadata": {},
   "outputs": [
    {
     "name": "stdout",
     "output_type": "stream",
     "text": [
      "decoration added\n",
      "logging\n"
     ]
    }
   ],
   "source": [
    "log_func()"
   ]
  },
  {
   "cell_type": "code",
   "execution_count": 31,
   "id": "981066c9",
   "metadata": {
    "scrolled": true
   },
   "outputs": [
    {
     "name": "stdout",
     "output_type": "stream",
     "text": [
      " * Serving Flask app \"__main__\" (lazy loading)\n",
      " * Environment: production\n",
      "\u001b[31m   WARNING: This is a development server. Do not use it in a production deployment.\u001b[0m\n",
      "\u001b[2m   Use a production WSGI server instead.\u001b[0m\n",
      " * Debug mode: off\n"
     ]
    },
    {
     "name": "stderr",
     "output_type": "stream",
     "text": [
      " * Running on all addresses.\n",
      "   WARNING: This is a development server. Do not use it in a production deployment.\n",
      " * Running on http://192.168.0.11:8080/ (Press CTRL+C to quit)\n",
      "192.168.0.11 - - [19/May/2022 11:20:26] \"GET / HTTP/1.1\" 200 -\n",
      "192.168.0.11 - - [19/May/2022 11:20:31] \"GET /hello HTTP/1.1\" 0 -\n",
      "Error on request:\n",
      "Traceback (most recent call last):\n",
      "  File \"C:\\Users\\bitcamp\\Anaconda3\\Lib\\site-packages\\werkzeug\\serving.py\", line 319, in run_wsgi\n",
      "    execute(self.server.app)\n",
      "  File \"C:\\Users\\bitcamp\\Anaconda3\\Lib\\site-packages\\werkzeug\\serving.py\", line 311, in execute\n",
      "    write(data)\n",
      "  File \"C:\\Users\\bitcamp\\Anaconda3\\Lib\\site-packages\\werkzeug\\serving.py\", line 269, in write\n",
      "    self.send_response(code, msg)\n",
      "  File \"C:\\Users\\bitcamp\\Anaconda3\\Lib\\site-packages\\werkzeug\\serving.py\", line 383, in send_response\n",
      "    self.wfile.write(hdr.encode(\"ascii\"))\n",
      "UnicodeEncodeError: 'ascii' codec can't encode characters in position 15-17: ordinal not in range(128)\n",
      "192.168.0.11 - - [19/May/2022 11:20:31] \"GET /hello HTTP/1.1\" 0 -\n",
      "Error on request:\n",
      "Traceback (most recent call last):\n",
      "  File \"C:\\Users\\bitcamp\\Anaconda3\\Lib\\site-packages\\werkzeug\\serving.py\", line 319, in run_wsgi\n",
      "    execute(self.server.app)\n",
      "  File \"C:\\Users\\bitcamp\\Anaconda3\\Lib\\site-packages\\werkzeug\\serving.py\", line 311, in execute\n",
      "    write(data)\n",
      "  File \"C:\\Users\\bitcamp\\Anaconda3\\Lib\\site-packages\\werkzeug\\serving.py\", line 269, in write\n",
      "    self.send_response(code, msg)\n",
      "  File \"C:\\Users\\bitcamp\\Anaconda3\\Lib\\site-packages\\werkzeug\\serving.py\", line 383, in send_response\n",
      "    self.wfile.write(hdr.encode(\"ascii\"))\n",
      "UnicodeEncodeError: 'ascii' codec can't encode characters in position 15-17: ordinal not in range(128)\n",
      "192.168.0.11 - - [19/May/2022 11:20:31] \"GET /hello HTTP/1.1\" 0 -\n",
      "Error on request:\n",
      "Traceback (most recent call last):\n",
      "  File \"C:\\Users\\bitcamp\\Anaconda3\\Lib\\site-packages\\werkzeug\\serving.py\", line 319, in run_wsgi\n",
      "    execute(self.server.app)\n",
      "  File \"C:\\Users\\bitcamp\\Anaconda3\\Lib\\site-packages\\werkzeug\\serving.py\", line 311, in execute\n",
      "    write(data)\n",
      "  File \"C:\\Users\\bitcamp\\Anaconda3\\Lib\\site-packages\\werkzeug\\serving.py\", line 269, in write\n",
      "    self.send_response(code, msg)\n",
      "  File \"C:\\Users\\bitcamp\\Anaconda3\\Lib\\site-packages\\werkzeug\\serving.py\", line 383, in send_response\n",
      "    self.wfile.write(hdr.encode(\"ascii\"))\n",
      "UnicodeEncodeError: 'ascii' codec can't encode characters in position 15-17: ordinal not in range(128)\n",
      "192.168.0.11 - - [19/May/2022 11:20:32] \"GET /hello HTTP/1.1\" 0 -\n",
      "Error on request:\n",
      "Traceback (most recent call last):\n",
      "  File \"C:\\Users\\bitcamp\\Anaconda3\\Lib\\site-packages\\werkzeug\\serving.py\", line 319, in run_wsgi\n",
      "    execute(self.server.app)\n",
      "  File \"C:\\Users\\bitcamp\\Anaconda3\\Lib\\site-packages\\werkzeug\\serving.py\", line 311, in execute\n",
      "    write(data)\n",
      "  File \"C:\\Users\\bitcamp\\Anaconda3\\Lib\\site-packages\\werkzeug\\serving.py\", line 269, in write\n",
      "    self.send_response(code, msg)\n",
      "  File \"C:\\Users\\bitcamp\\Anaconda3\\Lib\\site-packages\\werkzeug\\serving.py\", line 383, in send_response\n",
      "    self.wfile.write(hdr.encode(\"ascii\"))\n",
      "UnicodeEncodeError: 'ascii' codec can't encode characters in position 15-17: ordinal not in range(128)\n",
      "192.168.0.11 - - [19/May/2022 11:20:32] \"GET /hello HTTP/1.1\" 0 -\n",
      "Error on request:\n",
      "Traceback (most recent call last):\n",
      "  File \"C:\\Users\\bitcamp\\Anaconda3\\Lib\\site-packages\\werkzeug\\serving.py\", line 319, in run_wsgi\n",
      "    execute(self.server.app)\n",
      "  File \"C:\\Users\\bitcamp\\Anaconda3\\Lib\\site-packages\\werkzeug\\serving.py\", line 311, in execute\n",
      "    write(data)\n",
      "  File \"C:\\Users\\bitcamp\\Anaconda3\\Lib\\site-packages\\werkzeug\\serving.py\", line 269, in write\n",
      "    self.send_response(code, msg)\n",
      "  File \"C:\\Users\\bitcamp\\Anaconda3\\Lib\\site-packages\\werkzeug\\serving.py\", line 383, in send_response\n",
      "    self.wfile.write(hdr.encode(\"ascii\"))\n",
      "UnicodeEncodeError: 'ascii' codec can't encode characters in position 15-17: ordinal not in range(128)\n",
      "192.168.0.11 - - [19/May/2022 11:20:32] \"GET /hello HTTP/1.1\" 0 -\n",
      "Error on request:\n",
      "Traceback (most recent call last):\n",
      "  File \"C:\\Users\\bitcamp\\Anaconda3\\Lib\\site-packages\\werkzeug\\serving.py\", line 319, in run_wsgi\n",
      "    execute(self.server.app)\n",
      "  File \"C:\\Users\\bitcamp\\Anaconda3\\Lib\\site-packages\\werkzeug\\serving.py\", line 311, in execute\n",
      "    write(data)\n",
      "  File \"C:\\Users\\bitcamp\\Anaconda3\\Lib\\site-packages\\werkzeug\\serving.py\", line 269, in write\n",
      "    self.send_response(code, msg)\n",
      "  File \"C:\\Users\\bitcamp\\Anaconda3\\Lib\\site-packages\\werkzeug\\serving.py\", line 383, in send_response\n",
      "    self.wfile.write(hdr.encode(\"ascii\"))\n",
      "UnicodeEncodeError: 'ascii' codec can't encode characters in position 15-17: ordinal not in range(128)\n"
     ]
    }
   ],
   "source": [
    "from flask import Flask\n",
    "\n",
    "app = Flask(__name__)\n",
    "\n",
    "@app.route('/')\n",
    "def hello():\n",
    "    return '<h1>Hello World</h1>'\n",
    "\n",
    "@app.route('/hello')\n",
    "def hello_flask():\n",
    "    return '<h1>Hello Flask</h1>'\n",
    "\n",
    "@app.route('/first')\n",
    "def hello_first():\n",
    "    return '<h3>Hello First</h3>'\n",
    "\n",
    "if __name__ == '__main__':\n",
    "    app.run(host='0.0.0.0', port='8080')"
   ]
  },
  {
   "cell_type": "code",
   "execution_count": null,
   "id": "8f04d635",
   "metadata": {},
   "outputs": [],
   "source": [
    "html = \"\"\"\n",
    "\n",
    "\"\"\""
   ]
  },
  {
   "cell_type": "code",
   "execution_count": 32,
   "id": "6bd31642",
   "metadata": {},
   "outputs": [
    {
     "name": "stdout",
     "output_type": "stream",
     "text": [
      " * Serving Flask app \"__main__\" (lazy loading)\n",
      " * Environment: production\n",
      "\u001b[31m   WARNING: This is a development server. Do not use it in a production deployment.\u001b[0m\n",
      "\u001b[2m   Use a production WSGI server instead.\u001b[0m\n",
      " * Debug mode: off\n"
     ]
    },
    {
     "name": "stderr",
     "output_type": "stream",
     "text": [
      " * Running on all addresses.\n",
      "   WARNING: This is a development server. Do not use it in a production deployment.\n",
      " * Running on http://192.168.0.11:8080/ (Press CTRL+C to quit)\n",
      "192.168.0.11 - - [19/May/2022 11:29:52] \"GET / HTTP/1.1\" 200 -\n",
      "192.168.0.11 - - [19/May/2022 11:30:15] \"GET /doyeon HTTP/1.1\" 404 -\n",
      "192.168.0.11 - - [19/May/2022 11:41:06] \"GET /profile%20:%20doyeon HTTP/1.1\" 404 -\n",
      "192.168.0.11 - - [19/May/2022 11:41:27] \"GET /profiledoyeon HTTP/1.1\" 404 -\n",
      "192.168.0.11 - - [19/May/2022 11:41:51] \"GET /profile/doyeon HTTP/1.1\" 200 -\n",
      "[2022-05-19 11:42:08,636] ERROR in app: Exception on /first/doyeon [GET]\n",
      "Traceback (most recent call last):\n",
      "  File \"C:\\Users\\bitcamp\\Anaconda3\\lib\\site-packages\\flask\\app.py\", line 2447, in wsgi_app\n",
      "    response = self.full_dispatch_request()\n",
      "  File \"C:\\Users\\bitcamp\\Anaconda3\\lib\\site-packages\\flask\\app.py\", line 1952, in full_dispatch_request\n",
      "    rv = self.handle_user_exception(e)\n",
      "  File \"C:\\Users\\bitcamp\\Anaconda3\\lib\\site-packages\\flask\\app.py\", line 1821, in handle_user_exception\n",
      "    reraise(exc_type, exc_value, tb)\n",
      "  File \"C:\\Users\\bitcamp\\Anaconda3\\lib\\site-packages\\flask\\_compat.py\", line 39, in reraise\n",
      "    raise value\n",
      "  File \"C:\\Users\\bitcamp\\Anaconda3\\lib\\site-packages\\flask\\app.py\", line 1950, in full_dispatch_request\n",
      "    rv = self.dispatch_request()\n",
      "  File \"C:\\Users\\bitcamp\\Anaconda3\\lib\\site-packages\\flask\\app.py\", line 1936, in dispatch_request\n",
      "    return self.view_functions[rule.endpoint](**req.view_args)\n",
      "TypeError: get_first() got an unexpected keyword argument 'username'\n",
      "192.168.0.11 - - [19/May/2022 11:42:08] \"GET /first/doyeon HTTP/1.1\" 500 -\n",
      "[2022-05-19 11:42:41,481] ERROR in app: Exception on /first/doyeon [GET]\n",
      "Traceback (most recent call last):\n",
      "  File \"C:\\Users\\bitcamp\\Anaconda3\\lib\\site-packages\\flask\\app.py\", line 2447, in wsgi_app\n",
      "    response = self.full_dispatch_request()\n",
      "  File \"C:\\Users\\bitcamp\\Anaconda3\\lib\\site-packages\\flask\\app.py\", line 1952, in full_dispatch_request\n",
      "    rv = self.handle_user_exception(e)\n",
      "  File \"C:\\Users\\bitcamp\\Anaconda3\\lib\\site-packages\\flask\\app.py\", line 1821, in handle_user_exception\n",
      "    reraise(exc_type, exc_value, tb)\n",
      "  File \"C:\\Users\\bitcamp\\Anaconda3\\lib\\site-packages\\flask\\_compat.py\", line 39, in reraise\n",
      "    raise value\n",
      "  File \"C:\\Users\\bitcamp\\Anaconda3\\lib\\site-packages\\flask\\app.py\", line 1950, in full_dispatch_request\n",
      "    rv = self.dispatch_request()\n",
      "  File \"C:\\Users\\bitcamp\\Anaconda3\\lib\\site-packages\\flask\\app.py\", line 1936, in dispatch_request\n",
      "    return self.view_functions[rule.endpoint](**req.view_args)\n",
      "TypeError: get_first() got an unexpected keyword argument 'username'\n",
      "192.168.0.11 - - [19/May/2022 11:42:41] \"GET /first/doyeon HTTP/1.1\" 500 -\n"
     ]
    }
   ],
   "source": [
    "app = Flask(__name__)\n",
    "\n",
    "@app.route('/')\n",
    "def hello():\n",
    "    return '<h1>Hello World</h1>'\n",
    "\n",
    "@app.route('/profile/<username>')\n",
    "def get_profile(username):\n",
    "    return 'profile:'+ username\n",
    "\n",
    "@app.route('/first/<username>')\n",
    "def get_first():\n",
    "    return '<h3>Hello '+ username + '!</h3>'\n",
    "\n",
    "\n",
    "if __name__ == '__main__':\n",
    "    app.run(host='0.0.0.0', port='8080')"
   ]
  },
  {
   "cell_type": "markdown",
   "id": "9b441f12",
   "metadata": {},
   "source": [
    "# 데이터 리턴\n",
    "* rest api"
   ]
  },
  {
   "cell_type": "code",
   "execution_count": 33,
   "id": "6dab4c78",
   "metadata": {},
   "outputs": [],
   "source": [
    "from flask import Flask, jsonify"
   ]
  },
  {
   "cell_type": "code",
   "execution_count": 36,
   "id": "931e2b1f",
   "metadata": {},
   "outputs": [
    {
     "name": "stdout",
     "output_type": "stream",
     "text": [
      " * Serving Flask app \"__main__\" (lazy loading)\n",
      " * Environment: production\n",
      "\u001b[31m   WARNING: This is a development server. Do not use it in a production deployment.\u001b[0m\n",
      "\u001b[2m   Use a production WSGI server instead.\u001b[0m\n",
      " * Debug mode: off\n"
     ]
    },
    {
     "name": "stderr",
     "output_type": "stream",
     "text": [
      " * Running on all addresses.\n",
      "   WARNING: This is a development server. Do not use it in a production deployment.\n",
      " * Running on http://192.168.0.11:8080/ (Press CTRL+C to quit)\n",
      "192.168.0.11 - - [19/May/2022 11:48:42] \"GET / HTTP/1.1\" 404 -\n",
      "192.168.0.11 - - [19/May/2022 11:48:58] \"GET /json_test HTTP/1.1\" 200 -\n",
      "192.168.0.11 - - [19/May/2022 11:49:14] \"GET /server_info HTTP/1.1\" 200 -\n"
     ]
    }
   ],
   "source": [
    "app = Flask(__name__)\n",
    "\n",
    "@app.route('/json_test')\n",
    "def hello_json():\n",
    "    data = {'name':'대기','family':'김'}\n",
    "    return jsonify(data)\n",
    "\n",
    "@app.route('/server_info')\n",
    "def server_json():\n",
    "    data = {'server_name':'0.0.0.0', 'server_port':'8080'}\n",
    "    return jsonify(data)\n",
    "\n",
    "if __name__ == '__main__':\n",
    "    app.run(host='0.0.0.0', port='8080')"
   ]
  },
  {
   "cell_type": "code",
   "execution_count": 42,
   "id": "2d64bede",
   "metadata": {},
   "outputs": [
    {
     "name": "stdout",
     "output_type": "stream",
     "text": [
      " * Serving Flask app \"__main__\" (lazy loading)\n",
      " * Environment: production\n",
      "\u001b[31m   WARNING: This is a development server. Do not use it in a production deployment.\u001b[0m\n",
      "\u001b[2m   Use a production WSGI server instead.\u001b[0m\n",
      " * Debug mode: off\n"
     ]
    },
    {
     "name": "stderr",
     "output_type": "stream",
     "text": [
      " * Running on all addresses.\n",
      "   WARNING: This is a development server. Do not use it in a production deployment.\n",
      " * Running on http://192.168.0.11:8080/ (Press CTRL+C to quit)\n",
      "192.168.0.11 - - [19/May/2022 11:54:29] \"GET / HTTP/1.1\" 404 -\n",
      "192.168.0.11 - - [19/May/2022 11:54:43] \"GET /login HTTP/1.1\" 200 -\n",
      "192.168.0.11 - - [19/May/2022 11:54:58] \"GET /login/dave HTTP/1.1\" 404 -\n",
      "192.168.0.11 - - [19/May/2022 11:55:05] \"GET /dave HTTP/1.1\" 404 -\n",
      "192.168.0.11 - - [19/May/2022 11:55:45] \"GET /login HTTP/1.1\" 200 -\n"
     ]
    }
   ],
   "source": [
    "from flask import Flask, jsonify, request\n",
    "\n",
    "app = Flask(__name__)\n",
    "\n",
    "@app.route('/login')\n",
    "def login():\n",
    "    \n",
    "    username = request.args.get('user_name')\n",
    "    \n",
    "    if username == 'dave':\n",
    "        return_data = {'auth':'sucess'}\n",
    "    else:\n",
    "        return_data = {'auth':'failed'}\n",
    "        \n",
    "    return jsonify(return_data)\n",
    "\n",
    "if __name__ == '__main__':\n",
    "    app.run(host='0.0.0.0', port='8080')"
   ]
  },
  {
   "cell_type": "code",
   "execution_count": 43,
   "id": "c777a391",
   "metadata": {
    "collapsed": true
   },
   "outputs": [
    {
     "ename": "AssertionError",
     "evalue": "View function mapping is overwriting an existing endpoint function: hello",
     "output_type": "error",
     "traceback": [
      "\u001b[1;31m---------------------------------------------------------------------------\u001b[0m",
      "\u001b[1;31mAssertionError\u001b[0m                            Traceback (most recent call last)",
      "\u001b[1;32m~\\AppData\\Local\\Temp/ipykernel_5272/1116028712.py\u001b[0m in \u001b[0;36m<module>\u001b[1;34m\u001b[0m\n\u001b[0;32m      9\u001b[0m \u001b[1;33m\u001b[0m\u001b[0m\n\u001b[0;32m     10\u001b[0m \u001b[1;33m@\u001b[0m\u001b[0mapp\u001b[0m\u001b[1;33m.\u001b[0m\u001b[0mroute\u001b[0m\u001b[1;33m(\u001b[0m\u001b[1;34m'/about'\u001b[0m\u001b[1;33m)\u001b[0m\u001b[1;33m\u001b[0m\u001b[1;33m\u001b[0m\u001b[0m\n\u001b[1;32m---> 11\u001b[1;33m \u001b[1;32mdef\u001b[0m \u001b[0mhello\u001b[0m\u001b[1;33m(\u001b[0m\u001b[1;33m)\u001b[0m\u001b[1;33m:\u001b[0m\u001b[1;33m\u001b[0m\u001b[1;33m\u001b[0m\u001b[0m\n\u001b[0m\u001b[0;32m     12\u001b[0m     \u001b[1;32mreturn\u001b[0m \u001b[1;34m'hello flask'\u001b[0m\u001b[1;33m\u001b[0m\u001b[1;33m\u001b[0m\u001b[0m\n\u001b[0;32m     13\u001b[0m \u001b[1;33m\u001b[0m\u001b[0m\n",
      "\u001b[1;32m~\\Anaconda3\\lib\\site-packages\\flask\\app.py\u001b[0m in \u001b[0;36mdecorator\u001b[1;34m(f)\u001b[0m\n\u001b[0;32m   1313\u001b[0m         \u001b[1;32mdef\u001b[0m \u001b[0mdecorator\u001b[0m\u001b[1;33m(\u001b[0m\u001b[0mf\u001b[0m\u001b[1;33m)\u001b[0m\u001b[1;33m:\u001b[0m\u001b[1;33m\u001b[0m\u001b[1;33m\u001b[0m\u001b[0m\n\u001b[0;32m   1314\u001b[0m             \u001b[0mendpoint\u001b[0m \u001b[1;33m=\u001b[0m \u001b[0moptions\u001b[0m\u001b[1;33m.\u001b[0m\u001b[0mpop\u001b[0m\u001b[1;33m(\u001b[0m\u001b[1;34m\"endpoint\"\u001b[0m\u001b[1;33m,\u001b[0m \u001b[1;32mNone\u001b[0m\u001b[1;33m)\u001b[0m\u001b[1;33m\u001b[0m\u001b[1;33m\u001b[0m\u001b[0m\n\u001b[1;32m-> 1315\u001b[1;33m             \u001b[0mself\u001b[0m\u001b[1;33m.\u001b[0m\u001b[0madd_url_rule\u001b[0m\u001b[1;33m(\u001b[0m\u001b[0mrule\u001b[0m\u001b[1;33m,\u001b[0m \u001b[0mendpoint\u001b[0m\u001b[1;33m,\u001b[0m \u001b[0mf\u001b[0m\u001b[1;33m,\u001b[0m \u001b[1;33m**\u001b[0m\u001b[0moptions\u001b[0m\u001b[1;33m)\u001b[0m\u001b[1;33m\u001b[0m\u001b[1;33m\u001b[0m\u001b[0m\n\u001b[0m\u001b[0;32m   1316\u001b[0m             \u001b[1;32mreturn\u001b[0m \u001b[0mf\u001b[0m\u001b[1;33m\u001b[0m\u001b[1;33m\u001b[0m\u001b[0m\n\u001b[0;32m   1317\u001b[0m \u001b[1;33m\u001b[0m\u001b[0m\n",
      "\u001b[1;32m~\\Anaconda3\\lib\\site-packages\\flask\\app.py\u001b[0m in \u001b[0;36mwrapper_func\u001b[1;34m(self, *args, **kwargs)\u001b[0m\n\u001b[0;32m     96\u001b[0m                 \u001b[1;34m\"before the application starts serving requests.\"\u001b[0m\u001b[1;33m\u001b[0m\u001b[1;33m\u001b[0m\u001b[0m\n\u001b[0;32m     97\u001b[0m             )\n\u001b[1;32m---> 98\u001b[1;33m         \u001b[1;32mreturn\u001b[0m \u001b[0mf\u001b[0m\u001b[1;33m(\u001b[0m\u001b[0mself\u001b[0m\u001b[1;33m,\u001b[0m \u001b[1;33m*\u001b[0m\u001b[0margs\u001b[0m\u001b[1;33m,\u001b[0m \u001b[1;33m**\u001b[0m\u001b[0mkwargs\u001b[0m\u001b[1;33m)\u001b[0m\u001b[1;33m\u001b[0m\u001b[1;33m\u001b[0m\u001b[0m\n\u001b[0m\u001b[0;32m     99\u001b[0m \u001b[1;33m\u001b[0m\u001b[0m\n\u001b[0;32m    100\u001b[0m     \u001b[1;32mreturn\u001b[0m \u001b[0mupdate_wrapper\u001b[0m\u001b[1;33m(\u001b[0m\u001b[0mwrapper_func\u001b[0m\u001b[1;33m,\u001b[0m \u001b[0mf\u001b[0m\u001b[1;33m)\u001b[0m\u001b[1;33m\u001b[0m\u001b[1;33m\u001b[0m\u001b[0m\n",
      "\u001b[1;32m~\\Anaconda3\\lib\\site-packages\\flask\\app.py\u001b[0m in \u001b[0;36madd_url_rule\u001b[1;34m(self, rule, endpoint, view_func, provide_automatic_options, **options)\u001b[0m\n\u001b[0;32m   1280\u001b[0m             \u001b[0mold_func\u001b[0m \u001b[1;33m=\u001b[0m \u001b[0mself\u001b[0m\u001b[1;33m.\u001b[0m\u001b[0mview_functions\u001b[0m\u001b[1;33m.\u001b[0m\u001b[0mget\u001b[0m\u001b[1;33m(\u001b[0m\u001b[0mendpoint\u001b[0m\u001b[1;33m)\u001b[0m\u001b[1;33m\u001b[0m\u001b[1;33m\u001b[0m\u001b[0m\n\u001b[0;32m   1281\u001b[0m             \u001b[1;32mif\u001b[0m \u001b[0mold_func\u001b[0m \u001b[1;32mis\u001b[0m \u001b[1;32mnot\u001b[0m \u001b[1;32mNone\u001b[0m \u001b[1;32mand\u001b[0m \u001b[0mold_func\u001b[0m \u001b[1;33m!=\u001b[0m \u001b[0mview_func\u001b[0m\u001b[1;33m:\u001b[0m\u001b[1;33m\u001b[0m\u001b[1;33m\u001b[0m\u001b[0m\n\u001b[1;32m-> 1282\u001b[1;33m                 raise AssertionError(\n\u001b[0m\u001b[0;32m   1283\u001b[0m                     \u001b[1;34m\"View function mapping is overwriting an \"\u001b[0m\u001b[1;33m\u001b[0m\u001b[1;33m\u001b[0m\u001b[0m\n\u001b[0;32m   1284\u001b[0m                     \u001b[1;34m\"existing endpoint function: %s\"\u001b[0m \u001b[1;33m%\u001b[0m \u001b[0mendpoint\u001b[0m\u001b[1;33m\u001b[0m\u001b[1;33m\u001b[0m\u001b[0m\n",
      "\u001b[1;31mAssertionError\u001b[0m: View function mapping is overwriting an existing endpoint function: hello"
     ]
    }
   ],
   "source": [
    "from flask import Flask, render_template\n",
    "\n",
    "app = Flask(__name__)\n",
    "\n",
    "\n",
    "@app.route('/')\n",
    "def hello():\n",
    "    return render_template('index.html')\n",
    "\n",
    "@app.route('/about')\n",
    "def hello():\n",
    "    return 'hello flask'\n",
    "\n",
    "if __name__ == '__main__':\n",
    "    app.run(host='0.0.0.0', port='8080')"
   ]
  },
  {
   "cell_type": "code",
   "execution_count": null,
   "id": "d4e8445b",
   "metadata": {},
   "outputs": [],
   "source": []
  },
  {
   "cell_type": "code",
   "execution_count": null,
   "id": "a44935cf",
   "metadata": {},
   "outputs": [],
   "source": []
  },
  {
   "cell_type": "code",
   "execution_count": null,
   "id": "593f1129",
   "metadata": {},
   "outputs": [],
   "source": []
  },
  {
   "cell_type": "code",
   "execution_count": null,
   "id": "f3deb48f",
   "metadata": {},
   "outputs": [],
   "source": []
  },
  {
   "cell_type": "code",
   "execution_count": null,
   "id": "0a362c5b",
   "metadata": {},
   "outputs": [],
   "source": []
  },
  {
   "cell_type": "code",
   "execution_count": null,
   "id": "d3b4ca25",
   "metadata": {},
   "outputs": [],
   "source": []
  },
  {
   "cell_type": "code",
   "execution_count": null,
   "id": "c19109c3",
   "metadata": {},
   "outputs": [],
   "source": []
  },
  {
   "cell_type": "code",
   "execution_count": null,
   "id": "a861c4b5",
   "metadata": {},
   "outputs": [],
   "source": []
  },
  {
   "cell_type": "code",
   "execution_count": null,
   "id": "e9ae3a1b",
   "metadata": {},
   "outputs": [],
   "source": []
  },
  {
   "cell_type": "code",
   "execution_count": null,
   "id": "bac37e07",
   "metadata": {},
   "outputs": [],
   "source": []
  },
  {
   "cell_type": "code",
   "execution_count": null,
   "id": "18ebc2f4",
   "metadata": {},
   "outputs": [],
   "source": []
  },
  {
   "cell_type": "code",
   "execution_count": null,
   "id": "f8c00270",
   "metadata": {},
   "outputs": [],
   "source": []
  },
  {
   "cell_type": "code",
   "execution_count": null,
   "id": "4c277c21",
   "metadata": {},
   "outputs": [],
   "source": []
  },
  {
   "cell_type": "code",
   "execution_count": null,
   "id": "6fe756f8",
   "metadata": {},
   "outputs": [],
   "source": []
  },
  {
   "cell_type": "code",
   "execution_count": null,
   "id": "7e34fe03",
   "metadata": {},
   "outputs": [],
   "source": []
  },
  {
   "cell_type": "code",
   "execution_count": null,
   "id": "9f3732c6",
   "metadata": {},
   "outputs": [],
   "source": []
  },
  {
   "cell_type": "code",
   "execution_count": null,
   "id": "26a7e54e",
   "metadata": {},
   "outputs": [],
   "source": []
  },
  {
   "cell_type": "code",
   "execution_count": null,
   "id": "5de49b67",
   "metadata": {},
   "outputs": [],
   "source": []
  },
  {
   "cell_type": "code",
   "execution_count": null,
   "id": "080233f8",
   "metadata": {},
   "outputs": [],
   "source": []
  },
  {
   "cell_type": "code",
   "execution_count": null,
   "id": "eb8ddde5",
   "metadata": {},
   "outputs": [],
   "source": []
  },
  {
   "cell_type": "code",
   "execution_count": null,
   "id": "e2aef5b2",
   "metadata": {},
   "outputs": [],
   "source": []
  },
  {
   "cell_type": "code",
   "execution_count": null,
   "id": "bba58b48",
   "metadata": {},
   "outputs": [],
   "source": []
  },
  {
   "cell_type": "code",
   "execution_count": null,
   "id": "7c94215d",
   "metadata": {},
   "outputs": [],
   "source": []
  },
  {
   "cell_type": "code",
   "execution_count": null,
   "id": "5c3e55c8",
   "metadata": {},
   "outputs": [],
   "source": []
  },
  {
   "cell_type": "code",
   "execution_count": null,
   "id": "92affd82",
   "metadata": {},
   "outputs": [],
   "source": []
  },
  {
   "cell_type": "code",
   "execution_count": null,
   "id": "82738996",
   "metadata": {},
   "outputs": [],
   "source": []
  },
  {
   "cell_type": "code",
   "execution_count": null,
   "id": "21248914",
   "metadata": {},
   "outputs": [],
   "source": []
  },
  {
   "cell_type": "code",
   "execution_count": null,
   "id": "990ee11c",
   "metadata": {},
   "outputs": [],
   "source": []
  },
  {
   "cell_type": "code",
   "execution_count": null,
   "id": "83479f58",
   "metadata": {},
   "outputs": [],
   "source": []
  },
  {
   "cell_type": "code",
   "execution_count": null,
   "id": "04a6b827",
   "metadata": {},
   "outputs": [],
   "source": []
  },
  {
   "cell_type": "code",
   "execution_count": null,
   "id": "8ea69db6",
   "metadata": {},
   "outputs": [],
   "source": []
  },
  {
   "cell_type": "code",
   "execution_count": null,
   "id": "56491e23",
   "metadata": {},
   "outputs": [],
   "source": []
  },
  {
   "cell_type": "code",
   "execution_count": null,
   "id": "b87ce0ed",
   "metadata": {},
   "outputs": [],
   "source": []
  },
  {
   "cell_type": "code",
   "execution_count": null,
   "id": "479f752c",
   "metadata": {},
   "outputs": [],
   "source": []
  },
  {
   "cell_type": "code",
   "execution_count": null,
   "id": "f870621a",
   "metadata": {},
   "outputs": [],
   "source": []
  },
  {
   "cell_type": "code",
   "execution_count": null,
   "id": "f0cd7527",
   "metadata": {},
   "outputs": [],
   "source": []
  },
  {
   "cell_type": "code",
   "execution_count": null,
   "id": "9b190991",
   "metadata": {},
   "outputs": [],
   "source": []
  },
  {
   "cell_type": "code",
   "execution_count": null,
   "id": "c8d30bd5",
   "metadata": {},
   "outputs": [],
   "source": []
  },
  {
   "cell_type": "code",
   "execution_count": null,
   "id": "27d3135b",
   "metadata": {},
   "outputs": [],
   "source": []
  },
  {
   "cell_type": "code",
   "execution_count": null,
   "id": "bb219bbd",
   "metadata": {},
   "outputs": [],
   "source": []
  },
  {
   "cell_type": "code",
   "execution_count": null,
   "id": "8e8ab0cb",
   "metadata": {},
   "outputs": [],
   "source": []
  },
  {
   "cell_type": "code",
   "execution_count": null,
   "id": "228363c0",
   "metadata": {},
   "outputs": [],
   "source": []
  }
 ],
 "metadata": {
  "kernelspec": {
   "display_name": "Python 3 (ipykernel)",
   "language": "python",
   "name": "python3"
  },
  "language_info": {
   "codemirror_mode": {
    "name": "ipython",
    "version": 3
   },
   "file_extension": ".py",
   "mimetype": "text/x-python",
   "name": "python",
   "nbconvert_exporter": "python",
   "pygments_lexer": "ipython3",
   "version": "3.9.7"
  },
  "varInspector": {
   "cols": {
    "lenName": 16,
    "lenType": 16,
    "lenVar": 40
   },
   "kernels_config": {
    "python": {
     "delete_cmd_postfix": "",
     "delete_cmd_prefix": "del ",
     "library": "var_list.py",
     "varRefreshCmd": "print(var_dic_list())"
    },
    "r": {
     "delete_cmd_postfix": ") ",
     "delete_cmd_prefix": "rm(",
     "library": "var_list.r",
     "varRefreshCmd": "cat(var_dic_list()) "
    }
   },
   "types_to_exclude": [
    "module",
    "function",
    "builtin_function_or_method",
    "instance",
    "_Feature"
   ],
   "window_display": false
  }
 },
 "nbformat": 4,
 "nbformat_minor": 5
}
