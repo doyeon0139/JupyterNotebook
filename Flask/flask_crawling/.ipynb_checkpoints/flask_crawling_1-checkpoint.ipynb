{
 "cells": [
  {
   "cell_type": "code",
   "execution_count": 6,
   "id": "4841888e",
   "metadata": {},
   "outputs": [
    {
     "name": "stdout",
     "output_type": "stream",
     "text": [
      " * Serving Flask app \"__main__\" (lazy loading)\n",
      " * Environment: production\n",
      "\u001b[31m   WARNING: This is a development server. Do not use it in a production deployment.\u001b[0m\n",
      "\u001b[2m   Use a production WSGI server instead.\u001b[0m\n",
      " * Debug mode: off\n"
     ]
    },
    {
     "name": "stderr",
     "output_type": "stream",
     "text": [
      " * Running on http://127.0.0.1:8080/ (Press CTRL+C to quit)\n",
      "127.0.0.1 - - [20/May/2022 15:44:05] \"GET / HTTP/1.1\" 200 -\n"
     ]
    },
    {
     "name": "stdout",
     "output_type": "stream",
     "text": [
      "쿠쿠홈시스 쿠쿠 AC-17T20FWH T8700\n",
      "코웨이 AP-1019C\n",
      "클레어 K1M12\n",
      "LG전자 LG퓨리케어 AS180DWFC\n",
      "LG전자 LG퓨리케어 AS281DWFC\n",
      "사용면적 : 53.8㎡|필터 : 프리필터, 탈취필터, 초미세먼지집진필터|에너지효율 : 1등급|소비전력 : 37W|청정방식 : 필터식|청정기능 : 미세먼지제거|미세먼지 : 초미세먼지제거|필터단계 : 2단계필터|부가기능 : 필터점검알림, 풍량조절, 이동손잡이, 에어홀, 프리필터세척알림, LED표시등, 이지컨트롤|모드 : 취침모드, 자동, 에코, 절전, 터보|풍량조절 : 4단|용도 : 가정용|품목 : 공기청정기|형태 : 스탠드형|제품크기 : 336 x 336 x 650mm|무게 : 7.2kg|청정도표시 : 8단계\n",
      "사용면적 : 33㎡(10평)|필터 : 항바이러스필터, 탈취필터, 극세사망프리필터, 향균집진필터|인증 : CA공기청정인증|청정방식 : 필터식|청정기능 : 미세먼지제거, VOCs(새집증후군)제거, 유해가스제거, 포름알데히드제거|미세먼지 : 초미세먼지제거|필터단계 : 3단계필터|부가기능 : 필터점검알림, 무드램프, 먼지센서|모드 : 자동, 정음, 수동|센서 : 먼지|소음 : 47.8dB|풍량조절 : 3단|품목 : 공기청정기|제품크기 : 34 x 16.5 x 46.9 cm|무게 : 5.5kg|청정도표시 : 4단계\n",
      "사용면적 : 13.5㎡|필터 : 프리필터, 탈취필터, 엠보싱집진필터|필터등급 : E12등급|인증 : AHAM인증|소비전력 : 24W|청정방식 : 필터식|청정기능 : 미세먼지제거, 알레르기방지, VOCs(새집증후군)제거, 오존발생없음|미세먼지 : 초미세먼지제거|필터단계 : 3단계필터|탈취효율 : 99.5%|부가기능 : 초미세먼지농도표시, 공기오염알림, 필터점검알림, 무드램프, 풍량조절, 차일드락, 먼지,가스센서, 버튼잠금, 잠금장치, 360도배출, LED램프, 오토센서, LED디스플레이|모드 : 취침모드, 자동, 저소음, 정음, 터보, BLDC모터|정화단계 : 4단계|정화능력(CADR) : 1.7㎥|센서 : PM10, 먼지, 냄새, 가스|소음 : 41dB|풍량조절 : 4단|용도 : 가정용, 탁상용, 애완동물악취제거용|전원 : 어댑터충전|품목 : 공기청정기|형태 : 스탠드형|제품크기 : 26 x 24.7 x 35.5 cm|무게 : 2.6kg|출시년도 : 2020년|청정도표시 : 3단계\n",
      "사용면적 : 59.4㎡|필터 : 토탈알러지집진필터, 토탈유해가스필터, 극세필터, 토탈알러지집진플러스필터|인증 : CA공기청정인증, BAF아토피인증, KAF천식협회인증|에너지효율 : 2등급|소비전력 : 48W|청정방식 : 복합식(필터+이온), 필터식|청정기능 : 미세먼지제거, VOCs(새집증후군)제거|미세먼지 : 초미세먼지제거|필터단계 : 3단계필터|부가기능 : 리모컨, 필터점검알림, 무드램프, 스마트폰제어, 360도배출, 클린부스터, 에어홀, 오토센서, SmartThinQ|모드 : 취침모드, 자동, 터보, 싱글청정, 예약|정화단계 : 6단계|이온 : 제균이오나이저(음이온+제균)|센서 : PM1.0, 냄새|풍량조절 : 3단|용도 : 가정용|품목 : 공기청정기|형태 : 스탠드형|제품크기 : 343 x 587 x 343mm|무게 : 11.5kg|청정도표시 : 4단계\n",
      "사용면적 : 92.4㎡|필터 : 분리형필터, 토탈유해가스필터, 극세필터, 토탈알러지집진플러스필터|인증 : CA공기청정인증, BAF아토피인증, KAF천식협회인증|에너지효율 : 2등급|소비전력 : 70W|청정방식 : 필터식|청정기능 : 미세먼지제거, 바이러스제거|미세먼지 : 초미세먼지제거|필터단계 : 3단계필터|탈취효율 : 99.9%|부가기능 : 초미세먼지농도표시, 필터점검알림, 버튼잠금, 자가진단, 스마트폰제어, 클린부스터, 디스플레이, 오토센서, SmartThinQ|모드 : 자동, 항균, 유아모드, 터보, 회전, 듀얼청정, 싱글청정, 예약|정화단계 : 4단계|센서 : PM1.0, 냄새|풍량조절 : 3단|용도 : 가정용|품목 : 공기청정기|형태 : 스탠드형|제품크기 : 376 x 1073 x 376mm|무게 : 19kg|청정도표시 : 4단계\n",
      "\n",
      "---백화점/홈쇼핑--\n",
      "\n"
     ]
    },
    {
     "name": "stderr",
     "output_type": "stream",
     "text": [
      "C:\\Users\\bitcamp\\AppData\\Local\\Temp/ipykernel_728/2449066526.py:83: DeprecationWarning: find_element_by_* commands are deprecated. Please use find_element() instead\n",
      "  driver.find_element_by_css_selector(\"#__next > div > div.style_container__1YjHN > div > div.style_content_wrap__1PzEo > div.style_content__2T20F > div.seller_filter_area > ul > li:nth-child(4) > a\").click()\n"
     ]
    },
    {
     "name": "stdout",
     "output_type": "stream",
     "text": [
      "[위닉스] 위닉스 타워프라임 공기청정기 APRM833-JWK\n",
      "[렌탈][LG전자] 공기청정기 퓨리케어 360도 펫 에어로타워 LLA/36개월 의무사용\n",
      "[LG헬로비전가입 LG공기청정기 19평형 AS191DWFA]\n",
      "[40㎡] 삼성 블루스카이 3000 공기청정기 (AX40A5311WMD)\n",
      "[다이슨] 다이슨 TP09 쿨 포름알데히드 공기청정기 화이트/골드\n",
      "사용면적 : 85.8㎡(26평)|필터 : 프리필터, 탈취필터, 집진필터, 마이크로집진필터|인증 : CA공기청정인증, KAA아토피인증|에너지효율 : 1등급|소비전력 : 47W|청정방식 : 필터식|청정기능 : 미세먼지제거, VOCs(새집증후군)제거|미세먼지 : 초미세먼지제거|필터단계 : 3단계필터|부가기능 : 필터점검알림, 이동바퀴, 스마트폰제어, 360도배출, 오토센서, 조도센서|모드 : 취침모드, 탈취, 자동, 터보, 슈퍼청정|센서 : PM2.5, 냄새, 가스|풍량조절 : 4단|용도 : 가정용|품목 : 공기청정기|형태 : 스탠드형|제품크기 : 39 x 75 x 39cm|무게 : 8.5kg|청정도표시 : 4단계\n",
      "사용면적 : 40㎡(12.1평)|필터 : 숯탈취필터, 극세필터, 미세먼지집진필터|인증 : CA공기청정인증|에너지효율 : 3등급|청정방식 : 필터식|청정기능 : VOCs(새집증후군)제거|미세먼지 : 초미세먼지제거|필터단계 : 3단계필터|부가기능 : 필터점검알림, 타이머, 무드램프, 버튼잠금, 소프트터치, 이동손잡이, LED디스플레이|모드 : 취침모드, 자동|센서 : PM10, 먼지, 가스|풍량조절 : 3단|품목 : 공기청정기|제품크기 : 35 x 64 x 35cm|무게 : 9.2kg|출시년도 : 2021년|청정도표시 : 4단계\n",
      "필터 : 카본필터, 글래스HEPA필터|필터등급 : H13등급|청정방식 : 필터식|청정기능 : 포름알데히드제거|미세먼지 : 초미세먼지제거|탈취효율 : 99.95%|부가기능 : 리모컨, 필터점검알림, 풍량조절, 스마트폰제어, IoT음성인식|모드 : 자동, 야간|정화단계 : 3단계|센서 : 포름알데히드센서|소음 : 61.5dB|풍량조절 : 10단|용도 : 가정용|품목 : 공기청정기|형태 : 스탠드형|제품크기 : 120 x 204 x 1050mm|무게 : 4.65kg\n",
      "---overseas---\n"
     ]
    },
    {
     "name": "stderr",
     "output_type": "stream",
     "text": [
      "C:\\Users\\bitcamp\\AppData\\Local\\Temp/ipykernel_728/2449066526.py:105: DeprecationWarning: find_element_by_* commands are deprecated. Please use find_element() instead\n",
      "  driver.find_element_by_css_selector(\"#__next > div > div.style_container__1YjHN > div.style_inner__18zZX > div.style_content_wrap__1PzEo > div.style_content__2T20F > div.seller_filter_area > ul > li:nth-child(6) > a\").click()\n"
     ]
    },
    {
     "name": "stdout",
     "output_type": "stream",
     "text": [
      "샤오미 미에어 2S\n",
      "샤오미 미에어 프로\n",
      "샤오미 공기청정기 미에어4 lite 2021년 최신모델\n",
      "미소우 샤오미공기청정기 가습기 헤더 ﻿ 2/2S/3세대/PRO 호환\n",
      "샤오미 공기청정기4 lite 220V코드 미에어4 라이트 AC-M17-SC\n",
      "사용면적 : 37㎡|필터 : 헤파필터, 프리필터, 활성탄필터|필터등급 : E11등급|소비전력 : 29W|청정방식 : 필터식|청정기능 : VOCs(새집증후군)제거|부가기능 : IoT/사물인터넷, 필터점검알림, 타이머, 습도표시, 스마트폰제어|모드 : 취침모드, 자동|품목 : 공기청정기\n",
      "사용면적 : 60㎡|필터 : 헤파필터|소비전력 : 66W|청정방식 : 필터식|필터단계 : 3단계필터|부가기능 : 초미세먼지농도표시, 공기오염알림, IoT/사물인터넷, 필터점검알림, 타이머, 차일드락, 버튼잠금, 습도표시, 온도표시, 스마트폰제어, 온습도표시, 오토센서, OLED디스플레이|모드 : 취침모드|정화능력(CADR) : 500㎡|센서 : PM2.5, 습도|풍량조절 : 가능|용도 : 가정용|품목 : 공기청정기|형태 : 스탠드형|제품크기 : 735 x 260 x 260mm|무게 : 9.7kg|청정도표시 : 3단계\n",
      "사용면적 : 45㎡|필터 : 항균필터, 살균필터, 헤파필터|필터등급 : H13등급|정화단계 : 3단계|형태 : 스탠드형\n",
      "사용면적 : 60㎡|용도 : 가정용|품목 : 공기청정기|형태 : 스탠드형\n",
      "사용면적 : 45|필터 : 항균필터, 헤파필터|필터등급 : H13등급|정화단계 : 3단계|형태 : 스탠드형\n"
     ]
    },
    {
     "name": "stderr",
     "output_type": "stream",
     "text": [
      "127.0.0.1 - - [20/May/2022 15:44:22] \"POST /naver_shopping HTTP/1.1\" 200 -\n"
     ]
    }
   ],
   "source": [
    "from flask import Flask, render_template, request\n",
    "import requests\n",
    "from bs4 import BeautifulSoup\n",
    "from selenium import webdriver\n",
    "import time\n",
    "\n",
    "app = Flask(__name__)\n",
    "\n",
    "\n",
    "#엑셀 import\n",
    "# from openpyxl import Workbook\n",
    "# write_wb = Workbook()\n",
    "# write_ws = write_wb.active\n",
    "\n",
    "#셀레니움\n",
    "from selenium import webdriver\n",
    "\n",
    "@app.route('/')\n",
    "def hello_world():\n",
    "    return render_template(\"index9.html\")\n",
    "\n",
    "\n",
    "@app.route('/result', methods=['POST'])\n",
    "def result() :\n",
    "\n",
    "    if request.method == 'POST' :\n",
    "\n",
    "        keyword = request.form['input1']\n",
    "        page = request.form['input2']\n",
    "\n",
    "        daum_list = []\n",
    "\n",
    "        driver = webdriver.Chrome()\n",
    "\n",
    "        for i in range(1, int(page)+1) :\n",
    "            url = 'https://search.daum.net/search?w=news&DA=PGD&enc=utf8&cluster=y&cluster_page=1&q={}&p={}'.format(keyword, i)\n",
    "            driver.get(url)\n",
    "            time.sleep(2)\n",
    "\n",
    "            html = driver.page_source\n",
    "            soup = BeautifulSoup(html, 'html.parser')\n",
    "           \n",
    "            for i in soup.select('#newsColl > div.cont_divider > ul > li > div.wrap_cont > a') :\n",
    "                daum_list.append(i.text)\n",
    "\n",
    "        return render_template('result1.html', daum_list = daum_list)\n",
    "\n",
    "\n",
    "@app.route('/naver_shopping', methods=['POST'])\n",
    "def naver() :\n",
    "\n",
    "    search = request.form['input3']\n",
    "\n",
    "    total_list = []\n",
    "    total_desc = []\n",
    "\n",
    "    driver = webdriver.Chrome()\n",
    "\n",
    "    driver.implicitly_wait(3)\n",
    "\n",
    "    driver.get(\"https://search.shopping.naver.com/search/all_search.nhn?query=\" + search + \"&cat_id=&frm=NVSHATC\")\n",
    "    driver.implicitly_wait(3)\n",
    "    time.sleep(2)\n",
    "\n",
    "    soup = BeautifulSoup(driver.page_source, 'html.parser')\n",
    "\n",
    "    # for i in soup.select(\"#_search_list > div.search_list.basis > ul > li\") :\n",
    "    #     print(i.find(\"a\", class_=\"link\").text)\n",
    "\n",
    "    for i in soup.select(\"#__next > div > div.style_container__1YjHN > div > div.style_content_wrap__1PzEo > div.style_content__2T20F > ul > div > div > li > div > div.basicList_info_area__17Xyo > div.basicList_title__3P9Q7 > a\") :\n",
    "            print(i.text)\n",
    "            total_list.append(i.text)\n",
    "\n",
    "    path = '#__next > div > div.style_container__1YjHN > div.style_inner__18zZX > div.style_content_wrap__1PzEo > div.style_content__2T20F > ul > div > div > li > div > div.basicList_info_area__17Xyo > div.basicList_desc__2-tko > div.basicList_detail_box__3ta3h'\n",
    "    for i in soup.select(path):\n",
    "        print(i.text)\n",
    "        total_desc.append(i.text)\n",
    "\n",
    "    print()\n",
    "    print(\"---백화점/홈쇼핑--\")\n",
    "    print()\n",
    "\n",
    "    driver.find_element_by_css_selector(\"#__next > div > div.style_container__1YjHN > div > div.style_content_wrap__1PzEo > div.style_content__2T20F > div.seller_filter_area > ul > li:nth-child(4) > a\").click()\n",
    "    driver.implicitly_wait(3)\n",
    "    time.sleep(2)\n",
    "\n",
    "    department_list = []\n",
    "    department_desc = []\n",
    "\n",
    "    soup = BeautifulSoup(driver.page_source, 'html.parser')\n",
    "\n",
    "    for i in soup.select(\"#__next > div > div.style_container__1YjHN > div > div.style_content_wrap__1PzEo > div.style_content__2T20F > ul > div > div > li > div > div.basicList_info_area__17Xyo > div.basicList_title__3P9Q7 > a\") :\n",
    "            print(i.text)\n",
    "            department_list.append(i.text)\n",
    "\n",
    "    path = '#__next > div > div.style_container__1YjHN > div.style_inner__18zZX > div.style_content_wrap__1PzEo > div.style_content__2T20F > ul > div > div > li > div > div.basicList_info_area__17Xyo > div.basicList_desc__2-tko.basicList_max__boWiv > div.basicList_detail_box__3ta3h'\n",
    "    for i in soup.select(path):\n",
    "        print(i.text)\n",
    "        department_desc.append(i.text)\n",
    "\n",
    "    time.sleep(1)\n",
    "\n",
    "    print(\"---overseas---\")\n",
    "\n",
    "    driver.find_element_by_css_selector(\"#__next > div > div.style_container__1YjHN > div.style_inner__18zZX > div.style_content_wrap__1PzEo > div.style_content__2T20F > div.seller_filter_area > ul > li:nth-child(6) > a\").click()\n",
    "    driver.implicitly_wait(3)\n",
    "    time.sleep(2)\n",
    "\n",
    "    oversea_list = []\n",
    "    oversea_desc = []\n",
    "\n",
    "    soup = BeautifulSoup(driver.page_source, 'html.parser')\n",
    "\n",
    "    for i in soup.select(\"#__next > div > div.style_container__1YjHN > div.style_inner__18zZX > div.style_content_wrap__1PzEo > div.style_content__2T20F > ul > div > div > li > div > div.basicList_info_area__17Xyo > div.basicList_title__3P9Q7 > a\") :\n",
    "            print(i.text)\n",
    "            oversea_list.append(i.text)\n",
    "\n",
    "    path = '#__next > div > div.style_container__1YjHN > div.style_inner__18zZX > div.style_content_wrap__1PzEo > div.style_content__2T20F > ul > div > div > li > div > div.basicList_info_area__17Xyo > div.basicList_desc__2-tko > div.basicList_detail_box__3ta3h'\n",
    "    for i in soup.select(path):\n",
    "        print(i.text)\n",
    "        oversea_desc.append(i.text)\n",
    "\n",
    "    driver.close()\n",
    "\n",
    "    return render_template('naver_shopping1_2.html', \\\n",
    "        total_list=total_list, total_desc=total_desc, total_len=len(total_list), \\\n",
    "        department_list=department_list, department_desc=department_desc, department_len=len(department_list), \\\n",
    "        oversea_list=oversea_list, oversea_desc=oversea_desc, oversea_len=len(oversea_list))\n",
    "\n",
    "if __name__ == '__main__':\n",
    "    app.run(host='127.0.0.1', port='8080')\n"
   ]
  },
  {
   "cell_type": "code",
   "execution_count": null,
   "id": "be0d35f1",
   "metadata": {},
   "outputs": [],
   "source": []
  }
 ],
 "metadata": {
  "kernelspec": {
   "display_name": "Python 3 (ipykernel)",
   "language": "python",
   "name": "python3"
  },
  "language_info": {
   "codemirror_mode": {
    "name": "ipython",
    "version": 3
   },
   "file_extension": ".py",
   "mimetype": "text/x-python",
   "name": "python",
   "nbconvert_exporter": "python",
   "pygments_lexer": "ipython3",
   "version": "3.9.7"
  },
  "varInspector": {
   "cols": {
    "lenName": 16,
    "lenType": 16,
    "lenVar": 40
   },
   "kernels_config": {
    "python": {
     "delete_cmd_postfix": "",
     "delete_cmd_prefix": "del ",
     "library": "var_list.py",
     "varRefreshCmd": "print(var_dic_list())"
    },
    "r": {
     "delete_cmd_postfix": ") ",
     "delete_cmd_prefix": "rm(",
     "library": "var_list.r",
     "varRefreshCmd": "cat(var_dic_list()) "
    }
   },
   "types_to_exclude": [
    "module",
    "function",
    "builtin_function_or_method",
    "instance",
    "_Feature"
   ],
   "window_display": false
  }
 },
 "nbformat": 4,
 "nbformat_minor": 5
}
