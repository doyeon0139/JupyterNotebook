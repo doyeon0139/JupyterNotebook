{
 "cells": [
  {
   "cell_type": "code",
   "execution_count": 3,
   "id": "65ee6f27",
   "metadata": {},
   "outputs": [
    {
     "name": "stdout",
     "output_type": "stream",
     "text": [
      " * Serving Flask app \"__main__\" (lazy loading)\n",
      " * Environment: production\n",
      "\u001b[31m   WARNING: This is a development server. Do not use it in a production deployment.\u001b[0m\n",
      "\u001b[2m   Use a production WSGI server instead.\u001b[0m\n",
      " * Debug mode: off\n"
     ]
    },
    {
     "name": "stderr",
     "output_type": "stream",
     "text": [
      " * Running on all addresses.\n",
      "   WARNING: This is a development server. Do not use it in a production deployment.\n",
      " * Running on http://192.168.0.11:8080/ (Press CTRL+C to quit)\n",
      "192.168.0.11 - - [19/May/2022 12:55:49] \"GET / HTTP/1.1\" 404 -\n",
      "[2022-05-19 12:55:57,782] ERROR in app: Exception on /hello_loop [GET]\n",
      "Traceback (most recent call last):\n",
      "  File \"C:\\Users\\bitcamp\\Anaconda3\\lib\\site-packages\\flask\\app.py\", line 2447, in wsgi_app\n",
      "    response = self.full_dispatch_request()\n",
      "  File \"C:\\Users\\bitcamp\\Anaconda3\\lib\\site-packages\\flask\\app.py\", line 1952, in full_dispatch_request\n",
      "    rv = self.handle_user_exception(e)\n",
      "  File \"C:\\Users\\bitcamp\\Anaconda3\\lib\\site-packages\\flask\\app.py\", line 1821, in handle_user_exception\n",
      "    reraise(exc_type, exc_value, tb)\n",
      "  File \"C:\\Users\\bitcamp\\Anaconda3\\lib\\site-packages\\flask\\_compat.py\", line 39, in reraise\n",
      "    raise value\n",
      "  File \"C:\\Users\\bitcamp\\Anaconda3\\lib\\site-packages\\flask\\app.py\", line 1950, in full_dispatch_request\n",
      "    rv = self.dispatch_request()\n",
      "  File \"C:\\Users\\bitcamp\\Anaconda3\\lib\\site-packages\\flask\\app.py\", line 1936, in dispatch_request\n",
      "    return self.view_functions[rule.endpoint](**req.view_args)\n",
      "TypeError: hello_loop() missing 1 required positional argument: 'user'\n",
      "192.168.0.11 - - [19/May/2022 12:55:57] \"GET /hello_loop HTTP/1.1\" 500 -\n"
     ]
    }
   ],
   "source": [
    "from flask import Flask, render_template\n",
    "\n",
    "app = Flask(__name__)\n",
    "\n",
    "\n",
    "@app.route('/hello_loop')\n",
    "def hello_loop(user):\n",
    "    value_list = ['윤석열', '화난다', '나쁜말']\n",
    "    return render_template('loop.html', values=value_list)\n",
    "\n",
    "\n",
    "if __name__ == '__main__':\n",
    "    app.run(host='0.0.0.0', port='8080')"
   ]
  },
  {
   "cell_type": "code",
   "execution_count": 9,
   "id": "f9c9ed7e",
   "metadata": {},
   "outputs": [
    {
     "name": "stdout",
     "output_type": "stream",
     "text": [
      " * Serving Flask app \"__main__\" (lazy loading)\n",
      " * Environment: production\n",
      "\u001b[31m   WARNING: This is a development server. Do not use it in a production deployment.\u001b[0m\n",
      "\u001b[2m   Use a production WSGI server instead.\u001b[0m\n",
      " * Debug mode: off\n"
     ]
    },
    {
     "name": "stderr",
     "output_type": "stream",
     "text": [
      " * Running on all addresses.\n",
      "   WARNING: This is a development server. Do not use it in a production deployment.\n",
      " * Running on http://192.168.0.11:8080/ (Press CTRL+C to quit)\n",
      "192.168.0.11 - - [19/May/2022 14:24:38] \"GET / HTTP/1.1\" 404 -\n",
      "192.168.0.11 - - [19/May/2022 14:24:52] \"GET /hello_if/18 HTTP/1.1\" 200 -\n",
      "192.168.0.11 - - [19/May/2022 14:25:01] \"GET /hello_if?18 HTTP/1.1\" 404 -\n",
      "192.168.0.11 - - [19/May/2022 14:25:16] \"GET / HTTP/1.1\" 404 -\n",
      "192.168.0.11 - - [19/May/2022 14:25:25] \"GET /hello_if/18 HTTP/1.1\" 200 -\n",
      "192.168.0.11 - - [19/May/2022 14:26:09] \"GET /hello_if/18?18 HTTP/1.1\" 200 -\n"
     ]
    }
   ],
   "source": [
    "from flask import Flask, render_template\n",
    "\n",
    "app = Flask(__name__)\n",
    "\n",
    "\n",
    "@app.route('/hello_if/<age>')\n",
    "def hello_if(age):\n",
    "    return render_template('if.html', data=int(age))\n",
    "\n",
    "\n",
    "if __name__ == '__main__':\n",
    "    app.run(host='0.0.0.0', port='8080')"
   ]
  },
  {
   "cell_type": "code",
   "execution_count": null,
   "id": "56117340",
   "metadata": {},
   "outputs": [],
   "source": []
  },
  {
   "cell_type": "code",
   "execution_count": 14,
   "id": "1de1881e",
   "metadata": {},
   "outputs": [
    {
     "name": "stdout",
     "output_type": "stream",
     "text": [
      " * Serving Flask app \"__main__\" (lazy loading)\n",
      " * Environment: production\n",
      "\u001b[31m   WARNING: This is a development server. Do not use it in a production deployment.\u001b[0m\n",
      "\u001b[2m   Use a production WSGI server instead.\u001b[0m\n",
      " * Debug mode: off\n"
     ]
    },
    {
     "name": "stderr",
     "output_type": "stream",
     "text": [
      " * Running on all addresses.\n",
      "   WARNING: This is a development server. Do not use it in a production deployment.\n",
      " * Running on http://192.168.0.11:8080/ (Press CTRL+C to quit)\n",
      "192.168.0.11 - - [19/May/2022 14:54:18] \"GET / HTTP/1.1\" 404 -\n",
      "192.168.0.11 - - [19/May/2022 14:54:29] \"GET /login HTTP/1.1\" 200 -\n"
     ]
    },
    {
     "name": "stdout",
     "output_type": "stream",
     "text": [
      "None None\n"
     ]
    },
    {
     "name": "stderr",
     "output_type": "stream",
     "text": [
      "192.168.0.11 - - [19/May/2022 14:54:55] \"GET /html_data HTTP/1.1\" 404 -\n",
      "192.168.0.11 - - [19/May/2022 14:55:04] \"GET /html_test HTTP/1.1\" 200 -\n",
      "192.168.0.11 - - [19/May/2022 14:55:15] \"GET /blog HTTP/1.1\" 200 -\n"
     ]
    }
   ],
   "source": [
    "from flask import Flask, jsonify, request, render_template\n",
    "\n",
    "app = Flask(__name__)\n",
    "session_count = 0\n",
    "\n",
    "@app.route('/login')\n",
    "def login():\n",
    "    email_address = request.args.get('email_address')\n",
    "    passwd = request.args.get('passwd')\n",
    "    print(email_address, passwd)\n",
    "    \n",
    "    if email_address == 'bit@gmail.com' and passwd == '1111':\n",
    "        return_data = {'auth':'sucess'}\n",
    "    else:\n",
    "        return_data = {'auth': 'failed'}\n",
    "        \n",
    "    return return_data\n",
    "    \n",
    "@app.route('/html_test')\n",
    "def hello_html():\n",
    "    return render_template('login_rawtest.html')\n",
    "\n",
    "def get_blog_page():\n",
    "    global session_count\n",
    "    session_count += 1\n",
    "    if session_count %2 == 0:\n",
    "        return 'blog_A.html'\n",
    "    else:\n",
    "        return 'blog_B.html'\n",
    "\n",
    "@app.route('/blog')\n",
    "def blog_html():\n",
    "    blog_name = get_blog_page()\n",
    "    return render_template(blog_name)\n",
    "    \n",
    "\n",
    "\n",
    "if __name__ == '__main__':\n",
    "    app.run(host='0.0.0.0', port='8080')"
   ]
  },
  {
   "cell_type": "code",
   "execution_count": null,
   "id": "4ce8b546",
   "metadata": {},
   "outputs": [],
   "source": []
  },
  {
   "cell_type": "code",
   "execution_count": null,
   "id": "90bee4bb",
   "metadata": {},
   "outputs": [],
   "source": []
  },
  {
   "cell_type": "code",
   "execution_count": null,
   "id": "c83bd3ae",
   "metadata": {},
   "outputs": [],
   "source": []
  },
  {
   "cell_type": "code",
   "execution_count": null,
   "id": "9b08a069",
   "metadata": {},
   "outputs": [],
   "source": []
  },
  {
   "cell_type": "code",
   "execution_count": null,
   "id": "edc0f710",
   "metadata": {},
   "outputs": [],
   "source": []
  },
  {
   "cell_type": "code",
   "execution_count": null,
   "id": "92e40254",
   "metadata": {},
   "outputs": [],
   "source": []
  },
  {
   "cell_type": "code",
   "execution_count": null,
   "id": "d42a3814",
   "metadata": {},
   "outputs": [],
   "source": []
  },
  {
   "cell_type": "code",
   "execution_count": null,
   "id": "ed28966b",
   "metadata": {},
   "outputs": [],
   "source": []
  },
  {
   "cell_type": "code",
   "execution_count": null,
   "id": "dbba0089",
   "metadata": {},
   "outputs": [],
   "source": []
  },
  {
   "cell_type": "code",
   "execution_count": null,
   "id": "7e9e2d98",
   "metadata": {},
   "outputs": [],
   "source": []
  },
  {
   "cell_type": "code",
   "execution_count": null,
   "id": "dcc30897",
   "metadata": {},
   "outputs": [],
   "source": []
  },
  {
   "cell_type": "code",
   "execution_count": null,
   "id": "b7d2ed57",
   "metadata": {},
   "outputs": [],
   "source": []
  },
  {
   "cell_type": "code",
   "execution_count": null,
   "id": "4e8b5bdb",
   "metadata": {},
   "outputs": [],
   "source": []
  },
  {
   "cell_type": "code",
   "execution_count": null,
   "id": "f080605f",
   "metadata": {},
   "outputs": [],
   "source": []
  },
  {
   "cell_type": "code",
   "execution_count": null,
   "id": "67af5c98",
   "metadata": {},
   "outputs": [],
   "source": []
  },
  {
   "cell_type": "code",
   "execution_count": null,
   "id": "efc17f2a",
   "metadata": {},
   "outputs": [],
   "source": []
  }
 ],
 "metadata": {
  "kernelspec": {
   "display_name": "Python 3 (ipykernel)",
   "language": "python",
   "name": "python3"
  },
  "language_info": {
   "codemirror_mode": {
    "name": "ipython",
    "version": 3
   },
   "file_extension": ".py",
   "mimetype": "text/x-python",
   "name": "python",
   "nbconvert_exporter": "python",
   "pygments_lexer": "ipython3",
   "version": "3.9.7"
  },
  "varInspector": {
   "cols": {
    "lenName": 16,
    "lenType": 16,
    "lenVar": 40
   },
   "kernels_config": {
    "python": {
     "delete_cmd_postfix": "",
     "delete_cmd_prefix": "del ",
     "library": "var_list.py",
     "varRefreshCmd": "print(var_dic_list())"
    },
    "r": {
     "delete_cmd_postfix": ") ",
     "delete_cmd_prefix": "rm(",
     "library": "var_list.r",
     "varRefreshCmd": "cat(var_dic_list()) "
    }
   },
   "types_to_exclude": [
    "module",
    "function",
    "builtin_function_or_method",
    "instance",
    "_Feature"
   ],
   "window_display": false
  }
 },
 "nbformat": 4,
 "nbformat_minor": 5
}
