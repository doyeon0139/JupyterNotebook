{
 "cells": [
  {
   "cell_type": "code",
   "execution_count": 1,
   "id": "91ad4af4",
   "metadata": {},
   "outputs": [
    {
     "name": "stdout",
     "output_type": "stream",
     "text": [
      " * Serving Flask app \"__main__\" (lazy loading)\n",
      " * Environment: production\n",
      "\u001b[31m   WARNING: This is a development server. Do not use it in a production deployment.\u001b[0m\n",
      "\u001b[2m   Use a production WSGI server instead.\u001b[0m\n",
      " * Debug mode: off\n"
     ]
    },
    {
     "name": "stderr",
     "output_type": "stream",
     "text": [
      " * Running on all addresses.\n",
      "   WARNING: This is a development server. Do not use it in a production deployment.\n",
      " * Running on http://192.168.0.11:8080/ (Press CTRL+C to quit)\n",
      "192.168.0.11 - - [19/May/2022 15:42:01] \"GET / HTTP/1.1\" 404 -\n",
      "[2022-05-19 15:42:10,784] ERROR in app: Exception on /daum_news [GET]\n",
      "Traceback (most recent call last):\n",
      "  File \"C:\\Users\\bitcamp\\Anaconda3\\lib\\site-packages\\selenium\\webdriver\\common\\service.py\", line 71, in start\n",
      "    self.process = subprocess.Popen(cmd, env=self.env,\n",
      "  File \"C:\\Users\\bitcamp\\Anaconda3\\lib\\subprocess.py\", line 951, in __init__\n",
      "    self._execute_child(args, executable, preexec_fn, close_fds,\n",
      "  File \"C:\\Users\\bitcamp\\Anaconda3\\lib\\subprocess.py\", line 1420, in _execute_child\n",
      "    hp, ht, pid, tid = _winapi.CreateProcess(executable, args,\n",
      "FileNotFoundError: [WinError 2] 지정된 파일을 찾을 수 없습니다\n",
      "\n",
      "During handling of the above exception, another exception occurred:\n",
      "\n",
      "Traceback (most recent call last):\n",
      "  File \"C:\\Users\\bitcamp\\Anaconda3\\lib\\site-packages\\flask\\app.py\", line 2447, in wsgi_app\n",
      "    response = self.full_dispatch_request()\n",
      "  File \"C:\\Users\\bitcamp\\Anaconda3\\lib\\site-packages\\flask\\app.py\", line 1952, in full_dispatch_request\n",
      "    rv = self.handle_user_exception(e)\n",
      "  File \"C:\\Users\\bitcamp\\Anaconda3\\lib\\site-packages\\flask\\app.py\", line 1821, in handle_user_exception\n",
      "    reraise(exc_type, exc_value, tb)\n",
      "  File \"C:\\Users\\bitcamp\\Anaconda3\\lib\\site-packages\\flask\\_compat.py\", line 39, in reraise\n",
      "    raise value\n",
      "  File \"C:\\Users\\bitcamp\\Anaconda3\\lib\\site-packages\\flask\\app.py\", line 1950, in full_dispatch_request\n",
      "    rv = self.dispatch_request()\n",
      "  File \"C:\\Users\\bitcamp\\Anaconda3\\lib\\site-packages\\flask\\app.py\", line 1936, in dispatch_request\n",
      "    return self.view_functions[rule.endpoint](**req.view_args)\n",
      "  File \"C:\\Users\\bitcamp\\AppData\\Local\\Temp/ipykernel_13632/2434761461.py\", line 15, in daum_news\n",
      "    driver = webdriver.Chrome()\n",
      "  File \"C:\\Users\\bitcamp\\Anaconda3\\lib\\site-packages\\selenium\\webdriver\\chrome\\webdriver.py\", line 70, in __init__\n",
      "    super(WebDriver, self).__init__(DesiredCapabilities.CHROME['browserName'], \"goog\",\n",
      "  File \"C:\\Users\\bitcamp\\Anaconda3\\lib\\site-packages\\selenium\\webdriver\\chromium\\webdriver.py\", line 90, in __init__\n",
      "    self.service.start()\n",
      "  File \"C:\\Users\\bitcamp\\Anaconda3\\lib\\site-packages\\selenium\\webdriver\\common\\service.py\", line 81, in start\n",
      "    raise WebDriverException(\n",
      "selenium.common.exceptions.WebDriverException: Message: 'chromedriver' executable needs to be in PATH. Please see https://chromedriver.chromium.org/home\n",
      "\n",
      "192.168.0.11 - - [19/May/2022 15:42:10] \"GET /daum_news HTTP/1.1\" 500 -\n"
     ]
    }
   ],
   "source": [
    "from flask import Flask, render_template\n",
    "\n",
    "app = Flask(__name__)\n",
    "\n",
    "import requests\n",
    "from bs4 import BeautifulSoup\n",
    "\n",
    "from selenium import webdriver\n",
    "import time\n",
    "\n",
    "@app.route('/daum_news')\n",
    "def daum_news():\n",
    "    url = 'https://news.daum.net/'\n",
    "    \n",
    "    driver = webdriver.Chrome()\n",
    "    \n",
    "    time.sleep(1)\n",
    "    driver.get(url)\n",
    "    time.sleep(3)\n",
    "    \n",
    "    html = driver.page_source\n",
    "    soup = BeautifulSoup(html, 'html.parser')\n",
    "    \n",
    "    myList = []\n",
    "    \n",
    "    path = 'body > div.container-doc > main > section > div > div.content-article > div.box_g.box_news_issue > ul > li > div > div > strong > a'\n",
    "    for i in soup.select(path):\n",
    "        myList.append(i.text)\n",
    "        print(i.text)\n",
    "        \n",
    "    return render_template('index_1.html', list=myList)\n",
    "\n",
    "@app.route('/about')\n",
    "def about():\n",
    "    return 'about page 입니다'\n",
    "\n",
    "if __name__ == '__main__':\n",
    "    app.run(host='0.0.0.0', port='8080')"
   ]
  },
  {
   "cell_type": "code",
   "execution_count": null,
   "id": "a09b1cf9",
   "metadata": {},
   "outputs": [],
   "source": []
  }
 ],
 "metadata": {
  "kernelspec": {
   "display_name": "Python 3 (ipykernel)",
   "language": "python",
   "name": "python3"
  },
  "language_info": {
   "codemirror_mode": {
    "name": "ipython",
    "version": 3
   },
   "file_extension": ".py",
   "mimetype": "text/x-python",
   "name": "python",
   "nbconvert_exporter": "python",
   "pygments_lexer": "ipython3",
   "version": "3.9.7"
  },
  "varInspector": {
   "cols": {
    "lenName": 16,
    "lenType": 16,
    "lenVar": 40
   },
   "kernels_config": {
    "python": {
     "delete_cmd_postfix": "",
     "delete_cmd_prefix": "del ",
     "library": "var_list.py",
     "varRefreshCmd": "print(var_dic_list())"
    },
    "r": {
     "delete_cmd_postfix": ") ",
     "delete_cmd_prefix": "rm(",
     "library": "var_list.r",
     "varRefreshCmd": "cat(var_dic_list()) "
    }
   },
   "types_to_exclude": [
    "module",
    "function",
    "builtin_function_or_method",
    "instance",
    "_Feature"
   ],
   "window_display": false
  }
 },
 "nbformat": 4,
 "nbformat_minor": 5
}
