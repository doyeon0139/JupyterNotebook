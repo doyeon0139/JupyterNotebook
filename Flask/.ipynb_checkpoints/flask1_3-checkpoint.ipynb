{
 "cells": [
  {
   "cell_type": "code",
   "execution_count": null,
   "id": "c8d04f71",
   "metadata": {},
   "outputs": [],
   "source": []
  },
  {
   "cell_type": "code",
   "execution_count": 9,
   "id": "74dfdd39",
   "metadata": {
    "scrolled": true
   },
   "outputs": [
    {
     "name": "stdout",
     "output_type": "stream",
     "text": [
      " * Serving Flask app \"__main__\" (lazy loading)\n",
      " * Environment: production\n",
      "\u001b[31m   WARNING: This is a development server. Do not use it in a production deployment.\u001b[0m\n",
      "\u001b[2m   Use a production WSGI server instead.\u001b[0m\n",
      " * Debug mode: off\n"
     ]
    },
    {
     "name": "stderr",
     "output_type": "stream",
     "text": [
      " * Running on all addresses.\n",
      "   WARNING: This is a development server. Do not use it in a production deployment.\n",
      " * Running on http://192.168.0.11:8080/ (Press CTRL+C to quit)\n",
      "192.168.0.11 - - [19/May/2022 12:40:04] \"GET / HTTP/1.1\" 404 -\n"
     ]
    },
    {
     "name": "stdout",
     "output_type": "stream",
     "text": [
      "\n",
      "                                    한동훈, 檢인사 비판에 \"능력·공정 기준..대통령께도 보고했다\"\n",
      "                                \n",
      "\n",
      "                                    '친문' 검사, 명예로운 퇴장 없나..김관정·이정수 퇴직 못한 이유는\n",
      "                                \n",
      "\n",
      "                                    한덕수 표결 앞둔 국민의힘에서 \"정호영 자진사퇴 해 물꼬 터야\" 주장 나와\n",
      "                                \n",
      "\n",
      "                                    \"민주당 경선 소식만 치우친 보도 다수..소수 목소리도 담아야\"[출발 서해안 시대]\n",
      "                                \n",
      "\n",
      "                                    정의당 창원서 출정식.. \"양당 정치 깨고 다양한 시민 삶 반영할 것\"\n",
      "                                \n",
      "\n",
      "                                    이재명, 한국GM노조 만나 \"노동자 뭉치면 선거 큰 영향\"\n",
      "                                \n",
      "\n",
      "                                    이재명 \"안철수는 백두산, 난 계양산..해발고도 비교한 셈\"\n",
      "                                \n",
      "\n",
      "                                    교도소 출소자 10명 중 1명만 취업 성공..미용·숙박업 쏠림도\n",
      "                                \n",
      "\n",
      "                                    정부 \"안심전환대출, 부부 소득 7000만원까지\"\n",
      "                                \n",
      "\n",
      "                                    '빛'이라 불린 게임 개발자, 돌연 사임..충격에 빠진 게이머들\n",
      "                                \n",
      "\n",
      "                                    \"에르도안의 터키, 나토에서 축출해야\" WSJ 기고문\n",
      "                                \n",
      "\n",
      "                                    스웨덴·핀란드 나토 가입 놓고..'反러시아' 단일대오 흔들\n",
      "                                \n",
      "\n",
      "                                    與 \"압승으로 여소야대 극복\".. 野 \"서해벨트 사수 대선 설욕\"\n",
      "                                \n",
      "\n",
      "                                    KIST \"악조건하 수소연료전지 성능 향상 방법 발견\"\n",
      "                                \n",
      "\n",
      "                                    바이든, 삼성 평택공장 방문..대통령실 \"파운드리 역량 중요\"\n",
      "                                \n",
      "\n",
      "                                    소득격차 3분기째 개선..저소득층 고령자 취업 영향\n",
      "                                \n",
      "\n",
      "                                    과기정통부, '소재 연구데이터' 통합 제공 서비스 시작\n",
      "                                \n",
      "\n",
      "                                    1분기 '하위 20%'가 소득 증가율 최고..분배 3개 분기 연속 개선\n",
      "                                \n",
      "\n",
      "                                    취약계층 소득 증가에..소득분배 3분기째 개선세\n",
      "                                \n",
      "\n",
      "                                    한·미, '핵우산+재래전력' 통합억제력 강화.. 북핵 고도화 대응\n",
      "                                \n"
     ]
    },
    {
     "name": "stderr",
     "output_type": "stream",
     "text": [
      "192.168.0.11 - - [19/May/2022 12:40:18] \"GET /daum_news HTTP/1.1\" 200 -\n"
     ]
    }
   ],
   "source": [
    "from flask import Flask, render_template\n",
    "\n",
    "app = Flask(__name__)\n",
    "\n",
    "import requests\n",
    "from bs4 import BeautifulSoup\n",
    "\n",
    "from selenium import webdriver\n",
    "import time\n",
    "\n",
    "@app.route('/daum_news')\n",
    "def daum_news():\n",
    "    url = 'https://news.daum.net/'\n",
    "    \n",
    "    driver = webdriver.Chrome()\n",
    "    \n",
    "    time.sleep(1)\n",
    "    driver.get(url)\n",
    "    time.sleep(3)\n",
    "    \n",
    "    html = driver.page_source\n",
    "    soup = BeautifulSoup(html, 'html.parser')\n",
    "    \n",
    "    myList = []\n",
    "    \n",
    "    path = 'body > div.container-doc > main > section > div > div.content-article > div.box_g.box_news_issue > ul > li > div > div > strong > a'\n",
    "    for i in soup.select(path):\n",
    "        myList.append(i.text)\n",
    "        print(i.text)\n",
    "        \n",
    "    return render_template('index_1.html', list=myList)\n",
    "\n",
    "@app.route('/about')\n",
    "def about():\n",
    "    return 'about page 입니다'\n",
    "\n",
    "if __name__ == '__main__':\n",
    "    app.run(host='0.0.0.0', port='8080')"
   ]
  },
  {
   "cell_type": "markdown",
   "id": "93d9b93b",
   "metadata": {},
   "source": [
    "# Jinja2 템플릿"
   ]
  },
  {
   "cell_type": "code",
   "execution_count": null,
   "id": "517676c1",
   "metadata": {},
   "outputs": [],
   "source": [
    "# {{ 변수명 }}\n",
    "\n",
    "# {% 파이썬 소스코드 %}"
   ]
  },
  {
   "cell_type": "code",
   "execution_count": null,
   "id": "d038cf1c",
   "metadata": {},
   "outputs": [],
   "source": []
  },
  {
   "cell_type": "code",
   "execution_count": null,
   "id": "2efe9e89",
   "metadata": {},
   "outputs": [],
   "source": []
  },
  {
   "cell_type": "code",
   "execution_count": null,
   "id": "11647359",
   "metadata": {},
   "outputs": [],
   "source": []
  },
  {
   "cell_type": "code",
   "execution_count": null,
   "id": "944341a9",
   "metadata": {},
   "outputs": [],
   "source": []
  },
  {
   "cell_type": "code",
   "execution_count": null,
   "id": "3c30f54d",
   "metadata": {},
   "outputs": [],
   "source": []
  },
  {
   "cell_type": "code",
   "execution_count": null,
   "id": "1e209eaa",
   "metadata": {},
   "outputs": [],
   "source": []
  },
  {
   "cell_type": "code",
   "execution_count": null,
   "id": "91cb5104",
   "metadata": {},
   "outputs": [],
   "source": []
  },
  {
   "cell_type": "code",
   "execution_count": null,
   "id": "cf1e7237",
   "metadata": {},
   "outputs": [],
   "source": []
  }
 ],
 "metadata": {
  "kernelspec": {
   "display_name": "Python 3 (ipykernel)",
   "language": "python",
   "name": "python3"
  },
  "language_info": {
   "codemirror_mode": {
    "name": "ipython",
    "version": 3
   },
   "file_extension": ".py",
   "mimetype": "text/x-python",
   "name": "python",
   "nbconvert_exporter": "python",
   "pygments_lexer": "ipython3",
   "version": "3.9.7"
  },
  "varInspector": {
   "cols": {
    "lenName": 16,
    "lenType": 16,
    "lenVar": 40
   },
   "kernels_config": {
    "python": {
     "delete_cmd_postfix": "",
     "delete_cmd_prefix": "del ",
     "library": "var_list.py",
     "varRefreshCmd": "print(var_dic_list())"
    },
    "r": {
     "delete_cmd_postfix": ") ",
     "delete_cmd_prefix": "rm(",
     "library": "var_list.r",
     "varRefreshCmd": "cat(var_dic_list()) "
    }
   },
   "types_to_exclude": [
    "module",
    "function",
    "builtin_function_or_method",
    "instance",
    "_Feature"
   ],
   "window_display": false
  }
 },
 "nbformat": 4,
 "nbformat_minor": 5
}
