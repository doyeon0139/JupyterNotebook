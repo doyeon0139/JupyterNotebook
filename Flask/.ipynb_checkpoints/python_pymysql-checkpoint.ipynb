{
 "cells": [
  {
   "cell_type": "code",
   "execution_count": 1,
   "id": "4ab0b9be",
   "metadata": {},
   "outputs": [],
   "source": [
    "from flask import Flask, render_template, request"
   ]
  },
  {
   "cell_type": "code",
   "execution_count": 2,
   "id": "2c22571c",
   "metadata": {},
   "outputs": [
    {
     "name": "stdout",
     "output_type": "stream",
     "text": [
      "connect\n"
     ]
    }
   ],
   "source": [
    "from flask_db import database as db"
   ]
  },
  {
   "cell_type": "code",
   "execution_count": 3,
   "id": "dd3f24ca",
   "metadata": {},
   "outputs": [],
   "source": [
    "import pymysql"
   ]
  },
  {
   "cell_type": "code",
   "execution_count": 4,
   "id": "fa959e2e",
   "metadata": {},
   "outputs": [
    {
     "name": "stdout",
     "output_type": "stream",
     "text": [
      " * Serving Flask app \"__main__\" (lazy loading)\n",
      " * Environment: production\n",
      "\u001b[31m   WARNING: This is a development server. Do not use it in a production deployment.\u001b[0m\n",
      "\u001b[2m   Use a production WSGI server instead.\u001b[0m\n",
      " * Debug mode: off\n"
     ]
    },
    {
     "name": "stderr",
     "output_type": "stream",
     "text": [
      " * Running on all addresses.\n",
      "   WARNING: This is a development server. Do not use it in a production deployment.\n",
      " * Running on http://192.168.0.11:8080/ (Press CTRL+C to quit)\n",
      "192.168.0.11 - - [20/May/2022 14:24:58] \"GET / HTTP/1.1\" 200 -\n",
      "192.168.0.11 - - [20/May/2022 14:24:59] \"GET /student_list HTTP/1.1\" 200 -\n"
     ]
    }
   ],
   "source": [
    "app = Flask(__name__)\n",
    "\n",
    "@app.route('/')\n",
    "def index():\n",
    "    html = render_template('index.html')\n",
    "    return html\n",
    "\n",
    "@app.route('/student_list')\n",
    "def student_list():\n",
    "    stu_name = request.args.get('stu_name')\n",
    "    stu_list = db.get_student_list(stu_name)\n",
    "    \n",
    "    html = render_template('student_list.html', data_list=stu_list)\n",
    "    \n",
    "    return html\n",
    "\n",
    "@app.route('/show_point')\n",
    "def show_point():\n",
    "    html = render_template('show_point.html')\n",
    "    return html\n",
    "\n",
    "@app.route('/student_info', methods=['get','post'])\n",
    "def student_info():\n",
    "    stu_idx = request.args.get('stu_idx')\n",
    "    result_dic = db.get_student_info(stu_idx)\n",
    "    result_list = db.get_point(stu_idx)\n",
    "    \n",
    "    html  = render_template('student_info.html', data_dic = result_dic, data_list = result_list)\n",
    "    \n",
    "    return html\n",
    "\n",
    "@app.route('/add_student')\n",
    "def add_student():\n",
    "    html = render_template('add_student.html')\n",
    "    return html\n",
    "\n",
    "@app.route('/add_point')\n",
    "def add_point():\n",
    "    stu_idx = request.args.get('stu_idx')\n",
    "    temp_dic = {}\n",
    "    temp_dic['stu_idx'] = stu_idx\n",
    "    \n",
    "    html = render_template('add_point.html', data_dic = temp_dic)\n",
    "    return html\n",
    "\n",
    "@app.route('/add_point_pro', methods=['post'])\n",
    "def add_point_pro():\n",
    "    point_stu_grade = request.form['point_stu_grade']\n",
    "    point_stu_kor = request.form['point_stu_kor']\n",
    "    point_stu_idx = request.form['point_stu_idx']\n",
    "    \n",
    "    db.add_point(point_stu_idx, point_stu_grade, point_stu_kor)\n",
    "    \n",
    "    temp_dic = {}\n",
    "    temp_dic['stu_idx'] = point_stu_idx\n",
    "    html = render_template('add_point_pro.html', data_dic = temp_dic)\n",
    "    \n",
    "    return html\n",
    "\n",
    "@app.route('/add_student_pro', methods=['post'])\n",
    "def add_student_pro():\n",
    "    stu_name = request.form['stu_name']\n",
    "    stu_age = request.form['stu_age']\n",
    "    stu_addr = request.form['stu_addr']\n",
    "    \n",
    "    idx = db.add_student(stu_name, stu_age, stu_addr)\n",
    "    \n",
    "    result_dic = {'stu_idx':idx}\n",
    "    \n",
    "    html = render_template('add_student_pro.html', data_dic = result_dic)\n",
    "    return html\n",
    "\n",
    "\n",
    "app.run(host='0.0.0.0', port='8080')\n",
    "\n",
    "\n",
    "# if __name__ == '__main__':\n",
    "#     app.run(host='127.0.0.1', port='8080')"
   ]
  },
  {
   "cell_type": "code",
   "execution_count": null,
   "id": "e0958941",
   "metadata": {},
   "outputs": [],
   "source": []
  },
  {
   "cell_type": "code",
   "execution_count": null,
   "id": "6127d3ad",
   "metadata": {},
   "outputs": [],
   "source": []
  },
  {
   "cell_type": "code",
   "execution_count": null,
   "id": "bd64bf37",
   "metadata": {},
   "outputs": [],
   "source": []
  },
  {
   "cell_type": "code",
   "execution_count": null,
   "id": "869e8016",
   "metadata": {},
   "outputs": [],
   "source": []
  },
  {
   "cell_type": "code",
   "execution_count": null,
   "id": "005c6921",
   "metadata": {},
   "outputs": [],
   "source": []
  },
  {
   "cell_type": "code",
   "execution_count": null,
   "id": "854257b3",
   "metadata": {},
   "outputs": [],
   "source": []
  },
  {
   "cell_type": "code",
   "execution_count": null,
   "id": "d2a72d12",
   "metadata": {},
   "outputs": [],
   "source": []
  },
  {
   "cell_type": "code",
   "execution_count": null,
   "id": "b9d45c78",
   "metadata": {},
   "outputs": [],
   "source": []
  },
  {
   "cell_type": "code",
   "execution_count": null,
   "id": "99fd6bd1",
   "metadata": {},
   "outputs": [],
   "source": []
  },
  {
   "cell_type": "code",
   "execution_count": null,
   "id": "800ace8e",
   "metadata": {},
   "outputs": [],
   "source": []
  },
  {
   "cell_type": "code",
   "execution_count": null,
   "id": "b3eb0a0d",
   "metadata": {},
   "outputs": [],
   "source": []
  },
  {
   "cell_type": "code",
   "execution_count": null,
   "id": "cf9a20c7",
   "metadata": {},
   "outputs": [],
   "source": []
  },
  {
   "cell_type": "code",
   "execution_count": null,
   "id": "ab8a2836",
   "metadata": {},
   "outputs": [],
   "source": []
  },
  {
   "cell_type": "code",
   "execution_count": null,
   "id": "be0096f4",
   "metadata": {},
   "outputs": [],
   "source": []
  },
  {
   "cell_type": "code",
   "execution_count": null,
   "id": "0e73a5c7",
   "metadata": {},
   "outputs": [],
   "source": []
  },
  {
   "cell_type": "code",
   "execution_count": null,
   "id": "9e39e9f5",
   "metadata": {},
   "outputs": [],
   "source": []
  },
  {
   "cell_type": "code",
   "execution_count": null,
   "id": "5baeea3b",
   "metadata": {},
   "outputs": [],
   "source": []
  },
  {
   "cell_type": "code",
   "execution_count": null,
   "id": "e8203b85",
   "metadata": {},
   "outputs": [],
   "source": []
  },
  {
   "cell_type": "code",
   "execution_count": null,
   "id": "b2222b1a",
   "metadata": {},
   "outputs": [],
   "source": []
  },
  {
   "cell_type": "code",
   "execution_count": null,
   "id": "198a70a1",
   "metadata": {},
   "outputs": [],
   "source": []
  },
  {
   "cell_type": "code",
   "execution_count": null,
   "id": "01b1e8c4",
   "metadata": {},
   "outputs": [],
   "source": []
  },
  {
   "cell_type": "code",
   "execution_count": null,
   "id": "d553c77e",
   "metadata": {},
   "outputs": [],
   "source": []
  },
  {
   "cell_type": "code",
   "execution_count": null,
   "id": "d8f16ac2",
   "metadata": {},
   "outputs": [],
   "source": []
  },
  {
   "cell_type": "code",
   "execution_count": null,
   "id": "9d616b5c",
   "metadata": {},
   "outputs": [],
   "source": []
  },
  {
   "cell_type": "code",
   "execution_count": null,
   "id": "aaaf4eb6",
   "metadata": {},
   "outputs": [],
   "source": []
  }
 ],
 "metadata": {
  "kernelspec": {
   "display_name": "Python 3 (ipykernel)",
   "language": "python",
   "name": "python3"
  },
  "language_info": {
   "codemirror_mode": {
    "name": "ipython",
    "version": 3
   },
   "file_extension": ".py",
   "mimetype": "text/x-python",
   "name": "python",
   "nbconvert_exporter": "python",
   "pygments_lexer": "ipython3",
   "version": "3.9.7"
  },
  "varInspector": {
   "cols": {
    "lenName": 16,
    "lenType": 16,
    "lenVar": 40
   },
   "kernels_config": {
    "python": {
     "delete_cmd_postfix": "",
     "delete_cmd_prefix": "del ",
     "library": "var_list.py",
     "varRefreshCmd": "print(var_dic_list())"
    },
    "r": {
     "delete_cmd_postfix": ") ",
     "delete_cmd_prefix": "rm(",
     "library": "var_list.r",
     "varRefreshCmd": "cat(var_dic_list()) "
    }
   },
   "types_to_exclude": [
    "module",
    "function",
    "builtin_function_or_method",
    "instance",
    "_Feature"
   ],
   "window_display": false
  }
 },
 "nbformat": 4,
 "nbformat_minor": 5
}
