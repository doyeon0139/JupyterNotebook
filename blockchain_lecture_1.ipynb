{
 "cells": [
  {
   "cell_type": "code",
   "execution_count": 1,
   "id": "fb6fbb0d",
   "metadata": {},
   "outputs": [],
   "source": [
    "import hashlib"
   ]
  },
  {
   "cell_type": "code",
   "execution_count": 2,
   "id": "5fdb700a",
   "metadata": {},
   "outputs": [],
   "source": [
    "h = hashlib.sha256()"
   ]
  },
  {
   "cell_type": "code",
   "execution_count": 3,
   "id": "d8101541",
   "metadata": {},
   "outputs": [],
   "source": [
    "h.update(b'Genesis')"
   ]
  },
  {
   "cell_type": "code",
   "execution_count": 4,
   "id": "24178854",
   "metadata": {},
   "outputs": [
    {
     "data": {
      "text/plain": [
       "'81ddc8d248b2dccdd3fdd5e84f0cad62b08f2d10b57f9a831c13451e5c5c80a5'"
      ]
     },
     "execution_count": 4,
     "metadata": {},
     "output_type": "execute_result"
    }
   ],
   "source": [
    "h.hexdigest()"
   ]
  },
  {
   "cell_type": "code",
   "execution_count": 6,
   "id": "e8b0f79b",
   "metadata": {},
   "outputs": [
    {
     "data": {
      "text/plain": [
       "'204db11c74df11e93a790ad800f80ab1eca3ffcce66a3e3f67815ea5c681018d'"
      ]
     },
     "execution_count": 6,
     "metadata": {},
     "output_type": "execute_result"
    }
   ],
   "source": [
    "h.update(b'Genesiis')\n",
    "h.hexdigest()"
   ]
  },
  {
   "cell_type": "code",
   "execution_count": 7,
   "id": "ab948f68",
   "metadata": {},
   "outputs": [],
   "source": [
    "# 암호 저장\n",
    "\n",
    "import os\n",
    "\n",
    "def save_passwd():\n",
    "    with open('passwd.txt', 'w') as f:\n",
    "        passwd = input('패스워드를 입력하세요')\n",
    "        result = hashlib.sha256(passwd.encode())\n",
    "        f.write(result.hexdigest())"
   ]
  },
  {
   "cell_type": "code",
   "execution_count": 8,
   "id": "f9d8dba3",
   "metadata": {},
   "outputs": [
    {
     "name": "stdout",
     "output_type": "stream",
     "text": [
      "패스워드를 입력하세요1234\n"
     ]
    }
   ],
   "source": [
    "save_passwd()"
   ]
  },
  {
   "cell_type": "code",
   "execution_count": 10,
   "id": "42232221",
   "metadata": {},
   "outputs": [],
   "source": [
    "def check_passwd():\n",
    "    if os.path.exists('passwd.txt'):\n",
    "        before_passwd = input('기존의 비밀번호를 입력하세요')\n",
    "        m = hashlib.sha256()\n",
    "        m.update(before_passwd.encode('utf_8'))\n",
    "        \n",
    "        with open('passwd.txt', 'r') as f:\n",
    "            comp = str(m.hexdigest()).strip() == str(f.read()).strip()\n",
    "            return comp\n",
    "    else:\n",
    "        return True"
   ]
  },
  {
   "cell_type": "code",
   "execution_count": 11,
   "id": "27c503a3",
   "metadata": {},
   "outputs": [
    {
     "name": "stdout",
     "output_type": "stream",
     "text": [
      "기존의 비밀번호를 입력하세요1234\n"
     ]
    },
    {
     "data": {
      "text/plain": [
       "True"
      ]
     },
     "execution_count": 11,
     "metadata": {},
     "output_type": "execute_result"
    }
   ],
   "source": [
    "check_passwd()"
   ]
  },
  {
   "cell_type": "code",
   "execution_count": 12,
   "id": "016b3632",
   "metadata": {},
   "outputs": [
    {
     "name": "stdout",
     "output_type": "stream",
     "text": [
      "기존의 비밀번호를 입력하세요1357\n"
     ]
    },
    {
     "data": {
      "text/plain": [
       "False"
      ]
     },
     "execution_count": 12,
     "metadata": {},
     "output_type": "execute_result"
    }
   ],
   "source": [
    "check_passwd()"
   ]
  },
  {
   "cell_type": "code",
   "execution_count": 13,
   "id": "6c377799",
   "metadata": {},
   "outputs": [],
   "source": [
    "def change_passwd():\n",
    "    if check_passwd():\n",
    "        with open('passwd.txt', 'w') as f:\n",
    "            passwd = input('새로운 비밀번호를 입력하세요')\n",
    "            result = hashlib.sha256(passwd.encode())\n",
    "            f.write(result.hexdigest())\n",
    "            \n",
    "    else:\n",
    "        print('비밀번호가 틀립니다')"
   ]
  },
  {
   "cell_type": "code",
   "execution_count": 14,
   "id": "c2f57cdc",
   "metadata": {},
   "outputs": [
    {
     "name": "stdout",
     "output_type": "stream",
     "text": [
      "기존의 비밀번호를 입력하세요1234\n",
      "새로운 비밀번호를 입력하세요1234\n"
     ]
    }
   ],
   "source": [
    "change_passwd()"
   ]
  },
  {
   "cell_type": "code",
   "execution_count": 15,
   "id": "fbef5508",
   "metadata": {},
   "outputs": [],
   "source": [
    "text = \"\"\"\n",
    "북한은 최근 대륙간탄도미사일, ICBM 시험 발사와 7차 핵실험 준비를 마친 것으로 파악됐는데요,\n",
    "그러나 바이든 미국 대통령의 방한 기간과 지금까지 아직 별다른 움직임은 없습니다.\n",
    "특히 한미 정상은 대북 확장 억제 강화 방안이 담긴 공동성명을 발표했습니다.\n",
    "확장억제전략협의체 재가동과 한미연합훈련의 범위 확대, 미국 전략자산의 적시 전개 등이 담겼습니다.\n",
    "모두 그간 북한이 대북 적대시 정책으로 지목하고 비난해 온 내용이지만, 북한 매체들은 이에 대한 반응을 지금까지 내놓고 있지 않습니다.\n",
    "오늘 아침 조선중앙통신과 노동신문엔 김정은 국무위원장이 최근 사망한 현철해 인민군 원수의 발인식과 영결식에 참석했다는 소식 등이 보도됐을 뿐입니다.\n",
    "이런 가운데 북한이 발표하는 신규 발열 환자는 이틀째 10만 명대로 집계됐습니다.\n",
    "북한 국가비상방역사령부를 인용해, 그제 오후 6시부터 24시간 동안 전국적으로 새로 발생한 발열 환자는 16만 7천650여 명, 사망자는 1명이라고 밝혔습니다.\n",
    "이에 따라 누적 발열자는 281만 4천380여 명, 누적 사망자는 68명이 됐습니다.\n",
    "북한은 코로나19 방역 협의를 위한 통일부의 실무접촉 제안은 물론, 한미 정상이 공동성명에서 코로나19 방역 지원 의사를 밝힌 데에도 응답하지 않고 있습니다.\n",
    "대신, 전염병 전파 상황을 안정적으로 억제하고 관리하고 있다며 방역 정책 자화자찬에 나섰습니다.\n",
    "이처럼 북한이 코로나19 확산세를 어느 정도 통제했다고 판단한 만큼, ICBM 발사와 핵실험 등에도 곧 착수할 수 있다는 관측이 나오고 있습니다.\n",
    "지금까지 통일외교안보부에서 전해드렸습니다.\n",
    "\n",
    "\"\"\""
   ]
  },
  {
   "cell_type": "code",
   "execution_count": 16,
   "id": "aba50305",
   "metadata": {},
   "outputs": [
    {
     "name": "stdout",
     "output_type": "stream",
     "text": [
      "eab3afc0c7a903ccc93c55505ea9a2803b9d82703ed489fa2eab7a75130627b3\n"
     ]
    }
   ],
   "source": [
    "m = hashlib.sha256()\n",
    "m.update(text.encode('utf_8'))\n",
    "print(m.hexdigest())"
   ]
  },
  {
   "cell_type": "markdown",
   "id": "b8b32512",
   "metadata": {},
   "source": [
    "# 채굴(minning)\n",
    "\n",
    "* 특정한 조건을 만족하는 hash값을 찾는 연산을 반복하는 것\n",
    "* 채굴에 성공한 경우에만 블록에 채인에 연결이 됨\n",
    "* 채굴에 성공하면 보상으로 코인을 받는다"
   ]
  },
  {
   "cell_type": "code",
   "execution_count": 19,
   "id": "b3d963a9",
   "metadata": {},
   "outputs": [
    {
     "name": "stdout",
     "output_type": "stream",
     "text": [
      "Hash : 00000c22470a312083a84557f219532b59b1d687451ecc280d0bc8bc639d85b6\n",
      "Nounce : 1077474\n",
      "Minning took 1.924853801727295s!\n"
     ]
    }
   ],
   "source": [
    "from hashlib import sha256\n",
    "import time\n",
    "\n",
    "max_nounce = int(1e10)\n",
    "difficulty = 5\n",
    "\n",
    "block_number = 667745\n",
    "transactions = \"\"\"\n",
    "A -> B : 10\n",
    "D -> A : 99\n",
    "C -> Z : 1\n",
    "\"\"\"\n",
    "\n",
    "previous_hash = 'eab3afc0c7a903ccc93c55505ea9a2803b9d82703ed489fa2eab7a75130627b3'\n",
    "\n",
    "new_hash = None\n",
    "\n",
    "st_time = time.time()\n",
    "\n",
    "for nounce in range(max_nounce):\n",
    "    block_header = str(block_number) + transactions + previous_hash + str(nounce)\n",
    "    new_hash = sha256(block_header.encode('ascii')).hexdigest()\n",
    "    \n",
    "    if new_hash.startswith('0'*difficulty):\n",
    "        print(f'Hash : {new_hash}')\n",
    "        print(f'Nounce : {nounce}')\n",
    "        break\n",
    "        \n",
    "if new_hash is None:\n",
    "    print('cannot find new hash')\n",
    "    \n",
    "print(f'Minning took {time.time() - st_time}s!')"
   ]
  },
  {
   "cell_type": "markdown",
   "id": "868899d5",
   "metadata": {},
   "source": [
    "# chain 구성\n",
    "## transaction > block > 채굴 > chain 추가"
   ]
  },
  {
   "cell_type": "code",
   "execution_count": 20,
   "id": "88a6445b",
   "metadata": {},
   "outputs": [],
   "source": [
    "tr1 = '호준 -> 길동, 1코인'\n",
    "tr2 = '길동 -> 미자, 2코인'\n",
    "tr3 = '춘향 -> 준호, 3코인'\n",
    "tr4 = '준길 -> 상호, 1코인'\n",
    "tr5 = '나미 -> 준호, 3코인'\n",
    "tr6 = '정자 -> 미자, 2코인'"
   ]
  },
  {
   "cell_type": "code",
   "execution_count": 23,
   "id": "e6ecffb6",
   "metadata": {},
   "outputs": [],
   "source": [
    "class bitCoin:\n",
    "    def __init__(self, 앞블록해쉬, 트렌젝션리스트):\n",
    "        self.앞블록해쉬 = 앞블록해쉬\n",
    "        self.트렌젝션리스트 = 트렌젝션리스트\n",
    "        self.블록 = \"- 트렌젝션 : \" + \"\\n- 트렌젝션 : \".join(트렌젝션리스트) + \\\n",
    "        \"\\n- 앞블록해쉬 : \"+ 앞블록해쉬\n",
    "        self.블록해쉬 = hashlib.sha256(self.블록.encode()).hexdigest()"
   ]
  },
  {
   "cell_type": "code",
   "execution_count": 24,
   "id": "5cdba6a3",
   "metadata": {},
   "outputs": [],
   "source": [
    "블록1 = bitCoin('random_initial_text', [tr1, tr2])"
   ]
  },
  {
   "cell_type": "code",
   "execution_count": 25,
   "id": "8e923a40",
   "metadata": {},
   "outputs": [
    {
     "data": {
      "text/plain": [
       "'- 트렌젝션 : 호준 -> 길동, 1코인\\n- 트렌젝션 : 길동 -> 미자, 2코인\\n- 앞블록해쉬 : random_initial_text'"
      ]
     },
     "execution_count": 25,
     "metadata": {},
     "output_type": "execute_result"
    }
   ],
   "source": [
    "블록1.블록"
   ]
  },
  {
   "cell_type": "code",
   "execution_count": 26,
   "id": "cdb7c7bd",
   "metadata": {},
   "outputs": [
    {
     "data": {
      "text/plain": [
       "'f19f71f42dfebe81049eee4b8422c022cec1c791f37544b59ff9d4485f44bff8'"
      ]
     },
     "execution_count": 26,
     "metadata": {},
     "output_type": "execute_result"
    }
   ],
   "source": [
    "블록1.블록해쉬"
   ]
  },
  {
   "cell_type": "code",
   "execution_count": 29,
   "id": "1466bffe",
   "metadata": {},
   "outputs": [],
   "source": [
    "블록2 = bitCoin(블록1.블록해쉬, [tr3, tr4])"
   ]
  },
  {
   "cell_type": "code",
   "execution_count": 30,
   "id": "3791f023",
   "metadata": {},
   "outputs": [
    {
     "data": {
      "text/plain": [
       "'- 트렌젝션 : 춘향 -> 준호, 3코인\\n- 트렌젝션 : 준길 -> 상호, 1코인\\n- 앞블록해쉬 : f19f71f42dfebe81049eee4b8422c022cec1c791f37544b59ff9d4485f44bff8'"
      ]
     },
     "execution_count": 30,
     "metadata": {},
     "output_type": "execute_result"
    }
   ],
   "source": [
    "블록2.블록"
   ]
  },
  {
   "cell_type": "code",
   "execution_count": 31,
   "id": "6442d1ea",
   "metadata": {},
   "outputs": [
    {
     "data": {
      "text/plain": [
       "'20262f46271a2345bf712bc6dc659ef98563d048ff0ba38dce301847512491bf'"
      ]
     },
     "execution_count": 31,
     "metadata": {},
     "output_type": "execute_result"
    }
   ],
   "source": [
    "블록2.블록해쉬"
   ]
  },
  {
   "cell_type": "code",
   "execution_count": 32,
   "id": "2c06d2cd",
   "metadata": {},
   "outputs": [],
   "source": [
    "블록3 = bitCoin(블록2.블록해쉬,[tr5, tr6])"
   ]
  },
  {
   "cell_type": "code",
   "execution_count": 33,
   "id": "16b6f841",
   "metadata": {},
   "outputs": [
    {
     "data": {
      "text/plain": [
       "'- 트렌젝션 : 나미 -> 준호, 3코인\\n- 트렌젝션 : 정자 -> 미자, 2코인\\n- 앞블록해쉬 : 20262f46271a2345bf712bc6dc659ef98563d048ff0ba38dce301847512491bf'"
      ]
     },
     "execution_count": 33,
     "metadata": {},
     "output_type": "execute_result"
    }
   ],
   "source": [
    "블록3.블록"
   ]
  },
  {
   "cell_type": "code",
   "execution_count": null,
   "id": "ce3a70bb",
   "metadata": {},
   "outputs": [],
   "source": []
  },
  {
   "cell_type": "markdown",
   "id": "2f986fc9",
   "metadata": {},
   "source": [
    "# encoding (문자 -> 숫자(binary))\n",
    "\n",
    "## ASCII\n",
    "* 7비트, 영문 대소문자, 숫자, 특수기호 0, 한글 X\n",
    "* 2의 7승 : 128개 문자\n",
    "\\\n",
    "## Ansi\n",
    "* 8비트로 확장한 ascii\n",
    "* 256개의 문자\n",
    "\\\n",
    "## unicode\n",
    "* 2byte : 2의 16승 65536개의 문자를 표현\n",
    "* 국제표준, 전세계 모든 문자와 맵핑\n",
    "\\\n",
    "## 한글 encoding : euckr, cp949, utf-8\n",
    "* euckr(microsoft) - 완성형 문자 인코딩방식 : 문자 하나를 그 자체로 인식, 한글을 2byte로 표시\n",
    "* cp949는 euckr의 확장형으로 윈도우에서 많이 사용\n",
    "* utf-8 - 자음, 모음을 초성, 중성, 종성을 구분하여 한글을 3byte로 표현   \n",
    "ascii에 해당하는 문자(영문, 숫자, 특수문자)를 1byte로 표현 - 가변형 encoding 방식"
   ]
  },
  {
   "cell_type": "code",
   "execution_count": null,
   "id": "b70a0bae",
   "metadata": {},
   "outputs": [],
   "source": []
  },
  {
   "cell_type": "code",
   "execution_count": null,
   "id": "1c388a4e",
   "metadata": {},
   "outputs": [],
   "source": []
  },
  {
   "cell_type": "code",
   "execution_count": null,
   "id": "0f357bc9",
   "metadata": {},
   "outputs": [],
   "source": []
  },
  {
   "cell_type": "code",
   "execution_count": null,
   "id": "02815545",
   "metadata": {},
   "outputs": [],
   "source": []
  },
  {
   "cell_type": "code",
   "execution_count": null,
   "id": "049be1f4",
   "metadata": {},
   "outputs": [],
   "source": []
  },
  {
   "cell_type": "code",
   "execution_count": null,
   "id": "8f293454",
   "metadata": {},
   "outputs": [],
   "source": []
  },
  {
   "cell_type": "code",
   "execution_count": null,
   "id": "9365d7fe",
   "metadata": {},
   "outputs": [],
   "source": []
  },
  {
   "cell_type": "code",
   "execution_count": null,
   "id": "5db86d5f",
   "metadata": {},
   "outputs": [],
   "source": []
  },
  {
   "cell_type": "code",
   "execution_count": null,
   "id": "535f03dd",
   "metadata": {},
   "outputs": [],
   "source": []
  },
  {
   "cell_type": "code",
   "execution_count": null,
   "id": "b0de881e",
   "metadata": {},
   "outputs": [],
   "source": []
  },
  {
   "cell_type": "code",
   "execution_count": null,
   "id": "a2f9e1be",
   "metadata": {},
   "outputs": [],
   "source": []
  },
  {
   "cell_type": "code",
   "execution_count": null,
   "id": "f7638d47",
   "metadata": {},
   "outputs": [],
   "source": []
  },
  {
   "cell_type": "code",
   "execution_count": null,
   "id": "b470b5d3",
   "metadata": {},
   "outputs": [],
   "source": []
  },
  {
   "cell_type": "code",
   "execution_count": null,
   "id": "87d1f960",
   "metadata": {},
   "outputs": [],
   "source": []
  }
 ],
 "metadata": {
  "kernelspec": {
   "display_name": "Python 3 (ipykernel)",
   "language": "python",
   "name": "python3"
  },
  "language_info": {
   "codemirror_mode": {
    "name": "ipython",
    "version": 3
   },
   "file_extension": ".py",
   "mimetype": "text/x-python",
   "name": "python",
   "nbconvert_exporter": "python",
   "pygments_lexer": "ipython3",
   "version": "3.9.7"
  },
  "varInspector": {
   "cols": {
    "lenName": 16,
    "lenType": 16,
    "lenVar": 40
   },
   "kernels_config": {
    "python": {
     "delete_cmd_postfix": "",
     "delete_cmd_prefix": "del ",
     "library": "var_list.py",
     "varRefreshCmd": "print(var_dic_list())"
    },
    "r": {
     "delete_cmd_postfix": ") ",
     "delete_cmd_prefix": "rm(",
     "library": "var_list.r",
     "varRefreshCmd": "cat(var_dic_list()) "
    }
   },
   "types_to_exclude": [
    "module",
    "function",
    "builtin_function_or_method",
    "instance",
    "_Feature"
   ],
   "window_display": false
  }
 },
 "nbformat": 4,
 "nbformat_minor": 5
}
