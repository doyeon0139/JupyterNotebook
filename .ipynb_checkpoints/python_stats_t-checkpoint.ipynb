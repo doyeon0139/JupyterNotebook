{
 "cells": [
  {
   "cell_type": "code",
   "execution_count": 2,
   "id": "9cb64684",
   "metadata": {},
   "outputs": [],
   "source": [
    "import pandas as pd\n",
    "import numpy as np\n",
    "import matplotlib.pyplot as plt\n",
    "import seaborn as sns"
   ]
  },
  {
   "cell_type": "code",
   "execution_count": null,
   "id": "cbfdda01",
   "metadata": {},
   "outputs": [],
   "source": []
  },
  {
   "cell_type": "code",
   "execution_count": 3,
   "id": "d9f577a1",
   "metadata": {},
   "outputs": [],
   "source": [
    "import scipy as sp"
   ]
  },
  {
   "cell_type": "code",
   "execution_count": 4,
   "id": "9dca7e48",
   "metadata": {},
   "outputs": [],
   "source": [
    "# %precision 3  # 소수점 3자리까지 표현"
   ]
  },
  {
   "cell_type": "code",
   "execution_count": 5,
   "id": "e7f78545",
   "metadata": {},
   "outputs": [],
   "source": [
    "import warnings\n",
    "warnings.filterwarnings(action='ignore')"
   ]
  },
  {
   "cell_type": "code",
   "execution_count": null,
   "id": "0fc71259",
   "metadata": {},
   "outputs": [],
   "source": []
  },
  {
   "cell_type": "code",
   "execution_count": 6,
   "id": "d6be257e",
   "metadata": {},
   "outputs": [],
   "source": [
    "fish_data = [2,3,4,5,3,2,2,3,6,8,6]"
   ]
  },
  {
   "cell_type": "code",
   "execution_count": null,
   "id": "6cc50056",
   "metadata": {},
   "outputs": [],
   "source": []
  },
  {
   "cell_type": "code",
   "execution_count": 7,
   "id": "386bc183",
   "metadata": {},
   "outputs": [
    {
     "data": {
      "text/plain": [
       "4.0"
      ]
     },
     "execution_count": 7,
     "metadata": {},
     "output_type": "execute_result"
    }
   ],
   "source": [
    "sp.mean(fish_data)"
   ]
  },
  {
   "cell_type": "code",
   "execution_count": 8,
   "id": "cf5055ee",
   "metadata": {},
   "outputs": [
    {
     "data": {
      "text/plain": [
       "3.6363636363636362"
      ]
     },
     "execution_count": 8,
     "metadata": {},
     "output_type": "execute_result"
    }
   ],
   "source": [
    "sp.var(fish_data)"
   ]
  },
  {
   "cell_type": "code",
   "execution_count": null,
   "id": "31bc7338",
   "metadata": {},
   "outputs": [],
   "source": []
  },
  {
   "cell_type": "code",
   "execution_count": null,
   "id": "3ef194d4",
   "metadata": {},
   "outputs": [],
   "source": [
    "# 분산, 표준편차 : 데이터가 얼마나 평균에서 흩어져 있는다. 변동성의 크기를 의미\n",
    "\n",
    "# 분산 : sum((x - x_mean)**)/ n\n",
    "# 표준편차 : sp.sqrt(sum((x - x_mean)**)/ n)"
   ]
  },
  {
   "cell_type": "code",
   "execution_count": 13,
   "id": "0c493dd2",
   "metadata": {},
   "outputs": [
    {
     "data": {
      "text/plain": [
       "3.6363636363636362"
      ]
     },
     "execution_count": 13,
     "metadata": {},
     "output_type": "execute_result"
    }
   ],
   "source": [
    "sp.sum((fish_data - sp.mean(fish_data))**2)/ len(fish_data)"
   ]
  },
  {
   "cell_type": "code",
   "execution_count": 15,
   "id": "30da28ec",
   "metadata": {},
   "outputs": [
    {
     "data": {
      "text/plain": [
       "4.0"
      ]
     },
     "execution_count": 15,
     "metadata": {},
     "output_type": "execute_result"
    }
   ],
   "source": [
    "sp.sum((fish_data - sp.mean(fish_data))**2)/ (len(fish_data) -1)"
   ]
  },
  {
   "cell_type": "code",
   "execution_count": 16,
   "id": "578fe90c",
   "metadata": {},
   "outputs": [
    {
     "data": {
      "text/plain": [
       "1.9069251784911847"
      ]
     },
     "execution_count": 16,
     "metadata": {},
     "output_type": "execute_result"
    }
   ],
   "source": [
    "sp.sqrt(sp.sum((fish_data - sp.mean(fish_data))**2)/ len(fish_data))"
   ]
  },
  {
   "cell_type": "code",
   "execution_count": 17,
   "id": "7d3b346d",
   "metadata": {},
   "outputs": [
    {
     "data": {
      "text/plain": [
       "2.0"
      ]
     },
     "execution_count": 17,
     "metadata": {},
     "output_type": "execute_result"
    }
   ],
   "source": [
    "sp.sqrt(sp.sum((fish_data - sp.mean(fish_data))**2)/ (len(fish_data) -1))"
   ]
  },
  {
   "cell_type": "code",
   "execution_count": 9,
   "id": "fd8147ee",
   "metadata": {},
   "outputs": [
    {
     "data": {
      "text/plain": [
       "4.0"
      ]
     },
     "execution_count": 9,
     "metadata": {},
     "output_type": "execute_result"
    }
   ],
   "source": [
    "sp.var(fish_data, ddof=1) \n",
    "\n",
    "# 불편분산..\n",
    "# ddof : 자유도 (전제 데이터 수 - 변수의 수)\n",
    "\n",
    "# 표본의 통계량을 계산 시 사용.\n",
    "# 자유로이 값을 가질 수 있는 값의 갯수\n",
    "# 표본의 분산이 모분산 보다 작게 값이 계산되는 것을 보정하는 값.."
   ]
  },
  {
   "cell_type": "code",
   "execution_count": null,
   "id": "a38ccf3b",
   "metadata": {},
   "outputs": [],
   "source": []
  },
  {
   "cell_type": "code",
   "execution_count": 18,
   "id": "ad560b2b",
   "metadata": {},
   "outputs": [
    {
     "data": {
      "text/plain": [
       "1.9069251784911847"
      ]
     },
     "execution_count": 18,
     "metadata": {},
     "output_type": "execute_result"
    }
   ],
   "source": [
    "sp.std(fish_data)"
   ]
  },
  {
   "cell_type": "code",
   "execution_count": 20,
   "id": "8025ea3d",
   "metadata": {},
   "outputs": [
    {
     "data": {
      "text/plain": [
       "2.0"
      ]
     },
     "execution_count": 20,
     "metadata": {},
     "output_type": "execute_result"
    }
   ],
   "source": [
    "sp.std(fish_data, ddof=1)  # 불편표준편차"
   ]
  },
  {
   "cell_type": "code",
   "execution_count": null,
   "id": "551e3c57",
   "metadata": {},
   "outputs": [],
   "source": []
  },
  {
   "cell_type": "code",
   "execution_count": null,
   "id": "1943d32f",
   "metadata": {},
   "outputs": [],
   "source": [
    "# 정규화(z) : 평균을 0으로 표준편차를 1인 정규분포로 만드는 것\n",
    "# 정규화된 z값 : 평균 0을 중심으로 몇 표준편차 떨어저있는가를 나타내는 값.."
   ]
  },
  {
   "cell_type": "code",
   "execution_count": 23,
   "id": "cf8009bd",
   "metadata": {},
   "outputs": [
    {
     "data": {
      "text/plain": [
       "array([-1.04880885, -0.52440442,  0.        ,  0.52440442, -0.52440442,\n",
       "       -1.04880885, -1.04880885, -0.52440442,  1.04880885,  2.0976177 ,\n",
       "        1.04880885])"
      ]
     },
     "execution_count": 23,
     "metadata": {},
     "output_type": "execute_result"
    }
   ],
   "source": [
    "(fish_data - sp.mean(fish_data)) / sp.std(fish_data)  # 표준정규분포"
   ]
  },
  {
   "cell_type": "code",
   "execution_count": 24,
   "id": "c3abaee0",
   "metadata": {},
   "outputs": [
    {
     "data": {
      "text/plain": [
       "-1.0092936587501423e-16"
      ]
     },
     "execution_count": 24,
     "metadata": {},
     "output_type": "execute_result"
    }
   ],
   "source": [
    "sp.mean((fish_data - sp.mean(fish_data)) / sp.std(fish_data))"
   ]
  },
  {
   "cell_type": "code",
   "execution_count": 26,
   "id": "8a35096f",
   "metadata": {},
   "outputs": [
    {
     "data": {
      "text/plain": [
       "0.9999999999999998"
      ]
     },
     "execution_count": 26,
     "metadata": {},
     "output_type": "execute_result"
    }
   ],
   "source": [
    "sp.std((fish_data - sp.mean(fish_data)) / sp.std(fish_data))"
   ]
  },
  {
   "cell_type": "code",
   "execution_count": null,
   "id": "089b2182",
   "metadata": {},
   "outputs": [],
   "source": []
  },
  {
   "cell_type": "code",
   "execution_count": 27,
   "id": "ee6ac089",
   "metadata": {},
   "outputs": [],
   "source": [
    "# 기본 통계함수"
   ]
  },
  {
   "cell_type": "code",
   "execution_count": 28,
   "id": "170b6adb",
   "metadata": {},
   "outputs": [
    {
     "data": {
      "text/plain": [
       "4.0"
      ]
     },
     "execution_count": 28,
     "metadata": {},
     "output_type": "execute_result"
    }
   ],
   "source": [
    "sp.mean(fish_data)"
   ]
  },
  {
   "cell_type": "code",
   "execution_count": 29,
   "id": "19008f25",
   "metadata": {},
   "outputs": [
    {
     "data": {
      "text/plain": [
       "3.6363636363636362"
      ]
     },
     "execution_count": 29,
     "metadata": {},
     "output_type": "execute_result"
    }
   ],
   "source": [
    "sp.var(fish_data)"
   ]
  },
  {
   "cell_type": "code",
   "execution_count": 30,
   "id": "07a66744",
   "metadata": {},
   "outputs": [
    {
     "data": {
      "text/plain": [
       "1.9069251784911847"
      ]
     },
     "execution_count": 30,
     "metadata": {},
     "output_type": "execute_result"
    }
   ],
   "source": [
    "sp.std(fish_data)"
   ]
  },
  {
   "cell_type": "code",
   "execution_count": 32,
   "id": "bc49f9ff",
   "metadata": {},
   "outputs": [
    {
     "data": {
      "text/plain": [
       "8"
      ]
     },
     "execution_count": 32,
     "metadata": {},
     "output_type": "execute_result"
    }
   ],
   "source": [
    "sp.amax(fish_data)"
   ]
  },
  {
   "cell_type": "code",
   "execution_count": 33,
   "id": "762fbe56",
   "metadata": {},
   "outputs": [
    {
     "data": {
      "text/plain": [
       "2"
      ]
     },
     "execution_count": 33,
     "metadata": {},
     "output_type": "execute_result"
    }
   ],
   "source": [
    "sp.amin(fish_data)"
   ]
  },
  {
   "cell_type": "code",
   "execution_count": 34,
   "id": "acfbeebf",
   "metadata": {},
   "outputs": [
    {
     "data": {
      "text/plain": [
       "3.0"
      ]
     },
     "execution_count": 34,
     "metadata": {},
     "output_type": "execute_result"
    }
   ],
   "source": [
    "sp.median(fish_data)"
   ]
  },
  {
   "cell_type": "code",
   "execution_count": null,
   "id": "6ee4461b",
   "metadata": {},
   "outputs": [],
   "source": []
  },
  {
   "cell_type": "code",
   "execution_count": null,
   "id": "47abf951",
   "metadata": {},
   "outputs": [],
   "source": [
    "# 공분산\n",
    "# 두 데이터가 함께 움직이는 수준, 두 데이터의 관계성, 방향성.."
   ]
  },
  {
   "cell_type": "code",
   "execution_count": 36,
   "id": "7828f0ac",
   "metadata": {
    "collapsed": true
   },
   "outputs": [
    {
     "data": {
      "text/html": [
       "<div>\n",
       "<style scoped>\n",
       "    .dataframe tbody tr th:only-of-type {\n",
       "        vertical-align: middle;\n",
       "    }\n",
       "\n",
       "    .dataframe tbody tr th {\n",
       "        vertical-align: top;\n",
       "    }\n",
       "\n",
       "    .dataframe thead th {\n",
       "        text-align: right;\n",
       "    }\n",
       "</style>\n",
       "<table border=\"1\" class=\"dataframe\">\n",
       "  <thead>\n",
       "    <tr style=\"text-align: right;\">\n",
       "      <th></th>\n",
       "      <th>x</th>\n",
       "      <th>y</th>\n",
       "    </tr>\n",
       "  </thead>\n",
       "  <tbody>\n",
       "    <tr>\n",
       "      <th>0</th>\n",
       "      <td>18.5</td>\n",
       "      <td>34</td>\n",
       "    </tr>\n",
       "    <tr>\n",
       "      <th>1</th>\n",
       "      <td>18.7</td>\n",
       "      <td>39</td>\n",
       "    </tr>\n",
       "    <tr>\n",
       "      <th>2</th>\n",
       "      <td>19.1</td>\n",
       "      <td>41</td>\n",
       "    </tr>\n",
       "    <tr>\n",
       "      <th>3</th>\n",
       "      <td>19.7</td>\n",
       "      <td>38</td>\n",
       "    </tr>\n",
       "    <tr>\n",
       "      <th>4</th>\n",
       "      <td>21.5</td>\n",
       "      <td>45</td>\n",
       "    </tr>\n",
       "    <tr>\n",
       "      <th>5</th>\n",
       "      <td>21.7</td>\n",
       "      <td>41</td>\n",
       "    </tr>\n",
       "    <tr>\n",
       "      <th>6</th>\n",
       "      <td>21.8</td>\n",
       "      <td>52</td>\n",
       "    </tr>\n",
       "    <tr>\n",
       "      <th>7</th>\n",
       "      <td>22.0</td>\n",
       "      <td>44</td>\n",
       "    </tr>\n",
       "    <tr>\n",
       "      <th>8</th>\n",
       "      <td>23.4</td>\n",
       "      <td>44</td>\n",
       "    </tr>\n",
       "    <tr>\n",
       "      <th>9</th>\n",
       "      <td>23.8</td>\n",
       "      <td>49</td>\n",
       "    </tr>\n",
       "  </tbody>\n",
       "</table>\n",
       "</div>"
      ],
      "text/plain": [
       "      x   y\n",
       "0  18.5  34\n",
       "1  18.7  39\n",
       "2  19.1  41\n",
       "3  19.7  38\n",
       "4  21.5  45\n",
       "5  21.7  41\n",
       "6  21.8  52\n",
       "7  22.0  44\n",
       "8  23.4  44\n",
       "9  23.8  49"
      ]
     },
     "execution_count": 36,
     "metadata": {},
     "output_type": "execute_result"
    }
   ],
   "source": [
    "cov_data = pd.read_csv('./stat_files/cov.csv')\n",
    "cov_data"
   ]
  },
  {
   "cell_type": "code",
   "execution_count": 57,
   "id": "d93bd2e9",
   "metadata": {},
   "outputs": [],
   "source": [
    "x = cov_data.x\n",
    "y = cov_data.y"
   ]
  },
  {
   "cell_type": "code",
   "execution_count": 43,
   "id": "c1f9b71e",
   "metadata": {},
   "outputs": [
    {
     "data": {
      "text/plain": [
       "6.9060000000000015"
      ]
     },
     "execution_count": 43,
     "metadata": {},
     "output_type": "execute_result"
    }
   ],
   "source": [
    "np.sum((cov_data.x - sp.mean(cov_data.x))*(cov_data.y - sp.mean(cov_data.y)))/len(x)"
   ]
  },
  {
   "cell_type": "code",
   "execution_count": 44,
   "id": "61c50ec7",
   "metadata": {},
   "outputs": [
    {
     "data": {
      "text/plain": [
       "array([[ 3.2816,  6.906 ],\n",
       "       [ 6.906 , 25.21  ]])"
      ]
     },
     "execution_count": 44,
     "metadata": {},
     "output_type": "execute_result"
    }
   ],
   "source": [
    "sp.cov(x, y, ddof=0)"
   ]
  },
  {
   "cell_type": "code",
   "execution_count": null,
   "id": "02d71092",
   "metadata": {},
   "outputs": [],
   "source": []
  },
  {
   "cell_type": "code",
   "execution_count": null,
   "id": "9ea94ae0",
   "metadata": {},
   "outputs": [],
   "source": [
    "# 상관계수 : 공분산/(x표준편차*y표준편차)"
   ]
  },
  {
   "cell_type": "code",
   "execution_count": 48,
   "id": "2a7ead03",
   "metadata": {},
   "outputs": [
    {
     "data": {
      "text/plain": [
       "0.7592719041137087"
      ]
     },
     "execution_count": 48,
     "metadata": {},
     "output_type": "execute_result"
    }
   ],
   "source": [
    "# 상관계수\n",
    "\n",
    "np.sum((cov_data.x - sp.mean(cov_data.x))*(cov_data.y - sp.mean(cov_data.y))/len(cov_data.x))\\\n",
    "/(sp.std(x)*sp.std(y))"
   ]
  },
  {
   "cell_type": "code",
   "execution_count": 52,
   "id": "4952f306",
   "metadata": {},
   "outputs": [
    {
     "data": {
      "text/plain": [
       "0.8436354490152319"
      ]
     },
     "execution_count": 52,
     "metadata": {},
     "output_type": "execute_result"
    }
   ],
   "source": [
    "# 불편상관계수 - 자유도 반영\n",
    "\n",
    "np.sum((cov_data.x - sp.mean(cov_data.x))*(cov_data.y - sp.mean(cov_data.y))/(len(cov_data.x)-1))\\\n",
    "/(sp.std(x)*sp.std(y))"
   ]
  },
  {
   "cell_type": "code",
   "execution_count": null,
   "id": "3d9a0189",
   "metadata": {},
   "outputs": [],
   "source": []
  },
  {
   "cell_type": "code",
   "execution_count": 54,
   "id": "8eb19ec7",
   "metadata": {},
   "outputs": [
    {
     "data": {
      "text/plain": [
       "array([[ 3.2816,  6.906 ],\n",
       "       [ 6.906 , 25.21  ]])"
      ]
     },
     "execution_count": 54,
     "metadata": {},
     "output_type": "execute_result"
    }
   ],
   "source": [
    "sp.cov(x,y, ddof=0)"
   ]
  },
  {
   "cell_type": "code",
   "execution_count": 55,
   "id": "9b34e041",
   "metadata": {},
   "outputs": [
    {
     "data": {
      "text/plain": [
       "array([[ 3.64622222,  7.67333333],\n",
       "       [ 7.67333333, 28.01111111]])"
      ]
     },
     "execution_count": 55,
     "metadata": {},
     "output_type": "execute_result"
    }
   ],
   "source": [
    "sp.cov(x,y, ddof=1)"
   ]
  },
  {
   "cell_type": "code",
   "execution_count": 60,
   "id": "fb100b46",
   "metadata": {},
   "outputs": [
    {
     "data": {
      "text/plain": [
       "array([[0.36079158, 0.7592719 ],\n",
       "       [0.7592719 , 2.77168328]])"
      ]
     },
     "execution_count": 60,
     "metadata": {},
     "output_type": "execute_result"
    }
   ],
   "source": [
    "sp.cov(x,y, ddof=0)/(sp.std(x)*sp.std(y))"
   ]
  },
  {
   "cell_type": "code",
   "execution_count": 61,
   "id": "714c5b1b",
   "metadata": {},
   "outputs": [
    {
     "data": {
      "text/plain": [
       "array([[0.36079158, 0.7592719 ],\n",
       "       [0.7592719 , 2.77168328]])"
      ]
     },
     "execution_count": 61,
     "metadata": {},
     "output_type": "execute_result"
    }
   ],
   "source": [
    "sp.cov(x,y, ddof=0)/sp.sqrt((sp.var(x)*sp.var(y)))"
   ]
  },
  {
   "cell_type": "code",
   "execution_count": null,
   "id": "be1d36a9",
   "metadata": {},
   "outputs": [],
   "source": []
  },
  {
   "cell_type": "code",
   "execution_count": 67,
   "id": "d84f5a35",
   "metadata": {},
   "outputs": [],
   "source": [
    "# 표본추출"
   ]
  },
  {
   "cell_type": "code",
   "execution_count": 68,
   "id": "f5329b01",
   "metadata": {},
   "outputs": [],
   "source": [
    "fish_5 = np.array([2,3,4,5,6,7])"
   ]
  },
  {
   "cell_type": "code",
   "execution_count": 71,
   "id": "daaf982d",
   "metadata": {},
   "outputs": [
    {
     "data": {
      "text/plain": [
       "array([6])"
      ]
     },
     "execution_count": 71,
     "metadata": {},
     "output_type": "execute_result"
    }
   ],
   "source": [
    "np.random.choice(fish_5, size=1, replace=False)  # 비복원추출"
   ]
  },
  {
   "cell_type": "code",
   "execution_count": 77,
   "id": "83e8cbbe",
   "metadata": {},
   "outputs": [
    {
     "data": {
      "text/plain": [
       "array([2, 3, 6])"
      ]
     },
     "execution_count": 77,
     "metadata": {},
     "output_type": "execute_result"
    }
   ],
   "source": [
    "np.random.choice(fish_5, size=3, replace=True)   # 복원추출"
   ]
  },
  {
   "cell_type": "code",
   "execution_count": null,
   "id": "7dc4e5e2",
   "metadata": {},
   "outputs": [],
   "source": []
  },
  {
   "cell_type": "code",
   "execution_count": 79,
   "id": "cb1122a0",
   "metadata": {
    "collapsed": true
   },
   "outputs": [
    {
     "data": {
      "text/html": [
       "<div>\n",
       "<style scoped>\n",
       "    .dataframe tbody tr th:only-of-type {\n",
       "        vertical-align: middle;\n",
       "    }\n",
       "\n",
       "    .dataframe tbody tr th {\n",
       "        vertical-align: top;\n",
       "    }\n",
       "\n",
       "    .dataframe thead th {\n",
       "        text-align: right;\n",
       "    }\n",
       "</style>\n",
       "<table border=\"1\" class=\"dataframe\">\n",
       "  <thead>\n",
       "    <tr style=\"text-align: right;\">\n",
       "      <th></th>\n",
       "      <th>length</th>\n",
       "    </tr>\n",
       "  </thead>\n",
       "  <tbody>\n",
       "    <tr>\n",
       "      <th>0</th>\n",
       "      <td>5.297442</td>\n",
       "    </tr>\n",
       "    <tr>\n",
       "      <th>1</th>\n",
       "      <td>3.505566</td>\n",
       "    </tr>\n",
       "    <tr>\n",
       "      <th>2</th>\n",
       "      <td>3.572546</td>\n",
       "    </tr>\n",
       "    <tr>\n",
       "      <th>3</th>\n",
       "      <td>3.135979</td>\n",
       "    </tr>\n",
       "    <tr>\n",
       "      <th>4</th>\n",
       "      <td>4.689275</td>\n",
       "    </tr>\n",
       "    <tr>\n",
       "      <th>...</th>\n",
       "      <td>...</td>\n",
       "    </tr>\n",
       "    <tr>\n",
       "      <th>99995</th>\n",
       "      <td>4.158780</td>\n",
       "    </tr>\n",
       "    <tr>\n",
       "      <th>99996</th>\n",
       "      <td>4.818718</td>\n",
       "    </tr>\n",
       "    <tr>\n",
       "      <th>99997</th>\n",
       "      <td>4.060880</td>\n",
       "    </tr>\n",
       "    <tr>\n",
       "      <th>99998</th>\n",
       "      <td>4.271488</td>\n",
       "    </tr>\n",
       "    <tr>\n",
       "      <th>99999</th>\n",
       "      <td>3.396745</td>\n",
       "    </tr>\n",
       "  </tbody>\n",
       "</table>\n",
       "<p>100000 rows × 1 columns</p>\n",
       "</div>"
      ],
      "text/plain": [
       "         length\n",
       "0      5.297442\n",
       "1      3.505566\n",
       "2      3.572546\n",
       "3      3.135979\n",
       "4      4.689275\n",
       "...         ...\n",
       "99995  4.158780\n",
       "99996  4.818718\n",
       "99997  4.060880\n",
       "99998  4.271488\n",
       "99999  3.396745\n",
       "\n",
       "[100000 rows x 1 columns]"
      ]
     },
     "execution_count": 79,
     "metadata": {},
     "output_type": "execute_result"
    }
   ],
   "source": [
    "fish_100000 = pd.read_csv('./stat_files/fish_length_100000.csv')\n",
    "fish_100000"
   ]
  },
  {
   "cell_type": "code",
   "execution_count": 80,
   "id": "f8db9b79",
   "metadata": {},
   "outputs": [
    {
     "data": {
      "text/plain": [
       "100000"
      ]
     },
     "execution_count": 80,
     "metadata": {},
     "output_type": "execute_result"
    }
   ],
   "source": [
    "len(fish_100000)  # 모집단"
   ]
  },
  {
   "cell_type": "code",
   "execution_count": null,
   "id": "f33ef3a2",
   "metadata": {},
   "outputs": [],
   "source": []
  },
  {
   "cell_type": "code",
   "execution_count": 82,
   "id": "a65f7c3f",
   "metadata": {},
   "outputs": [
    {
     "data": {
      "text/plain": [
       "array([3.0791431 , 3.65077223, 4.45599362, 4.90848904, 5.39534126,\n",
       "       2.00645282, 3.88464984, 5.09421595, 2.69989254, 4.82160033])"
      ]
     },
     "execution_count": 82,
     "metadata": {},
     "output_type": "execute_result"
    }
   ],
   "source": [
    "fish_sample = np.random.choice(fish_100000.length, size=10, replace=False)  # 샘플(표본), 샘플의 크기 n=10\n",
    "fish_sample"
   ]
  },
  {
   "cell_type": "code",
   "execution_count": null,
   "id": "c3a5e59a",
   "metadata": {},
   "outputs": [],
   "source": []
  },
  {
   "cell_type": "code",
   "execution_count": 83,
   "id": "b94e0f25",
   "metadata": {},
   "outputs": [
    {
     "data": {
      "text/plain": [
       "3.9996550749747337"
      ]
     },
     "execution_count": 83,
     "metadata": {},
     "output_type": "execute_result"
    }
   ],
   "source": [
    "sp.mean(fish_sample)  # 샘플의 평균"
   ]
  },
  {
   "cell_type": "code",
   "execution_count": 84,
   "id": "9e6dd23c",
   "metadata": {},
   "outputs": [
    {
     "data": {
      "text/plain": [
       "1.1500347098633896"
      ]
     },
     "execution_count": 84,
     "metadata": {},
     "output_type": "execute_result"
    }
   ],
   "source": [
    "sp.var(fish_sample)  # 샘플의 분산"
   ]
  },
  {
   "cell_type": "code",
   "execution_count": 85,
   "id": "ff805e44",
   "metadata": {},
   "outputs": [
    {
     "data": {
      "text/plain": [
       "1.0723967129114997"
      ]
     },
     "execution_count": 85,
     "metadata": {},
     "output_type": "execute_result"
    }
   ],
   "source": [
    "sp.std(fish_sample)  # 샘플의 표준편차"
   ]
  },
  {
   "cell_type": "code",
   "execution_count": null,
   "id": "dd638e8d",
   "metadata": {},
   "outputs": [],
   "source": []
  },
  {
   "cell_type": "code",
   "execution_count": null,
   "id": "ab4984f9",
   "metadata": {},
   "outputs": [],
   "source": []
  },
  {
   "cell_type": "code",
   "execution_count": null,
   "id": "5c0408e0",
   "metadata": {},
   "outputs": [],
   "source": [
    "# 중심극한정리\n",
    "\n",
    "# 모집단의 형태에 상관없이 사이즈가 큰 표본의 평균의 분포는 평균이 모평균, 분산이 모분산을 np.sqrt(n)으로\n",
    "# 나눈 정규분표를 따른다"
   ]
  },
  {
   "cell_type": "code",
   "execution_count": 92,
   "id": "158bdd65",
   "metadata": {},
   "outputs": [
    {
     "name": "stdout",
     "output_type": "stream",
     "text": [
      "length    4.0\n",
      "dtype: float64 length    0.64\n",
      "dtype: float64\n"
     ]
    }
   ],
   "source": [
    "# 모수\n",
    "\n",
    "mu = sp.mean(fish_100000)\n",
    "theta = sp.var(fish_100000)\n",
    "\n",
    "print(mu, theta)"
   ]
  },
  {
   "cell_type": "code",
   "execution_count": 128,
   "id": "d74b0e70",
   "metadata": {},
   "outputs": [],
   "source": [
    "sample_means = []\n",
    "\n",
    "for _ in range(1000):\n",
    "    sample = np.random.choice(fish_100000.length, size=100, replace=False)\n",
    "    sample_mean = sp.mean(sample)\n",
    "    sample_means.append(sample_mean)"
   ]
  },
  {
   "cell_type": "code",
   "execution_count": 129,
   "id": "a1d1004a",
   "metadata": {},
   "outputs": [
    {
     "data": {
      "text/plain": [
       "[3.9468240048855567,\n",
       " 4.072390727934878,\n",
       " 4.083050284953809,\n",
       " 4.094402630620516,\n",
       " 4.127254829536404,\n",
       " 4.034049285683893,\n",
       " 4.046730402964055,\n",
       " 3.9960604935700443,\n",
       " 4.001600893998117,\n",
       " 4.046399650236484,\n",
       " 3.9837822493227066,\n",
       " 3.8882059420104644,\n",
       " 3.9959044744176935,\n",
       " 4.062073014884306,\n",
       " 3.991765890155339,\n",
       " 3.991126995972042,\n",
       " 4.053713192513315,\n",
       " 4.00085262954634,\n",
       " 4.082381360938885,\n",
       " 4.064886337572832,\n",
       " 3.960481405335238,\n",
       " 3.972616457342781,\n",
       " 3.9270765752784467,\n",
       " 4.010288056026418,\n",
       " 3.835047670186074,\n",
       " 3.9057680793113088,\n",
       " 4.039371838506431,\n",
       " 4.027763466307536,\n",
       " 3.893624225064696,\n",
       " 4.059456100127954,\n",
       " 3.918147237034966,\n",
       " 4.000617144403187,\n",
       " 4.0954430903883,\n",
       " 3.9140811491578957,\n",
       " 3.8787361373403964,\n",
       " 4.124807264578052,\n",
       " 4.0142142155154765,\n",
       " 4.0927107958914215,\n",
       " 4.122692743373679,\n",
       " 3.856299701429496,\n",
       " 4.034758858542591,\n",
       " 4.131259238445634,\n",
       " 3.9010251721875653,\n",
       " 4.1016971365240495,\n",
       " 4.072992927116586,\n",
       " 4.106511466458672,\n",
       " 3.9988452685489815,\n",
       " 3.925289887889562,\n",
       " 4.070737501444567,\n",
       " 4.095800244475563,\n",
       " 3.9825626165201125,\n",
       " 4.018620943337463,\n",
       " 3.8117662974375914,\n",
       " 4.0478686956205925,\n",
       " 3.9687104305974312,\n",
       " 3.9359301116673704,\n",
       " 3.9292099274491483,\n",
       " 4.059370921588397,\n",
       " 3.850667891421981,\n",
       " 3.9239450139274057,\n",
       " 3.9722541270906224,\n",
       " 4.096534365968425,\n",
       " 4.09421050716837,\n",
       " 3.94024194244753,\n",
       " 3.8392748365297633,\n",
       " 3.937345889278501,\n",
       " 3.9053542217236528,\n",
       " 3.942903385952507,\n",
       " 3.7876858790891275,\n",
       " 4.004036599482961,\n",
       " 3.985628773923631,\n",
       " 4.042128667723453,\n",
       " 4.002677679685503,\n",
       " 3.8935565778745254,\n",
       " 4.018065844972263,\n",
       " 4.046933104769185,\n",
       " 3.9383755494757344,\n",
       " 3.9511941852254058,\n",
       " 3.9777250071025336,\n",
       " 4.0302773629698985,\n",
       " 3.9313429002931595,\n",
       " 3.9082206709059766,\n",
       " 3.985957533055755,\n",
       " 4.1698897846352585,\n",
       " 3.9602784341465256,\n",
       " 4.028375832582087,\n",
       " 4.118747301921128,\n",
       " 3.951806105100898,\n",
       " 4.054956464918225,\n",
       " 4.129369485453948,\n",
       " 4.049660928208201,\n",
       " 3.9944063089078528,\n",
       " 4.160418610770584,\n",
       " 4.013358351642739,\n",
       " 4.08360692270997,\n",
       " 3.9622466201105335,\n",
       " 4.113590354847415,\n",
       " 4.0517809626004695,\n",
       " 4.135512186844923,\n",
       " 3.999796579622428,\n",
       " 3.9991376260541474,\n",
       " 3.916182183125158,\n",
       " 4.1127385919226125,\n",
       " 4.022278053949964,\n",
       " 4.037567245555463,\n",
       " 3.96961458212029,\n",
       " 3.9272418471780215,\n",
       " 3.870757287523361,\n",
       " 3.9613498660140336,\n",
       " 4.018129202839355,\n",
       " 4.001295950069306,\n",
       " 3.822988579564979,\n",
       " 3.964856368899084,\n",
       " 4.048508126493241,\n",
       " 4.05624547864153,\n",
       " 4.084047657988727,\n",
       " 3.922689260484223,\n",
       " 4.043688706682258,\n",
       " 4.04947723438739,\n",
       " 4.166039768310773,\n",
       " 4.077112309211323,\n",
       " 4.022053719358529,\n",
       " 4.015584658197514,\n",
       " 3.9865413948290014,\n",
       " 4.081552433515018,\n",
       " 3.9702089869031925,\n",
       " 3.9920638740029104,\n",
       " 3.9828327666585053,\n",
       " 4.003787526237523,\n",
       " 3.8717791919371534,\n",
       " 4.129518056250432,\n",
       " 3.9495468197966517,\n",
       " 3.9779542884514485,\n",
       " 3.947915133655481,\n",
       " 4.0374358415233145,\n",
       " 3.9105874292633245,\n",
       " 3.971092837861867,\n",
       " 3.8660570042641025,\n",
       " 3.932142693936093,\n",
       " 4.084666574871789,\n",
       " 3.9374849892412196,\n",
       " 3.9585683470216524,\n",
       " 4.013943319219351,\n",
       " 4.193793745872598,\n",
       " 3.953323131680483,\n",
       " 4.0293618063015035,\n",
       " 4.08447052779252,\n",
       " 3.9054394464111457,\n",
       " 3.9995786683788954,\n",
       " 3.9896034076420146,\n",
       " 3.9154057904418096,\n",
       " 3.9748901985355927,\n",
       " 4.0162373066098835,\n",
       " 3.9892728576023098,\n",
       " 3.894687024873838,\n",
       " 3.9401798855263364,\n",
       " 4.0180068331537875,\n",
       " 4.178305836131537,\n",
       " 4.06147681708749,\n",
       " 3.945158245574761,\n",
       " 4.028055161089497,\n",
       " 4.069804328226214,\n",
       " 3.969458351506711,\n",
       " 4.103014567898993,\n",
       " 3.9228545560116252,\n",
       " 3.976664563978084,\n",
       " 3.989595791593663,\n",
       " 4.056236599647001,\n",
       " 3.992708872097607,\n",
       " 3.8694901615752713,\n",
       " 4.048279746393814,\n",
       " 4.093808544291708,\n",
       " 4.001442008097569,\n",
       " 4.031720051967188,\n",
       " 4.049049722629323,\n",
       " 4.033336633698302,\n",
       " 3.91416512098792,\n",
       " 3.9907804537417264,\n",
       " 3.917989978638313,\n",
       " 4.063298932112549,\n",
       " 3.814117374564425,\n",
       " 3.9842513237437767,\n",
       " 3.9635240386071446,\n",
       " 3.86503477660675,\n",
       " 3.9510083059962273,\n",
       " 3.9588259307287497,\n",
       " 4.019299475247815,\n",
       " 4.158754194876398,\n",
       " 3.9864745507082864,\n",
       " 4.158144170082729,\n",
       " 4.035470730660105,\n",
       " 4.057535437293009,\n",
       " 4.048473986701561,\n",
       " 3.9930843691429643,\n",
       " 3.9624078740786013,\n",
       " 3.9230391619336498,\n",
       " 3.955687437494516,\n",
       " 4.021630667067424,\n",
       " 4.031191036089236,\n",
       " 3.9065069698431825,\n",
       " 4.050350395878192,\n",
       " 3.984786338057786,\n",
       " 3.9067360990780604,\n",
       " 4.032000975912066,\n",
       " 4.035821534767975,\n",
       " 3.9878886152269075,\n",
       " 3.8899726405137445,\n",
       " 3.996545375380266,\n",
       " 4.04373805363185,\n",
       " 4.1183162201525905,\n",
       " 3.970274912982448,\n",
       " 4.044719513225248,\n",
       " 3.9797599390720397,\n",
       " 3.963826769776536,\n",
       " 4.127163074831868,\n",
       " 3.954313451436635,\n",
       " 3.9453664327709537,\n",
       " 4.00095179565682,\n",
       " 3.9341483528649444,\n",
       " 3.9755402697071833,\n",
       " 3.991428327057969,\n",
       " 3.9998197792000547,\n",
       " 4.082154215445883,\n",
       " 3.9825277644598924,\n",
       " 4.086552700133102,\n",
       " 4.272972584964412,\n",
       " 4.057065168831636,\n",
       " 4.054918418817793,\n",
       " 3.954921424788168,\n",
       " 4.072736679797606,\n",
       " 4.001264967379577,\n",
       " 3.9794430102532683,\n",
       " 4.051895328560765,\n",
       " 3.974241100133576,\n",
       " 4.0057062219284845,\n",
       " 3.995705957749444,\n",
       " 3.85594796024807,\n",
       " 3.965097123619235,\n",
       " 4.09628990759021,\n",
       " 4.096272538096322,\n",
       " 3.946978139554929,\n",
       " 4.05042539949057,\n",
       " 4.046364559706004,\n",
       " 4.015138699216383,\n",
       " 3.892097688384076,\n",
       " 4.039290917519372,\n",
       " 4.107745964124684,\n",
       " 4.015931502835256,\n",
       " 3.8931862472734537,\n",
       " 4.05684251178606,\n",
       " 3.9653452114805026,\n",
       " 3.8948461602014492,\n",
       " 4.106025819396719,\n",
       " 3.9552916324791414,\n",
       " 4.062670673987293,\n",
       " 3.9406203674072255,\n",
       " 4.075481715264047,\n",
       " 3.997697280318645,\n",
       " 4.051460078515432,\n",
       " 4.126337411224259,\n",
       " 3.9898963354256587,\n",
       " 4.1545282671205985,\n",
       " 3.9833541074683656,\n",
       " 3.867889795356908,\n",
       " 3.927632878009571,\n",
       " 4.031202245817434,\n",
       " 3.9041413793206345,\n",
       " 3.9366764368475913,\n",
       " 3.8493260156435194,\n",
       " 4.051639497876533,\n",
       " 3.7287223545649875,\n",
       " 3.933148624605543,\n",
       " 4.032456950129411,\n",
       " 3.968264042255673,\n",
       " 3.879101679415031,\n",
       " 4.012067335818514,\n",
       " 3.9639009482281717,\n",
       " 4.050017584262527,\n",
       " 4.095985858558387,\n",
       " 3.9276056899133955,\n",
       " 4.020663206534561,\n",
       " 3.9539789902483022,\n",
       " 3.9558353670446875,\n",
       " 3.9783762027850025,\n",
       " 3.9276555017577706,\n",
       " 4.015361034656896,\n",
       " 4.091860858741544,\n",
       " 3.910662573086299,\n",
       " 3.9648918342559485,\n",
       " 3.9241834766173547,\n",
       " 3.9313140504284547,\n",
       " 4.079622379714243,\n",
       " 3.979675001159765,\n",
       " 3.940489603591246,\n",
       " 4.043419596652646,\n",
       " 3.982847428177908,\n",
       " 4.040321430607264,\n",
       " 4.021940578783569,\n",
       " 4.060406575105196,\n",
       " 3.8885186815091286,\n",
       " 4.04667430804891,\n",
       " 3.806927328647693,\n",
       " 3.9452105270865188,\n",
       " 3.9398238800771206,\n",
       " 4.02467271253954,\n",
       " 3.886128113782907,\n",
       " 3.9658885844410263,\n",
       " 4.001447646513901,\n",
       " 4.031901310601009,\n",
       " 4.033700463680413,\n",
       " 4.047969530271362,\n",
       " 3.9744944569013363,\n",
       " 3.9811355590446658,\n",
       " 3.9431051835503808,\n",
       " 4.006455727527819,\n",
       " 3.9758172985197753,\n",
       " 4.084570734464537,\n",
       " 4.03336440907765,\n",
       " 4.1187575757730714,\n",
       " 3.991304787434027,\n",
       " 3.95534798630606,\n",
       " 3.918606611000697,\n",
       " 3.9312709018702634,\n",
       " 4.132930830888512,\n",
       " 4.024548524073752,\n",
       " 4.0275672351451375,\n",
       " 3.9621259275208573,\n",
       " 4.0542543632382815,\n",
       " 3.992571522938048,\n",
       " 4.047401283743717,\n",
       " 4.0158830470016245,\n",
       " 3.9218060235957006,\n",
       " 4.010681264622097,\n",
       " 3.8528477309985796,\n",
       " 4.0592740363593975,\n",
       " 3.8264277392987402,\n",
       " 3.9401720087885814,\n",
       " 4.088349901241719,\n",
       " 3.966111162655553,\n",
       " 3.835765156121504,\n",
       " 3.9286519187169615,\n",
       " 3.9208034251193853,\n",
       " 3.960462968607091,\n",
       " 3.9228824016029664,\n",
       " 4.078706774859409,\n",
       " 4.037038804935868,\n",
       " 3.9702629946356724,\n",
       " 3.991737591900375,\n",
       " 4.006242557142146,\n",
       " 3.9280059373690124,\n",
       " 4.03779167338287,\n",
       " 4.159068157353705,\n",
       " 4.071961007593654,\n",
       " 4.018774764177308,\n",
       " 3.993527518588654,\n",
       " 4.041719627298761,\n",
       " 4.115918295351985,\n",
       " 4.092012507175271,\n",
       " 4.016422451479047,\n",
       " 3.934912291892855,\n",
       " 3.9441817221347524,\n",
       " 4.057019509212233,\n",
       " 3.902121130348389,\n",
       " 4.0626995876765974,\n",
       " 3.9878407581954765,\n",
       " 4.085750698717838,\n",
       " 4.012063501213398,\n",
       " 3.9960427453116982,\n",
       " 4.062073849497832,\n",
       " 4.163290749655266,\n",
       " 3.9472817043341655,\n",
       " 4.096093990261397,\n",
       " 4.0149609189983275,\n",
       " 4.102184579789125,\n",
       " 3.9199837984490373,\n",
       " 3.833645156812401,\n",
       " 3.88780682982997,\n",
       " 4.0797745374769665,\n",
       " 4.129787853813321,\n",
       " 3.8650995557724794,\n",
       " 3.9710738035797073,\n",
       " 3.9505758029091607,\n",
       " 3.9663732700995182,\n",
       " 4.0956941861012135,\n",
       " 4.06211790732036,\n",
       " 3.9023592101597186,\n",
       " 4.112063281383004,\n",
       " 3.9235372041526078,\n",
       " 3.792593412497951,\n",
       " 3.9929716949668874,\n",
       " 4.156118866535203,\n",
       " 4.003109671449716,\n",
       " 4.084573679210784,\n",
       " 4.2123367464364705,\n",
       " 3.807373452426169,\n",
       " 3.994575310627013,\n",
       " 4.064077866526561,\n",
       " 4.086963631157688,\n",
       " 4.131908404071435,\n",
       " 4.025403131449389,\n",
       " 4.07225118048866,\n",
       " 3.9663418032189925,\n",
       " 3.9124488016465477,\n",
       " 4.0073558038553605,\n",
       " 3.982742542884188,\n",
       " 4.032480969276758,\n",
       " 3.9236568974583164,\n",
       " 3.9897961110066564,\n",
       " 3.992596228683268,\n",
       " 4.0128965946040775,\n",
       " 3.9219560196730097,\n",
       " 3.9120138996350975,\n",
       " 3.9776469537648462,\n",
       " 4.084665437204342,\n",
       " 3.9828293528167125,\n",
       " 3.8940922041280253,\n",
       " 3.9885458873693267,\n",
       " 4.032855401513953,\n",
       " 3.9872824897355015,\n",
       " 3.9397777263076152,\n",
       " 4.062011808052322,\n",
       " 3.9854348130120205,\n",
       " 4.078140192355591,\n",
       " 4.049593307132693,\n",
       " 3.9457985109521827,\n",
       " 4.017362591671914,\n",
       " 4.074318471712015,\n",
       " 3.997283099960215,\n",
       " 3.913893124164028,\n",
       " 4.008378906001632,\n",
       " 3.9923264538191336,\n",
       " 3.9567976309836945,\n",
       " 3.840584265527541,\n",
       " 4.034616299182407,\n",
       " 4.098851034166672,\n",
       " 3.912325672324944,\n",
       " 4.094413532400821,\n",
       " 3.9866049425889134,\n",
       " 3.999423316507511,\n",
       " 4.078602115359518,\n",
       " 4.029780460079857,\n",
       " 4.013664347984806,\n",
       " 4.044499621241745,\n",
       " 4.06166168323884,\n",
       " 4.070806463749696,\n",
       " 3.8934497949088622,\n",
       " 3.849339747796931,\n",
       " 4.082600023296911,\n",
       " 4.1592856989354114,\n",
       " 3.9299565926838342,\n",
       " 4.032594755447911,\n",
       " 3.8246966444024775,\n",
       " 4.045211789124851,\n",
       " 4.0090169386314,\n",
       " 4.01671373303116,\n",
       " 4.063216466134831,\n",
       " 4.086261670449669,\n",
       " 3.910725813805999,\n",
       " 4.0709905888748406,\n",
       " 3.9673095580449655,\n",
       " 3.943603767934077,\n",
       " 4.042602390369722,\n",
       " 4.226142719597971,\n",
       " 3.9579379133637564,\n",
       " 3.9908641833880942,\n",
       " 4.0061886184196585,\n",
       " 3.931744276061724,\n",
       " 4.000743890108239,\n",
       " 4.064573658587051,\n",
       " 3.968761222094156,\n",
       " 3.951832541204954,\n",
       " 3.9779871419345985,\n",
       " 3.879754606602197,\n",
       " 4.007035690926232,\n",
       " 3.9019636713579064,\n",
       " 4.210158730270783,\n",
       " 4.0619974624456185,\n",
       " 3.9664630975174044,\n",
       " 4.0257841871786155,\n",
       " 4.068832738606806,\n",
       " 4.16186238428546,\n",
       " 4.014283274076445,\n",
       " 3.9359885567130677,\n",
       " 4.047850974624285,\n",
       " 4.075163864558465,\n",
       " 3.872541864857461,\n",
       " 3.79564589220421,\n",
       " 3.9968991124716506,\n",
       " 4.0290413486675245,\n",
       " 3.9939813840580514,\n",
       " 4.143843133818652,\n",
       " 4.008500537891269,\n",
       " 4.041085232014767,\n",
       " 4.037311699655772,\n",
       " 4.007857224905152,\n",
       " 3.9857343772820264,\n",
       " 4.006907944771672,\n",
       " 3.8448575323700513,\n",
       " 3.9389949169491674,\n",
       " 4.104451583289746,\n",
       " 3.970914264708685,\n",
       " 4.075408031377067,\n",
       " 3.887379024123743,\n",
       " 4.018895084320124,\n",
       " 4.031918807899326,\n",
       " 3.9305847750743164,\n",
       " 4.130221918411936,\n",
       " 4.055188714895828,\n",
       " 3.946419794557167,\n",
       " 4.156544208184454,\n",
       " 3.9896727779224817,\n",
       " 3.9879149651053947,\n",
       " 4.00572189392321,\n",
       " 4.0467055050978695,\n",
       " 4.048058799205172,\n",
       " 3.9561943796605266,\n",
       " 4.040041254111001,\n",
       " 4.035896814348138,\n",
       " 4.0466946490989555,\n",
       " 4.126457661186446,\n",
       " 4.0118429061585115,\n",
       " 4.071701039706152,\n",
       " 4.0199537562803185,\n",
       " 4.086034318091975,\n",
       " 4.120646498610579,\n",
       " 3.9758715283963344,\n",
       " 3.9769416364698857,\n",
       " 4.035233346009667,\n",
       " 3.9900827721421295,\n",
       " 3.9241761110524673,\n",
       " 4.133747712625857,\n",
       " 4.047914416960578,\n",
       " 3.9636764676556764,\n",
       " 3.9414510576234885,\n",
       " 3.975049166419776,\n",
       " 3.883316995671079,\n",
       " 4.068367709267468,\n",
       " 3.95789912764372,\n",
       " 3.9648755265019027,\n",
       " 3.997656310406768,\n",
       " 3.9948377807226443,\n",
       " 3.896329560792297,\n",
       " 4.1175603815609145,\n",
       " 4.0505725667979,\n",
       " 3.917999075266522,\n",
       " 4.000203133923742,\n",
       " 3.9500616862686506,\n",
       " 4.0424306902436475,\n",
       " 4.190529563338334,\n",
       " 3.9410230693526933,\n",
       " 3.8802920959050344,\n",
       " 3.9506600483492345,\n",
       " 4.065060571532956,\n",
       " 3.9610497917426453,\n",
       " 3.8589902517825783,\n",
       " 3.9563346604435843,\n",
       " 4.013049031228226,\n",
       " 3.9412529689035125,\n",
       " 4.107217258592279,\n",
       " 4.01645546334613,\n",
       " 3.8574161432315,\n",
       " 4.126070456479141,\n",
       " 3.9828005434803417,\n",
       " 3.929768459976833,\n",
       " 4.062564785232018,\n",
       " 3.9198227260424794,\n",
       " 3.8825790894467933,\n",
       " 3.8627700821087463,\n",
       " 3.8917765398597686,\n",
       " 4.065345401688173,\n",
       " 4.0731800493525006,\n",
       " 3.8635182118133815,\n",
       " 4.107290388469489,\n",
       " 3.9163833342717287,\n",
       " 4.006626248019735,\n",
       " 3.975579207791199,\n",
       " 3.8766750921275497,\n",
       " 3.9905637412463557,\n",
       " 3.9994110776263603,\n",
       " 3.8698046495975365,\n",
       " 3.9995904792285915,\n",
       " 3.975757379224151,\n",
       " 3.8800368610499087,\n",
       " 4.133208029566738,\n",
       " 3.9093389812596673,\n",
       " 3.9558206408372074,\n",
       " 4.081051192215088,\n",
       " 3.9657009935012284,\n",
       " 4.008119994654501,\n",
       " 4.004482067954203,\n",
       " 4.209894920803063,\n",
       " 3.992308445765776,\n",
       " 4.045389424679988,\n",
       " 4.051882225937312,\n",
       " 3.9463933165838565,\n",
       " 4.136935019445997,\n",
       " 4.0277048585554525,\n",
       " 3.9809719184080756,\n",
       " 4.054991284692275,\n",
       " 3.9825198754950066,\n",
       " 3.9661933239643212,\n",
       " 4.049044959782985,\n",
       " 3.9604822526269627,\n",
       " 4.041456444226007,\n",
       " 4.0220965042701495,\n",
       " 3.883518040791995,\n",
       " 3.9192479692936355,\n",
       " 4.000760542995992,\n",
       " 4.025979211308931,\n",
       " 4.046957983325487,\n",
       " 4.123956657057736,\n",
       " 4.021859839601216,\n",
       " 4.016008276137647,\n",
       " 3.9667618153886544,\n",
       " 3.917969609615656,\n",
       " 3.9007335968808383,\n",
       " 4.046941990443213,\n",
       " 3.85397713455657,\n",
       " 4.092545360449675,\n",
       " 4.162690538960336,\n",
       " 3.910471728927493,\n",
       " 3.9506711539394326,\n",
       " 4.1511229699059715,\n",
       " 3.8659991151617152,\n",
       " 3.953239767223461,\n",
       " 4.079688708981502,\n",
       " 3.9825154397937315,\n",
       " 3.9956213822797992,\n",
       " 3.9490248027151513,\n",
       " 4.063774819071989,\n",
       " 4.0630812449381875,\n",
       " 4.094672482942727,\n",
       " 3.931725032257811,\n",
       " 4.045612787952274,\n",
       " 4.0550673651368605,\n",
       " 4.0627577020188514,\n",
       " 4.1034209091550045,\n",
       " 3.9863771140540285,\n",
       " 3.995224148717095,\n",
       " 3.90436697675836,\n",
       " 3.9446959879927608,\n",
       " 3.8163732942155675,\n",
       " 4.028368777485932,\n",
       " 4.122946304981228,\n",
       " 4.016799641985093,\n",
       " 4.086547057038284,\n",
       " 3.9817210157744363,\n",
       " 3.899893317741136,\n",
       " 4.012290444561442,\n",
       " 4.037770206987878,\n",
       " 3.918504891055493,\n",
       " 4.022576334457525,\n",
       " 4.079233502740818,\n",
       " 4.027945159439046,\n",
       " 4.06891333284921,\n",
       " 4.134745743661121,\n",
       " 3.955401353244548,\n",
       " 3.9888598675431775,\n",
       " 4.043031834010738,\n",
       " 3.9639663415641384,\n",
       " 3.9984464144977943,\n",
       " 3.947158989468428,\n",
       " 3.9453604149890844,\n",
       " 3.9760288458992057,\n",
       " 3.9141655305468337,\n",
       " 4.040858434888726,\n",
       " 3.9884965925420084,\n",
       " 4.041979064687374,\n",
       " 4.140886317619783,\n",
       " 4.178679474908325,\n",
       " 4.061588982200414,\n",
       " 4.0417871466044515,\n",
       " 3.9044771795995983,\n",
       " 3.944799161178384,\n",
       " 3.908667506839725,\n",
       " 3.934758883900057,\n",
       " 3.9458700247350906,\n",
       " 3.929764628495,\n",
       " 3.93556319199118,\n",
       " 4.032348892059784,\n",
       " 3.8107118154876924,\n",
       " 4.038299536804032,\n",
       " 3.9843953958474327,\n",
       " 3.805198559548573,\n",
       " 4.03696192340333,\n",
       " 3.977721463322354,\n",
       " 3.9410489693148234,\n",
       " 4.037965433508549,\n",
       " 3.9530866957763404,\n",
       " 4.10084101140469,\n",
       " 3.9053596829275596,\n",
       " 4.106131552917665,\n",
       " 4.025922383720329,\n",
       " 4.010287371829402,\n",
       " 3.9775722243890033,\n",
       " 3.9635442312043865,\n",
       " 3.9613011151691886,\n",
       " 3.935351284755529,\n",
       " 4.099671435658428,\n",
       " 4.157667541725608,\n",
       " 4.036522553994348,\n",
       " 3.889121080547921,\n",
       " 3.9115316711916535,\n",
       " 4.003276496620948,\n",
       " 4.059454190686118,\n",
       " 4.1032680913051305,\n",
       " 3.9875061678544137,\n",
       " 4.0934006884326966,\n",
       " 4.025040222367631,\n",
       " 3.8732663682018837,\n",
       " 3.905954211020783,\n",
       " 4.027430305714991,\n",
       " 4.005244334953945,\n",
       " 3.980941813087611,\n",
       " 4.029719448859176,\n",
       " 4.005136731667705,\n",
       " 3.9210958510525433,\n",
       " 4.1648858047438315,\n",
       " 4.0164152778758355,\n",
       " 4.0885109857062565,\n",
       " 4.005941860370256,\n",
       " 4.037536205283284,\n",
       " 4.009199606103308,\n",
       " 3.880359210562588,\n",
       " 3.9081059931410147,\n",
       " 3.978188718115555,\n",
       " 4.0147854740883835,\n",
       " 4.036486266930703,\n",
       " 3.9961485939839667,\n",
       " 4.043667160310011,\n",
       " 4.026303822739393,\n",
       " 4.074812983034371,\n",
       " 3.891879628558874,\n",
       " 4.083238659120277,\n",
       " 4.047094477905479,\n",
       " 3.959468614016464,\n",
       " 3.7870800534382254,\n",
       " 4.013750386890096,\n",
       " 3.990555682669235,\n",
       " 3.9784661097244656,\n",
       " 4.0178269469747105,\n",
       " 3.816659198765423,\n",
       " 4.071849648857654,\n",
       " 4.0157523712743215,\n",
       " 3.9673271745419014,\n",
       " 3.9826674519439518,\n",
       " 3.98168977595884,\n",
       " 4.094908852294825,\n",
       " 4.02442899301366,\n",
       " 4.032508299956826,\n",
       " 4.167010527577216,\n",
       " 3.9852235468094324,\n",
       " 4.001682229145839,\n",
       " 4.04598408649635,\n",
       " 3.9733575258848584,\n",
       " 3.921294588502525,\n",
       " 3.954833765209491,\n",
       " 4.041842252491307,\n",
       " 4.086754586995509,\n",
       " 4.122494902678681,\n",
       " 3.9393881671942172,\n",
       " 3.9393660562026893,\n",
       " 4.004587328703826,\n",
       " 3.9994616000258794,\n",
       " 3.999755382102366,\n",
       " 3.9752991475731796,\n",
       " 3.8643893079939096,\n",
       " 3.991013188939777,\n",
       " 4.001729861539194,\n",
       " 3.9381877750349537,\n",
       " 3.944888223045312,\n",
       " 3.9612021740267505,\n",
       " 3.892790959347362,\n",
       " 4.076427296405868,\n",
       " 3.96039240101447,\n",
       " 3.9752464820767104,\n",
       " 3.935165929305594,\n",
       " 3.8699368722336103,\n",
       " 3.992174545267917,\n",
       " 3.9780517538335687,\n",
       " 4.032237950789386,\n",
       " 3.880540186223376,\n",
       " 4.009122444509219,\n",
       " 3.9613169219897277,\n",
       " 3.946362764831384,\n",
       " 3.877899391933355,\n",
       " 4.150724141330638,\n",
       " 4.067132624667056,\n",
       " 3.8590304347159883,\n",
       " 4.045180180783964,\n",
       " 4.023109119379055,\n",
       " 4.085935683712961,\n",
       " 4.010045490049639,\n",
       " 4.0543209074423165,\n",
       " 3.99357559977612,\n",
       " 4.095165211178492,\n",
       " 4.012900082661636,\n",
       " 3.9681350331845344,\n",
       " 4.020680851368275,\n",
       " 4.010448666135752,\n",
       " 3.990789283697146,\n",
       " 4.027777235019719,\n",
       " 3.9936521290125695,\n",
       " 3.9397772273180953,\n",
       " 3.977836063435738,\n",
       " 3.9579592223989164,\n",
       " 4.003271773386178,\n",
       " 4.007374868280873,\n",
       " 3.988058950486801,\n",
       " 4.026451381678976,\n",
       " 4.1452860878619715,\n",
       " 3.8846302017388417,\n",
       " 3.9372779031602145,\n",
       " 3.979731712345385,\n",
       " 3.937614924772354,\n",
       " 3.990027100342205,\n",
       " 3.943604567635512,\n",
       " 4.055265540239448,\n",
       " 3.9697685522128516,\n",
       " 3.9124411342516736,\n",
       " 3.8872119232106424,\n",
       " 4.100697689437871,\n",
       " 4.0388806847359255,\n",
       " 4.015421911789929,\n",
       " 4.093975484412739,\n",
       " 4.113759558896968,\n",
       " 4.068177170742234,\n",
       " 4.1194880291994265,\n",
       " 4.042773220270519,\n",
       " 3.9514987565766306,\n",
       " 3.9621099234454187,\n",
       " 3.924058509789538,\n",
       " 4.127504284857172,\n",
       " 3.98593878923556,\n",
       " 4.080627349418974,\n",
       " 3.980847392058729,\n",
       " 3.9679245607417606,\n",
       " 4.097725967952259,\n",
       " 4.166079839533717,\n",
       " 4.098001010230832,\n",
       " 3.9737482291247166,\n",
       " 3.9094842522312883,\n",
       " 3.966388819148827,\n",
       " 4.0359025156867645,\n",
       " 4.100816518083332,\n",
       " 3.935802212135398,\n",
       " 4.08724570311751,\n",
       " 3.9551471457906278,\n",
       " 3.9152633813212243,\n",
       " 3.9196026078262407,\n",
       " 3.9849647396713146,\n",
       " 4.112977641279752,\n",
       " 4.117003469028432,\n",
       " 4.096578632289319,\n",
       " 3.880383956577285,\n",
       " 4.00547387336557,\n",
       " 4.11478963443454,\n",
       " 4.116380581297835,\n",
       " 4.0604470745506624,\n",
       " 4.168146404985091,\n",
       " 4.06072129126858,\n",
       " 3.9840611059762416,\n",
       " 3.9797998404830155,\n",
       " 4.130629879788889,\n",
       " 4.0714971194873035,\n",
       " 3.9825128848310083,\n",
       " 3.9752319063138977,\n",
       " 4.0852053405709094,\n",
       " 3.9734383101171273,\n",
       " 3.8323812309448,\n",
       " 3.9938083068411094,\n",
       " 3.9448301954725964,\n",
       " 3.997109455238789,\n",
       " 4.056948445202579,\n",
       " 4.0660627641312885,\n",
       " 4.0788928770557895,\n",
       " 4.061615562596248,\n",
       " 4.035690841274689,\n",
       " 4.062157094396407,\n",
       " 3.8496533973493166,\n",
       " 4.09829418660381,\n",
       " 3.96200468209263,\n",
       " 4.033122002521756,\n",
       " 3.938006275116875,\n",
       " 3.9499023802210163,\n",
       " 3.953775561991187,\n",
       " 4.033838717501329,\n",
       " 4.0092448892188886,\n",
       " 3.8765193398823294,\n",
       " 4.1303850884658395,\n",
       " 4.132917248267084,\n",
       " 4.0178926602014515,\n",
       " 4.05344266703676,\n",
       " 3.9540717540053953,\n",
       " 4.074916327288215,\n",
       " 3.8383635863611936,\n",
       " 4.042464594038381,\n",
       " 3.9213021562791877,\n",
       " 3.9826647269475375,\n",
       " 4.04574622511109,\n",
       " 4.059439710260716,\n",
       " 3.8812411569245135,\n",
       " 3.975420602301549,\n",
       " 3.9864328092465047,\n",
       " 3.962132360728815,\n",
       " 4.072474658454358,\n",
       " 3.9614700719794715,\n",
       " 4.108543298061495,\n",
       " 3.88315798283889,\n",
       " 4.001428546219611,\n",
       " 3.9152557680314173,\n",
       " 3.983541130937896,\n",
       " 3.962234851809598,\n",
       " 4.038807898950737,\n",
       " 3.9882527986948952,\n",
       " 4.0836333362466375,\n",
       " 4.133583088222578,\n",
       " 4.027078047095566,\n",
       " 3.997352184879294,\n",
       " 3.995453154281792,\n",
       " 3.9437534447063434,\n",
       " 3.970708248352074,\n",
       " 3.959193706604655,\n",
       " 3.9349821640851355,\n",
       " 3.95351000360357,\n",
       " 4.137124956691107,\n",
       " 3.854748299304475,\n",
       " 3.836036270231101,\n",
       " 3.986533730326979,\n",
       " 4.071549656238705,\n",
       " 4.033572870647814,\n",
       " 3.932600951855579,\n",
       " 3.8839313212762736,\n",
       " 3.9310402864167235,\n",
       " 3.916256198664007,\n",
       " 4.015540364586123,\n",
       " 4.008255267579269,\n",
       " 3.990499676590222,\n",
       " 4.011623222661312,\n",
       " 3.9998880974008704,\n",
       " 3.7733789432985616,\n",
       " 3.9910215841759036,\n",
       " 3.9372720155505077,\n",
       " 4.0691130833691425,\n",
       " 4.031919293081639,\n",
       " 3.9089529352490406,\n",
       " 3.878820499510203,\n",
       " 3.9753892043696317,\n",
       " 3.846908972066523,\n",
       " 3.9777189430194047,\n",
       " 4.05801747797714,\n",
       " 4.08797596742102,\n",
       " 3.914687075964845,\n",
       " 4.110026894744059,\n",
       " 4.072877386374331,\n",
       " 4.096392306143009,\n",
       " 3.993785777269953,\n",
       " 3.93755962649429,\n",
       " 3.9620245425122183,\n",
       " 4.006389552692908,\n",
       " 3.9547496846894514,\n",
       " 3.9037045243238464,\n",
       " 3.9390716781084687,\n",
       " 3.944113421730752,\n",
       " 3.8529970356803602,\n",
       " 4.073702999200036,\n",
       " 4.030440505286646,\n",
       " 4.1843107060057925,\n",
       " 4.0464289327738285,\n",
       " 4.118413092088697,\n",
       " 4.088872212521647,\n",
       " 3.9166819311877235,\n",
       " 3.916378491488343,\n",
       " 3.884417535223281,\n",
       " 3.923468892334453,\n",
       " 4.050219351253457,\n",
       " 4.170445689231169,\n",
       " 4.03343686773227,\n",
       " 3.955147985514788,\n",
       " 4.0500330169897465,\n",
       " 3.92890063753868,\n",
       " 4.011642427335602,\n",
       " 4.04220951907847,\n",
       " 3.9515470820960616,\n",
       " 3.8576931167377184,\n",
       " 4.086269010195865,\n",
       " 4.047558955921852,\n",
       " 4.1331800230479985,\n",
       " 3.978977992661738,\n",
       " 3.9909968375813922,\n",
       " 3.96563080536843,\n",
       " 3.9533116974931097,\n",
       " 4.0599844015530975,\n",
       " 4.149973787445141,\n",
       " 4.0152290370184325,\n",
       " 4.203140374994174,\n",
       " 4.051249828588064,\n",
       " 3.960877101116584,\n",
       " 3.9606250472661033,\n",
       " 4.096096216804882]"
      ]
     },
     "execution_count": 129,
     "metadata": {},
     "output_type": "execute_result"
    }
   ],
   "source": [
    "sample_means  # 샘플 평균들의 분포"
   ]
  },
  {
   "cell_type": "code",
   "execution_count": 130,
   "id": "56237224",
   "metadata": {},
   "outputs": [
    {
     "data": {
      "text/plain": [
       "4.000417431125883"
      ]
     },
     "execution_count": 130,
     "metadata": {},
     "output_type": "execute_result"
    }
   ],
   "source": [
    "sp.mean(sample_means)  # 샘플 평균들의 분포의 평균  => 모평균에 수렴"
   ]
  },
  {
   "cell_type": "code",
   "execution_count": 131,
   "id": "d92ac48f",
   "metadata": {},
   "outputs": [
    {
     "data": {
      "text/plain": [
       "0.006197806475870684"
      ]
     },
     "execution_count": 131,
     "metadata": {},
     "output_type": "execute_result"
    }
   ],
   "source": [
    "sp.var(sample_means)   # 샘플 평균들의 분포의 분산  => 모분산에 수렴.."
   ]
  },
  {
   "cell_type": "code",
   "execution_count": 132,
   "id": "d6420464",
   "metadata": {},
   "outputs": [
    {
     "data": {
      "text/plain": [
       "0.6197806475870684"
      ]
     },
     "execution_count": 132,
     "metadata": {},
     "output_type": "execute_result"
    }
   ],
   "source": [
    "# 모분산/n     0.64/30\n",
    "# 모분산 \n",
    "\n",
    "sp.var(sample_means) * 100"
   ]
  },
  {
   "cell_type": "code",
   "execution_count": null,
   "id": "5bf6c788",
   "metadata": {},
   "outputs": [],
   "source": []
  },
  {
   "cell_type": "code",
   "execution_count": 127,
   "id": "148d8876",
   "metadata": {},
   "outputs": [
    {
     "data": {
      "text/plain": [
       "<AxesSubplot:ylabel='Density'>"
      ]
     },
     "execution_count": 127,
     "metadata": {},
     "output_type": "execute_result"
    },
    {
     "data": {
      "image/png": "[encoded data removed]",
      "text/plain": [
       "<Figure size 432x288 with 1 Axes>"
      ]
     },
     "metadata": {
      "needs_background": "light"
     },
     "output_type": "display_data"
    }
   ],
   "source": [
    "sns.distplot(sample_means, bins=100)  # 샘플 평균들의 분포 >> 정규분포(mu, theta/n)  >  N(4, 0.61)"
   ]
  },
  {
   "cell_type": "code",
   "execution_count": null,
   "id": "9271cef2",
   "metadata": {},
   "outputs": [],
   "source": []
  },
  {
   "cell_type": "code",
   "execution_count": 5,
   "id": "750e85e4",
   "metadata": {},
   "outputs": [],
   "source": [
    "from scipy import stats"
   ]
  },
  {
   "cell_type": "code",
   "execution_count": 138,
   "id": "8064614e",
   "metadata": {
    "collapsed": true
   },
   "outputs": [
    {
     "data": {
      "text/plain": [
       "array([1. , 1.1, 1.2, 1.3, 1.4, 1.5, 1.6, 1.7, 1.8, 1.9, 2. , 2.1, 2.2,\n",
       "       2.3, 2.4, 2.5, 2.6, 2.7, 2.8, 2.9, 3. , 3.1, 3.2, 3.3, 3.4, 3.5,\n",
       "       3.6, 3.7, 3.8, 3.9, 4. , 4.1, 4.2, 4.3, 4.4, 4.5, 4.6, 4.7, 4.8,\n",
       "       4.9, 5. , 5.1, 5.2, 5.3, 5.4, 5.5, 5.6, 5.7, 5.8, 5.9, 6. , 6.1,\n",
       "       6.2, 6.3, 6.4, 6.5, 6.6, 6.7, 6.8, 6.9])"
      ]
     },
     "execution_count": 138,
     "metadata": {},
     "output_type": "execute_result"
    }
   ],
   "source": [
    "x = np.arange(start=1, stop=7, step=0.1)\n",
    "x"
   ]
  },
  {
   "cell_type": "code",
   "execution_count": 139,
   "id": "abe7c855",
   "metadata": {
    "collapsed": true
   },
   "outputs": [
    {
     "data": {
      "text/plain": [
       "array([4.40744603e-04, 6.98826903e-04, 1.09085337e-03, 1.67639859e-03,\n",
       "       2.53631007e-03, 3.77782254e-03, 5.53981051e-03, 7.99765039e-03,\n",
       "       1.13669531e-02, 1.59052270e-02, 2.19103756e-02, 2.97148760e-02,\n",
       "       3.96745648e-02, 5.21512316e-02, 6.74887081e-02, 8.59828448e-02,\n",
       "       1.07846649e-01, 1.33172835e-01, 1.61896995e-01, 1.93765332e-01,\n",
       "       2.28311357e-01, 2.64845807e-01, 3.02463406e-01, 3.40068748e-01,\n",
       "       3.76421790e-01, 4.10201211e-01, 4.40081658e-01, 4.64818867e-01,\n",
       "       4.83335146e-01, 4.94797109e-01, 4.98677851e-01, 4.94797109e-01,\n",
       "       4.83335146e-01, 4.64818867e-01, 4.40081658e-01, 4.10201211e-01,\n",
       "       3.76421790e-01, 3.40068748e-01, 3.02463406e-01, 2.64845807e-01,\n",
       "       2.28311357e-01, 1.93765332e-01, 1.61896995e-01, 1.33172835e-01,\n",
       "       1.07846649e-01, 8.59828448e-02, 6.74887081e-02, 5.21512316e-02,\n",
       "       3.96745648e-02, 2.97148760e-02, 2.19103756e-02, 1.59052270e-02,\n",
       "       1.13669531e-02, 7.99765039e-03, 5.53981051e-03, 3.77782254e-03,\n",
       "       2.53631007e-03, 1.67639859e-03, 1.09085337e-03, 6.98826903e-04])"
      ]
     },
     "execution_count": 139,
     "metadata": {},
     "output_type": "execute_result"
    }
   ],
   "source": [
    "stats.norm.pdf(x=x, loc=4, scale=0.8)  # 평균 4, 표준편차 0.8인 정규분포에서 x값에 대한 확률값"
   ]
  },
  {
   "cell_type": "code",
   "execution_count": 142,
   "id": "b30af04d",
   "metadata": {},
   "outputs": [
    {
     "data": {
      "text/plain": [
       "[<matplotlib.lines.Line2D at 0x21b7294ce48>]"
      ]
     },
     "execution_count": 142,
     "metadata": {},
     "output_type": "execute_result"
    },
    {
     "data": {
      "image/png": "[encoded data removed]",
      "text/plain": [
       "<Figure size 432x288 with 1 Axes>"
      ]
     },
     "metadata": {
      "needs_background": "light"
     },
     "output_type": "display_data"
    }
   ],
   "source": [
    "plt.plot(x, stats.norm.pdf(x=x, loc=4, scale=0.8))"
   ]
  },
  {
   "cell_type": "code",
   "execution_count": 143,
   "id": "9f95e9fe",
   "metadata": {},
   "outputs": [
    {
     "data": {
      "text/plain": [
       "0.021910375616960673"
      ]
     },
     "execution_count": 143,
     "metadata": {},
     "output_type": "execute_result"
    }
   ],
   "source": [
    "stats.norm.pdf(2, loc=4, scale=0.8)"
   ]
  },
  {
   "cell_type": "code",
   "execution_count": 144,
   "id": "f745c4b4",
   "metadata": {},
   "outputs": [
    {
     "data": {
      "text/plain": [
       "0.2283113567362774"
      ]
     },
     "execution_count": 144,
     "metadata": {},
     "output_type": "execute_result"
    }
   ],
   "source": [
    "stats.norm.pdf(3, loc=4, scale=0.8)"
   ]
  },
  {
   "cell_type": "code",
   "execution_count": null,
   "id": "3d0a7896",
   "metadata": {},
   "outputs": [],
   "source": []
  },
  {
   "cell_type": "code",
   "execution_count": 146,
   "id": "ef687324",
   "metadata": {},
   "outputs": [
    {
     "data": {
      "text/plain": [
       "array([4.11744813, 4.94878044, 3.33051727, 4.11408658, 4.21329397,\n",
       "       4.70218875, 3.80691714, 3.9656674 , 3.50412718, 3.21351833])"
      ]
     },
     "execution_count": 146,
     "metadata": {},
     "output_type": "execute_result"
    }
   ],
   "source": [
    "sample_norm = stats.norm.rvs(loc=4, scale=0.8, size=10)  # rvs - 특정 분포에서 샘플을 추출하는 함수\n",
    "sample_norm"
   ]
  },
  {
   "cell_type": "code",
   "execution_count": 147,
   "id": "41cf7fad",
   "metadata": {},
   "outputs": [
    {
     "data": {
      "text/plain": [
       "3.9916545177653946"
      ]
     },
     "execution_count": 147,
     "metadata": {},
     "output_type": "execute_result"
    }
   ],
   "source": [
    "sp.mean(sample_norm)"
   ]
  },
  {
   "cell_type": "code",
   "execution_count": 148,
   "id": "766ad7d3",
   "metadata": {},
   "outputs": [
    {
     "data": {
      "text/plain": [
       "0.28159711536305015"
      ]
     },
     "execution_count": 148,
     "metadata": {},
     "output_type": "execute_result"
    }
   ],
   "source": [
    "sp.var(sample_norm)   "
   ]
  },
  {
   "cell_type": "code",
   "execution_count": null,
   "id": "3fe82312",
   "metadata": {},
   "outputs": [],
   "source": []
  },
  {
   "cell_type": "code",
   "execution_count": 156,
   "id": "dbad3e35",
   "metadata": {},
   "outputs": [],
   "source": [
    "population = stats.norm(loc=4, scale=0.8)  # 평균이 4이고 표준편차가 0.8인 정규분포 객체 생성"
   ]
  },
  {
   "cell_type": "code",
   "execution_count": 157,
   "id": "4e577151",
   "metadata": {},
   "outputs": [
    {
     "data": {
      "text/plain": [
       "array([4.85074965, 4.55338181, 4.25691517, 3.78274565, 4.18770264,\n",
       "       5.04980336, 3.01694383, 6.35932865, 3.99767106, 4.06222893])"
      ]
     },
     "execution_count": 157,
     "metadata": {},
     "output_type": "execute_result"
    }
   ],
   "source": [
    "population.rvs(size=10)  # 샘플 10개 추출"
   ]
  },
  {
   "cell_type": "code",
   "execution_count": 158,
   "id": "6bef3ef8",
   "metadata": {},
   "outputs": [
    {
     "data": {
      "text/plain": [
       "0.2283113567362774"
      ]
     },
     "execution_count": 158,
     "metadata": {},
     "output_type": "execute_result"
    }
   ],
   "source": [
    "population.pdf(5)  # 5가 등장할 확률"
   ]
  },
  {
   "cell_type": "code",
   "execution_count": null,
   "id": "dcb77e60",
   "metadata": {},
   "outputs": [],
   "source": []
  },
  {
   "cell_type": "code",
   "execution_count": null,
   "id": "5536a634",
   "metadata": {},
   "outputs": [],
   "source": [
    "# 중심극한정리"
   ]
  },
  {
   "cell_type": "code",
   "execution_count": 159,
   "id": "5038ee9e",
   "metadata": {},
   "outputs": [],
   "source": [
    "sample_means = []\n",
    "\n",
    "for _ in range(100):\n",
    "    sample = population.rvs(size=30)  # 이론적으로 30개 이상 추출해야 중심극한정리 성립..\n",
    "    sample_means.append(sp.mean(sample))"
   ]
  },
  {
   "cell_type": "code",
   "execution_count": 162,
   "id": "1d9f0cff",
   "metadata": {},
   "outputs": [
    {
     "data": {
      "text/plain": [
       "3.9932356664280118"
      ]
     },
     "execution_count": 162,
     "metadata": {},
     "output_type": "execute_result"
    }
   ],
   "source": [
    "sp.mean(sample_means)"
   ]
  },
  {
   "cell_type": "code",
   "execution_count": 164,
   "id": "e6ff7f47",
   "metadata": {},
   "outputs": [
    {
     "data": {
      "text/plain": [
       "0.6585630215161431"
      ]
     },
     "execution_count": 164,
     "metadata": {},
     "output_type": "execute_result"
    }
   ],
   "source": [
    "sp.var(sample_means) * 30  # 표본평균분포의 분산 = theta/n"
   ]
  },
  {
   "cell_type": "code",
   "execution_count": 166,
   "id": "bbe518d2",
   "metadata": {},
   "outputs": [
    {
     "data": {
      "text/plain": [
       "<AxesSubplot:ylabel='Density'>"
      ]
     },
     "execution_count": 166,
     "metadata": {},
     "output_type": "execute_result"
    },
    {
     "data": {
      "image/png": "[encoded data removed]",
      "text/plain": [
       "<Figure size 432x288 with 1 Axes>"
      ]
     },
     "metadata": {
      "needs_background": "light"
     },
     "output_type": "display_data"
    }
   ],
   "source": [
    "sns.distplot(sample_means, bins=100)"
   ]
  },
  {
   "cell_type": "code",
   "execution_count": null,
   "id": "c48f634e",
   "metadata": {},
   "outputs": [],
   "source": []
  },
  {
   "cell_type": "code",
   "execution_count": null,
   "id": "0cbbbeee",
   "metadata": {},
   "outputs": [],
   "source": []
  },
  {
   "cell_type": "code",
   "execution_count": 167,
   "id": "c4260bb2",
   "metadata": {},
   "outputs": [],
   "source": [
    "def calc_sample_mean(size=30, n_trial=1000):\n",
    "\n",
    "    sample_means = []\n",
    "\n",
    "    for _ in range(n_trial):\n",
    "        sample = population.rvs(size)  # 이론적으로 30개 이상 추출해야 중심극한정리 성립..\n",
    "        sample_means.append(sp.mean(sample))\n",
    "        \n",
    "    return sample_means"
   ]
  },
  {
   "cell_type": "code",
   "execution_count": 179,
   "id": "a1cc6d18",
   "metadata": {},
   "outputs": [],
   "source": [
    "sam_arr1 = calc_sample_mean(size=30, n_trial=1000 )\n",
    "sam_arr2 = calc_sample_mean(size=100, n_trial=1000 )\n",
    "sam_arr3 = calc_sample_mean(size=500, n_trial=1000 )\n",
    "sam_arr4 = calc_sample_mean(size=1000, n_trial=1000 )"
   ]
  },
  {
   "cell_type": "code",
   "execution_count": 180,
   "id": "67feb63c",
   "metadata": {},
   "outputs": [
    {
     "name": "stdout",
     "output_type": "stream",
     "text": [
      "4.00653823252476 3.9952962972031303 4.0010169940653535 4.001135008366002\n"
     ]
    }
   ],
   "source": [
    "print(sp.mean(sam_arr1), sp.mean(sam_arr2), sp.mean(sam_arr3), sp.mean(sam_arr4))"
   ]
  },
  {
   "cell_type": "code",
   "execution_count": 182,
   "id": "d7164bd4",
   "metadata": {},
   "outputs": [
    {
     "name": "stdout",
     "output_type": "stream",
     "text": [
      "0.14325903906945384 0.08110756361276059 0.03558385127230126 0.025631631379911042\n"
     ]
    }
   ],
   "source": [
    "print(sp.std(sam_arr1), sp.std(sam_arr2), sp.std(sam_arr3), sp.std(sam_arr4))   # theta/n"
   ]
  },
  {
   "cell_type": "code",
   "execution_count": 183,
   "id": "5af1f04e",
   "metadata": {},
   "outputs": [
    {
     "data": {
      "text/plain": [
       "<AxesSubplot:ylabel='Density'>"
      ]
     },
     "execution_count": 183,
     "metadata": {},
     "output_type": "execute_result"
    },
    {
     "data": {
      "image/png": "[encoded data removed]",
      "text/plain": [
       "<Figure size 432x288 with 1 Axes>"
      ]
     },
     "metadata": {
      "needs_background": "light"
     },
     "output_type": "display_data"
    }
   ],
   "source": [
    "sns.distplot(sam_arr1, bins=100)"
   ]
  },
  {
   "cell_type": "code",
   "execution_count": 184,
   "id": "d44cde07",
   "metadata": {},
   "outputs": [
    {
     "data": {
      "text/plain": [
       "<AxesSubplot:ylabel='Density'>"
      ]
     },
     "execution_count": 184,
     "metadata": {},
     "output_type": "execute_result"
    },
    {
     "data": {
      "image/png": "[encoded data removed]",
      "text/plain": [
       "<Figure size 432x288 with 1 Axes>"
      ]
     },
     "metadata": {
      "needs_background": "light"
     },
     "output_type": "display_data"
    }
   ],
   "source": [
    "sns.distplot(sam_arr2, bins=100)"
   ]
  },
  {
   "cell_type": "code",
   "execution_count": 185,
   "id": "349a92e8",
   "metadata": {},
   "outputs": [
    {
     "data": {
      "text/plain": [
       "<AxesSubplot:ylabel='Density'>"
      ]
     },
     "execution_count": 185,
     "metadata": {},
     "output_type": "execute_result"
    },
    {
     "data": {
      "image/png": "[encoded data removed]",
      "text/plain": [
       "<Figure size 432x288 with 1 Axes>"
      ]
     },
     "metadata": {
      "needs_background": "light"
     },
     "output_type": "display_data"
    }
   ],
   "source": [
    "sns.distplot(sam_arr3, bins=100)"
   ]
  },
  {
   "cell_type": "code",
   "execution_count": 187,
   "id": "e5780fde",
   "metadata": {},
   "outputs": [
    {
     "data": {
      "text/plain": [
       "<AxesSubplot:ylabel='Density'>"
      ]
     },
     "execution_count": 187,
     "metadata": {},
     "output_type": "execute_result"
    },
    {
     "data": {
      "image/png": "[encoded data removed]",
      "text/plain": [
       "<Figure size 432x288 with 1 Axes>"
      ]
     },
     "metadata": {
      "needs_background": "light"
     },
     "output_type": "display_data"
    }
   ],
   "source": [
    "sns.distplot(sam_arr4, bins=100)"
   ]
  },
  {
   "cell_type": "code",
   "execution_count": 186,
   "id": "39bf9622",
   "metadata": {},
   "outputs": [],
   "source": [
    "# 샘플의 사이즈가 클수록 샘플평균의 분포는 평균은 모평균에 더욱 수렴하고 분산은 줄어든다.."
   ]
  },
  {
   "cell_type": "code",
   "execution_count": null,
   "id": "d6b69e49",
   "metadata": {},
   "outputs": [],
   "source": []
  },
  {
   "cell_type": "code",
   "execution_count": null,
   "id": "e9bc99d1",
   "metadata": {},
   "outputs": [],
   "source": [
    "# 확률밀도함수\n",
    "\n",
    "# PDF(Probability Density Function, 확률 밀도 함수) : 확률분포\n",
    "# CDF(Cumulative Distribution Function, 누적 분포 함수) : 누적확률분포"
   ]
  },
  {
   "cell_type": "code",
   "execution_count": 189,
   "id": "8e851567",
   "metadata": {},
   "outputs": [],
   "source": [
    "x = np.arange(start=1, stop=7, step=0.1)"
   ]
  },
  {
   "cell_type": "code",
   "execution_count": 190,
   "id": "7a511cdc",
   "metadata": {},
   "outputs": [
    {
     "data": {
      "text/plain": [
       "[<matplotlib.lines.Line2D at 0x21b74fa50c8>]"
      ]
     },
     "execution_count": 190,
     "metadata": {},
     "output_type": "execute_result"
    },
    {
     "data": {
      "image/png": "[encoded data removed]",
      "text/plain": [
       "<Figure size 432x288 with 1 Axes>"
      ]
     },
     "metadata": {
      "needs_background": "light"
     },
     "output_type": "display_data"
    }
   ],
   "source": [
    "plt.plot(x, stats.norm.pdf(x=x, loc=4, scale=0.8))  # 특정 값의 확률"
   ]
  },
  {
   "cell_type": "code",
   "execution_count": 191,
   "id": "777dee48",
   "metadata": {},
   "outputs": [
    {
     "data": {
      "text/plain": [
       "[<matplotlib.lines.Line2D at 0x21b75010f88>]"
      ]
     },
     "execution_count": 191,
     "metadata": {},
     "output_type": "execute_result"
    },
    {
     "data": {
      "image/png": "[encoded data removed]",
      "text/plain": [
       "<Figure size 432x288 with 1 Axes>"
      ]
     },
     "metadata": {
      "needs_background": "light"
     },
     "output_type": "display_data"
    }
   ],
   "source": [
    "plt.plot(x, stats.norm.cdf(x=x, loc=4, scale=0.8))  # 0부터 특정 값까지 누적 확률"
   ]
  },
  {
   "cell_type": "code",
   "execution_count": 192,
   "id": "0668134b",
   "metadata": {},
   "outputs": [],
   "source": [
    "norm_dist = stats.norm(loc=4, scale=0.8)"
   ]
  },
  {
   "cell_type": "code",
   "execution_count": 193,
   "id": "a0e56fbf",
   "metadata": {},
   "outputs": [
    {
     "data": {
      "text/plain": [
       "0.2283113567362774"
      ]
     },
     "execution_count": 193,
     "metadata": {},
     "output_type": "execute_result"
    }
   ],
   "source": [
    "norm_dist.pdf(x=3)"
   ]
  },
  {
   "cell_type": "code",
   "execution_count": 194,
   "id": "17d64258",
   "metadata": {},
   "outputs": [
    {
     "data": {
      "text/plain": [
       "0.10564977366685535"
      ]
     },
     "execution_count": 194,
     "metadata": {},
     "output_type": "execute_result"
    }
   ],
   "source": [
    "norm_dist.cdf(x=3)  # x값을 입력받은 후 x까지의 누적밀도확률값 "
   ]
  },
  {
   "cell_type": "code",
   "execution_count": 195,
   "id": "29ff76fa",
   "metadata": {},
   "outputs": [
    {
     "data": {
      "text/plain": [
       "0.49867785050179086"
      ]
     },
     "execution_count": 195,
     "metadata": {},
     "output_type": "execute_result"
    }
   ],
   "source": [
    "norm_dist.pdf(x=4)"
   ]
  },
  {
   "cell_type": "code",
   "execution_count": 196,
   "id": "8d1aeea5",
   "metadata": {},
   "outputs": [
    {
     "data": {
      "text/plain": [
       "0.5"
      ]
     },
     "execution_count": 196,
     "metadata": {},
     "output_type": "execute_result"
    }
   ],
   "source": [
    "norm_dist.cdf(x=4)"
   ]
  },
  {
   "cell_type": "code",
   "execution_count": 199,
   "id": "7df8d6ba",
   "metadata": {},
   "outputs": [
    {
     "data": {
      "text/plain": [
       "0.2283113567362774"
      ]
     },
     "execution_count": 199,
     "metadata": {},
     "output_type": "execute_result"
    }
   ],
   "source": [
    "norm_dist.pdf(x=5)"
   ]
  },
  {
   "cell_type": "code",
   "execution_count": 200,
   "id": "462c59bf",
   "metadata": {},
   "outputs": [
    {
     "data": {
      "text/plain": [
       "0.8943502263331446"
      ]
     },
     "execution_count": 200,
     "metadata": {},
     "output_type": "execute_result"
    }
   ],
   "source": [
    "norm_dist.cdf(x=5)"
   ]
  },
  {
   "cell_type": "code",
   "execution_count": null,
   "id": "618e185f",
   "metadata": {},
   "outputs": [],
   "source": []
  },
  {
   "cell_type": "code",
   "execution_count": null,
   "id": "2ba5ea6a",
   "metadata": {},
   "outputs": [],
   "source": []
  },
  {
   "cell_type": "code",
   "execution_count": null,
   "id": "0729f0d3",
   "metadata": {},
   "outputs": [],
   "source": [
    "# 퍼센트포인트  : 누적확률값을 입력받은 후 x값을 리턴"
   ]
  },
  {
   "cell_type": "code",
   "execution_count": 201,
   "id": "5e880d54",
   "metadata": {},
   "outputs": [
    {
     "data": {
      "text/plain": [
       "2.4320288123679563"
      ]
     },
     "execution_count": 201,
     "metadata": {},
     "output_type": "execute_result"
    }
   ],
   "source": [
    "norm_dist.ppf(q=0.025)"
   ]
  },
  {
   "cell_type": "code",
   "execution_count": 202,
   "id": "4342efdb",
   "metadata": {},
   "outputs": [
    {
     "data": {
      "text/plain": [
       "4.0"
      ]
     },
     "execution_count": 202,
     "metadata": {},
     "output_type": "execute_result"
    }
   ],
   "source": [
    "norm_dist.ppf(q=0.5)"
   ]
  },
  {
   "cell_type": "code",
   "execution_count": 204,
   "id": "6b2cc6e0",
   "metadata": {},
   "outputs": [
    {
     "data": {
      "text/plain": [
       "4.673296986858332"
      ]
     },
     "execution_count": 204,
     "metadata": {},
     "output_type": "execute_result"
    }
   ],
   "source": [
    "norm_dist.ppf(q=0.8)"
   ]
  },
  {
   "cell_type": "code",
   "execution_count": null,
   "id": "31a1dadd",
   "metadata": {},
   "outputs": [],
   "source": []
  },
  {
   "cell_type": "code",
   "execution_count": null,
   "id": "93b31271",
   "metadata": {},
   "outputs": [],
   "source": []
  },
  {
   "cell_type": "code",
   "execution_count": 206,
   "id": "794341ca",
   "metadata": {
    "collapsed": true
   },
   "outputs": [
    {
     "data": {
      "text/plain": [
       "<scipy.stats._distn_infrastructure.rv_frozen at 0x21b74f78e08>"
      ]
     },
     "execution_count": 206,
     "metadata": {},
     "output_type": "execute_result"
    }
   ],
   "source": [
    "norm_dist # 평균 4, 표준편차 0.8 정규분포"
   ]
  },
  {
   "cell_type": "code",
   "execution_count": 208,
   "id": "d900763a",
   "metadata": {
    "collapsed": true
   },
   "outputs": [
    {
     "data": {
      "text/plain": [
       "0.08598284478336488"
      ]
     },
     "execution_count": 208,
     "metadata": {},
     "output_type": "execute_result"
    }
   ],
   "source": [
    "# 5.5가 나올 확률\n",
    "\n",
    "norm_dist.pdf(5.5)"
   ]
  },
  {
   "cell_type": "code",
   "execution_count": 209,
   "id": "b09b6ab4",
   "metadata": {},
   "outputs": [
    {
     "data": {
      "text/plain": [
       "0.10564977366685535"
      ]
     },
     "execution_count": 209,
     "metadata": {},
     "output_type": "execute_result"
    }
   ],
   "source": [
    "# 3 이하가 나올 확률을 구하시오\n",
    "\n",
    "norm_dist.cdf(3)"
   ]
  },
  {
   "cell_type": "code",
   "execution_count": 211,
   "id": "779022e7",
   "metadata": {
    "collapsed": true
   },
   "outputs": [
    {
     "data": {
      "text/plain": [
       "0.10564977366685535"
      ]
     },
     "execution_count": 211,
     "metadata": {},
     "output_type": "execute_result"
    }
   ],
   "source": [
    "# 5 이상 나올 확률\n",
    "1- norm_dist.cdf(5)"
   ]
  },
  {
   "cell_type": "code",
   "execution_count": 212,
   "id": "1be14b28",
   "metadata": {
    "collapsed": true
   },
   "outputs": [
    {
     "data": {
      "text/plain": [
       "0.09944010834107922"
      ]
     },
     "execution_count": 212,
     "metadata": {},
     "output_type": "execute_result"
    }
   ],
   "source": [
    "# 2 ~ 3이 나올 확률\n",
    "\n",
    "norm_dist.cdf(3) - norm_dist.cdf(2)"
   ]
  },
  {
   "cell_type": "code",
   "execution_count": 213,
   "id": "1b71cc5a",
   "metadata": {
    "collapsed": true
   },
   "outputs": [
    {
     "data": {
      "text/plain": [
       "0.9005598916589208"
      ]
     },
     "execution_count": 213,
     "metadata": {},
     "output_type": "execute_result"
    }
   ],
   "source": [
    "# 2 ~ 3이외의 값이 나올 확률\n",
    "\n",
    "1 - (norm_dist.cdf(3) - norm_dist.cdf(2))"
   ]
  },
  {
   "cell_type": "code",
   "execution_count": 214,
   "id": "e2e2630d",
   "metadata": {
    "collapsed": true
   },
   "outputs": [
    {
     "data": {
      "text/plain": [
       "4.419520410166433"
      ]
     },
     "execution_count": 214,
     "metadata": {},
     "output_type": "execute_result"
    }
   ],
   "source": [
    "# 누적확률이 70%가 되는 x값은 \n",
    "\n",
    "norm_dist.ppf(0.7)"
   ]
  },
  {
   "cell_type": "code",
   "execution_count": 216,
   "id": "b9087857",
   "metadata": {
    "collapsed": true
   },
   "outputs": [
    {
     "data": {
      "text/plain": [
       "0.2112995473337107"
      ]
     },
     "execution_count": 216,
     "metadata": {},
     "output_type": "execute_result"
    }
   ],
   "source": [
    "# 3보다 작고 5보다 클 확률\n",
    "\n",
    "(1 - norm_dist.cdf(5))*2"
   ]
  },
  {
   "cell_type": "code",
   "execution_count": null,
   "id": "3b918e17",
   "metadata": {},
   "outputs": [],
   "source": []
  },
  {
   "cell_type": "code",
   "execution_count": 217,
   "id": "1e02d4f7",
   "metadata": {},
   "outputs": [],
   "source": [
    "# 정규분포 => 표준정규분포 N(0, 1) : z분포\n",
    "# 표준화 : z = (x - x_mean)/ x.std()"
   ]
  },
  {
   "cell_type": "code",
   "execution_count": 221,
   "id": "eb9ddfff",
   "metadata": {},
   "outputs": [],
   "source": [
    "z_arr = (x - x.mean())/x.std()"
   ]
  },
  {
   "cell_type": "code",
   "execution_count": 222,
   "id": "05dd6396",
   "metadata": {},
   "outputs": [
    {
     "data": {
      "text/plain": [
       "-1.2212453270876723e-16"
      ]
     },
     "execution_count": 222,
     "metadata": {},
     "output_type": "execute_result"
    }
   ],
   "source": [
    "sp.mean(z_arr)"
   ]
  },
  {
   "cell_type": "code",
   "execution_count": 223,
   "id": "335de047",
   "metadata": {},
   "outputs": [
    {
     "data": {
      "text/plain": [
       "1.0"
      ]
     },
     "execution_count": 223,
     "metadata": {},
     "output_type": "execute_result"
    }
   ],
   "source": [
    "sp.std(z_arr)"
   ]
  },
  {
   "cell_type": "code",
   "execution_count": null,
   "id": "930f184f",
   "metadata": {},
   "outputs": [],
   "source": []
  },
  {
   "cell_type": "code",
   "execution_count": 224,
   "id": "661a9a65",
   "metadata": {},
   "outputs": [],
   "source": [
    "# 표준정규분포 객체\n",
    "\n",
    "z_dist = stats.norm(loc=0, scale=1)"
   ]
  },
  {
   "cell_type": "code",
   "execution_count": null,
   "id": "e2d8ac8d",
   "metadata": {},
   "outputs": [],
   "source": []
  },
  {
   "cell_type": "code",
   "execution_count": 228,
   "id": "9cb29225",
   "metadata": {},
   "outputs": [
    {
     "name": "stdout",
     "output_type": "stream",
     "text": [
      "4.001138585881759 0.7936159726032358\n"
     ]
    }
   ],
   "source": [
    "norm_temp = norm_dist.rvs(size=100)\n",
    "\n",
    "print(sp.mean(norm_temp), sp.std(norm_temp))"
   ]
  },
  {
   "cell_type": "code",
   "execution_count": 230,
   "id": "9129fba7",
   "metadata": {},
   "outputs": [],
   "source": [
    "z_temp = (norm_temp - norm_temp.mean())/sp.std(norm_temp)"
   ]
  },
  {
   "cell_type": "code",
   "execution_count": 231,
   "id": "a25d35df",
   "metadata": {},
   "outputs": [],
   "source": [
    "def to_standardization(x):\n",
    "    return (x - 4)/0.8"
   ]
  },
  {
   "cell_type": "code",
   "execution_count": 235,
   "id": "f74ec153",
   "metadata": {},
   "outputs": [
    {
     "data": {
      "text/plain": [
       "-1.25"
      ]
     },
     "execution_count": 235,
     "metadata": {},
     "output_type": "execute_result"
    }
   ],
   "source": [
    "z3 = to_standardization(3)\n",
    "z3"
   ]
  },
  {
   "cell_type": "code",
   "execution_count": 234,
   "id": "c5a26d1a",
   "metadata": {},
   "outputs": [
    {
     "data": {
      "text/plain": [
       "0.10564977366685535"
      ]
     },
     "execution_count": 234,
     "metadata": {},
     "output_type": "execute_result"
    }
   ],
   "source": [
    "z_dist.cdf(z3)"
   ]
  },
  {
   "cell_type": "code",
   "execution_count": null,
   "id": "a85357dc",
   "metadata": {},
   "outputs": [],
   "source": []
  },
  {
   "cell_type": "code",
   "execution_count": null,
   "id": "d5da8084",
   "metadata": {},
   "outputs": [],
   "source": []
  },
  {
   "cell_type": "code",
   "execution_count": 6,
   "id": "2b840991",
   "metadata": {},
   "outputs": [],
   "source": [
    "# 추정\n",
    "# 모집단에 통계값(평균, 분산)을 표본추출은 통해서 추정해내는 것.."
   ]
  },
  {
   "cell_type": "code",
   "execution_count": 9,
   "id": "3440b702",
   "metadata": {},
   "outputs": [
    {
     "data": {
      "text/plain": [
       "0    4.352982\n",
       "1    3.735304\n",
       "2    5.944617\n",
       "3    3.798326\n",
       "4    4.087688\n",
       "5    5.265985\n",
       "6    3.272614\n",
       "7    3.526691\n",
       "8    4.150083\n",
       "9    3.736104\n",
       "Name: length, dtype: float64"
      ]
     },
     "execution_count": 9,
     "metadata": {},
     "output_type": "execute_result"
    }
   ],
   "source": [
    "fish = pd.read_csv('./stat_files/fish_length.csv')['length']\n",
    "fish"
   ]
  },
  {
   "cell_type": "code",
   "execution_count": 15,
   "id": "e04b0ab7",
   "metadata": {},
   "outputs": [],
   "source": [
    "df = len(fish) -1"
   ]
  },
  {
   "cell_type": "code",
   "execution_count": 17,
   "id": "828daa3f",
   "metadata": {},
   "outputs": [
    {
     "data": {
      "text/plain": [
       "2.2621571627409915"
      ]
     },
     "execution_count": 17,
     "metadata": {},
     "output_type": "execute_result"
    }
   ],
   "source": [
    "stats.t.ppf(0.975, df=df)"
   ]
  },
  {
   "cell_type": "code",
   "execution_count": null,
   "id": "cb240b13",
   "metadata": {},
   "outputs": [],
   "source": []
  },
  {
   "cell_type": "code",
   "execution_count": null,
   "id": "03322f52",
   "metadata": {},
   "outputs": [],
   "source": [
    "# 모평균 95% 신뢰구간을 추정하시오..\n",
    "# mu => x_mean - 2.26*(s/np.sqrt(n)) < mu < x_mean + 2.26*(s/np.sqrt(n))"
   ]
  },
  {
   "cell_type": "code",
   "execution_count": 18,
   "id": "8ba98372",
   "metadata": {},
   "outputs": [
    {
     "data": {
      "text/plain": [
       "4.187039324504523"
      ]
     },
     "execution_count": 18,
     "metadata": {},
     "output_type": "execute_result"
    }
   ],
   "source": [
    "sp.mean(fish)"
   ]
  },
  {
   "cell_type": "code",
   "execution_count": 19,
   "id": "2a82bab1",
   "metadata": {},
   "outputs": [
    {
     "data": {
      "text/plain": [
       "0.782477819030633"
      ]
     },
     "execution_count": 19,
     "metadata": {},
     "output_type": "execute_result"
    }
   ],
   "source": [
    "sp.std(fish)"
   ]
  },
  {
   "cell_type": "code",
   "execution_count": 21,
   "id": "eb71844c",
   "metadata": {},
   "outputs": [
    {
     "data": {
      "text/plain": [
       "3.622553694065518"
      ]
     },
     "execution_count": 21,
     "metadata": {},
     "output_type": "execute_result"
    }
   ],
   "source": [
    "4.18 - 2.26*(0.78/np.sqrt(10))"
   ]
  },
  {
   "cell_type": "code",
   "execution_count": 22,
   "id": "b4797d44",
   "metadata": {},
   "outputs": [
    {
     "data": {
      "text/plain": [
       "4.737446305934482"
      ]
     },
     "execution_count": 22,
     "metadata": {},
     "output_type": "execute_result"
    }
   ],
   "source": [
    "4.18 + 2.26*(0.78/np.sqrt(10))"
   ]
  },
  {
   "cell_type": "code",
   "execution_count": 24,
   "id": "1a5c91b6",
   "metadata": {},
   "outputs": [
    {
     "data": {
      "text/plain": [
       "(3.5918391376873418, 4.768160862312658)"
      ]
     },
     "execution_count": 24,
     "metadata": {},
     "output_type": "execute_result"
    }
   ],
   "source": [
    "stats.t.interval(alpha=0.95, df=9, loc=4.18, scale=0.26)"
   ]
  },
  {
   "cell_type": "code",
   "execution_count": null,
   "id": "c7e2d1aa",
   "metadata": {},
   "outputs": [],
   "source": []
  },
  {
   "cell_type": "code",
   "execution_count": 27,
   "id": "0db00020",
   "metadata": {},
   "outputs": [],
   "source": []
  },
  {
   "cell_type": "code",
   "execution_count": null,
   "id": "1c80d795",
   "metadata": {},
   "outputs": [],
   "source": [
    "# 검정 : 귀무가설과 대립가설의 주장을 검정\n",
    "\n",
    "# 귀무가설 : 기존의 주장, 사실이 지속된다는 주장\n",
    "# 대립가설 : 기존의 주장, 사실이 달라졌다는 주장\n",
    "\n",
    "# 검정방법 : \n",
    "# 귀무가설이 옳다라는 전제로 검정을 실행해서 나오는 확률값이 매우 작으면 귀무가설을 기각\n",
    "# 귀무가설이 옳다라는 전제로 검정을 실행해서 나오는 확률값이 크면 귀무가설을 채택\n",
    "\n",
    "# 기준이 되는 확률값... (신뢰수준 또는 유의수준)을 확정해야먄 검정이 가능\n",
    "\n",
    "# 신뢰수준 : 귀무가설을 채택할 확률 수준\n",
    "# 유의수준 : (1-신뢰수준) 귀무가설을 채택할 수준의 확률\n",
    "\n",
    "# 임계값 vs 통계값\n",
    "#          <        : 대립가설 채택  (통계값이 임계값(경계선)을 좌 또는 우에서 벗어난 경우)\n",
    "#          >        : 귀무가설 채택  (통계값이 임계값(경계선) 보다 경계선 안쪽에 있는 경우)\n",
    "\n",
    "# 유의수준 vs p_value\n",
    "#          <        : 귀무가설 채택  (통계값이 임계값(경계선)을 안쪽에 있는 경우)\n",
    "#          >        : 대립가설 채택  (통계값이 임계값(경계선) 보다 밖에 있는 경우)"
   ]
  },
  {
   "cell_type": "code",
   "execution_count": null,
   "id": "4efaac50",
   "metadata": {},
   "outputs": [],
   "source": []
  },
  {
   "cell_type": "code",
   "execution_count": 28,
   "id": "85bb5861",
   "metadata": {
    "collapsed": true
   },
   "outputs": [
    {
     "data": {
      "text/plain": [
       "0     58.529820\n",
       "1     52.353039\n",
       "2     74.446169\n",
       "3     52.983263\n",
       "4     55.876879\n",
       "5     67.659849\n",
       "6     47.726141\n",
       "7     50.266907\n",
       "8     56.500826\n",
       "9     52.361040\n",
       "10    45.457883\n",
       "11    53.360988\n",
       "12    52.129368\n",
       "13    59.827773\n",
       "14    41.681692\n",
       "15    49.398568\n",
       "16    64.211128\n",
       "17    69.858648\n",
       "18    42.910564\n",
       "19    60.158780\n",
       "Name: weight, dtype: float64"
      ]
     },
     "execution_count": 28,
     "metadata": {},
     "output_type": "execute_result"
    }
   ],
   "source": [
    "junk_food = pd.read_csv('./stat_files/junk-food-weight.csv')['weight']  # sample\n",
    "junk_food"
   ]
  },
  {
   "cell_type": "code",
   "execution_count": 34,
   "id": "4fe1042d",
   "metadata": {},
   "outputs": [
    {
     "data": {
      "text/plain": [
       "20"
      ]
     },
     "execution_count": 34,
     "metadata": {},
     "output_type": "execute_result"
    }
   ],
   "source": [
    "len(junk_food)"
   ]
  },
  {
   "cell_type": "code",
   "execution_count": null,
   "id": "2d7d1bea",
   "metadata": {},
   "outputs": [],
   "source": [
    "# 검정\n",
    "\n",
    "# 귀무가설 : 과자의 무게가 50이다\n",
    "# 대립가설 : 과자의 무게가 50이 아니다\n",
    "\n",
    "# 신뢰수준 95%로 검정하시오 (유의수준 5%로 검정)"
   ]
  },
  {
   "cell_type": "code",
   "execution_count": 33,
   "id": "27d81ff4",
   "metadata": {},
   "outputs": [],
   "source": [
    "# stats.norm.ppf(0.975)"
   ]
  },
  {
   "cell_type": "code",
   "execution_count": 30,
   "id": "c9430631",
   "metadata": {},
   "outputs": [
    {
     "data": {
      "text/plain": [
       "55.38496619666667"
      ]
     },
     "execution_count": 30,
     "metadata": {},
     "output_type": "execute_result"
    }
   ],
   "source": [
    "# 표본의 평균 : x_hat\n",
    "sp.mean(junk_food)"
   ]
  },
  {
   "cell_type": "code",
   "execution_count": 31,
   "id": "6fe1b54b",
   "metadata": {},
   "outputs": [
    {
     "data": {
      "text/plain": [
       "8.534408898389975"
      ]
     },
     "execution_count": 31,
     "metadata": {},
     "output_type": "execute_result"
    }
   ],
   "source": [
    "# 표본의 표준편차 : s\n",
    "sp.std(junk_food)"
   ]
  },
  {
   "cell_type": "code",
   "execution_count": 32,
   "id": "b55e0c95",
   "metadata": {},
   "outputs": [
    {
     "data": {
      "text/plain": [
       "2.7885083013526777"
      ]
     },
     "execution_count": 32,
     "metadata": {},
     "output_type": "execute_result"
    }
   ],
   "source": [
    "# 검정통계량 t = (x- mu) / (s/sp.sqrt(n))\n",
    "t = (55.3 - 50)/(8.5/sp.sqrt(20))\n",
    "t"
   ]
  },
  {
   "cell_type": "code",
   "execution_count": 36,
   "id": "23297efb",
   "metadata": {},
   "outputs": [
    {
     "data": {
      "text/plain": [
       "2.093024054408263"
      ]
     },
     "execution_count": 36,
     "metadata": {},
     "output_type": "execute_result"
    }
   ],
   "source": [
    "# 임계값\n",
    "\n",
    "stats.t.ppf(0.975, df=19)"
   ]
  },
  {
   "cell_type": "code",
   "execution_count": 38,
   "id": "c45339d0",
   "metadata": {},
   "outputs": [
    {
     "data": {
      "text/plain": [
       "0.005863028445662666"
      ]
     },
     "execution_count": 38,
     "metadata": {},
     "output_type": "execute_result"
    }
   ],
   "source": [
    "# p_value\n",
    "1 - stats.t.cdf(2.788, df=19)"
   ]
  },
  {
   "cell_type": "code",
   "execution_count": null,
   "id": "2d3e8112",
   "metadata": {},
   "outputs": [],
   "source": [
    "# 검정통계량(2.78) > 임계값(2.09) => 대립가설 채택\n",
    "# 유의수준(0.05) > p_value(0.005) => 대립가설 채택"
   ]
  },
  {
   "cell_type": "code",
   "execution_count": null,
   "id": "79e0c992",
   "metadata": {},
   "outputs": [],
   "source": []
  },
  {
   "cell_type": "code",
   "execution_count": null,
   "id": "7408261a",
   "metadata": {},
   "outputs": [],
   "source": []
  },
  {
   "cell_type": "code",
   "execution_count": 39,
   "id": "a0a14901",
   "metadata": {},
   "outputs": [],
   "source": [
    "# Quiz"
   ]
  },
  {
   "cell_type": "code",
   "execution_count": 51,
   "id": "71874a9d",
   "metadata": {},
   "outputs": [],
   "source": [
    "L = [175, 177, 179, 181, 183 ]"
   ]
  },
  {
   "cell_type": "code",
   "execution_count": null,
   "id": "700ff062",
   "metadata": {},
   "outputs": [],
   "source": []
  },
  {
   "cell_type": "code",
   "execution_count": 52,
   "id": "57aaa555",
   "metadata": {},
   "outputs": [],
   "source": [
    "# 평균, 편차, 분산, 표준편차를 구하시오.. 단, std(), var() 함수를 사용하지 마시오.."
   ]
  },
  {
   "cell_type": "code",
   "execution_count": 53,
   "id": "f844fc18",
   "metadata": {},
   "outputs": [
    {
     "data": {
      "text/plain": [
       "[175, 177, 179, 181, 183]"
      ]
     },
     "execution_count": 53,
     "metadata": {},
     "output_type": "execute_result"
    }
   ],
   "source": [
    "L"
   ]
  },
  {
   "cell_type": "code",
   "execution_count": 54,
   "id": "53388bb6",
   "metadata": {},
   "outputs": [
    {
     "data": {
      "text/html": [
       "<div>\n",
       "<style scoped>\n",
       "    .dataframe tbody tr th:only-of-type {\n",
       "        vertical-align: middle;\n",
       "    }\n",
       "\n",
       "    .dataframe tbody tr th {\n",
       "        vertical-align: top;\n",
       "    }\n",
       "\n",
       "    .dataframe thead th {\n",
       "        text-align: right;\n",
       "    }\n",
       "</style>\n",
       "<table border=\"1\" class=\"dataframe\">\n",
       "  <thead>\n",
       "    <tr style=\"text-align: right;\">\n",
       "      <th></th>\n",
       "      <th>0</th>\n",
       "    </tr>\n",
       "  </thead>\n",
       "  <tbody>\n",
       "    <tr>\n",
       "      <th>0</th>\n",
       "      <td>175</td>\n",
       "    </tr>\n",
       "    <tr>\n",
       "      <th>1</th>\n",
       "      <td>177</td>\n",
       "    </tr>\n",
       "    <tr>\n",
       "      <th>2</th>\n",
       "      <td>179</td>\n",
       "    </tr>\n",
       "    <tr>\n",
       "      <th>3</th>\n",
       "      <td>181</td>\n",
       "    </tr>\n",
       "    <tr>\n",
       "      <th>4</th>\n",
       "      <td>183</td>\n",
       "    </tr>\n",
       "  </tbody>\n",
       "</table>\n",
       "</div>"
      ],
      "text/plain": [
       "     0\n",
       "0  175\n",
       "1  177\n",
       "2  179\n",
       "3  181\n",
       "4  183"
      ]
     },
     "execution_count": 54,
     "metadata": {},
     "output_type": "execute_result"
    }
   ],
   "source": [
    "df = pd.Series(L).to_frame()\n",
    "df"
   ]
  },
  {
   "cell_type": "code",
   "execution_count": 55,
   "id": "e2b4d9d3",
   "metadata": {},
   "outputs": [
    {
     "data": {
      "text/html": [
       "<div>\n",
       "<style scoped>\n",
       "    .dataframe tbody tr th:only-of-type {\n",
       "        vertical-align: middle;\n",
       "    }\n",
       "\n",
       "    .dataframe tbody tr th {\n",
       "        vertical-align: top;\n",
       "    }\n",
       "\n",
       "    .dataframe thead th {\n",
       "        text-align: right;\n",
       "    }\n",
       "</style>\n",
       "<table border=\"1\" class=\"dataframe\">\n",
       "  <thead>\n",
       "    <tr style=\"text-align: right;\">\n",
       "      <th></th>\n",
       "      <th>0</th>\n",
       "      <th>평균</th>\n",
       "    </tr>\n",
       "  </thead>\n",
       "  <tbody>\n",
       "    <tr>\n",
       "      <th>0</th>\n",
       "      <td>175</td>\n",
       "      <td>179.0</td>\n",
       "    </tr>\n",
       "    <tr>\n",
       "      <th>1</th>\n",
       "      <td>177</td>\n",
       "      <td>179.0</td>\n",
       "    </tr>\n",
       "    <tr>\n",
       "      <th>2</th>\n",
       "      <td>179</td>\n",
       "      <td>179.0</td>\n",
       "    </tr>\n",
       "    <tr>\n",
       "      <th>3</th>\n",
       "      <td>181</td>\n",
       "      <td>179.0</td>\n",
       "    </tr>\n",
       "    <tr>\n",
       "      <th>4</th>\n",
       "      <td>183</td>\n",
       "      <td>179.0</td>\n",
       "    </tr>\n",
       "  </tbody>\n",
       "</table>\n",
       "</div>"
      ],
      "text/plain": [
       "     0     평균\n",
       "0  175  179.0\n",
       "1  177  179.0\n",
       "2  179  179.0\n",
       "3  181  179.0\n",
       "4  183  179.0"
      ]
     },
     "execution_count": 55,
     "metadata": {},
     "output_type": "execute_result"
    }
   ],
   "source": [
    "# 평균\n",
    "\n",
    "m = sum(L)/len(L)\n",
    "df['평균'] = m\n",
    "df"
   ]
  },
  {
   "cell_type": "code",
   "execution_count": 56,
   "id": "7e4a4d20",
   "metadata": {
    "collapsed": true
   },
   "outputs": [
    {
     "data": {
      "text/html": [
       "<div>\n",
       "<style scoped>\n",
       "    .dataframe tbody tr th:only-of-type {\n",
       "        vertical-align: middle;\n",
       "    }\n",
       "\n",
       "    .dataframe tbody tr th {\n",
       "        vertical-align: top;\n",
       "    }\n",
       "\n",
       "    .dataframe thead th {\n",
       "        text-align: right;\n",
       "    }\n",
       "</style>\n",
       "<table border=\"1\" class=\"dataframe\">\n",
       "  <thead>\n",
       "    <tr style=\"text-align: right;\">\n",
       "      <th></th>\n",
       "      <th>0</th>\n",
       "      <th>평균</th>\n",
       "      <th>편차</th>\n",
       "    </tr>\n",
       "  </thead>\n",
       "  <tbody>\n",
       "    <tr>\n",
       "      <th>0</th>\n",
       "      <td>175</td>\n",
       "      <td>179.0</td>\n",
       "      <td>-4.0</td>\n",
       "    </tr>\n",
       "    <tr>\n",
       "      <th>1</th>\n",
       "      <td>177</td>\n",
       "      <td>179.0</td>\n",
       "      <td>-2.0</td>\n",
       "    </tr>\n",
       "    <tr>\n",
       "      <th>2</th>\n",
       "      <td>179</td>\n",
       "      <td>179.0</td>\n",
       "      <td>0.0</td>\n",
       "    </tr>\n",
       "    <tr>\n",
       "      <th>3</th>\n",
       "      <td>181</td>\n",
       "      <td>179.0</td>\n",
       "      <td>2.0</td>\n",
       "    </tr>\n",
       "    <tr>\n",
       "      <th>4</th>\n",
       "      <td>183</td>\n",
       "      <td>179.0</td>\n",
       "      <td>4.0</td>\n",
       "    </tr>\n",
       "  </tbody>\n",
       "</table>\n",
       "</div>"
      ],
      "text/plain": [
       "     0     평균   편차\n",
       "0  175  179.0 -4.0\n",
       "1  177  179.0 -2.0\n",
       "2  179  179.0  0.0\n",
       "3  181  179.0  2.0\n",
       "4  183  179.0  4.0"
      ]
     },
     "execution_count": 56,
     "metadata": {},
     "output_type": "execute_result"
    }
   ],
   "source": [
    "# 편차\n",
    "\n",
    "df['편차'] = df[0] - df['평균']\n",
    "df"
   ]
  },
  {
   "cell_type": "code",
   "execution_count": 60,
   "id": "43712576",
   "metadata": {
    "collapsed": true
   },
   "outputs": [
    {
     "data": {
      "text/html": [
       "<div>\n",
       "<style scoped>\n",
       "    .dataframe tbody tr th:only-of-type {\n",
       "        vertical-align: middle;\n",
       "    }\n",
       "\n",
       "    .dataframe tbody tr th {\n",
       "        vertical-align: top;\n",
       "    }\n",
       "\n",
       "    .dataframe thead th {\n",
       "        text-align: right;\n",
       "    }\n",
       "</style>\n",
       "<table border=\"1\" class=\"dataframe\">\n",
       "  <thead>\n",
       "    <tr style=\"text-align: right;\">\n",
       "      <th></th>\n",
       "      <th>0</th>\n",
       "      <th>평균</th>\n",
       "      <th>편차</th>\n",
       "      <th>분산</th>\n",
       "    </tr>\n",
       "  </thead>\n",
       "  <tbody>\n",
       "    <tr>\n",
       "      <th>0</th>\n",
       "      <td>175</td>\n",
       "      <td>179.0</td>\n",
       "      <td>-4.0</td>\n",
       "      <td>8.0</td>\n",
       "    </tr>\n",
       "    <tr>\n",
       "      <th>1</th>\n",
       "      <td>177</td>\n",
       "      <td>179.0</td>\n",
       "      <td>-2.0</td>\n",
       "      <td>8.0</td>\n",
       "    </tr>\n",
       "    <tr>\n",
       "      <th>2</th>\n",
       "      <td>179</td>\n",
       "      <td>179.0</td>\n",
       "      <td>0.0</td>\n",
       "      <td>8.0</td>\n",
       "    </tr>\n",
       "    <tr>\n",
       "      <th>3</th>\n",
       "      <td>181</td>\n",
       "      <td>179.0</td>\n",
       "      <td>2.0</td>\n",
       "      <td>8.0</td>\n",
       "    </tr>\n",
       "    <tr>\n",
       "      <th>4</th>\n",
       "      <td>183</td>\n",
       "      <td>179.0</td>\n",
       "      <td>4.0</td>\n",
       "      <td>8.0</td>\n",
       "    </tr>\n",
       "  </tbody>\n",
       "</table>\n",
       "</div>"
      ],
      "text/plain": [
       "     0     평균   편차   분산\n",
       "0  175  179.0 -4.0  8.0\n",
       "1  177  179.0 -2.0  8.0\n",
       "2  179  179.0  0.0  8.0\n",
       "3  181  179.0  2.0  8.0\n",
       "4  183  179.0  4.0  8.0"
      ]
     },
     "execution_count": 60,
     "metadata": {},
     "output_type": "execute_result"
    }
   ],
   "source": [
    "# 분산 \n",
    "\n",
    "var_temp = sum(df['편차']**2)/len(df)\n",
    "df['분산']  =  var_temp\n",
    "df"
   ]
  },
  {
   "cell_type": "code",
   "execution_count": 63,
   "id": "3af69003",
   "metadata": {
    "collapsed": true
   },
   "outputs": [
    {
     "data": {
      "text/html": [
       "<div>\n",
       "<style scoped>\n",
       "    .dataframe tbody tr th:only-of-type {\n",
       "        vertical-align: middle;\n",
       "    }\n",
       "\n",
       "    .dataframe tbody tr th {\n",
       "        vertical-align: top;\n",
       "    }\n",
       "\n",
       "    .dataframe thead th {\n",
       "        text-align: right;\n",
       "    }\n",
       "</style>\n",
       "<table border=\"1\" class=\"dataframe\">\n",
       "  <thead>\n",
       "    <tr style=\"text-align: right;\">\n",
       "      <th></th>\n",
       "      <th>0</th>\n",
       "      <th>평균</th>\n",
       "      <th>편차</th>\n",
       "      <th>분산</th>\n",
       "      <th>표준편차</th>\n",
       "    </tr>\n",
       "  </thead>\n",
       "  <tbody>\n",
       "    <tr>\n",
       "      <th>0</th>\n",
       "      <td>175</td>\n",
       "      <td>179.0</td>\n",
       "      <td>-4.0</td>\n",
       "      <td>8.0</td>\n",
       "      <td>2.828427</td>\n",
       "    </tr>\n",
       "    <tr>\n",
       "      <th>1</th>\n",
       "      <td>177</td>\n",
       "      <td>179.0</td>\n",
       "      <td>-2.0</td>\n",
       "      <td>8.0</td>\n",
       "      <td>2.828427</td>\n",
       "    </tr>\n",
       "    <tr>\n",
       "      <th>2</th>\n",
       "      <td>179</td>\n",
       "      <td>179.0</td>\n",
       "      <td>0.0</td>\n",
       "      <td>8.0</td>\n",
       "      <td>2.828427</td>\n",
       "    </tr>\n",
       "    <tr>\n",
       "      <th>3</th>\n",
       "      <td>181</td>\n",
       "      <td>179.0</td>\n",
       "      <td>2.0</td>\n",
       "      <td>8.0</td>\n",
       "      <td>2.828427</td>\n",
       "    </tr>\n",
       "    <tr>\n",
       "      <th>4</th>\n",
       "      <td>183</td>\n",
       "      <td>179.0</td>\n",
       "      <td>4.0</td>\n",
       "      <td>8.0</td>\n",
       "      <td>2.828427</td>\n",
       "    </tr>\n",
       "  </tbody>\n",
       "</table>\n",
       "</div>"
      ],
      "text/plain": [
       "     0     평균   편차   분산      표준편차\n",
       "0  175  179.0 -4.0  8.0  2.828427\n",
       "1  177  179.0 -2.0  8.0  2.828427\n",
       "2  179  179.0  0.0  8.0  2.828427\n",
       "3  181  179.0  2.0  8.0  2.828427\n",
       "4  183  179.0  4.0  8.0  2.828427"
      ]
     },
     "execution_count": 63,
     "metadata": {},
     "output_type": "execute_result"
    }
   ],
   "source": [
    "# 표준편차 - 편차의 평균값 (평균에서 떨어진 정도)\n",
    "\n",
    "df['표준편차'] = np.sqrt(df['분산'])\n",
    "df"
   ]
  },
  {
   "cell_type": "code",
   "execution_count": null,
   "id": "12dc38aa",
   "metadata": {},
   "outputs": [],
   "source": []
  },
  {
   "cell_type": "code",
   "execution_count": 64,
   "id": "e2716cd1",
   "metadata": {},
   "outputs": [],
   "source": [
    "L1 = [2,5,4,7,9,5]\n",
    "L2 = [12,54,86,32,54,72]\n",
    "\n",
    "# 공분산과 상관계수를 구하시오.. corr(), var() 함수는 사용하지 마시오..\n",
    "# 공분산, 상관계수 : 데이터가 얼마나 관련이 있는가, 얼마나 비슷하게 움직이는가..\n",
    "\n",
    "# 공분산 : 편차의 곱의 합의 평균\n",
    "# 상관계수 : 공분산을 각각의 표준편차로 나눈값.."
   ]
  },
  {
   "cell_type": "code",
   "execution_count": 69,
   "id": "2c122e61",
   "metadata": {},
   "outputs": [
    {
     "data": {
      "text/html": [
       "<div>\n",
       "<style scoped>\n",
       "    .dataframe tbody tr th:only-of-type {\n",
       "        vertical-align: middle;\n",
       "    }\n",
       "\n",
       "    .dataframe tbody tr th {\n",
       "        vertical-align: top;\n",
       "    }\n",
       "\n",
       "    .dataframe thead th {\n",
       "        text-align: right;\n",
       "    }\n",
       "</style>\n",
       "<table border=\"1\" class=\"dataframe\">\n",
       "  <thead>\n",
       "    <tr style=\"text-align: right;\">\n",
       "      <th></th>\n",
       "      <th>L1</th>\n",
       "      <th>L2</th>\n",
       "    </tr>\n",
       "  </thead>\n",
       "  <tbody>\n",
       "    <tr>\n",
       "      <th>0</th>\n",
       "      <td>2</td>\n",
       "      <td>12</td>\n",
       "    </tr>\n",
       "    <tr>\n",
       "      <th>1</th>\n",
       "      <td>5</td>\n",
       "      <td>54</td>\n",
       "    </tr>\n",
       "    <tr>\n",
       "      <th>2</th>\n",
       "      <td>4</td>\n",
       "      <td>86</td>\n",
       "    </tr>\n",
       "  </tbody>\n",
       "</table>\n",
       "</div>"
      ],
      "text/plain": [
       "   L1  L2\n",
       "0   2  12\n",
       "1   5  54\n",
       "2   4  86"
      ]
     },
     "execution_count": 69,
     "metadata": {},
     "output_type": "execute_result"
    }
   ],
   "source": [
    "df = pd.DataFrame({'L1':[2,5,4,7,9,5], 'L2':[12,54,86,32,54,72]})\n",
    "df.head(3)"
   ]
  },
  {
   "cell_type": "code",
   "execution_count": 73,
   "id": "9f4a73c0",
   "metadata": {},
   "outputs": [
    {
     "data": {
      "text/html": [
       "<div>\n",
       "<style scoped>\n",
       "    .dataframe tbody tr th:only-of-type {\n",
       "        vertical-align: middle;\n",
       "    }\n",
       "\n",
       "    .dataframe tbody tr th {\n",
       "        vertical-align: top;\n",
       "    }\n",
       "\n",
       "    .dataframe thead th {\n",
       "        text-align: right;\n",
       "    }\n",
       "</style>\n",
       "<table border=\"1\" class=\"dataframe\">\n",
       "  <thead>\n",
       "    <tr style=\"text-align: right;\">\n",
       "      <th></th>\n",
       "      <th>L1</th>\n",
       "      <th>L2</th>\n",
       "      <th>L1편차</th>\n",
       "      <th>L2편차</th>\n",
       "    </tr>\n",
       "  </thead>\n",
       "  <tbody>\n",
       "    <tr>\n",
       "      <th>0</th>\n",
       "      <td>2</td>\n",
       "      <td>12</td>\n",
       "      <td>-3.333333</td>\n",
       "      <td>-39.666667</td>\n",
       "    </tr>\n",
       "    <tr>\n",
       "      <th>1</th>\n",
       "      <td>5</td>\n",
       "      <td>54</td>\n",
       "      <td>-0.333333</td>\n",
       "      <td>2.333333</td>\n",
       "    </tr>\n",
       "    <tr>\n",
       "      <th>2</th>\n",
       "      <td>4</td>\n",
       "      <td>86</td>\n",
       "      <td>-1.333333</td>\n",
       "      <td>34.333333</td>\n",
       "    </tr>\n",
       "    <tr>\n",
       "      <th>3</th>\n",
       "      <td>7</td>\n",
       "      <td>32</td>\n",
       "      <td>1.666667</td>\n",
       "      <td>-19.666667</td>\n",
       "    </tr>\n",
       "    <tr>\n",
       "      <th>4</th>\n",
       "      <td>9</td>\n",
       "      <td>54</td>\n",
       "      <td>3.666667</td>\n",
       "      <td>2.333333</td>\n",
       "    </tr>\n",
       "    <tr>\n",
       "      <th>5</th>\n",
       "      <td>5</td>\n",
       "      <td>72</td>\n",
       "      <td>-0.333333</td>\n",
       "      <td>20.333333</td>\n",
       "    </tr>\n",
       "  </tbody>\n",
       "</table>\n",
       "</div>"
      ],
      "text/plain": [
       "   L1  L2      L1편차       L2편차\n",
       "0   2  12 -3.333333 -39.666667\n",
       "1   5  54 -0.333333   2.333333\n",
       "2   4  86 -1.333333  34.333333\n",
       "3   7  32  1.666667 -19.666667\n",
       "4   9  54  3.666667   2.333333\n",
       "5   5  72 -0.333333  20.333333"
      ]
     },
     "execution_count": 73,
     "metadata": {},
     "output_type": "execute_result"
    }
   ],
   "source": [
    "df['L1편차'] = df['L1'] - df['L1'].mean()\n",
    "df['L2편차'] = df['L2'] - df['L2'].mean()\n",
    "df"
   ]
  },
  {
   "cell_type": "code",
   "execution_count": 77,
   "id": "a6db29c9",
   "metadata": {},
   "outputs": [],
   "source": [
    "df['L1_L2편차곱'] = df['L1편차'] * df['L2편차']"
   ]
  },
  {
   "cell_type": "code",
   "execution_count": 78,
   "id": "22aef25b",
   "metadata": {},
   "outputs": [],
   "source": [
    "df['공분산'] = sum(df['L1편차'] * df['L2편차'])/len(df)"
   ]
  },
  {
   "cell_type": "code",
   "execution_count": 80,
   "id": "e9a3fc64",
   "metadata": {},
   "outputs": [
    {
     "data": {
      "text/html": [
       "<div>\n",
       "<style scoped>\n",
       "    .dataframe tbody tr th:only-of-type {\n",
       "        vertical-align: middle;\n",
       "    }\n",
       "\n",
       "    .dataframe tbody tr th {\n",
       "        vertical-align: top;\n",
       "    }\n",
       "\n",
       "    .dataframe thead th {\n",
       "        text-align: right;\n",
       "    }\n",
       "</style>\n",
       "<table border=\"1\" class=\"dataframe\">\n",
       "  <thead>\n",
       "    <tr style=\"text-align: right;\">\n",
       "      <th></th>\n",
       "      <th>L1</th>\n",
       "      <th>L2</th>\n",
       "      <th>L1편차</th>\n",
       "      <th>L2편차</th>\n",
       "      <th>L1_L2편차곱</th>\n",
       "      <th>공분산</th>\n",
       "    </tr>\n",
       "  </thead>\n",
       "  <tbody>\n",
       "    <tr>\n",
       "      <th>0</th>\n",
       "      <td>2</td>\n",
       "      <td>12</td>\n",
       "      <td>-3.333333</td>\n",
       "      <td>-39.666667</td>\n",
       "      <td>132.222222</td>\n",
       "      <td>9.111111</td>\n",
       "    </tr>\n",
       "    <tr>\n",
       "      <th>1</th>\n",
       "      <td>5</td>\n",
       "      <td>54</td>\n",
       "      <td>-0.333333</td>\n",
       "      <td>2.333333</td>\n",
       "      <td>-0.777778</td>\n",
       "      <td>9.111111</td>\n",
       "    </tr>\n",
       "    <tr>\n",
       "      <th>2</th>\n",
       "      <td>4</td>\n",
       "      <td>86</td>\n",
       "      <td>-1.333333</td>\n",
       "      <td>34.333333</td>\n",
       "      <td>-45.777778</td>\n",
       "      <td>9.111111</td>\n",
       "    </tr>\n",
       "    <tr>\n",
       "      <th>3</th>\n",
       "      <td>7</td>\n",
       "      <td>32</td>\n",
       "      <td>1.666667</td>\n",
       "      <td>-19.666667</td>\n",
       "      <td>-32.777778</td>\n",
       "      <td>9.111111</td>\n",
       "    </tr>\n",
       "    <tr>\n",
       "      <th>4</th>\n",
       "      <td>9</td>\n",
       "      <td>54</td>\n",
       "      <td>3.666667</td>\n",
       "      <td>2.333333</td>\n",
       "      <td>8.555556</td>\n",
       "      <td>9.111111</td>\n",
       "    </tr>\n",
       "    <tr>\n",
       "      <th>5</th>\n",
       "      <td>5</td>\n",
       "      <td>72</td>\n",
       "      <td>-0.333333</td>\n",
       "      <td>20.333333</td>\n",
       "      <td>-6.777778</td>\n",
       "      <td>9.111111</td>\n",
       "    </tr>\n",
       "  </tbody>\n",
       "</table>\n",
       "</div>"
      ],
      "text/plain": [
       "   L1  L2      L1편차       L2편차    L1_L2편차곱       공분산\n",
       "0   2  12 -3.333333 -39.666667  132.222222  9.111111\n",
       "1   5  54 -0.333333   2.333333   -0.777778  9.111111\n",
       "2   4  86 -1.333333  34.333333  -45.777778  9.111111\n",
       "3   7  32  1.666667 -19.666667  -32.777778  9.111111\n",
       "4   9  54  3.666667   2.333333    8.555556  9.111111\n",
       "5   5  72 -0.333333  20.333333   -6.777778  9.111111"
      ]
     },
     "execution_count": 80,
     "metadata": {},
     "output_type": "execute_result"
    }
   ],
   "source": [
    "df"
   ]
  },
  {
   "cell_type": "code",
   "execution_count": 82,
   "id": "8fcf430a",
   "metadata": {},
   "outputs": [],
   "source": [
    "df['L1분산'] = sum(df['L1편차']**2)/len(df)\n",
    "df['L2분산'] = sum(df['L2편차']**2)/len(df)"
   ]
  },
  {
   "cell_type": "code",
   "execution_count": 83,
   "id": "67fc5640",
   "metadata": {},
   "outputs": [],
   "source": [
    "df['L1표준편차'] = sp.sqrt(df['L1분산'])\n",
    "df['L2표준편차'] = sp.sqrt(df['L2분산'])"
   ]
  },
  {
   "cell_type": "code",
   "execution_count": 84,
   "id": "c96ae8b0",
   "metadata": {
    "collapsed": true
   },
   "outputs": [
    {
     "data": {
      "text/html": [
       "<div>\n",
       "<style scoped>\n",
       "    .dataframe tbody tr th:only-of-type {\n",
       "        vertical-align: middle;\n",
       "    }\n",
       "\n",
       "    .dataframe tbody tr th {\n",
       "        vertical-align: top;\n",
       "    }\n",
       "\n",
       "    .dataframe thead th {\n",
       "        text-align: right;\n",
       "    }\n",
       "</style>\n",
       "<table border=\"1\" class=\"dataframe\">\n",
       "  <thead>\n",
       "    <tr style=\"text-align: right;\">\n",
       "      <th></th>\n",
       "      <th>L1</th>\n",
       "      <th>L2</th>\n",
       "      <th>L1편차</th>\n",
       "      <th>L2편차</th>\n",
       "      <th>L1_L2편차곱</th>\n",
       "      <th>공분산</th>\n",
       "      <th>L1분산</th>\n",
       "      <th>L2분산</th>\n",
       "      <th>L1표준편차</th>\n",
       "      <th>L2표준편차</th>\n",
       "    </tr>\n",
       "  </thead>\n",
       "  <tbody>\n",
       "    <tr>\n",
       "      <th>0</th>\n",
       "      <td>2</td>\n",
       "      <td>12</td>\n",
       "      <td>-3.333333</td>\n",
       "      <td>-39.666667</td>\n",
       "      <td>132.222222</td>\n",
       "      <td>9.111111</td>\n",
       "      <td>4.888889</td>\n",
       "      <td>593.888889</td>\n",
       "      <td>2.211083</td>\n",
       "      <td>24.369836</td>\n",
       "    </tr>\n",
       "    <tr>\n",
       "      <th>1</th>\n",
       "      <td>5</td>\n",
       "      <td>54</td>\n",
       "      <td>-0.333333</td>\n",
       "      <td>2.333333</td>\n",
       "      <td>-0.777778</td>\n",
       "      <td>9.111111</td>\n",
       "      <td>4.888889</td>\n",
       "      <td>593.888889</td>\n",
       "      <td>2.211083</td>\n",
       "      <td>24.369836</td>\n",
       "    </tr>\n",
       "    <tr>\n",
       "      <th>2</th>\n",
       "      <td>4</td>\n",
       "      <td>86</td>\n",
       "      <td>-1.333333</td>\n",
       "      <td>34.333333</td>\n",
       "      <td>-45.777778</td>\n",
       "      <td>9.111111</td>\n",
       "      <td>4.888889</td>\n",
       "      <td>593.888889</td>\n",
       "      <td>2.211083</td>\n",
       "      <td>24.369836</td>\n",
       "    </tr>\n",
       "    <tr>\n",
       "      <th>3</th>\n",
       "      <td>7</td>\n",
       "      <td>32</td>\n",
       "      <td>1.666667</td>\n",
       "      <td>-19.666667</td>\n",
       "      <td>-32.777778</td>\n",
       "      <td>9.111111</td>\n",
       "      <td>4.888889</td>\n",
       "      <td>593.888889</td>\n",
       "      <td>2.211083</td>\n",
       "      <td>24.369836</td>\n",
       "    </tr>\n",
       "    <tr>\n",
       "      <th>4</th>\n",
       "      <td>9</td>\n",
       "      <td>54</td>\n",
       "      <td>3.666667</td>\n",
       "      <td>2.333333</td>\n",
       "      <td>8.555556</td>\n",
       "      <td>9.111111</td>\n",
       "      <td>4.888889</td>\n",
       "      <td>593.888889</td>\n",
       "      <td>2.211083</td>\n",
       "      <td>24.369836</td>\n",
       "    </tr>\n",
       "    <tr>\n",
       "      <th>5</th>\n",
       "      <td>5</td>\n",
       "      <td>72</td>\n",
       "      <td>-0.333333</td>\n",
       "      <td>20.333333</td>\n",
       "      <td>-6.777778</td>\n",
       "      <td>9.111111</td>\n",
       "      <td>4.888889</td>\n",
       "      <td>593.888889</td>\n",
       "      <td>2.211083</td>\n",
       "      <td>24.369836</td>\n",
       "    </tr>\n",
       "  </tbody>\n",
       "</table>\n",
       "</div>"
      ],
      "text/plain": [
       "   L1  L2      L1편차       L2편차    L1_L2편차곱       공분산      L1분산        L2분산  \\\n",
       "0   2  12 -3.333333 -39.666667  132.222222  9.111111  4.888889  593.888889   \n",
       "1   5  54 -0.333333   2.333333   -0.777778  9.111111  4.888889  593.888889   \n",
       "2   4  86 -1.333333  34.333333  -45.777778  9.111111  4.888889  593.888889   \n",
       "3   7  32  1.666667 -19.666667  -32.777778  9.111111  4.888889  593.888889   \n",
       "4   9  54  3.666667   2.333333    8.555556  9.111111  4.888889  593.888889   \n",
       "5   5  72 -0.333333  20.333333   -6.777778  9.111111  4.888889  593.888889   \n",
       "\n",
       "     L1표준편차     L2표준편차  \n",
       "0  2.211083  24.369836  \n",
       "1  2.211083  24.369836  \n",
       "2  2.211083  24.369836  \n",
       "3  2.211083  24.369836  \n",
       "4  2.211083  24.369836  \n",
       "5  2.211083  24.369836  "
      ]
     },
     "execution_count": 84,
     "metadata": {},
     "output_type": "execute_result"
    }
   ],
   "source": [
    "df"
   ]
  },
  {
   "cell_type": "code",
   "execution_count": 86,
   "id": "678d7d57",
   "metadata": {},
   "outputs": [],
   "source": [
    "df['상관계수'] = df['공분산']/(df['L1표준편차']*df['L2표준편차'])"
   ]
  },
  {
   "cell_type": "code",
   "execution_count": 88,
   "id": "5948be26",
   "metadata": {
    "collapsed": true
   },
   "outputs": [
    {
     "data": {
      "text/html": [
       "<div>\n",
       "<style scoped>\n",
       "    .dataframe tbody tr th:only-of-type {\n",
       "        vertical-align: middle;\n",
       "    }\n",
       "\n",
       "    .dataframe tbody tr th {\n",
       "        vertical-align: top;\n",
       "    }\n",
       "\n",
       "    .dataframe thead th {\n",
       "        text-align: right;\n",
       "    }\n",
       "</style>\n",
       "<table border=\"1\" class=\"dataframe\">\n",
       "  <thead>\n",
       "    <tr style=\"text-align: right;\">\n",
       "      <th></th>\n",
       "      <th>L1</th>\n",
       "      <th>L2</th>\n",
       "      <th>L1편차</th>\n",
       "      <th>L2편차</th>\n",
       "      <th>L1_L2편차곱</th>\n",
       "      <th>공분산</th>\n",
       "      <th>L1분산</th>\n",
       "      <th>L2분산</th>\n",
       "      <th>L1표준편차</th>\n",
       "      <th>L2표준편차</th>\n",
       "      <th>상관계수</th>\n",
       "    </tr>\n",
       "  </thead>\n",
       "  <tbody>\n",
       "    <tr>\n",
       "      <th>0</th>\n",
       "      <td>2</td>\n",
       "      <td>12</td>\n",
       "      <td>-3.333333</td>\n",
       "      <td>-39.666667</td>\n",
       "      <td>132.222222</td>\n",
       "      <td>9.111111</td>\n",
       "      <td>4.888889</td>\n",
       "      <td>593.888889</td>\n",
       "      <td>2.211083</td>\n",
       "      <td>24.369836</td>\n",
       "      <td>0.169088</td>\n",
       "    </tr>\n",
       "    <tr>\n",
       "      <th>1</th>\n",
       "      <td>5</td>\n",
       "      <td>54</td>\n",
       "      <td>-0.333333</td>\n",
       "      <td>2.333333</td>\n",
       "      <td>-0.777778</td>\n",
       "      <td>9.111111</td>\n",
       "      <td>4.888889</td>\n",
       "      <td>593.888889</td>\n",
       "      <td>2.211083</td>\n",
       "      <td>24.369836</td>\n",
       "      <td>0.169088</td>\n",
       "    </tr>\n",
       "    <tr>\n",
       "      <th>2</th>\n",
       "      <td>4</td>\n",
       "      <td>86</td>\n",
       "      <td>-1.333333</td>\n",
       "      <td>34.333333</td>\n",
       "      <td>-45.777778</td>\n",
       "      <td>9.111111</td>\n",
       "      <td>4.888889</td>\n",
       "      <td>593.888889</td>\n",
       "      <td>2.211083</td>\n",
       "      <td>24.369836</td>\n",
       "      <td>0.169088</td>\n",
       "    </tr>\n",
       "    <tr>\n",
       "      <th>3</th>\n",
       "      <td>7</td>\n",
       "      <td>32</td>\n",
       "      <td>1.666667</td>\n",
       "      <td>-19.666667</td>\n",
       "      <td>-32.777778</td>\n",
       "      <td>9.111111</td>\n",
       "      <td>4.888889</td>\n",
       "      <td>593.888889</td>\n",
       "      <td>2.211083</td>\n",
       "      <td>24.369836</td>\n",
       "      <td>0.169088</td>\n",
       "    </tr>\n",
       "    <tr>\n",
       "      <th>4</th>\n",
       "      <td>9</td>\n",
       "      <td>54</td>\n",
       "      <td>3.666667</td>\n",
       "      <td>2.333333</td>\n",
       "      <td>8.555556</td>\n",
       "      <td>9.111111</td>\n",
       "      <td>4.888889</td>\n",
       "      <td>593.888889</td>\n",
       "      <td>2.211083</td>\n",
       "      <td>24.369836</td>\n",
       "      <td>0.169088</td>\n",
       "    </tr>\n",
       "    <tr>\n",
       "      <th>5</th>\n",
       "      <td>5</td>\n",
       "      <td>72</td>\n",
       "      <td>-0.333333</td>\n",
       "      <td>20.333333</td>\n",
       "      <td>-6.777778</td>\n",
       "      <td>9.111111</td>\n",
       "      <td>4.888889</td>\n",
       "      <td>593.888889</td>\n",
       "      <td>2.211083</td>\n",
       "      <td>24.369836</td>\n",
       "      <td>0.169088</td>\n",
       "    </tr>\n",
       "  </tbody>\n",
       "</table>\n",
       "</div>"
      ],
      "text/plain": [
       "   L1  L2      L1편차       L2편차    L1_L2편차곱       공분산      L1분산        L2분산  \\\n",
       "0   2  12 -3.333333 -39.666667  132.222222  9.111111  4.888889  593.888889   \n",
       "1   5  54 -0.333333   2.333333   -0.777778  9.111111  4.888889  593.888889   \n",
       "2   4  86 -1.333333  34.333333  -45.777778  9.111111  4.888889  593.888889   \n",
       "3   7  32  1.666667 -19.666667  -32.777778  9.111111  4.888889  593.888889   \n",
       "4   9  54  3.666667   2.333333    8.555556  9.111111  4.888889  593.888889   \n",
       "5   5  72 -0.333333  20.333333   -6.777778  9.111111  4.888889  593.888889   \n",
       "\n",
       "     L1표준편차     L2표준편차      상관계수  \n",
       "0  2.211083  24.369836  0.169088  \n",
       "1  2.211083  24.369836  0.169088  \n",
       "2  2.211083  24.369836  0.169088  \n",
       "3  2.211083  24.369836  0.169088  \n",
       "4  2.211083  24.369836  0.169088  \n",
       "5  2.211083  24.369836  0.169088  "
      ]
     },
     "execution_count": 88,
     "metadata": {},
     "output_type": "execute_result"
    }
   ],
   "source": [
    "df"
   ]
  },
  {
   "cell_type": "code",
   "execution_count": 89,
   "id": "c8cdf76c",
   "metadata": {
    "collapsed": true
   },
   "outputs": [
    {
     "data": {
      "text/plain": [
       "0.1690883395455955"
      ]
     },
     "execution_count": 89,
     "metadata": {},
     "output_type": "execute_result"
    }
   ],
   "source": [
    "df['L1'].corr(df['L2'])"
   ]
  },
  {
   "cell_type": "code",
   "execution_count": 90,
   "id": "115fda07",
   "metadata": {},
   "outputs": [],
   "source": [
    "# 상관계수 \n",
    "\n",
    "# 0.3 이상 : 관련이 있다\n",
    "# 0.5 이상 : 관련이 깊다\n",
    "# 0.7 이상 : 관련이 매우 깊다"
   ]
  },
  {
   "cell_type": "code",
   "execution_count": null,
   "id": "8618ff64",
   "metadata": {},
   "outputs": [],
   "source": []
  },
  {
   "cell_type": "code",
   "execution_count": null,
   "id": "c6f9c99e",
   "metadata": {},
   "outputs": [],
   "source": [
    "# 매출액과 광고비의 상관관계를 구하시오(상관계수)\n",
    "\n",
    "adv = [13,8,10,15,12,14,15,17]  # 광고비\n",
    "sales = [94,70,90,100,95,100,85,95]  # 매출액"
   ]
  },
  {
   "cell_type": "code",
   "execution_count": null,
   "id": "9ba90ea4",
   "metadata": {},
   "outputs": [],
   "source": []
  },
  {
   "cell_type": "code",
   "execution_count": null,
   "id": "342d1cd4",
   "metadata": {},
   "outputs": [],
   "source": []
  },
  {
   "cell_type": "code",
   "execution_count": null,
   "id": "3f21c758",
   "metadata": {},
   "outputs": [],
   "source": [
    "# 종목별 상관관계 상위종목 조회"
   ]
  },
  {
   "cell_type": "code",
   "execution_count": 93,
   "id": "f7774580",
   "metadata": {},
   "outputs": [],
   "source": [
    "import FinanceDataReader as fdr"
   ]
  },
  {
   "cell_type": "code",
   "execution_count": 100,
   "id": "cf67c20e",
   "metadata": {},
   "outputs": [],
   "source": [
    "codes = pd.read_excel('코스피200.xlsx')['종목코드'].apply(lambda x: str(x).zfill(6))"
   ]
  },
  {
   "cell_type": "code",
   "execution_count": 101,
   "id": "8e861d11",
   "metadata": {},
   "outputs": [],
   "source": [
    "temp_pr = {}pd.read_excel('코스피200.xlsx')\n",
    "for code in codes:\n",
    "    temp_pr[code] = fdr.DataReader(code, '2020')['Close']"
   ]
  },
  {
   "cell_type": "code",
   "execution_count": 102,
   "id": "418e223d",
   "metadata": {
    "collapsed": true
   },
   "outputs": [
    {
     "data": {
      "text/html": [
       "<div>\n",
       "<style scoped>\n",
       "    .dataframe tbody tr th:only-of-type {\n",
       "        vertical-align: middle;\n",
       "    }\n",
       "\n",
       "    .dataframe tbody tr th {\n",
       "        vertical-align: top;\n",
       "    }\n",
       "\n",
       "    .dataframe thead th {\n",
       "        text-align: right;\n",
       "    }\n",
       "</style>\n",
       "<table border=\"1\" class=\"dataframe\">\n",
       "  <thead>\n",
       "    <tr style=\"text-align: right;\">\n",
       "      <th></th>\n",
       "      <th>005930</th>\n",
       "      <th>000660</th>\n",
       "      <th>035420</th>\n",
       "      <th>051910</th>\n",
       "      <th>035720</th>\n",
       "      <th>207940</th>\n",
       "      <th>005380</th>\n",
       "      <th>006400</th>\n",
       "      <th>068270</th>\n",
       "      <th>000270</th>\n",
       "      <th>...</th>\n",
       "      <th>006390</th>\n",
       "      <th>007570</th>\n",
       "      <th>383800</th>\n",
       "      <th>005610</th>\n",
       "      <th>009410</th>\n",
       "      <th>005180</th>\n",
       "      <th>001060</th>\n",
       "      <th>145990</th>\n",
       "      <th>007700</th>\n",
       "      <th>008350</th>\n",
       "    </tr>\n",
       "    <tr>\n",
       "      <th>Date</th>\n",
       "      <th></th>\n",
       "      <th></th>\n",
       "      <th></th>\n",
       "      <th></th>\n",
       "      <th></th>\n",
       "      <th></th>\n",
       "      <th></th>\n",
       "      <th></th>\n",
       "      <th></th>\n",
       "      <th></th>\n",
       "      <th></th>\n",
       "      <th></th>\n",
       "      <th></th>\n",
       "      <th></th>\n",
       "      <th></th>\n",
       "      <th></th>\n",
       "      <th></th>\n",
       "      <th></th>\n",
       "      <th></th>\n",
       "      <th></th>\n",
       "      <th></th>\n",
       "    </tr>\n",
       "  </thead>\n",
       "  <tbody>\n",
       "    <tr>\n",
       "      <th>2020-01-02</th>\n",
       "      <td>55200</td>\n",
       "      <td>94700</td>\n",
       "      <td>182500</td>\n",
       "      <td>314000</td>\n",
       "      <td>30609</td>\n",
       "      <td>423485</td>\n",
       "      <td>118000</td>\n",
       "      <td>232000</td>\n",
       "      <td>173489</td>\n",
       "      <td>42500</td>\n",
       "      <td>...</td>\n",
       "      <td>30250</td>\n",
       "      <td>22850</td>\n",
       "      <td>NaN</td>\n",
       "      <td>86200</td>\n",
       "      <td>5875</td>\n",
       "      <td>56300</td>\n",
       "      <td>28259</td>\n",
       "      <td>50000</td>\n",
       "      <td>58000</td>\n",
       "      <td>3335</td>\n",
       "    </tr>\n",
       "    <tr>\n",
       "      <th>2020-01-03</th>\n",
       "      <td>55500</td>\n",
       "      <td>94500</td>\n",
       "      <td>181500</td>\n",
       "      <td>311000</td>\n",
       "      <td>30609</td>\n",
       "      <td>417061</td>\n",
       "      <td>116000</td>\n",
       "      <td>229000</td>\n",
       "      <td>171079</td>\n",
       "      <td>42000</td>\n",
       "      <td>...</td>\n",
       "      <td>30250</td>\n",
       "      <td>22650</td>\n",
       "      <td>NaN</td>\n",
       "      <td>85400</td>\n",
       "      <td>5875</td>\n",
       "      <td>57500</td>\n",
       "      <td>28071</td>\n",
       "      <td>50300</td>\n",
       "      <td>58750</td>\n",
       "      <td>3350</td>\n",
       "    </tr>\n",
       "    <tr>\n",
       "      <th>2020-01-06</th>\n",
       "      <td>55500</td>\n",
       "      <td>94300</td>\n",
       "      <td>180500</td>\n",
       "      <td>307000</td>\n",
       "      <td>31010</td>\n",
       "      <td>407178</td>\n",
       "      <td>116000</td>\n",
       "      <td>230000</td>\n",
       "      <td>166742</td>\n",
       "      <td>41900</td>\n",
       "      <td>...</td>\n",
       "      <td>29100</td>\n",
       "      <td>21850</td>\n",
       "      <td>NaN</td>\n",
       "      <td>85000</td>\n",
       "      <td>5700</td>\n",
       "      <td>57200</td>\n",
       "      <td>27220</td>\n",
       "      <td>49300</td>\n",
       "      <td>58500</td>\n",
       "      <td>3405</td>\n",
       "    </tr>\n",
       "    <tr>\n",
       "      <th>2020-01-07</th>\n",
       "      <td>55800</td>\n",
       "      <td>94000</td>\n",
       "      <td>187000</td>\n",
       "      <td>311000</td>\n",
       "      <td>32114</td>\n",
       "      <td>414096</td>\n",
       "      <td>115500</td>\n",
       "      <td>231500</td>\n",
       "      <td>171561</td>\n",
       "      <td>42050</td>\n",
       "      <td>...</td>\n",
       "      <td>29150</td>\n",
       "      <td>22000</td>\n",
       "      <td>NaN</td>\n",
       "      <td>84800</td>\n",
       "      <td>5825</td>\n",
       "      <td>57200</td>\n",
       "      <td>27362</td>\n",
       "      <td>49400</td>\n",
       "      <td>57000</td>\n",
       "      <td>3355</td>\n",
       "    </tr>\n",
       "    <tr>\n",
       "      <th>2020-01-08</th>\n",
       "      <td>56800</td>\n",
       "      <td>97400</td>\n",
       "      <td>183000</td>\n",
       "      <td>302000</td>\n",
       "      <td>32014</td>\n",
       "      <td>403719</td>\n",
       "      <td>112000</td>\n",
       "      <td>229000</td>\n",
       "      <td>166742</td>\n",
       "      <td>41300</td>\n",
       "      <td>...</td>\n",
       "      <td>27000</td>\n",
       "      <td>20650</td>\n",
       "      <td>NaN</td>\n",
       "      <td>81700</td>\n",
       "      <td>5775</td>\n",
       "      <td>54700</td>\n",
       "      <td>26417</td>\n",
       "      <td>48350</td>\n",
       "      <td>55750</td>\n",
       "      <td>3200</td>\n",
       "    </tr>\n",
       "    <tr>\n",
       "      <th>...</th>\n",
       "      <td>...</td>\n",
       "      <td>...</td>\n",
       "      <td>...</td>\n",
       "      <td>...</td>\n",
       "      <td>...</td>\n",
       "      <td>...</td>\n",
       "      <td>...</td>\n",
       "      <td>...</td>\n",
       "      <td>...</td>\n",
       "      <td>...</td>\n",
       "      <td>...</td>\n",
       "      <td>...</td>\n",
       "      <td>...</td>\n",
       "      <td>...</td>\n",
       "      <td>...</td>\n",
       "      <td>...</td>\n",
       "      <td>...</td>\n",
       "      <td>...</td>\n",
       "      <td>...</td>\n",
       "      <td>...</td>\n",
       "      <td>...</td>\n",
       "    </tr>\n",
       "    <tr>\n",
       "      <th>2022-05-12</th>\n",
       "      <td>64900</td>\n",
       "      <td>109000</td>\n",
       "      <td>270000</td>\n",
       "      <td>485500</td>\n",
       "      <td>80700</td>\n",
       "      <td>788000</td>\n",
       "      <td>180500</td>\n",
       "      <td>564000</td>\n",
       "      <td>154500</td>\n",
       "      <td>86300</td>\n",
       "      <td>...</td>\n",
       "      <td>29900</td>\n",
       "      <td>22850</td>\n",
       "      <td>9700.0</td>\n",
       "      <td>80800</td>\n",
       "      <td>8830</td>\n",
       "      <td>51500</td>\n",
       "      <td>24600</td>\n",
       "      <td>51400</td>\n",
       "      <td>23100</td>\n",
       "      <td>2690</td>\n",
       "    </tr>\n",
       "    <tr>\n",
       "      <th>2022-05-13</th>\n",
       "      <td>66500</td>\n",
       "      <td>112500</td>\n",
       "      <td>274500</td>\n",
       "      <td>510000</td>\n",
       "      <td>81800</td>\n",
       "      <td>785000</td>\n",
       "      <td>186500</td>\n",
       "      <td>589000</td>\n",
       "      <td>145000</td>\n",
       "      <td>86300</td>\n",
       "      <td>...</td>\n",
       "      <td>30000</td>\n",
       "      <td>23500</td>\n",
       "      <td>9720.0</td>\n",
       "      <td>81400</td>\n",
       "      <td>8820</td>\n",
       "      <td>52500</td>\n",
       "      <td>25050</td>\n",
       "      <td>51700</td>\n",
       "      <td>24150</td>\n",
       "      <td>2700</td>\n",
       "    </tr>\n",
       "    <tr>\n",
       "      <th>2022-05-16</th>\n",
       "      <td>66300</td>\n",
       "      <td>110500</td>\n",
       "      <td>273500</td>\n",
       "      <td>507000</td>\n",
       "      <td>82300</td>\n",
       "      <td>770000</td>\n",
       "      <td>184000</td>\n",
       "      <td>587000</td>\n",
       "      <td>141000</td>\n",
       "      <td>85200</td>\n",
       "      <td>...</td>\n",
       "      <td>30150</td>\n",
       "      <td>23700</td>\n",
       "      <td>9830.0</td>\n",
       "      <td>84100</td>\n",
       "      <td>8750</td>\n",
       "      <td>52900</td>\n",
       "      <td>24950</td>\n",
       "      <td>53300</td>\n",
       "      <td>24550</td>\n",
       "      <td>2780</td>\n",
       "    </tr>\n",
       "    <tr>\n",
       "      <th>2022-05-17</th>\n",
       "      <td>67600</td>\n",
       "      <td>112500</td>\n",
       "      <td>275500</td>\n",
       "      <td>505000</td>\n",
       "      <td>83200</td>\n",
       "      <td>766000</td>\n",
       "      <td>185500</td>\n",
       "      <td>591000</td>\n",
       "      <td>142500</td>\n",
       "      <td>85200</td>\n",
       "      <td>...</td>\n",
       "      <td>30150</td>\n",
       "      <td>23900</td>\n",
       "      <td>9760.0</td>\n",
       "      <td>81800</td>\n",
       "      <td>8780</td>\n",
       "      <td>52400</td>\n",
       "      <td>24750</td>\n",
       "      <td>52300</td>\n",
       "      <td>24450</td>\n",
       "      <td>2735</td>\n",
       "    </tr>\n",
       "    <tr>\n",
       "      <th>2022-05-18</th>\n",
       "      <td>67900</td>\n",
       "      <td>114000</td>\n",
       "      <td>276000</td>\n",
       "      <td>513000</td>\n",
       "      <td>82900</td>\n",
       "      <td>786000</td>\n",
       "      <td>185500</td>\n",
       "      <td>600000</td>\n",
       "      <td>143000</td>\n",
       "      <td>84400</td>\n",
       "      <td>...</td>\n",
       "      <td>30200</td>\n",
       "      <td>23900</td>\n",
       "      <td>9750.0</td>\n",
       "      <td>80200</td>\n",
       "      <td>8730</td>\n",
       "      <td>51400</td>\n",
       "      <td>24650</td>\n",
       "      <td>53000</td>\n",
       "      <td>24900</td>\n",
       "      <td>2730</td>\n",
       "    </tr>\n",
       "  </tbody>\n",
       "</table>\n",
       "<p>588 rows × 202 columns</p>\n",
       "</div>"
      ],
      "text/plain": [
       "            005930  000660  035420  051910  035720  207940  005380  006400  \\\n",
       "Date                                                                         \n",
       "2020-01-02   55200   94700  182500  314000   30609  423485  118000  232000   \n",
       "2020-01-03   55500   94500  181500  311000   30609  417061  116000  229000   \n",
       "2020-01-06   55500   94300  180500  307000   31010  407178  116000  230000   \n",
       "2020-01-07   55800   94000  187000  311000   32114  414096  115500  231500   \n",
       "2020-01-08   56800   97400  183000  302000   32014  403719  112000  229000   \n",
       "...            ...     ...     ...     ...     ...     ...     ...     ...   \n",
       "2022-05-12   64900  109000  270000  485500   80700  788000  180500  564000   \n",
       "2022-05-13   66500  112500  274500  510000   81800  785000  186500  589000   \n",
       "2022-05-16   66300  110500  273500  507000   82300  770000  184000  587000   \n",
       "2022-05-17   67600  112500  275500  505000   83200  766000  185500  591000   \n",
       "2022-05-18   67900  114000  276000  513000   82900  786000  185500  600000   \n",
       "\n",
       "            068270  000270  ...  006390  007570  383800  005610  009410  \\\n",
       "Date                        ...                                           \n",
       "2020-01-02  173489   42500  ...   30250   22850     NaN   86200    5875   \n",
       "2020-01-03  171079   42000  ...   30250   22650     NaN   85400    5875   \n",
       "2020-01-06  166742   41900  ...   29100   21850     NaN   85000    5700   \n",
       "2020-01-07  171561   42050  ...   29150   22000     NaN   84800    5825   \n",
       "2020-01-08  166742   41300  ...   27000   20650     NaN   81700    5775   \n",
       "...            ...     ...  ...     ...     ...     ...     ...     ...   \n",
       "2022-05-12  154500   86300  ...   29900   22850  9700.0   80800    8830   \n",
       "2022-05-13  145000   86300  ...   30000   23500  9720.0   81400    8820   \n",
       "2022-05-16  141000   85200  ...   30150   23700  9830.0   84100    8750   \n",
       "2022-05-17  142500   85200  ...   30150   23900  9760.0   81800    8780   \n",
       "2022-05-18  143000   84400  ...   30200   23900  9750.0   80200    8730   \n",
       "\n",
       "            005180  001060  145990  007700  008350  \n",
       "Date                                                \n",
       "2020-01-02   56300   28259   50000   58000    3335  \n",
       "2020-01-03   57500   28071   50300   58750    3350  \n",
       "2020-01-06   57200   27220   49300   58500    3405  \n",
       "2020-01-07   57200   27362   49400   57000    3355  \n",
       "2020-01-08   54700   26417   48350   55750    3200  \n",
       "...            ...     ...     ...     ...     ...  \n",
       "2022-05-12   51500   24600   51400   23100    2690  \n",
       "2022-05-13   52500   25050   51700   24150    2700  \n",
       "2022-05-16   52900   24950   53300   24550    2780  \n",
       "2022-05-17   52400   24750   52300   24450    2735  \n",
       "2022-05-18   51400   24650   53000   24900    2730  \n",
       "\n",
       "[588 rows x 202 columns]"
      ]
     },
     "execution_count": 102,
     "metadata": {},
     "output_type": "execute_result"
    }
   ],
   "source": [
    "pr_df = pd.DataFrame(temp_pr)\n",
    "pr_df"
   ]
  },
  {
   "cell_type": "code",
   "execution_count": 126,
   "id": "15772501",
   "metadata": {
    "collapsed": true
   },
   "outputs": [
    {
     "data": {
      "text/html": [
       "<div>\n",
       "<style scoped>\n",
       "    .dataframe tbody tr th:only-of-type {\n",
       "        vertical-align: middle;\n",
       "    }\n",
       "\n",
       "    .dataframe tbody tr th {\n",
       "        vertical-align: top;\n",
       "    }\n",
       "\n",
       "    .dataframe thead th {\n",
       "        text-align: right;\n",
       "    }\n",
       "</style>\n",
       "<table border=\"1\" class=\"dataframe\">\n",
       "  <thead>\n",
       "    <tr style=\"text-align: right;\">\n",
       "      <th></th>\n",
       "      <th>005930</th>\n",
       "      <th>000660</th>\n",
       "      <th>035420</th>\n",
       "      <th>051910</th>\n",
       "      <th>035720</th>\n",
       "      <th>207940</th>\n",
       "      <th>005380</th>\n",
       "      <th>006400</th>\n",
       "      <th>068270</th>\n",
       "      <th>000270</th>\n",
       "      <th>...</th>\n",
       "      <th>006390</th>\n",
       "      <th>007570</th>\n",
       "      <th>383800</th>\n",
       "      <th>005610</th>\n",
       "      <th>009410</th>\n",
       "      <th>005180</th>\n",
       "      <th>001060</th>\n",
       "      <th>145990</th>\n",
       "      <th>007700</th>\n",
       "      <th>008350</th>\n",
       "    </tr>\n",
       "  </thead>\n",
       "  <tbody>\n",
       "    <tr>\n",
       "      <th>005930</th>\n",
       "      <td>0.000000</td>\n",
       "      <td>0.916063</td>\n",
       "      <td>0.780206</td>\n",
       "      <td>0.828232</td>\n",
       "      <td>0.772878</td>\n",
       "      <td>0.657537</td>\n",
       "      <td>0.939009</td>\n",
       "      <td>0.887655</td>\n",
       "      <td>0.323005</td>\n",
       "      <td>0.914570</td>\n",
       "      <td>...</td>\n",
       "      <td>0.767598</td>\n",
       "      <td>-0.245196</td>\n",
       "      <td>0.699934</td>\n",
       "      <td>0.446636</td>\n",
       "      <td>0.880713</td>\n",
       "      <td>0.089742</td>\n",
       "      <td>-0.258223</td>\n",
       "      <td>0.696976</td>\n",
       "      <td>0.084604</td>\n",
       "      <td>-0.498990</td>\n",
       "    </tr>\n",
       "    <tr>\n",
       "      <th>000660</th>\n",
       "      <td>0.916063</td>\n",
       "      <td>0.000000</td>\n",
       "      <td>0.588888</td>\n",
       "      <td>0.609734</td>\n",
       "      <td>0.594364</td>\n",
       "      <td>0.455758</td>\n",
       "      <td>0.781970</td>\n",
       "      <td>0.716486</td>\n",
       "      <td>0.125302</td>\n",
       "      <td>0.825727</td>\n",
       "      <td>...</td>\n",
       "      <td>0.749174</td>\n",
       "      <td>-0.420643</td>\n",
       "      <td>0.564141</td>\n",
       "      <td>0.487123</td>\n",
       "      <td>0.694956</td>\n",
       "      <td>0.027462</td>\n",
       "      <td>-0.344006</td>\n",
       "      <td>0.446063</td>\n",
       "      <td>0.107298</td>\n",
       "      <td>-0.547689</td>\n",
       "    </tr>\n",
       "    <tr>\n",
       "      <th>035420</th>\n",
       "      <td>0.780206</td>\n",
       "      <td>0.588888</td>\n",
       "      <td>0.000000</td>\n",
       "      <td>0.810292</td>\n",
       "      <td>0.954945</td>\n",
       "      <td>0.868396</td>\n",
       "      <td>0.849460</td>\n",
       "      <td>0.917485</td>\n",
       "      <td>0.343480</td>\n",
       "      <td>0.849244</td>\n",
       "      <td>...</td>\n",
       "      <td>0.678282</td>\n",
       "      <td>-0.063380</td>\n",
       "      <td>0.144345</td>\n",
       "      <td>0.336357</td>\n",
       "      <td>0.863534</td>\n",
       "      <td>0.230184</td>\n",
       "      <td>-0.179359</td>\n",
       "      <td>0.837109</td>\n",
       "      <td>-0.076198</td>\n",
       "      <td>-0.381737</td>\n",
       "    </tr>\n",
       "    <tr>\n",
       "      <th>051910</th>\n",
       "      <td>0.828232</td>\n",
       "      <td>0.609734</td>\n",
       "      <td>0.810292</td>\n",
       "      <td>0.000000</td>\n",
       "      <td>0.738110</td>\n",
       "      <td>0.725882</td>\n",
       "      <td>0.902408</td>\n",
       "      <td>0.857260</td>\n",
       "      <td>0.654351</td>\n",
       "      <td>0.741549</td>\n",
       "      <td>...</td>\n",
       "      <td>0.615871</td>\n",
       "      <td>0.200744</td>\n",
       "      <td>0.269583</td>\n",
       "      <td>0.124059</td>\n",
       "      <td>0.921019</td>\n",
       "      <td>0.246181</td>\n",
       "      <td>0.060135</td>\n",
       "      <td>0.781184</td>\n",
       "      <td>0.199532</td>\n",
       "      <td>-0.179261</td>\n",
       "    </tr>\n",
       "    <tr>\n",
       "      <th>035720</th>\n",
       "      <td>0.772878</td>\n",
       "      <td>0.594364</td>\n",
       "      <td>0.954945</td>\n",
       "      <td>0.738110</td>\n",
       "      <td>0.000000</td>\n",
       "      <td>0.850265</td>\n",
       "      <td>0.829685</td>\n",
       "      <td>0.896823</td>\n",
       "      <td>0.226395</td>\n",
       "      <td>0.867946</td>\n",
       "      <td>...</td>\n",
       "      <td>0.671668</td>\n",
       "      <td>-0.189769</td>\n",
       "      <td>0.377724</td>\n",
       "      <td>0.476968</td>\n",
       "      <td>0.836982</td>\n",
       "      <td>0.209064</td>\n",
       "      <td>-0.253505</td>\n",
       "      <td>0.780546</td>\n",
       "      <td>-0.172381</td>\n",
       "      <td>-0.456562</td>\n",
       "    </tr>\n",
       "    <tr>\n",
       "      <th>...</th>\n",
       "      <td>...</td>\n",
       "      <td>...</td>\n",
       "      <td>...</td>\n",
       "      <td>...</td>\n",
       "      <td>...</td>\n",
       "      <td>...</td>\n",
       "      <td>...</td>\n",
       "      <td>...</td>\n",
       "      <td>...</td>\n",
       "      <td>...</td>\n",
       "      <td>...</td>\n",
       "      <td>...</td>\n",
       "      <td>...</td>\n",
       "      <td>...</td>\n",
       "      <td>...</td>\n",
       "      <td>...</td>\n",
       "      <td>...</td>\n",
       "      <td>...</td>\n",
       "      <td>...</td>\n",
       "      <td>...</td>\n",
       "      <td>...</td>\n",
       "    </tr>\n",
       "    <tr>\n",
       "      <th>005180</th>\n",
       "      <td>0.089742</td>\n",
       "      <td>0.027462</td>\n",
       "      <td>0.230184</td>\n",
       "      <td>0.246181</td>\n",
       "      <td>0.209064</td>\n",
       "      <td>0.203901</td>\n",
       "      <td>0.114275</td>\n",
       "      <td>0.096511</td>\n",
       "      <td>0.450399</td>\n",
       "      <td>0.016322</td>\n",
       "      <td>...</td>\n",
       "      <td>0.453180</td>\n",
       "      <td>0.303834</td>\n",
       "      <td>0.644666</td>\n",
       "      <td>0.186446</td>\n",
       "      <td>0.297727</td>\n",
       "      <td>0.000000</td>\n",
       "      <td>0.526390</td>\n",
       "      <td>0.197344</td>\n",
       "      <td>0.337315</td>\n",
       "      <td>0.504389</td>\n",
       "    </tr>\n",
       "    <tr>\n",
       "      <th>001060</th>\n",
       "      <td>-0.258223</td>\n",
       "      <td>-0.344006</td>\n",
       "      <td>-0.179359</td>\n",
       "      <td>0.060135</td>\n",
       "      <td>-0.253505</td>\n",
       "      <td>-0.023310</td>\n",
       "      <td>-0.176752</td>\n",
       "      <td>-0.254602</td>\n",
       "      <td>0.648503</td>\n",
       "      <td>-0.416832</td>\n",
       "      <td>...</td>\n",
       "      <td>-0.118818</td>\n",
       "      <td>0.798978</td>\n",
       "      <td>0.536139</td>\n",
       "      <td>-0.245860</td>\n",
       "      <td>0.006431</td>\n",
       "      <td>0.526390</td>\n",
       "      <td>0.000000</td>\n",
       "      <td>-0.070181</td>\n",
       "      <td>0.261840</td>\n",
       "      <td>0.821121</td>\n",
       "    </tr>\n",
       "    <tr>\n",
       "      <th>145990</th>\n",
       "      <td>0.696976</td>\n",
       "      <td>0.446063</td>\n",
       "      <td>0.837109</td>\n",
       "      <td>0.781184</td>\n",
       "      <td>0.780546</td>\n",
       "      <td>0.787459</td>\n",
       "      <td>0.808236</td>\n",
       "      <td>0.804073</td>\n",
       "      <td>0.341700</td>\n",
       "      <td>0.745747</td>\n",
       "      <td>...</td>\n",
       "      <td>0.544107</td>\n",
       "      <td>0.087251</td>\n",
       "      <td>-0.008777</td>\n",
       "      <td>0.295248</td>\n",
       "      <td>0.798893</td>\n",
       "      <td>0.197344</td>\n",
       "      <td>-0.070181</td>\n",
       "      <td>0.000000</td>\n",
       "      <td>-0.111782</td>\n",
       "      <td>-0.349521</td>\n",
       "    </tr>\n",
       "    <tr>\n",
       "      <th>007700</th>\n",
       "      <td>0.084604</td>\n",
       "      <td>0.107298</td>\n",
       "      <td>-0.076198</td>\n",
       "      <td>0.199532</td>\n",
       "      <td>-0.172381</td>\n",
       "      <td>-0.283819</td>\n",
       "      <td>0.046303</td>\n",
       "      <td>-0.084234</td>\n",
       "      <td>0.376046</td>\n",
       "      <td>-0.124060</td>\n",
       "      <td>...</td>\n",
       "      <td>0.342352</td>\n",
       "      <td>0.138861</td>\n",
       "      <td>0.049360</td>\n",
       "      <td>-0.258493</td>\n",
       "      <td>0.100692</td>\n",
       "      <td>0.337315</td>\n",
       "      <td>0.261840</td>\n",
       "      <td>-0.111782</td>\n",
       "      <td>0.000000</td>\n",
       "      <td>0.339857</td>\n",
       "    </tr>\n",
       "    <tr>\n",
       "      <th>008350</th>\n",
       "      <td>-0.498990</td>\n",
       "      <td>-0.547689</td>\n",
       "      <td>-0.381737</td>\n",
       "      <td>-0.179261</td>\n",
       "      <td>-0.456562</td>\n",
       "      <td>-0.303611</td>\n",
       "      <td>-0.459071</td>\n",
       "      <td>-0.471094</td>\n",
       "      <td>0.502540</td>\n",
       "      <td>-0.656404</td>\n",
       "      <td>...</td>\n",
       "      <td>-0.263271</td>\n",
       "      <td>0.663762</td>\n",
       "      <td>0.477023</td>\n",
       "      <td>-0.434522</td>\n",
       "      <td>-0.280532</td>\n",
       "      <td>0.504389</td>\n",
       "      <td>0.821121</td>\n",
       "      <td>-0.349521</td>\n",
       "      <td>0.339857</td>\n",
       "      <td>0.000000</td>\n",
       "    </tr>\n",
       "  </tbody>\n",
       "</table>\n",
       "<p>202 rows × 202 columns</p>\n",
       "</div>"
      ],
      "text/plain": [
       "          005930    000660    035420    051910    035720    207940    005380  \\\n",
       "005930  0.000000  0.916063  0.780206  0.828232  0.772878  0.657537  0.939009   \n",
       "000660  0.916063  0.000000  0.588888  0.609734  0.594364  0.455758  0.781970   \n",
       "035420  0.780206  0.588888  0.000000  0.810292  0.954945  0.868396  0.849460   \n",
       "051910  0.828232  0.609734  0.810292  0.000000  0.738110  0.725882  0.902408   \n",
       "035720  0.772878  0.594364  0.954945  0.738110  0.000000  0.850265  0.829685   \n",
       "...          ...       ...       ...       ...       ...       ...       ...   \n",
       "005180  0.089742  0.027462  0.230184  0.246181  0.209064  0.203901  0.114275   \n",
       "001060 -0.258223 -0.344006 -0.179359  0.060135 -0.253505 -0.023310 -0.176752   \n",
       "145990  0.696976  0.446063  0.837109  0.781184  0.780546  0.787459  0.808236   \n",
       "007700  0.084604  0.107298 -0.076198  0.199532 -0.172381 -0.283819  0.046303   \n",
       "008350 -0.498990 -0.547689 -0.381737 -0.179261 -0.456562 -0.303611 -0.459071   \n",
       "\n",
       "          006400    068270    000270  ...    006390    007570    383800  \\\n",
       "005930  0.887655  0.323005  0.914570  ...  0.767598 -0.245196  0.699934   \n",
       "000660  0.716486  0.125302  0.825727  ...  0.749174 -0.420643  0.564141   \n",
       "035420  0.917485  0.343480  0.849244  ...  0.678282 -0.063380  0.144345   \n",
       "051910  0.857260  0.654351  0.741549  ...  0.615871  0.200744  0.269583   \n",
       "035720  0.896823  0.226395  0.867946  ...  0.671668 -0.189769  0.377724   \n",
       "...          ...       ...       ...  ...       ...       ...       ...   \n",
       "005180  0.096511  0.450399  0.016322  ...  0.453180  0.303834  0.644666   \n",
       "001060 -0.254602  0.648503 -0.416832  ... -0.118818  0.798978  0.536139   \n",
       "145990  0.804073  0.341700  0.745747  ...  0.544107  0.087251 -0.008777   \n",
       "007700 -0.084234  0.376046 -0.124060  ...  0.342352  0.138861  0.049360   \n",
       "008350 -0.471094  0.502540 -0.656404  ... -0.263271  0.663762  0.477023   \n",
       "\n",
       "          005610    009410    005180    001060    145990    007700    008350  \n",
       "005930  0.446636  0.880713  0.089742 -0.258223  0.696976  0.084604 -0.498990  \n",
       "000660  0.487123  0.694956  0.027462 -0.344006  0.446063  0.107298 -0.547689  \n",
       "035420  0.336357  0.863534  0.230184 -0.179359  0.837109 -0.076198 -0.381737  \n",
       "051910  0.124059  0.921019  0.246181  0.060135  0.781184  0.199532 -0.179261  \n",
       "035720  0.476968  0.836982  0.209064 -0.253505  0.780546 -0.172381 -0.456562  \n",
       "...          ...       ...       ...       ...       ...       ...       ...  \n",
       "005180  0.186446  0.297727  0.000000  0.526390  0.197344  0.337315  0.504389  \n",
       "001060 -0.245860  0.006431  0.526390  0.000000 -0.070181  0.261840  0.821121  \n",
       "145990  0.295248  0.798893  0.197344 -0.070181  0.000000 -0.111782 -0.349521  \n",
       "007700 -0.258493  0.100692  0.337315  0.261840 -0.111782  0.000000  0.339857  \n",
       "008350 -0.434522 -0.280532  0.504389  0.821121 -0.349521  0.339857  0.000000  \n",
       "\n",
       "[202 rows x 202 columns]"
      ]
     },
     "execution_count": 126,
     "metadata": {},
     "output_type": "execute_result"
    }
   ],
   "source": [
    "cor_df = pr_df.corr().apply(lambda x: np.where(x >=1, 0, x))\n",
    "cor_df"
   ]
  },
  {
   "cell_type": "code",
   "execution_count": null,
   "id": "79f01269",
   "metadata": {},
   "outputs": [],
   "source": []
  },
  {
   "cell_type": "code",
   "execution_count": null,
   "id": "298fcfbf",
   "metadata": {},
   "outputs": [],
   "source": []
  },
  {
   "cell_type": "code",
   "execution_count": 134,
   "id": "5d1354fe",
   "metadata": {
    "collapsed": true
   },
   "outputs": [
    {
     "data": {
      "text/html": [
       "<div>\n",
       "<style scoped>\n",
       "    .dataframe tbody tr th:only-of-type {\n",
       "        vertical-align: middle;\n",
       "    }\n",
       "\n",
       "    .dataframe tbody tr th {\n",
       "        vertical-align: top;\n",
       "    }\n",
       "\n",
       "    .dataframe thead th {\n",
       "        text-align: right;\n",
       "    }\n",
       "</style>\n",
       "<table border=\"1\" class=\"dataframe\">\n",
       "  <thead>\n",
       "    <tr style=\"text-align: right;\">\n",
       "      <th></th>\n",
       "      <th>005930</th>\n",
       "      <th>000660</th>\n",
       "      <th>035420</th>\n",
       "      <th>051910</th>\n",
       "      <th>035720</th>\n",
       "      <th>207940</th>\n",
       "      <th>005380</th>\n",
       "      <th>006400</th>\n",
       "      <th>068270</th>\n",
       "      <th>000270</th>\n",
       "      <th>...</th>\n",
       "      <th>006390</th>\n",
       "      <th>007570</th>\n",
       "      <th>383800</th>\n",
       "      <th>005610</th>\n",
       "      <th>009410</th>\n",
       "      <th>005180</th>\n",
       "      <th>001060</th>\n",
       "      <th>145990</th>\n",
       "      <th>007700</th>\n",
       "      <th>008350</th>\n",
       "    </tr>\n",
       "  </thead>\n",
       "  <tbody>\n",
       "    <tr>\n",
       "      <th>0</th>\n",
       "      <td>28</td>\n",
       "      <td>0</td>\n",
       "      <td>4</td>\n",
       "      <td>90</td>\n",
       "      <td>2</td>\n",
       "      <td>2</td>\n",
       "      <td>96</td>\n",
       "      <td>33</td>\n",
       "      <td>20</td>\n",
       "      <td>32</td>\n",
       "      <td>...</td>\n",
       "      <td>47</td>\n",
       "      <td>40</td>\n",
       "      <td>165</td>\n",
       "      <td>55</td>\n",
       "      <td>94</td>\n",
       "      <td>176</td>\n",
       "      <td>145</td>\n",
       "      <td>114</td>\n",
       "      <td>158</td>\n",
       "      <td>40</td>\n",
       "    </tr>\n",
       "    <tr>\n",
       "      <th>1</th>\n",
       "      <td>96</td>\n",
       "      <td>41</td>\n",
       "      <td>7</td>\n",
       "      <td>196</td>\n",
       "      <td>24</td>\n",
       "      <td>49</td>\n",
       "      <td>94</td>\n",
       "      <td>9</td>\n",
       "      <td>146</td>\n",
       "      <td>136</td>\n",
       "      <td>...</td>\n",
       "      <td>164</td>\n",
       "      <td>145</td>\n",
       "      <td>191</td>\n",
       "      <td>144</td>\n",
       "      <td>6</td>\n",
       "      <td>158</td>\n",
       "      <td>40</td>\n",
       "      <td>148</td>\n",
       "      <td>52</td>\n",
       "      <td>198</td>\n",
       "    </tr>\n",
       "    <tr>\n",
       "      <th>2</th>\n",
       "      <td>13</td>\n",
       "      <td>28</td>\n",
       "      <td>33</td>\n",
       "      <td>63</td>\n",
       "      <td>33</td>\n",
       "      <td>4</td>\n",
       "      <td>13</td>\n",
       "      <td>96</td>\n",
       "      <td>80</td>\n",
       "      <td>96</td>\n",
       "      <td>...</td>\n",
       "      <td>157</td>\n",
       "      <td>198</td>\n",
       "      <td>71</td>\n",
       "      <td>89</td>\n",
       "      <td>118</td>\n",
       "      <td>104</td>\n",
       "      <td>201</td>\n",
       "      <td>2</td>\n",
       "      <td>191</td>\n",
       "      <td>145</td>\n",
       "    </tr>\n",
       "    <tr>\n",
       "      <th>3</th>\n",
       "      <td>41</td>\n",
       "      <td>96</td>\n",
       "      <td>107</td>\n",
       "      <td>43</td>\n",
       "      <td>119</td>\n",
       "      <td>7</td>\n",
       "      <td>0</td>\n",
       "      <td>14</td>\n",
       "      <td>145</td>\n",
       "      <td>33</td>\n",
       "      <td>...</td>\n",
       "      <td>56</td>\n",
       "      <td>170</td>\n",
       "      <td>13</td>\n",
       "      <td>18</td>\n",
       "      <td>3</td>\n",
       "      <td>67</td>\n",
       "      <td>193</td>\n",
       "      <td>98</td>\n",
       "      <td>26</td>\n",
       "      <td>129</td>\n",
       "    </tr>\n",
       "    <tr>\n",
       "      <th>4</th>\n",
       "      <td>6</td>\n",
       "      <td>13</td>\n",
       "      <td>114</td>\n",
       "      <td>39</td>\n",
       "      <td>7</td>\n",
       "      <td>98</td>\n",
       "      <td>196</td>\n",
       "      <td>136</td>\n",
       "      <td>143</td>\n",
       "      <td>13</td>\n",
       "      <td>...</td>\n",
       "      <td>41</td>\n",
       "      <td>165</td>\n",
       "      <td>60</td>\n",
       "      <td>42</td>\n",
       "      <td>43</td>\n",
       "      <td>181</td>\n",
       "      <td>129</td>\n",
       "      <td>49</td>\n",
       "      <td>104</td>\n",
       "      <td>189</td>\n",
       "    </tr>\n",
       "  </tbody>\n",
       "</table>\n",
       "<p>5 rows × 202 columns</p>\n",
       "</div>"
      ],
      "text/plain": [
       "   005930  000660  035420  051910  035720  207940  005380  006400  068270  \\\n",
       "0      28       0       4      90       2       2      96      33      20   \n",
       "1      96      41       7     196      24      49      94       9     146   \n",
       "2      13      28      33      63      33       4      13      96      80   \n",
       "3      41      96     107      43     119       7       0      14     145   \n",
       "4       6      13     114      39       7      98     196     136     143   \n",
       "\n",
       "   000270  ...  006390  007570  383800  005610  009410  005180  001060  \\\n",
       "0      32  ...      47      40     165      55      94     176     145   \n",
       "1     136  ...     164     145     191     144       6     158      40   \n",
       "2      96  ...     157     198      71      89     118     104     201   \n",
       "3      33  ...      56     170      13      18       3      67     193   \n",
       "4      13  ...      41     165      60      42      43     181     129   \n",
       "\n",
       "   145990  007700  008350  \n",
       "0     114     158      40  \n",
       "1     148      52     198  \n",
       "2       2     191     145  \n",
       "3      98      26     129  \n",
       "4      49     104     189  \n",
       "\n",
       "[5 rows x 202 columns]"
      ]
     },
     "execution_count": 134,
     "metadata": {},
     "output_type": "execute_result"
    }
   ],
   "source": [
    "rank_df = pd.DataFrame(cor_df.values.argsort(axis=0)[::-1][:5, :], columns = cor_df.columns)\n",
    "rank_df"
   ]
  },
  {
   "cell_type": "code",
   "execution_count": 136,
   "id": "261733c7",
   "metadata": {
    "collapsed": true
   },
   "outputs": [
    {
     "data": {
      "text/html": [
       "<div>\n",
       "<style scoped>\n",
       "    .dataframe tbody tr th:only-of-type {\n",
       "        vertical-align: middle;\n",
       "    }\n",
       "\n",
       "    .dataframe tbody tr th {\n",
       "        vertical-align: top;\n",
       "    }\n",
       "\n",
       "    .dataframe thead th {\n",
       "        text-align: right;\n",
       "    }\n",
       "</style>\n",
       "<table border=\"1\" class=\"dataframe\">\n",
       "  <thead>\n",
       "    <tr style=\"text-align: right;\">\n",
       "      <th></th>\n",
       "      <th>005930</th>\n",
       "      <th>000660</th>\n",
       "      <th>035420</th>\n",
       "      <th>051910</th>\n",
       "      <th>035720</th>\n",
       "      <th>207940</th>\n",
       "      <th>005380</th>\n",
       "      <th>006400</th>\n",
       "      <th>068270</th>\n",
       "      <th>000270</th>\n",
       "      <th>...</th>\n",
       "      <th>006390</th>\n",
       "      <th>007570</th>\n",
       "      <th>383800</th>\n",
       "      <th>005610</th>\n",
       "      <th>009410</th>\n",
       "      <th>005180</th>\n",
       "      <th>001060</th>\n",
       "      <th>145990</th>\n",
       "      <th>007700</th>\n",
       "      <th>008350</th>\n",
       "    </tr>\n",
       "  </thead>\n",
       "  <tbody>\n",
       "    <tr>\n",
       "      <th>0</th>\n",
       "      <td>009150</td>\n",
       "      <td>005930</td>\n",
       "      <td>035720</td>\n",
       "      <td>039490</td>\n",
       "      <td>035420</td>\n",
       "      <td>035420</td>\n",
       "      <td>204320</td>\n",
       "      <td>003670</td>\n",
       "      <td>036570</td>\n",
       "      <td>003490</td>\n",
       "      <td>...</td>\n",
       "      <td>011780</td>\n",
       "      <td>326030</td>\n",
       "      <td>003520</td>\n",
       "      <td>035250</td>\n",
       "      <td>112610</td>\n",
       "      <td>001680</td>\n",
       "      <td>003000</td>\n",
       "      <td>000880</td>\n",
       "      <td>000210</td>\n",
       "      <td>326030</td>\n",
       "    </tr>\n",
       "    <tr>\n",
       "      <th>1</th>\n",
       "      <td>204320</td>\n",
       "      <td>034220</td>\n",
       "      <td>006400</td>\n",
       "      <td>009410</td>\n",
       "      <td>011200</td>\n",
       "      <td>097950</td>\n",
       "      <td>112610</td>\n",
       "      <td>000270</td>\n",
       "      <td>185750</td>\n",
       "      <td>272210</td>\n",
       "      <td>...</td>\n",
       "      <td>003850</td>\n",
       "      <td>003000</td>\n",
       "      <td>115390</td>\n",
       "      <td>005300</td>\n",
       "      <td>005380</td>\n",
       "      <td>000210</td>\n",
       "      <td>326030</td>\n",
       "      <td>032350</td>\n",
       "      <td>002790</td>\n",
       "      <td>001060</td>\n",
       "    </tr>\n",
       "    <tr>\n",
       "      <th>2</th>\n",
       "      <td>066570</td>\n",
       "      <td>009150</td>\n",
       "      <td>003670</td>\n",
       "      <td>008930</td>\n",
       "      <td>003670</td>\n",
       "      <td>035720</td>\n",
       "      <td>066570</td>\n",
       "      <td>204320</td>\n",
       "      <td>000120</td>\n",
       "      <td>204320</td>\n",
       "      <td>...</td>\n",
       "      <td>004490</td>\n",
       "      <td>001060</td>\n",
       "      <td>128940</td>\n",
       "      <td>282330</td>\n",
       "      <td>006260</td>\n",
       "      <td>007070</td>\n",
       "      <td>008350</td>\n",
       "      <td>035420</td>\n",
       "      <td>115390</td>\n",
       "      <td>003000</td>\n",
       "    </tr>\n",
       "    <tr>\n",
       "      <th>3</th>\n",
       "      <td>034220</td>\n",
       "      <td>204320</td>\n",
       "      <td>014680</td>\n",
       "      <td>009830</td>\n",
       "      <td>064350</td>\n",
       "      <td>006400</td>\n",
       "      <td>005930</td>\n",
       "      <td>096770</td>\n",
       "      <td>003000</td>\n",
       "      <td>003670</td>\n",
       "      <td>...</td>\n",
       "      <td>161390</td>\n",
       "      <td>009420</td>\n",
       "      <td>066570</td>\n",
       "      <td>055550</td>\n",
       "      <td>051910</td>\n",
       "      <td>004990</td>\n",
       "      <td>007570</td>\n",
       "      <td>336260</td>\n",
       "      <td>018260</td>\n",
       "      <td>007310</td>\n",
       "    </tr>\n",
       "    <tr>\n",
       "      <th>4</th>\n",
       "      <td>005380</td>\n",
       "      <td>066570</td>\n",
       "      <td>000880</td>\n",
       "      <td>018880</td>\n",
       "      <td>006400</td>\n",
       "      <td>336260</td>\n",
       "      <td>009410</td>\n",
       "      <td>272210</td>\n",
       "      <td>005250</td>\n",
       "      <td>066570</td>\n",
       "      <td>...</td>\n",
       "      <td>034220</td>\n",
       "      <td>003520</td>\n",
       "      <td>241560</td>\n",
       "      <td>030200</td>\n",
       "      <td>009830</td>\n",
       "      <td>071840</td>\n",
       "      <td>007310</td>\n",
       "      <td>097950</td>\n",
       "      <td>007070</td>\n",
       "      <td>003230</td>\n",
       "    </tr>\n",
       "  </tbody>\n",
       "</table>\n",
       "<p>5 rows × 202 columns</p>\n",
       "</div>"
      ],
      "text/plain": [
       "   005930  000660  035420  051910  035720  207940  005380  006400  068270  \\\n",
       "0  009150  005930  035720  039490  035420  035420  204320  003670  036570   \n",
       "1  204320  034220  006400  009410  011200  097950  112610  000270  185750   \n",
       "2  066570  009150  003670  008930  003670  035720  066570  204320  000120   \n",
       "3  034220  204320  014680  009830  064350  006400  005930  096770  003000   \n",
       "4  005380  066570  000880  018880  006400  336260  009410  272210  005250   \n",
       "\n",
       "   000270  ...  006390  007570  383800  005610  009410  005180  001060  \\\n",
       "0  003490  ...  011780  326030  003520  035250  112610  001680  003000   \n",
       "1  272210  ...  003850  003000  115390  005300  005380  000210  326030   \n",
       "2  204320  ...  004490  001060  128940  282330  006260  007070  008350   \n",
       "3  003670  ...  161390  009420  066570  055550  051910  004990  007570   \n",
       "4  066570  ...  034220  003520  241560  030200  009830  071840  007310   \n",
       "\n",
       "   145990  007700  008350  \n",
       "0  000880  000210  326030  \n",
       "1  032350  002790  001060  \n",
       "2  035420  115390  003000  \n",
       "3  336260  018260  007310  \n",
       "4  097950  007070  003230  \n",
       "\n",
       "[5 rows x 202 columns]"
      ]
     },
     "execution_count": 136,
     "metadata": {},
     "output_type": "execute_result"
    }
   ],
   "source": [
    "rank_df.applymap(lambda x : cor_df.columns[x])"
   ]
  },
  {
   "cell_type": "code",
   "execution_count": null,
   "id": "0c678fe3",
   "metadata": {},
   "outputs": [],
   "source": [
    "code_df = pd.read_excel('코스피200.xlsx')\n",
    "code_df['종목코드'] = code_df['종목코드'].apply(lambda x: str(x).zfill(6))"
   ]
  },
  {
   "cell_type": "code",
   "execution_count": 142,
   "id": "af0264ad",
   "metadata": {},
   "outputs": [],
   "source": [
    "def to_name(code):\n",
    "    return code_df[code_df['종목코드']  == code]['종목명'].values[0]"
   ]
  },
  {
   "cell_type": "code",
   "execution_count": 144,
   "id": "f0352e6c",
   "metadata": {},
   "outputs": [],
   "source": [
    "sim_df = rank_df.applymap(lambda x : cor_df.columns[x]).applymap(to_name)"
   ]
  },
  {
   "cell_type": "code",
   "execution_count": 146,
   "id": "9dae48a8",
   "metadata": {},
   "outputs": [],
   "source": [
    "sim_df.columns = [to_name(col) for col in sim_df.columns]"
   ]
  },
  {
   "cell_type": "code",
   "execution_count": 147,
   "id": "2bba25d1",
   "metadata": {
    "collapsed": true
   },
   "outputs": [
    {
     "data": {
      "text/html": [
       "<div>\n",
       "<style scoped>\n",
       "    .dataframe tbody tr th:only-of-type {\n",
       "        vertical-align: middle;\n",
       "    }\n",
       "\n",
       "    .dataframe tbody tr th {\n",
       "        vertical-align: top;\n",
       "    }\n",
       "\n",
       "    .dataframe thead th {\n",
       "        text-align: right;\n",
       "    }\n",
       "</style>\n",
       "<table border=\"1\" class=\"dataframe\">\n",
       "  <thead>\n",
       "    <tr style=\"text-align: right;\">\n",
       "      <th></th>\n",
       "      <th>삼성전자</th>\n",
       "      <th>SK하이닉스</th>\n",
       "      <th>NAVER</th>\n",
       "      <th>LG화학</th>\n",
       "      <th>카카오</th>\n",
       "      <th>삼성바이오로직스</th>\n",
       "      <th>현대차</th>\n",
       "      <th>삼성SDI</th>\n",
       "      <th>셀트리온</th>\n",
       "      <th>기아</th>\n",
       "      <th>...</th>\n",
       "      <th>한일현대시멘트</th>\n",
       "      <th>일양약품</th>\n",
       "      <th>LX홀딩스</th>\n",
       "      <th>SPC삼립</th>\n",
       "      <th>태영건설</th>\n",
       "      <th>빙그레</th>\n",
       "      <th>JW중외제약</th>\n",
       "      <th>삼양사</th>\n",
       "      <th>F&amp;F홀딩스</th>\n",
       "      <th>남선알미늄</th>\n",
       "    </tr>\n",
       "  </thead>\n",
       "  <tbody>\n",
       "    <tr>\n",
       "      <th>0</th>\n",
       "      <td>삼성전기</td>\n",
       "      <td>삼성전자</td>\n",
       "      <td>카카오</td>\n",
       "      <td>키움증권</td>\n",
       "      <td>NAVER</td>\n",
       "      <td>NAVER</td>\n",
       "      <td>만도</td>\n",
       "      <td>포스코케미칼</td>\n",
       "      <td>엔씨소프트</td>\n",
       "      <td>대한항공</td>\n",
       "      <td>...</td>\n",
       "      <td>금호석유</td>\n",
       "      <td>SK바이오팜</td>\n",
       "      <td>영진약품</td>\n",
       "      <td>강원랜드</td>\n",
       "      <td>씨에스윈드</td>\n",
       "      <td>대상</td>\n",
       "      <td>부광약품</td>\n",
       "      <td>한화</td>\n",
       "      <td>DL</td>\n",
       "      <td>SK바이오팜</td>\n",
       "    </tr>\n",
       "    <tr>\n",
       "      <th>1</th>\n",
       "      <td>만도</td>\n",
       "      <td>LG디스플레이</td>\n",
       "      <td>삼성SDI</td>\n",
       "      <td>태영건설</td>\n",
       "      <td>HMM</td>\n",
       "      <td>CJ제일제당</td>\n",
       "      <td>씨에스윈드</td>\n",
       "      <td>기아</td>\n",
       "      <td>종근당</td>\n",
       "      <td>한화시스템</td>\n",
       "      <td>...</td>\n",
       "      <td>보령제약</td>\n",
       "      <td>부광약품</td>\n",
       "      <td>락앤락</td>\n",
       "      <td>롯데칠성</td>\n",
       "      <td>현대차</td>\n",
       "      <td>DL</td>\n",
       "      <td>SK바이오팜</td>\n",
       "      <td>롯데관광개발</td>\n",
       "      <td>아모레G</td>\n",
       "      <td>JW중외제약</td>\n",
       "    </tr>\n",
       "    <tr>\n",
       "      <th>2</th>\n",
       "      <td>LG전자</td>\n",
       "      <td>삼성전기</td>\n",
       "      <td>포스코케미칼</td>\n",
       "      <td>한미사이언스</td>\n",
       "      <td>포스코케미칼</td>\n",
       "      <td>카카오</td>\n",
       "      <td>LG전자</td>\n",
       "      <td>만도</td>\n",
       "      <td>CJ대한통운</td>\n",
       "      <td>만도</td>\n",
       "      <td>...</td>\n",
       "      <td>세방전지</td>\n",
       "      <td>JW중외제약</td>\n",
       "      <td>한미약품</td>\n",
       "      <td>BGF리테일</td>\n",
       "      <td>LS</td>\n",
       "      <td>GS리테일</td>\n",
       "      <td>남선알미늄</td>\n",
       "      <td>NAVER</td>\n",
       "      <td>락앤락</td>\n",
       "      <td>부광약품</td>\n",
       "    </tr>\n",
       "    <tr>\n",
       "      <th>3</th>\n",
       "      <td>LG디스플레이</td>\n",
       "      <td>만도</td>\n",
       "      <td>한솔케미칼</td>\n",
       "      <td>한화솔루션</td>\n",
       "      <td>현대로템</td>\n",
       "      <td>삼성SDI</td>\n",
       "      <td>삼성전자</td>\n",
       "      <td>SK이노베이션</td>\n",
       "      <td>부광약품</td>\n",
       "      <td>포스코케미칼</td>\n",
       "      <td>...</td>\n",
       "      <td>한국타이어앤테크놀로지</td>\n",
       "      <td>한올바이오파마</td>\n",
       "      <td>LG전자</td>\n",
       "      <td>신한지주</td>\n",
       "      <td>LG화학</td>\n",
       "      <td>롯데지주</td>\n",
       "      <td>일양약품</td>\n",
       "      <td>두산퓨얼셀</td>\n",
       "      <td>삼성에스디에스</td>\n",
       "      <td>오뚜기</td>\n",
       "    </tr>\n",
       "    <tr>\n",
       "      <th>4</th>\n",
       "      <td>현대차</td>\n",
       "      <td>LG전자</td>\n",
       "      <td>한화</td>\n",
       "      <td>한온시스템</td>\n",
       "      <td>삼성SDI</td>\n",
       "      <td>두산퓨얼셀</td>\n",
       "      <td>태영건설</td>\n",
       "      <td>한화시스템</td>\n",
       "      <td>녹십자홀딩스</td>\n",
       "      <td>LG전자</td>\n",
       "      <td>...</td>\n",
       "      <td>LG디스플레이</td>\n",
       "      <td>영진약품</td>\n",
       "      <td>두산밥캣</td>\n",
       "      <td>KT</td>\n",
       "      <td>한화솔루션</td>\n",
       "      <td>롯데하이마트</td>\n",
       "      <td>오뚜기</td>\n",
       "      <td>CJ제일제당</td>\n",
       "      <td>GS리테일</td>\n",
       "      <td>삼양식품</td>\n",
       "    </tr>\n",
       "  </tbody>\n",
       "</table>\n",
       "<p>5 rows × 202 columns</p>\n",
       "</div>"
      ],
      "text/plain": [
       "      삼성전자   SK하이닉스   NAVER    LG화학     카카오 삼성바이오로직스    현대차    삼성SDI    셀트리온  \\\n",
       "0     삼성전기     삼성전자     카카오    키움증권   NAVER    NAVER     만도   포스코케미칼   엔씨소프트   \n",
       "1       만도  LG디스플레이   삼성SDI    태영건설     HMM   CJ제일제당  씨에스윈드       기아     종근당   \n",
       "2     LG전자     삼성전기  포스코케미칼  한미사이언스  포스코케미칼      카카오   LG전자       만도  CJ대한통운   \n",
       "3  LG디스플레이       만도   한솔케미칼   한화솔루션    현대로템    삼성SDI   삼성전자  SK이노베이션    부광약품   \n",
       "4      현대차     LG전자      한화   한온시스템   삼성SDI    두산퓨얼셀   태영건설    한화시스템  녹십자홀딩스   \n",
       "\n",
       "       기아  ...      한일현대시멘트     일양약품 LX홀딩스   SPC삼립   태영건설     빙그레  JW중외제약  \\\n",
       "0    대한항공  ...         금호석유   SK바이오팜  영진약품    강원랜드  씨에스윈드      대상    부광약품   \n",
       "1   한화시스템  ...         보령제약     부광약품   락앤락    롯데칠성    현대차      DL  SK바이오팜   \n",
       "2      만도  ...         세방전지   JW중외제약  한미약품  BGF리테일     LS   GS리테일   남선알미늄   \n",
       "3  포스코케미칼  ...  한국타이어앤테크놀로지  한올바이오파마  LG전자    신한지주   LG화학    롯데지주    일양약품   \n",
       "4    LG전자  ...      LG디스플레이     영진약품  두산밥캣      KT  한화솔루션  롯데하이마트     오뚜기   \n",
       "\n",
       "      삼양사   F&F홀딩스   남선알미늄  \n",
       "0      한화       DL  SK바이오팜  \n",
       "1  롯데관광개발     아모레G  JW중외제약  \n",
       "2   NAVER      락앤락    부광약품  \n",
       "3   두산퓨얼셀  삼성에스디에스     오뚜기  \n",
       "4  CJ제일제당    GS리테일    삼양식품  \n",
       "\n",
       "[5 rows x 202 columns]"
      ]
     },
     "execution_count": 147,
     "metadata": {},
     "output_type": "execute_result"
    }
   ],
   "source": [
    "sim_df"
   ]
  },
  {
   "cell_type": "code",
   "execution_count": null,
   "id": "43ae5db4",
   "metadata": {},
   "outputs": [],
   "source": []
  },
  {
   "cell_type": "code",
   "execution_count": null,
   "id": "6d061bf8",
   "metadata": {},
   "outputs": [],
   "source": []
  },
  {
   "cell_type": "code",
   "execution_count": null,
   "id": "8f1c94fa",
   "metadata": {},
   "outputs": [],
   "source": [
    "# 추정 1\n",
    "\n",
    "# 아프리카에 서식하는 악어의 몸무게를 추정하시오\n",
    "# 50마리의 악어의 몸무게를 측정한 결과 994kg이었고, 과거 악어몸무게의 표준편차는 10kg이었다.\n",
    "# 아프리카 악어의 몸무게를 95% 신뢰수준으로 추정하시오."
   ]
  },
  {
   "cell_type": "code",
   "execution_count": 153,
   "id": "17fe9843",
   "metadata": {},
   "outputs": [
    {
     "name": "stdout",
     "output_type": "stream",
     "text": [
      "991.2422835533724 ~ 996.7718585822513\n"
     ]
    }
   ],
   "source": [
    "# 표본평균 : 994\n",
    "# 모표준편차 : 10 => 정규분포 사용 가능\n",
    "# 샘플사이즈 : 50\n",
    "# 신뢰수준 : 95\n",
    "\n",
    "# 정규분포에서 신뢰수준 95% => 평균에서 -1.96*표준편차 ~ 1.96*표준편차 범위 사이가 해당된다..\n",
    "# P(표본평균 -1.96*(theta/sp.sqrt(n)) < mu < 표본평균 -1.96*(theta/sp.sqrt(n))) == 95%\n",
    "\n",
    "# 994 -1.95*10/sp.sqrt(50) < mu < 994 +1.96*10/sp.sqrt(50)\n",
    "print(994 -1.95*(10/sp.sqrt(50)), '~', 994 +1.96*(10/sp.sqrt(50)))"
   ]
  },
  {
   "cell_type": "code",
   "execution_count": 154,
   "id": "759a4818",
   "metadata": {},
   "outputs": [
    {
     "data": {
      "text/plain": [
       "(991.2281923513007, 996.7718076486993)"
      ]
     },
     "execution_count": 154,
     "metadata": {},
     "output_type": "execute_result"
    }
   ],
   "source": [
    "stats.norm.interval(alpha=0.95, loc=994, scale=10/sp.sqrt(50))"
   ]
  },
  {
   "cell_type": "code",
   "execution_count": null,
   "id": "d06a9909",
   "metadata": {},
   "outputs": [],
   "source": []
  },
  {
   "cell_type": "code",
   "execution_count": 155,
   "id": "f3b22781",
   "metadata": {},
   "outputs": [],
   "source": [
    "# 검정 1"
   ]
  },
  {
   "cell_type": "code",
   "execution_count": null,
   "id": "05bb3cb4",
   "metadata": {},
   "outputs": [],
   "source": [
    "# 아프리카에 서식하는 악어의 평균 몸무게는 1ton이었다. 한 동물학자는 이들의 몸무게가\n",
    "# 1ton이 아니라고 주장한다. 이를 실험하기 위해 50마리의 악어의 몸무게를 확인하였다.\n",
    "# 50마리 악어의 평균 몸무게는 995kg이었다. 과거의 조사를 통해 악어의 몸무게의 표준편차는 \n",
    "# 10kg이라는 것을 알고있다. \n",
    "# 유의수준 5%에서 이 동물학자의 주장이 맞는지 검정하시오\n",
    "\n",
    "# 귀무가설 : 아프라키 악어의 평균몸무게는 1ton이다.\n",
    "# 대립가설 : 아프리카 악어의 평균몸무게는 1ton이 아니다..(학자)"
   ]
  },
  {
   "cell_type": "code",
   "execution_count": null,
   "id": "6d37bb05",
   "metadata": {},
   "outputs": [],
   "source": [
    "# 모평균 1000\n",
    "# 모표준편차 10\n",
    "# 표본평균 995\n",
    "# 샘플사이즈 50\n",
    "# 신뢰수준 95%\n",
    "# 양측검정"
   ]
  },
  {
   "cell_type": "code",
   "execution_count": null,
   "id": "1e23680e",
   "metadata": {},
   "outputs": [],
   "source": [
    "# P(995 - 1.96*(10/sp.sqrt(50)) < mu < 995 + 1.96*(10/sp.sqrt(50))"
   ]
  },
  {
   "cell_type": "code",
   "execution_count": 158,
   "id": "29d68a6d",
   "metadata": {},
   "outputs": [
    {
     "name": "stdout",
     "output_type": "stream",
     "text": [
      "992.2281414177487 997.7718585822513\n"
     ]
    }
   ],
   "source": [
    "# print(995 - 1.96*(10/sp.sqrt(50)), 995 + 1.96*(10/sp.sqrt(50)))"
   ]
  },
  {
   "cell_type": "code",
   "execution_count": null,
   "id": "4565d21f",
   "metadata": {},
   "outputs": [],
   "source": []
  },
  {
   "cell_type": "code",
   "execution_count": 166,
   "id": "79b59062",
   "metadata": {},
   "outputs": [
    {
     "data": {
      "text/plain": [
       "-1.9599639845400545"
      ]
     },
     "execution_count": 166,
     "metadata": {},
     "output_type": "execute_result"
    }
   ],
   "source": [
    "# 임계값\n",
    "stats.norm.ppf(loc=0, scale=1, q=0.025)"
   ]
  },
  {
   "cell_type": "code",
   "execution_count": 167,
   "id": "4a52f729",
   "metadata": {},
   "outputs": [
    {
     "data": {
      "text/plain": [
       "-3.5355339059327378"
      ]
     },
     "execution_count": 167,
     "metadata": {},
     "output_type": "execute_result"
    }
   ],
   "source": [
    "# 검정통계량\n",
    "z = (995-1000)/(10/sp.sqrt(50))\n",
    "z"
   ]
  },
  {
   "cell_type": "code",
   "execution_count": null,
   "id": "dd90bc7d",
   "metadata": {},
   "outputs": [],
   "source": [
    "# 유의수준\n",
    "5%"
   ]
  },
  {
   "cell_type": "code",
   "execution_count": null,
   "id": "5f0c3baa",
   "metadata": {},
   "outputs": [],
   "source": [
    "# p_value"
   ]
  },
  {
   "cell_type": "code",
   "execution_count": 168,
   "id": "77d8b373",
   "metadata": {},
   "outputs": [
    {
     "data": {
      "text/plain": [
       "0.0002038875792247969"
      ]
     },
     "execution_count": 168,
     "metadata": {},
     "output_type": "execute_result"
    }
   ],
   "source": [
    "stats.norm.cdf(-3.535)"
   ]
  },
  {
   "cell_type": "code",
   "execution_count": null,
   "id": "7591eada",
   "metadata": {},
   "outputs": [],
   "source": []
  },
  {
   "cell_type": "code",
   "execution_count": null,
   "id": "9448e66e",
   "metadata": {},
   "outputs": [],
   "source": [
    "# 유의수준 > p_value, 임계값 > 검정통계값 => 대립가설 채택.."
   ]
  },
  {
   "cell_type": "code",
   "execution_count": null,
   "id": "8587aa5c",
   "metadata": {},
   "outputs": [],
   "source": []
  },
  {
   "cell_type": "code",
   "execution_count": null,
   "id": "b5bd38f3",
   "metadata": {},
   "outputs": [],
   "source": [
    "# 추정 2"
   ]
  },
  {
   "cell_type": "code",
   "execution_count": null,
   "id": "9a7c0b5c",
   "metadata": {},
   "outputs": [],
   "source": [
    "# 화장품 회사에서는 용기에 화장품을 담고 있으며, 화장품의 무게는 정규분포를 따른다.\n",
    "# 공장에서 16개의 sample을 추출해서 조사한 결과 평균은 60g, 표준편차는 12g이었다\n",
    "# 평균적으로 화장품의 용기에 화장품이 얼마나 들어가는지 95% 신뢰구간을 구하시오."
   ]
  },
  {
   "cell_type": "code",
   "execution_count": 6,
   "id": "2b019583",
   "metadata": {},
   "outputs": [],
   "source": [
    "from scipy import stats"
   ]
  },
  {
   "cell_type": "code",
   "execution_count": 11,
   "id": "5f9432db",
   "metadata": {},
   "outputs": [
    {
     "data": {
      "text/plain": [
       "2.131449545559323"
      ]
     },
     "execution_count": 11,
     "metadata": {},
     "output_type": "execute_result"
    }
   ],
   "source": [
    "stats.t.ppf(0.975, df=15)"
   ]
  },
  {
   "cell_type": "code",
   "execution_count": 12,
   "id": "84d08aae",
   "metadata": {},
   "outputs": [
    {
     "name": "stdout",
     "output_type": "stream",
     "text": [
      "53.61 66.39\n"
     ]
    }
   ],
   "source": [
    "n = 16\n",
    "x_mean = 60\n",
    "s = 12  # x_std\n",
    "신뢰수준 = 0.95\n",
    "\n",
    "print(x_mean - 2.13*s/sp.sqrt(16), x_mean + 2.13*s/sp.sqrt(16))"
   ]
  },
  {
   "cell_type": "code",
   "execution_count": 13,
   "id": "f5726740",
   "metadata": {},
   "outputs": [
    {
     "data": {
      "text/plain": [
       "(53.60565136332203, 66.39434863667798)"
      ]
     },
     "execution_count": 13,
     "metadata": {},
     "output_type": "execute_result"
    }
   ],
   "source": [
    "stats.t.interval(alpha=0.95, df=15, loc=60, scale=12/np.sqrt(16))"
   ]
  },
  {
   "cell_type": "code",
   "execution_count": null,
   "id": "eb8532fb",
   "metadata": {},
   "outputs": [],
   "source": []
  },
  {
   "cell_type": "code",
   "execution_count": null,
   "id": "722ad4bf",
   "metadata": {},
   "outputs": [],
   "source": []
  },
  {
   "cell_type": "code",
   "execution_count": null,
   "id": "ee3e6fa7",
   "metadata": {},
   "outputs": [],
   "source": [
    "# 검정 2"
   ]
  },
  {
   "cell_type": "code",
   "execution_count": null,
   "id": "5dfaf298",
   "metadata": {},
   "outputs": [],
   "source": [
    "# 한 화장품 공장에서는 화장품을 용기에 담고 있으며, 기계는 화장품을 65g씩 담도록 \n",
    "# 설계되어 있다. 화장품의 무게는 정규분포를 따른다고 한다. 기계의 오작동 여부를 \n",
    "# 알기 위해 16개의 샘플을 무작위로 뽑아서 검사한 결과 평균무게는 60g, 표준편차는 \n",
    "# 20g이었다. 유의수준 5%로 기계의 오작동 여부를 검정하시오..\n",
    "\n",
    "# 귀무가설 : 화장품의 평균무게는 65g이다\n",
    "# 대립가설 : 화장품의 평균무게는 65g이 아니다"
   ]
  },
  {
   "cell_type": "code",
   "execution_count": 25,
   "id": "f78c403f",
   "metadata": {},
   "outputs": [],
   "source": [
    "mu = 65  # 모평균\n",
    "# theta 모름  (모표준편차)\n",
    "n=16\n",
    "x_mean= 60\n",
    "s = 20  # 표본표준편차\n",
    "# 유의수준 : 5% (신뢰수준 95%)"
   ]
  },
  {
   "cell_type": "code",
   "execution_count": 26,
   "id": "c91b2054",
   "metadata": {},
   "outputs": [
    {
     "data": {
      "text/plain": [
       "-1.0"
      ]
     },
     "execution_count": 26,
     "metadata": {},
     "output_type": "execute_result"
    }
   ],
   "source": [
    "# z = (x- x_mean)/x_std\n",
    "# z = (60 - 65)/ (theta/sp.sqrt(16))\n",
    "\n",
    "# 검정통계량\n",
    "\n",
    "t = (60-65)/ (s/sp.sqrt(16))\n",
    "t"
   ]
  },
  {
   "cell_type": "code",
   "execution_count": 15,
   "id": "88daa394",
   "metadata": {},
   "outputs": [
    {
     "data": {
      "text/plain": [
       "2.131449545559323"
      ]
     },
     "execution_count": 15,
     "metadata": {},
     "output_type": "execute_result"
    }
   ],
   "source": [
    "# 임계값\n",
    "\n",
    "stats.t.ppf(0.975, df=15)"
   ]
  },
  {
   "cell_type": "code",
   "execution_count": null,
   "id": "da7dc704",
   "metadata": {},
   "outputs": [],
   "source": [
    "# 유의수준 \n",
    "\n",
    "0.05"
   ]
  },
  {
   "cell_type": "code",
   "execution_count": 27,
   "id": "3d40831c",
   "metadata": {},
   "outputs": [
    {
     "data": {
      "text/plain": [
       "0.16658506795773814"
      ]
     },
     "execution_count": 27,
     "metadata": {},
     "output_type": "execute_result"
    }
   ],
   "source": [
    "# p_value\n",
    "\n",
    "stats.t.cdf(-1, df=15)"
   ]
  },
  {
   "cell_type": "code",
   "execution_count": null,
   "id": "f92b8f64",
   "metadata": {},
   "outputs": [],
   "source": [
    "# 검정통계량이 임계값 사이에 위치 : 귀무가설 채택\n",
    "# p_value > 유의수준 : 귀무가설 채택"
   ]
  },
  {
   "cell_type": "code",
   "execution_count": null,
   "id": "9ce18ff1",
   "metadata": {},
   "outputs": [],
   "source": []
  },
  {
   "cell_type": "code",
   "execution_count": null,
   "id": "f071f92f",
   "metadata": {},
   "outputs": [],
   "source": []
  },
  {
   "cell_type": "code",
   "execution_count": null,
   "id": "58f912c0",
   "metadata": {},
   "outputs": [],
   "source": []
  },
  {
   "cell_type": "code",
   "execution_count": null,
   "id": "6153cd2f",
   "metadata": {},
   "outputs": [],
   "source": []
  }
 ],
 "metadata": {
  "kernelspec": {
   "display_name": "Python 3 (ipykernel)",
   "language": "python",
   "name": "python3"
  },
  "language_info": {
   "codemirror_mode": {
    "name": "ipython",
    "version": 3
   },
   "file_extension": ".py",
   "mimetype": "text/x-python",
   "name": "python",
   "nbconvert_exporter": "python",
   "pygments_lexer": "ipython3",
   "version": "3.9.7"
  },
  "varInspector": {
   "cols": {
    "lenName": 16,
    "lenType": 16,
    "lenVar": 40
   },
   "kernels_config": {
    "python": {
     "delete_cmd_postfix": "",
     "delete_cmd_prefix": "del ",
     "library": "var_list.py",
     "varRefreshCmd": "print(var_dic_list())"
    },
    "r": {
     "delete_cmd_postfix": ") ",
     "delete_cmd_prefix": "rm(",
     "library": "var_list.r",
     "varRefreshCmd": "cat(var_dic_list()) "
    }
   },
   "types_to_exclude": [
    "module",
    "function",
    "builtin_function_or_method",
    "instance",
    "_Feature"
   ],
   "window_display": false
  }
 },
 "nbformat": 4,
 "nbformat_minor": 5
}
