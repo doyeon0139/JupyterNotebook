{
 "cells": [
  {
   "cell_type": "code",
   "execution_count": 1,
   "id": "1b04bea9",
   "metadata": {},
   "outputs": [],
   "source": [
    "from flask import Flask, request, jsonify\n",
    "import json\n",
    "from time import time\n",
    "from textwrap import dedent\n",
    "from uuid import uuid4"
   ]
  },
  {
   "cell_type": "code",
   "execution_count": 2,
   "id": "8db8ee6f",
   "metadata": {},
   "outputs": [],
   "source": [
    "import hashlib\n",
    "import json"
   ]
  },
  {
   "cell_type": "code",
   "execution_count": 13,
   "id": "f0fc967e",
   "metadata": {},
   "outputs": [],
   "source": [
    "class BlockChain(object):\n",
    "    def __init__(self):  # 생성자 함수 : 인스턴스(객체)가 만들어질 때 동시에 무조건 실행\n",
    "        self.chain = []  # 블록을 담을 체인 : 블록체인\n",
    "        self.current_transaction = [] # 거래내역을 담는 리스트\n",
    "        self.nodes = set()  # 사용자 계정(주소)를 저장하는 set\n",
    "        \n",
    "        self.new_block(previous_hash=1, proof=100)  # genesis block(체인에서 최소 생성되는 블록)이 인스턴스 생성시 즉시생성\n",
    "        \n",
    "    def new_transaction(self, sender, recipient, amount): #거래 내역을 담는 리스트에 거래 정보 저장\n",
    "        self.current_transaction.append(\n",
    "        {\n",
    "            'sender' : sender,  # 송신지\n",
    "            'recipient' : recipient,   # 수신자\n",
    "            'amount' : amount  # 금액\n",
    "        }\n",
    "        )\n",
    "        return self.last_block['index'] + 1\n",
    "    \n",
    "    # 블록을 생성하고 체인에 블록을 추가하는 함수\n",
    "    # proof : 채굴에 성공했을 때, nounce값\n",
    "    # 채굴에 성공해야만 블록을 생성하고 chain에 추가가 가능\n",
    "    def new_block(self, previous_hash, proof):  # 거래내역, 이전블록해쉬, proof\n",
    "        block = {\n",
    "            'index' : len(self.chain) +1,  # 블록의 인덱스값\n",
    "            'timestamp' : self.current_transaction,   # 블록이 생성되는 시간\n",
    "            # 거래 내역이 저장된 리스트\n",
    "            'proof' : proof, # 채굴에 성공해서 얻은 nounce 값\n",
    "            'previous_hash' : previous_hash or self.hash(self.chain[-1]) # 이전 블록의 해쉬값\n",
    "            \n",
    "        }\n",
    "        \n",
    "        self.current_transaction = []  # 거래내역 리스트를 비운다\n",
    "        \n",
    "        self.chain.append(block)  # 블록을 체인에 추가\n",
    "        \n",
    "        return block\n",
    "    \n",
    "    def register_node(self, address):  # 계정(주소)들을 nodes에 추가\n",
    "        parsed_url = urlparse(address)\n",
    "        self.nodes.add(parsed_url.netloc)\n",
    "        \n",
    "    def valid_chain(self, chain):  # 블록체인이 유효한지 검증\n",
    "        last_block = chain[0]  # 최초의 블록\n",
    "        current_index =1  # 그 다음 블록\n",
    "        \n",
    "        while current_index < len(chain):  # 전체 체인을 반복해서 검증\n",
    "            block = chain[current_index]  # 현재 블록\n",
    "            \n",
    "            # 현재 블록에 등록된 이전블록 해쉬값 == 이전블록을 해쉬함수를 통해 직접 계산한 해쉬값\n",
    "            if block['previous_hash'] != self.hash(last_block):\n",
    "                return False  # 동일하지 않으면 블록의 유효성은 False\n",
    "            \n",
    "            last_block = block # 현재 블록을 이전 블록으로\n",
    "            current_index += 1 # 다음 블록 인덱스\n",
    "            \n",
    "        return True  # 블록이 유효하다\n",
    "    \n",
    "    # 어느 블록이 길이가 더 길면서 유효한 블록이면 현재의 블록을 더 길고 유효한 블록을 교체\n",
    "    def resolve_conflicts(self): \n",
    "        \n",
    "        neighbors = self.nodes  # 사용자 계정(주소)정보가 있는 set\n",
    "        new_chain = None\n",
    "        \n",
    "        max_length = len(self.chain)  # 현재 나의 계정의 블록체인 길이\n",
    "        \n",
    "        for node in neighbors:\n",
    "            tmp_url = 'http://'+ str(node) + '/chain'  # 다른 사용자들의 계정 주소의 chain경로\n",
    "            response = requests.get(tem_url)  # get방식으로 요청 => flask가 chain데이터, chain 길이 리턴\n",
    "            \n",
    "            if response.status_code == 200:  # 정상 통신\n",
    "                length = response.json()['length']  # json => diot변환, 길이정보를 받은\n",
    "                chain = response.json()['chain']  # json => diot변환, chain을 받음\n",
    "                \n",
    "                if length > max_length and self.valid_chain(chain):\n",
    "                    max_length = length\n",
    "                    new_chain = chain\n",
    "                    \n",
    "            if new_chain:\n",
    "                self.chain = new_chain\n",
    "                return True\n",
    "            \n",
    "            return False  # 내 체인이 교체되지 않았다 상대방 체인이 더 길지 않았음\n",
    "    \n",
    "    # dump : dict => json(str) \n",
    "    # encoding : json(str) => binary\n",
    "    def hash(self, block):\n",
    "        block_string = json.dumps(block, sort_keys=True).encode()  \n",
    "        return hashlib.sha256(block_string).hexdigest() # hasn값 출력\n",
    "    \n",
    "    def last_block(self):  # chain에 block이 append(최근 블록이 맨 뒤에 위치)\n",
    "        return self.chain[-1] # 가장 최근의 block을 리턴\n",
    "    \n",
    "    def pow(self, last_proof):  # 채굴 : 조건에 맞는 해쉬를 구할 때 까지 반복해서 해쉬값을 구하는 함수\n",
    "        \n",
    "        proof=0\n",
    "        \n",
    "        while self.valid_proof(last_proof, proof) is False:\n",
    "            proof += 1\n",
    "            \n",
    "        return proof # 문제를 풀었을 때(채굴에 성공한 경우)의 proof값(nounce값)\n",
    "    \n",
    "    def valid_proof(last_proof, proof):   # 블록이 해쉬값이 문제(조건)를 풀었는지를 확인\n",
    "        # 원래 : 블록의 헤더와 새로운 proof를 통해서 조건에 맞는 해쉬값을 찾아야 함\n",
    "        # 현재코드 : 이전의 proof값과 새로운 proof를 더한 값으로 조건에 맞는 해쉬값을 찾는다(단순화)\n",
    "        \n",
    "        guess = str(last_proof + proof).encode()\n",
    "        guess_hash = hashlib.sha256(guess).hexdigest()\n",
    "        return guess_hash[:4] == '0000'  # 채굴의 문제(조건) : 해쉬값의 앞 4자리가 0인지 검증\n",
    "        # 채굴의 난이도 : 몇 자리까지를 0으로 해야 하는가에 따라 달라짐"
   ]
  },
  {
   "cell_type": "code",
   "execution_count": 14,
   "id": "ff7a8ec8",
   "metadata": {},
   "outputs": [
    {
     "data": {
      "text/plain": [
       "'60095c8e-8a7a-4ba7-b3b3-5e54572d7646'"
      ]
     },
     "execution_count": 14,
     "metadata": {},
     "output_type": "execute_result"
    }
   ],
   "source": [
    "str(uuid4())   # 랜덤하게 유니크한 값을 나타냄"
   ]
  },
  {
   "cell_type": "code",
   "execution_count": 15,
   "id": "96dcd685",
   "metadata": {},
   "outputs": [
    {
     "ename": "SyntaxError",
     "evalue": "invalid syntax (Temp/ipykernel_7272/2913204735.py, line 53)",
     "output_type": "error",
     "traceback": [
      "\u001b[1;36m  File \u001b[1;32m\"C:\\Users\\bitcamp\\AppData\\Local\\Temp/ipykernel_7272/2913204735.py\"\u001b[1;36m, line \u001b[1;32m53\u001b[0m\n\u001b[1;33m    'total_nodes' : list(blockchain.nodes)\u001b[0m\n\u001b[1;37m                  ^\u001b[0m\n\u001b[1;31mSyntaxError\u001b[0m\u001b[1;31m:\u001b[0m invalid syntax\n"
     ]
    }
   ],
   "source": [
    "app = Flask(__name__)\n",
    "\n",
    "node_identifier = str(uuid4()).replace('-','')  # 최고의 계정 주소\n",
    "\n",
    "blockchain = BlockChain() \n",
    "# 블록체인 클래스 객체(인스턴스)생성 -> 생성자함수 실행 : chain, transaction list, nodes, genesis block\n",
    "\n",
    "@app.route('/mine', methods=['GET'])  # get 방식으로 /mine 경로로 접근\n",
    "def mind():\n",
    "    last_block = bolockchain.last_block  # 가장 최근 블록\n",
    "    last_block = last_block['proof']  # 이전 블록에서 채굴 성공으로 얻은 proof값\n",
    "    \n",
    "    proof = blockchain.pow(last_proof)  # 현재 블록에서 채굴 성공으로 얻은 새로운 proof값\n",
    "    \n",
    "    blockchain.new_transaction(  # 거래 정보를 저장하는 함수\n",
    "        sender='0',  # 채굴을 통한 것이므로 전달자가 없다\n",
    "        recipient = node_identifier,  # 랜덤한 수신자\n",
    "        amount = 1  # 1코인\n",
    "    )\n",
    "    \n",
    "    previous_hash = blockchain.hash(last_block)  # 이전 블록을 해쉬한 값\n",
    "    block = blockchain.new_transaction(proof, previous_hash)  # 새로운 블록을 생성하고 체인에 추가\n",
    "    \n",
    "    response={\n",
    "        'message': 'new block fount',\n",
    "        'index' : block['index'],\n",
    "        'transactions' : block['transactions'],\n",
    "        'proof' : block['proof'],\n",
    "        'previous_hash' : block['previous_hash']\n",
    "    }\n",
    "    \n",
    "    return jsonfy(response), 200\n",
    "\n",
    "@app.route('/chain', methods['GET'])  # /chain으로 get방식으로 요청이 들어오면\n",
    "def full_chain():\n",
    "    response = {\n",
    "        'chain' : blockchain.chain,\n",
    "        'length' : len(blockchain.chain)\n",
    "    }\n",
    "    \n",
    "    return jsonify(response), 200  # 체인데이터와 체인길이 정보, 통신 응답 코드를 리턴\n",
    "\n",
    "@app.route('/nodes/register', methods=['POST'])  # post방식으로 요청이 들어오면\n",
    "def register_nodes():\n",
    "    values = request.get_json()  # json으로 들어온 데이터를 수신\n",
    "    nodes = values.get('nodes')  # json 에서 nodes정보를 저장, nodes에는 계정정보가 있음\n",
    "    \n",
    "    if nodes is None:\n",
    "        return 'Error : please supply a valid list of nodes', 400\n",
    "    \n",
    "    for node in nodes:\n",
    "        blockchain.register_nodes(node)  # 계정(주소)정보를 nodes라는 계정 변수에 저장\n",
    "        \n",
    "    response = {\n",
    "        'message' : 'New nodes have been added'\n",
    "        'total_nodes' : list(blockchain.nodes)\n",
    "    }\n",
    "    return jsonify(response), 201  # dict 정보를 json형식으로 리턴\n",
    "\n",
    "@app.route('/nodes/resolve', methods=['GET'])  #/nodes/resolve 경로로 get방식으로 접근(요청)이 오면\n",
    "def consensus():\n",
    "    replaced = blockchain.resolve_conflicts()  # 내 chain이 업데이트 되면 True, 아니면 False\n",
    "    \n",
    "    if replaced:\n",
    "        response = {\n",
    "            'message' : 'Our chain was replaced',\n",
    "            'new_chain' : blockchain.chain\n",
    "        }\n",
    "    else :\n",
    "        response = {\n",
    "            'message' : 'Our chain is valid',\n",
    "            'new_chain' : blockchain.chain\n",
    "        }\n",
    "        \n",
    "    return jsonify(response), 200\n",
    "\n"
   ]
  },
  {
   "cell_type": "code",
   "execution_count": null,
   "id": "f36837b1",
   "metadata": {},
   "outputs": [],
   "source": []
  },
  {
   "cell_type": "code",
   "execution_count": null,
   "id": "b7fecdc3",
   "metadata": {},
   "outputs": [],
   "source": []
  },
  {
   "cell_type": "code",
   "execution_count": null,
   "id": "916dfac1",
   "metadata": {},
   "outputs": [],
   "source": []
  },
  {
   "cell_type": "code",
   "execution_count": null,
   "id": "8ccd22b5",
   "metadata": {},
   "outputs": [],
   "source": []
  },
  {
   "cell_type": "code",
   "execution_count": null,
   "id": "25a825f4",
   "metadata": {},
   "outputs": [],
   "source": []
  },
  {
   "cell_type": "code",
   "execution_count": null,
   "id": "29c69af4",
   "metadata": {},
   "outputs": [],
   "source": []
  },
  {
   "cell_type": "code",
   "execution_count": null,
   "id": "0f28431e",
   "metadata": {},
   "outputs": [],
   "source": []
  },
  {
   "cell_type": "code",
   "execution_count": null,
   "id": "4c0783f2",
   "metadata": {},
   "outputs": [],
   "source": []
  },
  {
   "cell_type": "code",
   "execution_count": null,
   "id": "e2302e69",
   "metadata": {},
   "outputs": [],
   "source": []
  },
  {
   "cell_type": "code",
   "execution_count": null,
   "id": "60fe1c35",
   "metadata": {},
   "outputs": [],
   "source": []
  },
  {
   "cell_type": "code",
   "execution_count": null,
   "id": "991d5559",
   "metadata": {},
   "outputs": [],
   "source": []
  },
  {
   "cell_type": "code",
   "execution_count": null,
   "id": "580673f3",
   "metadata": {},
   "outputs": [],
   "source": []
  },
  {
   "cell_type": "code",
   "execution_count": null,
   "id": "8df70fb2",
   "metadata": {},
   "outputs": [],
   "source": []
  },
  {
   "cell_type": "code",
   "execution_count": null,
   "id": "747e6e1a",
   "metadata": {},
   "outputs": [],
   "source": []
  },
  {
   "cell_type": "code",
   "execution_count": null,
   "id": "9f44f274",
   "metadata": {},
   "outputs": [],
   "source": []
  },
  {
   "cell_type": "code",
   "execution_count": null,
   "id": "69cdbab6",
   "metadata": {},
   "outputs": [],
   "source": []
  },
  {
   "cell_type": "code",
   "execution_count": null,
   "id": "c62ec98c",
   "metadata": {},
   "outputs": [],
   "source": []
  },
  {
   "cell_type": "code",
   "execution_count": null,
   "id": "dcd3adaa",
   "metadata": {},
   "outputs": [],
   "source": []
  },
  {
   "cell_type": "code",
   "execution_count": null,
   "id": "b261619f",
   "metadata": {},
   "outputs": [],
   "source": []
  },
  {
   "cell_type": "code",
   "execution_count": null,
   "id": "d86662f2",
   "metadata": {},
   "outputs": [],
   "source": []
  },
  {
   "cell_type": "code",
   "execution_count": null,
   "id": "9b65789f",
   "metadata": {},
   "outputs": [],
   "source": []
  },
  {
   "cell_type": "code",
   "execution_count": null,
   "id": "a9530030",
   "metadata": {},
   "outputs": [],
   "source": []
  },
  {
   "cell_type": "code",
   "execution_count": null,
   "id": "c75e55b1",
   "metadata": {},
   "outputs": [],
   "source": []
  },
  {
   "cell_type": "code",
   "execution_count": null,
   "id": "601553d2",
   "metadata": {},
   "outputs": [],
   "source": []
  },
  {
   "cell_type": "code",
   "execution_count": null,
   "id": "e39394aa",
   "metadata": {},
   "outputs": [],
   "source": []
  },
  {
   "cell_type": "code",
   "execution_count": null,
   "id": "d9fecaaf",
   "metadata": {},
   "outputs": [],
   "source": []
  },
  {
   "cell_type": "code",
   "execution_count": null,
   "id": "a90a7097",
   "metadata": {},
   "outputs": [],
   "source": []
  },
  {
   "cell_type": "code",
   "execution_count": null,
   "id": "89b4a4ca",
   "metadata": {},
   "outputs": [],
   "source": []
  },
  {
   "cell_type": "code",
   "execution_count": null,
   "id": "986ebc0b",
   "metadata": {},
   "outputs": [],
   "source": []
  },
  {
   "cell_type": "code",
   "execution_count": null,
   "id": "3c6ffb9f",
   "metadata": {},
   "outputs": [],
   "source": []
  },
  {
   "cell_type": "code",
   "execution_count": null,
   "id": "74838265",
   "metadata": {},
   "outputs": [],
   "source": []
  },
  {
   "cell_type": "code",
   "execution_count": null,
   "id": "5039af3c",
   "metadata": {},
   "outputs": [],
   "source": []
  }
 ],
 "metadata": {
  "kernelspec": {
   "display_name": "Python 3 (ipykernel)",
   "language": "python",
   "name": "python3"
  },
  "language_info": {
   "codemirror_mode": {
    "name": "ipython",
    "version": 3
   },
   "file_extension": ".py",
   "mimetype": "text/x-python",
   "name": "python",
   "nbconvert_exporter": "python",
   "pygments_lexer": "ipython3",
   "version": "3.9.7"
  },
  "varInspector": {
   "cols": {
    "lenName": 16,
    "lenType": 16,
    "lenVar": 40
   },
   "kernels_config": {
    "python": {
     "delete_cmd_postfix": "",
     "delete_cmd_prefix": "del ",
     "library": "var_list.py",
     "varRefreshCmd": "print(var_dic_list())"
    },
    "r": {
     "delete_cmd_postfix": ") ",
     "delete_cmd_prefix": "rm(",
     "library": "var_list.r",
     "varRefreshCmd": "cat(var_dic_list()) "
    }
   },
   "types_to_exclude": [
    "module",
    "function",
    "builtin_function_or_method",
    "instance",
    "_Feature"
   ],
   "window_display": false
  }
 },
 "nbformat": 4,
 "nbformat_minor": 5
}
