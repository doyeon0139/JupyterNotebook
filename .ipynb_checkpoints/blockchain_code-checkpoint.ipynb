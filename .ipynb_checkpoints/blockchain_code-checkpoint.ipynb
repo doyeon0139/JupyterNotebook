{
 "cells": [
  {
   "cell_type": "code",
   "execution_count": 1,
   "id": "1b04bea9",
   "metadata": {},
   "outputs": [],
   "source": [
    "from flask import Flask, request, jsonify\n",
    "import json\n",
    "from time import time\n",
    "from textwrap import dedent\n",
    "from uuid import uuid4"
   ]
  },
  {
   "cell_type": "code",
   "execution_count": 2,
   "id": "8db8ee6f",
   "metadata": {},
   "outputs": [],
   "source": [
    "import hashlib\n",
    "import json"
   ]
  },
  {
   "cell_type": "code",
   "execution_count": 13,
   "id": "f0fc967e",
   "metadata": {},
   "outputs": [],
   "source": [
    "class BlockChain(object):\n",
    "    def __init__(self):\n",
    "        self.chain = []\n",
    "        self.current_transaction = []\n",
    "        self.nodes = set()\n",
    "        \n",
    "        self.new_block(previous_hash=1, proof=100)\n",
    "        \n",
    "    def new_transaction(self, sender, recipient, amount):\n",
    "        self.current_transaction.append(\n",
    "        {\n",
    "            'sender' : sender,\n",
    "            'recipient' : recipient,\n",
    "            'amount' : amount\n",
    "        }\n",
    "        )\n",
    "        return self.last_block['index'] + 1\n",
    "    \n",
    "    def new_block(self, previous_hash, proof):\n",
    "        block = {\n",
    "            'index' : len(self.chain) +1,\n",
    "            'timestamp' : self.current_transaction,\n",
    "            'proof' : proof,\n",
    "            'previous_hash' : previous_hash or self.hash(self.chain[-1])\n",
    "            \n",
    "        }\n",
    "        \n",
    "        self.current_transaction = []\n",
    "        \n",
    "        self.chain.append(block)\n",
    "        \n",
    "        return block\n",
    "    \n",
    "    def register_node(self, address):\n",
    "        parsed_url = urlparse(address)\n",
    "        self.nodes.add(parsed_url.netloc)\n",
    "        \n",
    "    def valid_chain(self, chain):\n",
    "        last_block = chain[0]\n",
    "        current_index =1\n",
    "        \n",
    "        while current_index < len(chain):\n",
    "            block = chain[current_index]\n",
    "            \n",
    "            if block['previous_hash'] != self.hash(last_block):\n",
    "                return False\n",
    "            last_block = block\n",
    "            current_index += 1\n",
    "            \n",
    "        return True\n",
    "    \n",
    "    def resolve_conflicts(self):\n",
    "        \n",
    "        neighbors = self.nodes\n",
    "        new_chain = None\n",
    "        \n",
    "        max_length = len(self.chain)\n",
    "        \n",
    "        for node in neighbors:\n",
    "            tmp_url = 'http://'+ str(node) + '/chain'\n",
    "            response = requests.get(tem_url)\n",
    "            \n",
    "            if response.status_code == 200:\n",
    "                length = response.json()['length']\n",
    "                chain = response.json()['chain']\n",
    "                \n",
    "                if length > max_length and self.valid_chain(chain):\n",
    "                    max_length = length\n",
    "                    new_chain = chain\n",
    "                    \n",
    "            if new_chain:\n",
    "                self.chain = new_chain\n",
    "                return True\n",
    "            \n",
    "            return False\n",
    "            \n",
    "    def hash(self, block):\n",
    "        block_string = json.dumps(block, sort_keys=True).encode()\n",
    "        return hashlib.sha256(block_string).hexdigest()\n",
    "    \n",
    "    def last_block(self):\n",
    "        return self.chain[-1]\n",
    "    \n",
    "    def pow(self, last_proof):\n",
    "        \n",
    "        proof=0\n",
    "        \n",
    "        while self.valid_proof(last_proof, proof) is False:\n",
    "            proof += 1\n",
    "            \n",
    "        return proof\n",
    "    \n",
    "    def valid_proof(last_proof, proof):\n",
    "        guess = str(last_proof + proof).encode()\n",
    "        guess_hash = hashlib.sha256(guess).hexdigest()\n",
    "        return guess_hash[:4] == '0000'"
   ]
  },
  {
   "cell_type": "code",
   "execution_count": 14,
   "id": "ff7a8ec8",
   "metadata": {},
   "outputs": [
    {
     "data": {
      "text/plain": [
       "'60095c8e-8a7a-4ba7-b3b3-5e54572d7646'"
      ]
     },
     "execution_count": 14,
     "metadata": {},
     "output_type": "execute_result"
    }
   ],
   "source": [
    "str(uuid4())   # 랜덤하게 유니크한 값을 나타냄"
   ]
  },
  {
   "cell_type": "code",
   "execution_count": 15,
   "id": "96dcd685",
   "metadata": {},
   "outputs": [
    {
     "ename": "SyntaxError",
     "evalue": "invalid syntax (Temp/ipykernel_7272/2913204735.py, line 53)",
     "output_type": "error",
     "traceback": [
      "\u001b[1;36m  File \u001b[1;32m\"C:\\Users\\bitcamp\\AppData\\Local\\Temp/ipykernel_7272/2913204735.py\"\u001b[1;36m, line \u001b[1;32m53\u001b[0m\n\u001b[1;33m    'total_nodes' : list(blockchain.nodes)\u001b[0m\n\u001b[1;37m                  ^\u001b[0m\n\u001b[1;31mSyntaxError\u001b[0m\u001b[1;31m:\u001b[0m invalid syntax\n"
     ]
    }
   ],
   "source": [
    "app = Flask(__name__)\n",
    "\n",
    "node_identifier = str(uuid4()).replace('-','')\n",
    "\n",
    "blockchain = BlockChain()\n",
    "\n",
    "@app.route('/mine', methods=['GET'])\n",
    "def mind():\n",
    "    last_block = bolockchain.last_block\n",
    "    last_block = last_block['proof']\n",
    "    \n",
    "    blockchain.new_transaction(\n",
    "        sender='0',\n",
    "        recipient = node_identifier,\n",
    "        amount = 1\n",
    "    )\n",
    "    \n",
    "    previous_hash = blockchain.hash(last_block)\n",
    "    block = blockchain.new_transaction(proof, previous_hash)\n",
    "    \n",
    "    response={\n",
    "        'message': 'new block fount',\n",
    "        'index' : block['index'],\n",
    "        'transactions' : block['transactions'],\n",
    "        'proof' : block['proof'],\n",
    "        'previous_hash' : block['previous_hash']\n",
    "    }\n",
    "    \n",
    "    return jsonfy(response), 200\n",
    "\n",
    "@app.route('/chain', methods['GET'])\n",
    "def full_chain():\n",
    "    response = {\n",
    "        'chain' : blockchain.chain,\n",
    "        'length' : len(blockchain.chain)\n",
    "    }\n",
    "    \n",
    "    return jsonify(response), 200\n",
    "\n",
    "@app.route('/nodes/register', methods=['POST'])\n",
    "def register_nodes():\n",
    "    values = request.get_json()\n",
    "    nodes = values.get('nodes')\n",
    "    \n",
    "    if nodes is None:\n",
    "        return 'Error : please supply a valid list of nodes', 400\n",
    "    \n",
    "    for node in nodes:\n",
    "        blockchain.register_nodes(node)\n",
    "        \n",
    "    response = {\n",
    "        'message' : 'New nodes have been added'\n",
    "        'total_nodes' : list(blockchain.nodes)\n",
    "    }\n",
    "    return jsonify(response), 201\n",
    "\n",
    "@app.route('/nodes/resolve', methods=['GET'])\n",
    "def consensus():\n",
    "    replaced = blockchain.resolve_conflicts()\n",
    "    \n",
    "    if replaced:\n",
    "        response = {\n",
    "            'message' : 'Our chain was replaced',\n",
    "            'new_chain' : blockchain.chain\n",
    "        }\n",
    "    else :\n",
    "        response = {\n",
    "            'message' : 'Our chain is valid',\n",
    "            'new_chain' : blockchain.chain\n",
    "        }\n",
    "        \n",
    "    return jsonify(response), 200\n",
    "\n"
   ]
  },
  {
   "cell_type": "code",
   "execution_count": null,
   "id": "f36837b1",
   "metadata": {},
   "outputs": [],
   "source": []
  },
  {
   "cell_type": "code",
   "execution_count": null,
   "id": "b7fecdc3",
   "metadata": {},
   "outputs": [],
   "source": []
  },
  {
   "cell_type": "code",
   "execution_count": null,
   "id": "916dfac1",
   "metadata": {},
   "outputs": [],
   "source": []
  },
  {
   "cell_type": "code",
   "execution_count": null,
   "id": "8ccd22b5",
   "metadata": {},
   "outputs": [],
   "source": []
  },
  {
   "cell_type": "code",
   "execution_count": null,
   "id": "25a825f4",
   "metadata": {},
   "outputs": [],
   "source": []
  },
  {
   "cell_type": "code",
   "execution_count": null,
   "id": "29c69af4",
   "metadata": {},
   "outputs": [],
   "source": []
  },
  {
   "cell_type": "code",
   "execution_count": null,
   "id": "0f28431e",
   "metadata": {},
   "outputs": [],
   "source": []
  },
  {
   "cell_type": "code",
   "execution_count": null,
   "id": "4c0783f2",
   "metadata": {},
   "outputs": [],
   "source": []
  },
  {
   "cell_type": "code",
   "execution_count": null,
   "id": "e2302e69",
   "metadata": {},
   "outputs": [],
   "source": []
  },
  {
   "cell_type": "code",
   "execution_count": null,
   "id": "60fe1c35",
   "metadata": {},
   "outputs": [],
   "source": []
  },
  {
   "cell_type": "code",
   "execution_count": null,
   "id": "991d5559",
   "metadata": {},
   "outputs": [],
   "source": []
  },
  {
   "cell_type": "code",
   "execution_count": null,
   "id": "580673f3",
   "metadata": {},
   "outputs": [],
   "source": []
  },
  {
   "cell_type": "code",
   "execution_count": null,
   "id": "8df70fb2",
   "metadata": {},
   "outputs": [],
   "source": []
  },
  {
   "cell_type": "code",
   "execution_count": null,
   "id": "747e6e1a",
   "metadata": {},
   "outputs": [],
   "source": []
  },
  {
   "cell_type": "code",
   "execution_count": null,
   "id": "9f44f274",
   "metadata": {},
   "outputs": [],
   "source": []
  },
  {
   "cell_type": "code",
   "execution_count": null,
   "id": "69cdbab6",
   "metadata": {},
   "outputs": [],
   "source": []
  },
  {
   "cell_type": "code",
   "execution_count": null,
   "id": "c62ec98c",
   "metadata": {},
   "outputs": [],
   "source": []
  },
  {
   "cell_type": "code",
   "execution_count": null,
   "id": "dcd3adaa",
   "metadata": {},
   "outputs": [],
   "source": []
  },
  {
   "cell_type": "code",
   "execution_count": null,
   "id": "b261619f",
   "metadata": {},
   "outputs": [],
   "source": []
  },
  {
   "cell_type": "code",
   "execution_count": null,
   "id": "d86662f2",
   "metadata": {},
   "outputs": [],
   "source": []
  },
  {
   "cell_type": "code",
   "execution_count": null,
   "id": "9b65789f",
   "metadata": {},
   "outputs": [],
   "source": []
  },
  {
   "cell_type": "code",
   "execution_count": null,
   "id": "a9530030",
   "metadata": {},
   "outputs": [],
   "source": []
  },
  {
   "cell_type": "code",
   "execution_count": null,
   "id": "c75e55b1",
   "metadata": {},
   "outputs": [],
   "source": []
  },
  {
   "cell_type": "code",
   "execution_count": null,
   "id": "601553d2",
   "metadata": {},
   "outputs": [],
   "source": []
  },
  {
   "cell_type": "code",
   "execution_count": null,
   "id": "e39394aa",
   "metadata": {},
   "outputs": [],
   "source": []
  },
  {
   "cell_type": "code",
   "execution_count": null,
   "id": "d9fecaaf",
   "metadata": {},
   "outputs": [],
   "source": []
  },
  {
   "cell_type": "code",
   "execution_count": null,
   "id": "a90a7097",
   "metadata": {},
   "outputs": [],
   "source": []
  },
  {
   "cell_type": "code",
   "execution_count": null,
   "id": "89b4a4ca",
   "metadata": {},
   "outputs": [],
   "source": []
  },
  {
   "cell_type": "code",
   "execution_count": null,
   "id": "986ebc0b",
   "metadata": {},
   "outputs": [],
   "source": []
  },
  {
   "cell_type": "code",
   "execution_count": null,
   "id": "3c6ffb9f",
   "metadata": {},
   "outputs": [],
   "source": []
  },
  {
   "cell_type": "code",
   "execution_count": null,
   "id": "74838265",
   "metadata": {},
   "outputs": [],
   "source": []
  },
  {
   "cell_type": "code",
   "execution_count": null,
   "id": "5039af3c",
   "metadata": {},
   "outputs": [],
   "source": []
  }
 ],
 "metadata": {
  "kernelspec": {
   "display_name": "Python 3 (ipykernel)",
   "language": "python",
   "name": "python3"
  },
  "language_info": {
   "codemirror_mode": {
    "name": "ipython",
    "version": 3
   },
   "file_extension": ".py",
   "mimetype": "text/x-python",
   "name": "python",
   "nbconvert_exporter": "python",
   "pygments_lexer": "ipython3",
   "version": "3.9.7"
  },
  "varInspector": {
   "cols": {
    "lenName": 16,
    "lenType": 16,
    "lenVar": 40
   },
   "kernels_config": {
    "python": {
     "delete_cmd_postfix": "",
     "delete_cmd_prefix": "del ",
     "library": "var_list.py",
     "varRefreshCmd": "print(var_dic_list())"
    },
    "r": {
     "delete_cmd_postfix": ") ",
     "delete_cmd_prefix": "rm(",
     "library": "var_list.r",
     "varRefreshCmd": "cat(var_dic_list()) "
    }
   },
   "types_to_exclude": [
    "module",
    "function",
    "builtin_function_or_method",
    "instance",
    "_Feature"
   ],
   "window_display": false
  }
 },
 "nbformat": 4,
 "nbformat_minor": 5
}
